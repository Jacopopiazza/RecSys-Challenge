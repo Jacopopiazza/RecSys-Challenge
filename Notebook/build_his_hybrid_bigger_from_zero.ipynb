{
 "cells": [
  {
   "cell_type": "code",
   "execution_count": 1,
   "metadata": {},
   "outputs": [],
   "source": [
    "import os\n",
    "os.chdir( \"../\")"
   ]
  },
  {
   "cell_type": "code",
   "execution_count": 2,
   "metadata": {},
   "outputs": [
    {
     "data": {
      "text/plain": [
       "8"
      ]
     },
     "execution_count": 2,
     "metadata": {},
     "output_type": "execute_result"
    }
   ],
   "source": [
    "import psutil\n",
    "num_cpus = psutil.cpu_count(logical=False)\n",
    "num_cpus \n"
   ]
  },
  {
   "cell_type": "code",
   "execution_count": 3,
   "metadata": {},
   "outputs": [
    {
     "data": {
      "text/html": [
       "<div>\n",
       "<style scoped>\n",
       "    .dataframe tbody tr th:only-of-type {\n",
       "        vertical-align: middle;\n",
       "    }\n",
       "\n",
       "    .dataframe tbody tr th {\n",
       "        vertical-align: top;\n",
       "    }\n",
       "\n",
       "    .dataframe thead th {\n",
       "        text-align: right;\n",
       "    }\n",
       "</style>\n",
       "<table border=\"1\" class=\"dataframe\">\n",
       "  <thead>\n",
       "    <tr style=\"text-align: right;\">\n",
       "      <th></th>\n",
       "      <th>UserID</th>\n",
       "      <th>ItemID</th>\n",
       "      <th>Interaction</th>\n",
       "    </tr>\n",
       "  </thead>\n",
       "  <tbody>\n",
       "    <tr>\n",
       "      <th>0</th>\n",
       "      <td>1</td>\n",
       "      <td>15</td>\n",
       "      <td>1.0</td>\n",
       "    </tr>\n",
       "    <tr>\n",
       "      <th>1</th>\n",
       "      <td>1</td>\n",
       "      <td>16</td>\n",
       "      <td>1.0</td>\n",
       "    </tr>\n",
       "    <tr>\n",
       "      <th>2</th>\n",
       "      <td>1</td>\n",
       "      <td>133</td>\n",
       "      <td>1.0</td>\n",
       "    </tr>\n",
       "    <tr>\n",
       "      <th>3</th>\n",
       "      <td>1</td>\n",
       "      <td>161</td>\n",
       "      <td>1.0</td>\n",
       "    </tr>\n",
       "    <tr>\n",
       "      <th>4</th>\n",
       "      <td>1</td>\n",
       "      <td>187</td>\n",
       "      <td>1.0</td>\n",
       "    </tr>\n",
       "    <tr>\n",
       "      <th>...</th>\n",
       "      <td>...</td>\n",
       "      <td>...</td>\n",
       "      <td>...</td>\n",
       "    </tr>\n",
       "    <tr>\n",
       "      <th>478724</th>\n",
       "      <td>13024</td>\n",
       "      <td>13605</td>\n",
       "      <td>1.0</td>\n",
       "    </tr>\n",
       "    <tr>\n",
       "      <th>478725</th>\n",
       "      <td>13024</td>\n",
       "      <td>13823</td>\n",
       "      <td>1.0</td>\n",
       "    </tr>\n",
       "    <tr>\n",
       "      <th>478726</th>\n",
       "      <td>13024</td>\n",
       "      <td>15122</td>\n",
       "      <td>1.0</td>\n",
       "    </tr>\n",
       "    <tr>\n",
       "      <th>478727</th>\n",
       "      <td>13024</td>\n",
       "      <td>18185</td>\n",
       "      <td>1.0</td>\n",
       "    </tr>\n",
       "    <tr>\n",
       "      <th>478728</th>\n",
       "      <td>13024</td>\n",
       "      <td>20014</td>\n",
       "      <td>1.0</td>\n",
       "    </tr>\n",
       "  </tbody>\n",
       "</table>\n",
       "<p>478729 rows × 3 columns</p>\n",
       "</div>"
      ],
      "text/plain": [
       "        UserID  ItemID  Interaction\n",
       "0            1      15          1.0\n",
       "1            1      16          1.0\n",
       "2            1     133          1.0\n",
       "3            1     161          1.0\n",
       "4            1     187          1.0\n",
       "...        ...     ...          ...\n",
       "478724   13024   13605          1.0\n",
       "478725   13024   13823          1.0\n",
       "478726   13024   15122          1.0\n",
       "478727   13024   18185          1.0\n",
       "478728   13024   20014          1.0\n",
       "\n",
       "[478729 rows x 3 columns]"
      ]
     },
     "execution_count": 3,
     "metadata": {},
     "output_type": "execute_result"
    }
   ],
   "source": [
    "import pandas as pd\n",
    "import numpy as np\n",
    "\n",
    "path = \"Dataset/data_train.csv\"\n",
    "df = pd.read_csv(filepath_or_buffer=path,\n",
    "                               sep=\",\",\n",
    "                               header=1,\n",
    "                               engine='python',\n",
    "                               names=['UserID', 'ItemID', 'Interaction'])\n",
    "\n",
    "metric_to_optimize=\"MAP\"\n",
    "\n",
    "df"
   ]
  },
  {
   "cell_type": "code",
   "execution_count": 4,
   "metadata": {},
   "outputs": [
    {
     "name": "stdout",
     "output_type": "stream",
     "text": [
      "Number of users: 12638, Number of Items: 22222, Min rating: 0.0, Max rating: 1.0\n"
     ]
    }
   ],
   "source": [
    "user_ids = df[\"UserID\"].unique().tolist()\n",
    "user2user_encoded = {x: i for i, x in enumerate(user_ids)}\n",
    "userencoded2user = {i: x for i, x in enumerate(user_ids)}\n",
    "item_ids = df[\"ItemID\"].unique().tolist()\n",
    "item2item_encoded = {x: i for i, x in enumerate(item_ids)}\n",
    "item_encoded2item = {i: x for i, x in enumerate(item_ids)}\n",
    "df[\"User\"] = df[\"UserID\"].map(user2user_encoded)\n",
    "df[\"Item\"] = df[\"ItemID\"].map(item2item_encoded)\n",
    "\n",
    "num_users = len(user2user_encoded)\n",
    "num_items = len(item_encoded2item)\n",
    "df[\"Interaction\"] = df[\"Interaction\"].values.astype(np.float32)\n",
    "\n",
    "# min and max ratings will be used to normalize the ratings later\n",
    "min_rating = 0.0\n",
    "max_rating = max(df[\"Interaction\"])\n",
    "\n",
    "print(\n",
    "    \"Number of users: {}, Number of Items: {}, Min rating: {}, Max rating: {}\".format(\n",
    "        num_users, num_items, min_rating, max_rating\n",
    "    )\n",
    ")"
   ]
  },
  {
   "cell_type": "code",
   "execution_count": 5,
   "metadata": {},
   "outputs": [],
   "source": [
    "userId_unique = df[\"UserID\"].unique()\n",
    "itemId_unique = df[\"ItemID\"].unique()"
   ]
  },
  {
   "cell_type": "code",
   "execution_count": 6,
   "metadata": {},
   "outputs": [
    {
     "name": "stdout",
     "output_type": "stream",
     "text": [
      "Warning: 226 (1.79 %) of 12638 users have no train items\n",
      "Warning: 2136 (16.90 %) of 12638 users have no sampled items\n",
      "Warning: 465 (3.68 %) of 12638 users have no train items\n",
      "Warning: 2624 (20.76 %) of 12638 users have no sampled items\n",
      "Warning: 240 (1.90 %) of 12638 users have no train items\n",
      "Warning: 2128 (16.84 %) of 12638 users have no sampled items\n",
      "Warning: 498 (3.94 %) of 12638 users have no train items\n",
      "Warning: 2567 (20.31 %) of 12638 users have no sampled items\n",
      "Warning: 198 (1.57 %) of 12638 users have no train items\n",
      "Warning: 2180 (17.25 %) of 12638 users have no sampled items\n",
      "Warning: 449 (3.55 %) of 12638 users have no train items\n",
      "Warning: 2594 (20.53 %) of 12638 users have no sampled items\n",
      "Warning: 216 (1.71 %) of 12638 users have no train items\n",
      "Warning: 2196 (17.38 %) of 12638 users have no sampled items\n",
      "Warning: 478 (3.78 %) of 12638 users have no train items\n",
      "Warning: 2613 (20.68 %) of 12638 users have no sampled items\n",
      "Warning: 189 (1.50 %) of 12638 users have no train items\n",
      "Warning: 2202 (17.42 %) of 12638 users have no sampled items\n",
      "Warning: 464 (3.67 %) of 12638 users have no train items\n",
      "Warning: 2535 (20.06 %) of 12638 users have no sampled items\n",
      "Warning: 223 (1.76 %) of 12638 users have no train items\n",
      "Warning: 2173 (17.19 %) of 12638 users have no sampled items\n",
      "Warning: 475 (3.76 %) of 12638 users have no train items\n",
      "Warning: 2581 (20.42 %) of 12638 users have no sampled items\n",
      "Warning: 216 (1.71 %) of 12638 users have no train items\n",
      "Warning: 2187 (17.30 %) of 12638 users have no sampled items\n",
      "Warning: 457 (3.62 %) of 12638 users have no train items\n",
      "Warning: 2601 (20.58 %) of 12638 users have no sampled items\n",
      "Warning: 216 (1.71 %) of 12638 users have no train items\n",
      "Warning: 2162 (17.11 %) of 12638 users have no sampled items\n",
      "Warning: 440 (3.48 %) of 12638 users have no train items\n",
      "Warning: 2618 (20.72 %) of 12638 users have no sampled items\n"
     ]
    }
   ],
   "source": [
    "from sklearn.model_selection import train_test_split\n",
    "from sklearn.model_selection import cross_val_score, KFold\n",
    "import numpy as np\n",
    "import scipy.sparse as sps\n",
    "from Data_manager.split_functions.split_train_validation_random_holdout import split_train_in_two_percentage_global_sample\n",
    "\n",
    "seeds = [\n",
    "    7315366, 9428914, 5564236, \n",
    "    3420043, 9223036, 851434, 3300082, 7899660, \n",
    "    2053768, 4305274, 3709256, 8795594, 1418903, \n",
    "    7428566, 157832\n",
    "]\n",
    "\n",
    "seeds = seeds[:num_cpus]\n",
    "\n",
    "urm_all = sps.coo_matrix((df[\"Interaction\"].values, \n",
    "                          (df[\"User\"].values, df[\"Item\"].values)))\n",
    "\n",
    "urm_train_validation = []\n",
    "urm_test = []\n",
    "urm_train = []\n",
    "urm_validation = []\n",
    "\n",
    "for i in range(len(seeds)):\n",
    "    a, b = split_train_in_two_percentage_global_sample(urm_all, train_percentage = 0.80,seed=seeds[i])\n",
    "    c, d = split_train_in_two_percentage_global_sample(a, train_percentage = 0.80,seed=seeds[i])\n",
    "    urm_train_validation.append(a)\n",
    "    urm_test.append(b)\n",
    "    urm_train.append(c)\n",
    "    urm_validation.append(d)\n",
    "\n"
   ]
  },
  {
   "cell_type": "code",
   "execution_count": 7,
   "metadata": {},
   "outputs": [
    {
     "name": "stdout",
     "output_type": "stream",
     "text": [
      "EvaluatorHoldout: Ignoring 2136 (16.9%) Users that have less than 1 test interactions\n",
      "EvaluatorHoldout: Ignoring 0 Users\n",
      "EvaluatorHoldout: Ignoring 2128 (16.8%) Users that have less than 1 test interactions\n",
      "EvaluatorHoldout: Ignoring 0 Users\n",
      "EvaluatorHoldout: Ignoring 2180 (17.2%) Users that have less than 1 test interactions\n",
      "EvaluatorHoldout: Ignoring 0 Users\n",
      "EvaluatorHoldout: Ignoring 2196 (17.4%) Users that have less than 1 test interactions\n",
      "EvaluatorHoldout: Ignoring 0 Users\n",
      "EvaluatorHoldout: Ignoring 2202 (17.4%) Users that have less than 1 test interactions\n",
      "EvaluatorHoldout: Ignoring 0 Users\n",
      "EvaluatorHoldout: Ignoring 2173 (17.2%) Users that have less than 1 test interactions\n",
      "EvaluatorHoldout: Ignoring 0 Users\n",
      "EvaluatorHoldout: Ignoring 2187 (17.3%) Users that have less than 1 test interactions\n",
      "EvaluatorHoldout: Ignoring 0 Users\n",
      "EvaluatorHoldout: Ignoring 2162 (17.1%) Users that have less than 1 test interactions\n",
      "EvaluatorHoldout: Ignoring 0 Users\n"
     ]
    }
   ],
   "source": [
    "from Evaluation.Evaluator import EvaluatorHoldout\n",
    "evaluator_test = []\n",
    "for u in urm_test:\n",
    "    evaluator_test.append(EvaluatorHoldout(u, cutoff_list=[10], ignore_users=[]))"
   ]
  },
  {
   "cell_type": "code",
   "execution_count": 8,
   "metadata": {},
   "outputs": [],
   "source": [
    "from Recommenders.KNN.ItemKNNCFRecommender import ItemKNNCFRecommender\n",
    "from Recommenders.MatrixFactorization.ImplicitIALSRecommender import ImplicitALSRecommender\n",
    "from Recommenders.GraphBased.RP3betaRecommender import RP3betaRecommender\n",
    "from Recommenders.GraphBased.P3alphaRecommender import P3alphaRecommender\n",
    "from Recommenders.SLIM.SLIMElasticNetRecommender import MultiThreadSLIM_SLIMElasticNetRecommender\n",
    "from Recommenders.MatrixFactorization.NMFRecommender import NMFRecommender\n",
    "from Recommenders.Recommender_import_list import *\n",
    "import optuna"
   ]
  },
  {
   "cell_type": "code",
   "execution_count": 9,
   "metadata": {},
   "outputs": [],
   "source": [
    "# Replace the following with your MySQL database connection details\n",
    "host = \"db-mysql-nyc3-14396-do-user-15539286-0.c.db.ondigitalocean.com\"\n",
    "port = 25060\n",
    "database_name = \"recsys_optuna\"\n",
    "username = \"doadmin\"\n",
    "password = \"AVNS_EIQ1D-GbDGJWZPsN3Mt\"\n",
    "\n",
    "# Create an SQLAlchemy engine\n",
    "mysql_url = f\"mysql+pymysql://{username}:{password}@{host}:{port}/{database_name}\"\n",
    "mysql_url\n",
    "storage = optuna.storages.RDBStorage(url=mysql_url)\n",
    "\n",
    "nmf_name = \"NMF8-FOLD\"\n",
    "knn_name = \"itemKNN10_DB\"\n",
    "slim_name = \"SLIM_EN10_DB\"\n",
    "rp3beta_name = \"RP3b10_DB\"\n",
    "p3alpha_name = \"P3a10_DB\"\n",
    "hybrid_name = \"HYBRID10_DB\"\n",
    "#nmf_study = optuna.load_study(study_name=nmf_name, storage=storage)\n",
    "#knn_study = optuna.load_study(study_name=knn_name, storage=storage)\n",
    "#slim_study = optuna.load_study(study_name=slim_name, storage=storage)\n",
    "#rp3beta_study = optuna.load_study(study_name=rp3beta_name, storage=storage)\n",
    "#p3alpha_study = optuna.load_study(study_name=p3alpha_name, storage=storage)\n",
    "#hybrid_study = optuna.load_study(study_name=hybrid_name, storage=storage)\n",
    "\n",
    "#studies = [nmf_study, knn_study, slim_study, rp3beta_study, p3alpha_study]\n",
    "#studies = [knn_study, slim_study, rp3beta_study, p3alpha_study]\n",
    "#recommenders_list = [\"Hybrid\", \"itemKNN\", \"RP3beta\", \"P3alpha\", \"NMF\", \"SLIM_EN\", \"TopPop\"]\n",
    "    "
   ]
  },
  {
   "cell_type": "code",
   "execution_count": 10,
   "metadata": {},
   "outputs": [],
   "source": [
    "metric_to_optimize = \"MAP\""
   ]
  },
  {
   "cell_type": "code",
   "execution_count": 11,
   "metadata": {},
   "outputs": [
    {
     "name": "stderr",
     "output_type": "stream",
     "text": [
      "[I 2024-01-08 21:18:50,531] A new study created in RDB with name: NMF8-FOLD\n"
     ]
    }
   ],
   "source": [
    "#import ProcessPoolExecutor\n",
    "from concurrent.futures import ProcessPoolExecutor\n",
    "\n",
    "nmf_study = optuna.create_study(study_name=nmf_name, direction=\"maximize\", storage=storage, load_if_exists=True)\n",
    "\n",
    "def run_fold(fold, **hyperparams):\n",
    "    recommender = NMFRecommender(urm_train_validation[fold])\n",
    "    recommender.fit(**hyperparams)\n",
    "\n",
    "    metric_result = evaluator_test[fold].evaluateRecommender(recommender)[0][metric_to_optimize].item()\n",
    "    res = {'Fold': fold, metric_to_optimize: metric_result, **hyperparams}\n",
    "    print(res)\n",
    "    return res\n",
    "\n",
    "def run_fold_wrapper(fold, hyperparams):\n",
    "    return run_fold(fold, **hyperparams)\n",
    "\n",
    "sum_map = lambda results: sum(item[metric_to_optimize] for item in results)\n",
    "\n",
    "\n",
    "def objective(trial):\n",
    "\n",
    "    params = {\n",
    "        \"num_factors\": trial.suggest_int(\"num_factors\",1, 1000),\n",
    "        \"l1_ratio\": trial.suggest_float(\"l1_ratio\",low = 0, high = 1),\n",
    "        \"init_type\" : trial.suggest_categorical(\"init_type\",[\"random\", \"nndsvda\"]),\n",
    "        \"beta_loss\": trial.suggest_categorical(\"beta_loss\",[\"frobenius\", \"kullback-leibler\"]),\n",
    "    }\n",
    "\n",
    "    with ProcessPoolExecutor(max_workers=num_cpus) as executor:\n",
    "        # Submit all tasks to the process pool and wait for them to complete\n",
    "        #fold_results = list(executor.map(lambda fold: run_fold(fold, **current_fit_hyperparameters_dict), range(len(seeds))))\n",
    "        fold_results = list(executor.map(run_fold_wrapper, range(len(seeds)), [params]*len(seeds)))\n",
    "    print(fold_results)\n",
    "    average_score = sum_map(fold_results) / len(fold_results)\n",
    "    return average_score"
   ]
  },
  {
   "cell_type": "code",
   "execution_count": 12,
   "metadata": {},
   "outputs": [
    {
     "name": "stdout",
     "output_type": "stream",
     "text": [
      "NMFRecommender: URM Detected 226 ( 1.8%) users with no interactions.NMFRecommender: URM Detected 240 ( 1.9%) users with no interactions.NMFRecommender: URM Detected 198 ( 1.6%) users with no interactions.NMFRecommender: URM Detected 189 ( 1.5%) users with no interactions.NMFRecommender: URM Detected 216 ( 1.7%) users with no interactions.\n",
      "\n",
      "NMFRecommender: URM Detected 216 ( 1.7%) users with no interactions.NMFRecommender: URM Detected 223 ( 1.8%) users with no interactions.NMFRecommender: URM Detected 216 ( 1.7%) users with no interactions.\n",
      "\n",
      "\n",
      "\n",
      "\n",
      "\n",
      "NMFRecommender: URM Detected 121 ( 0.5%) items with no interactions.NMFRecommender: URM Detected 90 ( 0.4%) items with no interactions.NMFRecommender: URM Detected 108 ( 0.5%) items with no interactions.\n",
      "\n",
      "NMFRecommender: URM Detected 111 ( 0.5%) items with no interactions.\n",
      "NMFRecommender: URM Detected 112 ( 0.5%) items with no interactions.NMFRecommender: URM Detected 121 ( 0.5%) items with no interactions.NMFRecommender: URM Detected 118 ( 0.5%) items with no interactions.NMFRecommender: URM Detected 115 ( 0.5%) items with no interactions.NMFRecommender: Computing NMF decomposition...\n",
      "\n",
      "\n",
      "\n",
      "\n",
      "\n",
      "NMFRecommender: Computing NMF decomposition...NMFRecommender: Computing NMF decomposition...NMFRecommender: Computing NMF decomposition...NMFRecommender: Computing NMF decomposition...NMFRecommender: Computing NMF decomposition...NMFRecommender: Computing NMF decomposition...\n",
      "\n",
      "\n",
      "\n",
      "NMFRecommender: Computing NMF decomposition...\n",
      "\n",
      "\n",
      "NMFRecommender: Computing NMF decomposition... done in 2.68 min\n",
      "NMFRecommender: Computing NMF decomposition... done in 2.73 min\n",
      "NMFRecommender: Computing NMF decomposition... done in 2.74 min\n",
      "NMFRecommender: Computing NMF decomposition... done in 2.80 min\n",
      "NMFRecommender: Computing NMF decomposition... done in 2.90 min\n",
      "EvaluatorHoldout: Processed 10458 (100.0%) in 14.21 sec. Users per second: 736\n",
      "{'Fold': 2, 'MAP': 0.03013137204904297, 'num_factors': 254, 'l1_ratio': 0.9617319958745, 'init_type': 'nndsvda', 'beta_loss': 'frobenius'}\n",
      "NMFRecommender: Computing NMF decomposition... done in 2.93 min\n",
      "EvaluatorHoldout: Processed 10442 (100.0%) in 13.25 sec. Users per second: 788\n",
      "{'Fold': 3, 'MAP': 0.029669310902551833, 'num_factors': 254, 'l1_ratio': 0.9617319958745, 'init_type': 'nndsvda', 'beta_loss': 'frobenius'}\n",
      "EvaluatorHoldout: Processed 10476 (100.0%) in 12.61 sec. Users per second: 830\n",
      "{'Fold': 7, 'MAP': 0.029985261095656496, 'num_factors': 254, 'l1_ratio': 0.9617319958745, 'init_type': 'nndsvda', 'beta_loss': 'frobenius'}\n",
      "EvaluatorHoldout: Processed 10465 (100.0%) in 11.93 sec. Users per second: 877\n",
      "{'Fold': 5, 'MAP': 0.02970568182679998, 'num_factors': 254, 'l1_ratio': 0.9617319958745, 'init_type': 'nndsvda', 'beta_loss': 'frobenius'}\n",
      "EvaluatorHoldout: Processed 10502 (100.0%) in 7.83 sec. Users per second: 1341EvaluatorHoldout: Processed 10510 (100.0%) in 9.61 sec. Users per second: 1094\n",
      "\n",
      "{'Fold': 0, 'MAP': 0.030909565978362648, 'num_factors': 254, 'l1_ratio': 0.9617319958745, 'init_type': 'nndsvda', 'beta_loss': 'frobenius'}\n",
      "{'Fold': 1, 'MAP': 0.029435171340975556, 'num_factors': 254, 'l1_ratio': 0.9617319958745, 'init_type': 'nndsvda', 'beta_loss': 'frobenius'}\n",
      "NMFRecommender: Computing NMF decomposition... done in 3.06 min\n",
      "NMFRecommender: Computing NMF decomposition... done in 3.07 min\n",
      "EvaluatorHoldout: Processed 10451 (100.0%) in 4.16 sec. Users per second: 2510\n",
      "{'Fold': 6, 'MAP': 0.031099385947726065, 'num_factors': 254, 'l1_ratio': 0.9617319958745, 'init_type': 'nndsvda', 'beta_loss': 'frobenius'}\n",
      "EvaluatorHoldout: Processed 10436 (100.0%) in 4.13 sec. Users per second: 2527\n",
      "{'Fold': 4, 'MAP': 0.029696745697129125, 'num_factors': 254, 'l1_ratio': 0.9617319958745, 'init_type': 'nndsvda', 'beta_loss': 'frobenius'}\n",
      "[{'Fold': 0, 'MAP': 0.030909565978362648, 'num_factors': 254, 'l1_ratio': 0.9617319958745, 'init_type': 'nndsvda', 'beta_loss': 'frobenius'}, {'Fold': 1, 'MAP': 0.029435171340975556, 'num_factors': 254, 'l1_ratio': 0.9617319958745, 'init_type': 'nndsvda', 'beta_loss': 'frobenius'}, {'Fold': 2, 'MAP': 0.03013137204904297, 'num_factors': 254, 'l1_ratio': 0.9617319958745, 'init_type': 'nndsvda', 'beta_loss': 'frobenius'}, {'Fold': 3, 'MAP': 0.029669310902551833, 'num_factors': 254, 'l1_ratio': 0.9617319958745, 'init_type': 'nndsvda', 'beta_loss': 'frobenius'}, {'Fold': 4, 'MAP': 0.029696745697129125, 'num_factors': 254, 'l1_ratio': 0.9617319958745, 'init_type': 'nndsvda', 'beta_loss': 'frobenius'}, {'Fold': 5, 'MAP': 0.02970568182679998, 'num_factors': 254, 'l1_ratio': 0.9617319958745, 'init_type': 'nndsvda', 'beta_loss': 'frobenius'}, {'Fold': 6, 'MAP': 0.031099385947726065, 'num_factors': 254, 'l1_ratio': 0.9617319958745, 'init_type': 'nndsvda', 'beta_loss': 'frobenius'}, {'Fold': 7, 'MAP': 0.029985261095656496, 'num_factors': 254, 'l1_ratio': 0.9617319958745, 'init_type': 'nndsvda', 'beta_loss': 'frobenius'}]\n"
     ]
    },
    {
     "name": "stderr",
     "output_type": "stream",
     "text": [
      "[I 2024-01-08 21:22:12,667] Trial 0 finished with value: 0.030079061854780584 and parameters: {'num_factors': 254, 'l1_ratio': 0.9617319958745, 'init_type': 'nndsvda', 'beta_loss': 'frobenius'}. Best is trial 0 with value: 0.030079061854780584.\n"
     ]
    },
    {
     "name": "stdout",
     "output_type": "stream",
     "text": [
      "NMFRecommender: URM Detected 198 ( 1.6%) users with no interactions.NMFRecommender: URM Detected 189 ( 1.5%) users with no interactions.NMFRecommender: URM Detected 226 ( 1.8%) users with no interactions.NMFRecommender: URM Detected 216 ( 1.7%) users with no interactions.NMFRecommender: URM Detected 216 ( 1.7%) users with no interactions.NMFRecommender: URM Detected 240 ( 1.9%) users with no interactions.NMFRecommender: URM Detected 223 ( 1.8%) users with no interactions.NMFRecommender: URM Detected 216 ( 1.7%) users with no interactions.\n",
      "\n",
      "\n",
      "\n",
      "\n",
      "\n",
      "\n",
      "\n",
      "NMFRecommender: URM Detected 115 ( 0.5%) items with no interactions.NMFRecommender: URM Detected 111 ( 0.5%) items with no interactions.NMFRecommender: URM Detected 121 ( 0.5%) items with no interactions.NMFRecommender: URM Detected 118 ( 0.5%) items with no interactions.NMFRecommender: URM Detected 112 ( 0.5%) items with no interactions.NMFRecommender: URM Detected 121 ( 0.5%) items with no interactions.NMFRecommender: URM Detected 90 ( 0.4%) items with no interactions.\n",
      "NMFRecommender: URM Detected 108 ( 0.5%) items with no interactions.\n",
      "\n",
      "\n",
      "\n",
      "\n",
      "\n",
      "NMFRecommender: Computing NMF decomposition...\n",
      "NMFRecommender: Computing NMF decomposition...NMFRecommender: Computing NMF decomposition...NMFRecommender: Computing NMF decomposition...NMFRecommender: Computing NMF decomposition...NMFRecommender: Computing NMF decomposition...\n",
      "NMFRecommender: Computing NMF decomposition...\n",
      "\n",
      "\n",
      "\n",
      "\n",
      "NMFRecommender: Computing NMF decomposition...\n",
      "\n",
      "NMFRecommender: Computing NMF decomposition... done in 6.18 min\n",
      "EvaluatorHoldout: Processed 10465 (100.0%) in 14.37 sec. Users per second: 728\n",
      "{'Fold': 5, 'MAP': 0.02898598502946345, 'num_factors': 694, 'l1_ratio': 0.78196543703982, 'init_type': 'nndsvda', 'beta_loss': 'frobenius'}\n",
      "NMFRecommender: Computing NMF decomposition... done in 6.64 min\n",
      "NMFRecommender: Computing NMF decomposition... done in 6.68 min\n",
      "NMFRecommender: Computing NMF decomposition... done in 6.73 min\n",
      "NMFRecommender: Computing NMF decomposition... done in 6.75 min\n",
      "EvaluatorHoldout: Processed 10502 (100.0%) in 14.02 sec. Users per second: 749\n",
      "{'Fold': 0, 'MAP': 0.0298586399264844, 'num_factors': 694, 'l1_ratio': 0.78196543703982, 'init_type': 'nndsvda', 'beta_loss': 'frobenius'}\n",
      "EvaluatorHoldout: Processed 10510 (100.0%) in 12.57 sec. Users per second: 836\n",
      "{'Fold': 1, 'MAP': 0.028594026097594254, 'num_factors': 694, 'l1_ratio': 0.78196543703982, 'init_type': 'nndsvda', 'beta_loss': 'frobenius'}\n",
      "EvaluatorHoldout: Processed 10436 (100.0%) in 11.66 sec. Users per second: 895\n",
      "{'Fold': 4, 'MAP': 0.028433642397805086, 'num_factors': 694, 'l1_ratio': 0.78196543703982, 'init_type': 'nndsvda', 'beta_loss': 'frobenius'}\n",
      "EvaluatorHoldout: Processed 10442 (100.0%) in 11.41 sec. Users per second: 915\n",
      "{'Fold': 3, 'MAP': 0.029229618330125988, 'num_factors': 694, 'l1_ratio': 0.78196543703982, 'init_type': 'nndsvda', 'beta_loss': 'frobenius'}\n",
      "NMFRecommender: Computing NMF decomposition... done in 7.01 min\n",
      "NMFRecommender: Computing NMF decomposition... done in 7.01 min\n",
      "EvaluatorHoldout: Processed 10476 (100.0%) in 5.73 sec. Users per second: 1829\n",
      "{'Fold': 7, 'MAP': 0.028395898864828028, 'num_factors': 694, 'l1_ratio': 0.78196543703982, 'init_type': 'nndsvda', 'beta_loss': 'frobenius'}\n",
      "EvaluatorHoldout: Processed 10451 (100.0%) in 5.52 sec. Users per second: 1894\n",
      "{'Fold': 6, 'MAP': 0.030149302185710533, 'num_factors': 694, 'l1_ratio': 0.78196543703982, 'init_type': 'nndsvda', 'beta_loss': 'frobenius'}\n",
      "NMFRecommender: Computing NMF decomposition... done in 7.19 min\n",
      "EvaluatorHoldout: Processed 10458 (100.0%) in 3.93 sec. Users per second: 2661\n",
      "{'Fold': 2, 'MAP': 0.02960933681817239, 'num_factors': 694, 'l1_ratio': 0.78196543703982, 'init_type': 'nndsvda', 'beta_loss': 'frobenius'}\n",
      "[{'Fold': 0, 'MAP': 0.0298586399264844, 'num_factors': 694, 'l1_ratio': 0.78196543703982, 'init_type': 'nndsvda', 'beta_loss': 'frobenius'}, {'Fold': 1, 'MAP': 0.028594026097594254, 'num_factors': 694, 'l1_ratio': 0.78196543703982, 'init_type': 'nndsvda', 'beta_loss': 'frobenius'}, {'Fold': 2, 'MAP': 0.02960933681817239, 'num_factors': 694, 'l1_ratio': 0.78196543703982, 'init_type': 'nndsvda', 'beta_loss': 'frobenius'}, {'Fold': 3, 'MAP': 0.029229618330125988, 'num_factors': 694, 'l1_ratio': 0.78196543703982, 'init_type': 'nndsvda', 'beta_loss': 'frobenius'}, {'Fold': 4, 'MAP': 0.028433642397805086, 'num_factors': 694, 'l1_ratio': 0.78196543703982, 'init_type': 'nndsvda', 'beta_loss': 'frobenius'}, {'Fold': 5, 'MAP': 0.02898598502946345, 'num_factors': 694, 'l1_ratio': 0.78196543703982, 'init_type': 'nndsvda', 'beta_loss': 'frobenius'}, {'Fold': 6, 'MAP': 0.030149302185710533, 'num_factors': 694, 'l1_ratio': 0.78196543703982, 'init_type': 'nndsvda', 'beta_loss': 'frobenius'}, {'Fold': 7, 'MAP': 0.028395898864828028, 'num_factors': 694, 'l1_ratio': 0.78196543703982, 'init_type': 'nndsvda', 'beta_loss': 'frobenius'}]\n"
     ]
    },
    {
     "name": "stderr",
     "output_type": "stream",
     "text": [
      "[I 2024-01-08 21:29:41,175] Trial 1 finished with value: 0.029157056206273013 and parameters: {'num_factors': 694, 'l1_ratio': 0.78196543703982, 'init_type': 'nndsvda', 'beta_loss': 'frobenius'}. Best is trial 0 with value: 0.030079061854780584.\n"
     ]
    },
    {
     "name": "stdout",
     "output_type": "stream",
     "text": [
      "NMFRecommender: URM Detected 198 ( 1.6%) users with no interactions.NMFRecommender: URM Detected 223 ( 1.8%) users with no interactions.NMFRecommender: URM Detected 226 ( 1.8%) users with no interactions.NMFRecommender: URM Detected 189 ( 1.5%) users with no interactions.NMFRecommender: URM Detected 240 ( 1.9%) users with no interactions.NMFRecommender: URM Detected 216 ( 1.7%) users with no interactions.NMFRecommender: URM Detected 216 ( 1.7%) users with no interactions.NMFRecommender: URM Detected 216 ( 1.7%) users with no interactions.\n",
      "\n",
      "\n",
      "\n",
      "\n",
      "\n",
      "\n",
      "\n",
      "NMFRecommender: URM Detected 121 ( 0.5%) items with no interactions.NMFRecommender: URM Detected 108 ( 0.5%) items with no interactions.NMFRecommender: URM Detected 111 ( 0.5%) items with no interactions.NMFRecommender: URM Detected 90 ( 0.4%) items with no interactions.NMFRecommender: URM Detected 118 ( 0.5%) items with no interactions.NMFRecommender: URM Detected 112 ( 0.5%) items with no interactions.NMFRecommender: URM Detected 115 ( 0.5%) items with no interactions.NMFRecommender: URM Detected 121 ( 0.5%) items with no interactions.\n",
      "\n",
      "\n",
      "\n",
      "\n",
      "\n",
      "\n",
      "\n",
      "NMFRecommender: Computing NMF decomposition...NMFRecommender: Computing NMF decomposition...NMFRecommender: Computing NMF decomposition...NMFRecommender: Computing NMF decomposition...NMFRecommender: Computing NMF decomposition...NMFRecommender: Computing NMF decomposition...NMFRecommender: Computing NMF decomposition...NMFRecommender: Computing NMF decomposition...\n",
      "\n",
      "\n",
      "\n",
      "\n",
      "\n",
      "\n",
      "\n",
      "NMFRecommender: Computing NMF decomposition... done in 20.17 min\n",
      "NMFRecommender: Computing NMF decomposition... done in 20.22 min\n",
      "EvaluatorHoldout: Processed 10458 (100.0%) in 6.76 sec. Users per second: 1548\n",
      "{'Fold': 2, 'MAP': 0.01165981006414161, 'num_factors': 827, 'l1_ratio': 0.24089409927786376, 'init_type': 'random', 'beta_loss': 'kullback-leibler'}\n",
      "NMFRecommender: Computing NMF decomposition... done in 20.30 min\n",
      "EvaluatorHoldout: Processed 10502 (100.0%) in 6.62 sec. Users per second: 1586\n",
      "{'Fold': 0, 'MAP': 0.01206998742491976, 'num_factors': 827, 'l1_ratio': 0.24089409927786376, 'init_type': 'random', 'beta_loss': 'kullback-leibler'}\n",
      "EvaluatorHoldout: Processed 10510 (100.0%) in 6.14 sec. Users per second: 1713\n",
      "{'Fold': 1, 'MAP': 0.013157442647214272, 'num_factors': 827, 'l1_ratio': 0.24089409927786376, 'init_type': 'random', 'beta_loss': 'kullback-leibler'}\n",
      "NMFRecommender: Computing NMF decomposition... done in 20.77 min\n",
      "NMFRecommender: Computing NMF decomposition... done in 20.85 min\n",
      "EvaluatorHoldout: Processed 10436 (100.0%) in 5.33 sec. Users per second: 1956\n",
      "{'Fold': 4, 'MAP': 0.01301693390400746, 'num_factors': 827, 'l1_ratio': 0.24089409927786376, 'init_type': 'random', 'beta_loss': 'kullback-leibler'}\n",
      "EvaluatorHoldout: Processed 10442 (100.0%) in 5.03 sec. Users per second: 2078\n",
      "{'Fold': 3, 'MAP': 0.012067463357685508, 'num_factors': 827, 'l1_ratio': 0.24089409927786376, 'init_type': 'random', 'beta_loss': 'kullback-leibler'}\n",
      "NMFRecommender: Computing NMF decomposition... done in 20.94 min\n",
      "EvaluatorHoldout: Processed 10476 (100.0%) in 4.69 sec. Users per second: 2233\n",
      "{'Fold': 7, 'MAP': 0.011188029176288042, 'num_factors': 827, 'l1_ratio': 0.24089409927786376, 'init_type': 'random', 'beta_loss': 'kullback-leibler'}\n",
      "NMFRecommender: Computing NMF decomposition... done in 21.29 min\n",
      "NMFRecommender: Computing NMF decomposition... done in 21.36 min\n",
      "EvaluatorHoldout: Processed 10451 (100.0%) in 4.49 sec. Users per second: 2327\n",
      "{'Fold': 6, 'MAP': 0.012004235943093428, 'num_factors': 827, 'l1_ratio': 0.24089409927786376, 'init_type': 'random', 'beta_loss': 'kullback-leibler'}\n",
      "EvaluatorHoldout: Processed 10465 (100.0%) in 4.08 sec. Users per second: 2563\n",
      "{'Fold': 5, 'MAP': 0.012484930873129598, 'num_factors': 827, 'l1_ratio': 0.24089409927786376, 'init_type': 'random', 'beta_loss': 'kullback-leibler'}\n",
      "[{'Fold': 0, 'MAP': 0.01206998742491976, 'num_factors': 827, 'l1_ratio': 0.24089409927786376, 'init_type': 'random', 'beta_loss': 'kullback-leibler'}, {'Fold': 1, 'MAP': 0.013157442647214272, 'num_factors': 827, 'l1_ratio': 0.24089409927786376, 'init_type': 'random', 'beta_loss': 'kullback-leibler'}, {'Fold': 2, 'MAP': 0.01165981006414161, 'num_factors': 827, 'l1_ratio': 0.24089409927786376, 'init_type': 'random', 'beta_loss': 'kullback-leibler'}, {'Fold': 3, 'MAP': 0.012067463357685508, 'num_factors': 827, 'l1_ratio': 0.24089409927786376, 'init_type': 'random', 'beta_loss': 'kullback-leibler'}, {'Fold': 4, 'MAP': 0.01301693390400746, 'num_factors': 827, 'l1_ratio': 0.24089409927786376, 'init_type': 'random', 'beta_loss': 'kullback-leibler'}, {'Fold': 5, 'MAP': 0.012484930873129598, 'num_factors': 827, 'l1_ratio': 0.24089409927786376, 'init_type': 'random', 'beta_loss': 'kullback-leibler'}, {'Fold': 6, 'MAP': 0.012004235943093428, 'num_factors': 827, 'l1_ratio': 0.24089409927786376, 'init_type': 'random', 'beta_loss': 'kullback-leibler'}, {'Fold': 7, 'MAP': 0.011188029176288042, 'num_factors': 827, 'l1_ratio': 0.24089409927786376, 'init_type': 'random', 'beta_loss': 'kullback-leibler'}]\n"
     ]
    },
    {
     "name": "stderr",
     "output_type": "stream",
     "text": [
      "[I 2024-01-08 21:51:19,626] Trial 2 finished with value: 0.012206104173809958 and parameters: {'num_factors': 827, 'l1_ratio': 0.24089409927786376, 'init_type': 'random', 'beta_loss': 'kullback-leibler'}. Best is trial 0 with value: 0.030079061854780584.\n"
     ]
    },
    {
     "name": "stdout",
     "output_type": "stream",
     "text": [
      "NMFRecommender: URM Detected 226 ( 1.8%) users with no interactions.NMFRecommender: URM Detected 189 ( 1.5%) users with no interactions.NMFRecommender: URM Detected 223 ( 1.8%) users with no interactions.NMFRecommender: URM Detected 216 ( 1.7%) users with no interactions.NMFRecommender: URM Detected 216 ( 1.7%) users with no interactions.\n",
      "\n",
      "\n",
      "NMFRecommender: URM Detected 198 ( 1.6%) users with no interactions.NMFRecommender: URM Detected 240 ( 1.9%) users with no interactions.NMFRecommender: URM Detected 216 ( 1.7%) users with no interactions.\n",
      "\n",
      "\n",
      "\n",
      "\n",
      "NMFRecommender: URM Detected 112 ( 0.5%) items with no interactions.NMFRecommender: URM Detected 121 ( 0.5%) items with no interactions.\n",
      "NMFRecommender: URM Detected 118 ( 0.5%) items with no interactions.NMFRecommender: URM Detected 90 ( 0.4%) items with no interactions.NMFRecommender: URM Detected 121 ( 0.5%) items with no interactions.\n",
      "NMFRecommender: URM Detected 115 ( 0.5%) items with no interactions.NMFRecommender: URM Detected 108 ( 0.5%) items with no interactions.NMFRecommender: Computing NMF decomposition...NMFRecommender: URM Detected 111 ( 0.5%) items with no interactions.\n",
      "\n",
      "\n",
      "NMFRecommender: Computing NMF decomposition...\n",
      "\n",
      "\n",
      "NMFRecommender: Computing NMF decomposition...\n",
      "NMFRecommender: Computing NMF decomposition...\n",
      "NMFRecommender: Computing NMF decomposition...NMFRecommender: Computing NMF decomposition...NMFRecommender: Computing NMF decomposition...\n",
      "NMFRecommender: Computing NMF decomposition...\n",
      "\n",
      "\n",
      "\n",
      "\n"
     ]
    }
   ],
   "source": [
    "nmf_study.enqueue_trial({\"num_factors\": 254, \"l1_ratio\": 0.9617319958745, \"init_type\": \"nndsvda\", \"beta_loss\": \"frobenius\"})\n",
    "nmf_study.optimize(objective, n_trials=100)"
   ]
  },
  {
   "cell_type": "code",
   "execution_count": 23,
   "metadata": {},
   "outputs": [
    {
     "name": "stdout",
     "output_type": "stream",
     "text": [
      "TopPopRecommender: URM Detected 229 ( 1.8%) users with no interactions.\n",
      "TopPopRecommender: URM Detected 126 ( 0.6%) items with no interactions.\n",
      "ITEMKNN...\n",
      "Similarity column 22222 (100.0%), 12576.16 column/sec. Elapsed time 1.77 sec\n",
      "RP3BETA...\n",
      "P3ALPHA...\n",
      "SLIM...\n",
      "NMF...\n",
      "TopPop...\n",
      "HYBRID...\n",
      "CPU times: user 2min 52s, sys: 4min 7s, total: 6min 59s\n",
      "Wall time: 1min 13s\n"
     ]
    }
   ],
   "source": [
    "%%time\n",
    "\n",
    "index = 0\n",
    "\n",
    "item_knn_recommender = ItemKNNCFRecommender(urm_train_validation[index], verbose=False)\n",
    "RP3beta_recommender = RP3betaRecommender(urm_train_validation[index], verbose=False)\n",
    "P3alpha_recommender = P3alphaRecommender(urm_train_validation[index], verbose=False)\n",
    "SLIM_EN_recommender = MultiThreadSLIM_SLIMElasticNetRecommender(urm_train_validation[index], verbose=False)\n",
    "NMF_recommender = NMFRecommender(urm_train_validation[index], verbose=False)\n",
    "TopPop_recommender = TopPop(urm_train_validation[index])\n",
    "print(\"ITEMKNN...\")\n",
    "item_knn_recommender.fit(shrink=knn_study.best_params[\"shrink\"], topK=knn_study.best_params[\"topK\"])\n",
    "print(\"RP3BETA...\")\n",
    "RP3beta_recommender.fit(alpha=rp3beta_study.best_params[\"alpha\"], beta=rp3beta_study.best_params[\"beta\"], topK=rp3beta_study.best_params[\"topK\"])\n",
    "print(\"P3ALPHA...\")\n",
    "P3alpha_recommender.fit(topK=p3alpha_study.best_params[\"topK\"], alpha=p3alpha_study.best_params[\"alpha\"])\n",
    "print(\"SLIM...\")\n",
    "SLIM_EN_recommender.fit(workers=12,topK=slim_study.best_params[\"topK\"], l1_ratio=slim_study.best_params[\"l1_ratio\"], alpha=slim_study.best_params[\"alpha\"], verbose=False)\n",
    "print(\"NMF...\")\n",
    "NMF_recommender.fit(num_factors = nmf_study.best_params[\"factors\"], l1_ratio = nmf_study.best_params[\"l1_ratio\"], init_type = nmf_study.best_params[\"init\"], beta_loss = nmf_study.best_params[\"beta_loss\"])\n",
    "print(\"TopPop...\")\n",
    "TopPop_recommender.fit()\n",
    "\n",
    "recommenders = {\n",
    "    \"SLIM_EN\" : SLIM_EN_recommender,\n",
    "    \"RP3beta\" : RP3beta_recommender,\n",
    "    \"itemKNN\" : item_knn_recommender,\n",
    "    \"P3alpha\" : P3alpha_recommender,\n",
    "    \"NMF\" : NMF_recommender,\n",
    "}\n",
    "print(\"HYBRID...\")\n",
    "hybrid_recommender = GeneralizedLinearHybridRecommender(urm_train_validation[index], list(recommenders.values()), verbose=False)\n",
    "hybrid_recommender.fit([hybrid_study.best_params['weight_{}'.format(i) ] for i, study in enumerate(studies)])"
   ]
  },
  {
   "cell_type": "code",
   "execution_count": 24,
   "metadata": {},
   "outputs": [
    {
     "name": "stdout",
     "output_type": "stream",
     "text": [
      "EvaluatorHoldout: Processed 10472 (100.0%) in 6.59 sec. Users per second: 1590\n"
     ]
    },
    {
     "data": {
      "text/plain": [
       "0.05167748917748976"
      ]
     },
     "execution_count": 24,
     "metadata": {},
     "output_type": "execute_result"
    }
   ],
   "source": [
    "evaluator_test[index].evaluateRecommender(hybrid_recommender)[0][\"MAP\"].item()"
   ]
  },
  {
   "cell_type": "code",
   "execution_count": 31,
   "metadata": {},
   "outputs": [
    {
     "name": "stdout",
     "output_type": "stream",
     "text": [
      "ITEMKNN...\n",
      "Similarity column 22222 (100.0%), 7476.89 column/sec. Elapsed time 2.97 sec\n",
      "RP3BETA...\n",
      "P3ALPHA...\n",
      "SLIM...\n",
      "NMF...\n",
      "TopPop...\n",
      "HYBRID...\n",
      "CPU times: user 21.4 s, sys: 0 ns, total: 21.4 s\n",
      "Wall time: 1min 8s\n"
     ]
    }
   ],
   "source": [
    "%%time\n",
    "\n",
    "index = 0\n",
    "\n",
    "item_knn_recommender = ItemKNNCFRecommender(urm_all, verbose=False)\n",
    "RP3beta_recommender = RP3betaRecommender(urm_all, verbose=False)\n",
    "P3alpha_recommender = P3alphaRecommender(urm_all, verbose=False)\n",
    "SLIM_EN_recommender = MultiThreadSLIM_SLIMElasticNetRecommender(urm_all, verbose=False)\n",
    "NMF_recommender = NMFRecommender(urm_all, verbose=False)\n",
    "TopPop_recommender = TopPop(urm_all)\n",
    "print(\"ITEMKNN...\")\n",
    "item_knn_recommender.fit(shrink=knn_study.best_params[\"shrink\"], topK=knn_study.best_params[\"topK\"])\n",
    "print(\"RP3BETA...\")\n",
    "RP3beta_recommender.fit(alpha=rp3beta_study.best_params[\"alpha\"], beta=rp3beta_study.best_params[\"beta\"], topK=rp3beta_study.best_params[\"topK\"])\n",
    "print(\"P3ALPHA...\")\n",
    "P3alpha_recommender.fit(topK=p3alpha_study.best_params[\"topK\"], alpha=p3alpha_study.best_params[\"alpha\"])\n",
    "print(\"SLIM...\")\n",
    "SLIM_EN_recommender.fit(workers=12,topK=slim_study.best_params[\"topK\"], l1_ratio=slim_study.best_params[\"l1_ratio\"], alpha=slim_study.best_params[\"alpha\"], verbose=False)\n",
    "print(\"NMF...\")\n",
    "#NMF_recommender.fit(num_factors = nmf_study.best_params[\"factors\"], l1_ratio = nmf_study.best_params[\"l1_ratio\"], init_type = nmf_study.best_params[\"init\"], beta_loss = nmf_study.best_params[\"beta_loss\"])\n",
    "print(\"TopPop...\")\n",
    "TopPop_recommender.fit()\n",
    "\n",
    "recommenders = {\n",
    "    \"SLIM_EN\" : SLIM_EN_recommender,\n",
    "    \"RP3beta\" : RP3beta_recommender,\n",
    "    \"itemKNN\" : item_knn_recommender,\n",
    "    \"P3alpha\" : P3alpha_recommender,\n",
    "    #\"NMF\" : NMF_recommender,\n",
    "}\n",
    "print(\"HYBRID...\")\n",
    "hybrid_recommender = GeneralizedLinearHybridRecommender(urm_all, list(recommenders.values()), verbose=False)\n",
    "hybrid_recommender.fit([hybrid_study.best_params['weight_{}'.format(i) ] for i, study in enumerate(studies)])"
   ]
  },
  {
   "cell_type": "code",
   "execution_count": 32,
   "metadata": {},
   "outputs": [],
   "source": [
    "target_users = pd.read_csv(\"Dataset/data_target_users_test.csv\")\n",
    "target_users.columns = [\"UserID\"]"
   ]
  },
  {
   "cell_type": "code",
   "execution_count": 33,
   "metadata": {},
   "outputs": [
    {
     "name": "stdout",
     "output_type": "stream",
     "text": [
      "[    1     2     3 ... 13022 13023 13024]\n"
     ]
    }
   ],
   "source": [
    "item_popularity_encoded = np.ediff1d(urm_all.tocsc().indptr)\n",
    "item_popularity_encoded = np.sort(item_popularity_encoded)\n",
    "\n",
    "tar_users = target_users[\"UserID\"].astype(int)\n",
    "topPop_encoded = item_popularity_encoded[-10:]\n",
    "\n",
    "submission = []\n",
    "\n",
    "print(np.unique(df[\"UserID\"].values))\n",
    "\n",
    "for index, user in enumerate(tar_users):\n",
    "    if (user not in df[\"UserID\"].values):\n",
    "        item_list_encoded = topPop_encoded\n",
    "    else:\n",
    "        item_list_encoded = hybrid_recommender.recommend(user2user_encoded[user])[:10]\n",
    "    item_list = []\n",
    "    for item_encoded in item_list_encoded:\n",
    "        item_list.append(item_encoded2item[item_encoded])\n",
    "    submission.append((user, item_list))\n",
    "\n",
    "\n",
    "def write_submission(submissions):\n",
    "    with open(\"./submission_his_bigger_hybrid_NO_NMF.csv\", \"w\") as f:\n",
    "        f.write(\"user_id,item_list\\n\")\n",
    "        for user_id, items in submissions:\n",
    "            f.write(f\"{user_id},{' '.join([str(item) for item in items])}\\n\")\n",
    "            \n",
    "write_submission(submission)"
   ]
  }
 ],
 "metadata": {
  "kernelspec": {
   "display_name": "RecSysFramework",
   "language": "python",
   "name": "python3"
  },
  "language_info": {
   "codemirror_mode": {
    "name": "ipython",
    "version": 3
   },
   "file_extension": ".py",
   "mimetype": "text/x-python",
   "name": "python",
   "nbconvert_exporter": "python",
   "pygments_lexer": "ipython3",
   "version": "3.8.18"
  }
 },
 "nbformat": 4,
 "nbformat_minor": 2
}
