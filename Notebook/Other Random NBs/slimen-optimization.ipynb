{
 "cells": [
  {
   "cell_type": "code",
   "execution_count": 1,
   "id": "068bf24c",
   "metadata": {},
   "outputs": [],
   "source": [
    "import os\n",
    "os.chdir( \"../\")"
   ]
  },
  {
   "cell_type": "code",
   "execution_count": 2,
   "id": "e1f6b14d",
   "metadata": {
    "execution": {
     "iopub.execute_input": "2023-01-13T23:31:56.063140Z",
     "iopub.status.busy": "2023-01-13T23:31:56.062656Z",
     "iopub.status.idle": "2023-01-13T23:32:20.885408Z",
     "shell.execute_reply": "2023-01-13T23:32:20.884000Z"
    },
    "papermill": {
     "duration": 24.835316,
     "end_time": "2023-01-13T23:32:20.888242",
     "exception": false,
     "start_time": "2023-01-13T23:31:56.052926",
     "status": "completed"
    },
    "tags": []
   },
   "outputs": [
    {
     "data": {
      "text/html": [
       "<div>\n",
       "<style scoped>\n",
       "    .dataframe tbody tr th:only-of-type {\n",
       "        vertical-align: middle;\n",
       "    }\n",
       "\n",
       "    .dataframe tbody tr th {\n",
       "        vertical-align: top;\n",
       "    }\n",
       "\n",
       "    .dataframe thead th {\n",
       "        text-align: right;\n",
       "    }\n",
       "</style>\n",
       "<table border=\"1\" class=\"dataframe\">\n",
       "  <thead>\n",
       "    <tr style=\"text-align: right;\">\n",
       "      <th></th>\n",
       "      <th>UserID</th>\n",
       "      <th>ItemID</th>\n",
       "      <th>Interaction</th>\n",
       "    </tr>\n",
       "  </thead>\n",
       "  <tbody>\n",
       "    <tr>\n",
       "      <th>0</th>\n",
       "      <td>1</td>\n",
       "      <td>15</td>\n",
       "      <td>1.0</td>\n",
       "    </tr>\n",
       "    <tr>\n",
       "      <th>1</th>\n",
       "      <td>1</td>\n",
       "      <td>16</td>\n",
       "      <td>1.0</td>\n",
       "    </tr>\n",
       "    <tr>\n",
       "      <th>2</th>\n",
       "      <td>1</td>\n",
       "      <td>133</td>\n",
       "      <td>1.0</td>\n",
       "    </tr>\n",
       "    <tr>\n",
       "      <th>3</th>\n",
       "      <td>1</td>\n",
       "      <td>161</td>\n",
       "      <td>1.0</td>\n",
       "    </tr>\n",
       "    <tr>\n",
       "      <th>4</th>\n",
       "      <td>1</td>\n",
       "      <td>187</td>\n",
       "      <td>1.0</td>\n",
       "    </tr>\n",
       "    <tr>\n",
       "      <th>...</th>\n",
       "      <td>...</td>\n",
       "      <td>...</td>\n",
       "      <td>...</td>\n",
       "    </tr>\n",
       "    <tr>\n",
       "      <th>478724</th>\n",
       "      <td>13024</td>\n",
       "      <td>13605</td>\n",
       "      <td>1.0</td>\n",
       "    </tr>\n",
       "    <tr>\n",
       "      <th>478725</th>\n",
       "      <td>13024</td>\n",
       "      <td>13823</td>\n",
       "      <td>1.0</td>\n",
       "    </tr>\n",
       "    <tr>\n",
       "      <th>478726</th>\n",
       "      <td>13024</td>\n",
       "      <td>15122</td>\n",
       "      <td>1.0</td>\n",
       "    </tr>\n",
       "    <tr>\n",
       "      <th>478727</th>\n",
       "      <td>13024</td>\n",
       "      <td>18185</td>\n",
       "      <td>1.0</td>\n",
       "    </tr>\n",
       "    <tr>\n",
       "      <th>478728</th>\n",
       "      <td>13024</td>\n",
       "      <td>20014</td>\n",
       "      <td>1.0</td>\n",
       "    </tr>\n",
       "  </tbody>\n",
       "</table>\n",
       "<p>478729 rows × 3 columns</p>\n",
       "</div>"
      ],
      "text/plain": [
       "        UserID  ItemID  Interaction\n",
       "0            1      15          1.0\n",
       "1            1      16          1.0\n",
       "2            1     133          1.0\n",
       "3            1     161          1.0\n",
       "4            1     187          1.0\n",
       "...        ...     ...          ...\n",
       "478724   13024   13605          1.0\n",
       "478725   13024   13823          1.0\n",
       "478726   13024   15122          1.0\n",
       "478727   13024   18185          1.0\n",
       "478728   13024   20014          1.0\n",
       "\n",
       "[478729 rows x 3 columns]"
      ]
     },
     "execution_count": 2,
     "metadata": {},
     "output_type": "execute_result"
    }
   ],
   "source": [
    "import pandas as pd\n",
    "import numpy as np\n",
    "\n",
    "path = \"Dataset/data_train.csv\"\n",
    "df = pd.read_csv(filepath_or_buffer=path,\n",
    "                               sep=\",\",\n",
    "                               header=1,\n",
    "                               engine='python',\n",
    "                               names=['UserID', 'ItemID', 'Interaction'])\n",
    "\n",
    "\n",
    "df"
   ]
  },
  {
   "cell_type": "code",
   "execution_count": 3,
   "id": "4e99704b",
   "metadata": {},
   "outputs": [
    {
     "data": {
      "text/plain": [
       "1.0    478729\n",
       "Name: Interaction, dtype: int64"
      ]
     },
     "execution_count": 3,
     "metadata": {},
     "output_type": "execute_result"
    }
   ],
   "source": [
    "df.Interaction.value_counts()"
   ]
  },
  {
   "cell_type": "code",
   "execution_count": 4,
   "id": "6007a4c4",
   "metadata": {
    "execution": {
     "iopub.execute_input": "2023-01-13T23:32:20.910866Z",
     "iopub.status.busy": "2023-01-13T23:32:20.909759Z",
     "iopub.status.idle": "2023-01-13T23:32:21.591015Z",
     "shell.execute_reply": "2023-01-13T23:32:21.589709Z"
    },
    "papermill": {
     "duration": 0.69668,
     "end_time": "2023-01-13T23:32:21.593809",
     "exception": false,
     "start_time": "2023-01-13T23:32:20.897129",
     "status": "completed"
    },
    "tags": []
   },
   "outputs": [
    {
     "name": "stdout",
     "output_type": "stream",
     "text": [
      "<class 'pandas.core.frame.DataFrame'>\n",
      "RangeIndex: 478729 entries, 0 to 478728\n",
      "Data columns (total 3 columns):\n",
      " #   Column       Non-Null Count   Dtype  \n",
      "---  ------       --------------   -----  \n",
      " 0   UserID       478729 non-null  int64  \n",
      " 1   ItemID       478729 non-null  int64  \n",
      " 2   Interaction  478729 non-null  float64\n",
      "dtypes: float64(1), int64(2)\n",
      "memory usage: 11.0 MB\n"
     ]
    }
   ],
   "source": [
    "df.info()"
   ]
  },
  {
   "cell_type": "code",
   "execution_count": 5,
   "id": "c6215bb9",
   "metadata": {},
   "outputs": [
    {
     "name": "stdout",
     "output_type": "stream",
     "text": [
      "Number of users: 12638, Number of Items: 22222, Min rating: 0.0, Max rating: 1.0\n"
     ]
    }
   ],
   "source": [
    "user_ids = df[\"UserID\"].unique().tolist()\n",
    "user2user_encoded = {x: i for i, x in enumerate(user_ids)}\n",
    "userencoded2user = {i: x for i, x in enumerate(user_ids)}\n",
    "item_ids = df[\"ItemID\"].unique().tolist()\n",
    "item2item_encoded = {x: i for i, x in enumerate(item_ids)}\n",
    "item_encoded2item = {i: x for i, x in enumerate(item_ids)}\n",
    "df[\"User\"] = df[\"UserID\"].map(user2user_encoded)\n",
    "df[\"Item\"] = df[\"ItemID\"].map(item2item_encoded)\n",
    "\n",
    "num_users = len(user2user_encoded)\n",
    "num_items = len(item_encoded2item)\n",
    "df[\"Interaction\"] = df[\"Interaction\"].values.astype(np.float32)\n",
    "\n",
    "# min and max ratings will be used to normalize the ratings later\n",
    "min_rating = 0.0\n",
    "max_rating = max(df[\"Interaction\"])\n",
    "\n",
    "print(\n",
    "    \"Number of users: {}, Number of Items: {}, Min rating: {}, Max rating: {}\".format(\n",
    "        num_users, num_items, min_rating, max_rating\n",
    "    )\n",
    ")"
   ]
  },
  {
   "cell_type": "code",
   "execution_count": 6,
   "id": "f74196f4",
   "metadata": {},
   "outputs": [
    {
     "data": {
      "text/html": [
       "<div>\n",
       "<style scoped>\n",
       "    .dataframe tbody tr th:only-of-type {\n",
       "        vertical-align: middle;\n",
       "    }\n",
       "\n",
       "    .dataframe tbody tr th {\n",
       "        vertical-align: top;\n",
       "    }\n",
       "\n",
       "    .dataframe thead th {\n",
       "        text-align: right;\n",
       "    }\n",
       "</style>\n",
       "<table border=\"1\" class=\"dataframe\">\n",
       "  <thead>\n",
       "    <tr style=\"text-align: right;\">\n",
       "      <th></th>\n",
       "      <th>UserID</th>\n",
       "      <th>ItemID</th>\n",
       "      <th>Interaction</th>\n",
       "      <th>User</th>\n",
       "      <th>Item</th>\n",
       "    </tr>\n",
       "  </thead>\n",
       "  <tbody>\n",
       "    <tr>\n",
       "      <th>0</th>\n",
       "      <td>1</td>\n",
       "      <td>15</td>\n",
       "      <td>1.0</td>\n",
       "      <td>0</td>\n",
       "      <td>0</td>\n",
       "    </tr>\n",
       "    <tr>\n",
       "      <th>1</th>\n",
       "      <td>1</td>\n",
       "      <td>16</td>\n",
       "      <td>1.0</td>\n",
       "      <td>0</td>\n",
       "      <td>1</td>\n",
       "    </tr>\n",
       "    <tr>\n",
       "      <th>2</th>\n",
       "      <td>1</td>\n",
       "      <td>133</td>\n",
       "      <td>1.0</td>\n",
       "      <td>0</td>\n",
       "      <td>2</td>\n",
       "    </tr>\n",
       "    <tr>\n",
       "      <th>3</th>\n",
       "      <td>1</td>\n",
       "      <td>161</td>\n",
       "      <td>1.0</td>\n",
       "      <td>0</td>\n",
       "      <td>3</td>\n",
       "    </tr>\n",
       "    <tr>\n",
       "      <th>4</th>\n",
       "      <td>1</td>\n",
       "      <td>187</td>\n",
       "      <td>1.0</td>\n",
       "      <td>0</td>\n",
       "      <td>4</td>\n",
       "    </tr>\n",
       "  </tbody>\n",
       "</table>\n",
       "</div>"
      ],
      "text/plain": [
       "   UserID  ItemID  Interaction  User  Item\n",
       "0       1      15          1.0     0     0\n",
       "1       1      16          1.0     0     1\n",
       "2       1     133          1.0     0     2\n",
       "3       1     161          1.0     0     3\n",
       "4       1     187          1.0     0     4"
      ]
     },
     "execution_count": 6,
     "metadata": {},
     "output_type": "execute_result"
    }
   ],
   "source": [
    "df.head()"
   ]
  },
  {
   "cell_type": "code",
   "execution_count": 7,
   "id": "0adaa414",
   "metadata": {
    "execution": {
     "iopub.execute_input": "2023-01-13T23:32:21.787768Z",
     "iopub.status.busy": "2023-01-13T23:32:21.787354Z",
     "iopub.status.idle": "2023-01-13T23:32:21.825384Z",
     "shell.execute_reply": "2023-01-13T23:32:21.824102Z"
    },
    "papermill": {
     "duration": 0.05165,
     "end_time": "2023-01-13T23:32:21.828219",
     "exception": false,
     "start_time": "2023-01-13T23:32:21.776569",
     "status": "completed"
    },
    "tags": []
   },
   "outputs": [],
   "source": [
    "userId_unique = df[\"UserID\"].unique()\n",
    "itemId_unique = df[\"ItemID\"].unique()"
   ]
  },
  {
   "cell_type": "code",
   "execution_count": 8,
   "id": "c67736a2",
   "metadata": {
    "execution": {
     "iopub.execute_input": "2023-01-13T23:32:21.850104Z",
     "iopub.status.busy": "2023-01-13T23:32:21.849559Z",
     "iopub.status.idle": "2023-01-13T23:32:23.566750Z",
     "shell.execute_reply": "2023-01-13T23:32:23.565195Z"
    },
    "papermill": {
     "duration": 1.73095,
     "end_time": "2023-01-13T23:32:23.569747",
     "exception": false,
     "start_time": "2023-01-13T23:32:21.838797",
     "status": "completed"
    },
    "tags": []
   },
   "outputs": [
    {
     "name": "stdout",
     "output_type": "stream",
     "text": [
      "Warning: 218 (1.72 %) of 12638 users have no train items\n",
      "Warning: 2128 (16.84 %) of 12638 users have no sampled items\n",
      "Warning: 472 (3.73 %) of 12638 users have no train items\n",
      "Warning: 2602 (20.59 %) of 12638 users have no sampled items\n"
     ]
    }
   ],
   "source": [
    "from sklearn.model_selection import train_test_split\n",
    "import numpy as np\n",
    "import scipy.sparse as sps\n",
    "from Data_manager.split_functions.split_train_validation_random_holdout import split_train_in_two_percentage_global_sample\n",
    "\n",
    "\n",
    "\n",
    "urm_all = sps.coo_matrix((df[\"Interaction\"].values, \n",
    "                          (df[\"User\"].values, df[\"Item\"].values)))\n",
    "\n",
    "urm_train_validation, urm_test = split_train_in_two_percentage_global_sample(urm_all, train_percentage = 0.80)\n",
    "urm_train, urm_validation = split_train_in_two_percentage_global_sample(urm_train_validation, train_percentage = 0.80)"
   ]
  },
  {
   "cell_type": "code",
   "execution_count": 9,
   "id": "055f6397",
   "metadata": {
    "execution": {
     "iopub.execute_input": "2023-01-13T23:32:23.592354Z",
     "iopub.status.busy": "2023-01-13T23:32:23.591890Z",
     "iopub.status.idle": "2023-01-13T23:32:23.597435Z",
     "shell.execute_reply": "2023-01-13T23:32:23.596059Z"
    },
    "papermill": {
     "duration": 0.020022,
     "end_time": "2023-01-13T23:32:23.599856",
     "exception": false,
     "start_time": "2023-01-13T23:32:23.579834",
     "status": "completed"
    },
    "tags": []
   },
   "outputs": [],
   "source": [
    "num_users = len(userId_unique)\n",
    "num_items = len(itemId_unique)"
   ]
  },
  {
   "cell_type": "code",
   "execution_count": 10,
   "id": "6f12f62b",
   "metadata": {
    "execution": {
     "iopub.execute_input": "2023-01-13T23:32:24.004792Z",
     "iopub.status.busy": "2023-01-13T23:32:24.004003Z",
     "iopub.status.idle": "2023-01-13T23:32:30.128567Z",
     "shell.execute_reply": "2023-01-13T23:32:30.126914Z"
    },
    "papermill": {
     "duration": 6.138328,
     "end_time": "2023-01-13T23:32:30.131322",
     "exception": false,
     "start_time": "2023-01-13T23:32:23.992994",
     "status": "completed"
    },
    "tags": []
   },
   "outputs": [
    {
     "name": "stderr",
     "output_type": "stream",
     "text": [
      "2023-12-08 21:50:16.361740: W tensorflow/stream_executor/platform/default/dso_loader.cc:64] Could not load dynamic library 'libcudart.so.11.0'; dlerror: libcudart.so.11.0: cannot open shared object file: No such file or directory\n",
      "2023-12-08 21:50:16.361772: I tensorflow/stream_executor/cuda/cudart_stub.cc:29] Ignore above cudart dlerror if you do not have a GPU set up on your machine.\n"
     ]
    },
    {
     "name": "stdout",
     "output_type": "stream",
     "text": [
      "EvaluatorHoldout: Ignoring 2602 (20.6%) Users that have less than 1 test interactions\n",
      "EvaluatorHoldout: Ignoring 0 Users\n"
     ]
    }
   ],
   "source": [
    "from Recommenders.Recommender_import_list import *\n",
    "from Evaluation.Evaluator import EvaluatorHoldout\n",
    "evaluator_validation = EvaluatorHoldout(urm_validation, cutoff_list=[10], ignore_users=[])"
   ]
  },
  {
   "cell_type": "markdown",
   "id": "2cf8b920",
   "metadata": {
    "execution": {
     "iopub.execute_input": "2022-12-29T17:17:34.5603Z",
     "iopub.status.busy": "2022-12-29T17:17:34.559836Z",
     "iopub.status.idle": "2022-12-29T17:17:34.565723Z",
     "shell.execute_reply": "2022-12-29T17:17:34.564633Z",
     "shell.execute_reply.started": "2022-12-29T17:17:34.560267Z"
    },
    "papermill": {
     "duration": 0.009276,
     "end_time": "2023-01-13T23:32:30.150532",
     "exception": false,
     "start_time": "2023-01-13T23:32:30.141256",
     "status": "completed"
    },
    "tags": []
   },
   "source": [
    "## Insert model here"
   ]
  },
  {
   "cell_type": "code",
   "execution_count": 11,
   "id": "7986d6ef",
   "metadata": {
    "execution": {
     "iopub.execute_input": "2023-01-13T23:32:30.172147Z",
     "iopub.status.busy": "2023-01-13T23:32:30.171384Z",
     "iopub.status.idle": "2023-01-13T23:32:30.177196Z",
     "shell.execute_reply": "2023-01-13T23:32:30.175926Z"
    },
    "papermill": {
     "duration": 0.01951,
     "end_time": "2023-01-13T23:32:30.179676",
     "exception": false,
     "start_time": "2023-01-13T23:32:30.160166",
     "status": "completed"
    },
    "tags": []
   },
   "outputs": [],
   "source": [
    "model = SLIMElasticNetRecommender"
   ]
  },
  {
   "cell_type": "code",
   "execution_count": 12,
   "id": "ced51cc9",
   "metadata": {
    "execution": {
     "iopub.execute_input": "2023-01-13T23:32:30.201573Z",
     "iopub.status.busy": "2023-01-13T23:32:30.201045Z",
     "iopub.status.idle": "2023-01-13T23:32:30.484063Z",
     "shell.execute_reply": "2023-01-13T23:32:30.482481Z"
    },
    "papermill": {
     "duration": 0.297483,
     "end_time": "2023-01-13T23:32:30.487197",
     "exception": false,
     "start_time": "2023-01-13T23:32:30.189714",
     "status": "completed"
    },
    "tags": []
   },
   "outputs": [],
   "source": [
    "import optuna as op\n",
    "\n",
    "def objective(trial):\n",
    "    topK = trial.suggest_int(\"topK\", 5, 1e4)\n",
    "    l1 = trial.suggest_float(\"l1_ratio\", 0.01, 0.1)\n",
    "    alpha = trial.suggest_float(\"alpha\", 5e-4, 0.015)\n",
    "\n",
    "    \n",
    "    recommender = model(urm_train)\n",
    "    recommender.fit(**trial.params)\n",
    "    \n",
    "    result, _ = evaluator_validation.evaluateRecommender(recommender)\n",
    "    MAP_result = result[\"MAP\"].item()\n",
    "       \n",
    "    return MAP_result"
   ]
  },
  {
   "cell_type": "code",
   "execution_count": 13,
   "id": "1c29515a",
   "metadata": {
    "execution": {
     "iopub.execute_input": "2023-01-13T23:32:30.509030Z",
     "iopub.status.busy": "2023-01-13T23:32:30.508590Z",
     "iopub.status.idle": "2023-01-14T10:12:28.268056Z",
     "shell.execute_reply": "2023-01-14T10:12:28.266491Z"
    },
    "papermill": {
     "duration": 38397.783761,
     "end_time": "2023-01-14T10:12:28.280903",
     "exception": false,
     "start_time": "2023-01-13T23:32:30.497142",
     "status": "completed"
    },
    "tags": []
   },
   "outputs": [
    {
     "name": "stderr",
     "output_type": "stream",
     "text": [
      "[I 2023-12-08 21:50:17,058] A new study created in memory with name: no-name-d9c464ce-f0b9-4a83-87f3-17e79394a277\n"
     ]
    },
    {
     "name": "stdout",
     "output_type": "stream",
     "text": [
      "SLIMElasticNetRecommender: URM Detected 472 ( 3.7%) users with no interactions.\n",
      "SLIMElasticNetRecommender: URM Detected 341 ( 1.5%) items with no interactions.\n",
      "SLIMElasticNetRecommender: Processed 22222 (100.0%) in 4.70 min. Items per second: 78.77\n",
      "EvaluatorHoldout: Processed 10036 (100.0%) in 4.14 sec. Users per second: 2423\n"
     ]
    },
    {
     "name": "stderr",
     "output_type": "stream",
     "text": [
      "[I 2023-12-08 21:55:03,404] Trial 0 finished with value: 0.030350606862912768 and parameters: {'topK': 6658, 'l1_ratio': 0.03659854387723134, 'alpha': 0.0012812054186341782}. Best is trial 0 with value: 0.030350606862912768.\n"
     ]
    },
    {
     "name": "stdout",
     "output_type": "stream",
     "text": [
      "SLIMElasticNetRecommender: URM Detected 472 ( 3.7%) users with no interactions.\n",
      "SLIMElasticNetRecommender: URM Detected 341 ( 1.5%) items with no interactions.\n",
      "SLIMElasticNetRecommender: Processed 22222 (100.0%) in 3.23 min. Items per second: 114.76\n",
      "EvaluatorHoldout: Processed 10036 (100.0%) in 3.64 sec. Users per second: 2758\n"
     ]
    },
    {
     "name": "stderr",
     "output_type": "stream",
     "text": [
      "[I 2023-12-08 21:58:20,704] Trial 1 finished with value: 0.02906733774285613 and parameters: {'topK': 3514, 'l1_ratio': 0.013354560969564262, 'alpha': 0.006938764253189523}. Best is trial 0 with value: 0.030350606862912768.\n"
     ]
    },
    {
     "name": "stdout",
     "output_type": "stream",
     "text": [
      "SLIMElasticNetRecommender: URM Detected 472 ( 3.7%) users with no interactions.\n",
      "SLIMElasticNetRecommender: URM Detected 341 ( 1.5%) items with no interactions.\n",
      "SLIMElasticNetRecommender: Processed 22222 (100.0%) in 1.29 min. Items per second: 287.77\n",
      "EvaluatorHoldout: Processed 10036 (100.0%) in 2.08 sec. Users per second: 4833\n"
     ]
    },
    {
     "name": "stderr",
     "output_type": "stream",
     "text": [
      "[I 2023-12-08 21:59:40,009] Trial 2 finished with value: 0.023889790405334496 and parameters: {'topK': 5332, 'l1_ratio': 0.08132070408882985, 'alpha': 0.0142125315357285}. Best is trial 0 with value: 0.030350606862912768.\n"
     ]
    },
    {
     "name": "stdout",
     "output_type": "stream",
     "text": [
      "SLIMElasticNetRecommender: URM Detected 472 ( 3.7%) users with no interactions.\n",
      "SLIMElasticNetRecommender: URM Detected 341 ( 1.5%) items with no interactions.\n",
      "SLIMElasticNetRecommender: Processed 22222 (100.0%) in 1.37 min. Items per second: 270.78\n",
      "EvaluatorHoldout: Processed 10036 (100.0%) in 2.17 sec. Users per second: 4623\n"
     ]
    },
    {
     "name": "stderr",
     "output_type": "stream",
     "text": [
      "[I 2023-12-08 22:01:04,254] Trial 3 finished with value: 0.025649135335016216 and parameters: {'topK': 4398, 'l1_ratio': 0.0749556048097358, 'alpha': 0.009843294472264216}. Best is trial 0 with value: 0.030350606862912768.\n"
     ]
    },
    {
     "name": "stdout",
     "output_type": "stream",
     "text": [
      "SLIMElasticNetRecommender: URM Detected 472 ( 3.7%) users with no interactions.\n",
      "SLIMElasticNetRecommender: URM Detected 341 ( 1.5%) items with no interactions.\n",
      "SLIMElasticNetRecommender: Processed 22222 (100.0%) in 1.49 min. Items per second: 248.93\n",
      "EvaluatorHoldout: Processed 10036 (100.0%) in 2.38 sec. Users per second: 4215\n"
     ]
    },
    {
     "name": "stderr",
     "output_type": "stream",
     "text": [
      "[I 2023-12-08 22:02:35,912] Trial 4 finished with value: 0.027257832121821958 and parameters: {'topK': 3152, 'l1_ratio': 0.09440942428811702, 'alpha': 0.005197731341448514}. Best is trial 0 with value: 0.030350606862912768.\n"
     ]
    },
    {
     "name": "stdout",
     "output_type": "stream",
     "text": [
      "SLIMElasticNetRecommender: URM Detected 472 ( 3.7%) users with no interactions.\n",
      "SLIMElasticNetRecommender: URM Detected 341 ( 1.5%) items with no interactions.\n",
      "SLIMElasticNetRecommender: Processed 22222 (100.0%) in 1.31 min. Items per second: 282.47\n",
      "EvaluatorHoldout: Processed 10036 (100.0%) in 2.05 sec. Users per second: 4884\n"
     ]
    },
    {
     "name": "stderr",
     "output_type": "stream",
     "text": [
      "[I 2023-12-08 22:03:56,645] Trial 5 finished with value: 0.024733443729557738 and parameters: {'topK': 2454, 'l1_ratio': 0.08764339451681392, 'alpha': 0.010941054775456953}. Best is trial 0 with value: 0.030350606862912768.\n"
     ]
    },
    {
     "name": "stdout",
     "output_type": "stream",
     "text": [
      "SLIMElasticNetRecommender: URM Detected 472 ( 3.7%) users with no interactions.\n",
      "SLIMElasticNetRecommender: URM Detected 341 ( 1.5%) items with no interactions.\n",
      "SLIMElasticNetRecommender: Processed 22222 (100.0%) in 1.48 min. Items per second: 250.36\n",
      "EvaluatorHoldout: Processed 10036 (100.0%) in 2.31 sec. Users per second: 4345\n"
     ]
    },
    {
     "name": "stderr",
     "output_type": "stream",
     "text": [
      "[I 2023-12-08 22:05:27,720] Trial 6 finished with value: 0.02740422969373767 and parameters: {'topK': 1758, 'l1_ratio': 0.09598938688094757, 'alpha': 0.004984415540150881}. Best is trial 0 with value: 0.030350606862912768.\n"
     ]
    },
    {
     "name": "stdout",
     "output_type": "stream",
     "text": [
      "SLIMElasticNetRecommender: URM Detected 472 ( 3.7%) users with no interactions.\n",
      "SLIMElasticNetRecommender: URM Detected 341 ( 1.5%) items with no interactions.\n",
      "SLIMElasticNetRecommender: Processed 22222 (100.0%) in 1.39 min. Items per second: 267.25\n",
      "EvaluatorHoldout: Processed 10036 (100.0%) in 2.21 sec. Users per second: 4532\n"
     ]
    },
    {
     "name": "stderr",
     "output_type": "stream",
     "text": [
      "[I 2023-12-08 22:06:53,093] Trial 7 finished with value: 0.025963191241688693 and parameters: {'topK': 6341, 'l1_ratio': 0.06216863114894521, 'alpha': 0.010385780988454885}. Best is trial 0 with value: 0.030350606862912768.\n"
     ]
    },
    {
     "name": "stdout",
     "output_type": "stream",
     "text": [
      "SLIMElasticNetRecommender: URM Detected 472 ( 3.7%) users with no interactions.\n",
      "SLIMElasticNetRecommender: URM Detected 341 ( 1.5%) items with no interactions.\n",
      "SLIMElasticNetRecommender: Processed 22222 (100.0%) in 1.35 min. Items per second: 274.41\n",
      "EvaluatorHoldout: Processed 10036 (100.0%) in 2.13 sec. Users per second: 4705\n"
     ]
    },
    {
     "name": "stderr",
     "output_type": "stream",
     "text": [
      "[I 2023-12-08 22:08:16,214] Trial 8 finished with value: 0.025097154213086868 and parameters: {'topK': 6675, 'l1_ratio': 0.0654772951938739, 'alpha': 0.012706838777620846}. Best is trial 0 with value: 0.030350606862912768.\n"
     ]
    },
    {
     "name": "stdout",
     "output_type": "stream",
     "text": [
      "SLIMElasticNetRecommender: URM Detected 472 ( 3.7%) users with no interactions.\n",
      "SLIMElasticNetRecommender: URM Detected 341 ( 1.5%) items with no interactions.\n",
      "SLIMElasticNetRecommender: Processed 22222 (100.0%) in 1.33 min. Items per second: 278.08\n",
      "EvaluatorHoldout: Processed 10036 (100.0%) in 2.12 sec. Users per second: 4739\n"
     ]
    },
    {
     "name": "stderr",
     "output_type": "stream",
     "text": [
      "[I 2023-12-08 22:09:38,251] Trial 9 finished with value: 0.02487350696223754 and parameters: {'topK': 4958, 'l1_ratio': 0.06250181690989377, 'alpha': 0.013880115384293018}. Best is trial 0 with value: 0.030350606862912768.\n"
     ]
    },
    {
     "name": "stdout",
     "output_type": "stream",
     "text": [
      "SLIMElasticNetRecommender: URM Detected 472 ( 3.7%) users with no interactions.\n",
      "SLIMElasticNetRecommender: URM Detected 341 ( 1.5%) items with no interactions.\n",
      "SLIMElasticNetRecommender: Processed 22222 (100.0%) in 4.90 min. Items per second: 75.58\n",
      "EvaluatorHoldout: Processed 10036 (100.0%) in 3.76 sec. Users per second: 2667\n"
     ]
    },
    {
     "name": "stderr",
     "output_type": "stream",
     "text": [
      "[I 2023-12-08 22:14:36,091] Trial 10 finished with value: 0.028569099653944354 and parameters: {'topK': 8992, 'l1_ratio': 0.03805315309816465, 'alpha': 0.0005364193438929381}. Best is trial 0 with value: 0.030350606862912768.\n"
     ]
    },
    {
     "name": "stdout",
     "output_type": "stream",
     "text": [
      "SLIMElasticNetRecommender: URM Detected 472 ( 3.7%) users with no interactions.\n",
      "SLIMElasticNetRecommender: URM Detected 341 ( 1.5%) items with no interactions.\n",
      "SLIMElasticNetRecommender: Processed 22222 (100.0%) in 4.85 min. Items per second: 76.30\n",
      "EvaluatorHoldout: Processed 10036 (100.0%) in 3.67 sec. Users per second: 2731\n"
     ]
    },
    {
     "name": "stderr",
     "output_type": "stream",
     "text": [
      "[I 2023-12-08 22:19:31,055] Trial 11 finished with value: 0.027367556162892975 and parameters: {'topK': 457, 'l1_ratio': 0.010525401924705616, 'alpha': 0.000586462596996724}. Best is trial 0 with value: 0.030350606862912768.\n"
     ]
    },
    {
     "name": "stdout",
     "output_type": "stream",
     "text": [
      "SLIMElasticNetRecommender: URM Detected 472 ( 3.7%) users with no interactions.\n",
      "SLIMElasticNetRecommender: URM Detected 341 ( 1.5%) items with no interactions.\n",
      "SLIMElasticNetRecommender: Processed 22222 (100.0%) in 2.99 min. Items per second: 123.88\n",
      "EvaluatorHoldout: Processed 10036 (100.0%) in 3.55 sec. Users per second: 2826\n"
     ]
    },
    {
     "name": "stderr",
     "output_type": "stream",
     "text": [
      "[I 2023-12-08 22:22:33,996] Trial 12 finished with value: 0.028925273776310278 and parameters: {'topK': 7968, 'l1_ratio': 0.02406984455932995, 'alpha': 0.00616091476448747}. Best is trial 0 with value: 0.030350606862912768.\n"
     ]
    },
    {
     "name": "stdout",
     "output_type": "stream",
     "text": [
      "SLIMElasticNetRecommender: URM Detected 472 ( 3.7%) users with no interactions.\n",
      "SLIMElasticNetRecommender: URM Detected 341 ( 1.5%) items with no interactions.\n",
      "SLIMElasticNetRecommender: Processed 22222 (100.0%) in 3.30 min. Items per second: 112.20\n",
      "EvaluatorHoldout: Processed 10036 (100.0%) in 3.72 sec. Users per second: 2699\n"
     ]
    },
    {
     "name": "stderr",
     "output_type": "stream",
     "text": [
      "[I 2023-12-08 22:25:55,790] Trial 13 finished with value: 0.030078400298607737 and parameters: {'topK': 9888, 'l1_ratio': 0.04272987115688922, 'alpha': 0.002584487088098839}. Best is trial 0 with value: 0.030350606862912768.\n"
     ]
    },
    {
     "name": "stdout",
     "output_type": "stream",
     "text": [
      "SLIMElasticNetRecommender: URM Detected 472 ( 3.7%) users with no interactions.\n",
      "SLIMElasticNetRecommender: URM Detected 341 ( 1.5%) items with no interactions.\n",
      "SLIMElasticNetRecommender: Processed 22222 (100.0%) in 3.12 min. Items per second: 118.58\n",
      "EvaluatorHoldout: Processed 10036 (100.0%) in 3.45 sec. Users per second: 2913\n"
     ]
    },
    {
     "name": "stderr",
     "output_type": "stream",
     "text": [
      "[I 2023-12-08 22:29:06,654] Trial 14 finished with value: 0.029846556365338995 and parameters: {'topK': 9891, 'l1_ratio': 0.04608834237509274, 'alpha': 0.0030415521873475}. Best is trial 0 with value: 0.030350606862912768.\n"
     ]
    },
    {
     "name": "stdout",
     "output_type": "stream",
     "text": [
      "SLIMElasticNetRecommender: URM Detected 472 ( 3.7%) users with no interactions.\n",
      "SLIMElasticNetRecommender: URM Detected 341 ( 1.5%) items with no interactions.\n",
      "SLIMElasticNetRecommender: Processed 22222 (100.0%) in 3.17 min. Items per second: 116.83\n",
      "EvaluatorHoldout: Processed 10036 (100.0%) in 3.68 sec. Users per second: 2730\n"
     ]
    },
    {
     "name": "stderr",
     "output_type": "stream",
     "text": [
      "[I 2023-12-08 22:32:20,560] Trial 15 finished with value: 0.02998714548261197 and parameters: {'topK': 8237, 'l1_ratio': 0.04061550347212515, 'alpha': 0.0029717833320338826}. Best is trial 0 with value: 0.030350606862912768.\n"
     ]
    },
    {
     "name": "stdout",
     "output_type": "stream",
     "text": [
      "SLIMElasticNetRecommender: URM Detected 472 ( 3.7%) users with no interactions.\n",
      "SLIMElasticNetRecommender: URM Detected 341 ( 1.5%) items with no interactions.\n",
      "SLIMElasticNetRecommender: Processed 22222 (100.0%) in 3.03 min. Items per second: 122.08\n",
      "EvaluatorHoldout: Processed 10036 (100.0%) in 3.37 sec. Users per second: 2974\n"
     ]
    },
    {
     "name": "stderr",
     "output_type": "stream",
     "text": [
      "[I 2023-12-08 22:35:25,983] Trial 16 finished with value: 0.029844729608330886 and parameters: {'topK': 6743, 'l1_ratio': 0.05141621295159214, 'alpha': 0.002866305328998001}. Best is trial 0 with value: 0.030350606862912768.\n"
     ]
    },
    {
     "name": "stdout",
     "output_type": "stream",
     "text": [
      "SLIMElasticNetRecommender: URM Detected 472 ( 3.7%) users with no interactions.\n",
      "SLIMElasticNetRecommender: URM Detected 341 ( 1.5%) items with no interactions.\n",
      "SLIMElasticNetRecommender: Processed 22222 (100.0%) in 1.75 min. Items per second: 211.89\n",
      "EvaluatorHoldout: Processed 10036 (100.0%) in 2.68 sec. Users per second: 3746\n"
     ]
    },
    {
     "name": "stderr",
     "output_type": "stream",
     "text": [
      "[I 2023-12-08 22:37:13,550] Trial 17 finished with value: 0.02758984718505456 and parameters: {'topK': 9765, 'l1_ratio': 0.03416799917683733, 'alpha': 0.008650173085638986}. Best is trial 0 with value: 0.030350606862912768.\n"
     ]
    },
    {
     "name": "stdout",
     "output_type": "stream",
     "text": [
      "SLIMElasticNetRecommender: URM Detected 472 ( 3.7%) users with no interactions.\n",
      "SLIMElasticNetRecommender: URM Detected 341 ( 1.5%) items with no interactions.\n",
      "SLIMElasticNetRecommender: Processed 22222 (100.0%) in 4.11 min. Items per second: 90.17\n",
      "EvaluatorHoldout: Processed 10036 (100.0%) in 4.19 sec. Users per second: 2395\n"
     ]
    },
    {
     "name": "stderr",
     "output_type": "stream",
     "text": [
      "[I 2023-12-08 22:41:24,251] Trial 18 finished with value: 0.030364252184200514 and parameters: {'topK': 7765, 'l1_ratio': 0.029537380631026046, 'alpha': 0.0018328668672485519}. Best is trial 18 with value: 0.030364252184200514.\n"
     ]
    },
    {
     "name": "stdout",
     "output_type": "stream",
     "text": [
      "SLIMElasticNetRecommender: URM Detected 472 ( 3.7%) users with no interactions.\n",
      "SLIMElasticNetRecommender: URM Detected 341 ( 1.5%) items with no interactions.\n",
      "SLIMElasticNetRecommender: Processed 22222 (100.0%) in 2.99 min. Items per second: 123.95\n",
      "EvaluatorHoldout: Processed 10036 (100.0%) in 3.43 sec. Users per second: 2922\n"
     ]
    },
    {
     "name": "stderr",
     "output_type": "stream",
     "text": [
      "[I 2023-12-08 22:44:26,983] Trial 19 finished with value: 0.029471189432329545 and parameters: {'topK': 7753, 'l1_ratio': 0.02945100973806623, 'alpha': 0.004415254405983738}. Best is trial 18 with value: 0.030364252184200514.\n"
     ]
    },
    {
     "name": "stdout",
     "output_type": "stream",
     "text": [
      "SLIMElasticNetRecommender: URM Detected 472 ( 3.7%) users with no interactions.\n",
      "SLIMElasticNetRecommender: URM Detected 341 ( 1.5%) items with no interactions.\n",
      "SLIMElasticNetRecommender: Processed 22222 (100.0%) in 4.34 min. Items per second: 85.39\n",
      "EvaluatorHoldout: Processed 10036 (100.0%) in 4.13 sec. Users per second: 2430\n"
     ]
    },
    {
     "name": "stderr",
     "output_type": "stream",
     "text": [
      "[I 2023-12-08 22:48:51,438] Trial 20 finished with value: 0.03018204701171038 and parameters: {'topK': 5870, 'l1_ratio': 0.023843980200383745, 'alpha': 0.0014224119992607095}. Best is trial 18 with value: 0.030364252184200514.\n"
     ]
    },
    {
     "name": "stdout",
     "output_type": "stream",
     "text": [
      "SLIMElasticNetRecommender: URM Detected 472 ( 3.7%) users with no interactions.\n",
      "SLIMElasticNetRecommender: URM Detected 341 ( 1.5%) items with no interactions.\n",
      "SLIMElasticNetRecommender: Processed 22222 (100.0%) in 4.30 min. Items per second: 86.18\n",
      "EvaluatorHoldout: Processed 10036 (100.0%) in 4.16 sec. Users per second: 2414\n"
     ]
    },
    {
     "name": "stderr",
     "output_type": "stream",
     "text": [
      "[I 2023-12-08 22:53:13,539] Trial 21 finished with value: 0.030288129400823864 and parameters: {'topK': 5845, 'l1_ratio': 0.024161637287600665, 'alpha': 0.0015273482639684092}. Best is trial 18 with value: 0.030364252184200514.\n"
     ]
    },
    {
     "name": "stdout",
     "output_type": "stream",
     "text": [
      "SLIMElasticNetRecommender: URM Detected 472 ( 3.7%) users with no interactions.\n",
      "SLIMElasticNetRecommender: URM Detected 341 ( 1.5%) items with no interactions.\n",
      "SLIMElasticNetRecommender: Processed 22222 (100.0%) in 4.17 min. Items per second: 88.85\n",
      "EvaluatorHoldout: Processed 10036 (100.0%) in 4.02 sec. Users per second: 2497\n"
     ]
    },
    {
     "name": "stderr",
     "output_type": "stream",
     "text": [
      "[I 2023-12-08 22:57:27,725] Trial 22 finished with value: 0.030332232534305215 and parameters: {'topK': 7372, 'l1_ratio': 0.029209768256168757, 'alpha': 0.0017685828320574315}. Best is trial 18 with value: 0.030364252184200514.\n"
     ]
    },
    {
     "name": "stdout",
     "output_type": "stream",
     "text": [
      "SLIMElasticNetRecommender: URM Detected 472 ( 3.7%) users with no interactions.\n",
      "SLIMElasticNetRecommender: URM Detected 341 ( 1.5%) items with no interactions.\n",
      "SLIMElasticNetRecommender: Processed 22222 (100.0%) in 3.00 min. Items per second: 123.34\n",
      "EvaluatorHoldout: Processed 10036 (100.0%) in 3.49 sec. Users per second: 2876\n"
     ]
    },
    {
     "name": "stderr",
     "output_type": "stream",
     "text": [
      "[I 2023-12-08 23:00:31,397] Trial 23 finished with value: 0.02957206437776406 and parameters: {'topK': 7428, 'l1_ratio': 0.032755713421323336, 'alpha': 0.004012043237783244}. Best is trial 18 with value: 0.030364252184200514.\n"
     ]
    },
    {
     "name": "stdout",
     "output_type": "stream",
     "text": [
      "SLIMElasticNetRecommender: URM Detected 472 ( 3.7%) users with no interactions.\n",
      "SLIMElasticNetRecommender: URM Detected 341 ( 1.5%) items with no interactions.\n",
      "SLIMElasticNetRecommender: Processed 22222 (100.0%) in 3.15 min. Items per second: 117.57\n",
      "EvaluatorHoldout: Processed 10036 (100.0%) in 3.43 sec. Users per second: 2927\n"
     ]
    },
    {
     "name": "stderr",
     "output_type": "stream",
     "text": [
      "[I 2023-12-08 23:03:43,852] Trial 24 finished with value: 0.030236663883037182 and parameters: {'topK': 8791, 'l1_ratio': 0.047466078762258404, 'alpha': 0.0019212278832024285}. Best is trial 18 with value: 0.030364252184200514.\n"
     ]
    },
    {
     "name": "stdout",
     "output_type": "stream",
     "text": [
      "SLIMElasticNetRecommender: URM Detected 472 ( 3.7%) users with no interactions.\n",
      "SLIMElasticNetRecommender: URM Detected 341 ( 1.5%) items with no interactions.\n",
      "SLIMElasticNetRecommender: Processed 22222 (100.0%) in 2.97 min. Items per second: 124.62\n",
      "EvaluatorHoldout: Processed 10036 (100.0%) in 3.50 sec. Users per second: 2866\n"
     ]
    },
    {
     "name": "stderr",
     "output_type": "stream",
     "text": [
      "[I 2023-12-08 23:06:45,690] Trial 25 finished with value: 0.029603550235027084 and parameters: {'topK': 7117, 'l1_ratio': 0.03828745720034756, 'alpha': 0.003647018039192738}. Best is trial 18 with value: 0.030364252184200514.\n"
     ]
    },
    {
     "name": "stdout",
     "output_type": "stream",
     "text": [
      "SLIMElasticNetRecommender: URM Detected 472 ( 3.7%) users with no interactions.\n",
      "SLIMElasticNetRecommender: URM Detected 341 ( 1.5%) items with no interactions.\n",
      "SLIMElasticNetRecommender: Processed 22222 (100.0%) in 3.13 min. Items per second: 118.43\n",
      "EvaluatorHoldout: Processed 10036 (100.0%) in 3.49 sec. Users per second: 2876\n"
     ]
    },
    {
     "name": "stderr",
     "output_type": "stream",
     "text": [
      "[I 2023-12-08 23:09:56,827] Trial 26 finished with value: 0.030233540207633646 and parameters: {'topK': 8688, 'l1_ratio': 0.05279739268756235, 'alpha': 0.0019488600437175434}. Best is trial 18 with value: 0.030364252184200514.\n"
     ]
    },
    {
     "name": "stdout",
     "output_type": "stream",
     "text": [
      "SLIMElasticNetRecommender: URM Detected 472 ( 3.7%) users with no interactions.\n",
      "SLIMElasticNetRecommender: URM Detected 341 ( 1.5%) items with no interactions.\n",
      "SLIMElasticNetRecommender: Processed 22222 (100.0%) in 3.04 min. Items per second: 121.97\n",
      "EvaluatorHoldout: Processed 10036 (100.0%) in 3.54 sec. Users per second: 2831\n"
     ]
    },
    {
     "name": "stderr",
     "output_type": "stream",
     "text": [
      "[I 2023-12-08 23:13:02,581] Trial 27 finished with value: 0.029297113723927435 and parameters: {'topK': 4725, 'l1_ratio': 0.01761820350671233, 'alpha': 0.00576826841834545}. Best is trial 18 with value: 0.030364252184200514.\n"
     ]
    },
    {
     "name": "stdout",
     "output_type": "stream",
     "text": [
      "SLIMElasticNetRecommender: URM Detected 472 ( 3.7%) users with no interactions.\n",
      "SLIMElasticNetRecommender: URM Detected 341 ( 1.5%) items with no interactions.\n",
      "SLIMElasticNetRecommender: Processed 22222 (100.0%) in 3.03 min. Items per second: 122.38\n",
      "EvaluatorHoldout: Processed 10036 (100.0%) in 3.66 sec. Users per second: 2742\n"
     ]
    },
    {
     "name": "stderr",
     "output_type": "stream",
     "text": [
      "[I 2023-12-08 23:16:07,851] Trial 28 finished with value: 0.029664857307344555 and parameters: {'topK': 7358, 'l1_ratio': 0.03044263595896711, 'alpha': 0.004013593717218263}. Best is trial 18 with value: 0.030364252184200514.\n"
     ]
    },
    {
     "name": "stdout",
     "output_type": "stream",
     "text": [
      "SLIMElasticNetRecommender: URM Detected 472 ( 3.7%) users with no interactions.\n",
      "SLIMElasticNetRecommender: URM Detected 341 ( 1.5%) items with no interactions.\n",
      "SLIMElasticNetRecommender: Processed 22222 (100.0%) in 4.61 min. Items per second: 80.30\n",
      "EvaluatorHoldout: Processed 10036 (100.0%) in 3.75 sec. Users per second: 2673\n"
     ]
    },
    {
     "name": "stderr",
     "output_type": "stream",
     "text": [
      "[I 2023-12-08 23:20:48,436] Trial 29 finished with value: 0.02859106423225602 and parameters: {'topK': 3991, 'l1_ratio': 0.02068675944545489, 'alpha': 0.0006822355157677115}. Best is trial 18 with value: 0.030364252184200514.\n"
     ]
    }
   ],
   "source": [
    "best_params = {'topK': 6658, 'l1_ratio': 0.03659854387723134, 'alpha': 0.0012812054186341782}\n",
    "\n",
    "study = op.create_study(direction=\"maximize\")\n",
    "study.enqueue_trial(best_params)\n",
    "study.optimize(objective, n_trials=30)"
   ]
  },
  {
   "cell_type": "code",
   "execution_count": 14,
   "id": "6edb5df8",
   "metadata": {},
   "outputs": [],
   "source": [
    "study.trials_dataframe().to_csv(\"SLIMEN_optuna_V2.csv\")"
   ]
  },
  {
   "cell_type": "code",
   "execution_count": 15,
   "id": "3682b997",
   "metadata": {},
   "outputs": [
    {
     "data": {
      "text/plain": [
       "FrozenTrial(number=18, state=TrialState.COMPLETE, values=[0.030364252184200514], datetime_start=datetime.datetime(2023, 12, 8, 22, 37, 13, 551044), datetime_complete=datetime.datetime(2023, 12, 8, 22, 41, 24, 250874), params={'topK': 7765, 'l1_ratio': 0.029537380631026046, 'alpha': 0.0018328668672485519}, user_attrs={}, system_attrs={}, intermediate_values={}, distributions={'topK': IntDistribution(high=10000, log=False, low=5, step=1), 'l1_ratio': FloatDistribution(high=0.1, log=False, low=0.01, step=None), 'alpha': FloatDistribution(high=0.015, log=False, low=0.0005, step=None)}, trial_id=18, value=None)"
      ]
     },
     "execution_count": 15,
     "metadata": {},
     "output_type": "execute_result"
    }
   ],
   "source": [
    "study.best_trial"
   ]
  },
  {
   "cell_type": "code",
   "execution_count": 16,
   "id": "3ad13d74",
   "metadata": {},
   "outputs": [
    {
     "data": {
      "text/plain": [
       "0.030364252184200514"
      ]
     },
     "execution_count": 16,
     "metadata": {},
     "output_type": "execute_result"
    }
   ],
   "source": [
    "study.best_value"
   ]
  },
  {
   "cell_type": "code",
   "execution_count": 17,
   "id": "62bcfd12",
   "metadata": {
    "execution": {
     "iopub.execute_input": "2023-01-14T10:12:28.328535Z",
     "iopub.status.busy": "2023-01-14T10:12:28.328088Z",
     "iopub.status.idle": "2023-01-14T10:12:28.338642Z",
     "shell.execute_reply": "2023-01-14T10:12:28.337056Z"
    },
    "papermill": {
     "duration": 0.038497,
     "end_time": "2023-01-14T10:12:28.341713",
     "exception": false,
     "start_time": "2023-01-14T10:12:28.303216",
     "status": "completed"
    },
    "tags": []
   },
   "outputs": [
    {
     "data": {
      "text/plain": [
       "{'topK': 7765,\n",
       " 'l1_ratio': 0.029537380631026046,\n",
       " 'alpha': 0.0018328668672485519}"
      ]
     },
     "execution_count": 17,
     "metadata": {},
     "output_type": "execute_result"
    }
   ],
   "source": [
    "study.best_params"
   ]
  },
  {
   "cell_type": "code",
   "execution_count": 18,
   "id": "f301d6a3",
   "metadata": {
    "execution": {
     "iopub.execute_input": "2023-01-14T10:12:28.390594Z",
     "iopub.status.busy": "2023-01-14T10:12:28.390172Z",
     "iopub.status.idle": "2023-01-14T10:47:29.742879Z",
     "shell.execute_reply": "2023-01-14T10:47:29.741132Z"
    },
    "papermill": {
     "duration": 2101.380636,
     "end_time": "2023-01-14T10:47:29.746360",
     "exception": false,
     "start_time": "2023-01-14T10:12:28.365724",
     "status": "completed"
    },
    "tags": []
   },
   "outputs": [
    {
     "name": "stdout",
     "output_type": "stream",
     "text": [
      "SLIMElasticNetRecommender: URM Detected 218 ( 1.7%) users with no interactions.\n",
      "SLIMElasticNetRecommender: URM Detected 110 ( 0.5%) items with no interactions.\n",
      "SLIMElasticNetRecommender: Processed 22222 (100.0%) in 4.42 min. Items per second: 83.87\n"
     ]
    }
   ],
   "source": [
    "final = model(urm_train_validation)\n",
    "final.fit(**study.best_params)"
   ]
  },
  {
   "cell_type": "code",
   "execution_count": 19,
   "id": "a2073bef",
   "metadata": {
    "execution": {
     "iopub.execute_input": "2023-01-14T10:47:29.794164Z",
     "iopub.status.busy": "2023-01-14T10:47:29.793702Z",
     "iopub.status.idle": "2023-01-14T10:48:21.874857Z",
     "shell.execute_reply": "2023-01-14T10:48:21.873778Z"
    },
    "papermill": {
     "duration": 52.108424,
     "end_time": "2023-01-14T10:48:21.877435",
     "exception": false,
     "start_time": "2023-01-14T10:47:29.769011",
     "status": "completed"
    },
    "tags": []
   },
   "outputs": [
    {
     "name": "stdout",
     "output_type": "stream",
     "text": [
      "EvaluatorHoldout: Ignoring 2128 (16.8%) Users that have less than 1 test interactions\n",
      "EvaluatorHoldout: Ignoring 0 Users\n",
      "EvaluatorHoldout: Processed 10510 (100.0%) in 4.52 sec. Users per second: 2324\n"
     ]
    },
    {
     "data": {
      "text/plain": [
       "(       PRECISION PRECISION_RECALL_MIN_DEN    RECALL       MAP MAP_MIN_DEN  \\\n",
       " cutoff                                                                      \n",
       " 10      0.095852                 0.167628  0.142246  0.048987    0.084815   \n",
       " \n",
       "              MRR      NDCG        F1  HIT_RATE ARHR_ALL_HITS  ...  \\\n",
       " cutoff                                                        ...   \n",
       " 10      0.274723  0.152679  0.114529  0.526261      0.362642  ...   \n",
       " \n",
       "        COVERAGE_USER COVERAGE_USER_HIT USERS_IN_GT DIVERSITY_GINI  \\\n",
       " cutoff                                                              \n",
       " 10          0.831619          0.437648    0.831619       0.049873   \n",
       " \n",
       "        SHANNON_ENTROPY RATIO_DIVERSITY_HERFINDAHL RATIO_DIVERSITY_GINI  \\\n",
       " cutoff                                                                   \n",
       " 10           10.047246                   0.997434             0.142905   \n",
       " \n",
       "        RATIO_SHANNON_ENTROPY RATIO_AVERAGE_POPULARITY RATIO_NOVELTY  \n",
       " cutoff                                                               \n",
       " 10                  0.773889                 1.931065      0.280156  \n",
       " \n",
       " [1 rows x 27 columns],\n",
       " 'CUTOFF: 10 - PRECISION: 0.0958516, PRECISION_RECALL_MIN_DEN: 0.1676275, RECALL: 0.1422462, MAP: 0.0489871, MAP_MIN_DEN: 0.0848151, MRR: 0.2747227, NDCG: 0.1526786, F1: 0.1145288, HIT_RATE: 0.5262607, ARHR_ALL_HITS: 0.3626419, NOVELTY: 0.0049601, AVERAGE_POPULARITY: 0.2419642, DIVERSITY_MEAN_INTER_LIST: 0.9708355, DIVERSITY_HERFINDAHL: 0.9970743, COVERAGE_ITEM: 0.2722527, COVERAGE_ITEM_HIT: 0.0882459, ITEMS_IN_GT: 0.8014580, COVERAGE_USER: 0.8316189, COVERAGE_USER_HIT: 0.4376484, USERS_IN_GT: 0.8316189, DIVERSITY_GINI: 0.0498731, SHANNON_ENTROPY: 10.0472465, RATIO_DIVERSITY_HERFINDAHL: 0.9974343, RATIO_DIVERSITY_GINI: 0.1429052, RATIO_SHANNON_ENTROPY: 0.7738891, RATIO_AVERAGE_POPULARITY: 1.9310650, RATIO_NOVELTY: 0.2801564, \\n')"
      ]
     },
     "execution_count": 19,
     "metadata": {},
     "output_type": "execute_result"
    }
   ],
   "source": [
    "from Evaluation.Evaluator import EvaluatorHoldout\n",
    "evaluator_test = EvaluatorHoldout(urm_test, cutoff_list=[10], ignore_users=[])\n",
    "evaluator_test.evaluateRecommender(final)"
   ]
  },
  {
   "cell_type": "code",
   "execution_count": 20,
   "id": "151e93de",
   "metadata": {},
   "outputs": [],
   "source": [
    "opt_df = study.trials_dataframe()"
   ]
  },
  {
   "cell_type": "code",
   "execution_count": 21,
   "id": "a48b51b2",
   "metadata": {},
   "outputs": [
    {
     "data": {
      "image/png": "[encoded data removed]",
      "text/plain": [
       "<Figure size 640x480 with 1 Axes>"
      ]
     },
     "metadata": {},
     "output_type": "display_data"
    }
   ],
   "source": [
    "import matplotlib.pyplot as pyplot\n",
    "%matplotlib inline  \n",
    "\n",
    "pyplot.scatter(opt_df[\"params_alpha\"].values, opt_df[\"value\"].values, label=\"OPTUNA\")\n",
    "#pyplot.plot(MAP_per_shrinkage_rnd[\"shrink\"].values, MAP_per_shrinkage_rnd[\"MAP\"].values, label=\"Rnd\")\n",
    "pyplot.ylabel('MAP')\n",
    "pyplot.xlabel('alpha')\n",
    "pyplot.legend()\n",
    "pyplot.show()"
   ]
  },
  {
   "cell_type": "code",
   "execution_count": 22,
   "id": "d304a647",
   "metadata": {},
   "outputs": [
    {
     "data": {
      "image/png": "[encoded data removed]",
      "text/plain": [
       "<Figure size 640x480 with 1 Axes>"
      ]
     },
     "metadata": {},
     "output_type": "display_data"
    }
   ],
   "source": [
    "import matplotlib.pyplot as pyplot\n",
    "%matplotlib inline  \n",
    "\n",
    "pyplot.scatter(opt_df[\"params_l1_ratio\"].values, opt_df[\"value\"].values, label=\"OPTUNA\")\n",
    "#pyplot.plot(MAP_per_shrinkage_rnd[\"shrink\"].values, MAP_per_shrinkage_rnd[\"MAP\"].values, label=\"Rnd\")\n",
    "pyplot.ylabel('MAP')\n",
    "pyplot.xlabel('l1')\n",
    "pyplot.legend()\n",
    "pyplot.show()"
   ]
  },
  {
   "cell_type": "code",
   "execution_count": 23,
   "id": "30d7b41e",
   "metadata": {},
   "outputs": [
    {
     "data": {
      "image/png": "[encoded data removed]",
      "text/plain": [
       "<Figure size 640x480 with 1 Axes>"
      ]
     },
     "metadata": {},
     "output_type": "display_data"
    }
   ],
   "source": [
    "import matplotlib.pyplot as pyplot\n",
    "%matplotlib inline  \n",
    "\n",
    "pyplot.scatter(opt_df[\"params_topK\"].values, opt_df[\"value\"].values, label=\"OPTUNA\")\n",
    "#pyplot.plot(MAP_per_shrinkage_rnd[\"shrink\"].values, MAP_per_shrinkage_rnd[\"MAP\"].values, label=\"Rnd\")\n",
    "pyplot.ylabel('MAP')\n",
    "pyplot.xlabel('topK')\n",
    "pyplot.legend()\n",
    "pyplot.show()"
   ]
  },
  {
   "cell_type": "code",
   "execution_count": null,
   "id": "16459555",
   "metadata": {},
   "outputs": [],
   "source": []
  }
 ],
 "metadata": {
  "kernelspec": {
   "display_name": "Python 3",
   "language": "python",
   "name": "python3"
  },
  "language_info": {
   "codemirror_mode": {
    "name": "ipython",
    "version": 3
   },
   "file_extension": ".py",
   "mimetype": "text/x-python",
   "name": "python",
   "nbconvert_exporter": "python",
   "pygments_lexer": "ipython3",
   "version": "3.8.18"
  },
  "papermill": {
   "default_parameters": {},
   "duration": 40634.925398,
   "end_time": "2023-01-14T10:48:32.534297",
   "environment_variables": {},
   "exception": null,
   "input_path": "__notebook__.ipynb",
   "output_path": "__notebook__.ipynb",
   "parameters": {},
   "start_time": "2023-01-13T23:31:17.608899",
   "version": "2.3.4"
  }
 },
 "nbformat": 4,
 "nbformat_minor": 5
}
