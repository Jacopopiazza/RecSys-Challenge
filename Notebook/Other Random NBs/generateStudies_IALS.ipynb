{
 "cells": [
  {
   "cell_type": "code",
   "execution_count": 1,
   "metadata": {},
   "outputs": [],
   "source": [
    "import os\n",
    "os.chdir( \"../\")"
   ]
  },
  {
   "cell_type": "code",
   "execution_count": 2,
   "metadata": {},
   "outputs": [
    {
     "data": {
      "text/plain": [
       "8"
      ]
     },
     "execution_count": 2,
     "metadata": {},
     "output_type": "execute_result"
    }
   ],
   "source": [
    "import psutil\n",
    "num_cpus = psutil.cpu_count(logical=False)\n",
    "num_cpus \n"
   ]
  },
  {
   "cell_type": "code",
   "execution_count": 3,
   "metadata": {},
   "outputs": [
    {
     "data": {
      "text/html": [
       "<div>\n",
       "<style scoped>\n",
       "    .dataframe tbody tr th:only-of-type {\n",
       "        vertical-align: middle;\n",
       "    }\n",
       "\n",
       "    .dataframe tbody tr th {\n",
       "        vertical-align: top;\n",
       "    }\n",
       "\n",
       "    .dataframe thead th {\n",
       "        text-align: right;\n",
       "    }\n",
       "</style>\n",
       "<table border=\"1\" class=\"dataframe\">\n",
       "  <thead>\n",
       "    <tr style=\"text-align: right;\">\n",
       "      <th></th>\n",
       "      <th>UserID</th>\n",
       "      <th>ItemID</th>\n",
       "      <th>Interaction</th>\n",
       "    </tr>\n",
       "  </thead>\n",
       "  <tbody>\n",
       "    <tr>\n",
       "      <th>0</th>\n",
       "      <td>1</td>\n",
       "      <td>15</td>\n",
       "      <td>1.0</td>\n",
       "    </tr>\n",
       "    <tr>\n",
       "      <th>1</th>\n",
       "      <td>1</td>\n",
       "      <td>16</td>\n",
       "      <td>1.0</td>\n",
       "    </tr>\n",
       "    <tr>\n",
       "      <th>2</th>\n",
       "      <td>1</td>\n",
       "      <td>133</td>\n",
       "      <td>1.0</td>\n",
       "    </tr>\n",
       "    <tr>\n",
       "      <th>3</th>\n",
       "      <td>1</td>\n",
       "      <td>161</td>\n",
       "      <td>1.0</td>\n",
       "    </tr>\n",
       "    <tr>\n",
       "      <th>4</th>\n",
       "      <td>1</td>\n",
       "      <td>187</td>\n",
       "      <td>1.0</td>\n",
       "    </tr>\n",
       "    <tr>\n",
       "      <th>...</th>\n",
       "      <td>...</td>\n",
       "      <td>...</td>\n",
       "      <td>...</td>\n",
       "    </tr>\n",
       "    <tr>\n",
       "      <th>478724</th>\n",
       "      <td>13024</td>\n",
       "      <td>13605</td>\n",
       "      <td>1.0</td>\n",
       "    </tr>\n",
       "    <tr>\n",
       "      <th>478725</th>\n",
       "      <td>13024</td>\n",
       "      <td>13823</td>\n",
       "      <td>1.0</td>\n",
       "    </tr>\n",
       "    <tr>\n",
       "      <th>478726</th>\n",
       "      <td>13024</td>\n",
       "      <td>15122</td>\n",
       "      <td>1.0</td>\n",
       "    </tr>\n",
       "    <tr>\n",
       "      <th>478727</th>\n",
       "      <td>13024</td>\n",
       "      <td>18185</td>\n",
       "      <td>1.0</td>\n",
       "    </tr>\n",
       "    <tr>\n",
       "      <th>478728</th>\n",
       "      <td>13024</td>\n",
       "      <td>20014</td>\n",
       "      <td>1.0</td>\n",
       "    </tr>\n",
       "  </tbody>\n",
       "</table>\n",
       "<p>478729 rows × 3 columns</p>\n",
       "</div>"
      ],
      "text/plain": [
       "        UserID  ItemID  Interaction\n",
       "0            1      15          1.0\n",
       "1            1      16          1.0\n",
       "2            1     133          1.0\n",
       "3            1     161          1.0\n",
       "4            1     187          1.0\n",
       "...        ...     ...          ...\n",
       "478724   13024   13605          1.0\n",
       "478725   13024   13823          1.0\n",
       "478726   13024   15122          1.0\n",
       "478727   13024   18185          1.0\n",
       "478728   13024   20014          1.0\n",
       "\n",
       "[478729 rows x 3 columns]"
      ]
     },
     "execution_count": 3,
     "metadata": {},
     "output_type": "execute_result"
    }
   ],
   "source": [
    "import pandas as pd\n",
    "import numpy as np\n",
    "\n",
    "path = \"Dataset/data_train.csv\"\n",
    "df = pd.read_csv(filepath_or_buffer=path,\n",
    "                               sep=\",\",\n",
    "                               header=1,\n",
    "                               engine='python',\n",
    "                               names=['UserID', 'ItemID', 'Interaction'])\n",
    "\n",
    "\n",
    "df"
   ]
  },
  {
   "cell_type": "code",
   "execution_count": 4,
   "metadata": {},
   "outputs": [
    {
     "name": "stdout",
     "output_type": "stream",
     "text": [
      "Number of users: 12638, Number of Items: 22222, Min rating: 0.0, Max rating: 1.0\n"
     ]
    }
   ],
   "source": [
    "user_ids = df[\"UserID\"].unique().tolist()\n",
    "user2user_encoded = {x: i for i, x in enumerate(user_ids)}\n",
    "userencoded2user = {i: x for i, x in enumerate(user_ids)}\n",
    "item_ids = df[\"ItemID\"].unique().tolist()\n",
    "item2item_encoded = {x: i for i, x in enumerate(item_ids)}\n",
    "item_encoded2item = {i: x for i, x in enumerate(item_ids)}\n",
    "df[\"User\"] = df[\"UserID\"].map(user2user_encoded)\n",
    "df[\"Item\"] = df[\"ItemID\"].map(item2item_encoded)\n",
    "\n",
    "num_users = len(user2user_encoded)\n",
    "num_items = len(item_encoded2item)\n",
    "df[\"Interaction\"] = df[\"Interaction\"].values.astype(np.float32)\n",
    "\n",
    "# min and max ratings will be used to normalize the ratings later\n",
    "min_rating = 0.0\n",
    "max_rating = max(df[\"Interaction\"])\n",
    "\n",
    "print(\n",
    "    \"Number of users: {}, Number of Items: {}, Min rating: {}, Max rating: {}\".format(\n",
    "        num_users, num_items, min_rating, max_rating\n",
    "    )\n",
    ")"
   ]
  },
  {
   "cell_type": "code",
   "execution_count": 5,
   "metadata": {},
   "outputs": [],
   "source": [
    "userId_unique = df[\"UserID\"].unique()\n",
    "itemId_unique = df[\"ItemID\"].unique()"
   ]
  },
  {
   "cell_type": "code",
   "execution_count": 6,
   "metadata": {},
   "outputs": [
    {
     "name": "stdout",
     "output_type": "stream",
     "text": [
      "Warning: 229 (1.81 %) of 12638 users have no train items\n",
      "Warning: 2166 (17.14 %) of 12638 users have no sampled items\n",
      "Warning: 481 (3.81 %) of 12638 users have no train items\n",
      "Warning: 2565 (20.30 %) of 12638 users have no sampled items\n",
      "Warning: 217 (1.72 %) of 12638 users have no train items\n",
      "Warning: 2150 (17.01 %) of 12638 users have no sampled items\n",
      "Warning: 453 (3.58 %) of 12638 users have no train items\n",
      "Warning: 2625 (20.77 %) of 12638 users have no sampled items\n",
      "Warning: 223 (1.76 %) of 12638 users have no train items\n",
      "Warning: 2190 (17.33 %) of 12638 users have no sampled items\n",
      "Warning: 446 (3.53 %) of 12638 users have no train items\n",
      "Warning: 2596 (20.54 %) of 12638 users have no sampled items\n",
      "Warning: 227 (1.80 %) of 12638 users have no train items\n",
      "Warning: 2194 (17.36 %) of 12638 users have no sampled items\n",
      "Warning: 450 (3.56 %) of 12638 users have no train items\n",
      "Warning: 2666 (21.10 %) of 12638 users have no sampled items\n",
      "Warning: 243 (1.92 %) of 12638 users have no train items\n",
      "Warning: 2165 (17.13 %) of 12638 users have no sampled items\n",
      "Warning: 474 (3.75 %) of 12638 users have no train items\n",
      "Warning: 2621 (20.74 %) of 12638 users have no sampled items\n",
      "Warning: 239 (1.89 %) of 12638 users have no train items\n",
      "Warning: 2145 (16.97 %) of 12638 users have no sampled items\n",
      "Warning: 481 (3.81 %) of 12638 users have no train items\n",
      "Warning: 2652 (20.98 %) of 12638 users have no sampled items\n",
      "Warning: 201 (1.59 %) of 12638 users have no train items\n",
      "Warning: 2171 (17.18 %) of 12638 users have no sampled items\n",
      "Warning: 443 (3.51 %) of 12638 users have no train items\n",
      "Warning: 2570 (20.34 %) of 12638 users have no sampled items\n",
      "Warning: 220 (1.74 %) of 12638 users have no train items\n",
      "Warning: 2198 (17.39 %) of 12638 users have no sampled items\n",
      "Warning: 467 (3.70 %) of 12638 users have no train items\n",
      "Warning: 2646 (20.94 %) of 12638 users have no sampled items\n"
     ]
    }
   ],
   "source": [
    "from sklearn.model_selection import train_test_split\n",
    "from sklearn.model_selection import cross_val_score, KFold\n",
    "import numpy as np\n",
    "import scipy.sparse as sps\n",
    "from Data_manager.split_functions.split_train_validation_random_holdout import split_train_in_two_percentage_global_sample\n",
    "\n",
    "seeds = [\n",
    "    1811854, 3772146, 6407100, 6926227, 1340378, \n",
    "    68679, 3822303, 4058970, 1264160, 1100338, \n",
    "    6552126, 725363, 8362134, 9446122, 5256199, \n",
    "    4686339, 3830906, 7315366, 9428914, 5564236, \n",
    "    3420043, 9223036, 851434, 3300082, 7899660, \n",
    "    2053768, 4305274, 3709256, 8795594, 1418903, \n",
    "    7428566, 157832\n",
    "]\n",
    "\n",
    "seeds = seeds[:num_cpus]\n",
    "\n",
    "urm_all = sps.coo_matrix((df[\"Interaction\"].values, \n",
    "                          (df[\"User\"].values, df[\"Item\"].values)))\n",
    "\n",
    "urm_train_validation = []\n",
    "urm_test = []\n",
    "urm_train = []\n",
    "urm_validation = []\n",
    "\n",
    "for i in range(len(seeds)):\n",
    "    a, b = split_train_in_two_percentage_global_sample(urm_all, train_percentage = 0.80,seed=seeds[i])\n",
    "    c, d = split_train_in_two_percentage_global_sample(a, train_percentage = 0.80,seed=seeds[i])\n",
    "    urm_train_validation.append(a)\n",
    "    urm_test.append(b)\n",
    "    urm_train.append(c)\n",
    "    urm_validation.append(d)\n",
    "\n"
   ]
  },
  {
   "cell_type": "code",
   "execution_count": 7,
   "metadata": {},
   "outputs": [],
   "source": [
    "num_users = len(userId_unique)\n",
    "num_items = len(itemId_unique)"
   ]
  },
  {
   "cell_type": "code",
   "execution_count": 8,
   "metadata": {},
   "outputs": [
    {
     "name": "stdout",
     "output_type": "stream",
     "text": [
      "EvaluatorHoldout: Ignoring 2166 (17.1%) Users that have less than 1 test interactions\n",
      "EvaluatorHoldout: Ignoring 0 Users\n",
      "EvaluatorHoldout: Ignoring 2150 (17.0%) Users that have less than 1 test interactions\n",
      "EvaluatorHoldout: Ignoring 0 Users\n",
      "EvaluatorHoldout: Ignoring 2190 (17.3%) Users that have less than 1 test interactions\n",
      "EvaluatorHoldout: Ignoring 0 Users\n",
      "EvaluatorHoldout: Ignoring 2194 (17.4%) Users that have less than 1 test interactions\n",
      "EvaluatorHoldout: Ignoring 0 Users\n",
      "EvaluatorHoldout: Ignoring 2165 (17.1%) Users that have less than 1 test interactions\n",
      "EvaluatorHoldout: Ignoring 0 Users\n",
      "EvaluatorHoldout: Ignoring 2145 (17.0%) Users that have less than 1 test interactions\n",
      "EvaluatorHoldout: Ignoring 0 Users\n",
      "EvaluatorHoldout: Ignoring 2171 (17.2%) Users that have less than 1 test interactions\n",
      "EvaluatorHoldout: Ignoring 0 Users\n",
      "EvaluatorHoldout: Ignoring 2198 (17.4%) Users that have less than 1 test interactions\n",
      "EvaluatorHoldout: Ignoring 0 Users\n"
     ]
    }
   ],
   "source": [
    "from Evaluation.Evaluator import EvaluatorHoldout\n",
    "evaluator_test = []\n",
    "for u in urm_test:\n",
    "    evaluator_test.append(EvaluatorHoldout(u, cutoff_list=[10], ignore_users=[]))"
   ]
  },
  {
   "cell_type": "code",
   "execution_count": 9,
   "metadata": {},
   "outputs": [],
   "source": [
    "import os\n",
    "\n",
    "output_folder_path = \"result_experiments_xg/\"\n",
    "\n",
    "# If directory does not exist, create\n",
    "if not os.path.exists(output_folder_path):\n",
    "    os.makedirs(output_folder_path)\n",
    "    \n",
    "n_cases = 1000  # using 10 as an example\n",
    "n_random_starts = int(n_cases*0.3)\n",
    "metric_to_optimize = \"MAP\"   \n",
    "cutoff_to_optimize = 10"
   ]
  },
  {
   "cell_type": "code",
   "execution_count": 10,
   "metadata": {},
   "outputs": [
    {
     "name": "stderr",
     "output_type": "stream",
     "text": [
      "2024-01-07 21:05:24.641327: W tensorflow/stream_executor/platform/default/dso_loader.cc:64] Could not load dynamic library 'libcudart.so.11.0'; dlerror: libcudart.so.11.0: cannot open shared object file: No such file or directory\n",
      "2024-01-07 21:05:24.641362: I tensorflow/stream_executor/cuda/cudart_stub.cc:29] Ignore above cudart dlerror if you do not have a GPU set up on your machine.\n"
     ]
    }
   ],
   "source": [
    "from HyperparameterTuning.SearchAbstractClass import SearchInputRecommenderArgs\n",
    "from HyperparameterTuning.SearchBayesianSkopt import SearchBayesianSkopt\n",
    "\n",
    "from HyperparameterTuning.run_hyperparameter_search import runHyperparameterSearch_Collaborative, runHyperparameterSearch_Content\n",
    "from Recommenders.NonPersonalizedRecommender import TopPop, Random\n",
    "from Recommenders.GraphBased.P3alphaRecommender import P3alphaRecommender\n",
    "from Recommenders.SLIM.SLIMElasticNetRecommender import SLIMElasticNetRecommender, MultiThreadSLIM_SLIMElasticNetRecommender\n",
    "import os, multiprocessing\n",
    "from functools import partial\n",
    "from skopt.space import Real, Integer, Categorical\n"
   ]
  },
  {
   "cell_type": "code",
   "execution_count": null,
   "metadata": {},
   "outputs": [],
   "source": []
  },
  {
   "cell_type": "code",
   "execution_count": null,
   "metadata": {},
   "outputs": [],
   "source": []
  },
  {
   "cell_type": "code",
   "execution_count": 11,
   "metadata": {},
   "outputs": [],
   "source": [
    "from concurrent.futures import ProcessPoolExecutor\n",
    "from skopt import gp_minimize\n",
    "from skopt.space import Real, Integer, Categorical\n",
    "import time\n",
    "from Recommenders.Incremental_Training_Early_Stopping import Incremental_Training_Early_Stopping\n",
    "from Recommenders.MatrixFactorization.ImplicitIALSRecommender import ImplicitALSRecommender"
   ]
  },
  {
   "cell_type": "code",
   "execution_count": 12,
   "metadata": {},
   "outputs": [
    {
     "name": "stderr",
     "output_type": "stream",
     "text": [
      "[I 2024-01-07 21:05:26,185] A new study created in RDB with name: IALS_8FOLD\n"
     ]
    }
   ],
   "source": [
    "import optuna\n",
    "\n",
    "host = \"192.168.16.83\"\n",
    "port = 3306\n",
    "database_name = \"optuna_mio\"\n",
    "username = \"optuna\"\n",
    "password = \"your_password\"\n",
    "\n",
    "# Create an SQLAlchemy engine\n",
    "mysql_url = f\"mysql+pymysql://{username}:{password}@{host}:{port}/{database_name}\"\n",
    "mysql_url\n",
    "storage = optuna.storages.RDBStorage(url=mysql_url)\n",
    "\n",
    "study_name = \"IALS_8FOLD\"\n",
    "\n",
    "study = optuna.create_study(study_name=study_name, storage=storage, load_if_exists=True, direction=\"maximize\", sampler=optuna.samplers.CmaEsSampler())\n",
    "\n",
    "model = ImplicitALSRecommender"
   ]
  },
  {
   "cell_type": "code",
   "execution_count": 13,
   "metadata": {},
   "outputs": [],
   "source": [
    "def objective(trial):\n",
    "\n",
    "    params = {\n",
    "        \"num_factors\": trial.suggest_int(\"num_factors\",1, 1500),\n",
    "        \"epochs\": trial.suggest_int(\"epochs\",low = 50, high = 2500),\n",
    "        \"confidence_scaling\": trial.suggest_categorical(\"confidence_scaling\",[\"linear\", \"log\"]),\n",
    "        \"alpha\": trial.suggest_float(\"alpha\",low = 1e-3, high = 50, log=True),\n",
    "        \"epsilon\": trial.suggest_float(\"epsilon\",low = 1e-3, high = 10, log=True),\n",
    "        \"reg\": trial.suggest_float(\"reg\",low = 1e-5, high = 1e-2, log=True),\n",
    "    }\n",
    "\n",
    "\n",
    "    score = 0\n",
    "    for i, _ in enumerate(seeds):\n",
    "        recommender = model(urm_train_validation[i])\n",
    "        recommender.fit(use_gpu=True, num_threads=1, **params)\n",
    "        \n",
    "        result, _ = evaluator_test[i].evaluateRecommender(recommender)\n",
    "        MAP_result = result[\"MAP\"].item()\n",
    "            \n",
    "        score += MAP_result\n",
    "    \n",
    "    score = score /len(seeds)\n",
    "       \n",
    "    return score"
   ]
  },
  {
   "cell_type": "code",
   "execution_count": 14,
   "metadata": {},
   "outputs": [
    {
     "name": "stdout",
     "output_type": "stream",
     "text": [
      "ImplicitALSRecommender: URM Detected 229 ( 1.8%) users with no interactions.\n",
      "ImplicitALSRecommender: URM Detected 126 ( 0.6%) items with no interactions.\n",
      "Using gpu: True\n"
     ]
    },
    {
     "data": {
      "application/vnd.jupyter.widget-view+json": {
       "model_id": "e8d3d46b38344c2e8cf4289129f055ba",
       "version_major": 2,
       "version_minor": 0
      },
      "text/plain": [
       "  0%|          | 0/987 [00:00<?, ?it/s]"
      ]
     },
     "metadata": {},
     "output_type": "display_data"
    },
    {
     "name": "stdout",
     "output_type": "stream",
     "text": [
      "EvaluatorHoldout: Processed 10472 (100.0%) in 4.33 sec. Users per second: 2419\n",
      "ImplicitALSRecommender: URM Detected 217 ( 1.7%) users with no interactions.\n",
      "ImplicitALSRecommender: URM Detected 113 ( 0.5%) items with no interactions.\n",
      "Using gpu: True\n"
     ]
    },
    {
     "data": {
      "application/vnd.jupyter.widget-view+json": {
       "model_id": "03558b7660584dc9921f09875f917bdd",
       "version_major": 2,
       "version_minor": 0
      },
      "text/plain": [
       "  0%|          | 0/987 [00:00<?, ?it/s]"
      ]
     },
     "metadata": {},
     "output_type": "display_data"
    },
    {
     "name": "stdout",
     "output_type": "stream",
     "text": [
      "EvaluatorHoldout: Processed 10488 (100.0%) in 5.45 sec. Users per second: 1924\n",
      "ImplicitALSRecommender: URM Detected 223 ( 1.8%) users with no interactions.\n",
      "ImplicitALSRecommender: URM Detected 106 ( 0.5%) items with no interactions.\n",
      "Using gpu: True\n"
     ]
    },
    {
     "data": {
      "application/vnd.jupyter.widget-view+json": {
       "model_id": "b821e1937fc14bd7b235e77a152f43eb",
       "version_major": 2,
       "version_minor": 0
      },
      "text/plain": [
       "  0%|          | 0/987 [00:00<?, ?it/s]"
      ]
     },
     "metadata": {},
     "output_type": "display_data"
    },
    {
     "name": "stdout",
     "output_type": "stream",
     "text": [
      "EvaluatorHoldout: Processed 10448 (100.0%) in 5.72 sec. Users per second: 1826\n",
      "ImplicitALSRecommender: URM Detected 227 ( 1.8%) users with no interactions.\n",
      "ImplicitALSRecommender: URM Detected 109 ( 0.5%) items with no interactions.\n",
      "Using gpu: True\n"
     ]
    },
    {
     "data": {
      "application/vnd.jupyter.widget-view+json": {
       "model_id": "e1820d0fa5d1476c9668e591aab74d97",
       "version_major": 2,
       "version_minor": 0
      },
      "text/plain": [
       "  0%|          | 0/987 [00:00<?, ?it/s]"
      ]
     },
     "metadata": {},
     "output_type": "display_data"
    },
    {
     "name": "stdout",
     "output_type": "stream",
     "text": [
      "EvaluatorHoldout: Processed 10444 (100.0%) in 4.89 sec. Users per second: 2135\n",
      "ImplicitALSRecommender: URM Detected 243 ( 1.9%) users with no interactions.\n",
      "ImplicitALSRecommender: URM Detected 122 ( 0.5%) items with no interactions.\n",
      "Using gpu: True\n"
     ]
    },
    {
     "data": {
      "application/vnd.jupyter.widget-view+json": {
       "model_id": "fb807f22652c4f59861ec10d0e9e2d15",
       "version_major": 2,
       "version_minor": 0
      },
      "text/plain": [
       "  0%|          | 0/987 [00:00<?, ?it/s]"
      ]
     },
     "metadata": {},
     "output_type": "display_data"
    },
    {
     "name": "stdout",
     "output_type": "stream",
     "text": [
      "EvaluatorHoldout: Processed 10473 (100.0%) in 6.18 sec. Users per second: 1694\n",
      "ImplicitALSRecommender: URM Detected 239 ( 1.9%) users with no interactions.\n",
      "ImplicitALSRecommender: URM Detected 109 ( 0.5%) items with no interactions.\n",
      "Using gpu: True\n"
     ]
    },
    {
     "data": {
      "application/vnd.jupyter.widget-view+json": {
       "model_id": "c07b0d452f1e4b45929c98d0d9189ac3",
       "version_major": 2,
       "version_minor": 0
      },
      "text/plain": [
       "  0%|          | 0/987 [00:00<?, ?it/s]"
      ]
     },
     "metadata": {},
     "output_type": "display_data"
    },
    {
     "name": "stdout",
     "output_type": "stream",
     "text": [
      "EvaluatorHoldout: Processed 10493 (100.0%) in 5.66 sec. Users per second: 1855\n",
      "ImplicitALSRecommender: URM Detected 201 ( 1.6%) users with no interactions.\n",
      "ImplicitALSRecommender: URM Detected 114 ( 0.5%) items with no interactions.\n",
      "Using gpu: True\n"
     ]
    },
    {
     "data": {
      "application/vnd.jupyter.widget-view+json": {
       "model_id": "f920953418cd4e2cb666d0ecbfa1cbf4",
       "version_major": 2,
       "version_minor": 0
      },
      "text/plain": [
       "  0%|          | 0/987 [00:00<?, ?it/s]"
      ]
     },
     "metadata": {},
     "output_type": "display_data"
    },
    {
     "name": "stdout",
     "output_type": "stream",
     "text": [
      "EvaluatorHoldout: Processed 10467 (100.0%) in 5.62 sec. Users per second: 1863\n",
      "ImplicitALSRecommender: URM Detected 220 ( 1.7%) users with no interactions.\n",
      "ImplicitALSRecommender: URM Detected 118 ( 0.5%) items with no interactions.\n",
      "Using gpu: True\n"
     ]
    },
    {
     "data": {
      "application/vnd.jupyter.widget-view+json": {
       "model_id": "ab04901ea36948b59de1e0e4de92715e",
       "version_major": 2,
       "version_minor": 0
      },
      "text/plain": [
       "  0%|          | 0/987 [00:00<?, ?it/s]"
      ]
     },
     "metadata": {},
     "output_type": "display_data"
    },
    {
     "name": "stdout",
     "output_type": "stream",
     "text": [
      "EvaluatorHoldout: Processed 10440 (100.0%) in 4.96 sec. Users per second: 2105\n"
     ]
    },
    {
     "name": "stderr",
     "output_type": "stream",
     "text": [
      "[I 2024-01-07 21:07:04,654] Trial 0 finished with value: 0.03199572810282586 and parameters: {'num_factors': 141, 'l1_ratio': 987, 'confidence_scaling': 'log', 'alpha': 0.07599562708223878, 'epsilon': 0.11328956151420014, 'reg': 0.002082102898859446}. Best is trial 0 with value: 0.03199572810282586.\n",
      "[W 2024-01-07 21:07:04,733] The parameter 'confidence_scaling' in trial#1 is sampled independently by using `RandomSampler` instead of `CmaEsSampler` (optimization performance may be degraded). `CmaEsSampler` does not support dynamic search space or `CategoricalDistribution`. You can suppress this warning by setting `warn_independent_sampling` to `False` in the constructor of `CmaEsSampler`, if this independent sampling is intended behavior.\n"
     ]
    },
    {
     "name": "stdout",
     "output_type": "stream",
     "text": [
      "ImplicitALSRecommender: URM Detected 229 ( 1.8%) users with no interactions.\n",
      "ImplicitALSRecommender: URM Detected 126 ( 0.6%) items with no interactions.\n",
      "Using gpu: True\n"
     ]
    },
    {
     "data": {
      "application/vnd.jupyter.widget-view+json": {
       "model_id": "aaf70873d45c4b558a6e189b163a7a4b",
       "version_major": 2,
       "version_minor": 0
      },
      "text/plain": [
       "  0%|          | 0/1944 [00:00<?, ?it/s]"
      ]
     },
     "metadata": {},
     "output_type": "display_data"
    },
    {
     "name": "stdout",
     "output_type": "stream",
     "text": [
      "EvaluatorHoldout: Processed 10472 (100.0%) in 6.25 sec. Users per second: 1675\n",
      "ImplicitALSRecommender: URM Detected 217 ( 1.7%) users with no interactions.\n",
      "ImplicitALSRecommender: URM Detected 113 ( 0.5%) items with no interactions.\n",
      "Using gpu: True\n"
     ]
    },
    {
     "data": {
      "application/vnd.jupyter.widget-view+json": {
       "model_id": "b543d239c4a342bfab9192962628bb6e",
       "version_major": 2,
       "version_minor": 0
      },
      "text/plain": [
       "  0%|          | 0/1944 [00:00<?, ?it/s]"
      ]
     },
     "metadata": {},
     "output_type": "display_data"
    },
    {
     "name": "stdout",
     "output_type": "stream",
     "text": [
      "EvaluatorHoldout: Processed 10488 (100.0%) in 4.42 sec. Users per second: 2374\n",
      "ImplicitALSRecommender: URM Detected 223 ( 1.8%) users with no interactions.\n",
      "ImplicitALSRecommender: URM Detected 106 ( 0.5%) items with no interactions.\n",
      "Using gpu: True\n"
     ]
    },
    {
     "data": {
      "application/vnd.jupyter.widget-view+json": {
       "model_id": "b751a6e243d849cc98a9e06c53d1bfd9",
       "version_major": 2,
       "version_minor": 0
      },
      "text/plain": [
       "  0%|          | 0/1944 [00:00<?, ?it/s]"
      ]
     },
     "metadata": {},
     "output_type": "display_data"
    },
    {
     "name": "stdout",
     "output_type": "stream",
     "text": [
      "EvaluatorHoldout: Processed 10448 (100.0%) in 6.14 sec. Users per second: 1702\n",
      "ImplicitALSRecommender: URM Detected 227 ( 1.8%) users with no interactions.\n",
      "ImplicitALSRecommender: URM Detected 109 ( 0.5%) items with no interactions.\n",
      "Using gpu: True\n"
     ]
    },
    {
     "data": {
      "application/vnd.jupyter.widget-view+json": {
       "model_id": "ee2e0e8513e248f1bfe7085d9b172d31",
       "version_major": 2,
       "version_minor": 0
      },
      "text/plain": [
       "  0%|          | 0/1944 [00:00<?, ?it/s]"
      ]
     },
     "metadata": {},
     "output_type": "display_data"
    },
    {
     "name": "stdout",
     "output_type": "stream",
     "text": [
      "EvaluatorHoldout: Processed 10444 (100.0%) in 5.98 sec. Users per second: 1747\n",
      "ImplicitALSRecommender: URM Detected 243 ( 1.9%) users with no interactions.\n",
      "ImplicitALSRecommender: URM Detected 122 ( 0.5%) items with no interactions.\n",
      "Using gpu: True\n"
     ]
    },
    {
     "data": {
      "application/vnd.jupyter.widget-view+json": {
       "model_id": "2c2fefafd01d4e5e898b3dd5981772cc",
       "version_major": 2,
       "version_minor": 0
      },
      "text/plain": [
       "  0%|          | 0/1944 [00:00<?, ?it/s]"
      ]
     },
     "metadata": {},
     "output_type": "display_data"
    },
    {
     "name": "stdout",
     "output_type": "stream",
     "text": [
      "EvaluatorHoldout: Processed 10473 (100.0%) in 5.26 sec. Users per second: 1991\n",
      "ImplicitALSRecommender: URM Detected 239 ( 1.9%) users with no interactions.\n",
      "ImplicitALSRecommender: URM Detected 109 ( 0.5%) items with no interactions.\n",
      "Using gpu: True\n"
     ]
    },
    {
     "data": {
      "application/vnd.jupyter.widget-view+json": {
       "model_id": "b0dc78198b7b4c829d0dd5f9298cc1d0",
       "version_major": 2,
       "version_minor": 0
      },
      "text/plain": [
       "  0%|          | 0/1944 [00:00<?, ?it/s]"
      ]
     },
     "metadata": {},
     "output_type": "display_data"
    },
    {
     "name": "stdout",
     "output_type": "stream",
     "text": [
      "EvaluatorHoldout: Processed 10493 (100.0%) in 5.09 sec. Users per second: 2061\n",
      "ImplicitALSRecommender: URM Detected 201 ( 1.6%) users with no interactions.\n",
      "ImplicitALSRecommender: URM Detected 114 ( 0.5%) items with no interactions.\n",
      "Using gpu: True\n"
     ]
    },
    {
     "data": {
      "application/vnd.jupyter.widget-view+json": {
       "model_id": "76963818ca1c44b59ddc98c81fba9be5",
       "version_major": 2,
       "version_minor": 0
      },
      "text/plain": [
       "  0%|          | 0/1944 [00:00<?, ?it/s]"
      ]
     },
     "metadata": {},
     "output_type": "display_data"
    },
    {
     "name": "stdout",
     "output_type": "stream",
     "text": [
      "EvaluatorHoldout: Processed 10467 (100.0%) in 4.86 sec. Users per second: 2155\n",
      "ImplicitALSRecommender: URM Detected 220 ( 1.7%) users with no interactions.\n",
      "ImplicitALSRecommender: URM Detected 118 ( 0.5%) items with no interactions.\n",
      "Using gpu: True\n"
     ]
    },
    {
     "data": {
      "application/vnd.jupyter.widget-view+json": {
       "model_id": "f9e2ff930f56456a88f43008974276c0",
       "version_major": 2,
       "version_minor": 0
      },
      "text/plain": [
       "  0%|          | 0/1944 [00:00<?, ?it/s]"
      ]
     },
     "metadata": {},
     "output_type": "display_data"
    },
    {
     "name": "stdout",
     "output_type": "stream",
     "text": [
      "EvaluatorHoldout: Processed 10440 (100.0%) in 4.81 sec. Users per second: 2169\n"
     ]
    },
    {
     "name": "stderr",
     "output_type": "stream",
     "text": [
      "[I 2024-01-07 21:18:58,666] Trial 1 finished with value: 0.03484182285838667 and parameters: {'num_factors': 496, 'l1_ratio': 1944, 'confidence_scaling': 'log', 'alpha': 0.8693124746578058, 'epsilon': 0.006888129515652799, 'reg': 0.0013875030708949193}. Best is trial 1 with value: 0.03484182285838667.\n",
      "[W 2024-01-07 21:18:58,717] The parameter 'confidence_scaling' in trial#2 is sampled independently by using `RandomSampler` instead of `CmaEsSampler` (optimization performance may be degraded). `CmaEsSampler` does not support dynamic search space or `CategoricalDistribution`. You can suppress this warning by setting `warn_independent_sampling` to `False` in the constructor of `CmaEsSampler`, if this independent sampling is intended behavior.\n"
     ]
    },
    {
     "name": "stdout",
     "output_type": "stream",
     "text": [
      "ImplicitALSRecommender: URM Detected 229 ( 1.8%) users with no interactions.\n",
      "ImplicitALSRecommender: URM Detected 126 ( 0.6%) items with no interactions.\n",
      "Using gpu: True\n"
     ]
    },
    {
     "data": {
      "application/vnd.jupyter.widget-view+json": {
       "model_id": "948df0d79463409488b9078c1deb1da0",
       "version_major": 2,
       "version_minor": 0
      },
      "text/plain": [
       "  0%|          | 0/1693 [00:00<?, ?it/s]"
      ]
     },
     "metadata": {},
     "output_type": "display_data"
    },
    {
     "name": "stdout",
     "output_type": "stream",
     "text": [
      "EvaluatorHoldout: Processed 10472 (100.0%) in 7.15 sec. Users per second: 1464\n",
      "ImplicitALSRecommender: URM Detected 217 ( 1.7%) users with no interactions.\n",
      "ImplicitALSRecommender: URM Detected 113 ( 0.5%) items with no interactions.\n",
      "Using gpu: True\n"
     ]
    },
    {
     "data": {
      "application/vnd.jupyter.widget-view+json": {
       "model_id": "c46bf06b583d49e88dd700b4815f16b2",
       "version_major": 2,
       "version_minor": 0
      },
      "text/plain": [
       "  0%|          | 0/1693 [00:00<?, ?it/s]"
      ]
     },
     "metadata": {},
     "output_type": "display_data"
    },
    {
     "name": "stdout",
     "output_type": "stream",
     "text": [
      "EvaluatorHoldout: Processed 10488 (100.0%) in 7.00 sec. Users per second: 1497\n",
      "ImplicitALSRecommender: URM Detected 223 ( 1.8%) users with no interactions.\n",
      "ImplicitALSRecommender: URM Detected 106 ( 0.5%) items with no interactions.\n",
      "Using gpu: True\n"
     ]
    },
    {
     "data": {
      "application/vnd.jupyter.widget-view+json": {
       "model_id": "7c152b8051c745f6b62a59583d438956",
       "version_major": 2,
       "version_minor": 0
      },
      "text/plain": [
       "  0%|          | 0/1693 [00:00<?, ?it/s]"
      ]
     },
     "metadata": {},
     "output_type": "display_data"
    },
    {
     "name": "stdout",
     "output_type": "stream",
     "text": [
      "EvaluatorHoldout: Processed 10448 (100.0%) in 4.65 sec. Users per second: 2245\n",
      "ImplicitALSRecommender: URM Detected 227 ( 1.8%) users with no interactions.\n",
      "ImplicitALSRecommender: URM Detected 109 ( 0.5%) items with no interactions.\n",
      "Using gpu: True\n"
     ]
    },
    {
     "data": {
      "application/vnd.jupyter.widget-view+json": {
       "model_id": "1c1409943841436397b40d26fa121172",
       "version_major": 2,
       "version_minor": 0
      },
      "text/plain": [
       "  0%|          | 0/1693 [00:00<?, ?it/s]"
      ]
     },
     "metadata": {},
     "output_type": "display_data"
    },
    {
     "name": "stdout",
     "output_type": "stream",
     "text": [
      "EvaluatorHoldout: Processed 10444 (100.0%) in 7.01 sec. Users per second: 1490\n",
      "ImplicitALSRecommender: URM Detected 243 ( 1.9%) users with no interactions.\n",
      "ImplicitALSRecommender: URM Detected 122 ( 0.5%) items with no interactions.\n",
      "Using gpu: True\n"
     ]
    },
    {
     "data": {
      "application/vnd.jupyter.widget-view+json": {
       "model_id": "d1199079dac946cab66cfc9bb2a79499",
       "version_major": 2,
       "version_minor": 0
      },
      "text/plain": [
       "  0%|          | 0/1693 [00:00<?, ?it/s]"
      ]
     },
     "metadata": {},
     "output_type": "display_data"
    },
    {
     "name": "stdout",
     "output_type": "stream",
     "text": [
      "EvaluatorHoldout: Processed 10473 (100.0%) in 6.88 sec. Users per second: 1522\n",
      "ImplicitALSRecommender: URM Detected 239 ( 1.9%) users with no interactions.\n",
      "ImplicitALSRecommender: URM Detected 109 ( 0.5%) items with no interactions.\n",
      "Using gpu: True\n"
     ]
    },
    {
     "data": {
      "application/vnd.jupyter.widget-view+json": {
       "model_id": "e59a40d505af454d82b6ef711b885d00",
       "version_major": 2,
       "version_minor": 0
      },
      "text/plain": [
       "  0%|          | 0/1693 [00:00<?, ?it/s]"
      ]
     },
     "metadata": {},
     "output_type": "display_data"
    },
    {
     "name": "stdout",
     "output_type": "stream",
     "text": [
      "EvaluatorHoldout: Processed 10493 (100.0%) in 7.39 sec. Users per second: 1421\n",
      "ImplicitALSRecommender: URM Detected 201 ( 1.6%) users with no interactions.\n",
      "ImplicitALSRecommender: URM Detected 114 ( 0.5%) items with no interactions.\n",
      "Using gpu: True\n"
     ]
    },
    {
     "data": {
      "application/vnd.jupyter.widget-view+json": {
       "model_id": "fc20b5f879a14c4d9f8e0a0194dfefce",
       "version_major": 2,
       "version_minor": 0
      },
      "text/plain": [
       "  0%|          | 0/1693 [00:00<?, ?it/s]"
      ]
     },
     "metadata": {},
     "output_type": "display_data"
    },
    {
     "name": "stdout",
     "output_type": "stream",
     "text": [
      "EvaluatorHoldout: Processed 10467 (100.0%) in 6.80 sec. Users per second: 1540\n",
      "ImplicitALSRecommender: URM Detected 220 ( 1.7%) users with no interactions.\n",
      "ImplicitALSRecommender: URM Detected 118 ( 0.5%) items with no interactions.\n",
      "Using gpu: True\n"
     ]
    },
    {
     "data": {
      "application/vnd.jupyter.widget-view+json": {
       "model_id": "c4d89db8a0b942189764fbcc05872370",
       "version_major": 2,
       "version_minor": 0
      },
      "text/plain": [
       "  0%|          | 0/1693 [00:00<?, ?it/s]"
      ]
     },
     "metadata": {},
     "output_type": "display_data"
    },
    {
     "name": "stdout",
     "output_type": "stream",
     "text": [
      "EvaluatorHoldout: Processed 10440 (100.0%) in 5.76 sec. Users per second: 1813\n"
     ]
    },
    {
     "name": "stderr",
     "output_type": "stream",
     "text": [
      "[I 2024-01-07 21:51:34,914] Trial 2 finished with value: 0.026905988328854415 and parameters: {'num_factors': 891, 'l1_ratio': 1693, 'confidence_scaling': 'linear', 'alpha': 0.020251565709076897, 'epsilon': 0.2792425248382971, 'reg': 0.00022082389110154432}. Best is trial 1 with value: 0.03484182285838667.\n",
      "[W 2024-01-07 21:51:34,982] The parameter 'confidence_scaling' in trial#3 is sampled independently by using `RandomSampler` instead of `CmaEsSampler` (optimization performance may be degraded). `CmaEsSampler` does not support dynamic search space or `CategoricalDistribution`. You can suppress this warning by setting `warn_independent_sampling` to `False` in the constructor of `CmaEsSampler`, if this independent sampling is intended behavior.\n"
     ]
    },
    {
     "name": "stdout",
     "output_type": "stream",
     "text": [
      "ImplicitALSRecommender: URM Detected 229 ( 1.8%) users with no interactions.\n",
      "ImplicitALSRecommender: URM Detected 126 ( 0.6%) items with no interactions.\n",
      "Using gpu: True\n"
     ]
    },
    {
     "data": {
      "application/vnd.jupyter.widget-view+json": {
       "model_id": "be887746ae0445b1bdc476cf3895572a",
       "version_major": 2,
       "version_minor": 0
      },
      "text/plain": [
       "  0%|          | 0/1191 [00:00<?, ?it/s]"
      ]
     },
     "metadata": {},
     "output_type": "display_data"
    },
    {
     "name": "stdout",
     "output_type": "stream",
     "text": [
      "EvaluatorHoldout: Processed 10472 (100.0%) in 6.73 sec. Users per second: 1557\n",
      "ImplicitALSRecommender: URM Detected 217 ( 1.7%) users with no interactions.\n",
      "ImplicitALSRecommender: URM Detected 113 ( 0.5%) items with no interactions.\n",
      "Using gpu: True\n"
     ]
    },
    {
     "data": {
      "application/vnd.jupyter.widget-view+json": {
       "model_id": "cdc4253df52a417bb9c5a1e099487be3",
       "version_major": 2,
       "version_minor": 0
      },
      "text/plain": [
       "  0%|          | 0/1191 [00:00<?, ?it/s]"
      ]
     },
     "metadata": {},
     "output_type": "display_data"
    },
    {
     "name": "stdout",
     "output_type": "stream",
     "text": [
      "EvaluatorHoldout: Processed 10488 (100.0%) in 7.10 sec. Users per second: 1478\n",
      "ImplicitALSRecommender: URM Detected 223 ( 1.8%) users with no interactions.\n",
      "ImplicitALSRecommender: URM Detected 106 ( 0.5%) items with no interactions.\n",
      "Using gpu: True\n"
     ]
    },
    {
     "data": {
      "application/vnd.jupyter.widget-view+json": {
       "model_id": "fe74f53fa5ad47afbca97b271648f874",
       "version_major": 2,
       "version_minor": 0
      },
      "text/plain": [
       "  0%|          | 0/1191 [00:00<?, ?it/s]"
      ]
     },
     "metadata": {},
     "output_type": "display_data"
    },
    {
     "name": "stdout",
     "output_type": "stream",
     "text": [
      "EvaluatorHoldout: Processed 10448 (100.0%) in 6.92 sec. Users per second: 1510\n",
      "ImplicitALSRecommender: URM Detected 227 ( 1.8%) users with no interactions.\n",
      "ImplicitALSRecommender: URM Detected 109 ( 0.5%) items with no interactions.\n",
      "Using gpu: True\n"
     ]
    },
    {
     "data": {
      "application/vnd.jupyter.widget-view+json": {
       "model_id": "a4b8b15d57d14328b56a13af98f5cb74",
       "version_major": 2,
       "version_minor": 0
      },
      "text/plain": [
       "  0%|          | 0/1191 [00:00<?, ?it/s]"
      ]
     },
     "metadata": {},
     "output_type": "display_data"
    },
    {
     "name": "stdout",
     "output_type": "stream",
     "text": [
      "EvaluatorHoldout: Processed 10444 (100.0%) in 6.95 sec. Users per second: 1502\n",
      "ImplicitALSRecommender: URM Detected 243 ( 1.9%) users with no interactions.\n",
      "ImplicitALSRecommender: URM Detected 122 ( 0.5%) items with no interactions.\n",
      "Using gpu: True\n"
     ]
    },
    {
     "data": {
      "application/vnd.jupyter.widget-view+json": {
       "model_id": "10898696abe14135bc275f903e972d50",
       "version_major": 2,
       "version_minor": 0
      },
      "text/plain": [
       "  0%|          | 0/1191 [00:00<?, ?it/s]"
      ]
     },
     "metadata": {},
     "output_type": "display_data"
    },
    {
     "name": "stdout",
     "output_type": "stream",
     "text": [
      "EvaluatorHoldout: Processed 10473 (100.0%) in 6.76 sec. Users per second: 1549\n",
      "ImplicitALSRecommender: URM Detected 239 ( 1.9%) users with no interactions.\n",
      "ImplicitALSRecommender: URM Detected 109 ( 0.5%) items with no interactions.\n",
      "Using gpu: True\n"
     ]
    },
    {
     "data": {
      "application/vnd.jupyter.widget-view+json": {
       "model_id": "7caebdb5995043b683097dcd1aa9df38",
       "version_major": 2,
       "version_minor": 0
      },
      "text/plain": [
       "  0%|          | 0/1191 [00:00<?, ?it/s]"
      ]
     },
     "metadata": {},
     "output_type": "display_data"
    },
    {
     "name": "stdout",
     "output_type": "stream",
     "text": [
      "EvaluatorHoldout: Processed 10493 (100.0%) in 7.00 sec. Users per second: 1498\n",
      "ImplicitALSRecommender: URM Detected 201 ( 1.6%) users with no interactions.\n",
      "ImplicitALSRecommender: URM Detected 114 ( 0.5%) items with no interactions.\n",
      "Using gpu: True\n"
     ]
    },
    {
     "data": {
      "application/vnd.jupyter.widget-view+json": {
       "model_id": "fd34c37a44a24b2cb7cb5e6d0cfb86ed",
       "version_major": 2,
       "version_minor": 0
      },
      "text/plain": [
       "  0%|          | 0/1191 [00:00<?, ?it/s]"
      ]
     },
     "metadata": {},
     "output_type": "display_data"
    },
    {
     "name": "stdout",
     "output_type": "stream",
     "text": [
      "EvaluatorHoldout: Processed 10467 (100.0%) in 6.69 sec. Users per second: 1564\n",
      "ImplicitALSRecommender: URM Detected 220 ( 1.7%) users with no interactions.\n",
      "ImplicitALSRecommender: URM Detected 118 ( 0.5%) items with no interactions.\n",
      "Using gpu: True\n"
     ]
    },
    {
     "data": {
      "application/vnd.jupyter.widget-view+json": {
       "model_id": "ca85ff121d814b2aa0450b592392e2b9",
       "version_major": 2,
       "version_minor": 0
      },
      "text/plain": [
       "  0%|          | 0/1191 [00:00<?, ?it/s]"
      ]
     },
     "metadata": {},
     "output_type": "display_data"
    },
    {
     "name": "stdout",
     "output_type": "stream",
     "text": [
      "EvaluatorHoldout: Processed 10440 (100.0%) in 6.76 sec. Users per second: 1545\n"
     ]
    },
    {
     "name": "stderr",
     "output_type": "stream",
     "text": [
      "[I 2024-01-07 22:12:44,419] Trial 3 finished with value: 0.028173629391889315 and parameters: {'num_factors': 834, 'l1_ratio': 1191, 'confidence_scaling': 'linear', 'alpha': 0.23695045407877072, 'epsilon': 1.6279830459960116, 'reg': 1.0892635265365546e-05}. Best is trial 1 with value: 0.03484182285838667.\n",
      "[W 2024-01-07 22:12:44,500] The parameter 'confidence_scaling' in trial#4 is sampled independently by using `RandomSampler` instead of `CmaEsSampler` (optimization performance may be degraded). `CmaEsSampler` does not support dynamic search space or `CategoricalDistribution`. You can suppress this warning by setting `warn_independent_sampling` to `False` in the constructor of `CmaEsSampler`, if this independent sampling is intended behavior.\n"
     ]
    },
    {
     "name": "stdout",
     "output_type": "stream",
     "text": [
      "ImplicitALSRecommender: URM Detected 229 ( 1.8%) users with no interactions.\n",
      "ImplicitALSRecommender: URM Detected 126 ( 0.6%) items with no interactions.\n",
      "Using gpu: True\n"
     ]
    },
    {
     "data": {
      "application/vnd.jupyter.widget-view+json": {
       "model_id": "6cc069545a854657978646a9466cf664",
       "version_major": 2,
       "version_minor": 0
      },
      "text/plain": [
       "  0%|          | 0/1283 [00:00<?, ?it/s]"
      ]
     },
     "metadata": {},
     "output_type": "display_data"
    },
    {
     "name": "stdout",
     "output_type": "stream",
     "text": [
      "EvaluatorHoldout: Processed 10472 (100.0%) in 6.24 sec. Users per second: 1678\n",
      "ImplicitALSRecommender: URM Detected 217 ( 1.7%) users with no interactions.\n",
      "ImplicitALSRecommender: URM Detected 113 ( 0.5%) items with no interactions.\n",
      "Using gpu: True\n"
     ]
    },
    {
     "data": {
      "application/vnd.jupyter.widget-view+json": {
       "model_id": "f1b831f8f6d74b0ba213da384e842ad5",
       "version_major": 2,
       "version_minor": 0
      },
      "text/plain": [
       "  0%|          | 0/1283 [00:00<?, ?it/s]"
      ]
     },
     "metadata": {},
     "output_type": "display_data"
    },
    {
     "name": "stdout",
     "output_type": "stream",
     "text": [
      "EvaluatorHoldout: Processed 10488 (100.0%) in 5.78 sec. Users per second: 1816\n",
      "ImplicitALSRecommender: URM Detected 223 ( 1.8%) users with no interactions.\n",
      "ImplicitALSRecommender: URM Detected 106 ( 0.5%) items with no interactions.\n",
      "Using gpu: True\n"
     ]
    },
    {
     "data": {
      "application/vnd.jupyter.widget-view+json": {
       "model_id": "6303a37b55c443c79163a263824fffe3",
       "version_major": 2,
       "version_minor": 0
      },
      "text/plain": [
       "  0%|          | 0/1283 [00:00<?, ?it/s]"
      ]
     },
     "metadata": {},
     "output_type": "display_data"
    },
    {
     "name": "stdout",
     "output_type": "stream",
     "text": [
      "EvaluatorHoldout: Processed 10448 (100.0%) in 4.48 sec. Users per second: 2335\n",
      "ImplicitALSRecommender: URM Detected 227 ( 1.8%) users with no interactions.\n",
      "ImplicitALSRecommender: URM Detected 109 ( 0.5%) items with no interactions.\n",
      "Using gpu: True\n"
     ]
    },
    {
     "data": {
      "application/vnd.jupyter.widget-view+json": {
       "model_id": "63d25b3bad384e919b817093944c17a5",
       "version_major": 2,
       "version_minor": 0
      },
      "text/plain": [
       "  0%|          | 0/1283 [00:00<?, ?it/s]"
      ]
     },
     "metadata": {},
     "output_type": "display_data"
    },
    {
     "name": "stdout",
     "output_type": "stream",
     "text": [
      "EvaluatorHoldout: Processed 10444 (100.0%) in 4.85 sec. Users per second: 2156\n",
      "ImplicitALSRecommender: URM Detected 243 ( 1.9%) users with no interactions.\n",
      "ImplicitALSRecommender: URM Detected 122 ( 0.5%) items with no interactions.\n",
      "Using gpu: True\n"
     ]
    },
    {
     "data": {
      "application/vnd.jupyter.widget-view+json": {
       "model_id": "77392e16ab6f450886a465e758f410e2",
       "version_major": 2,
       "version_minor": 0
      },
      "text/plain": [
       "  0%|          | 0/1283 [00:00<?, ?it/s]"
      ]
     },
     "metadata": {},
     "output_type": "display_data"
    },
    {
     "name": "stdout",
     "output_type": "stream",
     "text": [
      "EvaluatorHoldout: Processed 10473 (100.0%) in 6.58 sec. Users per second: 1591\n",
      "ImplicitALSRecommender: URM Detected 239 ( 1.9%) users with no interactions.\n",
      "ImplicitALSRecommender: URM Detected 109 ( 0.5%) items with no interactions.\n",
      "Using gpu: True\n"
     ]
    },
    {
     "data": {
      "application/vnd.jupyter.widget-view+json": {
       "model_id": "46fa88a0986f4fa7a33dd7c6bcb6538f",
       "version_major": 2,
       "version_minor": 0
      },
      "text/plain": [
       "  0%|          | 0/1283 [00:00<?, ?it/s]"
      ]
     },
     "metadata": {},
     "output_type": "display_data"
    },
    {
     "name": "stdout",
     "output_type": "stream",
     "text": [
      "EvaluatorHoldout: Processed 10493 (100.0%) in 6.16 sec. Users per second: 1703\n",
      "ImplicitALSRecommender: URM Detected 201 ( 1.6%) users with no interactions.\n",
      "ImplicitALSRecommender: URM Detected 114 ( 0.5%) items with no interactions.\n",
      "Using gpu: True\n"
     ]
    },
    {
     "data": {
      "application/vnd.jupyter.widget-view+json": {
       "model_id": "8e724990ba61479eaaeeba7685f7cff3",
       "version_major": 2,
       "version_minor": 0
      },
      "text/plain": [
       "  0%|          | 0/1283 [00:00<?, ?it/s]"
      ]
     },
     "metadata": {},
     "output_type": "display_data"
    },
    {
     "name": "stdout",
     "output_type": "stream",
     "text": [
      "EvaluatorHoldout: Processed 10467 (100.0%) in 5.40 sec. Users per second: 1939\n",
      "ImplicitALSRecommender: URM Detected 220 ( 1.7%) users with no interactions.\n",
      "ImplicitALSRecommender: URM Detected 118 ( 0.5%) items with no interactions.\n",
      "Using gpu: True\n"
     ]
    },
    {
     "data": {
      "application/vnd.jupyter.widget-view+json": {
       "model_id": "1fd9aaba94614d3ebda1afe83ec4cd3e",
       "version_major": 2,
       "version_minor": 0
      },
      "text/plain": [
       "  0%|          | 0/1283 [00:00<?, ?it/s]"
      ]
     },
     "metadata": {},
     "output_type": "display_data"
    },
    {
     "name": "stdout",
     "output_type": "stream",
     "text": [
      "EvaluatorHoldout: Processed 10440 (100.0%) in 4.28 sec. Users per second: 2438\n"
     ]
    },
    {
     "name": "stderr",
     "output_type": "stream",
     "text": [
      "[I 2024-01-07 22:24:02,277] Trial 4 finished with value: 0.02823718759867475 and parameters: {'num_factors': 610, 'l1_ratio': 1283, 'confidence_scaling': 'log', 'alpha': 0.045009876421809425, 'epsilon': 0.483218253411256, 'reg': 9.069880984794107e-05}. Best is trial 1 with value: 0.03484182285838667.\n",
      "[W 2024-01-07 22:24:02,329] The parameter 'confidence_scaling' in trial#5 is sampled independently by using `RandomSampler` instead of `CmaEsSampler` (optimization performance may be degraded). `CmaEsSampler` does not support dynamic search space or `CategoricalDistribution`. You can suppress this warning by setting `warn_independent_sampling` to `False` in the constructor of `CmaEsSampler`, if this independent sampling is intended behavior.\n"
     ]
    },
    {
     "name": "stdout",
     "output_type": "stream",
     "text": [
      "ImplicitALSRecommender: URM Detected 229 ( 1.8%) users with no interactions.\n",
      "ImplicitALSRecommender: URM Detected 126 ( 0.6%) items with no interactions.\n",
      "Using gpu: True\n"
     ]
    },
    {
     "data": {
      "application/vnd.jupyter.widget-view+json": {
       "model_id": "b83f9d24789d4a0c9fce17fb4df654b3",
       "version_major": 2,
       "version_minor": 0
      },
      "text/plain": [
       "  0%|          | 0/906 [00:00<?, ?it/s]"
      ]
     },
     "metadata": {},
     "output_type": "display_data"
    },
    {
     "name": "stdout",
     "output_type": "stream",
     "text": [
      "EvaluatorHoldout: Processed 10472 (100.0%) in 6.54 sec. Users per second: 1602\n",
      "ImplicitALSRecommender: URM Detected 217 ( 1.7%) users with no interactions.\n",
      "ImplicitALSRecommender: URM Detected 113 ( 0.5%) items with no interactions.\n",
      "Using gpu: True\n"
     ]
    },
    {
     "data": {
      "application/vnd.jupyter.widget-view+json": {
       "model_id": "5e42d7b5e98c4e93a337d8ae2093895c",
       "version_major": 2,
       "version_minor": 0
      },
      "text/plain": [
       "  0%|          | 0/906 [00:00<?, ?it/s]"
      ]
     },
     "metadata": {},
     "output_type": "display_data"
    },
    {
     "name": "stdout",
     "output_type": "stream",
     "text": [
      "EvaluatorHoldout: Processed 10488 (100.0%) in 6.76 sec. Users per second: 1552\n",
      "ImplicitALSRecommender: URM Detected 223 ( 1.8%) users with no interactions.\n",
      "ImplicitALSRecommender: URM Detected 106 ( 0.5%) items with no interactions.\n",
      "Using gpu: True\n"
     ]
    },
    {
     "data": {
      "application/vnd.jupyter.widget-view+json": {
       "model_id": "ba40bdba474f4454a2ade44aec9d7832",
       "version_major": 2,
       "version_minor": 0
      },
      "text/plain": [
       "  0%|          | 0/906 [00:00<?, ?it/s]"
      ]
     },
     "metadata": {},
     "output_type": "display_data"
    },
    {
     "name": "stdout",
     "output_type": "stream",
     "text": [
      "EvaluatorHoldout: Processed 10448 (100.0%) in 5.10 sec. Users per second: 2047\n",
      "ImplicitALSRecommender: URM Detected 227 ( 1.8%) users with no interactions.\n",
      "ImplicitALSRecommender: URM Detected 109 ( 0.5%) items with no interactions.\n",
      "Using gpu: True\n"
     ]
    },
    {
     "data": {
      "application/vnd.jupyter.widget-view+json": {
       "model_id": "c713365442ab4f5ba14b2d8a8b56e858",
       "version_major": 2,
       "version_minor": 0
      },
      "text/plain": [
       "  0%|          | 0/906 [00:00<?, ?it/s]"
      ]
     },
     "metadata": {},
     "output_type": "display_data"
    },
    {
     "name": "stdout",
     "output_type": "stream",
     "text": [
      "EvaluatorHoldout: Processed 10444 (100.0%) in 5.85 sec. Users per second: 1786\n",
      "ImplicitALSRecommender: URM Detected 243 ( 1.9%) users with no interactions.\n",
      "ImplicitALSRecommender: URM Detected 122 ( 0.5%) items with no interactions.\n",
      "Using gpu: True\n"
     ]
    },
    {
     "data": {
      "application/vnd.jupyter.widget-view+json": {
       "model_id": "a1eba027f4114769adb106e930da4140",
       "version_major": 2,
       "version_minor": 0
      },
      "text/plain": [
       "  0%|          | 0/906 [00:00<?, ?it/s]"
      ]
     },
     "metadata": {},
     "output_type": "display_data"
    },
    {
     "name": "stdout",
     "output_type": "stream",
     "text": [
      "EvaluatorHoldout: Processed 10473 (100.0%) in 5.97 sec. Users per second: 1753\n",
      "ImplicitALSRecommender: URM Detected 239 ( 1.9%) users with no interactions.\n",
      "ImplicitALSRecommender: URM Detected 109 ( 0.5%) items with no interactions.\n",
      "Using gpu: True\n"
     ]
    },
    {
     "data": {
      "application/vnd.jupyter.widget-view+json": {
       "model_id": "b283b316485d48dbaa570984f6d89d91",
       "version_major": 2,
       "version_minor": 0
      },
      "text/plain": [
       "  0%|          | 0/906 [00:00<?, ?it/s]"
      ]
     },
     "metadata": {},
     "output_type": "display_data"
    },
    {
     "name": "stdout",
     "output_type": "stream",
     "text": [
      "EvaluatorHoldout: Processed 10493 (100.0%) in 6.79 sec. Users per second: 1546\n",
      "ImplicitALSRecommender: URM Detected 201 ( 1.6%) users with no interactions.\n",
      "ImplicitALSRecommender: URM Detected 114 ( 0.5%) items with no interactions.\n",
      "Using gpu: True\n"
     ]
    },
    {
     "data": {
      "application/vnd.jupyter.widget-view+json": {
       "model_id": "2d59e29346b441198e381fb85bff2db7",
       "version_major": 2,
       "version_minor": 0
      },
      "text/plain": [
       "  0%|          | 0/906 [00:00<?, ?it/s]"
      ]
     },
     "metadata": {},
     "output_type": "display_data"
    },
    {
     "name": "stdout",
     "output_type": "stream",
     "text": [
      "EvaluatorHoldout: Processed 10467 (100.0%) in 4.69 sec. Users per second: 2230\n",
      "ImplicitALSRecommender: URM Detected 220 ( 1.7%) users with no interactions.\n",
      "ImplicitALSRecommender: URM Detected 118 ( 0.5%) items with no interactions.\n",
      "Using gpu: True\n"
     ]
    },
    {
     "data": {
      "application/vnd.jupyter.widget-view+json": {
       "model_id": "46ed3aee92114d1985f7655f62b20594",
       "version_major": 2,
       "version_minor": 0
      },
      "text/plain": [
       "  0%|          | 0/906 [00:00<?, ?it/s]"
      ]
     },
     "metadata": {},
     "output_type": "display_data"
    },
    {
     "name": "stdout",
     "output_type": "stream",
     "text": [
      "EvaluatorHoldout: Processed 10440 (100.0%) in 6.82 sec. Users per second: 1531\n"
     ]
    },
    {
     "name": "stderr",
     "output_type": "stream",
     "text": [
      "[I 2024-01-07 22:39:49,359] Trial 5 finished with value: 0.030561709466137857 and parameters: {'num_factors': 823, 'l1_ratio': 906, 'confidence_scaling': 'linear', 'alpha': 1.0001457845591777, 'epsilon': 0.5219757047519898, 'reg': 0.00046169869011503513}. Best is trial 1 with value: 0.03484182285838667.\n",
      "[W 2024-01-07 22:39:49,435] The parameter 'confidence_scaling' in trial#6 is sampled independently by using `RandomSampler` instead of `CmaEsSampler` (optimization performance may be degraded). `CmaEsSampler` does not support dynamic search space or `CategoricalDistribution`. You can suppress this warning by setting `warn_independent_sampling` to `False` in the constructor of `CmaEsSampler`, if this independent sampling is intended behavior.\n"
     ]
    },
    {
     "name": "stdout",
     "output_type": "stream",
     "text": [
      "ImplicitALSRecommender: URM Detected 229 ( 1.8%) users with no interactions.\n",
      "ImplicitALSRecommender: URM Detected 126 ( 0.6%) items with no interactions.\n",
      "Using gpu: True\n"
     ]
    },
    {
     "data": {
      "application/vnd.jupyter.widget-view+json": {
       "model_id": "236fbf9c60df43ea9a517a84fb87449b",
       "version_major": 2,
       "version_minor": 0
      },
      "text/plain": [
       "  0%|          | 0/1117 [00:00<?, ?it/s]"
      ]
     },
     "metadata": {},
     "output_type": "display_data"
    },
    {
     "name": "stdout",
     "output_type": "stream",
     "text": [
      "EvaluatorHoldout: Processed 10472 (100.0%) in 4.79 sec. Users per second: 2185\n",
      "ImplicitALSRecommender: URM Detected 217 ( 1.7%) users with no interactions.\n",
      "ImplicitALSRecommender: URM Detected 113 ( 0.5%) items with no interactions.\n",
      "Using gpu: True\n"
     ]
    },
    {
     "data": {
      "application/vnd.jupyter.widget-view+json": {
       "model_id": "67bb91832ba14924a19005c96b8c4fca",
       "version_major": 2,
       "version_minor": 0
      },
      "text/plain": [
       "  0%|          | 0/1117 [00:00<?, ?it/s]"
      ]
     },
     "metadata": {},
     "output_type": "display_data"
    },
    {
     "name": "stdout",
     "output_type": "stream",
     "text": [
      "EvaluatorHoldout: Processed 10488 (100.0%) in 7.17 sec. Users per second: 1463\n",
      "ImplicitALSRecommender: URM Detected 223 ( 1.8%) users with no interactions.\n",
      "ImplicitALSRecommender: URM Detected 106 ( 0.5%) items with no interactions.\n",
      "Using gpu: True\n"
     ]
    },
    {
     "data": {
      "application/vnd.jupyter.widget-view+json": {
       "model_id": "6bd6987679314edebd3a626fc5bc8132",
       "version_major": 2,
       "version_minor": 0
      },
      "text/plain": [
       "  0%|          | 0/1117 [00:00<?, ?it/s]"
      ]
     },
     "metadata": {},
     "output_type": "display_data"
    },
    {
     "name": "stdout",
     "output_type": "stream",
     "text": [
      "EvaluatorHoldout: Processed 10448 (100.0%) in 5.66 sec. Users per second: 1847\n",
      "ImplicitALSRecommender: URM Detected 227 ( 1.8%) users with no interactions.\n",
      "ImplicitALSRecommender: URM Detected 109 ( 0.5%) items with no interactions.\n",
      "Using gpu: True\n"
     ]
    },
    {
     "data": {
      "application/vnd.jupyter.widget-view+json": {
       "model_id": "fda9dad771e841fba9f40310f74d7233",
       "version_major": 2,
       "version_minor": 0
      },
      "text/plain": [
       "  0%|          | 0/1117 [00:00<?, ?it/s]"
      ]
     },
     "metadata": {},
     "output_type": "display_data"
    },
    {
     "name": "stdout",
     "output_type": "stream",
     "text": [
      "EvaluatorHoldout: Processed 10444 (100.0%) in 7.21 sec. Users per second: 1449\n",
      "ImplicitALSRecommender: URM Detected 243 ( 1.9%) users with no interactions.\n",
      "ImplicitALSRecommender: URM Detected 122 ( 0.5%) items with no interactions.\n",
      "Using gpu: True\n"
     ]
    },
    {
     "data": {
      "application/vnd.jupyter.widget-view+json": {
       "model_id": "05bb50fe8e914922bcc67c871d9fdfc3",
       "version_major": 2,
       "version_minor": 0
      },
      "text/plain": [
       "  0%|          | 0/1117 [00:00<?, ?it/s]"
      ]
     },
     "metadata": {},
     "output_type": "display_data"
    },
    {
     "name": "stdout",
     "output_type": "stream",
     "text": [
      "EvaluatorHoldout: Processed 10473 (100.0%) in 5.69 sec. Users per second: 1841\n",
      "ImplicitALSRecommender: URM Detected 239 ( 1.9%) users with no interactions.\n",
      "ImplicitALSRecommender: URM Detected 109 ( 0.5%) items with no interactions.\n",
      "Using gpu: True\n"
     ]
    },
    {
     "data": {
      "application/vnd.jupyter.widget-view+json": {
       "model_id": "9cb700e7405943179c75ac1f0163396c",
       "version_major": 2,
       "version_minor": 0
      },
      "text/plain": [
       "  0%|          | 0/1117 [00:00<?, ?it/s]"
      ]
     },
     "metadata": {},
     "output_type": "display_data"
    },
    {
     "name": "stdout",
     "output_type": "stream",
     "text": [
      "EvaluatorHoldout: Processed 10493 (100.0%) in 7.59 sec. Users per second: 1382\n",
      "ImplicitALSRecommender: URM Detected 201 ( 1.6%) users with no interactions.\n",
      "ImplicitALSRecommender: URM Detected 114 ( 0.5%) items with no interactions.\n",
      "Using gpu: True\n"
     ]
    },
    {
     "data": {
      "application/vnd.jupyter.widget-view+json": {
       "model_id": "bd4cf1e6f9bc4f68b39e295aa3db3d90",
       "version_major": 2,
       "version_minor": 0
      },
      "text/plain": [
       "  0%|          | 0/1117 [00:00<?, ?it/s]"
      ]
     },
     "metadata": {},
     "output_type": "display_data"
    },
    {
     "name": "stdout",
     "output_type": "stream",
     "text": [
      "EvaluatorHoldout: Processed 10467 (100.0%) in 5.52 sec. Users per second: 1895\n",
      "ImplicitALSRecommender: URM Detected 220 ( 1.7%) users with no interactions.\n",
      "ImplicitALSRecommender: URM Detected 118 ( 0.5%) items with no interactions.\n",
      "Using gpu: True\n"
     ]
    },
    {
     "data": {
      "application/vnd.jupyter.widget-view+json": {
       "model_id": "75def843b4474a498dd4c39bace096e5",
       "version_major": 2,
       "version_minor": 0
      },
      "text/plain": [
       "  0%|          | 0/1117 [00:00<?, ?it/s]"
      ]
     },
     "metadata": {},
     "output_type": "display_data"
    },
    {
     "name": "stdout",
     "output_type": "stream",
     "text": [
      "EvaluatorHoldout: Processed 10440 (100.0%) in 7.17 sec. Users per second: 1456\n"
     ]
    },
    {
     "name": "stderr",
     "output_type": "stream",
     "text": [
      "[I 2024-01-07 22:41:11,780] Trial 6 finished with value: 0.00010852066092573862 and parameters: {'num_factors': 1060, 'l1_ratio': 1117, 'confidence_scaling': 'linear', 'alpha': 2.2640550646230193, 'epsilon': 0.05274142249984497, 'reg': 0.00011894724385814738}. Best is trial 1 with value: 0.03484182285838667.\n",
      "[W 2024-01-07 22:41:11,862] The parameter 'confidence_scaling' in trial#7 is sampled independently by using `RandomSampler` instead of `CmaEsSampler` (optimization performance may be degraded). `CmaEsSampler` does not support dynamic search space or `CategoricalDistribution`. You can suppress this warning by setting `warn_independent_sampling` to `False` in the constructor of `CmaEsSampler`, if this independent sampling is intended behavior.\n"
     ]
    },
    {
     "name": "stdout",
     "output_type": "stream",
     "text": [
      "ImplicitALSRecommender: URM Detected 229 ( 1.8%) users with no interactions.\n",
      "ImplicitALSRecommender: URM Detected 126 ( 0.6%) items with no interactions.\n",
      "Using gpu: True\n"
     ]
    },
    {
     "data": {
      "application/vnd.jupyter.widget-view+json": {
       "model_id": "34a3cf7c08c947da9377075ffa18279d",
       "version_major": 2,
       "version_minor": 0
      },
      "text/plain": [
       "  0%|          | 0/739 [00:00<?, ?it/s]"
      ]
     },
     "metadata": {},
     "output_type": "display_data"
    },
    {
     "name": "stdout",
     "output_type": "stream",
     "text": [
      "EvaluatorHoldout: Processed 10472 (100.0%) in 6.53 sec. Users per second: 1604\n",
      "ImplicitALSRecommender: URM Detected 217 ( 1.7%) users with no interactions.\n",
      "ImplicitALSRecommender: URM Detected 113 ( 0.5%) items with no interactions.\n",
      "Using gpu: True\n"
     ]
    },
    {
     "data": {
      "application/vnd.jupyter.widget-view+json": {
       "model_id": "a8ec2aba2f0946108cdc7eadb29f40b9",
       "version_major": 2,
       "version_minor": 0
      },
      "text/plain": [
       "  0%|          | 0/739 [00:00<?, ?it/s]"
      ]
     },
     "metadata": {},
     "output_type": "display_data"
    },
    {
     "name": "stdout",
     "output_type": "stream",
     "text": [
      "EvaluatorHoldout: Processed 10488 (100.0%) in 6.66 sec. Users per second: 1574\n",
      "ImplicitALSRecommender: URM Detected 223 ( 1.8%) users with no interactions.\n",
      "ImplicitALSRecommender: URM Detected 106 ( 0.5%) items with no interactions.\n",
      "Using gpu: True\n"
     ]
    },
    {
     "data": {
      "application/vnd.jupyter.widget-view+json": {
       "model_id": "d4ba6721f5d74ec4a1502db442cae0ba",
       "version_major": 2,
       "version_minor": 0
      },
      "text/plain": [
       "  0%|          | 0/739 [00:00<?, ?it/s]"
      ]
     },
     "metadata": {},
     "output_type": "display_data"
    },
    {
     "name": "stdout",
     "output_type": "stream",
     "text": [
      "EvaluatorHoldout: Processed 10448 (100.0%) in 6.73 sec. Users per second: 1553\n",
      "ImplicitALSRecommender: URM Detected 227 ( 1.8%) users with no interactions.\n",
      "ImplicitALSRecommender: URM Detected 109 ( 0.5%) items with no interactions.\n",
      "Using gpu: True\n"
     ]
    },
    {
     "data": {
      "application/vnd.jupyter.widget-view+json": {
       "model_id": "c48b7c0b9076404686d338c91af84a60",
       "version_major": 2,
       "version_minor": 0
      },
      "text/plain": [
       "  0%|          | 0/739 [00:00<?, ?it/s]"
      ]
     },
     "metadata": {},
     "output_type": "display_data"
    },
    {
     "name": "stdout",
     "output_type": "stream",
     "text": [
      "EvaluatorHoldout: Processed 10444 (100.0%) in 6.51 sec. Users per second: 1603\n",
      "ImplicitALSRecommender: URM Detected 243 ( 1.9%) users with no interactions.\n",
      "ImplicitALSRecommender: URM Detected 122 ( 0.5%) items with no interactions.\n",
      "Using gpu: True\n"
     ]
    },
    {
     "data": {
      "application/vnd.jupyter.widget-view+json": {
       "model_id": "5b11e50005f34900833c723e7ee51d1a",
       "version_major": 2,
       "version_minor": 0
      },
      "text/plain": [
       "  0%|          | 0/739 [00:00<?, ?it/s]"
      ]
     },
     "metadata": {},
     "output_type": "display_data"
    },
    {
     "name": "stdout",
     "output_type": "stream",
     "text": [
      "EvaluatorHoldout: Processed 10473 (100.0%) in 6.79 sec. Users per second: 1542\n",
      "ImplicitALSRecommender: URM Detected 239 ( 1.9%) users with no interactions.\n",
      "ImplicitALSRecommender: URM Detected 109 ( 0.5%) items with no interactions.\n",
      "Using gpu: True\n"
     ]
    },
    {
     "data": {
      "application/vnd.jupyter.widget-view+json": {
       "model_id": "cb968dd6837244239e9b4ef2028e447b",
       "version_major": 2,
       "version_minor": 0
      },
      "text/plain": [
       "  0%|          | 0/739 [00:00<?, ?it/s]"
      ]
     },
     "metadata": {},
     "output_type": "display_data"
    },
    {
     "name": "stdout",
     "output_type": "stream",
     "text": [
      "EvaluatorHoldout: Processed 10493 (100.0%) in 6.86 sec. Users per second: 1529\n",
      "ImplicitALSRecommender: URM Detected 201 ( 1.6%) users with no interactions.\n",
      "ImplicitALSRecommender: URM Detected 114 ( 0.5%) items with no interactions.\n",
      "Using gpu: True\n"
     ]
    },
    {
     "data": {
      "application/vnd.jupyter.widget-view+json": {
       "model_id": "ca783901cff347df89b65eda656c2dfe",
       "version_major": 2,
       "version_minor": 0
      },
      "text/plain": [
       "  0%|          | 0/739 [00:00<?, ?it/s]"
      ]
     },
     "metadata": {},
     "output_type": "display_data"
    },
    {
     "name": "stdout",
     "output_type": "stream",
     "text": [
      "EvaluatorHoldout: Processed 10467 (100.0%) in 4.76 sec. Users per second: 2197\n",
      "ImplicitALSRecommender: URM Detected 220 ( 1.7%) users with no interactions.\n",
      "ImplicitALSRecommender: URM Detected 118 ( 0.5%) items with no interactions.\n",
      "Using gpu: True\n"
     ]
    },
    {
     "data": {
      "application/vnd.jupyter.widget-view+json": {
       "model_id": "70dcce272e974fcdb5bad6bdd7fc982f",
       "version_major": 2,
       "version_minor": 0
      },
      "text/plain": [
       "  0%|          | 0/739 [00:00<?, ?it/s]"
      ]
     },
     "metadata": {},
     "output_type": "display_data"
    },
    {
     "name": "stdout",
     "output_type": "stream",
     "text": [
      "EvaluatorHoldout: Processed 10440 (100.0%) in 6.60 sec. Users per second: 1582\n"
     ]
    },
    {
     "name": "stderr",
     "output_type": "stream",
     "text": [
      "[I 2024-01-07 22:54:19,030] Trial 7 finished with value: 0.029419384900947632 and parameters: {'num_factors': 828, 'l1_ratio': 739, 'confidence_scaling': 'linear', 'alpha': 0.5535455356984035, 'epsilon': 0.017573970070384942, 'reg': 0.0002774891200748702}. Best is trial 1 with value: 0.03484182285838667.\n",
      "[W 2024-01-07 22:54:19,106] The parameter 'confidence_scaling' in trial#8 is sampled independently by using `RandomSampler` instead of `CmaEsSampler` (optimization performance may be degraded). `CmaEsSampler` does not support dynamic search space or `CategoricalDistribution`. You can suppress this warning by setting `warn_independent_sampling` to `False` in the constructor of `CmaEsSampler`, if this independent sampling is intended behavior.\n"
     ]
    },
    {
     "name": "stdout",
     "output_type": "stream",
     "text": [
      "ImplicitALSRecommender: URM Detected 229 ( 1.8%) users with no interactions.\n",
      "ImplicitALSRecommender: URM Detected 126 ( 0.6%) items with no interactions.\n",
      "Using gpu: True\n"
     ]
    },
    {
     "data": {
      "application/vnd.jupyter.widget-view+json": {
       "model_id": "2f1d4f7828794889bbbcc13528e00c0b",
       "version_major": 2,
       "version_minor": 0
      },
      "text/plain": [
       "  0%|          | 0/1237 [00:00<?, ?it/s]"
      ]
     },
     "metadata": {},
     "output_type": "display_data"
    },
    {
     "name": "stdout",
     "output_type": "stream",
     "text": [
      "EvaluatorHoldout: Processed 10472 (100.0%) in 4.07 sec. Users per second: 2570\n",
      "ImplicitALSRecommender: URM Detected 217 ( 1.7%) users with no interactions.\n",
      "ImplicitALSRecommender: URM Detected 113 ( 0.5%) items with no interactions.\n",
      "Using gpu: True\n"
     ]
    },
    {
     "data": {
      "application/vnd.jupyter.widget-view+json": {
       "model_id": "92aa489bc28a46879aa29124a958d310",
       "version_major": 2,
       "version_minor": 0
      },
      "text/plain": [
       "  0%|          | 0/1237 [00:00<?, ?it/s]"
      ]
     },
     "metadata": {},
     "output_type": "display_data"
    },
    {
     "name": "stdout",
     "output_type": "stream",
     "text": [
      "EvaluatorHoldout: Processed 10488 (100.0%) in 5.77 sec. Users per second: 1819\n",
      "ImplicitALSRecommender: URM Detected 223 ( 1.8%) users with no interactions.\n",
      "ImplicitALSRecommender: URM Detected 106 ( 0.5%) items with no interactions.\n",
      "Using gpu: True\n"
     ]
    },
    {
     "data": {
      "application/vnd.jupyter.widget-view+json": {
       "model_id": "85bc03e01e504d57b97de28ee0057701",
       "version_major": 2,
       "version_minor": 0
      },
      "text/plain": [
       "  0%|          | 0/1237 [00:00<?, ?it/s]"
      ]
     },
     "metadata": {},
     "output_type": "display_data"
    },
    {
     "name": "stdout",
     "output_type": "stream",
     "text": [
      "EvaluatorHoldout: Processed 10448 (100.0%) in 5.72 sec. Users per second: 1826\n",
      "ImplicitALSRecommender: URM Detected 227 ( 1.8%) users with no interactions.\n",
      "ImplicitALSRecommender: URM Detected 109 ( 0.5%) items with no interactions.\n",
      "Using gpu: True\n"
     ]
    },
    {
     "data": {
      "application/vnd.jupyter.widget-view+json": {
       "model_id": "3e1d8f246766484cbbde5e35e1051d80",
       "version_major": 2,
       "version_minor": 0
      },
      "text/plain": [
       "  0%|          | 0/1237 [00:00<?, ?it/s]"
      ]
     },
     "metadata": {},
     "output_type": "display_data"
    },
    {
     "name": "stdout",
     "output_type": "stream",
     "text": [
      "EvaluatorHoldout: Processed 10444 (100.0%) in 5.64 sec. Users per second: 1850\n",
      "ImplicitALSRecommender: URM Detected 243 ( 1.9%) users with no interactions.\n",
      "ImplicitALSRecommender: URM Detected 122 ( 0.5%) items with no interactions.\n",
      "Using gpu: True\n"
     ]
    },
    {
     "data": {
      "application/vnd.jupyter.widget-view+json": {
       "model_id": "85808e655e094f7f99d035333e6e8ec6",
       "version_major": 2,
       "version_minor": 0
      },
      "text/plain": [
       "  0%|          | 0/1237 [00:00<?, ?it/s]"
      ]
     },
     "metadata": {},
     "output_type": "display_data"
    },
    {
     "name": "stdout",
     "output_type": "stream",
     "text": [
      "EvaluatorHoldout: Processed 10473 (100.0%) in 4.02 sec. Users per second: 2608\n",
      "ImplicitALSRecommender: URM Detected 239 ( 1.9%) users with no interactions.\n",
      "ImplicitALSRecommender: URM Detected 109 ( 0.5%) items with no interactions.\n",
      "Using gpu: True\n"
     ]
    },
    {
     "data": {
      "application/vnd.jupyter.widget-view+json": {
       "model_id": "aea85c534ecb46d7becf6bec97b10e9f",
       "version_major": 2,
       "version_minor": 0
      },
      "text/plain": [
       "  0%|          | 0/1237 [00:00<?, ?it/s]"
      ]
     },
     "metadata": {},
     "output_type": "display_data"
    },
    {
     "name": "stdout",
     "output_type": "stream",
     "text": [
      "EvaluatorHoldout: Processed 10493 (100.0%) in 5.77 sec. Users per second: 1818\n",
      "ImplicitALSRecommender: URM Detected 201 ( 1.6%) users with no interactions.\n",
      "ImplicitALSRecommender: URM Detected 114 ( 0.5%) items with no interactions.\n",
      "Using gpu: True\n"
     ]
    },
    {
     "data": {
      "application/vnd.jupyter.widget-view+json": {
       "model_id": "c686a5763abf4457a24f2ab82ca61cb6",
       "version_major": 2,
       "version_minor": 0
      },
      "text/plain": [
       "  0%|          | 0/1237 [00:00<?, ?it/s]"
      ]
     },
     "metadata": {},
     "output_type": "display_data"
    },
    {
     "name": "stdout",
     "output_type": "stream",
     "text": [
      "EvaluatorHoldout: Processed 10467 (100.0%) in 6.70 sec. Users per second: 1563\n",
      "ImplicitALSRecommender: URM Detected 220 ( 1.7%) users with no interactions.\n",
      "ImplicitALSRecommender: URM Detected 118 ( 0.5%) items with no interactions.\n",
      "Using gpu: True\n"
     ]
    },
    {
     "data": {
      "application/vnd.jupyter.widget-view+json": {
       "model_id": "bd45179f971047adb358c864a83bc6b6",
       "version_major": 2,
       "version_minor": 0
      },
      "text/plain": [
       "  0%|          | 0/1237 [00:00<?, ?it/s]"
      ]
     },
     "metadata": {},
     "output_type": "display_data"
    },
    {
     "name": "stdout",
     "output_type": "stream",
     "text": [
      "EvaluatorHoldout: Processed 10440 (100.0%) in 6.08 sec. Users per second: 1718\n"
     ]
    },
    {
     "name": "stderr",
     "output_type": "stream",
     "text": [
      "[I 2024-01-07 22:58:39,216] Trial 8 finished with value: 0.029492650032513838 and parameters: {'num_factors': 347, 'l1_ratio': 1237, 'confidence_scaling': 'linear', 'alpha': 0.08059389488957049, 'epsilon': 0.021131528361592603, 'reg': 9.481561583968551e-05}. Best is trial 1 with value: 0.03484182285838667.\n",
      "[W 2024-01-07 22:58:39,321] The parameter 'confidence_scaling' in trial#9 is sampled independently by using `RandomSampler` instead of `CmaEsSampler` (optimization performance may be degraded). `CmaEsSampler` does not support dynamic search space or `CategoricalDistribution`. You can suppress this warning by setting `warn_independent_sampling` to `False` in the constructor of `CmaEsSampler`, if this independent sampling is intended behavior.\n"
     ]
    },
    {
     "name": "stdout",
     "output_type": "stream",
     "text": [
      "ImplicitALSRecommender: URM Detected 229 ( 1.8%) users with no interactions.\n",
      "ImplicitALSRecommender: URM Detected 126 ( 0.6%) items with no interactions.\n",
      "Using gpu: True\n"
     ]
    },
    {
     "data": {
      "application/vnd.jupyter.widget-view+json": {
       "model_id": "e98a585aedda4f75aba3be2ca408bdca",
       "version_major": 2,
       "version_minor": 0
      },
      "text/plain": [
       "  0%|          | 0/1374 [00:00<?, ?it/s]"
      ]
     },
     "metadata": {},
     "output_type": "display_data"
    },
    {
     "name": "stdout",
     "output_type": "stream",
     "text": [
      "EvaluatorHoldout: Processed 10472 (100.0%) in 6.45 sec. Users per second: 1623\n",
      "ImplicitALSRecommender: URM Detected 217 ( 1.7%) users with no interactions.\n",
      "ImplicitALSRecommender: URM Detected 113 ( 0.5%) items with no interactions.\n",
      "Using gpu: True\n"
     ]
    },
    {
     "data": {
      "application/vnd.jupyter.widget-view+json": {
       "model_id": "db624badc4884717b590f216606818c2",
       "version_major": 2,
       "version_minor": 0
      },
      "text/plain": [
       "  0%|          | 0/1374 [00:00<?, ?it/s]"
      ]
     },
     "metadata": {},
     "output_type": "display_data"
    },
    {
     "name": "stdout",
     "output_type": "stream",
     "text": [
      "EvaluatorHoldout: Processed 10488 (100.0%) in 6.04 sec. Users per second: 1735\n",
      "ImplicitALSRecommender: URM Detected 223 ( 1.8%) users with no interactions.\n",
      "ImplicitALSRecommender: URM Detected 106 ( 0.5%) items with no interactions.\n",
      "Using gpu: True\n"
     ]
    },
    {
     "data": {
      "application/vnd.jupyter.widget-view+json": {
       "model_id": "e4a13aae88f5442592d651d523df3096",
       "version_major": 2,
       "version_minor": 0
      },
      "text/plain": [
       "  0%|          | 0/1374 [00:00<?, ?it/s]"
      ]
     },
     "metadata": {},
     "output_type": "display_data"
    },
    {
     "name": "stdout",
     "output_type": "stream",
     "text": [
      "EvaluatorHoldout: Processed 10448 (100.0%) in 7.25 sec. Users per second: 1441\n",
      "ImplicitALSRecommender: URM Detected 227 ( 1.8%) users with no interactions.\n",
      "ImplicitALSRecommender: URM Detected 109 ( 0.5%) items with no interactions.\n",
      "Using gpu: True\n"
     ]
    },
    {
     "data": {
      "application/vnd.jupyter.widget-view+json": {
       "model_id": "b1020fdb1d904affac189157c6982294",
       "version_major": 2,
       "version_minor": 0
      },
      "text/plain": [
       "  0%|          | 0/1374 [00:00<?, ?it/s]"
      ]
     },
     "metadata": {},
     "output_type": "display_data"
    },
    {
     "name": "stdout",
     "output_type": "stream",
     "text": [
      "EvaluatorHoldout: Processed 10444 (100.0%) in 5.59 sec. Users per second: 1869\n",
      "ImplicitALSRecommender: URM Detected 243 ( 1.9%) users with no interactions.\n",
      "ImplicitALSRecommender: URM Detected 122 ( 0.5%) items with no interactions.\n",
      "Using gpu: True\n"
     ]
    },
    {
     "data": {
      "application/vnd.jupyter.widget-view+json": {
       "model_id": "3df0080fc13b45aeaa71c4b71ff5c36a",
       "version_major": 2,
       "version_minor": 0
      },
      "text/plain": [
       "  0%|          | 0/1374 [00:00<?, ?it/s]"
      ]
     },
     "metadata": {},
     "output_type": "display_data"
    },
    {
     "name": "stdout",
     "output_type": "stream",
     "text": [
      "EvaluatorHoldout: Processed 10473 (100.0%) in 6.22 sec. Users per second: 1684\n",
      "ImplicitALSRecommender: URM Detected 239 ( 1.9%) users with no interactions.\n",
      "ImplicitALSRecommender: URM Detected 109 ( 0.5%) items with no interactions.\n",
      "Using gpu: True\n"
     ]
    },
    {
     "data": {
      "application/vnd.jupyter.widget-view+json": {
       "model_id": "55114d9781954a7488b98d22ab2cb926",
       "version_major": 2,
       "version_minor": 0
      },
      "text/plain": [
       "  0%|          | 0/1374 [00:00<?, ?it/s]"
      ]
     },
     "metadata": {},
     "output_type": "display_data"
    },
    {
     "name": "stdout",
     "output_type": "stream",
     "text": [
      "EvaluatorHoldout: Processed 10493 (100.0%) in 6.54 sec. Users per second: 1604\n",
      "ImplicitALSRecommender: URM Detected 201 ( 1.6%) users with no interactions.\n",
      "ImplicitALSRecommender: URM Detected 114 ( 0.5%) items with no interactions.\n",
      "Using gpu: True\n"
     ]
    },
    {
     "data": {
      "application/vnd.jupyter.widget-view+json": {
       "model_id": "46439ba82de746d093945ad6670b1a62",
       "version_major": 2,
       "version_minor": 0
      },
      "text/plain": [
       "  0%|          | 0/1374 [00:00<?, ?it/s]"
      ]
     },
     "metadata": {},
     "output_type": "display_data"
    },
    {
     "name": "stdout",
     "output_type": "stream",
     "text": [
      "EvaluatorHoldout: Processed 10467 (100.0%) in 4.78 sec. Users per second: 2188\n",
      "ImplicitALSRecommender: URM Detected 220 ( 1.7%) users with no interactions.\n",
      "ImplicitALSRecommender: URM Detected 118 ( 0.5%) items with no interactions.\n",
      "Using gpu: True\n"
     ]
    },
    {
     "data": {
      "application/vnd.jupyter.widget-view+json": {
       "model_id": "2723e19b46b247f8a710b78aca562afa",
       "version_major": 2,
       "version_minor": 0
      },
      "text/plain": [
       "  0%|          | 0/1374 [00:00<?, ?it/s]"
      ]
     },
     "metadata": {},
     "output_type": "display_data"
    },
    {
     "name": "stdout",
     "output_type": "stream",
     "text": [
      "EvaluatorHoldout: Processed 10440 (100.0%) in 6.51 sec. Users per second: 1603\n"
     ]
    },
    {
     "name": "stderr",
     "output_type": "stream",
     "text": [
      "[I 2024-01-07 23:06:58,830] Trial 9 finished with value: 0.029479033787642456 and parameters: {'num_factors': 470, 'l1_ratio': 1374, 'confidence_scaling': 'linear', 'alpha': 0.1543562970240157, 'epsilon': 0.06455877452966488, 'reg': 0.00011304647503950615}. Best is trial 1 with value: 0.03484182285838667.\n",
      "[W 2024-01-07 23:06:58,951] The parameter 'confidence_scaling' in trial#10 is sampled independently by using `RandomSampler` instead of `CmaEsSampler` (optimization performance may be degraded). `CmaEsSampler` does not support dynamic search space or `CategoricalDistribution`. You can suppress this warning by setting `warn_independent_sampling` to `False` in the constructor of `CmaEsSampler`, if this independent sampling is intended behavior.\n"
     ]
    },
    {
     "name": "stdout",
     "output_type": "stream",
     "text": [
      "ImplicitALSRecommender: URM Detected 229 ( 1.8%) users with no interactions.\n",
      "ImplicitALSRecommender: URM Detected 126 ( 0.6%) items with no interactions.\n",
      "Using gpu: True\n"
     ]
    },
    {
     "data": {
      "application/vnd.jupyter.widget-view+json": {
       "model_id": "33ce6a20d1f34b178229f729d207bfa5",
       "version_major": 2,
       "version_minor": 0
      },
      "text/plain": [
       "  0%|          | 0/1698 [00:00<?, ?it/s]"
      ]
     },
     "metadata": {},
     "output_type": "display_data"
    },
    {
     "name": "stdout",
     "output_type": "stream",
     "text": [
      "EvaluatorHoldout: Processed 10472 (100.0%) in 6.82 sec. Users per second: 1535\n",
      "ImplicitALSRecommender: URM Detected 217 ( 1.7%) users with no interactions.\n",
      "ImplicitALSRecommender: URM Detected 113 ( 0.5%) items with no interactions.\n",
      "Using gpu: True\n"
     ]
    },
    {
     "data": {
      "application/vnd.jupyter.widget-view+json": {
       "model_id": "c96ac23291c4497ab44bc2211d98bf0b",
       "version_major": 2,
       "version_minor": 0
      },
      "text/plain": [
       "  0%|          | 0/1698 [00:00<?, ?it/s]"
      ]
     },
     "metadata": {},
     "output_type": "display_data"
    },
    {
     "name": "stdout",
     "output_type": "stream",
     "text": [
      "EvaluatorHoldout: Processed 10488 (100.0%) in 6.84 sec. Users per second: 1534\n",
      "ImplicitALSRecommender: URM Detected 223 ( 1.8%) users with no interactions.\n",
      "ImplicitALSRecommender: URM Detected 106 ( 0.5%) items with no interactions.\n",
      "Using gpu: True\n"
     ]
    },
    {
     "data": {
      "application/vnd.jupyter.widget-view+json": {
       "model_id": "a40ebe63279644a9bee92b2901d207ed",
       "version_major": 2,
       "version_minor": 0
      },
      "text/plain": [
       "  0%|          | 0/1698 [00:00<?, ?it/s]"
      ]
     },
     "metadata": {},
     "output_type": "display_data"
    },
    {
     "name": "stdout",
     "output_type": "stream",
     "text": [
      "EvaluatorHoldout: Processed 10448 (100.0%) in 7.11 sec. Users per second: 1470\n",
      "ImplicitALSRecommender: URM Detected 227 ( 1.8%) users with no interactions.\n",
      "ImplicitALSRecommender: URM Detected 109 ( 0.5%) items with no interactions.\n",
      "Using gpu: True\n"
     ]
    },
    {
     "data": {
      "application/vnd.jupyter.widget-view+json": {
       "model_id": "9776a4f837f04b9dbf2c78839c327dd6",
       "version_major": 2,
       "version_minor": 0
      },
      "text/plain": [
       "  0%|          | 0/1698 [00:00<?, ?it/s]"
      ]
     },
     "metadata": {},
     "output_type": "display_data"
    },
    {
     "name": "stdout",
     "output_type": "stream",
     "text": [
      "EvaluatorHoldout: Processed 10444 (100.0%) in 4.88 sec. Users per second: 2141\n",
      "ImplicitALSRecommender: URM Detected 243 ( 1.9%) users with no interactions.\n",
      "ImplicitALSRecommender: URM Detected 122 ( 0.5%) items with no interactions.\n",
      "Using gpu: True\n"
     ]
    },
    {
     "data": {
      "application/vnd.jupyter.widget-view+json": {
       "model_id": "b865c2df4e03403199a7f526872123b2",
       "version_major": 2,
       "version_minor": 0
      },
      "text/plain": [
       "  0%|          | 0/1698 [00:00<?, ?it/s]"
      ]
     },
     "metadata": {},
     "output_type": "display_data"
    },
    {
     "name": "stdout",
     "output_type": "stream",
     "text": [
      "EvaluatorHoldout: Processed 10473 (100.0%) in 6.86 sec. Users per second: 1527\n",
      "ImplicitALSRecommender: URM Detected 239 ( 1.9%) users with no interactions.\n",
      "ImplicitALSRecommender: URM Detected 109 ( 0.5%) items with no interactions.\n",
      "Using gpu: True\n"
     ]
    },
    {
     "data": {
      "application/vnd.jupyter.widget-view+json": {
       "model_id": "15f7c5859d464d32850e72c24fcc4954",
       "version_major": 2,
       "version_minor": 0
      },
      "text/plain": [
       "  0%|          | 0/1698 [00:00<?, ?it/s]"
      ]
     },
     "metadata": {},
     "output_type": "display_data"
    },
    {
     "name": "stdout",
     "output_type": "stream",
     "text": [
      "EvaluatorHoldout: Processed 10493 (100.0%) in 6.75 sec. Users per second: 1555\n",
      "ImplicitALSRecommender: URM Detected 201 ( 1.6%) users with no interactions.\n",
      "ImplicitALSRecommender: URM Detected 114 ( 0.5%) items with no interactions.\n",
      "Using gpu: True\n"
     ]
    },
    {
     "data": {
      "application/vnd.jupyter.widget-view+json": {
       "model_id": "7cd3fc9aff514df9a3130b2ce3f7fc8a",
       "version_major": 2,
       "version_minor": 0
      },
      "text/plain": [
       "  0%|          | 0/1698 [00:00<?, ?it/s]"
      ]
     },
     "metadata": {},
     "output_type": "display_data"
    },
    {
     "name": "stdout",
     "output_type": "stream",
     "text": [
      "EvaluatorHoldout: Processed 10467 (100.0%) in 6.81 sec. Users per second: 1536\n",
      "ImplicitALSRecommender: URM Detected 220 ( 1.7%) users with no interactions.\n",
      "ImplicitALSRecommender: URM Detected 118 ( 0.5%) items with no interactions.\n",
      "Using gpu: True\n"
     ]
    },
    {
     "data": {
      "application/vnd.jupyter.widget-view+json": {
       "model_id": "01113929fb9e4a21834a925ba9630eea",
       "version_major": 2,
       "version_minor": 0
      },
      "text/plain": [
       "  0%|          | 0/1698 [00:00<?, ?it/s]"
      ]
     },
     "metadata": {},
     "output_type": "display_data"
    },
    {
     "name": "stdout",
     "output_type": "stream",
     "text": [
      "EvaluatorHoldout: Processed 10440 (100.0%) in 6.76 sec. Users per second: 1545\n"
     ]
    },
    {
     "name": "stderr",
     "output_type": "stream",
     "text": [
      "[I 2024-01-07 23:32:27,578] Trial 10 finished with value: 0.03213396191253251 and parameters: {'num_factors': 747, 'l1_ratio': 1698, 'confidence_scaling': 'log', 'alpha': 0.9457223680046352, 'epsilon': 0.17927705492445553, 'reg': 0.0003174075234927388}. Best is trial 1 with value: 0.03484182285838667.\n",
      "[W 2024-01-07 23:32:27,683] The parameter 'confidence_scaling' in trial#11 is sampled independently by using `RandomSampler` instead of `CmaEsSampler` (optimization performance may be degraded). `CmaEsSampler` does not support dynamic search space or `CategoricalDistribution`. You can suppress this warning by setting `warn_independent_sampling` to `False` in the constructor of `CmaEsSampler`, if this independent sampling is intended behavior.\n"
     ]
    },
    {
     "name": "stdout",
     "output_type": "stream",
     "text": [
      "ImplicitALSRecommender: URM Detected 229 ( 1.8%) users with no interactions.\n",
      "ImplicitALSRecommender: URM Detected 126 ( 0.6%) items with no interactions.\n",
      "Using gpu: True\n"
     ]
    },
    {
     "data": {
      "application/vnd.jupyter.widget-view+json": {
       "model_id": "b4de20c7c191414abb2dcca6ac22b7f4",
       "version_major": 2,
       "version_minor": 0
      },
      "text/plain": [
       "  0%|          | 0/1786 [00:00<?, ?it/s]"
      ]
     },
     "metadata": {},
     "output_type": "display_data"
    },
    {
     "name": "stdout",
     "output_type": "stream",
     "text": [
      "EvaluatorHoldout: Processed 10472 (100.0%) in 6.27 sec. Users per second: 1671\n",
      "ImplicitALSRecommender: URM Detected 217 ( 1.7%) users with no interactions.\n",
      "ImplicitALSRecommender: URM Detected 113 ( 0.5%) items with no interactions.\n",
      "Using gpu: True\n"
     ]
    },
    {
     "data": {
      "application/vnd.jupyter.widget-view+json": {
       "model_id": "8fe39a6526a64163b1307030ff9ca8ab",
       "version_major": 2,
       "version_minor": 0
      },
      "text/plain": [
       "  0%|          | 0/1786 [00:00<?, ?it/s]"
      ]
     },
     "metadata": {},
     "output_type": "display_data"
    },
    {
     "name": "stdout",
     "output_type": "stream",
     "text": [
      "EvaluatorHoldout: Processed 10488 (100.0%) in 6.12 sec. Users per second: 1714\n",
      "ImplicitALSRecommender: URM Detected 223 ( 1.8%) users with no interactions.\n",
      "ImplicitALSRecommender: URM Detected 106 ( 0.5%) items with no interactions.\n",
      "Using gpu: True\n"
     ]
    },
    {
     "data": {
      "application/vnd.jupyter.widget-view+json": {
       "model_id": "34fedd16438148fab0b5f9418e602488",
       "version_major": 2,
       "version_minor": 0
      },
      "text/plain": [
       "  0%|          | 0/1786 [00:00<?, ?it/s]"
      ]
     },
     "metadata": {},
     "output_type": "display_data"
    },
    {
     "name": "stdout",
     "output_type": "stream",
     "text": [
      "EvaluatorHoldout: Processed 10448 (100.0%) in 6.13 sec. Users per second: 1704\n",
      "ImplicitALSRecommender: URM Detected 227 ( 1.8%) users with no interactions.\n",
      "ImplicitALSRecommender: URM Detected 109 ( 0.5%) items with no interactions.\n",
      "Using gpu: True\n"
     ]
    },
    {
     "data": {
      "application/vnd.jupyter.widget-view+json": {
       "model_id": "ad08bf3ae3be4f199239c3b1f52fd036",
       "version_major": 2,
       "version_minor": 0
      },
      "text/plain": [
       "  0%|          | 0/1786 [00:00<?, ?it/s]"
      ]
     },
     "metadata": {},
     "output_type": "display_data"
    },
    {
     "name": "stdout",
     "output_type": "stream",
     "text": [
      "EvaluatorHoldout: Processed 10444 (100.0%) in 4.25 sec. Users per second: 2457\n",
      "ImplicitALSRecommender: URM Detected 243 ( 1.9%) users with no interactions.\n",
      "ImplicitALSRecommender: URM Detected 122 ( 0.5%) items with no interactions.\n",
      "Using gpu: True\n"
     ]
    },
    {
     "data": {
      "application/vnd.jupyter.widget-view+json": {
       "model_id": "46891842ad1d4fc8b4644ee9075094ca",
       "version_major": 2,
       "version_minor": 0
      },
      "text/plain": [
       "  0%|          | 0/1786 [00:00<?, ?it/s]"
      ]
     },
     "metadata": {},
     "output_type": "display_data"
    },
    {
     "name": "stdout",
     "output_type": "stream",
     "text": [
      "EvaluatorHoldout: Processed 10473 (100.0%) in 6.25 sec. Users per second: 1676\n",
      "ImplicitALSRecommender: URM Detected 239 ( 1.9%) users with no interactions.\n",
      "ImplicitALSRecommender: URM Detected 109 ( 0.5%) items with no interactions.\n",
      "Using gpu: True\n"
     ]
    },
    {
     "data": {
      "application/vnd.jupyter.widget-view+json": {
       "model_id": "1aa512e397004f4e91d0ace869bad75d",
       "version_major": 2,
       "version_minor": 0
      },
      "text/plain": [
       "  0%|          | 0/1786 [00:00<?, ?it/s]"
      ]
     },
     "metadata": {},
     "output_type": "display_data"
    },
    {
     "name": "stdout",
     "output_type": "stream",
     "text": [
      "EvaluatorHoldout: Processed 10493 (100.0%) in 6.15 sec. Users per second: 1705\n",
      "ImplicitALSRecommender: URM Detected 201 ( 1.6%) users with no interactions.\n",
      "ImplicitALSRecommender: URM Detected 114 ( 0.5%) items with no interactions.\n",
      "Using gpu: True\n"
     ]
    },
    {
     "data": {
      "application/vnd.jupyter.widget-view+json": {
       "model_id": "3e9c1315c90a4ce8b18f74f93df7953c",
       "version_major": 2,
       "version_minor": 0
      },
      "text/plain": [
       "  0%|          | 0/1786 [00:00<?, ?it/s]"
      ]
     },
     "metadata": {},
     "output_type": "display_data"
    },
    {
     "name": "stdout",
     "output_type": "stream",
     "text": [
      "EvaluatorHoldout: Processed 10467 (100.0%) in 6.70 sec. Users per second: 1562\n",
      "ImplicitALSRecommender: URM Detected 220 ( 1.7%) users with no interactions.\n",
      "ImplicitALSRecommender: URM Detected 118 ( 0.5%) items with no interactions.\n",
      "Using gpu: True\n"
     ]
    },
    {
     "data": {
      "application/vnd.jupyter.widget-view+json": {
       "model_id": "0fb3e280863e4f74ac74fc309c35ac69",
       "version_major": 2,
       "version_minor": 0
      },
      "text/plain": [
       "  0%|          | 0/1786 [00:00<?, ?it/s]"
      ]
     },
     "metadata": {},
     "output_type": "display_data"
    },
    {
     "name": "stdout",
     "output_type": "stream",
     "text": [
      "EvaluatorHoldout: Processed 10440 (100.0%) in 6.63 sec. Users per second: 1575\n"
     ]
    },
    {
     "name": "stderr",
     "output_type": "stream",
     "text": [
      "[I 2024-01-07 23:43:51,749] Trial 11 finished with value: 0.03424804820597756 and parameters: {'num_factors': 509, 'l1_ratio': 1786, 'confidence_scaling': 'log', 'alpha': 8.501591150076457, 'epsilon': 0.016917355041215124, 'reg': 0.0003461575487273142}. Best is trial 1 with value: 0.03484182285838667.\n",
      "[W 2024-01-07 23:43:51,847] The parameter 'confidence_scaling' in trial#12 is sampled independently by using `RandomSampler` instead of `CmaEsSampler` (optimization performance may be degraded). `CmaEsSampler` does not support dynamic search space or `CategoricalDistribution`. You can suppress this warning by setting `warn_independent_sampling` to `False` in the constructor of `CmaEsSampler`, if this independent sampling is intended behavior.\n"
     ]
    },
    {
     "name": "stdout",
     "output_type": "stream",
     "text": [
      "ImplicitALSRecommender: URM Detected 229 ( 1.8%) users with no interactions.\n",
      "ImplicitALSRecommender: URM Detected 126 ( 0.6%) items with no interactions.\n",
      "Using gpu: True\n"
     ]
    },
    {
     "data": {
      "application/vnd.jupyter.widget-view+json": {
       "model_id": "22fb21b9e5ab40e794437879cd3a1e60",
       "version_major": 2,
       "version_minor": 0
      },
      "text/plain": [
       "  0%|          | 0/1204 [00:00<?, ?it/s]"
      ]
     },
     "metadata": {},
     "output_type": "display_data"
    },
    {
     "name": "stdout",
     "output_type": "stream",
     "text": [
      "EvaluatorHoldout: Processed 10472 (100.0%) in 6.37 sec. Users per second: 1645\n",
      "ImplicitALSRecommender: URM Detected 217 ( 1.7%) users with no interactions.\n",
      "ImplicitALSRecommender: URM Detected 113 ( 0.5%) items with no interactions.\n",
      "Using gpu: True\n"
     ]
    },
    {
     "data": {
      "application/vnd.jupyter.widget-view+json": {
       "model_id": "decc492d097247ba9ed68099d304bb71",
       "version_major": 2,
       "version_minor": 0
      },
      "text/plain": [
       "  0%|          | 0/1204 [00:00<?, ?it/s]"
      ]
     },
     "metadata": {},
     "output_type": "display_data"
    },
    {
     "name": "stdout",
     "output_type": "stream",
     "text": [
      "EvaluatorHoldout: Processed 10488 (100.0%) in 4.50 sec. Users per second: 2332\n",
      "ImplicitALSRecommender: URM Detected 223 ( 1.8%) users with no interactions.\n",
      "ImplicitALSRecommender: URM Detected 106 ( 0.5%) items with no interactions.\n",
      "Using gpu: True\n"
     ]
    },
    {
     "data": {
      "application/vnd.jupyter.widget-view+json": {
       "model_id": "5bd11efc4d644aa989f8ca9df91bbd7e",
       "version_major": 2,
       "version_minor": 0
      },
      "text/plain": [
       "  0%|          | 0/1204 [00:00<?, ?it/s]"
      ]
     },
     "metadata": {},
     "output_type": "display_data"
    },
    {
     "name": "stdout",
     "output_type": "stream",
     "text": [
      "EvaluatorHoldout: Processed 10448 (100.0%) in 6.39 sec. Users per second: 1635\n",
      "ImplicitALSRecommender: URM Detected 227 ( 1.8%) users with no interactions.\n",
      "ImplicitALSRecommender: URM Detected 109 ( 0.5%) items with no interactions.\n",
      "Using gpu: True\n"
     ]
    },
    {
     "data": {
      "application/vnd.jupyter.widget-view+json": {
       "model_id": "89fe92c4350b484d8e85cdf405689d1b",
       "version_major": 2,
       "version_minor": 0
      },
      "text/plain": [
       "  0%|          | 0/1204 [00:00<?, ?it/s]"
      ]
     },
     "metadata": {},
     "output_type": "display_data"
    },
    {
     "name": "stdout",
     "output_type": "stream",
     "text": [
      "EvaluatorHoldout: Processed 10444 (100.0%) in 6.28 sec. Users per second: 1663\n",
      "ImplicitALSRecommender: URM Detected 243 ( 1.9%) users with no interactions.\n",
      "ImplicitALSRecommender: URM Detected 122 ( 0.5%) items with no interactions.\n",
      "Using gpu: True\n"
     ]
    },
    {
     "data": {
      "application/vnd.jupyter.widget-view+json": {
       "model_id": "255841354ec74e8d926a328495a97730",
       "version_major": 2,
       "version_minor": 0
      },
      "text/plain": [
       "  0%|          | 0/1204 [00:00<?, ?it/s]"
      ]
     },
     "metadata": {},
     "output_type": "display_data"
    },
    {
     "name": "stdout",
     "output_type": "stream",
     "text": [
      "EvaluatorHoldout: Processed 10473 (100.0%) in 6.26 sec. Users per second: 1673\n",
      "ImplicitALSRecommender: URM Detected 239 ( 1.9%) users with no interactions.\n",
      "ImplicitALSRecommender: URM Detected 109 ( 0.5%) items with no interactions.\n",
      "Using gpu: True\n"
     ]
    },
    {
     "data": {
      "application/vnd.jupyter.widget-view+json": {
       "model_id": "3de9b85c1c094c8daf270242730e3e5b",
       "version_major": 2,
       "version_minor": 0
      },
      "text/plain": [
       "  0%|          | 0/1204 [00:00<?, ?it/s]"
      ]
     },
     "metadata": {},
     "output_type": "display_data"
    },
    {
     "name": "stdout",
     "output_type": "stream",
     "text": [
      "EvaluatorHoldout: Processed 10493 (100.0%) in 6.11 sec. Users per second: 1718\n",
      "ImplicitALSRecommender: URM Detected 201 ( 1.6%) users with no interactions.\n",
      "ImplicitALSRecommender: URM Detected 114 ( 0.5%) items with no interactions.\n",
      "Using gpu: True\n"
     ]
    },
    {
     "data": {
      "application/vnd.jupyter.widget-view+json": {
       "model_id": "0642d35c91b84a18b7a5642c6fe6b6f7",
       "version_major": 2,
       "version_minor": 0
      },
      "text/plain": [
       "  0%|          | 0/1204 [00:00<?, ?it/s]"
      ]
     },
     "metadata": {},
     "output_type": "display_data"
    },
    {
     "name": "stdout",
     "output_type": "stream",
     "text": [
      "EvaluatorHoldout: Processed 10467 (100.0%) in 6.42 sec. Users per second: 1631\n",
      "ImplicitALSRecommender: URM Detected 220 ( 1.7%) users with no interactions.\n",
      "ImplicitALSRecommender: URM Detected 118 ( 0.5%) items with no interactions.\n",
      "Using gpu: True\n"
     ]
    },
    {
     "data": {
      "application/vnd.jupyter.widget-view+json": {
       "model_id": "e66a974c36784f719bcc4a2637ab534a",
       "version_major": 2,
       "version_minor": 0
      },
      "text/plain": [
       "  0%|          | 0/1204 [00:00<?, ?it/s]"
      ]
     },
     "metadata": {},
     "output_type": "display_data"
    },
    {
     "name": "stdout",
     "output_type": "stream",
     "text": [
      "EvaluatorHoldout: Processed 10440 (100.0%) in 5.94 sec. Users per second: 1758\n"
     ]
    },
    {
     "name": "stderr",
     "output_type": "stream",
     "text": [
      "[I 2024-01-07 23:49:20,627] Trial 12 finished with value: 0.035175606118385265 and parameters: {'num_factors': 401, 'l1_ratio': 1204, 'confidence_scaling': 'linear', 'alpha': 7.139858098793055, 'epsilon': 0.10666578585393433, 'reg': 0.0010579931024405477}. Best is trial 12 with value: 0.035175606118385265.\n",
      "[W 2024-01-07 23:49:20,730] The parameter 'confidence_scaling' in trial#13 is sampled independently by using `RandomSampler` instead of `CmaEsSampler` (optimization performance may be degraded). `CmaEsSampler` does not support dynamic search space or `CategoricalDistribution`. You can suppress this warning by setting `warn_independent_sampling` to `False` in the constructor of `CmaEsSampler`, if this independent sampling is intended behavior.\n"
     ]
    },
    {
     "name": "stdout",
     "output_type": "stream",
     "text": [
      "ImplicitALSRecommender: URM Detected 229 ( 1.8%) users with no interactions.\n",
      "ImplicitALSRecommender: URM Detected 126 ( 0.6%) items with no interactions.\n",
      "Using gpu: True\n"
     ]
    },
    {
     "data": {
      "application/vnd.jupyter.widget-view+json": {
       "model_id": "382742bae35648528ed5ac2eb9cf6268",
       "version_major": 2,
       "version_minor": 0
      },
      "text/plain": [
       "  0%|          | 0/1717 [00:00<?, ?it/s]"
      ]
     },
     "metadata": {},
     "output_type": "display_data"
    },
    {
     "name": "stdout",
     "output_type": "stream",
     "text": [
      "EvaluatorHoldout: Processed 10472 (100.0%) in 6.97 sec. Users per second: 1502\n",
      "ImplicitALSRecommender: URM Detected 217 ( 1.7%) users with no interactions.\n",
      "ImplicitALSRecommender: URM Detected 113 ( 0.5%) items with no interactions.\n",
      "Using gpu: True\n"
     ]
    },
    {
     "data": {
      "application/vnd.jupyter.widget-view+json": {
       "model_id": "b459cba5920c4da7b539c30c517e872c",
       "version_major": 2,
       "version_minor": 0
      },
      "text/plain": [
       "  0%|          | 0/1717 [00:00<?, ?it/s]"
      ]
     },
     "metadata": {},
     "output_type": "display_data"
    },
    {
     "name": "stdout",
     "output_type": "stream",
     "text": [
      "EvaluatorHoldout: Processed 10488 (100.0%) in 6.35 sec. Users per second: 1652\n",
      "ImplicitALSRecommender: URM Detected 223 ( 1.8%) users with no interactions.\n",
      "ImplicitALSRecommender: URM Detected 106 ( 0.5%) items with no interactions.\n",
      "Using gpu: True\n"
     ]
    },
    {
     "data": {
      "application/vnd.jupyter.widget-view+json": {
       "model_id": "eedde03c8acf4e8a800e2d47c9e4de00",
       "version_major": 2,
       "version_minor": 0
      },
      "text/plain": [
       "  0%|          | 0/1717 [00:00<?, ?it/s]"
      ]
     },
     "metadata": {},
     "output_type": "display_data"
    },
    {
     "name": "stdout",
     "output_type": "stream",
     "text": [
      "EvaluatorHoldout: Processed 10448 (100.0%) in 8.12 sec. Users per second: 1287\n",
      "ImplicitALSRecommender: URM Detected 227 ( 1.8%) users with no interactions.\n",
      "ImplicitALSRecommender: URM Detected 109 ( 0.5%) items with no interactions.\n",
      "Using gpu: True\n"
     ]
    },
    {
     "data": {
      "application/vnd.jupyter.widget-view+json": {
       "model_id": "45fb3c1399c24246aa8ca5e886b763c9",
       "version_major": 2,
       "version_minor": 0
      },
      "text/plain": [
       "  0%|          | 0/1717 [00:00<?, ?it/s]"
      ]
     },
     "metadata": {},
     "output_type": "display_data"
    },
    {
     "name": "stdout",
     "output_type": "stream",
     "text": [
      "EvaluatorHoldout: Processed 10444 (100.0%) in 6.53 sec. Users per second: 1600\n",
      "ImplicitALSRecommender: URM Detected 243 ( 1.9%) users with no interactions.\n",
      "ImplicitALSRecommender: URM Detected 122 ( 0.5%) items with no interactions.\n",
      "Using gpu: True\n"
     ]
    },
    {
     "data": {
      "application/vnd.jupyter.widget-view+json": {
       "model_id": "29c5ad03c76a4d67958aada8b5a1af62",
       "version_major": 2,
       "version_minor": 0
      },
      "text/plain": [
       "  0%|          | 0/1717 [00:00<?, ?it/s]"
      ]
     },
     "metadata": {},
     "output_type": "display_data"
    },
    {
     "name": "stdout",
     "output_type": "stream",
     "text": [
      "EvaluatorHoldout: Processed 10473 (100.0%) in 6.30 sec. Users per second: 1664\n",
      "ImplicitALSRecommender: URM Detected 239 ( 1.9%) users with no interactions.\n",
      "ImplicitALSRecommender: URM Detected 109 ( 0.5%) items with no interactions.\n",
      "Using gpu: True\n"
     ]
    },
    {
     "data": {
      "application/vnd.jupyter.widget-view+json": {
       "model_id": "657bb144d88a40a0b8a30a270c2675db",
       "version_major": 2,
       "version_minor": 0
      },
      "text/plain": [
       "  0%|          | 0/1717 [00:00<?, ?it/s]"
      ]
     },
     "metadata": {},
     "output_type": "display_data"
    },
    {
     "name": "stdout",
     "output_type": "stream",
     "text": [
      "EvaluatorHoldout: Processed 10493 (100.0%) in 6.43 sec. Users per second: 1631\n",
      "ImplicitALSRecommender: URM Detected 201 ( 1.6%) users with no interactions.\n",
      "ImplicitALSRecommender: URM Detected 114 ( 0.5%) items with no interactions.\n",
      "Using gpu: True\n"
     ]
    },
    {
     "data": {
      "application/vnd.jupyter.widget-view+json": {
       "model_id": "b17082c945ee4622b9799a9516693297",
       "version_major": 2,
       "version_minor": 0
      },
      "text/plain": [
       "  0%|          | 0/1717 [00:00<?, ?it/s]"
      ]
     },
     "metadata": {},
     "output_type": "display_data"
    },
    {
     "name": "stdout",
     "output_type": "stream",
     "text": [
      "EvaluatorHoldout: Processed 10467 (100.0%) in 6.20 sec. Users per second: 1687\n",
      "ImplicitALSRecommender: URM Detected 220 ( 1.7%) users with no interactions.\n",
      "ImplicitALSRecommender: URM Detected 118 ( 0.5%) items with no interactions.\n",
      "Using gpu: True\n"
     ]
    },
    {
     "data": {
      "application/vnd.jupyter.widget-view+json": {
       "model_id": "9040a1cd40a843b0b6ed3187c26a1b2f",
       "version_major": 2,
       "version_minor": 0
      },
      "text/plain": [
       "  0%|          | 0/1717 [00:00<?, ?it/s]"
      ]
     },
     "metadata": {},
     "output_type": "display_data"
    },
    {
     "name": "stdout",
     "output_type": "stream",
     "text": [
      "EvaluatorHoldout: Processed 10440 (100.0%) in 4.29 sec. Users per second: 2434\n"
     ]
    },
    {
     "name": "stderr",
     "output_type": "stream",
     "text": [
      "[I 2024-01-08 00:11:31,337] Trial 13 finished with value: 0.03266456003531888 and parameters: {'num_factors': 649, 'l1_ratio': 1717, 'confidence_scaling': 'log', 'alpha': 0.2718345759815296, 'epsilon': 0.0017120152038009207, 'reg': 0.00010330131888418964}. Best is trial 12 with value: 0.035175606118385265.\n",
      "[W 2024-01-08 00:11:31,390] The parameter 'confidence_scaling' in trial#14 is sampled independently by using `RandomSampler` instead of `CmaEsSampler` (optimization performance may be degraded). `CmaEsSampler` does not support dynamic search space or `CategoricalDistribution`. You can suppress this warning by setting `warn_independent_sampling` to `False` in the constructor of `CmaEsSampler`, if this independent sampling is intended behavior.\n"
     ]
    },
    {
     "name": "stdout",
     "output_type": "stream",
     "text": [
      "ImplicitALSRecommender: URM Detected 229 ( 1.8%) users with no interactions.\n",
      "ImplicitALSRecommender: URM Detected 126 ( 0.6%) items with no interactions.\n",
      "Using gpu: True\n"
     ]
    },
    {
     "data": {
      "application/vnd.jupyter.widget-view+json": {
       "model_id": "c885bc8a45a446e5b3dd0e61bbfe40c8",
       "version_major": 2,
       "version_minor": 0
      },
      "text/plain": [
       "  0%|          | 0/1358 [00:00<?, ?it/s]"
      ]
     },
     "metadata": {},
     "output_type": "display_data"
    },
    {
     "name": "stdout",
     "output_type": "stream",
     "text": [
      "EvaluatorHoldout: Processed 10472 (100.0%) in 6.67 sec. Users per second: 1569\n",
      "ImplicitALSRecommender: URM Detected 217 ( 1.7%) users with no interactions.\n",
      "ImplicitALSRecommender: URM Detected 113 ( 0.5%) items with no interactions.\n",
      "Using gpu: True\n"
     ]
    },
    {
     "data": {
      "application/vnd.jupyter.widget-view+json": {
       "model_id": "cada2c51986b4bbcaa7185dd669c48bc",
       "version_major": 2,
       "version_minor": 0
      },
      "text/plain": [
       "  0%|          | 0/1358 [00:00<?, ?it/s]"
      ]
     },
     "metadata": {},
     "output_type": "display_data"
    },
    {
     "name": "stderr",
     "output_type": "stream",
     "text": [
      "[W 2024-01-08 00:16:05,250] Trial 14 failed with parameters: {'num_factors': 793, 'l1_ratio': 1358, 'confidence_scaling': 'linear', 'alpha': 6.823032501465704, 'epsilon': 0.015378609491421377, 'reg': 0.000799877970842227} because of the following error: KeyboardInterrupt().\n",
      "Traceback (most recent call last):\n",
      "  File \"/home/japo/miniconda3/envs/RecSysFramework/lib/python3.8/site-packages/optuna/study/_optimize.py\", line 200, in _run_trial\n",
      "    value_or_values = func(trial)\n",
      "  File \"/tmp/ipykernel_137949/2513788561.py\", line 16, in objective\n",
      "    recommender.fit(use_gpu=True, num_threads=1, **params)\n",
      "  File \"/home/japo/RecSys-Challenge/Recommenders/MatrixFactorization/ImplicitIALSRecommender.py\", line 57, in fit\n",
      "    self.rec.fit(conf_scale(self.URM_train, alpha, epsilon), show_progress=self.verbose)\n",
      "  File \"/home/japo/miniconda3/envs/RecSysFramework/lib/python3.8/site-packages/implicit/gpu/als.py\", line 151, in fit\n",
      "    self.solver.least_squares(Cui, X, self._YtY, Y, self.cg_steps)\n",
      "KeyboardInterrupt\n",
      "[W 2024-01-08 00:16:05,255] Trial 14 failed with value None.\n"
     ]
    },
    {
     "ename": "KeyboardInterrupt",
     "evalue": "",
     "output_type": "error",
     "traceback": [
      "\u001b[0;31m---------------------------------------------------------------------------\u001b[0m",
      "\u001b[0;31mKeyboardInterrupt\u001b[0m                         Traceback (most recent call last)",
      "Cell \u001b[0;32mIn[14], line 1\u001b[0m\n\u001b[0;32m----> 1\u001b[0m \u001b[43mstudy\u001b[49m\u001b[38;5;241;43m.\u001b[39;49m\u001b[43moptimize\u001b[49m\u001b[43m(\u001b[49m\u001b[43mobjective\u001b[49m\u001b[43m,\u001b[49m\u001b[43m \u001b[49m\u001b[43mn_trials\u001b[49m\u001b[38;5;241;43m=\u001b[39;49m\u001b[38;5;241;43m200\u001b[39;49m\u001b[43m)\u001b[49m\n",
      "File \u001b[0;32m~/miniconda3/envs/RecSysFramework/lib/python3.8/site-packages/optuna/study/study.py:451\u001b[0m, in \u001b[0;36mStudy.optimize\u001b[0;34m(self, func, n_trials, timeout, n_jobs, catch, callbacks, gc_after_trial, show_progress_bar)\u001b[0m\n\u001b[1;32m    348\u001b[0m \u001b[38;5;28;01mdef\u001b[39;00m \u001b[38;5;21moptimize\u001b[39m(\n\u001b[1;32m    349\u001b[0m     \u001b[38;5;28mself\u001b[39m,\n\u001b[1;32m    350\u001b[0m     func: ObjectiveFuncType,\n\u001b[0;32m   (...)\u001b[0m\n\u001b[1;32m    357\u001b[0m     show_progress_bar: \u001b[38;5;28mbool\u001b[39m \u001b[38;5;241m=\u001b[39m \u001b[38;5;28;01mFalse\u001b[39;00m,\n\u001b[1;32m    358\u001b[0m ) \u001b[38;5;241m-\u001b[39m\u001b[38;5;241m>\u001b[39m \u001b[38;5;28;01mNone\u001b[39;00m:\n\u001b[1;32m    359\u001b[0m \u001b[38;5;250m    \u001b[39m\u001b[38;5;124;03m\"\"\"Optimize an objective function.\u001b[39;00m\n\u001b[1;32m    360\u001b[0m \n\u001b[1;32m    361\u001b[0m \u001b[38;5;124;03m    Optimization is done by choosing a suitable set of hyperparameter values from a given\u001b[39;00m\n\u001b[0;32m   (...)\u001b[0m\n\u001b[1;32m    449\u001b[0m \u001b[38;5;124;03m            If nested invocation of this method occurs.\u001b[39;00m\n\u001b[1;32m    450\u001b[0m \u001b[38;5;124;03m    \"\"\"\u001b[39;00m\n\u001b[0;32m--> 451\u001b[0m     \u001b[43m_optimize\u001b[49m\u001b[43m(\u001b[49m\n\u001b[1;32m    452\u001b[0m \u001b[43m        \u001b[49m\u001b[43mstudy\u001b[49m\u001b[38;5;241;43m=\u001b[39;49m\u001b[38;5;28;43mself\u001b[39;49m\u001b[43m,\u001b[49m\n\u001b[1;32m    453\u001b[0m \u001b[43m        \u001b[49m\u001b[43mfunc\u001b[49m\u001b[38;5;241;43m=\u001b[39;49m\u001b[43mfunc\u001b[49m\u001b[43m,\u001b[49m\n\u001b[1;32m    454\u001b[0m \u001b[43m        \u001b[49m\u001b[43mn_trials\u001b[49m\u001b[38;5;241;43m=\u001b[39;49m\u001b[43mn_trials\u001b[49m\u001b[43m,\u001b[49m\n\u001b[1;32m    455\u001b[0m \u001b[43m        \u001b[49m\u001b[43mtimeout\u001b[49m\u001b[38;5;241;43m=\u001b[39;49m\u001b[43mtimeout\u001b[49m\u001b[43m,\u001b[49m\n\u001b[1;32m    456\u001b[0m \u001b[43m        \u001b[49m\u001b[43mn_jobs\u001b[49m\u001b[38;5;241;43m=\u001b[39;49m\u001b[43mn_jobs\u001b[49m\u001b[43m,\u001b[49m\n\u001b[1;32m    457\u001b[0m \u001b[43m        \u001b[49m\u001b[43mcatch\u001b[49m\u001b[38;5;241;43m=\u001b[39;49m\u001b[38;5;28;43mtuple\u001b[39;49m\u001b[43m(\u001b[49m\u001b[43mcatch\u001b[49m\u001b[43m)\u001b[49m\u001b[43m \u001b[49m\u001b[38;5;28;43;01mif\u001b[39;49;00m\u001b[43m \u001b[49m\u001b[38;5;28;43misinstance\u001b[39;49m\u001b[43m(\u001b[49m\u001b[43mcatch\u001b[49m\u001b[43m,\u001b[49m\u001b[43m \u001b[49m\u001b[43mIterable\u001b[49m\u001b[43m)\u001b[49m\u001b[43m \u001b[49m\u001b[38;5;28;43;01melse\u001b[39;49;00m\u001b[43m \u001b[49m\u001b[43m(\u001b[49m\u001b[43mcatch\u001b[49m\u001b[43m,\u001b[49m\u001b[43m)\u001b[49m\u001b[43m,\u001b[49m\n\u001b[1;32m    458\u001b[0m \u001b[43m        \u001b[49m\u001b[43mcallbacks\u001b[49m\u001b[38;5;241;43m=\u001b[39;49m\u001b[43mcallbacks\u001b[49m\u001b[43m,\u001b[49m\n\u001b[1;32m    459\u001b[0m \u001b[43m        \u001b[49m\u001b[43mgc_after_trial\u001b[49m\u001b[38;5;241;43m=\u001b[39;49m\u001b[43mgc_after_trial\u001b[49m\u001b[43m,\u001b[49m\n\u001b[1;32m    460\u001b[0m \u001b[43m        \u001b[49m\u001b[43mshow_progress_bar\u001b[49m\u001b[38;5;241;43m=\u001b[39;49m\u001b[43mshow_progress_bar\u001b[49m\u001b[43m,\u001b[49m\n\u001b[1;32m    461\u001b[0m \u001b[43m    \u001b[49m\u001b[43m)\u001b[49m\n",
      "File \u001b[0;32m~/miniconda3/envs/RecSysFramework/lib/python3.8/site-packages/optuna/study/_optimize.py:66\u001b[0m, in \u001b[0;36m_optimize\u001b[0;34m(study, func, n_trials, timeout, n_jobs, catch, callbacks, gc_after_trial, show_progress_bar)\u001b[0m\n\u001b[1;32m     64\u001b[0m \u001b[38;5;28;01mtry\u001b[39;00m:\n\u001b[1;32m     65\u001b[0m     \u001b[38;5;28;01mif\u001b[39;00m n_jobs \u001b[38;5;241m==\u001b[39m \u001b[38;5;241m1\u001b[39m:\n\u001b[0;32m---> 66\u001b[0m         \u001b[43m_optimize_sequential\u001b[49m\u001b[43m(\u001b[49m\n\u001b[1;32m     67\u001b[0m \u001b[43m            \u001b[49m\u001b[43mstudy\u001b[49m\u001b[43m,\u001b[49m\n\u001b[1;32m     68\u001b[0m \u001b[43m            \u001b[49m\u001b[43mfunc\u001b[49m\u001b[43m,\u001b[49m\n\u001b[1;32m     69\u001b[0m \u001b[43m            \u001b[49m\u001b[43mn_trials\u001b[49m\u001b[43m,\u001b[49m\n\u001b[1;32m     70\u001b[0m \u001b[43m            \u001b[49m\u001b[43mtimeout\u001b[49m\u001b[43m,\u001b[49m\n\u001b[1;32m     71\u001b[0m \u001b[43m            \u001b[49m\u001b[43mcatch\u001b[49m\u001b[43m,\u001b[49m\n\u001b[1;32m     72\u001b[0m \u001b[43m            \u001b[49m\u001b[43mcallbacks\u001b[49m\u001b[43m,\u001b[49m\n\u001b[1;32m     73\u001b[0m \u001b[43m            \u001b[49m\u001b[43mgc_after_trial\u001b[49m\u001b[43m,\u001b[49m\n\u001b[1;32m     74\u001b[0m \u001b[43m            \u001b[49m\u001b[43mreseed_sampler_rng\u001b[49m\u001b[38;5;241;43m=\u001b[39;49m\u001b[38;5;28;43;01mFalse\u001b[39;49;00m\u001b[43m,\u001b[49m\n\u001b[1;32m     75\u001b[0m \u001b[43m            \u001b[49m\u001b[43mtime_start\u001b[49m\u001b[38;5;241;43m=\u001b[39;49m\u001b[38;5;28;43;01mNone\u001b[39;49;00m\u001b[43m,\u001b[49m\n\u001b[1;32m     76\u001b[0m \u001b[43m            \u001b[49m\u001b[43mprogress_bar\u001b[49m\u001b[38;5;241;43m=\u001b[39;49m\u001b[43mprogress_bar\u001b[49m\u001b[43m,\u001b[49m\n\u001b[1;32m     77\u001b[0m \u001b[43m        \u001b[49m\u001b[43m)\u001b[49m\n\u001b[1;32m     78\u001b[0m     \u001b[38;5;28;01melse\u001b[39;00m:\n\u001b[1;32m     79\u001b[0m         \u001b[38;5;28;01mif\u001b[39;00m n_jobs \u001b[38;5;241m==\u001b[39m \u001b[38;5;241m-\u001b[39m\u001b[38;5;241m1\u001b[39m:\n",
      "File \u001b[0;32m~/miniconda3/envs/RecSysFramework/lib/python3.8/site-packages/optuna/study/_optimize.py:163\u001b[0m, in \u001b[0;36m_optimize_sequential\u001b[0;34m(study, func, n_trials, timeout, catch, callbacks, gc_after_trial, reseed_sampler_rng, time_start, progress_bar)\u001b[0m\n\u001b[1;32m    160\u001b[0m         \u001b[38;5;28;01mbreak\u001b[39;00m\n\u001b[1;32m    162\u001b[0m \u001b[38;5;28;01mtry\u001b[39;00m:\n\u001b[0;32m--> 163\u001b[0m     frozen_trial \u001b[38;5;241m=\u001b[39m \u001b[43m_run_trial\u001b[49m\u001b[43m(\u001b[49m\u001b[43mstudy\u001b[49m\u001b[43m,\u001b[49m\u001b[43m \u001b[49m\u001b[43mfunc\u001b[49m\u001b[43m,\u001b[49m\u001b[43m \u001b[49m\u001b[43mcatch\u001b[49m\u001b[43m)\u001b[49m\n\u001b[1;32m    164\u001b[0m \u001b[38;5;28;01mfinally\u001b[39;00m:\n\u001b[1;32m    165\u001b[0m     \u001b[38;5;66;03m# The following line mitigates memory problems that can be occurred in some\u001b[39;00m\n\u001b[1;32m    166\u001b[0m     \u001b[38;5;66;03m# environments (e.g., services that use computing containers such as GitHub Actions).\u001b[39;00m\n\u001b[1;32m    167\u001b[0m     \u001b[38;5;66;03m# Please refer to the following PR for further details:\u001b[39;00m\n\u001b[1;32m    168\u001b[0m     \u001b[38;5;66;03m# https://github.com/optuna/optuna/pull/325.\u001b[39;00m\n\u001b[1;32m    169\u001b[0m     \u001b[38;5;28;01mif\u001b[39;00m gc_after_trial:\n",
      "File \u001b[0;32m~/miniconda3/envs/RecSysFramework/lib/python3.8/site-packages/optuna/study/_optimize.py:251\u001b[0m, in \u001b[0;36m_run_trial\u001b[0;34m(study, func, catch)\u001b[0m\n\u001b[1;32m    244\u001b[0m         \u001b[38;5;28;01massert\u001b[39;00m \u001b[38;5;28;01mFalse\u001b[39;00m, \u001b[38;5;124m\"\u001b[39m\u001b[38;5;124mShould not reach.\u001b[39m\u001b[38;5;124m\"\u001b[39m\n\u001b[1;32m    246\u001b[0m \u001b[38;5;28;01mif\u001b[39;00m (\n\u001b[1;32m    247\u001b[0m     frozen_trial\u001b[38;5;241m.\u001b[39mstate \u001b[38;5;241m==\u001b[39m TrialState\u001b[38;5;241m.\u001b[39mFAIL\n\u001b[1;32m    248\u001b[0m     \u001b[38;5;129;01mand\u001b[39;00m func_err \u001b[38;5;129;01mis\u001b[39;00m \u001b[38;5;129;01mnot\u001b[39;00m \u001b[38;5;28;01mNone\u001b[39;00m\n\u001b[1;32m    249\u001b[0m     \u001b[38;5;129;01mand\u001b[39;00m \u001b[38;5;129;01mnot\u001b[39;00m \u001b[38;5;28misinstance\u001b[39m(func_err, catch)\n\u001b[1;32m    250\u001b[0m ):\n\u001b[0;32m--> 251\u001b[0m     \u001b[38;5;28;01mraise\u001b[39;00m func_err\n\u001b[1;32m    252\u001b[0m \u001b[38;5;28;01mreturn\u001b[39;00m frozen_trial\n",
      "File \u001b[0;32m~/miniconda3/envs/RecSysFramework/lib/python3.8/site-packages/optuna/study/_optimize.py:200\u001b[0m, in \u001b[0;36m_run_trial\u001b[0;34m(study, func, catch)\u001b[0m\n\u001b[1;32m    198\u001b[0m \u001b[38;5;28;01mwith\u001b[39;00m get_heartbeat_thread(trial\u001b[38;5;241m.\u001b[39m_trial_id, study\u001b[38;5;241m.\u001b[39m_storage):\n\u001b[1;32m    199\u001b[0m     \u001b[38;5;28;01mtry\u001b[39;00m:\n\u001b[0;32m--> 200\u001b[0m         value_or_values \u001b[38;5;241m=\u001b[39m \u001b[43mfunc\u001b[49m\u001b[43m(\u001b[49m\u001b[43mtrial\u001b[49m\u001b[43m)\u001b[49m\n\u001b[1;32m    201\u001b[0m     \u001b[38;5;28;01mexcept\u001b[39;00m exceptions\u001b[38;5;241m.\u001b[39mTrialPruned \u001b[38;5;28;01mas\u001b[39;00m e:\n\u001b[1;32m    202\u001b[0m         \u001b[38;5;66;03m# TODO(mamu): Handle multi-objective cases.\u001b[39;00m\n\u001b[1;32m    203\u001b[0m         state \u001b[38;5;241m=\u001b[39m TrialState\u001b[38;5;241m.\u001b[39mPRUNED\n",
      "Cell \u001b[0;32mIn[13], line 16\u001b[0m, in \u001b[0;36mobjective\u001b[0;34m(trial)\u001b[0m\n\u001b[1;32m     14\u001b[0m \u001b[38;5;28;01mfor\u001b[39;00m i, _ \u001b[38;5;129;01min\u001b[39;00m \u001b[38;5;28menumerate\u001b[39m(seeds):\n\u001b[1;32m     15\u001b[0m     recommender \u001b[38;5;241m=\u001b[39m model(urm_train_validation[i])\n\u001b[0;32m---> 16\u001b[0m     \u001b[43mrecommender\u001b[49m\u001b[38;5;241;43m.\u001b[39;49m\u001b[43mfit\u001b[49m\u001b[43m(\u001b[49m\u001b[43muse_gpu\u001b[49m\u001b[38;5;241;43m=\u001b[39;49m\u001b[38;5;28;43;01mTrue\u001b[39;49;00m\u001b[43m,\u001b[49m\u001b[43m \u001b[49m\u001b[43mnum_threads\u001b[49m\u001b[38;5;241;43m=\u001b[39;49m\u001b[38;5;241;43m1\u001b[39;49m\u001b[43m,\u001b[49m\u001b[43m \u001b[49m\u001b[38;5;241;43m*\u001b[39;49m\u001b[38;5;241;43m*\u001b[39;49m\u001b[43mparams\u001b[49m\u001b[43m)\u001b[49m\n\u001b[1;32m     18\u001b[0m     result, _ \u001b[38;5;241m=\u001b[39m evaluator_test[i]\u001b[38;5;241m.\u001b[39mevaluateRecommender(recommender)\n\u001b[1;32m     19\u001b[0m     MAP_result \u001b[38;5;241m=\u001b[39m result[\u001b[38;5;124m\"\u001b[39m\u001b[38;5;124mMAP\u001b[39m\u001b[38;5;124m\"\u001b[39m]\u001b[38;5;241m.\u001b[39mitem()\n",
      "File \u001b[0;32m~/RecSys-Challenge/Recommenders/MatrixFactorization/ImplicitIALSRecommender.py:57\u001b[0m, in \u001b[0;36mImplicitALSRecommender.fit\u001b[0;34m(self, num_factors, reg, use_native, use_cg, use_gpu, epochs, calculate_training_loss, num_threads, alpha, epsilon, confidence_scaling)\u001b[0m\n\u001b[1;32m     50\u001b[0m conf_scale \u001b[38;5;241m=\u001b[39m linear_scaling_confidence \u001b[38;5;28;01mif\u001b[39;00m confidence_scaling\u001b[38;5;241m==\u001b[39m\u001b[38;5;124m\"\u001b[39m\u001b[38;5;124mlinear\u001b[39m\u001b[38;5;124m\"\u001b[39m \u001b[38;5;28;01melse\u001b[39;00m log_scaling_confidence\n\u001b[1;32m     52\u001b[0m \u001b[38;5;28mself\u001b[39m\u001b[38;5;241m.\u001b[39mrec \u001b[38;5;241m=\u001b[39m implicit\u001b[38;5;241m.\u001b[39mals\u001b[38;5;241m.\u001b[39mAlternatingLeastSquares(factors\u001b[38;5;241m=\u001b[39mnum_factors, regularization\u001b[38;5;241m=\u001b[39mreg,\n\u001b[1;32m     53\u001b[0m                                                 use_native\u001b[38;5;241m=\u001b[39muse_native, use_cg\u001b[38;5;241m=\u001b[39muse_cg, use_gpu\u001b[38;5;241m=\u001b[39muse_gpu,\n\u001b[1;32m     54\u001b[0m                                                 iterations\u001b[38;5;241m=\u001b[39mepochs,\n\u001b[1;32m     55\u001b[0m                                                 calculate_training_loss\u001b[38;5;241m=\u001b[39mcalculate_training_loss,\n\u001b[1;32m     56\u001b[0m                                                 num_threads\u001b[38;5;241m=\u001b[39mnum_threads)\n\u001b[0;32m---> 57\u001b[0m \u001b[38;5;28;43mself\u001b[39;49m\u001b[38;5;241;43m.\u001b[39;49m\u001b[43mrec\u001b[49m\u001b[38;5;241;43m.\u001b[39;49m\u001b[43mfit\u001b[49m\u001b[43m(\u001b[49m\u001b[43mconf_scale\u001b[49m\u001b[43m(\u001b[49m\u001b[38;5;28;43mself\u001b[39;49m\u001b[38;5;241;43m.\u001b[39;49m\u001b[43mURM_train\u001b[49m\u001b[43m,\u001b[49m\u001b[43m \u001b[49m\u001b[43malpha\u001b[49m\u001b[43m,\u001b[49m\u001b[43m \u001b[49m\u001b[43mepsilon\u001b[49m\u001b[43m)\u001b[49m\u001b[43m,\u001b[49m\u001b[43m \u001b[49m\u001b[43mshow_progress\u001b[49m\u001b[38;5;241;43m=\u001b[39;49m\u001b[38;5;28;43mself\u001b[39;49m\u001b[38;5;241;43m.\u001b[39;49m\u001b[43mverbose\u001b[49m\u001b[43m)\u001b[49m\n\u001b[1;32m     59\u001b[0m \u001b[38;5;28;01mif\u001b[39;00m(use_gpu):\n\u001b[1;32m     60\u001b[0m     \u001b[38;5;28mself\u001b[39m\u001b[38;5;241m.\u001b[39mrec \u001b[38;5;241m=\u001b[39m \u001b[38;5;28mself\u001b[39m\u001b[38;5;241m.\u001b[39mrec\u001b[38;5;241m.\u001b[39mto_cpu()\n",
      "File \u001b[0;32m~/miniconda3/envs/RecSysFramework/lib/python3.8/site-packages/implicit/gpu/als.py:151\u001b[0m, in \u001b[0;36mAlternatingLeastSquares.fit\u001b[0;34m(self, user_items, show_progress)\u001b[0m\n\u001b[1;32m    149\u001b[0m s \u001b[38;5;241m=\u001b[39m time\u001b[38;5;241m.\u001b[39mtime()\n\u001b[1;32m    150\u001b[0m \u001b[38;5;28mself\u001b[39m\u001b[38;5;241m.\u001b[39msolver\u001b[38;5;241m.\u001b[39mcalculate_yty(Y, \u001b[38;5;28mself\u001b[39m\u001b[38;5;241m.\u001b[39m_YtY, \u001b[38;5;28mself\u001b[39m\u001b[38;5;241m.\u001b[39mregularization)\n\u001b[0;32m--> 151\u001b[0m \u001b[38;5;28;43mself\u001b[39;49m\u001b[38;5;241;43m.\u001b[39;49m\u001b[43msolver\u001b[49m\u001b[38;5;241;43m.\u001b[39;49m\u001b[43mleast_squares\u001b[49m\u001b[43m(\u001b[49m\u001b[43mCui\u001b[49m\u001b[43m,\u001b[49m\u001b[43m \u001b[49m\u001b[43mX\u001b[49m\u001b[43m,\u001b[49m\u001b[43m \u001b[49m\u001b[38;5;28;43mself\u001b[39;49m\u001b[38;5;241;43m.\u001b[39;49m\u001b[43m_YtY\u001b[49m\u001b[43m,\u001b[49m\u001b[43m \u001b[49m\u001b[43mY\u001b[49m\u001b[43m,\u001b[49m\u001b[43m \u001b[49m\u001b[38;5;28;43mself\u001b[39;49m\u001b[38;5;241;43m.\u001b[39;49m\u001b[43mcg_steps\u001b[49m\u001b[43m)\u001b[49m\n\u001b[1;32m    153\u001b[0m \u001b[38;5;28mself\u001b[39m\u001b[38;5;241m.\u001b[39msolver\u001b[38;5;241m.\u001b[39mcalculate_yty(X, \u001b[38;5;28mself\u001b[39m\u001b[38;5;241m.\u001b[39m_XtX, \u001b[38;5;28mself\u001b[39m\u001b[38;5;241m.\u001b[39mregularization)\n\u001b[1;32m    154\u001b[0m \u001b[38;5;28mself\u001b[39m\u001b[38;5;241m.\u001b[39msolver\u001b[38;5;241m.\u001b[39mleast_squares(Ciu, Y, \u001b[38;5;28mself\u001b[39m\u001b[38;5;241m.\u001b[39m_XtX, X, \u001b[38;5;28mself\u001b[39m\u001b[38;5;241m.\u001b[39mcg_steps)\n",
      "\u001b[0;31mKeyboardInterrupt\u001b[0m: "
     ]
    }
   ],
   "source": [
    "study.optimize(objective, n_trials=200)"
   ]
  }
 ],
 "metadata": {
  "kernelspec": {
   "display_name": "RecSysFramework",
   "language": "python",
   "name": "python3"
  },
  "language_info": {
   "codemirror_mode": {
    "name": "ipython",
    "version": 3
   },
   "file_extension": ".py",
   "mimetype": "text/x-python",
   "name": "python",
   "nbconvert_exporter": "python",
   "pygments_lexer": "ipython3",
   "version": "3.8.18"
  }
 },
 "nbformat": 4,
 "nbformat_minor": 2
}
