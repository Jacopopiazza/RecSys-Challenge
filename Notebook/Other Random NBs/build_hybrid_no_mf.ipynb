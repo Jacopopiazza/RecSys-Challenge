{
 "cells": [
  {
   "cell_type": "code",
   "execution_count": 1,
   "metadata": {},
   "outputs": [],
   "source": [
    "import os\n",
    "os.chdir( \"../\")"
   ]
  },
  {
   "cell_type": "code",
   "execution_count": 2,
   "metadata": {},
   "outputs": [],
   "source": [
    "import psutil\n",
    "num_cpus = psutil.cpu_count(logical=False)\n",
    "num_cpus = 8\n"
   ]
  },
  {
   "cell_type": "code",
   "execution_count": 3,
   "metadata": {},
   "outputs": [
    {
     "data": {
      "text/html": [
       "<div>\n",
       "<style scoped>\n",
       "    .dataframe tbody tr th:only-of-type {\n",
       "        vertical-align: middle;\n",
       "    }\n",
       "\n",
       "    .dataframe tbody tr th {\n",
       "        vertical-align: top;\n",
       "    }\n",
       "\n",
       "    .dataframe thead th {\n",
       "        text-align: right;\n",
       "    }\n",
       "</style>\n",
       "<table border=\"1\" class=\"dataframe\">\n",
       "  <thead>\n",
       "    <tr style=\"text-align: right;\">\n",
       "      <th></th>\n",
       "      <th>UserID</th>\n",
       "      <th>ItemID</th>\n",
       "      <th>Interaction</th>\n",
       "    </tr>\n",
       "  </thead>\n",
       "  <tbody>\n",
       "    <tr>\n",
       "      <th>0</th>\n",
       "      <td>1</td>\n",
       "      <td>15</td>\n",
       "      <td>1.0</td>\n",
       "    </tr>\n",
       "    <tr>\n",
       "      <th>1</th>\n",
       "      <td>1</td>\n",
       "      <td>16</td>\n",
       "      <td>1.0</td>\n",
       "    </tr>\n",
       "    <tr>\n",
       "      <th>2</th>\n",
       "      <td>1</td>\n",
       "      <td>133</td>\n",
       "      <td>1.0</td>\n",
       "    </tr>\n",
       "    <tr>\n",
       "      <th>3</th>\n",
       "      <td>1</td>\n",
       "      <td>161</td>\n",
       "      <td>1.0</td>\n",
       "    </tr>\n",
       "    <tr>\n",
       "      <th>4</th>\n",
       "      <td>1</td>\n",
       "      <td>187</td>\n",
       "      <td>1.0</td>\n",
       "    </tr>\n",
       "    <tr>\n",
       "      <th>...</th>\n",
       "      <td>...</td>\n",
       "      <td>...</td>\n",
       "      <td>...</td>\n",
       "    </tr>\n",
       "    <tr>\n",
       "      <th>478724</th>\n",
       "      <td>13024</td>\n",
       "      <td>13605</td>\n",
       "      <td>1.0</td>\n",
       "    </tr>\n",
       "    <tr>\n",
       "      <th>478725</th>\n",
       "      <td>13024</td>\n",
       "      <td>13823</td>\n",
       "      <td>1.0</td>\n",
       "    </tr>\n",
       "    <tr>\n",
       "      <th>478726</th>\n",
       "      <td>13024</td>\n",
       "      <td>15122</td>\n",
       "      <td>1.0</td>\n",
       "    </tr>\n",
       "    <tr>\n",
       "      <th>478727</th>\n",
       "      <td>13024</td>\n",
       "      <td>18185</td>\n",
       "      <td>1.0</td>\n",
       "    </tr>\n",
       "    <tr>\n",
       "      <th>478728</th>\n",
       "      <td>13024</td>\n",
       "      <td>20014</td>\n",
       "      <td>1.0</td>\n",
       "    </tr>\n",
       "  </tbody>\n",
       "</table>\n",
       "<p>478729 rows × 3 columns</p>\n",
       "</div>"
      ],
      "text/plain": [
       "        UserID  ItemID  Interaction\n",
       "0            1      15          1.0\n",
       "1            1      16          1.0\n",
       "2            1     133          1.0\n",
       "3            1     161          1.0\n",
       "4            1     187          1.0\n",
       "...        ...     ...          ...\n",
       "478724   13024   13605          1.0\n",
       "478725   13024   13823          1.0\n",
       "478726   13024   15122          1.0\n",
       "478727   13024   18185          1.0\n",
       "478728   13024   20014          1.0\n",
       "\n",
       "[478729 rows x 3 columns]"
      ]
     },
     "execution_count": 3,
     "metadata": {},
     "output_type": "execute_result"
    }
   ],
   "source": [
    "import pandas as pd\n",
    "import numpy as np\n",
    "\n",
    "path = \"Dataset/data_train.csv\"\n",
    "df = pd.read_csv(filepath_or_buffer=path,\n",
    "                               sep=\",\",\n",
    "                               header=1,\n",
    "                               engine='python',\n",
    "                               names=['UserID', 'ItemID', 'Interaction'])\n",
    "\n",
    "metric_to_optimize=\"MAP\"\n",
    "\n",
    "df"
   ]
  },
  {
   "cell_type": "code",
   "execution_count": 4,
   "metadata": {},
   "outputs": [
    {
     "name": "stdout",
     "output_type": "stream",
     "text": [
      "Number of users: 12638, Number of Items: 22222, Min rating: 0.0, Max rating: 1.0\n"
     ]
    }
   ],
   "source": [
    "user_ids = df[\"UserID\"].unique().tolist()\n",
    "user2user_encoded = {x: i for i, x in enumerate(user_ids)}\n",
    "userencoded2user = {i: x for i, x in enumerate(user_ids)}\n",
    "item_ids = df[\"ItemID\"].unique().tolist()\n",
    "item2item_encoded = {x: i for i, x in enumerate(item_ids)}\n",
    "item_encoded2item = {i: x for i, x in enumerate(item_ids)}\n",
    "df[\"User\"] = df[\"UserID\"].map(user2user_encoded)\n",
    "df[\"Item\"] = df[\"ItemID\"].map(item2item_encoded)\n",
    "\n",
    "num_users = len(user2user_encoded)\n",
    "num_items = len(item_encoded2item)\n",
    "df[\"Interaction\"] = df[\"Interaction\"].values.astype(np.float32)\n",
    "\n",
    "# min and max ratings will be used to normalize the ratings later\n",
    "min_rating = 0.0\n",
    "max_rating = max(df[\"Interaction\"])\n",
    "\n",
    "print(\n",
    "    \"Number of users: {}, Number of Items: {}, Min rating: {}, Max rating: {}\".format(\n",
    "        num_users, num_items, min_rating, max_rating\n",
    "    )\n",
    ")"
   ]
  },
  {
   "cell_type": "code",
   "execution_count": 5,
   "metadata": {},
   "outputs": [],
   "source": [
    "userId_unique = df[\"UserID\"].unique()\n",
    "itemId_unique = df[\"ItemID\"].unique()"
   ]
  },
  {
   "cell_type": "code",
   "execution_count": 6,
   "metadata": {},
   "outputs": [
    {
     "name": "stdout",
     "output_type": "stream",
     "text": [
      "Warning: 226 (1.79 %) of 12638 users have no train items\n",
      "Warning: 2136 (16.90 %) of 12638 users have no sampled items\n",
      "Warning: 465 (3.68 %) of 12638 users have no train items\n",
      "Warning: 2624 (20.76 %) of 12638 users have no sampled items\n",
      "Warning: 240 (1.90 %) of 12638 users have no train items\n",
      "Warning: 2128 (16.84 %) of 12638 users have no sampled items\n",
      "Warning: 498 (3.94 %) of 12638 users have no train items\n",
      "Warning: 2567 (20.31 %) of 12638 users have no sampled items\n",
      "Warning: 198 (1.57 %) of 12638 users have no train items\n",
      "Warning: 2180 (17.25 %) of 12638 users have no sampled items\n",
      "Warning: 449 (3.55 %) of 12638 users have no train items\n",
      "Warning: 2594 (20.53 %) of 12638 users have no sampled items\n",
      "Warning: 216 (1.71 %) of 12638 users have no train items\n",
      "Warning: 2196 (17.38 %) of 12638 users have no sampled items\n",
      "Warning: 478 (3.78 %) of 12638 users have no train items\n",
      "Warning: 2613 (20.68 %) of 12638 users have no sampled items\n",
      "Warning: 189 (1.50 %) of 12638 users have no train items\n",
      "Warning: 2202 (17.42 %) of 12638 users have no sampled items\n",
      "Warning: 464 (3.67 %) of 12638 users have no train items\n",
      "Warning: 2535 (20.06 %) of 12638 users have no sampled items\n",
      "Warning: 223 (1.76 %) of 12638 users have no train items\n",
      "Warning: 2173 (17.19 %) of 12638 users have no sampled items\n",
      "Warning: 475 (3.76 %) of 12638 users have no train items\n",
      "Warning: 2581 (20.42 %) of 12638 users have no sampled items\n",
      "Warning: 216 (1.71 %) of 12638 users have no train items\n",
      "Warning: 2187 (17.30 %) of 12638 users have no sampled items\n",
      "Warning: 457 (3.62 %) of 12638 users have no train items\n",
      "Warning: 2601 (20.58 %) of 12638 users have no sampled items\n",
      "Warning: 216 (1.71 %) of 12638 users have no train items\n",
      "Warning: 2162 (17.11 %) of 12638 users have no sampled items\n",
      "Warning: 440 (3.48 %) of 12638 users have no train items\n",
      "Warning: 2618 (20.72 %) of 12638 users have no sampled items\n"
     ]
    }
   ],
   "source": [
    "from sklearn.model_selection import train_test_split\n",
    "from sklearn.model_selection import cross_val_score, KFold\n",
    "import numpy as np\n",
    "import scipy.sparse as sps\n",
    "from Data_manager.split_functions.split_train_validation_random_holdout import split_train_in_two_percentage_global_sample\n",
    "\n",
    "seeds = [\n",
    "    7315366, 9428914, 5564236, \n",
    "    3420043, 9223036, 851434, 3300082, 7899660, \n",
    "    2053768, 4305274, 3709256, 8795594, 1418903, \n",
    "    7428566, 157832\n",
    "]\n",
    "\n",
    "seeds = seeds[:num_cpus]\n",
    "\n",
    "urm_all = sps.coo_matrix((df[\"Interaction\"].values, \n",
    "                          (df[\"User\"].values, df[\"Item\"].values)))\n",
    "\n",
    "urm_train_validation = []\n",
    "urm_test = []\n",
    "urm_train = []\n",
    "urm_validation = []\n",
    "\n",
    "for i in range(len(seeds)):\n",
    "    a, b = split_train_in_two_percentage_global_sample(urm_all, train_percentage = 0.80,seed=seeds[i])\n",
    "    c, d = split_train_in_two_percentage_global_sample(a, train_percentage = 0.80,seed=seeds[i])\n",
    "    urm_train_validation.append(a)\n",
    "    urm_test.append(b)\n",
    "    urm_train.append(c)\n",
    "    urm_validation.append(d)\n",
    "\n"
   ]
  },
  {
   "cell_type": "code",
   "execution_count": 7,
   "metadata": {},
   "outputs": [
    {
     "name": "stdout",
     "output_type": "stream",
     "text": [
      "EvaluatorHoldout: Ignoring 2136 (16.9%) Users that have less than 1 test interactions\n",
      "EvaluatorHoldout: Ignoring 0 Users\n",
      "EvaluatorHoldout: Ignoring 2128 (16.8%) Users that have less than 1 test interactions\n",
      "EvaluatorHoldout: Ignoring 0 Users\n",
      "EvaluatorHoldout: Ignoring 2180 (17.2%) Users that have less than 1 test interactions\n",
      "EvaluatorHoldout: Ignoring 0 Users\n",
      "EvaluatorHoldout: Ignoring 2196 (17.4%) Users that have less than 1 test interactions\n",
      "EvaluatorHoldout: Ignoring 0 Users\n",
      "EvaluatorHoldout: Ignoring 2202 (17.4%) Users that have less than 1 test interactions\n",
      "EvaluatorHoldout: Ignoring 0 Users\n",
      "EvaluatorHoldout: Ignoring 2173 (17.2%) Users that have less than 1 test interactions\n",
      "EvaluatorHoldout: Ignoring 0 Users\n",
      "EvaluatorHoldout: Ignoring 2187 (17.3%) Users that have less than 1 test interactions\n",
      "EvaluatorHoldout: Ignoring 0 Users\n",
      "EvaluatorHoldout: Ignoring 2162 (17.1%) Users that have less than 1 test interactions\n",
      "EvaluatorHoldout: Ignoring 0 Users\n"
     ]
    }
   ],
   "source": [
    "from Evaluation.Evaluator import EvaluatorHoldout\n",
    "evaluator_test = []\n",
    "for u in urm_test:\n",
    "    evaluator_test.append(EvaluatorHoldout(u, cutoff_list=[10], ignore_users=[]))"
   ]
  },
  {
   "cell_type": "code",
   "execution_count": 8,
   "metadata": {},
   "outputs": [],
   "source": [
    "from Recommenders.KNN.ItemKNNCFRecommender import ItemKNNCFRecommender\n",
    "from Recommenders.MatrixFactorization.ImplicitIALSRecommender import ImplicitALSRecommender\n",
    "from Recommenders.GraphBased.RP3betaRecommender import RP3betaRecommender\n",
    "from Recommenders.GraphBased.P3alphaRecommender import P3alphaRecommender\n",
    "from Recommenders.SLIM.SLIMElasticNetRecommender import MultiThreadSLIM_SLIMElasticNetRecommender\n",
    "from Recommenders.MatrixFactorization.NMFRecommender import NMFRecommender\n",
    "from Recommenders.Recommender_import_list import *\n",
    "import optuna"
   ]
  },
  {
   "cell_type": "code",
   "execution_count": 9,
   "metadata": {},
   "outputs": [],
   "source": [
    "# Replace the following with your MySQL database connection details\n",
    "host = \"db-mysql-nyc3-14396-do-user-15539286-0.c.db.ondigitalocean.com\"\n",
    "port = 25060\n",
    "database_name = \"recsys_optuna\"\n",
    "username = \"doadmin\"\n",
    "password = \"AVNS_EIQ1D-GbDGJWZPsN3Mt\"\n",
    "\n",
    "# Create an SQLAlchemy engine\n",
    "mysql_url = f\"mysql+pymysql://{username}:{password}@{host}:{port}/{database_name}\"\n",
    "storage = optuna.storages.RDBStorage(url=mysql_url)\n",
    "\n",
    "nmf_name = \"NMF8-FOLD\"\n",
    "knn_name = \"itemKNN8-FOLD\"\n",
    "slim_name = \"SLIM_EN8-FOLD\"\n",
    "rp3beta_name = \"RP3b8-FOLD\"\n",
    "p3alpha_name = \"P3a8-FOLD\"\n",
    "hybrid_name = \"HYBRID8-FOLD\"\n",
    "#nmf_study = optuna.load_study(study_name=nmf_name, storage=storage)\n",
    "#knn_study = optuna.load_study(study_name=knn_name, storage=storage)\n",
    "#slim_study = optuna.load_study(study_name=slim_name, storage=storage)\n",
    "#rp3beta_study = optuna.load_study(study_name=rp3beta_name, storage=storage)\n",
    "#p3alpha_study = optuna.load_study(study_name=p3alpha_name, storage=storage)\n",
    "#hybrid_study = optuna.load_study(study_name=hybrid_name, storage=storage)\n",
    "\n",
    "#studies = [nmf_study, knn_study, slim_study, rp3beta_study, p3alpha_study]\n",
    "#studies = [knn_study, slim_study, rp3beta_study, p3alpha_study]\n",
    "#recommenders_list = [\"Hybrid\", \"itemKNN\", \"RP3beta\", \"P3alpha\", \"NMF\", \"SLIM_EN\", \"TopPop\"]\n",
    "    "
   ]
  },
  {
   "cell_type": "code",
   "execution_count": 10,
   "metadata": {},
   "outputs": [],
   "source": [
    "metric_to_optimize = \"MAP\""
   ]
  },
  {
   "cell_type": "code",
   "execution_count": 11,
   "metadata": {},
   "outputs": [
    {
     "name": "stdout",
     "output_type": "stream",
     "text": [
      "P3alphaRecommender: URM Detected 226 ( 1.8%) users with no interactions.\n",
      "P3alphaRecommender: URM Detected 90 ( 0.4%) items with no interactions.\n",
      "P3alphaRecommender: Similarity column 22222 (100.0%), 8054.34 column/sec. Elapsed time 2.76 sec\n",
      "RP3betaRecommender: URM Detected 226 ( 1.8%) users with no interactions.\n",
      "RP3betaRecommender: URM Detected 90 ( 0.4%) items with no interactions.\n",
      "RP3betaRecommender: Similarity column 22222 (100.0%), 7548.28 column/sec. Elapsed time 2.94 sec\n",
      "ItemKNNCFRecommender: URM Detected 226 ( 1.8%) users with no interactions.\n",
      "ItemKNNCFRecommender: URM Detected 90 ( 0.4%) items with no interactions.\n",
      "Similarity column 22222 (100.0%), 10779.62 column/sec. Elapsed time 2.06 sec\n",
      "SLIMElasticNetRecommender: URM Detected 226 ( 1.8%) users with no interactions.\n",
      "SLIMElasticNetRecommender: URM Detected 90 ( 0.4%) items with no interactions.\n"
     ]
    },
    {
     "name": "stderr",
     "output_type": "stream",
     "text": [
      "100%|█████████▉| 22216/22222 [00:30<00:00, 735.32it/s] \n"
     ]
    },
    {
     "name": "stdout",
     "output_type": "stream",
     "text": [
      "P3alphaRecommender: URM Detected 240 ( 1.9%) users with no interactions.\n",
      "P3alphaRecommender: URM Detected 111 ( 0.5%) items with no interactions.\n",
      "P3alphaRecommender: Similarity column 22222 (100.0%), 8173.69 column/sec. Elapsed time 2.72 sec\n",
      "RP3betaRecommender: URM Detected 240 ( 1.9%) users with no interactions.\n",
      "RP3betaRecommender: URM Detected 111 ( 0.5%) items with no interactions.\n",
      "RP3betaRecommender: Similarity column 22222 (100.0%), 8338.06 column/sec. Elapsed time 2.67 sec\n",
      "ItemKNNCFRecommender: URM Detected 240 ( 1.9%) users with no interactions.\n",
      "ItemKNNCFRecommender: URM Detected 111 ( 0.5%) items with no interactions.\n",
      "Similarity column 22222 (100.0%), 12813.77 column/sec. Elapsed time 1.73 sec\n",
      "SLIMElasticNetRecommender: URM Detected 240 ( 1.9%) users with no interactions.\n",
      "SLIMElasticNetRecommender: URM Detected 111 ( 0.5%) items with no interactions.\n"
     ]
    },
    {
     "name": "stderr",
     "output_type": "stream",
     "text": [
      "100%|█████████▉| 22216/22222 [00:29<00:00, 748.89it/s] \n"
     ]
    },
    {
     "name": "stdout",
     "output_type": "stream",
     "text": [
      "P3alphaRecommender: URM Detected 198 ( 1.6%) users with no interactions.\n",
      "P3alphaRecommender: URM Detected 118 ( 0.5%) items with no interactions.\n",
      "P3alphaRecommender: Similarity column 22222 (100.0%), 8097.56 column/sec. Elapsed time 2.74 sec\n",
      "RP3betaRecommender: URM Detected 198 ( 1.6%) users with no interactions.\n",
      "RP3betaRecommender: URM Detected 118 ( 0.5%) items with no interactions.\n",
      "RP3betaRecommender: Similarity column 22222 (100.0%), 7572.39 column/sec. Elapsed time 2.93 sec\n",
      "ItemKNNCFRecommender: URM Detected 198 ( 1.6%) users with no interactions.\n",
      "ItemKNNCFRecommender: URM Detected 118 ( 0.5%) items with no interactions.\n",
      "Similarity column 22222 (100.0%), 11507.11 column/sec. Elapsed time 1.93 sec\n",
      "SLIMElasticNetRecommender: URM Detected 198 ( 1.6%) users with no interactions.\n",
      "SLIMElasticNetRecommender: URM Detected 118 ( 0.5%) items with no interactions.\n"
     ]
    },
    {
     "name": "stderr",
     "output_type": "stream",
     "text": [
      "100%|█████████▉| 22216/22222 [00:30<00:00, 718.40it/s]\n"
     ]
    },
    {
     "name": "stdout",
     "output_type": "stream",
     "text": [
      "P3alphaRecommender: URM Detected 216 ( 1.7%) users with no interactions.\n",
      "P3alphaRecommender: URM Detected 121 ( 0.5%) items with no interactions.\n",
      "P3alphaRecommender: Similarity column 22222 (100.0%), 8111.53 column/sec. Elapsed time 2.74 sec\n",
      "RP3betaRecommender: URM Detected 216 ( 1.7%) users with no interactions.\n",
      "RP3betaRecommender: URM Detected 121 ( 0.5%) items with no interactions.\n",
      "RP3betaRecommender: Similarity column 22222 (100.0%), 7491.91 column/sec. Elapsed time 2.97 sec\n",
      "ItemKNNCFRecommender: URM Detected 216 ( 1.7%) users with no interactions.\n",
      "ItemKNNCFRecommender: URM Detected 121 ( 0.5%) items with no interactions.\n",
      "Similarity column 22222 (100.0%), 11625.01 column/sec. Elapsed time 1.91 sec\n",
      "SLIMElasticNetRecommender: URM Detected 216 ( 1.7%) users with no interactions.\n",
      "SLIMElasticNetRecommender: URM Detected 121 ( 0.5%) items with no interactions.\n"
     ]
    },
    {
     "name": "stderr",
     "output_type": "stream",
     "text": [
      "100%|█████████▉| 22216/22222 [00:29<00:00, 745.16it/s]\n"
     ]
    },
    {
     "name": "stdout",
     "output_type": "stream",
     "text": [
      "P3alphaRecommender: URM Detected 189 ( 1.5%) users with no interactions.\n",
      "P3alphaRecommender: URM Detected 112 ( 0.5%) items with no interactions.\n",
      "P3alphaRecommender: Similarity column 22222 (100.0%), 8300.55 column/sec. Elapsed time 2.68 sec\n",
      "RP3betaRecommender: URM Detected 189 ( 1.5%) users with no interactions.\n",
      "RP3betaRecommender: URM Detected 112 ( 0.5%) items with no interactions.\n",
      "RP3betaRecommender: Similarity column 22222 (100.0%), 7643.95 column/sec. Elapsed time 2.91 sec\n",
      "ItemKNNCFRecommender: URM Detected 189 ( 1.5%) users with no interactions.\n",
      "ItemKNNCFRecommender: URM Detected 112 ( 0.5%) items with no interactions.\n",
      "Similarity column 22222 (100.0%), 11266.39 column/sec. Elapsed time 1.97 sec\n",
      "SLIMElasticNetRecommender: URM Detected 189 ( 1.5%) users with no interactions.\n",
      "SLIMElasticNetRecommender: URM Detected 112 ( 0.5%) items with no interactions.\n"
     ]
    },
    {
     "name": "stderr",
     "output_type": "stream",
     "text": [
      "100%|█████████▉| 22216/22222 [00:31<00:00, 707.95it/s] \n"
     ]
    },
    {
     "name": "stdout",
     "output_type": "stream",
     "text": [
      "P3alphaRecommender: URM Detected 223 ( 1.8%) users with no interactions.\n",
      "P3alphaRecommender: URM Detected 121 ( 0.5%) items with no interactions.\n",
      "P3alphaRecommender: Similarity column 22222 (100.0%), 8176.40 column/sec. Elapsed time 2.72 sec\n",
      "RP3betaRecommender: URM Detected 223 ( 1.8%) users with no interactions.\n",
      "RP3betaRecommender: URM Detected 121 ( 0.5%) items with no interactions.\n",
      "RP3betaRecommender: Similarity column 22222 (100.0%), 7578.14 column/sec. Elapsed time 2.93 sec\n",
      "ItemKNNCFRecommender: URM Detected 223 ( 1.8%) users with no interactions.\n",
      "ItemKNNCFRecommender: URM Detected 121 ( 0.5%) items with no interactions.\n",
      "Similarity column 22222 (100.0%), 11486.26 column/sec. Elapsed time 1.93 sec\n",
      "SLIMElasticNetRecommender: URM Detected 223 ( 1.8%) users with no interactions.\n",
      "SLIMElasticNetRecommender: URM Detected 121 ( 0.5%) items with no interactions.\n"
     ]
    },
    {
     "name": "stderr",
     "output_type": "stream",
     "text": [
      "100%|█████████▉| 22216/22222 [00:29<00:00, 741.70it/s] \n"
     ]
    },
    {
     "name": "stdout",
     "output_type": "stream",
     "text": [
      "P3alphaRecommender: URM Detected 216 ( 1.7%) users with no interactions.\n",
      "P3alphaRecommender: URM Detected 115 ( 0.5%) items with no interactions.\n",
      "P3alphaRecommender: Similarity column 22222 (100.0%), 8166.26 column/sec. Elapsed time 2.72 sec\n",
      "RP3betaRecommender: URM Detected 216 ( 1.7%) users with no interactions.\n",
      "RP3betaRecommender: URM Detected 115 ( 0.5%) items with no interactions.\n",
      "RP3betaRecommender: Similarity column 22222 (100.0%), 7662.98 column/sec. Elapsed time 2.90 sec\n",
      "ItemKNNCFRecommender: URM Detected 216 ( 1.7%) users with no interactions.\n",
      "ItemKNNCFRecommender: URM Detected 115 ( 0.5%) items with no interactions.\n",
      "Similarity column 22222 (100.0%), 11215.90 column/sec. Elapsed time 1.98 sec\n",
      "SLIMElasticNetRecommender: URM Detected 216 ( 1.7%) users with no interactions.\n",
      "SLIMElasticNetRecommender: URM Detected 115 ( 0.5%) items with no interactions.\n"
     ]
    },
    {
     "name": "stderr",
     "output_type": "stream",
     "text": [
      "100%|█████████▉| 22216/22222 [00:31<00:00, 706.13it/s] \n"
     ]
    },
    {
     "name": "stdout",
     "output_type": "stream",
     "text": [
      "P3alphaRecommender: URM Detected 216 ( 1.7%) users with no interactions.\n",
      "P3alphaRecommender: URM Detected 108 ( 0.5%) items with no interactions.\n",
      "P3alphaRecommender: Similarity column 22222 (100.0%), 8018.20 column/sec. Elapsed time 2.77 sec\n",
      "RP3betaRecommender: URM Detected 216 ( 1.7%) users with no interactions.\n",
      "RP3betaRecommender: URM Detected 108 ( 0.5%) items with no interactions.\n",
      "RP3betaRecommender: Similarity column 22222 (100.0%), 7534.51 column/sec. Elapsed time 2.95 sec\n",
      "ItemKNNCFRecommender: URM Detected 216 ( 1.7%) users with no interactions.\n",
      "ItemKNNCFRecommender: URM Detected 108 ( 0.5%) items with no interactions.\n",
      "Similarity column 22222 (100.0%), 11183.55 column/sec. Elapsed time 1.99 sec\n",
      "SLIMElasticNetRecommender: URM Detected 216 ( 1.7%) users with no interactions.\n",
      "SLIMElasticNetRecommender: URM Detected 108 ( 0.5%) items with no interactions.\n"
     ]
    },
    {
     "name": "stderr",
     "output_type": "stream",
     "text": [
      "100%|█████████▉| 22216/22222 [00:30<00:00, 740.19it/s] \n"
     ]
    }
   ],
   "source": [
    "p3a_recomennders = []\n",
    "rp3b_recomennders = []\n",
    "slimen_recommenders = []\n",
    "knn_recommenders = []\n",
    "slim_recommenders = []\n",
    "\n",
    "for i in range(len(seeds)):\n",
    "\n",
    "    p3a_single = P3alphaRecommender(urm_train_validation[i])\n",
    "    p3a_single.fit(**{'alpha':0.740243876372529,'topK':41})\n",
    "    p3a_recomennders.append(p3a_single)\n",
    "\n",
    "    rp3beta = RP3betaRecommender(urm_train_validation[i])\n",
    "    rp3beta.fit(**{'topK': 29, 'alpha': 0.33723025040409343, 'beta': 0.15542352567862933, 'normalize_similarity': True})\n",
    "    rp3b_recomennders.append(rp3beta)\n",
    "\n",
    "    knn_single = ItemKNNCFRecommender(urm_train_validation[i])\n",
    "    knn_single.fit(**{'topK': 19, 'shrink': 28, 'similarity': 'tversky', 'normalize': True, 'tversky_alpha': 0.0, 'tversky_beta': 1.3672226785339947})\n",
    "    knn_recommenders.append(knn_single)\n",
    "\n",
    "    slim_single = MultiThreadSLIM_SLIMElasticNetRecommender(urm_train_validation[i])\n",
    "    slim_single.fit(workers=12,**{'alpha':0.0008361537677496276,'topK':3334, 'l1_ratio':0.09976758088492818})\n",
    "    slim_recommenders.append(slim_single)"
   ]
  },
  {
   "cell_type": "code",
   "execution_count": 14,
   "metadata": {},
   "outputs": [
    {
     "name": "stdout",
     "output_type": "stream",
     "text": [
      "ImplicitALSP3alphaRP3betaItemKNNCFSLIMElasticNetHybridRecommender: URM Detected 226 ( 1.8%) users with no interactions.\n",
      "ImplicitALSP3alphaRP3betaItemKNNCFSLIMElasticNetHybridRecommender: URM Detected 90 ( 0.4%) items with no interactions.\n",
      "ImplicitALSP3alphaRP3betaItemKNNCFSLIMElasticNetHybridRecommender: URM Detected 240 ( 1.9%) users with no interactions.\n",
      "ImplicitALSP3alphaRP3betaItemKNNCFSLIMElasticNetHybridRecommender: URM Detected 111 ( 0.5%) items with no interactions.\n",
      "ImplicitALSP3alphaRP3betaItemKNNCFSLIMElasticNetHybridRecommender: URM Detected 198 ( 1.6%) users with no interactions.\n",
      "ImplicitALSP3alphaRP3betaItemKNNCFSLIMElasticNetHybridRecommender: URM Detected 118 ( 0.5%) items with no interactions.\n",
      "ImplicitALSP3alphaRP3betaItemKNNCFSLIMElasticNetHybridRecommender: URM Detected 216 ( 1.7%) users with no interactions.\n",
      "ImplicitALSP3alphaRP3betaItemKNNCFSLIMElasticNetHybridRecommender: URM Detected 121 ( 0.5%) items with no interactions.\n",
      "ImplicitALSP3alphaRP3betaItemKNNCFSLIMElasticNetHybridRecommender: URM Detected 189 ( 1.5%) users with no interactions.\n",
      "ImplicitALSP3alphaRP3betaItemKNNCFSLIMElasticNetHybridRecommender: URM Detected 112 ( 0.5%) items with no interactions.\n",
      "ImplicitALSP3alphaRP3betaItemKNNCFSLIMElasticNetHybridRecommender: URM Detected 223 ( 1.8%) users with no interactions.\n",
      "ImplicitALSP3alphaRP3betaItemKNNCFSLIMElasticNetHybridRecommender: URM Detected 121 ( 0.5%) items with no interactions.\n",
      "ImplicitALSP3alphaRP3betaItemKNNCFSLIMElasticNetHybridRecommender: URM Detected 216 ( 1.7%) users with no interactions.\n",
      "ImplicitALSP3alphaRP3betaItemKNNCFSLIMElasticNetHybridRecommender: URM Detected 115 ( 0.5%) items with no interactions.\n",
      "ImplicitALSP3alphaRP3betaItemKNNCFSLIMElasticNetHybridRecommender: URM Detected 216 ( 1.7%) users with no interactions.\n",
      "ImplicitALSP3alphaRP3betaItemKNNCFSLIMElasticNetHybridRecommender: URM Detected 108 ( 0.5%) items with no interactions.\n"
     ]
    }
   ],
   "source": [
    "from Recommenders.Hybrid.GeneralizedLinearHybridRecommender import GeneralizedLinearHybridRecommender\n",
    "\n",
    "\n",
    "hybrids = []\n",
    "\n",
    "for i in range(len(seeds)):\n",
    "    hybrid = GeneralizedLinearHybridRecommender(urm_train_validation[i], recommenders=[p3a_recomennders[i], rp3b_recomennders[i], knn_recommenders[i], slim_recommenders[i]])\n",
    "    hybrids.append(hybrid)"
   ]
  },
  {
   "cell_type": "code",
   "execution_count": 15,
   "metadata": {},
   "outputs": [
    {
     "name": "stderr",
     "output_type": "stream",
     "text": [
      "[I 2024-01-09 14:40:46,261] A new study created in RDB with name: HYBRID-NONMF-8-FOLD\n"
     ]
    },
    {
     "name": "stdout",
     "output_type": "stream",
     "text": [
      "EvaluatorHoldout: Processed 10502 (100.0%) in 7.33 sec. Users per second: 1433\n",
      "EvaluatorHoldout: Processed 10510 (100.0%) in 7.66 sec. Users per second: 1373\n",
      "EvaluatorHoldout: Processed 10458 (100.0%) in 7.31 sec. Users per second: 1431\n",
      "EvaluatorHoldout: Processed 10442 (100.0%) in 6.72 sec. Users per second: 1555\n",
      "EvaluatorHoldout: Processed 10436 (100.0%) in 6.92 sec. Users per second: 1508\n",
      "EvaluatorHoldout: Processed 10465 (100.0%) in 7.54 sec. Users per second: 1388\n",
      "EvaluatorHoldout: Processed 10451 (100.0%) in 7.71 sec. Users per second: 1356\n",
      "EvaluatorHoldout: Processed 10476 (100.0%) in 7.43 sec. Users per second: 1409\n"
     ]
    },
    {
     "name": "stderr",
     "output_type": "stream",
     "text": [
      "[I 2024-01-09 14:41:59,058] Trial 0 finished with value: 0.05181687986854874 and parameters: {'w_ials': 0.0, 'w_p3a': 0.06535815757959068, 'w_rp3b': 0.9396285725235661, 'w_knn': 0.054706364180647754, 'w_slim': 0.9086719842062518}. Best is trial 0 with value: 0.05181687986854874.\n"
     ]
    },
    {
     "name": "stdout",
     "output_type": "stream",
     "text": [
      "EvaluatorHoldout: Processed 10502 (100.0%) in 7.55 sec. Users per second: 1390\n",
      "EvaluatorHoldout: Processed 10510 (100.0%) in 7.75 sec. Users per second: 1356\n",
      "EvaluatorHoldout: Processed 10458 (100.0%) in 7.48 sec. Users per second: 1399\n",
      "EvaluatorHoldout: Processed 10442 (100.0%) in 7.23 sec. Users per second: 1444\n",
      "EvaluatorHoldout: Processed 10436 (100.0%) in 7.59 sec. Users per second: 1376\n",
      "EvaluatorHoldout: Processed 10465 (100.0%) in 7.54 sec. Users per second: 1388\n",
      "EvaluatorHoldout: Processed 10451 (100.0%) in 7.62 sec. Users per second: 1371\n",
      "EvaluatorHoldout: Processed 10476 (100.0%) in 7.67 sec. Users per second: 1366\n"
     ]
    },
    {
     "name": "stderr",
     "output_type": "stream",
     "text": [
      "[I 2024-01-09 14:43:13,122] Trial 1 finished with value: 0.04853620331139224 and parameters: {'w_ials': 0.9583113241517032, 'w_p3a': 0.21820393840212726, 'w_rp3b': 0.47953420070653974, 'w_knn': 0.4712549049247361, 'w_slim': 0.03607280320442463}. Best is trial 0 with value: 0.05181687986854874.\n"
     ]
    },
    {
     "name": "stdout",
     "output_type": "stream",
     "text": [
      "EvaluatorHoldout: Processed 10502 (100.0%) in 7.81 sec. Users per second: 1345\n",
      "EvaluatorHoldout: Processed 10510 (100.0%) in 7.64 sec. Users per second: 1376\n",
      "EvaluatorHoldout: Processed 10458 (100.0%) in 7.31 sec. Users per second: 1432\n",
      "EvaluatorHoldout: Processed 10442 (100.0%) in 7.02 sec. Users per second: 1487\n",
      "EvaluatorHoldout: Processed 10436 (100.0%) in 7.24 sec. Users per second: 1441\n",
      "EvaluatorHoldout: Processed 10465 (100.0%) in 7.58 sec. Users per second: 1380\n",
      "EvaluatorHoldout: Processed 10451 (100.0%) in 7.62 sec. Users per second: 1371\n",
      "EvaluatorHoldout: Processed 10476 (100.0%) in 7.47 sec. Users per second: 1402\n"
     ]
    },
    {
     "name": "stderr",
     "output_type": "stream",
     "text": [
      "[I 2024-01-09 14:44:26,334] Trial 2 finished with value: 0.0498238355127359 and parameters: {'w_ials': 0.023090788675259155, 'w_p3a': 0.7862469992384116, 'w_rp3b': 0.9156161019716993, 'w_knn': 0.8572293212080037, 'w_slim': 0.30831825372760646}. Best is trial 0 with value: 0.05181687986854874.\n"
     ]
    },
    {
     "name": "stdout",
     "output_type": "stream",
     "text": [
      "EvaluatorHoldout: Processed 10502 (100.0%) in 7.71 sec. Users per second: 1362\n",
      "EvaluatorHoldout: Processed 10510 (100.0%) in 7.55 sec. Users per second: 1392\n",
      "EvaluatorHoldout: Processed 10458 (100.0%) in 7.28 sec. Users per second: 1437\n",
      "EvaluatorHoldout: Processed 10442 (100.0%) in 7.18 sec. Users per second: 1454\n",
      "EvaluatorHoldout: Processed 10436 (100.0%) in 7.67 sec. Users per second: 1360\n",
      "EvaluatorHoldout: Processed 10465 (100.0%) in 7.89 sec. Users per second: 1326\n",
      "EvaluatorHoldout: Processed 10451 (100.0%) in 7.74 sec. Users per second: 1351\n",
      "EvaluatorHoldout: Processed 10476 (100.0%) in 7.93 sec. Users per second: 1321\n"
     ]
    },
    {
     "name": "stderr",
     "output_type": "stream",
     "text": [
      "[I 2024-01-09 14:45:40,888] Trial 3 finished with value: 0.048364570782358375 and parameters: {'w_ials': 0.9343434977770495, 'w_p3a': 0.4196527124836651, 'w_rp3b': 0.6375105498784669, 'w_knn': 0.25603848693429854, 'w_slim': 0.0697015744675884}. Best is trial 0 with value: 0.05181687986854874.\n"
     ]
    },
    {
     "name": "stdout",
     "output_type": "stream",
     "text": [
      "EvaluatorHoldout: Processed 10502 (100.0%) in 7.74 sec. Users per second: 1357\n",
      "EvaluatorHoldout: Processed 10510 (100.0%) in 7.67 sec. Users per second: 1370\n",
      "EvaluatorHoldout: Processed 10458 (100.0%) in 7.28 sec. Users per second: 1436\n",
      "EvaluatorHoldout: Processed 10442 (100.0%) in 7.25 sec. Users per second: 1440\n",
      "EvaluatorHoldout: Processed 10436 (100.0%) in 7.72 sec. Users per second: 1351\n",
      "EvaluatorHoldout: Processed 10465 (100.0%) in 7.85 sec. Users per second: 1333\n"
     ]
    }
   ],
   "source": [
    "hybrid_name = \"HYBRID-NO_MF_ATALL-8-FOLD\"\n",
    "hybrid_study = optuna.create_study(study_name=hybrid_name, direction=\"maximize\", storage=storage, load_if_exists=True, sampler=optuna.samplers.TPESampler())\n",
    "\n",
    "def objective(trial):\n",
    "\n",
    "    params = {\n",
    "        #\"w_ials\": trial.suggest_float(\"w_ials\", 0, 1),\n",
    "        \"w_p3a\": trial.suggest_float(\"w_p3a\", 0, 1),\n",
    "        \"w_rp3b\": trial.suggest_float(\"w_rp3b\", 0, 1),\n",
    "        \"w_knn\": trial.suggest_float(\"w_knn\", 0, 1),\n",
    "        \"w_slim\": trial.suggest_float(\"w_slim\", 0, 1),\n",
    "    }\n",
    "\n",
    "    alphas = [params[\"w_p3a\"], params[\"w_rp3b\"], params[\"w_knn\"], params[\"w_slim\"]]\n",
    "\n",
    "    MAP = 0\n",
    "\n",
    "    for i in range(len(seeds)):\n",
    "        hybrids[i].fit(alphas=alphas)\n",
    "        MAP += evaluator_test[i].evaluateRecommender(hybrids[i])[0][metric_to_optimize]\n",
    "\n",
    "    average_score = MAP / len(seeds)\n",
    "    return average_score\n",
    "\n",
    "hybrid_study.enqueue_trial( {'w_p3a': 0.06535815757959068, 'w_rp3b': 0.9396285725235661, 'w_knn': 0.054706364180647754, 'w_slim': 0.9086719842062518})\n",
    "hybrid_study.optimize(objective, n_trials=250)"
   ]
  }
 ],
 "metadata": {
  "kernelspec": {
   "display_name": "RecSysFramework",
   "language": "python",
   "name": "python3"
  },
  "language_info": {
   "codemirror_mode": {
    "name": "ipython",
    "version": 3
   },
   "file_extension": ".py",
   "mimetype": "text/x-python",
   "name": "python",
   "nbconvert_exporter": "python",
   "pygments_lexer": "ipython3",
   "version": "3.8.18"
  }
 },
 "nbformat": 4,
 "nbformat_minor": 2
}
