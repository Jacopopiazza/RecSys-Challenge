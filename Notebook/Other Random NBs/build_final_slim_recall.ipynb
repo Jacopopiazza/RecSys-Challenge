{
 "cells": [
  {
   "cell_type": "code",
   "execution_count": 1,
   "metadata": {},
   "outputs": [],
   "source": [
    "import os\n",
    "os.chdir(\"../\")"
   ]
  },
  {
   "cell_type": "code",
   "execution_count": 2,
   "metadata": {},
   "outputs": [],
   "source": [
    "import numpy as np\n",
    "import pandas as pd\n",
    "import matplotlib.pyplot as plt\n",
    "\n",
    "\n",
    "k_fold = 10\n",
    "seeds = [192760, 1393659, 1269293, 138973, 931308, 1088652, 1361151, 1456105, 820535, 1240839]\n"
   ]
  },
  {
   "cell_type": "code",
   "execution_count": 3,
   "metadata": {},
   "outputs": [],
   "source": [
    "data_train_path = \"Dataset/data_train.csv\"\n",
    "data_test_path = \"Dataset/data_target_users_test.csv\""
   ]
  },
  {
   "cell_type": "code",
   "execution_count": 4,
   "metadata": {},
   "outputs": [],
   "source": [
    "df = pd.read_csv(data_train_path)\n",
    "df_test = pd.read_csv(data_test_path)\n",
    "\n",
    "df.columns = [\"UserID\", \"ItemID\", \"Interaction\"]\n",
    "df_test.columns = [\"UserID\"]"
   ]
  },
  {
   "cell_type": "code",
   "execution_count": 5,
   "metadata": {},
   "outputs": [
    {
     "data": {
      "text/html": [
       "<div>\n",
       "<style scoped>\n",
       "    .dataframe tbody tr th:only-of-type {\n",
       "        vertical-align: middle;\n",
       "    }\n",
       "\n",
       "    .dataframe tbody tr th {\n",
       "        vertical-align: top;\n",
       "    }\n",
       "\n",
       "    .dataframe thead th {\n",
       "        text-align: right;\n",
       "    }\n",
       "</style>\n",
       "<table border=\"1\" class=\"dataframe\">\n",
       "  <thead>\n",
       "    <tr style=\"text-align: right;\">\n",
       "      <th></th>\n",
       "      <th>UserID</th>\n",
       "      <th>ItemID</th>\n",
       "      <th>Interaction</th>\n",
       "    </tr>\n",
       "  </thead>\n",
       "  <tbody>\n",
       "    <tr>\n",
       "      <th>0</th>\n",
       "      <td>1</td>\n",
       "      <td>7</td>\n",
       "      <td>1.0</td>\n",
       "    </tr>\n",
       "    <tr>\n",
       "      <th>1</th>\n",
       "      <td>1</td>\n",
       "      <td>15</td>\n",
       "      <td>1.0</td>\n",
       "    </tr>\n",
       "    <tr>\n",
       "      <th>2</th>\n",
       "      <td>1</td>\n",
       "      <td>16</td>\n",
       "      <td>1.0</td>\n",
       "    </tr>\n",
       "    <tr>\n",
       "      <th>3</th>\n",
       "      <td>1</td>\n",
       "      <td>133</td>\n",
       "      <td>1.0</td>\n",
       "    </tr>\n",
       "    <tr>\n",
       "      <th>4</th>\n",
       "      <td>1</td>\n",
       "      <td>161</td>\n",
       "      <td>1.0</td>\n",
       "    </tr>\n",
       "    <tr>\n",
       "      <th>...</th>\n",
       "      <td>...</td>\n",
       "      <td>...</td>\n",
       "      <td>...</td>\n",
       "    </tr>\n",
       "    <tr>\n",
       "      <th>478725</th>\n",
       "      <td>13024</td>\n",
       "      <td>13605</td>\n",
       "      <td>1.0</td>\n",
       "    </tr>\n",
       "    <tr>\n",
       "      <th>478726</th>\n",
       "      <td>13024</td>\n",
       "      <td>13823</td>\n",
       "      <td>1.0</td>\n",
       "    </tr>\n",
       "    <tr>\n",
       "      <th>478727</th>\n",
       "      <td>13024</td>\n",
       "      <td>15122</td>\n",
       "      <td>1.0</td>\n",
       "    </tr>\n",
       "    <tr>\n",
       "      <th>478728</th>\n",
       "      <td>13024</td>\n",
       "      <td>18185</td>\n",
       "      <td>1.0</td>\n",
       "    </tr>\n",
       "    <tr>\n",
       "      <th>478729</th>\n",
       "      <td>13024</td>\n",
       "      <td>20014</td>\n",
       "      <td>1.0</td>\n",
       "    </tr>\n",
       "  </tbody>\n",
       "</table>\n",
       "<p>478730 rows × 3 columns</p>\n",
       "</div>"
      ],
      "text/plain": [
       "        UserID  ItemID  Interaction\n",
       "0            1       7          1.0\n",
       "1            1      15          1.0\n",
       "2            1      16          1.0\n",
       "3            1     133          1.0\n",
       "4            1     161          1.0\n",
       "...        ...     ...          ...\n",
       "478725   13024   13605          1.0\n",
       "478726   13024   13823          1.0\n",
       "478727   13024   15122          1.0\n",
       "478728   13024   18185          1.0\n",
       "478729   13024   20014          1.0\n",
       "\n",
       "[478730 rows x 3 columns]"
      ]
     },
     "execution_count": 5,
     "metadata": {},
     "output_type": "execute_result"
    }
   ],
   "source": [
    "df"
   ]
  },
  {
   "cell_type": "code",
   "execution_count": 6,
   "metadata": {},
   "outputs": [],
   "source": [
    "metric_to_optimize=\"RECALL\"\n",
    "cutoff_to_optimize=20"
   ]
  },
  {
   "cell_type": "code",
   "execution_count": 7,
   "metadata": {},
   "outputs": [
    {
     "name": "stdout",
     "output_type": "stream",
     "text": [
      "Number of users: 12638, Number of Items: 22222, Min rating: 0.0, Max rating: 1.0\n"
     ]
    }
   ],
   "source": [
    "user_ids = df[\"UserID\"].unique().tolist()\n",
    "user2user_encoded = {x: i for i, x in enumerate(user_ids)}\n",
    "userencoded2user = {i: x for i, x in enumerate(user_ids)}\n",
    "item_ids = df[\"ItemID\"].unique().tolist()\n",
    "item2item_encoded = {x: i for i, x in enumerate(item_ids)}\n",
    "item_encoded2item = {i: x for i, x in enumerate(item_ids)}\n",
    "df[\"User\"] = df[\"UserID\"].map(user2user_encoded)\n",
    "df[\"Item\"] = df[\"ItemID\"].map(item2item_encoded)\n",
    "\n",
    "num_users = len(user2user_encoded)\n",
    "num_items = len(item_encoded2item)\n",
    "df[\"Interaction\"] = df[\"Interaction\"].values.astype(np.float32)\n",
    "\n",
    "# min and max ratings will be used to normalize the ratings later\n",
    "min_rating = 0.0\n",
    "max_rating = max(df[\"Interaction\"])\n",
    "\n",
    "print(\n",
    "    \"Number of users: {}, Number of Items: {}, Min rating: {}, Max rating: {}\".format(\n",
    "        num_users, num_items, min_rating, max_rating\n",
    "    )\n",
    ")"
   ]
  },
  {
   "cell_type": "code",
   "execution_count": 8,
   "metadata": {},
   "outputs": [],
   "source": [
    "userId_unique = df[\"UserID\"].unique()\n",
    "itemId_unique = df[\"ItemID\"].unique()"
   ]
  },
  {
   "cell_type": "code",
   "execution_count": 9,
   "metadata": {},
   "outputs": [
    {
     "name": "stdout",
     "output_type": "stream",
     "text": [
      "Warning: 249 (1.97 %) of 12638 users have no train items\n",
      "Warning: 2146 (16.98 %) of 12638 users have no sampled items\n",
      "Warning: 508 (4.02 %) of 12638 users have no train items\n",
      "Warning: 2581 (20.42 %) of 12638 users have no sampled items\n",
      "Warning: 191 (1.51 %) of 12638 users have no train items\n",
      "Warning: 2177 (17.23 %) of 12638 users have no sampled items\n",
      "Warning: 440 (3.48 %) of 12638 users have no train items\n",
      "Warning: 2598 (20.56 %) of 12638 users have no sampled items\n",
      "Warning: 235 (1.86 %) of 12638 users have no train items\n",
      "Warning: 2157 (17.07 %) of 12638 users have no sampled items\n",
      "Warning: 479 (3.79 %) of 12638 users have no train items\n",
      "Warning: 2621 (20.74 %) of 12638 users have no sampled items\n",
      "Warning: 218 (1.72 %) of 12638 users have no train items\n",
      "Warning: 2132 (16.87 %) of 12638 users have no sampled items\n",
      "Warning: 451 (3.57 %) of 12638 users have no train items\n",
      "Warning: 2601 (20.58 %) of 12638 users have no sampled items\n",
      "Warning: 220 (1.74 %) of 12638 users have no train items\n",
      "Warning: 2149 (17.00 %) of 12638 users have no sampled items\n",
      "Warning: 449 (3.55 %) of 12638 users have no train items\n",
      "Warning: 2649 (20.96 %) of 12638 users have no sampled items\n",
      "Warning: 224 (1.77 %) of 12638 users have no train items\n",
      "Warning: 2129 (16.85 %) of 12638 users have no sampled items\n",
      "Warning: 460 (3.64 %) of 12638 users have no train items\n",
      "Warning: 2614 (20.68 %) of 12638 users have no sampled items\n",
      "Warning: 207 (1.64 %) of 12638 users have no train items\n",
      "Warning: 2228 (17.63 %) of 12638 users have no sampled items\n",
      "Warning: 426 (3.37 %) of 12638 users have no train items\n",
      "Warning: 2608 (20.64 %) of 12638 users have no sampled items\n",
      "Warning: 218 (1.72 %) of 12638 users have no train items\n",
      "Warning: 2183 (17.27 %) of 12638 users have no sampled items\n",
      "Warning: 471 (3.73 %) of 12638 users have no train items\n",
      "Warning: 2586 (20.46 %) of 12638 users have no sampled items\n",
      "Warning: 214 (1.69 %) of 12638 users have no train items\n",
      "Warning: 2140 (16.93 %) of 12638 users have no sampled items\n",
      "Warning: 478 (3.78 %) of 12638 users have no train items\n",
      "Warning: 2593 (20.52 %) of 12638 users have no sampled items\n",
      "Warning: 217 (1.72 %) of 12638 users have no train items\n",
      "Warning: 2187 (17.30 %) of 12638 users have no sampled items\n",
      "Warning: 460 (3.64 %) of 12638 users have no train items\n",
      "Warning: 2570 (20.34 %) of 12638 users have no sampled items\n"
     ]
    }
   ],
   "source": [
    "from sklearn.model_selection import train_test_split\n",
    "from sklearn.model_selection import cross_val_score, KFold\n",
    "import numpy as np\n",
    "import scipy.sparse as sps\n",
    "from Data_manager.split_functions.split_train_validation_random_holdout import split_train_in_two_percentage_global_sample\n",
    "\n",
    "\n",
    "urm_all = sps.coo_matrix((df[\"Interaction\"].values, \n",
    "                          (df[\"User\"].values, df[\"Item\"].values)))\n",
    "\n",
    "urm_train_validation = []\n",
    "urm_test = []\n",
    "urm_train = []\n",
    "urm_validation = []\n",
    "\n",
    "for i in range(len(seeds)):\n",
    "    a, b = split_train_in_two_percentage_global_sample(urm_all, train_percentage = 0.80,seed=seeds[i])\n",
    "    c, d = split_train_in_two_percentage_global_sample(a, train_percentage = 0.80,seed=seeds[i])\n",
    "    urm_train_validation.append(a)\n",
    "    urm_test.append(b)\n",
    "    urm_train.append(c)\n",
    "    urm_validation.append(d)\n",
    "\n"
   ]
  },
  {
   "cell_type": "code",
   "execution_count": 10,
   "metadata": {},
   "outputs": [
    {
     "name": "stdout",
     "output_type": "stream",
     "text": [
      "EvaluatorHoldout: Ignoring 2581 (20.4%) Users that have less than 1 test interactions\n",
      "EvaluatorHoldout: Ignoring 0 Users\n",
      "EvaluatorHoldout: Ignoring 2598 (20.6%) Users that have less than 1 test interactions\n",
      "EvaluatorHoldout: Ignoring 0 Users\n",
      "EvaluatorHoldout: Ignoring 2621 (20.7%) Users that have less than 1 test interactions\n",
      "EvaluatorHoldout: Ignoring 0 Users\n",
      "EvaluatorHoldout: Ignoring 2601 (20.6%) Users that have less than 1 test interactions\n",
      "EvaluatorHoldout: Ignoring 0 Users\n",
      "EvaluatorHoldout: Ignoring 2649 (21.0%) Users that have less than 1 test interactions\n",
      "EvaluatorHoldout: Ignoring 0 Users\n",
      "EvaluatorHoldout: Ignoring 2614 (20.7%) Users that have less than 1 test interactions\n",
      "EvaluatorHoldout: Ignoring 0 Users\n",
      "EvaluatorHoldout: Ignoring 2608 (20.6%) Users that have less than 1 test interactions\n",
      "EvaluatorHoldout: Ignoring 0 Users\n",
      "EvaluatorHoldout: Ignoring 2586 (20.5%) Users that have less than 1 test interactions\n",
      "EvaluatorHoldout: Ignoring 0 Users\n",
      "EvaluatorHoldout: Ignoring 2593 (20.5%) Users that have less than 1 test interactions\n",
      "EvaluatorHoldout: Ignoring 0 Users\n",
      "EvaluatorHoldout: Ignoring 2570 (20.3%) Users that have less than 1 test interactions\n",
      "EvaluatorHoldout: Ignoring 0 Users\n"
     ]
    }
   ],
   "source": [
    "from Evaluation.Evaluator import EvaluatorHoldout\n",
    "evaluator_validation = []\n",
    "for u in urm_validation:\n",
    "    evaluator_validation.append(EvaluatorHoldout(u, cutoff_list=[20], ignore_users=[]))"
   ]
  },
  {
   "cell_type": "code",
   "execution_count": 11,
   "metadata": {},
   "outputs": [
    {
     "name": "stdout",
     "output_type": "stream",
     "text": [
      "EvaluatorHoldout: Ignoring 2146 (17.0%) Users that have less than 1 test interactions\n",
      "EvaluatorHoldout: Ignoring 0 Users\n",
      "EvaluatorHoldout: Ignoring 2177 (17.2%) Users that have less than 1 test interactions\n",
      "EvaluatorHoldout: Ignoring 0 Users\n",
      "EvaluatorHoldout: Ignoring 2157 (17.1%) Users that have less than 1 test interactions\n",
      "EvaluatorHoldout: Ignoring 0 Users\n",
      "EvaluatorHoldout: Ignoring 2132 (16.9%) Users that have less than 1 test interactions\n",
      "EvaluatorHoldout: Ignoring 0 Users\n",
      "EvaluatorHoldout: Ignoring 2149 (17.0%) Users that have less than 1 test interactions\n",
      "EvaluatorHoldout: Ignoring 0 Users\n",
      "EvaluatorHoldout: Ignoring 2129 (16.8%) Users that have less than 1 test interactions\n",
      "EvaluatorHoldout: Ignoring 0 Users\n",
      "EvaluatorHoldout: Ignoring 2228 (17.6%) Users that have less than 1 test interactions\n",
      "EvaluatorHoldout: Ignoring 0 Users\n",
      "EvaluatorHoldout: Ignoring 2183 (17.3%) Users that have less than 1 test interactions\n",
      "EvaluatorHoldout: Ignoring 0 Users\n",
      "EvaluatorHoldout: Ignoring 2140 (16.9%) Users that have less than 1 test interactions\n",
      "EvaluatorHoldout: Ignoring 0 Users\n",
      "EvaluatorHoldout: Ignoring 2187 (17.3%) Users that have less than 1 test interactions\n",
      "EvaluatorHoldout: Ignoring 0 Users\n"
     ]
    }
   ],
   "source": [
    "from Evaluation.Evaluator import EvaluatorHoldout\n",
    "evaluator_test = []\n",
    "for u in urm_test:\n",
    "    evaluator_test.append(EvaluatorHoldout(u, cutoff_list=[20], ignore_users=[]))"
   ]
  },
  {
   "cell_type": "code",
   "execution_count": 12,
   "metadata": {},
   "outputs": [],
   "source": [
    "from Recommenders.GraphBased.RP3betaRecommender import RP3betaRecommender\n",
    "from Recommenders.KNN.ItemKNNCFRecommender import ItemKNNCFRecommender\n",
    "from Recommenders.SLIM.SLIMElasticNetRecommender import MultiThreadSLIM_SLIMElasticNetRecommender\n",
    "\n",
    "recommenderClass = MultiThreadSLIM_SLIMElasticNetRecommender\n",
    "\n"
   ]
  },
  {
   "cell_type": "code",
   "execution_count": 13,
   "metadata": {},
   "outputs": [],
   "source": [
    "import optuna\n",
    "\n",
    "# Replace the following with your MySQL database connection details\n",
    "host = \"db-mysql-nyc3-14396-do-user-15539286-0.c.db.ondigitalocean.com\"\n",
    "port = 25060\n",
    "database_name = \"recsys_optuna\"\n",
    "username = \"doadmin\"\n",
    "password = \"AVNS_EIQ1D-GbDGJWZPsN3Mt\"\n",
    "\n",
    "# Create an SQLAlchemy engine\n",
    "mysql_url = f\"mysql+pymysql://{username}:{password}@{host}:{port}/{database_name}\"\n",
    "storage = optuna.storages.RDBStorage(url=mysql_url)"
   ]
  },
  {
   "cell_type": "code",
   "execution_count": 14,
   "metadata": {},
   "outputs": [
    {
     "name": "stderr",
     "output_type": "stream",
     "text": [
      "[I 2024-01-10 10:04:18,619] A new study created in RDB with name: SLIM_XG_RECALL\n"
     ]
    }
   ],
   "source": [
    "study = optuna.create_study(study_name=\"SLIM_XG_RECALL\", direction=\"maximize\", storage=storage, load_if_exists=True, sampler=optuna.samplers.TPESampler())"
   ]
  },
  {
   "cell_type": "code",
   "execution_count": 15,
   "metadata": {},
   "outputs": [],
   "source": [
    "def objective(trial):\n",
    "\n",
    "    params = {\n",
    "        'alpha': trial.suggest_float('alpha', 1e-3, 1),\n",
    "        'l1_ratio': trial.suggest_float('l1_ratio', 1e-5, 1, log=True),\n",
    "        'topK': trial.suggest_int('topK', 5, 10000),\n",
    "    }\n",
    "\n",
    "    MAP = 0\n",
    "    for i in range(k_fold):\n",
    "        recommender = recommenderClass(urm_train[i])\n",
    "        recommender.fit(workers=8, **params)\n",
    "\n",
    "        result_dict, _ = evaluator_validation[i].evaluateRecommender(recommender)\n",
    "\n",
    "        MAP += result_dict[metric_to_optimize].item()\n",
    "    \n",
    "    MAP /= k_fold\n",
    "    return MAP"
   ]
  },
  {
   "cell_type": "code",
   "execution_count": 16,
   "metadata": {},
   "outputs": [
    {
     "name": "stdout",
     "output_type": "stream",
     "text": [
      "SLIMElasticNetRecommender: URM Detected 508 ( 4.0%) users with no interactions.\n",
      "SLIMElasticNetRecommender: URM Detected 332 ( 1.5%) items with no interactions.\n"
     ]
    },
    {
     "name": "stderr",
     "output_type": "stream",
     "text": [
      "100%|█████████▉| 22216/22222 [00:13<00:00, 1686.47it/s]\n"
     ]
    },
    {
     "name": "stdout",
     "output_type": "stream",
     "text": [
      "EvaluatorHoldout: Processed 10057 (100.0%) in 2.15 sec. Users per second: 4680\n",
      "SLIMElasticNetRecommender: URM Detected 440 ( 3.5%) users with no interactions.\n",
      "SLIMElasticNetRecommender: URM Detected 325 ( 1.5%) items with no interactions.\n"
     ]
    },
    {
     "name": "stderr",
     "output_type": "stream",
     "text": [
      "100%|█████████▉| 22216/22222 [00:12<00:00, 1742.13it/s]\n"
     ]
    },
    {
     "name": "stdout",
     "output_type": "stream",
     "text": [
      "EvaluatorHoldout: Processed 10040 (100.0%) in 2.20 sec. Users per second: 4565\n",
      "SLIMElasticNetRecommender: URM Detected 479 ( 3.8%) users with no interactions.\n",
      "SLIMElasticNetRecommender: URM Detected 345 ( 1.6%) items with no interactions.\n"
     ]
    },
    {
     "name": "stderr",
     "output_type": "stream",
     "text": [
      "100%|█████████▉| 22216/22222 [00:12<00:00, 1715.23it/s]\n"
     ]
    },
    {
     "name": "stdout",
     "output_type": "stream",
     "text": [
      "EvaluatorHoldout: Processed 10017 (100.0%) in 2.26 sec. Users per second: 4424\n",
      "SLIMElasticNetRecommender: URM Detected 451 ( 3.6%) users with no interactions.\n",
      "SLIMElasticNetRecommender: URM Detected 311 ( 1.4%) items with no interactions.\n"
     ]
    },
    {
     "name": "stderr",
     "output_type": "stream",
     "text": [
      "100%|█████████▉| 22216/22222 [00:12<00:00, 1801.52it/s]\n"
     ]
    },
    {
     "name": "stdout",
     "output_type": "stream",
     "text": [
      "EvaluatorHoldout: Processed 10037 (100.0%) in 2.23 sec. Users per second: 4501\n",
      "SLIMElasticNetRecommender: URM Detected 449 ( 3.6%) users with no interactions.\n",
      "SLIMElasticNetRecommender: URM Detected 320 ( 1.4%) items with no interactions.\n"
     ]
    },
    {
     "name": "stderr",
     "output_type": "stream",
     "text": [
      "100%|█████████▉| 22216/22222 [00:12<00:00, 1825.48it/s]\n"
     ]
    },
    {
     "name": "stdout",
     "output_type": "stream",
     "text": [
      "EvaluatorHoldout: Processed 9989 (100.0%) in 1.94 sec. Users per second: 5153\n",
      "SLIMElasticNetRecommender: URM Detected 460 ( 3.6%) users with no interactions.\n",
      "SLIMElasticNetRecommender: URM Detected 328 ( 1.5%) items with no interactions.\n"
     ]
    },
    {
     "name": "stderr",
     "output_type": "stream",
     "text": [
      "100%|█████████▉| 22216/22222 [00:12<00:00, 1838.58it/s]\n"
     ]
    },
    {
     "name": "stdout",
     "output_type": "stream",
     "text": [
      "EvaluatorHoldout: Processed 10024 (100.0%) in 2.13 sec. Users per second: 4710\n",
      "SLIMElasticNetRecommender: URM Detected 426 ( 3.4%) users with no interactions.\n",
      "SLIMElasticNetRecommender: URM Detected 344 ( 1.5%) items with no interactions.\n"
     ]
    },
    {
     "name": "stderr",
     "output_type": "stream",
     "text": [
      "100%|█████████▉| 22216/22222 [00:12<00:00, 1749.37it/s]\n"
     ]
    },
    {
     "name": "stdout",
     "output_type": "stream",
     "text": [
      "EvaluatorHoldout: Processed 10030 (100.0%) in 2.10 sec. Users per second: 4778\n",
      "SLIMElasticNetRecommender: URM Detected 471 ( 3.7%) users with no interactions.\n",
      "SLIMElasticNetRecommender: URM Detected 362 ( 1.6%) items with no interactions.\n"
     ]
    },
    {
     "name": "stderr",
     "output_type": "stream",
     "text": [
      "100%|█████████▉| 22216/22222 [00:12<00:00, 1718.84it/s]\n"
     ]
    },
    {
     "name": "stdout",
     "output_type": "stream",
     "text": [
      "EvaluatorHoldout: Processed 10052 (100.0%) in 2.16 sec. Users per second: 4656\n",
      "SLIMElasticNetRecommender: URM Detected 478 ( 3.8%) users with no interactions.\n",
      "SLIMElasticNetRecommender: URM Detected 329 ( 1.5%) items with no interactions.\n"
     ]
    },
    {
     "name": "stderr",
     "output_type": "stream",
     "text": [
      "100%|█████████▉| 22216/22222 [00:12<00:00, 1748.72it/s]\n"
     ]
    },
    {
     "name": "stdout",
     "output_type": "stream",
     "text": [
      "EvaluatorHoldout: Processed 10045 (100.0%) in 2.12 sec. Users per second: 4738\n",
      "SLIMElasticNetRecommender: URM Detected 460 ( 3.6%) users with no interactions.\n",
      "SLIMElasticNetRecommender: URM Detected 348 ( 1.6%) items with no interactions.\n"
     ]
    },
    {
     "name": "stderr",
     "output_type": "stream",
     "text": [
      "100%|█████████▉| 22216/22222 [00:13<00:00, 1696.97it/s]\n"
     ]
    },
    {
     "name": "stdout",
     "output_type": "stream",
     "text": [
      "EvaluatorHoldout: Processed 10068 (100.0%) in 2.12 sec. Users per second: 4750\n"
     ]
    },
    {
     "name": "stderr",
     "output_type": "stream",
     "text": [
      "[I 2024-01-10 10:07:00,181] Trial 0 finished with value: 0.00027440845108390907 and parameters: {'alpha': 0.12548929639173412, 'l1_ratio': 0.17158752327554308, 'topK': 5851}. Best is trial 0 with value: 0.00027440845108390907.\n"
     ]
    },
    {
     "name": "stdout",
     "output_type": "stream",
     "text": [
      "SLIMElasticNetRecommender: URM Detected 508 ( 4.0%) users with no interactions.\n",
      "SLIMElasticNetRecommender: URM Detected 332 ( 1.5%) items with no interactions.\n"
     ]
    },
    {
     "name": "stderr",
     "output_type": "stream",
     "text": [
      "100%|█████████▉| 22216/22222 [00:38<00:00, 580.35it/s]\n"
     ]
    },
    {
     "name": "stdout",
     "output_type": "stream",
     "text": [
      "EvaluatorHoldout: Processed 10057 (100.0%) in 5.73 sec. Users per second: 1755\n",
      "SLIMElasticNetRecommender: URM Detected 440 ( 3.5%) users with no interactions.\n",
      "SLIMElasticNetRecommender: URM Detected 325 ( 1.5%) items with no interactions.\n"
     ]
    },
    {
     "name": "stderr",
     "output_type": "stream",
     "text": [
      "100%|█████████▉| 22216/22222 [00:38<00:00, 580.51it/s]\n"
     ]
    },
    {
     "name": "stdout",
     "output_type": "stream",
     "text": [
      "EvaluatorHoldout: Processed 10040 (100.0%) in 5.52 sec. Users per second: 1820\n",
      "SLIMElasticNetRecommender: URM Detected 479 ( 3.8%) users with no interactions.\n",
      "SLIMElasticNetRecommender: URM Detected 345 ( 1.6%) items with no interactions.\n"
     ]
    },
    {
     "name": "stderr",
     "output_type": "stream",
     "text": [
      "100%|█████████▉| 22216/22222 [00:40<00:00, 549.30it/s]\n"
     ]
    },
    {
     "name": "stdout",
     "output_type": "stream",
     "text": [
      "EvaluatorHoldout: Processed 10017 (100.0%) in 5.88 sec. Users per second: 1703\n",
      "SLIMElasticNetRecommender: URM Detected 451 ( 3.6%) users with no interactions.\n",
      "SLIMElasticNetRecommender: URM Detected 311 ( 1.4%) items with no interactions.\n"
     ]
    },
    {
     "name": "stderr",
     "output_type": "stream",
     "text": [
      "100%|█████████▉| 22216/22222 [00:38<00:00, 579.82it/s]\n"
     ]
    },
    {
     "name": "stdout",
     "output_type": "stream",
     "text": [
      "EvaluatorHoldout: Processed 10037 (100.0%) in 5.80 sec. Users per second: 1731\n",
      "SLIMElasticNetRecommender: URM Detected 449 ( 3.6%) users with no interactions.\n",
      "SLIMElasticNetRecommender: URM Detected 320 ( 1.4%) items with no interactions.\n"
     ]
    },
    {
     "name": "stderr",
     "output_type": "stream",
     "text": [
      "100%|█████████▉| 22216/22222 [00:39<00:00, 564.61it/s]\n"
     ]
    },
    {
     "name": "stdout",
     "output_type": "stream",
     "text": [
      "EvaluatorHoldout: Processed 9989 (100.0%) in 5.96 sec. Users per second: 1677\n",
      "SLIMElasticNetRecommender: URM Detected 460 ( 3.6%) users with no interactions.\n",
      "SLIMElasticNetRecommender: URM Detected 328 ( 1.5%) items with no interactions.\n"
     ]
    },
    {
     "name": "stderr",
     "output_type": "stream",
     "text": [
      "100%|█████████▉| 22216/22222 [00:38<00:00, 575.64it/s]\n"
     ]
    },
    {
     "name": "stdout",
     "output_type": "stream",
     "text": [
      "EvaluatorHoldout: Processed 10024 (100.0%) in 5.99 sec. Users per second: 1673\n",
      "SLIMElasticNetRecommender: URM Detected 426 ( 3.4%) users with no interactions.\n",
      "SLIMElasticNetRecommender: URM Detected 344 ( 1.5%) items with no interactions.\n"
     ]
    },
    {
     "name": "stderr",
     "output_type": "stream",
     "text": [
      "100%|█████████▉| 22216/22222 [00:40<00:00, 547.49it/s]\n"
     ]
    },
    {
     "name": "stdout",
     "output_type": "stream",
     "text": [
      "EvaluatorHoldout: Processed 10030 (100.0%) in 5.76 sec. Users per second: 1740\n",
      "SLIMElasticNetRecommender: URM Detected 471 ( 3.7%) users with no interactions.\n",
      "SLIMElasticNetRecommender: URM Detected 362 ( 1.6%) items with no interactions.\n"
     ]
    },
    {
     "name": "stderr",
     "output_type": "stream",
     "text": [
      "100%|█████████▉| 22216/22222 [00:40<00:00, 553.93it/s]\n"
     ]
    },
    {
     "name": "stdout",
     "output_type": "stream",
     "text": [
      "EvaluatorHoldout: Processed 10052 (100.0%) in 6.05 sec. Users per second: 1662\n",
      "SLIMElasticNetRecommender: URM Detected 478 ( 3.8%) users with no interactions.\n",
      "SLIMElasticNetRecommender: URM Detected 329 ( 1.5%) items with no interactions.\n"
     ]
    },
    {
     "name": "stderr",
     "output_type": "stream",
     "text": [
      "100%|█████████▉| 22216/22222 [00:39<00:00, 558.19it/s]\n"
     ]
    },
    {
     "name": "stdout",
     "output_type": "stream",
     "text": [
      "EvaluatorHoldout: Processed 10045 (100.0%) in 5.74 sec. Users per second: 1750\n",
      "SLIMElasticNetRecommender: URM Detected 460 ( 3.6%) users with no interactions.\n",
      "SLIMElasticNetRecommender: URM Detected 348 ( 1.6%) items with no interactions.\n"
     ]
    },
    {
     "name": "stderr",
     "output_type": "stream",
     "text": [
      "100%|█████████▉| 22216/22222 [00:38<00:00, 575.21it/s]\n"
     ]
    },
    {
     "name": "stdout",
     "output_type": "stream",
     "text": [
      "EvaluatorHoldout: Processed 10068 (100.0%) in 5.83 sec. Users per second: 1726\n"
     ]
    },
    {
     "name": "stderr",
     "output_type": "stream",
     "text": [
      "[I 2024-01-10 10:14:45,227] Trial 1 finished with value: 0.1314753694077451 and parameters: {'alpha': 0.2179089545176513, 'l1_ratio': 0.0003537638644903071, 'topK': 8874}. Best is trial 1 with value: 0.1314753694077451.\n"
     ]
    },
    {
     "name": "stdout",
     "output_type": "stream",
     "text": [
      "SLIMElasticNetRecommender: URM Detected 508 ( 4.0%) users with no interactions.\n",
      "SLIMElasticNetRecommender: URM Detected 332 ( 1.5%) items with no interactions.\n"
     ]
    },
    {
     "name": "stderr",
     "output_type": "stream",
     "text": [
      "100%|█████████▉| 22216/22222 [00:13<00:00, 1690.07it/s]\n"
     ]
    },
    {
     "name": "stdout",
     "output_type": "stream",
     "text": [
      "EvaluatorHoldout: Processed 10057 (100.0%) in 2.35 sec. Users per second: 4287\n",
      "SLIMElasticNetRecommender: URM Detected 440 ( 3.5%) users with no interactions.\n",
      "SLIMElasticNetRecommender: URM Detected 325 ( 1.5%) items with no interactions.\n"
     ]
    },
    {
     "name": "stderr",
     "output_type": "stream",
     "text": [
      "100%|█████████▉| 22216/22222 [00:12<00:00, 1725.28it/s]\n"
     ]
    },
    {
     "name": "stdout",
     "output_type": "stream",
     "text": [
      "EvaluatorHoldout: Processed 10040 (100.0%) in 2.28 sec. Users per second: 4408\n",
      "SLIMElasticNetRecommender: URM Detected 479 ( 3.8%) users with no interactions.\n",
      "SLIMElasticNetRecommender: URM Detected 345 ( 1.6%) items with no interactions.\n"
     ]
    },
    {
     "name": "stderr",
     "output_type": "stream",
     "text": [
      "100%|█████████▉| 22216/22222 [00:13<00:00, 1634.37it/s]\n"
     ]
    },
    {
     "name": "stdout",
     "output_type": "stream",
     "text": [
      "EvaluatorHoldout: Processed 10017 (100.0%) in 2.22 sec. Users per second: 4517\n",
      "SLIMElasticNetRecommender: URM Detected 451 ( 3.6%) users with no interactions.\n",
      "SLIMElasticNetRecommender: URM Detected 311 ( 1.4%) items with no interactions.\n"
     ]
    },
    {
     "name": "stderr",
     "output_type": "stream",
     "text": [
      "100%|█████████▉| 22216/22222 [00:11<00:00, 1947.90it/s]\n"
     ]
    },
    {
     "name": "stdout",
     "output_type": "stream",
     "text": [
      "EvaluatorHoldout: Processed 10037 (100.0%) in 2.01 sec. Users per second: 4999\n",
      "SLIMElasticNetRecommender: URM Detected 449 ( 3.6%) users with no interactions.\n",
      "SLIMElasticNetRecommender: URM Detected 320 ( 1.4%) items with no interactions.\n"
     ]
    },
    {
     "name": "stderr",
     "output_type": "stream",
     "text": [
      "100%|█████████▉| 22216/22222 [00:12<00:00, 1745.40it/s]\n"
     ]
    },
    {
     "name": "stdout",
     "output_type": "stream",
     "text": [
      "EvaluatorHoldout: Processed 9989 (100.0%) in 2.20 sec. Users per second: 4536\n",
      "SLIMElasticNetRecommender: URM Detected 460 ( 3.6%) users with no interactions.\n",
      "SLIMElasticNetRecommender: URM Detected 328 ( 1.5%) items with no interactions.\n"
     ]
    },
    {
     "name": "stderr",
     "output_type": "stream",
     "text": [
      "100%|█████████▉| 22216/22222 [00:12<00:00, 1709.99it/s]\n"
     ]
    },
    {
     "name": "stdout",
     "output_type": "stream",
     "text": [
      "EvaluatorHoldout: Processed 10024 (100.0%) in 2.29 sec. Users per second: 4378\n",
      "SLIMElasticNetRecommender: URM Detected 426 ( 3.4%) users with no interactions.\n",
      "SLIMElasticNetRecommender: URM Detected 344 ( 1.5%) items with no interactions.\n"
     ]
    },
    {
     "name": "stderr",
     "output_type": "stream",
     "text": [
      "100%|█████████▉| 22216/22222 [00:13<00:00, 1655.36it/s]\n"
     ]
    },
    {
     "name": "stdout",
     "output_type": "stream",
     "text": [
      "EvaluatorHoldout: Processed 10030 (100.0%) in 2.43 sec. Users per second: 4126\n",
      "SLIMElasticNetRecommender: URM Detected 471 ( 3.7%) users with no interactions.\n",
      "SLIMElasticNetRecommender: URM Detected 362 ( 1.6%) items with no interactions.\n"
     ]
    },
    {
     "name": "stderr",
     "output_type": "stream",
     "text": [
      "100%|█████████▉| 22216/22222 [00:13<00:00, 1622.58it/s]\n"
     ]
    },
    {
     "name": "stdout",
     "output_type": "stream",
     "text": [
      "EvaluatorHoldout: Processed 10052 (100.0%) in 2.23 sec. Users per second: 4517\n",
      "SLIMElasticNetRecommender: URM Detected 478 ( 3.8%) users with no interactions.\n",
      "SLIMElasticNetRecommender: URM Detected 329 ( 1.5%) items with no interactions.\n"
     ]
    },
    {
     "name": "stderr",
     "output_type": "stream",
     "text": [
      "100%|█████████▉| 22216/22222 [00:12<00:00, 1710.89it/s]\n"
     ]
    },
    {
     "name": "stdout",
     "output_type": "stream",
     "text": [
      "EvaluatorHoldout: Processed 10045 (100.0%) in 2.17 sec. Users per second: 4631\n",
      "SLIMElasticNetRecommender: URM Detected 460 ( 3.6%) users with no interactions.\n",
      "SLIMElasticNetRecommender: URM Detected 348 ( 1.6%) items with no interactions.\n"
     ]
    },
    {
     "name": "stderr",
     "output_type": "stream",
     "text": [
      "100%|█████████▉| 22216/22222 [00:12<00:00, 1827.32it/s]\n"
     ]
    },
    {
     "name": "stdout",
     "output_type": "stream",
     "text": [
      "EvaluatorHoldout: Processed 10068 (100.0%) in 2.36 sec. Users per second: 4268\n"
     ]
    },
    {
     "name": "stderr",
     "output_type": "stream",
     "text": [
      "[I 2024-01-10 10:17:29,713] Trial 2 finished with value: 0.00027440845108390907 and parameters: {'alpha': 0.8677573971185265, 'l1_ratio': 0.039811393598403945, 'topK': 467}. Best is trial 1 with value: 0.1314753694077451.\n"
     ]
    },
    {
     "name": "stdout",
     "output_type": "stream",
     "text": [
      "SLIMElasticNetRecommender: URM Detected 508 ( 4.0%) users with no interactions.\n",
      "SLIMElasticNetRecommender: URM Detected 332 ( 1.5%) items with no interactions.\n"
     ]
    },
    {
     "name": "stderr",
     "output_type": "stream",
     "text": [
      "100%|█████████▉| 22216/22222 [00:12<00:00, 1800.67it/s]\n"
     ]
    },
    {
     "name": "stdout",
     "output_type": "stream",
     "text": [
      "EvaluatorHoldout: Processed 10057 (100.0%) in 2.22 sec. Users per second: 4539\n",
      "SLIMElasticNetRecommender: URM Detected 440 ( 3.5%) users with no interactions.\n",
      "SLIMElasticNetRecommender: URM Detected 325 ( 1.5%) items with no interactions.\n"
     ]
    },
    {
     "name": "stderr",
     "output_type": "stream",
     "text": [
      "100%|█████████▉| 22216/22222 [00:12<00:00, 1759.73it/s]\n"
     ]
    },
    {
     "name": "stdout",
     "output_type": "stream",
     "text": [
      "EvaluatorHoldout: Processed 10040 (100.0%) in 2.19 sec. Users per second: 4585\n",
      "SLIMElasticNetRecommender: URM Detected 479 ( 3.8%) users with no interactions.\n",
      "SLIMElasticNetRecommender: URM Detected 345 ( 1.6%) items with no interactions.\n"
     ]
    },
    {
     "name": "stderr",
     "output_type": "stream",
     "text": [
      "100%|█████████▉| 22216/22222 [00:13<00:00, 1696.41it/s]\n"
     ]
    },
    {
     "name": "stdout",
     "output_type": "stream",
     "text": [
      "EvaluatorHoldout: Processed 10017 (100.0%) in 2.28 sec. Users per second: 4386\n",
      "SLIMElasticNetRecommender: URM Detected 451 ( 3.6%) users with no interactions.\n",
      "SLIMElasticNetRecommender: URM Detected 311 ( 1.4%) items with no interactions.\n"
     ]
    },
    {
     "name": "stderr",
     "output_type": "stream",
     "text": [
      "100%|█████████▉| 22216/22222 [00:12<00:00, 1801.57it/s]\n"
     ]
    },
    {
     "name": "stdout",
     "output_type": "stream",
     "text": [
      "EvaluatorHoldout: Processed 10037 (100.0%) in 2.13 sec. Users per second: 4706\n",
      "SLIMElasticNetRecommender: URM Detected 449 ( 3.6%) users with no interactions.\n",
      "SLIMElasticNetRecommender: URM Detected 320 ( 1.4%) items with no interactions.\n"
     ]
    },
    {
     "name": "stderr",
     "output_type": "stream",
     "text": [
      "100%|█████████▉| 22216/22222 [00:11<00:00, 1867.43it/s]\n"
     ]
    },
    {
     "name": "stdout",
     "output_type": "stream",
     "text": [
      "EvaluatorHoldout: Processed 9989 (100.0%) in 2.31 sec. Users per second: 4324\n",
      "SLIMElasticNetRecommender: URM Detected 460 ( 3.6%) users with no interactions.\n",
      "SLIMElasticNetRecommender: URM Detected 328 ( 1.5%) items with no interactions.\n"
     ]
    },
    {
     "name": "stderr",
     "output_type": "stream",
     "text": [
      "100%|█████████▉| 22216/22222 [00:12<00:00, 1719.48it/s]\n"
     ]
    },
    {
     "name": "stdout",
     "output_type": "stream",
     "text": [
      "EvaluatorHoldout: Processed 10024 (100.0%) in 2.24 sec. Users per second: 4467\n",
      "SLIMElasticNetRecommender: URM Detected 426 ( 3.4%) users with no interactions.\n",
      "SLIMElasticNetRecommender: URM Detected 344 ( 1.5%) items with no interactions.\n"
     ]
    },
    {
     "name": "stderr",
     "output_type": "stream",
     "text": [
      "100%|█████████▉| 22216/22222 [00:13<00:00, 1692.53it/s]\n"
     ]
    },
    {
     "name": "stdout",
     "output_type": "stream",
     "text": [
      "EvaluatorHoldout: Processed 10030 (100.0%) in 2.31 sec. Users per second: 4336\n",
      "SLIMElasticNetRecommender: URM Detected 471 ( 3.7%) users with no interactions.\n",
      "SLIMElasticNetRecommender: URM Detected 362 ( 1.6%) items with no interactions.\n"
     ]
    },
    {
     "name": "stderr",
     "output_type": "stream",
     "text": [
      "100%|█████████▉| 22216/22222 [00:13<00:00, 1671.66it/s]\n"
     ]
    },
    {
     "name": "stdout",
     "output_type": "stream",
     "text": [
      "EvaluatorHoldout: Processed 10052 (100.0%) in 2.37 sec. Users per second: 4235\n",
      "SLIMElasticNetRecommender: URM Detected 478 ( 3.8%) users with no interactions.\n",
      "SLIMElasticNetRecommender: URM Detected 329 ( 1.5%) items with no interactions.\n"
     ]
    },
    {
     "name": "stderr",
     "output_type": "stream",
     "text": [
      "100%|█████████▉| 22216/22222 [00:12<00:00, 1740.24it/s]\n"
     ]
    },
    {
     "name": "stdout",
     "output_type": "stream",
     "text": [
      "EvaluatorHoldout: Processed 10045 (100.0%) in 2.25 sec. Users per second: 4455\n",
      "SLIMElasticNetRecommender: URM Detected 460 ( 3.6%) users with no interactions.\n",
      "SLIMElasticNetRecommender: URM Detected 348 ( 1.6%) items with no interactions.\n"
     ]
    },
    {
     "name": "stderr",
     "output_type": "stream",
     "text": [
      "100%|█████████▉| 22216/22222 [00:12<00:00, 1725.75it/s]\n"
     ]
    },
    {
     "name": "stdout",
     "output_type": "stream",
     "text": [
      "EvaluatorHoldout: Processed 10068 (100.0%) in 2.10 sec. Users per second: 4799\n"
     ]
    },
    {
     "name": "stderr",
     "output_type": "stream",
     "text": [
      "[I 2024-01-10 10:20:12,393] Trial 3 finished with value: 0.03300229992248917 and parameters: {'alpha': 0.23406481345348826, 'l1_ratio': 0.038201470139453, 'topK': 5253}. Best is trial 1 with value: 0.1314753694077451.\n"
     ]
    },
    {
     "name": "stdout",
     "output_type": "stream",
     "text": [
      "SLIMElasticNetRecommender: URM Detected 508 ( 4.0%) users with no interactions.\n",
      "SLIMElasticNetRecommender: URM Detected 332 ( 1.5%) items with no interactions.\n"
     ]
    },
    {
     "name": "stderr",
     "output_type": "stream",
     "text": [
      "100%|█████████▉| 22216/22222 [00:47<00:00, 469.04it/s]\n"
     ]
    },
    {
     "name": "stdout",
     "output_type": "stream",
     "text": [
      "EvaluatorHoldout: Processed 10057 (100.0%) in 6.28 sec. Users per second: 1600\n",
      "SLIMElasticNetRecommender: URM Detected 440 ( 3.5%) users with no interactions.\n",
      "SLIMElasticNetRecommender: URM Detected 325 ( 1.5%) items with no interactions.\n"
     ]
    },
    {
     "name": "stderr",
     "output_type": "stream",
     "text": [
      "100%|█████████▉| 22216/22222 [00:43<00:00, 504.95it/s]\n"
     ]
    },
    {
     "name": "stdout",
     "output_type": "stream",
     "text": [
      "EvaluatorHoldout: Processed 10040 (100.0%) in 6.07 sec. Users per second: 1653\n",
      "SLIMElasticNetRecommender: URM Detected 479 ( 3.8%) users with no interactions.\n",
      "SLIMElasticNetRecommender: URM Detected 345 ( 1.6%) items with no interactions.\n"
     ]
    },
    {
     "name": "stderr",
     "output_type": "stream",
     "text": [
      "100%|█████████▉| 22216/22222 [00:46<00:00, 481.08it/s]\n"
     ]
    },
    {
     "name": "stdout",
     "output_type": "stream",
     "text": [
      "EvaluatorHoldout: Processed 10017 (100.0%) in 6.48 sec. Users per second: 1545\n",
      "SLIMElasticNetRecommender: URM Detected 451 ( 3.6%) users with no interactions.\n",
      "SLIMElasticNetRecommender: URM Detected 311 ( 1.4%) items with no interactions.\n"
     ]
    },
    {
     "name": "stderr",
     "output_type": "stream",
     "text": [
      "100%|█████████▉| 22216/22222 [00:43<00:00, 506.72it/s]\n"
     ]
    },
    {
     "name": "stdout",
     "output_type": "stream",
     "text": [
      "EvaluatorHoldout: Processed 10037 (100.0%) in 6.14 sec. Users per second: 1634\n",
      "SLIMElasticNetRecommender: URM Detected 449 ( 3.6%) users with no interactions.\n",
      "SLIMElasticNetRecommender: URM Detected 320 ( 1.4%) items with no interactions.\n"
     ]
    },
    {
     "name": "stderr",
     "output_type": "stream",
     "text": [
      "100%|█████████▉| 22216/22222 [00:46<00:00, 475.66it/s]\n"
     ]
    },
    {
     "name": "stdout",
     "output_type": "stream",
     "text": [
      "EvaluatorHoldout: Processed 9989 (100.0%) in 6.04 sec. Users per second: 1655\n",
      "SLIMElasticNetRecommender: URM Detected 460 ( 3.6%) users with no interactions.\n",
      "SLIMElasticNetRecommender: URM Detected 328 ( 1.5%) items with no interactions.\n"
     ]
    },
    {
     "name": "stderr",
     "output_type": "stream",
     "text": [
      "100%|█████████▉| 22216/22222 [00:45<00:00, 487.89it/s]\n"
     ]
    },
    {
     "name": "stdout",
     "output_type": "stream",
     "text": [
      "EvaluatorHoldout: Processed 10024 (100.0%) in 6.19 sec. Users per second: 1620\n",
      "SLIMElasticNetRecommender: URM Detected 426 ( 3.4%) users with no interactions.\n",
      "SLIMElasticNetRecommender: URM Detected 344 ( 1.5%) items with no interactions.\n"
     ]
    },
    {
     "name": "stderr",
     "output_type": "stream",
     "text": [
      "100%|█████████▉| 22216/22222 [00:43<00:00, 505.38it/s]\n"
     ]
    },
    {
     "name": "stdout",
     "output_type": "stream",
     "text": [
      "EvaluatorHoldout: Processed 10030 (100.0%) in 6.00 sec. Users per second: 1671\n",
      "SLIMElasticNetRecommender: URM Detected 471 ( 3.7%) users with no interactions.\n",
      "SLIMElasticNetRecommender: URM Detected 362 ( 1.6%) items with no interactions.\n"
     ]
    },
    {
     "name": "stderr",
     "output_type": "stream",
     "text": [
      "100%|█████████▉| 22216/22222 [00:45<00:00, 483.86it/s]\n"
     ]
    },
    {
     "name": "stdout",
     "output_type": "stream",
     "text": [
      "EvaluatorHoldout: Processed 10052 (100.0%) in 6.26 sec. Users per second: 1606\n",
      "SLIMElasticNetRecommender: URM Detected 478 ( 3.8%) users with no interactions.\n",
      "SLIMElasticNetRecommender: URM Detected 329 ( 1.5%) items with no interactions.\n"
     ]
    },
    {
     "name": "stderr",
     "output_type": "stream",
     "text": [
      "100%|█████████▉| 22216/22222 [00:43<00:00, 506.76it/s]\n"
     ]
    },
    {
     "name": "stdout",
     "output_type": "stream",
     "text": [
      "EvaluatorHoldout: Processed 10045 (100.0%) in 6.07 sec. Users per second: 1656\n",
      "SLIMElasticNetRecommender: URM Detected 460 ( 3.6%) users with no interactions.\n",
      "SLIMElasticNetRecommender: URM Detected 348 ( 1.6%) items with no interactions.\n"
     ]
    },
    {
     "name": "stderr",
     "output_type": "stream",
     "text": [
      "100%|█████████▉| 22216/22222 [00:44<00:00, 494.29it/s]\n"
     ]
    },
    {
     "name": "stdout",
     "output_type": "stream",
     "text": [
      "EvaluatorHoldout: Processed 10068 (100.0%) in 6.02 sec. Users per second: 1672\n"
     ]
    },
    {
     "name": "stderr",
     "output_type": "stream",
     "text": [
      "[I 2024-01-10 10:29:01,309] Trial 4 finished with value: 0.1470745713854287 and parameters: {'alpha': 0.06264935614090525, 'l1_ratio': 0.0010002618011851988, 'topK': 1986}. Best is trial 4 with value: 0.1470745713854287.\n"
     ]
    },
    {
     "name": "stdout",
     "output_type": "stream",
     "text": [
      "SLIMElasticNetRecommender: URM Detected 508 ( 4.0%) users with no interactions.\n",
      "SLIMElasticNetRecommender: URM Detected 332 ( 1.5%) items with no interactions.\n"
     ]
    },
    {
     "name": "stderr",
     "output_type": "stream",
     "text": [
      "100%|█████████▉| 22216/22222 [00:13<00:00, 1706.85it/s]\n"
     ]
    },
    {
     "name": "stdout",
     "output_type": "stream",
     "text": [
      "EvaluatorHoldout: Processed 10057 (100.0%) in 2.26 sec. Users per second: 4450\n",
      "SLIMElasticNetRecommender: URM Detected 440 ( 3.5%) users with no interactions.\n",
      "SLIMElasticNetRecommender: URM Detected 325 ( 1.5%) items with no interactions.\n"
     ]
    },
    {
     "name": "stderr",
     "output_type": "stream",
     "text": [
      "100%|█████████▉| 22216/22222 [00:12<00:00, 1780.08it/s]\n"
     ]
    },
    {
     "name": "stdout",
     "output_type": "stream",
     "text": [
      "EvaluatorHoldout: Processed 10040 (100.0%) in 2.28 sec. Users per second: 4400\n",
      "SLIMElasticNetRecommender: URM Detected 479 ( 3.8%) users with no interactions.\n",
      "SLIMElasticNetRecommender: URM Detected 345 ( 1.6%) items with no interactions.\n"
     ]
    },
    {
     "name": "stderr",
     "output_type": "stream",
     "text": [
      "100%|█████████▉| 22216/22222 [00:13<00:00, 1682.38it/s]\n"
     ]
    },
    {
     "name": "stdout",
     "output_type": "stream",
     "text": [
      "EvaluatorHoldout: Processed 10017 (100.0%) in 2.32 sec. Users per second: 4321\n",
      "SLIMElasticNetRecommender: URM Detected 451 ( 3.6%) users with no interactions.\n",
      "SLIMElasticNetRecommender: URM Detected 311 ( 1.4%) items with no interactions.\n"
     ]
    },
    {
     "name": "stderr",
     "output_type": "stream",
     "text": [
      "100%|█████████▉| 22216/22222 [00:12<00:00, 1842.37it/s]\n"
     ]
    },
    {
     "name": "stdout",
     "output_type": "stream",
     "text": [
      "EvaluatorHoldout: Processed 10037 (100.0%) in 2.10 sec. Users per second: 4770\n",
      "SLIMElasticNetRecommender: URM Detected 449 ( 3.6%) users with no interactions.\n",
      "SLIMElasticNetRecommender: URM Detected 320 ( 1.4%) items with no interactions.\n"
     ]
    },
    {
     "name": "stderr",
     "output_type": "stream",
     "text": [
      "100%|█████████▉| 22216/22222 [00:11<00:00, 1928.51it/s]\n"
     ]
    },
    {
     "name": "stdout",
     "output_type": "stream",
     "text": [
      "EvaluatorHoldout: Processed 9989 (100.0%) in 2.24 sec. Users per second: 4456\n",
      "SLIMElasticNetRecommender: URM Detected 460 ( 3.6%) users with no interactions.\n",
      "SLIMElasticNetRecommender: URM Detected 328 ( 1.5%) items with no interactions.\n"
     ]
    },
    {
     "name": "stderr",
     "output_type": "stream",
     "text": [
      "100%|█████████▉| 22216/22222 [00:12<00:00, 1776.45it/s]\n"
     ]
    },
    {
     "name": "stdout",
     "output_type": "stream",
     "text": [
      "EvaluatorHoldout: Processed 10024 (100.0%) in 2.33 sec. Users per second: 4294\n",
      "SLIMElasticNetRecommender: URM Detected 426 ( 3.4%) users with no interactions.\n",
      "SLIMElasticNetRecommender: URM Detected 344 ( 1.5%) items with no interactions.\n"
     ]
    },
    {
     "name": "stderr",
     "output_type": "stream",
     "text": [
      "100%|█████████▉| 22216/22222 [00:12<00:00, 1725.09it/s]\n"
     ]
    },
    {
     "name": "stdout",
     "output_type": "stream",
     "text": [
      "EvaluatorHoldout: Processed 10030 (100.0%) in 2.25 sec. Users per second: 4461\n",
      "SLIMElasticNetRecommender: URM Detected 471 ( 3.7%) users with no interactions.\n",
      "SLIMElasticNetRecommender: URM Detected 362 ( 1.6%) items with no interactions.\n"
     ]
    },
    {
     "name": "stderr",
     "output_type": "stream",
     "text": [
      "100%|█████████▉| 22216/22222 [00:13<00:00, 1702.81it/s]\n"
     ]
    },
    {
     "name": "stdout",
     "output_type": "stream",
     "text": [
      "EvaluatorHoldout: Processed 10052 (100.0%) in 2.39 sec. Users per second: 4206\n",
      "SLIMElasticNetRecommender: URM Detected 478 ( 3.8%) users with no interactions.\n",
      "SLIMElasticNetRecommender: URM Detected 329 ( 1.5%) items with no interactions.\n"
     ]
    },
    {
     "name": "stderr",
     "output_type": "stream",
     "text": [
      "100%|█████████▉| 22216/22222 [00:12<00:00, 1741.63it/s]\n"
     ]
    },
    {
     "name": "stdout",
     "output_type": "stream",
     "text": [
      "EvaluatorHoldout: Processed 10045 (100.0%) in 2.37 sec. Users per second: 4241\n",
      "SLIMElasticNetRecommender: URM Detected 460 ( 3.6%) users with no interactions.\n",
      "SLIMElasticNetRecommender: URM Detected 348 ( 1.6%) items with no interactions.\n"
     ]
    },
    {
     "name": "stderr",
     "output_type": "stream",
     "text": [
      "100%|█████████▉| 22216/22222 [00:13<00:00, 1701.84it/s]\n"
     ]
    },
    {
     "name": "stdout",
     "output_type": "stream",
     "text": [
      "EvaluatorHoldout: Processed 10068 (100.0%) in 2.12 sec. Users per second: 4749\n"
     ]
    },
    {
     "name": "stderr",
     "output_type": "stream",
     "text": [
      "[I 2024-01-10 10:31:43,474] Trial 8 finished with value: 0.07201301059523088 and parameters: {'alpha': 0.3875075141727421, 'l1_ratio': 0.012152249899800972, 'topK': 9339}. Best is trial 4 with value: 0.1470745713854287.\n"
     ]
    },
    {
     "name": "stdout",
     "output_type": "stream",
     "text": [
      "SLIMElasticNetRecommender: URM Detected 508 ( 4.0%) users with no interactions.\n",
      "SLIMElasticNetRecommender: URM Detected 332 ( 1.5%) items with no interactions.\n"
     ]
    },
    {
     "name": "stderr",
     "output_type": "stream",
     "text": [
      "100%|█████████▉| 22216/22222 [00:48<00:00, 457.17it/s]\n"
     ]
    },
    {
     "name": "stdout",
     "output_type": "stream",
     "text": [
      "EvaluatorHoldout: Processed 10057 (100.0%) in 6.87 sec. Users per second: 1463\n",
      "SLIMElasticNetRecommender: URM Detected 440 ( 3.5%) users with no interactions.\n",
      "SLIMElasticNetRecommender: URM Detected 325 ( 1.5%) items with no interactions.\n"
     ]
    },
    {
     "name": "stderr",
     "output_type": "stream",
     "text": [
      "100%|█████████▉| 22216/22222 [00:46<00:00, 473.16it/s]\n"
     ]
    },
    {
     "name": "stdout",
     "output_type": "stream",
     "text": [
      "EvaluatorHoldout: Processed 10040 (100.0%) in 6.92 sec. Users per second: 1450\n",
      "SLIMElasticNetRecommender: URM Detected 479 ( 3.8%) users with no interactions.\n",
      "SLIMElasticNetRecommender: URM Detected 345 ( 1.6%) items with no interactions.\n"
     ]
    },
    {
     "name": "stderr",
     "output_type": "stream",
     "text": [
      "100%|█████████▉| 22216/22222 [00:47<00:00, 465.45it/s]\n"
     ]
    },
    {
     "name": "stdout",
     "output_type": "stream",
     "text": [
      "EvaluatorHoldout: Processed 10017 (100.0%) in 6.59 sec. Users per second: 1520\n",
      "SLIMElasticNetRecommender: URM Detected 451 ( 3.6%) users with no interactions.\n",
      "SLIMElasticNetRecommender: URM Detected 311 ( 1.4%) items with no interactions.\n"
     ]
    },
    {
     "name": "stderr",
     "output_type": "stream",
     "text": [
      "100%|█████████▉| 22216/22222 [00:47<00:00, 470.82it/s]\n"
     ]
    },
    {
     "name": "stdout",
     "output_type": "stream",
     "text": [
      "EvaluatorHoldout: Processed 10037 (100.0%) in 6.98 sec. Users per second: 1437\n",
      "SLIMElasticNetRecommender: URM Detected 449 ( 3.6%) users with no interactions.\n",
      "SLIMElasticNetRecommender: URM Detected 320 ( 1.4%) items with no interactions.\n"
     ]
    },
    {
     "name": "stderr",
     "output_type": "stream",
     "text": [
      "100%|█████████▉| 22216/22222 [00:46<00:00, 472.83it/s]\n"
     ]
    },
    {
     "name": "stdout",
     "output_type": "stream",
     "text": [
      "EvaluatorHoldout: Processed 9989 (100.0%) in 7.06 sec. Users per second: 1414\n",
      "SLIMElasticNetRecommender: URM Detected 460 ( 3.6%) users with no interactions.\n",
      "SLIMElasticNetRecommender: URM Detected 328 ( 1.5%) items with no interactions.\n"
     ]
    },
    {
     "name": "stderr",
     "output_type": "stream",
     "text": [
      "100%|█████████▉| 22216/22222 [00:47<00:00, 469.12it/s]\n"
     ]
    },
    {
     "name": "stdout",
     "output_type": "stream",
     "text": [
      "EvaluatorHoldout: Processed 10024 (100.0%) in 6.81 sec. Users per second: 1473\n",
      "SLIMElasticNetRecommender: URM Detected 426 ( 3.4%) users with no interactions.\n",
      "SLIMElasticNetRecommender: URM Detected 344 ( 1.5%) items with no interactions.\n"
     ]
    },
    {
     "name": "stderr",
     "output_type": "stream",
     "text": [
      "100%|█████████▉| 22216/22222 [00:47<00:00, 465.27it/s]\n"
     ]
    },
    {
     "name": "stdout",
     "output_type": "stream",
     "text": [
      "EvaluatorHoldout: Processed 10030 (100.0%) in 6.97 sec. Users per second: 1440\n",
      "SLIMElasticNetRecommender: URM Detected 471 ( 3.7%) users with no interactions.\n",
      "SLIMElasticNetRecommender: URM Detected 362 ( 1.6%) items with no interactions.\n"
     ]
    },
    {
     "name": "stderr",
     "output_type": "stream",
     "text": [
      "100%|█████████▉| 22216/22222 [00:47<00:00, 470.35it/s]\n"
     ]
    },
    {
     "name": "stdout",
     "output_type": "stream",
     "text": [
      "EvaluatorHoldout: Processed 10052 (100.0%) in 6.88 sec. Users per second: 1462\n",
      "SLIMElasticNetRecommender: URM Detected 478 ( 3.8%) users with no interactions.\n",
      "SLIMElasticNetRecommender: URM Detected 329 ( 1.5%) items with no interactions.\n"
     ]
    },
    {
     "name": "stderr",
     "output_type": "stream",
     "text": [
      "100%|█████████▉| 22216/22222 [00:47<00:00, 464.65it/s]\n"
     ]
    },
    {
     "name": "stdout",
     "output_type": "stream",
     "text": [
      "EvaluatorHoldout: Processed 10045 (100.0%) in 6.78 sec. Users per second: 1482\n",
      "SLIMElasticNetRecommender: URM Detected 460 ( 3.6%) users with no interactions.\n",
      "SLIMElasticNetRecommender: URM Detected 348 ( 1.6%) items with no interactions.\n"
     ]
    },
    {
     "name": "stderr",
     "output_type": "stream",
     "text": [
      "100%|█████████▉| 22216/22222 [00:47<00:00, 471.09it/s]\n"
     ]
    },
    {
     "name": "stdout",
     "output_type": "stream",
     "text": [
      "EvaluatorHoldout: Processed 10068 (100.0%) in 6.94 sec. Users per second: 1452\n"
     ]
    },
    {
     "name": "stderr",
     "output_type": "stream",
     "text": [
      "[I 2024-01-10 10:41:03,380] Trial 9 finished with value: 0.11770092761426758 and parameters: {'alpha': 0.7502883917035655, 'l1_ratio': 3.6832698416723105e-05, 'topK': 9606}. Best is trial 4 with value: 0.1470745713854287.\n"
     ]
    },
    {
     "name": "stdout",
     "output_type": "stream",
     "text": [
      "SLIMElasticNetRecommender: URM Detected 508 ( 4.0%) users with no interactions.\n",
      "SLIMElasticNetRecommender: URM Detected 332 ( 1.5%) items with no interactions.\n"
     ]
    },
    {
     "name": "stderr",
     "output_type": "stream",
     "text": [
      "100%|█████████▉| 22216/22222 [00:12<00:00, 1783.40it/s]\n"
     ]
    },
    {
     "name": "stdout",
     "output_type": "stream",
     "text": [
      "EvaluatorHoldout: Processed 10057 (100.0%) in 2.14 sec. Users per second: 4697\n",
      "SLIMElasticNetRecommender: URM Detected 440 ( 3.5%) users with no interactions.\n",
      "SLIMElasticNetRecommender: URM Detected 325 ( 1.5%) items with no interactions.\n"
     ]
    },
    {
     "name": "stderr",
     "output_type": "stream",
     "text": [
      "100%|█████████▉| 22216/22222 [00:12<00:00, 1795.54it/s]\n"
     ]
    },
    {
     "name": "stdout",
     "output_type": "stream",
     "text": [
      "EvaluatorHoldout: Processed 10040 (100.0%) in 2.00 sec. Users per second: 5030\n",
      "SLIMElasticNetRecommender: URM Detected 479 ( 3.8%) users with no interactions.\n",
      "SLIMElasticNetRecommender: URM Detected 345 ( 1.6%) items with no interactions.\n"
     ]
    },
    {
     "name": "stderr",
     "output_type": "stream",
     "text": [
      "100%|█████████▉| 22216/22222 [00:12<00:00, 1794.94it/s]\n"
     ]
    },
    {
     "name": "stdout",
     "output_type": "stream",
     "text": [
      "EvaluatorHoldout: Processed 10017 (100.0%) in 2.14 sec. Users per second: 4684\n",
      "SLIMElasticNetRecommender: URM Detected 451 ( 3.6%) users with no interactions.\n",
      "SLIMElasticNetRecommender: URM Detected 311 ( 1.4%) items with no interactions.\n"
     ]
    },
    {
     "name": "stderr",
     "output_type": "stream",
     "text": [
      "100%|█████████▉| 22216/22222 [00:12<00:00, 1831.34it/s]\n"
     ]
    },
    {
     "name": "stdout",
     "output_type": "stream",
     "text": [
      "EvaluatorHoldout: Processed 10037 (100.0%) in 2.17 sec. Users per second: 4622\n",
      "SLIMElasticNetRecommender: URM Detected 449 ( 3.6%) users with no interactions.\n",
      "SLIMElasticNetRecommender: URM Detected 320 ( 1.4%) items with no interactions.\n"
     ]
    },
    {
     "name": "stderr",
     "output_type": "stream",
     "text": [
      "100%|█████████▉| 22216/22222 [00:12<00:00, 1787.83it/s]\n"
     ]
    },
    {
     "name": "stdout",
     "output_type": "stream",
     "text": [
      "EvaluatorHoldout: Processed 9989 (100.0%) in 2.14 sec. Users per second: 4665\n",
      "SLIMElasticNetRecommender: URM Detected 460 ( 3.6%) users with no interactions.\n",
      "SLIMElasticNetRecommender: URM Detected 328 ( 1.5%) items with no interactions.\n"
     ]
    },
    {
     "name": "stderr",
     "output_type": "stream",
     "text": [
      "100%|█████████▉| 22216/22222 [00:12<00:00, 1791.24it/s]\n"
     ]
    },
    {
     "name": "stdout",
     "output_type": "stream",
     "text": [
      "EvaluatorHoldout: Processed 10024 (100.0%) in 2.15 sec. Users per second: 4660\n",
      "SLIMElasticNetRecommender: URM Detected 426 ( 3.4%) users with no interactions.\n",
      "SLIMElasticNetRecommender: URM Detected 344 ( 1.5%) items with no interactions.\n"
     ]
    },
    {
     "name": "stderr",
     "output_type": "stream",
     "text": [
      "100%|█████████▉| 22216/22222 [00:12<00:00, 1775.00it/s]\n"
     ]
    },
    {
     "name": "stdout",
     "output_type": "stream",
     "text": [
      "EvaluatorHoldout: Processed 10030 (100.0%) in 2.11 sec. Users per second: 4754\n",
      "SLIMElasticNetRecommender: URM Detected 471 ( 3.7%) users with no interactions.\n",
      "SLIMElasticNetRecommender: URM Detected 362 ( 1.6%) items with no interactions.\n"
     ]
    },
    {
     "name": "stderr",
     "output_type": "stream",
     "text": [
      "100%|█████████▉| 22216/22222 [00:12<00:00, 1795.91it/s]\n"
     ]
    },
    {
     "name": "stdout",
     "output_type": "stream",
     "text": [
      "EvaluatorHoldout: Processed 10052 (100.0%) in 2.02 sec. Users per second: 4982\n",
      "SLIMElasticNetRecommender: URM Detected 478 ( 3.8%) users with no interactions.\n",
      "SLIMElasticNetRecommender: URM Detected 329 ( 1.5%) items with no interactions.\n"
     ]
    },
    {
     "name": "stderr",
     "output_type": "stream",
     "text": [
      "100%|█████████▉| 22216/22222 [00:12<00:00, 1835.65it/s]\n"
     ]
    },
    {
     "name": "stdout",
     "output_type": "stream",
     "text": [
      "EvaluatorHoldout: Processed 10045 (100.0%) in 2.25 sec. Users per second: 4464\n",
      "SLIMElasticNetRecommender: URM Detected 460 ( 3.6%) users with no interactions.\n",
      "SLIMElasticNetRecommender: URM Detected 348 ( 1.6%) items with no interactions.\n"
     ]
    },
    {
     "name": "stderr",
     "output_type": "stream",
     "text": [
      "100%|█████████▉| 22216/22222 [00:12<00:00, 1719.53it/s]\n"
     ]
    },
    {
     "name": "stdout",
     "output_type": "stream",
     "text": [
      "EvaluatorHoldout: Processed 10068 (100.0%) in 2.16 sec. Users per second: 4662\n"
     ]
    },
    {
     "name": "stderr",
     "output_type": "stream",
     "text": [
      "[I 2024-01-10 10:43:41,755] Trial 11 finished with value: 0.00027440845108390907 and parameters: {'alpha': 0.7876144764625125, 'l1_ratio': 0.7512484001595159, 'topK': 611}. Best is trial 4 with value: 0.1470745713854287.\n"
     ]
    },
    {
     "name": "stdout",
     "output_type": "stream",
     "text": [
      "SLIMElasticNetRecommender: URM Detected 508 ( 4.0%) users with no interactions.\n",
      "SLIMElasticNetRecommender: URM Detected 332 ( 1.5%) items with no interactions.\n"
     ]
    },
    {
     "name": "stderr",
     "output_type": "stream",
     "text": [
      "100%|█████████▉| 22216/22222 [00:47<00:00, 467.38it/s]\n"
     ]
    },
    {
     "name": "stdout",
     "output_type": "stream",
     "text": [
      "EvaluatorHoldout: Processed 10057 (100.0%) in 6.66 sec. Users per second: 1510\n",
      "SLIMElasticNetRecommender: URM Detected 440 ( 3.5%) users with no interactions.\n",
      "SLIMElasticNetRecommender: URM Detected 325 ( 1.5%) items with no interactions.\n"
     ]
    },
    {
     "name": "stderr",
     "output_type": "stream",
     "text": [
      "100%|█████████▉| 22216/22222 [00:48<00:00, 459.96it/s]\n"
     ]
    },
    {
     "name": "stdout",
     "output_type": "stream",
     "text": [
      "EvaluatorHoldout: Processed 10040 (100.0%) in 6.56 sec. Users per second: 1530\n",
      "SLIMElasticNetRecommender: URM Detected 479 ( 3.8%) users with no interactions.\n",
      "SLIMElasticNetRecommender: URM Detected 345 ( 1.6%) items with no interactions.\n"
     ]
    },
    {
     "name": "stderr",
     "output_type": "stream",
     "text": [
      "100%|█████████▉| 22216/22222 [00:47<00:00, 469.33it/s]\n"
     ]
    },
    {
     "name": "stdout",
     "output_type": "stream",
     "text": [
      "EvaluatorHoldout: Processed 10017 (100.0%) in 6.69 sec. Users per second: 1497\n",
      "SLIMElasticNetRecommender: URM Detected 451 ( 3.6%) users with no interactions.\n",
      "SLIMElasticNetRecommender: URM Detected 311 ( 1.4%) items with no interactions.\n"
     ]
    },
    {
     "name": "stderr",
     "output_type": "stream",
     "text": [
      "100%|█████████▉| 22216/22222 [00:47<00:00, 472.56it/s]\n"
     ]
    },
    {
     "name": "stdout",
     "output_type": "stream",
     "text": [
      "EvaluatorHoldout: Processed 10037 (100.0%) in 6.50 sec. Users per second: 1545\n",
      "SLIMElasticNetRecommender: URM Detected 449 ( 3.6%) users with no interactions.\n",
      "SLIMElasticNetRecommender: URM Detected 320 ( 1.4%) items with no interactions.\n"
     ]
    },
    {
     "name": "stderr",
     "output_type": "stream",
     "text": [
      "100%|█████████▉| 22216/22222 [00:48<00:00, 460.10it/s]\n"
     ]
    },
    {
     "name": "stdout",
     "output_type": "stream",
     "text": [
      "EvaluatorHoldout: Processed 9989 (100.0%) in 6.81 sec. Users per second: 1466\n",
      "SLIMElasticNetRecommender: URM Detected 460 ( 3.6%) users with no interactions.\n",
      "SLIMElasticNetRecommender: URM Detected 328 ( 1.5%) items with no interactions.\n"
     ]
    },
    {
     "name": "stderr",
     "output_type": "stream",
     "text": [
      "100%|█████████▉| 22216/22222 [00:46<00:00, 482.23it/s]\n"
     ]
    },
    {
     "name": "stdout",
     "output_type": "stream",
     "text": [
      "EvaluatorHoldout: Processed 10024 (100.0%) in 6.58 sec. Users per second: 1523\n",
      "SLIMElasticNetRecommender: URM Detected 426 ( 3.4%) users with no interactions.\n",
      "SLIMElasticNetRecommender: URM Detected 344 ( 1.5%) items with no interactions.\n"
     ]
    },
    {
     "name": "stderr",
     "output_type": "stream",
     "text": [
      "100%|█████████▉| 22216/22222 [00:48<00:00, 458.05it/s]\n"
     ]
    },
    {
     "name": "stdout",
     "output_type": "stream",
     "text": [
      "EvaluatorHoldout: Processed 10030 (100.0%) in 6.19 sec. Users per second: 1621\n",
      "SLIMElasticNetRecommender: URM Detected 471 ( 3.7%) users with no interactions.\n",
      "SLIMElasticNetRecommender: URM Detected 362 ( 1.6%) items with no interactions.\n"
     ]
    },
    {
     "name": "stderr",
     "output_type": "stream",
     "text": [
      "100%|█████████▉| 22216/22222 [00:47<00:00, 466.20it/s]\n"
     ]
    },
    {
     "name": "stdout",
     "output_type": "stream",
     "text": [
      "EvaluatorHoldout: Processed 10052 (100.0%) in 6.75 sec. Users per second: 1488\n",
      "SLIMElasticNetRecommender: URM Detected 478 ( 3.8%) users with no interactions.\n",
      "SLIMElasticNetRecommender: URM Detected 329 ( 1.5%) items with no interactions.\n"
     ]
    },
    {
     "name": "stderr",
     "output_type": "stream",
     "text": [
      "100%|█████████▉| 22216/22222 [00:46<00:00, 476.70it/s]\n"
     ]
    },
    {
     "name": "stdout",
     "output_type": "stream",
     "text": [
      "EvaluatorHoldout: Processed 10045 (100.0%) in 6.46 sec. Users per second: 1556\n",
      "SLIMElasticNetRecommender: URM Detected 460 ( 3.6%) users with no interactions.\n",
      "SLIMElasticNetRecommender: URM Detected 348 ( 1.6%) items with no interactions.\n"
     ]
    },
    {
     "name": "stderr",
     "output_type": "stream",
     "text": [
      "100%|█████████▉| 22216/22222 [00:48<00:00, 458.37it/s]\n"
     ]
    },
    {
     "name": "stdout",
     "output_type": "stream",
     "text": [
      "EvaluatorHoldout: Processed 10068 (100.0%) in 6.75 sec. Users per second: 1492\n"
     ]
    },
    {
     "name": "stderr",
     "output_type": "stream",
     "text": [
      "[I 2024-01-10 10:52:59,426] Trial 12 finished with value: 0.13752812473710496 and parameters: {'alpha': 0.1419908284638117, 'l1_ratio': 0.0003316252559733691, 'topK': 6632}. Best is trial 4 with value: 0.1470745713854287.\n"
     ]
    },
    {
     "name": "stdout",
     "output_type": "stream",
     "text": [
      "SLIMElasticNetRecommender: URM Detected 508 ( 4.0%) users with no interactions.\n",
      "SLIMElasticNetRecommender: URM Detected 332 ( 1.5%) items with no interactions.\n"
     ]
    },
    {
     "name": "stderr",
     "output_type": "stream",
     "text": [
      "100%|█████████▉| 22216/22222 [00:50<00:00, 439.58it/s]\n"
     ]
    },
    {
     "name": "stdout",
     "output_type": "stream",
     "text": [
      "EvaluatorHoldout: Processed 10057 (100.0%) in 5.14 sec. Users per second: 1958\n",
      "SLIMElasticNetRecommender: URM Detected 440 ( 3.5%) users with no interactions.\n",
      "SLIMElasticNetRecommender: URM Detected 325 ( 1.5%) items with no interactions.\n"
     ]
    },
    {
     "name": "stderr",
     "output_type": "stream",
     "text": [
      "100%|█████████▉| 22216/22222 [00:50<00:00, 442.51it/s]\n"
     ]
    },
    {
     "name": "stdout",
     "output_type": "stream",
     "text": [
      "EvaluatorHoldout: Processed 10040 (100.0%) in 5.01 sec. Users per second: 2002\n",
      "SLIMElasticNetRecommender: URM Detected 479 ( 3.8%) users with no interactions.\n",
      "SLIMElasticNetRecommender: URM Detected 345 ( 1.6%) items with no interactions.\n"
     ]
    },
    {
     "name": "stderr",
     "output_type": "stream",
     "text": [
      "100%|█████████▉| 22216/22222 [00:52<00:00, 420.65it/s]\n"
     ]
    },
    {
     "name": "stdout",
     "output_type": "stream",
     "text": [
      "EvaluatorHoldout: Processed 10017 (100.0%) in 4.73 sec. Users per second: 2120\n",
      "SLIMElasticNetRecommender: URM Detected 451 ( 3.6%) users with no interactions.\n",
      "SLIMElasticNetRecommender: URM Detected 311 ( 1.4%) items with no interactions.\n"
     ]
    },
    {
     "name": "stderr",
     "output_type": "stream",
     "text": [
      "100%|█████████▉| 22216/22222 [00:49<00:00, 445.42it/s]\n"
     ]
    },
    {
     "name": "stdout",
     "output_type": "stream",
     "text": [
      "EvaluatorHoldout: Processed 10037 (100.0%) in 5.08 sec. Users per second: 1975\n",
      "SLIMElasticNetRecommender: URM Detected 449 ( 3.6%) users with no interactions.\n",
      "SLIMElasticNetRecommender: URM Detected 320 ( 1.4%) items with no interactions.\n"
     ]
    },
    {
     "name": "stderr",
     "output_type": "stream",
     "text": [
      "100%|█████████▉| 22216/22222 [00:49<00:00, 446.12it/s]\n"
     ]
    },
    {
     "name": "stdout",
     "output_type": "stream",
     "text": [
      "EvaluatorHoldout: Processed 9989 (100.0%) in 5.01 sec. Users per second: 1995\n",
      "SLIMElasticNetRecommender: URM Detected 460 ( 3.6%) users with no interactions.\n",
      "SLIMElasticNetRecommender: URM Detected 328 ( 1.5%) items with no interactions.\n"
     ]
    },
    {
     "name": "stderr",
     "output_type": "stream",
     "text": [
      "100%|█████████▉| 22216/22222 [00:51<00:00, 431.57it/s]\n"
     ]
    },
    {
     "name": "stdout",
     "output_type": "stream",
     "text": [
      "EvaluatorHoldout: Processed 10024 (100.0%) in 4.81 sec. Users per second: 2083\n",
      "SLIMElasticNetRecommender: URM Detected 426 ( 3.4%) users with no interactions.\n",
      "SLIMElasticNetRecommender: URM Detected 344 ( 1.5%) items with no interactions.\n"
     ]
    },
    {
     "name": "stderr",
     "output_type": "stream",
     "text": [
      "100%|█████████▉| 22216/22222 [00:49<00:00, 447.40it/s]\n"
     ]
    },
    {
     "name": "stdout",
     "output_type": "stream",
     "text": [
      "EvaluatorHoldout: Processed 10030 (100.0%) in 4.88 sec. Users per second: 2054\n",
      "SLIMElasticNetRecommender: URM Detected 471 ( 3.7%) users with no interactions.\n",
      "SLIMElasticNetRecommender: URM Detected 362 ( 1.6%) items with no interactions.\n"
     ]
    },
    {
     "name": "stderr",
     "output_type": "stream",
     "text": [
      "100%|█████████▉| 22216/22222 [00:51<00:00, 432.50it/s]\n"
     ]
    },
    {
     "name": "stdout",
     "output_type": "stream",
     "text": [
      "EvaluatorHoldout: Processed 10052 (100.0%) in 4.94 sec. Users per second: 2036\n",
      "SLIMElasticNetRecommender: URM Detected 478 ( 3.8%) users with no interactions.\n",
      "SLIMElasticNetRecommender: URM Detected 329 ( 1.5%) items with no interactions.\n"
     ]
    },
    {
     "name": "stderr",
     "output_type": "stream",
     "text": [
      "100%|█████████▉| 22216/22222 [00:50<00:00, 437.33it/s]\n"
     ]
    },
    {
     "name": "stdout",
     "output_type": "stream",
     "text": [
      "EvaluatorHoldout: Processed 10045 (100.0%) in 4.93 sec. Users per second: 2037\n",
      "SLIMElasticNetRecommender: URM Detected 460 ( 3.6%) users with no interactions.\n",
      "SLIMElasticNetRecommender: URM Detected 348 ( 1.6%) items with no interactions.\n"
     ]
    },
    {
     "name": "stderr",
     "output_type": "stream",
     "text": [
      "100%|█████████▉| 22216/22222 [00:50<00:00, 440.73it/s]\n"
     ]
    },
    {
     "name": "stdout",
     "output_type": "stream",
     "text": [
      "EvaluatorHoldout: Processed 10068 (100.0%) in 5.07 sec. Users per second: 1987\n"
     ]
    },
    {
     "name": "stderr",
     "output_type": "stream",
     "text": [
      "[I 2024-01-10 11:02:31,058] Trial 13 finished with value: 0.16092181855030718 and parameters: {'alpha': 0.0035434650819969327, 'l1_ratio': 0.0014296118090816688, 'topK': 2883}. Best is trial 13 with value: 0.16092181855030718.\n"
     ]
    },
    {
     "name": "stdout",
     "output_type": "stream",
     "text": [
      "SLIMElasticNetRecommender: URM Detected 508 ( 4.0%) users with no interactions.\n",
      "SLIMElasticNetRecommender: URM Detected 332 ( 1.5%) items with no interactions.\n"
     ]
    },
    {
     "name": "stderr",
     "output_type": "stream",
     "text": [
      "100%|█████████▉| 22216/22222 [00:42<00:00, 520.36it/s]\n"
     ]
    },
    {
     "name": "stdout",
     "output_type": "stream",
     "text": [
      "EvaluatorHoldout: Processed 10057 (100.0%) in 5.90 sec. Users per second: 1704\n",
      "SLIMElasticNetRecommender: URM Detected 440 ( 3.5%) users with no interactions.\n",
      "SLIMElasticNetRecommender: URM Detected 325 ( 1.5%) items with no interactions.\n"
     ]
    },
    {
     "name": "stderr",
     "output_type": "stream",
     "text": [
      "100%|█████████▉| 22216/22222 [00:43<00:00, 509.33it/s]\n"
     ]
    },
    {
     "name": "stdout",
     "output_type": "stream",
     "text": [
      "EvaluatorHoldout: Processed 10040 (100.0%) in 5.60 sec. Users per second: 1791\n",
      "SLIMElasticNetRecommender: URM Detected 479 ( 3.8%) users with no interactions.\n",
      "SLIMElasticNetRecommender: URM Detected 345 ( 1.6%) items with no interactions.\n"
     ]
    },
    {
     "name": "stderr",
     "output_type": "stream",
     "text": [
      "100%|█████████▉| 22216/22222 [00:43<00:00, 514.63it/s]\n"
     ]
    },
    {
     "name": "stdout",
     "output_type": "stream",
     "text": [
      "EvaluatorHoldout: Processed 10017 (100.0%) in 5.72 sec. Users per second: 1752\n",
      "SLIMElasticNetRecommender: URM Detected 451 ( 3.6%) users with no interactions.\n",
      "SLIMElasticNetRecommender: URM Detected 311 ( 1.4%) items with no interactions.\n"
     ]
    },
    {
     "name": "stderr",
     "output_type": "stream",
     "text": [
      "100%|█████████▉| 22216/22222 [00:43<00:00, 510.23it/s]\n"
     ]
    },
    {
     "name": "stdout",
     "output_type": "stream",
     "text": [
      "EvaluatorHoldout: Processed 10037 (100.0%) in 5.68 sec. Users per second: 1767\n",
      "SLIMElasticNetRecommender: URM Detected 449 ( 3.6%) users with no interactions.\n",
      "SLIMElasticNetRecommender: URM Detected 320 ( 1.4%) items with no interactions.\n"
     ]
    },
    {
     "name": "stderr",
     "output_type": "stream",
     "text": [
      "100%|█████████▉| 22216/22222 [00:42<00:00, 517.66it/s]\n"
     ]
    },
    {
     "name": "stdout",
     "output_type": "stream",
     "text": [
      "EvaluatorHoldout: Processed 9989 (100.0%) in 5.88 sec. Users per second: 1700\n",
      "SLIMElasticNetRecommender: URM Detected 460 ( 3.6%) users with no interactions.\n",
      "SLIMElasticNetRecommender: URM Detected 328 ( 1.5%) items with no interactions.\n"
     ]
    },
    {
     "name": "stderr",
     "output_type": "stream",
     "text": [
      "100%|█████████▉| 22216/22222 [00:43<00:00, 513.43it/s]\n"
     ]
    },
    {
     "name": "stdout",
     "output_type": "stream",
     "text": [
      "EvaluatorHoldout: Processed 10024 (100.0%) in 5.30 sec. Users per second: 1893\n",
      "SLIMElasticNetRecommender: URM Detected 426 ( 3.4%) users with no interactions.\n",
      "SLIMElasticNetRecommender: URM Detected 344 ( 1.5%) items with no interactions.\n"
     ]
    },
    {
     "name": "stderr",
     "output_type": "stream",
     "text": [
      "100%|█████████▉| 22216/22222 [00:44<00:00, 503.32it/s]\n"
     ]
    },
    {
     "name": "stdout",
     "output_type": "stream",
     "text": [
      "EvaluatorHoldout: Processed 10030 (100.0%) in 5.62 sec. Users per second: 1783\n",
      "SLIMElasticNetRecommender: URM Detected 471 ( 3.7%) users with no interactions.\n",
      "SLIMElasticNetRecommender: URM Detected 362 ( 1.6%) items with no interactions.\n"
     ]
    },
    {
     "name": "stderr",
     "output_type": "stream",
     "text": [
      "100%|█████████▉| 22216/22222 [00:42<00:00, 517.61it/s]\n"
     ]
    },
    {
     "name": "stdout",
     "output_type": "stream",
     "text": [
      "EvaluatorHoldout: Processed 10052 (100.0%) in 5.74 sec. Users per second: 1752\n",
      "SLIMElasticNetRecommender: URM Detected 478 ( 3.8%) users with no interactions.\n",
      "SLIMElasticNetRecommender: URM Detected 329 ( 1.5%) items with no interactions.\n"
     ]
    },
    {
     "name": "stderr",
     "output_type": "stream",
     "text": [
      "100%|█████████▉| 22216/22222 [00:43<00:00, 511.99it/s]\n"
     ]
    },
    {
     "name": "stdout",
     "output_type": "stream",
     "text": [
      "EvaluatorHoldout: Processed 10045 (100.0%) in 5.61 sec. Users per second: 1789\n",
      "SLIMElasticNetRecommender: URM Detected 460 ( 3.6%) users with no interactions.\n",
      "SLIMElasticNetRecommender: URM Detected 348 ( 1.6%) items with no interactions.\n"
     ]
    },
    {
     "name": "stderr",
     "output_type": "stream",
     "text": [
      "100%|█████████▉| 22216/22222 [00:43<00:00, 512.95it/s]\n"
     ]
    },
    {
     "name": "stdout",
     "output_type": "stream",
     "text": [
      "EvaluatorHoldout: Processed 10068 (100.0%) in 5.85 sec. Users per second: 1720\n"
     ]
    },
    {
     "name": "stderr",
     "output_type": "stream",
     "text": [
      "[I 2024-01-10 11:10:55,681] Trial 15 finished with value: 0.1543593002389378 and parameters: {'alpha': 0.027795388215516144, 'l1_ratio': 0.002388924057448025, 'topK': 2956}. Best is trial 13 with value: 0.16092181855030718.\n"
     ]
    },
    {
     "name": "stdout",
     "output_type": "stream",
     "text": [
      "SLIMElasticNetRecommender: URM Detected 508 ( 4.0%) users with no interactions.\n",
      "SLIMElasticNetRecommender: URM Detected 332 ( 1.5%) items with no interactions.\n"
     ]
    },
    {
     "name": "stderr",
     "output_type": "stream",
     "text": [
      "100%|█████████▉| 22216/22222 [00:51<00:00, 432.30it/s]\n"
     ]
    },
    {
     "name": "stdout",
     "output_type": "stream",
     "text": [
      "EvaluatorHoldout: Processed 10057 (100.0%) in 4.47 sec. Users per second: 2248\n",
      "SLIMElasticNetRecommender: URM Detected 440 ( 3.5%) users with no interactions.\n",
      "SLIMElasticNetRecommender: URM Detected 325 ( 1.5%) items with no interactions.\n"
     ]
    },
    {
     "name": "stderr",
     "output_type": "stream",
     "text": [
      "100%|█████████▉| 22216/22222 [00:53<00:00, 415.25it/s]\n"
     ]
    },
    {
     "name": "stdout",
     "output_type": "stream",
     "text": [
      "EvaluatorHoldout: Processed 10040 (100.0%) in 4.58 sec. Users per second: 2193\n",
      "SLIMElasticNetRecommender: URM Detected 479 ( 3.8%) users with no interactions.\n",
      "SLIMElasticNetRecommender: URM Detected 345 ( 1.6%) items with no interactions.\n"
     ]
    },
    {
     "name": "stderr",
     "output_type": "stream",
     "text": [
      "100%|█████████▉| 22216/22222 [00:51<00:00, 432.44it/s]\n"
     ]
    },
    {
     "name": "stdout",
     "output_type": "stream",
     "text": [
      "EvaluatorHoldout: Processed 10017 (100.0%) in 4.61 sec. Users per second: 2173\n",
      "SLIMElasticNetRecommender: URM Detected 451 ( 3.6%) users with no interactions.\n",
      "SLIMElasticNetRecommender: URM Detected 311 ( 1.4%) items with no interactions.\n"
     ]
    },
    {
     "name": "stderr",
     "output_type": "stream",
     "text": [
      "100%|█████████▉| 22216/22222 [00:51<00:00, 427.91it/s]\n"
     ]
    },
    {
     "name": "stdout",
     "output_type": "stream",
     "text": [
      "EvaluatorHoldout: Processed 10037 (100.0%) in 4.54 sec. Users per second: 2209\n",
      "SLIMElasticNetRecommender: URM Detected 449 ( 3.6%) users with no interactions.\n",
      "SLIMElasticNetRecommender: URM Detected 320 ( 1.4%) items with no interactions.\n"
     ]
    },
    {
     "name": "stderr",
     "output_type": "stream",
     "text": [
      "100%|█████████▉| 22216/22222 [00:52<00:00, 427.18it/s]\n"
     ]
    },
    {
     "name": "stdout",
     "output_type": "stream",
     "text": [
      "EvaluatorHoldout: Processed 9989 (100.0%) in 4.60 sec. Users per second: 2170\n",
      "SLIMElasticNetRecommender: URM Detected 460 ( 3.6%) users with no interactions.\n",
      "SLIMElasticNetRecommender: URM Detected 328 ( 1.5%) items with no interactions.\n"
     ]
    },
    {
     "name": "stderr",
     "output_type": "stream",
     "text": [
      "100%|█████████▉| 22216/22222 [00:49<00:00, 445.61it/s]\n"
     ]
    },
    {
     "name": "stdout",
     "output_type": "stream",
     "text": [
      "EvaluatorHoldout: Processed 10024 (100.0%) in 4.61 sec. Users per second: 2173\n",
      "SLIMElasticNetRecommender: URM Detected 426 ( 3.4%) users with no interactions.\n",
      "SLIMElasticNetRecommender: URM Detected 344 ( 1.5%) items with no interactions.\n"
     ]
    },
    {
     "name": "stderr",
     "output_type": "stream",
     "text": [
      "100%|█████████▉| 22216/22222 [00:51<00:00, 428.67it/s]\n"
     ]
    },
    {
     "name": "stdout",
     "output_type": "stream",
     "text": [
      "EvaluatorHoldout: Processed 10030 (100.0%) in 4.14 sec. Users per second: 2421\n",
      "SLIMElasticNetRecommender: URM Detected 471 ( 3.7%) users with no interactions.\n",
      "SLIMElasticNetRecommender: URM Detected 362 ( 1.6%) items with no interactions.\n"
     ]
    },
    {
     "name": "stderr",
     "output_type": "stream",
     "text": [
      "100%|█████████▉| 22216/22222 [00:51<00:00, 431.23it/s]\n"
     ]
    },
    {
     "name": "stdout",
     "output_type": "stream",
     "text": [
      "EvaluatorHoldout: Processed 10052 (100.0%) in 4.71 sec. Users per second: 2134\n",
      "SLIMElasticNetRecommender: URM Detected 478 ( 3.8%) users with no interactions.\n",
      "SLIMElasticNetRecommender: URM Detected 329 ( 1.5%) items with no interactions.\n"
     ]
    },
    {
     "name": "stderr",
     "output_type": "stream",
     "text": [
      "100%|█████████▉| 22216/22222 [00:51<00:00, 434.79it/s]\n"
     ]
    },
    {
     "name": "stdout",
     "output_type": "stream",
     "text": [
      "EvaluatorHoldout: Processed 10045 (100.0%) in 4.70 sec. Users per second: 2135\n",
      "SLIMElasticNetRecommender: URM Detected 460 ( 3.6%) users with no interactions.\n",
      "SLIMElasticNetRecommender: URM Detected 348 ( 1.6%) items with no interactions.\n"
     ]
    },
    {
     "name": "stderr",
     "output_type": "stream",
     "text": [
      "100%|█████████▉| 22216/22222 [00:51<00:00, 428.26it/s]\n"
     ]
    },
    {
     "name": "stdout",
     "output_type": "stream",
     "text": [
      "EvaluatorHoldout: Processed 10068 (100.0%) in 4.43 sec. Users per second: 2275\n"
     ]
    },
    {
     "name": "stderr",
     "output_type": "stream",
     "text": [
      "[I 2024-01-10 11:20:32,295] Trial 16 finished with value: 0.15344039280502636 and parameters: {'alpha': 0.00155575074128786, 'l1_ratio': 0.003124599685254562, 'topK': 3275}. Best is trial 13 with value: 0.16092181855030718.\n"
     ]
    },
    {
     "name": "stdout",
     "output_type": "stream",
     "text": [
      "SLIMElasticNetRecommender: URM Detected 508 ( 4.0%) users with no interactions.\n",
      "SLIMElasticNetRecommender: URM Detected 332 ( 1.5%) items with no interactions.\n"
     ]
    },
    {
     "name": "stderr",
     "output_type": "stream",
     "text": [
      "100%|█████████▉| 22216/22222 [00:13<00:00, 1670.73it/s]\n"
     ]
    },
    {
     "name": "stdout",
     "output_type": "stream",
     "text": [
      "EvaluatorHoldout: Processed 10057 (100.0%) in 2.47 sec. Users per second: 4075\n",
      "SLIMElasticNetRecommender: URM Detected 440 ( 3.5%) users with no interactions.\n",
      "SLIMElasticNetRecommender: URM Detected 325 ( 1.5%) items with no interactions.\n"
     ]
    },
    {
     "name": "stderr",
     "output_type": "stream",
     "text": [
      "100%|█████████▉| 22216/22222 [00:13<00:00, 1694.03it/s]\n"
     ]
    },
    {
     "name": "stdout",
     "output_type": "stream",
     "text": [
      "EvaluatorHoldout: Processed 10040 (100.0%) in 2.37 sec. Users per second: 4238\n",
      "SLIMElasticNetRecommender: URM Detected 479 ( 3.8%) users with no interactions.\n",
      "SLIMElasticNetRecommender: URM Detected 345 ( 1.6%) items with no interactions.\n"
     ]
    },
    {
     "name": "stderr",
     "output_type": "stream",
     "text": [
      "100%|█████████▉| 22216/22222 [00:13<00:00, 1654.55it/s]\n"
     ]
    },
    {
     "name": "stdout",
     "output_type": "stream",
     "text": [
      "EvaluatorHoldout: Processed 10017 (100.0%) in 2.31 sec. Users per second: 4331\n",
      "SLIMElasticNetRecommender: URM Detected 451 ( 3.6%) users with no interactions.\n",
      "SLIMElasticNetRecommender: URM Detected 311 ( 1.4%) items with no interactions.\n"
     ]
    },
    {
     "name": "stderr",
     "output_type": "stream",
     "text": [
      "100%|█████████▉| 22216/22222 [00:12<00:00, 1764.71it/s]\n"
     ]
    },
    {
     "name": "stdout",
     "output_type": "stream",
     "text": [
      "EvaluatorHoldout: Processed 10037 (100.0%) in 2.35 sec. Users per second: 4266\n",
      "SLIMElasticNetRecommender: URM Detected 449 ( 3.6%) users with no interactions.\n",
      "SLIMElasticNetRecommender: URM Detected 320 ( 1.4%) items with no interactions.\n"
     ]
    },
    {
     "name": "stderr",
     "output_type": "stream",
     "text": [
      "100%|█████████▉| 22216/22222 [00:12<00:00, 1800.66it/s]\n"
     ]
    },
    {
     "name": "stdout",
     "output_type": "stream",
     "text": [
      "EvaluatorHoldout: Processed 9989 (100.0%) in 2.18 sec. Users per second: 4578\n",
      "SLIMElasticNetRecommender: URM Detected 460 ( 3.6%) users with no interactions.\n",
      "SLIMElasticNetRecommender: URM Detected 328 ( 1.5%) items with no interactions.\n"
     ]
    },
    {
     "name": "stderr",
     "output_type": "stream",
     "text": [
      "100%|█████████▉| 22216/22222 [00:12<00:00, 1789.33it/s]\n"
     ]
    },
    {
     "name": "stdout",
     "output_type": "stream",
     "text": [
      "EvaluatorHoldout: Processed 10024 (100.0%) in 2.36 sec. Users per second: 4251\n",
      "SLIMElasticNetRecommender: URM Detected 426 ( 3.4%) users with no interactions.\n",
      "SLIMElasticNetRecommender: URM Detected 344 ( 1.5%) items with no interactions.\n"
     ]
    },
    {
     "name": "stderr",
     "output_type": "stream",
     "text": [
      "100%|█████████▉| 22216/22222 [00:13<00:00, 1696.16it/s]\n"
     ]
    },
    {
     "name": "stdout",
     "output_type": "stream",
     "text": [
      "EvaluatorHoldout: Processed 10030 (100.0%) in 2.38 sec. Users per second: 4206\n",
      "SLIMElasticNetRecommender: URM Detected 471 ( 3.7%) users with no interactions.\n",
      "SLIMElasticNetRecommender: URM Detected 362 ( 1.6%) items with no interactions.\n"
     ]
    },
    {
     "name": "stderr",
     "output_type": "stream",
     "text": [
      "100%|█████████▉| 22216/22222 [00:12<00:00, 1732.67it/s]\n"
     ]
    },
    {
     "name": "stdout",
     "output_type": "stream",
     "text": [
      "EvaluatorHoldout: Processed 10052 (100.0%) in 2.40 sec. Users per second: 4181\n",
      "SLIMElasticNetRecommender: URM Detected 478 ( 3.8%) users with no interactions.\n",
      "SLIMElasticNetRecommender: URM Detected 329 ( 1.5%) items with no interactions.\n"
     ]
    },
    {
     "name": "stderr",
     "output_type": "stream",
     "text": [
      "100%|█████████▉| 22216/22222 [00:13<00:00, 1704.86it/s]\n"
     ]
    },
    {
     "name": "stdout",
     "output_type": "stream",
     "text": [
      "EvaluatorHoldout: Processed 10045 (100.0%) in 2.50 sec. Users per second: 4024\n",
      "SLIMElasticNetRecommender: URM Detected 460 ( 3.6%) users with no interactions.\n",
      "SLIMElasticNetRecommender: URM Detected 348 ( 1.6%) items with no interactions.\n"
     ]
    },
    {
     "name": "stderr",
     "output_type": "stream",
     "text": [
      "100%|█████████▉| 22216/22222 [00:13<00:00, 1663.38it/s]\n"
     ]
    },
    {
     "name": "stdout",
     "output_type": "stream",
     "text": [
      "EvaluatorHoldout: Processed 10068 (100.0%) in 2.43 sec. Users per second: 4146\n"
     ]
    },
    {
     "name": "stderr",
     "output_type": "stream",
     "text": [
      "[I 2024-01-10 11:23:18,553] Trial 18 finished with value: 0.10448721959496025 and parameters: {'alpha': 0.35901133140872765, 'l1_ratio': 0.004636248218122216, 'topK': 3785}. Best is trial 13 with value: 0.16092181855030718.\n"
     ]
    },
    {
     "name": "stdout",
     "output_type": "stream",
     "text": [
      "SLIMElasticNetRecommender: URM Detected 508 ( 4.0%) users with no interactions.\n",
      "SLIMElasticNetRecommender: URM Detected 332 ( 1.5%) items with no interactions.\n"
     ]
    },
    {
     "name": "stderr",
     "output_type": "stream",
     "text": [
      "100%|█████████▉| 22216/22222 [00:13<00:00, 1685.14it/s]\n"
     ]
    },
    {
     "name": "stdout",
     "output_type": "stream",
     "text": [
      "EvaluatorHoldout: Processed 10057 (100.0%) in 2.47 sec. Users per second: 4066\n",
      "SLIMElasticNetRecommender: URM Detected 440 ( 3.5%) users with no interactions.\n",
      "SLIMElasticNetRecommender: URM Detected 325 ( 1.5%) items with no interactions.\n"
     ]
    },
    {
     "name": "stderr",
     "output_type": "stream",
     "text": [
      "100%|█████████▉| 22216/22222 [00:13<00:00, 1651.61it/s]\n"
     ]
    },
    {
     "name": "stdout",
     "output_type": "stream",
     "text": [
      "EvaluatorHoldout: Processed 10040 (100.0%) in 2.51 sec. Users per second: 4002\n",
      "SLIMElasticNetRecommender: URM Detected 479 ( 3.8%) users with no interactions.\n",
      "SLIMElasticNetRecommender: URM Detected 345 ( 1.6%) items with no interactions.\n"
     ]
    },
    {
     "name": "stderr",
     "output_type": "stream",
     "text": [
      "100%|█████████▉| 22216/22222 [00:13<00:00, 1653.96it/s]\n"
     ]
    },
    {
     "name": "stdout",
     "output_type": "stream",
     "text": [
      "EvaluatorHoldout: Processed 10017 (100.0%) in 2.43 sec. Users per second: 4130\n",
      "SLIMElasticNetRecommender: URM Detected 451 ( 3.6%) users with no interactions.\n",
      "SLIMElasticNetRecommender: URM Detected 311 ( 1.4%) items with no interactions.\n"
     ]
    },
    {
     "name": "stderr",
     "output_type": "stream",
     "text": [
      "100%|█████████▉| 22216/22222 [00:12<00:00, 1796.70it/s]\n"
     ]
    },
    {
     "name": "stdout",
     "output_type": "stream",
     "text": [
      "EvaluatorHoldout: Processed 10037 (100.0%) in 2.33 sec. Users per second: 4314\n",
      "SLIMElasticNetRecommender: URM Detected 449 ( 3.6%) users with no interactions.\n",
      "SLIMElasticNetRecommender: URM Detected 320 ( 1.4%) items with no interactions.\n"
     ]
    },
    {
     "name": "stderr",
     "output_type": "stream",
     "text": [
      "100%|█████████▉| 22216/22222 [00:13<00:00, 1700.55it/s]\n"
     ]
    },
    {
     "name": "stdout",
     "output_type": "stream",
     "text": [
      "EvaluatorHoldout: Processed 9989 (100.0%) in 2.30 sec. Users per second: 4349\n",
      "SLIMElasticNetRecommender: URM Detected 460 ( 3.6%) users with no interactions.\n",
      "SLIMElasticNetRecommender: URM Detected 328 ( 1.5%) items with no interactions.\n"
     ]
    },
    {
     "name": "stderr",
     "output_type": "stream",
     "text": [
      "100%|█████████▉| 22216/22222 [00:12<00:00, 1806.92it/s]\n"
     ]
    },
    {
     "name": "stdout",
     "output_type": "stream",
     "text": [
      "EvaluatorHoldout: Processed 10024 (100.0%) in 2.48 sec. Users per second: 4041\n",
      "SLIMElasticNetRecommender: URM Detected 426 ( 3.4%) users with no interactions.\n",
      "SLIMElasticNetRecommender: URM Detected 344 ( 1.5%) items with no interactions.\n"
     ]
    },
    {
     "name": "stderr",
     "output_type": "stream",
     "text": [
      "100%|█████████▉| 22216/22222 [00:13<00:00, 1677.92it/s]\n"
     ]
    },
    {
     "name": "stdout",
     "output_type": "stream",
     "text": [
      "EvaluatorHoldout: Processed 10030 (100.0%) in 2.45 sec. Users per second: 4094\n",
      "SLIMElasticNetRecommender: URM Detected 471 ( 3.7%) users with no interactions.\n",
      "SLIMElasticNetRecommender: URM Detected 362 ( 1.6%) items with no interactions.\n"
     ]
    },
    {
     "name": "stderr",
     "output_type": "stream",
     "text": [
      "100%|█████████▉| 22216/22222 [00:13<00:00, 1645.12it/s]\n"
     ]
    },
    {
     "name": "stdout",
     "output_type": "stream",
     "text": [
      "EvaluatorHoldout: Processed 10052 (100.0%) in 2.43 sec. Users per second: 4133\n",
      "SLIMElasticNetRecommender: URM Detected 478 ( 3.8%) users with no interactions.\n",
      "SLIMElasticNetRecommender: URM Detected 329 ( 1.5%) items with no interactions.\n"
     ]
    },
    {
     "name": "stderr",
     "output_type": "stream",
     "text": [
      "100%|█████████▉| 22216/22222 [00:13<00:00, 1705.91it/s]\n"
     ]
    },
    {
     "name": "stdout",
     "output_type": "stream",
     "text": [
      "EvaluatorHoldout: Processed 10045 (100.0%) in 2.41 sec. Users per second: 4169\n",
      "SLIMElasticNetRecommender: URM Detected 460 ( 3.6%) users with no interactions.\n",
      "SLIMElasticNetRecommender: URM Detected 348 ( 1.6%) items with no interactions.\n"
     ]
    },
    {
     "name": "stderr",
     "output_type": "stream",
     "text": [
      "100%|█████████▉| 22216/22222 [00:12<00:00, 1721.57it/s]\n"
     ]
    },
    {
     "name": "stdout",
     "output_type": "stream",
     "text": [
      "EvaluatorHoldout: Processed 10068 (100.0%) in 2.47 sec. Users per second: 4083\n"
     ]
    },
    {
     "name": "stderr",
     "output_type": "stream",
     "text": [
      "[I 2024-01-10 11:26:06,377] Trial 19 finished with value: 0.10472996722562548 and parameters: {'alpha': 0.9876826832245817, 'l1_ratio': 0.00130866872689794, 'topK': 3962}. Best is trial 13 with value: 0.16092181855030718.\n"
     ]
    },
    {
     "name": "stdout",
     "output_type": "stream",
     "text": [
      "SLIMElasticNetRecommender: URM Detected 508 ( 4.0%) users with no interactions.\n",
      "SLIMElasticNetRecommender: URM Detected 332 ( 1.5%) items with no interactions.\n"
     ]
    },
    {
     "name": "stderr",
     "output_type": "stream",
     "text": [
      "100%|█████████▉| 22216/22222 [00:12<00:00, 1797.87it/s]\n"
     ]
    },
    {
     "name": "stdout",
     "output_type": "stream",
     "text": [
      "EvaluatorHoldout: Processed 10057 (100.0%) in 2.38 sec. Users per second: 4232\n",
      "SLIMElasticNetRecommender: URM Detected 440 ( 3.5%) users with no interactions.\n",
      "SLIMElasticNetRecommender: URM Detected 325 ( 1.5%) items with no interactions.\n"
     ]
    },
    {
     "name": "stderr",
     "output_type": "stream",
     "text": [
      "100%|█████████▉| 22216/22222 [00:12<00:00, 1751.13it/s]\n"
     ]
    },
    {
     "name": "stdout",
     "output_type": "stream",
     "text": [
      "EvaluatorHoldout: Processed 10040 (100.0%) in 2.37 sec. Users per second: 4241\n",
      "SLIMElasticNetRecommender: URM Detected 479 ( 3.8%) users with no interactions.\n",
      "SLIMElasticNetRecommender: URM Detected 345 ( 1.6%) items with no interactions.\n"
     ]
    },
    {
     "name": "stderr",
     "output_type": "stream",
     "text": [
      "100%|█████████▉| 22216/22222 [00:13<00:00, 1696.03it/s]\n"
     ]
    },
    {
     "name": "stdout",
     "output_type": "stream",
     "text": [
      "EvaluatorHoldout: Processed 10017 (100.0%) in 2.30 sec. Users per second: 4358\n",
      "SLIMElasticNetRecommender: URM Detected 451 ( 3.6%) users with no interactions.\n",
      "SLIMElasticNetRecommender: URM Detected 311 ( 1.4%) items with no interactions.\n"
     ]
    },
    {
     "name": "stderr",
     "output_type": "stream",
     "text": [
      "100%|█████████▉| 22216/22222 [00:12<00:00, 1806.39it/s]\n"
     ]
    },
    {
     "name": "stdout",
     "output_type": "stream",
     "text": [
      "EvaluatorHoldout: Processed 10037 (100.0%) in 2.30 sec. Users per second: 4372\n",
      "SLIMElasticNetRecommender: URM Detected 449 ( 3.6%) users with no interactions.\n",
      "SLIMElasticNetRecommender: URM Detected 320 ( 1.4%) items with no interactions.\n"
     ]
    },
    {
     "name": "stderr",
     "output_type": "stream",
     "text": [
      "100%|█████████▉| 22216/22222 [00:12<00:00, 1728.47it/s]\n"
     ]
    },
    {
     "name": "stdout",
     "output_type": "stream",
     "text": [
      "EvaluatorHoldout: Processed 9989 (100.0%) in 2.29 sec. Users per second: 4364\n",
      "SLIMElasticNetRecommender: URM Detected 460 ( 3.6%) users with no interactions.\n",
      "SLIMElasticNetRecommender: URM Detected 328 ( 1.5%) items with no interactions.\n"
     ]
    },
    {
     "name": "stderr",
     "output_type": "stream",
     "text": [
      "100%|█████████▉| 22216/22222 [00:11<00:00, 1917.20it/s]\n"
     ]
    },
    {
     "name": "stdout",
     "output_type": "stream",
     "text": [
      "EvaluatorHoldout: Processed 10024 (100.0%) in 2.06 sec. Users per second: 4858\n",
      "SLIMElasticNetRecommender: URM Detected 426 ( 3.4%) users with no interactions.\n",
      "SLIMElasticNetRecommender: URM Detected 344 ( 1.5%) items with no interactions.\n"
     ]
    },
    {
     "name": "stderr",
     "output_type": "stream",
     "text": [
      "100%|█████████▉| 22216/22222 [00:12<00:00, 1801.23it/s]\n"
     ]
    },
    {
     "name": "stdout",
     "output_type": "stream",
     "text": [
      "EvaluatorHoldout: Processed 10030 (100.0%) in 2.40 sec. Users per second: 4186\n",
      "SLIMElasticNetRecommender: URM Detected 471 ( 3.7%) users with no interactions.\n",
      "SLIMElasticNetRecommender: URM Detected 362 ( 1.6%) items with no interactions.\n"
     ]
    },
    {
     "name": "stderr",
     "output_type": "stream",
     "text": [
      "100%|█████████▉| 22216/22222 [00:13<00:00, 1697.04it/s]\n"
     ]
    },
    {
     "name": "stdout",
     "output_type": "stream",
     "text": [
      "EvaluatorHoldout: Processed 10052 (100.0%) in 2.38 sec. Users per second: 4224\n",
      "SLIMElasticNetRecommender: URM Detected 478 ( 3.8%) users with no interactions.\n",
      "SLIMElasticNetRecommender: URM Detected 329 ( 1.5%) items with no interactions.\n"
     ]
    },
    {
     "name": "stderr",
     "output_type": "stream",
     "text": [
      "100%|█████████▉| 22216/22222 [00:12<00:00, 1769.23it/s]\n"
     ]
    },
    {
     "name": "stdout",
     "output_type": "stream",
     "text": [
      "EvaluatorHoldout: Processed 10045 (100.0%) in 2.36 sec. Users per second: 4253\n",
      "SLIMElasticNetRecommender: URM Detected 460 ( 3.6%) users with no interactions.\n",
      "SLIMElasticNetRecommender: URM Detected 348 ( 1.6%) items with no interactions.\n"
     ]
    },
    {
     "name": "stderr",
     "output_type": "stream",
     "text": [
      "100%|█████████▉| 22216/22222 [00:13<00:00, 1705.47it/s]\n"
     ]
    },
    {
     "name": "stdout",
     "output_type": "stream",
     "text": [
      "EvaluatorHoldout: Processed 10068 (100.0%) in 2.28 sec. Users per second: 4406\n"
     ]
    },
    {
     "name": "stderr",
     "output_type": "stream",
     "text": [
      "[I 2024-01-10 11:28:48,356] Trial 20 finished with value: 0.09260493246030131 and parameters: {'alpha': 0.31887086232149126, 'l1_ratio': 0.008668657030102778, 'topK': 6988}. Best is trial 13 with value: 0.16092181855030718.\n"
     ]
    },
    {
     "name": "stdout",
     "output_type": "stream",
     "text": [
      "SLIMElasticNetRecommender: URM Detected 508 ( 4.0%) users with no interactions.\n",
      "SLIMElasticNetRecommender: URM Detected 332 ( 1.5%) items with no interactions.\n"
     ]
    },
    {
     "name": "stderr",
     "output_type": "stream",
     "text": [
      "100%|█████████▉| 22216/22222 [00:14<00:00, 1530.63it/s]\n"
     ]
    },
    {
     "name": "stdout",
     "output_type": "stream",
     "text": [
      "EvaluatorHoldout: Processed 10057 (100.0%) in 2.78 sec. Users per second: 3616\n",
      "SLIMElasticNetRecommender: URM Detected 440 ( 3.5%) users with no interactions.\n",
      "SLIMElasticNetRecommender: URM Detected 325 ( 1.5%) items with no interactions.\n"
     ]
    },
    {
     "name": "stderr",
     "output_type": "stream",
     "text": [
      "100%|█████████▉| 22216/22222 [00:15<00:00, 1463.56it/s]\n"
     ]
    },
    {
     "name": "stdout",
     "output_type": "stream",
     "text": [
      "EvaluatorHoldout: Processed 10040 (100.0%) in 2.85 sec. Users per second: 3525\n",
      "SLIMElasticNetRecommender: URM Detected 479 ( 3.8%) users with no interactions.\n",
      "SLIMElasticNetRecommender: URM Detected 345 ( 1.6%) items with no interactions.\n"
     ]
    },
    {
     "name": "stderr",
     "output_type": "stream",
     "text": [
      "100%|█████████▉| 22216/22222 [00:15<00:00, 1441.81it/s]\n"
     ]
    },
    {
     "name": "stdout",
     "output_type": "stream",
     "text": [
      "EvaluatorHoldout: Processed 10017 (100.0%) in 3.06 sec. Users per second: 3271\n",
      "SLIMElasticNetRecommender: URM Detected 451 ( 3.6%) users with no interactions.\n",
      "SLIMElasticNetRecommender: URM Detected 311 ( 1.4%) items with no interactions.\n"
     ]
    },
    {
     "name": "stderr",
     "output_type": "stream",
     "text": [
      "100%|█████████▉| 22216/22222 [00:14<00:00, 1503.00it/s]\n"
     ]
    },
    {
     "name": "stdout",
     "output_type": "stream",
     "text": [
      "EvaluatorHoldout: Processed 10037 (100.0%) in 2.98 sec. Users per second: 3372\n",
      "SLIMElasticNetRecommender: URM Detected 449 ( 3.6%) users with no interactions.\n",
      "SLIMElasticNetRecommender: URM Detected 320 ( 1.4%) items with no interactions.\n"
     ]
    },
    {
     "name": "stderr",
     "output_type": "stream",
     "text": [
      "100%|█████████▉| 22216/22222 [00:15<00:00, 1464.84it/s]\n"
     ]
    },
    {
     "name": "stdout",
     "output_type": "stream",
     "text": [
      "EvaluatorHoldout: Processed 9989 (100.0%) in 2.75 sec. Users per second: 3631\n",
      "SLIMElasticNetRecommender: URM Detected 460 ( 3.6%) users with no interactions.\n",
      "SLIMElasticNetRecommender: URM Detected 328 ( 1.5%) items with no interactions.\n"
     ]
    },
    {
     "name": "stderr",
     "output_type": "stream",
     "text": [
      "100%|█████████▉| 22216/22222 [00:13<00:00, 1593.01it/s]\n"
     ]
    },
    {
     "name": "stdout",
     "output_type": "stream",
     "text": [
      "EvaluatorHoldout: Processed 10024 (100.0%) in 2.81 sec. Users per second: 3566\n",
      "SLIMElasticNetRecommender: URM Detected 426 ( 3.4%) users with no interactions.\n",
      "SLIMElasticNetRecommender: URM Detected 344 ( 1.5%) items with no interactions.\n"
     ]
    },
    {
     "name": "stderr",
     "output_type": "stream",
     "text": [
      "100%|█████████▉| 22216/22222 [00:15<00:00, 1471.04it/s]\n"
     ]
    },
    {
     "name": "stdout",
     "output_type": "stream",
     "text": [
      "EvaluatorHoldout: Processed 10030 (100.0%) in 2.90 sec. Users per second: 3453\n",
      "SLIMElasticNetRecommender: URM Detected 471 ( 3.7%) users with no interactions.\n",
      "SLIMElasticNetRecommender: URM Detected 362 ( 1.6%) items with no interactions.\n"
     ]
    },
    {
     "name": "stderr",
     "output_type": "stream",
     "text": [
      "100%|█████████▉| 22216/22222 [00:15<00:00, 1409.57it/s]\n"
     ]
    },
    {
     "name": "stdout",
     "output_type": "stream",
     "text": [
      "EvaluatorHoldout: Processed 10052 (100.0%) in 2.96 sec. Users per second: 3397\n",
      "SLIMElasticNetRecommender: URM Detected 478 ( 3.8%) users with no interactions.\n",
      "SLIMElasticNetRecommender: URM Detected 329 ( 1.5%) items with no interactions.\n"
     ]
    },
    {
     "name": "stderr",
     "output_type": "stream",
     "text": [
      "100%|█████████▉| 22216/22222 [00:15<00:00, 1469.31it/s]\n"
     ]
    },
    {
     "name": "stdout",
     "output_type": "stream",
     "text": [
      "EvaluatorHoldout: Processed 10045 (100.0%) in 2.95 sec. Users per second: 3405\n",
      "SLIMElasticNetRecommender: URM Detected 460 ( 3.6%) users with no interactions.\n",
      "SLIMElasticNetRecommender: URM Detected 348 ( 1.6%) items with no interactions.\n"
     ]
    },
    {
     "name": "stderr",
     "output_type": "stream",
     "text": [
      "100%|█████████▉| 22216/22222 [00:15<00:00, 1444.24it/s]\n"
     ]
    },
    {
     "name": "stdout",
     "output_type": "stream",
     "text": [
      "EvaluatorHoldout: Processed 10068 (100.0%) in 2.97 sec. Users per second: 3395\n"
     ]
    },
    {
     "name": "stderr",
     "output_type": "stream",
     "text": [
      "[I 2024-01-10 11:32:00,750] Trial 21 finished with value: 0.11791886558287068 and parameters: {'alpha': 0.5133719085200874, 'l1_ratio': 0.0008155052092121077, 'topK': 2329}. Best is trial 13 with value: 0.16092181855030718.\n"
     ]
    },
    {
     "name": "stdout",
     "output_type": "stream",
     "text": [
      "SLIMElasticNetRecommender: URM Detected 508 ( 4.0%) users with no interactions.\n",
      "SLIMElasticNetRecommender: URM Detected 332 ( 1.5%) items with no interactions.\n"
     ]
    },
    {
     "name": "stderr",
     "output_type": "stream",
     "text": [
      "100%|█████████▉| 22216/22222 [00:50<00:00, 441.47it/s]\n"
     ]
    },
    {
     "name": "stdout",
     "output_type": "stream",
     "text": [
      "EvaluatorHoldout: Processed 10057 (100.0%) in 6.91 sec. Users per second: 1455\n",
      "SLIMElasticNetRecommender: URM Detected 440 ( 3.5%) users with no interactions.\n",
      "SLIMElasticNetRecommender: URM Detected 325 ( 1.5%) items with no interactions.\n"
     ]
    },
    {
     "name": "stderr",
     "output_type": "stream",
     "text": [
      "100%|█████████▉| 22216/22222 [00:48<00:00, 453.84it/s]\n"
     ]
    },
    {
     "name": "stdout",
     "output_type": "stream",
     "text": [
      "EvaluatorHoldout: Processed 10040 (100.0%) in 6.81 sec. Users per second: 1475\n",
      "SLIMElasticNetRecommender: URM Detected 479 ( 3.8%) users with no interactions.\n",
      "SLIMElasticNetRecommender: URM Detected 345 ( 1.6%) items with no interactions.\n"
     ]
    },
    {
     "name": "stderr",
     "output_type": "stream",
     "text": [
      "100%|█████████▉| 22216/22222 [00:49<00:00, 450.96it/s]\n"
     ]
    },
    {
     "name": "stdout",
     "output_type": "stream",
     "text": [
      "EvaluatorHoldout: Processed 10017 (100.0%) in 6.40 sec. Users per second: 1566\n",
      "SLIMElasticNetRecommender: URM Detected 451 ( 3.6%) users with no interactions.\n",
      "SLIMElasticNetRecommender: URM Detected 311 ( 1.4%) items with no interactions.\n"
     ]
    },
    {
     "name": "stderr",
     "output_type": "stream",
     "text": [
      "100%|█████████▉| 22216/22222 [00:49<00:00, 450.54it/s]\n"
     ]
    },
    {
     "name": "stdout",
     "output_type": "stream",
     "text": [
      "EvaluatorHoldout: Processed 10037 (100.0%) in 6.76 sec. Users per second: 1484\n",
      "SLIMElasticNetRecommender: URM Detected 449 ( 3.6%) users with no interactions.\n",
      "SLIMElasticNetRecommender: URM Detected 320 ( 1.4%) items with no interactions.\n"
     ]
    },
    {
     "name": "stderr",
     "output_type": "stream",
     "text": [
      "100%|█████████▉| 22216/22222 [00:48<00:00, 456.33it/s]\n"
     ]
    },
    {
     "name": "stdout",
     "output_type": "stream",
     "text": [
      "EvaluatorHoldout: Processed 9989 (100.0%) in 6.86 sec. Users per second: 1456\n",
      "SLIMElasticNetRecommender: URM Detected 460 ( 3.6%) users with no interactions.\n",
      "SLIMElasticNetRecommender: URM Detected 328 ( 1.5%) items with no interactions.\n"
     ]
    },
    {
     "name": "stderr",
     "output_type": "stream",
     "text": [
      "100%|█████████▉| 22216/22222 [00:49<00:00, 452.38it/s]\n"
     ]
    },
    {
     "name": "stdout",
     "output_type": "stream",
     "text": [
      "EvaluatorHoldout: Processed 10024 (100.0%) in 6.37 sec. Users per second: 1574\n",
      "SLIMElasticNetRecommender: URM Detected 426 ( 3.4%) users with no interactions.\n",
      "SLIMElasticNetRecommender: URM Detected 344 ( 1.5%) items with no interactions.\n"
     ]
    },
    {
     "name": "stderr",
     "output_type": "stream",
     "text": [
      "100%|█████████▉| 22216/22222 [00:50<00:00, 443.86it/s]\n"
     ]
    },
    {
     "name": "stdout",
     "output_type": "stream",
     "text": [
      "EvaluatorHoldout: Processed 10030 (100.0%) in 6.69 sec. Users per second: 1500\n",
      "SLIMElasticNetRecommender: URM Detected 471 ( 3.7%) users with no interactions.\n",
      "SLIMElasticNetRecommender: URM Detected 362 ( 1.6%) items with no interactions.\n"
     ]
    },
    {
     "name": "stderr",
     "output_type": "stream",
     "text": [
      "100%|█████████▉| 22216/22222 [00:49<00:00, 445.26it/s]\n"
     ]
    },
    {
     "name": "stdout",
     "output_type": "stream",
     "text": [
      "EvaluatorHoldout: Processed 10052 (100.0%) in 7.14 sec. Users per second: 1408\n",
      "SLIMElasticNetRecommender: URM Detected 478 ( 3.8%) users with no interactions.\n",
      "SLIMElasticNetRecommender: URM Detected 329 ( 1.5%) items with no interactions.\n"
     ]
    },
    {
     "name": "stderr",
     "output_type": "stream",
     "text": [
      "100%|█████████▉| 22216/22222 [00:50<00:00, 437.57it/s]\n"
     ]
    },
    {
     "name": "stdout",
     "output_type": "stream",
     "text": [
      "EvaluatorHoldout: Processed 10045 (100.0%) in 6.33 sec. Users per second: 1586\n",
      "SLIMElasticNetRecommender: URM Detected 460 ( 3.6%) users with no interactions.\n",
      "SLIMElasticNetRecommender: URM Detected 348 ( 1.6%) items with no interactions.\n"
     ]
    },
    {
     "name": "stderr",
     "output_type": "stream",
     "text": [
      "100%|█████████▉| 22216/22222 [00:49<00:00, 451.10it/s]\n"
     ]
    },
    {
     "name": "stdout",
     "output_type": "stream",
     "text": [
      "EvaluatorHoldout: Processed 10068 (100.0%) in 7.06 sec. Users per second: 1426\n"
     ]
    },
    {
     "name": "stderr",
     "output_type": "stream",
     "text": [
      "[I 2024-01-10 11:41:39,701] Trial 23 finished with value: 0.1322224628490435 and parameters: {'alpha': 0.21851323665694558, 'l1_ratio': 0.00010813893519379583, 'topK': 4381}. Best is trial 13 with value: 0.16092181855030718.\n"
     ]
    },
    {
     "name": "stdout",
     "output_type": "stream",
     "text": [
      "SLIMElasticNetRecommender: URM Detected 508 ( 4.0%) users with no interactions.\n",
      "SLIMElasticNetRecommender: URM Detected 332 ( 1.5%) items with no interactions.\n"
     ]
    },
    {
     "name": "stderr",
     "output_type": "stream",
     "text": [
      "100%|█████████▉| 22216/22222 [00:30<00:00, 722.98it/s] \n"
     ]
    },
    {
     "name": "stdout",
     "output_type": "stream",
     "text": [
      "EvaluatorHoldout: Processed 10057 (100.0%) in 4.55 sec. Users per second: 2211\n",
      "SLIMElasticNetRecommender: URM Detected 440 ( 3.5%) users with no interactions.\n",
      "SLIMElasticNetRecommender: URM Detected 325 ( 1.5%) items with no interactions.\n"
     ]
    },
    {
     "name": "stderr",
     "output_type": "stream",
     "text": [
      "100%|█████████▉| 22216/22222 [00:32<00:00, 688.27it/s] \n"
     ]
    },
    {
     "name": "stdout",
     "output_type": "stream",
     "text": [
      "EvaluatorHoldout: Processed 10040 (100.0%) in 4.61 sec. Users per second: 2177\n",
      "SLIMElasticNetRecommender: URM Detected 479 ( 3.8%) users with no interactions.\n",
      "SLIMElasticNetRecommender: URM Detected 345 ( 1.6%) items with no interactions.\n"
     ]
    },
    {
     "name": "stderr",
     "output_type": "stream",
     "text": [
      "100%|█████████▉| 22216/22222 [00:31<00:00, 699.31it/s] \n"
     ]
    },
    {
     "name": "stdout",
     "output_type": "stream",
     "text": [
      "EvaluatorHoldout: Processed 10017 (100.0%) in 4.51 sec. Users per second: 2222\n",
      "SLIMElasticNetRecommender: URM Detected 451 ( 3.6%) users with no interactions.\n",
      "SLIMElasticNetRecommender: URM Detected 311 ( 1.4%) items with no interactions.\n"
     ]
    },
    {
     "name": "stderr",
     "output_type": "stream",
     "text": [
      "100%|█████████▉| 22216/22222 [00:32<00:00, 690.43it/s]\n"
     ]
    },
    {
     "name": "stdout",
     "output_type": "stream",
     "text": [
      "EvaluatorHoldout: Processed 10037 (100.0%) in 6.16 sec. Users per second: 1630\n",
      "SLIMElasticNetRecommender: URM Detected 449 ( 3.6%) users with no interactions.\n",
      "SLIMElasticNetRecommender: URM Detected 320 ( 1.4%) items with no interactions.\n"
     ]
    },
    {
     "name": "stderr",
     "output_type": "stream",
     "text": [
      "100%|█████████▉| 22216/22222 [00:46<00:00, 476.43it/s]\n"
     ]
    },
    {
     "name": "stdout",
     "output_type": "stream",
     "text": [
      "EvaluatorHoldout: Processed 9989 (100.0%) in 6.07 sec. Users per second: 1645\n",
      "SLIMElasticNetRecommender: URM Detected 460 ( 3.6%) users with no interactions.\n",
      "SLIMElasticNetRecommender: URM Detected 328 ( 1.5%) items with no interactions.\n"
     ]
    },
    {
     "name": "stderr",
     "output_type": "stream",
     "text": [
      "100%|█████████▉| 22216/22222 [00:38<00:00, 575.08it/s]\n"
     ]
    },
    {
     "name": "stdout",
     "output_type": "stream",
     "text": [
      "EvaluatorHoldout: Processed 10024 (100.0%) in 6.15 sec. Users per second: 1630\n",
      "SLIMElasticNetRecommender: URM Detected 426 ( 3.4%) users with no interactions.\n",
      "SLIMElasticNetRecommender: URM Detected 344 ( 1.5%) items with no interactions.\n"
     ]
    },
    {
     "name": "stderr",
     "output_type": "stream",
     "text": [
      "100%|█████████▉| 22216/22222 [00:45<00:00, 490.53it/s]\n"
     ]
    },
    {
     "name": "stdout",
     "output_type": "stream",
     "text": [
      "EvaluatorHoldout: Processed 10030 (100.0%) in 4.74 sec. Users per second: 2117\n",
      "SLIMElasticNetRecommender: URM Detected 471 ( 3.7%) users with no interactions.\n",
      "SLIMElasticNetRecommender: URM Detected 362 ( 1.6%) items with no interactions.\n"
     ]
    },
    {
     "name": "stderr",
     "output_type": "stream",
     "text": [
      "100%|█████████▉| 22216/22222 [00:41<00:00, 535.29it/s]\n"
     ]
    },
    {
     "name": "stdout",
     "output_type": "stream",
     "text": [
      "EvaluatorHoldout: Processed 10052 (100.0%) in 6.26 sec. Users per second: 1606\n",
      "SLIMElasticNetRecommender: URM Detected 478 ( 3.8%) users with no interactions.\n",
      "SLIMElasticNetRecommender: URM Detected 329 ( 1.5%) items with no interactions.\n"
     ]
    },
    {
     "name": "stderr",
     "output_type": "stream",
     "text": [
      "100%|█████████▉| 22216/22222 [00:40<00:00, 542.11it/s]\n"
     ]
    },
    {
     "name": "stdout",
     "output_type": "stream",
     "text": [
      "EvaluatorHoldout: Processed 10045 (100.0%) in 5.29 sec. Users per second: 1901\n",
      "SLIMElasticNetRecommender: URM Detected 460 ( 3.6%) users with no interactions.\n",
      "SLIMElasticNetRecommender: URM Detected 348 ( 1.6%) items with no interactions.\n"
     ]
    },
    {
     "name": "stderr",
     "output_type": "stream",
     "text": [
      "100%|█████████▉| 22216/22222 [00:44<00:00, 502.94it/s]\n"
     ]
    },
    {
     "name": "stdout",
     "output_type": "stream",
     "text": [
      "EvaluatorHoldout: Processed 10068 (100.0%) in 6.03 sec. Users per second: 1668\n"
     ]
    },
    {
     "name": "stderr",
     "output_type": "stream",
     "text": [
      "[I 2024-01-10 11:49:11,963] Trial 25 finished with value: 0.15212355336930314 and parameters: {'alpha': 0.03425951355537788, 'l1_ratio': 0.002498203404926776, 'topK': 2918}. Best is trial 13 with value: 0.16092181855030718.\n"
     ]
    },
    {
     "name": "stdout",
     "output_type": "stream",
     "text": [
      "SLIMElasticNetRecommender: URM Detected 508 ( 4.0%) users with no interactions.\n",
      "SLIMElasticNetRecommender: URM Detected 332 ( 1.5%) items with no interactions.\n"
     ]
    },
    {
     "name": "stderr",
     "output_type": "stream",
     "text": [
      "100%|█████████▉| 22216/22222 [00:15<00:00, 1458.09it/s]\n"
     ]
    },
    {
     "name": "stdout",
     "output_type": "stream",
     "text": [
      "EvaluatorHoldout: Processed 10057 (100.0%) in 3.55 sec. Users per second: 2833\n",
      "SLIMElasticNetRecommender: URM Detected 440 ( 3.5%) users with no interactions.\n",
      "SLIMElasticNetRecommender: URM Detected 325 ( 1.5%) items with no interactions.\n"
     ]
    },
    {
     "name": "stderr",
     "output_type": "stream",
     "text": [
      "100%|█████████▉| 22216/22222 [00:19<00:00, 1137.45it/s]\n"
     ]
    },
    {
     "name": "stdout",
     "output_type": "stream",
     "text": [
      "EvaluatorHoldout: Processed 10040 (100.0%) in 3.43 sec. Users per second: 2924\n",
      "SLIMElasticNetRecommender: URM Detected 479 ( 3.8%) users with no interactions.\n",
      "SLIMElasticNetRecommender: URM Detected 345 ( 1.6%) items with no interactions.\n"
     ]
    },
    {
     "name": "stderr",
     "output_type": "stream",
     "text": [
      "100%|█████████▉| 22216/22222 [00:19<00:00, 1141.29it/s]\n"
     ]
    },
    {
     "name": "stdout",
     "output_type": "stream",
     "text": [
      "EvaluatorHoldout: Processed 10017 (100.0%) in 3.24 sec. Users per second: 3092\n",
      "SLIMElasticNetRecommender: URM Detected 451 ( 3.6%) users with no interactions.\n",
      "SLIMElasticNetRecommender: URM Detected 311 ( 1.4%) items with no interactions.\n"
     ]
    },
    {
     "name": "stderr",
     "output_type": "stream",
     "text": [
      "100%|█████████▉| 22216/22222 [00:14<00:00, 1549.32it/s]\n"
     ]
    },
    {
     "name": "stdout",
     "output_type": "stream",
     "text": [
      "EvaluatorHoldout: Processed 10037 (100.0%) in 2.43 sec. Users per second: 4126\n",
      "SLIMElasticNetRecommender: URM Detected 449 ( 3.6%) users with no interactions.\n",
      "SLIMElasticNetRecommender: URM Detected 320 ( 1.4%) items with no interactions.\n"
     ]
    },
    {
     "name": "stderr",
     "output_type": "stream",
     "text": [
      "100%|█████████▉| 22216/22222 [00:16<00:00, 1346.77it/s]\n"
     ]
    },
    {
     "name": "stdout",
     "output_type": "stream",
     "text": [
      "EvaluatorHoldout: Processed 9989 (100.0%) in 3.47 sec. Users per second: 2883\n",
      "SLIMElasticNetRecommender: URM Detected 460 ( 3.6%) users with no interactions.\n",
      "SLIMElasticNetRecommender: URM Detected 328 ( 1.5%) items with no interactions.\n"
     ]
    },
    {
     "name": "stderr",
     "output_type": "stream",
     "text": [
      "100%|█████████▉| 22216/22222 [00:19<00:00, 1161.02it/s]\n"
     ]
    },
    {
     "name": "stdout",
     "output_type": "stream",
     "text": [
      "EvaluatorHoldout: Processed 10024 (100.0%) in 3.42 sec. Users per second: 2931\n",
      "SLIMElasticNetRecommender: URM Detected 426 ( 3.4%) users with no interactions.\n",
      "SLIMElasticNetRecommender: URM Detected 344 ( 1.5%) items with no interactions.\n"
     ]
    },
    {
     "name": "stderr",
     "output_type": "stream",
     "text": [
      "100%|█████████▉| 22216/22222 [00:19<00:00, 1113.38it/s]\n"
     ]
    },
    {
     "name": "stdout",
     "output_type": "stream",
     "text": [
      "EvaluatorHoldout: Processed 10030 (100.0%) in 3.52 sec. Users per second: 2851\n",
      "SLIMElasticNetRecommender: URM Detected 471 ( 3.7%) users with no interactions.\n",
      "SLIMElasticNetRecommender: URM Detected 362 ( 1.6%) items with no interactions.\n"
     ]
    },
    {
     "name": "stderr",
     "output_type": "stream",
     "text": [
      "100%|█████████▉| 22216/22222 [00:15<00:00, 1408.77it/s]\n"
     ]
    },
    {
     "name": "stdout",
     "output_type": "stream",
     "text": [
      "EvaluatorHoldout: Processed 10052 (100.0%) in 2.43 sec. Users per second: 4130\n",
      "SLIMElasticNetRecommender: URM Detected 478 ( 3.8%) users with no interactions.\n",
      "SLIMElasticNetRecommender: URM Detected 329 ( 1.5%) items with no interactions.\n"
     ]
    },
    {
     "name": "stderr",
     "output_type": "stream",
     "text": [
      "100%|█████████▉| 22216/22222 [00:16<00:00, 1310.25it/s]\n"
     ]
    },
    {
     "name": "stdout",
     "output_type": "stream",
     "text": [
      "EvaluatorHoldout: Processed 10045 (100.0%) in 3.49 sec. Users per second: 2880\n",
      "SLIMElasticNetRecommender: URM Detected 460 ( 3.6%) users with no interactions.\n",
      "SLIMElasticNetRecommender: URM Detected 348 ( 1.6%) items with no interactions.\n"
     ]
    },
    {
     "name": "stderr",
     "output_type": "stream",
     "text": [
      "100%|█████████▉| 22216/22222 [00:19<00:00, 1122.29it/s]\n"
     ]
    },
    {
     "name": "stdout",
     "output_type": "stream",
     "text": [
      "EvaluatorHoldout: Processed 10068 (100.0%) in 3.45 sec. Users per second: 2917\n"
     ]
    },
    {
     "name": "stderr",
     "output_type": "stream",
     "text": [
      "[I 2024-01-10 11:52:54,538] Trial 26 finished with value: 0.09406727726071014 and parameters: {'alpha': 0.16776258519677678, 'l1_ratio': 0.01593762220487775, 'topK': 4962}. Best is trial 13 with value: 0.16092181855030718.\n"
     ]
    },
    {
     "name": "stdout",
     "output_type": "stream",
     "text": [
      "SLIMElasticNetRecommender: URM Detected 508 ( 4.0%) users with no interactions.\n",
      "SLIMElasticNetRecommender: URM Detected 332 ( 1.5%) items with no interactions.\n"
     ]
    },
    {
     "name": "stderr",
     "output_type": "stream",
     "text": [
      "100%|█████████▉| 22216/22222 [00:25<00:00, 886.25it/s] \n"
     ]
    },
    {
     "name": "stdout",
     "output_type": "stream",
     "text": [
      "EvaluatorHoldout: Processed 10057 (100.0%) in 4.94 sec. Users per second: 2035\n",
      "SLIMElasticNetRecommender: URM Detected 440 ( 3.5%) users with no interactions.\n",
      "SLIMElasticNetRecommender: URM Detected 325 ( 1.5%) items with no interactions.\n"
     ]
    },
    {
     "name": "stderr",
     "output_type": "stream",
     "text": [
      "100%|█████████▉| 22216/22222 [00:29<00:00, 744.26it/s] \n"
     ]
    },
    {
     "name": "stdout",
     "output_type": "stream",
     "text": [
      "EvaluatorHoldout: Processed 10040 (100.0%) in 4.58 sec. Users per second: 2191\n",
      "SLIMElasticNetRecommender: URM Detected 479 ( 3.8%) users with no interactions.\n",
      "SLIMElasticNetRecommender: URM Detected 345 ( 1.6%) items with no interactions.\n"
     ]
    },
    {
     "name": "stderr",
     "output_type": "stream",
     "text": [
      "100%|█████████▉| 22216/22222 [00:29<00:00, 748.58it/s] \n"
     ]
    },
    {
     "name": "stdout",
     "output_type": "stream",
     "text": [
      "EvaluatorHoldout: Processed 10017 (100.0%) in 3.73 sec. Users per second: 2686\n",
      "SLIMElasticNetRecommender: URM Detected 451 ( 3.6%) users with no interactions.\n",
      "SLIMElasticNetRecommender: URM Detected 311 ( 1.4%) items with no interactions.\n"
     ]
    },
    {
     "name": "stderr",
     "output_type": "stream",
     "text": [
      "100%|█████████▉| 22216/22222 [00:30<00:00, 732.87it/s] \n"
     ]
    },
    {
     "name": "stdout",
     "output_type": "stream",
     "text": [
      "EvaluatorHoldout: Processed 10037 (100.0%) in 4.97 sec. Users per second: 2022\n",
      "SLIMElasticNetRecommender: URM Detected 449 ( 3.6%) users with no interactions.\n",
      "SLIMElasticNetRecommender: URM Detected 320 ( 1.4%) items with no interactions.\n"
     ]
    },
    {
     "name": "stderr",
     "output_type": "stream",
     "text": [
      "100%|█████████▉| 22216/22222 [00:30<00:00, 726.41it/s] \n"
     ]
    },
    {
     "name": "stdout",
     "output_type": "stream",
     "text": [
      "EvaluatorHoldout: Processed 9989 (100.0%) in 4.05 sec. Users per second: 2467\n",
      "SLIMElasticNetRecommender: URM Detected 460 ( 3.6%) users with no interactions.\n",
      "SLIMElasticNetRecommender: URM Detected 328 ( 1.5%) items with no interactions.\n"
     ]
    },
    {
     "name": "stderr",
     "output_type": "stream",
     "text": [
      "100%|█████████▉| 22216/22222 [00:26<00:00, 849.15it/s] \n"
     ]
    },
    {
     "name": "stdout",
     "output_type": "stream",
     "text": [
      "EvaluatorHoldout: Processed 10024 (100.0%) in 4.86 sec. Users per second: 2064\n",
      "SLIMElasticNetRecommender: URM Detected 426 ( 3.4%) users with no interactions.\n",
      "SLIMElasticNetRecommender: URM Detected 344 ( 1.5%) items with no interactions.\n"
     ]
    },
    {
     "name": "stderr",
     "output_type": "stream",
     "text": [
      "100%|█████████▉| 22216/22222 [00:32<00:00, 689.28it/s] \n"
     ]
    },
    {
     "name": "stdout",
     "output_type": "stream",
     "text": [
      "EvaluatorHoldout: Processed 10030 (100.0%) in 5.02 sec. Users per second: 1996\n",
      "SLIMElasticNetRecommender: URM Detected 471 ( 3.7%) users with no interactions.\n",
      "SLIMElasticNetRecommender: URM Detected 362 ( 1.6%) items with no interactions.\n"
     ]
    },
    {
     "name": "stderr",
     "output_type": "stream",
     "text": [
      "100%|█████████▉| 22216/22222 [00:25<00:00, 879.74it/s] \n"
     ]
    },
    {
     "name": "stdout",
     "output_type": "stream",
     "text": [
      "EvaluatorHoldout: Processed 10052 (100.0%) in 3.55 sec. Users per second: 2834\n",
      "SLIMElasticNetRecommender: URM Detected 478 ( 3.8%) users with no interactions.\n",
      "SLIMElasticNetRecommender: URM Detected 329 ( 1.5%) items with no interactions.\n"
     ]
    },
    {
     "name": "stderr",
     "output_type": "stream",
     "text": [
      "100%|█████████▉| 22216/22222 [00:22<00:00, 997.67it/s] \n"
     ]
    },
    {
     "name": "stdout",
     "output_type": "stream",
     "text": [
      "EvaluatorHoldout: Processed 10045 (100.0%) in 3.69 sec. Users per second: 2724\n",
      "SLIMElasticNetRecommender: URM Detected 460 ( 3.6%) users with no interactions.\n",
      "SLIMElasticNetRecommender: URM Detected 348 ( 1.6%) items with no interactions.\n"
     ]
    },
    {
     "name": "stderr",
     "output_type": "stream",
     "text": [
      "100%|█████████▉| 22216/22222 [00:23<00:00, 956.47it/s] \n"
     ]
    },
    {
     "name": "stdout",
     "output_type": "stream",
     "text": [
      "EvaluatorHoldout: Processed 10068 (100.0%) in 3.70 sec. Users per second: 2723\n"
     ]
    },
    {
     "name": "stderr",
     "output_type": "stream",
     "text": [
      "[I 2024-01-10 11:58:25,648] Trial 28 finished with value: 0.13830775298376924 and parameters: {'alpha': 0.09849102883484279, 'l1_ratio': 0.0022728574596374384, 'topK': 1255}. Best is trial 13 with value: 0.16092181855030718.\n"
     ]
    },
    {
     "name": "stdout",
     "output_type": "stream",
     "text": [
      "SLIMElasticNetRecommender: URM Detected 508 ( 4.0%) users with no interactions.\n",
      "SLIMElasticNetRecommender: URM Detected 332 ( 1.5%) items with no interactions.\n"
     ]
    },
    {
     "name": "stderr",
     "output_type": "stream",
     "text": [
      "100%|█████████▉| 22216/22222 [00:52<00:00, 424.32it/s]\n"
     ]
    },
    {
     "name": "stdout",
     "output_type": "stream",
     "text": [
      "EvaluatorHoldout: Processed 10057 (100.0%) in 6.28 sec. Users per second: 1602\n",
      "SLIMElasticNetRecommender: URM Detected 440 ( 3.5%) users with no interactions.\n",
      "SLIMElasticNetRecommender: URM Detected 325 ( 1.5%) items with no interactions.\n"
     ]
    },
    {
     "name": "stderr",
     "output_type": "stream",
     "text": [
      "100%|█████████▉| 22216/22222 [00:53<00:00, 414.51it/s]\n"
     ]
    },
    {
     "name": "stdout",
     "output_type": "stream",
     "text": [
      "EvaluatorHoldout: Processed 10040 (100.0%) in 5.66 sec. Users per second: 1774\n",
      "SLIMElasticNetRecommender: URM Detected 479 ( 3.8%) users with no interactions.\n",
      "SLIMElasticNetRecommender: URM Detected 345 ( 1.6%) items with no interactions.\n"
     ]
    },
    {
     "name": "stderr",
     "output_type": "stream",
     "text": [
      "100%|█████████▉| 22216/22222 [00:53<00:00, 413.23it/s]\n"
     ]
    },
    {
     "name": "stdout",
     "output_type": "stream",
     "text": [
      "EvaluatorHoldout: Processed 10017 (100.0%) in 6.24 sec. Users per second: 1606\n",
      "SLIMElasticNetRecommender: URM Detected 451 ( 3.6%) users with no interactions.\n",
      "SLIMElasticNetRecommender: URM Detected 311 ( 1.4%) items with no interactions.\n"
     ]
    },
    {
     "name": "stderr",
     "output_type": "stream",
     "text": [
      "100%|█████████▉| 22216/22222 [00:51<00:00, 434.61it/s]\n"
     ]
    },
    {
     "name": "stdout",
     "output_type": "stream",
     "text": [
      "EvaluatorHoldout: Processed 10037 (100.0%) in 5.67 sec. Users per second: 1771\n",
      "SLIMElasticNetRecommender: URM Detected 449 ( 3.6%) users with no interactions.\n",
      "SLIMElasticNetRecommender: URM Detected 320 ( 1.4%) items with no interactions.\n"
     ]
    },
    {
     "name": "stderr",
     "output_type": "stream",
     "text": [
      "100%|█████████▉| 22216/22222 [00:52<00:00, 421.40it/s]\n"
     ]
    },
    {
     "name": "stdout",
     "output_type": "stream",
     "text": [
      "EvaluatorHoldout: Processed 9989 (100.0%) in 5.99 sec. Users per second: 1668\n",
      "SLIMElasticNetRecommender: URM Detected 460 ( 3.6%) users with no interactions.\n",
      "SLIMElasticNetRecommender: URM Detected 328 ( 1.5%) items with no interactions.\n"
     ]
    },
    {
     "name": "stderr",
     "output_type": "stream",
     "text": [
      "100%|█████████▉| 22216/22222 [00:53<00:00, 416.53it/s]\n"
     ]
    },
    {
     "name": "stdout",
     "output_type": "stream",
     "text": [
      "EvaluatorHoldout: Processed 10024 (100.0%) in 6.08 sec. Users per second: 1650\n",
      "SLIMElasticNetRecommender: URM Detected 426 ( 3.4%) users with no interactions.\n",
      "SLIMElasticNetRecommender: URM Detected 344 ( 1.5%) items with no interactions.\n"
     ]
    },
    {
     "name": "stderr",
     "output_type": "stream",
     "text": [
      "100%|█████████▉| 22216/22222 [00:52<00:00, 420.91it/s]\n"
     ]
    },
    {
     "name": "stdout",
     "output_type": "stream",
     "text": [
      "EvaluatorHoldout: Processed 10030 (100.0%) in 5.96 sec. Users per second: 1682\n",
      "SLIMElasticNetRecommender: URM Detected 471 ( 3.7%) users with no interactions.\n",
      "SLIMElasticNetRecommender: URM Detected 362 ( 1.6%) items with no interactions.\n"
     ]
    },
    {
     "name": "stderr",
     "output_type": "stream",
     "text": [
      "100%|█████████▉| 22216/22222 [00:53<00:00, 417.53it/s]\n"
     ]
    },
    {
     "name": "stdout",
     "output_type": "stream",
     "text": [
      "EvaluatorHoldout: Processed 10052 (100.0%) in 5.78 sec. Users per second: 1739\n",
      "SLIMElasticNetRecommender: URM Detected 478 ( 3.8%) users with no interactions.\n",
      "SLIMElasticNetRecommender: URM Detected 329 ( 1.5%) items with no interactions.\n"
     ]
    },
    {
     "name": "stderr",
     "output_type": "stream",
     "text": [
      "100%|█████████▉| 22216/22222 [00:52<00:00, 423.64it/s]\n"
     ]
    },
    {
     "name": "stdout",
     "output_type": "stream",
     "text": [
      "EvaluatorHoldout: Processed 10045 (100.0%) in 5.86 sec. Users per second: 1715\n",
      "SLIMElasticNetRecommender: URM Detected 460 ( 3.6%) users with no interactions.\n",
      "SLIMElasticNetRecommender: URM Detected 348 ( 1.6%) items with no interactions.\n"
     ]
    },
    {
     "name": "stderr",
     "output_type": "stream",
     "text": [
      "100%|█████████▉| 22216/22222 [00:51<00:00, 428.02it/s]\n"
     ]
    },
    {
     "name": "stdout",
     "output_type": "stream",
     "text": [
      "EvaluatorHoldout: Processed 10068 (100.0%) in 6.37 sec. Users per second: 1580\n"
     ]
    },
    {
     "name": "stderr",
     "output_type": "stream",
     "text": [
      "[I 2024-01-10 12:08:28,469] Trial 29 finished with value: 0.15858387710504687 and parameters: {'alpha': 0.02112812779264591, 'l1_ratio': 0.00011609475414083933, 'topK': 3035}. Best is trial 13 with value: 0.16092181855030718.\n"
     ]
    },
    {
     "name": "stdout",
     "output_type": "stream",
     "text": [
      "SLIMElasticNetRecommender: URM Detected 508 ( 4.0%) users with no interactions.\n",
      "SLIMElasticNetRecommender: URM Detected 332 ( 1.5%) items with no interactions.\n"
     ]
    },
    {
     "name": "stderr",
     "output_type": "stream",
     "text": [
      "100%|█████████▉| 22216/22222 [00:48<00:00, 459.73it/s]\n"
     ]
    },
    {
     "name": "stdout",
     "output_type": "stream",
     "text": [
      "EvaluatorHoldout: Processed 10057 (100.0%) in 6.70 sec. Users per second: 1501\n",
      "SLIMElasticNetRecommender: URM Detected 440 ( 3.5%) users with no interactions.\n",
      "SLIMElasticNetRecommender: URM Detected 325 ( 1.5%) items with no interactions.\n"
     ]
    },
    {
     "name": "stderr",
     "output_type": "stream",
     "text": [
      "100%|█████████▉| 22216/22222 [00:49<00:00, 452.86it/s]\n"
     ]
    },
    {
     "name": "stdout",
     "output_type": "stream",
     "text": [
      "EvaluatorHoldout: Processed 10040 (100.0%) in 6.74 sec. Users per second: 1489\n",
      "SLIMElasticNetRecommender: URM Detected 479 ( 3.8%) users with no interactions.\n",
      "SLIMElasticNetRecommender: URM Detected 345 ( 1.6%) items with no interactions.\n"
     ]
    },
    {
     "name": "stderr",
     "output_type": "stream",
     "text": [
      "100%|█████████▉| 22216/22222 [00:48<00:00, 459.69it/s]\n"
     ]
    },
    {
     "name": "stdout",
     "output_type": "stream",
     "text": [
      "EvaluatorHoldout: Processed 10017 (100.0%) in 6.99 sec. Users per second: 1432\n",
      "SLIMElasticNetRecommender: URM Detected 451 ( 3.6%) users with no interactions.\n",
      "SLIMElasticNetRecommender: URM Detected 311 ( 1.4%) items with no interactions.\n"
     ]
    },
    {
     "name": "stderr",
     "output_type": "stream",
     "text": [
      "100%|█████████▉| 22216/22222 [00:48<00:00, 455.04it/s]\n"
     ]
    },
    {
     "name": "stdout",
     "output_type": "stream",
     "text": [
      "EvaluatorHoldout: Processed 10037 (100.0%) in 6.37 sec. Users per second: 1576\n",
      "SLIMElasticNetRecommender: URM Detected 449 ( 3.6%) users with no interactions.\n",
      "SLIMElasticNetRecommender: URM Detected 320 ( 1.4%) items with no interactions.\n"
     ]
    },
    {
     "name": "stderr",
     "output_type": "stream",
     "text": [
      "100%|█████████▉| 22216/22222 [00:48<00:00, 458.01it/s]\n"
     ]
    },
    {
     "name": "stdout",
     "output_type": "stream",
     "text": [
      "EvaluatorHoldout: Processed 9989 (100.0%) in 7.11 sec. Users per second: 1404\n",
      "SLIMElasticNetRecommender: URM Detected 460 ( 3.6%) users with no interactions.\n",
      "SLIMElasticNetRecommender: URM Detected 328 ( 1.5%) items with no interactions.\n"
     ]
    },
    {
     "name": "stderr",
     "output_type": "stream",
     "text": [
      "100%|█████████▉| 22216/22222 [00:48<00:00, 460.51it/s]\n"
     ]
    },
    {
     "name": "stdout",
     "output_type": "stream",
     "text": [
      "EvaluatorHoldout: Processed 10024 (100.0%) in 6.86 sec. Users per second: 1462\n",
      "SLIMElasticNetRecommender: URM Detected 426 ( 3.4%) users with no interactions.\n",
      "SLIMElasticNetRecommender: URM Detected 344 ( 1.5%) items with no interactions.\n"
     ]
    },
    {
     "name": "stderr",
     "output_type": "stream",
     "text": [
      "100%|█████████▉| 22216/22222 [00:49<00:00, 445.75it/s]\n"
     ]
    },
    {
     "name": "stdout",
     "output_type": "stream",
     "text": [
      "EvaluatorHoldout: Processed 10030 (100.0%) in 6.93 sec. Users per second: 1447\n",
      "SLIMElasticNetRecommender: URM Detected 471 ( 3.7%) users with no interactions.\n",
      "SLIMElasticNetRecommender: URM Detected 362 ( 1.6%) items with no interactions.\n"
     ]
    },
    {
     "name": "stderr",
     "output_type": "stream",
     "text": [
      "100%|█████████▉| 22216/22222 [00:48<00:00, 462.73it/s]\n"
     ]
    },
    {
     "name": "stdout",
     "output_type": "stream",
     "text": [
      "EvaluatorHoldout: Processed 10052 (100.0%) in 6.87 sec. Users per second: 1464\n",
      "SLIMElasticNetRecommender: URM Detected 478 ( 3.8%) users with no interactions.\n",
      "SLIMElasticNetRecommender: URM Detected 329 ( 1.5%) items with no interactions.\n"
     ]
    },
    {
     "name": "stderr",
     "output_type": "stream",
     "text": [
      "100%|█████████▉| 22216/22222 [00:48<00:00, 454.49it/s]\n"
     ]
    },
    {
     "name": "stdout",
     "output_type": "stream",
     "text": [
      "EvaluatorHoldout: Processed 10045 (100.0%) in 7.10 sec. Users per second: 1416\n",
      "SLIMElasticNetRecommender: URM Detected 460 ( 3.6%) users with no interactions.\n",
      "SLIMElasticNetRecommender: URM Detected 348 ( 1.6%) items with no interactions.\n"
     ]
    },
    {
     "name": "stderr",
     "output_type": "stream",
     "text": [
      "100%|█████████▉| 22216/22222 [00:50<00:00, 443.83it/s]\n"
     ]
    },
    {
     "name": "stdout",
     "output_type": "stream",
     "text": [
      "EvaluatorHoldout: Processed 10068 (100.0%) in 7.16 sec. Users per second: 1405\n"
     ]
    },
    {
     "name": "stderr",
     "output_type": "stream",
     "text": [
      "[I 2024-01-10 12:18:01,216] Trial 31 finished with value: 0.1311392814952589 and parameters: {'alpha': 0.2524900825665737, 'l1_ratio': 0.00012862205936167728, 'topK': 1666}. Best is trial 13 with value: 0.16092181855030718.\n"
     ]
    },
    {
     "name": "stdout",
     "output_type": "stream",
     "text": [
      "SLIMElasticNetRecommender: URM Detected 508 ( 4.0%) users with no interactions.\n",
      "SLIMElasticNetRecommender: URM Detected 332 ( 1.5%) items with no interactions.\n"
     ]
    },
    {
     "name": "stderr",
     "output_type": "stream",
     "text": [
      "100%|█████████▉| 22216/22222 [00:50<00:00, 436.01it/s]\n"
     ]
    },
    {
     "name": "stdout",
     "output_type": "stream",
     "text": [
      "EvaluatorHoldout: Processed 10057 (100.0%) in 6.94 sec. Users per second: 1448\n",
      "SLIMElasticNetRecommender: URM Detected 440 ( 3.5%) users with no interactions.\n",
      "SLIMElasticNetRecommender: URM Detected 325 ( 1.5%) items with no interactions.\n"
     ]
    },
    {
     "name": "stderr",
     "output_type": "stream",
     "text": [
      "100%|█████████▉| 22216/22222 [00:52<00:00, 423.42it/s]\n"
     ]
    },
    {
     "name": "stdout",
     "output_type": "stream",
     "text": [
      "EvaluatorHoldout: Processed 10040 (100.0%) in 6.76 sec. Users per second: 1485\n",
      "SLIMElasticNetRecommender: URM Detected 479 ( 3.8%) users with no interactions.\n",
      "SLIMElasticNetRecommender: URM Detected 345 ( 1.6%) items with no interactions.\n"
     ]
    },
    {
     "name": "stderr",
     "output_type": "stream",
     "text": [
      "100%|█████████▉| 22216/22222 [00:53<00:00, 413.14it/s]\n"
     ]
    },
    {
     "name": "stdout",
     "output_type": "stream",
     "text": [
      "EvaluatorHoldout: Processed 10017 (100.0%) in 6.84 sec. Users per second: 1465\n",
      "SLIMElasticNetRecommender: URM Detected 451 ( 3.6%) users with no interactions.\n",
      "SLIMElasticNetRecommender: URM Detected 311 ( 1.4%) items with no interactions.\n"
     ]
    },
    {
     "name": "stderr",
     "output_type": "stream",
     "text": [
      "100%|█████████▉| 22216/22222 [00:51<00:00, 435.17it/s]\n"
     ]
    },
    {
     "name": "stdout",
     "output_type": "stream",
     "text": [
      "EvaluatorHoldout: Processed 10037 (100.0%) in 6.93 sec. Users per second: 1448\n",
      "SLIMElasticNetRecommender: URM Detected 449 ( 3.6%) users with no interactions.\n",
      "SLIMElasticNetRecommender: URM Detected 320 ( 1.4%) items with no interactions.\n"
     ]
    },
    {
     "name": "stderr",
     "output_type": "stream",
     "text": [
      "100%|█████████▉| 22216/22222 [00:51<00:00, 429.92it/s]\n"
     ]
    },
    {
     "name": "stdout",
     "output_type": "stream",
     "text": [
      "EvaluatorHoldout: Processed 9989 (100.0%) in 7.10 sec. Users per second: 1407\n",
      "SLIMElasticNetRecommender: URM Detected 460 ( 3.6%) users with no interactions.\n",
      "SLIMElasticNetRecommender: URM Detected 328 ( 1.5%) items with no interactions.\n"
     ]
    },
    {
     "name": "stderr",
     "output_type": "stream",
     "text": [
      "100%|█████████▉| 22216/22222 [00:53<00:00, 418.81it/s]\n"
     ]
    },
    {
     "name": "stdout",
     "output_type": "stream",
     "text": [
      "EvaluatorHoldout: Processed 10024 (100.0%) in 6.77 sec. Users per second: 1480\n",
      "SLIMElasticNetRecommender: URM Detected 426 ( 3.4%) users with no interactions.\n",
      "SLIMElasticNetRecommender: URM Detected 344 ( 1.5%) items with no interactions.\n"
     ]
    },
    {
     "name": "stderr",
     "output_type": "stream",
     "text": [
      "100%|█████████▉| 22216/22222 [00:52<00:00, 421.70it/s]\n"
     ]
    },
    {
     "name": "stdout",
     "output_type": "stream",
     "text": [
      "EvaluatorHoldout: Processed 10030 (100.0%) in 6.78 sec. Users per second: 1480\n",
      "SLIMElasticNetRecommender: URM Detected 471 ( 3.7%) users with no interactions.\n",
      "SLIMElasticNetRecommender: URM Detected 362 ( 1.6%) items with no interactions.\n"
     ]
    },
    {
     "name": "stderr",
     "output_type": "stream",
     "text": [
      "100%|█████████▉| 22216/22222 [00:50<00:00, 436.21it/s]\n"
     ]
    },
    {
     "name": "stdout",
     "output_type": "stream",
     "text": [
      "EvaluatorHoldout: Processed 10052 (100.0%) in 6.71 sec. Users per second: 1497\n",
      "SLIMElasticNetRecommender: URM Detected 478 ( 3.8%) users with no interactions.\n",
      "SLIMElasticNetRecommender: URM Detected 329 ( 1.5%) items with no interactions.\n"
     ]
    },
    {
     "name": "stderr",
     "output_type": "stream",
     "text": [
      "100%|█████████▉| 22216/22222 [00:51<00:00, 427.76it/s]\n"
     ]
    },
    {
     "name": "stdout",
     "output_type": "stream",
     "text": [
      "EvaluatorHoldout: Processed 10045 (100.0%) in 6.60 sec. Users per second: 1521\n",
      "SLIMElasticNetRecommender: URM Detected 460 ( 3.6%) users with no interactions.\n",
      "SLIMElasticNetRecommender: URM Detected 348 ( 1.6%) items with no interactions.\n"
     ]
    },
    {
     "name": "stderr",
     "output_type": "stream",
     "text": [
      "100%|█████████▉| 22216/22222 [00:53<00:00, 412.05it/s]\n"
     ]
    },
    {
     "name": "stdout",
     "output_type": "stream",
     "text": [
      "EvaluatorHoldout: Processed 10068 (100.0%) in 7.30 sec. Users per second: 1378\n"
     ]
    },
    {
     "name": "stderr",
     "output_type": "stream",
     "text": [
      "[I 2024-01-10 12:28:08,467] Trial 33 finished with value: 0.1405099683407309 and parameters: {'alpha': 0.11480743809968763, 'l1_ratio': 4.496672536049276e-05, 'topK': 6188}. Best is trial 13 with value: 0.16092181855030718.\n"
     ]
    },
    {
     "name": "stdout",
     "output_type": "stream",
     "text": [
      "SLIMElasticNetRecommender: URM Detected 508 ( 4.0%) users with no interactions.\n",
      "SLIMElasticNetRecommender: URM Detected 332 ( 1.5%) items with no interactions.\n"
     ]
    },
    {
     "name": "stderr",
     "output_type": "stream",
     "text": [
      "100%|█████████▉| 22216/22222 [00:52<00:00, 421.22it/s]\n"
     ]
    },
    {
     "name": "stdout",
     "output_type": "stream",
     "text": [
      "EvaluatorHoldout: Processed 10057 (100.0%) in 4.94 sec. Users per second: 2037\n",
      "SLIMElasticNetRecommender: URM Detected 440 ( 3.5%) users with no interactions.\n",
      "SLIMElasticNetRecommender: URM Detected 325 ( 1.5%) items with no interactions.\n"
     ]
    },
    {
     "name": "stderr",
     "output_type": "stream",
     "text": [
      "100%|█████████▉| 22216/22222 [00:53<00:00, 414.07it/s]\n"
     ]
    },
    {
     "name": "stdout",
     "output_type": "stream",
     "text": [
      "EvaluatorHoldout: Processed 10040 (100.0%) in 4.76 sec. Users per second: 2111\n",
      "SLIMElasticNetRecommender: URM Detected 479 ( 3.8%) users with no interactions.\n",
      "SLIMElasticNetRecommender: URM Detected 345 ( 1.6%) items with no interactions.\n"
     ]
    },
    {
     "name": "stderr",
     "output_type": "stream",
     "text": [
      "100%|█████████▉| 22216/22222 [00:54<00:00, 404.49it/s]\n"
     ]
    },
    {
     "name": "stdout",
     "output_type": "stream",
     "text": [
      "EvaluatorHoldout: Processed 10017 (100.0%) in 5.33 sec. Users per second: 1881\n",
      "SLIMElasticNetRecommender: URM Detected 451 ( 3.6%) users with no interactions.\n",
      "SLIMElasticNetRecommender: URM Detected 311 ( 1.4%) items with no interactions.\n"
     ]
    },
    {
     "name": "stderr",
     "output_type": "stream",
     "text": [
      "100%|█████████▉| 22216/22222 [00:53<00:00, 418.89it/s]\n"
     ]
    },
    {
     "name": "stdout",
     "output_type": "stream",
     "text": [
      "EvaluatorHoldout: Processed 10037 (100.0%) in 4.99 sec. Users per second: 2013\n",
      "SLIMElasticNetRecommender: URM Detected 449 ( 3.6%) users with no interactions.\n",
      "SLIMElasticNetRecommender: URM Detected 320 ( 1.4%) items with no interactions.\n"
     ]
    },
    {
     "name": "stderr",
     "output_type": "stream",
     "text": [
      "100%|█████████▉| 22216/22222 [00:49<00:00, 448.26it/s]\n"
     ]
    },
    {
     "name": "stdout",
     "output_type": "stream",
     "text": [
      "EvaluatorHoldout: Processed 9989 (100.0%) in 4.82 sec. Users per second: 2074\n",
      "SLIMElasticNetRecommender: URM Detected 460 ( 3.6%) users with no interactions.\n",
      "SLIMElasticNetRecommender: URM Detected 328 ( 1.5%) items with no interactions.\n"
     ]
    },
    {
     "name": "stderr",
     "output_type": "stream",
     "text": [
      "100%|█████████▉| 22216/22222 [00:53<00:00, 412.57it/s]\n"
     ]
    },
    {
     "name": "stdout",
     "output_type": "stream",
     "text": [
      "EvaluatorHoldout: Processed 10024 (100.0%) in 5.20 sec. Users per second: 1928\n",
      "SLIMElasticNetRecommender: URM Detected 426 ( 3.4%) users with no interactions.\n",
      "SLIMElasticNetRecommender: URM Detected 344 ( 1.5%) items with no interactions.\n"
     ]
    },
    {
     "name": "stderr",
     "output_type": "stream",
     "text": [
      "100%|█████████▉| 22216/22222 [00:55<00:00, 399.66it/s]\n"
     ]
    },
    {
     "name": "stdout",
     "output_type": "stream",
     "text": [
      "EvaluatorHoldout: Processed 10030 (100.0%) in 5.48 sec. Users per second: 1831\n",
      "SLIMElasticNetRecommender: URM Detected 471 ( 3.7%) users with no interactions.\n",
      "SLIMElasticNetRecommender: URM Detected 362 ( 1.6%) items with no interactions.\n"
     ]
    },
    {
     "name": "stderr",
     "output_type": "stream",
     "text": [
      "100%|█████████▉| 22216/22222 [00:54<00:00, 406.78it/s]\n"
     ]
    },
    {
     "name": "stdout",
     "output_type": "stream",
     "text": [
      "EvaluatorHoldout: Processed 10052 (100.0%) in 5.02 sec. Users per second: 2003\n",
      "SLIMElasticNetRecommender: URM Detected 478 ( 3.8%) users with no interactions.\n",
      "SLIMElasticNetRecommender: URM Detected 329 ( 1.5%) items with no interactions.\n"
     ]
    },
    {
     "name": "stderr",
     "output_type": "stream",
     "text": [
      "100%|█████████▉| 22216/22222 [00:51<00:00, 431.40it/s]\n"
     ]
    },
    {
     "name": "stdout",
     "output_type": "stream",
     "text": [
      "EvaluatorHoldout: Processed 10045 (100.0%) in 4.80 sec. Users per second: 2091\n",
      "SLIMElasticNetRecommender: URM Detected 460 ( 3.6%) users with no interactions.\n",
      "SLIMElasticNetRecommender: URM Detected 348 ( 1.6%) items with no interactions.\n"
     ]
    },
    {
     "name": "stderr",
     "output_type": "stream",
     "text": [
      "100%|█████████▉| 22216/22222 [00:53<00:00, 417.72it/s]\n"
     ]
    },
    {
     "name": "stdout",
     "output_type": "stream",
     "text": [
      "EvaluatorHoldout: Processed 10068 (100.0%) in 5.20 sec. Users per second: 1937\n"
     ]
    },
    {
     "name": "stderr",
     "output_type": "stream",
     "text": [
      "[I 2024-01-10 12:38:07,047] Trial 34 finished with value: 0.16035568547854012 and parameters: {'alpha': 0.0032595397693467774, 'l1_ratio': 0.0010891288461608527, 'topK': 3248}. Best is trial 13 with value: 0.16092181855030718.\n"
     ]
    },
    {
     "name": "stdout",
     "output_type": "stream",
     "text": [
      "SLIMElasticNetRecommender: URM Detected 508 ( 4.0%) users with no interactions.\n",
      "SLIMElasticNetRecommender: URM Detected 332 ( 1.5%) items with no interactions.\n"
     ]
    },
    {
     "name": "stderr",
     "output_type": "stream",
     "text": [
      "100%|█████████▉| 22216/22222 [00:51<00:00, 432.75it/s]\n"
     ]
    },
    {
     "name": "stdout",
     "output_type": "stream",
     "text": [
      "EvaluatorHoldout: Processed 10057 (100.0%) in 6.58 sec. Users per second: 1528\n",
      "SLIMElasticNetRecommender: URM Detected 440 ( 3.5%) users with no interactions.\n",
      "SLIMElasticNetRecommender: URM Detected 325 ( 1.5%) items with no interactions.\n"
     ]
    },
    {
     "name": "stderr",
     "output_type": "stream",
     "text": [
      "100%|█████████▉| 22216/22222 [00:50<00:00, 441.17it/s]\n"
     ]
    },
    {
     "name": "stdout",
     "output_type": "stream",
     "text": [
      "EvaluatorHoldout: Processed 10040 (100.0%) in 6.87 sec. Users per second: 1460\n",
      "SLIMElasticNetRecommender: URM Detected 479 ( 3.8%) users with no interactions.\n",
      "SLIMElasticNetRecommender: URM Detected 345 ( 1.6%) items with no interactions.\n"
     ]
    },
    {
     "name": "stderr",
     "output_type": "stream",
     "text": [
      "100%|█████████▉| 22216/22222 [00:50<00:00, 442.45it/s]\n"
     ]
    },
    {
     "name": "stdout",
     "output_type": "stream",
     "text": [
      "EvaluatorHoldout: Processed 10017 (100.0%) in 6.95 sec. Users per second: 1442\n",
      "SLIMElasticNetRecommender: URM Detected 451 ( 3.6%) users with no interactions.\n",
      "SLIMElasticNetRecommender: URM Detected 311 ( 1.4%) items with no interactions.\n"
     ]
    },
    {
     "name": "stderr",
     "output_type": "stream",
     "text": [
      "100%|█████████▉| 22216/22222 [00:50<00:00, 440.15it/s]\n"
     ]
    },
    {
     "name": "stdout",
     "output_type": "stream",
     "text": [
      "EvaluatorHoldout: Processed 10037 (100.0%) in 6.65 sec. Users per second: 1509\n",
      "SLIMElasticNetRecommender: URM Detected 449 ( 3.6%) users with no interactions.\n",
      "SLIMElasticNetRecommender: URM Detected 320 ( 1.4%) items with no interactions.\n"
     ]
    },
    {
     "name": "stderr",
     "output_type": "stream",
     "text": [
      "100%|█████████▉| 22216/22222 [00:47<00:00, 468.59it/s]\n"
     ]
    },
    {
     "name": "stdout",
     "output_type": "stream",
     "text": [
      "EvaluatorHoldout: Processed 9989 (100.0%) in 6.74 sec. Users per second: 1481\n",
      "SLIMElasticNetRecommender: URM Detected 460 ( 3.6%) users with no interactions.\n",
      "SLIMElasticNetRecommender: URM Detected 328 ( 1.5%) items with no interactions.\n"
     ]
    },
    {
     "name": "stderr",
     "output_type": "stream",
     "text": [
      "100%|█████████▉| 22216/22222 [00:46<00:00, 475.77it/s]\n"
     ]
    },
    {
     "name": "stdout",
     "output_type": "stream",
     "text": [
      "EvaluatorHoldout: Processed 10024 (100.0%) in 6.36 sec. Users per second: 1577\n",
      "SLIMElasticNetRecommender: URM Detected 426 ( 3.4%) users with no interactions.\n",
      "SLIMElasticNetRecommender: URM Detected 344 ( 1.5%) items with no interactions.\n"
     ]
    },
    {
     "name": "stderr",
     "output_type": "stream",
     "text": [
      "100%|█████████▉| 22216/22222 [00:46<00:00, 475.89it/s]\n"
     ]
    },
    {
     "name": "stdout",
     "output_type": "stream",
     "text": [
      "EvaluatorHoldout: Processed 10030 (100.0%) in 6.42 sec. Users per second: 1562\n",
      "SLIMElasticNetRecommender: URM Detected 471 ( 3.7%) users with no interactions.\n",
      "SLIMElasticNetRecommender: URM Detected 362 ( 1.6%) items with no interactions.\n"
     ]
    },
    {
     "name": "stderr",
     "output_type": "stream",
     "text": [
      "100%|█████████▉| 22216/22222 [00:46<00:00, 473.02it/s]\n"
     ]
    },
    {
     "name": "stdout",
     "output_type": "stream",
     "text": [
      "EvaluatorHoldout: Processed 10052 (100.0%) in 6.61 sec. Users per second: 1520\n",
      "SLIMElasticNetRecommender: URM Detected 478 ( 3.8%) users with no interactions.\n",
      "SLIMElasticNetRecommender: URM Detected 329 ( 1.5%) items with no interactions.\n"
     ]
    },
    {
     "name": "stderr",
     "output_type": "stream",
     "text": [
      "100%|█████████▉| 22216/22222 [00:46<00:00, 481.84it/s]\n"
     ]
    },
    {
     "name": "stdout",
     "output_type": "stream",
     "text": [
      "EvaluatorHoldout: Processed 10045 (100.0%) in 6.32 sec. Users per second: 1589\n",
      "SLIMElasticNetRecommender: URM Detected 460 ( 3.6%) users with no interactions.\n",
      "SLIMElasticNetRecommender: URM Detected 348 ( 1.6%) items with no interactions.\n"
     ]
    },
    {
     "name": "stderr",
     "output_type": "stream",
     "text": [
      "100%|█████████▉| 22216/22222 [00:47<00:00, 464.74it/s]\n"
     ]
    },
    {
     "name": "stdout",
     "output_type": "stream",
     "text": [
      "EvaluatorHoldout: Processed 10068 (100.0%) in 6.86 sec. Users per second: 1468\n"
     ]
    },
    {
     "name": "stderr",
     "output_type": "stream",
     "text": [
      "[I 2024-01-10 12:47:33,271] Trial 35 finished with value: 0.1349815564130807 and parameters: {'alpha': 0.17546189468208345, 'l1_ratio': 0.00021254084677743527, 'topK': 5060}. Best is trial 30 with value: 0.1625164184315704.\n"
     ]
    },
    {
     "name": "stdout",
     "output_type": "stream",
     "text": [
      "SLIMElasticNetRecommender: URM Detected 508 ( 4.0%) users with no interactions.\n",
      "SLIMElasticNetRecommender: URM Detected 332 ( 1.5%) items with no interactions.\n"
     ]
    },
    {
     "name": "stderr",
     "output_type": "stream",
     "text": [
      "100%|█████████▉| 22216/22222 [00:45<00:00, 491.44it/s]\n"
     ]
    },
    {
     "name": "stdout",
     "output_type": "stream",
     "text": [
      "EvaluatorHoldout: Processed 10057 (100.0%) in 6.45 sec. Users per second: 1560\n",
      "SLIMElasticNetRecommender: URM Detected 440 ( 3.5%) users with no interactions.\n",
      "SLIMElasticNetRecommender: URM Detected 325 ( 1.5%) items with no interactions.\n"
     ]
    },
    {
     "name": "stderr",
     "output_type": "stream",
     "text": [
      "100%|█████████▉| 22216/22222 [00:46<00:00, 478.54it/s]\n"
     ]
    },
    {
     "name": "stdout",
     "output_type": "stream",
     "text": [
      "EvaluatorHoldout: Processed 10040 (100.0%) in 6.44 sec. Users per second: 1559\n",
      "SLIMElasticNetRecommender: URM Detected 479 ( 3.8%) users with no interactions.\n",
      "SLIMElasticNetRecommender: URM Detected 345 ( 1.6%) items with no interactions.\n"
     ]
    },
    {
     "name": "stderr",
     "output_type": "stream",
     "text": [
      "100%|█████████▉| 22216/22222 [00:47<00:00, 470.79it/s]\n"
     ]
    },
    {
     "name": "stdout",
     "output_type": "stream",
     "text": [
      "EvaluatorHoldout: Processed 10017 (100.0%) in 6.94 sec. Users per second: 1443\n",
      "SLIMElasticNetRecommender: URM Detected 451 ( 3.6%) users with no interactions.\n",
      "SLIMElasticNetRecommender: URM Detected 311 ( 1.4%) items with no interactions.\n"
     ]
    },
    {
     "name": "stderr",
     "output_type": "stream",
     "text": [
      "100%|█████████▉| 22216/22222 [00:52<00:00, 426.75it/s]\n"
     ]
    },
    {
     "name": "stdout",
     "output_type": "stream",
     "text": [
      "EvaluatorHoldout: Processed 10037 (100.0%) in 8.08 sec. Users per second: 1242\n",
      "SLIMElasticNetRecommender: URM Detected 449 ( 3.6%) users with no interactions.\n",
      "SLIMElasticNetRecommender: URM Detected 320 ( 1.4%) items with no interactions.\n"
     ]
    },
    {
     "name": "stderr",
     "output_type": "stream",
     "text": [
      "100%|█████████▉| 22216/22222 [01:00<00:00, 367.28it/s]\n"
     ]
    },
    {
     "name": "stdout",
     "output_type": "stream",
     "text": [
      "EvaluatorHoldout: Processed 9989 (100.0%) in 8.31 sec. Users per second: 1202\n",
      "SLIMElasticNetRecommender: URM Detected 460 ( 3.6%) users with no interactions.\n",
      "SLIMElasticNetRecommender: URM Detected 328 ( 1.5%) items with no interactions.\n"
     ]
    },
    {
     "name": "stderr",
     "output_type": "stream",
     "text": [
      "100%|█████████▉| 22216/22222 [00:58<00:00, 381.71it/s]\n"
     ]
    },
    {
     "name": "stdout",
     "output_type": "stream",
     "text": [
      "EvaluatorHoldout: Processed 10024 (100.0%) in 8.10 sec. Users per second: 1238\n",
      "SLIMElasticNetRecommender: URM Detected 426 ( 3.4%) users with no interactions.\n",
      "SLIMElasticNetRecommender: URM Detected 344 ( 1.5%) items with no interactions.\n"
     ]
    },
    {
     "name": "stderr",
     "output_type": "stream",
     "text": [
      "100%|█████████▉| 22216/22222 [00:58<00:00, 381.75it/s]\n"
     ]
    },
    {
     "name": "stdout",
     "output_type": "stream",
     "text": [
      "EvaluatorHoldout: Processed 10030 (100.0%) in 8.11 sec. Users per second: 1237\n",
      "SLIMElasticNetRecommender: URM Detected 471 ( 3.7%) users with no interactions.\n",
      "SLIMElasticNetRecommender: URM Detected 362 ( 1.6%) items with no interactions.\n"
     ]
    },
    {
     "name": "stderr",
     "output_type": "stream",
     "text": [
      "100%|█████████▉| 22216/22222 [01:00<00:00, 367.43it/s]\n"
     ]
    },
    {
     "name": "stdout",
     "output_type": "stream",
     "text": [
      "EvaluatorHoldout: Processed 10052 (100.0%) in 7.45 sec. Users per second: 1349\n",
      "SLIMElasticNetRecommender: URM Detected 478 ( 3.8%) users with no interactions.\n",
      "SLIMElasticNetRecommender: URM Detected 329 ( 1.5%) items with no interactions.\n"
     ]
    },
    {
     "name": "stderr",
     "output_type": "stream",
     "text": [
      "100%|█████████▉| 22216/22222 [01:00<00:00, 367.04it/s]\n"
     ]
    },
    {
     "name": "stdout",
     "output_type": "stream",
     "text": [
      "EvaluatorHoldout: Processed 10045 (100.0%) in 6.74 sec. Users per second: 1490\n",
      "SLIMElasticNetRecommender: URM Detected 460 ( 3.6%) users with no interactions.\n",
      "SLIMElasticNetRecommender: URM Detected 348 ( 1.6%) items with no interactions.\n"
     ]
    },
    {
     "name": "stderr",
     "output_type": "stream",
     "text": [
      "100%|█████████▉| 22216/22222 [01:00<00:00, 364.23it/s]\n"
     ]
    },
    {
     "name": "stdout",
     "output_type": "stream",
     "text": [
      "EvaluatorHoldout: Processed 10068 (100.0%) in 6.46 sec. Users per second: 1558\n"
     ]
    },
    {
     "name": "stderr",
     "output_type": "stream",
     "text": [
      "[I 2024-01-10 12:58:11,684] Trial 38 finished with value: 0.1315346578171719 and parameters: {'alpha': 0.2675756300124796, 'l1_ratio': 3.9315369184758386e-05, 'topK': 845}. Best is trial 30 with value: 0.1625164184315704.\n"
     ]
    },
    {
     "name": "stdout",
     "output_type": "stream",
     "text": [
      "SLIMElasticNetRecommender: URM Detected 508 ( 4.0%) users with no interactions.\n",
      "SLIMElasticNetRecommender: URM Detected 332 ( 1.5%) items with no interactions.\n"
     ]
    },
    {
     "name": "stderr",
     "output_type": "stream",
     "text": [
      "100%|█████████▉| 22216/22222 [00:59<00:00, 374.48it/s]\n"
     ]
    },
    {
     "name": "stdout",
     "output_type": "stream",
     "text": [
      "EvaluatorHoldout: Processed 10057 (100.0%) in 5.01 sec. Users per second: 2006\n",
      "SLIMElasticNetRecommender: URM Detected 440 ( 3.5%) users with no interactions.\n",
      "SLIMElasticNetRecommender: URM Detected 325 ( 1.5%) items with no interactions.\n"
     ]
    },
    {
     "name": "stderr",
     "output_type": "stream",
     "text": [
      "100%|█████████▉| 22216/22222 [00:59<00:00, 372.65it/s]\n"
     ]
    },
    {
     "name": "stdout",
     "output_type": "stream",
     "text": [
      "EvaluatorHoldout: Processed 10040 (100.0%) in 5.02 sec. Users per second: 1998\n",
      "SLIMElasticNetRecommender: URM Detected 479 ( 3.8%) users with no interactions.\n",
      "SLIMElasticNetRecommender: URM Detected 345 ( 1.6%) items with no interactions.\n"
     ]
    },
    {
     "name": "stderr",
     "output_type": "stream",
     "text": [
      "100%|█████████▉| 22216/22222 [01:00<00:00, 366.92it/s]\n"
     ]
    },
    {
     "name": "stdout",
     "output_type": "stream",
     "text": [
      "EvaluatorHoldout: Processed 10017 (100.0%) in 5.16 sec. Users per second: 1942\n",
      "SLIMElasticNetRecommender: URM Detected 451 ( 3.6%) users with no interactions.\n",
      "SLIMElasticNetRecommender: URM Detected 311 ( 1.4%) items with no interactions.\n"
     ]
    },
    {
     "name": "stderr",
     "output_type": "stream",
     "text": [
      "100%|█████████▉| 22216/22222 [00:45<00:00, 485.80it/s]\n"
     ]
    },
    {
     "name": "stdout",
     "output_type": "stream",
     "text": [
      "EvaluatorHoldout: Processed 10037 (100.0%) in 4.75 sec. Users per second: 2113\n",
      "SLIMElasticNetRecommender: URM Detected 449 ( 3.6%) users with no interactions.\n",
      "SLIMElasticNetRecommender: URM Detected 320 ( 1.4%) items with no interactions.\n"
     ]
    },
    {
     "name": "stderr",
     "output_type": "stream",
     "text": [
      "100%|█████████▉| 22216/22222 [00:45<00:00, 485.93it/s]\n"
     ]
    },
    {
     "name": "stdout",
     "output_type": "stream",
     "text": [
      "EvaluatorHoldout: Processed 9989 (100.0%) in 5.25 sec. Users per second: 1904\n",
      "SLIMElasticNetRecommender: URM Detected 460 ( 3.6%) users with no interactions.\n",
      "SLIMElasticNetRecommender: URM Detected 328 ( 1.5%) items with no interactions.\n"
     ]
    },
    {
     "name": "stderr",
     "output_type": "stream",
     "text": [
      "100%|█████████▉| 22216/22222 [00:45<00:00, 489.80it/s]\n"
     ]
    },
    {
     "name": "stdout",
     "output_type": "stream",
     "text": [
      "EvaluatorHoldout: Processed 10024 (100.0%) in 5.17 sec. Users per second: 1939\n",
      "SLIMElasticNetRecommender: URM Detected 426 ( 3.4%) users with no interactions.\n",
      "SLIMElasticNetRecommender: URM Detected 344 ( 1.5%) items with no interactions.\n"
     ]
    },
    {
     "name": "stderr",
     "output_type": "stream",
     "text": [
      "100%|█████████▉| 22216/22222 [00:47<00:00, 471.19it/s]\n"
     ]
    },
    {
     "name": "stdout",
     "output_type": "stream",
     "text": [
      "EvaluatorHoldout: Processed 10030 (100.0%) in 5.25 sec. Users per second: 1911\n",
      "SLIMElasticNetRecommender: URM Detected 471 ( 3.7%) users with no interactions.\n",
      "SLIMElasticNetRecommender: URM Detected 362 ( 1.6%) items with no interactions.\n"
     ]
    },
    {
     "name": "stderr",
     "output_type": "stream",
     "text": [
      "100%|█████████▉| 22216/22222 [00:44<00:00, 494.50it/s]\n"
     ]
    },
    {
     "name": "stdout",
     "output_type": "stream",
     "text": [
      "EvaluatorHoldout: Processed 10052 (100.0%) in 5.12 sec. Users per second: 1963\n",
      "SLIMElasticNetRecommender: URM Detected 478 ( 3.8%) users with no interactions.\n",
      "SLIMElasticNetRecommender: URM Detected 329 ( 1.5%) items with no interactions.\n"
     ]
    },
    {
     "name": "stderr",
     "output_type": "stream",
     "text": [
      "100%|█████████▉| 22216/22222 [00:46<00:00, 476.67it/s]\n"
     ]
    },
    {
     "name": "stdout",
     "output_type": "stream",
     "text": [
      "EvaluatorHoldout: Processed 10045 (100.0%) in 4.76 sec. Users per second: 2112\n",
      "SLIMElasticNetRecommender: URM Detected 460 ( 3.6%) users with no interactions.\n",
      "SLIMElasticNetRecommender: URM Detected 348 ( 1.6%) items with no interactions.\n"
     ]
    },
    {
     "name": "stderr",
     "output_type": "stream",
     "text": [
      "100%|█████████▉| 22216/22222 [00:45<00:00, 484.47it/s]\n"
     ]
    },
    {
     "name": "stdout",
     "output_type": "stream",
     "text": [
      "EvaluatorHoldout: Processed 10068 (100.0%) in 5.18 sec. Users per second: 1944\n"
     ]
    },
    {
     "name": "stderr",
     "output_type": "stream",
     "text": [
      "[I 2024-01-10 13:07:37,328] Trial 40 finished with value: 0.1469171869773484 and parameters: {'alpha': 0.08660328336442825, 'l1_ratio': 1.370068322949597e-05, 'topK': 242}. Best is trial 30 with value: 0.1625164184315704.\n"
     ]
    },
    {
     "name": "stdout",
     "output_type": "stream",
     "text": [
      "SLIMElasticNetRecommender: URM Detected 508 ( 4.0%) users with no interactions.\n",
      "SLIMElasticNetRecommender: URM Detected 332 ( 1.5%) items with no interactions.\n"
     ]
    },
    {
     "name": "stderr",
     "output_type": "stream",
     "text": [
      "100%|█████████▉| 22216/22222 [00:12<00:00, 1709.44it/s]\n"
     ]
    },
    {
     "name": "stdout",
     "output_type": "stream",
     "text": [
      "EvaluatorHoldout: Processed 10057 (100.0%) in 2.27 sec. Users per second: 4432\n",
      "SLIMElasticNetRecommender: URM Detected 440 ( 3.5%) users with no interactions.\n",
      "SLIMElasticNetRecommender: URM Detected 325 ( 1.5%) items with no interactions.\n"
     ]
    },
    {
     "name": "stderr",
     "output_type": "stream",
     "text": [
      "100%|█████████▉| 22216/22222 [00:12<00:00, 1787.70it/s]\n"
     ]
    },
    {
     "name": "stdout",
     "output_type": "stream",
     "text": [
      "EvaluatorHoldout: Processed 10040 (100.0%) in 2.27 sec. Users per second: 4417\n",
      "SLIMElasticNetRecommender: URM Detected 479 ( 3.8%) users with no interactions.\n",
      "SLIMElasticNetRecommender: URM Detected 345 ( 1.6%) items with no interactions.\n"
     ]
    },
    {
     "name": "stderr",
     "output_type": "stream",
     "text": [
      "100%|█████████▉| 22216/22222 [00:13<00:00, 1690.22it/s]\n"
     ]
    },
    {
     "name": "stdout",
     "output_type": "stream",
     "text": [
      "EvaluatorHoldout: Processed 10017 (100.0%) in 2.34 sec. Users per second: 4273\n",
      "SLIMElasticNetRecommender: URM Detected 451 ( 3.6%) users with no interactions.\n",
      "SLIMElasticNetRecommender: URM Detected 311 ( 1.4%) items with no interactions.\n"
     ]
    },
    {
     "name": "stderr",
     "output_type": "stream",
     "text": [
      "100%|█████████▉| 22216/22222 [00:12<00:00, 1772.00it/s]\n"
     ]
    },
    {
     "name": "stdout",
     "output_type": "stream",
     "text": [
      "EvaluatorHoldout: Processed 10037 (100.0%) in 2.39 sec. Users per second: 4196\n",
      "SLIMElasticNetRecommender: URM Detected 449 ( 3.6%) users with no interactions.\n",
      "SLIMElasticNetRecommender: URM Detected 320 ( 1.4%) items with no interactions.\n"
     ]
    },
    {
     "name": "stderr",
     "output_type": "stream",
     "text": [
      "100%|█████████▉| 22216/22222 [00:12<00:00, 1723.05it/s]\n"
     ]
    },
    {
     "name": "stdout",
     "output_type": "stream",
     "text": [
      "EvaluatorHoldout: Processed 9989 (100.0%) in 2.47 sec. Users per second: 4049\n",
      "SLIMElasticNetRecommender: URM Detected 460 ( 3.6%) users with no interactions.\n",
      "SLIMElasticNetRecommender: URM Detected 328 ( 1.5%) items with no interactions.\n"
     ]
    },
    {
     "name": "stderr",
     "output_type": "stream",
     "text": [
      "100%|█████████▉| 22216/22222 [00:13<00:00, 1691.14it/s]\n"
     ]
    },
    {
     "name": "stdout",
     "output_type": "stream",
     "text": [
      "EvaluatorHoldout: Processed 10024 (100.0%) in 2.43 sec. Users per second: 4133\n",
      "SLIMElasticNetRecommender: URM Detected 426 ( 3.4%) users with no interactions.\n",
      "SLIMElasticNetRecommender: URM Detected 344 ( 1.5%) items with no interactions.\n"
     ]
    },
    {
     "name": "stderr",
     "output_type": "stream",
     "text": [
      "100%|█████████▉| 22216/22222 [00:12<00:00, 1754.00it/s]\n"
     ]
    },
    {
     "name": "stdout",
     "output_type": "stream",
     "text": [
      "EvaluatorHoldout: Processed 10030 (100.0%) in 2.12 sec. Users per second: 4739\n",
      "SLIMElasticNetRecommender: URM Detected 471 ( 3.7%) users with no interactions.\n",
      "SLIMElasticNetRecommender: URM Detected 362 ( 1.6%) items with no interactions.\n"
     ]
    },
    {
     "name": "stderr",
     "output_type": "stream",
     "text": [
      "100%|█████████▉| 22216/22222 [00:12<00:00, 1740.71it/s]\n"
     ]
    },
    {
     "name": "stdout",
     "output_type": "stream",
     "text": [
      "EvaluatorHoldout: Processed 10052 (100.0%) in 2.49 sec. Users per second: 4044\n",
      "SLIMElasticNetRecommender: URM Detected 478 ( 3.8%) users with no interactions.\n",
      "SLIMElasticNetRecommender: URM Detected 329 ( 1.5%) items with no interactions.\n"
     ]
    },
    {
     "name": "stderr",
     "output_type": "stream",
     "text": [
      "100%|█████████▉| 22216/22222 [00:12<00:00, 1718.48it/s]\n"
     ]
    },
    {
     "name": "stdout",
     "output_type": "stream",
     "text": [
      "EvaluatorHoldout: Processed 10045 (100.0%) in 2.33 sec. Users per second: 4310\n",
      "SLIMElasticNetRecommender: URM Detected 460 ( 3.6%) users with no interactions.\n",
      "SLIMElasticNetRecommender: URM Detected 348 ( 1.6%) items with no interactions.\n"
     ]
    },
    {
     "name": "stderr",
     "output_type": "stream",
     "text": [
      "100%|█████████▉| 22216/22222 [00:13<00:00, 1662.31it/s]\n"
     ]
    },
    {
     "name": "stdout",
     "output_type": "stream",
     "text": [
      "EvaluatorHoldout: Processed 10068 (100.0%) in 2.36 sec. Users per second: 4263\n"
     ]
    },
    {
     "name": "stderr",
     "output_type": "stream",
     "text": [
      "[I 2024-01-10 13:10:22,706] Trial 42 finished with value: 0.014172117594489775 and parameters: {'alpha': 0.4273870466930866, 'l1_ratio': 0.02759671691746378, 'topK': 2048}. Best is trial 30 with value: 0.1625164184315704.\n"
     ]
    },
    {
     "name": "stdout",
     "output_type": "stream",
     "text": [
      "SLIMElasticNetRecommender: URM Detected 508 ( 4.0%) users with no interactions.\n",
      "SLIMElasticNetRecommender: URM Detected 332 ( 1.5%) items with no interactions.\n"
     ]
    },
    {
     "name": "stderr",
     "output_type": "stream",
     "text": [
      "100%|█████████▉| 22216/22222 [00:50<00:00, 440.86it/s]\n"
     ]
    },
    {
     "name": "stdout",
     "output_type": "stream",
     "text": [
      "EvaluatorHoldout: Processed 10057 (100.0%) in 6.98 sec. Users per second: 1441\n",
      "SLIMElasticNetRecommender: URM Detected 440 ( 3.5%) users with no interactions.\n",
      "SLIMElasticNetRecommender: URM Detected 325 ( 1.5%) items with no interactions.\n"
     ]
    },
    {
     "name": "stderr",
     "output_type": "stream",
     "text": [
      "100%|█████████▉| 22216/22222 [00:51<00:00, 434.59it/s]\n"
     ]
    },
    {
     "name": "stdout",
     "output_type": "stream",
     "text": [
      "EvaluatorHoldout: Processed 10040 (100.0%) in 6.41 sec. Users per second: 1566\n",
      "SLIMElasticNetRecommender: URM Detected 479 ( 3.8%) users with no interactions.\n",
      "SLIMElasticNetRecommender: URM Detected 345 ( 1.6%) items with no interactions.\n"
     ]
    },
    {
     "name": "stderr",
     "output_type": "stream",
     "text": [
      "100%|█████████▉| 22216/22222 [00:51<00:00, 432.45it/s]\n"
     ]
    },
    {
     "name": "stdout",
     "output_type": "stream",
     "text": [
      "EvaluatorHoldout: Processed 10017 (100.0%) in 6.99 sec. Users per second: 1433\n",
      "SLIMElasticNetRecommender: URM Detected 451 ( 3.6%) users with no interactions.\n",
      "SLIMElasticNetRecommender: URM Detected 311 ( 1.4%) items with no interactions.\n"
     ]
    },
    {
     "name": "stderr",
     "output_type": "stream",
     "text": [
      "100%|█████████▉| 22216/22222 [00:50<00:00, 438.18it/s]\n"
     ]
    },
    {
     "name": "stdout",
     "output_type": "stream",
     "text": [
      "EvaluatorHoldout: Processed 10037 (100.0%) in 6.95 sec. Users per second: 1444\n",
      "SLIMElasticNetRecommender: URM Detected 449 ( 3.6%) users with no interactions.\n",
      "SLIMElasticNetRecommender: URM Detected 320 ( 1.4%) items with no interactions.\n"
     ]
    },
    {
     "name": "stderr",
     "output_type": "stream",
     "text": [
      "100%|█████████▉| 22216/22222 [00:50<00:00, 441.16it/s]\n"
     ]
    },
    {
     "name": "stdout",
     "output_type": "stream",
     "text": [
      "EvaluatorHoldout: Processed 9989 (100.0%) in 6.63 sec. Users per second: 1507\n",
      "SLIMElasticNetRecommender: URM Detected 460 ( 3.6%) users with no interactions.\n",
      "SLIMElasticNetRecommender: URM Detected 328 ( 1.5%) items with no interactions.\n"
     ]
    },
    {
     "name": "stderr",
     "output_type": "stream",
     "text": [
      "100%|█████████▉| 22216/22222 [00:53<00:00, 413.00it/s]\n"
     ]
    },
    {
     "name": "stdout",
     "output_type": "stream",
     "text": [
      "EvaluatorHoldout: Processed 10024 (100.0%) in 6.61 sec. Users per second: 1517\n",
      "SLIMElasticNetRecommender: URM Detected 426 ( 3.4%) users with no interactions.\n",
      "SLIMElasticNetRecommender: URM Detected 344 ( 1.5%) items with no interactions.\n"
     ]
    },
    {
     "name": "stderr",
     "output_type": "stream",
     "text": [
      "100%|█████████▉| 22216/22222 [00:51<00:00, 431.92it/s]\n"
     ]
    },
    {
     "name": "stdout",
     "output_type": "stream",
     "text": [
      "EvaluatorHoldout: Processed 10030 (100.0%) in 6.96 sec. Users per second: 1442\n",
      "SLIMElasticNetRecommender: URM Detected 471 ( 3.7%) users with no interactions.\n",
      "SLIMElasticNetRecommender: URM Detected 362 ( 1.6%) items with no interactions.\n"
     ]
    },
    {
     "name": "stderr",
     "output_type": "stream",
     "text": [
      "100%|█████████▉| 22216/22222 [00:50<00:00, 437.94it/s]\n"
     ]
    },
    {
     "name": "stdout",
     "output_type": "stream",
     "text": [
      "EvaluatorHoldout: Processed 10052 (100.0%) in 7.08 sec. Users per second: 1419\n",
      "SLIMElasticNetRecommender: URM Detected 478 ( 3.8%) users with no interactions.\n",
      "SLIMElasticNetRecommender: URM Detected 329 ( 1.5%) items with no interactions.\n"
     ]
    },
    {
     "name": "stderr",
     "output_type": "stream",
     "text": [
      "100%|█████████▉| 22216/22222 [00:50<00:00, 435.98it/s]\n"
     ]
    },
    {
     "name": "stdout",
     "output_type": "stream",
     "text": [
      "EvaluatorHoldout: Processed 10045 (100.0%) in 6.77 sec. Users per second: 1484\n",
      "SLIMElasticNetRecommender: URM Detected 460 ( 3.6%) users with no interactions.\n",
      "SLIMElasticNetRecommender: URM Detected 348 ( 1.6%) items with no interactions.\n"
     ]
    },
    {
     "name": "stderr",
     "output_type": "stream",
     "text": [
      "100%|█████████▉| 22216/22222 [00:51<00:00, 431.11it/s]\n"
     ]
    },
    {
     "name": "stdout",
     "output_type": "stream",
     "text": [
      "EvaluatorHoldout: Processed 10068 (100.0%) in 6.89 sec. Users per second: 1461\n"
     ]
    },
    {
     "name": "stderr",
     "output_type": "stream",
     "text": [
      "[I 2024-01-10 13:20:19,725] Trial 43 finished with value: 0.14554559822233148 and parameters: {'alpha': 0.0739328513099593, 'l1_ratio': 0.00047146189318597993, 'topK': 7871}. Best is trial 30 with value: 0.1625164184315704.\n"
     ]
    },
    {
     "name": "stdout",
     "output_type": "stream",
     "text": [
      "SLIMElasticNetRecommender: URM Detected 508 ( 4.0%) users with no interactions.\n",
      "SLIMElasticNetRecommender: URM Detected 332 ( 1.5%) items with no interactions.\n"
     ]
    },
    {
     "name": "stderr",
     "output_type": "stream",
     "text": [
      "100%|█████████▉| 22216/22222 [00:51<00:00, 429.65it/s]\n"
     ]
    },
    {
     "name": "stdout",
     "output_type": "stream",
     "text": [
      "EvaluatorHoldout: Processed 10057 (100.0%) in 6.79 sec. Users per second: 1480\n",
      "SLIMElasticNetRecommender: URM Detected 440 ( 3.5%) users with no interactions.\n",
      "SLIMElasticNetRecommender: URM Detected 325 ( 1.5%) items with no interactions.\n"
     ]
    },
    {
     "name": "stderr",
     "output_type": "stream",
     "text": [
      "100%|█████████▉| 22216/22222 [00:52<00:00, 425.93it/s]\n"
     ]
    },
    {
     "name": "stdout",
     "output_type": "stream",
     "text": [
      "EvaluatorHoldout: Processed 10040 (100.0%) in 6.50 sec. Users per second: 1544\n",
      "SLIMElasticNetRecommender: URM Detected 479 ( 3.8%) users with no interactions.\n",
      "SLIMElasticNetRecommender: URM Detected 345 ( 1.6%) items with no interactions.\n"
     ]
    },
    {
     "name": "stderr",
     "output_type": "stream",
     "text": [
      "100%|█████████▉| 22216/22222 [00:51<00:00, 429.07it/s]\n"
     ]
    },
    {
     "name": "stdout",
     "output_type": "stream",
     "text": [
      "EvaluatorHoldout: Processed 10017 (100.0%) in 7.20 sec. Users per second: 1391\n",
      "SLIMElasticNetRecommender: URM Detected 451 ( 3.6%) users with no interactions.\n",
      "SLIMElasticNetRecommender: URM Detected 311 ( 1.4%) items with no interactions.\n"
     ]
    },
    {
     "name": "stderr",
     "output_type": "stream",
     "text": [
      "100%|█████████▉| 22216/22222 [00:51<00:00, 430.57it/s]\n"
     ]
    },
    {
     "name": "stdout",
     "output_type": "stream",
     "text": [
      "EvaluatorHoldout: Processed 10037 (100.0%) in 6.47 sec. Users per second: 1552\n",
      "SLIMElasticNetRecommender: URM Detected 449 ( 3.6%) users with no interactions.\n",
      "SLIMElasticNetRecommender: URM Detected 320 ( 1.4%) items with no interactions.\n"
     ]
    },
    {
     "name": "stderr",
     "output_type": "stream",
     "text": [
      "100%|█████████▉| 22216/22222 [00:52<00:00, 427.22it/s]\n"
     ]
    },
    {
     "name": "stdout",
     "output_type": "stream",
     "text": [
      "EvaluatorHoldout: Processed 9989 (100.0%) in 7.10 sec. Users per second: 1406\n",
      "SLIMElasticNetRecommender: URM Detected 460 ( 3.6%) users with no interactions.\n",
      "SLIMElasticNetRecommender: URM Detected 328 ( 1.5%) items with no interactions.\n"
     ]
    },
    {
     "name": "stderr",
     "output_type": "stream",
     "text": [
      "100%|█████████▉| 22216/22222 [00:51<00:00, 431.83it/s]\n"
     ]
    },
    {
     "name": "stdout",
     "output_type": "stream",
     "text": [
      "EvaluatorHoldout: Processed 10024 (100.0%) in 6.68 sec. Users per second: 1501\n",
      "SLIMElasticNetRecommender: URM Detected 426 ( 3.4%) users with no interactions.\n",
      "SLIMElasticNetRecommender: URM Detected 344 ( 1.5%) items with no interactions.\n"
     ]
    },
    {
     "name": "stderr",
     "output_type": "stream",
     "text": [
      "100%|█████████▉| 22216/22222 [00:52<00:00, 424.42it/s]\n"
     ]
    },
    {
     "name": "stdout",
     "output_type": "stream",
     "text": [
      "EvaluatorHoldout: Processed 10030 (100.0%) in 6.57 sec. Users per second: 1526\n",
      "SLIMElasticNetRecommender: URM Detected 471 ( 3.7%) users with no interactions.\n",
      "SLIMElasticNetRecommender: URM Detected 362 ( 1.6%) items with no interactions.\n"
     ]
    },
    {
     "name": "stderr",
     "output_type": "stream",
     "text": [
      "100%|█████████▉| 22216/22222 [00:51<00:00, 431.51it/s]\n"
     ]
    },
    {
     "name": "stdout",
     "output_type": "stream",
     "text": [
      "EvaluatorHoldout: Processed 10052 (100.0%) in 6.53 sec. Users per second: 1539\n",
      "SLIMElasticNetRecommender: URM Detected 478 ( 3.8%) users with no interactions.\n",
      "SLIMElasticNetRecommender: URM Detected 329 ( 1.5%) items with no interactions.\n"
     ]
    },
    {
     "name": "stderr",
     "output_type": "stream",
     "text": [
      "100%|█████████▉| 22216/22222 [00:52<00:00, 425.33it/s]\n"
     ]
    },
    {
     "name": "stdout",
     "output_type": "stream",
     "text": [
      "EvaluatorHoldout: Processed 10045 (100.0%) in 6.43 sec. Users per second: 1562\n",
      "SLIMElasticNetRecommender: URM Detected 460 ( 3.6%) users with no interactions.\n",
      "SLIMElasticNetRecommender: URM Detected 348 ( 1.6%) items with no interactions.\n"
     ]
    },
    {
     "name": "stderr",
     "output_type": "stream",
     "text": [
      "100%|█████████▉| 22216/22222 [00:51<00:00, 428.85it/s]\n"
     ]
    },
    {
     "name": "stdout",
     "output_type": "stream",
     "text": [
      "EvaluatorHoldout: Processed 10068 (100.0%) in 6.90 sec. Users per second: 1459\n"
     ]
    },
    {
     "name": "stderr",
     "output_type": "stream",
     "text": [
      "[I 2024-01-10 13:30:21,702] Trial 45 finished with value: 0.14958292679815285 and parameters: {'alpha': 0.05669846251683683, 'l1_ratio': 7.446738039056943e-05, 'topK': 2523}. Best is trial 30 with value: 0.1625164184315704.\n"
     ]
    },
    {
     "name": "stdout",
     "output_type": "stream",
     "text": [
      "SLIMElasticNetRecommender: URM Detected 508 ( 4.0%) users with no interactions.\n",
      "SLIMElasticNetRecommender: URM Detected 332 ( 1.5%) items with no interactions.\n"
     ]
    },
    {
     "name": "stderr",
     "output_type": "stream",
     "text": [
      "100%|█████████▉| 22216/22222 [00:46<00:00, 481.89it/s]\n"
     ]
    },
    {
     "name": "stdout",
     "output_type": "stream",
     "text": [
      "EvaluatorHoldout: Processed 10057 (100.0%) in 6.74 sec. Users per second: 1492\n",
      "SLIMElasticNetRecommender: URM Detected 440 ( 3.5%) users with no interactions.\n",
      "SLIMElasticNetRecommender: URM Detected 325 ( 1.5%) items with no interactions.\n"
     ]
    },
    {
     "name": "stderr",
     "output_type": "stream",
     "text": [
      "100%|█████████▉| 22216/22222 [00:46<00:00, 474.87it/s]\n"
     ]
    },
    {
     "name": "stdout",
     "output_type": "stream",
     "text": [
      "EvaluatorHoldout: Processed 10040 (100.0%) in 6.45 sec. Users per second: 1558\n",
      "SLIMElasticNetRecommender: URM Detected 479 ( 3.8%) users with no interactions.\n",
      "SLIMElasticNetRecommender: URM Detected 345 ( 1.6%) items with no interactions.\n"
     ]
    },
    {
     "name": "stderr",
     "output_type": "stream",
     "text": [
      "100%|█████████▉| 22216/22222 [00:47<00:00, 470.22it/s]\n"
     ]
    },
    {
     "name": "stdout",
     "output_type": "stream",
     "text": [
      "EvaluatorHoldout: Processed 10017 (100.0%) in 6.81 sec. Users per second: 1472\n",
      "SLIMElasticNetRecommender: URM Detected 451 ( 3.6%) users with no interactions.\n",
      "SLIMElasticNetRecommender: URM Detected 311 ( 1.4%) items with no interactions.\n"
     ]
    },
    {
     "name": "stderr",
     "output_type": "stream",
     "text": [
      "100%|█████████▉| 22216/22222 [00:45<00:00, 486.75it/s]\n"
     ]
    },
    {
     "name": "stdout",
     "output_type": "stream",
     "text": [
      "EvaluatorHoldout: Processed 10037 (100.0%) in 6.73 sec. Users per second: 1492\n",
      "SLIMElasticNetRecommender: URM Detected 449 ( 3.6%) users with no interactions.\n",
      "SLIMElasticNetRecommender: URM Detected 320 ( 1.4%) items with no interactions.\n"
     ]
    },
    {
     "name": "stderr",
     "output_type": "stream",
     "text": [
      "100%|█████████▉| 22216/22222 [00:47<00:00, 466.28it/s]\n"
     ]
    },
    {
     "name": "stdout",
     "output_type": "stream",
     "text": [
      "EvaluatorHoldout: Processed 9989 (100.0%) in 6.47 sec. Users per second: 1545\n",
      "SLIMElasticNetRecommender: URM Detected 460 ( 3.6%) users with no interactions.\n",
      "SLIMElasticNetRecommender: URM Detected 328 ( 1.5%) items with no interactions.\n"
     ]
    },
    {
     "name": "stderr",
     "output_type": "stream",
     "text": [
      "100%|█████████▉| 22216/22222 [00:45<00:00, 484.21it/s]\n"
     ]
    },
    {
     "name": "stdout",
     "output_type": "stream",
     "text": [
      "EvaluatorHoldout: Processed 10024 (100.0%) in 6.88 sec. Users per second: 1457\n",
      "SLIMElasticNetRecommender: URM Detected 426 ( 3.4%) users with no interactions.\n",
      "SLIMElasticNetRecommender: URM Detected 344 ( 1.5%) items with no interactions.\n"
     ]
    },
    {
     "name": "stderr",
     "output_type": "stream",
     "text": [
      "100%|█████████▉| 22216/22222 [00:46<00:00, 477.86it/s]\n"
     ]
    },
    {
     "name": "stdout",
     "output_type": "stream",
     "text": [
      "EvaluatorHoldout: Processed 10030 (100.0%) in 6.86 sec. Users per second: 1461\n",
      "SLIMElasticNetRecommender: URM Detected 471 ( 3.7%) users with no interactions.\n",
      "SLIMElasticNetRecommender: URM Detected 362 ( 1.6%) items with no interactions.\n"
     ]
    },
    {
     "name": "stderr",
     "output_type": "stream",
     "text": [
      "100%|█████████▉| 22216/22222 [00:47<00:00, 465.07it/s]\n"
     ]
    },
    {
     "name": "stdout",
     "output_type": "stream",
     "text": [
      "EvaluatorHoldout: Processed 10052 (100.0%) in 6.27 sec. Users per second: 1603\n",
      "SLIMElasticNetRecommender: URM Detected 478 ( 3.8%) users with no interactions.\n",
      "SLIMElasticNetRecommender: URM Detected 329 ( 1.5%) items with no interactions.\n"
     ]
    },
    {
     "name": "stderr",
     "output_type": "stream",
     "text": [
      "100%|█████████▉| 22216/22222 [00:46<00:00, 479.82it/s]\n"
     ]
    },
    {
     "name": "stdout",
     "output_type": "stream",
     "text": [
      "EvaluatorHoldout: Processed 10045 (100.0%) in 6.69 sec. Users per second: 1502\n",
      "SLIMElasticNetRecommender: URM Detected 460 ( 3.6%) users with no interactions.\n",
      "SLIMElasticNetRecommender: URM Detected 348 ( 1.6%) items with no interactions.\n"
     ]
    },
    {
     "name": "stderr",
     "output_type": "stream",
     "text": [
      "100%|█████████▉| 22216/22222 [00:45<00:00, 483.63it/s]\n"
     ]
    },
    {
     "name": "stdout",
     "output_type": "stream",
     "text": [
      "EvaluatorHoldout: Processed 10068 (100.0%) in 6.94 sec. Users per second: 1450\n"
     ]
    },
    {
     "name": "stderr",
     "output_type": "stream",
     "text": [
      "[I 2024-01-10 13:39:30,131] Trial 46 finished with value: 0.1402822193151101 and parameters: {'alpha': 0.11557781908933307, 'l1_ratio': 0.0005434924218408321, 'topK': 1519}. Best is trial 30 with value: 0.1625164184315704.\n"
     ]
    },
    {
     "name": "stdout",
     "output_type": "stream",
     "text": [
      "SLIMElasticNetRecommender: URM Detected 508 ( 4.0%) users with no interactions.\n",
      "SLIMElasticNetRecommender: URM Detected 332 ( 1.5%) items with no interactions.\n"
     ]
    },
    {
     "name": "stderr",
     "output_type": "stream",
     "text": [
      "100%|█████████▉| 22216/22222 [00:29<00:00, 756.55it/s] \n"
     ]
    },
    {
     "name": "stdout",
     "output_type": "stream",
     "text": [
      "EvaluatorHoldout: Processed 10057 (100.0%) in 4.90 sec. Users per second: 2052\n",
      "SLIMElasticNetRecommender: URM Detected 440 ( 3.5%) users with no interactions.\n",
      "SLIMElasticNetRecommender: URM Detected 325 ( 1.5%) items with no interactions.\n"
     ]
    },
    {
     "name": "stderr",
     "output_type": "stream",
     "text": [
      "100%|█████████▉| 22216/22222 [00:27<00:00, 801.98it/s] \n"
     ]
    },
    {
     "name": "stdout",
     "output_type": "stream",
     "text": [
      "EvaluatorHoldout: Processed 10040 (100.0%) in 4.70 sec. Users per second: 2137\n",
      "SLIMElasticNetRecommender: URM Detected 479 ( 3.8%) users with no interactions.\n",
      "SLIMElasticNetRecommender: URM Detected 345 ( 1.6%) items with no interactions.\n"
     ]
    },
    {
     "name": "stderr",
     "output_type": "stream",
     "text": [
      "100%|█████████▉| 22216/22222 [00:29<00:00, 756.92it/s] \n"
     ]
    },
    {
     "name": "stdout",
     "output_type": "stream",
     "text": [
      "EvaluatorHoldout: Processed 10017 (100.0%) in 5.09 sec. Users per second: 1968\n",
      "SLIMElasticNetRecommender: URM Detected 451 ( 3.6%) users with no interactions.\n",
      "SLIMElasticNetRecommender: URM Detected 311 ( 1.4%) items with no interactions.\n"
     ]
    },
    {
     "name": "stderr",
     "output_type": "stream",
     "text": [
      "100%|█████████▉| 22216/22222 [00:27<00:00, 796.16it/s] \n"
     ]
    },
    {
     "name": "stdout",
     "output_type": "stream",
     "text": [
      "EvaluatorHoldout: Processed 10037 (100.0%) in 4.83 sec. Users per second: 2077\n",
      "SLIMElasticNetRecommender: URM Detected 449 ( 3.6%) users with no interactions.\n",
      "SLIMElasticNetRecommender: URM Detected 320 ( 1.4%) items with no interactions.\n"
     ]
    },
    {
     "name": "stderr",
     "output_type": "stream",
     "text": [
      "100%|█████████▉| 22216/22222 [00:28<00:00, 784.57it/s] \n"
     ]
    },
    {
     "name": "stdout",
     "output_type": "stream",
     "text": [
      "EvaluatorHoldout: Processed 9989 (100.0%) in 4.95 sec. Users per second: 2017\n",
      "SLIMElasticNetRecommender: URM Detected 460 ( 3.6%) users with no interactions.\n",
      "SLIMElasticNetRecommender: URM Detected 328 ( 1.5%) items with no interactions.\n"
     ]
    },
    {
     "name": "stderr",
     "output_type": "stream",
     "text": [
      "100%|█████████▉| 22216/22222 [00:28<00:00, 787.53it/s] \n"
     ]
    },
    {
     "name": "stdout",
     "output_type": "stream",
     "text": [
      "EvaluatorHoldout: Processed 10024 (100.0%) in 4.66 sec. Users per second: 2149\n",
      "SLIMElasticNetRecommender: URM Detected 426 ( 3.4%) users with no interactions.\n",
      "SLIMElasticNetRecommender: URM Detected 344 ( 1.5%) items with no interactions.\n"
     ]
    },
    {
     "name": "stderr",
     "output_type": "stream",
     "text": [
      "100%|█████████▉| 22216/22222 [00:28<00:00, 782.78it/s] \n"
     ]
    },
    {
     "name": "stdout",
     "output_type": "stream",
     "text": [
      "EvaluatorHoldout: Processed 10030 (100.0%) in 4.93 sec. Users per second: 2034\n",
      "SLIMElasticNetRecommender: URM Detected 471 ( 3.7%) users with no interactions.\n",
      "SLIMElasticNetRecommender: URM Detected 362 ( 1.6%) items with no interactions.\n"
     ]
    },
    {
     "name": "stderr",
     "output_type": "stream",
     "text": [
      "100%|█████████▉| 22216/22222 [00:29<00:00, 753.55it/s] \n"
     ]
    },
    {
     "name": "stdout",
     "output_type": "stream",
     "text": [
      "EvaluatorHoldout: Processed 10052 (100.0%) in 4.97 sec. Users per second: 2021\n",
      "SLIMElasticNetRecommender: URM Detected 478 ( 3.8%) users with no interactions.\n",
      "SLIMElasticNetRecommender: URM Detected 329 ( 1.5%) items with no interactions.\n"
     ]
    },
    {
     "name": "stderr",
     "output_type": "stream",
     "text": [
      "100%|█████████▉| 22216/22222 [00:28<00:00, 787.98it/s] \n"
     ]
    },
    {
     "name": "stdout",
     "output_type": "stream",
     "text": [
      "EvaluatorHoldout: Processed 10045 (100.0%) in 4.81 sec. Users per second: 2089\n",
      "SLIMElasticNetRecommender: URM Detected 460 ( 3.6%) users with no interactions.\n",
      "SLIMElasticNetRecommender: URM Detected 348 ( 1.6%) items with no interactions.\n"
     ]
    },
    {
     "name": "stderr",
     "output_type": "stream",
     "text": [
      "100%|█████████▉| 22216/22222 [00:28<00:00, 766.40it/s] \n"
     ]
    },
    {
     "name": "stdout",
     "output_type": "stream",
     "text": [
      "EvaluatorHoldout: Processed 10068 (100.0%) in 5.21 sec. Users per second: 1933\n"
     ]
    },
    {
     "name": "stderr",
     "output_type": "stream",
     "text": [
      "[I 2024-01-10 13:45:18,758] Trial 47 finished with value: 0.11919005458222043 and parameters: {'alpha': 0.6286674245590322, 'l1_ratio': 0.00021892191817653262, 'topK': 3540}. Best is trial 30 with value: 0.1625164184315704.\n"
     ]
    },
    {
     "name": "stdout",
     "output_type": "stream",
     "text": [
      "SLIMElasticNetRecommender: URM Detected 508 ( 4.0%) users with no interactions.\n",
      "SLIMElasticNetRecommender: URM Detected 332 ( 1.5%) items with no interactions.\n"
     ]
    },
    {
     "name": "stderr",
     "output_type": "stream",
     "text": [
      "100%|█████████▉| 22216/22222 [00:32<00:00, 693.91it/s]\n"
     ]
    },
    {
     "name": "stdout",
     "output_type": "stream",
     "text": [
      "EvaluatorHoldout: Processed 10057 (100.0%) in 4.75 sec. Users per second: 2116\n",
      "SLIMElasticNetRecommender: URM Detected 440 ( 3.5%) users with no interactions.\n",
      "SLIMElasticNetRecommender: URM Detected 325 ( 1.5%) items with no interactions.\n"
     ]
    },
    {
     "name": "stderr",
     "output_type": "stream",
     "text": [
      "100%|█████████▉| 22216/22222 [00:31<00:00, 704.52it/s] \n"
     ]
    },
    {
     "name": "stdout",
     "output_type": "stream",
     "text": [
      "EvaluatorHoldout: Processed 10040 (100.0%) in 4.95 sec. Users per second: 2029\n",
      "SLIMElasticNetRecommender: URM Detected 479 ( 3.8%) users with no interactions.\n",
      "SLIMElasticNetRecommender: URM Detected 345 ( 1.6%) items with no interactions.\n"
     ]
    },
    {
     "name": "stderr",
     "output_type": "stream",
     "text": [
      "100%|█████████▉| 22216/22222 [00:32<00:00, 690.46it/s]\n"
     ]
    },
    {
     "name": "stdout",
     "output_type": "stream",
     "text": [
      "EvaluatorHoldout: Processed 10017 (100.0%) in 5.06 sec. Users per second: 1980\n",
      "SLIMElasticNetRecommender: URM Detected 451 ( 3.6%) users with no interactions.\n",
      "SLIMElasticNetRecommender: URM Detected 311 ( 1.4%) items with no interactions.\n"
     ]
    },
    {
     "name": "stderr",
     "output_type": "stream",
     "text": [
      "100%|█████████▉| 22216/22222 [00:31<00:00, 708.18it/s] \n"
     ]
    },
    {
     "name": "stdout",
     "output_type": "stream",
     "text": [
      "EvaluatorHoldout: Processed 10037 (100.0%) in 4.94 sec. Users per second: 2034\n",
      "SLIMElasticNetRecommender: URM Detected 449 ( 3.6%) users with no interactions.\n",
      "SLIMElasticNetRecommender: URM Detected 320 ( 1.4%) items with no interactions.\n"
     ]
    },
    {
     "name": "stderr",
     "output_type": "stream",
     "text": [
      "100%|█████████▉| 22216/22222 [00:31<00:00, 712.65it/s] \n"
     ]
    },
    {
     "name": "stdout",
     "output_type": "stream",
     "text": [
      "EvaluatorHoldout: Processed 9989 (100.0%) in 4.99 sec. Users per second: 2001\n",
      "SLIMElasticNetRecommender: URM Detected 460 ( 3.6%) users with no interactions.\n",
      "SLIMElasticNetRecommender: URM Detected 328 ( 1.5%) items with no interactions.\n"
     ]
    },
    {
     "name": "stderr",
     "output_type": "stream",
     "text": [
      "100%|█████████▉| 22216/22222 [00:31<00:00, 703.80it/s] \n"
     ]
    },
    {
     "name": "stdout",
     "output_type": "stream",
     "text": [
      "EvaluatorHoldout: Processed 10024 (100.0%) in 4.90 sec. Users per second: 2046\n",
      "SLIMElasticNetRecommender: URM Detected 426 ( 3.4%) users with no interactions.\n",
      "SLIMElasticNetRecommender: URM Detected 344 ( 1.5%) items with no interactions.\n"
     ]
    },
    {
     "name": "stderr",
     "output_type": "stream",
     "text": [
      "100%|█████████▉| 22216/22222 [00:32<00:00, 692.91it/s] \n"
     ]
    },
    {
     "name": "stdout",
     "output_type": "stream",
     "text": [
      "EvaluatorHoldout: Processed 10030 (100.0%) in 4.89 sec. Users per second: 2051\n",
      "SLIMElasticNetRecommender: URM Detected 471 ( 3.7%) users with no interactions.\n",
      "SLIMElasticNetRecommender: URM Detected 362 ( 1.6%) items with no interactions.\n"
     ]
    },
    {
     "name": "stderr",
     "output_type": "stream",
     "text": [
      "100%|█████████▉| 22216/22222 [00:32<00:00, 690.22it/s]\n"
     ]
    },
    {
     "name": "stdout",
     "output_type": "stream",
     "text": [
      "EvaluatorHoldout: Processed 10052 (100.0%) in 4.63 sec. Users per second: 2170\n",
      "SLIMElasticNetRecommender: URM Detected 478 ( 3.8%) users with no interactions.\n",
      "SLIMElasticNetRecommender: URM Detected 329 ( 1.5%) items with no interactions.\n"
     ]
    },
    {
     "name": "stderr",
     "output_type": "stream",
     "text": [
      "100%|█████████▉| 22216/22222 [00:31<00:00, 701.44it/s]\n"
     ]
    },
    {
     "name": "stdout",
     "output_type": "stream",
     "text": [
      "EvaluatorHoldout: Processed 10045 (100.0%) in 4.60 sec. Users per second: 2182\n",
      "SLIMElasticNetRecommender: URM Detected 460 ( 3.6%) users with no interactions.\n",
      "SLIMElasticNetRecommender: URM Detected 348 ( 1.6%) items with no interactions.\n"
     ]
    },
    {
     "name": "stderr",
     "output_type": "stream",
     "text": [
      "100%|█████████▉| 22216/22222 [00:32<00:00, 688.97it/s]\n"
     ]
    },
    {
     "name": "stdout",
     "output_type": "stream",
     "text": [
      "EvaluatorHoldout: Processed 10068 (100.0%) in 4.84 sec. Users per second: 2079\n"
     ]
    },
    {
     "name": "stderr",
     "output_type": "stream",
     "text": [
      "[I 2024-01-10 13:51:38,985] Trial 49 finished with value: 0.14768033523902901 and parameters: {'alpha': 0.05542874491726227, 'l1_ratio': 0.0015905449109708044, 'topK': 1959}. Best is trial 30 with value: 0.1625164184315704.\n"
     ]
    },
    {
     "name": "stdout",
     "output_type": "stream",
     "text": [
      "SLIMElasticNetRecommender: URM Detected 508 ( 4.0%) users with no interactions.\n",
      "SLIMElasticNetRecommender: URM Detected 332 ( 1.5%) items with no interactions.\n"
     ]
    },
    {
     "name": "stderr",
     "output_type": "stream",
     "text": [
      "100%|█████████▉| 22216/22222 [00:13<00:00, 1591.44it/s]\n"
     ]
    },
    {
     "name": "stdout",
     "output_type": "stream",
     "text": [
      "EvaluatorHoldout: Processed 10057 (100.0%) in 2.54 sec. Users per second: 3955\n",
      "SLIMElasticNetRecommender: URM Detected 440 ( 3.5%) users with no interactions.\n",
      "SLIMElasticNetRecommender: URM Detected 325 ( 1.5%) items with no interactions.\n"
     ]
    },
    {
     "name": "stderr",
     "output_type": "stream",
     "text": [
      "100%|█████████▉| 22216/22222 [00:14<00:00, 1580.60it/s]\n"
     ]
    },
    {
     "name": "stdout",
     "output_type": "stream",
     "text": [
      "EvaluatorHoldout: Processed 10040 (100.0%) in 2.53 sec. Users per second: 3966\n",
      "SLIMElasticNetRecommender: URM Detected 479 ( 3.8%) users with no interactions.\n",
      "SLIMElasticNetRecommender: URM Detected 345 ( 1.6%) items with no interactions.\n"
     ]
    },
    {
     "name": "stderr",
     "output_type": "stream",
     "text": [
      "100%|█████████▉| 22216/22222 [00:14<00:00, 1561.10it/s]\n"
     ]
    },
    {
     "name": "stdout",
     "output_type": "stream",
     "text": [
      "EvaluatorHoldout: Processed 10017 (100.0%) in 2.51 sec. Users per second: 3988\n",
      "SLIMElasticNetRecommender: URM Detected 451 ( 3.6%) users with no interactions.\n",
      "SLIMElasticNetRecommender: URM Detected 311 ( 1.4%) items with no interactions.\n"
     ]
    },
    {
     "name": "stderr",
     "output_type": "stream",
     "text": [
      "100%|█████████▉| 22216/22222 [00:13<00:00, 1643.43it/s]\n"
     ]
    },
    {
     "name": "stdout",
     "output_type": "stream",
     "text": [
      "EvaluatorHoldout: Processed 10037 (100.0%) in 2.51 sec. Users per second: 4006\n",
      "SLIMElasticNetRecommender: URM Detected 449 ( 3.6%) users with no interactions.\n",
      "SLIMElasticNetRecommender: URM Detected 320 ( 1.4%) items with no interactions.\n"
     ]
    },
    {
     "name": "stderr",
     "output_type": "stream",
     "text": [
      "100%|█████████▉| 22216/22222 [00:14<00:00, 1575.99it/s]\n"
     ]
    },
    {
     "name": "stdout",
     "output_type": "stream",
     "text": [
      "EvaluatorHoldout: Processed 9989 (100.0%) in 2.58 sec. Users per second: 3876\n",
      "SLIMElasticNetRecommender: URM Detected 460 ( 3.6%) users with no interactions.\n",
      "SLIMElasticNetRecommender: URM Detected 328 ( 1.5%) items with no interactions.\n"
     ]
    },
    {
     "name": "stderr",
     "output_type": "stream",
     "text": [
      "100%|█████████▉| 22216/22222 [00:13<00:00, 1598.35it/s]\n"
     ]
    },
    {
     "name": "stdout",
     "output_type": "stream",
     "text": [
      "EvaluatorHoldout: Processed 10024 (100.0%) in 2.63 sec. Users per second: 3809\n",
      "SLIMElasticNetRecommender: URM Detected 426 ( 3.4%) users with no interactions.\n",
      "SLIMElasticNetRecommender: URM Detected 344 ( 1.5%) items with no interactions.\n"
     ]
    },
    {
     "name": "stderr",
     "output_type": "stream",
     "text": [
      "100%|█████████▉| 22216/22222 [00:14<00:00, 1574.50it/s]\n"
     ]
    },
    {
     "name": "stdout",
     "output_type": "stream",
     "text": [
      "EvaluatorHoldout: Processed 10030 (100.0%) in 2.66 sec. Users per second: 3772\n",
      "SLIMElasticNetRecommender: URM Detected 471 ( 3.7%) users with no interactions.\n",
      "SLIMElasticNetRecommender: URM Detected 362 ( 1.6%) items with no interactions.\n"
     ]
    },
    {
     "name": "stderr",
     "output_type": "stream",
     "text": [
      "100%|█████████▉| 22216/22222 [00:14<00:00, 1529.19it/s]\n"
     ]
    },
    {
     "name": "stdout",
     "output_type": "stream",
     "text": [
      "EvaluatorHoldout: Processed 10052 (100.0%) in 2.64 sec. Users per second: 3802\n",
      "SLIMElasticNetRecommender: URM Detected 478 ( 3.8%) users with no interactions.\n",
      "SLIMElasticNetRecommender: URM Detected 329 ( 1.5%) items with no interactions.\n"
     ]
    },
    {
     "name": "stderr",
     "output_type": "stream",
     "text": [
      "100%|█████████▉| 22216/22222 [00:14<00:00, 1558.13it/s]\n"
     ]
    },
    {
     "name": "stdout",
     "output_type": "stream",
     "text": [
      "EvaluatorHoldout: Processed 10045 (100.0%) in 2.64 sec. Users per second: 3811\n",
      "SLIMElasticNetRecommender: URM Detected 460 ( 3.6%) users with no interactions.\n",
      "SLIMElasticNetRecommender: URM Detected 348 ( 1.6%) items with no interactions.\n"
     ]
    },
    {
     "name": "stderr",
     "output_type": "stream",
     "text": [
      "100%|█████████▉| 22216/22222 [00:14<00:00, 1529.10it/s]\n"
     ]
    },
    {
     "name": "stdout",
     "output_type": "stream",
     "text": [
      "EvaluatorHoldout: Processed 10068 (100.0%) in 2.50 sec. Users per second: 4026\n"
     ]
    },
    {
     "name": "stderr",
     "output_type": "stream",
     "text": [
      "[I 2024-01-10 13:54:39,062] Trial 51 finished with value: 0.1282023446802071 and parameters: {'alpha': 0.00544910712382099, 'l1_ratio': 0.19333536688864975, 'topK': 4408}. Best is trial 30 with value: 0.1625164184315704.\n"
     ]
    },
    {
     "name": "stdout",
     "output_type": "stream",
     "text": [
      "SLIMElasticNetRecommender: URM Detected 508 ( 4.0%) users with no interactions.\n",
      "SLIMElasticNetRecommender: URM Detected 332 ( 1.5%) items with no interactions.\n"
     ]
    },
    {
     "name": "stderr",
     "output_type": "stream",
     "text": [
      "100%|█████████▉| 22216/22222 [00:15<00:00, 1425.45it/s]\n"
     ]
    },
    {
     "name": "stdout",
     "output_type": "stream",
     "text": [
      "EvaluatorHoldout: Processed 10057 (100.0%) in 2.79 sec. Users per second: 3606\n",
      "SLIMElasticNetRecommender: URM Detected 440 ( 3.5%) users with no interactions.\n",
      "SLIMElasticNetRecommender: URM Detected 325 ( 1.5%) items with no interactions.\n"
     ]
    },
    {
     "name": "stderr",
     "output_type": "stream",
     "text": [
      "100%|█████████▉| 22216/22222 [00:14<00:00, 1491.43it/s]\n"
     ]
    },
    {
     "name": "stdout",
     "output_type": "stream",
     "text": [
      "EvaluatorHoldout: Processed 10040 (100.0%) in 2.66 sec. Users per second: 3777\n",
      "SLIMElasticNetRecommender: URM Detected 479 ( 3.8%) users with no interactions.\n",
      "SLIMElasticNetRecommender: URM Detected 345 ( 1.6%) items with no interactions.\n"
     ]
    },
    {
     "name": "stderr",
     "output_type": "stream",
     "text": [
      "100%|█████████▉| 22216/22222 [00:15<00:00, 1412.69it/s]\n"
     ]
    },
    {
     "name": "stdout",
     "output_type": "stream",
     "text": [
      "EvaluatorHoldout: Processed 10017 (100.0%) in 3.04 sec. Users per second: 3295\n",
      "SLIMElasticNetRecommender: URM Detected 451 ( 3.6%) users with no interactions.\n",
      "SLIMElasticNetRecommender: URM Detected 311 ( 1.4%) items with no interactions.\n"
     ]
    },
    {
     "name": "stderr",
     "output_type": "stream",
     "text": [
      "100%|█████████▉| 22216/22222 [00:15<00:00, 1479.80it/s]\n"
     ]
    },
    {
     "name": "stdout",
     "output_type": "stream",
     "text": [
      "EvaluatorHoldout: Processed 10037 (100.0%) in 2.94 sec. Users per second: 3415\n",
      "SLIMElasticNetRecommender: URM Detected 449 ( 3.6%) users with no interactions.\n",
      "SLIMElasticNetRecommender: URM Detected 320 ( 1.4%) items with no interactions.\n"
     ]
    },
    {
     "name": "stderr",
     "output_type": "stream",
     "text": [
      "100%|█████████▉| 22216/22222 [00:14<00:00, 1490.35it/s]\n"
     ]
    },
    {
     "name": "stdout",
     "output_type": "stream",
     "text": [
      "EvaluatorHoldout: Processed 9989 (100.0%) in 2.89 sec. Users per second: 3461\n",
      "SLIMElasticNetRecommender: URM Detected 460 ( 3.6%) users with no interactions.\n",
      "SLIMElasticNetRecommender: URM Detected 328 ( 1.5%) items with no interactions.\n"
     ]
    },
    {
     "name": "stderr",
     "output_type": "stream",
     "text": [
      "100%|█████████▉| 22216/22222 [00:14<00:00, 1494.66it/s]\n"
     ]
    },
    {
     "name": "stdout",
     "output_type": "stream",
     "text": [
      "EvaluatorHoldout: Processed 10024 (100.0%) in 2.96 sec. Users per second: 3384\n",
      "SLIMElasticNetRecommender: URM Detected 426 ( 3.4%) users with no interactions.\n",
      "SLIMElasticNetRecommender: URM Detected 344 ( 1.5%) items with no interactions.\n"
     ]
    },
    {
     "name": "stderr",
     "output_type": "stream",
     "text": [
      "100%|█████████▉| 22216/22222 [00:15<00:00, 1458.03it/s]\n"
     ]
    },
    {
     "name": "stdout",
     "output_type": "stream",
     "text": [
      "EvaluatorHoldout: Processed 10030 (100.0%) in 2.80 sec. Users per second: 3577\n",
      "SLIMElasticNetRecommender: URM Detected 471 ( 3.7%) users with no interactions.\n",
      "SLIMElasticNetRecommender: URM Detected 362 ( 1.6%) items with no interactions.\n"
     ]
    },
    {
     "name": "stderr",
     "output_type": "stream",
     "text": [
      "100%|█████████▉| 22216/22222 [00:15<00:00, 1403.79it/s]\n"
     ]
    },
    {
     "name": "stdout",
     "output_type": "stream",
     "text": [
      "EvaluatorHoldout: Processed 10052 (100.0%) in 3.31 sec. Users per second: 3041\n",
      "SLIMElasticNetRecommender: URM Detected 478 ( 3.8%) users with no interactions.\n",
      "SLIMElasticNetRecommender: URM Detected 329 ( 1.5%) items with no interactions.\n"
     ]
    },
    {
     "name": "stderr",
     "output_type": "stream",
     "text": [
      "100%|█████████▉| 22216/22222 [00:15<00:00, 1457.70it/s]\n"
     ]
    },
    {
     "name": "stdout",
     "output_type": "stream",
     "text": [
      "EvaluatorHoldout: Processed 10045 (100.0%) in 2.85 sec. Users per second: 3521\n",
      "SLIMElasticNetRecommender: URM Detected 460 ( 3.6%) users with no interactions.\n",
      "SLIMElasticNetRecommender: URM Detected 348 ( 1.6%) items with no interactions.\n"
     ]
    },
    {
     "name": "stderr",
     "output_type": "stream",
     "text": [
      "100%|█████████▉| 22216/22222 [00:15<00:00, 1454.21it/s]\n"
     ]
    },
    {
     "name": "stdout",
     "output_type": "stream",
     "text": [
      "EvaluatorHoldout: Processed 10068 (100.0%) in 2.77 sec. Users per second: 3634\n"
     ]
    },
    {
     "name": "stderr",
     "output_type": "stream",
     "text": [
      "[I 2024-01-10 13:57:53,697] Trial 52 finished with value: 0.12911188729442055 and parameters: {'alpha': 0.12393272622526325, 'l1_ratio': 0.0042604460727553315, 'topK': 5515}. Best is trial 30 with value: 0.1625164184315704.\n"
     ]
    },
    {
     "name": "stdout",
     "output_type": "stream",
     "text": [
      "SLIMElasticNetRecommender: URM Detected 508 ( 4.0%) users with no interactions.\n",
      "SLIMElasticNetRecommender: URM Detected 332 ( 1.5%) items with no interactions.\n"
     ]
    },
    {
     "name": "stderr",
     "output_type": "stream",
     "text": [
      "100%|█████████▉| 22216/22222 [00:14<00:00, 1519.95it/s]\n"
     ]
    },
    {
     "name": "stdout",
     "output_type": "stream",
     "text": [
      "EvaluatorHoldout: Processed 10057 (100.0%) in 2.83 sec. Users per second: 3556\n",
      "SLIMElasticNetRecommender: URM Detected 440 ( 3.5%) users with no interactions.\n",
      "SLIMElasticNetRecommender: URM Detected 325 ( 1.5%) items with no interactions.\n"
     ]
    },
    {
     "name": "stderr",
     "output_type": "stream",
     "text": [
      "100%|█████████▉| 22216/22222 [00:14<00:00, 1558.89it/s]\n"
     ]
    },
    {
     "name": "stdout",
     "output_type": "stream",
     "text": [
      "EvaluatorHoldout: Processed 10040 (100.0%) in 2.71 sec. Users per second: 3705\n",
      "SLIMElasticNetRecommender: URM Detected 479 ( 3.8%) users with no interactions.\n",
      "SLIMElasticNetRecommender: URM Detected 345 ( 1.6%) items with no interactions.\n"
     ]
    },
    {
     "name": "stderr",
     "output_type": "stream",
     "text": [
      "100%|█████████▉| 22216/22222 [00:14<00:00, 1527.51it/s]\n"
     ]
    },
    {
     "name": "stdout",
     "output_type": "stream",
     "text": [
      "EvaluatorHoldout: Processed 10017 (100.0%) in 2.74 sec. Users per second: 3652\n",
      "SLIMElasticNetRecommender: URM Detected 451 ( 3.6%) users with no interactions.\n",
      "SLIMElasticNetRecommender: URM Detected 311 ( 1.4%) items with no interactions.\n"
     ]
    },
    {
     "name": "stderr",
     "output_type": "stream",
     "text": [
      "100%|█████████▉| 22216/22222 [00:13<00:00, 1682.42it/s]\n"
     ]
    },
    {
     "name": "stdout",
     "output_type": "stream",
     "text": [
      "EvaluatorHoldout: Processed 10037 (100.0%) in 2.62 sec. Users per second: 3829\n",
      "SLIMElasticNetRecommender: URM Detected 449 ( 3.6%) users with no interactions.\n",
      "SLIMElasticNetRecommender: URM Detected 320 ( 1.4%) items with no interactions.\n"
     ]
    },
    {
     "name": "stderr",
     "output_type": "stream",
     "text": [
      "100%|█████████▉| 22216/22222 [00:14<00:00, 1551.35it/s]\n"
     ]
    },
    {
     "name": "stdout",
     "output_type": "stream",
     "text": [
      "EvaluatorHoldout: Processed 9989 (100.0%) in 2.76 sec. Users per second: 3616\n",
      "SLIMElasticNetRecommender: URM Detected 460 ( 3.6%) users with no interactions.\n",
      "SLIMElasticNetRecommender: URM Detected 328 ( 1.5%) items with no interactions.\n"
     ]
    },
    {
     "name": "stderr",
     "output_type": "stream",
     "text": [
      "100%|█████████▉| 22216/22222 [00:14<00:00, 1562.13it/s]\n"
     ]
    },
    {
     "name": "stdout",
     "output_type": "stream",
     "text": [
      "EvaluatorHoldout: Processed 10024 (100.0%) in 2.84 sec. Users per second: 3527\n",
      "SLIMElasticNetRecommender: URM Detected 426 ( 3.4%) users with no interactions.\n",
      "SLIMElasticNetRecommender: URM Detected 344 ( 1.5%) items with no interactions.\n"
     ]
    },
    {
     "name": "stderr",
     "output_type": "stream",
     "text": [
      "100%|█████████▉| 22216/22222 [00:14<00:00, 1520.81it/s]\n"
     ]
    },
    {
     "name": "stdout",
     "output_type": "stream",
     "text": [
      "EvaluatorHoldout: Processed 10030 (100.0%) in 2.84 sec. Users per second: 3534\n",
      "SLIMElasticNetRecommender: URM Detected 471 ( 3.7%) users with no interactions.\n",
      "SLIMElasticNetRecommender: URM Detected 362 ( 1.6%) items with no interactions.\n"
     ]
    },
    {
     "name": "stderr",
     "output_type": "stream",
     "text": [
      "100%|█████████▉| 22216/22222 [00:14<00:00, 1527.24it/s]\n"
     ]
    },
    {
     "name": "stdout",
     "output_type": "stream",
     "text": [
      "EvaluatorHoldout: Processed 10052 (100.0%) in 2.47 sec. Users per second: 4065\n",
      "SLIMElasticNetRecommender: URM Detected 478 ( 3.8%) users with no interactions.\n",
      "SLIMElasticNetRecommender: URM Detected 329 ( 1.5%) items with no interactions.\n"
     ]
    },
    {
     "name": "stderr",
     "output_type": "stream",
     "text": [
      "100%|█████████▉| 22216/22222 [00:12<00:00, 1739.54it/s]\n"
     ]
    },
    {
     "name": "stdout",
     "output_type": "stream",
     "text": [
      "EvaluatorHoldout: Processed 10045 (100.0%) in 2.68 sec. Users per second: 3753\n",
      "SLIMElasticNetRecommender: URM Detected 460 ( 3.6%) users with no interactions.\n",
      "SLIMElasticNetRecommender: URM Detected 348 ( 1.6%) items with no interactions.\n"
     ]
    },
    {
     "name": "stderr",
     "output_type": "stream",
     "text": [
      "100%|█████████▉| 22216/22222 [00:14<00:00, 1502.55it/s]\n"
     ]
    },
    {
     "name": "stdout",
     "output_type": "stream",
     "text": [
      "EvaluatorHoldout: Processed 10068 (100.0%) in 2.83 sec. Users per second: 3562\n"
     ]
    },
    {
     "name": "stderr",
     "output_type": "stream",
     "text": [
      "[I 2024-01-10 14:00:55,984] Trial 53 finished with value: 0.11291793388477774 and parameters: {'alpha': 0.5901786707092603, 'l1_ratio': 0.0012524129267677264, 'topK': 966}. Best is trial 30 with value: 0.1625164184315704.\n"
     ]
    },
    {
     "name": "stdout",
     "output_type": "stream",
     "text": [
      "SLIMElasticNetRecommender: URM Detected 508 ( 4.0%) users with no interactions.\n",
      "SLIMElasticNetRecommender: URM Detected 332 ( 1.5%) items with no interactions.\n"
     ]
    },
    {
     "name": "stderr",
     "output_type": "stream",
     "text": [
      "100%|█████████▉| 22216/22222 [00:52<00:00, 422.76it/s]\n"
     ]
    },
    {
     "name": "stdout",
     "output_type": "stream",
     "text": [
      "EvaluatorHoldout: Processed 10057 (100.0%) in 6.74 sec. Users per second: 1493\n",
      "SLIMElasticNetRecommender: URM Detected 440 ( 3.5%) users with no interactions.\n",
      "SLIMElasticNetRecommender: URM Detected 325 ( 1.5%) items with no interactions.\n"
     ]
    },
    {
     "name": "stderr",
     "output_type": "stream",
     "text": [
      "100%|█████████▉| 22216/22222 [00:54<00:00, 409.67it/s]\n"
     ]
    },
    {
     "name": "stdout",
     "output_type": "stream",
     "text": [
      "EvaluatorHoldout: Processed 10040 (100.0%) in 6.08 sec. Users per second: 1650\n",
      "SLIMElasticNetRecommender: URM Detected 479 ( 3.8%) users with no interactions.\n",
      "SLIMElasticNetRecommender: URM Detected 345 ( 1.6%) items with no interactions.\n"
     ]
    },
    {
     "name": "stderr",
     "output_type": "stream",
     "text": [
      "100%|█████████▉| 22216/22222 [00:53<00:00, 418.12it/s]\n"
     ]
    },
    {
     "name": "stdout",
     "output_type": "stream",
     "text": [
      "EvaluatorHoldout: Processed 10017 (100.0%) in 6.54 sec. Users per second: 1531\n",
      "SLIMElasticNetRecommender: URM Detected 451 ( 3.6%) users with no interactions.\n",
      "SLIMElasticNetRecommender: URM Detected 311 ( 1.4%) items with no interactions.\n"
     ]
    },
    {
     "name": "stderr",
     "output_type": "stream",
     "text": [
      "100%|█████████▉| 22216/22222 [00:53<00:00, 419.09it/s]\n"
     ]
    },
    {
     "name": "stdout",
     "output_type": "stream",
     "text": [
      "EvaluatorHoldout: Processed 10037 (100.0%) in 6.71 sec. Users per second: 1496\n",
      "SLIMElasticNetRecommender: URM Detected 449 ( 3.6%) users with no interactions.\n",
      "SLIMElasticNetRecommender: URM Detected 320 ( 1.4%) items with no interactions.\n"
     ]
    },
    {
     "name": "stderr",
     "output_type": "stream",
     "text": [
      "100%|█████████▉| 22216/22222 [00:52<00:00, 420.53it/s]\n"
     ]
    },
    {
     "name": "stdout",
     "output_type": "stream",
     "text": [
      "EvaluatorHoldout: Processed 9989 (100.0%) in 5.94 sec. Users per second: 1681\n",
      "SLIMElasticNetRecommender: URM Detected 460 ( 3.6%) users with no interactions.\n",
      "SLIMElasticNetRecommender: URM Detected 328 ( 1.5%) items with no interactions.\n"
     ]
    },
    {
     "name": "stderr",
     "output_type": "stream",
     "text": [
      "100%|█████████▉| 22216/22222 [00:53<00:00, 414.43it/s]\n"
     ]
    },
    {
     "name": "stdout",
     "output_type": "stream",
     "text": [
      "EvaluatorHoldout: Processed 10024 (100.0%) in 6.51 sec. Users per second: 1541\n",
      "SLIMElasticNetRecommender: URM Detected 426 ( 3.4%) users with no interactions.\n",
      "SLIMElasticNetRecommender: URM Detected 344 ( 1.5%) items with no interactions.\n"
     ]
    },
    {
     "name": "stderr",
     "output_type": "stream",
     "text": [
      "100%|█████████▉| 22216/22222 [00:52<00:00, 420.74it/s]\n"
     ]
    },
    {
     "name": "stdout",
     "output_type": "stream",
     "text": [
      "EvaluatorHoldout: Processed 10030 (100.0%) in 6.64 sec. Users per second: 1510\n",
      "SLIMElasticNetRecommender: URM Detected 471 ( 3.7%) users with no interactions.\n",
      "SLIMElasticNetRecommender: URM Detected 362 ( 1.6%) items with no interactions.\n"
     ]
    },
    {
     "name": "stderr",
     "output_type": "stream",
     "text": [
      "100%|█████████▉| 22216/22222 [00:53<00:00, 414.13it/s]\n"
     ]
    },
    {
     "name": "stdout",
     "output_type": "stream",
     "text": [
      "EvaluatorHoldout: Processed 10052 (100.0%) in 6.29 sec. Users per second: 1598\n",
      "SLIMElasticNetRecommender: URM Detected 478 ( 3.8%) users with no interactions.\n",
      "SLIMElasticNetRecommender: URM Detected 329 ( 1.5%) items with no interactions.\n"
     ]
    },
    {
     "name": "stderr",
     "output_type": "stream",
     "text": [
      "100%|█████████▉| 22216/22222 [00:52<00:00, 423.03it/s]\n"
     ]
    },
    {
     "name": "stdout",
     "output_type": "stream",
     "text": [
      "EvaluatorHoldout: Processed 10045 (100.0%) in 6.12 sec. Users per second: 1641\n",
      "SLIMElasticNetRecommender: URM Detected 460 ( 3.6%) users with no interactions.\n",
      "SLIMElasticNetRecommender: URM Detected 348 ( 1.6%) items with no interactions.\n"
     ]
    },
    {
     "name": "stderr",
     "output_type": "stream",
     "text": [
      "100%|█████████▉| 22216/22222 [00:50<00:00, 442.86it/s]\n"
     ]
    },
    {
     "name": "stdout",
     "output_type": "stream",
     "text": [
      "EvaluatorHoldout: Processed 10068 (100.0%) in 6.41 sec. Users per second: 1570\n"
     ]
    },
    {
     "name": "stderr",
     "output_type": "stream",
     "text": [
      "[I 2024-01-10 14:11:04,656] Trial 54 finished with value: 0.15527358704484132 and parameters: {'alpha': 0.03074318661031146, 'l1_ratio': 7.617043253358551e-05, 'topK': 3239}. Best is trial 30 with value: 0.1625164184315704.\n"
     ]
    },
    {
     "name": "stdout",
     "output_type": "stream",
     "text": [
      "SLIMElasticNetRecommender: URM Detected 508 ( 4.0%) users with no interactions.\n",
      "SLIMElasticNetRecommender: URM Detected 332 ( 1.5%) items with no interactions.\n"
     ]
    },
    {
     "name": "stderr",
     "output_type": "stream",
     "text": [
      "100%|█████████▉| 22216/22222 [00:52<00:00, 419.40it/s]\n"
     ]
    },
    {
     "name": "stdout",
     "output_type": "stream",
     "text": [
      "EvaluatorHoldout: Processed 10057 (100.0%) in 6.35 sec. Users per second: 1585\n",
      "SLIMElasticNetRecommender: URM Detected 440 ( 3.5%) users with no interactions.\n",
      "SLIMElasticNetRecommender: URM Detected 325 ( 1.5%) items with no interactions.\n"
     ]
    },
    {
     "name": "stderr",
     "output_type": "stream",
     "text": [
      "100%|█████████▉| 22216/22222 [00:52<00:00, 424.36it/s]\n"
     ]
    },
    {
     "name": "stdout",
     "output_type": "stream",
     "text": [
      "EvaluatorHoldout: Processed 10040 (100.0%) in 5.73 sec. Users per second: 1753\n",
      "SLIMElasticNetRecommender: URM Detected 479 ( 3.8%) users with no interactions.\n",
      "SLIMElasticNetRecommender: URM Detected 345 ( 1.6%) items with no interactions.\n"
     ]
    },
    {
     "name": "stderr",
     "output_type": "stream",
     "text": [
      " 26%|██▌       | 5728/22222 [00:14<00:34, 483.32it/s][W 2024-01-10 14:13:27,397] Trial 56 failed with parameters: {'alpha': 0.020651375483212914, 'l1_ratio': 0.00015310379077054998, 'topK': 2852} because of the following error: KeyboardInterrupt().\n",
      "Traceback (most recent call last):\n",
      "  File \"/home/japo/miniconda3/envs/RecSysFramework/lib/python3.8/multiprocessing/pool.py\", line 851, in next\n",
      "    item = self._items.popleft()\n",
      "IndexError: pop from an empty deque\n",
      "\n",
      "During handling of the above exception, another exception occurred:\n",
      "\n",
      "Traceback (most recent call last):\n",
      "  File \"/home/japo/miniconda3/envs/RecSysFramework/lib/python3.8/site-packages/optuna/study/_optimize.py\", line 200, in _run_trial\n",
      "    value_or_values = func(trial)\n",
      "  File \"/tmp/ipykernel_390209/721047146.py\", line 12, in objective\n",
      "    recommender.fit(workers=8, **params)\n",
      "  File \"/home/japo/RecSys-Challenge/Recommenders/SLIM/SLIMElasticNetRecommender.py\", line 240, in fit\n",
      "    for values_, rows_, cols_ in pool.imap_unordered(_pfit, itemchunks, pool_chunksize):\n",
      "  File \"/home/japo/miniconda3/envs/RecSysFramework/lib/python3.8/multiprocessing/pool.py\", line 448, in <genexpr>\n",
      "    return (item for chunk in result for item in chunk)\n",
      "  File \"/home/japo/miniconda3/envs/RecSysFramework/lib/python3.8/multiprocessing/pool.py\", line 856, in next\n",
      "    self._cond.wait(timeout)\n",
      "  File \"/home/japo/miniconda3/envs/RecSysFramework/lib/python3.8/threading.py\", line 302, in wait\n",
      "    waiter.acquire()\n",
      "KeyboardInterrupt\n",
      "[W 2024-01-10 14:13:27,400] Trial 56 failed with value None.\n"
     ]
    },
    {
     "ename": "KeyboardInterrupt",
     "evalue": "",
     "output_type": "error",
     "traceback": [
      "\u001b[0;31m---------------------------------------------------------------------------\u001b[0m",
      "\u001b[0;31mIndexError\u001b[0m                                Traceback (most recent call last)",
      "File \u001b[0;32m~/miniconda3/envs/RecSysFramework/lib/python3.8/multiprocessing/pool.py:851\u001b[0m, in \u001b[0;36mIMapIterator.next\u001b[0;34m(self, timeout)\u001b[0m\n\u001b[1;32m    850\u001b[0m \u001b[38;5;28;01mtry\u001b[39;00m:\n\u001b[0;32m--> 851\u001b[0m     item \u001b[38;5;241m=\u001b[39m \u001b[38;5;28;43mself\u001b[39;49m\u001b[38;5;241;43m.\u001b[39;49m\u001b[43m_items\u001b[49m\u001b[38;5;241;43m.\u001b[39;49m\u001b[43mpopleft\u001b[49m\u001b[43m(\u001b[49m\u001b[43m)\u001b[49m\n\u001b[1;32m    852\u001b[0m \u001b[38;5;28;01mexcept\u001b[39;00m \u001b[38;5;167;01mIndexError\u001b[39;00m:\n",
      "\u001b[0;31mIndexError\u001b[0m: pop from an empty deque",
      "\nDuring handling of the above exception, another exception occurred:\n",
      "\u001b[0;31mKeyboardInterrupt\u001b[0m                         Traceback (most recent call last)",
      "Cell \u001b[0;32mIn[16], line 1\u001b[0m\n\u001b[0;32m----> 1\u001b[0m \u001b[43mstudy\u001b[49m\u001b[38;5;241;43m.\u001b[39;49m\u001b[43moptimize\u001b[49m\u001b[43m(\u001b[49m\u001b[43mobjective\u001b[49m\u001b[43m,\u001b[49m\u001b[43m \u001b[49m\u001b[43mn_trials\u001b[49m\u001b[38;5;241;43m=\u001b[39;49m\u001b[38;5;241;43m200\u001b[39;49m\u001b[43m)\u001b[49m\n",
      "File \u001b[0;32m~/miniconda3/envs/RecSysFramework/lib/python3.8/site-packages/optuna/study/study.py:451\u001b[0m, in \u001b[0;36mStudy.optimize\u001b[0;34m(self, func, n_trials, timeout, n_jobs, catch, callbacks, gc_after_trial, show_progress_bar)\u001b[0m\n\u001b[1;32m    348\u001b[0m \u001b[38;5;28;01mdef\u001b[39;00m \u001b[38;5;21moptimize\u001b[39m(\n\u001b[1;32m    349\u001b[0m     \u001b[38;5;28mself\u001b[39m,\n\u001b[1;32m    350\u001b[0m     func: ObjectiveFuncType,\n\u001b[0;32m   (...)\u001b[0m\n\u001b[1;32m    357\u001b[0m     show_progress_bar: \u001b[38;5;28mbool\u001b[39m \u001b[38;5;241m=\u001b[39m \u001b[38;5;28;01mFalse\u001b[39;00m,\n\u001b[1;32m    358\u001b[0m ) \u001b[38;5;241m-\u001b[39m\u001b[38;5;241m>\u001b[39m \u001b[38;5;28;01mNone\u001b[39;00m:\n\u001b[1;32m    359\u001b[0m \u001b[38;5;250m    \u001b[39m\u001b[38;5;124;03m\"\"\"Optimize an objective function.\u001b[39;00m\n\u001b[1;32m    360\u001b[0m \n\u001b[1;32m    361\u001b[0m \u001b[38;5;124;03m    Optimization is done by choosing a suitable set of hyperparameter values from a given\u001b[39;00m\n\u001b[0;32m   (...)\u001b[0m\n\u001b[1;32m    449\u001b[0m \u001b[38;5;124;03m            If nested invocation of this method occurs.\u001b[39;00m\n\u001b[1;32m    450\u001b[0m \u001b[38;5;124;03m    \"\"\"\u001b[39;00m\n\u001b[0;32m--> 451\u001b[0m     \u001b[43m_optimize\u001b[49m\u001b[43m(\u001b[49m\n\u001b[1;32m    452\u001b[0m \u001b[43m        \u001b[49m\u001b[43mstudy\u001b[49m\u001b[38;5;241;43m=\u001b[39;49m\u001b[38;5;28;43mself\u001b[39;49m\u001b[43m,\u001b[49m\n\u001b[1;32m    453\u001b[0m \u001b[43m        \u001b[49m\u001b[43mfunc\u001b[49m\u001b[38;5;241;43m=\u001b[39;49m\u001b[43mfunc\u001b[49m\u001b[43m,\u001b[49m\n\u001b[1;32m    454\u001b[0m \u001b[43m        \u001b[49m\u001b[43mn_trials\u001b[49m\u001b[38;5;241;43m=\u001b[39;49m\u001b[43mn_trials\u001b[49m\u001b[43m,\u001b[49m\n\u001b[1;32m    455\u001b[0m \u001b[43m        \u001b[49m\u001b[43mtimeout\u001b[49m\u001b[38;5;241;43m=\u001b[39;49m\u001b[43mtimeout\u001b[49m\u001b[43m,\u001b[49m\n\u001b[1;32m    456\u001b[0m \u001b[43m        \u001b[49m\u001b[43mn_jobs\u001b[49m\u001b[38;5;241;43m=\u001b[39;49m\u001b[43mn_jobs\u001b[49m\u001b[43m,\u001b[49m\n\u001b[1;32m    457\u001b[0m \u001b[43m        \u001b[49m\u001b[43mcatch\u001b[49m\u001b[38;5;241;43m=\u001b[39;49m\u001b[38;5;28;43mtuple\u001b[39;49m\u001b[43m(\u001b[49m\u001b[43mcatch\u001b[49m\u001b[43m)\u001b[49m\u001b[43m \u001b[49m\u001b[38;5;28;43;01mif\u001b[39;49;00m\u001b[43m \u001b[49m\u001b[38;5;28;43misinstance\u001b[39;49m\u001b[43m(\u001b[49m\u001b[43mcatch\u001b[49m\u001b[43m,\u001b[49m\u001b[43m \u001b[49m\u001b[43mIterable\u001b[49m\u001b[43m)\u001b[49m\u001b[43m \u001b[49m\u001b[38;5;28;43;01melse\u001b[39;49;00m\u001b[43m \u001b[49m\u001b[43m(\u001b[49m\u001b[43mcatch\u001b[49m\u001b[43m,\u001b[49m\u001b[43m)\u001b[49m\u001b[43m,\u001b[49m\n\u001b[1;32m    458\u001b[0m \u001b[43m        \u001b[49m\u001b[43mcallbacks\u001b[49m\u001b[38;5;241;43m=\u001b[39;49m\u001b[43mcallbacks\u001b[49m\u001b[43m,\u001b[49m\n\u001b[1;32m    459\u001b[0m \u001b[43m        \u001b[49m\u001b[43mgc_after_trial\u001b[49m\u001b[38;5;241;43m=\u001b[39;49m\u001b[43mgc_after_trial\u001b[49m\u001b[43m,\u001b[49m\n\u001b[1;32m    460\u001b[0m \u001b[43m        \u001b[49m\u001b[43mshow_progress_bar\u001b[49m\u001b[38;5;241;43m=\u001b[39;49m\u001b[43mshow_progress_bar\u001b[49m\u001b[43m,\u001b[49m\n\u001b[1;32m    461\u001b[0m \u001b[43m    \u001b[49m\u001b[43m)\u001b[49m\n",
      "File \u001b[0;32m~/miniconda3/envs/RecSysFramework/lib/python3.8/site-packages/optuna/study/_optimize.py:66\u001b[0m, in \u001b[0;36m_optimize\u001b[0;34m(study, func, n_trials, timeout, n_jobs, catch, callbacks, gc_after_trial, show_progress_bar)\u001b[0m\n\u001b[1;32m     64\u001b[0m \u001b[38;5;28;01mtry\u001b[39;00m:\n\u001b[1;32m     65\u001b[0m     \u001b[38;5;28;01mif\u001b[39;00m n_jobs \u001b[38;5;241m==\u001b[39m \u001b[38;5;241m1\u001b[39m:\n\u001b[0;32m---> 66\u001b[0m         \u001b[43m_optimize_sequential\u001b[49m\u001b[43m(\u001b[49m\n\u001b[1;32m     67\u001b[0m \u001b[43m            \u001b[49m\u001b[43mstudy\u001b[49m\u001b[43m,\u001b[49m\n\u001b[1;32m     68\u001b[0m \u001b[43m            \u001b[49m\u001b[43mfunc\u001b[49m\u001b[43m,\u001b[49m\n\u001b[1;32m     69\u001b[0m \u001b[43m            \u001b[49m\u001b[43mn_trials\u001b[49m\u001b[43m,\u001b[49m\n\u001b[1;32m     70\u001b[0m \u001b[43m            \u001b[49m\u001b[43mtimeout\u001b[49m\u001b[43m,\u001b[49m\n\u001b[1;32m     71\u001b[0m \u001b[43m            \u001b[49m\u001b[43mcatch\u001b[49m\u001b[43m,\u001b[49m\n\u001b[1;32m     72\u001b[0m \u001b[43m            \u001b[49m\u001b[43mcallbacks\u001b[49m\u001b[43m,\u001b[49m\n\u001b[1;32m     73\u001b[0m \u001b[43m            \u001b[49m\u001b[43mgc_after_trial\u001b[49m\u001b[43m,\u001b[49m\n\u001b[1;32m     74\u001b[0m \u001b[43m            \u001b[49m\u001b[43mreseed_sampler_rng\u001b[49m\u001b[38;5;241;43m=\u001b[39;49m\u001b[38;5;28;43;01mFalse\u001b[39;49;00m\u001b[43m,\u001b[49m\n\u001b[1;32m     75\u001b[0m \u001b[43m            \u001b[49m\u001b[43mtime_start\u001b[49m\u001b[38;5;241;43m=\u001b[39;49m\u001b[38;5;28;43;01mNone\u001b[39;49;00m\u001b[43m,\u001b[49m\n\u001b[1;32m     76\u001b[0m \u001b[43m            \u001b[49m\u001b[43mprogress_bar\u001b[49m\u001b[38;5;241;43m=\u001b[39;49m\u001b[43mprogress_bar\u001b[49m\u001b[43m,\u001b[49m\n\u001b[1;32m     77\u001b[0m \u001b[43m        \u001b[49m\u001b[43m)\u001b[49m\n\u001b[1;32m     78\u001b[0m     \u001b[38;5;28;01melse\u001b[39;00m:\n\u001b[1;32m     79\u001b[0m         \u001b[38;5;28;01mif\u001b[39;00m n_jobs \u001b[38;5;241m==\u001b[39m \u001b[38;5;241m-\u001b[39m\u001b[38;5;241m1\u001b[39m:\n",
      "File \u001b[0;32m~/miniconda3/envs/RecSysFramework/lib/python3.8/site-packages/optuna/study/_optimize.py:163\u001b[0m, in \u001b[0;36m_optimize_sequential\u001b[0;34m(study, func, n_trials, timeout, catch, callbacks, gc_after_trial, reseed_sampler_rng, time_start, progress_bar)\u001b[0m\n\u001b[1;32m    160\u001b[0m         \u001b[38;5;28;01mbreak\u001b[39;00m\n\u001b[1;32m    162\u001b[0m \u001b[38;5;28;01mtry\u001b[39;00m:\n\u001b[0;32m--> 163\u001b[0m     frozen_trial \u001b[38;5;241m=\u001b[39m \u001b[43m_run_trial\u001b[49m\u001b[43m(\u001b[49m\u001b[43mstudy\u001b[49m\u001b[43m,\u001b[49m\u001b[43m \u001b[49m\u001b[43mfunc\u001b[49m\u001b[43m,\u001b[49m\u001b[43m \u001b[49m\u001b[43mcatch\u001b[49m\u001b[43m)\u001b[49m\n\u001b[1;32m    164\u001b[0m \u001b[38;5;28;01mfinally\u001b[39;00m:\n\u001b[1;32m    165\u001b[0m     \u001b[38;5;66;03m# The following line mitigates memory problems that can be occurred in some\u001b[39;00m\n\u001b[1;32m    166\u001b[0m     \u001b[38;5;66;03m# environments (e.g., services that use computing containers such as GitHub Actions).\u001b[39;00m\n\u001b[1;32m    167\u001b[0m     \u001b[38;5;66;03m# Please refer to the following PR for further details:\u001b[39;00m\n\u001b[1;32m    168\u001b[0m     \u001b[38;5;66;03m# https://github.com/optuna/optuna/pull/325.\u001b[39;00m\n\u001b[1;32m    169\u001b[0m     \u001b[38;5;28;01mif\u001b[39;00m gc_after_trial:\n",
      "File \u001b[0;32m~/miniconda3/envs/RecSysFramework/lib/python3.8/site-packages/optuna/study/_optimize.py:251\u001b[0m, in \u001b[0;36m_run_trial\u001b[0;34m(study, func, catch)\u001b[0m\n\u001b[1;32m    244\u001b[0m         \u001b[38;5;28;01massert\u001b[39;00m \u001b[38;5;28;01mFalse\u001b[39;00m, \u001b[38;5;124m\"\u001b[39m\u001b[38;5;124mShould not reach.\u001b[39m\u001b[38;5;124m\"\u001b[39m\n\u001b[1;32m    246\u001b[0m \u001b[38;5;28;01mif\u001b[39;00m (\n\u001b[1;32m    247\u001b[0m     frozen_trial\u001b[38;5;241m.\u001b[39mstate \u001b[38;5;241m==\u001b[39m TrialState\u001b[38;5;241m.\u001b[39mFAIL\n\u001b[1;32m    248\u001b[0m     \u001b[38;5;129;01mand\u001b[39;00m func_err \u001b[38;5;129;01mis\u001b[39;00m \u001b[38;5;129;01mnot\u001b[39;00m \u001b[38;5;28;01mNone\u001b[39;00m\n\u001b[1;32m    249\u001b[0m     \u001b[38;5;129;01mand\u001b[39;00m \u001b[38;5;129;01mnot\u001b[39;00m \u001b[38;5;28misinstance\u001b[39m(func_err, catch)\n\u001b[1;32m    250\u001b[0m ):\n\u001b[0;32m--> 251\u001b[0m     \u001b[38;5;28;01mraise\u001b[39;00m func_err\n\u001b[1;32m    252\u001b[0m \u001b[38;5;28;01mreturn\u001b[39;00m frozen_trial\n",
      "File \u001b[0;32m~/miniconda3/envs/RecSysFramework/lib/python3.8/site-packages/optuna/study/_optimize.py:200\u001b[0m, in \u001b[0;36m_run_trial\u001b[0;34m(study, func, catch)\u001b[0m\n\u001b[1;32m    198\u001b[0m \u001b[38;5;28;01mwith\u001b[39;00m get_heartbeat_thread(trial\u001b[38;5;241m.\u001b[39m_trial_id, study\u001b[38;5;241m.\u001b[39m_storage):\n\u001b[1;32m    199\u001b[0m     \u001b[38;5;28;01mtry\u001b[39;00m:\n\u001b[0;32m--> 200\u001b[0m         value_or_values \u001b[38;5;241m=\u001b[39m \u001b[43mfunc\u001b[49m\u001b[43m(\u001b[49m\u001b[43mtrial\u001b[49m\u001b[43m)\u001b[49m\n\u001b[1;32m    201\u001b[0m     \u001b[38;5;28;01mexcept\u001b[39;00m exceptions\u001b[38;5;241m.\u001b[39mTrialPruned \u001b[38;5;28;01mas\u001b[39;00m e:\n\u001b[1;32m    202\u001b[0m         \u001b[38;5;66;03m# TODO(mamu): Handle multi-objective cases.\u001b[39;00m\n\u001b[1;32m    203\u001b[0m         state \u001b[38;5;241m=\u001b[39m TrialState\u001b[38;5;241m.\u001b[39mPRUNED\n",
      "Cell \u001b[0;32mIn[15], line 12\u001b[0m, in \u001b[0;36mobjective\u001b[0;34m(trial)\u001b[0m\n\u001b[1;32m     10\u001b[0m \u001b[38;5;28;01mfor\u001b[39;00m i \u001b[38;5;129;01min\u001b[39;00m \u001b[38;5;28mrange\u001b[39m(k_fold):\n\u001b[1;32m     11\u001b[0m     recommender \u001b[38;5;241m=\u001b[39m recommenderClass(urm_train[i])\n\u001b[0;32m---> 12\u001b[0m     \u001b[43mrecommender\u001b[49m\u001b[38;5;241;43m.\u001b[39;49m\u001b[43mfit\u001b[49m\u001b[43m(\u001b[49m\u001b[43mworkers\u001b[49m\u001b[38;5;241;43m=\u001b[39;49m\u001b[38;5;241;43m8\u001b[39;49m\u001b[43m,\u001b[49m\u001b[43m \u001b[49m\u001b[38;5;241;43m*\u001b[39;49m\u001b[38;5;241;43m*\u001b[39;49m\u001b[43mparams\u001b[49m\u001b[43m)\u001b[49m\n\u001b[1;32m     14\u001b[0m     result_dict, _ \u001b[38;5;241m=\u001b[39m evaluator_validation[i]\u001b[38;5;241m.\u001b[39mevaluateRecommender(recommender)\n\u001b[1;32m     16\u001b[0m     MAP \u001b[38;5;241m+\u001b[39m\u001b[38;5;241m=\u001b[39m result_dict[metric_to_optimize]\u001b[38;5;241m.\u001b[39mitem()\n",
      "File \u001b[0;32m~/RecSys-Challenge/Recommenders/SLIM/SLIMElasticNetRecommender.py:240\u001b[0m, in \u001b[0;36mMultiThreadSLIM_SLIMElasticNetRecommender.fit\u001b[0;34m(self, alpha, l1_ratio, positive_only, topK, verbose, workers)\u001b[0m\n\u001b[1;32m    238\u001b[0m \u001b[38;5;66;03m# res contains a vector of (values, rows, cols) tuples\u001b[39;00m\n\u001b[1;32m    239\u001b[0m values, rows, cols \u001b[38;5;241m=\u001b[39m [], [], []\n\u001b[0;32m--> 240\u001b[0m \u001b[38;5;28;01mfor\u001b[39;00m values_, rows_, cols_ \u001b[38;5;129;01min\u001b[39;00m pool\u001b[38;5;241m.\u001b[39mimap_unordered(_pfit, itemchunks, pool_chunksize):\n\u001b[1;32m    241\u001b[0m     values\u001b[38;5;241m.\u001b[39mextend(values_)\n\u001b[1;32m    242\u001b[0m     rows\u001b[38;5;241m.\u001b[39mextend(rows_)\n",
      "File \u001b[0;32m~/miniconda3/envs/RecSysFramework/lib/python3.8/multiprocessing/pool.py:448\u001b[0m, in \u001b[0;36m<genexpr>\u001b[0;34m(.0)\u001b[0m\n\u001b[1;32m    440\u001b[0m result \u001b[38;5;241m=\u001b[39m IMapUnorderedIterator(\u001b[38;5;28mself\u001b[39m)\n\u001b[1;32m    441\u001b[0m \u001b[38;5;28mself\u001b[39m\u001b[38;5;241m.\u001b[39m_taskqueue\u001b[38;5;241m.\u001b[39mput(\n\u001b[1;32m    442\u001b[0m     (\n\u001b[1;32m    443\u001b[0m         \u001b[38;5;28mself\u001b[39m\u001b[38;5;241m.\u001b[39m_guarded_task_generation(result\u001b[38;5;241m.\u001b[39m_job,\n\u001b[0;32m   (...)\u001b[0m\n\u001b[1;32m    446\u001b[0m         result\u001b[38;5;241m.\u001b[39m_set_length\n\u001b[1;32m    447\u001b[0m     ))\n\u001b[0;32m--> 448\u001b[0m \u001b[38;5;28;01mreturn\u001b[39;00m (item \u001b[38;5;28;01mfor\u001b[39;00m chunk \u001b[38;5;129;01min\u001b[39;00m result \u001b[38;5;28;01mfor\u001b[39;00m item \u001b[38;5;129;01min\u001b[39;00m chunk)\n",
      "File \u001b[0;32m~/miniconda3/envs/RecSysFramework/lib/python3.8/multiprocessing/pool.py:856\u001b[0m, in \u001b[0;36mIMapIterator.next\u001b[0;34m(self, timeout)\u001b[0m\n\u001b[1;32m    854\u001b[0m     \u001b[38;5;28mself\u001b[39m\u001b[38;5;241m.\u001b[39m_pool \u001b[38;5;241m=\u001b[39m \u001b[38;5;28;01mNone\u001b[39;00m\n\u001b[1;32m    855\u001b[0m     \u001b[38;5;28;01mraise\u001b[39;00m \u001b[38;5;167;01mStopIteration\u001b[39;00m \u001b[38;5;28;01mfrom\u001b[39;00m \u001b[38;5;28;01mNone\u001b[39;00m\n\u001b[0;32m--> 856\u001b[0m \u001b[38;5;28;43mself\u001b[39;49m\u001b[38;5;241;43m.\u001b[39;49m\u001b[43m_cond\u001b[49m\u001b[38;5;241;43m.\u001b[39;49m\u001b[43mwait\u001b[49m\u001b[43m(\u001b[49m\u001b[43mtimeout\u001b[49m\u001b[43m)\u001b[49m\n\u001b[1;32m    857\u001b[0m \u001b[38;5;28;01mtry\u001b[39;00m:\n\u001b[1;32m    858\u001b[0m     item \u001b[38;5;241m=\u001b[39m \u001b[38;5;28mself\u001b[39m\u001b[38;5;241m.\u001b[39m_items\u001b[38;5;241m.\u001b[39mpopleft()\n",
      "File \u001b[0;32m~/miniconda3/envs/RecSysFramework/lib/python3.8/threading.py:302\u001b[0m, in \u001b[0;36mCondition.wait\u001b[0;34m(self, timeout)\u001b[0m\n\u001b[1;32m    300\u001b[0m \u001b[38;5;28;01mtry\u001b[39;00m:    \u001b[38;5;66;03m# restore state no matter what (e.g., KeyboardInterrupt)\u001b[39;00m\n\u001b[1;32m    301\u001b[0m     \u001b[38;5;28;01mif\u001b[39;00m timeout \u001b[38;5;129;01mis\u001b[39;00m \u001b[38;5;28;01mNone\u001b[39;00m:\n\u001b[0;32m--> 302\u001b[0m         \u001b[43mwaiter\u001b[49m\u001b[38;5;241;43m.\u001b[39;49m\u001b[43macquire\u001b[49m\u001b[43m(\u001b[49m\u001b[43m)\u001b[49m\n\u001b[1;32m    303\u001b[0m         gotit \u001b[38;5;241m=\u001b[39m \u001b[38;5;28;01mTrue\u001b[39;00m\n\u001b[1;32m    304\u001b[0m     \u001b[38;5;28;01melse\u001b[39;00m:\n",
      "\u001b[0;31mKeyboardInterrupt\u001b[0m: "
     ]
    }
   ],
   "source": [
    "study.optimize(objective, n_trials=200)"
   ]
  },
  {
   "cell_type": "code",
   "execution_count": 17,
   "metadata": {},
   "outputs": [
    {
     "name": "stdout",
     "output_type": "stream",
     "text": [
      "SLIMElasticNetRecommender: URM Detected 508 ( 4.0%) users with no interactions.\n",
      "SLIMElasticNetRecommender: URM Detected 332 ( 1.5%) items with no interactions.\n"
     ]
    },
    {
     "name": "stderr",
     "output_type": "stream",
     "text": [
      "100%|█████████▉| 22216/22222 [00:52<00:00, 427.23it/s]\n"
     ]
    },
    {
     "name": "stdout",
     "output_type": "stream",
     "text": [
      "EvaluatorHoldout: Processed 10492 (100.0%) in 5.06 sec. Users per second: 2074\n",
      "SLIMElasticNetRecommender: URM Detected 440 ( 3.5%) users with no interactions.\n",
      "SLIMElasticNetRecommender: URM Detected 325 ( 1.5%) items with no interactions.\n"
     ]
    },
    {
     "name": "stderr",
     "output_type": "stream",
     "text": [
      "100%|█████████▉| 22216/22222 [00:53<00:00, 417.88it/s]\n"
     ]
    },
    {
     "name": "stdout",
     "output_type": "stream",
     "text": [
      "EvaluatorHoldout: Processed 10461 (100.0%) in 5.17 sec. Users per second: 2025\n",
      "SLIMElasticNetRecommender: URM Detected 479 ( 3.8%) users with no interactions.\n",
      "SLIMElasticNetRecommender: URM Detected 345 ( 1.6%) items with no interactions.\n"
     ]
    },
    {
     "name": "stderr",
     "output_type": "stream",
     "text": [
      "100%|█████████▉| 22216/22222 [00:54<00:00, 408.39it/s]\n"
     ]
    },
    {
     "name": "stdout",
     "output_type": "stream",
     "text": [
      "EvaluatorHoldout: Processed 10481 (100.0%) in 5.74 sec. Users per second: 1826\n",
      "SLIMElasticNetRecommender: URM Detected 451 ( 3.6%) users with no interactions.\n",
      "SLIMElasticNetRecommender: URM Detected 311 ( 1.4%) items with no interactions.\n"
     ]
    },
    {
     "name": "stderr",
     "output_type": "stream",
     "text": [
      "100%|█████████▉| 22216/22222 [00:52<00:00, 421.02it/s]\n"
     ]
    },
    {
     "name": "stdout",
     "output_type": "stream",
     "text": [
      "EvaluatorHoldout: Processed 10506 (100.0%) in 5.60 sec. Users per second: 1877\n",
      "SLIMElasticNetRecommender: URM Detected 449 ( 3.6%) users with no interactions.\n",
      "SLIMElasticNetRecommender: URM Detected 320 ( 1.4%) items with no interactions.\n"
     ]
    },
    {
     "name": "stderr",
     "output_type": "stream",
     "text": [
      "100%|█████████▉| 22216/22222 [00:51<00:00, 428.18it/s]\n"
     ]
    },
    {
     "name": "stdout",
     "output_type": "stream",
     "text": [
      "EvaluatorHoldout: Processed 10489 (100.0%) in 5.27 sec. Users per second: 1991\n",
      "SLIMElasticNetRecommender: URM Detected 460 ( 3.6%) users with no interactions.\n",
      "SLIMElasticNetRecommender: URM Detected 328 ( 1.5%) items with no interactions.\n"
     ]
    },
    {
     "name": "stderr",
     "output_type": "stream",
     "text": [
      "100%|█████████▉| 22216/22222 [00:49<00:00, 447.61it/s]\n"
     ]
    },
    {
     "name": "stdout",
     "output_type": "stream",
     "text": [
      "EvaluatorHoldout: Processed 10509 (100.0%) in 4.93 sec. Users per second: 2130\n",
      "SLIMElasticNetRecommender: URM Detected 426 ( 3.4%) users with no interactions.\n",
      "SLIMElasticNetRecommender: URM Detected 344 ( 1.5%) items with no interactions.\n"
     ]
    },
    {
     "name": "stderr",
     "output_type": "stream",
     "text": [
      "100%|█████████▉| 22216/22222 [00:49<00:00, 444.61it/s]\n"
     ]
    },
    {
     "name": "stdout",
     "output_type": "stream",
     "text": [
      "EvaluatorHoldout: Processed 10410 (100.0%) in 5.20 sec. Users per second: 2003\n",
      "SLIMElasticNetRecommender: URM Detected 471 ( 3.7%) users with no interactions.\n",
      "SLIMElasticNetRecommender: URM Detected 362 ( 1.6%) items with no interactions.\n"
     ]
    },
    {
     "name": "stderr",
     "output_type": "stream",
     "text": [
      "100%|█████████▉| 22216/22222 [00:49<00:00, 446.94it/s]\n"
     ]
    },
    {
     "name": "stdout",
     "output_type": "stream",
     "text": [
      "EvaluatorHoldout: Processed 10455 (100.0%) in 5.19 sec. Users per second: 2013\n",
      "SLIMElasticNetRecommender: URM Detected 478 ( 3.8%) users with no interactions.\n",
      "SLIMElasticNetRecommender: URM Detected 329 ( 1.5%) items with no interactions.\n"
     ]
    },
    {
     "name": "stderr",
     "output_type": "stream",
     "text": [
      "100%|█████████▉| 22216/22222 [00:49<00:00, 448.01it/s]\n"
     ]
    },
    {
     "name": "stdout",
     "output_type": "stream",
     "text": [
      "EvaluatorHoldout: Processed 10498 (100.0%) in 5.12 sec. Users per second: 2050\n",
      "SLIMElasticNetRecommender: URM Detected 460 ( 3.6%) users with no interactions.\n",
      "SLIMElasticNetRecommender: URM Detected 348 ( 1.6%) items with no interactions.\n"
     ]
    },
    {
     "name": "stderr",
     "output_type": "stream",
     "text": [
      "100%|█████████▉| 22216/22222 [00:49<00:00, 450.26it/s]\n"
     ]
    },
    {
     "name": "stdout",
     "output_type": "stream",
     "text": [
      "EvaluatorHoldout: Processed 10451 (100.0%) in 5.38 sec. Users per second: 1944\n"
     ]
    },
    {
     "data": {
      "text/plain": [
       "0.163103700028866"
      ]
     },
     "execution_count": 17,
     "metadata": {},
     "output_type": "execute_result"
    }
   ],
   "source": [
    "best_MAP_test = 0\n",
    "\n",
    "for i in range(k_fold):\n",
    "    recommender = recommenderClass(urm_train[i])\n",
    "    recommender.fit(workers=8, **study.best_params)\n",
    "\n",
    "    result_dict, _ = evaluator_test[i].evaluateRecommender(recommender)\n",
    "\n",
    "    best_MAP_test += result_dict[metric_to_optimize].item()\n",
    "\n",
    "best_MAP_test /= k_fold\n",
    "best_MAP_test"
   ]
  },
  {
   "cell_type": "code",
   "execution_count": 18,
   "metadata": {},
   "outputs": [
    {
     "name": "stdout",
     "output_type": "stream",
     "text": [
      "SLIMElasticNetRecommender: URM Detected 249 ( 2.0%) users with no interactions.\n",
      "SLIMElasticNetRecommender: URM Detected 113 ( 0.5%) items with no interactions.\n"
     ]
    },
    {
     "name": "stderr",
     "output_type": "stream",
     "text": [
      "100%|█████████▉| 22216/22222 [00:56<00:00, 396.65it/s]\n"
     ]
    },
    {
     "name": "stdout",
     "output_type": "stream",
     "text": [
      "EvaluatorHoldout: Processed 10492 (100.0%) in 5.34 sec. Users per second: 1964\n",
      "SLIMElasticNetRecommender: URM Detected 191 ( 1.5%) users with no interactions.\n",
      "SLIMElasticNetRecommender: URM Detected 101 ( 0.5%) items with no interactions.\n"
     ]
    },
    {
     "name": "stderr",
     "output_type": "stream",
     "text": [
      "100%|█████████▉| 22216/22222 [00:53<00:00, 411.78it/s]\n"
     ]
    },
    {
     "name": "stdout",
     "output_type": "stream",
     "text": [
      "EvaluatorHoldout: Processed 10461 (100.0%) in 5.79 sec. Users per second: 1806\n",
      "SLIMElasticNetRecommender: URM Detected 235 ( 1.9%) users with no interactions.\n",
      "SLIMElasticNetRecommender: URM Detected 105 ( 0.5%) items with no interactions.\n"
     ]
    },
    {
     "name": "stderr",
     "output_type": "stream",
     "text": [
      "100%|█████████▉| 22216/22222 [00:54<00:00, 410.30it/s]\n"
     ]
    },
    {
     "name": "stdout",
     "output_type": "stream",
     "text": [
      "EvaluatorHoldout: Processed 10481 (100.0%) in 5.29 sec. Users per second: 1981\n",
      "SLIMElasticNetRecommender: URM Detected 218 ( 1.7%) users with no interactions.\n",
      "SLIMElasticNetRecommender: URM Detected 112 ( 0.5%) items with no interactions.\n"
     ]
    },
    {
     "name": "stderr",
     "output_type": "stream",
     "text": [
      "100%|█████████▉| 22216/22222 [00:54<00:00, 408.19it/s]\n"
     ]
    },
    {
     "name": "stdout",
     "output_type": "stream",
     "text": [
      "EvaluatorHoldout: Processed 10506 (100.0%) in 5.39 sec. Users per second: 1950\n",
      "SLIMElasticNetRecommender: URM Detected 220 ( 1.7%) users with no interactions.\n",
      "SLIMElasticNetRecommender: URM Detected 134 ( 0.6%) items with no interactions.\n"
     ]
    },
    {
     "name": "stderr",
     "output_type": "stream",
     "text": [
      "100%|█████████▉| 22216/22222 [00:55<00:00, 403.34it/s]\n"
     ]
    },
    {
     "name": "stdout",
     "output_type": "stream",
     "text": [
      "EvaluatorHoldout: Processed 10489 (100.0%) in 5.63 sec. Users per second: 1864\n",
      "SLIMElasticNetRecommender: URM Detected 224 ( 1.8%) users with no interactions.\n",
      "SLIMElasticNetRecommender: URM Detected 109 ( 0.5%) items with no interactions.\n"
     ]
    },
    {
     "name": "stderr",
     "output_type": "stream",
     "text": [
      "100%|█████████▉| 22216/22222 [00:54<00:00, 406.23it/s]\n"
     ]
    },
    {
     "name": "stdout",
     "output_type": "stream",
     "text": [
      "EvaluatorHoldout: Processed 10509 (100.0%) in 5.50 sec. Users per second: 1911\n",
      "SLIMElasticNetRecommender: URM Detected 207 ( 1.6%) users with no interactions.\n",
      "SLIMElasticNetRecommender: URM Detected 114 ( 0.5%) items with no interactions.\n"
     ]
    },
    {
     "name": "stderr",
     "output_type": "stream",
     "text": [
      "100%|█████████▉| 22216/22222 [00:53<00:00, 412.32it/s]\n"
     ]
    },
    {
     "name": "stdout",
     "output_type": "stream",
     "text": [
      "EvaluatorHoldout: Processed 10410 (100.0%) in 5.38 sec. Users per second: 1933\n",
      "SLIMElasticNetRecommender: URM Detected 218 ( 1.7%) users with no interactions.\n",
      "SLIMElasticNetRecommender: URM Detected 141 ( 0.6%) items with no interactions.\n"
     ]
    },
    {
     "name": "stderr",
     "output_type": "stream",
     "text": [
      "100%|█████████▉| 22216/22222 [00:53<00:00, 414.93it/s]\n"
     ]
    },
    {
     "name": "stdout",
     "output_type": "stream",
     "text": [
      "EvaluatorHoldout: Processed 10455 (100.0%) in 5.44 sec. Users per second: 1922\n",
      "SLIMElasticNetRecommender: URM Detected 214 ( 1.7%) users with no interactions.\n",
      "SLIMElasticNetRecommender: URM Detected 117 ( 0.5%) items with no interactions.\n"
     ]
    },
    {
     "name": "stderr",
     "output_type": "stream",
     "text": [
      "100%|█████████▉| 22216/22222 [00:55<00:00, 397.10it/s]\n"
     ]
    },
    {
     "name": "stdout",
     "output_type": "stream",
     "text": [
      "EvaluatorHoldout: Processed 10498 (100.0%) in 5.10 sec. Users per second: 2058\n",
      "SLIMElasticNetRecommender: URM Detected 217 ( 1.7%) users with no interactions.\n",
      "SLIMElasticNetRecommender: URM Detected 113 ( 0.5%) items with no interactions.\n"
     ]
    },
    {
     "name": "stderr",
     "output_type": "stream",
     "text": []
    },
    {
     "ename": "KeyboardInterrupt",
     "evalue": "",
     "output_type": "error",
     "traceback": [
      "\u001b[0;31m---------------------------------------------------------------------------\u001b[0m",
      "\u001b[0;31mIndexError\u001b[0m                                Traceback (most recent call last)",
      "File \u001b[0;32m~/miniconda3/envs/RecSysFramework/lib/python3.8/multiprocessing/pool.py:851\u001b[0m, in \u001b[0;36mIMapIterator.next\u001b[0;34m(self, timeout)\u001b[0m\n\u001b[1;32m    850\u001b[0m \u001b[38;5;28;01mtry\u001b[39;00m:\n\u001b[0;32m--> 851\u001b[0m     item \u001b[38;5;241m=\u001b[39m \u001b[38;5;28;43mself\u001b[39;49m\u001b[38;5;241;43m.\u001b[39;49m\u001b[43m_items\u001b[49m\u001b[38;5;241;43m.\u001b[39;49m\u001b[43mpopleft\u001b[49m\u001b[43m(\u001b[49m\u001b[43m)\u001b[49m\n\u001b[1;32m    852\u001b[0m \u001b[38;5;28;01mexcept\u001b[39;00m \u001b[38;5;167;01mIndexError\u001b[39;00m:\n",
      "\u001b[0;31mIndexError\u001b[0m: pop from an empty deque",
      "\nDuring handling of the above exception, another exception occurred:\n",
      "\u001b[0;31mKeyboardInterrupt\u001b[0m                         Traceback (most recent call last)",
      "Cell \u001b[0;32mIn[18], line 5\u001b[0m\n\u001b[1;32m      3\u001b[0m \u001b[38;5;28;01mfor\u001b[39;00m i \u001b[38;5;129;01min\u001b[39;00m \u001b[38;5;28mrange\u001b[39m(k_fold):\n\u001b[1;32m      4\u001b[0m     recommender \u001b[38;5;241m=\u001b[39m recommenderClass(urm_train_validation[i])\n\u001b[0;32m----> 5\u001b[0m     \u001b[43mrecommender\u001b[49m\u001b[38;5;241;43m.\u001b[39;49m\u001b[43mfit\u001b[49m\u001b[43m(\u001b[49m\u001b[43mworkers\u001b[49m\u001b[38;5;241;43m=\u001b[39;49m\u001b[38;5;241;43m8\u001b[39;49m\u001b[43m,\u001b[49m\u001b[38;5;241;43m*\u001b[39;49m\u001b[38;5;241;43m*\u001b[39;49m\u001b[43mstudy\u001b[49m\u001b[38;5;241;43m.\u001b[39;49m\u001b[43mbest_params\u001b[49m\u001b[43m)\u001b[49m\n\u001b[1;32m      7\u001b[0m     result_dict, _ \u001b[38;5;241m=\u001b[39m evaluator_test[i]\u001b[38;5;241m.\u001b[39mevaluateRecommender(recommender)\n\u001b[1;32m      9\u001b[0m     best_MAP_test \u001b[38;5;241m+\u001b[39m\u001b[38;5;241m=\u001b[39m result_dict[metric_to_optimize]\u001b[38;5;241m.\u001b[39mitem()\n",
      "File \u001b[0;32m~/RecSys-Challenge/Recommenders/SLIM/SLIMElasticNetRecommender.py:240\u001b[0m, in \u001b[0;36mMultiThreadSLIM_SLIMElasticNetRecommender.fit\u001b[0;34m(self, alpha, l1_ratio, positive_only, topK, verbose, workers)\u001b[0m\n\u001b[1;32m    238\u001b[0m \u001b[38;5;66;03m# res contains a vector of (values, rows, cols) tuples\u001b[39;00m\n\u001b[1;32m    239\u001b[0m values, rows, cols \u001b[38;5;241m=\u001b[39m [], [], []\n\u001b[0;32m--> 240\u001b[0m \u001b[38;5;28;01mfor\u001b[39;00m values_, rows_, cols_ \u001b[38;5;129;01min\u001b[39;00m pool\u001b[38;5;241m.\u001b[39mimap_unordered(_pfit, itemchunks, pool_chunksize):\n\u001b[1;32m    241\u001b[0m     values\u001b[38;5;241m.\u001b[39mextend(values_)\n\u001b[1;32m    242\u001b[0m     rows\u001b[38;5;241m.\u001b[39mextend(rows_)\n",
      "File \u001b[0;32m~/miniconda3/envs/RecSysFramework/lib/python3.8/multiprocessing/pool.py:448\u001b[0m, in \u001b[0;36m<genexpr>\u001b[0;34m(.0)\u001b[0m\n\u001b[1;32m    440\u001b[0m result \u001b[38;5;241m=\u001b[39m IMapUnorderedIterator(\u001b[38;5;28mself\u001b[39m)\n\u001b[1;32m    441\u001b[0m \u001b[38;5;28mself\u001b[39m\u001b[38;5;241m.\u001b[39m_taskqueue\u001b[38;5;241m.\u001b[39mput(\n\u001b[1;32m    442\u001b[0m     (\n\u001b[1;32m    443\u001b[0m         \u001b[38;5;28mself\u001b[39m\u001b[38;5;241m.\u001b[39m_guarded_task_generation(result\u001b[38;5;241m.\u001b[39m_job,\n\u001b[0;32m   (...)\u001b[0m\n\u001b[1;32m    446\u001b[0m         result\u001b[38;5;241m.\u001b[39m_set_length\n\u001b[1;32m    447\u001b[0m     ))\n\u001b[0;32m--> 448\u001b[0m \u001b[38;5;28;01mreturn\u001b[39;00m (item \u001b[38;5;28;01mfor\u001b[39;00m chunk \u001b[38;5;129;01min\u001b[39;00m result \u001b[38;5;28;01mfor\u001b[39;00m item \u001b[38;5;129;01min\u001b[39;00m chunk)\n",
      "File \u001b[0;32m~/miniconda3/envs/RecSysFramework/lib/python3.8/multiprocessing/pool.py:856\u001b[0m, in \u001b[0;36mIMapIterator.next\u001b[0;34m(self, timeout)\u001b[0m\n\u001b[1;32m    854\u001b[0m     \u001b[38;5;28mself\u001b[39m\u001b[38;5;241m.\u001b[39m_pool \u001b[38;5;241m=\u001b[39m \u001b[38;5;28;01mNone\u001b[39;00m\n\u001b[1;32m    855\u001b[0m     \u001b[38;5;28;01mraise\u001b[39;00m \u001b[38;5;167;01mStopIteration\u001b[39;00m \u001b[38;5;28;01mfrom\u001b[39;00m \u001b[38;5;28;01mNone\u001b[39;00m\n\u001b[0;32m--> 856\u001b[0m \u001b[38;5;28;43mself\u001b[39;49m\u001b[38;5;241;43m.\u001b[39;49m\u001b[43m_cond\u001b[49m\u001b[38;5;241;43m.\u001b[39;49m\u001b[43mwait\u001b[49m\u001b[43m(\u001b[49m\u001b[43mtimeout\u001b[49m\u001b[43m)\u001b[49m\n\u001b[1;32m    857\u001b[0m \u001b[38;5;28;01mtry\u001b[39;00m:\n\u001b[1;32m    858\u001b[0m     item \u001b[38;5;241m=\u001b[39m \u001b[38;5;28mself\u001b[39m\u001b[38;5;241m.\u001b[39m_items\u001b[38;5;241m.\u001b[39mpopleft()\n",
      "File \u001b[0;32m~/miniconda3/envs/RecSysFramework/lib/python3.8/threading.py:302\u001b[0m, in \u001b[0;36mCondition.wait\u001b[0;34m(self, timeout)\u001b[0m\n\u001b[1;32m    300\u001b[0m \u001b[38;5;28;01mtry\u001b[39;00m:    \u001b[38;5;66;03m# restore state no matter what (e.g., KeyboardInterrupt)\u001b[39;00m\n\u001b[1;32m    301\u001b[0m     \u001b[38;5;28;01mif\u001b[39;00m timeout \u001b[38;5;129;01mis\u001b[39;00m \u001b[38;5;28;01mNone\u001b[39;00m:\n\u001b[0;32m--> 302\u001b[0m         \u001b[43mwaiter\u001b[49m\u001b[38;5;241;43m.\u001b[39;49m\u001b[43macquire\u001b[49m\u001b[43m(\u001b[49m\u001b[43m)\u001b[49m\n\u001b[1;32m    303\u001b[0m         gotit \u001b[38;5;241m=\u001b[39m \u001b[38;5;28;01mTrue\u001b[39;00m\n\u001b[1;32m    304\u001b[0m     \u001b[38;5;28;01melse\u001b[39;00m:\n",
      "\u001b[0;31mKeyboardInterrupt\u001b[0m: "
     ]
    }
   ],
   "source": [
    "best_MAP_test = 0\n",
    "\n",
    "for i in range(k_fold):\n",
    "    recommender = recommenderClass(urm_train_validation[i])\n",
    "    recommender.fit(workers=8,**study.best_params)\n",
    "\n",
    "    result_dict, _ = evaluator_test[i].evaluateRecommender(recommender)\n",
    "\n",
    "    best_MAP_test += result_dict[metric_to_optimize].item()\n",
    "\n",
    "best_MAP_test /= k_fold\n",
    "best_MAP_test"
   ]
  }
 ],
 "metadata": {
  "kernelspec": {
   "display_name": "RecSysFramework",
   "language": "python",
   "name": "python3"
  },
  "language_info": {
   "codemirror_mode": {
    "name": "ipython",
    "version": 3
   },
   "file_extension": ".py",
   "mimetype": "text/x-python",
   "name": "python",
   "nbconvert_exporter": "python",
   "pygments_lexer": "ipython3",
   "version": "3.8.18"
  }
 },
 "nbformat": 4,
 "nbformat_minor": 2
}
