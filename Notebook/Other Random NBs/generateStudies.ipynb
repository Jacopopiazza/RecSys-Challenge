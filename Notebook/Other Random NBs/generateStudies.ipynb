{
 "cells": [
  {
   "cell_type": "code",
   "execution_count": 1,
   "metadata": {},
   "outputs": [],
   "source": [
    "import os\n",
    "os.chdir( \"../\")"
   ]
  },
  {
   "cell_type": "code",
   "execution_count": 2,
   "metadata": {},
   "outputs": [
    {
     "data": {
      "text/plain": [
       "8"
      ]
     },
     "execution_count": 2,
     "metadata": {},
     "output_type": "execute_result"
    }
   ],
   "source": [
    "import psutil\n",
    "num_cpus = psutil.cpu_count(logical=False)\n",
    "num_cpus \n"
   ]
  },
  {
   "cell_type": "code",
   "execution_count": 3,
   "metadata": {},
   "outputs": [
    {
     "data": {
      "text/html": [
       "<div>\n",
       "<style scoped>\n",
       "    .dataframe tbody tr th:only-of-type {\n",
       "        vertical-align: middle;\n",
       "    }\n",
       "\n",
       "    .dataframe tbody tr th {\n",
       "        vertical-align: top;\n",
       "    }\n",
       "\n",
       "    .dataframe thead th {\n",
       "        text-align: right;\n",
       "    }\n",
       "</style>\n",
       "<table border=\"1\" class=\"dataframe\">\n",
       "  <thead>\n",
       "    <tr style=\"text-align: right;\">\n",
       "      <th></th>\n",
       "      <th>UserID</th>\n",
       "      <th>ItemID</th>\n",
       "      <th>Interaction</th>\n",
       "    </tr>\n",
       "  </thead>\n",
       "  <tbody>\n",
       "    <tr>\n",
       "      <th>0</th>\n",
       "      <td>1</td>\n",
       "      <td>15</td>\n",
       "      <td>1.0</td>\n",
       "    </tr>\n",
       "    <tr>\n",
       "      <th>1</th>\n",
       "      <td>1</td>\n",
       "      <td>16</td>\n",
       "      <td>1.0</td>\n",
       "    </tr>\n",
       "    <tr>\n",
       "      <th>2</th>\n",
       "      <td>1</td>\n",
       "      <td>133</td>\n",
       "      <td>1.0</td>\n",
       "    </tr>\n",
       "    <tr>\n",
       "      <th>3</th>\n",
       "      <td>1</td>\n",
       "      <td>161</td>\n",
       "      <td>1.0</td>\n",
       "    </tr>\n",
       "    <tr>\n",
       "      <th>4</th>\n",
       "      <td>1</td>\n",
       "      <td>187</td>\n",
       "      <td>1.0</td>\n",
       "    </tr>\n",
       "    <tr>\n",
       "      <th>...</th>\n",
       "      <td>...</td>\n",
       "      <td>...</td>\n",
       "      <td>...</td>\n",
       "    </tr>\n",
       "    <tr>\n",
       "      <th>478724</th>\n",
       "      <td>13024</td>\n",
       "      <td>13605</td>\n",
       "      <td>1.0</td>\n",
       "    </tr>\n",
       "    <tr>\n",
       "      <th>478725</th>\n",
       "      <td>13024</td>\n",
       "      <td>13823</td>\n",
       "      <td>1.0</td>\n",
       "    </tr>\n",
       "    <tr>\n",
       "      <th>478726</th>\n",
       "      <td>13024</td>\n",
       "      <td>15122</td>\n",
       "      <td>1.0</td>\n",
       "    </tr>\n",
       "    <tr>\n",
       "      <th>478727</th>\n",
       "      <td>13024</td>\n",
       "      <td>18185</td>\n",
       "      <td>1.0</td>\n",
       "    </tr>\n",
       "    <tr>\n",
       "      <th>478728</th>\n",
       "      <td>13024</td>\n",
       "      <td>20014</td>\n",
       "      <td>1.0</td>\n",
       "    </tr>\n",
       "  </tbody>\n",
       "</table>\n",
       "<p>478729 rows × 3 columns</p>\n",
       "</div>"
      ],
      "text/plain": [
       "        UserID  ItemID  Interaction\n",
       "0            1      15          1.0\n",
       "1            1      16          1.0\n",
       "2            1     133          1.0\n",
       "3            1     161          1.0\n",
       "4            1     187          1.0\n",
       "...        ...     ...          ...\n",
       "478724   13024   13605          1.0\n",
       "478725   13024   13823          1.0\n",
       "478726   13024   15122          1.0\n",
       "478727   13024   18185          1.0\n",
       "478728   13024   20014          1.0\n",
       "\n",
       "[478729 rows x 3 columns]"
      ]
     },
     "execution_count": 3,
     "metadata": {},
     "output_type": "execute_result"
    }
   ],
   "source": [
    "import pandas as pd\n",
    "import numpy as np\n",
    "\n",
    "path = \"Dataset/data_train.csv\"\n",
    "df = pd.read_csv(filepath_or_buffer=path,\n",
    "                               sep=\",\",\n",
    "                               header=1,\n",
    "                               engine='python',\n",
    "                               names=['UserID', 'ItemID', 'Interaction'])\n",
    "\n",
    "\n",
    "df"
   ]
  },
  {
   "cell_type": "code",
   "execution_count": 4,
   "metadata": {},
   "outputs": [
    {
     "name": "stdout",
     "output_type": "stream",
     "text": [
      "Number of users: 12638, Number of Items: 22222, Min rating: 0.0, Max rating: 1.0\n"
     ]
    }
   ],
   "source": [
    "user_ids = df[\"UserID\"].unique().tolist()\n",
    "user2user_encoded = {x: i for i, x in enumerate(user_ids)}\n",
    "userencoded2user = {i: x for i, x in enumerate(user_ids)}\n",
    "item_ids = df[\"ItemID\"].unique().tolist()\n",
    "item2item_encoded = {x: i for i, x in enumerate(item_ids)}\n",
    "item_encoded2item = {i: x for i, x in enumerate(item_ids)}\n",
    "df[\"User\"] = df[\"UserID\"].map(user2user_encoded)\n",
    "df[\"Item\"] = df[\"ItemID\"].map(item2item_encoded)\n",
    "\n",
    "num_users = len(user2user_encoded)\n",
    "num_items = len(item_encoded2item)\n",
    "df[\"Interaction\"] = df[\"Interaction\"].values.astype(np.float32)\n",
    "\n",
    "# min and max ratings will be used to normalize the ratings later\n",
    "min_rating = 0.0\n",
    "max_rating = max(df[\"Interaction\"])\n",
    "\n",
    "print(\n",
    "    \"Number of users: {}, Number of Items: {}, Min rating: {}, Max rating: {}\".format(\n",
    "        num_users, num_items, min_rating, max_rating\n",
    "    )\n",
    ")"
   ]
  },
  {
   "cell_type": "code",
   "execution_count": 5,
   "metadata": {},
   "outputs": [],
   "source": [
    "userId_unique = df[\"UserID\"].unique()\n",
    "itemId_unique = df[\"ItemID\"].unique()"
   ]
  },
  {
   "cell_type": "code",
   "execution_count": 6,
   "metadata": {},
   "outputs": [
    {
     "name": "stdout",
     "output_type": "stream",
     "text": [
      "Warning: 229 (1.81 %) of 12638 users have no train items\n",
      "Warning: 2166 (17.14 %) of 12638 users have no sampled items\n",
      "Warning: 481 (3.81 %) of 12638 users have no train items\n",
      "Warning: 2565 (20.30 %) of 12638 users have no sampled items\n",
      "Warning: 217 (1.72 %) of 12638 users have no train items\n",
      "Warning: 2150 (17.01 %) of 12638 users have no sampled items\n",
      "Warning: 453 (3.58 %) of 12638 users have no train items\n",
      "Warning: 2625 (20.77 %) of 12638 users have no sampled items\n",
      "Warning: 223 (1.76 %) of 12638 users have no train items\n",
      "Warning: 2190 (17.33 %) of 12638 users have no sampled items\n",
      "Warning: 446 (3.53 %) of 12638 users have no train items\n",
      "Warning: 2596 (20.54 %) of 12638 users have no sampled items\n",
      "Warning: 227 (1.80 %) of 12638 users have no train items\n",
      "Warning: 2194 (17.36 %) of 12638 users have no sampled items\n",
      "Warning: 450 (3.56 %) of 12638 users have no train items\n",
      "Warning: 2666 (21.10 %) of 12638 users have no sampled items\n",
      "Warning: 243 (1.92 %) of 12638 users have no train items\n",
      "Warning: 2165 (17.13 %) of 12638 users have no sampled items\n",
      "Warning: 474 (3.75 %) of 12638 users have no train items\n",
      "Warning: 2621 (20.74 %) of 12638 users have no sampled items\n",
      "Warning: 239 (1.89 %) of 12638 users have no train items\n",
      "Warning: 2145 (16.97 %) of 12638 users have no sampled items\n",
      "Warning: 481 (3.81 %) of 12638 users have no train items\n",
      "Warning: 2652 (20.98 %) of 12638 users have no sampled items\n",
      "Warning: 201 (1.59 %) of 12638 users have no train items\n",
      "Warning: 2171 (17.18 %) of 12638 users have no sampled items\n",
      "Warning: 443 (3.51 %) of 12638 users have no train items\n",
      "Warning: 2570 (20.34 %) of 12638 users have no sampled items\n",
      "Warning: 220 (1.74 %) of 12638 users have no train items\n",
      "Warning: 2198 (17.39 %) of 12638 users have no sampled items\n",
      "Warning: 467 (3.70 %) of 12638 users have no train items\n",
      "Warning: 2646 (20.94 %) of 12638 users have no sampled items\n"
     ]
    }
   ],
   "source": [
    "from sklearn.model_selection import train_test_split\n",
    "from sklearn.model_selection import cross_val_score, KFold\n",
    "import numpy as np\n",
    "import scipy.sparse as sps\n",
    "from Data_manager.split_functions.split_train_validation_random_holdout import split_train_in_two_percentage_global_sample\n",
    "\n",
    "seeds = [\n",
    "    1811854, 3772146, 6407100, 6926227, 1340378, \n",
    "    68679, 3822303, 4058970, 1264160, 1100338, \n",
    "    6552126, 725363, 8362134, 9446122, 5256199, \n",
    "    4686339, 3830906, 7315366, 9428914, 5564236, \n",
    "    3420043, 9223036, 851434, 3300082, 7899660, \n",
    "    2053768, 4305274, 3709256, 8795594, 1418903, \n",
    "    7428566, 157832\n",
    "]\n",
    "\n",
    "seeds = seeds[:num_cpus]\n",
    "\n",
    "urm_all = sps.coo_matrix((df[\"Interaction\"].values, \n",
    "                          (df[\"User\"].values, df[\"Item\"].values)))\n",
    "\n",
    "urm_train_validation = []\n",
    "urm_test = []\n",
    "urm_train = []\n",
    "urm_validation = []\n",
    "\n",
    "for i in range(len(seeds)):\n",
    "    a, b = split_train_in_two_percentage_global_sample(urm_all, train_percentage = 0.80,seed=seeds[i])\n",
    "    c, d = split_train_in_two_percentage_global_sample(a, train_percentage = 0.80,seed=seeds[i])\n",
    "    urm_train_validation.append(a)\n",
    "    urm_test.append(b)\n",
    "    urm_train.append(c)\n",
    "    urm_validation.append(d)\n",
    "\n"
   ]
  },
  {
   "cell_type": "code",
   "execution_count": 7,
   "metadata": {},
   "outputs": [],
   "source": [
    "num_users = len(userId_unique)\n",
    "num_items = len(itemId_unique)"
   ]
  },
  {
   "cell_type": "code",
   "execution_count": 8,
   "metadata": {},
   "outputs": [
    {
     "name": "stdout",
     "output_type": "stream",
     "text": [
      "EvaluatorHoldout: Ignoring 2166 (17.1%) Users that have less than 1 test interactions\n",
      "EvaluatorHoldout: Ignoring 0 Users\n",
      "EvaluatorHoldout: Ignoring 2150 (17.0%) Users that have less than 1 test interactions\n",
      "EvaluatorHoldout: Ignoring 0 Users\n",
      "EvaluatorHoldout: Ignoring 2190 (17.3%) Users that have less than 1 test interactions\n",
      "EvaluatorHoldout: Ignoring 0 Users\n",
      "EvaluatorHoldout: Ignoring 2194 (17.4%) Users that have less than 1 test interactions\n",
      "EvaluatorHoldout: Ignoring 0 Users\n",
      "EvaluatorHoldout: Ignoring 2165 (17.1%) Users that have less than 1 test interactions\n",
      "EvaluatorHoldout: Ignoring 0 Users\n",
      "EvaluatorHoldout: Ignoring 2145 (17.0%) Users that have less than 1 test interactions\n",
      "EvaluatorHoldout: Ignoring 0 Users\n",
      "EvaluatorHoldout: Ignoring 2171 (17.2%) Users that have less than 1 test interactions\n",
      "EvaluatorHoldout: Ignoring 0 Users\n",
      "EvaluatorHoldout: Ignoring 2198 (17.4%) Users that have less than 1 test interactions\n",
      "EvaluatorHoldout: Ignoring 0 Users\n"
     ]
    }
   ],
   "source": [
    "from Evaluation.Evaluator import EvaluatorHoldout\n",
    "evaluator_test = []\n",
    "for u in urm_test:\n",
    "    evaluator_test.append(EvaluatorHoldout(u, cutoff_list=[10], ignore_users=[]))"
   ]
  },
  {
   "cell_type": "code",
   "execution_count": 9,
   "metadata": {},
   "outputs": [],
   "source": [
    "import os\n",
    "\n",
    "output_folder_path = \"result_experiments_xg/\"\n",
    "\n",
    "# If directory does not exist, create\n",
    "if not os.path.exists(output_folder_path):\n",
    "    os.makedirs(output_folder_path)\n",
    "    \n",
    "n_cases = 1000  # using 10 as an example\n",
    "n_random_starts = int(n_cases*0.3)\n",
    "metric_to_optimize = \"MAP\"   \n",
    "cutoff_to_optimize = 10"
   ]
  },
  {
   "cell_type": "code",
   "execution_count": 10,
   "metadata": {},
   "outputs": [
    {
     "name": "stderr",
     "output_type": "stream",
     "text": [
      "2024-01-08 07:15:27.243070: W tensorflow/stream_executor/platform/default/dso_loader.cc:64] Could not load dynamic library 'libcudart.so.11.0'; dlerror: libcudart.so.11.0: cannot open shared object file: No such file or directory\n",
      "2024-01-08 07:15:27.243093: I tensorflow/stream_executor/cuda/cudart_stub.cc:29] Ignore above cudart dlerror if you do not have a GPU set up on your machine.\n"
     ]
    }
   ],
   "source": [
    "from HyperparameterTuning.SearchAbstractClass import SearchInputRecommenderArgs\n",
    "from HyperparameterTuning.SearchBayesianSkopt import SearchBayesianSkopt\n",
    "\n",
    "from HyperparameterTuning.run_hyperparameter_search import runHyperparameterSearch_Collaborative, runHyperparameterSearch_Content\n",
    "from Recommenders.NonPersonalizedRecommender import TopPop, Random\n",
    "from Recommenders.GraphBased.P3alphaRecommender import P3alphaRecommender\n",
    "from Recommenders.SLIM.SLIMElasticNetRecommender import SLIMElasticNetRecommender, MultiThreadSLIM_SLIMElasticNetRecommender\n",
    "import os, multiprocessing\n",
    "from functools import partial\n",
    "from skopt.space import Real, Integer, Categorical\n"
   ]
  },
  {
   "cell_type": "code",
   "execution_count": null,
   "metadata": {},
   "outputs": [],
   "source": []
  },
  {
   "cell_type": "code",
   "execution_count": null,
   "metadata": {},
   "outputs": [],
   "source": []
  },
  {
   "cell_type": "code",
   "execution_count": 11,
   "metadata": {},
   "outputs": [],
   "source": [
    "from concurrent.futures import ProcessPoolExecutor\n",
    "from skopt import gp_minimize\n",
    "from skopt.space import Real, Integer, Categorical\n",
    "import time\n",
    "from Recommenders.Incremental_Training_Early_Stopping import Incremental_Training_Early_Stopping"
   ]
  },
  {
   "cell_type": "code",
   "execution_count": 12,
   "metadata": {},
   "outputs": [
    {
     "name": "stderr",
     "output_type": "stream",
     "text": [
      "[I 2024-01-08 07:15:29,175] Using an existing study with name 'SLIMEN_8FOLD' instead of creating a new one.\n"
     ]
    }
   ],
   "source": [
    "import optuna\n",
    "\n",
    "host = \"192.168.16.83\"\n",
    "port = 3306\n",
    "database_name = \"optuna_mio\"\n",
    "username = \"optuna\"\n",
    "password = \"your_password\"\n",
    "\n",
    "# Create an SQLAlchemy engine\n",
    "mysql_url = f\"mysql+pymysql://{username}:{password}@{host}:{port}/{database_name}\"\n",
    "mysql_url\n",
    "storage = optuna.storages.RDBStorage(url=mysql_url)\n",
    "\n",
    "study_name = \"SLIMEN_8FOLD\"\n",
    "\n",
    "study = optuna.create_study(study_name=study_name, storage=storage, load_if_exists=True, direction=\"maximize\", sampler=optuna.samplers.CmaEsSampler())\n",
    "\n",
    "model = MultiThreadSLIM_SLIMElasticNetRecommender"
   ]
  },
  {
   "cell_type": "code",
   "execution_count": 13,
   "metadata": {},
   "outputs": [],
   "source": [
    "def objective(trial):\n",
    "\n",
    "    params = {\n",
    "        \"topK\": trial.suggest_int(\"topK\",5, 5000),\n",
    "        \"l1_ratio\": trial.suggest_float(\"l1_ratio\",low = 1e-5, high = 1.0, log=True),\n",
    "        \"alpha\": trial.suggest_float(\"alpha\",low = 1e-3, high = 1.0, log=True),\n",
    "    }\n",
    "\n",
    "    score = 0\n",
    "    for i, _ in enumerate(seeds):\n",
    "        recommender = model(urm_train_validation[i])\n",
    "        recommender.fit(workers=12, **params)\n",
    "        \n",
    "        result, _ = evaluator_test[i].evaluateRecommender(recommender)\n",
    "        MAP_result = result[\"MAP\"].item()\n",
    "            \n",
    "        score += MAP_result\n",
    "    \n",
    "    score = score /len(seeds)\n",
    "       \n",
    "    return score"
   ]
  },
  {
   "cell_type": "code",
   "execution_count": 17,
   "metadata": {},
   "outputs": [
    {
     "name": "stdout",
     "output_type": "stream",
     "text": [
      "SLIMElasticNetRecommender: URM Detected 229 ( 1.8%) users with no interactions.\n",
      "SLIMElasticNetRecommender: URM Detected 126 ( 0.6%) items with no interactions.\n"
     ]
    },
    {
     "name": "stderr",
     "output_type": "stream",
     "text": [
      "100%|█████████▉| 22216/22222 [00:51<00:00, 429.26it/s]\n"
     ]
    },
    {
     "name": "stdout",
     "output_type": "stream",
     "text": [
      "EvaluatorHoldout: Processed 10472 (100.0%) in 5.34 sec. Users per second: 1962\n",
      "SLIMElasticNetRecommender: URM Detected 217 ( 1.7%) users with no interactions.\n",
      "SLIMElasticNetRecommender: URM Detected 113 ( 0.5%) items with no interactions.\n"
     ]
    },
    {
     "name": "stderr",
     "output_type": "stream",
     "text": [
      "100%|█████████▉| 22216/22222 [00:47<00:00, 464.89it/s]\n"
     ]
    },
    {
     "name": "stdout",
     "output_type": "stream",
     "text": [
      "EvaluatorHoldout: Processed 10488 (100.0%) in 5.12 sec. Users per second: 2050\n",
      "SLIMElasticNetRecommender: URM Detected 223 ( 1.8%) users with no interactions.\n",
      "SLIMElasticNetRecommender: URM Detected 106 ( 0.5%) items with no interactions.\n"
     ]
    },
    {
     "name": "stderr",
     "output_type": "stream",
     "text": [
      "100%|█████████▉| 22216/22222 [00:48<00:00, 457.19it/s]\n"
     ]
    },
    {
     "name": "stdout",
     "output_type": "stream",
     "text": [
      "EvaluatorHoldout: Processed 10448 (100.0%) in 5.23 sec. Users per second: 1996\n",
      "SLIMElasticNetRecommender: URM Detected 227 ( 1.8%) users with no interactions.\n",
      "SLIMElasticNetRecommender: URM Detected 109 ( 0.5%) items with no interactions.\n"
     ]
    },
    {
     "name": "stderr",
     "output_type": "stream",
     "text": [
      "100%|█████████▉| 22216/22222 [00:49<00:00, 445.18it/s]\n"
     ]
    },
    {
     "name": "stdout",
     "output_type": "stream",
     "text": [
      "EvaluatorHoldout: Processed 10444 (100.0%) in 5.15 sec. Users per second: 2030\n",
      "SLIMElasticNetRecommender: URM Detected 243 ( 1.9%) users with no interactions.\n",
      "SLIMElasticNetRecommender: URM Detected 122 ( 0.5%) items with no interactions.\n"
     ]
    },
    {
     "name": "stderr",
     "output_type": "stream",
     "text": [
      "100%|█████████▉| 22216/22222 [00:47<00:00, 471.69it/s]\n"
     ]
    },
    {
     "name": "stdout",
     "output_type": "stream",
     "text": [
      "EvaluatorHoldout: Processed 10473 (100.0%) in 5.16 sec. Users per second: 2028\n",
      "SLIMElasticNetRecommender: URM Detected 239 ( 1.9%) users with no interactions.\n",
      "SLIMElasticNetRecommender: URM Detected 109 ( 0.5%) items with no interactions.\n"
     ]
    },
    {
     "name": "stderr",
     "output_type": "stream",
     "text": [
      "100%|█████████▉| 22216/22222 [00:46<00:00, 473.90it/s]\n"
     ]
    },
    {
     "name": "stdout",
     "output_type": "stream",
     "text": [
      "EvaluatorHoldout: Processed 10493 (100.0%) in 5.07 sec. Users per second: 2070\n",
      "SLIMElasticNetRecommender: URM Detected 201 ( 1.6%) users with no interactions.\n",
      "SLIMElasticNetRecommender: URM Detected 114 ( 0.5%) items with no interactions.\n"
     ]
    },
    {
     "name": "stderr",
     "output_type": "stream",
     "text": [
      "100%|█████████▉| 22216/22222 [00:48<00:00, 459.74it/s]\n"
     ]
    },
    {
     "name": "stdout",
     "output_type": "stream",
     "text": [
      "EvaluatorHoldout: Processed 10467 (100.0%) in 5.07 sec. Users per second: 2064\n",
      "SLIMElasticNetRecommender: URM Detected 220 ( 1.7%) users with no interactions.\n",
      "SLIMElasticNetRecommender: URM Detected 118 ( 0.5%) items with no interactions.\n"
     ]
    },
    {
     "name": "stderr",
     "output_type": "stream",
     "text": [
      "100%|█████████▉| 22216/22222 [00:46<00:00, 475.87it/s]\n"
     ]
    },
    {
     "name": "stdout",
     "output_type": "stream",
     "text": [
      "EvaluatorHoldout: Processed 10440 (100.0%) in 5.16 sec. Users per second: 2023\n"
     ]
    },
    {
     "name": "stderr",
     "output_type": "stream",
     "text": [
      "[I 2024-01-08 12:18:30,005] Trial 110 finished with value: 0.04924758305909388 and parameters: {'topK': 1521, 'l1_ratio': 0.048357124238544144, 'alpha': 0.0012471847348880189}. Best is trial 74 with value: 0.0494009148817492.\n"
     ]
    },
    {
     "name": "stdout",
     "output_type": "stream",
     "text": [
      "SLIMElasticNetRecommender: URM Detected 229 ( 1.8%) users with no interactions.\n",
      "SLIMElasticNetRecommender: URM Detected 126 ( 0.6%) items with no interactions.\n"
     ]
    },
    {
     "name": "stderr",
     "output_type": "stream",
     "text": [
      "100%|█████████▉| 22216/22222 [00:54<00:00, 408.83it/s]\n"
     ]
    },
    {
     "name": "stdout",
     "output_type": "stream",
     "text": [
      "EvaluatorHoldout: Processed 10472 (100.0%) in 5.34 sec. Users per second: 1962\n",
      "SLIMElasticNetRecommender: URM Detected 217 ( 1.7%) users with no interactions.\n",
      "SLIMElasticNetRecommender: URM Detected 113 ( 0.5%) items with no interactions.\n"
     ]
    },
    {
     "name": "stderr",
     "output_type": "stream",
     "text": [
      "100%|█████████▉| 22216/22222 [00:53<00:00, 418.31it/s]\n"
     ]
    },
    {
     "name": "stdout",
     "output_type": "stream",
     "text": [
      "EvaluatorHoldout: Processed 10488 (100.0%) in 5.62 sec. Users per second: 1865\n",
      "SLIMElasticNetRecommender: URM Detected 223 ( 1.8%) users with no interactions.\n",
      "SLIMElasticNetRecommender: URM Detected 106 ( 0.5%) items with no interactions.\n"
     ]
    },
    {
     "name": "stderr",
     "output_type": "stream",
     "text": [
      "100%|█████████▉| 22216/22222 [00:53<00:00, 414.37it/s]\n"
     ]
    },
    {
     "name": "stdout",
     "output_type": "stream",
     "text": [
      "EvaluatorHoldout: Processed 10448 (100.0%) in 5.12 sec. Users per second: 2040\n",
      "SLIMElasticNetRecommender: URM Detected 227 ( 1.8%) users with no interactions.\n",
      "SLIMElasticNetRecommender: URM Detected 109 ( 0.5%) items with no interactions.\n"
     ]
    },
    {
     "name": "stderr",
     "output_type": "stream",
     "text": [
      "100%|█████████▉| 22216/22222 [00:52<00:00, 420.34it/s]\n"
     ]
    },
    {
     "name": "stdout",
     "output_type": "stream",
     "text": [
      "EvaluatorHoldout: Processed 10444 (100.0%) in 5.40 sec. Users per second: 1935\n",
      "SLIMElasticNetRecommender: URM Detected 243 ( 1.9%) users with no interactions.\n",
      "SLIMElasticNetRecommender: URM Detected 122 ( 0.5%) items with no interactions.\n"
     ]
    },
    {
     "name": "stderr",
     "output_type": "stream",
     "text": [
      "100%|█████████▉| 22216/22222 [00:53<00:00, 417.51it/s]\n"
     ]
    },
    {
     "name": "stdout",
     "output_type": "stream",
     "text": [
      "EvaluatorHoldout: Processed 10473 (100.0%) in 5.43 sec. Users per second: 1928\n",
      "SLIMElasticNetRecommender: URM Detected 239 ( 1.9%) users with no interactions.\n",
      "SLIMElasticNetRecommender: URM Detected 109 ( 0.5%) items with no interactions.\n"
     ]
    },
    {
     "name": "stderr",
     "output_type": "stream",
     "text": [
      "100%|█████████▉| 22216/22222 [00:53<00:00, 414.62it/s]\n"
     ]
    },
    {
     "name": "stdout",
     "output_type": "stream",
     "text": [
      "EvaluatorHoldout: Processed 10493 (100.0%) in 5.23 sec. Users per second: 2005\n",
      "SLIMElasticNetRecommender: URM Detected 201 ( 1.6%) users with no interactions.\n",
      "SLIMElasticNetRecommender: URM Detected 114 ( 0.5%) items with no interactions.\n"
     ]
    },
    {
     "name": "stderr",
     "output_type": "stream",
     "text": [
      "100%|█████████▉| 22216/22222 [00:41<00:00, 531.24it/s]\n"
     ]
    },
    {
     "name": "stdout",
     "output_type": "stream",
     "text": [
      "EvaluatorHoldout: Processed 10467 (100.0%) in 4.25 sec. Users per second: 2462\n",
      "SLIMElasticNetRecommender: URM Detected 220 ( 1.7%) users with no interactions.\n",
      "SLIMElasticNetRecommender: URM Detected 118 ( 0.5%) items with no interactions.\n"
     ]
    },
    {
     "name": "stderr",
     "output_type": "stream",
     "text": [
      "100%|█████████▉| 22216/22222 [00:37<00:00, 585.37it/s]\n"
     ]
    },
    {
     "name": "stdout",
     "output_type": "stream",
     "text": [
      "EvaluatorHoldout: Processed 10440 (100.0%) in 4.30 sec. Users per second: 2426\n"
     ]
    },
    {
     "name": "stderr",
     "output_type": "stream",
     "text": [
      "[I 2024-01-08 12:25:53,899] Trial 111 finished with value: 0.048774138334066026 and parameters: {'topK': 2209, 'l1_ratio': 0.02428780424723715, 'alpha': 0.0013091852337713866}. Best is trial 74 with value: 0.0494009148817492.\n"
     ]
    },
    {
     "name": "stdout",
     "output_type": "stream",
     "text": [
      "SLIMElasticNetRecommender: URM Detected 229 ( 1.8%) users with no interactions.\n",
      "SLIMElasticNetRecommender: URM Detected 126 ( 0.6%) items with no interactions.\n"
     ]
    },
    {
     "name": "stderr",
     "output_type": "stream",
     "text": [
      "100%|█████████▉| 22216/22222 [00:36<00:00, 603.51it/s]\n"
     ]
    },
    {
     "name": "stdout",
     "output_type": "stream",
     "text": [
      "EvaluatorHoldout: Processed 10472 (100.0%) in 4.11 sec. Users per second: 2547\n",
      "SLIMElasticNetRecommender: URM Detected 217 ( 1.7%) users with no interactions.\n",
      "SLIMElasticNetRecommender: URM Detected 113 ( 0.5%) items with no interactions.\n"
     ]
    },
    {
     "name": "stderr",
     "output_type": "stream",
     "text": [
      "100%|█████████▉| 22216/22222 [00:36<00:00, 604.54it/s]\n"
     ]
    },
    {
     "name": "stdout",
     "output_type": "stream",
     "text": [
      "EvaluatorHoldout: Processed 10488 (100.0%) in 4.20 sec. Users per second: 2500\n",
      "SLIMElasticNetRecommender: URM Detected 223 ( 1.8%) users with no interactions.\n",
      "SLIMElasticNetRecommender: URM Detected 106 ( 0.5%) items with no interactions.\n"
     ]
    },
    {
     "name": "stderr",
     "output_type": "stream",
     "text": [
      "100%|█████████▉| 22216/22222 [00:36<00:00, 608.83it/s]\n"
     ]
    },
    {
     "name": "stdout",
     "output_type": "stream",
     "text": [
      "EvaluatorHoldout: Processed 10448 (100.0%) in 4.35 sec. Users per second: 2403\n",
      "SLIMElasticNetRecommender: URM Detected 227 ( 1.8%) users with no interactions.\n",
      "SLIMElasticNetRecommender: URM Detected 109 ( 0.5%) items with no interactions.\n"
     ]
    },
    {
     "name": "stderr",
     "output_type": "stream",
     "text": [
      "100%|█████████▉| 22216/22222 [00:36<00:00, 604.64it/s]\n"
     ]
    },
    {
     "name": "stdout",
     "output_type": "stream",
     "text": [
      "EvaluatorHoldout: Processed 10444 (100.0%) in 4.26 sec. Users per second: 2449\n",
      "SLIMElasticNetRecommender: URM Detected 243 ( 1.9%) users with no interactions.\n",
      "SLIMElasticNetRecommender: URM Detected 122 ( 0.5%) items with no interactions.\n"
     ]
    },
    {
     "name": "stderr",
     "output_type": "stream",
     "text": [
      "100%|█████████▉| 22216/22222 [00:37<00:00, 589.32it/s]\n"
     ]
    },
    {
     "name": "stdout",
     "output_type": "stream",
     "text": [
      "EvaluatorHoldout: Processed 10473 (100.0%) in 4.24 sec. Users per second: 2467\n",
      "SLIMElasticNetRecommender: URM Detected 239 ( 1.9%) users with no interactions.\n",
      "SLIMElasticNetRecommender: URM Detected 109 ( 0.5%) items with no interactions.\n"
     ]
    },
    {
     "name": "stderr",
     "output_type": "stream",
     "text": [
      "100%|█████████▉| 22216/22222 [00:36<00:00, 605.07it/s]\n"
     ]
    },
    {
     "name": "stdout",
     "output_type": "stream",
     "text": [
      "EvaluatorHoldout: Processed 10493 (100.0%) in 4.18 sec. Users per second: 2509\n",
      "SLIMElasticNetRecommender: URM Detected 201 ( 1.6%) users with no interactions.\n",
      "SLIMElasticNetRecommender: URM Detected 114 ( 0.5%) items with no interactions.\n"
     ]
    },
    {
     "name": "stderr",
     "output_type": "stream",
     "text": [
      "100%|█████████▉| 22216/22222 [00:37<00:00, 594.87it/s]\n"
     ]
    },
    {
     "name": "stdout",
     "output_type": "stream",
     "text": [
      "EvaluatorHoldout: Processed 10467 (100.0%) in 4.19 sec. Users per second: 2496\n",
      "SLIMElasticNetRecommender: URM Detected 220 ( 1.7%) users with no interactions.\n",
      "SLIMElasticNetRecommender: URM Detected 118 ( 0.5%) items with no interactions.\n"
     ]
    },
    {
     "name": "stderr",
     "output_type": "stream",
     "text": [
      "100%|█████████▉| 22216/22222 [00:38<00:00, 575.44it/s]\n"
     ]
    },
    {
     "name": "stdout",
     "output_type": "stream",
     "text": [
      "EvaluatorHoldout: Processed 10440 (100.0%) in 4.39 sec. Users per second: 2379\n"
     ]
    },
    {
     "name": "stderr",
     "output_type": "stream",
     "text": [
      "[I 2024-01-08 12:31:26,689] Trial 112 finished with value: 0.049120362357145 and parameters: {'topK': 895, 'l1_ratio': 0.02775695556514882, 'alpha': 0.0012382589393531251}. Best is trial 74 with value: 0.0494009148817492.\n"
     ]
    },
    {
     "name": "stdout",
     "output_type": "stream",
     "text": [
      "SLIMElasticNetRecommender: URM Detected 229 ( 1.8%) users with no interactions.\n",
      "SLIMElasticNetRecommender: URM Detected 126 ( 0.6%) items with no interactions.\n"
     ]
    },
    {
     "name": "stderr",
     "output_type": "stream",
     "text": [
      "100%|█████████▉| 22216/22222 [00:28<00:00, 784.71it/s] \n"
     ]
    },
    {
     "name": "stdout",
     "output_type": "stream",
     "text": [
      "EvaluatorHoldout: Processed 10472 (100.0%) in 3.95 sec. Users per second: 2651\n",
      "SLIMElasticNetRecommender: URM Detected 217 ( 1.7%) users with no interactions.\n",
      "SLIMElasticNetRecommender: URM Detected 113 ( 0.5%) items with no interactions.\n"
     ]
    },
    {
     "name": "stderr",
     "output_type": "stream",
     "text": [
      "100%|█████████▉| 22216/22222 [00:28<00:00, 787.17it/s] \n"
     ]
    },
    {
     "name": "stdout",
     "output_type": "stream",
     "text": [
      "EvaluatorHoldout: Processed 10488 (100.0%) in 3.93 sec. Users per second: 2667\n",
      "SLIMElasticNetRecommender: URM Detected 223 ( 1.8%) users with no interactions.\n",
      "SLIMElasticNetRecommender: URM Detected 106 ( 0.5%) items with no interactions.\n"
     ]
    },
    {
     "name": "stderr",
     "output_type": "stream",
     "text": [
      "100%|█████████▉| 22216/22222 [00:27<00:00, 816.79it/s] \n"
     ]
    },
    {
     "name": "stdout",
     "output_type": "stream",
     "text": [
      "EvaluatorHoldout: Processed 10448 (100.0%) in 4.14 sec. Users per second: 2521\n",
      "SLIMElasticNetRecommender: URM Detected 227 ( 1.8%) users with no interactions.\n",
      "SLIMElasticNetRecommender: URM Detected 109 ( 0.5%) items with no interactions.\n"
     ]
    },
    {
     "name": "stderr",
     "output_type": "stream",
     "text": [
      "100%|█████████▉| 22216/22222 [00:27<00:00, 816.32it/s] \n"
     ]
    },
    {
     "name": "stdout",
     "output_type": "stream",
     "text": [
      "EvaluatorHoldout: Processed 10444 (100.0%) in 4.09 sec. Users per second: 2551\n",
      "SLIMElasticNetRecommender: URM Detected 243 ( 1.9%) users with no interactions.\n",
      "SLIMElasticNetRecommender: URM Detected 122 ( 0.5%) items with no interactions.\n"
     ]
    },
    {
     "name": "stderr",
     "output_type": "stream",
     "text": [
      "100%|█████████▉| 22216/22222 [00:27<00:00, 807.87it/s] \n"
     ]
    },
    {
     "name": "stdout",
     "output_type": "stream",
     "text": [
      "EvaluatorHoldout: Processed 10473 (100.0%) in 3.92 sec. Users per second: 2673\n",
      "SLIMElasticNetRecommender: URM Detected 239 ( 1.9%) users with no interactions.\n",
      "SLIMElasticNetRecommender: URM Detected 109 ( 0.5%) items with no interactions.\n"
     ]
    },
    {
     "name": "stderr",
     "output_type": "stream",
     "text": [
      "100%|█████████▉| 22216/22222 [00:27<00:00, 803.45it/s] \n"
     ]
    },
    {
     "name": "stdout",
     "output_type": "stream",
     "text": [
      "EvaluatorHoldout: Processed 10493 (100.0%) in 3.90 sec. Users per second: 2690\n",
      "SLIMElasticNetRecommender: URM Detected 201 ( 1.6%) users with no interactions.\n",
      "SLIMElasticNetRecommender: URM Detected 114 ( 0.5%) items with no interactions.\n"
     ]
    },
    {
     "name": "stderr",
     "output_type": "stream",
     "text": [
      "100%|█████████▉| 22216/22222 [00:27<00:00, 818.55it/s] \n"
     ]
    },
    {
     "name": "stdout",
     "output_type": "stream",
     "text": [
      "EvaluatorHoldout: Processed 10467 (100.0%) in 4.02 sec. Users per second: 2607\n",
      "SLIMElasticNetRecommender: URM Detected 220 ( 1.7%) users with no interactions.\n",
      "SLIMElasticNetRecommender: URM Detected 118 ( 0.5%) items with no interactions.\n"
     ]
    },
    {
     "name": "stderr",
     "output_type": "stream",
     "text": [
      "100%|█████████▉| 22216/22222 [00:27<00:00, 807.83it/s] \n"
     ]
    },
    {
     "name": "stdout",
     "output_type": "stream",
     "text": [
      "EvaluatorHoldout: Processed 10440 (100.0%) in 4.10 sec. Users per second: 2544\n"
     ]
    },
    {
     "name": "stderr",
     "output_type": "stream",
     "text": [
      "[I 2024-01-08 12:35:40,393] Trial 113 finished with value: 0.04928759066453043 and parameters: {'topK': 1208, 'l1_ratio': 0.06816651907456701, 'alpha': 0.0011848775937853852}. Best is trial 74 with value: 0.0494009148817492.\n"
     ]
    },
    {
     "name": "stdout",
     "output_type": "stream",
     "text": [
      "SLIMElasticNetRecommender: URM Detected 229 ( 1.8%) users with no interactions.\n",
      "SLIMElasticNetRecommender: URM Detected 126 ( 0.6%) items with no interactions.\n"
     ]
    },
    {
     "name": "stderr",
     "output_type": "stream",
     "text": [
      "100%|█████████▉| 22216/22222 [00:27<00:00, 799.90it/s] \n"
     ]
    },
    {
     "name": "stdout",
     "output_type": "stream",
     "text": [
      "EvaluatorHoldout: Processed 10472 (100.0%) in 3.93 sec. Users per second: 2661\n",
      "SLIMElasticNetRecommender: URM Detected 217 ( 1.7%) users with no interactions.\n",
      "SLIMElasticNetRecommender: URM Detected 113 ( 0.5%) items with no interactions.\n"
     ]
    },
    {
     "name": "stderr",
     "output_type": "stream",
     "text": [
      "100%|█████████▉| 22216/22222 [00:27<00:00, 802.12it/s] \n"
     ]
    },
    {
     "name": "stdout",
     "output_type": "stream",
     "text": [
      "EvaluatorHoldout: Processed 10488 (100.0%) in 4.14 sec. Users per second: 2532\n",
      "SLIMElasticNetRecommender: URM Detected 223 ( 1.8%) users with no interactions.\n",
      "SLIMElasticNetRecommender: URM Detected 106 ( 0.5%) items with no interactions.\n"
     ]
    },
    {
     "name": "stderr",
     "output_type": "stream",
     "text": [
      "100%|█████████▉| 22216/22222 [00:41<00:00, 539.94it/s]\n"
     ]
    },
    {
     "name": "stdout",
     "output_type": "stream",
     "text": [
      "EvaluatorHoldout: Processed 10448 (100.0%) in 5.78 sec. Users per second: 1806\n",
      "SLIMElasticNetRecommender: URM Detected 227 ( 1.8%) users with no interactions.\n",
      "SLIMElasticNetRecommender: URM Detected 109 ( 0.5%) items with no interactions.\n"
     ]
    },
    {
     "name": "stderr",
     "output_type": "stream",
     "text": [
      "100%|█████████▉| 22216/22222 [00:38<00:00, 571.26it/s]\n"
     ]
    },
    {
     "name": "stdout",
     "output_type": "stream",
     "text": [
      "EvaluatorHoldout: Processed 10444 (100.0%) in 5.64 sec. Users per second: 1851\n",
      "SLIMElasticNetRecommender: URM Detected 243 ( 1.9%) users with no interactions.\n",
      "SLIMElasticNetRecommender: URM Detected 122 ( 0.5%) items with no interactions.\n"
     ]
    },
    {
     "name": "stderr",
     "output_type": "stream",
     "text": [
      "100%|█████████▉| 22216/22222 [00:38<00:00, 571.42it/s] \n"
     ]
    },
    {
     "name": "stdout",
     "output_type": "stream",
     "text": [
      "EvaluatorHoldout: Processed 10473 (100.0%) in 5.54 sec. Users per second: 1891\n",
      "SLIMElasticNetRecommender: URM Detected 239 ( 1.9%) users with no interactions.\n",
      "SLIMElasticNetRecommender: URM Detected 109 ( 0.5%) items with no interactions.\n"
     ]
    },
    {
     "name": "stderr",
     "output_type": "stream",
     "text": [
      "100%|█████████▉| 22216/22222 [00:41<00:00, 533.73it/s] \n"
     ]
    },
    {
     "name": "stdout",
     "output_type": "stream",
     "text": [
      "EvaluatorHoldout: Processed 10493 (100.0%) in 4.80 sec. Users per second: 2184\n",
      "SLIMElasticNetRecommender: URM Detected 201 ( 1.6%) users with no interactions.\n",
      "SLIMElasticNetRecommender: URM Detected 114 ( 0.5%) items with no interactions.\n"
     ]
    },
    {
     "name": "stderr",
     "output_type": "stream",
     "text": [
      "100%|█████████▉| 22216/22222 [00:46<00:00, 482.07it/s] \n"
     ]
    },
    {
     "name": "stdout",
     "output_type": "stream",
     "text": [
      "EvaluatorHoldout: Processed 10467 (100.0%) in 4.11 sec. Users per second: 2549\n",
      "SLIMElasticNetRecommender: URM Detected 220 ( 1.7%) users with no interactions.\n",
      "SLIMElasticNetRecommender: URM Detected 118 ( 0.5%) items with no interactions.\n"
     ]
    },
    {
     "name": "stderr",
     "output_type": "stream",
     "text": [
      "100%|█████████▉| 22216/22222 [00:46<00:00, 482.92it/s]\n"
     ]
    },
    {
     "name": "stdout",
     "output_type": "stream",
     "text": [
      "EvaluatorHoldout: Processed 10440 (100.0%) in 4.59 sec. Users per second: 2276\n"
     ]
    },
    {
     "name": "stderr",
     "output_type": "stream",
     "text": [
      "[I 2024-01-08 12:41:28,232] Trial 114 finished with value: 0.04928587573757622 and parameters: {'topK': 1236, 'l1_ratio': 0.06580181056965073, 'alpha': 0.0012108055360417873}. Best is trial 74 with value: 0.0494009148817492.\n"
     ]
    },
    {
     "name": "stdout",
     "output_type": "stream",
     "text": [
      "SLIMElasticNetRecommender: URM Detected 229 ( 1.8%) users with no interactions.\n",
      "SLIMElasticNetRecommender: URM Detected 126 ( 0.6%) items with no interactions.\n"
     ]
    },
    {
     "name": "stderr",
     "output_type": "stream",
     "text": [
      "100%|█████████▉| 22216/22222 [00:53<00:00, 416.82it/s]\n"
     ]
    },
    {
     "name": "stdout",
     "output_type": "stream",
     "text": [
      "EvaluatorHoldout: Processed 10472 (100.0%) in 4.37 sec. Users per second: 2397\n",
      "SLIMElasticNetRecommender: URM Detected 217 ( 1.7%) users with no interactions.\n",
      "SLIMElasticNetRecommender: URM Detected 113 ( 0.5%) items with no interactions.\n"
     ]
    },
    {
     "name": "stderr",
     "output_type": "stream",
     "text": [
      "100%|█████████▉| 22216/22222 [00:53<00:00, 412.38it/s]\n"
     ]
    },
    {
     "name": "stdout",
     "output_type": "stream",
     "text": [
      "EvaluatorHoldout: Processed 10488 (100.0%) in 4.31 sec. Users per second: 2434\n",
      "SLIMElasticNetRecommender: URM Detected 223 ( 1.8%) users with no interactions.\n",
      "SLIMElasticNetRecommender: URM Detected 106 ( 0.5%) items with no interactions.\n"
     ]
    },
    {
     "name": "stderr",
     "output_type": "stream",
     "text": [
      "100%|█████████▉| 22216/22222 [00:53<00:00, 411.50it/s]\n"
     ]
    },
    {
     "name": "stdout",
     "output_type": "stream",
     "text": [
      "EvaluatorHoldout: Processed 10448 (100.0%) in 4.34 sec. Users per second: 2410\n",
      "SLIMElasticNetRecommender: URM Detected 227 ( 1.8%) users with no interactions.\n",
      "SLIMElasticNetRecommender: URM Detected 109 ( 0.5%) items with no interactions.\n"
     ]
    },
    {
     "name": "stderr",
     "output_type": "stream",
     "text": [
      "100%|█████████▉| 22216/22222 [00:33<00:00, 661.78it/s]\n"
     ]
    },
    {
     "name": "stdout",
     "output_type": "stream",
     "text": [
      "EvaluatorHoldout: Processed 10444 (100.0%) in 4.37 sec. Users per second: 2392\n",
      "SLIMElasticNetRecommender: URM Detected 243 ( 1.9%) users with no interactions.\n",
      "SLIMElasticNetRecommender: URM Detected 122 ( 0.5%) items with no interactions.\n"
     ]
    },
    {
     "name": "stderr",
     "output_type": "stream",
     "text": [
      "100%|█████████▉| 22216/22222 [00:33<00:00, 670.72it/s]\n"
     ]
    },
    {
     "name": "stdout",
     "output_type": "stream",
     "text": [
      "EvaluatorHoldout: Processed 10473 (100.0%) in 4.23 sec. Users per second: 2479\n",
      "SLIMElasticNetRecommender: URM Detected 239 ( 1.9%) users with no interactions.\n",
      "SLIMElasticNetRecommender: URM Detected 109 ( 0.5%) items with no interactions.\n"
     ]
    },
    {
     "name": "stderr",
     "output_type": "stream",
     "text": [
      "100%|█████████▉| 22216/22222 [00:33<00:00, 661.66it/s]\n"
     ]
    },
    {
     "name": "stdout",
     "output_type": "stream",
     "text": [
      "EvaluatorHoldout: Processed 10493 (100.0%) in 4.26 sec. Users per second: 2464\n",
      "SLIMElasticNetRecommender: URM Detected 201 ( 1.6%) users with no interactions.\n",
      "SLIMElasticNetRecommender: URM Detected 114 ( 0.5%) items with no interactions.\n"
     ]
    },
    {
     "name": "stderr",
     "output_type": "stream",
     "text": [
      "100%|█████████▉| 22216/22222 [00:34<00:00, 636.81it/s]\n"
     ]
    },
    {
     "name": "stdout",
     "output_type": "stream",
     "text": [
      "EvaluatorHoldout: Processed 10467 (100.0%) in 4.34 sec. Users per second: 2409\n",
      "SLIMElasticNetRecommender: URM Detected 220 ( 1.7%) users with no interactions.\n",
      "SLIMElasticNetRecommender: URM Detected 118 ( 0.5%) items with no interactions.\n"
     ]
    },
    {
     "name": "stderr",
     "output_type": "stream",
     "text": [
      "100%|█████████▉| 22216/22222 [00:33<00:00, 658.73it/s]\n"
     ]
    },
    {
     "name": "stdout",
     "output_type": "stream",
     "text": [
      "EvaluatorHoldout: Processed 10440 (100.0%) in 4.32 sec. Users per second: 2419\n"
     ]
    },
    {
     "name": "stderr",
     "output_type": "stream",
     "text": [
      "[I 2024-01-08 12:47:34,147] Trial 115 finished with value: 0.0492209694051353 and parameters: {'topK': 1272, 'l1_ratio': 0.04123697849411228, 'alpha': 0.0014928010801701123}. Best is trial 74 with value: 0.0494009148817492.\n"
     ]
    },
    {
     "name": "stdout",
     "output_type": "stream",
     "text": [
      "SLIMElasticNetRecommender: URM Detected 229 ( 1.8%) users with no interactions.\n",
      "SLIMElasticNetRecommender: URM Detected 126 ( 0.6%) items with no interactions.\n"
     ]
    },
    {
     "name": "stderr",
     "output_type": "stream",
     "text": [
      "100%|█████████▉| 22216/22222 [00:44<00:00, 494.11it/s]\n"
     ]
    },
    {
     "name": "stdout",
     "output_type": "stream",
     "text": [
      "EvaluatorHoldout: Processed 10472 (100.0%) in 5.38 sec. Users per second: 1947\n",
      "SLIMElasticNetRecommender: URM Detected 217 ( 1.7%) users with no interactions.\n",
      "SLIMElasticNetRecommender: URM Detected 113 ( 0.5%) items with no interactions.\n"
     ]
    },
    {
     "name": "stderr",
     "output_type": "stream",
     "text": [
      "100%|█████████▉| 22216/22222 [00:47<00:00, 466.49it/s]\n"
     ]
    },
    {
     "name": "stdout",
     "output_type": "stream",
     "text": [
      "EvaluatorHoldout: Processed 10488 (100.0%) in 5.21 sec. Users per second: 2014\n",
      "SLIMElasticNetRecommender: URM Detected 223 ( 1.8%) users with no interactions.\n",
      "SLIMElasticNetRecommender: URM Detected 106 ( 0.5%) items with no interactions.\n"
     ]
    },
    {
     "name": "stderr",
     "output_type": "stream",
     "text": [
      "100%|█████████▉| 22216/22222 [00:48<00:00, 457.70it/s]\n"
     ]
    },
    {
     "name": "stdout",
     "output_type": "stream",
     "text": [
      "EvaluatorHoldout: Processed 10448 (100.0%) in 5.43 sec. Users per second: 1923\n",
      "SLIMElasticNetRecommender: URM Detected 227 ( 1.8%) users with no interactions.\n",
      "SLIMElasticNetRecommender: URM Detected 109 ( 0.5%) items with no interactions.\n"
     ]
    },
    {
     "name": "stderr",
     "output_type": "stream",
     "text": [
      "100%|█████████▉| 22216/22222 [00:48<00:00, 462.43it/s]\n"
     ]
    },
    {
     "name": "stdout",
     "output_type": "stream",
     "text": [
      "EvaluatorHoldout: Processed 10444 (100.0%) in 5.17 sec. Users per second: 2021\n",
      "SLIMElasticNetRecommender: URM Detected 243 ( 1.9%) users with no interactions.\n",
      "SLIMElasticNetRecommender: URM Detected 122 ( 0.5%) items with no interactions.\n"
     ]
    },
    {
     "name": "stderr",
     "output_type": "stream",
     "text": [
      "100%|█████████▉| 22216/22222 [00:48<00:00, 457.31it/s]\n"
     ]
    },
    {
     "name": "stdout",
     "output_type": "stream",
     "text": [
      "EvaluatorHoldout: Processed 10473 (100.0%) in 5.53 sec. Users per second: 1895\n",
      "SLIMElasticNetRecommender: URM Detected 239 ( 1.9%) users with no interactions.\n",
      "SLIMElasticNetRecommender: URM Detected 109 ( 0.5%) items with no interactions.\n"
     ]
    },
    {
     "name": "stderr",
     "output_type": "stream",
     "text": [
      "100%|█████████▉| 22216/22222 [00:47<00:00, 466.90it/s]\n"
     ]
    },
    {
     "name": "stdout",
     "output_type": "stream",
     "text": [
      "EvaluatorHoldout: Processed 10493 (100.0%) in 5.24 sec. Users per second: 2004\n",
      "SLIMElasticNetRecommender: URM Detected 201 ( 1.6%) users with no interactions.\n",
      "SLIMElasticNetRecommender: URM Detected 114 ( 0.5%) items with no interactions.\n"
     ]
    },
    {
     "name": "stderr",
     "output_type": "stream",
     "text": [
      "100%|█████████▉| 22216/22222 [00:50<00:00, 443.29it/s]\n"
     ]
    },
    {
     "name": "stdout",
     "output_type": "stream",
     "text": [
      "EvaluatorHoldout: Processed 10467 (100.0%) in 5.27 sec. Users per second: 1985\n",
      "SLIMElasticNetRecommender: URM Detected 220 ( 1.7%) users with no interactions.\n",
      "SLIMElasticNetRecommender: URM Detected 118 ( 0.5%) items with no interactions.\n"
     ]
    },
    {
     "name": "stderr",
     "output_type": "stream",
     "text": [
      "100%|█████████▉| 22216/22222 [00:47<00:00, 470.98it/s]\n"
     ]
    },
    {
     "name": "stdout",
     "output_type": "stream",
     "text": [
      "EvaluatorHoldout: Processed 10440 (100.0%) in 5.03 sec. Users per second: 2074\n"
     ]
    },
    {
     "name": "stderr",
     "output_type": "stream",
     "text": [
      "[I 2024-01-08 12:54:41,027] Trial 116 finished with value: 0.04913478388228476 and parameters: {'topK': 1410, 'l1_ratio': 0.030898576242257766, 'alpha': 0.001616687711337276}. Best is trial 74 with value: 0.0494009148817492.\n"
     ]
    },
    {
     "name": "stdout",
     "output_type": "stream",
     "text": [
      "SLIMElasticNetRecommender: URM Detected 229 ( 1.8%) users with no interactions.\n",
      "SLIMElasticNetRecommender: URM Detected 126 ( 0.6%) items with no interactions.\n"
     ]
    },
    {
     "name": "stderr",
     "output_type": "stream",
     "text": [
      "100%|█████████▉| 22216/22222 [00:35<00:00, 622.57it/s]\n"
     ]
    },
    {
     "name": "stdout",
     "output_type": "stream",
     "text": [
      "EvaluatorHoldout: Processed 10472 (100.0%) in 4.90 sec. Users per second: 2138\n",
      "SLIMElasticNetRecommender: URM Detected 217 ( 1.7%) users with no interactions.\n",
      "SLIMElasticNetRecommender: URM Detected 113 ( 0.5%) items with no interactions.\n"
     ]
    },
    {
     "name": "stderr",
     "output_type": "stream",
     "text": [
      "100%|█████████▉| 22216/22222 [00:35<00:00, 628.88it/s]\n"
     ]
    },
    {
     "name": "stdout",
     "output_type": "stream",
     "text": [
      "EvaluatorHoldout: Processed 10488 (100.0%) in 4.78 sec. Users per second: 2194\n",
      "SLIMElasticNetRecommender: URM Detected 223 ( 1.8%) users with no interactions.\n",
      "SLIMElasticNetRecommender: URM Detected 106 ( 0.5%) items with no interactions.\n"
     ]
    },
    {
     "name": "stderr",
     "output_type": "stream",
     "text": [
      "100%|█████████▉| 22216/22222 [00:34<00:00, 638.53it/s] \n"
     ]
    },
    {
     "name": "stdout",
     "output_type": "stream",
     "text": [
      "EvaluatorHoldout: Processed 10448 (100.0%) in 4.98 sec. Users per second: 2098\n",
      "SLIMElasticNetRecommender: URM Detected 227 ( 1.8%) users with no interactions.\n",
      "SLIMElasticNetRecommender: URM Detected 109 ( 0.5%) items with no interactions.\n"
     ]
    },
    {
     "name": "stderr",
     "output_type": "stream",
     "text": [
      "100%|█████████▉| 22216/22222 [00:35<00:00, 629.85it/s]\n"
     ]
    },
    {
     "name": "stdout",
     "output_type": "stream",
     "text": [
      "EvaluatorHoldout: Processed 10444 (100.0%) in 4.78 sec. Users per second: 2184\n",
      "SLIMElasticNetRecommender: URM Detected 243 ( 1.9%) users with no interactions.\n",
      "SLIMElasticNetRecommender: URM Detected 122 ( 0.5%) items with no interactions.\n"
     ]
    },
    {
     "name": "stderr",
     "output_type": "stream",
     "text": [
      "100%|█████████▉| 22216/22222 [00:35<00:00, 633.27it/s]\n"
     ]
    },
    {
     "name": "stdout",
     "output_type": "stream",
     "text": [
      "EvaluatorHoldout: Processed 10473 (100.0%) in 4.92 sec. Users per second: 2127\n",
      "SLIMElasticNetRecommender: URM Detected 239 ( 1.9%) users with no interactions.\n",
      "SLIMElasticNetRecommender: URM Detected 109 ( 0.5%) items with no interactions.\n"
     ]
    },
    {
     "name": "stderr",
     "output_type": "stream",
     "text": [
      "100%|█████████▉| 22216/22222 [00:37<00:00, 600.10it/s] \n"
     ]
    },
    {
     "name": "stdout",
     "output_type": "stream",
     "text": [
      "EvaluatorHoldout: Processed 10493 (100.0%) in 4.78 sec. Users per second: 2194\n",
      "SLIMElasticNetRecommender: URM Detected 201 ( 1.6%) users with no interactions.\n",
      "SLIMElasticNetRecommender: URM Detected 114 ( 0.5%) items with no interactions.\n"
     ]
    },
    {
     "name": "stderr",
     "output_type": "stream",
     "text": [
      "100%|█████████▉| 22216/22222 [00:35<00:00, 618.05it/s]\n"
     ]
    },
    {
     "name": "stdout",
     "output_type": "stream",
     "text": [
      "EvaluatorHoldout: Processed 10467 (100.0%) in 4.75 sec. Users per second: 2204\n",
      "SLIMElasticNetRecommender: URM Detected 220 ( 1.7%) users with no interactions.\n",
      "SLIMElasticNetRecommender: URM Detected 118 ( 0.5%) items with no interactions.\n"
     ]
    },
    {
     "name": "stderr",
     "output_type": "stream",
     "text": [
      "100%|█████████▉| 22216/22222 [00:36<00:00, 609.48it/s]\n"
     ]
    },
    {
     "name": "stdout",
     "output_type": "stream",
     "text": [
      "EvaluatorHoldout: Processed 10440 (100.0%) in 4.91 sec. Users per second: 2127\n"
     ]
    },
    {
     "name": "stderr",
     "output_type": "stream",
     "text": [
      "[I 2024-01-08 13:00:06,621] Trial 117 finished with value: 0.049106207858948044 and parameters: {'topK': 1269, 'l1_ratio': 0.09157737355579133, 'alpha': 0.0012683760561813878}. Best is trial 74 with value: 0.0494009148817492.\n"
     ]
    },
    {
     "name": "stdout",
     "output_type": "stream",
     "text": [
      "SLIMElasticNetRecommender: URM Detected 229 ( 1.8%) users with no interactions.\n",
      "SLIMElasticNetRecommender: URM Detected 126 ( 0.6%) items with no interactions.\n"
     ]
    },
    {
     "name": "stderr",
     "output_type": "stream",
     "text": [
      "100%|█████████▉| 22216/22222 [00:27<00:00, 799.11it/s] \n"
     ]
    },
    {
     "name": "stdout",
     "output_type": "stream",
     "text": [
      "EvaluatorHoldout: Processed 10472 (100.0%) in 4.21 sec. Users per second: 2487\n",
      "SLIMElasticNetRecommender: URM Detected 217 ( 1.7%) users with no interactions.\n",
      "SLIMElasticNetRecommender: URM Detected 113 ( 0.5%) items with no interactions.\n"
     ]
    },
    {
     "name": "stderr",
     "output_type": "stream",
     "text": [
      "100%|█████████▉| 22216/22222 [00:25<00:00, 865.49it/s] \n"
     ]
    },
    {
     "name": "stdout",
     "output_type": "stream",
     "text": [
      "EvaluatorHoldout: Processed 10488 (100.0%) in 4.17 sec. Users per second: 2514\n",
      "SLIMElasticNetRecommender: URM Detected 223 ( 1.8%) users with no interactions.\n",
      "SLIMElasticNetRecommender: URM Detected 106 ( 0.5%) items with no interactions.\n"
     ]
    },
    {
     "name": "stderr",
     "output_type": "stream",
     "text": [
      "100%|█████████▉| 22216/22222 [00:25<00:00, 869.60it/s] \n"
     ]
    },
    {
     "name": "stdout",
     "output_type": "stream",
     "text": [
      "EvaluatorHoldout: Processed 10448 (100.0%) in 3.59 sec. Users per second: 2911\n",
      "SLIMElasticNetRecommender: URM Detected 227 ( 1.8%) users with no interactions.\n",
      "SLIMElasticNetRecommender: URM Detected 109 ( 0.5%) items with no interactions.\n"
     ]
    },
    {
     "name": "stderr",
     "output_type": "stream",
     "text": [
      "100%|█████████▉| 22216/22222 [00:18<00:00, 1204.26it/s]\n"
     ]
    },
    {
     "name": "stdout",
     "output_type": "stream",
     "text": [
      "EvaluatorHoldout: Processed 10444 (100.0%) in 3.49 sec. Users per second: 2990\n",
      "SLIMElasticNetRecommender: URM Detected 243 ( 1.9%) users with no interactions.\n",
      "SLIMElasticNetRecommender: URM Detected 122 ( 0.5%) items with no interactions.\n"
     ]
    },
    {
     "name": "stderr",
     "output_type": "stream",
     "text": [
      "100%|█████████▉| 22216/22222 [00:18<00:00, 1185.67it/s]\n"
     ]
    },
    {
     "name": "stdout",
     "output_type": "stream",
     "text": [
      "EvaluatorHoldout: Processed 10473 (100.0%) in 3.40 sec. Users per second: 3084\n",
      "SLIMElasticNetRecommender: URM Detected 239 ( 1.9%) users with no interactions.\n",
      "SLIMElasticNetRecommender: URM Detected 109 ( 0.5%) items with no interactions.\n"
     ]
    },
    {
     "name": "stderr",
     "output_type": "stream",
     "text": [
      "100%|█████████▉| 22216/22222 [00:18<00:00, 1180.29it/s]\n"
     ]
    },
    {
     "name": "stdout",
     "output_type": "stream",
     "text": [
      "EvaluatorHoldout: Processed 10493 (100.0%) in 3.33 sec. Users per second: 3155\n",
      "SLIMElasticNetRecommender: URM Detected 201 ( 1.6%) users with no interactions.\n",
      "SLIMElasticNetRecommender: URM Detected 114 ( 0.5%) items with no interactions.\n"
     ]
    },
    {
     "name": "stderr",
     "output_type": "stream",
     "text": [
      "100%|█████████▉| 22216/22222 [00:18<00:00, 1185.41it/s]\n"
     ]
    },
    {
     "name": "stdout",
     "output_type": "stream",
     "text": [
      "EvaluatorHoldout: Processed 10467 (100.0%) in 3.41 sec. Users per second: 3066\n",
      "SLIMElasticNetRecommender: URM Detected 220 ( 1.7%) users with no interactions.\n",
      "SLIMElasticNetRecommender: URM Detected 118 ( 0.5%) items with no interactions.\n"
     ]
    },
    {
     "name": "stderr",
     "output_type": "stream",
     "text": [
      "100%|█████████▉| 22216/22222 [00:19<00:00, 1168.86it/s]\n"
     ]
    },
    {
     "name": "stdout",
     "output_type": "stream",
     "text": [
      "EvaluatorHoldout: Processed 10440 (100.0%) in 3.35 sec. Users per second: 3118\n"
     ]
    },
    {
     "name": "stderr",
     "output_type": "stream",
     "text": [
      "[I 2024-01-08 13:03:29,294] Trial 118 finished with value: 0.04838149458650674 and parameters: {'topK': 1965, 'l1_ratio': 0.15325169012070863, 'alpha': 0.0013194661713255135}. Best is trial 74 with value: 0.0494009148817492.\n"
     ]
    },
    {
     "name": "stdout",
     "output_type": "stream",
     "text": [
      "SLIMElasticNetRecommender: URM Detected 229 ( 1.8%) users with no interactions.\n",
      "SLIMElasticNetRecommender: URM Detected 126 ( 0.6%) items with no interactions.\n"
     ]
    },
    {
     "name": "stderr",
     "output_type": "stream",
     "text": [
      "100%|█████████▉| 22216/22222 [00:34<00:00, 646.60it/s]\n"
     ]
    },
    {
     "name": "stdout",
     "output_type": "stream",
     "text": [
      "EvaluatorHoldout: Processed 10472 (100.0%) in 4.25 sec. Users per second: 2462\n",
      "SLIMElasticNetRecommender: URM Detected 217 ( 1.7%) users with no interactions.\n",
      "SLIMElasticNetRecommender: URM Detected 113 ( 0.5%) items with no interactions.\n"
     ]
    },
    {
     "name": "stderr",
     "output_type": "stream",
     "text": [
      "100%|█████████▉| 22216/22222 [00:34<00:00, 651.21it/s]\n"
     ]
    },
    {
     "name": "stdout",
     "output_type": "stream",
     "text": [
      "EvaluatorHoldout: Processed 10488 (100.0%) in 4.25 sec. Users per second: 2470\n",
      "SLIMElasticNetRecommender: URM Detected 223 ( 1.8%) users with no interactions.\n",
      "SLIMElasticNetRecommender: URM Detected 106 ( 0.5%) items with no interactions.\n"
     ]
    },
    {
     "name": "stderr",
     "output_type": "stream",
     "text": [
      "100%|█████████▉| 22216/22222 [00:33<00:00, 653.69it/s]\n"
     ]
    },
    {
     "name": "stdout",
     "output_type": "stream",
     "text": [
      "EvaluatorHoldout: Processed 10448 (100.0%) in 4.37 sec. Users per second: 2393\n",
      "SLIMElasticNetRecommender: URM Detected 227 ( 1.8%) users with no interactions.\n",
      "SLIMElasticNetRecommender: URM Detected 109 ( 0.5%) items with no interactions.\n"
     ]
    },
    {
     "name": "stderr",
     "output_type": "stream",
     "text": [
      "100%|█████████▉| 22216/22222 [00:33<00:00, 655.64it/s]\n"
     ]
    },
    {
     "name": "stdout",
     "output_type": "stream",
     "text": [
      "EvaluatorHoldout: Processed 10444 (100.0%) in 4.21 sec. Users per second: 2482\n",
      "SLIMElasticNetRecommender: URM Detected 243 ( 1.9%) users with no interactions.\n",
      "SLIMElasticNetRecommender: URM Detected 122 ( 0.5%) items with no interactions.\n"
     ]
    },
    {
     "name": "stderr",
     "output_type": "stream",
     "text": [
      "100%|█████████▉| 22216/22222 [00:33<00:00, 653.50it/s]\n"
     ]
    },
    {
     "name": "stdout",
     "output_type": "stream",
     "text": [
      "EvaluatorHoldout: Processed 10473 (100.0%) in 4.29 sec. Users per second: 2438\n",
      "SLIMElasticNetRecommender: URM Detected 239 ( 1.9%) users with no interactions.\n",
      "SLIMElasticNetRecommender: URM Detected 109 ( 0.5%) items with no interactions.\n"
     ]
    },
    {
     "name": "stderr",
     "output_type": "stream",
     "text": [
      "100%|█████████▉| 22216/22222 [00:34<00:00, 651.61it/s]\n"
     ]
    },
    {
     "name": "stdout",
     "output_type": "stream",
     "text": [
      "EvaluatorHoldout: Processed 10493 (100.0%) in 4.35 sec. Users per second: 2410\n",
      "SLIMElasticNetRecommender: URM Detected 201 ( 1.6%) users with no interactions.\n",
      "SLIMElasticNetRecommender: URM Detected 114 ( 0.5%) items with no interactions.\n"
     ]
    },
    {
     "name": "stderr",
     "output_type": "stream",
     "text": [
      "100%|█████████▉| 22216/22222 [00:34<00:00, 651.15it/s]\n"
     ]
    },
    {
     "name": "stdout",
     "output_type": "stream",
     "text": [
      "EvaluatorHoldout: Processed 10467 (100.0%) in 4.30 sec. Users per second: 2433\n",
      "SLIMElasticNetRecommender: URM Detected 220 ( 1.7%) users with no interactions.\n",
      "SLIMElasticNetRecommender: URM Detected 118 ( 0.5%) items with no interactions.\n"
     ]
    },
    {
     "name": "stderr",
     "output_type": "stream",
     "text": [
      "100%|█████████▉| 22216/22222 [00:34<00:00, 645.70it/s]\n"
     ]
    },
    {
     "name": "stdout",
     "output_type": "stream",
     "text": [
      "EvaluatorHoldout: Processed 10440 (100.0%) in 4.28 sec. Users per second: 2439\n"
     ]
    },
    {
     "name": "stderr",
     "output_type": "stream",
     "text": [
      "[I 2024-01-08 13:08:38,035] Trial 119 finished with value: 0.04915116667604131 and parameters: {'topK': 1282, 'l1_ratio': 0.02987869552356471, 'alpha': 0.0016340251153850814}. Best is trial 74 with value: 0.0494009148817492.\n"
     ]
    },
    {
     "name": "stdout",
     "output_type": "stream",
     "text": [
      "SLIMElasticNetRecommender: URM Detected 229 ( 1.8%) users with no interactions.\n",
      "SLIMElasticNetRecommender: URM Detected 126 ( 0.6%) items with no interactions.\n"
     ]
    },
    {
     "name": "stderr",
     "output_type": "stream",
     "text": [
      "100%|█████████▉| 22216/22222 [00:34<00:00, 647.96it/s]\n"
     ]
    },
    {
     "name": "stdout",
     "output_type": "stream",
     "text": [
      "EvaluatorHoldout: Processed 10472 (100.0%) in 4.19 sec. Users per second: 2499\n",
      "SLIMElasticNetRecommender: URM Detected 217 ( 1.7%) users with no interactions.\n",
      "SLIMElasticNetRecommender: URM Detected 113 ( 0.5%) items with no interactions.\n"
     ]
    },
    {
     "name": "stderr",
     "output_type": "stream",
     "text": [
      "100%|█████████▉| 22216/22222 [00:33<00:00, 654.48it/s]\n"
     ]
    },
    {
     "name": "stdout",
     "output_type": "stream",
     "text": [
      "EvaluatorHoldout: Processed 10488 (100.0%) in 4.20 sec. Users per second: 2500\n",
      "SLIMElasticNetRecommender: URM Detected 223 ( 1.8%) users with no interactions.\n",
      "SLIMElasticNetRecommender: URM Detected 106 ( 0.5%) items with no interactions.\n"
     ]
    },
    {
     "name": "stderr",
     "output_type": "stream",
     "text": [
      "100%|█████████▉| 22216/22222 [00:34<00:00, 652.52it/s]\n"
     ]
    },
    {
     "name": "stdout",
     "output_type": "stream",
     "text": [
      "EvaluatorHoldout: Processed 10448 (100.0%) in 4.41 sec. Users per second: 2372\n",
      "SLIMElasticNetRecommender: URM Detected 227 ( 1.8%) users with no interactions.\n",
      "SLIMElasticNetRecommender: URM Detected 109 ( 0.5%) items with no interactions.\n"
     ]
    },
    {
     "name": "stderr",
     "output_type": "stream",
     "text": [
      "100%|█████████▉| 22216/22222 [00:33<00:00, 658.83it/s]\n"
     ]
    },
    {
     "name": "stdout",
     "output_type": "stream",
     "text": [
      "EvaluatorHoldout: Processed 10444 (100.0%) in 4.34 sec. Users per second: 2408\n",
      "SLIMElasticNetRecommender: URM Detected 243 ( 1.9%) users with no interactions.\n",
      "SLIMElasticNetRecommender: URM Detected 122 ( 0.5%) items with no interactions.\n"
     ]
    },
    {
     "name": "stderr",
     "output_type": "stream",
     "text": [
      "100%|█████████▉| 22216/22222 [00:34<00:00, 652.43it/s]\n"
     ]
    },
    {
     "name": "stdout",
     "output_type": "stream",
     "text": [
      "EvaluatorHoldout: Processed 10473 (100.0%) in 4.34 sec. Users per second: 2414\n",
      "SLIMElasticNetRecommender: URM Detected 239 ( 1.9%) users with no interactions.\n",
      "SLIMElasticNetRecommender: URM Detected 109 ( 0.5%) items with no interactions.\n"
     ]
    },
    {
     "name": "stderr",
     "output_type": "stream",
     "text": [
      "100%|█████████▉| 22216/22222 [00:33<00:00, 657.59it/s]\n"
     ]
    },
    {
     "name": "stdout",
     "output_type": "stream",
     "text": [
      "EvaluatorHoldout: Processed 10493 (100.0%) in 4.29 sec. Users per second: 2448\n",
      "SLIMElasticNetRecommender: URM Detected 201 ( 1.6%) users with no interactions.\n",
      "SLIMElasticNetRecommender: URM Detected 114 ( 0.5%) items with no interactions.\n"
     ]
    },
    {
     "name": "stderr",
     "output_type": "stream",
     "text": [
      "100%|█████████▉| 22216/22222 [00:35<00:00, 634.32it/s]\n"
     ]
    },
    {
     "name": "stdout",
     "output_type": "stream",
     "text": [
      "EvaluatorHoldout: Processed 10467 (100.0%) in 4.70 sec. Users per second: 2229\n",
      "SLIMElasticNetRecommender: URM Detected 220 ( 1.7%) users with no interactions.\n",
      "SLIMElasticNetRecommender: URM Detected 118 ( 0.5%) items with no interactions.\n"
     ]
    },
    {
     "name": "stderr",
     "output_type": "stream",
     "text": [
      "100%|█████████▉| 22216/22222 [00:39<00:00, 563.24it/s]\n"
     ]
    },
    {
     "name": "stdout",
     "output_type": "stream",
     "text": [
      "EvaluatorHoldout: Processed 10440 (100.0%) in 4.63 sec. Users per second: 2255\n"
     ]
    },
    {
     "name": "stderr",
     "output_type": "stream",
     "text": [
      "[I 2024-01-08 13:13:52,969] Trial 120 finished with value: 0.049141552174305825 and parameters: {'topK': 1383, 'l1_ratio': 0.03134272358097623, 'alpha': 0.0015947337309311631}. Best is trial 74 with value: 0.0494009148817492.\n"
     ]
    },
    {
     "name": "stdout",
     "output_type": "stream",
     "text": [
      "SLIMElasticNetRecommender: URM Detected 229 ( 1.8%) users with no interactions.\n",
      "SLIMElasticNetRecommender: URM Detected 126 ( 0.6%) items with no interactions.\n"
     ]
    },
    {
     "name": "stderr",
     "output_type": "stream",
     "text": [
      "100%|█████████▉| 22216/22222 [00:38<00:00, 572.48it/s]\n"
     ]
    },
    {
     "name": "stdout",
     "output_type": "stream",
     "text": [
      "EvaluatorHoldout: Processed 10472 (100.0%) in 4.26 sec. Users per second: 2457\n",
      "SLIMElasticNetRecommender: URM Detected 217 ( 1.7%) users with no interactions.\n",
      "SLIMElasticNetRecommender: URM Detected 113 ( 0.5%) items with no interactions.\n"
     ]
    },
    {
     "name": "stderr",
     "output_type": "stream",
     "text": [
      "100%|█████████▉| 22216/22222 [00:35<00:00, 619.37it/s]\n"
     ]
    },
    {
     "name": "stdout",
     "output_type": "stream",
     "text": [
      "EvaluatorHoldout: Processed 10488 (100.0%) in 4.22 sec. Users per second: 2488\n",
      "SLIMElasticNetRecommender: URM Detected 223 ( 1.8%) users with no interactions.\n",
      "SLIMElasticNetRecommender: URM Detected 106 ( 0.5%) items with no interactions.\n"
     ]
    },
    {
     "name": "stderr",
     "output_type": "stream",
     "text": [
      "100%|█████████▉| 22216/22222 [00:35<00:00, 625.70it/s]\n"
     ]
    },
    {
     "name": "stdout",
     "output_type": "stream",
     "text": [
      "EvaluatorHoldout: Processed 10448 (100.0%) in 4.42 sec. Users per second: 2366\n",
      "SLIMElasticNetRecommender: URM Detected 227 ( 1.8%) users with no interactions.\n",
      "SLIMElasticNetRecommender: URM Detected 109 ( 0.5%) items with no interactions.\n"
     ]
    },
    {
     "name": "stderr",
     "output_type": "stream",
     "text": [
      "100%|█████████▉| 22216/22222 [00:35<00:00, 626.38it/s]\n"
     ]
    },
    {
     "name": "stdout",
     "output_type": "stream",
     "text": [
      "EvaluatorHoldout: Processed 10444 (100.0%) in 4.43 sec. Users per second: 2359\n",
      "SLIMElasticNetRecommender: URM Detected 243 ( 1.9%) users with no interactions.\n",
      "SLIMElasticNetRecommender: URM Detected 122 ( 0.5%) items with no interactions.\n"
     ]
    },
    {
     "name": "stderr",
     "output_type": "stream",
     "text": [
      "100%|█████████▉| 22216/22222 [00:35<00:00, 620.51it/s]\n"
     ]
    },
    {
     "name": "stdout",
     "output_type": "stream",
     "text": [
      "EvaluatorHoldout: Processed 10473 (100.0%) in 4.43 sec. Users per second: 2364\n",
      "SLIMElasticNetRecommender: URM Detected 239 ( 1.9%) users with no interactions.\n",
      "SLIMElasticNetRecommender: URM Detected 109 ( 0.5%) items with no interactions.\n"
     ]
    },
    {
     "name": "stderr",
     "output_type": "stream",
     "text": [
      "100%|█████████▉| 22216/22222 [00:35<00:00, 623.16it/s]\n"
     ]
    },
    {
     "name": "stdout",
     "output_type": "stream",
     "text": [
      "EvaluatorHoldout: Processed 10493 (100.0%) in 4.42 sec. Users per second: 2374\n",
      "SLIMElasticNetRecommender: URM Detected 201 ( 1.6%) users with no interactions.\n",
      "SLIMElasticNetRecommender: URM Detected 114 ( 0.5%) items with no interactions.\n"
     ]
    },
    {
     "name": "stderr",
     "output_type": "stream",
     "text": [
      "100%|█████████▉| 22216/22222 [00:35<00:00, 626.92it/s]\n"
     ]
    },
    {
     "name": "stdout",
     "output_type": "stream",
     "text": [
      "EvaluatorHoldout: Processed 10467 (100.0%) in 4.29 sec. Users per second: 2437\n",
      "SLIMElasticNetRecommender: URM Detected 220 ( 1.7%) users with no interactions.\n",
      "SLIMElasticNetRecommender: URM Detected 118 ( 0.5%) items with no interactions.\n"
     ]
    },
    {
     "name": "stderr",
     "output_type": "stream",
     "text": [
      "100%|█████████▉| 22216/22222 [00:35<00:00, 619.47it/s]\n"
     ]
    },
    {
     "name": "stdout",
     "output_type": "stream",
     "text": [
      "EvaluatorHoldout: Processed 10440 (100.0%) in 4.28 sec. Users per second: 2438\n"
     ]
    },
    {
     "name": "stderr",
     "output_type": "stream",
     "text": [
      "[I 2024-01-08 13:19:17,818] Trial 121 finished with value: 0.049239610801874355 and parameters: {'topK': 898, 'l1_ratio': 0.021733510194476138, 'alpha': 0.001582688536883426}. Best is trial 74 with value: 0.0494009148817492.\n"
     ]
    },
    {
     "name": "stdout",
     "output_type": "stream",
     "text": [
      "SLIMElasticNetRecommender: URM Detected 229 ( 1.8%) users with no interactions.\n",
      "SLIMElasticNetRecommender: URM Detected 126 ( 0.6%) items with no interactions.\n"
     ]
    },
    {
     "name": "stderr",
     "output_type": "stream",
     "text": [
      "100%|█████████▉| 22216/22222 [00:26<00:00, 833.36it/s] \n"
     ]
    },
    {
     "name": "stdout",
     "output_type": "stream",
     "text": [
      "EvaluatorHoldout: Processed 10472 (100.0%) in 3.87 sec. Users per second: 2703\n",
      "SLIMElasticNetRecommender: URM Detected 217 ( 1.7%) users with no interactions.\n",
      "SLIMElasticNetRecommender: URM Detected 113 ( 0.5%) items with no interactions.\n"
     ]
    },
    {
     "name": "stderr",
     "output_type": "stream",
     "text": [
      "100%|█████████▉| 22216/22222 [00:26<00:00, 845.66it/s] \n"
     ]
    },
    {
     "name": "stdout",
     "output_type": "stream",
     "text": [
      "EvaluatorHoldout: Processed 10488 (100.0%) in 3.88 sec. Users per second: 2702\n",
      "SLIMElasticNetRecommender: URM Detected 223 ( 1.8%) users with no interactions.\n",
      "SLIMElasticNetRecommender: URM Detected 106 ( 0.5%) items with no interactions.\n"
     ]
    },
    {
     "name": "stderr",
     "output_type": "stream",
     "text": [
      "100%|█████████▉| 22216/22222 [00:26<00:00, 850.00it/s] \n"
     ]
    },
    {
     "name": "stdout",
     "output_type": "stream",
     "text": [
      "EvaluatorHoldout: Processed 10448 (100.0%) in 4.07 sec. Users per second: 2569\n",
      "SLIMElasticNetRecommender: URM Detected 227 ( 1.8%) users with no interactions.\n",
      "SLIMElasticNetRecommender: URM Detected 109 ( 0.5%) items with no interactions.\n"
     ]
    },
    {
     "name": "stderr",
     "output_type": "stream",
     "text": [
      "100%|█████████▉| 22216/22222 [00:25<00:00, 854.62it/s] \n"
     ]
    },
    {
     "name": "stdout",
     "output_type": "stream",
     "text": [
      "EvaluatorHoldout: Processed 10444 (100.0%) in 3.91 sec. Users per second: 2670\n",
      "SLIMElasticNetRecommender: URM Detected 243 ( 1.9%) users with no interactions.\n",
      "SLIMElasticNetRecommender: URM Detected 122 ( 0.5%) items with no interactions.\n"
     ]
    },
    {
     "name": "stderr",
     "output_type": "stream",
     "text": [
      "100%|█████████▉| 22216/22222 [00:26<00:00, 849.74it/s] \n"
     ]
    },
    {
     "name": "stdout",
     "output_type": "stream",
     "text": [
      "EvaluatorHoldout: Processed 10473 (100.0%) in 3.98 sec. Users per second: 2632\n",
      "SLIMElasticNetRecommender: URM Detected 239 ( 1.9%) users with no interactions.\n",
      "SLIMElasticNetRecommender: URM Detected 109 ( 0.5%) items with no interactions.\n"
     ]
    },
    {
     "name": "stderr",
     "output_type": "stream",
     "text": [
      "100%|█████████▉| 22216/22222 [00:26<00:00, 849.75it/s] \n"
     ]
    },
    {
     "name": "stdout",
     "output_type": "stream",
     "text": [
      "EvaluatorHoldout: Processed 10493 (100.0%) in 4.01 sec. Users per second: 2618\n",
      "SLIMElasticNetRecommender: URM Detected 201 ( 1.6%) users with no interactions.\n",
      "SLIMElasticNetRecommender: URM Detected 114 ( 0.5%) items with no interactions.\n"
     ]
    },
    {
     "name": "stderr",
     "output_type": "stream",
     "text": [
      "100%|█████████▉| 22216/22222 [00:26<00:00, 847.70it/s] \n"
     ]
    },
    {
     "name": "stdout",
     "output_type": "stream",
     "text": [
      "EvaluatorHoldout: Processed 10467 (100.0%) in 4.07 sec. Users per second: 2571\n",
      "SLIMElasticNetRecommender: URM Detected 220 ( 1.7%) users with no interactions.\n",
      "SLIMElasticNetRecommender: URM Detected 118 ( 0.5%) items with no interactions.\n"
     ]
    },
    {
     "name": "stderr",
     "output_type": "stream",
     "text": [
      "100%|█████████▉| 22216/22222 [00:26<00:00, 838.97it/s] \n"
     ]
    },
    {
     "name": "stdout",
     "output_type": "stream",
     "text": [
      "EvaluatorHoldout: Processed 10440 (100.0%) in 4.00 sec. Users per second: 2611\n"
     ]
    },
    {
     "name": "stderr",
     "output_type": "stream",
     "text": [
      "[I 2024-01-08 13:23:20,520] Trial 122 finished with value: 0.04918266766806963 and parameters: {'topK': 1364, 'l1_ratio': 0.05589438845689952, 'alpha': 0.0014430168306058368}. Best is trial 74 with value: 0.0494009148817492.\n"
     ]
    },
    {
     "name": "stdout",
     "output_type": "stream",
     "text": [
      "SLIMElasticNetRecommender: URM Detected 229 ( 1.8%) users with no interactions.\n",
      "SLIMElasticNetRecommender: URM Detected 126 ( 0.6%) items with no interactions.\n"
     ]
    },
    {
     "name": "stderr",
     "output_type": "stream",
     "text": [
      "100%|█████████▉| 22216/22222 [00:34<00:00, 636.10it/s]\n"
     ]
    },
    {
     "name": "stdout",
     "output_type": "stream",
     "text": [
      "EvaluatorHoldout: Processed 10472 (100.0%) in 4.37 sec. Users per second: 2398\n",
      "SLIMElasticNetRecommender: URM Detected 217 ( 1.7%) users with no interactions.\n",
      "SLIMElasticNetRecommender: URM Detected 113 ( 0.5%) items with no interactions.\n"
     ]
    },
    {
     "name": "stderr",
     "output_type": "stream",
     "text": [
      "100%|█████████▉| 22216/22222 [00:34<00:00, 644.73it/s]\n"
     ]
    },
    {
     "name": "stdout",
     "output_type": "stream",
     "text": [
      "EvaluatorHoldout: Processed 10488 (100.0%) in 4.24 sec. Users per second: 2471\n",
      "SLIMElasticNetRecommender: URM Detected 223 ( 1.8%) users with no interactions.\n",
      "SLIMElasticNetRecommender: URM Detected 106 ( 0.5%) items with no interactions.\n"
     ]
    },
    {
     "name": "stderr",
     "output_type": "stream",
     "text": [
      "100%|█████████▉| 22216/22222 [00:34<00:00, 644.81it/s]\n"
     ]
    },
    {
     "name": "stdout",
     "output_type": "stream",
     "text": [
      "EvaluatorHoldout: Processed 10448 (100.0%) in 4.48 sec. Users per second: 2330\n",
      "SLIMElasticNetRecommender: URM Detected 227 ( 1.8%) users with no interactions.\n",
      "SLIMElasticNetRecommender: URM Detected 109 ( 0.5%) items with no interactions.\n"
     ]
    },
    {
     "name": "stderr",
     "output_type": "stream",
     "text": [
      "100%|█████████▉| 22216/22222 [00:34<00:00, 646.88it/s]\n"
     ]
    },
    {
     "name": "stdout",
     "output_type": "stream",
     "text": [
      "EvaluatorHoldout: Processed 10444 (100.0%) in 4.25 sec. Users per second: 2458\n",
      "SLIMElasticNetRecommender: URM Detected 243 ( 1.9%) users with no interactions.\n",
      "SLIMElasticNetRecommender: URM Detected 122 ( 0.5%) items with no interactions.\n"
     ]
    },
    {
     "name": "stderr",
     "output_type": "stream",
     "text": [
      "100%|█████████▉| 22216/22222 [00:34<00:00, 644.71it/s]\n"
     ]
    },
    {
     "name": "stdout",
     "output_type": "stream",
     "text": [
      "EvaluatorHoldout: Processed 10473 (100.0%) in 4.30 sec. Users per second: 2436\n",
      "SLIMElasticNetRecommender: URM Detected 239 ( 1.9%) users with no interactions.\n",
      "SLIMElasticNetRecommender: URM Detected 109 ( 0.5%) items with no interactions.\n"
     ]
    },
    {
     "name": "stderr",
     "output_type": "stream",
     "text": [
      "100%|█████████▉| 22216/22222 [00:34<00:00, 643.78it/s]\n"
     ]
    },
    {
     "name": "stdout",
     "output_type": "stream",
     "text": [
      "EvaluatorHoldout: Processed 10493 (100.0%) in 4.35 sec. Users per second: 2415\n",
      "SLIMElasticNetRecommender: URM Detected 201 ( 1.6%) users with no interactions.\n",
      "SLIMElasticNetRecommender: URM Detected 114 ( 0.5%) items with no interactions.\n"
     ]
    },
    {
     "name": "stderr",
     "output_type": "stream",
     "text": [
      "100%|█████████▉| 22216/22222 [00:34<00:00, 648.52it/s]\n"
     ]
    },
    {
     "name": "stdout",
     "output_type": "stream",
     "text": [
      "EvaluatorHoldout: Processed 10467 (100.0%) in 4.33 sec. Users per second: 2415\n",
      "SLIMElasticNetRecommender: URM Detected 220 ( 1.7%) users with no interactions.\n",
      "SLIMElasticNetRecommender: URM Detected 118 ( 0.5%) items with no interactions.\n"
     ]
    },
    {
     "name": "stderr",
     "output_type": "stream",
     "text": [
      "100%|█████████▉| 22216/22222 [00:34<00:00, 640.24it/s]\n"
     ]
    },
    {
     "name": "stdout",
     "output_type": "stream",
     "text": [
      "EvaluatorHoldout: Processed 10440 (100.0%) in 4.25 sec. Users per second: 2459\n"
     ]
    },
    {
     "name": "stderr",
     "output_type": "stream",
     "text": [
      "[I 2024-01-08 13:28:32,792] Trial 123 finished with value: 0.049311291274491936 and parameters: {'topK': 787, 'l1_ratio': 0.02535222408378235, 'alpha': 0.001778684253087712}. Best is trial 74 with value: 0.0494009148817492.\n"
     ]
    },
    {
     "name": "stdout",
     "output_type": "stream",
     "text": [
      "SLIMElasticNetRecommender: URM Detected 229 ( 1.8%) users with no interactions.\n",
      "SLIMElasticNetRecommender: URM Detected 126 ( 0.6%) items with no interactions.\n"
     ]
    },
    {
     "name": "stderr",
     "output_type": "stream",
     "text": [
      "100%|█████████▉| 22216/22222 [00:26<00:00, 826.52it/s] \n"
     ]
    },
    {
     "name": "stdout",
     "output_type": "stream",
     "text": [
      "EvaluatorHoldout: Processed 10472 (100.0%) in 3.97 sec. Users per second: 2640\n",
      "SLIMElasticNetRecommender: URM Detected 217 ( 1.7%) users with no interactions.\n",
      "SLIMElasticNetRecommender: URM Detected 113 ( 0.5%) items with no interactions.\n"
     ]
    },
    {
     "name": "stderr",
     "output_type": "stream",
     "text": [
      "100%|█████████▉| 22216/22222 [00:26<00:00, 847.76it/s] \n"
     ]
    },
    {
     "name": "stdout",
     "output_type": "stream",
     "text": [
      "EvaluatorHoldout: Processed 10488 (100.0%) in 3.85 sec. Users per second: 2724\n",
      "SLIMElasticNetRecommender: URM Detected 223 ( 1.8%) users with no interactions.\n",
      "SLIMElasticNetRecommender: URM Detected 106 ( 0.5%) items with no interactions.\n"
     ]
    },
    {
     "name": "stderr",
     "output_type": "stream",
     "text": [
      "100%|█████████▉| 22216/22222 [00:26<00:00, 851.75it/s] \n"
     ]
    },
    {
     "name": "stdout",
     "output_type": "stream",
     "text": [
      "EvaluatorHoldout: Processed 10448 (100.0%) in 4.11 sec. Users per second: 2541\n",
      "SLIMElasticNetRecommender: URM Detected 227 ( 1.8%) users with no interactions.\n",
      "SLIMElasticNetRecommender: URM Detected 109 ( 0.5%) items with no interactions.\n"
     ]
    },
    {
     "name": "stderr",
     "output_type": "stream",
     "text": [
      "100%|█████████▉| 22216/22222 [00:26<00:00, 850.82it/s] \n"
     ]
    },
    {
     "name": "stdout",
     "output_type": "stream",
     "text": [
      "EvaluatorHoldout: Processed 10444 (100.0%) in 3.94 sec. Users per second: 2650\n",
      "SLIMElasticNetRecommender: URM Detected 243 ( 1.9%) users with no interactions.\n",
      "SLIMElasticNetRecommender: URM Detected 122 ( 0.5%) items with no interactions.\n"
     ]
    },
    {
     "name": "stderr",
     "output_type": "stream",
     "text": [
      "100%|█████████▉| 22216/22222 [00:26<00:00, 849.58it/s] \n"
     ]
    },
    {
     "name": "stdout",
     "output_type": "stream",
     "text": [
      "EvaluatorHoldout: Processed 10473 (100.0%) in 3.87 sec. Users per second: 2705\n",
      "SLIMElasticNetRecommender: URM Detected 239 ( 1.9%) users with no interactions.\n",
      "SLIMElasticNetRecommender: URM Detected 109 ( 0.5%) items with no interactions.\n"
     ]
    },
    {
     "name": "stderr",
     "output_type": "stream",
     "text": [
      "100%|█████████▉| 22216/22222 [00:26<00:00, 843.59it/s] \n"
     ]
    },
    {
     "name": "stdout",
     "output_type": "stream",
     "text": [
      "EvaluatorHoldout: Processed 10493 (100.0%) in 3.97 sec. Users per second: 2645\n",
      "SLIMElasticNetRecommender: URM Detected 201 ( 1.6%) users with no interactions.\n",
      "SLIMElasticNetRecommender: URM Detected 114 ( 0.5%) items with no interactions.\n"
     ]
    },
    {
     "name": "stderr",
     "output_type": "stream",
     "text": [
      "100%|█████████▉| 22216/22222 [00:26<00:00, 848.99it/s] \n"
     ]
    },
    {
     "name": "stdout",
     "output_type": "stream",
     "text": [
      "EvaluatorHoldout: Processed 10467 (100.0%) in 3.92 sec. Users per second: 2667\n",
      "SLIMElasticNetRecommender: URM Detected 220 ( 1.7%) users with no interactions.\n",
      "SLIMElasticNetRecommender: URM Detected 118 ( 0.5%) items with no interactions.\n"
     ]
    },
    {
     "name": "stderr",
     "output_type": "stream",
     "text": [
      "100%|█████████▉| 22216/22222 [00:26<00:00, 839.59it/s] \n"
     ]
    },
    {
     "name": "stdout",
     "output_type": "stream",
     "text": [
      "EvaluatorHoldout: Processed 10440 (100.0%) in 3.99 sec. Users per second: 2619\n"
     ]
    },
    {
     "name": "stderr",
     "output_type": "stream",
     "text": [
      "[I 2024-01-08 13:32:35,637] Trial 124 finished with value: 0.04929706624632215 and parameters: {'topK': 843, 'l1_ratio': 0.07425271572530431, 'alpha': 0.0012005393184071668}. Best is trial 74 with value: 0.0494009148817492.\n"
     ]
    },
    {
     "name": "stdout",
     "output_type": "stream",
     "text": [
      "SLIMElasticNetRecommender: URM Detected 229 ( 1.8%) users with no interactions.\n",
      "SLIMElasticNetRecommender: URM Detected 126 ( 0.6%) items with no interactions.\n"
     ]
    },
    {
     "name": "stderr",
     "output_type": "stream",
     "text": [
      "100%|█████████▉| 22216/22222 [00:35<00:00, 623.58it/s]\n"
     ]
    },
    {
     "name": "stdout",
     "output_type": "stream",
     "text": [
      "EvaluatorHoldout: Processed 10472 (100.0%) in 4.22 sec. Users per second: 2480\n",
      "SLIMElasticNetRecommender: URM Detected 217 ( 1.7%) users with no interactions.\n",
      "SLIMElasticNetRecommender: URM Detected 113 ( 0.5%) items with no interactions.\n"
     ]
    },
    {
     "name": "stderr",
     "output_type": "stream",
     "text": [
      "100%|█████████▉| 22216/22222 [00:35<00:00, 626.65it/s]\n"
     ]
    },
    {
     "name": "stdout",
     "output_type": "stream",
     "text": [
      "EvaluatorHoldout: Processed 10488 (100.0%) in 4.28 sec. Users per second: 2452\n",
      "SLIMElasticNetRecommender: URM Detected 223 ( 1.8%) users with no interactions.\n",
      "SLIMElasticNetRecommender: URM Detected 106 ( 0.5%) items with no interactions.\n"
     ]
    },
    {
     "name": "stderr",
     "output_type": "stream",
     "text": [
      "100%|█████████▉| 22216/22222 [00:35<00:00, 633.31it/s]\n"
     ]
    },
    {
     "name": "stdout",
     "output_type": "stream",
     "text": [
      "EvaluatorHoldout: Processed 10448 (100.0%) in 4.40 sec. Users per second: 2376\n",
      "SLIMElasticNetRecommender: URM Detected 227 ( 1.8%) users with no interactions.\n",
      "SLIMElasticNetRecommender: URM Detected 109 ( 0.5%) items with no interactions.\n"
     ]
    },
    {
     "name": "stderr",
     "output_type": "stream",
     "text": [
      "100%|█████████▉| 22216/22222 [00:34<00:00, 635.95it/s]\n"
     ]
    },
    {
     "name": "stdout",
     "output_type": "stream",
     "text": [
      "EvaluatorHoldout: Processed 10444 (100.0%) in 4.24 sec. Users per second: 2466\n",
      "SLIMElasticNetRecommender: URM Detected 243 ( 1.9%) users with no interactions.\n",
      "SLIMElasticNetRecommender: URM Detected 122 ( 0.5%) items with no interactions.\n"
     ]
    },
    {
     "name": "stderr",
     "output_type": "stream",
     "text": [
      "100%|█████████▉| 22216/22222 [00:36<00:00, 611.32it/s]\n"
     ]
    },
    {
     "name": "stdout",
     "output_type": "stream",
     "text": [
      "EvaluatorHoldout: Processed 10473 (100.0%) in 4.33 sec. Users per second: 2418\n",
      "SLIMElasticNetRecommender: URM Detected 239 ( 1.9%) users with no interactions.\n",
      "SLIMElasticNetRecommender: URM Detected 109 ( 0.5%) items with no interactions.\n"
     ]
    },
    {
     "name": "stderr",
     "output_type": "stream",
     "text": [
      "100%|█████████▉| 22216/22222 [00:35<00:00, 627.98it/s]\n"
     ]
    },
    {
     "name": "stdout",
     "output_type": "stream",
     "text": [
      "EvaluatorHoldout: Processed 10493 (100.0%) in 4.36 sec. Users per second: 2406\n",
      "SLIMElasticNetRecommender: URM Detected 201 ( 1.6%) users with no interactions.\n",
      "SLIMElasticNetRecommender: URM Detected 114 ( 0.5%) items with no interactions.\n"
     ]
    },
    {
     "name": "stderr",
     "output_type": "stream",
     "text": [
      "100%|█████████▉| 22216/22222 [00:35<00:00, 631.62it/s]\n"
     ]
    },
    {
     "name": "stdout",
     "output_type": "stream",
     "text": [
      "EvaluatorHoldout: Processed 10467 (100.0%) in 4.26 sec. Users per second: 2458\n",
      "SLIMElasticNetRecommender: URM Detected 220 ( 1.7%) users with no interactions.\n",
      "SLIMElasticNetRecommender: URM Detected 118 ( 0.5%) items with no interactions.\n"
     ]
    },
    {
     "name": "stderr",
     "output_type": "stream",
     "text": [
      "100%|█████████▉| 22216/22222 [00:35<00:00, 625.73it/s]\n"
     ]
    },
    {
     "name": "stdout",
     "output_type": "stream",
     "text": [
      "EvaluatorHoldout: Processed 10440 (100.0%) in 4.43 sec. Users per second: 2357\n"
     ]
    },
    {
     "name": "stderr",
     "output_type": "stream",
     "text": [
      "[I 2024-01-08 13:37:55,332] Trial 125 finished with value: 0.04924397153818193 and parameters: {'topK': 900, 'l1_ratio': 0.02241663004278991, 'alpha': 0.0017114670513432117}. Best is trial 74 with value: 0.0494009148817492.\n"
     ]
    },
    {
     "name": "stdout",
     "output_type": "stream",
     "text": [
      "SLIMElasticNetRecommender: URM Detected 229 ( 1.8%) users with no interactions.\n",
      "SLIMElasticNetRecommender: URM Detected 126 ( 0.6%) items with no interactions.\n"
     ]
    },
    {
     "name": "stderr",
     "output_type": "stream",
     "text": [
      "100%|█████████▉| 22216/22222 [00:34<00:00, 648.33it/s]\n"
     ]
    },
    {
     "name": "stdout",
     "output_type": "stream",
     "text": [
      "EvaluatorHoldout: Processed 10472 (100.0%) in 4.08 sec. Users per second: 2565\n",
      "SLIMElasticNetRecommender: URM Detected 217 ( 1.7%) users with no interactions.\n",
      "SLIMElasticNetRecommender: URM Detected 113 ( 0.5%) items with no interactions.\n"
     ]
    },
    {
     "name": "stderr",
     "output_type": "stream",
     "text": [
      "100%|█████████▉| 22216/22222 [00:34<00:00, 653.35it/s]\n"
     ]
    },
    {
     "name": "stdout",
     "output_type": "stream",
     "text": [
      "EvaluatorHoldout: Processed 10488 (100.0%) in 4.08 sec. Users per second: 2571\n",
      "SLIMElasticNetRecommender: URM Detected 223 ( 1.8%) users with no interactions.\n",
      "SLIMElasticNetRecommender: URM Detected 106 ( 0.5%) items with no interactions.\n"
     ]
    },
    {
     "name": "stderr",
     "output_type": "stream",
     "text": [
      "100%|█████████▉| 22216/22222 [00:33<00:00, 656.39it/s]\n"
     ]
    },
    {
     "name": "stdout",
     "output_type": "stream",
     "text": [
      "EvaluatorHoldout: Processed 10448 (100.0%) in 4.21 sec. Users per second: 2481\n",
      "SLIMElasticNetRecommender: URM Detected 227 ( 1.8%) users with no interactions.\n",
      "SLIMElasticNetRecommender: URM Detected 109 ( 0.5%) items with no interactions.\n"
     ]
    },
    {
     "name": "stderr",
     "output_type": "stream",
     "text": [
      "100%|█████████▉| 22216/22222 [00:33<00:00, 660.30it/s]\n"
     ]
    },
    {
     "name": "stdout",
     "output_type": "stream",
     "text": [
      "EvaluatorHoldout: Processed 10444 (100.0%) in 4.11 sec. Users per second: 2543\n",
      "SLIMElasticNetRecommender: URM Detected 243 ( 1.9%) users with no interactions.\n",
      "SLIMElasticNetRecommender: URM Detected 122 ( 0.5%) items with no interactions.\n"
     ]
    },
    {
     "name": "stderr",
     "output_type": "stream",
     "text": [
      "100%|█████████▉| 22216/22222 [00:34<00:00, 652.28it/s]\n"
     ]
    },
    {
     "name": "stdout",
     "output_type": "stream",
     "text": [
      "EvaluatorHoldout: Processed 10473 (100.0%) in 4.05 sec. Users per second: 2583\n",
      "SLIMElasticNetRecommender: URM Detected 239 ( 1.9%) users with no interactions.\n",
      "SLIMElasticNetRecommender: URM Detected 109 ( 0.5%) items with no interactions.\n"
     ]
    },
    {
     "name": "stderr",
     "output_type": "stream",
     "text": [
      "100%|█████████▉| 22216/22222 [00:33<00:00, 654.22it/s]\n"
     ]
    },
    {
     "name": "stdout",
     "output_type": "stream",
     "text": [
      "EvaluatorHoldout: Processed 10493 (100.0%) in 4.04 sec. Users per second: 2600\n",
      "SLIMElasticNetRecommender: URM Detected 201 ( 1.6%) users with no interactions.\n",
      "SLIMElasticNetRecommender: URM Detected 114 ( 0.5%) items with no interactions.\n"
     ]
    },
    {
     "name": "stderr",
     "output_type": "stream",
     "text": [
      "100%|█████████▉| 22216/22222 [00:33<00:00, 656.28it/s]\n"
     ]
    },
    {
     "name": "stdout",
     "output_type": "stream",
     "text": [
      "EvaluatorHoldout: Processed 10467 (100.0%) in 4.07 sec. Users per second: 2570\n",
      "SLIMElasticNetRecommender: URM Detected 220 ( 1.7%) users with no interactions.\n",
      "SLIMElasticNetRecommender: URM Detected 118 ( 0.5%) items with no interactions.\n"
     ]
    },
    {
     "name": "stderr",
     "output_type": "stream",
     "text": [
      "100%|█████████▉| 22216/22222 [00:34<00:00, 648.26it/s]\n"
     ]
    },
    {
     "name": "stdout",
     "output_type": "stream",
     "text": [
      "EvaluatorHoldout: Processed 10440 (100.0%) in 4.07 sec. Users per second: 2564\n"
     ]
    },
    {
     "name": "stderr",
     "output_type": "stream",
     "text": [
      "[I 2024-01-08 13:43:01,282] Trial 126 finished with value: 0.04923138339277037 and parameters: {'topK': 1269, 'l1_ratio': 0.0494962993336499, 'alpha': 0.001070302110923579}. Best is trial 74 with value: 0.0494009148817492.\n"
     ]
    },
    {
     "name": "stdout",
     "output_type": "stream",
     "text": [
      "SLIMElasticNetRecommender: URM Detected 229 ( 1.8%) users with no interactions.\n",
      "SLIMElasticNetRecommender: URM Detected 126 ( 0.6%) items with no interactions.\n"
     ]
    },
    {
     "name": "stderr",
     "output_type": "stream",
     "text": [
      "100%|█████████▉| 22216/22222 [00:35<00:00, 622.63it/s]\n"
     ]
    },
    {
     "name": "stdout",
     "output_type": "stream",
     "text": [
      "EvaluatorHoldout: Processed 10472 (100.0%) in 4.62 sec. Users per second: 2267\n",
      "SLIMElasticNetRecommender: URM Detected 217 ( 1.7%) users with no interactions.\n",
      "SLIMElasticNetRecommender: URM Detected 113 ( 0.5%) items with no interactions.\n"
     ]
    },
    {
     "name": "stderr",
     "output_type": "stream",
     "text": [
      "100%|█████████▉| 22216/22222 [00:36<00:00, 607.72it/s]\n"
     ]
    },
    {
     "name": "stdout",
     "output_type": "stream",
     "text": [
      "EvaluatorHoldout: Processed 10488 (100.0%) in 4.52 sec. Users per second: 2321\n",
      "SLIMElasticNetRecommender: URM Detected 223 ( 1.8%) users with no interactions.\n",
      "SLIMElasticNetRecommender: URM Detected 106 ( 0.5%) items with no interactions.\n"
     ]
    },
    {
     "name": "stderr",
     "output_type": "stream",
     "text": [
      "100%|█████████▉| 22216/22222 [00:35<00:00, 625.83it/s]\n"
     ]
    },
    {
     "name": "stdout",
     "output_type": "stream",
     "text": [
      "EvaluatorHoldout: Processed 10448 (100.0%) in 4.82 sec. Users per second: 2169\n",
      "SLIMElasticNetRecommender: URM Detected 227 ( 1.8%) users with no interactions.\n",
      "SLIMElasticNetRecommender: URM Detected 109 ( 0.5%) items with no interactions.\n"
     ]
    },
    {
     "name": "stderr",
     "output_type": "stream",
     "text": [
      "100%|█████████▉| 22216/22222 [00:35<00:00, 627.52it/s]\n"
     ]
    },
    {
     "name": "stdout",
     "output_type": "stream",
     "text": [
      "EvaluatorHoldout: Processed 10444 (100.0%) in 4.62 sec. Users per second: 2260\n",
      "SLIMElasticNetRecommender: URM Detected 243 ( 1.9%) users with no interactions.\n",
      "SLIMElasticNetRecommender: URM Detected 122 ( 0.5%) items with no interactions.\n"
     ]
    },
    {
     "name": "stderr",
     "output_type": "stream",
     "text": [
      "100%|█████████▉| 22216/22222 [00:36<00:00, 604.87it/s]\n"
     ]
    },
    {
     "name": "stdout",
     "output_type": "stream",
     "text": [
      "EvaluatorHoldout: Processed 10473 (100.0%) in 4.60 sec. Users per second: 2276\n",
      "SLIMElasticNetRecommender: URM Detected 239 ( 1.9%) users with no interactions.\n",
      "SLIMElasticNetRecommender: URM Detected 109 ( 0.5%) items with no interactions.\n"
     ]
    },
    {
     "name": "stderr",
     "output_type": "stream",
     "text": [
      "100%|█████████▉| 22216/22222 [00:36<00:00, 615.31it/s]\n"
     ]
    },
    {
     "name": "stdout",
     "output_type": "stream",
     "text": [
      "EvaluatorHoldout: Processed 10493 (100.0%) in 4.68 sec. Users per second: 2242\n",
      "SLIMElasticNetRecommender: URM Detected 201 ( 1.6%) users with no interactions.\n",
      "SLIMElasticNetRecommender: URM Detected 114 ( 0.5%) items with no interactions.\n"
     ]
    },
    {
     "name": "stderr",
     "output_type": "stream",
     "text": [
      "100%|█████████▉| 22216/22222 [00:36<00:00, 612.95it/s]\n"
     ]
    },
    {
     "name": "stdout",
     "output_type": "stream",
     "text": [
      "EvaluatorHoldout: Processed 10467 (100.0%) in 4.58 sec. Users per second: 2287\n",
      "SLIMElasticNetRecommender: URM Detected 220 ( 1.7%) users with no interactions.\n",
      "SLIMElasticNetRecommender: URM Detected 118 ( 0.5%) items with no interactions.\n"
     ]
    },
    {
     "name": "stderr",
     "output_type": "stream",
     "text": [
      "100%|█████████▉| 22216/22222 [00:36<00:00, 604.40it/s]\n"
     ]
    },
    {
     "name": "stdout",
     "output_type": "stream",
     "text": [
      "EvaluatorHoldout: Processed 10440 (100.0%) in 4.60 sec. Users per second: 2268\n"
     ]
    },
    {
     "name": "stderr",
     "output_type": "stream",
     "text": [
      "[I 2024-01-08 13:48:29,165] Trial 127 finished with value: 0.04885988153096334 and parameters: {'topK': 1234, 'l1_ratio': 0.016036565648962036, 'alpha': 0.0023596321166682193}. Best is trial 74 with value: 0.0494009148817492.\n"
     ]
    },
    {
     "name": "stdout",
     "output_type": "stream",
     "text": [
      "SLIMElasticNetRecommender: URM Detected 229 ( 1.8%) users with no interactions.\n",
      "SLIMElasticNetRecommender: URM Detected 126 ( 0.6%) items with no interactions.\n"
     ]
    },
    {
     "name": "stderr",
     "output_type": "stream",
     "text": [
      "100%|█████████▉| 22216/22222 [00:37<00:00, 595.83it/s]\n"
     ]
    },
    {
     "name": "stdout",
     "output_type": "stream",
     "text": [
      "EvaluatorHoldout: Processed 10472 (100.0%) in 4.40 sec. Users per second: 2379\n",
      "SLIMElasticNetRecommender: URM Detected 217 ( 1.7%) users with no interactions.\n",
      "SLIMElasticNetRecommender: URM Detected 113 ( 0.5%) items with no interactions.\n"
     ]
    },
    {
     "name": "stderr",
     "output_type": "stream",
     "text": [
      "100%|█████████▉| 22216/22222 [00:36<00:00, 613.87it/s]\n"
     ]
    },
    {
     "name": "stdout",
     "output_type": "stream",
     "text": [
      "EvaluatorHoldout: Processed 10488 (100.0%) in 4.33 sec. Users per second: 2420\n",
      "SLIMElasticNetRecommender: URM Detected 223 ( 1.8%) users with no interactions.\n",
      "SLIMElasticNetRecommender: URM Detected 106 ( 0.5%) items with no interactions.\n"
     ]
    },
    {
     "name": "stderr",
     "output_type": "stream",
     "text": [
      "100%|█████████▉| 22216/22222 [00:36<00:00, 617.09it/s]\n"
     ]
    },
    {
     "name": "stdout",
     "output_type": "stream",
     "text": [
      "EvaluatorHoldout: Processed 10448 (100.0%) in 4.40 sec. Users per second: 2375\n",
      "SLIMElasticNetRecommender: URM Detected 227 ( 1.8%) users with no interactions.\n",
      "SLIMElasticNetRecommender: URM Detected 109 ( 0.5%) items with no interactions.\n"
     ]
    },
    {
     "name": "stderr",
     "output_type": "stream",
     "text": [
      "100%|█████████▉| 22216/22222 [00:35<00:00, 620.12it/s]\n"
     ]
    },
    {
     "name": "stdout",
     "output_type": "stream",
     "text": [
      "EvaluatorHoldout: Processed 10444 (100.0%) in 4.32 sec. Users per second: 2415\n",
      "SLIMElasticNetRecommender: URM Detected 243 ( 1.9%) users with no interactions.\n",
      "SLIMElasticNetRecommender: URM Detected 122 ( 0.5%) items with no interactions.\n"
     ]
    },
    {
     "name": "stderr",
     "output_type": "stream",
     "text": [
      "100%|█████████▉| 22216/22222 [00:36<00:00, 614.60it/s]\n"
     ]
    },
    {
     "name": "stdout",
     "output_type": "stream",
     "text": [
      "EvaluatorHoldout: Processed 10473 (100.0%) in 4.36 sec. Users per second: 2403\n",
      "SLIMElasticNetRecommender: URM Detected 239 ( 1.9%) users with no interactions.\n",
      "SLIMElasticNetRecommender: URM Detected 109 ( 0.5%) items with no interactions.\n"
     ]
    },
    {
     "name": "stderr",
     "output_type": "stream",
     "text": [
      "100%|█████████▉| 22216/22222 [00:36<00:00, 608.20it/s]\n"
     ]
    },
    {
     "name": "stdout",
     "output_type": "stream",
     "text": [
      "EvaluatorHoldout: Processed 10493 (100.0%) in 4.47 sec. Users per second: 2346\n",
      "SLIMElasticNetRecommender: URM Detected 201 ( 1.6%) users with no interactions.\n",
      "SLIMElasticNetRecommender: URM Detected 114 ( 0.5%) items with no interactions.\n"
     ]
    },
    {
     "name": "stderr",
     "output_type": "stream",
     "text": [
      "100%|█████████▉| 22216/22222 [00:52<00:00, 424.59it/s]\n"
     ]
    },
    {
     "name": "stdout",
     "output_type": "stream",
     "text": [
      "EvaluatorHoldout: Processed 10467 (100.0%) in 6.05 sec. Users per second: 1731\n",
      "SLIMElasticNetRecommender: URM Detected 220 ( 1.7%) users with no interactions.\n",
      "SLIMElasticNetRecommender: URM Detected 118 ( 0.5%) items with no interactions.\n"
     ]
    },
    {
     "name": "stderr",
     "output_type": "stream",
     "text": [
      "100%|█████████▉| 22216/22222 [00:58<00:00, 380.75it/s]\n"
     ]
    },
    {
     "name": "stdout",
     "output_type": "stream",
     "text": [
      "EvaluatorHoldout: Processed 10440 (100.0%) in 6.00 sec. Users per second: 1739\n"
     ]
    },
    {
     "name": "stderr",
     "output_type": "stream",
     "text": [
      "[I 2024-01-08 13:54:38,240] Trial 128 finished with value: 0.04892027804234041 and parameters: {'topK': 591, 'l1_ratio': 0.007414816839723164, 'alpha': 0.002524350232526784}. Best is trial 74 with value: 0.0494009148817492.\n"
     ]
    },
    {
     "name": "stdout",
     "output_type": "stream",
     "text": [
      "SLIMElasticNetRecommender: URM Detected 229 ( 1.8%) users with no interactions.\n",
      "SLIMElasticNetRecommender: URM Detected 126 ( 0.6%) items with no interactions.\n"
     ]
    },
    {
     "name": "stderr",
     "output_type": "stream",
     "text": [
      "100%|█████████▉| 22216/22222 [00:58<00:00, 380.19it/s]\n"
     ]
    },
    {
     "name": "stdout",
     "output_type": "stream",
     "text": [
      "EvaluatorHoldout: Processed 10472 (100.0%) in 5.97 sec. Users per second: 1753\n",
      "SLIMElasticNetRecommender: URM Detected 217 ( 1.7%) users with no interactions.\n",
      "SLIMElasticNetRecommender: URM Detected 113 ( 0.5%) items with no interactions.\n"
     ]
    },
    {
     "name": "stderr",
     "output_type": "stream",
     "text": [
      "100%|█████████▉| 22216/22222 [00:56<00:00, 391.10it/s]\n"
     ]
    },
    {
     "name": "stdout",
     "output_type": "stream",
     "text": [
      "EvaluatorHoldout: Processed 10488 (100.0%) in 6.06 sec. Users per second: 1732\n",
      "SLIMElasticNetRecommender: URM Detected 223 ( 1.8%) users with no interactions.\n",
      "SLIMElasticNetRecommender: URM Detected 106 ( 0.5%) items with no interactions.\n"
     ]
    },
    {
     "name": "stderr",
     "output_type": "stream",
     "text": [
      "100%|█████████▉| 22216/22222 [00:58<00:00, 378.85it/s]\n"
     ]
    },
    {
     "name": "stdout",
     "output_type": "stream",
     "text": [
      "EvaluatorHoldout: Processed 10448 (100.0%) in 5.99 sec. Users per second: 1745\n",
      "SLIMElasticNetRecommender: URM Detected 227 ( 1.8%) users with no interactions.\n",
      "SLIMElasticNetRecommender: URM Detected 109 ( 0.5%) items with no interactions.\n"
     ]
    },
    {
     "name": "stderr",
     "output_type": "stream",
     "text": [
      "100%|█████████▉| 22216/22222 [00:59<00:00, 370.27it/s]\n"
     ]
    },
    {
     "name": "stdout",
     "output_type": "stream",
     "text": [
      "EvaluatorHoldout: Processed 10444 (100.0%) in 5.97 sec. Users per second: 1749\n",
      "SLIMElasticNetRecommender: URM Detected 243 ( 1.9%) users with no interactions.\n",
      "SLIMElasticNetRecommender: URM Detected 122 ( 0.5%) items with no interactions.\n"
     ]
    },
    {
     "name": "stderr",
     "output_type": "stream",
     "text": [
      "100%|█████████▉| 22216/22222 [00:57<00:00, 385.02it/s]\n"
     ]
    },
    {
     "name": "stdout",
     "output_type": "stream",
     "text": [
      "EvaluatorHoldout: Processed 10473 (100.0%) in 5.66 sec. Users per second: 1852\n",
      "SLIMElasticNetRecommender: URM Detected 239 ( 1.9%) users with no interactions.\n",
      "SLIMElasticNetRecommender: URM Detected 109 ( 0.5%) items with no interactions.\n"
     ]
    },
    {
     "name": "stderr",
     "output_type": "stream",
     "text": [
      "100%|█████████▉| 22216/22222 [00:57<00:00, 386.53it/s]\n"
     ]
    },
    {
     "name": "stdout",
     "output_type": "stream",
     "text": [
      "EvaluatorHoldout: Processed 10493 (100.0%) in 5.68 sec. Users per second: 1848\n",
      "SLIMElasticNetRecommender: URM Detected 201 ( 1.6%) users with no interactions.\n",
      "SLIMElasticNetRecommender: URM Detected 114 ( 0.5%) items with no interactions.\n"
     ]
    },
    {
     "name": "stderr",
     "output_type": "stream",
     "text": [
      "100%|█████████▉| 22216/22222 [00:57<00:00, 388.69it/s]\n"
     ]
    },
    {
     "name": "stdout",
     "output_type": "stream",
     "text": [
      "EvaluatorHoldout: Processed 10467 (100.0%) in 5.90 sec. Users per second: 1775\n",
      "SLIMElasticNetRecommender: URM Detected 220 ( 1.7%) users with no interactions.\n",
      "SLIMElasticNetRecommender: URM Detected 118 ( 0.5%) items with no interactions.\n"
     ]
    },
    {
     "name": "stderr",
     "output_type": "stream",
     "text": [
      "100%|█████████▉| 22216/22222 [00:55<00:00, 402.66it/s]\n"
     ]
    },
    {
     "name": "stdout",
     "output_type": "stream",
     "text": [
      "EvaluatorHoldout: Processed 10440 (100.0%) in 5.76 sec. Users per second: 1812\n"
     ]
    },
    {
     "name": "stderr",
     "output_type": "stream",
     "text": [
      "[I 2024-01-08 14:03:09,979] Trial 129 finished with value: 0.04891045863435004 and parameters: {'topK': 1281, 'l1_ratio': 0.016110185600642774, 'alpha': 0.0019506210419472033}. Best is trial 74 with value: 0.0494009148817492.\n"
     ]
    },
    {
     "name": "stdout",
     "output_type": "stream",
     "text": [
      "SLIMElasticNetRecommender: URM Detected 229 ( 1.8%) users with no interactions.\n",
      "SLIMElasticNetRecommender: URM Detected 126 ( 0.6%) items with no interactions.\n"
     ]
    },
    {
     "name": "stderr",
     "output_type": "stream",
     "text": [
      "100%|█████████▉| 22216/22222 [00:56<00:00, 390.12it/s]\n"
     ]
    },
    {
     "name": "stdout",
     "output_type": "stream",
     "text": [
      "EvaluatorHoldout: Processed 10472 (100.0%) in 5.68 sec. Users per second: 1845\n",
      "SLIMElasticNetRecommender: URM Detected 217 ( 1.7%) users with no interactions.\n",
      "SLIMElasticNetRecommender: URM Detected 113 ( 0.5%) items with no interactions.\n"
     ]
    },
    {
     "name": "stderr",
     "output_type": "stream",
     "text": [
      "100%|█████████▉| 22216/22222 [00:54<00:00, 404.13it/s]\n"
     ]
    },
    {
     "name": "stdout",
     "output_type": "stream",
     "text": [
      "EvaluatorHoldout: Processed 10488 (100.0%) in 5.45 sec. Users per second: 1924\n",
      "SLIMElasticNetRecommender: URM Detected 223 ( 1.8%) users with no interactions.\n",
      "SLIMElasticNetRecommender: URM Detected 106 ( 0.5%) items with no interactions.\n"
     ]
    },
    {
     "name": "stderr",
     "output_type": "stream",
     "text": [
      "100%|█████████▉| 22216/22222 [00:53<00:00, 415.97it/s]\n"
     ]
    },
    {
     "name": "stdout",
     "output_type": "stream",
     "text": [
      "EvaluatorHoldout: Processed 10448 (100.0%) in 5.56 sec. Users per second: 1878\n",
      "SLIMElasticNetRecommender: URM Detected 227 ( 1.8%) users with no interactions.\n",
      "SLIMElasticNetRecommender: URM Detected 109 ( 0.5%) items with no interactions.\n"
     ]
    },
    {
     "name": "stderr",
     "output_type": "stream",
     "text": [
      "100%|█████████▉| 22216/22222 [00:54<00:00, 404.73it/s]\n"
     ]
    },
    {
     "name": "stdout",
     "output_type": "stream",
     "text": [
      "EvaluatorHoldout: Processed 10444 (100.0%) in 5.32 sec. Users per second: 1962\n",
      "SLIMElasticNetRecommender: URM Detected 243 ( 1.9%) users with no interactions.\n",
      "SLIMElasticNetRecommender: URM Detected 122 ( 0.5%) items with no interactions.\n"
     ]
    },
    {
     "name": "stderr",
     "output_type": "stream",
     "text": [
      "100%|█████████▉| 22216/22222 [00:54<00:00, 406.87it/s]\n"
     ]
    },
    {
     "name": "stdout",
     "output_type": "stream",
     "text": [
      "EvaluatorHoldout: Processed 10473 (100.0%) in 5.48 sec. Users per second: 1912\n",
      "SLIMElasticNetRecommender: URM Detected 239 ( 1.9%) users with no interactions.\n",
      "SLIMElasticNetRecommender: URM Detected 109 ( 0.5%) items with no interactions.\n"
     ]
    },
    {
     "name": "stderr",
     "output_type": "stream",
     "text": [
      "100%|█████████▉| 22216/22222 [00:55<00:00, 403.52it/s]\n"
     ]
    },
    {
     "name": "stdout",
     "output_type": "stream",
     "text": [
      "EvaluatorHoldout: Processed 10493 (100.0%) in 5.49 sec. Users per second: 1912\n",
      "SLIMElasticNetRecommender: URM Detected 201 ( 1.6%) users with no interactions.\n",
      "SLIMElasticNetRecommender: URM Detected 114 ( 0.5%) items with no interactions.\n"
     ]
    },
    {
     "name": "stderr",
     "output_type": "stream",
     "text": [
      "100%|█████████▉| 22216/22222 [00:54<00:00, 411.40it/s]\n"
     ]
    },
    {
     "name": "stdout",
     "output_type": "stream",
     "text": [
      "EvaluatorHoldout: Processed 10467 (100.0%) in 5.31 sec. Users per second: 1972\n",
      "SLIMElasticNetRecommender: URM Detected 220 ( 1.7%) users with no interactions.\n",
      "SLIMElasticNetRecommender: URM Detected 118 ( 0.5%) items with no interactions.\n"
     ]
    },
    {
     "name": "stderr",
     "output_type": "stream",
     "text": [
      "100%|█████████▉| 22216/22222 [00:54<00:00, 409.07it/s]\n"
     ]
    },
    {
     "name": "stdout",
     "output_type": "stream",
     "text": [
      "EvaluatorHoldout: Processed 10440 (100.0%) in 5.35 sec. Users per second: 1950\n"
     ]
    },
    {
     "name": "stderr",
     "output_type": "stream",
     "text": [
      "[I 2024-01-08 14:11:14,638] Trial 130 finished with value: 0.04919083255976468 and parameters: {'topK': 612, 'l1_ratio': 0.016167214643840244, 'alpha': 0.00212350477082874}. Best is trial 74 with value: 0.0494009148817492.\n"
     ]
    },
    {
     "name": "stdout",
     "output_type": "stream",
     "text": [
      "SLIMElasticNetRecommender: URM Detected 229 ( 1.8%) users with no interactions.\n",
      "SLIMElasticNetRecommender: URM Detected 126 ( 0.6%) items with no interactions.\n"
     ]
    },
    {
     "name": "stderr",
     "output_type": "stream",
     "text": [
      "100%|█████████▉| 22216/22222 [00:55<00:00, 399.19it/s]\n"
     ]
    },
    {
     "name": "stdout",
     "output_type": "stream",
     "text": [
      "EvaluatorHoldout: Processed 10472 (100.0%) in 5.83 sec. Users per second: 1797\n",
      "SLIMElasticNetRecommender: URM Detected 217 ( 1.7%) users with no interactions.\n",
      "SLIMElasticNetRecommender: URM Detected 113 ( 0.5%) items with no interactions.\n"
     ]
    },
    {
     "name": "stderr",
     "output_type": "stream",
     "text": [
      "100%|█████████▉| 22216/22222 [00:56<00:00, 392.47it/s]\n"
     ]
    },
    {
     "name": "stdout",
     "output_type": "stream",
     "text": [
      "EvaluatorHoldout: Processed 10488 (100.0%) in 5.60 sec. Users per second: 1874\n",
      "SLIMElasticNetRecommender: URM Detected 223 ( 1.8%) users with no interactions.\n",
      "SLIMElasticNetRecommender: URM Detected 106 ( 0.5%) items with no interactions.\n"
     ]
    },
    {
     "name": "stderr",
     "output_type": "stream",
     "text": [
      "100%|█████████▉| 22216/22222 [00:54<00:00, 405.30it/s]\n"
     ]
    },
    {
     "name": "stdout",
     "output_type": "stream",
     "text": [
      "EvaluatorHoldout: Processed 10448 (100.0%) in 5.63 sec. Users per second: 1856\n",
      "SLIMElasticNetRecommender: URM Detected 227 ( 1.8%) users with no interactions.\n",
      "SLIMElasticNetRecommender: URM Detected 109 ( 0.5%) items with no interactions.\n"
     ]
    },
    {
     "name": "stderr",
     "output_type": "stream",
     "text": [
      "100%|█████████▉| 22216/22222 [00:56<00:00, 392.01it/s]\n"
     ]
    },
    {
     "name": "stdout",
     "output_type": "stream",
     "text": [
      "EvaluatorHoldout: Processed 10444 (100.0%) in 5.80 sec. Users per second: 1802\n",
      "SLIMElasticNetRecommender: URM Detected 243 ( 1.9%) users with no interactions.\n",
      "SLIMElasticNetRecommender: URM Detected 122 ( 0.5%) items with no interactions.\n"
     ]
    },
    {
     "name": "stderr",
     "output_type": "stream",
     "text": [
      "100%|█████████▉| 22216/22222 [00:55<00:00, 403.85it/s]\n"
     ]
    },
    {
     "name": "stdout",
     "output_type": "stream",
     "text": [
      "EvaluatorHoldout: Processed 10473 (100.0%) in 5.78 sec. Users per second: 1813\n",
      "SLIMElasticNetRecommender: URM Detected 239 ( 1.9%) users with no interactions.\n",
      "SLIMElasticNetRecommender: URM Detected 109 ( 0.5%) items with no interactions.\n"
     ]
    },
    {
     "name": "stderr",
     "output_type": "stream",
     "text": [
      "100%|█████████▉| 22216/22222 [00:55<00:00, 399.08it/s]\n"
     ]
    },
    {
     "name": "stdout",
     "output_type": "stream",
     "text": [
      "EvaluatorHoldout: Processed 10493 (100.0%) in 5.64 sec. Users per second: 1862\n",
      "SLIMElasticNetRecommender: URM Detected 201 ( 1.6%) users with no interactions.\n",
      "SLIMElasticNetRecommender: URM Detected 114 ( 0.5%) items with no interactions.\n"
     ]
    },
    {
     "name": "stderr",
     "output_type": "stream",
     "text": [
      "100%|█████████▉| 22216/22222 [00:52<00:00, 420.39it/s]\n"
     ]
    },
    {
     "name": "stdout",
     "output_type": "stream",
     "text": [
      "EvaluatorHoldout: Processed 10467 (100.0%) in 5.33 sec. Users per second: 1964\n",
      "SLIMElasticNetRecommender: URM Detected 220 ( 1.7%) users with no interactions.\n",
      "SLIMElasticNetRecommender: URM Detected 118 ( 0.5%) items with no interactions.\n"
     ]
    },
    {
     "name": "stderr",
     "output_type": "stream",
     "text": [
      "100%|█████████▉| 22216/22222 [00:53<00:00, 418.33it/s]\n"
     ]
    },
    {
     "name": "stdout",
     "output_type": "stream",
     "text": [
      "EvaluatorHoldout: Processed 10440 (100.0%) in 5.64 sec. Users per second: 1852\n"
     ]
    },
    {
     "name": "stderr",
     "output_type": "stream",
     "text": [
      "[I 2024-01-08 14:19:23,288] Trial 131 finished with value: 0.04925237318898384 and parameters: {'topK': 991, 'l1_ratio': 0.02701476948198143, 'alpha': 0.0015419709719137998}. Best is trial 74 with value: 0.0494009148817492.\n"
     ]
    },
    {
     "name": "stdout",
     "output_type": "stream",
     "text": [
      "SLIMElasticNetRecommender: URM Detected 229 ( 1.8%) users with no interactions.\n",
      "SLIMElasticNetRecommender: URM Detected 126 ( 0.6%) items with no interactions.\n"
     ]
    },
    {
     "name": "stderr",
     "output_type": "stream",
     "text": [
      "100%|█████████▉| 22216/22222 [00:49<00:00, 449.33it/s]\n"
     ]
    },
    {
     "name": "stdout",
     "output_type": "stream",
     "text": [
      "EvaluatorHoldout: Processed 10472 (100.0%) in 5.30 sec. Users per second: 1978\n",
      "SLIMElasticNetRecommender: URM Detected 217 ( 1.7%) users with no interactions.\n",
      "SLIMElasticNetRecommender: URM Detected 113 ( 0.5%) items with no interactions.\n"
     ]
    },
    {
     "name": "stderr",
     "output_type": "stream",
     "text": [
      "100%|█████████▉| 22216/22222 [00:48<00:00, 458.90it/s]\n"
     ]
    },
    {
     "name": "stdout",
     "output_type": "stream",
     "text": [
      "EvaluatorHoldout: Processed 10488 (100.0%) in 5.12 sec. Users per second: 2050\n",
      "SLIMElasticNetRecommender: URM Detected 223 ( 1.8%) users with no interactions.\n",
      "SLIMElasticNetRecommender: URM Detected 106 ( 0.5%) items with no interactions.\n"
     ]
    },
    {
     "name": "stderr",
     "output_type": "stream",
     "text": [
      "100%|█████████▉| 22216/22222 [00:49<00:00, 451.32it/s]\n"
     ]
    },
    {
     "name": "stdout",
     "output_type": "stream",
     "text": [
      "EvaluatorHoldout: Processed 10448 (100.0%) in 5.48 sec. Users per second: 1906\n",
      "SLIMElasticNetRecommender: URM Detected 227 ( 1.8%) users with no interactions.\n",
      "SLIMElasticNetRecommender: URM Detected 109 ( 0.5%) items with no interactions.\n"
     ]
    },
    {
     "name": "stderr",
     "output_type": "stream",
     "text": [
      "100%|█████████▉| 22216/22222 [00:47<00:00, 463.43it/s]\n"
     ]
    },
    {
     "name": "stdout",
     "output_type": "stream",
     "text": [
      "EvaluatorHoldout: Processed 10444 (100.0%) in 5.22 sec. Users per second: 2000\n",
      "SLIMElasticNetRecommender: URM Detected 243 ( 1.9%) users with no interactions.\n",
      "SLIMElasticNetRecommender: URM Detected 122 ( 0.5%) items with no interactions.\n"
     ]
    },
    {
     "name": "stderr",
     "output_type": "stream",
     "text": [
      "100%|█████████▉| 22216/22222 [00:49<00:00, 445.53it/s]\n"
     ]
    },
    {
     "name": "stdout",
     "output_type": "stream",
     "text": [
      "EvaluatorHoldout: Processed 10473 (100.0%) in 5.48 sec. Users per second: 1912\n",
      "SLIMElasticNetRecommender: URM Detected 239 ( 1.9%) users with no interactions.\n",
      "SLIMElasticNetRecommender: URM Detected 109 ( 0.5%) items with no interactions.\n"
     ]
    },
    {
     "name": "stderr",
     "output_type": "stream",
     "text": [
      "100%|█████████▉| 22216/22222 [00:49<00:00, 453.26it/s]\n"
     ]
    },
    {
     "name": "stdout",
     "output_type": "stream",
     "text": [
      "EvaluatorHoldout: Processed 10493 (100.0%) in 5.49 sec. Users per second: 1911\n",
      "SLIMElasticNetRecommender: URM Detected 201 ( 1.6%) users with no interactions.\n",
      "SLIMElasticNetRecommender: URM Detected 114 ( 0.5%) items with no interactions.\n"
     ]
    },
    {
     "name": "stderr",
     "output_type": "stream",
     "text": [
      "100%|█████████▉| 22216/22222 [00:49<00:00, 446.94it/s]\n"
     ]
    },
    {
     "name": "stdout",
     "output_type": "stream",
     "text": [
      "EvaluatorHoldout: Processed 10467 (100.0%) in 5.56 sec. Users per second: 1882\n",
      "SLIMElasticNetRecommender: URM Detected 220 ( 1.7%) users with no interactions.\n",
      "SLIMElasticNetRecommender: URM Detected 118 ( 0.5%) items with no interactions.\n"
     ]
    },
    {
     "name": "stderr",
     "output_type": "stream",
     "text": [
      "100%|█████████▉| 22216/22222 [00:48<00:00, 453.73it/s]\n"
     ]
    },
    {
     "name": "stdout",
     "output_type": "stream",
     "text": [
      "EvaluatorHoldout: Processed 10440 (100.0%) in 5.26 sec. Users per second: 1985\n"
     ]
    },
    {
     "name": "stderr",
     "output_type": "stream",
     "text": [
      "[I 2024-01-08 14:26:40,948] Trial 132 finished with value: 0.049200327335718254 and parameters: {'topK': 1091, 'l1_ratio': 0.03670591793462468, 'alpha': 0.0016846258926373357}. Best is trial 74 with value: 0.0494009148817492.\n"
     ]
    },
    {
     "name": "stdout",
     "output_type": "stream",
     "text": [
      "SLIMElasticNetRecommender: URM Detected 229 ( 1.8%) users with no interactions.\n",
      "SLIMElasticNetRecommender: URM Detected 126 ( 0.6%) items with no interactions.\n"
     ]
    },
    {
     "name": "stderr",
     "output_type": "stream",
     "text": [
      "100%|█████████▉| 22216/22222 [00:52<00:00, 421.04it/s]\n"
     ]
    },
    {
     "name": "stdout",
     "output_type": "stream",
     "text": [
      "EvaluatorHoldout: Processed 10472 (100.0%) in 5.40 sec. Users per second: 1941\n",
      "SLIMElasticNetRecommender: URM Detected 217 ( 1.7%) users with no interactions.\n",
      "SLIMElasticNetRecommender: URM Detected 113 ( 0.5%) items with no interactions.\n"
     ]
    },
    {
     "name": "stderr",
     "output_type": "stream",
     "text": [
      "100%|█████████▉| 22216/22222 [00:39<00:00, 558.50it/s]\n"
     ]
    },
    {
     "name": "stdout",
     "output_type": "stream",
     "text": [
      "EvaluatorHoldout: Processed 10488 (100.0%) in 4.30 sec. Users per second: 2441\n",
      "SLIMElasticNetRecommender: URM Detected 223 ( 1.8%) users with no interactions.\n",
      "SLIMElasticNetRecommender: URM Detected 106 ( 0.5%) items with no interactions.\n"
     ]
    },
    {
     "name": "stderr",
     "output_type": "stream",
     "text": [
      "100%|█████████▉| 22216/22222 [00:37<00:00, 594.81it/s]\n"
     ]
    },
    {
     "name": "stdout",
     "output_type": "stream",
     "text": [
      "EvaluatorHoldout: Processed 10448 (100.0%) in 5.79 sec. Users per second: 1805\n",
      "SLIMElasticNetRecommender: URM Detected 227 ( 1.8%) users with no interactions.\n",
      "SLIMElasticNetRecommender: URM Detected 109 ( 0.5%) items with no interactions.\n"
     ]
    },
    {
     "name": "stderr",
     "output_type": "stream",
     "text": [
      "100%|█████████▉| 22216/22222 [00:54<00:00, 409.43it/s]\n"
     ]
    },
    {
     "name": "stdout",
     "output_type": "stream",
     "text": [
      "EvaluatorHoldout: Processed 10444 (100.0%) in 5.42 sec. Users per second: 1928\n",
      "SLIMElasticNetRecommender: URM Detected 243 ( 1.9%) users with no interactions.\n",
      "SLIMElasticNetRecommender: URM Detected 122 ( 0.5%) items with no interactions.\n"
     ]
    },
    {
     "name": "stderr",
     "output_type": "stream",
     "text": [
      "100%|█████████▉| 22216/22222 [00:52<00:00, 425.08it/s]\n"
     ]
    },
    {
     "name": "stdout",
     "output_type": "stream",
     "text": [
      "EvaluatorHoldout: Processed 10473 (100.0%) in 5.46 sec. Users per second: 1919\n",
      "SLIMElasticNetRecommender: URM Detected 239 ( 1.9%) users with no interactions.\n",
      "SLIMElasticNetRecommender: URM Detected 109 ( 0.5%) items with no interactions.\n"
     ]
    },
    {
     "name": "stderr",
     "output_type": "stream",
     "text": [
      "100%|█████████▉| 22216/22222 [01:21<00:00, 273.26it/s]\n"
     ]
    },
    {
     "name": "stdout",
     "output_type": "stream",
     "text": [
      "EvaluatorHoldout: Processed 10493 (100.0%) in 8.23 sec. Users per second: 1274\n",
      "SLIMElasticNetRecommender: URM Detected 201 ( 1.6%) users with no interactions.\n",
      "SLIMElasticNetRecommender: URM Detected 114 ( 0.5%) items with no interactions.\n"
     ]
    },
    {
     "name": "stderr",
     "output_type": "stream",
     "text": [
      "100%|█████████▉| 22216/22222 [00:52<00:00, 421.84it/s]\n"
     ]
    },
    {
     "name": "stdout",
     "output_type": "stream",
     "text": [
      "EvaluatorHoldout: Processed 10467 (100.0%) in 5.64 sec. Users per second: 1855\n",
      "SLIMElasticNetRecommender: URM Detected 220 ( 1.7%) users with no interactions.\n",
      "SLIMElasticNetRecommender: URM Detected 118 ( 0.5%) items with no interactions.\n"
     ]
    },
    {
     "name": "stderr",
     "output_type": "stream",
     "text": [
      "100%|█████████▉| 22216/22222 [00:53<00:00, 415.59it/s]\n"
     ]
    },
    {
     "name": "stdout",
     "output_type": "stream",
     "text": [
      "EvaluatorHoldout: Processed 10440 (100.0%) in 6.83 sec. Users per second: 1529\n"
     ]
    },
    {
     "name": "stderr",
     "output_type": "stream",
     "text": [
      "[I 2024-01-08 14:34:34,874] Trial 133 finished with value: 0.04927098079619395 and parameters: {'topK': 1083, 'l1_ratio': 0.031139980649487545, 'alpha': 0.0015056999436439972}. Best is trial 74 with value: 0.0494009148817492.\n"
     ]
    },
    {
     "name": "stdout",
     "output_type": "stream",
     "text": [
      "SLIMElasticNetRecommender: URM Detected 229 ( 1.8%) users with no interactions.\n",
      "SLIMElasticNetRecommender: URM Detected 126 ( 0.6%) items with no interactions.\n"
     ]
    },
    {
     "name": "stderr",
     "output_type": "stream",
     "text": [
      "100%|█████████▉| 22216/22222 [01:20<00:00, 276.53it/s]\n"
     ]
    },
    {
     "name": "stdout",
     "output_type": "stream",
     "text": [
      "EvaluatorHoldout: Processed 10472 (100.0%) in 5.28 sec. Users per second: 1983\n",
      "SLIMElasticNetRecommender: URM Detected 217 ( 1.7%) users with no interactions.\n",
      "SLIMElasticNetRecommender: URM Detected 113 ( 0.5%) items with no interactions.\n"
     ]
    },
    {
     "name": "stderr",
     "output_type": "stream",
     "text": [
      "100%|█████████▉| 22216/22222 [00:50<00:00, 439.68it/s]\n"
     ]
    },
    {
     "name": "stdout",
     "output_type": "stream",
     "text": [
      "EvaluatorHoldout: Processed 10488 (100.0%) in 5.21 sec. Users per second: 2015\n",
      "SLIMElasticNetRecommender: URM Detected 223 ( 1.8%) users with no interactions.\n",
      "SLIMElasticNetRecommender: URM Detected 106 ( 0.5%) items with no interactions.\n"
     ]
    },
    {
     "name": "stderr",
     "output_type": "stream",
     "text": [
      "100%|█████████▉| 22216/22222 [00:49<00:00, 445.34it/s]\n"
     ]
    },
    {
     "name": "stdout",
     "output_type": "stream",
     "text": [
      "EvaluatorHoldout: Processed 10448 (100.0%) in 5.20 sec. Users per second: 2007\n",
      "SLIMElasticNetRecommender: URM Detected 227 ( 1.8%) users with no interactions.\n",
      "SLIMElasticNetRecommender: URM Detected 109 ( 0.5%) items with no interactions.\n"
     ]
    },
    {
     "name": "stderr",
     "output_type": "stream",
     "text": [
      "100%|█████████▉| 22216/22222 [00:47<00:00, 464.18it/s]\n"
     ]
    },
    {
     "name": "stdout",
     "output_type": "stream",
     "text": [
      "EvaluatorHoldout: Processed 10444 (100.0%) in 5.21 sec. Users per second: 2006\n",
      "SLIMElasticNetRecommender: URM Detected 243 ( 1.9%) users with no interactions.\n",
      "SLIMElasticNetRecommender: URM Detected 122 ( 0.5%) items with no interactions.\n"
     ]
    },
    {
     "name": "stderr",
     "output_type": "stream",
     "text": [
      "100%|█████████▉| 22216/22222 [00:58<00:00, 379.99it/s]\n"
     ]
    },
    {
     "name": "stdout",
     "output_type": "stream",
     "text": [
      "EvaluatorHoldout: Processed 10473 (100.0%) in 8.86 sec. Users per second: 1182\n",
      "SLIMElasticNetRecommender: URM Detected 239 ( 1.9%) users with no interactions.\n",
      "SLIMElasticNetRecommender: URM Detected 109 ( 0.5%) items with no interactions.\n"
     ]
    },
    {
     "name": "stderr",
     "output_type": "stream",
     "text": [
      "100%|█████████▉| 22216/22222 [01:06<00:00, 335.15it/s]\n"
     ]
    },
    {
     "name": "stdout",
     "output_type": "stream",
     "text": [
      "EvaluatorHoldout: Processed 10493 (100.0%) in 5.28 sec. Users per second: 1986\n",
      "SLIMElasticNetRecommender: URM Detected 201 ( 1.6%) users with no interactions.\n",
      "SLIMElasticNetRecommender: URM Detected 114 ( 0.5%) items with no interactions.\n"
     ]
    },
    {
     "name": "stderr",
     "output_type": "stream",
     "text": [
      "100%|█████████▉| 22216/22222 [01:02<00:00, 355.85it/s]\n"
     ]
    },
    {
     "name": "stdout",
     "output_type": "stream",
     "text": [
      "EvaluatorHoldout: Processed 10467 (100.0%) in 9.47 sec. Users per second: 1106\n",
      "SLIMElasticNetRecommender: URM Detected 220 ( 1.7%) users with no interactions.\n",
      "SLIMElasticNetRecommender: URM Detected 118 ( 0.5%) items with no interactions.\n"
     ]
    },
    {
     "name": "stderr",
     "output_type": "stream",
     "text": [
      "100%|█████████▉| 22216/22222 [01:06<00:00, 335.05it/s]\n"
     ]
    },
    {
     "name": "stdout",
     "output_type": "stream",
     "text": [
      "EvaluatorHoldout: Processed 10440 (100.0%) in 5.60 sec. Users per second: 1864\n"
     ]
    },
    {
     "name": "stderr",
     "output_type": "stream",
     "text": [
      "[I 2024-01-08 14:43:30,194] Trial 134 finished with value: 0.04939390015195126 and parameters: {'topK': 294, 'l1_ratio': 0.027451918790849746, 'alpha': 0.0019276753985419549}. Best is trial 74 with value: 0.0494009148817492.\n"
     ]
    },
    {
     "name": "stdout",
     "output_type": "stream",
     "text": [
      "SLIMElasticNetRecommender: URM Detected 229 ( 1.8%) users with no interactions.\n",
      "SLIMElasticNetRecommender: URM Detected 126 ( 0.6%) items with no interactions.\n"
     ]
    },
    {
     "name": "stderr",
     "output_type": "stream",
     "text": [
      "100%|█████████▉| 22216/22222 [01:22<00:00, 270.11it/s]\n"
     ]
    },
    {
     "name": "stdout",
     "output_type": "stream",
     "text": [
      "EvaluatorHoldout: Processed 10472 (100.0%) in 10.46 sec. Users per second: 1001\n",
      "SLIMElasticNetRecommender: URM Detected 217 ( 1.7%) users with no interactions.\n",
      "SLIMElasticNetRecommender: URM Detected 113 ( 0.5%) items with no interactions.\n"
     ]
    },
    {
     "name": "stderr",
     "output_type": "stream",
     "text": [
      "100%|█████████▉| 22216/22222 [00:56<00:00, 391.30it/s]\n"
     ]
    },
    {
     "name": "stdout",
     "output_type": "stream",
     "text": [
      "EvaluatorHoldout: Processed 10488 (100.0%) in 9.35 sec. Users per second: 1122\n",
      "SLIMElasticNetRecommender: URM Detected 223 ( 1.8%) users with no interactions.\n",
      "SLIMElasticNetRecommender: URM Detected 106 ( 0.5%) items with no interactions.\n"
     ]
    },
    {
     "name": "stderr",
     "output_type": "stream",
     "text": [
      "100%|█████████▉| 22216/22222 [01:24<00:00, 263.86it/s]\n"
     ]
    },
    {
     "name": "stdout",
     "output_type": "stream",
     "text": [
      "EvaluatorHoldout: Processed 10448 (100.0%) in 6.53 sec. Users per second: 1600\n",
      "SLIMElasticNetRecommender: URM Detected 227 ( 1.8%) users with no interactions.\n",
      "SLIMElasticNetRecommender: URM Detected 109 ( 0.5%) items with no interactions.\n"
     ]
    },
    {
     "name": "stderr",
     "output_type": "stream",
     "text": [
      "100%|█████████▉| 22216/22222 [01:10<00:00, 314.82it/s]\n"
     ]
    },
    {
     "name": "stdout",
     "output_type": "stream",
     "text": [
      "EvaluatorHoldout: Processed 10444 (100.0%) in 9.10 sec. Users per second: 1148\n",
      "SLIMElasticNetRecommender: URM Detected 243 ( 1.9%) users with no interactions.\n",
      "SLIMElasticNetRecommender: URM Detected 122 ( 0.5%) items with no interactions.\n"
     ]
    },
    {
     "name": "stderr",
     "output_type": "stream",
     "text": [
      "100%|█████████▉| 22216/22222 [01:08<00:00, 324.29it/s]\n"
     ]
    },
    {
     "name": "stdout",
     "output_type": "stream",
     "text": [
      "EvaluatorHoldout: Processed 10473 (100.0%) in 5.99 sec. Users per second: 1747\n",
      "SLIMElasticNetRecommender: URM Detected 239 ( 1.9%) users with no interactions.\n",
      "SLIMElasticNetRecommender: URM Detected 109 ( 0.5%) items with no interactions.\n"
     ]
    },
    {
     "name": "stderr",
     "output_type": "stream",
     "text": [
      "100%|█████████▉| 22216/22222 [01:23<00:00, 265.98it/s]\n"
     ]
    },
    {
     "name": "stdout",
     "output_type": "stream",
     "text": [
      "EvaluatorHoldout: Processed 10493 (100.0%) in 8.28 sec. Users per second: 1268\n",
      "SLIMElasticNetRecommender: URM Detected 201 ( 1.6%) users with no interactions.\n",
      "SLIMElasticNetRecommender: URM Detected 114 ( 0.5%) items with no interactions.\n"
     ]
    },
    {
     "name": "stderr",
     "output_type": "stream",
     "text": [
      "100%|█████████▉| 22216/22222 [00:57<00:00, 387.28it/s]\n"
     ]
    },
    {
     "name": "stdout",
     "output_type": "stream",
     "text": [
      "EvaluatorHoldout: Processed 10467 (100.0%) in 9.42 sec. Users per second: 1112\n",
      "SLIMElasticNetRecommender: URM Detected 220 ( 1.7%) users with no interactions.\n",
      "SLIMElasticNetRecommender: URM Detected 118 ( 0.5%) items with no interactions.\n"
     ]
    },
    {
     "name": "stderr",
     "output_type": "stream",
     "text": [
      "100%|█████████▉| 22216/22222 [01:23<00:00, 265.66it/s]\n"
     ]
    },
    {
     "name": "stdout",
     "output_type": "stream",
     "text": [
      "EvaluatorHoldout: Processed 10440 (100.0%) in 5.80 sec. Users per second: 1799\n"
     ]
    },
    {
     "name": "stderr",
     "output_type": "stream",
     "text": [
      "[I 2024-01-08 14:54:26,335] Trial 135 finished with value: 0.048950636955524894 and parameters: {'topK': 1166, 'l1_ratio': 0.015242505746195317, 'alpha': 0.0019689528000118653}. Best is trial 74 with value: 0.0494009148817492.\n"
     ]
    },
    {
     "name": "stdout",
     "output_type": "stream",
     "text": [
      "SLIMElasticNetRecommender: URM Detected 229 ( 1.8%) users with no interactions.\n",
      "SLIMElasticNetRecommender: URM Detected 126 ( 0.6%) items with no interactions.\n"
     ]
    },
    {
     "name": "stderr",
     "output_type": "stream",
     "text": [
      "100%|█████████▉| 22216/22222 [01:05<00:00, 337.81it/s]\n"
     ]
    },
    {
     "name": "stdout",
     "output_type": "stream",
     "text": [
      "EvaluatorHoldout: Processed 10472 (100.0%) in 9.16 sec. Users per second: 1144\n",
      "SLIMElasticNetRecommender: URM Detected 217 ( 1.7%) users with no interactions.\n",
      "SLIMElasticNetRecommender: URM Detected 113 ( 0.5%) items with no interactions.\n"
     ]
    },
    {
     "name": "stderr",
     "output_type": "stream",
     "text": [
      "100%|█████████▉| 22216/22222 [01:09<00:00, 321.22it/s]\n"
     ]
    },
    {
     "name": "stdout",
     "output_type": "stream",
     "text": [
      "EvaluatorHoldout: Processed 10488 (100.0%) in 5.57 sec. Users per second: 1883\n",
      "SLIMElasticNetRecommender: URM Detected 223 ( 1.8%) users with no interactions.\n",
      "SLIMElasticNetRecommender: URM Detected 106 ( 0.5%) items with no interactions.\n"
     ]
    },
    {
     "name": "stderr",
     "output_type": "stream",
     "text": [
      "100%|█████████▉| 22216/22222 [00:54<00:00, 404.65it/s]\n"
     ]
    },
    {
     "name": "stdout",
     "output_type": "stream",
     "text": [
      "EvaluatorHoldout: Processed 10448 (100.0%) in 5.69 sec. Users per second: 1835\n",
      "SLIMElasticNetRecommender: URM Detected 227 ( 1.8%) users with no interactions.\n",
      "SLIMElasticNetRecommender: URM Detected 109 ( 0.5%) items with no interactions.\n"
     ]
    },
    {
     "name": "stderr",
     "output_type": "stream",
     "text": [
      "100%|█████████▉| 22216/22222 [00:53<00:00, 412.18it/s]\n"
     ]
    },
    {
     "name": "stdout",
     "output_type": "stream",
     "text": [
      "EvaluatorHoldout: Processed 10444 (100.0%) in 5.29 sec. Users per second: 1976\n",
      "SLIMElasticNetRecommender: URM Detected 243 ( 1.9%) users with no interactions.\n",
      "SLIMElasticNetRecommender: URM Detected 122 ( 0.5%) items with no interactions.\n"
     ]
    },
    {
     "name": "stderr",
     "output_type": "stream",
     "text": [
      "100%|█████████▉| 22216/22222 [00:54<00:00, 411.34it/s]\n"
     ]
    },
    {
     "name": "stdout",
     "output_type": "stream",
     "text": [
      "EvaluatorHoldout: Processed 10473 (100.0%) in 5.57 sec. Users per second: 1881\n",
      "SLIMElasticNetRecommender: URM Detected 239 ( 1.9%) users with no interactions.\n",
      "SLIMElasticNetRecommender: URM Detected 109 ( 0.5%) items with no interactions.\n"
     ]
    },
    {
     "name": "stderr",
     "output_type": "stream",
     "text": [
      "100%|█████████▉| 22216/22222 [00:54<00:00, 404.31it/s]\n"
     ]
    },
    {
     "name": "stdout",
     "output_type": "stream",
     "text": [
      "EvaluatorHoldout: Processed 10493 (100.0%) in 5.50 sec. Users per second: 1907\n",
      "SLIMElasticNetRecommender: URM Detected 201 ( 1.6%) users with no interactions.\n",
      "SLIMElasticNetRecommender: URM Detected 114 ( 0.5%) items with no interactions.\n"
     ]
    },
    {
     "name": "stderr",
     "output_type": "stream",
     "text": [
      "100%|█████████▉| 22216/22222 [00:54<00:00, 404.80it/s]\n"
     ]
    },
    {
     "name": "stdout",
     "output_type": "stream",
     "text": [
      "EvaluatorHoldout: Processed 10467 (100.0%) in 5.76 sec. Users per second: 1817\n",
      "SLIMElasticNetRecommender: URM Detected 220 ( 1.7%) users with no interactions.\n",
      "SLIMElasticNetRecommender: URM Detected 118 ( 0.5%) items with no interactions.\n"
     ]
    },
    {
     "name": "stderr",
     "output_type": "stream",
     "text": [
      "100%|█████████▉| 22216/22222 [00:59<00:00, 370.46it/s]\n"
     ]
    },
    {
     "name": "stdout",
     "output_type": "stream",
     "text": [
      "EvaluatorHoldout: Processed 10440 (100.0%) in 6.12 sec. Users per second: 1705\n"
     ]
    },
    {
     "name": "stderr",
     "output_type": "stream",
     "text": [
      "[I 2024-01-08 15:03:05,762] Trial 136 finished with value: 0.049315895118711185 and parameters: {'topK': 926, 'l1_ratio': 0.03125580795960398, 'alpha': 0.0014112171212485854}. Best is trial 74 with value: 0.0494009148817492.\n"
     ]
    },
    {
     "name": "stdout",
     "output_type": "stream",
     "text": [
      "SLIMElasticNetRecommender: URM Detected 229 ( 1.8%) users with no interactions.\n",
      "SLIMElasticNetRecommender: URM Detected 126 ( 0.6%) items with no interactions.\n"
     ]
    },
    {
     "name": "stderr",
     "output_type": "stream",
     "text": [
      "100%|█████████▉| 22216/22222 [01:01<00:00, 361.99it/s]\n"
     ]
    },
    {
     "name": "stdout",
     "output_type": "stream",
     "text": [
      "EvaluatorHoldout: Processed 10472 (100.0%) in 5.35 sec. Users per second: 1956\n",
      "SLIMElasticNetRecommender: URM Detected 217 ( 1.7%) users with no interactions.\n",
      "SLIMElasticNetRecommender: URM Detected 113 ( 0.5%) items with no interactions.\n"
     ]
    },
    {
     "name": "stderr",
     "output_type": "stream",
     "text": [
      "100%|█████████▉| 22216/22222 [00:59<00:00, 376.31it/s]\n"
     ]
    },
    {
     "name": "stdout",
     "output_type": "stream",
     "text": [
      "EvaluatorHoldout: Processed 10488 (100.0%) in 4.99 sec. Users per second: 2102\n",
      "SLIMElasticNetRecommender: URM Detected 223 ( 1.8%) users with no interactions.\n",
      "SLIMElasticNetRecommender: URM Detected 106 ( 0.5%) items with no interactions.\n"
     ]
    },
    {
     "name": "stderr",
     "output_type": "stream",
     "text": [
      "100%|█████████▉| 22216/22222 [00:54<00:00, 408.86it/s]\n"
     ]
    },
    {
     "name": "stdout",
     "output_type": "stream",
     "text": [
      "EvaluatorHoldout: Processed 10448 (100.0%) in 4.65 sec. Users per second: 2245\n",
      "SLIMElasticNetRecommender: URM Detected 227 ( 1.8%) users with no interactions.\n",
      "SLIMElasticNetRecommender: URM Detected 109 ( 0.5%) items with no interactions.\n"
     ]
    },
    {
     "name": "stderr",
     "output_type": "stream",
     "text": [
      "100%|█████████▉| 22216/22222 [01:08<00:00, 326.59it/s]\n"
     ]
    },
    {
     "name": "stdout",
     "output_type": "stream",
     "text": [
      "EvaluatorHoldout: Processed 10444 (100.0%) in 4.62 sec. Users per second: 2258\n",
      "SLIMElasticNetRecommender: URM Detected 243 ( 1.9%) users with no interactions.\n",
      "SLIMElasticNetRecommender: URM Detected 122 ( 0.5%) items with no interactions.\n"
     ]
    },
    {
     "name": "stderr",
     "output_type": "stream",
     "text": [
      "100%|█████████▉| 22216/22222 [01:19<00:00, 279.81it/s]\n"
     ]
    },
    {
     "name": "stdout",
     "output_type": "stream",
     "text": [
      "EvaluatorHoldout: Processed 10473 (100.0%) in 10.33 sec. Users per second: 1013\n",
      "SLIMElasticNetRecommender: URM Detected 239 ( 1.9%) users with no interactions.\n",
      "SLIMElasticNetRecommender: URM Detected 109 ( 0.5%) items with no interactions.\n"
     ]
    },
    {
     "name": "stderr",
     "output_type": "stream",
     "text": [
      "100%|█████████▉| 22216/22222 [01:35<00:00, 233.56it/s]\n"
     ]
    },
    {
     "name": "stdout",
     "output_type": "stream",
     "text": [
      "EvaluatorHoldout: Processed 10493 (100.0%) in 11.18 sec. Users per second: 939\n",
      "SLIMElasticNetRecommender: URM Detected 201 ( 1.6%) users with no interactions.\n",
      "SLIMElasticNetRecommender: URM Detected 114 ( 0.5%) items with no interactions.\n"
     ]
    },
    {
     "name": "stderr",
     "output_type": "stream",
     "text": [
      "100%|█████████▉| 22216/22222 [01:32<00:00, 239.42it/s]\n"
     ]
    },
    {
     "name": "stdout",
     "output_type": "stream",
     "text": [
      "EvaluatorHoldout: Processed 10467 (100.0%) in 9.83 sec. Users per second: 1065\n",
      "SLIMElasticNetRecommender: URM Detected 220 ( 1.7%) users with no interactions.\n",
      "SLIMElasticNetRecommender: URM Detected 118 ( 0.5%) items with no interactions.\n"
     ]
    },
    {
     "name": "stderr",
     "output_type": "stream",
     "text": [
      "100%|█████████▉| 22216/22222 [01:32<00:00, 239.55it/s]\n"
     ]
    },
    {
     "name": "stdout",
     "output_type": "stream",
     "text": [
      "EvaluatorHoldout: Processed 10440 (100.0%) in 11.00 sec. Users per second: 949\n"
     ]
    },
    {
     "name": "stderr",
     "output_type": "stream",
     "text": [
      "[I 2024-01-08 15:14:14,527] Trial 137 finished with value: 0.048846005083306186 and parameters: {'topK': 258, 'l1_ratio': 0.005406216886460602, 'alpha': 0.002372682907449343}. Best is trial 74 with value: 0.0494009148817492.\n"
     ]
    },
    {
     "name": "stdout",
     "output_type": "stream",
     "text": [
      "SLIMElasticNetRecommender: URM Detected 229 ( 1.8%) users with no interactions.\n",
      "SLIMElasticNetRecommender: URM Detected 126 ( 0.6%) items with no interactions.\n"
     ]
    },
    {
     "name": "stderr",
     "output_type": "stream",
     "text": [
      "100%|█████████▉| 22216/22222 [01:37<00:00, 226.88it/s]\n"
     ]
    },
    {
     "name": "stdout",
     "output_type": "stream",
     "text": [
      "EvaluatorHoldout: Processed 10472 (100.0%) in 10.77 sec. Users per second: 973\n",
      "SLIMElasticNetRecommender: URM Detected 217 ( 1.7%) users with no interactions.\n",
      "SLIMElasticNetRecommender: URM Detected 113 ( 0.5%) items with no interactions.\n"
     ]
    },
    {
     "name": "stderr",
     "output_type": "stream",
     "text": [
      "100%|█████████▉| 22216/22222 [01:34<00:00, 234.31it/s]\n"
     ]
    },
    {
     "name": "stdout",
     "output_type": "stream",
     "text": [
      "EvaluatorHoldout: Processed 10488 (100.0%) in 12.92 sec. Users per second: 812\n",
      "SLIMElasticNetRecommender: URM Detected 223 ( 1.8%) users with no interactions.\n",
      "SLIMElasticNetRecommender: URM Detected 106 ( 0.5%) items with no interactions.\n"
     ]
    },
    {
     "name": "stderr",
     "output_type": "stream",
     "text": [
      "100%|█████████▉| 22216/22222 [01:35<00:00, 232.00it/s]\n"
     ]
    },
    {
     "name": "stdout",
     "output_type": "stream",
     "text": [
      "EvaluatorHoldout: Processed 10448 (100.0%) in 10.45 sec. Users per second: 1000\n",
      "SLIMElasticNetRecommender: URM Detected 227 ( 1.8%) users with no interactions.\n",
      "SLIMElasticNetRecommender: URM Detected 109 ( 0.5%) items with no interactions.\n"
     ]
    },
    {
     "name": "stderr",
     "output_type": "stream",
     "text": [
      "100%|█████████▉| 22216/22222 [01:36<00:00, 229.66it/s]\n"
     ]
    },
    {
     "name": "stdout",
     "output_type": "stream",
     "text": [
      "EvaluatorHoldout: Processed 10444 (100.0%) in 10.90 sec. Users per second: 958\n",
      "SLIMElasticNetRecommender: URM Detected 243 ( 1.9%) users with no interactions.\n",
      "SLIMElasticNetRecommender: URM Detected 122 ( 0.5%) items with no interactions.\n"
     ]
    },
    {
     "name": "stderr",
     "output_type": "stream",
     "text": [
      "100%|█████████▉| 22216/22222 [01:34<00:00, 234.20it/s]\n"
     ]
    },
    {
     "name": "stdout",
     "output_type": "stream",
     "text": [
      "EvaluatorHoldout: Processed 10473 (100.0%) in 11.16 sec. Users per second: 938\n",
      "SLIMElasticNetRecommender: URM Detected 239 ( 1.9%) users with no interactions.\n",
      "SLIMElasticNetRecommender: URM Detected 109 ( 0.5%) items with no interactions.\n"
     ]
    },
    {
     "name": "stderr",
     "output_type": "stream",
     "text": [
      "100%|█████████▉| 22216/22222 [01:33<00:00, 238.64it/s]\n"
     ]
    },
    {
     "name": "stdout",
     "output_type": "stream",
     "text": [
      "EvaluatorHoldout: Processed 10493 (100.0%) in 12.32 sec. Users per second: 852\n",
      "SLIMElasticNetRecommender: URM Detected 201 ( 1.6%) users with no interactions.\n",
      "SLIMElasticNetRecommender: URM Detected 114 ( 0.5%) items with no interactions.\n"
     ]
    },
    {
     "name": "stderr",
     "output_type": "stream",
     "text": [
      "100%|█████████▉| 22216/22222 [01:33<00:00, 238.61it/s]\n"
     ]
    },
    {
     "name": "stdout",
     "output_type": "stream",
     "text": [
      "EvaluatorHoldout: Processed 10467 (100.0%) in 10.85 sec. Users per second: 964\n",
      "SLIMElasticNetRecommender: URM Detected 220 ( 1.7%) users with no interactions.\n",
      "SLIMElasticNetRecommender: URM Detected 118 ( 0.5%) items with no interactions.\n"
     ]
    },
    {
     "name": "stderr",
     "output_type": "stream",
     "text": [
      "100%|█████████▉| 22216/22222 [01:32<00:00, 240.57it/s]\n"
     ]
    },
    {
     "name": "stdout",
     "output_type": "stream",
     "text": [
      "EvaluatorHoldout: Processed 10440 (100.0%) in 11.37 sec. Users per second: 918\n"
     ]
    },
    {
     "name": "stderr",
     "output_type": "stream",
     "text": [
      "[I 2024-01-08 15:28:32,307] Trial 138 finished with value: 0.04931400823288142 and parameters: {'topK': 686, 'l1_ratio': 0.021856262695715802, 'alpha': 0.002012784894742384}. Best is trial 74 with value: 0.0494009148817492.\n"
     ]
    },
    {
     "name": "stdout",
     "output_type": "stream",
     "text": [
      "SLIMElasticNetRecommender: URM Detected 229 ( 1.8%) users with no interactions.\n",
      "SLIMElasticNetRecommender: URM Detected 126 ( 0.6%) items with no interactions.\n"
     ]
    },
    {
     "name": "stderr",
     "output_type": "stream",
     "text": [
      "100%|█████████▉| 22216/22222 [01:21<00:00, 273.78it/s]\n"
     ]
    },
    {
     "name": "stdout",
     "output_type": "stream",
     "text": [
      "EvaluatorHoldout: Processed 10472 (100.0%) in 12.95 sec. Users per second: 809\n",
      "SLIMElasticNetRecommender: URM Detected 217 ( 1.7%) users with no interactions.\n",
      "SLIMElasticNetRecommender: URM Detected 113 ( 0.5%) items with no interactions.\n"
     ]
    },
    {
     "name": "stderr",
     "output_type": "stream",
     "text": [
      "100%|█████████▉| 22216/22222 [01:23<00:00, 265.01it/s]\n"
     ]
    },
    {
     "name": "stdout",
     "output_type": "stream",
     "text": [
      "EvaluatorHoldout: Processed 10488 (100.0%) in 10.47 sec. Users per second: 1001\n",
      "SLIMElasticNetRecommender: URM Detected 223 ( 1.8%) users with no interactions.\n",
      "SLIMElasticNetRecommender: URM Detected 106 ( 0.5%) items with no interactions.\n"
     ]
    },
    {
     "name": "stderr",
     "output_type": "stream",
     "text": [
      "100%|█████████▉| 22216/22222 [01:24<00:00, 263.85it/s]\n"
     ]
    },
    {
     "name": "stdout",
     "output_type": "stream",
     "text": [
      "EvaluatorHoldout: Processed 10448 (100.0%) in 9.83 sec. Users per second: 1063\n",
      "SLIMElasticNetRecommender: URM Detected 227 ( 1.8%) users with no interactions.\n",
      "SLIMElasticNetRecommender: URM Detected 109 ( 0.5%) items with no interactions.\n"
     ]
    },
    {
     "name": "stderr",
     "output_type": "stream",
     "text": [
      "100%|█████████▉| 22216/22222 [01:22<00:00, 270.78it/s]\n"
     ]
    },
    {
     "name": "stdout",
     "output_type": "stream",
     "text": [
      "EvaluatorHoldout: Processed 10444 (100.0%) in 11.78 sec. Users per second: 886\n",
      "SLIMElasticNetRecommender: URM Detected 243 ( 1.9%) users with no interactions.\n",
      "SLIMElasticNetRecommender: URM Detected 122 ( 0.5%) items with no interactions.\n"
     ]
    },
    {
     "name": "stderr",
     "output_type": "stream",
     "text": [
      "100%|█████████▉| 22216/22222 [01:23<00:00, 266.79it/s]\n"
     ]
    },
    {
     "name": "stdout",
     "output_type": "stream",
     "text": [
      "EvaluatorHoldout: Processed 10473 (100.0%) in 9.69 sec. Users per second: 1081\n",
      "SLIMElasticNetRecommender: URM Detected 239 ( 1.9%) users with no interactions.\n",
      "SLIMElasticNetRecommender: URM Detected 109 ( 0.5%) items with no interactions.\n"
     ]
    },
    {
     "name": "stderr",
     "output_type": "stream",
     "text": [
      "100%|█████████▉| 22216/22222 [01:25<00:00, 259.63it/s]\n"
     ]
    },
    {
     "name": "stdout",
     "output_type": "stream",
     "text": [
      "EvaluatorHoldout: Processed 10493 (100.0%) in 12.96 sec. Users per second: 810\n",
      "SLIMElasticNetRecommender: URM Detected 201 ( 1.6%) users with no interactions.\n",
      "SLIMElasticNetRecommender: URM Detected 114 ( 0.5%) items with no interactions.\n"
     ]
    },
    {
     "name": "stderr",
     "output_type": "stream",
     "text": [
      "100%|█████████▉| 22216/22222 [01:27<00:00, 254.77it/s]\n"
     ]
    },
    {
     "name": "stdout",
     "output_type": "stream",
     "text": [
      "EvaluatorHoldout: Processed 10467 (100.0%) in 11.58 sec. Users per second: 904\n",
      "SLIMElasticNetRecommender: URM Detected 220 ( 1.7%) users with no interactions.\n",
      "SLIMElasticNetRecommender: URM Detected 118 ( 0.5%) items with no interactions.\n"
     ]
    },
    {
     "name": "stderr",
     "output_type": "stream",
     "text": [
      " 63%|██████▎   | 14080/22222 [00:54<00:25, 322.67it/s][W 2024-01-08 15:40:38,458] Trial 139 failed with parameters: {'topK': 518, 'l1_ratio': 0.044091368363402994, 'alpha': 0.001569432339470928} because of the following error: KeyboardInterrupt().\n",
      "Traceback (most recent call last):\n",
      "  File \"/home/japo/miniconda3/envs/RecSysFramework/lib/python3.8/multiprocessing/pool.py\", line 851, in next\n",
      "    item = self._items.popleft()\n",
      "IndexError: pop from an empty deque\n",
      "\n",
      "During handling of the above exception, another exception occurred:\n",
      "\n",
      "Traceback (most recent call last):\n",
      "  File \"/home/japo/miniconda3/envs/RecSysFramework/lib/python3.8/site-packages/optuna/study/_optimize.py\", line 200, in _run_trial\n",
      "    value_or_values = func(trial)\n",
      "  File \"/tmp/ipykernel_659/754451692.py\", line 12, in objective\n",
      "    recommender.fit(workers=12, **params)\n",
      "  File \"/home/japo/RecSys-Challenge/Recommenders/SLIM/SLIMElasticNetRecommender.py\", line 240, in fit\n",
      "    for values_, rows_, cols_ in pool.imap_unordered(_pfit, itemchunks, pool_chunksize):\n",
      "  File \"/home/japo/miniconda3/envs/RecSysFramework/lib/python3.8/multiprocessing/pool.py\", line 448, in <genexpr>\n",
      "    return (item for chunk in result for item in chunk)\n",
      "  File \"/home/japo/miniconda3/envs/RecSysFramework/lib/python3.8/multiprocessing/pool.py\", line 856, in next\n",
      "    self._cond.wait(timeout)\n",
      "  File \"/home/japo/miniconda3/envs/RecSysFramework/lib/python3.8/threading.py\", line 302, in wait\n",
      "    waiter.acquire()\n",
      "KeyboardInterrupt\n",
      "[W 2024-01-08 15:40:38,464] Trial 139 failed with value None.\n"
     ]
    },
    {
     "ename": "KeyboardInterrupt",
     "evalue": "",
     "output_type": "error",
     "traceback": [
      "\u001b[0;31m---------------------------------------------------------------------------\u001b[0m",
      "\u001b[0;31mIndexError\u001b[0m                                Traceback (most recent call last)",
      "File \u001b[0;32m~/miniconda3/envs/RecSysFramework/lib/python3.8/multiprocessing/pool.py:851\u001b[0m, in \u001b[0;36mIMapIterator.next\u001b[0;34m(self, timeout)\u001b[0m\n\u001b[1;32m    850\u001b[0m \u001b[38;5;28;01mtry\u001b[39;00m:\n\u001b[0;32m--> 851\u001b[0m     item \u001b[38;5;241m=\u001b[39m \u001b[38;5;28;43mself\u001b[39;49m\u001b[38;5;241;43m.\u001b[39;49m\u001b[43m_items\u001b[49m\u001b[38;5;241;43m.\u001b[39;49m\u001b[43mpopleft\u001b[49m\u001b[43m(\u001b[49m\u001b[43m)\u001b[49m\n\u001b[1;32m    852\u001b[0m \u001b[38;5;28;01mexcept\u001b[39;00m \u001b[38;5;167;01mIndexError\u001b[39;00m:\n",
      "\u001b[0;31mIndexError\u001b[0m: pop from an empty deque",
      "\nDuring handling of the above exception, another exception occurred:\n",
      "\u001b[0;31mKeyboardInterrupt\u001b[0m                         Traceback (most recent call last)",
      "Cell \u001b[0;32mIn[17], line 2\u001b[0m\n\u001b[1;32m      1\u001b[0m n_trials \u001b[38;5;241m=\u001b[39m \u001b[38;5;241m200\u001b[39m\n\u001b[0;32m----> 2\u001b[0m \u001b[43mstudy\u001b[49m\u001b[38;5;241;43m.\u001b[39;49m\u001b[43moptimize\u001b[49m\u001b[43m(\u001b[49m\u001b[43mobjective\u001b[49m\u001b[43m,\u001b[49m\u001b[43m \u001b[49m\u001b[43mn_trials\u001b[49m\u001b[38;5;241;43m=\u001b[39;49m\u001b[38;5;28;43mmax\u001b[39;49m\u001b[43m(\u001b[49m\u001b[38;5;241;43m0\u001b[39;49m\u001b[43m,\u001b[49m\u001b[43m \u001b[49m\u001b[43mn_trials\u001b[49m\u001b[38;5;241;43m-\u001b[39;49m\u001b[38;5;28;43mlen\u001b[39;49m\u001b[43m(\u001b[49m\u001b[43mstudy\u001b[49m\u001b[38;5;241;43m.\u001b[39;49m\u001b[43mtrials\u001b[49m\u001b[43m)\u001b[49m\u001b[43m)\u001b[49m\u001b[43m)\u001b[49m\n",
      "File \u001b[0;32m~/miniconda3/envs/RecSysFramework/lib/python3.8/site-packages/optuna/study/study.py:451\u001b[0m, in \u001b[0;36mStudy.optimize\u001b[0;34m(self, func, n_trials, timeout, n_jobs, catch, callbacks, gc_after_trial, show_progress_bar)\u001b[0m\n\u001b[1;32m    348\u001b[0m \u001b[38;5;28;01mdef\u001b[39;00m \u001b[38;5;21moptimize\u001b[39m(\n\u001b[1;32m    349\u001b[0m     \u001b[38;5;28mself\u001b[39m,\n\u001b[1;32m    350\u001b[0m     func: ObjectiveFuncType,\n\u001b[0;32m   (...)\u001b[0m\n\u001b[1;32m    357\u001b[0m     show_progress_bar: \u001b[38;5;28mbool\u001b[39m \u001b[38;5;241m=\u001b[39m \u001b[38;5;28;01mFalse\u001b[39;00m,\n\u001b[1;32m    358\u001b[0m ) \u001b[38;5;241m-\u001b[39m\u001b[38;5;241m>\u001b[39m \u001b[38;5;28;01mNone\u001b[39;00m:\n\u001b[1;32m    359\u001b[0m \u001b[38;5;250m    \u001b[39m\u001b[38;5;124;03m\"\"\"Optimize an objective function.\u001b[39;00m\n\u001b[1;32m    360\u001b[0m \n\u001b[1;32m    361\u001b[0m \u001b[38;5;124;03m    Optimization is done by choosing a suitable set of hyperparameter values from a given\u001b[39;00m\n\u001b[0;32m   (...)\u001b[0m\n\u001b[1;32m    449\u001b[0m \u001b[38;5;124;03m            If nested invocation of this method occurs.\u001b[39;00m\n\u001b[1;32m    450\u001b[0m \u001b[38;5;124;03m    \"\"\"\u001b[39;00m\n\u001b[0;32m--> 451\u001b[0m     \u001b[43m_optimize\u001b[49m\u001b[43m(\u001b[49m\n\u001b[1;32m    452\u001b[0m \u001b[43m        \u001b[49m\u001b[43mstudy\u001b[49m\u001b[38;5;241;43m=\u001b[39;49m\u001b[38;5;28;43mself\u001b[39;49m\u001b[43m,\u001b[49m\n\u001b[1;32m    453\u001b[0m \u001b[43m        \u001b[49m\u001b[43mfunc\u001b[49m\u001b[38;5;241;43m=\u001b[39;49m\u001b[43mfunc\u001b[49m\u001b[43m,\u001b[49m\n\u001b[1;32m    454\u001b[0m \u001b[43m        \u001b[49m\u001b[43mn_trials\u001b[49m\u001b[38;5;241;43m=\u001b[39;49m\u001b[43mn_trials\u001b[49m\u001b[43m,\u001b[49m\n\u001b[1;32m    455\u001b[0m \u001b[43m        \u001b[49m\u001b[43mtimeout\u001b[49m\u001b[38;5;241;43m=\u001b[39;49m\u001b[43mtimeout\u001b[49m\u001b[43m,\u001b[49m\n\u001b[1;32m    456\u001b[0m \u001b[43m        \u001b[49m\u001b[43mn_jobs\u001b[49m\u001b[38;5;241;43m=\u001b[39;49m\u001b[43mn_jobs\u001b[49m\u001b[43m,\u001b[49m\n\u001b[1;32m    457\u001b[0m \u001b[43m        \u001b[49m\u001b[43mcatch\u001b[49m\u001b[38;5;241;43m=\u001b[39;49m\u001b[38;5;28;43mtuple\u001b[39;49m\u001b[43m(\u001b[49m\u001b[43mcatch\u001b[49m\u001b[43m)\u001b[49m\u001b[43m \u001b[49m\u001b[38;5;28;43;01mif\u001b[39;49;00m\u001b[43m \u001b[49m\u001b[38;5;28;43misinstance\u001b[39;49m\u001b[43m(\u001b[49m\u001b[43mcatch\u001b[49m\u001b[43m,\u001b[49m\u001b[43m \u001b[49m\u001b[43mIterable\u001b[49m\u001b[43m)\u001b[49m\u001b[43m \u001b[49m\u001b[38;5;28;43;01melse\u001b[39;49;00m\u001b[43m \u001b[49m\u001b[43m(\u001b[49m\u001b[43mcatch\u001b[49m\u001b[43m,\u001b[49m\u001b[43m)\u001b[49m\u001b[43m,\u001b[49m\n\u001b[1;32m    458\u001b[0m \u001b[43m        \u001b[49m\u001b[43mcallbacks\u001b[49m\u001b[38;5;241;43m=\u001b[39;49m\u001b[43mcallbacks\u001b[49m\u001b[43m,\u001b[49m\n\u001b[1;32m    459\u001b[0m \u001b[43m        \u001b[49m\u001b[43mgc_after_trial\u001b[49m\u001b[38;5;241;43m=\u001b[39;49m\u001b[43mgc_after_trial\u001b[49m\u001b[43m,\u001b[49m\n\u001b[1;32m    460\u001b[0m \u001b[43m        \u001b[49m\u001b[43mshow_progress_bar\u001b[49m\u001b[38;5;241;43m=\u001b[39;49m\u001b[43mshow_progress_bar\u001b[49m\u001b[43m,\u001b[49m\n\u001b[1;32m    461\u001b[0m \u001b[43m    \u001b[49m\u001b[43m)\u001b[49m\n",
      "File \u001b[0;32m~/miniconda3/envs/RecSysFramework/lib/python3.8/site-packages/optuna/study/_optimize.py:66\u001b[0m, in \u001b[0;36m_optimize\u001b[0;34m(study, func, n_trials, timeout, n_jobs, catch, callbacks, gc_after_trial, show_progress_bar)\u001b[0m\n\u001b[1;32m     64\u001b[0m \u001b[38;5;28;01mtry\u001b[39;00m:\n\u001b[1;32m     65\u001b[0m     \u001b[38;5;28;01mif\u001b[39;00m n_jobs \u001b[38;5;241m==\u001b[39m \u001b[38;5;241m1\u001b[39m:\n\u001b[0;32m---> 66\u001b[0m         \u001b[43m_optimize_sequential\u001b[49m\u001b[43m(\u001b[49m\n\u001b[1;32m     67\u001b[0m \u001b[43m            \u001b[49m\u001b[43mstudy\u001b[49m\u001b[43m,\u001b[49m\n\u001b[1;32m     68\u001b[0m \u001b[43m            \u001b[49m\u001b[43mfunc\u001b[49m\u001b[43m,\u001b[49m\n\u001b[1;32m     69\u001b[0m \u001b[43m            \u001b[49m\u001b[43mn_trials\u001b[49m\u001b[43m,\u001b[49m\n\u001b[1;32m     70\u001b[0m \u001b[43m            \u001b[49m\u001b[43mtimeout\u001b[49m\u001b[43m,\u001b[49m\n\u001b[1;32m     71\u001b[0m \u001b[43m            \u001b[49m\u001b[43mcatch\u001b[49m\u001b[43m,\u001b[49m\n\u001b[1;32m     72\u001b[0m \u001b[43m            \u001b[49m\u001b[43mcallbacks\u001b[49m\u001b[43m,\u001b[49m\n\u001b[1;32m     73\u001b[0m \u001b[43m            \u001b[49m\u001b[43mgc_after_trial\u001b[49m\u001b[43m,\u001b[49m\n\u001b[1;32m     74\u001b[0m \u001b[43m            \u001b[49m\u001b[43mreseed_sampler_rng\u001b[49m\u001b[38;5;241;43m=\u001b[39;49m\u001b[38;5;28;43;01mFalse\u001b[39;49;00m\u001b[43m,\u001b[49m\n\u001b[1;32m     75\u001b[0m \u001b[43m            \u001b[49m\u001b[43mtime_start\u001b[49m\u001b[38;5;241;43m=\u001b[39;49m\u001b[38;5;28;43;01mNone\u001b[39;49;00m\u001b[43m,\u001b[49m\n\u001b[1;32m     76\u001b[0m \u001b[43m            \u001b[49m\u001b[43mprogress_bar\u001b[49m\u001b[38;5;241;43m=\u001b[39;49m\u001b[43mprogress_bar\u001b[49m\u001b[43m,\u001b[49m\n\u001b[1;32m     77\u001b[0m \u001b[43m        \u001b[49m\u001b[43m)\u001b[49m\n\u001b[1;32m     78\u001b[0m     \u001b[38;5;28;01melse\u001b[39;00m:\n\u001b[1;32m     79\u001b[0m         \u001b[38;5;28;01mif\u001b[39;00m n_jobs \u001b[38;5;241m==\u001b[39m \u001b[38;5;241m-\u001b[39m\u001b[38;5;241m1\u001b[39m:\n",
      "File \u001b[0;32m~/miniconda3/envs/RecSysFramework/lib/python3.8/site-packages/optuna/study/_optimize.py:163\u001b[0m, in \u001b[0;36m_optimize_sequential\u001b[0;34m(study, func, n_trials, timeout, catch, callbacks, gc_after_trial, reseed_sampler_rng, time_start, progress_bar)\u001b[0m\n\u001b[1;32m    160\u001b[0m         \u001b[38;5;28;01mbreak\u001b[39;00m\n\u001b[1;32m    162\u001b[0m \u001b[38;5;28;01mtry\u001b[39;00m:\n\u001b[0;32m--> 163\u001b[0m     frozen_trial \u001b[38;5;241m=\u001b[39m \u001b[43m_run_trial\u001b[49m\u001b[43m(\u001b[49m\u001b[43mstudy\u001b[49m\u001b[43m,\u001b[49m\u001b[43m \u001b[49m\u001b[43mfunc\u001b[49m\u001b[43m,\u001b[49m\u001b[43m \u001b[49m\u001b[43mcatch\u001b[49m\u001b[43m)\u001b[49m\n\u001b[1;32m    164\u001b[0m \u001b[38;5;28;01mfinally\u001b[39;00m:\n\u001b[1;32m    165\u001b[0m     \u001b[38;5;66;03m# The following line mitigates memory problems that can be occurred in some\u001b[39;00m\n\u001b[1;32m    166\u001b[0m     \u001b[38;5;66;03m# environments (e.g., services that use computing containers such as GitHub Actions).\u001b[39;00m\n\u001b[1;32m    167\u001b[0m     \u001b[38;5;66;03m# Please refer to the following PR for further details:\u001b[39;00m\n\u001b[1;32m    168\u001b[0m     \u001b[38;5;66;03m# https://github.com/optuna/optuna/pull/325.\u001b[39;00m\n\u001b[1;32m    169\u001b[0m     \u001b[38;5;28;01mif\u001b[39;00m gc_after_trial:\n",
      "File \u001b[0;32m~/miniconda3/envs/RecSysFramework/lib/python3.8/site-packages/optuna/study/_optimize.py:251\u001b[0m, in \u001b[0;36m_run_trial\u001b[0;34m(study, func, catch)\u001b[0m\n\u001b[1;32m    244\u001b[0m         \u001b[38;5;28;01massert\u001b[39;00m \u001b[38;5;28;01mFalse\u001b[39;00m, \u001b[38;5;124m\"\u001b[39m\u001b[38;5;124mShould not reach.\u001b[39m\u001b[38;5;124m\"\u001b[39m\n\u001b[1;32m    246\u001b[0m \u001b[38;5;28;01mif\u001b[39;00m (\n\u001b[1;32m    247\u001b[0m     frozen_trial\u001b[38;5;241m.\u001b[39mstate \u001b[38;5;241m==\u001b[39m TrialState\u001b[38;5;241m.\u001b[39mFAIL\n\u001b[1;32m    248\u001b[0m     \u001b[38;5;129;01mand\u001b[39;00m func_err \u001b[38;5;129;01mis\u001b[39;00m \u001b[38;5;129;01mnot\u001b[39;00m \u001b[38;5;28;01mNone\u001b[39;00m\n\u001b[1;32m    249\u001b[0m     \u001b[38;5;129;01mand\u001b[39;00m \u001b[38;5;129;01mnot\u001b[39;00m \u001b[38;5;28misinstance\u001b[39m(func_err, catch)\n\u001b[1;32m    250\u001b[0m ):\n\u001b[0;32m--> 251\u001b[0m     \u001b[38;5;28;01mraise\u001b[39;00m func_err\n\u001b[1;32m    252\u001b[0m \u001b[38;5;28;01mreturn\u001b[39;00m frozen_trial\n",
      "File \u001b[0;32m~/miniconda3/envs/RecSysFramework/lib/python3.8/site-packages/optuna/study/_optimize.py:200\u001b[0m, in \u001b[0;36m_run_trial\u001b[0;34m(study, func, catch)\u001b[0m\n\u001b[1;32m    198\u001b[0m \u001b[38;5;28;01mwith\u001b[39;00m get_heartbeat_thread(trial\u001b[38;5;241m.\u001b[39m_trial_id, study\u001b[38;5;241m.\u001b[39m_storage):\n\u001b[1;32m    199\u001b[0m     \u001b[38;5;28;01mtry\u001b[39;00m:\n\u001b[0;32m--> 200\u001b[0m         value_or_values \u001b[38;5;241m=\u001b[39m \u001b[43mfunc\u001b[49m\u001b[43m(\u001b[49m\u001b[43mtrial\u001b[49m\u001b[43m)\u001b[49m\n\u001b[1;32m    201\u001b[0m     \u001b[38;5;28;01mexcept\u001b[39;00m exceptions\u001b[38;5;241m.\u001b[39mTrialPruned \u001b[38;5;28;01mas\u001b[39;00m e:\n\u001b[1;32m    202\u001b[0m         \u001b[38;5;66;03m# TODO(mamu): Handle multi-objective cases.\u001b[39;00m\n\u001b[1;32m    203\u001b[0m         state \u001b[38;5;241m=\u001b[39m TrialState\u001b[38;5;241m.\u001b[39mPRUNED\n",
      "Cell \u001b[0;32mIn[13], line 12\u001b[0m, in \u001b[0;36mobjective\u001b[0;34m(trial)\u001b[0m\n\u001b[1;32m     10\u001b[0m \u001b[38;5;28;01mfor\u001b[39;00m i, _ \u001b[38;5;129;01min\u001b[39;00m \u001b[38;5;28menumerate\u001b[39m(seeds):\n\u001b[1;32m     11\u001b[0m     recommender \u001b[38;5;241m=\u001b[39m model(urm_train_validation[i])\n\u001b[0;32m---> 12\u001b[0m     \u001b[43mrecommender\u001b[49m\u001b[38;5;241;43m.\u001b[39;49m\u001b[43mfit\u001b[49m\u001b[43m(\u001b[49m\u001b[43mworkers\u001b[49m\u001b[38;5;241;43m=\u001b[39;49m\u001b[38;5;241;43m12\u001b[39;49m\u001b[43m,\u001b[49m\u001b[43m \u001b[49m\u001b[38;5;241;43m*\u001b[39;49m\u001b[38;5;241;43m*\u001b[39;49m\u001b[43mparams\u001b[49m\u001b[43m)\u001b[49m\n\u001b[1;32m     14\u001b[0m     result, _ \u001b[38;5;241m=\u001b[39m evaluator_test[i]\u001b[38;5;241m.\u001b[39mevaluateRecommender(recommender)\n\u001b[1;32m     15\u001b[0m     MAP_result \u001b[38;5;241m=\u001b[39m result[\u001b[38;5;124m\"\u001b[39m\u001b[38;5;124mMAP\u001b[39m\u001b[38;5;124m\"\u001b[39m]\u001b[38;5;241m.\u001b[39mitem()\n",
      "File \u001b[0;32m~/RecSys-Challenge/Recommenders/SLIM/SLIMElasticNetRecommender.py:240\u001b[0m, in \u001b[0;36mMultiThreadSLIM_SLIMElasticNetRecommender.fit\u001b[0;34m(self, alpha, l1_ratio, positive_only, topK, verbose, workers)\u001b[0m\n\u001b[1;32m    238\u001b[0m \u001b[38;5;66;03m# res contains a vector of (values, rows, cols) tuples\u001b[39;00m\n\u001b[1;32m    239\u001b[0m values, rows, cols \u001b[38;5;241m=\u001b[39m [], [], []\n\u001b[0;32m--> 240\u001b[0m \u001b[38;5;28;01mfor\u001b[39;00m values_, rows_, cols_ \u001b[38;5;129;01min\u001b[39;00m pool\u001b[38;5;241m.\u001b[39mimap_unordered(_pfit, itemchunks, pool_chunksize):\n\u001b[1;32m    241\u001b[0m     values\u001b[38;5;241m.\u001b[39mextend(values_)\n\u001b[1;32m    242\u001b[0m     rows\u001b[38;5;241m.\u001b[39mextend(rows_)\n",
      "File \u001b[0;32m~/miniconda3/envs/RecSysFramework/lib/python3.8/multiprocessing/pool.py:448\u001b[0m, in \u001b[0;36m<genexpr>\u001b[0;34m(.0)\u001b[0m\n\u001b[1;32m    440\u001b[0m result \u001b[38;5;241m=\u001b[39m IMapUnorderedIterator(\u001b[38;5;28mself\u001b[39m)\n\u001b[1;32m    441\u001b[0m \u001b[38;5;28mself\u001b[39m\u001b[38;5;241m.\u001b[39m_taskqueue\u001b[38;5;241m.\u001b[39mput(\n\u001b[1;32m    442\u001b[0m     (\n\u001b[1;32m    443\u001b[0m         \u001b[38;5;28mself\u001b[39m\u001b[38;5;241m.\u001b[39m_guarded_task_generation(result\u001b[38;5;241m.\u001b[39m_job,\n\u001b[0;32m   (...)\u001b[0m\n\u001b[1;32m    446\u001b[0m         result\u001b[38;5;241m.\u001b[39m_set_length\n\u001b[1;32m    447\u001b[0m     ))\n\u001b[0;32m--> 448\u001b[0m \u001b[38;5;28;01mreturn\u001b[39;00m (item \u001b[38;5;28;01mfor\u001b[39;00m chunk \u001b[38;5;129;01min\u001b[39;00m result \u001b[38;5;28;01mfor\u001b[39;00m item \u001b[38;5;129;01min\u001b[39;00m chunk)\n",
      "File \u001b[0;32m~/miniconda3/envs/RecSysFramework/lib/python3.8/multiprocessing/pool.py:856\u001b[0m, in \u001b[0;36mIMapIterator.next\u001b[0;34m(self, timeout)\u001b[0m\n\u001b[1;32m    854\u001b[0m     \u001b[38;5;28mself\u001b[39m\u001b[38;5;241m.\u001b[39m_pool \u001b[38;5;241m=\u001b[39m \u001b[38;5;28;01mNone\u001b[39;00m\n\u001b[1;32m    855\u001b[0m     \u001b[38;5;28;01mraise\u001b[39;00m \u001b[38;5;167;01mStopIteration\u001b[39;00m \u001b[38;5;28;01mfrom\u001b[39;00m \u001b[38;5;28;01mNone\u001b[39;00m\n\u001b[0;32m--> 856\u001b[0m \u001b[38;5;28;43mself\u001b[39;49m\u001b[38;5;241;43m.\u001b[39;49m\u001b[43m_cond\u001b[49m\u001b[38;5;241;43m.\u001b[39;49m\u001b[43mwait\u001b[49m\u001b[43m(\u001b[49m\u001b[43mtimeout\u001b[49m\u001b[43m)\u001b[49m\n\u001b[1;32m    857\u001b[0m \u001b[38;5;28;01mtry\u001b[39;00m:\n\u001b[1;32m    858\u001b[0m     item \u001b[38;5;241m=\u001b[39m \u001b[38;5;28mself\u001b[39m\u001b[38;5;241m.\u001b[39m_items\u001b[38;5;241m.\u001b[39mpopleft()\n",
      "File \u001b[0;32m~/miniconda3/envs/RecSysFramework/lib/python3.8/threading.py:302\u001b[0m, in \u001b[0;36mCondition.wait\u001b[0;34m(self, timeout)\u001b[0m\n\u001b[1;32m    300\u001b[0m \u001b[38;5;28;01mtry\u001b[39;00m:    \u001b[38;5;66;03m# restore state no matter what (e.g., KeyboardInterrupt)\u001b[39;00m\n\u001b[1;32m    301\u001b[0m     \u001b[38;5;28;01mif\u001b[39;00m timeout \u001b[38;5;129;01mis\u001b[39;00m \u001b[38;5;28;01mNone\u001b[39;00m:\n\u001b[0;32m--> 302\u001b[0m         \u001b[43mwaiter\u001b[49m\u001b[38;5;241;43m.\u001b[39;49m\u001b[43macquire\u001b[49m\u001b[43m(\u001b[49m\u001b[43m)\u001b[49m\n\u001b[1;32m    303\u001b[0m         gotit \u001b[38;5;241m=\u001b[39m \u001b[38;5;28;01mTrue\u001b[39;00m\n\u001b[1;32m    304\u001b[0m     \u001b[38;5;28;01melse\u001b[39;00m:\n",
      "\u001b[0;31mKeyboardInterrupt\u001b[0m: "
     ]
    }
   ],
   "source": [
    "n_trials = 200\n",
    "study.optimize(objective, n_trials=max(0, n_trials-len(study.trials)))"
   ]
  }
 ],
 "metadata": {
  "kernelspec": {
   "display_name": "RecSysFramework",
   "language": "python",
   "name": "python3"
  },
  "language_info": {
   "codemirror_mode": {
    "name": "ipython",
    "version": 3
   },
   "file_extension": ".py",
   "mimetype": "text/x-python",
   "name": "python",
   "nbconvert_exporter": "python",
   "pygments_lexer": "ipython3",
   "version": "3.8.18"
  }
 },
 "nbformat": 4,
 "nbformat_minor": 2
}
