{
 "cells": [
  {
   "cell_type": "code",
   "execution_count": 1,
   "id": "068bf24c",
   "metadata": {},
   "outputs": [],
   "source": [
    "import os\n",
    "os.chdir( \"../\")"
   ]
  },
  {
   "cell_type": "code",
   "execution_count": 2,
   "id": "e1f6b14d",
   "metadata": {
    "execution": {
     "iopub.execute_input": "2023-01-13T23:31:56.063140Z",
     "iopub.status.busy": "2023-01-13T23:31:56.062656Z",
     "iopub.status.idle": "2023-01-13T23:32:20.885408Z",
     "shell.execute_reply": "2023-01-13T23:32:20.884000Z"
    },
    "papermill": {
     "duration": 24.835316,
     "end_time": "2023-01-13T23:32:20.888242",
     "exception": false,
     "start_time": "2023-01-13T23:31:56.052926",
     "status": "completed"
    },
    "tags": []
   },
   "outputs": [
    {
     "name": "stderr",
     "output_type": "stream",
     "text": [
      "/Users/japo/miniconda3/envs/RecSysFramework/lib/python3.8/site-packages/lightfm/_lightfm_fast.py:9: UserWarning: LightFM was compiled without OpenMP support. Only a single thread will be used.\n",
      "  warnings.warn(\n"
     ]
    },
    {
     "data": {
      "text/html": [
       "<div>\n",
       "<style scoped>\n",
       "    .dataframe tbody tr th:only-of-type {\n",
       "        vertical-align: middle;\n",
       "    }\n",
       "\n",
       "    .dataframe tbody tr th {\n",
       "        vertical-align: top;\n",
       "    }\n",
       "\n",
       "    .dataframe thead th {\n",
       "        text-align: right;\n",
       "    }\n",
       "</style>\n",
       "<table border=\"1\" class=\"dataframe\">\n",
       "  <thead>\n",
       "    <tr style=\"text-align: right;\">\n",
       "      <th></th>\n",
       "      <th>UserID</th>\n",
       "      <th>ItemID</th>\n",
       "      <th>Interaction</th>\n",
       "    </tr>\n",
       "  </thead>\n",
       "  <tbody>\n",
       "    <tr>\n",
       "      <th>0</th>\n",
       "      <td>1</td>\n",
       "      <td>15</td>\n",
       "      <td>1.0</td>\n",
       "    </tr>\n",
       "    <tr>\n",
       "      <th>1</th>\n",
       "      <td>1</td>\n",
       "      <td>16</td>\n",
       "      <td>1.0</td>\n",
       "    </tr>\n",
       "    <tr>\n",
       "      <th>2</th>\n",
       "      <td>1</td>\n",
       "      <td>133</td>\n",
       "      <td>1.0</td>\n",
       "    </tr>\n",
       "    <tr>\n",
       "      <th>3</th>\n",
       "      <td>1</td>\n",
       "      <td>161</td>\n",
       "      <td>1.0</td>\n",
       "    </tr>\n",
       "    <tr>\n",
       "      <th>4</th>\n",
       "      <td>1</td>\n",
       "      <td>187</td>\n",
       "      <td>1.0</td>\n",
       "    </tr>\n",
       "    <tr>\n",
       "      <th>...</th>\n",
       "      <td>...</td>\n",
       "      <td>...</td>\n",
       "      <td>...</td>\n",
       "    </tr>\n",
       "    <tr>\n",
       "      <th>478724</th>\n",
       "      <td>13024</td>\n",
       "      <td>13605</td>\n",
       "      <td>1.0</td>\n",
       "    </tr>\n",
       "    <tr>\n",
       "      <th>478725</th>\n",
       "      <td>13024</td>\n",
       "      <td>13823</td>\n",
       "      <td>1.0</td>\n",
       "    </tr>\n",
       "    <tr>\n",
       "      <th>478726</th>\n",
       "      <td>13024</td>\n",
       "      <td>15122</td>\n",
       "      <td>1.0</td>\n",
       "    </tr>\n",
       "    <tr>\n",
       "      <th>478727</th>\n",
       "      <td>13024</td>\n",
       "      <td>18185</td>\n",
       "      <td>1.0</td>\n",
       "    </tr>\n",
       "    <tr>\n",
       "      <th>478728</th>\n",
       "      <td>13024</td>\n",
       "      <td>20014</td>\n",
       "      <td>1.0</td>\n",
       "    </tr>\n",
       "  </tbody>\n",
       "</table>\n",
       "<p>478729 rows × 3 columns</p>\n",
       "</div>"
      ],
      "text/plain": [
       "        UserID  ItemID  Interaction\n",
       "0            1      15          1.0\n",
       "1            1      16          1.0\n",
       "2            1     133          1.0\n",
       "3            1     161          1.0\n",
       "4            1     187          1.0\n",
       "...        ...     ...          ...\n",
       "478724   13024   13605          1.0\n",
       "478725   13024   13823          1.0\n",
       "478726   13024   15122          1.0\n",
       "478727   13024   18185          1.0\n",
       "478728   13024   20014          1.0\n",
       "\n",
       "[478729 rows x 3 columns]"
      ]
     },
     "execution_count": 2,
     "metadata": {},
     "output_type": "execute_result"
    }
   ],
   "source": [
    "import pandas as pd\n",
    "import numpy as np\n",
    "\n",
    "from Recommenders.Recommender_import_list import *\n",
    "from Recommenders.Hybrid.GeneralizedPipelineHybridRecommender import GeneralizedPipelineHybridRecommender\n",
    "from Evaluation.Evaluator import EvaluatorHoldout\n",
    "\n",
    "path = \"Dataset/data_train.csv\"\n",
    "df = pd.read_csv(filepath_or_buffer=path,\n",
    "                               sep=\",\",\n",
    "                               header=1,\n",
    "                               engine='python',\n",
    "                               names=['UserID', 'ItemID', 'Interaction'])\n",
    "\n",
    "\n",
    "df"
   ]
  },
  {
   "cell_type": "code",
   "execution_count": 3,
   "id": "4e99704b",
   "metadata": {},
   "outputs": [
    {
     "data": {
      "text/plain": [
       "1.0    478729\n",
       "Name: Interaction, dtype: int64"
      ]
     },
     "execution_count": 3,
     "metadata": {},
     "output_type": "execute_result"
    }
   ],
   "source": [
    "df.Interaction.value_counts()"
   ]
  },
  {
   "cell_type": "code",
   "execution_count": 4,
   "id": "6007a4c4",
   "metadata": {
    "execution": {
     "iopub.execute_input": "2023-01-13T23:32:20.910866Z",
     "iopub.status.busy": "2023-01-13T23:32:20.909759Z",
     "iopub.status.idle": "2023-01-13T23:32:21.591015Z",
     "shell.execute_reply": "2023-01-13T23:32:21.589709Z"
    },
    "papermill": {
     "duration": 0.69668,
     "end_time": "2023-01-13T23:32:21.593809",
     "exception": false,
     "start_time": "2023-01-13T23:32:20.897129",
     "status": "completed"
    },
    "tags": []
   },
   "outputs": [
    {
     "name": "stdout",
     "output_type": "stream",
     "text": [
      "<class 'pandas.core.frame.DataFrame'>\n",
      "RangeIndex: 478729 entries, 0 to 478728\n",
      "Data columns (total 3 columns):\n",
      " #   Column       Non-Null Count   Dtype  \n",
      "---  ------       --------------   -----  \n",
      " 0   UserID       478729 non-null  int64  \n",
      " 1   ItemID       478729 non-null  int64  \n",
      " 2   Interaction  478729 non-null  float64\n",
      "dtypes: float64(1), int64(2)\n",
      "memory usage: 11.0 MB\n"
     ]
    }
   ],
   "source": [
    "df.info()"
   ]
  },
  {
   "cell_type": "code",
   "execution_count": 5,
   "id": "c6215bb9",
   "metadata": {},
   "outputs": [
    {
     "name": "stdout",
     "output_type": "stream",
     "text": [
      "Number of users: 12638, Number of Items: 22222, Min rating: 0.0, Max rating: 1.0\n"
     ]
    }
   ],
   "source": [
    "user_ids = df[\"UserID\"].unique().tolist()\n",
    "user2user_encoded = {x: i for i, x in enumerate(user_ids)}\n",
    "userencoded2user = {i: x for i, x in enumerate(user_ids)}\n",
    "item_ids = df[\"ItemID\"].unique().tolist()\n",
    "item2item_encoded = {x: i for i, x in enumerate(item_ids)}\n",
    "item_encoded2item = {i: x for i, x in enumerate(item_ids)}\n",
    "df[\"User\"] = df[\"UserID\"].map(user2user_encoded)\n",
    "df[\"Item\"] = df[\"ItemID\"].map(item2item_encoded)\n",
    "\n",
    "num_users = len(user2user_encoded)\n",
    "num_items = len(item_encoded2item)\n",
    "df[\"Interaction\"] = df[\"Interaction\"].values.astype(np.float32)\n",
    "\n",
    "# min and max ratings will be used to normalize the ratings later\n",
    "min_rating = 0.0\n",
    "max_rating = max(df[\"Interaction\"])\n",
    "\n",
    "print(\n",
    "    \"Number of users: {}, Number of Items: {}, Min rating: {}, Max rating: {}\".format(\n",
    "        num_users, num_items, min_rating, max_rating\n",
    "    )\n",
    ")"
   ]
  },
  {
   "cell_type": "code",
   "execution_count": 6,
   "id": "f74196f4",
   "metadata": {},
   "outputs": [
    {
     "data": {
      "text/html": [
       "<div>\n",
       "<style scoped>\n",
       "    .dataframe tbody tr th:only-of-type {\n",
       "        vertical-align: middle;\n",
       "    }\n",
       "\n",
       "    .dataframe tbody tr th {\n",
       "        vertical-align: top;\n",
       "    }\n",
       "\n",
       "    .dataframe thead th {\n",
       "        text-align: right;\n",
       "    }\n",
       "</style>\n",
       "<table border=\"1\" class=\"dataframe\">\n",
       "  <thead>\n",
       "    <tr style=\"text-align: right;\">\n",
       "      <th></th>\n",
       "      <th>UserID</th>\n",
       "      <th>ItemID</th>\n",
       "      <th>Interaction</th>\n",
       "      <th>User</th>\n",
       "      <th>Item</th>\n",
       "    </tr>\n",
       "  </thead>\n",
       "  <tbody>\n",
       "    <tr>\n",
       "      <th>0</th>\n",
       "      <td>1</td>\n",
       "      <td>15</td>\n",
       "      <td>1.0</td>\n",
       "      <td>0</td>\n",
       "      <td>0</td>\n",
       "    </tr>\n",
       "    <tr>\n",
       "      <th>1</th>\n",
       "      <td>1</td>\n",
       "      <td>16</td>\n",
       "      <td>1.0</td>\n",
       "      <td>0</td>\n",
       "      <td>1</td>\n",
       "    </tr>\n",
       "    <tr>\n",
       "      <th>2</th>\n",
       "      <td>1</td>\n",
       "      <td>133</td>\n",
       "      <td>1.0</td>\n",
       "      <td>0</td>\n",
       "      <td>2</td>\n",
       "    </tr>\n",
       "    <tr>\n",
       "      <th>3</th>\n",
       "      <td>1</td>\n",
       "      <td>161</td>\n",
       "      <td>1.0</td>\n",
       "      <td>0</td>\n",
       "      <td>3</td>\n",
       "    </tr>\n",
       "    <tr>\n",
       "      <th>4</th>\n",
       "      <td>1</td>\n",
       "      <td>187</td>\n",
       "      <td>1.0</td>\n",
       "      <td>0</td>\n",
       "      <td>4</td>\n",
       "    </tr>\n",
       "  </tbody>\n",
       "</table>\n",
       "</div>"
      ],
      "text/plain": [
       "   UserID  ItemID  Interaction  User  Item\n",
       "0       1      15          1.0     0     0\n",
       "1       1      16          1.0     0     1\n",
       "2       1     133          1.0     0     2\n",
       "3       1     161          1.0     0     3\n",
       "4       1     187          1.0     0     4"
      ]
     },
     "execution_count": 6,
     "metadata": {},
     "output_type": "execute_result"
    }
   ],
   "source": [
    "df.head()"
   ]
  },
  {
   "cell_type": "code",
   "execution_count": 7,
   "id": "0adaa414",
   "metadata": {
    "execution": {
     "iopub.execute_input": "2023-01-13T23:32:21.787768Z",
     "iopub.status.busy": "2023-01-13T23:32:21.787354Z",
     "iopub.status.idle": "2023-01-13T23:32:21.825384Z",
     "shell.execute_reply": "2023-01-13T23:32:21.824102Z"
    },
    "papermill": {
     "duration": 0.05165,
     "end_time": "2023-01-13T23:32:21.828219",
     "exception": false,
     "start_time": "2023-01-13T23:32:21.776569",
     "status": "completed"
    },
    "tags": []
   },
   "outputs": [],
   "source": [
    "userId_unique = df[\"UserID\"].unique()\n",
    "itemId_unique = df[\"ItemID\"].unique()"
   ]
  },
  {
   "cell_type": "code",
   "execution_count": 8,
   "id": "c67736a2",
   "metadata": {
    "execution": {
     "iopub.execute_input": "2023-01-13T23:32:21.850104Z",
     "iopub.status.busy": "2023-01-13T23:32:21.849559Z",
     "iopub.status.idle": "2023-01-13T23:32:23.566750Z",
     "shell.execute_reply": "2023-01-13T23:32:23.565195Z"
    },
    "papermill": {
     "duration": 1.73095,
     "end_time": "2023-01-13T23:32:23.569747",
     "exception": false,
     "start_time": "2023-01-13T23:32:21.838797",
     "status": "completed"
    },
    "tags": []
   },
   "outputs": [
    {
     "name": "stdout",
     "output_type": "stream",
     "text": [
      "Warning: 218 (1.72 %) of 12638 users have no train items\n",
      "Warning: 2128 (16.84 %) of 12638 users have no sampled items\n",
      "Warning: 472 (3.73 %) of 12638 users have no train items\n",
      "Warning: 2602 (20.59 %) of 12638 users have no sampled items\n"
     ]
    }
   ],
   "source": [
    "from sklearn.model_selection import train_test_split\n",
    "import numpy as np\n",
    "import scipy.sparse as sps\n",
    "from Data_manager.split_functions.split_train_validation_random_holdout import split_train_in_two_percentage_global_sample\n",
    "\n",
    "\n",
    "\n",
    "urm_all = sps.coo_matrix((df[\"Interaction\"].values, \n",
    "                          (df[\"User\"].values, df[\"Item\"].values)))\n",
    "\n",
    "urm_train_validation, urm_test = split_train_in_two_percentage_global_sample(urm_all, train_percentage = 0.80)\n",
    "urm_train, urm_validation = split_train_in_two_percentage_global_sample(urm_train_validation, train_percentage = 0.80)"
   ]
  },
  {
   "cell_type": "code",
   "execution_count": 9,
   "id": "055f6397",
   "metadata": {
    "execution": {
     "iopub.execute_input": "2023-01-13T23:32:23.592354Z",
     "iopub.status.busy": "2023-01-13T23:32:23.591890Z",
     "iopub.status.idle": "2023-01-13T23:32:23.597435Z",
     "shell.execute_reply": "2023-01-13T23:32:23.596059Z"
    },
    "papermill": {
     "duration": 0.020022,
     "end_time": "2023-01-13T23:32:23.599856",
     "exception": false,
     "start_time": "2023-01-13T23:32:23.579834",
     "status": "completed"
    },
    "tags": []
   },
   "outputs": [],
   "source": [
    "num_users = len(userId_unique)\n",
    "num_items = len(itemId_unique)"
   ]
  },
  {
   "cell_type": "code",
   "execution_count": 10,
   "id": "6f12f62b",
   "metadata": {
    "execution": {
     "iopub.execute_input": "2023-01-13T23:32:24.004792Z",
     "iopub.status.busy": "2023-01-13T23:32:24.004003Z",
     "iopub.status.idle": "2023-01-13T23:32:30.128567Z",
     "shell.execute_reply": "2023-01-13T23:32:30.126914Z"
    },
    "papermill": {
     "duration": 6.138328,
     "end_time": "2023-01-13T23:32:30.131322",
     "exception": false,
     "start_time": "2023-01-13T23:32:23.992994",
     "status": "completed"
    },
    "tags": []
   },
   "outputs": [
    {
     "name": "stdout",
     "output_type": "stream",
     "text": [
      "EvaluatorHoldout: Ignoring 2602 (20.6%) Users that have less than 1 test interactions\n",
      "EvaluatorHoldout: Ignoring 0 Users\n"
     ]
    }
   ],
   "source": [
    "\n",
    "evaluator_validation = EvaluatorHoldout(urm_validation, cutoff_list=[10], ignore_users=[])"
   ]
  },
  {
   "cell_type": "markdown",
   "id": "107d742e",
   "metadata": {},
   "source": [
    "**CREATING HYBRID**\n"
   ]
  },
  {
   "cell_type": "markdown",
   "id": "2cf8b920",
   "metadata": {
    "execution": {
     "iopub.execute_input": "2022-12-29T17:17:34.5603Z",
     "iopub.status.busy": "2022-12-29T17:17:34.559836Z",
     "iopub.status.idle": "2022-12-29T17:17:34.565723Z",
     "shell.execute_reply": "2022-12-29T17:17:34.564633Z",
     "shell.execute_reply.started": "2022-12-29T17:17:34.560267Z"
    },
    "papermill": {
     "duration": 0.009276,
     "end_time": "2023-01-13T23:32:30.150532",
     "exception": false,
     "start_time": "2023-01-13T23:32:30.141256",
     "status": "completed"
    },
    "tags": []
   },
   "source": [
    "## Insert model here"
   ]
  },
  {
   "cell_type": "code",
   "execution_count": 11,
   "id": "4613d7a5",
   "metadata": {},
   "outputs": [],
   "source": [
    "SLIMEN_best_params = {'topK': 7693, 'l1_ratio': 0.08013148517795793, 'alpha': 0.0012244028139782985}\n",
    "RP3Beta_best_params = {'topK': 41,\n",
    " 'alpha': 0.24025759098180052,\n",
    " 'beta': 0.21463311953617964,\n",
    " 'normalize_similarity': True}\n",
    "EASE_best_params = {'topK':None, 'normalize_matrix':False,'l2_norm':84.03422929536671}\n",
    "ItemKNN_best_params = {'topK': 23, 'shrink': 18, 'similarity': 'tversky', 'normalize': False}\n",
    "IALS_best_params = {'num_factors': 184, 'epochs': 110, 'confidence_scaling': 'linear', 'alpha': 13.161328184474756, 'epsilon': 0.2917133297273583, 'reg': 0.0005872701636540686}\n",
    "SLIMBPR_best_params = {'topK': 5, 'epochs': 60, 'symmetric': False, 'sgd_mode': 'adagrad', 'lambda_i': 1e-05, 'lambda_j': 1e-05, 'learning_rate': 0.1}"
   ]
  },
  {
   "cell_type": "code",
   "execution_count": 12,
   "id": "0fe2053e",
   "metadata": {},
   "outputs": [],
   "source": [
    "model = GeneralizedPipelineHybridRecommender\n",
    "\n",
    "#def __init__(self, URM_train, KNN_recommender, recommenders: list, verbose=True, KNN_Under_Interactions=2):"
   ]
  },
  {
   "cell_type": "code",
   "execution_count": 13,
   "id": "6b28a35f",
   "metadata": {},
   "outputs": [
    {
     "name": "stdout",
     "output_type": "stream",
     "text": [
      "RP3betaRecommender_SLIMElasticNetRecommenderPipelineHybridRecommender: URM Detected 472 ( 3.7%) users with no interactions.\n",
      "RP3betaRecommender_SLIMElasticNetRecommenderPipelineHybridRecommender: URM Detected 341 ( 1.5%) items with no interactions.\n"
     ]
    }
   ],
   "source": [
    "pipeline_rec = model(urm_train, RP3betaRecommender, RP3Beta_best_params, SLIMElasticNetRecommender, SLIMEN_best_params, threshold=2)"
   ]
  },
  {
   "cell_type": "code",
   "execution_count": 14,
   "id": "4b37eedc",
   "metadata": {},
   "outputs": [
    {
     "name": "stdout",
     "output_type": "stream",
     "text": [
      "URM Train Sparsity of the CSR matrix: 0.9989090435294288, #non null: 306386\n",
      "RP3betaRecommender: URM Detected 472 ( 3.7%) users with no interactions.\n",
      "RP3betaRecommender: URM Detected 341 ( 1.5%) items with no interactions.\n",
      "RP3betaRecommender: Similarity column 22222 (100.0%), 4325.95 column/sec. Elapsed time 5.14 sec\n",
      "Ended training of the first model\n",
      "331662\n",
      "URM Pipeline Sparsity of the CSR matrix: 0.9988190426294198, #non null: 331662\n",
      "SLIMElasticNetRecommender: URM Detected 341 ( 1.5%) items with no interactions.\n",
      "Start training of the second model\n",
      "SLIMElasticNetRecommender: Processed 13826 (62.2%) in 5.00 min. Items per second: 46.08\n",
      "SLIMElasticNetRecommender: Processed 22222 (100.0%) in 7.95 min. Items per second: 46.60\n",
      "Ended training of the second model\n"
     ]
    }
   ],
   "source": [
    "pipeline_rec.fit()"
   ]
  },
  {
   "cell_type": "code",
   "execution_count": 17,
   "id": "5a4a43d0",
   "metadata": {},
   "outputs": [
    {
     "name": "stdout",
     "output_type": "stream",
     "text": [
      "EvaluatorHoldout: Processed 10036 (100.0%) in 7.57 sec. Users per second: 1326\n"
     ]
    },
    {
     "data": {
      "text/plain": [
       "(       PRECISION PRECISION_RECALL_MIN_DEN    RECALL       MAP MAP_MIN_DEN  \\\n",
       " cutoff                                                                      \n",
       " 10      0.067617                 0.136327  0.122704  0.030829    0.062304   \n",
       " \n",
       "             MRR      NDCG        F1  HIT_RATE ARHR_ALL_HITS  ...  \\\n",
       " cutoff                                                       ...   \n",
       " 10      0.20499  0.115492  0.087188  0.443105      0.250207  ...   \n",
       " \n",
       "        COVERAGE_USER COVERAGE_USER_HIT USERS_IN_GT DIVERSITY_GINI  \\\n",
       " cutoff                                                              \n",
       " 10          0.794113          0.351875    0.794113       0.041126   \n",
       " \n",
       "        SHANNON_ENTROPY RATIO_DIVERSITY_HERFINDAHL RATIO_DIVERSITY_GINI  \\\n",
       " cutoff                                                                   \n",
       " 10            9.697152                   0.996415              0.11916   \n",
       " \n",
       "        RATIO_SHANNON_ENTROPY RATIO_AVERAGE_POPULARITY RATIO_NOVELTY  \n",
       " cutoff                                                               \n",
       " 10                  0.747554                  2.16494      0.347288  \n",
       " \n",
       " [1 rows x 27 columns],\n",
       " 'CUTOFF: 10 - PRECISION: 0.0676166, PRECISION_RECALL_MIN_DEN: 0.1363266, RECALL: 0.1227037, MAP: 0.0308287, MAP_MIN_DEN: 0.0623036, MRR: 0.2049897, NDCG: 0.1154919, F1: 0.0871878, HIT_RATE: 0.4431048, ARHR_ALL_HITS: 0.2502067, NOVELTY: 0.0049147, AVERAGE_POPULARITY: 0.2673002, DIVERSITY_MEAN_INTER_LIST: 0.9606356, DIVERSITY_HERFINDAHL: 0.9960540, COVERAGE_ITEM: 0.2433624, COVERAGE_ITEM_HIT: 0.0622356, ITEMS_IN_GT: 0.7413824, COVERAGE_USER: 0.7941130, COVERAGE_USER_HIT: 0.3518753, USERS_IN_GT: 0.7941130, DIVERSITY_GINI: 0.0411264, SHANNON_ENTROPY: 9.6971520, RATIO_DIVERSITY_HERFINDAHL: 0.9964148, RATIO_DIVERSITY_GINI: 0.1191596, RATIO_SHANNON_ENTROPY: 0.7475541, RATIO_AVERAGE_POPULARITY: 2.1649398, RATIO_NOVELTY: 0.3472875, \\n')"
      ]
     },
     "execution_count": 17,
     "metadata": {},
     "output_type": "execute_result"
    }
   ],
   "source": [
    "evaluator_validation.evaluateRecommender(pipeline_rec)"
   ]
  },
  {
   "cell_type": "code",
   "execution_count": 20,
   "id": "714cf142",
   "metadata": {},
   "outputs": [
    {
     "data": {
      "text/plain": [
       "[674, 587, 818, 2023, 3, 1478, 1449, 1585, 677, 1118]"
      ]
     },
     "execution_count": 20,
     "metadata": {},
     "output_type": "execute_result"
    }
   ],
   "source": [
    "pipeline_rec.recommend(0)[:10]"
   ]
  }
 ],
 "metadata": {
  "kernelspec": {
   "display_name": "Python 3",
   "language": "python",
   "name": "python3"
  },
  "language_info": {
   "codemirror_mode": {
    "name": "ipython",
    "version": 3
   },
   "file_extension": ".py",
   "mimetype": "text/x-python",
   "name": "python",
   "nbconvert_exporter": "python",
   "pygments_lexer": "ipython3",
   "version": "3.8.18"
  },
  "papermill": {
   "default_parameters": {},
   "duration": 40634.925398,
   "end_time": "2023-01-14T10:48:32.534297",
   "environment_variables": {},
   "exception": null,
   "input_path": "__notebook__.ipynb",
   "output_path": "__notebook__.ipynb",
   "parameters": {},
   "start_time": "2023-01-13T23:31:17.608899",
   "version": "2.3.4"
  }
 },
 "nbformat": 4,
 "nbformat_minor": 5
}
