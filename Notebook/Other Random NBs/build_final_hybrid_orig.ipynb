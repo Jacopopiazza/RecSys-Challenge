{
 "cells": [
  {
   "cell_type": "code",
   "execution_count": 1,
   "metadata": {},
   "outputs": [],
   "source": [
    "import os\n",
    "os.chdir(\"../\")"
   ]
  },
  {
   "cell_type": "code",
   "execution_count": 2,
   "metadata": {},
   "outputs": [],
   "source": [
    "import numpy as np\n",
    "import pandas as pd\n",
    "import matplotlib.pyplot as plt\n",
    "\n",
    "\n",
    "k_fold = 10\n",
    "seeds = [192760, 1393659, 1269293, 138973, 931308, 1088652, 1361151, 1456105, 820535, 1240839]\n"
   ]
  },
  {
   "cell_type": "code",
   "execution_count": 3,
   "metadata": {},
   "outputs": [],
   "source": [
    "data_train_path = \"Dataset/data_train.csv\"\n",
    "data_test_path = \"Dataset/data_target_users_test.csv\""
   ]
  },
  {
   "cell_type": "code",
   "execution_count": 4,
   "metadata": {},
   "outputs": [],
   "source": [
    "df = pd.read_csv(data_train_path)\n",
    "df_test = pd.read_csv(data_test_path)\n",
    "\n",
    "df.columns = [\"UserID\", \"ItemID\", \"Interaction\"]\n",
    "df_test.columns = [\"UserID\"]"
   ]
  },
  {
   "cell_type": "code",
   "execution_count": 5,
   "metadata": {},
   "outputs": [
    {
     "data": {
      "text/html": [
       "<div>\n",
       "<style scoped>\n",
       "    .dataframe tbody tr th:only-of-type {\n",
       "        vertical-align: middle;\n",
       "    }\n",
       "\n",
       "    .dataframe tbody tr th {\n",
       "        vertical-align: top;\n",
       "    }\n",
       "\n",
       "    .dataframe thead th {\n",
       "        text-align: right;\n",
       "    }\n",
       "</style>\n",
       "<table border=\"1\" class=\"dataframe\">\n",
       "  <thead>\n",
       "    <tr style=\"text-align: right;\">\n",
       "      <th></th>\n",
       "      <th>UserID</th>\n",
       "      <th>ItemID</th>\n",
       "      <th>Interaction</th>\n",
       "    </tr>\n",
       "  </thead>\n",
       "  <tbody>\n",
       "    <tr>\n",
       "      <th>0</th>\n",
       "      <td>1</td>\n",
       "      <td>7</td>\n",
       "      <td>1.0</td>\n",
       "    </tr>\n",
       "    <tr>\n",
       "      <th>1</th>\n",
       "      <td>1</td>\n",
       "      <td>15</td>\n",
       "      <td>1.0</td>\n",
       "    </tr>\n",
       "    <tr>\n",
       "      <th>2</th>\n",
       "      <td>1</td>\n",
       "      <td>16</td>\n",
       "      <td>1.0</td>\n",
       "    </tr>\n",
       "    <tr>\n",
       "      <th>3</th>\n",
       "      <td>1</td>\n",
       "      <td>133</td>\n",
       "      <td>1.0</td>\n",
       "    </tr>\n",
       "    <tr>\n",
       "      <th>4</th>\n",
       "      <td>1</td>\n",
       "      <td>161</td>\n",
       "      <td>1.0</td>\n",
       "    </tr>\n",
       "    <tr>\n",
       "      <th>...</th>\n",
       "      <td>...</td>\n",
       "      <td>...</td>\n",
       "      <td>...</td>\n",
       "    </tr>\n",
       "    <tr>\n",
       "      <th>478725</th>\n",
       "      <td>13024</td>\n",
       "      <td>13605</td>\n",
       "      <td>1.0</td>\n",
       "    </tr>\n",
       "    <tr>\n",
       "      <th>478726</th>\n",
       "      <td>13024</td>\n",
       "      <td>13823</td>\n",
       "      <td>1.0</td>\n",
       "    </tr>\n",
       "    <tr>\n",
       "      <th>478727</th>\n",
       "      <td>13024</td>\n",
       "      <td>15122</td>\n",
       "      <td>1.0</td>\n",
       "    </tr>\n",
       "    <tr>\n",
       "      <th>478728</th>\n",
       "      <td>13024</td>\n",
       "      <td>18185</td>\n",
       "      <td>1.0</td>\n",
       "    </tr>\n",
       "    <tr>\n",
       "      <th>478729</th>\n",
       "      <td>13024</td>\n",
       "      <td>20014</td>\n",
       "      <td>1.0</td>\n",
       "    </tr>\n",
       "  </tbody>\n",
       "</table>\n",
       "<p>478730 rows × 3 columns</p>\n",
       "</div>"
      ],
      "text/plain": [
       "        UserID  ItemID  Interaction\n",
       "0            1       7          1.0\n",
       "1            1      15          1.0\n",
       "2            1      16          1.0\n",
       "3            1     133          1.0\n",
       "4            1     161          1.0\n",
       "...        ...     ...          ...\n",
       "478725   13024   13605          1.0\n",
       "478726   13024   13823          1.0\n",
       "478727   13024   15122          1.0\n",
       "478728   13024   18185          1.0\n",
       "478729   13024   20014          1.0\n",
       "\n",
       "[478730 rows x 3 columns]"
      ]
     },
     "execution_count": 5,
     "metadata": {},
     "output_type": "execute_result"
    }
   ],
   "source": [
    "df"
   ]
  },
  {
   "cell_type": "code",
   "execution_count": 6,
   "metadata": {},
   "outputs": [],
   "source": [
    "metric_to_optimize=\"MAP\"\n",
    "cutoff_to_optimize=10"
   ]
  },
  {
   "cell_type": "code",
   "execution_count": 7,
   "metadata": {},
   "outputs": [
    {
     "name": "stdout",
     "output_type": "stream",
     "text": [
      "Number of users: 12638, Number of Items: 22222, Min rating: 0.0, Max rating: 1.0\n"
     ]
    }
   ],
   "source": [
    "user_ids = df[\"UserID\"].unique().tolist()\n",
    "user2user_encoded = {x: i for i, x in enumerate(user_ids)}\n",
    "userencoded2user = {i: x for i, x in enumerate(user_ids)}\n",
    "item_ids = df[\"ItemID\"].unique().tolist()\n",
    "item2item_encoded = {x: i for i, x in enumerate(item_ids)}\n",
    "item_encoded2item = {i: x for i, x in enumerate(item_ids)}\n",
    "df[\"User\"] = df[\"UserID\"].map(user2user_encoded)\n",
    "df[\"Item\"] = df[\"ItemID\"].map(item2item_encoded)\n",
    "\n",
    "num_users = len(user2user_encoded)\n",
    "num_items = len(item_encoded2item)\n",
    "df[\"Interaction\"] = df[\"Interaction\"].values.astype(np.float32)\n",
    "\n",
    "# min and max ratings will be used to normalize the ratings later\n",
    "min_rating = 0.0\n",
    "max_rating = max(df[\"Interaction\"])\n",
    "\n",
    "print(\n",
    "    \"Number of users: {}, Number of Items: {}, Min rating: {}, Max rating: {}\".format(\n",
    "        num_users, num_items, min_rating, max_rating\n",
    "    )\n",
    ")"
   ]
  },
  {
   "cell_type": "code",
   "execution_count": 8,
   "metadata": {},
   "outputs": [],
   "source": [
    "userId_unique = df[\"UserID\"].unique()\n",
    "itemId_unique = df[\"ItemID\"].unique()"
   ]
  },
  {
   "cell_type": "code",
   "execution_count": 9,
   "metadata": {},
   "outputs": [
    {
     "name": "stdout",
     "output_type": "stream",
     "text": [
      "Warning: 249 (1.97 %) of 12638 users have no train items\n",
      "Warning: 2146 (16.98 %) of 12638 users have no sampled items\n",
      "Warning: 508 (4.02 %) of 12638 users have no train items\n",
      "Warning: 2581 (20.42 %) of 12638 users have no sampled items\n",
      "Warning: 191 (1.51 %) of 12638 users have no train items\n",
      "Warning: 2177 (17.23 %) of 12638 users have no sampled items\n",
      "Warning: 440 (3.48 %) of 12638 users have no train items\n",
      "Warning: 2598 (20.56 %) of 12638 users have no sampled items\n",
      "Warning: 235 (1.86 %) of 12638 users have no train items\n",
      "Warning: 2157 (17.07 %) of 12638 users have no sampled items\n",
      "Warning: 479 (3.79 %) of 12638 users have no train items\n",
      "Warning: 2621 (20.74 %) of 12638 users have no sampled items\n",
      "Warning: 218 (1.72 %) of 12638 users have no train items\n",
      "Warning: 2132 (16.87 %) of 12638 users have no sampled items\n",
      "Warning: 451 (3.57 %) of 12638 users have no train items\n",
      "Warning: 2601 (20.58 %) of 12638 users have no sampled items\n",
      "Warning: 220 (1.74 %) of 12638 users have no train items\n",
      "Warning: 2149 (17.00 %) of 12638 users have no sampled items\n",
      "Warning: 449 (3.55 %) of 12638 users have no train items\n",
      "Warning: 2649 (20.96 %) of 12638 users have no sampled items\n",
      "Warning: 224 (1.77 %) of 12638 users have no train items\n",
      "Warning: 2129 (16.85 %) of 12638 users have no sampled items\n",
      "Warning: 460 (3.64 %) of 12638 users have no train items\n",
      "Warning: 2614 (20.68 %) of 12638 users have no sampled items\n",
      "Warning: 207 (1.64 %) of 12638 users have no train items\n",
      "Warning: 2228 (17.63 %) of 12638 users have no sampled items\n",
      "Warning: 426 (3.37 %) of 12638 users have no train items\n",
      "Warning: 2608 (20.64 %) of 12638 users have no sampled items\n",
      "Warning: 218 (1.72 %) of 12638 users have no train items\n",
      "Warning: 2183 (17.27 %) of 12638 users have no sampled items\n",
      "Warning: 471 (3.73 %) of 12638 users have no train items\n",
      "Warning: 2586 (20.46 %) of 12638 users have no sampled items\n",
      "Warning: 214 (1.69 %) of 12638 users have no train items\n",
      "Warning: 2140 (16.93 %) of 12638 users have no sampled items\n",
      "Warning: 478 (3.78 %) of 12638 users have no train items\n",
      "Warning: 2593 (20.52 %) of 12638 users have no sampled items\n",
      "Warning: 217 (1.72 %) of 12638 users have no train items\n",
      "Warning: 2187 (17.30 %) of 12638 users have no sampled items\n",
      "Warning: 460 (3.64 %) of 12638 users have no train items\n",
      "Warning: 2570 (20.34 %) of 12638 users have no sampled items\n"
     ]
    }
   ],
   "source": [
    "from sklearn.model_selection import train_test_split\n",
    "from sklearn.model_selection import cross_val_score, KFold\n",
    "import numpy as np\n",
    "import scipy.sparse as sps\n",
    "from Data_manager.split_functions.split_train_validation_random_holdout import split_train_in_two_percentage_global_sample\n",
    "\n",
    "\n",
    "urm_all = sps.coo_matrix((df[\"Interaction\"].values, \n",
    "                          (df[\"User\"].values, df[\"Item\"].values)))\n",
    "\n",
    "urm_train_validation = []\n",
    "urm_test = []\n",
    "urm_train = []\n",
    "urm_validation = []\n",
    "\n",
    "for i in range(len(seeds)):\n",
    "    a, b = split_train_in_two_percentage_global_sample(urm_all, train_percentage = 0.80,seed=seeds[i])\n",
    "    c, d = split_train_in_two_percentage_global_sample(a, train_percentage = 0.80,seed=seeds[i])\n",
    "    urm_train_validation.append(a)\n",
    "    urm_test.append(b)\n",
    "    urm_train.append(c)\n",
    "    urm_validation.append(d)\n",
    "\n"
   ]
  },
  {
   "cell_type": "code",
   "execution_count": 10,
   "metadata": {},
   "outputs": [
    {
     "name": "stdout",
     "output_type": "stream",
     "text": [
      "EvaluatorHoldout: Ignoring 2581 (20.4%) Users that have less than 1 test interactions\n",
      "EvaluatorHoldout: Ignoring 0 Users\n",
      "EvaluatorHoldout: Ignoring 2598 (20.6%) Users that have less than 1 test interactions\n",
      "EvaluatorHoldout: Ignoring 0 Users\n",
      "EvaluatorHoldout: Ignoring 2621 (20.7%) Users that have less than 1 test interactions\n",
      "EvaluatorHoldout: Ignoring 0 Users\n",
      "EvaluatorHoldout: Ignoring 2601 (20.6%) Users that have less than 1 test interactions\n",
      "EvaluatorHoldout: Ignoring 0 Users\n",
      "EvaluatorHoldout: Ignoring 2649 (21.0%) Users that have less than 1 test interactions\n",
      "EvaluatorHoldout: Ignoring 0 Users\n",
      "EvaluatorHoldout: Ignoring 2614 (20.7%) Users that have less than 1 test interactions\n",
      "EvaluatorHoldout: Ignoring 0 Users\n",
      "EvaluatorHoldout: Ignoring 2608 (20.6%) Users that have less than 1 test interactions\n",
      "EvaluatorHoldout: Ignoring 0 Users\n",
      "EvaluatorHoldout: Ignoring 2586 (20.5%) Users that have less than 1 test interactions\n",
      "EvaluatorHoldout: Ignoring 0 Users\n",
      "EvaluatorHoldout: Ignoring 2593 (20.5%) Users that have less than 1 test interactions\n",
      "EvaluatorHoldout: Ignoring 0 Users\n",
      "EvaluatorHoldout: Ignoring 2570 (20.3%) Users that have less than 1 test interactions\n",
      "EvaluatorHoldout: Ignoring 0 Users\n"
     ]
    }
   ],
   "source": [
    "from Evaluation.Evaluator import EvaluatorHoldout\n",
    "evaluator_validation = []\n",
    "for u in urm_validation:\n",
    "    evaluator_validation.append(EvaluatorHoldout(u, cutoff_list=[10], ignore_users=[]))"
   ]
  },
  {
   "cell_type": "code",
   "execution_count": 11,
   "metadata": {},
   "outputs": [
    {
     "name": "stdout",
     "output_type": "stream",
     "text": [
      "EvaluatorHoldout: Ignoring 2146 (17.0%) Users that have less than 1 test interactions\n",
      "EvaluatorHoldout: Ignoring 0 Users\n",
      "EvaluatorHoldout: Ignoring 2177 (17.2%) Users that have less than 1 test interactions\n",
      "EvaluatorHoldout: Ignoring 0 Users\n",
      "EvaluatorHoldout: Ignoring 2157 (17.1%) Users that have less than 1 test interactions\n",
      "EvaluatorHoldout: Ignoring 0 Users\n",
      "EvaluatorHoldout: Ignoring 2132 (16.9%) Users that have less than 1 test interactions\n",
      "EvaluatorHoldout: Ignoring 0 Users\n",
      "EvaluatorHoldout: Ignoring 2149 (17.0%) Users that have less than 1 test interactions\n",
      "EvaluatorHoldout: Ignoring 0 Users\n",
      "EvaluatorHoldout: Ignoring 2129 (16.8%) Users that have less than 1 test interactions\n",
      "EvaluatorHoldout: Ignoring 0 Users\n",
      "EvaluatorHoldout: Ignoring 2228 (17.6%) Users that have less than 1 test interactions\n",
      "EvaluatorHoldout: Ignoring 0 Users\n",
      "EvaluatorHoldout: Ignoring 2183 (17.3%) Users that have less than 1 test interactions\n",
      "EvaluatorHoldout: Ignoring 0 Users\n",
      "EvaluatorHoldout: Ignoring 2140 (16.9%) Users that have less than 1 test interactions\n",
      "EvaluatorHoldout: Ignoring 0 Users\n",
      "EvaluatorHoldout: Ignoring 2187 (17.3%) Users that have less than 1 test interactions\n",
      "EvaluatorHoldout: Ignoring 0 Users\n"
     ]
    }
   ],
   "source": [
    "from Evaluation.Evaluator import EvaluatorHoldout\n",
    "evaluator_test = []\n",
    "for u in urm_test:\n",
    "    evaluator_test.append(EvaluatorHoldout(u, cutoff_list=[10], ignore_users=[]))"
   ]
  },
  {
   "cell_type": "code",
   "execution_count": 12,
   "metadata": {},
   "outputs": [],
   "source": [
    "from Recommenders.KNN.ItemKNNCFRecommender import ItemKNNCFRecommender\n",
    "\n",
    "recommenderClass = ItemKNNCFRecommender\n",
    "\n"
   ]
  },
  {
   "cell_type": "code",
   "execution_count": 13,
   "metadata": {},
   "outputs": [],
   "source": [
    "import optuna\n",
    "\n",
    "# Replace the following with your MySQL database connection details\n",
    "host = \"db-mysql-nyc3-14396-do-user-15539286-0.c.db.ondigitalocean.com\"\n",
    "port = 25060\n",
    "database_name = \"recsys_optuna\"\n",
    "username = \"doadmin\"\n",
    "password = \"AVNS_EIQ1D-GbDGJWZPsN3Mt\"\n",
    "\n",
    "# Create an SQLAlchemy engine\n",
    "mysql_url = f\"mysql+pymysql://{username}:{password}@{host}:{port}/{database_name}\"\n",
    "storage = optuna.storages.RDBStorage(url=mysql_url)"
   ]
  },
  {
   "cell_type": "code",
   "execution_count": 14,
   "metadata": {},
   "outputs": [],
   "source": [
    "rp3_study = optuna.load_study(study_name=\"RP3_Hybrid_last\", storage=storage)\n",
    "p3_study = optuna.load_study(study_name=\"P3_Hybrid_last\", storage=storage)\n",
    "slim_study = optuna.load_study(study_name=\"SLIM_Hybrid_last\", storage=storage)\n",
    "knn_study = optuna.load_study(study_name=\"KNN_Hybrid_last\", storage=storage)\n",
    "mf_study = optuna.load_study(study_name=\"NMF_Hybrid_last\", storage=storage)\n"
   ]
  },
  {
   "cell_type": "code",
   "execution_count": 15,
   "metadata": {},
   "outputs": [
    {
     "name": "stdout",
     "output_type": "stream",
     "text": [
      "SLIMElasticNetRecommender: URM Detected 508 ( 4.0%) users with no interactions.\n",
      "SLIMElasticNetRecommender: URM Detected 332 ( 1.5%) items with no interactions.\n"
     ]
    },
    {
     "name": "stderr",
     "output_type": "stream",
     "text": [
      "100%|█████████▉| 22216/22222 [00:29<00:00, 744.76it/s] \n"
     ]
    },
    {
     "name": "stdout",
     "output_type": "stream",
     "text": [
      "RP3betaRecommender: URM Detected 508 ( 4.0%) users with no interactions.\n",
      "RP3betaRecommender: URM Detected 332 ( 1.5%) items with no interactions.\n",
      "RP3betaRecommender: Similarity column 22222 (100.0%), 9472.88 column/sec. Elapsed time 2.35 sec\n",
      "P3alphaRecommender: URM Detected 508 ( 4.0%) users with no interactions.\n",
      "P3alphaRecommender: URM Detected 332 ( 1.5%) items with no interactions.\n",
      "P3alphaRecommender: Similarity column 22222 (100.0%), 10479.71 column/sec. Elapsed time 2.12 sec\n",
      "ItemKNNCFRecommender: URM Detected 508 ( 4.0%) users with no interactions.\n",
      "ItemKNNCFRecommender: URM Detected 332 ( 1.5%) items with no interactions.\n",
      "Similarity column 22222 (100.0%), 13554.67 column/sec. Elapsed time 1.64 sec\n",
      "NMFRecommender: URM Detected 508 ( 4.0%) users with no interactions.\n",
      "NMFRecommender: URM Detected 332 ( 1.5%) items with no interactions.\n",
      "NMFRecommender: Computing NMF decomposition...\n",
      "NMFRecommender: Computing NMF decomposition... done in 14.13 sec\n",
      "SLIMElasticNetRecommender: URM Detected 440 ( 3.5%) users with no interactions.\n",
      "SLIMElasticNetRecommender: URM Detected 325 ( 1.5%) items with no interactions.\n"
     ]
    },
    {
     "name": "stderr",
     "output_type": "stream",
     "text": [
      "100%|█████████▉| 22216/22222 [00:30<00:00, 736.89it/s] \n"
     ]
    },
    {
     "name": "stdout",
     "output_type": "stream",
     "text": [
      "RP3betaRecommender: URM Detected 440 ( 3.5%) users with no interactions.\n",
      "RP3betaRecommender: URM Detected 325 ( 1.5%) items with no interactions.\n",
      "RP3betaRecommender: Similarity column 22222 (100.0%), 9596.34 column/sec. Elapsed time 2.32 sec\n",
      "P3alphaRecommender: URM Detected 440 ( 3.5%) users with no interactions.\n",
      "P3alphaRecommender: URM Detected 325 ( 1.5%) items with no interactions.\n",
      "P3alphaRecommender: Similarity column 22222 (100.0%), 10274.26 column/sec. Elapsed time 2.16 sec\n",
      "ItemKNNCFRecommender: URM Detected 440 ( 3.5%) users with no interactions.\n",
      "ItemKNNCFRecommender: URM Detected 325 ( 1.5%) items with no interactions.\n",
      "Similarity column 22222 (100.0%), 13503.48 column/sec. Elapsed time 1.65 sec\n",
      "NMFRecommender: URM Detected 440 ( 3.5%) users with no interactions.\n",
      "NMFRecommender: URM Detected 325 ( 1.5%) items with no interactions.\n",
      "NMFRecommender: Computing NMF decomposition...\n",
      "NMFRecommender: Computing NMF decomposition... done in 10.50 sec\n",
      "SLIMElasticNetRecommender: URM Detected 479 ( 3.8%) users with no interactions.\n",
      "SLIMElasticNetRecommender: URM Detected 345 ( 1.6%) items with no interactions.\n"
     ]
    },
    {
     "name": "stderr",
     "output_type": "stream",
     "text": [
      "100%|█████████▉| 22216/22222 [00:30<00:00, 734.77it/s] \n"
     ]
    },
    {
     "name": "stdout",
     "output_type": "stream",
     "text": [
      "RP3betaRecommender: URM Detected 479 ( 3.8%) users with no interactions.\n",
      "RP3betaRecommender: URM Detected 345 ( 1.6%) items with no interactions.\n",
      "RP3betaRecommender: Similarity column 22222 (100.0%), 9628.61 column/sec. Elapsed time 2.31 sec\n",
      "P3alphaRecommender: URM Detected 479 ( 3.8%) users with no interactions.\n",
      "P3alphaRecommender: URM Detected 345 ( 1.6%) items with no interactions.\n",
      "P3alphaRecommender: Similarity column 22222 (100.0%), 10404.18 column/sec. Elapsed time 2.14 sec\n",
      "ItemKNNCFRecommender: URM Detected 479 ( 3.8%) users with no interactions.\n",
      "ItemKNNCFRecommender: URM Detected 345 ( 1.6%) items with no interactions.\n",
      "Similarity column 22222 (100.0%), 13643.89 column/sec. Elapsed time 1.63 sec\n",
      "NMFRecommender: URM Detected 479 ( 3.8%) users with no interactions.\n",
      "NMFRecommender: URM Detected 345 ( 1.6%) items with no interactions.\n",
      "NMFRecommender: Computing NMF decomposition...\n",
      "NMFRecommender: Computing NMF decomposition... done in 11.31 sec\n",
      "SLIMElasticNetRecommender: URM Detected 451 ( 3.6%) users with no interactions.\n",
      "SLIMElasticNetRecommender: URM Detected 311 ( 1.4%) items with no interactions.\n"
     ]
    },
    {
     "name": "stderr",
     "output_type": "stream",
     "text": [
      "100%|█████████▉| 22216/22222 [00:29<00:00, 743.17it/s]\n"
     ]
    },
    {
     "name": "stdout",
     "output_type": "stream",
     "text": [
      "RP3betaRecommender: URM Detected 451 ( 3.6%) users with no interactions.\n",
      "RP3betaRecommender: URM Detected 311 ( 1.4%) items with no interactions.\n",
      "RP3betaRecommender: Similarity column 22222 (100.0%), 9640.36 column/sec. Elapsed time 2.31 sec\n",
      "P3alphaRecommender: URM Detected 451 ( 3.6%) users with no interactions.\n",
      "P3alphaRecommender: URM Detected 311 ( 1.4%) items with no interactions.\n",
      "P3alphaRecommender: Similarity column 22222 (100.0%), 10439.49 column/sec. Elapsed time 2.13 sec\n",
      "ItemKNNCFRecommender: URM Detected 451 ( 3.6%) users with no interactions.\n",
      "ItemKNNCFRecommender: URM Detected 311 ( 1.4%) items with no interactions.\n",
      "Similarity column 22222 (100.0%), 13864.56 column/sec. Elapsed time 1.60 sec\n",
      "NMFRecommender: URM Detected 451 ( 3.6%) users with no interactions.\n",
      "NMFRecommender: URM Detected 311 ( 1.4%) items with no interactions.\n",
      "NMFRecommender: Computing NMF decomposition...\n",
      "NMFRecommender: Computing NMF decomposition... done in 11.52 sec\n",
      "SLIMElasticNetRecommender: URM Detected 449 ( 3.6%) users with no interactions.\n",
      "SLIMElasticNetRecommender: URM Detected 320 ( 1.4%) items with no interactions.\n"
     ]
    },
    {
     "name": "stderr",
     "output_type": "stream",
     "text": [
      "100%|█████████▉| 22216/22222 [00:29<00:00, 750.68it/s] \n"
     ]
    },
    {
     "name": "stdout",
     "output_type": "stream",
     "text": [
      "RP3betaRecommender: URM Detected 449 ( 3.6%) users with no interactions.\n",
      "RP3betaRecommender: URM Detected 320 ( 1.4%) items with no interactions.\n",
      "RP3betaRecommender: Similarity column 22222 (100.0%), 9468.74 column/sec. Elapsed time 2.35 sec\n",
      "P3alphaRecommender: URM Detected 449 ( 3.6%) users with no interactions.\n",
      "P3alphaRecommender: URM Detected 320 ( 1.4%) items with no interactions.\n",
      "P3alphaRecommender: Similarity column 22222 (100.0%), 10453.02 column/sec. Elapsed time 2.13 sec\n",
      "ItemKNNCFRecommender: URM Detected 449 ( 3.6%) users with no interactions.\n",
      "ItemKNNCFRecommender: URM Detected 320 ( 1.4%) items with no interactions.\n",
      "Similarity column 22222 (100.0%), 13836.30 column/sec. Elapsed time 1.61 sec\n",
      "NMFRecommender: URM Detected 449 ( 3.6%) users with no interactions.\n",
      "NMFRecommender: URM Detected 320 ( 1.4%) items with no interactions.\n",
      "NMFRecommender: Computing NMF decomposition...\n",
      "NMFRecommender: Computing NMF decomposition... done in 11.96 sec\n",
      "SLIMElasticNetRecommender: URM Detected 460 ( 3.6%) users with no interactions.\n",
      "SLIMElasticNetRecommender: URM Detected 328 ( 1.5%) items with no interactions.\n"
     ]
    },
    {
     "name": "stderr",
     "output_type": "stream",
     "text": [
      "100%|█████████▉| 22216/22222 [00:29<00:00, 747.40it/s] \n"
     ]
    },
    {
     "name": "stdout",
     "output_type": "stream",
     "text": [
      "RP3betaRecommender: URM Detected 460 ( 3.6%) users with no interactions.\n",
      "RP3betaRecommender: URM Detected 328 ( 1.5%) items with no interactions.\n",
      "RP3betaRecommender: Similarity column 22222 (100.0%), 9537.78 column/sec. Elapsed time 2.33 sec\n",
      "P3alphaRecommender: URM Detected 460 ( 3.6%) users with no interactions.\n",
      "P3alphaRecommender: URM Detected 328 ( 1.5%) items with no interactions.\n",
      "P3alphaRecommender: Similarity column 22222 (100.0%), 10576.04 column/sec. Elapsed time 2.10 sec\n",
      "ItemKNNCFRecommender: URM Detected 460 ( 3.6%) users with no interactions.\n",
      "ItemKNNCFRecommender: URM Detected 328 ( 1.5%) items with no interactions.\n",
      "Similarity column 22222 (100.0%), 13869.78 column/sec. Elapsed time 1.60 sec\n",
      "NMFRecommender: URM Detected 460 ( 3.6%) users with no interactions.\n",
      "NMFRecommender: URM Detected 328 ( 1.5%) items with no interactions.\n",
      "NMFRecommender: Computing NMF decomposition...\n",
      "NMFRecommender: Computing NMF decomposition... done in 11.56 sec\n",
      "SLIMElasticNetRecommender: URM Detected 426 ( 3.4%) users with no interactions.\n",
      "SLIMElasticNetRecommender: URM Detected 344 ( 1.5%) items with no interactions.\n"
     ]
    },
    {
     "name": "stderr",
     "output_type": "stream",
     "text": [
      "100%|█████████▉| 22216/22222 [00:29<00:00, 747.59it/s]\n"
     ]
    },
    {
     "name": "stdout",
     "output_type": "stream",
     "text": [
      "RP3betaRecommender: URM Detected 426 ( 3.4%) users with no interactions.\n",
      "RP3betaRecommender: URM Detected 344 ( 1.5%) items with no interactions.\n",
      "RP3betaRecommender: Similarity column 22222 (100.0%), 9612.36 column/sec. Elapsed time 2.31 sec\n",
      "P3alphaRecommender: URM Detected 426 ( 3.4%) users with no interactions.\n",
      "P3alphaRecommender: URM Detected 344 ( 1.5%) items with no interactions.\n",
      "P3alphaRecommender: Similarity column 22222 (100.0%), 10577.61 column/sec. Elapsed time 2.10 sec\n",
      "ItemKNNCFRecommender: URM Detected 426 ( 3.4%) users with no interactions.\n",
      "ItemKNNCFRecommender: URM Detected 344 ( 1.5%) items with no interactions.\n",
      "Similarity column 22222 (100.0%), 13799.76 column/sec. Elapsed time 1.61 sec\n",
      "NMFRecommender: URM Detected 426 ( 3.4%) users with no interactions.\n",
      "NMFRecommender: URM Detected 344 ( 1.5%) items with no interactions.\n",
      "NMFRecommender: Computing NMF decomposition...\n",
      "NMFRecommender: Computing NMF decomposition... done in 12.22 sec\n",
      "SLIMElasticNetRecommender: URM Detected 471 ( 3.7%) users with no interactions.\n",
      "SLIMElasticNetRecommender: URM Detected 362 ( 1.6%) items with no interactions.\n"
     ]
    },
    {
     "name": "stderr",
     "output_type": "stream",
     "text": [
      "100%|█████████▉| 22216/22222 [00:30<00:00, 738.32it/s]\n"
     ]
    },
    {
     "name": "stdout",
     "output_type": "stream",
     "text": [
      "RP3betaRecommender: URM Detected 471 ( 3.7%) users with no interactions.\n",
      "RP3betaRecommender: URM Detected 362 ( 1.6%) items with no interactions.\n",
      "RP3betaRecommender: Similarity column 22222 (100.0%), 9412.71 column/sec. Elapsed time 2.36 sec\n",
      "P3alphaRecommender: URM Detected 471 ( 3.7%) users with no interactions.\n",
      "P3alphaRecommender: URM Detected 362 ( 1.6%) items with no interactions.\n",
      "P3alphaRecommender: Similarity column 22222 (100.0%), 10484.33 column/sec. Elapsed time 2.12 sec\n",
      "ItemKNNCFRecommender: URM Detected 471 ( 3.7%) users with no interactions.\n",
      "ItemKNNCFRecommender: URM Detected 362 ( 1.6%) items with no interactions.\n",
      "Similarity column 22222 (100.0%), 13941.16 column/sec. Elapsed time 1.59 sec\n",
      "NMFRecommender: URM Detected 471 ( 3.7%) users with no interactions.\n",
      "NMFRecommender: URM Detected 362 ( 1.6%) items with no interactions.\n",
      "NMFRecommender: Computing NMF decomposition...\n",
      "NMFRecommender: Computing NMF decomposition... done in 9.43 sec\n",
      "SLIMElasticNetRecommender: URM Detected 478 ( 3.8%) users with no interactions.\n",
      "SLIMElasticNetRecommender: URM Detected 329 ( 1.5%) items with no interactions.\n"
     ]
    },
    {
     "name": "stderr",
     "output_type": "stream",
     "text": [
      "100%|█████████▉| 22216/22222 [00:30<00:00, 725.10it/s]\n"
     ]
    },
    {
     "name": "stdout",
     "output_type": "stream",
     "text": [
      "RP3betaRecommender: URM Detected 478 ( 3.8%) users with no interactions.\n",
      "RP3betaRecommender: URM Detected 329 ( 1.5%) items with no interactions.\n",
      "RP3betaRecommender: Similarity column 22222 (100.0%), 9456.40 column/sec. Elapsed time 2.35 sec\n",
      "P3alphaRecommender: URM Detected 478 ( 3.8%) users with no interactions.\n",
      "P3alphaRecommender: URM Detected 329 ( 1.5%) items with no interactions.\n",
      "P3alphaRecommender: Similarity column 22222 (100.0%), 10419.18 column/sec. Elapsed time 2.13 sec\n",
      "ItemKNNCFRecommender: URM Detected 478 ( 3.8%) users with no interactions.\n",
      "ItemKNNCFRecommender: URM Detected 329 ( 1.5%) items with no interactions.\n",
      "Similarity column 22222 (100.0%), 13797.02 column/sec. Elapsed time 1.61 sec\n",
      "NMFRecommender: URM Detected 478 ( 3.8%) users with no interactions.\n",
      "NMFRecommender: URM Detected 329 ( 1.5%) items with no interactions.\n",
      "NMFRecommender: Computing NMF decomposition...\n",
      "NMFRecommender: Computing NMF decomposition... done in 13.71 sec\n",
      "SLIMElasticNetRecommender: URM Detected 460 ( 3.6%) users with no interactions.\n",
      "SLIMElasticNetRecommender: URM Detected 348 ( 1.6%) items with no interactions.\n"
     ]
    },
    {
     "name": "stderr",
     "output_type": "stream",
     "text": [
      "100%|█████████▉| 22216/22222 [00:30<00:00, 724.01it/s]\n"
     ]
    },
    {
     "name": "stdout",
     "output_type": "stream",
     "text": [
      "RP3betaRecommender: URM Detected 460 ( 3.6%) users with no interactions.\n",
      "RP3betaRecommender: URM Detected 348 ( 1.6%) items with no interactions.\n",
      "RP3betaRecommender: Similarity column 22222 (100.0%), 9561.45 column/sec. Elapsed time 2.32 sec\n",
      "P3alphaRecommender: URM Detected 460 ( 3.6%) users with no interactions.\n",
      "P3alphaRecommender: URM Detected 348 ( 1.6%) items with no interactions.\n",
      "P3alphaRecommender: Similarity column 22222 (100.0%), 10442.94 column/sec. Elapsed time 2.13 sec\n",
      "ItemKNNCFRecommender: URM Detected 460 ( 3.6%) users with no interactions.\n",
      "ItemKNNCFRecommender: URM Detected 348 ( 1.6%) items with no interactions.\n",
      "Similarity column 22222 (100.0%), 13834.26 column/sec. Elapsed time 1.61 sec\n",
      "NMFRecommender: URM Detected 460 ( 3.6%) users with no interactions.\n",
      "NMFRecommender: URM Detected 348 ( 1.6%) items with no interactions.\n",
      "NMFRecommender: Computing NMF decomposition...\n",
      "NMFRecommender: Computing NMF decomposition... done in 11.09 sec\n"
     ]
    }
   ],
   "source": [
    "from Recommenders.GraphBased.P3alphaRecommender import P3alphaRecommender\n",
    "from Recommenders.GraphBased.RP3betaRecommender import RP3betaRecommender\n",
    "from Recommenders.SLIM.SLIMElasticNetRecommender import MultiThreadSLIM_SLIMElasticNetRecommender\n",
    "from Recommenders.MatrixFactorization.NMFRecommender import NMFRecommender\n",
    "from Recommenders.KNN.ItemKNNCFRecommender import ItemKNNCFRecommender\n",
    "from Recommenders.Hybrid.GeneralizedLinearHybridRecommender import GeneralizedLinearHybridRecommender\n",
    "\n",
    "slims = []\n",
    "rp3s = []\n",
    "p3s = []\n",
    "knns = []\n",
    "nmfs = []\n",
    "\n",
    "for i in range(k_fold):\n",
    "    slim = MultiThreadSLIM_SLIMElasticNetRecommender(urm_train[i])\n",
    "    slim.fit(workers=8, **slim_study.best_params)\n",
    "    slims.append(slim)\n",
    "\n",
    "    rp3 = RP3betaRecommender(urm_train[i])\n",
    "    rp3.fit(**rp3_study.best_params)\n",
    "    rp3s.append(rp3)\n",
    "\n",
    "    p3 = P3alphaRecommender(urm_train[i])\n",
    "    p3.fit(**p3_study.best_params)\n",
    "    p3s.append(p3)\n",
    "\n",
    "    knn = ItemKNNCFRecommender(urm_train[i])\n",
    "    knn.fit(**knn_study.best_params)\n",
    "    knns.append(knn)\n",
    "\n",
    "    nmf = NMFRecommender(urm_train[i])\n",
    "    nmf.fit(**mf_study.best_params)\n",
    "    nmfs.append(nmf)"
   ]
  },
  {
   "cell_type": "code",
   "execution_count": 16,
   "metadata": {},
   "outputs": [
    {
     "name": "stdout",
     "output_type": "stream",
     "text": [
      "SLIMElasticNetRP3betaP3alphaItemKNNCFNMFHybridRecommender: URM Detected 508 ( 4.0%) users with no interactions.\n",
      "SLIMElasticNetRP3betaP3alphaItemKNNCFNMFHybridRecommender: URM Detected 332 ( 1.5%) items with no interactions.\n",
      "SLIMElasticNetRP3betaP3alphaItemKNNCFNMFHybridRecommender: URM Detected 440 ( 3.5%) users with no interactions.\n",
      "SLIMElasticNetRP3betaP3alphaItemKNNCFNMFHybridRecommender: URM Detected 325 ( 1.5%) items with no interactions.\n",
      "SLIMElasticNetRP3betaP3alphaItemKNNCFNMFHybridRecommender: URM Detected 479 ( 3.8%) users with no interactions.\n",
      "SLIMElasticNetRP3betaP3alphaItemKNNCFNMFHybridRecommender: URM Detected 345 ( 1.6%) items with no interactions.\n",
      "SLIMElasticNetRP3betaP3alphaItemKNNCFNMFHybridRecommender: URM Detected 451 ( 3.6%) users with no interactions.\n",
      "SLIMElasticNetRP3betaP3alphaItemKNNCFNMFHybridRecommender: URM Detected 311 ( 1.4%) items with no interactions.\n",
      "SLIMElasticNetRP3betaP3alphaItemKNNCFNMFHybridRecommender: URM Detected 449 ( 3.6%) users with no interactions.\n",
      "SLIMElasticNetRP3betaP3alphaItemKNNCFNMFHybridRecommender: URM Detected 320 ( 1.4%) items with no interactions.\n",
      "SLIMElasticNetRP3betaP3alphaItemKNNCFNMFHybridRecommender: URM Detected 460 ( 3.6%) users with no interactions.\n",
      "SLIMElasticNetRP3betaP3alphaItemKNNCFNMFHybridRecommender: URM Detected 328 ( 1.5%) items with no interactions.\n",
      "SLIMElasticNetRP3betaP3alphaItemKNNCFNMFHybridRecommender: URM Detected 426 ( 3.4%) users with no interactions.\n",
      "SLIMElasticNetRP3betaP3alphaItemKNNCFNMFHybridRecommender: URM Detected 344 ( 1.5%) items with no interactions.\n",
      "SLIMElasticNetRP3betaP3alphaItemKNNCFNMFHybridRecommender: URM Detected 471 ( 3.7%) users with no interactions.\n",
      "SLIMElasticNetRP3betaP3alphaItemKNNCFNMFHybridRecommender: URM Detected 362 ( 1.6%) items with no interactions.\n",
      "SLIMElasticNetRP3betaP3alphaItemKNNCFNMFHybridRecommender: URM Detected 478 ( 3.8%) users with no interactions.\n",
      "SLIMElasticNetRP3betaP3alphaItemKNNCFNMFHybridRecommender: URM Detected 329 ( 1.5%) items with no interactions.\n",
      "SLIMElasticNetRP3betaP3alphaItemKNNCFNMFHybridRecommender: URM Detected 460 ( 3.6%) users with no interactions.\n",
      "SLIMElasticNetRP3betaP3alphaItemKNNCFNMFHybridRecommender: URM Detected 348 ( 1.6%) items with no interactions.\n"
     ]
    }
   ],
   "source": [
    "hybrids = []\n",
    "\n",
    "for i in range(k_fold):\n",
    "    hybrid = GeneralizedLinearHybridRecommender(urm_train[i], recommenders=[slims[i], rp3s[i], p3s[i], knns[i], nmfs[i]])\n",
    "    hybrids.append(hybrid)"
   ]
  },
  {
   "cell_type": "code",
   "execution_count": 17,
   "metadata": {},
   "outputs": [
    {
     "name": "stderr",
     "output_type": "stream",
     "text": [
      "[I 2024-01-10 10:01:48,884] A new study created in RDB with name: LINEAR_Hybrid_last\n"
     ]
    }
   ],
   "source": [
    "study = optuna.create_study(study_name=\"LINEAR_TOPPOP_Hybrid_last\", direction=\"maximize\", storage=storage, load_if_exists=True, sampler=optuna.samplers.TPESampler())"
   ]
  },
  {
   "cell_type": "code",
   "execution_count": 19,
   "metadata": {},
   "outputs": [],
   "source": [
    "def objective(trial):\n",
    "\n",
    "    alphas = []\n",
    "    for i in range(len(hybrids[0].recommenders)):\n",
    "        alphas.append(trial.suggest_float(f\"alpha_{i}\", 0, 1))\n",
    "\n",
    "    MAP = 0\n",
    "    for i in range(k_fold):\n",
    "        recommender = hybrids[i]\n",
    "        recommender.fit(alphas=alphas)\n",
    "\n",
    "        result_dict, _ = evaluator_validation[i].evaluateRecommender(recommender)\n",
    "        print(f\"MAP: {result_dict['MAP'].item()}, RECALL: {result_dict['RECALL'].item()}\")\n",
    "        MAP += result_dict[\"MAP\"].item()\n",
    "    \n",
    "    MAP /= k_fold\n",
    "    return MAP"
   ]
  },
  {
   "cell_type": "code",
   "execution_count": 23,
   "metadata": {},
   "outputs": [
    {
     "name": "stdout",
     "output_type": "stream",
     "text": [
      "EvaluatorHoldout: Processed 10057 (100.0%) in 7.87 sec. Users per second: 1277\n",
      "MAP: 0.030150317791761787, RECALL: 0.1183030190936985\n",
      "EvaluatorHoldout: Processed 10040 (100.0%) in 8.12 sec. Users per second: 1237\n",
      "MAP: 0.030466605799026415, RECALL: 0.11630107734564053\n",
      "EvaluatorHoldout: Processed 10017 (100.0%) in 8.06 sec. Users per second: 1243\n",
      "MAP: 0.029730042261489082, RECALL: 0.11456548494643881\n",
      "EvaluatorHoldout: Processed 10037 (100.0%) in 7.91 sec. Users per second: 1268\n",
      "MAP: 0.029969549175985623, RECALL: 0.11792955236529927\n",
      "EvaluatorHoldout: Processed 9989 (100.0%) in 7.61 sec. Users per second: 1312\n",
      "MAP: 0.03053717025235714, RECALL: 0.12192011943522219\n",
      "EvaluatorHoldout: Processed 10024 (100.0%) in 7.75 sec. Users per second: 1293\n",
      "MAP: 0.030301118585236944, RECALL: 0.11792474464013306\n",
      "EvaluatorHoldout: Processed 10030 (100.0%) in 8.16 sec. Users per second: 1229\n",
      "MAP: 0.030544604282391186, RECALL: 0.12186609672832321\n",
      "EvaluatorHoldout: Processed 10052 (100.0%) in 7.96 sec. Users per second: 1263\n",
      "MAP: 0.02982743306236167, RECALL: 0.11742156304713272\n",
      "EvaluatorHoldout: Processed 10045 (100.0%) in 8.40 sec. Users per second: 1196\n",
      "MAP: 0.030302183823587552, RECALL: 0.11305899712418384\n",
      "EvaluatorHoldout: Processed 10068 (100.0%) in 8.58 sec. Users per second: 1173\n",
      "MAP: 0.030448233756487832, RECALL: 0.12030109946413471\n"
     ]
    },
    {
     "name": "stderr",
     "output_type": "stream",
     "text": [
      "[I 2024-01-10 12:34:46,451] Trial 102 finished with value: 0.030227725879068516 and parameters: {'alpha_0': 0.5845979005895502, 'alpha_1': 0.9186732560164836, 'alpha_2': 0.3067220394343694, 'alpha_3': 0.15717607493000826, 'alpha_4': 0.4886211827284999}. Best is trial 53 with value: 0.031146826060747413.\n"
     ]
    },
    {
     "name": "stdout",
     "output_type": "stream",
     "text": [
      "EvaluatorHoldout: Processed 10057 (100.0%) in 7.67 sec. Users per second: 1311\n",
      "MAP: 0.030843260873339568, RECALL: 0.11915803786516443\n",
      "EvaluatorHoldout: Processed 10040 (100.0%) in 8.08 sec. Users per second: 1243\n",
      "MAP: 0.03127159615506259, RECALL: 0.11835567102036558\n",
      "EvaluatorHoldout: Processed 10017 (100.0%) in 8.17 sec. Users per second: 1226\n",
      "MAP: 0.030589814775199863, RECALL: 0.1157523998231087\n",
      "EvaluatorHoldout: Processed 10037 (100.0%) in 7.69 sec. Users per second: 1305\n",
      "MAP: 0.030930398794302552, RECALL: 0.11873052056054376\n",
      "EvaluatorHoldout: Processed 9989 (100.0%) in 7.68 sec. Users per second: 1301\n",
      "MAP: 0.03111901663258179, RECALL: 0.12355831838939316\n",
      "EvaluatorHoldout: Processed 10024 (100.0%) in 7.54 sec. Users per second: 1330\n",
      "MAP: 0.031344463763159115, RECALL: 0.11874348872019339\n",
      "EvaluatorHoldout: Processed 10030 (100.0%) in 7.33 sec. Users per second: 1368\n",
      "MAP: 0.03139093433983794, RECALL: 0.12369849519225322\n",
      "EvaluatorHoldout: Processed 10052 (100.0%) in 7.85 sec. Users per second: 1280\n",
      "MAP: 0.030558642677126893, RECALL: 0.117962503377314\n",
      "EvaluatorHoldout: Processed 10045 (100.0%) in 6.97 sec. Users per second: 1442\n",
      "MAP: 0.031016512993118424, RECALL: 0.11612320480169984\n",
      "EvaluatorHoldout: Processed 10068 (100.0%) in 7.71 sec. Users per second: 1305\n",
      "MAP: 0.031360376424441054, RECALL: 0.12190547765557841\n"
     ]
    },
    {
     "name": "stderr",
     "output_type": "stream",
     "text": [
      "[I 2024-01-10 12:36:16,651] Trial 103 finished with value: 0.03104250174281698 and parameters: {'alpha_0': 0.6072058501151534, 'alpha_1': 0.9770724730349598, 'alpha_2': 0.2849113047907532, 'alpha_3': 0.07958635639774483, 'alpha_4': 0.11728837717392554}. Best is trial 53 with value: 0.031146826060747413.\n"
     ]
    },
    {
     "name": "stdout",
     "output_type": "stream",
     "text": [
      "EvaluatorHoldout: Processed 10057 (100.0%) in 7.49 sec. Users per second: 1343\n",
      "MAP: 0.03090448727964909, RECALL: 0.11925443708845503\n",
      "EvaluatorHoldout: Processed 10040 (100.0%) in 7.43 sec. Users per second: 1351\n",
      "MAP: 0.03131256719155153, RECALL: 0.11834399911664505\n",
      "EvaluatorHoldout: Processed 10017 (100.0%) in 7.68 sec. Users per second: 1304\n",
      "MAP: 0.030587675554731856, RECALL: 0.11578450918472592\n",
      "EvaluatorHoldout: Processed 10037 (100.0%) in 7.17 sec. Users per second: 1399\n",
      "MAP: 0.03097972422671059, RECALL: 0.1190727800346781\n",
      "EvaluatorHoldout: Processed 9989 (100.0%) in 7.19 sec. Users per second: 1389\n",
      "MAP: 0.03115093666525255, RECALL: 0.12284912570182858\n",
      "EvaluatorHoldout: Processed 10024 (100.0%) in 7.58 sec. Users per second: 1322\n",
      "MAP: 0.031393073290769, RECALL: 0.11828849078269443\n",
      "EvaluatorHoldout: Processed 10030 (100.0%) in 7.72 sec. Users per second: 1300\n",
      "MAP: 0.03146201870578772, RECALL: 0.12389301274760084\n",
      "EvaluatorHoldout: Processed 10052 (100.0%) in 7.92 sec. Users per second: 1269\n",
      "MAP: 0.03051971415307099, RECALL: 0.11813581790700019\n",
      "EvaluatorHoldout: Processed 10045 (100.0%) in 7.70 sec. Users per second: 1305\n",
      "MAP: 0.031034084714025138, RECALL: 0.11588363720247921\n",
      "EvaluatorHoldout: Processed 10068 (100.0%) in 7.87 sec. Users per second: 1279\n",
      "MAP: 0.031330137603975745, RECALL: 0.12226308854774967\n"
     ]
    },
    {
     "name": "stderr",
     "output_type": "stream",
     "text": [
      "[I 2024-01-10 12:37:45,866] Trial 104 finished with value: 0.03106744193855242 and parameters: {'alpha_0': 0.46147693375610144, 'alpha_1': 0.9658940768711392, 'alpha_2': 0.273556872218319, 'alpha_3': 0.08148750577692641, 'alpha_4': 0.05771113585706904}. Best is trial 53 with value: 0.031146826060747413.\n"
     ]
    },
    {
     "name": "stdout",
     "output_type": "stream",
     "text": [
      "EvaluatorHoldout: Processed 10057 (100.0%) in 7.31 sec. Users per second: 1376\n",
      "MAP: 0.03089974841814382, RECALL: 0.11938233583359861\n",
      "EvaluatorHoldout: Processed 10040 (100.0%) in 6.87 sec. Users per second: 1462\n",
      "MAP: 0.03135854597483113, RECALL: 0.1184591639313131\n",
      "EvaluatorHoldout: Processed 10017 (100.0%) in 7.26 sec. Users per second: 1381\n",
      "MAP: 0.03063030942635646, RECALL: 0.11616621183930603\n",
      "EvaluatorHoldout: Processed 10037 (100.0%) in 7.82 sec. Users per second: 1284\n",
      "MAP: 0.031003275974134003, RECALL: 0.11943220058447983\n",
      "EvaluatorHoldout: Processed 9989 (100.0%) in 7.96 sec. Users per second: 1256\n",
      "MAP: 0.03119019810680658, RECALL: 0.12298689892700565\n",
      "EvaluatorHoldout: Processed 10024 (100.0%) in 7.76 sec. Users per second: 1291\n",
      "MAP: 0.03139224987015308, RECALL: 0.11864342335795977\n",
      "EvaluatorHoldout: Processed 10030 (100.0%) in 7.30 sec. Users per second: 1374\n",
      "MAP: 0.03149620978334868, RECALL: 0.12411927283087223\n",
      "EvaluatorHoldout: Processed 10052 (100.0%) in 7.48 sec. Users per second: 1344\n",
      "MAP: 0.030567769819162868, RECALL: 0.11827926438383815\n",
      "EvaluatorHoldout: Processed 10045 (100.0%) in 7.60 sec. Users per second: 1322\n",
      "MAP: 0.0310895138543224, RECALL: 0.11613660057960774\n",
      "EvaluatorHoldout: Processed 10068 (100.0%) in 7.02 sec. Users per second: 1434\n",
      "MAP: 0.03135908362815422, RECALL: 0.12215401562148859\n"
     ]
    },
    {
     "name": "stderr",
     "output_type": "stream",
     "text": [
      "[I 2024-01-10 12:39:13,716] Trial 105 finished with value: 0.031098690485541324 and parameters: {'alpha_0': 0.5121663962625609, 'alpha_1': 0.9759596883147302, 'alpha_2': 0.2810761585336381, 'alpha_3': 0.08273903117088956, 'alpha_4': 0.05008111946853931}. Best is trial 53 with value: 0.031146826060747413.\n"
     ]
    },
    {
     "name": "stdout",
     "output_type": "stream",
     "text": [
      "EvaluatorHoldout: Processed 10057 (100.0%) in 7.46 sec. Users per second: 1349\n",
      "MAP: 0.030928718210959685, RECALL: 0.11962136561083608\n",
      "EvaluatorHoldout: Processed 10040 (100.0%) in 7.63 sec. Users per second: 1316\n",
      "MAP: 0.03141870612786979, RECALL: 0.11843171774969342\n",
      "EvaluatorHoldout: Processed 10017 (100.0%) in 7.76 sec. Users per second: 1291\n",
      "MAP: 0.03063068973221746, RECALL: 0.11622802846010276\n",
      "EvaluatorHoldout: Processed 10037 (100.0%) in 7.46 sec. Users per second: 1346\n",
      "MAP: 0.031026744695420824, RECALL: 0.1191398396153836\n",
      "EvaluatorHoldout: Processed 9989 (100.0%) in 7.79 sec. Users per second: 1283\n",
      "MAP: 0.031224807605826868, RECALL: 0.12331258622485525\n",
      "EvaluatorHoldout: Processed 10024 (100.0%) in 7.07 sec. Users per second: 1418\n",
      "MAP: 0.03137155746842512, RECALL: 0.1186867104189563\n",
      "EvaluatorHoldout: Processed 10030 (100.0%) in 7.63 sec. Users per second: 1314\n",
      "MAP: 0.03151793033597646, RECALL: 0.12394044474337869\n",
      "EvaluatorHoldout: Processed 10052 (100.0%) in 7.60 sec. Users per second: 1323\n",
      "MAP: 0.030535765606149973, RECALL: 0.11816877301519295\n",
      "EvaluatorHoldout: Processed 10045 (100.0%) in 7.22 sec. Users per second: 1392\n",
      "MAP: 0.031102676843095086, RECALL: 0.11606179615879905\n",
      "EvaluatorHoldout: Processed 10068 (100.0%) in 7.85 sec. Users per second: 1282\n",
      "MAP: 0.031271453323747984, RECALL: 0.12193954732967709\n"
     ]
    },
    {
     "name": "stderr",
     "output_type": "stream",
     "text": [
      "[I 2024-01-10 12:40:42,643] Trial 106 finished with value: 0.031102904994968927 and parameters: {'alpha_0': 0.4556775828443981, 'alpha_1': 0.9793970456793708, 'alpha_2': 0.223187193795333, 'alpha_3': 0.0912898015817012, 'alpha_4': 0.0490794871804618}. Best is trial 53 with value: 0.031146826060747413.\n"
     ]
    },
    {
     "name": "stdout",
     "output_type": "stream",
     "text": [
      "EvaluatorHoldout: Processed 10057 (100.0%) in 7.31 sec. Users per second: 1376\n",
      "MAP: 0.03074645157522778, RECALL: 0.11869089472249807\n",
      "EvaluatorHoldout: Processed 10040 (100.0%) in 6.91 sec. Users per second: 1452\n",
      "MAP: 0.031215985265288237, RECALL: 0.11799191001335634\n",
      "EvaluatorHoldout: Processed 10017 (100.0%) in 7.85 sec. Users per second: 1275\n",
      "MAP: 0.03070390257197716, RECALL: 0.11635963258108838\n",
      "EvaluatorHoldout: Processed 10037 (100.0%) in 7.45 sec. Users per second: 1347\n",
      "MAP: 0.031010681114796084, RECALL: 0.12013586082715348\n",
      "EvaluatorHoldout: Processed 9989 (100.0%) in 7.77 sec. Users per second: 1285\n",
      "MAP: 0.030953060271060234, RECALL: 0.12337779205533406\n",
      "EvaluatorHoldout: Processed 10024 (100.0%) in 7.86 sec. Users per second: 1275\n",
      "MAP: 0.031189870501273257, RECALL: 0.11906149755537745\n",
      "EvaluatorHoldout: Processed 10030 (100.0%) in 7.36 sec. Users per second: 1363\n",
      "MAP: 0.0313625314532594, RECALL: 0.12355143481002356\n",
      "EvaluatorHoldout: Processed 10052 (100.0%) in 7.54 sec. Users per second: 1333\n",
      "MAP: 0.03046868584945616, RECALL: 0.11862377109234176\n"
     ]
    },
    {
     "name": "stderr",
     "output_type": "stream",
     "text": [
      "[W 2024-01-10 12:41:55,479] Trial 107 failed with parameters: {'alpha_0': 0.3819594899768928, 'alpha_1': 0.9789231418363344, 'alpha_2': 0.222977036980774, 'alpha_3': 0.19725729918802395, 'alpha_4': 0.04756946758555092} because of the following error: KeyboardInterrupt().\n",
      "Traceback (most recent call last):\n",
      "  File \"/home/japo/miniconda3/envs/RecSysFramework/lib/python3.8/site-packages/optuna/study/_optimize.py\", line 200, in _run_trial\n",
      "    value_or_values = func(trial)\n",
      "  File \"/tmp/ipykernel_387424/2033201123.py\", line 12, in objective\n",
      "    result_dict, _ = evaluator_validation[i].evaluateRecommender(recommender)\n",
      "  File \"/home/japo/RecSys-Challenge/Evaluation/Evaluator.py\", line 276, in evaluateRecommender\n",
      "    results_dict = self._run_evaluation_on_selected_users(recommender_object, self.users_to_evaluate)\n",
      "  File \"/home/japo/RecSys-Challenge/Evaluation/Evaluator.py\", line 476, in _run_evaluation_on_selected_users\n",
      "    recommended_items_batch_list, scores_batch = recommender_object.recommend(test_user_batch_array,\n",
      "  File \"/home/japo/RecSys-Challenge/Recommenders/BaseRecommender.py\", line 169, in recommend\n",
      "    relevant_items_partition = np.argpartition(-scores_batch, cutoff-1, axis=1)[:,0:cutoff]\n",
      "  File \"<__array_function__ internals>\", line 180, in argpartition\n",
      "  File \"/home/japo/miniconda3/envs/RecSysFramework/lib/python3.8/site-packages/numpy/core/fromnumeric.py\", line 845, in argpartition\n",
      "    return _wrapfunc(a, 'argpartition', kth, axis=axis, kind=kind, order=order)\n",
      "  File \"/home/japo/miniconda3/envs/RecSysFramework/lib/python3.8/site-packages/numpy/core/fromnumeric.py\", line 57, in _wrapfunc\n",
      "    return bound(*args, **kwds)\n",
      "KeyboardInterrupt\n",
      "[W 2024-01-10 12:41:55,480] Trial 107 failed with value None.\n"
     ]
    },
    {
     "ename": "KeyboardInterrupt",
     "evalue": "",
     "output_type": "error",
     "traceback": [
      "\u001b[0;31m---------------------------------------------------------------------------\u001b[0m",
      "\u001b[0;31mKeyboardInterrupt\u001b[0m                         Traceback (most recent call last)",
      "Cell \u001b[0;32mIn[23], line 1\u001b[0m\n\u001b[0;32m----> 1\u001b[0m \u001b[43mstudy\u001b[49m\u001b[38;5;241;43m.\u001b[39;49m\u001b[43moptimize\u001b[49m\u001b[43m(\u001b[49m\u001b[43mobjective\u001b[49m\u001b[43m,\u001b[49m\u001b[43m \u001b[49m\u001b[43mn_trials\u001b[49m\u001b[38;5;241;43m=\u001b[39;49m\u001b[38;5;241;43m200\u001b[39;49m\u001b[43m)\u001b[49m\n",
      "File \u001b[0;32m~/miniconda3/envs/RecSysFramework/lib/python3.8/site-packages/optuna/study/study.py:451\u001b[0m, in \u001b[0;36mStudy.optimize\u001b[0;34m(self, func, n_trials, timeout, n_jobs, catch, callbacks, gc_after_trial, show_progress_bar)\u001b[0m\n\u001b[1;32m    348\u001b[0m \u001b[38;5;28;01mdef\u001b[39;00m \u001b[38;5;21moptimize\u001b[39m(\n\u001b[1;32m    349\u001b[0m     \u001b[38;5;28mself\u001b[39m,\n\u001b[1;32m    350\u001b[0m     func: ObjectiveFuncType,\n\u001b[0;32m   (...)\u001b[0m\n\u001b[1;32m    357\u001b[0m     show_progress_bar: \u001b[38;5;28mbool\u001b[39m \u001b[38;5;241m=\u001b[39m \u001b[38;5;28;01mFalse\u001b[39;00m,\n\u001b[1;32m    358\u001b[0m ) \u001b[38;5;241m-\u001b[39m\u001b[38;5;241m>\u001b[39m \u001b[38;5;28;01mNone\u001b[39;00m:\n\u001b[1;32m    359\u001b[0m \u001b[38;5;250m    \u001b[39m\u001b[38;5;124;03m\"\"\"Optimize an objective function.\u001b[39;00m\n\u001b[1;32m    360\u001b[0m \n\u001b[1;32m    361\u001b[0m \u001b[38;5;124;03m    Optimization is done by choosing a suitable set of hyperparameter values from a given\u001b[39;00m\n\u001b[0;32m   (...)\u001b[0m\n\u001b[1;32m    449\u001b[0m \u001b[38;5;124;03m            If nested invocation of this method occurs.\u001b[39;00m\n\u001b[1;32m    450\u001b[0m \u001b[38;5;124;03m    \"\"\"\u001b[39;00m\n\u001b[0;32m--> 451\u001b[0m     \u001b[43m_optimize\u001b[49m\u001b[43m(\u001b[49m\n\u001b[1;32m    452\u001b[0m \u001b[43m        \u001b[49m\u001b[43mstudy\u001b[49m\u001b[38;5;241;43m=\u001b[39;49m\u001b[38;5;28;43mself\u001b[39;49m\u001b[43m,\u001b[49m\n\u001b[1;32m    453\u001b[0m \u001b[43m        \u001b[49m\u001b[43mfunc\u001b[49m\u001b[38;5;241;43m=\u001b[39;49m\u001b[43mfunc\u001b[49m\u001b[43m,\u001b[49m\n\u001b[1;32m    454\u001b[0m \u001b[43m        \u001b[49m\u001b[43mn_trials\u001b[49m\u001b[38;5;241;43m=\u001b[39;49m\u001b[43mn_trials\u001b[49m\u001b[43m,\u001b[49m\n\u001b[1;32m    455\u001b[0m \u001b[43m        \u001b[49m\u001b[43mtimeout\u001b[49m\u001b[38;5;241;43m=\u001b[39;49m\u001b[43mtimeout\u001b[49m\u001b[43m,\u001b[49m\n\u001b[1;32m    456\u001b[0m \u001b[43m        \u001b[49m\u001b[43mn_jobs\u001b[49m\u001b[38;5;241;43m=\u001b[39;49m\u001b[43mn_jobs\u001b[49m\u001b[43m,\u001b[49m\n\u001b[1;32m    457\u001b[0m \u001b[43m        \u001b[49m\u001b[43mcatch\u001b[49m\u001b[38;5;241;43m=\u001b[39;49m\u001b[38;5;28;43mtuple\u001b[39;49m\u001b[43m(\u001b[49m\u001b[43mcatch\u001b[49m\u001b[43m)\u001b[49m\u001b[43m \u001b[49m\u001b[38;5;28;43;01mif\u001b[39;49;00m\u001b[43m \u001b[49m\u001b[38;5;28;43misinstance\u001b[39;49m\u001b[43m(\u001b[49m\u001b[43mcatch\u001b[49m\u001b[43m,\u001b[49m\u001b[43m \u001b[49m\u001b[43mIterable\u001b[49m\u001b[43m)\u001b[49m\u001b[43m \u001b[49m\u001b[38;5;28;43;01melse\u001b[39;49;00m\u001b[43m \u001b[49m\u001b[43m(\u001b[49m\u001b[43mcatch\u001b[49m\u001b[43m,\u001b[49m\u001b[43m)\u001b[49m\u001b[43m,\u001b[49m\n\u001b[1;32m    458\u001b[0m \u001b[43m        \u001b[49m\u001b[43mcallbacks\u001b[49m\u001b[38;5;241;43m=\u001b[39;49m\u001b[43mcallbacks\u001b[49m\u001b[43m,\u001b[49m\n\u001b[1;32m    459\u001b[0m \u001b[43m        \u001b[49m\u001b[43mgc_after_trial\u001b[49m\u001b[38;5;241;43m=\u001b[39;49m\u001b[43mgc_after_trial\u001b[49m\u001b[43m,\u001b[49m\n\u001b[1;32m    460\u001b[0m \u001b[43m        \u001b[49m\u001b[43mshow_progress_bar\u001b[49m\u001b[38;5;241;43m=\u001b[39;49m\u001b[43mshow_progress_bar\u001b[49m\u001b[43m,\u001b[49m\n\u001b[1;32m    461\u001b[0m \u001b[43m    \u001b[49m\u001b[43m)\u001b[49m\n",
      "File \u001b[0;32m~/miniconda3/envs/RecSysFramework/lib/python3.8/site-packages/optuna/study/_optimize.py:66\u001b[0m, in \u001b[0;36m_optimize\u001b[0;34m(study, func, n_trials, timeout, n_jobs, catch, callbacks, gc_after_trial, show_progress_bar)\u001b[0m\n\u001b[1;32m     64\u001b[0m \u001b[38;5;28;01mtry\u001b[39;00m:\n\u001b[1;32m     65\u001b[0m     \u001b[38;5;28;01mif\u001b[39;00m n_jobs \u001b[38;5;241m==\u001b[39m \u001b[38;5;241m1\u001b[39m:\n\u001b[0;32m---> 66\u001b[0m         \u001b[43m_optimize_sequential\u001b[49m\u001b[43m(\u001b[49m\n\u001b[1;32m     67\u001b[0m \u001b[43m            \u001b[49m\u001b[43mstudy\u001b[49m\u001b[43m,\u001b[49m\n\u001b[1;32m     68\u001b[0m \u001b[43m            \u001b[49m\u001b[43mfunc\u001b[49m\u001b[43m,\u001b[49m\n\u001b[1;32m     69\u001b[0m \u001b[43m            \u001b[49m\u001b[43mn_trials\u001b[49m\u001b[43m,\u001b[49m\n\u001b[1;32m     70\u001b[0m \u001b[43m            \u001b[49m\u001b[43mtimeout\u001b[49m\u001b[43m,\u001b[49m\n\u001b[1;32m     71\u001b[0m \u001b[43m            \u001b[49m\u001b[43mcatch\u001b[49m\u001b[43m,\u001b[49m\n\u001b[1;32m     72\u001b[0m \u001b[43m            \u001b[49m\u001b[43mcallbacks\u001b[49m\u001b[43m,\u001b[49m\n\u001b[1;32m     73\u001b[0m \u001b[43m            \u001b[49m\u001b[43mgc_after_trial\u001b[49m\u001b[43m,\u001b[49m\n\u001b[1;32m     74\u001b[0m \u001b[43m            \u001b[49m\u001b[43mreseed_sampler_rng\u001b[49m\u001b[38;5;241;43m=\u001b[39;49m\u001b[38;5;28;43;01mFalse\u001b[39;49;00m\u001b[43m,\u001b[49m\n\u001b[1;32m     75\u001b[0m \u001b[43m            \u001b[49m\u001b[43mtime_start\u001b[49m\u001b[38;5;241;43m=\u001b[39;49m\u001b[38;5;28;43;01mNone\u001b[39;49;00m\u001b[43m,\u001b[49m\n\u001b[1;32m     76\u001b[0m \u001b[43m            \u001b[49m\u001b[43mprogress_bar\u001b[49m\u001b[38;5;241;43m=\u001b[39;49m\u001b[43mprogress_bar\u001b[49m\u001b[43m,\u001b[49m\n\u001b[1;32m     77\u001b[0m \u001b[43m        \u001b[49m\u001b[43m)\u001b[49m\n\u001b[1;32m     78\u001b[0m     \u001b[38;5;28;01melse\u001b[39;00m:\n\u001b[1;32m     79\u001b[0m         \u001b[38;5;28;01mif\u001b[39;00m n_jobs \u001b[38;5;241m==\u001b[39m \u001b[38;5;241m-\u001b[39m\u001b[38;5;241m1\u001b[39m:\n",
      "File \u001b[0;32m~/miniconda3/envs/RecSysFramework/lib/python3.8/site-packages/optuna/study/_optimize.py:163\u001b[0m, in \u001b[0;36m_optimize_sequential\u001b[0;34m(study, func, n_trials, timeout, catch, callbacks, gc_after_trial, reseed_sampler_rng, time_start, progress_bar)\u001b[0m\n\u001b[1;32m    160\u001b[0m         \u001b[38;5;28;01mbreak\u001b[39;00m\n\u001b[1;32m    162\u001b[0m \u001b[38;5;28;01mtry\u001b[39;00m:\n\u001b[0;32m--> 163\u001b[0m     frozen_trial \u001b[38;5;241m=\u001b[39m \u001b[43m_run_trial\u001b[49m\u001b[43m(\u001b[49m\u001b[43mstudy\u001b[49m\u001b[43m,\u001b[49m\u001b[43m \u001b[49m\u001b[43mfunc\u001b[49m\u001b[43m,\u001b[49m\u001b[43m \u001b[49m\u001b[43mcatch\u001b[49m\u001b[43m)\u001b[49m\n\u001b[1;32m    164\u001b[0m \u001b[38;5;28;01mfinally\u001b[39;00m:\n\u001b[1;32m    165\u001b[0m     \u001b[38;5;66;03m# The following line mitigates memory problems that can be occurred in some\u001b[39;00m\n\u001b[1;32m    166\u001b[0m     \u001b[38;5;66;03m# environments (e.g., services that use computing containers such as GitHub Actions).\u001b[39;00m\n\u001b[1;32m    167\u001b[0m     \u001b[38;5;66;03m# Please refer to the following PR for further details:\u001b[39;00m\n\u001b[1;32m    168\u001b[0m     \u001b[38;5;66;03m# https://github.com/optuna/optuna/pull/325.\u001b[39;00m\n\u001b[1;32m    169\u001b[0m     \u001b[38;5;28;01mif\u001b[39;00m gc_after_trial:\n",
      "File \u001b[0;32m~/miniconda3/envs/RecSysFramework/lib/python3.8/site-packages/optuna/study/_optimize.py:251\u001b[0m, in \u001b[0;36m_run_trial\u001b[0;34m(study, func, catch)\u001b[0m\n\u001b[1;32m    244\u001b[0m         \u001b[38;5;28;01massert\u001b[39;00m \u001b[38;5;28;01mFalse\u001b[39;00m, \u001b[38;5;124m\"\u001b[39m\u001b[38;5;124mShould not reach.\u001b[39m\u001b[38;5;124m\"\u001b[39m\n\u001b[1;32m    246\u001b[0m \u001b[38;5;28;01mif\u001b[39;00m (\n\u001b[1;32m    247\u001b[0m     frozen_trial\u001b[38;5;241m.\u001b[39mstate \u001b[38;5;241m==\u001b[39m TrialState\u001b[38;5;241m.\u001b[39mFAIL\n\u001b[1;32m    248\u001b[0m     \u001b[38;5;129;01mand\u001b[39;00m func_err \u001b[38;5;129;01mis\u001b[39;00m \u001b[38;5;129;01mnot\u001b[39;00m \u001b[38;5;28;01mNone\u001b[39;00m\n\u001b[1;32m    249\u001b[0m     \u001b[38;5;129;01mand\u001b[39;00m \u001b[38;5;129;01mnot\u001b[39;00m \u001b[38;5;28misinstance\u001b[39m(func_err, catch)\n\u001b[1;32m    250\u001b[0m ):\n\u001b[0;32m--> 251\u001b[0m     \u001b[38;5;28;01mraise\u001b[39;00m func_err\n\u001b[1;32m    252\u001b[0m \u001b[38;5;28;01mreturn\u001b[39;00m frozen_trial\n",
      "File \u001b[0;32m~/miniconda3/envs/RecSysFramework/lib/python3.8/site-packages/optuna/study/_optimize.py:200\u001b[0m, in \u001b[0;36m_run_trial\u001b[0;34m(study, func, catch)\u001b[0m\n\u001b[1;32m    198\u001b[0m \u001b[38;5;28;01mwith\u001b[39;00m get_heartbeat_thread(trial\u001b[38;5;241m.\u001b[39m_trial_id, study\u001b[38;5;241m.\u001b[39m_storage):\n\u001b[1;32m    199\u001b[0m     \u001b[38;5;28;01mtry\u001b[39;00m:\n\u001b[0;32m--> 200\u001b[0m         value_or_values \u001b[38;5;241m=\u001b[39m \u001b[43mfunc\u001b[49m\u001b[43m(\u001b[49m\u001b[43mtrial\u001b[49m\u001b[43m)\u001b[49m\n\u001b[1;32m    201\u001b[0m     \u001b[38;5;28;01mexcept\u001b[39;00m exceptions\u001b[38;5;241m.\u001b[39mTrialPruned \u001b[38;5;28;01mas\u001b[39;00m e:\n\u001b[1;32m    202\u001b[0m         \u001b[38;5;66;03m# TODO(mamu): Handle multi-objective cases.\u001b[39;00m\n\u001b[1;32m    203\u001b[0m         state \u001b[38;5;241m=\u001b[39m TrialState\u001b[38;5;241m.\u001b[39mPRUNED\n",
      "Cell \u001b[0;32mIn[19], line 12\u001b[0m, in \u001b[0;36mobjective\u001b[0;34m(trial)\u001b[0m\n\u001b[1;32m      9\u001b[0m recommender \u001b[38;5;241m=\u001b[39m hybrids[i]\n\u001b[1;32m     10\u001b[0m recommender\u001b[38;5;241m.\u001b[39mfit(alphas\u001b[38;5;241m=\u001b[39malphas)\n\u001b[0;32m---> 12\u001b[0m result_dict, _ \u001b[38;5;241m=\u001b[39m \u001b[43mevaluator_validation\u001b[49m\u001b[43m[\u001b[49m\u001b[43mi\u001b[49m\u001b[43m]\u001b[49m\u001b[38;5;241;43m.\u001b[39;49m\u001b[43mevaluateRecommender\u001b[49m\u001b[43m(\u001b[49m\u001b[43mrecommender\u001b[49m\u001b[43m)\u001b[49m\n\u001b[1;32m     13\u001b[0m \u001b[38;5;28mprint\u001b[39m(\u001b[38;5;124mf\u001b[39m\u001b[38;5;124m\"\u001b[39m\u001b[38;5;124mMAP: \u001b[39m\u001b[38;5;132;01m{\u001b[39;00mresult_dict[\u001b[38;5;124m'\u001b[39m\u001b[38;5;124mMAP\u001b[39m\u001b[38;5;124m'\u001b[39m]\u001b[38;5;241m.\u001b[39mitem()\u001b[38;5;132;01m}\u001b[39;00m\u001b[38;5;124m, RECALL: \u001b[39m\u001b[38;5;132;01m{\u001b[39;00mresult_dict[\u001b[38;5;124m'\u001b[39m\u001b[38;5;124mRECALL\u001b[39m\u001b[38;5;124m'\u001b[39m]\u001b[38;5;241m.\u001b[39mitem()\u001b[38;5;132;01m}\u001b[39;00m\u001b[38;5;124m\"\u001b[39m)\n\u001b[1;32m     14\u001b[0m MAP \u001b[38;5;241m+\u001b[39m\u001b[38;5;241m=\u001b[39m result_dict[\u001b[38;5;124m\"\u001b[39m\u001b[38;5;124mMAP\u001b[39m\u001b[38;5;124m\"\u001b[39m]\u001b[38;5;241m.\u001b[39mitem()\n",
      "File \u001b[0;32m~/RecSys-Challenge/Evaluation/Evaluator.py:276\u001b[0m, in \u001b[0;36mEvaluator.evaluateRecommender\u001b[0;34m(self, recommender_object)\u001b[0m\n\u001b[1;32m    273\u001b[0m \u001b[38;5;28mself\u001b[39m\u001b[38;5;241m.\u001b[39m_start_time_print \u001b[38;5;241m=\u001b[39m time\u001b[38;5;241m.\u001b[39mtime()\n\u001b[1;32m    274\u001b[0m \u001b[38;5;28mself\u001b[39m\u001b[38;5;241m.\u001b[39m_n_users_evaluated \u001b[38;5;241m=\u001b[39m \u001b[38;5;241m0\u001b[39m\n\u001b[0;32m--> 276\u001b[0m results_dict \u001b[38;5;241m=\u001b[39m \u001b[38;5;28;43mself\u001b[39;49m\u001b[38;5;241;43m.\u001b[39;49m\u001b[43m_run_evaluation_on_selected_users\u001b[49m\u001b[43m(\u001b[49m\u001b[43mrecommender_object\u001b[49m\u001b[43m,\u001b[49m\u001b[43m \u001b[49m\u001b[38;5;28;43mself\u001b[39;49m\u001b[38;5;241;43m.\u001b[39;49m\u001b[43musers_to_evaluate\u001b[49m\u001b[43m)\u001b[49m\n\u001b[1;32m    279\u001b[0m \u001b[38;5;28;01mif\u001b[39;00m \u001b[38;5;28mself\u001b[39m\u001b[38;5;241m.\u001b[39m_n_users_evaluated \u001b[38;5;241m>\u001b[39m \u001b[38;5;241m0\u001b[39m:\n\u001b[1;32m    281\u001b[0m     \u001b[38;5;28;01mfor\u001b[39;00m cutoff \u001b[38;5;129;01min\u001b[39;00m \u001b[38;5;28mself\u001b[39m\u001b[38;5;241m.\u001b[39mcutoff_list:\n",
      "File \u001b[0;32m~/RecSys-Challenge/Evaluation/Evaluator.py:476\u001b[0m, in \u001b[0;36mEvaluatorHoldout._run_evaluation_on_selected_users\u001b[0;34m(self, recommender_object, users_to_evaluate, block_size)\u001b[0m\n\u001b[1;32m    473\u001b[0m     user_batch_start \u001b[38;5;241m=\u001b[39m user_batch_end\n\u001b[1;32m    475\u001b[0m     \u001b[38;5;66;03m# Compute predictions for a batch of users using vectorization, much more efficient than computing it one at a time\u001b[39;00m\n\u001b[0;32m--> 476\u001b[0m     recommended_items_batch_list, scores_batch \u001b[38;5;241m=\u001b[39m \u001b[43mrecommender_object\u001b[49m\u001b[38;5;241;43m.\u001b[39;49m\u001b[43mrecommend\u001b[49m\u001b[43m(\u001b[49m\u001b[43mtest_user_batch_array\u001b[49m\u001b[43m,\u001b[49m\n\u001b[1;32m    477\u001b[0m \u001b[43m                                                              \u001b[49m\u001b[43mremove_seen_flag\u001b[49m\u001b[38;5;241;43m=\u001b[39;49m\u001b[38;5;28;43mself\u001b[39;49m\u001b[38;5;241;43m.\u001b[39;49m\u001b[43mexclude_seen\u001b[49m\u001b[43m,\u001b[49m\n\u001b[1;32m    478\u001b[0m \u001b[43m                                                              \u001b[49m\u001b[43mcutoff\u001b[49m\u001b[43m \u001b[49m\u001b[38;5;241;43m=\u001b[39;49m\u001b[43m \u001b[49m\u001b[38;5;28;43mself\u001b[39;49m\u001b[38;5;241;43m.\u001b[39;49m\u001b[43mmax_cutoff\u001b[49m\u001b[43m,\u001b[49m\n\u001b[1;32m    479\u001b[0m \u001b[43m                                                              \u001b[49m\u001b[43mremove_top_pop_flag\u001b[49m\u001b[38;5;241;43m=\u001b[39;49m\u001b[38;5;28;43;01mFalse\u001b[39;49;00m\u001b[43m,\u001b[49m\n\u001b[1;32m    480\u001b[0m \u001b[43m                                                              \u001b[49m\u001b[43mremove_custom_items_flag\u001b[49m\u001b[38;5;241;43m=\u001b[39;49m\u001b[38;5;28;43mself\u001b[39;49m\u001b[38;5;241;43m.\u001b[39;49m\u001b[43mignore_items_flag\u001b[49m\u001b[43m,\u001b[49m\n\u001b[1;32m    481\u001b[0m \u001b[43m                                                              \u001b[49m\u001b[43mreturn_scores\u001b[49m\u001b[43m \u001b[49m\u001b[38;5;241;43m=\u001b[39;49m\u001b[43m \u001b[49m\u001b[38;5;28;43;01mTrue\u001b[39;49;00m\n\u001b[1;32m    482\u001b[0m \u001b[43m                                                             \u001b[49m\u001b[43m)\u001b[49m\n\u001b[1;32m    484\u001b[0m     results_dict \u001b[38;5;241m=\u001b[39m \u001b[38;5;28mself\u001b[39m\u001b[38;5;241m.\u001b[39m_compute_metrics_on_recommendation_list(test_user_batch_array \u001b[38;5;241m=\u001b[39m test_user_batch_array,\n\u001b[1;32m    485\u001b[0m                                                  recommended_items_batch_list \u001b[38;5;241m=\u001b[39m recommended_items_batch_list,\n\u001b[1;32m    486\u001b[0m                                                  scores_batch \u001b[38;5;241m=\u001b[39m scores_batch,\n\u001b[1;32m    487\u001b[0m                                                  results_dict \u001b[38;5;241m=\u001b[39m results_dict)\n\u001b[1;32m    490\u001b[0m \u001b[38;5;28;01mreturn\u001b[39;00m results_dict\n",
      "File \u001b[0;32m~/RecSys-Challenge/Recommenders/BaseRecommender.py:169\u001b[0m, in \u001b[0;36mBaseRecommender.recommend\u001b[0;34m(self, user_id_array, cutoff, remove_seen_flag, items_to_compute, remove_top_pop_flag, remove_custom_items_flag, return_scores)\u001b[0m\n\u001b[1;32m    162\u001b[0m     scores_batch \u001b[38;5;241m=\u001b[39m \u001b[38;5;28mself\u001b[39m\u001b[38;5;241m.\u001b[39m_remove_custom_items_on_scores(scores_batch)\n\u001b[1;32m    164\u001b[0m \u001b[38;5;66;03m# Sorting is done in three steps. Faster then plain np.argsort for higher number of items\u001b[39;00m\n\u001b[1;32m    165\u001b[0m \u001b[38;5;66;03m# - Partition the data to extract the set of relevant items\u001b[39;00m\n\u001b[1;32m    166\u001b[0m \u001b[38;5;66;03m# - Sort only the relevant items\u001b[39;00m\n\u001b[1;32m    167\u001b[0m \u001b[38;5;66;03m# - Get the original item index\u001b[39;00m\n\u001b[1;32m    168\u001b[0m \u001b[38;5;66;03m# relevant_items_partition is block_size x cutoff\u001b[39;00m\n\u001b[0;32m--> 169\u001b[0m relevant_items_partition \u001b[38;5;241m=\u001b[39m \u001b[43mnp\u001b[49m\u001b[38;5;241;43m.\u001b[39;49m\u001b[43margpartition\u001b[49m\u001b[43m(\u001b[49m\u001b[38;5;241;43m-\u001b[39;49m\u001b[43mscores_batch\u001b[49m\u001b[43m,\u001b[49m\u001b[43m \u001b[49m\u001b[43mcutoff\u001b[49m\u001b[38;5;241;43m-\u001b[39;49m\u001b[38;5;241;43m1\u001b[39;49m\u001b[43m,\u001b[49m\u001b[43m \u001b[49m\u001b[43maxis\u001b[49m\u001b[38;5;241;43m=\u001b[39;49m\u001b[38;5;241;43m1\u001b[39;49m\u001b[43m)\u001b[49m[:,\u001b[38;5;241m0\u001b[39m:cutoff]\n\u001b[1;32m    171\u001b[0m \u001b[38;5;66;03m# Get original value and sort it\u001b[39;00m\n\u001b[1;32m    172\u001b[0m \u001b[38;5;66;03m# [:, None] adds 1 dimension to the array, from (block_size,) to (block_size,1)\u001b[39;00m\n\u001b[1;32m    173\u001b[0m \u001b[38;5;66;03m# This is done to correctly get scores_batch value as [row, relevant_items_partition[row,:]]\u001b[39;00m\n\u001b[1;32m    174\u001b[0m relevant_items_partition_original_value \u001b[38;5;241m=\u001b[39m scores_batch[np\u001b[38;5;241m.\u001b[39marange(scores_batch\u001b[38;5;241m.\u001b[39mshape[\u001b[38;5;241m0\u001b[39m])[:, \u001b[38;5;28;01mNone\u001b[39;00m], relevant_items_partition]\n",
      "File \u001b[0;32m<__array_function__ internals>:180\u001b[0m, in \u001b[0;36margpartition\u001b[0;34m(*args, **kwargs)\u001b[0m\n",
      "File \u001b[0;32m~/miniconda3/envs/RecSysFramework/lib/python3.8/site-packages/numpy/core/fromnumeric.py:845\u001b[0m, in \u001b[0;36margpartition\u001b[0;34m(a, kth, axis, kind, order)\u001b[0m\n\u001b[1;32m    766\u001b[0m \u001b[38;5;129m@array_function_dispatch\u001b[39m(_argpartition_dispatcher)\n\u001b[1;32m    767\u001b[0m \u001b[38;5;28;01mdef\u001b[39;00m \u001b[38;5;21margpartition\u001b[39m(a, kth, axis\u001b[38;5;241m=\u001b[39m\u001b[38;5;241m-\u001b[39m\u001b[38;5;241m1\u001b[39m, kind\u001b[38;5;241m=\u001b[39m\u001b[38;5;124m'\u001b[39m\u001b[38;5;124mintroselect\u001b[39m\u001b[38;5;124m'\u001b[39m, order\u001b[38;5;241m=\u001b[39m\u001b[38;5;28;01mNone\u001b[39;00m):\n\u001b[1;32m    768\u001b[0m \u001b[38;5;250m    \u001b[39m\u001b[38;5;124;03m\"\"\"\u001b[39;00m\n\u001b[1;32m    769\u001b[0m \u001b[38;5;124;03m    Perform an indirect partition along the given axis using the\u001b[39;00m\n\u001b[1;32m    770\u001b[0m \u001b[38;5;124;03m    algorithm specified by the `kind` keyword. It returns an array of\u001b[39;00m\n\u001b[0;32m   (...)\u001b[0m\n\u001b[1;32m    843\u001b[0m \n\u001b[1;32m    844\u001b[0m \u001b[38;5;124;03m    \"\"\"\u001b[39;00m\n\u001b[0;32m--> 845\u001b[0m     \u001b[38;5;28;01mreturn\u001b[39;00m \u001b[43m_wrapfunc\u001b[49m\u001b[43m(\u001b[49m\u001b[43ma\u001b[49m\u001b[43m,\u001b[49m\u001b[43m \u001b[49m\u001b[38;5;124;43m'\u001b[39;49m\u001b[38;5;124;43margpartition\u001b[39;49m\u001b[38;5;124;43m'\u001b[39;49m\u001b[43m,\u001b[49m\u001b[43m \u001b[49m\u001b[43mkth\u001b[49m\u001b[43m,\u001b[49m\u001b[43m \u001b[49m\u001b[43maxis\u001b[49m\u001b[38;5;241;43m=\u001b[39;49m\u001b[43maxis\u001b[49m\u001b[43m,\u001b[49m\u001b[43m \u001b[49m\u001b[43mkind\u001b[49m\u001b[38;5;241;43m=\u001b[39;49m\u001b[43mkind\u001b[49m\u001b[43m,\u001b[49m\u001b[43m \u001b[49m\u001b[43morder\u001b[49m\u001b[38;5;241;43m=\u001b[39;49m\u001b[43morder\u001b[49m\u001b[43m)\u001b[49m\n",
      "File \u001b[0;32m~/miniconda3/envs/RecSysFramework/lib/python3.8/site-packages/numpy/core/fromnumeric.py:57\u001b[0m, in \u001b[0;36m_wrapfunc\u001b[0;34m(obj, method, *args, **kwds)\u001b[0m\n\u001b[1;32m     54\u001b[0m     \u001b[38;5;28;01mreturn\u001b[39;00m _wrapit(obj, method, \u001b[38;5;241m*\u001b[39margs, \u001b[38;5;241m*\u001b[39m\u001b[38;5;241m*\u001b[39mkwds)\n\u001b[1;32m     56\u001b[0m \u001b[38;5;28;01mtry\u001b[39;00m:\n\u001b[0;32m---> 57\u001b[0m     \u001b[38;5;28;01mreturn\u001b[39;00m \u001b[43mbound\u001b[49m\u001b[43m(\u001b[49m\u001b[38;5;241;43m*\u001b[39;49m\u001b[43margs\u001b[49m\u001b[43m,\u001b[49m\u001b[43m \u001b[49m\u001b[38;5;241;43m*\u001b[39;49m\u001b[38;5;241;43m*\u001b[39;49m\u001b[43mkwds\u001b[49m\u001b[43m)\u001b[49m\n\u001b[1;32m     58\u001b[0m \u001b[38;5;28;01mexcept\u001b[39;00m \u001b[38;5;167;01mTypeError\u001b[39;00m:\n\u001b[1;32m     59\u001b[0m     \u001b[38;5;66;03m# A TypeError occurs if the object does have such a method in its\u001b[39;00m\n\u001b[1;32m     60\u001b[0m     \u001b[38;5;66;03m# class, but its signature is not identical to that of NumPy's. This\u001b[39;00m\n\u001b[0;32m   (...)\u001b[0m\n\u001b[1;32m     64\u001b[0m     \u001b[38;5;66;03m# Call _wrapit from within the except clause to ensure a potential\u001b[39;00m\n\u001b[1;32m     65\u001b[0m     \u001b[38;5;66;03m# exception has a traceback chain.\u001b[39;00m\n\u001b[1;32m     66\u001b[0m     \u001b[38;5;28;01mreturn\u001b[39;00m _wrapit(obj, method, \u001b[38;5;241m*\u001b[39margs, \u001b[38;5;241m*\u001b[39m\u001b[38;5;241m*\u001b[39mkwds)\n",
      "\u001b[0;31mKeyboardInterrupt\u001b[0m: "
     ]
    }
   ],
   "source": [
    "study.optimize(objective, n_trials=200)"
   ]
  },
  {
   "cell_type": "code",
   "execution_count": null,
   "metadata": {},
   "outputs": [],
   "source": [
    "best_MAP_test = 0\n",
    "\n",
    "for i in range(k_fold):\n",
    "    recommender = recommenderClass(urm_train[i])\n",
    "    recommender.fit(**study.best_params)\n",
    "\n",
    "    result_dict, _ = evaluator_test[i].evaluateRecommender(recommender)\n",
    "\n",
    "    best_MAP_test += result_dict[\"MAP\"].item()\n",
    "\n",
    "best_MAP_test /= k_fold\n",
    "best_MAP_test"
   ]
  },
  {
   "cell_type": "code",
   "execution_count": null,
   "metadata": {},
   "outputs": [],
   "source": [
    "best_MAP_test = 0\n",
    "\n",
    "for i in range(k_fold):\n",
    "    recommender = recommenderClass(urm_train_validation[i])\n",
    "    recommender.fit(**study.best_params)\n",
    "\n",
    "    result_dict, _ = evaluator_test[i].evaluateRecommender(recommender)\n",
    "\n",
    "    best_MAP_test += result_dict[\"MAP\"].item()\n",
    "\n",
    "best_MAP_test /= k_fold\n",
    "best_MAP_test"
   ]
  }
 ],
 "metadata": {
  "kernelspec": {
   "display_name": "RecSysFramework",
   "language": "python",
   "name": "python3"
  },
  "language_info": {
   "codemirror_mode": {
    "name": "ipython",
    "version": 3
   },
   "file_extension": ".py",
   "mimetype": "text/x-python",
   "name": "python",
   "nbconvert_exporter": "python",
   "pygments_lexer": "ipython3",
   "version": "3.8.18"
  }
 },
 "nbformat": 4,
 "nbformat_minor": 2
}
