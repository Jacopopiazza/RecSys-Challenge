{
 "cells": [
  {
   "cell_type": "code",
   "execution_count": 2,
   "id": "068bf24c",
   "metadata": {},
   "outputs": [],
   "source": [
    "import os\n",
    "os.chdir( \"../\")"
   ]
  },
  {
   "cell_type": "code",
   "execution_count": 3,
   "id": "e1f6b14d",
   "metadata": {
    "execution": {
     "iopub.execute_input": "2023-01-13T23:31:56.063140Z",
     "iopub.status.busy": "2023-01-13T23:31:56.062656Z",
     "iopub.status.idle": "2023-01-13T23:32:20.885408Z",
     "shell.execute_reply": "2023-01-13T23:32:20.884000Z"
    },
    "papermill": {
     "duration": 24.835316,
     "end_time": "2023-01-13T23:32:20.888242",
     "exception": false,
     "start_time": "2023-01-13T23:31:56.052926",
     "status": "completed"
    },
    "tags": []
   },
   "outputs": [
    {
     "data": {
      "text/html": [
       "<div>\n",
       "<style scoped>\n",
       "    .dataframe tbody tr th:only-of-type {\n",
       "        vertical-align: middle;\n",
       "    }\n",
       "\n",
       "    .dataframe tbody tr th {\n",
       "        vertical-align: top;\n",
       "    }\n",
       "\n",
       "    .dataframe thead th {\n",
       "        text-align: right;\n",
       "    }\n",
       "</style>\n",
       "<table border=\"1\" class=\"dataframe\">\n",
       "  <thead>\n",
       "    <tr style=\"text-align: right;\">\n",
       "      <th></th>\n",
       "      <th>UserID</th>\n",
       "      <th>ItemID</th>\n",
       "      <th>Interaction</th>\n",
       "    </tr>\n",
       "  </thead>\n",
       "  <tbody>\n",
       "    <tr>\n",
       "      <th>0</th>\n",
       "      <td>1</td>\n",
       "      <td>15</td>\n",
       "      <td>1.0</td>\n",
       "    </tr>\n",
       "    <tr>\n",
       "      <th>1</th>\n",
       "      <td>1</td>\n",
       "      <td>16</td>\n",
       "      <td>1.0</td>\n",
       "    </tr>\n",
       "    <tr>\n",
       "      <th>2</th>\n",
       "      <td>1</td>\n",
       "      <td>133</td>\n",
       "      <td>1.0</td>\n",
       "    </tr>\n",
       "    <tr>\n",
       "      <th>3</th>\n",
       "      <td>1</td>\n",
       "      <td>161</td>\n",
       "      <td>1.0</td>\n",
       "    </tr>\n",
       "    <tr>\n",
       "      <th>4</th>\n",
       "      <td>1</td>\n",
       "      <td>187</td>\n",
       "      <td>1.0</td>\n",
       "    </tr>\n",
       "    <tr>\n",
       "      <th>...</th>\n",
       "      <td>...</td>\n",
       "      <td>...</td>\n",
       "      <td>...</td>\n",
       "    </tr>\n",
       "    <tr>\n",
       "      <th>478724</th>\n",
       "      <td>13024</td>\n",
       "      <td>13605</td>\n",
       "      <td>1.0</td>\n",
       "    </tr>\n",
       "    <tr>\n",
       "      <th>478725</th>\n",
       "      <td>13024</td>\n",
       "      <td>13823</td>\n",
       "      <td>1.0</td>\n",
       "    </tr>\n",
       "    <tr>\n",
       "      <th>478726</th>\n",
       "      <td>13024</td>\n",
       "      <td>15122</td>\n",
       "      <td>1.0</td>\n",
       "    </tr>\n",
       "    <tr>\n",
       "      <th>478727</th>\n",
       "      <td>13024</td>\n",
       "      <td>18185</td>\n",
       "      <td>1.0</td>\n",
       "    </tr>\n",
       "    <tr>\n",
       "      <th>478728</th>\n",
       "      <td>13024</td>\n",
       "      <td>20014</td>\n",
       "      <td>1.0</td>\n",
       "    </tr>\n",
       "  </tbody>\n",
       "</table>\n",
       "<p>478729 rows × 3 columns</p>\n",
       "</div>"
      ],
      "text/plain": [
       "        UserID  ItemID  Interaction\n",
       "0            1      15          1.0\n",
       "1            1      16          1.0\n",
       "2            1     133          1.0\n",
       "3            1     161          1.0\n",
       "4            1     187          1.0\n",
       "...        ...     ...          ...\n",
       "478724   13024   13605          1.0\n",
       "478725   13024   13823          1.0\n",
       "478726   13024   15122          1.0\n",
       "478727   13024   18185          1.0\n",
       "478728   13024   20014          1.0\n",
       "\n",
       "[478729 rows x 3 columns]"
      ]
     },
     "execution_count": 3,
     "metadata": {},
     "output_type": "execute_result"
    }
   ],
   "source": [
    "import pandas as pd\n",
    "import numpy as np\n",
    "\n",
    "path = \"Dataset/data_train.csv\"\n",
    "df = pd.read_csv(filepath_or_buffer=path,\n",
    "                               sep=\",\",\n",
    "                               header=1,\n",
    "                               engine='python',\n",
    "                               names=['UserID', 'ItemID', 'Interaction'])\n",
    "\n",
    "\n",
    "df"
   ]
  },
  {
   "cell_type": "code",
   "execution_count": 4,
   "id": "4e99704b",
   "metadata": {},
   "outputs": [
    {
     "data": {
      "text/plain": [
       "1.0    478729\n",
       "Name: Interaction, dtype: int64"
      ]
     },
     "execution_count": 4,
     "metadata": {},
     "output_type": "execute_result"
    }
   ],
   "source": [
    "df.Interaction.value_counts()"
   ]
  },
  {
   "cell_type": "code",
   "execution_count": 5,
   "id": "6007a4c4",
   "metadata": {
    "execution": {
     "iopub.execute_input": "2023-01-13T23:32:20.910866Z",
     "iopub.status.busy": "2023-01-13T23:32:20.909759Z",
     "iopub.status.idle": "2023-01-13T23:32:21.591015Z",
     "shell.execute_reply": "2023-01-13T23:32:21.589709Z"
    },
    "papermill": {
     "duration": 0.69668,
     "end_time": "2023-01-13T23:32:21.593809",
     "exception": false,
     "start_time": "2023-01-13T23:32:20.897129",
     "status": "completed"
    },
    "tags": []
   },
   "outputs": [
    {
     "name": "stdout",
     "output_type": "stream",
     "text": [
      "<class 'pandas.core.frame.DataFrame'>\n",
      "RangeIndex: 478729 entries, 0 to 478728\n",
      "Data columns (total 3 columns):\n",
      " #   Column       Non-Null Count   Dtype  \n",
      "---  ------       --------------   -----  \n",
      " 0   UserID       478729 non-null  int64  \n",
      " 1   ItemID       478729 non-null  int64  \n",
      " 2   Interaction  478729 non-null  float64\n",
      "dtypes: float64(1), int64(2)\n",
      "memory usage: 11.0 MB\n"
     ]
    }
   ],
   "source": [
    "df.info()"
   ]
  },
  {
   "cell_type": "code",
   "execution_count": 6,
   "id": "c6215bb9",
   "metadata": {},
   "outputs": [
    {
     "name": "stdout",
     "output_type": "stream",
     "text": [
      "Number of users: 12638, Number of Items: 22222, Min rating: 0.0, Max rating: 1.0\n"
     ]
    }
   ],
   "source": [
    "user_ids = df[\"UserID\"].unique().tolist()\n",
    "user2user_encoded = {x: i for i, x in enumerate(user_ids)}\n",
    "userencoded2user = {i: x for i, x in enumerate(user_ids)}\n",
    "item_ids = df[\"ItemID\"].unique().tolist()\n",
    "item2item_encoded = {x: i for i, x in enumerate(item_ids)}\n",
    "item_encoded2item = {i: x for i, x in enumerate(item_ids)}\n",
    "df[\"User\"] = df[\"UserID\"].map(user2user_encoded)\n",
    "df[\"Item\"] = df[\"ItemID\"].map(item2item_encoded)\n",
    "\n",
    "num_users = len(user2user_encoded)\n",
    "num_items = len(item_encoded2item)\n",
    "df[\"Interaction\"] = df[\"Interaction\"].values.astype(np.float32)\n",
    "\n",
    "# min and max ratings will be used to normalize the ratings later\n",
    "min_rating = 0.0\n",
    "max_rating = max(df[\"Interaction\"])\n",
    "\n",
    "print(\n",
    "    \"Number of users: {}, Number of Items: {}, Min rating: {}, Max rating: {}\".format(\n",
    "        num_users, num_items, min_rating, max_rating\n",
    "    )\n",
    ")"
   ]
  },
  {
   "cell_type": "code",
   "execution_count": 7,
   "id": "f74196f4",
   "metadata": {},
   "outputs": [
    {
     "data": {
      "text/html": [
       "<div>\n",
       "<style scoped>\n",
       "    .dataframe tbody tr th:only-of-type {\n",
       "        vertical-align: middle;\n",
       "    }\n",
       "\n",
       "    .dataframe tbody tr th {\n",
       "        vertical-align: top;\n",
       "    }\n",
       "\n",
       "    .dataframe thead th {\n",
       "        text-align: right;\n",
       "    }\n",
       "</style>\n",
       "<table border=\"1\" class=\"dataframe\">\n",
       "  <thead>\n",
       "    <tr style=\"text-align: right;\">\n",
       "      <th></th>\n",
       "      <th>UserID</th>\n",
       "      <th>ItemID</th>\n",
       "      <th>Interaction</th>\n",
       "      <th>User</th>\n",
       "      <th>Item</th>\n",
       "    </tr>\n",
       "  </thead>\n",
       "  <tbody>\n",
       "    <tr>\n",
       "      <th>0</th>\n",
       "      <td>1</td>\n",
       "      <td>15</td>\n",
       "      <td>1.0</td>\n",
       "      <td>0</td>\n",
       "      <td>0</td>\n",
       "    </tr>\n",
       "    <tr>\n",
       "      <th>1</th>\n",
       "      <td>1</td>\n",
       "      <td>16</td>\n",
       "      <td>1.0</td>\n",
       "      <td>0</td>\n",
       "      <td>1</td>\n",
       "    </tr>\n",
       "    <tr>\n",
       "      <th>2</th>\n",
       "      <td>1</td>\n",
       "      <td>133</td>\n",
       "      <td>1.0</td>\n",
       "      <td>0</td>\n",
       "      <td>2</td>\n",
       "    </tr>\n",
       "    <tr>\n",
       "      <th>3</th>\n",
       "      <td>1</td>\n",
       "      <td>161</td>\n",
       "      <td>1.0</td>\n",
       "      <td>0</td>\n",
       "      <td>3</td>\n",
       "    </tr>\n",
       "    <tr>\n",
       "      <th>4</th>\n",
       "      <td>1</td>\n",
       "      <td>187</td>\n",
       "      <td>1.0</td>\n",
       "      <td>0</td>\n",
       "      <td>4</td>\n",
       "    </tr>\n",
       "  </tbody>\n",
       "</table>\n",
       "</div>"
      ],
      "text/plain": [
       "   UserID  ItemID  Interaction  User  Item\n",
       "0       1      15          1.0     0     0\n",
       "1       1      16          1.0     0     1\n",
       "2       1     133          1.0     0     2\n",
       "3       1     161          1.0     0     3\n",
       "4       1     187          1.0     0     4"
      ]
     },
     "execution_count": 7,
     "metadata": {},
     "output_type": "execute_result"
    }
   ],
   "source": [
    "df.head()"
   ]
  },
  {
   "cell_type": "code",
   "execution_count": 8,
   "id": "0adaa414",
   "metadata": {
    "execution": {
     "iopub.execute_input": "2023-01-13T23:32:21.787768Z",
     "iopub.status.busy": "2023-01-13T23:32:21.787354Z",
     "iopub.status.idle": "2023-01-13T23:32:21.825384Z",
     "shell.execute_reply": "2023-01-13T23:32:21.824102Z"
    },
    "papermill": {
     "duration": 0.05165,
     "end_time": "2023-01-13T23:32:21.828219",
     "exception": false,
     "start_time": "2023-01-13T23:32:21.776569",
     "status": "completed"
    },
    "tags": []
   },
   "outputs": [],
   "source": [
    "userId_unique = df[\"UserID\"].unique()\n",
    "itemId_unique = df[\"ItemID\"].unique()"
   ]
  },
  {
   "cell_type": "code",
   "execution_count": 9,
   "id": "c67736a2",
   "metadata": {
    "execution": {
     "iopub.execute_input": "2023-01-13T23:32:21.850104Z",
     "iopub.status.busy": "2023-01-13T23:32:21.849559Z",
     "iopub.status.idle": "2023-01-13T23:32:23.566750Z",
     "shell.execute_reply": "2023-01-13T23:32:23.565195Z"
    },
    "papermill": {
     "duration": 1.73095,
     "end_time": "2023-01-13T23:32:23.569747",
     "exception": false,
     "start_time": "2023-01-13T23:32:21.838797",
     "status": "completed"
    },
    "tags": []
   },
   "outputs": [
    {
     "name": "stdout",
     "output_type": "stream",
     "text": [
      "Warning: 218 (1.72 %) of 12638 users have no train items\n",
      "Warning: 2128 (16.84 %) of 12638 users have no sampled items\n",
      "Warning: 472 (3.73 %) of 12638 users have no train items\n",
      "Warning: 2602 (20.59 %) of 12638 users have no sampled items\n"
     ]
    }
   ],
   "source": [
    "from sklearn.model_selection import train_test_split\n",
    "import numpy as np\n",
    "import scipy.sparse as sps\n",
    "from Data_manager.split_functions.split_train_validation_random_holdout import split_train_in_two_percentage_global_sample\n",
    "\n",
    "\n",
    "\n",
    "urm_all = sps.coo_matrix((df[\"Interaction\"].values, \n",
    "                          (df[\"User\"].values, df[\"Item\"].values)))\n",
    "\n",
    "urm_train_validation, urm_test = split_train_in_two_percentage_global_sample(urm_all, train_percentage = 0.80)\n",
    "urm_train, urm_validation = split_train_in_two_percentage_global_sample(urm_train_validation, train_percentage = 0.80)"
   ]
  },
  {
   "cell_type": "code",
   "execution_count": 10,
   "id": "055f6397",
   "metadata": {
    "execution": {
     "iopub.execute_input": "2023-01-13T23:32:23.592354Z",
     "iopub.status.busy": "2023-01-13T23:32:23.591890Z",
     "iopub.status.idle": "2023-01-13T23:32:23.597435Z",
     "shell.execute_reply": "2023-01-13T23:32:23.596059Z"
    },
    "papermill": {
     "duration": 0.020022,
     "end_time": "2023-01-13T23:32:23.599856",
     "exception": false,
     "start_time": "2023-01-13T23:32:23.579834",
     "status": "completed"
    },
    "tags": []
   },
   "outputs": [],
   "source": [
    "num_users = len(userId_unique)\n",
    "num_items = len(itemId_unique)"
   ]
  },
  {
   "cell_type": "code",
   "execution_count": 11,
   "id": "6f12f62b",
   "metadata": {
    "execution": {
     "iopub.execute_input": "2023-01-13T23:32:24.004792Z",
     "iopub.status.busy": "2023-01-13T23:32:24.004003Z",
     "iopub.status.idle": "2023-01-13T23:32:30.128567Z",
     "shell.execute_reply": "2023-01-13T23:32:30.126914Z"
    },
    "papermill": {
     "duration": 6.138328,
     "end_time": "2023-01-13T23:32:30.131322",
     "exception": false,
     "start_time": "2023-01-13T23:32:23.992994",
     "status": "completed"
    },
    "tags": []
   },
   "outputs": [
    {
     "name": "stderr",
     "output_type": "stream",
     "text": [
      "/Users/japo/miniconda3/envs/RecSysFramework/lib/python3.8/site-packages/lightfm/_lightfm_fast.py:9: UserWarning: LightFM was compiled without OpenMP support. Only a single thread will be used.\n",
      "  warnings.warn(\n"
     ]
    },
    {
     "name": "stdout",
     "output_type": "stream",
     "text": [
      "EvaluatorHoldout: Ignoring 2602 (20.6%) Users that have less than 1 test interactions\n",
      "EvaluatorHoldout: Ignoring 0 Users\n"
     ]
    }
   ],
   "source": [
    "from Recommenders.Recommender_import_list import *\n",
    "from Evaluation.Evaluator import EvaluatorHoldout\n",
    "evaluator_validation = EvaluatorHoldout(urm_validation, cutoff_list=[10], ignore_users=[])"
   ]
  },
  {
   "cell_type": "markdown",
   "id": "2cf8b920",
   "metadata": {
    "execution": {
     "iopub.execute_input": "2022-12-29T17:17:34.5603Z",
     "iopub.status.busy": "2022-12-29T17:17:34.559836Z",
     "iopub.status.idle": "2022-12-29T17:17:34.565723Z",
     "shell.execute_reply": "2022-12-29T17:17:34.564633Z",
     "shell.execute_reply.started": "2022-12-29T17:17:34.560267Z"
    },
    "papermill": {
     "duration": 0.009276,
     "end_time": "2023-01-13T23:32:30.150532",
     "exception": false,
     "start_time": "2023-01-13T23:32:30.141256",
     "status": "completed"
    },
    "tags": []
   },
   "source": [
    "## Insert model here"
   ]
  },
  {
   "cell_type": "code",
   "execution_count": 12,
   "id": "7986d6ef",
   "metadata": {
    "execution": {
     "iopub.execute_input": "2023-01-13T23:32:30.172147Z",
     "iopub.status.busy": "2023-01-13T23:32:30.171384Z",
     "iopub.status.idle": "2023-01-13T23:32:30.177196Z",
     "shell.execute_reply": "2023-01-13T23:32:30.175926Z"
    },
    "papermill": {
     "duration": 0.01951,
     "end_time": "2023-01-13T23:32:30.179676",
     "exception": false,
     "start_time": "2023-01-13T23:32:30.160166",
     "status": "completed"
    },
    "tags": []
   },
   "outputs": [],
   "source": [
    "from Recommenders.Neural.MultVAE_PyTorch_Recommender import MultVAERecommender_PyTorch\n",
    "model = MultVAERecommender_PyTorch"
   ]
  },
  {
   "cell_type": "code",
   "execution_count": 1,
   "id": "ced51cc9",
   "metadata": {
    "execution": {
     "iopub.execute_input": "2023-01-13T23:32:30.201573Z",
     "iopub.status.busy": "2023-01-13T23:32:30.201045Z",
     "iopub.status.idle": "2023-01-13T23:32:30.484063Z",
     "shell.execute_reply": "2023-01-13T23:32:30.482481Z"
    },
    "papermill": {
     "duration": 0.297483,
     "end_time": "2023-01-13T23:32:30.487197",
     "exception": false,
     "start_time": "2023-01-13T23:32:30.189714",
     "status": "completed"
    },
    "tags": []
   },
   "outputs": [],
   "source": [
    "import optuna as op\n",
    "\n",
    "def objective(trial):\n",
    "\n",
    "\n",
    "    hyperparameters_range_dictionary = {\n",
    "                \"epochs\": trial.suggest_categorical(\"epochs\",[500]),\n",
    "                \"learning_rate\": trial.suggest_float(\"learning_rate\",low=1e-6, high=1e-2, log=True),\n",
    "                \"l2_reg\": trial.suggest_float(\"l2_reg\",low=1e-6, high=1e-2, log=True),\n",
    "                \"dropout\": trial.suggest_float(\"dropout\", low=0., high=0.8),\n",
    "                \"total_anneal_steps\": trial.suggest_int(\"total_anneal_steps\",100000, 600000),\n",
    "                \"anneal_cap\": trial.suggest_float(\"anneal_cap\",low=0., high=0.6),\n",
    "                \"batch_size\": trial.suggest_categorical(\"batch_size\",[128, 256, 512, 1024]),\n",
    "                \"p_dims\": trial.suggest_categorical(\"p_dims\",[[num_users, num_items]]),\n",
    "                \"sgd_mode\": trial.suggest_categorical(\"sgd_mode\",[\"Adam\"]),\n",
    "\n",
    "                #\"encoding_size\": trial.suggest_int(\"encoding_size\",1, min(512, urm_all.shape[1]-1)),\n",
    "                #\"next_layer_size_multiplier\": trial.suggest_int(\"next_layer_size_multiplier\",2, 10),\n",
    "                #\"max_n_hidden_layers\": trial.suggest_int(\"max_n_hidden_layers\",1, 4),\n",
    "\n",
    "                # Constrain the model to a maximum number of parameters so that its size does not exceed 7 GB\n",
    "                # Estimate size by considering each parameter uses float32\n",
    "                #\"max_parameters\": trial.suggest_categorical(\"max_parameters\",[7*1e9*8/32]),\n",
    "            }\n",
    "\n",
    "\n",
    "\n",
    "\n",
    "     # Earlystopping hyperparameters available in the framework\n",
    "    full_hyperp = {\"validation_every_n\": 5,\n",
    "                   \"stop_on_validation\": True,\n",
    "                   \"evaluator_object\": evaluator_validation,\n",
    "                   \"lower_validations_allowed\": 5,   # Higher values will result in a more \"patient\" earlystopping\n",
    "                   \"validation_metric\": \"MAP\",\n",
    "                  }\n",
    "                      \n",
    "\n",
    "    \n",
    "    recommender = model(urm_train, verbose=True)\n",
    "    recommender.fit(**trial.params, **full_hyperp)\n",
    "    \n",
    "    # Add the number of epochs selected by earlystopping as a \"user attribute\" of the optuna trial\n",
    "    epochs = recommender.get_early_stopping_final_epochs_dict()[\"epochs\"]\n",
    "    trial.set_user_attr(\"epochs\", epochs) \n",
    "\n",
    "    result, _ = evaluator_validation.evaluateRecommender(recommender)\n",
    "    MAP_result = result[\"MAP\"].item()\n",
    "       \n",
    "    return MAP_result"
   ]
  },
  {
   "cell_type": "code",
   "execution_count": 13,
   "id": "1c29515a",
   "metadata": {
    "execution": {
     "iopub.execute_input": "2023-01-13T23:32:30.509030Z",
     "iopub.status.busy": "2023-01-13T23:32:30.508590Z",
     "iopub.status.idle": "2023-01-14T10:12:28.268056Z",
     "shell.execute_reply": "2023-01-14T10:12:28.266491Z"
    },
    "papermill": {
     "duration": 38397.783761,
     "end_time": "2023-01-14T10:12:28.280903",
     "exception": false,
     "start_time": "2023-01-13T23:32:30.497142",
     "status": "completed"
    },
    "tags": []
   },
   "outputs": [
    {
     "name": "stderr",
     "output_type": "stream",
     "text": [
      "[I 2023-12-27 22:57:08,447] A new study created in memory with name: no-name-20d2f918-8e0e-4311-b65e-7ab064dd9222\n",
      "/Users/japo/miniconda3/envs/RecSysFramework/lib/python3.8/site-packages/optuna/distributions.py:524: UserWarning: Choices for a categorical distribution should be a tuple of None, bool, int, float and str for persistent storage but contains [12638, 22222] which is of type list.\n",
      "  warnings.warn(message)\n"
     ]
    },
    {
     "name": "stdout",
     "output_type": "stream",
     "text": [
      "MultVAERecommender_PyTorch: URM Detected 472 ( 3.7%) users with no interactions.\n",
      "MultVAERecommender_PyTorch: URM Detected 341 ( 1.5%) items with no interactions.\n"
     ]
    },
    {
     "name": "stderr",
     "output_type": "stream",
     "text": [
      "  0%|          | 0/12 [00:00<?, ?it/s]/Users/japo/RecSys/RecSys-Challenge/Recommenders/Neural/MultVAE_PyTorch_Recommender.py:285: UserWarning: Sparse CSR tensor support is in beta state. If you miss a functionality in the sparse tensor support, please submit a feature request to https://github.com/pytorch/pytorch/issues. (Triggered internally at /Users/runner/work/pytorch/pytorch/pytorch/aten/src/ATen/SparseCsrTensorImpl.cpp:55.)\n",
      "  user_batch_tensor = torch.sparse_csr_tensor(user_batch_tensor.indptr,\n",
      " 17%|█▋        | 2/12 [03:24<17:00, 102.03s/it]\n",
      "[W 2023-12-27 23:00:44,632] Trial 0 failed with parameters: {'epochs': 500, 'learning_rate': 7.498836939485468e-06, 'l2_reg': 0.0009149400773775601, 'dropout': 0.7195442913520576, 'total_anneal_steps': 207729, 'anneal_cap': 0.4629055588938552, 'batch_size': 1024, 'p_dims': [12638, 22222], 'sgd_mode': 'Adam'} because of the following error: KeyboardInterrupt().\n",
      "Traceback (most recent call last):\n",
      "  File \"/Users/japo/miniconda3/envs/RecSysFramework/lib/python3.8/site-packages/optuna/study/_optimize.py\", line 200, in _run_trial\n",
      "    value_or_values = func(trial)\n",
      "  File \"/var/folders/kj/3wy9xr4j2vlcr59wg5_cqy200000gn/T/ipykernel_2184/1162066407.py\", line 40, in objective\n",
      "    recommender.fit(**trial.params, **full_hyperp)\n",
      "  File \"/Users/japo/RecSys/RecSys-Challenge/Recommenders/Neural/MultVAE_PyTorch_Recommender.py\", line 242, in fit\n",
      "    self._train_with_early_stopping(epochs,\n",
      "  File \"/Users/japo/RecSys/RecSys-Challenge/Recommenders/Incremental_Training_Early_Stopping.py\", line 199, in _train_with_early_stopping\n",
      "    self._run_epoch(epochs_current)\n",
      "  File \"/Users/japo/RecSys/RecSys-Challenge/Recommenders/Neural/MultVAE_PyTorch_Recommender.py\", line 309, in _run_epoch\n",
      "    self._optimizer.step()\n",
      "  File \"/Users/japo/miniconda3/envs/RecSysFramework/lib/python3.8/site-packages/torch/optim/optimizer.py\", line 373, in wrapper\n",
      "    out = func(*args, **kwargs)\n",
      "  File \"/Users/japo/miniconda3/envs/RecSysFramework/lib/python3.8/site-packages/torch/optim/optimizer.py\", line 76, in _use_grad\n",
      "    ret = func(self, *args, **kwargs)\n",
      "  File \"/Users/japo/miniconda3/envs/RecSysFramework/lib/python3.8/site-packages/torch/optim/adam.py\", line 163, in step\n",
      "    adam(\n",
      "  File \"/Users/japo/miniconda3/envs/RecSysFramework/lib/python3.8/site-packages/torch/optim/adam.py\", line 311, in adam\n",
      "    func(params,\n",
      "  File \"/Users/japo/miniconda3/envs/RecSysFramework/lib/python3.8/site-packages/torch/optim/adam.py\", line 385, in _single_tensor_adam\n",
      "    exp_avg_sq.mul_(beta2).addcmul_(grad, grad.conj(), value=1 - beta2)\n",
      "KeyboardInterrupt\n",
      "[W 2023-12-27 23:00:44,672] Trial 0 failed with value None.\n"
     ]
    },
    {
     "ename": "KeyboardInterrupt",
     "evalue": "",
     "output_type": "error",
     "traceback": [
      "\u001b[0;31m---------------------------------------------------------------------------\u001b[0m",
      "\u001b[0;31mKeyboardInterrupt\u001b[0m                         Traceback (most recent call last)",
      "Cell \u001b[0;32mIn[13], line 5\u001b[0m\n\u001b[1;32m      3\u001b[0m study \u001b[38;5;241m=\u001b[39m op\u001b[38;5;241m.\u001b[39mcreate_study(direction\u001b[38;5;241m=\u001b[39m\u001b[38;5;124m\"\u001b[39m\u001b[38;5;124mmaximize\u001b[39m\u001b[38;5;124m\"\u001b[39m)\n\u001b[1;32m      4\u001b[0m \u001b[38;5;66;03m#study.enqueue_trial(best_params)\u001b[39;00m\n\u001b[0;32m----> 5\u001b[0m \u001b[43mstudy\u001b[49m\u001b[38;5;241;43m.\u001b[39;49m\u001b[43moptimize\u001b[49m\u001b[43m(\u001b[49m\u001b[43mobjective\u001b[49m\u001b[43m,\u001b[49m\u001b[43m \u001b[49m\u001b[43mn_trials\u001b[49m\u001b[38;5;241;43m=\u001b[39;49m\u001b[38;5;241;43m30\u001b[39;49m\u001b[43m)\u001b[49m\n",
      "File \u001b[0;32m~/miniconda3/envs/RecSysFramework/lib/python3.8/site-packages/optuna/study/study.py:451\u001b[0m, in \u001b[0;36mStudy.optimize\u001b[0;34m(self, func, n_trials, timeout, n_jobs, catch, callbacks, gc_after_trial, show_progress_bar)\u001b[0m\n\u001b[1;32m    348\u001b[0m \u001b[38;5;28;01mdef\u001b[39;00m \u001b[38;5;21moptimize\u001b[39m(\n\u001b[1;32m    349\u001b[0m     \u001b[38;5;28mself\u001b[39m,\n\u001b[1;32m    350\u001b[0m     func: ObjectiveFuncType,\n\u001b[0;32m   (...)\u001b[0m\n\u001b[1;32m    357\u001b[0m     show_progress_bar: \u001b[38;5;28mbool\u001b[39m \u001b[38;5;241m=\u001b[39m \u001b[38;5;28;01mFalse\u001b[39;00m,\n\u001b[1;32m    358\u001b[0m ) \u001b[38;5;241m-\u001b[39m\u001b[38;5;241m>\u001b[39m \u001b[38;5;28;01mNone\u001b[39;00m:\n\u001b[1;32m    359\u001b[0m \u001b[38;5;250m    \u001b[39m\u001b[38;5;124;03m\"\"\"Optimize an objective function.\u001b[39;00m\n\u001b[1;32m    360\u001b[0m \n\u001b[1;32m    361\u001b[0m \u001b[38;5;124;03m    Optimization is done by choosing a suitable set of hyperparameter values from a given\u001b[39;00m\n\u001b[0;32m   (...)\u001b[0m\n\u001b[1;32m    449\u001b[0m \u001b[38;5;124;03m            If nested invocation of this method occurs.\u001b[39;00m\n\u001b[1;32m    450\u001b[0m \u001b[38;5;124;03m    \"\"\"\u001b[39;00m\n\u001b[0;32m--> 451\u001b[0m     \u001b[43m_optimize\u001b[49m\u001b[43m(\u001b[49m\n\u001b[1;32m    452\u001b[0m \u001b[43m        \u001b[49m\u001b[43mstudy\u001b[49m\u001b[38;5;241;43m=\u001b[39;49m\u001b[38;5;28;43mself\u001b[39;49m\u001b[43m,\u001b[49m\n\u001b[1;32m    453\u001b[0m \u001b[43m        \u001b[49m\u001b[43mfunc\u001b[49m\u001b[38;5;241;43m=\u001b[39;49m\u001b[43mfunc\u001b[49m\u001b[43m,\u001b[49m\n\u001b[1;32m    454\u001b[0m \u001b[43m        \u001b[49m\u001b[43mn_trials\u001b[49m\u001b[38;5;241;43m=\u001b[39;49m\u001b[43mn_trials\u001b[49m\u001b[43m,\u001b[49m\n\u001b[1;32m    455\u001b[0m \u001b[43m        \u001b[49m\u001b[43mtimeout\u001b[49m\u001b[38;5;241;43m=\u001b[39;49m\u001b[43mtimeout\u001b[49m\u001b[43m,\u001b[49m\n\u001b[1;32m    456\u001b[0m \u001b[43m        \u001b[49m\u001b[43mn_jobs\u001b[49m\u001b[38;5;241;43m=\u001b[39;49m\u001b[43mn_jobs\u001b[49m\u001b[43m,\u001b[49m\n\u001b[1;32m    457\u001b[0m \u001b[43m        \u001b[49m\u001b[43mcatch\u001b[49m\u001b[38;5;241;43m=\u001b[39;49m\u001b[38;5;28;43mtuple\u001b[39;49m\u001b[43m(\u001b[49m\u001b[43mcatch\u001b[49m\u001b[43m)\u001b[49m\u001b[43m \u001b[49m\u001b[38;5;28;43;01mif\u001b[39;49;00m\u001b[43m \u001b[49m\u001b[38;5;28;43misinstance\u001b[39;49m\u001b[43m(\u001b[49m\u001b[43mcatch\u001b[49m\u001b[43m,\u001b[49m\u001b[43m \u001b[49m\u001b[43mIterable\u001b[49m\u001b[43m)\u001b[49m\u001b[43m \u001b[49m\u001b[38;5;28;43;01melse\u001b[39;49;00m\u001b[43m \u001b[49m\u001b[43m(\u001b[49m\u001b[43mcatch\u001b[49m\u001b[43m,\u001b[49m\u001b[43m)\u001b[49m\u001b[43m,\u001b[49m\n\u001b[1;32m    458\u001b[0m \u001b[43m        \u001b[49m\u001b[43mcallbacks\u001b[49m\u001b[38;5;241;43m=\u001b[39;49m\u001b[43mcallbacks\u001b[49m\u001b[43m,\u001b[49m\n\u001b[1;32m    459\u001b[0m \u001b[43m        \u001b[49m\u001b[43mgc_after_trial\u001b[49m\u001b[38;5;241;43m=\u001b[39;49m\u001b[43mgc_after_trial\u001b[49m\u001b[43m,\u001b[49m\n\u001b[1;32m    460\u001b[0m \u001b[43m        \u001b[49m\u001b[43mshow_progress_bar\u001b[49m\u001b[38;5;241;43m=\u001b[39;49m\u001b[43mshow_progress_bar\u001b[49m\u001b[43m,\u001b[49m\n\u001b[1;32m    461\u001b[0m \u001b[43m    \u001b[49m\u001b[43m)\u001b[49m\n",
      "File \u001b[0;32m~/miniconda3/envs/RecSysFramework/lib/python3.8/site-packages/optuna/study/_optimize.py:66\u001b[0m, in \u001b[0;36m_optimize\u001b[0;34m(study, func, n_trials, timeout, n_jobs, catch, callbacks, gc_after_trial, show_progress_bar)\u001b[0m\n\u001b[1;32m     64\u001b[0m \u001b[38;5;28;01mtry\u001b[39;00m:\n\u001b[1;32m     65\u001b[0m     \u001b[38;5;28;01mif\u001b[39;00m n_jobs \u001b[38;5;241m==\u001b[39m \u001b[38;5;241m1\u001b[39m:\n\u001b[0;32m---> 66\u001b[0m         \u001b[43m_optimize_sequential\u001b[49m\u001b[43m(\u001b[49m\n\u001b[1;32m     67\u001b[0m \u001b[43m            \u001b[49m\u001b[43mstudy\u001b[49m\u001b[43m,\u001b[49m\n\u001b[1;32m     68\u001b[0m \u001b[43m            \u001b[49m\u001b[43mfunc\u001b[49m\u001b[43m,\u001b[49m\n\u001b[1;32m     69\u001b[0m \u001b[43m            \u001b[49m\u001b[43mn_trials\u001b[49m\u001b[43m,\u001b[49m\n\u001b[1;32m     70\u001b[0m \u001b[43m            \u001b[49m\u001b[43mtimeout\u001b[49m\u001b[43m,\u001b[49m\n\u001b[1;32m     71\u001b[0m \u001b[43m            \u001b[49m\u001b[43mcatch\u001b[49m\u001b[43m,\u001b[49m\n\u001b[1;32m     72\u001b[0m \u001b[43m            \u001b[49m\u001b[43mcallbacks\u001b[49m\u001b[43m,\u001b[49m\n\u001b[1;32m     73\u001b[0m \u001b[43m            \u001b[49m\u001b[43mgc_after_trial\u001b[49m\u001b[43m,\u001b[49m\n\u001b[1;32m     74\u001b[0m \u001b[43m            \u001b[49m\u001b[43mreseed_sampler_rng\u001b[49m\u001b[38;5;241;43m=\u001b[39;49m\u001b[38;5;28;43;01mFalse\u001b[39;49;00m\u001b[43m,\u001b[49m\n\u001b[1;32m     75\u001b[0m \u001b[43m            \u001b[49m\u001b[43mtime_start\u001b[49m\u001b[38;5;241;43m=\u001b[39;49m\u001b[38;5;28;43;01mNone\u001b[39;49;00m\u001b[43m,\u001b[49m\n\u001b[1;32m     76\u001b[0m \u001b[43m            \u001b[49m\u001b[43mprogress_bar\u001b[49m\u001b[38;5;241;43m=\u001b[39;49m\u001b[43mprogress_bar\u001b[49m\u001b[43m,\u001b[49m\n\u001b[1;32m     77\u001b[0m \u001b[43m        \u001b[49m\u001b[43m)\u001b[49m\n\u001b[1;32m     78\u001b[0m     \u001b[38;5;28;01melse\u001b[39;00m:\n\u001b[1;32m     79\u001b[0m         \u001b[38;5;28;01mif\u001b[39;00m n_jobs \u001b[38;5;241m==\u001b[39m \u001b[38;5;241m-\u001b[39m\u001b[38;5;241m1\u001b[39m:\n",
      "File \u001b[0;32m~/miniconda3/envs/RecSysFramework/lib/python3.8/site-packages/optuna/study/_optimize.py:163\u001b[0m, in \u001b[0;36m_optimize_sequential\u001b[0;34m(study, func, n_trials, timeout, catch, callbacks, gc_after_trial, reseed_sampler_rng, time_start, progress_bar)\u001b[0m\n\u001b[1;32m    160\u001b[0m         \u001b[38;5;28;01mbreak\u001b[39;00m\n\u001b[1;32m    162\u001b[0m \u001b[38;5;28;01mtry\u001b[39;00m:\n\u001b[0;32m--> 163\u001b[0m     frozen_trial \u001b[38;5;241m=\u001b[39m \u001b[43m_run_trial\u001b[49m\u001b[43m(\u001b[49m\u001b[43mstudy\u001b[49m\u001b[43m,\u001b[49m\u001b[43m \u001b[49m\u001b[43mfunc\u001b[49m\u001b[43m,\u001b[49m\u001b[43m \u001b[49m\u001b[43mcatch\u001b[49m\u001b[43m)\u001b[49m\n\u001b[1;32m    164\u001b[0m \u001b[38;5;28;01mfinally\u001b[39;00m:\n\u001b[1;32m    165\u001b[0m     \u001b[38;5;66;03m# The following line mitigates memory problems that can be occurred in some\u001b[39;00m\n\u001b[1;32m    166\u001b[0m     \u001b[38;5;66;03m# environments (e.g., services that use computing containers such as GitHub Actions).\u001b[39;00m\n\u001b[1;32m    167\u001b[0m     \u001b[38;5;66;03m# Please refer to the following PR for further details:\u001b[39;00m\n\u001b[1;32m    168\u001b[0m     \u001b[38;5;66;03m# https://github.com/optuna/optuna/pull/325.\u001b[39;00m\n\u001b[1;32m    169\u001b[0m     \u001b[38;5;28;01mif\u001b[39;00m gc_after_trial:\n",
      "File \u001b[0;32m~/miniconda3/envs/RecSysFramework/lib/python3.8/site-packages/optuna/study/_optimize.py:251\u001b[0m, in \u001b[0;36m_run_trial\u001b[0;34m(study, func, catch)\u001b[0m\n\u001b[1;32m    244\u001b[0m         \u001b[38;5;28;01massert\u001b[39;00m \u001b[38;5;28;01mFalse\u001b[39;00m, \u001b[38;5;124m\"\u001b[39m\u001b[38;5;124mShould not reach.\u001b[39m\u001b[38;5;124m\"\u001b[39m\n\u001b[1;32m    246\u001b[0m \u001b[38;5;28;01mif\u001b[39;00m (\n\u001b[1;32m    247\u001b[0m     frozen_trial\u001b[38;5;241m.\u001b[39mstate \u001b[38;5;241m==\u001b[39m TrialState\u001b[38;5;241m.\u001b[39mFAIL\n\u001b[1;32m    248\u001b[0m     \u001b[38;5;129;01mand\u001b[39;00m func_err \u001b[38;5;129;01mis\u001b[39;00m \u001b[38;5;129;01mnot\u001b[39;00m \u001b[38;5;28;01mNone\u001b[39;00m\n\u001b[1;32m    249\u001b[0m     \u001b[38;5;129;01mand\u001b[39;00m \u001b[38;5;129;01mnot\u001b[39;00m \u001b[38;5;28misinstance\u001b[39m(func_err, catch)\n\u001b[1;32m    250\u001b[0m ):\n\u001b[0;32m--> 251\u001b[0m     \u001b[38;5;28;01mraise\u001b[39;00m func_err\n\u001b[1;32m    252\u001b[0m \u001b[38;5;28;01mreturn\u001b[39;00m frozen_trial\n",
      "File \u001b[0;32m~/miniconda3/envs/RecSysFramework/lib/python3.8/site-packages/optuna/study/_optimize.py:200\u001b[0m, in \u001b[0;36m_run_trial\u001b[0;34m(study, func, catch)\u001b[0m\n\u001b[1;32m    198\u001b[0m \u001b[38;5;28;01mwith\u001b[39;00m get_heartbeat_thread(trial\u001b[38;5;241m.\u001b[39m_trial_id, study\u001b[38;5;241m.\u001b[39m_storage):\n\u001b[1;32m    199\u001b[0m     \u001b[38;5;28;01mtry\u001b[39;00m:\n\u001b[0;32m--> 200\u001b[0m         value_or_values \u001b[38;5;241m=\u001b[39m \u001b[43mfunc\u001b[49m\u001b[43m(\u001b[49m\u001b[43mtrial\u001b[49m\u001b[43m)\u001b[49m\n\u001b[1;32m    201\u001b[0m     \u001b[38;5;28;01mexcept\u001b[39;00m exceptions\u001b[38;5;241m.\u001b[39mTrialPruned \u001b[38;5;28;01mas\u001b[39;00m e:\n\u001b[1;32m    202\u001b[0m         \u001b[38;5;66;03m# TODO(mamu): Handle multi-objective cases.\u001b[39;00m\n\u001b[1;32m    203\u001b[0m         state \u001b[38;5;241m=\u001b[39m TrialState\u001b[38;5;241m.\u001b[39mPRUNED\n",
      "Cell \u001b[0;32mIn[1], line 40\u001b[0m, in \u001b[0;36mobjective\u001b[0;34m(trial)\u001b[0m\n\u001b[1;32m     30\u001b[0m full_hyperp \u001b[38;5;241m=\u001b[39m {\u001b[38;5;124m\"\u001b[39m\u001b[38;5;124mvalidation_every_n\u001b[39m\u001b[38;5;124m\"\u001b[39m: \u001b[38;5;241m5\u001b[39m,\n\u001b[1;32m     31\u001b[0m                \u001b[38;5;124m\"\u001b[39m\u001b[38;5;124mstop_on_validation\u001b[39m\u001b[38;5;124m\"\u001b[39m: \u001b[38;5;28;01mTrue\u001b[39;00m,\n\u001b[1;32m     32\u001b[0m                \u001b[38;5;124m\"\u001b[39m\u001b[38;5;124mevaluator_object\u001b[39m\u001b[38;5;124m\"\u001b[39m: evaluator_validation,\n\u001b[1;32m     33\u001b[0m                \u001b[38;5;124m\"\u001b[39m\u001b[38;5;124mlower_validations_allowed\u001b[39m\u001b[38;5;124m\"\u001b[39m: \u001b[38;5;241m5\u001b[39m,   \u001b[38;5;66;03m# Higher values will result in a more \"patient\" earlystopping\u001b[39;00m\n\u001b[1;32m     34\u001b[0m                \u001b[38;5;124m\"\u001b[39m\u001b[38;5;124mvalidation_metric\u001b[39m\u001b[38;5;124m\"\u001b[39m: \u001b[38;5;124m\"\u001b[39m\u001b[38;5;124mMAP\u001b[39m\u001b[38;5;124m\"\u001b[39m,\n\u001b[1;32m     35\u001b[0m               }\n\u001b[1;32m     39\u001b[0m recommender \u001b[38;5;241m=\u001b[39m model(urm_train, verbose\u001b[38;5;241m=\u001b[39m\u001b[38;5;28;01mTrue\u001b[39;00m)\n\u001b[0;32m---> 40\u001b[0m \u001b[43mrecommender\u001b[49m\u001b[38;5;241;43m.\u001b[39;49m\u001b[43mfit\u001b[49m\u001b[43m(\u001b[49m\u001b[38;5;241;43m*\u001b[39;49m\u001b[38;5;241;43m*\u001b[39;49m\u001b[43mtrial\u001b[49m\u001b[38;5;241;43m.\u001b[39;49m\u001b[43mparams\u001b[49m\u001b[43m,\u001b[49m\u001b[43m \u001b[49m\u001b[38;5;241;43m*\u001b[39;49m\u001b[38;5;241;43m*\u001b[39;49m\u001b[43mfull_hyperp\u001b[49m\u001b[43m)\u001b[49m\n\u001b[1;32m     42\u001b[0m \u001b[38;5;66;03m# Add the number of epochs selected by earlystopping as a \"user attribute\" of the optuna trial\u001b[39;00m\n\u001b[1;32m     43\u001b[0m epochs \u001b[38;5;241m=\u001b[39m recommender\u001b[38;5;241m.\u001b[39mget_early_stopping_final_epochs_dict()[\u001b[38;5;124m\"\u001b[39m\u001b[38;5;124mepochs\u001b[39m\u001b[38;5;124m\"\u001b[39m]\n",
      "File \u001b[0;32m~/RecSys/RecSys-Challenge/Recommenders/Neural/MultVAE_PyTorch_Recommender.py:242\u001b[0m, in \u001b[0;36mMultVAERecommender_PyTorch.fit\u001b[0;34m(self, epochs, learning_rate, batch_size, dropout, total_anneal_steps, anneal_cap, p_dims, l2_reg, sgd_mode, **earlystopping_kwargs)\u001b[0m\n\u001b[1;32m    238\u001b[0m \u001b[38;5;28mself\u001b[39m\u001b[38;5;241m.\u001b[39m_update_best_model()\n\u001b[1;32m    240\u001b[0m \u001b[38;5;66;03m# with profile(activities=[ProfilerActivity.CPU, ProfilerActivity.CUDA], profile_memory=True, record_shapes=True) as prof:\u001b[39;00m\n\u001b[0;32m--> 242\u001b[0m \u001b[38;5;28;43mself\u001b[39;49m\u001b[38;5;241;43m.\u001b[39;49m\u001b[43m_train_with_early_stopping\u001b[49m\u001b[43m(\u001b[49m\u001b[43mepochs\u001b[49m\u001b[43m,\u001b[49m\n\u001b[1;32m    243\u001b[0m \u001b[43m                                \u001b[49m\u001b[43malgorithm_name\u001b[49m\u001b[38;5;241;43m=\u001b[39;49m\u001b[38;5;28;43mself\u001b[39;49m\u001b[38;5;241;43m.\u001b[39;49m\u001b[43mRECOMMENDER_NAME\u001b[49m\u001b[43m,\u001b[49m\n\u001b[1;32m    244\u001b[0m \u001b[43m                                \u001b[49m\u001b[38;5;241;43m*\u001b[39;49m\u001b[38;5;241;43m*\u001b[39;49m\u001b[43mearlystopping_kwargs\u001b[49m\u001b[43m)\u001b[49m\n\u001b[1;32m    246\u001b[0m \u001b[38;5;66;03m# print(prof.key_averages().table(sort_by=\"self_cpu_time_total\", row_limit=30))\u001b[39;00m\n\u001b[1;32m    247\u001b[0m \u001b[38;5;66;03m# prof.export_chrome_trace(\"trace.json\")\u001b[39;00m\n\u001b[1;32m    249\u001b[0m \u001b[38;5;28mself\u001b[39m\u001b[38;5;241m.\u001b[39m_print(\u001b[38;5;124m\"\u001b[39m\u001b[38;5;124mTraining complete\u001b[39m\u001b[38;5;124m\"\u001b[39m)\n",
      "File \u001b[0;32m~/RecSys/RecSys-Challenge/Recommenders/Incremental_Training_Early_Stopping.py:199\u001b[0m, in \u001b[0;36mIncremental_Training_Early_Stopping._train_with_early_stopping\u001b[0;34m(self, epochs_max, epochs_min, validation_every_n, stop_on_validation, validation_metric, lower_validations_allowed, evaluator_object, algorithm_name)\u001b[0m\n\u001b[1;32m    195\u001b[0m epochs_current \u001b[38;5;241m=\u001b[39m \u001b[38;5;241m0\u001b[39m\n\u001b[1;32m    197\u001b[0m \u001b[38;5;28;01mwhile\u001b[39;00m epochs_current \u001b[38;5;241m<\u001b[39m epochs_max \u001b[38;5;129;01mand\u001b[39;00m \u001b[38;5;129;01mnot\u001b[39;00m convergence:\n\u001b[0;32m--> 199\u001b[0m     \u001b[38;5;28;43mself\u001b[39;49m\u001b[38;5;241;43m.\u001b[39;49m\u001b[43m_run_epoch\u001b[49m\u001b[43m(\u001b[49m\u001b[43mepochs_current\u001b[49m\u001b[43m)\u001b[49m\n\u001b[1;32m    201\u001b[0m     \u001b[38;5;66;03m# If no validation required, always keep the latest\u001b[39;00m\n\u001b[1;32m    202\u001b[0m     \u001b[38;5;28;01mif\u001b[39;00m evaluator_object \u001b[38;5;129;01mis\u001b[39;00m \u001b[38;5;28;01mNone\u001b[39;00m:\n",
      "File \u001b[0;32m~/RecSys/RecSys-Challenge/Recommenders/Neural/MultVAE_PyTorch_Recommender.py:309\u001b[0m, in \u001b[0;36mMultVAERecommender_PyTorch._run_epoch\u001b[0;34m(self, num_epoch)\u001b[0m\n\u001b[1;32m    306\u001b[0m     epoch_loss \u001b[38;5;241m+\u001b[39m\u001b[38;5;241m=\u001b[39m loss\u001b[38;5;241m.\u001b[39mitem()\n\u001b[1;32m    308\u001b[0m     \u001b[38;5;66;03m# Apply gradient using the selected _optimizer\u001b[39;00m\n\u001b[0;32m--> 309\u001b[0m     \u001b[38;5;28;43mself\u001b[39;49m\u001b[38;5;241;43m.\u001b[39;49m\u001b[43m_optimizer\u001b[49m\u001b[38;5;241;43m.\u001b[39;49m\u001b[43mstep\u001b[49m\u001b[43m(\u001b[49m\u001b[43m)\u001b[49m\n\u001b[1;32m    311\u001b[0m \u001b[38;5;28mself\u001b[39m\u001b[38;5;241m.\u001b[39m_print(\u001b[38;5;124m\"\u001b[39m\u001b[38;5;124mLoss \u001b[39m\u001b[38;5;132;01m{:.2E}\u001b[39;00m\u001b[38;5;124m\"\u001b[39m\u001b[38;5;241m.\u001b[39mformat(epoch_loss))\n\u001b[1;32m    312\u001b[0m \u001b[38;5;28mself\u001b[39m\u001b[38;5;241m.\u001b[39m_model\u001b[38;5;241m.\u001b[39meval()\n",
      "File \u001b[0;32m~/miniconda3/envs/RecSysFramework/lib/python3.8/site-packages/torch/optim/optimizer.py:373\u001b[0m, in \u001b[0;36mOptimizer.profile_hook_step.<locals>.wrapper\u001b[0;34m(*args, **kwargs)\u001b[0m\n\u001b[1;32m    368\u001b[0m         \u001b[38;5;28;01melse\u001b[39;00m:\n\u001b[1;32m    369\u001b[0m             \u001b[38;5;28;01mraise\u001b[39;00m \u001b[38;5;167;01mRuntimeError\u001b[39;00m(\n\u001b[1;32m    370\u001b[0m                 \u001b[38;5;124mf\u001b[39m\u001b[38;5;124m\"\u001b[39m\u001b[38;5;132;01m{\u001b[39;00mfunc\u001b[38;5;132;01m}\u001b[39;00m\u001b[38;5;124m must return None or a tuple of (new_args, new_kwargs), but got \u001b[39m\u001b[38;5;132;01m{\u001b[39;00mresult\u001b[38;5;132;01m}\u001b[39;00m\u001b[38;5;124m.\u001b[39m\u001b[38;5;124m\"\u001b[39m\n\u001b[1;32m    371\u001b[0m             )\n\u001b[0;32m--> 373\u001b[0m out \u001b[38;5;241m=\u001b[39m \u001b[43mfunc\u001b[49m\u001b[43m(\u001b[49m\u001b[38;5;241;43m*\u001b[39;49m\u001b[43margs\u001b[49m\u001b[43m,\u001b[49m\u001b[43m \u001b[49m\u001b[38;5;241;43m*\u001b[39;49m\u001b[38;5;241;43m*\u001b[39;49m\u001b[43mkwargs\u001b[49m\u001b[43m)\u001b[49m\n\u001b[1;32m    374\u001b[0m \u001b[38;5;28mself\u001b[39m\u001b[38;5;241m.\u001b[39m_optimizer_step_code()\n\u001b[1;32m    376\u001b[0m \u001b[38;5;66;03m# call optimizer step post hooks\u001b[39;00m\n",
      "File \u001b[0;32m~/miniconda3/envs/RecSysFramework/lib/python3.8/site-packages/torch/optim/optimizer.py:76\u001b[0m, in \u001b[0;36m_use_grad_for_differentiable.<locals>._use_grad\u001b[0;34m(self, *args, **kwargs)\u001b[0m\n\u001b[1;32m     74\u001b[0m     torch\u001b[38;5;241m.\u001b[39mset_grad_enabled(\u001b[38;5;28mself\u001b[39m\u001b[38;5;241m.\u001b[39mdefaults[\u001b[38;5;124m'\u001b[39m\u001b[38;5;124mdifferentiable\u001b[39m\u001b[38;5;124m'\u001b[39m])\n\u001b[1;32m     75\u001b[0m     torch\u001b[38;5;241m.\u001b[39m_dynamo\u001b[38;5;241m.\u001b[39mgraph_break()\n\u001b[0;32m---> 76\u001b[0m     ret \u001b[38;5;241m=\u001b[39m \u001b[43mfunc\u001b[49m\u001b[43m(\u001b[49m\u001b[38;5;28;43mself\u001b[39;49m\u001b[43m,\u001b[49m\u001b[43m \u001b[49m\u001b[38;5;241;43m*\u001b[39;49m\u001b[43margs\u001b[49m\u001b[43m,\u001b[49m\u001b[43m \u001b[49m\u001b[38;5;241;43m*\u001b[39;49m\u001b[38;5;241;43m*\u001b[39;49m\u001b[43mkwargs\u001b[49m\u001b[43m)\u001b[49m\n\u001b[1;32m     77\u001b[0m \u001b[38;5;28;01mfinally\u001b[39;00m:\n\u001b[1;32m     78\u001b[0m     torch\u001b[38;5;241m.\u001b[39m_dynamo\u001b[38;5;241m.\u001b[39mgraph_break()\n",
      "File \u001b[0;32m~/miniconda3/envs/RecSysFramework/lib/python3.8/site-packages/torch/optim/adam.py:163\u001b[0m, in \u001b[0;36mAdam.step\u001b[0;34m(self, closure)\u001b[0m\n\u001b[1;32m    152\u001b[0m     beta1, beta2 \u001b[38;5;241m=\u001b[39m group[\u001b[38;5;124m'\u001b[39m\u001b[38;5;124mbetas\u001b[39m\u001b[38;5;124m'\u001b[39m]\n\u001b[1;32m    154\u001b[0m     \u001b[38;5;28mself\u001b[39m\u001b[38;5;241m.\u001b[39m_init_group(\n\u001b[1;32m    155\u001b[0m         group,\n\u001b[1;32m    156\u001b[0m         params_with_grad,\n\u001b[0;32m   (...)\u001b[0m\n\u001b[1;32m    160\u001b[0m         max_exp_avg_sqs,\n\u001b[1;32m    161\u001b[0m         state_steps)\n\u001b[0;32m--> 163\u001b[0m     \u001b[43madam\u001b[49m\u001b[43m(\u001b[49m\n\u001b[1;32m    164\u001b[0m \u001b[43m        \u001b[49m\u001b[43mparams_with_grad\u001b[49m\u001b[43m,\u001b[49m\n\u001b[1;32m    165\u001b[0m \u001b[43m        \u001b[49m\u001b[43mgrads\u001b[49m\u001b[43m,\u001b[49m\n\u001b[1;32m    166\u001b[0m \u001b[43m        \u001b[49m\u001b[43mexp_avgs\u001b[49m\u001b[43m,\u001b[49m\n\u001b[1;32m    167\u001b[0m \u001b[43m        \u001b[49m\u001b[43mexp_avg_sqs\u001b[49m\u001b[43m,\u001b[49m\n\u001b[1;32m    168\u001b[0m \u001b[43m        \u001b[49m\u001b[43mmax_exp_avg_sqs\u001b[49m\u001b[43m,\u001b[49m\n\u001b[1;32m    169\u001b[0m \u001b[43m        \u001b[49m\u001b[43mstate_steps\u001b[49m\u001b[43m,\u001b[49m\n\u001b[1;32m    170\u001b[0m \u001b[43m        \u001b[49m\u001b[43mamsgrad\u001b[49m\u001b[38;5;241;43m=\u001b[39;49m\u001b[43mgroup\u001b[49m\u001b[43m[\u001b[49m\u001b[38;5;124;43m'\u001b[39;49m\u001b[38;5;124;43mamsgrad\u001b[39;49m\u001b[38;5;124;43m'\u001b[39;49m\u001b[43m]\u001b[49m\u001b[43m,\u001b[49m\n\u001b[1;32m    171\u001b[0m \u001b[43m        \u001b[49m\u001b[43mbeta1\u001b[49m\u001b[38;5;241;43m=\u001b[39;49m\u001b[43mbeta1\u001b[49m\u001b[43m,\u001b[49m\n\u001b[1;32m    172\u001b[0m \u001b[43m        \u001b[49m\u001b[43mbeta2\u001b[49m\u001b[38;5;241;43m=\u001b[39;49m\u001b[43mbeta2\u001b[49m\u001b[43m,\u001b[49m\n\u001b[1;32m    173\u001b[0m \u001b[43m        \u001b[49m\u001b[43mlr\u001b[49m\u001b[38;5;241;43m=\u001b[39;49m\u001b[43mgroup\u001b[49m\u001b[43m[\u001b[49m\u001b[38;5;124;43m'\u001b[39;49m\u001b[38;5;124;43mlr\u001b[39;49m\u001b[38;5;124;43m'\u001b[39;49m\u001b[43m]\u001b[49m\u001b[43m,\u001b[49m\n\u001b[1;32m    174\u001b[0m \u001b[43m        \u001b[49m\u001b[43mweight_decay\u001b[49m\u001b[38;5;241;43m=\u001b[39;49m\u001b[43mgroup\u001b[49m\u001b[43m[\u001b[49m\u001b[38;5;124;43m'\u001b[39;49m\u001b[38;5;124;43mweight_decay\u001b[39;49m\u001b[38;5;124;43m'\u001b[39;49m\u001b[43m]\u001b[49m\u001b[43m,\u001b[49m\n\u001b[1;32m    175\u001b[0m \u001b[43m        \u001b[49m\u001b[43meps\u001b[49m\u001b[38;5;241;43m=\u001b[39;49m\u001b[43mgroup\u001b[49m\u001b[43m[\u001b[49m\u001b[38;5;124;43m'\u001b[39;49m\u001b[38;5;124;43meps\u001b[39;49m\u001b[38;5;124;43m'\u001b[39;49m\u001b[43m]\u001b[49m\u001b[43m,\u001b[49m\n\u001b[1;32m    176\u001b[0m \u001b[43m        \u001b[49m\u001b[43mmaximize\u001b[49m\u001b[38;5;241;43m=\u001b[39;49m\u001b[43mgroup\u001b[49m\u001b[43m[\u001b[49m\u001b[38;5;124;43m'\u001b[39;49m\u001b[38;5;124;43mmaximize\u001b[39;49m\u001b[38;5;124;43m'\u001b[39;49m\u001b[43m]\u001b[49m\u001b[43m,\u001b[49m\n\u001b[1;32m    177\u001b[0m \u001b[43m        \u001b[49m\u001b[43mforeach\u001b[49m\u001b[38;5;241;43m=\u001b[39;49m\u001b[43mgroup\u001b[49m\u001b[43m[\u001b[49m\u001b[38;5;124;43m'\u001b[39;49m\u001b[38;5;124;43mforeach\u001b[39;49m\u001b[38;5;124;43m'\u001b[39;49m\u001b[43m]\u001b[49m\u001b[43m,\u001b[49m\n\u001b[1;32m    178\u001b[0m \u001b[43m        \u001b[49m\u001b[43mcapturable\u001b[49m\u001b[38;5;241;43m=\u001b[39;49m\u001b[43mgroup\u001b[49m\u001b[43m[\u001b[49m\u001b[38;5;124;43m'\u001b[39;49m\u001b[38;5;124;43mcapturable\u001b[39;49m\u001b[38;5;124;43m'\u001b[39;49m\u001b[43m]\u001b[49m\u001b[43m,\u001b[49m\n\u001b[1;32m    179\u001b[0m \u001b[43m        \u001b[49m\u001b[43mdifferentiable\u001b[49m\u001b[38;5;241;43m=\u001b[39;49m\u001b[43mgroup\u001b[49m\u001b[43m[\u001b[49m\u001b[38;5;124;43m'\u001b[39;49m\u001b[38;5;124;43mdifferentiable\u001b[39;49m\u001b[38;5;124;43m'\u001b[39;49m\u001b[43m]\u001b[49m\u001b[43m,\u001b[49m\n\u001b[1;32m    180\u001b[0m \u001b[43m        \u001b[49m\u001b[43mfused\u001b[49m\u001b[38;5;241;43m=\u001b[39;49m\u001b[43mgroup\u001b[49m\u001b[43m[\u001b[49m\u001b[38;5;124;43m'\u001b[39;49m\u001b[38;5;124;43mfused\u001b[39;49m\u001b[38;5;124;43m'\u001b[39;49m\u001b[43m]\u001b[49m\u001b[43m,\u001b[49m\n\u001b[1;32m    181\u001b[0m \u001b[43m        \u001b[49m\u001b[43mgrad_scale\u001b[49m\u001b[38;5;241;43m=\u001b[39;49m\u001b[38;5;28;43mgetattr\u001b[39;49m\u001b[43m(\u001b[49m\u001b[38;5;28;43mself\u001b[39;49m\u001b[43m,\u001b[49m\u001b[43m \u001b[49m\u001b[38;5;124;43m\"\u001b[39;49m\u001b[38;5;124;43mgrad_scale\u001b[39;49m\u001b[38;5;124;43m\"\u001b[39;49m\u001b[43m,\u001b[49m\u001b[43m \u001b[49m\u001b[38;5;28;43;01mNone\u001b[39;49;00m\u001b[43m)\u001b[49m\u001b[43m,\u001b[49m\n\u001b[1;32m    182\u001b[0m \u001b[43m        \u001b[49m\u001b[43mfound_inf\u001b[49m\u001b[38;5;241;43m=\u001b[39;49m\u001b[38;5;28;43mgetattr\u001b[39;49m\u001b[43m(\u001b[49m\u001b[38;5;28;43mself\u001b[39;49m\u001b[43m,\u001b[49m\u001b[43m \u001b[49m\u001b[38;5;124;43m\"\u001b[39;49m\u001b[38;5;124;43mfound_inf\u001b[39;49m\u001b[38;5;124;43m\"\u001b[39;49m\u001b[43m,\u001b[49m\u001b[43m \u001b[49m\u001b[38;5;28;43;01mNone\u001b[39;49;00m\u001b[43m)\u001b[49m\u001b[43m,\u001b[49m\n\u001b[1;32m    183\u001b[0m \u001b[43m    \u001b[49m\u001b[43m)\u001b[49m\n\u001b[1;32m    185\u001b[0m \u001b[38;5;28;01mreturn\u001b[39;00m loss\n",
      "File \u001b[0;32m~/miniconda3/envs/RecSysFramework/lib/python3.8/site-packages/torch/optim/adam.py:311\u001b[0m, in \u001b[0;36madam\u001b[0;34m(params, grads, exp_avgs, exp_avg_sqs, max_exp_avg_sqs, state_steps, foreach, capturable, differentiable, fused, grad_scale, found_inf, amsgrad, beta1, beta2, lr, weight_decay, eps, maximize)\u001b[0m\n\u001b[1;32m    308\u001b[0m \u001b[38;5;28;01melse\u001b[39;00m:\n\u001b[1;32m    309\u001b[0m     func \u001b[38;5;241m=\u001b[39m _single_tensor_adam\n\u001b[0;32m--> 311\u001b[0m \u001b[43mfunc\u001b[49m\u001b[43m(\u001b[49m\u001b[43mparams\u001b[49m\u001b[43m,\u001b[49m\n\u001b[1;32m    312\u001b[0m \u001b[43m     \u001b[49m\u001b[43mgrads\u001b[49m\u001b[43m,\u001b[49m\n\u001b[1;32m    313\u001b[0m \u001b[43m     \u001b[49m\u001b[43mexp_avgs\u001b[49m\u001b[43m,\u001b[49m\n\u001b[1;32m    314\u001b[0m \u001b[43m     \u001b[49m\u001b[43mexp_avg_sqs\u001b[49m\u001b[43m,\u001b[49m\n\u001b[1;32m    315\u001b[0m \u001b[43m     \u001b[49m\u001b[43mmax_exp_avg_sqs\u001b[49m\u001b[43m,\u001b[49m\n\u001b[1;32m    316\u001b[0m \u001b[43m     \u001b[49m\u001b[43mstate_steps\u001b[49m\u001b[43m,\u001b[49m\n\u001b[1;32m    317\u001b[0m \u001b[43m     \u001b[49m\u001b[43mamsgrad\u001b[49m\u001b[38;5;241;43m=\u001b[39;49m\u001b[43mamsgrad\u001b[49m\u001b[43m,\u001b[49m\n\u001b[1;32m    318\u001b[0m \u001b[43m     \u001b[49m\u001b[43mbeta1\u001b[49m\u001b[38;5;241;43m=\u001b[39;49m\u001b[43mbeta1\u001b[49m\u001b[43m,\u001b[49m\n\u001b[1;32m    319\u001b[0m \u001b[43m     \u001b[49m\u001b[43mbeta2\u001b[49m\u001b[38;5;241;43m=\u001b[39;49m\u001b[43mbeta2\u001b[49m\u001b[43m,\u001b[49m\n\u001b[1;32m    320\u001b[0m \u001b[43m     \u001b[49m\u001b[43mlr\u001b[49m\u001b[38;5;241;43m=\u001b[39;49m\u001b[43mlr\u001b[49m\u001b[43m,\u001b[49m\n\u001b[1;32m    321\u001b[0m \u001b[43m     \u001b[49m\u001b[43mweight_decay\u001b[49m\u001b[38;5;241;43m=\u001b[39;49m\u001b[43mweight_decay\u001b[49m\u001b[43m,\u001b[49m\n\u001b[1;32m    322\u001b[0m \u001b[43m     \u001b[49m\u001b[43meps\u001b[49m\u001b[38;5;241;43m=\u001b[39;49m\u001b[43meps\u001b[49m\u001b[43m,\u001b[49m\n\u001b[1;32m    323\u001b[0m \u001b[43m     \u001b[49m\u001b[43mmaximize\u001b[49m\u001b[38;5;241;43m=\u001b[39;49m\u001b[43mmaximize\u001b[49m\u001b[43m,\u001b[49m\n\u001b[1;32m    324\u001b[0m \u001b[43m     \u001b[49m\u001b[43mcapturable\u001b[49m\u001b[38;5;241;43m=\u001b[39;49m\u001b[43mcapturable\u001b[49m\u001b[43m,\u001b[49m\n\u001b[1;32m    325\u001b[0m \u001b[43m     \u001b[49m\u001b[43mdifferentiable\u001b[49m\u001b[38;5;241;43m=\u001b[39;49m\u001b[43mdifferentiable\u001b[49m\u001b[43m,\u001b[49m\n\u001b[1;32m    326\u001b[0m \u001b[43m     \u001b[49m\u001b[43mgrad_scale\u001b[49m\u001b[38;5;241;43m=\u001b[39;49m\u001b[43mgrad_scale\u001b[49m\u001b[43m,\u001b[49m\n\u001b[1;32m    327\u001b[0m \u001b[43m     \u001b[49m\u001b[43mfound_inf\u001b[49m\u001b[38;5;241;43m=\u001b[39;49m\u001b[43mfound_inf\u001b[49m\u001b[43m)\u001b[49m\n",
      "File \u001b[0;32m~/miniconda3/envs/RecSysFramework/lib/python3.8/site-packages/torch/optim/adam.py:385\u001b[0m, in \u001b[0;36m_single_tensor_adam\u001b[0;34m(params, grads, exp_avgs, exp_avg_sqs, max_exp_avg_sqs, state_steps, grad_scale, found_inf, amsgrad, beta1, beta2, lr, weight_decay, eps, maximize, capturable, differentiable)\u001b[0m\n\u001b[1;32m    383\u001b[0m \u001b[38;5;66;03m# Decay the first and second moment running average coefficient\u001b[39;00m\n\u001b[1;32m    384\u001b[0m exp_avg\u001b[38;5;241m.\u001b[39mlerp_(grad, \u001b[38;5;241m1\u001b[39m \u001b[38;5;241m-\u001b[39m beta1)\n\u001b[0;32m--> 385\u001b[0m \u001b[43mexp_avg_sq\u001b[49m\u001b[38;5;241;43m.\u001b[39;49m\u001b[43mmul_\u001b[49m\u001b[43m(\u001b[49m\u001b[43mbeta2\u001b[49m\u001b[43m)\u001b[49m\u001b[38;5;241;43m.\u001b[39;49m\u001b[43maddcmul_\u001b[49m\u001b[43m(\u001b[49m\u001b[43mgrad\u001b[49m\u001b[43m,\u001b[49m\u001b[43m \u001b[49m\u001b[43mgrad\u001b[49m\u001b[38;5;241;43m.\u001b[39;49m\u001b[43mconj\u001b[49m\u001b[43m(\u001b[49m\u001b[43m)\u001b[49m\u001b[43m,\u001b[49m\u001b[43m \u001b[49m\u001b[43mvalue\u001b[49m\u001b[38;5;241;43m=\u001b[39;49m\u001b[38;5;241;43m1\u001b[39;49m\u001b[43m \u001b[49m\u001b[38;5;241;43m-\u001b[39;49m\u001b[43m \u001b[49m\u001b[43mbeta2\u001b[49m\u001b[43m)\u001b[49m\n\u001b[1;32m    387\u001b[0m \u001b[38;5;28;01mif\u001b[39;00m capturable \u001b[38;5;129;01mor\u001b[39;00m differentiable:\n\u001b[1;32m    388\u001b[0m     step \u001b[38;5;241m=\u001b[39m step_t\n",
      "\u001b[0;31mKeyboardInterrupt\u001b[0m: "
     ]
    }
   ],
   "source": [
    "#best_params = {'topK': 6658, 'l1_ratio': 0.03659854387723134, 'alpha': 0.0012812054186341782}\n",
    "\n",
    "study = op.create_study(direction=\"maximize\")\n",
    "#study.enqueue_trial(best_params)\n",
    "study.optimize(objective, n_trials=30)"
   ]
  },
  {
   "cell_type": "code",
   "execution_count": null,
   "id": "6edb5df8",
   "metadata": {},
   "outputs": [],
   "source": [
    "study.trials_dataframe().to_csv(\"MultVAE_optuna_V1.csv\")"
   ]
  },
  {
   "cell_type": "code",
   "execution_count": null,
   "id": "3682b997",
   "metadata": {},
   "outputs": [
    {
     "data": {
      "text/plain": [
       "FrozenTrial(number=18, state=TrialState.COMPLETE, values=[0.030364252184200514], datetime_start=datetime.datetime(2023, 12, 8, 22, 37, 13, 551044), datetime_complete=datetime.datetime(2023, 12, 8, 22, 41, 24, 250874), params={'topK': 7765, 'l1_ratio': 0.029537380631026046, 'alpha': 0.0018328668672485519}, user_attrs={}, system_attrs={}, intermediate_values={}, distributions={'topK': IntDistribution(high=10000, log=False, low=5, step=1), 'l1_ratio': FloatDistribution(high=0.1, log=False, low=0.01, step=None), 'alpha': FloatDistribution(high=0.015, log=False, low=0.0005, step=None)}, trial_id=18, value=None)"
      ]
     },
     "execution_count": 15,
     "metadata": {},
     "output_type": "execute_result"
    }
   ],
   "source": [
    "study.best_trial"
   ]
  },
  {
   "cell_type": "code",
   "execution_count": null,
   "id": "3ad13d74",
   "metadata": {},
   "outputs": [
    {
     "data": {
      "text/plain": [
       "0.030364252184200514"
      ]
     },
     "execution_count": 16,
     "metadata": {},
     "output_type": "execute_result"
    }
   ],
   "source": [
    "study.best_value"
   ]
  },
  {
   "cell_type": "code",
   "execution_count": null,
   "id": "62bcfd12",
   "metadata": {
    "execution": {
     "iopub.execute_input": "2023-01-14T10:12:28.328535Z",
     "iopub.status.busy": "2023-01-14T10:12:28.328088Z",
     "iopub.status.idle": "2023-01-14T10:12:28.338642Z",
     "shell.execute_reply": "2023-01-14T10:12:28.337056Z"
    },
    "papermill": {
     "duration": 0.038497,
     "end_time": "2023-01-14T10:12:28.341713",
     "exception": false,
     "start_time": "2023-01-14T10:12:28.303216",
     "status": "completed"
    },
    "tags": []
   },
   "outputs": [
    {
     "data": {
      "text/plain": [
       "{'topK': 7765,\n",
       " 'l1_ratio': 0.029537380631026046,\n",
       " 'alpha': 0.0018328668672485519}"
      ]
     },
     "execution_count": 17,
     "metadata": {},
     "output_type": "execute_result"
    }
   ],
   "source": [
    "study.best_params"
   ]
  },
  {
   "cell_type": "code",
   "execution_count": null,
   "id": "f301d6a3",
   "metadata": {
    "execution": {
     "iopub.execute_input": "2023-01-14T10:12:28.390594Z",
     "iopub.status.busy": "2023-01-14T10:12:28.390172Z",
     "iopub.status.idle": "2023-01-14T10:47:29.742879Z",
     "shell.execute_reply": "2023-01-14T10:47:29.741132Z"
    },
    "papermill": {
     "duration": 2101.380636,
     "end_time": "2023-01-14T10:47:29.746360",
     "exception": false,
     "start_time": "2023-01-14T10:12:28.365724",
     "status": "completed"
    },
    "tags": []
   },
   "outputs": [
    {
     "name": "stdout",
     "output_type": "stream",
     "text": [
      "SLIMElasticNetRecommender: URM Detected 218 ( 1.7%) users with no interactions.\n",
      "SLIMElasticNetRecommender: URM Detected 110 ( 0.5%) items with no interactions.\n",
      "SLIMElasticNetRecommender: Processed 22222 (100.0%) in 4.42 min. Items per second: 83.87\n"
     ]
    }
   ],
   "source": [
    "final = model(urm_train_validation)\n",
    "final.fit(**study.best_params)"
   ]
  },
  {
   "cell_type": "code",
   "execution_count": null,
   "id": "a2073bef",
   "metadata": {
    "execution": {
     "iopub.execute_input": "2023-01-14T10:47:29.794164Z",
     "iopub.status.busy": "2023-01-14T10:47:29.793702Z",
     "iopub.status.idle": "2023-01-14T10:48:21.874857Z",
     "shell.execute_reply": "2023-01-14T10:48:21.873778Z"
    },
    "papermill": {
     "duration": 52.108424,
     "end_time": "2023-01-14T10:48:21.877435",
     "exception": false,
     "start_time": "2023-01-14T10:47:29.769011",
     "status": "completed"
    },
    "tags": []
   },
   "outputs": [
    {
     "name": "stdout",
     "output_type": "stream",
     "text": [
      "EvaluatorHoldout: Ignoring 2128 (16.8%) Users that have less than 1 test interactions\n",
      "EvaluatorHoldout: Ignoring 0 Users\n",
      "EvaluatorHoldout: Processed 10510 (100.0%) in 4.52 sec. Users per second: 2324\n"
     ]
    },
    {
     "data": {
      "text/plain": [
       "(       PRECISION PRECISION_RECALL_MIN_DEN    RECALL       MAP MAP_MIN_DEN  \\\n",
       " cutoff                                                                      \n",
       " 10      0.095852                 0.167628  0.142246  0.048987    0.084815   \n",
       " \n",
       "              MRR      NDCG        F1  HIT_RATE ARHR_ALL_HITS  ...  \\\n",
       " cutoff                                                        ...   \n",
       " 10      0.274723  0.152679  0.114529  0.526261      0.362642  ...   \n",
       " \n",
       "        COVERAGE_USER COVERAGE_USER_HIT USERS_IN_GT DIVERSITY_GINI  \\\n",
       " cutoff                                                              \n",
       " 10          0.831619          0.437648    0.831619       0.049873   \n",
       " \n",
       "        SHANNON_ENTROPY RATIO_DIVERSITY_HERFINDAHL RATIO_DIVERSITY_GINI  \\\n",
       " cutoff                                                                   \n",
       " 10           10.047246                   0.997434             0.142905   \n",
       " \n",
       "        RATIO_SHANNON_ENTROPY RATIO_AVERAGE_POPULARITY RATIO_NOVELTY  \n",
       " cutoff                                                               \n",
       " 10                  0.773889                 1.931065      0.280156  \n",
       " \n",
       " [1 rows x 27 columns],\n",
       " 'CUTOFF: 10 - PRECISION: 0.0958516, PRECISION_RECALL_MIN_DEN: 0.1676275, RECALL: 0.1422462, MAP: 0.0489871, MAP_MIN_DEN: 0.0848151, MRR: 0.2747227, NDCG: 0.1526786, F1: 0.1145288, HIT_RATE: 0.5262607, ARHR_ALL_HITS: 0.3626419, NOVELTY: 0.0049601, AVERAGE_POPULARITY: 0.2419642, DIVERSITY_MEAN_INTER_LIST: 0.9708355, DIVERSITY_HERFINDAHL: 0.9970743, COVERAGE_ITEM: 0.2722527, COVERAGE_ITEM_HIT: 0.0882459, ITEMS_IN_GT: 0.8014580, COVERAGE_USER: 0.8316189, COVERAGE_USER_HIT: 0.4376484, USERS_IN_GT: 0.8316189, DIVERSITY_GINI: 0.0498731, SHANNON_ENTROPY: 10.0472465, RATIO_DIVERSITY_HERFINDAHL: 0.9974343, RATIO_DIVERSITY_GINI: 0.1429052, RATIO_SHANNON_ENTROPY: 0.7738891, RATIO_AVERAGE_POPULARITY: 1.9310650, RATIO_NOVELTY: 0.2801564, \\n')"
      ]
     },
     "execution_count": 19,
     "metadata": {},
     "output_type": "execute_result"
    }
   ],
   "source": [
    "from Evaluation.Evaluator import EvaluatorHoldout\n",
    "evaluator_test = EvaluatorHoldout(urm_test, cutoff_list=[10], ignore_users=[])\n",
    "evaluator_test.evaluateRecommender(final)"
   ]
  },
  {
   "cell_type": "code",
   "execution_count": null,
   "id": "151e93de",
   "metadata": {},
   "outputs": [],
   "source": [
    "opt_df = study.trials_dataframe()"
   ]
  }
 ],
 "metadata": {
  "kernelspec": {
   "display_name": "Python 3",
   "language": "python",
   "name": "python3"
  },
  "language_info": {
   "codemirror_mode": {
    "name": "ipython",
    "version": 3
   },
   "file_extension": ".py",
   "mimetype": "text/x-python",
   "name": "python",
   "nbconvert_exporter": "python",
   "pygments_lexer": "ipython3",
   "version": "3.8.18"
  },
  "papermill": {
   "default_parameters": {},
   "duration": 40634.925398,
   "end_time": "2023-01-14T10:48:32.534297",
   "environment_variables": {},
   "exception": null,
   "input_path": "__notebook__.ipynb",
   "output_path": "__notebook__.ipynb",
   "parameters": {},
   "start_time": "2023-01-13T23:31:17.608899",
   "version": "2.3.4"
  }
 },
 "nbformat": 4,
 "nbformat_minor": 5
}
