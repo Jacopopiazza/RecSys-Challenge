{
 "cells": [
  {
   "cell_type": "code",
   "execution_count": null,
   "id": "068bf24c",
   "metadata": {},
   "outputs": [],
   "source": [
    "import os\n",
    "os.chdir( \"../\")"
   ]
  },
  {
   "cell_type": "code",
   "execution_count": null,
   "id": "e1f6b14d",
   "metadata": {
    "execution": {
     "iopub.execute_input": "2023-01-13T23:31:56.063140Z",
     "iopub.status.busy": "2023-01-13T23:31:56.062656Z",
     "iopub.status.idle": "2023-01-13T23:32:20.885408Z",
     "shell.execute_reply": "2023-01-13T23:32:20.884000Z"
    },
    "papermill": {
     "duration": 24.835316,
     "end_time": "2023-01-13T23:32:20.888242",
     "exception": false,
     "start_time": "2023-01-13T23:31:56.052926",
     "status": "completed"
    },
    "tags": []
   },
   "outputs": [],
   "source": [
    "import pandas as pd\n",
    "import numpy as np\n",
    "\n",
    "path = \"Dataset/data_train.csv\"\n",
    "df = pd.read_csv(filepath_or_buffer=path,\n",
    "                               sep=\",\",\n",
    "                               header=1,\n",
    "                               engine='python',\n",
    "                               names=['UserID', 'ItemID', 'Interaction'])\n",
    "\n",
    "\n",
    "df"
   ]
  },
  {
   "cell_type": "code",
   "execution_count": null,
   "id": "4e99704b",
   "metadata": {},
   "outputs": [],
   "source": [
    "df.Interaction.value_counts()"
   ]
  },
  {
   "cell_type": "code",
   "execution_count": null,
   "id": "6007a4c4",
   "metadata": {
    "execution": {
     "iopub.execute_input": "2023-01-13T23:32:20.910866Z",
     "iopub.status.busy": "2023-01-13T23:32:20.909759Z",
     "iopub.status.idle": "2023-01-13T23:32:21.591015Z",
     "shell.execute_reply": "2023-01-13T23:32:21.589709Z"
    },
    "papermill": {
     "duration": 0.69668,
     "end_time": "2023-01-13T23:32:21.593809",
     "exception": false,
     "start_time": "2023-01-13T23:32:20.897129",
     "status": "completed"
    },
    "tags": []
   },
   "outputs": [],
   "source": [
    "df.info()"
   ]
  },
  {
   "cell_type": "code",
   "execution_count": null,
   "id": "c6215bb9",
   "metadata": {},
   "outputs": [],
   "source": [
    "user_ids = df[\"UserID\"].unique().tolist()\n",
    "user2user_encoded = {x: i for i, x in enumerate(user_ids)}\n",
    "userencoded2user = {i: x for i, x in enumerate(user_ids)}\n",
    "item_ids = df[\"ItemID\"].unique().tolist()\n",
    "item2item_encoded = {x: i for i, x in enumerate(item_ids)}\n",
    "item_encoded2item = {i: x for i, x in enumerate(item_ids)}\n",
    "df[\"User\"] = df[\"UserID\"].map(user2user_encoded)\n",
    "df[\"Item\"] = df[\"ItemID\"].map(item2item_encoded)\n",
    "\n",
    "num_users = len(user2user_encoded)\n",
    "num_items = len(item_encoded2item)\n",
    "df[\"Interaction\"] = df[\"Interaction\"].values.astype(np.float32)\n",
    "\n",
    "# min and max ratings will be used to normalize the ratings later\n",
    "min_rating = 0.0\n",
    "max_rating = max(df[\"Interaction\"])\n",
    "\n",
    "print(\n",
    "    \"Number of users: {}, Number of Items: {}, Min rating: {}, Max rating: {}\".format(\n",
    "        num_users, num_items, min_rating, max_rating\n",
    "    )\n",
    ")"
   ]
  },
  {
   "cell_type": "code",
   "execution_count": null,
   "id": "f74196f4",
   "metadata": {},
   "outputs": [],
   "source": [
    "df.head()"
   ]
  },
  {
   "cell_type": "code",
   "execution_count": null,
   "id": "0adaa414",
   "metadata": {
    "execution": {
     "iopub.execute_input": "2023-01-13T23:32:21.787768Z",
     "iopub.status.busy": "2023-01-13T23:32:21.787354Z",
     "iopub.status.idle": "2023-01-13T23:32:21.825384Z",
     "shell.execute_reply": "2023-01-13T23:32:21.824102Z"
    },
    "papermill": {
     "duration": 0.05165,
     "end_time": "2023-01-13T23:32:21.828219",
     "exception": false,
     "start_time": "2023-01-13T23:32:21.776569",
     "status": "completed"
    },
    "tags": []
   },
   "outputs": [],
   "source": [
    "userId_unique = df[\"UserID\"].unique()\n",
    "itemId_unique = df[\"ItemID\"].unique()"
   ]
  },
  {
   "cell_type": "code",
   "execution_count": null,
   "id": "c67736a2",
   "metadata": {
    "execution": {
     "iopub.execute_input": "2023-01-13T23:32:21.850104Z",
     "iopub.status.busy": "2023-01-13T23:32:21.849559Z",
     "iopub.status.idle": "2023-01-13T23:32:23.566750Z",
     "shell.execute_reply": "2023-01-13T23:32:23.565195Z"
    },
    "papermill": {
     "duration": 1.73095,
     "end_time": "2023-01-13T23:32:23.569747",
     "exception": false,
     "start_time": "2023-01-13T23:32:21.838797",
     "status": "completed"
    },
    "tags": []
   },
   "outputs": [],
   "source": [
    "from sklearn.model_selection import train_test_split\n",
    "import numpy as np\n",
    "import scipy.sparse as sps\n",
    "from Data_manager.split_functions.split_train_validation_random_holdout import split_train_in_two_percentage_global_sample\n",
    "\n",
    "\n",
    "\n",
    "urm_all = sps.coo_matrix((df[\"Interaction\"].values, \n",
    "                          (df[\"User\"].values, df[\"Item\"].values)))\n",
    "\n",
    "urm_train_validation, urm_test = split_train_in_two_percentage_global_sample(urm_all, train_percentage = 0.80)\n",
    "urm_train, urm_validation = split_train_in_two_percentage_global_sample(urm_train_validation, train_percentage = 0.80)"
   ]
  },
  {
   "cell_type": "code",
   "execution_count": null,
   "id": "055f6397",
   "metadata": {
    "execution": {
     "iopub.execute_input": "2023-01-13T23:32:23.592354Z",
     "iopub.status.busy": "2023-01-13T23:32:23.591890Z",
     "iopub.status.idle": "2023-01-13T23:32:23.597435Z",
     "shell.execute_reply": "2023-01-13T23:32:23.596059Z"
    },
    "papermill": {
     "duration": 0.020022,
     "end_time": "2023-01-13T23:32:23.599856",
     "exception": false,
     "start_time": "2023-01-13T23:32:23.579834",
     "status": "completed"
    },
    "tags": []
   },
   "outputs": [],
   "source": [
    "num_users = len(userId_unique)\n",
    "num_items = len(itemId_unique)"
   ]
  },
  {
   "cell_type": "code",
   "execution_count": null,
   "id": "6f12f62b",
   "metadata": {
    "execution": {
     "iopub.execute_input": "2023-01-13T23:32:24.004792Z",
     "iopub.status.busy": "2023-01-13T23:32:24.004003Z",
     "iopub.status.idle": "2023-01-13T23:32:30.128567Z",
     "shell.execute_reply": "2023-01-13T23:32:30.126914Z"
    },
    "papermill": {
     "duration": 6.138328,
     "end_time": "2023-01-13T23:32:30.131322",
     "exception": false,
     "start_time": "2023-01-13T23:32:23.992994",
     "status": "completed"
    },
    "tags": []
   },
   "outputs": [],
   "source": [
    "from Recommenders.Recommender_import_list import *\n",
    "from Evaluation.Evaluator import EvaluatorHoldout\n",
    "evaluator_validation = EvaluatorHoldout(urm_validation, cutoff_list=[10], ignore_users=[])"
   ]
  },
  {
   "cell_type": "markdown",
   "id": "2cf8b920",
   "metadata": {
    "execution": {
     "iopub.execute_input": "2022-12-29T17:17:34.5603Z",
     "iopub.status.busy": "2022-12-29T17:17:34.559836Z",
     "iopub.status.idle": "2022-12-29T17:17:34.565723Z",
     "shell.execute_reply": "2022-12-29T17:17:34.564633Z",
     "shell.execute_reply.started": "2022-12-29T17:17:34.560267Z"
    },
    "papermill": {
     "duration": 0.009276,
     "end_time": "2023-01-13T23:32:30.150532",
     "exception": false,
     "start_time": "2023-01-13T23:32:30.141256",
     "status": "completed"
    },
    "tags": []
   },
   "source": [
    "## Insert model here"
   ]
  },
  {
   "cell_type": "code",
   "execution_count": null,
   "id": "7986d6ef",
   "metadata": {
    "execution": {
     "iopub.execute_input": "2023-01-13T23:32:30.172147Z",
     "iopub.status.busy": "2023-01-13T23:32:30.171384Z",
     "iopub.status.idle": "2023-01-13T23:32:30.177196Z",
     "shell.execute_reply": "2023-01-13T23:32:30.175926Z"
    },
    "papermill": {
     "duration": 0.01951,
     "end_time": "2023-01-13T23:32:30.179676",
     "exception": false,
     "start_time": "2023-01-13T23:32:30.160166",
     "status": "completed"
    },
    "tags": []
   },
   "outputs": [],
   "source": [
    "from Recommenders.EASE_R.EASE_R_RecommenderV2 import EASE_R_RecommenderV2\n",
    "model = EASE_R_RecommenderV2"
   ]
  },
  {
   "cell_type": "markdown",
   "id": "f382e5b2",
   "metadata": {},
   "source": [
    "## Hyperparamters Tuning"
   ]
  },
  {
   "cell_type": "code",
   "execution_count": null,
   "id": "ced51cc9",
   "metadata": {
    "execution": {
     "iopub.execute_input": "2023-01-13T23:32:30.201573Z",
     "iopub.status.busy": "2023-01-13T23:32:30.201045Z",
     "iopub.status.idle": "2023-01-13T23:32:30.484063Z",
     "shell.execute_reply": "2023-01-13T23:32:30.482481Z"
    },
    "papermill": {
     "duration": 0.297483,
     "end_time": "2023-01-13T23:32:30.487197",
     "exception": false,
     "start_time": "2023-01-13T23:32:30.189714",
     "status": "completed"
    },
    "tags": []
   },
   "outputs": [],
   "source": [
    "import optuna as op\n",
    "\n",
    "def objective(trial):\n",
    "\n",
    "\n",
    "    hyperparameters_range_dictionary = {\n",
    "                \"epochs\": trial.suggest_categorical(\"epochs\",[500]),\n",
    "                \"learning_rate\": trial.suggest_float(\"learning_rate\",low=1e-6, high=1e-2, log=True),\n",
    "                \"l2_reg\": trial.suggest_float(\"l2_reg\",low=1e-6, high=1e-2, log=True),\n",
    "                \"dropout\": trial.suggest_float(\"dropout\", low=0., high=0.8),\n",
    "                \"total_anneal_steps\": trial.suggest_int(\"total_anneal_steps\",100000, 600000),\n",
    "                \"anneal_cap\": trial.suggest_float(\"anneal_cap\",low=0., high=0.6),\n",
    "                \"batch_size\": trial.suggest_categorical(\"batch_size\",[128, 256, 512, 1024]),\n",
    "                \"p_dims\": trial.suggest_categorical(\"p_dims\",[[num_users, num_items]]),\n",
    "                \"sgd_mode\": trial.suggest_categorical(\"sgd_mode\",[\"Adam\"]),\n",
    "            }\n",
    "\n",
    "\n",
    "\n",
    "\n",
    "     # Earlystopping hyperparameters available in the framework\n",
    "    full_hyperp = {\"validation_every_n\": 3,\n",
    "                   \"stop_on_validation\": True,\n",
    "                   \"evaluator_object\": evaluator_validation,\n",
    "                   \"lower_validations_allowed\": 3,   # Higher values will result in a more \"patient\" earlystopping\n",
    "                   \"validation_metric\": \"MAP\",\n",
    "                  }\n",
    "                      \n",
    "\n",
    "    \n",
    "    recommender = model(urm_train, verbose=True)\n",
    "    recommender.fit(**trial.params, **full_hyperp)\n",
    "    \n",
    "    # Add the number of epochs selected by earlystopping as a \"user attribute\" of the optuna trial\n",
    "    epochs = recommender.get_early_stopping_final_epochs_dict()[\"epochs\"]\n",
    "    trial.set_user_attr(\"epochs\", epochs) \n",
    "\n",
    "    result, _ = evaluator_validation.evaluateRecommender(recommender)\n",
    "    MAP_result = result[\"MAP\"].item()\n",
    "       \n",
    "    return MAP_result"
   ]
  },
  {
   "cell_type": "code",
   "execution_count": null,
   "id": "1c29515a",
   "metadata": {
    "execution": {
     "iopub.execute_input": "2023-01-13T23:32:30.509030Z",
     "iopub.status.busy": "2023-01-13T23:32:30.508590Z",
     "iopub.status.idle": "2023-01-14T10:12:28.268056Z",
     "shell.execute_reply": "2023-01-14T10:12:28.266491Z"
    },
    "papermill": {
     "duration": 38397.783761,
     "end_time": "2023-01-14T10:12:28.280903",
     "exception": false,
     "start_time": "2023-01-13T23:32:30.497142",
     "status": "completed"
    },
    "tags": []
   },
   "outputs": [],
   "source": [
    "study = op.create_study(direction=\"maximize\")\n",
    "study.optimize(objective, n_trials=30)"
   ]
  },
  {
   "cell_type": "code",
   "execution_count": null,
   "id": "3ad13d74",
   "metadata": {},
   "outputs": [],
   "source": [
    "study.best_value"
   ]
  },
  {
   "cell_type": "code",
   "execution_count": null,
   "id": "62bcfd12",
   "metadata": {
    "execution": {
     "iopub.execute_input": "2023-01-14T10:12:28.328535Z",
     "iopub.status.busy": "2023-01-14T10:12:28.328088Z",
     "iopub.status.idle": "2023-01-14T10:12:28.338642Z",
     "shell.execute_reply": "2023-01-14T10:12:28.337056Z"
    },
    "papermill": {
     "duration": 0.038497,
     "end_time": "2023-01-14T10:12:28.341713",
     "exception": false,
     "start_time": "2023-01-14T10:12:28.303216",
     "status": "completed"
    },
    "tags": []
   },
   "outputs": [],
   "source": [
    "study.best_params"
   ]
  },
  {
   "cell_type": "markdown",
   "id": "d8917db4",
   "metadata": {},
   "source": [
    "## Fit and Test"
   ]
  },
  {
   "cell_type": "code",
   "execution_count": null,
   "id": "f301d6a3",
   "metadata": {
    "execution": {
     "iopub.execute_input": "2023-01-14T10:12:28.390594Z",
     "iopub.status.busy": "2023-01-14T10:12:28.390172Z",
     "iopub.status.idle": "2023-01-14T10:47:29.742879Z",
     "shell.execute_reply": "2023-01-14T10:47:29.741132Z"
    },
    "papermill": {
     "duration": 2101.380636,
     "end_time": "2023-01-14T10:47:29.746360",
     "exception": false,
     "start_time": "2023-01-14T10:12:28.365724",
     "status": "completed"
    },
    "tags": []
   },
   "outputs": [],
   "source": [
    "final = model(urm_train_validation)\n",
    "final.fit(**study.best_params)"
   ]
  },
  {
   "cell_type": "code",
   "execution_count": null,
   "id": "a2073bef",
   "metadata": {
    "execution": {
     "iopub.execute_input": "2023-01-14T10:47:29.794164Z",
     "iopub.status.busy": "2023-01-14T10:47:29.793702Z",
     "iopub.status.idle": "2023-01-14T10:48:21.874857Z",
     "shell.execute_reply": "2023-01-14T10:48:21.873778Z"
    },
    "papermill": {
     "duration": 52.108424,
     "end_time": "2023-01-14T10:48:21.877435",
     "exception": false,
     "start_time": "2023-01-14T10:47:29.769011",
     "status": "completed"
    },
    "tags": []
   },
   "outputs": [],
   "source": [
    "from Evaluation.Evaluator import EvaluatorHoldout\n",
    "evaluator_test = EvaluatorHoldout(urm_test, cutoff_list=[10], ignore_users=[])\n",
    "evaluator_test.evaluateRecommender(final)"
   ]
  }
 ],
 "metadata": {
  "kernelspec": {
   "display_name": "Python 3",
   "language": "python",
   "name": "python3"
  },
  "language_info": {
   "codemirror_mode": {
    "name": "ipython",
    "version": 3
   },
   "file_extension": ".py",
   "mimetype": "text/x-python",
   "name": "python",
   "nbconvert_exporter": "python",
   "pygments_lexer": "ipython3",
   "version": "3.8.18"
  },
  "papermill": {
   "default_parameters": {},
   "duration": 40634.925398,
   "end_time": "2023-01-14T10:48:32.534297",
   "environment_variables": {},
   "exception": null,
   "input_path": "__notebook__.ipynb",
   "output_path": "__notebook__.ipynb",
   "parameters": {},
   "start_time": "2023-01-13T23:31:17.608899",
   "version": "2.3.4"
  }
 },
 "nbformat": 4,
 "nbformat_minor": 5
}
