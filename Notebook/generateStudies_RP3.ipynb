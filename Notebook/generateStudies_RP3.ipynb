{
 "cells": [
  {
   "cell_type": "code",
   "execution_count": 2,
   "metadata": {},
   "outputs": [],
   "source": [
    "import os\n",
    "os.chdir( \"../\")"
   ]
  },
  {
   "cell_type": "code",
   "execution_count": 2,
   "metadata": {},
   "outputs": [
    {
     "data": {
      "text/plain": [
       "8"
      ]
     },
     "execution_count": 2,
     "metadata": {},
     "output_type": "execute_result"
    }
   ],
   "source": [
    "import psutil\n",
    "num_cpus = psutil.cpu_count(logical=False)\n",
    "num_cpus \n"
   ]
  },
  {
   "cell_type": "code",
   "execution_count": 3,
   "metadata": {},
   "outputs": [
    {
     "data": {
      "text/html": [
       "<div>\n",
       "<style scoped>\n",
       "    .dataframe tbody tr th:only-of-type {\n",
       "        vertical-align: middle;\n",
       "    }\n",
       "\n",
       "    .dataframe tbody tr th {\n",
       "        vertical-align: top;\n",
       "    }\n",
       "\n",
       "    .dataframe thead th {\n",
       "        text-align: right;\n",
       "    }\n",
       "</style>\n",
       "<table border=\"1\" class=\"dataframe\">\n",
       "  <thead>\n",
       "    <tr style=\"text-align: right;\">\n",
       "      <th></th>\n",
       "      <th>UserID</th>\n",
       "      <th>ItemID</th>\n",
       "      <th>Interaction</th>\n",
       "    </tr>\n",
       "  </thead>\n",
       "  <tbody>\n",
       "    <tr>\n",
       "      <th>0</th>\n",
       "      <td>1</td>\n",
       "      <td>15</td>\n",
       "      <td>1.0</td>\n",
       "    </tr>\n",
       "    <tr>\n",
       "      <th>1</th>\n",
       "      <td>1</td>\n",
       "      <td>16</td>\n",
       "      <td>1.0</td>\n",
       "    </tr>\n",
       "    <tr>\n",
       "      <th>2</th>\n",
       "      <td>1</td>\n",
       "      <td>133</td>\n",
       "      <td>1.0</td>\n",
       "    </tr>\n",
       "    <tr>\n",
       "      <th>3</th>\n",
       "      <td>1</td>\n",
       "      <td>161</td>\n",
       "      <td>1.0</td>\n",
       "    </tr>\n",
       "    <tr>\n",
       "      <th>4</th>\n",
       "      <td>1</td>\n",
       "      <td>187</td>\n",
       "      <td>1.0</td>\n",
       "    </tr>\n",
       "    <tr>\n",
       "      <th>...</th>\n",
       "      <td>...</td>\n",
       "      <td>...</td>\n",
       "      <td>...</td>\n",
       "    </tr>\n",
       "    <tr>\n",
       "      <th>478724</th>\n",
       "      <td>13024</td>\n",
       "      <td>13605</td>\n",
       "      <td>1.0</td>\n",
       "    </tr>\n",
       "    <tr>\n",
       "      <th>478725</th>\n",
       "      <td>13024</td>\n",
       "      <td>13823</td>\n",
       "      <td>1.0</td>\n",
       "    </tr>\n",
       "    <tr>\n",
       "      <th>478726</th>\n",
       "      <td>13024</td>\n",
       "      <td>15122</td>\n",
       "      <td>1.0</td>\n",
       "    </tr>\n",
       "    <tr>\n",
       "      <th>478727</th>\n",
       "      <td>13024</td>\n",
       "      <td>18185</td>\n",
       "      <td>1.0</td>\n",
       "    </tr>\n",
       "    <tr>\n",
       "      <th>478728</th>\n",
       "      <td>13024</td>\n",
       "      <td>20014</td>\n",
       "      <td>1.0</td>\n",
       "    </tr>\n",
       "  </tbody>\n",
       "</table>\n",
       "<p>478729 rows × 3 columns</p>\n",
       "</div>"
      ],
      "text/plain": [
       "        UserID  ItemID  Interaction\n",
       "0            1      15          1.0\n",
       "1            1      16          1.0\n",
       "2            1     133          1.0\n",
       "3            1     161          1.0\n",
       "4            1     187          1.0\n",
       "...        ...     ...          ...\n",
       "478724   13024   13605          1.0\n",
       "478725   13024   13823          1.0\n",
       "478726   13024   15122          1.0\n",
       "478727   13024   18185          1.0\n",
       "478728   13024   20014          1.0\n",
       "\n",
       "[478729 rows x 3 columns]"
      ]
     },
     "execution_count": 3,
     "metadata": {},
     "output_type": "execute_result"
    }
   ],
   "source": [
    "import pandas as pd\n",
    "import numpy as np\n",
    "\n",
    "path = \"Dataset/data_train.csv\"\n",
    "df = pd.read_csv(filepath_or_buffer=path,\n",
    "                               sep=\",\",\n",
    "                               header=1,\n",
    "                               engine='python',\n",
    "                               names=['UserID', 'ItemID', 'Interaction'])\n",
    "\n",
    "\n",
    "df"
   ]
  },
  {
   "cell_type": "code",
   "execution_count": 4,
   "metadata": {},
   "outputs": [
    {
     "name": "stdout",
     "output_type": "stream",
     "text": [
      "Number of users: 12638, Number of Items: 22222, Min rating: 0.0, Max rating: 1.0\n"
     ]
    }
   ],
   "source": [
    "user_ids = df[\"UserID\"].unique().tolist()\n",
    "user2user_encoded = {x: i for i, x in enumerate(user_ids)}\n",
    "userencoded2user = {i: x for i, x in enumerate(user_ids)}\n",
    "item_ids = df[\"ItemID\"].unique().tolist()\n",
    "item2item_encoded = {x: i for i, x in enumerate(item_ids)}\n",
    "item_encoded2item = {i: x for i, x in enumerate(item_ids)}\n",
    "df[\"User\"] = df[\"UserID\"].map(user2user_encoded)\n",
    "df[\"Item\"] = df[\"ItemID\"].map(item2item_encoded)\n",
    "\n",
    "num_users = len(user2user_encoded)\n",
    "num_items = len(item_encoded2item)\n",
    "df[\"Interaction\"] = df[\"Interaction\"].values.astype(np.float32)\n",
    "\n",
    "# min and max ratings will be used to normalize the ratings later\n",
    "min_rating = 0.0\n",
    "max_rating = max(df[\"Interaction\"])\n",
    "\n",
    "print(\n",
    "    \"Number of users: {}, Number of Items: {}, Min rating: {}, Max rating: {}\".format(\n",
    "        num_users, num_items, min_rating, max_rating\n",
    "    )\n",
    ")"
   ]
  },
  {
   "cell_type": "code",
   "execution_count": 5,
   "metadata": {},
   "outputs": [],
   "source": [
    "userId_unique = df[\"UserID\"].unique()\n",
    "itemId_unique = df[\"ItemID\"].unique()"
   ]
  },
  {
   "cell_type": "code",
   "execution_count": 6,
   "metadata": {},
   "outputs": [
    {
     "name": "stdout",
     "output_type": "stream",
     "text": [
      "Warning: 229 (1.81 %) of 12638 users have no train items\n",
      "Warning: 2166 (17.14 %) of 12638 users have no sampled items\n",
      "Warning: 481 (3.81 %) of 12638 users have no train items\n",
      "Warning: 2565 (20.30 %) of 12638 users have no sampled items\n",
      "Warning: 217 (1.72 %) of 12638 users have no train items\n",
      "Warning: 2150 (17.01 %) of 12638 users have no sampled items\n",
      "Warning: 453 (3.58 %) of 12638 users have no train items\n",
      "Warning: 2625 (20.77 %) of 12638 users have no sampled items\n",
      "Warning: 223 (1.76 %) of 12638 users have no train items\n",
      "Warning: 2190 (17.33 %) of 12638 users have no sampled items\n",
      "Warning: 446 (3.53 %) of 12638 users have no train items\n",
      "Warning: 2596 (20.54 %) of 12638 users have no sampled items\n",
      "Warning: 227 (1.80 %) of 12638 users have no train items\n",
      "Warning: 2194 (17.36 %) of 12638 users have no sampled items\n",
      "Warning: 450 (3.56 %) of 12638 users have no train items\n",
      "Warning: 2666 (21.10 %) of 12638 users have no sampled items\n",
      "Warning: 243 (1.92 %) of 12638 users have no train items\n",
      "Warning: 2165 (17.13 %) of 12638 users have no sampled items\n",
      "Warning: 474 (3.75 %) of 12638 users have no train items\n",
      "Warning: 2621 (20.74 %) of 12638 users have no sampled items\n",
      "Warning: 239 (1.89 %) of 12638 users have no train items\n",
      "Warning: 2145 (16.97 %) of 12638 users have no sampled items\n",
      "Warning: 481 (3.81 %) of 12638 users have no train items\n",
      "Warning: 2652 (20.98 %) of 12638 users have no sampled items\n",
      "Warning: 201 (1.59 %) of 12638 users have no train items\n",
      "Warning: 2171 (17.18 %) of 12638 users have no sampled items\n",
      "Warning: 443 (3.51 %) of 12638 users have no train items\n",
      "Warning: 2570 (20.34 %) of 12638 users have no sampled items\n",
      "Warning: 220 (1.74 %) of 12638 users have no train items\n",
      "Warning: 2198 (17.39 %) of 12638 users have no sampled items\n",
      "Warning: 467 (3.70 %) of 12638 users have no train items\n",
      "Warning: 2646 (20.94 %) of 12638 users have no sampled items\n"
     ]
    }
   ],
   "source": [
    "from sklearn.model_selection import train_test_split\n",
    "from sklearn.model_selection import cross_val_score, KFold\n",
    "import numpy as np\n",
    "import scipy.sparse as sps\n",
    "from Data_manager.split_functions.split_train_validation_random_holdout import split_train_in_two_percentage_global_sample\n",
    "\n",
    "seeds = [\n",
    "    1811854, 3772146, 6407100, 6926227, 1340378, \n",
    "    68679, 3822303, 4058970, 1264160, 1100338, \n",
    "    6552126, 725363, 8362134, 9446122, 5256199, \n",
    "    4686339, 3830906, 7315366, 9428914, 5564236, \n",
    "    3420043, 9223036, 851434, 3300082, 7899660, \n",
    "    2053768, 4305274, 3709256, 8795594, 1418903, \n",
    "    7428566, 157832\n",
    "]\n",
    "\n",
    "seeds = seeds[:num_cpus]\n",
    "\n",
    "urm_all = sps.coo_matrix((df[\"Interaction\"].values, \n",
    "                          (df[\"User\"].values, df[\"Item\"].values)))\n",
    "\n",
    "urm_train_validation = []\n",
    "urm_test = []\n",
    "urm_train = []\n",
    "urm_validation = []\n",
    "\n",
    "for i in range(len(seeds)):\n",
    "    a, b = split_train_in_two_percentage_global_sample(urm_all, train_percentage = 0.80,seed=seeds[i])\n",
    "    c, d = split_train_in_two_percentage_global_sample(a, train_percentage = 0.80,seed=seeds[i])\n",
    "    urm_train_validation.append(a)\n",
    "    urm_test.append(b)\n",
    "    urm_train.append(c)\n",
    "    urm_validation.append(d)\n",
    "\n"
   ]
  },
  {
   "cell_type": "code",
   "execution_count": 7,
   "metadata": {},
   "outputs": [],
   "source": [
    "num_users = len(userId_unique)\n",
    "num_items = len(itemId_unique)"
   ]
  },
  {
   "cell_type": "code",
   "execution_count": 8,
   "metadata": {},
   "outputs": [
    {
     "name": "stdout",
     "output_type": "stream",
     "text": [
      "EvaluatorHoldout: Ignoring 2166 (17.1%) Users that have less than 1 test interactions\n",
      "EvaluatorHoldout: Ignoring 0 Users\n",
      "EvaluatorHoldout: Ignoring 2150 (17.0%) Users that have less than 1 test interactions\n",
      "EvaluatorHoldout: Ignoring 0 Users\n",
      "EvaluatorHoldout: Ignoring 2190 (17.3%) Users that have less than 1 test interactions\n",
      "EvaluatorHoldout: Ignoring 0 Users\n",
      "EvaluatorHoldout: Ignoring 2194 (17.4%) Users that have less than 1 test interactions\n",
      "EvaluatorHoldout: Ignoring 0 Users\n",
      "EvaluatorHoldout: Ignoring 2165 (17.1%) Users that have less than 1 test interactions\n",
      "EvaluatorHoldout: Ignoring 0 Users\n",
      "EvaluatorHoldout: Ignoring 2145 (17.0%) Users that have less than 1 test interactions\n",
      "EvaluatorHoldout: Ignoring 0 Users\n",
      "EvaluatorHoldout: Ignoring 2171 (17.2%) Users that have less than 1 test interactions\n",
      "EvaluatorHoldout: Ignoring 0 Users\n",
      "EvaluatorHoldout: Ignoring 2198 (17.4%) Users that have less than 1 test interactions\n",
      "EvaluatorHoldout: Ignoring 0 Users\n"
     ]
    }
   ],
   "source": [
    "from Evaluation.Evaluator import EvaluatorHoldout\n",
    "evaluator_test = []\n",
    "for u in urm_test:\n",
    "    evaluator_test.append(EvaluatorHoldout(u, cutoff_list=[10], ignore_users=[]))"
   ]
  },
  {
   "cell_type": "code",
   "execution_count": 9,
   "metadata": {},
   "outputs": [],
   "source": [
    "import os\n",
    "\n",
    "output_folder_path = \"result_experiments_xg/\"\n",
    "\n",
    "# If directory does not exist, create\n",
    "if not os.path.exists(output_folder_path):\n",
    "    os.makedirs(output_folder_path)\n",
    "    \n",
    "n_cases = 1000  # using 10 as an example\n",
    "n_random_starts = int(n_cases*0.3)\n",
    "metric_to_optimize = \"MAP\"   \n",
    "cutoff_to_optimize = 10"
   ]
  },
  {
   "cell_type": "code",
   "execution_count": 3,
   "metadata": {},
   "outputs": [
    {
     "name": "stderr",
     "output_type": "stream",
     "text": [
      "2024-01-08 10:09:48.498874: W tensorflow/stream_executor/platform/default/dso_loader.cc:64] Could not load dynamic library 'libcudart.so.11.0'; dlerror: libcudart.so.11.0: cannot open shared object file: No such file or directory\n",
      "2024-01-08 10:09:48.498899: I tensorflow/stream_executor/cuda/cudart_stub.cc:29] Ignore above cudart dlerror if you do not have a GPU set up on your machine.\n"
     ]
    }
   ],
   "source": [
    "from HyperparameterTuning.SearchAbstractClass import SearchInputRecommenderArgs\n",
    "from HyperparameterTuning.SearchBayesianSkopt import SearchBayesianSkopt\n",
    "\n",
    "from HyperparameterTuning.run_hyperparameter_search import runHyperparameterSearch_Collaborative, runHyperparameterSearch_Content\n",
    "from Recommenders.NonPersonalizedRecommender import TopPop, Random\n",
    "from Recommenders.GraphBased.P3alphaRecommender import P3alphaRecommender\n",
    "from Recommenders.Recommender_import_list import *\n",
    "from Recommenders.SLIM.SLIMElasticNetRecommender import SLIMElasticNetRecommender, MultiThreadSLIM_SLIMElasticNetRecommender\n",
    "import os, multiprocessing\n",
    "from functools import partial\n",
    "from skopt.space import Real, Integer, Categorical\n"
   ]
  },
  {
   "cell_type": "code",
   "execution_count": null,
   "metadata": {},
   "outputs": [],
   "source": []
  },
  {
   "cell_type": "code",
   "execution_count": null,
   "metadata": {},
   "outputs": [],
   "source": []
  },
  {
   "cell_type": "code",
   "execution_count": 11,
   "metadata": {},
   "outputs": [],
   "source": [
    "from concurrent.futures import ProcessPoolExecutor\n",
    "from skopt import gp_minimize\n",
    "from skopt.space import Real, Integer, Categorical\n",
    "import time\n",
    "from Recommenders.Incremental_Training_Early_Stopping import Incremental_Training_Early_Stopping\n",
    "from Recommenders.MatrixFactorization.ImplicitIALSRecommender import ImplicitALSRecommender\n"
   ]
  },
  {
   "cell_type": "code",
   "execution_count": 12,
   "metadata": {},
   "outputs": [
    {
     "name": "stderr",
     "output_type": "stream",
     "text": [
      "[I 2024-01-08 10:02:02,333] Using an existing study with name 'P3Alpha_8FOLD' instead of creating a new one.\n"
     ]
    }
   ],
   "source": [
    "import optuna\n",
    "\n",
    "host = \"192.168.16.83\"\n",
    "port = 3306\n",
    "database_name = \"optuna_mio\"\n",
    "username = \"optuna\"\n",
    "password = \"your_password\"\n",
    "\n",
    "# Create an SQLAlchemy engine\n",
    "mysql_url = f\"mysql+pymysql://{username}:{password}@{host}:{port}/{database_name}\"\n",
    "mysql_url\n",
    "storage = optuna.storages.RDBStorage(url=mysql_url)\n",
    "\n",
    "study_name = \"RP3_8FOLD\"\n",
    "\n",
    "study = optuna.create_study(study_name=study_name, storage=storage, load_if_exists=True, direction=\"maximize\", sampler=optuna.samplers.CmaEsSampler())\n",
    "\n",
    "model = RP3betaRecommender"
   ]
  },
  {
   "cell_type": "code",
   "execution_count": 13,
   "metadata": {},
   "outputs": [],
   "source": [
    "def run_fold(fold, **hyperparams):\n",
    "    recommender = model(urm_train_validation[fold])\n",
    "    recommender.fit(**hyperparams)\n",
    "\n",
    "    metric_result = evaluator_test[fold].evaluateRecommender(recommender)[0][metric_to_optimize].item()\n",
    "    res = {'Fold': fold, metric_to_optimize: metric_result, **hyperparams}\n",
    "    print(res)\n",
    "    return res\n",
    "\n",
    "def run_fold_wrapper(fold, hyperparams):\n",
    "    return run_fold(fold, **hyperparams)\n",
    "\n",
    "sum_map = lambda results: sum(item[metric_to_optimize] for item in results)\n",
    "\n",
    "\n",
    "def objective(trial):\n",
    "\n",
    "    params = {\n",
    "        \"topK\": trial.suggest_int(\"topK\",1, 1000),\n",
    "        \"alpha\": trial.suggest_float(\"alpha\",low = 0, high = 2),\n",
    "        \"beta\": trial.suggest_float(\"beta\",low = 0, high = 2),\n",
    "    }\n",
    "\n",
    "    with ProcessPoolExecutor(max_workers=num_cpus) as executor:\n",
    "        # Submit all tasks to the process pool and wait for them to complete\n",
    "        #fold_results = list(executor.map(lambda fold: run_fold(fold, **current_fit_hyperparameters_dict), range(len(seeds))))\n",
    "        fold_results = list(executor.map(run_fold_wrapper, range(len(seeds)), [params]*len(seeds)))\n",
    "    print(fold_results)\n",
    "    average_score = sum_map(fold_results) / len(fold_results)\n",
    "    return average_score"
   ]
  },
  {
   "cell_type": "code",
   "execution_count": 14,
   "metadata": {},
   "outputs": [
    {
     "name": "stdout",
     "output_type": "stream",
     "text": [
      "P3alphaRecommender: URM Detected 223 ( 1.8%) users with no interactions.P3alphaRecommender: URM Detected 217 ( 1.7%) users with no interactions.P3alphaRecommender: URM Detected 243 ( 1.9%) users with no interactions.P3alphaRecommender: URM Detected 201 ( 1.6%) users with no interactions.P3alphaRecommender: URM Detected 239 ( 1.9%) users with no interactions.\n",
      "\n",
      "\n",
      "P3alphaRecommender: URM Detected 122 ( 0.5%) items with no interactions.\n",
      "\n",
      "P3alphaRecommender: URM Detected 229 ( 1.8%) users with no interactions.P3alphaRecommender: URM Detected 227 ( 1.8%) users with no interactions.P3alphaRecommender: URM Detected 220 ( 1.7%) users with no interactions.\n",
      "\n",
      "P3alphaRecommender: URM Detected 109 ( 0.5%) items with no interactions.P3alphaRecommender: URM Detected 106 ( 0.5%) items with no interactions.\n",
      "\n",
      "\n",
      "P3alphaRecommender: URM Detected 109 ( 0.5%) items with no interactions.P3alphaRecommender: URM Detected 114 ( 0.5%) items with no interactions.P3alphaRecommender: URM Detected 118 ( 0.5%) items with no interactions.\n",
      "\n",
      "\n",
      "P3alphaRecommender: URM Detected 126 ( 0.6%) items with no interactions.\n",
      "P3alphaRecommender: URM Detected 113 ( 0.5%) items with no interactions.\n",
      "\n",
      "P3alphaRecommender: Similarity column 22222 (100.0%), 4586.89 column/sec. Elapsed time 4.84 sec\n",
      "P3alphaRecommender: Similarity column 22222 (100.0%), 4582.84 column/sec. Elapsed time 4.85 sec\n",
      "P3alphaRecommender: Similarity column 22222 (100.0%), 4342.22 column/sec. Elapsed time 5.12 sec\n",
      "P3alphaRecommender: Similarity column 22222 (100.0%), 4300.56 column/sec. Elapsed time 5.17 secP3alphaRecommender: Similarity column 22222 (100.0%), 4230.90 column/sec. Elapsed time 5.25 sec\n",
      "\n",
      "P3alphaRecommender: Similarity column 22222 (100.0%), 4130.55 column/sec. Elapsed time 5.38 sec\n",
      "P3alphaRecommender: Similarity column 22222 (100.0%), 3885.09 column/sec. Elapsed time 5.72 sec\n",
      "P3alphaRecommender: Similarity column 22222 (100.0%), 3825.68 column/sec. Elapsed time 5.81 sec\n",
      "EvaluatorHoldout: Processed 10440 (100.0%) in 4.76 sec. Users per second: 2193\n",
      "{'Fold': 7, 'MAP': 0.041371062154108615, 'topK': 50, 'alpha': 0.7745100325869}\n",
      "EvaluatorHoldout: Processed 10473 (100.0%) in 4.99 sec. Users per second: 2099\n",
      "{'Fold': 4, 'MAP': 0.04208064501461856, 'topK': 50, 'alpha': 0.7745100325869}\n",
      "EvaluatorHoldout: Processed 10444 (100.0%) in 5.33 sec. Users per second: 1959\n",
      "{'Fold': 3, 'MAP': 0.042676105518168604, 'topK': 50, 'alpha': 0.7745100325869}\n",
      "EvaluatorHoldout: Processed 10488 (100.0%) in 5.70 sec. Users per second: 1841\n",
      "{'Fold': 1, 'MAP': 0.04228147361156576, 'topK': 50, 'alpha': 0.7745100325869}EvaluatorHoldout: Processed 10472 (100.0%) in 5.54 sec. Users per second: 1889\n",
      "\n",
      "{'Fold': 0, 'MAP': 0.042755458243904115, 'topK': 50, 'alpha': 0.7745100325869}\n",
      "EvaluatorHoldout: Processed 10448 (100.0%) in 5.39 sec. Users per second: 1937\n",
      "{'Fold': 2, 'MAP': 0.04210906545492158, 'topK': 50, 'alpha': 0.7745100325869}\n",
      "EvaluatorHoldout: Processed 10493 (100.0%) in 5.47 sec. Users per second: 1919\n",
      "{'Fold': 5, 'MAP': 0.04152745821477405, 'topK': 50, 'alpha': 0.7745100325869}\n",
      "EvaluatorHoldout: Processed 10467 (100.0%) in 5.77 sec. Users per second: 1813\n",
      "{'Fold': 6, 'MAP': 0.04183271764168922, 'topK': 50, 'alpha': 0.7745100325869}\n"
     ]
    },
    {
     "name": "stderr",
     "output_type": "stream",
     "text": [
      "[I 2024-01-08 10:02:15,261] Trial 2 finished with value: 0.04207924823171881 and parameters: {'topK': 50, 'alpha': 0.7745100325869}. Best is trial 2 with value: 0.04207924823171881.\n"
     ]
    },
    {
     "name": "stdout",
     "output_type": "stream",
     "text": [
      "[{'Fold': 0, 'MAP': 0.042755458243904115, 'topK': 50, 'alpha': 0.7745100325869}, {'Fold': 1, 'MAP': 0.04228147361156576, 'topK': 50, 'alpha': 0.7745100325869}, {'Fold': 2, 'MAP': 0.04210906545492158, 'topK': 50, 'alpha': 0.7745100325869}, {'Fold': 3, 'MAP': 0.042676105518168604, 'topK': 50, 'alpha': 0.7745100325869}, {'Fold': 4, 'MAP': 0.04208064501461856, 'topK': 50, 'alpha': 0.7745100325869}, {'Fold': 5, 'MAP': 0.04152745821477405, 'topK': 50, 'alpha': 0.7745100325869}, {'Fold': 6, 'MAP': 0.04183271764168922, 'topK': 50, 'alpha': 0.7745100325869}, {'Fold': 7, 'MAP': 0.041371062154108615, 'topK': 50, 'alpha': 0.7745100325869}]\n",
      "P3alphaRecommender: URM Detected 243 ( 1.9%) users with no interactions.P3alphaRecommender: URM Detected 201 ( 1.6%) users with no interactions.P3alphaRecommender: URM Detected 223 ( 1.8%) users with no interactions.P3alphaRecommender: URM Detected 239 ( 1.9%) users with no interactions.P3alphaRecommender: URM Detected 227 ( 1.8%) users with no interactions.P3alphaRecommender: URM Detected 217 ( 1.7%) users with no interactions.P3alphaRecommender: URM Detected 229 ( 1.8%) users with no interactions.\n",
      "\n",
      "\n",
      "\n",
      "\n",
      "P3alphaRecommender: URM Detected 220 ( 1.7%) users with no interactions.\n",
      "\n",
      "P3alphaRecommender: URM Detected 126 ( 0.6%) items with no interactions.P3alphaRecommender: URM Detected 109 ( 0.5%) items with no interactions.\n",
      "\n",
      "P3alphaRecommender: URM Detected 114 ( 0.5%) items with no interactions.P3alphaRecommender: URM Detected 109 ( 0.5%) items with no interactions.\n",
      "P3alphaRecommender: URM Detected 106 ( 0.5%) items with no interactions.\n",
      "P3alphaRecommender: URM Detected 122 ( 0.5%) items with no interactions.P3alphaRecommender: URM Detected 118 ( 0.5%) items with no interactions.\n",
      "P3alphaRecommender: URM Detected 113 ( 0.5%) items with no interactions.\n",
      "\n",
      "\n",
      "\n",
      "P3alphaRecommender: Similarity column 22222 (100.0%), 1969.17 column/sec. Elapsed time 11.28 sec\n",
      "P3alphaRecommender: Similarity column 22222 (100.0%), 1903.67 column/sec. Elapsed time 11.67 sec\n",
      "P3alphaRecommender: Similarity column 22222 (100.0%), 1869.86 column/sec. Elapsed time 11.88 sec\n",
      "P3alphaRecommender: Similarity column 22222 (100.0%), 1791.69 column/sec. Elapsed time 12.40 sec\n",
      "P3alphaRecommender: Similarity column 22222 (100.0%), 1743.09 column/sec. Elapsed time 12.75 sec\n",
      "P3alphaRecommender: Similarity column 22222 (100.0%), 1737.58 column/sec. Elapsed time 12.79 sec\n",
      "P3alphaRecommender: Similarity column 22222 (100.0%), 1704.46 column/sec. Elapsed time 13.04 sec\n",
      "P3alphaRecommender: Similarity column 22222 (100.0%), 1704.73 column/sec. Elapsed time 13.04 sec\n",
      "EvaluatorHoldout: Processed 10472 (100.0%) in 7.13 sec. Users per second: 1469\n",
      "{'Fold': 0, 'MAP': 0.021974721706864524, 'topK': 420, 'alpha': 1.095128944847853}\n",
      "EvaluatorHoldout: Processed 10440 (100.0%) in 6.86 sec. Users per second: 1521\n",
      "{'Fold': 7, 'MAP': 0.02129214559386973, 'topK': 420, 'alpha': 1.095128944847853}\n",
      "EvaluatorHoldout: Processed 10467 (100.0%) in 7.05 sec. Users per second: 1484\n",
      "{'Fold': 6, 'MAP': 0.022427178539961578, 'topK': 420, 'alpha': 1.095128944847853}\n",
      "EvaluatorHoldout: Processed 10488 (100.0%) in 6.71 sec. Users per second: 1562\n",
      "{'Fold': 1, 'MAP': 0.021985061536691948, 'topK': 420, 'alpha': 1.095128944847853}\n",
      "EvaluatorHoldout: Processed 10473 (100.0%) in 7.13 sec. Users per second: 1469\n",
      "{'Fold': 4, 'MAP': 0.022967892494532398, 'topK': 420, 'alpha': 1.095128944847853}\n",
      "EvaluatorHoldout: Processed 10448 (100.0%) in 6.59 sec. Users per second: 1585\n",
      "{'Fold': 2, 'MAP': 0.02219263503002018, 'topK': 420, 'alpha': 1.095128944847853}\n",
      "EvaluatorHoldout: Processed 10444 (100.0%) in 8.07 sec. Users per second: 1294\n",
      "{'Fold': 3, 'MAP': 0.02229295471539819, 'topK': 420, 'alpha': 1.095128944847853}\n",
      "EvaluatorHoldout: Processed 10493 (100.0%) in 6.60 sec. Users per second: 1590\n",
      "{'Fold': 5, 'MAP': 0.021575385101783653, 'topK': 420, 'alpha': 1.095128944847853}\n"
     ]
    },
    {
     "name": "stderr",
     "output_type": "stream",
     "text": [
      "[I 2024-01-08 10:02:41,619] Trial 3 finished with value: 0.022088496839890275 and parameters: {'topK': 420, 'alpha': 1.095128944847853}. Best is trial 2 with value: 0.04207924823171881.\n"
     ]
    },
    {
     "name": "stdout",
     "output_type": "stream",
     "text": [
      "[{'Fold': 0, 'MAP': 0.021974721706864524, 'topK': 420, 'alpha': 1.095128944847853}, {'Fold': 1, 'MAP': 0.021985061536691948, 'topK': 420, 'alpha': 1.095128944847853}, {'Fold': 2, 'MAP': 0.02219263503002018, 'topK': 420, 'alpha': 1.095128944847853}, {'Fold': 3, 'MAP': 0.02229295471539819, 'topK': 420, 'alpha': 1.095128944847853}, {'Fold': 4, 'MAP': 0.022967892494532398, 'topK': 420, 'alpha': 1.095128944847853}, {'Fold': 5, 'MAP': 0.021575385101783653, 'topK': 420, 'alpha': 1.095128944847853}, {'Fold': 6, 'MAP': 0.022427178539961578, 'topK': 420, 'alpha': 1.095128944847853}, {'Fold': 7, 'MAP': 0.02129214559386973, 'topK': 420, 'alpha': 1.095128944847853}]\n",
      "P3alphaRecommender: URM Detected 217 ( 1.7%) users with no interactions.P3alphaRecommender: URM Detected 227 ( 1.8%) users with no interactions.P3alphaRecommender: URM Detected 229 ( 1.8%) users with no interactions.\n",
      "P3alphaRecommender: URM Detected 243 ( 1.9%) users with no interactions.\n",
      "P3alphaRecommender: URM Detected 239 ( 1.9%) users with no interactions.\n",
      "P3alphaRecommender: URM Detected 220 ( 1.7%) users with no interactions.\n",
      "P3alphaRecommender: URM Detected 223 ( 1.8%) users with no interactions.P3alphaRecommender: URM Detected 126 ( 0.6%) items with no interactions.\n",
      "\n",
      "\n",
      "\n",
      "P3alphaRecommender: URM Detected 201 ( 1.6%) users with no interactions.\n",
      "P3alphaRecommender: URM Detected 109 ( 0.5%) items with no interactions.P3alphaRecommender: URM Detected 122 ( 0.5%) items with no interactions.P3alphaRecommender: URM Detected 118 ( 0.5%) items with no interactions.P3alphaRecommender: URM Detected 106 ( 0.5%) items with no interactions.\n",
      "\n",
      "P3alphaRecommender: URM Detected 113 ( 0.5%) items with no interactions.\n",
      "\n",
      "P3alphaRecommender: URM Detected 109 ( 0.5%) items with no interactions.\n",
      "\n",
      "P3alphaRecommender: URM Detected 114 ( 0.5%) items with no interactions.\n",
      "P3alphaRecommender: Similarity column 22222 (100.0%), 2723.48 column/sec. Elapsed time 8.16 sec\n",
      "P3alphaRecommender: Similarity column 22222 (100.0%), 2611.75 column/sec. Elapsed time 8.51 sec\n",
      "P3alphaRecommender: Similarity column 22222 (100.0%), 2600.28 column/sec. Elapsed time 8.55 sec\n",
      "P3alphaRecommender: Similarity column 22222 (100.0%), 2593.78 column/sec. Elapsed time 8.57 sec\n",
      "P3alphaRecommender: Similarity column 22222 (100.0%), 2574.84 column/sec. Elapsed time 8.63 sec\n",
      "P3alphaRecommender: Similarity column 22222 (100.0%), 2502.52 column/sec. Elapsed time 8.88 sec\n",
      "P3alphaRecommender: Similarity column 22222 (100.0%), 2495.22 column/sec. Elapsed time 8.91 sec\n",
      "P3alphaRecommender: Similarity column 22222 (100.0%), 2472.22 column/sec. Elapsed time 8.99 sec\n",
      "EvaluatorHoldout: Processed 10467 (100.0%) in 3.51 sec. Users per second: 2981\n",
      "{'Fold': 6, 'MAP': 0.03739444906971452, 'topK': 198, 'alpha': 0.7183189363041375}\n",
      "EvaluatorHoldout: Processed 10473 (100.0%) in 3.56 sec. Users per second: 2946\n",
      "{'Fold': 4, 'MAP': 0.03733530211473549, 'topK': 198, 'alpha': 0.7183189363041375}\n",
      "EvaluatorHoldout: Processed 10440 (100.0%) in 3.51 sec. Users per second: 2975\n",
      "{'Fold': 7, 'MAP': 0.03616996594295485, 'topK': 198, 'alpha': 0.7183189363041375}\n",
      "EvaluatorHoldout: Processed 10488 (100.0%) in 3.55 sec. Users per second: 2956\n",
      "{'Fold': 1, 'MAP': 0.03659711628104123, 'topK': 198, 'alpha': 0.7183189363041375}\n",
      "EvaluatorHoldout: Processed 10448 (100.0%) in 3.65 sec. Users per second: 2861\n",
      "{'Fold': 2, 'MAP': 0.03680471237754973, 'topK': 198, 'alpha': 0.7183189363041375}\n",
      "EvaluatorHoldout: Processed 10444 (100.0%) in 3.47 sec. Users per second: 3006\n",
      "{'Fold': 3, 'MAP': 0.03676283337284921, 'topK': 198, 'alpha': 0.7183189363041375}\n",
      "EvaluatorHoldout: Processed 10493 (100.0%) in 3.57 sec. Users per second: 2941\n",
      "{'Fold': 5, 'MAP': 0.03689637763043877, 'topK': 198, 'alpha': 0.7183189363041375}\n",
      "EvaluatorHoldout: Processed 10472 (100.0%) in 3.50 sec. Users per second: 2988\n",
      "{'Fold': 0, 'MAP': 0.03665111499145151, 'topK': 198, 'alpha': 0.7183189363041375}\n"
     ]
    },
    {
     "name": "stderr",
     "output_type": "stream",
     "text": [
      "[I 2024-01-08 10:02:55,916] Trial 4 finished with value: 0.03682648397259192 and parameters: {'topK': 198, 'alpha': 0.7183189363041375}. Best is trial 2 with value: 0.04207924823171881.\n"
     ]
    },
    {
     "name": "stdout",
     "output_type": "stream",
     "text": [
      "[{'Fold': 0, 'MAP': 0.03665111499145151, 'topK': 198, 'alpha': 0.7183189363041375}, {'Fold': 1, 'MAP': 0.03659711628104123, 'topK': 198, 'alpha': 0.7183189363041375}, {'Fold': 2, 'MAP': 0.03680471237754973, 'topK': 198, 'alpha': 0.7183189363041375}, {'Fold': 3, 'MAP': 0.03676283337284921, 'topK': 198, 'alpha': 0.7183189363041375}, {'Fold': 4, 'MAP': 0.03733530211473549, 'topK': 198, 'alpha': 0.7183189363041375}, {'Fold': 5, 'MAP': 0.03689637763043877, 'topK': 198, 'alpha': 0.7183189363041375}, {'Fold': 6, 'MAP': 0.03739444906971452, 'topK': 198, 'alpha': 0.7183189363041375}, {'Fold': 7, 'MAP': 0.03616996594295485, 'topK': 198, 'alpha': 0.7183189363041375}]\n",
      "P3alphaRecommender: URM Detected 217 ( 1.7%) users with no interactions.P3alphaRecommender: URM Detected 239 ( 1.9%) users with no interactions.P3alphaRecommender: URM Detected 223 ( 1.8%) users with no interactions.P3alphaRecommender: URM Detected 227 ( 1.8%) users with no interactions.P3alphaRecommender: URM Detected 229 ( 1.8%) users with no interactions.P3alphaRecommender: URM Detected 243 ( 1.9%) users with no interactions.P3alphaRecommender: URM Detected 201 ( 1.6%) users with no interactions.\n",
      "\n",
      "\n",
      "\n",
      "\n",
      "\n",
      "\n",
      "P3alphaRecommender: URM Detected 220 ( 1.7%) users with no interactions.\n",
      "P3alphaRecommender: URM Detected 106 ( 0.5%) items with no interactions.P3alphaRecommender: URM Detected 122 ( 0.5%) items with no interactions.\n",
      "P3alphaRecommender: URM Detected 126 ( 0.6%) items with no interactions.P3alphaRecommender: URM Detected 109 ( 0.5%) items with no interactions.P3alphaRecommender: URM Detected 113 ( 0.5%) items with no interactions.\n",
      "P3alphaRecommender: URM Detected 109 ( 0.5%) items with no interactions.P3alphaRecommender: URM Detected 114 ( 0.5%) items with no interactions.\n",
      "\n",
      "\n",
      "\n",
      "P3alphaRecommender: URM Detected 118 ( 0.5%) items with no interactions.\n",
      "\n",
      "P3alphaRecommender: Similarity column 22222 (100.0%), 3673.18 column/sec. Elapsed time 6.05 sec\n",
      "P3alphaRecommender: Similarity column 22222 (100.0%), 3624.62 column/sec. Elapsed time 6.13 sec\n",
      "P3alphaRecommender: Similarity column 22222 (100.0%), 3592.24 column/sec. Elapsed time 6.19 secP3alphaRecommender: Similarity column 22222 (100.0%), 3584.20 column/sec. Elapsed time 6.20 sec\n",
      "\n",
      "P3alphaRecommender: Similarity column 22222 (100.0%), 3441.58 column/sec. Elapsed time 6.46 sec\n",
      "P3alphaRecommender: Similarity column 22222 (100.0%), 3313.21 column/sec. Elapsed time 6.71 sec\n",
      "P3alphaRecommender: Similarity column 22222 (100.0%), 3145.64 column/sec. Elapsed time 7.06 sec\n",
      "P3alphaRecommender: Similarity column 22222 (100.0%), 2994.76 column/sec. Elapsed time 7.42 sec\n",
      "EvaluatorHoldout: Processed 10473 (100.0%) in 6.00 sec. Users per second: 1744\n",
      "{'Fold': 4, 'MAP': 0.02531924495187169, 'topK': 149, 'alpha': 1.003134659945212}\n",
      "EvaluatorHoldout: Processed 10493 (100.0%) in 6.21 sec. Users per second: 1690\n",
      "{'Fold': 5, 'MAP': 0.024339941669351755, 'topK': 149, 'alpha': 1.003134659945212}\n",
      "EvaluatorHoldout: Processed 10440 (100.0%) in 6.25 sec. Users per second: 1671\n",
      "{'Fold': 7, 'MAP': 0.023914712947758942, 'topK': 149, 'alpha': 1.003134659945212}\n",
      "EvaluatorHoldout: Processed 10467 (100.0%) in 6.57 sec. Users per second: 1594\n",
      "{'Fold': 6, 'MAP': 0.024777164360855978, 'topK': 149, 'alpha': 1.003134659945212}\n",
      "EvaluatorHoldout: Processed 10444 (100.0%) in 6.20 sec. Users per second: 1685\n",
      "{'Fold': 3, 'MAP': 0.024753253177946754, 'topK': 149, 'alpha': 1.003134659945212}\n",
      "EvaluatorHoldout: Processed 10448 (100.0%) in 7.37 sec. Users per second: 1418\n",
      "{'Fold': 2, 'MAP': 0.024430383881474987, 'topK': 149, 'alpha': 1.003134659945212}\n",
      "EvaluatorHoldout: Processed 10488 (100.0%) in 6.80 sec. Users per second: 1542\n",
      "{'Fold': 1, 'MAP': 0.024049525988885212, 'topK': 149, 'alpha': 1.003134659945212}\n",
      "EvaluatorHoldout: Processed 10472 (100.0%) in 6.85 sec. Users per second: 1529\n",
      "{'Fold': 0, 'MAP': 0.024342324050832424, 'topK': 149, 'alpha': 1.003134659945212}\n"
     ]
    },
    {
     "name": "stderr",
     "output_type": "stream",
     "text": [
      "[I 2024-01-08 10:03:12,475] Trial 5 finished with value: 0.024490818878622214 and parameters: {'topK': 149, 'alpha': 1.003134659945212}. Best is trial 2 with value: 0.04207924823171881.\n"
     ]
    },
    {
     "name": "stdout",
     "output_type": "stream",
     "text": [
      "[{'Fold': 0, 'MAP': 0.024342324050832424, 'topK': 149, 'alpha': 1.003134659945212}, {'Fold': 1, 'MAP': 0.024049525988885212, 'topK': 149, 'alpha': 1.003134659945212}, {'Fold': 2, 'MAP': 0.024430383881474987, 'topK': 149, 'alpha': 1.003134659945212}, {'Fold': 3, 'MAP': 0.024753253177946754, 'topK': 149, 'alpha': 1.003134659945212}, {'Fold': 4, 'MAP': 0.02531924495187169, 'topK': 149, 'alpha': 1.003134659945212}, {'Fold': 5, 'MAP': 0.024339941669351755, 'topK': 149, 'alpha': 1.003134659945212}, {'Fold': 6, 'MAP': 0.024777164360855978, 'topK': 149, 'alpha': 1.003134659945212}, {'Fold': 7, 'MAP': 0.023914712947758942, 'topK': 149, 'alpha': 1.003134659945212}]\n",
      "P3alphaRecommender: URM Detected 227 ( 1.8%) users with no interactions.P3alphaRecommender: URM Detected 229 ( 1.8%) users with no interactions.P3alphaRecommender: URM Detected 223 ( 1.8%) users with no interactions.\n",
      "P3alphaRecommender: URM Detected 217 ( 1.7%) users with no interactions.P3alphaRecommender: URM Detected 239 ( 1.9%) users with no interactions.P3alphaRecommender: URM Detected 243 ( 1.9%) users with no interactions.P3alphaRecommender: URM Detected 106 ( 0.5%) items with no interactions.\n",
      "\n",
      "\n",
      "P3alphaRecommender: URM Detected 109 ( 0.5%) items with no interactions.\n",
      "P3alphaRecommender: URM Detected 220 ( 1.7%) users with no interactions.P3alphaRecommender: URM Detected 201 ( 1.6%) users with no interactions.\n",
      "\n",
      "\n",
      "P3alphaRecommender: URM Detected 122 ( 0.5%) items with no interactions.\n",
      "\n",
      "P3alphaRecommender: URM Detected 109 ( 0.5%) items with no interactions.P3alphaRecommender: URM Detected 118 ( 0.5%) items with no interactions.P3alphaRecommender: URM Detected 126 ( 0.6%) items with no interactions.\n",
      "P3alphaRecommender: URM Detected 113 ( 0.5%) items with no interactions.P3alphaRecommender: URM Detected 114 ( 0.5%) items with no interactions.\n",
      "\n",
      "\n",
      "\n",
      "\n"
     ]
    }
   ],
   "source": [
    "# param_id, trial_id, param_name, param_value, distribution_json, value\n",
    "study.enqueue_trial({'alpha': 0.2765812198526 , 'beta': 0.1793692584175053, 'topK': 23})\n",
    "\n",
    "study.optimize(objective, n_trials=200)"
   ]
  }
 ],
 "metadata": {
  "kernelspec": {
   "display_name": "RecSysFramework",
   "language": "python",
   "name": "python3"
  },
  "language_info": {
   "codemirror_mode": {
    "name": "ipython",
    "version": 3
   },
   "file_extension": ".py",
   "mimetype": "text/x-python",
   "name": "python",
   "nbconvert_exporter": "python",
   "pygments_lexer": "ipython3",
   "version": "3.8.18"
  }
 },
 "nbformat": 4,
 "nbformat_minor": 2
}
