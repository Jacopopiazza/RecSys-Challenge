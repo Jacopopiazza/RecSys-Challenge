{
 "cells": [
  {
   "cell_type": "code",
   "execution_count": 2,
   "metadata": {},
   "outputs": [],
   "source": [
    "import os\n",
    "os.chdir( \"../\")"
   ]
  },
  {
   "cell_type": "code",
   "execution_count": 3,
   "metadata": {},
   "outputs": [
    {
     "data": {
      "text/plain": [
       "8"
      ]
     },
     "execution_count": 3,
     "metadata": {},
     "output_type": "execute_result"
    }
   ],
   "source": [
    "import psutil\n",
    "num_cpus = psutil.cpu_count(logical=False)\n",
    "num_cpus \n"
   ]
  },
  {
   "cell_type": "code",
   "execution_count": 4,
   "metadata": {},
   "outputs": [
    {
     "data": {
      "text/html": [
       "<div>\n",
       "<style scoped>\n",
       "    .dataframe tbody tr th:only-of-type {\n",
       "        vertical-align: middle;\n",
       "    }\n",
       "\n",
       "    .dataframe tbody tr th {\n",
       "        vertical-align: top;\n",
       "    }\n",
       "\n",
       "    .dataframe thead th {\n",
       "        text-align: right;\n",
       "    }\n",
       "</style>\n",
       "<table border=\"1\" class=\"dataframe\">\n",
       "  <thead>\n",
       "    <tr style=\"text-align: right;\">\n",
       "      <th></th>\n",
       "      <th>UserID</th>\n",
       "      <th>ItemID</th>\n",
       "      <th>Interaction</th>\n",
       "    </tr>\n",
       "  </thead>\n",
       "  <tbody>\n",
       "    <tr>\n",
       "      <th>0</th>\n",
       "      <td>1</td>\n",
       "      <td>15</td>\n",
       "      <td>1.0</td>\n",
       "    </tr>\n",
       "    <tr>\n",
       "      <th>1</th>\n",
       "      <td>1</td>\n",
       "      <td>16</td>\n",
       "      <td>1.0</td>\n",
       "    </tr>\n",
       "    <tr>\n",
       "      <th>2</th>\n",
       "      <td>1</td>\n",
       "      <td>133</td>\n",
       "      <td>1.0</td>\n",
       "    </tr>\n",
       "    <tr>\n",
       "      <th>3</th>\n",
       "      <td>1</td>\n",
       "      <td>161</td>\n",
       "      <td>1.0</td>\n",
       "    </tr>\n",
       "    <tr>\n",
       "      <th>4</th>\n",
       "      <td>1</td>\n",
       "      <td>187</td>\n",
       "      <td>1.0</td>\n",
       "    </tr>\n",
       "    <tr>\n",
       "      <th>...</th>\n",
       "      <td>...</td>\n",
       "      <td>...</td>\n",
       "      <td>...</td>\n",
       "    </tr>\n",
       "    <tr>\n",
       "      <th>478724</th>\n",
       "      <td>13024</td>\n",
       "      <td>13605</td>\n",
       "      <td>1.0</td>\n",
       "    </tr>\n",
       "    <tr>\n",
       "      <th>478725</th>\n",
       "      <td>13024</td>\n",
       "      <td>13823</td>\n",
       "      <td>1.0</td>\n",
       "    </tr>\n",
       "    <tr>\n",
       "      <th>478726</th>\n",
       "      <td>13024</td>\n",
       "      <td>15122</td>\n",
       "      <td>1.0</td>\n",
       "    </tr>\n",
       "    <tr>\n",
       "      <th>478727</th>\n",
       "      <td>13024</td>\n",
       "      <td>18185</td>\n",
       "      <td>1.0</td>\n",
       "    </tr>\n",
       "    <tr>\n",
       "      <th>478728</th>\n",
       "      <td>13024</td>\n",
       "      <td>20014</td>\n",
       "      <td>1.0</td>\n",
       "    </tr>\n",
       "  </tbody>\n",
       "</table>\n",
       "<p>478729 rows × 3 columns</p>\n",
       "</div>"
      ],
      "text/plain": [
       "        UserID  ItemID  Interaction\n",
       "0            1      15          1.0\n",
       "1            1      16          1.0\n",
       "2            1     133          1.0\n",
       "3            1     161          1.0\n",
       "4            1     187          1.0\n",
       "...        ...     ...          ...\n",
       "478724   13024   13605          1.0\n",
       "478725   13024   13823          1.0\n",
       "478726   13024   15122          1.0\n",
       "478727   13024   18185          1.0\n",
       "478728   13024   20014          1.0\n",
       "\n",
       "[478729 rows x 3 columns]"
      ]
     },
     "execution_count": 4,
     "metadata": {},
     "output_type": "execute_result"
    }
   ],
   "source": [
    "import pandas as pd\n",
    "import numpy as np\n",
    "\n",
    "path = \"Dataset/data_train.csv\"\n",
    "df = pd.read_csv(filepath_or_buffer=path,\n",
    "                               sep=\",\",\n",
    "                               header=1,\n",
    "                               engine='python',\n",
    "                               names=['UserID', 'ItemID', 'Interaction'])\n",
    "\n",
    "metric_to_optimize=\"MAP\"\n",
    "\n",
    "df"
   ]
  },
  {
   "cell_type": "code",
   "execution_count": 5,
   "metadata": {},
   "outputs": [
    {
     "name": "stdout",
     "output_type": "stream",
     "text": [
      "Number of users: 12638, Number of Items: 22222, Min rating: 0.0, Max rating: 1.0\n"
     ]
    }
   ],
   "source": [
    "user_ids = df[\"UserID\"].unique().tolist()\n",
    "user2user_encoded = {x: i for i, x in enumerate(user_ids)}\n",
    "userencoded2user = {i: x for i, x in enumerate(user_ids)}\n",
    "item_ids = df[\"ItemID\"].unique().tolist()\n",
    "item2item_encoded = {x: i for i, x in enumerate(item_ids)}\n",
    "item_encoded2item = {i: x for i, x in enumerate(item_ids)}\n",
    "df[\"User\"] = df[\"UserID\"].map(user2user_encoded)\n",
    "df[\"Item\"] = df[\"ItemID\"].map(item2item_encoded)\n",
    "\n",
    "num_users = len(user2user_encoded)\n",
    "num_items = len(item_encoded2item)\n",
    "df[\"Interaction\"] = df[\"Interaction\"].values.astype(np.float32)\n",
    "\n",
    "# min and max ratings will be used to normalize the ratings later\n",
    "min_rating = 0.0\n",
    "max_rating = max(df[\"Interaction\"])\n",
    "\n",
    "print(\n",
    "    \"Number of users: {}, Number of Items: {}, Min rating: {}, Max rating: {}\".format(\n",
    "        num_users, num_items, min_rating, max_rating\n",
    "    )\n",
    ")"
   ]
  },
  {
   "cell_type": "code",
   "execution_count": 6,
   "metadata": {},
   "outputs": [],
   "source": [
    "userId_unique = df[\"UserID\"].unique()\n",
    "itemId_unique = df[\"ItemID\"].unique()"
   ]
  },
  {
   "cell_type": "code",
   "execution_count": 7,
   "metadata": {},
   "outputs": [
    {
     "name": "stdout",
     "output_type": "stream",
     "text": [
      "Warning: 229 (1.81 %) of 12638 users have no train items\n",
      "Warning: 2166 (17.14 %) of 12638 users have no sampled items\n",
      "Warning: 481 (3.81 %) of 12638 users have no train items\n",
      "Warning: 2565 (20.30 %) of 12638 users have no sampled items\n",
      "Warning: 217 (1.72 %) of 12638 users have no train items\n",
      "Warning: 2150 (17.01 %) of 12638 users have no sampled items\n",
      "Warning: 453 (3.58 %) of 12638 users have no train items\n",
      "Warning: 2625 (20.77 %) of 12638 users have no sampled items\n",
      "Warning: 223 (1.76 %) of 12638 users have no train items\n",
      "Warning: 2190 (17.33 %) of 12638 users have no sampled items\n",
      "Warning: 446 (3.53 %) of 12638 users have no train items\n",
      "Warning: 2596 (20.54 %) of 12638 users have no sampled items\n",
      "Warning: 227 (1.80 %) of 12638 users have no train items\n",
      "Warning: 2194 (17.36 %) of 12638 users have no sampled items\n",
      "Warning: 450 (3.56 %) of 12638 users have no train items\n",
      "Warning: 2666 (21.10 %) of 12638 users have no sampled items\n",
      "Warning: 243 (1.92 %) of 12638 users have no train items\n",
      "Warning: 2165 (17.13 %) of 12638 users have no sampled items\n",
      "Warning: 474 (3.75 %) of 12638 users have no train items\n",
      "Warning: 2621 (20.74 %) of 12638 users have no sampled items\n",
      "Warning: 239 (1.89 %) of 12638 users have no train items\n",
      "Warning: 2145 (16.97 %) of 12638 users have no sampled items\n",
      "Warning: 481 (3.81 %) of 12638 users have no train items\n",
      "Warning: 2652 (20.98 %) of 12638 users have no sampled items\n",
      "Warning: 201 (1.59 %) of 12638 users have no train items\n",
      "Warning: 2171 (17.18 %) of 12638 users have no sampled items\n",
      "Warning: 443 (3.51 %) of 12638 users have no train items\n",
      "Warning: 2570 (20.34 %) of 12638 users have no sampled items\n",
      "Warning: 220 (1.74 %) of 12638 users have no train items\n",
      "Warning: 2198 (17.39 %) of 12638 users have no sampled items\n",
      "Warning: 467 (3.70 %) of 12638 users have no train items\n",
      "Warning: 2646 (20.94 %) of 12638 users have no sampled items\n"
     ]
    }
   ],
   "source": [
    "from sklearn.model_selection import train_test_split\n",
    "from sklearn.model_selection import cross_val_score, KFold\n",
    "import numpy as np\n",
    "import scipy.sparse as sps\n",
    "from Data_manager.split_functions.split_train_validation_random_holdout import split_train_in_two_percentage_global_sample\n",
    "\n",
    "seeds = [\n",
    "    1811854, 3772146, 6407100, 6926227, 1340378, \n",
    "    68679, 3822303, 4058970, 1264160, 1100338, \n",
    "    6552126, 725363, 8362134, 9446122, 5256199, \n",
    "    4686339, 3830906, 7315366, 9428914, 5564236, \n",
    "    3420043, 9223036, 851434, 3300082, 7899660, \n",
    "    2053768, 4305274, 3709256, 8795594, 1418903, \n",
    "    7428566, 157832\n",
    "]\n",
    "\n",
    "seeds = seeds[:num_cpus]\n",
    "\n",
    "urm_all = sps.coo_matrix((df[\"Interaction\"].values, \n",
    "                          (df[\"User\"].values, df[\"Item\"].values)))\n",
    "\n",
    "urm_train_validation = []\n",
    "urm_test = []\n",
    "urm_train = []\n",
    "urm_validation = []\n",
    "\n",
    "for i in range(len(seeds)):\n",
    "    a, b = split_train_in_two_percentage_global_sample(urm_all, train_percentage = 0.80,seed=seeds[i])\n",
    "    c, d = split_train_in_two_percentage_global_sample(a, train_percentage = 0.80,seed=seeds[i])\n",
    "    urm_train_validation.append(a)\n",
    "    urm_test.append(b)\n",
    "    urm_train.append(c)\n",
    "    urm_validation.append(d)\n",
    "\n"
   ]
  },
  {
   "cell_type": "code",
   "execution_count": 31,
   "metadata": {},
   "outputs": [
    {
     "name": "stdout",
     "output_type": "stream",
     "text": [
      "EvaluatorHoldout: Ignoring 2166 (17.1%) Users that have less than 1 test interactions\n",
      "EvaluatorHoldout: Ignoring 0 Users\n",
      "EvaluatorHoldout: Ignoring 2150 (17.0%) Users that have less than 1 test interactions\n",
      "EvaluatorHoldout: Ignoring 0 Users\n",
      "EvaluatorHoldout: Ignoring 2190 (17.3%) Users that have less than 1 test interactions\n",
      "EvaluatorHoldout: Ignoring 0 Users\n",
      "EvaluatorHoldout: Ignoring 2194 (17.4%) Users that have less than 1 test interactions\n",
      "EvaluatorHoldout: Ignoring 0 Users\n",
      "EvaluatorHoldout: Ignoring 2165 (17.1%) Users that have less than 1 test interactions\n",
      "EvaluatorHoldout: Ignoring 0 Users\n",
      "EvaluatorHoldout: Ignoring 2145 (17.0%) Users that have less than 1 test interactions\n",
      "EvaluatorHoldout: Ignoring 0 Users\n",
      "EvaluatorHoldout: Ignoring 2171 (17.2%) Users that have less than 1 test interactions\n",
      "EvaluatorHoldout: Ignoring 0 Users\n",
      "EvaluatorHoldout: Ignoring 2198 (17.4%) Users that have less than 1 test interactions\n",
      "EvaluatorHoldout: Ignoring 0 Users\n"
     ]
    }
   ],
   "source": [
    "from Evaluation.Evaluator import EvaluatorHoldout\n",
    "evaluator_test = []\n",
    "for u in urm_test:\n",
    "    evaluator_test.append(EvaluatorHoldout(u, cutoff_list=[10], ignore_users=[]))"
   ]
  },
  {
   "cell_type": "code",
   "execution_count": 18,
   "metadata": {},
   "outputs": [],
   "source": [
    "import optuna\n",
    "host = \"192.168.16.83\"\n",
    "port = 3306\n",
    "database_name = \"optuna_mio\"\n",
    "username = \"root\"\n",
    "password = \"Japo2001\"\n",
    "\n",
    "# Create an SQLAlchemy engine\n",
    "mysql_url = f\"mysql+pymysql://{username}:{password}@{host}:{port}/{database_name}\"\n",
    "mysql_url\n",
    "storage = optuna.storages.RDBStorage(url=mysql_url)\n",
    "\n",
    "ials_name = \"IALS_8FOLD\"\n",
    "knn_name = \"ITEMKNN_8FOLD\"\n",
    "slim_name = \"SLIMEN_8FOLD\"\n",
    "rp3beta_name = \"RP3_8FOLD\"\n",
    "p3alpha_name = \"P3Alpha_8FOLD\"\n",
    "ials_study = optuna.load_study(study_name=ials_name, storage=storage)\n",
    "knn_study = optuna.load_study(study_name=knn_name, storage=storage)\n",
    "slim_study = optuna.load_study(study_name=slim_name, storage=storage)\n",
    "rp3beta_study = optuna.load_study(study_name=rp3beta_name, storage=storage)\n",
    "p3alpha_study = optuna.load_study(study_name=p3alpha_name, storage=storage)\n",
    "\n",
    "studies = [knn_study, slim_study, rp3beta_study, p3alpha_study, ials_study]"
   ]
  },
  {
   "cell_type": "code",
   "execution_count": 19,
   "metadata": {},
   "outputs": [],
   "source": [
    "from Recommenders.KNN.ItemKNNCFRecommender import ItemKNNCFRecommender\n",
    "from Recommenders.MatrixFactorization.ImplicitIALSRecommender import ImplicitALSRecommender\n",
    "from Recommenders.GraphBased.RP3betaRecommender import RP3betaRecommender\n",
    "from Recommenders.GraphBased.P3alphaRecommender import P3alphaRecommender\n",
    "from Recommenders.SLIM.SLIMElasticNetRecommender import MultiThreadSLIM_SLIMElasticNetRecommender"
   ]
  },
  {
   "cell_type": "code",
   "execution_count": 20,
   "metadata": {},
   "outputs": [
    {
     "name": "stdout",
     "output_type": "stream",
     "text": [
      "Similarity column 22222 (100.0%), 5220.31 column/sec. Elapsed time 4.26 sec\n",
      "Using gpu: True\n",
      "Similarity column 22222 (100.0%), 5379.13 column/sec. Elapsed time 4.13 sec\n",
      "Using gpu: True\n",
      "Similarity column 22222 (100.0%), 5264.69 column/sec. Elapsed time 4.22 sec\n",
      "Using gpu: True\n",
      "Similarity column 22222 (100.0%), 8931.08 column/sec. Elapsed time 2.49 sec\n",
      "Using gpu: True\n",
      "Similarity column 22222 (100.0%), 5687.21 column/sec. Elapsed time 3.91 sec\n",
      "Using gpu: True\n",
      "Similarity column 22222 (100.0%), 5393.30 column/sec. Elapsed time 4.12 sec\n",
      "Using gpu: True\n",
      "Similarity column 22222 (100.0%), 8696.76 column/sec. Elapsed time 2.56 sec\n",
      "Using gpu: True\n",
      "Similarity column 22222 (100.0%), 5774.64 column/sec. Elapsed time 3.85 sec\n",
      "Using gpu: True\n"
     ]
    }
   ],
   "source": [
    "recs = []\n",
    "\n",
    "for i in range(len(seeds)):\n",
    "    split = []\n",
    "\n",
    "    knn = ItemKNNCFRecommender(urm_train_validation[i], verbose=False)\n",
    "    knn.fit(topK=knn_study.best_params[\"topK\"], shrink=knn_study.best_params[\"shrink\"])\n",
    "    split.append(knn)\n",
    "\n",
    "    slim = MultiThreadSLIM_SLIMElasticNetRecommender(urm_train_validation[i], verbose=False)\n",
    "    slim.fit(topK=slim_study.best_params[\"topK\"], l1_ratio=slim_study.best_params[\"l1_ratio\"], alpha=slim_study.best_params[\"alpha\"], verbose=False, workers=12)\n",
    "    split.append(slim)\n",
    "\n",
    "    ials = ImplicitALSRecommender(urm_train_validation[i], verbose=False)\n",
    "    ials.fit(use_gpu=True, num_threads=1, **ials_study.best_params)\n",
    "    split.append(ials)\n",
    "\n",
    "    rp3beta = RP3betaRecommender(urm_train_validation[i], verbose=False)\n",
    "    rp3beta.fit(topK=rp3beta_study.best_params[\"topK\"], alpha=rp3beta_study.best_params[\"alpha\"], beta=rp3beta_study.best_params[\"beta\"])\n",
    "    split.append(rp3beta)\n",
    "\n",
    "    p3alpha = P3alphaRecommender(urm_train_validation[i], verbose=False)\n",
    "    p3alpha.fit(topK=p3alpha_study.best_params[\"topK\"], alpha=p3alpha_study.best_params[\"alpha\"])\n",
    "    split.append(p3alpha)\n",
    "\n",
    "    recs.append(split)\n",
    "\n",
    "    "
   ]
  },
  {
   "cell_type": "code",
   "execution_count": 21,
   "metadata": {},
   "outputs": [
    {
     "name": "stderr",
     "output_type": "stream",
     "text": [
      "[I 2024-01-08 14:57:17,064] A new study created in RDB with name: NEWHYBRID10_DB\n"
     ]
    }
   ],
   "source": [
    "hybrid_name = \"NEWHYBRID10_DB\"\n",
    "study = optuna.create_study(study_name=hybrid_name, storage=storage, direction=\"maximize\", load_if_exists=True)"
   ]
  },
  {
   "cell_type": "code",
   "execution_count": 24,
   "metadata": {},
   "outputs": [],
   "source": [
    "from Recommenders.Hybrid.GeneralizedLinearHybridRecommender import GeneralizedLinearHybridRecommender\n",
    "\n",
    "hybrids = []\n",
    "\n",
    "for i in range(len(seeds)):\n",
    "    hybrid = GeneralizedLinearHybridRecommender(urm_train_validation[i], recs[i], verbose=False)\n",
    "    hybrids.append(hybrid)\n",
    "\n"
   ]
  },
  {
   "cell_type": "code",
   "execution_count": 26,
   "metadata": {},
   "outputs": [
    {
     "data": {
      "text/plain": [
       "<Recommenders.Hybrid.GeneralizedLinearHybridRecommender.GeneralizedLinearHybridRecommender at 0x7f1191af44f0>"
      ]
     },
     "execution_count": 26,
     "metadata": {},
     "output_type": "execute_result"
    }
   ],
   "source": [
    "hybrids[0]"
   ]
  },
  {
   "cell_type": "code",
   "execution_count": 50,
   "metadata": {},
   "outputs": [],
   "source": [
    "def run_fold(fold, alphas):\n",
    "    hybrids[fold].fit(alphas)\n",
    "\n",
    "    metric_result = evaluator_test[fold].evaluateRecommender(hybrids[fold])[0][metric_to_optimize].item()\n",
    "    res = {'Fold': fold, metric_to_optimize: metric_result, 'params': alphas}\n",
    "    #print(res)\n",
    "    return res\n",
    "\n",
    "def run_fold_wrapper(fold, alphas):\n",
    "    return run_fold(fold, alphas)\n",
    "\n",
    "sum_map = lambda results: sum(item[metric_to_optimize] for item in results)\n"
   ]
  },
  {
   "cell_type": "code",
   "execution_count": 51,
   "metadata": {},
   "outputs": [],
   "source": [
    "from concurrent.futures import ProcessPoolExecutor\n",
    "\n",
    "\n",
    "def objective_multi(trial):\n",
    "\n",
    "    alphas= []\n",
    "    for i in range(len(recs[0])):\n",
    "        key = \"alpha_\" + str(i)\n",
    "        value = trial.suggest_float(key, 0, 1)\n",
    "        alphas.append(value)\n",
    "    \n",
    "    with ProcessPoolExecutor(max_workers=num_cpus) as executor:\n",
    "        # Submit all tasks to the process pool and wait for them to complete\n",
    "        #fold_results = list(executor.map(lambda fold: run_fold(fold, **current_fit_hyperparameters_dict), range(len(seeds))))\n",
    "        fold_results = list(executor.map(run_fold_wrapper, range(len(seeds)), [alphas]*len(seeds)))\n",
    "    #print(fold_results)\n",
    "    average_score = sum_map(fold_results) / len(fold_results)\n",
    "    return average_score"
   ]
  },
  {
   "cell_type": "code",
   "execution_count": 36,
   "metadata": {},
   "outputs": [],
   "source": [
    "def objective(trial):\n",
    "\n",
    "    alphas= []\n",
    "    for i in range(len(recs[0])):\n",
    "        key = \"alpha_\" + str(i)\n",
    "        value = trial.suggest_float(key, 0, 1)\n",
    "        alphas.append(value)\n",
    "\n",
    "    \n",
    "\n",
    "    score = 0\n",
    "    for i, _ in enumerate(seeds):\n",
    "        hybrid = hybrids[i]\n",
    "        hybrid.fit(alphas)\n",
    "        result, _ = evaluator_test[i].evaluateRecommender(hybrid)\n",
    "        MAP_result = result[\"MAP\"].item()\n",
    "            \n",
    "        score += MAP_result\n",
    "    \n",
    "    score = score /len(seeds)\n",
    "\n",
    "    print(f\"MAP: {score}\")\n",
    "       \n",
    "    return score"
   ]
  },
  {
   "cell_type": "code",
   "execution_count": 52,
   "metadata": {},
   "outputs": [
    {
     "name": "stdout",
     "output_type": "stream",
     "text": [
      "EvaluatorHoldout: Processed 10467 (100.0%) in 19.46 sec. Users per second: 538\n",
      "EvaluatorHoldout: Processed 10444 (100.0%) in 19.79 sec. Users per second: 528\n",
      "EvaluatorHoldout: Processed 10493 (100.0%) in 20.41 sec. Users per second: 514\n",
      "EvaluatorHoldout: Processed 10488 (100.0%) in 20.62 sec. Users per second: 509\n",
      "EvaluatorHoldout: Processed 10440 (100.0%) in 20.52 sec. Users per second: 509\n",
      "EvaluatorHoldout: Processed 10473 (100.0%) in 21.30 sec. Users per second: 492\n",
      "EvaluatorHoldout: Processed 10472 (100.0%) in 21.35 sec. Users per second: 491\n",
      "EvaluatorHoldout: Processed 10448 (100.0%) in 22.32 sec. Users per second: 468\n"
     ]
    },
    {
     "name": "stderr",
     "output_type": "stream",
     "text": [
      "[I 2024-01-08 15:09:12,501] Trial 13 finished with value: 0.048639663568097305 and parameters: {'alpha_0': 0.05060462674048993, 'alpha_1': 0.7118855087788526, 'alpha_2': 0.74379696889475, 'alpha_3': 0.40122499321090166, 'alpha_4': 0.5315116168705876}. Best is trial 11 with value: 0.04922789950623326.\n"
     ]
    },
    {
     "name": "stdout",
     "output_type": "stream",
     "text": [
      "EvaluatorHoldout: Processed 10444 (100.0%) in 23.73 sec. Users per second: 440\n",
      "EvaluatorHoldout: Processed 10473 (100.0%) in 24.99 sec. Users per second: 419\n",
      "EvaluatorHoldout: Processed 10493 (100.0%) in 25.39 sec. Users per second: 413\n",
      "EvaluatorHoldout: Processed 10467 (100.0%) in 25.99 sec. Users per second: 403\n",
      "EvaluatorHoldout: Processed 10488 (100.0%) in 26.62 sec. Users per second: 394\n",
      "EvaluatorHoldout: Processed 10472 (100.0%) in 27.09 sec. Users per second: 387\n",
      "EvaluatorHoldout: Processed 10440 (100.0%) in 27.04 sec. Users per second: 386\n",
      "EvaluatorHoldout: Processed 10448 (100.0%) in 27.34 sec. Users per second: 382\n"
     ]
    },
    {
     "name": "stderr",
     "output_type": "stream",
     "text": [
      "[I 2024-01-08 15:09:40,637] Trial 14 finished with value: 0.04989344806203376 and parameters: {'alpha_0': 0.05689779913724857, 'alpha_1': 0.7920847635121536, 'alpha_2': 0.6529259050352075, 'alpha_3': 0.8484630577968295, 'alpha_4': 0.9416769066807087}. Best is trial 14 with value: 0.04989344806203376.\n"
     ]
    },
    {
     "name": "stdout",
     "output_type": "stream",
     "text": [
      "EvaluatorHoldout: Processed 10440 (100.0%) in 23.08 sec. Users per second: 452\n",
      "EvaluatorHoldout: Processed 10488 (100.0%) in 25.69 sec. Users per second: 408\n",
      "EvaluatorHoldout: Processed 10472 (100.0%) in 26.16 sec. Users per second: 400EvaluatorHoldout: Processed 10448 (100.0%) in 26.16 sec. Users per second: 399\n",
      "\n",
      "EvaluatorHoldout: Processed 10473 (100.0%) in 26.51 sec. Users per second: 395\n",
      "EvaluatorHoldout: Processed 10444 (100.0%) in 26.93 sec. Users per second: 388\n",
      "EvaluatorHoldout: Processed 10467 (100.0%) in 26.86 sec. Users per second: 390\n",
      "EvaluatorHoldout: Processed 10493 (100.0%) in 27.22 sec. Users per second: 385\n"
     ]
    },
    {
     "name": "stderr",
     "output_type": "stream",
     "text": [
      "[I 2024-01-08 15:10:08,721] Trial 15 finished with value: 0.04822192688309871 and parameters: {'alpha_0': 0.5363342382586749, 'alpha_1': 0.19949620841375937, 'alpha_2': 0.016604306582205353, 'alpha_3': 0.8731128608661141, 'alpha_4': 0.07581273037658787}. Best is trial 14 with value: 0.04989344806203376.\n"
     ]
    },
    {
     "name": "stdout",
     "output_type": "stream",
     "text": [
      "EvaluatorHoldout: Processed 10488 (100.0%) in 24.30 sec. Users per second: 432\n",
      "EvaluatorHoldout: Processed 10440 (100.0%) in 24.27 sec. Users per second: 430\n",
      "EvaluatorHoldout: Processed 10493 (100.0%) in 24.51 sec. Users per second: 428\n",
      "EvaluatorHoldout: Processed 10467 (100.0%) in 24.77 sec. Users per second: 422\n",
      "EvaluatorHoldout: Processed 10448 (100.0%) in 24.97 sec. Users per second: 418\n",
      "EvaluatorHoldout: Processed 10444 (100.0%) in 25.27 sec. Users per second: 413\n",
      "EvaluatorHoldout: Processed 10473 (100.0%) in 25.42 sec. Users per second: 412\n",
      "EvaluatorHoldout: Processed 10472 (100.0%) in 25.88 sec. Users per second: 405\n"
     ]
    },
    {
     "name": "stderr",
     "output_type": "stream",
     "text": [
      "[I 2024-01-08 15:10:35,300] Trial 16 finished with value: 0.04801536842673298 and parameters: {'alpha_0': 0.3250846007601359, 'alpha_1': 0.5362960321182489, 'alpha_2': 0.8696471673132674, 'alpha_3': 0.1441856968701779, 'alpha_4': 0.4282365898420576}. Best is trial 14 with value: 0.04989344806203376.\n"
     ]
    },
    {
     "name": "stdout",
     "output_type": "stream",
     "text": [
      "EvaluatorHoldout: Processed 10444 (100.0%) in 18.82 sec. Users per second: 555\n",
      "EvaluatorHoldout: Processed 10488 (100.0%) in 18.99 sec. Users per second: 552\n",
      "EvaluatorHoldout: Processed 10473 (100.0%) in 20.46 sec. Users per second: 512\n",
      "EvaluatorHoldout: Processed 10493 (100.0%) in 22.41 sec. Users per second: 468\n",
      "EvaluatorHoldout: Processed 10467 (100.0%) in 22.81 sec. Users per second: 459\n",
      "EvaluatorHoldout: Processed 10472 (100.0%) in 22.90 sec. Users per second: 457\n",
      "EvaluatorHoldout: Processed 10440 (100.0%) in 23.26 sec. Users per second: 449\n",
      "EvaluatorHoldout: Processed 10448 (100.0%) in 23.60 sec. Users per second: 443\n"
     ]
    },
    {
     "name": "stderr",
     "output_type": "stream",
     "text": [
      "[I 2024-01-08 15:10:59,390] Trial 17 finished with value: 0.050203163915426674 and parameters: {'alpha_0': 0.187189303777912, 'alpha_1': 0.9979340211037737, 'alpha_2': 0.39754750262749083, 'alpha_3': 0.14373026639003517, 'alpha_4': 0.5934968131186688}. Best is trial 17 with value: 0.050203163915426674.\n"
     ]
    },
    {
     "name": "stdout",
     "output_type": "stream",
     "text": [
      "EvaluatorHoldout: Processed 10472 (100.0%) in 21.99 sec. Users per second: 476\n",
      "EvaluatorHoldout: Processed 10473 (100.0%) in 24.38 sec. Users per second: 430\n",
      "EvaluatorHoldout: Processed 10488 (100.0%) in 24.55 sec. Users per second: 427\n",
      "EvaluatorHoldout: Processed 10444 (100.0%) in 24.65 sec. Users per second: 424\n",
      "EvaluatorHoldout: Processed 10440 (100.0%) in 25.39 sec. Users per second: 411\n",
      "EvaluatorHoldout: Processed 10467 (100.0%) in 25.45 sec. Users per second: 411\n",
      "EvaluatorHoldout: Processed 10493 (100.0%) in 25.78 sec. Users per second: 407\n",
      "EvaluatorHoldout: Processed 10448 (100.0%) in 26.25 sec. Users per second: 398\n"
     ]
    },
    {
     "name": "stderr",
     "output_type": "stream",
     "text": [
      "[I 2024-01-08 15:11:26,476] Trial 18 finished with value: 0.04831026366879236 and parameters: {'alpha_0': 0.16769621622875353, 'alpha_1': 0.9121374482667285, 'alpha_2': 0.8776714474479342, 'alpha_3': 0.25497748837417034, 'alpha_4': 0.24489610150495755}. Best is trial 17 with value: 0.050203163915426674.\n"
     ]
    },
    {
     "name": "stdout",
     "output_type": "stream",
     "text": [
      "EvaluatorHoldout: Processed 10472 (100.0%) in 22.85 sec. Users per second: 458\n",
      "EvaluatorHoldout: Processed 10444 (100.0%) in 23.44 sec. Users per second: 445\n",
      "EvaluatorHoldout: Processed 10448 (100.0%) in 24.81 sec. Users per second: 421\n",
      "EvaluatorHoldout: Processed 10488 (100.0%) in 24.90 sec. Users per second: 421\n",
      "EvaluatorHoldout: Processed 10467 (100.0%) in 24.81 sec. Users per second: 422\n",
      "EvaluatorHoldout: Processed 10473 (100.0%) in 24.94 sec. Users per second: 420EvaluatorHoldout: Processed 10440 (100.0%) in 24.79 sec. Users per second: 421\n",
      "\n",
      "EvaluatorHoldout: Processed 10493 (100.0%) in 26.29 sec. Users per second: 399\n"
     ]
    },
    {
     "name": "stderr",
     "output_type": "stream",
     "text": [
      "[I 2024-01-08 15:11:53,664] Trial 19 finished with value: 0.04898206975155741 and parameters: {'alpha_0': 0.32206455351843755, 'alpha_1': 0.5127310697499249, 'alpha_2': 0.10144134153124085, 'alpha_3': 0.09203225813929528, 'alpha_4': 0.09121259169633344}. Best is trial 17 with value: 0.050203163915426674.\n"
     ]
    },
    {
     "name": "stdout",
     "output_type": "stream",
     "text": [
      "EvaluatorHoldout: Processed 10448 (100.0%) in 23.94 sec. Users per second: 437\n",
      "EvaluatorHoldout: Processed 10473 (100.0%) in 23.98 sec. Users per second: 437\n",
      "EvaluatorHoldout: Processed 10488 (100.0%) in 24.12 sec. Users per second: 435\n",
      "EvaluatorHoldout: Processed 10467 (100.0%) in 24.05 sec. Users per second: 435\n",
      "EvaluatorHoldout: Processed 10472 (100.0%) in 24.33 sec. Users per second: 431\n",
      "EvaluatorHoldout: Processed 10444 (100.0%) in 24.35 sec. Users per second: 429\n",
      "EvaluatorHoldout: Processed 10440 (100.0%) in 24.83 sec. Users per second: 420\n",
      "EvaluatorHoldout: Processed 10493 (100.0%) in 25.04 sec. Users per second: 419\n"
     ]
    },
    {
     "name": "stderr",
     "output_type": "stream",
     "text": [
      "[I 2024-01-08 15:12:19,555] Trial 20 finished with value: 0.04841102997806819 and parameters: {'alpha_0': 0.8799695063753461, 'alpha_1': 0.9656773463451002, 'alpha_2': 0.2937472687875898, 'alpha_3': 0.005689799085043634, 'alpha_4': 0.6940586283182256}. Best is trial 17 with value: 0.050203163915426674.\n"
     ]
    },
    {
     "name": "stdout",
     "output_type": "stream",
     "text": [
      "EvaluatorHoldout: Processed 10493 (100.0%) in 19.53 sec. Users per second: 537\n",
      "EvaluatorHoldout: Processed 10488 (100.0%) in 19.87 sec. Users per second: 528\n",
      "EvaluatorHoldout: Processed 10473 (100.0%) in 20.71 sec. Users per second: 506\n",
      "EvaluatorHoldout: Processed 10472 (100.0%) in 21.22 sec. Users per second: 494\n",
      "EvaluatorHoldout: Processed 10467 (100.0%) in 21.38 sec. Users per second: 489\n",
      "EvaluatorHoldout: Processed 10440 (100.0%) in 21.50 sec. Users per second: 486\n",
      "EvaluatorHoldout: Processed 10448 (100.0%) in 21.72 sec. Users per second: 481\n",
      "EvaluatorHoldout: Processed 10444 (100.0%) in 21.97 sec. Users per second: 475\n"
     ]
    },
    {
     "name": "stderr",
     "output_type": "stream",
     "text": [
      "[I 2024-01-08 15:12:42,038] Trial 21 finished with value: 0.04962745614987485 and parameters: {'alpha_0': 0.005381943480419649, 'alpha_1': 0.798224302154849, 'alpha_2': 0.6678214824972359, 'alpha_3': 0.7079491101198584, 'alpha_4': 0.98068710251384}. Best is trial 17 with value: 0.050203163915426674.\n"
     ]
    },
    {
     "name": "stdout",
     "output_type": "stream",
     "text": [
      "EvaluatorHoldout: Processed 10488 (100.0%) in 23.75 sec. Users per second: 442\n",
      "EvaluatorHoldout: Processed 10473 (100.0%) in 24.82 sec. Users per second: 422\n",
      "EvaluatorHoldout: Processed 10493 (100.0%) in 25.61 sec. Users per second: 410\n",
      "EvaluatorHoldout: Processed 10472 (100.0%) in 26.51 sec. Users per second: 395\n",
      "EvaluatorHoldout: Processed 10448 (100.0%) in 26.90 sec. Users per second: 388\n",
      "EvaluatorHoldout: Processed 10444 (100.0%) in 27.08 sec. Users per second: 386\n",
      "EvaluatorHoldout: Processed 10440 (100.0%) in 26.98 sec. Users per second: 387\n",
      "EvaluatorHoldout: Processed 10467 (100.0%) in 26.99 sec. Users per second: 388\n"
     ]
    },
    {
     "name": "stderr",
     "output_type": "stream",
     "text": [
      "[I 2024-01-08 15:13:10,056] Trial 22 finished with value: 0.050077521652637506 and parameters: {'alpha_0': 0.2883906270992803, 'alpha_1': 0.9909887326697127, 'alpha_2': 0.6240393319943701, 'alpha_3': 0.6276334999409998, 'alpha_4': 0.9851301058387842}. Best is trial 17 with value: 0.050203163915426674.\n"
     ]
    },
    {
     "name": "stdout",
     "output_type": "stream",
     "text": [
      "EvaluatorHoldout: Processed 10440 (100.0%) in 23.02 sec. Users per second: 454\n",
      "EvaluatorHoldout: Processed 10493 (100.0%) in 23.99 sec. Users per second: 437EvaluatorHoldout: Processed 10448 (100.0%) in 24.10 sec. Users per second: 433\n",
      "EvaluatorHoldout: Processed 10472 (100.0%) in 24.14 sec. Users per second: 434\n",
      "\n",
      "EvaluatorHoldout: Processed 10473 (100.0%) in 24.16 sec. Users per second: 434\n",
      "EvaluatorHoldout: Processed 10467 (100.0%) in 24.96 sec. Users per second: 419\n",
      "EvaluatorHoldout: Processed 10488 (100.0%) in 25.60 sec. Users per second: 410\n",
      "EvaluatorHoldout: Processed 10444 (100.0%) in 25.71 sec. Users per second: 406\n"
     ]
    },
    {
     "name": "stderr",
     "output_type": "stream",
     "text": [
      "[I 2024-01-08 15:13:36,382] Trial 23 finished with value: 0.050464279968818054 and parameters: {'alpha_0': 0.2576082660252179, 'alpha_1': 0.9955907528753558, 'alpha_2': 0.3003363137170313, 'alpha_3': 0.628046975245594, 'alpha_4': 0.7509014370970866}. Best is trial 23 with value: 0.050464279968818054.\n"
     ]
    },
    {
     "name": "stdout",
     "output_type": "stream",
     "text": [
      "EvaluatorHoldout: Processed 10440 (100.0%) in 21.81 sec. Users per second: 479\n",
      "EvaluatorHoldout: Processed 10444 (100.0%) in 23.55 sec. Users per second: 443\n",
      "EvaluatorHoldout: Processed 10467 (100.0%) in 23.68 sec. Users per second: 442\n",
      "EvaluatorHoldout: Processed 10493 (100.0%) in 23.90 sec. Users per second: 439EvaluatorHoldout: Processed 10473 (100.0%) in 24.00 sec. Users per second: 436\n",
      "\n",
      "EvaluatorHoldout: Processed 10488 (100.0%) in 25.36 sec. Users per second: 414\n",
      "EvaluatorHoldout: Processed 10472 (100.0%) in 25.47 sec. Users per second: 411\n",
      "EvaluatorHoldout: Processed 10448 (100.0%) in 25.58 sec. Users per second: 408\n"
     ]
    },
    {
     "name": "stderr",
     "output_type": "stream",
     "text": [
      "[I 2024-01-08 15:14:02,641] Trial 24 finished with value: 0.04843068335540609 and parameters: {'alpha_0': 0.61511404071834, 'alpha_1': 0.3655080066963269, 'alpha_2': 0.22291505866883476, 'alpha_3': 0.326570214858597, 'alpha_4': 0.7247876086988645}. Best is trial 23 with value: 0.050464279968818054.\n"
     ]
    },
    {
     "name": "stdout",
     "output_type": "stream",
     "text": [
      "EvaluatorHoldout: Processed 10444 (100.0%) in 20.39 sec. Users per second: 512\n",
      "EvaluatorHoldout: Processed 10440 (100.0%) in 20.40 sec. Users per second: 512\n",
      "EvaluatorHoldout: Processed 10488 (100.0%) in 20.84 sec. Users per second: 503\n",
      "EvaluatorHoldout: Processed 10493 (100.0%) in 20.86 sec. Users per second: 503\n",
      "EvaluatorHoldout: Processed 10448 (100.0%) in 20.99 sec. Users per second: 498\n",
      "EvaluatorHoldout: Processed 10472 (100.0%) in 21.78 sec. Users per second: 481\n",
      "EvaluatorHoldout: Processed 10467 (100.0%) in 21.85 sec. Users per second: 479\n",
      "EvaluatorHoldout: Processed 10473 (100.0%) in 22.16 sec. Users per second: 473\n"
     ]
    },
    {
     "name": "stderr",
     "output_type": "stream",
     "text": [
      "[I 2024-01-08 15:14:25,391] Trial 25 finished with value: 0.050471747547596715 and parameters: {'alpha_0': 0.2031634990798955, 'alpha_1': 0.8464254622749205, 'alpha_2': 0.3342261346932478, 'alpha_3': 0.578597145419973, 'alpha_4': 0.6762379340431051}. Best is trial 25 with value: 0.050471747547596715.\n"
     ]
    },
    {
     "name": "stdout",
     "output_type": "stream",
     "text": [
      "EvaluatorHoldout: Processed 10472 (100.0%) in 21.90 sec. Users per second: 478\n",
      "EvaluatorHoldout: Processed 10493 (100.0%) in 22.76 sec. Users per second: 461\n",
      "EvaluatorHoldout: Processed 10488 (100.0%) in 23.95 sec. Users per second: 438\n",
      "EvaluatorHoldout: Processed 10473 (100.0%) in 24.31 sec. Users per second: 431\n",
      "EvaluatorHoldout: Processed 10467 (100.0%) in 25.15 sec. Users per second: 416\n",
      "EvaluatorHoldout: Processed 10440 (100.0%) in 25.28 sec. Users per second: 413\n",
      "EvaluatorHoldout: Processed 10448 (100.0%) in 25.53 sec. Users per second: 409\n",
      "EvaluatorHoldout: Processed 10444 (100.0%) in 25.65 sec. Users per second: 407\n"
     ]
    },
    {
     "name": "stderr",
     "output_type": "stream",
     "text": [
      "[I 2024-01-08 15:14:51,935] Trial 26 finished with value: 0.049064982436453186 and parameters: {'alpha_0': 0.773839385154687, 'alpha_1': 0.8377638542441821, 'alpha_2': 0.22735207939733806, 'alpha_3': 0.5892427400218723, 'alpha_4': 0.8110542242967872}. Best is trial 25 with value: 0.050471747547596715.\n"
     ]
    },
    {
     "name": "stdout",
     "output_type": "stream",
     "text": [
      "EvaluatorHoldout: Processed 10472 (100.0%) in 24.61 sec. Users per second: 425\n",
      "EvaluatorHoldout: Processed 10467 (100.0%) in 25.60 sec. Users per second: 409\n",
      "EvaluatorHoldout: Processed 10493 (100.0%) in 25.64 sec. Users per second: 409\n",
      "EvaluatorHoldout: Processed 10444 (100.0%) in 26.83 sec. Users per second: 389\n",
      "EvaluatorHoldout: Processed 10473 (100.0%) in 26.86 sec. Users per second: 390\n",
      "EvaluatorHoldout: Processed 10448 (100.0%) in 27.08 sec. Users per second: 386\n",
      "EvaluatorHoldout: Processed 10488 (100.0%) in 27.15 sec. Users per second: 386\n",
      "EvaluatorHoldout: Processed 10440 (100.0%) in 27.11 sec. Users per second: 385\n"
     ]
    },
    {
     "name": "stderr",
     "output_type": "stream",
     "text": [
      "[I 2024-01-08 15:15:20,000] Trial 27 finished with value: 0.0501544818780243 and parameters: {'alpha_0': 0.24081013748412766, 'alpha_1': 0.6682994532301887, 'alpha_2': 0.32218273382990625, 'alpha_3': 0.5163503110956232, 'alpha_4': 0.8200465727303015}. Best is trial 25 with value: 0.050471747547596715.\n"
     ]
    },
    {
     "name": "stdout",
     "output_type": "stream",
     "text": [
      "EvaluatorHoldout: Processed 10444 (100.0%) in 23.01 sec. Users per second: 454\n",
      "EvaluatorHoldout: Processed 10473 (100.0%) in 23.76 sec. Users per second: 441\n",
      "EvaluatorHoldout: Processed 10448 (100.0%) in 24.61 sec. Users per second: 424\n",
      "EvaluatorHoldout: Processed 10488 (100.0%) in 24.68 sec. Users per second: 425\n",
      "EvaluatorHoldout: Processed 10493 (100.0%) in 24.55 sec. Users per second: 427\n",
      "EvaluatorHoldout: Processed 10472 (100.0%) in 25.01 sec. Users per second: 419\n",
      "EvaluatorHoldout: Processed 10467 (100.0%) in 26.20 sec. Users per second: 399\n",
      "EvaluatorHoldout: Processed 10440 (100.0%) in 26.40 sec. Users per second: 395\n"
     ]
    },
    {
     "name": "stderr",
     "output_type": "stream",
     "text": [
      "[I 2024-01-08 15:15:47,249] Trial 28 finished with value: 0.050055284462962604 and parameters: {'alpha_0': 0.39400741277152246, 'alpha_1': 0.8492445147996666, 'alpha_2': 0.11706400608853773, 'alpha_3': 0.6886529300723487, 'alpha_4': 0.6691998871525385}. Best is trial 25 with value: 0.050471747547596715.\n"
     ]
    },
    {
     "name": "stdout",
     "output_type": "stream",
     "text": [
      "EvaluatorHoldout: Processed 10488 (100.0%) in 19.54 sec. Users per second: 537\n",
      "EvaluatorHoldout: Processed 10467 (100.0%) in 19.51 sec. Users per second: 536\n",
      "EvaluatorHoldout: Processed 10472 (100.0%) in 20.69 sec. Users per second: 506\n",
      "EvaluatorHoldout: Processed 10448 (100.0%) in 20.88 sec. Users per second: 500\n",
      "EvaluatorHoldout: Processed 10493 (100.0%) in 20.86 sec. Users per second: 503\n",
      "EvaluatorHoldout: Processed 10473 (100.0%) in 21.22 sec. Users per second: 494\n",
      "EvaluatorHoldout: Processed 10444 (100.0%) in 21.42 sec. Users per second: 488\n",
      "EvaluatorHoldout: Processed 10440 (100.0%) in 21.62 sec. Users per second: 483\n"
     ]
    },
    {
     "name": "stderr",
     "output_type": "stream",
     "text": [
      "[I 2024-01-08 15:16:09,931] Trial 29 finished with value: 0.04914640394637461 and parameters: {'alpha_0': 0.6555053820129167, 'alpha_1': 0.7451030769708626, 'alpha_2': 0.5053589198599964, 'alpha_3': 0.46065490966262856, 'alpha_4': 0.8323553159448787}. Best is trial 25 with value: 0.050471747547596715.\n"
     ]
    },
    {
     "name": "stdout",
     "output_type": "stream",
     "text": [
      "EvaluatorHoldout: Processed 10473 (100.0%) in 24.31 sec. Users per second: 431\n",
      "EvaluatorHoldout: Processed 10448 (100.0%) in 24.70 sec. Users per second: 423\n",
      "EvaluatorHoldout: Processed 10467 (100.0%) in 24.84 sec. Users per second: 421\n",
      "EvaluatorHoldout: Processed 10493 (100.0%) in 24.99 sec. Users per second: 420\n",
      "EvaluatorHoldout: Processed 10440 (100.0%) in 25.59 sec. Users per second: 408EvaluatorHoldout: Processed 10472 (100.0%) in 25.71 sec. Users per second: 407\n",
      "\n",
      "EvaluatorHoldout: Processed 10444 (100.0%) in 25.79 sec. Users per second: 405\n",
      "EvaluatorHoldout: Processed 10488 (100.0%) in 26.82 sec. Users per second: 391\n"
     ]
    },
    {
     "name": "stderr",
     "output_type": "stream",
     "text": [
      "[I 2024-01-08 15:16:37,455] Trial 30 finished with value: 0.04986151434111833 and parameters: {'alpha_0': 0.39792544164702914, 'alpha_1': 0.6257611051800125, 'alpha_2': 0.5074250531460472, 'alpha_3': 0.9991028933357526, 'alpha_4': 0.4429546843929473}. Best is trial 25 with value: 0.050471747547596715.\n"
     ]
    },
    {
     "name": "stdout",
     "output_type": "stream",
     "text": [
      "EvaluatorHoldout: Processed 10448 (100.0%) in 25.07 sec. Users per second: 417\n",
      "EvaluatorHoldout: Processed 10467 (100.0%) in 25.52 sec. Users per second: 410\n",
      "EvaluatorHoldout: Processed 10488 (100.0%) in 26.21 sec. Users per second: 400\n",
      "EvaluatorHoldout: Processed 10440 (100.0%) in 26.47 sec. Users per second: 394\n",
      "EvaluatorHoldout: Processed 10472 (100.0%) in 26.68 sec. Users per second: 393\n",
      "EvaluatorHoldout: Processed 10444 (100.0%) in 27.22 sec. Users per second: 384EvaluatorHoldout: Processed 10473 (100.0%) in 27.19 sec. Users per second: 385\n",
      "\n",
      "EvaluatorHoldout: Processed 10493 (100.0%) in 28.13 sec. Users per second: 373\n"
     ]
    },
    {
     "name": "stderr",
     "output_type": "stream",
     "text": [
      "[I 2024-01-08 15:17:06,622] Trial 31 finished with value: 0.05052429148963596 and parameters: {'alpha_0': 0.18488002350516158, 'alpha_1': 0.9167930681306791, 'alpha_2': 0.3888297478521662, 'alpha_3': 0.5766260156525443, 'alpha_4': 0.5488480044433075}. Best is trial 31 with value: 0.05052429148963596.\n"
     ]
    },
    {
     "name": "stdout",
     "output_type": "stream",
     "text": [
      "EvaluatorHoldout: Processed 10448 (100.0%) in 23.32 sec. Users per second: 448\n",
      "EvaluatorHoldout: Processed 10488 (100.0%) in 23.53 sec. Users per second: 446\n",
      "EvaluatorHoldout: Processed 10444 (100.0%) in 23.84 sec. Users per second: 438\n",
      "EvaluatorHoldout: Processed 10493 (100.0%) in 23.81 sec. Users per second: 441\n",
      "EvaluatorHoldout: Processed 10472 (100.0%) in 24.73 sec. Users per second: 423\n",
      "EvaluatorHoldout: Processed 10473 (100.0%) in 25.14 sec. Users per second: 417\n",
      "EvaluatorHoldout: Processed 10440 (100.0%) in 25.91 sec. Users per second: 403\n",
      "EvaluatorHoldout: Processed 10467 (100.0%) in 26.06 sec. Users per second: 402\n"
     ]
    },
    {
     "name": "stderr",
     "output_type": "stream",
     "text": [
      "[I 2024-01-08 15:17:33,781] Trial 32 finished with value: 0.05050348169047688 and parameters: {'alpha_0': 0.1579044189488115, 'alpha_1': 0.8733252222774692, 'alpha_2': 0.37921443924614834, 'alpha_3': 0.5768431534536749, 'alpha_4': 0.5986359796443723}. Best is trial 31 with value: 0.05052429148963596.\n"
     ]
    },
    {
     "name": "stdout",
     "output_type": "stream",
     "text": [
      "EvaluatorHoldout: Processed 10440 (100.0%) in 17.97 sec. Users per second: 581\n",
      "EvaluatorHoldout: Processed 10444 (100.0%) in 18.61 sec. Users per second: 561\n",
      "EvaluatorHoldout: Processed 10473 (100.0%) in 19.03 sec. Users per second: 550\n",
      "EvaluatorHoldout: Processed 10448 (100.0%) in 19.31 sec. Users per second: 541\n",
      "EvaluatorHoldout: Processed 10472 (100.0%) in 19.52 sec. Users per second: 536\n",
      "EvaluatorHoldout: Processed 10488 (100.0%) in 20.06 sec. Users per second: 523\n",
      "EvaluatorHoldout: Processed 10467 (100.0%) in 20.03 sec. Users per second: 523\n",
      "EvaluatorHoldout: Processed 10493 (100.0%) in 20.24 sec. Users per second: 519\n"
     ]
    },
    {
     "name": "stderr",
     "output_type": "stream",
     "text": [
      "[I 2024-01-08 15:17:54,883] Trial 33 finished with value: 0.05041509496904983 and parameters: {'alpha_0': 0.13031017351563312, 'alpha_1': 0.9051027123026903, 'alpha_2': 0.44693586851682526, 'alpha_3': 0.547659433508896, 'alpha_4': 0.6051817864085086}. Best is trial 31 with value: 0.05052429148963596.\n"
     ]
    },
    {
     "name": "stdout",
     "output_type": "stream",
     "text": [
      "EvaluatorHoldout: Processed 10467 (100.0%) in 24.11 sec. Users per second: 434\n",
      "EvaluatorHoldout: Processed 10488 (100.0%) in 24.32 sec. Users per second: 431\n",
      "EvaluatorHoldout: Processed 10444 (100.0%) in 24.98 sec. Users per second: 418\n",
      "EvaluatorHoldout: Processed 10493 (100.0%) in 25.25 sec. Users per second: 416\n",
      "EvaluatorHoldout: Processed 10440 (100.0%) in 25.32 sec. Users per second: 412\n",
      "EvaluatorHoldout: Processed 10473 (100.0%) in 25.99 sec. Users per second: 403\n",
      "EvaluatorHoldout: Processed 10472 (100.0%) in 26.14 sec. Users per second: 401\n",
      "EvaluatorHoldout: Processed 10448 (100.0%) in 27.07 sec. Users per second: 386\n"
     ]
    },
    {
     "name": "stderr",
     "output_type": "stream",
     "text": [
      "[I 2024-01-08 15:18:22,786] Trial 34 finished with value: 0.05040559281039795 and parameters: {'alpha_0': 0.1942503220899799, 'alpha_1': 0.8843762519888286, 'alpha_2': 0.36413060531872965, 'alpha_3': 0.40054183678016875, 'alpha_4': 0.5099767052933095}. Best is trial 31 with value: 0.05052429148963596.\n"
     ]
    },
    {
     "name": "stdout",
     "output_type": "stream",
     "text": [
      "EvaluatorHoldout: Processed 10472 (100.0%) in 22.80 sec. Users per second: 459\n",
      "EvaluatorHoldout: Processed 10493 (100.0%) in 23.52 sec. Users per second: 446\n",
      "EvaluatorHoldout: Processed 10467 (100.0%) in 23.58 sec. Users per second: 444\n",
      "EvaluatorHoldout: Processed 10444 (100.0%) in 24.17 sec. Users per second: 432\n",
      "EvaluatorHoldout: Processed 10440 (100.0%) in 24.75 sec. Users per second: 422\n",
      "EvaluatorHoldout: Processed 10448 (100.0%) in 25.47 sec. Users per second: 410\n",
      "EvaluatorHoldout: Processed 10488 (100.0%) in 25.69 sec. Users per second: 408\n",
      "EvaluatorHoldout: Processed 10473 (100.0%) in 26.47 sec. Users per second: 396\n"
     ]
    },
    {
     "name": "stderr",
     "output_type": "stream",
     "text": [
      "[I 2024-01-08 15:18:50,115] Trial 35 finished with value: 0.04840699748918577 and parameters: {'alpha_0': 0.9746466544705337, 'alpha_1': 0.7584225030744838, 'alpha_2': 0.20510217457063049, 'alpha_3': 0.7200184388201097, 'alpha_4': 0.37957906987397205}. Best is trial 31 with value: 0.05052429148963596.\n"
     ]
    },
    {
     "name": "stdout",
     "output_type": "stream",
     "text": [
      "EvaluatorHoldout: Processed 10472 (100.0%) in 23.49 sec. Users per second: 446\n",
      "EvaluatorHoldout: Processed 10448 (100.0%) in 23.73 sec. Users per second: 440\n",
      "EvaluatorHoldout: Processed 10440 (100.0%) in 23.82 sec. Users per second: 438\n",
      "EvaluatorHoldout: Processed 10493 (100.0%) in 24.35 sec. Users per second: 431\n",
      "EvaluatorHoldout: Processed 10488 (100.0%) in 25.12 sec. Users per second: 418\n",
      "EvaluatorHoldout: Processed 10473 (100.0%) in 25.23 sec. Users per second: 415\n",
      "EvaluatorHoldout: Processed 10467 (100.0%) in 25.22 sec. Users per second: 415\n",
      "EvaluatorHoldout: Processed 10444 (100.0%) in 25.39 sec. Users per second: 411\n"
     ]
    },
    {
     "name": "stderr",
     "output_type": "stream",
     "text": [
      "[I 2024-01-08 15:19:16,333] Trial 36 finished with value: 0.048836828049556684 and parameters: {'alpha_0': 0.4131074824209515, 'alpha_1': 0.413853690281035, 'alpha_2': 0.5887601216238856, 'alpha_3': 0.31340940674062784, 'alpha_4': 0.6030529281897282}. Best is trial 31 with value: 0.05052429148963596.\n"
     ]
    },
    {
     "name": "stdout",
     "output_type": "stream",
     "text": [
      "EvaluatorHoldout: Processed 10440 (100.0%) in 19.63 sec. Users per second: 532\n",
      "EvaluatorHoldout: Processed 10448 (100.0%) in 20.42 sec. Users per second: 512\n",
      "EvaluatorHoldout: Processed 10444 (100.0%) in 20.53 sec. Users per second: 509\n",
      "EvaluatorHoldout: Processed 10488 (100.0%) in 20.55 sec. Users per second: 510\n",
      "EvaluatorHoldout: Processed 10493 (100.0%) in 20.48 sec. Users per second: 512\n",
      "EvaluatorHoldout: Processed 10467 (100.0%) in 20.98 sec. Users per second: 499\n",
      "EvaluatorHoldout: Processed 10473 (100.0%) in 21.42 sec. Users per second: 489\n",
      "EvaluatorHoldout: Processed 10472 (100.0%) in 21.77 sec. Users per second: 481\n"
     ]
    },
    {
     "name": "stderr",
     "output_type": "stream",
     "text": [
      "[I 2024-01-08 15:19:38,633] Trial 37 finished with value: 0.05085814461141076 and parameters: {'alpha_0': 0.09244725326317993, 'alpha_1': 0.5842834665881365, 'alpha_2': 0.16542034925983135, 'alpha_3': 0.5662365749455973, 'alpha_4': 0.3010188256635106}. Best is trial 37 with value: 0.05085814461141076.\n"
     ]
    },
    {
     "name": "stdout",
     "output_type": "stream",
     "text": [
      "EvaluatorHoldout: Processed 10488 (100.0%) in 21.95 sec. Users per second: 478\n",
      "EvaluatorHoldout: Processed 10493 (100.0%) in 23.03 sec. Users per second: 456\n",
      "EvaluatorHoldout: Processed 10473 (100.0%) in 23.91 sec. Users per second: 438EvaluatorHoldout: Processed 10448 (100.0%) in 23.93 sec. Users per second: 437\n",
      "\n",
      "EvaluatorHoldout: Processed 10467 (100.0%) in 24.02 sec. Users per second: 436\n",
      "EvaluatorHoldout: Processed 10440 (100.0%) in 24.64 sec. Users per second: 424\n",
      "EvaluatorHoldout: Processed 10472 (100.0%) in 25.02 sec. Users per second: 419\n",
      "EvaluatorHoldout: Processed 10444 (100.0%) in 25.98 sec. Users per second: 402\n"
     ]
    },
    {
     "name": "stderr",
     "output_type": "stream",
     "text": [
      "[I 2024-01-08 15:20:05,147] Trial 38 finished with value: 0.05089066336077073 and parameters: {'alpha_0': 0.09482310169426142, 'alpha_1': 0.5765854080382666, 'alpha_2': 0.14383459432340784, 'alpha_3': 0.7891461178695548, 'alpha_4': 0.23831677916353133}. Best is trial 38 with value: 0.05089066336077073.\n"
     ]
    },
    {
     "name": "stdout",
     "output_type": "stream",
     "text": [
      "EvaluatorHoldout: Processed 10440 (100.0%) in 21.78 sec. Users per second: 479\n",
      "EvaluatorHoldout: Processed 10493 (100.0%) in 22.80 sec. Users per second: 460\n",
      "EvaluatorHoldout: Processed 10473 (100.0%) in 24.17 sec. Users per second: 433\n",
      "EvaluatorHoldout: Processed 10472 (100.0%) in 24.27 sec. Users per second: 431\n",
      "EvaluatorHoldout: Processed 10444 (100.0%) in 24.39 sec. Users per second: 428\n",
      "EvaluatorHoldout: Processed 10488 (100.0%) in 25.00 sec. Users per second: 420\n",
      "EvaluatorHoldout: Processed 10467 (100.0%) in 25.21 sec. Users per second: 415\n",
      "EvaluatorHoldout: Processed 10448 (100.0%) in 25.37 sec. Users per second: 412\n"
     ]
    },
    {
     "name": "stderr",
     "output_type": "stream",
     "text": [
      "[I 2024-01-08 15:20:31,157] Trial 39 finished with value: 0.050789201226182315 and parameters: {'alpha_0': 0.06884035241564439, 'alpha_1': 0.579616270335926, 'alpha_2': 0.015383281610820587, 'alpha_3': 0.7943705171792328, 'alpha_4': 0.25829225348992507}. Best is trial 38 with value: 0.05089066336077073.\n"
     ]
    },
    {
     "name": "stdout",
     "output_type": "stream",
     "text": [
      "EvaluatorHoldout: Processed 10448 (100.0%) in 23.60 sec. Users per second: 443\n",
      "EvaluatorHoldout: Processed 10488 (100.0%) in 24.46 sec. Users per second: 429EvaluatorHoldout: Processed 10440 (100.0%) in 24.39 sec. Users per second: 428\n",
      "\n",
      "EvaluatorHoldout: Processed 10472 (100.0%) in 24.77 sec. Users per second: 423\n",
      "EvaluatorHoldout: Processed 10493 (100.0%) in 24.79 sec. Users per second: 423\n",
      "EvaluatorHoldout: Processed 10467 (100.0%) in 25.47 sec. Users per second: 411EvaluatorHoldout: Processed 10444 (100.0%) in 25.73 sec. Users per second: 406\n",
      "\n",
      "EvaluatorHoldout: Processed 10473 (100.0%) in 26.17 sec. Users per second: 400\n"
     ]
    },
    {
     "name": "stderr",
     "output_type": "stream",
     "text": [
      "[I 2024-01-08 15:20:58,145] Trial 40 finished with value: 0.05047196216405242 and parameters: {'alpha_0': 0.000515341882589837, 'alpha_1': 0.4396437914887878, 'alpha_2': 0.0015096531735574181, 'alpha_3': 0.7866559374941783, 'alpha_4': 0.255886183781806}. Best is trial 38 with value: 0.05089066336077073.\n"
     ]
    },
    {
     "name": "stdout",
     "output_type": "stream",
     "text": [
      "EvaluatorHoldout: Processed 10440 (100.0%) in 21.25 sec. Users per second: 491\n",
      "EvaluatorHoldout: Processed 10448 (100.0%) in 21.92 sec. Users per second: 477\n",
      "EvaluatorHoldout: Processed 10473 (100.0%) in 22.08 sec. Users per second: 474\n",
      "EvaluatorHoldout: Processed 10488 (100.0%) in 22.12 sec. Users per second: 474\n",
      "EvaluatorHoldout: Processed 10467 (100.0%) in 22.12 sec. Users per second: 473\n",
      "EvaluatorHoldout: Processed 10472 (100.0%) in 22.53 sec. Users per second: 465\n",
      "EvaluatorHoldout: Processed 10444 (100.0%) in 22.91 sec. Users per second: 456\n",
      "EvaluatorHoldout: Processed 10493 (100.0%) in 23.11 sec. Users per second: 454\n"
     ]
    },
    {
     "name": "stderr",
     "output_type": "stream",
     "text": [
      "[I 2024-01-08 15:21:21,972] Trial 41 finished with value: 0.05087153248119476 and parameters: {'alpha_0': 0.08544314447776505, 'alpha_1': 0.5736597557482765, 'alpha_2': 0.11438177309110818, 'alpha_3': 0.93316515883205, 'alpha_4': 0.2469715306835794}. Best is trial 38 with value: 0.05089066336077073.\n"
     ]
    },
    {
     "name": "stdout",
     "output_type": "stream",
     "text": [
      "EvaluatorHoldout: Processed 10488 (100.0%) in 20.86 sec. Users per second: 503\n",
      "EvaluatorHoldout: Processed 10467 (100.0%) in 21.36 sec. Users per second: 490\n",
      "EvaluatorHoldout: Processed 10448 (100.0%) in 21.92 sec. Users per second: 477\n",
      "EvaluatorHoldout: Processed 10473 (100.0%) in 22.11 sec. Users per second: 474EvaluatorHoldout: Processed 10493 (100.0%) in 22.05 sec. Users per second: 476\n",
      "\n",
      "EvaluatorHoldout: Processed 10444 (100.0%) in 22.90 sec. Users per second: 456\n",
      "EvaluatorHoldout: Processed 10472 (100.0%) in 23.08 sec. Users per second: 454\n",
      "EvaluatorHoldout: Processed 10440 (100.0%) in 23.50 sec. Users per second: 444\n"
     ]
    },
    {
     "name": "stderr",
     "output_type": "stream",
     "text": [
      "[I 2024-01-08 15:21:46,148] Trial 42 finished with value: 0.050820432210498125 and parameters: {'alpha_0': 0.08683890939205377, 'alpha_1': 0.566342180464648, 'alpha_2': 0.08946009106367818, 'alpha_3': 0.9795327962847264, 'alpha_4': 0.26213009529520176}. Best is trial 38 with value: 0.05089066336077073.\n"
     ]
    },
    {
     "name": "stdout",
     "output_type": "stream",
     "text": [
      "EvaluatorHoldout: Processed 10488 (100.0%) in 24.06 sec. Users per second: 436\n",
      "EvaluatorHoldout: Processed 10473 (100.0%) in 24.41 sec. Users per second: 429\n",
      "EvaluatorHoldout: Processed 10440 (100.0%) in 24.63 sec. Users per second: 424\n",
      "EvaluatorHoldout: Processed 10493 (100.0%) in 24.81 sec. Users per second: 423\n",
      "EvaluatorHoldout: Processed 10448 (100.0%) in 25.28 sec. Users per second: 413\n",
      "EvaluatorHoldout: Processed 10472 (100.0%) in 25.51 sec. Users per second: 410\n",
      "EvaluatorHoldout: Processed 10467 (100.0%) in 25.44 sec. Users per second: 411\n",
      "EvaluatorHoldout: Processed 10444 (100.0%) in 25.67 sec. Users per second: 407\n"
     ]
    },
    {
     "name": "stderr",
     "output_type": "stream",
     "text": [
      "[I 2024-01-08 15:22:12,428] Trial 43 finished with value: 0.05085290187024709 and parameters: {'alpha_0': 0.11614864519113113, 'alpha_1': 0.5884795650043334, 'alpha_2': 0.12000573102376774, 'alpha_3': 0.9722879869507183, 'alpha_4': 0.19062871150041713}. Best is trial 38 with value: 0.05089066336077073.\n"
     ]
    },
    {
     "name": "stdout",
     "output_type": "stream",
     "text": [
      "EvaluatorHoldout: Processed 10440 (100.0%) in 22.74 sec. Users per second: 459\n",
      "EvaluatorHoldout: Processed 10473 (100.0%) in 23.96 sec. Users per second: 437\n",
      "EvaluatorHoldout: Processed 10472 (100.0%) in 24.93 sec. Users per second: 420\n",
      "EvaluatorHoldout: Processed 10448 (100.0%) in 25.19 sec. Users per second: 415\n",
      "EvaluatorHoldout: Processed 10444 (100.0%) in 25.73 sec. Users per second: 406\n",
      "EvaluatorHoldout: Processed 10488 (100.0%) in 26.04 sec. Users per second: 403\n",
      "EvaluatorHoldout: Processed 10493 (100.0%) in 26.01 sec. Users per second: 403\n",
      "EvaluatorHoldout: Processed 10467 (100.0%) in 26.54 sec. Users per second: 394\n"
     ]
    },
    {
     "name": "stderr",
     "output_type": "stream",
     "text": [
      "[I 2024-01-08 15:22:39,706] Trial 44 finished with value: 0.05090955199823789 and parameters: {'alpha_0': 0.11508798448033206, 'alpha_1': 0.6613104689812288, 'alpha_2': 0.15316500389083665, 'alpha_3': 0.9230633987904939, 'alpha_4': 0.18622482738508758}. Best is trial 44 with value: 0.05090955199823789.\n"
     ]
    },
    {
     "name": "stdout",
     "output_type": "stream",
     "text": [
      "EvaluatorHoldout: Processed 10444 (100.0%) in 22.42 sec. Users per second: 466\n",
      "EvaluatorHoldout: Processed 10472 (100.0%) in 22.56 sec. Users per second: 464\n",
      "EvaluatorHoldout: Processed 10488 (100.0%) in 22.97 sec. Users per second: 457\n",
      "EvaluatorHoldout: Processed 10448 (100.0%) in 23.18 sec. Users per second: 451\n",
      "EvaluatorHoldout: Processed 10467 (100.0%) in 23.27 sec. Users per second: 450\n",
      "EvaluatorHoldout: Processed 10493 (100.0%) in 23.50 sec. Users per second: 447\n",
      "EvaluatorHoldout: Processed 10473 (100.0%) in 24.58 sec. Users per second: 426\n",
      "EvaluatorHoldout: Processed 10440 (100.0%) in 24.80 sec. Users per second: 421\n"
     ]
    },
    {
     "name": "stderr",
     "output_type": "stream",
     "text": [
      "[I 2024-01-08 15:23:05,301] Trial 45 finished with value: 0.05081722268762477 and parameters: {'alpha_0': 0.03795043293601824, 'alpha_1': 0.6702636860117478, 'alpha_2': 0.17940653249260222, 'alpha_3': 0.9218491355289613, 'alpha_4': 0.00832892923951764}. Best is trial 44 with value: 0.05090955199823789.\n"
     ]
    },
    {
     "name": "stdout",
     "output_type": "stream",
     "text": [
      "EvaluatorHoldout: Processed 10467 (100.0%) in 19.98 sec. Users per second: 524\n",
      "EvaluatorHoldout: Processed 10472 (100.0%) in 20.09 sec. Users per second: 521\n",
      "EvaluatorHoldout: Processed 10473 (100.0%) in 20.61 sec. Users per second: 508\n",
      "EvaluatorHoldout: Processed 10488 (100.0%) in 21.05 sec. Users per second: 498\n",
      "EvaluatorHoldout: Processed 10448 (100.0%) in 21.71 sec. Users per second: 481\n",
      "EvaluatorHoldout: Processed 10440 (100.0%) in 21.70 sec. Users per second: 481\n",
      "EvaluatorHoldout: Processed 10493 (100.0%) in 21.98 sec. Users per second: 477\n",
      "EvaluatorHoldout: Processed 10444 (100.0%) in 22.58 sec. Users per second: 463\n"
     ]
    },
    {
     "name": "stderr",
     "output_type": "stream",
     "text": [
      "[I 2024-01-08 15:23:28,444] Trial 46 finished with value: 0.05040913625887715 and parameters: {'alpha_0': 0.11851508970327941, 'alpha_1': 0.2669104783851497, 'alpha_2': 0.14146508371747454, 'alpha_3': 0.8371188809267371, 'alpha_4': 0.14799185076289417}. Best is trial 44 with value: 0.05090955199823789.\n"
     ]
    },
    {
     "name": "stdout",
     "output_type": "stream",
     "text": [
      "EvaluatorHoldout: Processed 10488 (100.0%) in 21.08 sec. Users per second: 497\n",
      "EvaluatorHoldout: Processed 10440 (100.0%) in 23.02 sec. Users per second: 453\n",
      "EvaluatorHoldout: Processed 10467 (100.0%) in 24.11 sec. Users per second: 434\n",
      "EvaluatorHoldout: Processed 10493 (100.0%) in 24.49 sec. Users per second: 428\n",
      "EvaluatorHoldout: Processed 10472 (100.0%) in 24.88 sec. Users per second: 421\n",
      "EvaluatorHoldout: Processed 10473 (100.0%) in 25.23 sec. Users per second: 415\n",
      "EvaluatorHoldout: Processed 10444 (100.0%) in 25.88 sec. Users per second: 404\n",
      "EvaluatorHoldout: Processed 10448 (100.0%) in 26.39 sec. Users per second: 396\n"
     ]
    },
    {
     "name": "stderr",
     "output_type": "stream",
     "text": [
      "[I 2024-01-08 15:23:55,663] Trial 47 finished with value: 0.050299726503860186 and parameters: {'alpha_0': 0.23719977064142694, 'alpha_1': 0.46099865912873716, 'alpha_2': 0.0647799191192644, 'alpha_3': 0.9173207423698901, 'alpha_4': 0.3434299553474806}. Best is trial 44 with value: 0.05090955199823789.\n"
     ]
    },
    {
     "name": "stdout",
     "output_type": "stream",
     "text": [
      "EvaluatorHoldout: Processed 10488 (100.0%) in 22.29 sec. Users per second: 471\n",
      "EvaluatorHoldout: Processed 10444 (100.0%) in 22.84 sec. Users per second: 457\n",
      "EvaluatorHoldout: Processed 10448 (100.0%) in 23.97 sec. Users per second: 436\n",
      "EvaluatorHoldout: Processed 10493 (100.0%) in 23.95 sec. Users per second: 438\n",
      "EvaluatorHoldout: Processed 10467 (100.0%) in 24.15 sec. Users per second: 433\n",
      "EvaluatorHoldout: Processed 10472 (100.0%) in 24.34 sec. Users per second: 430\n",
      "EvaluatorHoldout: Processed 10440 (100.0%) in 25.11 sec. Users per second: 416\n",
      "EvaluatorHoldout: Processed 10473 (100.0%) in 25.48 sec. Users per second: 411\n"
     ]
    },
    {
     "name": "stderr",
     "output_type": "stream",
     "text": [
      "[I 2024-01-08 15:24:22,106] Trial 48 finished with value: 0.04929744593749448 and parameters: {'alpha_0': 0.06659594974616123, 'alpha_1': 0.000962889846529702, 'alpha_2': 0.25695784079202894, 'alpha_3': 0.881263390095276, 'alpha_4': 0.13460237769461375}. Best is trial 44 with value: 0.05090955199823789.\n"
     ]
    },
    {
     "name": "stdout",
     "output_type": "stream",
     "text": [
      "EvaluatorHoldout: Processed 10472 (100.0%) in 22.66 sec. Users per second: 462\n",
      "EvaluatorHoldout: Processed 10444 (100.0%) in 23.98 sec. Users per second: 435\n",
      "EvaluatorHoldout: Processed 10488 (100.0%) in 24.21 sec. Users per second: 433\n",
      "EvaluatorHoldout: Processed 10448 (100.0%) in 24.71 sec. Users per second: 423\n",
      "EvaluatorHoldout: Processed 10440 (100.0%) in 24.69 sec. Users per second: 423\n",
      "EvaluatorHoldout: Processed 10467 (100.0%) in 24.71 sec. Users per second: 424\n",
      "EvaluatorHoldout: Processed 10493 (100.0%) in 24.80 sec. Users per second: 423\n",
      "EvaluatorHoldout: Processed 10473 (100.0%) in 24.90 sec. Users per second: 421\n"
     ]
    },
    {
     "name": "stderr",
     "output_type": "stream",
     "text": [
      "[I 2024-01-08 15:24:47,516] Trial 49 finished with value: 0.04959918498664369 and parameters: {'alpha_0': 0.4883077904247364, 'alpha_1': 0.6589673747066391, 'alpha_2': 0.15442713907702527, 'alpha_3': 0.822595542850577, 'alpha_4': 0.1963109063293827}. Best is trial 44 with value: 0.05090955199823789.\n"
     ]
    },
    {
     "name": "stdout",
     "output_type": "stream",
     "text": [
      "EvaluatorHoldout: Processed 10473 (100.0%) in 18.23 sec. Users per second: 574\n",
      "EvaluatorHoldout: Processed 10472 (100.0%) in 18.93 sec. Users per second: 553\n",
      "EvaluatorHoldout: Processed 10467 (100.0%) in 18.95 sec. Users per second: 552\n",
      "EvaluatorHoldout: Processed 10444 (100.0%) in 19.35 sec. Users per second: 540\n",
      "EvaluatorHoldout: Processed 10488 (100.0%) in 19.67 sec. Users per second: 533\n",
      "EvaluatorHoldout: Processed 10448 (100.0%) in 19.86 sec. Users per second: 526\n",
      "EvaluatorHoldout: Processed 10440 (100.0%) in 20.07 sec. Users per second: 520\n",
      "EvaluatorHoldout: Processed 10493 (100.0%) in 20.54 sec. Users per second: 511\n"
     ]
    },
    {
     "name": "stderr",
     "output_type": "stream",
     "text": [
      "[I 2024-01-08 15:25:08,742] Trial 50 finished with value: 0.049844367588611785 and parameters: {'alpha_0': 0.33052894448086967, 'alpha_1': 0.4806466007680463, 'alpha_2': 0.06206188689844184, 'alpha_3': 0.7439719939790204, 'alpha_4': 0.3226005841068323}. Best is trial 44 with value: 0.05090955199823789.\n"
     ]
    },
    {
     "name": "stdout",
     "output_type": "stream",
     "text": [
      "EvaluatorHoldout: Processed 10472 (100.0%) in 23.68 sec. Users per second: 442\n",
      "EvaluatorHoldout: Processed 10467 (100.0%) in 23.59 sec. Users per second: 444\n",
      "EvaluatorHoldout: Processed 10444 (100.0%) in 24.43 sec. Users per second: 427\n",
      "EvaluatorHoldout: Processed 10493 (100.0%) in 25.24 sec. Users per second: 416\n",
      "EvaluatorHoldout: Processed 10473 (100.0%) in 25.42 sec. Users per second: 412\n",
      "EvaluatorHoldout: Processed 10440 (100.0%) in 25.81 sec. Users per second: 405\n",
      "EvaluatorHoldout: Processed 10488 (100.0%) in 27.19 sec. Users per second: 386\n",
      "EvaluatorHoldout: Processed 10448 (100.0%) in 27.46 sec. Users per second: 380\n"
     ]
    },
    {
     "name": "stderr",
     "output_type": "stream",
     "text": [
      "[I 2024-01-08 15:25:36,954] Trial 51 finished with value: 0.05081458182001095 and parameters: {'alpha_0': 0.1245588756947014, 'alpha_1': 0.5904330027996745, 'alpha_2': 0.15321509715727932, 'alpha_3': 0.9595954360078464, 'alpha_4': 0.19628515527576362}. Best is trial 44 with value: 0.05090955199823789.\n"
     ]
    },
    {
     "name": "stdout",
     "output_type": "stream",
     "text": [
      "EvaluatorHoldout: Processed 10467 (100.0%) in 22.19 sec. Users per second: 472\n",
      "EvaluatorHoldout: Processed 10448 (100.0%) in 22.69 sec. Users per second: 460\n",
      "EvaluatorHoldout: Processed 10488 (100.0%) in 22.73 sec. Users per second: 461\n",
      "EvaluatorHoldout: Processed 10472 (100.0%) in 23.74 sec. Users per second: 441\n",
      "EvaluatorHoldout: Processed 10440 (100.0%) in 24.12 sec. Users per second: 433\n",
      "EvaluatorHoldout: Processed 10473 (100.0%) in 24.74 sec. Users per second: 423\n",
      "EvaluatorHoldout: Processed 10444 (100.0%) in 24.92 sec. Users per second: 419\n",
      "EvaluatorHoldout: Processed 10493 (100.0%) in 25.01 sec. Users per second: 420\n"
     ]
    },
    {
     "name": "stderr",
     "output_type": "stream",
     "text": [
      "[I 2024-01-08 15:26:02,917] Trial 52 finished with value: 0.05058504758609058 and parameters: {'alpha_0': 0.10551263404735835, 'alpha_1': 0.5285616599439498, 'alpha_2': 0.2567188279600162, 'alpha_3': 0.9365020614923766, 'alpha_4': 0.08895730038828978}. Best is trial 44 with value: 0.05090955199823789.\n"
     ]
    },
    {
     "name": "stdout",
     "output_type": "stream",
     "text": [
      "EvaluatorHoldout: Processed 10488 (100.0%) in 22.76 sec. Users per second: 461\n",
      "EvaluatorHoldout: Processed 10440 (100.0%) in 23.05 sec. Users per second: 453\n",
      "EvaluatorHoldout: Processed 10473 (100.0%) in 23.69 sec. Users per second: 442\n",
      "EvaluatorHoldout: Processed 10493 (100.0%) in 23.70 sec. Users per second: 443\n",
      "EvaluatorHoldout: Processed 10444 (100.0%) in 23.92 sec. Users per second: 437\n",
      "EvaluatorHoldout: Processed 10448 (100.0%) in 24.65 sec. Users per second: 424\n",
      "EvaluatorHoldout: Processed 10472 (100.0%) in 25.15 sec. Users per second: 416\n",
      "EvaluatorHoldout: Processed 10467 (100.0%) in 25.48 sec. Users per second: 411\n"
     ]
    },
    {
     "name": "stderr",
     "output_type": "stream",
     "text": [
      "[I 2024-01-08 15:26:29,398] Trial 53 finished with value: 0.05082546280341537 and parameters: {'alpha_0': 0.0007348090438122346, 'alpha_1': 0.6923674471118032, 'alpha_2': 0.06097136321672168, 'alpha_3': 0.8631829841826403, 'alpha_4': 0.1986351426666559}. Best is trial 44 with value: 0.05090955199823789.\n"
     ]
    },
    {
     "name": "stdout",
     "output_type": "stream",
     "text": [
      "EvaluatorHoldout: Processed 10472 (100.0%) in 17.86 sec. Users per second: 586\n",
      "EvaluatorHoldout: Processed 10493 (100.0%) in 18.07 sec. Users per second: 581\n",
      "EvaluatorHoldout: Processed 10473 (100.0%) in 18.61 sec. Users per second: 563\n",
      "EvaluatorHoldout: Processed 10448 (100.0%) in 19.31 sec. Users per second: 541\n",
      "EvaluatorHoldout: Processed 10467 (100.0%) in 19.46 sec. Users per second: 538\n",
      "EvaluatorHoldout: Processed 10440 (100.0%) in 20.20 sec. Users per second: 517EvaluatorHoldout: Processed 10488 (100.0%) in 20.31 sec. Users per second: 516\n",
      "\n",
      "EvaluatorHoldout: Processed 10444 (100.0%) in 21.29 sec. Users per second: 491\n"
     ]
    },
    {
     "name": "stderr",
     "output_type": "stream",
     "text": [
      "[I 2024-01-08 15:26:51,389] Trial 54 finished with value: 0.05067773680543812 and parameters: {'alpha_0': 0.15323049289291754, 'alpha_1': 0.6071904285052652, 'alpha_2': 0.19837080584642033, 'alpha_3': 0.9589310097132117, 'alpha_4': 0.4148608382642457}. Best is trial 44 with value: 0.05090955199823789.\n"
     ]
    },
    {
     "name": "stdout",
     "output_type": "stream",
     "text": [
      "EvaluatorHoldout: Processed 10493 (100.0%) in 21.84 sec. Users per second: 480\n",
      "EvaluatorHoldout: Processed 10473 (100.0%) in 23.64 sec. Users per second: 443\n",
      "EvaluatorHoldout: Processed 10488 (100.0%) in 23.72 sec. Users per second: 442\n",
      "EvaluatorHoldout: Processed 10444 (100.0%) in 23.96 sec. Users per second: 436\n",
      "EvaluatorHoldout: Processed 10440 (100.0%) in 24.32 sec. Users per second: 429\n",
      "EvaluatorHoldout: Processed 10467 (100.0%) in 24.51 sec. Users per second: 427\n",
      "EvaluatorHoldout: Processed 10448 (100.0%) in 25.83 sec. Users per second: 404\n",
      "EvaluatorHoldout: Processed 10472 (100.0%) in 26.03 sec. Users per second: 402\n"
     ]
    },
    {
     "name": "stderr",
     "output_type": "stream",
     "text": [
      "[I 2024-01-08 15:27:17,984] Trial 55 finished with value: 0.050627630134270685 and parameters: {'alpha_0': 0.04462214734357786, 'alpha_1': 0.3810207519514899, 'alpha_2': 0.127581853020227, 'alpha_3': 0.8936107422281552, 'alpha_4': 0.31978989107061057}. Best is trial 44 with value: 0.05090955199823789.\n"
     ]
    },
    {
     "name": "stdout",
     "output_type": "stream",
     "text": [
      "EvaluatorHoldout: Processed 10472 (100.0%) in 23.81 sec. Users per second: 440\n",
      "EvaluatorHoldout: Processed 10440 (100.0%) in 23.73 sec. Users per second: 440\n",
      "EvaluatorHoldout: Processed 10488 (100.0%) in 24.63 sec. Users per second: 426\n",
      "EvaluatorHoldout: Processed 10473 (100.0%) in 24.76 sec. Users per second: 423\n",
      "EvaluatorHoldout: Processed 10448 (100.0%) in 25.56 sec. Users per second: 409EvaluatorHoldout: Processed 10493 (100.0%) in 25.42 sec. Users per second: 413\n",
      "\n",
      "EvaluatorHoldout: Processed 10467 (100.0%) in 25.56 sec. Users per second: 409\n",
      "EvaluatorHoldout: Processed 10444 (100.0%) in 26.65 sec. Users per second: 392\n"
     ]
    },
    {
     "name": "stderr",
     "output_type": "stream",
     "text": [
      "[I 2024-01-08 15:27:45,363] Trial 56 finished with value: 0.05010724427617775 and parameters: {'alpha_0': 0.26726424118799863, 'alpha_1': 0.5402883711345895, 'alpha_2': 0.25987530477924237, 'alpha_3': 0.6642447143450905, 'alpha_4': 0.052324620356725166}. Best is trial 44 with value: 0.05090955199823789.\n"
     ]
    },
    {
     "name": "stdout",
     "output_type": "stream",
     "text": [
      "EvaluatorHoldout: Processed 10467 (100.0%) in 23.44 sec. Users per second: 447\n",
      "EvaluatorHoldout: Processed 10488 (100.0%) in 24.08 sec. Users per second: 436\n",
      "EvaluatorHoldout: Processed 10493 (100.0%) in 24.04 sec. Users per second: 437\n",
      "EvaluatorHoldout: Processed 10472 (100.0%) in 24.54 sec. Users per second: 427\n",
      "EvaluatorHoldout: Processed 10448 (100.0%) in 24.66 sec. Users per second: 424EvaluatorHoldout: Processed 10444 (100.0%) in 24.65 sec. Users per second: 424\n",
      "\n",
      "EvaluatorHoldout: Processed 10440 (100.0%) in 24.75 sec. Users per second: 422\n",
      "EvaluatorHoldout: Processed 10473 (100.0%) in 26.64 sec. Users per second: 393\n"
     ]
    },
    {
     "name": "stderr",
     "output_type": "stream",
     "text": [
      "[I 2024-01-08 15:28:12,982] Trial 57 finished with value: 0.04865354834714793 and parameters: {'alpha_0': 0.22349195371520172, 'alpha_1': 0.7336429064833859, 'alpha_2': 0.9974285704228529, 'alpha_3': 0.7567657706131677, 'alpha_4': 0.2881005826437594}. Best is trial 44 with value: 0.05090955199823789.\n"
     ]
    },
    {
     "name": "stdout",
     "output_type": "stream",
     "text": [
      "EvaluatorHoldout: Processed 10493 (100.0%) in 17.55 sec. Users per second: 598\n",
      "EvaluatorHoldout: Processed 10472 (100.0%) in 18.13 sec. Users per second: 578\n",
      "EvaluatorHoldout: Processed 10488 (100.0%) in 18.44 sec. Users per second: 569EvaluatorHoldout: Processed 10440 (100.0%) in 18.36 sec. Users per second: 569\n",
      "\n",
      "EvaluatorHoldout: Processed 10467 (100.0%) in 18.42 sec. Users per second: 568\n",
      "EvaluatorHoldout: Processed 10473 (100.0%) in 18.59 sec. Users per second: 563\n",
      "EvaluatorHoldout: Processed 10444 (100.0%) in 19.10 sec. Users per second: 547\n",
      "EvaluatorHoldout: Processed 10448 (100.0%) in 19.60 sec. Users per second: 533\n"
     ]
    },
    {
     "name": "stderr",
     "output_type": "stream",
     "text": [
      "[I 2024-01-08 15:28:33,271] Trial 58 finished with value: 0.05017663591444675 and parameters: {'alpha_0': 0.3185087681312547, 'alpha_1': 0.6351388230366765, 'alpha_2': 0.07959238294794674, 'alpha_3': 0.8242883624002867, 'alpha_4': 0.12159274453717614}. Best is trial 44 with value: 0.05090955199823789.\n"
     ]
    },
    {
     "name": "stdout",
     "output_type": "stream",
     "text": [
      "EvaluatorHoldout: Processed 10467 (100.0%) in 23.90 sec. Users per second: 438\n",
      "EvaluatorHoldout: Processed 10440 (100.0%) in 23.94 sec. Users per second: 436\n",
      "EvaluatorHoldout: Processed 10473 (100.0%) in 24.75 sec. Users per second: 423\n",
      "EvaluatorHoldout: Processed 10488 (100.0%) in 25.04 sec. Users per second: 419\n",
      "EvaluatorHoldout: Processed 10472 (100.0%) in 25.17 sec. Users per second: 416\n",
      "EvaluatorHoldout: Processed 10444 (100.0%) in 25.79 sec. Users per second: 405\n",
      "EvaluatorHoldout: Processed 10448 (100.0%) in 26.12 sec. Users per second: 400\n",
      "EvaluatorHoldout: Processed 10493 (100.0%) in 26.20 sec. Users per second: 401\n"
     ]
    },
    {
     "name": "stderr",
     "output_type": "stream",
     "text": [
      "[I 2024-01-08 15:29:00,493] Trial 59 finished with value: 0.05074722611029411 and parameters: {'alpha_0': 0.04136764395641279, 'alpha_1': 0.5078182980756573, 'alpha_2': 0.17451069619140958, 'alpha_3': 0.8809601858118375, 'alpha_4': 0.21509579552542232}. Best is trial 44 with value: 0.05090955199823789.\n"
     ]
    },
    {
     "name": "stdout",
     "output_type": "stream",
     "text": [
      "EvaluatorHoldout: Processed 10448 (100.0%) in 22.93 sec. Users per second: 456\n",
      "EvaluatorHoldout: Processed 10444 (100.0%) in 22.97 sec. Users per second: 455\n",
      "EvaluatorHoldout: Processed 10473 (100.0%) in 23.32 sec. Users per second: 449\n",
      "EvaluatorHoldout: Processed 10440 (100.0%) in 23.17 sec. Users per second: 451\n",
      "EvaluatorHoldout: Processed 10472 (100.0%) in 23.57 sec. Users per second: 444\n",
      "EvaluatorHoldout: Processed 10467 (100.0%) in 23.46 sec. Users per second: 446\n",
      "EvaluatorHoldout: Processed 10488 (100.0%) in 24.63 sec. Users per second: 426\n",
      "EvaluatorHoldout: Processed 10493 (100.0%) in 26.47 sec. Users per second: 396\n"
     ]
    },
    {
     "name": "stderr",
     "output_type": "stream",
     "text": [
      "[I 2024-01-08 15:29:27,952] Trial 60 finished with value: 0.0508349543649951 and parameters: {'alpha_0': 0.09226983059247726, 'alpha_1': 0.7834676711492459, 'alpha_2': 0.04049035338447046, 'alpha_3': 0.9202349130117237, 'alpha_4': 0.37868967567594725}. Best is trial 44 with value: 0.05090955199823789.\n"
     ]
    },
    {
     "name": "stdout",
     "output_type": "stream",
     "text": [
      "EvaluatorHoldout: Processed 10472 (100.0%) in 23.53 sec. Users per second: 445\n",
      "EvaluatorHoldout: Processed 10473 (100.0%) in 23.54 sec. Users per second: 445\n",
      "EvaluatorHoldout: Processed 10448 (100.0%) in 23.67 sec. Users per second: 441\n",
      "EvaluatorHoldout: Processed 10467 (100.0%) in 23.71 sec. Users per second: 442\n",
      "EvaluatorHoldout: Processed 10444 (100.0%) in 24.31 sec. Users per second: 430\n",
      "EvaluatorHoldout: Processed 10488 (100.0%) in 24.53 sec. Users per second: 428\n",
      "EvaluatorHoldout: Processed 10493 (100.0%) in 24.53 sec. Users per second: 428\n",
      "EvaluatorHoldout: Processed 10440 (100.0%) in 24.95 sec. Users per second: 418\n"
     ]
    },
    {
     "name": "stderr",
     "output_type": "stream",
     "text": [
      "[I 2024-01-08 15:29:53,665] Trial 61 finished with value: 0.050892436341080566 and parameters: {'alpha_0': 0.09904090409918093, 'alpha_1': 0.8047960034923907, 'alpha_2': 0.10804119203632087, 'alpha_3': 0.9878753925018915, 'alpha_4': 0.3773731275074523}. Best is trial 44 with value: 0.05090955199823789.\n"
     ]
    },
    {
     "name": "stdout",
     "output_type": "stream",
     "text": [
      "EvaluatorHoldout: Processed 10493 (100.0%) in 19.06 sec. Users per second: 550\n",
      "EvaluatorHoldout: Processed 10444 (100.0%) in 19.80 sec. Users per second: 527\n",
      "EvaluatorHoldout: Processed 10440 (100.0%) in 20.25 sec. Users per second: 516EvaluatorHoldout: Processed 10448 (100.0%) in 20.50 sec. Users per second: 510\n",
      "\n",
      "EvaluatorHoldout: Processed 10472 (100.0%) in 21.01 sec. Users per second: 498\n",
      "EvaluatorHoldout: Processed 10467 (100.0%) in 21.02 sec. Users per second: 498\n",
      "EvaluatorHoldout: Processed 10488 (100.0%) in 21.61 sec. Users per second: 485\n",
      "EvaluatorHoldout: Processed 10473 (100.0%) in 22.18 sec. Users per second: 472\n"
     ]
    },
    {
     "name": "stderr",
     "output_type": "stream",
     "text": [
      "[I 2024-01-08 15:30:16,396] Trial 62 finished with value: 0.050690632927631755 and parameters: {'alpha_0': 0.1530930802140482, 'alpha_1': 0.6904665724325338, 'alpha_2': 0.10952341934645396, 'alpha_3': 0.984167999444956, 'alpha_4': 0.4661141521377533}. Best is trial 44 with value: 0.05090955199823789.\n"
     ]
    },
    {
     "name": "stdout",
     "output_type": "stream",
     "text": [
      "EvaluatorHoldout: Processed 10467 (100.0%) in 23.03 sec. Users per second: 455\n",
      "EvaluatorHoldout: Processed 10440 (100.0%) in 23.24 sec. Users per second: 449\n",
      "EvaluatorHoldout: Processed 10488 (100.0%) in 23.54 sec. Users per second: 446\n",
      "EvaluatorHoldout: Processed 10493 (100.0%) in 24.62 sec. Users per second: 426\n",
      "EvaluatorHoldout: Processed 10444 (100.0%) in 25.12 sec. Users per second: 416\n",
      "EvaluatorHoldout: Processed 10472 (100.0%) in 25.14 sec. Users per second: 417\n",
      "EvaluatorHoldout: Processed 10473 (100.0%) in 25.71 sec. Users per second: 407EvaluatorHoldout: Processed 10448 (100.0%) in 25.72 sec. Users per second: 406\n",
      "\n"
     ]
    },
    {
     "name": "stderr",
     "output_type": "stream",
     "text": [
      "[I 2024-01-08 15:30:42,892] Trial 63 finished with value: 0.050811377441472794 and parameters: {'alpha_0': 0.0921296425136055, 'alpha_1': 0.5543861981025253, 'alpha_2': 0.12054014286273321, 'alpha_3': 0.9393790951107951, 'alpha_4': 0.29905193859754275}. Best is trial 44 with value: 0.05090955199823789.\n"
     ]
    },
    {
     "name": "stdout",
     "output_type": "stream",
     "text": [
      "EvaluatorHoldout: Processed 10467 (100.0%) in 24.20 sec. Users per second: 433\n",
      "EvaluatorHoldout: Processed 10444 (100.0%) in 24.47 sec. Users per second: 427\n",
      "EvaluatorHoldout: Processed 10440 (100.0%) in 24.46 sec. Users per second: 427\n",
      "EvaluatorHoldout: Processed 10493 (100.0%) in 25.63 sec. Users per second: 409\n",
      "EvaluatorHoldout: Processed 10473 (100.0%) in 25.80 sec. Users per second: 406\n",
      "EvaluatorHoldout: Processed 10448 (100.0%) in 26.56 sec. Users per second: 393\n",
      "EvaluatorHoldout: Processed 10488 (100.0%) in 26.78 sec. Users per second: 392\n",
      "EvaluatorHoldout: Processed 10472 (100.0%) in 28.01 sec. Users per second: 374\n"
     ]
    },
    {
     "name": "stderr",
     "output_type": "stream",
     "text": [
      "[I 2024-01-08 15:31:11,682] Trial 64 finished with value: 0.05054023008391807 and parameters: {'alpha_0': 0.2056311859754024, 'alpha_1': 0.6405596023319032, 'alpha_2': 0.23743115286543026, 'alpha_3': 0.8031088557520604, 'alpha_4': 0.1673934521909451}. Best is trial 44 with value: 0.05090955199823789.\n"
     ]
    },
    {
     "name": "stdout",
     "output_type": "stream",
     "text": [
      "EvaluatorHoldout: Processed 10440 (100.0%) in 20.54 sec. Users per second: 508\n",
      "EvaluatorHoldout: Processed 10448 (100.0%) in 21.35 sec. Users per second: 489\n",
      "EvaluatorHoldout: Processed 10467 (100.0%) in 21.82 sec. Users per second: 480\n",
      "EvaluatorHoldout: Processed 10472 (100.0%) in 22.70 sec. Users per second: 461\n",
      "EvaluatorHoldout: Processed 10488 (100.0%) in 22.73 sec. Users per second: 461\n",
      "EvaluatorHoldout: Processed 10444 (100.0%) in 22.78 sec. Users per second: 458\n",
      "EvaluatorHoldout: Processed 10473 (100.0%) in 22.81 sec. Users per second: 459\n",
      "EvaluatorHoldout: Processed 10493 (100.0%) in 23.12 sec. Users per second: 454\n"
     ]
    },
    {
     "name": "stderr",
     "output_type": "stream",
     "text": [
      "[I 2024-01-08 15:31:35,441] Trial 65 finished with value: 0.049619100932271475 and parameters: {'alpha_0': 0.5557011742095579, 'alpha_1': 0.705544682877308, 'alpha_2': 0.2901166475380037, 'alpha_3': 0.8591292376410407, 'alpha_4': 0.3509810405838921}. Best is trial 44 with value: 0.05090955199823789.\n"
     ]
    },
    {
     "name": "stdout",
     "output_type": "stream",
     "text": [
      "EvaluatorHoldout: Processed 10488 (100.0%) in 20.73 sec. Users per second: 506\n",
      "EvaluatorHoldout: Processed 10493 (100.0%) in 20.70 sec. Users per second: 507\n",
      "EvaluatorHoldout: Processed 10473 (100.0%) in 21.38 sec. Users per second: 490\n",
      "EvaluatorHoldout: Processed 10444 (100.0%) in 21.43 sec. Users per second: 487\n",
      "EvaluatorHoldout: Processed 10448 (100.0%) in 21.73 sec. Users per second: 481\n",
      "EvaluatorHoldout: Processed 10467 (100.0%) in 21.84 sec. Users per second: 479\n",
      "EvaluatorHoldout: Processed 10472 (100.0%) in 22.01 sec. Users per second: 476\n",
      "EvaluatorHoldout: Processed 10440 (100.0%) in 21.91 sec. Users per second: 476\n"
     ]
    },
    {
     "name": "stderr",
     "output_type": "stream",
     "text": [
      "[I 2024-01-08 15:31:58,056] Trial 66 finished with value: 0.04865321983811859 and parameters: {'alpha_0': 0.04431659933840203, 'alpha_1': 0.6044427251249691, 'alpha_2': 0.8121013153261964, 'alpha_3': 0.9932074792534227, 'alpha_4': 0.2273675318617597}. Best is trial 44 with value: 0.05090955199823789.\n"
     ]
    },
    {
     "name": "stdout",
     "output_type": "stream",
     "text": [
      "EvaluatorHoldout: Processed 10488 (100.0%) in 22.55 sec. Users per second: 465\n",
      "EvaluatorHoldout: Processed 10444 (100.0%) in 23.92 sec. Users per second: 437\n",
      "EvaluatorHoldout: Processed 10472 (100.0%) in 24.37 sec. Users per second: 430\n",
      "EvaluatorHoldout: Processed 10467 (100.0%) in 24.48 sec. Users per second: 428\n",
      "EvaluatorHoldout: Processed 10473 (100.0%) in 24.98 sec. Users per second: 419\n",
      "EvaluatorHoldout: Processed 10493 (100.0%) in 25.23 sec. Users per second: 416\n",
      "EvaluatorHoldout: Processed 10440 (100.0%) in 25.65 sec. Users per second: 407\n",
      "EvaluatorHoldout: Processed 10448 (100.0%) in 25.76 sec. Users per second: 406\n"
     ]
    },
    {
     "name": "stderr",
     "output_type": "stream",
     "text": [
      "[I 2024-01-08 15:32:24,621] Trial 67 finished with value: 0.05064012484409858 and parameters: {'alpha_0': 0.14291268875481095, 'alpha_1': 0.8030623253665979, 'alpha_2': 0.032151245045905635, 'alpha_3': 0.4594164890464421, 'alpha_4': 0.3961230202226973}. Best is trial 44 with value: 0.05090955199823789.\n"
     ]
    },
    {
     "name": "stdout",
     "output_type": "stream",
     "text": [
      "EvaluatorHoldout: Processed 10440 (100.0%) in 22.19 sec. Users per second: 471\n",
      "EvaluatorHoldout: Processed 10493 (100.0%) in 23.67 sec. Users per second: 443\n",
      "EvaluatorHoldout: Processed 10488 (100.0%) in 24.82 sec. Users per second: 423\n",
      "EvaluatorHoldout: Processed 10444 (100.0%) in 24.85 sec. Users per second: 420\n",
      "EvaluatorHoldout: Processed 10467 (100.0%) in 24.83 sec. Users per second: 422\n",
      "EvaluatorHoldout: Processed 10448 (100.0%) in 25.18 sec. Users per second: 415\n",
      "EvaluatorHoldout: Processed 10472 (100.0%) in 25.77 sec. Users per second: 406\n",
      "EvaluatorHoldout: Processed 10473 (100.0%) in 25.97 sec. Users per second: 403\n"
     ]
    },
    {
     "name": "stderr",
     "output_type": "stream",
     "text": [
      "[I 2024-01-08 15:32:51,285] Trial 68 finished with value: 0.048423111185553785 and parameters: {'alpha_0': 0.7458618693592222, 'alpha_1': 0.4961972295567775, 'alpha_2': 0.18195440433392623, 'alpha_3': 0.6586487257546304, 'alpha_4': 0.28929800980427367}. Best is trial 44 with value: 0.05090955199823789.\n"
     ]
    },
    {
     "name": "stdout",
     "output_type": "stream",
     "text": [
      "EvaluatorHoldout: Processed 10472 (100.0%) in 20.40 sec. Users per second: 513\n",
      "EvaluatorHoldout: Processed 10444 (100.0%) in 20.59 sec. Users per second: 507\n",
      "EvaluatorHoldout: Processed 10473 (100.0%) in 20.73 sec. Users per second: 505\n",
      "EvaluatorHoldout: Processed 10440 (100.0%) in 20.81 sec. Users per second: 502\n",
      "EvaluatorHoldout: Processed 10488 (100.0%) in 21.47 sec. Users per second: 489\n",
      "EvaluatorHoldout: Processed 10493 (100.0%) in 21.40 sec. Users per second: 490\n",
      "EvaluatorHoldout: Processed 10448 (100.0%) in 21.52 sec. Users per second: 486\n",
      "EvaluatorHoldout: Processed 10467 (100.0%) in 21.91 sec. Users per second: 478\n"
     ]
    },
    {
     "name": "stderr",
     "output_type": "stream",
     "text": [
      "[I 2024-01-08 15:33:14,024] Trial 69 finished with value: 0.050802915613869355 and parameters: {'alpha_0': 0.16793887452739314, 'alpha_1': 0.7229272419197859, 'alpha_2': 0.09494859244355053, 'alpha_3': 0.9549124164729457, 'alpha_4': 0.17735317225574498}. Best is trial 44 with value: 0.05090955199823789.\n"
     ]
    },
    {
     "name": "stdout",
     "output_type": "stream",
     "text": [
      "EvaluatorHoldout: Processed 10444 (100.0%) in 22.42 sec. Users per second: 466\n",
      "EvaluatorHoldout: Processed 10440 (100.0%) in 22.30 sec. Users per second: 468\n",
      "EvaluatorHoldout: Processed 10467 (100.0%) in 22.43 sec. Users per second: 467\n",
      "EvaluatorHoldout: Processed 10473 (100.0%) in 23.11 sec. Users per second: 453\n",
      "EvaluatorHoldout: Processed 10488 (100.0%) in 24.68 sec. Users per second: 425\n",
      "EvaluatorHoldout: Processed 10448 (100.0%) in 25.00 sec. Users per second: 418\n",
      "EvaluatorHoldout: Processed 10493 (100.0%) in 25.64 sec. Users per second: 409\n",
      "EvaluatorHoldout: Processed 10472 (100.0%) in 26.19 sec. Users per second: 400\n"
     ]
    },
    {
     "name": "stderr",
     "output_type": "stream",
     "text": [
      "[I 2024-01-08 15:33:40,779] Trial 70 finished with value: 0.05039233965348245 and parameters: {'alpha_0': 0.030790775245635907, 'alpha_1': 0.3388694789185424, 'alpha_2': 0.21211302770589852, 'alpha_3': 0.9024511286824568, 'alpha_4': 0.10641468140578988}. Best is trial 44 with value: 0.05090955199823789.\n"
     ]
    },
    {
     "name": "stdout",
     "output_type": "stream",
     "text": [
      "EvaluatorHoldout: Processed 10440 (100.0%) in 22.11 sec. Users per second: 472\n",
      "EvaluatorHoldout: Processed 10473 (100.0%) in 22.50 sec. Users per second: 465\n",
      "EvaluatorHoldout: Processed 10467 (100.0%) in 22.83 sec. Users per second: 458\n",
      "EvaluatorHoldout: Processed 10493 (100.0%) in 23.59 sec. Users per second: 445\n",
      "EvaluatorHoldout: Processed 10472 (100.0%) in 25.11 sec. Users per second: 417\n",
      "EvaluatorHoldout: Processed 10488 (100.0%) in 25.22 sec. Users per second: 416\n",
      "EvaluatorHoldout: Processed 10448 (100.0%) in 26.67 sec. Users per second: 392\n",
      "EvaluatorHoldout: Processed 10444 (100.0%) in 27.65 sec. Users per second: 378\n"
     ]
    },
    {
     "name": "stderr",
     "output_type": "stream",
     "text": [
      "[I 2024-01-08 15:34:09,129] Trial 71 finished with value: 0.05092034362284824 and parameters: {'alpha_0': 0.09009857017479722, 'alpha_1': 0.7618422628401591, 'alpha_2': 0.14731068884453535, 'alpha_3': 0.9166704246235063, 'alpha_4': 0.37162452281807923}. Best is trial 71 with value: 0.05092034362284824.\n"
     ]
    },
    {
     "name": "stdout",
     "output_type": "stream",
     "text": [
      "EvaluatorHoldout: Processed 10448 (100.0%) in 21.64 sec. Users per second: 483\n",
      "EvaluatorHoldout: Processed 10473 (100.0%) in 22.15 sec. Users per second: 473\n",
      "EvaluatorHoldout: Processed 10493 (100.0%) in 23.67 sec. Users per second: 443\n",
      "EvaluatorHoldout: Processed 10444 (100.0%) in 24.72 sec. Users per second: 423\n",
      "EvaluatorHoldout: Processed 10488 (100.0%) in 24.75 sec. Users per second: 424EvaluatorHoldout: Processed 10467 (100.0%) in 24.67 sec. Users per second: 424\n",
      "\n",
      "EvaluatorHoldout: Processed 10440 (100.0%) in 25.52 sec. Users per second: 409\n",
      "EvaluatorHoldout: Processed 10472 (100.0%) in 25.69 sec. Users per second: 408\n"
     ]
    },
    {
     "name": "stderr",
     "output_type": "stream",
     "text": [
      "[I 2024-01-08 15:34:35,624] Trial 72 finished with value: 0.05094988521014829 and parameters: {'alpha_0': 0.07848239999992312, 'alpha_1': 0.8253440143833317, 'alpha_2': 0.16179782150770486, 'alpha_3': 0.9979998005365007, 'alpha_4': 0.3596927453255967}. Best is trial 72 with value: 0.05094988521014829.\n"
     ]
    },
    {
     "name": "stdout",
     "output_type": "stream",
     "text": [
      "EvaluatorHoldout: Processed 10473 (100.0%) in 18.44 sec. Users per second: 568\n",
      "EvaluatorHoldout: Processed 10444 (100.0%) in 18.47 sec. Users per second: 565\n",
      "EvaluatorHoldout: Processed 10467 (100.0%) in 18.70 sec. Users per second: 560\n",
      "EvaluatorHoldout: Processed 10472 (100.0%) in 19.71 sec. Users per second: 531\n",
      "EvaluatorHoldout: Processed 10448 (100.0%) in 20.30 sec. Users per second: 515\n",
      "EvaluatorHoldout: Processed 10440 (100.0%) in 20.73 sec. Users per second: 504\n",
      "EvaluatorHoldout: Processed 10488 (100.0%) in 21.11 sec. Users per second: 497\n",
      "EvaluatorHoldout: Processed 10493 (100.0%) in 21.39 sec. Users per second: 490\n"
     ]
    },
    {
     "name": "stderr",
     "output_type": "stream",
     "text": [
      "[I 2024-01-08 15:34:57,871] Trial 73 finished with value: 0.0508824218521158 and parameters: {'alpha_0': 0.07279505316416889, 'alpha_1': 0.8203384128274896, 'alpha_2': 0.1577271145159496, 'alpha_3': 0.757402274477227, 'alpha_4': 0.47701938187535275}. Best is trial 72 with value: 0.05094988521014829.\n"
     ]
    },
    {
     "name": "stdout",
     "output_type": "stream",
     "text": [
      "EvaluatorHoldout: Processed 10472 (100.0%) in 25.54 sec. Users per second: 410EvaluatorHoldout: Processed 10473 (100.0%) in 25.54 sec. Users per second: 410\n",
      "\n",
      "EvaluatorHoldout: Processed 10467 (100.0%) in 25.71 sec. Users per second: 407\n",
      "EvaluatorHoldout: Processed 10444 (100.0%) in 26.07 sec. Users per second: 401\n",
      "EvaluatorHoldout: Processed 10493 (100.0%) in 26.01 sec. Users per second: 403\n",
      "EvaluatorHoldout: Processed 10440 (100.0%) in 26.42 sec. Users per second: 395\n",
      "EvaluatorHoldout: Processed 10488 (100.0%) in 27.31 sec. Users per second: 384\n",
      "EvaluatorHoldout: Processed 10448 (100.0%) in 28.03 sec. Users per second: 373\n"
     ]
    },
    {
     "name": "stderr",
     "output_type": "stream",
     "text": [
      "[I 2024-01-08 15:35:26,658] Trial 74 finished with value: 0.05077913611198833 and parameters: {'alpha_0': 0.06450145866572625, 'alpha_1': 0.9491434860787766, 'alpha_2': 0.3198191637398321, 'alpha_3': 0.8411575706659591, 'alpha_4': 0.4725028247533477}. Best is trial 72 with value: 0.05094988521014829.\n"
     ]
    },
    {
     "name": "stdout",
     "output_type": "stream",
     "text": [
      "EvaluatorHoldout: Processed 10472 (100.0%) in 22.27 sec. Users per second: 470\n",
      "EvaluatorHoldout: Processed 10440 (100.0%) in 22.91 sec. Users per second: 456\n",
      "EvaluatorHoldout: Processed 10448 (100.0%) in 23.99 sec. Users per second: 436\n",
      "EvaluatorHoldout: Processed 10473 (100.0%) in 24.42 sec. Users per second: 429\n",
      "EvaluatorHoldout: Processed 10444 (100.0%) in 24.77 sec. Users per second: 422\n",
      "EvaluatorHoldout: Processed 10493 (100.0%) in 26.19 sec. Users per second: 401\n",
      "EvaluatorHoldout: Processed 10467 (100.0%) in 26.65 sec. Users per second: 393\n",
      "EvaluatorHoldout: Processed 10488 (100.0%) in 26.86 sec. Users per second: 390\n"
     ]
    },
    {
     "name": "stderr",
     "output_type": "stream",
     "text": [
      "[I 2024-01-08 15:35:54,279] Trial 75 finished with value: 0.05031129244423545 and parameters: {'alpha_0': 0.018987449177748264, 'alpha_1': 0.8085687550753228, 'alpha_2': 0.42768125489617004, 'alpha_3': 0.764417412744359, 'alpha_4': 0.5478329982883174}. Best is trial 72 with value: 0.05094988521014829.\n"
     ]
    },
    {
     "name": "stdout",
     "output_type": "stream",
     "text": [
      "EvaluatorHoldout: Processed 10493 (100.0%) in 23.38 sec. Users per second: 449\n",
      "EvaluatorHoldout: Processed 10488 (100.0%) in 23.50 sec. Users per second: 446\n",
      "EvaluatorHoldout: Processed 10473 (100.0%) in 23.58 sec. Users per second: 444\n",
      "EvaluatorHoldout: Processed 10444 (100.0%) in 23.59 sec. Users per second: 443\n",
      "EvaluatorHoldout: Processed 10472 (100.0%) in 23.66 sec. Users per second: 443\n",
      "EvaluatorHoldout: Processed 10448 (100.0%) in 23.82 sec. Users per second: 439\n",
      "EvaluatorHoldout: Processed 10440 (100.0%) in 23.99 sec. Users per second: 435\n",
      "EvaluatorHoldout: Processed 10467 (100.0%) in 24.54 sec. Users per second: 426\n"
     ]
    },
    {
     "name": "stderr",
     "output_type": "stream",
     "text": [
      "[I 2024-01-08 15:36:19,559] Trial 76 finished with value: 0.050702085369739774 and parameters: {'alpha_0': 0.18234996509733126, 'alpha_1': 0.7591828752025017, 'alpha_2': 0.1444317185988231, 'alpha_3': 0.9036050342291868, 'alpha_4': 0.438328089441546}. Best is trial 72 with value: 0.05094988521014829.\n"
     ]
    },
    {
     "name": "stdout",
     "output_type": "stream",
     "text": [
      "EvaluatorHoldout: Processed 10493 (100.0%) in 22.07 sec. Users per second: 475\n",
      "EvaluatorHoldout: Processed 10472 (100.0%) in 23.18 sec. Users per second: 452\n",
      "EvaluatorHoldout: Processed 10488 (100.0%) in 23.55 sec. Users per second: 445\n",
      "EvaluatorHoldout: Processed 10467 (100.0%) in 24.47 sec. Users per second: 428\n",
      "EvaluatorHoldout: Processed 10473 (100.0%) in 24.64 sec. Users per second: 425\n",
      "EvaluatorHoldout: Processed 10444 (100.0%) in 24.70 sec. Users per second: 423\n",
      "EvaluatorHoldout: Processed 10440 (100.0%) in 24.87 sec. Users per second: 420\n",
      "EvaluatorHoldout: Processed 10448 (100.0%) in 26.05 sec. Users per second: 401\n"
     ]
    },
    {
     "name": "stderr",
     "output_type": "stream",
     "text": [
      "[I 2024-01-08 15:36:46,353] Trial 77 finished with value: 0.05044034540180327 and parameters: {'alpha_0': 0.27292216658376395, 'alpha_1': 0.8332513454958319, 'alpha_2': 0.04590640306981278, 'alpha_3': 0.7333647241452016, 'alpha_4': 0.36218937961119047}. Best is trial 72 with value: 0.05094988521014829.\n"
     ]
    },
    {
     "name": "stdout",
     "output_type": "stream",
     "text": [
      "EvaluatorHoldout: Processed 10448 (100.0%) in 24.49 sec. Users per second: 427\n",
      "EvaluatorHoldout: Processed 10444 (100.0%) in 24.91 sec. Users per second: 419\n",
      "EvaluatorHoldout: Processed 10472 (100.0%) in 25.57 sec. Users per second: 410\n",
      "EvaluatorHoldout: Processed 10493 (100.0%) in 25.63 sec. Users per second: 409\n",
      "EvaluatorHoldout: Processed 10467 (100.0%) in 25.98 sec. Users per second: 403\n",
      "EvaluatorHoldout: Processed 10440 (100.0%) in 26.17 sec. Users per second: 399\n",
      "EvaluatorHoldout: Processed 10488 (100.0%) in 26.46 sec. Users per second: 396\n",
      "EvaluatorHoldout: Processed 10473 (100.0%) in 27.16 sec. Users per second: 386\n"
     ]
    },
    {
     "name": "stderr",
     "output_type": "stream",
     "text": [
      "[I 2024-01-08 15:37:14,468] Trial 78 finished with value: 0.05076358842779962 and parameters: {'alpha_0': 0.13072547405810386, 'alpha_1': 0.7647506077868125, 'alpha_2': 0.2763878436919446, 'alpha_3': 0.9954122259708915, 'alpha_4': 0.4078121903842239}. Best is trial 72 with value: 0.05094988521014829.\n"
     ]
    },
    {
     "name": "stdout",
     "output_type": "stream",
     "text": [
      "EvaluatorHoldout: Processed 10444 (100.0%) in 21.58 sec. Users per second: 484\n",
      "EvaluatorHoldout: Processed 10472 (100.0%) in 24.10 sec. Users per second: 435\n",
      "EvaluatorHoldout: Processed 10440 (100.0%) in 24.28 sec. Users per second: 430\n",
      "EvaluatorHoldout: Processed 10493 (100.0%) in 24.66 sec. Users per second: 426\n",
      "EvaluatorHoldout: Processed 10448 (100.0%) in 24.96 sec. Users per second: 419\n",
      "EvaluatorHoldout: Processed 10488 (100.0%) in 25.39 sec. Users per second: 413\n",
      "EvaluatorHoldout: Processed 10473 (100.0%) in 26.64 sec. Users per second: 393\n",
      "EvaluatorHoldout: Processed 10467 (100.0%) in 27.32 sec. Users per second: 383\n"
     ]
    },
    {
     "name": "stderr",
     "output_type": "stream",
     "text": [
      "[I 2024-01-08 15:37:42,790] Trial 79 finished with value: 0.05081461386292853 and parameters: {'alpha_0': 0.06814355211272952, 'alpha_1': 0.8773193627424849, 'alpha_2': 0.09121238086524616, 'alpha_3': 0.9416676092697511, 'alpha_4': 0.5027148169944308}. Best is trial 72 with value: 0.05094988521014829.\n"
     ]
    },
    {
     "name": "stdout",
     "output_type": "stream",
     "text": [
      "EvaluatorHoldout: Processed 10444 (100.0%) in 19.45 sec. Users per second: 537\n",
      "EvaluatorHoldout: Processed 10440 (100.0%) in 20.50 sec. Users per second: 509\n",
      "EvaluatorHoldout: Processed 10467 (100.0%) in 20.60 sec. Users per second: 508\n",
      "EvaluatorHoldout: Processed 10488 (100.0%) in 21.12 sec. Users per second: 496\n",
      "EvaluatorHoldout: Processed 10472 (100.0%) in 21.22 sec. Users per second: 494\n",
      "EvaluatorHoldout: Processed 10473 (100.0%) in 21.78 sec. Users per second: 481\n",
      "EvaluatorHoldout: Processed 10493 (100.0%) in 21.98 sec. Users per second: 477\n",
      "EvaluatorHoldout: Processed 10448 (100.0%) in 22.37 sec. Users per second: 467\n"
     ]
    },
    {
     "name": "stderr",
     "output_type": "stream",
     "text": [
      "[I 2024-01-08 15:38:06,085] Trial 80 finished with value: 0.05010369839021638 and parameters: {'alpha_0': 0.44075387765251584, 'alpha_1': 0.8521438520925733, 'alpha_2': 0.21674487159323413, 'alpha_3': 0.8629892277197879, 'alpha_4': 0.47759068924620746}. Best is trial 72 with value: 0.05094988521014829.\n"
     ]
    },
    {
     "name": "stdout",
     "output_type": "stream",
     "text": [
      "EvaluatorHoldout: Processed 10444 (100.0%) in 23.54 sec. Users per second: 444EvaluatorHoldout: Processed 10440 (100.0%) in 23.50 sec. Users per second: 444\n",
      "\n",
      "EvaluatorHoldout: Processed 10472 (100.0%) in 24.74 sec. Users per second: 423\n",
      "EvaluatorHoldout: Processed 10488 (100.0%) in 24.77 sec. Users per second: 423\n",
      "EvaluatorHoldout: Processed 10473 (100.0%) in 25.25 sec. Users per second: 415\n",
      "EvaluatorHoldout: Processed 10493 (100.0%) in 25.34 sec. Users per second: 414\n",
      "EvaluatorHoldout: Processed 10467 (100.0%) in 25.57 sec. Users per second: 409\n",
      "EvaluatorHoldout: Processed 10448 (100.0%) in 27.17 sec. Users per second: 385\n"
     ]
    },
    {
     "name": "stderr",
     "output_type": "stream",
     "text": [
      "[I 2024-01-08 15:38:34,172] Trial 81 finished with value: 0.05094350430424536 and parameters: {'alpha_0': 0.0908208447220428, 'alpha_1': 0.8136634831205709, 'alpha_2': 0.17919146371119235, 'alpha_3': 0.6181423715577403, 'alpha_4': 0.32243814798066284}. Best is trial 72 with value: 0.05094988521014829.\n"
     ]
    },
    {
     "name": "stdout",
     "output_type": "stream",
     "text": [
      "EvaluatorHoldout: Processed 10440 (100.0%) in 24.02 sec. Users per second: 435\n",
      "EvaluatorHoldout: Processed 10444 (100.0%) in 24.55 sec. Users per second: 425\n",
      "EvaluatorHoldout: Processed 10467 (100.0%) in 25.22 sec. Users per second: 415\n",
      "EvaluatorHoldout: Processed 10493 (100.0%) in 26.14 sec. Users per second: 401\n",
      "EvaluatorHoldout: Processed 10473 (100.0%) in 26.40 sec. Users per second: 397\n",
      "EvaluatorHoldout: Processed 10488 (100.0%) in 26.55 sec. Users per second: 395\n",
      "EvaluatorHoldout: Processed 10472 (100.0%) in 27.17 sec. Users per second: 385\n",
      "EvaluatorHoldout: Processed 10448 (100.0%) in 27.64 sec. Users per second: 378\n"
     ]
    },
    {
     "name": "stderr",
     "output_type": "stream",
     "text": [
      "[I 2024-01-08 15:39:02,759] Trial 82 finished with value: 0.05099779336082066 and parameters: {'alpha_0': 0.08316032078339643, 'alpha_1': 0.9520594009297564, 'alpha_2': 0.18138461545491255, 'alpha_3': 0.7977051129776752, 'alpha_4': 0.3401817118417362}. Best is trial 82 with value: 0.05099779336082066.\n"
     ]
    },
    {
     "name": "stdout",
     "output_type": "stream",
     "text": [
      "EvaluatorHoldout: Processed 10473 (100.0%) in 24.48 sec. Users per second: 428\n",
      "EvaluatorHoldout: Processed 10488 (100.0%) in 25.11 sec. Users per second: 418\n",
      "EvaluatorHoldout: Processed 10444 (100.0%) in 25.15 sec. Users per second: 415\n",
      "EvaluatorHoldout: Processed 10440 (100.0%) in 25.16 sec. Users per second: 415\n",
      "EvaluatorHoldout: Processed 10493 (100.0%) in 25.26 sec. Users per second: 415\n",
      "EvaluatorHoldout: Processed 10472 (100.0%) in 25.91 sec. Users per second: 404\n",
      "EvaluatorHoldout: Processed 10467 (100.0%) in 25.83 sec. Users per second: 405\n",
      "EvaluatorHoldout: Processed 10448 (100.0%) in 25.96 sec. Users per second: 402\n"
     ]
    },
    {
     "name": "stderr",
     "output_type": "stream",
     "text": [
      "[I 2024-01-08 15:39:29,224] Trial 83 finished with value: 0.05066879376057036 and parameters: {'alpha_0': 0.21127889205043843, 'alpha_1': 0.9376726304329133, 'alpha_2': 0.18082761763833533, 'alpha_3': 0.6142180828325008, 'alpha_4': 0.38181868573391325}. Best is trial 82 with value: 0.05099779336082066.\n"
     ]
    },
    {
     "name": "stdout",
     "output_type": "stream",
     "text": [
      "EvaluatorHoldout: Processed 10493 (100.0%) in 19.86 sec. Users per second: 528\n",
      "EvaluatorHoldout: Processed 10473 (100.0%) in 20.49 sec. Users per second: 511\n",
      "EvaluatorHoldout: Processed 10440 (100.0%) in 20.52 sec. Users per second: 509\n",
      "EvaluatorHoldout: Processed 10488 (100.0%) in 20.65 sec. Users per second: 508\n",
      "EvaluatorHoldout: Processed 10448 (100.0%) in 21.06 sec. Users per second: 496\n",
      "EvaluatorHoldout: Processed 10467 (100.0%) in 21.18 sec. Users per second: 494EvaluatorHoldout: Processed 10444 (100.0%) in 21.33 sec. Users per second: 490\n",
      "\n",
      "EvaluatorHoldout: Processed 10472 (100.0%) in 21.53 sec. Users per second: 486\n"
     ]
    },
    {
     "name": "stderr",
     "output_type": "stream",
     "text": [
      "[I 2024-01-08 15:39:51,387] Trial 84 finished with value: 0.05083587535530351 and parameters: {'alpha_0': 0.17645614769995266, 'alpha_1': 0.9156445446391346, 'alpha_2': 0.23065334975479737, 'alpha_3': 0.7894252818022549, 'alpha_4': 0.3212908117709149}. Best is trial 82 with value: 0.05099779336082066.\n"
     ]
    },
    {
     "name": "stdout",
     "output_type": "stream",
     "text": [
      "EvaluatorHoldout: Processed 10467 (100.0%) in 25.50 sec. Users per second: 410\n",
      "EvaluatorHoldout: Processed 10493 (100.0%) in 25.70 sec. Users per second: 408\n",
      "EvaluatorHoldout: Processed 10473 (100.0%) in 25.81 sec. Users per second: 406\n",
      "EvaluatorHoldout: Processed 10488 (100.0%) in 25.92 sec. Users per second: 405\n",
      "EvaluatorHoldout: Processed 10440 (100.0%) in 26.14 sec. Users per second: 399\n",
      "EvaluatorHoldout: Processed 10444 (100.0%) in 26.45 sec. Users per second: 395\n",
      "EvaluatorHoldout: Processed 10472 (100.0%) in 27.03 sec. Users per second: 387\n",
      "EvaluatorHoldout: Processed 10448 (100.0%) in 27.20 sec. Users per second: 384\n"
     ]
    },
    {
     "name": "stderr",
     "output_type": "stream",
     "text": [
      "[I 2024-01-08 15:40:19,572] Trial 85 finished with value: 0.05060563975583109 and parameters: {'alpha_0': 0.1131619643073943, 'alpha_1': 0.8209055845594618, 'alpha_2': 0.3532136107574857, 'alpha_3': 0.6961177226792691, 'alpha_4': 0.26896862844564273}. Best is trial 82 with value: 0.05099779336082066.\n"
     ]
    },
    {
     "name": "stdout",
     "output_type": "stream",
     "text": [
      "EvaluatorHoldout: Processed 10444 (100.0%) in 21.53 sec. Users per second: 485\n",
      "EvaluatorHoldout: Processed 10488 (100.0%) in 21.69 sec. Users per second: 483EvaluatorHoldout: Processed 10473 (100.0%) in 21.71 sec. Users per second: 482\n",
      "\n",
      "EvaluatorHoldout: Processed 10448 (100.0%) in 22.08 sec. Users per second: 473\n",
      "EvaluatorHoldout: Processed 10440 (100.0%) in 22.03 sec. Users per second: 474\n",
      "EvaluatorHoldout: Processed 10493 (100.0%) in 22.57 sec. Users per second: 465\n",
      "EvaluatorHoldout: Processed 10472 (100.0%) in 22.88 sec. Users per second: 458\n",
      "EvaluatorHoldout: Processed 10467 (100.0%) in 23.12 sec. Users per second: 453\n"
     ]
    },
    {
     "name": "stderr",
     "output_type": "stream",
     "text": [
      "[I 2024-01-08 15:40:43,479] Trial 86 finished with value: 0.05078820912918595 and parameters: {'alpha_0': 0.021344687256717662, 'alpha_1': 0.7901118715792644, 'alpha_2': 0.14108785273088661, 'alpha_3': 0.5261514881393115, 'alpha_4': 0.4436571620912333}. Best is trial 82 with value: 0.05099779336082066.\n"
     ]
    },
    {
     "name": "stdout",
     "output_type": "stream",
     "text": [
      "EvaluatorHoldout: Processed 10473 (100.0%) in 14.17 sec. Users per second: 739\n",
      "EvaluatorHoldout: Processed 10493 (100.0%) in 14.32 sec. Users per second: 733\n",
      "EvaluatorHoldout: Processed 10472 (100.0%) in 14.61 sec. Users per second: 717\n",
      "EvaluatorHoldout: Processed 10448 (100.0%) in 14.65 sec. Users per second: 713\n",
      "EvaluatorHoldout: Processed 10467 (100.0%) in 14.74 sec. Users per second: 710\n",
      "EvaluatorHoldout: Processed 10488 (100.0%) in 14.84 sec. Users per second: 707\n",
      "EvaluatorHoldout: Processed 10440 (100.0%) in 14.97 sec. Users per second: 697\n",
      "EvaluatorHoldout: Processed 10444 (100.0%) in 15.03 sec. Users per second: 695\n"
     ]
    },
    {
     "name": "stderr",
     "output_type": "stream",
     "text": [
      "[I 2024-01-08 15:40:58,701] Trial 87 finished with value: 0.04947445127000489 and parameters: {'alpha_0': 0.06624574940575916, 'alpha_1': 0.9608291790231784, 'alpha_2': 0.704611780979344, 'alpha_3': 0.6545920948044266, 'alpha_4': 0.33924264182208846}. Best is trial 82 with value: 0.05099779336082066.\n"
     ]
    },
    {
     "name": "stdout",
     "output_type": "stream",
     "text": [
      "EvaluatorHoldout: Processed 10488 (100.0%) in 13.08 sec. Users per second: 802\n",
      "EvaluatorHoldout: Processed 10472 (100.0%) in 13.35 sec. Users per second: 784\n",
      "EvaluatorHoldout: Processed 10444 (100.0%) in 13.53 sec. Users per second: 772\n",
      "EvaluatorHoldout: Processed 10493 (100.0%) in 13.50 sec. Users per second: 777\n",
      "EvaluatorHoldout: Processed 10448 (100.0%) in 13.65 sec. Users per second: 766\n",
      "EvaluatorHoldout: Processed 10473 (100.0%) in 13.68 sec. Users per second: 765\n",
      "EvaluatorHoldout: Processed 10440 (100.0%) in 13.79 sec. Users per second: 757\n",
      "EvaluatorHoldout: Processed 10467 (100.0%) in 13.90 sec. Users per second: 753\n"
     ]
    },
    {
     "name": "stderr",
     "output_type": "stream",
     "text": [
      "[I 2024-01-08 15:41:12,857] Trial 88 finished with value: 0.05094204106304985 and parameters: {'alpha_0': 0.12996138016815992, 'alpha_1': 0.8598222210240236, 'alpha_2': 0.19948168161947225, 'alpha_3': 0.8101992634584448, 'alpha_4': 0.23568397415839648}. Best is trial 82 with value: 0.05099779336082066.\n"
     ]
    },
    {
     "name": "stdout",
     "output_type": "stream",
     "text": [
      "EvaluatorHoldout: Processed 10444 (100.0%) in 13.11 sec. Users per second: 796\n",
      "EvaluatorHoldout: Processed 10472 (100.0%) in 13.60 sec. Users per second: 770\n",
      "EvaluatorHoldout: Processed 10467 (100.0%) in 13.60 sec. Users per second: 770\n",
      "EvaluatorHoldout: Processed 10473 (100.0%) in 13.74 sec. Users per second: 762\n",
      "EvaluatorHoldout: Processed 10493 (100.0%) in 13.80 sec. Users per second: 760\n",
      "EvaluatorHoldout: Processed 10440 (100.0%) in 13.77 sec. Users per second: 758\n",
      "EvaluatorHoldout: Processed 10488 (100.0%) in 14.11 sec. Users per second: 743\n",
      "EvaluatorHoldout: Processed 10448 (100.0%) in 14.23 sec. Users per second: 734\n"
     ]
    },
    {
     "name": "stderr",
     "output_type": "stream",
     "text": [
      "[I 2024-01-08 15:41:27,295] Trial 89 finished with value: 0.050946611394224336 and parameters: {'alpha_0': 0.14246472478504607, 'alpha_1': 0.8670846405620355, 'alpha_2': 0.19550121928270225, 'alpha_3': 0.8126123328811475, 'alpha_4': 0.2305027409337962}. Best is trial 82 with value: 0.05099779336082066.\n"
     ]
    },
    {
     "name": "stdout",
     "output_type": "stream",
     "text": [
      "EvaluatorHoldout: Processed 10444 (100.0%) in 12.54 sec. Users per second: 833\n",
      "EvaluatorHoldout: Processed 10473 (100.0%) in 12.55 sec. Users per second: 835\n",
      "EvaluatorHoldout: Processed 10488 (100.0%) in 12.71 sec. Users per second: 825\n",
      "EvaluatorHoldout: Processed 10440 (100.0%) in 12.76 sec. Users per second: 818\n",
      "EvaluatorHoldout: Processed 10493 (100.0%) in 12.88 sec. Users per second: 815\n",
      "EvaluatorHoldout: Processed 10472 (100.0%) in 13.02 sec. Users per second: 804\n",
      "EvaluatorHoldout: Processed 10448 (100.0%) in 13.35 sec. Users per second: 782\n",
      "EvaluatorHoldout: Processed 10467 (100.0%) in 13.39 sec. Users per second: 782\n"
     ]
    },
    {
     "name": "stderr",
     "output_type": "stream",
     "text": [
      "[I 2024-01-08 15:41:40,893] Trial 90 finished with value: 0.05092520570926181 and parameters: {'alpha_0': 0.13877133197136365, 'alpha_1': 0.8921036016541753, 'alpha_2': 0.2061088594729571, 'alpha_3': 0.8160368243886033, 'alpha_4': 0.22175380395600897}. Best is trial 82 with value: 0.05099779336082066.\n"
     ]
    },
    {
     "name": "stdout",
     "output_type": "stream",
     "text": [
      "EvaluatorHoldout: Processed 10467 (100.0%) in 12.71 sec. Users per second: 823\n",
      "EvaluatorHoldout: Processed 10473 (100.0%) in 12.86 sec. Users per second: 814\n",
      "EvaluatorHoldout: Processed 10440 (100.0%) in 13.26 sec. Users per second: 787\n",
      "EvaluatorHoldout: Processed 10488 (100.0%) in 13.37 sec. Users per second: 784\n",
      "EvaluatorHoldout: Processed 10444 (100.0%) in 13.40 sec. Users per second: 780\n",
      "EvaluatorHoldout: Processed 10472 (100.0%) in 13.46 sec. Users per second: 778\n",
      "EvaluatorHoldout: Processed 10493 (100.0%) in 13.53 sec. Users per second: 775\n",
      "EvaluatorHoldout: Processed 10448 (100.0%) in 13.80 sec. Users per second: 757\n"
     ]
    },
    {
     "name": "stderr",
     "output_type": "stream",
     "text": [
      "[I 2024-01-08 15:41:54,865] Trial 91 finished with value: 0.05095106985867672 and parameters: {'alpha_0': 0.1415115219632526, 'alpha_1': 0.8985530070078276, 'alpha_2': 0.18798271504866487, 'alpha_3': 0.8176301930272215, 'alpha_4': 0.2220062779639933}. Best is trial 82 with value: 0.05099779336082066.\n"
     ]
    },
    {
     "name": "stdout",
     "output_type": "stream",
     "text": [
      "EvaluatorHoldout: Processed 10472 (100.0%) in 12.88 sec. Users per second: 813\n",
      "EvaluatorHoldout: Processed 10493 (100.0%) in 13.03 sec. Users per second: 806\n",
      "EvaluatorHoldout: Processed 10444 (100.0%) in 13.30 sec. Users per second: 785\n",
      "EvaluatorHoldout: Processed 10448 (100.0%) in 13.36 sec. Users per second: 782\n",
      "EvaluatorHoldout: Processed 10488 (100.0%) in 13.38 sec. Users per second: 784\n",
      "EvaluatorHoldout: Processed 10440 (100.0%) in 13.68 sec. Users per second: 763\n",
      "EvaluatorHoldout: Processed 10467 (100.0%) in 13.84 sec. Users per second: 756\n",
      "EvaluatorHoldout: Processed 10473 (100.0%) in 13.95 sec. Users per second: 751\n"
     ]
    },
    {
     "name": "stderr",
     "output_type": "stream",
     "text": [
      "[I 2024-01-08 15:42:09,007] Trial 92 finished with value: 0.050939827776829476 and parameters: {'alpha_0': 0.14067370547418306, 'alpha_1': 0.897894640517186, 'alpha_2': 0.2004183615126197, 'alpha_3': 0.8168169593303488, 'alpha_4': 0.222151380968936}. Best is trial 82 with value: 0.05099779336082066.\n"
     ]
    },
    {
     "name": "stdout",
     "output_type": "stream",
     "text": [
      "EvaluatorHoldout: Processed 10472 (100.0%) in 13.50 sec. Users per second: 776\n",
      "EvaluatorHoldout: Processed 10444 (100.0%) in 13.53 sec. Users per second: 772\n",
      "EvaluatorHoldout: Processed 10473 (100.0%) in 13.54 sec. Users per second: 773\n",
      "EvaluatorHoldout: Processed 10488 (100.0%) in 13.63 sec. Users per second: 769\n",
      "EvaluatorHoldout: Processed 10448 (100.0%) in 13.87 sec. Users per second: 753\n",
      "EvaluatorHoldout: Processed 10467 (100.0%) in 13.85 sec. Users per second: 756\n",
      "EvaluatorHoldout: Processed 10493 (100.0%) in 14.01 sec. Users per second: 749\n",
      "EvaluatorHoldout: Processed 10440 (100.0%) in 14.12 sec. Users per second: 739\n"
     ]
    },
    {
     "name": "stderr",
     "output_type": "stream",
     "text": [
      "[I 2024-01-08 15:42:23,382] Trial 93 finished with value: 0.05094645166033506 and parameters: {'alpha_0': 0.14446788828290708, 'alpha_1': 0.8934110942899349, 'alpha_2': 0.19894854708846493, 'alpha_3': 0.8149566990565196, 'alpha_4': 0.221228038000987}. Best is trial 82 with value: 0.05099779336082066.\n"
     ]
    },
    {
     "name": "stdout",
     "output_type": "stream",
     "text": [
      "EvaluatorHoldout: Processed 10472 (100.0%) in 12.75 sec. Users per second: 821\n",
      "EvaluatorHoldout: Processed 10488 (100.0%) in 13.18 sec. Users per second: 796\n",
      "EvaluatorHoldout: Processed 10448 (100.0%) in 13.52 sec. Users per second: 773\n",
      "EvaluatorHoldout: Processed 10473 (100.0%) in 13.53 sec. Users per second: 774\n",
      "EvaluatorHoldout: Processed 10440 (100.0%) in 13.48 sec. Users per second: 774\n",
      "EvaluatorHoldout: Processed 10467 (100.0%) in 13.58 sec. Users per second: 771\n",
      "EvaluatorHoldout: Processed 10493 (100.0%) in 13.78 sec. Users per second: 762\n",
      "EvaluatorHoldout: Processed 10444 (100.0%) in 13.91 sec. Users per second: 751\n"
     ]
    },
    {
     "name": "stderr",
     "output_type": "stream",
     "text": [
      "[I 2024-01-08 15:42:37,485] Trial 94 finished with value: 0.0506737656724393 and parameters: {'alpha_0': 0.236313055317571, 'alpha_1': 0.8973639760954317, 'alpha_2': 0.24481238406121764, 'alpha_3': 0.8132648816339686, 'alpha_4': 0.15742920043037575}. Best is trial 82 with value: 0.05099779336082066.\n"
     ]
    },
    {
     "name": "stdout",
     "output_type": "stream",
     "text": [
      "EvaluatorHoldout: Processed 10473 (100.0%) in 13.10 sec. Users per second: 799\n",
      "EvaluatorHoldout: Processed 10488 (100.0%) in 13.31 sec. Users per second: 788\n",
      "EvaluatorHoldout: Processed 10440 (100.0%) in 13.30 sec. Users per second: 785\n",
      "EvaluatorHoldout: Processed 10493 (100.0%) in 13.35 sec. Users per second: 786\n",
      "EvaluatorHoldout: Processed 10444 (100.0%) in 13.52 sec. Users per second: 772\n",
      "EvaluatorHoldout: Processed 10472 (100.0%) in 13.58 sec. Users per second: 771\n",
      "EvaluatorHoldout: Processed 10467 (100.0%) in 13.73 sec. Users per second: 762\n",
      "EvaluatorHoldout: Processed 10448 (100.0%) in 13.90 sec. Users per second: 752\n"
     ]
    },
    {
     "name": "stderr",
     "output_type": "stream",
     "text": [
      "[I 2024-01-08 15:42:51,576] Trial 95 finished with value: 0.050472297778610085 and parameters: {'alpha_0': 0.2996637132894785, 'alpha_1': 0.8698901954489826, 'alpha_2': 0.2001086584755139, 'alpha_3': 0.7287936217099058, 'alpha_4': 0.23977888098565175}. Best is trial 82 with value: 0.05099779336082066.\n"
     ]
    },
    {
     "name": "stdout",
     "output_type": "stream",
     "text": [
      "EvaluatorHoldout: Processed 10493 (100.0%) in 13.55 sec. Users per second: 774\n",
      "EvaluatorHoldout: Processed 10473 (100.0%) in 13.63 sec. Users per second: 768\n",
      "EvaluatorHoldout: Processed 10444 (100.0%) in 13.65 sec. Users per second: 765\n",
      "EvaluatorHoldout: Processed 10448 (100.0%) in 13.84 sec. Users per second: 755EvaluatorHoldout: Processed 10467 (100.0%) in 13.75 sec. Users per second: 761\n",
      "\n",
      "EvaluatorHoldout: Processed 10472 (100.0%) in 14.03 sec. Users per second: 746\n",
      "EvaluatorHoldout: Processed 10488 (100.0%) in 14.12 sec. Users per second: 743\n",
      "EvaluatorHoldout: Processed 10440 (100.0%) in 14.11 sec. Users per second: 740\n"
     ]
    },
    {
     "name": "stderr",
     "output_type": "stream",
     "text": [
      "[I 2024-01-08 15:43:05,904] Trial 96 finished with value: 0.05021462819784009 and parameters: {'alpha_0': 0.1468261190500845, 'alpha_1': 0.9975427709036101, 'alpha_2': 0.5397936993707514, 'alpha_3': 0.6892740638563404, 'alpha_4': 0.27052608111590243}. Best is trial 82 with value: 0.05099779336082066.\n"
     ]
    },
    {
     "name": "stdout",
     "output_type": "stream",
     "text": [
      "EvaluatorHoldout: Processed 10444 (100.0%) in 12.94 sec. Users per second: 807\n",
      "EvaluatorHoldout: Processed 10472 (100.0%) in 13.02 sec. Users per second: 804\n",
      "EvaluatorHoldout: Processed 10440 (100.0%) in 12.96 sec. Users per second: 806\n",
      "EvaluatorHoldout: Processed 10467 (100.0%) in 13.13 sec. Users per second: 797\n",
      "EvaluatorHoldout: Processed 10473 (100.0%) in 13.40 sec. Users per second: 781\n",
      "EvaluatorHoldout: Processed 10493 (100.0%) in 13.36 sec. Users per second: 786\n",
      "EvaluatorHoldout: Processed 10488 (100.0%) in 13.43 sec. Users per second: 781\n",
      "EvaluatorHoldout: Processed 10448 (100.0%) in 13.69 sec. Users per second: 763\n"
     ]
    },
    {
     "name": "stderr",
     "output_type": "stream",
     "text": [
      "[I 2024-01-08 15:43:19,774] Trial 97 finished with value: 0.05031374340894462 and parameters: {'alpha_0': 0.36935555759431554, 'alpha_1': 0.9651082258473025, 'alpha_2': 0.305598922531386, 'alpha_3': 0.7186826118115857, 'alpha_4': 0.21878438446316323}. Best is trial 82 with value: 0.05099779336082066.\n"
     ]
    },
    {
     "name": "stdout",
     "output_type": "stream",
     "text": [
      "EvaluatorHoldout: Processed 10440 (100.0%) in 13.12 sec. Users per second: 796\n",
      "EvaluatorHoldout: Processed 10448 (100.0%) in 13.27 sec. Users per second: 787\n",
      "EvaluatorHoldout: Processed 10444 (100.0%) in 13.42 sec. Users per second: 778\n",
      "EvaluatorHoldout: Processed 10467 (100.0%) in 13.67 sec. Users per second: 766\n",
      "EvaluatorHoldout: Processed 10488 (100.0%) in 13.85 sec. Users per second: 757\n",
      "EvaluatorHoldout: Processed 10473 (100.0%) in 13.88 sec. Users per second: 754\n",
      "EvaluatorHoldout: Processed 10493 (100.0%) in 13.83 sec. Users per second: 759\n",
      "EvaluatorHoldout: Processed 10472 (100.0%) in 13.99 sec. Users per second: 748\n"
     ]
    },
    {
     "name": "stderr",
     "output_type": "stream",
     "text": [
      "[I 2024-01-08 15:43:33,943] Trial 98 finished with value: 0.05082997587889185 and parameters: {'alpha_0': 0.19267411687503255, 'alpha_1': 0.9286335013020972, 'alpha_2': 0.19576956469762408, 'alpha_3': 0.77088355437806, 'alpha_4': 0.13961545976454476}. Best is trial 82 with value: 0.05099779336082066.\n"
     ]
    },
    {
     "name": "stdout",
     "output_type": "stream",
     "text": [
      "EvaluatorHoldout: Processed 10488 (100.0%) in 12.73 sec. Users per second: 824\n",
      "EvaluatorHoldout: Processed 10472 (100.0%) in 12.90 sec. Users per second: 812\n",
      "EvaluatorHoldout: Processed 10444 (100.0%) in 12.99 sec. Users per second: 804\n",
      "EvaluatorHoldout: Processed 10467 (100.0%) in 13.06 sec. Users per second: 801\n",
      "EvaluatorHoldout: Processed 10493 (100.0%) in 13.31 sec. Users per second: 789\n",
      "EvaluatorHoldout: Processed 10448 (100.0%) in 13.39 sec. Users per second: 780\n",
      "EvaluatorHoldout: Processed 10440 (100.0%) in 13.34 sec. Users per second: 783\n",
      "EvaluatorHoldout: Processed 10473 (100.0%) in 13.75 sec. Users per second: 762\n"
     ]
    },
    {
     "name": "stderr",
     "output_type": "stream",
     "text": [
      "[I 2024-01-08 15:43:47,887] Trial 99 finished with value: 0.050557444038368766 and parameters: {'alpha_0': 0.24891593462876332, 'alpha_1': 0.8558920704836938, 'alpha_2': 0.2757548981666018, 'alpha_3': 0.829122914280505, 'alpha_4': 0.0594963477961285}. Best is trial 82 with value: 0.05099779336082066.\n"
     ]
    },
    {
     "name": "stdout",
     "output_type": "stream",
     "text": [
      "EvaluatorHoldout: Processed 10440 (100.0%) in 12.72 sec. Users per second: 821\n",
      "EvaluatorHoldout: Processed 10473 (100.0%) in 13.29 sec. Users per second: 788\n",
      "EvaluatorHoldout: Processed 10467 (100.0%) in 13.35 sec. Users per second: 784\n",
      "EvaluatorHoldout: Processed 10488 (100.0%) in 13.57 sec. Users per second: 773\n",
      "EvaluatorHoldout: Processed 10448 (100.0%) in 13.75 sec. Users per second: 760\n",
      "EvaluatorHoldout: Processed 10493 (100.0%) in 13.73 sec. Users per second: 764\n",
      "EvaluatorHoldout: Processed 10472 (100.0%) in 13.86 sec. Users per second: 755\n",
      "EvaluatorHoldout: Processed 10444 (100.0%) in 14.06 sec. Users per second: 743\n"
     ]
    },
    {
     "name": "stderr",
     "output_type": "stream",
     "text": [
      "[I 2024-01-08 15:44:02,142] Trial 100 finished with value: 0.05091850159052182 and parameters: {'alpha_0': 0.1379610951803061, 'alpha_1': 0.8982219221039023, 'alpha_2': 0.22171049035196677, 'alpha_3': 0.8455947024659892, 'alpha_4': 0.2812314684448262}. Best is trial 82 with value: 0.05099779336082066.\n"
     ]
    },
    {
     "name": "stdout",
     "output_type": "stream",
     "text": [
      "EvaluatorHoldout: Processed 10440 (100.0%) in 13.11 sec. Users per second: 796\n",
      "EvaluatorHoldout: Processed 10444 (100.0%) in 13.35 sec. Users per second: 783\n",
      "EvaluatorHoldout: Processed 10467 (100.0%) in 13.44 sec. Users per second: 779\n",
      "EvaluatorHoldout: Processed 10473 (100.0%) in 13.85 sec. Users per second: 756\n",
      "EvaluatorHoldout: Processed 10472 (100.0%) in 13.86 sec. Users per second: 756\n",
      "EvaluatorHoldout: Processed 10488 (100.0%) in 13.92 sec. Users per second: 753\n",
      "EvaluatorHoldout: Processed 10448 (100.0%) in 13.95 sec. Users per second: 749\n",
      "EvaluatorHoldout: Processed 10493 (100.0%) in 13.96 sec. Users per second: 752\n"
     ]
    },
    {
     "name": "stderr",
     "output_type": "stream",
     "text": [
      "[I 2024-01-08 15:44:16,345] Trial 101 finished with value: 0.050608030226625196 and parameters: {'alpha_0': 0.1664195075104859, 'alpha_1': 0.8852823582744216, 'alpha_2': 0.1745789781247658, 'alpha_3': 0.21229800226296025, 'alpha_4': 0.3177129446261745}. Best is trial 82 with value: 0.05099779336082066.\n"
     ]
    },
    {
     "name": "stdout",
     "output_type": "stream",
     "text": [
      "EvaluatorHoldout: Processed 10444 (100.0%) in 13.17 sec. Users per second: 793\n",
      "EvaluatorHoldout: Processed 10473 (100.0%) in 13.60 sec. Users per second: 770\n",
      "EvaluatorHoldout: Processed 10467 (100.0%) in 13.61 sec. Users per second: 769\n",
      "EvaluatorHoldout: Processed 10488 (100.0%) in 13.80 sec. Users per second: 760\n",
      "EvaluatorHoldout: Processed 10448 (100.0%) in 13.83 sec. Users per second: 756\n",
      "EvaluatorHoldout: Processed 10493 (100.0%) in 13.85 sec. Users per second: 758\n",
      "EvaluatorHoldout: Processed 10440 (100.0%) in 13.89 sec. Users per second: 752\n",
      "EvaluatorHoldout: Processed 10472 (100.0%) in 14.19 sec. Users per second: 738\n"
     ]
    },
    {
     "name": "stderr",
     "output_type": "stream",
     "text": [
      "[I 2024-01-08 15:44:30,708] Trial 102 finished with value: 0.050911453145777344 and parameters: {'alpha_0': 0.12809299453895687, 'alpha_1': 0.9748535705235454, 'alpha_2': 0.26674192999647284, 'alpha_3': 0.8846602582857362, 'alpha_4': 0.22397150793272164}. Best is trial 82 with value: 0.05099779336082066.\n"
     ]
    },
    {
     "name": "stdout",
     "output_type": "stream",
     "text": [
      "EvaluatorHoldout: Processed 10488 (100.0%) in 13.01 sec. Users per second: 806\n",
      "EvaluatorHoldout: Processed 10440 (100.0%) in 13.05 sec. Users per second: 800\n",
      "EvaluatorHoldout: Processed 10444 (100.0%) in 13.36 sec. Users per second: 781\n",
      "EvaluatorHoldout: Processed 10472 (100.0%) in 13.50 sec. Users per second: 776\n",
      "EvaluatorHoldout: Processed 10448 (100.0%) in 13.53 sec. Users per second: 772\n",
      "EvaluatorHoldout: Processed 10493 (100.0%) in 13.50 sec. Users per second: 777\n",
      "EvaluatorHoldout: Processed 10467 (100.0%) in 13.61 sec. Users per second: 769\n",
      "EvaluatorHoldout: Processed 10473 (100.0%) in 13.85 sec. Users per second: 756\n"
     ]
    },
    {
     "name": "stderr",
     "output_type": "stream",
     "text": [
      "[I 2024-01-08 15:44:44,734] Trial 103 finished with value: 0.05074646651872031 and parameters: {'alpha_0': 0.22167965909794138, 'alpha_1': 0.9255344536244334, 'alpha_2': 0.23989640185948233, 'alpha_3': 0.8095272327315632, 'alpha_4': 0.20633239210826626}. Best is trial 82 with value: 0.05099779336082066.\n"
     ]
    },
    {
     "name": "stdout",
     "output_type": "stream",
     "text": [
      "EvaluatorHoldout: Processed 10440 (100.0%) in 13.04 sec. Users per second: 801\n",
      "EvaluatorHoldout: Processed 10448 (100.0%) in 13.29 sec. Users per second: 786\n",
      "EvaluatorHoldout: Processed 10467 (100.0%) in 13.27 sec. Users per second: 789\n",
      "EvaluatorHoldout: Processed 10473 (100.0%) in 13.39 sec. Users per second: 782\n",
      "EvaluatorHoldout: Processed 10444 (100.0%) in 13.41 sec. Users per second: 779\n",
      "EvaluatorHoldout: Processed 10488 (100.0%) in 13.65 sec. Users per second: 768\n",
      "EvaluatorHoldout: Processed 10493 (100.0%) in 13.64 sec. Users per second: 769\n",
      "EvaluatorHoldout: Processed 10472 (100.0%) in 13.96 sec. Users per second: 750\n"
     ]
    },
    {
     "name": "stderr",
     "output_type": "stream",
     "text": [
      "[I 2024-01-08 15:44:58,882] Trial 104 finished with value: 0.05092206314357173 and parameters: {'alpha_0': 0.10646309727576381, 'alpha_1': 0.8644537353431281, 'alpha_2': 0.19592026458709957, 'alpha_3': 0.7877744762166361, 'alpha_4': 0.24968769535824797}. Best is trial 82 with value: 0.05099779336082066.\n"
     ]
    },
    {
     "name": "stdout",
     "output_type": "stream",
     "text": [
      "EvaluatorHoldout: Processed 10493 (100.0%) in 13.25 sec. Users per second: 792\n",
      "EvaluatorHoldout: Processed 10440 (100.0%) in 13.81 sec. Users per second: 756\n",
      "EvaluatorHoldout: Processed 10444 (100.0%) in 13.97 sec. Users per second: 748\n",
      "EvaluatorHoldout: Processed 10472 (100.0%) in 14.04 sec. Users per second: 746\n",
      "EvaluatorHoldout: Processed 10467 (100.0%) in 14.24 sec. Users per second: 735\n",
      "EvaluatorHoldout: Processed 10473 (100.0%) in 14.34 sec. Users per second: 730\n",
      "EvaluatorHoldout: Processed 10488 (100.0%) in 14.41 sec. Users per second: 728\n",
      "EvaluatorHoldout: Processed 10448 (100.0%) in 14.52 sec. Users per second: 720\n"
     ]
    },
    {
     "name": "stderr",
     "output_type": "stream",
     "text": [
      "[I 2024-01-08 15:45:13,598] Trial 105 finished with value: 0.050882815971797356 and parameters: {'alpha_0': 0.15927807676296207, 'alpha_1': 0.8565249752179198, 'alpha_2': 0.2120792623385868, 'alpha_3': 0.7852110733118672, 'alpha_4': 0.25068527990125344}. Best is trial 82 with value: 0.05099779336082066.\n"
     ]
    },
    {
     "name": "stdout",
     "output_type": "stream",
     "text": [
      "EvaluatorHoldout: Processed 10473 (100.0%) in 13.38 sec. Users per second: 783\n",
      "EvaluatorHoldout: Processed 10488 (100.0%) in 13.43 sec. Users per second: 781\n",
      "EvaluatorHoldout: Processed 10472 (100.0%) in 13.59 sec. Users per second: 771\n",
      "EvaluatorHoldout: Processed 10467 (100.0%) in 13.75 sec. Users per second: 761\n",
      "EvaluatorHoldout: Processed 10440 (100.0%) in 13.80 sec. Users per second: 756\n",
      "EvaluatorHoldout: Processed 10448 (100.0%) in 13.92 sec. Users per second: 751\n",
      "EvaluatorHoldout: Processed 10444 (100.0%) in 14.06 sec. Users per second: 743\n",
      "EvaluatorHoldout: Processed 10493 (100.0%) in 14.20 sec. Users per second: 739\n"
     ]
    },
    {
     "name": "stderr",
     "output_type": "stream",
     "text": [
      "[I 2024-01-08 15:45:28,035] Trial 106 finished with value: 0.050939466772118906 and parameters: {'alpha_0': 0.11347739217891645, 'alpha_1': 0.8376803202459988, 'alpha_2': 0.19052475548348582, 'alpha_3': 0.7461350200809286, 'alpha_4': 0.30563858735445454}. Best is trial 82 with value: 0.05099779336082066.\n"
     ]
    },
    {
     "name": "stdout",
     "output_type": "stream",
     "text": [
      "EvaluatorHoldout: Processed 10467 (100.0%) in 13.24 sec. Users per second: 791\n",
      "EvaluatorHoldout: Processed 10472 (100.0%) in 13.53 sec. Users per second: 774\n",
      "EvaluatorHoldout: Processed 10473 (100.0%) in 13.74 sec. Users per second: 762\n",
      "EvaluatorHoldout: Processed 10448 (100.0%) in 13.77 sec. Users per second: 759\n",
      "EvaluatorHoldout: Processed 10493 (100.0%) in 13.77 sec. Users per second: 762\n",
      "EvaluatorHoldout: Processed 10444 (100.0%) in 13.90 sec. Users per second: 751\n",
      "EvaluatorHoldout: Processed 10440 (100.0%) in 14.05 sec. Users per second: 743\n",
      "EvaluatorHoldout: Processed 10488 (100.0%) in 14.18 sec. Users per second: 740\n"
     ]
    },
    {
     "name": "stderr",
     "output_type": "stream",
     "text": [
      "[I 2024-01-08 15:45:42,387] Trial 107 finished with value: 0.0507846975909453 and parameters: {'alpha_0': 0.19199102839124332, 'alpha_1': 0.9453257385414249, 'alpha_2': 0.24405432296524565, 'alpha_3': 0.7470944521239903, 'alpha_4': 0.31001285712719373}. Best is trial 82 with value: 0.05099779336082066.\n"
     ]
    },
    {
     "name": "stdout",
     "output_type": "stream",
     "text": [
      "EvaluatorHoldout: Processed 10444 (100.0%) in 13.24 sec. Users per second: 789\n",
      "EvaluatorHoldout: Processed 10488 (100.0%) in 13.27 sec. Users per second: 790\n",
      "EvaluatorHoldout: Processed 10472 (100.0%) in 13.37 sec. Users per second: 783EvaluatorHoldout: Processed 10448 (100.0%) in 13.38 sec. Users per second: 781\n",
      "\n",
      "EvaluatorHoldout: Processed 10493 (100.0%) in 13.45 sec. Users per second: 780\n",
      "EvaluatorHoldout: Processed 10440 (100.0%) in 13.70 sec. Users per second: 762\n",
      "EvaluatorHoldout: Processed 10473 (100.0%) in 13.81 sec. Users per second: 759\n",
      "EvaluatorHoldout: Processed 10467 (100.0%) in 13.88 sec. Users per second: 754\n"
     ]
    },
    {
     "name": "stderr",
     "output_type": "stream",
     "text": [
      "[I 2024-01-08 15:45:56,474] Trial 108 finished with value: 0.05070511341982212 and parameters: {'alpha_0': 0.047527141683986106, 'alpha_1': 0.8356942323815488, 'alpha_2': 0.30085625312261577, 'alpha_3': 0.8658459512192678, 'alpha_4': 0.17265498553499042}. Best is trial 82 with value: 0.05099779336082066.\n"
     ]
    },
    {
     "name": "stdout",
     "output_type": "stream",
     "text": [
      "EvaluatorHoldout: Processed 10472 (100.0%) in 13.08 sec. Users per second: 800\n",
      "EvaluatorHoldout: Processed 10444 (100.0%) in 13.20 sec. Users per second: 791\n",
      "EvaluatorHoldout: Processed 10473 (100.0%) in 13.26 sec. Users per second: 790\n",
      "EvaluatorHoldout: Processed 10493 (100.0%) in 13.43 sec. Users per second: 781\n",
      "EvaluatorHoldout: Processed 10488 (100.0%) in 13.63 sec. Users per second: 770\n",
      "EvaluatorHoldout: Processed 10448 (100.0%) in 13.73 sec. Users per second: 761\n",
      "EvaluatorHoldout: Processed 10440 (100.0%) in 13.73 sec. Users per second: 760\n",
      "EvaluatorHoldout: Processed 10467 (100.0%) in 13.80 sec. Users per second: 759\n"
     ]
    },
    {
     "name": "stderr",
     "output_type": "stream",
     "text": [
      "[I 2024-01-08 15:46:10,490] Trial 109 finished with value: 0.050650076122004145 and parameters: {'alpha_0': 0.1315357591363147, 'alpha_1': 0.9779750078668512, 'alpha_2': 0.35024624800000487, 'alpha_3': 0.605310105855772, 'alpha_4': 0.3394299182984194}. Best is trial 82 with value: 0.05099779336082066.\n"
     ]
    },
    {
     "name": "stdout",
     "output_type": "stream",
     "text": [
      "EvaluatorHoldout: Processed 10444 (100.0%) in 12.99 sec. Users per second: 804\n",
      "EvaluatorHoldout: Processed 10488 (100.0%) in 13.31 sec. Users per second: 788\n",
      "EvaluatorHoldout: Processed 10472 (100.0%) in 13.61 sec. Users per second: 769\n",
      "EvaluatorHoldout: Processed 10493 (100.0%) in 13.53 sec. Users per second: 775\n",
      "EvaluatorHoldout: Processed 10440 (100.0%) in 13.67 sec. Users per second: 764\n",
      "EvaluatorHoldout: Processed 10473 (100.0%) in 13.90 sec. Users per second: 754\n",
      "EvaluatorHoldout: Processed 10467 (100.0%) in 13.99 sec. Users per second: 748\n",
      "EvaluatorHoldout: Processed 10448 (100.0%) in 14.10 sec. Users per second: 741\n"
     ]
    },
    {
     "name": "stderr",
     "output_type": "stream",
     "text": [
      "[I 2024-01-08 15:46:24,767] Trial 110 finished with value: 0.04983040756466407 and parameters: {'alpha_0': 0.019746434197617707, 'alpha_1': 0.8900447245807125, 'alpha_2': 0.1286545782181637, 'alpha_3': 0.017723560176125308, 'alpha_4': 0.9223589113241296}. Best is trial 82 with value: 0.05099779336082066.\n"
     ]
    },
    {
     "name": "stdout",
     "output_type": "stream",
     "text": [
      "EvaluatorHoldout: Processed 10472 (100.0%) in 12.89 sec. Users per second: 813\n",
      "EvaluatorHoldout: Processed 10444 (100.0%) in 12.92 sec. Users per second: 808\n",
      "EvaluatorHoldout: Processed 10488 (100.0%) in 12.97 sec. Users per second: 809\n",
      "EvaluatorHoldout: Processed 10448 (100.0%) in 13.07 sec. Users per second: 799\n",
      "EvaluatorHoldout: Processed 10473 (100.0%) in 13.35 sec. Users per second: 784\n",
      "EvaluatorHoldout: Processed 10493 (100.0%) in 13.46 sec. Users per second: 779\n",
      "EvaluatorHoldout: Processed 10440 (100.0%) in 13.47 sec. Users per second: 775\n",
      "EvaluatorHoldout: Processed 10467 (100.0%) in 13.70 sec. Users per second: 764\n"
     ]
    },
    {
     "name": "stderr",
     "output_type": "stream",
     "text": [
      "[I 2024-01-08 15:46:38,704] Trial 111 finished with value: 0.05092154851947381 and parameters: {'alpha_0': 0.10720348879601277, 'alpha_1': 0.8670739260248765, 'alpha_2': 0.19613042598718744, 'alpha_3': 0.7775424266716433, 'alpha_4': 0.23957079014830007}. Best is trial 82 with value: 0.05099779336082066.\n"
     ]
    },
    {
     "name": "stdout",
     "output_type": "stream",
     "text": [
      "EvaluatorHoldout: Processed 10473 (100.0%) in 12.64 sec. Users per second: 829\n",
      "EvaluatorHoldout: Processed 10440 (100.0%) in 12.58 sec. Users per second: 830\n",
      "EvaluatorHoldout: Processed 10444 (100.0%) in 12.79 sec. Users per second: 817\n",
      "EvaluatorHoldout: Processed 10488 (100.0%) in 12.82 sec. Users per second: 818\n",
      "EvaluatorHoldout: Processed 10448 (100.0%) in 13.02 sec. Users per second: 802\n",
      "EvaluatorHoldout: Processed 10472 (100.0%) in 13.10 sec. Users per second: 799\n",
      "EvaluatorHoldout: Processed 10467 (100.0%) in 13.01 sec. Users per second: 804\n",
      "EvaluatorHoldout: Processed 10493 (100.0%) in 13.37 sec. Users per second: 785\n"
     ]
    },
    {
     "name": "stderr",
     "output_type": "stream",
     "text": [
      "[I 2024-01-08 15:46:52,301] Trial 112 finished with value: 0.050957013790380035 and parameters: {'alpha_0': 0.11209703370960832, 'alpha_1': 0.9152978603801185, 'alpha_2': 0.1657213322031974, 'alpha_3': 0.70671869021297, 'alpha_4': 0.27909345344139713}. Best is trial 82 with value: 0.05099779336082066.\n"
     ]
    },
    {
     "name": "stdout",
     "output_type": "stream",
     "text": [
      "EvaluatorHoldout: Processed 10488 (100.0%) in 12.84 sec. Users per second: 817\n",
      "EvaluatorHoldout: Processed 10467 (100.0%) in 12.93 sec. Users per second: 810\n",
      "EvaluatorHoldout: Processed 10473 (100.0%) in 13.27 sec. Users per second: 789\n",
      "EvaluatorHoldout: Processed 10472 (100.0%) in 13.36 sec. Users per second: 784\n",
      "EvaluatorHoldout: Processed 10440 (100.0%) in 13.31 sec. Users per second: 784\n",
      "EvaluatorHoldout: Processed 10444 (100.0%) in 13.44 sec. Users per second: 777\n",
      "EvaluatorHoldout: Processed 10448 (100.0%) in 13.68 sec. Users per second: 764\n",
      "EvaluatorHoldout: Processed 10493 (100.0%) in 13.94 sec. Users per second: 753\n"
     ]
    },
    {
     "name": "stderr",
     "output_type": "stream",
     "text": [
      "[I 2024-01-08 15:47:06,442] Trial 113 finished with value: 0.05096977319760693 and parameters: {'alpha_0': 0.08280809243896603, 'alpha_1': 0.9180637716143627, 'alpha_2': 0.1700619659736066, 'alpha_3': 0.6730985658634736, 'alpha_4': 0.28325771271351396}. Best is trial 82 with value: 0.05099779336082066.\n"
     ]
    },
    {
     "name": "stdout",
     "output_type": "stream",
     "text": [
      "EvaluatorHoldout: Processed 10493 (100.0%) in 12.46 sec. Users per second: 842\n",
      "EvaluatorHoldout: Processed 10467 (100.0%) in 12.53 sec. Users per second: 836\n",
      "EvaluatorHoldout: Processed 10488 (100.0%) in 12.65 sec. Users per second: 829\n",
      "EvaluatorHoldout: Processed 10472 (100.0%) in 12.93 sec. Users per second: 810\n",
      "EvaluatorHoldout: Processed 10444 (100.0%) in 12.99 sec. Users per second: 804\n",
      "EvaluatorHoldout: Processed 10473 (100.0%) in 13.16 sec. Users per second: 796\n",
      "EvaluatorHoldout: Processed 10448 (100.0%) in 13.29 sec. Users per second: 786\n",
      "EvaluatorHoldout: Processed 10440 (100.0%) in 13.62 sec. Users per second: 767\n"
     ]
    },
    {
     "name": "stderr",
     "output_type": "stream",
     "text": [
      "[I 2024-01-08 15:47:20,264] Trial 114 finished with value: 0.05095963715566978 and parameters: {'alpha_0': 0.07609331473190442, 'alpha_1': 0.9193861810053859, 'alpha_2': 0.1632387827963072, 'alpha_3': 0.6395168870135588, 'alpha_4': 0.28552686319995696}. Best is trial 82 with value: 0.05099779336082066.\n"
     ]
    },
    {
     "name": "stdout",
     "output_type": "stream",
     "text": [
      "EvaluatorHoldout: Processed 10493 (100.0%) in 13.16 sec. Users per second: 797\n",
      "EvaluatorHoldout: Processed 10488 (100.0%) in 13.44 sec. Users per second: 780\n",
      "EvaluatorHoldout: Processed 10440 (100.0%) in 13.43 sec. Users per second: 778\n",
      "EvaluatorHoldout: Processed 10472 (100.0%) in 13.62 sec. Users per second: 769\n",
      "EvaluatorHoldout: Processed 10473 (100.0%) in 13.64 sec. Users per second: 768\n",
      "EvaluatorHoldout: Processed 10467 (100.0%) in 13.74 sec. Users per second: 762\n",
      "EvaluatorHoldout: Processed 10448 (100.0%) in 13.89 sec. Users per second: 752\n",
      "EvaluatorHoldout: Processed 10444 (100.0%) in 13.93 sec. Users per second: 750\n"
     ]
    },
    {
     "name": "stderr",
     "output_type": "stream",
     "text": [
      "[I 2024-01-08 15:47:34,377] Trial 115 finished with value: 0.050968024843930405 and parameters: {'alpha_0': 0.07890340874811368, 'alpha_1': 0.9397471665349723, 'alpha_2': 0.16742360594206876, 'alpha_3': 0.6369753502412833, 'alpha_4': 0.2849395993755867}. Best is trial 82 with value: 0.05099779336082066.\n"
     ]
    },
    {
     "name": "stdout",
     "output_type": "stream",
     "text": [
      "EvaluatorHoldout: Processed 10473 (100.0%) in 12.62 sec. Users per second: 830\n",
      "EvaluatorHoldout: Processed 10444 (100.0%) in 12.72 sec. Users per second: 821\n",
      "EvaluatorHoldout: Processed 10472 (100.0%) in 12.80 sec. Users per second: 818\n",
      "EvaluatorHoldout: Processed 10488 (100.0%) in 13.13 sec. Users per second: 799\n",
      "EvaluatorHoldout: Processed 10448 (100.0%) in 13.17 sec. Users per second: 794\n",
      "EvaluatorHoldout: Processed 10493 (100.0%) in 13.18 sec. Users per second: 796\n",
      "EvaluatorHoldout: Processed 10467 (100.0%) in 13.32 sec. Users per second: 786\n",
      "EvaluatorHoldout: Processed 10440 (100.0%) in 13.48 sec. Users per second: 775\n"
     ]
    },
    {
     "name": "stderr",
     "output_type": "stream",
     "text": [
      "[I 2024-01-08 15:47:48,075] Trial 116 finished with value: 0.050957002477597685 and parameters: {'alpha_0': 0.08365952417585905, 'alpha_1': 0.915365421998514, 'alpha_2': 0.1681456884232166, 'alpha_3': 0.6373397339947402, 'alpha_4': 0.3340666888375469}. Best is trial 82 with value: 0.05099779336082066.\n"
     ]
    },
    {
     "name": "stdout",
     "output_type": "stream",
     "text": [
      "EvaluatorHoldout: Processed 10473 (100.0%) in 13.15 sec. Users per second: 796\n",
      "EvaluatorHoldout: Processed 10440 (100.0%) in 13.08 sec. Users per second: 798\n",
      "EvaluatorHoldout: Processed 10444 (100.0%) in 13.17 sec. Users per second: 793\n",
      "EvaluatorHoldout: Processed 10472 (100.0%) in 13.20 sec. Users per second: 793\n",
      "EvaluatorHoldout: Processed 10467 (100.0%) in 13.45 sec. Users per second: 778\n",
      "EvaluatorHoldout: Processed 10488 (100.0%) in 13.61 sec. Users per second: 770\n",
      "EvaluatorHoldout: Processed 10448 (100.0%) in 13.63 sec. Users per second: 767\n",
      "EvaluatorHoldout: Processed 10493 (100.0%) in 13.77 sec. Users per second: 762\n"
     ]
    },
    {
     "name": "stderr",
     "output_type": "stream",
     "text": [
      "[I 2024-01-08 15:48:02,063] Trial 117 finished with value: 0.05095083647061993 and parameters: {'alpha_0': 0.07900754202282138, 'alpha_1': 0.9146798007306678, 'alpha_2': 0.17168671092799692, 'alpha_3': 0.6288938894892386, 'alpha_4': 0.2830974658836814}. Best is trial 82 with value: 0.05099779336082066.\n"
     ]
    },
    {
     "name": "stdout",
     "output_type": "stream",
     "text": [
      "EvaluatorHoldout: Processed 10444 (100.0%) in 13.52 sec. Users per second: 772\n",
      "EvaluatorHoldout: Processed 10448 (100.0%) in 13.77 sec. Users per second: 759\n",
      "EvaluatorHoldout: Processed 10488 (100.0%) in 13.99 sec. Users per second: 750\n",
      "EvaluatorHoldout: Processed 10493 (100.0%) in 13.97 sec. Users per second: 751\n",
      "EvaluatorHoldout: Processed 10473 (100.0%) in 14.15 sec. Users per second: 740\n",
      "EvaluatorHoldout: Processed 10472 (100.0%) in 14.19 sec. Users per second: 738\n",
      "EvaluatorHoldout: Processed 10440 (100.0%) in 14.22 sec. Users per second: 734\n",
      "EvaluatorHoldout: Processed 10467 (100.0%) in 14.24 sec. Users per second: 735\n"
     ]
    },
    {
     "name": "stderr",
     "output_type": "stream",
     "text": [
      "[I 2024-01-08 15:48:16,574] Trial 118 finished with value: 0.0509582246523255 and parameters: {'alpha_0': 0.051360454509622906, 'alpha_1': 0.9210997254294848, 'alpha_2': 0.08672465893722878, 'alpha_3': 0.6414753553323819, 'alpha_4': 0.2766304991161122}. Best is trial 82 with value: 0.05099779336082066.\n"
     ]
    },
    {
     "name": "stdout",
     "output_type": "stream",
     "text": [
      "EvaluatorHoldout: Processed 10472 (100.0%) in 12.66 sec. Users per second: 827\n",
      "EvaluatorHoldout: Processed 10440 (100.0%) in 12.81 sec. Users per second: 815\n",
      "EvaluatorHoldout: Processed 10444 (100.0%) in 13.07 sec. Users per second: 799\n",
      "EvaluatorHoldout: Processed 10473 (100.0%) in 13.12 sec. Users per second: 798\n",
      "EvaluatorHoldout: Processed 10488 (100.0%) in 13.16 sec. Users per second: 797\n",
      "EvaluatorHoldout: Processed 10493 (100.0%) in 13.28 sec. Users per second: 790\n",
      "EvaluatorHoldout: Processed 10467 (100.0%) in 13.29 sec. Users per second: 788\n",
      "EvaluatorHoldout: Processed 10448 (100.0%) in 13.55 sec. Users per second: 771\n"
     ]
    },
    {
     "name": "stderr",
     "output_type": "stream",
     "text": [
      "[I 2024-01-08 15:48:30,301] Trial 119 finished with value: 0.050947285428336625 and parameters: {'alpha_0': 0.05537918380722297, 'alpha_1': 0.9159163293152132, 'alpha_2': 0.08119686460345588, 'alpha_3': 0.645856864767685, 'alpha_4': 0.2760622534912351}. Best is trial 82 with value: 0.05099779336082066.\n"
     ]
    },
    {
     "name": "stdout",
     "output_type": "stream",
     "text": [
      "EvaluatorHoldout: Processed 10440 (100.0%) in 12.67 sec. Users per second: 824\n",
      "EvaluatorHoldout: Processed 10467 (100.0%) in 12.79 sec. Users per second: 818\n",
      "EvaluatorHoldout: Processed 10488 (100.0%) in 12.95 sec. Users per second: 810\n",
      "EvaluatorHoldout: Processed 10448 (100.0%) in 13.04 sec. Users per second: 801\n",
      "EvaluatorHoldout: Processed 10473 (100.0%) in 13.13 sec. Users per second: 798\n",
      "EvaluatorHoldout: Processed 10472 (100.0%) in 13.23 sec. Users per second: 792\n",
      "EvaluatorHoldout: Processed 10444 (100.0%) in 13.37 sec. Users per second: 781\n",
      "EvaluatorHoldout: Processed 10493 (100.0%) in 13.32 sec. Users per second: 788\n"
     ]
    },
    {
     "name": "stderr",
     "output_type": "stream",
     "text": [
      "[I 2024-01-08 15:48:43,875] Trial 120 finished with value: 0.05081738431039282 and parameters: {'alpha_0': 0.0006848108659365665, 'alpha_1': 0.9169787807816366, 'alpha_2': 0.06818777106766982, 'alpha_3': 0.6357375404505379, 'alpha_4': 0.28643946532345127}. Best is trial 82 with value: 0.05099779336082066.\n"
     ]
    },
    {
     "name": "stdout",
     "output_type": "stream",
     "text": [
      "EvaluatorHoldout: Processed 10473 (100.0%) in 12.77 sec. Users per second: 820\n",
      "EvaluatorHoldout: Processed 10493 (100.0%) in 12.76 sec. Users per second: 822\n",
      "EvaluatorHoldout: Processed 10467 (100.0%) in 12.77 sec. Users per second: 820\n",
      "EvaluatorHoldout: Processed 10448 (100.0%) in 13.11 sec. Users per second: 797\n",
      "EvaluatorHoldout: Processed 10444 (100.0%) in 13.19 sec. Users per second: 792\n",
      "EvaluatorHoldout: Processed 10488 (100.0%) in 13.26 sec. Users per second: 791\n",
      "EvaluatorHoldout: Processed 10440 (100.0%) in 13.24 sec. Users per second: 788\n",
      "EvaluatorHoldout: Processed 10472 (100.0%) in 13.39 sec. Users per second: 782\n"
     ]
    },
    {
     "name": "stderr",
     "output_type": "stream",
     "text": [
      "[I 2024-01-08 15:48:57,446] Trial 121 finished with value: 0.05097840752504302 and parameters: {'alpha_0': 0.05610898570105938, 'alpha_1': 0.9449637008305353, 'alpha_2': 0.08780715242689088, 'alpha_3': 0.6699373498803471, 'alpha_4': 0.2706902556103266}. Best is trial 82 with value: 0.05099779336082066.\n"
     ]
    },
    {
     "name": "stdout",
     "output_type": "stream",
     "text": [
      "EvaluatorHoldout: Processed 10440 (100.0%) in 12.61 sec. Users per second: 828\n",
      "EvaluatorHoldout: Processed 10448 (100.0%) in 12.95 sec. Users per second: 807\n",
      "EvaluatorHoldout: Processed 10444 (100.0%) in 12.97 sec. Users per second: 805\n",
      "EvaluatorHoldout: Processed 10473 (100.0%) in 13.10 sec. Users per second: 800\n",
      "EvaluatorHoldout: Processed 10467 (100.0%) in 13.15 sec. Users per second: 796\n",
      "EvaluatorHoldout: Processed 10472 (100.0%) in 13.33 sec. Users per second: 786\n",
      "EvaluatorHoldout: Processed 10493 (100.0%) in 13.28 sec. Users per second: 790\n",
      "EvaluatorHoldout: Processed 10488 (100.0%) in 13.41 sec. Users per second: 782\n"
     ]
    },
    {
     "name": "stderr",
     "output_type": "stream",
     "text": [
      "[I 2024-01-08 15:49:11,045] Trial 122 finished with value: 0.05088403911194137 and parameters: {'alpha_0': 0.04809852337380741, 'alpha_1': 0.9520721742503219, 'alpha_2': 0.020369981133546322, 'alpha_3': 0.6711880923072886, 'alpha_4': 0.273419286500235}. Best is trial 82 with value: 0.05099779336082066.\n"
     ]
    },
    {
     "name": "stdout",
     "output_type": "stream",
     "text": [
      "EvaluatorHoldout: Processed 10444 (100.0%) in 12.30 sec. Users per second: 849\n",
      "EvaluatorHoldout: Processed 10467 (100.0%) in 12.35 sec. Users per second: 848\n",
      "EvaluatorHoldout: Processed 10493 (100.0%) in 12.50 sec. Users per second: 839\n",
      "EvaluatorHoldout: Processed 10473 (100.0%) in 12.72 sec. Users per second: 824\n",
      "EvaluatorHoldout: Processed 10472 (100.0%) in 12.94 sec. Users per second: 809\n",
      "EvaluatorHoldout: Processed 10440 (100.0%) in 13.02 sec. Users per second: 802\n",
      "EvaluatorHoldout: Processed 10488 (100.0%) in 13.11 sec. Users per second: 800\n",
      "EvaluatorHoldout: Processed 10448 (100.0%) in 13.19 sec. Users per second: 792\n"
     ]
    },
    {
     "name": "stderr",
     "output_type": "stream",
     "text": [
      "[I 2024-01-08 15:49:24,414] Trial 123 finished with value: 0.05091043998023 and parameters: {'alpha_0': 0.074057884041109, 'alpha_1': 0.9850558893190503, 'alpha_2': 0.07623350998462447, 'alpha_3': 0.6403930282051765, 'alpha_4': 0.34958593126241366}. Best is trial 82 with value: 0.05099779336082066.\n"
     ]
    },
    {
     "name": "stdout",
     "output_type": "stream",
     "text": [
      "EvaluatorHoldout: Processed 10472 (100.0%) in 13.12 sec. Users per second: 798\n",
      "EvaluatorHoldout: Processed 10488 (100.0%) in 13.29 sec. Users per second: 789\n",
      "EvaluatorHoldout: Processed 10473 (100.0%) in 13.37 sec. Users per second: 784\n",
      "EvaluatorHoldout: Processed 10467 (100.0%) in 13.48 sec. Users per second: 777\n",
      "EvaluatorHoldout: Processed 10448 (100.0%) in 13.68 sec. Users per second: 764\n",
      "EvaluatorHoldout: Processed 10493 (100.0%) in 13.66 sec. Users per second: 768\n",
      "EvaluatorHoldout: Processed 10444 (100.0%) in 13.83 sec. Users per second: 755\n",
      "EvaluatorHoldout: Processed 10440 (100.0%) in 13.92 sec. Users per second: 750\n"
     ]
    },
    {
     "name": "stderr",
     "output_type": "stream",
     "text": [
      "[I 2024-01-08 15:49:38,544] Trial 124 finished with value: 0.05096862584498828 and parameters: {'alpha_0': 0.057327278544801616, 'alpha_1': 0.9335593916783966, 'alpha_2': 0.11653603184139556, 'alpha_3': 0.5450083226629141, 'alpha_4': 0.2983985832833069}. Best is trial 82 with value: 0.05099779336082066.\n"
     ]
    },
    {
     "name": "stdout",
     "output_type": "stream",
     "text": [
      "EvaluatorHoldout: Processed 10472 (100.0%) in 12.79 sec. Users per second: 819\n",
      "EvaluatorHoldout: Processed 10440 (100.0%) in 12.73 sec. Users per second: 820\n",
      "EvaluatorHoldout: Processed 10473 (100.0%) in 13.14 sec. Users per second: 797\n",
      "EvaluatorHoldout: Processed 10448 (100.0%) in 13.18 sec. Users per second: 793\n",
      "EvaluatorHoldout: Processed 10444 (100.0%) in 13.23 sec. Users per second: 789\n",
      "EvaluatorHoldout: Processed 10488 (100.0%) in 13.52 sec. Users per second: 776\n",
      "EvaluatorHoldout: Processed 10493 (100.0%) in 13.48 sec. Users per second: 778\n",
      "EvaluatorHoldout: Processed 10467 (100.0%) in 13.61 sec. Users per second: 769\n"
     ]
    },
    {
     "name": "stderr",
     "output_type": "stream",
     "text": [
      "[I 2024-01-08 15:49:52,365] Trial 125 finished with value: 0.05016867788563131 and parameters: {'alpha_0': 0.021260103160685183, 'alpha_1': 0.15493771029430803, 'alpha_2': 0.108016833589733, 'alpha_3': 0.5577695367359599, 'alpha_4': 0.3015426451688224}. Best is trial 82 with value: 0.05099779336082066.\n"
     ]
    },
    {
     "name": "stdout",
     "output_type": "stream",
     "text": [
      "EvaluatorHoldout: Processed 10472 (100.0%) in 12.78 sec. Users per second: 819\n",
      "EvaluatorHoldout: Processed 10440 (100.0%) in 12.87 sec. Users per second: 811\n",
      "EvaluatorHoldout: Processed 10488 (100.0%) in 13.11 sec. Users per second: 800\n",
      "EvaluatorHoldout: Processed 10448 (100.0%) in 13.30 sec. Users per second: 786\n",
      "EvaluatorHoldout: Processed 10444 (100.0%) in 13.34 sec. Users per second: 783\n",
      "EvaluatorHoldout: Processed 10473 (100.0%) in 13.50 sec. Users per second: 776\n",
      "EvaluatorHoldout: Processed 10493 (100.0%) in 13.43 sec. Users per second: 782\n",
      "EvaluatorHoldout: Processed 10467 (100.0%) in 13.63 sec. Users per second: 768\n"
     ]
    },
    {
     "name": "stderr",
     "output_type": "stream",
     "text": [
      "[I 2024-01-08 15:50:06,213] Trial 126 finished with value: 0.05096353102533289 and parameters: {'alpha_0': 0.07693043658759985, 'alpha_1': 0.9411978144091044, 'alpha_2': 0.12102860137626228, 'alpha_3': 0.5838390013043366, 'alpha_4': 0.3346050260836634}. Best is trial 82 with value: 0.05099779336082066.\n"
     ]
    },
    {
     "name": "stdout",
     "output_type": "stream",
     "text": [
      "EvaluatorHoldout: Processed 10467 (100.0%) in 12.69 sec. Users per second: 825\n",
      "EvaluatorHoldout: Processed 10444 (100.0%) in 12.81 sec. Users per second: 815\n",
      "EvaluatorHoldout: Processed 10473 (100.0%) in 12.94 sec. Users per second: 809\n",
      "EvaluatorHoldout: Processed 10440 (100.0%) in 12.83 sec. Users per second: 814\n",
      "EvaluatorHoldout: Processed 10472 (100.0%) in 13.20 sec. Users per second: 793\n",
      "EvaluatorHoldout: Processed 10493 (100.0%) in 13.24 sec. Users per second: 792\n",
      "EvaluatorHoldout: Processed 10448 (100.0%) in 13.36 sec. Users per second: 782\n",
      "EvaluatorHoldout: Processed 10488 (100.0%) in 13.50 sec. Users per second: 777\n"
     ]
    },
    {
     "name": "stderr",
     "output_type": "stream",
     "text": [
      "[I 2024-01-08 15:50:19,907] Trial 127 finished with value: 0.05095149213285328 and parameters: {'alpha_0': 0.052255524311656164, 'alpha_1': 0.9308905946413134, 'alpha_2': 0.12925575092371006, 'alpha_3': 0.5861306535064755, 'alpha_4': 0.32935137236105344}. Best is trial 82 with value: 0.05099779336082066.\n"
     ]
    },
    {
     "name": "stdout",
     "output_type": "stream",
     "text": [
      "EvaluatorHoldout: Processed 10473 (100.0%) in 13.18 sec. Users per second: 795\n",
      "EvaluatorHoldout: Processed 10488 (100.0%) in 13.31 sec. Users per second: 788\n",
      "EvaluatorHoldout: Processed 10472 (100.0%) in 13.45 sec. Users per second: 778\n",
      "EvaluatorHoldout: Processed 10444 (100.0%) in 13.51 sec. Users per second: 773\n",
      "EvaluatorHoldout: Processed 10448 (100.0%) in 13.52 sec. Users per second: 773\n",
      "EvaluatorHoldout: Processed 10440 (100.0%) in 13.62 sec. Users per second: 767\n",
      "EvaluatorHoldout: Processed 10467 (100.0%) in 13.77 sec. Users per second: 760\n",
      "EvaluatorHoldout: Processed 10493 (100.0%) in 13.90 sec. Users per second: 755\n"
     ]
    },
    {
     "name": "stderr",
     "output_type": "stream",
     "text": [
      "[I 2024-01-08 15:50:34,023] Trial 128 finished with value: 0.050732352522269396 and parameters: {'alpha_0': 0.024913931847160842, 'alpha_1': 0.9404339408152754, 'alpha_2': 0.053698384883510294, 'alpha_3': 0.4862507736812623, 'alpha_4': 0.39937565005293874}. Best is trial 82 with value: 0.05099779336082066.\n"
     ]
    },
    {
     "name": "stdout",
     "output_type": "stream",
     "text": [
      "EvaluatorHoldout: Processed 10473 (100.0%) in 13.01 sec. Users per second: 805\n",
      "EvaluatorHoldout: Processed 10488 (100.0%) in 13.16 sec. Users per second: 797\n",
      "EvaluatorHoldout: Processed 10444 (100.0%) in 13.31 sec. Users per second: 785\n",
      "EvaluatorHoldout: Processed 10448 (100.0%) in 13.47 sec. Users per second: 775\n",
      "EvaluatorHoldout: Processed 10467 (100.0%) in 13.61 sec. Users per second: 769EvaluatorHoldout: Processed 10440 (100.0%) in 13.61 sec. Users per second: 767\n",
      "\n",
      "EvaluatorHoldout: Processed 10493 (100.0%) in 13.75 sec. Users per second: 763\n",
      "EvaluatorHoldout: Processed 10472 (100.0%) in 14.10 sec. Users per second: 743\n"
     ]
    },
    {
     "name": "stderr",
     "output_type": "stream",
     "text": [
      "[I 2024-01-08 15:50:48,315] Trial 129 finished with value: 0.05094034171654552 and parameters: {'alpha_0': 0.05272684956127731, 'alpha_1': 0.9662549076639011, 'alpha_2': 0.13076994118486265, 'alpha_3': 0.5826784579408528, 'alpha_4': 0.33811285117672146}. Best is trial 82 with value: 0.05099779336082066.\n"
     ]
    },
    {
     "name": "stdout",
     "output_type": "stream",
     "text": [
      "EvaluatorHoldout: Processed 10472 (100.0%) in 12.81 sec. Users per second: 817\n",
      "EvaluatorHoldout: Processed 10440 (100.0%) in 13.03 sec. Users per second: 801\n",
      "EvaluatorHoldout: Processed 10444 (100.0%) in 13.21 sec. Users per second: 791\n",
      "EvaluatorHoldout: Processed 10467 (100.0%) in 13.23 sec. Users per second: 791\n",
      "EvaluatorHoldout: Processed 10488 (100.0%) in 13.38 sec. Users per second: 784\n",
      "EvaluatorHoldout: Processed 10473 (100.0%) in 13.51 sec. Users per second: 775\n",
      "EvaluatorHoldout: Processed 10448 (100.0%) in 13.87 sec. Users per second: 753\n",
      "EvaluatorHoldout: Processed 10493 (100.0%) in 13.89 sec. Users per second: 755\n"
     ]
    },
    {
     "name": "stderr",
     "output_type": "stream",
     "text": [
      "[I 2024-01-08 15:51:02,435] Trial 130 finished with value: 0.05085429250083175 and parameters: {'alpha_0': 0.035594219734225926, 'alpha_1': 0.9958836863414894, 'alpha_2': 0.09154697210092386, 'alpha_3': 0.5401842228290991, 'alpha_4': 0.33455687660801475}. Best is trial 82 with value: 0.05099779336082066.\n"
     ]
    },
    {
     "name": "stdout",
     "output_type": "stream",
     "text": [
      "EvaluatorHoldout: Processed 10440 (100.0%) in 13.09 sec. Users per second: 798\n",
      "EvaluatorHoldout: Processed 10493 (100.0%) in 13.16 sec. Users per second: 797\n",
      "EvaluatorHoldout: Processed 10472 (100.0%) in 13.28 sec. Users per second: 789\n",
      "EvaluatorHoldout: Processed 10444 (100.0%) in 13.45 sec. Users per second: 776\n",
      "EvaluatorHoldout: Processed 10467 (100.0%) in 13.48 sec. Users per second: 776\n",
      "EvaluatorHoldout: Processed 10488 (100.0%) in 13.68 sec. Users per second: 766\n",
      "EvaluatorHoldout: Processed 10473 (100.0%) in 13.81 sec. Users per second: 758\n",
      "EvaluatorHoldout: Processed 10448 (100.0%) in 13.92 sec. Users per second: 751\n"
     ]
    },
    {
     "name": "stderr",
     "output_type": "stream",
     "text": [
      "[I 2024-01-08 15:51:16,533] Trial 131 finished with value: 0.050991516984823196 and parameters: {'alpha_0': 0.0808308976335402, 'alpha_1': 0.9301881874643024, 'alpha_2': 0.11675970982204184, 'alpha_3': 0.6774657984364787, 'alpha_4': 0.29546319120497677}. Best is trial 82 with value: 0.05099779336082066.\n"
     ]
    },
    {
     "name": "stdout",
     "output_type": "stream",
     "text": [
      "EvaluatorHoldout: Processed 10472 (100.0%) in 13.10 sec. Users per second: 799\n",
      "EvaluatorHoldout: Processed 10448 (100.0%) in 13.32 sec. Users per second: 784\n",
      "EvaluatorHoldout: Processed 10473 (100.0%) in 13.36 sec. Users per second: 784\n",
      "EvaluatorHoldout: Processed 10440 (100.0%) in 13.46 sec. Users per second: 776\n",
      "EvaluatorHoldout: Processed 10444 (100.0%) in 13.61 sec. Users per second: 768\n",
      "EvaluatorHoldout: Processed 10488 (100.0%) in 13.77 sec. Users per second: 762\n",
      "EvaluatorHoldout: Processed 10467 (100.0%) in 13.77 sec. Users per second: 760\n",
      "EvaluatorHoldout: Processed 10493 (100.0%) in 13.80 sec. Users per second: 761\n"
     ]
    },
    {
     "name": "stderr",
     "output_type": "stream",
     "text": [
      "[I 2024-01-08 15:51:30,568] Trial 132 finished with value: 0.05098382637708561 and parameters: {'alpha_0': 0.06209126344007042, 'alpha_1': 0.9467783417002621, 'alpha_2': 0.11033872243390105, 'alpha_3': 0.598715444190526, 'alpha_4': 0.26084557004737263}. Best is trial 82 with value: 0.05099779336082066.\n"
     ]
    },
    {
     "name": "stdout",
     "output_type": "stream",
     "text": [
      "EvaluatorHoldout: Processed 10473 (100.0%) in 13.19 sec. Users per second: 794\n",
      "EvaluatorHoldout: Processed 10444 (100.0%) in 13.33 sec. Users per second: 784\n",
      "EvaluatorHoldout: Processed 10472 (100.0%) in 13.62 sec. Users per second: 769\n",
      "EvaluatorHoldout: Processed 10467 (100.0%) in 13.71 sec. Users per second: 764\n",
      "EvaluatorHoldout: Processed 10493 (100.0%) in 13.74 sec. Users per second: 764EvaluatorHoldout: Processed 10448 (100.0%) in 13.82 sec. Users per second: 756\n",
      "\n",
      "EvaluatorHoldout: Processed 10488 (100.0%) in 14.09 sec. Users per second: 744\n",
      "EvaluatorHoldout: Processed 10440 (100.0%) in 14.09 sec. Users per second: 741\n"
     ]
    },
    {
     "name": "stderr",
     "output_type": "stream",
     "text": [
      "[I 2024-01-08 15:51:44,903] Trial 133 finished with value: 0.05097626647104762 and parameters: {'alpha_0': 0.06454868707079671, 'alpha_1': 0.9363574219217414, 'alpha_2': 0.11071681836988412, 'alpha_3': 0.5984937981005214, 'alpha_4': 0.26193555615053726}. Best is trial 82 with value: 0.05099779336082066.\n"
     ]
    },
    {
     "name": "stdout",
     "output_type": "stream",
     "text": [
      "EvaluatorHoldout: Processed 10440 (100.0%) in 12.48 sec. Users per second: 837\n",
      "EvaluatorHoldout: Processed 10472 (100.0%) in 12.83 sec. Users per second: 816\n",
      "EvaluatorHoldout: Processed 10444 (100.0%) in 12.86 sec. Users per second: 812\n",
      "EvaluatorHoldout: Processed 10467 (100.0%) in 12.76 sec. Users per second: 820EvaluatorHoldout: Processed 10448 (100.0%) in 12.94 sec. Users per second: 807\n",
      "\n",
      "EvaluatorHoldout: Processed 10493 (100.0%) in 12.88 sec. Users per second: 815\n",
      "EvaluatorHoldout: Processed 10473 (100.0%) in 13.17 sec. Users per second: 795\n",
      "EvaluatorHoldout: Processed 10488 (100.0%) in 13.51 sec. Users per second: 776\n"
     ]
    },
    {
     "name": "stderr",
     "output_type": "stream",
     "text": [
      "[I 2024-01-08 15:51:58,600] Trial 134 finished with value: 0.050938089026532844 and parameters: {'alpha_0': 0.09180981888628698, 'alpha_1': 0.9553280582623607, 'alpha_2': 0.1010402076458439, 'alpha_3': 0.6021713405951794, 'alpha_4': 0.2554075401988622}. Best is trial 82 with value: 0.05099779336082066.\n"
     ]
    },
    {
     "name": "stdout",
     "output_type": "stream",
     "text": [
      "EvaluatorHoldout: Processed 10444 (100.0%) in 13.21 sec. Users per second: 791\n",
      "EvaluatorHoldout: Processed 10472 (100.0%) in 13.22 sec. Users per second: 792\n",
      "EvaluatorHoldout: Processed 10473 (100.0%) in 13.29 sec. Users per second: 788\n",
      "EvaluatorHoldout: Processed 10448 (100.0%) in 13.38 sec. Users per second: 781\n",
      "EvaluatorHoldout: Processed 10493 (100.0%) in 13.38 sec. Users per second: 784\n",
      "EvaluatorHoldout: Processed 10488 (100.0%) in 13.55 sec. Users per second: 774\n",
      "EvaluatorHoldout: Processed 10467 (100.0%) in 13.70 sec. Users per second: 764EvaluatorHoldout: Processed 10440 (100.0%) in 13.70 sec. Users per second: 762\n",
      "\n"
     ]
    },
    {
     "name": "stderr",
     "output_type": "stream",
     "text": [
      "[I 2024-01-08 15:52:12,531] Trial 135 finished with value: 0.050801514444540424 and parameters: {'alpha_0': 0.009521980428560749, 'alpha_1': 0.9751117844398266, 'alpha_2': 0.037425175625313445, 'alpha_3': 0.6855049669056249, 'alpha_4': 0.2898364509053113}. Best is trial 82 with value: 0.05099779336082066.\n"
     ]
    },
    {
     "name": "stdout",
     "output_type": "stream",
     "text": [
      "EvaluatorHoldout: Processed 10444 (100.0%) in 12.65 sec. Users per second: 826\n",
      "EvaluatorHoldout: Processed 10472 (100.0%) in 12.80 sec. Users per second: 818\n",
      "EvaluatorHoldout: Processed 10488 (100.0%) in 13.00 sec. Users per second: 807\n",
      "EvaluatorHoldout: Processed 10493 (100.0%) in 12.92 sec. Users per second: 812\n",
      "EvaluatorHoldout: Processed 10473 (100.0%) in 13.33 sec. Users per second: 786\n",
      "EvaluatorHoldout: Processed 10448 (100.0%) in 13.33 sec. Users per second: 784\n",
      "EvaluatorHoldout: Processed 10467 (100.0%) in 13.25 sec. Users per second: 790\n",
      "EvaluatorHoldout: Processed 10440 (100.0%) in 13.56 sec. Users per second: 770\n"
     ]
    },
    {
     "name": "stderr",
     "output_type": "stream",
     "text": [
      "[I 2024-01-08 15:52:26,304] Trial 136 finished with value: 0.04841367205898223 and parameters: {'alpha_0': 0.9504478311341512, 'alpha_1': 0.9393881181420207, 'alpha_2': 0.15112074024228317, 'alpha_3': 0.5044097079169071, 'alpha_4': 0.30692099627444325}. Best is trial 82 with value: 0.05099779336082066.\n"
     ]
    },
    {
     "name": "stdout",
     "output_type": "stream",
     "text": [
      "EvaluatorHoldout: Processed 10440 (100.0%) in 12.30 sec. Users per second: 849\n",
      "EvaluatorHoldout: Processed 10488 (100.0%) in 12.72 sec. Users per second: 825\n",
      "EvaluatorHoldout: Processed 10448 (100.0%) in 13.12 sec. Users per second: 796\n",
      "EvaluatorHoldout: Processed 10444 (100.0%) in 13.12 sec. Users per second: 796\n",
      "EvaluatorHoldout: Processed 10467 (100.0%) in 13.11 sec. Users per second: 799\n",
      "EvaluatorHoldout: Processed 10472 (100.0%) in 13.25 sec. Users per second: 790\n",
      "EvaluatorHoldout: Processed 10473 (100.0%) in 13.31 sec. Users per second: 787\n",
      "EvaluatorHoldout: Processed 10493 (100.0%) in 13.32 sec. Users per second: 788\n"
     ]
    },
    {
     "name": "stderr",
     "output_type": "stream",
     "text": [
      "[I 2024-01-08 15:52:39,849] Trial 137 finished with value: 0.050989488974552855 and parameters: {'alpha_0': 0.06820383155277138, 'alpha_1': 0.952863894020406, 'alpha_2': 0.11770757432361721, 'alpha_3': 0.6692558007516578, 'alpha_4': 0.25539248090214267}. Best is trial 82 with value: 0.05099779336082066.\n"
     ]
    },
    {
     "name": "stdout",
     "output_type": "stream",
     "text": [
      "EvaluatorHoldout: Processed 10444 (100.0%) in 12.89 sec. Users per second: 810\n",
      "EvaluatorHoldout: Processed 10467 (100.0%) in 12.80 sec. Users per second: 818\n",
      "EvaluatorHoldout: Processed 10440 (100.0%) in 12.87 sec. Users per second: 811\n",
      "EvaluatorHoldout: Processed 10473 (100.0%) in 13.22 sec. Users per second: 792\n",
      "EvaluatorHoldout: Processed 10488 (100.0%) in 13.34 sec. Users per second: 786\n",
      "EvaluatorHoldout: Processed 10472 (100.0%) in 13.35 sec. Users per second: 785\n",
      "EvaluatorHoldout: Processed 10448 (100.0%) in 13.38 sec. Users per second: 781\n",
      "EvaluatorHoldout: Processed 10493 (100.0%) in 13.49 sec. Users per second: 778\n"
     ]
    },
    {
     "name": "stderr",
     "output_type": "stream",
     "text": [
      "[I 2024-01-08 15:52:53,574] Trial 138 finished with value: 0.05084763950692741 and parameters: {'alpha_0': 0.036049453300292675, 'alpha_1': 0.9554789921838974, 'alpha_2': 0.01531287053052588, 'alpha_3': 0.7027667370208976, 'alpha_4': 0.26095866337795803}. Best is trial 82 with value: 0.05099779336082066.\n"
     ]
    },
    {
     "name": "stdout",
     "output_type": "stream",
     "text": [
      "EvaluatorHoldout: Processed 10472 (100.0%) in 12.87 sec. Users per second: 814\n",
      "EvaluatorHoldout: Processed 10440 (100.0%) in 12.90 sec. Users per second: 809\n",
      "EvaluatorHoldout: Processed 10448 (100.0%) in 13.19 sec. Users per second: 792\n",
      "EvaluatorHoldout: Processed 10467 (100.0%) in 13.08 sec. Users per second: 800\n",
      "EvaluatorHoldout: Processed 10444 (100.0%) in 13.25 sec. Users per second: 789\n",
      "EvaluatorHoldout: Processed 10493 (100.0%) in 13.63 sec. Users per second: 770\n",
      "EvaluatorHoldout: Processed 10473 (100.0%) in 13.70 sec. Users per second: 765\n",
      "EvaluatorHoldout: Processed 10488 (100.0%) in 13.72 sec. Users per second: 765\n"
     ]
    },
    {
     "name": "stderr",
     "output_type": "stream",
     "text": [
      "[I 2024-01-08 15:53:07,469] Trial 139 finished with value: 0.050957648391763685 and parameters: {'alpha_0': 0.06465879787973754, 'alpha_1': 0.9338280170846827, 'alpha_2': 0.11202249675857578, 'alpha_3': 0.675510296786794, 'alpha_4': 0.36471624554970794}. Best is trial 82 with value: 0.05099779336082066.\n"
     ]
    },
    {
     "name": "stdout",
     "output_type": "stream",
     "text": [
      "EvaluatorHoldout: Processed 10472 (100.0%) in 12.72 sec. Users per second: 823\n",
      "EvaluatorHoldout: Processed 10444 (100.0%) in 12.75 sec. Users per second: 819\n",
      "EvaluatorHoldout: Processed 10473 (100.0%) in 13.23 sec. Users per second: 792\n",
      "EvaluatorHoldout: Processed 10440 (100.0%) in 13.23 sec. Users per second: 789\n",
      "EvaluatorHoldout: Processed 10488 (100.0%) in 13.33 sec. Users per second: 787\n",
      "EvaluatorHoldout: Processed 10467 (100.0%) in 13.32 sec. Users per second: 786\n",
      "EvaluatorHoldout: Processed 10448 (100.0%) in 13.37 sec. Users per second: 781\n",
      "EvaluatorHoldout: Processed 10493 (100.0%) in 13.66 sec. Users per second: 768\n"
     ]
    },
    {
     "name": "stderr",
     "output_type": "stream",
     "text": [
      "[I 2024-01-08 15:53:21,340] Trial 140 finished with value: 0.05094271379973971 and parameters: {'alpha_0': 0.06033546201879696, 'alpha_1': 0.9983604521736331, 'alpha_2': 0.11380273826295881, 'alpha_3': 0.6674434806790229, 'alpha_4': 0.36935592266247885}. Best is trial 82 with value: 0.05099779336082066.\n"
     ]
    },
    {
     "name": "stdout",
     "output_type": "stream",
     "text": [
      "EvaluatorHoldout: Processed 10488 (100.0%) in 13.06 sec. Users per second: 803\n",
      "EvaluatorHoldout: Processed 10467 (100.0%) in 13.07 sec. Users per second: 801\n",
      "EvaluatorHoldout: Processed 10473 (100.0%) in 13.17 sec. Users per second: 795\n",
      "EvaluatorHoldout: Processed 10472 (100.0%) in 13.24 sec. Users per second: 791\n",
      "EvaluatorHoldout: Processed 10440 (100.0%) in 13.33 sec. Users per second: 783\n",
      "EvaluatorHoldout: Processed 10444 (100.0%) in 13.47 sec. Users per second: 775\n",
      "EvaluatorHoldout: Processed 10448 (100.0%) in 13.62 sec. Users per second: 767\n",
      "EvaluatorHoldout: Processed 10493 (100.0%) in 13.70 sec. Users per second: 766\n"
     ]
    },
    {
     "name": "stderr",
     "output_type": "stream",
     "text": [
      "[I 2024-01-08 15:53:35,255] Trial 141 finished with value: 0.05090175688231171 and parameters: {'alpha_0': 0.07410495798832369, 'alpha_1': 0.9346139005545532, 'alpha_2': 0.06114565049621565, 'alpha_3': 0.6747054523467633, 'alpha_4': 0.2986288609697141}. Best is trial 82 with value: 0.05099779336082066.\n"
     ]
    },
    {
     "name": "stdout",
     "output_type": "stream",
     "text": [
      "EvaluatorHoldout: Processed 10473 (100.0%) in 13.18 sec. Users per second: 794EvaluatorHoldout: Processed 10444 (100.0%) in 13.20 sec. Users per second: 792\n",
      "\n",
      "EvaluatorHoldout: Processed 10467 (100.0%) in 13.16 sec. Users per second: 795\n",
      "EvaluatorHoldout: Processed 10440 (100.0%) in 13.28 sec. Users per second: 786\n",
      "EvaluatorHoldout: Processed 10472 (100.0%) in 13.42 sec. Users per second: 781\n",
      "EvaluatorHoldout: Processed 10488 (100.0%) in 13.62 sec. Users per second: 770\n",
      "EvaluatorHoldout: Processed 10493 (100.0%) in 13.74 sec. Users per second: 764\n",
      "EvaluatorHoldout: Processed 10448 (100.0%) in 13.93 sec. Users per second: 750\n"
     ]
    },
    {
     "name": "stderr",
     "output_type": "stream",
     "text": [
      "[I 2024-01-08 15:53:49,360] Trial 142 finished with value: 0.05090840812823138 and parameters: {'alpha_0': 0.11078054265095821, 'alpha_1': 0.9704524205036409, 'alpha_2': 0.09204405856782301, 'alpha_3': 0.560856878433603, 'alpha_4': 0.2686430728516657}. Best is trial 82 with value: 0.05099779336082066.\n"
     ]
    },
    {
     "name": "stdout",
     "output_type": "stream",
     "text": [
      "EvaluatorHoldout: Processed 10473 (100.0%) in 13.08 sec. Users per second: 800\n",
      "EvaluatorHoldout: Processed 10444 (100.0%) in 13.12 sec. Users per second: 796\n",
      "EvaluatorHoldout: Processed 10493 (100.0%) in 13.30 sec. Users per second: 789\n",
      "EvaluatorHoldout: Processed 10488 (100.0%) in 13.54 sec. Users per second: 774\n",
      "EvaluatorHoldout: Processed 10448 (100.0%) in 13.60 sec. Users per second: 768\n",
      "EvaluatorHoldout: Processed 10467 (100.0%) in 13.61 sec. Users per second: 769\n",
      "EvaluatorHoldout: Processed 10472 (100.0%) in 13.71 sec. Users per second: 764\n",
      "EvaluatorHoldout: Processed 10440 (100.0%) in 13.75 sec. Users per second: 759\n"
     ]
    },
    {
     "name": "stderr",
     "output_type": "stream",
     "text": [
      "[I 2024-01-08 15:54:03,365] Trial 143 finished with value: 0.05092241273997143 and parameters: {'alpha_0': 0.031173967512266323, 'alpha_1': 0.9422187636936984, 'alpha_2': 0.1161987745930971, 'alpha_3': 0.5993207796839877, 'alpha_4': 0.19927763222711997}. Best is trial 82 with value: 0.05099779336082066.\n"
     ]
    },
    {
     "name": "stdout",
     "output_type": "stream",
     "text": [
      "EvaluatorHoldout: Processed 10472 (100.0%) in 12.53 sec. Users per second: 836\n",
      "EvaluatorHoldout: Processed 10488 (100.0%) in 12.66 sec. Users per second: 829\n",
      "EvaluatorHoldout: Processed 10444 (100.0%) in 13.08 sec. Users per second: 798\n",
      "EvaluatorHoldout: Processed 10448 (100.0%) in 13.16 sec. Users per second: 794\n",
      "EvaluatorHoldout: Processed 10467 (100.0%) in 13.11 sec. Users per second: 798\n",
      "EvaluatorHoldout: Processed 10440 (100.0%) in 13.30 sec. Users per second: 785\n",
      "EvaluatorHoldout: Processed 10493 (100.0%) in 13.44 sec. Users per second: 781\n",
      "EvaluatorHoldout: Processed 10473 (100.0%) in 13.69 sec. Users per second: 765\n"
     ]
    },
    {
     "name": "stderr",
     "output_type": "stream",
     "text": [
      "[I 2024-01-08 15:54:17,243] Trial 144 finished with value: 0.04917840191111725 and parameters: {'alpha_0': 0.716140063848497, 'alpha_1': 0.9089870368005541, 'alpha_2': 0.13864416591544687, 'alpha_3': 0.7041371578472022, 'alpha_4': 0.35642430310467615}. Best is trial 82 with value: 0.05099779336082066.\n"
     ]
    },
    {
     "name": "stdout",
     "output_type": "stream",
     "text": [
      "EvaluatorHoldout: Processed 10473 (100.0%) in 12.78 sec. Users per second: 819\n",
      "EvaluatorHoldout: Processed 10488 (100.0%) in 12.83 sec. Users per second: 818\n",
      "EvaluatorHoldout: Processed 10472 (100.0%) in 13.08 sec. Users per second: 800\n",
      "EvaluatorHoldout: Processed 10444 (100.0%) in 13.13 sec. Users per second: 795\n",
      "EvaluatorHoldout: Processed 10440 (100.0%) in 13.19 sec. Users per second: 792\n",
      "EvaluatorHoldout: Processed 10448 (100.0%) in 13.37 sec. Users per second: 782\n",
      "EvaluatorHoldout: Processed 10493 (100.0%) in 13.54 sec. Users per second: 775EvaluatorHoldout: Processed 10467 (100.0%) in 13.51 sec. Users per second: 775\n",
      "\n"
     ]
    },
    {
     "name": "stderr",
     "output_type": "stream",
     "text": [
      "[I 2024-01-08 15:54:30,996] Trial 145 finished with value: 0.05088602252574866 and parameters: {'alpha_0': 0.09793954627379253, 'alpha_1': 0.9800828200790117, 'alpha_2': 0.08035520759061575, 'alpha_3': 0.5381918426743955, 'alpha_4': 0.31370116465679426}. Best is trial 82 with value: 0.05099779336082066.\n"
     ]
    },
    {
     "name": "stdout",
     "output_type": "stream",
     "text": [
      "EvaluatorHoldout: Processed 10467 (100.0%) in 12.67 sec. Users per second: 826\n",
      "EvaluatorHoldout: Processed 10473 (100.0%) in 12.98 sec. Users per second: 807\n",
      "EvaluatorHoldout: Processed 10440 (100.0%) in 12.94 sec. Users per second: 807\n",
      "EvaluatorHoldout: Processed 10488 (100.0%) in 13.14 sec. Users per second: 798\n",
      "EvaluatorHoldout: Processed 10448 (100.0%) in 13.47 sec. Users per second: 775\n",
      "EvaluatorHoldout: Processed 10472 (100.0%) in 13.51 sec. Users per second: 775\n",
      "EvaluatorHoldout: Processed 10444 (100.0%) in 13.51 sec. Users per second: 773\n",
      "EvaluatorHoldout: Processed 10493 (100.0%) in 13.49 sec. Users per second: 778\n"
     ]
    },
    {
     "name": "stderr",
     "output_type": "stream",
     "text": [
      "[I 2024-01-08 15:54:44,735] Trial 146 finished with value: 0.05098868145612659 and parameters: {'alpha_0': 0.06501883354617577, 'alpha_1': 0.954115447338678, 'alpha_2': 0.10645493548903719, 'alpha_3': 0.6236380795406172, 'alpha_4': 0.2655023984168804}. Best is trial 82 with value: 0.05099779336082066.\n"
     ]
    },
    {
     "name": "stdout",
     "output_type": "stream",
     "text": [
      "EvaluatorHoldout: Processed 10472 (100.0%) in 12.61 sec. Users per second: 830\n",
      "EvaluatorHoldout: Processed 10444 (100.0%) in 12.95 sec. Users per second: 807\n",
      "EvaluatorHoldout: Processed 10493 (100.0%) in 12.91 sec. Users per second: 813\n",
      "EvaluatorHoldout: Processed 10488 (100.0%) in 13.17 sec. Users per second: 796\n",
      "EvaluatorHoldout: Processed 10473 (100.0%) in 13.33 sec. Users per second: 786\n",
      "EvaluatorHoldout: Processed 10440 (100.0%) in 13.25 sec. Users per second: 788\n",
      "EvaluatorHoldout: Processed 10467 (100.0%) in 13.30 sec. Users per second: 787\n",
      "EvaluatorHoldout: Processed 10448 (100.0%) in 13.67 sec. Users per second: 764\n"
     ]
    },
    {
     "name": "stderr",
     "output_type": "stream",
     "text": [
      "[I 2024-01-08 15:54:58,580] Trial 147 finished with value: 0.049394061485406544 and parameters: {'alpha_0': 0.5478539711584924, 'alpha_1': 0.956346906127769, 'alpha_2': 0.049631178618332605, 'alpha_3': 0.44786731561127996, 'alpha_4': 0.3847828119721971}. Best is trial 82 with value: 0.05099779336082066.\n"
     ]
    },
    {
     "name": "stdout",
     "output_type": "stream",
     "text": [
      "EvaluatorHoldout: Processed 10440 (100.0%) in 12.67 sec. Users per second: 824\n",
      "EvaluatorHoldout: Processed 10444 (100.0%) in 12.87 sec. Users per second: 812\n",
      "EvaluatorHoldout: Processed 10473 (100.0%) in 13.00 sec. Users per second: 806\n",
      "EvaluatorHoldout: Processed 10488 (100.0%) in 13.47 sec. Users per second: 779\n",
      "EvaluatorHoldout: Processed 10472 (100.0%) in 13.54 sec. Users per second: 774\n",
      "EvaluatorHoldout: Processed 10448 (100.0%) in 13.58 sec. Users per second: 769\n",
      "EvaluatorHoldout: Processed 10467 (100.0%) in 13.55 sec. Users per second: 773\n",
      "EvaluatorHoldout: Processed 10493 (100.0%) in 14.24 sec. Users per second: 737\n"
     ]
    },
    {
     "name": "stderr",
     "output_type": "stream",
     "text": [
      "[I 2024-01-08 15:55:13,048] Trial 148 finished with value: 0.05092251894575448 and parameters: {'alpha_0': 0.06830885504820171, 'alpha_1': 0.8802858257793746, 'alpha_2': 0.11395311116883061, 'alpha_3': 0.5747077367714488, 'alpha_4': 0.41826873460258973}. Best is trial 82 with value: 0.05099779336082066.\n"
     ]
    },
    {
     "name": "stdout",
     "output_type": "stream",
     "text": [
      "EvaluatorHoldout: Processed 10467 (100.0%) in 13.14 sec. Users per second: 796\n",
      "EvaluatorHoldout: Processed 10473 (100.0%) in 13.29 sec. Users per second: 788\n",
      "EvaluatorHoldout: Processed 10448 (100.0%) in 13.51 sec. Users per second: 773\n",
      "EvaluatorHoldout: Processed 10444 (100.0%) in 13.60 sec. Users per second: 768EvaluatorHoldout: Processed 10472 (100.0%) in 13.60 sec. Users per second: 770\n",
      "\n",
      "EvaluatorHoldout: Processed 10440 (100.0%) in 13.55 sec. Users per second: 770\n",
      "EvaluatorHoldout: Processed 10493 (100.0%) in 13.69 sec. Users per second: 767\n",
      "EvaluatorHoldout: Processed 10488 (100.0%) in 13.95 sec. Users per second: 752\n"
     ]
    },
    {
     "name": "stderr",
     "output_type": "stream",
     "text": [
      "[I 2024-01-08 15:55:27,214] Trial 149 finished with value: 0.050691495285594586 and parameters: {'alpha_0': 0.0008835011090118361, 'alpha_1': 0.9344252933686945, 'alpha_2': 0.002184290614905257, 'alpha_3': 0.6181313542189688, 'alpha_4': 0.25035515870864883}. Best is trial 82 with value: 0.05099779336082066.\n"
     ]
    },
    {
     "name": "stdout",
     "output_type": "stream",
     "text": [
      "EvaluatorHoldout: Processed 10472 (100.0%) in 12.91 sec. Users per second: 811\n",
      "EvaluatorHoldout: Processed 10444 (100.0%) in 13.46 sec. Users per second: 776\n",
      "EvaluatorHoldout: Processed 10440 (100.0%) in 13.56 sec. Users per second: 770\n",
      "EvaluatorHoldout: Processed 10467 (100.0%) in 13.76 sec. Users per second: 761\n",
      "EvaluatorHoldout: Processed 10473 (100.0%) in 13.83 sec. Users per second: 757\n",
      "EvaluatorHoldout: Processed 10488 (100.0%) in 13.90 sec. Users per second: 754\n",
      "EvaluatorHoldout: Processed 10448 (100.0%) in 14.19 sec. Users per second: 736\n",
      "EvaluatorHoldout: Processed 10493 (100.0%) in 14.20 sec. Users per second: 739\n"
     ]
    },
    {
     "name": "stderr",
     "output_type": "stream",
     "text": [
      "[I 2024-01-08 15:55:41,648] Trial 150 finished with value: 0.05096441286158233 and parameters: {'alpha_0': 0.053980296373261294, 'alpha_1': 0.9856259186001285, 'alpha_2': 0.09834770569436578, 'alpha_3': 0.6626218494154871, 'alpha_4': 0.30333745170887977}. Best is trial 82 with value: 0.05099779336082066.\n"
     ]
    },
    {
     "name": "stdout",
     "output_type": "stream",
     "text": [
      "EvaluatorHoldout: Processed 10448 (100.0%) in 13.23 sec. Users per second: 790\n",
      "EvaluatorHoldout: Processed 10467 (100.0%) in 13.22 sec. Users per second: 792\n",
      "EvaluatorHoldout: Processed 10473 (100.0%) in 13.32 sec. Users per second: 786\n",
      "EvaluatorHoldout: Processed 10444 (100.0%) in 13.48 sec. Users per second: 775\n",
      "EvaluatorHoldout: Processed 10493 (100.0%) in 13.71 sec. Users per second: 765\n",
      "EvaluatorHoldout: Processed 10440 (100.0%) in 13.91 sec. Users per second: 751\n",
      "EvaluatorHoldout: Processed 10472 (100.0%) in 14.01 sec. Users per second: 747\n",
      "EvaluatorHoldout: Processed 10488 (100.0%) in 14.04 sec. Users per second: 747\n"
     ]
    },
    {
     "name": "stderr",
     "output_type": "stream",
     "text": [
      "[I 2024-01-08 15:55:55,879] Trial 151 finished with value: 0.05095263750833097 and parameters: {'alpha_0': 0.05177274421770993, 'alpha_1': 0.9816729910522908, 'alpha_2': 0.09222450253979778, 'alpha_3': 0.6605915198124412, 'alpha_4': 0.29739155957782215}. Best is trial 82 with value: 0.05099779336082066.\n"
     ]
    },
    {
     "name": "stdout",
     "output_type": "stream",
     "text": [
      "EvaluatorHoldout: Processed 10444 (100.0%) in 12.78 sec. Users per second: 818\n",
      "EvaluatorHoldout: Processed 10440 (100.0%) in 12.80 sec. Users per second: 816\n",
      "EvaluatorHoldout: Processed 10473 (100.0%) in 13.21 sec. Users per second: 793\n",
      "EvaluatorHoldout: Processed 10493 (100.0%) in 13.22 sec. Users per second: 794\n",
      "EvaluatorHoldout: Processed 10448 (100.0%) in 13.46 sec. Users per second: 776\n",
      "EvaluatorHoldout: Processed 10488 (100.0%) in 13.63 sec. Users per second: 769\n",
      "EvaluatorHoldout: Processed 10467 (100.0%) in 13.59 sec. Users per second: 770\n",
      "EvaluatorHoldout: Processed 10472 (100.0%) in 13.65 sec. Users per second: 767\n"
     ]
    },
    {
     "name": "stderr",
     "output_type": "stream",
     "text": [
      "[I 2024-01-08 15:56:09,720] Trial 152 finished with value: 0.05097716658918294 and parameters: {'alpha_0': 0.08284023854206805, 'alpha_1': 0.9601363064783366, 'alpha_2': 0.13472540171296735, 'alpha_3': 0.5988747551792369, 'alpha_4': 0.25990469511169334}. Best is trial 82 with value: 0.05099779336082066.\n"
     ]
    },
    {
     "name": "stdout",
     "output_type": "stream",
     "text": [
      "EvaluatorHoldout: Processed 10444 (100.0%) in 12.90 sec. Users per second: 810\n",
      "EvaluatorHoldout: Processed 10440 (100.0%) in 13.27 sec. Users per second: 787\n",
      "EvaluatorHoldout: Processed 10473 (100.0%) in 13.54 sec. Users per second: 774\n",
      "EvaluatorHoldout: Processed 10472 (100.0%) in 13.80 sec. Users per second: 759\n",
      "EvaluatorHoldout: Processed 10467 (100.0%) in 13.73 sec. Users per second: 762\n",
      "EvaluatorHoldout: Processed 10488 (100.0%) in 13.92 sec. Users per second: 753\n",
      "EvaluatorHoldout: Processed 10493 (100.0%) in 13.90 sec. Users per second: 755\n",
      "EvaluatorHoldout: Processed 10448 (100.0%) in 14.14 sec. Users per second: 739\n"
     ]
    },
    {
     "name": "stderr",
     "output_type": "stream",
     "text": [
      "[I 2024-01-08 15:56:24,040] Trial 153 finished with value: 0.050931837299241826 and parameters: {'alpha_0': 0.03565418422091668, 'alpha_1': 0.9581491322444696, 'alpha_2': 0.14517386652204697, 'alpha_3': 0.5982831912143679, 'alpha_4': 0.2602481093717869}. Best is trial 82 with value: 0.05099779336082066.\n"
     ]
    },
    {
     "name": "stdout",
     "output_type": "stream",
     "text": [
      "EvaluatorHoldout: Processed 10467 (100.0%) in 13.01 sec. Users per second: 804\n",
      "EvaluatorHoldout: Processed 10488 (100.0%) in 13.56 sec. Users per second: 773\n",
      "EvaluatorHoldout: Processed 10444 (100.0%) in 13.62 sec. Users per second: 767\n",
      "EvaluatorHoldout: Processed 10473 (100.0%) in 13.65 sec. Users per second: 767\n",
      "EvaluatorHoldout: Processed 10472 (100.0%) in 13.68 sec. Users per second: 766\n",
      "EvaluatorHoldout: Processed 10440 (100.0%) in 13.69 sec. Users per second: 762\n",
      "EvaluatorHoldout: Processed 10448 (100.0%) in 13.92 sec. Users per second: 751\n",
      "EvaluatorHoldout: Processed 10493 (100.0%) in 14.01 sec. Users per second: 749\n"
     ]
    },
    {
     "name": "stderr",
     "output_type": "stream",
     "text": [
      "[I 2024-01-08 15:56:38,302] Trial 154 finished with value: 0.04971995004112061 and parameters: {'alpha_0': 0.5179375770898857, 'alpha_1': 0.9926716807610522, 'alpha_2': 0.07080252147409315, 'alpha_3': 0.6224053194074216, 'alpha_4': 0.2440262731377424}. Best is trial 82 with value: 0.05099779336082066.\n"
     ]
    },
    {
     "name": "stdout",
     "output_type": "stream",
     "text": [
      "EvaluatorHoldout: Processed 10440 (100.0%) in 13.76 sec. Users per second: 759\n",
      "EvaluatorHoldout: Processed 10472 (100.0%) in 14.05 sec. Users per second: 746\n",
      "EvaluatorHoldout: Processed 10444 (100.0%) in 14.07 sec. Users per second: 742\n",
      "EvaluatorHoldout: Processed 10493 (100.0%) in 14.03 sec. Users per second: 748\n",
      "EvaluatorHoldout: Processed 10467 (100.0%) in 14.12 sec. Users per second: 741\n",
      "EvaluatorHoldout: Processed 10473 (100.0%) in 14.48 sec. Users per second: 723\n",
      "EvaluatorHoldout: Processed 10488 (100.0%) in 14.54 sec. Users per second: 721\n",
      "EvaluatorHoldout: Processed 10448 (100.0%) in 14.56 sec. Users per second: 718\n"
     ]
    },
    {
     "name": "stderr",
     "output_type": "stream",
     "text": [
      "[I 2024-01-08 15:56:53,049] Trial 155 finished with value: 0.05097035443902913 and parameters: {'alpha_0': 0.09532821957339255, 'alpha_1': 0.964252793012536, 'alpha_2': 0.1543157436305939, 'alpha_3': 0.6485436522875656, 'alpha_4': 0.18725255693699294}. Best is trial 82 with value: 0.05099779336082066.\n"
     ]
    },
    {
     "name": "stdout",
     "output_type": "stream",
     "text": [
      "EvaluatorHoldout: Processed 10440 (100.0%) in 13.11 sec. Users per second: 796\n",
      "EvaluatorHoldout: Processed 10444 (100.0%) in 13.27 sec. Users per second: 787\n",
      "EvaluatorHoldout: Processed 10488 (100.0%) in 13.37 sec. Users per second: 784\n",
      "EvaluatorHoldout: Processed 10493 (100.0%) in 13.49 sec. Users per second: 778\n",
      "EvaluatorHoldout: Processed 10448 (100.0%) in 13.59 sec. Users per second: 769\n",
      "EvaluatorHoldout: Processed 10473 (100.0%) in 13.77 sec. Users per second: 761\n",
      "EvaluatorHoldout: Processed 10472 (100.0%) in 13.81 sec. Users per second: 758\n",
      "EvaluatorHoldout: Processed 10467 (100.0%) in 13.96 sec. Users per second: 750\n"
     ]
    },
    {
     "name": "stderr",
     "output_type": "stream",
     "text": [
      "[I 2024-01-08 15:57:07,234] Trial 156 finished with value: 0.050986075687125564 and parameters: {'alpha_0': 0.08587194795834155, 'alpha_1': 0.9996319417033467, 'alpha_2': 0.1321406191822074, 'alpha_3': 0.5195007322651582, 'alpha_4': 0.1853362029474806}. Best is trial 82 with value: 0.05099779336082066.\n"
     ]
    },
    {
     "name": "stdout",
     "output_type": "stream",
     "text": [
      "EvaluatorHoldout: Processed 10473 (100.0%) in 13.58 sec. Users per second: 771\n",
      "EvaluatorHoldout: Processed 10493 (100.0%) in 13.53 sec. Users per second: 775\n",
      "EvaluatorHoldout: Processed 10440 (100.0%) in 13.87 sec. Users per second: 753\n",
      "EvaluatorHoldout: Processed 10444 (100.0%) in 13.96 sec. Users per second: 748\n",
      "EvaluatorHoldout: Processed 10448 (100.0%) in 14.10 sec. Users per second: 741\n",
      "EvaluatorHoldout: Processed 10467 (100.0%) in 14.04 sec. Users per second: 746\n",
      "EvaluatorHoldout: Processed 10472 (100.0%) in 14.29 sec. Users per second: 733\n",
      "EvaluatorHoldout: Processed 10488 (100.0%) in 14.37 sec. Users per second: 730\n"
     ]
    },
    {
     "name": "stderr",
     "output_type": "stream",
     "text": [
      "[I 2024-01-08 15:57:21,783] Trial 157 finished with value: 0.05096693548613547 and parameters: {'alpha_0': 0.09347587209631116, 'alpha_1': 0.9972567421349473, 'alpha_2': 0.12861094797757835, 'alpha_3': 0.5192158493600747, 'alpha_4': 0.11811189043778567}. Best is trial 82 with value: 0.05099779336082066.\n"
     ]
    },
    {
     "name": "stdout",
     "output_type": "stream",
     "text": [
      "EvaluatorHoldout: Processed 10472 (100.0%) in 13.72 sec. Users per second: 763\n",
      "EvaluatorHoldout: Processed 10467 (100.0%) in 13.70 sec. Users per second: 764\n",
      "EvaluatorHoldout: Processed 10488 (100.0%) in 13.95 sec. Users per second: 752\n",
      "EvaluatorHoldout: Processed 10493 (100.0%) in 14.25 sec. Users per second: 736\n",
      "EvaluatorHoldout: Processed 10473 (100.0%) in 14.40 sec. Users per second: 727\n",
      "EvaluatorHoldout: Processed 10444 (100.0%) in 14.41 sec. Users per second: 725\n",
      "EvaluatorHoldout: Processed 10440 (100.0%) in 14.54 sec. Users per second: 718\n",
      "EvaluatorHoldout: Processed 10448 (100.0%) in 14.80 sec. Users per second: 706\n"
     ]
    },
    {
     "name": "stderr",
     "output_type": "stream",
     "text": [
      "[I 2024-01-08 15:57:36,758] Trial 158 finished with value: 0.04934152458626912 and parameters: {'alpha_0': 0.5925837771777198, 'alpha_1': 0.9764872054069015, 'alpha_2': 0.1359378678452329, 'alpha_3': 0.5302707391288517, 'alpha_4': 0.09450707285827317}. Best is trial 82 with value: 0.05099779336082066.\n"
     ]
    },
    {
     "name": "stdout",
     "output_type": "stream",
     "text": [
      "EvaluatorHoldout: Processed 10472 (100.0%) in 13.14 sec. Users per second: 797\n",
      "EvaluatorHoldout: Processed 10473 (100.0%) in 13.24 sec. Users per second: 791\n",
      "EvaluatorHoldout: Processed 10440 (100.0%) in 13.36 sec. Users per second: 781\n",
      "EvaluatorHoldout: Processed 10488 (100.0%) in 13.74 sec. Users per second: 763\n",
      "EvaluatorHoldout: Processed 10493 (100.0%) in 13.74 sec. Users per second: 764\n",
      "EvaluatorHoldout: Processed 10444 (100.0%) in 13.84 sec. Users per second: 755\n",
      "EvaluatorHoldout: Processed 10467 (100.0%) in 13.93 sec. Users per second: 752\n",
      "EvaluatorHoldout: Processed 10448 (100.0%) in 14.21 sec. Users per second: 735\n"
     ]
    },
    {
     "name": "stderr",
     "output_type": "stream",
     "text": [
      "[I 2024-01-08 15:57:51,155] Trial 159 finished with value: 0.05017412091468505 and parameters: {'alpha_0': 0.10955781075033136, 'alpha_1': 0.9640518583875424, 'alpha_2': 0.4647447288133884, 'alpha_3': 0.5157759515307054, 'alpha_4': 0.15758871885630002}. Best is trial 82 with value: 0.05099779336082066.\n"
     ]
    },
    {
     "name": "stdout",
     "output_type": "stream",
     "text": [
      "EvaluatorHoldout: Processed 10444 (100.0%) in 13.94 sec. Users per second: 749\n",
      "EvaluatorHoldout: Processed 10448 (100.0%) in 14.42 sec. Users per second: 725\n",
      "EvaluatorHoldout: Processed 10467 (100.0%) in 14.52 sec. Users per second: 721\n",
      "EvaluatorHoldout: Processed 10473 (100.0%) in 14.72 sec. Users per second: 711\n",
      "EvaluatorHoldout: Processed 10440 (100.0%) in 14.78 sec. Users per second: 706\n",
      "EvaluatorHoldout: Processed 10488 (100.0%) in 14.94 sec. Users per second: 702\n",
      "EvaluatorHoldout: Processed 10472 (100.0%) in 14.97 sec. Users per second: 700\n",
      "EvaluatorHoldout: Processed 10493 (100.0%) in 15.24 sec. Users per second: 688\n"
     ]
    },
    {
     "name": "stderr",
     "output_type": "stream",
     "text": [
      "[I 2024-01-08 15:58:06,617] Trial 160 finished with value: 0.05091839981753306 and parameters: {'alpha_0': 0.09362529277110562, 'alpha_1': 0.9712267348353436, 'alpha_2': 0.15377008177968013, 'alpha_3': 0.4378893177467431, 'alpha_4': 0.12939619129691105}. Best is trial 82 with value: 0.05099779336082066.\n"
     ]
    },
    {
     "name": "stdout",
     "output_type": "stream",
     "text": [
      "EvaluatorHoldout: Processed 10444 (100.0%) in 13.83 sec. Users per second: 755\n",
      "EvaluatorHoldout: Processed 10467 (100.0%) in 13.94 sec. Users per second: 751\n",
      "EvaluatorHoldout: Processed 10488 (100.0%) in 14.13 sec. Users per second: 742\n",
      "EvaluatorHoldout: Processed 10440 (100.0%) in 14.08 sec. Users per second: 741\n",
      "EvaluatorHoldout: Processed 10473 (100.0%) in 14.42 sec. Users per second: 726\n",
      "EvaluatorHoldout: Processed 10472 (100.0%) in 14.60 sec. Users per second: 717\n",
      "EvaluatorHoldout: Processed 10493 (100.0%) in 14.61 sec. Users per second: 718\n",
      "EvaluatorHoldout: Processed 10448 (100.0%) in 15.02 sec. Users per second: 695\n"
     ]
    },
    {
     "name": "stderr",
     "output_type": "stream",
     "text": [
      "[I 2024-01-08 15:58:21,856] Trial 161 finished with value: 0.05096264212188457 and parameters: {'alpha_0': 0.09536094194522385, 'alpha_1': 0.9937886254327809, 'alpha_2': 0.10219463157374951, 'alpha_3': 0.5638110542603655, 'alpha_4': 0.017452089266638438}. Best is trial 82 with value: 0.05099779336082066.\n"
     ]
    },
    {
     "name": "stdout",
     "output_type": "stream",
     "text": [
      "EvaluatorHoldout: Processed 10473 (100.0%) in 13.26 sec. Users per second: 790\n",
      "EvaluatorHoldout: Processed 10472 (100.0%) in 13.58 sec. Users per second: 771\n",
      "EvaluatorHoldout: Processed 10467 (100.0%) in 13.78 sec. Users per second: 759\n",
      "EvaluatorHoldout: Processed 10440 (100.0%) in 13.74 sec. Users per second: 760\n",
      "EvaluatorHoldout: Processed 10488 (100.0%) in 14.05 sec. Users per second: 746\n",
      "EvaluatorHoldout: Processed 10444 (100.0%) in 14.18 sec. Users per second: 736\n",
      "EvaluatorHoldout: Processed 10448 (100.0%) in 14.19 sec. Users per second: 736\n",
      "EvaluatorHoldout: Processed 10493 (100.0%) in 14.41 sec. Users per second: 728\n"
     ]
    },
    {
     "name": "stderr",
     "output_type": "stream",
     "text": [
      "[I 2024-01-08 15:58:36,536] Trial 162 finished with value: 0.05099301629317368 and parameters: {'alpha_0': 0.07879248020200823, 'alpha_1': 0.9527500271879312, 'alpha_2': 0.13237571890670827, 'alpha_3': 0.5812589252915945, 'alpha_4': 0.19071229470684745}. Best is trial 82 with value: 0.05099779336082066.\n"
     ]
    },
    {
     "name": "stdout",
     "output_type": "stream",
     "text": [
      "EvaluatorHoldout: Processed 10473 (100.0%) in 13.25 sec. Users per second: 791\n",
      "EvaluatorHoldout: Processed 10488 (100.0%) in 13.59 sec. Users per second: 772\n",
      "EvaluatorHoldout: Processed 10467 (100.0%) in 13.59 sec. Users per second: 770\n",
      "EvaluatorHoldout: Processed 10493 (100.0%) in 13.68 sec. Users per second: 767\n",
      "EvaluatorHoldout: Processed 10444 (100.0%) in 13.93 sec. Users per second: 750\n",
      "EvaluatorHoldout: Processed 10448 (100.0%) in 13.99 sec. Users per second: 747\n",
      "EvaluatorHoldout: Processed 10440 (100.0%) in 13.96 sec. Users per second: 748\n",
      "EvaluatorHoldout: Processed 10472 (100.0%) in 14.13 sec. Users per second: 741\n"
     ]
    },
    {
     "name": "stderr",
     "output_type": "stream",
     "text": [
      "[I 2024-01-08 15:58:50,849] Trial 163 finished with value: 0.05082046925714577 and parameters: {'alpha_0': 0.02158857058867949, 'alpha_1': 0.9965963517313681, 'alpha_2': 0.13678274705634497, 'alpha_3': 0.486336325258482, 'alpha_4': 0.20233318289752722}. Best is trial 82 with value: 0.05099779336082066.\n"
     ]
    },
    {
     "name": "stdout",
     "output_type": "stream",
     "text": [
      "EvaluatorHoldout: Processed 10488 (100.0%) in 13.16 sec. Users per second: 797\n",
      "EvaluatorHoldout: Processed 10493 (100.0%) in 13.14 sec. Users per second: 799\n",
      "EvaluatorHoldout: Processed 10448 (100.0%) in 13.26 sec. Users per second: 788\n",
      "EvaluatorHoldout: Processed 10444 (100.0%) in 13.33 sec. Users per second: 784\n",
      "EvaluatorHoldout: Processed 10472 (100.0%) in 13.38 sec. Users per second: 782\n",
      "EvaluatorHoldout: Processed 10467 (100.0%) in 13.57 sec. Users per second: 771\n",
      "EvaluatorHoldout: Processed 10440 (100.0%) in 13.62 sec. Users per second: 766\n",
      "EvaluatorHoldout: Processed 10473 (100.0%) in 13.81 sec. Users per second: 759\n"
     ]
    },
    {
     "name": "stderr",
     "output_type": "stream",
     "text": [
      "[I 2024-01-08 15:59:04,859] Trial 164 finished with value: 0.050965084980307246 and parameters: {'alpha_0': 0.11980844777030641, 'alpha_1': 0.9546999143209134, 'alpha_2': 0.12837425976100297, 'alpha_3': 0.5430828569305113, 'alpha_4': 0.18440201757064184}. Best is trial 82 with value: 0.05099779336082066.\n"
     ]
    },
    {
     "name": "stdout",
     "output_type": "stream",
     "text": [
      "EvaluatorHoldout: Processed 10472 (100.0%) in 13.78 sec. Users per second: 760\n",
      "EvaluatorHoldout: Processed 10448 (100.0%) in 13.95 sec. Users per second: 749\n",
      "EvaluatorHoldout: Processed 10473 (100.0%) in 13.96 sec. Users per second: 750\n",
      "EvaluatorHoldout: Processed 10467 (100.0%) in 14.12 sec. Users per second: 741\n",
      "EvaluatorHoldout: Processed 10493 (100.0%) in 14.27 sec. Users per second: 735\n",
      "EvaluatorHoldout: Processed 10444 (100.0%) in 14.47 sec. Users per second: 722\n",
      "EvaluatorHoldout: Processed 10488 (100.0%) in 14.52 sec. Users per second: 722\n",
      "EvaluatorHoldout: Processed 10440 (100.0%) in 14.63 sec. Users per second: 714\n"
     ]
    },
    {
     "name": "stderr",
     "output_type": "stream",
     "text": [
      "[I 2024-01-08 15:59:19,723] Trial 165 finished with value: 0.05095576925906268 and parameters: {'alpha_0': 0.11657358888702263, 'alpha_1': 0.9579871326949848, 'alpha_2': 0.15756629949175832, 'alpha_3': 0.5492616457514194, 'alpha_4': 0.11550260479858941}. Best is trial 82 with value: 0.05099779336082066.\n"
     ]
    },
    {
     "name": "stdout",
     "output_type": "stream",
     "text": [
      "EvaluatorHoldout: Processed 10473 (100.0%) in 13.37 sec. Users per second: 783\n",
      "EvaluatorHoldout: Processed 10472 (100.0%) in 13.40 sec. Users per second: 782\n",
      "EvaluatorHoldout: Processed 10467 (100.0%) in 13.33 sec. Users per second: 785\n",
      "EvaluatorHoldout: Processed 10493 (100.0%) in 13.53 sec. Users per second: 776\n",
      "EvaluatorHoldout: Processed 10444 (100.0%) in 13.78 sec. Users per second: 758\n",
      "EvaluatorHoldout: Processed 10488 (100.0%) in 13.83 sec. Users per second: 758\n",
      "EvaluatorHoldout: Processed 10448 (100.0%) in 14.04 sec. Users per second: 744\n",
      "EvaluatorHoldout: Processed 10440 (100.0%) in 14.18 sec. Users per second: 736\n"
     ]
    },
    {
     "name": "stderr",
     "output_type": "stream",
     "text": [
      "[I 2024-01-08 15:59:34,173] Trial 166 finished with value: 0.05099322943675483 and parameters: {'alpha_0': 0.08093253309656684, 'alpha_1': 0.9494261406415134, 'alpha_2': 0.12721013265417327, 'alpha_3': 0.49767248458001007, 'alpha_4': 0.18507476722683516}. Best is trial 82 with value: 0.05099779336082066.\n"
     ]
    },
    {
     "name": "stdout",
     "output_type": "stream",
     "text": [
      "EvaluatorHoldout: Processed 10472 (100.0%) in 13.41 sec. Users per second: 781\n",
      "EvaluatorHoldout: Processed 10440 (100.0%) in 13.41 sec. Users per second: 778\n",
      "EvaluatorHoldout: Processed 10488 (100.0%) in 13.65 sec. Users per second: 768\n",
      "EvaluatorHoldout: Processed 10467 (100.0%) in 13.73 sec. Users per second: 762\n",
      "EvaluatorHoldout: Processed 10448 (100.0%) in 14.08 sec. Users per second: 742\n",
      "EvaluatorHoldout: Processed 10473 (100.0%) in 14.12 sec. Users per second: 742\n",
      "EvaluatorHoldout: Processed 10444 (100.0%) in 14.15 sec. Users per second: 738\n",
      "EvaluatorHoldout: Processed 10493 (100.0%) in 14.25 sec. Users per second: 736\n"
     ]
    },
    {
     "name": "stderr",
     "output_type": "stream",
     "text": [
      "[I 2024-01-08 15:59:48,644] Trial 167 finished with value: 0.048160637159123484 and parameters: {'alpha_0': 0.08547278210326778, 'alpha_1': 0.9012356269505285, 'alpha_2': 0.858507710456264, 'alpha_3': 0.42954559972445633, 'alpha_4': 0.1706056296461992}. Best is trial 82 with value: 0.05099779336082066.\n"
     ]
    },
    {
     "name": "stdout",
     "output_type": "stream",
     "text": [
      "EvaluatorHoldout: Processed 10472 (100.0%) in 13.12 sec. Users per second: 798\n",
      "EvaluatorHoldout: Processed 10467 (100.0%) in 13.16 sec. Users per second: 795\n",
      "EvaluatorHoldout: Processed 10488 (100.0%) in 13.34 sec. Users per second: 786\n",
      "EvaluatorHoldout: Processed 10448 (100.0%) in 13.38 sec. Users per second: 781\n",
      "EvaluatorHoldout: Processed 10440 (100.0%) in 13.38 sec. Users per second: 780\n",
      "EvaluatorHoldout: Processed 10444 (100.0%) in 13.55 sec. Users per second: 771\n",
      "EvaluatorHoldout: Processed 10473 (100.0%) in 13.74 sec. Users per second: 762\n",
      "EvaluatorHoldout: Processed 10493 (100.0%) in 13.81 sec. Users per second: 760\n"
     ]
    },
    {
     "name": "stderr",
     "output_type": "stream",
     "text": [
      "[I 2024-01-08 16:00:02,711] Trial 168 finished with value: 0.05090797536577168 and parameters: {'alpha_0': 0.03605393055355924, 'alpha_1': 0.9405419771540102, 'alpha_2': 0.05991342360877176, 'alpha_3': 0.5103995681262928, 'alpha_4': 0.1442079411054544}. Best is trial 82 with value: 0.05099779336082066.\n"
     ]
    },
    {
     "name": "stdout",
     "output_type": "stream",
     "text": [
      "EvaluatorHoldout: Processed 10467 (100.0%) in 13.41 sec. Users per second: 780\n",
      "EvaluatorHoldout: Processed 10488 (100.0%) in 13.52 sec. Users per second: 776\n",
      "EvaluatorHoldout: Processed 10493 (100.0%) in 13.49 sec. Users per second: 778\n",
      "EvaluatorHoldout: Processed 10444 (100.0%) in 13.90 sec. Users per second: 751\n",
      "EvaluatorHoldout: Processed 10473 (100.0%) in 13.92 sec. Users per second: 753\n",
      "EvaluatorHoldout: Processed 10448 (100.0%) in 14.00 sec. Users per second: 746\n",
      "EvaluatorHoldout: Processed 10440 (100.0%) in 14.00 sec. Users per second: 746\n",
      "EvaluatorHoldout: Processed 10472 (100.0%) in 14.15 sec. Users per second: 740\n"
     ]
    },
    {
     "name": "stderr",
     "output_type": "stream",
     "text": [
      "[I 2024-01-08 16:00:17,051] Trial 169 finished with value: 0.0508107005613199 and parameters: {'alpha_0': 0.1616859759186699, 'alpha_1': 0.9739453170343584, 'alpha_2': 0.17563555708969192, 'alpha_3': 0.466716236632583, 'alpha_4': 0.07656881268554647}. Best is trial 82 with value: 0.05099779336082066.\n"
     ]
    },
    {
     "name": "stdout",
     "output_type": "stream",
     "text": [
      "EvaluatorHoldout: Processed 10472 (100.0%) in 13.28 sec. Users per second: 788\n",
      "EvaluatorHoldout: Processed 10444 (100.0%) in 13.34 sec. Users per second: 783\n",
      "EvaluatorHoldout: Processed 10467 (100.0%) in 13.36 sec. Users per second: 783\n",
      "EvaluatorHoldout: Processed 10493 (100.0%) in 13.75 sec. Users per second: 763EvaluatorHoldout: Processed 10440 (100.0%) in 13.74 sec. Users per second: 760\n",
      "\n",
      "EvaluatorHoldout: Processed 10473 (100.0%) in 13.85 sec. Users per second: 756\n",
      "EvaluatorHoldout: Processed 10448 (100.0%) in 14.13 sec. Users per second: 739\n",
      "EvaluatorHoldout: Processed 10488 (100.0%) in 14.15 sec. Users per second: 741\n"
     ]
    },
    {
     "name": "stderr",
     "output_type": "stream",
     "text": [
      "[I 2024-01-08 16:00:31,414] Trial 170 finished with value: 0.05097503925279936 and parameters: {'alpha_0': 0.0773458496606575, 'alpha_1': 0.8837987825042488, 'alpha_2': 0.12745370194504915, 'alpha_3': 0.6121821386811426, 'alpha_4': 0.20576138330394117}. Best is trial 82 with value: 0.05099779336082066.\n"
     ]
    },
    {
     "name": "stdout",
     "output_type": "stream",
     "text": [
      "EvaluatorHoldout: Processed 10493 (100.0%) in 12.76 sec. Users per second: 822\n",
      "EvaluatorHoldout: Processed 10472 (100.0%) in 12.93 sec. Users per second: 810EvaluatorHoldout: Processed 10467 (100.0%) in 12.85 sec. Users per second: 814EvaluatorHoldout: Processed 10444 (100.0%) in 12.95 sec. Users per second: 807\n",
      "\n",
      "\n",
      "EvaluatorHoldout: Processed 10488 (100.0%) in 13.24 sec. Users per second: 792\n",
      "EvaluatorHoldout: Processed 10473 (100.0%) in 13.39 sec. Users per second: 782\n",
      "EvaluatorHoldout: Processed 10440 (100.0%) in 13.57 sec. Users per second: 769\n",
      "EvaluatorHoldout: Processed 10448 (100.0%) in 13.67 sec. Users per second: 764\n"
     ]
    },
    {
     "name": "stderr",
     "output_type": "stream",
     "text": [
      "[I 2024-01-08 16:00:45,265] Trial 171 finished with value: 0.05099868151971252 and parameters: {'alpha_0': 0.08389497919262155, 'alpha_1': 0.9228257840744702, 'alpha_2': 0.12237742309626237, 'alpha_3': 0.6108655685088431, 'alpha_4': 0.18038320347540016}. Best is trial 171 with value: 0.05099868151971252.\n"
     ]
    },
    {
     "name": "stdout",
     "output_type": "stream",
     "text": [
      "EvaluatorHoldout: Processed 10472 (100.0%) in 13.04 sec. Users per second: 803\n",
      "EvaluatorHoldout: Processed 10448 (100.0%) in 13.33 sec. Users per second: 784EvaluatorHoldout: Processed 10440 (100.0%) in 13.20 sec. Users per second: 791\n",
      "\n",
      "EvaluatorHoldout: Processed 10444 (100.0%) in 13.42 sec. Users per second: 778\n",
      "EvaluatorHoldout: Processed 10488 (100.0%) in 13.64 sec. Users per second: 769\n",
      "EvaluatorHoldout: Processed 10467 (100.0%) in 13.67 sec. Users per second: 766\n",
      "EvaluatorHoldout: Processed 10473 (100.0%) in 13.76 sec. Users per second: 761\n",
      "EvaluatorHoldout: Processed 10493 (100.0%) in 13.78 sec. Users per second: 761\n"
     ]
    },
    {
     "name": "stderr",
     "output_type": "stream",
     "text": [
      "[I 2024-01-08 16:00:59,286] Trial 172 finished with value: 0.050997033600336646 and parameters: {'alpha_0': 0.06930650871080782, 'alpha_1': 0.8820996724061737, 'alpha_2': 0.14917185679557798, 'alpha_3': 0.6129712785360785, 'alpha_4': 0.1781310774203899}. Best is trial 171 with value: 0.05099868151971252.\n"
     ]
    },
    {
     "name": "stdout",
     "output_type": "stream",
     "text": [
      "EvaluatorHoldout: Processed 10467 (100.0%) in 13.11 sec. Users per second: 798\n",
      "EvaluatorHoldout: Processed 10473 (100.0%) in 13.28 sec. Users per second: 789\n",
      "EvaluatorHoldout: Processed 10444 (100.0%) in 13.29 sec. Users per second: 786\n",
      "EvaluatorHoldout: Processed 10493 (100.0%) in 13.33 sec. Users per second: 787\n",
      "EvaluatorHoldout: Processed 10472 (100.0%) in 13.40 sec. Users per second: 781\n",
      "EvaluatorHoldout: Processed 10448 (100.0%) in 13.71 sec. Users per second: 762\n",
      "EvaluatorHoldout: Processed 10488 (100.0%) in 13.83 sec. Users per second: 758\n",
      "EvaluatorHoldout: Processed 10440 (100.0%) in 13.86 sec. Users per second: 753\n"
     ]
    },
    {
     "name": "stderr",
     "output_type": "stream",
     "text": [
      "[I 2024-01-08 16:01:13,382] Trial 173 finished with value: 0.05099412068349181 and parameters: {'alpha_0': 0.06185597937184571, 'alpha_1': 0.8833292776995446, 'alpha_2': 0.10846990171256544, 'alpha_3': 0.6120275692608483, 'alpha_4': 0.19542779721109824}. Best is trial 171 with value: 0.05099868151971252.\n"
     ]
    },
    {
     "name": "stdout",
     "output_type": "stream",
     "text": [
      "EvaluatorHoldout: Processed 10444 (100.0%) in 13.48 sec. Users per second: 775\n",
      "EvaluatorHoldout: Processed 10467 (100.0%) in 13.84 sec. Users per second: 756\n",
      "EvaluatorHoldout: Processed 10473 (100.0%) in 13.96 sec. Users per second: 750\n",
      "EvaluatorHoldout: Processed 10440 (100.0%) in 13.90 sec. Users per second: 751\n",
      "EvaluatorHoldout: Processed 10493 (100.0%) in 14.16 sec. Users per second: 741\n",
      "EvaluatorHoldout: Processed 10488 (100.0%) in 14.36 sec. Users per second: 731\n",
      "EvaluatorHoldout: Processed 10448 (100.0%) in 14.46 sec. Users per second: 723\n",
      "EvaluatorHoldout: Processed 10472 (100.0%) in 14.48 sec. Users per second: 723\n"
     ]
    },
    {
     "name": "stderr",
     "output_type": "stream",
     "text": [
      "[I 2024-01-08 16:01:28,054] Trial 174 finished with value: 0.05099384728270369 and parameters: {'alpha_0': 0.06989860742028874, 'alpha_1': 0.8922514768973308, 'alpha_2': 0.0766298154625806, 'alpha_3': 0.6124435711319622, 'alpha_4': 0.18971426491948928}. Best is trial 171 with value: 0.05099868151971252.\n"
     ]
    },
    {
     "name": "stdout",
     "output_type": "stream",
     "text": [
      "EvaluatorHoldout: Processed 10472 (100.0%) in 13.64 sec. Users per second: 768\n",
      "EvaluatorHoldout: Processed 10488 (100.0%) in 13.72 sec. Users per second: 765\n",
      "EvaluatorHoldout: Processed 10473 (100.0%) in 13.83 sec. Users per second: 757\n",
      "EvaluatorHoldout: Processed 10493 (100.0%) in 13.84 sec. Users per second: 758\n",
      "EvaluatorHoldout: Processed 10440 (100.0%) in 13.92 sec. Users per second: 750\n",
      "EvaluatorHoldout: Processed 10448 (100.0%) in 14.27 sec. Users per second: 732\n",
      "EvaluatorHoldout: Processed 10467 (100.0%) in 14.25 sec. Users per second: 734\n",
      "EvaluatorHoldout: Processed 10444 (100.0%) in 14.42 sec. Users per second: 724\n"
     ]
    },
    {
     "name": "stderr",
     "output_type": "stream",
     "text": [
      "[I 2024-01-08 16:01:42,684] Trial 175 finished with value: 0.05099583581595932 and parameters: {'alpha_0': 0.06505802912446373, 'alpha_1': 0.8817860624678545, 'alpha_2': 0.0824128576808123, 'alpha_3': 0.6090556931514435, 'alpha_4': 0.18467152011658386}. Best is trial 171 with value: 0.05099868151971252.\n"
     ]
    },
    {
     "name": "stdout",
     "output_type": "stream",
     "text": [
      "EvaluatorHoldout: Processed 10440 (100.0%) in 13.78 sec. Users per second: 758\n",
      "EvaluatorHoldout: Processed 10444 (100.0%) in 13.95 sec. Users per second: 749\n",
      "EvaluatorHoldout: Processed 10467 (100.0%) in 14.07 sec. Users per second: 744\n",
      "EvaluatorHoldout: Processed 10473 (100.0%) in 14.16 sec. Users per second: 740\n",
      "EvaluatorHoldout: Processed 10472 (100.0%) in 14.45 sec. Users per second: 725\n",
      "EvaluatorHoldout: Processed 10448 (100.0%) in 14.58 sec. Users per second: 717\n",
      "EvaluatorHoldout: Processed 10488 (100.0%) in 14.65 sec. Users per second: 716\n",
      "EvaluatorHoldout: Processed 10493 (100.0%) in 14.68 sec. Users per second: 715\n"
     ]
    },
    {
     "name": "stderr",
     "output_type": "stream",
     "text": [
      "[I 2024-01-08 16:01:57,616] Trial 176 finished with value: 0.050895304497066696 and parameters: {'alpha_0': 0.03619646895942018, 'alpha_1': 0.8971517852961809, 'alpha_2': 0.034942726758437646, 'alpha_3': 0.6039029689371969, 'alpha_4': 0.16075111380378174}. Best is trial 171 with value: 0.05099868151971252.\n"
     ]
    },
    {
     "name": "stdout",
     "output_type": "stream",
     "text": [
      "EvaluatorHoldout: Processed 10473 (100.0%) in 13.89 sec. Users per second: 754\n",
      "EvaluatorHoldout: Processed 10493 (100.0%) in 14.11 sec. Users per second: 744\n",
      "EvaluatorHoldout: Processed 10472 (100.0%) in 14.46 sec. Users per second: 724\n",
      "EvaluatorHoldout: Processed 10448 (100.0%) in 14.50 sec. Users per second: 720\n",
      "EvaluatorHoldout: Processed 10488 (100.0%) in 14.60 sec. Users per second: 719\n",
      "EvaluatorHoldout: Processed 10444 (100.0%) in 14.64 sec. Users per second: 713\n",
      "EvaluatorHoldout: Processed 10467 (100.0%) in 14.66 sec. Users per second: 714\n",
      "EvaluatorHoldout: Processed 10440 (100.0%) in 14.76 sec. Users per second: 707\n"
     ]
    },
    {
     "name": "stderr",
     "output_type": "stream",
     "text": [
      "[I 2024-01-08 16:02:12,623] Trial 177 finished with value: 0.050998304651023535 and parameters: {'alpha_0': 0.06790068125735955, 'alpha_1': 0.8734976236492078, 'alpha_2': 0.0780879944679442, 'alpha_3': 0.6142513466770344, 'alpha_4': 0.20994492166090506}. Best is trial 171 with value: 0.05099868151971252.\n"
     ]
    },
    {
     "name": "stdout",
     "output_type": "stream",
     "text": [
      "EvaluatorHoldout: Processed 10444 (100.0%) in 13.42 sec. Users per second: 778\n",
      "EvaluatorHoldout: Processed 10473 (100.0%) in 13.43 sec. Users per second: 780\n",
      "EvaluatorHoldout: Processed 10472 (100.0%) in 13.53 sec. Users per second: 774\n",
      "EvaluatorHoldout: Processed 10488 (100.0%) in 13.87 sec. Users per second: 756\n",
      "EvaluatorHoldout: Processed 10440 (100.0%) in 13.94 sec. Users per second: 749\n",
      "EvaluatorHoldout: Processed 10467 (100.0%) in 13.93 sec. Users per second: 751\n",
      "EvaluatorHoldout: Processed 10448 (100.0%) in 14.18 sec. Users per second: 737\n",
      "EvaluatorHoldout: Processed 10493 (100.0%) in 14.35 sec. Users per second: 731\n"
     ]
    },
    {
     "name": "stderr",
     "output_type": "stream",
     "text": [
      "[I 2024-01-08 16:02:27,187] Trial 178 finished with value: 0.05099572072742091 and parameters: {'alpha_0': 0.06096947175749923, 'alpha_1': 0.8772013215462544, 'alpha_2': 0.07361889780764323, 'alpha_3': 0.5837476542024351, 'alpha_4': 0.1810888762694094}. Best is trial 171 with value: 0.05099868151971252.\n"
     ]
    },
    {
     "name": "stdout",
     "output_type": "stream",
     "text": [
      "EvaluatorHoldout: Processed 10473 (100.0%) in 13.24 sec. Users per second: 791\n",
      "EvaluatorHoldout: Processed 10493 (100.0%) in 13.66 sec. Users per second: 768\n",
      "EvaluatorHoldout: Processed 10472 (100.0%) in 13.80 sec. Users per second: 759\n",
      "EvaluatorHoldout: Processed 10444 (100.0%) in 14.20 sec. Users per second: 735\n",
      "EvaluatorHoldout: Processed 10440 (100.0%) in 14.19 sec. Users per second: 736\n",
      "EvaluatorHoldout: Processed 10488 (100.0%) in 14.28 sec. Users per second: 734\n",
      "EvaluatorHoldout: Processed 10448 (100.0%) in 14.34 sec. Users per second: 728\n",
      "EvaluatorHoldout: Processed 10467 (100.0%) in 14.31 sec. Users per second: 731\n"
     ]
    },
    {
     "name": "stderr",
     "output_type": "stream",
     "text": [
      "[I 2024-01-08 16:02:41,727] Trial 179 finished with value: 0.05089029584466344 and parameters: {'alpha_0': 0.009550998245116536, 'alpha_1': 0.8741482021465871, 'alpha_2': 0.07342397606701742, 'alpha_3': 0.5724668290342746, 'alpha_4': 0.18057530201349448}. Best is trial 171 with value: 0.05099868151971252.\n"
     ]
    },
    {
     "name": "stdout",
     "output_type": "stream",
     "text": [
      "EvaluatorHoldout: Processed 10467 (100.0%) in 13.40 sec. Users per second: 781\n",
      "EvaluatorHoldout: Processed 10473 (100.0%) in 13.61 sec. Users per second: 769\n",
      "EvaluatorHoldout: Processed 10448 (100.0%) in 13.71 sec. Users per second: 762\n",
      "EvaluatorHoldout: Processed 10493 (100.0%) in 13.77 sec. Users per second: 762\n",
      "EvaluatorHoldout: Processed 10488 (100.0%) in 14.05 sec. Users per second: 746\n",
      "EvaluatorHoldout: Processed 10472 (100.0%) in 14.06 sec. Users per second: 745\n",
      "EvaluatorHoldout: Processed 10440 (100.0%) in 14.18 sec. Users per second: 736\n",
      "EvaluatorHoldout: Processed 10444 (100.0%) in 14.33 sec. Users per second: 729\n"
     ]
    },
    {
     "name": "stderr",
     "output_type": "stream",
     "text": [
      "[I 2024-01-08 16:02:56,262] Trial 180 finished with value: 0.05093723856794086 and parameters: {'alpha_0': 0.12456488196926055, 'alpha_1': 0.8796319209441077, 'alpha_2': 0.07180144578837157, 'alpha_3': 0.6193638840700066, 'alpha_4': 0.14448782575420463}. Best is trial 171 with value: 0.05099868151971252.\n"
     ]
    },
    {
     "name": "stdout",
     "output_type": "stream",
     "text": [
      "EvaluatorHoldout: Processed 10467 (100.0%) in 14.05 sec. Users per second: 745\n",
      "EvaluatorHoldout: Processed 10488 (100.0%) in 14.55 sec. Users per second: 721\n",
      "EvaluatorHoldout: Processed 10444 (100.0%) in 14.60 sec. Users per second: 716\n",
      "EvaluatorHoldout: Processed 10473 (100.0%) in 14.60 sec. Users per second: 717\n",
      "EvaluatorHoldout: Processed 10493 (100.0%) in 14.50 sec. Users per second: 724\n",
      "EvaluatorHoldout: Processed 10472 (100.0%) in 14.79 sec. Users per second: 708\n",
      "EvaluatorHoldout: Processed 10440 (100.0%) in 14.89 sec. Users per second: 701\n",
      "EvaluatorHoldout: Processed 10448 (100.0%) in 14.95 sec. Users per second: 699\n"
     ]
    },
    {
     "name": "stderr",
     "output_type": "stream",
     "text": [
      "[I 2024-01-08 16:03:11,440] Trial 181 finished with value: 0.05094038509566574 and parameters: {'alpha_0': 0.061494679168387315, 'alpha_1': 0.856023001649314, 'alpha_2': 0.04996125531197888, 'alpha_3': 0.5832282414020762, 'alpha_4': 0.20730612662543163}. Best is trial 171 with value: 0.05099868151971252.\n"
     ]
    },
    {
     "name": "stdout",
     "output_type": "stream",
     "text": [
      "EvaluatorHoldout: Processed 10448 (100.0%) in 13.51 sec. Users per second: 774\n",
      "EvaluatorHoldout: Processed 10472 (100.0%) in 13.70 sec. Users per second: 764EvaluatorHoldout: Processed 10473 (100.0%) in 13.73 sec. Users per second: 763\n",
      "\n",
      "EvaluatorHoldout: Processed 10488 (100.0%) in 14.00 sec. Users per second: 749\n",
      "EvaluatorHoldout: Processed 10467 (100.0%) in 13.90 sec. Users per second: 753\n",
      "EvaluatorHoldout: Processed 10444 (100.0%) in 14.17 sec. Users per second: 737\n",
      "EvaluatorHoldout: Processed 10493 (100.0%) in 14.07 sec. Users per second: 746\n",
      "EvaluatorHoldout: Processed 10440 (100.0%) in 14.26 sec. Users per second: 732\n"
     ]
    },
    {
     "name": "stderr",
     "output_type": "stream",
     "text": [
      "[I 2024-01-08 16:03:25,947] Trial 182 finished with value: 0.048495339526379966 and parameters: {'alpha_0': 0.8444299703822052, 'alpha_1': 0.8427059310262449, 'alpha_2': 0.09622903255696368, 'alpha_3': 0.595519760099724, 'alpha_4': 0.1761060707374483}. Best is trial 171 with value: 0.05099868151971252.\n"
     ]
    },
    {
     "name": "stdout",
     "output_type": "stream",
     "text": [
      "EvaluatorHoldout: Processed 10448 (100.0%) in 14.21 sec. Users per second: 735\n",
      "EvaluatorHoldout: Processed 10440 (100.0%) in 14.38 sec. Users per second: 726\n",
      "EvaluatorHoldout: Processed 10493 (100.0%) in 14.49 sec. Users per second: 724\n",
      "EvaluatorHoldout: Processed 10488 (100.0%) in 14.76 sec. Users per second: 710\n",
      "EvaluatorHoldout: Processed 10473 (100.0%) in 15.00 sec. Users per second: 698\n",
      "EvaluatorHoldout: Processed 10472 (100.0%) in 15.05 sec. Users per second: 696\n",
      "EvaluatorHoldout: Processed 10467 (100.0%) in 14.98 sec. Users per second: 699\n",
      "EvaluatorHoldout: Processed 10444 (100.0%) in 15.26 sec. Users per second: 684\n"
     ]
    },
    {
     "name": "stderr",
     "output_type": "stream",
     "text": [
      "[I 2024-01-08 16:03:41,419] Trial 183 finished with value: 0.05087216701774766 and parameters: {'alpha_0': 0.06086489033247734, 'alpha_1': 0.9023305226974397, 'alpha_2': 0.0318302001669466, 'alpha_3': 0.5661269391833171, 'alpha_4': 0.2330125358231377}. Best is trial 171 with value: 0.05099868151971252.\n"
     ]
    },
    {
     "name": "stdout",
     "output_type": "stream",
     "text": [
      "EvaluatorHoldout: Processed 10472 (100.0%) in 13.48 sec. Users per second: 777\n",
      "EvaluatorHoldout: Processed 10444 (100.0%) in 13.99 sec. Users per second: 747\n",
      "EvaluatorHoldout: Processed 10440 (100.0%) in 13.93 sec. Users per second: 749\n",
      "EvaluatorHoldout: Processed 10473 (100.0%) in 14.14 sec. Users per second: 740\n",
      "EvaluatorHoldout: Processed 10488 (100.0%) in 14.25 sec. Users per second: 736\n",
      "EvaluatorHoldout: Processed 10467 (100.0%) in 14.20 sec. Users per second: 737\n",
      "EvaluatorHoldout: Processed 10493 (100.0%) in 14.44 sec. Users per second: 727\n",
      "EvaluatorHoldout: Processed 10448 (100.0%) in 14.57 sec. Users per second: 717\n"
     ]
    },
    {
     "name": "stderr",
     "output_type": "stream",
     "text": [
      "[I 2024-01-08 16:03:56,198] Trial 184 finished with value: 0.050954008584833094 and parameters: {'alpha_0': 0.03878630607759086, 'alpha_1': 0.9082769033325588, 'alpha_2': 0.07854227391378435, 'alpha_3': 0.6220625684537334, 'alpha_4': 0.19539774939337223}. Best is trial 171 with value: 0.05099868151971252.\n"
     ]
    },
    {
     "name": "stdout",
     "output_type": "stream",
     "text": [
      "EvaluatorHoldout: Processed 10473 (100.0%) in 13.98 sec. Users per second: 749\n",
      "EvaluatorHoldout: Processed 10467 (100.0%) in 14.09 sec. Users per second: 743\n",
      "EvaluatorHoldout: Processed 10493 (100.0%) in 14.34 sec. Users per second: 732\n",
      "EvaluatorHoldout: Processed 10472 (100.0%) in 14.47 sec. Users per second: 724\n",
      "EvaluatorHoldout: Processed 10488 (100.0%) in 14.55 sec. Users per second: 721\n",
      "EvaluatorHoldout: Processed 10444 (100.0%) in 14.71 sec. Users per second: 710\n",
      "EvaluatorHoldout: Processed 10440 (100.0%) in 14.71 sec. Users per second: 709\n",
      "EvaluatorHoldout: Processed 10448 (100.0%) in 14.89 sec. Users per second: 701\n"
     ]
    },
    {
     "name": "stderr",
     "output_type": "stream",
     "text": [
      "[I 2024-01-08 16:04:11,326] Trial 185 finished with value: 0.05089090425506129 and parameters: {'alpha_0': 0.02018914205928475, 'alpha_1': 0.9251028624793196, 'alpha_2': 0.10148379805811354, 'alpha_3': 0.5865995912373925, 'alpha_4': 0.1610641113443858}. Best is trial 171 with value: 0.05099868151971252.\n"
     ]
    },
    {
     "name": "stdout",
     "output_type": "stream",
     "text": [
      "EvaluatorHoldout: Processed 10488 (100.0%) in 14.76 sec. Users per second: 711\n",
      "EvaluatorHoldout: Processed 10440 (100.0%) in 14.64 sec. Users per second: 713\n",
      "EvaluatorHoldout: Processed 10444 (100.0%) in 15.24 sec. Users per second: 685\n",
      "EvaluatorHoldout: Processed 10493 (100.0%) in 15.27 sec. Users per second: 687\n",
      "EvaluatorHoldout: Processed 10473 (100.0%) in 15.38 sec. Users per second: 681\n",
      "EvaluatorHoldout: Processed 10467 (100.0%) in 15.44 sec. Users per second: 678\n",
      "EvaluatorHoldout: Processed 10448 (100.0%) in 15.59 sec. Users per second: 670\n",
      "EvaluatorHoldout: Processed 10472 (100.0%) in 15.64 sec. Users per second: 670\n"
     ]
    },
    {
     "name": "stderr",
     "output_type": "stream",
     "text": [
      "[I 2024-01-08 16:04:27,247] Trial 186 finished with value: 0.050913788948270505 and parameters: {'alpha_0': 0.10389489518800814, 'alpha_1': 0.8791724047248499, 'alpha_2': 0.059903369018534325, 'alpha_3': 0.6037179910894747, 'alpha_4': 0.2186346998061826}. Best is trial 171 with value: 0.05099868151971252.\n"
     ]
    },
    {
     "name": "stdout",
     "output_type": "stream",
     "text": [
      "EvaluatorHoldout: Processed 10473 (100.0%) in 14.26 sec. Users per second: 734\n",
      "EvaluatorHoldout: Processed 10444 (100.0%) in 14.37 sec. Users per second: 727\n",
      "EvaluatorHoldout: Processed 10488 (100.0%) in 14.63 sec. Users per second: 717\n",
      "EvaluatorHoldout: Processed 10448 (100.0%) in 14.73 sec. Users per second: 709\n",
      "EvaluatorHoldout: Processed 10467 (100.0%) in 14.69 sec. Users per second: 713\n",
      "EvaluatorHoldout: Processed 10472 (100.0%) in 14.84 sec. Users per second: 706\n",
      "EvaluatorHoldout: Processed 10440 (100.0%) in 14.82 sec. Users per second: 704\n",
      "EvaluatorHoldout: Processed 10493 (100.0%) in 14.98 sec. Users per second: 700\n"
     ]
    },
    {
     "name": "stderr",
     "output_type": "stream",
     "text": [
      "[I 2024-01-08 16:04:42,473] Trial 187 finished with value: 0.050992423384056636 and parameters: {'alpha_0': 0.06899427210774181, 'alpha_1': 0.9208863608699784, 'alpha_2': 0.10677115092871828, 'alpha_3': 0.62731935377691, 'alpha_4': 0.18627445910531812}. Best is trial 171 with value: 0.05099868151971252.\n"
     ]
    },
    {
     "name": "stdout",
     "output_type": "stream",
     "text": [
      "EvaluatorHoldout: Processed 10488 (100.0%) in 13.10 sec. Users per second: 800\n",
      "EvaluatorHoldout: Processed 10444 (100.0%) in 13.66 sec. Users per second: 764\n",
      "EvaluatorHoldout: Processed 10467 (100.0%) in 13.92 sec. Users per second: 752\n",
      "EvaluatorHoldout: Processed 10473 (100.0%) in 14.18 sec. Users per second: 739\n",
      "EvaluatorHoldout: Processed 10472 (100.0%) in 14.21 sec. Users per second: 737\n",
      "EvaluatorHoldout: Processed 10493 (100.0%) in 14.17 sec. Users per second: 741\n",
      "EvaluatorHoldout: Processed 10440 (100.0%) in 14.41 sec. Users per second: 724\n",
      "EvaluatorHoldout: Processed 10448 (100.0%) in 14.63 sec. Users per second: 714\n"
     ]
    },
    {
     "name": "stderr",
     "output_type": "stream",
     "text": [
      "[I 2024-01-08 16:04:57,306] Trial 188 finished with value: 0.05099168264195154 and parameters: {'alpha_0': 0.04680003110323773, 'alpha_1': 0.9011028244984992, 'alpha_2': 0.08552124956234372, 'alpha_3': 0.6468917299132795, 'alpha_4': 0.18461741079441724}. Best is trial 171 with value: 0.05099868151971252.\n"
     ]
    },
    {
     "name": "stdout",
     "output_type": "stream",
     "text": [
      "EvaluatorHoldout: Processed 10467 (100.0%) in 13.19 sec. Users per second: 793\n",
      "EvaluatorHoldout: Processed 10473 (100.0%) in 13.80 sec. Users per second: 759\n",
      "EvaluatorHoldout: Processed 10440 (100.0%) in 14.12 sec. Users per second: 739\n",
      "EvaluatorHoldout: Processed 10472 (100.0%) in 14.24 sec. Users per second: 736\n",
      "EvaluatorHoldout: Processed 10488 (100.0%) in 14.26 sec. Users per second: 736\n",
      "EvaluatorHoldout: Processed 10448 (100.0%) in 14.54 sec. Users per second: 719\n",
      "EvaluatorHoldout: Processed 10444 (100.0%) in 14.72 sec. Users per second: 710\n",
      "EvaluatorHoldout: Processed 10493 (100.0%) in 14.83 sec. Users per second: 707\n"
     ]
    },
    {
     "name": "stderr",
     "output_type": "stream",
     "text": [
      "[I 2024-01-08 16:05:12,415] Trial 189 finished with value: 0.05097569234876005 and parameters: {'alpha_0': 0.05433694830685709, 'alpha_1': 0.8489168410154554, 'alpha_2': 0.08178879715896425, 'alpha_3': 0.626341994058505, 'alpha_4': 0.18479486210000617}. Best is trial 171 with value: 0.05099868151971252.\n"
     ]
    },
    {
     "name": "stdout",
     "output_type": "stream",
     "text": [
      "EvaluatorHoldout: Processed 10488 (100.0%) in 13.41 sec. Users per second: 782\n",
      "EvaluatorHoldout: Processed 10493 (100.0%) in 13.44 sec. Users per second: 780\n",
      "EvaluatorHoldout: Processed 10467 (100.0%) in 13.60 sec. Users per second: 770\n",
      "EvaluatorHoldout: Processed 10448 (100.0%) in 14.05 sec. Users per second: 744\n",
      "EvaluatorHoldout: Processed 10444 (100.0%) in 14.11 sec. Users per second: 740\n",
      "EvaluatorHoldout: Processed 10472 (100.0%) in 14.12 sec. Users per second: 742\n",
      "EvaluatorHoldout: Processed 10440 (100.0%) in 14.39 sec. Users per second: 726\n",
      "EvaluatorHoldout: Processed 10473 (100.0%) in 14.51 sec. Users per second: 722\n"
     ]
    },
    {
     "name": "stderr",
     "output_type": "stream",
     "text": [
      "[I 2024-01-08 16:05:27,134] Trial 190 finished with value: 0.050882307391890355 and parameters: {'alpha_0': 0.03893557702333429, 'alpha_1': 0.8996839673848668, 'alpha_2': 0.01699525042667313, 'alpha_3': 0.652858560693117, 'alpha_4': 0.15598379638004964}. Best is trial 171 with value: 0.05099868151971252.\n"
     ]
    },
    {
     "name": "stdout",
     "output_type": "stream",
     "text": [
      "EvaluatorHoldout: Processed 10467 (100.0%) in 13.87 sec. Users per second: 754\n",
      "EvaluatorHoldout: Processed 10488 (100.0%) in 14.19 sec. Users per second: 739\n",
      "EvaluatorHoldout: Processed 10473 (100.0%) in 14.27 sec. Users per second: 734\n",
      "EvaluatorHoldout: Processed 10493 (100.0%) in 14.28 sec. Users per second: 735\n",
      "EvaluatorHoldout: Processed 10444 (100.0%) in 14.38 sec. Users per second: 726\n",
      "EvaluatorHoldout: Processed 10440 (100.0%) in 14.56 sec. Users per second: 717\n",
      "EvaluatorHoldout: Processed 10472 (100.0%) in 14.74 sec. Users per second: 711\n",
      "EvaluatorHoldout: Processed 10448 (100.0%) in 14.84 sec. Users per second: 704\n"
     ]
    },
    {
     "name": "stderr",
     "output_type": "stream",
     "text": [
      "[I 2024-01-08 16:05:42,160] Trial 191 finished with value: 0.050993487256167425 and parameters: {'alpha_0': 0.07494180601362976, 'alpha_1': 0.9140377155926704, 'alpha_2': 0.09764274365277298, 'alpha_3': 0.6500509771315746, 'alpha_4': 0.2066835598839285}. Best is trial 171 with value: 0.05099868151971252.\n"
     ]
    },
    {
     "name": "stdout",
     "output_type": "stream",
     "text": [
      "EvaluatorHoldout: Processed 10444 (100.0%) in 13.46 sec. Users per second: 776\n",
      "EvaluatorHoldout: Processed 10440 (100.0%) in 13.61 sec. Users per second: 767\n",
      "EvaluatorHoldout: Processed 10448 (100.0%) in 13.87 sec. Users per second: 753\n",
      "EvaluatorHoldout: Processed 10488 (100.0%) in 13.89 sec. Users per second: 755\n",
      "EvaluatorHoldout: Processed 10472 (100.0%) in 13.90 sec. Users per second: 753\n",
      "EvaluatorHoldout: Processed 10467 (100.0%) in 14.00 sec. Users per second: 747\n",
      "EvaluatorHoldout: Processed 10493 (100.0%) in 14.31 sec. Users per second: 733\n",
      "EvaluatorHoldout: Processed 10473 (100.0%) in 14.37 sec. Users per second: 729\n"
     ]
    },
    {
     "name": "stderr",
     "output_type": "stream",
     "text": [
      "[I 2024-01-08 16:05:56,719] Trial 192 finished with value: 0.050981729762227146 and parameters: {'alpha_0': 0.07095557403281452, 'alpha_1': 0.8847283274578012, 'alpha_2': 0.091522617765258, 'alpha_3': 0.6837737807513627, 'alpha_4': 0.20531702868469137}. Best is trial 171 with value: 0.05099868151971252.\n"
     ]
    },
    {
     "name": "stdout",
     "output_type": "stream",
     "text": [
      "EvaluatorHoldout: Processed 10488 (100.0%) in 13.41 sec. Users per second: 782\n",
      "EvaluatorHoldout: Processed 10444 (100.0%) in 13.53 sec. Users per second: 772\n",
      "EvaluatorHoldout: Processed 10473 (100.0%) in 13.58 sec. Users per second: 771\n",
      "EvaluatorHoldout: Processed 10448 (100.0%) in 13.85 sec. Users per second: 754\n",
      "EvaluatorHoldout: Processed 10472 (100.0%) in 13.98 sec. Users per second: 749\n",
      "EvaluatorHoldout: Processed 10467 (100.0%) in 13.91 sec. Users per second: 753\n",
      "EvaluatorHoldout: Processed 10440 (100.0%) in 14.17 sec. Users per second: 737\n",
      "EvaluatorHoldout: Processed 10493 (100.0%) in 14.30 sec. Users per second: 734\n"
     ]
    },
    {
     "name": "stderr",
     "output_type": "stream",
     "text": [
      "[I 2024-01-08 16:06:11,268] Trial 193 finished with value: 0.050913545426473444 and parameters: {'alpha_0': 0.07004103595851893, 'alpha_1': 0.8629540022291269, 'alpha_2': 0.04357067547578201, 'alpha_3': 0.6482907636358143, 'alpha_4': 0.20283282657034793}. Best is trial 171 with value: 0.05099868151971252.\n"
     ]
    },
    {
     "name": "stdout",
     "output_type": "stream",
     "text": [
      "EvaluatorHoldout: Processed 10444 (100.0%) in 13.18 sec. Users per second: 792\n",
      "EvaluatorHoldout: Processed 10488 (100.0%) in 13.41 sec. Users per second: 782\n",
      "EvaluatorHoldout: Processed 10473 (100.0%) in 13.58 sec. Users per second: 771\n",
      "EvaluatorHoldout: Processed 10493 (100.0%) in 13.64 sec. Users per second: 769\n",
      "EvaluatorHoldout: Processed 10467 (100.0%) in 13.78 sec. Users per second: 759\n",
      "EvaluatorHoldout: Processed 10472 (100.0%) in 13.86 sec. Users per second: 756\n",
      "EvaluatorHoldout: Processed 10440 (100.0%) in 13.77 sec. Users per second: 758\n",
      "EvaluatorHoldout: Processed 10448 (100.0%) in 14.11 sec. Users per second: 740\n"
     ]
    },
    {
     "name": "stderr",
     "output_type": "stream",
     "text": [
      "[I 2024-01-08 16:06:25,603] Trial 194 finished with value: 0.05097985932832743 and parameters: {'alpha_0': 0.10216746288711381, 'alpha_1': 0.8861815023182077, 'alpha_2': 0.10275557053548735, 'alpha_3': 0.6948502248188888, 'alpha_4': 0.13971488604200522}. Best is trial 171 with value: 0.05099868151971252.\n"
     ]
    },
    {
     "name": "stdout",
     "output_type": "stream",
     "text": [
      "EvaluatorHoldout: Processed 10473 (100.0%) in 13.74 sec. Users per second: 762\n",
      "EvaluatorHoldout: Processed 10440 (100.0%) in 13.74 sec. Users per second: 760\n",
      "EvaluatorHoldout: Processed 10444 (100.0%) in 14.08 sec. Users per second: 742\n",
      "EvaluatorHoldout: Processed 10448 (100.0%) in 14.26 sec. Users per second: 733\n",
      "EvaluatorHoldout: Processed 10472 (100.0%) in 14.32 sec. Users per second: 731\n",
      "EvaluatorHoldout: Processed 10467 (100.0%) in 14.29 sec. Users per second: 733\n",
      "EvaluatorHoldout: Processed 10488 (100.0%) in 14.50 sec. Users per second: 723\n",
      "EvaluatorHoldout: Processed 10493 (100.0%) in 14.60 sec. Users per second: 718\n"
     ]
    },
    {
     "name": "stderr",
     "output_type": "stream",
     "text": [
      "[I 2024-01-08 16:06:40,445] Trial 195 finished with value: 0.05093533169124619 and parameters: {'alpha_0': 0.019736465471032957, 'alpha_1': 0.8310461226014441, 'alpha_2': 0.06868650861260854, 'alpha_3': 0.6234408001835711, 'alpha_4': 0.17735717822105793}. Best is trial 171 with value: 0.05099868151971252.\n"
     ]
    },
    {
     "name": "stdout",
     "output_type": "stream",
     "text": [
      "EvaluatorHoldout: Processed 10448 (100.0%) in 13.47 sec. Users per second: 776\n",
      "EvaluatorHoldout: Processed 10444 (100.0%) in 13.78 sec. Users per second: 758\n",
      "EvaluatorHoldout: Processed 10472 (100.0%) in 13.92 sec. Users per second: 752\n",
      "EvaluatorHoldout: Processed 10488 (100.0%) in 14.23 sec. Users per second: 737\n",
      "EvaluatorHoldout: Processed 10473 (100.0%) in 14.24 sec. Users per second: 736\n",
      "EvaluatorHoldout: Processed 10493 (100.0%) in 14.34 sec. Users per second: 732\n",
      "EvaluatorHoldout: Processed 10440 (100.0%) in 14.36 sec. Users per second: 727\n",
      "EvaluatorHoldout: Processed 10467 (100.0%) in 14.70 sec. Users per second: 712\n"
     ]
    },
    {
     "name": "stderr",
     "output_type": "stream",
     "text": [
      "[I 2024-01-08 16:06:55,417] Trial 196 finished with value: 0.050950328738013716 and parameters: {'alpha_0': 0.12413908168482622, 'alpha_1': 0.9146649887972997, 'alpha_2': 0.11086198017879267, 'alpha_3': 0.7183429016557588, 'alpha_4': 0.2149878886503538}. Best is trial 171 with value: 0.05099868151971252.\n"
     ]
    },
    {
     "name": "stdout",
     "output_type": "stream",
     "text": [
      "EvaluatorHoldout: Processed 10444 (100.0%) in 13.18 sec. Users per second: 793\n",
      "EvaluatorHoldout: Processed 10493 (100.0%) in 13.63 sec. Users per second: 770\n",
      "EvaluatorHoldout: Processed 10473 (100.0%) in 13.83 sec. Users per second: 757\n",
      "EvaluatorHoldout: Processed 10488 (100.0%) in 13.86 sec. Users per second: 757\n",
      "EvaluatorHoldout: Processed 10472 (100.0%) in 14.07 sec. Users per second: 744EvaluatorHoldout: Processed 10440 (100.0%) in 14.02 sec. Users per second: 745\n",
      "\n",
      "EvaluatorHoldout: Processed 10448 (100.0%) in 14.20 sec. Users per second: 736\n",
      "EvaluatorHoldout: Processed 10467 (100.0%) in 14.28 sec. Users per second: 733\n"
     ]
    },
    {
     "name": "stderr",
     "output_type": "stream",
     "text": [
      "[I 2024-01-08 16:07:09,991] Trial 197 finished with value: 0.050991917650488924 and parameters: {'alpha_0': 0.08142058402379938, 'alpha_1': 0.8754718754843637, 'alpha_2': 0.08802605821164634, 'alpha_3': 0.6339847322652532, 'alpha_4': 0.1932042741430729}. Best is trial 171 with value: 0.05099868151971252.\n"
     ]
    },
    {
     "name": "stdout",
     "output_type": "stream",
     "text": [
      "EvaluatorHoldout: Processed 10472 (100.0%) in 13.27 sec. Users per second: 789\n",
      "EvaluatorHoldout: Processed 10444 (100.0%) in 13.35 sec. Users per second: 782\n",
      "EvaluatorHoldout: Processed 10488 (100.0%) in 13.57 sec. Users per second: 773\n",
      "EvaluatorHoldout: Processed 10440 (100.0%) in 13.65 sec. Users per second: 765\n",
      "EvaluatorHoldout: Processed 10448 (100.0%) in 13.85 sec. Users per second: 754\n",
      "EvaluatorHoldout: Processed 10467 (100.0%) in 13.87 sec. Users per second: 754\n",
      "EvaluatorHoldout: Processed 10493 (100.0%) in 13.97 sec. Users per second: 751\n",
      "EvaluatorHoldout: Processed 10473 (100.0%) in 14.22 sec. Users per second: 736\n"
     ]
    },
    {
     "name": "stderr",
     "output_type": "stream",
     "text": [
      "[I 2024-01-08 16:07:24,414] Trial 198 finished with value: 0.050889327516219815 and parameters: {'alpha_0': 0.08566526666863954, 'alpha_1': 0.9059122905005685, 'alpha_2': 0.05402931177796512, 'alpha_3': 0.3544959162608599, 'alpha_4': 0.17264154938550244}. Best is trial 171 with value: 0.05099868151971252.\n"
     ]
    },
    {
     "name": "stdout",
     "output_type": "stream",
     "text": [
      "EvaluatorHoldout: Processed 10448 (100.0%) in 13.01 sec. Users per second: 803\n",
      "EvaluatorHoldout: Processed 10472 (100.0%) in 13.19 sec. Users per second: 794\n",
      "EvaluatorHoldout: Processed 10473 (100.0%) in 13.49 sec. Users per second: 776\n",
      "EvaluatorHoldout: Processed 10444 (100.0%) in 13.54 sec. Users per second: 771\n",
      "EvaluatorHoldout: Processed 10493 (100.0%) in 13.68 sec. Users per second: 767\n",
      "EvaluatorHoldout: Processed 10467 (100.0%) in 13.76 sec. Users per second: 760EvaluatorHoldout: Processed 10488 (100.0%) in 13.91 sec. Users per second: 754\n",
      "\n",
      "EvaluatorHoldout: Processed 10440 (100.0%) in 14.08 sec. Users per second: 742\n"
     ]
    },
    {
     "name": "stderr",
     "output_type": "stream",
     "text": [
      "[I 2024-01-08 16:07:38,741] Trial 199 finished with value: 0.050991519524188046 and parameters: {'alpha_0': 0.04499431023276836, 'alpha_1': 0.8718482983069391, 'alpha_2': 0.11984770299767629, 'alpha_3': 0.6374342781238627, 'alpha_4': 0.23250680440323562}. Best is trial 171 with value: 0.05099868151971252.\n"
     ]
    },
    {
     "name": "stdout",
     "output_type": "stream",
     "text": [
      "EvaluatorHoldout: Processed 10448 (100.0%) in 13.53 sec. Users per second: 772\n",
      "EvaluatorHoldout: Processed 10472 (100.0%) in 13.63 sec. Users per second: 768\n",
      "EvaluatorHoldout: Processed 10440 (100.0%) in 13.80 sec. Users per second: 756\n",
      "EvaluatorHoldout: Processed 10473 (100.0%) in 14.24 sec. Users per second: 736\n",
      "EvaluatorHoldout: Processed 10467 (100.0%) in 14.20 sec. Users per second: 737EvaluatorHoldout: Processed 10444 (100.0%) in 14.33 sec. Users per second: 729\n",
      "\n",
      "EvaluatorHoldout: Processed 10488 (100.0%) in 14.48 sec. Users per second: 724\n",
      "EvaluatorHoldout: Processed 10493 (100.0%) in 14.72 sec. Users per second: 713\n"
     ]
    },
    {
     "name": "stderr",
     "output_type": "stream",
     "text": [
      "[I 2024-01-08 16:07:53,714] Trial 200 finished with value: 0.050968902063797006 and parameters: {'alpha_0': 0.04175043220226238, 'alpha_1': 0.8572093000413398, 'alpha_2': 0.1412697765332191, 'alpha_3': 0.6401802607577629, 'alpha_4': 0.23530861778215423}. Best is trial 171 with value: 0.05099868151971252.\n"
     ]
    },
    {
     "name": "stdout",
     "output_type": "stream",
     "text": [
      "EvaluatorHoldout: Processed 10448 (100.0%) in 13.72 sec. Users per second: 762\n",
      "EvaluatorHoldout: Processed 10472 (100.0%) in 13.82 sec. Users per second: 758\n",
      "EvaluatorHoldout: Processed 10444 (100.0%) in 13.85 sec. Users per second: 754\n",
      "EvaluatorHoldout: Processed 10493 (100.0%) in 13.93 sec. Users per second: 753\n",
      "EvaluatorHoldout: Processed 10440 (100.0%) in 13.98 sec. Users per second: 747\n",
      "EvaluatorHoldout: Processed 10467 (100.0%) in 14.23 sec. Users per second: 735\n",
      "EvaluatorHoldout: Processed 10488 (100.0%) in 14.37 sec. Users per second: 730\n",
      "EvaluatorHoldout: Processed 10473 (100.0%) in 14.51 sec. Users per second: 722\n"
     ]
    },
    {
     "name": "stderr",
     "output_type": "stream",
     "text": [
      "[I 2024-01-08 16:08:08,411] Trial 201 finished with value: 0.049422821544071974 and parameters: {'alpha_0': 0.05104420273024793, 'alpha_1': 0.8691926916563886, 'alpha_2': 0.6073863549788883, 'alpha_3': 0.6210906919543534, 'alpha_4': 0.1936525273831882}. Best is trial 171 with value: 0.05099868151971252.\n"
     ]
    },
    {
     "name": "stdout",
     "output_type": "stream",
     "text": [
      "EvaluatorHoldout: Processed 10444 (100.0%) in 13.97 sec. Users per second: 748\n",
      "EvaluatorHoldout: Processed 10467 (100.0%) in 14.29 sec. Users per second: 733\n",
      "EvaluatorHoldout: Processed 10472 (100.0%) in 14.47 sec. Users per second: 724\n",
      "EvaluatorHoldout: Processed 10488 (100.0%) in 14.50 sec. Users per second: 723\n",
      "EvaluatorHoldout: Processed 10440 (100.0%) in 14.47 sec. Users per second: 722\n",
      "EvaluatorHoldout: Processed 10448 (100.0%) in 14.66 sec. Users per second: 712\n",
      "EvaluatorHoldout: Processed 10493 (100.0%) in 14.83 sec. Users per second: 708\n",
      "EvaluatorHoldout: Processed 10473 (100.0%) in 14.93 sec. Users per second: 701\n"
     ]
    },
    {
     "name": "stderr",
     "output_type": "stream",
     "text": [
      "[I 2024-01-08 16:08:23,548] Trial 202 finished with value: 0.05097106080943618 and parameters: {'alpha_0': 0.07532879652463906, 'alpha_1': 0.9129197553545446, 'alpha_2': 0.11334517371111094, 'alpha_3': 0.5741126878295092, 'alpha_4': 0.22913001414817202}. Best is trial 171 with value: 0.05099868151971252.\n"
     ]
    },
    {
     "name": "stdout",
     "output_type": "stream",
     "text": [
      "EvaluatorHoldout: Processed 10488 (100.0%) in 13.11 sec. Users per second: 800\n",
      "EvaluatorHoldout: Processed 10444 (100.0%) in 13.31 sec. Users per second: 785\n",
      "EvaluatorHoldout: Processed 10493 (100.0%) in 13.27 sec. Users per second: 791\n",
      "EvaluatorHoldout: Processed 10472 (100.0%) in 13.55 sec. Users per second: 773\n",
      "EvaluatorHoldout: Processed 10440 (100.0%) in 13.56 sec. Users per second: 770\n",
      "EvaluatorHoldout: Processed 10448 (100.0%) in 13.71 sec. Users per second: 762\n",
      "EvaluatorHoldout: Processed 10467 (100.0%) in 13.65 sec. Users per second: 767\n",
      "EvaluatorHoldout: Processed 10473 (100.0%) in 14.02 sec. Users per second: 747\n"
     ]
    },
    {
     "name": "stderr",
     "output_type": "stream",
     "text": [
      "[I 2024-01-08 16:08:37,775] Trial 203 finished with value: 0.05095808740851923 and parameters: {'alpha_0': 0.10188036051996865, 'alpha_1': 0.8184412787528818, 'alpha_2': 0.08330819527456483, 'alpha_3': 0.6522783725671869, 'alpha_4': 0.16221693652365912}. Best is trial 171 with value: 0.05099868151971252.\n"
     ]
    },
    {
     "name": "stdout",
     "output_type": "stream",
     "text": [
      "EvaluatorHoldout: Processed 10444 (100.0%) in 13.89 sec. Users per second: 752\n",
      "EvaluatorHoldout: Processed 10448 (100.0%) in 13.92 sec. Users per second: 750\n",
      "EvaluatorHoldout: Processed 10493 (100.0%) in 14.16 sec. Users per second: 741\n",
      "EvaluatorHoldout: Processed 10440 (100.0%) in 14.20 sec. Users per second: 735\n",
      "EvaluatorHoldout: Processed 10488 (100.0%) in 14.45 sec. Users per second: 726\n",
      "EvaluatorHoldout: Processed 10467 (100.0%) in 14.36 sec. Users per second: 729\n",
      "EvaluatorHoldout: Processed 10473 (100.0%) in 14.55 sec. Users per second: 720\n",
      "EvaluatorHoldout: Processed 10472 (100.0%) in 14.59 sec. Users per second: 718\n"
     ]
    },
    {
     "name": "stderr",
     "output_type": "stream",
     "text": [
      "[I 2024-01-08 16:08:52,551] Trial 204 finished with value: 0.05089361818339577 and parameters: {'alpha_0': 0.025925590265309655, 'alpha_1': 0.923689883078542, 'alpha_2': 0.1225026141767553, 'alpha_3': 0.6343043445225337, 'alpha_4': 0.13331007824153704}. Best is trial 171 with value: 0.05099868151971252.\n"
     ]
    },
    {
     "name": "stdout",
     "output_type": "stream",
     "text": [
      "EvaluatorHoldout: Processed 10444 (100.0%) in 13.31 sec. Users per second: 785\n",
      "EvaluatorHoldout: Processed 10472 (100.0%) in 13.58 sec. Users per second: 771\n",
      "EvaluatorHoldout: Processed 10440 (100.0%) in 13.53 sec. Users per second: 771\n",
      "EvaluatorHoldout: Processed 10473 (100.0%) in 13.73 sec. Users per second: 763\n",
      "EvaluatorHoldout: Processed 10448 (100.0%) in 13.99 sec. Users per second: 747\n",
      "EvaluatorHoldout: Processed 10493 (100.0%) in 14.01 sec. Users per second: 749EvaluatorHoldout: Processed 10467 (100.0%) in 13.99 sec. Users per second: 748\n",
      "\n",
      "EvaluatorHoldout: Processed 10488 (100.0%) in 14.13 sec. Users per second: 742\n"
     ]
    },
    {
     "name": "stderr",
     "output_type": "stream",
     "text": [
      "[I 2024-01-08 16:09:06,859] Trial 205 finished with value: 0.05099436677324288 and parameters: {'alpha_0': 0.06597766743179544, 'alpha_1': 0.8910649857832788, 'alpha_2': 0.09995255247942517, 'alpha_3': 0.6048660163304527, 'alpha_4': 0.18904727413599073}. Best is trial 171 with value: 0.05099868151971252.\n"
     ]
    },
    {
     "name": "stdout",
     "output_type": "stream",
     "text": [
      "EvaluatorHoldout: Processed 10472 (100.0%) in 13.90 sec. Users per second: 754\n",
      "EvaluatorHoldout: Processed 10448 (100.0%) in 13.90 sec. Users per second: 752\n",
      "EvaluatorHoldout: Processed 10440 (100.0%) in 13.80 sec. Users per second: 756\n",
      "EvaluatorHoldout: Processed 10473 (100.0%) in 14.12 sec. Users per second: 742\n",
      "EvaluatorHoldout: Processed 10467 (100.0%) in 14.13 sec. Users per second: 741\n",
      "EvaluatorHoldout: Processed 10444 (100.0%) in 14.23 sec. Users per second: 734\n",
      "EvaluatorHoldout: Processed 10488 (100.0%) in 14.41 sec. Users per second: 728\n",
      "EvaluatorHoldout: Processed 10493 (100.0%) in 14.50 sec. Users per second: 724\n"
     ]
    },
    {
     "name": "stderr",
     "output_type": "stream",
     "text": [
      "[I 2024-01-08 16:09:21,585] Trial 206 finished with value: 0.05098832552004308 and parameters: {'alpha_0': 0.07967737029194077, 'alpha_1': 0.8416138563457428, 'alpha_2': 0.09256644693769633, 'alpha_3': 0.6630757388594336, 'alpha_4': 0.18395770935220876}. Best is trial 171 with value: 0.05099868151971252.\n"
     ]
    },
    {
     "name": "stdout",
     "output_type": "stream",
     "text": [
      "EvaluatorHoldout: Processed 10472 (100.0%) in 14.08 sec. Users per second: 744\n",
      "EvaluatorHoldout: Processed 10444 (100.0%) in 14.22 sec. Users per second: 734\n",
      "EvaluatorHoldout: Processed 10440 (100.0%) in 14.18 sec. Users per second: 736\n",
      "EvaluatorHoldout: Processed 10493 (100.0%) in 14.14 sec. Users per second: 742\n",
      "EvaluatorHoldout: Processed 10467 (100.0%) in 14.27 sec. Users per second: 733\n",
      "EvaluatorHoldout: Processed 10473 (100.0%) in 14.43 sec. Users per second: 726\n",
      "EvaluatorHoldout: Processed 10488 (100.0%) in 14.62 sec. Users per second: 717\n",
      "EvaluatorHoldout: Processed 10448 (100.0%) in 14.75 sec. Users per second: 708\n"
     ]
    },
    {
     "name": "stderr",
     "output_type": "stream",
     "text": [
      "[I 2024-01-08 16:09:36,541] Trial 207 finished with value: 0.04990320280033677 and parameters: {'alpha_0': 0.04325396940544578, 'alpha_1': 0.26503551279709725, 'alpha_2': 0.06689353156746278, 'alpha_3': 0.6603406152020537, 'alpha_4': 0.6276076580450443}. Best is trial 171 with value: 0.05099868151971252.\n"
     ]
    },
    {
     "name": "stdout",
     "output_type": "stream",
     "text": [
      "EvaluatorHoldout: Processed 10493 (100.0%) in 13.86 sec. Users per second: 757EvaluatorHoldout: Processed 10473 (100.0%) in 13.97 sec. Users per second: 750\n",
      "\n",
      "EvaluatorHoldout: Processed 10444 (100.0%) in 14.43 sec. Users per second: 724\n",
      "EvaluatorHoldout: Processed 10440 (100.0%) in 14.41 sec. Users per second: 725\n",
      "EvaluatorHoldout: Processed 10488 (100.0%) in 14.57 sec. Users per second: 720\n",
      "EvaluatorHoldout: Processed 10467 (100.0%) in 14.63 sec. Users per second: 715\n",
      "EvaluatorHoldout: Processed 10472 (100.0%) in 14.77 sec. Users per second: 709\n",
      "EvaluatorHoldout: Processed 10448 (100.0%) in 15.01 sec. Users per second: 696\n"
     ]
    },
    {
     "name": "stderr",
     "output_type": "stream",
     "text": [
      "[I 2024-01-08 16:09:51,762] Trial 208 finished with value: 0.05095071651255227 and parameters: {'alpha_0': 0.11124800277084328, 'alpha_1': 0.843257763204271, 'alpha_2': 0.09546407972551288, 'alpha_3': 0.683588260127891, 'alpha_4': 0.21369488056164296}. Best is trial 171 with value: 0.05099868151971252.\n"
     ]
    },
    {
     "name": "stdout",
     "output_type": "stream",
     "text": [
      "EvaluatorHoldout: Processed 10444 (100.0%) in 13.14 sec. Users per second: 795\n",
      "EvaluatorHoldout: Processed 10448 (100.0%) in 13.70 sec. Users per second: 762\n",
      "EvaluatorHoldout: Processed 10440 (100.0%) in 13.68 sec. Users per second: 763\n",
      "EvaluatorHoldout: Processed 10488 (100.0%) in 13.92 sec. Users per second: 753\n",
      "EvaluatorHoldout: Processed 10467 (100.0%) in 13.89 sec. Users per second: 753\n",
      "EvaluatorHoldout: Processed 10493 (100.0%) in 14.28 sec. Users per second: 735\n",
      "EvaluatorHoldout: Processed 10473 (100.0%) in 14.36 sec. Users per second: 730\n",
      "EvaluatorHoldout: Processed 10472 (100.0%) in 14.36 sec. Users per second: 729\n"
     ]
    },
    {
     "name": "stderr",
     "output_type": "stream",
     "text": [
      "[I 2024-01-08 16:10:06,307] Trial 209 finished with value: 0.05080040794997163 and parameters: {'alpha_0': 0.0011191583397967692, 'alpha_1': 0.8768998347209803, 'alpha_2': 0.035729510854607, 'alpha_3': 0.6151289466771513, 'alpha_4': 0.1547922724965275}. Best is trial 171 with value: 0.05099868151971252.\n"
     ]
    },
    {
     "name": "stdout",
     "output_type": "stream",
     "text": [
      "EvaluatorHoldout: Processed 10467 (100.0%) in 13.57 sec. Users per second: 771\n",
      "EvaluatorHoldout: Processed 10472 (100.0%) in 13.87 sec. Users per second: 755\n",
      "EvaluatorHoldout: Processed 10493 (100.0%) in 14.07 sec. Users per second: 746\n",
      "EvaluatorHoldout: Processed 10444 (100.0%) in 14.20 sec. Users per second: 735\n",
      "EvaluatorHoldout: Processed 10448 (100.0%) in 14.48 sec. Users per second: 721\n",
      "EvaluatorHoldout: Processed 10473 (100.0%) in 14.59 sec. Users per second: 718\n",
      "EvaluatorHoldout: Processed 10488 (100.0%) in 14.63 sec. Users per second: 717\n",
      "EvaluatorHoldout: Processed 10440 (100.0%) in 14.60 sec. Users per second: 715\n"
     ]
    },
    {
     "name": "stderr",
     "output_type": "stream",
     "text": [
      "[I 2024-01-08 16:10:21,185] Trial 210 finished with value: 0.05098889955180209 and parameters: {'alpha_0': 0.07541095546610561, 'alpha_1': 0.8936034245669584, 'alpha_2': 0.0772920561341093, 'alpha_3': 0.6362465014795442, 'alpha_4': 0.1908971449806306}. Best is trial 171 with value: 0.05099868151971252.\n"
     ]
    },
    {
     "name": "stdout",
     "output_type": "stream",
     "text": [
      "EvaluatorHoldout: Processed 10472 (100.0%) in 13.45 sec. Users per second: 779\n",
      "EvaluatorHoldout: Processed 10473 (100.0%) in 13.56 sec. Users per second: 772\n",
      "EvaluatorHoldout: Processed 10488 (100.0%) in 13.65 sec. Users per second: 768\n",
      "EvaluatorHoldout: Processed 10444 (100.0%) in 13.69 sec. Users per second: 763\n",
      "EvaluatorHoldout: Processed 10493 (100.0%) in 13.67 sec. Users per second: 767\n",
      "EvaluatorHoldout: Processed 10440 (100.0%) in 13.71 sec. Users per second: 762\n",
      "EvaluatorHoldout: Processed 10448 (100.0%) in 13.83 sec. Users per second: 755\n",
      "EvaluatorHoldout: Processed 10467 (100.0%) in 14.07 sec. Users per second: 744\n"
     ]
    },
    {
     "name": "stderr",
     "output_type": "stream",
     "text": [
      "[I 2024-01-08 16:10:35,534] Trial 211 finished with value: 0.05099000077919421 and parameters: {'alpha_0': 0.06825173698807348, 'alpha_1': 0.8958998379706625, 'alpha_2': 0.08055852378892059, 'alpha_3': 0.6394961547035328, 'alpha_4': 0.1925366635344608}. Best is trial 171 with value: 0.05099868151971252.\n"
     ]
    },
    {
     "name": "stdout",
     "output_type": "stream",
     "text": [
      "EvaluatorHoldout: Processed 10472 (100.0%) in 12.90 sec. Users per second: 812\n",
      "EvaluatorHoldout: Processed 10473 (100.0%) in 13.62 sec. Users per second: 769\n",
      "EvaluatorHoldout: Processed 10444 (100.0%) in 13.93 sec. Users per second: 750\n",
      "EvaluatorHoldout: Processed 10440 (100.0%) in 13.90 sec. Users per second: 751\n",
      "EvaluatorHoldout: Processed 10488 (100.0%) in 14.15 sec. Users per second: 741\n",
      "EvaluatorHoldout: Processed 10493 (100.0%) in 14.12 sec. Users per second: 743\n",
      "EvaluatorHoldout: Processed 10448 (100.0%) in 14.30 sec. Users per second: 730\n",
      "EvaluatorHoldout: Processed 10467 (100.0%) in 14.41 sec. Users per second: 726\n"
     ]
    },
    {
     "name": "stderr",
     "output_type": "stream",
     "text": [
      "[I 2024-01-08 16:10:50,189] Trial 212 finished with value: 0.05095704930658228 and parameters: {'alpha_0': 0.061374444475550696, 'alpha_1': 0.8937710947159675, 'alpha_2': 0.06347663381253944, 'alpha_3': 0.6330237830976652, 'alpha_4': 0.19660241758993488}. Best is trial 171 with value: 0.05099868151971252.\n"
     ]
    },
    {
     "name": "stdout",
     "output_type": "stream",
     "text": [
      "EvaluatorHoldout: Processed 10488 (100.0%) in 13.33 sec. Users per second: 787\n",
      "EvaluatorHoldout: Processed 10473 (100.0%) in 13.35 sec. Users per second: 785\n",
      "EvaluatorHoldout: Processed 10444 (100.0%) in 13.61 sec. Users per second: 767\n",
      "EvaluatorHoldout: Processed 10467 (100.0%) in 13.72 sec. Users per second: 763\n",
      "EvaluatorHoldout: Processed 10472 (100.0%) in 13.85 sec. Users per second: 756\n",
      "EvaluatorHoldout: Processed 10440 (100.0%) in 13.83 sec. Users per second: 755\n",
      "EvaluatorHoldout: Processed 10493 (100.0%) in 14.00 sec. Users per second: 749\n",
      "EvaluatorHoldout: Processed 10448 (100.0%) in 14.13 sec. Users per second: 740\n"
     ]
    },
    {
     "name": "stderr",
     "output_type": "stream",
     "text": [
      "[I 2024-01-08 16:11:04,528] Trial 213 finished with value: 0.050977061328450986 and parameters: {'alpha_0': 0.04431684436916224, 'alpha_1': 0.8914319296710314, 'alpha_2': 0.0818585284750721, 'alpha_3': 0.6072665468069443, 'alpha_4': 0.16899697693389282}. Best is trial 171 with value: 0.05099868151971252.\n"
     ]
    },
    {
     "name": "stdout",
     "output_type": "stream",
     "text": [
      "EvaluatorHoldout: Processed 10472 (100.0%) in 12.82 sec. Users per second: 817\n",
      "EvaluatorHoldout: Processed 10440 (100.0%) in 12.82 sec. Users per second: 814\n",
      "EvaluatorHoldout: Processed 10473 (100.0%) in 13.13 sec. Users per second: 798\n",
      "EvaluatorHoldout: Processed 10444 (100.0%) in 13.41 sec. Users per second: 779\n",
      "EvaluatorHoldout: Processed 10448 (100.0%) in 13.42 sec. Users per second: 778\n",
      "EvaluatorHoldout: Processed 10493 (100.0%) in 13.40 sec. Users per second: 783\n",
      "EvaluatorHoldout: Processed 10467 (100.0%) in 13.62 sec. Users per second: 769\n",
      "EvaluatorHoldout: Processed 10488 (100.0%) in 13.75 sec. Users per second: 763\n"
     ]
    },
    {
     "name": "stderr",
     "output_type": "stream",
     "text": [
      "[I 2024-01-08 16:11:18,493] Trial 214 finished with value: 0.05096536368205234 and parameters: {'alpha_0': 0.09754258790478049, 'alpha_1': 0.8648804521600332, 'alpha_2': 0.11774223944629784, 'alpha_3': 0.5845821919490031, 'alpha_4': 0.22799383853307964}. Best is trial 171 with value: 0.05099868151971252.\n"
     ]
    },
    {
     "name": "stdout",
     "output_type": "stream",
     "text": [
      "EvaluatorHoldout: Processed 10444 (100.0%) in 13.37 sec. Users per second: 781\n",
      "EvaluatorHoldout: Processed 10472 (100.0%) in 13.61 sec. Users per second: 770\n",
      "EvaluatorHoldout: Processed 10493 (100.0%) in 13.98 sec. Users per second: 750\n",
      "EvaluatorHoldout: Processed 10448 (100.0%) in 14.10 sec. Users per second: 741\n",
      "EvaluatorHoldout: Processed 10488 (100.0%) in 14.11 sec. Users per second: 743\n",
      "EvaluatorHoldout: Processed 10440 (100.0%) in 14.12 sec. Users per second: 739\n",
      "EvaluatorHoldout: Processed 10467 (100.0%) in 14.13 sec. Users per second: 741\n",
      "EvaluatorHoldout: Processed 10473 (100.0%) in 14.27 sec. Users per second: 734\n"
     ]
    },
    {
     "name": "stderr",
     "output_type": "stream",
     "text": [
      "[I 2024-01-08 16:11:32,958] Trial 215 finished with value: 0.05099905000694024 and parameters: {'alpha_0': 0.06886817104157582, 'alpha_1': 0.9168962054024581, 'alpha_2': 0.14738225040191744, 'alpha_3': 0.6475353145212018, 'alpha_4': 0.20875758153283497}. Best is trial 215 with value: 0.05099905000694024.\n"
     ]
    },
    {
     "name": "stdout",
     "output_type": "stream",
     "text": [
      "EvaluatorHoldout: Processed 10444 (100.0%) in 13.50 sec. Users per second: 773EvaluatorHoldout: Processed 10467 (100.0%) in 13.38 sec. Users per second: 782\n",
      "\n",
      "EvaluatorHoldout: Processed 10448 (100.0%) in 13.66 sec. Users per second: 765\n",
      "EvaluatorHoldout: Processed 10473 (100.0%) in 13.71 sec. Users per second: 764\n",
      "EvaluatorHoldout: Processed 10493 (100.0%) in 13.75 sec. Users per second: 763\n",
      "EvaluatorHoldout: Processed 10440 (100.0%) in 13.81 sec. Users per second: 756\n",
      "EvaluatorHoldout: Processed 10472 (100.0%) in 14.12 sec. Users per second: 742\n",
      "EvaluatorHoldout: Processed 10488 (100.0%) in 14.20 sec. Users per second: 739\n"
     ]
    },
    {
     "name": "stderr",
     "output_type": "stream",
     "text": [
      "[I 2024-01-08 16:11:47,369] Trial 216 finished with value: 0.05097131202356678 and parameters: {'alpha_0': 0.08353013571687021, 'alpha_1': 0.9022970381656382, 'alpha_2': 0.1436746216141231, 'alpha_3': 0.6393929817007927, 'alpha_4': 0.21148095812754922}. Best is trial 215 with value: 0.05099905000694024.\n"
     ]
    },
    {
     "name": "stdout",
     "output_type": "stream",
     "text": [
      "EvaluatorHoldout: Processed 10472 (100.0%) in 13.47 sec. Users per second: 777\n",
      "EvaluatorHoldout: Processed 10440 (100.0%) in 13.59 sec. Users per second: 768\n",
      "EvaluatorHoldout: Processed 10444 (100.0%) in 14.10 sec. Users per second: 741\n",
      "EvaluatorHoldout: Processed 10488 (100.0%) in 14.17 sec. Users per second: 740\n",
      "EvaluatorHoldout: Processed 10473 (100.0%) in 14.17 sec. Users per second: 739\n",
      "EvaluatorHoldout: Processed 10448 (100.0%) in 14.27 sec. Users per second: 732\n",
      "EvaluatorHoldout: Processed 10467 (100.0%) in 14.30 sec. Users per second: 732\n",
      "EvaluatorHoldout: Processed 10493 (100.0%) in 14.43 sec. Users per second: 727\n"
     ]
    },
    {
     "name": "stderr",
     "output_type": "stream",
     "text": [
      "[I 2024-01-08 16:12:02,026] Trial 217 finished with value: 0.05090069459487254 and parameters: {'alpha_0': 0.024132287106937288, 'alpha_1': 0.9232967250405835, 'alpha_2': 0.056274927850148426, 'alpha_3': 0.6556073302566587, 'alpha_4': 0.19021961568112136}. Best is trial 215 with value: 0.05099905000694024.\n"
     ]
    },
    {
     "name": "stdout",
     "output_type": "stream",
     "text": [
      "EvaluatorHoldout: Processed 10488 (100.0%) in 13.29 sec. Users per second: 789\n",
      "EvaluatorHoldout: Processed 10467 (100.0%) in 13.27 sec. Users per second: 789\n",
      "EvaluatorHoldout: Processed 10440 (100.0%) in 13.47 sec. Users per second: 775\n",
      "EvaluatorHoldout: Processed 10448 (100.0%) in 13.62 sec. Users per second: 767\n",
      "EvaluatorHoldout: Processed 10493 (100.0%) in 13.89 sec. Users per second: 756\n",
      "EvaluatorHoldout: Processed 10473 (100.0%) in 14.01 sec. Users per second: 747\n",
      "EvaluatorHoldout: Processed 10472 (100.0%) in 14.03 sec. Users per second: 746\n",
      "EvaluatorHoldout: Processed 10444 (100.0%) in 14.18 sec. Users per second: 737\n"
     ]
    },
    {
     "name": "stderr",
     "output_type": "stream",
     "text": [
      "[I 2024-01-08 16:12:16,411] Trial 218 finished with value: 0.05096563496996943 and parameters: {'alpha_0': 0.1269681884538447, 'alpha_1': 0.8740697145357841, 'alpha_2': 0.14785152427570453, 'alpha_3': 0.6824653707012599, 'alpha_4': 0.15709873645162586}. Best is trial 215 with value: 0.05099905000694024.\n"
     ]
    },
    {
     "name": "stdout",
     "output_type": "stream",
     "text": [
      "EvaluatorHoldout: Processed 10473 (100.0%) in 13.77 sec. Users per second: 761\n",
      "EvaluatorHoldout: Processed 10488 (100.0%) in 13.78 sec. Users per second: 761\n",
      "EvaluatorHoldout: Processed 10440 (100.0%) in 13.72 sec. Users per second: 761\n",
      "EvaluatorHoldout: Processed 10493 (100.0%) in 14.05 sec. Users per second: 747\n",
      "EvaluatorHoldout: Processed 10467 (100.0%) in 14.25 sec. Users per second: 735\n",
      "EvaluatorHoldout: Processed 10472 (100.0%) in 14.38 sec. Users per second: 728\n",
      "EvaluatorHoldout: Processed 10444 (100.0%) in 14.53 sec. Users per second: 719\n",
      "EvaluatorHoldout: Processed 10448 (100.0%) in 14.54 sec. Users per second: 719\n"
     ]
    },
    {
     "name": "stderr",
     "output_type": "stream",
     "text": [
      "[I 2024-01-08 16:12:31,169] Trial 219 finished with value: 0.05102434970678933 and parameters: {'alpha_0': 0.06668900575305757, 'alpha_1': 0.8946894342279915, 'alpha_2': 0.08649795784236555, 'alpha_3': 0.6098573431532729, 'alpha_4': 0.12835736192827873}. Best is trial 219 with value: 0.05102434970678933.\n"
     ]
    },
    {
     "name": "stdout",
     "output_type": "stream",
     "text": [
      "EvaluatorHoldout: Processed 10472 (100.0%) in 13.83 sec. Users per second: 757\n",
      "EvaluatorHoldout: Processed 10467 (100.0%) in 13.89 sec. Users per second: 754\n",
      "EvaluatorHoldout: Processed 10444 (100.0%) in 14.08 sec. Users per second: 742\n",
      "EvaluatorHoldout: Processed 10488 (100.0%) in 14.32 sec. Users per second: 733\n",
      "EvaluatorHoldout: Processed 10473 (100.0%) in 14.44 sec. Users per second: 725\n",
      "EvaluatorHoldout: Processed 10448 (100.0%) in 14.46 sec. Users per second: 722\n",
      "EvaluatorHoldout: Processed 10493 (100.0%) in 14.42 sec. Users per second: 728\n",
      "EvaluatorHoldout: Processed 10440 (100.0%) in 14.46 sec. Users per second: 722\n"
     ]
    },
    {
     "name": "stderr",
     "output_type": "stream",
     "text": [
      "[I 2024-01-08 16:12:45,954] Trial 220 finished with value: 0.05091011311557312 and parameters: {'alpha_0': 0.047312767909251596, 'alpha_1': 0.9226562269913844, 'alpha_2': 0.12143273157185627, 'alpha_3': 0.5558291079889908, 'alpha_4': 0.10471154762820684}. Best is trial 219 with value: 0.05102434970678933.\n"
     ]
    },
    {
     "name": "stdout",
     "output_type": "stream",
     "text": [
      "EvaluatorHoldout: Processed 10472 (100.0%) in 13.66 sec. Users per second: 767\n",
      "EvaluatorHoldout: Processed 10467 (100.0%) in 13.59 sec. Users per second: 770\n",
      "EvaluatorHoldout: Processed 10444 (100.0%) in 13.75 sec. Users per second: 760\n",
      "EvaluatorHoldout: Processed 10473 (100.0%) in 13.89 sec. Users per second: 754\n",
      "EvaluatorHoldout: Processed 10493 (100.0%) in 13.84 sec. Users per second: 758\n",
      "EvaluatorHoldout: Processed 10448 (100.0%) in 14.09 sec. Users per second: 741\n",
      "EvaluatorHoldout: Processed 10488 (100.0%) in 14.18 sec. Users per second: 740\n",
      "EvaluatorHoldout: Processed 10440 (100.0%) in 14.16 sec. Users per second: 737\n"
     ]
    },
    {
     "name": "stderr",
     "output_type": "stream",
     "text": [
      "[I 2024-01-08 16:13:00,367] Trial 221 finished with value: 0.051005147725225936 and parameters: {'alpha_0': 0.06925658743911484, 'alpha_1': 0.8927519472366214, 'alpha_2': 0.08075675222585245, 'alpha_3': 0.6162726741289642, 'alpha_4': 0.13446185309427985}. Best is trial 219 with value: 0.05102434970678933.\n"
     ]
    },
    {
     "name": "stdout",
     "output_type": "stream",
     "text": [
      "EvaluatorHoldout: Processed 10472 (100.0%) in 13.51 sec. Users per second: 775\n",
      "EvaluatorHoldout: Processed 10467 (100.0%) in 13.49 sec. Users per second: 776\n",
      "EvaluatorHoldout: Processed 10488 (100.0%) in 14.09 sec. Users per second: 744\n",
      "EvaluatorHoldout: Processed 10440 (100.0%) in 14.09 sec. Users per second: 741\n",
      "EvaluatorHoldout: Processed 10493 (100.0%) in 14.20 sec. Users per second: 739\n",
      "EvaluatorHoldout: Processed 10473 (100.0%) in 14.47 sec. Users per second: 724\n",
      "EvaluatorHoldout: Processed 10444 (100.0%) in 14.49 sec. Users per second: 721\n",
      "EvaluatorHoldout: Processed 10448 (100.0%) in 14.67 sec. Users per second: 712\n"
     ]
    },
    {
     "name": "stderr",
     "output_type": "stream",
     "text": [
      "[I 2024-01-08 16:13:15,219] Trial 222 finished with value: 0.05099800957103248 and parameters: {'alpha_0': 0.06366549898177101, 'alpha_1': 0.8579576155796721, 'alpha_2': 0.0996173431027301, 'alpha_3': 0.6095964180657079, 'alpha_4': 0.1322731652525628}. Best is trial 219 with value: 0.05102434970678933.\n"
     ]
    },
    {
     "name": "stdout",
     "output_type": "stream",
     "text": [
      "EvaluatorHoldout: Processed 10472 (100.0%) in 13.87 sec. Users per second: 755\n",
      "EvaluatorHoldout: Processed 10467 (100.0%) in 14.02 sec. Users per second: 747\n",
      "EvaluatorHoldout: Processed 10440 (100.0%) in 14.14 sec. Users per second: 739\n",
      "EvaluatorHoldout: Processed 10488 (100.0%) in 14.38 sec. Users per second: 729\n",
      "EvaluatorHoldout: Processed 10448 (100.0%) in 14.42 sec. Users per second: 725\n",
      "EvaluatorHoldout: Processed 10493 (100.0%) in 14.39 sec. Users per second: 729EvaluatorHoldout: Processed 10444 (100.0%) in 14.46 sec. Users per second: 722\n",
      "\n",
      "EvaluatorHoldout: Processed 10473 (100.0%) in 14.47 sec. Users per second: 724\n"
     ]
    },
    {
     "name": "stderr",
     "output_type": "stream",
     "text": [
      "[I 2024-01-08 16:13:29,886] Trial 223 finished with value: 0.05098479417161759 and parameters: {'alpha_0': 0.08990438967111232, 'alpha_1': 0.8640552367387904, 'alpha_2': 0.09472914948384038, 'alpha_3': 0.6093503425606219, 'alpha_4': 0.12756875053576539}. Best is trial 219 with value: 0.05102434970678933.\n"
     ]
    },
    {
     "name": "stdout",
     "output_type": "stream",
     "text": [
      "EvaluatorHoldout: Processed 10444 (100.0%) in 13.37 sec. Users per second: 781\n",
      "EvaluatorHoldout: Processed 10467 (100.0%) in 13.61 sec. Users per second: 769\n",
      "EvaluatorHoldout: Processed 10472 (100.0%) in 13.87 sec. Users per second: 755\n",
      "EvaluatorHoldout: Processed 10473 (100.0%) in 13.90 sec. Users per second: 753\n",
      "EvaluatorHoldout: Processed 10440 (100.0%) in 13.86 sec. Users per second: 753\n",
      "EvaluatorHoldout: Processed 10493 (100.0%) in 14.12 sec. Users per second: 743\n",
      "EvaluatorHoldout: Processed 10488 (100.0%) in 14.26 sec. Users per second: 736\n",
      "EvaluatorHoldout: Processed 10448 (100.0%) in 14.34 sec. Users per second: 729\n"
     ]
    },
    {
     "name": "stderr",
     "output_type": "stream",
     "text": [
      "[I 2024-01-08 16:13:44,414] Trial 224 finished with value: 0.050989084690027574 and parameters: {'alpha_0': 0.057267085419241005, 'alpha_1': 0.8861705815479176, 'alpha_2': 0.04953237447672897, 'alpha_3': 0.5840077910176744, 'alpha_4': 0.1425759815203133}. Best is trial 219 with value: 0.05102434970678933.\n"
     ]
    },
    {
     "name": "stdout",
     "output_type": "stream",
     "text": [
      "EvaluatorHoldout: Processed 10473 (100.0%) in 13.42 sec. Users per second: 781\n",
      "EvaluatorHoldout: Processed 10472 (100.0%) in 13.51 sec. Users per second: 775\n",
      "EvaluatorHoldout: Processed 10488 (100.0%) in 13.62 sec. Users per second: 770\n",
      "EvaluatorHoldout: Processed 10493 (100.0%) in 13.83 sec. Users per second: 759\n",
      "EvaluatorHoldout: Processed 10444 (100.0%) in 14.04 sec. Users per second: 744\n",
      "EvaluatorHoldout: Processed 10440 (100.0%) in 14.08 sec. Users per second: 741\n",
      "EvaluatorHoldout: Processed 10448 (100.0%) in 14.19 sec. Users per second: 736\n",
      "EvaluatorHoldout: Processed 10467 (100.0%) in 14.40 sec. Users per second: 727\n"
     ]
    },
    {
     "name": "stderr",
     "output_type": "stream",
     "text": [
      "[I 2024-01-08 16:13:59,044] Trial 225 finished with value: 0.05098293915037336 and parameters: {'alpha_0': 0.03638194285248603, 'alpha_1': 0.8515815793493813, 'alpha_2': 0.07382210325914144, 'alpha_3': 0.6122081368722364, 'alpha_4': 0.1015323415444023}. Best is trial 219 with value: 0.05102434970678933.\n"
     ]
    },
    {
     "name": "stdout",
     "output_type": "stream",
     "text": [
      "EvaluatorHoldout: Processed 10493 (100.0%) in 13.40 sec. Users per second: 783EvaluatorHoldout: Processed 10440 (100.0%) in 13.43 sec. Users per second: 778\n",
      "\n",
      "EvaluatorHoldout: Processed 10473 (100.0%) in 13.58 sec. Users per second: 771\n",
      "EvaluatorHoldout: Processed 10488 (100.0%) in 13.64 sec. Users per second: 769\n",
      "EvaluatorHoldout: Processed 10472 (100.0%) in 13.68 sec. Users per second: 766\n",
      "EvaluatorHoldout: Processed 10467 (100.0%) in 13.63 sec. Users per second: 768\n",
      "EvaluatorHoldout: Processed 10448 (100.0%) in 13.95 sec. Users per second: 749\n",
      "EvaluatorHoldout: Processed 10444 (100.0%) in 14.03 sec. Users per second: 744\n"
     ]
    },
    {
     "name": "stderr",
     "output_type": "stream",
     "text": [
      "[I 2024-01-08 16:14:13,311] Trial 226 finished with value: 0.05100075138575507 and parameters: {'alpha_0': 0.10468049055735337, 'alpha_1': 0.9084445156390198, 'alpha_2': 0.09607285126811038, 'alpha_3': 0.5925542330623021, 'alpha_4': 0.12986061567947818}. Best is trial 219 with value: 0.05102434970678933.\n"
     ]
    },
    {
     "name": "stdout",
     "output_type": "stream",
     "text": [
      "EvaluatorHoldout: Processed 10488 (100.0%) in 12.99 sec. Users per second: 807\n",
      "EvaluatorHoldout: Processed 10472 (100.0%) in 13.64 sec. Users per second: 768\n",
      "EvaluatorHoldout: Processed 10448 (100.0%) in 13.82 sec. Users per second: 756\n",
      "EvaluatorHoldout: Processed 10467 (100.0%) in 13.78 sec. Users per second: 760\n",
      "EvaluatorHoldout: Processed 10444 (100.0%) in 14.13 sec. Users per second: 739\n",
      "EvaluatorHoldout: Processed 10493 (100.0%) in 14.24 sec. Users per second: 737\n",
      "EvaluatorHoldout: Processed 10473 (100.0%) in 14.30 sec. Users per second: 732\n",
      "EvaluatorHoldout: Processed 10440 (100.0%) in 14.27 sec. Users per second: 732\n"
     ]
    },
    {
     "name": "stderr",
     "output_type": "stream",
     "text": [
      "[I 2024-01-08 16:14:27,827] Trial 227 finished with value: 0.05100390753219399 and parameters: {'alpha_0': 0.11126193661222736, 'alpha_1': 0.9100260163492366, 'alpha_2': 0.10782962646522706, 'alpha_3': 0.566161516197338, 'alpha_4': 0.07167916097799737}. Best is trial 219 with value: 0.05102434970678933.\n"
     ]
    },
    {
     "name": "stdout",
     "output_type": "stream",
     "text": [
      "EvaluatorHoldout: Processed 10473 (100.0%) in 13.09 sec. Users per second: 800\n",
      "EvaluatorHoldout: Processed 10472 (100.0%) in 13.56 sec. Users per second: 773\n",
      "EvaluatorHoldout: Processed 10444 (100.0%) in 13.64 sec. Users per second: 766\n",
      "EvaluatorHoldout: Processed 10440 (100.0%) in 13.54 sec. Users per second: 771\n",
      "EvaluatorHoldout: Processed 10467 (100.0%) in 13.58 sec. Users per second: 771\n",
      "EvaluatorHoldout: Processed 10448 (100.0%) in 13.83 sec. Users per second: 756\n",
      "EvaluatorHoldout: Processed 10488 (100.0%) in 13.99 sec. Users per second: 750\n",
      "EvaluatorHoldout: Processed 10493 (100.0%) in 13.98 sec. Users per second: 750\n"
     ]
    },
    {
     "name": "stderr",
     "output_type": "stream",
     "text": [
      "[I 2024-01-08 16:14:42,078] Trial 228 finished with value: 0.0509795116947308 and parameters: {'alpha_0': 0.10800957620491092, 'alpha_1': 0.7831380971525461, 'alpha_2': 0.09724109945887542, 'alpha_3': 0.5618683668667576, 'alpha_4': 0.11705853465255893}. Best is trial 219 with value: 0.05102434970678933.\n"
     ]
    },
    {
     "name": "stdout",
     "output_type": "stream",
     "text": [
      "EvaluatorHoldout: Processed 10440 (100.0%) in 13.48 sec. Users per second: 774\n",
      "EvaluatorHoldout: Processed 10444 (100.0%) in 13.63 sec. Users per second: 766\n",
      "EvaluatorHoldout: Processed 10493 (100.0%) in 13.79 sec. Users per second: 761\n",
      "EvaluatorHoldout: Processed 10472 (100.0%) in 14.11 sec. Users per second: 742\n",
      "EvaluatorHoldout: Processed 10473 (100.0%) in 14.23 sec. Users per second: 736\n",
      "EvaluatorHoldout: Processed 10488 (100.0%) in 14.23 sec. Users per second: 737\n",
      "EvaluatorHoldout: Processed 10448 (100.0%) in 14.25 sec. Users per second: 733\n",
      "EvaluatorHoldout: Processed 10467 (100.0%) in 14.36 sec. Users per second: 729\n"
     ]
    },
    {
     "name": "stderr",
     "output_type": "stream",
     "text": [
      "[I 2024-01-08 16:14:56,667] Trial 229 finished with value: 0.04983446438082183 and parameters: {'alpha_0': 0.10316675435542956, 'alpha_1': 0.9082597147853002, 'alpha_2': 0.5376660628437068, 'alpha_3': 0.5791567765401611, 'alpha_4': 0.09353594732086166}. Best is trial 219 with value: 0.05102434970678933.\n"
     ]
    },
    {
     "name": "stdout",
     "output_type": "stream",
     "text": [
      "EvaluatorHoldout: Processed 10444 (100.0%) in 12.95 sec. Users per second: 807\n",
      "EvaluatorHoldout: Processed 10473 (100.0%) in 13.63 sec. Users per second: 769\n",
      "EvaluatorHoldout: Processed 10472 (100.0%) in 13.74 sec. Users per second: 762\n",
      "EvaluatorHoldout: Processed 10440 (100.0%) in 13.71 sec. Users per second: 761\n",
      "EvaluatorHoldout: Processed 10467 (100.0%) in 13.92 sec. Users per second: 752\n",
      "EvaluatorHoldout: Processed 10448 (100.0%) in 14.08 sec. Users per second: 742\n",
      "EvaluatorHoldout: Processed 10488 (100.0%) in 14.15 sec. Users per second: 741\n",
      "EvaluatorHoldout: Processed 10493 (100.0%) in 14.23 sec. Users per second: 737\n"
     ]
    },
    {
     "name": "stderr",
     "output_type": "stream",
     "text": [
      "[I 2024-01-08 16:15:11,139] Trial 230 finished with value: 0.04888418748518982 and parameters: {'alpha_0': 0.12316322367721871, 'alpha_1': 0.8318971427202329, 'alpha_2': 0.7408596393682146, 'alpha_3': 0.5907240067201268, 'alpha_4': 0.057913135938192306}. Best is trial 219 with value: 0.05102434970678933.\n"
     ]
    },
    {
     "name": "stdout",
     "output_type": "stream",
     "text": [
      "EvaluatorHoldout: Processed 10444 (100.0%) in 13.58 sec. Users per second: 769\n",
      "EvaluatorHoldout: Processed 10472 (100.0%) in 13.81 sec. Users per second: 758\n",
      "EvaluatorHoldout: Processed 10440 (100.0%) in 13.78 sec. Users per second: 758\n",
      "EvaluatorHoldout: Processed 10493 (100.0%) in 13.99 sec. Users per second: 750\n",
      "EvaluatorHoldout: Processed 10473 (100.0%) in 14.16 sec. Users per second: 740\n",
      "EvaluatorHoldout: Processed 10488 (100.0%) in 14.21 sec. Users per second: 738\n",
      "EvaluatorHoldout: Processed 10467 (100.0%) in 14.43 sec. Users per second: 725\n",
      "EvaluatorHoldout: Processed 10448 (100.0%) in 14.58 sec. Users per second: 717\n"
     ]
    },
    {
     "name": "stderr",
     "output_type": "stream",
     "text": [
      "[I 2024-01-08 16:15:25,916] Trial 231 finished with value: 0.050978438121154684 and parameters: {'alpha_0': 0.08029855435935562, 'alpha_1': 0.8754281717852278, 'alpha_2': 0.1272239632615485, 'alpha_3': 0.601353165171978, 'alpha_4': 0.07571369894164137}. Best is trial 219 with value: 0.05102434970678933.\n"
     ]
    },
    {
     "name": "stdout",
     "output_type": "stream",
     "text": [
      "EvaluatorHoldout: Processed 10493 (100.0%) in 13.19 sec. Users per second: 795\n",
      "EvaluatorHoldout: Processed 10440 (100.0%) in 13.24 sec. Users per second: 788\n",
      "EvaluatorHoldout: Processed 10472 (100.0%) in 13.43 sec. Users per second: 780\n",
      "EvaluatorHoldout: Processed 10444 (100.0%) in 13.75 sec. Users per second: 760\n",
      "EvaluatorHoldout: Processed 10467 (100.0%) in 13.69 sec. Users per second: 765\n",
      "EvaluatorHoldout: Processed 10448 (100.0%) in 13.91 sec. Users per second: 751\n",
      "EvaluatorHoldout: Processed 10473 (100.0%) in 13.91 sec. Users per second: 753\n",
      "EvaluatorHoldout: Processed 10488 (100.0%) in 14.04 sec. Users per second: 747\n"
     ]
    },
    {
     "name": "stderr",
     "output_type": "stream",
     "text": [
      "[I 2024-01-08 16:15:40,146] Trial 232 finished with value: 0.05095671601121742 and parameters: {'alpha_0': 0.05581293156203724, 'alpha_1': 0.921132763018009, 'alpha_2': 0.11229744822828018, 'alpha_3': 0.5677041352721833, 'alpha_4': 0.13913353668395345}. Best is trial 219 with value: 0.05102434970678933.\n"
     ]
    },
    {
     "name": "stdout",
     "output_type": "stream",
     "text": [
      "EvaluatorHoldout: Processed 10472 (100.0%) in 13.06 sec. Users per second: 802\n",
      "EvaluatorHoldout: Processed 10440 (100.0%) in 13.46 sec. Users per second: 776\n",
      "EvaluatorHoldout: Processed 10473 (100.0%) in 13.55 sec. Users per second: 773\n",
      "EvaluatorHoldout: Processed 10493 (100.0%) in 13.50 sec. Users per second: 777\n",
      "EvaluatorHoldout: Processed 10488 (100.0%) in 13.74 sec. Users per second: 763\n",
      "EvaluatorHoldout: Processed 10467 (100.0%) in 13.85 sec. Users per second: 756\n",
      "EvaluatorHoldout: Processed 10448 (100.0%) in 13.97 sec. Users per second: 748\n",
      "EvaluatorHoldout: Processed 10444 (100.0%) in 14.04 sec. Users per second: 744\n"
     ]
    },
    {
     "name": "stderr",
     "output_type": "stream",
     "text": [
      "[I 2024-01-08 16:15:54,375] Trial 233 finished with value: 0.05102771376789832 and parameters: {'alpha_0': 0.09281383615143128, 'alpha_1': 0.9071148100464619, 'alpha_2': 0.10122791589734623, 'alpha_3': 0.6178919992064891, 'alpha_4': 0.027430265345796477}. Best is trial 233 with value: 0.05102771376789832.\n"
     ]
    },
    {
     "name": "stdout",
     "output_type": "stream",
     "text": [
      "EvaluatorHoldout: Processed 10493 (100.0%) in 13.41 sec. Users per second: 783\n",
      "EvaluatorHoldout: Processed 10444 (100.0%) in 13.57 sec. Users per second: 770\n",
      "EvaluatorHoldout: Processed 10473 (100.0%) in 13.68 sec. Users per second: 766\n",
      "EvaluatorHoldout: Processed 10440 (100.0%) in 13.65 sec. Users per second: 765\n",
      "EvaluatorHoldout: Processed 10488 (100.0%) in 13.92 sec. Users per second: 754\n",
      "EvaluatorHoldout: Processed 10472 (100.0%) in 14.11 sec. Users per second: 742\n",
      "EvaluatorHoldout: Processed 10448 (100.0%) in 14.19 sec. Users per second: 736\n",
      "EvaluatorHoldout: Processed 10467 (100.0%) in 14.25 sec. Users per second: 735\n"
     ]
    },
    {
     "name": "stderr",
     "output_type": "stream",
     "text": [
      "[I 2024-01-08 16:16:08,939] Trial 234 finished with value: 0.051003773914913314 and parameters: {'alpha_0': 0.09954756330208314, 'alpha_1': 0.8816041635890157, 'alpha_2': 0.09525775363494748, 'alpha_3': 0.6147785629636205, 'alpha_4': 0.018312703081596902}. Best is trial 233 with value: 0.05102771376789832.\n"
     ]
    },
    {
     "name": "stdout",
     "output_type": "stream",
     "text": [
      "EvaluatorHoldout: Processed 10467 (100.0%) in 13.68 sec. Users per second: 765\n",
      "EvaluatorHoldout: Processed 10473 (100.0%) in 13.85 sec. Users per second: 756\n",
      "EvaluatorHoldout: Processed 10448 (100.0%) in 13.89 sec. Users per second: 752\n",
      "EvaluatorHoldout: Processed 10440 (100.0%) in 13.88 sec. Users per second: 752\n",
      "EvaluatorHoldout: Processed 10472 (100.0%) in 14.20 sec. Users per second: 738\n",
      "EvaluatorHoldout: Processed 10488 (100.0%) in 14.24 sec. Users per second: 737\n",
      "EvaluatorHoldout: Processed 10444 (100.0%) in 14.31 sec. Users per second: 730\n",
      "EvaluatorHoldout: Processed 10493 (100.0%) in 14.27 sec. Users per second: 735\n"
     ]
    },
    {
     "name": "stderr",
     "output_type": "stream",
     "text": [
      "[I 2024-01-08 16:16:23,489] Trial 235 finished with value: 0.05100584932482079 and parameters: {'alpha_0': 0.09958427191256373, 'alpha_1': 0.9037998540884878, 'alpha_2': 0.09156545702742687, 'alpha_3': 0.6118286947613754, 'alpha_4': 0.011412666651200873}. Best is trial 233 with value: 0.05102771376789832.\n"
     ]
    },
    {
     "name": "stdout",
     "output_type": "stream",
     "text": [
      "EvaluatorHoldout: Processed 10444 (100.0%) in 13.52 sec. Users per second: 772\n",
      "EvaluatorHoldout: Processed 10472 (100.0%) in 14.03 sec. Users per second: 746\n",
      "EvaluatorHoldout: Processed 10467 (100.0%) in 13.98 sec. Users per second: 749\n",
      "EvaluatorHoldout: Processed 10493 (100.0%) in 14.23 sec. Users per second: 738\n",
      "EvaluatorHoldout: Processed 10448 (100.0%) in 14.34 sec. Users per second: 729\n",
      "EvaluatorHoldout: Processed 10473 (100.0%) in 14.44 sec. Users per second: 725\n",
      "EvaluatorHoldout: Processed 10440 (100.0%) in 14.43 sec. Users per second: 724\n",
      "EvaluatorHoldout: Processed 10488 (100.0%) in 14.57 sec. Users per second: 720\n"
     ]
    },
    {
     "name": "stderr",
     "output_type": "stream",
     "text": [
      "[I 2024-01-08 16:16:38,266] Trial 236 finished with value: 0.05096152980998858 and parameters: {'alpha_0': 0.13884261823953337, 'alpha_1': 0.9103185902469848, 'alpha_2': 0.06045133383104771, 'alpha_3': 0.5932805789711713, 'alpha_4': 0.032382353003960154}. Best is trial 233 with value: 0.05102771376789832.\n"
     ]
    },
    {
     "name": "stdout",
     "output_type": "stream",
     "text": [
      "EvaluatorHoldout: Processed 10473 (100.0%) in 12.76 sec. Users per second: 821\n",
      "EvaluatorHoldout: Processed 10488 (100.0%) in 13.11 sec. Users per second: 800\n",
      "EvaluatorHoldout: Processed 10467 (100.0%) in 13.15 sec. Users per second: 796\n",
      "EvaluatorHoldout: Processed 10493 (100.0%) in 13.34 sec. Users per second: 786\n",
      "EvaluatorHoldout: Processed 10472 (100.0%) in 13.53 sec. Users per second: 774\n",
      "EvaluatorHoldout: Processed 10440 (100.0%) in 13.60 sec. Users per second: 768\n",
      "EvaluatorHoldout: Processed 10444 (100.0%) in 13.87 sec. Users per second: 753\n",
      "EvaluatorHoldout: Processed 10448 (100.0%) in 13.88 sec. Users per second: 753\n"
     ]
    },
    {
     "name": "stderr",
     "output_type": "stream",
     "text": [
      "[I 2024-01-08 16:16:52,323] Trial 237 finished with value: 0.050989633130300645 and parameters: {'alpha_0': 0.1075859491622875, 'alpha_1': 0.8875067587994151, 'alpha_2': 0.09737654660971151, 'alpha_3': 0.6122311840276737, 'alpha_4': 0.017972813324568973}. Best is trial 233 with value: 0.05102771376789832.\n"
     ]
    },
    {
     "name": "stdout",
     "output_type": "stream",
     "text": [
      "EvaluatorHoldout: Processed 10472 (100.0%) in 13.46 sec. Users per second: 778\n",
      "EvaluatorHoldout: Processed 10488 (100.0%) in 13.47 sec. Users per second: 779\n",
      "EvaluatorHoldout: Processed 10444 (100.0%) in 13.65 sec. Users per second: 765\n",
      "EvaluatorHoldout: Processed 10467 (100.0%) in 13.80 sec. Users per second: 758\n",
      "EvaluatorHoldout: Processed 10448 (100.0%) in 14.21 sec. Users per second: 735\n",
      "EvaluatorHoldout: Processed 10473 (100.0%) in 14.25 sec. Users per second: 735\n",
      "EvaluatorHoldout: Processed 10440 (100.0%) in 14.22 sec. Users per second: 734\n",
      "EvaluatorHoldout: Processed 10493 (100.0%) in 14.28 sec. Users per second: 735\n"
     ]
    },
    {
     "name": "stderr",
     "output_type": "stream",
     "text": [
      "[I 2024-01-08 16:17:06,844] Trial 238 finished with value: 0.05094014859213251 and parameters: {'alpha_0': 0.09033264044508496, 'alpha_1': 0.8614461614419351, 'alpha_2': 0.14009334412144553, 'alpha_3': 0.5523519869753662, 'alpha_4': 0.05016118120946024}. Best is trial 233 with value: 0.05102771376789832.\n"
     ]
    },
    {
     "name": "stdout",
     "output_type": "stream",
     "text": [
      "EvaluatorHoldout: Processed 10488 (100.0%) in 13.26 sec. Users per second: 791\n",
      "EvaluatorHoldout: Processed 10440 (100.0%) in 13.30 sec. Users per second: 785\n",
      "EvaluatorHoldout: Processed 10472 (100.0%) in 13.52 sec. Users per second: 775\n",
      "EvaluatorHoldout: Processed 10467 (100.0%) in 13.68 sec. Users per second: 765\n",
      "EvaluatorHoldout: Processed 10448 (100.0%) in 13.86 sec. Users per second: 754\n",
      "EvaluatorHoldout: Processed 10444 (100.0%) in 13.89 sec. Users per second: 752\n",
      "EvaluatorHoldout: Processed 10473 (100.0%) in 14.06 sec. Users per second: 745\n",
      "EvaluatorHoldout: Processed 10493 (100.0%) in 14.33 sec. Users per second: 732\n"
     ]
    },
    {
     "name": "stderr",
     "output_type": "stream",
     "text": [
      "[I 2024-01-08 16:17:21,406] Trial 239 finished with value: 0.04965099575595456 and parameters: {'alpha_0': 0.471081353580768, 'alpha_1': 0.9251082476766772, 'alpha_2': 0.030031345047477176, 'alpha_3': 0.6137189213505727, 'alpha_4': 0.00912616497794083}. Best is trial 233 with value: 0.05102771376789832.\n"
     ]
    },
    {
     "name": "stdout",
     "output_type": "stream",
     "text": [
      "EvaluatorHoldout: Processed 10444 (100.0%) in 13.14 sec. Users per second: 795\n",
      "EvaluatorHoldout: Processed 10440 (100.0%) in 13.13 sec. Users per second: 795\n",
      "EvaluatorHoldout: Processed 10473 (100.0%) in 13.46 sec. Users per second: 778\n",
      "EvaluatorHoldout: Processed 10488 (100.0%) in 13.64 sec. Users per second: 769EvaluatorHoldout: Processed 10472 (100.0%) in 13.64 sec. Users per second: 768\n",
      "\n",
      "EvaluatorHoldout: Processed 10493 (100.0%) in 13.79 sec. Users per second: 761\n",
      "EvaluatorHoldout: Processed 10467 (100.0%) in 13.85 sec. Users per second: 756\n",
      "EvaluatorHoldout: Processed 10448 (100.0%) in 14.23 sec. Users per second: 734\n"
     ]
    },
    {
     "name": "stderr",
     "output_type": "stream",
     "text": [
      "[I 2024-01-08 16:17:35,844] Trial 240 finished with value: 0.050988564699881334 and parameters: {'alpha_0': 0.11708909787963107, 'alpha_1': 0.8866141338229057, 'alpha_2': 0.10048177490250883, 'alpha_3': 0.5768892046338613, 'alpha_4': 0.03573700813548595}. Best is trial 233 with value: 0.05102771376789832.\n"
     ]
    },
    {
     "name": "stdout",
     "output_type": "stream",
     "text": [
      "EvaluatorHoldout: Processed 10473 (100.0%) in 13.39 sec. Users per second: 782\n",
      "EvaluatorHoldout: Processed 10472 (100.0%) in 13.56 sec. Users per second: 772\n",
      "EvaluatorHoldout: Processed 10467 (100.0%) in 13.52 sec. Users per second: 774\n",
      "EvaluatorHoldout: Processed 10488 (100.0%) in 13.79 sec. Users per second: 761\n",
      "EvaluatorHoldout: Processed 10493 (100.0%) in 13.75 sec. Users per second: 763\n",
      "EvaluatorHoldout: Processed 10444 (100.0%) in 14.06 sec. Users per second: 743\n",
      "EvaluatorHoldout: Processed 10440 (100.0%) in 14.09 sec. Users per second: 741\n",
      "EvaluatorHoldout: Processed 10448 (100.0%) in 14.45 sec. Users per second: 723\n"
     ]
    },
    {
     "name": "stderr",
     "output_type": "stream",
     "text": [
      "[I 2024-01-08 16:17:50,489] Trial 241 finished with value: 0.05101079362045843 and parameters: {'alpha_0': 0.09447769308666616, 'alpha_1': 0.9043036028927132, 'alpha_2': 0.07631444882221122, 'alpha_3': 0.596052966601783, 'alpha_4': 0.08027510350263078}. Best is trial 233 with value: 0.05102771376789832.\n"
     ]
    },
    {
     "name": "stdout",
     "output_type": "stream",
     "text": [
      "EvaluatorHoldout: Processed 10444 (100.0%) in 13.34 sec. Users per second: 783\n",
      "EvaluatorHoldout: Processed 10467 (100.0%) in 13.34 sec. Users per second: 785\n",
      "EvaluatorHoldout: Processed 10440 (100.0%) in 13.47 sec. Users per second: 775\n",
      "EvaluatorHoldout: Processed 10493 (100.0%) in 13.52 sec. Users per second: 776\n",
      "EvaluatorHoldout: Processed 10488 (100.0%) in 13.91 sec. Users per second: 754\n",
      "EvaluatorHoldout: Processed 10472 (100.0%) in 13.91 sec. Users per second: 753\n",
      "EvaluatorHoldout: Processed 10473 (100.0%) in 13.93 sec. Users per second: 752\n",
      "EvaluatorHoldout: Processed 10448 (100.0%) in 14.04 sec. Users per second: 744\n"
     ]
    },
    {
     "name": "stderr",
     "output_type": "stream",
     "text": [
      "[I 2024-01-08 16:18:04,721] Trial 242 finished with value: 0.05100320800480325 and parameters: {'alpha_0': 0.09504970691968465, 'alpha_1': 0.9077647143693736, 'alpha_2': 0.07464166524633581, 'alpha_3': 0.5917204373183812, 'alpha_4': 0.08487677117297009}. Best is trial 233 with value: 0.05102771376789832.\n"
     ]
    },
    {
     "name": "stdout",
     "output_type": "stream",
     "text": [
      "EvaluatorHoldout: Processed 10448 (100.0%) in 13.35 sec. Users per second: 783\n",
      "EvaluatorHoldout: Processed 10440 (100.0%) in 13.46 sec. Users per second: 776\n",
      "EvaluatorHoldout: Processed 10473 (100.0%) in 13.56 sec. Users per second: 772\n",
      "EvaluatorHoldout: Processed 10444 (100.0%) in 13.64 sec. Users per second: 766\n",
      "EvaluatorHoldout: Processed 10488 (100.0%) in 13.80 sec. Users per second: 760\n",
      "EvaluatorHoldout: Processed 10493 (100.0%) in 13.86 sec. Users per second: 757\n",
      "EvaluatorHoldout: Processed 10467 (100.0%) in 13.88 sec. Users per second: 754\n",
      "EvaluatorHoldout: Processed 10472 (100.0%) in 14.00 sec. Users per second: 748\n"
     ]
    },
    {
     "name": "stderr",
     "output_type": "stream",
     "text": [
      "[I 2024-01-08 16:18:18,915] Trial 243 finished with value: 0.05100442748377503 and parameters: {'alpha_0': 0.09683552814594017, 'alpha_1': 0.9102101432754173, 'alpha_2': 0.07032585032183293, 'alpha_3': 0.589431590685648, 'alpha_4': 0.07296538090760604}. Best is trial 233 with value: 0.05102771376789832.\n"
     ]
    },
    {
     "name": "stdout",
     "output_type": "stream",
     "text": [
      "EvaluatorHoldout: Processed 10472 (100.0%) in 13.27 sec. Users per second: 789\n",
      "EvaluatorHoldout: Processed 10467 (100.0%) in 13.45 sec. Users per second: 778\n",
      "EvaluatorHoldout: Processed 10444 (100.0%) in 13.60 sec. Users per second: 768\n",
      "EvaluatorHoldout: Processed 10448 (100.0%) in 13.96 sec. Users per second: 748\n",
      "EvaluatorHoldout: Processed 10473 (100.0%) in 14.03 sec. Users per second: 746\n",
      "EvaluatorHoldout: Processed 10488 (100.0%) in 14.06 sec. Users per second: 746\n",
      "EvaluatorHoldout: Processed 10493 (100.0%) in 14.21 sec. Users per second: 738\n",
      "EvaluatorHoldout: Processed 10440 (100.0%) in 14.34 sec. Users per second: 728\n"
     ]
    },
    {
     "name": "stderr",
     "output_type": "stream",
     "text": [
      "[I 2024-01-08 16:18:33,486] Trial 244 finished with value: 0.05094181564802355 and parameters: {'alpha_0': 0.10168765189616569, 'alpha_1': 0.9047080375372278, 'alpha_2': 0.04878032075780566, 'alpha_3': 0.5916704728524582, 'alpha_4': 0.03795047060757424}. Best is trial 233 with value: 0.05102771376789832.\n"
     ]
    },
    {
     "name": "stdout",
     "output_type": "stream",
     "text": [
      "EvaluatorHoldout: Processed 10488 (100.0%) in 12.97 sec. Users per second: 809\n",
      "EvaluatorHoldout: Processed 10473 (100.0%) in 13.50 sec. Users per second: 775\n",
      "EvaluatorHoldout: Processed 10493 (100.0%) in 13.56 sec. Users per second: 774EvaluatorHoldout: Processed 10467 (100.0%) in 13.56 sec. Users per second: 772\n",
      "\n",
      "EvaluatorHoldout: Processed 10448 (100.0%) in 13.69 sec. Users per second: 763\n",
      "EvaluatorHoldout: Processed 10444 (100.0%) in 13.88 sec. Users per second: 753\n",
      "EvaluatorHoldout: Processed 10472 (100.0%) in 13.96 sec. Users per second: 750\n",
      "EvaluatorHoldout: Processed 10440 (100.0%) in 14.05 sec. Users per second: 743\n"
     ]
    },
    {
     "name": "stderr",
     "output_type": "stream",
     "text": [
      "[I 2024-01-08 16:18:47,777] Trial 245 finished with value: 0.05095205037583132 and parameters: {'alpha_0': 0.13466727272873347, 'alpha_1': 0.9341416168572728, 'alpha_2': 0.07075664950830389, 'alpha_3': 0.5688150991936883, 'alpha_4': 0.07128372502815854}. Best is trial 233 with value: 0.05102771376789832.\n"
     ]
    },
    {
     "name": "stdout",
     "output_type": "stream",
     "text": [
      "EvaluatorHoldout: Processed 10472 (100.0%) in 13.16 sec. Users per second: 796\n",
      "EvaluatorHoldout: Processed 10440 (100.0%) in 13.09 sec. Users per second: 798\n",
      "EvaluatorHoldout: Processed 10493 (100.0%) in 13.54 sec. Users per second: 775\n",
      "EvaluatorHoldout: Processed 10444 (100.0%) in 13.74 sec. Users per second: 760\n",
      "EvaluatorHoldout: Processed 10473 (100.0%) in 13.78 sec. Users per second: 760\n",
      "EvaluatorHoldout: Processed 10467 (100.0%) in 13.88 sec. Users per second: 754\n",
      "EvaluatorHoldout: Processed 10488 (100.0%) in 14.06 sec. Users per second: 746\n",
      "EvaluatorHoldout: Processed 10448 (100.0%) in 14.14 sec. Users per second: 739\n"
     ]
    },
    {
     "name": "stderr",
     "output_type": "stream",
     "text": [
      "[I 2024-01-08 16:19:02,102] Trial 246 finished with value: 0.05092026032839789 and parameters: {'alpha_0': 0.1501122875549898, 'alpha_1': 0.905073200671241, 'alpha_2': 0.07029275883532621, 'alpha_3': 0.5942762495480298, 'alpha_4': 0.02580443091215904}. Best is trial 233 with value: 0.05102771376789832.\n"
     ]
    },
    {
     "name": "stdout",
     "output_type": "stream",
     "text": [
      "EvaluatorHoldout: Processed 10440 (100.0%) in 13.00 sec. Users per second: 803\n",
      "EvaluatorHoldout: Processed 10448 (100.0%) in 13.32 sec. Users per second: 784\n",
      "EvaluatorHoldout: Processed 10444 (100.0%) in 13.38 sec. Users per second: 781\n",
      "EvaluatorHoldout: Processed 10472 (100.0%) in 13.51 sec. Users per second: 775\n",
      "EvaluatorHoldout: Processed 10467 (100.0%) in 13.53 sec. Users per second: 773\n",
      "EvaluatorHoldout: Processed 10473 (100.0%) in 13.81 sec. Users per second: 758\n",
      "EvaluatorHoldout: Processed 10493 (100.0%) in 13.85 sec. Users per second: 758\n",
      "EvaluatorHoldout: Processed 10488 (100.0%) in 13.91 sec. Users per second: 754\n"
     ]
    },
    {
     "name": "stderr",
     "output_type": "stream",
     "text": [
      "[I 2024-01-08 16:19:16,220] Trial 247 finished with value: 0.05096969628892699 and parameters: {'alpha_0': 0.0948530781774772, 'alpha_1': 0.8898493567704628, 'alpha_2': 0.04211809467336891, 'alpha_3': 0.5449837199106569, 'alpha_4': 0.07156549337971231}. Best is trial 233 with value: 0.05102771376789832.\n"
     ]
    },
    {
     "name": "stdout",
     "output_type": "stream",
     "text": [
      "EvaluatorHoldout: Processed 10472 (100.0%) in 13.32 sec. Users per second: 786\n",
      "EvaluatorHoldout: Processed 10488 (100.0%) in 13.65 sec. Users per second: 769\n",
      "EvaluatorHoldout: Processed 10440 (100.0%) in 13.57 sec. Users per second: 769\n",
      "EvaluatorHoldout: Processed 10467 (100.0%) in 13.71 sec. Users per second: 763\n",
      "EvaluatorHoldout: Processed 10444 (100.0%) in 13.88 sec. Users per second: 753\n",
      "EvaluatorHoldout: Processed 10493 (100.0%) in 13.79 sec. Users per second: 761\n",
      "EvaluatorHoldout: Processed 10448 (100.0%) in 14.08 sec. Users per second: 742\n",
      "EvaluatorHoldout: Processed 10473 (100.0%) in 14.21 sec. Users per second: 737\n"
     ]
    },
    {
     "name": "stderr",
     "output_type": "stream",
     "text": [
      "[I 2024-01-08 16:19:30,630] Trial 248 finished with value: 0.05098114211689514 and parameters: {'alpha_0': 0.1143731694061235, 'alpha_1': 0.9362544875923545, 'alpha_2': 0.0808058992927684, 'alpha_3': 0.6067445722809129, 'alpha_4': 0.08950778836421526}. Best is trial 233 with value: 0.05102771376789832.\n"
     ]
    },
    {
     "name": "stdout",
     "output_type": "stream",
     "text": [
      "EvaluatorHoldout: Processed 10444 (100.0%) in 12.86 sec. Users per second: 812\n",
      "EvaluatorHoldout: Processed 10472 (100.0%) in 13.55 sec. Users per second: 773\n",
      "EvaluatorHoldout: Processed 10473 (100.0%) in 13.61 sec. Users per second: 769\n",
      "EvaluatorHoldout: Processed 10493 (100.0%) in 13.56 sec. Users per second: 774\n",
      "EvaluatorHoldout: Processed 10467 (100.0%) in 13.72 sec. Users per second: 763\n",
      "EvaluatorHoldout: Processed 10448 (100.0%) in 13.80 sec. Users per second: 757\n",
      "EvaluatorHoldout: Processed 10488 (100.0%) in 13.93 sec. Users per second: 753\n",
      "EvaluatorHoldout: Processed 10440 (100.0%) in 14.07 sec. Users per second: 742\n"
     ]
    },
    {
     "name": "stderr",
     "output_type": "stream",
     "text": [
      "[I 2024-01-08 16:19:44,931] Trial 249 finished with value: 0.050991703057518906 and parameters: {'alpha_0': 0.09273167931105197, 'alpha_1': 0.9097122234021137, 'alpha_2': 0.05331500575214592, 'alpha_3': 0.5726686684726535, 'alpha_4': 0.059024481660164}. Best is trial 233 with value: 0.05102771376789832.\n"
     ]
    },
    {
     "name": "stdout",
     "output_type": "stream",
     "text": [
      "EvaluatorHoldout: Processed 10472 (100.0%) in 12.74 sec. Users per second: 822\n",
      "EvaluatorHoldout: Processed 10440 (100.0%) in 13.20 sec. Users per second: 791\n",
      "EvaluatorHoldout: Processed 10493 (100.0%) in 13.37 sec. Users per second: 785\n",
      "EvaluatorHoldout: Processed 10444 (100.0%) in 13.54 sec. Users per second: 771\n",
      "EvaluatorHoldout: Processed 10473 (100.0%) in 13.60 sec. Users per second: 770\n",
      "EvaluatorHoldout: Processed 10488 (100.0%) in 13.79 sec. Users per second: 760\n",
      "EvaluatorHoldout: Processed 10448 (100.0%) in 13.84 sec. Users per second: 755\n",
      "EvaluatorHoldout: Processed 10467 (100.0%) in 13.98 sec. Users per second: 749\n"
     ]
    },
    {
     "name": "stderr",
     "output_type": "stream",
     "text": [
      "[I 2024-01-08 16:19:59,148] Trial 250 finished with value: 0.05088765122384942 and parameters: {'alpha_0': 0.07362117841360817, 'alpha_1': 0.4099612750704339, 'alpha_2': 0.10195796924343936, 'alpha_3': 0.5894839275515544, 'alpha_4': 0.00794952969111759}. Best is trial 233 with value: 0.05102771376789832.\n"
     ]
    },
    {
     "name": "stdout",
     "output_type": "stream",
     "text": [
      "EvaluatorHoldout: Processed 10493 (100.0%) in 13.34 sec. Users per second: 787\n",
      "EvaluatorHoldout: Processed 10472 (100.0%) in 13.44 sec. Users per second: 779\n",
      "EvaluatorHoldout: Processed 10444 (100.0%) in 13.86 sec. Users per second: 753\n",
      "EvaluatorHoldout: Processed 10467 (100.0%) in 13.85 sec. Users per second: 756EvaluatorHoldout: Processed 10440 (100.0%) in 13.81 sec. Users per second: 756\n",
      "\n",
      "EvaluatorHoldout: Processed 10488 (100.0%) in 13.96 sec. Users per second: 751\n",
      "EvaluatorHoldout: Processed 10448 (100.0%) in 14.01 sec. Users per second: 746\n",
      "EvaluatorHoldout: Processed 10473 (100.0%) in 14.22 sec. Users per second: 737\n"
     ]
    },
    {
     "name": "stderr",
     "output_type": "stream",
     "text": [
      "[I 2024-01-08 16:20:13,567] Trial 251 finished with value: 0.05098363613562107 and parameters: {'alpha_0': 0.07400741330222775, 'alpha_1': 0.9208860556622483, 'alpha_2': 0.10409189600000654, 'alpha_3': 0.6224792871472236, 'alpha_4': 0.1185783812684803}. Best is trial 233 with value: 0.05102771376789832.\n"
     ]
    },
    {
     "name": "stdout",
     "output_type": "stream",
     "text": [
      "EvaluatorHoldout: Processed 10444 (100.0%) in 13.27 sec. Users per second: 787\n",
      "EvaluatorHoldout: Processed 10488 (100.0%) in 13.30 sec. Users per second: 789\n",
      "EvaluatorHoldout: Processed 10440 (100.0%) in 13.51 sec. Users per second: 773\n",
      "EvaluatorHoldout: Processed 10473 (100.0%) in 13.82 sec. Users per second: 758\n",
      "EvaluatorHoldout: Processed 10472 (100.0%) in 14.00 sec. Users per second: 748\n",
      "EvaluatorHoldout: Processed 10448 (100.0%) in 14.07 sec. Users per second: 743\n",
      "EvaluatorHoldout: Processed 10493 (100.0%) in 14.03 sec. Users per second: 748\n",
      "EvaluatorHoldout: Processed 10467 (100.0%) in 14.22 sec. Users per second: 736\n"
     ]
    },
    {
     "name": "stderr",
     "output_type": "stream",
     "text": [
      "[I 2024-01-08 16:20:28,015] Trial 252 finished with value: 0.05101821111107125 and parameters: {'alpha_0': 0.06425520509331487, 'alpha_1': 0.8884336604049209, 'alpha_2': 0.08230228248019654, 'alpha_3': 0.6141918858889643, 'alpha_4': 0.04480992464842002}. Best is trial 233 with value: 0.05102771376789832.\n"
     ]
    },
    {
     "name": "stdout",
     "output_type": "stream",
     "text": [
      "EvaluatorHoldout: Processed 10493 (100.0%) in 13.42 sec. Users per second: 782\n",
      "EvaluatorHoldout: Processed 10444 (100.0%) in 13.59 sec. Users per second: 769\n",
      "EvaluatorHoldout: Processed 10440 (100.0%) in 13.56 sec. Users per second: 770\n",
      "EvaluatorHoldout: Processed 10488 (100.0%) in 13.82 sec. Users per second: 759\n",
      "EvaluatorHoldout: Processed 10472 (100.0%) in 13.95 sec. Users per second: 751\n",
      "EvaluatorHoldout: Processed 10473 (100.0%) in 13.96 sec. Users per second: 750\n",
      "EvaluatorHoldout: Processed 10467 (100.0%) in 14.29 sec. Users per second: 733\n",
      "EvaluatorHoldout: Processed 10448 (100.0%) in 14.33 sec. Users per second: 729\n"
     ]
    },
    {
     "name": "stderr",
     "output_type": "stream",
     "text": [
      "[I 2024-01-08 16:20:42,541] Trial 253 finished with value: 0.050995751974589415 and parameters: {'alpha_0': 0.10112784226147122, 'alpha_1': 0.8629840666262111, 'alpha_2': 0.07792344559541677, 'alpha_3': 0.6011953692526729, 'alpha_4': 0.04870415216699728}. Best is trial 233 with value: 0.05102771376789832.\n"
     ]
    },
    {
     "name": "stdout",
     "output_type": "stream",
     "text": [
      "EvaluatorHoldout: Processed 10473 (100.0%) in 13.85 sec. Users per second: 756\n",
      "EvaluatorHoldout: Processed 10444 (100.0%) in 13.98 sec. Users per second: 747\n",
      "EvaluatorHoldout: Processed 10440 (100.0%) in 14.10 sec. Users per second: 741\n",
      "EvaluatorHoldout: Processed 10472 (100.0%) in 14.28 sec. Users per second: 733\n",
      "EvaluatorHoldout: Processed 10448 (100.0%) in 14.35 sec. Users per second: 728\n",
      "EvaluatorHoldout: Processed 10467 (100.0%) in 14.51 sec. Users per second: 721\n",
      "EvaluatorHoldout: Processed 10488 (100.0%) in 14.69 sec. Users per second: 714\n",
      "EvaluatorHoldout: Processed 10493 (100.0%) in 14.64 sec. Users per second: 717\n"
     ]
    },
    {
     "name": "stderr",
     "output_type": "stream",
     "text": [
      "[I 2024-01-08 16:20:57,460] Trial 254 finished with value: 0.05096272874411387 and parameters: {'alpha_0': 0.12038290642264332, 'alpha_1': 0.8587475246751648, 'alpha_2': 0.07339519081674249, 'alpha_3': 0.6079331340382634, 'alpha_4': 0.05349522954990864}. Best is trial 233 with value: 0.05102771376789832.\n"
     ]
    },
    {
     "name": "stdout",
     "output_type": "stream",
     "text": [
      "EvaluatorHoldout: Processed 10488 (100.0%) in 13.58 sec. Users per second: 772\n",
      "EvaluatorHoldout: Processed 10444 (100.0%) in 13.65 sec. Users per second: 765\n",
      "EvaluatorHoldout: Processed 10467 (100.0%) in 13.56 sec. Users per second: 772\n",
      "EvaluatorHoldout: Processed 10473 (100.0%) in 14.02 sec. Users per second: 747\n",
      "EvaluatorHoldout: Processed 10448 (100.0%) in 14.06 sec. Users per second: 743\n",
      "EvaluatorHoldout: Processed 10493 (100.0%) in 14.27 sec. Users per second: 735\n",
      "EvaluatorHoldout: Processed 10472 (100.0%) in 14.45 sec. Users per second: 725\n",
      "EvaluatorHoldout: Processed 10440 (100.0%) in 14.44 sec. Users per second: 723\n"
     ]
    },
    {
     "name": "stderr",
     "output_type": "stream",
     "text": [
      "[I 2024-01-08 16:21:12,159] Trial 255 finished with value: 0.05098900878783251 and parameters: {'alpha_0': 0.09629223488432276, 'alpha_1': 0.8459400204460584, 'alpha_2': 0.06016589197593445, 'alpha_3': 0.6178162137913996, 'alpha_4': 0.035620297609368946}. Best is trial 233 with value: 0.05102771376789832.\n"
     ]
    },
    {
     "name": "stdout",
     "output_type": "stream",
     "text": [
      "EvaluatorHoldout: Processed 10473 (100.0%) in 13.20 sec. Users per second: 793\n",
      "EvaluatorHoldout: Processed 10472 (100.0%) in 13.47 sec. Users per second: 777\n",
      "EvaluatorHoldout: Processed 10488 (100.0%) in 13.64 sec. Users per second: 769\n",
      "EvaluatorHoldout: Processed 10444 (100.0%) in 13.84 sec. Users per second: 755\n",
      "EvaluatorHoldout: Processed 10493 (100.0%) in 13.91 sec. Users per second: 754\n",
      "EvaluatorHoldout: Processed 10440 (100.0%) in 13.95 sec. Users per second: 748\n",
      "EvaluatorHoldout: Processed 10448 (100.0%) in 14.19 sec. Users per second: 736\n",
      "EvaluatorHoldout: Processed 10467 (100.0%) in 14.25 sec. Users per second: 734\n"
     ]
    },
    {
     "name": "stderr",
     "output_type": "stream",
     "text": [
      "[I 2024-01-08 16:21:26,675] Trial 256 finished with value: 0.050045375867126006 and parameters: {'alpha_0': 0.365878178778622, 'alpha_1': 0.8776077149415915, 'alpha_2': 0.0223156094082832, 'alpha_3': 0.5966396020237863, 'alpha_4': 0.07732399906138579}. Best is trial 233 with value: 0.05102771376789832.\n"
     ]
    },
    {
     "name": "stdout",
     "output_type": "stream",
     "text": [
      "EvaluatorHoldout: Processed 10444 (100.0%) in 13.18 sec. Users per second: 792\n",
      "EvaluatorHoldout: Processed 10472 (100.0%) in 13.27 sec. Users per second: 789\n",
      "EvaluatorHoldout: Processed 10488 (100.0%) in 13.98 sec. Users per second: 750\n",
      "EvaluatorHoldout: Processed 10467 (100.0%) in 13.95 sec. Users per second: 750\n",
      "EvaluatorHoldout: Processed 10440 (100.0%) in 14.04 sec. Users per second: 744\n",
      "EvaluatorHoldout: Processed 10473 (100.0%) in 14.15 sec. Users per second: 740\n",
      "EvaluatorHoldout: Processed 10448 (100.0%) in 14.35 sec. Users per second: 728\n",
      "EvaluatorHoldout: Processed 10493 (100.0%) in 14.43 sec. Users per second: 727\n"
     ]
    },
    {
     "name": "stderr",
     "output_type": "stream",
     "text": [
      "[I 2024-01-08 16:21:41,344] Trial 257 finished with value: 0.051003848625090206 and parameters: {'alpha_0': 0.10211631427097795, 'alpha_1': 0.8850181083401626, 'alpha_2': 0.0887256539273085, 'alpha_3': 0.6175414215421495, 'alpha_4': 0.040952966981411376}. Best is trial 233 with value: 0.05102771376789832.\n"
     ]
    },
    {
     "name": "stdout",
     "output_type": "stream",
     "text": [
      "EvaluatorHoldout: Processed 10493 (100.0%) in 13.31 sec. Users per second: 788\n",
      "EvaluatorHoldout: Processed 10467 (100.0%) in 13.47 sec. Users per second: 777\n",
      "EvaluatorHoldout: Processed 10444 (100.0%) in 13.72 sec. Users per second: 761\n",
      "EvaluatorHoldout: Processed 10448 (100.0%) in 13.84 sec. Users per second: 755\n",
      "EvaluatorHoldout: Processed 10488 (100.0%) in 13.90 sec. Users per second: 755\n",
      "EvaluatorHoldout: Processed 10440 (100.0%) in 13.90 sec. Users per second: 751\n",
      "EvaluatorHoldout: Processed 10473 (100.0%) in 14.13 sec. Users per second: 741\n",
      "EvaluatorHoldout: Processed 10472 (100.0%) in 14.20 sec. Users per second: 737\n"
     ]
    },
    {
     "name": "stderr",
     "output_type": "stream",
     "text": [
      "[I 2024-01-08 16:21:55,736] Trial 258 finished with value: 0.05097998650033327 and parameters: {'alpha_0': 0.12791994779287066, 'alpha_1': 0.890339097118078, 'alpha_2': 0.08645870576045395, 'alpha_3': 0.618204349646548, 'alpha_4': 0.04744724703763947}. Best is trial 233 with value: 0.05102771376789832.\n"
     ]
    },
    {
     "name": "stdout",
     "output_type": "stream",
     "text": [
      "EvaluatorHoldout: Processed 10493 (100.0%) in 13.32 sec. Users per second: 788\n",
      "EvaluatorHoldout: Processed 10467 (100.0%) in 13.56 sec. Users per second: 772\n",
      "EvaluatorHoldout: Processed 10472 (100.0%) in 13.81 sec. Users per second: 758\n",
      "EvaluatorHoldout: Processed 10473 (100.0%) in 13.85 sec. Users per second: 756\n",
      "EvaluatorHoldout: Processed 10448 (100.0%) in 13.94 sec. Users per second: 750\n",
      "EvaluatorHoldout: Processed 10488 (100.0%) in 13.93 sec. Users per second: 753\n",
      "EvaluatorHoldout: Processed 10440 (100.0%) in 13.97 sec. Users per second: 747\n",
      "EvaluatorHoldout: Processed 10444 (100.0%) in 14.16 sec. Users per second: 738\n"
     ]
    },
    {
     "name": "stderr",
     "output_type": "stream",
     "text": [
      "[I 2024-01-08 16:22:10,093] Trial 259 finished with value: 0.05097380743661215 and parameters: {'alpha_0': 0.10687007418911315, 'alpha_1': 0.865574745840436, 'alpha_2': 0.06737270606034437, 'alpha_3': 0.5997398474575552, 'alpha_4': 0.01853770505220493}. Best is trial 233 with value: 0.05102771376789832.\n"
     ]
    },
    {
     "name": "stdout",
     "output_type": "stream",
     "text": [
      "EvaluatorHoldout: Processed 10467 (100.0%) in 12.82 sec. Users per second: 816\n",
      "EvaluatorHoldout: Processed 10473 (100.0%) in 13.41 sec. Users per second: 781\n",
      "EvaluatorHoldout: Processed 10472 (100.0%) in 13.48 sec. Users per second: 777\n",
      "EvaluatorHoldout: Processed 10488 (100.0%) in 13.55 sec. Users per second: 774\n",
      "EvaluatorHoldout: Processed 10440 (100.0%) in 13.69 sec. Users per second: 762\n",
      "EvaluatorHoldout: Processed 10444 (100.0%) in 13.82 sec. Users per second: 756\n",
      "EvaluatorHoldout: Processed 10448 (100.0%) in 14.04 sec. Users per second: 744\n",
      "EvaluatorHoldout: Processed 10493 (100.0%) in 14.15 sec. Users per second: 741\n"
     ]
    },
    {
     "name": "stderr",
     "output_type": "stream",
     "text": [
      "[I 2024-01-08 16:22:24,495] Trial 260 finished with value: 0.050988381859140244 and parameters: {'alpha_0': 0.062095844131561974, 'alpha_1': 0.8860766940963797, 'alpha_2': 0.042692608056467164, 'alpha_3': 0.5688834137181914, 'alpha_4': 0.07814747012461182}. Best is trial 233 with value: 0.05102771376789832.\n"
     ]
    },
    {
     "name": "stdout",
     "output_type": "stream",
     "text": [
      "EvaluatorHoldout: Processed 10467 (100.0%) in 13.09 sec. Users per second: 800\n",
      "EvaluatorHoldout: Processed 10473 (100.0%) in 13.64 sec. Users per second: 768EvaluatorHoldout: Processed 10488 (100.0%) in 13.64 sec. Users per second: 769\n",
      "\n",
      "EvaluatorHoldout: Processed 10444 (100.0%) in 13.84 sec. Users per second: 754\n",
      "EvaluatorHoldout: Processed 10440 (100.0%) in 13.90 sec. Users per second: 751\n",
      "EvaluatorHoldout: Processed 10472 (100.0%) in 14.07 sec. Users per second: 744\n",
      "EvaluatorHoldout: Processed 10448 (100.0%) in 14.27 sec. Users per second: 732\n",
      "EvaluatorHoldout: Processed 10493 (100.0%) in 14.24 sec. Users per second: 737\n"
     ]
    },
    {
     "name": "stderr",
     "output_type": "stream",
     "text": [
      "[I 2024-01-08 16:22:38,999] Trial 261 finished with value: 0.05096915386933766 and parameters: {'alpha_0': 0.10993865176175459, 'alpha_1': 0.8411026033147502, 'alpha_2': 0.07981956582811754, 'alpha_3': 0.6204240952806305, 'alpha_4': 0.0012556164714510164}. Best is trial 233 with value: 0.05102771376789832.\n"
     ]
    },
    {
     "name": "stdout",
     "output_type": "stream",
     "text": [
      "EvaluatorHoldout: Processed 10488 (100.0%) in 13.03 sec. Users per second: 805\n",
      "EvaluatorHoldout: Processed 10473 (100.0%) in 13.11 sec. Users per second: 799\n",
      "EvaluatorHoldout: Processed 10444 (100.0%) in 13.59 sec. Users per second: 768\n",
      "EvaluatorHoldout: Processed 10472 (100.0%) in 13.65 sec. Users per second: 767\n",
      "EvaluatorHoldout: Processed 10493 (100.0%) in 13.65 sec. Users per second: 769\n",
      "EvaluatorHoldout: Processed 10467 (100.0%) in 13.65 sec. Users per second: 767\n",
      "EvaluatorHoldout: Processed 10440 (100.0%) in 13.86 sec. Users per second: 753\n",
      "EvaluatorHoldout: Processed 10448 (100.0%) in 13.91 sec. Users per second: 751\n"
     ]
    },
    {
     "name": "stderr",
     "output_type": "stream",
     "text": [
      "[I 2024-01-08 16:22:53,105] Trial 262 finished with value: 0.05096145325146852 and parameters: {'alpha_0': 0.1481639547305953, 'alpha_1': 0.9034492083059913, 'alpha_2': 0.08720321645114512, 'alpha_3': 0.5891522679917783, 'alpha_4': 0.10218297731253478}. Best is trial 233 with value: 0.05102771376789832.\n"
     ]
    }
   ],
   "source": [
    "study.optimize(objective_multi, n_trials=250)"
   ]
  },
  {
   "cell_type": "code",
   "execution_count": 53,
   "metadata": {},
   "outputs": [
    {
     "name": "stdout",
     "output_type": "stream",
     "text": [
      "{'topK': 15, 'shrink': 12.300684239254931}\n",
      "{'topK': 641, 'l1_ratio': 0.03280421966009752, 'alpha': 0.0017252874446017745}\n",
      "{'topK': 29, 'alpha': 0.33723025040409343, 'beta': 0.15542352567862933}\n",
      "{'topK': 65, 'alpha': 0.7555650628550881}\n",
      "{'num_factors': 401, 'epochs': 1204, 'confidence_scaling': 'linear', 'alpha': 7.139858098793055, 'epsilon': 0.10666578585393433, 'reg': 0.0010579931024405477}\n"
     ]
    }
   ],
   "source": [
    "# studies = [knn_study, slim_study, rp3beta_study, p3alpha_study, ials_study]\n",
    "for s in studies:\n",
    "    print(s.best_params)\n",
    "\n",
    "#{'topK': 15, 'shrink': 12.300684239254931}\n",
    "#{'topK': 641, 'l1_ratio': 0.03280421966009752, 'alpha': 0.0017252874446017745}\n",
    "#{'topK': 29, 'alpha': 0.33723025040409343, 'beta': 0.15542352567862933}\n",
    "#{'topK': 65, 'alpha': 0.7555650628550881}\n",
    "#{'num_factors': 401, 'epochs': 1204, 'confidence_scaling': 'linear', 'alpha': 7.139858098793055, 'epsilon': 0.10666578585393433, 'reg': 0.0010579931024405477}"
   ]
  },
  {
   "cell_type": "code",
   "execution_count": 54,
   "metadata": {},
   "outputs": [
    {
     "name": "stdout",
     "output_type": "stream",
     "text": [
      "{'alpha_0': 0.09281383615143128, 'alpha_1': 0.9071148100464619, 'alpha_2': 0.10122791589734623, 'alpha_3': 0.6178919992064891, 'alpha_4': 0.027430265345796477}\n"
     ]
    }
   ],
   "source": [
    "#hybrid weights:\n",
    "print(study.best_params)\n",
    "\n",
    "#{'alpha_0': 0.09281383615143128, 'alpha_1': 0.9071148100464619, 'alpha_2': 0.10122791589734623, 'alpha_3': 0.6178919992064891, 'alpha_4': 0.027430265345796477}"
   ]
  },
  {
   "cell_type": "code",
   "execution_count": 55,
   "metadata": {},
   "outputs": [
    {
     "data": {
      "text/plain": [
       "0.05102771376789832"
      ]
     },
     "execution_count": 55,
     "metadata": {},
     "output_type": "execute_result"
    }
   ],
   "source": [
    "study.best_value"
   ]
  },
  {
   "cell_type": "code",
   "execution_count": 57,
   "metadata": {},
   "outputs": [
    {
     "name": "stdout",
     "output_type": "stream",
     "text": [
      "Similarity column 22222 (100.0%), 11368.99 column/sec. Elapsed time 1.95 sec\n",
      "Using gpu: True\n"
     ]
    }
   ],
   "source": [
    "\n",
    "knn = ItemKNNCFRecommender(urm_all, verbose=False)\n",
    "knn.fit(topK=knn_study.best_params[\"topK\"], shrink=knn_study.best_params[\"shrink\"])\n",
    "\n",
    "slim = MultiThreadSLIM_SLIMElasticNetRecommender(urm_all, verbose=True)\n",
    "slim.fit(topK=slim_study.best_params[\"topK\"], l1_ratio=slim_study.best_params[\"l1_ratio\"], alpha=slim_study.best_params[\"alpha\"], verbose=False, workers=12)\n",
    "\n",
    "ials = ImplicitALSRecommender(urm_all, verbose=False)\n",
    "ials.fit(use_gpu=True, num_threads=1, **ials_study.best_params)\n",
    "\n",
    "rp3beta = RP3betaRecommender(urm_all, verbose=False)\n",
    "rp3beta.fit(topK=rp3beta_study.best_params[\"topK\"], alpha=rp3beta_study.best_params[\"alpha\"], beta=rp3beta_study.best_params[\"beta\"])\n",
    "\n",
    "p3alpha = P3alphaRecommender(urm_all, verbose=False)\n",
    "p3alpha.fit(topK=p3alpha_study.best_params[\"topK\"], alpha=p3alpha_study.best_params[\"alpha\"])\n"
   ]
  },
  {
   "cell_type": "code",
   "execution_count": 58,
   "metadata": {},
   "outputs": [],
   "source": [
    "alphas_final = []\n",
    "for key, value in study.best_params.items():\n",
    "    alphas_final.append(value)"
   ]
  },
  {
   "cell_type": "code",
   "execution_count": 59,
   "metadata": {},
   "outputs": [],
   "source": [
    "hybrid = GeneralizedLinearHybridRecommender(urm_all, [knn,slim,ials,rp3beta,p3alpha], verbose=False)\n",
    "hybrid.fit(alphas_final)"
   ]
  },
  {
   "cell_type": "code",
   "execution_count": 61,
   "metadata": {},
   "outputs": [],
   "source": [
    "target_users = pd.read_csv(\"Dataset/data_target_users_test.csv\")\n",
    "target_users.columns = [\"UserID\"]"
   ]
  },
  {
   "cell_type": "code",
   "execution_count": 62,
   "metadata": {},
   "outputs": [
    {
     "name": "stdout",
     "output_type": "stream",
     "text": [
      "[    1     2     3 ... 13022 13023 13024]\n"
     ]
    }
   ],
   "source": [
    "item_popularity_encoded = np.ediff1d(urm_all.tocsc().indptr)\n",
    "item_popularity_encoded = np.sort(item_popularity_encoded)\n",
    "\n",
    "tar_users = target_users[\"UserID\"].astype(int)\n",
    "topPop_encoded = item_popularity_encoded[-10:]\n",
    "\n",
    "submission = []\n",
    "\n",
    "print(np.unique(df[\"UserID\"].values))\n",
    "\n",
    "for index, user in enumerate(tar_users):\n",
    "    if (user not in df[\"UserID\"].values):\n",
    "        item_list_encoded = topPop_encoded\n",
    "    else:\n",
    "        item_list_encoded = hybrid.recommend(user2user_encoded[user])[:10]\n",
    "    item_list = []\n",
    "    for item_encoded in item_list_encoded:\n",
    "        item_list.append(item_encoded2item[item_encoded])\n",
    "    submission.append((user, item_list))\n",
    "\n",
    "\n",
    "def write_submission(submissions):\n",
    "    with open(\"./submission_SUPERHYBRID.csv\", \"w\") as f:\n",
    "        f.write(\"user_id,item_list\\n\")\n",
    "        for user_id, items in submissions:\n",
    "            f.write(f\"{user_id},{' '.join([str(item) for item in items])}\\n\")\n",
    "            \n",
    "write_submission(submission)"
   ]
  }
 ],
 "metadata": {
  "kernelspec": {
   "display_name": "RecSysFramework",
   "language": "python",
   "name": "python3"
  },
  "language_info": {
   "codemirror_mode": {
    "name": "ipython",
    "version": 3
   },
   "file_extension": ".py",
   "mimetype": "text/x-python",
   "name": "python",
   "nbconvert_exporter": "python",
   "pygments_lexer": "ipython3",
   "version": "3.8.18"
  }
 },
 "nbformat": 4,
 "nbformat_minor": 2
}
