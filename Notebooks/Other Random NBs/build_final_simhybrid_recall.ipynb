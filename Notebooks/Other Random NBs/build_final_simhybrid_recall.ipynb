{
 "cells": [
  {
   "cell_type": "code",
   "execution_count": 1,
   "metadata": {},
   "outputs": [],
   "source": [
    "import os\n",
    "os.chdir(\"../\")"
   ]
  },
  {
   "cell_type": "code",
   "execution_count": 2,
   "metadata": {},
   "outputs": [],
   "source": [
    "import numpy as np\n",
    "import pandas as pd\n",
    "import matplotlib.pyplot as plt\n",
    "\n",
    "\n",
    "k_fold = 10\n",
    "seeds = [192760, 1393659, 1269293, 138973, 931308, 1088652, 1361151, 1456105, 820535, 1240839]\n"
   ]
  },
  {
   "cell_type": "code",
   "execution_count": 3,
   "metadata": {},
   "outputs": [],
   "source": [
    "data_train_path = \"Dataset/data_train.csv\"\n",
    "data_test_path = \"Dataset/data_target_users_test.csv\""
   ]
  },
  {
   "cell_type": "code",
   "execution_count": 4,
   "metadata": {},
   "outputs": [],
   "source": [
    "df = pd.read_csv(data_train_path)\n",
    "df_test = pd.read_csv(data_test_path)\n",
    "\n",
    "df.columns = [\"UserID\", \"ItemID\", \"Interaction\"]\n",
    "df_test.columns = [\"UserID\"]"
   ]
  },
  {
   "cell_type": "code",
   "execution_count": 5,
   "metadata": {},
   "outputs": [
    {
     "data": {
      "text/html": [
       "<div>\n",
       "<style scoped>\n",
       "    .dataframe tbody tr th:only-of-type {\n",
       "        vertical-align: middle;\n",
       "    }\n",
       "\n",
       "    .dataframe tbody tr th {\n",
       "        vertical-align: top;\n",
       "    }\n",
       "\n",
       "    .dataframe thead th {\n",
       "        text-align: right;\n",
       "    }\n",
       "</style>\n",
       "<table border=\"1\" class=\"dataframe\">\n",
       "  <thead>\n",
       "    <tr style=\"text-align: right;\">\n",
       "      <th></th>\n",
       "      <th>UserID</th>\n",
       "      <th>ItemID</th>\n",
       "      <th>Interaction</th>\n",
       "    </tr>\n",
       "  </thead>\n",
       "  <tbody>\n",
       "    <tr>\n",
       "      <th>0</th>\n",
       "      <td>1</td>\n",
       "      <td>7</td>\n",
       "      <td>1.0</td>\n",
       "    </tr>\n",
       "    <tr>\n",
       "      <th>1</th>\n",
       "      <td>1</td>\n",
       "      <td>15</td>\n",
       "      <td>1.0</td>\n",
       "    </tr>\n",
       "    <tr>\n",
       "      <th>2</th>\n",
       "      <td>1</td>\n",
       "      <td>16</td>\n",
       "      <td>1.0</td>\n",
       "    </tr>\n",
       "    <tr>\n",
       "      <th>3</th>\n",
       "      <td>1</td>\n",
       "      <td>133</td>\n",
       "      <td>1.0</td>\n",
       "    </tr>\n",
       "    <tr>\n",
       "      <th>4</th>\n",
       "      <td>1</td>\n",
       "      <td>161</td>\n",
       "      <td>1.0</td>\n",
       "    </tr>\n",
       "    <tr>\n",
       "      <th>...</th>\n",
       "      <td>...</td>\n",
       "      <td>...</td>\n",
       "      <td>...</td>\n",
       "    </tr>\n",
       "    <tr>\n",
       "      <th>478725</th>\n",
       "      <td>13024</td>\n",
       "      <td>13605</td>\n",
       "      <td>1.0</td>\n",
       "    </tr>\n",
       "    <tr>\n",
       "      <th>478726</th>\n",
       "      <td>13024</td>\n",
       "      <td>13823</td>\n",
       "      <td>1.0</td>\n",
       "    </tr>\n",
       "    <tr>\n",
       "      <th>478727</th>\n",
       "      <td>13024</td>\n",
       "      <td>15122</td>\n",
       "      <td>1.0</td>\n",
       "    </tr>\n",
       "    <tr>\n",
       "      <th>478728</th>\n",
       "      <td>13024</td>\n",
       "      <td>18185</td>\n",
       "      <td>1.0</td>\n",
       "    </tr>\n",
       "    <tr>\n",
       "      <th>478729</th>\n",
       "      <td>13024</td>\n",
       "      <td>20014</td>\n",
       "      <td>1.0</td>\n",
       "    </tr>\n",
       "  </tbody>\n",
       "</table>\n",
       "<p>478730 rows × 3 columns</p>\n",
       "</div>"
      ],
      "text/plain": [
       "        UserID  ItemID  Interaction\n",
       "0            1       7          1.0\n",
       "1            1      15          1.0\n",
       "2            1      16          1.0\n",
       "3            1     133          1.0\n",
       "4            1     161          1.0\n",
       "...        ...     ...          ...\n",
       "478725   13024   13605          1.0\n",
       "478726   13024   13823          1.0\n",
       "478727   13024   15122          1.0\n",
       "478728   13024   18185          1.0\n",
       "478729   13024   20014          1.0\n",
       "\n",
       "[478730 rows x 3 columns]"
      ]
     },
     "execution_count": 5,
     "metadata": {},
     "output_type": "execute_result"
    }
   ],
   "source": [
    "df"
   ]
  },
  {
   "cell_type": "code",
   "execution_count": 6,
   "metadata": {},
   "outputs": [],
   "source": [
    "metric_to_optimize=\"RECALL\"\n",
    "cutoff_to_optimize=20"
   ]
  },
  {
   "cell_type": "code",
   "execution_count": 7,
   "metadata": {},
   "outputs": [
    {
     "name": "stdout",
     "output_type": "stream",
     "text": [
      "Number of users: 12638, Number of Items: 22222, Min rating: 0.0, Max rating: 1.0\n"
     ]
    }
   ],
   "source": [
    "user_ids = df[\"UserID\"].unique().tolist()\n",
    "user2user_encoded = {x: i for i, x in enumerate(user_ids)}\n",
    "userencoded2user = {i: x for i, x in enumerate(user_ids)}\n",
    "item_ids = df[\"ItemID\"].unique().tolist()\n",
    "item2item_encoded = {x: i for i, x in enumerate(item_ids)}\n",
    "item_encoded2item = {i: x for i, x in enumerate(item_ids)}\n",
    "df[\"User\"] = df[\"UserID\"].map(user2user_encoded)\n",
    "df[\"Item\"] = df[\"ItemID\"].map(item2item_encoded)\n",
    "\n",
    "num_users = len(user2user_encoded)\n",
    "num_items = len(item_encoded2item)\n",
    "df[\"Interaction\"] = df[\"Interaction\"].values.astype(np.float32)\n",
    "\n",
    "# min and max ratings will be used to normalize the ratings later\n",
    "min_rating = 0.0\n",
    "max_rating = max(df[\"Interaction\"])\n",
    "\n",
    "print(\n",
    "    \"Number of users: {}, Number of Items: {}, Min rating: {}, Max rating: {}\".format(\n",
    "        num_users, num_items, min_rating, max_rating\n",
    "    )\n",
    ")"
   ]
  },
  {
   "cell_type": "code",
   "execution_count": 8,
   "metadata": {},
   "outputs": [],
   "source": [
    "userId_unique = df[\"UserID\"].unique()\n",
    "itemId_unique = df[\"ItemID\"].unique()"
   ]
  },
  {
   "cell_type": "code",
   "execution_count": 9,
   "metadata": {},
   "outputs": [
    {
     "name": "stdout",
     "output_type": "stream",
     "text": [
      "Warning: 249 (1.97 %) of 12638 users have no train items\n",
      "Warning: 2146 (16.98 %) of 12638 users have no sampled items\n",
      "Warning: 508 (4.02 %) of 12638 users have no train items\n",
      "Warning: 2581 (20.42 %) of 12638 users have no sampled items\n",
      "Warning: 191 (1.51 %) of 12638 users have no train items\n",
      "Warning: 2177 (17.23 %) of 12638 users have no sampled items\n",
      "Warning: 440 (3.48 %) of 12638 users have no train items\n",
      "Warning: 2598 (20.56 %) of 12638 users have no sampled items\n",
      "Warning: 235 (1.86 %) of 12638 users have no train items\n",
      "Warning: 2157 (17.07 %) of 12638 users have no sampled items\n",
      "Warning: 479 (3.79 %) of 12638 users have no train items\n",
      "Warning: 2621 (20.74 %) of 12638 users have no sampled items\n",
      "Warning: 218 (1.72 %) of 12638 users have no train items\n",
      "Warning: 2132 (16.87 %) of 12638 users have no sampled items\n",
      "Warning: 451 (3.57 %) of 12638 users have no train items\n",
      "Warning: 2601 (20.58 %) of 12638 users have no sampled items\n",
      "Warning: 220 (1.74 %) of 12638 users have no train items\n",
      "Warning: 2149 (17.00 %) of 12638 users have no sampled items\n",
      "Warning: 449 (3.55 %) of 12638 users have no train items\n",
      "Warning: 2649 (20.96 %) of 12638 users have no sampled items\n",
      "Warning: 224 (1.77 %) of 12638 users have no train items\n",
      "Warning: 2129 (16.85 %) of 12638 users have no sampled items\n",
      "Warning: 460 (3.64 %) of 12638 users have no train items\n",
      "Warning: 2614 (20.68 %) of 12638 users have no sampled items\n",
      "Warning: 207 (1.64 %) of 12638 users have no train items\n",
      "Warning: 2228 (17.63 %) of 12638 users have no sampled items\n",
      "Warning: 426 (3.37 %) of 12638 users have no train items\n",
      "Warning: 2608 (20.64 %) of 12638 users have no sampled items\n",
      "Warning: 218 (1.72 %) of 12638 users have no train items\n",
      "Warning: 2183 (17.27 %) of 12638 users have no sampled items\n",
      "Warning: 471 (3.73 %) of 12638 users have no train items\n",
      "Warning: 2586 (20.46 %) of 12638 users have no sampled items\n",
      "Warning: 214 (1.69 %) of 12638 users have no train items\n",
      "Warning: 2140 (16.93 %) of 12638 users have no sampled items\n",
      "Warning: 478 (3.78 %) of 12638 users have no train items\n",
      "Warning: 2593 (20.52 %) of 12638 users have no sampled items\n",
      "Warning: 217 (1.72 %) of 12638 users have no train items\n",
      "Warning: 2187 (17.30 %) of 12638 users have no sampled items\n",
      "Warning: 460 (3.64 %) of 12638 users have no train items\n",
      "Warning: 2570 (20.34 %) of 12638 users have no sampled items\n"
     ]
    }
   ],
   "source": [
    "from sklearn.model_selection import train_test_split\n",
    "from sklearn.model_selection import cross_val_score, KFold\n",
    "import numpy as np\n",
    "import scipy.sparse as sps\n",
    "from Data_manager.split_functions.split_train_validation_random_holdout import split_train_in_two_percentage_global_sample\n",
    "\n",
    "\n",
    "urm_all = sps.coo_matrix((df[\"Interaction\"].values, \n",
    "                          (df[\"User\"].values, df[\"Item\"].values)))\n",
    "\n",
    "urm_train_validation = []\n",
    "urm_test = []\n",
    "urm_train = []\n",
    "urm_validation = []\n",
    "\n",
    "for i in range(len(seeds)):\n",
    "    a, b = split_train_in_two_percentage_global_sample(urm_all, train_percentage = 0.80,seed=seeds[i])\n",
    "    c, d = split_train_in_two_percentage_global_sample(a, train_percentage = 0.80,seed=seeds[i])\n",
    "    urm_train_validation.append(a)\n",
    "    urm_test.append(b)\n",
    "    urm_train.append(c)\n",
    "    urm_validation.append(d)\n",
    "\n"
   ]
  },
  {
   "cell_type": "code",
   "execution_count": 10,
   "metadata": {},
   "outputs": [
    {
     "name": "stdout",
     "output_type": "stream",
     "text": [
      "EvaluatorHoldout: Ignoring 2581 (20.4%) Users that have less than 1 test interactions\n",
      "EvaluatorHoldout: Ignoring 0 Users\n",
      "EvaluatorHoldout: Ignoring 2598 (20.6%) Users that have less than 1 test interactions\n",
      "EvaluatorHoldout: Ignoring 0 Users\n",
      "EvaluatorHoldout: Ignoring 2621 (20.7%) Users that have less than 1 test interactions\n",
      "EvaluatorHoldout: Ignoring 0 Users\n",
      "EvaluatorHoldout: Ignoring 2601 (20.6%) Users that have less than 1 test interactions\n",
      "EvaluatorHoldout: Ignoring 0 Users\n",
      "EvaluatorHoldout: Ignoring 2649 (21.0%) Users that have less than 1 test interactions\n",
      "EvaluatorHoldout: Ignoring 0 Users\n",
      "EvaluatorHoldout: Ignoring 2614 (20.7%) Users that have less than 1 test interactions\n",
      "EvaluatorHoldout: Ignoring 0 Users\n",
      "EvaluatorHoldout: Ignoring 2608 (20.6%) Users that have less than 1 test interactions\n",
      "EvaluatorHoldout: Ignoring 0 Users\n",
      "EvaluatorHoldout: Ignoring 2586 (20.5%) Users that have less than 1 test interactions\n",
      "EvaluatorHoldout: Ignoring 0 Users\n",
      "EvaluatorHoldout: Ignoring 2593 (20.5%) Users that have less than 1 test interactions\n",
      "EvaluatorHoldout: Ignoring 0 Users\n",
      "EvaluatorHoldout: Ignoring 2570 (20.3%) Users that have less than 1 test interactions\n",
      "EvaluatorHoldout: Ignoring 0 Users\n"
     ]
    }
   ],
   "source": [
    "from Evaluation.Evaluator import EvaluatorHoldout\n",
    "evaluator_validation = []\n",
    "for u in urm_validation:\n",
    "    evaluator_validation.append(EvaluatorHoldout(u, cutoff_list=[20], ignore_users=[]))"
   ]
  },
  {
   "cell_type": "code",
   "execution_count": 11,
   "metadata": {},
   "outputs": [
    {
     "name": "stdout",
     "output_type": "stream",
     "text": [
      "EvaluatorHoldout: Ignoring 2146 (17.0%) Users that have less than 1 test interactions\n",
      "EvaluatorHoldout: Ignoring 0 Users\n",
      "EvaluatorHoldout: Ignoring 2177 (17.2%) Users that have less than 1 test interactions\n",
      "EvaluatorHoldout: Ignoring 0 Users\n",
      "EvaluatorHoldout: Ignoring 2157 (17.1%) Users that have less than 1 test interactions\n",
      "EvaluatorHoldout: Ignoring 0 Users\n",
      "EvaluatorHoldout: Ignoring 2132 (16.9%) Users that have less than 1 test interactions\n",
      "EvaluatorHoldout: Ignoring 0 Users\n",
      "EvaluatorHoldout: Ignoring 2149 (17.0%) Users that have less than 1 test interactions\n",
      "EvaluatorHoldout: Ignoring 0 Users\n",
      "EvaluatorHoldout: Ignoring 2129 (16.8%) Users that have less than 1 test interactions\n",
      "EvaluatorHoldout: Ignoring 0 Users\n",
      "EvaluatorHoldout: Ignoring 2228 (17.6%) Users that have less than 1 test interactions\n",
      "EvaluatorHoldout: Ignoring 0 Users\n",
      "EvaluatorHoldout: Ignoring 2183 (17.3%) Users that have less than 1 test interactions\n",
      "EvaluatorHoldout: Ignoring 0 Users\n",
      "EvaluatorHoldout: Ignoring 2140 (16.9%) Users that have less than 1 test interactions\n",
      "EvaluatorHoldout: Ignoring 0 Users\n",
      "EvaluatorHoldout: Ignoring 2187 (17.3%) Users that have less than 1 test interactions\n",
      "EvaluatorHoldout: Ignoring 0 Users\n"
     ]
    }
   ],
   "source": [
    "from Evaluation.Evaluator import EvaluatorHoldout\n",
    "evaluator_test = []\n",
    "for u in urm_test:\n",
    "    evaluator_test.append(EvaluatorHoldout(u, cutoff_list=[20], ignore_users=[]))"
   ]
  },
  {
   "cell_type": "code",
   "execution_count": 12,
   "metadata": {},
   "outputs": [],
   "source": [
    "from Recommenders.GraphBased.RP3betaRecommender import RP3betaRecommender\n",
    "from Recommenders.KNN.ItemKNNCFRecommender import ItemKNNCFRecommender\n",
    "from Recommenders.SLIM.SLIMElasticNetRecommender import MultiThreadSLIM_SLIMElasticNetRecommender\n",
    "\n",
    "recommenderClass = MultiThreadSLIM_SLIMElasticNetRecommender\n",
    "\n"
   ]
  },
  {
   "cell_type": "code",
   "execution_count": 13,
   "metadata": {},
   "outputs": [],
   "source": [
    "import optuna\n",
    "\n",
    "# Replace the following with your MySQL database connection details\n",
    "host = \"db-mysql-nyc3-14396-do-user-15539286-0.c.db.ondigitalocean.com\"\n",
    "port = 25060\n",
    "database_name = \"recsys_optuna\"\n",
    "username = \"doadmin\"\n",
    "password = \"AVNS_EIQ1D-GbDGJWZPsN3Mt\"\n",
    "\n",
    "# Create an SQLAlchemy engine\n",
    "mysql_url = f\"mysql+pymysql://{username}:{password}@{host}:{port}/{database_name}\"\n",
    "storage = optuna.storages.RDBStorage(url=mysql_url)"
   ]
  },
  {
   "cell_type": "code",
   "execution_count": 14,
   "metadata": {},
   "outputs": [],
   "source": [
    "slim_study = optuna.load_study(study_name=\"SLIM_XG_RECALL\", storage=storage)\n",
    "rp3_study = optuna.load_study(study_name=\"RP3_XG_RECALL\", storage=storage)"
   ]
  },
  {
   "cell_type": "code",
   "execution_count": 15,
   "metadata": {},
   "outputs": [
    {
     "name": "stdout",
     "output_type": "stream",
     "text": [
      "SLIMElasticNetRecommender: URM Detected 508 ( 4.0%) users with no interactions.\n",
      "SLIMElasticNetRecommender: URM Detected 332 ( 1.5%) items with no interactions.\n"
     ]
    },
    {
     "name": "stderr",
     "output_type": "stream",
     "text": [
      "100%|█████████▉| 22216/22222 [01:09<00:00, 321.75it/s]\n"
     ]
    },
    {
     "name": "stdout",
     "output_type": "stream",
     "text": [
      "RP3betaRecommender: URM Detected 508 ( 4.0%) users with no interactions.\n",
      "RP3betaRecommender: URM Detected 332 ( 1.5%) items with no interactions.\n",
      "RP3betaRecommender: Similarity column 22222 (100.0%), 4450.92 column/sec. Elapsed time 4.99 sec\n",
      "SLIMElasticNetRecommender: URM Detected 440 ( 3.5%) users with no interactions.\n",
      "SLIMElasticNetRecommender: URM Detected 325 ( 1.5%) items with no interactions.\n"
     ]
    },
    {
     "name": "stderr",
     "output_type": "stream",
     "text": [
      "100%|█████████▉| 22216/22222 [01:13<00:00, 303.85it/s]\n"
     ]
    },
    {
     "name": "stdout",
     "output_type": "stream",
     "text": [
      "RP3betaRecommender: URM Detected 440 ( 3.5%) users with no interactions.\n",
      "RP3betaRecommender: URM Detected 325 ( 1.5%) items with no interactions.\n",
      "RP3betaRecommender: Similarity column 22222 (100.0%), 4441.42 column/sec. Elapsed time 5.00 sec\n",
      "SLIMElasticNetRecommender: URM Detected 479 ( 3.8%) users with no interactions.\n",
      "SLIMElasticNetRecommender: URM Detected 345 ( 1.6%) items with no interactions.\n"
     ]
    },
    {
     "name": "stderr",
     "output_type": "stream",
     "text": [
      "100%|█████████▉| 22216/22222 [01:12<00:00, 307.06it/s]\n"
     ]
    },
    {
     "name": "stdout",
     "output_type": "stream",
     "text": [
      "RP3betaRecommender: URM Detected 479 ( 3.8%) users with no interactions.\n",
      "RP3betaRecommender: URM Detected 345 ( 1.6%) items with no interactions.\n",
      "RP3betaRecommender: Similarity column 22222 (100.0%), 4222.28 column/sec. Elapsed time 5.26 sec\n",
      "SLIMElasticNetRecommender: URM Detected 451 ( 3.6%) users with no interactions.\n",
      "SLIMElasticNetRecommender: URM Detected 311 ( 1.4%) items with no interactions.\n"
     ]
    },
    {
     "name": "stderr",
     "output_type": "stream",
     "text": [
      "100%|█████████▉| 22216/22222 [01:04<00:00, 345.91it/s]\n"
     ]
    },
    {
     "name": "stdout",
     "output_type": "stream",
     "text": [
      "RP3betaRecommender: URM Detected 451 ( 3.6%) users with no interactions.\n",
      "RP3betaRecommender: URM Detected 311 ( 1.4%) items with no interactions.\n",
      "RP3betaRecommender: Similarity column 22222 (100.0%), 4278.71 column/sec. Elapsed time 5.19 sec\n",
      "SLIMElasticNetRecommender: URM Detected 449 ( 3.6%) users with no interactions.\n",
      "SLIMElasticNetRecommender: URM Detected 320 ( 1.4%) items with no interactions.\n"
     ]
    },
    {
     "name": "stderr",
     "output_type": "stream",
     "text": [
      "100%|█████████▉| 22216/22222 [01:07<00:00, 327.14it/s]\n"
     ]
    },
    {
     "name": "stdout",
     "output_type": "stream",
     "text": [
      "RP3betaRecommender: URM Detected 449 ( 3.6%) users with no interactions.\n",
      "RP3betaRecommender: URM Detected 320 ( 1.4%) items with no interactions.\n",
      "RP3betaRecommender: Similarity column 22222 (100.0%), 4939.67 column/sec. Elapsed time 4.50 sec\n",
      "SLIMElasticNetRecommender: URM Detected 460 ( 3.6%) users with no interactions.\n",
      "SLIMElasticNetRecommender: URM Detected 328 ( 1.5%) items with no interactions.\n"
     ]
    },
    {
     "name": "stderr",
     "output_type": "stream",
     "text": [
      "100%|█████████▉| 22216/22222 [01:09<00:00, 320.74it/s]\n"
     ]
    },
    {
     "name": "stdout",
     "output_type": "stream",
     "text": [
      "RP3betaRecommender: URM Detected 460 ( 3.6%) users with no interactions.\n",
      "RP3betaRecommender: URM Detected 328 ( 1.5%) items with no interactions.\n",
      "RP3betaRecommender: Similarity column 22222 (100.0%), 4272.70 column/sec. Elapsed time 5.20 sec\n",
      "SLIMElasticNetRecommender: URM Detected 426 ( 3.4%) users with no interactions.\n",
      "SLIMElasticNetRecommender: URM Detected 344 ( 1.5%) items with no interactions.\n"
     ]
    },
    {
     "name": "stderr",
     "output_type": "stream",
     "text": [
      "100%|█████████▉| 22216/22222 [01:04<00:00, 344.81it/s]\n"
     ]
    },
    {
     "name": "stdout",
     "output_type": "stream",
     "text": [
      "RP3betaRecommender: URM Detected 426 ( 3.4%) users with no interactions.\n",
      "RP3betaRecommender: URM Detected 344 ( 1.5%) items with no interactions.\n",
      "RP3betaRecommender: Similarity column 22222 (100.0%), 4306.17 column/sec. Elapsed time 5.16 sec\n",
      "SLIMElasticNetRecommender: URM Detected 471 ( 3.7%) users with no interactions.\n",
      "SLIMElasticNetRecommender: URM Detected 362 ( 1.6%) items with no interactions.\n"
     ]
    },
    {
     "name": "stderr",
     "output_type": "stream",
     "text": [
      "100%|█████████▉| 22216/22222 [01:09<00:00, 319.15it/s]\n"
     ]
    },
    {
     "name": "stdout",
     "output_type": "stream",
     "text": [
      "RP3betaRecommender: URM Detected 471 ( 3.7%) users with no interactions.\n",
      "RP3betaRecommender: URM Detected 362 ( 1.6%) items with no interactions.\n",
      "RP3betaRecommender: Similarity column 22222 (100.0%), 5187.04 column/sec. Elapsed time 4.28 sec\n",
      "SLIMElasticNetRecommender: URM Detected 478 ( 3.8%) users with no interactions.\n",
      "SLIMElasticNetRecommender: URM Detected 329 ( 1.5%) items with no interactions.\n"
     ]
    },
    {
     "name": "stderr",
     "output_type": "stream",
     "text": [
      "100%|█████████▉| 22216/22222 [01:09<00:00, 320.40it/s]\n"
     ]
    },
    {
     "name": "stdout",
     "output_type": "stream",
     "text": [
      "RP3betaRecommender: URM Detected 478 ( 3.8%) users with no interactions.\n",
      "RP3betaRecommender: URM Detected 329 ( 1.5%) items with no interactions.\n",
      "RP3betaRecommender: Similarity column 22222 (100.0%), 4208.92 column/sec. Elapsed time 5.28 sec\n",
      "SLIMElasticNetRecommender: URM Detected 460 ( 3.6%) users with no interactions.\n",
      "SLIMElasticNetRecommender: URM Detected 348 ( 1.6%) items with no interactions.\n"
     ]
    },
    {
     "name": "stderr",
     "output_type": "stream",
     "text": [
      "100%|█████████▉| 22216/22222 [01:10<00:00, 315.42it/s]\n"
     ]
    },
    {
     "name": "stdout",
     "output_type": "stream",
     "text": [
      "RP3betaRecommender: URM Detected 460 ( 3.6%) users with no interactions.\n",
      "RP3betaRecommender: URM Detected 348 ( 1.6%) items with no interactions.\n",
      "RP3betaRecommender: Similarity column 22222 (100.0%), 4221.86 column/sec. Elapsed time 5.26 sec\n"
     ]
    }
   ],
   "source": [
    "slims = []\n",
    "rp3s = []\n",
    "\n",
    "for i in range(len(seeds)):\n",
    "    slim = MultiThreadSLIM_SLIMElasticNetRecommender(urm_train[i])\n",
    "    slim.fit(workers=8, **slim_study.best_params)\n",
    "    slims.append(slim)\n",
    "\n",
    "    rp3 = RP3betaRecommender(urm_train[i])\n",
    "    rp3.fit(**rp3_study.best_params)\n",
    "    rp3s.append(rp3)\n"
   ]
  },
  {
   "cell_type": "code",
   "execution_count": 16,
   "metadata": {},
   "outputs": [
    {
     "name": "stdout",
     "output_type": "stream",
     "text": [
      "ItemKNNSimilarityHybridRecommender: URM Detected 508 ( 4.0%) users with no interactions.\n",
      "ItemKNNSimilarityHybridRecommender: URM Detected 332 ( 1.5%) items with no interactions.\n",
      "ItemKNNSimilarityHybridRecommender: URM Detected 440 ( 3.5%) users with no interactions.\n",
      "ItemKNNSimilarityHybridRecommender: URM Detected 325 ( 1.5%) items with no interactions.\n",
      "ItemKNNSimilarityHybridRecommender: URM Detected 479 ( 3.8%) users with no interactions.\n",
      "ItemKNNSimilarityHybridRecommender: URM Detected 345 ( 1.6%) items with no interactions.\n",
      "ItemKNNSimilarityHybridRecommender: URM Detected 451 ( 3.6%) users with no interactions.\n",
      "ItemKNNSimilarityHybridRecommender: URM Detected 311 ( 1.4%) items with no interactions.\n",
      "ItemKNNSimilarityHybridRecommender: URM Detected 449 ( 3.6%) users with no interactions.\n",
      "ItemKNNSimilarityHybridRecommender: URM Detected 320 ( 1.4%) items with no interactions.\n",
      "ItemKNNSimilarityHybridRecommender: URM Detected 460 ( 3.6%) users with no interactions.\n",
      "ItemKNNSimilarityHybridRecommender: URM Detected 328 ( 1.5%) items with no interactions.\n",
      "ItemKNNSimilarityHybridRecommender: URM Detected 426 ( 3.4%) users with no interactions.\n",
      "ItemKNNSimilarityHybridRecommender: URM Detected 344 ( 1.5%) items with no interactions.\n",
      "ItemKNNSimilarityHybridRecommender: URM Detected 471 ( 3.7%) users with no interactions.\n",
      "ItemKNNSimilarityHybridRecommender: URM Detected 362 ( 1.6%) items with no interactions.\n",
      "ItemKNNSimilarityHybridRecommender: URM Detected 478 ( 3.8%) users with no interactions.\n",
      "ItemKNNSimilarityHybridRecommender: URM Detected 329 ( 1.5%) items with no interactions.\n",
      "ItemKNNSimilarityHybridRecommender: URM Detected 460 ( 3.6%) users with no interactions.\n",
      "ItemKNNSimilarityHybridRecommender: URM Detected 348 ( 1.6%) items with no interactions.\n"
     ]
    }
   ],
   "source": [
    "from Recommenders.KNN.ItemKNNSimilarityHybridRecommender import ItemKNNSimilarityHybridRecommender\n",
    "\n",
    "\n",
    "hybrids = []\n",
    "\n",
    "for i in range(len(seeds)):\n",
    "    hybrid = ItemKNNSimilarityHybridRecommender(urm_train[i], slims[i].W_sparse, rp3s[i].W_sparse)\n",
    "    hybrids.append(hybrid)"
   ]
  },
  {
   "cell_type": "code",
   "execution_count": 17,
   "metadata": {},
   "outputs": [
    {
     "name": "stderr",
     "output_type": "stream",
     "text": [
      "[I 2024-01-10 11:57:22,643] A new study created in RDB with name: HYB_XG_RECALL\n"
     ]
    }
   ],
   "source": [
    "study = optuna.create_study(study_name=\"HYB_XG_RECALL\", direction=\"maximize\", storage=storage, load_if_exists=True, sampler=optuna.samplers.TPESampler())"
   ]
  },
  {
   "cell_type": "code",
   "execution_count": 24,
   "metadata": {},
   "outputs": [],
   "source": [
    "def objective(trial):\n",
    "\n",
    "    params = {\n",
    "        'alpha': trial.suggest_float('alpha', 0, 1),\n",
    "        'topK': trial.suggest_int('topK', 5, 10000),\n",
    "    }\n",
    "\n",
    "    RECALL = 0\n",
    "    MAP = 0\n",
    "    for i in range(k_fold):\n",
    "        recommender = hybrids[i]\n",
    "        recommender.fit(**params)\n",
    "\n",
    "        result_dict, _ = evaluator_validation[i].evaluateRecommender(recommender)\n",
    "        \n",
    "        RECALL += result_dict[metric_to_optimize].item()\n",
    "        MAP += result_dict[\"MAP\"].item()\n",
    "    print(f\"RECALL: {RECALL / k_fold}, MAP: {MAP / k_fold}\")\n",
    "    RECALL /= k_fold\n",
    "    return RECALL"
   ]
  },
  {
   "cell_type": "code",
   "execution_count": 26,
   "metadata": {},
   "outputs": [
    {
     "name": "stdout",
     "output_type": "stream",
     "text": [
      "EvaluatorHoldout: Processed 10057 (100.0%) in 4.77 sec. Users per second: 2109\n",
      "EvaluatorHoldout: Processed 10040 (100.0%) in 6.60 sec. Users per second: 1522\n",
      "EvaluatorHoldout: Processed 10017 (100.0%) in 6.24 sec. Users per second: 1604\n",
      "EvaluatorHoldout: Processed 10037 (100.0%) in 6.91 sec. Users per second: 1454\n",
      "EvaluatorHoldout: Processed 9989 (100.0%) in 5.15 sec. Users per second: 1941\n",
      "EvaluatorHoldout: Processed 10024 (100.0%) in 5.20 sec. Users per second: 1929\n",
      "EvaluatorHoldout: Processed 10030 (100.0%) in 6.65 sec. Users per second: 1509\n",
      "EvaluatorHoldout: Processed 10052 (100.0%) in 5.77 sec. Users per second: 1743\n",
      "EvaluatorHoldout: Processed 10045 (100.0%) in 5.95 sec. Users per second: 1690\n",
      "EvaluatorHoldout: Processed 10068 (100.0%) in 5.83 sec. Users per second: 1727\n",
      "RECALL: 0.16871277065181814, MAP: 0.017862709071001598\n"
     ]
    },
    {
     "name": "stderr",
     "output_type": "stream",
     "text": [
      "[I 2024-01-10 12:29:12,154] Trial 8 finished with value: 0.16871277065181814 and parameters: {'alpha': 0.28492450229616595, 'topK': 6469}. Best is trial 8 with value: 0.16871277065181814.\n"
     ]
    },
    {
     "name": "stdout",
     "output_type": "stream",
     "text": [
      "EvaluatorHoldout: Processed 10057 (100.0%) in 6.52 sec. Users per second: 1542\n",
      "EvaluatorHoldout: Processed 10040 (100.0%) in 6.13 sec. Users per second: 1639\n",
      "EvaluatorHoldout: Processed 10017 (100.0%) in 5.89 sec. Users per second: 1700\n",
      "EvaluatorHoldout: Processed 10037 (100.0%) in 4.85 sec. Users per second: 2069\n",
      "EvaluatorHoldout: Processed 9989 (100.0%) in 6.20 sec. Users per second: 1610\n",
      "EvaluatorHoldout: Processed 10024 (100.0%) in 6.00 sec. Users per second: 1672\n",
      "EvaluatorHoldout: Processed 10030 (100.0%) in 6.62 sec. Users per second: 1514\n",
      "EvaluatorHoldout: Processed 10052 (100.0%) in 5.44 sec. Users per second: 1848\n",
      "EvaluatorHoldout: Processed 10045 (100.0%) in 6.44 sec. Users per second: 1560\n",
      "EvaluatorHoldout: Processed 10068 (100.0%) in 5.72 sec. Users per second: 1761\n",
      "RECALL: 0.16795341529963667, MAP: 0.017901728730607486\n"
     ]
    },
    {
     "name": "stderr",
     "output_type": "stream",
     "text": [
      "[I 2024-01-10 12:31:46,499] Trial 9 finished with value: 0.16795341529963667 and parameters: {'alpha': 0.4267360759382067, 'topK': 2428}. Best is trial 8 with value: 0.16871277065181814.\n"
     ]
    },
    {
     "name": "stdout",
     "output_type": "stream",
     "text": [
      "EvaluatorHoldout: Processed 10057 (100.0%) in 5.63 sec. Users per second: 1787\n",
      "EvaluatorHoldout: Processed 10040 (100.0%) in 5.72 sec. Users per second: 1755\n",
      "EvaluatorHoldout: Processed 10017 (100.0%) in 5.59 sec. Users per second: 1792\n",
      "EvaluatorHoldout: Processed 10037 (100.0%) in 5.89 sec. Users per second: 1705\n",
      "EvaluatorHoldout: Processed 9989 (100.0%) in 5.39 sec. Users per second: 1853\n",
      "EvaluatorHoldout: Processed 10024 (100.0%) in 5.89 sec. Users per second: 1701\n",
      "EvaluatorHoldout: Processed 10030 (100.0%) in 6.22 sec. Users per second: 1614\n",
      "EvaluatorHoldout: Processed 10052 (100.0%) in 6.82 sec. Users per second: 1474\n",
      "EvaluatorHoldout: Processed 10045 (100.0%) in 6.36 sec. Users per second: 1579\n",
      "EvaluatorHoldout: Processed 10068 (100.0%) in 6.08 sec. Users per second: 1657\n",
      "RECALL: 0.16618666908439633, MAP: 0.017230617158283706\n"
     ]
    },
    {
     "name": "stderr",
     "output_type": "stream",
     "text": [
      "[I 2024-01-10 12:34:14,241] Trial 10 finished with value: 0.16618666908439633 and parameters: {'alpha': 0.0202156784730656, 'topK': 8064}. Best is trial 8 with value: 0.16871277065181814.\n"
     ]
    },
    {
     "name": "stdout",
     "output_type": "stream",
     "text": [
      "EvaluatorHoldout: Processed 10057 (100.0%) in 7.00 sec. Users per second: 1437\n",
      "EvaluatorHoldout: Processed 10040 (100.0%) in 5.72 sec. Users per second: 1756\n",
      "EvaluatorHoldout: Processed 10017 (100.0%) in 5.75 sec. Users per second: 1741\n",
      "EvaluatorHoldout: Processed 10037 (100.0%) in 6.56 sec. Users per second: 1531\n",
      "EvaluatorHoldout: Processed 9989 (100.0%) in 6.33 sec. Users per second: 1577\n",
      "EvaluatorHoldout: Processed 10024 (100.0%) in 6.09 sec. Users per second: 1646\n",
      "EvaluatorHoldout: Processed 10030 (100.0%) in 5.10 sec. Users per second: 1969\n",
      "EvaluatorHoldout: Processed 10052 (100.0%) in 5.89 sec. Users per second: 1706\n",
      "EvaluatorHoldout: Processed 10045 (100.0%) in 6.20 sec. Users per second: 1621\n",
      "EvaluatorHoldout: Processed 10068 (100.0%) in 6.50 sec. Users per second: 1550\n",
      "RECALL: 0.16864704595220553, MAP: 0.01777868970964709\n"
     ]
    },
    {
     "name": "stderr",
     "output_type": "stream",
     "text": [
      "[I 2024-01-10 12:36:51,610] Trial 11 finished with value: 0.16864704595220553 and parameters: {'alpha': 0.188289884238487, 'topK': 6703}. Best is trial 8 with value: 0.16871277065181814.\n"
     ]
    },
    {
     "name": "stdout",
     "output_type": "stream",
     "text": [
      "EvaluatorHoldout: Processed 10057 (100.0%) in 6.38 sec. Users per second: 1576\n",
      "EvaluatorHoldout: Processed 10040 (100.0%) in 6.22 sec. Users per second: 1614\n",
      "EvaluatorHoldout: Processed 10017 (100.0%) in 6.40 sec. Users per second: 1564\n",
      "EvaluatorHoldout: Processed 10037 (100.0%) in 5.61 sec. Users per second: 1790\n",
      "EvaluatorHoldout: Processed 9989 (100.0%) in 5.14 sec. Users per second: 1943\n",
      "EvaluatorHoldout: Processed 10024 (100.0%) in 5.25 sec. Users per second: 1910\n",
      "EvaluatorHoldout: Processed 10030 (100.0%) in 6.15 sec. Users per second: 1631\n",
      "EvaluatorHoldout: Processed 10052 (100.0%) in 6.43 sec. Users per second: 1563\n",
      "EvaluatorHoldout: Processed 10045 (100.0%) in 6.44 sec. Users per second: 1561\n",
      "EvaluatorHoldout: Processed 10068 (100.0%) in 4.83 sec. Users per second: 2086\n",
      "RECALL: 0.16816810231603102, MAP: 0.01760178093750246\n"
     ]
    },
    {
     "name": "stderr",
     "output_type": "stream",
     "text": [
      "[I 2024-01-10 12:39:17,069] Trial 12 finished with value: 0.16816810231603102 and parameters: {'alpha': 0.11348992071863273, 'topK': 7400}. Best is trial 8 with value: 0.16871277065181814.\n"
     ]
    },
    {
     "name": "stdout",
     "output_type": "stream",
     "text": [
      "EvaluatorHoldout: Processed 10057 (100.0%) in 6.20 sec. Users per second: 1622\n",
      "EvaluatorHoldout: Processed 10040 (100.0%) in 6.39 sec. Users per second: 1572\n",
      "EvaluatorHoldout: Processed 10017 (100.0%) in 5.06 sec. Users per second: 1981\n",
      "EvaluatorHoldout: Processed 10037 (100.0%) in 6.16 sec. Users per second: 1630\n",
      "EvaluatorHoldout: Processed 9989 (100.0%) in 6.50 sec. Users per second: 1536\n",
      "EvaluatorHoldout: Processed 10024 (100.0%) in 5.73 sec. Users per second: 1748\n",
      "EvaluatorHoldout: Processed 10030 (100.0%) in 5.00 sec. Users per second: 2005\n",
      "EvaluatorHoldout: Processed 10052 (100.0%) in 6.49 sec. Users per second: 1550\n",
      "EvaluatorHoldout: Processed 10045 (100.0%) in 6.20 sec. Users per second: 1620\n",
      "EvaluatorHoldout: Processed 10068 (100.0%) in 6.45 sec. Users per second: 1562\n",
      "RECALL: 0.16869249273225856, MAP: 0.0177867034492419\n"
     ]
    },
    {
     "name": "stderr",
     "output_type": "stream",
     "text": [
      "[I 2024-01-10 12:41:49,525] Trial 13 finished with value: 0.16869249273225856 and parameters: {'alpha': 0.19499855332775495, 'topK': 8528}. Best is trial 8 with value: 0.16871277065181814.\n"
     ]
    },
    {
     "name": "stdout",
     "output_type": "stream",
     "text": [
      "EvaluatorHoldout: Processed 10057 (100.0%) in 4.68 sec. Users per second: 2147\n",
      "EvaluatorHoldout: Processed 10040 (100.0%) in 5.82 sec. Users per second: 1725\n",
      "EvaluatorHoldout: Processed 10017 (100.0%) in 5.78 sec. Users per second: 1733\n",
      "EvaluatorHoldout: Processed 10037 (100.0%) in 5.90 sec. Users per second: 1701\n",
      "EvaluatorHoldout: Processed 9989 (100.0%) in 4.82 sec. Users per second: 2071\n",
      "EvaluatorHoldout: Processed 10024 (100.0%) in 5.80 sec. Users per second: 1728\n",
      "EvaluatorHoldout: Processed 10030 (100.0%) in 5.77 sec. Users per second: 1738\n",
      "EvaluatorHoldout: Processed 10052 (100.0%) in 5.95 sec. Users per second: 1691\n",
      "EvaluatorHoldout: Processed 10045 (100.0%) in 4.66 sec. Users per second: 2154\n",
      "EvaluatorHoldout: Processed 10068 (100.0%) in 5.85 sec. Users per second: 1720\n",
      "RECALL: 0.1688578073579293, MAP: 0.017823613992327354\n"
     ]
    },
    {
     "name": "stderr",
     "output_type": "stream",
     "text": [
      "[I 2024-01-10 12:44:06,965] Trial 14 finished with value: 0.1688578073579293 and parameters: {'alpha': 0.2262790628855299, 'topK': 9056}. Best is trial 14 with value: 0.1688578073579293.\n"
     ]
    },
    {
     "name": "stdout",
     "output_type": "stream",
     "text": [
      "EvaluatorHoldout: Processed 10057 (100.0%) in 5.16 sec. Users per second: 1950\n",
      "EvaluatorHoldout: Processed 10040 (100.0%) in 4.94 sec. Users per second: 2031\n",
      "EvaluatorHoldout: Processed 10017 (100.0%) in 4.18 sec. Users per second: 2394\n",
      "EvaluatorHoldout: Processed 10037 (100.0%) in 4.66 sec. Users per second: 2154\n",
      "EvaluatorHoldout: Processed 9989 (100.0%) in 5.19 sec. Users per second: 1924\n",
      "EvaluatorHoldout: Processed 10024 (100.0%) in 5.07 sec. Users per second: 1978\n",
      "EvaluatorHoldout: Processed 10030 (100.0%) in 5.01 sec. Users per second: 2001\n",
      "EvaluatorHoldout: Processed 10052 (100.0%) in 4.90 sec. Users per second: 2051\n",
      "EvaluatorHoldout: Processed 10045 (100.0%) in 3.80 sec. Users per second: 2641\n",
      "EvaluatorHoldout: Processed 10068 (100.0%) in 4.89 sec. Users per second: 2061\n",
      "RECALL: 0.16780889491206885, MAP: 0.017994940041625686\n"
     ]
    },
    {
     "name": "stderr",
     "output_type": "stream",
     "text": [
      "[I 2024-01-10 12:45:51,457] Trial 15 finished with value: 0.16780889491206885 and parameters: {'alpha': 0.26868259288456314, 'topK': 421}. Best is trial 14 with value: 0.1688578073579293.\n"
     ]
    },
    {
     "name": "stdout",
     "output_type": "stream",
     "text": [
      "EvaluatorHoldout: Processed 10057 (100.0%) in 5.35 sec. Users per second: 1878\n",
      "EvaluatorHoldout: Processed 10040 (100.0%) in 5.49 sec. Users per second: 1829\n",
      "EvaluatorHoldout: Processed 10017 (100.0%) in 4.87 sec. Users per second: 2058\n",
      "EvaluatorHoldout: Processed 10037 (100.0%) in 5.66 sec. Users per second: 1774\n",
      "EvaluatorHoldout: Processed 9989 (100.0%) in 5.73 sec. Users per second: 1742\n",
      "EvaluatorHoldout: Processed 10024 (100.0%) in 6.04 sec. Users per second: 1660\n",
      "EvaluatorHoldout: Processed 10030 (100.0%) in 4.88 sec. Users per second: 2055\n",
      "EvaluatorHoldout: Processed 10052 (100.0%) in 4.98 sec. Users per second: 2018\n",
      "EvaluatorHoldout: Processed 10045 (100.0%) in 5.93 sec. Users per second: 1694\n",
      "EvaluatorHoldout: Processed 10068 (100.0%) in 6.09 sec. Users per second: 1653\n",
      "RECALL: 0.16598473917648252, MAP: 0.017725770005007965\n"
     ]
    },
    {
     "name": "stderr",
     "output_type": "stream",
     "text": [
      "[I 2024-01-10 12:48:08,995] Trial 16 finished with value: 0.16598473917648252 and parameters: {'alpha': 0.5931561410262384, 'topK': 9973}. Best is trial 14 with value: 0.1688578073579293.\n"
     ]
    },
    {
     "name": "stdout",
     "output_type": "stream",
     "text": [
      "EvaluatorHoldout: Processed 10057 (100.0%) in 5.03 sec. Users per second: 1998\n",
      "EvaluatorHoldout: Processed 10040 (100.0%) in 6.15 sec. Users per second: 1632\n",
      "EvaluatorHoldout: Processed 10017 (100.0%) in 6.19 sec. Users per second: 1617\n",
      "EvaluatorHoldout: Processed 10037 (100.0%) in 5.90 sec. Users per second: 1700\n",
      "EvaluatorHoldout: Processed 9989 (100.0%) in 5.07 sec. Users per second: 1969\n",
      "EvaluatorHoldout: Processed 10024 (100.0%) in 6.00 sec. Users per second: 1671\n",
      "EvaluatorHoldout: Processed 10030 (100.0%) in 6.31 sec. Users per second: 1591\n",
      "EvaluatorHoldout: Processed 10052 (100.0%) in 6.28 sec. Users per second: 1601\n",
      "EvaluatorHoldout: Processed 10045 (100.0%) in 5.13 sec. Users per second: 1958\n",
      "EvaluatorHoldout: Processed 10068 (100.0%) in 6.52 sec. Users per second: 1545\n",
      "RECALL: 0.16863455420497772, MAP: 0.017739613366147027\n"
     ]
    },
    {
     "name": "stderr",
     "output_type": "stream",
     "text": [
      "[I 2024-01-10 12:50:37,320] Trial 17 finished with value: 0.16863455420497772 and parameters: {'alpha': 0.17013220777394905, 'topK': 8735}. Best is trial 14 with value: 0.1688578073579293.\n"
     ]
    },
    {
     "name": "stdout",
     "output_type": "stream",
     "text": [
      "EvaluatorHoldout: Processed 10057 (100.0%) in 7.19 sec. Users per second: 1398\n",
      "EvaluatorHoldout: Processed 10040 (100.0%) in 6.19 sec. Users per second: 1623\n",
      "EvaluatorHoldout: Processed 10017 (100.0%) in 8.51 sec. Users per second: 1178\n",
      "EvaluatorHoldout: Processed 10037 (100.0%) in 6.34 sec. Users per second: 1582\n",
      "EvaluatorHoldout: Processed 9989 (100.0%) in 8.65 sec. Users per second: 1155\n",
      "EvaluatorHoldout: Processed 10024 (100.0%) in 6.41 sec. Users per second: 1563\n",
      "EvaluatorHoldout: Processed 10030 (100.0%) in 5.86 sec. Users per second: 1712\n",
      "EvaluatorHoldout: Processed 10052 (100.0%) in 6.89 sec. Users per second: 1459\n",
      "EvaluatorHoldout: Processed 10045 (100.0%) in 8.20 sec. Users per second: 1224\n",
      "EvaluatorHoldout: Processed 10068 (100.0%) in 6.37 sec. Users per second: 1579\n",
      "RECALL: 0.16834857266980435, MAP: 0.017877610139959914\n"
     ]
    },
    {
     "name": "stderr",
     "output_type": "stream",
     "text": [
      "[I 2024-01-10 12:53:42,459] Trial 18 finished with value: 0.16834857266980435 and parameters: {'alpha': 0.33381854908208713, 'topK': 4314}. Best is trial 14 with value: 0.1688578073579293.\n"
     ]
    },
    {
     "name": "stdout",
     "output_type": "stream",
     "text": [
      "EvaluatorHoldout: Processed 10057 (100.0%) in 6.26 sec. Users per second: 1606\n",
      "EvaluatorHoldout: Processed 10040 (100.0%) in 7.21 sec. Users per second: 1393\n",
      "EvaluatorHoldout: Processed 10017 (100.0%) in 6.30 sec. Users per second: 1589\n",
      "EvaluatorHoldout: Processed 10037 (100.0%) in 6.20 sec. Users per second: 1619\n",
      "EvaluatorHoldout: Processed 9989 (100.0%) in 9.18 sec. Users per second: 1089\n",
      "EvaluatorHoldout: Processed 10024 (100.0%) in 8.59 sec. Users per second: 1167\n",
      "EvaluatorHoldout: Processed 10030 (100.0%) in 5.25 sec. Users per second: 1912\n",
      "EvaluatorHoldout: Processed 10052 (100.0%) in 6.19 sec. Users per second: 1625\n",
      "EvaluatorHoldout: Processed 10045 (100.0%) in 8.12 sec. Users per second: 1237\n",
      "EvaluatorHoldout: Processed 10068 (100.0%) in 8.72 sec. Users per second: 1154\n",
      "RECALL: 0.16642325595483692, MAP: 0.01727211561243252\n"
     ]
    },
    {
     "name": "stderr",
     "output_type": "stream",
     "text": [
      "[I 2024-01-10 12:56:56,480] Trial 19 finished with value: 0.16642325595483692 and parameters: {'alpha': 0.027573893181365272, 'topK': 6960}. Best is trial 14 with value: 0.1688578073579293.\n"
     ]
    },
    {
     "name": "stdout",
     "output_type": "stream",
     "text": [
      "EvaluatorHoldout: Processed 10057 (100.0%) in 7.40 sec. Users per second: 1360\n",
      "EvaluatorHoldout: Processed 10040 (100.0%) in 7.15 sec. Users per second: 1403\n",
      "EvaluatorHoldout: Processed 10017 (100.0%) in 8.60 sec. Users per second: 1164\n",
      "EvaluatorHoldout: Processed 10037 (100.0%) in 4.95 sec. Users per second: 2029\n",
      "EvaluatorHoldout: Processed 9989 (100.0%) in 6.96 sec. Users per second: 1436\n",
      "EvaluatorHoldout: Processed 10024 (100.0%) in 8.28 sec. Users per second: 1211\n",
      "EvaluatorHoldout: Processed 10030 (100.0%) in 8.34 sec. Users per second: 1202\n",
      "EvaluatorHoldout: Processed 10052 (100.0%) in 5.50 sec. Users per second: 1826\n",
      "EvaluatorHoldout: Processed 10045 (100.0%) in 8.43 sec. Users per second: 1192\n",
      "EvaluatorHoldout: Processed 10068 (100.0%) in 8.63 sec. Users per second: 1166\n",
      "RECALL: 0.16544527997763736, MAP: 0.01769442112630472\n"
     ]
    },
    {
     "name": "stderr",
     "output_type": "stream",
     "text": [
      "[I 2024-01-10 13:00:02,310] Trial 20 finished with value: 0.16544527997763736 and parameters: {'alpha': 0.6360758733878806, 'topK': 9008}. Best is trial 14 with value: 0.1688578073579293.\n"
     ]
    },
    {
     "name": "stdout",
     "output_type": "stream",
     "text": [
      "EvaluatorHoldout: Processed 10057 (100.0%) in 5.91 sec. Users per second: 1702\n",
      "EvaluatorHoldout: Processed 10040 (100.0%) in 9.54 sec. Users per second: 1053\n",
      "EvaluatorHoldout: Processed 10017 (100.0%) in 7.49 sec. Users per second: 1338\n",
      "EvaluatorHoldout: Processed 10037 (100.0%) in 7.44 sec. Users per second: 1349\n",
      "EvaluatorHoldout: Processed 9989 (100.0%) in 5.04 sec. Users per second: 1982\n",
      "EvaluatorHoldout: Processed 10024 (100.0%) in 6.09 sec. Users per second: 1646\n",
      "EvaluatorHoldout: Processed 10030 (100.0%) in 6.20 sec. Users per second: 1617\n",
      "EvaluatorHoldout: Processed 10052 (100.0%) in 6.47 sec. Users per second: 1554\n",
      "EvaluatorHoldout: Processed 10045 (100.0%) in 5.38 sec. Users per second: 1867\n",
      "EvaluatorHoldout: Processed 10068 (100.0%) in 6.68 sec. Users per second: 1507\n",
      "RECALL: 0.16892795724841386, MAP: 0.01783151745039136\n"
     ]
    },
    {
     "name": "stderr",
     "output_type": "stream",
     "text": [
      "[I 2024-01-10 13:02:48,147] Trial 21 finished with value: 0.16892795724841386 and parameters: {'alpha': 0.2312897980071662, 'topK': 8210}. Best is trial 21 with value: 0.16892795724841386.\n"
     ]
    },
    {
     "name": "stdout",
     "output_type": "stream",
     "text": [
      "EvaluatorHoldout: Processed 10057 (100.0%) in 6.32 sec. Users per second: 1592\n",
      "EvaluatorHoldout: Processed 10040 (100.0%) in 6.21 sec. Users per second: 1617\n",
      "EvaluatorHoldout: Processed 10017 (100.0%) in 6.15 sec. Users per second: 1630\n",
      "EvaluatorHoldout: Processed 10037 (100.0%) in 6.07 sec. Users per second: 1654\n",
      "EvaluatorHoldout: Processed 9989 (100.0%) in 5.58 sec. Users per second: 1791\n",
      "EvaluatorHoldout: Processed 10024 (100.0%) in 6.00 sec. Users per second: 1672\n",
      "EvaluatorHoldout: Processed 10030 (100.0%) in 6.27 sec. Users per second: 1600\n",
      "EvaluatorHoldout: Processed 10052 (100.0%) in 6.68 sec. Users per second: 1506\n",
      "EvaluatorHoldout: Processed 10045 (100.0%) in 5.56 sec. Users per second: 1808\n",
      "EvaluatorHoldout: Processed 10068 (100.0%) in 5.87 sec. Users per second: 1714\n",
      "RECALL: 0.16876683567515083, MAP: 0.017861264054658068\n"
     ]
    },
    {
     "name": "stderr",
     "output_type": "stream",
     "text": [
      "[I 2024-01-10 13:05:20,391] Trial 22 finished with value: 0.16876683567515083 and parameters: {'alpha': 0.2746020173176817, 'topK': 7724}. Best is trial 21 with value: 0.16892795724841386.\n"
     ]
    },
    {
     "name": "stdout",
     "output_type": "stream",
     "text": [
      "EvaluatorHoldout: Processed 10057 (100.0%) in 6.03 sec. Users per second: 1667\n",
      "EvaluatorHoldout: Processed 10040 (100.0%) in 5.80 sec. Users per second: 1730\n",
      "EvaluatorHoldout: Processed 10017 (100.0%) in 6.20 sec. Users per second: 1615\n",
      "EvaluatorHoldout: Processed 10037 (100.0%) in 6.20 sec. Users per second: 1619\n",
      "EvaluatorHoldout: Processed 9989 (100.0%) in 5.53 sec. Users per second: 1807\n",
      "EvaluatorHoldout: Processed 10024 (100.0%) in 5.87 sec. Users per second: 1708\n",
      "EvaluatorHoldout: Processed 10030 (100.0%) in 6.07 sec. Users per second: 1654\n",
      "EvaluatorHoldout: Processed 10052 (100.0%) in 6.44 sec. Users per second: 1562\n",
      "EvaluatorHoldout: Processed 10045 (100.0%) in 5.28 sec. Users per second: 1902\n",
      "EvaluatorHoldout: Processed 10068 (100.0%) in 5.20 sec. Users per second: 1937\n",
      "RECALL: 0.1680853109290293, MAP: 0.017576826236858842\n"
     ]
    },
    {
     "name": "stderr",
     "output_type": "stream",
     "text": [
      "[I 2024-01-10 13:07:48,465] Trial 23 finished with value: 0.1680853109290293 and parameters: {'alpha': 0.10668580871264412, 'topK': 7801}. Best is trial 21 with value: 0.16892795724841386.\n"
     ]
    },
    {
     "name": "stdout",
     "output_type": "stream",
     "text": [
      "EvaluatorHoldout: Processed 10057 (100.0%) in 5.99 sec. Users per second: 1680\n",
      "EvaluatorHoldout: Processed 10040 (100.0%) in 5.98 sec. Users per second: 1679\n",
      "EvaluatorHoldout: Processed 10017 (100.0%) in 5.88 sec. Users per second: 1703\n",
      "EvaluatorHoldout: Processed 10037 (100.0%) in 5.89 sec. Users per second: 1704\n",
      "EvaluatorHoldout: Processed 9989 (100.0%) in 5.94 sec. Users per second: 1682\n",
      "EvaluatorHoldout: Processed 10024 (100.0%) in 5.84 sec. Users per second: 1717\n",
      "EvaluatorHoldout: Processed 10030 (100.0%) in 5.15 sec. Users per second: 1948\n",
      "EvaluatorHoldout: Processed 10052 (100.0%) in 5.94 sec. Users per second: 1693\n",
      "EvaluatorHoldout: Processed 10045 (100.0%) in 6.28 sec. Users per second: 1600\n",
      "EvaluatorHoldout: Processed 10068 (100.0%) in 6.58 sec. Users per second: 1530\n",
      "RECALL: 0.16879131252302665, MAP: 0.01784401096759638\n"
     ]
    },
    {
     "name": "stderr",
     "output_type": "stream",
     "text": [
      "[I 2024-01-10 13:10:17,884] Trial 24 finished with value: 0.16879131252302665 and parameters: {'alpha': 0.2502274072173814, 'topK': 9161}. Best is trial 21 with value: 0.16892795724841386.\n"
     ]
    },
    {
     "name": "stdout",
     "output_type": "stream",
     "text": [
      "EvaluatorHoldout: Processed 10057 (100.0%) in 6.42 sec. Users per second: 1566\n",
      "EvaluatorHoldout: Processed 10040 (100.0%) in 6.18 sec. Users per second: 1625\n",
      "EvaluatorHoldout: Processed 10017 (100.0%) in 5.85 sec. Users per second: 1713\n",
      "EvaluatorHoldout: Processed 10037 (100.0%) in 5.84 sec. Users per second: 1720\n",
      "EvaluatorHoldout: Processed 9989 (100.0%) in 5.86 sec. Users per second: 1705\n",
      "EvaluatorHoldout: Processed 10024 (100.0%) in 6.11 sec. Users per second: 1640\n",
      "EvaluatorHoldout: Processed 10030 (100.0%) in 6.49 sec. Users per second: 1545\n",
      "EvaluatorHoldout: Processed 10052 (100.0%) in 5.97 sec. Users per second: 1684\n",
      "EvaluatorHoldout: Processed 10045 (100.0%) in 4.90 sec. Users per second: 2049\n",
      "EvaluatorHoldout: Processed 10068 (100.0%) in 6.52 sec. Users per second: 1544\n",
      "RECALL: 0.16808435147948214, MAP: 0.017876050733494363\n"
     ]
    },
    {
     "name": "stderr",
     "output_type": "stream",
     "text": [
      "[I 2024-01-10 13:12:46,546] Trial 25 finished with value: 0.16808435147948214 and parameters: {'alpha': 0.41808970720219507, 'topK': 9357}. Best is trial 21 with value: 0.16892795724841386.\n"
     ]
    },
    {
     "name": "stdout",
     "output_type": "stream",
     "text": [
      "EvaluatorHoldout: Processed 10057 (100.0%) in 6.25 sec. Users per second: 1610\n",
      "EvaluatorHoldout: Processed 10040 (100.0%) in 5.13 sec. Users per second: 1956\n",
      "EvaluatorHoldout: Processed 10017 (100.0%) in 6.23 sec. Users per second: 1609\n",
      "EvaluatorHoldout: Processed 10037 (100.0%) in 5.90 sec. Users per second: 1700\n",
      "EvaluatorHoldout: Processed 9989 (100.0%) in 6.53 sec. Users per second: 1530\n",
      "EvaluatorHoldout: Processed 10024 (100.0%) in 5.29 sec. Users per second: 1895\n",
      "EvaluatorHoldout: Processed 10030 (100.0%) in 6.51 sec. Users per second: 1541\n",
      "EvaluatorHoldout: Processed 10052 (100.0%) in 6.40 sec. Users per second: 1570\n",
      "EvaluatorHoldout: Processed 10045 (100.0%) in 5.85 sec. Users per second: 1717\n",
      "EvaluatorHoldout: Processed 10068 (100.0%) in 5.58 sec. Users per second: 1804\n",
      "RECALL: 0.16789180888270022, MAP: 0.017555143557806553\n"
     ]
    },
    {
     "name": "stderr",
     "output_type": "stream",
     "text": [
      "[I 2024-01-10 13:15:18,030] Trial 26 finished with value: 0.16789180888270022 and parameters: {'alpha': 0.09689216227442526, 'topK': 9107}. Best is trial 21 with value: 0.16892795724841386.\n"
     ]
    },
    {
     "name": "stdout",
     "output_type": "stream",
     "text": [
      "EvaluatorHoldout: Processed 10057 (100.0%) in 6.72 sec. Users per second: 1496\n",
      "EvaluatorHoldout: Processed 10040 (100.0%) in 7.10 sec. Users per second: 1414\n",
      "EvaluatorHoldout: Processed 10017 (100.0%) in 6.48 sec. Users per second: 1547\n",
      "EvaluatorHoldout: Processed 10037 (100.0%) in 5.65 sec. Users per second: 1775\n",
      "EvaluatorHoldout: Processed 9989 (100.0%) in 6.35 sec. Users per second: 1572\n",
      "EvaluatorHoldout: Processed 10024 (100.0%) in 6.43 sec. Users per second: 1559\n",
      "EvaluatorHoldout: Processed 10030 (100.0%) in 6.32 sec. Users per second: 1586\n",
      "EvaluatorHoldout: Processed 10052 (100.0%) in 5.67 sec. Users per second: 1773\n",
      "EvaluatorHoldout: Processed 10045 (100.0%) in 6.18 sec. Users per second: 1625\n",
      "EvaluatorHoldout: Processed 10068 (100.0%) in 6.09 sec. Users per second: 1653\n",
      "RECALL: 0.16880974106224175, MAP: 0.017840743530206198\n"
     ]
    },
    {
     "name": "stderr",
     "output_type": "stream",
     "text": [
      "[I 2024-01-10 13:17:54,779] Trial 27 finished with value: 0.16880974106224175 and parameters: {'alpha': 0.24795462066651677, 'topK': 8382}. Best is trial 21 with value: 0.16892795724841386.\n"
     ]
    },
    {
     "name": "stdout",
     "output_type": "stream",
     "text": [
      "EvaluatorHoldout: Processed 10057 (100.0%) in 5.21 sec. Users per second: 1930\n",
      "EvaluatorHoldout: Processed 10040 (100.0%) in 6.50 sec. Users per second: 1545\n",
      "EvaluatorHoldout: Processed 10017 (100.0%) in 6.17 sec. Users per second: 1624\n",
      "EvaluatorHoldout: Processed 10037 (100.0%) in 6.05 sec. Users per second: 1658\n",
      "EvaluatorHoldout: Processed 9989 (100.0%) in 5.43 sec. Users per second: 1839\n",
      "EvaluatorHoldout: Processed 10024 (100.0%) in 6.32 sec. Users per second: 1586\n",
      "EvaluatorHoldout: Processed 10030 (100.0%) in 6.02 sec. Users per second: 1666\n",
      "EvaluatorHoldout: Processed 10052 (100.0%) in 6.64 sec. Users per second: 1514\n",
      "EvaluatorHoldout: Processed 10045 (100.0%) in 5.45 sec. Users per second: 1842\n",
      "EvaluatorHoldout: Processed 10068 (100.0%) in 4.99 sec. Users per second: 2018\n",
      "RECALL: 0.16812660078453082, MAP: 0.01788318159525566\n"
     ]
    },
    {
     "name": "stderr",
     "output_type": "stream",
     "text": [
      "[I 2024-01-10 13:20:23,725] Trial 28 finished with value: 0.16812660078453082 and parameters: {'alpha': 0.39550397193294884, 'topK': 8106}. Best is trial 21 with value: 0.16892795724841386.\n"
     ]
    },
    {
     "name": "stdout",
     "output_type": "stream",
     "text": [
      "EvaluatorHoldout: Processed 10057 (100.0%) in 6.03 sec. Users per second: 1667\n",
      "EvaluatorHoldout: Processed 10040 (100.0%) in 6.16 sec. Users per second: 1631\n",
      "EvaluatorHoldout: Processed 10017 (100.0%) in 6.40 sec. Users per second: 1564\n",
      "EvaluatorHoldout: Processed 10037 (100.0%) in 5.31 sec. Users per second: 1889\n",
      "EvaluatorHoldout: Processed 9989 (100.0%) in 6.33 sec. Users per second: 1577\n",
      "EvaluatorHoldout: Processed 10024 (100.0%) in 6.44 sec. Users per second: 1556\n",
      "EvaluatorHoldout: Processed 10030 (100.0%) in 6.35 sec. Users per second: 1579\n",
      "EvaluatorHoldout: Processed 10052 (100.0%) in 5.32 sec. Users per second: 1889\n",
      "EvaluatorHoldout: Processed 10045 (100.0%) in 6.18 sec. Users per second: 1626\n",
      "EvaluatorHoldout: Processed 10068 (100.0%) in 6.21 sec. Users per second: 1621\n",
      "RECALL: 0.16867042412740108, MAP: 0.017789160331349068\n"
     ]
    },
    {
     "name": "stderr",
     "output_type": "stream",
     "text": [
      "[I 2024-01-10 13:22:57,228] Trial 29 finished with value: 0.16867042412740108 and parameters: {'alpha': 0.19649136465677786, 'topK': 7177}. Best is trial 21 with value: 0.16892795724841386.\n"
     ]
    },
    {
     "name": "stdout",
     "output_type": "stream",
     "text": [
      "EvaluatorHoldout: Processed 10057 (100.0%) in 5.70 sec. Users per second: 1764\n",
      "EvaluatorHoldout: Processed 10040 (100.0%) in 6.24 sec. Users per second: 1610\n",
      "EvaluatorHoldout: Processed 10017 (100.0%) in 5.96 sec. Users per second: 1680\n",
      "EvaluatorHoldout: Processed 10037 (100.0%) in 6.59 sec. Users per second: 1523\n",
      "EvaluatorHoldout: Processed 9989 (100.0%) in 6.05 sec. Users per second: 1652\n",
      "EvaluatorHoldout: Processed 10024 (100.0%) in 5.42 sec. Users per second: 1850\n",
      "EvaluatorHoldout: Processed 10030 (100.0%) in 6.34 sec. Users per second: 1583\n",
      "EvaluatorHoldout: Processed 10052 (100.0%) in 6.37 sec. Users per second: 1578\n",
      "EvaluatorHoldout: Processed 10045 (100.0%) in 6.05 sec. Users per second: 1659\n",
      "EvaluatorHoldout: Processed 10068 (100.0%) in 5.24 sec. Users per second: 1923\n",
      "RECALL: 0.1664822582652697, MAP: 0.01775337774581691\n"
     ]
    },
    {
     "name": "stderr",
     "output_type": "stream",
     "text": [
      "[I 2024-01-10 13:25:26,669] Trial 30 finished with value: 0.1664822582652697 and parameters: {'alpha': 0.5672483526333172, 'topK': 6025}. Best is trial 21 with value: 0.16892795724841386.\n"
     ]
    },
    {
     "name": "stdout",
     "output_type": "stream",
     "text": [
      "EvaluatorHoldout: Processed 10057 (100.0%) in 5.93 sec. Users per second: 1695\n",
      "EvaluatorHoldout: Processed 10040 (100.0%) in 6.28 sec. Users per second: 1598\n",
      "EvaluatorHoldout: Processed 10017 (100.0%) in 5.31 sec. Users per second: 1885\n",
      "EvaluatorHoldout: Processed 10037 (100.0%) in 6.14 sec. Users per second: 1634\n",
      "EvaluatorHoldout: Processed 9989 (100.0%) in 6.46 sec. Users per second: 1547\n",
      "EvaluatorHoldout: Processed 10024 (100.0%) in 6.35 sec. Users per second: 1578\n",
      "EvaluatorHoldout: Processed 10030 (100.0%) in 5.55 sec. Users per second: 1808\n",
      "EvaluatorHoldout: Processed 10052 (100.0%) in 6.31 sec. Users per second: 1593\n",
      "EvaluatorHoldout: Processed 10045 (100.0%) in 6.12 sec. Users per second: 1642\n",
      "EvaluatorHoldout: Processed 10068 (100.0%) in 6.13 sec. Users per second: 1642\n",
      "RECALL: 0.16878262056761734, MAP: 0.017840132691321876\n"
     ]
    },
    {
     "name": "stderr",
     "output_type": "stream",
     "text": [
      "[I 2024-01-10 13:27:59,238] Trial 31 finished with value: 0.16878262056761734 and parameters: {'alpha': 0.24878968223432474, 'topK': 9475}. Best is trial 21 with value: 0.16892795724841386.\n"
     ]
    },
    {
     "name": "stdout",
     "output_type": "stream",
     "text": [
      "EvaluatorHoldout: Processed 10057 (100.0%) in 5.02 sec. Users per second: 2002\n",
      "EvaluatorHoldout: Processed 10040 (100.0%) in 6.35 sec. Users per second: 1580\n",
      "EvaluatorHoldout: Processed 10017 (100.0%) in 6.29 sec. Users per second: 1593\n",
      "EvaluatorHoldout: Processed 10037 (100.0%) in 6.43 sec. Users per second: 1560\n",
      "EvaluatorHoldout: Processed 9989 (100.0%) in 5.02 sec. Users per second: 1991\n",
      "EvaluatorHoldout: Processed 10024 (100.0%) in 6.24 sec. Users per second: 1605\n",
      "EvaluatorHoldout: Processed 10030 (100.0%) in 5.75 sec. Users per second: 1746\n",
      "EvaluatorHoldout: Processed 10052 (100.0%) in 6.50 sec. Users per second: 1545\n",
      "EvaluatorHoldout: Processed 10045 (100.0%) in 5.37 sec. Users per second: 1870\n",
      "EvaluatorHoldout: Processed 10068 (100.0%) in 5.22 sec. Users per second: 1929\n",
      "RECALL: 0.16830389471436974, MAP: 0.017645151336584692\n"
     ]
    },
    {
     "name": "stderr",
     "output_type": "stream",
     "text": [
      "[I 2024-01-10 13:30:27,438] Trial 32 finished with value: 0.16830389471436974 and parameters: {'alpha': 0.12925928879332194, 'topK': 8472}. Best is trial 21 with value: 0.16892795724841386.\n"
     ]
    },
    {
     "name": "stdout",
     "output_type": "stream",
     "text": [
      "EvaluatorHoldout: Processed 10057 (100.0%) in 6.08 sec. Users per second: 1654\n",
      "EvaluatorHoldout: Processed 10040 (100.0%) in 6.14 sec. Users per second: 1635\n",
      "EvaluatorHoldout: Processed 10017 (100.0%) in 5.42 sec. Users per second: 1848\n",
      "EvaluatorHoldout: Processed 10037 (100.0%) in 6.31 sec. Users per second: 1590\n",
      "EvaluatorHoldout: Processed 9989 (100.0%) in 6.48 sec. Users per second: 1541\n",
      "EvaluatorHoldout: Processed 10024 (100.0%) in 6.10 sec. Users per second: 1642\n",
      "EvaluatorHoldout: Processed 10030 (100.0%) in 4.85 sec. Users per second: 2068\n",
      "EvaluatorHoldout: Processed 10052 (100.0%) in 6.02 sec. Users per second: 1669\n",
      "EvaluatorHoldout: Processed 10045 (100.0%) in 6.42 sec. Users per second: 1566\n",
      "EvaluatorHoldout: Processed 10068 (100.0%) in 6.49 sec. Users per second: 1550\n",
      "RECALL: 0.1683315762371445, MAP: 0.017877852460997826\n"
     ]
    },
    {
     "name": "stderr",
     "output_type": "stream",
     "text": [
      "[I 2024-01-10 13:32:59,529] Trial 33 finished with value: 0.1683315762371445 and parameters: {'alpha': 0.33570006644737427, 'topK': 9684}. Best is trial 21 with value: 0.16892795724841386.\n"
     ]
    },
    {
     "name": "stdout",
     "output_type": "stream",
     "text": [
      "EvaluatorHoldout: Processed 10057 (100.0%) in 6.24 sec. Users per second: 1612\n",
      "EvaluatorHoldout: Processed 10040 (100.0%) in 5.76 sec. Users per second: 1742\n",
      "EvaluatorHoldout: Processed 10017 (100.0%) in 6.45 sec. Users per second: 1552\n",
      "EvaluatorHoldout: Processed 10037 (100.0%) in 5.33 sec. Users per second: 1883\n",
      "EvaluatorHoldout: Processed 9989 (100.0%) in 6.52 sec. Users per second: 1531\n",
      "EvaluatorHoldout: Processed 10024 (100.0%) in 6.42 sec. Users per second: 1562\n",
      "EvaluatorHoldout: Processed 10030 (100.0%) in 6.08 sec. Users per second: 1651\n",
      "EvaluatorHoldout: Processed 10052 (100.0%) in 4.79 sec. Users per second: 2099\n",
      "EvaluatorHoldout: Processed 10045 (100.0%) in 6.20 sec. Users per second: 1620\n",
      "EvaluatorHoldout: Processed 10068 (100.0%) in 6.22 sec. Users per second: 1619\n",
      "RECALL: 0.1688430028072949, MAP: 0.017837701302639744\n"
     ]
    },
    {
     "name": "stderr",
     "output_type": "stream",
     "text": [
      "[I 2024-01-10 13:35:29,256] Trial 34 finished with value: 0.1688430028072949 and parameters: {'alpha': 0.23715405830499023, 'topK': 4804}. Best is trial 21 with value: 0.16892795724841386.\n"
     ]
    },
    {
     "name": "stdout",
     "output_type": "stream",
     "text": [
      "EvaluatorHoldout: Processed 10057 (100.0%) in 5.25 sec. Users per second: 1917\n",
      "EvaluatorHoldout: Processed 10040 (100.0%) in 6.31 sec. Users per second: 1591\n",
      "EvaluatorHoldout: Processed 10017 (100.0%) in 5.61 sec. Users per second: 1786\n",
      "EvaluatorHoldout: Processed 10037 (100.0%) in 6.36 sec. Users per second: 1577\n",
      "EvaluatorHoldout: Processed 9989 (100.0%) in 5.43 sec. Users per second: 1841\n",
      "EvaluatorHoldout: Processed 10024 (100.0%) in 6.15 sec. Users per second: 1630\n",
      "EvaluatorHoldout: Processed 10030 (100.0%) in 6.26 sec. Users per second: 1603\n",
      "EvaluatorHoldout: Processed 10052 (100.0%) in 6.50 sec. Users per second: 1546\n",
      "EvaluatorHoldout: Processed 10045 (100.0%) in 4.62 sec. Users per second: 2176\n",
      "EvaluatorHoldout: Processed 10068 (100.0%) in 6.46 sec. Users per second: 1559\n",
      "RECALL: 0.1673011252833264, MAP: 0.01783185930662437\n"
     ]
    },
    {
     "name": "stderr",
     "output_type": "stream",
     "text": [
      "[I 2024-01-10 13:37:58,152] Trial 35 finished with value: 0.1673011252833264 and parameters: {'alpha': 0.48965428280224377, 'topK': 5064}. Best is trial 21 with value: 0.16892795724841386.\n"
     ]
    },
    {
     "name": "stdout",
     "output_type": "stream",
     "text": [
      "EvaluatorHoldout: Processed 10057 (100.0%) in 6.47 sec. Users per second: 1556\n",
      "EvaluatorHoldout: Processed 10040 (100.0%) in 5.42 sec. Users per second: 1851\n",
      "EvaluatorHoldout: Processed 10017 (100.0%) in 6.21 sec. Users per second: 1614\n",
      "EvaluatorHoldout: Processed 10037 (100.0%) in 5.95 sec. Users per second: 1688\n",
      "EvaluatorHoldout: Processed 9989 (100.0%) in 6.09 sec. Users per second: 1639\n",
      "EvaluatorHoldout: Processed 10024 (100.0%) in 5.22 sec. Users per second: 1919\n",
      "EvaluatorHoldout: Processed 10030 (100.0%) in 5.00 sec. Users per second: 2004\n",
      "EvaluatorHoldout: Processed 10052 (100.0%) in 6.42 sec. Users per second: 1565\n",
      "EvaluatorHoldout: Processed 10045 (100.0%) in 6.27 sec. Users per second: 1603\n",
      "EvaluatorHoldout: Processed 10068 (100.0%) in 6.28 sec. Users per second: 1603\n",
      "RECALL: 0.1668933183139124, MAP: 0.017358683751787164\n"
     ]
    },
    {
     "name": "stderr",
     "output_type": "stream",
     "text": [
      "[I 2024-01-10 13:40:23,301] Trial 36 finished with value: 0.1668933183139124 and parameters: {'alpha': 0.04472304966534707, 'topK': 4178}. Best is trial 21 with value: 0.16892795724841386.\n"
     ]
    },
    {
     "name": "stdout",
     "output_type": "stream",
     "text": [
      "EvaluatorHoldout: Processed 10057 (100.0%) in 5.36 sec. Users per second: 1878\n",
      "EvaluatorHoldout: Processed 10040 (100.0%) in 6.33 sec. Users per second: 1586\n",
      "EvaluatorHoldout: Processed 10017 (100.0%) in 6.36 sec. Users per second: 1576\n",
      "EvaluatorHoldout: Processed 10037 (100.0%) in 6.21 sec. Users per second: 1616\n",
      "EvaluatorHoldout: Processed 9989 (100.0%) in 6.06 sec. Users per second: 1649\n",
      "EvaluatorHoldout: Processed 10024 (100.0%) in 5.11 sec. Users per second: 1962\n",
      "EvaluatorHoldout: Processed 10030 (100.0%) in 6.10 sec. Users per second: 1644\n",
      "EvaluatorHoldout: Processed 10052 (100.0%) in 6.08 sec. Users per second: 1653\n",
      "EvaluatorHoldout: Processed 10045 (100.0%) in 6.05 sec. Users per second: 1659\n",
      "EvaluatorHoldout: Processed 10068 (100.0%) in 6.47 sec. Users per second: 1556\n",
      "RECALL: 0.1683531093652922, MAP: 0.01787714109338499\n"
     ]
    },
    {
     "name": "stderr",
     "output_type": "stream",
     "text": [
      "[I 2024-01-10 13:42:53,823] Trial 37 finished with value: 0.1683531093652922 and parameters: {'alpha': 0.3531901650465272, 'topK': 3610}. Best is trial 21 with value: 0.16892795724841386.\n"
     ]
    },
    {
     "name": "stdout",
     "output_type": "stream",
     "text": [
      "EvaluatorHoldout: Processed 10057 (100.0%) in 6.08 sec. Users per second: 1654\n",
      "EvaluatorHoldout: Processed 10040 (100.0%) in 5.69 sec. Users per second: 1766\n",
      "EvaluatorHoldout: Processed 10017 (100.0%) in 6.24 sec. Users per second: 1606\n",
      "EvaluatorHoldout: Processed 10037 (100.0%) in 6.41 sec. Users per second: 1566\n",
      "EvaluatorHoldout: Processed 9989 (100.0%) in 5.94 sec. Users per second: 1681\n",
      "EvaluatorHoldout: Processed 10024 (100.0%) in 6.20 sec. Users per second: 1617\n",
      "EvaluatorHoldout: Processed 10030 (100.0%) in 5.12 sec. Users per second: 1960\n",
      "EvaluatorHoldout: Processed 10052 (100.0%) in 6.19 sec. Users per second: 1623\n",
      "EvaluatorHoldout: Processed 10045 (100.0%) in 6.38 sec. Users per second: 1574\n",
      "EvaluatorHoldout: Processed 10068 (100.0%) in 4.98 sec. Users per second: 2022\n",
      "RECALL: 0.16854531819933155, MAP: 0.017713759260057263\n"
     ]
    },
    {
     "name": "stderr",
     "output_type": "stream",
     "text": [
      "[I 2024-01-10 13:45:22,921] Trial 38 finished with value: 0.16854531819933155 and parameters: {'alpha': 0.15446784963457957, 'topK': 4841}. Best is trial 21 with value: 0.16892795724841386.\n"
     ]
    },
    {
     "name": "stdout",
     "output_type": "stream",
     "text": [
      "EvaluatorHoldout: Processed 10057 (100.0%) in 6.10 sec. Users per second: 1650\n",
      "EvaluatorHoldout: Processed 10040 (100.0%) in 6.05 sec. Users per second: 1660\n",
      "EvaluatorHoldout: Processed 10017 (100.0%) in 6.04 sec. Users per second: 1659\n",
      "EvaluatorHoldout: Processed 10037 (100.0%) in 6.18 sec. Users per second: 1623\n",
      "EvaluatorHoldout: Processed 9989 (100.0%) in 5.31 sec. Users per second: 1880\n",
      "EvaluatorHoldout: Processed 10024 (100.0%) in 6.19 sec. Users per second: 1618\n",
      "EvaluatorHoldout: Processed 10030 (100.0%) in 6.18 sec. Users per second: 1624\n",
      "EvaluatorHoldout: Processed 10052 (100.0%) in 6.03 sec. Users per second: 1666\n",
      "EvaluatorHoldout: Processed 10045 (100.0%) in 5.91 sec. Users per second: 1699\n",
      "EvaluatorHoldout: Processed 10068 (100.0%) in 6.04 sec. Users per second: 1666\n",
      "RECALL: 0.16169935410037883, MAP: 0.017327161471866862\n"
     ]
    },
    {
     "name": "stderr",
     "output_type": "stream",
     "text": [
      "[I 2024-01-10 13:47:54,168] Trial 39 finished with value: 0.16169935410037883 and parameters: {'alpha': 0.943814566804778, 'topK': 5662}. Best is trial 21 with value: 0.16892795724841386.\n"
     ]
    },
    {
     "name": "stdout",
     "output_type": "stream",
     "text": [
      "EvaluatorHoldout: Processed 10057 (100.0%) in 5.89 sec. Users per second: 1708\n",
      "EvaluatorHoldout: Processed 10040 (100.0%) in 5.37 sec. Users per second: 1871\n",
      "EvaluatorHoldout: Processed 10017 (100.0%) in 6.19 sec. Users per second: 1617\n",
      "EvaluatorHoldout: Processed 10037 (100.0%) in 5.99 sec. Users per second: 1676\n",
      "EvaluatorHoldout: Processed 9989 (100.0%) in 5.87 sec. Users per second: 1703\n",
      "EvaluatorHoldout: Processed 10024 (100.0%) in 6.19 sec. Users per second: 1620\n",
      "EvaluatorHoldout: Processed 10030 (100.0%) in 5.77 sec. Users per second: 1739\n",
      "EvaluatorHoldout: Processed 10052 (100.0%) in 6.24 sec. Users per second: 1611\n",
      "EvaluatorHoldout: Processed 10045 (100.0%) in 6.24 sec. Users per second: 1610\n",
      "EvaluatorHoldout: Processed 10068 (100.0%) in 5.11 sec. Users per second: 1970\n",
      "RECALL: 0.16875834835460324, MAP: 0.017852273181182047\n"
     ]
    },
    {
     "name": "stderr",
     "output_type": "stream",
     "text": [
      "[I 2024-01-10 13:50:23,908] Trial 40 finished with value: 0.16875834835460324 and parameters: {'alpha': 0.23867088840171471, 'topK': 2490}. Best is trial 21 with value: 0.16892795724841386.\n"
     ]
    },
    {
     "name": "stdout",
     "output_type": "stream",
     "text": [
      "EvaluatorHoldout: Processed 10057 (100.0%) in 6.27 sec. Users per second: 1605\n",
      "EvaluatorHoldout: Processed 10040 (100.0%) in 5.36 sec. Users per second: 1874\n",
      "EvaluatorHoldout: Processed 10017 (100.0%) in 6.45 sec. Users per second: 1553\n",
      "EvaluatorHoldout: Processed 10037 (100.0%) in 6.23 sec. Users per second: 1612\n",
      "EvaluatorHoldout: Processed 9989 (100.0%) in 5.12 sec. Users per second: 1950\n",
      "EvaluatorHoldout: Processed 10024 (100.0%) in 5.38 sec. Users per second: 1865\n",
      "EvaluatorHoldout: Processed 10030 (100.0%) in 5.48 sec. Users per second: 1829\n",
      "EvaluatorHoldout: Processed 10052 (100.0%) in 5.76 sec. Users per second: 1745\n",
      "EvaluatorHoldout: Processed 10045 (100.0%) in 6.29 sec. Users per second: 1598\n",
      "EvaluatorHoldout: Processed 10068 (100.0%) in 6.53 sec. Users per second: 1541\n",
      "RECALL: 0.1688655128958429, MAP: 0.01781982713815041\n"
     ]
    },
    {
     "name": "stderr",
     "output_type": "stream",
     "text": [
      "[I 2024-01-10 13:52:50,372] Trial 41 finished with value: 0.1688655128958429 and parameters: {'alpha': 0.2212817763119817, 'topK': 8523}. Best is trial 21 with value: 0.16892795724841386.\n"
     ]
    },
    {
     "name": "stdout",
     "output_type": "stream",
     "text": [
      "EvaluatorHoldout: Processed 10057 (100.0%) in 5.50 sec. Users per second: 1830\n",
      "EvaluatorHoldout: Processed 10040 (100.0%) in 5.78 sec. Users per second: 1738\n",
      "EvaluatorHoldout: Processed 10017 (100.0%) in 6.19 sec. Users per second: 1619\n",
      "EvaluatorHoldout: Processed 10037 (100.0%) in 6.49 sec. Users per second: 1546\n",
      "EvaluatorHoldout: Processed 9989 (100.0%) in 6.56 sec. Users per second: 1524\n",
      "EvaluatorHoldout: Processed 10024 (100.0%) in 6.40 sec. Users per second: 1567\n",
      "EvaluatorHoldout: Processed 10030 (100.0%) in 4.94 sec. Users per second: 2031\n",
      "EvaluatorHoldout: Processed 10052 (100.0%) in 5.13 sec. Users per second: 1961\n",
      "EvaluatorHoldout: Processed 10045 (100.0%) in 6.11 sec. Users per second: 1645\n",
      "EvaluatorHoldout: Processed 10068 (100.0%) in 6.34 sec. Users per second: 1587\n",
      "RECALL: 0.16854210471698863, MAP: 0.01786461011842785\n"
     ]
    },
    {
     "name": "stderr",
     "output_type": "stream",
     "text": [
      "[I 2024-01-10 13:55:19,144] Trial 42 finished with value: 0.16854210471698863 and parameters: {'alpha': 0.30587700249098526, 'topK': 8235}. Best is trial 21 with value: 0.16892795724841386.\n"
     ]
    },
    {
     "name": "stdout",
     "output_type": "stream",
     "text": [
      "EvaluatorHoldout: Processed 10057 (100.0%) in 5.77 sec. Users per second: 1742\n",
      "EvaluatorHoldout: Processed 10040 (100.0%) in 6.51 sec. Users per second: 1543\n",
      "EvaluatorHoldout: Processed 10017 (100.0%) in 5.91 sec. Users per second: 1695\n",
      "EvaluatorHoldout: Processed 10037 (100.0%) in 5.80 sec. Users per second: 1731\n",
      "EvaluatorHoldout: Processed 9989 (100.0%) in 5.61 sec. Users per second: 1781\n",
      "EvaluatorHoldout: Processed 10024 (100.0%) in 6.21 sec. Users per second: 1613\n",
      "EvaluatorHoldout: Processed 10030 (100.0%) in 6.43 sec. Users per second: 1559\n",
      "EvaluatorHoldout: Processed 10052 (100.0%) in 6.14 sec. Users per second: 1637\n",
      "EvaluatorHoldout: Processed 10045 (100.0%) in 5.08 sec. Users per second: 1977\n",
      "EvaluatorHoldout: Processed 10068 (100.0%) in 6.27 sec. Users per second: 1605\n",
      "RECALL: 0.1682149426435275, MAP: 0.017882627895096113\n"
     ]
    },
    {
     "name": "stderr",
     "output_type": "stream",
     "text": [
      "[I 2024-01-10 13:57:49,740] Trial 43 finished with value: 0.1682149426435275 and parameters: {'alpha': 0.3806178811278927, 'topK': 7628}. Best is trial 21 with value: 0.16892795724841386.\n"
     ]
    },
    {
     "name": "stdout",
     "output_type": "stream",
     "text": [
      "EvaluatorHoldout: Processed 10057 (100.0%) in 6.36 sec. Users per second: 1581\n",
      "EvaluatorHoldout: Processed 10040 (100.0%) in 5.76 sec. Users per second: 1743\n",
      "EvaluatorHoldout: Processed 10017 (100.0%) in 5.27 sec. Users per second: 1902\n",
      "EvaluatorHoldout: Processed 10037 (100.0%) in 5.94 sec. Users per second: 1689\n",
      "EvaluatorHoldout: Processed 9989 (100.0%) in 6.01 sec. Users per second: 1663\n",
      "EvaluatorHoldout: Processed 10024 (100.0%) in 6.38 sec. Users per second: 1571\n",
      "EvaluatorHoldout: Processed 10030 (100.0%) in 6.14 sec. Users per second: 1635\n",
      "EvaluatorHoldout: Processed 10052 (100.0%) in 5.75 sec. Users per second: 1749\n",
      "EvaluatorHoldout: Processed 10045 (100.0%) in 5.86 sec. Users per second: 1713\n",
      "EvaluatorHoldout: Processed 10068 (100.0%) in 6.26 sec. Users per second: 1607\n",
      "RECALL: 0.16741325667950765, MAP: 0.017456105690876182\n"
     ]
    },
    {
     "name": "stderr",
     "output_type": "stream",
     "text": [
      "[I 2024-01-10 14:00:19,393] Trial 44 finished with value: 0.16741325667950765 and parameters: {'alpha': 0.06930021290496968, 'topK': 5020}. Best is trial 21 with value: 0.16892795724841386.\n"
     ]
    },
    {
     "name": "stdout",
     "output_type": "stream",
     "text": [
      "EvaluatorHoldout: Processed 10057 (100.0%) in 6.18 sec. Users per second: 1628\n",
      "EvaluatorHoldout: Processed 10040 (100.0%) in 5.10 sec. Users per second: 1970\n",
      "EvaluatorHoldout: Processed 10017 (100.0%) in 5.22 sec. Users per second: 1918\n",
      "EvaluatorHoldout: Processed 10037 (100.0%) in 6.44 sec. Users per second: 1558\n",
      "EvaluatorHoldout: Processed 9989 (100.0%) in 6.54 sec. Users per second: 1528\n",
      "EvaluatorHoldout: Processed 10024 (100.0%) in 5.71 sec. Users per second: 1755\n",
      "EvaluatorHoldout: Processed 10030 (100.0%) in 5.15 sec. Users per second: 1949\n",
      "EvaluatorHoldout: Processed 10052 (100.0%) in 6.53 sec. Users per second: 1538\n",
      "EvaluatorHoldout: Processed 10045 (100.0%) in 6.72 sec. Users per second: 1495\n",
      "EvaluatorHoldout: Processed 10068 (100.0%) in 6.57 sec. Users per second: 1532\n",
      "RECALL: 0.1688640923010624, MAP: 0.01781888190134196\n"
     ]
    },
    {
     "name": "stderr",
     "output_type": "stream",
     "text": [
      "[I 2024-01-10 14:02:50,523] Trial 45 finished with value: 0.1688640923010624 and parameters: {'alpha': 0.22044117785332357, 'topK': 8684}. Best is trial 21 with value: 0.16892795724841386.\n"
     ]
    },
    {
     "name": "stdout",
     "output_type": "stream",
     "text": [
      "EvaluatorHoldout: Processed 10057 (100.0%) in 5.58 sec. Users per second: 1803\n",
      "EvaluatorHoldout: Processed 10040 (100.0%) in 6.23 sec. Users per second: 1611\n",
      "EvaluatorHoldout: Processed 10017 (100.0%) in 6.31 sec. Users per second: 1587\n",
      "EvaluatorHoldout: Processed 10037 (100.0%) in 6.44 sec. Users per second: 1560\n",
      "EvaluatorHoldout: Processed 9989 (100.0%) in 5.58 sec. Users per second: 1790\n",
      "EvaluatorHoldout: Processed 10024 (100.0%) in 6.68 sec. Users per second: 1501\n",
      "EvaluatorHoldout: Processed 10030 (100.0%) in 6.01 sec. Users per second: 1670\n",
      "EvaluatorHoldout: Processed 10052 (100.0%) in 6.44 sec. Users per second: 1561\n",
      "EvaluatorHoldout: Processed 10045 (100.0%) in 5.31 sec. Users per second: 1893\n",
      "EvaluatorHoldout: Processed 10068 (100.0%) in 6.85 sec. Users per second: 1470\n",
      "RECALL: 0.16864995223345589, MAP: 0.01778480543699833\n"
     ]
    },
    {
     "name": "stderr",
     "output_type": "stream",
     "text": [
      "[I 2024-01-10 14:05:22,047] Trial 46 finished with value: 0.16864995223345589 and parameters: {'alpha': 0.19428516406003235, 'topK': 6089}. Best is trial 21 with value: 0.16892795724841386.\n"
     ]
    },
    {
     "name": "stdout",
     "output_type": "stream",
     "text": [
      "EvaluatorHoldout: Processed 10057 (100.0%) in 6.59 sec. Users per second: 1527\n",
      "EvaluatorHoldout: Processed 10040 (100.0%) in 5.20 sec. Users per second: 1931\n",
      "EvaluatorHoldout: Processed 10017 (100.0%) in 6.02 sec. Users per second: 1665\n",
      "EvaluatorHoldout: Processed 10037 (100.0%) in 6.62 sec. Users per second: 1515\n",
      "EvaluatorHoldout: Processed 9989 (100.0%) in 6.42 sec. Users per second: 1557\n",
      "EvaluatorHoldout: Processed 10024 (100.0%) in 6.17 sec. Users per second: 1624\n",
      "EvaluatorHoldout: Processed 10030 (100.0%) in 5.82 sec. Users per second: 1724\n",
      "EvaluatorHoldout: Processed 10052 (100.0%) in 6.42 sec. Users per second: 1567\n",
      "EvaluatorHoldout: Processed 10045 (100.0%) in 5.65 sec. Users per second: 1777\n",
      "EvaluatorHoldout: Processed 10068 (100.0%) in 6.83 sec. Users per second: 1475\n",
      "RECALL: 0.16854157672050765, MAP: 0.017866550993223585\n"
     ]
    },
    {
     "name": "stderr",
     "output_type": "stream",
     "text": [
      "[I 2024-01-10 14:07:55,488] Trial 47 finished with value: 0.16854157672050765 and parameters: {'alpha': 0.31017738096582115, 'topK': 8803}. Best is trial 21 with value: 0.16892795724841386.\n"
     ]
    },
    {
     "name": "stdout",
     "output_type": "stream",
     "text": [
      "EvaluatorHoldout: Processed 10057 (100.0%) in 6.51 sec. Users per second: 1545\n",
      "EvaluatorHoldout: Processed 10040 (100.0%) in 6.43 sec. Users per second: 1561\n",
      "EvaluatorHoldout: Processed 10017 (100.0%) in 6.54 sec. Users per second: 1531\n"
     ]
    },
    {
     "name": "stderr",
     "output_type": "stream",
     "text": [
      "[W 2024-01-10 14:08:49,689] Trial 48 failed with parameters: {'alpha': 0.764790961177337, 'topK': 9982} because of the following error: KeyboardInterrupt().\n",
      "Traceback (most recent call last):\n",
      "  File \"/home/japo/miniconda3/envs/RecSysFramework/lib/python3.8/site-packages/optuna/study/_optimize.py\", line 200, in _run_trial\n",
      "    value_or_values = func(trial)\n",
      "  File \"/tmp/ipykernel_409090/760514268.py\", line 12, in objective\n",
      "    recommender.fit(**params)\n",
      "  File \"/home/japo/RecSys-Challenge/Recommenders/KNN/ItemKNNSimilarityHybridRecommender.py\", line 43, in fit\n",
      "    self.W_sparse = similarityMatrixTopK(W_sparse, k=self.topK)\n",
      "  File \"/home/japo/RecSys-Challenge/Recommenders/Recommender_utils.py\", line 121, in similarityMatrixTopK\n",
      "    similarity_builder.add_data_lists(row_list_to_add = column_row_index,\n",
      "  File \"/home/japo/RecSys-Challenge/Recommenders/Similarity/Compute_Similarity_Python.py\", line 54, in add_data_lists\n",
      "    self._data_array[self._next_cell_pointer] = data_list_to_add[data_point_index]\n",
      "KeyboardInterrupt\n",
      "[W 2024-01-10 14:08:49,690] Trial 48 failed with value None.\n"
     ]
    },
    {
     "ename": "KeyboardInterrupt",
     "evalue": "",
     "output_type": "error",
     "traceback": [
      "\u001b[0;31m---------------------------------------------------------------------------\u001b[0m",
      "\u001b[0;31mKeyboardInterrupt\u001b[0m                         Traceback (most recent call last)",
      "Cell \u001b[0;32mIn[26], line 1\u001b[0m\n\u001b[0;32m----> 1\u001b[0m \u001b[43mstudy\u001b[49m\u001b[38;5;241;43m.\u001b[39;49m\u001b[43moptimize\u001b[49m\u001b[43m(\u001b[49m\u001b[43mobjective\u001b[49m\u001b[43m,\u001b[49m\u001b[43m \u001b[49m\u001b[43mn_trials\u001b[49m\u001b[38;5;241;43m=\u001b[39;49m\u001b[38;5;241;43m200\u001b[39;49m\u001b[43m)\u001b[49m\n",
      "File \u001b[0;32m~/miniconda3/envs/RecSysFramework/lib/python3.8/site-packages/optuna/study/study.py:451\u001b[0m, in \u001b[0;36mStudy.optimize\u001b[0;34m(self, func, n_trials, timeout, n_jobs, catch, callbacks, gc_after_trial, show_progress_bar)\u001b[0m\n\u001b[1;32m    348\u001b[0m \u001b[38;5;28;01mdef\u001b[39;00m \u001b[38;5;21moptimize\u001b[39m(\n\u001b[1;32m    349\u001b[0m     \u001b[38;5;28mself\u001b[39m,\n\u001b[1;32m    350\u001b[0m     func: ObjectiveFuncType,\n\u001b[0;32m   (...)\u001b[0m\n\u001b[1;32m    357\u001b[0m     show_progress_bar: \u001b[38;5;28mbool\u001b[39m \u001b[38;5;241m=\u001b[39m \u001b[38;5;28;01mFalse\u001b[39;00m,\n\u001b[1;32m    358\u001b[0m ) \u001b[38;5;241m-\u001b[39m\u001b[38;5;241m>\u001b[39m \u001b[38;5;28;01mNone\u001b[39;00m:\n\u001b[1;32m    359\u001b[0m \u001b[38;5;250m    \u001b[39m\u001b[38;5;124;03m\"\"\"Optimize an objective function.\u001b[39;00m\n\u001b[1;32m    360\u001b[0m \n\u001b[1;32m    361\u001b[0m \u001b[38;5;124;03m    Optimization is done by choosing a suitable set of hyperparameter values from a given\u001b[39;00m\n\u001b[0;32m   (...)\u001b[0m\n\u001b[1;32m    449\u001b[0m \u001b[38;5;124;03m            If nested invocation of this method occurs.\u001b[39;00m\n\u001b[1;32m    450\u001b[0m \u001b[38;5;124;03m    \"\"\"\u001b[39;00m\n\u001b[0;32m--> 451\u001b[0m     \u001b[43m_optimize\u001b[49m\u001b[43m(\u001b[49m\n\u001b[1;32m    452\u001b[0m \u001b[43m        \u001b[49m\u001b[43mstudy\u001b[49m\u001b[38;5;241;43m=\u001b[39;49m\u001b[38;5;28;43mself\u001b[39;49m\u001b[43m,\u001b[49m\n\u001b[1;32m    453\u001b[0m \u001b[43m        \u001b[49m\u001b[43mfunc\u001b[49m\u001b[38;5;241;43m=\u001b[39;49m\u001b[43mfunc\u001b[49m\u001b[43m,\u001b[49m\n\u001b[1;32m    454\u001b[0m \u001b[43m        \u001b[49m\u001b[43mn_trials\u001b[49m\u001b[38;5;241;43m=\u001b[39;49m\u001b[43mn_trials\u001b[49m\u001b[43m,\u001b[49m\n\u001b[1;32m    455\u001b[0m \u001b[43m        \u001b[49m\u001b[43mtimeout\u001b[49m\u001b[38;5;241;43m=\u001b[39;49m\u001b[43mtimeout\u001b[49m\u001b[43m,\u001b[49m\n\u001b[1;32m    456\u001b[0m \u001b[43m        \u001b[49m\u001b[43mn_jobs\u001b[49m\u001b[38;5;241;43m=\u001b[39;49m\u001b[43mn_jobs\u001b[49m\u001b[43m,\u001b[49m\n\u001b[1;32m    457\u001b[0m \u001b[43m        \u001b[49m\u001b[43mcatch\u001b[49m\u001b[38;5;241;43m=\u001b[39;49m\u001b[38;5;28;43mtuple\u001b[39;49m\u001b[43m(\u001b[49m\u001b[43mcatch\u001b[49m\u001b[43m)\u001b[49m\u001b[43m \u001b[49m\u001b[38;5;28;43;01mif\u001b[39;49;00m\u001b[43m \u001b[49m\u001b[38;5;28;43misinstance\u001b[39;49m\u001b[43m(\u001b[49m\u001b[43mcatch\u001b[49m\u001b[43m,\u001b[49m\u001b[43m \u001b[49m\u001b[43mIterable\u001b[49m\u001b[43m)\u001b[49m\u001b[43m \u001b[49m\u001b[38;5;28;43;01melse\u001b[39;49;00m\u001b[43m \u001b[49m\u001b[43m(\u001b[49m\u001b[43mcatch\u001b[49m\u001b[43m,\u001b[49m\u001b[43m)\u001b[49m\u001b[43m,\u001b[49m\n\u001b[1;32m    458\u001b[0m \u001b[43m        \u001b[49m\u001b[43mcallbacks\u001b[49m\u001b[38;5;241;43m=\u001b[39;49m\u001b[43mcallbacks\u001b[49m\u001b[43m,\u001b[49m\n\u001b[1;32m    459\u001b[0m \u001b[43m        \u001b[49m\u001b[43mgc_after_trial\u001b[49m\u001b[38;5;241;43m=\u001b[39;49m\u001b[43mgc_after_trial\u001b[49m\u001b[43m,\u001b[49m\n\u001b[1;32m    460\u001b[0m \u001b[43m        \u001b[49m\u001b[43mshow_progress_bar\u001b[49m\u001b[38;5;241;43m=\u001b[39;49m\u001b[43mshow_progress_bar\u001b[49m\u001b[43m,\u001b[49m\n\u001b[1;32m    461\u001b[0m \u001b[43m    \u001b[49m\u001b[43m)\u001b[49m\n",
      "File \u001b[0;32m~/miniconda3/envs/RecSysFramework/lib/python3.8/site-packages/optuna/study/_optimize.py:66\u001b[0m, in \u001b[0;36m_optimize\u001b[0;34m(study, func, n_trials, timeout, n_jobs, catch, callbacks, gc_after_trial, show_progress_bar)\u001b[0m\n\u001b[1;32m     64\u001b[0m \u001b[38;5;28;01mtry\u001b[39;00m:\n\u001b[1;32m     65\u001b[0m     \u001b[38;5;28;01mif\u001b[39;00m n_jobs \u001b[38;5;241m==\u001b[39m \u001b[38;5;241m1\u001b[39m:\n\u001b[0;32m---> 66\u001b[0m         \u001b[43m_optimize_sequential\u001b[49m\u001b[43m(\u001b[49m\n\u001b[1;32m     67\u001b[0m \u001b[43m            \u001b[49m\u001b[43mstudy\u001b[49m\u001b[43m,\u001b[49m\n\u001b[1;32m     68\u001b[0m \u001b[43m            \u001b[49m\u001b[43mfunc\u001b[49m\u001b[43m,\u001b[49m\n\u001b[1;32m     69\u001b[0m \u001b[43m            \u001b[49m\u001b[43mn_trials\u001b[49m\u001b[43m,\u001b[49m\n\u001b[1;32m     70\u001b[0m \u001b[43m            \u001b[49m\u001b[43mtimeout\u001b[49m\u001b[43m,\u001b[49m\n\u001b[1;32m     71\u001b[0m \u001b[43m            \u001b[49m\u001b[43mcatch\u001b[49m\u001b[43m,\u001b[49m\n\u001b[1;32m     72\u001b[0m \u001b[43m            \u001b[49m\u001b[43mcallbacks\u001b[49m\u001b[43m,\u001b[49m\n\u001b[1;32m     73\u001b[0m \u001b[43m            \u001b[49m\u001b[43mgc_after_trial\u001b[49m\u001b[43m,\u001b[49m\n\u001b[1;32m     74\u001b[0m \u001b[43m            \u001b[49m\u001b[43mreseed_sampler_rng\u001b[49m\u001b[38;5;241;43m=\u001b[39;49m\u001b[38;5;28;43;01mFalse\u001b[39;49;00m\u001b[43m,\u001b[49m\n\u001b[1;32m     75\u001b[0m \u001b[43m            \u001b[49m\u001b[43mtime_start\u001b[49m\u001b[38;5;241;43m=\u001b[39;49m\u001b[38;5;28;43;01mNone\u001b[39;49;00m\u001b[43m,\u001b[49m\n\u001b[1;32m     76\u001b[0m \u001b[43m            \u001b[49m\u001b[43mprogress_bar\u001b[49m\u001b[38;5;241;43m=\u001b[39;49m\u001b[43mprogress_bar\u001b[49m\u001b[43m,\u001b[49m\n\u001b[1;32m     77\u001b[0m \u001b[43m        \u001b[49m\u001b[43m)\u001b[49m\n\u001b[1;32m     78\u001b[0m     \u001b[38;5;28;01melse\u001b[39;00m:\n\u001b[1;32m     79\u001b[0m         \u001b[38;5;28;01mif\u001b[39;00m n_jobs \u001b[38;5;241m==\u001b[39m \u001b[38;5;241m-\u001b[39m\u001b[38;5;241m1\u001b[39m:\n",
      "File \u001b[0;32m~/miniconda3/envs/RecSysFramework/lib/python3.8/site-packages/optuna/study/_optimize.py:163\u001b[0m, in \u001b[0;36m_optimize_sequential\u001b[0;34m(study, func, n_trials, timeout, catch, callbacks, gc_after_trial, reseed_sampler_rng, time_start, progress_bar)\u001b[0m\n\u001b[1;32m    160\u001b[0m         \u001b[38;5;28;01mbreak\u001b[39;00m\n\u001b[1;32m    162\u001b[0m \u001b[38;5;28;01mtry\u001b[39;00m:\n\u001b[0;32m--> 163\u001b[0m     frozen_trial \u001b[38;5;241m=\u001b[39m \u001b[43m_run_trial\u001b[49m\u001b[43m(\u001b[49m\u001b[43mstudy\u001b[49m\u001b[43m,\u001b[49m\u001b[43m \u001b[49m\u001b[43mfunc\u001b[49m\u001b[43m,\u001b[49m\u001b[43m \u001b[49m\u001b[43mcatch\u001b[49m\u001b[43m)\u001b[49m\n\u001b[1;32m    164\u001b[0m \u001b[38;5;28;01mfinally\u001b[39;00m:\n\u001b[1;32m    165\u001b[0m     \u001b[38;5;66;03m# The following line mitigates memory problems that can be occurred in some\u001b[39;00m\n\u001b[1;32m    166\u001b[0m     \u001b[38;5;66;03m# environments (e.g., services that use computing containers such as GitHub Actions).\u001b[39;00m\n\u001b[1;32m    167\u001b[0m     \u001b[38;5;66;03m# Please refer to the following PR for further details:\u001b[39;00m\n\u001b[1;32m    168\u001b[0m     \u001b[38;5;66;03m# https://github.com/optuna/optuna/pull/325.\u001b[39;00m\n\u001b[1;32m    169\u001b[0m     \u001b[38;5;28;01mif\u001b[39;00m gc_after_trial:\n",
      "File \u001b[0;32m~/miniconda3/envs/RecSysFramework/lib/python3.8/site-packages/optuna/study/_optimize.py:251\u001b[0m, in \u001b[0;36m_run_trial\u001b[0;34m(study, func, catch)\u001b[0m\n\u001b[1;32m    244\u001b[0m         \u001b[38;5;28;01massert\u001b[39;00m \u001b[38;5;28;01mFalse\u001b[39;00m, \u001b[38;5;124m\"\u001b[39m\u001b[38;5;124mShould not reach.\u001b[39m\u001b[38;5;124m\"\u001b[39m\n\u001b[1;32m    246\u001b[0m \u001b[38;5;28;01mif\u001b[39;00m (\n\u001b[1;32m    247\u001b[0m     frozen_trial\u001b[38;5;241m.\u001b[39mstate \u001b[38;5;241m==\u001b[39m TrialState\u001b[38;5;241m.\u001b[39mFAIL\n\u001b[1;32m    248\u001b[0m     \u001b[38;5;129;01mand\u001b[39;00m func_err \u001b[38;5;129;01mis\u001b[39;00m \u001b[38;5;129;01mnot\u001b[39;00m \u001b[38;5;28;01mNone\u001b[39;00m\n\u001b[1;32m    249\u001b[0m     \u001b[38;5;129;01mand\u001b[39;00m \u001b[38;5;129;01mnot\u001b[39;00m \u001b[38;5;28misinstance\u001b[39m(func_err, catch)\n\u001b[1;32m    250\u001b[0m ):\n\u001b[0;32m--> 251\u001b[0m     \u001b[38;5;28;01mraise\u001b[39;00m func_err\n\u001b[1;32m    252\u001b[0m \u001b[38;5;28;01mreturn\u001b[39;00m frozen_trial\n",
      "File \u001b[0;32m~/miniconda3/envs/RecSysFramework/lib/python3.8/site-packages/optuna/study/_optimize.py:200\u001b[0m, in \u001b[0;36m_run_trial\u001b[0;34m(study, func, catch)\u001b[0m\n\u001b[1;32m    198\u001b[0m \u001b[38;5;28;01mwith\u001b[39;00m get_heartbeat_thread(trial\u001b[38;5;241m.\u001b[39m_trial_id, study\u001b[38;5;241m.\u001b[39m_storage):\n\u001b[1;32m    199\u001b[0m     \u001b[38;5;28;01mtry\u001b[39;00m:\n\u001b[0;32m--> 200\u001b[0m         value_or_values \u001b[38;5;241m=\u001b[39m \u001b[43mfunc\u001b[49m\u001b[43m(\u001b[49m\u001b[43mtrial\u001b[49m\u001b[43m)\u001b[49m\n\u001b[1;32m    201\u001b[0m     \u001b[38;5;28;01mexcept\u001b[39;00m exceptions\u001b[38;5;241m.\u001b[39mTrialPruned \u001b[38;5;28;01mas\u001b[39;00m e:\n\u001b[1;32m    202\u001b[0m         \u001b[38;5;66;03m# TODO(mamu): Handle multi-objective cases.\u001b[39;00m\n\u001b[1;32m    203\u001b[0m         state \u001b[38;5;241m=\u001b[39m TrialState\u001b[38;5;241m.\u001b[39mPRUNED\n",
      "Cell \u001b[0;32mIn[24], line 12\u001b[0m, in \u001b[0;36mobjective\u001b[0;34m(trial)\u001b[0m\n\u001b[1;32m     10\u001b[0m \u001b[38;5;28;01mfor\u001b[39;00m i \u001b[38;5;129;01min\u001b[39;00m \u001b[38;5;28mrange\u001b[39m(k_fold):\n\u001b[1;32m     11\u001b[0m     recommender \u001b[38;5;241m=\u001b[39m hybrids[i]\n\u001b[0;32m---> 12\u001b[0m     \u001b[43mrecommender\u001b[49m\u001b[38;5;241;43m.\u001b[39;49m\u001b[43mfit\u001b[49m\u001b[43m(\u001b[49m\u001b[38;5;241;43m*\u001b[39;49m\u001b[38;5;241;43m*\u001b[39;49m\u001b[43mparams\u001b[49m\u001b[43m)\u001b[49m\n\u001b[1;32m     14\u001b[0m     result_dict, _ \u001b[38;5;241m=\u001b[39m evaluator_validation[i]\u001b[38;5;241m.\u001b[39mevaluateRecommender(recommender)\n\u001b[1;32m     16\u001b[0m     RECALL \u001b[38;5;241m+\u001b[39m\u001b[38;5;241m=\u001b[39m result_dict[metric_to_optimize]\u001b[38;5;241m.\u001b[39mitem()\n",
      "File \u001b[0;32m~/RecSys-Challenge/Recommenders/KNN/ItemKNNSimilarityHybridRecommender.py:43\u001b[0m, in \u001b[0;36mItemKNNSimilarityHybridRecommender.fit\u001b[0;34m(self, topK, alpha)\u001b[0m\n\u001b[1;32m     39\u001b[0m \u001b[38;5;28mself\u001b[39m\u001b[38;5;241m.\u001b[39malpha \u001b[38;5;241m=\u001b[39m alpha\n\u001b[1;32m     41\u001b[0m W_sparse \u001b[38;5;241m=\u001b[39m \u001b[38;5;28mself\u001b[39m\u001b[38;5;241m.\u001b[39mSimilarity_1\u001b[38;5;241m*\u001b[39m\u001b[38;5;28mself\u001b[39m\u001b[38;5;241m.\u001b[39malpha \u001b[38;5;241m+\u001b[39m \u001b[38;5;28mself\u001b[39m\u001b[38;5;241m.\u001b[39mSimilarity_2\u001b[38;5;241m*\u001b[39m(\u001b[38;5;241m1\u001b[39m\u001b[38;5;241m-\u001b[39m\u001b[38;5;28mself\u001b[39m\u001b[38;5;241m.\u001b[39malpha)\n\u001b[0;32m---> 43\u001b[0m \u001b[38;5;28mself\u001b[39m\u001b[38;5;241m.\u001b[39mW_sparse \u001b[38;5;241m=\u001b[39m \u001b[43msimilarityMatrixTopK\u001b[49m\u001b[43m(\u001b[49m\u001b[43mW_sparse\u001b[49m\u001b[43m,\u001b[49m\u001b[43m \u001b[49m\u001b[43mk\u001b[49m\u001b[38;5;241;43m=\u001b[39;49m\u001b[38;5;28;43mself\u001b[39;49m\u001b[38;5;241;43m.\u001b[39;49m\u001b[43mtopK\u001b[49m\u001b[43m)\u001b[49m\n\u001b[1;32m     44\u001b[0m \u001b[38;5;28mself\u001b[39m\u001b[38;5;241m.\u001b[39mW_sparse \u001b[38;5;241m=\u001b[39m check_matrix(\u001b[38;5;28mself\u001b[39m\u001b[38;5;241m.\u001b[39mW_sparse, \u001b[38;5;28mformat\u001b[39m\u001b[38;5;241m=\u001b[39m\u001b[38;5;124m'\u001b[39m\u001b[38;5;124mcsr\u001b[39m\u001b[38;5;124m'\u001b[39m)\n",
      "File \u001b[0;32m~/RecSys-Challenge/Recommenders/Recommender_utils.py:121\u001b[0m, in \u001b[0;36msimilarityMatrixTopK\u001b[0;34m(item_weights, k, verbose, use_absolute_values)\u001b[0m\n\u001b[1;32m    117\u001b[0m         \u001b[38;5;28;01mexcept\u001b[39;00m \u001b[38;5;167;01mException\u001b[39;00m \u001b[38;5;28;01mas\u001b[39;00m e:\n\u001b[1;32m    118\u001b[0m             \u001b[38;5;28;01mpass\u001b[39;00m\n\u001b[0;32m--> 121\u001b[0m     \u001b[43msimilarity_builder\u001b[49m\u001b[38;5;241;43m.\u001b[39;49m\u001b[43madd_data_lists\u001b[49m\u001b[43m(\u001b[49m\u001b[43mrow_list_to_add\u001b[49m\u001b[43m \u001b[49m\u001b[38;5;241;43m=\u001b[39;49m\u001b[43m \u001b[49m\u001b[43mcolumn_row_index\u001b[49m\u001b[43m,\u001b[49m\n\u001b[1;32m    122\u001b[0m \u001b[43m                                      \u001b[49m\u001b[43mcol_list_to_add\u001b[49m\u001b[43m \u001b[49m\u001b[38;5;241;43m=\u001b[39;49m\u001b[43m \u001b[49m\u001b[43mnp\u001b[49m\u001b[38;5;241;43m.\u001b[39;49m\u001b[43mones\u001b[49m\u001b[43m(\u001b[49m\u001b[38;5;28;43mlen\u001b[39;49m\u001b[43m(\u001b[49m\u001b[43mcolumn_row_index\u001b[49m\u001b[43m)\u001b[49m\u001b[43m,\u001b[49m\u001b[43m \u001b[49m\u001b[43mdtype\u001b[49m\u001b[43m \u001b[49m\u001b[38;5;241;43m=\u001b[39;49m\u001b[43m \u001b[49m\u001b[38;5;28;43mint\u001b[39;49m\u001b[43m)\u001b[49m\u001b[43m \u001b[49m\u001b[38;5;241;43m*\u001b[39;49m\u001b[43m \u001b[49m\u001b[43mitem_idx\u001b[49m\u001b[43m,\u001b[49m\n\u001b[1;32m    123\u001b[0m \u001b[43m                                      \u001b[49m\u001b[43mdata_list_to_add\u001b[49m\u001b[43m \u001b[49m\u001b[38;5;241;43m=\u001b[39;49m\u001b[43m \u001b[49m\u001b[43mcolumn_data\u001b[49m\u001b[43m)\u001b[49m\n\u001b[1;32m    127\u001b[0m \u001b[38;5;28;01mif\u001b[39;00m verbose:\n\u001b[1;32m    128\u001b[0m     \u001b[38;5;28mprint\u001b[39m(\u001b[38;5;124m\"\u001b[39m\u001b[38;5;124mSparse TopK matrix generated in \u001b[39m\u001b[38;5;132;01m{:.2f}\u001b[39;00m\u001b[38;5;124m seconds\u001b[39m\u001b[38;5;124m\"\u001b[39m\u001b[38;5;241m.\u001b[39mformat(time\u001b[38;5;241m.\u001b[39mtime() \u001b[38;5;241m-\u001b[39m start_time))\n",
      "File \u001b[0;32m~/RecSys-Challenge/Recommenders/Similarity/Compute_Similarity_Python.py:54\u001b[0m, in \u001b[0;36mIncremental_Similarity_Builder.add_data_lists\u001b[0;34m(self, row_list_to_add, col_list_to_add, data_list_to_add)\u001b[0m\n\u001b[1;32m     52\u001b[0m \u001b[38;5;28mself\u001b[39m\u001b[38;5;241m.\u001b[39m_row_array[\u001b[38;5;28mself\u001b[39m\u001b[38;5;241m.\u001b[39m_next_cell_pointer] \u001b[38;5;241m=\u001b[39m row_list_to_add[data_point_index]\n\u001b[1;32m     53\u001b[0m \u001b[38;5;28mself\u001b[39m\u001b[38;5;241m.\u001b[39m_col_array[\u001b[38;5;28mself\u001b[39m\u001b[38;5;241m.\u001b[39m_next_cell_pointer] \u001b[38;5;241m=\u001b[39m col_list_to_add[data_point_index]\n\u001b[0;32m---> 54\u001b[0m \u001b[38;5;28mself\u001b[39m\u001b[38;5;241m.\u001b[39m_data_array[\u001b[38;5;28mself\u001b[39m\u001b[38;5;241m.\u001b[39m_next_cell_pointer] \u001b[38;5;241m=\u001b[39m data_list_to_add[data_point_index]\n\u001b[1;32m     56\u001b[0m \u001b[38;5;28mself\u001b[39m\u001b[38;5;241m.\u001b[39m_next_cell_pointer \u001b[38;5;241m+\u001b[39m\u001b[38;5;241m=\u001b[39m \u001b[38;5;241m1\u001b[39m\n",
      "\u001b[0;31mKeyboardInterrupt\u001b[0m: "
     ]
    }
   ],
   "source": [
    "study.optimize(objective, n_trials=200)"
   ]
  },
  {
   "cell_type": "code",
   "execution_count": 33,
   "metadata": {},
   "outputs": [
    {
     "name": "stdout",
     "output_type": "stream",
     "text": [
      "SLIMElasticNetRecommender: URM Detected 508 ( 4.0%) users with no interactions.\n",
      "SLIMElasticNetRecommender: URM Detected 332 ( 1.5%) items with no interactions.\n"
     ]
    },
    {
     "ename": "KeyboardInterrupt",
     "evalue": "",
     "output_type": "error",
     "traceback": [
      "\u001b[0;31m---------------------------------------------------------------------------\u001b[0m",
      "\u001b[0;31mKeyboardInterrupt\u001b[0m                         Traceback (most recent call last)",
      "Cell \u001b[0;32mIn[33], line 5\u001b[0m\n\u001b[1;32m      3\u001b[0m \u001b[38;5;28;01mfor\u001b[39;00m i \u001b[38;5;129;01min\u001b[39;00m \u001b[38;5;28mrange\u001b[39m(k_fold):\n\u001b[1;32m      4\u001b[0m     recommender \u001b[38;5;241m=\u001b[39m recommenderClass(urm_train[i])\n\u001b[0;32m----> 5\u001b[0m     recommender\u001b[38;5;241m.\u001b[39mfit(workers\u001b[38;5;241m=\u001b[39m\u001b[38;5;241m8\u001b[39m, \u001b[38;5;241m*\u001b[39m\u001b[38;5;241m*\u001b[39m\u001b[43mstudy\u001b[49m\u001b[38;5;241;43m.\u001b[39;49m\u001b[43mbest_params\u001b[49m)\n\u001b[1;32m      7\u001b[0m     result_dict, _ \u001b[38;5;241m=\u001b[39m evaluator_test[i]\u001b[38;5;241m.\u001b[39mevaluateRecommender(recommender)\n\u001b[1;32m      9\u001b[0m     best_MAP_test \u001b[38;5;241m+\u001b[39m\u001b[38;5;241m=\u001b[39m result_dict[metric_to_optimize]\u001b[38;5;241m.\u001b[39mitem()\n",
      "File \u001b[0;32m~/miniconda3/envs/RecSysFramework/lib/python3.8/site-packages/optuna/study/study.py:114\u001b[0m, in \u001b[0;36mStudy.best_params\u001b[0;34m(self)\u001b[0m\n\u001b[1;32m    102\u001b[0m \u001b[38;5;129m@property\u001b[39m\n\u001b[1;32m    103\u001b[0m \u001b[38;5;28;01mdef\u001b[39;00m \u001b[38;5;21mbest_params\u001b[39m(\u001b[38;5;28mself\u001b[39m) \u001b[38;5;241m-\u001b[39m\u001b[38;5;241m>\u001b[39m \u001b[38;5;28mdict\u001b[39m[\u001b[38;5;28mstr\u001b[39m, Any]:\n\u001b[1;32m    104\u001b[0m \u001b[38;5;250m    \u001b[39m\u001b[38;5;124;03m\"\"\"Return parameters of the best trial in the study.\u001b[39;00m\n\u001b[1;32m    105\u001b[0m \n\u001b[1;32m    106\u001b[0m \u001b[38;5;124;03m    .. note::\u001b[39;00m\n\u001b[0;32m   (...)\u001b[0m\n\u001b[1;32m    111\u001b[0m \n\u001b[1;32m    112\u001b[0m \u001b[38;5;124;03m    \"\"\"\u001b[39;00m\n\u001b[0;32m--> 114\u001b[0m     \u001b[38;5;28;01mreturn\u001b[39;00m \u001b[38;5;28;43mself\u001b[39;49m\u001b[38;5;241;43m.\u001b[39;49m\u001b[43mbest_trial\u001b[49m\u001b[38;5;241m.\u001b[39mparams\n",
      "File \u001b[0;32m~/miniconda3/envs/RecSysFramework/lib/python3.8/site-packages/optuna/study/study.py:157\u001b[0m, in \u001b[0;36mStudy.best_trial\u001b[0;34m(self)\u001b[0m\n\u001b[1;32m    151\u001b[0m \u001b[38;5;28;01mif\u001b[39;00m \u001b[38;5;28mself\u001b[39m\u001b[38;5;241m.\u001b[39m_is_multi_objective():\n\u001b[1;32m    152\u001b[0m     \u001b[38;5;28;01mraise\u001b[39;00m \u001b[38;5;167;01mRuntimeError\u001b[39;00m(\n\u001b[1;32m    153\u001b[0m         \u001b[38;5;124m\"\u001b[39m\u001b[38;5;124mA single best trial cannot be retrieved from a multi-objective study. Consider \u001b[39m\u001b[38;5;124m\"\u001b[39m\n\u001b[1;32m    154\u001b[0m         \u001b[38;5;124m\"\u001b[39m\u001b[38;5;124musing Study.best_trials to retrieve a list containing the best trials.\u001b[39m\u001b[38;5;124m\"\u001b[39m\n\u001b[1;32m    155\u001b[0m     )\n\u001b[0;32m--> 157\u001b[0m \u001b[38;5;28;01mreturn\u001b[39;00m copy\u001b[38;5;241m.\u001b[39mdeepcopy(\u001b[38;5;28;43mself\u001b[39;49m\u001b[38;5;241;43m.\u001b[39;49m\u001b[43m_storage\u001b[49m\u001b[38;5;241;43m.\u001b[39;49m\u001b[43mget_best_trial\u001b[49m\u001b[43m(\u001b[49m\u001b[38;5;28;43mself\u001b[39;49m\u001b[38;5;241;43m.\u001b[39;49m\u001b[43m_study_id\u001b[49m\u001b[43m)\u001b[49m)\n",
      "File \u001b[0;32m~/miniconda3/envs/RecSysFramework/lib/python3.8/site-packages/optuna/storages/_cached_storage.py:182\u001b[0m, in \u001b[0;36m_CachedStorage.get_best_trial\u001b[0;34m(self, study_id)\u001b[0m\n\u001b[1;32m    181\u001b[0m \u001b[38;5;28;01mdef\u001b[39;00m \u001b[38;5;21mget_best_trial\u001b[39m(\u001b[38;5;28mself\u001b[39m, study_id: \u001b[38;5;28mint\u001b[39m) \u001b[38;5;241m-\u001b[39m\u001b[38;5;241m>\u001b[39m FrozenTrial:\n\u001b[0;32m--> 182\u001b[0m     \u001b[38;5;28;01mreturn\u001b[39;00m \u001b[38;5;28;43mself\u001b[39;49m\u001b[38;5;241;43m.\u001b[39;49m\u001b[43m_backend\u001b[49m\u001b[38;5;241;43m.\u001b[39;49m\u001b[43mget_best_trial\u001b[49m\u001b[43m(\u001b[49m\u001b[43mstudy_id\u001b[49m\u001b[43m)\u001b[49m\n",
      "File \u001b[0;32m~/miniconda3/envs/RecSysFramework/lib/python3.8/site-packages/optuna/storages/_rdb/storage.py:914\u001b[0m, in \u001b[0;36mRDBStorage.get_best_trial\u001b[0;34m(self, study_id)\u001b[0m\n\u001b[1;32m    911\u001b[0m direction \u001b[38;5;241m=\u001b[39m _directions[\u001b[38;5;241m0\u001b[39m]\n\u001b[1;32m    913\u001b[0m \u001b[38;5;28;01mif\u001b[39;00m direction \u001b[38;5;241m==\u001b[39m StudyDirection\u001b[38;5;241m.\u001b[39mMAXIMIZE:\n\u001b[0;32m--> 914\u001b[0m     trial \u001b[38;5;241m=\u001b[39m \u001b[43mmodels\u001b[49m\u001b[38;5;241;43m.\u001b[39;49m\u001b[43mTrialModel\u001b[49m\u001b[38;5;241;43m.\u001b[39;49m\u001b[43mfind_max_value_trial\u001b[49m\u001b[43m(\u001b[49m\u001b[43mstudy_id\u001b[49m\u001b[43m,\u001b[49m\u001b[43m \u001b[49m\u001b[38;5;241;43m0\u001b[39;49m\u001b[43m,\u001b[49m\u001b[43m \u001b[49m\u001b[43msession\u001b[49m\u001b[43m)\u001b[49m\n\u001b[1;32m    915\u001b[0m \u001b[38;5;28;01melse\u001b[39;00m:\n\u001b[1;32m    916\u001b[0m     trial \u001b[38;5;241m=\u001b[39m models\u001b[38;5;241m.\u001b[39mTrialModel\u001b[38;5;241m.\u001b[39mfind_min_value_trial(study_id, \u001b[38;5;241m0\u001b[39m, session)\n",
      "File \u001b[0;32m~/miniconda3/envs/RecSysFramework/lib/python3.8/site-packages/optuna/storages/_rdb/models.py:196\u001b[0m, in \u001b[0;36mTrialModel.find_max_value_trial\u001b[0;34m(cls, study_id, objective, session)\u001b[0m\n\u001b[1;32m    191\u001b[0m \u001b[38;5;129m@classmethod\u001b[39m\n\u001b[1;32m    192\u001b[0m \u001b[38;5;28;01mdef\u001b[39;00m \u001b[38;5;21mfind_max_value_trial\u001b[39m(\n\u001b[1;32m    193\u001b[0m     \u001b[38;5;28mcls\u001b[39m, study_id: \u001b[38;5;28mint\u001b[39m, objective: \u001b[38;5;28mint\u001b[39m, session: orm\u001b[38;5;241m.\u001b[39mSession\n\u001b[1;32m    194\u001b[0m ) \u001b[38;5;241m-\u001b[39m\u001b[38;5;241m>\u001b[39m \u001b[38;5;124m\"\u001b[39m\u001b[38;5;124mTrialModel\u001b[39m\u001b[38;5;124m\"\u001b[39m:\n\u001b[1;32m    195\u001b[0m     trial \u001b[38;5;241m=\u001b[39m (\n\u001b[0;32m--> 196\u001b[0m         \u001b[43msession\u001b[49m\u001b[38;5;241;43m.\u001b[39;49m\u001b[43mquery\u001b[49m\u001b[43m(\u001b[49m\u001b[38;5;28;43mcls\u001b[39;49m\u001b[43m)\u001b[49m\n\u001b[1;32m    197\u001b[0m \u001b[43m        \u001b[49m\u001b[38;5;241;43m.\u001b[39;49m\u001b[43mfilter\u001b[49m\u001b[43m(\u001b[49m\u001b[38;5;28;43mcls\u001b[39;49m\u001b[38;5;241;43m.\u001b[39;49m\u001b[43mstudy_id\u001b[49m\u001b[43m \u001b[49m\u001b[38;5;241;43m==\u001b[39;49m\u001b[43m \u001b[49m\u001b[43mstudy_id\u001b[49m\u001b[43m)\u001b[49m\n\u001b[1;32m    198\u001b[0m \u001b[43m        \u001b[49m\u001b[38;5;241;43m.\u001b[39;49m\u001b[43mfilter\u001b[49m\u001b[43m(\u001b[49m\u001b[38;5;28;43mcls\u001b[39;49m\u001b[38;5;241;43m.\u001b[39;49m\u001b[43mstate\u001b[49m\u001b[43m \u001b[49m\u001b[38;5;241;43m==\u001b[39;49m\u001b[43m \u001b[49m\u001b[43mTrialState\u001b[49m\u001b[38;5;241;43m.\u001b[39;49m\u001b[43mCOMPLETE\u001b[49m\u001b[43m)\u001b[49m\n\u001b[1;32m    199\u001b[0m \u001b[43m        \u001b[49m\u001b[38;5;241;43m.\u001b[39;49m\u001b[43mjoin\u001b[49m\u001b[43m(\u001b[49m\u001b[43mTrialValueModel\u001b[49m\u001b[43m)\u001b[49m\n\u001b[1;32m    200\u001b[0m \u001b[43m        \u001b[49m\u001b[38;5;241;43m.\u001b[39;49m\u001b[43mfilter\u001b[49m\u001b[43m(\u001b[49m\u001b[43mTrialValueModel\u001b[49m\u001b[38;5;241;43m.\u001b[39;49m\u001b[43mobjective\u001b[49m\u001b[43m \u001b[49m\u001b[38;5;241;43m==\u001b[39;49m\u001b[43m \u001b[49m\u001b[43mobjective\u001b[49m\u001b[43m)\u001b[49m\n\u001b[1;32m    201\u001b[0m \u001b[43m        \u001b[49m\u001b[38;5;241;43m.\u001b[39;49m\u001b[43morder_by\u001b[49m\u001b[43m(\u001b[49m\n\u001b[1;32m    202\u001b[0m \u001b[43m            \u001b[49m\u001b[43mdesc\u001b[49m\u001b[43m(\u001b[49m\n\u001b[1;32m    203\u001b[0m \u001b[43m                \u001b[49m\u001b[38;5;28;43;01mcase\u001b[39;49;00m\u001b[43m(\u001b[49m\n\u001b[1;32m    204\u001b[0m \u001b[43m                    \u001b[49m\u001b[43m{\u001b[49m\u001b[38;5;124;43m\"\u001b[39;49m\u001b[38;5;124;43mINF_NEG\u001b[39;49m\u001b[38;5;124;43m\"\u001b[39;49m\u001b[43m:\u001b[49m\u001b[43m \u001b[49m\u001b[38;5;241;43m-\u001b[39;49m\u001b[38;5;241;43m1\u001b[39;49m\u001b[43m,\u001b[49m\u001b[43m \u001b[49m\u001b[38;5;124;43m\"\u001b[39;49m\u001b[38;5;124;43mFINITE\u001b[39;49m\u001b[38;5;124;43m\"\u001b[39;49m\u001b[43m:\u001b[49m\u001b[43m \u001b[49m\u001b[38;5;241;43m0\u001b[39;49m\u001b[43m,\u001b[49m\u001b[43m \u001b[49m\u001b[38;5;124;43m\"\u001b[39;49m\u001b[38;5;124;43mINF_POS\u001b[39;49m\u001b[38;5;124;43m\"\u001b[39;49m\u001b[43m:\u001b[49m\u001b[43m \u001b[49m\u001b[38;5;241;43m1\u001b[39;49m\u001b[43m}\u001b[49m\u001b[43m,\u001b[49m\n\u001b[1;32m    205\u001b[0m \u001b[43m                    \u001b[49m\u001b[43mvalue\u001b[49m\u001b[38;5;241;43m=\u001b[39;49m\u001b[43mTrialValueModel\u001b[49m\u001b[38;5;241;43m.\u001b[39;49m\u001b[43mvalue_type\u001b[49m\u001b[43m,\u001b[49m\n\u001b[1;32m    206\u001b[0m \u001b[43m                \u001b[49m\u001b[43m)\u001b[49m\n\u001b[1;32m    207\u001b[0m \u001b[43m            \u001b[49m\u001b[43m)\u001b[49m\u001b[43m,\u001b[49m\n\u001b[1;32m    208\u001b[0m \u001b[43m            \u001b[49m\u001b[43mdesc\u001b[49m\u001b[43m(\u001b[49m\u001b[43mTrialValueModel\u001b[49m\u001b[38;5;241;43m.\u001b[39;49m\u001b[43mvalue\u001b[49m\u001b[43m)\u001b[49m\u001b[43m,\u001b[49m\n\u001b[1;32m    209\u001b[0m \u001b[43m        \u001b[49m\u001b[43m)\u001b[49m\n\u001b[1;32m    210\u001b[0m \u001b[43m        \u001b[49m\u001b[38;5;241;43m.\u001b[39;49m\u001b[43mlimit\u001b[49m\u001b[43m(\u001b[49m\u001b[38;5;241;43m1\u001b[39;49m\u001b[43m)\u001b[49m\n\u001b[1;32m    211\u001b[0m \u001b[43m        \u001b[49m\u001b[38;5;241;43m.\u001b[39;49m\u001b[43mone_or_none\u001b[49m\u001b[43m(\u001b[49m\u001b[43m)\u001b[49m\n\u001b[1;32m    212\u001b[0m     )\n\u001b[1;32m    213\u001b[0m     \u001b[38;5;28;01mif\u001b[39;00m trial \u001b[38;5;129;01mis\u001b[39;00m \u001b[38;5;28;01mNone\u001b[39;00m:\n\u001b[1;32m    214\u001b[0m         \u001b[38;5;28;01mraise\u001b[39;00m \u001b[38;5;167;01mValueError\u001b[39;00m(NOT_FOUND_MSG)\n",
      "File \u001b[0;32m~/miniconda3/envs/RecSysFramework/lib/python3.8/site-packages/sqlalchemy/orm/query.py:2845\u001b[0m, in \u001b[0;36mQuery.one_or_none\u001b[0;34m(self)\u001b[0m\n\u001b[1;32m   2821\u001b[0m \u001b[38;5;28;01mdef\u001b[39;00m \u001b[38;5;21mone_or_none\u001b[39m(\u001b[38;5;28mself\u001b[39m):\n\u001b[1;32m   2822\u001b[0m \u001b[38;5;250m    \u001b[39m\u001b[38;5;124;03m\"\"\"Return at most one result or raise an exception.\u001b[39;00m\n\u001b[1;32m   2823\u001b[0m \n\u001b[1;32m   2824\u001b[0m \u001b[38;5;124;03m    Returns ``None`` if the query selects\u001b[39;00m\n\u001b[0;32m   (...)\u001b[0m\n\u001b[1;32m   2843\u001b[0m \n\u001b[1;32m   2844\u001b[0m \u001b[38;5;124;03m    \"\"\"\u001b[39;00m\n\u001b[0;32m-> 2845\u001b[0m     \u001b[38;5;28;01mreturn\u001b[39;00m \u001b[38;5;28;43mself\u001b[39;49m\u001b[38;5;241;43m.\u001b[39;49m\u001b[43m_iter\u001b[49m\u001b[43m(\u001b[49m\u001b[43m)\u001b[49m\u001b[38;5;241m.\u001b[39mone_or_none()\n",
      "File \u001b[0;32m~/miniconda3/envs/RecSysFramework/lib/python3.8/site-packages/sqlalchemy/orm/query.py:2903\u001b[0m, in \u001b[0;36mQuery._iter\u001b[0;34m(self)\u001b[0m\n\u001b[1;32m   2900\u001b[0m params \u001b[38;5;241m=\u001b[39m \u001b[38;5;28mself\u001b[39m\u001b[38;5;241m.\u001b[39m_params\n\u001b[1;32m   2902\u001b[0m statement \u001b[38;5;241m=\u001b[39m \u001b[38;5;28mself\u001b[39m\u001b[38;5;241m.\u001b[39m_statement_20()\n\u001b[0;32m-> 2903\u001b[0m result \u001b[38;5;241m=\u001b[39m \u001b[38;5;28;43mself\u001b[39;49m\u001b[38;5;241;43m.\u001b[39;49m\u001b[43msession\u001b[49m\u001b[38;5;241;43m.\u001b[39;49m\u001b[43mexecute\u001b[49m\u001b[43m(\u001b[49m\n\u001b[1;32m   2904\u001b[0m \u001b[43m    \u001b[49m\u001b[43mstatement\u001b[49m\u001b[43m,\u001b[49m\n\u001b[1;32m   2905\u001b[0m \u001b[43m    \u001b[49m\u001b[43mparams\u001b[49m\u001b[43m,\u001b[49m\n\u001b[1;32m   2906\u001b[0m \u001b[43m    \u001b[49m\u001b[43mexecution_options\u001b[49m\u001b[38;5;241;43m=\u001b[39;49m\u001b[43m{\u001b[49m\u001b[38;5;124;43m\"\u001b[39;49m\u001b[38;5;124;43m_sa_orm_load_options\u001b[39;49m\u001b[38;5;124;43m\"\u001b[39;49m\u001b[43m:\u001b[49m\u001b[43m \u001b[49m\u001b[38;5;28;43mself\u001b[39;49m\u001b[38;5;241;43m.\u001b[39;49m\u001b[43mload_options\u001b[49m\u001b[43m}\u001b[49m\u001b[43m,\u001b[49m\n\u001b[1;32m   2907\u001b[0m \u001b[43m\u001b[49m\u001b[43m)\u001b[49m\n\u001b[1;32m   2909\u001b[0m \u001b[38;5;66;03m# legacy: automatically set scalars, unique\u001b[39;00m\n\u001b[1;32m   2910\u001b[0m \u001b[38;5;28;01mif\u001b[39;00m result\u001b[38;5;241m.\u001b[39m_attributes\u001b[38;5;241m.\u001b[39mget(\u001b[38;5;124m\"\u001b[39m\u001b[38;5;124mis_single_entity\u001b[39m\u001b[38;5;124m\"\u001b[39m, \u001b[38;5;28;01mFalse\u001b[39;00m):\n",
      "File \u001b[0;32m~/miniconda3/envs/RecSysFramework/lib/python3.8/site-packages/sqlalchemy/orm/session.py:1712\u001b[0m, in \u001b[0;36mSession.execute\u001b[0;34m(self, statement, params, execution_options, bind_arguments, _parent_execute_state, _add_event, **kw)\u001b[0m\n\u001b[1;32m   1710\u001b[0m \u001b[38;5;28;01melse\u001b[39;00m:\n\u001b[1;32m   1711\u001b[0m     conn \u001b[38;5;241m=\u001b[39m \u001b[38;5;28mself\u001b[39m\u001b[38;5;241m.\u001b[39m_connection_for_bind(bind)\n\u001b[0;32m-> 1712\u001b[0m result \u001b[38;5;241m=\u001b[39m \u001b[43mconn\u001b[49m\u001b[38;5;241;43m.\u001b[39;49m\u001b[43m_execute_20\u001b[49m\u001b[43m(\u001b[49m\u001b[43mstatement\u001b[49m\u001b[43m,\u001b[49m\u001b[43m \u001b[49m\u001b[43mparams\u001b[49m\u001b[43m \u001b[49m\u001b[38;5;129;43;01mor\u001b[39;49;00m\u001b[43m \u001b[49m\u001b[43m{\u001b[49m\u001b[43m}\u001b[49m\u001b[43m,\u001b[49m\u001b[43m \u001b[49m\u001b[43mexecution_options\u001b[49m\u001b[43m)\u001b[49m\n\u001b[1;32m   1714\u001b[0m \u001b[38;5;28;01mif\u001b[39;00m compile_state_cls:\n\u001b[1;32m   1715\u001b[0m     result \u001b[38;5;241m=\u001b[39m compile_state_cls\u001b[38;5;241m.\u001b[39morm_setup_cursor_result(\n\u001b[1;32m   1716\u001b[0m         \u001b[38;5;28mself\u001b[39m,\n\u001b[1;32m   1717\u001b[0m         statement,\n\u001b[0;32m   (...)\u001b[0m\n\u001b[1;32m   1721\u001b[0m         result,\n\u001b[1;32m   1722\u001b[0m     )\n",
      "File \u001b[0;32m~/miniconda3/envs/RecSysFramework/lib/python3.8/site-packages/sqlalchemy/engine/base.py:1631\u001b[0m, in \u001b[0;36mConnection._execute_20\u001b[0;34m(self, statement, parameters, execution_options)\u001b[0m\n\u001b[1;32m   1627\u001b[0m     util\u001b[38;5;241m.\u001b[39mraise_(\n\u001b[1;32m   1628\u001b[0m         exc\u001b[38;5;241m.\u001b[39mObjectNotExecutableError(statement), replace_context\u001b[38;5;241m=\u001b[39merr\n\u001b[1;32m   1629\u001b[0m     )\n\u001b[1;32m   1630\u001b[0m \u001b[38;5;28;01melse\u001b[39;00m:\n\u001b[0;32m-> 1631\u001b[0m     \u001b[38;5;28;01mreturn\u001b[39;00m \u001b[43mmeth\u001b[49m\u001b[43m(\u001b[49m\u001b[38;5;28;43mself\u001b[39;49m\u001b[43m,\u001b[49m\u001b[43m \u001b[49m\u001b[43margs_10style\u001b[49m\u001b[43m,\u001b[49m\u001b[43m \u001b[49m\u001b[43mkwargs_10style\u001b[49m\u001b[43m,\u001b[49m\u001b[43m \u001b[49m\u001b[43mexecution_options\u001b[49m\u001b[43m)\u001b[49m\n",
      "File \u001b[0;32m~/miniconda3/envs/RecSysFramework/lib/python3.8/site-packages/sqlalchemy/sql/elements.py:332\u001b[0m, in \u001b[0;36mClauseElement._execute_on_connection\u001b[0;34m(self, connection, multiparams, params, execution_options, _force)\u001b[0m\n\u001b[1;32m    328\u001b[0m \u001b[38;5;28;01mdef\u001b[39;00m \u001b[38;5;21m_execute_on_connection\u001b[39m(\n\u001b[1;32m    329\u001b[0m     \u001b[38;5;28mself\u001b[39m, connection, multiparams, params, execution_options, _force\u001b[38;5;241m=\u001b[39m\u001b[38;5;28;01mFalse\u001b[39;00m\n\u001b[1;32m    330\u001b[0m ):\n\u001b[1;32m    331\u001b[0m     \u001b[38;5;28;01mif\u001b[39;00m _force \u001b[38;5;129;01mor\u001b[39;00m \u001b[38;5;28mself\u001b[39m\u001b[38;5;241m.\u001b[39msupports_execution:\n\u001b[0;32m--> 332\u001b[0m         \u001b[38;5;28;01mreturn\u001b[39;00m \u001b[43mconnection\u001b[49m\u001b[38;5;241;43m.\u001b[39;49m\u001b[43m_execute_clauseelement\u001b[49m\u001b[43m(\u001b[49m\n\u001b[1;32m    333\u001b[0m \u001b[43m            \u001b[49m\u001b[38;5;28;43mself\u001b[39;49m\u001b[43m,\u001b[49m\u001b[43m \u001b[49m\u001b[43mmultiparams\u001b[49m\u001b[43m,\u001b[49m\u001b[43m \u001b[49m\u001b[43mparams\u001b[49m\u001b[43m,\u001b[49m\u001b[43m \u001b[49m\u001b[43mexecution_options\u001b[49m\n\u001b[1;32m    334\u001b[0m \u001b[43m        \u001b[49m\u001b[43m)\u001b[49m\n\u001b[1;32m    335\u001b[0m     \u001b[38;5;28;01melse\u001b[39;00m:\n\u001b[1;32m    336\u001b[0m         \u001b[38;5;28;01mraise\u001b[39;00m exc\u001b[38;5;241m.\u001b[39mObjectNotExecutableError(\u001b[38;5;28mself\u001b[39m)\n",
      "File \u001b[0;32m~/miniconda3/envs/RecSysFramework/lib/python3.8/site-packages/sqlalchemy/engine/base.py:1498\u001b[0m, in \u001b[0;36mConnection._execute_clauseelement\u001b[0;34m(self, elem, multiparams, params, execution_options)\u001b[0m\n\u001b[1;32m   1486\u001b[0m compiled_cache \u001b[38;5;241m=\u001b[39m execution_options\u001b[38;5;241m.\u001b[39mget(\n\u001b[1;32m   1487\u001b[0m     \u001b[38;5;124m\"\u001b[39m\u001b[38;5;124mcompiled_cache\u001b[39m\u001b[38;5;124m\"\u001b[39m, \u001b[38;5;28mself\u001b[39m\u001b[38;5;241m.\u001b[39mengine\u001b[38;5;241m.\u001b[39m_compiled_cache\n\u001b[1;32m   1488\u001b[0m )\n\u001b[1;32m   1490\u001b[0m compiled_sql, extracted_params, cache_hit \u001b[38;5;241m=\u001b[39m elem\u001b[38;5;241m.\u001b[39m_compile_w_cache(\n\u001b[1;32m   1491\u001b[0m     dialect\u001b[38;5;241m=\u001b[39mdialect,\n\u001b[1;32m   1492\u001b[0m     compiled_cache\u001b[38;5;241m=\u001b[39mcompiled_cache,\n\u001b[0;32m   (...)\u001b[0m\n\u001b[1;32m   1496\u001b[0m     linting\u001b[38;5;241m=\u001b[39m\u001b[38;5;28mself\u001b[39m\u001b[38;5;241m.\u001b[39mdialect\u001b[38;5;241m.\u001b[39mcompiler_linting \u001b[38;5;241m|\u001b[39m compiler\u001b[38;5;241m.\u001b[39mWARN_LINTING,\n\u001b[1;32m   1497\u001b[0m )\n\u001b[0;32m-> 1498\u001b[0m ret \u001b[38;5;241m=\u001b[39m \u001b[38;5;28;43mself\u001b[39;49m\u001b[38;5;241;43m.\u001b[39;49m\u001b[43m_execute_context\u001b[49m\u001b[43m(\u001b[49m\n\u001b[1;32m   1499\u001b[0m \u001b[43m    \u001b[49m\u001b[43mdialect\u001b[49m\u001b[43m,\u001b[49m\n\u001b[1;32m   1500\u001b[0m \u001b[43m    \u001b[49m\u001b[43mdialect\u001b[49m\u001b[38;5;241;43m.\u001b[39;49m\u001b[43mexecution_ctx_cls\u001b[49m\u001b[38;5;241;43m.\u001b[39;49m\u001b[43m_init_compiled\u001b[49m\u001b[43m,\u001b[49m\n\u001b[1;32m   1501\u001b[0m \u001b[43m    \u001b[49m\u001b[43mcompiled_sql\u001b[49m\u001b[43m,\u001b[49m\n\u001b[1;32m   1502\u001b[0m \u001b[43m    \u001b[49m\u001b[43mdistilled_params\u001b[49m\u001b[43m,\u001b[49m\n\u001b[1;32m   1503\u001b[0m \u001b[43m    \u001b[49m\u001b[43mexecution_options\u001b[49m\u001b[43m,\u001b[49m\n\u001b[1;32m   1504\u001b[0m \u001b[43m    \u001b[49m\u001b[43mcompiled_sql\u001b[49m\u001b[43m,\u001b[49m\n\u001b[1;32m   1505\u001b[0m \u001b[43m    \u001b[49m\u001b[43mdistilled_params\u001b[49m\u001b[43m,\u001b[49m\n\u001b[1;32m   1506\u001b[0m \u001b[43m    \u001b[49m\u001b[43melem\u001b[49m\u001b[43m,\u001b[49m\n\u001b[1;32m   1507\u001b[0m \u001b[43m    \u001b[49m\u001b[43mextracted_params\u001b[49m\u001b[43m,\u001b[49m\n\u001b[1;32m   1508\u001b[0m \u001b[43m    \u001b[49m\u001b[43mcache_hit\u001b[49m\u001b[38;5;241;43m=\u001b[39;49m\u001b[43mcache_hit\u001b[49m\u001b[43m,\u001b[49m\n\u001b[1;32m   1509\u001b[0m \u001b[43m\u001b[49m\u001b[43m)\u001b[49m\n\u001b[1;32m   1510\u001b[0m \u001b[38;5;28;01mif\u001b[39;00m has_events:\n\u001b[1;32m   1511\u001b[0m     \u001b[38;5;28mself\u001b[39m\u001b[38;5;241m.\u001b[39mdispatch\u001b[38;5;241m.\u001b[39mafter_execute(\n\u001b[1;32m   1512\u001b[0m         \u001b[38;5;28mself\u001b[39m,\n\u001b[1;32m   1513\u001b[0m         elem,\n\u001b[0;32m   (...)\u001b[0m\n\u001b[1;32m   1517\u001b[0m         ret,\n\u001b[1;32m   1518\u001b[0m     )\n",
      "File \u001b[0;32m~/miniconda3/envs/RecSysFramework/lib/python3.8/site-packages/sqlalchemy/engine/base.py:1862\u001b[0m, in \u001b[0;36mConnection._execute_context\u001b[0;34m(self, dialect, constructor, statement, parameters, execution_options, *args, **kw)\u001b[0m\n\u001b[1;32m   1859\u001b[0m             branched\u001b[38;5;241m.\u001b[39mclose()\n\u001b[1;32m   1861\u001b[0m \u001b[38;5;28;01mexcept\u001b[39;00m \u001b[38;5;167;01mBaseException\u001b[39;00m \u001b[38;5;28;01mas\u001b[39;00m e:\n\u001b[0;32m-> 1862\u001b[0m     \u001b[38;5;28;43mself\u001b[39;49m\u001b[38;5;241;43m.\u001b[39;49m\u001b[43m_handle_dbapi_exception\u001b[49m\u001b[43m(\u001b[49m\n\u001b[1;32m   1863\u001b[0m \u001b[43m        \u001b[49m\u001b[43me\u001b[49m\u001b[43m,\u001b[49m\u001b[43m \u001b[49m\u001b[43mstatement\u001b[49m\u001b[43m,\u001b[49m\u001b[43m \u001b[49m\u001b[43mparameters\u001b[49m\u001b[43m,\u001b[49m\u001b[43m \u001b[49m\u001b[43mcursor\u001b[49m\u001b[43m,\u001b[49m\u001b[43m \u001b[49m\u001b[43mcontext\u001b[49m\n\u001b[1;32m   1864\u001b[0m \u001b[43m    \u001b[49m\u001b[43m)\u001b[49m\n\u001b[1;32m   1866\u001b[0m \u001b[38;5;28;01mreturn\u001b[39;00m result\n",
      "File \u001b[0;32m~/miniconda3/envs/RecSysFramework/lib/python3.8/site-packages/sqlalchemy/engine/base.py:2047\u001b[0m, in \u001b[0;36mConnection._handle_dbapi_exception\u001b[0;34m(self, e, statement, parameters, cursor, context)\u001b[0m\n\u001b[1;32m   2043\u001b[0m         util\u001b[38;5;241m.\u001b[39mraise_(\n\u001b[1;32m   2044\u001b[0m             sqlalchemy_exception, with_traceback\u001b[38;5;241m=\u001b[39mexc_info[\u001b[38;5;241m2\u001b[39m], from_\u001b[38;5;241m=\u001b[39me\n\u001b[1;32m   2045\u001b[0m         )\n\u001b[1;32m   2046\u001b[0m     \u001b[38;5;28;01melse\u001b[39;00m:\n\u001b[0;32m-> 2047\u001b[0m         \u001b[43mutil\u001b[49m\u001b[38;5;241;43m.\u001b[39;49m\u001b[43mraise_\u001b[49m\u001b[43m(\u001b[49m\u001b[43mexc_info\u001b[49m\u001b[43m[\u001b[49m\u001b[38;5;241;43m1\u001b[39;49m\u001b[43m]\u001b[49m\u001b[43m,\u001b[49m\u001b[43m \u001b[49m\u001b[43mwith_traceback\u001b[49m\u001b[38;5;241;43m=\u001b[39;49m\u001b[43mexc_info\u001b[49m\u001b[43m[\u001b[49m\u001b[38;5;241;43m2\u001b[39;49m\u001b[43m]\u001b[49m\u001b[43m)\u001b[49m\n\u001b[1;32m   2049\u001b[0m \u001b[38;5;28;01mfinally\u001b[39;00m:\n\u001b[1;32m   2050\u001b[0m     \u001b[38;5;28;01mdel\u001b[39;00m \u001b[38;5;28mself\u001b[39m\u001b[38;5;241m.\u001b[39m_reentrant_error\n",
      "File \u001b[0;32m~/miniconda3/envs/RecSysFramework/lib/python3.8/site-packages/sqlalchemy/util/compat.py:208\u001b[0m, in \u001b[0;36mraise_\u001b[0;34m(***failed resolving arguments***)\u001b[0m\n\u001b[1;32m    205\u001b[0m     exception\u001b[38;5;241m.\u001b[39m__cause__ \u001b[38;5;241m=\u001b[39m replace_context\n\u001b[1;32m    207\u001b[0m \u001b[38;5;28;01mtry\u001b[39;00m:\n\u001b[0;32m--> 208\u001b[0m     \u001b[38;5;28;01mraise\u001b[39;00m exception\n\u001b[1;32m    209\u001b[0m \u001b[38;5;28;01mfinally\u001b[39;00m:\n\u001b[1;32m    210\u001b[0m     \u001b[38;5;66;03m# credit to\u001b[39;00m\n\u001b[1;32m    211\u001b[0m     \u001b[38;5;66;03m# https://cosmicpercolator.com/2016/01/13/exception-leaks-in-python-2-and-3/\u001b[39;00m\n\u001b[1;32m    212\u001b[0m     \u001b[38;5;66;03m# as the __traceback__ object creates a cycle\u001b[39;00m\n\u001b[1;32m    213\u001b[0m     \u001b[38;5;28;01mdel\u001b[39;00m exception, replace_context, from_, with_traceback\n",
      "File \u001b[0;32m~/miniconda3/envs/RecSysFramework/lib/python3.8/site-packages/sqlalchemy/engine/base.py:1819\u001b[0m, in \u001b[0;36mConnection._execute_context\u001b[0;34m(self, dialect, constructor, statement, parameters, execution_options, *args, **kw)\u001b[0m\n\u001b[1;32m   1817\u001b[0m                 \u001b[38;5;28;01mbreak\u001b[39;00m\n\u001b[1;32m   1818\u001b[0m     \u001b[38;5;28;01mif\u001b[39;00m \u001b[38;5;129;01mnot\u001b[39;00m evt_handled:\n\u001b[0;32m-> 1819\u001b[0m         \u001b[38;5;28;43mself\u001b[39;49m\u001b[38;5;241;43m.\u001b[39;49m\u001b[43mdialect\u001b[49m\u001b[38;5;241;43m.\u001b[39;49m\u001b[43mdo_execute\u001b[49m\u001b[43m(\u001b[49m\n\u001b[1;32m   1820\u001b[0m \u001b[43m            \u001b[49m\u001b[43mcursor\u001b[49m\u001b[43m,\u001b[49m\u001b[43m \u001b[49m\u001b[43mstatement\u001b[49m\u001b[43m,\u001b[49m\u001b[43m \u001b[49m\u001b[43mparameters\u001b[49m\u001b[43m,\u001b[49m\u001b[43m \u001b[49m\u001b[43mcontext\u001b[49m\n\u001b[1;32m   1821\u001b[0m \u001b[43m        \u001b[49m\u001b[43m)\u001b[49m\n\u001b[1;32m   1823\u001b[0m \u001b[38;5;28;01mif\u001b[39;00m \u001b[38;5;28mself\u001b[39m\u001b[38;5;241m.\u001b[39m_has_events \u001b[38;5;129;01mor\u001b[39;00m \u001b[38;5;28mself\u001b[39m\u001b[38;5;241m.\u001b[39mengine\u001b[38;5;241m.\u001b[39m_has_events:\n\u001b[1;32m   1824\u001b[0m     \u001b[38;5;28mself\u001b[39m\u001b[38;5;241m.\u001b[39mdispatch\u001b[38;5;241m.\u001b[39mafter_cursor_execute(\n\u001b[1;32m   1825\u001b[0m         \u001b[38;5;28mself\u001b[39m,\n\u001b[1;32m   1826\u001b[0m         cursor,\n\u001b[0;32m   (...)\u001b[0m\n\u001b[1;32m   1830\u001b[0m         context\u001b[38;5;241m.\u001b[39mexecutemany,\n\u001b[1;32m   1831\u001b[0m     )\n",
      "File \u001b[0;32m~/miniconda3/envs/RecSysFramework/lib/python3.8/site-packages/sqlalchemy/engine/default.py:732\u001b[0m, in \u001b[0;36mDefaultDialect.do_execute\u001b[0;34m(self, cursor, statement, parameters, context)\u001b[0m\n\u001b[1;32m    731\u001b[0m \u001b[38;5;28;01mdef\u001b[39;00m \u001b[38;5;21mdo_execute\u001b[39m(\u001b[38;5;28mself\u001b[39m, cursor, statement, parameters, context\u001b[38;5;241m=\u001b[39m\u001b[38;5;28;01mNone\u001b[39;00m):\n\u001b[0;32m--> 732\u001b[0m     \u001b[43mcursor\u001b[49m\u001b[38;5;241;43m.\u001b[39;49m\u001b[43mexecute\u001b[49m\u001b[43m(\u001b[49m\u001b[43mstatement\u001b[49m\u001b[43m,\u001b[49m\u001b[43m \u001b[49m\u001b[43mparameters\u001b[49m\u001b[43m)\u001b[49m\n",
      "File \u001b[0;32m~/miniconda3/envs/RecSysFramework/lib/python3.8/site-packages/pymysql/cursors.py:153\u001b[0m, in \u001b[0;36mCursor.execute\u001b[0;34m(self, query, args)\u001b[0m\n\u001b[1;32m    149\u001b[0m     \u001b[38;5;28;01mpass\u001b[39;00m\n\u001b[1;32m    151\u001b[0m query \u001b[38;5;241m=\u001b[39m \u001b[38;5;28mself\u001b[39m\u001b[38;5;241m.\u001b[39mmogrify(query, args)\n\u001b[0;32m--> 153\u001b[0m result \u001b[38;5;241m=\u001b[39m \u001b[38;5;28;43mself\u001b[39;49m\u001b[38;5;241;43m.\u001b[39;49m\u001b[43m_query\u001b[49m\u001b[43m(\u001b[49m\u001b[43mquery\u001b[49m\u001b[43m)\u001b[49m\n\u001b[1;32m    154\u001b[0m \u001b[38;5;28mself\u001b[39m\u001b[38;5;241m.\u001b[39m_executed \u001b[38;5;241m=\u001b[39m query\n\u001b[1;32m    155\u001b[0m \u001b[38;5;28;01mreturn\u001b[39;00m result\n",
      "File \u001b[0;32m~/miniconda3/envs/RecSysFramework/lib/python3.8/site-packages/pymysql/cursors.py:322\u001b[0m, in \u001b[0;36mCursor._query\u001b[0;34m(self, q)\u001b[0m\n\u001b[1;32m    320\u001b[0m conn \u001b[38;5;241m=\u001b[39m \u001b[38;5;28mself\u001b[39m\u001b[38;5;241m.\u001b[39m_get_db()\n\u001b[1;32m    321\u001b[0m \u001b[38;5;28mself\u001b[39m\u001b[38;5;241m.\u001b[39m_clear_result()\n\u001b[0;32m--> 322\u001b[0m \u001b[43mconn\u001b[49m\u001b[38;5;241;43m.\u001b[39;49m\u001b[43mquery\u001b[49m\u001b[43m(\u001b[49m\u001b[43mq\u001b[49m\u001b[43m)\u001b[49m\n\u001b[1;32m    323\u001b[0m \u001b[38;5;28mself\u001b[39m\u001b[38;5;241m.\u001b[39m_do_get_result()\n\u001b[1;32m    324\u001b[0m \u001b[38;5;28;01mreturn\u001b[39;00m \u001b[38;5;28mself\u001b[39m\u001b[38;5;241m.\u001b[39mrowcount\n",
      "File \u001b[0;32m~/miniconda3/envs/RecSysFramework/lib/python3.8/site-packages/pymysql/connections.py:558\u001b[0m, in \u001b[0;36mConnection.query\u001b[0;34m(self, sql, unbuffered)\u001b[0m\n\u001b[1;32m    556\u001b[0m     sql \u001b[38;5;241m=\u001b[39m sql\u001b[38;5;241m.\u001b[39mencode(\u001b[38;5;28mself\u001b[39m\u001b[38;5;241m.\u001b[39mencoding, \u001b[38;5;124m\"\u001b[39m\u001b[38;5;124msurrogateescape\u001b[39m\u001b[38;5;124m\"\u001b[39m)\n\u001b[1;32m    557\u001b[0m \u001b[38;5;28mself\u001b[39m\u001b[38;5;241m.\u001b[39m_execute_command(COMMAND\u001b[38;5;241m.\u001b[39mCOM_QUERY, sql)\n\u001b[0;32m--> 558\u001b[0m \u001b[38;5;28mself\u001b[39m\u001b[38;5;241m.\u001b[39m_affected_rows \u001b[38;5;241m=\u001b[39m \u001b[38;5;28;43mself\u001b[39;49m\u001b[38;5;241;43m.\u001b[39;49m\u001b[43m_read_query_result\u001b[49m\u001b[43m(\u001b[49m\u001b[43munbuffered\u001b[49m\u001b[38;5;241;43m=\u001b[39;49m\u001b[43munbuffered\u001b[49m\u001b[43m)\u001b[49m\n\u001b[1;32m    559\u001b[0m \u001b[38;5;28;01mreturn\u001b[39;00m \u001b[38;5;28mself\u001b[39m\u001b[38;5;241m.\u001b[39m_affected_rows\n",
      "File \u001b[0;32m~/miniconda3/envs/RecSysFramework/lib/python3.8/site-packages/pymysql/connections.py:822\u001b[0m, in \u001b[0;36mConnection._read_query_result\u001b[0;34m(self, unbuffered)\u001b[0m\n\u001b[1;32m    820\u001b[0m \u001b[38;5;28;01melse\u001b[39;00m:\n\u001b[1;32m    821\u001b[0m     result \u001b[38;5;241m=\u001b[39m MySQLResult(\u001b[38;5;28mself\u001b[39m)\n\u001b[0;32m--> 822\u001b[0m     \u001b[43mresult\u001b[49m\u001b[38;5;241;43m.\u001b[39;49m\u001b[43mread\u001b[49m\u001b[43m(\u001b[49m\u001b[43m)\u001b[49m\n\u001b[1;32m    823\u001b[0m \u001b[38;5;28mself\u001b[39m\u001b[38;5;241m.\u001b[39m_result \u001b[38;5;241m=\u001b[39m result\n\u001b[1;32m    824\u001b[0m \u001b[38;5;28;01mif\u001b[39;00m result\u001b[38;5;241m.\u001b[39mserver_status \u001b[38;5;129;01mis\u001b[39;00m \u001b[38;5;129;01mnot\u001b[39;00m \u001b[38;5;28;01mNone\u001b[39;00m:\n",
      "File \u001b[0;32m~/miniconda3/envs/RecSysFramework/lib/python3.8/site-packages/pymysql/connections.py:1200\u001b[0m, in \u001b[0;36mMySQLResult.read\u001b[0;34m(self)\u001b[0m\n\u001b[1;32m   1198\u001b[0m \u001b[38;5;28;01mdef\u001b[39;00m \u001b[38;5;21mread\u001b[39m(\u001b[38;5;28mself\u001b[39m):\n\u001b[1;32m   1199\u001b[0m     \u001b[38;5;28;01mtry\u001b[39;00m:\n\u001b[0;32m-> 1200\u001b[0m         first_packet \u001b[38;5;241m=\u001b[39m \u001b[38;5;28;43mself\u001b[39;49m\u001b[38;5;241;43m.\u001b[39;49m\u001b[43mconnection\u001b[49m\u001b[38;5;241;43m.\u001b[39;49m\u001b[43m_read_packet\u001b[49m\u001b[43m(\u001b[49m\u001b[43m)\u001b[49m\n\u001b[1;32m   1202\u001b[0m         \u001b[38;5;28;01mif\u001b[39;00m first_packet\u001b[38;5;241m.\u001b[39mis_ok_packet():\n\u001b[1;32m   1203\u001b[0m             \u001b[38;5;28mself\u001b[39m\u001b[38;5;241m.\u001b[39m_read_ok_packet(first_packet)\n",
      "File \u001b[0;32m~/miniconda3/envs/RecSysFramework/lib/python3.8/site-packages/pymysql/connections.py:739\u001b[0m, in \u001b[0;36mConnection._read_packet\u001b[0;34m(self, packet_type)\u001b[0m\n\u001b[1;32m    737\u001b[0m buff \u001b[38;5;241m=\u001b[39m \u001b[38;5;28mbytearray\u001b[39m()\n\u001b[1;32m    738\u001b[0m \u001b[38;5;28;01mwhile\u001b[39;00m \u001b[38;5;28;01mTrue\u001b[39;00m:\n\u001b[0;32m--> 739\u001b[0m     packet_header \u001b[38;5;241m=\u001b[39m \u001b[38;5;28;43mself\u001b[39;49m\u001b[38;5;241;43m.\u001b[39;49m\u001b[43m_read_bytes\u001b[49m\u001b[43m(\u001b[49m\u001b[38;5;241;43m4\u001b[39;49m\u001b[43m)\u001b[49m\n\u001b[1;32m    740\u001b[0m     \u001b[38;5;66;03m# if DEBUG: dump_packet(packet_header)\u001b[39;00m\n\u001b[1;32m    742\u001b[0m     btrl, btrh, packet_number \u001b[38;5;241m=\u001b[39m struct\u001b[38;5;241m.\u001b[39munpack(\u001b[38;5;124m\"\u001b[39m\u001b[38;5;124m<HBB\u001b[39m\u001b[38;5;124m\"\u001b[39m, packet_header)\n",
      "File \u001b[0;32m~/miniconda3/envs/RecSysFramework/lib/python3.8/site-packages/pymysql/connections.py:779\u001b[0m, in \u001b[0;36mConnection._read_bytes\u001b[0;34m(self, num_bytes)\u001b[0m\n\u001b[1;32m    777\u001b[0m \u001b[38;5;28;01mwhile\u001b[39;00m \u001b[38;5;28;01mTrue\u001b[39;00m:\n\u001b[1;32m    778\u001b[0m     \u001b[38;5;28;01mtry\u001b[39;00m:\n\u001b[0;32m--> 779\u001b[0m         data \u001b[38;5;241m=\u001b[39m \u001b[38;5;28;43mself\u001b[39;49m\u001b[38;5;241;43m.\u001b[39;49m\u001b[43m_rfile\u001b[49m\u001b[38;5;241;43m.\u001b[39;49m\u001b[43mread\u001b[49m\u001b[43m(\u001b[49m\u001b[43mnum_bytes\u001b[49m\u001b[43m)\u001b[49m\n\u001b[1;32m    780\u001b[0m         \u001b[38;5;28;01mbreak\u001b[39;00m\n\u001b[1;32m    781\u001b[0m     \u001b[38;5;28;01mexcept\u001b[39;00m \u001b[38;5;167;01mOSError\u001b[39;00m \u001b[38;5;28;01mas\u001b[39;00m e:\n",
      "File \u001b[0;32m~/miniconda3/envs/RecSysFramework/lib/python3.8/socket.py:669\u001b[0m, in \u001b[0;36mSocketIO.readinto\u001b[0;34m(self, b)\u001b[0m\n\u001b[1;32m    667\u001b[0m \u001b[38;5;28;01mwhile\u001b[39;00m \u001b[38;5;28;01mTrue\u001b[39;00m:\n\u001b[1;32m    668\u001b[0m     \u001b[38;5;28;01mtry\u001b[39;00m:\n\u001b[0;32m--> 669\u001b[0m         \u001b[38;5;28;01mreturn\u001b[39;00m \u001b[38;5;28;43mself\u001b[39;49m\u001b[38;5;241;43m.\u001b[39;49m\u001b[43m_sock\u001b[49m\u001b[38;5;241;43m.\u001b[39;49m\u001b[43mrecv_into\u001b[49m\u001b[43m(\u001b[49m\u001b[43mb\u001b[49m\u001b[43m)\u001b[49m\n\u001b[1;32m    670\u001b[0m     \u001b[38;5;28;01mexcept\u001b[39;00m timeout:\n\u001b[1;32m    671\u001b[0m         \u001b[38;5;28mself\u001b[39m\u001b[38;5;241m.\u001b[39m_timeout_occurred \u001b[38;5;241m=\u001b[39m \u001b[38;5;28;01mTrue\u001b[39;00m\n",
      "\u001b[0;31mKeyboardInterrupt\u001b[0m: "
     ]
    }
   ],
   "source": [
    "best_MAP_test = 0\n",
    "\n",
    "for i in range(k_fold):\n",
    "    recommender = recommenderClass(urm_train[i])\n",
    "    recommender.fit(workers=8, **study.best_params)\n",
    "\n",
    "    result_dict, _ = evaluator_test[i].evaluateRecommender(recommender)\n",
    "\n",
    "    best_MAP_test += result_dict[metric_to_optimize].item()\n",
    "\n",
    "best_MAP_test /= k_fold\n",
    "best_MAP_test"
   ]
  },
  {
   "cell_type": "code",
   "execution_count": null,
   "metadata": {},
   "outputs": [
    {
     "name": "stdout",
     "output_type": "stream",
     "text": [
      "SLIMElasticNetRecommender: URM Detected 249 ( 2.0%) users with no interactions.\n",
      "SLIMElasticNetRecommender: URM Detected 113 ( 0.5%) items with no interactions.\n"
     ]
    },
    {
     "name": "stderr",
     "output_type": "stream",
     "text": [
      "100%|█████████▉| 22216/22222 [00:47<00:00, 472.17it/s]\n"
     ]
    },
    {
     "name": "stdout",
     "output_type": "stream",
     "text": [
      "EvaluatorHoldout: Processed 10492 (100.0%) in 5.18 sec. Users per second: 2027\n",
      "SLIMElasticNetRecommender: URM Detected 191 ( 1.5%) users with no interactions.\n",
      "SLIMElasticNetRecommender: URM Detected 101 ( 0.5%) items with no interactions.\n"
     ]
    },
    {
     "name": "stderr",
     "output_type": "stream",
     "text": [
      "100%|█████████▉| 22216/22222 [00:43<00:00, 506.13it/s]\n"
     ]
    },
    {
     "name": "stdout",
     "output_type": "stream",
     "text": [
      "EvaluatorHoldout: Processed 10461 (100.0%) in 4.85 sec. Users per second: 2157\n",
      "SLIMElasticNetRecommender: URM Detected 235 ( 1.9%) users with no interactions.\n",
      "SLIMElasticNetRecommender: URM Detected 105 ( 0.5%) items with no interactions.\n"
     ]
    },
    {
     "name": "stderr",
     "output_type": "stream",
     "text": [
      "100%|█████████▉| 22216/22222 [00:37<00:00, 588.43it/s]\n"
     ]
    },
    {
     "name": "stdout",
     "output_type": "stream",
     "text": [
      "EvaluatorHoldout: Processed 10481 (100.0%) in 3.92 sec. Users per second: 2671\n",
      "SLIMElasticNetRecommender: URM Detected 218 ( 1.7%) users with no interactions.\n",
      "SLIMElasticNetRecommender: URM Detected 112 ( 0.5%) items with no interactions.\n"
     ]
    },
    {
     "name": "stderr",
     "output_type": "stream",
     "text": [
      "100%|█████████▉| 22216/22222 [00:33<00:00, 656.45it/s]\n"
     ]
    },
    {
     "name": "stdout",
     "output_type": "stream",
     "text": [
      "EvaluatorHoldout: Processed 10506 (100.0%) in 4.04 sec. Users per second: 2601\n",
      "SLIMElasticNetRecommender: URM Detected 220 ( 1.7%) users with no interactions.\n",
      "SLIMElasticNetRecommender: URM Detected 134 ( 0.6%) items with no interactions.\n"
     ]
    },
    {
     "name": "stderr",
     "output_type": "stream",
     "text": [
      "100%|█████████▉| 22216/22222 [00:34<00:00, 651.68it/s]\n"
     ]
    },
    {
     "name": "stdout",
     "output_type": "stream",
     "text": [
      "EvaluatorHoldout: Processed 10489 (100.0%) in 4.06 sec. Users per second: 2584\n",
      "SLIMElasticNetRecommender: URM Detected 224 ( 1.8%) users with no interactions.\n",
      "SLIMElasticNetRecommender: URM Detected 109 ( 0.5%) items with no interactions.\n"
     ]
    },
    {
     "name": "stderr",
     "output_type": "stream",
     "text": [
      "100%|█████████▉| 22216/22222 [00:34<00:00, 637.81it/s]\n"
     ]
    },
    {
     "name": "stdout",
     "output_type": "stream",
     "text": [
      "EvaluatorHoldout: Processed 10509 (100.0%) in 3.86 sec. Users per second: 2721\n",
      "SLIMElasticNetRecommender: URM Detected 207 ( 1.6%) users with no interactions.\n",
      "SLIMElasticNetRecommender: URM Detected 114 ( 0.5%) items with no interactions.\n"
     ]
    },
    {
     "name": "stderr",
     "output_type": "stream",
     "text": [
      "100%|█████████▉| 22216/22222 [00:33<00:00, 653.46it/s]\n"
     ]
    },
    {
     "name": "stdout",
     "output_type": "stream",
     "text": [
      "EvaluatorHoldout: Processed 10410 (100.0%) in 3.98 sec. Users per second: 2617\n",
      "SLIMElasticNetRecommender: URM Detected 218 ( 1.7%) users with no interactions.\n",
      "SLIMElasticNetRecommender: URM Detected 141 ( 0.6%) items with no interactions.\n"
     ]
    },
    {
     "name": "stderr",
     "output_type": "stream",
     "text": [
      "100%|█████████▉| 22216/22222 [00:34<00:00, 642.92it/s]\n"
     ]
    },
    {
     "name": "stdout",
     "output_type": "stream",
     "text": [
      "EvaluatorHoldout: Processed 10455 (100.0%) in 3.88 sec. Users per second: 2696\n",
      "SLIMElasticNetRecommender: URM Detected 214 ( 1.7%) users with no interactions.\n",
      "SLIMElasticNetRecommender: URM Detected 117 ( 0.5%) items with no interactions.\n"
     ]
    },
    {
     "name": "stderr",
     "output_type": "stream",
     "text": [
      "100%|█████████▉| 22216/22222 [00:34<00:00, 648.77it/s]\n"
     ]
    },
    {
     "name": "stdout",
     "output_type": "stream",
     "text": [
      "EvaluatorHoldout: Processed 10498 (100.0%) in 3.95 sec. Users per second: 2658\n",
      "SLIMElasticNetRecommender: URM Detected 217 ( 1.7%) users with no interactions.\n",
      "SLIMElasticNetRecommender: URM Detected 113 ( 0.5%) items with no interactions.\n"
     ]
    },
    {
     "name": "stderr",
     "output_type": "stream",
     "text": [
      "100%|█████████▉| 22216/22222 [00:34<00:00, 640.60it/s]\n"
     ]
    },
    {
     "name": "stdout",
     "output_type": "stream",
     "text": [
      "EvaluatorHoldout: Processed 10451 (100.0%) in 3.83 sec. Users per second: 2726\n"
     ]
    },
    {
     "data": {
      "text/plain": [
       "0.04939886597488928"
      ]
     },
     "execution_count": 18,
     "metadata": {},
     "output_type": "execute_result"
    }
   ],
   "source": [
    "best_MAP_test = 0\n",
    "\n",
    "for i in range(k_fold):\n",
    "    recommender = recommenderClass(urm_train_validation[i])\n",
    "    recommender.fit(workers=8,**study.best_params)\n",
    "\n",
    "    result_dict, _ = evaluator_test[i].evaluateRecommender(recommender)\n",
    "\n",
    "    best_MAP_test += result_dict[metric_to_optimize].item()\n",
    "\n",
    "best_MAP_test /= k_fold\n",
    "best_MAP_test"
   ]
  }
 ],
 "metadata": {
  "kernelspec": {
   "display_name": "RecSysFramework",
   "language": "python",
   "name": "python3"
  },
  "language_info": {
   "codemirror_mode": {
    "name": "ipython",
    "version": 3
   },
   "file_extension": ".py",
   "mimetype": "text/x-python",
   "name": "python",
   "nbconvert_exporter": "python",
   "pygments_lexer": "ipython3",
   "version": "3.8.18"
  }
 },
 "nbformat": 4,
 "nbformat_minor": 2
}
