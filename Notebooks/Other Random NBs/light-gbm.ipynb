{
 "cells": [
  {
   "cell_type": "markdown",
   "id": "73faecb1",
   "metadata": {
    "_cell_guid": "b1076dfc-b9ad-4769-8c92-a6c4dae69d19",
    "_uuid": "8f2839f25d086af736a60e9eeb907d3b93b6e0e5",
    "papermill": {
     "duration": 0.025579,
     "end_time": "2023-01-15T16:31:49.740612",
     "exception": false,
     "start_time": "2023-01-15T16:31:49.715033",
     "status": "completed"
    },
    "tags": []
   },
   "source": [
    "# RECSYS COMPETITION - 1st place"
   ]
  },
  {
   "cell_type": "code",
   "execution_count": 3,
   "id": "29c542b6",
   "metadata": {
    "execution": {
     "iopub.execute_input": "2023-01-15T16:31:49.791670Z",
     "iopub.status.busy": "2023-01-15T16:31:49.791150Z",
     "iopub.status.idle": "2023-01-15T16:31:49.803729Z",
     "shell.execute_reply": "2023-01-15T16:31:49.802725Z"
    },
    "papermill": {
     "duration": 0.041105,
     "end_time": "2023-01-15T16:31:49.806567",
     "exception": false,
     "start_time": "2023-01-15T16:31:49.765462",
     "status": "completed"
    },
    "tags": []
   },
   "outputs": [],
   "source": [
    "LOAD_MODELS = False"
   ]
  },
  {
   "cell_type": "markdown",
   "id": "5d4527f5",
   "metadata": {
    "papermill": {
     "duration": 0.023892,
     "end_time": "2023-01-15T16:31:49.855045",
     "exception": false,
     "start_time": "2023-01-15T16:31:49.831153",
     "status": "completed"
    },
    "tags": []
   },
   "source": [
    "# Importing the repo"
   ]
  },
  {
   "cell_type": "code",
   "execution_count": 4,
   "id": "a9953018",
   "metadata": {
    "execution": {
     "iopub.execute_input": "2023-01-15T16:32:33.923857Z",
     "iopub.status.busy": "2023-01-15T16:32:33.923444Z",
     "iopub.status.idle": "2023-01-15T16:32:33.928317Z",
     "shell.execute_reply": "2023-01-15T16:32:33.927570Z"
    },
    "papermill": {
     "duration": 0.036311,
     "end_time": "2023-01-15T16:32:33.930055",
     "exception": false,
     "start_time": "2023-01-15T16:32:33.893744",
     "status": "completed"
    },
    "tags": []
   },
   "outputs": [],
   "source": [
    "import os\n",
    "\n",
    "os.chdir( \"../\")"
   ]
  },
  {
   "cell_type": "code",
   "execution_count": 5,
   "id": "7b4e327a",
   "metadata": {
    "execution": {
     "iopub.execute_input": "2023-01-15T16:34:49.706228Z",
     "iopub.status.busy": "2023-01-15T16:34:49.705788Z",
     "iopub.status.idle": "2023-01-15T16:34:56.122319Z",
     "shell.execute_reply": "2023-01-15T16:34:56.120769Z"
    },
    "papermill": {
     "duration": 6.452057,
     "end_time": "2023-01-15T16:34:56.124897",
     "exception": false,
     "start_time": "2023-01-15T16:34:49.672840",
     "status": "completed"
    },
    "tags": []
   },
   "outputs": [
    {
     "name": "stderr",
     "output_type": "stream",
     "text": [
      "2024-01-10 14:58:26.960025: W tensorflow/stream_executor/platform/default/dso_loader.cc:64] Could not load dynamic library 'libcudart.so.11.0'; dlerror: libcudart.so.11.0: cannot open shared object file: No such file or directory\n",
      "2024-01-10 14:58:26.960065: I tensorflow/stream_executor/cuda/cudart_stub.cc:29] Ignore above cudart dlerror if you do not have a GPU set up on your machine.\n"
     ]
    }
   ],
   "source": [
    "import numpy as np # linear algebra\n",
    "import pandas as pd # data processing, CSV file I/O (e.g. pd.read_csv)\n",
    "import scipy.sparse as sps\n",
    "import csv\n",
    "from tqdm import tqdm\n",
    "\n",
    "from Recommenders.Recommender_import_list import *"
   ]
  },
  {
   "cell_type": "markdown",
   "id": "ccaeb7fb",
   "metadata": {
    "papermill": {
     "duration": 0.030074,
     "end_time": "2023-01-15T16:34:56.185597",
     "exception": false,
     "start_time": "2023-01-15T16:34:56.155523",
     "status": "completed"
    },
    "tags": []
   },
   "source": [
    "## Data Import and Preprocessing"
   ]
  },
  {
   "cell_type": "markdown",
   "id": "8d501920",
   "metadata": {
    "papermill": {
     "duration": 0.030382,
     "end_time": "2023-01-15T16:34:56.246305",
     "exception": false,
     "start_time": "2023-01-15T16:34:56.215923",
     "status": "completed"
    },
    "tags": []
   },
   "source": [
    "Import dataframes"
   ]
  },
  {
   "cell_type": "code",
   "execution_count": 6,
   "id": "dc2997d7",
   "metadata": {
    "execution": {
     "iopub.execute_input": "2023-01-15T16:34:56.309304Z",
     "iopub.status.busy": "2023-01-15T16:34:56.308694Z",
     "iopub.status.idle": "2023-01-15T16:34:58.869985Z",
     "shell.execute_reply": "2023-01-15T16:34:58.869178Z"
    },
    "papermill": {
     "duration": 2.595927,
     "end_time": "2023-01-15T16:34:58.872486",
     "exception": false,
     "start_time": "2023-01-15T16:34:56.276559",
     "status": "completed"
    },
    "tags": []
   },
   "outputs": [],
   "source": [
    "data_train_path = \"Dataset/data_train.csv\"\n",
    "data_test_path = \"Dataset/data_target_users_test.csv\""
   ]
  },
  {
   "cell_type": "code",
   "execution_count": 7,
   "id": "572e4936",
   "metadata": {},
   "outputs": [],
   "source": [
    "df = pd.read_csv(data_train_path)\n",
    "df_test = pd.read_csv(data_test_path)\n",
    "\n",
    "df.columns = [\"UserID\", \"ItemID\", \"Interaction\"]\n",
    "df_test.columns = [\"UserID\"]"
   ]
  },
  {
   "cell_type": "code",
   "execution_count": 8,
   "id": "6a7e8383",
   "metadata": {},
   "outputs": [],
   "source": [
    "metric_to_optimize=\"MAP\"\n",
    "cutoff_to_optimize=10"
   ]
  },
  {
   "cell_type": "code",
   "execution_count": 9,
   "id": "0499b0e8",
   "metadata": {},
   "outputs": [
    {
     "name": "stdout",
     "output_type": "stream",
     "text": [
      "Number of users: 12638, Number of Items: 22222, Min rating: 0.0, Max rating: 1.0\n"
     ]
    }
   ],
   "source": [
    "user_ids = df[\"UserID\"].unique().tolist()\n",
    "user2user_encoded = {x: i for i, x in enumerate(user_ids)}\n",
    "userencoded2user = {i: x for i, x in enumerate(user_ids)}\n",
    "item_ids = df[\"ItemID\"].unique().tolist()\n",
    "item2item_encoded = {x: i for i, x in enumerate(item_ids)}\n",
    "item_encoded2item = {i: x for i, x in enumerate(item_ids)}\n",
    "df[\"User\"] = df[\"UserID\"].map(user2user_encoded)\n",
    "df[\"Item\"] = df[\"ItemID\"].map(item2item_encoded)\n",
    "\n",
    "num_users = len(user2user_encoded)\n",
    "num_items = len(item_encoded2item)\n",
    "df[\"Interaction\"] = df[\"Interaction\"].values.astype(np.float32)\n",
    "\n",
    "# min and max ratings will be used to normalize the ratings later\n",
    "min_rating = 0.0\n",
    "max_rating = max(df[\"Interaction\"])\n",
    "\n",
    "print(\n",
    "    \"Number of users: {}, Number of Items: {}, Min rating: {}, Max rating: {}\".format(\n",
    "        num_users, num_items, min_rating, max_rating\n",
    "    )\n",
    ")"
   ]
  },
  {
   "cell_type": "code",
   "execution_count": 10,
   "id": "5793300e",
   "metadata": {},
   "outputs": [],
   "source": [
    "userId_unique = df[\"UserID\"].unique()\n",
    "itemId_unique = df[\"ItemID\"].unique()"
   ]
  },
  {
   "cell_type": "code",
   "execution_count": 11,
   "id": "c5515ff4",
   "metadata": {
    "execution": {
     "iopub.execute_input": "2023-01-15T16:34:58.936957Z",
     "iopub.status.busy": "2023-01-15T16:34:58.936566Z",
     "iopub.status.idle": "2023-01-15T16:34:58.953863Z",
     "shell.execute_reply": "2023-01-15T16:34:58.952985Z"
    },
    "papermill": {
     "duration": 0.051403,
     "end_time": "2023-01-15T16:34:58.955828",
     "exception": false,
     "start_time": "2023-01-15T16:34:58.904425",
     "status": "completed"
    },
    "tags": []
   },
   "outputs": [
    {
     "name": "stdout",
     "output_type": "stream",
     "text": [
      "Warning: 226 (1.79 %) of 12638 users have no train items\n",
      "Warning: 2170 (17.17 %) of 12638 users have no sampled items\n",
      "Warning: 474 (3.75 %) of 12638 users have no train items\n",
      "Warning: 2665 (21.09 %) of 12638 users have no sampled items\n"
     ]
    }
   ],
   "source": [
    "from sklearn.model_selection import train_test_split\n",
    "from sklearn.model_selection import cross_val_score, KFold\n",
    "import numpy as np\n",
    "import scipy.sparse as sps\n",
    "from Data_manager.split_functions.split_train_validation_random_holdout import split_train_in_two_percentage_global_sample\n",
    "\n",
    "\n",
    "urm_all = sps.coo_matrix((df[\"Interaction\"].values, \n",
    "                          (df[\"User\"].values, df[\"Item\"].values)))\n",
    "\n",
    "\n",
    "urm_train_validation, urm_test = split_train_in_two_percentage_global_sample(urm_all, train_percentage = 0.80,seed=654)\n",
    "urm_train, urm_validation = split_train_in_two_percentage_global_sample(urm_train_validation, train_percentage = 0.80,seed=654)\n",
    "\n",
    "\n"
   ]
  },
  {
   "cell_type": "code",
   "execution_count": 12,
   "id": "907c07a7",
   "metadata": {
    "execution": {
     "iopub.execute_input": "2023-01-15T16:35:04.218141Z",
     "iopub.status.busy": "2023-01-15T16:35:04.217571Z",
     "iopub.status.idle": "2023-01-15T16:35:04.296274Z",
     "shell.execute_reply": "2023-01-15T16:35:04.294785Z"
    },
    "papermill": {
     "duration": 0.116501,
     "end_time": "2023-01-15T16:35:04.298717",
     "exception": false,
     "start_time": "2023-01-15T16:35:04.182216",
     "status": "completed"
    },
    "tags": []
   },
   "outputs": [
    {
     "name": "stdout",
     "output_type": "stream",
     "text": [
      "EvaluatorHoldout: Ignoring 2665 (21.1%) Users that have less than 1 test interactions\n",
      "EvaluatorHoldout: Ignoring 2170 (17.2%) Users that have less than 1 test interactions\n"
     ]
    }
   ],
   "source": [
    "from Evaluation.Evaluator import EvaluatorHoldout\n",
    "\n",
    "evaluator_validation = EvaluatorHoldout(urm_validation, cutoff_list=[10])\n",
    "evaluator_test = EvaluatorHoldout(urm_test, cutoff_list=[10])"
   ]
  },
  {
   "cell_type": "markdown",
   "id": "b7271b4e",
   "metadata": {
    "papermill": {
     "duration": 0.034147,
     "end_time": "2023-01-15T16:35:04.433531",
     "exception": false,
     "start_time": "2023-01-15T16:35:04.399384",
     "status": "completed"
    },
    "tags": []
   },
   "source": [
    "# Models"
   ]
  },
  {
   "cell_type": "markdown",
   "id": "1cebc341",
   "metadata": {
    "execution": {
     "iopub.execute_input": "2023-01-14T10:49:47.342107Z",
     "iopub.status.busy": "2023-01-14T10:49:47.341622Z",
     "iopub.status.idle": "2023-01-14T10:49:47.349971Z",
     "shell.execute_reply": "2023-01-14T10:49:47.348176Z",
     "shell.execute_reply.started": "2023-01-14T10:49:47.342068Z"
    },
    "papermill": {
     "duration": 0.036936,
     "end_time": "2023-01-15T17:29:36.022299",
     "exception": false,
     "start_time": "2023-01-15T17:29:35.985363",
     "status": "completed"
    },
    "tags": []
   },
   "source": [
    "Fitting the hybrid"
   ]
  },
  {
   "cell_type": "code",
   "execution_count": 13,
   "id": "b344ef80",
   "metadata": {},
   "outputs": [],
   "source": [
    "from Recommenders.SLIM.SLIMElasticNetRecommender import MultiThreadSLIM_SLIMElasticNetRecommender"
   ]
  },
  {
   "cell_type": "code",
   "execution_count": 14,
   "id": "35e03dd3",
   "metadata": {
    "execution": {
     "iopub.execute_input": "2023-01-15T17:29:36.099624Z",
     "iopub.status.busy": "2023-01-15T17:29:36.099275Z",
     "iopub.status.idle": "2023-01-15T17:29:36.140291Z",
     "shell.execute_reply": "2023-01-15T17:29:36.138934Z"
    },
    "papermill": {
     "duration": 0.083436,
     "end_time": "2023-01-15T17:29:36.142897",
     "exception": false,
     "start_time": "2023-01-15T17:29:36.059461",
     "status": "completed"
    },
    "tags": []
   },
   "outputs": [
    {
     "name": "stdout",
     "output_type": "stream",
     "text": [
      "SLIMElasticNetRecommender: URM Detected 226 ( 1.8%) users with no interactions.\n",
      "SLIMElasticNetRecommender: URM Detected 114 ( 0.5%) items with no interactions.\n"
     ]
    },
    {
     "name": "stderr",
     "output_type": "stream",
     "text": [
      "  0%|          | 0/22222 [00:00<?, ?it/s]"
     ]
    },
    {
     "name": "stderr",
     "output_type": "stream",
     "text": [
      "100%|█████████▉| 22216/22222 [00:55<00:00, 401.04it/s]\n"
     ]
    }
   ],
   "source": [
    "slimen4rec = MultiThreadSLIM_SLIMElasticNetRecommender(urm_train_validation)\n",
    "slimen4rec.fit(workers=8, **{'alpha': 0.005845967797646911, 'l1_ratio': 0.00013811515012747763, 'topK': 1610})\n"
   ]
  },
  {
   "cell_type": "code",
   "execution_count": 15,
   "id": "33d84569",
   "metadata": {},
   "outputs": [
    {
     "name": "stdout",
     "output_type": "stream",
     "text": [
      "RP3betaRecommender: URM Detected 226 ( 1.8%) users with no interactions.\n",
      "RP3betaRecommender: URM Detected 114 ( 0.5%) items with no interactions.\n",
      "RP3betaRecommender: Similarity column 22222 (100.0%), 5388.50 column/sec. Elapsed time 4.12 sec\n"
     ]
    }
   ],
   "source": [
    "rp34rec = RP3betaRecommender(urm_train_validation)\n",
    "rp34rec.fit(**{'topK': 122, 'alpha': 0.2522633066202722, 'beta': 0.19615409165027764})"
   ]
  },
  {
   "cell_type": "code",
   "execution_count": 16,
   "id": "feca7190",
   "metadata": {},
   "outputs": [
    {
     "name": "stdout",
     "output_type": "stream",
     "text": [
      "ItemKNNSimilarityHybridRecommender: URM Detected 226 ( 1.8%) users with no interactions.\n",
      "ItemKNNSimilarityHybridRecommender: URM Detected 114 ( 0.5%) items with no interactions.\n"
     ]
    }
   ],
   "source": [
    "from Recommenders.KNN.ItemKNNSimilarityHybridRecommender import ItemKNNSimilarityHybridRecommender\n",
    "\n",
    "\n",
    "hybrid4gb = ItemKNNSimilarityHybridRecommender(urm_train_validation, slimen4rec.W_sparse, rp34rec.W_sparse)\n",
    "hybrid4gb.fit(**{'alpha': 0.2312897980071662, 'topK': 8210})"
   ]
  },
  {
   "cell_type": "code",
   "execution_count": 21,
   "id": "9e873d31",
   "metadata": {},
   "outputs": [
    {
     "name": "stdout",
     "output_type": "stream",
     "text": [
      "SLIMElasticNetRecommender: URM Detected 474 ( 3.8%) users with no interactions.\n",
      "SLIMElasticNetRecommender: URM Detected 340 ( 1.5%) items with no interactions.\n"
     ]
    },
    {
     "name": "stderr",
     "output_type": "stream",
     "text": [
      "100%|█████████▉| 22216/22222 [00:51<00:00, 427.42it/s]\n"
     ]
    }
   ],
   "source": [
    "slimen4recTrain = MultiThreadSLIM_SLIMElasticNetRecommender(urm_train)\n",
    "slimen4recTrain.fit(workers=8, **{'alpha': 0.005845967797646911, 'l1_ratio': 0.00013811515012747763, 'topK': 1610})\n"
   ]
  },
  {
   "cell_type": "code",
   "execution_count": 22,
   "id": "74e48dd1",
   "metadata": {},
   "outputs": [
    {
     "name": "stdout",
     "output_type": "stream",
     "text": [
      "RP3betaRecommender: URM Detected 474 ( 3.8%) users with no interactions.\n",
      "RP3betaRecommender: URM Detected 340 ( 1.5%) items with no interactions.\n",
      "RP3betaRecommender: Similarity column 22222 (100.0%), 6994.17 column/sec. Elapsed time 3.18 sec\n"
     ]
    }
   ],
   "source": [
    "rp34recTrain = RP3betaRecommender(urm_train)\n",
    "rp34recTrain.fit(**{'topK': 122, 'alpha': 0.2522633066202722, 'beta': 0.19615409165027764})"
   ]
  },
  {
   "cell_type": "code",
   "execution_count": 24,
   "id": "a2a5516b",
   "metadata": {},
   "outputs": [
    {
     "name": "stdout",
     "output_type": "stream",
     "text": [
      "ItemKNNSimilarityHybridRecommender: URM Detected 474 ( 3.8%) users with no interactions.\n",
      "ItemKNNSimilarityHybridRecommender: URM Detected 340 ( 1.5%) items with no interactions.\n"
     ]
    }
   ],
   "source": [
    "from Recommenders.KNN.ItemKNNSimilarityHybridRecommender import ItemKNNSimilarityHybridRecommender\n",
    "\n",
    "\n",
    "hybrid4gbTrain = ItemKNNSimilarityHybridRecommender(urm_train, slimen4recTrain.W_sparse, rp34recTrain.W_sparse)\n",
    "hybrid4gbTrain.fit(**{'alpha': 0.2312897980071662, 'topK': 8210})"
   ]
  },
  {
   "cell_type": "markdown",
   "id": "889cf35f",
   "metadata": {
    "papermill": {
     "duration": 0.162641,
     "end_time": "2023-01-15T17:33:24.706925",
     "exception": false,
     "start_time": "2023-01-15T17:33:24.544284",
     "status": "completed"
    },
    "tags": []
   },
   "source": [
    "## XGBoost"
   ]
  },
  {
   "cell_type": "code",
   "execution_count": 74,
   "id": "f65e3aaf",
   "metadata": {
    "execution": {
     "iopub.execute_input": "2023-01-15T17:33:25.031158Z",
     "iopub.status.busy": "2023-01-15T17:33:25.030718Z",
     "iopub.status.idle": "2023-01-15T17:33:25.037444Z",
     "shell.execute_reply": "2023-01-15T17:33:25.035888Z"
    },
    "papermill": {
     "duration": 0.171975,
     "end_time": "2023-01-15T17:33:25.040610",
     "exception": false,
     "start_time": "2023-01-15T17:33:24.868635",
     "status": "completed"
    },
    "tags": []
   },
   "outputs": [],
   "source": [
    "import pandas as pd\n",
    "import scipy.sparse as sps\n",
    "import numpy as np"
   ]
  },
  {
   "cell_type": "markdown",
   "id": "987d3c69",
   "metadata": {
    "papermill": {
     "duration": 0.227782,
     "end_time": "2023-01-15T18:06:58.808498",
     "exception": false,
     "start_time": "2023-01-15T18:06:58.580716",
     "status": "completed"
    },
    "tags": []
   },
   "source": [
    "### First, we prepare the df for the training"
   ]
  },
  {
   "cell_type": "code",
   "execution_count": 75,
   "id": "e38eb1b1",
   "metadata": {
    "execution": {
     "iopub.execute_input": "2023-01-15T18:06:59.124296Z",
     "iopub.status.busy": "2023-01-15T18:06:59.123885Z",
     "iopub.status.idle": "2023-01-15T18:06:59.128985Z",
     "shell.execute_reply": "2023-01-15T18:06:59.127913Z"
    },
    "papermill": {
     "duration": 0.165348,
     "end_time": "2023-01-15T18:06:59.130839",
     "exception": false,
     "start_time": "2023-01-15T18:06:58.965491",
     "status": "completed"
    },
    "tags": []
   },
   "outputs": [],
   "source": [
    "cutoff = 20"
   ]
  },
  {
   "cell_type": "code",
   "execution_count": 76,
   "id": "e22a44ad",
   "metadata": {
    "execution": {
     "iopub.execute_input": "2023-01-15T18:06:59.447739Z",
     "iopub.status.busy": "2023-01-15T18:06:59.447403Z",
     "iopub.status.idle": "2023-01-15T18:06:59.466593Z",
     "shell.execute_reply": "2023-01-15T18:06:59.464916Z"
    },
    "papermill": {
     "duration": 0.180892,
     "end_time": "2023-01-15T18:06:59.469516",
     "exception": false,
     "start_time": "2023-01-15T18:06:59.288624",
     "status": "completed"
    },
    "tags": []
   },
   "outputs": [],
   "source": [
    "n_users, n_items = urm_train.shape\n",
    "\n",
    "training_dataframe = pd.DataFrame(index=range(0,n_users), columns = [\"ItemID\"])\n",
    "training_dataframe.index.name='UserID'\n",
    "\n",
    "candidate_generator_recommender = hybrid4gb"
   ]
  },
  {
   "cell_type": "code",
   "execution_count": 77,
   "id": "707a055e",
   "metadata": {
    "execution": {
     "iopub.execute_input": "2023-01-15T18:06:59.788995Z",
     "iopub.status.busy": "2023-01-15T18:06:59.787313Z",
     "iopub.status.idle": "2023-01-15T18:08:37.680643Z",
     "shell.execute_reply": "2023-01-15T18:08:37.679221Z"
    },
    "papermill": {
     "duration": 98.055345,
     "end_time": "2023-01-15T18:08:37.683660",
     "exception": false,
     "start_time": "2023-01-15T18:06:59.628315",
     "status": "completed"
    },
    "tags": []
   },
   "outputs": [
    {
     "name": "stderr",
     "output_type": "stream",
     "text": [
      "100%|██████████| 12638/12638 [00:06<00:00, 2013.84it/s]\n"
     ]
    }
   ],
   "source": [
    "for user_id in tqdm(range(n_users)):    \n",
    "    recommendations = candidate_generator_recommender.recommend(user_id, cutoff = cutoff)\n",
    "    training_dataframe.loc[user_id, \"ItemID\"] = recommendations\n",
    "\n",
    "training_dataframe = training_dataframe.explode(\"ItemID\")"
   ]
  },
  {
   "cell_type": "code",
   "execution_count": 78,
   "id": "b2259a3e",
   "metadata": {
    "execution": {
     "iopub.execute_input": "2023-01-15T18:08:38.115106Z",
     "iopub.status.busy": "2023-01-15T18:08:38.113576Z",
     "iopub.status.idle": "2023-01-15T18:08:39.119013Z",
     "shell.execute_reply": "2023-01-15T18:08:39.117734Z"
    },
    "papermill": {
     "duration": 1.21552,
     "end_time": "2023-01-15T18:08:39.120943",
     "exception": false,
     "start_time": "2023-01-15T18:08:37.905423",
     "status": "completed"
    },
    "tags": []
   },
   "outputs": [
    {
     "data": {
      "text/html": [
       "<div>\n",
       "<style scoped>\n",
       "    .dataframe tbody tr th:only-of-type {\n",
       "        vertical-align: middle;\n",
       "    }\n",
       "\n",
       "    .dataframe tbody tr th {\n",
       "        vertical-align: top;\n",
       "    }\n",
       "\n",
       "    .dataframe thead th {\n",
       "        text-align: right;\n",
       "    }\n",
       "</style>\n",
       "<table border=\"1\" class=\"dataframe\">\n",
       "  <thead>\n",
       "    <tr style=\"text-align: right;\">\n",
       "      <th></th>\n",
       "      <th>UserID</th>\n",
       "      <th>ItemID</th>\n",
       "      <th>Label</th>\n",
       "    </tr>\n",
       "  </thead>\n",
       "  <tbody>\n",
       "    <tr>\n",
       "      <th>0</th>\n",
       "      <td>0</td>\n",
       "      <td>674</td>\n",
       "      <td>False</td>\n",
       "    </tr>\n",
       "    <tr>\n",
       "      <th>1</th>\n",
       "      <td>0</td>\n",
       "      <td>587</td>\n",
       "      <td>False</td>\n",
       "    </tr>\n",
       "    <tr>\n",
       "      <th>2</th>\n",
       "      <td>0</td>\n",
       "      <td>1118</td>\n",
       "      <td>False</td>\n",
       "    </tr>\n",
       "    <tr>\n",
       "      <th>3</th>\n",
       "      <td>0</td>\n",
       "      <td>1585</td>\n",
       "      <td>False</td>\n",
       "    </tr>\n",
       "    <tr>\n",
       "      <th>4</th>\n",
       "      <td>0</td>\n",
       "      <td>2755</td>\n",
       "      <td>False</td>\n",
       "    </tr>\n",
       "    <tr>\n",
       "      <th>...</th>\n",
       "      <td>...</td>\n",
       "      <td>...</td>\n",
       "      <td>...</td>\n",
       "    </tr>\n",
       "    <tr>\n",
       "      <th>252755</th>\n",
       "      <td>12637</td>\n",
       "      <td>13158</td>\n",
       "      <td>False</td>\n",
       "    </tr>\n",
       "    <tr>\n",
       "      <th>252756</th>\n",
       "      <td>12637</td>\n",
       "      <td>10905</td>\n",
       "      <td>False</td>\n",
       "    </tr>\n",
       "    <tr>\n",
       "      <th>252757</th>\n",
       "      <td>12637</td>\n",
       "      <td>689</td>\n",
       "      <td>False</td>\n",
       "    </tr>\n",
       "    <tr>\n",
       "      <th>252758</th>\n",
       "      <td>12637</td>\n",
       "      <td>327</td>\n",
       "      <td>False</td>\n",
       "    </tr>\n",
       "    <tr>\n",
       "      <th>252759</th>\n",
       "      <td>12637</td>\n",
       "      <td>13252</td>\n",
       "      <td>False</td>\n",
       "    </tr>\n",
       "  </tbody>\n",
       "</table>\n",
       "<p>252760 rows × 3 columns</p>\n",
       "</div>"
      ],
      "text/plain": [
       "        UserID ItemID  Label\n",
       "0            0    674  False\n",
       "1            0    587  False\n",
       "2            0   1118  False\n",
       "3            0   1585  False\n",
       "4            0   2755  False\n",
       "...        ...    ...    ...\n",
       "252755   12637  13158  False\n",
       "252756   12637  10905  False\n",
       "252757   12637    689  False\n",
       "252758   12637    327  False\n",
       "252759   12637  13252  False\n",
       "\n",
       "[252760 rows x 3 columns]"
      ]
     },
     "execution_count": 78,
     "metadata": {},
     "output_type": "execute_result"
    }
   ],
   "source": [
    "urm_validation_coo = sps.coo_matrix(urm_test)\n",
    "\n",
    "correct_recommendations = pd.DataFrame({\"UserID\": urm_validation_coo.row,\n",
    "                                        \"ItemID\": urm_validation_coo.col})\n",
    "\n",
    "training_dataframe = pd.merge(training_dataframe, correct_recommendations, on=['UserID','ItemID'], how='left', indicator='Exist')\n",
    "\n",
    "training_dataframe[\"Label\"] = training_dataframe[\"Exist\"] == \"both\"\n",
    "training_dataframe.drop(columns = ['Exist'], inplace=True)\n",
    "training_dataframe"
   ]
  },
  {
   "cell_type": "code",
   "execution_count": 79,
   "id": "22ddf0ea",
   "metadata": {},
   "outputs": [
    {
     "name": "stdout",
     "output_type": "stream",
     "text": [
      "SLIMElasticNetRecommender: URM Detected 226 ( 1.8%) users with no interactions.\n",
      "SLIMElasticNetRecommender: URM Detected 114 ( 0.5%) items with no interactions.\n"
     ]
    },
    {
     "name": "stderr",
     "output_type": "stream",
     "text": [
      "100%|█████████▉| 22216/22222 [00:39<00:00, 562.50it/s]\n"
     ]
    },
    {
     "name": "stdout",
     "output_type": "stream",
     "text": [
      "RP3betaRecommender: URM Detected 226 ( 1.8%) users with no interactions.\n",
      "RP3betaRecommender: URM Detected 114 ( 0.5%) items with no interactions.\n",
      "RP3betaRecommender: Similarity column 22222 (100.0%), 7500.52 column/sec. Elapsed time 2.96 sec\n",
      "ItemKNNCFRecommender: URM Detected 226 ( 1.8%) users with no interactions.\n",
      "ItemKNNCFRecommender: URM Detected 114 ( 0.5%) items with no interactions.\n",
      "Similarity column 22222 (100.0%), 11826.09 column/sec. Elapsed time 1.88 sec\n"
     ]
    }
   ],
   "source": [
    "slimen4map = MultiThreadSLIM_SLIMElasticNetRecommender(urm_train_validation)\n",
    "slimen4map.fit(workers=8,**{'alpha':0.0008361537677496276,'topK':3334, 'l1_ratio':0.09976758088492818})\n",
    "\n",
    "rp34map = RP3betaRecommender(urm_train_validation)\n",
    "rp34map.fit(**{'topK': 29, 'alpha': 0.33723025040409343, 'beta': 0.15542352567862933, 'normalize_similarity': True})\n",
    "\n",
    "itemknn4map = ItemKNNCFRecommender(urm_train_validation)\n",
    "itemknn4map.fit(**{'topK': 19, 'shrink': 28, 'similarity': 'tversky', 'normalize': True, 'tversky_alpha': 0.0, 'tversky_beta': 1.3672226785339947})\n",
    "\n",
    "hybrid4map = ItemKNNSimilarityHybridRecommender(urm_train_validation, rp34map.W_sparse, slimen4map.W_sparse)\n",
    "hybrid4map.fit(**{'topK': 1000, 'alpha': 0.484326762079027})\n",
    "\n",
    "\n"
   ]
  },
  {
   "cell_type": "markdown",
   "id": "ed263d68",
   "metadata": {
    "papermill": {
     "duration": 0.209764,
     "end_time": "2023-01-15T18:08:39.607100",
     "exception": false,
     "start_time": "2023-01-15T18:08:39.397336",
     "status": "completed"
    },
    "tags": []
   },
   "source": [
    "**We add features to the df:**\n",
    "- first we train some models\n",
    "- then we add their computed scores to the XGB Train Df"
   ]
  },
  {
   "cell_type": "code",
   "execution_count": 80,
   "id": "bc34aa4f",
   "metadata": {},
   "outputs": [
    {
     "name": "stdout",
     "output_type": "stream",
     "text": [
      "ItemKNNSimilarityHybridRecommender: URM Detected 226 ( 1.8%) users with no interactions.\n",
      "ItemKNNSimilarityHybridRecommender: URM Detected 114 ( 0.5%) items with no interactions.\n"
     ]
    }
   ],
   "source": [
    "hybrid4map = ItemKNNSimilarityHybridRecommender(urm_train_validation, rp34map.W_sparse, slimen4map.W_sparse)\n",
    "hybrid4map.fit(**{'topK': 1000, 'alpha': 0.484326762079027})"
   ]
  },
  {
   "cell_type": "code",
   "execution_count": 81,
   "id": "86b9cfc2",
   "metadata": {
    "execution": {
     "iopub.execute_input": "2023-01-15T18:08:40.024092Z",
     "iopub.status.busy": "2023-01-15T18:08:40.023365Z",
     "iopub.status.idle": "2023-01-15T18:09:32.148175Z",
     "shell.execute_reply": "2023-01-15T18:09:32.146283Z"
    },
    "papermill": {
     "duration": 52.335582,
     "end_time": "2023-01-15T18:09:32.150970",
     "exception": false,
     "start_time": "2023-01-15T18:08:39.815388",
     "status": "completed"
    },
    "tags": []
   },
   "outputs": [
    {
     "name": "stdout",
     "output_type": "stream",
     "text": [
      "ImplicitALSRecommender: URM Detected 226 ( 1.8%) users with no interactions.\n",
      "ImplicitALSRecommender: URM Detected 114 ( 0.5%) items with no interactions.\n",
      "Using gpu: True\n"
     ]
    },
    {
     "data": {
      "application/vnd.jupyter.widget-view+json": {
       "model_id": "cc22dc5d27864b5f8e16332a9cd93a0b",
       "version_major": 2,
       "version_minor": 0
      },
      "text/plain": [
       "  0%|          | 0/1204 [00:00<?, ?it/s]"
      ]
     },
     "metadata": {},
     "output_type": "display_data"
    },
    {
     "name": "stdout",
     "output_type": "stream",
     "text": [
      "P3alphaRecommender: URM Detected 226 ( 1.8%) users with no interactions.\n",
      "P3alphaRecommender: URM Detected 114 ( 0.5%) items with no interactions.\n",
      "P3alphaRecommender: Similarity column 22222 (100.0%), 8276.53 column/sec. Elapsed time 2.68 sec\n"
     ]
    }
   ],
   "source": [
    "from Recommenders.MatrixFactorization.ImplicitIALSRecommender import ImplicitALSRecommender\n",
    "\n",
    "\n",
    "ials_train = ImplicitALSRecommender(urm_train_validation)\n",
    "ials_train.fit(use_gpu=True, num_threads=1,**{'num_factors': 401, 'reg': 0.0010579931024405477,'epsilon':0.10666578585393433, 'epochs':1204, 'alpha': 7.139858098793055, 'confidence_scaling': 'linear'})\n",
    "\n",
    "P3Alpha_train = P3alphaRecommender(urm_train_validation)\n",
    "P3Alpha_train.fit(**{'alpha':0.740243876372529,'topK':41})\n",
    "\n",
    "other_algorithms = {\n",
    "    \"Hybrid\": hybrid4map,\n",
    "    \"SLIM_Elastic\": slimen4map,\n",
    "    \"RP3Beta\": rp34map,\n",
    "    \"ItemKNN_CFCBF\": itemknn4map,\n",
    "    \"IALS\": ials_train,\n",
    "    \"P3Alpha\": P3Alpha_train,\n",
    "}"
   ]
  },
  {
   "cell_type": "code",
   "execution_count": 82,
   "id": "fdbed406",
   "metadata": {
    "execution": {
     "iopub.execute_input": "2023-01-15T18:09:32.610811Z",
     "iopub.status.busy": "2023-01-15T18:09:32.609804Z",
     "iopub.status.idle": "2023-01-15T18:22:27.719660Z",
     "shell.execute_reply": "2023-01-15T18:22:27.718529Z"
    },
    "papermill": {
     "duration": 775.323775,
     "end_time": "2023-01-15T18:22:27.722097",
     "exception": false,
     "start_time": "2023-01-15T18:09:32.398322",
     "status": "completed"
    },
    "tags": []
   },
   "outputs": [
    {
     "name": "stderr",
     "output_type": "stream",
     "text": [
      "100%|██████████| 12638/12638 [01:16<00:00, 165.51it/s]\n"
     ]
    },
    {
     "data": {
      "text/html": [
       "<div>\n",
       "<style scoped>\n",
       "    .dataframe tbody tr th:only-of-type {\n",
       "        vertical-align: middle;\n",
       "    }\n",
       "\n",
       "    .dataframe tbody tr th {\n",
       "        vertical-align: top;\n",
       "    }\n",
       "\n",
       "    .dataframe thead th {\n",
       "        text-align: right;\n",
       "    }\n",
       "</style>\n",
       "<table border=\"1\" class=\"dataframe\">\n",
       "  <thead>\n",
       "    <tr style=\"text-align: right;\">\n",
       "      <th></th>\n",
       "      <th>UserID</th>\n",
       "      <th>ItemID</th>\n",
       "      <th>Label</th>\n",
       "      <th>Hybrid</th>\n",
       "      <th>SLIM_Elastic</th>\n",
       "      <th>RP3Beta</th>\n",
       "      <th>ItemKNN_CFCBF</th>\n",
       "      <th>IALS</th>\n",
       "      <th>P3Alpha</th>\n",
       "    </tr>\n",
       "  </thead>\n",
       "  <tbody>\n",
       "    <tr>\n",
       "      <th>0</th>\n",
       "      <td>0</td>\n",
       "      <td>674</td>\n",
       "      <td>False</td>\n",
       "      <td>0.435069</td>\n",
       "      <td>0.419055</td>\n",
       "      <td>0.452120</td>\n",
       "      <td>1.289657</td>\n",
       "      <td>0.500047</td>\n",
       "      <td>0.247149</td>\n",
       "    </tr>\n",
       "    <tr>\n",
       "      <th>1</th>\n",
       "      <td>0</td>\n",
       "      <td>587</td>\n",
       "      <td>False</td>\n",
       "      <td>0.274445</td>\n",
       "      <td>0.272682</td>\n",
       "      <td>0.276323</td>\n",
       "      <td>0.875749</td>\n",
       "      <td>0.283056</td>\n",
       "      <td>0.177016</td>\n",
       "    </tr>\n",
       "    <tr>\n",
       "      <th>2</th>\n",
       "      <td>0</td>\n",
       "      <td>1118</td>\n",
       "      <td>False</td>\n",
       "      <td>0.126080</td>\n",
       "      <td>0.153830</td>\n",
       "      <td>0.096535</td>\n",
       "      <td>0.392503</td>\n",
       "      <td>0.536363</td>\n",
       "      <td>0.000000</td>\n",
       "    </tr>\n",
       "    <tr>\n",
       "      <th>3</th>\n",
       "      <td>0</td>\n",
       "      <td>1585</td>\n",
       "      <td>False</td>\n",
       "      <td>0.183817</td>\n",
       "      <td>0.201476</td>\n",
       "      <td>0.165015</td>\n",
       "      <td>0.328523</td>\n",
       "      <td>0.546714</td>\n",
       "      <td>0.059414</td>\n",
       "    </tr>\n",
       "    <tr>\n",
       "      <th>4</th>\n",
       "      <td>0</td>\n",
       "      <td>2755</td>\n",
       "      <td>False</td>\n",
       "      <td>0.210559</td>\n",
       "      <td>0.259410</td>\n",
       "      <td>0.158546</td>\n",
       "      <td>0.414893</td>\n",
       "      <td>0.401523</td>\n",
       "      <td>0.166751</td>\n",
       "    </tr>\n",
       "    <tr>\n",
       "      <th>...</th>\n",
       "      <td>...</td>\n",
       "      <td>...</td>\n",
       "      <td>...</td>\n",
       "      <td>...</td>\n",
       "      <td>...</td>\n",
       "      <td>...</td>\n",
       "      <td>...</td>\n",
       "      <td>...</td>\n",
       "      <td>...</td>\n",
       "    </tr>\n",
       "    <tr>\n",
       "      <th>252755</th>\n",
       "      <td>12637</td>\n",
       "      <td>13158</td>\n",
       "      <td>False</td>\n",
       "      <td>0.152550</td>\n",
       "      <td>0.145756</td>\n",
       "      <td>0.159784</td>\n",
       "      <td>0.778349</td>\n",
       "      <td>0.484064</td>\n",
       "      <td>0.112864</td>\n",
       "    </tr>\n",
       "    <tr>\n",
       "      <th>252756</th>\n",
       "      <td>12637</td>\n",
       "      <td>10905</td>\n",
       "      <td>False</td>\n",
       "      <td>0.145934</td>\n",
       "      <td>0.109031</td>\n",
       "      <td>0.185226</td>\n",
       "      <td>0.485402</td>\n",
       "      <td>0.505674</td>\n",
       "      <td>0.106177</td>\n",
       "    </tr>\n",
       "    <tr>\n",
       "      <th>252757</th>\n",
       "      <td>12637</td>\n",
       "      <td>689</td>\n",
       "      <td>False</td>\n",
       "      <td>0.138816</td>\n",
       "      <td>0.192938</td>\n",
       "      <td>0.081190</td>\n",
       "      <td>0.491295</td>\n",
       "      <td>0.261569</td>\n",
       "      <td>0.000000</td>\n",
       "    </tr>\n",
       "    <tr>\n",
       "      <th>252758</th>\n",
       "      <td>12637</td>\n",
       "      <td>327</td>\n",
       "      <td>False</td>\n",
       "      <td>0.210945</td>\n",
       "      <td>0.256969</td>\n",
       "      <td>0.161943</td>\n",
       "      <td>0.570179</td>\n",
       "      <td>0.247393</td>\n",
       "      <td>0.169078</td>\n",
       "    </tr>\n",
       "    <tr>\n",
       "      <th>252759</th>\n",
       "      <td>12637</td>\n",
       "      <td>13252</td>\n",
       "      <td>False</td>\n",
       "      <td>0.211553</td>\n",
       "      <td>0.242912</td>\n",
       "      <td>0.178165</td>\n",
       "      <td>0.619282</td>\n",
       "      <td>0.441681</td>\n",
       "      <td>0.057800</td>\n",
       "    </tr>\n",
       "  </tbody>\n",
       "</table>\n",
       "<p>252760 rows × 9 columns</p>\n",
       "</div>"
      ],
      "text/plain": [
       "        UserID ItemID  Label    Hybrid  SLIM_Elastic   RP3Beta  ItemKNN_CFCBF  \\\n",
       "0            0    674  False  0.435069      0.419055  0.452120       1.289657   \n",
       "1            0    587  False  0.274445      0.272682  0.276323       0.875749   \n",
       "2            0   1118  False  0.126080      0.153830  0.096535       0.392503   \n",
       "3            0   1585  False  0.183817      0.201476  0.165015       0.328523   \n",
       "4            0   2755  False  0.210559      0.259410  0.158546       0.414893   \n",
       "...        ...    ...    ...       ...           ...       ...            ...   \n",
       "252755   12637  13158  False  0.152550      0.145756  0.159784       0.778349   \n",
       "252756   12637  10905  False  0.145934      0.109031  0.185226       0.485402   \n",
       "252757   12637    689  False  0.138816      0.192938  0.081190       0.491295   \n",
       "252758   12637    327  False  0.210945      0.256969  0.161943       0.570179   \n",
       "252759   12637  13252  False  0.211553      0.242912  0.178165       0.619282   \n",
       "\n",
       "            IALS   P3Alpha  \n",
       "0       0.500047  0.247149  \n",
       "1       0.283056  0.177016  \n",
       "2       0.536363  0.000000  \n",
       "3       0.546714  0.059414  \n",
       "4       0.401523  0.166751  \n",
       "...          ...       ...  \n",
       "252755  0.484064  0.112864  \n",
       "252756  0.505674  0.106177  \n",
       "252757  0.261569  0.000000  \n",
       "252758  0.247393  0.169078  \n",
       "252759  0.441681  0.057800  \n",
       "\n",
       "[252760 rows x 9 columns]"
      ]
     },
     "execution_count": 82,
     "metadata": {},
     "output_type": "execute_result"
    }
   ],
   "source": [
    "training_dataframe = training_dataframe.set_index('UserID')\n",
    "\n",
    "for user_id in tqdm(range(n_users)):       \n",
    "    for rec_label, rec_instance in other_algorithms.items():\n",
    "        \n",
    "        item_list = training_dataframe.loc[user_id, \"ItemID\"].values.tolist()\n",
    "        \n",
    "        all_item_scores = rec_instance._compute_item_score([user_id], items_to_compute = item_list)\n",
    "\n",
    "        training_dataframe.loc[user_id, rec_label] = all_item_scores[0, item_list] \n",
    "\n",
    "training_dataframe = training_dataframe.reset_index()\n",
    "training_dataframe = training_dataframe.rename(columns = {\"index\": \"UserID\"})\n",
    "training_dataframe"
   ]
  },
  {
   "cell_type": "code",
   "execution_count": 83,
   "id": "f9f31555",
   "metadata": {
    "execution": {
     "iopub.execute_input": "2023-01-15T18:22:28.977446Z",
     "iopub.status.busy": "2023-01-15T18:22:28.977095Z",
     "iopub.status.idle": "2023-01-15T18:22:29.066637Z",
     "shell.execute_reply": "2023-01-15T18:22:29.064982Z"
    },
    "papermill": {
     "duration": 0.678711,
     "end_time": "2023-01-15T18:22:29.069686",
     "exception": false,
     "start_time": "2023-01-15T18:22:28.390975",
     "status": "completed"
    },
    "tags": []
   },
   "outputs": [
    {
     "data": {
      "text/html": [
       "<div>\n",
       "<style scoped>\n",
       "    .dataframe tbody tr th:only-of-type {\n",
       "        vertical-align: middle;\n",
       "    }\n",
       "\n",
       "    .dataframe tbody tr th {\n",
       "        vertical-align: top;\n",
       "    }\n",
       "\n",
       "    .dataframe thead th {\n",
       "        text-align: right;\n",
       "    }\n",
       "</style>\n",
       "<table border=\"1\" class=\"dataframe\">\n",
       "  <thead>\n",
       "    <tr style=\"text-align: right;\">\n",
       "      <th></th>\n",
       "      <th>UserID</th>\n",
       "      <th>ItemID</th>\n",
       "      <th>Label</th>\n",
       "      <th>Hybrid</th>\n",
       "      <th>SLIM_Elastic</th>\n",
       "      <th>RP3Beta</th>\n",
       "      <th>ItemKNN_CFCBF</th>\n",
       "      <th>IALS</th>\n",
       "      <th>P3Alpha</th>\n",
       "      <th>item_popularity</th>\n",
       "      <th>user_profile_len</th>\n",
       "    </tr>\n",
       "  </thead>\n",
       "  <tbody>\n",
       "    <tr>\n",
       "      <th>0</th>\n",
       "      <td>0</td>\n",
       "      <td>674</td>\n",
       "      <td>False</td>\n",
       "      <td>0.435069</td>\n",
       "      <td>0.419055</td>\n",
       "      <td>0.452120</td>\n",
       "      <td>1.289657</td>\n",
       "      <td>0.500047</td>\n",
       "      <td>0.247149</td>\n",
       "      <td>358</td>\n",
       "      <td>35</td>\n",
       "    </tr>\n",
       "    <tr>\n",
       "      <th>1</th>\n",
       "      <td>0</td>\n",
       "      <td>587</td>\n",
       "      <td>False</td>\n",
       "      <td>0.274445</td>\n",
       "      <td>0.272682</td>\n",
       "      <td>0.276323</td>\n",
       "      <td>0.875749</td>\n",
       "      <td>0.283056</td>\n",
       "      <td>0.177016</td>\n",
       "      <td>567</td>\n",
       "      <td>35</td>\n",
       "    </tr>\n",
       "    <tr>\n",
       "      <th>2</th>\n",
       "      <td>0</td>\n",
       "      <td>1118</td>\n",
       "      <td>False</td>\n",
       "      <td>0.126080</td>\n",
       "      <td>0.153830</td>\n",
       "      <td>0.096535</td>\n",
       "      <td>0.392503</td>\n",
       "      <td>0.536363</td>\n",
       "      <td>0.000000</td>\n",
       "      <td>110</td>\n",
       "      <td>35</td>\n",
       "    </tr>\n",
       "    <tr>\n",
       "      <th>3</th>\n",
       "      <td>0</td>\n",
       "      <td>1585</td>\n",
       "      <td>False</td>\n",
       "      <td>0.183817</td>\n",
       "      <td>0.201476</td>\n",
       "      <td>0.165015</td>\n",
       "      <td>0.328523</td>\n",
       "      <td>0.546714</td>\n",
       "      <td>0.059414</td>\n",
       "      <td>74</td>\n",
       "      <td>35</td>\n",
       "    </tr>\n",
       "    <tr>\n",
       "      <th>4</th>\n",
       "      <td>0</td>\n",
       "      <td>2755</td>\n",
       "      <td>False</td>\n",
       "      <td>0.210559</td>\n",
       "      <td>0.259410</td>\n",
       "      <td>0.158546</td>\n",
       "      <td>0.414893</td>\n",
       "      <td>0.401523</td>\n",
       "      <td>0.166751</td>\n",
       "      <td>111</td>\n",
       "      <td>35</td>\n",
       "    </tr>\n",
       "    <tr>\n",
       "      <th>...</th>\n",
       "      <td>...</td>\n",
       "      <td>...</td>\n",
       "      <td>...</td>\n",
       "      <td>...</td>\n",
       "      <td>...</td>\n",
       "      <td>...</td>\n",
       "      <td>...</td>\n",
       "      <td>...</td>\n",
       "      <td>...</td>\n",
       "      <td>...</td>\n",
       "      <td>...</td>\n",
       "    </tr>\n",
       "    <tr>\n",
       "      <th>252755</th>\n",
       "      <td>12637</td>\n",
       "      <td>13158</td>\n",
       "      <td>False</td>\n",
       "      <td>0.152550</td>\n",
       "      <td>0.145756</td>\n",
       "      <td>0.159784</td>\n",
       "      <td>0.778349</td>\n",
       "      <td>0.484064</td>\n",
       "      <td>0.112864</td>\n",
       "      <td>10</td>\n",
       "      <td>58</td>\n",
       "    </tr>\n",
       "    <tr>\n",
       "      <th>252756</th>\n",
       "      <td>12637</td>\n",
       "      <td>10905</td>\n",
       "      <td>False</td>\n",
       "      <td>0.145934</td>\n",
       "      <td>0.109031</td>\n",
       "      <td>0.185226</td>\n",
       "      <td>0.485402</td>\n",
       "      <td>0.505674</td>\n",
       "      <td>0.106177</td>\n",
       "      <td>10</td>\n",
       "      <td>58</td>\n",
       "    </tr>\n",
       "    <tr>\n",
       "      <th>252757</th>\n",
       "      <td>12637</td>\n",
       "      <td>689</td>\n",
       "      <td>False</td>\n",
       "      <td>0.138816</td>\n",
       "      <td>0.192938</td>\n",
       "      <td>0.081190</td>\n",
       "      <td>0.491295</td>\n",
       "      <td>0.261569</td>\n",
       "      <td>0.000000</td>\n",
       "      <td>155</td>\n",
       "      <td>58</td>\n",
       "    </tr>\n",
       "    <tr>\n",
       "      <th>252758</th>\n",
       "      <td>12637</td>\n",
       "      <td>327</td>\n",
       "      <td>False</td>\n",
       "      <td>0.210945</td>\n",
       "      <td>0.256969</td>\n",
       "      <td>0.161943</td>\n",
       "      <td>0.570179</td>\n",
       "      <td>0.247393</td>\n",
       "      <td>0.169078</td>\n",
       "      <td>159</td>\n",
       "      <td>58</td>\n",
       "    </tr>\n",
       "    <tr>\n",
       "      <th>252759</th>\n",
       "      <td>12637</td>\n",
       "      <td>13252</td>\n",
       "      <td>False</td>\n",
       "      <td>0.211553</td>\n",
       "      <td>0.242912</td>\n",
       "      <td>0.178165</td>\n",
       "      <td>0.619282</td>\n",
       "      <td>0.441681</td>\n",
       "      <td>0.057800</td>\n",
       "      <td>9</td>\n",
       "      <td>58</td>\n",
       "    </tr>\n",
       "  </tbody>\n",
       "</table>\n",
       "<p>252760 rows × 11 columns</p>\n",
       "</div>"
      ],
      "text/plain": [
       "        UserID ItemID  Label    Hybrid  SLIM_Elastic   RP3Beta  ItemKNN_CFCBF  \\\n",
       "0            0    674  False  0.435069      0.419055  0.452120       1.289657   \n",
       "1            0    587  False  0.274445      0.272682  0.276323       0.875749   \n",
       "2            0   1118  False  0.126080      0.153830  0.096535       0.392503   \n",
       "3            0   1585  False  0.183817      0.201476  0.165015       0.328523   \n",
       "4            0   2755  False  0.210559      0.259410  0.158546       0.414893   \n",
       "...        ...    ...    ...       ...           ...       ...            ...   \n",
       "252755   12637  13158  False  0.152550      0.145756  0.159784       0.778349   \n",
       "252756   12637  10905  False  0.145934      0.109031  0.185226       0.485402   \n",
       "252757   12637    689  False  0.138816      0.192938  0.081190       0.491295   \n",
       "252758   12637    327  False  0.210945      0.256969  0.161943       0.570179   \n",
       "252759   12637  13252  False  0.211553      0.242912  0.178165       0.619282   \n",
       "\n",
       "            IALS   P3Alpha  item_popularity  user_profile_len  \n",
       "0       0.500047  0.247149              358                35  \n",
       "1       0.283056  0.177016              567                35  \n",
       "2       0.536363  0.000000              110                35  \n",
       "3       0.546714  0.059414               74                35  \n",
       "4       0.401523  0.166751              111                35  \n",
       "...          ...       ...              ...               ...  \n",
       "252755  0.484064  0.112864               10                58  \n",
       "252756  0.505674  0.106177               10                58  \n",
       "252757  0.261569  0.000000              155                58  \n",
       "252758  0.247393  0.169078              159                58  \n",
       "252759  0.441681  0.057800                9                58  \n",
       "\n",
       "[252760 rows x 11 columns]"
      ]
     },
     "execution_count": 83,
     "metadata": {},
     "output_type": "execute_result"
    }
   ],
   "source": [
    "item_popularity = np.ediff1d(sps.csc_matrix(urm_train_validation).indptr)\n",
    "training_dataframe['item_popularity'] = item_popularity[training_dataframe[\"ItemID\"].values.astype(int)]\n",
    "\n",
    "user_popularity = np.ediff1d(sps.csr_matrix(urm_train_validation).indptr)\n",
    "training_dataframe['user_profile_len'] = user_popularity[training_dataframe[\"UserID\"].values.astype(int)]\n",
    "\n",
    "training_dataframe"
   ]
  },
  {
   "cell_type": "markdown",
   "id": "b7a9c61d",
   "metadata": {
    "papermill": {
     "duration": 0.689795,
     "end_time": "2023-01-15T18:22:38.790109",
     "exception": false,
     "start_time": "2023-01-15T18:22:38.100314",
     "status": "completed"
    },
    "tags": []
   },
   "source": [
    "### Time to train XGBoost"
   ]
  },
  {
   "cell_type": "code",
   "execution_count": 84,
   "id": "69e80559",
   "metadata": {
    "execution": {
     "iopub.execute_input": "2023-01-15T18:22:40.001092Z",
     "iopub.status.busy": "2023-01-15T18:22:40.000695Z",
     "iopub.status.idle": "2023-01-15T18:22:40.033229Z",
     "shell.execute_reply": "2023-01-15T18:22:40.032288Z"
    },
    "papermill": {
     "duration": 0.640598,
     "end_time": "2023-01-15T18:22:40.036002",
     "exception": false,
     "start_time": "2023-01-15T18:22:39.395404",
     "status": "completed"
    },
    "tags": []
   },
   "outputs": [
    {
     "data": {
      "text/plain": [
       "array([20, 20, 20, ..., 20, 20, 20])"
      ]
     },
     "execution_count": 84,
     "metadata": {},
     "output_type": "execute_result"
    }
   ],
   "source": [
    "groups = training_dataframe.groupby(\"UserID\").size().values\n",
    "groups"
   ]
  },
  {
   "cell_type": "code",
   "execution_count": 96,
   "id": "9a0243d5",
   "metadata": {
    "execution": {
     "iopub.execute_input": "2023-01-15T18:22:41.312467Z",
     "iopub.status.busy": "2023-01-15T18:22:41.311860Z",
     "iopub.status.idle": "2023-01-15T18:22:41.527658Z",
     "shell.execute_reply": "2023-01-15T18:22:41.526124Z"
    },
    "papermill": {
     "duration": 0.883546,
     "end_time": "2023-01-15T18:22:41.530734",
     "exception": false,
     "start_time": "2023-01-15T18:22:40.647188",
     "status": "completed"
    },
    "tags": []
   },
   "outputs": [],
   "source": [
    "from xgboost import XGBRanker\n",
    "\n",
    "n_estimators = 125\n",
    "learning_rate = 0.19823429576094637\n",
    "reg_alpha = 47\n",
    "reg_lambda = 100\n",
    "max_depth = 3\n",
    "max_leaves = 4\n",
    "grow_policy = \"depthwise\"\n",
    "objective = \"pairwise\"\n",
    "booster = \"gbtree\"\n",
    "use_user_profile = False\n",
    "random_seed = None\n",
    "\n",
    "colsample_bytree = 0.6113704247857885\n",
    "gamma = 8.964184693722684\n",
    "min_child_weight = 7.0\n",
    "\n",
    "XGB_model = XGBRanker(objective='rank:{}'.format(objective),\n",
    "                      n_estimators = int(n_estimators),\n",
    "                      random_state = random_seed,\n",
    "                      learning_rate = learning_rate,\n",
    "                      reg_alpha = reg_alpha,\n",
    "                      reg_lambda = reg_lambda,\n",
    "                      max_depth = int(max_depth),\n",
    "                      max_leaves = int(max_leaves),\n",
    "                      grow_policy = grow_policy,\n",
    "                      verbosity = 0, # 2 if self.verbose else 0,\n",
    "                      booster = booster,\n",
    "                      colsample_bytree = colsample_bytree,\n",
    "                      gamma = gamma,\n",
    "                      min_child_weight = min_child_weight,\n",
    "                      tree_method = \"hist\"\n",
    "                      )"
   ]
  },
  {
   "cell_type": "code",
   "execution_count": 97,
   "id": "196d61b7",
   "metadata": {},
   "outputs": [
    {
     "data": {
      "text/plain": [
       "UserID                int64\n",
       "ItemID                int64\n",
       "Label                  bool\n",
       "Hybrid              float64\n",
       "SLIM_Elastic        float64\n",
       "RP3Beta             float64\n",
       "ItemKNN_CFCBF       float64\n",
       "IALS                float64\n",
       "P3Alpha             float64\n",
       "item_popularity       int32\n",
       "user_profile_len      int32\n",
       "dtype: object"
      ]
     },
     "execution_count": 97,
     "metadata": {},
     "output_type": "execute_result"
    }
   ],
   "source": [
    "training_dataframe[\"ItemID\"] = training_dataframe[\"ItemID\"].astype(int)\n",
    "training_dataframe.dtypes"
   ]
  },
  {
   "cell_type": "code",
   "execution_count": 98,
   "id": "ba10911b",
   "metadata": {
    "execution": {
     "iopub.execute_input": "2023-01-15T18:22:42.788814Z",
     "iopub.status.busy": "2023-01-15T18:22:42.788439Z",
     "iopub.status.idle": "2023-01-15T18:24:13.847749Z",
     "shell.execute_reply": "2023-01-15T18:24:13.846752Z"
    },
    "papermill": {
     "duration": 92.308425,
     "end_time": "2023-01-15T18:24:14.436806",
     "exception": false,
     "start_time": "2023-01-15T18:22:42.128381",
     "status": "completed"
    },
    "tags": []
   },
   "outputs": [
    {
     "data": {
      "text/plain": [
       "XGBRanker(base_score=None, booster='gbtree', callbacks=None,\n",
       "          colsample_bylevel=None, colsample_bynode=None,\n",
       "          colsample_bytree=0.6113704247857885, device=None,\n",
       "          early_stopping_rounds=None, enable_categorical=False,\n",
       "          eval_metric=None, feature_types=None, gamma=8.964184693722684,\n",
       "          grow_policy='depthwise', importance_type=None,\n",
       "          interaction_constraints=None, learning_rate=0.19823429576094637,\n",
       "          max_bin=None, max_cat_threshold=None, max_cat_to_onehot=None,\n",
       "          max_delta_step=None, max_depth=3, max_leaves=4, min_child_weight=7.0,\n",
       "          missing=nan, monotone_constraints=None, multi_strategy=None,\n",
       "          n_estimators=125, n_jobs=None, num_parallel_tree=None,\n",
       "          objective='rank:pairwise', ...)"
      ]
     },
     "execution_count": 98,
     "metadata": {},
     "output_type": "execute_result"
    }
   ],
   "source": [
    "X_train = training_dataframe.drop(columns=[\"Label\"])\n",
    "y_train = training_dataframe[\"Label\"]\n",
    "\n",
    "XGB_model.fit(X_train,\n",
    "          y_train,\n",
    "          group=groups,\n",
    "          verbose=True)"
   ]
  },
  {
   "cell_type": "code",
   "execution_count": 99,
   "id": "1927bec2",
   "metadata": {
    "execution": {
     "iopub.execute_input": "2023-01-15T18:24:15.672972Z",
     "iopub.status.busy": "2023-01-15T18:24:15.672411Z",
     "iopub.status.idle": "2023-01-15T18:24:15.998108Z",
     "shell.execute_reply": "2023-01-15T18:24:15.996929Z"
    },
    "papermill": {
     "duration": 0.986205,
     "end_time": "2023-01-15T18:24:16.000612",
     "exception": false,
     "start_time": "2023-01-15T18:24:15.014407",
     "status": "completed"
    },
    "tags": []
   },
   "outputs": [
    {
     "data": {
      "text/plain": [
       "<Axes: title={'center': 'Weight (Frequence)'}, xlabel='F score', ylabel='Features'>"
      ]
     },
     "execution_count": 99,
     "metadata": {},
     "output_type": "execute_result"
    },
    {
     "data": {
      "image/png": "[encoded data removed]",
      "text/plain": [
       "<Figure size 640x480 with 1 Axes>"
      ]
     },
     "metadata": {},
     "output_type": "display_data"
    }
   ],
   "source": [
    "%matplotlib inline\n",
    "from xgboost import plot_importance\n",
    "plot_importance(XGB_model, importance_type='weight', title='Weight (Frequence)')"
   ]
  },
  {
   "cell_type": "code",
   "execution_count": 103,
   "id": "34c15d9c",
   "metadata": {},
   "outputs": [
    {
     "data": {
      "text/plain": [
       "array([ 0.88815004, -0.15828136,  0.26386157, ..., -0.41410205,\n",
       "        0.23580153,  0.30490807], dtype=float32)"
      ]
     },
     "execution_count": 103,
     "metadata": {},
     "output_type": "execute_result"
    }
   ],
   "source": [
    "XGB_model.predict(X_train[1:])"
   ]
  },
  {
   "cell_type": "code",
   "execution_count": 104,
   "id": "f4ea57b0",
   "metadata": {},
   "outputs": [],
   "source": [
    "from Recommenders.BaseRecommender import BaseRecommender\n",
    "\n",
    "class XGBoostRecommender(BaseRecommender):\n",
    "\n",
    "    RECOMMENDER_NAME = \"XGBoostRecommender\"\n",
    "\n",
    "    def __init__(self,\n",
    "                URM_train,\n",
    "                model,\n",
    "                X_train\n",
    "                ):\n",
    "\n",
    "        super(XGBoostRecommender, self).__init__(URM_train, verbose=True)\n",
    "\n",
    "        self.XGB_model = model\n",
    "        self.X_train = X_train\n",
    "        \n",
    "\n",
    "    \n",
    "    def get_URM_train(self):\n",
    "        return self.URM_train\n",
    "\n",
    "    def _compute_item_score(self, user_id_array, items_to_compute):\n",
    "        item_weights = np.zeros((len(user_id_array), self.n_items))\n",
    "        for i, user in enumerate(user_id_array):\n",
    "            X_to_predict = self.X_train[self.X_train[\"UserID\"] == user]\n",
    "            scores = self.XGB_model.predict(X_to_predict)\n",
    "            scores = (scores - scores.min())/(scores.max() - scores.min() + 1e-12)\n",
    "            item_weights[i][X_to_predict[\"ItemID\"]] = scores\n",
    "\n",
    "        return item_weights"
   ]
  },
  {
   "cell_type": "code",
   "execution_count": 105,
   "id": "84219616",
   "metadata": {},
   "outputs": [
    {
     "name": "stdout",
     "output_type": "stream",
     "text": [
      "XGBoostRecommender: URM Detected 226 ( 1.8%) users with no interactions.\n",
      "XGBoostRecommender: URM Detected 114 ( 0.5%) items with no interactions.\n"
     ]
    }
   ],
   "source": [
    "xg = XGBoostRecommender(urm_train_validation, XGB_model, X_train)"
   ]
  },
  {
   "cell_type": "code",
   "execution_count": 106,
   "id": "c44b3cb6",
   "metadata": {},
   "outputs": [],
   "source": [
    "res = xg.recommend(user2user_encoded[2], cutoff=10)"
   ]
  },
  {
   "cell_type": "code",
   "execution_count": 107,
   "id": "e265caeb",
   "metadata": {},
   "outputs": [
    {
     "name": "stdout",
     "output_type": "stream",
     "text": [
      "[1095, 12, 1522, 196, 4, 102, 283, 47, 131, 790]\n"
     ]
    }
   ],
   "source": [
    "arr = []\n",
    "for i in res:\n",
    "    arr.append(item_encoded2item[i])\n",
    "\n",
    "print(arr)"
   ]
  },
  {
   "cell_type": "markdown",
   "id": "532e6c38",
   "metadata": {},
   "source": [
    "**ALL**"
   ]
  },
  {
   "cell_type": "code",
   "execution_count": 109,
   "id": "c6928bf1",
   "metadata": {},
   "outputs": [
    {
     "name": "stderr",
     "output_type": "stream",
     "text": [
      "100%|█████████▉| 22216/22222 [01:04<00:00, 342.65it/s]\n"
     ]
    },
    {
     "name": "stdout",
     "output_type": "stream",
     "text": [
      "RP3betaRecommender: Similarity column 22222 (100.0%), 5326.05 column/sec. Elapsed time 4.17 sec\n"
     ]
    }
   ],
   "source": [
    "slimen4rec_all = MultiThreadSLIM_SLIMElasticNetRecommender(urm_all)\n",
    "slimen4rec_all.fit(workers=8, **{'alpha': 0.005845967797646911, 'l1_ratio': 0.00013811515012747763, 'topK': 1610})\n",
    "\n",
    "\n",
    "rp34rec_all = RP3betaRecommender(urm_all)\n",
    "rp34rec_all.fit(**{'topK': 122, 'alpha': 0.2522633066202722, 'beta': 0.19615409165027764})"
   ]
  },
  {
   "cell_type": "code",
   "execution_count": 111,
   "id": "d7b177a2",
   "metadata": {},
   "outputs": [],
   "source": [
    "hybrid4gb_all = ItemKNNSimilarityHybridRecommender(urm_all, slimen4rec_all.W_sparse, rp34rec_all.W_sparse)\n",
    "hybrid4gb_all.fit(**{'alpha': 0.2312897980071662, 'topK': 8210})"
   ]
  },
  {
   "cell_type": "code",
   "execution_count": 114,
   "id": "f79f1616",
   "metadata": {},
   "outputs": [
    {
     "name": "stderr",
     "output_type": "stream",
     "text": [
      "100%|█████████▉| 22216/22222 [00:48<00:00, 459.98it/s]\n"
     ]
    },
    {
     "name": "stdout",
     "output_type": "stream",
     "text": [
      "RP3betaRecommender: Similarity column 22222 (100.0%), 6544.83 column/sec. Elapsed time 3.40 sec\n",
      "Similarity column 22222 (100.0%), 10647.40 column/sec. Elapsed time 2.09 sec\n",
      "Using gpu: True\n"
     ]
    },
    {
     "data": {
      "application/vnd.jupyter.widget-view+json": {
       "model_id": "5636938397ac4825a574d6d3d921f0ee",
       "version_major": 2,
       "version_minor": 0
      },
      "text/plain": [
       "  0%|          | 0/1204 [00:00<?, ?it/s]"
      ]
     },
     "metadata": {},
     "output_type": "display_data"
    },
    {
     "name": "stdout",
     "output_type": "stream",
     "text": [
      "P3alphaRecommender: Similarity column 22222 (100.0%), 7605.08 column/sec. Elapsed time 2.92 sec\n"
     ]
    }
   ],
   "source": [
    "slimen4map_all = MultiThreadSLIM_SLIMElasticNetRecommender(urm_all)\n",
    "slimen4map_all.fit(workers=8,**{'alpha':0.0008361537677496276,'topK':3334, 'l1_ratio':0.09976758088492818})\n",
    "\n",
    "rp34map_all = RP3betaRecommender(urm_all)\n",
    "rp34map_all.fit(**{'topK': 29, 'alpha': 0.33723025040409343, 'beta': 0.15542352567862933, 'normalize_similarity': True})\n",
    "\n",
    "itemknn4map_all = ItemKNNCFRecommender(urm_all)\n",
    "itemknn4map_all.fit(**{'topK': 19, 'shrink': 28, 'similarity': 'tversky', 'normalize': True, 'tversky_alpha': 0.0, 'tversky_beta': 1.3672226785339947})\n",
    "\n",
    "hybrid4map_all = ItemKNNSimilarityHybridRecommender(urm_all, rp34map_all.W_sparse, slimen4map_all.W_sparse)\n",
    "hybrid4map_all.fit(**{'topK': 1000, 'alpha': 0.484326762079027})\n",
    "\n",
    "ials_all = ImplicitALSRecommender(urm_all)\n",
    "ials_all.fit(use_gpu=True, num_threads=1,**{'num_factors': 401, 'reg': 0.0010579931024405477,'epsilon':0.10666578585393433, 'epochs':1204, 'alpha': 7.139858098793055, 'confidence_scaling': 'linear'})\n",
    "\n",
    "P3Alpha_all = P3alphaRecommender(urm_all)\n",
    "P3Alpha_all.fit(**{'alpha':0.740243876372529,'topK':41})\n"
   ]
  },
  {
   "cell_type": "code",
   "execution_count": 119,
   "id": "143bc5e8",
   "metadata": {},
   "outputs": [],
   "source": [
    "other_algorithms_all = {\n",
    "    \"Hybrid\": hybrid4map_all,\n",
    "    \"SLIM_Elastic\": slimen4map_all,\n",
    "    \"RP3Beta\": rp34map_all,\n",
    "    \"ItemKNN_CFCBF\": itemknn4map_all,\n",
    "    \"IALS\": ials_all,\n",
    "    \"P3Alpha\": P3Alpha_all,\n",
    "}"
   ]
  },
  {
   "cell_type": "code",
   "execution_count": 117,
   "id": "bf4d59cc",
   "metadata": {},
   "outputs": [
    {
     "name": "stderr",
     "output_type": "stream",
     "text": [
      "100%|██████████| 10882/10882 [00:05<00:00, 2125.15it/s]\n"
     ]
    }
   ],
   "source": [
    "user_recommendations_items = []\n",
    "user_recommendations_user_id = []\n",
    "\n",
    "for user_id in tqdm(df_test['UserID']):\n",
    "\n",
    "    if not user_id in user2user_encoded.keys():\n",
    "        continue\n",
    "\n",
    "    id = user2user_encoded[user_id]\n",
    "    recommendations = hybrid4gb_all.recommend(user_id_array=id, remove_seen_flag=True, cutoff=cutoff)\n",
    "    \n",
    "    user_recommendations_items.extend(recommendations)\n",
    "    user_recommendations_user_id.extend([id]*len(recommendations))"
   ]
  },
  {
   "cell_type": "code",
   "execution_count": 122,
   "id": "c30b8bdf",
   "metadata": {},
   "outputs": [],
   "source": [
    "test_dataframe = pd.DataFrame({\"UserID\":user_recommendations_user_id, \"ItemID\":user_recommendations_items})"
   ]
  },
  {
   "cell_type": "code",
   "execution_count": 123,
   "id": "40b59583",
   "metadata": {},
   "outputs": [
    {
     "name": "stderr",
     "output_type": "stream",
     "text": [
      "100%|██████████| 10882/10882 [00:57<00:00, 190.72it/s]\n"
     ]
    }
   ],
   "source": [
    "test_dataframe = test_dataframe.set_index('UserID')\n",
    "\n",
    "for user_id in tqdm(df_test['UserID']):\n",
    "\n",
    "    if not user_id in user2user_encoded.keys():\n",
    "        continue\n",
    "    user_id = user2user_encoded[user_id]\n",
    "\n",
    "    for rec_label, rec_instance in other_algorithms_all.items():\n",
    "        \n",
    "        item_list = test_dataframe.loc[user_id, \"ItemID\"].values.tolist()\n",
    "        \n",
    "        all_item_scores = rec_instance._compute_item_score([user_id], items_to_compute = item_list)\n",
    "\n",
    "        test_dataframe.loc[user_id, rec_label] = all_item_scores[0, item_list] \n",
    "\n",
    "test_dataframe = test_dataframe.reset_index()\n",
    "test_dataframe = test_dataframe.rename(columns = {\"index\": \"UserID\"})"
   ]
  },
  {
   "cell_type": "code",
   "execution_count": 124,
   "id": "5b2f61ca",
   "metadata": {},
   "outputs": [
    {
     "data": {
      "text/html": [
       "<div>\n",
       "<style scoped>\n",
       "    .dataframe tbody tr th:only-of-type {\n",
       "        vertical-align: middle;\n",
       "    }\n",
       "\n",
       "    .dataframe tbody tr th {\n",
       "        vertical-align: top;\n",
       "    }\n",
       "\n",
       "    .dataframe thead th {\n",
       "        text-align: right;\n",
       "    }\n",
       "</style>\n",
       "<table border=\"1\" class=\"dataframe\">\n",
       "  <thead>\n",
       "    <tr style=\"text-align: right;\">\n",
       "      <th></th>\n",
       "      <th>UserID</th>\n",
       "      <th>ItemID</th>\n",
       "      <th>Hybrid</th>\n",
       "      <th>SLIM_Elastic</th>\n",
       "      <th>RP3Beta</th>\n",
       "      <th>ItemKNN_CFCBF</th>\n",
       "      <th>IALS</th>\n",
       "      <th>P3Alpha</th>\n",
       "      <th>item_popularity</th>\n",
       "      <th>user_profile_len</th>\n",
       "    </tr>\n",
       "  </thead>\n",
       "  <tbody>\n",
       "    <tr>\n",
       "      <th>0</th>\n",
       "      <td>0</td>\n",
       "      <td>674</td>\n",
       "      <td>0.608715</td>\n",
       "      <td>0.656822</td>\n",
       "      <td>0.557495</td>\n",
       "      <td>2.311057</td>\n",
       "      <td>0.798499</td>\n",
       "      <td>0.519134</td>\n",
       "      <td>426</td>\n",
       "      <td>44</td>\n",
       "    </tr>\n",
       "    <tr>\n",
       "      <th>1</th>\n",
       "      <td>0</td>\n",
       "      <td>587</td>\n",
       "      <td>0.646479</td>\n",
       "      <td>0.639705</td>\n",
       "      <td>0.653691</td>\n",
       "      <td>2.125616</td>\n",
       "      <td>0.505709</td>\n",
       "      <td>0.619847</td>\n",
       "      <td>713</td>\n",
       "      <td>44</td>\n",
       "    </tr>\n",
       "    <tr>\n",
       "      <th>2</th>\n",
       "      <td>0</td>\n",
       "      <td>1118</td>\n",
       "      <td>0.299608</td>\n",
       "      <td>0.315005</td>\n",
       "      <td>0.283214</td>\n",
       "      <td>1.087367</td>\n",
       "      <td>0.697459</td>\n",
       "      <td>0.144468</td>\n",
       "      <td>131</td>\n",
       "      <td>44</td>\n",
       "    </tr>\n",
       "    <tr>\n",
       "      <th>3</th>\n",
       "      <td>0</td>\n",
       "      <td>1449</td>\n",
       "      <td>0.336407</td>\n",
       "      <td>0.420092</td>\n",
       "      <td>0.247307</td>\n",
       "      <td>0.692288</td>\n",
       "      <td>0.606444</td>\n",
       "      <td>0.162199</td>\n",
       "      <td>119</td>\n",
       "      <td>44</td>\n",
       "    </tr>\n",
       "    <tr>\n",
       "      <th>4</th>\n",
       "      <td>0</td>\n",
       "      <td>1585</td>\n",
       "      <td>0.280449</td>\n",
       "      <td>0.347037</td>\n",
       "      <td>0.209550</td>\n",
       "      <td>0.763316</td>\n",
       "      <td>0.475114</td>\n",
       "      <td>0.115690</td>\n",
       "      <td>97</td>\n",
       "      <td>44</td>\n",
       "    </tr>\n",
       "    <tr>\n",
       "      <th>...</th>\n",
       "      <td>...</td>\n",
       "      <td>...</td>\n",
       "      <td>...</td>\n",
       "      <td>...</td>\n",
       "      <td>...</td>\n",
       "      <td>...</td>\n",
       "      <td>...</td>\n",
       "      <td>...</td>\n",
       "      <td>...</td>\n",
       "      <td>...</td>\n",
       "    </tr>\n",
       "    <tr>\n",
       "      <th>213215</th>\n",
       "      <td>12637</td>\n",
       "      <td>820</td>\n",
       "      <td>0.308712</td>\n",
       "      <td>0.336043</td>\n",
       "      <td>0.279613</td>\n",
       "      <td>1.170394</td>\n",
       "      <td>0.463381</td>\n",
       "      <td>0.348930</td>\n",
       "      <td>207</td>\n",
       "      <td>71</td>\n",
       "    </tr>\n",
       "    <tr>\n",
       "      <th>213216</th>\n",
       "      <td>12637</td>\n",
       "      <td>13158</td>\n",
       "      <td>0.227512</td>\n",
       "      <td>0.250277</td>\n",
       "      <td>0.203273</td>\n",
       "      <td>0.783723</td>\n",
       "      <td>0.565805</td>\n",
       "      <td>0.092269</td>\n",
       "      <td>11</td>\n",
       "      <td>71</td>\n",
       "    </tr>\n",
       "    <tr>\n",
       "      <th>213217</th>\n",
       "      <td>12637</td>\n",
       "      <td>371</td>\n",
       "      <td>0.341232</td>\n",
       "      <td>0.374948</td>\n",
       "      <td>0.305333</td>\n",
       "      <td>1.347313</td>\n",
       "      <td>0.663699</td>\n",
       "      <td>0.200368</td>\n",
       "      <td>49</td>\n",
       "      <td>71</td>\n",
       "    </tr>\n",
       "    <tr>\n",
       "      <th>213218</th>\n",
       "      <td>12637</td>\n",
       "      <td>16588</td>\n",
       "      <td>0.211668</td>\n",
       "      <td>0.146710</td>\n",
       "      <td>0.280830</td>\n",
       "      <td>0.961876</td>\n",
       "      <td>0.554812</td>\n",
       "      <td>0.166296</td>\n",
       "      <td>14</td>\n",
       "      <td>71</td>\n",
       "    </tr>\n",
       "    <tr>\n",
       "      <th>213219</th>\n",
       "      <td>12637</td>\n",
       "      <td>16593</td>\n",
       "      <td>0.194534</td>\n",
       "      <td>0.218686</td>\n",
       "      <td>0.168819</td>\n",
       "      <td>0.854436</td>\n",
       "      <td>0.497544</td>\n",
       "      <td>0.117850</td>\n",
       "      <td>11</td>\n",
       "      <td>71</td>\n",
       "    </tr>\n",
       "  </tbody>\n",
       "</table>\n",
       "<p>213220 rows × 10 columns</p>\n",
       "</div>"
      ],
      "text/plain": [
       "        UserID  ItemID    Hybrid  SLIM_Elastic   RP3Beta  ItemKNN_CFCBF  \\\n",
       "0            0     674  0.608715      0.656822  0.557495       2.311057   \n",
       "1            0     587  0.646479      0.639705  0.653691       2.125616   \n",
       "2            0    1118  0.299608      0.315005  0.283214       1.087367   \n",
       "3            0    1449  0.336407      0.420092  0.247307       0.692288   \n",
       "4            0    1585  0.280449      0.347037  0.209550       0.763316   \n",
       "...        ...     ...       ...           ...       ...            ...   \n",
       "213215   12637     820  0.308712      0.336043  0.279613       1.170394   \n",
       "213216   12637   13158  0.227512      0.250277  0.203273       0.783723   \n",
       "213217   12637     371  0.341232      0.374948  0.305333       1.347313   \n",
       "213218   12637   16588  0.211668      0.146710  0.280830       0.961876   \n",
       "213219   12637   16593  0.194534      0.218686  0.168819       0.854436   \n",
       "\n",
       "            IALS   P3Alpha  item_popularity  user_profile_len  \n",
       "0       0.798499  0.519134              426                44  \n",
       "1       0.505709  0.619847              713                44  \n",
       "2       0.697459  0.144468              131                44  \n",
       "3       0.606444  0.162199              119                44  \n",
       "4       0.475114  0.115690               97                44  \n",
       "...          ...       ...              ...               ...  \n",
       "213215  0.463381  0.348930              207                71  \n",
       "213216  0.565805  0.092269               11                71  \n",
       "213217  0.663699  0.200368               49                71  \n",
       "213218  0.554812  0.166296               14                71  \n",
       "213219  0.497544  0.117850               11                71  \n",
       "\n",
       "[213220 rows x 10 columns]"
      ]
     },
     "execution_count": 124,
     "metadata": {},
     "output_type": "execute_result"
    }
   ],
   "source": [
    "item_popularity = np.ediff1d(sps.csc_matrix(urm_all).indptr)\n",
    "test_dataframe['item_popularity'] = item_popularity[test_dataframe[\"ItemID\"].values.astype(int)]\n",
    "\n",
    "user_popularity = np.ediff1d(sps.csr_matrix(urm_all).indptr)\n",
    "test_dataframe['user_profile_len'] = user_popularity[test_dataframe[\"UserID\"].values.astype(int)]\n",
    "\n",
    "test_dataframe"
   ]
  },
  {
   "cell_type": "code",
   "execution_count": 125,
   "id": "aaf679a8",
   "metadata": {},
   "outputs": [
    {
     "data": {
      "text/html": [
       "<div>\n",
       "<style scoped>\n",
       "    .dataframe tbody tr th:only-of-type {\n",
       "        vertical-align: middle;\n",
       "    }\n",
       "\n",
       "    .dataframe tbody tr th {\n",
       "        vertical-align: top;\n",
       "    }\n",
       "\n",
       "    .dataframe thead th {\n",
       "        text-align: right;\n",
       "    }\n",
       "</style>\n",
       "<table border=\"1\" class=\"dataframe\">\n",
       "  <thead>\n",
       "    <tr style=\"text-align: right;\">\n",
       "      <th></th>\n",
       "      <th>UserID</th>\n",
       "      <th>ItemID</th>\n",
       "      <th>Hybrid</th>\n",
       "      <th>SLIM_Elastic</th>\n",
       "      <th>RP3Beta</th>\n",
       "      <th>ItemKNN_CFCBF</th>\n",
       "      <th>IALS</th>\n",
       "      <th>P3Alpha</th>\n",
       "      <th>item_popularity</th>\n",
       "      <th>user_profile_len</th>\n",
       "    </tr>\n",
       "  </thead>\n",
       "  <tbody>\n",
       "    <tr>\n",
       "      <th>0</th>\n",
       "      <td>0</td>\n",
       "      <td>674</td>\n",
       "      <td>0.608715</td>\n",
       "      <td>0.656822</td>\n",
       "      <td>0.557495</td>\n",
       "      <td>2.311057</td>\n",
       "      <td>0.798499</td>\n",
       "      <td>0.519134</td>\n",
       "      <td>426</td>\n",
       "      <td>44</td>\n",
       "    </tr>\n",
       "    <tr>\n",
       "      <th>1</th>\n",
       "      <td>0</td>\n",
       "      <td>587</td>\n",
       "      <td>0.646479</td>\n",
       "      <td>0.639705</td>\n",
       "      <td>0.653691</td>\n",
       "      <td>2.125616</td>\n",
       "      <td>0.505709</td>\n",
       "      <td>0.619847</td>\n",
       "      <td>713</td>\n",
       "      <td>44</td>\n",
       "    </tr>\n",
       "    <tr>\n",
       "      <th>2</th>\n",
       "      <td>0</td>\n",
       "      <td>1118</td>\n",
       "      <td>0.299608</td>\n",
       "      <td>0.315005</td>\n",
       "      <td>0.283214</td>\n",
       "      <td>1.087367</td>\n",
       "      <td>0.697459</td>\n",
       "      <td>0.144468</td>\n",
       "      <td>131</td>\n",
       "      <td>44</td>\n",
       "    </tr>\n",
       "    <tr>\n",
       "      <th>3</th>\n",
       "      <td>0</td>\n",
       "      <td>1449</td>\n",
       "      <td>0.336407</td>\n",
       "      <td>0.420092</td>\n",
       "      <td>0.247307</td>\n",
       "      <td>0.692288</td>\n",
       "      <td>0.606444</td>\n",
       "      <td>0.162199</td>\n",
       "      <td>119</td>\n",
       "      <td>44</td>\n",
       "    </tr>\n",
       "    <tr>\n",
       "      <th>4</th>\n",
       "      <td>0</td>\n",
       "      <td>1585</td>\n",
       "      <td>0.280449</td>\n",
       "      <td>0.347037</td>\n",
       "      <td>0.209550</td>\n",
       "      <td>0.763316</td>\n",
       "      <td>0.475114</td>\n",
       "      <td>0.115690</td>\n",
       "      <td>97</td>\n",
       "      <td>44</td>\n",
       "    </tr>\n",
       "    <tr>\n",
       "      <th>...</th>\n",
       "      <td>...</td>\n",
       "      <td>...</td>\n",
       "      <td>...</td>\n",
       "      <td>...</td>\n",
       "      <td>...</td>\n",
       "      <td>...</td>\n",
       "      <td>...</td>\n",
       "      <td>...</td>\n",
       "      <td>...</td>\n",
       "      <td>...</td>\n",
       "    </tr>\n",
       "    <tr>\n",
       "      <th>213215</th>\n",
       "      <td>12637</td>\n",
       "      <td>820</td>\n",
       "      <td>0.308712</td>\n",
       "      <td>0.336043</td>\n",
       "      <td>0.279613</td>\n",
       "      <td>1.170394</td>\n",
       "      <td>0.463381</td>\n",
       "      <td>0.348930</td>\n",
       "      <td>207</td>\n",
       "      <td>71</td>\n",
       "    </tr>\n",
       "    <tr>\n",
       "      <th>213216</th>\n",
       "      <td>12637</td>\n",
       "      <td>13158</td>\n",
       "      <td>0.227512</td>\n",
       "      <td>0.250277</td>\n",
       "      <td>0.203273</td>\n",
       "      <td>0.783723</td>\n",
       "      <td>0.565805</td>\n",
       "      <td>0.092269</td>\n",
       "      <td>11</td>\n",
       "      <td>71</td>\n",
       "    </tr>\n",
       "    <tr>\n",
       "      <th>213217</th>\n",
       "      <td>12637</td>\n",
       "      <td>371</td>\n",
       "      <td>0.341232</td>\n",
       "      <td>0.374948</td>\n",
       "      <td>0.305333</td>\n",
       "      <td>1.347313</td>\n",
       "      <td>0.663699</td>\n",
       "      <td>0.200368</td>\n",
       "      <td>49</td>\n",
       "      <td>71</td>\n",
       "    </tr>\n",
       "    <tr>\n",
       "      <th>213218</th>\n",
       "      <td>12637</td>\n",
       "      <td>16588</td>\n",
       "      <td>0.211668</td>\n",
       "      <td>0.146710</td>\n",
       "      <td>0.280830</td>\n",
       "      <td>0.961876</td>\n",
       "      <td>0.554812</td>\n",
       "      <td>0.166296</td>\n",
       "      <td>14</td>\n",
       "      <td>71</td>\n",
       "    </tr>\n",
       "    <tr>\n",
       "      <th>213219</th>\n",
       "      <td>12637</td>\n",
       "      <td>16593</td>\n",
       "      <td>0.194534</td>\n",
       "      <td>0.218686</td>\n",
       "      <td>0.168819</td>\n",
       "      <td>0.854436</td>\n",
       "      <td>0.497544</td>\n",
       "      <td>0.117850</td>\n",
       "      <td>11</td>\n",
       "      <td>71</td>\n",
       "    </tr>\n",
       "  </tbody>\n",
       "</table>\n",
       "<p>213220 rows × 10 columns</p>\n",
       "</div>"
      ],
      "text/plain": [
       "        UserID  ItemID    Hybrid  SLIM_Elastic   RP3Beta  ItemKNN_CFCBF  \\\n",
       "0            0     674  0.608715      0.656822  0.557495       2.311057   \n",
       "1            0     587  0.646479      0.639705  0.653691       2.125616   \n",
       "2            0    1118  0.299608      0.315005  0.283214       1.087367   \n",
       "3            0    1449  0.336407      0.420092  0.247307       0.692288   \n",
       "4            0    1585  0.280449      0.347037  0.209550       0.763316   \n",
       "...        ...     ...       ...           ...       ...            ...   \n",
       "213215   12637     820  0.308712      0.336043  0.279613       1.170394   \n",
       "213216   12637   13158  0.227512      0.250277  0.203273       0.783723   \n",
       "213217   12637     371  0.341232      0.374948  0.305333       1.347313   \n",
       "213218   12637   16588  0.211668      0.146710  0.280830       0.961876   \n",
       "213219   12637   16593  0.194534      0.218686  0.168819       0.854436   \n",
       "\n",
       "            IALS   P3Alpha  item_popularity  user_profile_len  \n",
       "0       0.798499  0.519134              426                44  \n",
       "1       0.505709  0.619847              713                44  \n",
       "2       0.697459  0.144468              131                44  \n",
       "3       0.606444  0.162199              119                44  \n",
       "4       0.475114  0.115690               97                44  \n",
       "...          ...       ...              ...               ...  \n",
       "213215  0.463381  0.348930              207                71  \n",
       "213216  0.565805  0.092269               11                71  \n",
       "213217  0.663699  0.200368               49                71  \n",
       "213218  0.554812  0.166296               14                71  \n",
       "213219  0.497544  0.117850               11                71  \n",
       "\n",
       "[213220 rows x 10 columns]"
      ]
     },
     "execution_count": 125,
     "metadata": {},
     "output_type": "execute_result"
    }
   ],
   "source": [
    "test_dataframe"
   ]
  },
  {
   "cell_type": "code",
   "execution_count": 127,
   "id": "81d093bc",
   "metadata": {},
   "outputs": [
    {
     "data": {
      "text/plain": [
       "array([1.327309  , 1.3654113 , 0.9798861 , ..., 0.89345026, 0.34070957,\n",
       "       0.2356436 ], dtype=float32)"
      ]
     },
     "execution_count": 127,
     "metadata": {},
     "output_type": "execute_result"
    }
   ],
   "source": [
    "X = test_dataframe\n",
    "\n",
    "predictions = XGB_model.predict(X)\n",
    "predictions\n",
    "\n"
   ]
  },
  {
   "cell_type": "code",
   "execution_count": 128,
   "id": "8a2576e7",
   "metadata": {},
   "outputs": [
    {
     "data": {
      "text/html": [
       "<div>\n",
       "<style scoped>\n",
       "    .dataframe tbody tr th:only-of-type {\n",
       "        vertical-align: middle;\n",
       "    }\n",
       "\n",
       "    .dataframe tbody tr th {\n",
       "        vertical-align: top;\n",
       "    }\n",
       "\n",
       "    .dataframe thead th {\n",
       "        text-align: right;\n",
       "    }\n",
       "</style>\n",
       "<table border=\"1\" class=\"dataframe\">\n",
       "  <thead>\n",
       "    <tr style=\"text-align: right;\">\n",
       "      <th></th>\n",
       "      <th>UserID</th>\n",
       "      <th>ItemID</th>\n",
       "      <th>Hybrid</th>\n",
       "      <th>SLIM_Elastic</th>\n",
       "      <th>RP3Beta</th>\n",
       "      <th>ItemKNN_CFCBF</th>\n",
       "      <th>IALS</th>\n",
       "      <th>P3Alpha</th>\n",
       "      <th>item_popularity</th>\n",
       "      <th>user_profile_len</th>\n",
       "      <th>rating_xgb</th>\n",
       "    </tr>\n",
       "  </thead>\n",
       "  <tbody>\n",
       "    <tr>\n",
       "      <th>0</th>\n",
       "      <td>0</td>\n",
       "      <td>674</td>\n",
       "      <td>0.608715</td>\n",
       "      <td>0.656822</td>\n",
       "      <td>0.557495</td>\n",
       "      <td>2.311057</td>\n",
       "      <td>0.798499</td>\n",
       "      <td>0.519134</td>\n",
       "      <td>426</td>\n",
       "      <td>44</td>\n",
       "      <td>1.327309</td>\n",
       "    </tr>\n",
       "    <tr>\n",
       "      <th>1</th>\n",
       "      <td>0</td>\n",
       "      <td>587</td>\n",
       "      <td>0.646479</td>\n",
       "      <td>0.639705</td>\n",
       "      <td>0.653691</td>\n",
       "      <td>2.125616</td>\n",
       "      <td>0.505709</td>\n",
       "      <td>0.619847</td>\n",
       "      <td>713</td>\n",
       "      <td>44</td>\n",
       "      <td>1.365411</td>\n",
       "    </tr>\n",
       "    <tr>\n",
       "      <th>2</th>\n",
       "      <td>0</td>\n",
       "      <td>1118</td>\n",
       "      <td>0.299608</td>\n",
       "      <td>0.315005</td>\n",
       "      <td>0.283214</td>\n",
       "      <td>1.087367</td>\n",
       "      <td>0.697459</td>\n",
       "      <td>0.144468</td>\n",
       "      <td>131</td>\n",
       "      <td>44</td>\n",
       "      <td>0.979886</td>\n",
       "    </tr>\n",
       "    <tr>\n",
       "      <th>3</th>\n",
       "      <td>0</td>\n",
       "      <td>1449</td>\n",
       "      <td>0.336407</td>\n",
       "      <td>0.420092</td>\n",
       "      <td>0.247307</td>\n",
       "      <td>0.692288</td>\n",
       "      <td>0.606444</td>\n",
       "      <td>0.162199</td>\n",
       "      <td>119</td>\n",
       "      <td>44</td>\n",
       "      <td>1.128760</td>\n",
       "    </tr>\n",
       "    <tr>\n",
       "      <th>4</th>\n",
       "      <td>0</td>\n",
       "      <td>1585</td>\n",
       "      <td>0.280449</td>\n",
       "      <td>0.347037</td>\n",
       "      <td>0.209550</td>\n",
       "      <td>0.763316</td>\n",
       "      <td>0.475114</td>\n",
       "      <td>0.115690</td>\n",
       "      <td>97</td>\n",
       "      <td>44</td>\n",
       "      <td>0.833578</td>\n",
       "    </tr>\n",
       "    <tr>\n",
       "      <th>...</th>\n",
       "      <td>...</td>\n",
       "      <td>...</td>\n",
       "      <td>...</td>\n",
       "      <td>...</td>\n",
       "      <td>...</td>\n",
       "      <td>...</td>\n",
       "      <td>...</td>\n",
       "      <td>...</td>\n",
       "      <td>...</td>\n",
       "      <td>...</td>\n",
       "      <td>...</td>\n",
       "    </tr>\n",
       "    <tr>\n",
       "      <th>213215</th>\n",
       "      <td>12637</td>\n",
       "      <td>820</td>\n",
       "      <td>0.308712</td>\n",
       "      <td>0.336043</td>\n",
       "      <td>0.279613</td>\n",
       "      <td>1.170394</td>\n",
       "      <td>0.463381</td>\n",
       "      <td>0.348930</td>\n",
       "      <td>207</td>\n",
       "      <td>71</td>\n",
       "      <td>0.709804</td>\n",
       "    </tr>\n",
       "    <tr>\n",
       "      <th>213216</th>\n",
       "      <td>12637</td>\n",
       "      <td>13158</td>\n",
       "      <td>0.227512</td>\n",
       "      <td>0.250277</td>\n",
       "      <td>0.203273</td>\n",
       "      <td>0.783723</td>\n",
       "      <td>0.565805</td>\n",
       "      <td>0.092269</td>\n",
       "      <td>11</td>\n",
       "      <td>71</td>\n",
       "      <td>0.410819</td>\n",
       "    </tr>\n",
       "    <tr>\n",
       "      <th>213217</th>\n",
       "      <td>12637</td>\n",
       "      <td>371</td>\n",
       "      <td>0.341232</td>\n",
       "      <td>0.374948</td>\n",
       "      <td>0.305333</td>\n",
       "      <td>1.347313</td>\n",
       "      <td>0.663699</td>\n",
       "      <td>0.200368</td>\n",
       "      <td>49</td>\n",
       "      <td>71</td>\n",
       "      <td>0.893450</td>\n",
       "    </tr>\n",
       "    <tr>\n",
       "      <th>213218</th>\n",
       "      <td>12637</td>\n",
       "      <td>16588</td>\n",
       "      <td>0.211668</td>\n",
       "      <td>0.146710</td>\n",
       "      <td>0.280830</td>\n",
       "      <td>0.961876</td>\n",
       "      <td>0.554812</td>\n",
       "      <td>0.166296</td>\n",
       "      <td>14</td>\n",
       "      <td>71</td>\n",
       "      <td>0.340710</td>\n",
       "    </tr>\n",
       "    <tr>\n",
       "      <th>213219</th>\n",
       "      <td>12637</td>\n",
       "      <td>16593</td>\n",
       "      <td>0.194534</td>\n",
       "      <td>0.218686</td>\n",
       "      <td>0.168819</td>\n",
       "      <td>0.854436</td>\n",
       "      <td>0.497544</td>\n",
       "      <td>0.117850</td>\n",
       "      <td>11</td>\n",
       "      <td>71</td>\n",
       "      <td>0.235644</td>\n",
       "    </tr>\n",
       "  </tbody>\n",
       "</table>\n",
       "<p>213220 rows × 11 columns</p>\n",
       "</div>"
      ],
      "text/plain": [
       "        UserID  ItemID    Hybrid  SLIM_Elastic   RP3Beta  ItemKNN_CFCBF  \\\n",
       "0            0     674  0.608715      0.656822  0.557495       2.311057   \n",
       "1            0     587  0.646479      0.639705  0.653691       2.125616   \n",
       "2            0    1118  0.299608      0.315005  0.283214       1.087367   \n",
       "3            0    1449  0.336407      0.420092  0.247307       0.692288   \n",
       "4            0    1585  0.280449      0.347037  0.209550       0.763316   \n",
       "...        ...     ...       ...           ...       ...            ...   \n",
       "213215   12637     820  0.308712      0.336043  0.279613       1.170394   \n",
       "213216   12637   13158  0.227512      0.250277  0.203273       0.783723   \n",
       "213217   12637     371  0.341232      0.374948  0.305333       1.347313   \n",
       "213218   12637   16588  0.211668      0.146710  0.280830       0.961876   \n",
       "213219   12637   16593  0.194534      0.218686  0.168819       0.854436   \n",
       "\n",
       "            IALS   P3Alpha  item_popularity  user_profile_len  rating_xgb  \n",
       "0       0.798499  0.519134              426                44    1.327309  \n",
       "1       0.505709  0.619847              713                44    1.365411  \n",
       "2       0.697459  0.144468              131                44    0.979886  \n",
       "3       0.606444  0.162199              119                44    1.128760  \n",
       "4       0.475114  0.115690               97                44    0.833578  \n",
       "...          ...       ...              ...               ...         ...  \n",
       "213215  0.463381  0.348930              207                71    0.709804  \n",
       "213216  0.565805  0.092269               11                71    0.410819  \n",
       "213217  0.663699  0.200368               49                71    0.893450  \n",
       "213218  0.554812  0.166296               14                71    0.340710  \n",
       "213219  0.497544  0.117850               11                71    0.235644  \n",
       "\n",
       "[213220 rows x 11 columns]"
      ]
     },
     "execution_count": 128,
     "metadata": {},
     "output_type": "execute_result"
    }
   ],
   "source": [
    "reranked_dataframe = test_dataframe.copy()\n",
    "reranked_dataframe['rating_xgb'] = pd.Series(predictions, index=reranked_dataframe.index)\n",
    "reranked_dataframe"
   ]
  },
  {
   "cell_type": "code",
   "execution_count": 129,
   "id": "d3edf076",
   "metadata": {},
   "outputs": [
    {
     "data": {
      "text/html": [
       "<div>\n",
       "<style scoped>\n",
       "    .dataframe tbody tr th:only-of-type {\n",
       "        vertical-align: middle;\n",
       "    }\n",
       "\n",
       "    .dataframe tbody tr th {\n",
       "        vertical-align: top;\n",
       "    }\n",
       "\n",
       "    .dataframe thead th {\n",
       "        text-align: right;\n",
       "    }\n",
       "</style>\n",
       "<table border=\"1\" class=\"dataframe\">\n",
       "  <thead>\n",
       "    <tr style=\"text-align: right;\">\n",
       "      <th></th>\n",
       "      <th>UserID</th>\n",
       "      <th>ItemID</th>\n",
       "      <th>Hybrid</th>\n",
       "      <th>SLIM_Elastic</th>\n",
       "      <th>RP3Beta</th>\n",
       "      <th>ItemKNN_CFCBF</th>\n",
       "      <th>IALS</th>\n",
       "      <th>P3Alpha</th>\n",
       "      <th>item_popularity</th>\n",
       "      <th>user_profile_len</th>\n",
       "      <th>rating_xgb</th>\n",
       "    </tr>\n",
       "  </thead>\n",
       "  <tbody>\n",
       "    <tr>\n",
       "      <th>1</th>\n",
       "      <td>0</td>\n",
       "      <td>587</td>\n",
       "      <td>0.646479</td>\n",
       "      <td>0.639705</td>\n",
       "      <td>0.653691</td>\n",
       "      <td>2.125616</td>\n",
       "      <td>0.505709</td>\n",
       "      <td>0.619847</td>\n",
       "      <td>713</td>\n",
       "      <td>44</td>\n",
       "      <td>1.365411</td>\n",
       "    </tr>\n",
       "    <tr>\n",
       "      <th>0</th>\n",
       "      <td>0</td>\n",
       "      <td>674</td>\n",
       "      <td>0.608715</td>\n",
       "      <td>0.656822</td>\n",
       "      <td>0.557495</td>\n",
       "      <td>2.311057</td>\n",
       "      <td>0.798499</td>\n",
       "      <td>0.519134</td>\n",
       "      <td>426</td>\n",
       "      <td>44</td>\n",
       "      <td>1.327309</td>\n",
       "    </tr>\n",
       "    <tr>\n",
       "      <th>5</th>\n",
       "      <td>0</td>\n",
       "      <td>953</td>\n",
       "      <td>0.358515</td>\n",
       "      <td>0.475792</td>\n",
       "      <td>0.233647</td>\n",
       "      <td>0.591419</td>\n",
       "      <td>0.539438</td>\n",
       "      <td>0.291284</td>\n",
       "      <td>193</td>\n",
       "      <td>44</td>\n",
       "      <td>1.153091</td>\n",
       "    </tr>\n",
       "    <tr>\n",
       "      <th>3</th>\n",
       "      <td>0</td>\n",
       "      <td>1449</td>\n",
       "      <td>0.336407</td>\n",
       "      <td>0.420092</td>\n",
       "      <td>0.247307</td>\n",
       "      <td>0.692288</td>\n",
       "      <td>0.606444</td>\n",
       "      <td>0.162199</td>\n",
       "      <td>119</td>\n",
       "      <td>44</td>\n",
       "      <td>1.128760</td>\n",
       "    </tr>\n",
       "    <tr>\n",
       "      <th>2</th>\n",
       "      <td>0</td>\n",
       "      <td>1118</td>\n",
       "      <td>0.299608</td>\n",
       "      <td>0.315005</td>\n",
       "      <td>0.283214</td>\n",
       "      <td>1.087367</td>\n",
       "      <td>0.697459</td>\n",
       "      <td>0.144468</td>\n",
       "      <td>131</td>\n",
       "      <td>44</td>\n",
       "      <td>0.979886</td>\n",
       "    </tr>\n",
       "    <tr>\n",
       "      <th>...</th>\n",
       "      <td>...</td>\n",
       "      <td>...</td>\n",
       "      <td>...</td>\n",
       "      <td>...</td>\n",
       "      <td>...</td>\n",
       "      <td>...</td>\n",
       "      <td>...</td>\n",
       "      <td>...</td>\n",
       "      <td>...</td>\n",
       "      <td>...</td>\n",
       "      <td>...</td>\n",
       "    </tr>\n",
       "    <tr>\n",
       "      <th>213215</th>\n",
       "      <td>12637</td>\n",
       "      <td>820</td>\n",
       "      <td>0.308712</td>\n",
       "      <td>0.336043</td>\n",
       "      <td>0.279613</td>\n",
       "      <td>1.170394</td>\n",
       "      <td>0.463381</td>\n",
       "      <td>0.348930</td>\n",
       "      <td>207</td>\n",
       "      <td>71</td>\n",
       "      <td>0.709804</td>\n",
       "    </tr>\n",
       "    <tr>\n",
       "      <th>213216</th>\n",
       "      <td>12637</td>\n",
       "      <td>13158</td>\n",
       "      <td>0.227512</td>\n",
       "      <td>0.250277</td>\n",
       "      <td>0.203273</td>\n",
       "      <td>0.783723</td>\n",
       "      <td>0.565805</td>\n",
       "      <td>0.092269</td>\n",
       "      <td>11</td>\n",
       "      <td>71</td>\n",
       "      <td>0.410819</td>\n",
       "    </tr>\n",
       "    <tr>\n",
       "      <th>213214</th>\n",
       "      <td>12637</td>\n",
       "      <td>10905</td>\n",
       "      <td>0.225190</td>\n",
       "      <td>0.175164</td>\n",
       "      <td>0.278454</td>\n",
       "      <td>0.885543</td>\n",
       "      <td>0.584844</td>\n",
       "      <td>0.194539</td>\n",
       "      <td>15</td>\n",
       "      <td>71</td>\n",
       "      <td>0.349127</td>\n",
       "    </tr>\n",
       "    <tr>\n",
       "      <th>213218</th>\n",
       "      <td>12637</td>\n",
       "      <td>16588</td>\n",
       "      <td>0.211668</td>\n",
       "      <td>0.146710</td>\n",
       "      <td>0.280830</td>\n",
       "      <td>0.961876</td>\n",
       "      <td>0.554812</td>\n",
       "      <td>0.166296</td>\n",
       "      <td>14</td>\n",
       "      <td>71</td>\n",
       "      <td>0.340710</td>\n",
       "    </tr>\n",
       "    <tr>\n",
       "      <th>213219</th>\n",
       "      <td>12637</td>\n",
       "      <td>16593</td>\n",
       "      <td>0.194534</td>\n",
       "      <td>0.218686</td>\n",
       "      <td>0.168819</td>\n",
       "      <td>0.854436</td>\n",
       "      <td>0.497544</td>\n",
       "      <td>0.117850</td>\n",
       "      <td>11</td>\n",
       "      <td>71</td>\n",
       "      <td>0.235644</td>\n",
       "    </tr>\n",
       "  </tbody>\n",
       "</table>\n",
       "<p>213220 rows × 11 columns</p>\n",
       "</div>"
      ],
      "text/plain": [
       "        UserID  ItemID    Hybrid  SLIM_Elastic   RP3Beta  ItemKNN_CFCBF  \\\n",
       "1            0     587  0.646479      0.639705  0.653691       2.125616   \n",
       "0            0     674  0.608715      0.656822  0.557495       2.311057   \n",
       "5            0     953  0.358515      0.475792  0.233647       0.591419   \n",
       "3            0    1449  0.336407      0.420092  0.247307       0.692288   \n",
       "2            0    1118  0.299608      0.315005  0.283214       1.087367   \n",
       "...        ...     ...       ...           ...       ...            ...   \n",
       "213215   12637     820  0.308712      0.336043  0.279613       1.170394   \n",
       "213216   12637   13158  0.227512      0.250277  0.203273       0.783723   \n",
       "213214   12637   10905  0.225190      0.175164  0.278454       0.885543   \n",
       "213218   12637   16588  0.211668      0.146710  0.280830       0.961876   \n",
       "213219   12637   16593  0.194534      0.218686  0.168819       0.854436   \n",
       "\n",
       "            IALS   P3Alpha  item_popularity  user_profile_len  rating_xgb  \n",
       "1       0.505709  0.619847              713                44    1.365411  \n",
       "0       0.798499  0.519134              426                44    1.327309  \n",
       "5       0.539438  0.291284              193                44    1.153091  \n",
       "3       0.606444  0.162199              119                44    1.128760  \n",
       "2       0.697459  0.144468              131                44    0.979886  \n",
       "...          ...       ...              ...               ...         ...  \n",
       "213215  0.463381  0.348930              207                71    0.709804  \n",
       "213216  0.565805  0.092269               11                71    0.410819  \n",
       "213214  0.584844  0.194539               15                71    0.349127  \n",
       "213218  0.554812  0.166296               14                71    0.340710  \n",
       "213219  0.497544  0.117850               11                71    0.235644  \n",
       "\n",
       "[213220 rows x 11 columns]"
      ]
     },
     "execution_count": 129,
     "metadata": {},
     "output_type": "execute_result"
    }
   ],
   "source": [
    "reranked_dataframe = reranked_dataframe.sort_values(['UserID','rating_xgb'], ascending=[True, False])\n",
    "reranked_dataframe"
   ]
  },
  {
   "cell_type": "code",
   "execution_count": 135,
   "id": "c1e9f4df",
   "metadata": {},
   "outputs": [
    {
     "data": {
      "text/plain": [
       "array([ 587,  674,  953, 1449, 1118, 1585, 2023, 2755, 1167,  818])"
      ]
     },
     "execution_count": 135,
     "metadata": {},
     "output_type": "execute_result"
    }
   ],
   "source": [
    "reranked_dataframe[reranked_dataframe['UserID'] == user2user_encoded[2]][\"ItemID\"].to_numpy()[:10]"
   ]
  },
  {
   "cell_type": "code",
   "execution_count": 143,
   "id": "181e4b52",
   "metadata": {},
   "outputs": [],
   "source": [
    "res = reranked_dataframe[reranked_dataframe['UserID'] == user2user_encoded[3]][\"ItemID\"].to_numpy()[:10]"
   ]
  },
  {
   "cell_type": "code",
   "execution_count": 144,
   "id": "6a2c9466",
   "metadata": {},
   "outputs": [],
   "source": [
    "arr = []\n",
    "\n",
    "for i in res:\n",
    "    arr.append(item_encoded2item[i])"
   ]
  },
  {
   "cell_type": "code",
   "execution_count": 145,
   "id": "ba05452c",
   "metadata": {},
   "outputs": [
    {
     "data": {
      "text/plain": [
       "[59, 857, 239, 4252, 1281, 259, 536, 648, 584, 9]"
      ]
     },
     "execution_count": 145,
     "metadata": {},
     "output_type": "execute_result"
    }
   ],
   "source": [
    "arr"
   ]
  },
  {
   "cell_type": "code",
   "execution_count": 149,
   "id": "3b5b767d",
   "metadata": {},
   "outputs": [],
   "source": [
    "from uu import decode\n",
    "\n",
    "item_popularity_encoded = np.ediff1d(urm_all.tocsc().indptr)\n",
    "item_popularity_encoded = np.sort(item_popularity_encoded)\n",
    "\n",
    "tar_users = df_test[\"UserID\"].astype(int)\n",
    "topPop_encoded = item_popularity_encoded[-10:]\n",
    "\n",
    "\n",
    "def write_reranked_recommendations():\n",
    "\n",
    "    submissions = []\n",
    "\n",
    "    for id in tqdm(df_test['UserID']):\n",
    "\n",
    "        if not id in user2user_encoded.keys():\n",
    "            #recommend top pop\n",
    "            decoded_recommendations = []\n",
    "            for rec in topPop_encoded:\n",
    "                decoded_recommendations.append(item_encoded2item[rec])\n",
    "        else:\n",
    "            user_for_df = user2user_encoded[id]\n",
    "            recommendations_per_user = reranked_dataframe.loc[reranked_dataframe['UserID'] == user_for_df].ItemID.values[:10]\n",
    "            #recommendations_per_user = reranked_dataframe.loc[reranked_dataframe['UserID'] == id].ItemID.values[:10]\n",
    "\n",
    "            decoded_recommendations = []\n",
    "            for rec in recommendations_per_user:\n",
    "                decoded_recommendations.append(item_encoded2item[rec])\n",
    "        \n",
    "        submissions.append((id, decoded_recommendations))\n",
    "\n",
    "    with open(\"./submission_xg_full.csv\", \"w\") as f:\n",
    "        f.write(\"user_id,item_list\\n\")\n",
    "        for user_id, items in submissions:\n",
    "            f.write(f\"{user_id},{' '.join([str(item) for item in items])}\\n\")\n",
    "\n",
    "    "
   ]
  },
  {
   "cell_type": "code",
   "execution_count": 150,
   "id": "73cb211d",
   "metadata": {},
   "outputs": [
    {
     "name": "stderr",
     "output_type": "stream",
     "text": [
      "100%|██████████| 10882/10882 [00:05<00:00, 1891.80it/s]\n"
     ]
    }
   ],
   "source": [
    "write_reranked_recommendations()"
   ]
  },
  {
   "cell_type": "code",
   "execution_count": 151,
   "id": "bd02e13f",
   "metadata": {},
   "outputs": [],
   "source": [
    "def compareDataframes(name1, name2):\n",
    "\n",
    "    path = \"/home/japo/RecSys-Challenge/\"\n",
    "\n",
    "    #Load the csv\n",
    "    csv1 = pd.read_csv(path + name1)\n",
    "    csv2 = pd.read_csv(path + name2)\n",
    "\n",
    "    df1 = pd.DataFrame(csv1)\n",
    "    df1['item_list'] = df1['item_list'].apply(lambda x: [int(item) for item in x.split()])\n",
    "    df2 = pd.DataFrame(csv2)\n",
    "    df2['item_list'] = df2['item_list'].apply(lambda x: [int(item) for item in x.split()])\n",
    "\n",
    "    if df1.shape == df2.shape:\n",
    "        common_items = []\n",
    "        for index, row1 in df1.iterrows():\n",
    "            row2 = df2.iloc[index]\n",
    "            items1 = set(row1['item_list'])\n",
    "            items2 = set(row2['item_list'])\n",
    "            common_items.append(len(items1.intersection(items2)))\n",
    "        \n",
    "        count = 0\n",
    "        for row in common_items:\n",
    "            count += row\n",
    "        res = count/(len(common_items)*10)\n",
    "        return res\n",
    "    else:\n",
    "        print(\"The two dataframes have different shape\")"
   ]
  },
  {
   "cell_type": "code",
   "execution_count": 152,
   "id": "38a55fe3",
   "metadata": {},
   "outputs": [
    {
     "data": {
      "text/plain": [
       "0.7975004594743613"
      ]
     },
     "execution_count": 152,
     "metadata": {},
     "output_type": "execute_result"
    }
   ],
   "source": [
    "compareDataframes(\"submission_xg_full.csv\", \"submission_best.csv\")"
   ]
  },
  {
   "cell_type": "code",
   "execution_count": null,
   "id": "eb8a7905",
   "metadata": {},
   "outputs": [],
   "source": []
  }
 ],
 "metadata": {
  "kernelspec": {
   "display_name": "Python 3",
   "language": "python",
   "name": "python3"
  },
  "language_info": {
   "codemirror_mode": {
    "name": "ipython",
    "version": 3
   },
   "file_extension": ".py",
   "mimetype": "text/x-python",
   "name": "python",
   "nbconvert_exporter": "python",
   "pygments_lexer": "ipython3",
   "version": "3.8.18"
  },
  "papermill": {
   "default_parameters": {},
   "duration": 8221.789469,
   "end_time": "2023-01-15T18:48:44.063815",
   "environment_variables": {},
   "exception": null,
   "input_path": "__notebook__.ipynb",
   "output_path": "__notebook__.ipynb",
   "parameters": {},
   "start_time": "2023-01-15T16:31:42.274346",
   "version": "2.3.4"
  }
 },
 "nbformat": 4,
 "nbformat_minor": 5
}
