{
 "cells": [
  {
   "cell_type": "code",
   "execution_count": 1,
   "metadata": {},
   "outputs": [],
   "source": [
    "import os\n",
    "os.chdir(\"../\")"
   ]
  },
  {
   "cell_type": "code",
   "execution_count": 2,
   "metadata": {},
   "outputs": [],
   "source": [
    "import numpy as np\n",
    "import pandas as pd\n",
    "import matplotlib.pyplot as plt\n",
    "\n",
    "\n",
    "k_fold = 10\n",
    "seeds = [192760, 1393659, 1269293, 138973, 931308, 1088652, 1361151, 1456105, 820535, 1240839]\n"
   ]
  },
  {
   "cell_type": "code",
   "execution_count": 3,
   "metadata": {},
   "outputs": [],
   "source": [
    "data_train_path = \"Dataset/data_train.csv\"\n",
    "data_test_path = \"Dataset/data_target_users_test.csv\""
   ]
  },
  {
   "cell_type": "code",
   "execution_count": 4,
   "metadata": {},
   "outputs": [],
   "source": [
    "df = pd.read_csv(data_train_path)\n",
    "df_test = pd.read_csv(data_test_path)\n",
    "\n",
    "df.columns = [\"UserID\", \"ItemID\", \"Interaction\"]\n",
    "df_test.columns = [\"UserID\"]"
   ]
  },
  {
   "cell_type": "code",
   "execution_count": 5,
   "metadata": {},
   "outputs": [
    {
     "data": {
      "text/html": [
       "<div>\n",
       "<style scoped>\n",
       "    .dataframe tbody tr th:only-of-type {\n",
       "        vertical-align: middle;\n",
       "    }\n",
       "\n",
       "    .dataframe tbody tr th {\n",
       "        vertical-align: top;\n",
       "    }\n",
       "\n",
       "    .dataframe thead th {\n",
       "        text-align: right;\n",
       "    }\n",
       "</style>\n",
       "<table border=\"1\" class=\"dataframe\">\n",
       "  <thead>\n",
       "    <tr style=\"text-align: right;\">\n",
       "      <th></th>\n",
       "      <th>UserID</th>\n",
       "      <th>ItemID</th>\n",
       "      <th>Interaction</th>\n",
       "    </tr>\n",
       "  </thead>\n",
       "  <tbody>\n",
       "    <tr>\n",
       "      <th>0</th>\n",
       "      <td>1</td>\n",
       "      <td>7</td>\n",
       "      <td>1.0</td>\n",
       "    </tr>\n",
       "    <tr>\n",
       "      <th>1</th>\n",
       "      <td>1</td>\n",
       "      <td>15</td>\n",
       "      <td>1.0</td>\n",
       "    </tr>\n",
       "    <tr>\n",
       "      <th>2</th>\n",
       "      <td>1</td>\n",
       "      <td>16</td>\n",
       "      <td>1.0</td>\n",
       "    </tr>\n",
       "    <tr>\n",
       "      <th>3</th>\n",
       "      <td>1</td>\n",
       "      <td>133</td>\n",
       "      <td>1.0</td>\n",
       "    </tr>\n",
       "    <tr>\n",
       "      <th>4</th>\n",
       "      <td>1</td>\n",
       "      <td>161</td>\n",
       "      <td>1.0</td>\n",
       "    </tr>\n",
       "    <tr>\n",
       "      <th>...</th>\n",
       "      <td>...</td>\n",
       "      <td>...</td>\n",
       "      <td>...</td>\n",
       "    </tr>\n",
       "    <tr>\n",
       "      <th>478725</th>\n",
       "      <td>13024</td>\n",
       "      <td>13605</td>\n",
       "      <td>1.0</td>\n",
       "    </tr>\n",
       "    <tr>\n",
       "      <th>478726</th>\n",
       "      <td>13024</td>\n",
       "      <td>13823</td>\n",
       "      <td>1.0</td>\n",
       "    </tr>\n",
       "    <tr>\n",
       "      <th>478727</th>\n",
       "      <td>13024</td>\n",
       "      <td>15122</td>\n",
       "      <td>1.0</td>\n",
       "    </tr>\n",
       "    <tr>\n",
       "      <th>478728</th>\n",
       "      <td>13024</td>\n",
       "      <td>18185</td>\n",
       "      <td>1.0</td>\n",
       "    </tr>\n",
       "    <tr>\n",
       "      <th>478729</th>\n",
       "      <td>13024</td>\n",
       "      <td>20014</td>\n",
       "      <td>1.0</td>\n",
       "    </tr>\n",
       "  </tbody>\n",
       "</table>\n",
       "<p>478730 rows × 3 columns</p>\n",
       "</div>"
      ],
      "text/plain": [
       "        UserID  ItemID  Interaction\n",
       "0            1       7          1.0\n",
       "1            1      15          1.0\n",
       "2            1      16          1.0\n",
       "3            1     133          1.0\n",
       "4            1     161          1.0\n",
       "...        ...     ...          ...\n",
       "478725   13024   13605          1.0\n",
       "478726   13024   13823          1.0\n",
       "478727   13024   15122          1.0\n",
       "478728   13024   18185          1.0\n",
       "478729   13024   20014          1.0\n",
       "\n",
       "[478730 rows x 3 columns]"
      ]
     },
     "execution_count": 5,
     "metadata": {},
     "output_type": "execute_result"
    }
   ],
   "source": [
    "df"
   ]
  },
  {
   "cell_type": "code",
   "execution_count": 6,
   "metadata": {},
   "outputs": [],
   "source": [
    "metric_to_optimize=\"MAP\"\n",
    "cutoff_to_optimize=10"
   ]
  },
  {
   "cell_type": "code",
   "execution_count": 7,
   "metadata": {},
   "outputs": [
    {
     "name": "stdout",
     "output_type": "stream",
     "text": [
      "Number of users: 12638, Number of Items: 22222, Min rating: 0.0, Max rating: 1.0\n"
     ]
    }
   ],
   "source": [
    "user_ids = df[\"UserID\"].unique().tolist()\n",
    "user2user_encoded = {x: i for i, x in enumerate(user_ids)}\n",
    "userencoded2user = {i: x for i, x in enumerate(user_ids)}\n",
    "item_ids = df[\"ItemID\"].unique().tolist()\n",
    "item2item_encoded = {x: i for i, x in enumerate(item_ids)}\n",
    "item_encoded2item = {i: x for i, x in enumerate(item_ids)}\n",
    "df[\"User\"] = df[\"UserID\"].map(user2user_encoded)\n",
    "df[\"Item\"] = df[\"ItemID\"].map(item2item_encoded)\n",
    "\n",
    "num_users = len(user2user_encoded)\n",
    "num_items = len(item_encoded2item)\n",
    "df[\"Interaction\"] = df[\"Interaction\"].values.astype(np.float32)\n",
    "\n",
    "# min and max ratings will be used to normalize the ratings later\n",
    "min_rating = 0.0\n",
    "max_rating = max(df[\"Interaction\"])\n",
    "\n",
    "print(\n",
    "    \"Number of users: {}, Number of Items: {}, Min rating: {}, Max rating: {}\".format(\n",
    "        num_users, num_items, min_rating, max_rating\n",
    "    )\n",
    ")"
   ]
  },
  {
   "cell_type": "code",
   "execution_count": 8,
   "metadata": {},
   "outputs": [],
   "source": [
    "userId_unique = df[\"UserID\"].unique()\n",
    "itemId_unique = df[\"ItemID\"].unique()"
   ]
  },
  {
   "cell_type": "code",
   "execution_count": 9,
   "metadata": {},
   "outputs": [
    {
     "name": "stdout",
     "output_type": "stream",
     "text": [
      "Warning: 249 (1.97 %) of 12638 users have no train items\n",
      "Warning: 2146 (16.98 %) of 12638 users have no sampled items\n",
      "Warning: 508 (4.02 %) of 12638 users have no train items\n",
      "Warning: 2581 (20.42 %) of 12638 users have no sampled items\n",
      "Warning: 191 (1.51 %) of 12638 users have no train items\n",
      "Warning: 2177 (17.23 %) of 12638 users have no sampled items\n",
      "Warning: 440 (3.48 %) of 12638 users have no train items\n",
      "Warning: 2598 (20.56 %) of 12638 users have no sampled items\n",
      "Warning: 235 (1.86 %) of 12638 users have no train items\n",
      "Warning: 2157 (17.07 %) of 12638 users have no sampled items\n",
      "Warning: 479 (3.79 %) of 12638 users have no train items\n",
      "Warning: 2621 (20.74 %) of 12638 users have no sampled items\n",
      "Warning: 218 (1.72 %) of 12638 users have no train items\n",
      "Warning: 2132 (16.87 %) of 12638 users have no sampled items\n",
      "Warning: 451 (3.57 %) of 12638 users have no train items\n",
      "Warning: 2601 (20.58 %) of 12638 users have no sampled items\n",
      "Warning: 220 (1.74 %) of 12638 users have no train items\n",
      "Warning: 2149 (17.00 %) of 12638 users have no sampled items\n",
      "Warning: 449 (3.55 %) of 12638 users have no train items\n",
      "Warning: 2649 (20.96 %) of 12638 users have no sampled items\n",
      "Warning: 224 (1.77 %) of 12638 users have no train items\n",
      "Warning: 2129 (16.85 %) of 12638 users have no sampled items\n",
      "Warning: 460 (3.64 %) of 12638 users have no train items\n",
      "Warning: 2614 (20.68 %) of 12638 users have no sampled items\n",
      "Warning: 207 (1.64 %) of 12638 users have no train items\n",
      "Warning: 2228 (17.63 %) of 12638 users have no sampled items\n",
      "Warning: 426 (3.37 %) of 12638 users have no train items\n",
      "Warning: 2608 (20.64 %) of 12638 users have no sampled items\n",
      "Warning: 218 (1.72 %) of 12638 users have no train items\n",
      "Warning: 2183 (17.27 %) of 12638 users have no sampled items\n",
      "Warning: 471 (3.73 %) of 12638 users have no train items\n",
      "Warning: 2586 (20.46 %) of 12638 users have no sampled items\n",
      "Warning: 214 (1.69 %) of 12638 users have no train items\n",
      "Warning: 2140 (16.93 %) of 12638 users have no sampled items\n",
      "Warning: 478 (3.78 %) of 12638 users have no train items\n",
      "Warning: 2593 (20.52 %) of 12638 users have no sampled items\n",
      "Warning: 217 (1.72 %) of 12638 users have no train items\n",
      "Warning: 2187 (17.30 %) of 12638 users have no sampled items\n",
      "Warning: 460 (3.64 %) of 12638 users have no train items\n",
      "Warning: 2570 (20.34 %) of 12638 users have no sampled items\n"
     ]
    }
   ],
   "source": [
    "from sklearn.model_selection import train_test_split\n",
    "from sklearn.model_selection import cross_val_score, KFold\n",
    "import numpy as np\n",
    "import scipy.sparse as sps\n",
    "from Data_manager.split_functions.split_train_validation_random_holdout import split_train_in_two_percentage_global_sample\n",
    "\n",
    "\n",
    "urm_all = sps.coo_matrix((df[\"Interaction\"].values, \n",
    "                          (df[\"User\"].values, df[\"Item\"].values)))\n",
    "\n",
    "urm_train_validation = []\n",
    "urm_test = []\n",
    "urm_train = []\n",
    "urm_validation = []\n",
    "\n",
    "for i in range(len(seeds)):\n",
    "    a, b = split_train_in_two_percentage_global_sample(urm_all, train_percentage = 0.80,seed=seeds[i])\n",
    "    c, d = split_train_in_two_percentage_global_sample(a, train_percentage = 0.80,seed=seeds[i])\n",
    "    urm_train_validation.append(a)\n",
    "    urm_test.append(b)\n",
    "    urm_train.append(c)\n",
    "    urm_validation.append(d)\n",
    "\n"
   ]
  },
  {
   "cell_type": "code",
   "execution_count": 10,
   "metadata": {},
   "outputs": [
    {
     "name": "stdout",
     "output_type": "stream",
     "text": [
      "EvaluatorHoldout: Ignoring 2581 (20.4%) Users that have less than 1 test interactions\n",
      "EvaluatorHoldout: Ignoring 0 Users\n",
      "EvaluatorHoldout: Ignoring 2598 (20.6%) Users that have less than 1 test interactions\n",
      "EvaluatorHoldout: Ignoring 0 Users\n",
      "EvaluatorHoldout: Ignoring 2621 (20.7%) Users that have less than 1 test interactions\n",
      "EvaluatorHoldout: Ignoring 0 Users\n",
      "EvaluatorHoldout: Ignoring 2601 (20.6%) Users that have less than 1 test interactions\n",
      "EvaluatorHoldout: Ignoring 0 Users\n",
      "EvaluatorHoldout: Ignoring 2649 (21.0%) Users that have less than 1 test interactions\n",
      "EvaluatorHoldout: Ignoring 0 Users\n",
      "EvaluatorHoldout: Ignoring 2614 (20.7%) Users that have less than 1 test interactions\n",
      "EvaluatorHoldout: Ignoring 0 Users\n",
      "EvaluatorHoldout: Ignoring 2608 (20.6%) Users that have less than 1 test interactions\n",
      "EvaluatorHoldout: Ignoring 0 Users\n",
      "EvaluatorHoldout: Ignoring 2586 (20.5%) Users that have less than 1 test interactions\n",
      "EvaluatorHoldout: Ignoring 0 Users\n",
      "EvaluatorHoldout: Ignoring 2593 (20.5%) Users that have less than 1 test interactions\n",
      "EvaluatorHoldout: Ignoring 0 Users\n",
      "EvaluatorHoldout: Ignoring 2570 (20.3%) Users that have less than 1 test interactions\n",
      "EvaluatorHoldout: Ignoring 0 Users\n"
     ]
    }
   ],
   "source": [
    "from Evaluation.Evaluator import EvaluatorHoldout\n",
    "evaluator_validation = []\n",
    "for u in urm_validation:\n",
    "    evaluator_validation.append(EvaluatorHoldout(u, cutoff_list=[10], ignore_users=[]))"
   ]
  },
  {
   "cell_type": "code",
   "execution_count": 11,
   "metadata": {},
   "outputs": [
    {
     "name": "stdout",
     "output_type": "stream",
     "text": [
      "EvaluatorHoldout: Ignoring 2146 (17.0%) Users that have less than 1 test interactions\n",
      "EvaluatorHoldout: Ignoring 0 Users\n",
      "EvaluatorHoldout: Ignoring 2177 (17.2%) Users that have less than 1 test interactions\n",
      "EvaluatorHoldout: Ignoring 0 Users\n",
      "EvaluatorHoldout: Ignoring 2157 (17.1%) Users that have less than 1 test interactions\n",
      "EvaluatorHoldout: Ignoring 0 Users\n",
      "EvaluatorHoldout: Ignoring 2132 (16.9%) Users that have less than 1 test interactions\n",
      "EvaluatorHoldout: Ignoring 0 Users\n",
      "EvaluatorHoldout: Ignoring 2149 (17.0%) Users that have less than 1 test interactions\n",
      "EvaluatorHoldout: Ignoring 0 Users\n",
      "EvaluatorHoldout: Ignoring 2129 (16.8%) Users that have less than 1 test interactions\n",
      "EvaluatorHoldout: Ignoring 0 Users\n",
      "EvaluatorHoldout: Ignoring 2228 (17.6%) Users that have less than 1 test interactions\n",
      "EvaluatorHoldout: Ignoring 0 Users\n",
      "EvaluatorHoldout: Ignoring 2183 (17.3%) Users that have less than 1 test interactions\n",
      "EvaluatorHoldout: Ignoring 0 Users\n",
      "EvaluatorHoldout: Ignoring 2140 (16.9%) Users that have less than 1 test interactions\n",
      "EvaluatorHoldout: Ignoring 0 Users\n",
      "EvaluatorHoldout: Ignoring 2187 (17.3%) Users that have less than 1 test interactions\n",
      "EvaluatorHoldout: Ignoring 0 Users\n"
     ]
    }
   ],
   "source": [
    "from Evaluation.Evaluator import EvaluatorHoldout\n",
    "evaluator_test = []\n",
    "for u in urm_test:\n",
    "    evaluator_test.append(EvaluatorHoldout(u, cutoff_list=[10], ignore_users=[]))"
   ]
  },
  {
   "cell_type": "code",
   "execution_count": 12,
   "metadata": {},
   "outputs": [],
   "source": [
    "from Recommenders.KNN.ItemKNNCFRecommender import ItemKNNCFRecommender\n",
    "\n",
    "recommenderClass = ItemKNNCFRecommender\n",
    "\n"
   ]
  },
  {
   "cell_type": "code",
   "execution_count": 13,
   "metadata": {},
   "outputs": [],
   "source": [
    "import optuna\n",
    "\n",
    "# Replace the following with your MySQL database connection details\n",
    "host = \"db-mysql-nyc3-14396-do-user-15539286-0.c.db.ondigitalocean.com\"\n",
    "port = 25060\n",
    "database_name = \"recsys_optuna\"\n",
    "username = \"doadmin\"\n",
    "password = \"AVNS_EIQ1D-GbDGJWZPsN3Mt\"\n",
    "\n",
    "# Create an SQLAlchemy engine\n",
    "mysql_url = f\"mysql+pymysql://{username}:{password}@{host}:{port}/{database_name}\"\n",
    "storage = optuna.storages.RDBStorage(url=mysql_url)"
   ]
  },
  {
   "cell_type": "code",
   "execution_count": 14,
   "metadata": {},
   "outputs": [],
   "source": [
    "rp3_study = optuna.load_study(study_name=\"RP3_Hybrid_last\", storage=storage)\n",
    "p3_study = optuna.load_study(study_name=\"P3_Hybrid_last\", storage=storage)\n",
    "slim_study = optuna.load_study(study_name=\"SLIM_Hybrid_last\", storage=storage)\n",
    "knn_study = optuna.load_study(study_name=\"KNN_Hybrid_last\", storage=storage)\n"
   ]
  },
  {
   "cell_type": "code",
   "execution_count": 15,
   "metadata": {},
   "outputs": [
    {
     "name": "stdout",
     "output_type": "stream",
     "text": [
      "SLIMElasticNetRecommender: URM Detected 508 ( 4.0%) users with no interactions.\n",
      "SLIMElasticNetRecommender: URM Detected 332 ( 1.5%) items with no interactions.\n"
     ]
    },
    {
     "name": "stderr",
     "output_type": "stream",
     "text": [
      "100%|█████████▉| 22216/22222 [00:42<00:00, 521.84it/s]\n"
     ]
    },
    {
     "name": "stdout",
     "output_type": "stream",
     "text": [
      "RP3betaRecommender: URM Detected 508 ( 4.0%) users with no interactions.\n",
      "RP3betaRecommender: URM Detected 332 ( 1.5%) items with no interactions.\n",
      "RP3betaRecommender: Similarity column 22222 (100.0%), 6248.46 column/sec. Elapsed time 3.56 sec\n",
      "P3alphaRecommender: URM Detected 508 ( 4.0%) users with no interactions.\n",
      "P3alphaRecommender: URM Detected 332 ( 1.5%) items with no interactions.\n",
      "P3alphaRecommender: Similarity column 22222 (100.0%), 6362.82 column/sec. Elapsed time 3.49 sec\n",
      "ItemKNNCFRecommender: URM Detected 508 ( 4.0%) users with no interactions.\n",
      "ItemKNNCFRecommender: URM Detected 332 ( 1.5%) items with no interactions.\n",
      "Similarity column 22222 (100.0%), 9365.18 column/sec. Elapsed time 2.37 sec\n",
      "SLIMElasticNetRecommender: URM Detected 440 ( 3.5%) users with no interactions.\n",
      "SLIMElasticNetRecommender: URM Detected 325 ( 1.5%) items with no interactions.\n"
     ]
    },
    {
     "name": "stderr",
     "output_type": "stream",
     "text": [
      "100%|█████████▉| 22216/22222 [00:43<00:00, 508.26it/s]\n"
     ]
    },
    {
     "name": "stdout",
     "output_type": "stream",
     "text": [
      "RP3betaRecommender: URM Detected 440 ( 3.5%) users with no interactions.\n",
      "RP3betaRecommender: URM Detected 325 ( 1.5%) items with no interactions.\n",
      "RP3betaRecommender: Similarity column 22222 (100.0%), 6407.20 column/sec. Elapsed time 3.47 sec\n",
      "P3alphaRecommender: URM Detected 440 ( 3.5%) users with no interactions.\n",
      "P3alphaRecommender: URM Detected 325 ( 1.5%) items with no interactions.\n",
      "P3alphaRecommender: Similarity column 22222 (100.0%), 6574.12 column/sec. Elapsed time 3.38 sec\n",
      "ItemKNNCFRecommender: URM Detected 440 ( 3.5%) users with no interactions.\n",
      "ItemKNNCFRecommender: URM Detected 325 ( 1.5%) items with no interactions.\n",
      "Similarity column 22222 (100.0%), 8997.02 column/sec. Elapsed time 2.47 sec\n",
      "SLIMElasticNetRecommender: URM Detected 479 ( 3.8%) users with no interactions.\n",
      "SLIMElasticNetRecommender: URM Detected 345 ( 1.6%) items with no interactions.\n"
     ]
    },
    {
     "name": "stderr",
     "output_type": "stream",
     "text": [
      "100%|█████████▉| 22216/22222 [00:44<00:00, 502.75it/s]\n"
     ]
    },
    {
     "name": "stdout",
     "output_type": "stream",
     "text": [
      "RP3betaRecommender: URM Detected 479 ( 3.8%) users with no interactions.\n",
      "RP3betaRecommender: URM Detected 345 ( 1.6%) items with no interactions.\n",
      "RP3betaRecommender: Similarity column 22222 (100.0%), 6348.86 column/sec. Elapsed time 3.50 sec\n",
      "P3alphaRecommender: URM Detected 479 ( 3.8%) users with no interactions.\n",
      "P3alphaRecommender: URM Detected 345 ( 1.6%) items with no interactions.\n",
      "P3alphaRecommender: Similarity column 22222 (100.0%), 6577.37 column/sec. Elapsed time 3.38 sec\n",
      "ItemKNNCFRecommender: URM Detected 479 ( 3.8%) users with no interactions.\n",
      "ItemKNNCFRecommender: URM Detected 345 ( 1.6%) items with no interactions.\n",
      "Similarity column 22222 (100.0%), 8798.91 column/sec. Elapsed time 2.53 sec\n",
      "SLIMElasticNetRecommender: URM Detected 451 ( 3.6%) users with no interactions.\n",
      "SLIMElasticNetRecommender: URM Detected 311 ( 1.4%) items with no interactions.\n"
     ]
    },
    {
     "name": "stderr",
     "output_type": "stream",
     "text": [
      "100%|█████████▉| 22216/22222 [00:41<00:00, 530.77it/s]\n"
     ]
    },
    {
     "name": "stdout",
     "output_type": "stream",
     "text": [
      "RP3betaRecommender: URM Detected 451 ( 3.6%) users with no interactions.\n",
      "RP3betaRecommender: URM Detected 311 ( 1.4%) items with no interactions.\n",
      "RP3betaRecommender: Similarity column 22222 (100.0%), 6219.75 column/sec. Elapsed time 3.57 sec\n",
      "P3alphaRecommender: URM Detected 451 ( 3.6%) users with no interactions.\n",
      "P3alphaRecommender: URM Detected 311 ( 1.4%) items with no interactions.\n",
      "P3alphaRecommender: Similarity column 22222 (100.0%), 6508.74 column/sec. Elapsed time 3.41 sec\n",
      "ItemKNNCFRecommender: URM Detected 451 ( 3.6%) users with no interactions.\n",
      "ItemKNNCFRecommender: URM Detected 311 ( 1.4%) items with no interactions.\n",
      "Similarity column 22222 (100.0%), 8678.40 column/sec. Elapsed time 2.56 sec\n",
      "SLIMElasticNetRecommender: URM Detected 449 ( 3.6%) users with no interactions.\n",
      "SLIMElasticNetRecommender: URM Detected 320 ( 1.4%) items with no interactions.\n"
     ]
    },
    {
     "name": "stderr",
     "output_type": "stream",
     "text": [
      "100%|█████████▉| 22216/22222 [00:45<00:00, 488.31it/s]\n"
     ]
    },
    {
     "name": "stdout",
     "output_type": "stream",
     "text": [
      "RP3betaRecommender: URM Detected 449 ( 3.6%) users with no interactions.\n",
      "RP3betaRecommender: URM Detected 320 ( 1.4%) items with no interactions.\n",
      "RP3betaRecommender: Similarity column 22222 (100.0%), 6314.63 column/sec. Elapsed time 3.52 sec\n",
      "P3alphaRecommender: URM Detected 449 ( 3.6%) users with no interactions.\n",
      "P3alphaRecommender: URM Detected 320 ( 1.4%) items with no interactions.\n",
      "P3alphaRecommender: Similarity column 22222 (100.0%), 6967.70 column/sec. Elapsed time 3.19 sec\n",
      "ItemKNNCFRecommender: URM Detected 449 ( 3.6%) users with no interactions.\n",
      "ItemKNNCFRecommender: URM Detected 320 ( 1.4%) items with no interactions.\n",
      "Similarity column 22222 (100.0%), 9321.52 column/sec. Elapsed time 2.38 sec\n",
      "SLIMElasticNetRecommender: URM Detected 460 ( 3.6%) users with no interactions.\n",
      "SLIMElasticNetRecommender: URM Detected 328 ( 1.5%) items with no interactions.\n"
     ]
    },
    {
     "name": "stderr",
     "output_type": "stream",
     "text": [
      "100%|█████████▉| 22216/22222 [00:47<00:00, 469.59it/s]\n"
     ]
    },
    {
     "name": "stdout",
     "output_type": "stream",
     "text": [
      "RP3betaRecommender: URM Detected 460 ( 3.6%) users with no interactions.\n",
      "RP3betaRecommender: URM Detected 328 ( 1.5%) items with no interactions.\n",
      "RP3betaRecommender: Similarity column 22222 (100.0%), 7261.45 column/sec. Elapsed time 3.06 sec\n",
      "P3alphaRecommender: URM Detected 460 ( 3.6%) users with no interactions.\n",
      "P3alphaRecommender: URM Detected 328 ( 1.5%) items with no interactions.\n",
      "P3alphaRecommender: Similarity column 22222 (100.0%), 6785.97 column/sec. Elapsed time 3.27 sec\n",
      "ItemKNNCFRecommender: URM Detected 460 ( 3.6%) users with no interactions.\n",
      "ItemKNNCFRecommender: URM Detected 328 ( 1.5%) items with no interactions.\n",
      "Similarity column 22222 (100.0%), 9095.08 column/sec. Elapsed time 2.44 sec\n",
      "SLIMElasticNetRecommender: URM Detected 426 ( 3.4%) users with no interactions.\n",
      "SLIMElasticNetRecommender: URM Detected 344 ( 1.5%) items with no interactions.\n"
     ]
    },
    {
     "name": "stderr",
     "output_type": "stream",
     "text": [
      "100%|█████████▉| 22216/22222 [00:46<00:00, 482.23it/s]\n"
     ]
    },
    {
     "name": "stdout",
     "output_type": "stream",
     "text": [
      "RP3betaRecommender: URM Detected 426 ( 3.4%) users with no interactions.\n",
      "RP3betaRecommender: URM Detected 344 ( 1.5%) items with no interactions.\n",
      "RP3betaRecommender: Similarity column 22222 (100.0%), 8332.17 column/sec. Elapsed time 2.67 sec\n",
      "P3alphaRecommender: URM Detected 426 ( 3.4%) users with no interactions.\n",
      "P3alphaRecommender: URM Detected 344 ( 1.5%) items with no interactions.\n",
      "P3alphaRecommender: Similarity column 22222 (100.0%), 9331.88 column/sec. Elapsed time 2.38 sec\n",
      "ItemKNNCFRecommender: URM Detected 426 ( 3.4%) users with no interactions.\n",
      "ItemKNNCFRecommender: URM Detected 344 ( 1.5%) items with no interactions.\n",
      "Similarity column 22222 (100.0%), 13053.80 column/sec. Elapsed time 1.70 sec\n",
      "SLIMElasticNetRecommender: URM Detected 471 ( 3.7%) users with no interactions.\n",
      "SLIMElasticNetRecommender: URM Detected 362 ( 1.6%) items with no interactions.\n"
     ]
    },
    {
     "name": "stderr",
     "output_type": "stream",
     "text": [
      "100%|█████████▉| 22216/22222 [00:48<00:00, 460.09it/s]\n"
     ]
    },
    {
     "name": "stdout",
     "output_type": "stream",
     "text": [
      "RP3betaRecommender: URM Detected 471 ( 3.7%) users with no interactions.\n",
      "RP3betaRecommender: URM Detected 362 ( 1.6%) items with no interactions.\n",
      "RP3betaRecommender: Similarity column 22222 (100.0%), 6650.53 column/sec. Elapsed time 3.34 sec\n",
      "P3alphaRecommender: URM Detected 471 ( 3.7%) users with no interactions.\n",
      "P3alphaRecommender: URM Detected 362 ( 1.6%) items with no interactions.\n",
      "P3alphaRecommender: Similarity column 22222 (100.0%), 6937.01 column/sec. Elapsed time 3.20 sec\n",
      "ItemKNNCFRecommender: URM Detected 471 ( 3.7%) users with no interactions.\n",
      "ItemKNNCFRecommender: URM Detected 362 ( 1.6%) items with no interactions.\n",
      "Similarity column 22222 (100.0%), 12553.10 column/sec. Elapsed time 1.77 sec\n",
      "SLIMElasticNetRecommender: URM Detected 478 ( 3.8%) users with no interactions.\n",
      "SLIMElasticNetRecommender: URM Detected 329 ( 1.5%) items with no interactions.\n"
     ]
    },
    {
     "name": "stderr",
     "output_type": "stream",
     "text": [
      "100%|█████████▉| 22216/22222 [00:47<00:00, 471.43it/s]\n"
     ]
    },
    {
     "name": "stdout",
     "output_type": "stream",
     "text": [
      "RP3betaRecommender: URM Detected 478 ( 3.8%) users with no interactions.\n",
      "RP3betaRecommender: URM Detected 329 ( 1.5%) items with no interactions.\n",
      "RP3betaRecommender: Similarity column 22222 (100.0%), 6190.93 column/sec. Elapsed time 3.59 sec\n",
      "P3alphaRecommender: URM Detected 478 ( 3.8%) users with no interactions.\n",
      "P3alphaRecommender: URM Detected 329 ( 1.5%) items with no interactions.\n",
      "P3alphaRecommender: Similarity column 22222 (100.0%), 6536.72 column/sec. Elapsed time 3.40 sec\n",
      "ItemKNNCFRecommender: URM Detected 478 ( 3.8%) users with no interactions.\n",
      "ItemKNNCFRecommender: URM Detected 329 ( 1.5%) items with no interactions.\n",
      "Similarity column 22222 (100.0%), 12700.02 column/sec. Elapsed time 1.75 sec\n",
      "SLIMElasticNetRecommender: URM Detected 460 ( 3.6%) users with no interactions.\n",
      "SLIMElasticNetRecommender: URM Detected 348 ( 1.6%) items with no interactions.\n"
     ]
    },
    {
     "name": "stderr",
     "output_type": "stream",
     "text": [
      "100%|█████████▉| 22216/22222 [00:48<00:00, 454.30it/s]\n"
     ]
    },
    {
     "name": "stdout",
     "output_type": "stream",
     "text": [
      "RP3betaRecommender: URM Detected 460 ( 3.6%) users with no interactions.\n",
      "RP3betaRecommender: URM Detected 348 ( 1.6%) items with no interactions.\n",
      "RP3betaRecommender: Similarity column 22222 (100.0%), 6092.13 column/sec. Elapsed time 3.65 sec\n",
      "P3alphaRecommender: URM Detected 460 ( 3.6%) users with no interactions.\n",
      "P3alphaRecommender: URM Detected 348 ( 1.6%) items with no interactions.\n",
      "P3alphaRecommender: Similarity column 22222 (100.0%), 7625.98 column/sec. Elapsed time 2.91 sec\n",
      "ItemKNNCFRecommender: URM Detected 460 ( 3.6%) users with no interactions.\n",
      "ItemKNNCFRecommender: URM Detected 348 ( 1.6%) items with no interactions.\n",
      "Similarity column 22222 (100.0%), 12379.04 column/sec. Elapsed time 1.80 sec\n"
     ]
    }
   ],
   "source": [
    "from Recommenders.GraphBased.P3alphaRecommender import P3alphaRecommender\n",
    "from Recommenders.GraphBased.RP3betaRecommender import RP3betaRecommender\n",
    "from Recommenders.SLIM.SLIMElasticNetRecommender import MultiThreadSLIM_SLIMElasticNetRecommender\n",
    "from Recommenders.MatrixFactorization.NMFRecommender import NMFRecommender\n",
    "from Recommenders.KNN.ItemKNNCFRecommender import ItemKNNCFRecommender\n",
    "from Recommenders.Hybrid.GeneralizedLinearHybridRecommender import GeneralizedLinearHybridRecommender\n",
    "\n",
    "slims = []\n",
    "rp3s = []\n",
    "p3s = []\n",
    "knns = []\n",
    "\n",
    "for i in range(k_fold):\n",
    "    slim = MultiThreadSLIM_SLIMElasticNetRecommender(urm_train[i])\n",
    "    slim.fit(workers=8, **slim_study.best_params)\n",
    "    slims.append(slim)\n",
    "\n",
    "    rp3 = RP3betaRecommender(urm_train[i])\n",
    "    rp3.fit(**rp3_study.best_params)\n",
    "    rp3s.append(rp3)\n",
    "\n",
    "    p3 = P3alphaRecommender(urm_train[i])\n",
    "    p3.fit(**p3_study.best_params)\n",
    "    p3s.append(p3)\n",
    "\n",
    "    knn = ItemKNNCFRecommender(urm_train[i])\n",
    "    knn.fit(**knn_study.best_params)\n",
    "    knns.append(knn)"
   ]
  },
  {
   "cell_type": "code",
   "execution_count": 16,
   "metadata": {},
   "outputs": [
    {
     "name": "stdout",
     "output_type": "stream",
     "text": [
      "SLIMElasticNetRP3betaP3alphaItemKNNCFHybridRecommender: URM Detected 508 ( 4.0%) users with no interactions.\n",
      "SLIMElasticNetRP3betaP3alphaItemKNNCFHybridRecommender: URM Detected 332 ( 1.5%) items with no interactions.\n",
      "SLIMElasticNetRP3betaP3alphaItemKNNCFHybridRecommender: URM Detected 440 ( 3.5%) users with no interactions.\n",
      "SLIMElasticNetRP3betaP3alphaItemKNNCFHybridRecommender: URM Detected 325 ( 1.5%) items with no interactions.\n",
      "SLIMElasticNetRP3betaP3alphaItemKNNCFHybridRecommender: URM Detected 479 ( 3.8%) users with no interactions.\n",
      "SLIMElasticNetRP3betaP3alphaItemKNNCFHybridRecommender: URM Detected 345 ( 1.6%) items with no interactions.\n",
      "SLIMElasticNetRP3betaP3alphaItemKNNCFHybridRecommender: URM Detected 451 ( 3.6%) users with no interactions.\n",
      "SLIMElasticNetRP3betaP3alphaItemKNNCFHybridRecommender: URM Detected 311 ( 1.4%) items with no interactions.\n",
      "SLIMElasticNetRP3betaP3alphaItemKNNCFHybridRecommender: URM Detected 449 ( 3.6%) users with no interactions.\n",
      "SLIMElasticNetRP3betaP3alphaItemKNNCFHybridRecommender: URM Detected 320 ( 1.4%) items with no interactions.\n",
      "SLIMElasticNetRP3betaP3alphaItemKNNCFHybridRecommender: URM Detected 460 ( 3.6%) users with no interactions.\n",
      "SLIMElasticNetRP3betaP3alphaItemKNNCFHybridRecommender: URM Detected 328 ( 1.5%) items with no interactions.\n",
      "SLIMElasticNetRP3betaP3alphaItemKNNCFHybridRecommender: URM Detected 426 ( 3.4%) users with no interactions.\n",
      "SLIMElasticNetRP3betaP3alphaItemKNNCFHybridRecommender: URM Detected 344 ( 1.5%) items with no interactions.\n",
      "SLIMElasticNetRP3betaP3alphaItemKNNCFHybridRecommender: URM Detected 471 ( 3.7%) users with no interactions.\n",
      "SLIMElasticNetRP3betaP3alphaItemKNNCFHybridRecommender: URM Detected 362 ( 1.6%) items with no interactions.\n",
      "SLIMElasticNetRP3betaP3alphaItemKNNCFHybridRecommender: URM Detected 478 ( 3.8%) users with no interactions.\n",
      "SLIMElasticNetRP3betaP3alphaItemKNNCFHybridRecommender: URM Detected 329 ( 1.5%) items with no interactions.\n",
      "SLIMElasticNetRP3betaP3alphaItemKNNCFHybridRecommender: URM Detected 460 ( 3.6%) users with no interactions.\n",
      "SLIMElasticNetRP3betaP3alphaItemKNNCFHybridRecommender: URM Detected 348 ( 1.6%) items with no interactions.\n"
     ]
    }
   ],
   "source": [
    "hybrids = []\n",
    "\n",
    "for i in range(k_fold):\n",
    "    hybrid = GeneralizedLinearHybridRecommender(urm_train[i], recommenders=[slims[i], rp3s[i], p3s[i], knns[i]])\n",
    "    hybrids.append(hybrid)"
   ]
  },
  {
   "cell_type": "code",
   "execution_count": 17,
   "metadata": {},
   "outputs": [
    {
     "name": "stderr",
     "output_type": "stream",
     "text": [
      "[I 2024-01-10 13:01:33,082] A new study created in RDB with name: LINEAR_4_Hybrid_last\n"
     ]
    }
   ],
   "source": [
    "study = optuna.create_study(study_name=\"LINEAR_4_Hybrid_last\", direction=\"maximize\", storage=storage, load_if_exists=True, sampler=optuna.samplers.TPESampler())"
   ]
  },
  {
   "cell_type": "code",
   "execution_count": 18,
   "metadata": {},
   "outputs": [],
   "source": [
    "def objective(trial):\n",
    "\n",
    "    alphas = []\n",
    "    w_slim = trial.suggest_float(\"w_slim\", 0.75, 1)\n",
    "    w_knn = trial.suggest_float(\"w_knn\", 0, 0.1)\n",
    "    w_p3 = trial.suggest_float(\"w_p3\", 0, 0.1)\n",
    "    w_rp3 = trial.suggest_float(\"w_rp3\", 0.35, 0.75)\n",
    "        \n",
    "    alphas = [w_slim, w_rp3, w_p3, w_knn]\n",
    "\n",
    "    MAP = 0\n",
    "    for i in range(k_fold):\n",
    "        recommender = hybrids[i]\n",
    "        recommender.fit(alphas=alphas)\n",
    "\n",
    "        result_dict, _ = evaluator_validation[i].evaluateRecommender(recommender)\n",
    "        print(f\"MAP: {result_dict['MAP'].item()}, RECALL: {result_dict['RECALL'].item()}\")\n",
    "        MAP += result_dict[\"MAP\"].item()\n",
    "    \n",
    "    MAP /= k_fold\n",
    "    return MAP"
   ]
  },
  {
   "cell_type": "code",
   "execution_count": null,
   "metadata": {},
   "outputs": [],
   "source": [
    "0.03112869156762209 #CON TOPPOP\n",
    "\n",
    "0.031013042810739334 #SENZA TOPPOP"
   ]
  },
  {
   "cell_type": "code",
   "execution_count": 21,
   "metadata": {},
   "outputs": [
    {
     "name": "stdout",
     "output_type": "stream",
     "text": [
      "EvaluatorHoldout: Processed 10057 (100.0%) in 6.83 sec. Users per second: 1472\n",
      "MAP: 0.030899499835067283, RECALL: 0.11836124402656223\n",
      "EvaluatorHoldout: Processed 10040 (100.0%) in 7.04 sec. Users per second: 1426\n",
      "MAP: 0.03101209843167038, RECALL: 0.11741155274604338\n",
      "EvaluatorHoldout: Processed 10017 (100.0%) in 6.99 sec. Users per second: 1434\n",
      "MAP: 0.030538683444493727, RECALL: 0.11584664409269313\n",
      "EvaluatorHoldout: Processed 10037 (100.0%) in 5.89 sec. Users per second: 1704\n",
      "MAP: 0.030930889043871316, RECALL: 0.11921937218318204\n",
      "EvaluatorHoldout: Processed 9989 (100.0%) in 6.72 sec. Users per second: 1487\n",
      "MAP: 0.031106828622596158, RECALL: 0.12326075820682202\n",
      "EvaluatorHoldout: Processed 10024 (100.0%) in 6.71 sec. Users per second: 1495\n",
      "MAP: 0.03128578712676905, RECALL: 0.11859559219415794\n",
      "EvaluatorHoldout: Processed 10030 (100.0%) in 7.06 sec. Users per second: 1420\n",
      "MAP: 0.03127620709300698, RECALL: 0.12250073682608799\n",
      "EvaluatorHoldout: Processed 10052 (100.0%) in 6.78 sec. Users per second: 1483\n",
      "MAP: 0.03063542989154841, RECALL: 0.11867452666580315\n",
      "EvaluatorHoldout: Processed 10045 (100.0%) in 6.49 sec. Users per second: 1548\n",
      "MAP: 0.031142035443678225, RECALL: 0.1152391592325118\n",
      "EvaluatorHoldout: Processed 10068 (100.0%) in 6.48 sec. Users per second: 1553\n",
      "MAP: 0.03130296917469175, RECALL: 0.12163329636062883\n"
     ]
    },
    {
     "name": "stderr",
     "output_type": "stream",
     "text": [
      "[I 2024-01-10 14:04:45,026] Trial 46 finished with value: 0.031013042810739334 and parameters: {'w_slim': 0.8856705402423755, 'w_knn': 0.09599696002268149, 'w_p3': 0.024430537906598455, 'w_rp3': 0.6810149971480753}. Best is trial 22 with value: 0.031086245251289845.\n"
     ]
    },
    {
     "name": "stdout",
     "output_type": "stream",
     "text": [
      "EvaluatorHoldout: Processed 10057 (100.0%) in 5.88 sec. Users per second: 1711\n",
      "MAP: 0.030848248317921347, RECALL: 0.11852922711131766\n",
      "EvaluatorHoldout: Processed 10040 (100.0%) in 6.36 sec. Users per second: 1578\n",
      "MAP: 0.031122739201922715, RECALL: 0.11797065543985084\n",
      "EvaluatorHoldout: Processed 10017 (100.0%) in 6.97 sec. Users per second: 1437\n",
      "MAP: 0.03062317869146287, RECALL: 0.1158181269448055\n",
      "EvaluatorHoldout: Processed 10037 (100.0%) in 7.19 sec. Users per second: 1396\n",
      "MAP: 0.03095388333009158, RECALL: 0.11935219893924913\n",
      "EvaluatorHoldout: Processed 9989 (100.0%) in 6.76 sec. Users per second: 1479\n",
      "MAP: 0.031213167817933308, RECALL: 0.1234982257052479\n",
      "EvaluatorHoldout: Processed 10024 (100.0%) in 6.86 sec. Users per second: 1461\n",
      "MAP: 0.031357678080543426, RECALL: 0.11907901290200877\n",
      "EvaluatorHoldout: Processed 10030 (100.0%) in 7.01 sec. Users per second: 1431\n",
      "MAP: 0.0314710946525506, RECALL: 0.12311747897598639\n",
      "EvaluatorHoldout: Processed 10052 (100.0%) in 7.07 sec. Users per second: 1422\n",
      "MAP: 0.030700346294506933, RECALL: 0.1188657723686506\n",
      "EvaluatorHoldout: Processed 10045 (100.0%) in 6.52 sec. Users per second: 1542\n",
      "MAP: 0.031128888256812762, RECALL: 0.11559607717074818\n",
      "EvaluatorHoldout: Processed 10068 (100.0%) in 5.54 sec. Users per second: 1817\n",
      "MAP: 0.03137754933121469, RECALL: 0.12203646100115344\n"
     ]
    },
    {
     "name": "stderr",
     "output_type": "stream",
     "text": [
      "[I 2024-01-10 14:06:05,257] Trial 47 finished with value: 0.031079677397496026 and parameters: {'w_slim': 0.7743726157285975, 'w_knn': 0.08882374664599411, 'w_p3': 0.05422828936846578, 'w_rp3': 0.7295071413456233}. Best is trial 22 with value: 0.031086245251289845.\n"
     ]
    },
    {
     "name": "stdout",
     "output_type": "stream",
     "text": [
      "EvaluatorHoldout: Processed 10057 (100.0%) in 7.10 sec. Users per second: 1416\n",
      "MAP: 0.030962813550066408, RECALL: 0.11813245559162602\n",
      "EvaluatorHoldout: Processed 10040 (100.0%) in 6.89 sec. Users per second: 1457\n",
      "MAP: 0.03101220514766364, RECALL: 0.11754195236832136\n",
      "EvaluatorHoldout: Processed 10017 (100.0%) in 6.87 sec. Users per second: 1457\n",
      "MAP: 0.030529500642558598, RECALL: 0.11604137229752588\n",
      "EvaluatorHoldout: Processed 10037 (100.0%) in 6.95 sec. Users per second: 1444\n",
      "MAP: 0.030899971692041388, RECALL: 0.11932022747634799\n",
      "EvaluatorHoldout: Processed 9989 (100.0%) in 6.90 sec. Users per second: 1447\n",
      "MAP: 0.031046774467787815, RECALL: 0.12304341188125108\n",
      "EvaluatorHoldout: Processed 10024 (100.0%) in 6.76 sec. Users per second: 1482\n",
      "MAP: 0.03132371198013681, RECALL: 0.11893848123713066\n",
      "EvaluatorHoldout: Processed 10030 (100.0%) in 5.76 sec. Users per second: 1741\n",
      "MAP: 0.031142813622624457, RECALL: 0.12266856667460688\n",
      "EvaluatorHoldout: Processed 10052 (100.0%) in 6.95 sec. Users per second: 1447\n",
      "MAP: 0.0306608848274689, RECALL: 0.11814810055447858\n",
      "EvaluatorHoldout: Processed 10045 (100.0%) in 6.94 sec. Users per second: 1447\n",
      "MAP: 0.031063950318803654, RECALL: 0.1151656513500145\n",
      "EvaluatorHoldout: Processed 10068 (100.0%) in 7.13 sec. Users per second: 1413\n",
      "MAP: 0.031189841616689338, RECALL: 0.1209437635881127\n"
     ]
    },
    {
     "name": "stderr",
     "output_type": "stream",
     "text": [
      "[I 2024-01-10 14:07:27,600] Trial 48 finished with value: 0.030983246786584102 and parameters: {'w_slim': 0.7754575328528402, 'w_knn': 0.08928382916224457, 'w_p3': 0.053806000937854565, 'w_rp3': 0.42511107399492437}. Best is trial 22 with value: 0.031086245251289845.\n"
     ]
    },
    {
     "name": "stdout",
     "output_type": "stream",
     "text": [
      "EvaluatorHoldout: Processed 10057 (100.0%) in 6.91 sec. Users per second: 1455\n",
      "MAP: 0.03087313424590964, RECALL: 0.11870276909257477\n",
      "EvaluatorHoldout: Processed 10040 (100.0%) in 7.19 sec. Users per second: 1395\n",
      "MAP: 0.031085495320306335, RECALL: 0.1179591058154579\n",
      "EvaluatorHoldout: Processed 10017 (100.0%) in 5.88 sec. Users per second: 1703\n",
      "MAP: 0.030614265272845925, RECALL: 0.11583523797228584\n",
      "EvaluatorHoldout: Processed 10037 (100.0%) in 5.74 sec. Users per second: 1748\n",
      "MAP: 0.03095128184447722, RECALL: 0.11931129132348664\n",
      "EvaluatorHoldout: Processed 9989 (100.0%) in 6.79 sec. Users per second: 1472\n",
      "MAP: 0.0311926531883487, RECALL: 0.1236012587328775\n",
      "EvaluatorHoldout: Processed 10024 (100.0%) in 7.20 sec. Users per second: 1392\n",
      "MAP: 0.03135929325175154, RECALL: 0.11871665637917014\n",
      "EvaluatorHoldout: Processed 10030 (100.0%) in 6.87 sec. Users per second: 1461\n",
      "MAP: 0.03142696909272209, RECALL: 0.12312249987481065\n",
      "EvaluatorHoldout: Processed 10052 (100.0%) in 7.15 sec. Users per second: 1406\n",
      "MAP: 0.030684018500622426, RECALL: 0.11889447850795208\n",
      "EvaluatorHoldout: Processed 10045 (100.0%) in 7.35 sec. Users per second: 1367\n",
      "MAP: 0.031119683645816222, RECALL: 0.11546074681163905\n",
      "EvaluatorHoldout: Processed 10068 (100.0%) in 7.24 sec. Users per second: 1391\n",
      "MAP: 0.03138936186314045, RECALL: 0.1222389001758906\n"
     ]
    },
    {
     "name": "stderr",
     "output_type": "stream",
     "text": [
      "[I 2024-01-10 14:08:49,991] Trial 49 finished with value: 0.03106961562259406 and parameters: {'w_slim': 0.8031291630777811, 'w_knn': 0.0840351568287558, 'w_p3': 0.060234390196826436, 'w_rp3': 0.7325621096915834}. Best is trial 22 with value: 0.031086245251289845.\n"
     ]
    },
    {
     "name": "stdout",
     "output_type": "stream",
     "text": [
      "EvaluatorHoldout: Processed 10057 (100.0%) in 5.53 sec. Users per second: 1817\n",
      "MAP: 0.030873343371354913, RECALL: 0.1187024916408807\n",
      "EvaluatorHoldout: Processed 10040 (100.0%) in 7.10 sec. Users per second: 1414\n",
      "MAP: 0.031119814393221062, RECALL: 0.11796612236526637\n",
      "EvaluatorHoldout: Processed 10017 (100.0%) in 6.47 sec. Users per second: 1547\n",
      "MAP: 0.030600324686129065, RECALL: 0.11577035177807142\n",
      "EvaluatorHoldout: Processed 10037 (100.0%) in 6.60 sec. Users per second: 1521\n",
      "MAP: 0.030931837914004123, RECALL: 0.11926789795104432\n",
      "EvaluatorHoldout: Processed 9989 (100.0%) in 6.91 sec. Users per second: 1446\n",
      "MAP: 0.031203923522223856, RECALL: 0.12350839174580298\n",
      "EvaluatorHoldout: Processed 10024 (100.0%) in 6.84 sec. Users per second: 1466\n",
      "MAP: 0.03137509659357247, RECALL: 0.11886458868823226\n",
      "EvaluatorHoldout: Processed 10030 (100.0%) in 6.81 sec. Users per second: 1474\n",
      "MAP: 0.03145047001851615, RECALL: 0.12341899912043805\n",
      "EvaluatorHoldout: Processed 10052 (100.0%) in 6.90 sec. Users per second: 1457\n",
      "MAP: 0.03073638113555569, RECALL: 0.11897757781021734\n",
      "EvaluatorHoldout: Processed 10045 (100.0%) in 5.82 sec. Users per second: 1726\n",
      "MAP: 0.03110693150663304, RECALL: 0.11532351958349293\n",
      "EvaluatorHoldout: Processed 10068 (100.0%) in 5.72 sec. Users per second: 1761\n",
      "MAP: 0.03141777973273829, RECALL: 0.12226259613982927\n"
     ]
    },
    {
     "name": "stderr",
     "output_type": "stream",
     "text": [
      "[I 2024-01-10 14:10:08,777] Trial 50 finished with value: 0.031081590287394868 and parameters: {'w_slim': 0.7901491634254111, 'w_knn': 0.09007378470201124, 'w_p3': 0.0741779769934481, 'w_rp3': 0.7107518123705111}. Best is trial 22 with value: 0.031086245251289845.\n"
     ]
    },
    {
     "name": "stdout",
     "output_type": "stream",
     "text": [
      "EvaluatorHoldout: Processed 10057 (100.0%) in 6.28 sec. Users per second: 1601\n",
      "MAP: 0.030865372929855573, RECALL: 0.1182822006344842\n",
      "EvaluatorHoldout: Processed 10040 (100.0%) in 6.28 sec. Users per second: 1598\n",
      "MAP: 0.031100842661101913, RECALL: 0.11817247306914047\n",
      "EvaluatorHoldout: Processed 10017 (100.0%) in 6.91 sec. Users per second: 1449\n",
      "MAP: 0.03056710338456395, RECALL: 0.11560080778515774\n",
      "EvaluatorHoldout: Processed 10037 (100.0%) in 6.44 sec. Users per second: 1558\n",
      "MAP: 0.03090818732594185, RECALL: 0.1192192382143939\n",
      "EvaluatorHoldout: Processed 9989 (100.0%) in 6.62 sec. Users per second: 1510\n",
      "MAP: 0.031183512180859525, RECALL: 0.12341119630088379\n",
      "EvaluatorHoldout: Processed 10024 (100.0%) in 5.56 sec. Users per second: 1804\n",
      "MAP: 0.031339669713323165, RECALL: 0.11861540821122507\n",
      "EvaluatorHoldout: Processed 10030 (100.0%) in 5.37 sec. Users per second: 1868\n",
      "MAP: 0.03138106711611226, RECALL: 0.12313090155461466\n",
      "EvaluatorHoldout: Processed 10052 (100.0%) in 5.56 sec. Users per second: 1808\n",
      "MAP: 0.03067669941700014, RECALL: 0.11879862288096532\n",
      "EvaluatorHoldout: Processed 10045 (100.0%) in 5.68 sec. Users per second: 1768\n",
      "MAP: 0.031117957287444764, RECALL: 0.11512488329274068\n",
      "EvaluatorHoldout: Processed 10068 (100.0%) in 6.98 sec. Users per second: 1442\n",
      "MAP: 0.03140442609304378, RECALL: 0.12230834015374208\n"
     ]
    },
    {
     "name": "stderr",
     "output_type": "stream",
     "text": [
      "[I 2024-01-10 14:11:24,554] Trial 51 finished with value: 0.03105448381092469 and parameters: {'w_slim': 0.8259456353160156, 'w_knn': 0.0732205807741946, 'w_p3': 0.06316172267082695, 'w_rp3': 0.7497484478677889}. Best is trial 22 with value: 0.031086245251289845.\n"
     ]
    },
    {
     "name": "stdout",
     "output_type": "stream",
     "text": [
      "EvaluatorHoldout: Processed 10057 (100.0%) in 6.25 sec. Users per second: 1609\n",
      "MAP: 0.030870170977807646, RECALL: 0.11866853834924622\n",
      "EvaluatorHoldout: Processed 10040 (100.0%) in 6.55 sec. Users per second: 1532\n",
      "MAP: 0.031135248687788813, RECALL: 0.11805337699517125\n",
      "EvaluatorHoldout: Processed 10017 (100.0%) in 7.33 sec. Users per second: 1366\n",
      "MAP: 0.030607495036216466, RECALL: 0.11581071858992673\n",
      "EvaluatorHoldout: Processed 10037 (100.0%) in 7.61 sec. Users per second: 1319\n",
      "MAP: 0.030941674534381732, RECALL: 0.11935977090626405\n",
      "EvaluatorHoldout: Processed 9989 (100.0%) in 6.36 sec. Users per second: 1571\n",
      "MAP: 0.031194623609780498, RECALL: 0.12345349008413388\n",
      "EvaluatorHoldout: Processed 10024 (100.0%) in 6.28 sec. Users per second: 1597\n",
      "MAP: 0.03137998961223245, RECALL: 0.1189815984567799\n",
      "EvaluatorHoldout: Processed 10030 (100.0%) in 7.16 sec. Users per second: 1401\n",
      "MAP: 0.03143594217347983, RECALL: 0.12333237011855482\n",
      "EvaluatorHoldout: Processed 10052 (100.0%) in 7.25 sec. Users per second: 1386\n",
      "MAP: 0.0307406052021554, RECALL: 0.11896266148013987\n",
      "EvaluatorHoldout: Processed 10045 (100.0%) in 6.79 sec. Users per second: 1479\n",
      "MAP: 0.0311113204863829, RECALL: 0.11536199059757368\n",
      "EvaluatorHoldout: Processed 10068 (100.0%) in 6.82 sec. Users per second: 1476\n",
      "MAP: 0.03143295038184815, RECALL: 0.12231101148762265\n"
     ]
    },
    {
     "name": "stderr",
     "output_type": "stream",
     "text": [
      "[I 2024-01-10 14:12:47,039] Trial 52 finished with value: 0.03108500207020739 and parameters: {'w_slim': 0.790100929011461, 'w_knn': 0.08945027383563128, 'w_p3': 0.07370521610356337, 'w_rp3': 0.7136587614349535}. Best is trial 22 with value: 0.031086245251289845.\n"
     ]
    },
    {
     "name": "stdout",
     "output_type": "stream",
     "text": [
      "EvaluatorHoldout: Processed 10057 (100.0%) in 6.06 sec. Users per second: 1661\n",
      "MAP: 0.030865905607876564, RECALL: 0.11867723462763548\n",
      "EvaluatorHoldout: Processed 10040 (100.0%) in 5.44 sec. Users per second: 1847\n",
      "MAP: 0.031138296022260446, RECALL: 0.11801485148497062\n",
      "EvaluatorHoldout: Processed 10017 (100.0%) in 6.57 sec. Users per second: 1525\n",
      "MAP: 0.030604456550847942, RECALL: 0.11579631947730337\n",
      "EvaluatorHoldout: Processed 10037 (100.0%) in 7.51 sec. Users per second: 1336\n",
      "MAP: 0.030936605986421884, RECALL: 0.11931224056246148\n",
      "EvaluatorHoldout: Processed 9989 (100.0%) in 6.29 sec. Users per second: 1587\n",
      "MAP: 0.031204122153416593, RECALL: 0.1236026296174005\n",
      "EvaluatorHoldout: Processed 10024 (100.0%) in 5.83 sec. Users per second: 1721\n",
      "MAP: 0.031378865326391496, RECALL: 0.1189724831715298\n",
      "EvaluatorHoldout: Processed 10030 (100.0%) in 6.87 sec. Users per second: 1460\n",
      "MAP: 0.031445868742977695, RECALL: 0.12338514729800244\n",
      "EvaluatorHoldout: Processed 10052 (100.0%) in 7.02 sec. Users per second: 1432\n",
      "MAP: 0.0307410749815249, RECALL: 0.11902860465068911\n",
      "EvaluatorHoldout: Processed 10045 (100.0%) in 6.73 sec. Users per second: 1493\n",
      "MAP: 0.0311023884582871, RECALL: 0.11530889119181818\n",
      "EvaluatorHoldout: Processed 10068 (100.0%) in 6.94 sec. Users per second: 1452\n",
      "MAP: 0.031452862597827105, RECALL: 0.12235939061151409\n"
     ]
    },
    {
     "name": "stderr",
     "output_type": "stream",
     "text": [
      "[I 2024-01-10 14:14:06,361] Trial 53 finished with value: 0.031087044642783168 and parameters: {'w_slim': 0.7964863246254139, 'w_knn': 0.09004284428822791, 'w_p3': 0.07393270454790603, 'w_rp3': 0.7276409798276536}. Best is trial 53 with value: 0.031087044642783168.\n"
     ]
    },
    {
     "name": "stdout",
     "output_type": "stream",
     "text": [
      "EvaluatorHoldout: Processed 10057 (100.0%) in 6.29 sec. Users per second: 1599\n",
      "MAP: 0.030854091993099856, RECALL: 0.11856940592270264\n",
      "EvaluatorHoldout: Processed 10040 (100.0%) in 5.79 sec. Users per second: 1733\n",
      "MAP: 0.031143730633023742, RECALL: 0.11801260107933377\n",
      "EvaluatorHoldout: Processed 10017 (100.0%) in 5.75 sec. Users per second: 1742\n",
      "MAP: 0.03061767614103669, RECALL: 0.11574495566795973\n",
      "EvaluatorHoldout: Processed 10037 (100.0%) in 6.87 sec. Users per second: 1462\n",
      "MAP: 0.030923128076909303, RECALL: 0.11924386670901961\n",
      "EvaluatorHoldout: Processed 9989 (100.0%) in 6.81 sec. Users per second: 1466\n",
      "MAP: 0.031190376874880046, RECALL: 0.12348453447384711\n",
      "EvaluatorHoldout: Processed 10024 (100.0%) in 6.78 sec. Users per second: 1478\n",
      "MAP: 0.031383813767592944, RECALL: 0.11898066737238844\n",
      "EvaluatorHoldout: Processed 10030 (100.0%) in 6.94 sec. Users per second: 1445\n",
      "MAP: 0.03144673519125192, RECALL: 0.12336454244589214\n",
      "EvaluatorHoldout: Processed 10052 (100.0%) in 6.90 sec. Users per second: 1456\n",
      "MAP: 0.030738536593839294, RECALL: 0.11904181775875015\n",
      "EvaluatorHoldout: Processed 10045 (100.0%) in 6.74 sec. Users per second: 1490\n",
      "MAP: 0.031094815394218257, RECALL: 0.11531443766127704\n",
      "EvaluatorHoldout: Processed 10068 (100.0%) in 6.91 sec. Users per second: 1457\n",
      "MAP: 0.031459555183482736, RECALL: 0.12233277456255202\n"
     ]
    },
    {
     "name": "stderr",
     "output_type": "stream",
     "text": [
      "[I 2024-01-10 14:15:26,242] Trial 54 finished with value: 0.03108524598493348 and parameters: {'w_slim': 0.7950775611102565, 'w_knn': 0.0894432729568359, 'w_p3': 0.0745992118407075, 'w_rp3': 0.7313140335998048}. Best is trial 53 with value: 0.031087044642783168.\n"
     ]
    },
    {
     "name": "stdout",
     "output_type": "stream",
     "text": [
      "EvaluatorHoldout: Processed 10057 (100.0%) in 6.81 sec. Users per second: 1477\n",
      "MAP: 0.03085360271847317, RECALL: 0.11851347069036937\n",
      "EvaluatorHoldout: Processed 10040 (100.0%) in 6.45 sec. Users per second: 1557\n",
      "MAP: 0.031081163441472475, RECALL: 0.11826988010916618\n",
      "EvaluatorHoldout: Processed 10017 (100.0%) in 6.67 sec. Users per second: 1502\n",
      "MAP: 0.030554414637972795, RECALL: 0.11592466591125462\n",
      "EvaluatorHoldout: Processed 10037 (100.0%) in 6.44 sec. Users per second: 1559\n",
      "MAP: 0.03085046043923219, RECALL: 0.11901269538183232\n",
      "EvaluatorHoldout: Processed 9989 (100.0%) in 6.88 sec. Users per second: 1452\n",
      "MAP: 0.031177851191866824, RECALL: 0.12319993992705823\n",
      "EvaluatorHoldout: Processed 10024 (100.0%) in 6.75 sec. Users per second: 1486\n",
      "MAP: 0.03136394874523385, RECALL: 0.11891319114637763\n",
      "EvaluatorHoldout: Processed 10030 (100.0%) in 7.65 sec. Users per second: 1310\n",
      "MAP: 0.03139708256183857, RECALL: 0.12322679858118143\n",
      "EvaluatorHoldout: Processed 10052 (100.0%) in 6.54 sec. Users per second: 1538\n",
      "MAP: 0.030671989780127727, RECALL: 0.11861892735540218\n",
      "EvaluatorHoldout: Processed 10045 (100.0%) in 5.76 sec. Users per second: 1744\n",
      "MAP: 0.031124835067592838, RECALL: 0.11546944545792624\n",
      "EvaluatorHoldout: Processed 10068 (100.0%) in 6.89 sec. Users per second: 1461\n",
      "MAP: 0.031384667593696514, RECALL: 0.12220700976472472\n"
     ]
    },
    {
     "name": "stderr",
     "output_type": "stream",
     "text": [
      "[I 2024-01-10 14:16:47,155] Trial 55 finished with value: 0.031046001617750695 and parameters: {'w_slim': 0.7943690273385122, 'w_knn': 0.07994311421393048, 'w_p3': 0.07464001762370777, 'w_rp3': 0.6807591790794266}. Best is trial 53 with value: 0.031087044642783168.\n"
     ]
    },
    {
     "name": "stdout",
     "output_type": "stream",
     "text": [
      "EvaluatorHoldout: Processed 10057 (100.0%) in 6.78 sec. Users per second: 1483\n",
      "MAP: 0.030880560172098566, RECALL: 0.1187283319256414\n",
      "EvaluatorHoldout: Processed 10040 (100.0%) in 6.86 sec. Users per second: 1463\n",
      "MAP: 0.031130327894770413, RECALL: 0.1181468643920762\n",
      "EvaluatorHoldout: Processed 10017 (100.0%) in 6.41 sec. Users per second: 1562\n",
      "MAP: 0.03058752105547576, RECALL: 0.11584550510595998\n",
      "EvaluatorHoldout: Processed 10037 (100.0%) in 6.76 sec. Users per second: 1484\n",
      "MAP: 0.03090390950309272, RECALL: 0.11913269065902742\n",
      "EvaluatorHoldout: Processed 9989 (100.0%) in 6.93 sec. Users per second: 1441\n",
      "MAP: 0.031190138517448736, RECALL: 0.12349538521185573\n",
      "EvaluatorHoldout: Processed 10024 (100.0%) in 5.42 sec. Users per second: 1850\n",
      "MAP: 0.031405135611041655, RECALL: 0.11898232922230897\n",
      "EvaluatorHoldout: Processed 10030 (100.0%) in 6.33 sec. Users per second: 1586\n",
      "MAP: 0.03141658753897064, RECALL: 0.12338662023270798\n",
      "EvaluatorHoldout: Processed 10052 (100.0%) in 7.17 sec. Users per second: 1401\n",
      "MAP: 0.030724609017237618, RECALL: 0.11907447831120264\n",
      "EvaluatorHoldout: Processed 10045 (100.0%) in 6.88 sec. Users per second: 1460\n",
      "MAP: 0.031113177210489507, RECALL: 0.11541755613327295\n",
      "EvaluatorHoldout: Processed 10068 (100.0%) in 7.38 sec. Users per second: 1365\n",
      "MAP: 0.03144334793247213, RECALL: 0.12255460165725651\n"
     ]
    },
    {
     "name": "stderr",
     "output_type": "stream",
     "text": [
      "[I 2024-01-10 14:18:08,194] Trial 56 finished with value: 0.031079531445309772 and parameters: {'w_slim': 0.8088579712723454, 'w_knn': 0.08581006368867074, 'w_p3': 0.08509362098759289, 'w_rp3': 0.7337296973761739}. Best is trial 53 with value: 0.031087044642783168.\n"
     ]
    },
    {
     "name": "stdout",
     "output_type": "stream",
     "text": [
      "EvaluatorHoldout: Processed 10057 (100.0%) in 7.89 sec. Users per second: 1275\n",
      "MAP: 0.030870640523618726, RECALL: 0.11867538101883102\n",
      "EvaluatorHoldout: Processed 10040 (100.0%) in 6.49 sec. Users per second: 1546\n",
      "MAP: 0.031078452064757144, RECALL: 0.1181747383304189\n",
      "EvaluatorHoldout: Processed 10017 (100.0%) in 5.13 sec. Users per second: 1953\n",
      "MAP: 0.030561759294913157, RECALL: 0.11592344474119502\n",
      "EvaluatorHoldout: Processed 10037 (100.0%) in 5.91 sec. Users per second: 1700\n",
      "MAP: 0.03089533804289227, RECALL: 0.11928374573815934\n",
      "EvaluatorHoldout: Processed 9989 (100.0%) in 6.36 sec. Users per second: 1572\n",
      "MAP: 0.031212901652135028, RECALL: 0.12354674089441281\n",
      "EvaluatorHoldout: Processed 10024 (100.0%) in 6.56 sec. Users per second: 1528\n",
      "MAP: 0.03139652928210409, RECALL: 0.11886576071143122\n",
      "EvaluatorHoldout: Processed 10030 (100.0%) in 6.50 sec. Users per second: 1542\n",
      "MAP: 0.03139460190856032, RECALL: 0.12335160860675452\n",
      "EvaluatorHoldout: Processed 10052 (100.0%) in 6.44 sec. Users per second: 1560\n",
      "MAP: 0.030708411498304326, RECALL: 0.11905216793296472\n",
      "EvaluatorHoldout: Processed 10045 (100.0%) in 6.38 sec. Users per second: 1574\n",
      "MAP: 0.03114728167689859, RECALL: 0.11521791723189544\n",
      "EvaluatorHoldout: Processed 10068 (100.0%) in 6.57 sec. Users per second: 1532\n",
      "MAP: 0.03141680225261899, RECALL: 0.12235126151089092\n"
     ]
    },
    {
     "name": "stderr",
     "output_type": "stream",
     "text": [
      "[I 2024-01-10 14:19:27,032] Trial 57 finished with value: 0.03106827181968027 and parameters: {'w_slim': 0.7926009200620224, 'w_knn': 0.07613194400861556, 'w_p3': 0.08046362918820878, 'w_rp3': 0.7154595550476178}. Best is trial 53 with value: 0.031087044642783168.\n"
     ]
    },
    {
     "name": "stdout",
     "output_type": "stream",
     "text": [
      "EvaluatorHoldout: Processed 10057 (100.0%) in 6.62 sec. Users per second: 1519\n",
      "MAP: 0.03088492813187079, RECALL: 0.11825523974122008\n",
      "EvaluatorHoldout: Processed 10040 (100.0%) in 6.41 sec. Users per second: 1567\n",
      "MAP: 0.031068219186745353, RECALL: 0.11799406621421188\n",
      "EvaluatorHoldout: Processed 10017 (100.0%) in 6.13 sec. Users per second: 1634\n",
      "MAP: 0.030537605911220945, RECALL: 0.11562092962677147\n",
      "EvaluatorHoldout: Processed 10037 (100.0%) in 6.30 sec. Users per second: 1594\n",
      "MAP: 0.030906230281292805, RECALL: 0.11905303608588536\n",
      "EvaluatorHoldout: Processed 9989 (100.0%) in 6.06 sec. Users per second: 1648\n",
      "MAP: 0.03114642773717776, RECALL: 0.1235451680087555\n",
      "EvaluatorHoldout: Processed 10024 (100.0%) in 6.24 sec. Users per second: 1605\n",
      "MAP: 0.03134955867822011, RECALL: 0.11878264115214293\n",
      "EvaluatorHoldout: Processed 10030 (100.0%) in 6.15 sec. Users per second: 1631\n",
      "MAP: 0.031372731013309514, RECALL: 0.12311951624104749\n",
      "EvaluatorHoldout: Processed 10052 (100.0%) in 6.10 sec. Users per second: 1649\n",
      "MAP: 0.030696382777809655, RECALL: 0.11831868950143744\n",
      "EvaluatorHoldout: Processed 10045 (100.0%) in 6.24 sec. Users per second: 1609\n",
      "MAP: 0.03110720804001063, RECALL: 0.11530584260403592\n",
      "EvaluatorHoldout: Processed 10068 (100.0%) in 6.67 sec. Users per second: 1510\n",
      "MAP: 0.0313371612716073, RECALL: 0.12191270162751662\n"
     ]
    },
    {
     "name": "stderr",
     "output_type": "stream",
     "text": [
      "[I 2024-01-10 14:20:54,727] Trial 58 finished with value: 0.031040645302926485 and parameters: {'w_slim': 0.8560874870022795, 'w_knn': 0.09010324205435416, 'w_p3': 0.0743561347928047, 'w_rp3': 0.6474621695929889}. Best is trial 53 with value: 0.031087044642783168.\n"
     ]
    },
    {
     "name": "stdout",
     "output_type": "stream",
     "text": [
      "EvaluatorHoldout: Processed 10057 (100.0%) in 6.13 sec. Users per second: 1640\n",
      "MAP: 0.030867223492758132, RECALL: 0.11860566699004735\n",
      "EvaluatorHoldout: Processed 10040 (100.0%) in 6.41 sec. Users per second: 1565\n",
      "MAP: 0.031061820179599377, RECALL: 0.11822111563279712\n",
      "EvaluatorHoldout: Processed 10017 (100.0%) in 5.35 sec. Users per second: 1871\n",
      "MAP: 0.030553669872328344, RECALL: 0.11591067024846988\n",
      "EvaluatorHoldout: Processed 10037 (100.0%) in 5.02 sec. Users per second: 2001\n",
      "MAP: 0.0308268414801744, RECALL: 0.1190125407743525\n",
      "EvaluatorHoldout: Processed 9989 (100.0%) in 5.87 sec. Users per second: 1701\n",
      "MAP: 0.031180997509959573, RECALL: 0.12343208305665862\n",
      "EvaluatorHoldout: Processed 10024 (100.0%) in 6.37 sec. Users per second: 1573\n",
      "MAP: 0.0313898746183764, RECALL: 0.11888752319475768\n",
      "EvaluatorHoldout: Processed 10030 (100.0%) in 6.31 sec. Users per second: 1591\n",
      "MAP: 0.03142586921774388, RECALL: 0.12289832196508965\n",
      "EvaluatorHoldout: Processed 10052 (100.0%) in 6.52 sec. Users per second: 1542\n",
      "MAP: 0.03072954762220608, RECALL: 0.11907281296818592\n",
      "EvaluatorHoldout: Processed 10045 (100.0%) in 6.34 sec. Users per second: 1584\n",
      "MAP: 0.031172774103834486, RECALL: 0.11530598624863585\n",
      "EvaluatorHoldout: Processed 10068 (100.0%) in 6.50 sec. Users per second: 1549\n",
      "MAP: 0.03146642907593469, RECALL: 0.12218996494296265\n"
     ]
    },
    {
     "name": "stderr",
     "output_type": "stream",
     "text": [
      "[I 2024-01-10 14:22:15,916] Trial 59 finished with value: 0.031067504717291538 and parameters: {'w_slim': 0.8235766143688672, 'w_knn': 0.06928748529365994, 'w_p3': 0.08956240203212798, 'w_rp3': 0.7360187767624374}. Best is trial 53 with value: 0.031087044642783168.\n"
     ]
    },
    {
     "name": "stdout",
     "output_type": "stream",
     "text": [
      "EvaluatorHoldout: Processed 10057 (100.0%) in 6.42 sec. Users per second: 1566\n",
      "MAP: 0.03087976312794864, RECALL: 0.11859279753609295\n",
      "EvaluatorHoldout: Processed 10040 (100.0%) in 6.44 sec. Users per second: 1559\n",
      "MAP: 0.031126094827041345, RECALL: 0.11799477158046154\n",
      "EvaluatorHoldout: Processed 10017 (100.0%) in 6.44 sec. Users per second: 1555\n",
      "MAP: 0.03056822053303056, RECALL: 0.11590246271157759\n",
      "EvaluatorHoldout: Processed 10037 (100.0%) in 6.03 sec. Users per second: 1665\n",
      "MAP: 0.030892096069938264, RECALL: 0.11910055634498563\n",
      "EvaluatorHoldout: Processed 9989 (100.0%) in 6.17 sec. Users per second: 1620\n",
      "MAP: 0.03120076528625951, RECALL: 0.12361369617361673\n",
      "EvaluatorHoldout: Processed 10024 (100.0%) in 5.98 sec. Users per second: 1676\n",
      "MAP: 0.031345283225022044, RECALL: 0.11899221430376061\n",
      "EvaluatorHoldout: Processed 10030 (100.0%) in 5.99 sec. Users per second: 1675\n",
      "MAP: 0.0314186883793068, RECALL: 0.12352474882516185\n",
      "EvaluatorHoldout: Processed 10052 (100.0%) in 5.89 sec. Users per second: 1706\n",
      "MAP: 0.030755440755689697, RECALL: 0.11878843783217681\n",
      "EvaluatorHoldout: Processed 10045 (100.0%) in 5.96 sec. Users per second: 1686\n",
      "MAP: 0.03109534080763566, RECALL: 0.11526528927225166\n",
      "EvaluatorHoldout: Processed 10068 (100.0%) in 6.92 sec. Users per second: 1455\n",
      "MAP: 0.03139614904364632, RECALL: 0.1222812314580946\n"
     ]
    },
    {
     "name": "stderr",
     "output_type": "stream",
     "text": [
      "[I 2024-01-10 14:23:42,200] Trial 60 finished with value: 0.031067784205551886 and parameters: {'w_slim': 0.8320373248708839, 'w_knn': 0.09734299852199205, 'w_p3': 0.08157886859566439, 'w_rp3': 0.716170573458386}. Best is trial 53 with value: 0.031087044642783168.\n"
     ]
    },
    {
     "name": "stdout",
     "output_type": "stream",
     "text": [
      "EvaluatorHoldout: Processed 10057 (100.0%) in 6.46 sec. Users per second: 1557\n",
      "MAP: 0.030906385191709036, RECALL: 0.11876791674063768\n",
      "EvaluatorHoldout: Processed 10040 (100.0%) in 6.50 sec. Users per second: 1544\n",
      "MAP: 0.03108913156896256, RECALL: 0.11829969292382178\n",
      "EvaluatorHoldout: Processed 10017 (100.0%) in 6.67 sec. Users per second: 1503\n",
      "MAP: 0.030557742314256432, RECALL: 0.11590011357902497\n",
      "EvaluatorHoldout: Processed 10037 (100.0%) in 6.21 sec. Users per second: 1617\n",
      "MAP: 0.03084415440647406, RECALL: 0.11907954008534839\n",
      "EvaluatorHoldout: Processed 9989 (100.0%) in 5.83 sec. Users per second: 1713\n",
      "MAP: 0.0311484577479674, RECALL: 0.12333359332461818\n",
      "EvaluatorHoldout: Processed 10024 (100.0%) in 5.62 sec. Users per second: 1782\n",
      "MAP: 0.03140699622493339, RECALL: 0.11922390172121405\n",
      "EvaluatorHoldout: Processed 10030 (100.0%) in 6.23 sec. Users per second: 1610\n",
      "MAP: 0.03139629524126061, RECALL: 0.12327347196752103\n",
      "EvaluatorHoldout: Processed 10052 (100.0%) in 6.37 sec. Users per second: 1578\n",
      "MAP: 0.030712481603598078, RECALL: 0.11875565896004454\n",
      "EvaluatorHoldout: Processed 10045 (100.0%) in 6.48 sec. Users per second: 1551\n",
      "MAP: 0.031130424992296766, RECALL: 0.1154951220349612\n",
      "EvaluatorHoldout: Processed 10068 (100.0%) in 6.48 sec. Users per second: 1554\n",
      "MAP: 0.03144458948988179, RECALL: 0.1223185165902626\n"
     ]
    },
    {
     "name": "stderr",
     "output_type": "stream",
     "text": [
      "[I 2024-01-10 14:25:04,708] Trial 61 finished with value: 0.03106366587813401 and parameters: {'w_slim': 0.8157503962055851, 'w_knn': 0.0798840047867826, 'w_p3': 0.09987110104172192, 'w_rp3': 0.6924650923013927}. Best is trial 53 with value: 0.031087044642783168.\n"
     ]
    },
    {
     "name": "stdout",
     "output_type": "stream",
     "text": [
      "EvaluatorHoldout: Processed 10057 (100.0%) in 6.33 sec. Users per second: 1588\n",
      "MAP: 0.03088481765050343, RECALL: 0.11852019583027375\n",
      "EvaluatorHoldout: Processed 10040 (100.0%) in 5.83 sec. Users per second: 1723\n",
      "MAP: 0.03110554606968976, RECALL: 0.1178695560999815\n",
      "EvaluatorHoldout: Processed 10017 (100.0%) in 5.47 sec. Users per second: 1831\n",
      "MAP: 0.030584312224773706, RECALL: 0.1158043316089531\n",
      "EvaluatorHoldout: Processed 10037 (100.0%) in 6.36 sec. Users per second: 1578\n",
      "MAP: 0.030936530867536373, RECALL: 0.11937393790962983\n",
      "EvaluatorHoldout: Processed 9989 (100.0%) in 6.77 sec. Users per second: 1475\n",
      "MAP: 0.031167375382762555, RECALL: 0.1236380462046599\n",
      "EvaluatorHoldout: Processed 10024 (100.0%) in 6.58 sec. Users per second: 1524\n",
      "MAP: 0.03136425356921186, RECALL: 0.1190424366401673\n",
      "EvaluatorHoldout: Processed 10030 (100.0%) in 6.03 sec. Users per second: 1663\n",
      "MAP: 0.03143080678599152, RECALL: 0.12306842091840595\n",
      "EvaluatorHoldout: Processed 10052 (100.0%) in 6.13 sec. Users per second: 1640\n",
      "MAP: 0.030721111332184022, RECALL: 0.11889626806894353\n",
      "EvaluatorHoldout: Processed 10045 (100.0%) in 5.82 sec. Users per second: 1727\n",
      "MAP: 0.03112590169633492, RECALL: 0.11559104458611441\n",
      "EvaluatorHoldout: Processed 10068 (100.0%) in 6.43 sec. Users per second: 1565\n",
      "MAP: 0.03140711810482399, RECALL: 0.1222430586401716\n"
     ]
    },
    {
     "name": "stderr",
     "output_type": "stream",
     "text": [
      "[I 2024-01-10 14:26:21,945] Trial 62 finished with value: 0.031072777368381217 and parameters: {'w_slim': 0.8039243066054533, 'w_knn': 0.08955887104819839, 'w_p3': 0.0650709332522702, 'w_rp3': 0.7341526473256111}. Best is trial 53 with value: 0.031087044642783168.\n"
     ]
    },
    {
     "name": "stdout",
     "output_type": "stream",
     "text": [
      "EvaluatorHoldout: Processed 10057 (100.0%) in 5.32 sec. Users per second: 1892\n",
      "MAP: 0.030858771668158366, RECALL: 0.11867429442373315\n",
      "EvaluatorHoldout: Processed 10040 (100.0%) in 6.69 sec. Users per second: 1502\n",
      "MAP: 0.031151592044520615, RECALL: 0.11798200980279598\n",
      "EvaluatorHoldout: Processed 10017 (100.0%) in 6.55 sec. Users per second: 1529\n",
      "MAP: 0.03064435697409668, RECALL: 0.11588768705058332\n",
      "EvaluatorHoldout: Processed 10037 (100.0%) in 6.55 sec. Users per second: 1532\n",
      "MAP: 0.030949902029158982, RECALL: 0.1191788117658927\n",
      "EvaluatorHoldout: Processed 9989 (100.0%) in 6.39 sec. Users per second: 1564\n",
      "MAP: 0.03119155674416484, RECALL: 0.12359241259338512\n",
      "EvaluatorHoldout: Processed 10024 (100.0%) in 6.24 sec. Users per second: 1607\n",
      "MAP: 0.03137092010919845, RECALL: 0.11899322719731963\n",
      "EvaluatorHoldout: Processed 10030 (100.0%) in 6.22 sec. Users per second: 1614\n",
      "MAP: 0.03146022250708223, RECALL: 0.1234458683776559\n",
      "EvaluatorHoldout: Processed 10052 (100.0%) in 6.14 sec. Users per second: 1638\n",
      "MAP: 0.03073285976414735, RECALL: 0.11913713006629327\n",
      "EvaluatorHoldout: Processed 10045 (100.0%) in 5.90 sec. Users per second: 1703\n",
      "MAP: 0.031098449832894993, RECALL: 0.11545730650879774\n",
      "EvaluatorHoldout: Processed 10068 (100.0%) in 6.03 sec. Users per second: 1670\n",
      "MAP: 0.03145464019272149, RECALL: 0.12231052207992273\n"
     ]
    },
    {
     "name": "stderr",
     "output_type": "stream",
     "text": [
      "[I 2024-01-10 14:27:38,111] Trial 63 finished with value: 0.031091327186614403 and parameters: {'w_slim': 0.7717078654358777, 'w_knn': 0.08639926968563887, 'w_p3': 0.07253996744855773, 'w_rp3': 0.7221277257443559}. Best is trial 63 with value: 0.031091327186614403.\n"
     ]
    },
    {
     "name": "stdout",
     "output_type": "stream",
     "text": [
      "EvaluatorHoldout: Processed 10057 (100.0%) in 6.48 sec. Users per second: 1552\n",
      "MAP: 0.030849293945147814, RECALL: 0.11867565713481668\n",
      "EvaluatorHoldout: Processed 10040 (100.0%) in 6.38 sec. Users per second: 1574\n",
      "MAP: 0.031100593657117866, RECALL: 0.11800623223363141\n",
      "EvaluatorHoldout: Processed 10017 (100.0%) in 6.31 sec. Users per second: 1588\n",
      "MAP: 0.030562547637270805, RECALL: 0.11582214002856794\n",
      "EvaluatorHoldout: Processed 10037 (100.0%) in 6.46 sec. Users per second: 1553\n",
      "MAP: 0.030857343701321215, RECALL: 0.1190868681169058\n",
      "EvaluatorHoldout: Processed 9989 (100.0%) in 6.41 sec. Users per second: 1559\n",
      "MAP: 0.031178212700637538, RECALL: 0.12328169439815183\n",
      "EvaluatorHoldout: Processed 10024 (100.0%) in 6.65 sec. Users per second: 1506\n",
      "MAP: 0.031351066963098286, RECALL: 0.11903309152827167\n",
      "EvaluatorHoldout: Processed 10030 (100.0%) in 6.53 sec. Users per second: 1536\n",
      "MAP: 0.03143203722166858, RECALL: 0.12329257256759474\n",
      "EvaluatorHoldout: Processed 10052 (100.0%) in 5.55 sec. Users per second: 1811\n",
      "MAP: 0.03068540415237613, RECALL: 0.11847271854161562\n",
      "EvaluatorHoldout: Processed 10045 (100.0%) in 5.86 sec. Users per second: 1714\n",
      "MAP: 0.03109830761572943, RECALL: 0.1155439541589295\n",
      "EvaluatorHoldout: Processed 10068 (100.0%) in 6.57 sec. Users per second: 1531\n",
      "MAP: 0.03140051617256652, RECALL: 0.12224103133793532\n"
     ]
    },
    {
     "name": "stderr",
     "output_type": "stream",
     "text": [
      "[I 2024-01-10 14:28:55,385] Trial 64 finished with value: 0.03105153237669342 and parameters: {'w_slim': 0.7934091759653515, 'w_knn': 0.08539369925776676, 'w_p3': 0.07658415135973137, 'w_rp3': 0.6689769667032804}. Best is trial 63 with value: 0.031091327186614403.\n"
     ]
    },
    {
     "name": "stdout",
     "output_type": "stream",
     "text": [
      "EvaluatorHoldout: Processed 10057 (100.0%) in 6.62 sec. Users per second: 1519\n",
      "MAP: 0.030878042775228993, RECALL: 0.11851464927922774\n",
      "EvaluatorHoldout: Processed 10040 (100.0%) in 6.38 sec. Users per second: 1575\n",
      "MAP: 0.03114588471510813, RECALL: 0.11793802826784394\n",
      "EvaluatorHoldout: Processed 10017 (100.0%) in 6.26 sec. Users per second: 1600\n",
      "MAP: 0.030595285633470956, RECALL: 0.115731704636367\n",
      "EvaluatorHoldout: Processed 10037 (100.0%) in 6.47 sec. Users per second: 1552\n",
      "MAP: 0.030929552718434065, RECALL: 0.11912095103852446\n",
      "EvaluatorHoldout: Processed 9989 (100.0%) in 5.87 sec. Users per second: 1701\n",
      "MAP: 0.03118154970467539, RECALL: 0.1235372840106829\n",
      "EvaluatorHoldout: Processed 10024 (100.0%) in 5.99 sec. Users per second: 1672\n",
      "MAP: 0.031378972212721415, RECALL: 0.11895480381311026\n",
      "EvaluatorHoldout: Processed 10030 (100.0%) in 6.36 sec. Users per second: 1576\n",
      "MAP: 0.03143009463672504, RECALL: 0.12307166329166208\n",
      "EvaluatorHoldout: Processed 10052 (100.0%) in 6.50 sec. Users per second: 1547\n",
      "MAP: 0.030719429600995714, RECALL: 0.11912764028698111\n",
      "EvaluatorHoldout: Processed 10045 (100.0%) in 6.14 sec. Users per second: 1637\n",
      "MAP: 0.031111600970237283, RECALL: 0.11532623293218215\n",
      "EvaluatorHoldout: Processed 10068 (100.0%) in 6.08 sec. Users per second: 1655\n",
      "MAP: 0.03142097625038654, RECALL: 0.12238158121800728\n"
     ]
    },
    {
     "name": "stderr",
     "output_type": "stream",
     "text": [
      "[I 2024-01-10 14:30:12,162] Trial 65 finished with value: 0.03107913892179835 and parameters: {'w_slim': 0.796526454636146, 'w_knn': 0.08260011309663176, 'w_p3': 0.07154698223558871, 'w_rp3': 0.7485439330817649}. Best is trial 63 with value: 0.031091327186614403.\n"
     ]
    },
    {
     "name": "stdout",
     "output_type": "stream",
     "text": [
      "EvaluatorHoldout: Processed 10057 (100.0%) in 6.34 sec. Users per second: 1588\n",
      "MAP: 0.03086186514644328, RECALL: 0.1183393151912607\n",
      "EvaluatorHoldout: Processed 10040 (100.0%) in 6.27 sec. Users per second: 1602\n",
      "MAP: 0.031010948270410777, RECALL: 0.11756298545918159\n",
      "EvaluatorHoldout: Processed 10017 (100.0%) in 5.48 sec. Users per second: 1827\n",
      "MAP: 0.030411962362396867, RECALL: 0.11516143537688839\n",
      "EvaluatorHoldout: Processed 10037 (100.0%) in 5.49 sec. Users per second: 1828\n",
      "MAP: 0.03078732103913955, RECALL: 0.1182010897439519\n",
      "EvaluatorHoldout: Processed 9989 (100.0%) in 6.59 sec. Users per second: 1515\n",
      "MAP: 0.031197972531689842, RECALL: 0.12301553638542086\n",
      "EvaluatorHoldout: Processed 10024 (100.0%) in 6.51 sec. Users per second: 1540\n",
      "MAP: 0.031295834441784395, RECALL: 0.11798975358950657\n",
      "EvaluatorHoldout: Processed 10030 (100.0%) in 6.41 sec. Users per second: 1565\n",
      "MAP: 0.031340328221684415, RECALL: 0.12272542492996101\n",
      "EvaluatorHoldout: Processed 10052 (100.0%) in 6.42 sec. Users per second: 1565\n",
      "MAP: 0.030607045743088694, RECALL: 0.11892369033970157\n",
      "EvaluatorHoldout: Processed 10045 (100.0%) in 6.34 sec. Users per second: 1585\n",
      "MAP: 0.031147874248421924, RECALL: 0.11464723144936792\n",
      "EvaluatorHoldout: Processed 10068 (100.0%) in 5.96 sec. Users per second: 1688\n",
      "MAP: 0.03136481449949883, RECALL: 0.1211033160697493\n"
     ]
    },
    {
     "name": "stderr",
     "output_type": "stream",
     "text": [
      "[I 2024-01-10 14:31:28,090] Trial 66 finished with value: 0.03100259665045586 and parameters: {'w_slim': 0.7699892223702977, 'w_knn': 0.016595273249856345, 'w_p3': 0.08177584375788705, 'w_rp3': 0.7185305626271373}. Best is trial 63 with value: 0.031091327186614403.\n"
     ]
    },
    {
     "name": "stdout",
     "output_type": "stream",
     "text": [
      "EvaluatorHoldout: Processed 10057 (100.0%) in 5.14 sec. Users per second: 1958\n",
      "MAP: 0.03087352882222144, RECALL: 0.11865587468470674\n",
      "EvaluatorHoldout: Processed 10040 (100.0%) in 5.67 sec. Users per second: 1772\n",
      "MAP: 0.031126521691014052, RECALL: 0.11792453455225037\n",
      "EvaluatorHoldout: Processed 10017 (100.0%) in 6.49 sec. Users per second: 1544\n",
      "MAP: 0.030594996442555807, RECALL: 0.1159811317188862\n",
      "EvaluatorHoldout: Processed 10037 (100.0%) in 6.33 sec. Users per second: 1586\n",
      "MAP: 0.03092598654818463, RECALL: 0.11904702143807742\n",
      "EvaluatorHoldout: Processed 9989 (100.0%) in 6.40 sec. Users per second: 1562\n",
      "MAP: 0.031150789678170015, RECALL: 0.12339483875469005\n",
      "EvaluatorHoldout: Processed 10024 (100.0%) in 6.20 sec. Users per second: 1616\n",
      "MAP: 0.03138724996516319, RECALL: 0.11889466293604198\n",
      "EvaluatorHoldout: Processed 10030 (100.0%) in 6.70 sec. Users per second: 1498\n",
      "MAP: 0.03142882859358462, RECALL: 0.12352445790087101\n",
      "EvaluatorHoldout: Processed 10052 (100.0%) in 7.33 sec. Users per second: 1371\n",
      "MAP: 0.030753636645001834, RECALL: 0.11892309971181866\n",
      "EvaluatorHoldout: Processed 10045 (100.0%) in 6.33 sec. Users per second: 1587\n",
      "MAP: 0.03112897911777969, RECALL: 0.11545904955995322\n",
      "EvaluatorHoldout: Processed 10068 (100.0%) in 6.35 sec. Users per second: 1585\n",
      "MAP: 0.03140399253331344, RECALL: 0.1224743786541511\n"
     ]
    },
    {
     "name": "stderr",
     "output_type": "stream",
     "text": [
      "[I 2024-01-10 14:32:45,079] Trial 67 finished with value: 0.03107745100369887 and parameters: {'w_slim': 0.7875683135902215, 'w_knn': 0.09861626431577676, 'w_p3': 0.07269533054253892, 'w_rp3': 0.6904370740421922}. Best is trial 63 with value: 0.031091327186614403.\n"
     ]
    },
    {
     "name": "stdout",
     "output_type": "stream",
     "text": [
      "EvaluatorHoldout: Processed 10057 (100.0%) in 6.83 sec. Users per second: 1472\n",
      "MAP: 0.030916947999577202, RECALL: 0.11880470088733419\n",
      "EvaluatorHoldout: Processed 10040 (100.0%) in 7.33 sec. Users per second: 1370\n",
      "MAP: 0.03117670587491334, RECALL: 0.11847297434300855\n",
      "EvaluatorHoldout: Processed 10017 (100.0%) in 6.81 sec. Users per second: 1472\n",
      "MAP: 0.03063009550430961, RECALL: 0.11564381480226953\n",
      "EvaluatorHoldout: Processed 10037 (100.0%) in 6.53 sec. Users per second: 1536\n",
      "MAP: 0.0309109469565784, RECALL: 0.11918951835049127\n",
      "EvaluatorHoldout: Processed 9989 (100.0%) in 5.69 sec. Users per second: 1756\n",
      "MAP: 0.0311620083679351, RECALL: 0.12352801087737235\n",
      "EvaluatorHoldout: Processed 10024 (100.0%) in 5.55 sec. Users per second: 1805\n",
      "MAP: 0.031439865750769805, RECALL: 0.1192539384436337\n",
      "EvaluatorHoldout: Processed 10030 (100.0%) in 5.67 sec. Users per second: 1768\n",
      "MAP: 0.03145264603016378, RECALL: 0.1235088836209303\n",
      "EvaluatorHoldout: Processed 10052 (100.0%) in 5.85 sec. Users per second: 1717\n",
      "MAP: 0.030801187002192074, RECALL: 0.11900374005201479\n",
      "EvaluatorHoldout: Processed 10045 (100.0%) in 5.88 sec. Users per second: 1709\n",
      "MAP: 0.0311204342364125, RECALL: 0.11558818515404555\n",
      "EvaluatorHoldout: Processed 10068 (100.0%) in 6.00 sec. Users per second: 1677\n",
      "MAP: 0.03143512606340405, RECALL: 0.12242840139739898\n"
     ]
    },
    {
     "name": "stderr",
     "output_type": "stream",
     "text": [
      "[I 2024-01-10 14:34:01,636] Trial 68 finished with value: 0.03110459637862558 and parameters: {'w_slim': 0.7557777891810975, 'w_knn': 0.09079919953262623, 'w_p3': 0.09439733489445229, 'w_rp3': 0.709794918172677}. Best is trial 68 with value: 0.03110459637862558.\n"
     ]
    },
    {
     "name": "stdout",
     "output_type": "stream",
     "text": [
      "EvaluatorHoldout: Processed 10057 (100.0%) in 5.96 sec. Users per second: 1688\n",
      "MAP: 0.030917488569124428, RECALL: 0.11887394095918434\n",
      "EvaluatorHoldout: Processed 10040 (100.0%) in 5.69 sec. Users per second: 1764\n",
      "MAP: 0.031182772876747273, RECALL: 0.11838019017246564\n",
      "EvaluatorHoldout: Processed 10017 (100.0%) in 5.95 sec. Users per second: 1684\n",
      "MAP: 0.030625242643062597, RECALL: 0.11568040143031448\n",
      "EvaluatorHoldout: Processed 10037 (100.0%) in 5.74 sec. Users per second: 1748\n",
      "MAP: 0.03091514966054199, RECALL: 0.1192166778685875\n",
      "EvaluatorHoldout: Processed 9989 (100.0%) in 5.70 sec. Users per second: 1754\n",
      "MAP: 0.031135769187376146, RECALL: 0.12364003389960088\n",
      "EvaluatorHoldout: Processed 10024 (100.0%) in 5.75 sec. Users per second: 1743\n",
      "MAP: 0.03142018283104699, RECALL: 0.1192065061669998\n",
      "EvaluatorHoldout: Processed 10030 (100.0%) in 5.76 sec. Users per second: 1741\n",
      "MAP: 0.031491525423729114, RECALL: 0.12354381427084606\n",
      "EvaluatorHoldout: Processed 10052 (100.0%) in 5.89 sec. Users per second: 1707\n",
      "MAP: 0.030800634320580896, RECALL: 0.1189552724275553\n",
      "EvaluatorHoldout: Processed 10045 (100.0%) in 5.62 sec. Users per second: 1786\n",
      "MAP: 0.031152263228171814, RECALL: 0.11563148749888955\n",
      "EvaluatorHoldout: Processed 10068 (100.0%) in 5.73 sec. Users per second: 1757\n",
      "MAP: 0.03144418746176818, RECALL: 0.1224711267380981\n"
     ]
    },
    {
     "name": "stderr",
     "output_type": "stream",
     "text": [
      "[I 2024-01-10 14:35:13,479] Trial 69 finished with value: 0.031108521620214945 and parameters: {'w_slim': 0.7503367739897558, 'w_knn': 0.09158372873799052, 'w_p3': 0.09651323189832439, 'w_rp3': 0.7082492940200094}. Best is trial 69 with value: 0.031108521620214945.\n"
     ]
    },
    {
     "name": "stdout",
     "output_type": "stream",
     "text": [
      "EvaluatorHoldout: Processed 10057 (100.0%) in 5.59 sec. Users per second: 1798\n",
      "MAP: 0.03089258291232058, RECALL: 0.11868702764436168\n",
      "EvaluatorHoldout: Processed 10040 (100.0%) in 5.75 sec. Users per second: 1747\n",
      "MAP: 0.03114209827357269, RECALL: 0.1179730635855855\n",
      "EvaluatorHoldout: Processed 10017 (100.0%) in 5.74 sec. Users per second: 1745\n",
      "MAP: 0.030601770640704695, RECALL: 0.11597364631596803\n",
      "EvaluatorHoldout: Processed 10037 (100.0%) in 5.47 sec. Users per second: 1837\n",
      "MAP: 0.030890617413981247, RECALL: 0.11907508243867578\n",
      "EvaluatorHoldout: Processed 9989 (100.0%) in 5.80 sec. Users per second: 1723\n",
      "MAP: 0.031139431946569977, RECALL: 0.1236924014842411\n",
      "EvaluatorHoldout: Processed 10024 (100.0%) in 5.37 sec. Users per second: 1867\n",
      "MAP: 0.03140218238133263, RECALL: 0.11892385679466941\n",
      "EvaluatorHoldout: Processed 10030 (100.0%) in 5.62 sec. Users per second: 1785\n",
      "MAP: 0.0313963466742632, RECALL: 0.12348265287662713\n",
      "EvaluatorHoldout: Processed 10052 (100.0%) in 5.28 sec. Users per second: 1905\n",
      "MAP: 0.030782131329783826, RECALL: 0.1188537144743181\n",
      "EvaluatorHoldout: Processed 10045 (100.0%) in 4.94 sec. Users per second: 2035\n",
      "MAP: 0.031108440588779252, RECALL: 0.1156517798398749\n",
      "EvaluatorHoldout: Processed 10068 (100.0%) in 5.45 sec. Users per second: 1849\n",
      "MAP: 0.03139521886095216, RECALL: 0.12235385204703919\n"
     ]
    },
    {
     "name": "stderr",
     "output_type": "stream",
     "text": [
      "[I 2024-01-10 14:36:22,509] Trial 70 finished with value: 0.031075082102226027 and parameters: {'w_slim': 0.755344384987448, 'w_knn': 0.09134989003186973, 'w_p3': 0.08934893878402599, 'w_rp3': 0.6535636717716294}. Best is trial 69 with value: 0.031108521620214945.\n"
     ]
    },
    {
     "name": "stdout",
     "output_type": "stream",
     "text": [
      "EvaluatorHoldout: Processed 10057 (100.0%) in 5.08 sec. Users per second: 1981\n",
      "MAP: 0.030883322206281497, RECALL: 0.11862820475234243\n",
      "EvaluatorHoldout: Processed 10040 (100.0%) in 5.59 sec. Users per second: 1797\n",
      "MAP: 0.031141027161196766, RECALL: 0.1182248767410144\n",
      "EvaluatorHoldout: Processed 10017 (100.0%) in 5.71 sec. Users per second: 1754\n",
      "MAP: 0.030607392036712453, RECALL: 0.11561077853229142\n",
      "EvaluatorHoldout: Processed 10037 (100.0%) in 5.77 sec. Users per second: 1738\n",
      "MAP: 0.03088391997229325, RECALL: 0.11920031576068826\n",
      "EvaluatorHoldout: Processed 9989 (100.0%) in 5.28 sec. Users per second: 1890\n",
      "MAP: 0.03112643352131805, RECALL: 0.12347714185236172\n",
      "EvaluatorHoldout: Processed 10024 (100.0%) in 4.97 sec. Users per second: 2016\n",
      "MAP: 0.03140313248204331, RECALL: 0.11899520220492413\n",
      "EvaluatorHoldout: Processed 10030 (100.0%) in 4.84 sec. Users per second: 2071\n",
      "MAP: 0.031429085758597486, RECALL: 0.12353863082894427\n",
      "EvaluatorHoldout: Processed 10052 (100.0%) in 5.04 sec. Users per second: 1994\n",
      "MAP: 0.030784985535532983, RECALL: 0.11889439485030615\n",
      "EvaluatorHoldout: Processed 10045 (100.0%) in 5.29 sec. Users per second: 1900\n",
      "MAP: 0.03113011290462776, RECALL: 0.11562254457989872\n",
      "EvaluatorHoldout: Processed 10068 (100.0%) in 5.81 sec. Users per second: 1732\n",
      "MAP: 0.031421047196524214, RECALL: 0.1223015471681717\n"
     ]
    },
    {
     "name": "stderr",
     "output_type": "stream",
     "text": [
      "[I 2024-01-10 14:37:29,887] Trial 71 finished with value: 0.031081045877512776 and parameters: {'w_slim': 0.7509668795851193, 'w_knn': 0.08641668290255548, 'w_p3': 0.09573788559514107, 'w_rp3': 0.6758132328455876}. Best is trial 69 with value: 0.031108521620214945.\n"
     ]
    },
    {
     "name": "stdout",
     "output_type": "stream",
     "text": [
      "EvaluatorHoldout: Processed 10057 (100.0%) in 5.51 sec. Users per second: 1824\n",
      "MAP: 0.030923253329040504, RECALL: 0.11894713174134446\n",
      "EvaluatorHoldout: Processed 10040 (100.0%) in 5.37 sec. Users per second: 1871\n",
      "MAP: 0.031181911243913556, RECALL: 0.11827327817926582\n",
      "EvaluatorHoldout: Processed 10017 (100.0%) in 5.78 sec. Users per second: 1734\n",
      "MAP: 0.03063215549438996, RECALL: 0.11567299007665295\n",
      "EvaluatorHoldout: Processed 10037 (100.0%) in 5.81 sec. Users per second: 1728\n",
      "MAP: 0.030899093987168395, RECALL: 0.11905244326110642\n",
      "EvaluatorHoldout: Processed 9989 (100.0%) in 5.64 sec. Users per second: 1771\n",
      "MAP: 0.031157543138722644, RECALL: 0.12372438963656165\n",
      "EvaluatorHoldout: Processed 10024 (100.0%) in 5.59 sec. Users per second: 1795\n",
      "MAP: 0.03139449448308212, RECALL: 0.11888710419252653\n",
      "EvaluatorHoldout: Processed 10030 (100.0%) in 5.70 sec. Users per second: 1758\n",
      "MAP: 0.03147918941587963, RECALL: 0.12362244669021284\n",
      "EvaluatorHoldout: Processed 10052 (100.0%) in 5.71 sec. Users per second: 1760\n",
      "MAP: 0.030787172575622936, RECALL: 0.11900695257082342\n",
      "EvaluatorHoldout: Processed 10045 (100.0%) in 5.71 sec. Users per second: 1758\n",
      "MAP: 0.031130172161780104, RECALL: 0.1156868270427354\n",
      "EvaluatorHoldout: Processed 10068 (100.0%) in 5.61 sec. Users per second: 1795\n",
      "MAP: 0.031411847847336784, RECALL: 0.12239545805617773\n"
     ]
    },
    {
     "name": "stderr",
     "output_type": "stream",
     "text": [
      "[I 2024-01-10 14:38:40,325] Trial 72 finished with value: 0.03109968336769367 and parameters: {'w_slim': 0.7674405142768025, 'w_knn': 0.09672510198957869, 'w_p3': 0.09527596582206369, 'w_rp3': 0.7094445691704636}. Best is trial 69 with value: 0.031108521620214945.\n"
     ]
    },
    {
     "name": "stdout",
     "output_type": "stream",
     "text": [
      "EvaluatorHoldout: Processed 10057 (100.0%) in 4.66 sec. Users per second: 2159\n",
      "MAP: 0.03092422398676766, RECALL: 0.11893934658070476\n",
      "EvaluatorHoldout: Processed 10040 (100.0%) in 4.83 sec. Users per second: 2079\n",
      "MAP: 0.031179128723202745, RECALL: 0.11819658679956069\n",
      "EvaluatorHoldout: Processed 10017 (100.0%) in 5.11 sec. Users per second: 1959\n",
      "MAP: 0.03063969822729956, RECALL: 0.11577207529478581\n",
      "EvaluatorHoldout: Processed 10037 (100.0%) in 5.64 sec. Users per second: 1779\n",
      "MAP: 0.03089840605632204, RECALL: 0.1190325185983895\n",
      "EvaluatorHoldout: Processed 9989 (100.0%) in 5.39 sec. Users per second: 1852\n",
      "MAP: 0.03115126242040868, RECALL: 0.12362671017212672\n",
      "EvaluatorHoldout: Processed 10024 (100.0%) in 5.62 sec. Users per second: 1784\n",
      "MAP: 0.03141482267953759, RECALL: 0.11889437905406422\n",
      "EvaluatorHoldout: Processed 10030 (100.0%) in 5.45 sec. Users per second: 1841\n",
      "MAP: 0.031465603190428994, RECALL: 0.12353599318613606\n",
      "EvaluatorHoldout: Processed 10052 (100.0%) in 5.52 sec. Users per second: 1822\n",
      "MAP: 0.030761362344380937, RECALL: 0.11897240698956145\n",
      "EvaluatorHoldout: Processed 10045 (100.0%) in 4.91 sec. Users per second: 2045\n",
      "MAP: 0.03113318242511888, RECALL: 0.1155774281180055\n",
      "EvaluatorHoldout: Processed 10068 (100.0%) in 5.72 sec. Users per second: 1760\n",
      "MAP: 0.03141027520795127, RECALL: 0.12225408999392165\n"
     ]
    },
    {
     "name": "stderr",
     "output_type": "stream",
     "text": [
      "[I 2024-01-10 14:39:47,290] Trial 73 finished with value: 0.031097796526141835 and parameters: {'w_slim': 0.7686720002690287, 'w_knn': 0.09579323882135353, 'w_p3': 0.09450497100864821, 'w_rp3': 0.7090537948389163}. Best is trial 69 with value: 0.031108521620214945.\n"
     ]
    },
    {
     "name": "stdout",
     "output_type": "stream",
     "text": [
      "EvaluatorHoldout: Processed 10057 (100.0%) in 5.67 sec. Users per second: 1774\n",
      "MAP: 0.03090774253422176, RECALL: 0.11891756600246318\n",
      "EvaluatorHoldout: Processed 10040 (100.0%) in 5.41 sec. Users per second: 1857\n",
      "MAP: 0.03115874596850723, RECALL: 0.11799997605638624\n",
      "EvaluatorHoldout: Processed 10017 (100.0%) in 4.74 sec. Users per second: 2113\n",
      "MAP: 0.03064299024990875, RECALL: 0.11568460137436462\n",
      "EvaluatorHoldout: Processed 10037 (100.0%) in 5.35 sec. Users per second: 1875\n",
      "MAP: 0.030896116907126445, RECALL: 0.11905661707309709\n",
      "EvaluatorHoldout: Processed 9989 (100.0%) in 5.11 sec. Users per second: 1954\n",
      "MAP: 0.031128503258346294, RECALL: 0.12366132250671637\n",
      "EvaluatorHoldout: Processed 10024 (100.0%) in 5.42 sec. Users per second: 1849\n",
      "MAP: 0.03139204401499914, RECALL: 0.11899319020420454\n",
      "EvaluatorHoldout: Processed 10030 (100.0%) in 5.60 sec. Users per second: 1792\n",
      "MAP: 0.03144433762205475, RECALL: 0.12354717987166011\n",
      "EvaluatorHoldout: Processed 10052 (100.0%) in 5.01 sec. Users per second: 2005\n",
      "MAP: 0.030782976143103782, RECALL: 0.11896882743726678\n",
      "EvaluatorHoldout: Processed 10045 (100.0%) in 5.03 sec. Users per second: 1995\n",
      "MAP: 0.031131246691475822, RECALL: 0.11573647923817282\n",
      "EvaluatorHoldout: Processed 10068 (100.0%) in 5.66 sec. Users per second: 1780\n",
      "MAP: 0.0313916833784238, RECALL: 0.12247683291779693\n"
     ]
    },
    {
     "name": "stderr",
     "output_type": "stream",
     "text": [
      "[I 2024-01-10 14:40:54,385] Trial 74 finished with value: 0.03108763867681678 and parameters: {'w_slim': 0.7688776378218518, 'w_knn': 0.0966298868896035, 'w_p3': 0.09447946163823195, 'w_rp3': 0.6882422550677291}. Best is trial 69 with value: 0.031108521620214945.\n"
     ]
    },
    {
     "name": "stdout",
     "output_type": "stream",
     "text": [
      "EvaluatorHoldout: Processed 10057 (100.0%) in 4.85 sec. Users per second: 2073\n",
      "MAP: 0.030939379662905723, RECALL: 0.11895897115851284\n",
      "EvaluatorHoldout: Processed 10040 (100.0%) in 4.68 sec. Users per second: 2145\n",
      "MAP: 0.031170773256181932, RECALL: 0.11809731070133926\n",
      "EvaluatorHoldout: Processed 10017 (100.0%) in 4.94 sec. Users per second: 2028\n",
      "MAP: 0.03064059353068064, RECALL: 0.11561855880029893\n",
      "EvaluatorHoldout: Processed 10037 (100.0%) in 5.51 sec. Users per second: 1820\n",
      "MAP: 0.030899801686142515, RECALL: 0.11901738320334812\n",
      "EvaluatorHoldout: Processed 9989 (100.0%) in 5.67 sec. Users per second: 1761\n",
      "MAP: 0.03115080556866542, RECALL: 0.12373216250002371\n",
      "EvaluatorHoldout: Processed 10024 (100.0%) in 5.63 sec. Users per second: 1780\n",
      "MAP: 0.03139356021738327, RECALL: 0.11881244460320214\n",
      "EvaluatorHoldout: Processed 10030 (100.0%) in 5.68 sec. Users per second: 1765\n",
      "MAP: 0.03146834100872015, RECALL: 0.12364980040740164\n",
      "EvaluatorHoldout: Processed 10052 (100.0%) in 5.75 sec. Users per second: 1749\n",
      "MAP: 0.03078605142149741, RECALL: 0.11896934869835152\n",
      "EvaluatorHoldout: Processed 10045 (100.0%) in 5.62 sec. Users per second: 1788\n",
      "MAP: 0.031133541918509727, RECALL: 0.11557953209223493\n",
      "EvaluatorHoldout: Processed 10068 (100.0%) in 5.78 sec. Users per second: 1741\n",
      "MAP: 0.03140471381904663, RECALL: 0.12234394934108142\n"
     ]
    },
    {
     "name": "stderr",
     "output_type": "stream",
     "text": [
      "[I 2024-01-10 14:42:02,577] Trial 75 finished with value: 0.031098756208973344 and parameters: {'w_slim': 0.7673810694684655, 'w_knn': 0.09746043536519508, 'w_p3': 0.09432641585900918, 'w_rp3': 0.704018601819599}. Best is trial 69 with value: 0.031108521620214945.\n"
     ]
    },
    {
     "name": "stdout",
     "output_type": "stream",
     "text": [
      "EvaluatorHoldout: Processed 10057 (100.0%) in 5.70 sec. Users per second: 1764\n",
      "MAP: 0.030924184529136454, RECALL: 0.11889079150891389\n",
      "EvaluatorHoldout: Processed 10040 (100.0%) in 5.72 sec. Users per second: 1754\n",
      "MAP: 0.03116672595332986, RECALL: 0.11800847021826688\n",
      "EvaluatorHoldout: Processed 10017 (100.0%) in 5.39 sec. Users per second: 1859\n",
      "MAP: 0.03065491838477787, RECALL: 0.11578893049178529\n",
      "EvaluatorHoldout: Processed 10037 (100.0%) in 5.43 sec. Users per second: 1849\n",
      "MAP: 0.03089834675193875, RECALL: 0.1190795255286755\n",
      "EvaluatorHoldout: Processed 9989 (100.0%) in 5.39 sec. Users per second: 1854\n",
      "MAP: 0.03114522403214984, RECALL: 0.12370642031171847\n",
      "EvaluatorHoldout: Processed 10024 (100.0%) in 5.16 sec. Users per second: 1942\n",
      "MAP: 0.031385326011224075, RECALL: 0.11884400202007837\n",
      "EvaluatorHoldout: Processed 10030 (100.0%) in 5.52 sec. Users per second: 1818\n",
      "MAP: 0.03144266802766334, RECALL: 0.12357634105325642\n",
      "EvaluatorHoldout: Processed 10052 (100.0%) in 5.36 sec. Users per second: 1876\n",
      "MAP: 0.030775218861918318, RECALL: 0.11895270206349458\n",
      "EvaluatorHoldout: Processed 10045 (100.0%) in 5.32 sec. Users per second: 1889\n",
      "MAP: 0.031131787906800518, RECALL: 0.11570960241113586\n",
      "EvaluatorHoldout: Processed 10068 (100.0%) in 5.50 sec. Users per second: 1830\n",
      "MAP: 0.03139157301776518, RECALL: 0.12240707707107445\n"
     ]
    },
    {
     "name": "stderr",
     "output_type": "stream",
     "text": [
      "[I 2024-01-10 14:43:11,222] Trial 76 finished with value: 0.03109159734767042 and parameters: {'w_slim': 0.759175337611085, 'w_knn': 0.09604374403790705, 'w_p3': 0.09510333730570134, 'w_rp3': 0.6857391731903928}. Best is trial 69 with value: 0.031108521620214945.\n"
     ]
    },
    {
     "name": "stdout",
     "output_type": "stream",
     "text": [
      "EvaluatorHoldout: Processed 10057 (100.0%) in 5.17 sec. Users per second: 1947\n",
      "MAP: 0.03090021007242858, RECALL: 0.11893864762124391\n",
      "EvaluatorHoldout: Processed 10040 (100.0%) in 5.50 sec. Users per second: 1824\n",
      "MAP: 0.03117187598811137, RECALL: 0.11802304837445886\n",
      "EvaluatorHoldout: Processed 10017 (100.0%) in 5.43 sec. Users per second: 1843\n",
      "MAP: 0.030656451492780012, RECALL: 0.1157636372874826\n",
      "EvaluatorHoldout: Processed 10037 (100.0%) in 4.68 sec. Users per second: 2144\n",
      "MAP: 0.030930616243708093, RECALL: 0.11907756569541904\n",
      "EvaluatorHoldout: Processed 9989 (100.0%) in 4.80 sec. Users per second: 2082\n",
      "MAP: 0.03114504526407642, RECALL: 0.12374979473790106\n",
      "EvaluatorHoldout: Processed 10024 (100.0%) in 5.38 sec. Users per second: 1862\n",
      "MAP: 0.03139343749604147, RECALL: 0.11893760928253919\n",
      "EvaluatorHoldout: Processed 10030 (100.0%) in 5.70 sec. Users per second: 1760\n",
      "MAP: 0.03145151054772222, RECALL: 0.12356038254545727\n",
      "EvaluatorHoldout: Processed 10052 (100.0%) in 5.77 sec. Users per second: 1741\n",
      "MAP: 0.030757304082264583, RECALL: 0.11879666172042587\n",
      "EvaluatorHoldout: Processed 10045 (100.0%) in 5.68 sec. Users per second: 1770\n",
      "MAP: 0.03112235021767144, RECALL: 0.11565175946704193\n",
      "EvaluatorHoldout: Processed 10068 (100.0%) in 5.91 sec. Users per second: 1703\n",
      "MAP: 0.03140667272073734, RECALL: 0.1223069044137995\n"
     ]
    },
    {
     "name": "stderr",
     "output_type": "stream",
     "text": [
      "[I 2024-01-10 14:44:19,347] Trial 77 finished with value: 0.03109354741255415 and parameters: {'w_slim': 0.769440002938146, 'w_knn': 0.09981692984105131, 'w_p3': 0.09411749478459878, 'w_rp3': 0.683306710067928}. Best is trial 69 with value: 0.031108521620214945.\n"
     ]
    },
    {
     "name": "stdout",
     "output_type": "stream",
     "text": [
      "EvaluatorHoldout: Processed 10057 (100.0%) in 5.54 sec. Users per second: 1816\n",
      "MAP: 0.03091879856247974, RECALL: 0.11890450154396708\n",
      "EvaluatorHoldout: Processed 10040 (100.0%) in 5.64 sec. Users per second: 1781\n",
      "MAP: 0.031144695029406474, RECALL: 0.1179554652155993\n",
      "EvaluatorHoldout: Processed 10017 (100.0%) in 5.49 sec. Users per second: 1826\n",
      "MAP: 0.030626518252304686, RECALL: 0.11578506708124066\n",
      "EvaluatorHoldout: Processed 10037 (100.0%) in 5.43 sec. Users per second: 1847\n",
      "MAP: 0.030893230760472266, RECALL: 0.11898354141970002\n",
      "EvaluatorHoldout: Processed 9989 (100.0%) in 5.47 sec. Users per second: 1828\n",
      "MAP: 0.031136126723523047, RECALL: 0.12374803408922669\n",
      "EvaluatorHoldout: Processed 10024 (100.0%) in 5.60 sec. Users per second: 1791\n",
      "MAP: 0.03140501288969984, RECALL: 0.11909296865597112\n",
      "EvaluatorHoldout: Processed 10030 (100.0%) in 5.70 sec. Users per second: 1760\n",
      "MAP: 0.031423258003766774, RECALL: 0.12361269289205568\n",
      "EvaluatorHoldout: Processed 10052 (100.0%) in 5.64 sec. Users per second: 1783\n",
      "MAP: 0.030752318104586594, RECALL: 0.11879215472509819\n",
      "EvaluatorHoldout: Processed 10045 (100.0%) in 5.52 sec. Users per second: 1819\n",
      "MAP: 0.03113225406306557, RECALL: 0.11578809023205736\n",
      "EvaluatorHoldout: Processed 10068 (100.0%) in 5.78 sec. Users per second: 1743\n",
      "MAP: 0.031393386085728434, RECALL: 0.1226223758765159\n"
     ]
    },
    {
     "name": "stderr",
     "output_type": "stream",
     "text": [
      "[I 2024-01-10 14:45:29,280] Trial 78 finished with value: 0.031082559847503338 and parameters: {'w_slim': 0.7585742612581574, 'w_knn': 0.09603558979926793, 'w_p3': 0.09691490336571942, 'w_rp3': 0.6543624810682019}. Best is trial 69 with value: 0.031108521620214945.\n"
     ]
    },
    {
     "name": "stdout",
     "output_type": "stream",
     "text": [
      "EvaluatorHoldout: Processed 10057 (100.0%) in 5.03 sec. Users per second: 1998\n",
      "MAP: 0.030928351254989606, RECALL: 0.11881236946395339\n",
      "EvaluatorHoldout: Processed 10040 (100.0%) in 5.28 sec. Users per second: 1903\n",
      "MAP: 0.031146884683488547, RECALL: 0.11791307599068238\n",
      "EvaluatorHoldout: Processed 10017 (100.0%) in 5.64 sec. Users per second: 1776\n",
      "MAP: 0.030608877606481934, RECALL: 0.1156640027045809\n",
      "EvaluatorHoldout: Processed 10037 (100.0%) in 5.81 sec. Users per second: 1729\n",
      "MAP: 0.030928370584393593, RECALL: 0.11889184200115702\n",
      "EvaluatorHoldout: Processed 9989 (100.0%) in 5.36 sec. Users per second: 1865\n",
      "MAP: 0.031137254948697735, RECALL: 0.12349565654129363\n",
      "EvaluatorHoldout: Processed 10024 (100.0%) in 4.93 sec. Users per second: 2033\n",
      "MAP: 0.03140377775877596, RECALL: 0.11916062495519396\n",
      "EvaluatorHoldout: Processed 10030 (100.0%) in 5.00 sec. Users per second: 2005\n",
      "MAP: 0.031410296887116725, RECALL: 0.12345609266833721\n",
      "EvaluatorHoldout: Processed 10052 (100.0%) in 5.12 sec. Users per second: 1964\n",
      "MAP: 0.03076915120737275, RECALL: 0.1187174300576113\n",
      "EvaluatorHoldout: Processed 10045 (100.0%) in 5.04 sec. Users per second: 1994\n",
      "MAP: 0.031093416925423084, RECALL: 0.11585406540030091\n",
      "EvaluatorHoldout: Processed 10068 (100.0%) in 5.26 sec. Users per second: 1916\n",
      "MAP: 0.03136549637071118, RECALL: 0.12256074993685748\n"
     ]
    },
    {
     "name": "stderr",
     "output_type": "stream",
     "text": [
      "[I 2024-01-10 14:46:35,826] Trial 79 finished with value: 0.031079187822745113 and parameters: {'w_slim': 0.7654824946558751, 'w_knn': 0.09953154558251008, 'w_p3': 0.0998585479183683, 'w_rp3': 0.641168347011356}. Best is trial 69 with value: 0.031108521620214945.\n"
     ]
    },
    {
     "name": "stdout",
     "output_type": "stream",
     "text": [
      "EvaluatorHoldout: Processed 10057 (100.0%) in 5.55 sec. Users per second: 1812\n",
      "MAP: 0.03092012828465068, RECALL: 0.1189988865190493\n",
      "EvaluatorHoldout: Processed 10040 (100.0%) in 4.95 sec. Users per second: 2028\n",
      "MAP: 0.03117849633213211, RECALL: 0.1183287544113398\n",
      "EvaluatorHoldout: Processed 10017 (100.0%) in 5.26 sec. Users per second: 1903\n",
      "MAP: 0.03063113342238855, RECALL: 0.11562961586234724\n",
      "EvaluatorHoldout: Processed 10037 (100.0%) in 5.47 sec. Users per second: 1836\n",
      "MAP: 0.030890510666091324, RECALL: 0.11907150938698478\n",
      "EvaluatorHoldout: Processed 9989 (100.0%) in 4.90 sec. Users per second: 2039\n",
      "MAP: 0.031165357289844434, RECALL: 0.12385281127260947\n",
      "EvaluatorHoldout: Processed 10024 (100.0%) in 4.68 sec. Users per second: 2141\n",
      "MAP: 0.031388366333498244, RECALL: 0.11884319003636334\n",
      "EvaluatorHoldout: Processed 10030 (100.0%) in 5.54 sec. Users per second: 1812\n",
      "MAP: 0.031475593062083876, RECALL: 0.1236919647106523\n",
      "EvaluatorHoldout: Processed 10052 (100.0%) in 5.71 sec. Users per second: 1762\n",
      "MAP: 0.030789549106551007, RECALL: 0.11890949102185562\n",
      "EvaluatorHoldout: Processed 10045 (100.0%) in 5.30 sec. Users per second: 1897\n",
      "MAP: 0.031117901980769257, RECALL: 0.11570795504945967\n",
      "EvaluatorHoldout: Processed 10068 (100.0%) in 5.61 sec. Users per second: 1796\n",
      "MAP: 0.031410681177516955, RECALL: 0.12217613857797346\n"
     ]
    },
    {
     "name": "stderr",
     "output_type": "stream",
     "text": [
      "[I 2024-01-10 14:47:42,890] Trial 80 finished with value: 0.031096771765552637 and parameters: {'w_slim': 0.7506379544807937, 'w_knn': 0.09649289832385466, 'w_p3': 0.09219040799226316, 'w_rp3': 0.7046140033918256}. Best is trial 69 with value: 0.031108521620214945.\n"
     ]
    },
    {
     "name": "stdout",
     "output_type": "stream",
     "text": [
      "EvaluatorHoldout: Processed 10057 (100.0%) in 5.01 sec. Users per second: 2008\n",
      "MAP: 0.0309275265904978, RECALL: 0.11895008034436907\n",
      "EvaluatorHoldout: Processed 10040 (100.0%) in 5.39 sec. Users per second: 1862\n",
      "MAP: 0.03116620027825238, RECALL: 0.11801306158365417\n",
      "EvaluatorHoldout: Processed 10017 (100.0%) in 5.21 sec. Users per second: 1923\n",
      "MAP: 0.03066106666286387, RECALL: 0.11565891452253221\n",
      "EvaluatorHoldout: Processed 10037 (100.0%) in 5.06 sec. Users per second: 1984\n",
      "MAP: 0.030911816754200218, RECALL: 0.11903772294823846\n",
      "EvaluatorHoldout: Processed 9989 (100.0%) in 4.90 sec. Users per second: 2037\n",
      "MAP: 0.03114646349079246, RECALL: 0.12370489789567166\n",
      "EvaluatorHoldout: Processed 10024 (100.0%) in 5.02 sec. Users per second: 1998\n",
      "MAP: 0.03139550792384015, RECALL: 0.11898498541026366\n",
      "EvaluatorHoldout: Processed 10030 (100.0%) in 5.36 sec. Users per second: 1871\n",
      "MAP: 0.031449445314849396, RECALL: 0.12356298445029365\n",
      "EvaluatorHoldout: Processed 10052 (100.0%) in 5.25 sec. Users per second: 1915\n",
      "MAP: 0.03076277563021523, RECALL: 0.11888631477379352\n",
      "EvaluatorHoldout: Processed 10045 (100.0%) in 5.57 sec. Users per second: 1804\n",
      "MAP: 0.031115203805099433, RECALL: 0.11565261061523005\n",
      "EvaluatorHoldout: Processed 10068 (100.0%) in 5.54 sec. Users per second: 1816\n",
      "MAP: 0.0314080206973535, RECALL: 0.12241162357930968\n"
     ]
    },
    {
     "name": "stderr",
     "output_type": "stream",
     "text": [
      "[I 2024-01-10 14:48:49,287] Trial 81 finished with value: 0.031094402714796444 and parameters: {'w_slim': 0.7504370592410552, 'w_knn': 0.09626840887401625, 'w_p3': 0.09318282544140274, 'w_rp3': 0.6723656002630578}. Best is trial 69 with value: 0.031108521620214945.\n"
     ]
    },
    {
     "name": "stdout",
     "output_type": "stream",
     "text": [
      "EvaluatorHoldout: Processed 10057 (100.0%) in 4.91 sec. Users per second: 2050\n",
      "MAP: 0.030918273775984995, RECALL: 0.11889196385122026\n",
      "EvaluatorHoldout: Processed 10040 (100.0%) in 4.99 sec. Users per second: 2010\n",
      "MAP: 0.031138078637829934, RECALL: 0.11793690583724316\n",
      "EvaluatorHoldout: Processed 10017 (100.0%) in 4.82 sec. Users per second: 2077\n",
      "MAP: 0.030587600285863485, RECALL: 0.1158560357933212\n",
      "EvaluatorHoldout: Processed 10037 (100.0%) in 5.34 sec. Users per second: 1878\n",
      "MAP: 0.030913129357884043, RECALL: 0.11908934182501277\n",
      "EvaluatorHoldout: Processed 9989 (100.0%) in 5.20 sec. Users per second: 1921\n",
      "MAP: 0.03113157409658581, RECALL: 0.12349183354377176\n",
      "EvaluatorHoldout: Processed 10024 (100.0%) in 5.30 sec. Users per second: 1893\n",
      "MAP: 0.031399233110376554, RECALL: 0.11907853679803912\n",
      "EvaluatorHoldout: Processed 10030 (100.0%) in 5.18 sec. Users per second: 1936\n",
      "MAP: 0.03143010254949466, RECALL: 0.12342802701596732\n",
      "EvaluatorHoldout: Processed 10052 (100.0%) in 4.94 sec. Users per second: 2036\n",
      "MAP: 0.030770327629659384, RECALL: 0.11871464133877763\n",
      "EvaluatorHoldout: Processed 10045 (100.0%) in 5.43 sec. Users per second: 1850\n",
      "MAP: 0.031097616282285464, RECALL: 0.11586592997840972\n",
      "EvaluatorHoldout: Processed 10068 (100.0%) in 5.40 sec. Users per second: 1863\n",
      "MAP: 0.031352000838741276, RECALL: 0.12245376842186297\n"
     ]
    },
    {
     "name": "stderr",
     "output_type": "stream",
     "text": [
      "[I 2024-01-10 14:49:54,956] Trial 82 finished with value: 0.03107379365647056 and parameters: {'w_slim': 0.7500387196159901, 'w_knn': 0.09623164893214481, 'w_p3': 0.09351325573412775, 'w_rp3': 0.6176480174063133}. Best is trial 69 with value: 0.031108521620214945.\n"
     ]
    },
    {
     "name": "stdout",
     "output_type": "stream",
     "text": [
      "EvaluatorHoldout: Processed 10057 (100.0%) in 5.37 sec. Users per second: 1874\n",
      "MAP: 0.030890310152764316, RECALL: 0.11890122932657615\n",
      "EvaluatorHoldout: Processed 10040 (100.0%) in 5.23 sec. Users per second: 1920\n",
      "MAP: 0.03115568282425886, RECALL: 0.11790961241666041\n",
      "EvaluatorHoldout: Processed 10017 (100.0%) in 5.47 sec. Users per second: 1833\n",
      "MAP: 0.0306504141372368, RECALL: 0.1157838686053546\n",
      "EvaluatorHoldout: Processed 10037 (100.0%) in 4.98 sec. Users per second: 2017\n",
      "MAP: 0.030949225959189374, RECALL: 0.11905615332455262\n",
      "EvaluatorHoldout: Processed 9989 (100.0%) in 5.35 sec. Users per second: 1866\n",
      "MAP: 0.031150146113105584, RECALL: 0.12366858636106746\n",
      "EvaluatorHoldout: Processed 10024 (100.0%) in 4.63 sec. Users per second: 2163\n",
      "MAP: 0.03139481118331898, RECALL: 0.11893690718605811\n",
      "EvaluatorHoldout: Processed 10030 (100.0%) in 4.93 sec. Users per second: 2036\n",
      "MAP: 0.03145298627925778, RECALL: 0.12354787106030485\n",
      "EvaluatorHoldout: Processed 10052 (100.0%) in 4.63 sec. Users per second: 2172\n",
      "MAP: 0.030751386441299208, RECALL: 0.1188751362287402\n",
      "EvaluatorHoldout: Processed 10045 (100.0%) in 5.29 sec. Users per second: 1898\n",
      "MAP: 0.031105205148261546, RECALL: 0.1156485595808156\n",
      "EvaluatorHoldout: Processed 10068 (100.0%) in 4.93 sec. Users per second: 2042\n",
      "MAP: 0.031391237994337184, RECALL: 0.12236760721280138\n"
     ]
    },
    {
     "name": "stderr",
     "output_type": "stream",
     "text": [
      "[I 2024-01-10 14:50:59,895] Trial 83 finished with value: 0.031089140623302963 and parameters: {'w_slim': 0.7605019750729901, 'w_knn': 0.09960506581729359, 'w_p3': 0.09117302772023474, 'w_rp3': 0.6761465587258486}. Best is trial 69 with value: 0.031108521620214945.\n"
     ]
    },
    {
     "name": "stdout",
     "output_type": "stream",
     "text": [
      "EvaluatorHoldout: Processed 10057 (100.0%) in 4.96 sec. Users per second: 2026\n",
      "MAP: 0.03090348900158007, RECALL: 0.11870455398958753\n",
      "EvaluatorHoldout: Processed 10040 (100.0%) in 5.06 sec. Users per second: 1986\n",
      "MAP: 0.031144011256561348, RECALL: 0.11806797961462005\n",
      "EvaluatorHoldout: Processed 10017 (100.0%) in 5.37 sec. Users per second: 1864\n",
      "MAP: 0.03062322622969551, RECALL: 0.11572400531292963\n",
      "EvaluatorHoldout: Processed 10037 (100.0%) in 5.11 sec. Users per second: 1962\n",
      "MAP: 0.030899888665904665, RECALL: 0.11902966312228506\n",
      "EvaluatorHoldout: Processed 9989 (100.0%) in 5.15 sec. Users per second: 1940\n",
      "MAP: 0.03117124074577294, RECALL: 0.12356823044059513\n",
      "EvaluatorHoldout: Processed 10024 (100.0%) in 5.14 sec. Users per second: 1952\n",
      "MAP: 0.031414232825346375, RECALL: 0.1189015680380923\n",
      "EvaluatorHoldout: Processed 10030 (100.0%) in 4.60 sec. Users per second: 2180\n",
      "MAP: 0.031434798778268665, RECALL: 0.12351440585706225\n",
      "EvaluatorHoldout: Processed 10052 (100.0%) in 4.71 sec. Users per second: 2133\n",
      "MAP: 0.030788116082087716, RECALL: 0.11900353117085431\n",
      "EvaluatorHoldout: Processed 10045 (100.0%) in 4.75 sec. Users per second: 2113\n",
      "MAP: 0.031110881983455567, RECALL: 0.1155190215040383\n",
      "EvaluatorHoldout: Processed 10068 (100.0%) in 5.01 sec. Users per second: 2011\n",
      "MAP: 0.03143525218987107, RECALL: 0.1223457742334009\n"
     ]
    },
    {
     "name": "stderr",
     "output_type": "stream",
     "text": [
      "[I 2024-01-10 14:52:03,891] Trial 84 finished with value: 0.03109251377585439 and parameters: {'w_slim': 0.7573068761026619, 'w_knn': 0.09246949201390528, 'w_p3': 0.0870735316643764, 'w_rp3': 0.7036667966910766}. Best is trial 69 with value: 0.031108521620214945.\n"
     ]
    },
    {
     "name": "stdout",
     "output_type": "stream",
     "text": [
      "EvaluatorHoldout: Processed 10057 (100.0%) in 5.06 sec. Users per second: 1987\n",
      "MAP: 0.030892496105532, RECALL: 0.11868395361102749\n",
      "EvaluatorHoldout: Processed 10040 (100.0%) in 5.61 sec. Users per second: 1791\n",
      "MAP: 0.031157738095238387, RECALL: 0.11804821384930703\n",
      "EvaluatorHoldout: Processed 10017 (100.0%) in 5.40 sec. Users per second: 1855\n",
      "MAP: 0.030637230200722534, RECALL: 0.11574281297878268\n",
      "EvaluatorHoldout: Processed 10037 (100.0%) in 4.95 sec. Users per second: 2029\n",
      "MAP: 0.03088757312230487, RECALL: 0.1190090752478677\n",
      "EvaluatorHoldout: Processed 9989 (100.0%) in 4.88 sec. Users per second: 2046\n",
      "MAP: 0.031168865116707946, RECALL: 0.12348657934973428\n",
      "EvaluatorHoldout: Processed 10024 (100.0%) in 5.52 sec. Users per second: 1815\n",
      "MAP: 0.03143345257097274, RECALL: 0.11894376231146302\n",
      "EvaluatorHoldout: Processed 10030 (100.0%) in 5.48 sec. Users per second: 1832\n",
      "MAP: 0.03140474212283813, RECALL: 0.12350335185431952\n",
      "EvaluatorHoldout: Processed 10052 (100.0%) in 4.67 sec. Users per second: 2154\n",
      "MAP: 0.03076511268388535, RECALL: 0.11900224422045277\n",
      "EvaluatorHoldout: Processed 10045 (100.0%) in 4.63 sec. Users per second: 2171\n",
      "MAP: 0.03111432679924485, RECALL: 0.11547307490240112\n",
      "EvaluatorHoldout: Processed 10068 (100.0%) in 4.82 sec. Users per second: 2088\n",
      "MAP: 0.031410775772367214, RECALL: 0.12223042814318395\n"
     ]
    },
    {
     "name": "stderr",
     "output_type": "stream",
     "text": [
      "[I 2024-01-10 14:53:09,060] Trial 85 finished with value: 0.031087231258981402 and parameters: {'w_slim': 0.7668258491693813, 'w_knn': 0.0921199370100228, 'w_p3': 0.08722687543321306, 'w_rp3': 0.7047647486166613}. Best is trial 69 with value: 0.031108521620214945.\n"
     ]
    },
    {
     "name": "stdout",
     "output_type": "stream",
     "text": [
      "EvaluatorHoldout: Processed 10057 (100.0%) in 4.85 sec. Users per second: 2075\n",
      "MAP: 0.030905844622161782, RECALL: 0.11871074749170342\n",
      "EvaluatorHoldout: Processed 10040 (100.0%) in 5.00 sec. Users per second: 2009\n",
      "MAP: 0.031142884809966808, RECALL: 0.11806866193558006\n",
      "EvaluatorHoldout: Processed 10017 (100.0%) in 5.59 sec. Users per second: 1791\n",
      "MAP: 0.03064600892768035, RECALL: 0.11582762939779218\n",
      "EvaluatorHoldout: Processed 10037 (100.0%) in 5.22 sec. Users per second: 1922\n",
      "MAP: 0.030879942624986216, RECALL: 0.11896851565827815\n",
      "EvaluatorHoldout: Processed 9989 (100.0%) in 5.10 sec. Users per second: 1958\n",
      "MAP: 0.031142729224369205, RECALL: 0.1235941949061774\n",
      "EvaluatorHoldout: Processed 10024 (100.0%) in 5.54 sec. Users per second: 1809\n",
      "MAP: 0.031414901854596805, RECALL: 0.11891318679440094\n",
      "EvaluatorHoldout: Processed 10030 (100.0%) in 5.58 sec. Users per second: 1798\n",
      "MAP: 0.03141123059393275, RECALL: 0.12354183335709132\n",
      "EvaluatorHoldout: Processed 10052 (100.0%) in 4.93 sec. Users per second: 2037\n",
      "MAP: 0.03079346919826455, RECALL: 0.11897932494017176\n",
      "EvaluatorHoldout: Processed 10045 (100.0%) in 5.10 sec. Users per second: 1969\n",
      "MAP: 0.031122105288108454, RECALL: 0.1154927761899061\n",
      "EvaluatorHoldout: Processed 10068 (100.0%) in 5.39 sec. Users per second: 1867\n",
      "MAP: 0.03138996096385873, RECALL: 0.12236161937613324\n"
     ]
    },
    {
     "name": "stderr",
     "output_type": "stream",
     "text": [
      "[I 2024-01-10 14:54:15,466] Trial 86 finished with value: 0.03108490781079256 and parameters: {'w_slim': 0.7791213700222894, 'w_knn': 0.09467451669633695, 'w_p3': 0.0925476364173568, 'w_rp3': 0.699811149362178}. Best is trial 69 with value: 0.031108521620214945.\n"
     ]
    },
    {
     "name": "stdout",
     "output_type": "stream",
     "text": [
      "EvaluatorHoldout: Processed 10057 (100.0%) in 5.31 sec. Users per second: 1896\n",
      "MAP: 0.03091226832451867, RECALL: 0.11885060853480878\n",
      "EvaluatorHoldout: Processed 10040 (100.0%) in 5.69 sec. Users per second: 1763\n",
      "MAP: 0.031150196831721037, RECALL: 0.11791406714555644\n",
      "EvaluatorHoldout: Processed 10017 (100.0%) in 5.49 sec. Users per second: 1824\n",
      "MAP: 0.030642609944047765, RECALL: 0.11586816968711337\n",
      "EvaluatorHoldout: Processed 10037 (100.0%) in 5.69 sec. Users per second: 1765\n",
      "MAP: 0.030859490519996938, RECALL: 0.11906397325257105\n",
      "EvaluatorHoldout: Processed 9989 (100.0%) in 5.74 sec. Users per second: 1741\n",
      "MAP: 0.031127255854455943, RECALL: 0.12351064766039418\n",
      "EvaluatorHoldout: Processed 10024 (100.0%) in 5.51 sec. Users per second: 1819\n",
      "MAP: 0.03139530998619211, RECALL: 0.11901722539639767\n",
      "EvaluatorHoldout: Processed 10030 (100.0%) in 5.64 sec. Users per second: 1778\n",
      "MAP: 0.031434945164506754, RECALL: 0.12360229364593611\n",
      "EvaluatorHoldout: Processed 10052 (100.0%) in 5.58 sec. Users per second: 1800\n",
      "MAP: 0.0307879344867012, RECALL: 0.1188591921693405\n",
      "EvaluatorHoldout: Processed 10045 (100.0%) in 5.28 sec. Users per second: 1903\n",
      "MAP: 0.031141241397836878, RECALL: 0.11576582592324496\n",
      "EvaluatorHoldout: Processed 10068 (100.0%) in 5.31 sec. Users per second: 1897\n",
      "MAP: 0.031417748201121524, RECALL: 0.1223978184397278\n"
     ]
    },
    {
     "name": "stderr",
     "output_type": "stream",
     "text": [
      "[I 2024-01-10 14:55:24,825] Trial 87 finished with value: 0.031086900071109886 and parameters: {'w_slim': 0.7555461948563575, 'w_knn': 0.092470771063738, 'w_p3': 0.09773203116006203, 'w_rp3': 0.6689324918520939}. Best is trial 69 with value: 0.031108521620214945.\n"
     ]
    },
    {
     "name": "stdout",
     "output_type": "stream",
     "text": [
      "EvaluatorHoldout: Processed 10057 (100.0%) in 4.95 sec. Users per second: 2033\n",
      "MAP: 0.030888001881340017, RECALL: 0.11878080426913415\n",
      "EvaluatorHoldout: Processed 10040 (100.0%) in 5.32 sec. Users per second: 1886\n",
      "MAP: 0.03115608992601055, RECALL: 0.11813751283053825\n",
      "EvaluatorHoldout: Processed 10017 (100.0%) in 5.48 sec. Users per second: 1827\n",
      "MAP: 0.030615350729157508, RECALL: 0.11565362208495304\n",
      "EvaluatorHoldout: Processed 10037 (100.0%) in 5.65 sec. Users per second: 1777\n",
      "MAP: 0.030920676829066036, RECALL: 0.11900137984409918\n",
      "EvaluatorHoldout: Processed 9989 (100.0%) in 5.52 sec. Users per second: 1810\n",
      "MAP: 0.03116534139934902, RECALL: 0.12363381352471497\n",
      "EvaluatorHoldout: Processed 10024 (100.0%) in 5.50 sec. Users per second: 1822\n",
      "MAP: 0.03143009950721465, RECALL: 0.11899773171855282\n",
      "EvaluatorHoldout: Processed 10030 (100.0%) in 5.54 sec. Users per second: 1809\n",
      "MAP: 0.03142465856399084, RECALL: 0.12342679584175788\n",
      "EvaluatorHoldout: Processed 10052 (100.0%) in 5.08 sec. Users per second: 1978\n",
      "MAP: 0.03078697518933321, RECALL: 0.11904351040857619\n",
      "EvaluatorHoldout: Processed 10045 (100.0%) in 5.34 sec. Users per second: 1881\n",
      "MAP: 0.031124325456082687, RECALL: 0.11565184188904531\n",
      "EvaluatorHoldout: Processed 10068 (100.0%) in 5.36 sec. Users per second: 1878\n",
      "MAP: 0.03139888441139959, RECALL: 0.12249497098998713\n"
     ]
    },
    {
     "name": "stderr",
     "output_type": "stream",
     "text": [
      "[I 2024-01-10 14:56:32,738] Trial 88 finished with value: 0.03109104038929441 and parameters: {'w_slim': 0.7756333315757415, 'w_knn': 0.09788134560516279, 'w_p3': 0.0865437049835522, 'w_rp3': 0.7062433398268549}. Best is trial 69 with value: 0.031108521620214945.\n"
     ]
    },
    {
     "name": "stdout",
     "output_type": "stream",
     "text": [
      "EvaluatorHoldout: Processed 10057 (100.0%) in 5.03 sec. Users per second: 1999\n",
      "MAP: 0.03091031911753819, RECALL: 0.11849371273698692\n",
      "EvaluatorHoldout: Processed 10040 (100.0%) in 5.47 sec. Users per second: 1836\n",
      "MAP: 0.031048243533801593, RECALL: 0.11774394275709427\n",
      "EvaluatorHoldout: Processed 10017 (100.0%) in 5.51 sec. Users per second: 1819\n",
      "MAP: 0.030581452007777406, RECALL: 0.11602137573990738\n",
      "EvaluatorHoldout: Processed 10037 (100.0%) in 5.59 sec. Users per second: 1797\n",
      "MAP: 0.030880796608105852, RECALL: 0.11922970333830638\n",
      "EvaluatorHoldout: Processed 9989 (100.0%) in 5.73 sec. Users per second: 1744\n",
      "MAP: 0.031080073000936157, RECALL: 0.12329024266046464\n",
      "EvaluatorHoldout: Processed 10024 (100.0%) in 5.05 sec. Users per second: 1983\n",
      "MAP: 0.03129797216838338, RECALL: 0.1190091512577152\n",
      "EvaluatorHoldout: Processed 10030 (100.0%) in 5.67 sec. Users per second: 1768\n",
      "MAP: 0.03128714649701716, RECALL: 0.12312080944358676\n",
      "EvaluatorHoldout: Processed 10052 (100.0%) in 5.69 sec. Users per second: 1766\n",
      "MAP: 0.030760446471996696, RECALL: 0.11864601330623813\n",
      "EvaluatorHoldout: Processed 10045 (100.0%) in 5.65 sec. Users per second: 1777\n",
      "MAP: 0.031113216715257703, RECALL: 0.11585648579005152\n",
      "EvaluatorHoldout: Processed 10068 (100.0%) in 5.50 sec. Users per second: 1830\n",
      "MAP: 0.031275867750093285, RECALL: 0.1220054365782042\n"
     ]
    },
    {
     "name": "stderr",
     "output_type": "stream",
     "text": [
      "[I 2024-01-10 14:57:41,733] Trial 89 finished with value: 0.03102355338709074 and parameters: {'w_slim': 0.766611852642824, 'w_knn': 0.09257789416057094, 'w_p3': 0.08384684982931095, 'w_rp3': 0.5166476734968481}. Best is trial 69 with value: 0.031108521620214945.\n"
     ]
    },
    {
     "name": "stdout",
     "output_type": "stream",
     "text": [
      "EvaluatorHoldout: Processed 10057 (100.0%) in 5.78 sec. Users per second: 1741\n",
      "MAP: 0.030906625883259334, RECALL: 0.11837677717677507\n",
      "EvaluatorHoldout: Processed 10040 (100.0%) in 5.67 sec. Users per second: 1771\n",
      "MAP: 0.031015062764814052, RECALL: 0.11788688416472858\n",
      "EvaluatorHoldout: Processed 10017 (100.0%) in 5.64 sec. Users per second: 1775\n",
      "MAP: 0.030552671569443225, RECALL: 0.11599428661654317\n",
      "EvaluatorHoldout: Processed 10037 (100.0%) in 5.61 sec. Users per second: 1789\n",
      "MAP: 0.03087533269759063, RECALL: 0.11897641394630638\n",
      "EvaluatorHoldout: Processed 9989 (100.0%) in 5.56 sec. Users per second: 1798\n",
      "MAP: 0.031133282324843227, RECALL: 0.12373470557282848\n",
      "EvaluatorHoldout: Processed 10024 (100.0%) in 5.57 sec. Users per second: 1799\n",
      "MAP: 0.031317073151420925, RECALL: 0.1188926385179452\n",
      "EvaluatorHoldout: Processed 10030 (100.0%) in 5.35 sec. Users per second: 1873\n",
      "MAP: 0.03134329551029477, RECALL: 0.12288362788755053\n",
      "EvaluatorHoldout: Processed 10052 (100.0%) in 6.57 sec. Users per second: 1530\n",
      "MAP: 0.030688309678560646, RECALL: 0.11836807915279791\n",
      "EvaluatorHoldout: Processed 10045 (100.0%) in 6.51 sec. Users per second: 1542\n",
      "MAP: 0.03112027621733964, RECALL: 0.115719482623101\n",
      "EvaluatorHoldout: Processed 10068 (100.0%) in 6.47 sec. Users per second: 1557\n",
      "MAP: 0.03131473440919236, RECALL: 0.12188863770506361\n"
     ]
    },
    {
     "name": "stderr",
     "output_type": "stream",
     "text": [
      "[I 2024-01-10 14:58:54,609] Trial 90 finished with value: 0.03102666642067588 and parameters: {'w_slim': 0.9353310564952991, 'w_knn': 0.09963456155419433, 'w_p3': 0.08855253682775052, 'w_rp3': 0.6606393106371612}. Best is trial 69 with value: 0.031108521620214945.\n"
     ]
    },
    {
     "name": "stdout",
     "output_type": "stream",
     "text": [
      "EvaluatorHoldout: Processed 10057 (100.0%) in 6.59 sec. Users per second: 1526\n",
      "MAP: 0.03093449875392817, RECALL: 0.11896049227878752\n",
      "EvaluatorHoldout: Processed 10040 (100.0%) in 6.83 sec. Users per second: 1470\n",
      "MAP: 0.03116880098653038, RECALL: 0.11814390320604047\n",
      "EvaluatorHoldout: Processed 10017 (100.0%) in 6.62 sec. Users per second: 1513\n",
      "MAP: 0.030633969870268417, RECALL: 0.115637884920254\n",
      "EvaluatorHoldout: Processed 10037 (100.0%) in 5.66 sec. Users per second: 1774\n",
      "MAP: 0.030899252132190542, RECALL: 0.11902938333726557\n",
      "EvaluatorHoldout: Processed 9989 (100.0%) in 5.37 sec. Users per second: 1859\n",
      "MAP: 0.031148747749508803, RECALL: 0.12376274559197428\n",
      "EvaluatorHoldout: Processed 10024 (100.0%) in 5.59 sec. Users per second: 1793\n",
      "MAP: 0.03140814426329213, RECALL: 0.11885509853543412\n",
      "EvaluatorHoldout: Processed 10030 (100.0%) in 5.39 sec. Users per second: 1860\n",
      "MAP: 0.03148079966449884, RECALL: 0.1236552649022434\n",
      "EvaluatorHoldout: Processed 10052 (100.0%) in 5.30 sec. Users per second: 1895\n",
      "MAP: 0.03079269544400892, RECALL: 0.11902484714347394\n",
      "EvaluatorHoldout: Processed 10045 (100.0%) in 5.13 sec. Users per second: 1959\n",
      "MAP: 0.031132017034456234, RECALL: 0.11571226811347265\n",
      "EvaluatorHoldout: Processed 10068 (100.0%) in 5.78 sec. Users per second: 1742\n",
      "MAP: 0.03140596325936042, RECALL: 0.12244512035256234\n"
     ]
    },
    {
     "name": "stderr",
     "output_type": "stream",
     "text": [
      "[I 2024-01-10 15:00:07,074] Trial 91 finished with value: 0.031100488915804286 and parameters: {'w_slim': 0.7507863037328032, 'w_knn': 0.09510535774236736, 'w_p3': 0.09199745437864484, 'w_rp3': 0.6934226577669156}. Best is trial 69 with value: 0.031108521620214945.\n"
     ]
    },
    {
     "name": "stdout",
     "output_type": "stream",
     "text": [
      "EvaluatorHoldout: Processed 10057 (100.0%) in 4.73 sec. Users per second: 2126\n",
      "MAP: 0.03087942773808357, RECALL: 0.11877781617099721\n",
      "EvaluatorHoldout: Processed 10040 (100.0%) in 5.21 sec. Users per second: 1927\n",
      "MAP: 0.031121426990451236, RECALL: 0.11829630094265446\n",
      "EvaluatorHoldout: Processed 10017 (100.0%) in 5.02 sec. Users per second: 1997\n",
      "MAP: 0.030541032625489264, RECALL: 0.11554278558753167\n",
      "EvaluatorHoldout: Processed 10037 (100.0%) in 5.37 sec. Users per second: 1869\n",
      "MAP: 0.03084492536345705, RECALL: 0.11924102721914266\n",
      "EvaluatorHoldout: Processed 9989 (100.0%) in 6.71 sec. Users per second: 1488\n",
      "MAP: 0.0311974243095979, RECALL: 0.12333721208917914\n",
      "EvaluatorHoldout: Processed 10024 (100.0%) in 6.53 sec. Users per second: 1536\n",
      "MAP: 0.03135141533335886, RECALL: 0.11885131323955551\n",
      "EvaluatorHoldout: Processed 10030 (100.0%) in 7.16 sec. Users per second: 1401\n",
      "MAP: 0.031444784693538744, RECALL: 0.1228776815603065\n",
      "EvaluatorHoldout: Processed 10052 (100.0%) in 7.03 sec. Users per second: 1431\n",
      "MAP: 0.030680224736134354, RECALL: 0.11872029561821108\n",
      "EvaluatorHoldout: Processed 10045 (100.0%) in 6.48 sec. Users per second: 1551\n",
      "MAP: 0.031149912694462333, RECALL: 0.11504673700583823\n",
      "EvaluatorHoldout: Processed 10068 (100.0%) in 6.62 sec. Users per second: 1521\n",
      "MAP: 0.0314819032168558, RECALL: 0.12211002781039029\n"
     ]
    },
    {
     "name": "stderr",
     "output_type": "stream",
     "text": [
      "[I 2024-01-10 15:01:22,097] Trial 92 finished with value: 0.03106924777014291 and parameters: {'w_slim': 0.7556391401202117, 'w_knn': 0.053749693923145485, 'w_p3': 0.09757881157485537, 'w_rp3': 0.6922209974539497}. Best is trial 69 with value: 0.031108521620214945.\n"
     ]
    },
    {
     "name": "stdout",
     "output_type": "stream",
     "text": [
      "EvaluatorHoldout: Processed 10057 (100.0%) in 5.06 sec. Users per second: 1988\n",
      "MAP: 0.03090887891399988, RECALL: 0.1189344258664204\n",
      "EvaluatorHoldout: Processed 10040 (100.0%) in 5.22 sec. Users per second: 1922\n",
      "MAP: 0.03115591601846613, RECALL: 0.11798128956359617\n",
      "EvaluatorHoldout: Processed 10017 (100.0%) in 5.57 sec. Users per second: 1799\n",
      "MAP: 0.030648678991746035, RECALL: 0.1156880346911652\n",
      "EvaluatorHoldout: Processed 10037 (100.0%) in 5.73 sec. Users per second: 1753\n",
      "MAP: 0.03090113010432854, RECALL: 0.11903646645643819\n",
      "EvaluatorHoldout: Processed 9989 (100.0%) in 5.39 sec. Users per second: 1852\n",
      "MAP: 0.03114198634370843, RECALL: 0.12370443399979121\n",
      "EvaluatorHoldout: Processed 10024 (100.0%) in 5.42 sec. Users per second: 1850\n",
      "MAP: 0.03140090370412619, RECALL: 0.1188536176153925\n",
      "EvaluatorHoldout: Processed 10030 (100.0%) in 5.53 sec. Users per second: 1815\n",
      "MAP: 0.03145164506480586, RECALL: 0.12353403097890008\n",
      "EvaluatorHoldout: Processed 10052 (100.0%) in 5.27 sec. Users per second: 1908\n",
      "MAP: 0.03077439378722734, RECALL: 0.11895930982926131\n",
      "EvaluatorHoldout: Processed 10045 (100.0%) in 5.62 sec. Users per second: 1787\n",
      "MAP: 0.031115792426145993, RECALL: 0.11568034296252436\n",
      "EvaluatorHoldout: Processed 10068 (100.0%) in 5.63 sec. Users per second: 1788\n",
      "MAP: 0.03140207304614364, RECALL: 0.12250751781141389\n"
     ]
    },
    {
     "name": "stderr",
     "output_type": "stream",
     "text": [
      "[I 2024-01-10 15:02:30,654] Trial 93 finished with value: 0.0310901398400698 and parameters: {'w_slim': 0.7505368600416015, 'w_knn': 0.09490053439223975, 'w_p3': 0.0914080494395748, 'w_rp3': 0.6764938341587138}. Best is trial 69 with value: 0.031108521620214945.\n"
     ]
    },
    {
     "name": "stdout",
     "output_type": "stream",
     "text": [
      "EvaluatorHoldout: Processed 10057 (100.0%) in 4.99 sec. Users per second: 2016\n",
      "MAP: 0.030933831919961147, RECALL: 0.1189747666571279\n",
      "EvaluatorHoldout: Processed 10040 (100.0%) in 5.24 sec. Users per second: 1916\n",
      "MAP: 0.031165801081389034, RECALL: 0.11825765822771796\n",
      "EvaluatorHoldout: Processed 10017 (100.0%) in 5.41 sec. Users per second: 1850\n",
      "MAP: 0.030639020807484683, RECALL: 0.115655821207158\n",
      "EvaluatorHoldout: Processed 10037 (100.0%) in 5.80 sec. Users per second: 1731\n",
      "MAP: 0.030883303206706902, RECALL: 0.1189811345395215\n",
      "EvaluatorHoldout: Processed 9989 (100.0%) in 5.63 sec. Users per second: 1775\n",
      "MAP: 0.031155620388777075, RECALL: 0.12386426752250813\n",
      "EvaluatorHoldout: Processed 10024 (100.0%) in 5.54 sec. Users per second: 1810\n",
      "MAP: 0.03141076099899946, RECALL: 0.11888496286706118\n",
      "EvaluatorHoldout: Processed 10030 (100.0%) in 5.78 sec. Users per second: 1735\n",
      "MAP: 0.03147780468119479, RECALL: 0.12367948627294953\n",
      "EvaluatorHoldout: Processed 10052 (100.0%) in 5.75 sec. Users per second: 1747\n",
      "MAP: 0.030784014394987666, RECALL: 0.11891057393989013\n",
      "EvaluatorHoldout: Processed 10045 (100.0%) in 5.44 sec. Users per second: 1846\n",
      "MAP: 0.03111672473867613, RECALL: 0.11570187398736015\n",
      "EvaluatorHoldout: Processed 10068 (100.0%) in 5.95 sec. Users per second: 1692\n",
      "MAP: 0.03140869468566158, RECALL: 0.12233243423719445\n"
     ]
    },
    {
     "name": "stderr",
     "output_type": "stream",
     "text": [
      "[I 2024-01-10 15:03:40,321] Trial 94 finished with value: 0.03109755769038385 and parameters: {'w_slim': 0.7631263393155739, 'w_knn': 0.09767916526268346, 'w_p3': 0.09276813978053304, 'w_rp3': 0.7058274319279462}. Best is trial 69 with value: 0.031108521620214945.\n"
     ]
    },
    {
     "name": "stdout",
     "output_type": "stream",
     "text": [
      "EvaluatorHoldout: Processed 10057 (100.0%) in 5.43 sec. Users per second: 1852\n",
      "MAP: 0.030920124338887526, RECALL: 0.11895076132573089\n",
      "EvaluatorHoldout: Processed 10040 (100.0%) in 5.62 sec. Users per second: 1786\n",
      "MAP: 0.031162888130019925, RECALL: 0.11801170362164966\n",
      "EvaluatorHoldout: Processed 10017 (100.0%) in 5.24 sec. Users per second: 1910\n",
      "MAP: 0.030649689179189282, RECALL: 0.11567852704464049\n",
      "EvaluatorHoldout: Processed 10037 (100.0%) in 5.68 sec. Users per second: 1767\n",
      "MAP: 0.030903676239185142, RECALL: 0.11902606320854103\n",
      "EvaluatorHoldout: Processed 9989 (100.0%) in 5.70 sec. Users per second: 1754\n",
      "MAP: 0.031148469665838962, RECALL: 0.1237368949204792\n",
      "EvaluatorHoldout: Processed 10024 (100.0%) in 5.29 sec. Users per second: 1897\n",
      "MAP: 0.03140297809067783, RECALL: 0.11888100790615069\n",
      "EvaluatorHoldout: Processed 10030 (100.0%) in 5.10 sec. Users per second: 1966\n",
      "MAP: 0.03146821440440612, RECALL: 0.12358624108536777\n",
      "EvaluatorHoldout: Processed 10052 (100.0%) in 5.72 sec. Users per second: 1758\n",
      "MAP: 0.030763916522969736, RECALL: 0.11893220957073289\n",
      "EvaluatorHoldout: Processed 10045 (100.0%) in 5.73 sec. Users per second: 1755\n",
      "MAP: 0.031108507746885204, RECALL: 0.11564460570166855\n",
      "EvaluatorHoldout: Processed 10068 (100.0%) in 5.85 sec. Users per second: 1721\n",
      "MAP: 0.03140655447717453, RECALL: 0.12247159326714607\n"
     ]
    },
    {
     "name": "stderr",
     "output_type": "stream",
     "text": [
      "[I 2024-01-10 15:04:49,797] Trial 95 finished with value: 0.03109350187952343 and parameters: {'w_slim': 0.7643628853504931, 'w_knn': 0.09680705333306001, 'w_p3': 0.09298070392250049, 'w_rp3': 0.6935079928630664}. Best is trial 69 with value: 0.031108521620214945.\n"
     ]
    },
    {
     "name": "stdout",
     "output_type": "stream",
     "text": [
      "EvaluatorHoldout: Processed 10057 (100.0%) in 5.78 sec. Users per second: 1740\n",
      "MAP: 0.030925668136069017, RECALL: 0.11892598238580025\n",
      "EvaluatorHoldout: Processed 10040 (100.0%) in 5.51 sec. Users per second: 1823\n",
      "MAP: 0.031173800828432626, RECALL: 0.11804908158233439\n",
      "EvaluatorHoldout: Processed 10017 (100.0%) in 5.29 sec. Users per second: 1892\n",
      "MAP: 0.030653646737055208, RECALL: 0.11578121273926674\n",
      "EvaluatorHoldout: Processed 10037 (100.0%) in 5.45 sec. Users per second: 1842\n",
      "MAP: 0.030880907309621352, RECALL: 0.11902420891801149\n",
      "EvaluatorHoldout: Processed 9989 (100.0%) in 5.58 sec. Users per second: 1789\n",
      "MAP: 0.031156943272520603, RECALL: 0.12360444713185964\n",
      "EvaluatorHoldout: Processed 10024 (100.0%) in 5.59 sec. Users per second: 1794\n",
      "MAP: 0.03140290683312452, RECALL: 0.11887137194155661\n",
      "EvaluatorHoldout: Processed 10030 (100.0%) in 5.39 sec. Users per second: 1860\n",
      "MAP: 0.03145922549810914, RECALL: 0.12360980183929288\n",
      "EvaluatorHoldout: Processed 10052 (100.0%) in 5.04 sec. Users per second: 1994\n",
      "MAP: 0.030787208105155076, RECALL: 0.1189182498921608\n",
      "EvaluatorHoldout: Processed 10045 (100.0%) in 5.50 sec. Users per second: 1826\n",
      "MAP: 0.031134707309172404, RECALL: 0.11569343831763937\n",
      "EvaluatorHoldout: Processed 10068 (100.0%) in 5.91 sec. Users per second: 1702\n",
      "MAP: 0.03140324365741554, RECALL: 0.12233838582985637\n"
     ]
    },
    {
     "name": "stderr",
     "output_type": "stream",
     "text": [
      "[I 2024-01-10 15:05:58,978] Trial 96 finished with value: 0.03109782576866755 and parameters: {'w_slim': 0.7815717401208438, 'w_knn': 0.09746756574463278, 'w_p3': 0.09661639206158136, 'w_rp3': 0.711078547606376}. Best is trial 69 with value: 0.031108521620214945.\n"
     ]
    },
    {
     "name": "stdout",
     "output_type": "stream",
     "text": [
      "EvaluatorHoldout: Processed 10057 (100.0%) in 5.49 sec. Users per second: 1833\n",
      "MAP: 0.0309279290583359, RECALL: 0.1188427178924163\n",
      "EvaluatorHoldout: Processed 10040 (100.0%) in 5.44 sec. Users per second: 1844\n",
      "MAP: 0.031182701732751842, RECALL: 0.1182091624413108\n",
      "EvaluatorHoldout: Processed 10017 (100.0%) in 5.15 sec. Users per second: 1945\n",
      "MAP: 0.030633894601400098, RECALL: 0.11587518653396575\n",
      "EvaluatorHoldout: Processed 10037 (100.0%) in 5.62 sec. Users per second: 1786\n",
      "MAP: 0.030887260785886134, RECALL: 0.11906592626904479\n",
      "EvaluatorHoldout: Processed 9989 (100.0%) in 5.77 sec. Users per second: 1731\n",
      "MAP: 0.03116198453219195, RECALL: 0.12361482519079318\n",
      "EvaluatorHoldout: Processed 10024 (100.0%) in 5.71 sec. Users per second: 1754\n",
      "MAP: 0.0314115923371213, RECALL: 0.11901873956546614\n",
      "EvaluatorHoldout: Processed 10030 (100.0%) in 5.29 sec. Users per second: 1896\n",
      "MAP: 0.03143771463387641, RECALL: 0.1235737530868932\n",
      "EvaluatorHoldout: Processed 10052 (100.0%) in 5.20 sec. Users per second: 1933\n",
      "MAP: 0.030811514252869505, RECALL: 0.1189268035971182\n",
      "EvaluatorHoldout: Processed 10045 (100.0%) in 5.60 sec. Users per second: 1792\n",
      "MAP: 0.03113539864261633, RECALL: 0.11572465123748173\n",
      "EvaluatorHoldout: Processed 10068 (100.0%) in 5.58 sec. Users per second: 1803\n",
      "MAP: 0.03142392445655285, RECALL: 0.1224046194240995\n"
     ]
    },
    {
     "name": "stderr",
     "output_type": "stream",
     "text": [
      "[I 2024-01-10 15:07:07,986] Trial 97 finished with value: 0.03110139150336023 and parameters: {'w_slim': 0.7812047734609713, 'w_knn': 0.09446813435108922, 'w_p3': 0.09999953887363229, 'w_rp3': 0.709467702578705}. Best is trial 69 with value: 0.031108521620214945.\n"
     ]
    },
    {
     "name": "stdout",
     "output_type": "stream",
     "text": [
      "EvaluatorHoldout: Processed 10057 (100.0%) in 4.87 sec. Users per second: 2064\n",
      "MAP: 0.030909995564962423, RECALL: 0.11880384419505197\n",
      "EvaluatorHoldout: Processed 10040 (100.0%) in 5.33 sec. Users per second: 1883\n",
      "MAP: 0.03116593151204734, RECALL: 0.11829262763412766\n",
      "EvaluatorHoldout: Processed 10017 (100.0%) in 5.57 sec. Users per second: 1797\n",
      "MAP: 0.03062691440424322, RECALL: 0.11578992017057357\n",
      "EvaluatorHoldout: Processed 10037 (100.0%) in 4.91 sec. Users per second: 2045\n",
      "MAP: 0.030876301335851244, RECALL: 0.11913218787752142\n",
      "EvaluatorHoldout: Processed 9989 (100.0%) in 5.68 sec. Users per second: 1760\n",
      "MAP: 0.031139388247707574, RECALL: 0.12347167597812443\n",
      "EvaluatorHoldout: Processed 10024 (100.0%) in 5.31 sec. Users per second: 1889\n",
      "MAP: 0.031416718922205975, RECALL: 0.11914323794478948\n",
      "EvaluatorHoldout: Processed 10030 (100.0%) in 5.51 sec. Users per second: 1820\n",
      "MAP: 0.0314275150738264, RECALL: 0.12353258686931987\n",
      "EvaluatorHoldout: Processed 10052 (100.0%) in 5.54 sec. Users per second: 1813\n",
      "MAP: 0.030782743227281927, RECALL: 0.11902393125490147\n",
      "EvaluatorHoldout: Processed 10045 (100.0%) in 5.12 sec. Users per second: 1960\n",
      "MAP: 0.031116712887245657, RECALL: 0.11550360142848964\n",
      "EvaluatorHoldout: Processed 10068 (100.0%) in 5.16 sec. Users per second: 1953\n",
      "MAP: 0.03142242670475714, RECALL: 0.12237998637988669\n"
     ]
    },
    {
     "name": "stderr",
     "output_type": "stream",
     "text": [
      "[I 2024-01-10 15:08:15,125] Trial 98 finished with value: 0.031088464788012894 and parameters: {'w_slim': 0.778431985060125, 'w_knn': 0.09152499484379158, 'w_p3': 0.09844750816052802, 'w_rp3': 0.7109899718570335}. Best is trial 69 with value: 0.031108521620214945.\n"
     ]
    },
    {
     "name": "stdout",
     "output_type": "stream",
     "text": [
      "EvaluatorHoldout: Processed 10057 (100.0%) in 6.61 sec. Users per second: 1522\n",
      "MAP: 0.030910106046329766, RECALL: 0.11865022168247825\n",
      "EvaluatorHoldout: Processed 10040 (100.0%) in 6.67 sec. Users per second: 1506\n",
      "MAP: 0.030966329127933047, RECALL: 0.11760318387473191\n",
      "EvaluatorHoldout: Processed 10017 (100.0%) in 6.64 sec. Users per second: 1508\n",
      "MAP: 0.030554513675957424, RECALL: 0.11600624440447024\n",
      "EvaluatorHoldout: Processed 10037 (100.0%) in 6.06 sec. Users per second: 1657\n",
      "MAP: 0.030902142232470384, RECALL: 0.11946063946614789\n",
      "EvaluatorHoldout: Processed 9989 (100.0%) in 5.65 sec. Users per second: 1768\n",
      "MAP: 0.031102450791108568, RECALL: 0.12298827002887862\n",
      "EvaluatorHoldout: Processed 10024 (100.0%) in 5.24 sec. Users per second: 1912\n",
      "MAP: 0.031356031239311584, RECALL: 0.1192843140626761\n",
      "EvaluatorHoldout: Processed 10030 (100.0%) in 5.62 sec. Users per second: 1784\n",
      "MAP: 0.031262229185459754, RECALL: 0.12353425356050014\n",
      "EvaluatorHoldout: Processed 10052 (100.0%) in 5.93 sec. Users per second: 1695\n",
      "MAP: 0.030708071993886057, RECALL: 0.11832019913127977\n",
      "EvaluatorHoldout: Processed 10045 (100.0%) in 5.92 sec. Users per second: 1698\n",
      "MAP: 0.031067493896513473, RECALL: 0.11574055826552485\n",
      "EvaluatorHoldout: Processed 10068 (100.0%) in 5.85 sec. Users per second: 1721\n",
      "MAP: 0.031247907088938345, RECALL: 0.12150735318961627\n"
     ]
    },
    {
     "name": "stderr",
     "output_type": "stream",
     "text": [
      "[I 2024-01-10 15:09:29,442] Trial 99 finished with value: 0.031007727527790834 and parameters: {'w_slim': 0.786044571392221, 'w_knn': 0.08800214267049414, 'w_p3': 0.0953375295506465, 'w_rp3': 0.40552006081541836}. Best is trial 69 with value: 0.031108521620214945.\n"
     ]
    },
    {
     "name": "stdout",
     "output_type": "stream",
     "text": [
      "EvaluatorHoldout: Processed 10057 (100.0%) in 5.02 sec. Users per second: 2002\n",
      "MAP: 0.030914631836626637, RECALL: 0.11852130765315447\n",
      "EvaluatorHoldout: Processed 10040 (100.0%) in 5.30 sec. Users per second: 1893\n",
      "MAP: 0.031039686492127037, RECALL: 0.1179286800311495\n",
      "EvaluatorHoldout: Processed 10017 (100.0%) in 5.62 sec. Users per second: 1783\n",
      "MAP: 0.030536674954165437, RECALL: 0.11537517038227464\n",
      "EvaluatorHoldout: Processed 10037 (100.0%) in 5.73 sec. Users per second: 1752\n",
      "MAP: 0.030997918811508797, RECALL: 0.11948900899752633\n",
      "EvaluatorHoldout: Processed 9989 (100.0%) in 5.37 sec. Users per second: 1861\n",
      "MAP: 0.031132555334677868, RECALL: 0.12309238235371407\n",
      "EvaluatorHoldout: Processed 10024 (100.0%) in 4.99 sec. Users per second: 2008\n",
      "MAP: 0.03129714874776751, RECALL: 0.1184245791747957\n",
      "EvaluatorHoldout: Processed 10030 (100.0%) in 5.38 sec. Users per second: 1865\n",
      "MAP: 0.031309824494769926, RECALL: 0.12278815248701071\n",
      "EvaluatorHoldout: Processed 10052 (100.0%) in 5.54 sec. Users per second: 1816\n",
      "MAP: 0.030695352421377418, RECALL: 0.1186575061125339\n",
      "EvaluatorHoldout: Processed 10045 (100.0%) in 5.32 sec. Users per second: 1888\n",
      "MAP: 0.03115138227184035, RECALL: 0.11529649214061792\n",
      "EvaluatorHoldout: Processed 10068 (100.0%) in 5.62 sec. Users per second: 1791\n",
      "MAP: 0.03133502894602445, RECALL: 0.12185853903192571\n"
     ]
    },
    {
     "name": "stderr",
     "output_type": "stream",
     "text": [
      "[I 2024-01-10 15:10:37,527] Trial 100 finished with value: 0.031041020431088546 and parameters: {'w_slim': 0.7826466387276834, 'w_knn': 0.08222228143630868, 'w_p3': 0.016731067214707684, 'w_rp3': 0.7215903657618218}. Best is trial 69 with value: 0.031108521620214945.\n"
     ]
    },
    {
     "name": "stdout",
     "output_type": "stream",
     "text": [
      "EvaluatorHoldout: Processed 10057 (100.0%) in 5.45 sec. Users per second: 1844\n",
      "MAP: 0.030880812700938173, RECALL: 0.1183801513695748\n",
      "EvaluatorHoldout: Processed 10040 (100.0%) in 6.48 sec. Users per second: 1549\n",
      "MAP: 0.030975826851325154, RECALL: 0.11768461234141712\n",
      "EvaluatorHoldout: Processed 10017 (100.0%) in 6.33 sec. Users per second: 1581\n",
      "MAP: 0.030572019630121034, RECALL: 0.11584452568169663\n",
      "EvaluatorHoldout: Processed 10037 (100.0%) in 5.75 sec. Users per second: 1746\n",
      "MAP: 0.03091078485793075, RECALL: 0.11942371249113518\n",
      "EvaluatorHoldout: Processed 9989 (100.0%) in 5.94 sec. Users per second: 1682\n",
      "MAP: 0.0310922649835456, RECALL: 0.12285413359968356\n",
      "EvaluatorHoldout: Processed 10024 (100.0%) in 5.35 sec. Users per second: 1874\n",
      "MAP: 0.03129188756508214, RECALL: 0.11935103759109139\n",
      "EvaluatorHoldout: Processed 10030 (100.0%) in 5.91 sec. Users per second: 1697\n",
      "MAP: 0.03126057146022277, RECALL: 0.12313803263006455\n",
      "EvaluatorHoldout: Processed 10052 (100.0%) in 6.07 sec. Users per second: 1657\n",
      "MAP: 0.03078379332234317, RECALL: 0.11872327829116495\n",
      "EvaluatorHoldout: Processed 10045 (100.0%) in 5.89 sec. Users per second: 1704\n",
      "MAP: 0.03104955478126222, RECALL: 0.11583263985923693\n",
      "EvaluatorHoldout: Processed 10068 (100.0%) in 5.97 sec. Users per second: 1688\n",
      "MAP: 0.03125875790655312, RECALL: 0.12180319360667786\n"
     ]
    },
    {
     "name": "stderr",
     "output_type": "stream",
     "text": [
      "[I 2024-01-10 15:11:50,788] Trial 101 finished with value: 0.031007627405932416 and parameters: {'w_slim': 0.7618686277047253, 'w_knn': 0.09379982292979692, 'w_p3': 0.09082602403259998, 'w_rp3': 0.4612753158038113}. Best is trial 69 with value: 0.031108521620214945.\n"
     ]
    },
    {
     "name": "stdout",
     "output_type": "stream",
     "text": [
      "EvaluatorHoldout: Processed 10057 (100.0%) in 5.21 sec. Users per second: 1929\n",
      "MAP: 0.030912090765178334, RECALL: 0.11890950669492037\n",
      "EvaluatorHoldout: Processed 10040 (100.0%) in 5.22 sec. Users per second: 1924\n",
      "MAP: 0.031180097072029664, RECALL: 0.11815355615715337\n",
      "EvaluatorHoldout: Processed 10017 (100.0%) in 5.31 sec. Users per second: 1888\n",
      "MAP: 0.030627152095406313, RECALL: 0.11574930265296553\n",
      "EvaluatorHoldout: Processed 10037 (100.0%) in 5.64 sec. Users per second: 1779\n",
      "MAP: 0.030885193039721565, RECALL: 0.11904515830322487\n",
      "EvaluatorHoldout: Processed 9989 (100.0%) in 5.37 sec. Users per second: 1861\n",
      "MAP: 0.031155695868630283, RECALL: 0.12366997565737838\n",
      "EvaluatorHoldout: Processed 10024 (100.0%) in 5.70 sec. Users per second: 1760\n",
      "MAP: 0.03137297866073826, RECALL: 0.11884542101536849\n",
      "EvaluatorHoldout: Processed 10030 (100.0%) in 5.29 sec. Users per second: 1896\n",
      "MAP: 0.03146608586937629, RECALL: 0.12363230957607159\n",
      "EvaluatorHoldout: Processed 10052 (100.0%) in 5.12 sec. Users per second: 1964\n",
      "MAP: 0.030776359754672834, RECALL: 0.11893731468781506\n",
      "EvaluatorHoldout: Processed 10045 (100.0%) in 5.25 sec. Users per second: 1915\n",
      "MAP: 0.03112964674836271, RECALL: 0.11566746970630493\n",
      "EvaluatorHoldout: Processed 10068 (100.0%) in 5.58 sec. Users per second: 1805\n",
      "MAP: 0.031414732990269596, RECALL: 0.12243251376963393\n"
     ]
    },
    {
     "name": "stderr",
     "output_type": "stream",
     "text": [
      "[I 2024-01-10 15:12:58,600] Trial 102 finished with value: 0.031092003286438585 and parameters: {'w_slim': 0.7730116825408561, 'w_knn': 0.09683508670149286, 'w_p3': 0.09681390207916019, 'w_rp3': 0.7100279229071882}. Best is trial 69 with value: 0.031108521620214945.\n"
     ]
    },
    {
     "name": "stdout",
     "output_type": "stream",
     "text": [
      "EvaluatorHoldout: Processed 10057 (100.0%) in 5.03 sec. Users per second: 1998\n",
      "MAP: 0.030921185749166455, RECALL: 0.11889951712086033\n",
      "EvaluatorHoldout: Processed 10040 (100.0%) in 5.92 sec. Users per second: 1696\n",
      "MAP: 0.031152623632454614, RECALL: 0.11833570918609261\n",
      "EvaluatorHoldout: Processed 10017 (100.0%) in 5.06 sec. Users per second: 1980\n",
      "MAP: 0.030624838568085316, RECALL: 0.11565944988165414\n",
      "EvaluatorHoldout: Processed 10037 (100.0%) in 5.33 sec. Users per second: 1884\n",
      "MAP: 0.030944169272106168, RECALL: 0.11945134067829585\n",
      "EvaluatorHoldout: Processed 9989 (100.0%) in 5.51 sec. Users per second: 1814\n",
      "MAP: 0.031177882972857684, RECALL: 0.12380273520981445\n",
      "EvaluatorHoldout: Processed 10024 (100.0%) in 5.40 sec. Users per second: 1857\n",
      "MAP: 0.03139561481017009, RECALL: 0.11891201231397903\n",
      "EvaluatorHoldout: Processed 10030 (100.0%) in 5.79 sec. Users per second: 1732\n",
      "MAP: 0.031462054313251046, RECALL: 0.1235241635991515\n",
      "EvaluatorHoldout: Processed 10052 (100.0%) in 5.37 sec. Users per second: 1871\n",
      "MAP: 0.03079828147600761, RECALL: 0.11899863599413081\n",
      "EvaluatorHoldout: Processed 10045 (100.0%) in 5.44 sec. Users per second: 1848\n",
      "MAP: 0.03112197887285016, RECALL: 0.1154317844691832\n",
      "EvaluatorHoldout: Processed 10068 (100.0%) in 5.55 sec. Users per second: 1814\n",
      "MAP: 0.031408635563880176, RECALL: 0.12215476817010454\n"
     ]
    },
    {
     "name": "stderr",
     "output_type": "stream",
     "text": [
      "[I 2024-01-10 15:14:07,140] Trial 103 finished with value: 0.031100726523082933 and parameters: {'w_slim': 0.75616491859115, 'w_knn': 0.09762562760788757, 'w_p3': 0.0841054119611498, 'w_rp3': 0.7407492292234846}. Best is trial 69 with value: 0.031108521620214945.\n"
     ]
    },
    {
     "name": "stdout",
     "output_type": "stream",
     "text": [
      "EvaluatorHoldout: Processed 10057 (100.0%) in 5.25 sec. Users per second: 1916\n",
      "MAP: 0.03088892124414667, RECALL: 0.11874118862097019\n",
      "EvaluatorHoldout: Processed 10040 (100.0%) in 5.18 sec. Users per second: 1940\n",
      "MAP: 0.031171211977487165, RECALL: 0.11841065236932848\n",
      "EvaluatorHoldout: Processed 10017 (100.0%) in 5.41 sec. Users per second: 1853\n",
      "MAP: 0.030612078514145265, RECALL: 0.11564425610866415\n",
      "EvaluatorHoldout: Processed 10037 (100.0%) in 5.63 sec. Users per second: 1783\n",
      "MAP: 0.03093664947630302, RECALL: 0.11929434153460065\n",
      "EvaluatorHoldout: Processed 9989 (100.0%) in 5.65 sec. Users per second: 1769\n",
      "MAP: 0.031187119323319374, RECALL: 0.12377304243734377\n",
      "EvaluatorHoldout: Processed 10024 (100.0%) in 5.94 sec. Users per second: 1688\n",
      "MAP: 0.03141200404742924, RECALL: 0.11893615522651604\n",
      "EvaluatorHoldout: Processed 10030 (100.0%) in 6.08 sec. Users per second: 1650\n",
      "MAP: 0.03147761081833895, RECALL: 0.1235449912147875\n",
      "EvaluatorHoldout: Processed 10052 (100.0%) in 6.27 sec. Users per second: 1604\n",
      "MAP: 0.03079772484667064, RECALL: 0.11901981749441422\n",
      "EvaluatorHoldout: Processed 10045 (100.0%) in 5.82 sec. Users per second: 1725\n",
      "MAP: 0.031137899294445045, RECALL: 0.11555328262701783\n",
      "EvaluatorHoldout: Processed 10068 (100.0%) in 6.04 sec. Users per second: 1667\n",
      "MAP: 0.03142876061827222, RECALL: 0.12219707651886322\n"
     ]
    },
    {
     "name": "stderr",
     "output_type": "stream",
     "text": [
      "[I 2024-01-10 15:15:18,555] Trial 104 finished with value: 0.031104998016055756 and parameters: {'w_slim': 0.762823201718451, 'w_knn': 0.09799546387086269, 'w_p3': 0.08378929222659455, 'w_rp3': 0.7385401750302034}. Best is trial 69 with value: 0.031108521620214945.\n"
     ]
    },
    {
     "name": "stdout",
     "output_type": "stream",
     "text": [
      "EvaluatorHoldout: Processed 10057 (100.0%) in 6.15 sec. Users per second: 1636\n",
      "MAP: 0.030850599992739973, RECALL: 0.11869230170752376\n",
      "EvaluatorHoldout: Processed 10040 (100.0%) in 6.11 sec. Users per second: 1642\n",
      "MAP: 0.031111166445330123, RECALL: 0.11821216936506102\n",
      "EvaluatorHoldout: Processed 10017 (100.0%) in 6.22 sec. Users per second: 1609\n",
      "MAP: 0.03056285663578286, RECALL: 0.11567501933650486\n",
      "EvaluatorHoldout: Processed 10037 (100.0%) in 5.58 sec. Users per second: 1798\n",
      "MAP: 0.030900521245993247, RECALL: 0.1192710001113664\n",
      "EvaluatorHoldout: Processed 9989 (100.0%) in 5.68 sec. Users per second: 1758\n",
      "MAP: 0.031213914671217917, RECALL: 0.12334312197317263\n",
      "EvaluatorHoldout: Processed 10024 (100.0%) in 5.26 sec. Users per second: 1907\n",
      "MAP: 0.03128718060781128, RECALL: 0.11853412923869\n",
      "EvaluatorHoldout: Processed 10030 (100.0%) in 5.99 sec. Users per second: 1674\n",
      "MAP: 0.031382815838200004, RECALL: 0.12281227757871023\n",
      "EvaluatorHoldout: Processed 10052 (100.0%) in 5.77 sec. Users per second: 1741\n",
      "MAP: 0.030665708948389363, RECALL: 0.11891577115244502\n",
      "EvaluatorHoldout: Processed 10045 (100.0%) in 5.55 sec. Users per second: 1809\n",
      "MAP: 0.031157770192862415, RECALL: 0.11507557037031108\n",
      "EvaluatorHoldout: Processed 10068 (100.0%) in 5.44 sec. Users per second: 1852\n",
      "MAP: 0.03148500908110587, RECALL: 0.12228315353009836\n"
     ]
    },
    {
     "name": "stderr",
     "output_type": "stream",
     "text": [
      "[I 2024-01-10 15:16:30,456] Trial 105 finished with value: 0.0310617543659433 and parameters: {'w_slim': 0.7725160732693245, 'w_knn': 0.05712529896081026, 'w_p3': 0.08491797837448631, 'w_rp3': 0.7405320769497343}. Best is trial 69 with value: 0.031108521620214945.\n"
     ]
    },
    {
     "name": "stdout",
     "output_type": "stream",
     "text": [
      "EvaluatorHoldout: Processed 10057 (100.0%) in 5.64 sec. Users per second: 1783\n",
      "MAP: 0.030912607660146862, RECALL: 0.11881211154538701\n",
      "EvaluatorHoldout: Processed 10040 (100.0%) in 5.70 sec. Users per second: 1763\n",
      "MAP: 0.03117793508505688, RECALL: 0.11846068249564257\n",
      "EvaluatorHoldout: Processed 10017 (100.0%) in 5.26 sec. Users per second: 1906\n",
      "MAP: 0.030591985687822995, RECALL: 0.11581302218144293\n",
      "EvaluatorHoldout: Processed 10037 (100.0%) in 5.72 sec. Users per second: 1754\n",
      "MAP: 0.030926733783414345, RECALL: 0.11922971667279188\n",
      "EvaluatorHoldout: Processed 9989 (100.0%) in 5.94 sec. Users per second: 1681\n",
      "MAP: 0.03116033192066852, RECALL: 0.1236131632942808\n",
      "EvaluatorHoldout: Processed 10024 (100.0%) in 5.02 sec. Users per second: 1996\n",
      "MAP: 0.03143319129327731, RECALL: 0.11923382326405461\n",
      "EvaluatorHoldout: Processed 10030 (100.0%) in 5.95 sec. Users per second: 1686\n",
      "MAP: 0.031446893446644496, RECALL: 0.12333574894612785\n",
      "EvaluatorHoldout: Processed 10052 (100.0%) in 5.51 sec. Users per second: 1825\n",
      "MAP: 0.030827111717482127, RECALL: 0.1190818336868514\n",
      "EvaluatorHoldout: Processed 10045 (100.0%) in 5.69 sec. Users per second: 1767\n",
      "MAP: 0.031149241113402577, RECALL: 0.11556373224254103\n",
      "EvaluatorHoldout: Processed 10068 (100.0%) in 5.52 sec. Users per second: 1823\n",
      "MAP: 0.03147121399877686, RECALL: 0.12238400129096075\n"
     ]
    },
    {
     "name": "stderr",
     "output_type": "stream",
     "text": [
      "[I 2024-01-10 15:17:40,568] Trial 106 finished with value: 0.031109724570669295 and parameters: {'w_slim': 0.7646701220195375, 'w_knn': 0.09151322251387045, 'w_p3': 0.09946591265287467, 'w_rp3': 0.7400352121969809}. Best is trial 106 with value: 0.031109724570669295.\n"
     ]
    },
    {
     "name": "stdout",
     "output_type": "stream",
     "text": [
      "EvaluatorHoldout: Processed 10057 (100.0%) in 5.11 sec. Users per second: 1966\n",
      "MAP: 0.030926315241220453, RECALL: 0.11876692517515954\n",
      "EvaluatorHoldout: Processed 10040 (100.0%) in 5.20 sec. Users per second: 1929\n",
      "MAP: 0.031175045848352914, RECALL: 0.11838307849839505\n",
      "EvaluatorHoldout: Processed 10017 (100.0%) in 5.46 sec. Users per second: 1833\n",
      "MAP: 0.03062788101497323, RECALL: 0.115686674343895\n",
      "EvaluatorHoldout: Processed 10037 (100.0%) in 5.20 sec. Users per second: 1929\n",
      "MAP: 0.030899010961031745, RECALL: 0.11907093455414676\n",
      "EvaluatorHoldout: Processed 9989 (100.0%) in 5.25 sec. Users per second: 1903\n",
      "MAP: 0.031157245191933542, RECALL: 0.12347045995405985\n",
      "EvaluatorHoldout: Processed 10024 (100.0%) in 5.27 sec. Users per second: 1904\n",
      "MAP: 0.03143088334030097, RECALL: 0.11926479374178012\n",
      "EvaluatorHoldout: Processed 10030 (100.0%) in 5.63 sec. Users per second: 1782\n",
      "MAP: 0.03143900045894094, RECALL: 0.12347890752281404\n",
      "EvaluatorHoldout: Processed 10052 (100.0%) in 5.67 sec. Users per second: 1774\n",
      "MAP: 0.030812852531913727, RECALL: 0.11913133750155169\n",
      "EvaluatorHoldout: Processed 10045 (100.0%) in 5.52 sec. Users per second: 1821\n",
      "MAP: 0.031134324112920587, RECALL: 0.11568310388442048\n",
      "EvaluatorHoldout: Processed 10068 (100.0%) in 5.35 sec. Users per second: 1881\n",
      "MAP: 0.03143625331870293, RECALL: 0.1223647946525765\n"
     ]
    },
    {
     "name": "stderr",
     "output_type": "stream",
     "text": [
      "[I 2024-01-10 15:18:48,328] Trial 107 finished with value: 0.031103881202029105 and parameters: {'w_slim': 0.7760751129052699, 'w_knn': 0.0909404835664718, 'w_p3': 0.09814519864332873, 'w_rp3': 0.724263981584935}. Best is trial 106 with value: 0.031109724570669295.\n"
     ]
    },
    {
     "name": "stdout",
     "output_type": "stream",
     "text": [
      "EvaluatorHoldout: Processed 10057 (100.0%) in 4.87 sec. Users per second: 2065\n",
      "MAP: 0.03092212878655177, RECALL: 0.11859557861821093\n",
      "EvaluatorHoldout: Processed 10040 (100.0%) in 4.81 sec. Users per second: 2087\n",
      "MAP: 0.031171753462341394, RECALL: 0.11841312674806477\n",
      "EvaluatorHoldout: Processed 10017 (100.0%) in 5.21 sec. Users per second: 1921\n",
      "MAP: 0.030620104552419865, RECALL: 0.11581115014017405\n",
      "EvaluatorHoldout: Processed 10037 (100.0%) in 5.73 sec. Users per second: 1751\n",
      "MAP: 0.030921238243894696, RECALL: 0.11921350299072804\n",
      "EvaluatorHoldout: Processed 9989 (100.0%) in 5.88 sec. Users per second: 1698\n",
      "MAP: 0.03115856410305323, RECALL: 0.1235109845726796\n",
      "EvaluatorHoldout: Processed 10024 (100.0%) in 5.73 sec. Users per second: 1748\n",
      "MAP: 0.031430812082747665, RECALL: 0.1193067167178349\n",
      "EvaluatorHoldout: Processed 10030 (100.0%) in 5.59 sec. Users per second: 1794\n",
      "MAP: 0.031449781607558555, RECALL: 0.12330770736045579\n",
      "EvaluatorHoldout: Processed 10052 (100.0%) in 5.81 sec. Users per second: 1731\n",
      "MAP: 0.030792596750864067, RECALL: 0.11904820805859341\n",
      "EvaluatorHoldout: Processed 10045 (100.0%) in 5.56 sec. Users per second: 1806\n",
      "MAP: 0.031134098935741723, RECALL: 0.11569707609718237\n",
      "EvaluatorHoldout: Processed 10068 (100.0%) in 5.97 sec. Users per second: 1685\n",
      "MAP: 0.03145040707317253, RECALL: 0.12237811837711285\n"
     ]
    },
    {
     "name": "stderr",
     "output_type": "stream",
     "text": [
      "[I 2024-01-10 15:19:57,629] Trial 108 finished with value: 0.03110514855983455 and parameters: {'w_slim': 0.7799482493160718, 'w_knn': 0.09113831938911278, 'w_p3': 0.09999039332219624, 'w_rp3': 0.7415110738700725}. Best is trial 106 with value: 0.031109724570669295.\n"
     ]
    },
    {
     "name": "stdout",
     "output_type": "stream",
     "text": [
      "EvaluatorHoldout: Processed 10057 (100.0%) in 4.82 sec. Users per second: 2087\n",
      "MAP: 0.03088111257893518, RECALL: 0.1183446724080725\n",
      "EvaluatorHoldout: Processed 10040 (100.0%) in 5.86 sec. Users per second: 1712\n",
      "MAP: 0.031000960443938828, RECALL: 0.11769375399575097\n",
      "EvaluatorHoldout: Processed 10017 (100.0%) in 6.04 sec. Users per second: 1659\n",
      "MAP: 0.03051939876812617, RECALL: 0.11578259663580763\n",
      "EvaluatorHoldout: Processed 10037 (100.0%) in 5.91 sec. Users per second: 1698\n",
      "MAP: 0.030809532507500348, RECALL: 0.11890300581763463\n",
      "EvaluatorHoldout: Processed 9989 (100.0%) in 5.73 sec. Users per second: 1743\n",
      "MAP: 0.031160689456815386, RECALL: 0.12271585238842214\n",
      "EvaluatorHoldout: Processed 10024 (100.0%) in 5.39 sec. Users per second: 1859\n",
      "MAP: 0.03134126509076654, RECALL: 0.11817115304471965\n",
      "EvaluatorHoldout: Processed 10030 (100.0%) in 5.90 sec. Users per second: 1700\n",
      "MAP: 0.0313300693158622, RECALL: 0.12276389935198563\n",
      "EvaluatorHoldout: Processed 10052 (100.0%) in 5.95 sec. Users per second: 1690\n",
      "MAP: 0.030653996045958223, RECALL: 0.1187341052804951\n",
      "EvaluatorHoldout: Processed 10045 (100.0%) in 5.79 sec. Users per second: 1736\n",
      "MAP: 0.0311156304565963, RECALL: 0.11474932061240134\n",
      "EvaluatorHoldout: Processed 10068 (100.0%) in 6.10 sec. Users per second: 1650\n",
      "MAP: 0.031342710836155675, RECALL: 0.12147157655745086\n"
     ]
    },
    {
     "name": "stderr",
     "output_type": "stream",
     "text": [
      "[I 2024-01-10 15:21:09,281] Trial 109 finished with value: 0.031015536550065486 and parameters: {'w_slim': 0.902797454432281, 'w_knn': 0.03726197805192282, 'w_p3': 0.09898893215621878, 'w_rp3': 0.7409014820308014}. Best is trial 106 with value: 0.031109724570669295.\n"
     ]
    },
    {
     "name": "stdout",
     "output_type": "stream",
     "text": [
      "EvaluatorHoldout: Processed 10057 (100.0%) in 5.39 sec. Users per second: 1864\n",
      "MAP: 0.03090064805213476, RECALL: 0.11875140524208405\n",
      "EvaluatorHoldout: Processed 10040 (100.0%) in 5.39 sec. Users per second: 1864\n",
      "MAP: 0.03116151267944126, RECALL: 0.11842762281269854\n",
      "EvaluatorHoldout: Processed 10017 (100.0%) in 5.52 sec. Users per second: 1816\n",
      "MAP: 0.030595844207704292, RECALL: 0.11579340534161234\n",
      "EvaluatorHoldout: Processed 10037 (100.0%) in 5.12 sec. Users per second: 1962\n",
      "MAP: 0.030877665336667304, RECALL: 0.11897672925243648\n",
      "EvaluatorHoldout: Processed 9989 (100.0%) in 4.95 sec. Users per second: 2017\n",
      "MAP: 0.031154277641914214, RECALL: 0.12359024123582374\n",
      "EvaluatorHoldout: Processed 10024 (100.0%) in 4.89 sec. Users per second: 2049\n",
      "MAP: 0.031418575577344766, RECALL: 0.11905067557593822\n",
      "EvaluatorHoldout: Processed 10030 (100.0%) in 5.31 sec. Users per second: 1888\n",
      "MAP: 0.0314396216113567, RECALL: 0.1233068293742602\n",
      "EvaluatorHoldout: Processed 10052 (100.0%) in 5.68 sec. Users per second: 1769\n",
      "MAP: 0.030774938573386937, RECALL: 0.11919073707649364\n",
      "EvaluatorHoldout: Processed 10045 (100.0%) in 5.84 sec. Users per second: 1721\n",
      "MAP: 0.031126079467791935, RECALL: 0.11558440425519392\n",
      "EvaluatorHoldout: Processed 10068 (100.0%) in 5.83 sec. Users per second: 1727\n",
      "MAP: 0.03144796731432635, RECALL: 0.12246920393004081\n"
     ]
    },
    {
     "name": "stderr",
     "output_type": "stream",
     "text": [
      "[I 2024-01-10 15:22:17,331] Trial 110 finished with value: 0.031089713046206852 and parameters: {'w_slim': 0.7748491735886712, 'w_knn': 0.08487662366896846, 'w_p3': 0.09988633074684374, 'w_rp3': 0.7252052763378337}. Best is trial 106 with value: 0.031109724570669295.\n"
     ]
    },
    {
     "name": "stdout",
     "output_type": "stream",
     "text": [
      "EvaluatorHoldout: Processed 10057 (100.0%) in 5.20 sec. Users per second: 1934\n",
      "MAP: 0.030888171549154176, RECALL: 0.11862440858259247\n",
      "EvaluatorHoldout: Processed 10040 (100.0%) in 5.33 sec. Users per second: 1884\n",
      "MAP: 0.031178421235692436, RECALL: 0.11836563548302925\n",
      "EvaluatorHoldout: Processed 10017 (100.0%) in 4.97 sec. Users per second: 2016\n",
      "MAP: 0.0305949845579977, RECALL: 0.11575944250532348\n",
      "EvaluatorHoldout: Processed 10037 (100.0%) in 5.22 sec. Users per second: 1922\n",
      "MAP: 0.030921768029718865, RECALL: 0.11938736551069254\n",
      "EvaluatorHoldout: Processed 9989 (100.0%) in 5.69 sec. Users per second: 1755\n",
      "MAP: 0.031161102609696296, RECALL: 0.12352070801261984\n",
      "EvaluatorHoldout: Processed 10024 (100.0%) in 5.72 sec. Users per second: 1752\n",
      "MAP: 0.03144296149558541, RECALL: 0.11919721474851772\n",
      "EvaluatorHoldout: Processed 10030 (100.0%) in 5.41 sec. Users per second: 1855\n",
      "MAP: 0.03147179493266266, RECALL: 0.12348505373572369\n",
      "EvaluatorHoldout: Processed 10052 (100.0%) in 5.51 sec. Users per second: 1823\n",
      "MAP: 0.030781041757464683, RECALL: 0.1190185993200866\n",
      "EvaluatorHoldout: Processed 10045 (100.0%) in 5.70 sec. Users per second: 1762\n",
      "MAP: 0.031159267423578208, RECALL: 0.11556429185929835\n",
      "EvaluatorHoldout: Processed 10068 (100.0%) in 5.94 sec. Users per second: 1696\n",
      "MAP: 0.03147743755163329, RECALL: 0.12254093041608094\n"
     ]
    },
    {
     "name": "stderr",
     "output_type": "stream",
     "text": [
      "[I 2024-01-10 15:23:26,112] Trial 111 finished with value: 0.031107695114318372 and parameters: {'w_slim': 0.7554075133768164, 'w_knn': 0.08734887372964903, 'w_p3': 0.08898928625954794, 'w_rp3': 0.7402819974824425}. Best is trial 106 with value: 0.031109724570669295.\n"
     ]
    },
    {
     "name": "stdout",
     "output_type": "stream",
     "text": [
      "EvaluatorHoldout: Processed 10057 (100.0%) in 4.92 sec. Users per second: 2043\n",
      "MAP: 0.030885981650623423, RECALL: 0.11862440858259247\n",
      "EvaluatorHoldout: Processed 10040 (100.0%) in 5.17 sec. Users per second: 1941\n",
      "MAP: 0.03118151204705019, RECALL: 0.11839592050540473\n",
      "EvaluatorHoldout: Processed 10017 (100.0%) in 4.89 sec. Users per second: 2047\n",
      "MAP: 0.03058958896859493, RECALL: 0.11572029337257463\n",
      "EvaluatorHoldout: Processed 10037 (100.0%) in 5.88 sec. Users per second: 1708\n",
      "MAP: 0.03092467394450084, RECALL: 0.11939790389568629\n",
      "EvaluatorHoldout: Processed 9989 (100.0%) in 5.42 sec. Users per second: 1843\n",
      "MAP: 0.031153256677583667, RECALL: 0.12345897343792099\n",
      "EvaluatorHoldout: Processed 10024 (100.0%) in 5.07 sec. Users per second: 1976\n",
      "MAP: 0.03143857519730446, RECALL: 0.11911418081105077\n",
      "EvaluatorHoldout: Processed 10030 (100.0%) in 5.54 sec. Users per second: 1809\n",
      "MAP: 0.031475937267562724, RECALL: 0.12343935749112414\n",
      "EvaluatorHoldout: Processed 10052 (100.0%) in 5.86 sec. Users per second: 1716\n",
      "MAP: 0.030780339062273336, RECALL: 0.11903281113294545\n",
      "EvaluatorHoldout: Processed 10045 (100.0%) in 5.96 sec. Users per second: 1686\n",
      "MAP: 0.031158358813909024, RECALL: 0.11556666214539191\n",
      "EvaluatorHoldout: Processed 10068 (100.0%) in 5.64 sec. Users per second: 1785\n",
      "MAP: 0.031470677961292055, RECALL: 0.12240912825805708\n"
     ]
    },
    {
     "name": "stderr",
     "output_type": "stream",
     "text": [
      "[I 2024-01-10 15:24:34,620] Trial 112 finished with value: 0.031105890159069467 and parameters: {'w_slim': 0.7573751340612892, 'w_knn': 0.08769497405903177, 'w_p3': 0.0893648718464608, 'w_rp3': 0.7395048967720382}. Best is trial 106 with value: 0.031109724570669295.\n"
     ]
    },
    {
     "name": "stdout",
     "output_type": "stream",
     "text": [
      "EvaluatorHoldout: Processed 10057 (100.0%) in 5.17 sec. Users per second: 1947\n",
      "MAP: 0.030884644036926246, RECALL: 0.11860941410693342\n",
      "EvaluatorHoldout: Processed 10040 (100.0%) in 5.57 sec. Users per second: 1803\n",
      "MAP: 0.03117796670461041, RECALL: 0.11852659627420571\n",
      "EvaluatorHoldout: Processed 10017 (100.0%) in 5.47 sec. Users per second: 1833\n",
      "MAP: 0.030576270340421558, RECALL: 0.1156727899426632\n",
      "EvaluatorHoldout: Processed 10037 (100.0%) in 5.68 sec. Users per second: 1767\n",
      "MAP: 0.0309245513821087, RECALL: 0.1193544353301972\n",
      "EvaluatorHoldout: Processed 9989 (100.0%) in 5.84 sec. Users per second: 1712\n",
      "MAP: 0.031155497237437595, RECALL: 0.12348844681321067\n",
      "EvaluatorHoldout: Processed 10024 (100.0%) in 5.73 sec. Users per second: 1749\n",
      "MAP: 0.031449988282091446, RECALL: 0.11898745454038194\n",
      "EvaluatorHoldout: Processed 10030 (100.0%) in 5.88 sec. Users per second: 1706\n",
      "MAP: 0.03146553197550241, RECALL: 0.12350202214337976\n",
      "EvaluatorHoldout: Processed 10052 (100.0%) in 6.02 sec. Users per second: 1669\n",
      "MAP: 0.030801451499820304, RECALL: 0.11905957930919776\n",
      "EvaluatorHoldout: Processed 10045 (100.0%) in 5.85 sec. Users per second: 1716\n",
      "MAP: 0.0311475463588457, RECALL: 0.11554967406100203\n",
      "EvaluatorHoldout: Processed 10068 (100.0%) in 5.76 sec. Users per second: 1748\n",
      "MAP: 0.031473645874718854, RECALL: 0.12245358251372715\n"
     ]
    },
    {
     "name": "stderr",
     "output_type": "stream",
     "text": [
      "[I 2024-01-10 15:25:45,689] Trial 113 finished with value: 0.031105709369248318 and parameters: {'w_slim': 0.7559795556056331, 'w_knn': 0.09100374108913593, 'w_p3': 0.08869125869006507, 'w_rp3': 0.7380502854118537}. Best is trial 106 with value: 0.031109724570669295.\n"
     ]
    },
    {
     "name": "stdout",
     "output_type": "stream",
     "text": [
      "EvaluatorHoldout: Processed 10057 (100.0%) in 5.36 sec. Users per second: 1878\n",
      "MAP: 0.030890882288416563, RECALL: 0.1186947609631861\n",
      "EvaluatorHoldout: Processed 10040 (100.0%) in 5.17 sec. Users per second: 1940\n",
      "MAP: 0.031180021975589976, RECALL: 0.11851473894163124\n",
      "EvaluatorHoldout: Processed 10017 (100.0%) in 5.45 sec. Users per second: 1838\n",
      "MAP: 0.030578243177075443, RECALL: 0.11565907699094487\n",
      "EvaluatorHoldout: Processed 10037 (100.0%) in 5.59 sec. Users per second: 1795\n",
      "MAP: 0.030928319187261376, RECALL: 0.11931088503254171\n",
      "EvaluatorHoldout: Processed 9989 (100.0%) in 5.85 sec. Users per second: 1708\n",
      "MAP: 0.0311607967176595, RECALL: 0.12349385805921236\n",
      "EvaluatorHoldout: Processed 10024 (100.0%) in 5.87 sec. Users per second: 1707\n",
      "MAP: 0.031464303132798944, RECALL: 0.11913933768420189\n",
      "EvaluatorHoldout: Processed 10030 (100.0%) in 5.53 sec. Users per second: 1813\n",
      "MAP: 0.031471486334647206, RECALL: 0.123515798337853\n",
      "EvaluatorHoldout: Processed 10052 (100.0%) in 5.47 sec. Users per second: 1838\n",
      "MAP: 0.0307872120528809, RECALL: 0.11896654659579096\n",
      "EvaluatorHoldout: Processed 10045 (100.0%) in 5.19 sec. Users per second: 1934\n",
      "MAP: 0.031147495002647015, RECALL: 0.11557136217875781\n",
      "EvaluatorHoldout: Processed 10068 (100.0%) in 5.48 sec. Users per second: 1838\n",
      "MAP: 0.031473933600721725, RECALL: 0.12246856003168438\n"
     ]
    },
    {
     "name": "stderr",
     "output_type": "stream",
     "text": [
      "[I 2024-01-10 15:26:54,827] Trial 114 finished with value: 0.031108269346969857 and parameters: {'w_slim': 0.7561671783331188, 'w_knn': 0.09118938408721486, 'w_p3': 0.08885936383744285, 'w_rp3': 0.7353865481309438}. Best is trial 106 with value: 0.031109724570669295.\n"
     ]
    },
    {
     "name": "stdout",
     "output_type": "stream",
     "text": [
      "EvaluatorHoldout: Processed 10057 (100.0%) in 5.42 sec. Users per second: 1854\n",
      "MAP: 0.030885563399732818, RECALL: 0.11858638163217779\n",
      "EvaluatorHoldout: Processed 10040 (100.0%) in 5.92 sec. Users per second: 1697\n",
      "MAP: 0.031123806361854474, RECALL: 0.11828484061156905\n",
      "EvaluatorHoldout: Processed 10017 (100.0%) in 5.54 sec. Users per second: 1809\n",
      "MAP: 0.030612034937432014, RECALL: 0.11588107067351489\n",
      "EvaluatorHoldout: Processed 10037 (100.0%) in 5.85 sec. Users per second: 1716\n",
      "MAP: 0.030924013689033338, RECALL: 0.1190150177444914\n",
      "EvaluatorHoldout: Processed 9989 (100.0%) in 5.86 sec. Users per second: 1703\n",
      "MAP: 0.0311783954413349, RECALL: 0.12355102595644404\n",
      "EvaluatorHoldout: Processed 10024 (100.0%) in 5.79 sec. Users per second: 1730\n",
      "MAP: 0.03140133124944598, RECALL: 0.11892309164213914\n",
      "EvaluatorHoldout: Processed 10030 (100.0%) in 5.69 sec. Users per second: 1763\n",
      "MAP: 0.03147955735966734, RECALL: 0.12332202038128169\n",
      "EvaluatorHoldout: Processed 10052 (100.0%) in 6.00 sec. Users per second: 1676\n",
      "MAP: 0.030745985952412833, RECALL: 0.1192954804464426\n",
      "EvaluatorHoldout: Processed 10045 (100.0%) in 6.22 sec. Users per second: 1616\n",
      "MAP: 0.031112418718939536, RECALL: 0.11531344250925117\n",
      "EvaluatorHoldout: Processed 10068 (100.0%) in 6.02 sec. Users per second: 1673\n",
      "MAP: 0.031486688139697946, RECALL: 0.12262836685533533\n"
     ]
    },
    {
     "name": "stderr",
     "output_type": "stream",
     "text": [
      "[I 2024-01-10 15:28:07,239] Trial 115 finished with value: 0.031094979524955123 and parameters: {'w_slim': 0.7601192320450656, 'w_knn': 0.08150361066053899, 'w_p3': 0.07907786894882807, 'w_rp3': 0.739622503117464}. Best is trial 106 with value: 0.031109724570669295.\n"
     ]
    },
    {
     "name": "stdout",
     "output_type": "stream",
     "text": [
      "EvaluatorHoldout: Processed 10057 (100.0%) in 5.62 sec. Users per second: 1789\n",
      "MAP: 0.030883756240224578, RECALL: 0.11852723617660775\n",
      "EvaluatorHoldout: Processed 10040 (100.0%) in 6.02 sec. Users per second: 1669\n",
      "MAP: 0.03117396683108864, RECALL: 0.11825826194241292\n",
      "EvaluatorHoldout: Processed 10017 (100.0%) in 5.65 sec. Users per second: 1773\n",
      "MAP: 0.03059837561859152, RECALL: 0.11585481589596336\n",
      "EvaluatorHoldout: Processed 10037 (100.0%) in 5.38 sec. Users per second: 1867\n",
      "MAP: 0.030929145495002083, RECALL: 0.11928357474587976\n",
      "EvaluatorHoldout: Processed 9989 (100.0%) in 5.45 sec. Users per second: 1831\n",
      "MAP: 0.031156065322648807, RECALL: 0.12352262774492022\n",
      "EvaluatorHoldout: Processed 10024 (100.0%) in 6.34 sec. Users per second: 1581\n",
      "MAP: 0.03144014286347708, RECALL: 0.11896743063317965\n",
      "EvaluatorHoldout: Processed 10030 (100.0%) in 6.40 sec. Users per second: 1568\n",
      "MAP: 0.03147717957239428, RECALL: 0.12342905416738592\n",
      "EvaluatorHoldout: Processed 10052 (100.0%) in 6.61 sec. Users per second: 1521\n",
      "MAP: 0.03076708654678243, RECALL: 0.119092501371099\n",
      "EvaluatorHoldout: Processed 10045 (100.0%) in 6.52 sec. Users per second: 1540\n",
      "MAP: 0.031152642473946765, RECALL: 0.1156026231765171\n",
      "EvaluatorHoldout: Processed 10068 (100.0%) in 6.54 sec. Users per second: 1539\n",
      "MAP: 0.031469286628702874, RECALL: 0.1226225348666214\n"
     ]
    },
    {
     "name": "stderr",
     "output_type": "stream",
     "text": [
      "[I 2024-01-10 15:29:21,965] Trial 116 finished with value: 0.0311047647592859 and parameters: {'w_slim': 0.7564832210330483, 'w_knn': 0.08658592024025766, 'w_p3': 0.08299544145090969, 'w_rp3': 0.749523148971754}. Best is trial 106 with value: 0.031109724570669295.\n"
     ]
    },
    {
     "name": "stdout",
     "output_type": "stream",
     "text": [
      "EvaluatorHoldout: Processed 10057 (100.0%) in 6.41 sec. Users per second: 1570\n",
      "MAP: 0.030891608308830372, RECALL: 0.11846152080171346\n",
      "EvaluatorHoldout: Processed 10040 (100.0%) in 6.38 sec. Users per second: 1573\n",
      "MAP: 0.031171777177006567, RECALL: 0.11842209593694404\n",
      "EvaluatorHoldout: Processed 10017 (100.0%) in 6.09 sec. Users per second: 1645\n",
      "MAP: 0.030578900789293387, RECALL: 0.11566485731084926\n",
      "EvaluatorHoldout: Processed 10037 (100.0%) in 5.89 sec. Users per second: 1703\n",
      "MAP: 0.030910144370590982, RECALL: 0.11934498102344487\n",
      "EvaluatorHoldout: Processed 9989 (100.0%) in 5.46 sec. Users per second: 1829\n",
      "MAP: 0.031166827160670617, RECALL: 0.12336435650533024\n",
      "EvaluatorHoldout: Processed 10024 (100.0%) in 5.29 sec. Users per second: 1896\n",
      "MAP: 0.0314484760384603, RECALL: 0.11916852716669583\n",
      "EvaluatorHoldout: Processed 10030 (100.0%) in 5.77 sec. Users per second: 1739\n",
      "MAP: 0.03147480178512115, RECALL: 0.12340691909203569\n",
      "EvaluatorHoldout: Processed 10052 (100.0%) in 5.98 sec. Users per second: 1682\n",
      "MAP: 0.030788712188682656, RECALL: 0.11901291351468973\n",
      "EvaluatorHoldout: Processed 10045 (100.0%) in 5.71 sec. Users per second: 1760\n",
      "MAP: 0.03114183396936029, RECALL: 0.11557441020049959\n",
      "EvaluatorHoldout: Processed 10068 (100.0%) in 5.87 sec. Users per second: 1716\n",
      "MAP: 0.03145933840361759, RECALL: 0.12238089246463744\n"
     ]
    },
    {
     "name": "stderr",
     "output_type": "stream",
     "text": [
      "[I 2024-01-10 15:30:35,029] Trial 117 finished with value: 0.03110324201916339 and parameters: {'w_slim': 0.757403775385016, 'w_knn': 0.08768677850464454, 'w_p3': 0.08938929968406513, 'w_rp3': 0.7326798493023116}. Best is trial 106 with value: 0.031109724570669295.\n"
     ]
    },
    {
     "name": "stdout",
     "output_type": "stream",
     "text": [
      "EvaluatorHoldout: Processed 10057 (100.0%) in 5.65 sec. Users per second: 1779\n",
      "MAP: 0.03088082453822756, RECALL: 0.1185140783664516\n",
      "EvaluatorHoldout: Processed 10040 (100.0%) in 5.92 sec. Users per second: 1697\n",
      "MAP: 0.03116849269588344, RECALL: 0.11847054375286085\n",
      "EvaluatorHoldout: Processed 10017 (100.0%) in 6.10 sec. Users per second: 1642\n",
      "MAP: 0.03058283853956237, RECALL: 0.1156556330653267\n",
      "EvaluatorHoldout: Processed 10037 (100.0%) in 6.14 sec. Users per second: 1635\n",
      "MAP: 0.030916209232190364, RECALL: 0.11927782338191098\n",
      "EvaluatorHoldout: Processed 9989 (100.0%) in 5.71 sec. Users per second: 1748\n",
      "MAP: 0.03116393509050455, RECALL: 0.1234346901483196\n",
      "EvaluatorHoldout: Processed 10024 (100.0%) in 5.61 sec. Users per second: 1786\n",
      "MAP: 0.031447541772761455, RECALL: 0.11902969631221565\n",
      "EvaluatorHoldout: Processed 10030 (100.0%) in 5.90 sec. Users per second: 1699\n",
      "MAP: 0.031453219705961794, RECALL: 0.12337894745140204\n",
      "EvaluatorHoldout: Processed 10052 (100.0%) in 5.86 sec. Users per second: 1714\n",
      "MAP: 0.030780666723514226, RECALL: 0.11916052257097369\n",
      "EvaluatorHoldout: Processed 10045 (100.0%) in 5.98 sec. Users per second: 1679\n",
      "MAP: 0.03113766226583567, RECALL: 0.11553959677544222\n",
      "EvaluatorHoldout: Processed 10068 (100.0%) in 5.97 sec. Users per second: 1687\n",
      "MAP: 0.03146410756065133, RECALL: 0.12239487148139755\n"
     ]
    },
    {
     "name": "stderr",
     "output_type": "stream",
     "text": [
      "[I 2024-01-10 15:31:48,033] Trial 118 finished with value: 0.031099549812509276 and parameters: {'w_slim': 0.757447015641018, 'w_knn': 0.08721382224979123, 'w_p3': 0.08722605799003477, 'w_rp3': 0.7318062451161313}. Best is trial 106 with value: 0.031109724570669295.\n"
     ]
    },
    {
     "name": "stdout",
     "output_type": "stream",
     "text": [
      "EvaluatorHoldout: Processed 10057 (100.0%) in 5.05 sec. Users per second: 1992\n",
      "MAP: 0.03090325225579294, RECALL: 0.11854099422326508\n",
      "EvaluatorHoldout: Processed 10040 (100.0%) in 5.34 sec. Users per second: 1882\n",
      "MAP: 0.031128576961993636, RECALL: 0.11858704862758143\n",
      "EvaluatorHoldout: Processed 10017 (100.0%) in 5.76 sec. Users per second: 1740\n",
      "MAP: 0.030580818164675866, RECALL: 0.11602070147675439\n",
      "EvaluatorHoldout: Processed 10037 (100.0%) in 5.76 sec. Users per second: 1744\n",
      "MAP: 0.030928414074274633, RECALL: 0.11904932771314904\n",
      "EvaluatorHoldout: Processed 9989 (100.0%) in 5.69 sec. Users per second: 1757\n",
      "MAP: 0.03118639630577787, RECALL: 0.12346407789003264\n",
      "EvaluatorHoldout: Processed 10024 (100.0%) in 5.56 sec. Users per second: 1804\n",
      "MAP: 0.03142420096530254, RECALL: 0.1188789533781788\n",
      "EvaluatorHoldout: Processed 10030 (100.0%) in 5.76 sec. Users per second: 1741\n",
      "MAP: 0.031493468008672684, RECALL: 0.12335130293704845\n",
      "EvaluatorHoldout: Processed 10052 (100.0%) in 5.88 sec. Users per second: 1708\n",
      "MAP: 0.030753968253968568, RECALL: 0.11923999839949524\n",
      "EvaluatorHoldout: Processed 10045 (100.0%) in 5.88 sec. Users per second: 1708\n",
      "MAP: 0.031121042609843174, RECALL: 0.11522075097196281\n",
      "EvaluatorHoldout: Processed 10068 (100.0%) in 5.76 sec. Users per second: 1749\n",
      "MAP: 0.03148891900158317, RECALL: 0.12240352328492181\n"
     ]
    },
    {
     "name": "stderr",
     "output_type": "stream",
     "text": [
      "[I 2024-01-10 15:32:58,571] Trial 119 finished with value: 0.03110090566018851 and parameters: {'w_slim': 0.7611355085065578, 'w_knn': 0.07773409158958378, 'w_p3': 0.08900272577122408, 'w_rp3': 0.7480112917811493}. Best is trial 106 with value: 0.031109724570669295.\n"
     ]
    },
    {
     "name": "stdout",
     "output_type": "stream",
     "text": [
      "EvaluatorHoldout: Processed 10057 (100.0%) in 5.41 sec. Users per second: 1859\n",
      "MAP: 0.030891130871493012, RECALL: 0.11840447709609207\n",
      "EvaluatorHoldout: Processed 10040 (100.0%) in 5.68 sec. Users per second: 1767\n",
      "MAP: 0.0311611292923547, RECALL: 0.11823931550040873\n",
      "EvaluatorHoldout: Processed 10017 (100.0%) in 6.09 sec. Users per second: 1645\n",
      "MAP: 0.03061226866707576, RECALL: 0.11590031966467951\n",
      "EvaluatorHoldout: Processed 10037 (100.0%) in 6.08 sec. Users per second: 1650\n",
      "MAP: 0.030923966245526718, RECALL: 0.11912299024946346\n",
      "EvaluatorHoldout: Processed 9989 (100.0%) in 5.26 sec. Users per second: 1898\n",
      "MAP: 0.03116291412617393, RECALL: 0.12362868406674123\n",
      "EvaluatorHoldout: Processed 10024 (100.0%) in 5.54 sec. Users per second: 1811\n",
      "MAP: 0.031420653922649346, RECALL: 0.118895583792831\n",
      "EvaluatorHoldout: Processed 10030 (100.0%) in 5.01 sec. Users per second: 2001\n",
      "MAP: 0.03144732073620439, RECALL: 0.12336782110094244\n",
      "EvaluatorHoldout: Processed 10052 (100.0%) in 5.02 sec. Users per second: 2004\n",
      "MAP: 0.03076032409249707, RECALL: 0.11898546934317357\n",
      "EvaluatorHoldout: Processed 10045 (100.0%) in 5.41 sec. Users per second: 1855\n",
      "MAP: 0.03110748852386499, RECALL: 0.11548460657911434\n",
      "EvaluatorHoldout: Processed 10068 (100.0%) in 5.57 sec. Users per second: 1807\n",
      "MAP: 0.031490117203019724, RECALL: 0.12253872822714384\n"
     ]
    },
    {
     "name": "stderr",
     "output_type": "stream",
     "text": [
      "[I 2024-01-10 15:34:07,868] Trial 120 finished with value: 0.031097731368085958 and parameters: {'w_slim': 0.7547773983556952, 'w_knn': 0.08424581954730886, 'w_p3': 0.08343671920968253, 'w_rp3': 0.7242239445583754}. Best is trial 106 with value: 0.031109724570669295.\n"
     ]
    },
    {
     "name": "stdout",
     "output_type": "stream",
     "text": [
      "EvaluatorHoldout: Processed 10057 (100.0%) in 5.66 sec. Users per second: 1776\n",
      "MAP: 0.030879305419426958, RECALL: 0.11814022317309113\n",
      "EvaluatorHoldout: Processed 10040 (100.0%) in 5.34 sec. Users per second: 1882\n",
      "MAP: 0.031028623600835057, RECALL: 0.11794737696348369\n",
      "EvaluatorHoldout: Processed 10017 (100.0%) in 5.52 sec. Users per second: 1816\n",
      "MAP: 0.030552675530962605, RECALL: 0.11570672829995941\n",
      "EvaluatorHoldout: Processed 10037 (100.0%) in 6.03 sec. Users per second: 1664\n",
      "MAP: 0.030879155853501008, RECALL: 0.11930812344438178\n",
      "EvaluatorHoldout: Processed 9989 (100.0%) in 5.49 sec. Users per second: 1818\n",
      "MAP: 0.031159736027090316, RECALL: 0.12334272515477405\n",
      "EvaluatorHoldout: Processed 10024 (100.0%) in 6.23 sec. Users per second: 1609\n",
      "MAP: 0.03131378342771023, RECALL: 0.11868050739334819\n",
      "EvaluatorHoldout: Processed 10030 (100.0%) in 5.60 sec. Users per second: 1792\n",
      "MAP: 0.03137897418854574, RECALL: 0.12317997392791426\n",
      "EvaluatorHoldout: Processed 10052 (100.0%) in 5.62 sec. Users per second: 1789\n",
      "MAP: 0.030628892457633356, RECALL: 0.11816823181162521\n",
      "EvaluatorHoldout: Processed 10045 (100.0%) in 6.05 sec. Users per second: 1660\n",
      "MAP: 0.03109661286117251, RECALL: 0.11527181404794153\n",
      "EvaluatorHoldout: Processed 10068 (100.0%) in 6.72 sec. Users per second: 1497\n",
      "MAP: 0.031388092715566175, RECALL: 0.12215805128420627\n"
     ]
    },
    {
     "name": "stderr",
     "output_type": "stream",
     "text": [
      "[I 2024-01-10 15:35:20,313] Trial 121 finished with value: 0.0310305852082444 and parameters: {'w_slim': 0.9817680839194167, 'w_knn': 0.08694160748455833, 'w_p3': 0.08986634950342201, 'w_rp3': 0.7495931837089205}. Best is trial 106 with value: 0.031109724570669295.\n"
     ]
    },
    {
     "name": "stdout",
     "output_type": "stream",
     "text": [
      "EvaluatorHoldout: Processed 10057 (100.0%) in 6.70 sec. Users per second: 1501\n",
      "MAP: 0.03087615275469529, RECALL: 0.11851600820332231\n",
      "EvaluatorHoldout: Processed 10040 (100.0%) in 6.32 sec. Users per second: 1588\n",
      "MAP: 0.031167038196420967, RECALL: 0.11853464917846147\n",
      "EvaluatorHoldout: Processed 10017 (100.0%) in 5.71 sec. Users per second: 1755\n",
      "MAP: 0.030561485950075643, RECALL: 0.11561174735357636\n",
      "EvaluatorHoldout: Processed 10037 (100.0%) in 5.71 sec. Users per second: 1757\n",
      "MAP: 0.030913441694302782, RECALL: 0.11921969005215212\n",
      "EvaluatorHoldout: Processed 9989 (100.0%) in 6.24 sec. Users per second: 1602\n",
      "MAP: 0.03116909552889152, RECALL: 0.12351836311185521\n",
      "EvaluatorHoldout: Processed 10024 (100.0%) in 5.88 sec. Users per second: 1705\n",
      "MAP: 0.03143074874270027, RECALL: 0.11910320897495924\n",
      "EvaluatorHoldout: Processed 10030 (100.0%) in 5.75 sec. Users per second: 1744\n",
      "MAP: 0.03146698001234425, RECALL: 0.12352812695974323\n",
      "EvaluatorHoldout: Processed 10052 (100.0%) in 5.78 sec. Users per second: 1740\n",
      "MAP: 0.030801238322627433, RECALL: 0.119073398143898\n",
      "EvaluatorHoldout: Processed 10045 (100.0%) in 5.68 sec. Users per second: 1768\n",
      "MAP: 0.03113328118703946, RECALL: 0.11556498972377255\n",
      "EvaluatorHoldout: Processed 10068 (100.0%) in 6.10 sec. Users per second: 1652\n",
      "MAP: 0.0314668429284046, RECALL: 0.12237535075343339\n"
     ]
    },
    {
     "name": "stderr",
     "output_type": "stream",
     "text": [
      "[I 2024-01-10 15:36:34,359] Trial 122 finished with value: 0.031098630531750215 and parameters: {'w_slim': 0.7628292737149913, 'w_knn': 0.09028652088955834, 'w_p3': 0.08583255213209126, 'w_rp3': 0.7366573200692023}. Best is trial 106 with value: 0.031109724570669295.\n"
     ]
    },
    {
     "name": "stdout",
     "output_type": "stream",
     "text": [
      "EvaluatorHoldout: Processed 10057 (100.0%) in 5.57 sec. Users per second: 1807\n",
      "MAP: 0.030906692961232274, RECALL: 0.11868211429154685\n",
      "EvaluatorHoldout: Processed 10040 (100.0%) in 5.70 sec. Users per second: 1763\n",
      "MAP: 0.031167540156833276, RECALL: 0.11840392764150512\n",
      "EvaluatorHoldout: Processed 10017 (100.0%) in 5.80 sec. Users per second: 1727\n",
      "MAP: 0.030624747453139457, RECALL: 0.1157559026566194\n",
      "EvaluatorHoldout: Processed 10037 (100.0%) in 5.71 sec. Users per second: 1757\n",
      "MAP: 0.03088220805242851, RECALL: 0.11904005336890898\n",
      "EvaluatorHoldout: Processed 9989 (100.0%) in 6.54 sec. Users per second: 1528\n",
      "MAP: 0.031150042824885333, RECALL: 0.12344940824239849\n",
      "EvaluatorHoldout: Processed 10024 (100.0%) in 5.97 sec. Users per second: 1679\n",
      "MAP: 0.03141130730690809, RECALL: 0.11905008148046885\n",
      "EvaluatorHoldout: Processed 10030 (100.0%) in 5.97 sec. Users per second: 1679\n",
      "MAP: 0.03143617955656869, RECALL: 0.12332215579007556\n",
      "EvaluatorHoldout: Processed 10052 (100.0%) in 5.84 sec. Users per second: 1720\n",
      "MAP: 0.03077991270788754, RECALL: 0.11914622446569526\n",
      "EvaluatorHoldout: Processed 10045 (100.0%) in 5.67 sec. Users per second: 1772\n",
      "MAP: 0.03111902391618685, RECALL: 0.11552388140477207\n",
      "EvaluatorHoldout: Processed 10068 (100.0%) in 5.78 sec. Users per second: 1743\n",
      "MAP: 0.03145236991631535, RECALL: 0.12233888091832826\n"
     ]
    },
    {
     "name": "stderr",
     "output_type": "stream",
     "text": [
      "[I 2024-01-10 15:37:47,120] Trial 123 finished with value: 0.031093002485238535 and parameters: {'w_slim': 0.7766991170858764, 'w_knn': 0.08808474500422586, 'w_p3': 0.09773324622121435, 'w_rp3': 0.7289781194445512}. Best is trial 106 with value: 0.031109724570669295.\n"
     ]
    },
    {
     "name": "stdout",
     "output_type": "stream",
     "text": [
      "EvaluatorHoldout: Processed 10057 (100.0%) in 6.08 sec. Users per second: 1655\n",
      "MAP: 0.030894906966797385, RECALL: 0.1187179003263902\n",
      "EvaluatorHoldout: Processed 10040 (100.0%) in 5.44 sec. Users per second: 1844\n",
      "MAP: 0.031182796591412418, RECALL: 0.11817355275768521\n",
      "EvaluatorHoldout: Processed 10017 (100.0%) in 5.58 sec. Users per second: 1794\n",
      "MAP: 0.030616951182989186, RECALL: 0.11584744431491753\n",
      "EvaluatorHoldout: Processed 10037 (100.0%) in 6.07 sec. Users per second: 1655\n",
      "MAP: 0.03089676530171722, RECALL: 0.11914004774616732\n",
      "EvaluatorHoldout: Processed 9989 (100.0%) in 5.87 sec. Users per second: 1702\n",
      "MAP: 0.031178439140197276, RECALL: 0.12351494007318882\n",
      "EvaluatorHoldout: Processed 10024 (100.0%) in 5.51 sec. Users per second: 1819\n",
      "MAP: 0.031435309226111506, RECALL: 0.11908323802354899\n",
      "EvaluatorHoldout: Processed 10030 (100.0%) in 5.65 sec. Users per second: 1775\n",
      "MAP: 0.031413521340739985, RECALL: 0.12346097540696213\n",
      "EvaluatorHoldout: Processed 10052 (100.0%) in 5.87 sec. Users per second: 1712\n",
      "MAP: 0.030781795773091317, RECALL: 0.11894406468581979\n",
      "EvaluatorHoldout: Processed 10045 (100.0%) in 5.58 sec. Users per second: 1799\n",
      "MAP: 0.031115239359390846, RECALL: 0.11537261206704694\n",
      "EvaluatorHoldout: Processed 10068 (100.0%) in 5.91 sec. Users per second: 1704\n",
      "MAP: 0.03144087270055713, RECALL: 0.1223700145718137\n"
     ]
    },
    {
     "name": "stderr",
     "output_type": "stream",
     "text": [
      "[I 2024-01-10 15:38:58,832] Trial 124 finished with value: 0.031095659758300427 and parameters: {'w_slim': 0.7724393348273251, 'w_knn': 0.09086072439599915, 'w_p3': 0.08795332920908, 'w_rp3': 0.7185417296173778}. Best is trial 106 with value: 0.031109724570669295.\n"
     ]
    },
    {
     "name": "stdout",
     "output_type": "stream",
     "text": [
      "EvaluatorHoldout: Processed 10057 (100.0%) in 5.03 sec. Users per second: 1999\n",
      "MAP: 0.030894334831145214, RECALL: 0.11851268256989785\n",
      "EvaluatorHoldout: Processed 10040 (100.0%) in 4.98 sec. Users per second: 2014\n",
      "MAP: 0.031155481249605058, RECALL: 0.1181744684671852\n",
      "EvaluatorHoldout: Processed 10017 (100.0%) in 5.54 sec. Users per second: 1809\n",
      "MAP: 0.030600613877044217, RECALL: 0.11580311806798523\n",
      "EvaluatorHoldout: Processed 10037 (100.0%) in 5.31 sec. Users per second: 1889\n",
      "MAP: 0.030941405687844127, RECALL: 0.11920035590607829\n",
      "EvaluatorHoldout: Processed 9989 (100.0%) in 5.60 sec. Users per second: 1785\n",
      "MAP: 0.031165619483018856, RECALL: 0.12353586839540723\n",
      "EvaluatorHoldout: Processed 10024 (100.0%) in 5.76 sec. Users per second: 1741\n",
      "MAP: 0.03144775554542137, RECALL: 0.11901604361424765\n",
      "EvaluatorHoldout: Processed 10030 (100.0%) in 6.08 sec. Users per second: 1650\n",
      "MAP: 0.03146926680276665, RECALL: 0.12342941955115994\n",
      "EvaluatorHoldout: Processed 10052 (100.0%) in 6.55 sec. Users per second: 1534\n",
      "MAP: 0.030764571845451567, RECALL: 0.11912257091021064\n",
      "EvaluatorHoldout: Processed 10045 (100.0%) in 5.92 sec. Users per second: 1697\n",
      "MAP: 0.03114159299027409, RECALL: 0.11549468839998574\n",
      "EvaluatorHoldout: Processed 10068 (100.0%) in 5.44 sec. Users per second: 1852\n",
      "MAP: 0.03147954622850358, RECALL: 0.12257135200062692\n"
     ]
    },
    {
     "name": "stderr",
     "output_type": "stream",
     "text": [
      "[I 2024-01-10 15:40:09,284] Trial 125 finished with value: 0.03110601885410747 and parameters: {'w_slim': 0.7555147215288537, 'w_knn': 0.08535983559922716, 'w_p3': 0.08224555522039793, 'w_rp3': 0.7414068133419165}. Best is trial 106 with value: 0.031109724570669295.\n"
     ]
    },
    {
     "name": "stdout",
     "output_type": "stream",
     "text": [
      "EvaluatorHoldout: Processed 10057 (100.0%) in 5.69 sec. Users per second: 1767\n",
      "MAP: 0.03087344201543284, RECALL: 0.11864277959931188\n",
      "EvaluatorHoldout: Processed 10040 (100.0%) in 5.85 sec. Users per second: 1717\n",
      "MAP: 0.0311262410674765, RECALL: 0.1183596230521669\n",
      "EvaluatorHoldout: Processed 10017 (100.0%) in 5.63 sec. Users per second: 1779\n",
      "MAP: 0.030551514805782755, RECALL: 0.11548585937751676\n",
      "EvaluatorHoldout: Processed 10037 (100.0%) in 5.43 sec. Users per second: 1848\n",
      "MAP: 0.03089045926895909, RECALL: 0.11891915219382186\n",
      "EvaluatorHoldout: Processed 9989 (100.0%) in 5.91 sec. Users per second: 1689\n",
      "MAP: 0.031189034128017237, RECALL: 0.12304486351018323\n",
      "EvaluatorHoldout: Processed 10024 (100.0%) in 5.93 sec. Users per second: 1689\n",
      "MAP: 0.031268760530283095, RECALL: 0.11832272797865862\n",
      "EvaluatorHoldout: Processed 10030 (100.0%) in 5.64 sec. Users per second: 1777\n",
      "MAP: 0.031421659624302004, RECALL: 0.12298090538864032\n",
      "EvaluatorHoldout: Processed 10052 (100.0%) in 5.36 sec. Users per second: 1874\n",
      "MAP: 0.030651212899273333, RECALL: 0.11877844839753887\n",
      "EvaluatorHoldout: Processed 10045 (100.0%) in 5.79 sec. Users per second: 1735\n",
      "MAP: 0.03114564222901718, RECALL: 0.11492729261054312\n",
      "EvaluatorHoldout: Processed 10068 (100.0%) in 5.67 sec. Users per second: 1775\n",
      "MAP: 0.03144202754602062, RECALL: 0.12191151907411125\n"
     ]
    },
    {
     "name": "stderr",
     "output_type": "stream",
     "text": [
      "[I 2024-01-10 15:41:20,354] Trial 126 finished with value: 0.031055999411456463 and parameters: {'w_slim': 0.7552205419643577, 'w_knn': 0.050779526066684136, 'w_p3': 0.07911376648760265, 'w_rp3': 0.7419745329981354}. Best is trial 106 with value: 0.031109724570669295.\n"
     ]
    },
    {
     "name": "stdout",
     "output_type": "stream",
     "text": [
      "EvaluatorHoldout: Processed 10057 (100.0%) in 5.05 sec. Users per second: 1990\n",
      "MAP: 0.030891616200356565, RECALL: 0.11851602779640635\n",
      "EvaluatorHoldout: Processed 10040 (100.0%) in 5.11 sec. Users per second: 1964\n",
      "MAP: 0.03115411370391482, RECALL: 0.11823823206570679\n",
      "EvaluatorHoldout: Processed 10017 (100.0%) in 5.61 sec. Users per second: 1785\n",
      "MAP: 0.030618210946153718, RECALL: 0.11593138484298349\n",
      "EvaluatorHoldout: Processed 10037 (100.0%) in 5.77 sec. Users per second: 1741\n",
      "MAP: 0.03093067554809134, RECALL: 0.1190555299070919\n",
      "EvaluatorHoldout: Processed 9989 (100.0%) in 5.94 sec. Users per second: 1683\n",
      "MAP: 0.031160911923751266, RECALL: 0.12364275831573479\n",
      "EvaluatorHoldout: Processed 10024 (100.0%) in 5.47 sec. Users per second: 1832\n",
      "MAP: 0.031425337127402385, RECALL: 0.11893554989549661\n",
      "EvaluatorHoldout: Processed 10030 (100.0%) in 5.37 sec. Users per second: 1867\n",
      "MAP: 0.031452618335470084, RECALL: 0.12344743938893563\n",
      "EvaluatorHoldout: Processed 10052 (100.0%) in 5.83 sec. Users per second: 1724\n",
      "MAP: 0.030754892021804363, RECALL: 0.11902429522635881\n",
      "EvaluatorHoldout: Processed 10045 (100.0%) in 5.74 sec. Users per second: 1749\n",
      "MAP: 0.03111954142865059, RECALL: 0.11545882833171493\n",
      "EvaluatorHoldout: Processed 10068 (100.0%) in 6.14 sec. Users per second: 1641\n",
      "MAP: 0.03148827260343973, RECALL: 0.12263268332866044\n"
     ]
    },
    {
     "name": "stderr",
     "output_type": "stream",
     "text": [
      "[I 2024-01-10 15:42:30,508] Trial 127 finished with value: 0.03109961898390349 and parameters: {'w_slim': 0.7643246430204994, 'w_knn': 0.08481581109299652, 'w_p3': 0.08127446168089902, 'w_rp3': 0.7332372067721153}. Best is trial 106 with value: 0.031109724570669295.\n"
     ]
    },
    {
     "name": "stdout",
     "output_type": "stream",
     "text": [
      "EvaluatorHoldout: Processed 10057 (100.0%) in 4.85 sec. Users per second: 2072\n",
      "MAP: 0.030897373068746445, RECALL: 0.11851122703328373\n",
      "EvaluatorHoldout: Processed 10040 (100.0%) in 5.58 sec. Users per second: 1799\n",
      "MAP: 0.031170828590400615, RECALL: 0.11838598215683566\n",
      "EvaluatorHoldout: Processed 10017 (100.0%) in 5.45 sec. Users per second: 1837\n",
      "MAP: 0.030592060956691335, RECALL: 0.11579231531161532\n",
      "EvaluatorHoldout: Processed 10037 (100.0%) in 6.02 sec. Users per second: 1668\n",
      "MAP: 0.0309173834589798, RECALL: 0.11918333360134473\n",
      "EvaluatorHoldout: Processed 9989 (100.0%) in 5.47 sec. Users per second: 1827\n",
      "MAP: 0.031160832471274165, RECALL: 0.12355696033600343\n",
      "EvaluatorHoldout: Processed 10024 (100.0%) in 5.71 sec. Users per second: 1757\n",
      "MAP: 0.03140494163214655, RECALL: 0.11906684874269585\n",
      "EvaluatorHoldout: Processed 10030 (100.0%) in 5.65 sec. Users per second: 1775\n",
      "MAP: 0.03145859247653893, RECALL: 0.12340790611536881\n",
      "EvaluatorHoldout: Processed 10052 (100.0%) in 5.90 sec. Users per second: 1705\n",
      "MAP: 0.030772826540087082, RECALL: 0.11918528723002049\n",
      "EvaluatorHoldout: Processed 10045 (100.0%) in 6.11 sec. Users per second: 1644\n",
      "MAP: 0.031129445274044758, RECALL: 0.11551880469495183\n",
      "EvaluatorHoldout: Processed 10068 (100.0%) in 5.96 sec. Users per second: 1690\n",
      "MAP: 0.03147232548826736, RECALL: 0.12249735001828022\n"
     ]
    },
    {
     "name": "stderr",
     "output_type": "stream",
     "text": [
      "[I 2024-01-10 15:43:41,352] Trial 128 finished with value: 0.031097660995717702 and parameters: {'w_slim': 0.7581673044869925, 'w_knn': 0.08130886760394682, 'w_p3': 0.09024271627838493, 'w_rp3': 0.7221820449906975}. Best is trial 106 with value: 0.031109724570669295.\n"
     ]
    },
    {
     "name": "stdout",
     "output_type": "stream",
     "text": [
      "EvaluatorHoldout: Processed 10057 (100.0%) in 4.88 sec. Users per second: 2061\n",
      "MAP: 0.030890258857843852, RECALL: 0.11868153593317454\n",
      "EvaluatorHoldout: Processed 10040 (100.0%) in 5.29 sec. Users per second: 1899\n",
      "MAP: 0.031166346518687462, RECALL: 0.11844628980100846\n",
      "EvaluatorHoldout: Processed 10017 (100.0%) in 5.87 sec. Users per second: 1706\n",
      "MAP: 0.03056580004468621, RECALL: 0.11572576402332986\n",
      "EvaluatorHoldout: Processed 10037 (100.0%) in 6.70 sec. Users per second: 1498\n",
      "MAP: 0.03091613015967929, RECALL: 0.11918181691509448\n",
      "EvaluatorHoldout: Processed 9989 (100.0%) in 6.78 sec. Users per second: 1474\n",
      "MAP: 0.03116025644081528, RECALL: 0.12357750866804072\n",
      "EvaluatorHoldout: Processed 10024 (100.0%) in 6.43 sec. Users per second: 1559\n",
      "MAP: 0.03144080001646863, RECALL: 0.11915147705596206\n",
      "EvaluatorHoldout: Processed 10030 (100.0%) in 6.92 sec. Users per second: 1449\n",
      "MAP: 0.03147308471411195, RECALL: 0.12346543204804213\n",
      "EvaluatorHoldout: Processed 10052 (100.0%) in 7.34 sec. Users per second: 1369\n",
      "MAP: 0.0307624084917164, RECALL: 0.11902474033274214\n",
      "EvaluatorHoldout: Processed 10045 (100.0%) in 7.14 sec. Users per second: 1406\n",
      "MAP: 0.031114413709734938, RECALL: 0.11550268137205522\n",
      "EvaluatorHoldout: Processed 10068 (100.0%) in 6.64 sec. Users per second: 1517\n",
      "MAP: 0.031455006747766266, RECALL: 0.12238023426970034\n"
     ]
    },
    {
     "name": "stderr",
     "output_type": "stream",
     "text": [
      "[I 2024-01-10 15:44:59,471] Trial 129 finished with value: 0.031094450570151023 and parameters: {'w_slim': 0.7679763260087348, 'w_knn': 0.08916369951341123, 'w_p3': 0.08242831559620195, 'w_rp3': 0.7445083087227998}. Best is trial 106 with value: 0.031109724570669295.\n"
     ]
    },
    {
     "name": "stdout",
     "output_type": "stream",
     "text": [
      "EvaluatorHoldout: Processed 10057 (100.0%) in 5.18 sec. Users per second: 1943\n",
      "MAP: 0.030876425012350384, RECALL: 0.11850379831504951\n",
      "EvaluatorHoldout: Processed 10040 (100.0%) in 5.71 sec. Users per second: 1759\n",
      "MAP: 0.031113992442927053, RECALL: 0.11848378028800313\n",
      "EvaluatorHoldout: Processed 10017 (100.0%) in 5.83 sec. Users per second: 1717\n",
      "MAP: 0.030582549348647216, RECALL: 0.11588496363528554\n",
      "EvaluatorHoldout: Processed 10037 (100.0%) in 5.62 sec. Users per second: 1784\n",
      "MAP: 0.030918616990152557, RECALL: 0.11898746618651732\n",
      "EvaluatorHoldout: Processed 9989 (100.0%) in 6.06 sec. Users per second: 1648\n",
      "MAP: 0.031190921124348122, RECALL: 0.1233522371626528\n",
      "EvaluatorHoldout: Processed 10024 (100.0%) in 5.83 sec. Users per second: 1718\n",
      "MAP: 0.031395690026476346, RECALL: 0.11883047468839365\n",
      "EvaluatorHoldout: Processed 10030 (100.0%) in 6.06 sec. Users per second: 1656\n",
      "MAP: 0.03144937409992271, RECALL: 0.12338634266001532\n",
      "EvaluatorHoldout: Processed 10052 (100.0%) in 5.98 sec. Users per second: 1681\n",
      "MAP: 0.030753719547243555, RECALL: 0.11929704228310473\n",
      "EvaluatorHoldout: Processed 10045 (100.0%) in 5.84 sec. Users per second: 1719\n",
      "MAP: 0.03113030252751522, RECALL: 0.11539761897325251\n",
      "EvaluatorHoldout: Processed 10068 (100.0%) in 5.27 sec. Users per second: 1909\n",
      "MAP: 0.031491524301417315, RECALL: 0.12240689880788913\n"
     ]
    },
    {
     "name": "stderr",
     "output_type": "stream",
     "text": [
      "[I 2024-01-10 15:46:11,060] Trial 130 finished with value: 0.031090311542100048 and parameters: {'w_slim': 0.7537669570449986, 'w_knn': 0.07454355544874164, 'w_p3': 0.0855464447841081, 'w_rp3': 0.7331503333760518}. Best is trial 106 with value: 0.031109724570669295.\n"
     ]
    },
    {
     "name": "stdout",
     "output_type": "stream",
     "text": [
      "EvaluatorHoldout: Processed 10057 (100.0%) in 5.28 sec. Users per second: 1904\n",
      "MAP: 0.030901689733598057, RECALL: 0.11867004300132761\n",
      "EvaluatorHoldout: Processed 10040 (100.0%) in 6.55 sec. Users per second: 1533\n",
      "MAP: 0.031172093372541884, RECALL: 0.11835964753007915\n",
      "EvaluatorHoldout: Processed 10017 (100.0%) in 6.67 sec. Users per second: 1503\n",
      "MAP: 0.030596798933876155, RECALL: 0.11579927213175373\n",
      "EvaluatorHoldout: Processed 10037 (100.0%) in 6.65 sec. Users per second: 1508\n",
      "MAP: 0.030927129145969682, RECALL: 0.11936173509314424\n",
      "EvaluatorHoldout: Processed 9989 (100.0%) in 6.84 sec. Users per second: 1461\n",
      "MAP: 0.03116669209145956, RECALL: 0.1234486378141364\n",
      "EvaluatorHoldout: Processed 10024 (100.0%) in 5.73 sec. Users per second: 1750\n",
      "MAP: 0.03143280333548709, RECALL: 0.11902183728169467\n",
      "EvaluatorHoldout: Processed 10030 (100.0%) in 5.70 sec. Users per second: 1760\n",
      "MAP: 0.031472942284258676, RECALL: 0.12344111610927042\n",
      "EvaluatorHoldout: Processed 10052 (100.0%) in 5.95 sec. Users per second: 1690\n",
      "MAP: 0.03077594919119025, RECALL: 0.11919377672692028\n",
      "EvaluatorHoldout: Processed 10045 (100.0%) in 5.20 sec. Users per second: 1930\n",
      "MAP: 0.03116071329809526, RECALL: 0.11558374247085852\n",
      "EvaluatorHoldout: Processed 10068 (100.0%) in 5.63 sec. Users per second: 1789\n",
      "MAP: 0.03148623881415924, RECALL: 0.12254048177086788\n"
     ]
    },
    {
     "name": "stderr",
     "output_type": "stream",
     "text": [
      "[I 2024-01-10 15:47:25,423] Trial 131 finished with value: 0.031109305020063586 and parameters: {'w_slim': 0.7604302642114694, 'w_knn': 0.08557215499834608, 'w_p3': 0.0892064973711015, 'w_rp3': 0.7498685717677892}. Best is trial 106 with value: 0.031109724570669295.\n"
     ]
    },
    {
     "name": "stdout",
     "output_type": "stream",
     "text": [
      "EvaluatorHoldout: Processed 10057 (100.0%) in 5.18 sec. Users per second: 1943\n",
      "MAP: 0.03089957480456656, RECALL: 0.11871933127976855\n",
      "EvaluatorHoldout: Processed 10040 (100.0%) in 6.19 sec. Users per second: 1622\n",
      "MAP: 0.031170121102890323, RECALL: 0.11829739653406322\n",
      "EvaluatorHoldout: Processed 10017 (100.0%) in 6.39 sec. Users per second: 1567\n",
      "MAP: 0.030601481449789584, RECALL: 0.11576797003396466\n",
      "EvaluatorHoldout: Processed 10037 (100.0%) in 6.76 sec. Users per second: 1485\n",
      "MAP: 0.030928386398895762, RECALL: 0.11936559720781434\n",
      "EvaluatorHoldout: Processed 9989 (100.0%) in 7.13 sec. Users per second: 1402\n",
      "MAP: 0.03116065370320073, RECALL: 0.12354609544488064\n",
      "EvaluatorHoldout: Processed 10024 (100.0%) in 6.61 sec. Users per second: 1517\n",
      "MAP: 0.03143217389376628, RECALL: 0.11895145794648512\n",
      "EvaluatorHoldout: Processed 10030 (100.0%) in 6.65 sec. Users per second: 1509\n",
      "MAP: 0.031469072939910775, RECALL: 0.12344599865217049\n",
      "EvaluatorHoldout: Processed 10052 (100.0%) in 6.58 sec. Users per second: 1529\n",
      "MAP: 0.03077229754483069, RECALL: 0.11920136029996344\n",
      "EvaluatorHoldout: Processed 10045 (100.0%) in 5.92 sec. Users per second: 1696\n",
      "MAP: 0.031162921614639072, RECALL: 0.11554582269151199\n",
      "EvaluatorHoldout: Processed 10068 (100.0%) in 5.38 sec. Users per second: 1871\n",
      "MAP: 0.03149203669018953, RECALL: 0.12266676589596012\n"
     ]
    },
    {
     "name": "stderr",
     "output_type": "stream",
     "text": [
      "[I 2024-01-10 15:48:42,400] Trial 132 finished with value: 0.03110887201426793 and parameters: {'w_slim': 0.7609269849749833, 'w_knn': 0.08646724696959539, 'w_p3': 0.08899285483348796, 'w_rp3': 0.7498246148078789}. Best is trial 106 with value: 0.031109724570669295.\n"
     ]
    },
    {
     "name": "stdout",
     "output_type": "stream",
     "text": [
      "EvaluatorHoldout: Processed 10057 (100.0%) in 6.97 sec. Users per second: 1444\n",
      "MAP: 0.030912587931331267, RECALL: 0.11865329043576274\n",
      "EvaluatorHoldout: Processed 10040 (100.0%) in 6.72 sec. Users per second: 1494\n",
      "MAP: 0.031143355150825593, RECALL: 0.11868484738586985\n",
      "EvaluatorHoldout: Processed 10017 (100.0%) in 6.45 sec. Users per second: 1554\n",
      "MAP: 0.03058011301422529, RECALL: 0.11603023006844984\n",
      "EvaluatorHoldout: Processed 10037 (100.0%) in 6.83 sec. Users per second: 1470\n",
      "MAP: 0.0308911906896865, RECALL: 0.11911571812605606\n",
      "EvaluatorHoldout: Processed 9989 (100.0%) in 7.29 sec. Users per second: 1370\n",
      "MAP: 0.031173775279792124, RECALL: 0.12345004079482143\n",
      "EvaluatorHoldout: Processed 10024 (100.0%) in 6.94 sec. Users per second: 1443\n",
      "MAP: 0.03143825057956165, RECALL: 0.11915744581887697\n",
      "EvaluatorHoldout: Processed 10030 (100.0%) in 6.91 sec. Users per second: 1452\n",
      "MAP: 0.03148295985060723, RECALL: 0.12342477898656647\n",
      "EvaluatorHoldout: Processed 10052 (100.0%) in 5.57 sec. Users per second: 1806\n",
      "MAP: 0.030765886438141037, RECALL: 0.11910561598832066\n",
      "EvaluatorHoldout: Processed 10045 (100.0%) in 5.93 sec. Users per second: 1694\n",
      "MAP: 0.031145318289917744, RECALL: 0.11535092695319685\n",
      "EvaluatorHoldout: Processed 10068 (100.0%) in 5.75 sec. Users per second: 1752\n",
      "MAP: 0.031502619489061974, RECALL: 0.12252782748929839\n"
     ]
    },
    {
     "name": "stderr",
     "output_type": "stream",
     "text": [
      "[I 2024-01-10 15:50:01,851] Trial 133 finished with value: 0.031103605671315045 and parameters: {'w_slim': 0.762824043484794, 'w_knn': 0.07931284875057842, 'w_p3': 0.0962109551275602, 'w_rp3': 0.7483038137247146}. Best is trial 106 with value: 0.031109724570669295.\n"
     ]
    },
    {
     "name": "stdout",
     "output_type": "stream",
     "text": [
      "EvaluatorHoldout: Processed 10057 (100.0%) in 5.22 sec. Users per second: 1926\n",
      "MAP: 0.03091137658205394, RECALL: 0.1185265910043155\n",
      "EvaluatorHoldout: Processed 10040 (100.0%) in 5.71 sec. Users per second: 1759\n",
      "MAP: 0.03115252086890563, RECALL: 0.11843673234505064\n",
      "EvaluatorHoldout: Processed 10017 (100.0%) in 5.70 sec. Users per second: 1756\n",
      "MAP: 0.03060371574672289, RECALL: 0.1158072035510057\n",
      "EvaluatorHoldout: Processed 10037 (100.0%) in 5.64 sec. Users per second: 1781\n",
      "MAP: 0.030922843415869466, RECALL: 0.11920085038233778\n",
      "EvaluatorHoldout: Processed 9989 (100.0%) in 5.99 sec. Users per second: 1667\n",
      "MAP: 0.031155366140850384, RECALL: 0.12357243077576593\n",
      "EvaluatorHoldout: Processed 10024 (100.0%) in 5.97 sec. Users per second: 1678\n",
      "MAP: 0.03142225325884564, RECALL: 0.11897363303125813\n",
      "EvaluatorHoldout: Processed 10030 (100.0%) in 5.94 sec. Users per second: 1689\n",
      "MAP: 0.031437409992245785, RECALL: 0.12338367012548508\n",
      "EvaluatorHoldout: Processed 10052 (100.0%) in 5.84 sec. Users per second: 1722\n",
      "MAP: 0.030776233427447404, RECALL: 0.11920194454038098\n",
      "EvaluatorHoldout: Processed 10045 (100.0%) in 5.08 sec. Users per second: 1979\n",
      "MAP: 0.031122488484360215, RECALL: 0.11554615515477666\n",
      "EvaluatorHoldout: Processed 10068 (100.0%) in 5.33 sec. Users per second: 1889\n",
      "MAP: 0.03147302312528799, RECALL: 0.12258972488995874\n"
     ]
    },
    {
     "name": "stderr",
     "output_type": "stream",
     "text": [
      "[I 2024-01-10 15:51:12,428] Trial 134 finished with value: 0.031097723104258936 and parameters: {'w_slim': 0.7702363136984327, 'w_knn': 0.08579830805176863, 'w_p3': 0.0911889628847207, 'w_rp3': 0.7423079702988148}. Best is trial 106 with value: 0.031109724570669295.\n"
     ]
    },
    {
     "name": "stdout",
     "output_type": "stream",
     "text": [
      "EvaluatorHoldout: Processed 10057 (100.0%) in 5.24 sec. Users per second: 1919\n",
      "MAP: 0.030874440293501865, RECALL: 0.11862311814315034\n",
      "EvaluatorHoldout: Processed 10040 (100.0%) in 5.66 sec. Users per second: 1774\n",
      "MAP: 0.031169662619364106, RECALL: 0.11850104942924533\n",
      "EvaluatorHoldout: Processed 10017 (100.0%) in 5.46 sec. Users per second: 1836\n",
      "MAP: 0.030561450296401164, RECALL: 0.11556403268975789\n",
      "EvaluatorHoldout: Processed 10037 (100.0%) in 5.05 sec. Users per second: 1987\n",
      "MAP: 0.03093282632039259, RECALL: 0.11938273398651335\n",
      "EvaluatorHoldout: Processed 9989 (100.0%) in 5.47 sec. Users per second: 1825\n",
      "MAP: 0.031164844821367225, RECALL: 0.12345763749955865\n",
      "EvaluatorHoldout: Processed 10024 (100.0%) in 5.53 sec. Users per second: 1812\n",
      "MAP: 0.03144156009703716, RECALL: 0.11900626560298201\n",
      "EvaluatorHoldout: Processed 10030 (100.0%) in 5.91 sec. Users per second: 1696\n",
      "MAP: 0.03147481761066043, RECALL: 0.12343030388629901\n",
      "EvaluatorHoldout: Processed 10052 (100.0%) in 5.73 sec. Users per second: 1754\n",
      "MAP: 0.030803180603718127, RECALL: 0.1191166016336901\n",
      "EvaluatorHoldout: Processed 10045 (100.0%) in 6.03 sec. Users per second: 1667\n",
      "MAP: 0.03114221321513526, RECALL: 0.1155461035713929\n",
      "EvaluatorHoldout: Processed 10068 (100.0%) in 5.60 sec. Users per second: 1798\n",
      "MAP: 0.03146835250455659, RECALL: 0.12250821710352267\n"
     ]
    },
    {
     "name": "stderr",
     "output_type": "stream",
     "text": [
      "[I 2024-01-10 15:52:22,250] Trial 135 finished with value: 0.031103334838213453 and parameters: {'w_slim': 0.7627282225778188, 'w_knn': 0.09129880051353174, 'w_p3': 0.08809857256801078, 'w_rp3': 0.7496555869300073}. Best is trial 106 with value: 0.031109724570669295.\n"
     ]
    },
    {
     "name": "stdout",
     "output_type": "stream",
     "text": [
      "EvaluatorHoldout: Processed 10057 (100.0%) in 5.19 sec. Users per second: 1938\n",
      "MAP: 0.030889580186587454, RECALL: 0.1183974464636264\n",
      "EvaluatorHoldout: Processed 10040 (100.0%) in 5.57 sec. Users per second: 1801\n",
      "MAP: 0.03114406263833585, RECALL: 0.11828926720872693\n",
      "EvaluatorHoldout: Processed 10017 (100.0%) in 5.58 sec. Users per second: 1795\n",
      "MAP: 0.030606005504927605, RECALL: 0.11582843789543326\n",
      "EvaluatorHoldout: Processed 10037 (100.0%) in 5.30 sec. Users per second: 1895\n",
      "MAP: 0.030925033724426208, RECALL: 0.1191130271130681\n",
      "EvaluatorHoldout: Processed 9989 (100.0%) in 5.24 sec. Users per second: 1907\n",
      "MAP: 0.031177005022985826, RECALL: 0.1236776257297192\n",
      "EvaluatorHoldout: Processed 10024 (100.0%) in 5.42 sec. Users per second: 1851\n",
      "MAP: 0.03142993323959027, RECALL: 0.11890043326520837\n",
      "EvaluatorHoldout: Processed 10030 (100.0%) in 5.77 sec. Users per second: 1739\n",
      "MAP: 0.03145414550000821, RECALL: 0.12340936314148747\n",
      "EvaluatorHoldout: Processed 10052 (100.0%) in 5.94 sec. Users per second: 1692\n",
      "MAP: 0.03076813664184365, RECALL: 0.11899873370184186\n",
      "EvaluatorHoldout: Processed 10045 (100.0%) in 5.73 sec. Users per second: 1753\n",
      "MAP: 0.031117925683630174, RECALL: 0.11548984615890001\n",
      "EvaluatorHoldout: Processed 10068 (100.0%) in 6.04 sec. Users per second: 1667\n",
      "MAP: 0.03148435480005829, RECALL: 0.12259367122171032\n"
     ]
    },
    {
     "name": "stderr",
     "output_type": "stream",
     "text": [
      "[I 2024-01-10 15:53:32,164] Trial 136 finished with value: 0.031099618294239358 and parameters: {'w_slim': 0.7541118967843022, 'w_knn': 0.08414877279277648, 'w_p3': 0.08291378211679555, 'w_rp3': 0.7265432811402744}. Best is trial 106 with value: 0.031109724570669295.\n"
     ]
    },
    {
     "name": "stdout",
     "output_type": "stream",
     "text": [
      "EvaluatorHoldout: Processed 10057 (100.0%) in 5.58 sec. Users per second: 1803\n",
      "MAP: 0.030855745267846523, RECALL: 0.11846331679898546\n",
      "EvaluatorHoldout: Processed 10040 (100.0%) in 5.77 sec. Users per second: 1739\n",
      "MAP: 0.031097368462657572, RECALL: 0.11825203465375367\n",
      "EvaluatorHoldout: Processed 10017 (100.0%) in 6.29 sec. Users per second: 1591\n",
      "MAP: 0.03057542653679239, RECALL: 0.11616428731011644\n",
      "EvaluatorHoldout: Processed 10037 (100.0%) in 6.30 sec. Users per second: 1592\n",
      "MAP: 0.03085077672927648, RECALL: 0.1190252229005868\n",
      "EvaluatorHoldout: Processed 9989 (100.0%) in 5.48 sec. Users per second: 1824\n",
      "MAP: 0.03118615794834658, RECALL: 0.12328057063964885\n",
      "EvaluatorHoldout: Processed 10024 (100.0%) in 4.91 sec. Users per second: 2042\n",
      "MAP: 0.03135197747627933, RECALL: 0.118615108310216\n",
      "EvaluatorHoldout: Processed 10030 (100.0%) in 5.37 sec. Users per second: 1867\n",
      "MAP: 0.03139259602145969, RECALL: 0.12313611358868336\n",
      "EvaluatorHoldout: Processed 10052 (100.0%) in 6.01 sec. Users per second: 1674\n",
      "MAP: 0.030660687441179137, RECALL: 0.11858466769699885\n",
      "EvaluatorHoldout: Processed 10045 (100.0%) in 5.96 sec. Users per second: 1686\n",
      "MAP: 0.03113271231837701, RECALL: 0.1154285577843134\n",
      "EvaluatorHoldout: Processed 10068 (100.0%) in 5.78 sec. Users per second: 1741\n",
      "MAP: 0.03141969527845603, RECALL: 0.12220319455889447\n"
     ]
    },
    {
     "name": "stderr",
     "output_type": "stream",
     "text": [
      "[I 2024-01-10 15:54:43,775] Trial 137 finished with value: 0.031052314348067073 and parameters: {'w_slim': 0.8685915045993081, 'w_knn': 0.08297814591583226, 'w_p3': 0.07738621578827665, 'w_rp3': 0.7374545924288318}. Best is trial 106 with value: 0.031109724570669295.\n"
     ]
    },
    {
     "name": "stdout",
     "output_type": "stream",
     "text": [
      "EvaluatorHoldout: Processed 10057 (100.0%) in 5.25 sec. Users per second: 1917\n",
      "MAP: 0.03090077037079145, RECALL: 0.11855656876025529\n",
      "EvaluatorHoldout: Processed 10040 (100.0%) in 6.04 sec. Users per second: 1662\n",
      "MAP: 0.031179429108961265, RECALL: 0.11851734910826327\n",
      "EvaluatorHoldout: Processed 10017 (100.0%) in 5.44 sec. Users per second: 1842\n",
      "MAP: 0.030613132278301758, RECALL: 0.11565555214749121\n",
      "EvaluatorHoldout: Processed 10037 (100.0%) in 5.55 sec. Users per second: 1809\n",
      "MAP: 0.03088087172699134, RECALL: 0.1190701450212483\n",
      "EvaluatorHoldout: Processed 9989 (100.0%) in 5.36 sec. Users per second: 1864\n",
      "MAP: 0.031163196182467552, RECALL: 0.12346128897856505\n",
      "EvaluatorHoldout: Processed 10024 (100.0%) in 5.66 sec. Users per second: 1771\n",
      "MAP: 0.031421706950937024, RECALL: 0.11890253474874311\n",
      "EvaluatorHoldout: Processed 10030 (100.0%) in 5.23 sec. Users per second: 1918\n",
      "MAP: 0.031440401019165023, RECALL: 0.12347932756284177\n",
      "EvaluatorHoldout: Processed 10052 (100.0%) in 5.35 sec. Users per second: 1877\n",
      "MAP: 0.030775475464094936, RECALL: 0.11903499710098937\n",
      "EvaluatorHoldout: Processed 10045 (100.0%) in 4.99 sec. Users per second: 2014\n",
      "MAP: 0.03112884875204452, RECALL: 0.11554265195818879\n",
      "EvaluatorHoldout: Processed 10068 (100.0%) in 5.55 sec. Users per second: 1814\n",
      "MAP: 0.03144447124631894, RECALL: 0.12232467835049046\n"
     ]
    },
    {
     "name": "stderr",
     "output_type": "stream",
     "text": [
      "[I 2024-01-10 15:55:52,462] Trial 138 finished with value: 0.031094830310007378 and parameters: {'w_slim': 0.7667801235198961, 'w_knn': 0.08844478174464072, 'w_p3': 0.09437572332949744, 'w_rp3': 0.7189548386284492}. Best is trial 106 with value: 0.031109724570669295.\n"
     ]
    },
    {
     "name": "stdout",
     "output_type": "stream",
     "text": [
      "EvaluatorHoldout: Processed 10057 (100.0%) in 5.53 sec. Users per second: 1820\n",
      "MAP: 0.03084717112459007, RECALL: 0.11835849617020809\n",
      "EvaluatorHoldout: Processed 10040 (100.0%) in 5.88 sec. Users per second: 1708\n",
      "MAP: 0.03103811341933888, RECALL: 0.11783464324274787\n",
      "EvaluatorHoldout: Processed 10017 (100.0%) in 5.78 sec. Users per second: 1733\n",
      "MAP: 0.030473171798419088, RECALL: 0.11530722285151428\n",
      "EvaluatorHoldout: Processed 10037 (100.0%) in 5.61 sec. Users per second: 1790\n",
      "MAP: 0.030881397559189984, RECALL: 0.11866864628620831\n",
      "EvaluatorHoldout: Processed 9989 (100.0%) in 5.53 sec. Users per second: 1808\n",
      "MAP: 0.03116971525821282, RECALL: 0.12284185785518256\n",
      "EvaluatorHoldout: Processed 10024 (100.0%) in 5.32 sec. Users per second: 1885\n",
      "MAP: 0.031333454471174194, RECALL: 0.11824729234060365\n",
      "EvaluatorHoldout: Processed 10030 (100.0%) in 5.42 sec. Users per second: 1851\n",
      "MAP: 0.03135163161309748, RECALL: 0.12268607177239109\n",
      "EvaluatorHoldout: Processed 10052 (100.0%) in 5.60 sec. Users per second: 1795\n",
      "MAP: 0.03064805077091234, RECALL: 0.11906053097992333\n",
      "EvaluatorHoldout: Processed 10045 (100.0%) in 5.50 sec. Users per second: 1825\n",
      "MAP: 0.031098378724312144, RECALL: 0.11488936441514784\n",
      "EvaluatorHoldout: Processed 10068 (100.0%) in 6.03 sec. Users per second: 1670\n",
      "MAP: 0.03136758534032098, RECALL: 0.12157627073250504\n"
     ]
    },
    {
     "name": "stderr",
     "output_type": "stream",
     "text": [
      "[I 2024-01-10 15:57:02,764] Trial 139 finished with value: 0.0310208670079568 and parameters: {'w_slim': 0.7738506382885909, 'w_knn': 0.028465706130098575, 'w_p3': 0.08500968671910887, 'w_rp3': 0.7266836103016612}. Best is trial 106 with value: 0.031109724570669295.\n"
     ]
    },
    {
     "name": "stdout",
     "output_type": "stream",
     "text": [
      "EvaluatorHoldout: Processed 10057 (100.0%) in 5.66 sec. Users per second: 1778\n",
      "MAP: 0.030912974616116893, RECALL: 0.11883895201874116\n",
      "EvaluatorHoldout: Processed 10040 (100.0%) in 5.81 sec. Users per second: 1729\n",
      "MAP: 0.031176302725605794, RECALL: 0.11848317190309214\n",
      "EvaluatorHoldout: Processed 10017 (100.0%) in 5.82 sec. Users per second: 1722\n",
      "MAP: 0.03057541069071494, RECALL: 0.11571863462574958\n",
      "EvaluatorHoldout: Processed 10037 (100.0%) in 6.01 sec. Users per second: 1669\n",
      "MAP: 0.0309264293542467, RECALL: 0.11935740633980403\n",
      "EvaluatorHoldout: Processed 9989 (100.0%) in 5.60 sec. Users per second: 1784\n",
      "MAP: 0.031157563001841932, RECALL: 0.12358640440840185\n",
      "EvaluatorHoldout: Processed 10024 (100.0%) in 6.15 sec. Users per second: 1631\n",
      "MAP: 0.031417391910209355, RECALL: 0.11921050997773656\n",
      "EvaluatorHoldout: Processed 10030 (100.0%) in 5.69 sec. Users per second: 1763\n",
      "MAP: 0.03144351073762869, RECALL: 0.12329530011717615\n",
      "EvaluatorHoldout: Processed 10052 (100.0%) in 5.75 sec. Users per second: 1749\n",
      "MAP: 0.03081987158837569, RECALL: 0.118989195746024\n",
      "EvaluatorHoldout: Processed 10045 (100.0%) in 5.74 sec. Users per second: 1750\n",
      "MAP: 0.031144682263149356, RECALL: 0.11555730640539312\n",
      "EvaluatorHoldout: Processed 10068 (100.0%) in 5.38 sec. Users per second: 1873\n",
      "MAP: 0.031466058579437885, RECALL: 0.12235600959440948\n"
     ]
    },
    {
     "name": "stderr",
     "output_type": "stream",
     "text": [
      "[I 2024-01-10 15:58:14,494] Trial 140 finished with value: 0.031104019546732725 and parameters: {'w_slim': 0.7604869226111057, 'w_knn': 0.09199922794769962, 'w_p3': 0.0955942538522646, 'w_rp3': 0.7403319212827575}. Best is trial 106 with value: 0.031109724570669295.\n"
     ]
    },
    {
     "name": "stdout",
     "output_type": "stream",
     "text": [
      "EvaluatorHoldout: Processed 10057 (100.0%) in 5.26 sec. Users per second: 1913\n",
      "MAP: 0.03089015626800274, RECALL: 0.1187152545162697\n",
      "EvaluatorHoldout: Processed 10040 (100.0%) in 5.08 sec. Users per second: 1977\n",
      "MAP: 0.031178227565927055, RECALL: 0.11855085706618508\n",
      "EvaluatorHoldout: Processed 10017 (100.0%) in 5.28 sec. Users per second: 1898\n",
      "MAP: 0.030595495593998406, RECALL: 0.11571758202973341\n",
      "EvaluatorHoldout: Processed 10037 (100.0%) in 5.22 sec. Users per second: 1921\n",
      "MAP: 0.030913603792950477, RECALL: 0.11931892597090417\n",
      "EvaluatorHoldout: Processed 9989 (100.0%) in 6.06 sec. Users per second: 1647\n",
      "MAP: 0.031177104338582198, RECALL: 0.12367917664138149\n",
      "EvaluatorHoldout: Processed 10024 (100.0%) in 5.77 sec. Users per second: 1739\n",
      "MAP: 0.03143918484526048, RECALL: 0.11921274872819919\n",
      "EvaluatorHoldout: Processed 10030 (100.0%) in 5.80 sec. Users per second: 1729\n",
      "MAP: 0.031442177435946454, RECALL: 0.12328845129770635\n",
      "EvaluatorHoldout: Processed 10052 (100.0%) in 5.82 sec. Users per second: 1726\n",
      "MAP: 0.030817897725478622, RECALL: 0.11905918634975009\n",
      "EvaluatorHoldout: Processed 10045 (100.0%) in 5.41 sec. Users per second: 1858\n",
      "MAP: 0.03116742120773996, RECALL: 0.1155388245694334\n",
      "EvaluatorHoldout: Processed 10068 (100.0%) in 5.54 sec. Users per second: 1818\n",
      "MAP: 0.03147664137831032, RECALL: 0.12253117392364583\n"
     ]
    },
    {
     "name": "stderr",
     "output_type": "stream",
     "text": [
      "[I 2024-01-10 15:59:23,879] Trial 141 finished with value: 0.031109791015219667 and parameters: {'w_slim': 0.7504521597182477, 'w_knn': 0.09211878792784821, 'w_p3': 0.09117379403251882, 'w_rp3': 0.7375642042518538}. Best is trial 141 with value: 0.031109791015219667.\n"
     ]
    },
    {
     "name": "stdout",
     "output_type": "stream",
     "text": [
      "EvaluatorHoldout: Processed 10057 (100.0%) in 5.11 sec. Users per second: 1969\n",
      "MAP: 0.03088861742038653, RECALL: 0.11880106879369177\n",
      "EvaluatorHoldout: Processed 10040 (100.0%) in 5.28 sec. Users per second: 1903\n",
      "MAP: 0.03117386801998384, RECALL: 0.1185317667607402\n",
      "EvaluatorHoldout: Processed 10017 (100.0%) in 5.93 sec. Users per second: 1690\n",
      "MAP: 0.030597603122311377, RECALL: 0.1157424075512146\n",
      "EvaluatorHoldout: Processed 10037 (100.0%) in 6.00 sec. Users per second: 1672\n",
      "MAP: 0.030922092227014284, RECALL: 0.11931362756776362\n",
      "EvaluatorHoldout: Processed 9989 (100.0%) in 5.98 sec. Users per second: 1669\n",
      "MAP: 0.03117410898019591, RECALL: 0.12365934741890519\n",
      "EvaluatorHoldout: Processed 10024 (100.0%) in 5.83 sec. Users per second: 1719\n",
      "MAP: 0.03142716211251748, RECALL: 0.11919773864354047\n",
      "EvaluatorHoldout: Processed 10030 (100.0%) in 6.04 sec. Users per second: 1662\n",
      "MAP: 0.03144865008150185, RECALL: 0.12346825851471076\n",
      "EvaluatorHoldout: Processed 10052 (100.0%) in 6.20 sec. Users per second: 1621\n",
      "MAP: 0.03082233496927121, RECALL: 0.11906272340288394\n",
      "EvaluatorHoldout: Processed 10045 (100.0%) in 5.70 sec. Users per second: 1761\n",
      "MAP: 0.031165868670348706, RECALL: 0.11552769825865555\n",
      "EvaluatorHoldout: Processed 10068 (100.0%) in 5.58 sec. Users per second: 1805\n",
      "MAP: 0.03147259744846186, RECALL: 0.12255196329187262\n"
     ]
    },
    {
     "name": "stderr",
     "output_type": "stream",
     "text": [
      "[I 2024-01-10 16:00:35,671] Trial 142 finished with value: 0.031109290305199305 and parameters: {'w_slim': 0.7504236532303531, 'w_knn': 0.09289004132038961, 'w_p3': 0.09122610005995396, 'w_rp3': 0.7393462814476511}. Best is trial 141 with value: 0.031109791015219667.\n"
     ]
    },
    {
     "name": "stdout",
     "output_type": "stream",
     "text": [
      "EvaluatorHoldout: Processed 10057 (100.0%) in 6.00 sec. Users per second: 1676\n",
      "MAP: 0.03089967344864453, RECALL: 0.11879894984910376\n",
      "EvaluatorHoldout: Processed 10040 (100.0%) in 5.42 sec. Users per second: 1854\n",
      "MAP: 0.031158923828495822, RECALL: 0.11828920508704868\n",
      "EvaluatorHoldout: Processed 10017 (100.0%) in 6.14 sec. Users per second: 1630\n",
      "MAP: 0.030613781967480942, RECALL: 0.11558306893912068\n",
      "EvaluatorHoldout: Processed 10037 (100.0%) in 6.01 sec. Users per second: 1670\n",
      "MAP: 0.030922135716895404, RECALL: 0.11929870288859906\n",
      "EvaluatorHoldout: Processed 9989 (100.0%) in 5.99 sec. Users per second: 1667\n",
      "MAP: 0.031194226347395056, RECALL: 0.12365439502542377\n",
      "EvaluatorHoldout: Processed 10024 (100.0%) in 5.82 sec. Users per second: 1723\n",
      "MAP: 0.031434018672646176, RECALL: 0.11911498981331047\n",
      "EvaluatorHoldout: Processed 10030 (100.0%) in 5.72 sec. Users per second: 1754\n",
      "MAP: 0.031462426213423544, RECALL: 0.1235588755948006\n",
      "EvaluatorHoldout: Processed 10052 (100.0%) in 5.98 sec. Users per second: 1682\n",
      "MAP: 0.030791850630689, RECALL: 0.11903322957326508\n",
      "EvaluatorHoldout: Processed 10045 (100.0%) in 5.33 sec. Users per second: 1886\n",
      "MAP: 0.031118150860809088, RECALL: 0.11547537374839247\n",
      "EvaluatorHoldout: Processed 10068 (100.0%) in 5.36 sec. Users per second: 1877\n",
      "MAP: 0.031446516859955774, RECALL: 0.1224051693453766\n"
     ]
    },
    {
     "name": "stderr",
     "output_type": "stream",
     "text": [
      "[I 2024-01-10 16:01:47,646] Trial 143 finished with value: 0.03110417045464353 and parameters: {'w_slim': 0.7544030909961038, 'w_knn': 0.09347823543084795, 'w_p3': 0.08685102079724727, 'w_rp3': 0.7342583059513067}. Best is trial 141 with value: 0.031109791015219667.\n"
     ]
    },
    {
     "name": "stdout",
     "output_type": "stream",
     "text": [
      "EvaluatorHoldout: Processed 10057 (100.0%) in 5.36 sec. Users per second: 1876\n",
      "MAP: 0.03090852774108237, RECALL: 0.11872540797761591\n",
      "EvaluatorHoldout: Processed 10040 (100.0%) in 5.99 sec. Users per second: 1676\n",
      "MAP: 0.03118741304622809, RECALL: 0.11839670777505772\n",
      "EvaluatorHoldout: Processed 10017 (100.0%) in 5.87 sec. Users per second: 1706\n",
      "MAP: 0.030586439560683607, RECALL: 0.11592859413988833\n",
      "EvaluatorHoldout: Processed 10037 (100.0%) in 6.08 sec. Users per second: 1651\n",
      "MAP: 0.030923045050772716, RECALL: 0.11947145912621986\n",
      "EvaluatorHoldout: Processed 9989 (100.0%) in 5.88 sec. Users per second: 1699\n",
      "MAP: 0.03119415484016567, RECALL: 0.12354686434568514\n",
      "EvaluatorHoldout: Processed 10024 (100.0%) in 5.99 sec. Users per second: 1672\n",
      "MAP: 0.03143502023714533, RECALL: 0.11902346415755063\n",
      "EvaluatorHoldout: Processed 10030 (100.0%) in 5.86 sec. Users per second: 1712\n",
      "MAP: 0.03146459826868635, RECALL: 0.12343380237773356\n",
      "EvaluatorHoldout: Processed 10052 (100.0%) in 5.84 sec. Users per second: 1723\n",
      "MAP: 0.030797776167105967, RECALL: 0.1191001453855863\n",
      "EvaluatorHoldout: Processed 10045 (100.0%) in 5.46 sec. Users per second: 1841\n",
      "MAP: 0.031157505510915357, RECALL: 0.11563140525967297\n",
      "EvaluatorHoldout: Processed 10068 (100.0%) in 5.79 sec. Users per second: 1739\n",
      "MAP: 0.03150371127129201, RECALL: 0.1226403323958973\n"
     ]
    },
    {
     "name": "stderr",
     "output_type": "stream",
     "text": [
      "[I 2024-01-10 16:02:59,888] Trial 144 finished with value: 0.031115819169407748 and parameters: {'w_slim': 0.7500305397194968, 'w_knn': 0.08623597916580886, 'w_p3': 0.09114067041495734, 'w_rp3': 0.7421050273797564}. Best is trial 144 with value: 0.031115819169407748.\n"
     ]
    },
    {
     "name": "stdout",
     "output_type": "stream",
     "text": [
      "EvaluatorHoldout: Processed 10057 (100.0%) in 5.74 sec. Users per second: 1752\n",
      "MAP: 0.030896031509286156, RECALL: 0.11869448285222925\n",
      "EvaluatorHoldout: Processed 10040 (100.0%) in 5.88 sec. Users per second: 1708\n",
      "MAP: 0.031181195851514878, RECALL: 0.1183766491207859\n",
      "EvaluatorHoldout: Processed 10017 (100.0%) in 5.75 sec. Users per second: 1743\n",
      "MAP: 0.0306053320466321, RECALL: 0.11583322150142797\n",
      "EvaluatorHoldout: Processed 10037 (100.0%) in 6.01 sec. Users per second: 1669\n",
      "MAP: 0.030924594871989765, RECALL: 0.11937204000953304\n",
      "EvaluatorHoldout: Processed 9989 (100.0%) in 5.95 sec. Users per second: 1678\n",
      "MAP: 0.031174017609847258, RECALL: 0.12355854385981736\n",
      "EvaluatorHoldout: Processed 10024 (100.0%) in 5.97 sec. Users per second: 1678\n",
      "MAP: 0.031429477982999734, RECALL: 0.11899837087266242\n",
      "EvaluatorHoldout: Processed 10030 (100.0%) in 5.85 sec. Users per second: 1715\n",
      "MAP: 0.031475082688442964, RECALL: 0.12344018276649418\n",
      "EvaluatorHoldout: Processed 10052 (100.0%) in 5.83 sec. Users per second: 1725\n",
      "MAP: 0.030790437344854687, RECALL: 0.11912856901130399\n",
      "EvaluatorHoldout: Processed 10045 (100.0%) in 5.66 sec. Users per second: 1776\n",
      "MAP: 0.03115438858470237, RECALL: 0.11561836661423011\n",
      "EvaluatorHoldout: Processed 10068 (100.0%) in 5.84 sec. Users per second: 1724\n",
      "MAP: 0.03148563577198885, RECALL: 0.12262570960862852\n"
     ]
    },
    {
     "name": "stderr",
     "output_type": "stream",
     "text": [
      "[I 2024-01-10 16:04:12,452] Trial 145 finished with value: 0.031111619426225874 and parameters: {'w_slim': 0.7503688438014484, 'w_knn': 0.08622321914330436, 'w_p3': 0.08922408722949561, 'w_rp3': 0.7426882413551938}. Best is trial 144 with value: 0.031115819169407748.\n"
     ]
    },
    {
     "name": "stdout",
     "output_type": "stream",
     "text": [
      "EvaluatorHoldout: Processed 10057 (100.0%) in 5.89 sec. Users per second: 1708\n",
      "MAP: 0.030926027200512834, RECALL: 0.11870686896136388\n",
      "EvaluatorHoldout: Processed 10040 (100.0%) in 5.95 sec. Users per second: 1686\n",
      "MAP: 0.031176259248719702, RECALL: 0.11846879427642708\n",
      "EvaluatorHoldout: Processed 10017 (100.0%) in 5.72 sec. Users per second: 1751\n",
      "MAP: 0.030599100576639015, RECALL: 0.11585856438095472\n",
      "EvaluatorHoldout: Processed 10037 (100.0%) in 6.11 sec. Users per second: 1644\n",
      "MAP: 0.03092471348075638, RECALL: 0.11940702658770502\n",
      "EvaluatorHoldout: Processed 9989 (100.0%) in 5.88 sec. Users per second: 1700\n",
      "MAP: 0.031175340493590796, RECALL: 0.12346474527593411\n",
      "EvaluatorHoldout: Processed 10024 (100.0%) in 5.82 sec. Users per second: 1724\n",
      "MAP: 0.03143880480497619, RECALL: 0.11899966826511225\n",
      "EvaluatorHoldout: Processed 10030 (100.0%) in 5.75 sec. Users per second: 1743\n",
      "MAP: 0.031475798794094255, RECALL: 0.12342501398711804\n",
      "EvaluatorHoldout: Processed 10052 (100.0%) in 5.76 sec. Users per second: 1744\n",
      "MAP: 0.030788404266070723, RECALL: 0.11918819692484157\n",
      "EvaluatorHoldout: Processed 10045 (100.0%) in 5.68 sec. Users per second: 1770\n",
      "MAP: 0.031158192893882483, RECALL: 0.11549714392537065\n",
      "EvaluatorHoldout: Processed 10068 (100.0%) in 5.90 sec. Users per second: 1705\n",
      "MAP: 0.03150271408391222, RECALL: 0.12266060409251982\n"
     ]
    },
    {
     "name": "stderr",
     "output_type": "stream",
     "text": [
      "[I 2024-01-10 16:05:24,971] Trial 146 finished with value: 0.031116535584315458 and parameters: {'w_slim': 0.7523830967945757, 'w_knn': 0.08528578336806432, 'w_p3': 0.09073595242277878, 'w_rp3': 0.7387658386603185}. Best is trial 146 with value: 0.031116535584315458.\n"
     ]
    },
    {
     "name": "stdout",
     "output_type": "stream",
     "text": [
      "EvaluatorHoldout: Processed 10057 (100.0%) in 5.49 sec. Users per second: 1831\n",
      "MAP: 0.030895333109214194, RECALL: 0.11853679375717002\n",
      "EvaluatorHoldout: Processed 10040 (100.0%) in 5.33 sec. Users per second: 1885\n",
      "MAP: 0.031164757636122493, RECALL: 0.11863239286763877\n",
      "EvaluatorHoldout: Processed 10017 (100.0%) in 5.56 sec. Users per second: 1800\n",
      "MAP: 0.030588737241927056, RECALL: 0.11587873347254031\n",
      "EvaluatorHoldout: Processed 10037 (100.0%) in 5.65 sec. Users per second: 1777\n",
      "MAP: 0.030903466697030754, RECALL: 0.11917682775843358\n",
      "EvaluatorHoldout: Processed 9989 (100.0%) in 5.86 sec. Users per second: 1703\n",
      "MAP: 0.0311668788047807, RECALL: 0.12357335708630751\n",
      "EvaluatorHoldout: Processed 10024 (100.0%) in 5.62 sec. Users per second: 1783\n",
      "MAP: 0.03143027369234493, RECALL: 0.11910282256673803\n",
      "EvaluatorHoldout: Processed 10030 (100.0%) in 5.47 sec. Users per second: 1833\n",
      "MAP: 0.03145829970406272, RECALL: 0.12341126873915503\n",
      "EvaluatorHoldout: Processed 10052 (100.0%) in 5.42 sec. Users per second: 1855\n",
      "MAP: 0.03078648961906057, RECALL: 0.11920881096406027\n",
      "EvaluatorHoldout: Processed 10045 (100.0%) in 5.79 sec. Users per second: 1736\n",
      "MAP: 0.031135054951132765, RECALL: 0.1155364896628608\n",
      "EvaluatorHoldout: Processed 10068 (100.0%) in 5.90 sec. Users per second: 1708\n",
      "MAP: 0.031482707273082985, RECALL: 0.12254243044303598\n"
     ]
    },
    {
     "name": "stderr",
     "output_type": "stream",
     "text": [
      "[I 2024-01-10 16:06:35,125] Trial 147 finished with value: 0.031101199872875924 and parameters: {'w_slim': 0.7507564467763898, 'w_knn': 0.0804904508921138, 'w_p3': 0.09218812218692414, 'w_rp3': 0.7186595921611042}. Best is trial 146 with value: 0.031116535584315458.\n"
     ]
    },
    {
     "name": "stdout",
     "output_type": "stream",
     "text": [
      "EvaluatorHoldout: Processed 10057 (100.0%) in 5.38 sec. Users per second: 1869\n",
      "MAP: 0.03091006658869857, RECALL: 0.11851679495292303\n",
      "EvaluatorHoldout: Processed 10040 (100.0%) in 5.50 sec. Users per second: 1825\n",
      "MAP: 0.03114723249857743, RECALL: 0.11849156891507645\n",
      "EvaluatorHoldout: Processed 10017 (100.0%) in 5.77 sec. Users per second: 1735\n",
      "MAP: 0.03058563933376776, RECALL: 0.11594087304079996\n",
      "EvaluatorHoldout: Processed 10037 (100.0%) in 5.95 sec. Users per second: 1687\n",
      "MAP: 0.030917347876349834, RECALL: 0.11930808768806668\n",
      "EvaluatorHoldout: Processed 9989 (100.0%) in 6.00 sec. Users per second: 1664\n",
      "MAP: 0.031168769773735467, RECALL: 0.1234207794904135\n",
      "EvaluatorHoldout: Processed 10024 (100.0%) in 5.92 sec. Users per second: 1693\n",
      "MAP: 0.03143466394937884, RECALL: 0.11898599927868939\n",
      "EvaluatorHoldout: Processed 10030 (100.0%) in 6.02 sec. Users per second: 1666\n",
      "MAP: 0.03146821440440615, RECALL: 0.1234857639118943\n",
      "EvaluatorHoldout: Processed 10052 (100.0%) in 6.01 sec. Users per second: 1674\n",
      "MAP: 0.030785775080691816, RECALL: 0.11917116164138238\n",
      "EvaluatorHoldout: Processed 10045 (100.0%) in 5.90 sec. Users per second: 1702\n",
      "MAP: 0.031169613722376453, RECALL: 0.11550173224353469\n",
      "EvaluatorHoldout: Processed 10068 (100.0%) in 5.93 sec. Users per second: 1699\n",
      "MAP: 0.031497586254737905, RECALL: 0.1224516414406688\n"
     ]
    },
    {
     "name": "stderr",
     "output_type": "stream",
     "text": [
      "[I 2024-01-10 16:07:47,637] Trial 148 finished with value: 0.031108490948272026 and parameters: {'w_slim': 0.7512190439212044, 'w_knn': 0.08276895220644183, 'w_p3': 0.09025305608781761, 'w_rp3': 0.7422527813699993}. Best is trial 146 with value: 0.031116535584315458.\n"
     ]
    },
    {
     "name": "stdout",
     "output_type": "stream",
     "text": [
      "EvaluatorHoldout: Processed 10057 (100.0%) in 5.62 sec. Users per second: 1790\n",
      "MAP: 0.03090745054775104, RECALL: 0.11854617652640521\n",
      "EvaluatorHoldout: Processed 10040 (100.0%) in 5.25 sec. Users per second: 1913\n",
      "MAP: 0.031159054259154165, RECALL: 0.1184024107569442\n",
      "EvaluatorHoldout: Processed 10017 (100.0%) in 5.46 sec. Users per second: 1835\n",
      "MAP: 0.03058844012797317, RECALL: 0.11581822482543801\n",
      "EvaluatorHoldout: Processed 10037 (100.0%) in 5.55 sec. Users per second: 1807\n",
      "MAP: 0.030912741902579755, RECALL: 0.11924122216258168\n",
      "EvaluatorHoldout: Processed 9989 (100.0%) in 5.93 sec. Users per second: 1685\n",
      "MAP: 0.03116590153931251, RECALL: 0.12359038703558825\n",
      "EvaluatorHoldout: Processed 10024 (100.0%) in 5.67 sec. Users per second: 1767\n",
      "MAP: 0.03142498875714179, RECALL: 0.11902206316485228\n",
      "EvaluatorHoldout: Processed 10030 (100.0%) in 5.82 sec. Users per second: 1722\n",
      "MAP: 0.03146668723986802, RECALL: 0.12350762366170177\n",
      "EvaluatorHoldout: Processed 10052 (100.0%) in 5.26 sec. Users per second: 1911\n",
      "MAP: 0.03078499343098458, RECALL: 0.11919617227870899\n",
      "EvaluatorHoldout: Processed 10045 (100.0%) in 5.99 sec. Users per second: 1677\n",
      "MAP: 0.031141845820790735, RECALL: 0.11553387748865188\n",
      "EvaluatorHoldout: Processed 10068 (100.0%) in 6.19 sec. Users per second: 1626\n",
      "MAP: 0.031488170125685305, RECALL: 0.12249455223174206\n"
     ]
    },
    {
     "name": "stderr",
     "output_type": "stream",
     "text": [
      "[I 2024-01-10 16:08:58,570] Trial 149 finished with value: 0.03110402737512411 and parameters: {'w_slim': 0.751538297061198, 'w_knn': 0.08289179703403042, 'w_p3': 0.09001215347379588, 'w_rp3': 0.7291296797404103}. Best is trial 146 with value: 0.031116535584315458.\n"
     ]
    },
    {
     "name": "stdout",
     "output_type": "stream",
     "text": [
      "EvaluatorHoldout: Processed 10057 (100.0%) in 5.82 sec. Users per second: 1728\n",
      "MAP: 0.03091300223645879, RECALL: 0.11863632372592353\n",
      "EvaluatorHoldout: Processed 10040 (100.0%) in 5.78 sec. Users per second: 1738\n",
      "MAP: 0.031080021185101187, RECALL: 0.11785173401859442\n",
      "EvaluatorHoldout: Processed 10017 (100.0%) in 5.69 sec. Users per second: 1760\n",
      "MAP: 0.030564663088622535, RECALL: 0.11586531831474856\n",
      "EvaluatorHoldout: Processed 10037 (100.0%) in 5.69 sec. Users per second: 1765\n",
      "MAP: 0.030872837959866235, RECALL: 0.11922830644298908\n",
      "EvaluatorHoldout: Processed 9989 (100.0%) in 5.61 sec. Users per second: 1781\n",
      "MAP: 0.031117407719920658, RECALL: 0.12342114002621567\n",
      "EvaluatorHoldout: Processed 10024 (100.0%) in 5.85 sec. Users per second: 1715\n",
      "MAP: 0.031324856059742535, RECALL: 0.11884126786080307\n",
      "EvaluatorHoldout: Processed 10030 (100.0%) in 6.08 sec. Users per second: 1650\n",
      "MAP: 0.031328886356802865, RECALL: 0.12321175902878836\n",
      "EvaluatorHoldout: Processed 10052 (100.0%) in 6.03 sec. Users per second: 1666\n",
      "MAP: 0.030710582747491097, RECALL: 0.11825282309328655\n",
      "EvaluatorHoldout: Processed 10045 (100.0%) in 5.33 sec. Users per second: 1884\n",
      "MAP: 0.031110656806276702, RECALL: 0.1157681007343641\n",
      "EvaluatorHoldout: Processed 10068 (100.0%) in 6.00 sec. Users per second: 1678\n",
      "MAP: 0.03128658849978896, RECALL: 0.12216136424150469\n"
     ]
    },
    {
     "name": "stderr",
     "output_type": "stream",
     "text": [
      "[I 2024-01-10 16:10:10,633] Trial 150 finished with value: 0.031030950266007155 and parameters: {'w_slim': 0.7587719197564229, 'w_knn': 0.08555729606559244, 'w_p3': 0.08828359541328323, 'w_rp3': 0.5577672190692529}. Best is trial 146 with value: 0.031116535584315458.\n"
     ]
    },
    {
     "name": "stdout",
     "output_type": "stream",
     "text": [
      "EvaluatorHoldout: Processed 10057 (100.0%) in 5.66 sec. Users per second: 1776\n",
      "MAP: 0.03091885774892654, RECALL: 0.11856651972358427\n",
      "EvaluatorHoldout: Processed 10040 (100.0%) in 5.36 sec. Users per second: 1874\n",
      "MAP: 0.03114500332005345, RECALL: 0.11865692424775591\n",
      "EvaluatorHoldout: Processed 10017 (100.0%) in 5.01 sec. Users per second: 1999\n",
      "MAP: 0.030599472959461232, RECALL: 0.11611245969594595\n",
      "EvaluatorHoldout: Processed 10037 (100.0%) in 5.10 sec. Users per second: 1970\n",
      "MAP: 0.030931916986515207, RECALL: 0.11912272414786612\n",
      "EvaluatorHoldout: Processed 9989 (100.0%) in 5.57 sec. Users per second: 1794\n",
      "MAP: 0.031179078732637883, RECALL: 0.12346568421185207\n",
      "EvaluatorHoldout: Processed 10024 (100.0%) in 5.72 sec. Users per second: 1752\n",
      "MAP: 0.03143235599640252, RECALL: 0.11897848629600662\n",
      "EvaluatorHoldout: Processed 10030 (100.0%) in 5.90 sec. Users per second: 1701\n",
      "MAP: 0.0314891159853775, RECALL: 0.12346101708464895\n",
      "EvaluatorHoldout: Processed 10052 (100.0%) in 5.21 sec. Users per second: 1930\n",
      "MAP: 0.030760154340287962, RECALL: 0.11925094025391716\n",
      "EvaluatorHoldout: Processed 10045 (100.0%) in 5.40 sec. Users per second: 1859\n",
      "MAP: 0.031147388339772767, RECALL: 0.11530324331181642\n",
      "EvaluatorHoldout: Processed 10068 (100.0%) in 5.08 sec. Users per second: 1982\n",
      "MAP: 0.031488765284951495, RECALL: 0.12232815344687935\n"
     ]
    },
    {
     "name": "stderr",
     "output_type": "stream",
     "text": [
      "[I 2024-01-10 16:11:18,801] Trial 151 finished with value: 0.03110921096943865 and parameters: {'w_slim': 0.7521572602882559, 'w_knn': 0.07715627638155281, 'w_p3': 0.09112083880306918, 'w_rp3': 0.7360950950747083}. Best is trial 146 with value: 0.031116535584315458.\n"
     ]
    },
    {
     "name": "stdout",
     "output_type": "stream",
     "text": [
      "EvaluatorHoldout: Processed 10057 (100.0%) in 5.52 sec. Users per second: 1822\n",
      "MAP: 0.030913972894185848, RECALL: 0.1186389786695314\n",
      "EvaluatorHoldout: Processed 10040 (100.0%) in 5.76 sec. Users per second: 1742\n",
      "MAP: 0.031137817776513324, RECALL: 0.11869499236600328\n",
      "EvaluatorHoldout: Processed 10017 (100.0%) in 5.78 sec. Users per second: 1733\n",
      "MAP: 0.030592203571389212, RECALL: 0.11597393726579723\n",
      "EvaluatorHoldout: Processed 10037 (100.0%) in 4.90 sec. Users per second: 2049\n",
      "MAP: 0.030910223443102038, RECALL: 0.11920647073288716\n",
      "EvaluatorHoldout: Processed 9989 (100.0%) in 4.91 sec. Users per second: 2035\n",
      "MAP: 0.031171713488011645, RECALL: 0.12347248165966036\n",
      "EvaluatorHoldout: Processed 10024 (100.0%) in 5.11 sec. Users per second: 1961\n",
      "MAP: 0.03144259333156001, RECALL: 0.1190957221374783\n",
      "EvaluatorHoldout: Processed 10030 (100.0%) in 5.61 sec. Users per second: 1788\n",
      "MAP: 0.031483126018769424, RECALL: 0.12349215029171352\n",
      "EvaluatorHoldout: Processed 10052 (100.0%) in 5.83 sec. Users per second: 1723\n",
      "MAP: 0.03076149261933218, RECALL: 0.11924379497312762\n",
      "EvaluatorHoldout: Processed 10045 (100.0%) in 5.90 sec. Users per second: 1702\n",
      "MAP: 0.031165536830295583, RECALL: 0.11542522792907176\n",
      "EvaluatorHoldout: Processed 10068 (100.0%) in 6.04 sec. Users per second: 1667\n",
      "MAP: 0.03149367239280855, RECALL: 0.12257884188204465\n"
     ]
    },
    {
     "name": "stderr",
     "output_type": "stream",
     "text": [
      "[I 2024-01-10 16:12:28,356] Trial 152 finished with value: 0.03110723523659678 and parameters: {'w_slim': 0.7509447896831698, 'w_knn': 0.07893709437894647, 'w_p3': 0.09158330994583494, 'w_rp3': 0.7494082542669371}. Best is trial 146 with value: 0.031116535584315458.\n"
     ]
    },
    {
     "name": "stdout",
     "output_type": "stream",
     "text": [
      "EvaluatorHoldout: Processed 10057 (100.0%) in 5.76 sec. Users per second: 1745\n",
      "MAP: 0.030902719577771944, RECALL: 0.11852659329745162\n",
      "EvaluatorHoldout: Processed 10040 (100.0%) in 6.11 sec. Users per second: 1642\n",
      "MAP: 0.031151999146272376, RECALL: 0.11879913678289669\n",
      "EvaluatorHoldout: Processed 10017 (100.0%) in 6.03 sec. Users per second: 1660\n",
      "MAP: 0.03057273666512986, RECALL: 0.11598887268818703\n",
      "EvaluatorHoldout: Processed 10037 (100.0%) in 6.11 sec. Users per second: 1641\n",
      "MAP: 0.030926682386282104, RECALL: 0.11912029502905\n",
      "EvaluatorHoldout: Processed 9989 (100.0%) in 5.51 sec. Users per second: 1813\n",
      "MAP: 0.03118194299443697, RECALL: 0.12346075355773632\n",
      "EvaluatorHoldout: Processed 10024 (100.0%) in 4.97 sec. Users per second: 2018\n",
      "MAP: 0.03142714231875266, RECALL: 0.11894831596585945\n",
      "EvaluatorHoldout: Processed 10030 (100.0%) in 5.21 sec. Users per second: 1927\n",
      "MAP: 0.031476423902894804, RECALL: 0.1234324098525332\n",
      "EvaluatorHoldout: Processed 10052 (100.0%) in 5.32 sec. Users per second: 1891\n",
      "MAP: 0.030760426733367763, RECALL: 0.11922994124838081\n",
      "EvaluatorHoldout: Processed 10045 (100.0%) in 5.82 sec. Users per second: 1727\n",
      "MAP: 0.031150303791667822, RECALL: 0.11539062232720358\n",
      "EvaluatorHoldout: Processed 10068 (100.0%) in 6.16 sec. Users per second: 1635\n",
      "MAP: 0.031498228711429224, RECALL: 0.12234833647694346\n"
     ]
    },
    {
     "name": "stderr",
     "output_type": "stream",
     "text": [
      "[I 2024-01-10 16:13:39,505] Trial 153 finished with value: 0.031104860622800552 and parameters: {'w_slim': 0.750964737841222, 'w_knn': 0.07758140719435819, 'w_p3': 0.09155421796732705, 'w_rp3': 0.7448820972018861}. Best is trial 146 with value: 0.031116535584315458.\n"
     ]
    },
    {
     "name": "stdout",
     "output_type": "stream",
     "text": [
      "EvaluatorHoldout: Processed 10057 (100.0%) in 5.41 sec. Users per second: 1859\n",
      "MAP: 0.030914067592500715, RECALL: 0.11866583138620763\n",
      "EvaluatorHoldout: Processed 10040 (100.0%) in 5.64 sec. Users per second: 1779\n",
      "MAP: 0.031143141718839237, RECALL: 0.11864740404663367\n",
      "EvaluatorHoldout: Processed 10017 (100.0%) in 5.68 sec. Users per second: 1762\n",
      "MAP: 0.03058232354204228, RECALL: 0.11607904443156802\n",
      "EvaluatorHoldout: Processed 10037 (100.0%) in 5.88 sec. Users per second: 1707\n",
      "MAP: 0.030896789023470553, RECALL: 0.11914832096285392\n",
      "EvaluatorHoldout: Processed 9989 (100.0%) in 5.35 sec. Users per second: 1868\n",
      "MAP: 0.031175348438838506, RECALL: 0.12345100438119999\n",
      "EvaluatorHoldout: Processed 10024 (100.0%) in 5.75 sec. Users per second: 1742\n",
      "MAP: 0.03142294208186089, RECALL: 0.11917844700333587\n",
      "EvaluatorHoldout: Processed 10030 (100.0%) in 5.27 sec. Users per second: 1904\n",
      "MAP: 0.03147770577157449, RECALL: 0.12344967056759285\n",
      "EvaluatorHoldout: Processed 10052 (100.0%) in 5.97 sec. Users per second: 1683\n",
      "MAP: 0.030770177616079246, RECALL: 0.11914895554556977\n",
      "EvaluatorHoldout: Processed 10045 (100.0%) in 5.47 sec. Users per second: 1836\n",
      "MAP: 0.03113670229996777, RECALL: 0.11542325921691786\n",
      "EvaluatorHoldout: Processed 10068 (100.0%) in 6.11 sec. Users per second: 1648\n",
      "MAP: 0.03149288410238974, RECALL: 0.12247950570151547\n"
     ]
    },
    {
     "name": "stderr",
     "output_type": "stream",
     "text": [
      "[I 2024-01-10 16:14:50,322] Trial 154 finished with value: 0.031101208218756348 and parameters: {'w_slim': 0.7512720895258207, 'w_knn': 0.07904271493830375, 'w_p3': 0.09308692803290863, 'w_rp3': 0.7303554073599291}. Best is trial 146 with value: 0.031116535584315458.\n"
     ]
    },
    {
     "name": "stdout",
     "output_type": "stream",
     "text": [
      "EvaluatorHoldout: Processed 10057 (100.0%) in 5.77 sec. Users per second: 1744\n",
      "MAP: 0.030890685000260577, RECALL: 0.11850640997943442\n",
      "EvaluatorHoldout: Processed 10040 (100.0%) in 5.30 sec. Users per second: 1895\n",
      "MAP: 0.03115259201290113, RECALL: 0.11846546679431694\n",
      "EvaluatorHoldout: Processed 10017 (100.0%) in 5.70 sec. Users per second: 1758\n",
      "MAP: 0.03056065006948531, RECALL: 0.11596176739516538\n",
      "EvaluatorHoldout: Processed 10037 (100.0%) in 5.77 sec. Users per second: 1741\n",
      "MAP: 0.030914011016382477, RECALL: 0.11907216644366228\n",
      "EvaluatorHoldout: Processed 9989 (100.0%) in 5.51 sec. Users per second: 1813\n",
      "MAP: 0.031201305563103788, RECALL: 0.1233782238929137\n",
      "EvaluatorHoldout: Processed 10024 (100.0%) in 5.67 sec. Users per second: 1768\n",
      "MAP: 0.0314074831515476, RECALL: 0.1189515229536131\n",
      "EvaluatorHoldout: Processed 10030 (100.0%) in 5.64 sec. Users per second: 1779\n",
      "MAP: 0.0314758581398664, RECALL: 0.12326078850026913\n",
      "EvaluatorHoldout: Processed 10052 (100.0%) in 5.56 sec. Users per second: 1807\n",
      "MAP: 0.030760675440092804, RECALL: 0.11930087291827486\n",
      "EvaluatorHoldout: Processed 10045 (100.0%) in 5.33 sec. Users per second: 1885\n",
      "MAP: 0.031154661167603088, RECALL: 0.11545146052469388\n",
      "EvaluatorHoldout: Processed 10068 (100.0%) in 4.92 sec. Users per second: 2046\n",
      "MAP: 0.03149917071847968, RECALL: 0.12246256898151377\n"
     ]
    },
    {
     "name": "stderr",
     "output_type": "stream",
     "text": [
      "[I 2024-01-10 16:15:59,623] Trial 155 finished with value: 0.031101709227972285 and parameters: {'w_slim': 0.7504548458497627, 'w_knn': 0.0750099741385144, 'w_p3': 0.09078351630019875, 'w_rp3': 0.74948681035237}. Best is trial 146 with value: 0.031116535584315458.\n"
     ]
    },
    {
     "name": "stdout",
     "output_type": "stream",
     "text": [
      "EvaluatorHoldout: Processed 10057 (100.0%) in 5.42 sec. Users per second: 1855\n",
      "MAP: 0.030879636863528938, RECALL: 0.11832289927931201\n",
      "EvaluatorHoldout: Processed 10040 (100.0%) in 5.50 sec. Users per second: 1824\n",
      "MAP: 0.031083507240878064, RECALL: 0.11794237968604988\n",
      "EvaluatorHoldout: Processed 10017 (100.0%) in 5.50 sec. Users per second: 1821\n",
      "MAP: 0.030542771732499384, RECALL: 0.11562940637825542\n",
      "EvaluatorHoldout: Processed 10037 (100.0%) in 5.55 sec. Users per second: 1810\n",
      "MAP: 0.030856015283135182, RECALL: 0.11902047197908965\n",
      "EvaluatorHoldout: Processed 9989 (100.0%) in 5.54 sec. Users per second: 1803\n",
      "MAP: 0.03114339662517678, RECALL: 0.12353786632809774\n",
      "EvaluatorHoldout: Processed 10024 (100.0%) in 6.00 sec. Users per second: 1671\n",
      "MAP: 0.03132110712068832, RECALL: 0.11881346098774125\n",
      "EvaluatorHoldout: Processed 10030 (100.0%) in 5.84 sec. Users per second: 1716\n",
      "MAP: 0.031366911171248436, RECALL: 0.12295652765579979\n",
      "EvaluatorHoldout: Processed 10052 (100.0%) in 6.01 sec. Users per second: 1671\n",
      "MAP: 0.03066346269241246, RECALL: 0.11848528860496338\n",
      "EvaluatorHoldout: Processed 10045 (100.0%) in 5.85 sec. Users per second: 1716\n",
      "MAP: 0.031131076820972492, RECALL: 0.1154515573134885\n",
      "EvaluatorHoldout: Processed 10068 (100.0%) in 5.61 sec. Users per second: 1794\n",
      "MAP: 0.03136419569152011, RECALL: 0.12237673924734997\n"
     ]
    },
    {
     "name": "stderr",
     "output_type": "stream",
     "text": [
      "[I 2024-01-10 16:17:10,622] Trial 156 finished with value: 0.031035208124206015 and parameters: {'w_slim': 0.7592947296741047, 'w_knn': 0.07202822025836438, 'w_p3': 0.08676279005478266, 'w_rp3': 0.5811949115688537}. Best is trial 146 with value: 0.031116535584315458.\n"
     ]
    },
    {
     "name": "stdout",
     "output_type": "stream",
     "text": [
      "EvaluatorHoldout: Processed 10057 (100.0%) in 5.60 sec. Users per second: 1796\n",
      "MAP: 0.030897373068746445, RECALL: 0.11860178267016644\n",
      "EvaluatorHoldout: Processed 10040 (100.0%) in 5.43 sec. Users per second: 1849\n",
      "MAP: 0.031145722664896274, RECALL: 0.11850955286738461\n",
      "EvaluatorHoldout: Processed 10017 (100.0%) in 5.58 sec. Users per second: 1794\n",
      "MAP: 0.030605625199066584, RECALL: 0.11582156194320774\n",
      "EvaluatorHoldout: Processed 10037 (100.0%) in 5.28 sec. Users per second: 1899\n",
      "MAP: 0.03090022472407673, RECALL: 0.1190623796571683\n",
      "EvaluatorHoldout: Processed 9989 (100.0%) in 5.25 sec. Users per second: 1904\n",
      "MAP: 0.031156836011676514, RECALL: 0.1235685395159178\n",
      "EvaluatorHoldout: Processed 10024 (100.0%) in 5.34 sec. Users per second: 1875\n",
      "MAP: 0.03141534127617548, RECALL: 0.11896847511720075\n",
      "EvaluatorHoldout: Processed 10030 (100.0%) in 5.21 sec. Users per second: 1927\n",
      "MAP: 0.03143911123771571, RECALL: 0.12332173176573481\n",
      "EvaluatorHoldout: Processed 10052 (100.0%) in 5.51 sec. Users per second: 1823\n",
      "MAP: 0.03075700405510422, RECALL: 0.11916590818278831\n",
      "EvaluatorHoldout: Processed 10045 (100.0%) in 5.26 sec. Users per second: 1909\n",
      "MAP: 0.031118154811285895, RECALL: 0.115431827699988\n",
      "EvaluatorHoldout: Processed 10068 (100.0%) in 5.32 sec. Users per second: 1893\n",
      "MAP: 0.03144903544784382, RECALL: 0.12253311233723653\n"
     ]
    },
    {
     "name": "stderr",
     "output_type": "stream",
     "text": [
      "[I 2024-01-10 16:18:18,569] Trial 157 finished with value: 0.03108844284965877 and parameters: {'w_slim': 0.7656915330808166, 'w_knn': 0.08224991505627499, 'w_p3': 0.09317171964066609, 'w_rp3': 0.7183498771266014}. Best is trial 146 with value: 0.031116535584315458.\n"
     ]
    },
    {
     "name": "stdout",
     "output_type": "stream",
     "text": [
      "EvaluatorHoldout: Processed 10057 (100.0%) in 5.27 sec. Users per second: 1910\n",
      "MAP: 0.030907825395247293, RECALL: 0.11856798205942837\n",
      "EvaluatorHoldout: Processed 10040 (100.0%) in 5.68 sec. Users per second: 1766\n",
      "MAP: 0.03115105846455478, RECALL: 0.11837727321188632\n",
      "EvaluatorHoldout: Processed 10017 (100.0%) in 5.79 sec. Users per second: 1729\n",
      "MAP: 0.03059816169654469, RECALL: 0.11582999053801232\n",
      "EvaluatorHoldout: Processed 10037 (100.0%) in 5.37 sec. Users per second: 1869\n",
      "MAP: 0.0309202616983829, RECALL: 0.11923884998724947\n",
      "EvaluatorHoldout: Processed 9989 (100.0%) in 5.83 sec. Users per second: 1713\n",
      "MAP: 0.03116419728367892, RECALL: 0.1235712751033719\n",
      "EvaluatorHoldout: Processed 10024 (100.0%) in 5.80 sec. Users per second: 1727\n",
      "MAP: 0.03142433160415023, RECALL: 0.11897743343410085\n",
      "EvaluatorHoldout: Processed 10030 (100.0%) in 5.50 sec. Users per second: 1824\n",
      "MAP: 0.03146153998322525, RECALL: 0.12348487444902237\n",
      "EvaluatorHoldout: Processed 10052 (100.0%) in 5.85 sec. Users per second: 1717\n",
      "MAP: 0.03078288139768472, RECALL: 0.11919617227870899\n",
      "EvaluatorHoldout: Processed 10045 (100.0%) in 5.73 sec. Users per second: 1754\n",
      "MAP: 0.03113484557586117, RECALL: 0.11552863790886615\n",
      "EvaluatorHoldout: Processed 10068 (100.0%) in 6.00 sec. Users per second: 1679\n",
      "MAP: 0.031467792818359236, RECALL: 0.12246480083751907\n"
     ]
    },
    {
     "name": "stderr",
     "output_type": "stream",
     "text": [
      "[I 2024-01-10 16:19:29,579] Trial 158 finished with value: 0.031101289591768923 and parameters: {'w_slim': 0.7588935110300318, 'w_knn': 0.08412893572308089, 'w_p3': 0.09011597062304479, 'w_rp3': 0.7357937152645713}. Best is trial 146 with value: 0.031116535584315458.\n"
     ]
    },
    {
     "name": "stdout",
     "output_type": "stream",
     "text": [
      "EvaluatorHoldout: Processed 10057 (100.0%) in 5.13 sec. Users per second: 1960\n",
      "MAP: 0.030905947212002845, RECALL: 0.11880280067403699\n",
      "EvaluatorHoldout: Processed 10040 (100.0%) in 5.50 sec. Users per second: 1826\n",
      "MAP: 0.031138157686713783, RECALL: 0.11827961513898867\n",
      "EvaluatorHoldout: Processed 10017 (100.0%) in 5.84 sec. Users per second: 1715\n",
      "MAP: 0.03057733995065554, RECALL: 0.11608100913084336\n",
      "EvaluatorHoldout: Processed 10037 (100.0%) in 5.23 sec. Users per second: 1920\n",
      "MAP: 0.03089928771482052, RECALL: 0.11892291314461083\n",
      "EvaluatorHoldout: Processed 9989 (100.0%) in 5.22 sec. Users per second: 1915\n",
      "MAP: 0.031152489961179756, RECALL: 0.12329712493403015\n",
      "EvaluatorHoldout: Processed 10024 (100.0%) in 5.69 sec. Users per second: 1763\n",
      "MAP: 0.03139586817035958, RECALL: 0.11883268497652548\n",
      "EvaluatorHoldout: Processed 10030 (100.0%) in 6.18 sec. Users per second: 1623\n",
      "MAP: 0.03145647581066357, RECALL: 0.12315613472466448\n",
      "EvaluatorHoldout: Processed 10052 (100.0%) in 5.82 sec. Users per second: 1726\n",
      "MAP: 0.030724999842091327, RECALL: 0.11898680358416752\n",
      "EvaluatorHoldout: Processed 10045 (100.0%) in 5.48 sec. Users per second: 1833\n",
      "MAP: 0.031174125166907794, RECALL: 0.11540770810019896\n",
      "EvaluatorHoldout: Processed 10068 (100.0%) in 5.59 sec. Users per second: 1801\n",
      "MAP: 0.03149440156144592, RECALL: 0.12236386707690719\n"
     ]
    },
    {
     "name": "stderr",
     "output_type": "stream",
     "text": [
      "[I 2024-01-10 16:20:39,424] Trial 159 finished with value: 0.031091909307684063 and parameters: {'w_slim': 0.7645100642761504, 'w_knn': 0.06770700755619984, 'w_p3': 0.09549090944241835, 'w_rp3': 0.7421279917397984}. Best is trial 146 with value: 0.031116535584315458.\n"
     ]
    },
    {
     "name": "stdout",
     "output_type": "stream",
     "text": [
      "EvaluatorHoldout: Processed 10057 (100.0%) in 4.60 sec. Users per second: 2185\n",
      "MAP: 0.030914375362023974, RECALL: 0.11874039661088998\n",
      "EvaluatorHoldout: Processed 10040 (100.0%) in 5.08 sec. Users per second: 1977\n",
      "MAP: 0.03117494308480395, RECALL: 0.11835332352182167\n",
      "EvaluatorHoldout: Processed 10017 (100.0%) in 5.60 sec. Users per second: 1790\n",
      "MAP: 0.030603814784707535, RECALL: 0.1158478207710437\n",
      "EvaluatorHoldout: Processed 10037 (100.0%) in 5.74 sec. Users per second: 1748\n",
      "MAP: 0.030925970733682466, RECALL: 0.11944463854146363\n",
      "EvaluatorHoldout: Processed 9989 (100.0%) in 5.47 sec. Users per second: 1827\n",
      "MAP: 0.031155139701290697, RECALL: 0.123534103176145\n",
      "EvaluatorHoldout: Processed 10024 (100.0%) in 5.84 sec. Users per second: 1716\n",
      "MAP: 0.03143069727891176, RECALL: 0.11917609329579813\n",
      "EvaluatorHoldout: Processed 10030 (100.0%) in 6.00 sec. Users per second: 1670\n",
      "MAP: 0.03148071262403302, RECALL: 0.12346072869772301\n",
      "EvaluatorHoldout: Processed 10052 (100.0%) in 5.82 sec. Users per second: 1727\n",
      "MAP: 0.030824972050101707, RECALL: 0.1190030697960714\n",
      "EvaluatorHoldout: Processed 10045 (100.0%) in 5.86 sec. Users per second: 1715\n",
      "MAP: 0.031162088064029515, RECALL: 0.11563390916181597\n",
      "EvaluatorHoldout: Processed 10068 (100.0%) in 5.52 sec. Users per second: 1825\n",
      "MAP: 0.031478253432216774, RECALL: 0.12254310197406772\n"
     ]
    },
    {
     "name": "stderr",
     "output_type": "stream",
     "text": [
      "[I 2024-01-10 16:21:49,116] Trial 160 finished with value: 0.031115096711580144 and parameters: {'w_slim': 0.7500862286508857, 'w_knn': 0.08818982086549518, 'w_p3': 0.08877779788495359, 'w_rp3': 0.7495559409873909}. Best is trial 146 with value: 0.031116535584315458.\n"
     ]
    },
    {
     "name": "stdout",
     "output_type": "stream",
     "text": [
      "EvaluatorHoldout: Processed 10057 (100.0%) in 4.92 sec. Users per second: 2045\n",
      "MAP: 0.03090296026932218, RECALL: 0.1185019750632331\n",
      "EvaluatorHoldout: Processed 10040 (100.0%) in 5.14 sec. Users per second: 1955\n",
      "MAP: 0.03114077420476855, RECALL: 0.11862253237509209\n",
      "EvaluatorHoldout: Processed 10017 (100.0%) in 5.14 sec. Users per second: 1950\n",
      "MAP: 0.030586570290823328, RECALL: 0.11572779967333909\n",
      "EvaluatorHoldout: Processed 10037 (100.0%) in 4.77 sec. Users per second: 2103\n",
      "MAP: 0.030914683132726613, RECALL: 0.11931853817519576\n",
      "EvaluatorHoldout: Processed 9989 (100.0%) in 5.17 sec. Users per second: 1933\n",
      "MAP: 0.031166068389514433, RECALL: 0.12350840172579278\n",
      "EvaluatorHoldout: Processed 10024 (100.0%) in 5.29 sec. Users per second: 1893\n",
      "MAP: 0.031424660180646026, RECALL: 0.11895075196663785\n",
      "EvaluatorHoldout: Processed 10030 (100.0%) in 5.31 sec. Users per second: 1888\n",
      "MAP: 0.0314984688790774, RECALL: 0.12359977720019877\n",
      "EvaluatorHoldout: Processed 10052 (100.0%) in 5.36 sec. Users per second: 1875\n",
      "MAP: 0.030762779577941064, RECALL: 0.1191902386996059\n",
      "EvaluatorHoldout: Processed 10045 (100.0%) in 5.24 sec. Users per second: 1917\n",
      "MAP: 0.031164193668175914, RECALL: 0.11549438076530216\n",
      "EvaluatorHoldout: Processed 10068 (100.0%) in 5.49 sec. Users per second: 1833\n",
      "MAP: 0.03147471006678425, RECALL: 0.12254626989290901\n"
     ]
    },
    {
     "name": "stderr",
     "output_type": "stream",
     "text": [
      "[I 2024-01-10 16:22:55,128] Trial 161 finished with value: 0.03110358686597798 and parameters: {'w_slim': 0.750327703753256, 'w_knn': 0.0806533968124255, 'w_p3': 0.08610107795624078, 'w_rp3': 0.7497439348564165}. Best is trial 146 with value: 0.031116535584315458.\n"
     ]
    },
    {
     "name": "stdout",
     "output_type": "stream",
     "text": [
      "EvaluatorHoldout: Processed 10057 (100.0%) in 5.11 sec. Users per second: 1967\n",
      "MAP: 0.03088321961644048, RECALL: 0.11853850581631105\n",
      "EvaluatorHoldout: Processed 10040 (100.0%) in 5.28 sec. Users per second: 1901\n",
      "MAP: 0.03117438974261714, RECALL: 0.11848266105903722\n",
      "EvaluatorHoldout: Processed 10017 (100.0%) in 5.37 sec. Users per second: 1866\n",
      "MAP: 0.030569040567543393, RECALL: 0.11556884172011485\n",
      "EvaluatorHoldout: Processed 10037 (100.0%) in 4.89 sec. Users per second: 2053\n",
      "MAP: 0.030922622012838467, RECALL: 0.11922263485913873\n",
      "EvaluatorHoldout: Processed 9989 (100.0%) in 5.04 sec. Users per second: 1980\n",
      "MAP: 0.03116455084720198, RECALL: 0.12337405539734528\n",
      "EvaluatorHoldout: Processed 10024 (100.0%) in 4.85 sec. Users per second: 2069\n",
      "MAP: 0.031436544357035384, RECALL: 0.11915863669522894\n",
      "EvaluatorHoldout: Processed 10030 (100.0%) in 4.93 sec. Users per second: 2035\n",
      "MAP: 0.03146715804966087, RECALL: 0.12354227499183741\n",
      "EvaluatorHoldout: Processed 10052 (100.0%) in 5.23 sec. Users per second: 1923\n",
      "MAP: 0.03078713309836501, RECALL: 0.11900107033730735\n",
      "EvaluatorHoldout: Processed 10045 (100.0%) in 5.55 sec. Users per second: 1810\n",
      "MAP: 0.031128659129157063, RECALL: 0.11558405462309529\n",
      "EvaluatorHoldout: Processed 10068 (100.0%) in 5.19 sec. Users per second: 1942\n",
      "MAP: 0.03146836827036498, RECALL: 0.12240349926290887\n"
     ]
    },
    {
     "name": "stderr",
     "output_type": "stream",
     "text": [
      "[I 2024-01-10 16:24:00,743] Trial 162 finished with value: 0.031100168569122476 and parameters: {'w_slim': 0.759947346583786, 'w_knn': 0.08821912334726796, 'w_p3': 0.08853800676655467, 'w_rp3': 0.7273972695486652}. Best is trial 146 with value: 0.031116535584315458.\n"
     ]
    },
    {
     "name": "stdout",
     "output_type": "stream",
     "text": [
      "EvaluatorHoldout: Processed 10057 (100.0%) in 5.02 sec. Users per second: 2003\n",
      "MAP: 0.03091381900942428, RECALL: 0.11855846411971054\n",
      "EvaluatorHoldout: Processed 10040 (100.0%) in 5.17 sec. Users per second: 1941\n",
      "MAP: 0.031173741541769724, RECALL: 0.11837364045068094\n",
      "EvaluatorHoldout: Processed 10017 (100.0%) in 5.10 sec. Users per second: 1964\n",
      "MAP: 0.030582521618011543, RECALL: 0.11578879736396855\n",
      "EvaluatorHoldout: Processed 10037 (100.0%) in 5.37 sec. Users per second: 1871\n",
      "MAP: 0.030929082236993224, RECALL: 0.11943635810633496\n",
      "EvaluatorHoldout: Processed 9989 (100.0%) in 5.00 sec. Users per second: 1998\n",
      "MAP: 0.031170160192084538, RECALL: 0.12340526592923882\n",
      "EvaluatorHoldout: Processed 10024 (100.0%) in 4.85 sec. Users per second: 2066\n",
      "MAP: 0.03144335341212856, RECALL: 0.11911477459392314\n",
      "EvaluatorHoldout: Processed 10030 (100.0%) in 5.54 sec. Users per second: 1809\n",
      "MAP: 0.0314696584848632, RECALL: 0.12338992246287554\n",
      "EvaluatorHoldout: Processed 10052 (100.0%) in 5.57 sec. Users per second: 1805\n",
      "MAP: 0.030794610091019078, RECALL: 0.11912648818145738\n",
      "EvaluatorHoldout: Processed 10045 (100.0%) in 5.00 sec. Users per second: 2011\n",
      "MAP: 0.031160029865604975, RECALL: 0.11555270283626086\n",
      "EvaluatorHoldout: Processed 10068 (100.0%) in 5.20 sec. Users per second: 1938\n",
      "MAP: 0.03148937226857398, RECALL: 0.12256335020409467\n"
     ]
    },
    {
     "name": "stderr",
     "output_type": "stream",
     "text": [
      "[I 2024-01-10 16:25:06,847] Trial 163 finished with value: 0.031112634872047306 and parameters: {'w_slim': 0.7555481317851498, 'w_knn': 0.08641543603761795, 'w_p3': 0.0914725378224964, 'w_rp3': 0.7348334213960899}. Best is trial 146 with value: 0.031116535584315458.\n"
     ]
    },
    {
     "name": "stdout",
     "output_type": "stream",
     "text": [
      "EvaluatorHoldout: Processed 10057 (100.0%) in 4.99 sec. Users per second: 2016\n",
      "MAP: 0.0309045148999909, RECALL: 0.11864423893950149\n",
      "EvaluatorHoldout: Processed 10040 (100.0%) in 5.75 sec. Users per second: 1747\n",
      "MAP: 0.03117791532283594, RECALL: 0.11836710095210959\n",
      "EvaluatorHoldout: Processed 10017 (100.0%) in 5.27 sec. Users per second: 1899\n",
      "MAP: 0.03058400718778103, RECALL: 0.11578879736396855\n",
      "EvaluatorHoldout: Processed 10037 (100.0%) in 5.25 sec. Users per second: 1912\n",
      "MAP: 0.030929928312861718, RECALL: 0.11944771957766297\n",
      "EvaluatorHoldout: Processed 9989 (100.0%) in 5.22 sec. Users per second: 1912\n",
      "MAP: 0.031165599619899568, RECALL: 0.12349125994932122\n",
      "EvaluatorHoldout: Processed 10024 (100.0%) in 4.99 sec. Users per second: 2011\n",
      "MAP: 0.03144761698906772, RECALL: 0.11909967924381601\n",
      "EvaluatorHoldout: Processed 10030 (100.0%) in 5.44 sec. Users per second: 1843\n",
      "MAP: 0.03147807371536218, RECALL: 0.12336638197323338\n",
      "EvaluatorHoldout: Processed 10052 (100.0%) in 5.18 sec. Users per second: 1940\n",
      "MAP: 0.030805446598323943, RECALL: 0.11914238614160456\n",
      "EvaluatorHoldout: Processed 10045 (100.0%) in 5.27 sec. Users per second: 1907\n",
      "MAP: 0.03116537881122271, RECALL: 0.11557565869794242\n",
      "EvaluatorHoldout: Processed 10068 (100.0%) in 5.31 sec. Users per second: 1895\n",
      "MAP: 0.031485501762617656, RECALL: 0.12252771020315985\n"
     ]
    },
    {
     "name": "stderr",
     "output_type": "stream",
     "text": [
      "[I 2024-01-10 16:26:14,512] Trial 164 finished with value: 0.03111439832199634 and parameters: {'w_slim': 0.7536418462761525, 'w_knn': 0.08648625607162387, 'w_p3': 0.09209367056375528, 'w_rp3': 0.7334736117787698}. Best is trial 146 with value: 0.031116535584315458.\n"
     ]
    },
    {
     "name": "stdout",
     "output_type": "stream",
     "text": [
      "EvaluatorHoldout: Processed 10057 (100.0%) in 5.61 sec. Users per second: 1794\n",
      "MAP: 0.030827177942868697, RECALL: 0.11760754301196931\n",
      "EvaluatorHoldout: Processed 10040 (100.0%) in 5.91 sec. Users per second: 1698\n",
      "MAP: 0.031044287137165907, RECALL: 0.11749487135235848\n",
      "EvaluatorHoldout: Processed 10017 (100.0%) in 6.05 sec. Users per second: 1655\n",
      "MAP: 0.03041256451334347, RECALL: 0.11478209607839349\n",
      "EvaluatorHoldout: Processed 10037 (100.0%) in 6.05 sec. Users per second: 1659\n",
      "MAP: 0.03077726696935652, RECALL: 0.11789904476753545\n",
      "EvaluatorHoldout: Processed 9989 (100.0%) in 6.09 sec. Users per second: 1640\n",
      "MAP: 0.031174387063865754, RECALL: 0.12249168411037795\n",
      "EvaluatorHoldout: Processed 10024 (100.0%) in 6.09 sec. Users per second: 1647\n",
      "MAP: 0.031289128314268166, RECALL: 0.11811166094429021\n",
      "EvaluatorHoldout: Processed 10030 (100.0%) in 5.08 sec. Users per second: 1975\n",
      "MAP: 0.0313394894681039, RECALL: 0.12246856274351446\n",
      "EvaluatorHoldout: Processed 10052 (100.0%) in 4.81 sec. Users per second: 2088\n",
      "MAP: 0.030597539619376453, RECALL: 0.11854051362477296\n",
      "EvaluatorHoldout: Processed 10045 (100.0%) in 4.85 sec. Users per second: 2069\n",
      "MAP: 0.03111072001390577, RECALL: 0.11469829844519587\n",
      "EvaluatorHoldout: Processed 10068 (100.0%) in 4.88 sec. Users per second: 2063\n",
      "MAP: 0.03134848900492545, RECALL: 0.12138063987525188\n"
     ]
    },
    {
     "name": "stderr",
     "output_type": "stream",
     "text": [
      "[I 2024-01-10 16:27:24,038] Trial 165 finished with value: 0.030992105004718003 and parameters: {'w_slim': 0.7504078015115264, 'w_knn': 0.00023334036203463, 'w_p3': 0.09226533235758225, 'w_rp3': 0.7328530578626032}. Best is trial 146 with value: 0.031116535584315458.\n"
     ]
    },
    {
     "name": "stdout",
     "output_type": "stream",
     "text": [
      "EvaluatorHoldout: Processed 10057 (100.0%) in 5.72 sec. Users per second: 1759\n",
      "MAP: 0.03090143325899536, RECALL: 0.11856076452720138\n",
      "EvaluatorHoldout: Processed 10040 (100.0%) in 5.75 sec. Users per second: 1745\n",
      "MAP: 0.031183662176690347, RECALL: 0.11852498174993063\n",
      "EvaluatorHoldout: Processed 10017 (100.0%) in 5.82 sec. Users per second: 1720\n",
      "MAP: 0.030590583309960638, RECALL: 0.1157140105540616\n",
      "EvaluatorHoldout: Processed 10037 (100.0%) in 5.67 sec. Users per second: 1770\n",
      "MAP: 0.030913085868002958, RECALL: 0.11922339495370318\n",
      "EvaluatorHoldout: Processed 9989 (100.0%) in 5.96 sec. Users per second: 1676\n",
      "MAP: 0.031158651500778064, RECALL: 0.12347846003444879\n",
      "EvaluatorHoldout: Processed 10024 (100.0%) in 5.12 sec. Users per second: 1957\n",
      "MAP: 0.031436176193010014, RECALL: 0.11913986377298394\n",
      "EvaluatorHoldout: Processed 10030 (100.0%) in 5.05 sec. Users per second: 1987\n",
      "MAP: 0.03146142920445044, RECALL: 0.12338138153993754\n",
      "EvaluatorHoldout: Processed 10052 (100.0%) in 5.24 sec. Users per second: 1918\n",
      "MAP: 0.030811447141530997, RECALL: 0.11904023413560257\n",
      "EvaluatorHoldout: Processed 10045 (100.0%) in 4.63 sec. Users per second: 2170\n",
      "MAP: 0.03113811657067026, RECALL: 0.11555433607434398\n",
      "EvaluatorHoldout: Processed 10068 (100.0%) in 4.93 sec. Users per second: 2043\n",
      "MAP: 0.031450911579040564, RECALL: 0.12238126899591574\n"
     ]
    },
    {
     "name": "stderr",
     "output_type": "stream",
     "text": [
      "[I 2024-01-10 16:28:32,064] Trial 166 finished with value: 0.031104549680312964 and parameters: {'w_slim': 0.7556941799364293, 'w_knn': 0.08899221162677705, 'w_p3': 0.09382031195999727, 'w_rp3': 0.7235644237976974}. Best is trial 146 with value: 0.031116535584315458.\n"
     ]
    },
    {
     "name": "stdout",
     "output_type": "stream",
     "text": [
      "EvaluatorHoldout: Processed 10057 (100.0%) in 5.76 sec. Users per second: 1745\n",
      "MAP: 0.03092128044748131, RECALL: 0.11859634892009413\n",
      "EvaluatorHoldout: Processed 10040 (100.0%) in 5.75 sec. Users per second: 1745\n",
      "MAP: 0.031176346202491913, RECALL: 0.11844517842238292\n",
      "EvaluatorHoldout: Processed 10017 (100.0%) in 5.94 sec. Users per second: 1686\n",
      "MAP: 0.030597167355178995, RECALL: 0.1158023961307164\n",
      "EvaluatorHoldout: Processed 10037 (100.0%) in 5.80 sec. Users per second: 1732\n",
      "MAP: 0.03091901235270792, RECALL: 0.11935654127767999\n",
      "EvaluatorHoldout: Processed 9989 (100.0%) in 5.04 sec. Users per second: 1980\n",
      "MAP: 0.031158413143346796, RECALL: 0.12343958939934163\n",
      "EvaluatorHoldout: Processed 10024 (100.0%) in 5.46 sec. Users per second: 1837\n",
      "MAP: 0.03144256562028929, RECALL: 0.1190134643590705\n",
      "EvaluatorHoldout: Processed 10030 (100.0%) in 5.46 sec. Users per second: 1837\n",
      "MAP: 0.03145997325483899, RECALL: 0.12343431185110185\n",
      "EvaluatorHoldout: Processed 10052 (100.0%) in 5.34 sec. Users per second: 1883\n",
      "MAP: 0.03078637118728673, RECALL: 0.11919786800637963\n",
      "EvaluatorHoldout: Processed 10045 (100.0%) in 5.31 sec. Users per second: 1890\n",
      "MAP: 0.03114536569563965, RECALL: 0.11551727437618448\n",
      "EvaluatorHoldout: Processed 10068 (100.0%) in 5.81 sec. Users per second: 1732\n",
      "MAP: 0.03148833172522115, RECALL: 0.12250809104573658\n"
     ]
    },
    {
     "name": "stderr",
     "output_type": "stream",
     "text": [
      "[I 2024-01-10 16:29:41,942] Trial 167 finished with value: 0.031109482698448276 and parameters: {'w_slim': 0.7683165767233051, 'w_knn': 0.08675413571301624, 'w_p3': 0.09119682345279052, 'w_rp3': 0.7499778622022829}. Best is trial 146 with value: 0.031116535584315458.\n"
     ]
    },
    {
     "name": "stdout",
     "output_type": "stream",
     "text": [
      "EvaluatorHoldout: Processed 10057 (100.0%) in 5.83 sec. Users per second: 1726\n",
      "MAP: 0.030895992051654938, RECALL: 0.11872918487527903\n",
      "EvaluatorHoldout: Processed 10040 (100.0%) in 5.71 sec. Users per second: 1759\n",
      "MAP: 0.03116202649718614, RECALL: 0.11847794461351834\n",
      "EvaluatorHoldout: Processed 10017 (100.0%) in 5.67 sec. Users per second: 1766\n",
      "MAP: 0.030613710660132014, RECALL: 0.1158693386603191\n",
      "EvaluatorHoldout: Processed 10037 (100.0%) in 5.10 sec. Users per second: 1968\n",
      "MAP: 0.030888411290922266, RECALL: 0.11908694065470352\n",
      "EvaluatorHoldout: Processed 9989 (100.0%) in 5.54 sec. Users per second: 1802\n",
      "MAP: 0.03115867930914499, RECALL: 0.12360461454678266\n",
      "EvaluatorHoldout: Processed 10024 (100.0%) in 5.40 sec. Users per second: 1856\n",
      "MAP: 0.031422304722634166, RECALL: 0.11904534020663451\n",
      "EvaluatorHoldout: Processed 10030 (100.0%) in 5.34 sec. Users per second: 1879\n",
      "MAP: 0.03142199591701116, RECALL: 0.12335359046728829\n",
      "EvaluatorHoldout: Processed 10052 (100.0%) in 5.07 sec. Users per second: 1984\n",
      "MAP: 0.030768132694117864, RECALL: 0.11914781614296471\n",
      "EvaluatorHoldout: Processed 10045 (100.0%) in 5.75 sec. Users per second: 1747\n",
      "MAP: 0.03111288882568143, RECALL: 0.11554592506544188\n",
      "EvaluatorHoldout: Processed 10068 (100.0%) in 5.86 sec. Users per second: 1719\n",
      "MAP: 0.03143524824841895, RECALL: 0.12236563630364541\n"
     ]
    },
    {
     "name": "stderr",
     "output_type": "stream",
     "text": [
      "[I 2024-01-10 16:30:51,783] Trial 168 finished with value: 0.03108793902169039 and parameters: {'w_slim': 0.7695746598113892, 'w_knn': 0.08635395573942647, 'w_p3': 0.09639634495941418, 'w_rp3': 0.7159702920990144}. Best is trial 146 with value: 0.031116535584315458.\n"
     ]
    },
    {
     "name": "stdout",
     "output_type": "stream",
     "text": [
      "EvaluatorHoldout: Processed 10057 (100.0%) in 5.78 sec. Users per second: 1739\n",
      "MAP: 0.030903074696452648, RECALL: 0.11852043658984812\n",
      "EvaluatorHoldout: Processed 10040 (100.0%) in 5.21 sec. Users per second: 1927\n",
      "MAP: 0.031152864731550288, RECALL: 0.11850990009802334\n",
      "EvaluatorHoldout: Processed 10017 (100.0%) in 5.35 sec. Users per second: 1871\n",
      "MAP: 0.030593716871794387, RECALL: 0.11581990319601045\n",
      "EvaluatorHoldout: Processed 10037 (100.0%) in 4.99 sec. Users per second: 2011\n",
      "MAP: 0.03093194466189409, RECALL: 0.11911856000106633\n",
      "EvaluatorHoldout: Processed 9989 (100.0%) in 5.45 sec. Users per second: 1831\n",
      "MAP: 0.031175483508049544, RECALL: 0.1235455625170173\n",
      "EvaluatorHoldout: Processed 10024 (100.0%) in 5.35 sec. Users per second: 1873\n",
      "MAP: 0.03140721791509919, RECALL: 0.11898723356315791\n",
      "EvaluatorHoldout: Processed 10030 (100.0%) in 5.63 sec. Users per second: 1781\n",
      "MAP: 0.0314599534729149, RECALL: 0.12342552034363986\n",
      "EvaluatorHoldout: Processed 10052 (100.0%) in 6.01 sec. Users per second: 1674\n",
      "MAP: 0.03076129128531665, RECALL: 0.11919764621236599\n",
      "EvaluatorHoldout: Processed 10045 (100.0%) in 5.90 sec. Users per second: 1703\n",
      "MAP: 0.031107658394368364, RECALL: 0.1155351869802494\n",
      "EvaluatorHoldout: Processed 10068 (100.0%) in 5.99 sec. Users per second: 1682\n",
      "MAP: 0.03148151695455059, RECALL: 0.12252556984092229\n"
     ]
    },
    {
     "name": "stderr",
     "output_type": "stream",
     "text": [
      "[I 2024-01-10 16:32:01,618] Trial 169 finished with value: 0.031097472249199072 and parameters: {'w_slim': 0.7645289324642504, 'w_knn': 0.08391117820388659, 'w_p3': 0.0874527478666722, 'w_rp3': 0.7338223646075039}. Best is trial 146 with value: 0.031116535584315458.\n"
     ]
    },
    {
     "name": "stdout",
     "output_type": "stream",
     "text": [
      "EvaluatorHoldout: Processed 10057 (100.0%) in 5.09 sec. Users per second: 1977\n",
      "MAP: 0.030897538790797426, RECALL: 0.11856076452720138\n",
      "EvaluatorHoldout: Processed 10040 (100.0%) in 5.42 sec. Users per second: 1853\n",
      "MAP: 0.031178263137924784, RECALL: 0.11853881530460085\n",
      "EvaluatorHoldout: Processed 10017 (100.0%) in 4.71 sec. Users per second: 2129\n",
      "MAP: 0.030585461065395437, RECALL: 0.11570814390399008\n",
      "EvaluatorHoldout: Processed 10037 (100.0%) in 4.96 sec. Users per second: 2025\n",
      "MAP: 0.030905273503908832, RECALL: 0.11922339495370318\n",
      "EvaluatorHoldout: Processed 9989 (100.0%) in 5.40 sec. Users per second: 1848\n",
      "MAP: 0.031158472732704594, RECALL: 0.12347220816207442\n",
      "EvaluatorHoldout: Processed 10024 (100.0%) in 5.80 sec. Users per second: 1729\n",
      "MAP: 0.03144562177757532, RECALL: 0.1191766801755226\n",
      "EvaluatorHoldout: Processed 10030 (100.0%) in 5.82 sec. Users per second: 1724\n",
      "MAP: 0.03145924132364841, RECALL: 0.1233655200335476\n",
      "EvaluatorHoldout: Processed 10052 (100.0%) in 5.81 sec. Users per second: 1731\n",
      "MAP: 0.030809733828536356, RECALL: 0.11904991572606408\n",
      "EvaluatorHoldout: Processed 10045 (100.0%) in 5.69 sec. Users per second: 1765\n",
      "MAP: 0.031139380723253483, RECALL: 0.11555433607434398\n",
      "EvaluatorHoldout: Processed 10068 (100.0%) in 6.21 sec. Users per second: 1620\n",
      "MAP: 0.0314529296025127, RECALL: 0.1223614040773619\n"
     ]
    },
    {
     "name": "stderr",
     "output_type": "stream",
     "text": [
      "[I 2024-01-10 16:33:10,910] Trial 170 finished with value: 0.03110319164862574 and parameters: {'w_slim': 0.7599041558336711, 'w_knn': 0.08939011295174776, 'w_p3': 0.09467290239545885, 'w_rp3': 0.7288290881611582}. Best is trial 146 with value: 0.031116535584315458.\n"
     ]
    },
    {
     "name": "stdout",
     "output_type": "stream",
     "text": [
      "EvaluatorHoldout: Processed 10057 (100.0%) in 4.78 sec. Users per second: 2103\n",
      "MAP: 0.03091423331455172, RECALL: 0.11850331458897388\n",
      "EvaluatorHoldout: Processed 10040 (100.0%) in 5.17 sec. Users per second: 1942\n",
      "MAP: 0.031159579934231622, RECALL: 0.11840195485201795\n",
      "EvaluatorHoldout: Processed 10017 (100.0%) in 5.25 sec. Users per second: 1908\n",
      "MAP: 0.03059669989589153, RECALL: 0.11578073594090091\n",
      "EvaluatorHoldout: Processed 10037 (100.0%) in 5.42 sec. Users per second: 1853\n",
      "MAP: 0.030915754565251675, RECALL: 0.11917973802188102\n",
      "EvaluatorHoldout: Processed 9989 (100.0%) in 6.04 sec. Users per second: 1654\n",
      "MAP: 0.03116239768507285, RECALL: 0.12338978356461319\n",
      "EvaluatorHoldout: Processed 10024 (100.0%) in 5.87 sec. Users per second: 1709\n",
      "MAP: 0.03143174634844648, RECALL: 0.11905335400403952\n",
      "EvaluatorHoldout: Processed 10030 (100.0%) in 6.00 sec. Users per second: 1672\n",
      "MAP: 0.031452598553546034, RECALL: 0.12334128266797453\n",
      "EvaluatorHoldout: Processed 10052 (100.0%) in 6.05 sec. Users per second: 1662\n",
      "MAP: 0.030769514398145816, RECALL: 0.11917203872306967\n",
      "EvaluatorHoldout: Processed 10045 (100.0%) in 5.63 sec. Users per second: 1786\n",
      "MAP: 0.031129441323567937, RECALL: 0.11548485676337861\n",
      "EvaluatorHoldout: Processed 10068 (100.0%) in 5.42 sec. Users per second: 1858\n",
      "MAP: 0.03148053159152709, RECALL: 0.12254808364631721\n"
     ]
    },
    {
     "name": "stderr",
     "output_type": "stream",
     "text": [
      "[I 2024-01-10 16:34:20,826] Trial 171 finished with value: 0.031101249761023277 and parameters: {'w_slim': 0.7677384281962903, 'w_knn': 0.08674215755486137, 'w_p3': 0.09057492412138639, 'w_rp3': 0.7412464147367768}. Best is trial 146 with value: 0.031116535584315458.\n"
     ]
    },
    {
     "name": "stdout",
     "output_type": "stream",
     "text": [
      "EvaluatorHoldout: Processed 10057 (100.0%) in 4.79 sec. Users per second: 2099\n",
      "MAP: 0.030900431035163226, RECALL: 0.11867627727159792\n",
      "EvaluatorHoldout: Processed 10040 (100.0%) in 4.92 sec. Users per second: 2039\n",
      "MAP: 0.031147675172326875, RECALL: 0.11872997527605132\n",
      "EvaluatorHoldout: Processed 10017 (100.0%) in 5.85 sec. Users per second: 1713\n",
      "MAP: 0.030582648386631876, RECALL: 0.11597059814914143\n",
      "EvaluatorHoldout: Processed 10037 (100.0%) in 5.86 sec. Users per second: 1712\n",
      "MAP: 0.03091652947586022, RECALL: 0.11935354447282717\n",
      "EvaluatorHoldout: Processed 9989 (100.0%) in 6.17 sec. Users per second: 1620\n",
      "MAP: 0.03116026835868686, RECALL: 0.123379173436971\n",
      "EvaluatorHoldout: Processed 10024 (100.0%) in 5.67 sec. Users per second: 1767\n",
      "MAP: 0.03144500817086632, RECALL: 0.11899779797363404\n",
      "EvaluatorHoldout: Processed 10030 (100.0%) in 5.80 sec. Users per second: 1728\n",
      "MAP: 0.031483319881625296, RECALL: 0.12343126187749798\n",
      "EvaluatorHoldout: Processed 10052 (100.0%) in 6.09 sec. Users per second: 1652\n",
      "MAP: 0.030774259564550373, RECALL: 0.11905514921719268\n",
      "EvaluatorHoldout: Processed 10045 (100.0%) in 5.04 sec. Users per second: 1994\n",
      "MAP: 0.031181421697599094, RECALL: 0.11560484433622309\n",
      "EvaluatorHoldout: Processed 10068 (100.0%) in 5.05 sec. Users per second: 1993\n",
      "MAP: 0.03150061328994614, RECALL: 0.12251467752017445\n"
     ]
    },
    {
     "name": "stderr",
     "output_type": "stream",
     "text": [
      "[I 2024-01-10 16:35:30,387] Trial 172 finished with value: 0.031109217503325626 and parameters: {'w_slim': 0.7504223790381481, 'w_knn': 0.08207786119581428, 'w_p3': 0.09178363228172616, 'w_rp3': 0.7499528428046418}. Best is trial 146 with value: 0.031116535584315458.\n"
     ]
    },
    {
     "name": "stdout",
     "output_type": "stream",
     "text": [
      "EvaluatorHoldout: Processed 10057 (100.0%) in 4.93 sec. Users per second: 2039\n",
      "MAP: 0.03092228267131337, RECALL: 0.11871704224239328\n",
      "EvaluatorHoldout: Processed 10040 (100.0%) in 5.84 sec. Users per second: 1720\n",
      "MAP: 0.03115805033832952, RECALL: 0.11870483994215109\n",
      "EvaluatorHoldout: Processed 10017 (100.0%) in 6.00 sec. Users per second: 1669\n",
      "MAP: 0.03058424487894414, RECALL: 0.11595101364830664\n",
      "EvaluatorHoldout: Processed 10037 (100.0%) in 6.26 sec. Users per second: 1603\n",
      "MAP: 0.030923274361054846, RECALL: 0.11934971107082785\n",
      "EvaluatorHoldout: Processed 9989 (100.0%) in 6.03 sec. Users per second: 1655\n",
      "MAP: 0.031178888046692874, RECALL: 0.12348484523150052\n",
      "EvaluatorHoldout: Processed 10024 (100.0%) in 5.93 sec. Users per second: 1692\n",
      "MAP: 0.03143890773255318, RECALL: 0.11903182759821607\n",
      "EvaluatorHoldout: Processed 10030 (100.0%) in 5.64 sec. Users per second: 1778\n",
      "MAP: 0.03147606782826159, RECALL: 0.12339560856113799\n",
      "EvaluatorHoldout: Processed 10052 (100.0%) in 5.19 sec. Users per second: 1936\n",
      "MAP: 0.030774926730209574, RECALL: 0.11906711264837616\n",
      "EvaluatorHoldout: Processed 10045 (100.0%) in 4.76 sec. Users per second: 2112\n",
      "MAP: 0.031187896529111244, RECALL: 0.1156293803886337\n",
      "EvaluatorHoldout: Processed 10068 (100.0%) in 5.24 sec. Users per second: 1920\n",
      "MAP: 0.031501370048748166, RECALL: 0.12243362294082669\n"
     ]
    },
    {
     "name": "stderr",
     "output_type": "stream",
     "text": [
      "[I 2024-01-10 16:36:40,400] Trial 173 finished with value: 0.031114590916521846 and parameters: {'w_slim': 0.7549687833122978, 'w_knn': 0.08310582668045027, 'w_p3': 0.09265286539483839, 'w_rp3': 0.7499533934289863}. Best is trial 146 with value: 0.031116535584315458.\n"
     ]
    },
    {
     "name": "stdout",
     "output_type": "stream",
     "text": [
      "EvaluatorHoldout: Processed 10057 (100.0%) in 4.61 sec. Users per second: 2184\n",
      "MAP: 0.030910327009064393, RECALL: 0.11864350299378999\n",
      "EvaluatorHoldout: Processed 10040 (100.0%) in 4.78 sec. Users per second: 2100\n",
      "MAP: 0.031144398596092127, RECALL: 0.11851680236909476\n",
      "EvaluatorHoldout: Processed 10017 (100.0%) in 5.00 sec. Users per second: 2003\n",
      "MAP: 0.030587695362328735, RECALL: 0.11603617527917846\n",
      "EvaluatorHoldout: Processed 10037 (100.0%) in 4.72 sec. Users per second: 2126\n",
      "MAP: 0.03090345878977965, RECALL: 0.11923538444887066\n",
      "EvaluatorHoldout: Processed 9989 (100.0%) in 4.92 sec. Users per second: 2032\n",
      "MAP: 0.03116978279281836, RECALL: 0.12348621882873091\n",
      "EvaluatorHoldout: Processed 10024 (100.0%) in 4.93 sec. Users per second: 2033\n",
      "MAP: 0.03143558238006584, RECALL: 0.1191357741247649\n",
      "EvaluatorHoldout: Processed 10030 (100.0%) in 4.76 sec. Users per second: 2106\n",
      "MAP: 0.031479711658675094, RECALL: 0.12342814423749225\n",
      "EvaluatorHoldout: Processed 10052 (100.0%) in 4.60 sec. Users per second: 2184\n",
      "MAP: 0.030776201845641084, RECALL: 0.11917371059855841\n",
      "EvaluatorHoldout: Processed 10045 (100.0%) in 4.57 sec. Users per second: 2198\n",
      "MAP: 0.03114504570701699, RECALL: 0.11544299681468535\n",
      "EvaluatorHoldout: Processed 10068 (100.0%) in 4.81 sec. Users per second: 2093\n",
      "MAP: 0.03149621068795712, RECALL: 0.12244115598912368\n"
     ]
    },
    {
     "name": "stderr",
     "output_type": "stream",
     "text": [
      "[I 2024-01-10 16:37:42,433] Trial 174 finished with value: 0.03110484148294394 and parameters: {'w_slim': 0.7613165114730684, 'w_knn': 0.08168798048631021, 'w_p3': 0.09365029550977312, 'w_rp3': 0.742891827105139}. Best is trial 146 with value: 0.031116535584315458.\n"
     ]
    },
    {
     "name": "stdout",
     "output_type": "stream",
     "text": [
      "EvaluatorHoldout: Processed 10057 (100.0%) in 5.00 sec. Users per second: 2012\n",
      "MAP: 0.030933618848752776, RECALL: 0.11867544288936135\n",
      "EvaluatorHoldout: Processed 10040 (100.0%) in 5.10 sec. Users per second: 1969\n",
      "MAP: 0.031158848732056214, RECALL: 0.11852322349757181\n",
      "EvaluatorHoldout: Processed 10017 (100.0%) in 4.81 sec. Users per second: 2082\n",
      "MAP: 0.03058376949661791, RECALL: 0.11594075220086514\n",
      "EvaluatorHoldout: Processed 10037 (100.0%) in 4.78 sec. Users per second: 2098\n",
      "MAP: 0.030900928469425288, RECALL: 0.11934351374744329\n",
      "EvaluatorHoldout: Processed 9989 (100.0%) in 5.21 sec. Users per second: 1919\n",
      "MAP: 0.031164018515605477, RECALL: 0.12361026535378347\n",
      "EvaluatorHoldout: Processed 10024 (100.0%) in 4.57 sec. Users per second: 2195\n",
      "MAP: 0.03145429936406614, RECALL: 0.1190762142359088\n",
      "EvaluatorHoldout: Processed 10030 (100.0%) in 4.59 sec. Users per second: 2183\n",
      "MAP: 0.03147838626976246, RECALL: 0.1233919395453595\n",
      "EvaluatorHoldout: Processed 10052 (100.0%) in 5.08 sec. Users per second: 1977\n",
      "MAP: 0.030778333617569886, RECALL: 0.1191059643240218\n",
      "EvaluatorHoldout: Processed 10045 (100.0%) in 4.83 sec. Users per second: 2079\n",
      "MAP: 0.031170648747303978, RECALL: 0.11557711039489903\n",
      "EvaluatorHoldout: Processed 10068 (100.0%) in 4.70 sec. Users per second: 2142\n",
      "MAP: 0.03148959693134335, RECALL: 0.12252626113014956\n"
     ]
    },
    {
     "name": "stderr",
     "output_type": "stream",
     "text": [
      "[I 2024-01-10 16:38:45,229] Trial 175 finished with value: 0.031111244899250344 and parameters: {'w_slim': 0.7547720914201537, 'w_knn': 0.08285951479628818, 'w_p3': 0.09707085149043321, 'w_rp3': 0.7337913653352622}. Best is trial 146 with value: 0.031116535584315458.\n"
     ]
    },
    {
     "name": "stdout",
     "output_type": "stream",
     "text": [
      "EvaluatorHoldout: Processed 10057 (100.0%) in 4.71 sec. Users per second: 2137\n",
      "MAP: 0.030925747051331397, RECALL: 0.1187762572590275\n",
      "EvaluatorHoldout: Processed 10040 (100.0%) in 5.27 sec. Users per second: 1906\n",
      "MAP: 0.031156421931322648, RECALL: 0.11867538630690005\n",
      "EvaluatorHoldout: Processed 10017 (100.0%) in 4.99 sec. Users per second: 2007\n",
      "MAP: 0.030575240345381352, RECALL: 0.11587257055627548\n",
      "EvaluatorHoldout: Processed 10037 (100.0%) in 4.74 sec. Users per second: 2117\n",
      "MAP: 0.030918834439558042, RECALL: 0.11943547179846367\n",
      "EvaluatorHoldout: Processed 9989 (100.0%) in 5.67 sec. Users per second: 1760\n",
      "MAP: 0.031173858704893094, RECALL: 0.1236450784238299\n",
      "EvaluatorHoldout: Processed 10024 (100.0%) in 5.30 sec. Users per second: 1891\n",
      "MAP: 0.031442684382878124, RECALL: 0.11905765559266579\n",
      "EvaluatorHoldout: Processed 10030 (100.0%) in 5.12 sec. Users per second: 1960\n",
      "MAP: 0.03150105239836082, RECALL: 0.12344501428603863\n",
      "EvaluatorHoldout: Processed 10052 (100.0%) in 5.57 sec. Users per second: 1804\n",
      "MAP: 0.030780264055483224, RECALL: 0.1190788248800446\n",
      "EvaluatorHoldout: Processed 10045 (100.0%) in 5.57 sec. Users per second: 1802\n",
      "MAP: 0.031189543877946257, RECALL: 0.11555356457884446\n",
      "EvaluatorHoldout: Processed 10068 (100.0%) in 5.59 sec. Users per second: 1802\n",
      "MAP: 0.0314981144093185, RECALL: 0.12262845522631394\n"
     ]
    },
    {
     "name": "stderr",
     "output_type": "stream",
     "text": [
      "[I 2024-01-10 16:39:51,898] Trial 176 finished with value: 0.031116176159647346 and parameters: {'w_slim': 0.7542048670126215, 'w_knn': 0.08352680458710018, 'w_p3': 0.09823577462131801, 'w_rp3': 0.7492901466249288}. Best is trial 146 with value: 0.031116535584315458.\n"
     ]
    },
    {
     "name": "stdout",
     "output_type": "stream",
     "text": [
      "EvaluatorHoldout: Processed 10057 (100.0%) in 5.62 sec. Users per second: 1789\n",
      "MAP: 0.030919875755811135, RECALL: 0.11867785017817728\n",
      "EvaluatorHoldout: Processed 10040 (100.0%) in 5.61 sec. Users per second: 1790\n",
      "MAP: 0.0311523034844751, RECALL: 0.11847694572307718\n",
      "EvaluatorHoldout: Processed 10017 (100.0%) in 5.54 sec. Users per second: 1807\n",
      "MAP: 0.030596077937348025, RECALL: 0.11590127213299387\n",
      "EvaluatorHoldout: Processed 10037 (100.0%) in 5.41 sec. Users per second: 1855\n",
      "MAP: 0.030880005882995092, RECALL: 0.11910444486292464\n",
      "EvaluatorHoldout: Processed 9989 (100.0%) in 5.49 sec. Users per second: 1819\n",
      "MAP: 0.031158035744080576, RECALL: 0.12361723786425984\n",
      "EvaluatorHoldout: Processed 10024 (100.0%) in 5.45 sec. Users per second: 1840\n",
      "MAP: 0.03143077249521806, RECALL: 0.11903901155705697\n",
      "EvaluatorHoldout: Processed 10030 (100.0%) in 4.69 sec. Users per second: 2137\n",
      "MAP: 0.03144218139233126, RECALL: 0.12322076898510909\n",
      "EvaluatorHoldout: Processed 10052 (100.0%) in 4.78 sec. Users per second: 2104\n",
      "MAP: 0.03079313364157205, RECALL: 0.11913380407281261\n",
      "EvaluatorHoldout: Processed 10045 (100.0%) in 4.96 sec. Users per second: 2026\n",
      "MAP: 0.031155119422914514, RECALL: 0.11561980827726323\n",
      "EvaluatorHoldout: Processed 10068 (100.0%) in 4.88 sec. Users per second: 2065\n",
      "MAP: 0.0314784899193424, RECALL: 0.12250268235264623\n"
     ]
    },
    {
     "name": "stderr",
     "output_type": "stream",
     "text": [
      "[I 2024-01-10 16:40:58,550] Trial 177 finished with value: 0.031100599567608817 and parameters: {'w_slim': 0.7622213706469326, 'w_knn': 0.08431068572578672, 'w_p3': 0.09777735921601184, 'w_rp3': 0.7240107923226585}. Best is trial 146 with value: 0.031116535584315458.\n"
     ]
    },
    {
     "name": "stdout",
     "output_type": "stream",
     "text": [
      "EvaluatorHoldout: Processed 10057 (100.0%) in 4.75 sec. Users per second: 2116\n",
      "MAP: 0.03091939437271062, RECALL: 0.11869659964881528\n",
      "EvaluatorHoldout: Processed 10040 (100.0%) in 4.61 sec. Users per second: 2179\n",
      "MAP: 0.031137900777841333, RECALL: 0.11849640797770718\n",
      "EvaluatorHoldout: Processed 10017 (100.0%) in 4.66 sec. Users per second: 2150\n",
      "MAP: 0.030567753073743147, RECALL: 0.11601148132592935\n",
      "EvaluatorHoldout: Processed 10037 (100.0%) in 4.68 sec. Users per second: 2147\n",
      "MAP: 0.03090054496774654, RECALL: 0.11908518017122598\n",
      "EvaluatorHoldout: Processed 9989 (100.0%) in 4.72 sec. Users per second: 2118\n",
      "MAP: 0.031186726033557793, RECALL: 0.12336576735232536\n",
      "EvaluatorHoldout: Processed 10024 (100.0%) in 4.67 sec. Users per second: 2146\n",
      "MAP: 0.031434743124438044, RECALL: 0.11901450677214905\n",
      "EvaluatorHoldout: Processed 10030 (100.0%) in 4.66 sec. Users per second: 2153\n",
      "MAP: 0.03148230309072811, RECALL: 0.12348587591035473\n",
      "EvaluatorHoldout: Processed 10052 (100.0%) in 4.77 sec. Users per second: 2109\n",
      "MAP: 0.030748137462970653, RECALL: 0.11920802407927453\n",
      "EvaluatorHoldout: Processed 10045 (100.0%) in 4.61 sec. Users per second: 2179\n",
      "MAP: 0.03116794662115734, RECALL: 0.11538626217270329\n",
      "EvaluatorHoldout: Processed 10068 (100.0%) in 4.98 sec. Users per second: 2023\n",
      "MAP: 0.03149573771370581, RECALL: 0.12247868937114018\n"
     ]
    },
    {
     "name": "stderr",
     "output_type": "stream",
     "text": [
      "[I 2024-01-10 16:41:59,827] Trial 178 finished with value: 0.03110411872385994 and parameters: {'w_slim': 0.7501167144962411, 'w_knn': 0.07663838667943446, 'w_p3': 0.09690219393060163, 'w_rp3': 0.7484406761312099}. Best is trial 146 with value: 0.031116535584315458.\n"
     ]
    },
    {
     "name": "stdout",
     "output_type": "stream",
     "text": [
      "EvaluatorHoldout: Processed 10057 (100.0%) in 4.64 sec. Users per second: 2167\n",
      "MAP: 0.0309238491392714, RECALL: 0.11872658173716881\n",
      "EvaluatorHoldout: Processed 10040 (100.0%) in 4.65 sec. Users per second: 2159\n",
      "MAP: 0.031147694934547842, RECALL: 0.1186659395009261\n",
      "EvaluatorHoldout: Processed 10017 (100.0%) in 4.92 sec. Users per second: 2037\n",
      "MAP: 0.03057710225949246, RECALL: 0.11597499058861734\n",
      "EvaluatorHoldout: Processed 10037 (100.0%) in 4.87 sec. Users per second: 2061\n",
      "MAP: 0.030887157991621738, RECALL: 0.11917430111773343\n",
      "EvaluatorHoldout: Processed 9989 (100.0%) in 4.87 sec. Users per second: 2050\n",
      "MAP: 0.03116685099641376, RECALL: 0.12346265603666023\n",
      "EvaluatorHoldout: Processed 10024 (100.0%) in 4.99 sec. Users per second: 2007\n",
      "MAP: 0.031452098297419726, RECALL: 0.11913673891341746\n",
      "EvaluatorHoldout: Processed 10030 (100.0%) in 4.93 sec. Users per second: 2036\n",
      "MAP: 0.03149277959771513, RECALL: 0.12341006464667958\n",
      "EvaluatorHoldout: Processed 10052 (100.0%) in 4.73 sec. Users per second: 2127\n",
      "MAP: 0.030766052242624402, RECALL: 0.11902040854004249\n",
      "EvaluatorHoldout: Processed 10045 (100.0%) in 4.79 sec. Users per second: 2095\n",
      "MAP: 0.031160140478955982, RECALL: 0.11551745145136003\n",
      "EvaluatorHoldout: Processed 10068 (100.0%) in 4.73 sec. Users per second: 2131\n",
      "MAP: 0.03148967181893315, RECALL: 0.12260414586574116\n"
     ]
    },
    {
     "name": "stderr",
     "output_type": "stream",
     "text": [
      "[I 2024-01-10 16:43:02,043] Trial 179 finished with value: 0.03110633977569956 and parameters: {'w_slim': 0.756355690612573, 'w_knn': 0.0805488359104111, 'w_p3': 0.09597524073179059, 'w_rp3': 0.749751265970059}. Best is trial 146 with value: 0.031116535584315458.\n"
     ]
    },
    {
     "name": "stdout",
     "output_type": "stream",
     "text": [
      "EvaluatorHoldout: Processed 10057 (100.0%) in 4.62 sec. Users per second: 2179\n",
      "MAP: 0.030917863416620707, RECALL: 0.11869524922759382\n",
      "EvaluatorHoldout: Processed 10040 (100.0%) in 4.77 sec. Users per second: 2104\n",
      "MAP: 0.03115137466009011, RECALL: 0.1184559887860346\n",
      "EvaluatorHoldout: Processed 10017 (100.0%) in 4.72 sec. Users per second: 2121\n",
      "MAP: 0.030596307705472364, RECALL: 0.11600220792979495\n",
      "EvaluatorHoldout: Processed 10037 (100.0%) in 4.63 sec. Users per second: 2167\n",
      "MAP: 0.030890202283298085, RECALL: 0.11933708058669\n",
      "EvaluatorHoldout: Processed 9989 (100.0%) in 4.83 sec. Users per second: 2070\n",
      "MAP: 0.031170001287130326, RECALL: 0.12360567447297874\n",
      "EvaluatorHoldout: Processed 10024 (100.0%) in 4.81 sec. Users per second: 2083\n",
      "MAP: 0.0314400399359001, RECALL: 0.11903103378833654\n",
      "EvaluatorHoldout: Processed 10030 (100.0%) in 4.63 sec. Users per second: 2165\n",
      "MAP: 0.031472277611609936, RECALL: 0.12328084745235246\n",
      "EvaluatorHoldout: Processed 10052 (100.0%) in 4.65 sec. Users per second: 2161\n",
      "MAP: 0.03079996320719588, RECALL: 0.11918945872456754\n",
      "EvaluatorHoldout: Processed 10045 (100.0%) in 4.72 sec. Users per second: 2130\n",
      "MAP: 0.031155482866782186, RECALL: 0.11557547344544829\n",
      "EvaluatorHoldout: Processed 10068 (100.0%) in 4.86 sec. Users per second: 2070\n",
      "MAP: 0.031485028788366384, RECALL: 0.12243351247722864\n"
     ]
    },
    {
     "name": "stderr",
     "output_type": "stream",
     "text": [
      "[I 2024-01-10 16:44:03,433] Trial 180 finished with value: 0.031107854176246612 and parameters: {'w_slim': 0.7655704052498701, 'w_knn': 0.08536646760178099, 'w_p3': 0.09817788183587056, 'w_rp3': 0.7336696603062073}. Best is trial 146 with value: 0.031116535584315458.\n"
     ]
    },
    {
     "name": "stdout",
     "output_type": "stream",
     "text": [
      "EvaluatorHoldout: Processed 10057 (100.0%) in 4.89 sec. Users per second: 2057\n",
      "MAP: 0.0309171610707856, RECALL: 0.11855660095937039\n",
      "EvaluatorHoldout: Processed 10040 (100.0%) in 5.25 sec. Users per second: 1911\n",
      "MAP: 0.031164085720609927, RECALL: 0.11850441145655445\n",
      "EvaluatorHoldout: Processed 10017 (100.0%) in 5.30 sec. Users per second: 1892\n",
      "MAP: 0.030583832880928058, RECALL: 0.1158038459812607\n",
      "EvaluatorHoldout: Processed 10037 (100.0%) in 5.43 sec. Users per second: 1850\n",
      "MAP: 0.030905617469331976, RECALL: 0.11925723756622167\n",
      "EvaluatorHoldout: Processed 9989 (100.0%) in 5.60 sec. Users per second: 1785\n",
      "MAP: 0.03116734360177169, RECALL: 0.12349692458499588\n",
      "EvaluatorHoldout: Processed 10024 (100.0%) in 5.35 sec. Users per second: 1875\n",
      "MAP: 0.031430024290908375, RECALL: 0.1190790228425676\n",
      "EvaluatorHoldout: Processed 10030 (100.0%) in 4.85 sec. Users per second: 2067\n",
      "MAP: 0.03147924084888225, RECALL: 0.12342292105955154\n",
      "EvaluatorHoldout: Processed 10052 (100.0%) in 4.68 sec. Users per second: 2149\n",
      "MAP: 0.03078123914375437, RECALL: 0.11914772052412906\n",
      "EvaluatorHoldout: Processed 10045 (100.0%) in 4.75 sec. Users per second: 2113\n",
      "MAP: 0.031139234555611017, RECALL: 0.11554577201523027\n",
      "EvaluatorHoldout: Processed 10068 (100.0%) in 4.91 sec. Users per second: 2052\n",
      "MAP: 0.03148761832239215, RECALL: 0.12247863919853781\n"
     ]
    },
    {
     "name": "stderr",
     "output_type": "stream",
     "text": [
      "[I 2024-01-10 16:45:08,691] Trial 181 finished with value: 0.031105539790497544 and parameters: {'w_slim': 0.7564538499838435, 'w_knn': 0.08284011332211454, 'w_p3': 0.09294436314822783, 'w_rp3': 0.7347769236024105}. Best is trial 146 with value: 0.031116535584315458.\n"
     ]
    },
    {
     "name": "stdout",
     "output_type": "stream",
     "text": [
      "EvaluatorHoldout: Processed 10057 (100.0%) in 4.64 sec. Users per second: 2168\n",
      "MAP: 0.030915026412938498, RECALL: 0.11851074307883473\n",
      "EvaluatorHoldout: Processed 10040 (100.0%) in 4.66 sec. Users per second: 2155\n",
      "MAP: 0.031149781825080932, RECALL: 0.11852295491508792\n",
      "EvaluatorHoldout: Processed 10017 (100.0%) in 4.63 sec. Users per second: 2163\n",
      "MAP: 0.030590650655790162, RECALL: 0.11596876265852503\n",
      "EvaluatorHoldout: Processed 10037 (100.0%) in 4.66 sec. Users per second: 2154\n",
      "MAP: 0.03091116045235829, RECALL: 0.11930808768806668\n",
      "EvaluatorHoldout: Processed 9989 (100.0%) in 4.78 sec. Users per second: 2090\n",
      "MAP: 0.031167224423056077, RECALL: 0.12342079633287403\n",
      "EvaluatorHoldout: Processed 10024 (100.0%) in 4.70 sec. Users per second: 2135\n",
      "MAP: 0.031443836379989806, RECALL: 0.11903814068777097\n",
      "EvaluatorHoldout: Processed 10030 (100.0%) in 4.64 sec. Users per second: 2163\n",
      "MAP: 0.03147064758106665, RECALL: 0.1233901134672907\n",
      "EvaluatorHoldout: Processed 10052 (100.0%) in 5.22 sec. Users per second: 1927\n",
      "MAP: 0.03078735022328367, RECALL: 0.11913449384829794\n",
      "EvaluatorHoldout: Processed 10045 (100.0%) in 4.72 sec. Users per second: 2126\n",
      "MAP: 0.031156901087961486, RECALL: 0.11548868637478069\n",
      "EvaluatorHoldout: Processed 10068 (100.0%) in 4.88 sec. Users per second: 2062\n",
      "MAP: 0.031501760252505465, RECALL: 0.12248835758286764\n"
     ]
    },
    {
     "name": "stderr",
     "output_type": "stream",
     "text": [
      "[I 2024-01-10 16:46:10,410] Trial 182 finished with value: 0.031109433929403102 and parameters: {'w_slim': 0.7548490338360054, 'w_knn': 0.08273833085465708, 'w_p3': 0.09149752056026661, 'w_rp3': 0.7422625462187666}. Best is trial 146 with value: 0.031116535584315458.\n"
     ]
    },
    {
     "name": "stdout",
     "output_type": "stream",
     "text": [
      "EvaluatorHoldout: Processed 10057 (100.0%) in 4.95 sec. Users per second: 2032\n",
      "MAP: 0.03090585251368804, RECALL: 0.11868272410482252\n",
      "EvaluatorHoldout: Processed 10040 (100.0%) in 4.95 sec. Users per second: 2028\n",
      "MAP: 0.031190460380699708, RECALL: 0.11837108308434342\n",
      "EvaluatorHoldout: Processed 10017 (100.0%) in 4.99 sec. Users per second: 2007\n",
      "MAP: 0.030588840241431093, RECALL: 0.11591839322747118\n",
      "EvaluatorHoldout: Processed 10037 (100.0%) in 5.27 sec. Users per second: 1906\n",
      "MAP: 0.030929200845759848, RECALL: 0.11946197678076262\n",
      "EvaluatorHoldout: Processed 9989 (100.0%) in 5.28 sec. Users per second: 1891\n",
      "MAP: 0.031176246251829614, RECALL: 0.12356133703411448\n",
      "EvaluatorHoldout: Processed 10024 (100.0%) in 5.23 sec. Users per second: 1918\n",
      "MAP: 0.03144939051039431, RECALL: 0.11915612016872737\n",
      "EvaluatorHoldout: Processed 10030 (100.0%) in 5.29 sec. Users per second: 1897\n",
      "MAP: 0.031493847821614865, RECALL: 0.12341839746465327\n",
      "EvaluatorHoldout: Processed 10052 (100.0%) in 5.31 sec. Users per second: 1893\n",
      "MAP: 0.03081068128272695, RECALL: 0.1191557232913433\n",
      "EvaluatorHoldout: Processed 10045 (100.0%) in 5.36 sec. Users per second: 1873\n",
      "MAP: 0.03117219338374161, RECALL: 0.11557036021637544\n",
      "EvaluatorHoldout: Processed 10068 (100.0%) in 5.39 sec. Users per second: 1867\n",
      "MAP: 0.03148988859879829, RECALL: 0.12247990746366064\n"
     ]
    },
    {
     "name": "stderr",
     "output_type": "stream",
     "text": [
      "[I 2024-01-10 16:47:16,558] Trial 183 finished with value: 0.031120660183068433 and parameters: {'w_slim': 0.7598999831881337, 'w_knn': 0.08706510045527847, 'w_p3': 0.09487269511685195, 'w_rp3': 0.7434130958078841}. Best is trial 183 with value: 0.031120660183068433.\n"
     ]
    },
    {
     "name": "stdout",
     "output_type": "stream",
     "text": [
      "EvaluatorHoldout: Processed 10057 (100.0%) in 5.35 sec. Users per second: 1880\n",
      "MAP: 0.030830855394095174, RECALL: 0.1184472005387827\n",
      "EvaluatorHoldout: Processed 10040 (100.0%) in 5.29 sec. Users per second: 1899\n",
      "MAP: 0.03111345886296116, RECALL: 0.1182943912572665\n",
      "EvaluatorHoldout: Processed 10017 (100.0%) in 5.31 sec. Users per second: 1887\n",
      "MAP: 0.030552362570931173, RECALL: 0.11588024816721877\n",
      "EvaluatorHoldout: Processed 10037 (100.0%) in 5.32 sec. Users per second: 1887\n",
      "MAP: 0.030861585941540332, RECALL: 0.11903686859103295\n",
      "EvaluatorHoldout: Processed 9989 (100.0%) in 5.38 sec. Users per second: 1858\n",
      "MAP: 0.031149399259820916, RECALL: 0.12327602498739085\n",
      "EvaluatorHoldout: Processed 10024 (100.0%) in 5.29 sec. Users per second: 1896\n",
      "MAP: 0.03136624086319839, RECALL: 0.11872851388431782\n",
      "EvaluatorHoldout: Processed 10030 (100.0%) in 5.39 sec. Users per second: 1861\n",
      "MAP: 0.031389652471158214, RECALL: 0.1231654565842612\n",
      "EvaluatorHoldout: Processed 10052 (100.0%) in 4.86 sec. Users per second: 2068\n",
      "MAP: 0.0306784798413333, RECALL: 0.118318774108009\n",
      "EvaluatorHoldout: Processed 10045 (100.0%) in 5.12 sec. Users per second: 1961\n",
      "MAP: 0.031104387399559313, RECALL: 0.11547148274834966\n",
      "EvaluatorHoldout: Processed 10068 (100.0%) in 5.51 sec. Users per second: 1828\n",
      "MAP: 0.031408860226649536, RECALL: 0.12235144471948015\n"
     ]
    },
    {
     "name": "stderr",
     "output_type": "stream",
     "text": [
      "[I 2024-01-10 16:48:23,525] Trial 184 finished with value: 0.031045528283124752 and parameters: {'w_slim': 0.9333083922978317, 'w_knn': 0.08643747626216013, 'w_p3': 0.09459016584149824, 'w_rp3': 0.7496076857138639}. Best is trial 183 with value: 0.031120660183068433.\n"
     ]
    },
    {
     "name": "stdout",
     "output_type": "stream",
     "text": [
      "EvaluatorHoldout: Processed 10057 (100.0%) in 4.61 sec. Users per second: 2182\n",
      "MAP: 0.03091607598592804, RECALL: 0.1186225914209881\n",
      "EvaluatorHoldout: Processed 10040 (100.0%) in 4.95 sec. Users per second: 2030\n",
      "MAP: 0.031166544140897028, RECALL: 0.11834391458291017\n",
      "EvaluatorHoldout: Processed 10017 (100.0%) in 5.31 sec. Users per second: 1886\n",
      "MAP: 0.030590821001123723, RECALL: 0.11579810137764161\n",
      "EvaluatorHoldout: Processed 10037 (100.0%) in 4.94 sec. Users per second: 2033\n",
      "MAP: 0.030915968061031588, RECALL: 0.11928772662781521\n",
      "EvaluatorHoldout: Processed 9989 (100.0%) in 4.67 sec. Users per second: 2137\n",
      "MAP: 0.03116430057189915, RECALL: 0.12351280573008408\n",
      "EvaluatorHoldout: Processed 10024 (100.0%) in 4.55 sec. Users per second: 2204\n",
      "MAP: 0.03142146150825341, RECALL: 0.11902578008964342\n",
      "EvaluatorHoldout: Processed 10030 (100.0%) in 4.65 sec. Users per second: 2158\n",
      "MAP: 0.031463894032189466, RECALL: 0.12351573425057011\n",
      "EvaluatorHoldout: Processed 10052 (100.0%) in 4.61 sec. Users per second: 2181\n",
      "MAP: 0.030777382215653515, RECALL: 0.11916512162091737\n",
      "EvaluatorHoldout: Processed 10045 (100.0%) in 4.55 sec. Users per second: 2210\n",
      "MAP: 0.031158141537683762, RECALL: 0.11555077192015425\n",
      "EvaluatorHoldout: Processed 10068 (100.0%) in 4.85 sec. Users per second: 2076\n",
      "MAP: 0.03148846967604445, RECALL: 0.12254278903628599\n"
     ]
    },
    {
     "name": "stderr",
     "output_type": "stream",
     "text": [
      "[I 2024-01-10 16:49:25,492] Trial 185 finished with value: 0.031106305873070412 and parameters: {'w_slim': 0.7598081074826537, 'w_knn': 0.08461310574489286, 'w_p3': 0.09172369349520168, 'w_rp3': 0.7389356966727134}. Best is trial 183 with value: 0.031120660183068433.\n"
     ]
    },
    {
     "name": "stdout",
     "output_type": "stream",
     "text": [
      "EvaluatorHoldout: Processed 10057 (100.0%) in 4.62 sec. Users per second: 2177\n",
      "MAP: 0.030905773598425675, RECALL: 0.11853150825571272\n",
      "EvaluatorHoldout: Processed 10040 (100.0%) in 5.00 sec. Users per second: 2008\n",
      "MAP: 0.031170109245557756, RECALL: 0.11854987560222337\n",
      "EvaluatorHoldout: Processed 10017 (100.0%) in 4.75 sec. Users per second: 2110\n",
      "MAP: 0.030600257340299513, RECALL: 0.11591890371470345\n",
      "EvaluatorHoldout: Processed 10037 (100.0%) in 4.84 sec. Users per second: 2072\n",
      "MAP: 0.030902521780523405, RECALL: 0.11905921146513791\n",
      "EvaluatorHoldout: Processed 9989 (100.0%) in 5.37 sec. Users per second: 1861\n",
      "MAP: 0.031162723440228905, RECALL: 0.1235904892813354\n",
      "EvaluatorHoldout: Processed 10024 (100.0%) in 5.25 sec. Users per second: 1909\n",
      "MAP: 0.031414521814312535, RECALL: 0.11906897798390507\n",
      "EvaluatorHoldout: Processed 10030 (100.0%) in 5.23 sec. Users per second: 1917\n",
      "MAP: 0.03145543528145749, RECALL: 0.123378298878751\n",
      "EvaluatorHoldout: Processed 10052 (100.0%) in 5.27 sec. Users per second: 1906\n",
      "MAP: 0.03076756422160353, RECALL: 0.1191912759098572\n",
      "EvaluatorHoldout: Processed 10045 (100.0%) in 5.23 sec. Users per second: 1920\n",
      "MAP: 0.031121169025101498, RECALL: 0.11538497973639698\n",
      "EvaluatorHoldout: Processed 10068 (100.0%) in 5.33 sec. Users per second: 1890\n",
      "MAP: 0.03146666162160825, RECALL: 0.12243793064433106\n"
     ]
    },
    {
     "name": "stderr",
     "output_type": "stream",
     "text": [
      "[I 2024-01-10 16:50:30,527] Trial 186 finished with value: 0.031096673736911863 and parameters: {'w_slim': 0.7700161832216953, 'w_knn': 0.08119893385091492, 'w_p3': 0.09261299837923426, 'w_rp3': 0.730004515240794}. Best is trial 183 with value: 0.031120660183068433.\n"
     ]
    },
    {
     "name": "stdout",
     "output_type": "stream",
     "text": [
      "EvaluatorHoldout: Processed 10057 (100.0%) in 5.04 sec. Users per second: 1997\n",
      "MAP: 0.03092278378322944, RECALL: 0.11881153513285876\n",
      "EvaluatorHoldout: Processed 10040 (100.0%) in 4.66 sec. Users per second: 2154\n",
      "MAP: 0.03118726680579303, RECALL: 0.11839514549466958\n",
      "EvaluatorHoldout: Processed 10017 (100.0%) in 4.59 sec. Users per second: 2185\n",
      "MAP: 0.030579566324550115, RECALL: 0.11597088264131566\n",
      "EvaluatorHoldout: Processed 10037 (100.0%) in 4.87 sec. Users per second: 2059\n",
      "MAP: 0.03092289481300168, RECALL: 0.11948342761667533\n",
      "EvaluatorHoldout: Processed 9989 (100.0%) in 4.66 sec. Users per second: 2145\n",
      "MAP: 0.031187230556787286, RECALL: 0.1236393281865331\n",
      "EvaluatorHoldout: Processed 10024 (100.0%) in 4.59 sec. Users per second: 2183\n",
      "MAP: 0.03141582424403673, RECALL: 0.11915312792455483\n",
      "EvaluatorHoldout: Processed 10030 (100.0%) in 4.56 sec. Users per second: 2200\n",
      "MAP: 0.0314774763012553, RECALL: 0.12341981675906316\n",
      "EvaluatorHoldout: Processed 10052 (100.0%) in 5.31 sec. Users per second: 1892\n",
      "MAP: 0.03082144278324176, RECALL: 0.11910551686927058\n",
      "EvaluatorHoldout: Processed 10045 (100.0%) in 4.80 sec. Users per second: 2093\n",
      "MAP: 0.031171134655953153, RECALL: 0.11563209382242047\n",
      "EvaluatorHoldout: Processed 10068 (100.0%) in 4.71 sec. Users per second: 2137\n",
      "MAP: 0.03149579683548724, RECALL: 0.12251592627202752\n"
     ]
    },
    {
     "name": "stderr",
     "output_type": "stream",
     "text": [
      "[I 2024-01-10 16:51:32,403] Trial 187 finished with value: 0.031118141710333575 and parameters: {'w_slim': 0.7558548184078214, 'w_knn': 0.08845608628671238, 'w_p3': 0.0951068022870241, 'w_rp3': 0.7499007775867841}. Best is trial 183 with value: 0.031120660183068433.\n"
     ]
    },
    {
     "name": "stdout",
     "output_type": "stream",
     "text": [
      "EvaluatorHoldout: Processed 10057 (100.0%) in 4.94 sec. Users per second: 2034\n",
      "MAP: 0.030909806168332776, RECALL: 0.118722388888571\n",
      "EvaluatorHoldout: Processed 10040 (100.0%) in 4.71 sec. Users per second: 2131\n",
      "MAP: 0.031190337854929796, RECALL: 0.11839768435882085\n",
      "EvaluatorHoldout: Processed 10017 (100.0%) in 5.25 sec. Users per second: 1910\n",
      "MAP: 0.03058910566322991, RECALL: 0.11582575802907827\n",
      "EvaluatorHoldout: Processed 10037 (100.0%) in 5.27 sec. Users per second: 1906\n",
      "MAP: 0.030933162378564662, RECALL: 0.11944143440428104\n",
      "EvaluatorHoldout: Processed 9989 (100.0%) in 4.78 sec. Users per second: 2091\n",
      "MAP: 0.031181434498583595, RECALL: 0.12363882452450177\n",
      "EvaluatorHoldout: Processed 10024 (100.0%) in 4.84 sec. Users per second: 2073\n",
      "MAP: 0.031424450366739076, RECALL: 0.11914376078580484\n",
      "EvaluatorHoldout: Processed 10030 (100.0%) in 4.88 sec. Users per second: 2056\n",
      "MAP: 0.03147641599012519, RECALL: 0.12334576367741996\n",
      "EvaluatorHoldout: Processed 10052 (100.0%) in 4.81 sec. Users per second: 2089\n",
      "MAP: 0.030823866686879337, RECALL: 0.11912310656228717\n",
      "EvaluatorHoldout: Processed 10045 (100.0%) in 5.32 sec. Users per second: 1890\n",
      "MAP: 0.031172616084761615, RECALL: 0.11556326652287056\n",
      "EvaluatorHoldout: Processed 10068 (100.0%) in 5.41 sec. Users per second: 1861\n",
      "MAP: 0.03149481147246371, RECALL: 0.1225017787558935\n"
     ]
    },
    {
     "name": "stderr",
     "output_type": "stream",
     "text": [
      "[I 2024-01-10 16:52:36,684] Trial 188 finished with value: 0.031119600716460964 and parameters: {'w_slim': 0.7553333780664919, 'w_knn': 0.08895781461729196, 'w_p3': 0.09512759272324632, 'w_rp3': 0.7412407734442961}. Best is trial 183 with value: 0.031120660183068433.\n"
     ]
    },
    {
     "name": "stdout",
     "output_type": "stream",
     "text": [
      "EvaluatorHoldout: Processed 10057 (100.0%) in 4.95 sec. Users per second: 2033\n",
      "MAP: 0.030929345587295473, RECALL: 0.11887329343851866\n",
      "EvaluatorHoldout: Processed 10040 (100.0%) in 4.86 sec. Users per second: 2066\n",
      "MAP: 0.031189120502118826, RECALL: 0.11844110412064639\n",
      "EvaluatorHoldout: Processed 10017 (100.0%) in 5.04 sec. Users per second: 1986\n",
      "MAP: 0.03059325337402631, RECALL: 0.11594745180647116\n",
      "EvaluatorHoldout: Processed 10037 (100.0%) in 4.81 sec. Users per second: 2089\n",
      "MAP: 0.030914374749933454, RECALL: 0.11939799832256856\n",
      "EvaluatorHoldout: Processed 9989 (100.0%) in 4.99 sec. Users per second: 2003\n",
      "MAP: 0.031180044080234507, RECALL: 0.12367775623827582\n",
      "EvaluatorHoldout: Processed 10024 (100.0%) in 4.59 sec. Users per second: 2182\n",
      "MAP: 0.031424446407986126, RECALL: 0.11918306789648578\n",
      "EvaluatorHoldout: Processed 10030 (100.0%) in 4.75 sec. Users per second: 2111\n",
      "MAP: 0.03147817658136732, RECALL: 0.1233934755436564\n",
      "EvaluatorHoldout: Processed 10052 (100.0%) in 4.62 sec. Users per second: 2175\n",
      "MAP: 0.030803034537863743, RECALL: 0.11917298695674418\n",
      "EvaluatorHoldout: Processed 10045 (100.0%) in 4.60 sec. Users per second: 2182\n",
      "MAP: 0.031168926339409344, RECALL: 0.11555241366260095\n",
      "EvaluatorHoldout: Processed 10068 (100.0%) in 4.81 sec. Users per second: 2092\n",
      "MAP: 0.03149087002036972, RECALL: 0.12245965777118212\n"
     ]
    },
    {
     "name": "stderr",
     "output_type": "stream",
     "text": [
      "[I 2024-01-10 16:53:38,787] Trial 189 finished with value: 0.03111715921806048 and parameters: {'w_slim': 0.7561820198713604, 'w_knn': 0.08820870695581676, 'w_p3': 0.09850598732235964, 'w_rp3': 0.7423191740345638}. Best is trial 183 with value: 0.031120660183068433.\n"
     ]
    },
    {
     "name": "stdout",
     "output_type": "stream",
     "text": [
      "EvaluatorHoldout: Processed 10057 (100.0%) in 4.86 sec. Users per second: 2069\n",
      "MAP: 0.030920286115175433, RECALL: 0.11863203746942567\n",
      "EvaluatorHoldout: Processed 10040 (100.0%) in 5.41 sec. Users per second: 1854\n",
      "MAP: 0.031167544109277464, RECALL: 0.11842067232333946\n",
      "EvaluatorHoldout: Processed 10017 (100.0%) in 5.29 sec. Users per second: 1892\n",
      "MAP: 0.030617485988106194, RECALL: 0.11561584113983359\n",
      "EvaluatorHoldout: Processed 10037 (100.0%) in 4.75 sec. Users per second: 2114\n",
      "MAP: 0.030927540323027292, RECALL: 0.1192039641087671\n",
      "EvaluatorHoldout: Processed 9989 (100.0%) in 4.85 sec. Users per second: 2058\n",
      "MAP: 0.0311533718836754, RECALL: 0.1234823847764783\n",
      "EvaluatorHoldout: Processed 10024 (100.0%) in 5.21 sec. Users per second: 1923\n",
      "MAP: 0.03143252622277984, RECALL: 0.1192831621377161\n",
      "EvaluatorHoldout: Processed 10030 (100.0%) in 5.28 sec. Users per second: 1900\n",
      "MAP: 0.03144736821282214, RECALL: 0.12344613100499266\n",
      "EvaluatorHoldout: Processed 10052 (100.0%) in 5.27 sec. Users per second: 1907\n",
      "MAP: 0.030789091170358895, RECALL: 0.11904329852324214\n",
      "EvaluatorHoldout: Processed 10045 (100.0%) in 5.25 sec. Users per second: 1914\n",
      "MAP: 0.031119671794385757, RECALL: 0.11569209849638597\n",
      "EvaluatorHoldout: Processed 10068 (100.0%) in 4.69 sec. Users per second: 2148\n",
      "MAP: 0.03145084457435496, RECALL: 0.12237535936064703\n"
     ]
    },
    {
     "name": "stderr",
     "output_type": "stream",
     "text": [
      "[I 2024-01-10 16:54:43,825] Trial 190 finished with value: 0.03110257303939633 and parameters: {'w_slim': 0.7640556180499644, 'w_knn': 0.0891201387939571, 'w_p3': 0.09785299932623431, 'w_rp3': 0.7232840343196812}. Best is trial 183 with value: 0.031120660183068433.\n"
     ]
    },
    {
     "name": "stdout",
     "output_type": "stream",
     "text": [
      "EvaluatorHoldout: Processed 10057 (100.0%) in 4.91 sec. Users per second: 2049\n",
      "MAP: 0.030910768934533674, RECALL: 0.11866852922200379\n",
      "EvaluatorHoldout: Processed 10040 (100.0%) in 5.16 sec. Users per second: 1947\n",
      "MAP: 0.031183511983811096, RECALL: 0.11839056995927616\n",
      "EvaluatorHoldout: Processed 10017 (100.0%) in 4.91 sec. Users per second: 2042\n",
      "MAP: 0.03058843220493441, RECALL: 0.1158042469788161\n",
      "EvaluatorHoldout: Processed 10037 (100.0%) in 4.70 sec. Users per second: 2137\n",
      "MAP: 0.030927532415776195, RECALL: 0.1194385198487699\n",
      "EvaluatorHoldout: Processed 9989 (100.0%) in 5.90 sec. Users per second: 1693\n",
      "MAP: 0.031176075429003882, RECALL: 0.12363352895988042\n",
      "EvaluatorHoldout: Processed 10024 (100.0%) in 6.03 sec. Users per second: 1663\n",
      "MAP: 0.03143682938724858, RECALL: 0.11918241071603075\n",
      "EvaluatorHoldout: Processed 10030 (100.0%) in 5.81 sec. Users per second: 1726\n",
      "MAP: 0.03147842187722579, RECALL: 0.12336066520938321\n",
      "EvaluatorHoldout: Processed 10052 (100.0%) in 5.97 sec. Users per second: 1683\n",
      "MAP: 0.030816140987500233, RECALL: 0.11917284790729314\n",
      "EvaluatorHoldout: Processed 10045 (100.0%) in 6.25 sec. Users per second: 1606\n",
      "MAP: 0.03116703011053453, RECALL: 0.11559038259578058\n",
      "EvaluatorHoldout: Processed 10068 (100.0%) in 5.82 sec. Users per second: 1730\n",
      "MAP: 0.03148788634113452, RECALL: 0.12238062458229593\n"
     ]
    },
    {
     "name": "stderr",
     "output_type": "stream",
     "text": [
      "[I 2024-01-10 16:55:53,400] Trial 191 finished with value: 0.031117262967170295 and parameters: {'w_slim': 0.7572159877632801, 'w_knn': 0.08897914585051245, 'w_p3': 0.09550732273756987, 'w_rp3': 0.7413541864392009}. Best is trial 183 with value: 0.031120660183068433.\n"
     ]
    },
    {
     "name": "stdout",
     "output_type": "stream",
     "text": [
      "EvaluatorHoldout: Processed 10057 (100.0%) in 4.91 sec. Users per second: 2049\n",
      "MAP: 0.03091722420299551, RECALL: 0.11884838638909251\n",
      "EvaluatorHoldout: Processed 10040 (100.0%) in 4.62 sec. Users per second: 2173\n",
      "MAP: 0.031180282836906652, RECALL: 0.11839526158044306\n",
      "EvaluatorHoldout: Processed 10017 (100.0%) in 4.69 sec. Users per second: 2138\n",
      "MAP: 0.030593415796321112, RECALL: 0.11595232857343857\n",
      "EvaluatorHoldout: Processed 10037 (100.0%) in 4.86 sec. Users per second: 2064\n",
      "MAP: 0.030922622012838488, RECALL: 0.11941254130873453\n",
      "EvaluatorHoldout: Processed 9989 (100.0%) in 5.06 sec. Users per second: 1972\n",
      "MAP: 0.03117982955854637, RECALL: 0.12364438619789805\n",
      "EvaluatorHoldout: Processed 10024 (100.0%) in 5.32 sec. Users per second: 1886\n",
      "MAP: 0.031434901474556506, RECALL: 0.11917067559529639\n",
      "EvaluatorHoldout: Processed 10030 (100.0%) in 5.19 sec. Users per second: 1933\n",
      "MAP: 0.031478955989175654, RECALL: 0.12338843903077618\n",
      "EvaluatorHoldout: Processed 10052 (100.0%) in 5.25 sec. Users per second: 1914\n",
      "MAP: 0.0308230850371721, RECALL: 0.11917284790729314\n",
      "EvaluatorHoldout: Processed 10045 (100.0%) in 5.32 sec. Users per second: 1889\n",
      "MAP: 0.031171043794986242, RECALL: 0.11559275288187411\n",
      "EvaluatorHoldout: Processed 10068 (100.0%) in 4.83 sec. Users per second: 2086\n",
      "MAP: 0.03150209921738555, RECALL: 0.1225176820097785\n"
     ]
    },
    {
     "name": "stderr",
     "output_type": "stream",
     "text": [
      "[I 2024-01-10 16:56:57,604] Trial 192 finished with value: 0.031120345992088416 and parameters: {'w_slim': 0.7563325407298959, 'w_knn': 0.08858266966218582, 'w_p3': 0.09582135116007055, 'w_rp3': 0.7416740766596759}. Best is trial 183 with value: 0.031120660183068433.\n"
     ]
    },
    {
     "name": "stdout",
     "output_type": "stream",
     "text": [
      "EvaluatorHoldout: Processed 10057 (100.0%) in 4.84 sec. Users per second: 2077\n",
      "MAP: 0.030923466400248935, RECALL: 0.11887562361005133\n",
      "EvaluatorHoldout: Processed 10040 (100.0%) in 4.63 sec. Users per second: 2168\n",
      "MAP: 0.031186377505849936, RECALL: 0.11840087510799825\n",
      "EvaluatorHoldout: Processed 10017 (100.0%) in 5.37 sec. Users per second: 1865\n",
      "MAP: 0.030582577079282917, RECALL: 0.1158951597505852\n",
      "EvaluatorHoldout: Processed 10037 (100.0%) in 5.34 sec. Users per second: 1880\n",
      "MAP: 0.03091531175918968, RECALL: 0.1194264350619006\n",
      "EvaluatorHoldout: Processed 9989 (100.0%) in 5.38 sec. Users per second: 1858\n",
      "MAP: 0.031176075429003875, RECALL: 0.12366107121808693\n",
      "EvaluatorHoldout: Processed 10024 (100.0%) in 4.94 sec. Users per second: 2029\n",
      "MAP: 0.03142364278113501, RECALL: 0.11920589010730681\n",
      "EvaluatorHoldout: Processed 10030 (100.0%) in 4.96 sec. Users per second: 2020\n",
      "MAP: 0.031457544034563294, RECALL: 0.12336154965282706\n",
      "EvaluatorHoldout: Processed 10052 (100.0%) in 5.34 sec. Users per second: 1883\n",
      "MAP: 0.030810073332954664, RECALL: 0.11919366696648111\n",
      "EvaluatorHoldout: Processed 10045 (100.0%) in 5.30 sec. Users per second: 1894\n",
      "MAP: 0.031174828351782247, RECALL: 0.11556727661597971\n",
      "EvaluatorHoldout: Processed 10068 (100.0%) in 5.37 sec. Users per second: 1876\n",
      "MAP: 0.03149394829445513, RECALL: 0.12250875112752532\n"
     ]
    },
    {
     "name": "stderr",
     "output_type": "stream",
     "text": [
      "[I 2024-01-10 16:58:03,145] Trial 193 finished with value: 0.03111438449684657 and parameters: {'w_slim': 0.7565979334647989, 'w_knn': 0.08903349827600342, 'w_p3': 0.09857111312338224, 'w_rp3': 0.7421344277498458}. Best is trial 183 with value: 0.031120660183068433.\n"
     ]
    },
    {
     "name": "stdout",
     "output_type": "stream",
     "text": [
      "EvaluatorHoldout: Processed 10057 (100.0%) in 5.42 sec. Users per second: 1855\n",
      "MAP: 0.030912410371990946, RECALL: 0.11867421719129918\n",
      "EvaluatorHoldout: Processed 10040 (100.0%) in 5.64 sec. Users per second: 1779\n",
      "MAP: 0.031185148295706365, RECALL: 0.11834937497154382\n",
      "EvaluatorHoldout: Processed 10017 (100.0%) in 5.48 sec. Users per second: 1829\n",
      "MAP: 0.030598288465165005, RECALL: 0.1157906654835708\n",
      "EvaluatorHoldout: Processed 10037 (100.0%) in 4.81 sec. Users per second: 2088\n",
      "MAP: 0.03091755346487865, RECALL: 0.11922744077987019\n",
      "EvaluatorHoldout: Processed 9989 (100.0%) in 5.25 sec. Users per second: 1904\n",
      "MAP: 0.03116810634555176, RECALL: 0.12362338377201555\n",
      "EvaluatorHoldout: Processed 10024 (100.0%) in 5.29 sec. Users per second: 1896\n",
      "MAP: 0.03143180572974091, RECALL: 0.11921690888909654\n",
      "EvaluatorHoldout: Processed 10030 (100.0%) in 5.37 sec. Users per second: 1866\n",
      "MAP: 0.03144963917770528, RECALL: 0.1232850880204083\n",
      "EvaluatorHoldout: Processed 10052 (100.0%) in 5.29 sec. Users per second: 1901\n",
      "MAP: 0.03080952854679508, RECALL: 0.11911057490785955\n",
      "EvaluatorHoldout: Processed 10045 (100.0%) in 5.26 sec. Users per second: 1911\n",
      "MAP: 0.03115873410920717, RECALL: 0.11563768516865917\n",
      "EvaluatorHoldout: Processed 10068 (100.0%) in 5.43 sec. Users per second: 1853\n",
      "MAP: 0.03147474948130519, RECALL: 0.1223188065974991\n"
     ]
    },
    {
     "name": "stderr",
     "output_type": "stream",
     "text": [
      "[I 2024-01-10 16:59:10,630] Trial 194 finished with value: 0.031110596398804636 and parameters: {'w_slim': 0.756353826989856, 'w_knn': 0.08868839053311456, 'w_p3': 0.09988623999778257, 'w_rp3': 0.7290446579339561}. Best is trial 183 with value: 0.031120660183068433.\n"
     ]
    },
    {
     "name": "stdout",
     "output_type": "stream",
     "text": [
      "EvaluatorHoldout: Processed 10057 (100.0%) in 5.39 sec. Users per second: 1865\n",
      "MAP: 0.030886151318437485, RECALL: 0.1184528968749647\n",
      "EvaluatorHoldout: Processed 10040 (100.0%) in 5.28 sec. Users per second: 1902\n",
      "MAP: 0.03112574701195248, RECALL: 0.11824239686857635\n",
      "EvaluatorHoldout: Processed 10017 (100.0%) in 4.75 sec. Users per second: 2107\n",
      "MAP: 0.030556042822440135, RECALL: 0.11596428160147798\n",
      "EvaluatorHoldout: Processed 10037 (100.0%) in 4.93 sec. Users per second: 2036\n",
      "MAP: 0.030875478981736086, RECALL: 0.11918416853361692\n",
      "EvaluatorHoldout: Processed 9989 (100.0%) in 4.95 sec. Users per second: 2019\n",
      "MAP: 0.031154162435822443, RECALL: 0.12329895461855933\n",
      "EvaluatorHoldout: Processed 10024 (100.0%) in 5.11 sec. Users per second: 1962\n",
      "MAP: 0.03137013231735917, RECALL: 0.11912177321937419\n",
      "EvaluatorHoldout: Processed 10030 (100.0%) in 5.32 sec. Users per second: 1885\n",
      "MAP: 0.031409905205020135, RECALL: 0.12345900634441093\n",
      "EvaluatorHoldout: Processed 10052 (100.0%) in 5.32 sec. Users per second: 1889\n",
      "MAP: 0.030720819200475268, RECALL: 0.11873193612347076\n",
      "EvaluatorHoldout: Processed 10045 (100.0%) in 5.30 sec. Users per second: 1896\n",
      "MAP: 0.031117870376954695, RECALL: 0.11538387187206875\n",
      "EvaluatorHoldout: Processed 10068 (100.0%) in 5.00 sec. Users per second: 2013\n",
      "MAP: 0.03143371108210233, RECALL: 0.12235445357765876\n"
     ]
    },
    {
     "name": "stderr",
     "output_type": "stream",
     "text": [
      "[I 2024-01-10 17:00:16,192] Trial 195 finished with value: 0.031065002075230018 and parameters: {'w_slim': 0.8510179232928018, 'w_knn': 0.08847884950075163, 'w_p3': 0.09961472092876059, 'w_rp3': 0.728450836771791}. Best is trial 183 with value: 0.031120660183068433.\n"
     ]
    },
    {
     "name": "stdout",
     "output_type": "stream",
     "text": [
      "EvaluatorHoldout: Processed 10057 (100.0%) in 5.28 sec. Users per second: 1906\n",
      "MAP: 0.030924050373190445, RECALL: 0.11888074560703507\n",
      "EvaluatorHoldout: Processed 10040 (100.0%) in 5.32 sec. Users per second: 1889\n",
      "MAP: 0.031172777145386996, RECALL: 0.1184529648869931\n",
      "EvaluatorHoldout: Processed 10017 (100.0%) in 5.37 sec. Users per second: 1866\n",
      "MAP: 0.03061162293941593, RECALL: 0.11578120105362119\n",
      "EvaluatorHoldout: Processed 10037 (100.0%) in 4.81 sec. Users per second: 2087\n",
      "MAP: 0.03092336134081703, RECALL: 0.11923633263607894\n",
      "EvaluatorHoldout: Processed 9989 (100.0%) in 5.36 sec. Users per second: 1864\n",
      "MAP: 0.031152966676042268, RECALL: 0.12352263454880137\n",
      "EvaluatorHoldout: Processed 10024 (100.0%) in 5.28 sec. Users per second: 1899\n",
      "MAP: 0.03141241575773721, RECALL: 0.11924060445258186\n",
      "EvaluatorHoldout: Processed 10030 (100.0%) in 5.32 sec. Users per second: 1884\n",
      "MAP: 0.03144634746554019, RECALL: 0.12340554780594368\n",
      "EvaluatorHoldout: Processed 10052 (100.0%) in 5.25 sec. Users per second: 1915\n",
      "MAP: 0.030813148611348283, RECALL: 0.11908745131106901\n",
      "EvaluatorHoldout: Processed 10045 (100.0%) in 5.31 sec. Users per second: 1892\n",
      "MAP: 0.031138495816445233, RECALL: 0.11566405801189945\n",
      "EvaluatorHoldout: Processed 10068 (100.0%) in 5.45 sec. Users per second: 1847\n",
      "MAP: 0.03145443523721262, RECALL: 0.12233366708946732\n"
     ]
    },
    {
     "name": "stderr",
     "output_type": "stream",
     "text": [
      "[I 2024-01-10 17:01:23,131] Trial 196 finished with value: 0.031104962136313623 and parameters: {'w_slim': 0.7565752461092757, 'w_knn': 0.08968488844180147, 'w_p3': 0.09859199930925631, 'w_rp3': 0.718041246603757}. Best is trial 183 with value: 0.031120660183068433.\n"
     ]
    },
    {
     "name": "stdout",
     "output_type": "stream",
     "text": [
      "EvaluatorHoldout: Processed 10057 (100.0%) in 5.32 sec. Users per second: 1889\n",
      "MAP: 0.0309000759164826, RECALL: 0.11842348595332719\n",
      "EvaluatorHoldout: Processed 10040 (100.0%) in 5.32 sec. Users per second: 1888\n",
      "MAP: 0.031168615221653376, RECALL: 0.11824660064317187\n",
      "EvaluatorHoldout: Processed 10017 (100.0%) in 5.34 sec. Users per second: 1875\n",
      "MAP: 0.030589676122021386, RECALL: 0.115918682625484\n",
      "EvaluatorHoldout: Processed 10037 (100.0%) in 5.41 sec. Users per second: 1856\n",
      "MAP: 0.030917842079544056, RECALL: 0.11935651873878733\n",
      "EvaluatorHoldout: Processed 9989 (100.0%) in 5.39 sec. Users per second: 1852\n",
      "MAP: 0.031147544044480887, RECALL: 0.12345879138897202\n",
      "EvaluatorHoldout: Processed 10024 (100.0%) in 4.57 sec. Users per second: 2194\n",
      "MAP: 0.03144423621403892, RECALL: 0.11909462125777497\n",
      "EvaluatorHoldout: Processed 10030 (100.0%) in 4.77 sec. Users per second: 2103\n",
      "MAP: 0.031478212188830644, RECALL: 0.12339382561742437\n",
      "EvaluatorHoldout: Processed 10052 (100.0%) in 5.35 sec. Users per second: 1880\n",
      "MAP: 0.030806405895691905, RECALL: 0.11914045355038623\n",
      "EvaluatorHoldout: Processed 10045 (100.0%) in 5.37 sec. Users per second: 1869\n",
      "MAP: 0.03114704464828923, RECALL: 0.11556120354411445\n",
      "EvaluatorHoldout: Processed 10068 (100.0%) in 5.42 sec. Users per second: 1857\n",
      "MAP: 0.03145975225608745, RECALL: 0.12238317305958686\n"
     ]
    },
    {
     "name": "stderr",
     "output_type": "stream",
     "text": [
      "[I 2024-01-10 17:02:29,530] Trial 197 finished with value: 0.03110594045871204 and parameters: {'w_slim': 0.7662587898663897, 'w_knn': 0.08807289263676554, 'w_p3': 0.09652148871579766, 'w_rp3': 0.7349575604447688}. Best is trial 183 with value: 0.031120660183068433.\n"
     ]
    },
    {
     "name": "stdout",
     "output_type": "stream",
     "text": [
      "EvaluatorHoldout: Processed 10057 (100.0%) in 5.01 sec. Users per second: 2006\n",
      "MAP: 0.030909518127625123, RECALL: 0.11861993815997396\n",
      "EvaluatorHoldout: Processed 10040 (100.0%) in 4.81 sec. Users per second: 2089\n",
      "MAP: 0.031186077120091363, RECALL: 0.11844493200553949\n",
      "EvaluatorHoldout: Processed 10017 (100.0%) in 4.67 sec. Users per second: 2144\n",
      "MAP: 0.030583195076307045, RECALL: 0.11574286863801277\n",
      "EvaluatorHoldout: Processed 10037 (100.0%) in 5.25 sec. Users per second: 1912\n",
      "MAP: 0.030930394840677077, RECALL: 0.11946081969229003\n",
      "EvaluatorHoldout: Processed 9989 (100.0%) in 5.37 sec. Users per second: 1860\n",
      "MAP: 0.0311729926728928, RECALL: 0.12365335439624958\n",
      "EvaluatorHoldout: Processed 10024 (100.0%) in 4.97 sec. Users per second: 2018\n",
      "MAP: 0.03142784301802678, RECALL: 0.11916662516595086\n",
      "EvaluatorHoldout: Processed 10030 (100.0%) in 4.92 sec. Users per second: 2038\n",
      "MAP: 0.03145627007865324, RECALL: 0.12330339079606405\n",
      "EvaluatorHoldout: Processed 10052 (100.0%) in 5.09 sec. Users per second: 1974\n",
      "MAP: 0.030825260234084665, RECALL: 0.11913674475822685\n",
      "EvaluatorHoldout: Processed 10045 (100.0%) in 4.70 sec. Users per second: 2138\n",
      "MAP: 0.031156213704994384, RECALL: 0.11557274853867341\n",
      "EvaluatorHoldout: Processed 10068 (100.0%) in 4.92 sec. Users per second: 2047\n",
      "MAP: 0.031479376746063555, RECALL: 0.12234464700758178\n"
     ]
    },
    {
     "name": "stderr",
     "output_type": "stream",
     "text": [
      "[I 2024-01-10 17:03:33,421] Trial 198 finished with value: 0.031112714161941606 and parameters: {'w_slim': 0.7573220846944065, 'w_knn': 0.09015790272006131, 'w_p3': 0.09532944001241164, 'w_rp3': 0.7418570429115809}. Best is trial 183 with value: 0.031120660183068433.\n"
     ]
    },
    {
     "name": "stdout",
     "output_type": "stream",
     "text": [
      "EvaluatorHoldout: Processed 10057 (100.0%) in 5.36 sec. Users per second: 1878\n",
      "MAP: 0.030912864134749564, RECALL: 0.11892236453671783\n",
      "EvaluatorHoldout: Processed 10040 (100.0%) in 5.40 sec. Users per second: 1858\n",
      "MAP: 0.031178808575223222, RECALL: 0.11838662184307507\n",
      "EvaluatorHoldout: Processed 10017 (100.0%) in 5.18 sec. Users per second: 1933\n",
      "MAP: 0.03060919056651334, RECALL: 0.11577371960774677\n",
      "EvaluatorHoldout: Processed 10037 (100.0%) in 4.79 sec. Users per second: 2096\n",
      "MAP: 0.030916308072829232, RECALL: 0.11924704093934914\n",
      "EvaluatorHoldout: Processed 9989 (100.0%) in 4.80 sec. Users per second: 2081\n",
      "MAP: 0.03113834742025773, RECALL: 0.12366402174143834\n",
      "EvaluatorHoldout: Processed 10024 (100.0%) in 4.71 sec. Users per second: 2126\n",
      "MAP: 0.031404933714640634, RECALL: 0.1192244554912662\n",
      "EvaluatorHoldout: Processed 10030 (100.0%) in 4.90 sec. Users per second: 2047\n",
      "MAP: 0.03147098783016062, RECALL: 0.1234570497736521\n",
      "EvaluatorHoldout: Processed 10052 (100.0%) in 4.75 sec. Users per second: 2117\n",
      "MAP: 0.030821225658323074, RECALL: 0.11913936178501405\n",
      "EvaluatorHoldout: Processed 10045 (100.0%) in 4.92 sec. Users per second: 2040\n",
      "MAP: 0.03115968617412139, RECALL: 0.11565093518481813\n",
      "EvaluatorHoldout: Processed 10068 (100.0%) in 4.86 sec. Users per second: 2072\n",
      "MAP: 0.03145153038701934, RECALL: 0.12240990643004537\n"
     ]
    },
    {
     "name": "stderr",
     "output_type": "stream",
     "text": [
      "[I 2024-01-10 17:04:37,179] Trial 199 finished with value: 0.03110638825338382 and parameters: {'w_slim': 0.7563788629482072, 'w_knn': 0.09255413415165097, 'w_p3': 0.09997426809417195, 'w_rp3': 0.7271727549306397}. Best is trial 183 with value: 0.031120660183068433.\n"
     ]
    },
    {
     "name": "stdout",
     "output_type": "stream",
     "text": [
      "EvaluatorHoldout: Processed 10057 (100.0%) in 4.92 sec. Users per second: 2044\n",
      "MAP: 0.03090923403268058, RECALL: 0.11869332396894111\n",
      "EvaluatorHoldout: Processed 10040 (100.0%) in 5.34 sec. Users per second: 1880\n",
      "MAP: 0.031187029659141517, RECALL: 0.11844272684205175\n",
      "EvaluatorHoldout: Processed 10017 (100.0%) in 5.38 sec. Users per second: 1863\n",
      "MAP: 0.030580422012737335, RECALL: 0.1157095726501557\n",
      "EvaluatorHoldout: Processed 10037 (100.0%) in 5.40 sec. Users per second: 1858\n",
      "MAP: 0.03091849442776042, RECALL: 0.11936118832833666\n",
      "EvaluatorHoldout: Processed 9989 (100.0%) in 5.46 sec. Users per second: 1829\n",
      "MAP: 0.031163823857036626, RECALL: 0.12362409397822599\n",
      "EvaluatorHoldout: Processed 10024 (100.0%) in 5.29 sec. Users per second: 1894\n",
      "MAP: 0.03143151278202176, RECALL: 0.1192468438929453\n",
      "EvaluatorHoldout: Processed 10030 (100.0%) in 5.41 sec. Users per second: 1853\n",
      "MAP: 0.03146469717830666, RECALL: 0.12327162462272259\n",
      "EvaluatorHoldout: Processed 10052 (100.0%) in 5.53 sec. Users per second: 1817\n",
      "MAP: 0.030819322854490308, RECALL: 0.11913369046511242\n",
      "EvaluatorHoldout: Processed 10045 (100.0%) in 5.30 sec. Users per second: 1895\n",
      "MAP: 0.031146388869136694, RECALL: 0.11557667725794557\n",
      "EvaluatorHoldout: Processed 10068 (100.0%) in 5.41 sec. Users per second: 1860\n",
      "MAP: 0.03146924327272984, RECALL: 0.12233679244493889\n"
     ]
    },
    {
     "name": "stderr",
     "output_type": "stream",
     "text": [
      "[I 2024-01-10 17:05:44,977] Trial 200 finished with value: 0.03110901689460417 and parameters: {'w_slim': 0.7603119797403111, 'w_knn': 0.09024209638198831, 'w_p3': 0.09588019146654307, 'w_rp3': 0.7397417497197055}. Best is trial 183 with value: 0.031120660183068433.\n"
     ]
    },
    {
     "name": "stdout",
     "output_type": "stream",
     "text": [
      "EvaluatorHoldout: Processed 10057 (100.0%) in 5.39 sec. Users per second: 1865\n",
      "MAP: 0.030921106833904102, RECALL: 0.11870964700326249\n",
      "EvaluatorHoldout: Processed 10040 (100.0%) in 5.15 sec. Users per second: 1948\n",
      "MAP: 0.031040607411623664, RECALL: 0.1179087589047882\n",
      "EvaluatorHoldout: Processed 10017 (100.0%) in 4.92 sec. Users per second: 2037\n",
      "MAP: 0.030557896813512442, RECALL: 0.11582144102857714\n",
      "EvaluatorHoldout: Processed 10037 (100.0%) in 5.46 sec. Users per second: 1838\n",
      "MAP: 0.03089657552769071, RECALL: 0.11938249656564474\n",
      "EvaluatorHoldout: Processed 9989 (100.0%) in 5.49 sec. Users per second: 1819\n",
      "MAP: 0.031098740360428395, RECALL: 0.1230800988299358\n",
      "EvaluatorHoldout: Processed 10024 (100.0%) in 5.35 sec. Users per second: 1873\n",
      "MAP: 0.031338244562257166, RECALL: 0.1194501950682539\n",
      "EvaluatorHoldout: Processed 10030 (100.0%) in 5.40 sec. Users per second: 1859\n",
      "MAP: 0.031294188861985754, RECALL: 0.12312696744150786\n",
      "EvaluatorHoldout: Processed 10052 (100.0%) in 5.41 sec. Users per second: 1858\n",
      "MAP: 0.030758993708904482, RECALL: 0.11856398145298974\n",
      "EvaluatorHoldout: Processed 10045 (100.0%) in 5.21 sec. Users per second: 1929\n",
      "MAP: 0.031088933134229405, RECALL: 0.11591318271581419\n",
      "EvaluatorHoldout: Processed 10068 (100.0%) in 5.37 sec. Users per second: 1874\n",
      "MAP: 0.03130017468515705, RECALL: 0.1220495843164066\n"
     ]
    },
    {
     "name": "stderr",
     "output_type": "stream",
     "text": [
      "[I 2024-01-10 17:06:52,364] Trial 201 finished with value: 0.031029546189969316 and parameters: {'w_slim': 0.7552618891241746, 'w_knn': 0.08982118342424836, 'w_p3': 0.097790925614128, 'w_rp3': 0.4910064540348884}. Best is trial 183 with value: 0.031120660183068433.\n"
     ]
    },
    {
     "name": "stdout",
     "output_type": "stream",
     "text": [
      "EvaluatorHoldout: Processed 10057 (100.0%) in 5.28 sec. Users per second: 1905\n",
      "MAP: 0.03089698243819771, RECALL: 0.11862726608768723\n",
      "EvaluatorHoldout: Processed 10040 (100.0%) in 5.26 sec. Users per second: 1907\n",
      "MAP: 0.031189171883893297, RECALL: 0.11840400461949133\n",
      "EvaluatorHoldout: Processed 10017 (100.0%) in 5.30 sec. Users per second: 1888\n",
      "MAP: 0.030586261292311265, RECALL: 0.11590609795296725\n",
      "EvaluatorHoldout: Processed 10037 (100.0%) in 5.29 sec. Users per second: 1898\n",
      "MAP: 0.030921617791947846, RECALL: 0.11944185890919513\n"
     ]
    }
   ],
   "source": [
    "study.optimize(objective, n_trials=200)"
   ]
  },
  {
   "cell_type": "code",
   "execution_count": null,
   "metadata": {},
   "outputs": [],
   "source": [
    "best_MAP_test = 0\n",
    "\n",
    "for i in range(k_fold):\n",
    "    recommender = recommenderClass(urm_train[i])\n",
    "    recommender.fit(**study.best_params)\n",
    "\n",
    "    result_dict, _ = evaluator_test[i].evaluateRecommender(recommender)\n",
    "\n",
    "    best_MAP_test += result_dict[\"MAP\"].item()\n",
    "\n",
    "best_MAP_test /= k_fold\n",
    "best_MAP_test"
   ]
  },
  {
   "cell_type": "code",
   "execution_count": null,
   "metadata": {},
   "outputs": [],
   "source": [
    "best_MAP_test = 0\n",
    "\n",
    "for i in range(k_fold):\n",
    "    recommender = recommenderClass(urm_train_validation[i])\n",
    "    recommender.fit(**study.best_params)\n",
    "\n",
    "    result_dict, _ = evaluator_test[i].evaluateRecommender(recommender)\n",
    "\n",
    "    best_MAP_test += result_dict[\"MAP\"].item()\n",
    "\n",
    "best_MAP_test /= k_fold\n",
    "best_MAP_test"
   ]
  }
 ],
 "metadata": {
  "kernelspec": {
   "display_name": "RecSysFramework",
   "language": "python",
   "name": "python3"
  },
  "language_info": {
   "codemirror_mode": {
    "name": "ipython",
    "version": 3
   },
   "file_extension": ".py",
   "mimetype": "text/x-python",
   "name": "python",
   "nbconvert_exporter": "python",
   "pygments_lexer": "ipython3",
   "version": "3.8.18"
  }
 },
 "nbformat": 4,
 "nbformat_minor": 2
}
