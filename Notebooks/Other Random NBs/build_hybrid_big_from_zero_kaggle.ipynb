{
 "cells": [
  {
   "cell_type": "code",
   "execution_count": 1,
   "metadata": {},
   "outputs": [],
   "source": [
    "import os\n",
    "os.chdir( \"../\")"
   ]
  },
  {
   "cell_type": "code",
   "execution_count": 2,
   "metadata": {},
   "outputs": [
    {
     "data": {
      "text/plain": [
       "8"
      ]
     },
     "execution_count": 2,
     "metadata": {},
     "output_type": "execute_result"
    }
   ],
   "source": [
    "import psutil\n",
    "num_cpus = psutil.cpu_count(logical=False)\n",
    "num_cpus = 8\n"
   ]
  },
  {
   "cell_type": "code",
   "execution_count": 3,
   "metadata": {},
   "outputs": [
    {
     "data": {
      "text/html": [
       "<div>\n",
       "<style scoped>\n",
       "    .dataframe tbody tr th:only-of-type {\n",
       "        vertical-align: middle;\n",
       "    }\n",
       "\n",
       "    .dataframe tbody tr th {\n",
       "        vertical-align: top;\n",
       "    }\n",
       "\n",
       "    .dataframe thead th {\n",
       "        text-align: right;\n",
       "    }\n",
       "</style>\n",
       "<table border=\"1\" class=\"dataframe\">\n",
       "  <thead>\n",
       "    <tr style=\"text-align: right;\">\n",
       "      <th></th>\n",
       "      <th>UserID</th>\n",
       "      <th>ItemID</th>\n",
       "      <th>Interaction</th>\n",
       "    </tr>\n",
       "  </thead>\n",
       "  <tbody>\n",
       "    <tr>\n",
       "      <th>0</th>\n",
       "      <td>1</td>\n",
       "      <td>15</td>\n",
       "      <td>1.0</td>\n",
       "    </tr>\n",
       "    <tr>\n",
       "      <th>1</th>\n",
       "      <td>1</td>\n",
       "      <td>16</td>\n",
       "      <td>1.0</td>\n",
       "    </tr>\n",
       "    <tr>\n",
       "      <th>2</th>\n",
       "      <td>1</td>\n",
       "      <td>133</td>\n",
       "      <td>1.0</td>\n",
       "    </tr>\n",
       "    <tr>\n",
       "      <th>3</th>\n",
       "      <td>1</td>\n",
       "      <td>161</td>\n",
       "      <td>1.0</td>\n",
       "    </tr>\n",
       "    <tr>\n",
       "      <th>4</th>\n",
       "      <td>1</td>\n",
       "      <td>187</td>\n",
       "      <td>1.0</td>\n",
       "    </tr>\n",
       "    <tr>\n",
       "      <th>...</th>\n",
       "      <td>...</td>\n",
       "      <td>...</td>\n",
       "      <td>...</td>\n",
       "    </tr>\n",
       "    <tr>\n",
       "      <th>478724</th>\n",
       "      <td>13024</td>\n",
       "      <td>13605</td>\n",
       "      <td>1.0</td>\n",
       "    </tr>\n",
       "    <tr>\n",
       "      <th>478725</th>\n",
       "      <td>13024</td>\n",
       "      <td>13823</td>\n",
       "      <td>1.0</td>\n",
       "    </tr>\n",
       "    <tr>\n",
       "      <th>478726</th>\n",
       "      <td>13024</td>\n",
       "      <td>15122</td>\n",
       "      <td>1.0</td>\n",
       "    </tr>\n",
       "    <tr>\n",
       "      <th>478727</th>\n",
       "      <td>13024</td>\n",
       "      <td>18185</td>\n",
       "      <td>1.0</td>\n",
       "    </tr>\n",
       "    <tr>\n",
       "      <th>478728</th>\n",
       "      <td>13024</td>\n",
       "      <td>20014</td>\n",
       "      <td>1.0</td>\n",
       "    </tr>\n",
       "  </tbody>\n",
       "</table>\n",
       "<p>478729 rows × 3 columns</p>\n",
       "</div>"
      ],
      "text/plain": [
       "        UserID  ItemID  Interaction\n",
       "0            1      15          1.0\n",
       "1            1      16          1.0\n",
       "2            1     133          1.0\n",
       "3            1     161          1.0\n",
       "4            1     187          1.0\n",
       "...        ...     ...          ...\n",
       "478724   13024   13605          1.0\n",
       "478725   13024   13823          1.0\n",
       "478726   13024   15122          1.0\n",
       "478727   13024   18185          1.0\n",
       "478728   13024   20014          1.0\n",
       "\n",
       "[478729 rows x 3 columns]"
      ]
     },
     "execution_count": 3,
     "metadata": {},
     "output_type": "execute_result"
    }
   ],
   "source": [
    "import pandas as pd\n",
    "import numpy as np\n",
    "\n",
    "path = \"Dataset/data_train.csv\"\n",
    "df = pd.read_csv(filepath_or_buffer=path,\n",
    "                               sep=\",\",\n",
    "                               header=1,\n",
    "                               engine='python',\n",
    "                               names=['UserID', 'ItemID', 'Interaction'])\n",
    "\n",
    "metric_to_optimize=\"MAP\"\n",
    "\n",
    "df"
   ]
  },
  {
   "cell_type": "code",
   "execution_count": 4,
   "metadata": {},
   "outputs": [
    {
     "name": "stdout",
     "output_type": "stream",
     "text": [
      "Number of users: 12638, Number of Items: 22222, Min rating: 0.0, Max rating: 1.0\n"
     ]
    }
   ],
   "source": [
    "user_ids = df[\"UserID\"].unique().tolist()\n",
    "user2user_encoded = {x: i for i, x in enumerate(user_ids)}\n",
    "userencoded2user = {i: x for i, x in enumerate(user_ids)}\n",
    "item_ids = df[\"ItemID\"].unique().tolist()\n",
    "item2item_encoded = {x: i for i, x in enumerate(item_ids)}\n",
    "item_encoded2item = {i: x for i, x in enumerate(item_ids)}\n",
    "df[\"User\"] = df[\"UserID\"].map(user2user_encoded)\n",
    "df[\"Item\"] = df[\"ItemID\"].map(item2item_encoded)\n",
    "\n",
    "num_users = len(user2user_encoded)\n",
    "num_items = len(item_encoded2item)\n",
    "df[\"Interaction\"] = df[\"Interaction\"].values.astype(np.float32)\n",
    "\n",
    "# min and max ratings will be used to normalize the ratings later\n",
    "min_rating = 0.0\n",
    "max_rating = max(df[\"Interaction\"])\n",
    "\n",
    "print(\n",
    "    \"Number of users: {}, Number of Items: {}, Min rating: {}, Max rating: {}\".format(\n",
    "        num_users, num_items, min_rating, max_rating\n",
    "    )\n",
    ")"
   ]
  },
  {
   "cell_type": "code",
   "execution_count": 5,
   "metadata": {},
   "outputs": [],
   "source": [
    "userId_unique = df[\"UserID\"].unique()\n",
    "itemId_unique = df[\"ItemID\"].unique()"
   ]
  },
  {
   "cell_type": "code",
   "execution_count": 6,
   "metadata": {},
   "outputs": [
    {
     "name": "stdout",
     "output_type": "stream",
     "text": [
      "Warning: 226 (1.79 %) of 12638 users have no train items\n",
      "Warning: 2136 (16.90 %) of 12638 users have no sampled items\n",
      "Warning: 465 (3.68 %) of 12638 users have no train items\n",
      "Warning: 2624 (20.76 %) of 12638 users have no sampled items\n",
      "Warning: 240 (1.90 %) of 12638 users have no train items\n",
      "Warning: 2128 (16.84 %) of 12638 users have no sampled items\n",
      "Warning: 498 (3.94 %) of 12638 users have no train items\n",
      "Warning: 2567 (20.31 %) of 12638 users have no sampled items\n",
      "Warning: 198 (1.57 %) of 12638 users have no train items\n",
      "Warning: 2180 (17.25 %) of 12638 users have no sampled items\n",
      "Warning: 449 (3.55 %) of 12638 users have no train items\n",
      "Warning: 2594 (20.53 %) of 12638 users have no sampled items\n",
      "Warning: 216 (1.71 %) of 12638 users have no train items\n",
      "Warning: 2196 (17.38 %) of 12638 users have no sampled items\n",
      "Warning: 478 (3.78 %) of 12638 users have no train items\n",
      "Warning: 2613 (20.68 %) of 12638 users have no sampled items\n",
      "Warning: 189 (1.50 %) of 12638 users have no train items\n",
      "Warning: 2202 (17.42 %) of 12638 users have no sampled items\n",
      "Warning: 464 (3.67 %) of 12638 users have no train items\n",
      "Warning: 2535 (20.06 %) of 12638 users have no sampled items\n",
      "Warning: 223 (1.76 %) of 12638 users have no train items\n",
      "Warning: 2173 (17.19 %) of 12638 users have no sampled items\n",
      "Warning: 475 (3.76 %) of 12638 users have no train items\n",
      "Warning: 2581 (20.42 %) of 12638 users have no sampled items\n",
      "Warning: 216 (1.71 %) of 12638 users have no train items\n",
      "Warning: 2187 (17.30 %) of 12638 users have no sampled items\n",
      "Warning: 457 (3.62 %) of 12638 users have no train items\n",
      "Warning: 2601 (20.58 %) of 12638 users have no sampled items\n",
      "Warning: 216 (1.71 %) of 12638 users have no train items\n",
      "Warning: 2162 (17.11 %) of 12638 users have no sampled items\n",
      "Warning: 440 (3.48 %) of 12638 users have no train items\n",
      "Warning: 2618 (20.72 %) of 12638 users have no sampled items\n"
     ]
    }
   ],
   "source": [
    "from sklearn.model_selection import train_test_split\n",
    "from sklearn.model_selection import cross_val_score, KFold\n",
    "import numpy as np\n",
    "import scipy.sparse as sps\n",
    "from Data_manager.split_functions.split_train_validation_random_holdout import split_train_in_two_percentage_global_sample\n",
    "\n",
    "seeds = [\n",
    "    7315366, 9428914, 5564236, \n",
    "    3420043, 9223036, 851434, 3300082, 7899660, \n",
    "    2053768, 4305274, 3709256, 8795594, 1418903, \n",
    "    7428566, 157832\n",
    "]\n",
    "\n",
    "seeds = seeds[:num_cpus]\n",
    "\n",
    "urm_all = sps.coo_matrix((df[\"Interaction\"].values, \n",
    "                          (df[\"User\"].values, df[\"Item\"].values)))\n",
    "\n",
    "urm_train_validation = []\n",
    "urm_test = []\n",
    "urm_train = []\n",
    "urm_validation = []\n",
    "\n",
    "for i in range(len(seeds)):\n",
    "    a, b = split_train_in_two_percentage_global_sample(urm_all, train_percentage = 0.80,seed=seeds[i])\n",
    "    c, d = split_train_in_two_percentage_global_sample(a, train_percentage = 0.80,seed=seeds[i])\n",
    "    urm_train_validation.append(a)\n",
    "    urm_test.append(b)\n",
    "    urm_train.append(c)\n",
    "    urm_validation.append(d)\n",
    "\n"
   ]
  },
  {
   "cell_type": "code",
   "execution_count": 7,
   "metadata": {},
   "outputs": [
    {
     "name": "stdout",
     "output_type": "stream",
     "text": [
      "EvaluatorHoldout: Ignoring 2136 (16.9%) Users that have less than 1 test interactions\n",
      "EvaluatorHoldout: Ignoring 0 Users\n",
      "EvaluatorHoldout: Ignoring 2128 (16.8%) Users that have less than 1 test interactions\n",
      "EvaluatorHoldout: Ignoring 0 Users\n",
      "EvaluatorHoldout: Ignoring 2180 (17.2%) Users that have less than 1 test interactions\n",
      "EvaluatorHoldout: Ignoring 0 Users\n",
      "EvaluatorHoldout: Ignoring 2196 (17.4%) Users that have less than 1 test interactions\n",
      "EvaluatorHoldout: Ignoring 0 Users\n",
      "EvaluatorHoldout: Ignoring 2202 (17.4%) Users that have less than 1 test interactions\n",
      "EvaluatorHoldout: Ignoring 0 Users\n",
      "EvaluatorHoldout: Ignoring 2173 (17.2%) Users that have less than 1 test interactions\n",
      "EvaluatorHoldout: Ignoring 0 Users\n",
      "EvaluatorHoldout: Ignoring 2187 (17.3%) Users that have less than 1 test interactions\n",
      "EvaluatorHoldout: Ignoring 0 Users\n",
      "EvaluatorHoldout: Ignoring 2162 (17.1%) Users that have less than 1 test interactions\n",
      "EvaluatorHoldout: Ignoring 0 Users\n"
     ]
    }
   ],
   "source": [
    "from Evaluation.Evaluator import EvaluatorHoldout\n",
    "evaluator_test = []\n",
    "for u in urm_test:\n",
    "    evaluator_test.append(EvaluatorHoldout(u, cutoff_list=[10], ignore_users=[]))"
   ]
  },
  {
   "cell_type": "code",
   "execution_count": 8,
   "metadata": {},
   "outputs": [],
   "source": [
    "from Recommenders.KNN.ItemKNNCFRecommender import ItemKNNCFRecommender\n",
    "from Recommenders.MatrixFactorization.ImplicitIALSRecommender import ImplicitALSRecommender\n",
    "from Recommenders.GraphBased.RP3betaRecommender import RP3betaRecommender\n",
    "from Recommenders.GraphBased.P3alphaRecommender import P3alphaRecommender\n",
    "from Recommenders.SLIM.SLIMElasticNetRecommender import MultiThreadSLIM_SLIMElasticNetRecommender\n",
    "from Recommenders.MatrixFactorization.NMFRecommender import NMFRecommender\n",
    "from Recommenders.Recommender_import_list import *\n",
    "import optuna"
   ]
  },
  {
   "cell_type": "code",
   "execution_count": 9,
   "metadata": {},
   "outputs": [],
   "source": [
    "# Replace the following with your MySQL database connection details\n",
    "host = \"db-mysql-nyc3-14396-do-user-15539286-0.c.db.ondigitalocean.com\"\n",
    "port = 25060\n",
    "database_name = \"recsys_optuna\"\n",
    "username = \"doadmin\"\n",
    "password = \"AVNS_EIQ1D-GbDGJWZPsN3Mt\"\n",
    "\n",
    "# Create an SQLAlchemy engine\n",
    "mysql_url = f\"mysql+pymysql://{username}:{password}@{host}:{port}/{database_name}\"\n",
    "storage = optuna.storages.RDBStorage(url=mysql_url)\n",
    "\n",
    "nmf_name = \"NMF8-FOLD\"\n",
    "knn_name = \"itemKNN8-FOLD\"\n",
    "slim_name = \"SLIM_EN8-FOLD\"\n",
    "rp3beta_name = \"RP3b8-FOLD\"\n",
    "p3alpha_name = \"P3a8-FOLD\"\n",
    "hybrid_name = \"HYBRID8-FOLD\"\n",
    "#nmf_study = optuna.load_study(study_name=nmf_name, storage=storage)\n",
    "#knn_study = optuna.load_study(study_name=knn_name, storage=storage)\n",
    "#slim_study = optuna.load_study(study_name=slim_name, storage=storage)\n",
    "#rp3beta_study = optuna.load_study(study_name=rp3beta_name, storage=storage)\n",
    "#p3alpha_study = optuna.load_study(study_name=p3alpha_name, storage=storage)\n",
    "#hybrid_study = optuna.load_study(study_name=hybrid_name, storage=storage)\n",
    "\n",
    "#studies = [nmf_study, knn_study, slim_study, rp3beta_study, p3alpha_study]\n",
    "#studies = [knn_study, slim_study, rp3beta_study, p3alpha_study]\n",
    "#recommenders_list = [\"Hybrid\", \"itemKNN\", \"RP3beta\", \"P3alpha\", \"NMF\", \"SLIM_EN\", \"TopPop\"]\n",
    "    "
   ]
  },
  {
   "cell_type": "code",
   "execution_count": null,
   "metadata": {},
   "outputs": [],
   "source": []
  },
  {
   "cell_type": "code",
   "execution_count": 10,
   "metadata": {},
   "outputs": [],
   "source": [
    "metric_to_optimize = \"MAP\""
   ]
  },
  {
   "cell_type": "code",
   "execution_count": null,
   "metadata": {},
   "outputs": [],
   "source": [
    "from Recommenders.EASE_R.EASE_R_RecommenderV2 import EASE_R_RecommenderV2"
   ]
  },
  {
   "cell_type": "code",
   "execution_count": 37,
   "metadata": {},
   "outputs": [
    {
     "name": "stdout",
     "output_type": "stream",
     "text": [
      "NMFRecommender: URM Detected 226 ( 1.8%) users with no interactions.\n",
      "NMFRecommender: URM Detected 90 ( 0.4%) items with no interactions.\n",
      "NMFRecommender: Computing NMF decomposition...\n",
      "NMFRecommender: Computing NMF decomposition... done in 16.98 sec\n",
      "P3alphaRecommender: URM Detected 226 ( 1.8%) users with no interactions.\n",
      "P3alphaRecommender: URM Detected 90 ( 0.4%) items with no interactions.\n",
      "P3alphaRecommender: Similarity column 22222 (100.0%), 9524.94 column/sec. Elapsed time 2.33 sec\n",
      "RP3betaRecommender: URM Detected 226 ( 1.8%) users with no interactions.\n",
      "RP3betaRecommender: URM Detected 90 ( 0.4%) items with no interactions.\n",
      "RP3betaRecommender: Similarity column 22222 (100.0%), 8664.90 column/sec. Elapsed time 2.56 sec\n",
      "ItemKNNCFRecommender: URM Detected 226 ( 1.8%) users with no interactions.\n",
      "ItemKNNCFRecommender: URM Detected 90 ( 0.4%) items with no interactions.\n",
      "Similarity column 22222 (100.0%), 12704.91 column/sec. Elapsed time 1.75 sec\n",
      "SLIMElasticNetRecommender: URM Detected 226 ( 1.8%) users with no interactions.\n",
      "SLIMElasticNetRecommender: URM Detected 90 ( 0.4%) items with no interactions.\n"
     ]
    },
    {
     "name": "stderr",
     "output_type": "stream",
     "text": [
      "100%|█████████▉| 22216/22222 [01:02<00:00, 354.18it/s]\n"
     ]
    },
    {
     "name": "stdout",
     "output_type": "stream",
     "text": [
      "NMFRecommender: URM Detected 240 ( 1.9%) users with no interactions.\n",
      "NMFRecommender: URM Detected 111 ( 0.5%) items with no interactions.\n",
      "NMFRecommender: Computing NMF decomposition...\n",
      "NMFRecommender: Computing NMF decomposition... done in 18.00 sec\n",
      "P3alphaRecommender: URM Detected 240 ( 1.9%) users with no interactions.\n",
      "P3alphaRecommender: URM Detected 111 ( 0.5%) items with no interactions.\n",
      "P3alphaRecommender: Similarity column 22222 (100.0%), 9077.90 column/sec. Elapsed time 2.45 sec\n",
      "RP3betaRecommender: URM Detected 240 ( 1.9%) users with no interactions.\n",
      "RP3betaRecommender: URM Detected 111 ( 0.5%) items with no interactions.\n",
      "RP3betaRecommender: Similarity column 22222 (100.0%), 8526.15 column/sec. Elapsed time 2.61 sec\n",
      "ItemKNNCFRecommender: URM Detected 240 ( 1.9%) users with no interactions.\n",
      "ItemKNNCFRecommender: URM Detected 111 ( 0.5%) items with no interactions.\n",
      "Similarity column 22222 (100.0%), 12348.45 column/sec. Elapsed time 1.80 sec\n",
      "SLIMElasticNetRecommender: URM Detected 240 ( 1.9%) users with no interactions.\n",
      "SLIMElasticNetRecommender: URM Detected 111 ( 0.5%) items with no interactions.\n"
     ]
    },
    {
     "name": "stderr",
     "output_type": "stream",
     "text": [
      "100%|█████████▉| 22216/22222 [01:03<00:00, 350.06it/s]\n"
     ]
    },
    {
     "name": "stdout",
     "output_type": "stream",
     "text": [
      "NMFRecommender: URM Detected 198 ( 1.6%) users with no interactions.\n",
      "NMFRecommender: URM Detected 118 ( 0.5%) items with no interactions.\n",
      "NMFRecommender: Computing NMF decomposition...\n",
      "NMFRecommender: Computing NMF decomposition... done in 23.10 sec\n",
      "P3alphaRecommender: URM Detected 198 ( 1.6%) users with no interactions.\n",
      "P3alphaRecommender: URM Detected 118 ( 0.5%) items with no interactions.\n",
      "P3alphaRecommender: Similarity column 22222 (100.0%), 9337.66 column/sec. Elapsed time 2.38 sec\n",
      "RP3betaRecommender: URM Detected 198 ( 1.6%) users with no interactions.\n",
      "RP3betaRecommender: URM Detected 118 ( 0.5%) items with no interactions.\n",
      "RP3betaRecommender: Similarity column 22222 (100.0%), 8556.66 column/sec. Elapsed time 2.60 sec\n",
      "ItemKNNCFRecommender: URM Detected 198 ( 1.6%) users with no interactions.\n",
      "ItemKNNCFRecommender: URM Detected 118 ( 0.5%) items with no interactions.\n",
      "Similarity column 22222 (100.0%), 12812.25 column/sec. Elapsed time 1.73 sec\n",
      "SLIMElasticNetRecommender: URM Detected 198 ( 1.6%) users with no interactions.\n",
      "SLIMElasticNetRecommender: URM Detected 118 ( 0.5%) items with no interactions.\n"
     ]
    },
    {
     "name": "stderr",
     "output_type": "stream",
     "text": [
      "100%|█████████▉| 22216/22222 [01:03<00:00, 350.41it/s]\n"
     ]
    },
    {
     "name": "stdout",
     "output_type": "stream",
     "text": [
      "NMFRecommender: URM Detected 216 ( 1.7%) users with no interactions.\n",
      "NMFRecommender: URM Detected 121 ( 0.5%) items with no interactions.\n",
      "NMFRecommender: Computing NMF decomposition...\n",
      "NMFRecommender: Computing NMF decomposition... done in 17.46 sec\n",
      "P3alphaRecommender: URM Detected 216 ( 1.7%) users with no interactions.\n",
      "P3alphaRecommender: URM Detected 121 ( 0.5%) items with no interactions.\n",
      "P3alphaRecommender: Similarity column 22222 (100.0%), 9431.35 column/sec. Elapsed time 2.36 sec\n",
      "RP3betaRecommender: URM Detected 216 ( 1.7%) users with no interactions.\n",
      "RP3betaRecommender: URM Detected 121 ( 0.5%) items with no interactions.\n",
      "RP3betaRecommender: Similarity column 22222 (100.0%), 8722.57 column/sec. Elapsed time 2.55 sec\n",
      "ItemKNNCFRecommender: URM Detected 216 ( 1.7%) users with no interactions.\n",
      "ItemKNNCFRecommender: URM Detected 121 ( 0.5%) items with no interactions.\n",
      "Similarity column 22222 (100.0%), 12799.02 column/sec. Elapsed time 1.74 sec\n",
      "SLIMElasticNetRecommender: URM Detected 216 ( 1.7%) users with no interactions.\n",
      "SLIMElasticNetRecommender: URM Detected 121 ( 0.5%) items with no interactions.\n"
     ]
    },
    {
     "name": "stderr",
     "output_type": "stream",
     "text": [
      "100%|█████████▉| 22216/22222 [01:03<00:00, 352.10it/s]\n"
     ]
    },
    {
     "name": "stdout",
     "output_type": "stream",
     "text": [
      "NMFRecommender: URM Detected 189 ( 1.5%) users with no interactions.\n",
      "NMFRecommender: URM Detected 112 ( 0.5%) items with no interactions.\n",
      "NMFRecommender: Computing NMF decomposition...\n",
      "NMFRecommender: Computing NMF decomposition... done in 18.93 sec\n",
      "P3alphaRecommender: URM Detected 189 ( 1.5%) users with no interactions.\n",
      "P3alphaRecommender: URM Detected 112 ( 0.5%) items with no interactions.\n",
      "P3alphaRecommender: Similarity column 22222 (100.0%), 9494.72 column/sec. Elapsed time 2.34 sec\n",
      "RP3betaRecommender: URM Detected 189 ( 1.5%) users with no interactions.\n",
      "RP3betaRecommender: URM Detected 112 ( 0.5%) items with no interactions.\n",
      "RP3betaRecommender: Similarity column 22222 (100.0%), 8712.67 column/sec. Elapsed time 2.55 sec\n",
      "ItemKNNCFRecommender: URM Detected 189 ( 1.5%) users with no interactions.\n",
      "ItemKNNCFRecommender: URM Detected 112 ( 0.5%) items with no interactions.\n",
      "Similarity column 22222 (100.0%), 12788.24 column/sec. Elapsed time 1.74 sec\n",
      "SLIMElasticNetRecommender: URM Detected 189 ( 1.5%) users with no interactions.\n",
      "SLIMElasticNetRecommender: URM Detected 112 ( 0.5%) items with no interactions.\n"
     ]
    },
    {
     "name": "stderr",
     "output_type": "stream",
     "text": [
      "100%|█████████▉| 22216/22222 [01:03<00:00, 350.80it/s]\n"
     ]
    },
    {
     "name": "stdout",
     "output_type": "stream",
     "text": [
      "NMFRecommender: URM Detected 223 ( 1.8%) users with no interactions.\n",
      "NMFRecommender: URM Detected 121 ( 0.5%) items with no interactions.\n",
      "NMFRecommender: Computing NMF decomposition...\n",
      "NMFRecommender: Computing NMF decomposition... done in 21.62 sec\n",
      "P3alphaRecommender: URM Detected 223 ( 1.8%) users with no interactions.\n",
      "P3alphaRecommender: URM Detected 121 ( 0.5%) items with no interactions.\n",
      "P3alphaRecommender: Similarity column 22222 (100.0%), 9339.92 column/sec. Elapsed time 2.38 sec\n",
      "RP3betaRecommender: URM Detected 223 ( 1.8%) users with no interactions.\n",
      "RP3betaRecommender: URM Detected 121 ( 0.5%) items with no interactions.\n",
      "RP3betaRecommender: Similarity column 22222 (100.0%), 8598.64 column/sec. Elapsed time 2.58 sec\n",
      "ItemKNNCFRecommender: URM Detected 223 ( 1.8%) users with no interactions.\n",
      "ItemKNNCFRecommender: URM Detected 121 ( 0.5%) items with no interactions.\n",
      "Similarity column 22222 (100.0%), 12659.68 column/sec. Elapsed time 1.76 sec\n",
      "SLIMElasticNetRecommender: URM Detected 223 ( 1.8%) users with no interactions.\n",
      "SLIMElasticNetRecommender: URM Detected 121 ( 0.5%) items with no interactions.\n"
     ]
    },
    {
     "name": "stderr",
     "output_type": "stream",
     "text": [
      "100%|█████████▉| 22216/22222 [01:04<00:00, 345.96it/s]\n"
     ]
    },
    {
     "name": "stdout",
     "output_type": "stream",
     "text": [
      "NMFRecommender: URM Detected 216 ( 1.7%) users with no interactions.\n",
      "NMFRecommender: URM Detected 115 ( 0.5%) items with no interactions.\n",
      "NMFRecommender: Computing NMF decomposition...\n",
      "NMFRecommender: Computing NMF decomposition... done in 26.44 sec\n",
      "P3alphaRecommender: URM Detected 216 ( 1.7%) users with no interactions.\n",
      "P3alphaRecommender: URM Detected 115 ( 0.5%) items with no interactions.\n",
      "P3alphaRecommender: Similarity column 22222 (100.0%), 9306.93 column/sec. Elapsed time 2.39 sec\n",
      "RP3betaRecommender: URM Detected 216 ( 1.7%) users with no interactions.\n",
      "RP3betaRecommender: URM Detected 115 ( 0.5%) items with no interactions.\n",
      "RP3betaRecommender: Similarity column 22222 (100.0%), 8588.53 column/sec. Elapsed time 2.59 sec\n",
      "ItemKNNCFRecommender: URM Detected 216 ( 1.7%) users with no interactions.\n",
      "ItemKNNCFRecommender: URM Detected 115 ( 0.5%) items with no interactions.\n",
      "Similarity column 22222 (100.0%), 12749.53 column/sec. Elapsed time 1.74 sec\n",
      "SLIMElasticNetRecommender: URM Detected 216 ( 1.7%) users with no interactions.\n",
      "SLIMElasticNetRecommender: URM Detected 115 ( 0.5%) items with no interactions.\n"
     ]
    },
    {
     "name": "stderr",
     "output_type": "stream",
     "text": [
      "100%|█████████▉| 22216/22222 [01:04<00:00, 344.49it/s]\n"
     ]
    },
    {
     "name": "stdout",
     "output_type": "stream",
     "text": [
      "NMFRecommender: URM Detected 216 ( 1.7%) users with no interactions.\n",
      "NMFRecommender: URM Detected 108 ( 0.5%) items with no interactions.\n",
      "NMFRecommender: Computing NMF decomposition...\n",
      "NMFRecommender: Computing NMF decomposition... done in 21.90 sec\n",
      "P3alphaRecommender: URM Detected 216 ( 1.7%) users with no interactions.\n",
      "P3alphaRecommender: URM Detected 108 ( 0.5%) items with no interactions.\n",
      "P3alphaRecommender: Similarity column 22222 (100.0%), 9249.61 column/sec. Elapsed time 2.40 sec\n",
      "RP3betaRecommender: URM Detected 216 ( 1.7%) users with no interactions.\n",
      "RP3betaRecommender: URM Detected 108 ( 0.5%) items with no interactions.\n",
      "RP3betaRecommender: Similarity column 22222 (100.0%), 8628.85 column/sec. Elapsed time 2.58 sec\n",
      "ItemKNNCFRecommender: URM Detected 216 ( 1.7%) users with no interactions.\n",
      "ItemKNNCFRecommender: URM Detected 108 ( 0.5%) items with no interactions.\n",
      "Similarity column 22222 (100.0%), 12717.14 column/sec. Elapsed time 1.75 sec\n",
      "SLIMElasticNetRecommender: URM Detected 216 ( 1.7%) users with no interactions.\n",
      "SLIMElasticNetRecommender: URM Detected 108 ( 0.5%) items with no interactions.\n"
     ]
    },
    {
     "name": "stderr",
     "output_type": "stream",
     "text": [
      "100%|█████████▉| 22216/22222 [01:03<00:00, 349.38it/s]\n"
     ]
    }
   ],
   "source": [
    "ials_recommenders = []\n",
    "p3a_recomennders = []\n",
    "rp3b_recomennders = []\n",
    "slimen_recommenders = []\n",
    "knn_recommenders = []\n",
    "slim_recommenders = []\n",
    "ease_recommenders = []\n",
    "\n",
    "for i in range(len(seeds)):\n",
    "    ials_single = ImplicitALSRecommender(urm_train_validation[i])\n",
    "    ials_single.fit(use_gpu=True, num_threads=1,**{'num_factors': 401, 'reg': 0.0010579931024405477,'epsilon':0.10666578585393433, 'epochs':1204, 'alpha': 7.139858098793055, 'confidence_scaling': 'linear'})\n",
    "    ials_recommenders.append(ials_single)\n",
    "\n",
    "    p3a_single = P3alphaRecommender(urm_train_validation[i])\n",
    "    p3a_single.fit(**{'alpha':0.740243876372529,'topK':41})\n",
    "    p3a_recomennders.append(p3a_single)\n",
    "\n",
    "    rp3beta = RP3betaRecommender(urm_train_validation[i])\n",
    "    rp3beta.fit(**{'topK': 29, 'alpha': 0.33723025040409343, 'beta': 0.15542352567862933, 'normalize_similarity': True})\n",
    "    rp3b_recomennders.append(rp3beta)\n",
    "\n",
    "    knn_single = ItemKNNCFRecommender(urm_train_validation[i])\n",
    "    knn_single.fit(**{'topK': 19, 'shrink': 28, 'similarity': 'tversky', 'normalize': True, 'tversky_alpha': 0.0, 'tversky_beta': 1.3672226785339947})\n",
    "    knn_recommenders.append(knn_single)\n",
    "\n",
    "    slim_single = MultiThreadSLIM_SLIMElasticNetRecommender(urm_train_validation[i])\n",
    "    slim_single.fit(workers=12,**{'alpha':0.0008361537677496276,'topK':3334, 'l1_ratio':0.09976758088492818})\n",
    "    slim_recommenders.append(slim_single)\n",
    "\n",
    "    ease_single = EASE_R_RecommenderV2(urm_train_validation[i])\n",
    "    ease_single.fit(**{'topK': 46, 'normalize_matrix': False, 'l2_norm': 32.19549584425843})\n",
    "    ease_recommenders.append(ease_single)"
   ]
  },
  {
   "cell_type": "code",
   "execution_count": 38,
   "metadata": {},
   "outputs": [
    {
     "name": "stdout",
     "output_type": "stream",
     "text": [
      "NMFP3alphaRP3betaItemKNNCFSLIMElasticNetHybridRecommender: URM Detected 226 ( 1.8%) users with no interactions.\n",
      "NMFP3alphaRP3betaItemKNNCFSLIMElasticNetHybridRecommender: URM Detected 90 ( 0.4%) items with no interactions.\n",
      "NMFP3alphaRP3betaItemKNNCFSLIMElasticNetHybridRecommender: URM Detected 240 ( 1.9%) users with no interactions.\n",
      "NMFP3alphaRP3betaItemKNNCFSLIMElasticNetHybridRecommender: URM Detected 111 ( 0.5%) items with no interactions.\n",
      "NMFP3alphaRP3betaItemKNNCFSLIMElasticNetHybridRecommender: URM Detected 198 ( 1.6%) users with no interactions.\n",
      "NMFP3alphaRP3betaItemKNNCFSLIMElasticNetHybridRecommender: URM Detected 118 ( 0.5%) items with no interactions.\n",
      "NMFP3alphaRP3betaItemKNNCFSLIMElasticNetHybridRecommender: URM Detected 216 ( 1.7%) users with no interactions.\n",
      "NMFP3alphaRP3betaItemKNNCFSLIMElasticNetHybridRecommender: URM Detected 121 ( 0.5%) items with no interactions.\n",
      "NMFP3alphaRP3betaItemKNNCFSLIMElasticNetHybridRecommender: URM Detected 189 ( 1.5%) users with no interactions.\n",
      "NMFP3alphaRP3betaItemKNNCFSLIMElasticNetHybridRecommender: URM Detected 112 ( 0.5%) items with no interactions.\n",
      "NMFP3alphaRP3betaItemKNNCFSLIMElasticNetHybridRecommender: URM Detected 223 ( 1.8%) users with no interactions.\n",
      "NMFP3alphaRP3betaItemKNNCFSLIMElasticNetHybridRecommender: URM Detected 121 ( 0.5%) items with no interactions.\n",
      "NMFP3alphaRP3betaItemKNNCFSLIMElasticNetHybridRecommender: URM Detected 216 ( 1.7%) users with no interactions.\n",
      "NMFP3alphaRP3betaItemKNNCFSLIMElasticNetHybridRecommender: URM Detected 115 ( 0.5%) items with no interactions.\n",
      "NMFP3alphaRP3betaItemKNNCFSLIMElasticNetHybridRecommender: URM Detected 216 ( 1.7%) users with no interactions.\n",
      "NMFP3alphaRP3betaItemKNNCFSLIMElasticNetHybridRecommender: URM Detected 108 ( 0.5%) items with no interactions.\n"
     ]
    }
   ],
   "source": [
    "from Recommenders.Hybrid.GeneralizedLinearHybridRecommender import GeneralizedLinearHybridRecommender\n",
    "\n",
    "hybrids = []\n",
    "\n",
    "for i in range(len(seeds)):\n",
    "    hybrid = GeneralizedLinearHybridRecommender(urm_train_validation[i], recommenders=[ials_recommenders[i], p3a_recomennders[i], rp3b_recomennders[i], knn_recommenders[i], slim_recommenders[i], ease_recommenders[i]], verbose=False)\n",
    "    hybrids.append(hybrid)"
   ]
  },
  {
   "cell_type": "code",
   "execution_count": 40,
   "metadata": {},
   "outputs": [
    {
     "name": "stderr",
     "output_type": "stream",
     "text": [
      "[I 2024-01-09 11:16:20,486] Using an existing study with name 'HYBRID8-FOLD' instead of creating a new one.\n"
     ]
    },
    {
     "name": "stdout",
     "output_type": "stream",
     "text": [
      "EvaluatorHoldout: Processed 10502 (100.0%) in 6.88 sec. Users per second: 1526\n",
      "EvaluatorHoldout: Processed 10510 (100.0%) in 6.96 sec. Users per second: 1511\n",
      "EvaluatorHoldout: Processed 10458 (100.0%) in 7.02 sec. Users per second: 1490\n",
      "EvaluatorHoldout: Processed 10442 (100.0%) in 7.16 sec. Users per second: 1459\n",
      "EvaluatorHoldout: Processed 10436 (100.0%) in 6.88 sec. Users per second: 1517\n",
      "EvaluatorHoldout: Processed 10465 (100.0%) in 6.87 sec. Users per second: 1524\n",
      "EvaluatorHoldout: Processed 10451 (100.0%) in 6.82 sec. Users per second: 1532\n",
      "EvaluatorHoldout: Processed 10476 (100.0%) in 6.94 sec. Users per second: 1510\n"
     ]
    },
    {
     "name": "stderr",
     "output_type": "stream",
     "text": [
      "[I 2024-01-09 11:17:31,443] Trial 1 finished with value: 0.048583464892794734 and parameters: {'w_nmf': 0.9856706682953644, 'w_p3a': 0.9833593696535404, 'w_rp3b': 0.9944974998206771, 'w_knn': 0.4521556673572107, 'w_slim': 0.5765019249172418}. Best is trial 1 with value: 0.048583464892794734.\n"
     ]
    },
    {
     "name": "stdout",
     "output_type": "stream",
     "text": [
      "EvaluatorHoldout: Processed 10502 (100.0%) in 6.76 sec. Users per second: 1553\n",
      "EvaluatorHoldout: Processed 10510 (100.0%) in 6.89 sec. Users per second: 1524\n",
      "EvaluatorHoldout: Processed 10458 (100.0%) in 6.84 sec. Users per second: 1528\n",
      "EvaluatorHoldout: Processed 10442 (100.0%) in 7.04 sec. Users per second: 1483\n",
      "EvaluatorHoldout: Processed 10436 (100.0%) in 6.76 sec. Users per second: 1543\n",
      "EvaluatorHoldout: Processed 10465 (100.0%) in 7.04 sec. Users per second: 1487\n",
      "EvaluatorHoldout: Processed 10451 (100.0%) in 6.94 sec. Users per second: 1505\n",
      "EvaluatorHoldout: Processed 10476 (100.0%) in 7.15 sec. Users per second: 1464\n"
     ]
    },
    {
     "name": "stderr",
     "output_type": "stream",
     "text": [
      "[I 2024-01-09 11:18:40,516] Trial 2 finished with value: 0.048931942748165425 and parameters: {'w_nmf': 0.5187126088431594, 'w_p3a': 0.8914250494714231, 'w_rp3b': 0.8248239219828833, 'w_knn': 0.6655677693009491, 'w_slim': 0.1964614097074876}. Best is trial 2 with value: 0.048931942748165425.\n"
     ]
    },
    {
     "name": "stdout",
     "output_type": "stream",
     "text": [
      "EvaluatorHoldout: Processed 10502 (100.0%) in 6.78 sec. Users per second: 1548\n",
      "EvaluatorHoldout: Processed 10510 (100.0%) in 6.95 sec. Users per second: 1512\n",
      "EvaluatorHoldout: Processed 10458 (100.0%) in 6.99 sec. Users per second: 1496\n",
      "EvaluatorHoldout: Processed 10442 (100.0%) in 6.97 sec. Users per second: 1498\n",
      "EvaluatorHoldout: Processed 10436 (100.0%) in 6.97 sec. Users per second: 1496\n",
      "EvaluatorHoldout: Processed 10465 (100.0%) in 6.92 sec. Users per second: 1513\n",
      "EvaluatorHoldout: Processed 10451 (100.0%) in 7.00 sec. Users per second: 1494\n",
      "EvaluatorHoldout: Processed 10476 (100.0%) in 6.91 sec. Users per second: 1517\n"
     ]
    },
    {
     "name": "stderr",
     "output_type": "stream",
     "text": [
      "[I 2024-01-09 11:19:49,623] Trial 3 finished with value: 0.050511480633455404 and parameters: {'w_nmf': 0.15701045691779436, 'w_p3a': 0.9080940498789333, 'w_rp3b': 0.373086666660267, 'w_knn': 0.22393935025964973, 'w_slim': 0.738047680729196}. Best is trial 3 with value: 0.050511480633455404.\n"
     ]
    },
    {
     "name": "stdout",
     "output_type": "stream",
     "text": [
      "EvaluatorHoldout: Processed 10502 (100.0%) in 6.96 sec. Users per second: 1509\n",
      "EvaluatorHoldout: Processed 10510 (100.0%) in 7.27 sec. Users per second: 1446\n",
      "EvaluatorHoldout: Processed 10458 (100.0%) in 6.76 sec. Users per second: 1547\n",
      "EvaluatorHoldout: Processed 10442 (100.0%) in 6.83 sec. Users per second: 1529\n",
      "EvaluatorHoldout: Processed 10436 (100.0%) in 6.82 sec. Users per second: 1529\n",
      "EvaluatorHoldout: Processed 10465 (100.0%) in 7.11 sec. Users per second: 1471\n",
      "EvaluatorHoldout: Processed 10451 (100.0%) in 6.94 sec. Users per second: 1507\n",
      "EvaluatorHoldout: Processed 10476 (100.0%) in 7.02 sec. Users per second: 1492\n"
     ]
    },
    {
     "name": "stderr",
     "output_type": "stream",
     "text": [
      "[I 2024-01-09 11:20:58,972] Trial 4 finished with value: 0.04997002810111237 and parameters: {'w_nmf': 0.470147147573039, 'w_p3a': 0.7486027643075057, 'w_rp3b': 0.11693665250700169, 'w_knn': 0.30629485416593294, 'w_slim': 0.9916684375036988}. Best is trial 3 with value: 0.050511480633455404.\n"
     ]
    },
    {
     "name": "stdout",
     "output_type": "stream",
     "text": [
      "EvaluatorHoldout: Processed 10502 (100.0%) in 6.99 sec. Users per second: 1503\n",
      "EvaluatorHoldout: Processed 10510 (100.0%) in 6.99 sec. Users per second: 1504\n",
      "EvaluatorHoldout: Processed 10458 (100.0%) in 6.90 sec. Users per second: 1517\n",
      "EvaluatorHoldout: Processed 10442 (100.0%) in 6.82 sec. Users per second: 1531\n",
      "EvaluatorHoldout: Processed 10436 (100.0%) in 6.93 sec. Users per second: 1506\n",
      "EvaluatorHoldout: Processed 10465 (100.0%) in 6.80 sec. Users per second: 1539\n",
      "EvaluatorHoldout: Processed 10451 (100.0%) in 6.75 sec. Users per second: 1548\n",
      "EvaluatorHoldout: Processed 10476 (100.0%) in 6.87 sec. Users per second: 1524\n"
     ]
    },
    {
     "name": "stderr",
     "output_type": "stream",
     "text": [
      "[I 2024-01-09 11:22:07,663] Trial 5 finished with value: 0.05147424928210691 and parameters: {'w_nmf': 0.03008307026826973, 'w_p3a': 0.27136380584374975, 'w_rp3b': 0.4677183612495963, 'w_knn': 0.0926903485049293, 'w_slim': 0.5146700491762201}. Best is trial 5 with value: 0.05147424928210691.\n"
     ]
    },
    {
     "name": "stdout",
     "output_type": "stream",
     "text": [
      "EvaluatorHoldout: Processed 10502 (100.0%) in 6.96 sec. Users per second: 1510\n",
      "EvaluatorHoldout: Processed 10510 (100.0%) in 7.06 sec. Users per second: 1489\n",
      "EvaluatorHoldout: Processed 10458 (100.0%) in 6.88 sec. Users per second: 1520\n",
      "EvaluatorHoldout: Processed 10442 (100.0%) in 6.96 sec. Users per second: 1501\n",
      "EvaluatorHoldout: Processed 10436 (100.0%) in 6.87 sec. Users per second: 1519\n",
      "EvaluatorHoldout: Processed 10465 (100.0%) in 6.88 sec. Users per second: 1522\n",
      "EvaluatorHoldout: Processed 10451 (100.0%) in 6.92 sec. Users per second: 1510\n",
      "EvaluatorHoldout: Processed 10476 (100.0%) in 6.84 sec. Users per second: 1532\n"
     ]
    },
    {
     "name": "stderr",
     "output_type": "stream",
     "text": [
      "[I 2024-01-09 11:23:16,621] Trial 6 finished with value: 0.0478974436184798 and parameters: {'w_nmf': 0.8344722155255896, 'w_p3a': 0.7117272540417554, 'w_rp3b': 0.6187800034484541, 'w_knn': 0.5061010139265987, 'w_slim': 0.25519065260279294}. Best is trial 5 with value: 0.05147424928210691.\n"
     ]
    },
    {
     "name": "stdout",
     "output_type": "stream",
     "text": [
      "EvaluatorHoldout: Processed 10502 (100.0%) in 6.86 sec. Users per second: 1531\n",
      "EvaluatorHoldout: Processed 10510 (100.0%) in 7.06 sec. Users per second: 1488\n",
      "EvaluatorHoldout: Processed 10458 (100.0%) in 6.85 sec. Users per second: 1527\n",
      "EvaluatorHoldout: Processed 10442 (100.0%) in 7.21 sec. Users per second: 1448\n",
      "EvaluatorHoldout: Processed 10436 (100.0%) in 7.09 sec. Users per second: 1471\n",
      "EvaluatorHoldout: Processed 10465 (100.0%) in 7.02 sec. Users per second: 1490\n",
      "EvaluatorHoldout: Processed 10451 (100.0%) in 6.86 sec. Users per second: 1523\n",
      "EvaluatorHoldout: Processed 10476 (100.0%) in 6.99 sec. Users per second: 1498\n"
     ]
    },
    {
     "name": "stderr",
     "output_type": "stream",
     "text": [
      "[I 2024-01-09 11:24:27,684] Trial 7 finished with value: 0.04414178289816225 and parameters: {'w_nmf': 0.8924412179426571, 'w_p3a': 0.5901747749057119, 'w_rp3b': 0.20473662145929472, 'w_knn': 0.1829639652705034, 'w_slim': 0.1461234711595788}. Best is trial 5 with value: 0.05147424928210691.\n"
     ]
    },
    {
     "name": "stdout",
     "output_type": "stream",
     "text": [
      "EvaluatorHoldout: Processed 10502 (100.0%) in 6.87 sec. Users per second: 1529\n",
      "EvaluatorHoldout: Processed 10510 (100.0%) in 6.96 sec. Users per second: 1510\n",
      "EvaluatorHoldout: Processed 10458 (100.0%) in 6.77 sec. Users per second: 1546\n",
      "EvaluatorHoldout: Processed 10442 (100.0%) in 6.94 sec. Users per second: 1504\n",
      "EvaluatorHoldout: Processed 10436 (100.0%) in 6.99 sec. Users per second: 1493\n",
      "EvaluatorHoldout: Processed 10465 (100.0%) in 6.90 sec. Users per second: 1517\n",
      "EvaluatorHoldout: Processed 10451 (100.0%) in 6.78 sec. Users per second: 1542\n",
      "EvaluatorHoldout: Processed 10476 (100.0%) in 6.95 sec. Users per second: 1508\n"
     ]
    },
    {
     "name": "stderr",
     "output_type": "stream",
     "text": [
      "[I 2024-01-09 11:25:36,291] Trial 8 finished with value: 0.04907409735953225 and parameters: {'w_nmf': 0.8951426568387802, 'w_p3a': 0.08647562243101481, 'w_rp3b': 0.7337831002521179, 'w_knn': 0.7767207124026659, 'w_slim': 0.8437424586971426}. Best is trial 5 with value: 0.05147424928210691.\n"
     ]
    },
    {
     "name": "stdout",
     "output_type": "stream",
     "text": [
      "EvaluatorHoldout: Processed 10502 (100.0%) in 6.77 sec. Users per second: 1551\n",
      "EvaluatorHoldout: Processed 10510 (100.0%) in 6.86 sec. Users per second: 1532\n",
      "EvaluatorHoldout: Processed 10458 (100.0%) in 6.77 sec. Users per second: 1546\n",
      "EvaluatorHoldout: Processed 10442 (100.0%) in 6.87 sec. Users per second: 1520\n",
      "EvaluatorHoldout: Processed 10436 (100.0%) in 6.84 sec. Users per second: 1526\n",
      "EvaluatorHoldout: Processed 10465 (100.0%) in 6.86 sec. Users per second: 1526\n",
      "EvaluatorHoldout: Processed 10451 (100.0%) in 6.83 sec. Users per second: 1530\n",
      "EvaluatorHoldout: Processed 10476 (100.0%) in 7.00 sec. Users per second: 1497\n"
     ]
    },
    {
     "name": "stderr",
     "output_type": "stream",
     "text": [
      "[I 2024-01-09 11:26:44,522] Trial 9 finished with value: 0.05050051310847251 and parameters: {'w_nmf': 0.14176985579705703, 'w_p3a': 0.8996155861534543, 'w_rp3b': 0.5048070174698706, 'w_knn': 0.4259258629282019, 'w_slim': 0.7443845427582217}. Best is trial 5 with value: 0.05147424928210691.\n"
     ]
    },
    {
     "name": "stdout",
     "output_type": "stream",
     "text": [
      "EvaluatorHoldout: Processed 10502 (100.0%) in 6.75 sec. Users per second: 1555\n",
      "EvaluatorHoldout: Processed 10510 (100.0%) in 6.88 sec. Users per second: 1527\n",
      "EvaluatorHoldout: Processed 10458 (100.0%) in 6.89 sec. Users per second: 1518\n",
      "EvaluatorHoldout: Processed 10442 (100.0%) in 6.83 sec. Users per second: 1528\n",
      "EvaluatorHoldout: Processed 10436 (100.0%) in 6.82 sec. Users per second: 1530\n",
      "EvaluatorHoldout: Processed 10465 (100.0%) in 6.88 sec. Users per second: 1521\n",
      "EvaluatorHoldout: Processed 10451 (100.0%) in 6.77 sec. Users per second: 1543\n",
      "EvaluatorHoldout: Processed 10476 (100.0%) in 6.83 sec. Users per second: 1535\n"
     ]
    },
    {
     "name": "stderr",
     "output_type": "stream",
     "text": [
      "[I 2024-01-09 11:27:52,627] Trial 10 finished with value: 0.04913210081689435 and parameters: {'w_nmf': 0.798948270593034, 'w_p3a': 0.059484627489839736, 'w_rp3b': 0.41199796981445036, 'w_knn': 0.6269804069784575, 'w_slim': 0.9400311370512296}. Best is trial 5 with value: 0.05147424928210691.\n"
     ]
    },
    {
     "name": "stdout",
     "output_type": "stream",
     "text": [
      "EvaluatorHoldout: Processed 10502 (100.0%) in 6.80 sec. Users per second: 1545\n",
      "EvaluatorHoldout: Processed 10510 (100.0%) in 6.87 sec. Users per second: 1530\n",
      "EvaluatorHoldout: Processed 10458 (100.0%) in 6.83 sec. Users per second: 1530\n",
      "EvaluatorHoldout: Processed 10442 (100.0%) in 6.97 sec. Users per second: 1498\n",
      "EvaluatorHoldout: Processed 10436 (100.0%) in 6.89 sec. Users per second: 1516\n",
      "EvaluatorHoldout: Processed 10465 (100.0%) in 7.17 sec. Users per second: 1459\n",
      "EvaluatorHoldout: Processed 10451 (100.0%) in 6.86 sec. Users per second: 1525\n",
      "EvaluatorHoldout: Processed 10476 (100.0%) in 6.91 sec. Users per second: 1517\n"
     ]
    },
    {
     "name": "stderr",
     "output_type": "stream",
     "text": [
      "[I 2024-01-09 11:29:01,361] Trial 11 finished with value: 0.04653122206633083 and parameters: {'w_nmf': 0.3923757458122444, 'w_p3a': 0.25717157471938995, 'w_rp3b': 0.013682380763494484, 'w_knn': 0.008964813915295744, 'w_slim': 0.43386177354754557}. Best is trial 5 with value: 0.05147424928210691.\n"
     ]
    },
    {
     "name": "stdout",
     "output_type": "stream",
     "text": [
      "EvaluatorHoldout: Processed 10502 (100.0%) in 6.86 sec. Users per second: 1530\n",
      "EvaluatorHoldout: Processed 10510 (100.0%) in 6.92 sec. Users per second: 1518\n",
      "EvaluatorHoldout: Processed 10458 (100.0%) in 6.83 sec. Users per second: 1531\n",
      "EvaluatorHoldout: Processed 10442 (100.0%) in 6.90 sec. Users per second: 1514\n",
      "EvaluatorHoldout: Processed 10436 (100.0%) in 6.87 sec. Users per second: 1520\n",
      "EvaluatorHoldout: Processed 10465 (100.0%) in 6.90 sec. Users per second: 1517\n",
      "EvaluatorHoldout: Processed 10451 (100.0%) in 6.85 sec. Users per second: 1526\n",
      "EvaluatorHoldout: Processed 10476 (100.0%) in 6.87 sec. Users per second: 1524\n"
     ]
    },
    {
     "name": "stderr",
     "output_type": "stream",
     "text": [
      "[I 2024-01-09 11:30:09,856] Trial 12 finished with value: 0.05137817417906982 and parameters: {'w_nmf': 0.021775437311540663, 'w_p3a': 0.3753599169231634, 'w_rp3b': 0.3349004831488087, 'w_knn': 0.01886940000368159, 'w_slim': 0.5655400208100981}. Best is trial 5 with value: 0.05147424928210691.\n"
     ]
    },
    {
     "name": "stdout",
     "output_type": "stream",
     "text": [
      "EvaluatorHoldout: Processed 10502 (100.0%) in 6.80 sec. Users per second: 1544\n",
      "EvaluatorHoldout: Processed 10510 (100.0%) in 6.93 sec. Users per second: 1517\n",
      "EvaluatorHoldout: Processed 10458 (100.0%) in 6.84 sec. Users per second: 1529\n",
      "EvaluatorHoldout: Processed 10442 (100.0%) in 6.84 sec. Users per second: 1527\n",
      "EvaluatorHoldout: Processed 10436 (100.0%) in 6.79 sec. Users per second: 1538\n",
      "EvaluatorHoldout: Processed 10465 (100.0%) in 6.88 sec. Users per second: 1520\n",
      "EvaluatorHoldout: Processed 10451 (100.0%) in 6.77 sec. Users per second: 1543\n",
      "EvaluatorHoldout: Processed 10476 (100.0%) in 6.93 sec. Users per second: 1511\n"
     ]
    },
    {
     "name": "stderr",
     "output_type": "stream",
     "text": [
      "[I 2024-01-09 11:31:18,160] Trial 13 finished with value: 0.051272213352748335 and parameters: {'w_nmf': 0.036171013996175616, 'w_p3a': 0.33240148271327197, 'w_rp3b': 0.26802467439526695, 'w_knn': 0.024655732396688, 'w_slim': 0.457370481350499}. Best is trial 5 with value: 0.05147424928210691.\n"
     ]
    },
    {
     "name": "stdout",
     "output_type": "stream",
     "text": [
      "EvaluatorHoldout: Processed 10502 (100.0%) in 6.81 sec. Users per second: 1541\n",
      "EvaluatorHoldout: Processed 10510 (100.0%) in 6.97 sec. Users per second: 1508\n",
      "EvaluatorHoldout: Processed 10458 (100.0%) in 6.84 sec. Users per second: 1529\n",
      "EvaluatorHoldout: Processed 10442 (100.0%) in 6.93 sec. Users per second: 1508\n",
      "EvaluatorHoldout: Processed 10436 (100.0%) in 6.81 sec. Users per second: 1533\n",
      "EvaluatorHoldout: Processed 10465 (100.0%) in 6.89 sec. Users per second: 1518\n",
      "EvaluatorHoldout: Processed 10451 (100.0%) in 6.96 sec. Users per second: 1502\n",
      "EvaluatorHoldout: Processed 10476 (100.0%) in 6.84 sec. Users per second: 1532\n"
     ]
    },
    {
     "name": "stderr",
     "output_type": "stream",
     "text": [
      "[I 2024-01-09 11:32:26,668] Trial 14 finished with value: 0.050734707817404016 and parameters: {'w_nmf': 0.23130243153452332, 'w_p3a': 0.4059117248674599, 'w_rp3b': 0.5383586946405501, 'w_knn': 0.1494902805077832, 'w_slim': 0.6069535816181553}. Best is trial 5 with value: 0.05147424928210691.\n"
     ]
    },
    {
     "name": "stdout",
     "output_type": "stream",
     "text": [
      "EvaluatorHoldout: Processed 10502 (100.0%) in 6.78 sec. Users per second: 1550\n",
      "EvaluatorHoldout: Processed 10510 (100.0%) in 6.93 sec. Users per second: 1517\n",
      "EvaluatorHoldout: Processed 10458 (100.0%) in 6.76 sec. Users per second: 1548\n",
      "EvaluatorHoldout: Processed 10442 (100.0%) in 6.93 sec. Users per second: 1507\n",
      "EvaluatorHoldout: Processed 10436 (100.0%) in 6.80 sec. Users per second: 1534\n",
      "EvaluatorHoldout: Processed 10465 (100.0%) in 6.92 sec. Users per second: 1512\n",
      "EvaluatorHoldout: Processed 10451 (100.0%) in 6.84 sec. Users per second: 1527\n",
      "EvaluatorHoldout: Processed 10476 (100.0%) in 6.90 sec. Users per second: 1518\n"
     ]
    },
    {
     "name": "stderr",
     "output_type": "stream",
     "text": [
      "[I 2024-01-09 11:33:34,975] Trial 15 finished with value: 0.04923252715092831 and parameters: {'w_nmf': 0.29911439759681036, 'w_p3a': 0.2148395955024561, 'w_rp3b': 0.36626218429794055, 'w_knn': 0.8982816070470339, 'w_slim': 0.4149763861105213}. Best is trial 5 with value: 0.05147424928210691.\n"
     ]
    },
    {
     "name": "stdout",
     "output_type": "stream",
     "text": [
      "EvaluatorHoldout: Processed 10502 (100.0%) in 6.80 sec. Users per second: 1545\n",
      "EvaluatorHoldout: Processed 10510 (100.0%) in 6.98 sec. Users per second: 1506\n",
      "EvaluatorHoldout: Processed 10458 (100.0%) in 6.80 sec. Users per second: 1538\n",
      "EvaluatorHoldout: Processed 10442 (100.0%) in 7.01 sec. Users per second: 1490\n",
      "EvaluatorHoldout: Processed 10436 (100.0%) in 6.89 sec. Users per second: 1514\n",
      "EvaluatorHoldout: Processed 10465 (100.0%) in 6.94 sec. Users per second: 1509\n",
      "EvaluatorHoldout: Processed 10451 (100.0%) in 6.75 sec. Users per second: 1547\n",
      "EvaluatorHoldout: Processed 10476 (100.0%) in 6.96 sec. Users per second: 1506\n"
     ]
    },
    {
     "name": "stderr",
     "output_type": "stream",
     "text": [
      "[I 2024-01-09 11:34:43,558] Trial 16 finished with value: 0.04948596082347508 and parameters: {'w_nmf': 0.0030557829450985133, 'w_p3a': 0.472599871091608, 'w_rp3b': 0.6752481827483392, 'w_knn': 0.09209055524418286, 'w_slim': 0.012329612099267084}. Best is trial 5 with value: 0.05147424928210691.\n"
     ]
    },
    {
     "name": "stdout",
     "output_type": "stream",
     "text": [
      "EvaluatorHoldout: Processed 10502 (100.0%) in 6.81 sec. Users per second: 1543\n",
      "EvaluatorHoldout: Processed 10510 (100.0%) in 6.91 sec. Users per second: 1522\n",
      "EvaluatorHoldout: Processed 10458 (100.0%) in 6.83 sec. Users per second: 1531\n",
      "EvaluatorHoldout: Processed 10442 (100.0%) in 6.93 sec. Users per second: 1507\n",
      "EvaluatorHoldout: Processed 10436 (100.0%) in 6.86 sec. Users per second: 1522\n",
      "EvaluatorHoldout: Processed 10465 (100.0%) in 6.98 sec. Users per second: 1499\n",
      "EvaluatorHoldout: Processed 10451 (100.0%) in 6.95 sec. Users per second: 1504\n",
      "EvaluatorHoldout: Processed 10476 (100.0%) in 7.01 sec. Users per second: 1494\n"
     ]
    },
    {
     "name": "stderr",
     "output_type": "stream",
     "text": [
      "[I 2024-01-09 11:35:52,296] Trial 17 finished with value: 0.04696221078173296 and parameters: {'w_nmf': 0.6942944908536635, 'w_p3a': 0.14641345246451312, 'w_rp3b': 0.2808412426429666, 'w_knn': 0.3101088105241165, 'w_slim': 0.33678503054007564}. Best is trial 5 with value: 0.05147424928210691.\n"
     ]
    },
    {
     "name": "stdout",
     "output_type": "stream",
     "text": [
      "EvaluatorHoldout: Processed 10502 (100.0%) in 7.05 sec. Users per second: 1491\n",
      "EvaluatorHoldout: Processed 10510 (100.0%) in 7.13 sec. Users per second: 1475\n",
      "EvaluatorHoldout: Processed 10458 (100.0%) in 7.05 sec. Users per second: 1484\n",
      "EvaluatorHoldout: Processed 10442 (100.0%) in 6.99 sec. Users per second: 1495\n",
      "EvaluatorHoldout: Processed 10436 (100.0%) in 6.94 sec. Users per second: 1504\n",
      "EvaluatorHoldout: Processed 10465 (100.0%) in 7.04 sec. Users per second: 1487\n",
      "EvaluatorHoldout: Processed 10451 (100.0%) in 6.97 sec. Users per second: 1499\n",
      "EvaluatorHoldout: Processed 10476 (100.0%) in 7.07 sec. Users per second: 1483\n"
     ]
    },
    {
     "name": "stderr",
     "output_type": "stream",
     "text": [
      "[I 2024-01-09 11:37:01,988] Trial 18 finished with value: 0.05076651648536702 and parameters: {'w_nmf': 0.10873878293892347, 'w_p3a': 0.568588237384287, 'w_rp3b': 0.46263753471465013, 'w_knn': 0.29824287278202594, 'w_slim': 0.6038347234959351}. Best is trial 5 with value: 0.05147424928210691.\n"
     ]
    },
    {
     "name": "stdout",
     "output_type": "stream",
     "text": [
      "EvaluatorHoldout: Processed 10502 (100.0%) in 6.84 sec. Users per second: 1535\n",
      "EvaluatorHoldout: Processed 10510 (100.0%) in 6.91 sec. Users per second: 1520\n"
     ]
    }
   ],
   "source": [
    "hybrid_name = \"HYBRID_BIGGER_8-FOLD\"\n",
    "hybrid_study = optuna.create_study(study_name=hybrid_name, direction=\"maximize\", storage=storage, load_if_exists=True, sampler=optuna.samplers.TPESampler())\n",
    "\n",
    "def objective(trial):\n",
    "\n",
    "    params = {\n",
    "        \"w_ials\": trial.suggest_float(\"w_ials\", 0, 1),\n",
    "        \"w_p3a\": trial.suggest_float(\"w_p3a\", 0, 1),\n",
    "        \"w_rp3b\": trial.suggest_float(\"w_rp3b\", 0, 1),\n",
    "        \"w_knn\": trial.suggest_float(\"w_knn\", 0, 1),\n",
    "        \"w_slim\": trial.suggest_float(\"w_slim\", 0, 1),\n",
    "        \"w_ease\": trial.suggest_float(\"w_ease\", 0, 1)\n",
    "    }\n",
    "\n",
    "    alphas = [params[\"w_ials\"], params[\"w_p3a\"], params[\"w_rp3b\"], params[\"w_knn\"], params[\"w_slim\"], params[\"w_ease\"]]\n",
    "\n",
    "    MAP = 0\n",
    "\n",
    "    for i in range(len(seeds)):\n",
    "        hybrids[i].fit(alphas=alphas)\n",
    "        MAP += evaluator_test[i].evaluateRecommender(hybrids[i])[0][metric_to_optimize]\n",
    "\n",
    "    average_score = MAP / len(seeds)\n",
    "    return average_score\n",
    "\n",
    "#hybrid_study.enqueue_trial({\"w_nmf\": 0.0, \"w_p3a\": 0.0, \"w_rp3b\": 0.0, \"w_knn\": 0.0, \"w_slim\": 0.0})\n",
    "hybrid_study.optimize(objective, n_trials=250)"
   ]
  }
 ],
 "metadata": {
  "kernelspec": {
   "display_name": "RecSysFramework",
   "language": "python",
   "name": "python3"
  },
  "language_info": {
   "codemirror_mode": {
    "name": "ipython",
    "version": 3
   },
   "file_extension": ".py",
   "mimetype": "text/x-python",
   "name": "python",
   "nbconvert_exporter": "python",
   "pygments_lexer": "ipython3",
   "version": "3.8.18"
  }
 },
 "nbformat": 4,
 "nbformat_minor": 2
}
