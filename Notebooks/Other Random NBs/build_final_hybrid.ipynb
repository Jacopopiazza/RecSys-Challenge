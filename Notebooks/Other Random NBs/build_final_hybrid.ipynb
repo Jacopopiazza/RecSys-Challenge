{
 "cells": [
  {
   "cell_type": "code",
   "execution_count": 1,
   "metadata": {},
   "outputs": [],
   "source": [
    "import os\n",
    "os.chdir(\"../\")"
   ]
  },
  {
   "cell_type": "code",
   "execution_count": 2,
   "metadata": {},
   "outputs": [],
   "source": [
    "import numpy as np\n",
    "import pandas as pd\n",
    "import matplotlib.pyplot as plt\n",
    "\n",
    "\n",
    "k_fold = 10\n",
    "seeds = [192760, 1393659, 1269293, 138973, 931308, 1088652, 1361151, 1456105, 820535, 1240839]\n"
   ]
  },
  {
   "cell_type": "code",
   "execution_count": 3,
   "metadata": {},
   "outputs": [],
   "source": [
    "data_train_path = \"Dataset/data_train.csv\"\n",
    "data_test_path = \"Dataset/data_target_users_test.csv\""
   ]
  },
  {
   "cell_type": "code",
   "execution_count": 4,
   "metadata": {},
   "outputs": [],
   "source": [
    "df = pd.read_csv(data_train_path)\n",
    "df_test = pd.read_csv(data_test_path)\n",
    "\n",
    "df.columns = [\"UserID\", \"ItemID\", \"Interaction\"]\n",
    "df_test.columns = [\"UserID\"]"
   ]
  },
  {
   "cell_type": "code",
   "execution_count": 5,
   "metadata": {},
   "outputs": [
    {
     "data": {
      "text/html": [
       "<div>\n",
       "<style scoped>\n",
       "    .dataframe tbody tr th:only-of-type {\n",
       "        vertical-align: middle;\n",
       "    }\n",
       "\n",
       "    .dataframe tbody tr th {\n",
       "        vertical-align: top;\n",
       "    }\n",
       "\n",
       "    .dataframe thead th {\n",
       "        text-align: right;\n",
       "    }\n",
       "</style>\n",
       "<table border=\"1\" class=\"dataframe\">\n",
       "  <thead>\n",
       "    <tr style=\"text-align: right;\">\n",
       "      <th></th>\n",
       "      <th>UserID</th>\n",
       "      <th>ItemID</th>\n",
       "      <th>Interaction</th>\n",
       "    </tr>\n",
       "  </thead>\n",
       "  <tbody>\n",
       "    <tr>\n",
       "      <th>0</th>\n",
       "      <td>1</td>\n",
       "      <td>7</td>\n",
       "      <td>1.0</td>\n",
       "    </tr>\n",
       "    <tr>\n",
       "      <th>1</th>\n",
       "      <td>1</td>\n",
       "      <td>15</td>\n",
       "      <td>1.0</td>\n",
       "    </tr>\n",
       "    <tr>\n",
       "      <th>2</th>\n",
       "      <td>1</td>\n",
       "      <td>16</td>\n",
       "      <td>1.0</td>\n",
       "    </tr>\n",
       "    <tr>\n",
       "      <th>3</th>\n",
       "      <td>1</td>\n",
       "      <td>133</td>\n",
       "      <td>1.0</td>\n",
       "    </tr>\n",
       "    <tr>\n",
       "      <th>4</th>\n",
       "      <td>1</td>\n",
       "      <td>161</td>\n",
       "      <td>1.0</td>\n",
       "    </tr>\n",
       "    <tr>\n",
       "      <th>...</th>\n",
       "      <td>...</td>\n",
       "      <td>...</td>\n",
       "      <td>...</td>\n",
       "    </tr>\n",
       "    <tr>\n",
       "      <th>478725</th>\n",
       "      <td>13024</td>\n",
       "      <td>13605</td>\n",
       "      <td>1.0</td>\n",
       "    </tr>\n",
       "    <tr>\n",
       "      <th>478726</th>\n",
       "      <td>13024</td>\n",
       "      <td>13823</td>\n",
       "      <td>1.0</td>\n",
       "    </tr>\n",
       "    <tr>\n",
       "      <th>478727</th>\n",
       "      <td>13024</td>\n",
       "      <td>15122</td>\n",
       "      <td>1.0</td>\n",
       "    </tr>\n",
       "    <tr>\n",
       "      <th>478728</th>\n",
       "      <td>13024</td>\n",
       "      <td>18185</td>\n",
       "      <td>1.0</td>\n",
       "    </tr>\n",
       "    <tr>\n",
       "      <th>478729</th>\n",
       "      <td>13024</td>\n",
       "      <td>20014</td>\n",
       "      <td>1.0</td>\n",
       "    </tr>\n",
       "  </tbody>\n",
       "</table>\n",
       "<p>478730 rows × 3 columns</p>\n",
       "</div>"
      ],
      "text/plain": [
       "        UserID  ItemID  Interaction\n",
       "0            1       7          1.0\n",
       "1            1      15          1.0\n",
       "2            1      16          1.0\n",
       "3            1     133          1.0\n",
       "4            1     161          1.0\n",
       "...        ...     ...          ...\n",
       "478725   13024   13605          1.0\n",
       "478726   13024   13823          1.0\n",
       "478727   13024   15122          1.0\n",
       "478728   13024   18185          1.0\n",
       "478729   13024   20014          1.0\n",
       "\n",
       "[478730 rows x 3 columns]"
      ]
     },
     "execution_count": 5,
     "metadata": {},
     "output_type": "execute_result"
    }
   ],
   "source": [
    "df"
   ]
  },
  {
   "cell_type": "code",
   "execution_count": 6,
   "metadata": {},
   "outputs": [],
   "source": [
    "metric_to_optimize=\"MAP\"\n",
    "cutoff_to_optimize=10"
   ]
  },
  {
   "cell_type": "code",
   "execution_count": 7,
   "metadata": {},
   "outputs": [
    {
     "name": "stdout",
     "output_type": "stream",
     "text": [
      "Number of users: 12638, Number of Items: 22222, Min rating: 0.0, Max rating: 1.0\n"
     ]
    }
   ],
   "source": [
    "user_ids = df[\"UserID\"].unique().tolist()\n",
    "user2user_encoded = {x: i for i, x in enumerate(user_ids)}\n",
    "userencoded2user = {i: x for i, x in enumerate(user_ids)}\n",
    "item_ids = df[\"ItemID\"].unique().tolist()\n",
    "item2item_encoded = {x: i for i, x in enumerate(item_ids)}\n",
    "item_encoded2item = {i: x for i, x in enumerate(item_ids)}\n",
    "df[\"User\"] = df[\"UserID\"].map(user2user_encoded)\n",
    "df[\"Item\"] = df[\"ItemID\"].map(item2item_encoded)\n",
    "\n",
    "num_users = len(user2user_encoded)\n",
    "num_items = len(item_encoded2item)\n",
    "df[\"Interaction\"] = df[\"Interaction\"].values.astype(np.float32)\n",
    "\n",
    "# min and max ratings will be used to normalize the ratings later\n",
    "min_rating = 0.0\n",
    "max_rating = max(df[\"Interaction\"])\n",
    "\n",
    "print(\n",
    "    \"Number of users: {}, Number of Items: {}, Min rating: {}, Max rating: {}\".format(\n",
    "        num_users, num_items, min_rating, max_rating\n",
    "    )\n",
    ")"
   ]
  },
  {
   "cell_type": "code",
   "execution_count": 8,
   "metadata": {},
   "outputs": [],
   "source": [
    "userId_unique = df[\"UserID\"].unique()\n",
    "itemId_unique = df[\"ItemID\"].unique()"
   ]
  },
  {
   "cell_type": "code",
   "execution_count": 9,
   "metadata": {},
   "outputs": [
    {
     "name": "stdout",
     "output_type": "stream",
     "text": [
      "Warning: 249 (1.97 %) of 12638 users have no train items\n",
      "Warning: 2146 (16.98 %) of 12638 users have no sampled items\n",
      "Warning: 508 (4.02 %) of 12638 users have no train items\n",
      "Warning: 2581 (20.42 %) of 12638 users have no sampled items\n",
      "Warning: 191 (1.51 %) of 12638 users have no train items\n",
      "Warning: 2177 (17.23 %) of 12638 users have no sampled items\n",
      "Warning: 440 (3.48 %) of 12638 users have no train items\n",
      "Warning: 2598 (20.56 %) of 12638 users have no sampled items\n",
      "Warning: 235 (1.86 %) of 12638 users have no train items\n",
      "Warning: 2157 (17.07 %) of 12638 users have no sampled items\n",
      "Warning: 479 (3.79 %) of 12638 users have no train items\n",
      "Warning: 2621 (20.74 %) of 12638 users have no sampled items\n",
      "Warning: 218 (1.72 %) of 12638 users have no train items\n",
      "Warning: 2132 (16.87 %) of 12638 users have no sampled items\n",
      "Warning: 451 (3.57 %) of 12638 users have no train items\n",
      "Warning: 2601 (20.58 %) of 12638 users have no sampled items\n",
      "Warning: 220 (1.74 %) of 12638 users have no train items\n",
      "Warning: 2149 (17.00 %) of 12638 users have no sampled items\n",
      "Warning: 449 (3.55 %) of 12638 users have no train items\n",
      "Warning: 2649 (20.96 %) of 12638 users have no sampled items\n",
      "Warning: 224 (1.77 %) of 12638 users have no train items\n",
      "Warning: 2129 (16.85 %) of 12638 users have no sampled items\n",
      "Warning: 460 (3.64 %) of 12638 users have no train items\n",
      "Warning: 2614 (20.68 %) of 12638 users have no sampled items\n",
      "Warning: 207 (1.64 %) of 12638 users have no train items\n",
      "Warning: 2228 (17.63 %) of 12638 users have no sampled items\n",
      "Warning: 426 (3.37 %) of 12638 users have no train items\n",
      "Warning: 2608 (20.64 %) of 12638 users have no sampled items\n",
      "Warning: 218 (1.72 %) of 12638 users have no train items\n",
      "Warning: 2183 (17.27 %) of 12638 users have no sampled items\n",
      "Warning: 471 (3.73 %) of 12638 users have no train items\n",
      "Warning: 2586 (20.46 %) of 12638 users have no sampled items\n",
      "Warning: 214 (1.69 %) of 12638 users have no train items\n",
      "Warning: 2140 (16.93 %) of 12638 users have no sampled items\n",
      "Warning: 478 (3.78 %) of 12638 users have no train items\n",
      "Warning: 2593 (20.52 %) of 12638 users have no sampled items\n",
      "Warning: 217 (1.72 %) of 12638 users have no train items\n",
      "Warning: 2187 (17.30 %) of 12638 users have no sampled items\n",
      "Warning: 460 (3.64 %) of 12638 users have no train items\n",
      "Warning: 2570 (20.34 %) of 12638 users have no sampled items\n"
     ]
    }
   ],
   "source": [
    "from sklearn.model_selection import train_test_split\n",
    "from sklearn.model_selection import cross_val_score, KFold\n",
    "import numpy as np\n",
    "import scipy.sparse as sps\n",
    "from Data_manager.split_functions.split_train_validation_random_holdout import split_train_in_two_percentage_global_sample\n",
    "\n",
    "\n",
    "urm_all = sps.coo_matrix((df[\"Interaction\"].values, \n",
    "                          (df[\"User\"].values, df[\"Item\"].values)))\n",
    "\n",
    "urm_train_validation = []\n",
    "urm_test = []\n",
    "urm_train = []\n",
    "urm_validation = []\n",
    "\n",
    "for i in range(len(seeds)):\n",
    "    a, b = split_train_in_two_percentage_global_sample(urm_all, train_percentage = 0.80,seed=seeds[i])\n",
    "    c, d = split_train_in_two_percentage_global_sample(a, train_percentage = 0.80,seed=seeds[i])\n",
    "    urm_train_validation.append(a)\n",
    "    urm_test.append(b)\n",
    "    urm_train.append(c)\n",
    "    urm_validation.append(d)\n",
    "\n"
   ]
  },
  {
   "cell_type": "code",
   "execution_count": 10,
   "metadata": {},
   "outputs": [
    {
     "name": "stdout",
     "output_type": "stream",
     "text": [
      "EvaluatorHoldout: Ignoring 2581 (20.4%) Users that have less than 1 test interactions\n",
      "EvaluatorHoldout: Ignoring 0 Users\n",
      "EvaluatorHoldout: Ignoring 2598 (20.6%) Users that have less than 1 test interactions\n",
      "EvaluatorHoldout: Ignoring 0 Users\n",
      "EvaluatorHoldout: Ignoring 2621 (20.7%) Users that have less than 1 test interactions\n",
      "EvaluatorHoldout: Ignoring 0 Users\n",
      "EvaluatorHoldout: Ignoring 2601 (20.6%) Users that have less than 1 test interactions\n",
      "EvaluatorHoldout: Ignoring 0 Users\n",
      "EvaluatorHoldout: Ignoring 2649 (21.0%) Users that have less than 1 test interactions\n",
      "EvaluatorHoldout: Ignoring 0 Users\n",
      "EvaluatorHoldout: Ignoring 2614 (20.7%) Users that have less than 1 test interactions\n",
      "EvaluatorHoldout: Ignoring 0 Users\n",
      "EvaluatorHoldout: Ignoring 2608 (20.6%) Users that have less than 1 test interactions\n",
      "EvaluatorHoldout: Ignoring 0 Users\n",
      "EvaluatorHoldout: Ignoring 2586 (20.5%) Users that have less than 1 test interactions\n",
      "EvaluatorHoldout: Ignoring 0 Users\n",
      "EvaluatorHoldout: Ignoring 2593 (20.5%) Users that have less than 1 test interactions\n",
      "EvaluatorHoldout: Ignoring 0 Users\n",
      "EvaluatorHoldout: Ignoring 2570 (20.3%) Users that have less than 1 test interactions\n",
      "EvaluatorHoldout: Ignoring 0 Users\n"
     ]
    }
   ],
   "source": [
    "from Evaluation.Evaluator import EvaluatorHoldout\n",
    "evaluator_validation = []\n",
    "for u in urm_validation:\n",
    "    evaluator_validation.append(EvaluatorHoldout(u, cutoff_list=[10], ignore_users=[]))"
   ]
  },
  {
   "cell_type": "code",
   "execution_count": 11,
   "metadata": {},
   "outputs": [
    {
     "name": "stdout",
     "output_type": "stream",
     "text": [
      "EvaluatorHoldout: Ignoring 2146 (17.0%) Users that have less than 1 test interactions\n",
      "EvaluatorHoldout: Ignoring 0 Users\n",
      "EvaluatorHoldout: Ignoring 2177 (17.2%) Users that have less than 1 test interactions\n",
      "EvaluatorHoldout: Ignoring 0 Users\n",
      "EvaluatorHoldout: Ignoring 2157 (17.1%) Users that have less than 1 test interactions\n",
      "EvaluatorHoldout: Ignoring 0 Users\n",
      "EvaluatorHoldout: Ignoring 2132 (16.9%) Users that have less than 1 test interactions\n",
      "EvaluatorHoldout: Ignoring 0 Users\n",
      "EvaluatorHoldout: Ignoring 2149 (17.0%) Users that have less than 1 test interactions\n",
      "EvaluatorHoldout: Ignoring 0 Users\n",
      "EvaluatorHoldout: Ignoring 2129 (16.8%) Users that have less than 1 test interactions\n",
      "EvaluatorHoldout: Ignoring 0 Users\n",
      "EvaluatorHoldout: Ignoring 2228 (17.6%) Users that have less than 1 test interactions\n",
      "EvaluatorHoldout: Ignoring 0 Users\n",
      "EvaluatorHoldout: Ignoring 2183 (17.3%) Users that have less than 1 test interactions\n",
      "EvaluatorHoldout: Ignoring 0 Users\n",
      "EvaluatorHoldout: Ignoring 2140 (16.9%) Users that have less than 1 test interactions\n",
      "EvaluatorHoldout: Ignoring 0 Users\n",
      "EvaluatorHoldout: Ignoring 2187 (17.3%) Users that have less than 1 test interactions\n",
      "EvaluatorHoldout: Ignoring 0 Users\n"
     ]
    }
   ],
   "source": [
    "from Evaluation.Evaluator import EvaluatorHoldout\n",
    "evaluator_test = []\n",
    "for u in urm_test:\n",
    "    evaluator_test.append(EvaluatorHoldout(u, cutoff_list=[10], ignore_users=[]))"
   ]
  },
  {
   "cell_type": "code",
   "execution_count": 12,
   "metadata": {},
   "outputs": [],
   "source": [
    "from Recommenders.KNN.ItemKNNCFRecommender import ItemKNNCFRecommender\n",
    "\n",
    "recommenderClass = ItemKNNCFRecommender\n",
    "\n"
   ]
  },
  {
   "cell_type": "code",
   "execution_count": 13,
   "metadata": {},
   "outputs": [],
   "source": [
    "import optuna\n",
    "\n",
    "# Replace the following with your MySQL database connection details\n",
    "host = \"db-mysql-nyc3-14396-do-user-15539286-0.c.db.ondigitalocean.com\"\n",
    "port = 25060\n",
    "database_name = \"recsys_optuna\"\n",
    "username = \"doadmin\"\n",
    "password = \"AVNS_EIQ1D-GbDGJWZPsN3Mt\"\n",
    "\n",
    "# Create an SQLAlchemy engine\n",
    "mysql_url = f\"mysql+pymysql://{username}:{password}@{host}:{port}/{database_name}\"\n",
    "storage = optuna.storages.RDBStorage(url=mysql_url)"
   ]
  },
  {
   "cell_type": "code",
   "execution_count": 14,
   "metadata": {},
   "outputs": [],
   "source": [
    "rp3_study = optuna.load_study(study_name=\"RP3_Hybrid_last\", storage=storage)\n",
    "p3_study = optuna.load_study(study_name=\"P3_Hybrid_last\", storage=storage)\n",
    "slim_study = optuna.load_study(study_name=\"SLIM_Hybrid_last\", storage=storage)\n",
    "knn_study = optuna.load_study(study_name=\"KNN_Hybrid_last\", storage=storage)\n",
    "mf_study = optuna.load_study(study_name=\"NMF_Hybrid_last\", storage=storage)\n"
   ]
  },
  {
   "cell_type": "code",
   "execution_count": 15,
   "metadata": {},
   "outputs": [
    {
     "name": "stdout",
     "output_type": "stream",
     "text": [
      "SLIMElasticNetRecommender: URM Detected 508 ( 4.0%) users with no interactions.\n",
      "SLIMElasticNetRecommender: URM Detected 332 ( 1.5%) items with no interactions.\n"
     ]
    },
    {
     "name": "stderr",
     "output_type": "stream",
     "text": [
      "100%|█████████▉| 22216/22222 [00:29<00:00, 744.76it/s] \n"
     ]
    },
    {
     "name": "stdout",
     "output_type": "stream",
     "text": [
      "RP3betaRecommender: URM Detected 508 ( 4.0%) users with no interactions.\n",
      "RP3betaRecommender: URM Detected 332 ( 1.5%) items with no interactions.\n",
      "RP3betaRecommender: Similarity column 22222 (100.0%), 9472.88 column/sec. Elapsed time 2.35 sec\n",
      "P3alphaRecommender: URM Detected 508 ( 4.0%) users with no interactions.\n",
      "P3alphaRecommender: URM Detected 332 ( 1.5%) items with no interactions.\n",
      "P3alphaRecommender: Similarity column 22222 (100.0%), 10479.71 column/sec. Elapsed time 2.12 sec\n",
      "ItemKNNCFRecommender: URM Detected 508 ( 4.0%) users with no interactions.\n",
      "ItemKNNCFRecommender: URM Detected 332 ( 1.5%) items with no interactions.\n",
      "Similarity column 22222 (100.0%), 13554.67 column/sec. Elapsed time 1.64 sec\n",
      "NMFRecommender: URM Detected 508 ( 4.0%) users with no interactions.\n",
      "NMFRecommender: URM Detected 332 ( 1.5%) items with no interactions.\n",
      "NMFRecommender: Computing NMF decomposition...\n",
      "NMFRecommender: Computing NMF decomposition... done in 14.13 sec\n",
      "SLIMElasticNetRecommender: URM Detected 440 ( 3.5%) users with no interactions.\n",
      "SLIMElasticNetRecommender: URM Detected 325 ( 1.5%) items with no interactions.\n"
     ]
    },
    {
     "name": "stderr",
     "output_type": "stream",
     "text": [
      "100%|█████████▉| 22216/22222 [00:30<00:00, 736.89it/s] \n"
     ]
    },
    {
     "name": "stdout",
     "output_type": "stream",
     "text": [
      "RP3betaRecommender: URM Detected 440 ( 3.5%) users with no interactions.\n",
      "RP3betaRecommender: URM Detected 325 ( 1.5%) items with no interactions.\n",
      "RP3betaRecommender: Similarity column 22222 (100.0%), 9596.34 column/sec. Elapsed time 2.32 sec\n",
      "P3alphaRecommender: URM Detected 440 ( 3.5%) users with no interactions.\n",
      "P3alphaRecommender: URM Detected 325 ( 1.5%) items with no interactions.\n",
      "P3alphaRecommender: Similarity column 22222 (100.0%), 10274.26 column/sec. Elapsed time 2.16 sec\n",
      "ItemKNNCFRecommender: URM Detected 440 ( 3.5%) users with no interactions.\n",
      "ItemKNNCFRecommender: URM Detected 325 ( 1.5%) items with no interactions.\n",
      "Similarity column 22222 (100.0%), 13503.48 column/sec. Elapsed time 1.65 sec\n",
      "NMFRecommender: URM Detected 440 ( 3.5%) users with no interactions.\n",
      "NMFRecommender: URM Detected 325 ( 1.5%) items with no interactions.\n",
      "NMFRecommender: Computing NMF decomposition...\n",
      "NMFRecommender: Computing NMF decomposition... done in 10.50 sec\n",
      "SLIMElasticNetRecommender: URM Detected 479 ( 3.8%) users with no interactions.\n",
      "SLIMElasticNetRecommender: URM Detected 345 ( 1.6%) items with no interactions.\n"
     ]
    },
    {
     "name": "stderr",
     "output_type": "stream",
     "text": [
      "100%|█████████▉| 22216/22222 [00:30<00:00, 734.77it/s] \n"
     ]
    },
    {
     "name": "stdout",
     "output_type": "stream",
     "text": [
      "RP3betaRecommender: URM Detected 479 ( 3.8%) users with no interactions.\n",
      "RP3betaRecommender: URM Detected 345 ( 1.6%) items with no interactions.\n",
      "RP3betaRecommender: Similarity column 22222 (100.0%), 9628.61 column/sec. Elapsed time 2.31 sec\n",
      "P3alphaRecommender: URM Detected 479 ( 3.8%) users with no interactions.\n",
      "P3alphaRecommender: URM Detected 345 ( 1.6%) items with no interactions.\n",
      "P3alphaRecommender: Similarity column 22222 (100.0%), 10404.18 column/sec. Elapsed time 2.14 sec\n",
      "ItemKNNCFRecommender: URM Detected 479 ( 3.8%) users with no interactions.\n",
      "ItemKNNCFRecommender: URM Detected 345 ( 1.6%) items with no interactions.\n",
      "Similarity column 22222 (100.0%), 13643.89 column/sec. Elapsed time 1.63 sec\n",
      "NMFRecommender: URM Detected 479 ( 3.8%) users with no interactions.\n",
      "NMFRecommender: URM Detected 345 ( 1.6%) items with no interactions.\n",
      "NMFRecommender: Computing NMF decomposition...\n",
      "NMFRecommender: Computing NMF decomposition... done in 11.31 sec\n",
      "SLIMElasticNetRecommender: URM Detected 451 ( 3.6%) users with no interactions.\n",
      "SLIMElasticNetRecommender: URM Detected 311 ( 1.4%) items with no interactions.\n"
     ]
    },
    {
     "name": "stderr",
     "output_type": "stream",
     "text": [
      "100%|█████████▉| 22216/22222 [00:29<00:00, 743.17it/s]\n"
     ]
    },
    {
     "name": "stdout",
     "output_type": "stream",
     "text": [
      "RP3betaRecommender: URM Detected 451 ( 3.6%) users with no interactions.\n",
      "RP3betaRecommender: URM Detected 311 ( 1.4%) items with no interactions.\n",
      "RP3betaRecommender: Similarity column 22222 (100.0%), 9640.36 column/sec. Elapsed time 2.31 sec\n",
      "P3alphaRecommender: URM Detected 451 ( 3.6%) users with no interactions.\n",
      "P3alphaRecommender: URM Detected 311 ( 1.4%) items with no interactions.\n",
      "P3alphaRecommender: Similarity column 22222 (100.0%), 10439.49 column/sec. Elapsed time 2.13 sec\n",
      "ItemKNNCFRecommender: URM Detected 451 ( 3.6%) users with no interactions.\n",
      "ItemKNNCFRecommender: URM Detected 311 ( 1.4%) items with no interactions.\n",
      "Similarity column 22222 (100.0%), 13864.56 column/sec. Elapsed time 1.60 sec\n",
      "NMFRecommender: URM Detected 451 ( 3.6%) users with no interactions.\n",
      "NMFRecommender: URM Detected 311 ( 1.4%) items with no interactions.\n",
      "NMFRecommender: Computing NMF decomposition...\n",
      "NMFRecommender: Computing NMF decomposition... done in 11.52 sec\n",
      "SLIMElasticNetRecommender: URM Detected 449 ( 3.6%) users with no interactions.\n",
      "SLIMElasticNetRecommender: URM Detected 320 ( 1.4%) items with no interactions.\n"
     ]
    },
    {
     "name": "stderr",
     "output_type": "stream",
     "text": [
      "100%|█████████▉| 22216/22222 [00:29<00:00, 750.68it/s] \n"
     ]
    },
    {
     "name": "stdout",
     "output_type": "stream",
     "text": [
      "RP3betaRecommender: URM Detected 449 ( 3.6%) users with no interactions.\n",
      "RP3betaRecommender: URM Detected 320 ( 1.4%) items with no interactions.\n",
      "RP3betaRecommender: Similarity column 22222 (100.0%), 9468.74 column/sec. Elapsed time 2.35 sec\n",
      "P3alphaRecommender: URM Detected 449 ( 3.6%) users with no interactions.\n",
      "P3alphaRecommender: URM Detected 320 ( 1.4%) items with no interactions.\n",
      "P3alphaRecommender: Similarity column 22222 (100.0%), 10453.02 column/sec. Elapsed time 2.13 sec\n",
      "ItemKNNCFRecommender: URM Detected 449 ( 3.6%) users with no interactions.\n",
      "ItemKNNCFRecommender: URM Detected 320 ( 1.4%) items with no interactions.\n",
      "Similarity column 22222 (100.0%), 13836.30 column/sec. Elapsed time 1.61 sec\n",
      "NMFRecommender: URM Detected 449 ( 3.6%) users with no interactions.\n",
      "NMFRecommender: URM Detected 320 ( 1.4%) items with no interactions.\n",
      "NMFRecommender: Computing NMF decomposition...\n",
      "NMFRecommender: Computing NMF decomposition... done in 11.96 sec\n",
      "SLIMElasticNetRecommender: URM Detected 460 ( 3.6%) users with no interactions.\n",
      "SLIMElasticNetRecommender: URM Detected 328 ( 1.5%) items with no interactions.\n"
     ]
    },
    {
     "name": "stderr",
     "output_type": "stream",
     "text": [
      "100%|█████████▉| 22216/22222 [00:29<00:00, 747.40it/s] \n"
     ]
    },
    {
     "name": "stdout",
     "output_type": "stream",
     "text": [
      "RP3betaRecommender: URM Detected 460 ( 3.6%) users with no interactions.\n",
      "RP3betaRecommender: URM Detected 328 ( 1.5%) items with no interactions.\n",
      "RP3betaRecommender: Similarity column 22222 (100.0%), 9537.78 column/sec. Elapsed time 2.33 sec\n",
      "P3alphaRecommender: URM Detected 460 ( 3.6%) users with no interactions.\n",
      "P3alphaRecommender: URM Detected 328 ( 1.5%) items with no interactions.\n",
      "P3alphaRecommender: Similarity column 22222 (100.0%), 10576.04 column/sec. Elapsed time 2.10 sec\n",
      "ItemKNNCFRecommender: URM Detected 460 ( 3.6%) users with no interactions.\n",
      "ItemKNNCFRecommender: URM Detected 328 ( 1.5%) items with no interactions.\n",
      "Similarity column 22222 (100.0%), 13869.78 column/sec. Elapsed time 1.60 sec\n",
      "NMFRecommender: URM Detected 460 ( 3.6%) users with no interactions.\n",
      "NMFRecommender: URM Detected 328 ( 1.5%) items with no interactions.\n",
      "NMFRecommender: Computing NMF decomposition...\n",
      "NMFRecommender: Computing NMF decomposition... done in 11.56 sec\n",
      "SLIMElasticNetRecommender: URM Detected 426 ( 3.4%) users with no interactions.\n",
      "SLIMElasticNetRecommender: URM Detected 344 ( 1.5%) items with no interactions.\n"
     ]
    },
    {
     "name": "stderr",
     "output_type": "stream",
     "text": [
      "100%|█████████▉| 22216/22222 [00:29<00:00, 747.59it/s]\n"
     ]
    },
    {
     "name": "stdout",
     "output_type": "stream",
     "text": [
      "RP3betaRecommender: URM Detected 426 ( 3.4%) users with no interactions.\n",
      "RP3betaRecommender: URM Detected 344 ( 1.5%) items with no interactions.\n",
      "RP3betaRecommender: Similarity column 22222 (100.0%), 9612.36 column/sec. Elapsed time 2.31 sec\n",
      "P3alphaRecommender: URM Detected 426 ( 3.4%) users with no interactions.\n",
      "P3alphaRecommender: URM Detected 344 ( 1.5%) items with no interactions.\n",
      "P3alphaRecommender: Similarity column 22222 (100.0%), 10577.61 column/sec. Elapsed time 2.10 sec\n",
      "ItemKNNCFRecommender: URM Detected 426 ( 3.4%) users with no interactions.\n",
      "ItemKNNCFRecommender: URM Detected 344 ( 1.5%) items with no interactions.\n",
      "Similarity column 22222 (100.0%), 13799.76 column/sec. Elapsed time 1.61 sec\n",
      "NMFRecommender: URM Detected 426 ( 3.4%) users with no interactions.\n",
      "NMFRecommender: URM Detected 344 ( 1.5%) items with no interactions.\n",
      "NMFRecommender: Computing NMF decomposition...\n",
      "NMFRecommender: Computing NMF decomposition... done in 12.22 sec\n",
      "SLIMElasticNetRecommender: URM Detected 471 ( 3.7%) users with no interactions.\n",
      "SLIMElasticNetRecommender: URM Detected 362 ( 1.6%) items with no interactions.\n"
     ]
    },
    {
     "name": "stderr",
     "output_type": "stream",
     "text": [
      "100%|█████████▉| 22216/22222 [00:30<00:00, 738.32it/s]\n"
     ]
    },
    {
     "name": "stdout",
     "output_type": "stream",
     "text": [
      "RP3betaRecommender: URM Detected 471 ( 3.7%) users with no interactions.\n",
      "RP3betaRecommender: URM Detected 362 ( 1.6%) items with no interactions.\n",
      "RP3betaRecommender: Similarity column 22222 (100.0%), 9412.71 column/sec. Elapsed time 2.36 sec\n",
      "P3alphaRecommender: URM Detected 471 ( 3.7%) users with no interactions.\n",
      "P3alphaRecommender: URM Detected 362 ( 1.6%) items with no interactions.\n",
      "P3alphaRecommender: Similarity column 22222 (100.0%), 10484.33 column/sec. Elapsed time 2.12 sec\n",
      "ItemKNNCFRecommender: URM Detected 471 ( 3.7%) users with no interactions.\n",
      "ItemKNNCFRecommender: URM Detected 362 ( 1.6%) items with no interactions.\n",
      "Similarity column 22222 (100.0%), 13941.16 column/sec. Elapsed time 1.59 sec\n",
      "NMFRecommender: URM Detected 471 ( 3.7%) users with no interactions.\n",
      "NMFRecommender: URM Detected 362 ( 1.6%) items with no interactions.\n",
      "NMFRecommender: Computing NMF decomposition...\n",
      "NMFRecommender: Computing NMF decomposition... done in 9.43 sec\n",
      "SLIMElasticNetRecommender: URM Detected 478 ( 3.8%) users with no interactions.\n",
      "SLIMElasticNetRecommender: URM Detected 329 ( 1.5%) items with no interactions.\n"
     ]
    },
    {
     "name": "stderr",
     "output_type": "stream",
     "text": [
      "100%|█████████▉| 22216/22222 [00:30<00:00, 725.10it/s]\n"
     ]
    },
    {
     "name": "stdout",
     "output_type": "stream",
     "text": [
      "RP3betaRecommender: URM Detected 478 ( 3.8%) users with no interactions.\n",
      "RP3betaRecommender: URM Detected 329 ( 1.5%) items with no interactions.\n",
      "RP3betaRecommender: Similarity column 22222 (100.0%), 9456.40 column/sec. Elapsed time 2.35 sec\n",
      "P3alphaRecommender: URM Detected 478 ( 3.8%) users with no interactions.\n",
      "P3alphaRecommender: URM Detected 329 ( 1.5%) items with no interactions.\n",
      "P3alphaRecommender: Similarity column 22222 (100.0%), 10419.18 column/sec. Elapsed time 2.13 sec\n",
      "ItemKNNCFRecommender: URM Detected 478 ( 3.8%) users with no interactions.\n",
      "ItemKNNCFRecommender: URM Detected 329 ( 1.5%) items with no interactions.\n",
      "Similarity column 22222 (100.0%), 13797.02 column/sec. Elapsed time 1.61 sec\n",
      "NMFRecommender: URM Detected 478 ( 3.8%) users with no interactions.\n",
      "NMFRecommender: URM Detected 329 ( 1.5%) items with no interactions.\n",
      "NMFRecommender: Computing NMF decomposition...\n",
      "NMFRecommender: Computing NMF decomposition... done in 13.71 sec\n",
      "SLIMElasticNetRecommender: URM Detected 460 ( 3.6%) users with no interactions.\n",
      "SLIMElasticNetRecommender: URM Detected 348 ( 1.6%) items with no interactions.\n"
     ]
    },
    {
     "name": "stderr",
     "output_type": "stream",
     "text": [
      "100%|█████████▉| 22216/22222 [00:30<00:00, 724.01it/s]\n"
     ]
    },
    {
     "name": "stdout",
     "output_type": "stream",
     "text": [
      "RP3betaRecommender: URM Detected 460 ( 3.6%) users with no interactions.\n",
      "RP3betaRecommender: URM Detected 348 ( 1.6%) items with no interactions.\n",
      "RP3betaRecommender: Similarity column 22222 (100.0%), 9561.45 column/sec. Elapsed time 2.32 sec\n",
      "P3alphaRecommender: URM Detected 460 ( 3.6%) users with no interactions.\n",
      "P3alphaRecommender: URM Detected 348 ( 1.6%) items with no interactions.\n",
      "P3alphaRecommender: Similarity column 22222 (100.0%), 10442.94 column/sec. Elapsed time 2.13 sec\n",
      "ItemKNNCFRecommender: URM Detected 460 ( 3.6%) users with no interactions.\n",
      "ItemKNNCFRecommender: URM Detected 348 ( 1.6%) items with no interactions.\n",
      "Similarity column 22222 (100.0%), 13834.26 column/sec. Elapsed time 1.61 sec\n",
      "NMFRecommender: URM Detected 460 ( 3.6%) users with no interactions.\n",
      "NMFRecommender: URM Detected 348 ( 1.6%) items with no interactions.\n",
      "NMFRecommender: Computing NMF decomposition...\n",
      "NMFRecommender: Computing NMF decomposition... done in 11.09 sec\n"
     ]
    }
   ],
   "source": [
    "from Recommenders.GraphBased.P3alphaRecommender import P3alphaRecommender\n",
    "from Recommenders.GraphBased.RP3betaRecommender import RP3betaRecommender\n",
    "from Recommenders.SLIM.SLIMElasticNetRecommender import MultiThreadSLIM_SLIMElasticNetRecommender\n",
    "from Recommenders.MatrixFactorization.NMFRecommender import NMFRecommender\n",
    "from Recommenders.KNN.ItemKNNCFRecommender import ItemKNNCFRecommender\n",
    "from Recommenders.Hybrid.GeneralizedLinearHybridRecommender import GeneralizedLinearHybridRecommender\n",
    "from Recommenders.NonPersonalizedRecommender.TopPop import TopPop\n",
    "\n",
    "slims = []\n",
    "rp3s = []\n",
    "p3s = []\n",
    "knns = []\n",
    "nmfs = []\n",
    "tops = []\n",
    "\n",
    "for i in range(k_fold):\n",
    "    slim = MultiThreadSLIM_SLIMElasticNetRecommender(urm_train[i])\n",
    "    slim.fit(workers=8, **slim_study.best_params)\n",
    "    slims.append(slim)\n",
    "\n",
    "    rp3 = RP3betaRecommender(urm_train[i])\n",
    "    rp3.fit(**rp3_study.best_params)\n",
    "    rp3s.append(rp3)\n",
    "\n",
    "    p3 = P3alphaRecommender(urm_train[i])\n",
    "    p3.fit(**p3_study.best_params)\n",
    "    p3s.append(p3)\n",
    "\n",
    "    knn = ItemKNNCFRecommender(urm_train[i])\n",
    "    knn.fit(**knn_study.best_params)\n",
    "    knns.append(knn)\n",
    "\n",
    "    top = TopPop(urm_train[i])\n",
    "    top.fit()\n",
    "    tops.append(top)\n",
    "\n",
    "    #nmf = NMFRecommender(urm_train[i])\n",
    "    #nmf.fit(**mf_study.best_params)\n",
    "    #nmfs.append(nmf)"
   ]
  },
  {
   "cell_type": "code",
   "execution_count": 25,
   "metadata": {},
   "outputs": [
    {
     "name": "stdout",
     "output_type": "stream",
     "text": [
      "TopPopRecommender: URM Detected 508 ( 4.0%) users with no interactions.\n",
      "TopPopRecommender: URM Detected 332 ( 1.5%) items with no interactions.\n",
      "TopPopRecommender: URM Detected 440 ( 3.5%) users with no interactions.\n",
      "TopPopRecommender: URM Detected 325 ( 1.5%) items with no interactions.\n",
      "TopPopRecommender: URM Detected 479 ( 3.8%) users with no interactions.\n",
      "TopPopRecommender: URM Detected 345 ( 1.6%) items with no interactions.\n",
      "TopPopRecommender: URM Detected 451 ( 3.6%) users with no interactions.\n",
      "TopPopRecommender: URM Detected 311 ( 1.4%) items with no interactions.\n",
      "TopPopRecommender: URM Detected 449 ( 3.6%) users with no interactions.\n",
      "TopPopRecommender: URM Detected 320 ( 1.4%) items with no interactions.\n",
      "TopPopRecommender: URM Detected 460 ( 3.6%) users with no interactions.\n",
      "TopPopRecommender: URM Detected 328 ( 1.5%) items with no interactions.\n",
      "TopPopRecommender: URM Detected 426 ( 3.4%) users with no interactions.\n",
      "TopPopRecommender: URM Detected 344 ( 1.5%) items with no interactions.\n",
      "TopPopRecommender: URM Detected 471 ( 3.7%) users with no interactions.\n",
      "TopPopRecommender: URM Detected 362 ( 1.6%) items with no interactions.\n",
      "TopPopRecommender: URM Detected 478 ( 3.8%) users with no interactions.\n",
      "TopPopRecommender: URM Detected 329 ( 1.5%) items with no interactions.\n",
      "TopPopRecommender: URM Detected 460 ( 3.6%) users with no interactions.\n",
      "TopPopRecommender: URM Detected 348 ( 1.6%) items with no interactions.\n"
     ]
    }
   ],
   "source": [
    "from Recommenders.NonPersonalizedRecommender import TopPop\n",
    "\n",
    "tops = []\n",
    "for i in range(k_fold):\n",
    "    top = TopPop(urm_train[i])\n",
    "    top.fit()\n",
    "    tops.append(top)"
   ]
  },
  {
   "cell_type": "code",
   "execution_count": 31,
   "metadata": {},
   "outputs": [
    {
     "name": "stdout",
     "output_type": "stream",
     "text": [
      "SLIMElasticNetRP3betaP3alphaItemKNNCFTopPopHybridRecommender: URM Detected 508 ( 4.0%) users with no interactions.\n",
      "SLIMElasticNetRP3betaP3alphaItemKNNCFTopPopHybridRecommender: URM Detected 332 ( 1.5%) items with no interactions.\n",
      "SLIMElasticNetRP3betaP3alphaItemKNNCFTopPopHybridRecommender: URM Detected 440 ( 3.5%) users with no interactions.\n",
      "SLIMElasticNetRP3betaP3alphaItemKNNCFTopPopHybridRecommender: URM Detected 325 ( 1.5%) items with no interactions.\n",
      "SLIMElasticNetRP3betaP3alphaItemKNNCFTopPopHybridRecommender: URM Detected 479 ( 3.8%) users with no interactions.\n",
      "SLIMElasticNetRP3betaP3alphaItemKNNCFTopPopHybridRecommender: URM Detected 345 ( 1.6%) items with no interactions.\n",
      "SLIMElasticNetRP3betaP3alphaItemKNNCFTopPopHybridRecommender: URM Detected 451 ( 3.6%) users with no interactions.\n",
      "SLIMElasticNetRP3betaP3alphaItemKNNCFTopPopHybridRecommender: URM Detected 311 ( 1.4%) items with no interactions.\n",
      "SLIMElasticNetRP3betaP3alphaItemKNNCFTopPopHybridRecommender: URM Detected 449 ( 3.6%) users with no interactions.\n",
      "SLIMElasticNetRP3betaP3alphaItemKNNCFTopPopHybridRecommender: URM Detected 320 ( 1.4%) items with no interactions.\n",
      "SLIMElasticNetRP3betaP3alphaItemKNNCFTopPopHybridRecommender: URM Detected 460 ( 3.6%) users with no interactions.\n",
      "SLIMElasticNetRP3betaP3alphaItemKNNCFTopPopHybridRecommender: URM Detected 328 ( 1.5%) items with no interactions.\n",
      "SLIMElasticNetRP3betaP3alphaItemKNNCFTopPopHybridRecommender: URM Detected 426 ( 3.4%) users with no interactions.\n",
      "SLIMElasticNetRP3betaP3alphaItemKNNCFTopPopHybridRecommender: URM Detected 344 ( 1.5%) items with no interactions.\n",
      "SLIMElasticNetRP3betaP3alphaItemKNNCFTopPopHybridRecommender: URM Detected 471 ( 3.7%) users with no interactions.\n",
      "SLIMElasticNetRP3betaP3alphaItemKNNCFTopPopHybridRecommender: URM Detected 362 ( 1.6%) items with no interactions.\n",
      "SLIMElasticNetRP3betaP3alphaItemKNNCFTopPopHybridRecommender: URM Detected 478 ( 3.8%) users with no interactions.\n",
      "SLIMElasticNetRP3betaP3alphaItemKNNCFTopPopHybridRecommender: URM Detected 329 ( 1.5%) items with no interactions.\n",
      "SLIMElasticNetRP3betaP3alphaItemKNNCFTopPopHybridRecommender: URM Detected 460 ( 3.6%) users with no interactions.\n",
      "SLIMElasticNetRP3betaP3alphaItemKNNCFTopPopHybridRecommender: URM Detected 348 ( 1.6%) items with no interactions.\n"
     ]
    }
   ],
   "source": [
    "hybrids = []\n",
    "\n",
    "for i in range(k_fold):\n",
    "    hybrid = GeneralizedLinearHybridRecommender(urm_train[i], recommenders=[slims[i], rp3s[i], p3s[i], knns[i], tops[i]])\n",
    "    hybrids.append(hybrid)"
   ]
  },
  {
   "cell_type": "code",
   "execution_count": 27,
   "metadata": {},
   "outputs": [
    {
     "name": "stderr",
     "output_type": "stream",
     "text": [
      "[I 2024-01-10 12:44:04,031] A new study created in RDB with name: LINEAR_TOPPOP_Hybrid_last\n"
     ]
    }
   ],
   "source": [
    "study = optuna.create_study(study_name=\"LINEAR_TOPPOP_Hybrid_last\", direction=\"maximize\", storage=storage, load_if_exists=True, sampler=optuna.samplers.TPESampler())"
   ]
  },
  {
   "cell_type": "code",
   "execution_count": 28,
   "metadata": {},
   "outputs": [],
   "source": [
    "def objective(trial):\n",
    "\n",
    "    alphas = []\n",
    "    w_slim = trial.suggest_float(\"w_slim\", 0.8, 1)\n",
    "    w_knn = trial.suggest_float(\"w_knn\", 0, 0.1)\n",
    "    w_p3 = trial.suggest_float(\"w_p3\", 0, 0.05)\n",
    "    w_rp3 = trial.suggest_float(\"w_rp3\", 0.4, 0.7)\n",
    "    w_top = trial.suggest_float(\"w_top\", 0, 0.0001)\n",
    "        \n",
    "    alphas = [w_slim, w_rp3, w_p3, w_knn, w_top]\n",
    "    MAP = 0\n",
    "    for i in range(k_fold):\n",
    "        recommender = hybrids[i]\n",
    "        recommender.fit(alphas=alphas)\n",
    "\n",
    "        result_dict, _ = evaluator_validation[i].evaluateRecommender(recommender)\n",
    "        print(f\"MAP: {result_dict['MAP'].item()}, RECALL: {result_dict['RECALL'].item()}\")\n",
    "        MAP += result_dict[\"MAP\"].item()\n",
    "    \n",
    "    MAP /= k_fold\n",
    "    return MAP"
   ]
  },
  {
   "cell_type": "code",
   "execution_count": 29,
   "metadata": {},
   "outputs": [
    {
     "name": "stdout",
     "output_type": "stream",
     "text": [
      "EvaluatorHoldout: Processed 10057 (100.0%) in 6.61 sec. Users per second: 1522\n",
      "MAP: 0.030756576403389836, RECALL: 0.12262237320871533\n",
      "EvaluatorHoldout: Processed 10040 (100.0%) in 6.75 sec. Users per second: 1487\n",
      "MAP: 0.03083824622146368, RECALL: 0.12212385342902911\n",
      "EvaluatorHoldout: Processed 10017 (100.0%) in 5.98 sec. Users per second: 1674\n",
      "MAP: 0.030357697469856986, RECALL: 0.11835629816967372\n",
      "EvaluatorHoldout: Processed 10037 (100.0%) in 6.37 sec. Users per second: 1577\n",
      "MAP: 0.03059204751941662, RECALL: 0.12128811029293887\n",
      "EvaluatorHoldout: Processed 9989 (100.0%) in 6.34 sec. Users per second: 1576\n",
      "MAP: 0.030984638658079662, RECALL: 0.12485952139931035\n",
      "EvaluatorHoldout: Processed 10024 (100.0%) in 6.04 sec. Users per second: 1659\n",
      "MAP: 0.031257014910247335, RECALL: 0.12134101518908484\n",
      "EvaluatorHoldout: Processed 10030 (100.0%) in 6.80 sec. Users per second: 1475\n",
      "MAP: 0.031061335833768848, RECALL: 0.1259983042202435\n",
      "EvaluatorHoldout: Processed 10052 (100.0%) in 7.48 sec. Users per second: 1344\n",
      "MAP: 0.030538371105174017, RECALL: 0.12344377272933554\n",
      "EvaluatorHoldout: Processed 10045 (100.0%) in 6.88 sec. Users per second: 1459\n",
      "MAP: 0.031005894111419328, RECALL: 0.11747496876978912\n",
      "EvaluatorHoldout: Processed 10068 (100.0%) in 7.34 sec. Users per second: 1372\n",
      "MAP: 0.0311498043463183, RECALL: 0.12442690691154171\n"
     ]
    },
    {
     "name": "stderr",
     "output_type": "stream",
     "text": [
      "[I 2024-01-10 12:48:13,211] Trial 0 finished with value: 0.030854162657913464 and parameters: {'w_slim': 0.897329749016747, 'w_knn': 0.010286981589046685, 'w_p3': 0.030781954806672247, 'w_rp3': 0.6690525599190291, 'w_top': 5.7189438830901885e-05}. Best is trial 0 with value: 0.030854162657913464.\n"
     ]
    },
    {
     "name": "stdout",
     "output_type": "stream",
     "text": [
      "EvaluatorHoldout: Processed 10057 (100.0%) in 6.00 sec. Users per second: 1678\n",
      "MAP: 0.030943250456525045, RECALL: 0.12057194788196438\n",
      "EvaluatorHoldout: Processed 10040 (100.0%) in 6.63 sec. Users per second: 1515\n",
      "MAP: 0.031033504869411553, RECALL: 0.11929948042867106\n",
      "EvaluatorHoldout: Processed 10017 (100.0%) in 7.26 sec. Users per second: 1379\n",
      "MAP: 0.030501306509093436, RECALL: 0.11744841027876991\n",
      "EvaluatorHoldout: Processed 10037 (100.0%) in 7.06 sec. Users per second: 1422\n",
      "MAP: 0.030898872584137448, RECALL: 0.1208228513710756\n",
      "EvaluatorHoldout: Processed 9989 (100.0%) in 7.55 sec. Users per second: 1322\n",
      "MAP: 0.03125277885038649, RECALL: 0.1251565392416361\n",
      "EvaluatorHoldout: Processed 10024 (100.0%) in 6.73 sec. Users per second: 1489\n",
      "MAP: 0.031411620048392055, RECALL: 0.12069647024003073\n",
      "EvaluatorHoldout: Processed 10030 (100.0%) in 6.59 sec. Users per second: 1521\n",
      "MAP: 0.03130466141258791, RECALL: 0.12430657883153393\n",
      "EvaluatorHoldout: Processed 10052 (100.0%) in 7.00 sec. Users per second: 1435\n",
      "MAP: 0.03060856166979364, RECALL: 0.11973076219977691\n",
      "EvaluatorHoldout: Processed 10045 (100.0%) in 6.24 sec. Users per second: 1610\n",
      "MAP: 0.03127679015857223, RECALL: 0.11672170256012974\n",
      "EvaluatorHoldout: Processed 10068 (100.0%) in 7.15 sec. Users per second: 1408\n",
      "MAP: 0.031352871899654064, RECALL: 0.1220736791345577\n"
     ]
    },
    {
     "name": "stderr",
     "output_type": "stream",
     "text": [
      "[I 2024-01-10 12:49:34,856] Trial 1 finished with value: 0.03105842184585539 and parameters: {'w_slim': 0.821382308541623, 'w_knn': 0.060012770765681116, 'w_p3': 0.02219868024113902, 'w_rp3': 0.5994081151901731, 'w_top': 2.900410893780414e-06}. Best is trial 1 with value: 0.03105842184585539.\n"
     ]
    },
    {
     "name": "stdout",
     "output_type": "stream",
     "text": [
      "EvaluatorHoldout: Processed 10057 (100.0%) in 7.00 sec. Users per second: 1436\n",
      "MAP: 0.030902474940458627, RECALL: 0.12126431740162638\n",
      "EvaluatorHoldout: Processed 10040 (100.0%) in 7.22 sec. Users per second: 1390\n",
      "MAP: 0.030894821507620535, RECALL: 0.12105138888834273\n",
      "EvaluatorHoldout: Processed 10017 (100.0%) in 7.22 sec. Users per second: 1387\n",
      "MAP: 0.030631454305458657, RECALL: 0.11924762496955113\n",
      "EvaluatorHoldout: Processed 10037 (100.0%) in 6.96 sec. Users per second: 1443\n",
      "MAP: 0.030823295078052818, RECALL: 0.12191147747892936\n",
      "EvaluatorHoldout: Processed 9989 (100.0%) in 7.07 sec. Users per second: 1412\n",
      "MAP: 0.031103904771439338, RECALL: 0.12567834279083287\n",
      "EvaluatorHoldout: Processed 10024 (100.0%) in 7.09 sec. Users per second: 1415\n",
      "MAP: 0.03135855692370086, RECALL: 0.1225184342488638\n",
      "EvaluatorHoldout: Processed 10030 (100.0%) in 7.39 sec. Users per second: 1357\n",
      "MAP: 0.031170476665242607, RECALL: 0.1263881612547348\n",
      "EvaluatorHoldout: Processed 10052 (100.0%) in 7.10 sec. Users per second: 1416\n",
      "MAP: 0.030709899790928776, RECALL: 0.12233016594698275\n",
      "EvaluatorHoldout: Processed 10045 (100.0%) in 7.11 sec. Users per second: 1413\n",
      "MAP: 0.03110089912852494, RECALL: 0.11834999029180755\n",
      "EvaluatorHoldout: Processed 10068 (100.0%) in 7.95 sec. Users per second: 1266\n",
      "MAP: 0.031266278197148535, RECALL: 0.12365334345055962\n"
     ]
    },
    {
     "name": "stderr",
     "output_type": "stream",
     "text": [
      "[I 2024-01-10 12:51:00,441] Trial 2 finished with value: 0.030996206130857573 and parameters: {'w_slim': 0.9495667374921808, 'w_knn': 0.0790260750588645, 'w_p3': 0.04646054856101175, 'w_rp3': 0.41163661055221146, 'w_top': 3.415569979042673e-05}. Best is trial 1 with value: 0.03105842184585539.\n"
     ]
    },
    {
     "name": "stdout",
     "output_type": "stream",
     "text": [
      "EvaluatorHoldout: Processed 10057 (100.0%) in 7.26 sec. Users per second: 1386\n",
      "MAP: 0.030452397524586235, RECALL: 0.12085008709922579\n",
      "EvaluatorHoldout: Processed 10040 (100.0%) in 7.92 sec. Users per second: 1268\n",
      "MAP: 0.030535291374186115, RECALL: 0.12057119515098495\n",
      "EvaluatorHoldout: Processed 10017 (100.0%) in 9.67 sec. Users per second: 1036\n",
      "MAP: 0.030143727884818193, RECALL: 0.11788272871211172\n",
      "EvaluatorHoldout: Processed 10037 (100.0%) in 7.64 sec. Users per second: 1313\n",
      "MAP: 0.03036163417577206, RECALL: 0.12065045785373593\n",
      "EvaluatorHoldout: Processed 9989 (100.0%) in 7.52 sec. Users per second: 1328\n",
      "MAP: 0.03058917984386015, RECALL: 0.12253384604703277\n",
      "EvaluatorHoldout: Processed 10024 (100.0%) in 6.87 sec. Users per second: 1459\n",
      "MAP: 0.03079905449144303, RECALL: 0.12016996753780529\n",
      "EvaluatorHoldout: Processed 10030 (100.0%) in 10.14 sec. Users per second: 989\n",
      "MAP: 0.030738890471443035, RECALL: 0.12301612073771873\n",
      "EvaluatorHoldout: Processed 10052 (100.0%) in 10.02 sec. Users per second: 1003\n",
      "MAP: 0.030097840436081824, RECALL: 0.12125246726489086\n",
      "EvaluatorHoldout: Processed 10045 (100.0%) in 7.39 sec. Users per second: 1358\n",
      "MAP: 0.03062125988606846, RECALL: 0.11686269045601241\n",
      "EvaluatorHoldout: Processed 10068 (100.0%) in 8.27 sec. Users per second: 1218\n",
      "MAP: 0.030728880911390078, RECALL: 0.12340585719739193\n"
     ]
    },
    {
     "name": "stderr",
     "output_type": "stream",
     "text": [
      "[I 2024-01-10 12:52:36,672] Trial 3 finished with value: 0.030506815699964922 and parameters: {'w_slim': 0.9370003886762943, 'w_knn': 0.06639147797012596, 'w_p3': 0.016796760565530894, 'w_rp3': 0.4796562833287592, 'w_top': 9.256737444098711e-05}. Best is trial 1 with value: 0.03105842184585539.\n"
     ]
    },
    {
     "name": "stdout",
     "output_type": "stream",
     "text": [
      "EvaluatorHoldout: Processed 10057 (100.0%) in 6.98 sec. Users per second: 1441\n",
      "MAP: 0.030788493681255146, RECALL: 0.12145468028033483\n",
      "EvaluatorHoldout: Processed 10040 (100.0%) in 7.12 sec. Users per second: 1409\n",
      "MAP: 0.03084379545310847, RECALL: 0.12114634575553998\n",
      "EvaluatorHoldout: Processed 10017 (100.0%) in 10.06 sec. Users per second: 996\n",
      "MAP: 0.030570359753498578, RECALL: 0.11895152029964172\n",
      "EvaluatorHoldout: Processed 10037 (100.0%) in 10.31 sec. Users per second: 973\n",
      "MAP: 0.030688179924754914, RECALL: 0.12128977682301077\n",
      "EvaluatorHoldout: Processed 9989 (100.0%) in 8.86 sec. Users per second: 1127\n",
      "MAP: 0.031019724871962584, RECALL: 0.12517401909589607\n",
      "EvaluatorHoldout: Processed 10024 (100.0%) in 7.49 sec. Users per second: 1339\n",
      "MAP: 0.03126575583678552, RECALL: 0.12135978889467794\n",
      "EvaluatorHoldout: Processed 10030 (100.0%) in 8.18 sec. Users per second: 1226\n",
      "MAP: 0.031115692604725798, RECALL: 0.12598627303542506\n",
      "EvaluatorHoldout: Processed 10052 (100.0%) in 7.07 sec. Users per second: 1423\n",
      "MAP: 0.030578973464966703, RECALL: 0.1224145777737237\n",
      "EvaluatorHoldout: Processed 10045 (100.0%) in 7.05 sec. Users per second: 1425\n",
      "MAP: 0.031026341779452925, RECALL: 0.1184408384563873\n",
      "EvaluatorHoldout: Processed 10068 (100.0%) in 8.39 sec. Users per second: 1200\n",
      "MAP: 0.031142500835588116, RECALL: 0.12350062989695008\n"
     ]
    },
    {
     "name": "stderr",
     "output_type": "stream",
     "text": [
      "[I 2024-01-10 12:54:11,701] Trial 4 finished with value: 0.030903981820609876 and parameters: {'w_slim': 0.995045580049916, 'w_knn': 0.05500092226007966, 'w_p3': 0.041385185276568384, 'w_rp3': 0.45649687350225104, 'w_top': 4.6340878821057146e-05}. Best is trial 1 with value: 0.03105842184585539.\n"
     ]
    },
    {
     "name": "stdout",
     "output_type": "stream",
     "text": [
      "EvaluatorHoldout: Processed 10057 (100.0%) in 9.45 sec. Users per second: 1065\n",
      "MAP: 0.030822123420314054, RECALL: 0.12251970643504978\n",
      "EvaluatorHoldout: Processed 10040 (100.0%) in 7.46 sec. Users per second: 1345\n",
      "MAP: 0.03094980395876846, RECALL: 0.12279141095017011\n",
      "EvaluatorHoldout: Processed 10017 (100.0%) in 7.83 sec. Users per second: 1280\n",
      "MAP: 0.030499757555013777, RECALL: 0.11901459652243761\n",
      "EvaluatorHoldout: Processed 10037 (100.0%) in 7.37 sec. Users per second: 1362\n",
      "MAP: 0.030718543769007362, RECALL: 0.12183452559946593\n",
      "EvaluatorHoldout: Processed 9989 (100.0%) in 7.62 sec. Users per second: 1311\n",
      "MAP: 0.030963182516641596, RECALL: 0.12468433474488105\n",
      "EvaluatorHoldout: Processed 10024 (100.0%) in 8.41 sec. Users per second: 1192\n",
      "MAP: 0.03136328367473645, RECALL: 0.12230252795549366\n",
      "EvaluatorHoldout: Processed 10030 (100.0%) in 8.72 sec. Users per second: 1150\n",
      "MAP: 0.03116976055959128, RECALL: 0.1253872505802004\n",
      "EvaluatorHoldout: Processed 10052 (100.0%) in 9.84 sec. Users per second: 1021\n",
      "MAP: 0.030561046842135557, RECALL: 0.124048683430096\n",
      "EvaluatorHoldout: Processed 10045 (100.0%) in 10.33 sec. Users per second: 973\n",
      "MAP: 0.03108110328916715, RECALL: 0.11740568054690105\n",
      "EvaluatorHoldout: Processed 10068 (100.0%) in 9.12 sec. Users per second: 1104\n",
      "MAP: 0.031073245580844254, RECALL: 0.1246434990233709\n"
     ]
    },
    {
     "name": "stderr",
     "output_type": "stream",
     "text": [
      "[I 2024-01-10 12:55:51,326] Trial 5 finished with value: 0.030920185116621996 and parameters: {'w_slim': 0.8873162062728612, 'w_knn': 0.06075087268058559, 'w_p3': 0.04832478070125582, 'w_rp3': 0.6384517141347847, 'w_top': 7.610531836132433e-05}. Best is trial 1 with value: 0.03105842184585539.\n"
     ]
    },
    {
     "name": "stdout",
     "output_type": "stream",
     "text": [
      "EvaluatorHoldout: Processed 10057 (100.0%) in 6.94 sec. Users per second: 1450\n",
      "MAP: 0.030540964123543634, RECALL: 0.12124861574405407\n",
      "EvaluatorHoldout: Processed 10040 (100.0%) in 8.32 sec. Users per second: 1207\n",
      "MAP: 0.0306427622841968, RECALL: 0.12104626445402607\n",
      "EvaluatorHoldout: Processed 10017 (100.0%) in 10.91 sec. Users per second: 918\n",
      "MAP: 0.03038253223488345, RECALL: 0.11881306289996821\n",
      "EvaluatorHoldout: Processed 10037 (100.0%) in 10.21 sec. Users per second: 983\n",
      "MAP: 0.030485469635365255, RECALL: 0.12080282397720087\n",
      "EvaluatorHoldout: Processed 9989 (100.0%) in 9.76 sec. Users per second: 1023\n",
      "MAP: 0.030723037404637405, RECALL: 0.12280065600958613\n",
      "EvaluatorHoldout: Processed 10024 (100.0%) in 7.88 sec. Users per second: 1272\n",
      "MAP: 0.03106406529092105, RECALL: 0.12149639977135093\n",
      "EvaluatorHoldout: Processed 10030 (100.0%) in 6.37 sec. Users per second: 1573\n",
      "MAP: 0.030854753200715516, RECALL: 0.12375879125580823\n",
      "EvaluatorHoldout: Processed 10052 (100.0%) in 7.24 sec. Users per second: 1389\n",
      "MAP: 0.030317160290300307, RECALL: 0.12293701625299007\n",
      "EvaluatorHoldout: Processed 10045 (100.0%) in 6.88 sec. Users per second: 1460\n",
      "MAP: 0.030804818791628347, RECALL: 0.11793469388883679\n",
      "EvaluatorHoldout: Processed 10068 (100.0%) in 11.84 sec. Users per second: 851\n",
      "MAP: 0.030853214017695817, RECALL: 0.12416170890739782\n"
     ]
    },
    {
     "name": "stderr",
     "output_type": "stream",
     "text": [
      "[I 2024-01-10 12:57:31,177] Trial 6 finished with value: 0.030666877727388752 and parameters: {'w_slim': 0.9310848228729461, 'w_knn': 0.09735764727451296, 'w_p3': 0.041093316075701755, 'w_rp3': 0.4241345598524191, 'w_top': 8.826055028839891e-05}. Best is trial 1 with value: 0.03105842184585539.\n"
     ]
    },
    {
     "name": "stdout",
     "output_type": "stream",
     "text": [
      "EvaluatorHoldout: Processed 10057 (100.0%) in 8.64 sec. Users per second: 1164\n",
      "MAP: 0.030970057971151915, RECALL: 0.1210472697148591\n",
      "EvaluatorHoldout: Processed 10040 (100.0%) in 9.40 sec. Users per second: 1068\n",
      "MAP: 0.030940187662050558, RECALL: 0.11938003585674675\n",
      "EvaluatorHoldout: Processed 10017 (100.0%) in 6.51 sec. Users per second: 1539\n",
      "MAP: 0.03063681027966755, RECALL: 0.11823514639502898\n",
      "EvaluatorHoldout: Processed 10037 (100.0%) in 6.45 sec. Users per second: 1555\n",
      "MAP: 0.03089243212811047, RECALL: 0.12090293595149547\n",
      "EvaluatorHoldout: Processed 9989 (100.0%) in 6.21 sec. Users per second: 1608\n",
      "MAP: 0.031293530025885925, RECALL: 0.1251444011110286\n",
      "EvaluatorHoldout: Processed 10024 (100.0%) in 9.78 sec. Users per second: 1025\n",
      "MAP: 0.03138483512585695, RECALL: 0.1209789927430021\n",
      "EvaluatorHoldout: Processed 10030 (100.0%) in 11.57 sec. Users per second: 867\n",
      "MAP: 0.031194555223219483, RECALL: 0.12441874923733624\n",
      "EvaluatorHoldout: Processed 10052 (100.0%) in 9.90 sec. Users per second: 1015\n",
      "MAP: 0.03062998597767838, RECALL: 0.12094926158982577\n",
      "EvaluatorHoldout: Processed 10045 (100.0%) in 9.96 sec. Users per second: 1009\n",
      "MAP: 0.03135118158761778, RECALL: 0.1177189918015842\n",
      "EvaluatorHoldout: Processed 10068 (100.0%) in 8.54 sec. Users per second: 1178\n",
      "MAP: 0.03138052512754566, RECALL: 0.12269446807585489\n"
     ]
    },
    {
     "name": "stderr",
     "output_type": "stream",
     "text": [
      "[I 2024-01-10 12:59:11,637] Trial 7 finished with value: 0.03106741011087847 and parameters: {'w_slim': 0.8253099524904924, 'w_knn': 0.04596896487682606, 'w_p3': 0.035216692410324366, 'w_rp3': 0.5803566830290918, 'w_top': 1.554344285209026e-05}. Best is trial 7 with value: 0.03106741011087847.\n"
     ]
    },
    {
     "name": "stdout",
     "output_type": "stream",
     "text": [
      "EvaluatorHoldout: Processed 10057 (100.0%) in 7.12 sec. Users per second: 1412\n",
      "MAP: 0.03098967235961398, RECALL: 0.12353355930617584\n",
      "EvaluatorHoldout: Processed 10040 (100.0%) in 10.36 sec. Users per second: 969\n",
      "MAP: 0.03098066464301551, RECALL: 0.12287271831217884\n",
      "EvaluatorHoldout: Processed 10017 (100.0%) in 9.58 sec. Users per second: 1045\n",
      "MAP: 0.030533549315370407, RECALL: 0.11932423268053359\n",
      "EvaluatorHoldout: Processed 10037 (100.0%) in 9.93 sec. Users per second: 1010\n",
      "MAP: 0.030871473959050245, RECALL: 0.12269273551278738\n",
      "EvaluatorHoldout: Processed 9989 (100.0%) in 9.53 sec. Users per second: 1048\n",
      "MAP: 0.03102821039651585, RECALL: 0.1261920808135534\n",
      "EvaluatorHoldout: Processed 10024 (100.0%) in 7.24 sec. Users per second: 1385\n",
      "MAP: 0.03151870827474403, RECALL: 0.12337876745637648\n",
      "EvaluatorHoldout: Processed 10030 (100.0%) in 7.07 sec. Users per second: 1420\n",
      "MAP: 0.0313316993464055, RECALL: 0.12709680583679667\n",
      "EvaluatorHoldout: Processed 10052 (100.0%) in 6.08 sec. Users per second: 1652\n",
      "MAP: 0.03073552053133265, RECALL: 0.12408162403522353\n",
      "EvaluatorHoldout: Processed 10045 (100.0%) in 9.44 sec. Users per second: 1064\n",
      "MAP: 0.03114610443480542, RECALL: 0.11844443864209861\n",
      "EvaluatorHoldout: Processed 10068 (100.0%) in 10.86 sec. Users per second: 927\n",
      "MAP: 0.031232298938646014, RECALL: 0.12445498919103719\n"
     ]
    },
    {
     "name": "stderr",
     "output_type": "stream",
     "text": [
      "[I 2024-01-10 13:00:52,337] Trial 8 finished with value: 0.031036790219949963 and parameters: {'w_slim': 0.974713792680473, 'w_knn': 0.09358480835018786, 'w_p3': 0.025571831309920353, 'w_rp3': 0.6446910712321141, 'w_top': 6.178308261320789e-05}. Best is trial 7 with value: 0.03106741011087847.\n"
     ]
    },
    {
     "name": "stdout",
     "output_type": "stream",
     "text": [
      "EvaluatorHoldout: Processed 10057 (100.0%) in 10.29 sec. Users per second: 978\n",
      "MAP: 0.030661574264786256, RECALL: 0.12249599015373139\n",
      "EvaluatorHoldout: Processed 10040 (100.0%) in 7.76 sec. Users per second: 1294\n",
      "MAP: 0.03088601150951786, RECALL: 0.1223007618877337\n",
      "EvaluatorHoldout: Processed 10017 (100.0%) in 7.20 sec. Users per second: 1391\n",
      "MAP: 0.030289967372926573, RECALL: 0.11801615316797956\n",
      "EvaluatorHoldout: Processed 10037 (100.0%) in 6.43 sec. Users per second: 1561\n",
      "MAP: 0.030611408423753057, RECALL: 0.12196148166423286\n",
      "EvaluatorHoldout: Processed 9989 (100.0%) in 7.44 sec. Users per second: 1342\n",
      "MAP: 0.03092783013696041, RECALL: 0.12460971304427866\n",
      "EvaluatorHoldout: Processed 10024 (100.0%) in 7.13 sec. Users per second: 1407\n",
      "MAP: 0.03123934303702878, RECALL: 0.1214961886637234\n",
      "EvaluatorHoldout: Processed 10030 (100.0%) in 7.32 sec. Users per second: 1369\n",
      "MAP: 0.031127621104939416, RECALL: 0.12567149595692126\n",
      "EvaluatorHoldout: Processed 10052 (100.0%) in 7.74 sec. Users per second: 1298\n",
      "MAP: 0.030449105129517283, RECALL: 0.12374404526031604\n",
      "EvaluatorHoldout: Processed 10045 (100.0%) in 7.23 sec. Users per second: 1389\n",
      "MAP: 0.03099099291284477, RECALL: 0.11685020327696972\n",
      "EvaluatorHoldout: Processed 10068 (100.0%) in 7.71 sec. Users per second: 1305\n",
      "MAP: 0.031157478353545313, RECALL: 0.12482269569954274\n"
     ]
    },
    {
     "name": "stderr",
     "output_type": "stream",
     "text": [
      "[I 2024-01-10 13:02:22,118] Trial 9 finished with value: 0.03083413322458197 and parameters: {'w_slim': 0.8096414202442321, 'w_knn': 0.014651340467398211, 'w_p3': 0.03847340206441726, 'w_rp3': 0.6829106905602182, 'w_top': 6.6914377734698e-05}. Best is trial 7 with value: 0.03106741011087847.\n"
     ]
    },
    {
     "name": "stdout",
     "output_type": "stream",
     "text": [
      "EvaluatorHoldout: Processed 10057 (100.0%) in 7.61 sec. Users per second: 1321\n",
      "MAP: 0.030884612470821294, RECALL: 0.12010803016943926\n",
      "EvaluatorHoldout: Processed 10040 (100.0%) in 7.36 sec. Users per second: 1364\n",
      "MAP: 0.030956333396572756, RECALL: 0.11922211375769814\n",
      "EvaluatorHoldout: Processed 10017 (100.0%) in 7.06 sec. Users per second: 1419\n",
      "MAP: 0.03043987126646624, RECALL: 0.11714125977409463\n",
      "EvaluatorHoldout: Processed 10037 (100.0%) in 7.17 sec. Users per second: 1400\n",
      "MAP: 0.030727692458538635, RECALL: 0.12009554833463457\n",
      "EvaluatorHoldout: Processed 9989 (100.0%) in 7.64 sec. Users per second: 1307\n",
      "MAP: 0.031181935049189296, RECALL: 0.1244348839709942\n",
      "EvaluatorHoldout: Processed 10024 (100.0%) in 6.73 sec. Users per second: 1490\n",
      "MAP: 0.03125977416106129, RECALL: 0.11929473673397742\n",
      "EvaluatorHoldout: Processed 10030 (100.0%) in 7.39 sec. Users per second: 1357\n",
      "MAP: 0.03111694677871179, RECALL: 0.12376065708030513\n",
      "EvaluatorHoldout: Processed 10052 (100.0%) in 7.31 sec. Users per second: 1375\n",
      "MAP: 0.030577248308794668, RECALL: 0.11983050945605248\n",
      "EvaluatorHoldout: Processed 10045 (100.0%) in 7.12 sec. Users per second: 1411\n",
      "MAP: 0.031203990771686303, RECALL: 0.11596754199480977\n",
      "EvaluatorHoldout: Processed 10068 (100.0%) in 7.62 sec. Users per second: 1321\n",
      "MAP: 0.03133703120368822, RECALL: 0.1218542002748738\n"
     ]
    },
    {
     "name": "stderr",
     "output_type": "stream",
     "text": [
      "[I 2024-01-10 13:03:48,600] Trial 10 finished with value: 0.030968543586553054 and parameters: {'w_slim': 0.8540942033704626, 'w_knn': 0.03232461249084257, 'w_p3': 0.00893161595237426, 'w_rp3': 0.5313778347829574, 'w_top': 6.093760254263941e-06}. Best is trial 7 with value: 0.03106741011087847.\n"
     ]
    },
    {
     "name": "stdout",
     "output_type": "stream",
     "text": [
      "EvaluatorHoldout: Processed 10057 (100.0%) in 6.52 sec. Users per second: 1542\n",
      "MAP: 0.030924160854557833, RECALL: 0.12041608690118656\n",
      "EvaluatorHoldout: Processed 10040 (100.0%) in 6.59 sec. Users per second: 1522\n",
      "MAP: 0.03095849933598968, RECALL: 0.11904889507940215\n",
      "EvaluatorHoldout: Processed 10017 (100.0%) in 7.03 sec. Users per second: 1426\n",
      "MAP: 0.030474823752002677, RECALL: 0.11725014556865294\n",
      "EvaluatorHoldout: Processed 10037 (100.0%) in 7.23 sec. Users per second: 1389\n",
      "MAP: 0.030816550192858193, RECALL: 0.12029423971300232\n",
      "EvaluatorHoldout: Processed 9989 (100.0%) in 7.80 sec. Users per second: 1281\n",
      "MAP: 0.031227052138304776, RECALL: 0.12455694016861507\n",
      "EvaluatorHoldout: Processed 10024 (100.0%) in 7.26 sec. Users per second: 1380\n",
      "MAP: 0.03135129261201706, RECALL: 0.11991969846259523\n",
      "EvaluatorHoldout: Processed 10030 (100.0%) in 7.59 sec. Users per second: 1321\n",
      "MAP: 0.03124089240215884, RECALL: 0.12391751917389743\n",
      "EvaluatorHoldout: Processed 10052 (100.0%) in 7.04 sec. Users per second: 1428\n",
      "MAP: 0.030579549832932644, RECALL: 0.11924255139073063\n",
      "EvaluatorHoldout: Processed 10045 (100.0%) in 7.06 sec. Users per second: 1423\n",
      "MAP: 0.031266364850237566, RECALL: 0.11593532817374207\n",
      "EvaluatorHoldout: Processed 10068 (100.0%) in 7.76 sec. Users per second: 1297\n",
      "MAP: 0.031308853762668044, RECALL: 0.12224380412610254\n"
     ]
    },
    {
     "name": "stderr",
     "output_type": "stream",
     "text": [
      "[I 2024-01-10 13:05:13,934] Trial 11 finished with value: 0.031014803973372734 and parameters: {'w_slim': 0.8026225681978824, 'w_knn': 0.0383908962947455, 'w_p3': 0.017656507543579763, 'w_rp3': 0.5864686184350735, 'w_top': 1.2773650589328187e-06}. Best is trial 7 with value: 0.03106741011087847.\n"
     ]
    },
    {
     "name": "stdout",
     "output_type": "stream",
     "text": [
      "EvaluatorHoldout: Processed 10057 (100.0%) in 6.93 sec. Users per second: 1451\n",
      "MAP: 0.03087348147306412, RECALL: 0.12098095645238048\n",
      "EvaluatorHoldout: Processed 10040 (100.0%) in 6.84 sec. Users per second: 1469\n",
      "MAP: 0.030919978814899437, RECALL: 0.12095710345071736\n",
      "EvaluatorHoldout: Processed 10017 (100.0%) in 7.07 sec. Users per second: 1417\n",
      "MAP: 0.03059921942222049, RECALL: 0.11893873536051909\n",
      "EvaluatorHoldout: Processed 10037 (100.0%) in 6.52 sec. Users per second: 1539\n",
      "MAP: 0.030867374049351068, RECALL: 0.12163597502375255\n",
      "EvaluatorHoldout: Processed 9989 (100.0%) in 7.92 sec. Users per second: 1261\n",
      "MAP: 0.031183404920015537, RECALL: 0.1251220148028034\n",
      "EvaluatorHoldout: Processed 10024 (100.0%) in 7.17 sec. Users per second: 1399\n",
      "MAP: 0.03138056363141185, RECALL: 0.12164481219680387\n",
      "EvaluatorHoldout: Processed 10030 (100.0%) in 7.40 sec. Users per second: 1355\n",
      "MAP: 0.031161036731076886, RECALL: 0.12530257650989665\n",
      "EvaluatorHoldout: Processed 10052 (100.0%) in 7.63 sec. Users per second: 1317\n",
      "MAP: 0.030620274572224767, RECALL: 0.12186781370019788\n",
      "EvaluatorHoldout: Processed 10045 (100.0%) in 7.02 sec. Users per second: 1431\n",
      "MAP: 0.031237241935101683, RECALL: 0.11812388074146934\n",
      "EvaluatorHoldout: Processed 10068 (100.0%) in 7.88 sec. Users per second: 1277\n",
      "MAP: 0.03134228121787741, RECALL: 0.1238193461933835\n"
     ]
    },
    {
     "name": "stderr",
     "output_type": "stream",
     "text": [
      "[I 2024-01-10 13:06:39,768] Trial 12 finished with value: 0.031018485676724328 and parameters: {'w_slim': 0.8442268340473177, 'w_knn': 0.03672800706807073, 'w_p3': 0.03189889952857231, 'w_rp3': 0.5761098412357757, 'w_top': 2.9091405977059485e-05}. Best is trial 7 with value: 0.03106741011087847.\n"
     ]
    },
    {
     "name": "stdout",
     "output_type": "stream",
     "text": [
      "EvaluatorHoldout: Processed 10057 (100.0%) in 6.90 sec. Users per second: 1458\n",
      "MAP: 0.031018448810036944, RECALL: 0.12139374580342967\n",
      "EvaluatorHoldout: Processed 10040 (100.0%) in 7.15 sec. Users per second: 1404\n",
      "MAP: 0.03097378739012229, RECALL: 0.12029093577250213\n",
      "EvaluatorHoldout: Processed 10017 (100.0%) in 7.20 sec. Users per second: 1392\n",
      "MAP: 0.030589997005091466, RECALL: 0.11803429554993383\n",
      "EvaluatorHoldout: Processed 10037 (100.0%) in 7.79 sec. Users per second: 1289\n",
      "MAP: 0.030916296211952618, RECALL: 0.1210869739468936\n",
      "EvaluatorHoldout: Processed 9989 (100.0%) in 7.65 sec. Users per second: 1306\n",
      "MAP: 0.031199708568314378, RECALL: 0.1252278864622886\n",
      "EvaluatorHoldout: Processed 10024 (100.0%) in 6.33 sec. Users per second: 1584\n",
      "MAP: 0.0314423320538646, RECALL: 0.12136417821817788\n",
      "EvaluatorHoldout: Processed 10030 (100.0%) in 6.51 sec. Users per second: 1541\n",
      "MAP: 0.031228097453670972, RECALL: 0.12498356387661828\n",
      "EvaluatorHoldout: Processed 10052 (100.0%) in 6.85 sec. Users per second: 1467\n",
      "MAP: 0.030697792115918172, RECALL: 0.12078340222249413\n",
      "EvaluatorHoldout: Processed 10045 (100.0%) in 7.18 sec. Users per second: 1400\n",
      "MAP: 0.031242393356878288, RECALL: 0.11764531978828772\n",
      "EvaluatorHoldout: Processed 10068 (100.0%) in 7.09 sec. Users per second: 1419\n",
      "MAP: 0.03134860724848837, RECALL: 0.12315188360559322\n"
     ]
    },
    {
     "name": "stderr",
     "output_type": "stream",
     "text": [
      "[I 2024-01-10 13:08:03,865] Trial 13 finished with value: 0.03106574602143381 and parameters: {'w_slim': 0.841476666122673, 'w_knn': 0.07677870817273721, 'w_p3': 0.019182129524904945, 'w_rp3': 0.5351708623601802, 'w_top': 1.627237438959647e-05}. Best is trial 7 with value: 0.03106741011087847.\n"
     ]
    },
    {
     "name": "stdout",
     "output_type": "stream",
     "text": [
      "EvaluatorHoldout: Processed 10057 (100.0%) in 6.38 sec. Users per second: 1577\n",
      "MAP: 0.030979973673868687, RECALL: 0.12109730739797933\n",
      "EvaluatorHoldout: Processed 10040 (100.0%) in 7.11 sec. Users per second: 1412\n",
      "MAP: 0.03096189053310592, RECALL: 0.12034899219557847\n",
      "EvaluatorHoldout: Processed 10017 (100.0%) in 7.02 sec. Users per second: 1426\n",
      "MAP: 0.03055864157915682, RECALL: 0.11800754226640052\n",
      "EvaluatorHoldout: Processed 10037 (100.0%) in 7.69 sec. Users per second: 1306\n",
      "MAP: 0.030835559224520394, RECALL: 0.12073745561239549\n",
      "EvaluatorHoldout: Processed 9989 (100.0%) in 7.59 sec. Users per second: 1316\n",
      "MAP: 0.031175300767352306, RECALL: 0.12505497883899228\n",
      "EvaluatorHoldout: Processed 10024 (100.0%) in 7.23 sec. Users per second: 1387\n",
      "MAP: 0.03138274490429346, RECALL: 0.12109035351338161\n",
      "EvaluatorHoldout: Processed 10030 (100.0%) in 6.61 sec. Users per second: 1518\n",
      "MAP: 0.031238755954359418, RECALL: 0.12447939021481491\n",
      "EvaluatorHoldout: Processed 10052 (100.0%) in 7.92 sec. Users per second: 1270\n",
      "MAP: 0.030620223251789418, RECALL: 0.12065197623773886\n",
      "EvaluatorHoldout: Processed 10045 (100.0%) in 6.73 sec. Users per second: 1493\n",
      "MAP: 0.03124750132340986, RECALL: 0.11750193970393301\n",
      "EvaluatorHoldout: Processed 10068 (100.0%) in 7.52 sec. Users per second: 1339\n",
      "MAP: 0.03127937958390909, RECALL: 0.12287529862042017\n"
     ]
    },
    {
     "name": "stderr",
     "output_type": "stream",
     "text": [
      "[I 2024-01-10 13:09:29,103] Trial 14 finished with value: 0.031027997079576534 and parameters: {'w_slim': 0.8619285522240022, 'w_knn': 0.07665701254278787, 'w_p3': 0.0038980170456886787, 'w_rp3': 0.5290875421190583, 'w_top': 1.622884523800199e-05}. Best is trial 7 with value: 0.03106741011087847.\n"
     ]
    },
    {
     "name": "stdout",
     "output_type": "stream",
     "text": [
      "EvaluatorHoldout: Processed 10057 (100.0%) in 6.80 sec. Users per second: 1479\n",
      "MAP: 0.031066630523476683, RECALL: 0.12158724089103387\n",
      "EvaluatorHoldout: Processed 10040 (100.0%) in 6.80 sec. Users per second: 1476\n",
      "MAP: 0.03100409077973846, RECALL: 0.12023117155827161\n",
      "EvaluatorHoldout: Processed 10017 (100.0%) in 7.59 sec. Users per second: 1320\n",
      "MAP: 0.03065056863649272, RECALL: 0.11841209794731493\n",
      "EvaluatorHoldout: Processed 10037 (100.0%) in 7.33 sec. Users per second: 1369\n",
      "MAP: 0.030898295354806586, RECALL: 0.12152266334357867\n",
      "EvaluatorHoldout: Processed 9989 (100.0%) in 7.97 sec. Users per second: 1253\n",
      "MAP: 0.031196025946001245, RECALL: 0.12555503102589063\n",
      "EvaluatorHoldout: Processed 10024 (100.0%) in 5.95 sec. Users per second: 1685\n",
      "MAP: 0.03142597052787625, RECALL: 0.12181273836610651\n",
      "EvaluatorHoldout: Processed 10030 (100.0%) in 6.33 sec. Users per second: 1584\n",
      "MAP: 0.03130526673946441, RECALL: 0.1253829330393473\n",
      "EvaluatorHoldout: Processed 10052 (100.0%) in 7.37 sec. Users per second: 1364\n",
      "MAP: 0.030668334186042385, RECALL: 0.1216396058323598\n",
      "EvaluatorHoldout: Processed 10045 (100.0%) in 7.37 sec. Users per second: 1364\n",
      "MAP: 0.03126910253067562, RECALL: 0.11859933473162364\n",
      "EvaluatorHoldout: Processed 10068 (100.0%) in 7.79 sec. Users per second: 1292\n",
      "MAP: 0.03136008081553402, RECALL: 0.12360169675144643\n"
     ]
    },
    {
     "name": "stderr",
     "output_type": "stream",
     "text": [
      "[I 2024-01-10 13:10:53,861] Trial 15 finished with value: 0.03108443660401084 and parameters: {'w_slim': 0.8339290777968199, 'w_knn': 0.07735776744273026, 'w_p3': 0.031830256141397596, 'w_rp3': 0.4999086417698939, 'w_top': 2.16299408096499e-05}. Best is trial 15 with value: 0.03108443660401084.\n"
     ]
    },
    {
     "name": "stdout",
     "output_type": "stream",
     "text": [
      "EvaluatorHoldout: Processed 10057 (100.0%) in 6.67 sec. Users per second: 1508\n",
      "MAP: 0.030890503495157248, RECALL: 0.12197030176681288\n",
      "EvaluatorHoldout: Processed 10040 (100.0%) in 6.72 sec. Users per second: 1495\n",
      "MAP: 0.030869213621703907, RECALL: 0.12093756081500358\n",
      "EvaluatorHoldout: Processed 10017 (100.0%) in 6.29 sec. Users per second: 1592\n",
      "MAP: 0.030569626872412336, RECALL: 0.11968089758135554\n",
      "EvaluatorHoldout: Processed 10037 (100.0%) in 7.15 sec. Users per second: 1404\n",
      "MAP: 0.030772894259494147, RECALL: 0.12200238798776045\n",
      "EvaluatorHoldout: Processed 9989 (100.0%) in 7.86 sec. Users per second: 1271\n",
      "MAP: 0.031129579839410927, RECALL: 0.125701750842894\n",
      "EvaluatorHoldout: Processed 10024 (100.0%) in 7.16 sec. Users per second: 1399\n",
      "MAP: 0.031433888033798485, RECALL: 0.12214838656417625\n",
      "EvaluatorHoldout: Processed 10030 (100.0%) in 7.07 sec. Users per second: 1419\n",
      "MAP: 0.031214412318600025, RECALL: 0.12604184511722843\n",
      "EvaluatorHoldout: Processed 10052 (100.0%) in 7.57 sec. Users per second: 1328\n",
      "MAP: 0.030625754015627102, RECALL: 0.12235163366750951\n",
      "EvaluatorHoldout: Processed 10045 (100.0%) in 7.23 sec. Users per second: 1389\n",
      "MAP: 0.031205989712958505, RECALL: 0.11834700040292773\n",
      "EvaluatorHoldout: Processed 10068 (100.0%) in 7.37 sec. Users per second: 1366\n",
      "MAP: 0.031299997319812825, RECALL: 0.1239956890182967\n"
     ]
    },
    {
     "name": "stderr",
     "output_type": "stream",
     "text": [
      "[I 2024-01-10 13:12:18,384] Trial 16 finished with value: 0.03100118594889755 and parameters: {'w_slim': 0.8765483380598229, 'w_knn': 0.04806781755722245, 'w_p3': 0.032344962703670176, 'w_rp3': 0.48488368837101126, 'w_top': 3.538606258364323e-05}. Best is trial 15 with value: 0.03108443660401084.\n"
     ]
    },
    {
     "name": "stdout",
     "output_type": "stream",
     "text": [
      "EvaluatorHoldout: Processed 10057 (100.0%) in 7.09 sec. Users per second: 1419\n",
      "MAP: 0.03090291292016485, RECALL: 0.12113797715627307\n",
      "EvaluatorHoldout: Processed 10040 (100.0%) in 7.43 sec. Users per second: 1352\n",
      "MAP: 0.030858443211282133, RECALL: 0.12030687380417686\n",
      "EvaluatorHoldout: Processed 10017 (100.0%) in 7.16 sec. Users per second: 1400\n",
      "MAP: 0.03043576713238303, RECALL: 0.11786224548681547\n",
      "EvaluatorHoldout: Processed 10037 (100.0%) in 7.54 sec. Users per second: 1331\n",
      "MAP: 0.030699779862129496, RECALL: 0.12053137695435645\n",
      "EvaluatorHoldout: Processed 9989 (100.0%) in 7.74 sec. Users per second: 1290\n",
      "MAP: 0.031152128452409084, RECALL: 0.12459025071196135\n",
      "EvaluatorHoldout: Processed 10024 (100.0%) in 7.06 sec. Users per second: 1419\n",
      "MAP: 0.03123819103991706, RECALL: 0.12092599849563733\n",
      "EvaluatorHoldout: Processed 10030 (100.0%) in 6.39 sec. Users per second: 1569\n",
      "MAP: 0.031037716216430356, RECALL: 0.12499429002300437\n",
      "EvaluatorHoldout: Processed 10052 (100.0%) in 6.65 sec. Users per second: 1512\n",
      "MAP: 0.030578799765031733, RECALL: 0.12092582749820754\n",
      "EvaluatorHoldout: Processed 10045 (100.0%) in 7.32 sec. Users per second: 1372\n",
      "MAP: 0.03118417122946751, RECALL: 0.11785994076925208\n",
      "EvaluatorHoldout: Processed 10068 (100.0%) in 7.35 sec. Users per second: 1371\n",
      "MAP: 0.03130250802479676, RECALL: 0.12294132372391112\n"
     ]
    },
    {
     "name": "stderr",
     "output_type": "stream",
     "text": [
      "[I 2024-01-10 13:13:43,563] Trial 17 finished with value: 0.030939041785401206 and parameters: {'w_slim': 0.8277337806767228, 'w_knn': 0.02147310401067989, 'w_p3': 0.036200051064320365, 'w_rp3': 0.4975559448752954, 'w_top': 2.1846883183574692e-05}. Best is trial 15 with value: 0.03108443660401084.\n"
     ]
    },
    {
     "name": "stdout",
     "output_type": "stream",
     "text": [
      "EvaluatorHoldout: Processed 10057 (100.0%) in 7.11 sec. Users per second: 1415\n",
      "MAP: 0.03100032197427073, RECALL: 0.12288627252654248\n",
      "EvaluatorHoldout: Processed 10040 (100.0%) in 7.53 sec. Users per second: 1333\n",
      "MAP: 0.031062756908872755, RECALL: 0.12239900912888395\n",
      "EvaluatorHoldout: Processed 10017 (100.0%) in 7.05 sec. Users per second: 1421\n",
      "MAP: 0.03059862123279331, RECALL: 0.11952843499990475\n",
      "EvaluatorHoldout: Processed 10037 (100.0%) in 6.73 sec. Users per second: 1492\n",
      "MAP: 0.030913414018923988, RECALL: 0.12261269348500574\n",
      "EvaluatorHoldout: Processed 9989 (100.0%) in 7.67 sec. Users per second: 1302\n",
      "MAP: 0.03113785481489988, RECALL: 0.126453793029667\n",
      "EvaluatorHoldout: Processed 10024 (100.0%) in 7.13 sec. Users per second: 1407\n",
      "MAP: 0.031505189133381725, RECALL: 0.12337813881627036\n",
      "EvaluatorHoldout: Processed 10030 (100.0%) in 7.30 sec. Users per second: 1375\n",
      "MAP: 0.031403658073399086, RECALL: 0.12715232524133246\n",
      "EvaluatorHoldout: Processed 10052 (100.0%) in 7.47 sec. Users per second: 1346\n",
      "MAP: 0.03075156014123414, RECALL: 0.12317337288685049\n",
      "EvaluatorHoldout: Processed 10045 (100.0%) in 6.72 sec. Users per second: 1495\n",
      "MAP: 0.03124268964263998, RECALL: 0.11861989918302648\n",
      "EvaluatorHoldout: Processed 10068 (100.0%) in 6.90 sec. Users per second: 1458\n",
      "MAP: 0.031394438453437486, RECALL: 0.12506712086951557\n"
     ]
    },
    {
     "name": "stderr",
     "output_type": "stream",
     "text": [
      "[I 2024-01-10 13:15:08,649] Trial 18 finished with value: 0.031101050439385308 and parameters: {'w_slim': 0.8714618689379672, 'w_knn': 0.08467818436971151, 'w_p3': 0.027156050305573175, 'w_rp3': 0.5709739649970986, 'w_top': 4.396452936517097e-05}. Best is trial 18 with value: 0.031101050439385308.\n"
     ]
    },
    {
     "name": "stdout",
     "output_type": "stream",
     "text": [
      "EvaluatorHoldout: Processed 10057 (100.0%) in 6.32 sec. Users per second: 1592\n",
      "MAP: 0.030953805372866933, RECALL: 0.12241272487323554\n",
      "EvaluatorHoldout: Processed 10040 (100.0%) in 7.26 sec. Users per second: 1383\n",
      "MAP: 0.0309495193827866, RECALL: 0.12212424627262594\n",
      "EvaluatorHoldout: Processed 10017 (100.0%) in 7.90 sec. Users per second: 1269\n",
      "MAP: 0.030635998168193616, RECALL: 0.11957175527478202\n",
      "EvaluatorHoldout: Processed 10037 (100.0%) in 7.73 sec. Users per second: 1299\n",
      "MAP: 0.030837322541517317, RECALL: 0.12240866810293424\n",
      "EvaluatorHoldout: Processed 9989 (100.0%) in 8.50 sec. Users per second: 1175\n",
      "MAP: 0.031086313993011653, RECALL: 0.12613665406766528\n",
      "EvaluatorHoldout: Processed 10024 (100.0%) in 7.58 sec. Users per second: 1323\n",
      "MAP: 0.03149759624520227, RECALL: 0.12301189879615865\n",
      "EvaluatorHoldout: Processed 10030 (100.0%) in 7.67 sec. Users per second: 1308\n",
      "MAP: 0.031254747661776834, RECALL: 0.1271079163606818\n",
      "EvaluatorHoldout: Processed 10052 (100.0%) in 6.15 sec. Users per second: 1635\n",
      "MAP: 0.030754781485482226, RECALL: 0.12342545378027198\n",
      "EvaluatorHoldout: Processed 10045 (100.0%) in 6.42 sec. Users per second: 1565\n",
      "MAP: 0.03116687209146157, RECALL: 0.11870657176383662\n",
      "EvaluatorHoldout: Processed 10068 (100.0%) in 7.83 sec. Users per second: 1286\n",
      "MAP: 0.03125299550359169, RECALL: 0.1243565180078177\n"
     ]
    },
    {
     "name": "stderr",
     "output_type": "stream",
     "text": [
      "[I 2024-01-10 13:16:35,467] Trial 19 finished with value: 0.031038995244589068 and parameters: {'w_slim': 0.9130972002571891, 'w_knn': 0.08488103912096248, 'w_p3': 0.026812438628019422, 'w_rp3': 0.5083024880932893, 'w_top': 4.7969983632250955e-05}. Best is trial 18 with value: 0.031101050439385308.\n"
     ]
    },
    {
     "name": "stdout",
     "output_type": "stream",
     "text": [
      "EvaluatorHoldout: Processed 10057 (100.0%) in 7.08 sec. Users per second: 1420\n",
      "MAP: 0.030972764764651193, RECALL: 0.12217556905040133\n",
      "EvaluatorHoldout: Processed 10040 (100.0%) in 7.24 sec. Users per second: 1387\n",
      "MAP: 0.03091499478277395, RECALL: 0.12149401793805537\n",
      "EvaluatorHoldout: Processed 10017 (100.0%) in 7.50 sec. Users per second: 1335\n",
      "MAP: 0.030580338820830125, RECALL: 0.11934779411077832\n",
      "EvaluatorHoldout: Processed 10037 (100.0%) in 7.12 sec. Users per second: 1410\n",
      "MAP: 0.03082740684862864, RECALL: 0.12247002302925596\n",
      "EvaluatorHoldout: Processed 9989 (100.0%) in 6.63 sec. Users per second: 1506\n",
      "MAP: 0.031111599743845513, RECALL: 0.1259179538518275\n",
      "EvaluatorHoldout: Processed 10024 (100.0%) in 7.28 sec. Users per second: 1377\n",
      "MAP: 0.031429557158059035, RECALL: 0.122662670754082\n",
      "EvaluatorHoldout: Processed 10030 (100.0%) in 7.17 sec. Users per second: 1399\n",
      "MAP: 0.031219630790169435, RECALL: 0.12649378864247848\n",
      "EvaluatorHoldout: Processed 10052 (100.0%) in 7.07 sec. Users per second: 1421\n",
      "MAP: 0.030681949892306364, RECALL: 0.1227685724929\n",
      "EvaluatorHoldout: Processed 10045 (100.0%) in 7.00 sec. Users per second: 1436\n",
      "MAP: 0.031113663119138615, RECALL: 0.11807296230343634\n",
      "EvaluatorHoldout: Processed 10068 (100.0%) in 7.38 sec. Users per second: 1364\n",
      "MAP: 0.03128842127501269, RECALL: 0.12386886125637712\n"
     ]
    },
    {
     "name": "stderr",
     "output_type": "stream",
     "text": [
      "[I 2024-01-10 13:18:00,403] Trial 20 finished with value: 0.031014032719541555 and parameters: {'w_slim': 0.8714781792242822, 'w_knn': 0.08790985141415349, 'w_p3': 0.011768161435422114, 'w_rp3': 0.44979493688027417, 'w_top': 3.9271422938399333e-05}. Best is trial 18 with value: 0.031101050439385308.\n"
     ]
    },
    {
     "name": "stdout",
     "output_type": "stream",
     "text": [
      "EvaluatorHoldout: Processed 10057 (100.0%) in 5.90 sec. Users per second: 1704\n",
      "MAP: 0.03102155412561122, RECALL: 0.12226762662884094\n",
      "EvaluatorHoldout: Processed 10040 (100.0%) in 7.15 sec. Users per second: 1405\n",
      "MAP: 0.031002588850945728, RECALL: 0.12056288946823517\n",
      "EvaluatorHoldout: Processed 10017 (100.0%) in 7.61 sec. Users per second: 1317\n",
      "MAP: 0.030619308287023275, RECALL: 0.11880219493426183\n",
      "EvaluatorHoldout: Processed 10037 (100.0%) in 7.58 sec. Users per second: 1324\n",
      "MAP: 0.03091117626686056, RECALL: 0.1219553595428589\n",
      "EvaluatorHoldout: Processed 9989 (100.0%) in 7.66 sec. Users per second: 1303\n",
      "MAP: 0.031202104060498635, RECALL: 0.1258828047400383\n",
      "EvaluatorHoldout: Processed 10024 (100.0%) in 7.06 sec. Users per second: 1420\n",
      "MAP: 0.03146042751365002, RECALL: 0.12240962439407355\n",
      "EvaluatorHoldout: Processed 10030 (100.0%) in 6.70 sec. Users per second: 1497\n",
      "MAP: 0.031272195318805734, RECALL: 0.12535512954728267\n",
      "EvaluatorHoldout: Processed 10052 (100.0%) in 7.05 sec. Users per second: 1426\n",
      "MAP: 0.030685119916119025, RECALL: 0.12225700450213016\n",
      "EvaluatorHoldout: Processed 10045 (100.0%) in 6.95 sec. Users per second: 1446\n",
      "MAP: 0.03131569050384399, RECALL: 0.11865696189528246\n",
      "EvaluatorHoldout: Processed 10068 (100.0%) in 7.40 sec. Users per second: 1361\n",
      "MAP: 0.031456567562795516, RECALL: 0.12425980215933673\n"
     ]
    },
    {
     "name": "stderr",
     "output_type": "stream",
     "text": [
      "[I 2024-01-10 13:19:24,944] Trial 21 finished with value: 0.03109467324061537 and parameters: {'w_slim': 0.8332379403085267, 'w_knn': 0.06982041755125135, 'w_p3': 0.028217707287485308, 'w_rp3': 0.5654802364798256, 'w_top': 2.724559701695928e-05}. Best is trial 18 with value: 0.031101050439385308.\n"
     ]
    },
    {
     "name": "stdout",
     "output_type": "stream",
     "text": [
      "EvaluatorHoldout: Processed 10057 (100.0%) in 7.13 sec. Users per second: 1411\n",
      "MAP: 0.031008158259823962, RECALL: 0.12186746465013934\n",
      "EvaluatorHoldout: Processed 10040 (100.0%) in 7.12 sec. Users per second: 1410\n",
      "MAP: 0.030993798615063864, RECALL: 0.12028854852033843\n",
      "EvaluatorHoldout: Processed 10017 (100.0%) in 7.67 sec. Users per second: 1306\n",
      "MAP: 0.030640965913502672, RECALL: 0.11884187103382732\n",
      "EvaluatorHoldout: Processed 10037 (100.0%) in 7.36 sec. Users per second: 1363\n",
      "MAP: 0.030898069998150025, RECALL: 0.12202231704580992\n",
      "EvaluatorHoldout: Processed 9989 (100.0%) in 7.02 sec. Users per second: 1424\n",
      "MAP: 0.031207141347546118, RECALL: 0.12551195150850616\n",
      "EvaluatorHoldout: Processed 10024 (100.0%) in 6.06 sec. Users per second: 1655\n",
      "MAP: 0.031451274876803874, RECALL: 0.12207580964204072\n",
      "EvaluatorHoldout: Processed 10030 (100.0%) in 5.63 sec. Users per second: 1783\n",
      "MAP: 0.031271016316131224, RECALL: 0.12519201586116518\n",
      "EvaluatorHoldout: Processed 10052 (100.0%) in 5.70 sec. Users per second: 1763\n",
      "MAP: 0.030666735357095787, RECALL: 0.12221870103864328\n",
      "EvaluatorHoldout: Processed 10045 (100.0%) in 7.04 sec. Users per second: 1426\n",
      "MAP: 0.031298517781096345, RECALL: 0.11874457143181846\n",
      "EvaluatorHoldout: Processed 10068 (100.0%) in 7.66 sec. Users per second: 1314\n",
      "MAP: 0.031436927307011045, RECALL: 0.12405920503842689\n"
     ]
    },
    {
     "name": "stderr",
     "output_type": "stream",
     "text": [
      "[I 2024-01-10 13:20:46,824] Trial 22 finished with value: 0.03108726057722249 and parameters: {'w_slim': 0.841976760266252, 'w_knn': 0.06946917301561427, 'w_p3': 0.028421307276735634, 'w_rp3': 0.5583494512065388, 'w_top': 2.5956366115147073e-05}. Best is trial 18 with value: 0.031101050439385308.\n"
     ]
    },
    {
     "name": "stdout",
     "output_type": "stream",
     "text": [
      "EvaluatorHoldout: Processed 10057 (100.0%) in 7.20 sec. Users per second: 1396\n",
      "MAP: 0.031029469326426886, RECALL: 0.12287383101659946\n",
      "EvaluatorHoldout: Processed 10040 (100.0%) in 7.19 sec. Users per second: 1397\n",
      "MAP: 0.030984008410801563, RECALL: 0.12198557982800548\n",
      "EvaluatorHoldout: Processed 10017 (100.0%) in 7.08 sec. Users per second: 1414\n",
      "MAP: 0.03058617017736535, RECALL: 0.11967876746806663\n",
      "EvaluatorHoldout: Processed 10037 (100.0%) in 6.72 sec. Users per second: 1493\n",
      "MAP: 0.030863084365625317, RECALL: 0.12238914191534757\n",
      "EvaluatorHoldout: Processed 9989 (100.0%) in 7.78 sec. Users per second: 1283\n",
      "MAP: 0.03112233774612419, RECALL: 0.1260595978491078\n",
      "EvaluatorHoldout: Processed 10024 (100.0%) in 7.00 sec. Users per second: 1432\n",
      "MAP: 0.03153833181317248, RECALL: 0.12301996059498696\n",
      "EvaluatorHoldout: Processed 10030 (100.0%) in 6.85 sec. Users per second: 1465\n",
      "MAP: 0.03134593837535037, RECALL: 0.1265727815040123\n",
      "EvaluatorHoldout: Processed 10052 (100.0%) in 7.76 sec. Users per second: 1296\n",
      "MAP: 0.030695632709908827, RECALL: 0.12327869470225573\n",
      "EvaluatorHoldout: Processed 10045 (100.0%) in 7.25 sec. Users per second: 1386\n",
      "MAP: 0.03125559980089609, RECALL: 0.11839872475536876\n",
      "EvaluatorHoldout: Processed 10068 (100.0%) in 7.87 sec. Users per second: 1279\n",
      "MAP: 0.03136998962609833, RECALL: 0.12472725182590753\n"
     ]
    },
    {
     "name": "stderr",
     "output_type": "stream",
     "text": [
      "[I 2024-01-10 13:22:12,994] Trial 23 finished with value: 0.031079056235176938 and parameters: {'w_slim': 0.8567422812553112, 'w_knn': 0.06940193341510634, 'w_p3': 0.026792276748601445, 'w_rp3': 0.5591274954460089, 'w_top': 4.1262772565192056e-05}. Best is trial 18 with value: 0.031101050439385308.\n"
     ]
    },
    {
     "name": "stdout",
     "output_type": "stream",
     "text": [
      "EvaluatorHoldout: Processed 10057 (100.0%) in 6.40 sec. Users per second: 1571\n",
      "MAP: 0.030980376141706813, RECALL: 0.12316312024305788\n",
      "EvaluatorHoldout: Processed 10040 (100.0%) in 7.28 sec. Users per second: 1379\n",
      "MAP: 0.030980447258585033, RECALL: 0.12274180148370295\n",
      "EvaluatorHoldout: Processed 10017 (100.0%) in 7.32 sec. Users per second: 1368\n",
      "MAP: 0.03053651253187063, RECALL: 0.11929736691838713\n",
      "EvaluatorHoldout: Processed 10037 (100.0%) in 7.39 sec. Users per second: 1358\n",
      "MAP: 0.030836832291948682, RECALL: 0.12228217794708113\n",
      "EvaluatorHoldout: Processed 9989 (100.0%) in 7.15 sec. Users per second: 1398\n",
      "MAP: 0.031090791140095643, RECALL: 0.1257407492587512\n",
      "EvaluatorHoldout: Processed 10024 (100.0%) in 6.69 sec. Users per second: 1498\n",
      "MAP: 0.031535703201206286, RECALL: 0.12263658457433048\n",
      "EvaluatorHoldout: Processed 10030 (100.0%) in 7.23 sec. Users per second: 1386\n",
      "MAP: 0.03128906930003665, RECALL: 0.12718248598350576\n",
      "EvaluatorHoldout: Processed 10052 (100.0%) in 6.61 sec. Users per second: 1521\n",
      "MAP: 0.030653573639298215, RECALL: 0.1235462485145488\n",
      "EvaluatorHoldout: Processed 10045 (100.0%) in 6.41 sec. Users per second: 1566\n",
      "MAP: 0.031204401621275843, RECALL: 0.11833380964154666\n",
      "EvaluatorHoldout: Processed 10068 (100.0%) in 7.89 sec. Users per second: 1276\n",
      "MAP: 0.031242294461156454, RECALL: 0.12460285170104275\n"
     ]
    },
    {
     "name": "stderr",
     "output_type": "stream",
     "text": [
      "[I 2024-01-10 13:23:36,859] Trial 24 finished with value: 0.03103500015871803 and parameters: {'w_slim': 0.8801125310511283, 'w_knn': 0.06790340119040578, 'w_p3': 0.0220967285982415, 'w_rp3': 0.6204815394721133, 'w_top': 5.356260045164198e-05}. Best is trial 18 with value: 0.031101050439385308.\n"
     ]
    },
    {
     "name": "stdout",
     "output_type": "stream",
     "text": [
      "EvaluatorHoldout: Processed 10057 (100.0%) in 7.17 sec. Users per second: 1402\n",
      "MAP: 0.03098579367446841, RECALL: 0.12264696755898177\n",
      "EvaluatorHoldout: Processed 10040 (100.0%) in 7.42 sec. Users per second: 1353\n",
      "MAP: 0.03108651505090774, RECALL: 0.12086693232715988\n",
      "EvaluatorHoldout: Processed 10017 (100.0%) in 7.37 sec. Users per second: 1358\n",
      "MAP: 0.030596656319178166, RECALL: 0.11903039653905002\n",
      "EvaluatorHoldout: Processed 10037 (100.0%) in 7.24 sec. Users per second: 1387\n",
      "MAP: 0.030982985967792528, RECALL: 0.12232754284860667\n",
      "EvaluatorHoldout: Processed 9989 (100.0%) in 6.84 sec. Users per second: 1460\n",
      "MAP: 0.031198016230552288, RECALL: 0.126289978319358\n",
      "EvaluatorHoldout: Processed 10024 (100.0%) in 6.95 sec. Users per second: 1443\n",
      "MAP: 0.0315105730374089, RECALL: 0.12253170926263568\n",
      "EvaluatorHoldout: Processed 10030 (100.0%) in 7.34 sec. Users per second: 1367\n",
      "MAP: 0.0313618390859171, RECALL: 0.12584672770305455\n",
      "EvaluatorHoldout: Processed 10052 (100.0%) in 7.69 sec. Users per second: 1307\n",
      "MAP: 0.030706149451424324, RECALL: 0.12276130923518234\n",
      "EvaluatorHoldout: Processed 10045 (100.0%) in 7.25 sec. Users per second: 1385\n",
      "MAP: 0.03128040879534179, RECALL: 0.11918011207484429\n",
      "EvaluatorHoldout: Processed 10068 (100.0%) in 7.48 sec. Users per second: 1346\n",
      "MAP: 0.03145352870323103, RECALL: 0.12438963506289066\n"
     ]
    },
    {
     "name": "stderr",
     "output_type": "stream",
     "text": [
      "[I 2024-01-10 13:25:03,080] Trial 25 finished with value: 0.03111624663162223 and parameters: {'w_slim': 0.8477139206121592, 'w_knn': 0.08780158092738766, 'w_p3': 0.02815246394586346, 'w_rp3': 0.6116453797932719, 'w_top': 2.9524522015718162e-05}. Best is trial 25 with value: 0.03111624663162223.\n"
     ]
    },
    {
     "name": "stdout",
     "output_type": "stream",
     "text": [
      "EvaluatorHoldout: Processed 10057 (100.0%) in 6.04 sec. Users per second: 1664\n",
      "MAP: 0.031014956809677148, RECALL: 0.12300151565626487\n",
      "EvaluatorHoldout: Processed 10040 (100.0%) in 6.95 sec. Users per second: 1446\n",
      "MAP: 0.031077329570606743, RECALL: 0.12207476247093303\n",
      "EvaluatorHoldout: Processed 10017 (100.0%) in 7.08 sec. Users per second: 1415\n",
      "MAP: 0.030582973231221413, RECALL: 0.11960710374579125\n",
      "EvaluatorHoldout: Processed 10037 (100.0%) in 7.07 sec. Users per second: 1420\n",
      "MAP: 0.03091331122465957, RECALL: 0.12264236893008014\n",
      "EvaluatorHoldout: Processed 9989 (100.0%) in 7.37 sec. Users per second: 1355\n",
      "MAP: 0.03115748752198879, RECALL: 0.1260263041173127\n",
      "EvaluatorHoldout: Processed 10024 (100.0%) in 7.02 sec. Users per second: 1427\n",
      "MAP: 0.03150865304222274, RECALL: 0.12304555795595663\n",
      "EvaluatorHoldout: Processed 10030 (100.0%) in 7.17 sec. Users per second: 1399\n",
      "MAP: 0.03136960546930658, RECALL: 0.12655303893989275\n",
      "EvaluatorHoldout: Processed 10052 (100.0%) in 7.48 sec. Users per second: 1344\n",
      "MAP: 0.030704542727026145, RECALL: 0.12310979025443602\n",
      "EvaluatorHoldout: Processed 10045 (100.0%) in 6.56 sec. Users per second: 1532\n",
      "MAP: 0.03126878649252976, RECALL: 0.11865248660895292\n",
      "EvaluatorHoldout: Processed 10068 (100.0%) in 6.58 sec. Users per second: 1531\n",
      "MAP: 0.0314095263320534, RECALL: 0.12519804599607467\n"
     ]
    },
    {
     "name": "stderr",
     "output_type": "stream",
     "text": [
      "[I 2024-01-10 13:26:25,902] Trial 26 finished with value: 0.031100717242129226 and parameters: {'w_slim': 0.910621293493502, 'w_knn': 0.08912441944241134, 'w_p3': 0.022225360285654104, 'w_rp3': 0.6093562991284583, 'w_top': 4.42976259576765e-05}. Best is trial 25 with value: 0.03111624663162223.\n"
     ]
    },
    {
     "name": "stdout",
     "output_type": "stream",
     "text": [
      "EvaluatorHoldout: Processed 10057 (100.0%) in 7.29 sec. Users per second: 1380\n",
      "MAP: 0.030961061631241876, RECALL: 0.12334457902252521\n",
      "EvaluatorHoldout: Processed 10040 (100.0%) in 7.04 sec. Users per second: 1427\n",
      "MAP: 0.031001142256371662, RECALL: 0.12315155165062894\n",
      "EvaluatorHoldout: Processed 10017 (100.0%) in 7.46 sec. Users per second: 1342\n",
      "MAP: 0.030500910357154982, RECALL: 0.11915918502980709\n",
      "EvaluatorHoldout: Processed 10037 (100.0%) in 7.29 sec. Users per second: 1378\n",
      "MAP: 0.030818356999736223, RECALL: 0.12209333805977075\n",
      "EvaluatorHoldout: Processed 9989 (100.0%) in 7.48 sec. Users per second: 1336\n",
      "MAP: 0.030997768179918846, RECALL: 0.1255861778255666\n",
      "EvaluatorHoldout: Processed 10024 (100.0%) in 6.21 sec. Users per second: 1614\n",
      "MAP: 0.031497331008753834, RECALL: 0.12290503625752906\n",
      "EvaluatorHoldout: Processed 10030 (100.0%) in 7.03 sec. Users per second: 1427\n",
      "MAP: 0.031249473800820004, RECALL: 0.12678714593224874\n",
      "EvaluatorHoldout: Processed 10052 (100.0%) in 7.65 sec. Users per second: 1315\n",
      "MAP: 0.030646416412433514, RECALL: 0.12396979773105685\n",
      "EvaluatorHoldout: Processed 10045 (100.0%) in 6.93 sec. Users per second: 1450\n",
      "MAP: 0.03114211840369146, RECALL: 0.11810775178694595\n",
      "EvaluatorHoldout: Processed 10068 (100.0%) in 7.23 sec. Users per second: 1392\n",
      "MAP: 0.0311655740961465, RECALL: 0.12458924993312247\n"
     ]
    },
    {
     "name": "stderr",
     "output_type": "stream",
     "text": [
      "[I 2024-01-10 13:27:50,983] Trial 27 finished with value: 0.030998015314626887 and parameters: {'w_slim': 0.9134345832179592, 'w_knn': 0.08756052817280063, 'w_p3': 0.014300807970663042, 'w_rp3': 0.6156703178762132, 'w_top': 6.5736972129975e-05}. Best is trial 25 with value: 0.03111624663162223.\n"
     ]
    },
    {
     "name": "stdout",
     "output_type": "stream",
     "text": [
      "EvaluatorHoldout: Processed 10057 (100.0%) in 6.72 sec. Users per second: 1497\n",
      "MAP: 0.031029737638318948, RECALL: 0.123638715300672\n",
      "EvaluatorHoldout: Processed 10040 (100.0%) in 6.09 sec. Users per second: 1649\n",
      "MAP: 0.03109117498260953, RECALL: 0.12218022358265117\n",
      "EvaluatorHoldout: Processed 10017 (100.0%) in 6.35 sec. Users per second: 1579\n",
      "MAP: 0.030668641087928446, RECALL: 0.11979596023958908\n",
      "EvaluatorHoldout: Processed 10037 (100.0%) in 7.50 sec. Users per second: 1337\n",
      "MAP: 0.030984500206379606, RECALL: 0.1229465120215689\n",
      "EvaluatorHoldout: Processed 9989 (100.0%) in 7.70 sec. Users per second: 1297\n",
      "MAP: 0.031156220254979168, RECALL: 0.1261241783317135\n",
      "EvaluatorHoldout: Processed 10024 (100.0%) in 7.55 sec. Users per second: 1327\n",
      "MAP: 0.031486788849618294, RECALL: 0.12324582377572939\n",
      "EvaluatorHoldout: Processed 10030 (100.0%) in 7.06 sec. Users per second: 1421\n",
      "MAP: 0.031349194480052175, RECALL: 0.1267287324554534\n",
      "EvaluatorHoldout: Processed 10052 (100.0%) in 7.37 sec. Users per second: 1364\n",
      "MAP: 0.03071627142036049, RECALL: 0.12357249458386343\n",
      "EvaluatorHoldout: Processed 10045 (100.0%) in 7.36 sec. Users per second: 1365\n",
      "MAP: 0.03127157947964333, RECALL: 0.11893436666652482\n",
      "EvaluatorHoldout: Processed 10068 (100.0%) in 6.86 sec. Users per second: 1468\n",
      "MAP: 0.03142359731602907, RECALL: 0.12518973719671514\n"
     ]
    },
    {
     "name": "stderr",
     "output_type": "stream",
     "text": [
      "[I 2024-01-10 13:29:15,030] Trial 28 finished with value: 0.031117770571591902 and parameters: {'w_slim': 0.9041308591833245, 'w_knn': 0.0997360153715574, 'w_p3': 0.021854498241356535, 'w_rp3': 0.653606554946087, 'w_top': 4.573925559410843e-05}. Best is trial 28 with value: 0.031117770571591902.\n"
     ]
    },
    {
     "name": "stdout",
     "output_type": "stream",
     "text": [
      "EvaluatorHoldout: Processed 10057 (100.0%) in 7.18 sec. Users per second: 1400\n",
      "MAP: 0.030977503626156564, RECALL: 0.12348446703172532\n",
      "EvaluatorHoldout: Processed 10040 (100.0%) in 6.84 sec. Users per second: 1468\n",
      "MAP: 0.03110053437045496, RECALL: 0.12256916797362408\n",
      "EvaluatorHoldout: Processed 10017 (100.0%) in 6.71 sec. Users per second: 1493\n",
      "MAP: 0.030593875332569756, RECALL: 0.11963468990128288\n",
      "EvaluatorHoldout: Processed 10037 (100.0%) in 7.30 sec. Users per second: 1375\n",
      "MAP: 0.030937127864995077, RECALL: 0.1228844276496518\n",
      "EvaluatorHoldout: Processed 9989 (100.0%) in 7.80 sec. Users per second: 1280\n",
      "MAP: 0.031159255339603974, RECALL: 0.12650507792294524\n",
      "EvaluatorHoldout: Processed 10024 (100.0%) in 7.07 sec. Users per second: 1418\n",
      "MAP: 0.03149896597372682, RECALL: 0.12320896192738334\n",
      "EvaluatorHoldout: Processed 10030 (100.0%) in 5.90 sec. Users per second: 1699\n",
      "MAP: 0.031333325420563954, RECALL: 0.12766776136063795\n",
      "EvaluatorHoldout: Processed 10052 (100.0%) in 6.23 sec. Users per second: 1614\n",
      "MAP: 0.03069101387072966, RECALL: 0.12383971246380994\n",
      "EvaluatorHoldout: Processed 10045 (100.0%) in 5.85 sec. Users per second: 1717\n",
      "MAP: 0.03123407365269004, RECALL: 0.11879847661686489\n",
      "EvaluatorHoldout: Processed 10068 (100.0%) in 6.57 sec. Users per second: 1533\n",
      "MAP: 0.0313593752956092, RECALL: 0.1250099718835046\n"
     ]
    },
    {
     "name": "stderr",
     "output_type": "stream",
     "text": [
      "[I 2024-01-10 13:30:35,957] Trial 29 finished with value: 0.031088505074710004 and parameters: {'w_slim': 0.8960702030826251, 'w_knn': 0.09873010170745293, 'w_p3': 0.005470775141009465, 'w_rp3': 0.6983738117094644, 'w_top': 5.702536609209118e-05}. Best is trial 28 with value: 0.031117770571591902.\n"
     ]
    },
    {
     "name": "stdout",
     "output_type": "stream",
     "text": [
      "EvaluatorHoldout: Processed 10057 (100.0%) in 6.85 sec. Users per second: 1469\n",
      "MAP: 0.030690548003365285, RECALL: 0.12195136909908075\n",
      "EvaluatorHoldout: Processed 10040 (100.0%) in 6.88 sec. Users per second: 1459\n",
      "MAP: 0.030865103079744823, RECALL: 0.12178380112499144\n",
      "EvaluatorHoldout: Processed 10017 (100.0%) in 6.98 sec. Users per second: 1436\n",
      "MAP: 0.030256203343205668, RECALL: 0.11802949059389052\n",
      "EvaluatorHoldout: Processed 10037 (100.0%) in 7.53 sec. Users per second: 1334\n",
      "MAP: 0.03041822241832236, RECALL: 0.12098355385093765\n",
      "EvaluatorHoldout: Processed 9989 (100.0%) in 6.37 sec. Users per second: 1567\n",
      "MAP: 0.030957962488896807, RECALL: 0.12451220588083851\n",
      "EvaluatorHoldout: Processed 10024 (100.0%) in 6.54 sec. Users per second: 1534\n",
      "MAP: 0.03121536882909601, RECALL: 0.12089039913256128\n",
      "EvaluatorHoldout: Processed 10030 (100.0%) in 7.05 sec. Users per second: 1422\n",
      "MAP: 0.03108061925335139, RECALL: 0.1255948213298382\n",
      "EvaluatorHoldout: Processed 10052 (100.0%) in 7.75 sec. Users per second: 1298\n",
      "MAP: 0.030401140261118627, RECALL: 0.12343340214480554\n",
      "EvaluatorHoldout: Processed 10045 (100.0%) in 7.30 sec. Users per second: 1376\n",
      "MAP: 0.030980208111119144, RECALL: 0.11755796659850899\n",
      "EvaluatorHoldout: Processed 10068 (100.0%) in 7.47 sec. Users per second: 1347\n",
      "MAP: 0.031152389938891956, RECALL: 0.12374060149115249\n"
     ]
    },
    {
     "name": "stderr",
     "output_type": "stream",
     "text": [
      "[I 2024-01-10 13:32:00,126] Trial 30 finished with value: 0.030801776572711208 and parameters: {'w_slim': 0.8965945641409991, 'w_knn': 0.0017886365043173341, 'w_p3': 0.000847687631561643, 'w_rp3': 0.6613719417820507, 'w_top': 5.123399122004743e-05}. Best is trial 28 with value: 0.031117770571591902.\n"
     ]
    },
    {
     "name": "stdout",
     "output_type": "stream",
     "text": [
      "EvaluatorHoldout: Processed 10057 (100.0%) in 5.73 sec. Users per second: 1755\n",
      "MAP: 0.031020374342438827, RECALL: 0.12315355058973604\n",
      "EvaluatorHoldout: Processed 10040 (100.0%) in 6.75 sec. Users per second: 1487\n",
      "MAP: 0.031079681274900677, RECALL: 0.12209731811701777\n",
      "EvaluatorHoldout: Processed 10017 (100.0%) in 7.18 sec. Users per second: 1395\n",
      "MAP: 0.030604706126569143, RECALL: 0.11945759619466718\n",
      "EvaluatorHoldout: Processed 10037 (100.0%) in 7.70 sec. Users per second: 1304\n",
      "MAP: 0.030920672875440595, RECALL: 0.12274816130948091\n",
      "EvaluatorHoldout: Processed 9989 (100.0%) in 7.85 sec. Users per second: 1272\n",
      "MAP: 0.03117132417087397, RECALL: 0.12596862916817275\n",
      "EvaluatorHoldout: Processed 10024 (100.0%) in 7.42 sec. Users per second: 1351\n",
      "MAP: 0.03149822964567606, RECALL: 0.12278260567798142\n",
      "EvaluatorHoldout: Processed 10030 (100.0%) in 6.93 sec. Users per second: 1447\n",
      "MAP: 0.03133528383104678, RECALL: 0.12633141376137313\n",
      "EvaluatorHoldout: Processed 10052 (100.0%) in 6.38 sec. Users per second: 1575\n",
      "MAP: 0.030689482153121544, RECALL: 0.12297774018661704\n",
      "EvaluatorHoldout: Processed 10045 (100.0%) in 6.89 sec. Users per second: 1457\n",
      "MAP: 0.03125986236538764, RECALL: 0.11885405820893191\n",
      "EvaluatorHoldout: Processed 10068 (100.0%) in 7.56 sec. Users per second: 1333\n",
      "MAP: 0.03143695489717567, RECALL: 0.12502090969427035\n"
     ]
    },
    {
     "name": "stderr",
     "output_type": "stream",
     "text": [
      "[I 2024-01-10 13:33:23,998] Trial 31 finished with value: 0.031101657168263092 and parameters: {'w_slim': 0.9108051046744197, 'w_knn': 0.09265666810452826, 'w_p3': 0.022492371475124884, 'w_rp3': 0.6218355468509265, 'w_top': 4.3348803276659394e-05}. Best is trial 28 with value: 0.031117770571591902.\n"
     ]
    },
    {
     "name": "stdout",
     "output_type": "stream",
     "text": [
      "EvaluatorHoldout: Processed 10057 (100.0%) in 6.57 sec. Users per second: 1532\n",
      "MAP: 0.0310046110187805, RECALL: 0.12241983182966518\n",
      "EvaluatorHoldout: Processed 10040 (100.0%) in 7.07 sec. Users per second: 1421\n",
      "MAP: 0.03103481312843891, RECALL: 0.12121101879437776\n",
      "EvaluatorHoldout: Processed 10017 (100.0%) in 7.30 sec. Users per second: 1371\n",
      "MAP: 0.030590080196998572, RECALL: 0.11927879367168656\n",
      "EvaluatorHoldout: Processed 10037 (100.0%) in 6.23 sec. Users per second: 1611\n",
      "MAP: 0.030944497423027194, RECALL: 0.1224479767141304\n",
      "EvaluatorHoldout: Processed 9989 (100.0%) in 7.27 sec. Users per second: 1375\n",
      "MAP: 0.031186690279943176, RECALL: 0.1255208587643886\n",
      "EvaluatorHoldout: Processed 10024 (100.0%) in 7.46 sec. Users per second: 1344\n",
      "MAP: 0.03147254921521707, RECALL: 0.12305877544010105\n",
      "EvaluatorHoldout: Processed 10030 (100.0%) in 7.04 sec. Users per second: 1425\n",
      "MAP: 0.03130686511892915, RECALL: 0.12588017247254207\n",
      "EvaluatorHoldout: Processed 10052 (100.0%) in 7.60 sec. Users per second: 1322\n",
      "MAP: 0.030707432462307456, RECALL: 0.12265359266472033\n",
      "EvaluatorHoldout: Processed 10045 (100.0%) in 7.36 sec. Users per second: 1365\n",
      "MAP: 0.03131887853863976, RECALL: 0.11901368999959305\n",
      "EvaluatorHoldout: Processed 10068 (100.0%) in 7.59 sec. Users per second: 1326\n",
      "MAP: 0.03140669636944998, RECALL: 0.12450318156877989\n"
     ]
    },
    {
     "name": "stderr",
     "output_type": "stream",
     "text": [
      "[I 2024-01-10 13:34:48,951] Trial 32 finished with value: 0.031097311375173176 and parameters: {'w_slim': 0.9279545175972115, 'w_knn': 0.09337978409490687, 'w_p3': 0.02265964341840459, 'w_rp3': 0.6365907057296604, 'w_top': 3.6262344133048704e-05}. Best is trial 28 with value: 0.031117770571591902.\n"
     ]
    },
    {
     "name": "stdout",
     "output_type": "stream",
     "text": [
      "EvaluatorHoldout: Processed 10057 (100.0%) in 6.83 sec. Users per second: 1473\n",
      "MAP: 0.030964368180735106, RECALL: 0.12200698062887541\n",
      "EvaluatorHoldout: Processed 10040 (100.0%) in 7.15 sec. Users per second: 1404\n",
      "MAP: 0.030999118604945586, RECALL: 0.12045477213001632\n",
      "EvaluatorHoldout: Processed 10017 (100.0%) in 7.29 sec. Users per second: 1374\n",
      "MAP: 0.030564619511909235, RECALL: 0.11879525573438708\n",
      "EvaluatorHoldout: Processed 10037 (100.0%) in 7.32 sec. Users per second: 1371\n",
      "MAP: 0.03092051077679289, RECALL: 0.12192542670122714\n",
      "EvaluatorHoldout: Processed 9989 (100.0%) in 7.51 sec. Users per second: 1331\n",
      "MAP: 0.0312402650852449, RECALL: 0.12525611610418036\n",
      "EvaluatorHoldout: Processed 10024 (100.0%) in 7.01 sec. Users per second: 1431\n",
      "MAP: 0.03144296941309139, RECALL: 0.1223881110512502\n",
      "EvaluatorHoldout: Processed 10030 (100.0%) in 5.76 sec. Users per second: 1742\n",
      "MAP: 0.031237082403583152, RECALL: 0.12543481688364425\n",
      "EvaluatorHoldout: Processed 10052 (100.0%) in 6.84 sec. Users per second: 1469\n",
      "MAP: 0.030674121552056607, RECALL: 0.12244248257547675\n",
      "EvaluatorHoldout: Processed 10045 (100.0%) in 7.15 sec. Users per second: 1406\n",
      "MAP: 0.03131164521557768, RECALL: 0.11871381468220638\n",
      "EvaluatorHoldout: Processed 10068 (100.0%) in 7.81 sec. Users per second: 1290\n",
      "MAP: 0.03141636080998446, RECALL: 0.12398828727578551\n"
     ]
    },
    {
     "name": "stderr",
     "output_type": "stream",
     "text": [
      "[I 2024-01-10 13:36:13,073] Trial 33 finished with value: 0.0310771061553921 and parameters: {'w_slim': 0.9517430777814027, 'w_knn': 0.08268724887255924, 'w_p3': 0.020859250987862336, 'w_rp3': 0.6632650359061866, 'w_top': 3.137745955139578e-05}. Best is trial 28 with value: 0.031117770571591902.\n"
     ]
    },
    {
     "name": "stdout",
     "output_type": "stream",
     "text": [
      "EvaluatorHoldout: Processed 10057 (100.0%) in 6.73 sec. Users per second: 1494\n",
      "MAP: 0.031027610871998106, RECALL: 0.1234093475803582\n",
      "EvaluatorHoldout: Processed 10040 (100.0%) in 7.06 sec. Users per second: 1422\n",
      "MAP: 0.031090613735534324, RECALL: 0.12225233605769985\n",
      "EvaluatorHoldout: Processed 10017 (100.0%) in 6.45 sec. Users per second: 1553\n",
      "MAP: 0.030637879889901624, RECALL: 0.11957126258912339\n",
      "EvaluatorHoldout: Processed 10037 (100.0%) in 7.30 sec. Users per second: 1374\n",
      "MAP: 0.030971919769867726, RECALL: 0.12295248781976867\n",
      "EvaluatorHoldout: Processed 9989 (100.0%) in 7.93 sec. Users per second: 1260\n",
      "MAP: 0.03114639992881088, RECALL: 0.126111081993271\n",
      "EvaluatorHoldout: Processed 10024 (100.0%) in 6.97 sec. Users per second: 1439\n",
      "MAP: 0.03147059359125428, RECALL: 0.12299001454317261\n",
      "EvaluatorHoldout: Processed 10030 (100.0%) in 7.17 sec. Users per second: 1399\n",
      "MAP: 0.03134223915554951, RECALL: 0.12641624303370247\n",
      "EvaluatorHoldout: Processed 10052 (100.0%) in 7.59 sec. Users per second: 1324\n",
      "MAP: 0.0307119565560675, RECALL: 0.12339803476457194\n",
      "EvaluatorHoldout: Processed 10045 (100.0%) in 7.38 sec. Users per second: 1362\n",
      "MAP: 0.03129583540733381, RECALL: 0.11934053854670729\n",
      "EvaluatorHoldout: Processed 10068 (100.0%) in 6.77 sec. Users per second: 1487\n",
      "MAP: 0.03139469858927574, RECALL: 0.12488276328133624\n"
     ]
    },
    {
     "name": "stderr",
     "output_type": "stream",
     "text": [
      "[I 2024-01-10 13:37:37,888] Trial 34 finished with value: 0.03110897474955935 and parameters: {'w_slim': 0.863266314150703, 'w_knn': 0.0988729423541904, 'w_p3': 0.015048969061632778, 'w_rp3': 0.6059457232548987, 'w_top': 4.2510635020810605e-05}. Best is trial 28 with value: 0.031117770571591902.\n"
     ]
    },
    {
     "name": "stdout",
     "output_type": "stream",
     "text": [
      "EvaluatorHoldout: Processed 10057 (100.0%) in 7.15 sec. Users per second: 1407\n",
      "MAP: 0.030900036458851515, RECALL: 0.12252988257088263\n",
      "EvaluatorHoldout: Processed 10040 (100.0%) in 6.81 sec. Users per second: 1474\n",
      "MAP: 0.03094871308417159, RECALL: 0.12264429834534878\n",
      "EvaluatorHoldout: Processed 10017 (100.0%) in 7.20 sec. Users per second: 1390\n",
      "MAP: 0.030454715079602977, RECALL: 0.1192830274981939\n",
      "EvaluatorHoldout: Processed 10037 (100.0%) in 7.75 sec. Users per second: 1296\n",
      "MAP: 0.03080034428171356, RECALL: 0.12275205176087385\n",
      "EvaluatorHoldout: Processed 9989 (100.0%) in 7.72 sec. Users per second: 1294\n",
      "MAP: 0.0309230153168488, RECALL: 0.12476156373846543\n",
      "EvaluatorHoldout: Processed 10024 (100.0%) in 6.19 sec. Users per second: 1618\n",
      "MAP: 0.03134953492570234, RECALL: 0.12292677629867983\n",
      "EvaluatorHoldout: Processed 10030 (100.0%) in 7.03 sec. Users per second: 1427\n",
      "MAP: 0.031150963775340906, RECALL: 0.1254018546094153\n",
      "EvaluatorHoldout: Processed 10052 (100.0%) in 7.48 sec. Users per second: 1343\n",
      "MAP: 0.03059842785768011, RECALL: 0.12385046987504499\n",
      "EvaluatorHoldout: Processed 10045 (100.0%) in 7.11 sec. Users per second: 1412\n",
      "MAP: 0.03101782850190034, RECALL: 0.11801036623613886\n",
      "EvaluatorHoldout: Processed 10068 (100.0%) in 7.02 sec. Users per second: 1434\n",
      "MAP: 0.031085069937126234, RECALL: 0.12486009927384038\n"
     ]
    },
    {
     "name": "stderr",
     "output_type": "stream",
     "text": [
      "[I 2024-01-10 13:39:02,839] Trial 35 finished with value: 0.03092286492189384 and parameters: {'w_slim': 0.8909597209991312, 'w_knn': 0.09929925838823286, 'w_p3': 0.01422687350195689, 'w_rp3': 0.6003843375522211, 'w_top': 7.479210498392131e-05}. Best is trial 28 with value: 0.031117770571591902.\n"
     ]
    },
    {
     "name": "stdout",
     "output_type": "stream",
     "text": [
      "EvaluatorHoldout: Processed 10057 (100.0%) in 6.43 sec. Users per second: 1563\n",
      "MAP: 0.0310147910876262, RECALL: 0.12282559752037614\n",
      "EvaluatorHoldout: Processed 10040 (100.0%) in 6.16 sec. Users per second: 1629\n",
      "MAP: 0.031049927275027173, RECALL: 0.12226762719336866\n",
      "EvaluatorHoldout: Processed 10017 (100.0%) in 6.42 sec. Users per second: 1560\n",
      "MAP: 0.030513072221667825, RECALL: 0.11935671592401279\n",
      "EvaluatorHoldout: Processed 10037 (100.0%) in 6.77 sec. Users per second: 1483\n",
      "MAP: 0.03092428648919668, RECALL: 0.12279630072286109\n",
      "EvaluatorHoldout: Processed 9989 (100.0%) in 7.88 sec. Users per second: 1267\n",
      "MAP: 0.031101946267879065, RECALL: 0.12617268585417615\n",
      "EvaluatorHoldout: Processed 10024 (100.0%) in 7.43 sec. Users per second: 1350\n",
      "MAP: 0.03150823341440887, RECALL: 0.1232296068716344\n",
      "EvaluatorHoldout: Processed 10030 (100.0%) in 7.08 sec. Users per second: 1417\n",
      "MAP: 0.03137642627672562, RECALL: 0.12714682999481589\n",
      "EvaluatorHoldout: Processed 10052 (100.0%) in 7.47 sec. Users per second: 1346\n",
      "MAP: 0.030740826274799973, RECALL: 0.12368381469312141\n",
      "EvaluatorHoldout: Processed 10045 (100.0%) in 6.22 sec. Users per second: 1616\n",
      "MAP: 0.031167290842004775, RECALL: 0.1183795333324068\n",
      "EvaluatorHoldout: Processed 10068 (100.0%) in 7.42 sec. Users per second: 1356\n",
      "MAP: 0.03131207392902884, RECALL: 0.1246856905714035\n"
     ]
    },
    {
     "name": "stderr",
     "output_type": "stream",
     "text": [
      "[I 2024-01-10 13:40:25,590] Trial 36 finished with value: 0.0310708874078365 and parameters: {'w_slim': 0.9499071690493376, 'w_knn': 0.09398516087322788, 'w_p3': 0.014835337571862438, 'w_rp3': 0.6256724075421661, 'w_top': 5.3459124413282334e-05}. Best is trial 28 with value: 0.031117770571591902.\n"
     ]
    },
    {
     "name": "stdout",
     "output_type": "stream",
     "text": [
      "EvaluatorHoldout: Processed 10057 (100.0%) in 6.51 sec. Users per second: 1544\n",
      "MAP: 0.03103831178157541, RECALL: 0.12226840536658386\n",
      "EvaluatorHoldout: Processed 10040 (100.0%) in 6.58 sec. Users per second: 1525\n",
      "MAP: 0.030997142382849847, RECALL: 0.12113782388081067\n",
      "EvaluatorHoldout: Processed 10017 (100.0%) in 7.57 sec. Users per second: 1323\n",
      "MAP: 0.03057712206708929, RECALL: 0.119446301946208\n",
      "EvaluatorHoldout: Processed 10037 (100.0%) in 7.71 sec. Users per second: 1301\n",
      "MAP: 0.030973287724309226, RECALL: 0.12283579817291616\n",
      "EvaluatorHoldout: Processed 9989 (100.0%) in 7.77 sec. Users per second: 1285\n",
      "MAP: 0.031170501837736078, RECALL: 0.1256921758894522\n",
      "EvaluatorHoldout: Processed 10024 (100.0%) in 6.37 sec. Users per second: 1575\n",
      "MAP: 0.03147561724876193, RECALL: 0.12289868914619562\n",
      "EvaluatorHoldout: Processed 10030 (100.0%) in 7.11 sec. Users per second: 1411\n",
      "MAP: 0.031288911044644076, RECALL: 0.12608640871021093\n",
      "EvaluatorHoldout: Processed 10052 (100.0%) in 7.81 sec. Users per second: 1288\n",
      "MAP: 0.03070311759801447, RECALL: 0.12261701984301426\n",
      "EvaluatorHoldout: Processed 10045 (100.0%) in 7.00 sec. Users per second: 1434\n",
      "MAP: 0.03134581288961593, RECALL: 0.11925709637993379\n",
      "EvaluatorHoldout: Processed 10068 (100.0%) in 7.48 sec. Users per second: 1346\n",
      "MAP: 0.03143493293225147, RECALL: 0.12464019826196182\n"
     ]
    },
    {
     "name": "stderr",
     "output_type": "stream",
     "text": [
      "[I 2024-01-10 13:41:50,982] Trial 37 finished with value: 0.03110047575068477 and parameters: {'w_slim': 0.9041348029955671, 'w_knn': 0.09269690974077233, 'w_p3': 0.0095109110130361, 'w_rp3': 0.6572492257785368, 'w_top': 3.674258798925297e-05}. Best is trial 28 with value: 0.031117770571591902.\n"
     ]
    },
    {
     "name": "stdout",
     "output_type": "stream",
     "text": [
      "EvaluatorHoldout: Processed 10057 (100.0%) in 7.13 sec. Users per second: 1410\n",
      "MAP: 0.03100711263259762, RECALL: 0.12303961227530144\n",
      "EvaluatorHoldout: Processed 10040 (100.0%) in 7.15 sec. Users per second: 1404\n",
      "MAP: 0.03107764181369787, RECALL: 0.1222359104153573\n",
      "EvaluatorHoldout: Processed 10017 (100.0%) in 7.02 sec. Users per second: 1427\n",
      "MAP: 0.030575668189474915, RECALL: 0.1197016512685463\n",
      "EvaluatorHoldout: Processed 10037 (100.0%) in 7.45 sec. Users per second: 1347\n",
      "MAP: 0.030920087738858633, RECALL: 0.1225967307542277\n",
      "EvaluatorHoldout: Processed 9989 (100.0%) in 7.58 sec. Users per second: 1318\n",
      "MAP: 0.03110034530046577, RECALL: 0.12593448328834947\n",
      "EvaluatorHoldout: Processed 10024 (100.0%) in 7.19 sec. Users per second: 1394\n",
      "MAP: 0.03148608419159126, RECALL: 0.12330827393556831\n",
      "EvaluatorHoldout: Processed 10030 (100.0%) in 7.32 sec. Users per second: 1370\n",
      "MAP: 0.03134103641456607, RECALL: 0.12695576798815797\n",
      "EvaluatorHoldout: Processed 10052 (100.0%) in 6.53 sec. Users per second: 1539\n",
      "MAP: 0.030714305452915012, RECALL: 0.12312047411987559\n",
      "EvaluatorHoldout: Processed 10045 (100.0%) in 6.87 sec. Users per second: 1461\n",
      "MAP: 0.03120737633032321, RECALL: 0.1187242516837278\n",
      "EvaluatorHoldout: Processed 10068 (100.0%) in 7.58 sec. Users per second: 1329\n",
      "MAP: 0.031377379848774575, RECALL: 0.1248470809995754\n"
     ]
    },
    {
     "name": "stderr",
     "output_type": "stream",
     "text": [
      "[I 2024-01-10 13:43:16,302] Trial 38 finished with value: 0.03108070379132649 and parameters: {'w_slim': 0.9392106758401378, 'w_knn': 0.09949081621547126, 'w_p3': 0.02401671157870775, 'w_rp3': 0.5974458118486646, 'w_top': 4.694612096780737e-05}. Best is trial 28 with value: 0.031117770571591902.\n"
     ]
    },
    {
     "name": "stdout",
     "output_type": "stream",
     "text": [
      "EvaluatorHoldout: Processed 10057 (100.0%) in 6.33 sec. Users per second: 1590\n",
      "MAP: 0.030942922958186164, RECALL: 0.12080000025641742\n",
      "EvaluatorHoldout: Processed 10040 (100.0%) in 7.19 sec. Users per second: 1397\n",
      "MAP: 0.030944638114210127, RECALL: 0.11959716592425707\n",
      "EvaluatorHoldout: Processed 10017 (100.0%) in 7.48 sec. Users per second: 1339\n",
      "MAP: 0.030597460507613368, RECALL: 0.11765488546760246\n",
      "EvaluatorHoldout: Processed 10037 (100.0%) in 7.79 sec. Users per second: 1288\n",
      "MAP: 0.030934190321208713, RECALL: 0.12098712927415865\n",
      "EvaluatorHoldout: Processed 9989 (100.0%) in 7.62 sec. Users per second: 1310\n",
      "MAP: 0.03126751331226284, RECALL: 0.12488328439660061\n",
      "EvaluatorHoldout: Processed 10024 (100.0%) in 6.42 sec. Users per second: 1561\n",
      "MAP: 0.031440400182419594, RECALL: 0.12091188430269954\n",
      "EvaluatorHoldout: Processed 10030 (100.0%) in 7.05 sec. Users per second: 1423\n",
      "MAP: 0.031226795803067208, RECALL: 0.12454697000416641\n",
      "EvaluatorHoldout: Processed 10052 (100.0%) in 7.36 sec. Users per second: 1365\n",
      "MAP: 0.030666755095724838, RECALL: 0.12028055513872937\n",
      "EvaluatorHoldout: Processed 10045 (100.0%) in 7.19 sec. Users per second: 1398\n",
      "MAP: 0.031242298545434578, RECALL: 0.11698048673379972\n",
      "EvaluatorHoldout: Processed 10068 (100.0%) in 6.79 sec. Users per second: 1482\n",
      "MAP: 0.031344720976723674, RECALL: 0.1225554588781047\n"
     ]
    },
    {
     "name": "stderr",
     "output_type": "stream",
     "text": [
      "[I 2024-01-10 13:44:40,994] Trial 39 finished with value: 0.031060769581685112 and parameters: {'w_slim': 0.923531072548703, 'w_knn': 0.060958303332755176, 'w_p3': 0.0190484066847038, 'w_rp3': 0.6439446201822027, 'w_top': 1.0475542446304885e-05}. Best is trial 28 with value: 0.031117770571591902.\n"
     ]
    },
    {
     "name": "stdout",
     "output_type": "stream",
     "text": [
      "EvaluatorHoldout: Processed 10057 (100.0%) in 7.23 sec. Users per second: 1392\n",
      "MAP: 0.030968992615110005, RECALL: 0.12341415145778852\n",
      "EvaluatorHoldout: Processed 10040 (100.0%) in 7.30 sec. Users per second: 1375\n",
      "MAP: 0.031039192436603115, RECALL: 0.12239783493096643\n",
      "EvaluatorHoldout: Processed 10017 (100.0%) in 7.02 sec. Users per second: 1428\n",
      "MAP: 0.030517212009425466, RECALL: 0.11943515787323829\n",
      "EvaluatorHoldout: Processed 10037 (100.0%) in 6.30 sec. Users per second: 1592\n",
      "MAP: 0.030905028379124587, RECALL: 0.12283150078253982\n",
      "EvaluatorHoldout: Processed 9989 (100.0%) in 6.53 sec. Users per second: 1531\n",
      "MAP: 0.03118429081513498, RECALL: 0.12606250293885396\n",
      "EvaluatorHoldout: Processed 10024 (100.0%) in 6.73 sec. Users per second: 1489\n",
      "MAP: 0.03148626629422747, RECALL: 0.12310400260679527\n",
      "EvaluatorHoldout: Processed 10030 (100.0%) in 6.73 sec. Users per second: 1489\n",
      "MAP: 0.03134660304799909, RECALL: 0.1272048638302928\n",
      "EvaluatorHoldout: Processed 10052 (100.0%) in 7.33 sec. Users per second: 1372\n",
      "MAP: 0.03070762590087137, RECALL: 0.12399450260048314\n",
      "EvaluatorHoldout: Processed 10045 (100.0%) in 7.36 sec. Users per second: 1365\n",
      "MAP: 0.031218378408274024, RECALL: 0.11876831394090379\n",
      "EvaluatorHoldout: Processed 10068 (100.0%) in 7.21 sec. Users per second: 1397\n",
      "MAP: 0.03133037014964931, RECALL: 0.1247426808905024\n"
     ]
    },
    {
     "name": "stderr",
     "output_type": "stream",
     "text": [
      "[I 2024-01-10 13:46:04,232] Trial 40 finished with value: 0.031070396005641942 and parameters: {'w_slim': 0.9626644263300818, 'w_knn': 0.09165622201224362, 'w_p3': 0.015469200147971941, 'w_rp3': 0.6997891087613257, 'w_top': 5.9458282383954394e-05}. Best is trial 28 with value: 0.031117770571591902.\n"
     ]
    },
    {
     "name": "stdout",
     "output_type": "stream",
     "text": [
      "EvaluatorHoldout: Processed 10057 (100.0%) in 7.27 sec. Users per second: 1384\n",
      "MAP: 0.0310092867480759, RECALL: 0.122794942486172\n",
      "EvaluatorHoldout: Processed 10040 (100.0%) in 6.96 sec. Users per second: 1443\n",
      "MAP: 0.031048978688421245, RECALL: 0.12231964326184791\n",
      "EvaluatorHoldout: Processed 10017 (100.0%) in 7.01 sec. Users per second: 1430\n",
      "MAP: 0.0306193439406978, RECALL: 0.11944909027486214\n",
      "EvaluatorHoldout: Processed 10037 (100.0%) in 6.47 sec. Users per second: 1551\n",
      "MAP: 0.03089390287681646, RECALL: 0.1223836947371095\n",
      "EvaluatorHoldout: Processed 9989 (100.0%) in 7.89 sec. Users per second: 1266\n",
      "MAP: 0.031150765842426955, RECALL: 0.1264815988717187\n",
      "EvaluatorHoldout: Processed 10024 (100.0%) in 7.07 sec. Users per second: 1417\n",
      "MAP: 0.031514397192769376, RECALL: 0.12316457891614421\n",
      "EvaluatorHoldout: Processed 10030 (100.0%) in 7.01 sec. Users per second: 1430\n",
      "MAP: 0.03138286727120249, RECALL: 0.127031845150597\n",
      "EvaluatorHoldout: Processed 10052 (100.0%) in 7.48 sec. Users per second: 1343\n",
      "MAP: 0.030707969353015428, RECALL: 0.12330068539759872\n",
      "EvaluatorHoldout: Processed 10045 (100.0%) in 6.42 sec. Users per second: 1566\n",
      "MAP: 0.031250452329596286, RECALL: 0.11856675150933887\n",
      "EvaluatorHoldout: Processed 10068 (100.0%) in 7.63 sec. Users per second: 1320\n",
      "MAP: 0.03140422507898694, RECALL: 0.12517005406159887\n"
     ]
    },
    {
     "name": "stderr",
     "output_type": "stream",
     "text": [
      "[I 2024-01-10 13:47:28,922] Trial 41 finished with value: 0.03109821893220089 and parameters: {'w_slim': 0.8720269302572738, 'w_knn': 0.08156119838247146, 'w_p3': 0.02939633911762194, 'w_rp3': 0.5861147278981258, 'w_top': 4.400827029165405e-05}. Best is trial 28 with value: 0.031117770571591902.\n"
     ]
    },
    {
     "name": "stdout",
     "output_type": "stream",
     "text": [
      "EvaluatorHoldout: Processed 10057 (100.0%) in 7.11 sec. Users per second: 1415\n",
      "MAP: 0.031040935714049176, RECALL: 0.1228790935639043\n",
      "EvaluatorHoldout: Processed 10040 (100.0%) in 6.61 sec. Users per second: 1518\n",
      "MAP: 0.03105234617087237, RECALL: 0.12198241155970062\n",
      "EvaluatorHoldout: Processed 10017 (100.0%) in 6.86 sec. Users per second: 1461\n",
      "MAP: 0.030610097754452496, RECALL: 0.11955365431207739\n",
      "EvaluatorHoldout: Processed 10037 (100.0%) in 7.64 sec. Users per second: 1314\n",
      "MAP: 0.03091853001039043, RECALL: 0.12244217309175055\n",
      "EvaluatorHoldout: Processed 9989 (100.0%) in 7.39 sec. Users per second: 1351\n",
      "MAP: 0.031190742356274736, RECALL: 0.12598307999683056\n",
      "EvaluatorHoldout: Processed 10024 (100.0%) in 6.60 sec. Users per second: 1518\n",
      "MAP: 0.031473990201294925, RECALL: 0.12310588646514092\n",
      "EvaluatorHoldout: Processed 10030 (100.0%) in 6.53 sec. Users per second: 1535\n",
      "MAP: 0.03135304404247598, RECALL: 0.12653041239451457\n",
      "EvaluatorHoldout: Processed 10052 (100.0%) in 7.29 sec. Users per second: 1379\n",
      "MAP: 0.030712829003468032, RECALL: 0.12320544160391798\n",
      "EvaluatorHoldout: Processed 10045 (100.0%) in 7.34 sec. Users per second: 1368\n",
      "MAP: 0.0312600875425665, RECALL: 0.11902642370960628\n",
      "EvaluatorHoldout: Processed 10068 (100.0%) in 7.67 sec. Users per second: 1312\n",
      "MAP: 0.031486073273171274, RECALL: 0.12532412212094063\n"
     ]
    },
    {
     "name": "stderr",
     "output_type": "stream",
     "text": [
      "[I 2024-01-10 13:48:53,466] Trial 42 finished with value: 0.03110986760690159 and parameters: {'w_slim': 0.8673310244680705, 'w_knn': 0.08408173613005386, 'w_p3': 0.02480156736917472, 'w_rp3': 0.6261132990568306, 'w_top': 4.1114433943064736e-05}. Best is trial 28 with value: 0.031117770571591902.\n"
     ]
    },
    {
     "name": "stdout",
     "output_type": "stream",
     "text": [
      "EvaluatorHoldout: Processed 10057 (100.0%) in 6.30 sec. Users per second: 1597\n",
      "MAP: 0.031056967349599507, RECALL: 0.12258386288880076\n",
      "EvaluatorHoldout: Processed 10040 (100.0%) in 7.31 sec. Users per second: 1374\n",
      "MAP: 0.031075582590274133, RECALL: 0.12104044620751304\n",
      "EvaluatorHoldout: Processed 10017 (100.0%) in 7.59 sec. Users per second: 1319\n",
      "MAP: 0.030633664833275655, RECALL: 0.11918257787103621\n",
      "EvaluatorHoldout: Processed 10037 (100.0%) in 7.60 sec. Users per second: 1321\n",
      "MAP: 0.030989639919599375, RECALL: 0.122597395756619\n",
      "EvaluatorHoldout: Processed 9989 (100.0%) in 7.47 sec. Users per second: 1338\n",
      "MAP: 0.03121575399606256, RECALL: 0.12618786988669464\n",
      "EvaluatorHoldout: Processed 10024 (100.0%) in 5.81 sec. Users per second: 1726\n",
      "MAP: 0.03147433065404961, RECALL: 0.12266200947089445\n",
      "EvaluatorHoldout: Processed 10030 (100.0%) in 7.47 sec. Users per second: 1343\n",
      "MAP: 0.03140928800898917, RECALL: 0.12628595170688134\n",
      "EvaluatorHoldout: Processed 10052 (100.0%) in 7.46 sec. Users per second: 1348\n",
      "MAP: 0.030715884543232645, RECALL: 0.12257870882621935\n",
      "EvaluatorHoldout: Processed 10045 (100.0%) in 7.30 sec. Users per second: 1376\n",
      "MAP: 0.03130150829205104, RECALL: 0.11917443358318998\n",
      "EvaluatorHoldout: Processed 10068 (100.0%) in 7.61 sec. Users per second: 1323\n",
      "MAP: 0.03141429548908722, RECALL: 0.12436758676404716\n"
     ]
    },
    {
     "name": "stderr",
     "output_type": "stream",
     "text": [
      "[I 2024-01-10 13:50:18,868] Trial 43 finished with value: 0.03112869156762209 and parameters: {'w_slim': 0.8856705402423755, 'w_knn': 0.09599696002268149, 'w_p3': 0.024430537906598455, 'w_rp3': 0.6810149971480753, 'w_top': 3.2502010751019644e-05}. Best is trial 43 with value: 0.03112869156762209.\n"
     ]
    },
    {
     "name": "stdout",
     "output_type": "stream",
     "text": [
      "EvaluatorHoldout: Processed 10057 (100.0%) in 7.43 sec. Users per second: 1354\n",
      "MAP: 0.031064121018133304, RECALL: 0.12257979516573135\n",
      "EvaluatorHoldout: Processed 10040 (100.0%) in 7.36 sec. Users per second: 1364\n",
      "MAP: 0.031079574558907537, RECALL: 0.12105514266643261\n",
      "EvaluatorHoldout: Processed 10017 (100.0%) in 7.49 sec. Users per second: 1338\n",
      "MAP: 0.030639306036880327, RECALL: 0.11923961765553932\n",
      "EvaluatorHoldout: Processed 10037 (100.0%) in 6.25 sec. Users per second: 1606\n",
      "MAP: 0.030988833379986414, RECALL: 0.12258079052929342\n",
      "EvaluatorHoldout: Processed 9989 (100.0%) in 7.63 sec. Users per second: 1310\n",
      "MAP: 0.0312104862968315, RECALL: 0.1262721159965689\n",
      "EvaluatorHoldout: Processed 10024 (100.0%) in 7.51 sec. Users per second: 1334\n",
      "MAP: 0.03147635357681275, RECALL: 0.12263706932723922\n",
      "EvaluatorHoldout: Processed 10030 (100.0%) in 7.28 sec. Users per second: 1377\n",
      "MAP: 0.03141242146576172, RECALL: 0.1263126573043746\n",
      "EvaluatorHoldout: Processed 10052 (100.0%) in 7.53 sec. Users per second: 1335\n",
      "MAP: 0.030723093090532727, RECALL: 0.12269072996472369\n",
      "EvaluatorHoldout: Processed 10045 (100.0%) in 6.38 sec. Users per second: 1574\n",
      "MAP: 0.031290427204563785, RECALL: 0.11912767430298124\n",
      "EvaluatorHoldout: Processed 10068 (100.0%) in 6.16 sec. Users per second: 1634\n",
      "MAP: 0.03140180108594919, RECALL: 0.12438621012519138\n"
     ]
    },
    {
     "name": "stderr",
     "output_type": "stream",
     "text": [
      "[I 2024-01-10 13:51:43,367] Trial 44 finished with value: 0.03112864177143592 and parameters: {'w_slim': 0.8844362329183609, 'w_knn': 0.09624550977191298, 'w_p3': 0.024371515356897407, 'w_rp3': 0.6799822022843132, 'w_top': 3.240246627652839e-05}. Best is trial 43 with value: 0.03112869156762209.\n"
     ]
    },
    {
     "name": "stdout",
     "output_type": "stream",
     "text": [
      "EvaluatorHoldout: Processed 10057 (100.0%) in 7.12 sec. Users per second: 1412\n",
      "MAP: 0.031029343062007112, RECALL: 0.12229709191124156\n",
      "EvaluatorHoldout: Processed 10040 (100.0%) in 6.75 sec. Users per second: 1487\n",
      "MAP: 0.031012082621893682, RECALL: 0.12064452138158734\n",
      "EvaluatorHoldout: Processed 10017 (100.0%) in 7.46 sec. Users per second: 1343\n",
      "MAP: 0.03057377062168929, RECALL: 0.11923476734902196\n",
      "EvaluatorHoldout: Processed 10037 (100.0%) in 6.69 sec. Users per second: 1500\n",
      "MAP: 0.030943457619506575, RECALL: 0.12197906982415989\n",
      "EvaluatorHoldout: Processed 9989 (100.0%) in 7.60 sec. Users per second: 1314\n",
      "MAP: 0.031223909792835933, RECALL: 0.1258147348069378\n",
      "EvaluatorHoldout: Processed 10024 (100.0%) in 7.17 sec. Users per second: 1398\n",
      "MAP: 0.031492778442848535, RECALL: 0.12249630696269402\n",
      "EvaluatorHoldout: Processed 10030 (100.0%) in 7.09 sec. Users per second: 1414\n",
      "MAP: 0.03131628922755565, RECALL: 0.12557254536370785\n",
      "EvaluatorHoldout: Processed 10052 (100.0%) in 7.56 sec. Users per second: 1329\n",
      "MAP: 0.03064335297721722, RECALL: 0.12225711861070367\n",
      "EvaluatorHoldout: Processed 10045 (100.0%) in 6.67 sec. Users per second: 1507\n",
      "MAP: 0.03135645152369907, RECALL: 0.11897966605817878\n",
      "EvaluatorHoldout: Processed 10068 (100.0%) in 7.83 sec. Users per second: 1285\n",
      "MAP: 0.03147950681398265, RECALL: 0.12437267805166492\n"
     ]
    },
    {
     "name": "stderr",
     "output_type": "stream",
     "text": [
      "[I 2024-01-10 13:53:08,791] Trial 45 finished with value: 0.031107094270323578 and parameters: {'w_slim': 0.8837170524068942, 'w_knn': 0.07519837202593183, 'w_p3': 0.025381711493414498, 'w_rp3': 0.6848137668763836, 'w_top': 3.1621791887673606e-05}. Best is trial 43 with value: 0.03112869156762209.\n"
     ]
    },
    {
     "name": "stdout",
     "output_type": "stream",
     "text": [
      "EvaluatorHoldout: Processed 10057 (100.0%) in 7.00 sec. Users per second: 1438\n",
      "MAP: 0.03103136723848683, RECALL: 0.12166979655385393\n",
      "EvaluatorHoldout: Processed 10040 (100.0%) in 7.23 sec. Users per second: 1389\n",
      "MAP: 0.031069306108898024, RECALL: 0.11980208695787056\n",
      "EvaluatorHoldout: Processed 10017 (100.0%) in 7.40 sec. Users per second: 1354\n",
      "MAP: 0.03062403041813058, RECALL: 0.11883126797323673\n",
      "EvaluatorHoldout: Processed 10037 (100.0%) in 6.98 sec. Users per second: 1438\n",
      "MAP: 0.03096205942773673, RECALL: 0.1218126357620501\n",
      "EvaluatorHoldout: Processed 9989 (100.0%) in 8.20 sec. Users per second: 1218\n",
      "MAP: 0.031220743611623844, RECALL: 0.12554794209791598\n",
      "EvaluatorHoldout: Processed 10024 (100.0%) in 7.18 sec. Users per second: 1396\n",
      "MAP: 0.03145695172855014, RECALL: 0.1216645689652751\n",
      "EvaluatorHoldout: Processed 10030 (100.0%) in 7.56 sec. Users per second: 1327\n",
      "MAP: 0.0313647114212919, RECALL: 0.1256356030022213\n",
      "EvaluatorHoldout: Processed 10052 (100.0%) in 7.39 sec. Users per second: 1360\n",
      "MAP: 0.030705277004023878, RECALL: 0.12157701317801596\n",
      "EvaluatorHoldout: Processed 10045 (100.0%) in 7.52 sec. Users per second: 1336\n",
      "MAP: 0.03131586037434739, RECALL: 0.11885803442583644\n",
      "EvaluatorHoldout: Processed 10068 (100.0%) in 7.72 sec. Users per second: 1305\n",
      "MAP: 0.03150552828070736, RECALL: 0.12412884123584418\n"
     ]
    },
    {
     "name": "stderr",
     "output_type": "stream",
     "text": [
      "[I 2024-01-10 13:54:36,410] Trial 46 finished with value: 0.03112558356137967 and parameters: {'w_slim': 0.8522612020328013, 'w_knn': 0.08110643891010232, 'w_p3': 0.03084590000431684, 'w_rp3': 0.6845960902871634, 'w_top': 2.4116490274526032e-05}. Best is trial 43 with value: 0.03112869156762209.\n"
     ]
    },
    {
     "name": "stdout",
     "output_type": "stream",
     "text": [
      "EvaluatorHoldout: Processed 10057 (100.0%) in 7.17 sec. Users per second: 1402\n",
      "MAP: 0.030648142887130903, RECALL: 0.12232709325540096\n",
      "EvaluatorHoldout: Processed 10040 (100.0%) in 7.31 sec. Users per second: 1374\n",
      "MAP: 0.030747822203250796, RECALL: 0.12111818713741604\n",
      "EvaluatorHoldout: Processed 10017 (100.0%) in 6.19 sec. Users per second: 1618\n",
      "MAP: 0.03029745068304535, RECALL: 0.11833603268374898\n",
      "EvaluatorHoldout: Processed 10037 (100.0%) in 7.63 sec. Users per second: 1316\n",
      "MAP: 0.030600112915546096, RECALL: 0.12132949716325238\n",
      "EvaluatorHoldout: Processed 9989 (100.0%) in 7.21 sec. Users per second: 1386\n",
      "MAP: 0.030735682266366266, RECALL: 0.12310949849131136\n",
      "EvaluatorHoldout: Processed 10024 (100.0%) in 6.74 sec. Users per second: 1486\n",
      "MAP: 0.03117117331103775, RECALL: 0.12199089042650571\n",
      "EvaluatorHoldout: Processed 10030 (100.0%) in 7.42 sec. Users per second: 1351\n",
      "MAP: 0.031043753659656195, RECALL: 0.12427189856395589\n",
      "EvaluatorHoldout: Processed 10052 (100.0%) in 6.70 sec. Users per second: 1501\n",
      "MAP: 0.030313275728118868, RECALL: 0.12291456982826163\n",
      "EvaluatorHoldout: Processed 10045 (100.0%) in 7.36 sec. Users per second: 1365\n",
      "MAP: 0.030834980682168597, RECALL: 0.1178839750279011\n",
      "EvaluatorHoldout: Processed 10068 (100.0%) in 7.89 sec. Users per second: 1276\n",
      "MAP: 0.030924976035971524, RECALL: 0.12488614206590916\n"
     ]
    },
    {
     "name": "stderr",
     "output_type": "stream",
     "text": [
      "[I 2024-01-10 13:56:01,465] Trial 47 finished with value: 0.030731737037229236 and parameters: {'w_slim': 0.8514597956343939, 'w_knn': 0.08860093274156769, 'w_p3': 0.03435112024114922, 'w_rp3': 0.6792559980450404, 'w_top': 9.987467291874392e-05}. Best is trial 43 with value: 0.03112869156762209.\n"
     ]
    },
    {
     "name": "stdout",
     "output_type": "stream",
     "text": [
      "EvaluatorHoldout: Processed 10057 (100.0%) in 6.67 sec. Users per second: 1508\n",
      "MAP: 0.030958319325874544, RECALL: 0.12157588508913715\n",
      "EvaluatorHoldout: Processed 10040 (100.0%) in 7.27 sec. Users per second: 1381\n",
      "MAP: 0.031010564883324168, RECALL: 0.12006879639286952\n",
      "EvaluatorHoldout: Processed 10017 (100.0%) in 7.12 sec. Users per second: 1408\n",
      "MAP: 0.03063917926825995, RECALL: 0.11858835081837098\n",
      "EvaluatorHoldout: Processed 10037 (100.0%) in 6.85 sec. Users per second: 1466\n",
      "MAP: 0.030922926442006133, RECALL: 0.12124262879523595\n",
      "EvaluatorHoldout: Processed 9989 (100.0%) in 7.67 sec. Users per second: 1302\n",
      "MAP: 0.031256632295525374, RECALL: 0.12574000347188027\n",
      "EvaluatorHoldout: Processed 10024 (100.0%) in 6.77 sec. Users per second: 1480\n",
      "MAP: 0.03144855917227249, RECALL: 0.12160059676383296\n",
      "EvaluatorHoldout: Processed 10030 (100.0%) in 7.22 sec. Users per second: 1390\n",
      "MAP: 0.03133217015619829, RECALL: 0.12522103403701115\n",
      "EvaluatorHoldout: Processed 10052 (100.0%) in 7.63 sec. Users per second: 1318\n",
      "MAP: 0.03066151646359605, RECALL: 0.12163987895355939\n",
      "EvaluatorHoldout: Processed 10045 (100.0%) in 6.72 sec. Users per second: 1496\n",
      "MAP: 0.0313244645128669, RECALL: 0.11757199034783582\n",
      "EvaluatorHoldout: Processed 10068 (100.0%) in 7.91 sec. Users per second: 1273\n",
      "MAP: 0.031457537160010596, RECALL: 0.12341298763744005\n"
     ]
    },
    {
     "name": "stderr",
     "output_type": "stream",
     "text": [
      "[I 2024-01-10 13:57:26,734] Trial 48 finished with value: 0.03110118696799345 and parameters: {'w_slim': 0.8135303274985709, 'w_knn': 0.053552219643315926, 'w_p3': 0.04472548528347578, 'w_rp3': 0.6711313110479895, 'w_top': 2.244797725251003e-05}. Best is trial 43 with value: 0.03112869156762209.\n"
     ]
    },
    {
     "name": "stdout",
     "output_type": "stream",
     "text": [
      "EvaluatorHoldout: Processed 10057 (100.0%) in 7.09 sec. Users per second: 1419\n",
      "MAP: 0.03101850010495748, RECALL: 0.12101286200230979\n",
      "EvaluatorHoldout: Processed 10040 (100.0%) in 6.42 sec. Users per second: 1565\n",
      "MAP: 0.031099743881616657, RECALL: 0.11999757771535938\n",
      "EvaluatorHoldout: Processed 10017 (100.0%) in 6.16 sec. Users per second: 1626\n",
      "MAP: 0.030593665372042285, RECALL: 0.11786921332820122\n",
      "EvaluatorHoldout: Processed 10037 (100.0%) in 6.36 sec. Users per second: 1579\n",
      "MAP: 0.030957955564412012, RECALL: 0.12134617149938955\n",
      "EvaluatorHoldout: Processed 9989 (100.0%) in 7.97 sec. Users per second: 1254\n",
      "MAP: 0.03126130410117821, RECALL: 0.1253405513477993\n",
      "EvaluatorHoldout: Processed 10024 (100.0%) in 7.10 sec. Users per second: 1413\n",
      "MAP: 0.03142999262088474, RECALL: 0.12085788453516967\n",
      "EvaluatorHoldout: Processed 10030 (100.0%) in 6.93 sec. Users per second: 1447\n",
      "MAP: 0.03137242241529401, RECALL: 0.1250275408775283\n",
      "EvaluatorHoldout: Processed 10052 (100.0%) in 7.61 sec. Users per second: 1321\n",
      "MAP: 0.030621557583107906, RECALL: 0.12051020872243169\n",
      "EvaluatorHoldout: Processed 10045 (100.0%) in 6.64 sec. Users per second: 1513\n",
      "MAP: 0.03127536403643937, RECALL: 0.11764962607868626\n",
      "EvaluatorHoldout: Processed 10068 (100.0%) in 7.74 sec. Users per second: 1301\n",
      "MAP: 0.03145579109673297, RECALL: 0.12266375942949212\n"
     ]
    },
    {
     "name": "stderr",
     "output_type": "stream",
     "text": [
      "[I 2024-01-10 13:58:50,187] Trial 49 finished with value: 0.031108629677666567 and parameters: {'w_slim': 0.8878498225484908, 'w_knn': 0.0735630695743562, 'w_p3': 0.030264603136803535, 'w_rp3': 0.6868961225865491, 'w_top': 1.2438783938970957e-05}. Best is trial 43 with value: 0.03112869156762209.\n"
     ]
    },
    {
     "name": "stdout",
     "output_type": "stream",
     "text": [
      "EvaluatorHoldout: Processed 10057 (100.0%) in 6.85 sec. Users per second: 1468\n",
      "MAP: 0.031000112848825333, RECALL: 0.12154023659138902\n",
      "EvaluatorHoldout: Processed 10040 (100.0%) in 6.51 sec. Users per second: 1543\n",
      "MAP: 0.031076116170239955, RECALL: 0.11996573389950065\n",
      "EvaluatorHoldout: Processed 10017 (100.0%) in 7.83 sec. Users per second: 1279\n",
      "MAP: 0.030653674467690788, RECALL: 0.11866907035205795\n",
      "EvaluatorHoldout: Processed 10037 (100.0%) in 7.08 sec. Users per second: 1418\n",
      "MAP: 0.03095843395310399, RECALL: 0.12182643760586828\n",
      "EvaluatorHoldout: Processed 9989 (100.0%) in 8.09 sec. Users per second: 1234\n",
      "MAP: 0.03124055905941004, RECALL: 0.1257647911721689\n",
      "EvaluatorHoldout: Processed 10024 (100.0%) in 7.17 sec. Users per second: 1397\n",
      "MAP: 0.03146518989346229, RECALL: 0.12180580097433524\n",
      "EvaluatorHoldout: Processed 10030 (100.0%) in 7.40 sec. Users per second: 1356\n",
      "MAP: 0.03134217585339243, RECALL: 0.12542947254150116\n",
      "EvaluatorHoldout: Processed 10052 (100.0%) in 7.74 sec. Users per second: 1299\n",
      "MAP: 0.030673754413557776, RECALL: 0.12196124872049191\n",
      "EvaluatorHoldout: Processed 10045 (100.0%) in 6.88 sec. Users per second: 1459\n",
      "MAP: 0.031268237376251486, RECALL: 0.11886503129581266\n",
      "EvaluatorHoldout: Processed 10068 (100.0%) in 7.80 sec. Users per second: 1291\n",
      "MAP: 0.03148100850723051, RECALL: 0.12410248923242377\n"
     ]
    },
    {
     "name": "stderr",
     "output_type": "stream",
     "text": [
      "[I 2024-01-10 14:00:17,029] Trial 50 finished with value: 0.031115926254316462 and parameters: {'w_slim': 0.8486308785172783, 'w_knn': 0.08034905841250657, 'w_p3': 0.04003426307915503, 'w_rp3': 0.651277260546185, 'w_top': 2.3537249517445654e-05}. Best is trial 43 with value: 0.03112869156762209.\n"
     ]
    },
    {
     "name": "stdout",
     "output_type": "stream",
     "text": [
      "EvaluatorHoldout: Processed 10057 (100.0%) in 6.38 sec. Users per second: 1575\n",
      "MAP: 0.030989368535853705, RECALL: 0.12156658908669583\n",
      "EvaluatorHoldout: Processed 10040 (100.0%) in 7.45 sec. Users per second: 1347\n",
      "MAP: 0.031071278378549595, RECALL: 0.11978147095129349\n",
      "EvaluatorHoldout: Processed 10017 (100.0%) in 7.68 sec. Users per second: 1304\n",
      "MAP: 0.030648881029234572, RECALL: 0.1186322648796769\n",
      "EvaluatorHoldout: Processed 10037 (100.0%) in 6.34 sec. Users per second: 1584\n",
      "MAP: 0.0309579634716631, RECALL: 0.121855496753688\n",
      "EvaluatorHoldout: Processed 9989 (100.0%) in 6.33 sec. Users per second: 1579\n",
      "MAP: 0.03124904458396325, RECALL: 0.12566225413900822\n",
      "EvaluatorHoldout: Processed 10024 (100.0%) in 6.42 sec. Users per second: 1562\n",
      "MAP: 0.03146921594522378, RECALL: 0.12180991807741484\n",
      "EvaluatorHoldout: Processed 10030 (100.0%) in 7.17 sec. Users per second: 1398\n",
      "MAP: 0.03134578803272744, RECALL: 0.1255190887503459\n",
      "EvaluatorHoldout: Processed 10052 (100.0%) in 7.67 sec. Users per second: 1310\n",
      "MAP: 0.030667876249850328, RECALL: 0.12195864322146781\n",
      "EvaluatorHoldout: Processed 10045 (100.0%) in 7.69 sec. Users per second: 1307\n",
      "MAP: 0.03127975301618923, RECALL: 0.11899234060941523\n",
      "EvaluatorHoldout: Processed 10068 (100.0%) in 7.59 sec. Users per second: 1327\n",
      "MAP: 0.031473476392278855, RECALL: 0.12393524414606984\n"
     ]
    },
    {
     "name": "stderr",
     "output_type": "stream",
     "text": [
      "[I 2024-01-10 14:01:41,214] Trial 51 finished with value: 0.031115264563553385 and parameters: {'w_slim': 0.8466049379666231, 'w_knn': 0.08021398640730507, 'w_p3': 0.04067801913029026, 'w_rp3': 0.6488193872256747, 'w_top': 2.2933220189789466e-05}. Best is trial 43 with value: 0.03112869156762209.\n"
     ]
    },
    {
     "name": "stdout",
     "output_type": "stream",
     "text": [
      "EvaluatorHoldout: Processed 10057 (100.0%) in 6.25 sec. Users per second: 1610\n",
      "MAP: 0.031054903715488552, RECALL: 0.12283317297732158\n",
      "EvaluatorHoldout: Processed 10040 (100.0%) in 6.81 sec. Users per second: 1474\n",
      "MAP: 0.031110387813824348, RECALL: 0.12113858132582814\n",
      "EvaluatorHoldout: Processed 10017 (100.0%) in 7.25 sec. Users per second: 1382\n",
      "MAP: 0.030668387550687837, RECALL: 0.11929132474322765\n",
      "EvaluatorHoldout: Processed 10037 (100.0%) in 7.49 sec. Users per second: 1340\n",
      "MAP: 0.030995768039207585, RECALL: 0.12221867057781283\n",
      "EvaluatorHoldout: Processed 9989 (100.0%) in 8.00 sec. Users per second: 1248\n",
      "MAP: 0.031168654567643655, RECALL: 0.12639443327730712\n",
      "EvaluatorHoldout: Processed 10024 (100.0%) in 7.63 sec. Users per second: 1313\n",
      "MAP: 0.031485605182482904, RECALL: 0.12251588837370178\n",
      "EvaluatorHoldout: Processed 10030 (100.0%) in 7.32 sec. Users per second: 1371\n",
      "MAP: 0.031453445219896126, RECALL: 0.12605924705329832\n",
      "EvaluatorHoldout: Processed 10052 (100.0%) in 7.65 sec. Users per second: 1314\n",
      "MAP: 0.030777279574782906, RECALL: 0.12275042606468531\n",
      "EvaluatorHoldout: Processed 10045 (100.0%) in 6.40 sec. Users per second: 1569\n",
      "MAP: 0.031333048899002285, RECALL: 0.11922666844387379\n",
      "EvaluatorHoldout: Processed 10068 (100.0%) in 6.34 sec. Users per second: 1587\n",
      "MAP: 0.03144145209401495, RECALL: 0.12447778687837806\n"
     ]
    },
    {
     "name": "stderr",
     "output_type": "stream",
     "text": [
      "[I 2024-01-10 14:03:05,811] Trial 52 finished with value: 0.03114889326570311 and parameters: {'w_slim': 0.8577876946474456, 'w_knn': 0.09524528866662779, 'w_p3': 0.03769246881872564, 'w_rp3': 0.6724593959006421, 'w_top': 3.174724598727742e-05}. Best is trial 52 with value: 0.03114889326570311.\n"
     ]
    },
    {
     "name": "stdout",
     "output_type": "stream",
     "text": [
      "EvaluatorHoldout: Processed 10057 (100.0%) in 6.96 sec. Users per second: 1445\n",
      "MAP: 0.031035072310055093, RECALL: 0.12268116821456476\n",
      "EvaluatorHoldout: Processed 10040 (100.0%) in 7.16 sec. Users per second: 1402\n",
      "MAP: 0.031104775343072454, RECALL: 0.12090202161143002\n",
      "EvaluatorHoldout: Processed 10017 (100.0%) in 7.22 sec. Users per second: 1388\n",
      "MAP: 0.03062382838064196, RECALL: 0.11914789385543598\n",
      "EvaluatorHoldout: Processed 10037 (100.0%) in 7.70 sec. Users per second: 1303\n",
      "MAP: 0.03100484160985336, RECALL: 0.12230259476958315\n",
      "EvaluatorHoldout: Processed 9989 (100.0%) in 7.98 sec. Users per second: 1252\n",
      "MAP: 0.031198957742405747, RECALL: 0.126334596159971\n",
      "EvaluatorHoldout: Processed 10024 (100.0%) in 6.43 sec. Users per second: 1559\n",
      "MAP: 0.031466333973068056, RECALL: 0.12249691435158266\n",
      "EvaluatorHoldout: Processed 10030 (100.0%) in 6.21 sec. Users per second: 1615\n",
      "MAP: 0.031453223662346555, RECALL: 0.12611273559181477\n",
      "EvaluatorHoldout: Processed 10052 (100.0%) in 7.65 sec. Users per second: 1314\n",
      "MAP: 0.030752132561474316, RECALL: 0.12298353886944008\n",
      "EvaluatorHoldout: Processed 10045 (100.0%) in 7.46 sec. Users per second: 1347\n",
      "MAP: 0.03132491091674786, RECALL: 0.11894862510445955\n",
      "EvaluatorHoldout: Processed 10068 (100.0%) in 7.53 sec. Users per second: 1337\n",
      "MAP: 0.031427310163901635, RECALL: 0.12430994603121619\n"
     ]
    },
    {
     "name": "stderr",
     "output_type": "stream",
     "text": [
      "[I 2024-01-10 14:04:31,584] Trial 53 finished with value: 0.03113913866635671 and parameters: {'w_slim': 0.8786196853703908, 'w_knn': 0.09583503391565125, 'w_p3': 0.033582803680500116, 'w_rp3': 0.6713414654611563, 'w_top': 3.155131320240115e-05}. Best is trial 52 with value: 0.03114889326570311.\n"
     ]
    },
    {
     "name": "stdout",
     "output_type": "stream",
     "text": [
      "EvaluatorHoldout: Processed 10057 (100.0%) in 6.89 sec. Users per second: 1459\n",
      "MAP: 0.031088012613815642, RECALL: 0.12173565993089332\n",
      "EvaluatorHoldout: Processed 10040 (100.0%) in 7.17 sec. Users per second: 1401\n",
      "MAP: 0.03109657402137506, RECALL: 0.11998362445193006\n",
      "EvaluatorHoldout: Processed 10017 (100.0%) in 6.53 sec. Users per second: 1534\n",
      "MAP: 0.030627714631158973, RECALL: 0.1181849908284997\n",
      "EvaluatorHoldout: Processed 10037 (100.0%) in 7.18 sec. Users per second: 1398\n",
      "MAP: 0.030988252197030015, RECALL: 0.12141758483429989\n",
      "EvaluatorHoldout: Processed 9989 (100.0%) in 8.23 sec. Users per second: 1214\n",
      "MAP: 0.031159851233182156, RECALL: 0.12529848785045536\n",
      "EvaluatorHoldout: Processed 10024 (100.0%) in 6.95 sec. Users per second: 1442\n",
      "MAP: 0.031441500715742796, RECALL: 0.12143844992544187\n",
      "EvaluatorHoldout: Processed 10030 (100.0%) in 7.15 sec. Users per second: 1402\n",
      "MAP: 0.03144504977132125, RECALL: 0.1256331426115353\n",
      "EvaluatorHoldout: Processed 10052 (100.0%) in 7.53 sec. Users per second: 1334\n",
      "MAP: 0.030671966093773012, RECALL: 0.12085963928565571\n",
      "EvaluatorHoldout: Processed 10045 (100.0%) in 7.37 sec. Users per second: 1362\n",
      "MAP: 0.03128778433556952, RECALL: 0.11825760388742007\n",
      "EvaluatorHoldout: Processed 10068 (100.0%) in 7.21 sec. Users per second: 1396\n",
      "MAP: 0.03142497288280989, RECALL: 0.12413738687847826\n"
     ]
    },
    {
     "name": "stderr",
     "output_type": "stream",
     "text": [
      "[I 2024-01-10 14:05:57,322] Trial 54 finished with value: 0.031123167849577832 and parameters: {'w_slim': 0.8590804748420745, 'w_knn': 0.09611660861440927, 'w_p3': 0.03613231839825562, 'w_rp3': 0.6733143244941454, 'w_top': 1.7713579804593315e-05}. Best is trial 52 with value: 0.03114889326570311.\n"
     ]
    },
    {
     "name": "stdout",
     "output_type": "stream",
     "text": [
      "EvaluatorHoldout: Processed 10057 (100.0%) in 7.18 sec. Users per second: 1401\n",
      "MAP: 0.031068812530481146, RECALL: 0.12167174436347708\n",
      "EvaluatorHoldout: Processed 10040 (100.0%) in 7.40 sec. Users per second: 1358\n",
      "MAP: 0.03109598115474634, RECALL: 0.11994497562842066\n",
      "EvaluatorHoldout: Processed 10017 (100.0%) in 7.36 sec. Users per second: 1361\n",
      "MAP: 0.030628522781113568, RECALL: 0.11814987364180109\n",
      "EvaluatorHoldout: Processed 10037 (100.0%) in 7.49 sec. Users per second: 1339\n",
      "MAP: 0.030972109543894247, RECALL: 0.12138480170298134\n",
      "EvaluatorHoldout: Processed 9989 (100.0%) in 7.99 sec. Users per second: 1251\n",
      "MAP: 0.031164717697403914, RECALL: 0.12530859817816503\n",
      "EvaluatorHoldout: Processed 10024 (100.0%) in 7.09 sec. Users per second: 1413\n",
      "MAP: 0.031451781597182885, RECALL: 0.12128780167038176\n",
      "EvaluatorHoldout: Processed 10030 (100.0%) in 6.65 sec. Users per second: 1508\n",
      "MAP: 0.03144381537925935, RECALL: 0.12567363535002102\n",
      "EvaluatorHoldout: Processed 10052 (100.0%) in 6.25 sec. Users per second: 1608\n",
      "MAP: 0.030676983653257345, RECALL: 0.1208339627801742\n",
      "EvaluatorHoldout: Processed 10045 (100.0%) in 7.56 sec. Users per second: 1328\n",
      "MAP: 0.03128282648715723, RECALL: 0.11819085878583178\n",
      "EvaluatorHoldout: Processed 10068 (100.0%) in 7.76 sec. Users per second: 1297\n",
      "MAP: 0.031418958226914415, RECALL: 0.12406564076362844\n"
     ]
    },
    {
     "name": "stderr",
     "output_type": "stream",
     "text": [
      "[I 2024-01-10 14:07:23,561] Trial 55 finished with value: 0.03112045090514105 and parameters: {'w_slim': 0.862850376626008, 'w_knn': 0.09559546344101157, 'w_p3': 0.0372311959322523, 'w_rp3': 0.6744346904869066, 'w_top': 1.7434403045259696e-05}. Best is trial 52 with value: 0.03114889326570311.\n"
     ]
    },
    {
     "name": "stdout",
     "output_type": "stream",
     "text": [
      "EvaluatorHoldout: Processed 10057 (100.0%) in 6.50 sec. Users per second: 1547\n",
      "MAP: 0.031083684111674666, RECALL: 0.1216937116059512\n",
      "EvaluatorHoldout: Processed 10040 (100.0%) in 7.40 sec. Users per second: 1357\n",
      "MAP: 0.03109574400809485, RECALL: 0.11989803437194681\n",
      "EvaluatorHoldout: Processed 10017 (100.0%) in 7.41 sec. Users per second: 1352\n",
      "MAP: 0.03063039261826342, RECALL: 0.11814981089384356\n",
      "EvaluatorHoldout: Processed 10037 (100.0%) in 6.24 sec. Users per second: 1609\n",
      "MAP: 0.03098276061113595, RECALL: 0.12136652235611017\n",
      "EvaluatorHoldout: Processed 9989 (100.0%) in 7.46 sec. Users per second: 1339\n",
      "MAP: 0.031170628961699403, RECALL: 0.12539158610040768\n",
      "EvaluatorHoldout: Processed 10024 (100.0%) in 7.63 sec. Users per second: 1314\n",
      "MAP: 0.031455011939599174, RECALL: 0.12139772161584356\n",
      "EvaluatorHoldout: Processed 10030 (100.0%) in 7.05 sec. Users per second: 1422\n",
      "MAP: 0.03141683283482915, RECALL: 0.12563311613032882\n",
      "EvaluatorHoldout: Processed 10052 (100.0%) in 7.79 sec. Users per second: 1291\n",
      "MAP: 0.03069279034733704, RECALL: 0.12104559339269763\n",
      "EvaluatorHoldout: Processed 10045 (100.0%) in 7.83 sec. Users per second: 1284\n",
      "MAP: 0.031289143299596464, RECALL: 0.11840070480465661\n",
      "EvaluatorHoldout: Processed 10068 (100.0%) in 7.85 sec. Users per second: 1283\n",
      "MAP: 0.03144856247359257, RECALL: 0.12406732671645139\n"
     ]
    },
    {
     "name": "stderr",
     "output_type": "stream",
     "text": [
      "[I 2024-01-10 14:08:50,180] Trial 56 finished with value: 0.031126555120582267 and parameters: {'w_slim': 0.8777513315359241, 'w_knn': 0.09589826937598704, 'w_p3': 0.03384078502439683, 'w_rp3': 0.6925043516466645, 'w_top': 1.8770266861043105e-05}. Best is trial 52 with value: 0.03114889326570311.\n"
     ]
    },
    {
     "name": "stdout",
     "output_type": "stream",
     "text": [
      "EvaluatorHoldout: Processed 10057 (100.0%) in 5.82 sec. Users per second: 1729\n",
      "MAP: 0.03104129083272979, RECALL: 0.12187866353215528\n",
      "EvaluatorHoldout: Processed 10040 (100.0%) in 7.27 sec. Users per second: 1380\n",
      "MAP: 0.031087993265035373, RECALL: 0.12037741829789882\n",
      "EvaluatorHoldout: Processed 10017 (100.0%) in 7.00 sec. Users per second: 1430\n",
      "MAP: 0.030641354142402554, RECALL: 0.11893090025114048\n",
      "EvaluatorHoldout: Processed 10037 (100.0%) in 7.36 sec. Users per second: 1364\n",
      "MAP: 0.03096502069327647, RECALL: 0.12199810875147404\n",
      "EvaluatorHoldout: Processed 9989 (100.0%) in 7.95 sec. Users per second: 1256\n",
      "MAP: 0.031210704791143493, RECALL: 0.1258726746090865\n",
      "EvaluatorHoldout: Processed 10024 (100.0%) in 7.06 sec. Users per second: 1419\n",
      "MAP: 0.03145475462065669, RECALL: 0.12163021097402646\n",
      "EvaluatorHoldout: Processed 10030 (100.0%) in 7.31 sec. Users per second: 1371\n",
      "MAP: 0.03137626406494829, RECALL: 0.12564917466726588\n",
      "EvaluatorHoldout: Processed 10052 (100.0%) in 6.92 sec. Users per second: 1453\n",
      "MAP: 0.030723456281305794, RECALL: 0.12215237509909309\n",
      "EvaluatorHoldout: Processed 10045 (100.0%) in 5.99 sec. Users per second: 1676\n",
      "MAP: 0.031299872794646515, RECALL: 0.11901579584861123\n",
      "EvaluatorHoldout: Processed 10068 (100.0%) in 6.88 sec. Users per second: 1464\n",
      "MAP: 0.03148564365489308, RECALL: 0.12427757531489068\n"
     ]
    },
    {
     "name": "stderr",
     "output_type": "stream",
     "text": [
      "[I 2024-01-10 14:10:13,241] Trial 57 finished with value: 0.03112863551410381 and parameters: {'w_slim': 0.8818952700646944, 'w_knn': 0.09068528536943612, 'w_p3': 0.03325295779911968, 'w_rp3': 0.6899803635477214, 'w_top': 2.6361135082600166e-05}. Best is trial 52 with value: 0.03114889326570311.\n"
     ]
    },
    {
     "name": "stdout",
     "output_type": "stream",
     "text": [
      "EvaluatorHoldout: Processed 10057 (100.0%) in 6.63 sec. Users per second: 1517\n",
      "MAP: 0.0310432755515784, RECALL: 0.12262235362912736\n",
      "EvaluatorHoldout: Processed 10040 (100.0%) in 7.14 sec. Users per second: 1407\n",
      "MAP: 0.031089483336495582, RECALL: 0.12103401221654143\n",
      "EvaluatorHoldout: Processed 10017 (100.0%) in 6.91 sec. Users per second: 1449\n",
      "MAP: 0.030613952312814437, RECALL: 0.11908568098874599\n",
      "EvaluatorHoldout: Processed 10037 (100.0%) in 7.07 sec. Users per second: 1420\n",
      "MAP: 0.030994949638718006, RECALL: 0.12221241213680889\n",
      "EvaluatorHoldout: Processed 9989 (100.0%) in 6.31 sec. Users per second: 1582\n",
      "MAP: 0.031224124314523923, RECALL: 0.12631038268067604\n",
      "EvaluatorHoldout: Processed 10024 (100.0%) in 5.81 sec. Users per second: 1726\n",
      "MAP: 0.03144493691331306, RECALL: 0.12240068656058582\n",
      "EvaluatorHoldout: Processed 10030 (100.0%) in 5.68 sec. Users per second: 1766\n",
      "MAP: 0.03140769754229399, RECALL: 0.1260245993116681\n",
      "EvaluatorHoldout: Processed 10052 (100.0%) in 6.81 sec. Users per second: 1477\n",
      "MAP: 0.03076429550464604, RECALL: 0.12275241380613161\n",
      "EvaluatorHoldout: Processed 10045 (100.0%) in 7.18 sec. Users per second: 1400\n",
      "MAP: 0.03131919457678561, RECALL: 0.11909853925288788\n",
      "EvaluatorHoldout: Processed 10068 (100.0%) in 7.11 sec. Users per second: 1416\n",
      "MAP: 0.031469310277415445, RECALL: 0.12474803710757494\n"
     ]
    },
    {
     "name": "stderr",
     "output_type": "stream",
     "text": [
      "[I 2024-01-10 14:11:33,379] Trial 58 finished with value: 0.031137121996858454 and parameters: {'w_slim': 0.8787206992285512, 'w_knn': 0.09186309339320943, 'w_p3': 0.033624463805197395, 'w_rp3': 0.6949067544840952, 'w_top': 3.288019395559296e-05}. Best is trial 52 with value: 0.03114889326570311.\n"
     ]
    },
    {
     "name": "stdout",
     "output_type": "stream",
     "text": [
      "EvaluatorHoldout: Processed 10057 (100.0%) in 7.05 sec. Users per second: 1427\n",
      "MAP: 0.03102830927207003, RECALL: 0.1227356393323066\n",
      "EvaluatorHoldout: Processed 10040 (100.0%) in 7.70 sec. Users per second: 1303\n",
      "MAP: 0.031084657402137738, RECALL: 0.12105699761459417\n",
      "EvaluatorHoldout: Processed 10017 (100.0%) in 7.38 sec. Users per second: 1358\n",
      "MAP: 0.030634441291075173, RECALL: 0.11918712451163908\n",
      "EvaluatorHoldout: Processed 10037 (100.0%) in 7.06 sec. Users per second: 1422\n",
      "MAP: 0.030988402434801113, RECALL: 0.12244803944534431\n",
      "EvaluatorHoldout: Processed 9989 (100.0%) in 8.26 sec. Users per second: 1210\n",
      "MAP: 0.031183957114731247, RECALL: 0.126043392662535\n",
      "EvaluatorHoldout: Processed 10024 (100.0%) in 7.44 sec. Users per second: 1347\n",
      "MAP: 0.03148630984050999, RECALL: 0.12263996955992558\n",
      "EvaluatorHoldout: Processed 10030 (100.0%) in 7.15 sec. Users per second: 1404\n",
      "MAP: 0.03138454477836357, RECALL: 0.12601863002001965\n",
      "EvaluatorHoldout: Processed 10052 (100.0%) in 7.43 sec. Users per second: 1354\n",
      "MAP: 0.030702975479885878, RECALL: 0.12270539012794227\n",
      "EvaluatorHoldout: Processed 10045 (100.0%) in 6.55 sec. Users per second: 1533\n",
      "MAP: 0.03126492687667421, RECALL: 0.11907248940911856\n",
      "EvaluatorHoldout: Processed 10068 (100.0%) in 7.27 sec. Users per second: 1384\n",
      "MAP: 0.03146297636390035, RECALL: 0.1244668192582974\n"
     ]
    },
    {
     "name": "stderr",
     "output_type": "stream",
     "text": [
      "[I 2024-01-10 14:13:00,153] Trial 59 finished with value: 0.031122150085414923 and parameters: {'w_slim': 0.880387548395541, 'w_knn': 0.09018250325471844, 'w_p3': 0.03846925806285624, 'w_rp3': 0.6380262070310901, 'w_top': 3.249988701557449e-05}. Best is trial 52 with value: 0.03114889326570311.\n"
     ]
    },
    {
     "name": "stdout",
     "output_type": "stream",
     "text": [
      "EvaluatorHoldout: Processed 10057 (100.0%) in 7.18 sec. Users per second: 1401\n",
      "MAP: 0.031035155171080554, RECALL: 0.12197947232467533\n",
      "EvaluatorHoldout: Processed 10040 (100.0%) in 7.65 sec. Users per second: 1313\n",
      "MAP: 0.031109822614304988, RECALL: 0.12014425369978245\n",
      "EvaluatorHoldout: Processed 10017 (100.0%) in 6.17 sec. Users per second: 1622\n",
      "MAP: 0.030638513733003237, RECALL: 0.11870495401740017\n",
      "EvaluatorHoldout: Processed 10037 (100.0%) in 6.46 sec. Users per second: 1553\n",
      "MAP: 0.03095137277786506, RECALL: 0.122087573858044\n",
      "EvaluatorHoldout: Processed 9989 (100.0%) in 7.95 sec. Users per second: 1256\n",
      "MAP: 0.03122671446527713, RECALL: 0.12596828941356158\n",
      "EvaluatorHoldout: Processed 10024 (100.0%) in 7.13 sec. Users per second: 1406\n",
      "MAP: 0.0314748175806638, RECALL: 0.1218203331870983\n",
      "EvaluatorHoldout: Processed 10030 (100.0%) in 7.01 sec. Users per second: 1431\n",
      "MAP: 0.03138844973017483, RECALL: 0.1253861479239929\n",
      "EvaluatorHoldout: Processed 10052 (100.0%) in 7.43 sec. Users per second: 1352\n",
      "MAP: 0.03067249903675525, RECALL: 0.12219681720507782\n",
      "EvaluatorHoldout: Processed 10045 (100.0%) in 6.52 sec. Users per second: 1540\n",
      "MAP: 0.03126488342142917, RECALL: 0.11918085809286244\n",
      "EvaluatorHoldout: Processed 10068 (100.0%) in 7.13 sec. Users per second: 1412\n",
      "MAP: 0.03146728437103911, RECALL: 0.12404749788843955\n"
     ]
    },
    {
     "name": "stderr",
     "output_type": "stream",
     "text": [
      "[I 2024-01-10 14:14:24,271] Trial 60 finished with value: 0.031122951290159316 and parameters: {'w_slim': 0.8944882138718305, 'w_knn': 0.08552756300333456, 'w_p3': 0.04389875916574016, 'w_rp3': 0.6635551319014935, 'w_top': 2.6934456597308177e-05}. Best is trial 52 with value: 0.03114889326570311.\n"
     ]
    },
    {
     "name": "stdout",
     "output_type": "stream",
     "text": [
      "EvaluatorHoldout: Processed 10057 (100.0%) in 6.72 sec. Users per second: 1497\n",
      "MAP: 0.031004764903542054, RECALL: 0.12105511076050757\n",
      "EvaluatorHoldout: Processed 10040 (100.0%) in 7.14 sec. Users per second: 1406\n",
      "MAP: 0.03115912540314955, RECALL: 0.11976368856980547\n",
      "EvaluatorHoldout: Processed 10017 (100.0%) in 7.68 sec. Users per second: 1305\n",
      "MAP: 0.030626811404739128, RECALL: 0.11787997407876134\n",
      "EvaluatorHoldout: Processed 10037 (100.0%) in 7.55 sec. Users per second: 1329\n",
      "MAP: 0.031041001469167526, RECALL: 0.12113867413471607\n",
      "EvaluatorHoldout: Processed 9989 (100.0%) in 7.87 sec. Users per second: 1269\n",
      "MAP: 0.031212015757015436, RECALL: 0.12539142197040803\n",
      "EvaluatorHoldout: Processed 10024 (100.0%) in 7.10 sec. Users per second: 1411\n",
      "MAP: 0.03137454236815797, RECALL: 0.12099398381378663\n",
      "EvaluatorHoldout: Processed 10030 (100.0%) in 7.08 sec. Users per second: 1416\n",
      "MAP: 0.03144705565842183, RECALL: 0.12508301874729755\n",
      "EvaluatorHoldout: Processed 10052 (100.0%) in 6.23 sec. Users per second: 1612\n",
      "MAP: 0.03070324787296566, RECALL: 0.120047428709442\n",
      "EvaluatorHoldout: Processed 10045 (100.0%) in 5.83 sec. Users per second: 1722\n",
      "MAP: 0.03124197855681201, RECALL: 0.1172203174579387\n",
      "EvaluatorHoldout: Processed 10068 (100.0%) in 7.48 sec. Users per second: 1347\n",
      "MAP: 0.03140380728506501, RECALL: 0.12331105099830883\n"
     ]
    },
    {
     "name": "stderr",
     "output_type": "stream",
     "text": [
      "[I 2024-01-10 14:15:48,473] Trial 61 finished with value: 0.03112143506790362 and parameters: {'w_slim': 0.8743122691021991, 'w_knn': 0.09578137364350507, 'w_p3': 0.03401458703509522, 'w_rp3': 0.6924577703488264, 'w_top': 6.006453337757372e-06}. Best is trial 52 with value: 0.03114889326570311.\n"
     ]
    },
    {
     "name": "stdout",
     "output_type": "stream",
     "text": [
      "EvaluatorHoldout: Processed 10057 (100.0%) in 6.63 sec. Users per second: 1518\n",
      "MAP: 0.03104291648713463, RECALL: 0.12272066101450538\n",
      "EvaluatorHoldout: Processed 10040 (100.0%) in 7.33 sec. Users per second: 1370\n",
      "MAP: 0.031093348826914828, RECALL: 0.12191770900387378\n",
      "EvaluatorHoldout: Processed 10017 (100.0%) in 7.51 sec. Users per second: 1333\n",
      "MAP: 0.03062414926371215, RECALL: 0.11974043955441457\n",
      "EvaluatorHoldout: Processed 10037 (100.0%) in 8.28 sec. Users per second: 1213\n",
      "MAP: 0.031012258611392146, RECALL: 0.12259688045477736\n",
      "EvaluatorHoldout: Processed 9989 (100.0%) in 6.67 sec. Users per second: 1497\n",
      "MAP: 0.03118445369271303, RECALL: 0.12595165956070994\n",
      "EvaluatorHoldout: Processed 10024 (100.0%) in 6.61 sec. Users per second: 1516\n",
      "MAP: 0.031462608786531586, RECALL: 0.12286427808785268\n",
      "EvaluatorHoldout: Processed 10030 (100.0%) in 6.95 sec. Users per second: 1443\n",
      "MAP: 0.031417343208470054, RECALL: 0.12629856779236925\n",
      "EvaluatorHoldout: Processed 10052 (100.0%) in 7.10 sec. Users per second: 1416\n",
      "MAP: 0.03072987528344708, RECALL: 0.12302435490337947\n",
      "EvaluatorHoldout: Processed 10045 (100.0%) in 7.13 sec. Users per second: 1409\n",
      "MAP: 0.03128856257950354, RECALL: 0.1191032964445648\n",
      "EvaluatorHoldout: Processed 10068 (100.0%) in 7.52 sec. Users per second: 1339\n",
      "MAP: 0.03152461673319872, RECALL: 0.12499676006187241\n"
     ]
    },
    {
     "name": "stderr",
     "output_type": "stream",
     "text": [
      "[I 2024-01-10 14:17:13,696] Trial 62 finished with value: 0.03113801334730178 and parameters: {'w_slim': 0.8847104416276481, 'w_knn': 0.09070188282209242, 'w_p3': 0.033215781858879356, 'w_rp3': 0.692953677904072, 'w_top': 3.7198880045118056e-05}. Best is trial 52 with value: 0.03114889326570311.\n"
     ]
    },
    {
     "name": "stdout",
     "output_type": "stream",
     "text": [
      "EvaluatorHoldout: Processed 10057 (100.0%) in 7.30 sec. Users per second: 1378\n",
      "MAP: 0.031043090100711893, RECALL: 0.12279704491807429\n",
      "EvaluatorHoldout: Processed 10040 (100.0%) in 6.15 sec. Users per second: 1633\n",
      "MAP: 0.03109785856573733, RECALL: 0.12161395512722006\n",
      "EvaluatorHoldout: Processed 10017 (100.0%) in 7.15 sec. Users per second: 1401\n",
      "MAP: 0.030605791582880692, RECALL: 0.11932414728490795\n",
      "EvaluatorHoldout: Processed 10037 (100.0%) in 7.66 sec. Users per second: 1311\n",
      "MAP: 0.03097846302015906, RECALL: 0.1224275506696255\n",
      "EvaluatorHoldout: Processed 9989 (100.0%) in 8.21 sec. Users per second: 1217\n",
      "MAP: 0.031180723398913663, RECALL: 0.12590929080653906\n",
      "EvaluatorHoldout: Processed 10024 (100.0%) in 6.89 sec. Users per second: 1455\n",
      "MAP: 0.031453958911311516, RECALL: 0.12286937966062335\n",
      "EvaluatorHoldout: Processed 10030 (100.0%) in 6.28 sec. Users per second: 1597\n",
      "MAP: 0.03140816043931721, RECALL: 0.12623087065422536\n",
      "EvaluatorHoldout: Processed 10052 (100.0%) in 7.31 sec. Users per second: 1375\n",
      "MAP: 0.03071257634901721, RECALL: 0.12281755847184563\n",
      "EvaluatorHoldout: Processed 10045 (100.0%) in 7.95 sec. Users per second: 1263\n",
      "MAP: 0.03127880885222867, RECALL: 0.11913210008080198\n",
      "EvaluatorHoldout: Processed 10068 (100.0%) in 6.36 sec. Users per second: 1583\n",
      "MAP: 0.03150864991076584, RECALL: 0.12473699954666935\n"
     ]
    },
    {
     "name": "stderr",
     "output_type": "stream",
     "text": [
      "[I 2024-01-10 14:18:38,441] Trial 63 finished with value: 0.03112680811310431 and parameters: {'w_slim': 0.8852177135434158, 'w_knn': 0.0907127255245706, 'w_p3': 0.038556355695568756, 'w_rp3': 0.6710634250177303, 'w_top': 3.455085587111869e-05}. Best is trial 52 with value: 0.03114889326570311.\n"
     ]
    },
    {
     "name": "stdout",
     "output_type": "stream",
     "text": [
      "EvaluatorHoldout: Processed 10057 (100.0%) in 6.67 sec. Users per second: 1508\n",
      "MAP: 0.031052954508508042, RECALL: 0.12307721733028627\n",
      "EvaluatorHoldout: Processed 10040 (100.0%) in 7.00 sec. Users per second: 1434\n",
      "MAP: 0.031054946879150367, RECALL: 0.12177403117788088\n",
      "EvaluatorHoldout: Processed 10017 (100.0%) in 7.07 sec. Users per second: 1416\n",
      "MAP: 0.030612656895975414, RECALL: 0.11964439383406147\n",
      "EvaluatorHoldout: Processed 10037 (100.0%) in 7.20 sec. Users per second: 1394\n",
      "MAP: 0.031022775255364985, RECALL: 0.12241900853432904\n",
      "EvaluatorHoldout: Processed 9989 (100.0%) in 7.23 sec. Users per second: 1381\n",
      "MAP: 0.03118536342357574, RECALL: 0.12614341597095777\n",
      "EvaluatorHoldout: Processed 10024 (100.0%) in 6.23 sec. Users per second: 1608\n",
      "MAP: 0.03147000373706301, RECALL: 0.12273854077497626\n",
      "EvaluatorHoldout: Processed 10030 (100.0%) in 5.47 sec. Users per second: 1835\n",
      "MAP: 0.031427246039659025, RECALL: 0.1265243813267155\n",
      "EvaluatorHoldout: Processed 10052 (100.0%) in 6.85 sec. Users per second: 1467\n",
      "MAP: 0.030679450981878676, RECALL: 0.12287910959681868\n",
      "EvaluatorHoldout: Processed 10045 (100.0%) in 6.95 sec. Users per second: 1446\n",
      "MAP: 0.03129916170881846, RECALL: 0.11909266986202754\n",
      "EvaluatorHoldout: Processed 10068 (100.0%) in 7.22 sec. Users per second: 1394\n",
      "MAP: 0.03153103341720779, RECALL: 0.1252691665379548\n"
     ]
    },
    {
     "name": "stderr",
     "output_type": "stream",
     "text": [
      "[I 2024-01-10 14:20:02,911] Trial 64 finished with value: 0.031133559284720152 and parameters: {'w_slim': 0.9009908189306229, 'w_knn': 0.08661185010387347, 'w_p3': 0.03248137888674325, 'w_rp3': 0.6988930998428544, 'w_top': 3.904495793101843e-05}. Best is trial 52 with value: 0.03114889326570311.\n"
     ]
    },
    {
     "name": "stdout",
     "output_type": "stream",
     "text": [
      "EvaluatorHoldout: Processed 10057 (100.0%) in 6.40 sec. Users per second: 1572\n",
      "MAP: 0.03075993819356675, RECALL: 0.12175744999885257\n",
      "EvaluatorHoldout: Processed 10040 (100.0%) in 5.67 sec. Users per second: 1771\n",
      "MAP: 0.03082109261367252, RECALL: 0.12083610409558311\n",
      "EvaluatorHoldout: Processed 10017 (100.0%) in 6.31 sec. Users per second: 1587\n",
      "MAP: 0.030536706646320487, RECALL: 0.11880382525047402\n",
      "EvaluatorHoldout: Processed 10037 (100.0%) in 7.17 sec. Users per second: 1400\n",
      "MAP: 0.03055941034047067, RECALL: 0.12068325661967019\n",
      "EvaluatorHoldout: Processed 9989 (100.0%) in 7.42 sec. Users per second: 1346\n",
      "MAP: 0.030954800280308576, RECALL: 0.1250750410335598\n",
      "EvaluatorHoldout: Processed 10024 (100.0%) in 6.60 sec. Users per second: 1518\n",
      "MAP: 0.031143616431675264, RECALL: 0.12060795641425706\n",
      "EvaluatorHoldout: Processed 10030 (100.0%) in 6.31 sec. Users per second: 1589\n",
      "MAP: 0.031057331972337225, RECALL: 0.12533359871457628\n",
      "EvaluatorHoldout: Processed 10052 (100.0%) in 6.65 sec. Users per second: 1511\n",
      "MAP: 0.030490556250355703, RECALL: 0.12212045215559826\n",
      "EvaluatorHoldout: Processed 10045 (100.0%) in 6.52 sec. Users per second: 1541\n",
      "MAP: 0.030947059660101153, RECALL: 0.117498939326557\n",
      "EvaluatorHoldout: Processed 10068 (100.0%) in 6.95 sec. Users per second: 1448\n",
      "MAP: 0.031134046420846447, RECALL: 0.12315690323839427\n"
     ]
    },
    {
     "name": "stderr",
     "output_type": "stream",
     "text": [
      "[I 2024-01-10 14:21:30,190] Trial 65 finished with value: 0.030840455880965477 and parameters: {'w_slim': 0.9020774698444918, 'w_knn': 0.025944922561729936, 'w_p3': 0.04890321239955739, 'w_rp3': 0.40676907156094816, 'w_top': 3.882507612681973e-05}. Best is trial 52 with value: 0.03114889326570311.\n"
     ]
    },
    {
     "name": "stdout",
     "output_type": "stream",
     "text": [
      "EvaluatorHoldout: Processed 10057 (100.0%) in 6.65 sec. Users per second: 1512\n",
      "MAP: 0.030980356412891197, RECALL: 0.12238977742189436\n",
      "EvaluatorHoldout: Processed 10040 (100.0%) in 6.91 sec. Users per second: 1453\n",
      "MAP: 0.030968546449124452, RECALL: 0.1215935930465776\n",
      "EvaluatorHoldout: Processed 10017 (100.0%) in 7.03 sec. Users per second: 1426\n",
      "MAP: 0.030554256177197363, RECALL: 0.11948125480257242\n",
      "EvaluatorHoldout: Processed 10037 (100.0%) in 6.86 sec. Users per second: 1464\n",
      "MAP: 0.03090943667161691, RECALL: 0.1220121869977938\n",
      "EvaluatorHoldout: Processed 9989 (100.0%) in 6.82 sec. Users per second: 1464\n",
      "MAP: 0.03122689323335073, RECALL: 0.12569576314980255\n",
      "EvaluatorHoldout: Processed 10024 (100.0%) in 5.98 sec. Users per second: 1675\n",
      "MAP: 0.03148366143477896, RECALL: 0.12260184490120456\n",
      "EvaluatorHoldout: Processed 10030 (100.0%) in 5.40 sec. Users per second: 1857\n",
      "MAP: 0.03130629144313116, RECALL: 0.12577877498917656\n",
      "EvaluatorHoldout: Processed 10052 (100.0%) in 6.89 sec. Users per second: 1459\n",
      "MAP: 0.030690662523134026, RECALL: 0.12278924048862584\n",
      "EvaluatorHoldout: Processed 10045 (100.0%) in 6.81 sec. Users per second: 1475\n",
      "MAP: 0.031336359398579525, RECALL: 0.11886412144618892\n",
      "EvaluatorHoldout: Processed 10068 (100.0%) in 7.11 sec. Users per second: 1417\n",
      "MAP: 0.031470780439046525, RECALL: 0.12468879658566377\n"
     ]
    },
    {
     "name": "stderr",
     "output_type": "stream",
     "text": [
      "[I 2024-01-10 14:22:58,895] Trial 66 finished with value: 0.03109272441828509 and parameters: {'w_slim': 0.8908340559424863, 'w_knn': 0.06327905093921647, 'w_p3': 0.031475551500174594, 'w_rp3': 0.6771770926314811, 'w_top': 3.691118089739656e-05}. Best is trial 52 with value: 0.03114889326570311.\n"
     ]
    },
    {
     "name": "stdout",
     "output_type": "stream",
     "text": [
      "EvaluatorHoldout: Processed 10057 (100.0%) in 6.31 sec. Users per second: 1594\n",
      "MAP: 0.030932948069022734, RECALL: 0.12153764344388114\n",
      "EvaluatorHoldout: Processed 10040 (100.0%) in 6.29 sec. Users per second: 1597\n",
      "MAP: 0.03100547413520552, RECALL: 0.12114077005830805\n",
      "EvaluatorHoldout: Processed 10017 (100.0%) in 7.14 sec. Users per second: 1403\n",
      "MAP: 0.030575747419862614, RECALL: 0.1190372712536162\n",
      "EvaluatorHoldout: Processed 10037 (100.0%) in 7.11 sec. Users per second: 1411\n",
      "MAP: 0.03090652284958387, RECALL: 0.1214649378997775\n",
      "EvaluatorHoldout: Processed 9989 (100.0%) in 7.16 sec. Users per second: 1396\n",
      "MAP: 0.031152152288152272, RECALL: 0.12548463041442987\n",
      "EvaluatorHoldout: Processed 10024 (100.0%) in 6.44 sec. Users per second: 1558\n",
      "MAP: 0.03143109711296092, RECALL: 0.12192498029456346\n",
      "EvaluatorHoldout: Processed 10030 (100.0%) in 6.74 sec. Users per second: 1487\n",
      "MAP: 0.031346796910855, RECALL: 0.12576889206403\n",
      "EvaluatorHoldout: Processed 10052 (100.0%) in 7.12 sec. Users per second: 1412\n",
      "MAP: 0.030643155590927562, RECALL: 0.12256535058598685\n",
      "EvaluatorHoldout: Processed 10045 (100.0%) in 6.86 sec. Users per second: 1464\n",
      "MAP: 0.031351114429511766, RECALL: 0.11831818239379903\n",
      "EvaluatorHoldout: Processed 10068 (100.0%) in 7.01 sec. Users per second: 1437\n",
      "MAP: 0.031379780193099865, RECALL: 0.12402114265035358\n"
     ]
    },
    {
     "name": "stderr",
     "output_type": "stream",
     "text": [
      "[I 2024-01-10 14:24:30,234] Trial 67 finished with value: 0.03107247889991821 and parameters: {'w_slim': 0.8655762201785726, 'w_knn': 0.0428972398883185, 'w_p3': 0.04291303262642861, 'w_rp3': 0.6992278921212762, 'w_top': 3.107437154171354e-05}. Best is trial 52 with value: 0.03114889326570311.\n"
     ]
    },
    {
     "name": "stdout",
     "output_type": "stream",
     "text": [
      "EvaluatorHoldout: Processed 10057 (100.0%) in 6.68 sec. Users per second: 1506\n",
      "MAP: 0.031023029841017513, RECALL: 0.1215169417458967\n",
      "EvaluatorHoldout: Processed 10040 (100.0%) in 6.91 sec. Users per second: 1453\n",
      "MAP: 0.031034121450705412, RECALL: 0.12009962418541512\n",
      "EvaluatorHoldout: Processed 10017 (100.0%) in 6.69 sec. Users per second: 1497\n",
      "MAP: 0.030625420911434765, RECALL: 0.11858054248489162\n",
      "EvaluatorHoldout: Processed 10037 (100.0%) in 6.70 sec. Users per second: 1499\n",
      "MAP: 0.030922104087891016, RECALL: 0.12173509595508453\n",
      "EvaluatorHoldout: Processed 9989 (100.0%) in 7.11 sec. Users per second: 1406\n",
      "MAP: 0.031223405269606406, RECALL: 0.12575261540266833\n",
      "EvaluatorHoldout: Processed 10024 (100.0%) in 6.51 sec. Users per second: 1541\n",
      "MAP: 0.0314096921357, RECALL: 0.12187712155353617\n",
      "EvaluatorHoldout: Processed 10030 (100.0%) in 6.56 sec. Users per second: 1530\n",
      "MAP: 0.03129755178907746, RECALL: 0.12515656082567567\n",
      "EvaluatorHoldout: Processed 10052 (100.0%) in 6.98 sec. Users per second: 1440\n",
      "MAP: 0.030662550767753986, RECALL: 0.12198366564821547\n",
      "EvaluatorHoldout: Processed 10045 (100.0%) in 7.16 sec. Users per second: 1402\n",
      "MAP: 0.031310017619126794, RECALL: 0.11863869998543304\n",
      "EvaluatorHoldout: Processed 10068 (100.0%) in 7.41 sec. Users per second: 1359\n",
      "MAP: 0.0313823539613173, RECALL: 0.12369659274787531\n"
     ]
    },
    {
     "name": "stderr",
     "output_type": "stream",
     "text": [
      "[I 2024-01-10 14:25:58,742] Trial 68 finished with value: 0.031089024783363062 and parameters: {'w_slim': 0.9972118879323782, 'w_knn': 0.08695003979077809, 'w_p3': 0.03543946056626975, 'w_rp3': 0.6674791678536094, 'w_top': 2.8606512081390235e-05}. Best is trial 52 with value: 0.03114889326570311.\n"
     ]
    },
    {
     "name": "stdout",
     "output_type": "stream",
     "text": [
      "EvaluatorHoldout: Processed 10057 (100.0%) in 6.77 sec. Users per second: 1485\n",
      "MAP: 0.031056687200418133, RECALL: 0.12273089040222337\n",
      "EvaluatorHoldout: Processed 10040 (100.0%) in 6.60 sec. Users per second: 1520\n",
      "MAP: 0.031053231518371225, RECALL: 0.12163289671761547\n",
      "EvaluatorHoldout: Processed 10017 (100.0%) in 5.93 sec. Users per second: 1689\n",
      "MAP: 0.030631822726761467, RECALL: 0.11977191009546935\n",
      "EvaluatorHoldout: Processed 10037 (100.0%) in 6.04 sec. Users per second: 1662\n",
      "MAP: 0.030996578532446122, RECALL: 0.12285242270649252\n",
      "EvaluatorHoldout: Processed 9989 (100.0%) in 7.35 sec. Users per second: 1359\n",
      "MAP: 0.031153681748336146, RECALL: 0.1258548905766566\n",
      "EvaluatorHoldout: Processed 10024 (100.0%) in 7.03 sec. Users per second: 1426\n",
      "MAP: 0.03147963142426453, RECALL: 0.12287855424736978\n",
      "EvaluatorHoldout: Processed 10030 (100.0%) in 6.85 sec. Users per second: 1464\n",
      "MAP: 0.03137913640032309, RECALL: 0.1263851513787521\n",
      "EvaluatorHoldout: Processed 10052 (100.0%) in 7.08 sec. Users per second: 1421\n",
      "MAP: 0.030710480106620523, RECALL: 0.12289467236061165\n",
      "EvaluatorHoldout: Processed 10045 (100.0%) in 6.47 sec. Users per second: 1551\n",
      "MAP: 0.03132096043992526, RECALL: 0.11904948498584955\n",
      "EvaluatorHoldout: Processed 10068 (100.0%) in 7.11 sec. Users per second: 1415\n",
      "MAP: 0.03148375964079214, RECALL: 0.12455484964890347\n"
     ]
    },
    {
     "name": "stderr",
     "output_type": "stream",
     "text": [
      "[I 2024-01-10 14:27:22,037] Trial 69 finished with value: 0.031126596973825867 and parameters: {'w_slim': 0.9222573076382943, 'w_knn': 0.0965473443141282, 'w_p3': 0.029443959550651086, 'w_rp3': 0.6847472569207377, 'w_top': 3.886523665202394e-05}. Best is trial 52 with value: 0.03114889326570311.\n"
     ]
    },
    {
     "name": "stdout",
     "output_type": "stream",
     "text": [
      "EvaluatorHoldout: Processed 10057 (100.0%) in 5.77 sec. Users per second: 1743\n",
      "MAP: 0.030986010691439952, RECALL: 0.12169660298550693\n",
      "EvaluatorHoldout: Processed 10040 (100.0%) in 6.47 sec. Users per second: 1552\n",
      "MAP: 0.030917555966609996, RECALL: 0.12107162942784067\n",
      "EvaluatorHoldout: Processed 10017 (100.0%) in 6.71 sec. Users per second: 1493\n",
      "MAP: 0.030640668799548833, RECALL: 0.11935318701221072\n",
      "EvaluatorHoldout: Processed 10037 (100.0%) in 7.18 sec. Users per second: 1397\n",
      "MAP: 0.030950230180080078, RECALL: 0.12222311608702847\n",
      "EvaluatorHoldout: Processed 9989 (100.0%) in 7.31 sec. Users per second: 1366\n",
      "MAP: 0.0311084057542665, RECALL: 0.12555926883694724\n",
      "EvaluatorHoldout: Processed 10024 (100.0%) in 6.59 sec. Users per second: 1520\n",
      "MAP: 0.03147749369766557, RECALL: 0.12278290552405774\n",
      "EvaluatorHoldout: Processed 10030 (100.0%) in 6.49 sec. Users per second: 1545\n",
      "MAP: 0.0312435827438322, RECALL: 0.12655838705697242\n",
      "EvaluatorHoldout: Processed 10052 (100.0%) in 7.27 sec. Users per second: 1383\n",
      "MAP: 0.030700026528717683, RECALL: 0.12233450598620481\n",
      "EvaluatorHoldout: Processed 10045 (100.0%) in 6.74 sec. Users per second: 1491\n",
      "MAP: 0.031173935544020294, RECALL: 0.11876768920974345\n",
      "EvaluatorHoldout: Processed 10068 (100.0%) in 6.72 sec. Users per second: 1498\n",
      "MAP: 0.03130557053307375, RECALL: 0.12437203190067272\n"
     ]
    },
    {
     "name": "stderr",
     "output_type": "stream",
     "text": [
      "[I 2024-01-10 14:28:42,745] Trial 70 finished with value: 0.031050348043925487 and parameters: {'w_slim': 0.8353205539326516, 'w_knn': 0.07796789695687074, 'w_p3': 0.03704127442879942, 'w_rp3': 0.44189724178965406, 'w_top': 3.3056439899421614e-05}. Best is trial 52 with value: 0.03114889326570311.\n"
     ]
    },
    {
     "name": "stdout",
     "output_type": "stream",
     "text": [
      "EvaluatorHoldout: Processed 10057 (100.0%) in 6.67 sec. Users per second: 1508\n",
      "MAP: 0.03104713056214514, RECALL: 0.1218890140917282\n",
      "EvaluatorHoldout: Processed 10040 (100.0%) in 6.46 sec. Users per second: 1555\n",
      "MAP: 0.031102494782773944, RECALL: 0.12041317271612333\n",
      "EvaluatorHoldout: Processed 10017 (100.0%) in 7.24 sec. Users per second: 1383\n",
      "MAP: 0.030632389224033628, RECALL: 0.1189537337745762\n",
      "EvaluatorHoldout: Processed 10037 (100.0%) in 6.86 sec. Users per second: 1463\n",
      "MAP: 0.030962854106473044, RECALL: 0.12201640413999382\n",
      "EvaluatorHoldout: Processed 9989 (100.0%) in 7.13 sec. Users per second: 1401\n",
      "MAP: 0.031197650749157622, RECALL: 0.12585841522401653\n",
      "EvaluatorHoldout: Processed 10024 (100.0%) in 6.61 sec. Users per second: 1518\n",
      "MAP: 0.031459513041715986, RECALL: 0.12161030863325353\n",
      "EvaluatorHoldout: Processed 10030 (100.0%) in 5.87 sec. Users per second: 1709\n",
      "MAP: 0.03137367263289525, RECALL: 0.1256954278491123\n",
      "EvaluatorHoldout: Processed 10052 (100.0%) in 6.07 sec. Users per second: 1657\n",
      "MAP: 0.0307128408466454, RECALL: 0.12215488876599313\n",
      "EvaluatorHoldout: Processed 10045 (100.0%) in 6.77 sec. Users per second: 1483\n",
      "MAP: 0.031282814635726734, RECALL: 0.11886700201875063\n",
      "EvaluatorHoldout: Processed 10068 (100.0%) in 7.23 sec. Users per second: 1393\n",
      "MAP: 0.031499572746593325, RECALL: 0.12426266050185314\n"
     ]
    },
    {
     "name": "stderr",
     "output_type": "stream",
     "text": [
      "[I 2024-01-10 14:30:03,105] Trial 71 finished with value: 0.03112709333281601 and parameters: {'w_slim': 0.8829686880032676, 'w_knn': 0.09160591503658186, 'w_p3': 0.03298768804892867, 'w_rp3': 0.6900448415997885, 'w_top': 2.631554704287984e-05}. Best is trial 52 with value: 0.03114889326570311.\n"
     ]
    },
    {
     "name": "stdout",
     "output_type": "stream",
     "text": [
      "EvaluatorHoldout: Processed 10057 (100.0%) in 6.30 sec. Users per second: 1597\n",
      "MAP: 0.031030286099392422, RECALL: 0.12246159090437789\n",
      "EvaluatorHoldout: Processed 10040 (100.0%) in 6.55 sec. Users per second: 1533\n",
      "MAP: 0.031090989217732564, RECALL: 0.12149487354110364\n",
      "EvaluatorHoldout: Processed 10017 (100.0%) in 6.68 sec. Users per second: 1499\n",
      "MAP: 0.030618508060107488, RECALL: 0.1194943967366853\n",
      "EvaluatorHoldout: Processed 10037 (100.0%) in 6.27 sec. Users per second: 1600\n",
      "MAP: 0.030980060284882798, RECALL: 0.12208877961064814\n",
      "EvaluatorHoldout: Processed 9989 (100.0%) in 6.22 sec. Users per second: 1605\n",
      "MAP: 0.031209946019987368, RECALL: 0.12600039384589126\n",
      "EvaluatorHoldout: Processed 10024 (100.0%) in 6.81 sec. Users per second: 1472\n",
      "MAP: 0.031509187473872484, RECALL: 0.1229093073078312\n",
      "EvaluatorHoldout: Processed 10030 (100.0%) in 6.67 sec. Users per second: 1503\n",
      "MAP: 0.03136976768108392, RECALL: 0.12585252289360344\n",
      "EvaluatorHoldout: Processed 10052 (100.0%) in 7.06 sec. Users per second: 1423\n",
      "MAP: 0.030664875978246787, RECALL: 0.12279760496993403\n",
      "EvaluatorHoldout: Processed 10045 (100.0%) in 6.59 sec. Users per second: 1525\n",
      "MAP: 0.03128344276154148, RECALL: 0.11889229885912535\n",
      "EvaluatorHoldout: Processed 10068 (100.0%) in 6.98 sec. Users per second: 1442\n",
      "MAP: 0.03150205586141254, RECALL: 0.12450492400644515\n"
     ]
    },
    {
     "name": "stderr",
     "output_type": "stream",
     "text": [
      "[I 2024-01-10 14:31:22,746] Trial 72 finished with value: 0.031125911943825985 and parameters: {'w_slim': 0.9000494489616616, 'w_knn': 0.08470208168895475, 'w_p3': 0.032698004134288944, 'w_rp3': 0.6567917016725007, 'w_top': 3.474089192500271e-05}. Best is trial 52 with value: 0.03114889326570311.\n"
     ]
    },
    {
     "name": "stdout",
     "output_type": "stream",
     "text": [
      "EvaluatorHoldout: Processed 10057 (100.0%) in 6.11 sec. Users per second: 1645\n",
      "MAP: 0.031005131859512126, RECALL: 0.1235641471102839\n",
      "EvaluatorHoldout: Processed 10040 (100.0%) in 6.21 sec. Users per second: 1617\n",
      "MAP: 0.031126924840321542, RECALL: 0.12248363780432975\n",
      "EvaluatorHoldout: Processed 10017 (100.0%) in 6.42 sec. Users per second: 1560\n",
      "MAP: 0.030672380762228193, RECALL: 0.12000877081970714\n",
      "EvaluatorHoldout: Processed 10037 (100.0%) in 7.00 sec. Users per second: 1434\n",
      "MAP: 0.030984674165903964, RECALL: 0.12258756391382783\n",
      "EvaluatorHoldout: Processed 9989 (100.0%) in 7.41 sec. Users per second: 1348\n",
      "MAP: 0.031175328575719235, RECALL: 0.12642289314165334\n",
      "EvaluatorHoldout: Processed 10024 (100.0%) in 6.74 sec. Users per second: 1488\n",
      "MAP: 0.03149467864426983, RECALL: 0.12344995829031018\n",
      "EvaluatorHoldout: Processed 10030 (100.0%) in 6.55 sec. Users per second: 1530\n",
      "MAP: 0.031420899998417705, RECALL: 0.12769743893324947\n",
      "EvaluatorHoldout: Processed 10052 (100.0%) in 8.29 sec. Users per second: 1213\n",
      "MAP: 0.030706871885244652, RECALL: 0.12404965481001329\n",
      "EvaluatorHoldout: Processed 10045 (100.0%) in 6.53 sec. Users per second: 1539\n",
      "MAP: 0.031264326404197136, RECALL: 0.11888336976996947\n",
      "EvaluatorHoldout: Processed 10068 (100.0%) in 7.06 sec. Users per second: 1427\n",
      "MAP: 0.031480748371392274, RECALL: 0.1251217122055881\n"
     ]
    },
    {
     "name": "stderr",
     "output_type": "stream",
     "text": [
      "[I 2024-01-10 14:32:44,576] Trial 73 finished with value: 0.031133196550720665 and parameters: {'w_slim': 0.8696102721240976, 'w_knn': 0.089749568109229, 'w_p3': 0.027377264417189275, 'w_rp3': 0.6783064904484971, 'w_top': 4.861934119580208e-05}. Best is trial 52 with value: 0.03114889326570311.\n"
     ]
    },
    {
     "name": "stdout",
     "output_type": "stream",
     "text": [
      "EvaluatorHoldout: Processed 10057 (100.0%) in 6.95 sec. Users per second: 1447\n",
      "MAP: 0.03104805781647801, RECALL: 0.12302955519097193\n",
      "EvaluatorHoldout: Processed 10040 (100.0%) in 7.56 sec. Users per second: 1327\n",
      "MAP: 0.031073851419718246, RECALL: 0.12173592918814352\n",
      "EvaluatorHoldout: Processed 10017 (100.0%) in 7.47 sec. Users per second: 1340\n",
      "MAP: 0.030637768967358803, RECALL: 0.11972916036220456\n",
      "EvaluatorHoldout: Processed 10037 (100.0%) in 6.96 sec. Users per second: 1442\n",
      "MAP: 0.03100923804146908, RECALL: 0.12252382840741184\n",
      "EvaluatorHoldout: Processed 9989 (100.0%) in 6.65 sec. Users per second: 1502\n",
      "MAP: 0.031216969618962056, RECALL: 0.12623692463553982\n",
      "EvaluatorHoldout: Processed 10024 (100.0%) in 5.81 sec. Users per second: 1725\n",
      "MAP: 0.03145931906282089, RECALL: 0.12273147040162774\n",
      "EvaluatorHoldout: Processed 10030 (100.0%) in 5.95 sec. Users per second: 1685\n",
      "MAP: 0.03145467961195801, RECALL: 0.1266885765411886\n",
      "EvaluatorHoldout: Processed 10052 (100.0%) in 5.99 sec. Users per second: 1679\n",
      "MAP: 0.030730897744427752, RECALL: 0.12306117368636343\n",
      "EvaluatorHoldout: Processed 10045 (100.0%) in 5.80 sec. Users per second: 1733\n",
      "MAP: 0.03130672292145679, RECALL: 0.11913881110333434\n",
      "EvaluatorHoldout: Processed 10068 (100.0%) in 6.35 sec. Users per second: 1585\n",
      "MAP: 0.03148885593834971, RECALL: 0.12528347965266295\n"
     ]
    },
    {
     "name": "stderr",
     "output_type": "stream",
     "text": [
      "[I 2024-01-10 14:34:03,574] Trial 74 finished with value: 0.03114263611429994 and parameters: {'w_slim': 0.8669499269015098, 'w_knn': 0.0943143652015347, 'w_p3': 0.026799621996412774, 'w_rp3': 0.6774956091537497, 'w_top': 3.973015820714179e-05}. Best is trial 52 with value: 0.03114889326570311.\n"
     ]
    },
    {
     "name": "stdout",
     "output_type": "stream",
     "text": [
      "EvaluatorHoldout: Processed 10057 (100.0%) in 5.39 sec. Users per second: 1866\n",
      "MAP: 0.03100537255106238, RECALL: 0.12346582905722275\n",
      "EvaluatorHoldout: Processed 10040 (100.0%) in 5.69 sec. Users per second: 1765\n",
      "MAP: 0.031098988964776093, RECALL: 0.12246855510868371\n",
      "EvaluatorHoldout: Processed 10017 (100.0%) in 5.50 sec. Users per second: 1821\n",
      "MAP: 0.03055606659155648, RECALL: 0.1197126815557462\n",
      "EvaluatorHoldout: Processed 10037 (100.0%) in 6.07 sec. Users per second: 1654\n",
      "MAP: 0.030904285097520492, RECALL: 0.12251193514125588\n",
      "EvaluatorHoldout: Processed 9989 (100.0%) in 6.49 sec. Users per second: 1539\n",
      "MAP: 0.03118394519685967, RECALL: 0.1260583147532486\n",
      "EvaluatorHoldout: Processed 10024 (100.0%) in 5.99 sec. Users per second: 1674\n",
      "MAP: 0.03151964649919582, RECALL: 0.12330564988013311\n",
      "EvaluatorHoldout: Processed 10030 (100.0%) in 5.74 sec. Users per second: 1749\n",
      "MAP: 0.03139902910316692, RECALL: 0.1270276032776843\n",
      "EvaluatorHoldout: Processed 10052 (100.0%) in 5.96 sec. Users per second: 1687\n",
      "MAP: 0.03066279947447902, RECALL: 0.1235711345943552\n",
      "EvaluatorHoldout: Processed 10045 (100.0%) in 5.93 sec. Users per second: 1694\n",
      "MAP: 0.031243606153262802, RECALL: 0.11866451038462131\n",
      "EvaluatorHoldout: Processed 10068 (100.0%) in 6.25 sec. Users per second: 1612\n",
      "MAP: 0.03136877960030551, RECALL: 0.12454555143532524\n"
     ]
    },
    {
     "name": "stderr",
     "output_type": "stream",
     "text": [
      "[I 2024-01-10 14:35:15,994] Trial 75 finished with value: 0.03109425192321852 and parameters: {'w_slim': 0.8688071452425677, 'w_knn': 0.07307769979827695, 'w_p3': 0.026053279956912076, 'w_rp3': 0.6659703851455021, 'w_top': 4.9583289409725944e-05}. Best is trial 52 with value: 0.03114889326570311.\n"
     ]
    },
    {
     "name": "stdout",
     "output_type": "stream",
     "text": [
      "EvaluatorHoldout: Processed 10057 (100.0%) in 6.02 sec. Users per second: 1672\n",
      "MAP: 0.031033600540411908, RECALL: 0.12337055849523164\n",
      "EvaluatorHoldout: Processed 10040 (100.0%) in 6.08 sec. Users per second: 1652\n",
      "MAP: 0.031077242616834547, RECALL: 0.12191490331860727\n",
      "EvaluatorHoldout: Processed 10017 (100.0%) in 6.19 sec. Users per second: 1617\n",
      "MAP: 0.03069133267096747, RECALL: 0.11978981632299132\n",
      "EvaluatorHoldout: Processed 10037 (100.0%) in 5.80 sec. Users per second: 1731\n",
      "MAP: 0.030982665724122633, RECALL: 0.12254058126037026\n",
      "EvaluatorHoldout: Processed 9989 (100.0%) in 6.50 sec. Users per second: 1536\n",
      "MAP: 0.031181049154069752, RECALL: 0.12570846867843427\n",
      "EvaluatorHoldout: Processed 10024 (100.0%) in 5.82 sec. Users per second: 1723\n",
      "MAP: 0.031437561756546405, RECALL: 0.12294520268707942\n",
      "EvaluatorHoldout: Processed 10030 (100.0%) in 5.29 sec. Users per second: 1895\n",
      "MAP: 0.03145899602778992, RECALL: 0.1268194035365418\n",
      "EvaluatorHoldout: Processed 10052 (100.0%) in 5.78 sec. Users per second: 1740\n",
      "MAP: 0.030774942521112805, RECALL: 0.12344033631185469\n",
      "EvaluatorHoldout: Processed 10045 (100.0%) in 5.92 sec. Users per second: 1697\n",
      "MAP: 0.031320245403620384, RECALL: 0.11934028542128453\n",
      "EvaluatorHoldout: Processed 10068 (100.0%) in 5.93 sec. Users per second: 1699\n",
      "MAP: 0.03147144654445045, RECALL: 0.12527634452632425\n"
     ]
    },
    {
     "name": "stderr",
     "output_type": "stream",
     "text": [
      "[I 2024-01-10 14:36:28,728] Trial 76 finished with value: 0.031142908295992627 and parameters: {'w_slim': 0.8588197507378387, 'w_knn': 0.09394636760170812, 'w_p3': 0.027494062945500584, 'w_rp3': 0.6985145637481437, 'w_top': 4.120186092039252e-05}. Best is trial 52 with value: 0.03114889326570311.\n"
     ]
    },
    {
     "name": "stdout",
     "output_type": "stream",
     "text": [
      "EvaluatorHoldout: Processed 10057 (100.0%) in 5.24 sec. Users per second: 1921\n",
      "MAP: 0.030973029130780164, RECALL: 0.12357265062979876\n",
      "EvaluatorHoldout: Processed 10040 (100.0%) in 5.21 sec. Users per second: 1927\n",
      "MAP: 0.031121268892683508, RECALL: 0.12251330285562514\n",
      "EvaluatorHoldout: Processed 10017 (100.0%) in 5.64 sec. Users per second: 1777\n",
      "MAP: 0.030660298128103065, RECALL: 0.1200105991284501\n",
      "EvaluatorHoldout: Processed 10037 (100.0%) in 6.46 sec. Users per second: 1553\n",
      "MAP: 0.030990145983670274, RECALL: 0.12291593947790656\n",
      "EvaluatorHoldout: Processed 9989 (100.0%) in 6.47 sec. Users per second: 1545\n",
      "MAP: 0.031173286647058054, RECALL: 0.12627573747030943\n",
      "EvaluatorHoldout: Processed 10024 (100.0%) in 6.01 sec. Users per second: 1668\n",
      "MAP: 0.03151189526089786, RECALL: 0.12365988156249648\n",
      "EvaluatorHoldout: Processed 10030 (100.0%) in 6.00 sec. Users per second: 1672\n",
      "MAP: 0.03138928452737053, RECALL: 0.12714634391440957\n",
      "EvaluatorHoldout: Processed 10052 (100.0%) in 6.24 sec. Users per second: 1611\n",
      "MAP: 0.030691542865986077, RECALL: 0.12372117100566866\n",
      "EvaluatorHoldout: Processed 10045 (100.0%) in 5.70 sec. Users per second: 1762\n",
      "MAP: 0.03123594617870394, RECALL: 0.11886684571131764\n",
      "EvaluatorHoldout: Processed 10068 (100.0%) in 5.56 sec. Users per second: 1812\n",
      "MAP: 0.031438227986202015, RECALL: 0.12495373897595158\n"
     ]
    },
    {
     "name": "stderr",
     "output_type": "stream",
     "text": [
      "[I 2024-01-10 14:37:40,696] Trial 77 finished with value: 0.031118492560145546 and parameters: {'w_slim': 0.8738052609992698, 'w_knn': 0.08804690171974164, 'w_p3': 0.029095727103930394, 'w_rp3': 0.6975542194922535, 'w_top': 5.252166794331983e-05}. Best is trial 52 with value: 0.03114889326570311.\n"
     ]
    },
    {
     "name": "stdout",
     "output_type": "stream",
     "text": [
      "EvaluatorHoldout: Processed 10057 (100.0%) in 5.14 sec. Users per second: 1956\n",
      "MAP: 0.03102996649257983, RECALL: 0.1235969846773406\n",
      "EvaluatorHoldout: Processed 10040 (100.0%) in 6.08 sec. Users per second: 1651\n",
      "MAP: 0.031099992885600756, RECALL: 0.12240772278966987\n",
      "EvaluatorHoldout: Processed 10017 (100.0%) in 5.68 sec. Users per second: 1762\n",
      "MAP: 0.030667678438717875, RECALL: 0.11990862048020476\n",
      "EvaluatorHoldout: Processed 10037 (100.0%) in 6.18 sec. Users per second: 1624\n",
      "MAP: 0.030991102761054264, RECALL: 0.12330784354713026\n",
      "EvaluatorHoldout: Processed 9989 (100.0%) in 6.53 sec. Users per second: 1529\n",
      "MAP: 0.031162246725366417, RECALL: 0.1261094586210588\n",
      "EvaluatorHoldout: Processed 10024 (100.0%) in 6.01 sec. Users per second: 1668\n",
      "MAP: 0.03154299918291367, RECALL: 0.12385051858914105\n",
      "EvaluatorHoldout: Processed 10030 (100.0%) in 5.92 sec. Users per second: 1695\n",
      "MAP: 0.03135626453971448, RECALL: 0.1273570977809353\n",
      "EvaluatorHoldout: Processed 10052 (100.0%) in 6.07 sec. Users per second: 1656\n",
      "MAP: 0.03072777509332454, RECALL: 0.12346314401086625\n",
      "EvaluatorHoldout: Processed 10045 (100.0%) in 5.73 sec. Users per second: 1754\n",
      "MAP: 0.03125317815860392, RECALL: 0.11898111630510641\n",
      "EvaluatorHoldout: Processed 10068 (100.0%) in 6.06 sec. Users per second: 1662\n",
      "MAP: 0.03139999590089011, RECALL: 0.12507662471642286\n"
     ]
    },
    {
     "name": "stderr",
     "output_type": "stream",
     "text": [
      "[I 2024-01-10 14:38:53,538] Trial 78 finished with value: 0.031123120017876583 and parameters: {'w_slim': 0.8583158514031236, 'w_knn': 0.09997506285330143, 'w_p3': 0.026975488948463022, 'w_rp3': 0.6335168200447896, 'w_top': 4.829023463948853e-05}. Best is trial 52 with value: 0.03114889326570311.\n"
     ]
    },
    {
     "name": "stdout",
     "output_type": "stream",
     "text": [
      "EvaluatorHoldout: Processed 10057 (100.0%) in 5.83 sec. Users per second: 1726\n",
      "MAP: 0.031044893314457023, RECALL: 0.12338097506948267\n",
      "EvaluatorHoldout: Processed 10040 (100.0%) in 5.95 sec. Users per second: 1687\n",
      "MAP: 0.03108244403339052, RECALL: 0.12209022222515792\n",
      "EvaluatorHoldout: Processed 10017 (100.0%) in 6.06 sec. Users per second: 1652\n",
      "MAP: 0.0306818725626754, RECALL: 0.1197161856199345\n",
      "EvaluatorHoldout: Processed 10037 (100.0%) in 6.15 sec. Users per second: 1631\n",
      "MAP: 0.03100754984335767, RECALL: 0.12283278664581504\n",
      "EvaluatorHoldout: Processed 9989 (100.0%) in 6.54 sec. Users per second: 1526\n",
      "MAP: 0.031185987125520894, RECALL: 0.12610566315064822\n",
      "EvaluatorHoldout: Processed 10024 (100.0%) in 5.86 sec. Users per second: 1709\n",
      "MAP: 0.0314806448650226, RECALL: 0.12309506611684817\n",
      "EvaluatorHoldout: Processed 10030 (100.0%) in 5.68 sec. Users per second: 1767\n",
      "MAP: 0.03142772871860636, RECALL: 0.12691646380266414\n",
      "EvaluatorHoldout: Processed 10052 (100.0%) in 5.42 sec. Users per second: 1853\n",
      "MAP: 0.0307484532810342, RECALL: 0.12347616142465698\n",
      "EvaluatorHoldout: Processed 10045 (100.0%) in 5.33 sec. Users per second: 1884\n",
      "MAP: 0.031296965243705094, RECALL: 0.11929677787678172\n",
      "EvaluatorHoldout: Processed 10068 (100.0%) in 5.67 sec. Users per second: 1775\n",
      "MAP: 0.0314958204841998, RECALL: 0.12545533505950882\n"
     ]
    },
    {
     "name": "stderr",
     "output_type": "stream",
     "text": [
      "[I 2024-01-10 14:40:05,555] Trial 79 finished with value: 0.03114523594719696 and parameters: {'w_slim': 0.8355041949645879, 'w_knn': 0.09310507855668232, 'w_p3': 0.030461093597944404, 'w_rp3': 0.6464026345239251, 'w_top': 4.124096305080309e-05}. Best is trial 52 with value: 0.03114889326570311.\n"
     ]
    },
    {
     "name": "stdout",
     "output_type": "stream",
     "text": [
      "EvaluatorHoldout: Processed 10057 (100.0%) in 5.27 sec. Users per second: 1907\n",
      "MAP: 0.03105182602025621, RECALL: 0.12339860670865396\n",
      "EvaluatorHoldout: Processed 10040 (100.0%) in 5.41 sec. Users per second: 1855\n",
      "MAP: 0.031100731992664537, RECALL: 0.12207356611045363\n",
      "EvaluatorHoldout: Processed 10017 (100.0%) in 5.80 sec. Users per second: 1727\n",
      "MAP: 0.030709278353782874, RECALL: 0.11996423522913421\n",
      "EvaluatorHoldout: Processed 10037 (100.0%) in 5.89 sec. Users per second: 1704\n",
      "MAP: 0.030986824938205152, RECALL: 0.1228475609646385\n",
      "EvaluatorHoldout: Processed 9989 (100.0%) in 5.78 sec. Users per second: 1729\n",
      "MAP: 0.03115268461974868, RECALL: 0.12599224808658271\n",
      "EvaluatorHoldout: Processed 10024 (100.0%) in 5.26 sec. Users per second: 1907\n",
      "MAP: 0.031508906402412246, RECALL: 0.12309279353513065\n",
      "EvaluatorHoldout: Processed 10030 (100.0%) in 5.40 sec. Users per second: 1859\n",
      "MAP: 0.03144751855544506, RECALL: 0.12702420969222833\n",
      "EvaluatorHoldout: Processed 10052 (100.0%) in 6.09 sec. Users per second: 1652\n",
      "MAP: 0.03073317558221092, RECALL: 0.12362544008801539\n",
      "EvaluatorHoldout: Processed 10045 (100.0%) in 5.84 sec. Users per second: 1720\n",
      "MAP: 0.03128696263639039, RECALL: 0.11913726213692287\n",
      "EvaluatorHoldout: Processed 10068 (100.0%) in 6.15 sec. Users per second: 1637\n",
      "MAP: 0.03146926297999033, RECALL: 0.12539791412126722\n"
     ]
    },
    {
     "name": "stderr",
     "output_type": "stream",
     "text": [
      "[I 2024-01-10 14:41:15,875] Trial 80 finished with value: 0.03114471720811064 and parameters: {'w_slim': 0.820585052239937, 'w_knn': 0.09384692428814063, 'w_p3': 0.03096370591272183, 'w_rp3': 0.6466104564046037, 'w_top': 4.103204869636122e-05}. Best is trial 52 with value: 0.03114889326570311.\n"
     ]
    },
    {
     "name": "stdout",
     "output_type": "stream",
     "text": [
      "EvaluatorHoldout: Processed 10057 (100.0%) in 5.51 sec. Users per second: 1824\n",
      "MAP: 0.031049766331908365, RECALL: 0.12338892993155152\n",
      "EvaluatorHoldout: Processed 10040 (100.0%) in 5.48 sec. Users per second: 1833\n",
      "MAP: 0.031109905615632975, RECALL: 0.12222296604976368\n",
      "EvaluatorHoldout: Processed 10017 (100.0%) in 6.02 sec. Users per second: 1664\n",
      "MAP: 0.030708501895983367, RECALL: 0.12000599225475779\n",
      "EvaluatorHoldout: Processed 10037 (100.0%) in 6.11 sec. Users per second: 1642\n",
      "MAP: 0.031003272020508583, RECALL: 0.12297936495653511\n",
      "EvaluatorHoldout: Processed 9989 (100.0%) in 6.38 sec. Users per second: 1565\n",
      "MAP: 0.03115043611464704, RECALL: 0.12601993727484856\n",
      "EvaluatorHoldout: Processed 10024 (100.0%) in 5.93 sec. Users per second: 1690\n",
      "MAP: 0.031510810562586554, RECALL: 0.12318801475493092\n",
      "EvaluatorHoldout: Processed 10030 (100.0%) in 5.43 sec. Users per second: 1847\n",
      "MAP: 0.03145235721407234, RECALL: 0.12710390978546585\n",
      "EvaluatorHoldout: Processed 10052 (100.0%) in 5.44 sec. Users per second: 1849\n",
      "MAP: 0.030748662510501262, RECALL: 0.12358891836893336\n",
      "EvaluatorHoldout: Processed 10045 (100.0%) in 5.93 sec. Users per second: 1694\n",
      "MAP: 0.03129518752913494, RECALL: 0.11921215132604801\n",
      "EvaluatorHoldout: Processed 10068 (100.0%) in 6.31 sec. Users per second: 1596\n",
      "MAP: 0.03147779622377387, RECALL: 0.12544088522309696\n"
     ]
    },
    {
     "name": "stderr",
     "output_type": "stream",
     "text": [
      "[I 2024-01-10 14:42:27,881] Trial 81 finished with value: 0.03115066960187493 and parameters: {'w_slim': 0.8095165397016605, 'w_knn': 0.09348059610808998, 'w_p3': 0.031100514749775984, 'w_rp3': 0.6427526699557671, 'w_top': 4.0853484002700565e-05}. Best is trial 81 with value: 0.03115066960187493.\n"
     ]
    },
    {
     "name": "stdout",
     "output_type": "stream",
     "text": [
      "EvaluatorHoldout: Processed 10057 (100.0%) in 5.14 sec. Users per second: 1957\n",
      "MAP: 0.03105444206120377, RECALL: 0.12350478471082481\n",
      "EvaluatorHoldout: Processed 10040 (100.0%) in 6.02 sec. Users per second: 1669\n",
      "MAP: 0.03109377173844333, RECALL: 0.12210133616717761\n",
      "EvaluatorHoldout: Processed 10017 (100.0%) in 6.22 sec. Users per second: 1610\n",
      "MAP: 0.03071426986820836, RECALL: 0.11995389749193215\n",
      "EvaluatorHoldout: Processed 10037 (100.0%) in 6.30 sec. Users per second: 1594\n",
      "MAP: 0.030988410342052197, RECALL: 0.12290983056710932\n",
      "EvaluatorHoldout: Processed 9989 (100.0%) in 6.42 sec. Users per second: 1556\n",
      "MAP: 0.031144969784223254, RECALL: 0.12603384145833926\n",
      "EvaluatorHoldout: Processed 10024 (100.0%) in 5.40 sec. Users per second: 1857\n",
      "MAP: 0.031503855033633815, RECALL: 0.12311892130467422\n",
      "EvaluatorHoldout: Processed 10030 (100.0%) in 5.01 sec. Users per second: 2001\n",
      "MAP: 0.03143988273275441, RECALL: 0.12707885892190568\n",
      "EvaluatorHoldout: Processed 10052 (100.0%) in 5.56 sec. Users per second: 1809\n",
      "MAP: 0.03073265843013189, RECALL: 0.12350819263192986\n",
      "EvaluatorHoldout: Processed 10045 (100.0%) in 5.43 sec. Users per second: 1851\n",
      "MAP: 0.03129041930361012, RECALL: 0.119133770274546\n",
      "EvaluatorHoldout: Processed 10068 (100.0%) in 5.98 sec. Users per second: 1684\n",
      "MAP: 0.03146194764490384, RECALL: 0.12530599945843482\n"
     ]
    },
    {
     "name": "stderr",
     "output_type": "stream",
     "text": [
      "[I 2024-01-10 14:43:38,886] Trial 82 finished with value: 0.0311424626939165 and parameters: {'w_slim': 0.8154267866463477, 'w_knn': 0.09394498237867129, 'w_p3': 0.030923065978453273, 'w_rp3': 0.6427699304122113, 'w_top': 4.107987240131742e-05}. Best is trial 81 with value: 0.03115066960187493.\n"
     ]
    },
    {
     "name": "stdout",
     "output_type": "stream",
     "text": [
      "EvaluatorHoldout: Processed 10057 (100.0%) in 5.24 sec. Users per second: 1920\n",
      "MAP: 0.031045441775530494, RECALL: 0.12362301361095522\n",
      "EvaluatorHoldout: Processed 10040 (100.0%) in 5.26 sec. Users per second: 1907\n",
      "MAP: 0.031086092139379247, RECALL: 0.12244896685844087\n",
      "EvaluatorHoldout: Processed 10017 (100.0%) in 5.70 sec. Users per second: 1759\n",
      "MAP: 0.03064928510421193, RECALL: 0.11982049692119355\n",
      "EvaluatorHoldout: Processed 10037 (100.0%) in 5.60 sec. Users per second: 1793\n",
      "MAP: 0.0310002949404666, RECALL: 0.12274414256647696\n",
      "EvaluatorHoldout: Processed 9989 (100.0%) in 5.74 sec. Users per second: 1739\n",
      "MAP: 0.031218260721714776, RECALL: 0.12629082866208047\n",
      "EvaluatorHoldout: Processed 10024 (100.0%) in 5.19 sec. Users per second: 1931\n",
      "MAP: 0.03145300485184784, RECALL: 0.1231959056369946\n",
      "EvaluatorHoldout: Processed 10030 (100.0%) in 4.95 sec. Users per second: 2026\n",
      "MAP: 0.031446905315798905, RECALL: 0.12709960530883024\n",
      "EvaluatorHoldout: Processed 10052 (100.0%) in 5.44 sec. Users per second: 1847\n",
      "MAP: 0.030748382221969895, RECALL: 0.12371860792625014\n",
      "EvaluatorHoldout: Processed 10045 (100.0%) in 5.44 sec. Users per second: 1846\n",
      "MAP: 0.031287065348787745, RECALL: 0.11909825986868076\n",
      "EvaluatorHoldout: Processed 10068 (100.0%) in 6.12 sec. Users per second: 1644\n",
      "MAP: 0.031505343032459, RECALL: 0.12552919737526883\n"
     ]
    },
    {
     "name": "stderr",
     "output_type": "stream",
     "text": [
      "[I 2024-01-10 14:44:47,091] Trial 83 finished with value: 0.031144007545216644 and parameters: {'w_slim': 0.8006270103068434, 'w_knn': 0.08354960144893309, 'w_p3': 0.0351049319952551, 'w_rp3': 0.6447137997499189, 'w_top': 4.118404500452864e-05}. Best is trial 81 with value: 0.03115066960187493.\n"
     ]
    },
    {
     "name": "stdout",
     "output_type": "stream",
     "text": [
      "EvaluatorHoldout: Processed 10057 (100.0%) in 5.20 sec. Users per second: 1933\n",
      "MAP: 0.031050354250613036, RECALL: 0.12358229113383518\n",
      "EvaluatorHoldout: Processed 10040 (100.0%) in 5.40 sec. Users per second: 1859\n",
      "MAP: 0.03108652295579613, RECALL: 0.12196782974737817\n",
      "EvaluatorHoldout: Processed 10017 (100.0%) in 5.39 sec. Users per second: 1860\n",
      "MAP: 0.030705162335141558, RECALL: 0.11980397856493423\n",
      "EvaluatorHoldout: Processed 10037 (100.0%) in 5.54 sec. Users per second: 1812\n",
      "MAP: 0.03099686714711156, RECALL: 0.12291452100469805\n",
      "EvaluatorHoldout: Processed 9989 (100.0%) in 6.46 sec. Users per second: 1547\n",
      "MAP: 0.031161221788411977, RECALL: 0.12625174113127105\n",
      "EvaluatorHoldout: Processed 10024 (100.0%) in 5.22 sec. Users per second: 1920\n",
      "MAP: 0.031499809188107526, RECALL: 0.12327395124246457\n",
      "EvaluatorHoldout: Processed 10030 (100.0%) in 5.67 sec. Users per second: 1770\n",
      "MAP: 0.031444883603159064, RECALL: 0.12711914101547475\n",
      "EvaluatorHoldout: Processed 10052 (100.0%) in 5.81 sec. Users per second: 1729\n",
      "MAP: 0.030734308579513838, RECALL: 0.12359805023312945\n",
      "EvaluatorHoldout: Processed 10045 (100.0%) in 5.63 sec. Users per second: 1783\n",
      "MAP: 0.031306398982357334, RECALL: 0.11924724965682923\n",
      "EvaluatorHoldout: Processed 10068 (100.0%) in 6.34 sec. Users per second: 1588\n",
      "MAP: 0.03148323936911572, RECALL: 0.12535256315800516\n"
     ]
    },
    {
     "name": "stderr",
     "output_type": "stream",
     "text": [
      "[I 2024-01-10 14:45:57,262] Trial 84 finished with value: 0.03114687681993277 and parameters: {'w_slim': 0.8192485951064467, 'w_knn': 0.09314965133699477, 'w_p3': 0.03068396384268908, 'w_rp3': 0.6413118987075773, 'w_top': 4.152032065895563e-05}. Best is trial 81 with value: 0.03115066960187493.\n"
     ]
    },
    {
     "name": "stdout",
     "output_type": "stream",
     "text": [
      "EvaluatorHoldout: Processed 10057 (100.0%) in 5.49 sec. Users per second: 1831\n",
      "MAP: 0.03103766467642395, RECALL: 0.12361051083532074\n",
      "EvaluatorHoldout: Processed 10040 (100.0%) in 5.35 sec. Users per second: 1878\n",
      "MAP: 0.031097044362233886, RECALL: 0.12240206436054626\n",
      "EvaluatorHoldout: Processed 10017 (100.0%) in 5.85 sec. Users per second: 1712\n",
      "MAP: 0.03066741301691903, RECALL: 0.1199960035144699\n",
      "EvaluatorHoldout: Processed 10037 (100.0%) in 6.03 sec. Users per second: 1666\n",
      "MAP: 0.030996922497869294, RECALL: 0.12271300224015465\n",
      "EvaluatorHoldout: Processed 9989 (100.0%) in 5.60 sec. Users per second: 1784\n",
      "MAP: 0.031239716863152883, RECALL: 0.12648418575629164\n",
      "EvaluatorHoldout: Processed 10024 (100.0%) in 5.02 sec. Users per second: 1998\n",
      "MAP: 0.03144619975550762, RECALL: 0.12319318987302728\n",
      "EvaluatorHoldout: Processed 10030 (100.0%) in 5.22 sec. Users per second: 1923\n",
      "MAP: 0.03145524141860159, RECALL: 0.12716567015337313\n",
      "EvaluatorHoldout: Processed 10052 (100.0%) in 5.96 sec. Users per second: 1688\n",
      "MAP: 0.030758464713648095, RECALL: 0.12342223990660202\n",
      "EvaluatorHoldout: Processed 10045 (100.0%) in 5.32 sec. Users per second: 1890\n",
      "MAP: 0.03128751965362234, RECALL: 0.11903340818792336\n",
      "EvaluatorHoldout: Processed 10068 (100.0%) in 5.93 sec. Users per second: 1699\n",
      "MAP: 0.03151428224580818, RECALL: 0.12538180040359098\n"
     ]
    },
    {
     "name": "stderr",
     "output_type": "stream",
     "text": [
      "[I 2024-01-10 14:47:06,536] Trial 85 finished with value: 0.031150046920378687 and parameters: {'w_slim': 0.801267422574716, 'w_knn': 0.08234736789773585, 'w_p3': 0.030768649297023234, 'w_rp3': 0.6452672801647624, 'w_top': 4.164324864522822e-05}. Best is trial 81 with value: 0.03115066960187493.\n"
     ]
    },
    {
     "name": "stdout",
     "output_type": "stream",
     "text": [
      "EvaluatorHoldout: Processed 10057 (100.0%) in 5.18 sec. Users per second: 1943\n",
      "MAP: 0.03099492811608778, RECALL: 0.12407359289967253\n",
      "EvaluatorHoldout: Processed 10040 (100.0%) in 5.56 sec. Users per second: 1805\n",
      "MAP: 0.03108781145260257, RECALL: 0.12325546649923157\n",
      "EvaluatorHoldout: Processed 10017 (100.0%) in 6.03 sec. Users per second: 1661\n",
      "MAP: 0.03059563820869618, RECALL: 0.11981422494921737\n",
      "EvaluatorHoldout: Processed 10037 (100.0%) in 6.15 sec. Users per second: 1631\n",
      "MAP: 0.030943157143964464, RECALL: 0.12268228987448111\n",
      "EvaluatorHoldout: Processed 9989 (100.0%) in 6.20 sec. Users per second: 1611\n",
      "MAP: 0.031107551640137752, RECALL: 0.12641639252508335\n",
      "EvaluatorHoldout: Processed 10024 (100.0%) in 5.79 sec. Users per second: 1732\n",
      "MAP: 0.03150580669884366, RECALL: 0.12335778596694727\n",
      "EvaluatorHoldout: Processed 10030 (100.0%) in 5.88 sec. Users per second: 1706\n",
      "MAP: 0.031399907420595584, RECALL: 0.12751894364508232\n",
      "EvaluatorHoldout: Processed 10052 (100.0%) in 6.29 sec. Users per second: 1597\n",
      "MAP: 0.030762953277876006, RECALL: 0.1246617571213155\n",
      "EvaluatorHoldout: Processed 10045 (100.0%) in 5.28 sec. Users per second: 1903\n",
      "MAP: 0.03119218279646371, RECALL: 0.1184943167735518\n",
      "EvaluatorHoldout: Processed 10068 (100.0%) in 5.82 sec. Users per second: 1731\n",
      "MAP: 0.031368440635425425, RECALL: 0.12520580971527484\n"
     ]
    },
    {
     "name": "stderr",
     "output_type": "stream",
     "text": [
      "[I 2024-01-10 14:48:18,284] Trial 86 finished with value: 0.03109583773906931 and parameters: {'w_slim': 0.8000448052513132, 'w_knn': 0.08304052565123464, 'w_p3': 0.030034232485448363, 'w_rp3': 0.6334153959223506, 'w_top': 5.5454755841373364e-05}. Best is trial 81 with value: 0.03115066960187493.\n"
     ]
    },
    {
     "name": "stdout",
     "output_type": "stream",
     "text": [
      "EvaluatorHoldout: Processed 10057 (100.0%) in 5.38 sec. Users per second: 1868\n",
      "MAP: 0.031036402032226056, RECALL: 0.12396959311542435\n",
      "EvaluatorHoldout: Processed 10040 (100.0%) in 5.22 sec. Users per second: 1923\n",
      "MAP: 0.031126248972364795, RECALL: 0.12250486385886128\n",
      "EvaluatorHoldout: Processed 10017 (100.0%) in 5.36 sec. Users per second: 1870\n",
      "MAP: 0.030716737894785424, RECALL: 0.1200457311439459\n",
      "EvaluatorHoldout: Processed 10037 (100.0%) in 5.27 sec. Users per second: 1905\n",
      "MAP: 0.030985366050375864, RECALL: 0.12290679896402318\n",
      "EvaluatorHoldout: Processed 9989 (100.0%) in 5.69 sec. Users per second: 1755\n",
      "MAP: 0.03115905273578739, RECALL: 0.12641400199195083\n",
      "EvaluatorHoldout: Processed 10024 (100.0%) in 5.16 sec. Users per second: 1941\n",
      "MAP: 0.03150806714678445, RECALL: 0.12339526171097381\n",
      "EvaluatorHoldout: Processed 10030 (100.0%) in 5.94 sec. Users per second: 1689\n",
      "MAP: 0.031425600183576534, RECALL: 0.12732122128968834\n",
      "EvaluatorHoldout: Processed 10052 (100.0%) in 6.21 sec. Users per second: 1620\n",
      "MAP: 0.030727384268470926, RECALL: 0.12362357406000578\n",
      "EvaluatorHoldout: Processed 10045 (100.0%) in 5.85 sec. Users per second: 1717\n",
      "MAP: 0.03128012831148738, RECALL: 0.11930642606934665\n",
      "EvaluatorHoldout: Processed 10068 (100.0%) in 5.93 sec. Users per second: 1699\n",
      "MAP: 0.03145962218816835, RECALL: 0.1254776643532432\n"
     ]
    },
    {
     "name": "stderr",
     "output_type": "stream",
     "text": [
      "[I 2024-01-10 14:49:27,805] Trial 87 finished with value: 0.03114246097840272 and parameters: {'w_slim': 0.8062810531922582, 'w_knn': 0.09373868049029285, 'w_p3': 0.028435318431634205, 'w_rp3': 0.647053433113967, 'w_top': 4.4260716173120326e-05}. Best is trial 81 with value: 0.03115066960187493.\n"
     ]
    },
    {
     "name": "stdout",
     "output_type": "stream",
     "text": [
      "EvaluatorHoldout: Processed 10057 (100.0%) in 5.06 sec. Users per second: 1989\n",
      "MAP: 0.03105723171572847, RECALL: 0.12388413975857002\n",
      "EvaluatorHoldout: Processed 10040 (100.0%) in 5.16 sec. Users per second: 1945\n",
      "MAP: 0.03113262031240148, RECALL: 0.12257674703116497\n",
      "EvaluatorHoldout: Processed 10017 (100.0%) in 5.28 sec. Users per second: 1898\n",
      "MAP: 0.030703391535976354, RECALL: 0.12012663773659804\n",
      "EvaluatorHoldout: Processed 10037 (100.0%) in 5.24 sec. Users per second: 1915\n",
      "MAP: 0.030983662037762212, RECALL: 0.12289825304216612\n",
      "EvaluatorHoldout: Processed 9989 (100.0%) in 5.43 sec. Users per second: 1841\n",
      "MAP: 0.031147738703049804, RECALL: 0.1263003332564762\n",
      "EvaluatorHoldout: Processed 10024 (100.0%) in 5.07 sec. Users per second: 1976\n",
      "MAP: 0.03153269850770872, RECALL: 0.12350425670096978\n",
      "EvaluatorHoldout: Processed 10030 (100.0%) in 5.35 sec. Users per second: 1874\n",
      "MAP: 0.03141998211714093, RECALL: 0.12739472943081892\n",
      "EvaluatorHoldout: Processed 10052 (100.0%) in 5.66 sec. Users per second: 1776\n",
      "MAP: 0.030740751268009837, RECALL: 0.12357988054714505\n",
      "EvaluatorHoldout: Processed 10045 (100.0%) in 5.28 sec. Users per second: 1902\n",
      "MAP: 0.03126334668594517, RECALL: 0.11943687259704508\n",
      "EvaluatorHoldout: Processed 10068 (100.0%) in 5.96 sec. Users per second: 1689\n",
      "MAP: 0.03142766095313801, RECALL: 0.12536129098900042\n"
     ]
    },
    {
     "name": "stderr",
     "output_type": "stream",
     "text": [
      "[I 2024-01-10 14:50:34,810] Trial 88 finished with value: 0.031140908383686095 and parameters: {'w_slim': 0.8252765347128295, 'w_knn': 0.0979494593732525, 'w_p3': 0.031711271368041125, 'w_rp3': 0.6570696642353414, 'w_top': 4.6432194986865e-05}. Best is trial 81 with value: 0.03115066960187493.\n"
     ]
    },
    {
     "name": "stdout",
     "output_type": "stream",
     "text": [
      "EvaluatorHoldout: Processed 10057 (100.0%) in 5.00 sec. Users per second: 2013\n",
      "MAP: 0.03099997080135314, RECALL: 0.1234024046424553\n",
      "EvaluatorHoldout: Processed 10040 (100.0%) in 5.21 sec. Users per second: 1928\n",
      "MAP: 0.03108122668057956, RECALL: 0.12206781502492274\n",
      "EvaluatorHoldout: Processed 10017 (100.0%) in 5.09 sec. Users per second: 1969\n",
      "MAP: 0.030706180445623562, RECALL: 0.12012876035656998\n",
      "EvaluatorHoldout: Processed 10037 (100.0%) in 5.19 sec. Users per second: 1933\n",
      "MAP: 0.030978676515938965, RECALL: 0.12257547400788965\n",
      "EvaluatorHoldout: Processed 9989 (100.0%) in 5.74 sec. Users per second: 1741\n",
      "MAP: 0.03117120499215828, RECALL: 0.12650567451500552\n",
      "EvaluatorHoldout: Processed 10024 (100.0%) in 5.97 sec. Users per second: 1680\n",
      "MAP: 0.031453899530017086, RECALL: 0.12313906195196604\n",
      "EvaluatorHoldout: Processed 10030 (100.0%) in 5.90 sec. Users per second: 1699\n",
      "MAP: 0.03141899697732225, RECALL: 0.12715469747329997\n",
      "EvaluatorHoldout: Processed 10052 (100.0%) in 6.31 sec. Users per second: 1592\n",
      "MAP: 0.030737123308005033, RECALL: 0.12358728260860279\n",
      "EvaluatorHoldout: Processed 10045 (100.0%) in 5.45 sec. Users per second: 1842\n",
      "MAP: 0.031246233220349823, RECALL: 0.11913235422995869\n",
      "EvaluatorHoldout: Processed 10068 (100.0%) in 6.15 sec. Users per second: 1638\n",
      "MAP: 0.03151196467197691, RECALL: 0.12543246404531364\n"
     ]
    },
    {
     "name": "stderr",
     "output_type": "stream",
     "text": [
      "[I 2024-01-10 14:51:44,420] Trial 89 finished with value: 0.031130547714332463 and parameters: {'w_slim': 0.8184939859526467, 'w_knn': 0.08307687373228968, 'w_p3': 0.03514450075008133, 'w_rp3': 0.6321271010571469, 'w_top': 4.24401403014981e-05}. Best is trial 81 with value: 0.03115066960187493.\n"
     ]
    },
    {
     "name": "stdout",
     "output_type": "stream",
     "text": [
      "EvaluatorHoldout: Processed 10057 (100.0%) in 5.36 sec. Users per second: 1876\n",
      "MAP: 0.030999915560669493, RECALL: 0.1234563039093671\n",
      "EvaluatorHoldout: Processed 10040 (100.0%) in 5.68 sec. Users per second: 1766\n",
      "MAP: 0.031133323847467535, RECALL: 0.12294889203361602\n",
      "EvaluatorHoldout: Processed 10017 (100.0%) in 5.87 sec. Users per second: 1707\n",
      "MAP: 0.03064201571613991, RECALL: 0.11981180907185937\n",
      "EvaluatorHoldout: Processed 10037 (100.0%) in 6.09 sec. Users per second: 1648\n",
      "MAP: 0.030965000925148707, RECALL: 0.12309534361209458\n",
      "EvaluatorHoldout: Processed 9989 (100.0%) in 5.88 sec. Users per second: 1699\n",
      "MAP: 0.03114334498106674, RECALL: 0.1265880550120445\n",
      "EvaluatorHoldout: Processed 10024 (100.0%) in 5.55 sec. Users per second: 1807\n",
      "MAP: 0.03151163398320247, RECALL: 0.12338172590967862\n",
      "EvaluatorHoldout: Processed 10030 (100.0%) in 5.92 sec. Users per second: 1696\n",
      "MAP: 0.031364090268876155, RECALL: 0.12750055606556424\n",
      "EvaluatorHoldout: Processed 10052 (100.0%) in 6.12 sec. Users per second: 1642\n",
      "MAP: 0.030728150127275013, RECALL: 0.12403506495074149\n",
      "EvaluatorHoldout: Processed 10045 (100.0%) in 5.51 sec. Users per second: 1825\n",
      "MAP: 0.03119178774878147, RECALL: 0.11868269771157902\n",
      "EvaluatorHoldout: Processed 10068 (100.0%) in 6.25 sec. Users per second: 1611\n",
      "MAP: 0.031412206519477334, RECALL: 0.12497090959697638\n"
     ]
    },
    {
     "name": "stderr",
     "output_type": "stream",
     "text": [
      "[I 2024-01-10 14:52:56,204] Trial 90 finished with value: 0.031109146967810485 and parameters: {'w_slim': 0.8084903812582067, 'w_knn': 0.08573625091445214, 'w_p3': 0.028168685281138386, 'w_rp3': 0.6150811397977706, 'w_top': 5.145879522365044e-05}. Best is trial 81 with value: 0.03115066960187493.\n"
     ]
    },
    {
     "name": "stdout",
     "output_type": "stream",
     "text": [
      "EvaluatorHoldout: Processed 10057 (100.0%) in 5.61 sec. Users per second: 1793\n",
      "MAP: 0.031047793450349137, RECALL: 0.1233396372788483\n",
      "EvaluatorHoldout: Processed 10040 (100.0%) in 4.86 sec. Users per second: 2064\n",
      "MAP: 0.031099573926516435, RECALL: 0.1218603015587442\n",
      "EvaluatorHoldout: Processed 10017 (100.0%) in 5.46 sec. Users per second: 1836\n",
      "MAP: 0.030716341742846858, RECALL: 0.11978987555592256\n",
      "EvaluatorHoldout: Processed 10037 (100.0%) in 5.86 sec. Users per second: 1713\n",
      "MAP: 0.030986694468561875, RECALL: 0.12282647680486747\n",
      "EvaluatorHoldout: Processed 9989 (100.0%) in 5.75 sec. Users per second: 1736\n",
      "MAP: 0.03115330832169383, RECALL: 0.1260570238898024\n",
      "EvaluatorHoldout: Processed 10024 (100.0%) in 5.55 sec. Users per second: 1806\n",
      "MAP: 0.03150632133672861, RECALL: 0.12310399680601071\n",
      "EvaluatorHoldout: Processed 10030 (100.0%) in 5.32 sec. Users per second: 1884\n",
      "MAP: 0.03142036588646786, RECALL: 0.12700996548013088\n",
      "EvaluatorHoldout: Processed 10052 (100.0%) in 6.14 sec. Users per second: 1638\n",
      "MAP: 0.030736969346699075, RECALL: 0.12326178058103161\n",
      "EvaluatorHoldout: Processed 10045 (100.0%) in 5.77 sec. Users per second: 1742\n",
      "MAP: 0.031297707933347726, RECALL: 0.11922644415119199\n",
      "EvaluatorHoldout: Processed 10068 (100.0%) in 5.88 sec. Users per second: 1712\n",
      "MAP: 0.03148201357751447, RECALL: 0.12547054901958746\n"
     ]
    },
    {
     "name": "stderr",
     "output_type": "stream",
     "text": [
      "[I 2024-01-10 14:54:05,970] Trial 91 finished with value: 0.031144708999072585 and parameters: {'w_slim': 0.8182906225150826, 'w_knn': 0.09402557014964313, 'w_p3': 0.03096568106823154, 'w_rp3': 0.639641824658864, 'w_top': 4.0419098286460114e-05}. Best is trial 81 with value: 0.03115066960187493.\n"
     ]
    },
    {
     "name": "stdout",
     "output_type": "stream",
     "text": [
      "EvaluatorHoldout: Processed 10057 (100.0%) in 4.79 sec. Users per second: 2099\n",
      "MAP: 0.031041527578516984, RECALL: 0.1234638445022411\n",
      "EvaluatorHoldout: Processed 10040 (100.0%) in 4.91 sec. Users per second: 2044\n",
      "MAP: 0.031083068519572793, RECALL: 0.12205775096654566\n",
      "EvaluatorHoldout: Processed 10017 (100.0%) in 5.48 sec. Users per second: 1829\n",
      "MAP: 0.030698392098512082, RECALL: 0.11979820662823083\n",
      "EvaluatorHoldout: Processed 10037 (100.0%) in 5.53 sec. Users per second: 1816\n",
      "MAP: 0.03098286340540037, RECALL: 0.12284631839120629\n",
      "EvaluatorHoldout: Processed 9989 (100.0%) in 5.71 sec. Users per second: 1748\n",
      "MAP: 0.03117156252830522, RECALL: 0.12612873163934074\n",
      "EvaluatorHoldout: Processed 10024 (100.0%) in 5.27 sec. Users per second: 1901\n",
      "MAP: 0.031491404755571, RECALL: 0.12338140986370014\n",
      "EvaluatorHoldout: Processed 10030 (100.0%) in 5.09 sec. Users per second: 1971\n",
      "MAP: 0.031419740777667265, RECALL: 0.1271942864827732\n",
      "EvaluatorHoldout: Processed 10052 (100.0%) in 5.39 sec. Users per second: 1865\n",
      "MAP: 0.03076451657729048, RECALL: 0.12375172149361739\n",
      "EvaluatorHoldout: Processed 10045 (100.0%) in 5.22 sec. Users per second: 1923\n",
      "MAP: 0.03129288045067056, RECALL: 0.11923312635510207\n",
      "EvaluatorHoldout: Processed 10068 (100.0%) in 6.23 sec. Users per second: 1615\n",
      "MAP: 0.03149536327575691, RECALL: 0.12514354837665406\n"
     ]
    },
    {
     "name": "stderr",
     "output_type": "stream",
     "text": [
      "[I 2024-01-10 14:55:13,130] Trial 92 finished with value: 0.031144131996726367 and parameters: {'w_slim': 0.822132327921576, 'w_knn': 0.09307951405416391, 'w_p3': 0.02600993778945354, 'w_rp3': 0.6270209969188506, 'w_top': 4.125929494070704e-05}. Best is trial 81 with value: 0.03115066960187493.\n"
     ]
    },
    {
     "name": "stdout",
     "output_type": "stream",
     "text": [
      "EvaluatorHoldout: Processed 10057 (100.0%) in 5.43 sec. Users per second: 1854\n",
      "MAP: 0.03102055584754226, RECALL: 0.12355464882335353\n",
      "EvaluatorHoldout: Processed 10040 (100.0%) in 5.51 sec. Users per second: 1823\n",
      "MAP: 0.031108660595712684, RECALL: 0.1225284144903379\n",
      "EvaluatorHoldout: Processed 10017 (100.0%) in 5.83 sec. Users per second: 1718\n",
      "MAP: 0.0306440519371039, RECALL: 0.1196883416136393\n",
      "EvaluatorHoldout: Processed 10037 (100.0%) in 5.91 sec. Users per second: 1699\n",
      "MAP: 0.030962225480010028, RECALL: 0.1226682961634995\n",
      "EvaluatorHoldout: Processed 9989 (100.0%) in 6.07 sec. Users per second: 1647\n",
      "MAP: 0.031190047147100126, RECALL: 0.12649361322352234\n",
      "EvaluatorHoldout: Processed 10024 (100.0%) in 6.35 sec. Users per second: 1579\n",
      "MAP: 0.031489164101395004, RECALL: 0.1234857964603914\n",
      "EvaluatorHoldout: Processed 10030 (100.0%) in 5.55 sec. Users per second: 1807\n",
      "MAP: 0.031387694060675375, RECALL: 0.12745211637797235\n",
      "EvaluatorHoldout: Processed 10052 (100.0%) in 6.02 sec. Users per second: 1670\n",
      "MAP: 0.030730791155831258, RECALL: 0.1238862359569542\n",
      "EvaluatorHoldout: Processed 10045 (100.0%) in 5.93 sec. Users per second: 1695\n",
      "MAP: 0.03123217742381521, RECALL: 0.11921751136362793\n",
      "EvaluatorHoldout: Processed 10068 (100.0%) in 6.39 sec. Users per second: 1575\n",
      "MAP: 0.03141550551488002, RECALL: 0.12519140408306484\n"
     ]
    },
    {
     "name": "stderr",
     "output_type": "stream",
     "text": [
      "[I 2024-01-10 14:56:25,659] Trial 93 finished with value: 0.031118087326406592 and parameters: {'w_slim': 0.8287308012031392, 'w_knn': 0.08798043203873714, 'w_p3': 0.03051141969773719, 'w_rp3': 0.6250597973887827, 'w_top': 4.639724220964964e-05}. Best is trial 81 with value: 0.03115066960187493.\n"
     ]
    },
    {
     "name": "stdout",
     "output_type": "stream",
     "text": [
      "EvaluatorHoldout: Processed 10057 (100.0%) in 5.27 sec. Users per second: 1909\n",
      "MAP: 0.031054659078175263, RECALL: 0.12372195393330974\n",
      "EvaluatorHoldout: Processed 10040 (100.0%) in 5.78 sec. Users per second: 1738\n",
      "MAP: 0.031121806425093552, RECALL: 0.12221234957154388\n",
      "EvaluatorHoldout: Processed 10017 (100.0%) in 5.94 sec. Users per second: 1687\n",
      "MAP: 0.03069403838870763, RECALL: 0.1197303828836804\n",
      "EvaluatorHoldout: Processed 10037 (100.0%) in 6.08 sec. Users per second: 1650\n",
      "MAP: 0.030986560045293078, RECALL: 0.12303820103374583\n",
      "EvaluatorHoldout: Processed 9989 (100.0%) in 6.30 sec. Users per second: 1585\n",
      "MAP: 0.03112534899500589, RECALL: 0.12624707745178054\n",
      "EvaluatorHoldout: Processed 10024 (100.0%) in 5.95 sec. Users per second: 1686\n",
      "MAP: 0.03150895786620074, RECALL: 0.12300621660193063\n",
      "EvaluatorHoldout: Processed 10030 (100.0%) in 5.66 sec. Users per second: 1771\n",
      "MAP: 0.03140505863362323, RECALL: 0.12715081693305497\n",
      "EvaluatorHoldout: Processed 10052 (100.0%) in 5.60 sec. Users per second: 1794\n",
      "MAP: 0.030745701716155698, RECALL: 0.12338084414097422\n",
      "EvaluatorHoldout: Processed 10045 (100.0%) in 5.25 sec. Users per second: 1913\n",
      "MAP: 0.031270346930874736, RECALL: 0.11918078793331408\n",
      "EvaluatorHoldout: Processed 10068 (100.0%) in 5.63 sec. Users per second: 1787\n",
      "MAP: 0.031458246621387576, RECALL: 0.12517832804269935\n"
     ]
    },
    {
     "name": "stderr",
     "output_type": "stream",
     "text": [
      "[I 2024-01-10 14:57:36,669] Trial 94 finished with value: 0.031137072470051742 and parameters: {'w_slim': 0.8231255097026535, 'w_knn': 0.09765852024442752, 'w_p3': 0.035105027456133336, 'w_rp3': 0.6445119921674376, 'w_top': 4.147136127456424e-05}. Best is trial 81 with value: 0.03115066960187493.\n"
     ]
    },
    {
     "name": "stdout",
     "output_type": "stream",
     "text": [
      "EvaluatorHoldout: Processed 10057 (100.0%) in 5.44 sec. Users per second: 1847\n",
      "MAP: 0.030992974963344078, RECALL: 0.12367377396986799\n",
      "EvaluatorHoldout: Processed 10040 (100.0%) in 6.08 sec. Users per second: 1652\n",
      "MAP: 0.031100024505154273, RECALL: 0.12253677449340758\n",
      "EvaluatorHoldout: Processed 10017 (100.0%) in 5.78 sec. Users per second: 1732\n",
      "MAP: 0.030653028740030973, RECALL: 0.11986600782535993\n",
      "EvaluatorHoldout: Processed 10037 (100.0%) in 5.64 sec. Users per second: 1778\n",
      "MAP: 0.03097894931610218, RECALL: 0.12287195766883155\n",
      "EvaluatorHoldout: Processed 9989 (100.0%) in 5.72 sec. Users per second: 1747\n",
      "MAP: 0.031183663140565997, RECALL: 0.12634276843084893\n",
      "EvaluatorHoldout: Processed 10024 (100.0%) in 5.38 sec. Users per second: 1863\n",
      "MAP: 0.031498055460545744, RECALL: 0.12355040241446315\n",
      "EvaluatorHoldout: Processed 10030 (100.0%) in 5.21 sec. Users per second: 1926\n",
      "MAP: 0.0313533170330282, RECALL: 0.1272818476216128\n",
      "EvaluatorHoldout: Processed 10052 (100.0%) in 6.05 sec. Users per second: 1663\n",
      "MAP: 0.030730585874089982, RECALL: 0.1235604772955755\n",
      "EvaluatorHoldout: Processed 10045 (100.0%) in 6.87 sec. Users per second: 1462\n",
      "MAP: 0.031262019325732755, RECALL: 0.11906742667412044\n",
      "EvaluatorHoldout: Processed 10068 (100.0%) in 7.27 sec. Users per second: 1384\n",
      "MAP: 0.031408548851934115, RECALL: 0.1249835215686894\n"
     ]
    },
    {
     "name": "stderr",
     "output_type": "stream",
     "text": [
      "[I 2024-01-10 14:58:49,697] Trial 95 finished with value: 0.031116116721052828 and parameters: {'w_slim': 0.8384615048039266, 'w_knn': 0.09284202986062745, 'w_p3': 0.025580778539762088, 'w_rp3': 0.6015738160129567, 'w_top': 4.484459627968122e-05}. Best is trial 81 with value: 0.03115066960187493.\n"
     ]
    },
    {
     "name": "stdout",
     "output_type": "stream",
     "text": [
      "EvaluatorHoldout: Processed 10057 (100.0%) in 6.51 sec. Users per second: 1544\n",
      "MAP: 0.03105386597978841, RECALL: 0.12315485819821742\n",
      "EvaluatorHoldout: Processed 10040 (100.0%) in 7.11 sec. Users per second: 1411\n",
      "MAP: 0.03108203297919463, RECALL: 0.12212577298343531\n",
      "EvaluatorHoldout: Processed 10017 (100.0%) in 7.20 sec. Users per second: 1392\n",
      "MAP: 0.030678731077802834, RECALL: 0.11973238888697589\n",
      "EvaluatorHoldout: Processed 10037 (100.0%) in 6.88 sec. Users per second: 1459\n",
      "MAP: 0.03099129253508082, RECALL: 0.12258771936343797\n",
      "EvaluatorHoldout: Processed 9989 (100.0%) in 6.78 sec. Users per second: 1474\n",
      "MAP: 0.031207598199289317, RECALL: 0.12621004357385665\n",
      "EvaluatorHoldout: Processed 10024 (100.0%) in 6.05 sec. Users per second: 1657\n",
      "MAP: 0.031473542862210276, RECALL: 0.12291253812533022\n",
      "EvaluatorHoldout: Processed 10030 (100.0%) in 6.36 sec. Users per second: 1576\n",
      "MAP: 0.03144741568943988, RECALL: 0.126729759018206\n",
      "EvaluatorHoldout: Processed 10052 (100.0%) in 6.42 sec. Users per second: 1566\n",
      "MAP: 0.030755689462414845, RECALL: 0.12308344713266242\n",
      "EvaluatorHoldout: Processed 10045 (100.0%) in 6.22 sec. Users per second: 1614\n",
      "MAP: 0.031331543767332895, RECALL: 0.11914762170180032\n",
      "EvaluatorHoldout: Processed 10068 (100.0%) in 6.29 sec. Users per second: 1601\n",
      "MAP: 0.03147790264298043, RECALL: 0.12517462347317845\n"
     ]
    },
    {
     "name": "stderr",
     "output_type": "stream",
     "text": [
      "[I 2024-01-10 15:00:09,129] Trial 96 finished with value: 0.031149961519553432 and parameters: {'w_slim': 0.8132669763504768, 'w_knn': 0.088829233593493, 'w_p3': 0.02354377271989514, 'w_rp3': 0.6519698522676677, 'w_top': 3.7155538813224296e-05}. Best is trial 81 with value: 0.03115066960187493.\n"
     ]
    },
    {
     "name": "stdout",
     "output_type": "stream",
     "text": [
      "EvaluatorHoldout: Processed 10057 (100.0%) in 5.49 sec. Users per second: 1833\n",
      "MAP: 0.03103313494036392, RECALL: 0.12283363949100987\n",
      "EvaluatorHoldout: Processed 10040 (100.0%) in 5.69 sec. Users per second: 1763\n",
      "MAP: 0.031028062353759836, RECALL: 0.12170227688857164\n",
      "EvaluatorHoldout: Processed 10017 (100.0%) in 5.73 sec. Users per second: 1749\n",
      "MAP: 0.030630566925116374, RECALL: 0.11956185522059591\n",
      "EvaluatorHoldout: Processed 10037 (100.0%) in 7.20 sec. Users per second: 1393\n",
      "MAP: 0.030996072468375255, RECALL: 0.12231851204287243\n",
      "EvaluatorHoldout: Processed 9989 (100.0%) in 7.49 sec. Users per second: 1333\n",
      "MAP: 0.031203720918407358, RECALL: 0.12603019899694393\n",
      "EvaluatorHoldout: Processed 10024 (100.0%) in 7.42 sec. Users per second: 1352\n",
      "MAP: 0.03145907362013727, RECALL: 0.12256860462299779\n",
      "EvaluatorHoldout: Processed 10030 (100.0%) in 7.29 sec. Users per second: 1376\n",
      "MAP: 0.03140548196679825, RECALL: 0.12647310018844538\n",
      "EvaluatorHoldout: Processed 10052 (100.0%) in 7.04 sec. Users per second: 1427\n",
      "MAP: 0.030693994403704274, RECALL: 0.12286723131512896\n",
      "EvaluatorHoldout: Processed 10045 (100.0%) in 6.63 sec. Users per second: 1515\n",
      "MAP: 0.031325140044403524, RECALL: 0.11910077312743092\n",
      "EvaluatorHoldout: Processed 10068 (100.0%) in 6.96 sec. Users per second: 1446\n",
      "MAP: 0.0315424557453762, RECALL: 0.12525296975988254\n"
     ]
    },
    {
     "name": "stderr",
     "output_type": "stream",
     "text": [
      "[I 2024-01-10 15:01:29,848] Trial 97 finished with value: 0.031131770338644227 and parameters: {'w_slim': 0.8122153084413083, 'w_knn': 0.0793933212203024, 'w_p3': 0.020106304744080088, 'w_rp3': 0.6402440724378158, 'w_top': 3.54806259509546e-05}. Best is trial 81 with value: 0.03115066960187493.\n"
     ]
    },
    {
     "name": "stdout",
     "output_type": "stream",
     "text": [
      "EvaluatorHoldout: Processed 10057 (100.0%) in 5.72 sec. Users per second: 1758\n",
      "MAP: 0.03104849185042109, RECALL: 0.1230832562020064\n",
      "EvaluatorHoldout: Processed 10040 (100.0%) in 6.23 sec. Users per second: 1611\n",
      "MAP: 0.031087953740593487, RECALL: 0.12223037761310034\n",
      "EvaluatorHoldout: Processed 10017 (100.0%) in 6.56 sec. Users per second: 1526\n",
      "MAP: 0.030637559006831405, RECALL: 0.11949300453017961\n",
      "EvaluatorHoldout: Processed 10037 (100.0%) in 6.19 sec. Users per second: 1622\n",
      "MAP: 0.030968926875323554, RECALL: 0.12291259366425449\n",
      "EvaluatorHoldout: Processed 9989 (100.0%) in 6.54 sec. Users per second: 1527\n",
      "MAP: 0.031152029136812663, RECALL: 0.1261792758605627\n",
      "EvaluatorHoldout: Processed 10024 (100.0%) in 6.15 sec. Users per second: 1629\n",
      "MAP: 0.03147732347128819, RECALL: 0.12297806399389379\n",
      "EvaluatorHoldout: Processed 10030 (100.0%) in 5.56 sec. Users per second: 1804\n",
      "MAP: 0.03134816582000057, RECALL: 0.12695713900159403\n",
      "EvaluatorHoldout: Processed 10052 (100.0%) in 5.54 sec. Users per second: 1814\n",
      "MAP: 0.03074932178070886, RECALL: 0.12323559921068389\n",
      "EvaluatorHoldout: Processed 10045 (100.0%) in 5.43 sec. Users per second: 1849\n",
      "MAP: 0.031252735705199736, RECALL: 0.11917402425741885\n",
      "EvaluatorHoldout: Processed 10068 (100.0%) in 6.02 sec. Users per second: 1672\n",
      "MAP: 0.03139221153300444, RECALL: 0.1250414836245829\n"
     ]
    },
    {
     "name": "stderr",
     "output_type": "stream",
     "text": [
      "[I 2024-01-10 15:02:43,357] Trial 98 finished with value: 0.031111471892018395 and parameters: {'w_slim': 0.8048137563572879, 'w_knn': 0.08881598625811377, 'w_p3': 0.03728428897899791, 'w_rp3': 0.5393116674105977, 'w_top': 3.865300889575117e-05}. Best is trial 81 with value: 0.03115066960187493.\n"
     ]
    },
    {
     "name": "stdout",
     "output_type": "stream",
     "text": [
      "EvaluatorHoldout: Processed 10057 (100.0%) in 5.21 sec. Users per second: 1930\n",
      "MAP: 0.030753514491209923, RECALL: 0.12181418149358088\n",
      "EvaluatorHoldout: Processed 10040 (100.0%) in 5.85 sec. Users per second: 1716\n",
      "MAP: 0.030927911370391758, RECALL: 0.12113314898917514\n",
      "EvaluatorHoldout: Processed 10017 (100.0%) in 5.79 sec. Users per second: 1731\n",
      "MAP: 0.03053494773171339, RECALL: 0.11906589765423392\n",
      "EvaluatorHoldout: Processed 10037 (100.0%) in 6.35 sec. Users per second: 1580\n",
      "MAP: 0.030712130988359267, RECALL: 0.12132439437598813\n",
      "EvaluatorHoldout: Processed 9989 (100.0%) in 6.28 sec. Users per second: 1591\n",
      "MAP: 0.03110798465613791, RECALL: 0.12456255136673844\n",
      "EvaluatorHoldout: Processed 10024 (100.0%) in 5.94 sec. Users per second: 1687\n",
      "MAP: 0.03139417382409224, RECALL: 0.12148314045127945\n",
      "EvaluatorHoldout: Processed 10030 (100.0%) in 5.84 sec. Users per second: 1716\n",
      "MAP: 0.03119252955419486, RECALL: 0.12525723929006452\n",
      "EvaluatorHoldout: Processed 10052 (100.0%) in 6.23 sec. Users per second: 1614\n",
      "MAP: 0.030537751312224387, RECALL: 0.12189674918223348\n",
      "EvaluatorHoldout: Processed 10045 (100.0%) in 5.91 sec. Users per second: 1698\n",
      "MAP: 0.031198618123207546, RECALL: 0.11808543253202534\n",
      "EvaluatorHoldout: Processed 10068 (100.0%) in 6.24 sec. Users per second: 1613\n",
      "MAP: 0.0313783257972772, RECALL: 0.12393321121143053\n"
     ]
    },
    {
     "name": "stderr",
     "output_type": "stream",
     "text": [
      "[I 2024-01-10 15:03:56,587] Trial 99 finished with value: 0.03097378878488085 and parameters: {'w_slim': 0.8181121231355832, 'w_knn': 0.010679629906392707, 'w_p3': 0.03173112278224696, 'w_rp3': 0.6189319273286091, 'w_top': 2.9374378854455877e-05}. Best is trial 81 with value: 0.03115066960187493.\n"
     ]
    },
    {
     "name": "stdout",
     "output_type": "stream",
     "text": [
      "EvaluatorHoldout: Processed 10057 (100.0%) in 5.46 sec. Users per second: 1843\n",
      "MAP: 0.031033422981071587, RECALL: 0.12331460212631544\n",
      "EvaluatorHoldout: Processed 10040 (100.0%) in 5.96 sec. Users per second: 1683\n",
      "MAP: 0.03110630889141875, RECALL: 0.12217732257752668\n",
      "EvaluatorHoldout: Processed 10017 (100.0%) in 6.24 sec. Users per second: 1606\n",
      "MAP: 0.030645066086066586, RECALL: 0.11978155475705544\n",
      "EvaluatorHoldout: Processed 10037 (100.0%) in 5.79 sec. Users per second: 1735\n",
      "MAP: 0.030991130436433124, RECALL: 0.12261304910768099\n",
      "EvaluatorHoldout: Processed 9989 (100.0%) in 6.09 sec. Users per second: 1641\n",
      "MAP: 0.03119090126122889, RECALL: 0.12624334503802762\n",
      "EvaluatorHoldout: Processed 10024 (100.0%) in 5.23 sec. Users per second: 1916\n",
      "MAP: 0.031483324940777255, RECALL: 0.12285109206889183\n",
      "EvaluatorHoldout: Processed 10030 (100.0%) in 6.01 sec. Users per second: 1670\n",
      "MAP: 0.031455735966703334, RECALL: 0.12665383994602566\n",
      "EvaluatorHoldout: Processed 10052 (100.0%) in 5.81 sec. Users per second: 1730\n",
      "MAP: 0.03075193517518463, RECALL: 0.12329057334430668\n",
      "EvaluatorHoldout: Processed 10045 (100.0%) in 5.16 sec. Users per second: 1946\n",
      "MAP: 0.031276975830982934, RECALL: 0.11939516504937032\n",
      "EvaluatorHoldout: Processed 10068 (100.0%) in 6.46 sec. Users per second: 1557\n",
      "MAP: 0.031502773205693696, RECALL: 0.125149567109644\n"
     ]
    },
    {
     "name": "stderr",
     "output_type": "stream",
     "text": [
      "[I 2024-01-10 15:05:08,347] Trial 100 finished with value: 0.03114375747755608 and parameters: {'w_slim': 0.8099109537217466, 'w_knn': 0.08635696639114702, 'w_p3': 0.03873777657344438, 'w_rp3': 0.6516559480293754, 'w_top': 3.727104263251431e-05}. Best is trial 81 with value: 0.03115066960187493.\n"
     ]
    },
    {
     "name": "stdout",
     "output_type": "stream",
     "text": [
      "EvaluatorHoldout: Processed 10057 (100.0%) in 5.06 sec. Users per second: 1989\n",
      "MAP: 0.03103683212040594, RECALL: 0.12315049407991102\n",
      "EvaluatorHoldout: Processed 10040 (100.0%) in 5.30 sec. Users per second: 1894\n",
      "MAP: 0.031087115822424856, RECALL: 0.12212361604722655\n",
      "EvaluatorHoldout: Processed 10017 (100.0%) in 6.02 sec. Users per second: 1663\n",
      "MAP: 0.03064800553345045, RECALL: 0.11971883176511017\n",
      "EvaluatorHoldout: Processed 10037 (100.0%) in 5.73 sec. Users per second: 1752\n",
      "MAP: 0.03099632154678515, RECALL: 0.122485872687611\n",
      "EvaluatorHoldout: Processed 9989 (100.0%) in 6.36 sec. Users per second: 1570\n",
      "MAP: 0.03120313694270071, RECALL: 0.1263177858544305\n",
      "EvaluatorHoldout: Processed 10024 (100.0%) in 6.02 sec. Users per second: 1665\n",
      "MAP: 0.03145551074247223, RECALL: 0.12271636430773045\n",
      "EvaluatorHoldout: Processed 10030 (100.0%) in 5.11 sec. Users per second: 1964\n",
      "MAP: 0.03144613777714502, RECALL: 0.12663970877792158\n",
      "EvaluatorHoldout: Processed 10052 (100.0%) in 5.52 sec. Users per second: 1822\n",
      "MAP: 0.030765298226997723, RECALL: 0.1232141546488368\n",
      "EvaluatorHoldout: Processed 10045 (100.0%) in 5.42 sec. Users per second: 1854\n",
      "MAP: 0.03127263820743178, RECALL: 0.11926938643039386\n",
      "EvaluatorHoldout: Processed 10068 (100.0%) in 6.01 sec. Users per second: 1675\n",
      "MAP: 0.031523993983767894, RECALL: 0.12529696996935363\n"
     ]
    },
    {
     "name": "stderr",
     "output_type": "stream",
     "text": [
      "[I 2024-01-10 15:06:18,432] Trial 101 finished with value: 0.031143499090358174 and parameters: {'w_slim': 0.8299651606383055, 'w_knn': 0.08614508673777498, 'w_p3': 0.03830020786560013, 'w_rp3': 0.6529693251671064, 'w_top': 3.7012155748975034e-05}. Best is trial 81 with value: 0.03115066960187493.\n"
     ]
    },
    {
     "name": "stdout",
     "output_type": "stream",
     "text": [
      "EvaluatorHoldout: Processed 10057 (100.0%) in 5.22 sec. Users per second: 1928\n",
      "MAP: 0.03102532627515247, RECALL: 0.12382410564656636\n",
      "EvaluatorHoldout: Processed 10040 (100.0%) in 5.52 sec. Users per second: 1818\n",
      "MAP: 0.031094297413520808, RECALL: 0.12220407191516851\n",
      "EvaluatorHoldout: Processed 10017 (100.0%) in 6.28 sec. Users per second: 1595\n",
      "MAP: 0.03069797613897663, RECALL: 0.12004446888372354\n",
      "EvaluatorHoldout: Processed 10037 (100.0%) in 6.64 sec. Users per second: 1512\n",
      "MAP: 0.0309667840102734, RECALL: 0.12264854524399614\n",
      "EvaluatorHoldout: Processed 9989 (100.0%) in 6.55 sec. Users per second: 1526\n",
      "MAP: 0.031185426985557412, RECALL: 0.1261322949610061\n",
      "EvaluatorHoldout: Processed 10024 (100.0%) in 6.10 sec. Users per second: 1644\n",
      "MAP: 0.03146890320373981, RECALL: 0.12315146625916781\n",
      "EvaluatorHoldout: Processed 10030 (100.0%) in 5.75 sec. Users per second: 1744\n",
      "MAP: 0.0314592175853395, RECALL: 0.12718070988907687\n",
      "EvaluatorHoldout: Processed 10052 (100.0%) in 5.53 sec. Users per second: 1819\n",
      "MAP: 0.030749969207739106, RECALL: 0.12359195276936098\n",
      "EvaluatorHoldout: Processed 10045 (100.0%) in 5.86 sec. Users per second: 1714\n",
      "MAP: 0.03130436053631692, RECALL: 0.11903255686971285\n",
      "EvaluatorHoldout: Processed 10068 (100.0%) in 6.07 sec. Users per second: 1659\n",
      "MAP: 0.03147800906218695, RECALL: 0.12538169744962713\n"
     ]
    },
    {
     "name": "stderr",
     "output_type": "stream",
     "text": [
      "[I 2024-01-10 15:07:31,467] Trial 102 finished with value: 0.031143027041880295 and parameters: {'w_slim': 0.8107118022896163, 'w_knn': 0.08967120433562528, 'w_p3': 0.0230935949663831, 'w_rp3': 0.6613252571719137, 'w_top': 4.326862491569446e-05}. Best is trial 81 with value: 0.03115066960187493.\n"
     ]
    },
    {
     "name": "stdout",
     "output_type": "stream",
     "text": [
      "EvaluatorHoldout: Processed 10057 (100.0%) in 5.73 sec. Users per second: 1755\n",
      "MAP: 0.030982277999529895, RECALL: 0.12362455917271654\n",
      "EvaluatorHoldout: Processed 10040 (100.0%) in 6.24 sec. Users per second: 1609\n",
      "MAP: 0.03113961613862043, RECALL: 0.12254985563636792\n",
      "EvaluatorHoldout: Processed 10017 (100.0%) in 6.30 sec. Users per second: 1590\n",
      "MAP: 0.030645660313974366, RECALL: 0.12001579876416314\n",
      "EvaluatorHoldout: Processed 10037 (100.0%) in 6.16 sec. Users per second: 1630\n",
      "MAP: 0.030959782139417833, RECALL: 0.12274383853346832\n",
      "EvaluatorHoldout: Processed 9989 (100.0%) in 6.27 sec. Users per second: 1594\n",
      "MAP: 0.031204968322297633, RECALL: 0.12659238619864346\n",
      "EvaluatorHoldout: Processed 10024 (100.0%) in 6.20 sec. Users per second: 1618\n",
      "MAP: 0.03148806356807178, RECALL: 0.12333969861482887\n",
      "EvaluatorHoldout: Processed 10030 (100.0%) in 6.32 sec. Users per second: 1586\n",
      "MAP: 0.031403191219991106, RECALL: 0.12731312972337078\n",
      "EvaluatorHoldout: Processed 10052 (100.0%) in 7.16 sec. Users per second: 1405\n",
      "MAP: 0.03068755566293399, RECALL: 0.12362814088234117\n",
      "EvaluatorHoldout: Processed 10045 (100.0%) in 7.12 sec. Users per second: 1410\n",
      "MAP: 0.031231221408424128, RECALL: 0.11901838315375624\n",
      "EvaluatorHoldout: Processed 10068 (100.0%) in 7.24 sec. Users per second: 1391\n",
      "MAP: 0.03146026070340757, RECALL: 0.12527532106464237\n"
     ]
    },
    {
     "name": "stderr",
     "output_type": "stream",
     "text": [
      "[I 2024-01-10 15:08:49,821] Trial 103 finished with value: 0.031120259747666867 and parameters: {'w_slim': 0.8202445664023561, 'w_knn': 0.08176564097450433, 'w_p3': 0.041806144465859715, 'w_rp3': 0.63068735150628, 'w_top': 4.572064754397769e-05}. Best is trial 81 with value: 0.03115066960187493.\n"
     ]
    },
    {
     "name": "stdout",
     "output_type": "stream",
     "text": [
      "EvaluatorHoldout: Processed 10057 (100.0%) in 5.73 sec. Users per second: 1755\n",
      "MAP: 0.03101389145363511, RECALL: 0.12351137719375695\n",
      "EvaluatorHoldout: Processed 10040 (100.0%) in 5.59 sec. Users per second: 1796\n",
      "MAP: 0.031157848763675763, RECALL: 0.12279859477641339\n",
      "EvaluatorHoldout: Processed 10017 (100.0%) in 6.47 sec. Users per second: 1549\n",
      "MAP: 0.030651887822448074, RECALL: 0.1199227064572845\n",
      "EvaluatorHoldout: Processed 10037 (100.0%) in 6.20 sec. Users per second: 1618\n",
      "MAP: 0.03100168661666157, RECALL: 0.12342332692716163\n",
      "EvaluatorHoldout: Processed 9989 (100.0%) in 6.19 sec. Users per second: 1614\n",
      "MAP: 0.03114920857387598, RECALL: 0.12647025710512128\n",
      "EvaluatorHoldout: Processed 10024 (100.0%) in 6.16 sec. Users per second: 1628\n",
      "MAP: 0.031547017317169204, RECALL: 0.12363519961551678\n",
      "EvaluatorHoldout: Processed 10030 (100.0%) in 5.69 sec. Users per second: 1761\n",
      "MAP: 0.031386431973919805, RECALL: 0.12766361568563236\n",
      "EvaluatorHoldout: Processed 10052 (100.0%) in 5.86 sec. Users per second: 1715\n",
      "MAP: 0.03072179034102067, RECALL: 0.1237319932421072\n",
      "EvaluatorHoldout: Processed 10045 (100.0%) in 6.28 sec. Users per second: 1600\n",
      "MAP: 0.03122712476395922, RECALL: 0.11891802044607859\n",
      "EvaluatorHoldout: Processed 10068 (100.0%) in 6.53 sec. Users per second: 1541\n",
      "MAP: 0.03138694575300683, RECALL: 0.12525498594475967\n"
     ]
    },
    {
     "name": "stderr",
     "output_type": "stream",
     "text": [
      "[I 2024-01-10 15:10:04,099] Trial 104 finished with value: 0.031124383337937222 and parameters: {'w_slim': 0.8029557986872257, 'w_knn': 0.09762376649858309, 'w_p3': 0.040322528775199165, 'w_rp3': 0.6498926546937599, 'w_top': 4.980051746553329e-05}. Best is trial 81 with value: 0.03115066960187493.\n"
     ]
    },
    {
     "name": "stdout",
     "output_type": "stream",
     "text": [
      "EvaluatorHoldout: Processed 10057 (100.0%) in 5.93 sec. Users per second: 1697\n",
      "MAP: 0.031033908309935142, RECALL: 0.12286292143219388\n",
      "EvaluatorHoldout: Processed 10040 (100.0%) in 6.17 sec. Users per second: 1628\n",
      "MAP: 0.03106191899070415, RECALL: 0.12186542440140952\n",
      "EvaluatorHoldout: Processed 10017 (100.0%) in 6.27 sec. Users per second: 1597\n",
      "MAP: 0.03063993195694321, RECALL: 0.11977932600425073\n",
      "EvaluatorHoldout: Processed 10037 (100.0%) in 6.27 sec. Users per second: 1600\n",
      "MAP: 0.03101199371848001, RECALL: 0.1222946205845812\n",
      "EvaluatorHoldout: Processed 9989 (100.0%) in 6.34 sec. Users per second: 1577\n",
      "MAP: 0.031214586044649415, RECALL: 0.12635569775504565\n",
      "EvaluatorHoldout: Processed 10024 (100.0%) in 6.01 sec. Users per second: 1669\n",
      "MAP: 0.03148791313545923, RECALL: 0.12282245059393374\n",
      "EvaluatorHoldout: Processed 10030 (100.0%) in 6.34 sec. Users per second: 1582\n",
      "MAP: 0.03143263067939063, RECALL: 0.12641171548312177\n",
      "EvaluatorHoldout: Processed 10052 (100.0%) in 7.35 sec. Users per second: 1367\n",
      "MAP: 0.03068162223106543, RECALL: 0.12301970108932139\n",
      "EvaluatorHoldout: Processed 10045 (100.0%) in 6.76 sec. Users per second: 1486\n",
      "MAP: 0.03129466211571754, RECALL: 0.11910270196818588\n",
      "EvaluatorHoldout: Processed 10068 (100.0%) in 7.01 sec. Users per second: 1436\n",
      "MAP: 0.03153811620662074, RECALL: 0.1254021011950901\n"
     ]
    },
    {
     "name": "stderr",
     "output_type": "stream",
     "text": [
      "[I 2024-01-10 15:11:22,097] Trial 105 finished with value: 0.031139728338896548 and parameters: {'w_slim': 0.8154420982423173, 'w_knn': 0.07618834620259547, 'w_p3': 0.036190666232230696, 'w_rp3': 0.6273111191474957, 'w_top': 3.5560267997122194e-05}. Best is trial 81 with value: 0.03115066960187493.\n"
     ]
    },
    {
     "name": "stdout",
     "output_type": "stream",
     "text": [
      "EvaluatorHoldout: Processed 10057 (100.0%) in 6.33 sec. Users per second: 1589\n",
      "MAP: 0.03103070829604609, RECALL: 0.12340070850312282\n",
      "EvaluatorHoldout: Processed 10040 (100.0%) in 6.20 sec. Users per second: 1621\n",
      "MAP: 0.03110421409599724, RECALL: 0.12217148888880976\n",
      "EvaluatorHoldout: Processed 10017 (100.0%) in 6.06 sec. Users per second: 1652\n",
      "MAP: 0.03070364507321702, RECALL: 0.12004407633763446\n",
      "EvaluatorHoldout: Processed 10037 (100.0%) in 6.13 sec. Users per second: 1637\n",
      "MAP: 0.031016658996633403, RECALL: 0.12289775476207934\n",
      "EvaluatorHoldout: Processed 9989 (100.0%) in 6.43 sec. Users per second: 1552\n",
      "MAP: 0.031163061113256618, RECALL: 0.12584761517908535\n",
      "EvaluatorHoldout: Processed 10024 (100.0%) in 6.25 sec. Users per second: 1604\n",
      "MAP: 0.03147996791826623, RECALL: 0.12314674778294786\n",
      "EvaluatorHoldout: Processed 10030 (100.0%) in 6.05 sec. Users per second: 1658\n",
      "MAP: 0.0314672371773571, RECALL: 0.12701929856970576\n",
      "EvaluatorHoldout: Processed 10052 (100.0%) in 6.21 sec. Users per second: 1618\n",
      "MAP: 0.030786347500931996, RECALL: 0.12365864044192505\n",
      "EvaluatorHoldout: Processed 10045 (100.0%) in 6.10 sec. Users per second: 1648\n",
      "MAP: 0.03132005183025611, RECALL: 0.11912484435048383\n",
      "EvaluatorHoldout: Processed 10068 (100.0%) in 6.47 sec. Users per second: 1557\n",
      "MAP: 0.031461888523122435, RECALL: 0.1253242449755989\n"
     ]
    },
    {
     "name": "stderr",
     "output_type": "stream",
     "text": [
      "[I 2024-01-10 15:12:37,848] Trial 106 finished with value: 0.031153378052508424 and parameters: {'w_slim': 0.8087621697277146, 'w_knn': 0.09230246650562128, 'w_p3': 0.029069780601714723, 'w_rp3': 0.6594818760235236, 'w_top': 4.0762921374222585e-05}. Best is trial 106 with value: 0.031153378052508424.\n"
     ]
    },
    {
     "name": "stdout",
     "output_type": "stream",
     "text": [
      "EvaluatorHoldout: Processed 10057 (100.0%) in 5.65 sec. Users per second: 1779\n",
      "MAP: 0.03106272421798942, RECALL: 0.12322028170267703\n",
      "EvaluatorHoldout: Processed 10040 (100.0%) in 5.66 sec. Users per second: 1773\n",
      "MAP: 0.03106020758236922, RECALL: 0.1218834336154941\n",
      "EvaluatorHoldout: Processed 10017 (100.0%) in 5.29 sec. Users per second: 1895\n",
      "MAP: 0.030681163450705436, RECALL: 0.11981349454965194\n",
      "EvaluatorHoldout: Processed 10037 (100.0%) in 5.88 sec. Users per second: 1707\n",
      "MAP: 0.030977249257114082, RECALL: 0.12283858382208149\n",
      "EvaluatorHoldout: Processed 9989 (100.0%) in 6.38 sec. Users per second: 1565\n",
      "MAP: 0.031197094581818074, RECALL: 0.1259226012625226\n",
      "EvaluatorHoldout: Processed 10024 (100.0%) in 5.97 sec. Users per second: 1679\n",
      "MAP: 0.03147884363242527, RECALL: 0.12306325162198177\n",
      "EvaluatorHoldout: Processed 10030 (100.0%) in 5.29 sec. Users per second: 1897\n",
      "MAP: 0.03143469986864829, RECALL: 0.12679203591241744\n",
      "EvaluatorHoldout: Processed 10052 (100.0%) in 6.31 sec. Users per second: 1592\n",
      "MAP: 0.030737964173599218, RECALL: 0.12353004500477799\n",
      "EvaluatorHoldout: Processed 10045 (100.0%) in 6.10 sec. Users per second: 1647\n",
      "MAP: 0.03132401810898593, RECALL: 0.11927646775847371\n",
      "EvaluatorHoldout: Processed 10068 (100.0%) in 6.43 sec. Users per second: 1565\n",
      "MAP: 0.031468423450694304, RECALL: 0.12538363946889736\n"
     ]
    },
    {
     "name": "stderr",
     "output_type": "stream",
     "text": [
      "[I 2024-01-10 15:13:50,348] Trial 107 finished with value: 0.031142238832434922 and parameters: {'w_slim': 0.823680840946946, 'w_knn': 0.09181411388503817, 'w_p3': 0.02356179021500194, 'w_rp3': 0.6380305071813372, 'w_top': 4.0487878861140005e-05}. Best is trial 106 with value: 0.031153378052508424.\n"
     ]
    },
    {
     "name": "stdout",
     "output_type": "stream",
     "text": [
      "EvaluatorHoldout: Processed 10057 (100.0%) in 5.82 sec. Users per second: 1728\n",
      "MAP: 0.031040351741107634, RECALL: 0.12369791628669083\n",
      "EvaluatorHoldout: Processed 10040 (100.0%) in 5.70 sec. Users per second: 1760\n",
      "MAP: 0.031141754410928018, RECALL: 0.12226680354208037\n",
      "EvaluatorHoldout: Processed 10017 (100.0%) in 5.89 sec. Users per second: 1701\n",
      "MAP: 0.03070334795926311, RECALL: 0.12019186117809745\n",
      "EvaluatorHoldout: Processed 10037 (100.0%) in 6.14 sec. Users per second: 1634\n",
      "MAP: 0.03098707006298948, RECALL: 0.1229935034281119\n",
      "EvaluatorHoldout: Processed 9989 (100.0%) in 6.27 sec. Users per second: 1593\n",
      "MAP: 0.03118247135340968, RECALL: 0.12620408446575715\n",
      "EvaluatorHoldout: Processed 10024 (100.0%) in 5.43 sec. Users per second: 1846\n",
      "MAP: 0.03150979316307551, RECALL: 0.12330113256450445\n",
      "EvaluatorHoldout: Processed 10030 (100.0%) in 5.17 sec. Users per second: 1939\n",
      "MAP: 0.031435906566016546, RECALL: 0.12717405381574035\n",
      "EvaluatorHoldout: Processed 10052 (100.0%) in 6.35 sec. Users per second: 1582\n",
      "MAP: 0.030754062999387623, RECALL: 0.12367296643575293\n",
      "EvaluatorHoldout: Processed 10045 (100.0%) in 6.43 sec. Users per second: 1561\n",
      "MAP: 0.0313046331192177, RECALL: 0.11937500501993026\n",
      "EvaluatorHoldout: Processed 10068 (100.0%) in 6.95 sec. Users per second: 1449\n",
      "MAP: 0.031449319232394614, RECALL: 0.12542361135017585\n"
     ]
    },
    {
     "name": "stderr",
     "output_type": "stream",
     "text": [
      "[I 2024-01-10 15:15:04,086] Trial 108 finished with value: 0.031150871060778997 and parameters: {'w_slim': 0.8010124720890948, 'w_knn': 0.09468208305073066, 'w_p3': 0.02932438579383241, 'w_rp3': 0.660604592460696, 'w_top': 4.305835217630722e-05}. Best is trial 106 with value: 0.031153378052508424.\n"
     ]
    },
    {
     "name": "stdout",
     "output_type": "stream",
     "text": [
      "EvaluatorHoldout: Processed 10057 (100.0%) in 6.10 sec. Users per second: 1647\n",
      "MAP: 0.03102941408574324, RECALL: 0.12352161964530252\n",
      "EvaluatorHoldout: Processed 10040 (100.0%) in 6.26 sec. Users per second: 1604\n",
      "MAP: 0.03109766094352776, RECALL: 0.12212690566229913\n",
      "EvaluatorHoldout: Processed 10017 (100.0%) in 6.56 sec. Users per second: 1528\n",
      "MAP: 0.030705641678987174, RECALL: 0.11999059908860742\n",
      "EvaluatorHoldout: Processed 10037 (100.0%) in 6.66 sec. Users per second: 1508\n",
      "MAP: 0.030973532849093596, RECALL: 0.12270756916628264\n",
      "EvaluatorHoldout: Processed 9989 (100.0%) in 7.04 sec. Users per second: 1418\n",
      "MAP: 0.031167160861074437, RECALL: 0.12622131341126633\n",
      "EvaluatorHoldout: Processed 10024 (100.0%) in 5.82 sec. Users per second: 1722\n",
      "MAP: 0.0314889701224999, RECALL: 0.12331295388478893\n",
      "EvaluatorHoldout: Processed 10030 (100.0%) in 5.68 sec. Users per second: 1767\n",
      "MAP: 0.031461053347893085, RECALL: 0.1271918707002117\n",
      "EvaluatorHoldout: Processed 10052 (100.0%) in 6.31 sec. Users per second: 1593\n",
      "MAP: 0.030748433542405203, RECALL: 0.12360127642027059\n",
      "EvaluatorHoldout: Processed 10045 (100.0%) in 6.03 sec. Users per second: 1667\n",
      "MAP: 0.031330887988180345, RECALL: 0.11930330626713087\n",
      "EvaluatorHoldout: Processed 10068 (100.0%) in 6.15 sec. Users per second: 1638\n",
      "MAP: 0.03147811153994138, RECALL: 0.1253696621200978\n"
     ]
    },
    {
     "name": "stderr",
     "output_type": "stream",
     "text": [
      "[I 2024-01-10 15:16:20,373] Trial 109 finished with value: 0.031148086695934617 and parameters: {'w_slim': 0.8319298694095548, 'w_knn': 0.0948611112785639, 'w_p3': 0.0259860601659892, 'w_rp3': 0.6666550953628677, 'w_top': 4.328556005010528e-05}. Best is trial 106 with value: 0.031153378052508424.\n"
     ]
    },
    {
     "name": "stdout",
     "output_type": "stream",
     "text": [
      "EvaluatorHoldout: Processed 10057 (100.0%) in 5.29 sec. Users per second: 1902\n",
      "MAP: 0.031054402603572537, RECALL: 0.12385269161210022\n",
      "EvaluatorHoldout: Processed 10040 (100.0%) in 5.59 sec. Users per second: 1796\n",
      "MAP: 0.031141710934041906, RECALL: 0.12260978835902703\n",
      "EvaluatorHoldout: Processed 10017 (100.0%) in 6.31 sec. Users per second: 1588\n",
      "MAP: 0.030712744683245023, RECALL: 0.12009399967405614\n",
      "EvaluatorHoldout: Processed 10037 (100.0%) in 5.91 sec. Users per second: 1697\n",
      "MAP: 0.030972196523656487, RECALL: 0.12293135028708305\n",
      "EvaluatorHoldout: Processed 9989 (100.0%) in 6.65 sec. Users per second: 1501\n",
      "MAP: 0.03114635225732458, RECALL: 0.1263643746770338\n",
      "EvaluatorHoldout: Processed 10024 (100.0%) in 5.71 sec. Users per second: 1757\n",
      "MAP: 0.031554032227416345, RECALL: 0.12385132606896683\n",
      "EvaluatorHoldout: Processed 10030 (100.0%) in 5.50 sec. Users per second: 1823\n",
      "MAP: 0.031398981626549215, RECALL: 0.12738876435021756\n",
      "EvaluatorHoldout: Processed 10052 (100.0%) in 6.28 sec. Users per second: 1600\n",
      "MAP: 0.030728908090627453, RECALL: 0.12379195050717258\n",
      "EvaluatorHoldout: Processed 10045 (100.0%) in 5.73 sec. Users per second: 1753\n",
      "MAP: 0.03126191661333542, RECALL: 0.1191184895313669\n",
      "EvaluatorHoldout: Processed 10068 (100.0%) in 6.13 sec. Users per second: 1643\n",
      "MAP: 0.031395510528407104, RECALL: 0.12523527837380335\n"
     ]
    },
    {
     "name": "stderr",
     "output_type": "stream",
     "text": [
      "[I 2024-01-10 15:17:32,984] Trial 110 finished with value: 0.03113667560881761 and parameters: {'w_slim': 0.832107635933144, 'w_knn': 0.09784634764908115, 'w_p3': 0.02939622126073036, 'w_rp3': 0.6600169737069167, 'w_top': 4.766229646150937e-05}. Best is trial 106 with value: 0.031153378052508424.\n"
     ]
    },
    {
     "name": "stdout",
     "output_type": "stream",
     "text": [
      "EvaluatorHoldout: Processed 10057 (100.0%) in 5.44 sec. Users per second: 1848\n",
      "MAP: 0.031021917135818144, RECALL: 0.1234553308249121\n",
      "EvaluatorHoldout: Processed 10040 (100.0%) in 5.87 sec. Users per second: 1711\n",
      "MAP: 0.03109025011066872, RECALL: 0.12210317123492927\n",
      "EvaluatorHoldout: Processed 10017 (100.0%) in 6.35 sec. Users per second: 1578\n",
      "MAP: 0.030699315132528847, RECALL: 0.11981742957509066\n",
      "EvaluatorHoldout: Processed 10037 (100.0%) in 5.99 sec. Users per second: 1675\n",
      "MAP: 0.030975948514306913, RECALL: 0.12263554992319636\n",
      "EvaluatorHoldout: Processed 9989 (100.0%) in 6.40 sec. Users per second: 1560\n",
      "MAP: 0.03118542301293354, RECALL: 0.12620674566260487\n",
      "EvaluatorHoldout: Processed 10024 (100.0%) in 5.81 sec. Users per second: 1725\n",
      "MAP: 0.03149047444862513, RECALL: 0.12334260335116175\n",
      "EvaluatorHoldout: Processed 10030 (100.0%) in 5.94 sec. Users per second: 1688\n",
      "MAP: 0.03145709696307928, RECALL: 0.1272195545247194\n",
      "EvaluatorHoldout: Processed 10052 (100.0%) in 6.28 sec. Users per second: 1601\n",
      "MAP: 0.030740427554494736, RECALL: 0.12363152889701479\n",
      "EvaluatorHoldout: Processed 10045 (100.0%) in 5.68 sec. Users per second: 1767\n",
      "MAP: 0.0313351189488573, RECALL: 0.1192097578463121\n",
      "EvaluatorHoldout: Processed 10068 (100.0%) in 6.52 sec. Users per second: 1544\n",
      "MAP: 0.03149060594307941, RECALL: 0.12538943107286155\n"
     ]
    },
    {
     "name": "stderr",
     "output_type": "stream",
     "text": [
      "[I 2024-01-10 15:18:46,830] Trial 111 finished with value: 0.031148657776439197 and parameters: {'w_slim': 0.83707523718039, 'w_knn': 0.09411776161339773, 'w_p3': 0.026078539284471736, 'w_rp3': 0.665742613223532, 'w_top': 4.33794052102212e-05}. Best is trial 106 with value: 0.031153378052508424.\n"
     ]
    },
    {
     "name": "stdout",
     "output_type": "stream",
     "text": [
      "EvaluatorHoldout: Processed 10057 (100.0%) in 5.52 sec. Users per second: 1822\n",
      "MAP: 0.031014688497785076, RECALL: 0.12349711286927942\n",
      "EvaluatorHoldout: Processed 10040 (100.0%) in 5.94 sec. Users per second: 1691\n",
      "MAP: 0.031107569721115814, RECALL: 0.12217202281274496\n",
      "EvaluatorHoldout: Processed 10017 (100.0%) in 6.22 sec. Users per second: 1611\n",
      "MAP: 0.030704548299636824, RECALL: 0.11985143349620148\n",
      "EvaluatorHoldout: Processed 10037 (100.0%) in 6.34 sec. Users per second: 1584\n",
      "MAP: 0.030981337305936614, RECALL: 0.12281772182553308\n",
      "EvaluatorHoldout: Processed 9989 (100.0%) in 6.37 sec. Users per second: 1568\n",
      "MAP: 0.031174899532342985, RECALL: 0.12623080275514195\n",
      "EvaluatorHoldout: Processed 10024 (100.0%) in 5.86 sec. Users per second: 1712\n",
      "MAP: 0.03149423130518524, RECALL: 0.12324064170989447\n",
      "EvaluatorHoldout: Processed 10030 (100.0%) in 6.33 sec. Users per second: 1584\n",
      "MAP: 0.031459731915365295, RECALL: 0.1272178987623851\n",
      "EvaluatorHoldout: Processed 10052 (100.0%) in 6.60 sec. Users per second: 1523\n",
      "MAP: 0.030746416254524418, RECALL: 0.12362337792350325\n",
      "EvaluatorHoldout: Processed 10045 (100.0%) in 6.25 sec. Users per second: 1607\n",
      "MAP: 0.031305913073708176, RECALL: 0.1191486642079455\n",
      "EvaluatorHoldout: Processed 10068 (100.0%) in 6.24 sec. Users per second: 1613\n",
      "MAP: 0.03148888746996642, RECALL: 0.12540388692804166\n"
     ]
    },
    {
     "name": "stderr",
     "output_type": "stream",
     "text": [
      "[I 2024-01-10 15:20:02,030] Trial 112 finished with value: 0.03114782233755669 and parameters: {'w_slim': 0.8394343578462581, 'w_knn': 0.0949970332368843, 'w_p3': 0.028897340873987893, 'w_rp3': 0.6684982473700718, 'w_top': 4.3486942156135196e-05}. Best is trial 106 with value: 0.031153378052508424.\n"
     ]
    },
    {
     "name": "stdout",
     "output_type": "stream",
     "text": [
      "EvaluatorHoldout: Processed 10057 (100.0%) in 5.17 sec. Users per second: 1944\n",
      "MAP: 0.031032081421611346, RECALL: 0.12351458901283688\n",
      "EvaluatorHoldout: Processed 10040 (100.0%) in 6.22 sec. Users per second: 1614\n",
      "MAP: 0.031102210206792144, RECALL: 0.12207015376429382\n",
      "EvaluatorHoldout: Processed 10017 (100.0%) in 6.33 sec. Users per second: 1583\n",
      "MAP: 0.03070684994239969, RECALL: 0.11984276706970622\n",
      "EvaluatorHoldout: Processed 10037 (100.0%) in 6.26 sec. Users per second: 1603\n",
      "MAP: 0.030977154370100787, RECALL: 0.12275130091623082\n",
      "EvaluatorHoldout: Processed 9989 (100.0%) in 6.91 sec. Users per second: 1446\n",
      "MAP: 0.031175447754434905, RECALL: 0.12608924353122372\n",
      "EvaluatorHoldout: Processed 10024 (100.0%) in 6.28 sec. Users per second: 1597\n",
      "MAP: 0.031492901164190325, RECALL: 0.12327476616041955\n",
      "EvaluatorHoldout: Processed 10030 (100.0%) in 6.07 sec. Users per second: 1652\n",
      "MAP: 0.031450264286505845, RECALL: 0.1271817394320973\n",
      "EvaluatorHoldout: Processed 10052 (100.0%) in 6.25 sec. Users per second: 1609\n",
      "MAP: 0.03074903754445171, RECALL: 0.12364770957959972\n",
      "EvaluatorHoldout: Processed 10045 (100.0%) in 6.06 sec. Users per second: 1659\n",
      "MAP: 0.03130954356190809, RECALL: 0.11912054830526514\n",
      "EvaluatorHoldout: Processed 10068 (100.0%) in 6.39 sec. Users per second: 1577\n",
      "MAP: 0.03148348373914553, RECALL: 0.12535268746534042\n"
     ]
    },
    {
     "name": "stderr",
     "output_type": "stream",
     "text": [
      "[I 2024-01-10 15:21:17,498] Trial 113 finished with value: 0.031147897399154034 and parameters: {'w_slim': 0.8385234470524132, 'w_knn': 0.09475946899680754, 'w_p3': 0.028690984307433425, 'w_rp3': 0.6634253662220445, 'w_top': 4.33660485503179e-05}. Best is trial 106 with value: 0.031153378052508424.\n"
     ]
    },
    {
     "name": "stdout",
     "output_type": "stream",
     "text": [
      "EvaluatorHoldout: Processed 10057 (100.0%) in 5.11 sec. Users per second: 1967\n",
      "MAP: 0.03100432297807282, RECALL: 0.12358518615596771\n",
      "EvaluatorHoldout: Processed 10040 (100.0%) in 5.86 sec. Users per second: 1715\n",
      "MAP: 0.031101143046860423, RECALL: 0.12216724830354617\n",
      "EvaluatorHoldout: Processed 10017 (100.0%) in 6.06 sec. Users per second: 1653\n",
      "MAP: 0.030695658650136213, RECALL: 0.11997539070326006\n",
      "EvaluatorHoldout: Processed 10037 (100.0%) in 6.14 sec. Users per second: 1634\n",
      "MAP: 0.030980744262103566, RECALL: 0.12259714483380825\n",
      "EvaluatorHoldout: Processed 9989 (100.0%) in 6.59 sec. Users per second: 1515\n",
      "MAP: 0.031184509309447002, RECALL: 0.1262911033296796\n",
      "EvaluatorHoldout: Processed 10024 (100.0%) in 5.95 sec. Users per second: 1685\n",
      "MAP: 0.03145745449017617, RECALL: 0.12306538123025691\n",
      "EvaluatorHoldout: Processed 10030 (100.0%) in 5.53 sec. Users per second: 1812\n",
      "MAP: 0.0314399143838329, RECALL: 0.1272726646071424\n",
      "EvaluatorHoldout: Processed 10052 (100.0%) in 5.94 sec. Users per second: 1694\n",
      "MAP: 0.030742583012778345, RECALL: 0.12353617841984244\n",
      "EvaluatorHoldout: Processed 10045 (100.0%) in 5.52 sec. Users per second: 1819\n",
      "MAP: 0.031272334020716476, RECALL: 0.11910800267904657\n",
      "EvaluatorHoldout: Processed 10068 (100.0%) in 6.01 sec. Users per second: 1676\n",
      "MAP: 0.0314813435306585, RECALL: 0.12531520415714664\n"
     ]
    },
    {
     "name": "stderr",
     "output_type": "stream",
     "text": [
      "[I 2024-01-10 15:22:29,734] Trial 114 finished with value: 0.031136000768478243 and parameters: {'w_slim': 0.841733373042706, 'w_knn': 0.09082412479441469, 'w_p3': 0.029070006513577176, 'w_rp3': 0.6670193912852762, 'w_top': 4.449660177757599e-05}. Best is trial 106 with value: 0.031153378052508424.\n"
     ]
    },
    {
     "name": "stdout",
     "output_type": "stream",
     "text": [
      "EvaluatorHoldout: Processed 10057 (100.0%) in 5.36 sec. Users per second: 1877\n",
      "MAP: 0.031024781759842145, RECALL: 0.12351151435481066\n",
      "EvaluatorHoldout: Processed 10040 (100.0%) in 5.19 sec. Users per second: 1935\n",
      "MAP: 0.031115940997913403, RECALL: 0.12297779500940942\n",
      "EvaluatorHoldout: Processed 10017 (100.0%) in 5.88 sec. Users per second: 1704\n",
      "MAP: 0.03061818321551796, RECALL: 0.11988569494752743\n",
      "EvaluatorHoldout: Processed 10037 (100.0%) in 6.47 sec. Users per second: 1551\n",
      "MAP: 0.03096398484338137, RECALL: 0.12304924171784028\n",
      "EvaluatorHoldout: Processed 9989 (100.0%) in 6.36 sec. Users per second: 1571\n",
      "MAP: 0.03116596510129424, RECALL: 0.1270600544908814\n",
      "EvaluatorHoldout: Processed 10024 (100.0%) in 5.73 sec. Users per second: 1748\n",
      "MAP: 0.03150452010413128, RECALL: 0.1231844901657945\n",
      "EvaluatorHoldout: Processed 10030 (100.0%) in 5.76 sec. Users per second: 1742\n",
      "MAP: 0.03135240310813617, RECALL: 0.12775046009369054\n",
      "EvaluatorHoldout: Processed 10052 (100.0%) in 5.77 sec. Users per second: 1741\n",
      "MAP: 0.03072413923786816, RECALL: 0.12414651466737918\n",
      "EvaluatorHoldout: Processed 10045 (100.0%) in 5.81 sec. Users per second: 1728\n",
      "MAP: 0.031199479327154982, RECALL: 0.11868893483160123\n",
      "EvaluatorHoldout: Processed 10068 (100.0%) in 5.71 sec. Users per second: 1764\n",
      "MAP: 0.031374277925976655, RECALL: 0.12495750990151641\n"
     ]
    },
    {
     "name": "stderr",
     "output_type": "stream",
     "text": [
      "[I 2024-01-10 15:23:41,319] Trial 115 finished with value: 0.03110436756212163 and parameters: {'w_slim': 0.837324768298096, 'w_knn': 0.09538374437503433, 'w_p3': 0.025161942810190692, 'w_rp3': 0.6582546025395024, 'w_top': 5.564152528533852e-05}. Best is trial 106 with value: 0.031153378052508424.\n"
     ]
    },
    {
     "name": "stdout",
     "output_type": "stream",
     "text": [
      "EvaluatorHoldout: Processed 10057 (100.0%) in 5.44 sec. Users per second: 1849\n",
      "MAP: 0.031040375415686352, RECALL: 0.12362801363715495\n",
      "EvaluatorHoldout: Processed 10040 (100.0%) in 5.48 sec. Users per second: 1833\n",
      "MAP: 0.03110787405931858, RECALL: 0.12274505534914379\n",
      "EvaluatorHoldout: Processed 10017 (100.0%) in 5.90 sec. Users per second: 1697\n",
      "MAP: 0.030673042335965593, RECALL: 0.11978303973104303\n",
      "EvaluatorHoldout: Processed 10037 (100.0%) in 5.60 sec. Users per second: 1792\n",
      "MAP: 0.0309729279443839, RECALL: 0.12311184950239254\n",
      "EvaluatorHoldout: Processed 9989 (100.0%) in 5.86 sec. Users per second: 1705\n",
      "MAP: 0.03111869087742576, RECALL: 0.12627232501694838\n",
      "EvaluatorHoldout: Processed 10024 (100.0%) in 6.18 sec. Users per second: 1622\n",
      "MAP: 0.03150751688012287, RECALL: 0.12370518604851274\n",
      "EvaluatorHoldout: Processed 10030 (100.0%) in 5.97 sec. Users per second: 1679\n",
      "MAP: 0.03136443051797018, RECALL: 0.12759156397642243\n",
      "EvaluatorHoldout: Processed 10052 (100.0%) in 6.06 sec. Users per second: 1659\n",
      "MAP: 0.030707811443983643, RECALL: 0.1236235300122723\n",
      "EvaluatorHoldout: Processed 10045 (100.0%) in 5.58 sec. Users per second: 1799\n",
      "MAP: 0.03124191534918282, RECALL: 0.11891489615360305\n",
      "EvaluatorHoldout: Processed 10068 (100.0%) in 6.16 sec. Users per second: 1635\n",
      "MAP: 0.031406487472488906, RECALL: 0.12525889289992928\n"
     ]
    },
    {
     "name": "stderr",
     "output_type": "stream",
     "text": [
      "[I 2024-01-10 15:24:53,126] Trial 116 finished with value: 0.03111410722965286 and parameters: {'w_slim': 0.8269644273635653, 'w_knn': 0.09894754984636969, 'w_p3': 0.02087174900943129, 'w_rp3': 0.6666604685629303, 'w_top': 5.087265062193208e-05}. Best is trial 106 with value: 0.031153378052508424.\n"
     ]
    },
    {
     "name": "stdout",
     "output_type": "stream",
     "text": [
      "EvaluatorHoldout: Processed 10057 (100.0%) in 5.35 sec. Users per second: 1879\n",
      "MAP: 0.030991854366618447, RECALL: 0.12319005006513602\n",
      "EvaluatorHoldout: Processed 10040 (100.0%) in 5.96 sec. Users per second: 1685\n",
      "MAP: 0.031078424397647835, RECALL: 0.1227739817764107\n",
      "EvaluatorHoldout: Processed 10017 (100.0%) in 6.21 sec. Users per second: 1614\n",
      "MAP: 0.030573580468758858, RECALL: 0.11946932542087932\n",
      "EvaluatorHoldout: Processed 10037 (100.0%) in 6.56 sec. Users per second: 1530\n",
      "MAP: 0.030864250685163613, RECALL: 0.122087985360516\n",
      "EvaluatorHoldout: Processed 9989 (100.0%) in 6.76 sec. Users per second: 1477\n",
      "MAP: 0.031211372191951126, RECALL: 0.1257273145902796\n",
      "EvaluatorHoldout: Processed 10024 (100.0%) in 5.60 sec. Users per second: 1790\n",
      "MAP: 0.031506622201953674, RECALL: 0.12318078710364433\n",
      "EvaluatorHoldout: Processed 10030 (100.0%) in 5.77 sec. Users per second: 1740\n",
      "MAP: 0.031376897086518495, RECALL: 0.12705926737723222\n",
      "EvaluatorHoldout: Processed 10052 (100.0%) in 6.06 sec. Users per second: 1660\n",
      "MAP: 0.030724834037607833, RECALL: 0.1240731021429876\n",
      "EvaluatorHoldout: Processed 10045 (100.0%) in 5.75 sec. Users per second: 1746\n",
      "MAP: 0.031332025725505225, RECALL: 0.11846607200633666\n",
      "EvaluatorHoldout: Processed 10068 (100.0%) in 6.39 sec. Users per second: 1577\n",
      "MAP: 0.03133511565797052, RECALL: 0.12482033978708093\n"
     ]
    },
    {
     "name": "stderr",
     "output_type": "stream",
     "text": [
      "[I 2024-01-10 15:26:07,141] Trial 117 finished with value: 0.031099497681969568 and parameters: {'w_slim': 0.8074156461579117, 'w_knn': 0.05650989520797495, 'w_p3': 0.026453265029162638, 'w_rp3': 0.6740739396502413, 'w_top': 4.67374680088351e-05}. Best is trial 106 with value: 0.031153378052508424.\n"
     ]
    },
    {
     "name": "stdout",
     "output_type": "stream",
     "text": [
      "EvaluatorHoldout: Processed 10057 (100.0%) in 5.52 sec. Users per second: 1822\n",
      "MAP: 0.0310256735023069, RECALL: 0.12346134533639763\n",
      "EvaluatorHoldout: Processed 10040 (100.0%) in 6.11 sec. Users per second: 1642\n",
      "MAP: 0.031094246031746302, RECALL: 0.12215501429791506\n",
      "EvaluatorHoldout: Processed 10017 (100.0%) in 5.90 sec. Users per second: 1698\n",
      "MAP: 0.030692406242720884, RECALL: 0.11986400275649113\n",
      "EvaluatorHoldout: Processed 10037 (100.0%) in 5.66 sec. Users per second: 1772\n",
      "MAP: 0.0309698599309542, RECALL: 0.12251764712954993\n",
      "EvaluatorHoldout: Processed 9989 (100.0%) in 6.20 sec. Users per second: 1611\n",
      "MAP: 0.031192132774623793, RECALL: 0.12606497952507636\n",
      "EvaluatorHoldout: Processed 10024 (100.0%) in 5.39 sec. Users per second: 1859\n",
      "MAP: 0.031479306806521695, RECALL: 0.12335920144304303\n",
      "EvaluatorHoldout: Processed 10030 (100.0%) in 5.37 sec. Users per second: 1868\n",
      "MAP: 0.03141888224216265, RECALL: 0.12715482796543418\n",
      "EvaluatorHoldout: Processed 10052 (100.0%) in 5.83 sec. Users per second: 1724\n",
      "MAP: 0.03074199874936082, RECALL: 0.12354911859988867\n",
      "EvaluatorHoldout: Processed 10045 (100.0%) in 6.04 sec. Users per second: 1663\n",
      "MAP: 0.03129100002370301, RECALL: 0.11913076761021282\n",
      "EvaluatorHoldout: Processed 10068 (100.0%) in 6.58 sec. Users per second: 1530\n",
      "MAP: 0.031503912285348816, RECALL: 0.12539945582580664\n"
     ]
    },
    {
     "name": "stderr",
     "output_type": "stream",
     "text": [
      "[I 2024-01-10 15:27:19,316] Trial 118 finished with value: 0.03114094185894491 and parameters: {'w_slim': 0.8467336977212074, 'w_knn': 0.0894541883550157, 'w_p3': 0.02753711639848588, 'w_rp3': 0.6544628334824526, 'w_top': 4.294353853294569e-05}. Best is trial 106 with value: 0.031153378052508424.\n"
     ]
    },
    {
     "name": "stdout",
     "output_type": "stream",
     "text": [
      "EvaluatorHoldout: Processed 10057 (100.0%) in 5.26 sec. Users per second: 1913\n",
      "MAP: 0.031061615458553113, RECALL: 0.12319871028032223\n",
      "EvaluatorHoldout: Processed 10040 (100.0%) in 5.90 sec. Users per second: 1703\n",
      "MAP: 0.0311159923796879, RECALL: 0.12202675948898226\n",
      "EvaluatorHoldout: Processed 10017 (100.0%) in 6.73 sec. Users per second: 1488\n",
      "MAP: 0.030708652433720014, RECALL: 0.1199361653987284\n",
      "EvaluatorHoldout: Processed 10037 (100.0%) in 6.72 sec. Users per second: 1493\n",
      "MAP: 0.031022925493136032, RECALL: 0.12296915823680432\n",
      "EvaluatorHoldout: Processed 9989 (100.0%) in 7.16 sec. Users per second: 1396\n",
      "MAP: 0.031135880420844125, RECALL: 0.1259675647617911\n",
      "EvaluatorHoldout: Processed 10024 (100.0%) in 6.03 sec. Users per second: 1661\n",
      "MAP: 0.031461904128504546, RECALL: 0.12317096643180574\n",
      "EvaluatorHoldout: Processed 10030 (100.0%) in 5.79 sec. Users per second: 1732\n",
      "MAP: 0.03144055136178794, RECALL: 0.12683107382201061\n",
      "EvaluatorHoldout: Processed 10052 (100.0%) in 6.67 sec. Users per second: 1506\n",
      "MAP: 0.03073839842343657, RECALL: 0.12319585325577\n",
      "EvaluatorHoldout: Processed 10045 (100.0%) in 6.33 sec. Users per second: 1587\n",
      "MAP: 0.03133667938720222, RECALL: 0.11914157742309339\n",
      "EvaluatorHoldout: Processed 10068 (100.0%) in 7.08 sec. Users per second: 1423\n",
      "MAP: 0.031457414974995705, RECALL: 0.1250416436796832\n"
     ]
    },
    {
     "name": "stderr",
     "output_type": "stream",
     "text": [
      "[I 2024-01-10 15:28:36,511] Trial 119 finished with value: 0.031148001446186818 and parameters: {'w_slim': 0.832278015675886, 'w_knn': 0.09703543584839147, 'w_p3': 0.029949962119554946, 'w_rp3': 0.6616805205250352, 'w_top': 3.825521730827759e-05}. Best is trial 106 with value: 0.031153378052508424.\n"
     ]
    },
    {
     "name": "stdout",
     "output_type": "stream",
     "text": [
      "EvaluatorHoldout: Processed 10057 (100.0%) in 6.70 sec. Users per second: 1500\n",
      "MAP: 0.031064302523236803, RECALL: 0.12329114277100801\n",
      "EvaluatorHoldout: Processed 10040 (100.0%) in 6.64 sec. Users per second: 1512\n",
      "MAP: 0.031062737146651774, RECALL: 0.12185188715831698\n",
      "EvaluatorHoldout: Processed 10017 (100.0%) in 7.01 sec. Users per second: 1430\n",
      "MAP: 0.030674840865766474, RECALL: 0.11983661841898045\n",
      "EvaluatorHoldout: Processed 10037 (100.0%) in 6.92 sec. Users per second: 1450\n",
      "MAP: 0.03100621747154606, RECALL: 0.12282627870251576\n",
      "EvaluatorHoldout: Processed 9989 (100.0%) in 7.16 sec. Users per second: 1395\n",
      "MAP: 0.031135026306715434, RECALL: 0.1262275440852079\n",
      "EvaluatorHoldout: Processed 10024 (100.0%) in 6.56 sec. Users per second: 1528\n",
      "MAP: 0.03145872920862968, RECALL: 0.12298733945986544\n",
      "EvaluatorHoldout: Processed 10030 (100.0%) in 6.58 sec. Users per second: 1523\n",
      "MAP: 0.031458450046685606, RECALL: 0.12686262826665556\n",
      "EvaluatorHoldout: Processed 10052 (100.0%) in 6.93 sec. Users per second: 1450\n",
      "MAP: 0.030729622628996225, RECALL: 0.12313277900714109\n",
      "EvaluatorHoldout: Processed 10045 (100.0%) in 6.61 sec. Users per second: 1519\n",
      "MAP: 0.031348372798596945, RECALL: 0.11928379322677043\n",
      "EvaluatorHoldout: Processed 10068 (100.0%) in 6.45 sec. Users per second: 1562\n",
      "MAP: 0.03145855405465089, RECALL: 0.12511986308539041\n"
     ]
    },
    {
     "name": "stderr",
     "output_type": "stream",
     "text": [
      "[I 2024-01-10 15:29:57,647] Trial 120 finished with value: 0.031139685305147585 and parameters: {'w_slim': 0.8435467020792169, 'w_knn': 0.09700827821145491, 'w_p3': 0.024466894531380817, 'w_rp3': 0.6692368790740921, 'w_top': 3.899757797376495e-05}. Best is trial 106 with value: 0.031153378052508424.\n"
     ]
    },
    {
     "name": "stdout",
     "output_type": "stream",
     "text": [
      "EvaluatorHoldout: Processed 10057 (100.0%) in 5.51 sec. Users per second: 1826\n",
      "MAP: 0.03104515373482281, RECALL: 0.12284070272204052\n",
      "EvaluatorHoldout: Processed 10040 (100.0%) in 5.86 sec. Users per second: 1712\n",
      "MAP: 0.03112390912540343, RECALL: 0.12212873401826883\n",
      "EvaluatorHoldout: Processed 10017 (100.0%) in 6.20 sec. Users per second: 1616\n",
      "MAP: 0.030674464521424895, RECALL: 0.11941524777766081\n",
      "EvaluatorHoldout: Processed 10037 (100.0%) in 6.48 sec. Users per second: 1550\n",
      "MAP: 0.031019636076675322, RECALL: 0.12248214842062582\n",
      "EvaluatorHoldout: Processed 9989 (100.0%) in 6.61 sec. Users per second: 1511\n",
      "MAP: 0.03116937758518521, RECALL: 0.1261872942292479\n",
      "EvaluatorHoldout: Processed 10024 (100.0%) in 5.94 sec. Users per second: 1687\n",
      "MAP: 0.031466357725585814, RECALL: 0.12299272499903553\n",
      "EvaluatorHoldout: Processed 10030 (100.0%) in 6.18 sec. Users per second: 1623\n",
      "MAP: 0.031453417525202414, RECALL: 0.12625741888333084\n",
      "EvaluatorHoldout: Processed 10052 (100.0%) in 6.42 sec. Users per second: 1566\n",
      "MAP: 0.03073378747970904, RECALL: 0.12294286444604133\n",
      "EvaluatorHoldout: Processed 10045 (100.0%) in 6.20 sec. Users per second: 1621\n",
      "MAP: 0.031354804174864095, RECALL: 0.11905484187867035\n",
      "EvaluatorHoldout: Processed 10068 (100.0%) in 6.22 sec. Users per second: 1619\n",
      "MAP: 0.03148087055640723, RECALL: 0.12474636239298552\n"
     ]
    },
    {
     "name": "stderr",
     "output_type": "stream",
     "text": [
      "[I 2024-01-10 15:31:13,201] Trial 121 finished with value: 0.03115217785052803 and parameters: {'w_slim': 0.8334914933039184, 'w_knn': 0.09186033227935252, 'w_p3': 0.028484375999153183, 'w_rp3': 0.6614311089710456, 'w_top': 3.4369934198766944e-05}. Best is trial 106 with value: 0.031153378052508424.\n"
     ]
    },
    {
     "name": "stdout",
     "output_type": "stream",
     "text": [
      "EvaluatorHoldout: Processed 10057 (100.0%) in 5.91 sec. Users per second: 1702\n",
      "MAP: 0.031067557777809507, RECALL: 0.12279272104142368\n",
      "EvaluatorHoldout: Processed 10040 (100.0%) in 6.17 sec. Users per second: 1628\n",
      "MAP: 0.031118731423512593, RECALL: 0.1221355322222782\n",
      "EvaluatorHoldout: Processed 10017 (100.0%) in 5.71 sec. Users per second: 1755\n",
      "MAP: 0.030657283411850863, RECALL: 0.11936595002096562\n",
      "EvaluatorHoldout: Processed 10037 (100.0%) in 6.19 sec. Users per second: 1623\n",
      "MAP: 0.031013507957067088, RECALL: 0.12235648454570268\n",
      "EvaluatorHoldout: Processed 9989 (100.0%) in 6.40 sec. Users per second: 1561\n",
      "MAP: 0.031173274729186448, RECALL: 0.12607361487076776\n",
      "EvaluatorHoldout: Processed 10024 (100.0%) in 5.91 sec. Users per second: 1696\n",
      "MAP: 0.031462751301638205, RECALL: 0.12284927285257093\n",
      "EvaluatorHoldout: Processed 10030 (100.0%) in 5.38 sec. Users per second: 1866\n",
      "MAP: 0.031458940638402495, RECALL: 0.12617164360048372\n",
      "EvaluatorHoldout: Processed 10052 (100.0%) in 6.17 sec. Users per second: 1629\n",
      "MAP: 0.030745654343446175, RECALL: 0.12274252702425542\n",
      "EvaluatorHoldout: Processed 10045 (100.0%) in 5.69 sec. Users per second: 1765\n",
      "MAP: 0.03134301200154878, RECALL: 0.11900577944284833\n",
      "EvaluatorHoldout: Processed 10068 (100.0%) in 6.02 sec. Users per second: 1674\n",
      "MAP: 0.031462247195263006, RECALL: 0.12465518929886449\n"
     ]
    },
    {
     "name": "stderr",
     "output_type": "stream",
     "text": [
      "[I 2024-01-10 15:32:26,304] Trial 122 finished with value: 0.031150296077972518 and parameters: {'w_slim': 0.8314013756552211, 'w_knn': 0.09160514926960753, 'w_p3': 0.027782373676494134, 'w_rp3': 0.6632604718115525, 'w_top': 3.383342187471783e-05}. Best is trial 106 with value: 0.031153378052508424.\n"
     ]
    },
    {
     "name": "stdout",
     "output_type": "stream",
     "text": [
      "EvaluatorHoldout: Processed 10057 (100.0%) in 5.97 sec. Users per second: 1685\n",
      "MAP: 0.031058778454870907, RECALL: 0.12299626680243685\n",
      "EvaluatorHoldout: Processed 10040 (100.0%) in 6.21 sec. Users per second: 1618\n",
      "MAP: 0.031107028236261592, RECALL: 0.12183248863539745\n",
      "EvaluatorHoldout: Processed 10017 (100.0%) in 5.95 sec. Users per second: 1684\n",
      "MAP: 0.030665044028326656, RECALL: 0.11926139097829776\n",
      "EvaluatorHoldout: Processed 10037 (100.0%) in 5.45 sec. Users per second: 1842\n",
      "MAP: 0.03102865429656333, RECALL: 0.12232190354493566\n",
      "EvaluatorHoldout: Processed 9989 (100.0%) in 6.37 sec. Users per second: 1569\n",
      "MAP: 0.031192526064385336, RECALL: 0.12617773993378795\n",
      "EvaluatorHoldout: Processed 10024 (100.0%) in 6.19 sec. Users per second: 1620\n",
      "MAP: 0.03145958034051634, RECALL: 0.122821783636032\n",
      "EvaluatorHoldout: Processed 10030 (100.0%) in 5.79 sec. Users per second: 1733\n",
      "MAP: 0.03142386728702806, RECALL: 0.1261960875062488\n",
      "EvaluatorHoldout: Processed 10052 (100.0%) in 6.42 sec. Users per second: 1567\n",
      "MAP: 0.030751461448089316, RECALL: 0.12272690499758496\n",
      "EvaluatorHoldout: Processed 10045 (100.0%) in 5.67 sec. Users per second: 1771\n",
      "MAP: 0.03134081553643545, RECALL: 0.11917908864509312\n",
      "EvaluatorHoldout: Processed 10068 (100.0%) in 6.52 sec. Users per second: 1543\n",
      "MAP: 0.03143682088780448, RECALL: 0.12450457901298284\n"
     ]
    },
    {
     "name": "stderr",
     "output_type": "stream",
     "text": [
      "[I 2024-01-10 15:33:40,434] Trial 123 finished with value: 0.031146457658028148 and parameters: {'w_slim': 0.8524853031725116, 'w_knn': 0.09539896430434838, 'w_p3': 0.027953315583704196, 'w_rp3': 0.6619358250314338, 'w_top': 3.3415995155451735e-05}. Best is trial 106 with value: 0.031153378052508424.\n"
     ]
    },
    {
     "name": "stdout",
     "output_type": "stream",
     "text": [
      "EvaluatorHoldout: Processed 10057 (100.0%) in 5.28 sec. Users per second: 1906\n",
      "MAP: 0.03105740138354256, RECALL: 0.12310033158111139\n",
      "EvaluatorHoldout: Processed 10040 (100.0%) in 5.95 sec. Users per second: 1687\n",
      "MAP: 0.031112340321254976, RECALL: 0.12218387520935291\n",
      "EvaluatorHoldout: Processed 10017 (100.0%) in 5.77 sec. Users per second: 1735\n",
      "MAP: 0.030669441314844337, RECALL: 0.11972767331927661\n",
      "EvaluatorHoldout: Processed 10037 (100.0%) in 6.49 sec. Users per second: 1545\n",
      "MAP: 0.031010783909060605, RECALL: 0.12254464515534741\n",
      "EvaluatorHoldout: Processed 9989 (100.0%) in 6.28 sec. Users per second: 1592\n",
      "MAP: 0.031184974106437956, RECALL: 0.12606109626536277\n",
      "EvaluatorHoldout: Processed 10024 (100.0%) in 5.82 sec. Users per second: 1722\n",
      "MAP: 0.031478566519717956, RECALL: 0.12284425515353255\n",
      "EvaluatorHoldout: Processed 10030 (100.0%) in 5.93 sec. Users per second: 1692\n",
      "MAP: 0.03146728465397483, RECALL: 0.12665432851108568\n",
      "EvaluatorHoldout: Processed 10052 (100.0%) in 6.31 sec. Users per second: 1593\n",
      "MAP: 0.030786758064414617, RECALL: 0.12325569317827952\n",
      "EvaluatorHoldout: Processed 10045 (100.0%) in 6.36 sec. Users per second: 1579\n",
      "MAP: 0.031299382935520495, RECALL: 0.11906022065321152\n",
      "EvaluatorHoldout: Processed 10068 (100.0%) in 6.41 sec. Users per second: 1571\n",
      "MAP: 0.031483877884354965, RECALL: 0.1251559678110194\n"
     ]
    },
    {
     "name": "stderr",
     "output_type": "stream",
     "text": [
      "[I 2024-01-10 15:34:54,765] Trial 124 finished with value: 0.031155081109312328 and parameters: {'w_slim': 0.8309087272059406, 'w_knn': 0.09149933472399621, 'w_p3': 0.028749135121359775, 'w_rp3': 0.6821506331348239, 'w_top': 3.772855591291016e-05}. Best is trial 124 with value: 0.031155081109312328.\n"
     ]
    },
    {
     "name": "stdout",
     "output_type": "stream",
     "text": [
      "EvaluatorHoldout: Processed 10057 (100.0%) in 6.40 sec. Users per second: 1570\n",
      "MAP: 0.031086568464514335, RECALL: 0.12254056257693546\n",
      "EvaluatorHoldout: Processed 10040 (100.0%) in 7.03 sec. Users per second: 1428\n",
      "MAP: 0.0310887205147666, RECALL: 0.12100508968817299\n",
      "EvaluatorHoldout: Processed 10017 (100.0%) in 6.57 sec. Users per second: 1524\n",
      "MAP: 0.030640851029440638, RECALL: 0.11903005940496822\n",
      "EvaluatorHoldout: Processed 10037 (100.0%) in 7.09 sec. Users per second: 1416\n",
      "MAP: 0.03098793986061128, RECALL: 0.12210466653165791\n",
      "EvaluatorHoldout: Processed 9989 (100.0%) in 7.56 sec. Users per second: 1321\n",
      "MAP: 0.031177012968233535, RECALL: 0.12595179190251055\n",
      "EvaluatorHoldout: Processed 10024 (100.0%) in 6.83 sec. Users per second: 1469\n",
      "MAP: 0.03144988139576153, RECALL: 0.12240492951903886\n",
      "EvaluatorHoldout: Processed 10030 (100.0%) in 5.62 sec. Users per second: 1786\n",
      "MAP: 0.03140398645333866, RECALL: 0.12591361287769212\n",
      "EvaluatorHoldout: Processed 10052 (100.0%) in 5.89 sec. Users per second: 1707\n",
      "MAP: 0.030750063953158213, RECALL: 0.12281759795965298\n",
      "EvaluatorHoldout: Processed 10045 (100.0%) in 5.78 sec. Users per second: 1739\n",
      "MAP: 0.03135059296657123, RECALL: 0.1191748659813922\n",
      "EvaluatorHoldout: Processed 10068 (100.0%) in 6.04 sec. Users per second: 1668\n",
      "MAP: 0.03142323470243642, RECALL: 0.12459919048846728\n"
     ]
    },
    {
     "name": "stderr",
     "output_type": "stream",
     "text": [
      "[I 2024-01-10 15:36:13,303] Trial 125 finished with value: 0.03113588523088324 and parameters: {'w_slim': 0.8310155294113671, 'w_knn': 0.09105891959792134, 'w_p3': 0.021841092488317712, 'w_rp3': 0.6857684096940695, 'w_top': 3.086702570598839e-05}. Best is trial 124 with value: 0.031155081109312328.\n"
     ]
    },
    {
     "name": "stdout",
     "output_type": "stream",
     "text": [
      "EvaluatorHoldout: Processed 10057 (100.0%) in 5.41 sec. Users per second: 1859\n",
      "MAP: 0.031019869284759603, RECALL: 0.12303979146936235\n",
      "EvaluatorHoldout: Processed 10040 (100.0%) in 6.04 sec. Users per second: 1663\n",
      "MAP: 0.03108188278631535, RECALL: 0.12220126584968709\n",
      "EvaluatorHoldout: Processed 10017 (100.0%) in 6.26 sec. Users per second: 1600\n",
      "MAP: 0.030637087586024615, RECALL: 0.11968492621347712\n",
      "EvaluatorHoldout: Processed 10037 (100.0%) in 6.87 sec. Users per second: 1462\n",
      "MAP: 0.03100872011652157, RECALL: 0.12276324492968907\n",
      "EvaluatorHoldout: Processed 9989 (100.0%) in 7.21 sec. Users per second: 1386\n",
      "MAP: 0.0312007374778926, RECALL: 0.12620948298139437\n",
      "EvaluatorHoldout: Processed 10024 (100.0%) in 6.80 sec. Users per second: 1474\n",
      "MAP: 0.0314978812754154, RECALL: 0.1226235373818279\n",
      "EvaluatorHoldout: Processed 10030 (100.0%) in 6.37 sec. Users per second: 1575\n",
      "MAP: 0.03144785089176939, RECALL: 0.12654827273593278\n",
      "EvaluatorHoldout: Processed 10052 (100.0%) in 6.54 sec. Users per second: 1537\n",
      "MAP: 0.03076045831517413, RECALL: 0.12333809506571368\n",
      "EvaluatorHoldout: Processed 10045 (100.0%) in 6.67 sec. Users per second: 1507\n",
      "MAP: 0.031284386925502075, RECALL: 0.11936094002355935\n",
      "EvaluatorHoldout: Processed 10068 (100.0%) in 6.49 sec. Users per second: 1551\n",
      "MAP: 0.03151609925522356, RECALL: 0.12520583025975696\n"
     ]
    },
    {
     "name": "stderr",
     "output_type": "stream",
     "text": [
      "[I 2024-01-10 15:37:32,006] Trial 126 finished with value: 0.03114549739145983 and parameters: {'w_slim': 0.8336432067258123, 'w_knn': 0.08839700513232714, 'w_p3': 0.04612929321498308, 'w_rp3': 0.6784886672525514, 'w_top': 3.7131871615638234e-05}. Best is trial 124 with value: 0.031155081109312328.\n"
     ]
    },
    {
     "name": "stdout",
     "output_type": "stream",
     "text": [
      "EvaluatorHoldout: Processed 10057 (100.0%) in 6.21 sec. Users per second: 1618\n",
      "MAP: 0.030850442162215354, RECALL: 0.12208593893307788\n",
      "EvaluatorHoldout: Processed 10040 (100.0%) in 6.52 sec. Users per second: 1540\n",
      "MAP: 0.030897987415417997, RECALL: 0.12145883356524072\n",
      "EvaluatorHoldout: Processed 10017 (100.0%) in 6.82 sec. Users per second: 1470\n",
      "MAP: 0.03053419108151087, RECALL: 0.11916850657015063\n",
      "EvaluatorHoldout: Processed 10037 (100.0%) in 6.05 sec. Users per second: 1658\n",
      "MAP: 0.030735536451637166, RECALL: 0.12179994999172047\n",
      "EvaluatorHoldout: Processed 9989 (100.0%) in 6.25 sec. Users per second: 1598\n",
      "MAP: 0.031108385891147224, RECALL: 0.12508782970748908\n",
      "EvaluatorHoldout: Processed 10024 (100.0%) in 6.29 sec. Users per second: 1594\n",
      "MAP: 0.03137191375619169, RECALL: 0.12184522425195674\n",
      "EvaluatorHoldout: Processed 10030 (100.0%) in 5.99 sec. Users per second: 1674\n",
      "MAP: 0.03119719808827515, RECALL: 0.12561781552755497\n",
      "EvaluatorHoldout: Processed 10052 (100.0%) in 6.34 sec. Users per second: 1586\n",
      "MAP: 0.03057365587832202, RECALL: 0.12263681907450238\n",
      "EvaluatorHoldout: Processed 10045 (100.0%) in 5.54 sec. Users per second: 1815\n",
      "MAP: 0.03119130974108591, RECALL: 0.11800206942524435\n",
      "EvaluatorHoldout: Processed 10068 (100.0%) in 6.58 sec. Users per second: 1531\n",
      "MAP: 0.03131023721235309, RECALL: 0.12438658466619512\n"
     ]
    },
    {
     "name": "stderr",
     "output_type": "stream",
     "text": [
      "[I 2024-01-10 15:38:48,584] Trial 127 finished with value: 0.03097708576781565 and parameters: {'w_slim': 0.8128834629582552, 'w_knn': 0.033675010056098256, 'w_p3': 0.025974436733658516, 'w_rp3': 0.515048234162653, 'w_top': 3.45858713147835e-05}. Best is trial 124 with value: 0.031155081109312328.\n"
     ]
    },
    {
     "name": "stdout",
     "output_type": "stream",
     "text": [
      "EvaluatorHoldout: Processed 10057 (100.0%) in 5.40 sec. Users per second: 1861\n",
      "MAP: 0.03104522870432204, RECALL: 0.1226060361823388\n",
      "EvaluatorHoldout: Processed 10040 (100.0%) in 5.87 sec. Users per second: 1709\n",
      "MAP: 0.03110319436539582, RECALL: 0.12102029740016675\n",
      "EvaluatorHoldout: Processed 10017 (100.0%) in 6.38 sec. Users per second: 1569\n",
      "MAP: 0.030665012336171592, RECALL: 0.11939419914257703\n",
      "EvaluatorHoldout: Processed 10037 (100.0%) in 6.37 sec. Users per second: 1575\n",
      "MAP: 0.031043602954781882, RECALL: 0.1223794991874257\n",
      "EvaluatorHoldout: Processed 9989 (100.0%) in 6.15 sec. Users per second: 1625\n",
      "MAP: 0.031141418258497287, RECALL: 0.12624831983895418\n",
      "EvaluatorHoldout: Processed 10024 (100.0%) in 5.60 sec. Users per second: 1791\n",
      "MAP: 0.031488320887014275, RECALL: 0.12209187867113049\n",
      "EvaluatorHoldout: Processed 10030 (100.0%) in 5.54 sec. Users per second: 1810\n",
      "MAP: 0.031439360489958976, RECALL: 0.12598661104390615\n",
      "EvaluatorHoldout: Processed 10052 (100.0%) in 6.58 sec. Users per second: 1529\n",
      "MAP: 0.030738714241500056, RECALL: 0.12288200630348232\n",
      "EvaluatorHoldout: Processed 10045 (100.0%) in 6.76 sec. Users per second: 1485\n",
      "MAP: 0.03133286322659164, RECALL: 0.1187753648645141\n",
      "EvaluatorHoldout: Processed 10068 (100.0%) in 6.64 sec. Users per second: 1517\n",
      "MAP: 0.03141038162715785, RECALL: 0.12454111453898152\n"
     ]
    },
    {
     "name": "stderr",
     "output_type": "stream",
     "text": [
      "[I 2024-01-10 15:40:03,521] Trial 128 finished with value: 0.031140809709139138 and parameters: {'w_slim': 0.82624182411931, 'w_knn': 0.09998365800801116, 'w_p3': 0.02968388186054321, 'w_rp3': 0.6619130011404031, 'w_top': 2.9907014659366667e-05}. Best is trial 124 with value: 0.031155081109312328.\n"
     ]
    },
    {
     "name": "stdout",
     "output_type": "stream",
     "text": [
      "EvaluatorHoldout: Processed 10057 (100.0%) in 5.42 sec. Users per second: 1854\n",
      "MAP: 0.030813995148289936, RECALL: 0.12226958535824968\n",
      "EvaluatorHoldout: Processed 10040 (100.0%) in 5.83 sec. Users per second: 1723\n",
      "MAP: 0.03094358676405519, RECALL: 0.12256515695305208\n",
      "EvaluatorHoldout: Processed 10017 (100.0%) in 6.28 sec. Users per second: 1595\n",
      "MAP: 0.030394143448201683, RECALL: 0.11859779576632021\n",
      "EvaluatorHoldout: Processed 10037 (100.0%) in 6.36 sec. Users per second: 1578\n",
      "MAP: 0.03080299321083455, RECALL: 0.12215221739692991\n",
      "EvaluatorHoldout: Processed 9989 (100.0%) in 6.47 sec. Users per second: 1544\n",
      "MAP: 0.030891202545021975, RECALL: 0.12389878369677831\n",
      "EvaluatorHoldout: Processed 10024 (100.0%) in 5.49 sec. Users per second: 1826\n",
      "MAP: 0.0313167089461485, RECALL: 0.12252915430026395\n",
      "EvaluatorHoldout: Processed 10030 (100.0%) in 5.94 sec. Users per second: 1690\n",
      "MAP: 0.031116875563785094, RECALL: 0.12515411039780736\n",
      "EvaluatorHoldout: Processed 10052 (100.0%) in 6.13 sec. Users per second: 1641\n",
      "MAP: 0.030469139837922522, RECALL: 0.1237360760409055\n",
      "EvaluatorHoldout: Processed 10045 (100.0%) in 5.66 sec. Users per second: 1776\n",
      "MAP: 0.030942571918430764, RECALL: 0.11798845716389231\n",
      "EvaluatorHoldout: Processed 10068 (100.0%) in 6.09 sec. Users per second: 1652\n",
      "MAP: 0.03108030078009247, RECALL: 0.12488086899160412\n"
     ]
    },
    {
     "name": "stderr",
     "output_type": "stream",
     "text": [
      "[I 2024-01-10 15:41:16,944] Trial 129 finished with value: 0.03087715181627827 and parameters: {'w_slim': 0.8055592951486783, 'w_knn': 0.09722807720141406, 'w_p3': 0.028054823168162272, 'w_rp3': 0.6544108020993135, 'w_top': 8.65172862306119e-05}. Best is trial 124 with value: 0.031155081109312328.\n"
     ]
    },
    {
     "name": "stdout",
     "output_type": "stream",
     "text": [
      "EvaluatorHoldout: Processed 10057 (100.0%) in 5.50 sec. Users per second: 1828\n",
      "MAP: 0.03104644794512568, RECALL: 0.12310966127522396\n",
      "EvaluatorHoldout: Processed 10040 (100.0%) in 6.10 sec. Users per second: 1645\n",
      "MAP: 0.031091989186112983, RECALL: 0.12213726547500744\n",
      "EvaluatorHoldout: Processed 10017 (100.0%) in 6.44 sec. Users per second: 1556\n",
      "MAP: 0.03065826983017776, RECALL: 0.11966766243435886\n",
      "EvaluatorHoldout: Processed 10037 (100.0%) in 6.48 sec. Users per second: 1550\n",
      "MAP: 0.03100231524312454, RECALL: 0.12259286220735677\n",
      "EvaluatorHoldout: Processed 9989 (100.0%) in 6.67 sec. Users per second: 1498\n",
      "MAP: 0.031209842731767086, RECALL: 0.1262128244105548\n",
      "EvaluatorHoldout: Processed 10024 (100.0%) in 6.09 sec. Users per second: 1646\n",
      "MAP: 0.03147356661472805, RECALL: 0.1229345651928197\n",
      "EvaluatorHoldout: Processed 10030 (100.0%) in 6.04 sec. Users per second: 1662\n",
      "MAP: 0.03144556014496219, RECALL: 0.12669258357711072\n",
      "EvaluatorHoldout: Processed 10052 (100.0%) in 6.38 sec. Users per second: 1576\n",
      "MAP: 0.030737506237407106, RECALL: 0.12301428612542806\n",
      "EvaluatorHoldout: Processed 10045 (100.0%) in 6.21 sec. Users per second: 1619\n",
      "MAP: 0.03132335442887974, RECALL: 0.11916395172546575\n",
      "EvaluatorHoldout: Processed 10068 (100.0%) in 6.56 sec. Users per second: 1535\n",
      "MAP: 0.031465483127432185, RECALL: 0.12509617143975937\n"
     ]
    },
    {
     "name": "stderr",
     "output_type": "stream",
     "text": [
      "[I 2024-01-10 15:42:33,121] Trial 130 finished with value: 0.031145433548971736 and parameters: {'w_slim': 0.8450227399677402, 'w_knn': 0.09174175629770742, 'w_p3': 0.025015985334759443, 'w_rp3': 0.674049243876844, 'w_top': 3.823601449492381e-05}. Best is trial 124 with value: 0.031155081109312328.\n"
     ]
    },
    {
     "name": "stdout",
     "output_type": "stream",
     "text": [
      "EvaluatorHoldout: Processed 10057 (100.0%) in 5.76 sec. Users per second: 1747\n",
      "MAP: 0.03108409052527594, RECALL: 0.12297166227019662\n",
      "EvaluatorHoldout: Processed 10040 (100.0%) in 6.12 sec. Users per second: 1639\n",
      "MAP: 0.031095218333017403, RECALL: 0.12207080800397756\n",
      "EvaluatorHoldout: Processed 10017 (100.0%) in 6.07 sec. Users per second: 1649\n",
      "MAP: 0.03069086917319944, RECALL: 0.11947447142657261\n",
      "EvaluatorHoldout: Processed 10037 (100.0%) in 6.06 sec. Users per second: 1657\n",
      "MAP: 0.031039657236479275, RECALL: 0.12260692758703341\n",
      "EvaluatorHoldout: Processed 9989 (100.0%) in 5.99 sec. Users per second: 1667\n",
      "MAP: 0.03115335996580389, RECALL: 0.12632216457660594\n",
      "EvaluatorHoldout: Processed 10024 (100.0%) in 6.08 sec. Users per second: 1649\n",
      "MAP: 0.03145325821203737, RECALL: 0.12290141019197116\n",
      "EvaluatorHoldout: Processed 10030 (100.0%) in 6.12 sec. Users per second: 1639\n",
      "MAP: 0.03143102043077147, RECALL: 0.1262383870860476\n",
      "EvaluatorHoldout: Processed 10052 (100.0%) in 6.31 sec. Users per second: 1594\n",
      "MAP: 0.030759554285967276, RECALL: 0.12299635116130984\n",
      "EvaluatorHoldout: Processed 10045 (100.0%) in 5.85 sec. Users per second: 1717\n",
      "MAP: 0.03135114603332641, RECALL: 0.11917234022743062\n",
      "EvaluatorHoldout: Processed 10068 (100.0%) in 6.23 sec. Users per second: 1616\n",
      "MAP: 0.031449342881107165, RECALL: 0.12463670867842964\n"
     ]
    },
    {
     "name": "stderr",
     "output_type": "stream",
     "text": [
      "[I 2024-01-10 15:43:47,424] Trial 131 finished with value: 0.031150751707698564 and parameters: {'w_slim': 0.8297538445599191, 'w_knn': 0.09558189964743374, 'w_p3': 0.028806265701203683, 'w_rp3': 0.6656723614617633, 'w_top': 3.4502846657706525e-05}. Best is trial 124 with value: 0.031155081109312328.\n"
     ]
    },
    {
     "name": "stdout",
     "output_type": "stream",
     "text": [
      "EvaluatorHoldout: Processed 10057 (100.0%) in 5.12 sec. Users per second: 1964\n",
      "MAP: 0.031057811742906876, RECALL: 0.12288860082917104\n",
      "EvaluatorHoldout: Processed 10040 (100.0%) in 5.86 sec. Users per second: 1712\n",
      "MAP: 0.031104222000885643, RECALL: 0.12193406513600341\n",
      "EvaluatorHoldout: Processed 10017 (100.0%) in 7.03 sec. Users per second: 1425\n",
      "MAP: 0.030649059297606987, RECALL: 0.11948483303863243\n",
      "EvaluatorHoldout: Processed 10037 (100.0%) in 7.30 sec. Users per second: 1375\n",
      "MAP: 0.031003323417640744, RECALL: 0.12232852256451128\n",
      "EvaluatorHoldout: Processed 9989 (100.0%) in 7.82 sec. Users per second: 1278\n",
      "MAP: 0.031202580775361064, RECALL: 0.12600790507916831\n",
      "EvaluatorHoldout: Processed 10024 (100.0%) in 7.15 sec. Users per second: 1403\n",
      "MAP: 0.03146646461191575, RECALL: 0.12289700659377728\n",
      "EvaluatorHoldout: Processed 10030 (100.0%) in 7.73 sec. Users per second: 1297\n",
      "MAP: 0.03142025115130821, RECALL: 0.12612851861425992\n",
      "EvaluatorHoldout: Processed 10052 (100.0%) in 7.54 sec. Users per second: 1334\n",
      "MAP: 0.030750482412092398, RECALL: 0.12311557524101632\n",
      "EvaluatorHoldout: Processed 10045 (100.0%) in 6.67 sec. Users per second: 1506\n",
      "MAP: 0.031332183744578135, RECALL: 0.11892178734695902\n",
      "EvaluatorHoldout: Processed 10068 (100.0%) in 6.97 sec. Users per second: 1444\n",
      "MAP: 0.03147594374128966, RECALL: 0.12501143244404925\n"
     ]
    },
    {
     "name": "stderr",
     "output_type": "stream",
     "text": [
      "[I 2024-01-10 15:45:10,189] Trial 132 finished with value: 0.031146232289558547 and parameters: {'w_slim': 0.8279185103009357, 'w_knn': 0.09032836575596682, 'w_p3': 0.027203105884233077, 'w_rp3': 0.6820061178936041, 'w_top': 3.436304385048338e-05}. Best is trial 124 with value: 0.031155081109312328.\n"
     ]
    },
    {
     "name": "stdout",
     "output_type": "stream",
     "text": [
      "EvaluatorHoldout: Processed 10057 (100.0%) in 5.68 sec. Users per second: 1772\n",
      "MAP: 0.03104226149045696, RECALL: 0.12267168352455902\n",
      "EvaluatorHoldout: Processed 10040 (100.0%) in 6.56 sec. Users per second: 1530\n",
      "MAP: 0.03109504442547301, RECALL: 0.12201891168794614\n",
      "EvaluatorHoldout: Processed 10017 (100.0%) in 6.17 sec. Users per second: 1624\n",
      "MAP: 0.030641627487240114, RECALL: 0.11980759417634934\n",
      "EvaluatorHoldout: Processed 10037 (100.0%) in 6.63 sec. Users per second: 1514\n",
      "MAP: 0.031010048534707603, RECALL: 0.12254970701117074\n",
      "EvaluatorHoldout: Processed 9989 (100.0%) in 6.76 sec. Users per second: 1477\n",
      "MAP: 0.031201035424681674, RECALL: 0.12596810622346752\n",
      "EvaluatorHoldout: Processed 10024 (100.0%) in 6.23 sec. Users per second: 1609\n",
      "MAP: 0.03144302483563279, RECALL: 0.1228742409859538\n",
      "EvaluatorHoldout: Processed 10030 (100.0%) in 6.04 sec. Users per second: 1660\n",
      "MAP: 0.03141542831822018, RECALL: 0.12643680125224532\n",
      "EvaluatorHoldout: Processed 10052 (100.0%) in 5.79 sec. Users per second: 1737\n",
      "MAP: 0.030715983236377566, RECALL: 0.12304638129371964\n",
      "EvaluatorHoldout: Processed 10045 (100.0%) in 5.63 sec. Users per second: 1783\n",
      "MAP: 0.03130411955723076, RECALL: 0.11911533175177184\n",
      "EvaluatorHoldout: Processed 10068 (100.0%) in 5.85 sec. Users per second: 1721\n",
      "MAP: 0.03150643481468899, RECALL: 0.12499221784376173\n"
     ]
    },
    {
     "name": "stderr",
     "output_type": "stream",
     "text": [
      "[I 2024-01-10 15:46:25,105] Trial 133 finished with value: 0.031137500812470964 and parameters: {'w_slim': 0.8400378097226617, 'w_knn': 0.08781942322765722, 'w_p3': 0.028477400985832242, 'w_rp3': 0.6647169679378213, 'w_top': 3.554284446478976e-05}. Best is trial 124 with value: 0.031155081109312328.\n"
     ]
    },
    {
     "name": "stdout",
     "output_type": "stream",
     "text": [
      "EvaluatorHoldout: Processed 10057 (100.0%) in 7.04 sec. Users per second: 1428\n",
      "MAP: 0.031047623782534967, RECALL: 0.12294342957864746\n",
      "EvaluatorHoldout: Processed 10040 (100.0%) in 7.02 sec. Users per second: 1429\n",
      "MAP: 0.031111126920888164, RECALL: 0.12208293963636388\n",
      "EvaluatorHoldout: Processed 10017 (100.0%) in 6.84 sec. Users per second: 1464\n",
      "MAP: 0.03068928060392595, RECALL: 0.1194025845204674\n",
      "EvaluatorHoldout: Processed 10037 (100.0%) in 6.18 sec. Users per second: 1623\n",
      "MAP: 0.031026823767931942, RECALL: 0.12247461560931575\n",
      "EvaluatorHoldout: Processed 9989 (100.0%) in 6.39 sec. Users per second: 1564\n",
      "MAP: 0.031178236536380733, RECALL: 0.12631722084150024\n",
      "EvaluatorHoldout: Processed 10024 (100.0%) in 5.58 sec. Users per second: 1797\n",
      "MAP: 0.03148459965923077, RECALL: 0.12260215593254711\n",
      "EvaluatorHoldout: Processed 10030 (100.0%) in 6.18 sec. Users per second: 1624\n",
      "MAP: 0.03141271819462276, RECALL: 0.12602367379194093\n",
      "EvaluatorHoldout: Processed 10052 (100.0%) in 5.75 sec. Users per second: 1748\n",
      "MAP: 0.030782131329783847, RECALL: 0.12312485070958391\n",
      "EvaluatorHoldout: Processed 10045 (100.0%) in 6.02 sec. Users per second: 1668\n",
      "MAP: 0.03136025978335602, RECALL: 0.11905088041181071\n",
      "EvaluatorHoldout: Processed 10068 (100.0%) in 6.45 sec. Users per second: 1562\n",
      "MAP: 0.031443659307187614, RECALL: 0.12465112740337761\n"
     ]
    },
    {
     "name": "stderr",
     "output_type": "stream",
     "text": [
      "[I 2024-01-10 15:47:42,139] Trial 134 finished with value: 0.031153645988584278 and parameters: {'w_slim': 0.8156691497592232, 'w_knn': 0.09574880631050592, 'w_p3': 0.032043699132032484, 'w_rp3': 0.6718448890748773, 'w_top': 3.324131208067685e-05}. Best is trial 124 with value: 0.031155081109312328.\n"
     ]
    },
    {
     "name": "stdout",
     "output_type": "stream",
     "text": [
      "EvaluatorHoldout: Processed 10057 (100.0%) in 6.87 sec. Users per second: 1465\n",
      "MAP: 0.031055448230798886, RECALL: 0.1225953900502439\n",
      "EvaluatorHoldout: Processed 10040 (100.0%) in 7.54 sec. Users per second: 1332\n",
      "MAP: 0.0311187630430661, RECALL: 0.12051603258832048\n",
      "EvaluatorHoldout: Processed 10017 (100.0%) in 7.23 sec. Users per second: 1385\n",
      "MAP: 0.030682308329807784, RECALL: 0.11901102922000133\n",
      "EvaluatorHoldout: Processed 10037 (100.0%) in 7.21 sec. Users per second: 1392\n",
      "MAP: 0.0310597930514243, RECALL: 0.12229870416847136\n",
      "EvaluatorHoldout: Processed 9989 (100.0%) in 7.68 sec. Users per second: 1301\n",
      "MAP: 0.031165706880743674, RECALL: 0.12597936915628022\n",
      "EvaluatorHoldout: Processed 10024 (100.0%) in 5.95 sec. Users per second: 1686\n",
      "MAP: 0.03147334888331523, RECALL: 0.1218487049610529\n",
      "EvaluatorHoldout: Processed 10030 (100.0%) in 5.74 sec. Users per second: 1746\n",
      "MAP: 0.031415839782240856, RECALL: 0.12594859950622628\n",
      "EvaluatorHoldout: Processed 10052 (100.0%) in 6.42 sec. Users per second: 1566\n",
      "MAP: 0.030765696947302894, RECALL: 0.1223531904999524\n",
      "EvaluatorHoldout: Processed 10045 (100.0%) in 5.61 sec. Users per second: 1791\n",
      "MAP: 0.031323433438416204, RECALL: 0.11875944248781237\n",
      "EvaluatorHoldout: Processed 10068 (100.0%) in 7.52 sec. Users per second: 1339\n",
      "MAP: 0.03142347907246629, RECALL: 0.12466684126817965\n"
     ]
    },
    {
     "name": "stderr",
     "output_type": "stream",
     "text": [
      "[I 2024-01-10 15:49:03,503] Trial 135 finished with value: 0.031148381765958223 and parameters: {'w_slim': 0.8160315495604354, 'w_knn': 0.09734625025127784, 'w_p3': 0.03187479856991158, 'w_rp3': 0.6711580698070211, 'w_top': 2.783898887478984e-05}. Best is trial 124 with value: 0.031155081109312328.\n"
     ]
    },
    {
     "name": "stdout",
     "output_type": "stream",
     "text": [
      "EvaluatorHoldout: Processed 10057 (100.0%) in 7.16 sec. Users per second: 1404\n",
      "MAP: 0.03110071007953095, RECALL: 0.1225091121718919\n",
      "EvaluatorHoldout: Processed 10040 (100.0%) in 7.48 sec. Users per second: 1342\n",
      "MAP: 0.031008979953203397, RECALL: 0.12084601829772049\n",
      "EvaluatorHoldout: Processed 10017 (100.0%) in 7.82 sec. Users per second: 1281\n",
      "MAP: 0.030645517699276474, RECALL: 0.11872208715347493\n",
      "EvaluatorHoldout: Processed 10037 (100.0%) in 7.02 sec. Users per second: 1429\n",
      "MAP: 0.030961691740560297, RECALL: 0.12278185491799297\n",
      "EvaluatorHoldout: Processed 9989 (100.0%) in 6.79 sec. Users per second: 1471\n",
      "MAP: 0.031078146278366782, RECALL: 0.1260812644887795\n",
      "EvaluatorHoldout: Processed 10024 (100.0%) in 6.24 sec. Users per second: 1607\n",
      "MAP: 0.03142035701617732, RECALL: 0.12286211915178859\n",
      "EvaluatorHoldout: Processed 10030 (100.0%) in 5.64 sec. Users per second: 1778\n",
      "MAP: 0.0312696948836035, RECALL: 0.1261111884196262\n",
      "EvaluatorHoldout: Processed 10052 (100.0%) in 6.10 sec. Users per second: 1647\n",
      "MAP: 0.030776786109058596, RECALL: 0.1229654449195082\n",
      "EvaluatorHoldout: Processed 10045 (100.0%) in 5.62 sec. Users per second: 1787\n",
      "MAP: 0.031237415756081938, RECALL: 0.11906139047770507\n",
      "EvaluatorHoldout: Processed 10068 (100.0%) in 6.57 sec. Users per second: 1532\n",
      "MAP: 0.031410022955017255, RECALL: 0.12412873021526948\n"
     ]
    },
    {
     "name": "stderr",
     "output_type": "stream",
     "text": [
      "[I 2024-01-10 15:50:23,591] Trial 136 finished with value: 0.031090932247087654 and parameters: {'w_slim': 0.8154489743836624, 'w_knn': 0.09998600225306167, 'w_p3': 0.03169841340630418, 'w_rp3': 0.4750465674907148, 'w_top': 2.870728591163434e-05}. Best is trial 124 with value: 0.031155081109312328.\n"
     ]
    },
    {
     "name": "stdout",
     "output_type": "stream",
     "text": [
      "EvaluatorHoldout: Processed 10057 (100.0%) in 6.07 sec. Users per second: 1657\n",
      "MAP: 0.03105932297018124, RECALL: 0.12237615625738991\n",
      "EvaluatorHoldout: Processed 10040 (100.0%) in 6.34 sec. Users per second: 1584\n",
      "MAP: 0.031117308543603634, RECALL: 0.1201378605283083\n",
      "EvaluatorHoldout: Processed 10017 (100.0%) in 6.41 sec. Users per second: 1564\n",
      "MAP: 0.03067637001224924, RECALL: 0.1190807322732715\n",
      "EvaluatorHoldout: Processed 10037 (100.0%) in 6.61 sec. Users per second: 1519\n",
      "MAP: 0.031016421779100148, RECALL: 0.12195451574633774\n",
      "EvaluatorHoldout: Processed 9989 (100.0%) in 6.69 sec. Users per second: 1493\n",
      "MAP: 0.03117487569659986, RECALL: 0.1258868238794734\n",
      "EvaluatorHoldout: Processed 10024 (100.0%) in 5.53 sec. Users per second: 1814\n",
      "MAP: 0.0314601028959072, RECALL: 0.1216598343449794\n",
      "EvaluatorHoldout: Processed 10030 (100.0%) in 5.79 sec. Users per second: 1734\n",
      "MAP: 0.03139374732944056, RECALL: 0.12584604675794572\n",
      "EvaluatorHoldout: Processed 10052 (100.0%) in 5.33 sec. Users per second: 1887\n",
      "MAP: 0.030773888478325673, RECALL: 0.12230794881171352\n",
      "EvaluatorHoldout: Processed 10045 (100.0%) in 5.87 sec. Users per second: 1710\n",
      "MAP: 0.03132822536680194, RECALL: 0.11885476834946813\n",
      "EvaluatorHoldout: Processed 10068 (100.0%) in 6.03 sec. Users per second: 1670\n",
      "MAP: 0.03140909671377519, RECALL: 0.12462984860777182\n"
     ]
    },
    {
     "name": "stderr",
     "output_type": "stream",
     "text": [
      "[I 2024-01-10 15:51:37,866] Trial 137 finished with value: 0.031140935978598468 and parameters: {'w_slim': 0.8036462982170811, 'w_knn': 0.0923056748299527, 'w_p3': 0.03251798069210272, 'w_rp3': 0.6727390618267413, 'w_top': 2.4625797228021875e-05}. Best is trial 124 with value: 0.031155081109312328.\n"
     ]
    },
    {
     "name": "stdout",
     "output_type": "stream",
     "text": [
      "EvaluatorHoldout: Processed 10057 (100.0%) in 5.67 sec. Users per second: 1773\n",
      "MAP: 0.03104507481956044, RECALL: 0.12245041483294514\n",
      "EvaluatorHoldout: Processed 10040 (100.0%) in 6.06 sec. Users per second: 1658\n",
      "MAP: 0.03111874723328937, RECALL: 0.12044846455395662\n",
      "EvaluatorHoldout: Processed 10017 (100.0%) in 6.17 sec. Users per second: 1622\n",
      "MAP: 0.030612062668067656, RECALL: 0.11876819284332846\n",
      "EvaluatorHoldout: Processed 10037 (100.0%) in 6.53 sec. Users per second: 1536\n",
      "MAP: 0.03097096299248369, RECALL: 0.12205158925441688\n",
      "EvaluatorHoldout: Processed 9989 (100.0%) in 6.74 sec. Users per second: 1483\n",
      "MAP: 0.031188092616163756, RECALL: 0.12610490307104746\n",
      "EvaluatorHoldout: Processed 10024 (100.0%) in 6.05 sec. Users per second: 1658\n",
      "MAP: 0.03144310401069201, RECALL: 0.12192168131551963\n",
      "EvaluatorHoldout: Processed 10030 (100.0%) in 5.91 sec. Users per second: 1696\n",
      "MAP: 0.03140911788444215, RECALL: 0.12559369950156768\n",
      "EvaluatorHoldout: Processed 10052 (100.0%) in 6.33 sec. Users per second: 1588\n",
      "MAP: 0.030756656655234374, RECALL: 0.12238197292752083\n",
      "EvaluatorHoldout: Processed 10045 (100.0%) in 5.88 sec. Users per second: 1707\n",
      "MAP: 0.03133185585500187, RECALL: 0.11916443153439799\n",
      "EvaluatorHoldout: Processed 10068 (100.0%) in 6.52 sec. Users per second: 1544\n",
      "MAP: 0.031464407111010534, RECALL: 0.12451984129543874\n"
     ]
    },
    {
     "name": "stderr",
     "output_type": "stream",
     "text": [
      "[I 2024-01-10 15:52:53,336] Trial 138 finished with value: 0.031134008184594587 and parameters: {'w_slim': 0.8103202872477053, 'w_knn': 0.08498049771488866, 'w_p3': 0.02660178031271485, 'w_rp3': 0.6853628554268847, 'w_top': 2.7435706876285978e-05}. Best is trial 124 with value: 0.031155081109312328.\n"
     ]
    },
    {
     "name": "stdout",
     "output_type": "stream",
     "text": [
      "EvaluatorHoldout: Processed 10057 (100.0%) in 5.80 sec. Users per second: 1734\n",
      "MAP: 0.03107159429347971, RECALL: 0.12292787576019774\n",
      "EvaluatorHoldout: Processed 10040 (100.0%) in 6.37 sec. Users per second: 1576\n",
      "MAP: 0.03110417061911117, RECALL: 0.12164050715619337\n",
      "EvaluatorHoldout: Processed 10017 (100.0%) in 6.45 sec. Users per second: 1554\n",
      "MAP: 0.030705724870894315, RECALL: 0.11949332053311389\n",
      "EvaluatorHoldout: Processed 10037 (100.0%) in 6.56 sec. Users per second: 1529\n",
      "MAP: 0.03101880581530904, RECALL: 0.12231712471913794\n",
      "EvaluatorHoldout: Processed 9989 (100.0%) in 6.80 sec. Users per second: 1470\n",
      "MAP: 0.03116697812037709, RECALL: 0.1263575759837833\n",
      "EvaluatorHoldout: Processed 10024 (100.0%) in 6.45 sec. Users per second: 1553\n",
      "MAP: 0.0314987997061024, RECALL: 0.12261039731843339\n",
      "EvaluatorHoldout: Processed 10030 (100.0%) in 6.39 sec. Users per second: 1569\n",
      "MAP: 0.031414913988194425, RECALL: 0.12590032755644126\n",
      "EvaluatorHoldout: Processed 10052 (100.0%) in 7.07 sec. Users per second: 1422\n",
      "MAP: 0.030787796316298435, RECALL: 0.12293908959272333\n",
      "EvaluatorHoldout: Processed 10045 (100.0%) in 6.70 sec. Users per second: 1500\n",
      "MAP: 0.03133498858312215, RECALL: 0.11896919364434153\n",
      "EvaluatorHoldout: Processed 10068 (100.0%) in 6.80 sec. Users per second: 1480\n",
      "MAP: 0.031420972308934474, RECALL: 0.12448844042629709\n"
     ]
    },
    {
     "name": "stderr",
     "output_type": "stream",
     "text": [
      "[I 2024-01-10 15:54:12,293] Trial 139 finished with value: 0.031152474462182323 and parameters: {'w_slim': 0.8143950845231267, 'w_knn': 0.09572198542294137, 'w_p3': 0.03243304506389999, 'w_rp3': 0.6551550403356871, 'w_top': 3.1901919240101164e-05}. Best is trial 124 with value: 0.031155081109312328.\n"
     ]
    },
    {
     "name": "stdout",
     "output_type": "stream",
     "text": [
      "EvaluatorHoldout: Processed 10057 (100.0%) in 6.28 sec. Users per second: 1602\n",
      "MAP: 0.031026300878642745, RECALL: 0.12228775319642421\n",
      "EvaluatorHoldout: Processed 10040 (100.0%) in 6.32 sec. Users per second: 1589\n",
      "MAP: 0.03103321238854137, RECALL: 0.12094253526672386\n",
      "EvaluatorHoldout: Processed 10017 (100.0%) in 6.57 sec. Users per second: 1526\n",
      "MAP: 0.030640862913998698, RECALL: 0.11852046340585777\n",
      "EvaluatorHoldout: Processed 10037 (100.0%) in 6.31 sec. Users per second: 1591\n",
      "MAP: 0.030933249358326947, RECALL: 0.12203427114522196\n",
      "EvaluatorHoldout: Processed 9989 (100.0%) in 6.60 sec. Users per second: 1514\n",
      "MAP: 0.03118091408485875, RECALL: 0.12598546514998146\n",
      "EvaluatorHoldout: Processed 10024 (100.0%) in 6.14 sec. Users per second: 1633\n",
      "MAP: 0.0314761002166232, RECALL: 0.12271874058154501\n",
      "EvaluatorHoldout: Processed 10030 (100.0%) in 5.83 sec. Users per second: 1721\n",
      "MAP: 0.031292467834591664, RECALL: 0.12552151122046912\n",
      "EvaluatorHoldout: Processed 10052 (100.0%) in 6.49 sec. Users per second: 1549\n",
      "MAP: 0.03069224556117739, RECALL: 0.12241384480812635\n",
      "EvaluatorHoldout: Processed 10045 (100.0%) in 5.45 sec. Users per second: 1842\n",
      "MAP: 0.031314145867406364, RECALL: 0.11882859679401069\n",
      "EvaluatorHoldout: Processed 10068 (100.0%) in 6.58 sec. Users per second: 1531\n",
      "MAP: 0.03145392284844049, RECALL: 0.12421339044931637\n"
     ]
    },
    {
     "name": "stderr",
     "output_type": "stream",
     "text": [
      "[I 2024-01-10 15:55:28,392] Trial 140 finished with value: 0.031104342195260766 and parameters: {'w_slim': 0.9858063971260196, 'w_knn': 0.08962459703110817, 'w_p3': 0.03425505724368867, 'w_rp3': 0.6503534329309725, 'w_top': 3.282654785910879e-05}. Best is trial 124 with value: 0.031155081109312328.\n"
     ]
    },
    {
     "name": "stdout",
     "output_type": "stream",
     "text": [
      "EvaluatorHoldout: Processed 10057 (100.0%) in 5.51 sec. Users per second: 1824\n",
      "MAP: 0.031070947188328278, RECALL: 0.12289278079315565\n",
      "EvaluatorHoldout: Processed 10040 (100.0%) in 5.28 sec. Users per second: 1901\n",
      "MAP: 0.031089404287611755, RECALL: 0.12121399783918421\n",
      "EvaluatorHoldout: Processed 10017 (100.0%) in 5.82 sec. Users per second: 1721\n",
      "MAP: 0.030682288522210877, RECALL: 0.11939685042566249\n",
      "EvaluatorHoldout: Processed 10037 (100.0%) in 6.13 sec. Users per second: 1638\n",
      "MAP: 0.031002643394045497, RECALL: 0.12237040171719508\n",
      "EvaluatorHoldout: Processed 9989 (100.0%) in 6.38 sec. Users per second: 1565\n",
      "MAP: 0.031173258838691036, RECALL: 0.1264209989236203\n",
      "EvaluatorHoldout: Processed 10024 (100.0%) in 5.66 sec. Users per second: 1770\n",
      "MAP: 0.03149198273350332, RECALL: 0.12232710895653366\n",
      "EvaluatorHoldout: Processed 10030 (100.0%) in 6.12 sec. Users per second: 1640\n",
      "MAP: 0.03142279510674355, RECALL: 0.12614282798663948\n",
      "EvaluatorHoldout: Processed 10052 (100.0%) in 6.03 sec. Users per second: 1666\n",
      "MAP: 0.030781720766301278, RECALL: 0.1229126398299027\n",
      "EvaluatorHoldout: Processed 10045 (100.0%) in 5.84 sec. Users per second: 1719\n",
      "MAP: 0.03135086159899514, RECALL: 0.11902642149911205\n",
      "EvaluatorHoldout: Processed 10068 (100.0%) in 5.87 sec. Users per second: 1714\n",
      "MAP: 0.03141947455713874, RECALL: 0.12445501332940158\n"
     ]
    },
    {
     "name": "stderr",
     "output_type": "stream",
     "text": [
      "[I 2024-01-10 15:56:40,632] Trial 141 finished with value: 0.031148537699356944 and parameters: {'w_slim': 0.8150411499754903, 'w_knn': 0.09562878736918097, 'w_p3': 0.032209608634490156, 'w_rp3': 0.6547730597553945, 'w_top': 3.091061955782989e-05}. Best is trial 124 with value: 0.031155081109312328.\n"
     ]
    },
    {
     "name": "stdout",
     "output_type": "stream",
     "text": [
      "EvaluatorHoldout: Processed 10057 (100.0%) in 5.58 sec. Users per second: 1802\n",
      "MAP: 0.031050815904897815, RECALL: 0.12279961020081524\n",
      "EvaluatorHoldout: Processed 10040 (100.0%) in 5.94 sec. Users per second: 1690\n",
      "MAP: 0.03111307942831877, RECALL: 0.12127296973490348\n",
      "EvaluatorHoldout: Processed 10017 (100.0%) in 5.97 sec. Users per second: 1677\n",
      "MAP: 0.030668411319804186, RECALL: 0.1192215094544408\n",
      "EvaluatorHoldout: Processed 10037 (100.0%) in 6.23 sec. Users per second: 1611\n",
      "MAP: 0.031036557594045177, RECALL: 0.12248640070815237\n",
      "EvaluatorHoldout: Processed 9989 (100.0%) in 6.43 sec. Users per second: 1554\n",
      "MAP: 0.031173107878984578, RECALL: 0.126234276128462\n",
      "EvaluatorHoldout: Processed 10024 (100.0%) in 5.76 sec. Users per second: 1740\n",
      "MAP: 0.03145977036065848, RECALL: 0.12206821468133887\n",
      "EvaluatorHoldout: Processed 10030 (100.0%) in 5.74 sec. Users per second: 1749\n",
      "MAP: 0.03142060722594149, RECALL: 0.12614033627141522\n",
      "EvaluatorHoldout: Processed 10052 (100.0%) in 5.69 sec. Users per second: 1767\n",
      "MAP: 0.030758125209229763, RECALL: 0.12304079722852045\n",
      "EvaluatorHoldout: Processed 10045 (100.0%) in 5.53 sec. Users per second: 1817\n",
      "MAP: 0.031373205495903514, RECALL: 0.11921390110408463\n",
      "EvaluatorHoldout: Processed 10068 (100.0%) in 6.25 sec. Users per second: 1610\n",
      "MAP: 0.03145925563312362, RECALL: 0.12467979232212895\n"
     ]
    },
    {
     "name": "stderr",
     "output_type": "stream",
     "text": [
      "[I 2024-01-10 15:57:53,400] Trial 142 finished with value: 0.03115129360509074 and parameters: {'w_slim': 0.8137797106103672, 'w_knn': 0.09814467587185295, 'w_p3': 0.03196915466826613, 'w_rp3': 0.6774861995100998, 'w_top': 3.0788746616578584e-05}. Best is trial 124 with value: 0.031155081109312328.\n"
     ]
    },
    {
     "name": "stdout",
     "output_type": "stream",
     "text": [
      "EvaluatorHoldout: Processed 10057 (100.0%) in 5.82 sec. Users per second: 1727\n",
      "MAP: 0.031075867554937027, RECALL: 0.12283509014930612\n",
      "EvaluatorHoldout: Processed 10040 (100.0%) in 5.60 sec. Users per second: 1792\n",
      "MAP: 0.03108838455701035, RECALL: 0.12133118384534937\n",
      "EvaluatorHoldout: Processed 10017 (100.0%) in 6.07 sec. Users per second: 1652\n",
      "MAP: 0.030698689212466015, RECALL: 0.11916571057843572\n",
      "EvaluatorHoldout: Processed 10037 (100.0%) in 6.39 sec. Users per second: 1571\n",
      "MAP: 0.030990351572199037, RECALL: 0.12229540605775167\n",
      "EvaluatorHoldout: Processed 9989 (100.0%) in 6.74 sec. Users per second: 1483\n",
      "MAP: 0.031199144455726913, RECALL: 0.12641465707574578\n",
      "EvaluatorHoldout: Processed 10024 (100.0%) in 6.27 sec. Users per second: 1599\n",
      "MAP: 0.03145844021966352, RECALL: 0.12242698788319888\n",
      "EvaluatorHoldout: Processed 10030 (100.0%) in 6.34 sec. Users per second: 1583\n",
      "MAP: 0.03141098529807429, RECALL: 0.12610748421557896\n",
      "EvaluatorHoldout: Processed 10052 (100.0%) in 6.64 sec. Users per second: 1514\n",
      "MAP: 0.030782660325040293, RECALL: 0.12289571485284734\n",
      "EvaluatorHoldout: Processed 10045 (100.0%) in 6.48 sec. Users per second: 1550\n",
      "MAP: 0.031333831093413124, RECALL: 0.11901716957726613\n",
      "EvaluatorHoldout: Processed 10068 (100.0%) in 6.49 sec. Users per second: 1550\n",
      "MAP: 0.03142020766722824, RECALL: 0.12440644976964142\n"
     ]
    },
    {
     "name": "stderr",
     "output_type": "stream",
     "text": [
      "[I 2024-01-10 15:59:09,896] Trial 143 finished with value: 0.03114585619557588 and parameters: {'w_slim': 0.8082259978614216, 'w_knn': 0.09246254044246077, 'w_p3': 0.03242730888583768, 'w_rp3': 0.6552865137669035, 'w_top': 3.065357258004477e-05}. Best is trial 124 with value: 0.031155081109312328.\n"
     ]
    },
    {
     "name": "stdout",
     "output_type": "stream",
     "text": [
      "EvaluatorHoldout: Processed 10057 (100.0%) in 5.38 sec. Users per second: 1869\n",
      "MAP: 0.03107556373117689, RECALL: 0.12191580604025283\n",
      "EvaluatorHoldout: Processed 10040 (100.0%) in 6.00 sec. Users per second: 1673\n",
      "MAP: 0.031123343925884023, RECALL: 0.11981542685469501\n",
      "EvaluatorHoldout: Processed 10017 (100.0%) in 6.21 sec. Users per second: 1613\n",
      "MAP: 0.030650279445577654, RECALL: 0.11842080895165441\n",
      "EvaluatorHoldout: Processed 10037 (100.0%) in 6.56 sec. Users per second: 1530\n",
      "MAP: 0.031054068201622508, RECALL: 0.12146471901415265\n",
      "EvaluatorHoldout: Processed 9989 (100.0%) in 6.91 sec. Users per second: 1446\n",
      "MAP: 0.031217041126191423, RECALL: 0.12532541896030158\n",
      "EvaluatorHoldout: Processed 10024 (100.0%) in 6.12 sec. Users per second: 1637\n",
      "MAP: 0.031459897040753235, RECALL: 0.12148091119581374\n",
      "EvaluatorHoldout: Processed 10030 (100.0%) in 6.30 sec. Users per second: 1593\n",
      "MAP: 0.031453947680767515, RECALL: 0.1258112154380662\n",
      "EvaluatorHoldout: Processed 10052 (100.0%) in 6.49 sec. Users per second: 1549\n",
      "MAP: 0.030755180205787342, RECALL: 0.12123631168614907\n",
      "EvaluatorHoldout: Processed 10045 (100.0%) in 5.81 sec. Users per second: 1729\n",
      "MAP: 0.031306979702450284, RECALL: 0.11868841079466345\n",
      "EvaluatorHoldout: Processed 10068 (100.0%) in 6.54 sec. Users per second: 1540\n",
      "MAP: 0.03142007365785702, RECALL: 0.12414609136148767\n"
     ]
    },
    {
     "name": "stderr",
     "output_type": "stream",
     "text": [
      "[I 2024-01-10 16:00:25,880] Trial 144 finished with value: 0.03115163747180679 and parameters: {'w_slim': 0.8019109911745751, 'w_knn': 0.09596567251364305, 'w_p3': 0.029776409203348196, 'w_rp3': 0.678717990631125, 'w_top': 2.0056602539799944e-05}. Best is trial 124 with value: 0.031155081109312328.\n"
     ]
    },
    {
     "name": "stdout",
     "output_type": "stream",
     "text": [
      "EvaluatorHoldout: Processed 10057 (100.0%) in 5.23 sec. Users per second: 1923\n",
      "MAP: 0.031056833193653453, RECALL: 0.12186179479210699\n",
      "EvaluatorHoldout: Processed 10040 (100.0%) in 5.41 sec. Users per second: 1854\n",
      "MAP: 0.031120427022070716, RECALL: 0.11979918176078848\n",
      "EvaluatorHoldout: Processed 10017 (100.0%) in 5.78 sec. Users per second: 1732\n",
      "MAP: 0.030663907072263102, RECALL: 0.11823846895778145\n",
      "EvaluatorHoldout: Processed 10037 (100.0%) in 5.91 sec. Users per second: 1699\n",
      "MAP: 0.031074951251797184, RECALL: 0.12133131278408726\n",
      "EvaluatorHoldout: Processed 9989 (100.0%) in 7.00 sec. Users per second: 1427\n",
      "MAP: 0.031198278423726637, RECALL: 0.1252371974253637\n",
      "EvaluatorHoldout: Processed 10024 (100.0%) in 6.21 sec. Users per second: 1615\n",
      "MAP: 0.03145718529497483, RECALL: 0.12148257745463927\n",
      "EvaluatorHoldout: Processed 10030 (100.0%) in 6.30 sec. Users per second: 1593\n",
      "MAP: 0.03145680814698789, RECALL: 0.1255515422719296\n",
      "EvaluatorHoldout: Processed 10052 (100.0%) in 6.62 sec. Users per second: 1519\n",
      "MAP: 0.030768444564455617, RECALL: 0.12116611647714626\n",
      "EvaluatorHoldout: Processed 10045 (100.0%) in 6.41 sec. Users per second: 1567\n",
      "MAP: 0.03131797387944745, RECALL: 0.11868866003383752\n",
      "EvaluatorHoldout: Processed 10068 (100.0%) in 6.51 sec. Users per second: 1547\n",
      "MAP: 0.03144645379672224, RECALL: 0.12394549063494688\n"
     ]
    },
    {
     "name": "stderr",
     "output_type": "stream",
     "text": [
      "[I 2024-01-10 16:01:40,934] Trial 145 finished with value: 0.031156126264609913 and parameters: {'w_slim': 0.8018270047931289, 'w_knn': 0.09852805021674763, 'w_p3': 0.030178839157590374, 'w_rp3': 0.680026531381998, 'w_top': 1.9515003398750162e-05}. Best is trial 145 with value: 0.031156126264609913.\n"
     ]
    },
    {
     "name": "stdout",
     "output_type": "stream",
     "text": [
      "EvaluatorHoldout: Processed 10057 (100.0%) in 5.57 sec. Users per second: 1805\n",
      "MAP: 0.031054690644280125, RECALL: 0.1218663892653859\n",
      "EvaluatorHoldout: Processed 10040 (100.0%) in 5.87 sec. Users per second: 1711\n",
      "MAP: 0.03114233937266831, RECALL: 0.11990027812946162\n",
      "EvaluatorHoldout: Processed 10017 (100.0%) in 6.26 sec. Users per second: 1601\n",
      "MAP: 0.030652208705518314, RECALL: 0.11847792847749117\n",
      "EvaluatorHoldout: Processed 10037 (100.0%) in 6.32 sec. Users per second: 1588\n",
      "MAP: 0.03106702818618755, RECALL: 0.12154965097394176\n",
      "EvaluatorHoldout: Processed 9989 (100.0%) in 6.87 sec. Users per second: 1454\n",
      "MAP: 0.031200050213965734, RECALL: 0.12531890548234456\n",
      "EvaluatorHoldout: Processed 10024 (100.0%) in 6.20 sec. Users per second: 1616\n",
      "MAP: 0.031468542957220354, RECALL: 0.12164178219798912\n",
      "EvaluatorHoldout: Processed 10030 (100.0%) in 6.17 sec. Users per second: 1625\n",
      "MAP: 0.031457607336720275, RECALL: 0.1256781601450157\n",
      "EvaluatorHoldout: Processed 10052 (100.0%) in 6.41 sec. Users per second: 1569\n",
      "MAP: 0.030783509086086, RECALL: 0.12125068874836684\n",
      "EvaluatorHoldout: Processed 10045 (100.0%) in 6.32 sec. Users per second: 1589\n",
      "MAP: 0.031341293544130976, RECALL: 0.11866801060849579\n",
      "EvaluatorHoldout: Processed 10068 (100.0%) in 6.66 sec. Users per second: 1511\n",
      "MAP: 0.03146180969408052, RECALL: 0.12417948012462923\n"
     ]
    },
    {
     "name": "stderr",
     "output_type": "stream",
     "text": [
      "[I 2024-01-10 16:02:57,248] Trial 146 finished with value: 0.031162907974085812 and parameters: {'w_slim': 0.8010395211326483, 'w_knn': 0.09844914572770817, 'w_p3': 0.030374672280713493, 'w_rp3': 0.6908971283219721, 'w_top': 2.067873092351773e-05}. Best is trial 146 with value: 0.031162907974085812.\n"
     ]
    },
    {
     "name": "stdout",
     "output_type": "stream",
     "text": [
      "EvaluatorHoldout: Processed 10057 (100.0%) in 5.41 sec. Users per second: 1860\n",
      "MAP: 0.030829667719396516, RECALL: 0.12094019356560046\n",
      "EvaluatorHoldout: Processed 10040 (100.0%) in 5.75 sec. Users per second: 1746\n",
      "MAP: 0.031079697084677494, RECALL: 0.11998225131539608\n",
      "EvaluatorHoldout: Processed 10017 (100.0%) in 6.27 sec. Users per second: 1597\n",
      "MAP: 0.030466084640238797, RECALL: 0.11762063520872659\n",
      "EvaluatorHoldout: Processed 10037 (100.0%) in 6.20 sec. Users per second: 1620\n",
      "MAP: 0.030613432680036533, RECALL: 0.12002798966453448\n",
      "EvaluatorHoldout: Processed 9989 (100.0%) in 6.79 sec. Users per second: 1472\n",
      "MAP: 0.031221462656541497, RECALL: 0.12456628257923917\n",
      "EvaluatorHoldout: Processed 10024 (100.0%) in 6.29 sec. Users per second: 1593\n",
      "MAP: 0.03138532601122412, RECALL: 0.12078763227692765\n",
      "EvaluatorHoldout: Processed 10030 (100.0%) in 6.12 sec. Users per second: 1639\n",
      "MAP: 0.031212351042111983, RECALL: 0.12519972249267586\n",
      "EvaluatorHoldout: Processed 10052 (100.0%) in 5.87 sec. Users per second: 1711\n",
      "MAP: 0.030514897927602178, RECALL: 0.12055131777532349\n",
      "EvaluatorHoldout: Processed 10045 (100.0%) in 5.49 sec. Users per second: 1829\n",
      "MAP: 0.03119024311234381, RECALL: 0.1167458231947783\n",
      "EvaluatorHoldout: Processed 10068 (100.0%) in 6.32 sec. Users per second: 1594\n",
      "MAP: 0.03134491804932831, RECALL: 0.12300540781336215\n"
     ]
    },
    {
     "name": "stderr",
     "output_type": "stream",
     "text": [
      "[I 2024-01-10 16:04:12,621] Trial 147 finished with value: 0.030985808092350124 and parameters: {'w_slim': 0.8006078640525671, 'w_knn': 0.00039749870188927894, 'w_p3': 0.030057054729455107, 'w_rp3': 0.6809816163538702, 'w_top': 2.0200336149054562e-05}. Best is trial 146 with value: 0.031162907974085812.\n"
     ]
    },
    {
     "name": "stdout",
     "output_type": "stream",
     "text": [
      "EvaluatorHoldout: Processed 10057 (100.0%) in 5.32 sec. Users per second: 1889\n",
      "MAP: 0.031046234873917215, RECALL: 0.12174263378418786\n",
      "EvaluatorHoldout: Processed 10040 (100.0%) in 6.25 sec. Users per second: 1607\n",
      "MAP: 0.03110958546765343, RECALL: 0.11983749253891417\n",
      "EvaluatorHoldout: Processed 10017 (100.0%) in 6.45 sec. Users per second: 1553\n",
      "MAP: 0.030659636554365717, RECALL: 0.1180296577023641\n",
      "EvaluatorHoldout: Processed 10037 (100.0%) in 6.67 sec. Users per second: 1505\n",
      "MAP: 0.031086381183272952, RECALL: 0.12122611114526127\n",
      "EvaluatorHoldout: Processed 9989 (100.0%) in 6.71 sec. Users per second: 1488\n",
      "MAP: 0.031219766346155628, RECALL: 0.12517787728559301\n",
      "EvaluatorHoldout: Processed 10024 (100.0%) in 6.02 sec. Users per second: 1664\n",
      "MAP: 0.03142388030631265, RECALL: 0.12152029258877849\n",
      "EvaluatorHoldout: Processed 10030 (100.0%) in 6.06 sec. Users per second: 1654\n",
      "MAP: 0.03146413141527827, RECALL: 0.1252957831904787\n",
      "EvaluatorHoldout: Processed 10052 (100.0%) in 6.29 sec. Users per second: 1598\n",
      "MAP: 0.03077274758557124, RECALL: 0.12098217088561417\n",
      "EvaluatorHoldout: Processed 10045 (100.0%) in 6.07 sec. Users per second: 1656\n",
      "MAP: 0.031263243973547815, RECALL: 0.11819489321803249\n",
      "EvaluatorHoldout: Processed 10068 (100.0%) in 6.35 sec. Users per second: 1586\n",
      "MAP: 0.03144053373567701, RECALL: 0.12369892109185501\n"
     ]
    },
    {
     "name": "stderr",
     "output_type": "stream",
     "text": [
      "[I 2024-01-10 16:05:29,083] Trial 148 finished with value: 0.03114861414417519 and parameters: {'w_slim': 0.8043412742547488, 'w_knn': 0.0985105514995214, 'w_p3': 0.03084731235605235, 'w_rp3': 0.6897615919956888, 'w_top': 1.1544905408534587e-05}. Best is trial 146 with value: 0.031162907974085812.\n"
     ]
    },
    {
     "name": "stdout",
     "output_type": "stream",
     "text": [
      "EvaluatorHoldout: Processed 10057 (100.0%) in 5.31 sec. Users per second: 1894\n",
      "MAP: 0.031070955079854502, RECALL: 0.12187275173964385\n",
      "EvaluatorHoldout: Processed 10040 (100.0%) in 5.88 sec. Users per second: 1707\n",
      "MAP: 0.03113547002466353, RECALL: 0.11991024423993667\n",
      "EvaluatorHoldout: Processed 10017 (100.0%) in 6.33 sec. Users per second: 1583\n",
      "MAP: 0.030636921202210426, RECALL: 0.11841399504797603\n",
      "EvaluatorHoldout: Processed 10037 (100.0%) in 6.39 sec. Users per second: 1570\n",
      "MAP: 0.031073757256879993, RECALL: 0.12152927395297776\n",
      "EvaluatorHoldout: Processed 9989 (100.0%) in 6.63 sec. Users per second: 1507\n",
      "MAP: 0.031196864169634447, RECALL: 0.12545123533100175\n",
      "EvaluatorHoldout: Processed 10024 (100.0%) in 6.18 sec. Users per second: 1622\n",
      "MAP: 0.031457387191375856, RECALL: 0.12144604604031112\n",
      "EvaluatorHoldout: Processed 10030 (100.0%) in 6.00 sec. Users per second: 1671\n",
      "MAP: 0.0314415721090699, RECALL: 0.12582334889525382\n",
      "EvaluatorHoldout: Processed 10052 (100.0%) in 6.50 sec. Users per second: 1547\n",
      "MAP: 0.030737616773729284, RECALL: 0.1210628450259136\n",
      "EvaluatorHoldout: Processed 10045 (100.0%) in 6.02 sec. Users per second: 1669\n",
      "MAP: 0.03132217323630983, RECALL: 0.11867259864259601\n",
      "EvaluatorHoldout: Processed 10068 (100.0%) in 6.17 sec. Users per second: 1632\n",
      "MAP: 0.031422150803110546, RECALL: 0.12411408475263391\n"
     ]
    },
    {
     "name": "stderr",
     "output_type": "stream",
     "text": [
      "[I 2024-01-10 16:06:44,407] Trial 149 finished with value: 0.031149486784683832 and parameters: {'w_slim': 0.8078119203102558, 'w_knn': 0.09977471614378389, 'w_p3': 0.029570739498392916, 'w_rp3': 0.6779686795290546, 'w_top': 2.029818651962022e-05}. Best is trial 146 with value: 0.031162907974085812.\n"
     ]
    },
    {
     "name": "stdout",
     "output_type": "stream",
     "text": [
      "EvaluatorHoldout: Processed 10057 (100.0%) in 5.88 sec. Users per second: 1711\n",
      "MAP: 0.031080495935075007, RECALL: 0.12198880331048897\n",
      "EvaluatorHoldout: Processed 10040 (100.0%) in 6.05 sec. Users per second: 1660\n",
      "MAP: 0.031125735154619874, RECALL: 0.11983847127869648\n",
      "EvaluatorHoldout: Processed 10017 (100.0%) in 6.50 sec. Users per second: 1541\n",
      "MAP: 0.030653428853488963, RECALL: 0.11867729097539124\n",
      "EvaluatorHoldout: Processed 10037 (100.0%) in 6.56 sec. Users per second: 1529\n",
      "MAP: 0.031045136961496685, RECALL: 0.12161789224238932\n",
      "EvaluatorHoldout: Processed 9989 (100.0%) in 6.86 sec. Users per second: 1456\n",
      "MAP: 0.03123931960076741, RECALL: 0.1253166632093484\n",
      "EvaluatorHoldout: Processed 10024 (100.0%) in 6.27 sec. Users per second: 1598\n",
      "MAP: 0.031473048018090144, RECALL: 0.12177877911345301\n",
      "EvaluatorHoldout: Processed 10030 (100.0%) in 6.23 sec. Users per second: 1609\n",
      "MAP: 0.03145658263305352, RECALL: 0.12573582509397108\n",
      "EvaluatorHoldout: Processed 10052 (100.0%) in 6.46 sec. Users per second: 1555\n",
      "MAP: 0.030780157466886764, RECALL: 0.12166894518093707\n",
      "EvaluatorHoldout: Processed 10045 (100.0%) in 6.13 sec. Users per second: 1640\n",
      "MAP: 0.03132216138487935, RECALL: 0.11879998897154993\n",
      "EvaluatorHoldout: Processed 10068 (100.0%) in 6.45 sec. Users per second: 1561\n",
      "MAP: 0.031436233611442474, RECALL: 0.12432872427259108\n"
     ]
    },
    {
     "name": "stderr",
     "output_type": "stream",
     "text": [
      "[I 2024-01-10 16:08:02,129] Trial 150 finished with value: 0.03116122996198002 and parameters: {'w_slim': 0.8007968617666108, 'w_knn': 0.09648332468987726, 'w_p3': 0.033786628170646815, 'w_rp3': 0.6938055670646475, 'w_top': 2.2217497453885072e-05}. Best is trial 146 with value: 0.031162907974085812.\n"
     ]
    },
    {
     "name": "stdout",
     "output_type": "stream",
     "text": [
      "EvaluatorHoldout: Processed 10057 (100.0%) in 5.54 sec. Users per second: 1815\n",
      "MAP: 0.031033687347200477, RECALL: 0.12152567117122987\n",
      "EvaluatorHoldout: Processed 10040 (100.0%) in 6.20 sec. Users per second: 1618\n",
      "MAP: 0.031119561436792738, RECALL: 0.11991524438212496\n",
      "EvaluatorHoldout: Processed 10017 (100.0%) in 6.40 sec. Users per second: 1565\n",
      "MAP: 0.030650235868864405, RECALL: 0.11808983318182681\n",
      "EvaluatorHoldout: Processed 10037 (100.0%) in 6.62 sec. Users per second: 1517\n",
      "MAP: 0.031096684331465906, RECALL: 0.1214470541180225\n",
      "EvaluatorHoldout: Processed 9989 (100.0%) in 6.80 sec. Users per second: 1468\n",
      "MAP: 0.031211813153198913, RECALL: 0.12517130415350347\n",
      "EvaluatorHoldout: Processed 10024 (100.0%) in 6.55 sec. Users per second: 1529\n",
      "MAP: 0.031451773679676914, RECALL: 0.12171332901215004\n",
      "EvaluatorHoldout: Processed 10030 (100.0%) in 6.06 sec. Users per second: 1655\n",
      "MAP: 0.03146538163287941, RECALL: 0.12531635141144573\n",
      "EvaluatorHoldout: Processed 10052 (100.0%) in 6.14 sec. Users per second: 1637\n",
      "MAP: 0.03076956966630696, RECALL: 0.12096636451075649\n",
      "EvaluatorHoldout: Processed 10045 (100.0%) in 6.09 sec. Users per second: 1650\n",
      "MAP: 0.03128071693253397, RECALL: 0.11834705008454714\n",
      "EvaluatorHoldout: Processed 10068 (100.0%) in 6.57 sec. Users per second: 1533\n",
      "MAP: 0.03145197182965386, RECALL: 0.12401274768648302\n"
     ]
    },
    {
     "name": "stderr",
     "output_type": "stream",
     "text": [
      "[I 2024-01-10 16:09:18,792] Trial 151 finished with value: 0.031153139587857353 and parameters: {'w_slim': 0.8005050422916844, 'w_knn': 0.09688455775749971, 'w_p3': 0.03370052388215516, 'w_rp3': 0.69098189571188, 'w_top': 1.3054863520133742e-05}. Best is trial 146 with value: 0.031162907974085812.\n"
     ]
    },
    {
     "name": "stdout",
     "output_type": "stream",
     "text": [
      "EvaluatorHoldout: Processed 10057 (100.0%) in 5.97 sec. Users per second: 1685\n",
      "MAP: 0.03104337024989321, RECALL: 0.12171732462203812\n",
      "EvaluatorHoldout: Processed 10040 (100.0%) in 6.15 sec. Users per second: 1633\n",
      "MAP: 0.031115352083728818, RECALL: 0.11993846239038723\n",
      "EvaluatorHoldout: Processed 10017 (100.0%) in 6.60 sec. Users per second: 1518\n",
      "MAP: 0.030651503555067693, RECALL: 0.11814079787718841\n",
      "EvaluatorHoldout: Processed 10037 (100.0%) in 6.64 sec. Users per second: 1511\n",
      "MAP: 0.031088860106495118, RECALL: 0.12145876039837894\n",
      "EvaluatorHoldout: Processed 9989 (100.0%) in 6.65 sec. Users per second: 1501\n",
      "MAP: 0.031211805207951197, RECALL: 0.12521359542533841\n",
      "EvaluatorHoldout: Processed 10024 (100.0%) in 5.97 sec. Users per second: 1678\n",
      "MAP: 0.03147378434614089, RECALL: 0.12160360601341948\n",
      "EvaluatorHoldout: Processed 10030 (100.0%) in 5.89 sec. Users per second: 1703\n",
      "MAP: 0.031444796562693146, RECALL: 0.12533606790299673\n",
      "EvaluatorHoldout: Processed 10052 (100.0%) in 6.22 sec. Users per second: 1615\n",
      "MAP: 0.030763458586777655, RECALL: 0.12098683443522565\n",
      "EvaluatorHoldout: Processed 10045 (100.0%) in 6.18 sec. Users per second: 1625\n",
      "MAP: 0.03127192317112697, RECALL: 0.11832772447164264\n",
      "EvaluatorHoldout: Processed 10068 (100.0%) in 6.45 sec. Users per second: 1562\n",
      "MAP: 0.031452850773470827, RECALL: 0.12378290480510092\n"
     ]
    },
    {
     "name": "stderr",
     "output_type": "stream",
     "text": [
      "[I 2024-01-10 16:10:36,614] Trial 152 finished with value: 0.03115177046433455 and parameters: {'w_slim': 0.8009438364083578, 'w_knn': 0.0981468614101495, 'w_p3': 0.0340430290893787, 'w_rp3': 0.6893256579740312, 'w_top': 1.4504489152231378e-05}. Best is trial 146 with value: 0.031162907974085812.\n"
     ]
    },
    {
     "name": "stdout",
     "output_type": "stream",
     "text": [
      "EvaluatorHoldout: Processed 10057 (100.0%) in 5.32 sec. Users per second: 1892\n",
      "MAP: 0.031037246425533353, RECALL: 0.12166350648981954\n",
      "EvaluatorHoldout: Processed 10040 (100.0%) in 5.92 sec. Users per second: 1695\n",
      "MAP: 0.031126494023904612, RECALL: 0.12005657553857477\n",
      "EvaluatorHoldout: Processed 10017 (100.0%) in 6.00 sec. Users per second: 1670\n",
      "MAP: 0.030646654655340087, RECALL: 0.1180827456635084\n",
      "EvaluatorHoldout: Processed 10037 (100.0%) in 6.21 sec. Users per second: 1617\n",
      "MAP: 0.031092240456343533, RECALL: 0.12151504205523848\n",
      "EvaluatorHoldout: Processed 9989 (100.0%) in 5.86 sec. Users per second: 1704\n",
      "MAP: 0.031211821098446613, RECALL: 0.12517456259022988\n",
      "EvaluatorHoldout: Processed 10024 (100.0%) in 5.44 sec. Users per second: 1842\n",
      "MAP: 0.03146570849010015, RECALL: 0.12163538908385096\n",
      "EvaluatorHoldout: Processed 10030 (100.0%) in 5.55 sec. Users per second: 1806\n",
      "MAP: 0.031455261200525685, RECALL: 0.12530740389502065\n",
      "EvaluatorHoldout: Processed 10052 (100.0%) in 6.64 sec. Users per second: 1513\n",
      "MAP: 0.0307650376770953, RECALL: 0.12087809336199988\n",
      "EvaluatorHoldout: Processed 10045 (100.0%) in 6.12 sec. Users per second: 1642\n",
      "MAP: 0.03127690077192338, RECALL: 0.1184352571413953\n",
      "EvaluatorHoldout: Processed 10068 (100.0%) in 6.21 sec. Users per second: 1622\n",
      "MAP: 0.031460682438781626, RECALL: 0.12390660070998474\n"
     ]
    },
    {
     "name": "stderr",
     "output_type": "stream",
     "text": [
      "[I 2024-01-10 16:11:49,813] Trial 153 finished with value: 0.031153804723799437 and parameters: {'w_slim': 0.8000548597548088, 'w_knn': 0.09759633202413194, 'w_p3': 0.03407456999306533, 'w_rp3': 0.6887234152541969, 'w_top': 1.368498413144252e-05}. Best is trial 146 with value: 0.031162907974085812.\n"
     ]
    },
    {
     "name": "stdout",
     "output_type": "stream",
     "text": [
      "EvaluatorHoldout: Processed 10057 (100.0%) in 5.71 sec. Users per second: 1762\n",
      "MAP: 0.031044029192333997, RECALL: 0.12171832127213489\n",
      "EvaluatorHoldout: Processed 10040 (100.0%) in 6.31 sec. Users per second: 1591\n",
      "MAP: 0.03112620549547864, RECALL: 0.12000021418912493\n",
      "EvaluatorHoldout: Processed 10017 (100.0%) in 6.40 sec. Users per second: 1566\n",
      "MAP: 0.03064497497112072, RECALL: 0.11823230897498882\n",
      "EvaluatorHoldout: Processed 10037 (100.0%) in 6.61 sec. Users per second: 1519\n",
      "MAP: 0.031088132639393244, RECALL: 0.12144630647788478\n",
      "EvaluatorHoldout: Processed 9989 (100.0%) in 6.73 sec. Users per second: 1485\n",
      "MAP: 0.031219281686045357, RECALL: 0.12522773134522064\n",
      "EvaluatorHoldout: Processed 10024 (100.0%) in 6.07 sec. Users per second: 1651\n",
      "MAP: 0.031475522238690844, RECALL: 0.12161311853689846\n",
      "EvaluatorHoldout: Processed 10030 (100.0%) in 5.85 sec. Users per second: 1713\n",
      "MAP: 0.03144920001899092, RECALL: 0.1253114275383763\n",
      "EvaluatorHoldout: Processed 10052 (100.0%) in 6.73 sec. Users per second: 1494\n",
      "MAP: 0.030766829944605823, RECALL: 0.12105880862557739\n",
      "EvaluatorHoldout: Processed 10045 (100.0%) in 6.42 sec. Users per second: 1566\n",
      "MAP: 0.03128129370215007, RECALL: 0.11833089093075733\n",
      "EvaluatorHoldout: Processed 10068 (100.0%) in 6.68 sec. Users per second: 1508\n",
      "MAP: 0.03145350899597052, RECALL: 0.12376297819425344\n"
     ]
    },
    {
     "name": "stderr",
     "output_type": "stream",
     "text": [
      "[I 2024-01-10 16:13:09,399] Trial 154 finished with value: 0.031154897888478018 and parameters: {'w_slim': 0.8007448412569389, 'w_knn': 0.09767458554652504, 'w_p3': 0.03431748340109018, 'w_rp3': 0.6920528396734477, 'w_top': 1.4652693379368446e-05}. Best is trial 146 with value: 0.031162907974085812.\n"
     ]
    },
    {
     "name": "stdout",
     "output_type": "stream",
     "text": [
      "EvaluatorHoldout: Processed 10057 (100.0%) in 5.43 sec. Users per second: 1852\n",
      "MAP: 0.03104798284697873, RECALL: 0.12176013615187363\n",
      "EvaluatorHoldout: Processed 10040 (100.0%) in 5.73 sec. Users per second: 1752\n",
      "MAP: 0.03112145070511628, RECALL: 0.11999723465427287\n",
      "EvaluatorHoldout: Processed 10017 (100.0%) in 5.54 sec. Users per second: 1809\n",
      "MAP: 0.030656463377338086, RECALL: 0.1181208318194865\n",
      "EvaluatorHoldout: Processed 10037 (100.0%) in 5.79 sec. Users per second: 1732\n",
      "MAP: 0.03109135879784506, RECALL: 0.12142554994372783\n",
      "EvaluatorHoldout: Processed 9989 (100.0%) in 6.27 sec. Users per second: 1592\n",
      "MAP: 0.03120694668897715, RECALL: 0.12522944619451784\n",
      "EvaluatorHoldout: Processed 10024 (100.0%) in 5.98 sec. Users per second: 1677\n",
      "MAP: 0.03146395476253837, RECALL: 0.12159892280866645\n",
      "EvaluatorHoldout: Processed 10030 (100.0%) in 6.25 sec. Users per second: 1606\n",
      "MAP: 0.03144813970786082, RECALL: 0.12526047596535936\n",
      "EvaluatorHoldout: Processed 10052 (100.0%) in 6.45 sec. Users per second: 1559\n",
      "MAP: 0.030764256027388064, RECALL: 0.12097886812702055\n",
      "EvaluatorHoldout: Processed 10045 (100.0%) in 6.31 sec. Users per second: 1591\n",
      "MAP: 0.031267589498052625, RECALL: 0.11834298911408496\n",
      "EvaluatorHoldout: Processed 10068 (100.0%) in 6.87 sec. Users per second: 1466\n",
      "MAP: 0.03145551913653847, RECALL: 0.12380608054341372\n"
     ]
    },
    {
     "name": "stderr",
     "output_type": "stream",
     "text": [
      "[I 2024-01-10 16:14:28,442] Trial 155 finished with value: 0.031152366154863366 and parameters: {'w_slim': 0.8032303760467941, 'w_knn': 0.09793296066158502, 'w_p3': 0.03404587940657085, 'w_rp3': 0.6896943685492533, 'w_top': 1.4378226726732692e-05}. Best is trial 146 with value: 0.031162907974085812.\n"
     ]
    },
    {
     "name": "stdout",
     "output_type": "stream",
     "text": [
      "EvaluatorHoldout: Processed 10057 (100.0%) in 6.22 sec. Users per second: 1617\n",
      "MAP: 0.03104794338934752, RECALL: 0.12176229642024229\n",
      "EvaluatorHoldout: Processed 10040 (100.0%) in 6.18 sec. Users per second: 1625\n",
      "MAP: 0.031122790583697206, RECALL: 0.11991458354678729\n",
      "EvaluatorHoldout: Processed 10017 (100.0%) in 6.19 sec. Users per second: 1618\n",
      "MAP: 0.03065722002754068, RECALL: 0.11825333705703657\n",
      "EvaluatorHoldout: Processed 10037 (100.0%) in 6.59 sec. Users per second: 1522\n",
      "MAP: 0.031081130768537624, RECALL: 0.12152968844081247\n",
      "EvaluatorHoldout: Processed 9989 (100.0%) in 6.40 sec. Users per second: 1561\n",
      "MAP: 0.031212484526630325, RECALL: 0.1251811087095589\n",
      "EvaluatorHoldout: Processed 10024 (100.0%) in 6.07 sec. Users per second: 1652\n",
      "MAP: 0.031482366922560664, RECALL: 0.1217437692608752\n",
      "EvaluatorHoldout: Processed 10030 (100.0%) in 6.19 sec. Users per second: 1621\n",
      "MAP: 0.031433837376758894, RECALL: 0.12535668552594673\n",
      "EvaluatorHoldout: Processed 10052 (100.0%) in 6.28 sec. Users per second: 1602\n",
      "MAP: 0.030763040127843467, RECALL: 0.12105527389263555\n",
      "EvaluatorHoldout: Processed 10045 (100.0%) in 6.17 sec. Users per second: 1627\n",
      "MAP: 0.03127796345018866, RECALL: 0.11830202404351402\n",
      "EvaluatorHoldout: Processed 10068 (100.0%) in 6.52 sec. Users per second: 1545\n",
      "MAP: 0.03146641331012632, RECALL: 0.12377722911408555\n"
     ]
    },
    {
     "name": "stderr",
     "output_type": "stream",
     "text": [
      "[I 2024-01-10 16:15:47,432] Trial 156 finished with value: 0.031154519048323136 and parameters: {'w_slim': 0.8007724389002807, 'w_knn': 0.09850942367180116, 'w_p3': 0.03430661056884244, 'w_rp3': 0.6923166238736146, 'w_top': 1.5061327162307113e-05}. Best is trial 146 with value: 0.031162907974085812.\n"
     ]
    },
    {
     "name": "stdout",
     "output_type": "stream",
     "text": [
      "EvaluatorHoldout: Processed 10057 (100.0%) in 6.06 sec. Users per second: 1659\n",
      "MAP: 0.031037139889929146, RECALL: 0.12172396804109917\n",
      "EvaluatorHoldout: Processed 10040 (100.0%) in 6.18 sec. Users per second: 1623\n",
      "MAP: 0.031124055365838472, RECALL: 0.12005637432323413\n",
      "EvaluatorHoldout: Processed 10017 (100.0%) in 6.58 sec. Users per second: 1522\n",
      "MAP: 0.030661225123639217, RECALL: 0.11811053392130566\n",
      "EvaluatorHoldout: Processed 10037 (100.0%) in 6.66 sec. Users per second: 1506\n",
      "MAP: 0.0310824315113448, RECALL: 0.12154714549473455\n",
      "EvaluatorHoldout: Processed 9989 (100.0%) in 6.63 sec. Users per second: 1508\n",
      "MAP: 0.03120683148288537, RECALL: 0.12518457360234322\n",
      "EvaluatorHoldout: Processed 10024 (100.0%) in 6.35 sec. Users per second: 1579\n",
      "MAP: 0.03146973058310867, RECALL: 0.12164482023061132\n",
      "EvaluatorHoldout: Processed 10030 (100.0%) in 6.43 sec. Users per second: 1561\n",
      "MAP: 0.03145034341420212, RECALL: 0.12530075716853345\n",
      "EvaluatorHoldout: Processed 10052 (100.0%) in 5.97 sec. Users per second: 1683\n",
      "MAP: 0.030758472609099672, RECALL: 0.12093694079450427\n",
      "EvaluatorHoldout: Processed 10045 (100.0%) in 5.65 sec. Users per second: 1779\n",
      "MAP: 0.031272337971193324, RECALL: 0.118337665998508\n",
      "EvaluatorHoldout: Processed 10068 (100.0%) in 6.20 sec. Users per second: 1625\n",
      "MAP: 0.031455479722017524, RECALL: 0.12388425267661167\n"
     ]
    },
    {
     "name": "stderr",
     "output_type": "stream",
     "text": [
      "[I 2024-01-10 16:17:04,205] Trial 157 finished with value: 0.031151804767325826 and parameters: {'w_slim': 0.8056244215907216, 'w_knn': 0.0981775553890496, 'w_p3': 0.034765475943507616, 'w_rp3': 0.6929286561853797, 'w_top': 1.3982378490003705e-05}. Best is trial 146 with value: 0.031162907974085812.\n"
     ]
    },
    {
     "name": "stdout",
     "output_type": "stream",
     "text": [
      "EvaluatorHoldout: Processed 10057 (100.0%) in 4.92 sec. Users per second: 2045\n",
      "MAP: 0.0310522284880942, RECALL: 0.12180498802308942\n",
      "EvaluatorHoldout: Processed 10040 (100.0%) in 5.34 sec. Users per second: 1881\n",
      "MAP: 0.031116110953013598, RECALL: 0.11980293249781931\n",
      "EvaluatorHoldout: Processed 10017 (100.0%) in 5.43 sec. Users per second: 1843\n",
      "MAP: 0.030656392069989154, RECALL: 0.11818239383073403\n",
      "EvaluatorHoldout: Processed 10037 (100.0%) in 5.68 sec. Users per second: 1769\n",
      "MAP: 0.031084819501179233, RECALL: 0.12149529189849521\n",
      "EvaluatorHoldout: Processed 9989 (100.0%) in 6.27 sec. Users per second: 1594\n",
      "MAP: 0.031210621366042555, RECALL: 0.12523032951911606\n",
      "EvaluatorHoldout: Processed 10024 (100.0%) in 5.28 sec. Users per second: 1898\n",
      "MAP: 0.031475652877538556, RECALL: 0.12163139389766073\n",
      "EvaluatorHoldout: Processed 10030 (100.0%) in 5.44 sec. Users per second: 1843\n",
      "MAP: 0.03145130481571187, RECALL: 0.1253212460360995\n",
      "EvaluatorHoldout: Processed 10052 (100.0%) in 6.63 sec. Users per second: 1516\n",
      "MAP: 0.030771164547527784, RECALL: 0.12101844407810669\n",
      "EvaluatorHoldout: Processed 10045 (100.0%) in 6.41 sec. Users per second: 1566\n",
      "MAP: 0.03127708644433406, RECALL: 0.11834713711474865\n",
      "EvaluatorHoldout: Processed 10068 (100.0%) in 6.59 sec. Users per second: 1528\n",
      "MAP: 0.0314544431201168, RECALL: 0.1238159281098763\n"
     ]
    },
    {
     "name": "stderr",
     "output_type": "stream",
     "text": [
      "[I 2024-01-10 16:18:16,982] Trial 158 finished with value: 0.031154982418354783 and parameters: {'w_slim': 0.8052952727514097, 'w_knn': 0.09799313384577112, 'w_p3': 0.03459093423686519, 'w_rp3': 0.6911891351452666, 'w_top': 1.5001461523926516e-05}. Best is trial 146 with value: 0.031162907974085812.\n"
     ]
    },
    {
     "name": "stdout",
     "output_type": "stream",
     "text": [
      "EvaluatorHoldout: Processed 10057 (100.0%) in 6.17 sec. Users per second: 1629\n",
      "MAP: 0.03104501563311364, RECALL: 0.12173041310015018\n",
      "EvaluatorHoldout: Processed 10040 (100.0%) in 6.44 sec. Users per second: 1560\n",
      "MAP: 0.031113877822045388, RECALL: 0.1199861678105367\n",
      "EvaluatorHoldout: Processed 10017 (100.0%) in 6.60 sec. Users per second: 1518\n",
      "MAP: 0.030654922346297207, RECALL: 0.11814079787718841\n",
      "EvaluatorHoldout: Processed 10037 (100.0%) in 6.59 sec. Users per second: 1523\n",
      "MAP: 0.03109078947576533, RECALL: 0.12142554994372783\n",
      "EvaluatorHoldout: Processed 9989 (100.0%) in 6.90 sec. Users per second: 1448\n",
      "MAP: 0.03120457105991216, RECALL: 0.1252482659158191\n",
      "EvaluatorHoldout: Processed 10024 (100.0%) in 6.36 sec. Users per second: 1576\n",
      "MAP: 0.031464168535198275, RECALL: 0.12159892280866645\n",
      "EvaluatorHoldout: Processed 10030 (100.0%) in 6.36 sec. Users per second: 1577\n",
      "MAP: 0.03144848786972443, RECALL: 0.1253103264140134\n",
      "EvaluatorHoldout: Processed 10052 (100.0%) in 6.58 sec. Users per second: 1528\n",
      "MAP: 0.030769609143564896, RECALL: 0.12097886812702055\n",
      "EvaluatorHoldout: Processed 10045 (100.0%) in 6.33 sec. Users per second: 1586\n",
      "MAP: 0.03127010990226541, RECALL: 0.11834681803777453\n",
      "EvaluatorHoldout: Processed 10068 (100.0%) in 6.35 sec. Users per second: 1585\n",
      "MAP: 0.03145476631918851, RECALL: 0.12380608054341372\n"
     ]
    },
    {
     "name": "stderr",
     "output_type": "stream",
     "text": [
      "[I 2024-01-10 16:19:35,835] Trial 159 finished with value: 0.031151631810707524 and parameters: {'w_slim': 0.806315806875387, 'w_knn': 0.09827454046812861, 'w_p3': 0.03432685375637745, 'w_rp3': 0.6914617688444322, 'w_top': 1.4456639568539097e-05}. Best is trial 146 with value: 0.031162907974085812.\n"
     ]
    },
    {
     "name": "stdout",
     "output_type": "stream",
     "text": [
      "EvaluatorHoldout: Processed 10057 (100.0%) in 5.25 sec. Users per second: 1915\n",
      "MAP: 0.03101049415159004, RECALL: 0.12109156214681194\n",
      "EvaluatorHoldout: Processed 10040 (100.0%) in 6.10 sec. Users per second: 1645\n",
      "MAP: 0.031116786820970348, RECALL: 0.1200712787836566\n",
      "EvaluatorHoldout: Processed 10017 (100.0%) in 6.28 sec. Users per second: 1595\n",
      "MAP: 0.030673878216555886, RECALL: 0.11766543714064355\n",
      "EvaluatorHoldout: Processed 10037 (100.0%) in 6.52 sec. Users per second: 1539\n",
      "MAP: 0.031069151283109917, RECALL: 0.12120268711966442\n",
      "EvaluatorHoldout: Processed 9989 (100.0%) in 7.07 sec. Users per second: 1414\n",
      "MAP: 0.03120604887598604, RECALL: 0.1251044010406933\n",
      "EvaluatorHoldout: Processed 10024 (100.0%) in 5.54 sec. Users per second: 1811\n",
      "MAP: 0.031436991696119986, RECALL: 0.12140656198688203\n",
      "EvaluatorHoldout: Processed 10030 (100.0%) in 5.50 sec. Users per second: 1822\n",
      "MAP: 0.03143183544604312, RECALL: 0.1250782693637974\n",
      "EvaluatorHoldout: Processed 10052 (100.0%) in 6.25 sec. Users per second: 1608\n",
      "MAP: 0.03077383321016461, RECALL: 0.12047786017980261\n",
      "EvaluatorHoldout: Processed 10045 (100.0%) in 5.28 sec. Users per second: 1904\n",
      "MAP: 0.03124095933379177, RECALL: 0.11790297826565851\n",
      "EvaluatorHoldout: Processed 10068 (100.0%) in 5.69 sec. Users per second: 1769\n",
      "MAP: 0.03145275617862058, RECALL: 0.1236347948839752\n"
     ]
    },
    {
     "name": "stderr",
     "output_type": "stream",
     "text": [
      "[I 2024-01-10 16:20:49,622] Trial 160 finished with value: 0.031141273521295233 and parameters: {'w_slim': 0.8043427087967256, 'w_knn': 0.09959162158745923, 'w_p3': 0.0360223030768756, 'w_rp3': 0.6932587749314254, 'w_top': 8.415604313977257e-06}. Best is trial 146 with value: 0.031162907974085812.\n"
     ]
    },
    {
     "name": "stdout",
     "output_type": "stream",
     "text": [
      "EvaluatorHoldout: Processed 10057 (100.0%) in 5.97 sec. Users per second: 1683\n",
      "MAP: 0.031056612230918802, RECALL: 0.12162206345725918\n",
      "EvaluatorHoldout: Processed 10040 (100.0%) in 5.36 sec. Users per second: 1873\n",
      "MAP: 0.031136260513501785, RECALL: 0.11989701523042968\n",
      "EvaluatorHoldout: Processed 10017 (100.0%) in 6.13 sec. Users per second: 1633\n",
      "MAP: 0.030629905351379043, RECALL: 0.11820637559001267\n",
      "EvaluatorHoldout: Processed 10037 (100.0%) in 6.51 sec. Users per second: 1541\n",
      "MAP: 0.031086997948859333, RECALL: 0.12139149999796686\n",
      "EvaluatorHoldout: Processed 9989 (100.0%) in 6.75 sec. Users per second: 1480\n",
      "MAP: 0.031223321844505377, RECALL: 0.12520847036431806\n",
      "EvaluatorHoldout: Processed 10024 (100.0%) in 6.22 sec. Users per second: 1612\n",
      "MAP: 0.03147962746551157, RECALL: 0.12163606861820851\n"
     ]
    },
    {
     "name": "stderr",
     "output_type": "stream",
     "text": [
      "[W 2024-01-10 16:21:40,627] Trial 161 failed with parameters: {'w_slim': 0.8000573790899062, 'w_knn': 0.09764249069604387, 'w_p3': 0.034771929091704984, 'w_rp3': 0.6997425122141736, 'w_top': 1.45505426395584e-05} because of the following error: KeyboardInterrupt().\n",
      "Traceback (most recent call last):\n",
      "  File \"/home/japo/miniconda3/envs/RecSysFramework/lib/python3.8/site-packages/optuna/study/_optimize.py\", line 200, in _run_trial\n",
      "    value_or_values = func(trial)\n",
      "  File \"/tmp/ipykernel_387424/3544739749.py\", line 16, in objective\n",
      "    result_dict, _ = evaluator_validation[i].evaluateRecommender(recommender)\n",
      "  File \"/home/japo/RecSys-Challenge/Evaluation/Evaluator.py\", line 276, in evaluateRecommender\n",
      "    results_dict = self._run_evaluation_on_selected_users(recommender_object, self.users_to_evaluate)\n",
      "  File \"/home/japo/RecSys-Challenge/Evaluation/Evaluator.py\", line 476, in _run_evaluation_on_selected_users\n",
      "    recommended_items_batch_list, scores_batch = recommender_object.recommend(test_user_batch_array,\n",
      "  File \"/home/japo/RecSys-Challenge/Recommenders/BaseRecommender.py\", line 147, in recommend\n",
      "    scores_batch = self._compute_item_score(user_id_array, items_to_compute=items_to_compute)\n",
      "  File \"/home/japo/RecSys-Challenge/Recommenders/Hybrid/GeneralizedLinearHybridRecommender.py\", line 71, in _compute_item_score\n",
      "    result = result + self.alphas[index]*self.recommenders[index]._compute_item_score(user_id_array,items_to_compute)\n",
      "  File \"/home/japo/RecSys-Challenge/Recommenders/BaseSimilarityMatrixRecommender.py\", line 90, in _compute_item_score\n",
      "    item_scores = user_profile_array.dot(self.W_sparse).toarray()\n",
      "  File \"/home/japo/miniconda3/envs/RecSysFramework/lib/python3.8/site-packages/scipy/sparse/compressed.py\", line 1042, in toarray\n",
      "    csr_todense(M, N, x.indptr, x.indices, x.data, y)\n",
      "KeyboardInterrupt\n",
      "[W 2024-01-10 16:21:40,628] Trial 161 failed with value None.\n"
     ]
    },
    {
     "ename": "KeyboardInterrupt",
     "evalue": "",
     "output_type": "error",
     "traceback": [
      "\u001b[0;31m---------------------------------------------------------------------------\u001b[0m",
      "\u001b[0;31mKeyboardInterrupt\u001b[0m                         Traceback (most recent call last)",
      "Cell \u001b[0;32mIn[29], line 1\u001b[0m\n\u001b[0;32m----> 1\u001b[0m \u001b[43mstudy\u001b[49m\u001b[38;5;241;43m.\u001b[39;49m\u001b[43moptimize\u001b[49m\u001b[43m(\u001b[49m\u001b[43mobjective\u001b[49m\u001b[43m,\u001b[49m\u001b[43m \u001b[49m\u001b[43mn_trials\u001b[49m\u001b[38;5;241;43m=\u001b[39;49m\u001b[38;5;241;43m200\u001b[39;49m\u001b[43m)\u001b[49m\n",
      "File \u001b[0;32m~/miniconda3/envs/RecSysFramework/lib/python3.8/site-packages/optuna/study/study.py:451\u001b[0m, in \u001b[0;36mStudy.optimize\u001b[0;34m(self, func, n_trials, timeout, n_jobs, catch, callbacks, gc_after_trial, show_progress_bar)\u001b[0m\n\u001b[1;32m    348\u001b[0m \u001b[38;5;28;01mdef\u001b[39;00m \u001b[38;5;21moptimize\u001b[39m(\n\u001b[1;32m    349\u001b[0m     \u001b[38;5;28mself\u001b[39m,\n\u001b[1;32m    350\u001b[0m     func: ObjectiveFuncType,\n\u001b[0;32m   (...)\u001b[0m\n\u001b[1;32m    357\u001b[0m     show_progress_bar: \u001b[38;5;28mbool\u001b[39m \u001b[38;5;241m=\u001b[39m \u001b[38;5;28;01mFalse\u001b[39;00m,\n\u001b[1;32m    358\u001b[0m ) \u001b[38;5;241m-\u001b[39m\u001b[38;5;241m>\u001b[39m \u001b[38;5;28;01mNone\u001b[39;00m:\n\u001b[1;32m    359\u001b[0m \u001b[38;5;250m    \u001b[39m\u001b[38;5;124;03m\"\"\"Optimize an objective function.\u001b[39;00m\n\u001b[1;32m    360\u001b[0m \n\u001b[1;32m    361\u001b[0m \u001b[38;5;124;03m    Optimization is done by choosing a suitable set of hyperparameter values from a given\u001b[39;00m\n\u001b[0;32m   (...)\u001b[0m\n\u001b[1;32m    449\u001b[0m \u001b[38;5;124;03m            If nested invocation of this method occurs.\u001b[39;00m\n\u001b[1;32m    450\u001b[0m \u001b[38;5;124;03m    \"\"\"\u001b[39;00m\n\u001b[0;32m--> 451\u001b[0m     \u001b[43m_optimize\u001b[49m\u001b[43m(\u001b[49m\n\u001b[1;32m    452\u001b[0m \u001b[43m        \u001b[49m\u001b[43mstudy\u001b[49m\u001b[38;5;241;43m=\u001b[39;49m\u001b[38;5;28;43mself\u001b[39;49m\u001b[43m,\u001b[49m\n\u001b[1;32m    453\u001b[0m \u001b[43m        \u001b[49m\u001b[43mfunc\u001b[49m\u001b[38;5;241;43m=\u001b[39;49m\u001b[43mfunc\u001b[49m\u001b[43m,\u001b[49m\n\u001b[1;32m    454\u001b[0m \u001b[43m        \u001b[49m\u001b[43mn_trials\u001b[49m\u001b[38;5;241;43m=\u001b[39;49m\u001b[43mn_trials\u001b[49m\u001b[43m,\u001b[49m\n\u001b[1;32m    455\u001b[0m \u001b[43m        \u001b[49m\u001b[43mtimeout\u001b[49m\u001b[38;5;241;43m=\u001b[39;49m\u001b[43mtimeout\u001b[49m\u001b[43m,\u001b[49m\n\u001b[1;32m    456\u001b[0m \u001b[43m        \u001b[49m\u001b[43mn_jobs\u001b[49m\u001b[38;5;241;43m=\u001b[39;49m\u001b[43mn_jobs\u001b[49m\u001b[43m,\u001b[49m\n\u001b[1;32m    457\u001b[0m \u001b[43m        \u001b[49m\u001b[43mcatch\u001b[49m\u001b[38;5;241;43m=\u001b[39;49m\u001b[38;5;28;43mtuple\u001b[39;49m\u001b[43m(\u001b[49m\u001b[43mcatch\u001b[49m\u001b[43m)\u001b[49m\u001b[43m \u001b[49m\u001b[38;5;28;43;01mif\u001b[39;49;00m\u001b[43m \u001b[49m\u001b[38;5;28;43misinstance\u001b[39;49m\u001b[43m(\u001b[49m\u001b[43mcatch\u001b[49m\u001b[43m,\u001b[49m\u001b[43m \u001b[49m\u001b[43mIterable\u001b[49m\u001b[43m)\u001b[49m\u001b[43m \u001b[49m\u001b[38;5;28;43;01melse\u001b[39;49;00m\u001b[43m \u001b[49m\u001b[43m(\u001b[49m\u001b[43mcatch\u001b[49m\u001b[43m,\u001b[49m\u001b[43m)\u001b[49m\u001b[43m,\u001b[49m\n\u001b[1;32m    458\u001b[0m \u001b[43m        \u001b[49m\u001b[43mcallbacks\u001b[49m\u001b[38;5;241;43m=\u001b[39;49m\u001b[43mcallbacks\u001b[49m\u001b[43m,\u001b[49m\n\u001b[1;32m    459\u001b[0m \u001b[43m        \u001b[49m\u001b[43mgc_after_trial\u001b[49m\u001b[38;5;241;43m=\u001b[39;49m\u001b[43mgc_after_trial\u001b[49m\u001b[43m,\u001b[49m\n\u001b[1;32m    460\u001b[0m \u001b[43m        \u001b[49m\u001b[43mshow_progress_bar\u001b[49m\u001b[38;5;241;43m=\u001b[39;49m\u001b[43mshow_progress_bar\u001b[49m\u001b[43m,\u001b[49m\n\u001b[1;32m    461\u001b[0m \u001b[43m    \u001b[49m\u001b[43m)\u001b[49m\n",
      "File \u001b[0;32m~/miniconda3/envs/RecSysFramework/lib/python3.8/site-packages/optuna/study/_optimize.py:66\u001b[0m, in \u001b[0;36m_optimize\u001b[0;34m(study, func, n_trials, timeout, n_jobs, catch, callbacks, gc_after_trial, show_progress_bar)\u001b[0m\n\u001b[1;32m     64\u001b[0m \u001b[38;5;28;01mtry\u001b[39;00m:\n\u001b[1;32m     65\u001b[0m     \u001b[38;5;28;01mif\u001b[39;00m n_jobs \u001b[38;5;241m==\u001b[39m \u001b[38;5;241m1\u001b[39m:\n\u001b[0;32m---> 66\u001b[0m         \u001b[43m_optimize_sequential\u001b[49m\u001b[43m(\u001b[49m\n\u001b[1;32m     67\u001b[0m \u001b[43m            \u001b[49m\u001b[43mstudy\u001b[49m\u001b[43m,\u001b[49m\n\u001b[1;32m     68\u001b[0m \u001b[43m            \u001b[49m\u001b[43mfunc\u001b[49m\u001b[43m,\u001b[49m\n\u001b[1;32m     69\u001b[0m \u001b[43m            \u001b[49m\u001b[43mn_trials\u001b[49m\u001b[43m,\u001b[49m\n\u001b[1;32m     70\u001b[0m \u001b[43m            \u001b[49m\u001b[43mtimeout\u001b[49m\u001b[43m,\u001b[49m\n\u001b[1;32m     71\u001b[0m \u001b[43m            \u001b[49m\u001b[43mcatch\u001b[49m\u001b[43m,\u001b[49m\n\u001b[1;32m     72\u001b[0m \u001b[43m            \u001b[49m\u001b[43mcallbacks\u001b[49m\u001b[43m,\u001b[49m\n\u001b[1;32m     73\u001b[0m \u001b[43m            \u001b[49m\u001b[43mgc_after_trial\u001b[49m\u001b[43m,\u001b[49m\n\u001b[1;32m     74\u001b[0m \u001b[43m            \u001b[49m\u001b[43mreseed_sampler_rng\u001b[49m\u001b[38;5;241;43m=\u001b[39;49m\u001b[38;5;28;43;01mFalse\u001b[39;49;00m\u001b[43m,\u001b[49m\n\u001b[1;32m     75\u001b[0m \u001b[43m            \u001b[49m\u001b[43mtime_start\u001b[49m\u001b[38;5;241;43m=\u001b[39;49m\u001b[38;5;28;43;01mNone\u001b[39;49;00m\u001b[43m,\u001b[49m\n\u001b[1;32m     76\u001b[0m \u001b[43m            \u001b[49m\u001b[43mprogress_bar\u001b[49m\u001b[38;5;241;43m=\u001b[39;49m\u001b[43mprogress_bar\u001b[49m\u001b[43m,\u001b[49m\n\u001b[1;32m     77\u001b[0m \u001b[43m        \u001b[49m\u001b[43m)\u001b[49m\n\u001b[1;32m     78\u001b[0m     \u001b[38;5;28;01melse\u001b[39;00m:\n\u001b[1;32m     79\u001b[0m         \u001b[38;5;28;01mif\u001b[39;00m n_jobs \u001b[38;5;241m==\u001b[39m \u001b[38;5;241m-\u001b[39m\u001b[38;5;241m1\u001b[39m:\n",
      "File \u001b[0;32m~/miniconda3/envs/RecSysFramework/lib/python3.8/site-packages/optuna/study/_optimize.py:163\u001b[0m, in \u001b[0;36m_optimize_sequential\u001b[0;34m(study, func, n_trials, timeout, catch, callbacks, gc_after_trial, reseed_sampler_rng, time_start, progress_bar)\u001b[0m\n\u001b[1;32m    160\u001b[0m         \u001b[38;5;28;01mbreak\u001b[39;00m\n\u001b[1;32m    162\u001b[0m \u001b[38;5;28;01mtry\u001b[39;00m:\n\u001b[0;32m--> 163\u001b[0m     frozen_trial \u001b[38;5;241m=\u001b[39m \u001b[43m_run_trial\u001b[49m\u001b[43m(\u001b[49m\u001b[43mstudy\u001b[49m\u001b[43m,\u001b[49m\u001b[43m \u001b[49m\u001b[43mfunc\u001b[49m\u001b[43m,\u001b[49m\u001b[43m \u001b[49m\u001b[43mcatch\u001b[49m\u001b[43m)\u001b[49m\n\u001b[1;32m    164\u001b[0m \u001b[38;5;28;01mfinally\u001b[39;00m:\n\u001b[1;32m    165\u001b[0m     \u001b[38;5;66;03m# The following line mitigates memory problems that can be occurred in some\u001b[39;00m\n\u001b[1;32m    166\u001b[0m     \u001b[38;5;66;03m# environments (e.g., services that use computing containers such as GitHub Actions).\u001b[39;00m\n\u001b[1;32m    167\u001b[0m     \u001b[38;5;66;03m# Please refer to the following PR for further details:\u001b[39;00m\n\u001b[1;32m    168\u001b[0m     \u001b[38;5;66;03m# https://github.com/optuna/optuna/pull/325.\u001b[39;00m\n\u001b[1;32m    169\u001b[0m     \u001b[38;5;28;01mif\u001b[39;00m gc_after_trial:\n",
      "File \u001b[0;32m~/miniconda3/envs/RecSysFramework/lib/python3.8/site-packages/optuna/study/_optimize.py:251\u001b[0m, in \u001b[0;36m_run_trial\u001b[0;34m(study, func, catch)\u001b[0m\n\u001b[1;32m    244\u001b[0m         \u001b[38;5;28;01massert\u001b[39;00m \u001b[38;5;28;01mFalse\u001b[39;00m, \u001b[38;5;124m\"\u001b[39m\u001b[38;5;124mShould not reach.\u001b[39m\u001b[38;5;124m\"\u001b[39m\n\u001b[1;32m    246\u001b[0m \u001b[38;5;28;01mif\u001b[39;00m (\n\u001b[1;32m    247\u001b[0m     frozen_trial\u001b[38;5;241m.\u001b[39mstate \u001b[38;5;241m==\u001b[39m TrialState\u001b[38;5;241m.\u001b[39mFAIL\n\u001b[1;32m    248\u001b[0m     \u001b[38;5;129;01mand\u001b[39;00m func_err \u001b[38;5;129;01mis\u001b[39;00m \u001b[38;5;129;01mnot\u001b[39;00m \u001b[38;5;28;01mNone\u001b[39;00m\n\u001b[1;32m    249\u001b[0m     \u001b[38;5;129;01mand\u001b[39;00m \u001b[38;5;129;01mnot\u001b[39;00m \u001b[38;5;28misinstance\u001b[39m(func_err, catch)\n\u001b[1;32m    250\u001b[0m ):\n\u001b[0;32m--> 251\u001b[0m     \u001b[38;5;28;01mraise\u001b[39;00m func_err\n\u001b[1;32m    252\u001b[0m \u001b[38;5;28;01mreturn\u001b[39;00m frozen_trial\n",
      "File \u001b[0;32m~/miniconda3/envs/RecSysFramework/lib/python3.8/site-packages/optuna/study/_optimize.py:200\u001b[0m, in \u001b[0;36m_run_trial\u001b[0;34m(study, func, catch)\u001b[0m\n\u001b[1;32m    198\u001b[0m \u001b[38;5;28;01mwith\u001b[39;00m get_heartbeat_thread(trial\u001b[38;5;241m.\u001b[39m_trial_id, study\u001b[38;5;241m.\u001b[39m_storage):\n\u001b[1;32m    199\u001b[0m     \u001b[38;5;28;01mtry\u001b[39;00m:\n\u001b[0;32m--> 200\u001b[0m         value_or_values \u001b[38;5;241m=\u001b[39m \u001b[43mfunc\u001b[49m\u001b[43m(\u001b[49m\u001b[43mtrial\u001b[49m\u001b[43m)\u001b[49m\n\u001b[1;32m    201\u001b[0m     \u001b[38;5;28;01mexcept\u001b[39;00m exceptions\u001b[38;5;241m.\u001b[39mTrialPruned \u001b[38;5;28;01mas\u001b[39;00m e:\n\u001b[1;32m    202\u001b[0m         \u001b[38;5;66;03m# TODO(mamu): Handle multi-objective cases.\u001b[39;00m\n\u001b[1;32m    203\u001b[0m         state \u001b[38;5;241m=\u001b[39m TrialState\u001b[38;5;241m.\u001b[39mPRUNED\n",
      "Cell \u001b[0;32mIn[28], line 16\u001b[0m, in \u001b[0;36mobjective\u001b[0;34m(trial)\u001b[0m\n\u001b[1;32m     13\u001b[0m recommender \u001b[38;5;241m=\u001b[39m hybrids[i]\n\u001b[1;32m     14\u001b[0m recommender\u001b[38;5;241m.\u001b[39mfit(alphas\u001b[38;5;241m=\u001b[39malphas)\n\u001b[0;32m---> 16\u001b[0m result_dict, _ \u001b[38;5;241m=\u001b[39m \u001b[43mevaluator_validation\u001b[49m\u001b[43m[\u001b[49m\u001b[43mi\u001b[49m\u001b[43m]\u001b[49m\u001b[38;5;241;43m.\u001b[39;49m\u001b[43mevaluateRecommender\u001b[49m\u001b[43m(\u001b[49m\u001b[43mrecommender\u001b[49m\u001b[43m)\u001b[49m\n\u001b[1;32m     17\u001b[0m \u001b[38;5;28mprint\u001b[39m(\u001b[38;5;124mf\u001b[39m\u001b[38;5;124m\"\u001b[39m\u001b[38;5;124mMAP: \u001b[39m\u001b[38;5;132;01m{\u001b[39;00mresult_dict[\u001b[38;5;124m'\u001b[39m\u001b[38;5;124mMAP\u001b[39m\u001b[38;5;124m'\u001b[39m]\u001b[38;5;241m.\u001b[39mitem()\u001b[38;5;132;01m}\u001b[39;00m\u001b[38;5;124m, RECALL: \u001b[39m\u001b[38;5;132;01m{\u001b[39;00mresult_dict[\u001b[38;5;124m'\u001b[39m\u001b[38;5;124mRECALL\u001b[39m\u001b[38;5;124m'\u001b[39m]\u001b[38;5;241m.\u001b[39mitem()\u001b[38;5;132;01m}\u001b[39;00m\u001b[38;5;124m\"\u001b[39m)\n\u001b[1;32m     18\u001b[0m MAP \u001b[38;5;241m+\u001b[39m\u001b[38;5;241m=\u001b[39m result_dict[\u001b[38;5;124m\"\u001b[39m\u001b[38;5;124mMAP\u001b[39m\u001b[38;5;124m\"\u001b[39m]\u001b[38;5;241m.\u001b[39mitem()\n",
      "File \u001b[0;32m~/RecSys-Challenge/Evaluation/Evaluator.py:276\u001b[0m, in \u001b[0;36mEvaluator.evaluateRecommender\u001b[0;34m(self, recommender_object)\u001b[0m\n\u001b[1;32m    273\u001b[0m \u001b[38;5;28mself\u001b[39m\u001b[38;5;241m.\u001b[39m_start_time_print \u001b[38;5;241m=\u001b[39m time\u001b[38;5;241m.\u001b[39mtime()\n\u001b[1;32m    274\u001b[0m \u001b[38;5;28mself\u001b[39m\u001b[38;5;241m.\u001b[39m_n_users_evaluated \u001b[38;5;241m=\u001b[39m \u001b[38;5;241m0\u001b[39m\n\u001b[0;32m--> 276\u001b[0m results_dict \u001b[38;5;241m=\u001b[39m \u001b[38;5;28;43mself\u001b[39;49m\u001b[38;5;241;43m.\u001b[39;49m\u001b[43m_run_evaluation_on_selected_users\u001b[49m\u001b[43m(\u001b[49m\u001b[43mrecommender_object\u001b[49m\u001b[43m,\u001b[49m\u001b[43m \u001b[49m\u001b[38;5;28;43mself\u001b[39;49m\u001b[38;5;241;43m.\u001b[39;49m\u001b[43musers_to_evaluate\u001b[49m\u001b[43m)\u001b[49m\n\u001b[1;32m    279\u001b[0m \u001b[38;5;28;01mif\u001b[39;00m \u001b[38;5;28mself\u001b[39m\u001b[38;5;241m.\u001b[39m_n_users_evaluated \u001b[38;5;241m>\u001b[39m \u001b[38;5;241m0\u001b[39m:\n\u001b[1;32m    281\u001b[0m     \u001b[38;5;28;01mfor\u001b[39;00m cutoff \u001b[38;5;129;01min\u001b[39;00m \u001b[38;5;28mself\u001b[39m\u001b[38;5;241m.\u001b[39mcutoff_list:\n",
      "File \u001b[0;32m~/RecSys-Challenge/Evaluation/Evaluator.py:476\u001b[0m, in \u001b[0;36mEvaluatorHoldout._run_evaluation_on_selected_users\u001b[0;34m(self, recommender_object, users_to_evaluate, block_size)\u001b[0m\n\u001b[1;32m    473\u001b[0m     user_batch_start \u001b[38;5;241m=\u001b[39m user_batch_end\n\u001b[1;32m    475\u001b[0m     \u001b[38;5;66;03m# Compute predictions for a batch of users using vectorization, much more efficient than computing it one at a time\u001b[39;00m\n\u001b[0;32m--> 476\u001b[0m     recommended_items_batch_list, scores_batch \u001b[38;5;241m=\u001b[39m \u001b[43mrecommender_object\u001b[49m\u001b[38;5;241;43m.\u001b[39;49m\u001b[43mrecommend\u001b[49m\u001b[43m(\u001b[49m\u001b[43mtest_user_batch_array\u001b[49m\u001b[43m,\u001b[49m\n\u001b[1;32m    477\u001b[0m \u001b[43m                                                              \u001b[49m\u001b[43mremove_seen_flag\u001b[49m\u001b[38;5;241;43m=\u001b[39;49m\u001b[38;5;28;43mself\u001b[39;49m\u001b[38;5;241;43m.\u001b[39;49m\u001b[43mexclude_seen\u001b[49m\u001b[43m,\u001b[49m\n\u001b[1;32m    478\u001b[0m \u001b[43m                                                              \u001b[49m\u001b[43mcutoff\u001b[49m\u001b[43m \u001b[49m\u001b[38;5;241;43m=\u001b[39;49m\u001b[43m \u001b[49m\u001b[38;5;28;43mself\u001b[39;49m\u001b[38;5;241;43m.\u001b[39;49m\u001b[43mmax_cutoff\u001b[49m\u001b[43m,\u001b[49m\n\u001b[1;32m    479\u001b[0m \u001b[43m                                                              \u001b[49m\u001b[43mremove_top_pop_flag\u001b[49m\u001b[38;5;241;43m=\u001b[39;49m\u001b[38;5;28;43;01mFalse\u001b[39;49;00m\u001b[43m,\u001b[49m\n\u001b[1;32m    480\u001b[0m \u001b[43m                                                              \u001b[49m\u001b[43mremove_custom_items_flag\u001b[49m\u001b[38;5;241;43m=\u001b[39;49m\u001b[38;5;28;43mself\u001b[39;49m\u001b[38;5;241;43m.\u001b[39;49m\u001b[43mignore_items_flag\u001b[49m\u001b[43m,\u001b[49m\n\u001b[1;32m    481\u001b[0m \u001b[43m                                                              \u001b[49m\u001b[43mreturn_scores\u001b[49m\u001b[43m \u001b[49m\u001b[38;5;241;43m=\u001b[39;49m\u001b[43m \u001b[49m\u001b[38;5;28;43;01mTrue\u001b[39;49;00m\n\u001b[1;32m    482\u001b[0m \u001b[43m                                                             \u001b[49m\u001b[43m)\u001b[49m\n\u001b[1;32m    484\u001b[0m     results_dict \u001b[38;5;241m=\u001b[39m \u001b[38;5;28mself\u001b[39m\u001b[38;5;241m.\u001b[39m_compute_metrics_on_recommendation_list(test_user_batch_array \u001b[38;5;241m=\u001b[39m test_user_batch_array,\n\u001b[1;32m    485\u001b[0m                                                  recommended_items_batch_list \u001b[38;5;241m=\u001b[39m recommended_items_batch_list,\n\u001b[1;32m    486\u001b[0m                                                  scores_batch \u001b[38;5;241m=\u001b[39m scores_batch,\n\u001b[1;32m    487\u001b[0m                                                  results_dict \u001b[38;5;241m=\u001b[39m results_dict)\n\u001b[1;32m    490\u001b[0m \u001b[38;5;28;01mreturn\u001b[39;00m results_dict\n",
      "File \u001b[0;32m~/RecSys-Challenge/Recommenders/BaseRecommender.py:147\u001b[0m, in \u001b[0;36mBaseRecommender.recommend\u001b[0;34m(self, user_id_array, cutoff, remove_seen_flag, items_to_compute, remove_top_pop_flag, remove_custom_items_flag, return_scores)\u001b[0m\n\u001b[1;32m    143\u001b[0m cutoff \u001b[38;5;241m=\u001b[39m \u001b[38;5;28mmin\u001b[39m(cutoff, \u001b[38;5;28mself\u001b[39m\u001b[38;5;241m.\u001b[39mURM_train\u001b[38;5;241m.\u001b[39mshape[\u001b[38;5;241m1\u001b[39m] \u001b[38;5;241m-\u001b[39m \u001b[38;5;241m1\u001b[39m)\n\u001b[1;32m    145\u001b[0m \u001b[38;5;66;03m# Compute the scores using the model-specific function\u001b[39;00m\n\u001b[1;32m    146\u001b[0m \u001b[38;5;66;03m# Vectorize over all users in user_id_array\u001b[39;00m\n\u001b[0;32m--> 147\u001b[0m scores_batch \u001b[38;5;241m=\u001b[39m \u001b[38;5;28;43mself\u001b[39;49m\u001b[38;5;241;43m.\u001b[39;49m\u001b[43m_compute_item_score\u001b[49m\u001b[43m(\u001b[49m\u001b[43muser_id_array\u001b[49m\u001b[43m,\u001b[49m\u001b[43m \u001b[49m\u001b[43mitems_to_compute\u001b[49m\u001b[38;5;241;43m=\u001b[39;49m\u001b[43mitems_to_compute\u001b[49m\u001b[43m)\u001b[49m\n\u001b[1;32m    150\u001b[0m \u001b[38;5;28;01mfor\u001b[39;00m user_index \u001b[38;5;129;01min\u001b[39;00m \u001b[38;5;28mrange\u001b[39m(\u001b[38;5;28mlen\u001b[39m(user_id_array)):\n\u001b[1;32m    152\u001b[0m     user_id \u001b[38;5;241m=\u001b[39m user_id_array[user_index]\n",
      "File \u001b[0;32m~/RecSys-Challenge/Recommenders/Hybrid/GeneralizedLinearHybridRecommender.py:71\u001b[0m, in \u001b[0;36mGeneralizedLinearHybridRecommender._compute_item_score\u001b[0;34m(self, user_id_array, items_to_compute)\u001b[0m\n\u001b[1;32m     69\u001b[0m result \u001b[38;5;241m=\u001b[39m \u001b[38;5;28mself\u001b[39m\u001b[38;5;241m.\u001b[39malphas[\u001b[38;5;241m0\u001b[39m]\u001b[38;5;241m*\u001b[39m\u001b[38;5;28mself\u001b[39m\u001b[38;5;241m.\u001b[39mrecommenders[\u001b[38;5;241m0\u001b[39m]\u001b[38;5;241m.\u001b[39m_compute_item_score(user_id_array,items_to_compute)\n\u001b[1;32m     70\u001b[0m \u001b[38;5;28;01mfor\u001b[39;00m index \u001b[38;5;129;01min\u001b[39;00m \u001b[38;5;28mrange\u001b[39m(\u001b[38;5;241m1\u001b[39m,\u001b[38;5;28mlen\u001b[39m(\u001b[38;5;28mself\u001b[39m\u001b[38;5;241m.\u001b[39malphas)):\n\u001b[0;32m---> 71\u001b[0m     result \u001b[38;5;241m=\u001b[39m result \u001b[38;5;241m+\u001b[39m \u001b[38;5;28mself\u001b[39m\u001b[38;5;241m.\u001b[39malphas[index]\u001b[38;5;241m*\u001b[39m\u001b[38;5;28;43mself\u001b[39;49m\u001b[38;5;241;43m.\u001b[39;49m\u001b[43mrecommenders\u001b[49m\u001b[43m[\u001b[49m\u001b[43mindex\u001b[49m\u001b[43m]\u001b[49m\u001b[38;5;241;43m.\u001b[39;49m\u001b[43m_compute_item_score\u001b[49m\u001b[43m(\u001b[49m\u001b[43muser_id_array\u001b[49m\u001b[43m,\u001b[49m\u001b[43mitems_to_compute\u001b[49m\u001b[43m)\u001b[49m\n\u001b[1;32m     72\u001b[0m \u001b[38;5;28;01mreturn\u001b[39;00m result\n",
      "File \u001b[0;32m~/RecSys-Challenge/Recommenders/BaseSimilarityMatrixRecommender.py:90\u001b[0m, in \u001b[0;36mBaseItemSimilarityMatrixRecommender._compute_item_score\u001b[0;34m(self, user_id_array, items_to_compute)\u001b[0m\n\u001b[1;32m     88\u001b[0m     item_scores[:, items_to_compute] \u001b[38;5;241m=\u001b[39m item_scores_all[:, items_to_compute]\n\u001b[1;32m     89\u001b[0m \u001b[38;5;28;01melse\u001b[39;00m:\n\u001b[0;32m---> 90\u001b[0m     item_scores \u001b[38;5;241m=\u001b[39m \u001b[43muser_profile_array\u001b[49m\u001b[38;5;241;43m.\u001b[39;49m\u001b[43mdot\u001b[49m\u001b[43m(\u001b[49m\u001b[38;5;28;43mself\u001b[39;49m\u001b[38;5;241;43m.\u001b[39;49m\u001b[43mW_sparse\u001b[49m\u001b[43m)\u001b[49m\u001b[38;5;241;43m.\u001b[39;49m\u001b[43mtoarray\u001b[49m\u001b[43m(\u001b[49m\u001b[43m)\u001b[49m\n\u001b[1;32m     92\u001b[0m \u001b[38;5;28;01mreturn\u001b[39;00m item_scores\n",
      "File \u001b[0;32m~/miniconda3/envs/RecSysFramework/lib/python3.8/site-packages/scipy/sparse/compressed.py:1042\u001b[0m, in \u001b[0;36m_cs_matrix.toarray\u001b[0;34m(self, order, out)\u001b[0m\n\u001b[1;32m   1040\u001b[0m     y \u001b[38;5;241m=\u001b[39m out\u001b[38;5;241m.\u001b[39mT\n\u001b[1;32m   1041\u001b[0m M, N \u001b[38;5;241m=\u001b[39m x\u001b[38;5;241m.\u001b[39m_swap(x\u001b[38;5;241m.\u001b[39mshape)\n\u001b[0;32m-> 1042\u001b[0m \u001b[43mcsr_todense\u001b[49m\u001b[43m(\u001b[49m\u001b[43mM\u001b[49m\u001b[43m,\u001b[49m\u001b[43m \u001b[49m\u001b[43mN\u001b[49m\u001b[43m,\u001b[49m\u001b[43m \u001b[49m\u001b[43mx\u001b[49m\u001b[38;5;241;43m.\u001b[39;49m\u001b[43mindptr\u001b[49m\u001b[43m,\u001b[49m\u001b[43m \u001b[49m\u001b[43mx\u001b[49m\u001b[38;5;241;43m.\u001b[39;49m\u001b[43mindices\u001b[49m\u001b[43m,\u001b[49m\u001b[43m \u001b[49m\u001b[43mx\u001b[49m\u001b[38;5;241;43m.\u001b[39;49m\u001b[43mdata\u001b[49m\u001b[43m,\u001b[49m\u001b[43m \u001b[49m\u001b[43my\u001b[49m\u001b[43m)\u001b[49m\n\u001b[1;32m   1043\u001b[0m \u001b[38;5;28;01mreturn\u001b[39;00m out\n",
      "\u001b[0;31mKeyboardInterrupt\u001b[0m: "
     ]
    }
   ],
   "source": [
    "study.optimize(objective, n_trials=200)"
   ]
  },
  {
   "cell_type": "code",
   "execution_count": 32,
   "metadata": {},
   "outputs": [
    {
     "name": "stdout",
     "output_type": "stream",
     "text": [
      "EvaluatorHoldout: Processed 10492 (100.0%) in 5.57 sec. Users per second: 1883\n",
      "EvaluatorHoldout: Processed 10461 (100.0%) in 5.30 sec. Users per second: 1973\n",
      "EvaluatorHoldout: Processed 10481 (100.0%) in 6.01 sec. Users per second: 1744\n",
      "EvaluatorHoldout: Processed 10506 (100.0%) in 5.91 sec. Users per second: 1778\n",
      "EvaluatorHoldout: Processed 10489 (100.0%) in 6.99 sec. Users per second: 1501\n",
      "EvaluatorHoldout: Processed 10509 (100.0%) in 5.44 sec. Users per second: 1933\n",
      "EvaluatorHoldout: Processed 10410 (100.0%) in 6.08 sec. Users per second: 1713\n",
      "EvaluatorHoldout: Processed 10455 (100.0%) in 6.24 sec. Users per second: 1675\n",
      "EvaluatorHoldout: Processed 10498 (100.0%) in 5.54 sec. Users per second: 1896\n",
      "EvaluatorHoldout: Processed 10451 (100.0%) in 5.82 sec. Users per second: 1796\n"
     ]
    },
    {
     "data": {
      "text/plain": [
       "0.03939730496463813"
      ]
     },
     "execution_count": 32,
     "metadata": {},
     "output_type": "execute_result"
    }
   ],
   "source": [
    "best_MAP_test = 0\n",
    "\n",
    "for i in range(k_fold):\n",
    "    recommender = hybrids[i]\n",
    "\n",
    "    alphas = [study.best_params['w_slim'], study.best_params['w_rp3'], study.best_params['w_p3'], study.best_params['w_knn'], study.best_params['w_top']]\n",
    "\n",
    "    recommender.fit(alphas)\n",
    "\n",
    "    result_dict, _ = evaluator_test[i].evaluateRecommender(recommender)\n",
    "\n",
    "    best_MAP_test += result_dict[\"MAP\"].item()\n",
    "\n",
    "best_MAP_test /= k_fold\n",
    "best_MAP_test"
   ]
  },
  {
   "cell_type": "code",
   "execution_count": 33,
   "metadata": {},
   "outputs": [
    {
     "name": "stdout",
     "output_type": "stream",
     "text": [
      "SLIMElasticNetRecommender: URM Detected 249 ( 2.0%) users with no interactions.\n",
      "SLIMElasticNetRecommender: URM Detected 113 ( 0.5%) items with no interactions.\n"
     ]
    },
    {
     "name": "stderr",
     "output_type": "stream",
     "text": [
      "100%|█████████▉| 22216/22222 [00:36<00:00, 616.50it/s]\n"
     ]
    },
    {
     "name": "stdout",
     "output_type": "stream",
     "text": [
      "RP3betaRecommender: URM Detected 249 ( 2.0%) users with no interactions.\n",
      "RP3betaRecommender: URM Detected 113 ( 0.5%) items with no interactions.\n",
      "RP3betaRecommender: Similarity column 22222 (100.0%), 7933.90 column/sec. Elapsed time 2.80 sec\n",
      "P3alphaRecommender: URM Detected 249 ( 2.0%) users with no interactions.\n",
      "P3alphaRecommender: URM Detected 113 ( 0.5%) items with no interactions.\n",
      "P3alphaRecommender: Similarity column 22222 (100.0%), 8462.64 column/sec. Elapsed time 2.63 sec\n",
      "ItemKNNCFRecommender: URM Detected 249 ( 2.0%) users with no interactions.\n",
      "ItemKNNCFRecommender: URM Detected 113 ( 0.5%) items with no interactions.\n",
      "Similarity column 22222 (100.0%), 12132.72 column/sec. Elapsed time 1.83 sec\n",
      "TopPopRecommender: URM Detected 249 ( 2.0%) users with no interactions.\n",
      "TopPopRecommender: URM Detected 113 ( 0.5%) items with no interactions.\n",
      "SLIMElasticNetRP3betaP3alphaItemKNNCFTopPopHybridRecommender: URM Detected 249 ( 2.0%) users with no interactions.\n",
      "SLIMElasticNetRP3betaP3alphaItemKNNCFTopPopHybridRecommender: URM Detected 113 ( 0.5%) items with no interactions.\n",
      "SLIMElasticNetRecommender: URM Detected 191 ( 1.5%) users with no interactions.\n",
      "SLIMElasticNetRecommender: URM Detected 101 ( 0.5%) items with no interactions.\n"
     ]
    },
    {
     "name": "stderr",
     "output_type": "stream",
     "text": [
      "100%|█████████▉| 22216/22222 [00:35<00:00, 630.95it/s]\n"
     ]
    },
    {
     "name": "stdout",
     "output_type": "stream",
     "text": [
      "RP3betaRecommender: URM Detected 191 ( 1.5%) users with no interactions.\n",
      "RP3betaRecommender: URM Detected 101 ( 0.5%) items with no interactions.\n",
      "RP3betaRecommender: Similarity column 22222 (100.0%), 8103.98 column/sec. Elapsed time 2.74 sec\n",
      "P3alphaRecommender: URM Detected 191 ( 1.5%) users with no interactions.\n",
      "P3alphaRecommender: URM Detected 101 ( 0.5%) items with no interactions.\n",
      "P3alphaRecommender: Similarity column 22222 (100.0%), 8778.41 column/sec. Elapsed time 2.53 sec\n",
      "ItemKNNCFRecommender: URM Detected 191 ( 1.5%) users with no interactions.\n",
      "ItemKNNCFRecommender: URM Detected 101 ( 0.5%) items with no interactions.\n",
      "Similarity column 22222 (100.0%), 12082.47 column/sec. Elapsed time 1.84 sec\n",
      "TopPopRecommender: URM Detected 191 ( 1.5%) users with no interactions.\n",
      "TopPopRecommender: URM Detected 101 ( 0.5%) items with no interactions.\n",
      "SLIMElasticNetRP3betaP3alphaItemKNNCFTopPopHybridRecommender: URM Detected 191 ( 1.5%) users with no interactions.\n",
      "SLIMElasticNetRP3betaP3alphaItemKNNCFTopPopHybridRecommender: URM Detected 101 ( 0.5%) items with no interactions.\n",
      "SLIMElasticNetRecommender: URM Detected 235 ( 1.9%) users with no interactions.\n",
      "SLIMElasticNetRecommender: URM Detected 105 ( 0.5%) items with no interactions.\n"
     ]
    },
    {
     "name": "stderr",
     "output_type": "stream",
     "text": [
      "100%|█████████▉| 22216/22222 [00:35<00:00, 634.15it/s]\n"
     ]
    },
    {
     "name": "stdout",
     "output_type": "stream",
     "text": [
      "RP3betaRecommender: URM Detected 235 ( 1.9%) users with no interactions.\n",
      "RP3betaRecommender: URM Detected 105 ( 0.5%) items with no interactions.\n",
      "RP3betaRecommender: Similarity column 22222 (100.0%), 7976.85 column/sec. Elapsed time 2.79 sec\n",
      "P3alphaRecommender: URM Detected 235 ( 1.9%) users with no interactions.\n",
      "P3alphaRecommender: URM Detected 105 ( 0.5%) items with no interactions.\n",
      "P3alphaRecommender: Similarity column 22222 (100.0%), 8780.74 column/sec. Elapsed time 2.53 sec\n",
      "ItemKNNCFRecommender: URM Detected 235 ( 1.9%) users with no interactions.\n",
      "ItemKNNCFRecommender: URM Detected 105 ( 0.5%) items with no interactions.\n",
      "Similarity column 22222 (100.0%), 12326.07 column/sec. Elapsed time 1.80 sec\n",
      "TopPopRecommender: URM Detected 235 ( 1.9%) users with no interactions.\n",
      "TopPopRecommender: URM Detected 105 ( 0.5%) items with no interactions.\n",
      "SLIMElasticNetRP3betaP3alphaItemKNNCFTopPopHybridRecommender: URM Detected 235 ( 1.9%) users with no interactions.\n",
      "SLIMElasticNetRP3betaP3alphaItemKNNCFTopPopHybridRecommender: URM Detected 105 ( 0.5%) items with no interactions.\n",
      "SLIMElasticNetRecommender: URM Detected 218 ( 1.7%) users with no interactions.\n",
      "SLIMElasticNetRecommender: URM Detected 112 ( 0.5%) items with no interactions.\n"
     ]
    },
    {
     "name": "stderr",
     "output_type": "stream",
     "text": [
      "100%|█████████▉| 22216/22222 [00:34<00:00, 639.30it/s]\n"
     ]
    },
    {
     "name": "stdout",
     "output_type": "stream",
     "text": [
      "RP3betaRecommender: URM Detected 218 ( 1.7%) users with no interactions.\n",
      "RP3betaRecommender: URM Detected 112 ( 0.5%) items with no interactions.\n",
      "RP3betaRecommender: Similarity column 22222 (100.0%), 8059.93 column/sec. Elapsed time 2.76 sec\n",
      "P3alphaRecommender: URM Detected 218 ( 1.7%) users with no interactions.\n",
      "P3alphaRecommender: URM Detected 112 ( 0.5%) items with no interactions.\n",
      "P3alphaRecommender: Similarity column 22222 (100.0%), 8679.26 column/sec. Elapsed time 2.56 sec\n",
      "ItemKNNCFRecommender: URM Detected 218 ( 1.7%) users with no interactions.\n",
      "ItemKNNCFRecommender: URM Detected 112 ( 0.5%) items with no interactions.\n",
      "Similarity column 22222 (100.0%), 12277.87 column/sec. Elapsed time 1.81 sec\n",
      "TopPopRecommender: URM Detected 218 ( 1.7%) users with no interactions.\n",
      "TopPopRecommender: URM Detected 112 ( 0.5%) items with no interactions.\n",
      "SLIMElasticNetRP3betaP3alphaItemKNNCFTopPopHybridRecommender: URM Detected 218 ( 1.7%) users with no interactions.\n",
      "SLIMElasticNetRP3betaP3alphaItemKNNCFTopPopHybridRecommender: URM Detected 112 ( 0.5%) items with no interactions.\n",
      "SLIMElasticNetRecommender: URM Detected 220 ( 1.7%) users with no interactions.\n",
      "SLIMElasticNetRecommender: URM Detected 134 ( 0.6%) items with no interactions.\n"
     ]
    },
    {
     "name": "stderr",
     "output_type": "stream",
     "text": [
      "100%|█████████▉| 22216/22222 [00:34<00:00, 637.12it/s]\n"
     ]
    },
    {
     "name": "stdout",
     "output_type": "stream",
     "text": [
      "RP3betaRecommender: URM Detected 220 ( 1.7%) users with no interactions.\n",
      "RP3betaRecommender: URM Detected 134 ( 0.6%) items with no interactions.\n",
      "RP3betaRecommender: Similarity column 22222 (100.0%), 7830.25 column/sec. Elapsed time 2.84 sec\n",
      "P3alphaRecommender: URM Detected 220 ( 1.7%) users with no interactions.\n",
      "P3alphaRecommender: URM Detected 134 ( 0.6%) items with no interactions.\n",
      "P3alphaRecommender: Similarity column 22222 (100.0%), 8653.20 column/sec. Elapsed time 2.57 sec\n",
      "ItemKNNCFRecommender: URM Detected 220 ( 1.7%) users with no interactions.\n",
      "ItemKNNCFRecommender: URM Detected 134 ( 0.6%) items with no interactions.\n",
      "Similarity column 22222 (100.0%), 12397.84 column/sec. Elapsed time 1.79 sec\n",
      "TopPopRecommender: URM Detected 220 ( 1.7%) users with no interactions.\n",
      "TopPopRecommender: URM Detected 134 ( 0.6%) items with no interactions.\n",
      "SLIMElasticNetRP3betaP3alphaItemKNNCFTopPopHybridRecommender: URM Detected 220 ( 1.7%) users with no interactions.\n",
      "SLIMElasticNetRP3betaP3alphaItemKNNCFTopPopHybridRecommender: URM Detected 134 ( 0.6%) items with no interactions.\n",
      "SLIMElasticNetRecommender: URM Detected 224 ( 1.8%) users with no interactions.\n",
      "SLIMElasticNetRecommender: URM Detected 109 ( 0.5%) items with no interactions.\n"
     ]
    },
    {
     "name": "stderr",
     "output_type": "stream",
     "text": [
      "100%|█████████▉| 22216/22222 [00:34<00:00, 646.90it/s]\n"
     ]
    },
    {
     "name": "stdout",
     "output_type": "stream",
     "text": [
      "RP3betaRecommender: URM Detected 224 ( 1.8%) users with no interactions.\n",
      "RP3betaRecommender: URM Detected 109 ( 0.5%) items with no interactions.\n",
      "RP3betaRecommender: Similarity column 22222 (100.0%), 7956.91 column/sec. Elapsed time 2.79 sec\n",
      "P3alphaRecommender: URM Detected 224 ( 1.8%) users with no interactions.\n",
      "P3alphaRecommender: URM Detected 109 ( 0.5%) items with no interactions.\n",
      "P3alphaRecommender: Similarity column 22222 (100.0%), 8839.37 column/sec. Elapsed time 2.51 sec\n",
      "ItemKNNCFRecommender: URM Detected 224 ( 1.8%) users with no interactions.\n",
      "ItemKNNCFRecommender: URM Detected 109 ( 0.5%) items with no interactions.\n",
      "Similarity column 22222 (100.0%), 12398.18 column/sec. Elapsed time 1.79 sec\n",
      "TopPopRecommender: URM Detected 224 ( 1.8%) users with no interactions.\n",
      "TopPopRecommender: URM Detected 109 ( 0.5%) items with no interactions.\n",
      "SLIMElasticNetRP3betaP3alphaItemKNNCFTopPopHybridRecommender: URM Detected 224 ( 1.8%) users with no interactions.\n",
      "SLIMElasticNetRP3betaP3alphaItemKNNCFTopPopHybridRecommender: URM Detected 109 ( 0.5%) items with no interactions.\n",
      "SLIMElasticNetRecommender: URM Detected 207 ( 1.6%) users with no interactions.\n",
      "SLIMElasticNetRecommender: URM Detected 114 ( 0.5%) items with no interactions.\n"
     ]
    },
    {
     "name": "stderr",
     "output_type": "stream",
     "text": [
      "100%|█████████▉| 22216/22222 [00:34<00:00, 638.82it/s]\n"
     ]
    },
    {
     "name": "stdout",
     "output_type": "stream",
     "text": [
      "RP3betaRecommender: URM Detected 207 ( 1.6%) users with no interactions.\n",
      "RP3betaRecommender: URM Detected 114 ( 0.5%) items with no interactions.\n",
      "RP3betaRecommender: Similarity column 22222 (100.0%), 8416.11 column/sec. Elapsed time 2.64 sec\n",
      "P3alphaRecommender: URM Detected 207 ( 1.6%) users with no interactions.\n",
      "P3alphaRecommender: URM Detected 114 ( 0.5%) items with no interactions.\n",
      "P3alphaRecommender: Similarity column 22222 (100.0%), 8760.29 column/sec. Elapsed time 2.54 sec\n",
      "ItemKNNCFRecommender: URM Detected 207 ( 1.6%) users with no interactions.\n",
      "ItemKNNCFRecommender: URM Detected 114 ( 0.5%) items with no interactions.\n",
      "Similarity column 22222 (100.0%), 12472.89 column/sec. Elapsed time 1.78 sec\n",
      "TopPopRecommender: URM Detected 207 ( 1.6%) users with no interactions.\n",
      "TopPopRecommender: URM Detected 114 ( 0.5%) items with no interactions.\n",
      "SLIMElasticNetRP3betaP3alphaItemKNNCFTopPopHybridRecommender: URM Detected 207 ( 1.6%) users with no interactions.\n",
      "SLIMElasticNetRP3betaP3alphaItemKNNCFTopPopHybridRecommender: URM Detected 114 ( 0.5%) items with no interactions.\n",
      "SLIMElasticNetRecommender: URM Detected 218 ( 1.7%) users with no interactions.\n",
      "SLIMElasticNetRecommender: URM Detected 141 ( 0.6%) items with no interactions.\n"
     ]
    },
    {
     "name": "stderr",
     "output_type": "stream",
     "text": [
      "100%|█████████▉| 22216/22222 [00:35<00:00, 622.97it/s]\n"
     ]
    },
    {
     "name": "stdout",
     "output_type": "stream",
     "text": [
      "RP3betaRecommender: URM Detected 218 ( 1.7%) users with no interactions.\n",
      "RP3betaRecommender: URM Detected 141 ( 0.6%) items with no interactions.\n",
      "RP3betaRecommender: Similarity column 22222 (100.0%), 8308.12 column/sec. Elapsed time 2.67 sec\n",
      "P3alphaRecommender: URM Detected 218 ( 1.7%) users with no interactions.\n",
      "P3alphaRecommender: URM Detected 141 ( 0.6%) items with no interactions.\n",
      "P3alphaRecommender: Similarity column 22222 (100.0%), 9162.09 column/sec. Elapsed time 2.43 sec\n",
      "ItemKNNCFRecommender: URM Detected 218 ( 1.7%) users with no interactions.\n",
      "ItemKNNCFRecommender: URM Detected 141 ( 0.6%) items with no interactions.\n",
      "Similarity column 22222 (100.0%), 12785.73 column/sec. Elapsed time 1.74 sec\n",
      "TopPopRecommender: URM Detected 218 ( 1.7%) users with no interactions.\n",
      "TopPopRecommender: URM Detected 141 ( 0.6%) items with no interactions.\n",
      "SLIMElasticNetRP3betaP3alphaItemKNNCFTopPopHybridRecommender: URM Detected 218 ( 1.7%) users with no interactions.\n",
      "SLIMElasticNetRP3betaP3alphaItemKNNCFTopPopHybridRecommender: URM Detected 141 ( 0.6%) items with no interactions.\n",
      "SLIMElasticNetRecommender: URM Detected 214 ( 1.7%) users with no interactions.\n",
      "SLIMElasticNetRecommender: URM Detected 117 ( 0.5%) items with no interactions.\n"
     ]
    },
    {
     "name": "stderr",
     "output_type": "stream",
     "text": [
      "100%|█████████▉| 22216/22222 [00:35<00:00, 621.03it/s]\n"
     ]
    },
    {
     "name": "stdout",
     "output_type": "stream",
     "text": [
      "RP3betaRecommender: URM Detected 214 ( 1.7%) users with no interactions.\n",
      "RP3betaRecommender: URM Detected 117 ( 0.5%) items with no interactions.\n",
      "RP3betaRecommender: Similarity column 22222 (100.0%), 7743.80 column/sec. Elapsed time 2.87 sec\n",
      "P3alphaRecommender: URM Detected 214 ( 1.7%) users with no interactions.\n",
      "P3alphaRecommender: URM Detected 117 ( 0.5%) items with no interactions.\n",
      "P3alphaRecommender: Similarity column 22222 (100.0%), 8761.45 column/sec. Elapsed time 2.54 sec\n",
      "ItemKNNCFRecommender: URM Detected 214 ( 1.7%) users with no interactions.\n",
      "ItemKNNCFRecommender: URM Detected 117 ( 0.5%) items with no interactions.\n",
      "Similarity column 22222 (100.0%), 12474.80 column/sec. Elapsed time 1.78 sec\n",
      "TopPopRecommender: URM Detected 214 ( 1.7%) users with no interactions.\n",
      "TopPopRecommender: URM Detected 117 ( 0.5%) items with no interactions.\n",
      "SLIMElasticNetRP3betaP3alphaItemKNNCFTopPopHybridRecommender: URM Detected 214 ( 1.7%) users with no interactions.\n",
      "SLIMElasticNetRP3betaP3alphaItemKNNCFTopPopHybridRecommender: URM Detected 117 ( 0.5%) items with no interactions.\n",
      "SLIMElasticNetRecommender: URM Detected 217 ( 1.7%) users with no interactions.\n",
      "SLIMElasticNetRecommender: URM Detected 113 ( 0.5%) items with no interactions.\n"
     ]
    },
    {
     "name": "stderr",
     "output_type": "stream",
     "text": [
      "100%|█████████▉| 22216/22222 [00:36<00:00, 609.62it/s]\n"
     ]
    },
    {
     "name": "stdout",
     "output_type": "stream",
     "text": [
      "RP3betaRecommender: URM Detected 217 ( 1.7%) users with no interactions.\n",
      "RP3betaRecommender: URM Detected 113 ( 0.5%) items with no interactions.\n",
      "RP3betaRecommender: Similarity column 22222 (100.0%), 7699.51 column/sec. Elapsed time 2.89 sec\n",
      "P3alphaRecommender: URM Detected 217 ( 1.7%) users with no interactions.\n",
      "P3alphaRecommender: URM Detected 113 ( 0.5%) items with no interactions.\n"
     ]
    }
   ],
   "source": [
    "slims = []\n",
    "rp3s = []\n",
    "p3s = []\n",
    "knns = []\n",
    "nmfs = []\n",
    "hybrids = []\n",
    "tops = []\n",
    "\n",
    "for i in range(k_fold):\n",
    "    slim = MultiThreadSLIM_SLIMElasticNetRecommender(urm_train_validation[i])\n",
    "    slim.fit(workers=8, **slim_study.best_params)\n",
    "    slims.append(slim)\n",
    "\n",
    "    rp3 = RP3betaRecommender(urm_train_validation[i])\n",
    "    rp3.fit(**rp3_study.best_params)\n",
    "    rp3s.append(rp3)\n",
    "\n",
    "    p3 = P3alphaRecommender(urm_train_validation[i])\n",
    "    p3.fit(**p3_study.best_params)\n",
    "    p3s.append(p3)\n",
    "\n",
    "    knn = ItemKNNCFRecommender(urm_train_validation[i])\n",
    "    knn.fit(**knn_study.best_params)\n",
    "    knns.append(knn)\n",
    "\n",
    "    top = TopPop(urm_train_validation[i])\n",
    "    top.fit()\n",
    "    tops.append(top)\n",
    "\n",
    "    hybrid = GeneralizedLinearHybridRecommender(urm_train_validation[i], recommenders=[slims[i], rp3s[i], p3s[i], knns[i], tops[i]])\n",
    "    alphas = [study.best_params['w_slim'], study.best_params['w_rp3'], study.best_params['w_p3'], study.best_params['w_knn'], study.best_params['w_top']]\n",
    "    hybrid.fit(alphas=alphas)\n",
    "    hybrids.append(hybrid)\n",
    "\n",
    "    #nmf = NMFRecommender(urm_train[i])\n",
    "    #nmf.fit(**mf_study.best_params)\n",
    "    #nmfs.append(nmf)\n",
    "\n",
    "\n"
   ]
  },
  {
   "cell_type": "code",
   "execution_count": null,
   "metadata": {},
   "outputs": [],
   "source": []
  },
  {
   "cell_type": "code",
   "execution_count": null,
   "metadata": {},
   "outputs": [],
   "source": [
    "best_MAP_test = 0\n",
    "print(study.best_value)\n",
    "for i in range(k_fold):\n",
    "    recommender =hybrids[i]\n",
    "    recommender.fit(**study.best_params)\n",
    "\n",
    "    result_dict, _ = evaluator_test[i].evaluateRecommender(recommender)\n",
    "\n",
    "    best_MAP_test += result_dict[\"MAP\"].item()\n",
    "\n",
    "best_MAP_test /= k_fold\n",
    "best_MAP_test"
   ]
  }
 ],
 "metadata": {
  "kernelspec": {
   "display_name": "RecSysFramework",
   "language": "python",
   "name": "python3"
  },
  "language_info": {
   "codemirror_mode": {
    "name": "ipython",
    "version": 3
   },
   "file_extension": ".py",
   "mimetype": "text/x-python",
   "name": "python",
   "nbconvert_exporter": "python",
   "pygments_lexer": "ipython3",
   "version": "3.8.18"
  }
 },
 "nbformat": 4,
 "nbformat_minor": 2
}
