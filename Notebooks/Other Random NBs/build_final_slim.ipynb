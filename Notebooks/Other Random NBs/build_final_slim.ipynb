{
 "cells": [
  {
   "cell_type": "code",
   "execution_count": 1,
   "metadata": {},
   "outputs": [],
   "source": [
    "import os\n",
    "os.chdir(\"../\")"
   ]
  },
  {
   "cell_type": "code",
   "execution_count": 2,
   "metadata": {},
   "outputs": [],
   "source": [
    "import numpy as np\n",
    "import pandas as pd\n",
    "import matplotlib.pyplot as plt\n",
    "\n",
    "\n",
    "k_fold = 10\n",
    "seeds = [192760, 1393659, 1269293, 138973, 931308, 1088652, 1361151, 1456105, 820535, 1240839]\n"
   ]
  },
  {
   "cell_type": "code",
   "execution_count": 3,
   "metadata": {},
   "outputs": [],
   "source": [
    "data_train_path = \"Dataset/data_train.csv\"\n",
    "data_test_path = \"Dataset/data_target_users_test.csv\""
   ]
  },
  {
   "cell_type": "code",
   "execution_count": 4,
   "metadata": {},
   "outputs": [],
   "source": [
    "df = pd.read_csv(data_train_path)\n",
    "df_test = pd.read_csv(data_test_path)\n",
    "\n",
    "df.columns = [\"UserID\", \"ItemID\", \"Interaction\"]\n",
    "df_test.columns = [\"UserID\"]"
   ]
  },
  {
   "cell_type": "code",
   "execution_count": 5,
   "metadata": {},
   "outputs": [
    {
     "data": {
      "text/html": [
       "<div>\n",
       "<style scoped>\n",
       "    .dataframe tbody tr th:only-of-type {\n",
       "        vertical-align: middle;\n",
       "    }\n",
       "\n",
       "    .dataframe tbody tr th {\n",
       "        vertical-align: top;\n",
       "    }\n",
       "\n",
       "    .dataframe thead th {\n",
       "        text-align: right;\n",
       "    }\n",
       "</style>\n",
       "<table border=\"1\" class=\"dataframe\">\n",
       "  <thead>\n",
       "    <tr style=\"text-align: right;\">\n",
       "      <th></th>\n",
       "      <th>UserID</th>\n",
       "      <th>ItemID</th>\n",
       "      <th>Interaction</th>\n",
       "    </tr>\n",
       "  </thead>\n",
       "  <tbody>\n",
       "    <tr>\n",
       "      <th>0</th>\n",
       "      <td>1</td>\n",
       "      <td>7</td>\n",
       "      <td>1.0</td>\n",
       "    </tr>\n",
       "    <tr>\n",
       "      <th>1</th>\n",
       "      <td>1</td>\n",
       "      <td>15</td>\n",
       "      <td>1.0</td>\n",
       "    </tr>\n",
       "    <tr>\n",
       "      <th>2</th>\n",
       "      <td>1</td>\n",
       "      <td>16</td>\n",
       "      <td>1.0</td>\n",
       "    </tr>\n",
       "    <tr>\n",
       "      <th>3</th>\n",
       "      <td>1</td>\n",
       "      <td>133</td>\n",
       "      <td>1.0</td>\n",
       "    </tr>\n",
       "    <tr>\n",
       "      <th>4</th>\n",
       "      <td>1</td>\n",
       "      <td>161</td>\n",
       "      <td>1.0</td>\n",
       "    </tr>\n",
       "    <tr>\n",
       "      <th>...</th>\n",
       "      <td>...</td>\n",
       "      <td>...</td>\n",
       "      <td>...</td>\n",
       "    </tr>\n",
       "    <tr>\n",
       "      <th>478725</th>\n",
       "      <td>13024</td>\n",
       "      <td>13605</td>\n",
       "      <td>1.0</td>\n",
       "    </tr>\n",
       "    <tr>\n",
       "      <th>478726</th>\n",
       "      <td>13024</td>\n",
       "      <td>13823</td>\n",
       "      <td>1.0</td>\n",
       "    </tr>\n",
       "    <tr>\n",
       "      <th>478727</th>\n",
       "      <td>13024</td>\n",
       "      <td>15122</td>\n",
       "      <td>1.0</td>\n",
       "    </tr>\n",
       "    <tr>\n",
       "      <th>478728</th>\n",
       "      <td>13024</td>\n",
       "      <td>18185</td>\n",
       "      <td>1.0</td>\n",
       "    </tr>\n",
       "    <tr>\n",
       "      <th>478729</th>\n",
       "      <td>13024</td>\n",
       "      <td>20014</td>\n",
       "      <td>1.0</td>\n",
       "    </tr>\n",
       "  </tbody>\n",
       "</table>\n",
       "<p>478730 rows × 3 columns</p>\n",
       "</div>"
      ],
      "text/plain": [
       "        UserID  ItemID  Interaction\n",
       "0            1       7          1.0\n",
       "1            1      15          1.0\n",
       "2            1      16          1.0\n",
       "3            1     133          1.0\n",
       "4            1     161          1.0\n",
       "...        ...     ...          ...\n",
       "478725   13024   13605          1.0\n",
       "478726   13024   13823          1.0\n",
       "478727   13024   15122          1.0\n",
       "478728   13024   18185          1.0\n",
       "478729   13024   20014          1.0\n",
       "\n",
       "[478730 rows x 3 columns]"
      ]
     },
     "execution_count": 5,
     "metadata": {},
     "output_type": "execute_result"
    }
   ],
   "source": [
    "df"
   ]
  },
  {
   "cell_type": "code",
   "execution_count": 6,
   "metadata": {},
   "outputs": [],
   "source": [
    "metric_to_optimize=\"MAP\"\n",
    "cutoff_to_optimize=10"
   ]
  },
  {
   "cell_type": "code",
   "execution_count": 7,
   "metadata": {},
   "outputs": [
    {
     "name": "stdout",
     "output_type": "stream",
     "text": [
      "Number of users: 12638, Number of Items: 22222, Min rating: 0.0, Max rating: 1.0\n"
     ]
    }
   ],
   "source": [
    "user_ids = df[\"UserID\"].unique().tolist()\n",
    "user2user_encoded = {x: i for i, x in enumerate(user_ids)}\n",
    "userencoded2user = {i: x for i, x in enumerate(user_ids)}\n",
    "item_ids = df[\"ItemID\"].unique().tolist()\n",
    "item2item_encoded = {x: i for i, x in enumerate(item_ids)}\n",
    "item_encoded2item = {i: x for i, x in enumerate(item_ids)}\n",
    "df[\"User\"] = df[\"UserID\"].map(user2user_encoded)\n",
    "df[\"Item\"] = df[\"ItemID\"].map(item2item_encoded)\n",
    "\n",
    "num_users = len(user2user_encoded)\n",
    "num_items = len(item_encoded2item)\n",
    "df[\"Interaction\"] = df[\"Interaction\"].values.astype(np.float32)\n",
    "\n",
    "# min and max ratings will be used to normalize the ratings later\n",
    "min_rating = 0.0\n",
    "max_rating = max(df[\"Interaction\"])\n",
    "\n",
    "print(\n",
    "    \"Number of users: {}, Number of Items: {}, Min rating: {}, Max rating: {}\".format(\n",
    "        num_users, num_items, min_rating, max_rating\n",
    "    )\n",
    ")"
   ]
  },
  {
   "cell_type": "code",
   "execution_count": 8,
   "metadata": {},
   "outputs": [],
   "source": [
    "userId_unique = df[\"UserID\"].unique()\n",
    "itemId_unique = df[\"ItemID\"].unique()"
   ]
  },
  {
   "cell_type": "code",
   "execution_count": 9,
   "metadata": {},
   "outputs": [
    {
     "name": "stdout",
     "output_type": "stream",
     "text": [
      "Warning: 249 (1.97 %) of 12638 users have no train items\n",
      "Warning: 2146 (16.98 %) of 12638 users have no sampled items\n",
      "Warning: 508 (4.02 %) of 12638 users have no train items\n",
      "Warning: 2581 (20.42 %) of 12638 users have no sampled items\n",
      "Warning: 191 (1.51 %) of 12638 users have no train items\n",
      "Warning: 2177 (17.23 %) of 12638 users have no sampled items\n",
      "Warning: 440 (3.48 %) of 12638 users have no train items\n",
      "Warning: 2598 (20.56 %) of 12638 users have no sampled items\n",
      "Warning: 235 (1.86 %) of 12638 users have no train items\n",
      "Warning: 2157 (17.07 %) of 12638 users have no sampled items\n",
      "Warning: 479 (3.79 %) of 12638 users have no train items\n",
      "Warning: 2621 (20.74 %) of 12638 users have no sampled items\n",
      "Warning: 218 (1.72 %) of 12638 users have no train items\n",
      "Warning: 2132 (16.87 %) of 12638 users have no sampled items\n",
      "Warning: 451 (3.57 %) of 12638 users have no train items\n",
      "Warning: 2601 (20.58 %) of 12638 users have no sampled items\n",
      "Warning: 220 (1.74 %) of 12638 users have no train items\n",
      "Warning: 2149 (17.00 %) of 12638 users have no sampled items\n",
      "Warning: 449 (3.55 %) of 12638 users have no train items\n",
      "Warning: 2649 (20.96 %) of 12638 users have no sampled items\n",
      "Warning: 224 (1.77 %) of 12638 users have no train items\n",
      "Warning: 2129 (16.85 %) of 12638 users have no sampled items\n",
      "Warning: 460 (3.64 %) of 12638 users have no train items\n",
      "Warning: 2614 (20.68 %) of 12638 users have no sampled items\n",
      "Warning: 207 (1.64 %) of 12638 users have no train items\n",
      "Warning: 2228 (17.63 %) of 12638 users have no sampled items\n",
      "Warning: 426 (3.37 %) of 12638 users have no train items\n",
      "Warning: 2608 (20.64 %) of 12638 users have no sampled items\n",
      "Warning: 218 (1.72 %) of 12638 users have no train items\n",
      "Warning: 2183 (17.27 %) of 12638 users have no sampled items\n",
      "Warning: 471 (3.73 %) of 12638 users have no train items\n",
      "Warning: 2586 (20.46 %) of 12638 users have no sampled items\n",
      "Warning: 214 (1.69 %) of 12638 users have no train items\n",
      "Warning: 2140 (16.93 %) of 12638 users have no sampled items\n",
      "Warning: 478 (3.78 %) of 12638 users have no train items\n",
      "Warning: 2593 (20.52 %) of 12638 users have no sampled items\n",
      "Warning: 217 (1.72 %) of 12638 users have no train items\n",
      "Warning: 2187 (17.30 %) of 12638 users have no sampled items\n",
      "Warning: 460 (3.64 %) of 12638 users have no train items\n",
      "Warning: 2570 (20.34 %) of 12638 users have no sampled items\n"
     ]
    }
   ],
   "source": [
    "from sklearn.model_selection import train_test_split\n",
    "from sklearn.model_selection import cross_val_score, KFold\n",
    "import numpy as np\n",
    "import scipy.sparse as sps\n",
    "from Data_manager.split_functions.split_train_validation_random_holdout import split_train_in_two_percentage_global_sample\n",
    "\n",
    "\n",
    "urm_all = sps.coo_matrix((df[\"Interaction\"].values, \n",
    "                          (df[\"User\"].values, df[\"Item\"].values)))\n",
    "\n",
    "urm_train_validation = []\n",
    "urm_test = []\n",
    "urm_train = []\n",
    "urm_validation = []\n",
    "\n",
    "for i in range(len(seeds)):\n",
    "    a, b = split_train_in_two_percentage_global_sample(urm_all, train_percentage = 0.80,seed=seeds[i])\n",
    "    c, d = split_train_in_two_percentage_global_sample(a, train_percentage = 0.80,seed=seeds[i])\n",
    "    urm_train_validation.append(a)\n",
    "    urm_test.append(b)\n",
    "    urm_train.append(c)\n",
    "    urm_validation.append(d)\n",
    "\n"
   ]
  },
  {
   "cell_type": "code",
   "execution_count": 10,
   "metadata": {},
   "outputs": [
    {
     "name": "stdout",
     "output_type": "stream",
     "text": [
      "EvaluatorHoldout: Ignoring 2581 (20.4%) Users that have less than 1 test interactions\n",
      "EvaluatorHoldout: Ignoring 0 Users\n",
      "EvaluatorHoldout: Ignoring 2598 (20.6%) Users that have less than 1 test interactions\n",
      "EvaluatorHoldout: Ignoring 0 Users\n",
      "EvaluatorHoldout: Ignoring 2621 (20.7%) Users that have less than 1 test interactions\n",
      "EvaluatorHoldout: Ignoring 0 Users\n",
      "EvaluatorHoldout: Ignoring 2601 (20.6%) Users that have less than 1 test interactions\n",
      "EvaluatorHoldout: Ignoring 0 Users\n",
      "EvaluatorHoldout: Ignoring 2649 (21.0%) Users that have less than 1 test interactions\n",
      "EvaluatorHoldout: Ignoring 0 Users\n",
      "EvaluatorHoldout: Ignoring 2614 (20.7%) Users that have less than 1 test interactions\n",
      "EvaluatorHoldout: Ignoring 0 Users\n",
      "EvaluatorHoldout: Ignoring 2608 (20.6%) Users that have less than 1 test interactions\n",
      "EvaluatorHoldout: Ignoring 0 Users\n",
      "EvaluatorHoldout: Ignoring 2586 (20.5%) Users that have less than 1 test interactions\n",
      "EvaluatorHoldout: Ignoring 0 Users\n",
      "EvaluatorHoldout: Ignoring 2593 (20.5%) Users that have less than 1 test interactions\n",
      "EvaluatorHoldout: Ignoring 0 Users\n",
      "EvaluatorHoldout: Ignoring 2570 (20.3%) Users that have less than 1 test interactions\n",
      "EvaluatorHoldout: Ignoring 0 Users\n"
     ]
    }
   ],
   "source": [
    "from Evaluation.Evaluator import EvaluatorHoldout\n",
    "evaluator_validation = []\n",
    "for u in urm_validation:\n",
    "    evaluator_validation.append(EvaluatorHoldout(u, cutoff_list=[10], ignore_users=[]))"
   ]
  },
  {
   "cell_type": "code",
   "execution_count": 11,
   "metadata": {},
   "outputs": [
    {
     "name": "stdout",
     "output_type": "stream",
     "text": [
      "EvaluatorHoldout: Ignoring 2146 (17.0%) Users that have less than 1 test interactions\n",
      "EvaluatorHoldout: Ignoring 0 Users\n",
      "EvaluatorHoldout: Ignoring 2177 (17.2%) Users that have less than 1 test interactions\n",
      "EvaluatorHoldout: Ignoring 0 Users\n",
      "EvaluatorHoldout: Ignoring 2157 (17.1%) Users that have less than 1 test interactions\n",
      "EvaluatorHoldout: Ignoring 0 Users\n",
      "EvaluatorHoldout: Ignoring 2132 (16.9%) Users that have less than 1 test interactions\n",
      "EvaluatorHoldout: Ignoring 0 Users\n",
      "EvaluatorHoldout: Ignoring 2149 (17.0%) Users that have less than 1 test interactions\n",
      "EvaluatorHoldout: Ignoring 0 Users\n",
      "EvaluatorHoldout: Ignoring 2129 (16.8%) Users that have less than 1 test interactions\n",
      "EvaluatorHoldout: Ignoring 0 Users\n",
      "EvaluatorHoldout: Ignoring 2228 (17.6%) Users that have less than 1 test interactions\n",
      "EvaluatorHoldout: Ignoring 0 Users\n",
      "EvaluatorHoldout: Ignoring 2183 (17.3%) Users that have less than 1 test interactions\n",
      "EvaluatorHoldout: Ignoring 0 Users\n",
      "EvaluatorHoldout: Ignoring 2140 (16.9%) Users that have less than 1 test interactions\n",
      "EvaluatorHoldout: Ignoring 0 Users\n",
      "EvaluatorHoldout: Ignoring 2187 (17.3%) Users that have less than 1 test interactions\n",
      "EvaluatorHoldout: Ignoring 0 Users\n"
     ]
    }
   ],
   "source": [
    "from Evaluation.Evaluator import EvaluatorHoldout\n",
    "evaluator_test = []\n",
    "for u in urm_test:\n",
    "    evaluator_test.append(EvaluatorHoldout(u, cutoff_list=[10], ignore_users=[]))"
   ]
  },
  {
   "cell_type": "code",
   "execution_count": 12,
   "metadata": {},
   "outputs": [],
   "source": [
    "from Recommenders.GraphBased.RP3betaRecommender import RP3betaRecommender\n",
    "from Recommenders.KNN.ItemKNNCFRecommender import ItemKNNCFRecommender\n",
    "from Recommenders.SLIM.SLIMElasticNetRecommender import MultiThreadSLIM_SLIMElasticNetRecommender\n",
    "\n",
    "recommenderClass = MultiThreadSLIM_SLIMElasticNetRecommender\n",
    "\n"
   ]
  },
  {
   "cell_type": "code",
   "execution_count": 13,
   "metadata": {},
   "outputs": [],
   "source": [
    "import optuna\n",
    "\n",
    "# Replace the following with your MySQL database connection details\n",
    "host = \"db-mysql-nyc3-14396-do-user-15539286-0.c.db.ondigitalocean.com\"\n",
    "port = 25060\n",
    "database_name = \"recsys_optuna\"\n",
    "username = \"doadmin\"\n",
    "password = \"AVNS_EIQ1D-GbDGJWZPsN3Mt\"\n",
    "\n",
    "# Create an SQLAlchemy engine\n",
    "mysql_url = f\"mysql+pymysql://{username}:{password}@{host}:{port}/{database_name}\"\n",
    "storage = optuna.storages.RDBStorage(url=mysql_url)"
   ]
  },
  {
   "cell_type": "code",
   "execution_count": 14,
   "metadata": {},
   "outputs": [
    {
     "name": "stderr",
     "output_type": "stream",
     "text": [
      "[I 2024-01-09 22:05:11,183] A new study created in RDB with name: SLIM_Hybrid_last\n"
     ]
    }
   ],
   "source": [
    "study = optuna.create_study(study_name=\"SLIM_Hybrid_last\", direction=\"maximize\", storage=storage, load_if_exists=True, sampler=optuna.samplers.TPESampler())"
   ]
  },
  {
   "cell_type": "code",
   "execution_count": 15,
   "metadata": {},
   "outputs": [],
   "source": [
    "def objective(trial):\n",
    "\n",
    "    params = {\n",
    "        'alpha': trial.suggest_float('alpha', 1e-5, 1e-2),\n",
    "        'l1_ratio': trial.suggest_float('l1_ratio', 0.01, 0.5),\n",
    "        'topK': trial.suggest_int('topK', 5, 10000),\n",
    "    }\n",
    "\n",
    "    MAP = 0\n",
    "    for i in range(k_fold):\n",
    "        recommender = recommenderClass(urm_train[i])\n",
    "        recommender.fit(workers=8, **params)\n",
    "\n",
    "        result_dict, _ = evaluator_validation[i].evaluateRecommender(recommender)\n",
    "\n",
    "        MAP += result_dict[\"MAP\"].item()\n",
    "    \n",
    "    MAP /= k_fold\n",
    "    return MAP"
   ]
  },
  {
   "cell_type": "code",
   "execution_count": 16,
   "metadata": {},
   "outputs": [
    {
     "name": "stdout",
     "output_type": "stream",
     "text": [
      "SLIMElasticNetRecommender: URM Detected 508 ( 4.0%) users with no interactions.\n",
      "SLIMElasticNetRecommender: URM Detected 332 ( 1.5%) items with no interactions.\n"
     ]
    },
    {
     "name": "stderr",
     "output_type": "stream",
     "text": [
      "100%|█████████▉| 22216/22222 [00:32<00:00, 676.26it/s]\n"
     ]
    },
    {
     "name": "stdout",
     "output_type": "stream",
     "text": [
      "EvaluatorHoldout: Processed 10057 (100.0%) in 4.13 sec. Users per second: 2432\n",
      "SLIMElasticNetRecommender: URM Detected 440 ( 3.5%) users with no interactions.\n",
      "SLIMElasticNetRecommender: URM Detected 325 ( 1.5%) items with no interactions.\n"
     ]
    },
    {
     "name": "stderr",
     "output_type": "stream",
     "text": [
      "100%|█████████▉| 22216/22222 [00:32<00:00, 683.46it/s] \n"
     ]
    },
    {
     "name": "stdout",
     "output_type": "stream",
     "text": [
      "EvaluatorHoldout: Processed 10040 (100.0%) in 3.70 sec. Users per second: 2711\n",
      "SLIMElasticNetRecommender: URM Detected 479 ( 3.8%) users with no interactions.\n",
      "SLIMElasticNetRecommender: URM Detected 345 ( 1.6%) items with no interactions.\n"
     ]
    },
    {
     "name": "stderr",
     "output_type": "stream",
     "text": [
      "100%|█████████▉| 22216/22222 [00:31<00:00, 705.05it/s]\n"
     ]
    },
    {
     "name": "stdout",
     "output_type": "stream",
     "text": [
      "EvaluatorHoldout: Processed 10017 (100.0%) in 4.02 sec. Users per second: 2489\n",
      "SLIMElasticNetRecommender: URM Detected 451 ( 3.6%) users with no interactions.\n",
      "SLIMElasticNetRecommender: URM Detected 311 ( 1.4%) items with no interactions.\n"
     ]
    },
    {
     "name": "stderr",
     "output_type": "stream",
     "text": [
      "100%|█████████▉| 22216/22222 [00:31<00:00, 714.62it/s]\n"
     ]
    },
    {
     "name": "stdout",
     "output_type": "stream",
     "text": [
      "EvaluatorHoldout: Processed 10037 (100.0%) in 4.09 sec. Users per second: 2456\n",
      "SLIMElasticNetRecommender: URM Detected 449 ( 3.6%) users with no interactions.\n",
      "SLIMElasticNetRecommender: URM Detected 320 ( 1.4%) items with no interactions.\n"
     ]
    },
    {
     "name": "stderr",
     "output_type": "stream",
     "text": [
      "100%|█████████▉| 22216/22222 [00:31<00:00, 697.09it/s]\n"
     ]
    },
    {
     "name": "stdout",
     "output_type": "stream",
     "text": [
      "EvaluatorHoldout: Processed 9989 (100.0%) in 4.25 sec. Users per second: 2349\n",
      "SLIMElasticNetRecommender: URM Detected 460 ( 3.6%) users with no interactions.\n",
      "SLIMElasticNetRecommender: URM Detected 328 ( 1.5%) items with no interactions.\n"
     ]
    },
    {
     "name": "stderr",
     "output_type": "stream",
     "text": [
      "100%|█████████▉| 22216/22222 [00:33<00:00, 664.07it/s]\n"
     ]
    },
    {
     "name": "stdout",
     "output_type": "stream",
     "text": [
      "EvaluatorHoldout: Processed 10024 (100.0%) in 4.56 sec. Users per second: 2198\n",
      "SLIMElasticNetRecommender: URM Detected 426 ( 3.4%) users with no interactions.\n",
      "SLIMElasticNetRecommender: URM Detected 344 ( 1.5%) items with no interactions.\n"
     ]
    },
    {
     "name": "stderr",
     "output_type": "stream",
     "text": [
      "100%|█████████▉| 22216/22222 [00:33<00:00, 667.64it/s]\n"
     ]
    },
    {
     "name": "stdout",
     "output_type": "stream",
     "text": [
      "EvaluatorHoldout: Processed 10030 (100.0%) in 4.26 sec. Users per second: 2355\n",
      "SLIMElasticNetRecommender: URM Detected 471 ( 3.7%) users with no interactions.\n",
      "SLIMElasticNetRecommender: URM Detected 362 ( 1.6%) items with no interactions.\n"
     ]
    },
    {
     "name": "stderr",
     "output_type": "stream",
     "text": [
      "100%|█████████▉| 22216/22222 [00:34<00:00, 637.81it/s]\n"
     ]
    },
    {
     "name": "stdout",
     "output_type": "stream",
     "text": [
      "EvaluatorHoldout: Processed 10052 (100.0%) in 4.31 sec. Users per second: 2334\n",
      "SLIMElasticNetRecommender: URM Detected 478 ( 3.8%) users with no interactions.\n",
      "SLIMElasticNetRecommender: URM Detected 329 ( 1.5%) items with no interactions.\n"
     ]
    },
    {
     "name": "stderr",
     "output_type": "stream",
     "text": [
      "100%|█████████▉| 22216/22222 [00:33<00:00, 665.36it/s]\n"
     ]
    },
    {
     "name": "stdout",
     "output_type": "stream",
     "text": [
      "EvaluatorHoldout: Processed 10045 (100.0%) in 4.06 sec. Users per second: 2473\n",
      "SLIMElasticNetRecommender: URM Detected 460 ( 3.6%) users with no interactions.\n",
      "SLIMElasticNetRecommender: URM Detected 348 ( 1.6%) items with no interactions.\n"
     ]
    },
    {
     "name": "stderr",
     "output_type": "stream",
     "text": [
      "100%|█████████▉| 22216/22222 [00:32<00:00, 673.48it/s]\n"
     ]
    },
    {
     "name": "stdout",
     "output_type": "stream",
     "text": [
      "EvaluatorHoldout: Processed 10068 (100.0%) in 4.36 sec. Users per second: 2310\n"
     ]
    },
    {
     "name": "stderr",
     "output_type": "stream",
     "text": [
      "[I 2024-01-09 22:11:34,165] Trial 0 finished with value: 0.02852597240854368 and parameters: {'alpha': 0.006995941217649744, 'l1_ratio': 0.015884386436537175, 'topK': 2460}. Best is trial 0 with value: 0.02852597240854368.\n"
     ]
    },
    {
     "name": "stdout",
     "output_type": "stream",
     "text": [
      "SLIMElasticNetRecommender: URM Detected 508 ( 4.0%) users with no interactions.\n",
      "SLIMElasticNetRecommender: URM Detected 332 ( 1.5%) items with no interactions.\n"
     ]
    },
    {
     "name": "stderr",
     "output_type": "stream",
     "text": [
      "100%|█████████▉| 22216/22222 [00:14<00:00, 1573.71it/s]\n"
     ]
    },
    {
     "name": "stdout",
     "output_type": "stream",
     "text": [
      "EvaluatorHoldout: Processed 10057 (100.0%) in 2.41 sec. Users per second: 4175\n",
      "SLIMElasticNetRecommender: URM Detected 440 ( 3.5%) users with no interactions.\n",
      "SLIMElasticNetRecommender: URM Detected 325 ( 1.5%) items with no interactions.\n"
     ]
    },
    {
     "name": "stderr",
     "output_type": "stream",
     "text": [
      "100%|█████████▉| 22216/22222 [00:13<00:00, 1653.59it/s]\n"
     ]
    },
    {
     "name": "stdout",
     "output_type": "stream",
     "text": [
      "EvaluatorHoldout: Processed 10040 (100.0%) in 2.29 sec. Users per second: 4376\n",
      "SLIMElasticNetRecommender: URM Detected 479 ( 3.8%) users with no interactions.\n",
      "SLIMElasticNetRecommender: URM Detected 345 ( 1.6%) items with no interactions.\n"
     ]
    },
    {
     "name": "stderr",
     "output_type": "stream",
     "text": [
      "100%|█████████▉| 22216/22222 [00:13<00:00, 1638.24it/s]\n"
     ]
    },
    {
     "name": "stdout",
     "output_type": "stream",
     "text": [
      "EvaluatorHoldout: Processed 10017 (100.0%) in 2.25 sec. Users per second: 4443\n",
      "SLIMElasticNetRecommender: URM Detected 451 ( 3.6%) users with no interactions.\n",
      "SLIMElasticNetRecommender: URM Detected 311 ( 1.4%) items with no interactions.\n"
     ]
    },
    {
     "name": "stderr",
     "output_type": "stream",
     "text": [
      "100%|█████████▉| 22216/22222 [00:12<00:00, 1771.97it/s]\n"
     ]
    },
    {
     "name": "stdout",
     "output_type": "stream",
     "text": [
      "EvaluatorHoldout: Processed 10037 (100.0%) in 2.23 sec. Users per second: 4511\n",
      "SLIMElasticNetRecommender: URM Detected 449 ( 3.6%) users with no interactions.\n",
      "SLIMElasticNetRecommender: URM Detected 320 ( 1.4%) items with no interactions.\n"
     ]
    },
    {
     "name": "stderr",
     "output_type": "stream",
     "text": [
      "100%|█████████▉| 22216/22222 [00:13<00:00, 1687.78it/s]\n"
     ]
    },
    {
     "name": "stdout",
     "output_type": "stream",
     "text": [
      "EvaluatorHoldout: Processed 9989 (100.0%) in 2.21 sec. Users per second: 4529\n",
      "SLIMElasticNetRecommender: URM Detected 460 ( 3.6%) users with no interactions.\n",
      "SLIMElasticNetRecommender: URM Detected 328 ( 1.5%) items with no interactions.\n"
     ]
    },
    {
     "name": "stderr",
     "output_type": "stream",
     "text": [
      "100%|█████████▉| 22216/22222 [00:13<00:00, 1696.43it/s]\n"
     ]
    },
    {
     "name": "stdout",
     "output_type": "stream",
     "text": [
      "EvaluatorHoldout: Processed 10024 (100.0%) in 2.39 sec. Users per second: 4200\n",
      "SLIMElasticNetRecommender: URM Detected 426 ( 3.4%) users with no interactions.\n",
      "SLIMElasticNetRecommender: URM Detected 344 ( 1.5%) items with no interactions.\n"
     ]
    },
    {
     "name": "stderr",
     "output_type": "stream",
     "text": [
      "100%|█████████▉| 22216/22222 [00:13<00:00, 1671.38it/s]\n"
     ]
    },
    {
     "name": "stdout",
     "output_type": "stream",
     "text": [
      "EvaluatorHoldout: Processed 10030 (100.0%) in 2.34 sec. Users per second: 4285\n",
      "SLIMElasticNetRecommender: URM Detected 471 ( 3.7%) users with no interactions.\n",
      "SLIMElasticNetRecommender: URM Detected 362 ( 1.6%) items with no interactions.\n"
     ]
    },
    {
     "name": "stderr",
     "output_type": "stream",
     "text": [
      "100%|█████████▉| 22216/22222 [00:14<00:00, 1538.02it/s]\n"
     ]
    },
    {
     "name": "stdout",
     "output_type": "stream",
     "text": [
      "EvaluatorHoldout: Processed 10052 (100.0%) in 2.32 sec. Users per second: 4324\n",
      "SLIMElasticNetRecommender: URM Detected 478 ( 3.8%) users with no interactions.\n",
      "SLIMElasticNetRecommender: URM Detected 329 ( 1.5%) items with no interactions.\n"
     ]
    },
    {
     "name": "stderr",
     "output_type": "stream",
     "text": [
      "100%|█████████▉| 22216/22222 [00:12<00:00, 1758.39it/s]\n"
     ]
    },
    {
     "name": "stdout",
     "output_type": "stream",
     "text": [
      "EvaluatorHoldout: Processed 10045 (100.0%) in 2.22 sec. Users per second: 4526\n",
      "SLIMElasticNetRecommender: URM Detected 460 ( 3.6%) users with no interactions.\n",
      "SLIMElasticNetRecommender: URM Detected 348 ( 1.6%) items with no interactions.\n"
     ]
    },
    {
     "name": "stderr",
     "output_type": "stream",
     "text": [
      "100%|█████████▉| 22216/22222 [00:13<00:00, 1670.54it/s]\n"
     ]
    },
    {
     "name": "stdout",
     "output_type": "stream",
     "text": [
      "EvaluatorHoldout: Processed 10068 (100.0%) in 2.50 sec. Users per second: 4033\n"
     ]
    },
    {
     "name": "stderr",
     "output_type": "stream",
     "text": [
      "[I 2024-01-09 22:14:23,792] Trial 2 finished with value: 0.020441970060139765 and parameters: {'alpha': 0.0073154038551928955, 'l1_ratio': 0.3558676074429389, 'topK': 3776}. Best is trial 0 with value: 0.02852597240854368.\n"
     ]
    },
    {
     "name": "stdout",
     "output_type": "stream",
     "text": [
      "SLIMElasticNetRecommender: URM Detected 508 ( 4.0%) users with no interactions.\n",
      "SLIMElasticNetRecommender: URM Detected 332 ( 1.5%) items with no interactions.\n"
     ]
    },
    {
     "name": "stderr",
     "output_type": "stream",
     "text": [
      "100%|█████████▉| 22216/22222 [00:13<00:00, 1601.53it/s]\n"
     ]
    },
    {
     "name": "stdout",
     "output_type": "stream",
     "text": [
      "EvaluatorHoldout: Processed 10057 (100.0%) in 2.34 sec. Users per second: 4305\n",
      "SLIMElasticNetRecommender: URM Detected 440 ( 3.5%) users with no interactions.\n",
      "SLIMElasticNetRecommender: URM Detected 325 ( 1.5%) items with no interactions.\n"
     ]
    },
    {
     "name": "stderr",
     "output_type": "stream",
     "text": [
      "100%|█████████▉| 22216/22222 [00:13<00:00, 1681.08it/s]\n"
     ]
    },
    {
     "name": "stdout",
     "output_type": "stream",
     "text": [
      "EvaluatorHoldout: Processed 10040 (100.0%) in 2.30 sec. Users per second: 4371\n",
      "SLIMElasticNetRecommender: URM Detected 479 ( 3.8%) users with no interactions.\n",
      "SLIMElasticNetRecommender: URM Detected 345 ( 1.6%) items with no interactions.\n"
     ]
    },
    {
     "name": "stderr",
     "output_type": "stream",
     "text": [
      "100%|█████████▉| 22216/22222 [00:12<00:00, 1722.31it/s]\n"
     ]
    },
    {
     "name": "stdout",
     "output_type": "stream",
     "text": [
      "EvaluatorHoldout: Processed 10017 (100.0%) in 2.18 sec. Users per second: 4591\n",
      "SLIMElasticNetRecommender: URM Detected 451 ( 3.6%) users with no interactions.\n",
      "SLIMElasticNetRecommender: URM Detected 311 ( 1.4%) items with no interactions.\n"
     ]
    },
    {
     "name": "stderr",
     "output_type": "stream",
     "text": [
      "100%|█████████▉| 22216/22222 [00:12<00:00, 1837.48it/s]\n"
     ]
    },
    {
     "name": "stdout",
     "output_type": "stream",
     "text": [
      "EvaluatorHoldout: Processed 10037 (100.0%) in 2.28 sec. Users per second: 4403\n",
      "SLIMElasticNetRecommender: URM Detected 449 ( 3.6%) users with no interactions.\n",
      "SLIMElasticNetRecommender: URM Detected 320 ( 1.4%) items with no interactions.\n"
     ]
    },
    {
     "name": "stderr",
     "output_type": "stream",
     "text": [
      "100%|█████████▉| 22216/22222 [00:12<00:00, 1710.20it/s]\n"
     ]
    },
    {
     "name": "stdout",
     "output_type": "stream",
     "text": [
      "EvaluatorHoldout: Processed 9989 (100.0%) in 2.28 sec. Users per second: 4386\n",
      "SLIMElasticNetRecommender: URM Detected 460 ( 3.6%) users with no interactions.\n",
      "SLIMElasticNetRecommender: URM Detected 328 ( 1.5%) items with no interactions.\n"
     ]
    },
    {
     "name": "stderr",
     "output_type": "stream",
     "text": [
      "100%|█████████▉| 22216/22222 [00:13<00:00, 1687.35it/s]\n"
     ]
    },
    {
     "name": "stdout",
     "output_type": "stream",
     "text": [
      "EvaluatorHoldout: Processed 10024 (100.0%) in 2.18 sec. Users per second: 4593\n",
      "SLIMElasticNetRecommender: URM Detected 426 ( 3.4%) users with no interactions.\n",
      "SLIMElasticNetRecommender: URM Detected 344 ( 1.5%) items with no interactions.\n"
     ]
    },
    {
     "name": "stderr",
     "output_type": "stream",
     "text": [
      "100%|█████████▉| 22216/22222 [00:13<00:00, 1685.22it/s]\n"
     ]
    },
    {
     "name": "stdout",
     "output_type": "stream",
     "text": [
      "EvaluatorHoldout: Processed 10030 (100.0%) in 2.20 sec. Users per second: 4556\n",
      "SLIMElasticNetRecommender: URM Detected 471 ( 3.7%) users with no interactions.\n",
      "SLIMElasticNetRecommender: URM Detected 362 ( 1.6%) items with no interactions.\n"
     ]
    },
    {
     "name": "stderr",
     "output_type": "stream",
     "text": [
      "100%|█████████▉| 22216/22222 [00:13<00:00, 1617.52it/s]\n"
     ]
    },
    {
     "name": "stdout",
     "output_type": "stream",
     "text": [
      "EvaluatorHoldout: Processed 10052 (100.0%) in 2.32 sec. Users per second: 4338\n",
      "SLIMElasticNetRecommender: URM Detected 478 ( 3.8%) users with no interactions.\n",
      "SLIMElasticNetRecommender: URM Detected 329 ( 1.5%) items with no interactions.\n"
     ]
    },
    {
     "name": "stderr",
     "output_type": "stream",
     "text": [
      "100%|█████████▉| 22216/22222 [00:13<00:00, 1675.05it/s]\n"
     ]
    },
    {
     "name": "stdout",
     "output_type": "stream",
     "text": [
      "EvaluatorHoldout: Processed 10045 (100.0%) in 2.34 sec. Users per second: 4287\n",
      "SLIMElasticNetRecommender: URM Detected 460 ( 3.6%) users with no interactions.\n",
      "SLIMElasticNetRecommender: URM Detected 348 ( 1.6%) items with no interactions.\n"
     ]
    },
    {
     "name": "stderr",
     "output_type": "stream",
     "text": [
      "100%|█████████▉| 22216/22222 [00:13<00:00, 1651.23it/s]\n"
     ]
    },
    {
     "name": "stdout",
     "output_type": "stream",
     "text": [
      "EvaluatorHoldout: Processed 10068 (100.0%) in 2.06 sec. Users per second: 4899\n"
     ]
    },
    {
     "name": "stderr",
     "output_type": "stream",
     "text": [
      "[I 2024-01-09 22:17:10,973] Trial 7 finished with value: 0.019035387730598034 and parameters: {'alpha': 0.007930749407046906, 'l1_ratio': 0.4118791457796363, 'topK': 9363}. Best is trial 0 with value: 0.02852597240854368.\n"
     ]
    },
    {
     "name": "stdout",
     "output_type": "stream",
     "text": [
      "SLIMElasticNetRecommender: URM Detected 508 ( 4.0%) users with no interactions.\n",
      "SLIMElasticNetRecommender: URM Detected 332 ( 1.5%) items with no interactions.\n"
     ]
    },
    {
     "name": "stderr",
     "output_type": "stream",
     "text": [
      "100%|█████████▉| 22216/22222 [00:14<00:00, 1583.95it/s]\n"
     ]
    },
    {
     "name": "stdout",
     "output_type": "stream",
     "text": [
      "EvaluatorHoldout: Processed 10057 (100.0%) in 2.50 sec. Users per second: 4028\n",
      "SLIMElasticNetRecommender: URM Detected 440 ( 3.5%) users with no interactions.\n",
      "SLIMElasticNetRecommender: URM Detected 325 ( 1.5%) items with no interactions.\n"
     ]
    },
    {
     "name": "stderr",
     "output_type": "stream",
     "text": [
      "100%|█████████▉| 22216/22222 [00:14<00:00, 1561.74it/s]\n"
     ]
    },
    {
     "name": "stdout",
     "output_type": "stream",
     "text": [
      "EvaluatorHoldout: Processed 10040 (100.0%) in 2.35 sec. Users per second: 4266\n",
      "SLIMElasticNetRecommender: URM Detected 479 ( 3.8%) users with no interactions.\n",
      "SLIMElasticNetRecommender: URM Detected 345 ( 1.6%) items with no interactions.\n"
     ]
    },
    {
     "name": "stderr",
     "output_type": "stream",
     "text": [
      "100%|█████████▉| 22216/22222 [00:14<00:00, 1505.73it/s]\n"
     ]
    },
    {
     "name": "stdout",
     "output_type": "stream",
     "text": [
      "EvaluatorHoldout: Processed 10017 (100.0%) in 2.59 sec. Users per second: 3871\n",
      "SLIMElasticNetRecommender: URM Detected 451 ( 3.6%) users with no interactions.\n",
      "SLIMElasticNetRecommender: URM Detected 311 ( 1.4%) items with no interactions.\n"
     ]
    },
    {
     "name": "stderr",
     "output_type": "stream",
     "text": [
      "100%|█████████▉| 22216/22222 [00:13<00:00, 1587.54it/s]\n"
     ]
    },
    {
     "name": "stdout",
     "output_type": "stream",
     "text": [
      "EvaluatorHoldout: Processed 10037 (100.0%) in 2.36 sec. Users per second: 4250\n",
      "SLIMElasticNetRecommender: URM Detected 449 ( 3.6%) users with no interactions.\n",
      "SLIMElasticNetRecommender: URM Detected 320 ( 1.4%) items with no interactions.\n"
     ]
    },
    {
     "name": "stderr",
     "output_type": "stream",
     "text": [
      "100%|█████████▉| 22216/22222 [00:14<00:00, 1529.49it/s]\n"
     ]
    },
    {
     "name": "stdout",
     "output_type": "stream",
     "text": [
      "EvaluatorHoldout: Processed 9989 (100.0%) in 2.69 sec. Users per second: 3712\n",
      "SLIMElasticNetRecommender: URM Detected 460 ( 3.6%) users with no interactions.\n",
      "SLIMElasticNetRecommender: URM Detected 328 ( 1.5%) items with no interactions.\n"
     ]
    },
    {
     "name": "stderr",
     "output_type": "stream",
     "text": [
      "100%|█████████▉| 22216/22222 [00:14<00:00, 1540.90it/s]\n"
     ]
    },
    {
     "name": "stdout",
     "output_type": "stream",
     "text": [
      "EvaluatorHoldout: Processed 10024 (100.0%) in 2.53 sec. Users per second: 3961\n",
      "SLIMElasticNetRecommender: URM Detected 426 ( 3.4%) users with no interactions.\n",
      "SLIMElasticNetRecommender: URM Detected 344 ( 1.5%) items with no interactions.\n"
     ]
    },
    {
     "name": "stderr",
     "output_type": "stream",
     "text": [
      "100%|█████████▉| 22216/22222 [00:14<00:00, 1503.45it/s]\n"
     ]
    },
    {
     "name": "stdout",
     "output_type": "stream",
     "text": [
      "EvaluatorHoldout: Processed 10030 (100.0%) in 2.65 sec. Users per second: 3787\n",
      "SLIMElasticNetRecommender: URM Detected 471 ( 3.7%) users with no interactions.\n",
      "SLIMElasticNetRecommender: URM Detected 362 ( 1.6%) items with no interactions.\n"
     ]
    },
    {
     "name": "stderr",
     "output_type": "stream",
     "text": [
      "100%|█████████▉| 22216/22222 [00:14<00:00, 1481.36it/s]\n"
     ]
    },
    {
     "name": "stdout",
     "output_type": "stream",
     "text": [
      "EvaluatorHoldout: Processed 10052 (100.0%) in 2.46 sec. Users per second: 4090\n",
      "SLIMElasticNetRecommender: URM Detected 478 ( 3.8%) users with no interactions.\n",
      "SLIMElasticNetRecommender: URM Detected 329 ( 1.5%) items with no interactions.\n"
     ]
    },
    {
     "name": "stderr",
     "output_type": "stream",
     "text": [
      "100%|█████████▉| 22216/22222 [00:14<00:00, 1531.33it/s]\n"
     ]
    },
    {
     "name": "stdout",
     "output_type": "stream",
     "text": [
      "EvaluatorHoldout: Processed 10045 (100.0%) in 2.46 sec. Users per second: 4088\n",
      "SLIMElasticNetRecommender: URM Detected 460 ( 3.6%) users with no interactions.\n",
      "SLIMElasticNetRecommender: URM Detected 348 ( 1.6%) items with no interactions.\n"
     ]
    },
    {
     "name": "stderr",
     "output_type": "stream",
     "text": [
      "100%|█████████▉| 22216/22222 [00:14<00:00, 1536.89it/s]\n"
     ]
    },
    {
     "name": "stdout",
     "output_type": "stream",
     "text": [
      "EvaluatorHoldout: Processed 10068 (100.0%) in 2.49 sec. Users per second: 4045\n"
     ]
    },
    {
     "name": "stderr",
     "output_type": "stream",
     "text": [
      "[I 2024-01-09 22:20:13,635] Trial 8 finished with value: 0.026197409310467806 and parameters: {'alpha': 0.0018435915434637101, 'l1_ratio': 0.43613927955038406, 'topK': 7817}. Best is trial 0 with value: 0.02852597240854368.\n"
     ]
    },
    {
     "name": "stdout",
     "output_type": "stream",
     "text": [
      "SLIMElasticNetRecommender: URM Detected 508 ( 4.0%) users with no interactions.\n",
      "SLIMElasticNetRecommender: URM Detected 332 ( 1.5%) items with no interactions.\n"
     ]
    },
    {
     "name": "stderr",
     "output_type": "stream",
     "text": [
      "100%|█████████▉| 22216/22222 [00:20<00:00, 1101.02it/s]\n"
     ]
    },
    {
     "name": "stdout",
     "output_type": "stream",
     "text": [
      "EvaluatorHoldout: Processed 10057 (100.0%) in 3.31 sec. Users per second: 3035\n",
      "SLIMElasticNetRecommender: URM Detected 440 ( 3.5%) users with no interactions.\n",
      "SLIMElasticNetRecommender: URM Detected 325 ( 1.5%) items with no interactions.\n"
     ]
    },
    {
     "name": "stderr",
     "output_type": "stream",
     "text": [
      "100%|█████████▉| 22216/22222 [00:19<00:00, 1139.69it/s]\n"
     ]
    },
    {
     "name": "stdout",
     "output_type": "stream",
     "text": [
      "EvaluatorHoldout: Processed 10040 (100.0%) in 2.85 sec. Users per second: 3527\n",
      "SLIMElasticNetRecommender: URM Detected 479 ( 3.8%) users with no interactions.\n",
      "SLIMElasticNetRecommender: URM Detected 345 ( 1.6%) items with no interactions.\n"
     ]
    },
    {
     "name": "stderr",
     "output_type": "stream",
     "text": [
      "100%|█████████▉| 22216/22222 [00:19<00:00, 1114.14it/s]\n"
     ]
    },
    {
     "name": "stdout",
     "output_type": "stream",
     "text": [
      "EvaluatorHoldout: Processed 10017 (100.0%) in 3.12 sec. Users per second: 3208\n",
      "SLIMElasticNetRecommender: URM Detected 451 ( 3.6%) users with no interactions.\n",
      "SLIMElasticNetRecommender: URM Detected 311 ( 1.4%) items with no interactions.\n"
     ]
    },
    {
     "name": "stderr",
     "output_type": "stream",
     "text": [
      "100%|█████████▉| 22216/22222 [00:19<00:00, 1133.09it/s]\n"
     ]
    },
    {
     "name": "stdout",
     "output_type": "stream",
     "text": [
      "EvaluatorHoldout: Processed 10037 (100.0%) in 3.35 sec. Users per second: 2993\n",
      "SLIMElasticNetRecommender: URM Detected 449 ( 3.6%) users with no interactions.\n",
      "SLIMElasticNetRecommender: URM Detected 320 ( 1.4%) items with no interactions.\n"
     ]
    },
    {
     "name": "stderr",
     "output_type": "stream",
     "text": [
      "100%|█████████▉| 22216/22222 [00:20<00:00, 1087.70it/s]\n"
     ]
    },
    {
     "name": "stdout",
     "output_type": "stream",
     "text": [
      "EvaluatorHoldout: Processed 9989 (100.0%) in 3.21 sec. Users per second: 3110\n",
      "SLIMElasticNetRecommender: URM Detected 460 ( 3.6%) users with no interactions.\n",
      "SLIMElasticNetRecommender: URM Detected 328 ( 1.5%) items with no interactions.\n"
     ]
    },
    {
     "name": "stderr",
     "output_type": "stream",
     "text": [
      "100%|█████████▉| 22216/22222 [00:19<00:00, 1114.29it/s]\n"
     ]
    },
    {
     "name": "stdout",
     "output_type": "stream",
     "text": [
      "EvaluatorHoldout: Processed 10024 (100.0%) in 3.01 sec. Users per second: 3331\n",
      "SLIMElasticNetRecommender: URM Detected 426 ( 3.4%) users with no interactions.\n",
      "SLIMElasticNetRecommender: URM Detected 344 ( 1.5%) items with no interactions.\n"
     ]
    },
    {
     "name": "stderr",
     "output_type": "stream",
     "text": [
      "100%|█████████▉| 22216/22222 [00:19<00:00, 1120.28it/s]\n"
     ]
    },
    {
     "name": "stdout",
     "output_type": "stream",
     "text": [
      "EvaluatorHoldout: Processed 10030 (100.0%) in 3.03 sec. Users per second: 3307\n",
      "SLIMElasticNetRecommender: URM Detected 471 ( 3.7%) users with no interactions.\n",
      "SLIMElasticNetRecommender: URM Detected 362 ( 1.6%) items with no interactions.\n"
     ]
    },
    {
     "name": "stderr",
     "output_type": "stream",
     "text": [
      "100%|█████████▉| 22216/22222 [00:19<00:00, 1113.75it/s]\n"
     ]
    },
    {
     "name": "stdout",
     "output_type": "stream",
     "text": [
      "EvaluatorHoldout: Processed 10052 (100.0%) in 3.20 sec. Users per second: 3143\n",
      "SLIMElasticNetRecommender: URM Detected 478 ( 3.8%) users with no interactions.\n",
      "SLIMElasticNetRecommender: URM Detected 329 ( 1.5%) items with no interactions.\n"
     ]
    },
    {
     "name": "stderr",
     "output_type": "stream",
     "text": [
      "100%|█████████▉| 22216/22222 [00:19<00:00, 1145.81it/s]\n"
     ]
    },
    {
     "name": "stdout",
     "output_type": "stream",
     "text": [
      "EvaluatorHoldout: Processed 10045 (100.0%) in 3.15 sec. Users per second: 3192\n",
      "SLIMElasticNetRecommender: URM Detected 460 ( 3.6%) users with no interactions.\n",
      "SLIMElasticNetRecommender: URM Detected 348 ( 1.6%) items with no interactions.\n"
     ]
    },
    {
     "name": "stderr",
     "output_type": "stream",
     "text": [
      "100%|█████████▉| 22216/22222 [00:19<00:00, 1142.12it/s]\n"
     ]
    },
    {
     "name": "stdout",
     "output_type": "stream",
     "text": [
      "EvaluatorHoldout: Processed 10068 (100.0%) in 2.85 sec. Users per second: 3536\n"
     ]
    },
    {
     "name": "stderr",
     "output_type": "stream",
     "text": [
      "[I 2024-01-09 22:24:15,868] Trial 9 finished with value: 0.028205696776538263 and parameters: {'alpha': 0.004812643866429918, 'l1_ratio': 0.05524696043295416, 'topK': 4724}. Best is trial 0 with value: 0.02852597240854368.\n"
     ]
    },
    {
     "name": "stdout",
     "output_type": "stream",
     "text": [
      "SLIMElasticNetRecommender: URM Detected 508 ( 4.0%) users with no interactions.\n",
      "SLIMElasticNetRecommender: URM Detected 332 ( 1.5%) items with no interactions.\n"
     ]
    },
    {
     "name": "stderr",
     "output_type": "stream",
     "text": [
      "100%|█████████▉| 22216/22222 [00:23<00:00, 937.14it/s] \n"
     ]
    },
    {
     "name": "stdout",
     "output_type": "stream",
     "text": [
      "EvaluatorHoldout: Processed 10057 (100.0%) in 3.52 sec. Users per second: 2854\n",
      "SLIMElasticNetRecommender: URM Detected 440 ( 3.5%) users with no interactions.\n",
      "SLIMElasticNetRecommender: URM Detected 325 ( 1.5%) items with no interactions.\n"
     ]
    },
    {
     "name": "stderr",
     "output_type": "stream",
     "text": [
      "100%|█████████▉| 22216/22222 [00:23<00:00, 931.29it/s] \n"
     ]
    },
    {
     "name": "stdout",
     "output_type": "stream",
     "text": [
      "EvaluatorHoldout: Processed 10040 (100.0%) in 3.39 sec. Users per second: 2958\n",
      "SLIMElasticNetRecommender: URM Detected 479 ( 3.8%) users with no interactions.\n",
      "SLIMElasticNetRecommender: URM Detected 345 ( 1.6%) items with no interactions.\n"
     ]
    },
    {
     "name": "stderr",
     "output_type": "stream",
     "text": [
      "100%|█████████▉| 22216/22222 [00:23<00:00, 933.41it/s] \n"
     ]
    },
    {
     "name": "stdout",
     "output_type": "stream",
     "text": [
      "EvaluatorHoldout: Processed 10017 (100.0%) in 3.52 sec. Users per second: 2849\n",
      "SLIMElasticNetRecommender: URM Detected 451 ( 3.6%) users with no interactions.\n",
      "SLIMElasticNetRecommender: URM Detected 311 ( 1.4%) items with no interactions.\n"
     ]
    },
    {
     "name": "stderr",
     "output_type": "stream",
     "text": [
      "100%|█████████▉| 22216/22222 [00:23<00:00, 956.33it/s] \n"
     ]
    },
    {
     "name": "stdout",
     "output_type": "stream",
     "text": [
      "EvaluatorHoldout: Processed 10037 (100.0%) in 3.62 sec. Users per second: 2770\n",
      "SLIMElasticNetRecommender: URM Detected 449 ( 3.6%) users with no interactions.\n",
      "SLIMElasticNetRecommender: URM Detected 320 ( 1.4%) items with no interactions.\n"
     ]
    },
    {
     "name": "stderr",
     "output_type": "stream",
     "text": [
      "100%|█████████▉| 22216/22222 [00:23<00:00, 960.18it/s] \n"
     ]
    },
    {
     "name": "stdout",
     "output_type": "stream",
     "text": [
      "EvaluatorHoldout: Processed 9989 (100.0%) in 3.38 sec. Users per second: 2959\n",
      "SLIMElasticNetRecommender: URM Detected 460 ( 3.6%) users with no interactions.\n",
      "SLIMElasticNetRecommender: URM Detected 328 ( 1.5%) items with no interactions.\n"
     ]
    },
    {
     "name": "stderr",
     "output_type": "stream",
     "text": [
      "100%|█████████▉| 22216/22222 [00:22<00:00, 971.24it/s] \n"
     ]
    },
    {
     "name": "stdout",
     "output_type": "stream",
     "text": [
      "EvaluatorHoldout: Processed 10024 (100.0%) in 3.34 sec. Users per second: 3003\n",
      "SLIMElasticNetRecommender: URM Detected 426 ( 3.4%) users with no interactions.\n",
      "SLIMElasticNetRecommender: URM Detected 344 ( 1.5%) items with no interactions.\n"
     ]
    },
    {
     "name": "stderr",
     "output_type": "stream",
     "text": [
      "100%|█████████▉| 22216/22222 [00:23<00:00, 942.65it/s] \n"
     ]
    },
    {
     "name": "stdout",
     "output_type": "stream",
     "text": [
      "EvaluatorHoldout: Processed 10030 (100.0%) in 3.25 sec. Users per second: 3082\n",
      "SLIMElasticNetRecommender: URM Detected 471 ( 3.7%) users with no interactions.\n",
      "SLIMElasticNetRecommender: URM Detected 362 ( 1.6%) items with no interactions.\n"
     ]
    },
    {
     "name": "stderr",
     "output_type": "stream",
     "text": [
      "100%|█████████▉| 22216/22222 [00:23<00:00, 933.84it/s] \n"
     ]
    },
    {
     "name": "stdout",
     "output_type": "stream",
     "text": [
      "EvaluatorHoldout: Processed 10052 (100.0%) in 3.36 sec. Users per second: 2988\n",
      "SLIMElasticNetRecommender: URM Detected 478 ( 3.8%) users with no interactions.\n",
      "SLIMElasticNetRecommender: URM Detected 329 ( 1.5%) items with no interactions.\n"
     ]
    },
    {
     "name": "stderr",
     "output_type": "stream",
     "text": [
      "100%|█████████▉| 22216/22222 [00:24<00:00, 923.44it/s] \n"
     ]
    },
    {
     "name": "stdout",
     "output_type": "stream",
     "text": [
      "EvaluatorHoldout: Processed 10045 (100.0%) in 3.30 sec. Users per second: 3040\n",
      "SLIMElasticNetRecommender: URM Detected 460 ( 3.6%) users with no interactions.\n",
      "SLIMElasticNetRecommender: URM Detected 348 ( 1.6%) items with no interactions.\n"
     ]
    },
    {
     "name": "stderr",
     "output_type": "stream",
     "text": [
      "100%|█████████▉| 22216/22222 [00:24<00:00, 915.48it/s] \n"
     ]
    },
    {
     "name": "stdout",
     "output_type": "stream",
     "text": [
      "EvaluatorHoldout: Processed 10068 (100.0%) in 3.52 sec. Users per second: 2857\n"
     ]
    },
    {
     "name": "stderr",
     "output_type": "stream",
     "text": [
      "[I 2024-01-09 22:28:59,281] Trial 10 finished with value: 0.02878323207051873 and parameters: {'alpha': 0.005618625275534946, 'l1_ratio': 0.030820008030690745, 'topK': 114}. Best is trial 10 with value: 0.02878323207051873.\n"
     ]
    },
    {
     "name": "stdout",
     "output_type": "stream",
     "text": [
      "SLIMElasticNetRecommender: URM Detected 508 ( 4.0%) users with no interactions.\n",
      "SLIMElasticNetRecommender: URM Detected 332 ( 1.5%) items with no interactions.\n"
     ]
    },
    {
     "name": "stderr",
     "output_type": "stream",
     "text": [
      "100%|█████████▉| 22216/22222 [00:15<00:00, 1410.67it/s]\n"
     ]
    },
    {
     "name": "stdout",
     "output_type": "stream",
     "text": [
      "EvaluatorHoldout: Processed 10057 (100.0%) in 2.81 sec. Users per second: 3577\n",
      "SLIMElasticNetRecommender: URM Detected 440 ( 3.5%) users with no interactions.\n",
      "SLIMElasticNetRecommender: URM Detected 325 ( 1.5%) items with no interactions.\n"
     ]
    },
    {
     "name": "stderr",
     "output_type": "stream",
     "text": [
      "100%|█████████▉| 22216/22222 [00:16<00:00, 1338.88it/s]\n"
     ]
    },
    {
     "name": "stdout",
     "output_type": "stream",
     "text": [
      "EvaluatorHoldout: Processed 10040 (100.0%) in 2.73 sec. Users per second: 3675\n",
      "SLIMElasticNetRecommender: URM Detected 479 ( 3.8%) users with no interactions.\n",
      "SLIMElasticNetRecommender: URM Detected 345 ( 1.6%) items with no interactions.\n"
     ]
    },
    {
     "name": "stderr",
     "output_type": "stream",
     "text": [
      "100%|█████████▉| 22216/22222 [00:16<00:00, 1333.03it/s]\n"
     ]
    },
    {
     "name": "stdout",
     "output_type": "stream",
     "text": [
      "EvaluatorHoldout: Processed 10017 (100.0%) in 2.66 sec. Users per second: 3760\n",
      "SLIMElasticNetRecommender: URM Detected 451 ( 3.6%) users with no interactions.\n",
      "SLIMElasticNetRecommender: URM Detected 311 ( 1.4%) items with no interactions.\n"
     ]
    },
    {
     "name": "stderr",
     "output_type": "stream",
     "text": [
      "100%|█████████▉| 22216/22222 [00:15<00:00, 1410.00it/s]\n"
     ]
    },
    {
     "name": "stdout",
     "output_type": "stream",
     "text": [
      "EvaluatorHoldout: Processed 10037 (100.0%) in 2.75 sec. Users per second: 3654\n",
      "SLIMElasticNetRecommender: URM Detected 449 ( 3.6%) users with no interactions.\n",
      "SLIMElasticNetRecommender: URM Detected 320 ( 1.4%) items with no interactions.\n"
     ]
    },
    {
     "name": "stderr",
     "output_type": "stream",
     "text": [
      "100%|█████████▉| 22216/22222 [00:16<00:00, 1358.78it/s]\n"
     ]
    },
    {
     "name": "stdout",
     "output_type": "stream",
     "text": [
      "EvaluatorHoldout: Processed 9989 (100.0%) in 2.65 sec. Users per second: 3769\n",
      "SLIMElasticNetRecommender: URM Detected 460 ( 3.6%) users with no interactions.\n",
      "SLIMElasticNetRecommender: URM Detected 328 ( 1.5%) items with no interactions.\n"
     ]
    },
    {
     "name": "stderr",
     "output_type": "stream",
     "text": [
      "100%|█████████▉| 22216/22222 [00:15<00:00, 1396.15it/s]\n"
     ]
    },
    {
     "name": "stdout",
     "output_type": "stream",
     "text": [
      "EvaluatorHoldout: Processed 10024 (100.0%) in 2.66 sec. Users per second: 3762\n",
      "SLIMElasticNetRecommender: URM Detected 426 ( 3.4%) users with no interactions.\n",
      "SLIMElasticNetRecommender: URM Detected 344 ( 1.5%) items with no interactions.\n"
     ]
    },
    {
     "name": "stderr",
     "output_type": "stream",
     "text": [
      "100%|█████████▉| 22216/22222 [00:16<00:00, 1341.52it/s]\n"
     ]
    },
    {
     "name": "stdout",
     "output_type": "stream",
     "text": [
      "EvaluatorHoldout: Processed 10030 (100.0%) in 2.67 sec. Users per second: 3757\n",
      "SLIMElasticNetRecommender: URM Detected 471 ( 3.7%) users with no interactions.\n",
      "SLIMElasticNetRecommender: URM Detected 362 ( 1.6%) items with no interactions.\n"
     ]
    },
    {
     "name": "stderr",
     "output_type": "stream",
     "text": [
      "100%|█████████▉| 22216/22222 [00:16<00:00, 1323.73it/s]\n"
     ]
    },
    {
     "name": "stdout",
     "output_type": "stream",
     "text": [
      "EvaluatorHoldout: Processed 10052 (100.0%) in 2.70 sec. Users per second: 3726\n",
      "SLIMElasticNetRecommender: URM Detected 478 ( 3.8%) users with no interactions.\n",
      "SLIMElasticNetRecommender: URM Detected 329 ( 1.5%) items with no interactions.\n"
     ]
    },
    {
     "name": "stderr",
     "output_type": "stream",
     "text": [
      "100%|█████████▉| 22216/22222 [00:15<00:00, 1392.93it/s]\n"
     ]
    },
    {
     "name": "stdout",
     "output_type": "stream",
     "text": [
      "EvaluatorHoldout: Processed 10045 (100.0%) in 2.70 sec. Users per second: 3719\n",
      "SLIMElasticNetRecommender: URM Detected 460 ( 3.6%) users with no interactions.\n",
      "SLIMElasticNetRecommender: URM Detected 348 ( 1.6%) items with no interactions.\n"
     ]
    },
    {
     "name": "stderr",
     "output_type": "stream",
     "text": [
      "100%|█████████▉| 22216/22222 [00:16<00:00, 1370.13it/s]\n"
     ]
    },
    {
     "name": "stdout",
     "output_type": "stream",
     "text": [
      "EvaluatorHoldout: Processed 10068 (100.0%) in 2.77 sec. Users per second: 3634\n"
     ]
    },
    {
     "name": "stderr",
     "output_type": "stream",
     "text": [
      "[I 2024-01-09 22:32:21,867] Trial 12 finished with value: 0.028543949667976454 and parameters: {'alpha': 0.0009047732415300276, 'l1_ratio': 0.44128031918632477, 'topK': 9009}. Best is trial 10 with value: 0.02878323207051873.\n"
     ]
    },
    {
     "name": "stdout",
     "output_type": "stream",
     "text": [
      "SLIMElasticNetRecommender: URM Detected 508 ( 4.0%) users with no interactions.\n",
      "SLIMElasticNetRecommender: URM Detected 332 ( 1.5%) items with no interactions.\n"
     ]
    },
    {
     "name": "stderr",
     "output_type": "stream",
     "text": [
      "100%|█████████▉| 22216/22222 [00:13<00:00, 1645.54it/s]\n"
     ]
    },
    {
     "name": "stdout",
     "output_type": "stream",
     "text": [
      "EvaluatorHoldout: Processed 10057 (100.0%) in 2.20 sec. Users per second: 4581\n",
      "SLIMElasticNetRecommender: URM Detected 440 ( 3.5%) users with no interactions.\n",
      "SLIMElasticNetRecommender: URM Detected 325 ( 1.5%) items with no interactions.\n"
     ]
    },
    {
     "name": "stderr",
     "output_type": "stream",
     "text": [
      "100%|█████████▉| 22216/22222 [00:13<00:00, 1688.15it/s]\n"
     ]
    },
    {
     "name": "stdout",
     "output_type": "stream",
     "text": [
      "EvaluatorHoldout: Processed 10040 (100.0%) in 2.34 sec. Users per second: 4297\n",
      "SLIMElasticNetRecommender: URM Detected 479 ( 3.8%) users with no interactions.\n",
      "SLIMElasticNetRecommender: URM Detected 345 ( 1.6%) items with no interactions.\n"
     ]
    },
    {
     "name": "stderr",
     "output_type": "stream",
     "text": [
      "100%|█████████▉| 22216/22222 [00:13<00:00, 1667.90it/s]\n"
     ]
    },
    {
     "name": "stdout",
     "output_type": "stream",
     "text": [
      "EvaluatorHoldout: Processed 10017 (100.0%) in 2.34 sec. Users per second: 4284\n",
      "SLIMElasticNetRecommender: URM Detected 451 ( 3.6%) users with no interactions.\n",
      "SLIMElasticNetRecommender: URM Detected 311 ( 1.4%) items with no interactions.\n"
     ]
    },
    {
     "name": "stderr",
     "output_type": "stream",
     "text": [
      "100%|█████████▉| 22216/22222 [00:13<00:00, 1671.82it/s]\n"
     ]
    },
    {
     "name": "stdout",
     "output_type": "stream",
     "text": [
      "EvaluatorHoldout: Processed 10037 (100.0%) in 2.34 sec. Users per second: 4284\n",
      "SLIMElasticNetRecommender: URM Detected 449 ( 3.6%) users with no interactions.\n",
      "SLIMElasticNetRecommender: URM Detected 320 ( 1.4%) items with no interactions.\n"
     ]
    },
    {
     "name": "stderr",
     "output_type": "stream",
     "text": [
      "100%|█████████▉| 22216/22222 [00:13<00:00, 1632.02it/s]\n"
     ]
    },
    {
     "name": "stdout",
     "output_type": "stream",
     "text": [
      "EvaluatorHoldout: Processed 9989 (100.0%) in 2.25 sec. Users per second: 4446\n",
      "SLIMElasticNetRecommender: URM Detected 460 ( 3.6%) users with no interactions.\n",
      "SLIMElasticNetRecommender: URM Detected 328 ( 1.5%) items with no interactions.\n"
     ]
    },
    {
     "name": "stderr",
     "output_type": "stream",
     "text": [
      "100%|█████████▉| 22216/22222 [00:13<00:00, 1704.58it/s]\n"
     ]
    },
    {
     "name": "stdout",
     "output_type": "stream",
     "text": [
      "EvaluatorHoldout: Processed 10024 (100.0%) in 2.20 sec. Users per second: 4560\n",
      "SLIMElasticNetRecommender: URM Detected 426 ( 3.4%) users with no interactions.\n",
      "SLIMElasticNetRecommender: URM Detected 344 ( 1.5%) items with no interactions.\n"
     ]
    },
    {
     "name": "stderr",
     "output_type": "stream",
     "text": [
      "100%|█████████▉| 22216/22222 [00:13<00:00, 1604.64it/s]\n"
     ]
    },
    {
     "name": "stdout",
     "output_type": "stream",
     "text": [
      "EvaluatorHoldout: Processed 10030 (100.0%) in 2.34 sec. Users per second: 4290\n",
      "SLIMElasticNetRecommender: URM Detected 471 ( 3.7%) users with no interactions.\n",
      "SLIMElasticNetRecommender: URM Detected 362 ( 1.6%) items with no interactions.\n"
     ]
    },
    {
     "name": "stderr",
     "output_type": "stream",
     "text": [
      "100%|█████████▉| 22216/22222 [00:13<00:00, 1596.34it/s]\n"
     ]
    },
    {
     "name": "stdout",
     "output_type": "stream",
     "text": [
      "EvaluatorHoldout: Processed 10052 (100.0%) in 2.28 sec. Users per second: 4413\n",
      "SLIMElasticNetRecommender: URM Detected 478 ( 3.8%) users with no interactions.\n",
      "SLIMElasticNetRecommender: URM Detected 329 ( 1.5%) items with no interactions.\n"
     ]
    },
    {
     "name": "stderr",
     "output_type": "stream",
     "text": [
      "100%|█████████▉| 22216/22222 [00:13<00:00, 1642.75it/s]\n"
     ]
    },
    {
     "name": "stdout",
     "output_type": "stream",
     "text": [
      "EvaluatorHoldout: Processed 10045 (100.0%) in 2.44 sec. Users per second: 4110\n",
      "SLIMElasticNetRecommender: URM Detected 460 ( 3.6%) users with no interactions.\n",
      "SLIMElasticNetRecommender: URM Detected 348 ( 1.6%) items with no interactions.\n"
     ]
    },
    {
     "name": "stderr",
     "output_type": "stream",
     "text": [
      "100%|█████████▉| 22216/22222 [00:13<00:00, 1588.38it/s]\n"
     ]
    },
    {
     "name": "stdout",
     "output_type": "stream",
     "text": [
      "EvaluatorHoldout: Processed 10068 (100.0%) in 2.40 sec. Users per second: 4187\n"
     ]
    },
    {
     "name": "stderr",
     "output_type": "stream",
     "text": [
      "[I 2024-01-09 22:35:13,114] Trial 15 finished with value: 0.02334172255307368 and parameters: {'alpha': 0.009802702955779882, 'l1_ratio': 0.13444427070732928, 'topK': 154}. Best is trial 10 with value: 0.02878323207051873.\n"
     ]
    },
    {
     "name": "stdout",
     "output_type": "stream",
     "text": [
      "SLIMElasticNetRecommender: URM Detected 508 ( 4.0%) users with no interactions.\n",
      "SLIMElasticNetRecommender: URM Detected 332 ( 1.5%) items with no interactions.\n"
     ]
    },
    {
     "name": "stderr",
     "output_type": "stream",
     "text": [
      "100%|█████████▉| 22216/22222 [00:34<00:00, 638.02it/s]\n"
     ]
    },
    {
     "name": "stdout",
     "output_type": "stream",
     "text": [
      "EvaluatorHoldout: Processed 10057 (100.0%) in 3.79 sec. Users per second: 2651\n",
      "SLIMElasticNetRecommender: URM Detected 440 ( 3.5%) users with no interactions.\n",
      "SLIMElasticNetRecommender: URM Detected 325 ( 1.5%) items with no interactions.\n"
     ]
    },
    {
     "name": "stderr",
     "output_type": "stream",
     "text": [
      "100%|█████████▉| 22216/22222 [00:35<00:00, 623.87it/s]\n"
     ]
    },
    {
     "name": "stdout",
     "output_type": "stream",
     "text": [
      "EvaluatorHoldout: Processed 10040 (100.0%) in 3.45 sec. Users per second: 2912\n",
      "SLIMElasticNetRecommender: URM Detected 479 ( 3.8%) users with no interactions.\n",
      "SLIMElasticNetRecommender: URM Detected 345 ( 1.6%) items with no interactions.\n"
     ]
    },
    {
     "name": "stderr",
     "output_type": "stream",
     "text": [
      "100%|█████████▉| 22216/22222 [00:36<00:00, 610.31it/s]\n"
     ]
    },
    {
     "name": "stdout",
     "output_type": "stream",
     "text": [
      "EvaluatorHoldout: Processed 10017 (100.0%) in 3.82 sec. Users per second: 2622\n",
      "SLIMElasticNetRecommender: URM Detected 451 ( 3.6%) users with no interactions.\n",
      "SLIMElasticNetRecommender: URM Detected 311 ( 1.4%) items with no interactions.\n"
     ]
    },
    {
     "name": "stderr",
     "output_type": "stream",
     "text": [
      "100%|█████████▉| 22216/22222 [00:35<00:00, 629.26it/s]\n"
     ]
    },
    {
     "name": "stdout",
     "output_type": "stream",
     "text": [
      "EvaluatorHoldout: Processed 10037 (100.0%) in 3.72 sec. Users per second: 2701\n",
      "SLIMElasticNetRecommender: URM Detected 449 ( 3.6%) users with no interactions.\n",
      "SLIMElasticNetRecommender: URM Detected 320 ( 1.4%) items with no interactions.\n"
     ]
    },
    {
     "name": "stderr",
     "output_type": "stream",
     "text": [
      "100%|█████████▉| 22216/22222 [00:34<00:00, 647.22it/s]\n"
     ]
    },
    {
     "name": "stdout",
     "output_type": "stream",
     "text": [
      "EvaluatorHoldout: Processed 9989 (100.0%) in 3.68 sec. Users per second: 2716\n",
      "SLIMElasticNetRecommender: URM Detected 460 ( 3.6%) users with no interactions.\n",
      "SLIMElasticNetRecommender: URM Detected 328 ( 1.5%) items with no interactions.\n"
     ]
    },
    {
     "name": "stderr",
     "output_type": "stream",
     "text": [
      "100%|█████████▉| 22216/22222 [00:35<00:00, 631.26it/s]\n"
     ]
    },
    {
     "name": "stdout",
     "output_type": "stream",
     "text": [
      "EvaluatorHoldout: Processed 10024 (100.0%) in 3.63 sec. Users per second: 2760\n",
      "SLIMElasticNetRecommender: URM Detected 426 ( 3.4%) users with no interactions.\n",
      "SLIMElasticNetRecommender: URM Detected 344 ( 1.5%) items with no interactions.\n"
     ]
    },
    {
     "name": "stderr",
     "output_type": "stream",
     "text": [
      "100%|█████████▉| 22216/22222 [00:34<00:00, 636.32it/s]\n"
     ]
    },
    {
     "name": "stdout",
     "output_type": "stream",
     "text": [
      "EvaluatorHoldout: Processed 10030 (100.0%) in 3.68 sec. Users per second: 2726\n",
      "SLIMElasticNetRecommender: URM Detected 471 ( 3.7%) users with no interactions.\n",
      "SLIMElasticNetRecommender: URM Detected 362 ( 1.6%) items with no interactions.\n"
     ]
    },
    {
     "name": "stderr",
     "output_type": "stream",
     "text": [
      "100%|█████████▉| 22216/22222 [00:35<00:00, 632.82it/s]\n"
     ]
    },
    {
     "name": "stdout",
     "output_type": "stream",
     "text": [
      "EvaluatorHoldout: Processed 10052 (100.0%) in 3.61 sec. Users per second: 2788\n",
      "SLIMElasticNetRecommender: URM Detected 478 ( 3.8%) users with no interactions.\n",
      "SLIMElasticNetRecommender: URM Detected 329 ( 1.5%) items with no interactions.\n"
     ]
    },
    {
     "name": "stderr",
     "output_type": "stream",
     "text": [
      "100%|█████████▉| 22216/22222 [00:34<00:00, 650.33it/s]\n"
     ]
    },
    {
     "name": "stdout",
     "output_type": "stream",
     "text": [
      "EvaluatorHoldout: Processed 10045 (100.0%) in 3.78 sec. Users per second: 2659\n",
      "SLIMElasticNetRecommender: URM Detected 460 ( 3.6%) users with no interactions.\n",
      "SLIMElasticNetRecommender: URM Detected 348 ( 1.6%) items with no interactions.\n"
     ]
    },
    {
     "name": "stderr",
     "output_type": "stream",
     "text": [
      "100%|█████████▉| 22216/22222 [00:35<00:00, 623.38it/s]\n"
     ]
    },
    {
     "name": "stdout",
     "output_type": "stream",
     "text": [
      "EvaluatorHoldout: Processed 10068 (100.0%) in 3.81 sec. Users per second: 2642\n"
     ]
    },
    {
     "name": "stderr",
     "output_type": "stream",
     "text": [
      "[I 2024-01-09 22:41:54,530] Trial 17 finished with value: 0.02943475218995783 and parameters: {'alpha': 0.0002778354047859409, 'l1_ratio': 0.4841888641404433, 'topK': 9602}. Best is trial 17 with value: 0.02943475218995783.\n"
     ]
    },
    {
     "name": "stdout",
     "output_type": "stream",
     "text": [
      "SLIMElasticNetRecommender: URM Detected 508 ( 4.0%) users with no interactions.\n",
      "SLIMElasticNetRecommender: URM Detected 332 ( 1.5%) items with no interactions.\n"
     ]
    },
    {
     "name": "stderr",
     "output_type": "stream",
     "text": [
      "100%|█████████▉| 22216/22222 [01:07<00:00, 331.45it/s]\n"
     ]
    },
    {
     "name": "stdout",
     "output_type": "stream",
     "text": [
      "EvaluatorHoldout: Processed 10057 (100.0%) in 3.71 sec. Users per second: 2711\n",
      "SLIMElasticNetRecommender: URM Detected 440 ( 3.5%) users with no interactions.\n",
      "SLIMElasticNetRecommender: URM Detected 325 ( 1.5%) items with no interactions.\n"
     ]
    },
    {
     "name": "stderr",
     "output_type": "stream",
     "text": [
      "100%|█████████▉| 22216/22222 [01:07<00:00, 329.31it/s]\n"
     ]
    },
    {
     "name": "stdout",
     "output_type": "stream",
     "text": [
      "EvaluatorHoldout: Processed 10040 (100.0%) in 3.79 sec. Users per second: 2647\n",
      "SLIMElasticNetRecommender: URM Detected 479 ( 3.8%) users with no interactions.\n",
      "SLIMElasticNetRecommender: URM Detected 345 ( 1.6%) items with no interactions.\n"
     ]
    },
    {
     "name": "stderr",
     "output_type": "stream",
     "text": [
      "100%|█████████▉| 22216/22222 [01:06<00:00, 332.27it/s]\n"
     ]
    },
    {
     "name": "stdout",
     "output_type": "stream",
     "text": [
      "EvaluatorHoldout: Processed 10017 (100.0%) in 3.92 sec. Users per second: 2554\n",
      "SLIMElasticNetRecommender: URM Detected 451 ( 3.6%) users with no interactions.\n",
      "SLIMElasticNetRecommender: URM Detected 311 ( 1.4%) items with no interactions.\n"
     ]
    },
    {
     "name": "stderr",
     "output_type": "stream",
     "text": [
      "100%|█████████▉| 22216/22222 [01:07<00:00, 329.61it/s]\n"
     ]
    },
    {
     "name": "stdout",
     "output_type": "stream",
     "text": [
      "EvaluatorHoldout: Processed 10037 (100.0%) in 5.30 sec. Users per second: 1893\n",
      "SLIMElasticNetRecommender: URM Detected 449 ( 3.6%) users with no interactions.\n",
      "SLIMElasticNetRecommender: URM Detected 320 ( 1.4%) items with no interactions.\n"
     ]
    },
    {
     "name": "stderr",
     "output_type": "stream",
     "text": [
      "100%|█████████▉| 22216/22222 [01:12<00:00, 305.08it/s]\n"
     ]
    },
    {
     "name": "stdout",
     "output_type": "stream",
     "text": [
      "EvaluatorHoldout: Processed 9989 (100.0%) in 6.54 sec. Users per second: 1528\n",
      "SLIMElasticNetRecommender: URM Detected 460 ( 3.6%) users with no interactions.\n",
      "SLIMElasticNetRecommender: URM Detected 328 ( 1.5%) items with no interactions.\n"
     ]
    },
    {
     "name": "stderr",
     "output_type": "stream",
     "text": [
      "100%|█████████▉| 22216/22222 [01:13<00:00, 303.58it/s]\n"
     ]
    },
    {
     "name": "stdout",
     "output_type": "stream",
     "text": [
      "EvaluatorHoldout: Processed 10024 (100.0%) in 5.07 sec. Users per second: 1977\n",
      "SLIMElasticNetRecommender: URM Detected 426 ( 3.4%) users with no interactions.\n",
      "SLIMElasticNetRecommender: URM Detected 344 ( 1.5%) items with no interactions.\n"
     ]
    },
    {
     "name": "stderr",
     "output_type": "stream",
     "text": [
      "100%|█████████▉| 22216/22222 [01:15<00:00, 295.48it/s]\n"
     ]
    },
    {
     "name": "stdout",
     "output_type": "stream",
     "text": [
      "EvaluatorHoldout: Processed 10030 (100.0%) in 4.83 sec. Users per second: 2078\n",
      "SLIMElasticNetRecommender: URM Detected 471 ( 3.7%) users with no interactions.\n",
      "SLIMElasticNetRecommender: URM Detected 362 ( 1.6%) items with no interactions.\n"
     ]
    },
    {
     "name": "stderr",
     "output_type": "stream",
     "text": [
      "100%|█████████▉| 22216/22222 [01:11<00:00, 312.43it/s]\n"
     ]
    },
    {
     "name": "stdout",
     "output_type": "stream",
     "text": [
      "EvaluatorHoldout: Processed 10052 (100.0%) in 4.94 sec. Users per second: 2037\n",
      "SLIMElasticNetRecommender: URM Detected 478 ( 3.8%) users with no interactions.\n",
      "SLIMElasticNetRecommender: URM Detected 329 ( 1.5%) items with no interactions.\n"
     ]
    },
    {
     "name": "stderr",
     "output_type": "stream",
     "text": [
      "100%|█████████▉| 22216/22222 [01:11<00:00, 310.17it/s]\n"
     ]
    },
    {
     "name": "stdout",
     "output_type": "stream",
     "text": [
      "EvaluatorHoldout: Processed 10045 (100.0%) in 4.66 sec. Users per second: 2156\n",
      "SLIMElasticNetRecommender: URM Detected 460 ( 3.6%) users with no interactions.\n",
      "SLIMElasticNetRecommender: URM Detected 348 ( 1.6%) items with no interactions.\n"
     ]
    },
    {
     "name": "stderr",
     "output_type": "stream",
     "text": [
      "100%|█████████▉| 22216/22222 [01:18<00:00, 281.34it/s]\n"
     ]
    },
    {
     "name": "stdout",
     "output_type": "stream",
     "text": [
      "EvaluatorHoldout: Processed 10068 (100.0%) in 4.52 sec. Users per second: 2227\n"
     ]
    },
    {
     "name": "stderr",
     "output_type": "stream",
     "text": [
      "[I 2024-01-09 22:54:48,021] Trial 18 finished with value: 0.020086128884701526 and parameters: {'alpha': 5.9723802927594445e-05, 'l1_ratio': 0.19060033856791878, 'topK': 6603}. Best is trial 17 with value: 0.02943475218995783.\n"
     ]
    },
    {
     "name": "stdout",
     "output_type": "stream",
     "text": [
      "SLIMElasticNetRecommender: URM Detected 508 ( 4.0%) users with no interactions.\n",
      "SLIMElasticNetRecommender: URM Detected 332 ( 1.5%) items with no interactions.\n"
     ]
    },
    {
     "name": "stderr",
     "output_type": "stream",
     "text": [
      "100%|█████████▉| 22216/22222 [00:14<00:00, 1483.43it/s]\n"
     ]
    },
    {
     "name": "stdout",
     "output_type": "stream",
     "text": [
      "EvaluatorHoldout: Processed 10057 (100.0%) in 2.68 sec. Users per second: 3753\n",
      "SLIMElasticNetRecommender: URM Detected 440 ( 3.5%) users with no interactions.\n",
      "SLIMElasticNetRecommender: URM Detected 325 ( 1.5%) items with no interactions.\n"
     ]
    },
    {
     "name": "stderr",
     "output_type": "stream",
     "text": [
      "100%|█████████▉| 22216/22222 [00:14<00:00, 1481.90it/s]\n"
     ]
    },
    {
     "name": "stdout",
     "output_type": "stream",
     "text": [
      "EvaluatorHoldout: Processed 10040 (100.0%) in 2.55 sec. Users per second: 3932\n",
      "SLIMElasticNetRecommender: URM Detected 479 ( 3.8%) users with no interactions.\n",
      "SLIMElasticNetRecommender: URM Detected 345 ( 1.6%) items with no interactions.\n"
     ]
    },
    {
     "name": "stderr",
     "output_type": "stream",
     "text": [
      "100%|█████████▉| 22216/22222 [00:15<00:00, 1400.68it/s]\n"
     ]
    },
    {
     "name": "stdout",
     "output_type": "stream",
     "text": [
      "EvaluatorHoldout: Processed 10017 (100.0%) in 2.77 sec. Users per second: 3622\n",
      "SLIMElasticNetRecommender: URM Detected 451 ( 3.6%) users with no interactions.\n",
      "SLIMElasticNetRecommender: URM Detected 311 ( 1.4%) items with no interactions.\n"
     ]
    },
    {
     "name": "stderr",
     "output_type": "stream",
     "text": [
      "100%|█████████▉| 22216/22222 [00:17<00:00, 1234.23it/s]\n"
     ]
    },
    {
     "name": "stdout",
     "output_type": "stream",
     "text": [
      "EvaluatorHoldout: Processed 10037 (100.0%) in 3.72 sec. Users per second: 2700\n",
      "SLIMElasticNetRecommender: URM Detected 449 ( 3.6%) users with no interactions.\n",
      "SLIMElasticNetRecommender: URM Detected 320 ( 1.4%) items with no interactions.\n"
     ]
    },
    {
     "name": "stderr",
     "output_type": "stream",
     "text": [
      "100%|█████████▉| 22216/22222 [00:16<00:00, 1368.92it/s]\n"
     ]
    },
    {
     "name": "stdout",
     "output_type": "stream",
     "text": [
      "EvaluatorHoldout: Processed 9989 (100.0%) in 2.57 sec. Users per second: 3882\n",
      "SLIMElasticNetRecommender: URM Detected 460 ( 3.6%) users with no interactions.\n",
      "SLIMElasticNetRecommender: URM Detected 328 ( 1.5%) items with no interactions.\n"
     ]
    },
    {
     "name": "stderr",
     "output_type": "stream",
     "text": [
      "100%|█████████▉| 22216/22222 [00:15<00:00, 1430.67it/s]\n"
     ]
    },
    {
     "name": "stdout",
     "output_type": "stream",
     "text": [
      "EvaluatorHoldout: Processed 10024 (100.0%) in 2.74 sec. Users per second: 3661\n",
      "SLIMElasticNetRecommender: URM Detected 426 ( 3.4%) users with no interactions.\n",
      "SLIMElasticNetRecommender: URM Detected 344 ( 1.5%) items with no interactions.\n"
     ]
    },
    {
     "name": "stderr",
     "output_type": "stream",
     "text": [
      "100%|█████████▉| 22216/22222 [00:15<00:00, 1454.07it/s]\n"
     ]
    },
    {
     "name": "stdout",
     "output_type": "stream",
     "text": [
      "EvaluatorHoldout: Processed 10030 (100.0%) in 2.79 sec. Users per second: 3592\n",
      "SLIMElasticNetRecommender: URM Detected 471 ( 3.7%) users with no interactions.\n",
      "SLIMElasticNetRecommender: URM Detected 362 ( 1.6%) items with no interactions.\n"
     ]
    },
    {
     "name": "stderr",
     "output_type": "stream",
     "text": [
      "100%|█████████▉| 22216/22222 [00:17<00:00, 1297.99it/s]\n"
     ]
    },
    {
     "name": "stdout",
     "output_type": "stream",
     "text": [
      "EvaluatorHoldout: Processed 10052 (100.0%) in 3.64 sec. Users per second: 2761\n",
      "SLIMElasticNetRecommender: URM Detected 478 ( 3.8%) users with no interactions.\n",
      "SLIMElasticNetRecommender: URM Detected 329 ( 1.5%) items with no interactions.\n"
     ]
    },
    {
     "name": "stderr",
     "output_type": "stream",
     "text": [
      "100%|█████████▉| 22216/22222 [00:23<00:00, 953.52it/s] \n"
     ]
    },
    {
     "name": "stdout",
     "output_type": "stream",
     "text": [
      "EvaluatorHoldout: Processed 10045 (100.0%) in 2.67 sec. Users per second: 3757\n",
      "SLIMElasticNetRecommender: URM Detected 460 ( 3.6%) users with no interactions.\n",
      "SLIMElasticNetRecommender: URM Detected 348 ( 1.6%) items with no interactions.\n"
     ]
    },
    {
     "name": "stderr",
     "output_type": "stream",
     "text": [
      "100%|█████████▉| 22216/22222 [00:15<00:00, 1464.01it/s]\n"
     ]
    },
    {
     "name": "stdout",
     "output_type": "stream",
     "text": [
      "EvaluatorHoldout: Processed 10068 (100.0%) in 2.65 sec. Users per second: 3792\n"
     ]
    },
    {
     "name": "stderr",
     "output_type": "stream",
     "text": [
      "[I 2024-01-09 22:58:16,489] Trial 22 finished with value: 0.025286823505144013 and parameters: {'alpha': 0.002704931559872785, 'l1_ratio': 0.3659912460668073, 'topK': 3930}. Best is trial 17 with value: 0.02943475218995783.\n"
     ]
    },
    {
     "name": "stdout",
     "output_type": "stream",
     "text": [
      "SLIMElasticNetRecommender: URM Detected 508 ( 4.0%) users with no interactions.\n",
      "SLIMElasticNetRecommender: URM Detected 332 ( 1.5%) items with no interactions.\n"
     ]
    },
    {
     "name": "stderr",
     "output_type": "stream",
     "text": [
      "100%|█████████▉| 22216/22222 [00:14<00:00, 1520.56it/s]\n"
     ]
    },
    {
     "name": "stdout",
     "output_type": "stream",
     "text": [
      "EvaluatorHoldout: Processed 10057 (100.0%) in 2.42 sec. Users per second: 4160\n",
      "SLIMElasticNetRecommender: URM Detected 440 ( 3.5%) users with no interactions.\n",
      "SLIMElasticNetRecommender: URM Detected 325 ( 1.5%) items with no interactions.\n"
     ]
    },
    {
     "name": "stderr",
     "output_type": "stream",
     "text": [
      "100%|█████████▉| 22216/22222 [00:17<00:00, 1264.32it/s]\n"
     ]
    },
    {
     "name": "stdout",
     "output_type": "stream",
     "text": [
      "EvaluatorHoldout: Processed 10040 (100.0%) in 3.50 sec. Users per second: 2869\n",
      "SLIMElasticNetRecommender: URM Detected 479 ( 3.8%) users with no interactions.\n",
      "SLIMElasticNetRecommender: URM Detected 345 ( 1.6%) items with no interactions.\n"
     ]
    },
    {
     "name": "stderr",
     "output_type": "stream",
     "text": [
      "100%|█████████▉| 22216/22222 [00:14<00:00, 1514.79it/s]\n"
     ]
    },
    {
     "name": "stdout",
     "output_type": "stream",
     "text": [
      "EvaluatorHoldout: Processed 10017 (100.0%) in 2.30 sec. Users per second: 4364\n",
      "SLIMElasticNetRecommender: URM Detected 451 ( 3.6%) users with no interactions.\n",
      "SLIMElasticNetRecommender: URM Detected 311 ( 1.4%) items with no interactions.\n"
     ]
    },
    {
     "name": "stderr",
     "output_type": "stream",
     "text": [
      "100%|█████████▉| 22216/22222 [00:13<00:00, 1706.02it/s]\n"
     ]
    },
    {
     "name": "stdout",
     "output_type": "stream",
     "text": [
      "EvaluatorHoldout: Processed 10037 (100.0%) in 2.59 sec. Users per second: 3876\n",
      "SLIMElasticNetRecommender: URM Detected 449 ( 3.6%) users with no interactions.\n",
      "SLIMElasticNetRecommender: URM Detected 320 ( 1.4%) items with no interactions.\n"
     ]
    },
    {
     "name": "stderr",
     "output_type": "stream",
     "text": [
      "100%|█████████▉| 22216/22222 [00:13<00:00, 1597.53it/s]\n"
     ]
    },
    {
     "name": "stdout",
     "output_type": "stream",
     "text": [
      "EvaluatorHoldout: Processed 9989 (100.0%) in 2.48 sec. Users per second: 4024\n",
      "SLIMElasticNetRecommender: URM Detected 460 ( 3.6%) users with no interactions.\n",
      "SLIMElasticNetRecommender: URM Detected 328 ( 1.5%) items with no interactions.\n"
     ]
    },
    {
     "name": "stderr",
     "output_type": "stream",
     "text": [
      "100%|█████████▉| 22216/22222 [00:13<00:00, 1588.53it/s]\n"
     ]
    },
    {
     "name": "stdout",
     "output_type": "stream",
     "text": [
      "EvaluatorHoldout: Processed 10024 (100.0%) in 2.58 sec. Users per second: 3878\n",
      "SLIMElasticNetRecommender: URM Detected 426 ( 3.4%) users with no interactions.\n",
      "SLIMElasticNetRecommender: URM Detected 344 ( 1.5%) items with no interactions.\n"
     ]
    },
    {
     "name": "stderr",
     "output_type": "stream",
     "text": [
      "100%|█████████▉| 22216/22222 [00:13<00:00, 1659.69it/s]\n"
     ]
    },
    {
     "name": "stdout",
     "output_type": "stream",
     "text": [
      "EvaluatorHoldout: Processed 10030 (100.0%) in 2.32 sec. Users per second: 4331\n",
      "SLIMElasticNetRecommender: URM Detected 471 ( 3.7%) users with no interactions.\n",
      "SLIMElasticNetRecommender: URM Detected 362 ( 1.6%) items with no interactions.\n"
     ]
    },
    {
     "name": "stderr",
     "output_type": "stream",
     "text": [
      "100%|█████████▉| 22216/22222 [00:13<00:00, 1674.98it/s]\n"
     ]
    },
    {
     "name": "stdout",
     "output_type": "stream",
     "text": [
      "EvaluatorHoldout: Processed 10052 (100.0%) in 2.21 sec. Users per second: 4551\n",
      "SLIMElasticNetRecommender: URM Detected 478 ( 3.8%) users with no interactions.\n",
      "SLIMElasticNetRecommender: URM Detected 329 ( 1.5%) items with no interactions.\n"
     ]
    },
    {
     "name": "stderr",
     "output_type": "stream",
     "text": [
      "100%|█████████▉| 22216/22222 [00:13<00:00, 1637.96it/s]\n"
     ]
    },
    {
     "name": "stdout",
     "output_type": "stream",
     "text": [
      "EvaluatorHoldout: Processed 10045 (100.0%) in 2.31 sec. Users per second: 4341\n",
      "SLIMElasticNetRecommender: URM Detected 460 ( 3.6%) users with no interactions.\n",
      "SLIMElasticNetRecommender: URM Detected 348 ( 1.6%) items with no interactions.\n"
     ]
    },
    {
     "name": "stderr",
     "output_type": "stream",
     "text": [
      "100%|█████████▉| 22216/22222 [00:19<00:00, 1156.76it/s]\n"
     ]
    },
    {
     "name": "stdout",
     "output_type": "stream",
     "text": [
      "EvaluatorHoldout: Processed 10068 (100.0%) in 4.20 sec. Users per second: 2399\n"
     ]
    },
    {
     "name": "stderr",
     "output_type": "stream",
     "text": [
      "[I 2024-01-09 23:01:23,610] Trial 24 finished with value: 0.02176393121323106 and parameters: {'alpha': 0.005620557131367835, 'l1_ratio': 0.36665098982431826, 'topK': 3583}. Best is trial 17 with value: 0.02943475218995783.\n"
     ]
    },
    {
     "name": "stdout",
     "output_type": "stream",
     "text": [
      "SLIMElasticNetRecommender: URM Detected 508 ( 4.0%) users with no interactions.\n",
      "SLIMElasticNetRecommender: URM Detected 332 ( 1.5%) items with no interactions.\n"
     ]
    },
    {
     "name": "stderr",
     "output_type": "stream",
     "text": [
      "100%|█████████▉| 22216/22222 [00:16<00:00, 1311.18it/s]\n"
     ]
    },
    {
     "name": "stdout",
     "output_type": "stream",
     "text": [
      "EvaluatorHoldout: Processed 10057 (100.0%) in 2.76 sec. Users per second: 3648\n",
      "SLIMElasticNetRecommender: URM Detected 440 ( 3.5%) users with no interactions.\n",
      "SLIMElasticNetRecommender: URM Detected 325 ( 1.5%) items with no interactions.\n"
     ]
    },
    {
     "name": "stderr",
     "output_type": "stream",
     "text": [
      "100%|█████████▉| 22216/22222 [00:15<00:00, 1434.92it/s]\n"
     ]
    },
    {
     "name": "stdout",
     "output_type": "stream",
     "text": [
      "EvaluatorHoldout: Processed 10040 (100.0%) in 3.11 sec. Users per second: 3228\n",
      "SLIMElasticNetRecommender: URM Detected 479 ( 3.8%) users with no interactions.\n",
      "SLIMElasticNetRecommender: URM Detected 345 ( 1.6%) items with no interactions.\n"
     ]
    },
    {
     "name": "stderr",
     "output_type": "stream",
     "text": [
      "100%|█████████▉| 22216/22222 [00:16<00:00, 1370.53it/s]\n"
     ]
    },
    {
     "name": "stdout",
     "output_type": "stream",
     "text": [
      "EvaluatorHoldout: Processed 10017 (100.0%) in 3.04 sec. Users per second: 3290\n",
      "SLIMElasticNetRecommender: URM Detected 451 ( 3.6%) users with no interactions.\n",
      "SLIMElasticNetRecommender: URM Detected 311 ( 1.4%) items with no interactions.\n"
     ]
    },
    {
     "name": "stderr",
     "output_type": "stream",
     "text": [
      "100%|█████████▉| 22216/22222 [00:17<00:00, 1290.48it/s]\n"
     ]
    },
    {
     "name": "stdout",
     "output_type": "stream",
     "text": [
      "EvaluatorHoldout: Processed 10037 (100.0%) in 2.67 sec. Users per second: 3766\n",
      "SLIMElasticNetRecommender: URM Detected 449 ( 3.6%) users with no interactions.\n",
      "SLIMElasticNetRecommender: URM Detected 320 ( 1.4%) items with no interactions.\n"
     ]
    },
    {
     "name": "stderr",
     "output_type": "stream",
     "text": [
      "100%|█████████▉| 22216/22222 [00:15<00:00, 1451.81it/s]\n"
     ]
    },
    {
     "name": "stdout",
     "output_type": "stream",
     "text": [
      "EvaluatorHoldout: Processed 9989 (100.0%) in 2.77 sec. Users per second: 3601\n",
      "SLIMElasticNetRecommender: URM Detected 460 ( 3.6%) users with no interactions.\n",
      "SLIMElasticNetRecommender: URM Detected 328 ( 1.5%) items with no interactions.\n"
     ]
    },
    {
     "name": "stderr",
     "output_type": "stream",
     "text": [
      "100%|█████████▉| 22216/22222 [00:14<00:00, 1532.03it/s]\n"
     ]
    },
    {
     "name": "stdout",
     "output_type": "stream",
     "text": [
      "EvaluatorHoldout: Processed 10024 (100.0%) in 2.51 sec. Users per second: 3987\n",
      "SLIMElasticNetRecommender: URM Detected 426 ( 3.4%) users with no interactions.\n",
      "SLIMElasticNetRecommender: URM Detected 344 ( 1.5%) items with no interactions.\n"
     ]
    },
    {
     "name": "stderr",
     "output_type": "stream",
     "text": [
      "100%|█████████▉| 22216/22222 [00:15<00:00, 1478.26it/s]\n"
     ]
    },
    {
     "name": "stdout",
     "output_type": "stream",
     "text": [
      "EvaluatorHoldout: Processed 10030 (100.0%) in 2.78 sec. Users per second: 3611\n",
      "SLIMElasticNetRecommender: URM Detected 471 ( 3.7%) users with no interactions.\n",
      "SLIMElasticNetRecommender: URM Detected 362 ( 1.6%) items with no interactions.\n"
     ]
    },
    {
     "name": "stderr",
     "output_type": "stream",
     "text": [
      "100%|█████████▉| 22216/22222 [00:15<00:00, 1461.00it/s]\n"
     ]
    },
    {
     "name": "stdout",
     "output_type": "stream",
     "text": [
      "EvaluatorHoldout: Processed 10052 (100.0%) in 2.67 sec. Users per second: 3764\n",
      "SLIMElasticNetRecommender: URM Detected 478 ( 3.8%) users with no interactions.\n",
      "SLIMElasticNetRecommender: URM Detected 329 ( 1.5%) items with no interactions.\n"
     ]
    },
    {
     "name": "stderr",
     "output_type": "stream",
     "text": [
      "100%|█████████▉| 22216/22222 [00:15<00:00, 1466.55it/s]\n"
     ]
    },
    {
     "name": "stdout",
     "output_type": "stream",
     "text": [
      "EvaluatorHoldout: Processed 10045 (100.0%) in 2.51 sec. Users per second: 4001\n",
      "SLIMElasticNetRecommender: URM Detected 460 ( 3.6%) users with no interactions.\n",
      "SLIMElasticNetRecommender: URM Detected 348 ( 1.6%) items with no interactions.\n"
     ]
    },
    {
     "name": "stderr",
     "output_type": "stream",
     "text": [
      "100%|█████████▉| 22216/22222 [00:15<00:00, 1401.71it/s]\n"
     ]
    },
    {
     "name": "stdout",
     "output_type": "stream",
     "text": [
      "EvaluatorHoldout: Processed 10068 (100.0%) in 2.44 sec. Users per second: 4134\n"
     ]
    },
    {
     "name": "stderr",
     "output_type": "stream",
     "text": [
      "[I 2024-01-09 23:04:40,849] Trial 25 finished with value: 0.0249091804505562 and parameters: {'alpha': 0.004315997043037008, 'l1_ratio': 0.23624126934368014, 'topK': 9942}. Best is trial 17 with value: 0.02943475218995783.\n"
     ]
    },
    {
     "name": "stdout",
     "output_type": "stream",
     "text": [
      "SLIMElasticNetRecommender: URM Detected 508 ( 4.0%) users with no interactions.\n",
      "SLIMElasticNetRecommender: URM Detected 332 ( 1.5%) items with no interactions.\n"
     ]
    },
    {
     "name": "stderr",
     "output_type": "stream",
     "text": [
      "100%|█████████▉| 22216/22222 [00:51<00:00, 429.83it/s]\n"
     ]
    },
    {
     "name": "stdout",
     "output_type": "stream",
     "text": [
      "EvaluatorHoldout: Processed 10057 (100.0%) in 3.92 sec. Users per second: 2563\n",
      "SLIMElasticNetRecommender: URM Detected 440 ( 3.5%) users with no interactions.\n",
      "SLIMElasticNetRecommender: URM Detected 325 ( 1.5%) items with no interactions.\n"
     ]
    },
    {
     "name": "stderr",
     "output_type": "stream",
     "text": [
      "100%|█████████▉| 22216/22222 [00:51<00:00, 431.92it/s]\n"
     ]
    },
    {
     "name": "stdout",
     "output_type": "stream",
     "text": [
      "EvaluatorHoldout: Processed 10040 (100.0%) in 3.90 sec. Users per second: 2576\n",
      "SLIMElasticNetRecommender: URM Detected 479 ( 3.8%) users with no interactions.\n",
      "SLIMElasticNetRecommender: URM Detected 345 ( 1.6%) items with no interactions.\n"
     ]
    },
    {
     "name": "stderr",
     "output_type": "stream",
     "text": [
      "100%|█████████▉| 22216/22222 [00:51<00:00, 433.89it/s]\n"
     ]
    },
    {
     "name": "stdout",
     "output_type": "stream",
     "text": [
      "EvaluatorHoldout: Processed 10017 (100.0%) in 3.99 sec. Users per second: 2509\n",
      "SLIMElasticNetRecommender: URM Detected 451 ( 3.6%) users with no interactions.\n",
      "SLIMElasticNetRecommender: URM Detected 311 ( 1.4%) items with no interactions.\n"
     ]
    },
    {
     "name": "stderr",
     "output_type": "stream",
     "text": [
      "100%|█████████▉| 22216/22222 [00:48<00:00, 460.75it/s]\n"
     ]
    },
    {
     "name": "stdout",
     "output_type": "stream",
     "text": [
      "EvaluatorHoldout: Processed 10037 (100.0%) in 4.19 sec. Users per second: 2396\n",
      "SLIMElasticNetRecommender: URM Detected 449 ( 3.6%) users with no interactions.\n",
      "SLIMElasticNetRecommender: URM Detected 320 ( 1.4%) items with no interactions.\n"
     ]
    },
    {
     "name": "stderr",
     "output_type": "stream",
     "text": [
      "100%|█████████▉| 22216/22222 [00:48<00:00, 458.17it/s]\n"
     ]
    },
    {
     "name": "stdout",
     "output_type": "stream",
     "text": [
      "EvaluatorHoldout: Processed 9989 (100.0%) in 3.97 sec. Users per second: 2518\n",
      "SLIMElasticNetRecommender: URM Detected 460 ( 3.6%) users with no interactions.\n",
      "SLIMElasticNetRecommender: URM Detected 328 ( 1.5%) items with no interactions.\n"
     ]
    },
    {
     "name": "stderr",
     "output_type": "stream",
     "text": [
      "100%|█████████▉| 22216/22222 [00:48<00:00, 456.53it/s]\n"
     ]
    },
    {
     "name": "stdout",
     "output_type": "stream",
     "text": [
      "EvaluatorHoldout: Processed 10024 (100.0%) in 3.91 sec. Users per second: 2563\n",
      "SLIMElasticNetRecommender: URM Detected 426 ( 3.4%) users with no interactions.\n",
      "SLIMElasticNetRecommender: URM Detected 344 ( 1.5%) items with no interactions.\n"
     ]
    },
    {
     "name": "stderr",
     "output_type": "stream",
     "text": [
      "100%|█████████▉| 22216/22222 [00:47<00:00, 463.51it/s]\n"
     ]
    },
    {
     "name": "stdout",
     "output_type": "stream",
     "text": [
      "EvaluatorHoldout: Processed 10030 (100.0%) in 3.95 sec. Users per second: 2541\n",
      "SLIMElasticNetRecommender: URM Detected 471 ( 3.7%) users with no interactions.\n",
      "SLIMElasticNetRecommender: URM Detected 362 ( 1.6%) items with no interactions.\n"
     ]
    },
    {
     "name": "stderr",
     "output_type": "stream",
     "text": [
      "100%|█████████▉| 22216/22222 [00:48<00:00, 457.47it/s]\n"
     ]
    },
    {
     "name": "stdout",
     "output_type": "stream",
     "text": [
      "EvaluatorHoldout: Processed 10052 (100.0%) in 3.79 sec. Users per second: 2654\n",
      "SLIMElasticNetRecommender: URM Detected 478 ( 3.8%) users with no interactions.\n",
      "SLIMElasticNetRecommender: URM Detected 329 ( 1.5%) items with no interactions.\n"
     ]
    },
    {
     "name": "stderr",
     "output_type": "stream",
     "text": [
      "100%|█████████▉| 22216/22222 [00:48<00:00, 459.72it/s]\n"
     ]
    },
    {
     "name": "stdout",
     "output_type": "stream",
     "text": [
      "EvaluatorHoldout: Processed 10045 (100.0%) in 3.77 sec. Users per second: 2661\n",
      "SLIMElasticNetRecommender: URM Detected 460 ( 3.6%) users with no interactions.\n",
      "SLIMElasticNetRecommender: URM Detected 348 ( 1.6%) items with no interactions.\n"
     ]
    },
    {
     "name": "stderr",
     "output_type": "stream",
     "text": [
      "100%|█████████▉| 22216/22222 [00:49<00:00, 448.91it/s]\n"
     ]
    },
    {
     "name": "stdout",
     "output_type": "stream",
     "text": [
      "EvaluatorHoldout: Processed 10068 (100.0%) in 4.12 sec. Users per second: 2444\n"
     ]
    },
    {
     "name": "stderr",
     "output_type": "stream",
     "text": [
      "[I 2024-01-09 23:13:47,602] Trial 27 finished with value: 0.02760603940825628 and parameters: {'alpha': 0.00015611889447424986, 'l1_ratio': 0.47777078246574817, 'topK': 8262}. Best is trial 17 with value: 0.02943475218995783.\n"
     ]
    },
    {
     "name": "stdout",
     "output_type": "stream",
     "text": [
      "SLIMElasticNetRecommender: URM Detected 508 ( 4.0%) users with no interactions.\n",
      "SLIMElasticNetRecommender: URM Detected 332 ( 1.5%) items with no interactions.\n"
     ]
    },
    {
     "name": "stderr",
     "output_type": "stream",
     "text": [
      "100%|█████████▉| 22216/22222 [00:16<00:00, 1368.99it/s]\n"
     ]
    },
    {
     "name": "stdout",
     "output_type": "stream",
     "text": [
      "EvaluatorHoldout: Processed 10057 (100.0%) in 2.74 sec. Users per second: 3673\n",
      "SLIMElasticNetRecommender: URM Detected 440 ( 3.5%) users with no interactions.\n",
      "SLIMElasticNetRecommender: URM Detected 325 ( 1.5%) items with no interactions.\n"
     ]
    },
    {
     "name": "stderr",
     "output_type": "stream",
     "text": [
      "100%|█████████▉| 22216/22222 [00:16<00:00, 1371.49it/s]\n"
     ]
    },
    {
     "name": "stdout",
     "output_type": "stream",
     "text": [
      "EvaluatorHoldout: Processed 10040 (100.0%) in 2.74 sec. Users per second: 3659\n",
      "SLIMElasticNetRecommender: URM Detected 479 ( 3.8%) users with no interactions.\n",
      "SLIMElasticNetRecommender: URM Detected 345 ( 1.6%) items with no interactions.\n"
     ]
    },
    {
     "name": "stderr",
     "output_type": "stream",
     "text": [
      "100%|█████████▉| 22216/22222 [00:16<00:00, 1347.96it/s]\n"
     ]
    },
    {
     "name": "stdout",
     "output_type": "stream",
     "text": [
      "EvaluatorHoldout: Processed 10017 (100.0%) in 2.64 sec. Users per second: 3798\n",
      "SLIMElasticNetRecommender: URM Detected 451 ( 3.6%) users with no interactions.\n",
      "SLIMElasticNetRecommender: URM Detected 311 ( 1.4%) items with no interactions.\n"
     ]
    },
    {
     "name": "stderr",
     "output_type": "stream",
     "text": [
      "100%|█████████▉| 22216/22222 [00:16<00:00, 1352.95it/s]\n"
     ]
    },
    {
     "name": "stdout",
     "output_type": "stream",
     "text": [
      "EvaluatorHoldout: Processed 10037 (100.0%) in 2.60 sec. Users per second: 3857\n",
      "SLIMElasticNetRecommender: URM Detected 449 ( 3.6%) users with no interactions.\n",
      "SLIMElasticNetRecommender: URM Detected 320 ( 1.4%) items with no interactions.\n"
     ]
    },
    {
     "name": "stderr",
     "output_type": "stream",
     "text": [
      "100%|█████████▉| 22216/22222 [00:18<00:00, 1198.86it/s]\n"
     ]
    },
    {
     "name": "stdout",
     "output_type": "stream",
     "text": [
      "EvaluatorHoldout: Processed 9989 (100.0%) in 3.26 sec. Users per second: 3066\n",
      "SLIMElasticNetRecommender: URM Detected 460 ( 3.6%) users with no interactions.\n",
      "SLIMElasticNetRecommender: URM Detected 328 ( 1.5%) items with no interactions.\n"
     ]
    },
    {
     "name": "stderr",
     "output_type": "stream",
     "text": [
      "100%|█████████▉| 22216/22222 [00:26<00:00, 840.07it/s] \n"
     ]
    },
    {
     "name": "stdout",
     "output_type": "stream",
     "text": [
      "EvaluatorHoldout: Processed 10024 (100.0%) in 3.46 sec. Users per second: 2895\n",
      "SLIMElasticNetRecommender: URM Detected 426 ( 3.4%) users with no interactions.\n",
      "SLIMElasticNetRecommender: URM Detected 344 ( 1.5%) items with no interactions.\n"
     ]
    },
    {
     "name": "stderr",
     "output_type": "stream",
     "text": [
      "100%|█████████▉| 22216/22222 [00:16<00:00, 1312.16it/s]\n"
     ]
    },
    {
     "name": "stdout",
     "output_type": "stream",
     "text": [
      "EvaluatorHoldout: Processed 10030 (100.0%) in 2.77 sec. Users per second: 3624\n",
      "SLIMElasticNetRecommender: URM Detected 471 ( 3.7%) users with no interactions.\n",
      "SLIMElasticNetRecommender: URM Detected 362 ( 1.6%) items with no interactions.\n"
     ]
    },
    {
     "name": "stderr",
     "output_type": "stream",
     "text": [
      "100%|█████████▉| 22216/22222 [00:17<00:00, 1279.70it/s]\n"
     ]
    },
    {
     "name": "stdout",
     "output_type": "stream",
     "text": [
      "EvaluatorHoldout: Processed 10052 (100.0%) in 2.69 sec. Users per second: 3734\n",
      "SLIMElasticNetRecommender: URM Detected 478 ( 3.8%) users with no interactions.\n",
      "SLIMElasticNetRecommender: URM Detected 329 ( 1.5%) items with no interactions.\n"
     ]
    },
    {
     "name": "stderr",
     "output_type": "stream",
     "text": [
      "100%|█████████▉| 22216/22222 [00:16<00:00, 1328.24it/s]\n"
     ]
    },
    {
     "name": "stdout",
     "output_type": "stream",
     "text": [
      "EvaluatorHoldout: Processed 10045 (100.0%) in 2.82 sec. Users per second: 3557\n",
      "SLIMElasticNetRecommender: URM Detected 460 ( 3.6%) users with no interactions.\n",
      "SLIMElasticNetRecommender: URM Detected 348 ( 1.6%) items with no interactions.\n"
     ]
    },
    {
     "name": "stderr",
     "output_type": "stream",
     "text": [
      "100%|█████████▉| 22216/22222 [00:17<00:00, 1292.50it/s]\n"
     ]
    },
    {
     "name": "stdout",
     "output_type": "stream",
     "text": [
      "EvaluatorHoldout: Processed 10068 (100.0%) in 2.70 sec. Users per second: 3725\n"
     ]
    },
    {
     "name": "stderr",
     "output_type": "stream",
     "text": [
      "[I 2024-01-09 23:17:27,534] Trial 29 finished with value: 0.02785226060516279 and parameters: {'alpha': 0.0011601191187729078, 'l1_ratio': 0.4401250660540186, 'topK': 8709}. Best is trial 17 with value: 0.02943475218995783.\n"
     ]
    },
    {
     "name": "stdout",
     "output_type": "stream",
     "text": [
      "SLIMElasticNetRecommender: URM Detected 508 ( 4.0%) users with no interactions.\n",
      "SLIMElasticNetRecommender: URM Detected 332 ( 1.5%) items with no interactions.\n"
     ]
    },
    {
     "name": "stderr",
     "output_type": "stream",
     "text": [
      "100%|█████████▉| 22216/22222 [00:18<00:00, 1190.83it/s]\n"
     ]
    },
    {
     "name": "stdout",
     "output_type": "stream",
     "text": [
      "EvaluatorHoldout: Processed 10057 (100.0%) in 3.75 sec. Users per second: 2684\n",
      "SLIMElasticNetRecommender: URM Detected 440 ( 3.5%) users with no interactions.\n",
      "SLIMElasticNetRecommender: URM Detected 325 ( 1.5%) items with no interactions.\n"
     ]
    },
    {
     "name": "stderr",
     "output_type": "stream",
     "text": [
      "100%|█████████▉| 22216/22222 [00:24<00:00, 918.97it/s] \n"
     ]
    },
    {
     "name": "stdout",
     "output_type": "stream",
     "text": [
      "EvaluatorHoldout: Processed 10040 (100.0%) in 4.95 sec. Users per second: 2030\n",
      "SLIMElasticNetRecommender: URM Detected 479 ( 3.8%) users with no interactions.\n",
      "SLIMElasticNetRecommender: URM Detected 345 ( 1.6%) items with no interactions.\n"
     ]
    },
    {
     "name": "stderr",
     "output_type": "stream",
     "text": [
      "100%|█████████▉| 22216/22222 [00:17<00:00, 1254.28it/s]\n"
     ]
    },
    {
     "name": "stdout",
     "output_type": "stream",
     "text": [
      "EvaluatorHoldout: Processed 10017 (100.0%) in 2.71 sec. Users per second: 3692\n",
      "SLIMElasticNetRecommender: URM Detected 451 ( 3.6%) users with no interactions.\n",
      "SLIMElasticNetRecommender: URM Detected 311 ( 1.4%) items with no interactions.\n"
     ]
    },
    {
     "name": "stderr",
     "output_type": "stream",
     "text": [
      "100%|█████████▉| 22216/22222 [00:15<00:00, 1457.39it/s]\n"
     ]
    },
    {
     "name": "stdout",
     "output_type": "stream",
     "text": [
      "EvaluatorHoldout: Processed 10037 (100.0%) in 2.98 sec. Users per second: 3363\n",
      "SLIMElasticNetRecommender: URM Detected 449 ( 3.6%) users with no interactions.\n",
      "SLIMElasticNetRecommender: URM Detected 320 ( 1.4%) items with no interactions.\n"
     ]
    },
    {
     "name": "stderr",
     "output_type": "stream",
     "text": [
      "100%|█████████▉| 22216/22222 [00:15<00:00, 1455.65it/s]\n"
     ]
    },
    {
     "name": "stdout",
     "output_type": "stream",
     "text": [
      "EvaluatorHoldout: Processed 9989 (100.0%) in 2.63 sec. Users per second: 3803\n",
      "SLIMElasticNetRecommender: URM Detected 460 ( 3.6%) users with no interactions.\n",
      "SLIMElasticNetRecommender: URM Detected 328 ( 1.5%) items with no interactions.\n"
     ]
    },
    {
     "name": "stderr",
     "output_type": "stream",
     "text": [
      "100%|█████████▉| 22216/22222 [00:14<00:00, 1547.82it/s]\n"
     ]
    },
    {
     "name": "stdout",
     "output_type": "stream",
     "text": [
      "EvaluatorHoldout: Processed 10024 (100.0%) in 2.64 sec. Users per second: 3799\n",
      "SLIMElasticNetRecommender: URM Detected 426 ( 3.4%) users with no interactions.\n",
      "SLIMElasticNetRecommender: URM Detected 344 ( 1.5%) items with no interactions.\n"
     ]
    },
    {
     "name": "stderr",
     "output_type": "stream",
     "text": [
      "100%|█████████▉| 22216/22222 [00:15<00:00, 1398.38it/s]\n"
     ]
    },
    {
     "name": "stdout",
     "output_type": "stream",
     "text": [
      "EvaluatorHoldout: Processed 10030 (100.0%) in 3.08 sec. Users per second: 3252\n",
      "SLIMElasticNetRecommender: URM Detected 471 ( 3.7%) users with no interactions.\n",
      "SLIMElasticNetRecommender: URM Detected 362 ( 1.6%) items with no interactions.\n"
     ]
    },
    {
     "name": "stderr",
     "output_type": "stream",
     "text": [
      "100%|█████████▉| 22216/22222 [00:20<00:00, 1093.56it/s]\n"
     ]
    },
    {
     "name": "stdout",
     "output_type": "stream",
     "text": [
      "EvaluatorHoldout: Processed 10052 (100.0%) in 3.68 sec. Users per second: 2730\n",
      "SLIMElasticNetRecommender: URM Detected 478 ( 3.8%) users with no interactions.\n",
      "SLIMElasticNetRecommender: URM Detected 329 ( 1.5%) items with no interactions.\n"
     ]
    },
    {
     "name": "stderr",
     "output_type": "stream",
     "text": [
      "100%|█████████▉| 22216/22222 [00:23<00:00, 944.16it/s] \n"
     ]
    },
    {
     "name": "stdout",
     "output_type": "stream",
     "text": [
      "EvaluatorHoldout: Processed 10045 (100.0%) in 4.81 sec. Users per second: 2087\n",
      "SLIMElasticNetRecommender: URM Detected 460 ( 3.6%) users with no interactions.\n",
      "SLIMElasticNetRecommender: URM Detected 348 ( 1.6%) items with no interactions.\n"
     ]
    },
    {
     "name": "stderr",
     "output_type": "stream",
     "text": [
      "100%|█████████▉| 22216/22222 [00:16<00:00, 1374.12it/s]\n"
     ]
    },
    {
     "name": "stdout",
     "output_type": "stream",
     "text": [
      "EvaluatorHoldout: Processed 10068 (100.0%) in 2.60 sec. Users per second: 3873\n"
     ]
    },
    {
     "name": "stderr",
     "output_type": "stream",
     "text": [
      "[I 2024-01-09 23:21:15,968] Trial 30 finished with value: 0.026407660593209696 and parameters: {'alpha': 0.001647151386361036, 'l1_ratio': 0.46710221652466155, 'topK': 7142}. Best is trial 17 with value: 0.02943475218995783.\n"
     ]
    },
    {
     "name": "stdout",
     "output_type": "stream",
     "text": [
      "SLIMElasticNetRecommender: URM Detected 508 ( 4.0%) users with no interactions.\n",
      "SLIMElasticNetRecommender: URM Detected 332 ( 1.5%) items with no interactions.\n"
     ]
    },
    {
     "name": "stderr",
     "output_type": "stream",
     "text": [
      "100%|█████████▉| 22216/22222 [00:27<00:00, 803.32it/s] \n"
     ]
    },
    {
     "name": "stdout",
     "output_type": "stream",
     "text": [
      "EvaluatorHoldout: Processed 10057 (100.0%) in 3.45 sec. Users per second: 2915\n",
      "SLIMElasticNetRecommender: URM Detected 440 ( 3.5%) users with no interactions.\n",
      "SLIMElasticNetRecommender: URM Detected 325 ( 1.5%) items with no interactions.\n"
     ]
    },
    {
     "name": "stderr",
     "output_type": "stream",
     "text": [
      "100%|█████████▉| 22216/22222 [00:29<00:00, 765.33it/s] \n"
     ]
    },
    {
     "name": "stdout",
     "output_type": "stream",
     "text": [
      "EvaluatorHoldout: Processed 10040 (100.0%) in 3.65 sec. Users per second: 2751\n",
      "SLIMElasticNetRecommender: URM Detected 479 ( 3.8%) users with no interactions.\n",
      "SLIMElasticNetRecommender: URM Detected 345 ( 1.6%) items with no interactions.\n"
     ]
    },
    {
     "name": "stderr",
     "output_type": "stream",
     "text": [
      "100%|█████████▉| 22216/22222 [00:34<00:00, 652.45it/s] \n"
     ]
    },
    {
     "name": "stdout",
     "output_type": "stream",
     "text": [
      "EvaluatorHoldout: Processed 10017 (100.0%) in 5.76 sec. Users per second: 1739\n",
      "SLIMElasticNetRecommender: URM Detected 451 ( 3.6%) users with no interactions.\n",
      "SLIMElasticNetRecommender: URM Detected 311 ( 1.4%) items with no interactions.\n"
     ]
    },
    {
     "name": "stderr",
     "output_type": "stream",
     "text": [
      "100%|█████████▉| 22216/22222 [00:37<00:00, 587.75it/s] \n"
     ]
    },
    {
     "name": "stdout",
     "output_type": "stream",
     "text": [
      "EvaluatorHoldout: Processed 10037 (100.0%) in 3.80 sec. Users per second: 2639\n",
      "SLIMElasticNetRecommender: URM Detected 449 ( 3.6%) users with no interactions.\n",
      "SLIMElasticNetRecommender: URM Detected 320 ( 1.4%) items with no interactions.\n"
     ]
    },
    {
     "name": "stderr",
     "output_type": "stream",
     "text": [
      "100%|█████████▉| 22216/22222 [00:27<00:00, 793.60it/s] \n"
     ]
    },
    {
     "name": "stdout",
     "output_type": "stream",
     "text": [
      "EvaluatorHoldout: Processed 9989 (100.0%) in 3.57 sec. Users per second: 2800\n",
      "SLIMElasticNetRecommender: URM Detected 460 ( 3.6%) users with no interactions.\n",
      "SLIMElasticNetRecommender: URM Detected 328 ( 1.5%) items with no interactions.\n"
     ]
    },
    {
     "name": "stderr",
     "output_type": "stream",
     "text": [
      "100%|█████████▉| 22216/22222 [00:27<00:00, 811.27it/s] \n"
     ]
    },
    {
     "name": "stdout",
     "output_type": "stream",
     "text": [
      "EvaluatorHoldout: Processed 10024 (100.0%) in 3.78 sec. Users per second: 2655\n",
      "SLIMElasticNetRecommender: URM Detected 426 ( 3.4%) users with no interactions.\n",
      "SLIMElasticNetRecommender: URM Detected 344 ( 1.5%) items with no interactions.\n"
     ]
    },
    {
     "name": "stderr",
     "output_type": "stream",
     "text": [
      "100%|█████████▉| 22216/22222 [00:33<00:00, 670.96it/s]\n"
     ]
    },
    {
     "name": "stdout",
     "output_type": "stream",
     "text": [
      "EvaluatorHoldout: Processed 10030 (100.0%) in 5.18 sec. Users per second: 1938\n",
      "SLIMElasticNetRecommender: URM Detected 471 ( 3.7%) users with no interactions.\n",
      "SLIMElasticNetRecommender: URM Detected 362 ( 1.6%) items with no interactions.\n"
     ]
    },
    {
     "name": "stderr",
     "output_type": "stream",
     "text": [
      "100%|█████████▉| 22216/22222 [00:47<00:00, 469.39it/s]\n"
     ]
    },
    {
     "name": "stdout",
     "output_type": "stream",
     "text": [
      "EvaluatorHoldout: Processed 10052 (100.0%) in 4.00 sec. Users per second: 2511\n",
      "SLIMElasticNetRecommender: URM Detected 478 ( 3.8%) users with no interactions.\n",
      "SLIMElasticNetRecommender: URM Detected 329 ( 1.5%) items with no interactions.\n"
     ]
    },
    {
     "name": "stderr",
     "output_type": "stream",
     "text": [
      "100%|█████████▉| 22216/22222 [00:29<00:00, 758.59it/s] \n"
     ]
    },
    {
     "name": "stdout",
     "output_type": "stream",
     "text": [
      "EvaluatorHoldout: Processed 10045 (100.0%) in 3.89 sec. Users per second: 2580\n",
      "SLIMElasticNetRecommender: URM Detected 460 ( 3.6%) users with no interactions.\n",
      "SLIMElasticNetRecommender: URM Detected 348 ( 1.6%) items with no interactions.\n"
     ]
    },
    {
     "name": "stderr",
     "output_type": "stream",
     "text": [
      "100%|█████████▉| 22216/22222 [00:29<00:00, 765.10it/s] \n"
     ]
    },
    {
     "name": "stdout",
     "output_type": "stream",
     "text": [
      "EvaluatorHoldout: Processed 10068 (100.0%) in 3.59 sec. Users per second: 2806\n"
     ]
    },
    {
     "name": "stderr",
     "output_type": "stream",
     "text": [
      "[I 2024-01-09 23:27:32,654] Trial 31 finished with value: 0.02969295900253861 and parameters: {'alpha': 0.00045320668596110535, 'l1_ratio': 0.4025104278777558, 'topK': 8923}. Best is trial 31 with value: 0.02969295900253861.\n"
     ]
    },
    {
     "name": "stdout",
     "output_type": "stream",
     "text": [
      "SLIMElasticNetRecommender: URM Detected 508 ( 4.0%) users with no interactions.\n",
      "SLIMElasticNetRecommender: URM Detected 332 ( 1.5%) items with no interactions.\n"
     ]
    },
    {
     "name": "stderr",
     "output_type": "stream",
     "text": [
      "100%|█████████▉| 22216/22222 [00:17<00:00, 1294.75it/s]\n"
     ]
    },
    {
     "name": "stdout",
     "output_type": "stream",
     "text": [
      "EvaluatorHoldout: Processed 10057 (100.0%) in 3.52 sec. Users per second: 2859\n",
      "SLIMElasticNetRecommender: URM Detected 440 ( 3.5%) users with no interactions.\n",
      "SLIMElasticNetRecommender: URM Detected 325 ( 1.5%) items with no interactions.\n"
     ]
    },
    {
     "name": "stderr",
     "output_type": "stream",
     "text": [
      "100%|█████████▉| 22216/22222 [00:20<00:00, 1110.35it/s]\n"
     ]
    },
    {
     "name": "stdout",
     "output_type": "stream",
     "text": [
      "EvaluatorHoldout: Processed 10040 (100.0%) in 5.39 sec. Users per second: 1863\n",
      "SLIMElasticNetRecommender: URM Detected 479 ( 3.8%) users with no interactions.\n",
      "SLIMElasticNetRecommender: URM Detected 345 ( 1.6%) items with no interactions.\n"
     ]
    },
    {
     "name": "stderr",
     "output_type": "stream",
     "text": [
      "100%|█████████▉| 22216/22222 [00:31<00:00, 704.33it/s] \n"
     ]
    },
    {
     "name": "stdout",
     "output_type": "stream",
     "text": [
      "EvaluatorHoldout: Processed 10017 (100.0%) in 2.75 sec. Users per second: 3643\n",
      "SLIMElasticNetRecommender: URM Detected 451 ( 3.6%) users with no interactions.\n",
      "SLIMElasticNetRecommender: URM Detected 311 ( 1.4%) items with no interactions.\n"
     ]
    },
    {
     "name": "stderr",
     "output_type": "stream",
     "text": [
      "100%|█████████▉| 22216/22222 [00:15<00:00, 1437.54it/s]\n"
     ]
    },
    {
     "name": "stdout",
     "output_type": "stream",
     "text": [
      "EvaluatorHoldout: Processed 10037 (100.0%) in 2.59 sec. Users per second: 3870\n",
      "SLIMElasticNetRecommender: URM Detected 449 ( 3.6%) users with no interactions.\n",
      "SLIMElasticNetRecommender: URM Detected 320 ( 1.4%) items with no interactions.\n"
     ]
    },
    {
     "name": "stderr",
     "output_type": "stream",
     "text": [
      "100%|█████████▉| 22216/22222 [00:16<00:00, 1322.17it/s]\n"
     ]
    },
    {
     "name": "stdout",
     "output_type": "stream",
     "text": [
      "EvaluatorHoldout: Processed 9989 (100.0%) in 2.65 sec. Users per second: 3768\n",
      "SLIMElasticNetRecommender: URM Detected 460 ( 3.6%) users with no interactions.\n",
      "SLIMElasticNetRecommender: URM Detected 328 ( 1.5%) items with no interactions.\n"
     ]
    },
    {
     "name": "stderr",
     "output_type": "stream",
     "text": [
      "100%|█████████▉| 22216/22222 [00:16<00:00, 1341.17it/s]\n"
     ]
    },
    {
     "name": "stdout",
     "output_type": "stream",
     "text": [
      "EvaluatorHoldout: Processed 10024 (100.0%) in 2.99 sec. Users per second: 3350\n",
      "SLIMElasticNetRecommender: URM Detected 426 ( 3.4%) users with no interactions.\n",
      "SLIMElasticNetRecommender: URM Detected 344 ( 1.5%) items with no interactions.\n"
     ]
    },
    {
     "name": "stderr",
     "output_type": "stream",
     "text": [
      "100%|█████████▉| 22216/22222 [00:16<00:00, 1317.42it/s]\n"
     ]
    },
    {
     "name": "stdout",
     "output_type": "stream",
     "text": [
      "EvaluatorHoldout: Processed 10030 (100.0%) in 2.75 sec. Users per second: 3652\n",
      "SLIMElasticNetRecommender: URM Detected 471 ( 3.7%) users with no interactions.\n",
      "SLIMElasticNetRecommender: URM Detected 362 ( 1.6%) items with no interactions.\n"
     ]
    },
    {
     "name": "stderr",
     "output_type": "stream",
     "text": [
      "100%|█████████▉| 22216/22222 [00:16<00:00, 1368.87it/s]\n"
     ]
    },
    {
     "name": "stdout",
     "output_type": "stream",
     "text": [
      "EvaluatorHoldout: Processed 10052 (100.0%) in 3.08 sec. Users per second: 3261\n",
      "SLIMElasticNetRecommender: URM Detected 478 ( 3.8%) users with no interactions.\n",
      "SLIMElasticNetRecommender: URM Detected 329 ( 1.5%) items with no interactions.\n"
     ]
    },
    {
     "name": "stderr",
     "output_type": "stream",
     "text": [
      "100%|█████████▉| 22216/22222 [00:19<00:00, 1161.26it/s]\n"
     ]
    },
    {
     "name": "stdout",
     "output_type": "stream",
     "text": [
      "EvaluatorHoldout: Processed 10045 (100.0%) in 3.48 sec. Users per second: 2885\n",
      "SLIMElasticNetRecommender: URM Detected 460 ( 3.6%) users with no interactions.\n",
      "SLIMElasticNetRecommender: URM Detected 348 ( 1.6%) items with no interactions.\n"
     ]
    },
    {
     "name": "stderr",
     "output_type": "stream",
     "text": [
      "100%|█████████▉| 22216/22222 [00:26<00:00, 833.55it/s] \n"
     ]
    },
    {
     "name": "stdout",
     "output_type": "stream",
     "text": [
      "EvaluatorHoldout: Processed 10068 (100.0%) in 4.03 sec. Users per second: 2499\n"
     ]
    },
    {
     "name": "stderr",
     "output_type": "stream",
     "text": [
      "[I 2024-01-09 23:31:35,510] Trial 33 finished with value: 0.026194944422165932 and parameters: {'alpha': 0.001988254393583779, 'l1_ratio': 0.3996443130071622, 'topK': 9975}. Best is trial 31 with value: 0.02969295900253861.\n"
     ]
    },
    {
     "name": "stdout",
     "output_type": "stream",
     "text": [
      "SLIMElasticNetRecommender: URM Detected 508 ( 4.0%) users with no interactions.\n",
      "SLIMElasticNetRecommender: URM Detected 332 ( 1.5%) items with no interactions.\n"
     ]
    },
    {
     "name": "stderr",
     "output_type": "stream",
     "text": [
      "100%|█████████▉| 22216/22222 [00:27<00:00, 805.69it/s] \n"
     ]
    },
    {
     "name": "stdout",
     "output_type": "stream",
     "text": [
      "EvaluatorHoldout: Processed 10057 (100.0%) in 3.49 sec. Users per second: 2879\n",
      "SLIMElasticNetRecommender: URM Detected 440 ( 3.5%) users with no interactions.\n",
      "SLIMElasticNetRecommender: URM Detected 325 ( 1.5%) items with no interactions.\n"
     ]
    },
    {
     "name": "stderr",
     "output_type": "stream",
     "text": [
      "100%|█████████▉| 22216/22222 [00:25<00:00, 860.30it/s] \n"
     ]
    },
    {
     "name": "stdout",
     "output_type": "stream",
     "text": [
      "EvaluatorHoldout: Processed 10040 (100.0%) in 3.31 sec. Users per second: 3033\n",
      "SLIMElasticNetRecommender: URM Detected 479 ( 3.8%) users with no interactions.\n",
      "SLIMElasticNetRecommender: URM Detected 345 ( 1.6%) items with no interactions.\n"
     ]
    },
    {
     "name": "stderr",
     "output_type": "stream",
     "text": [
      "100%|█████████▉| 22216/22222 [00:29<00:00, 761.93it/s] \n"
     ]
    },
    {
     "name": "stdout",
     "output_type": "stream",
     "text": [
      "EvaluatorHoldout: Processed 10017 (100.0%) in 4.58 sec. Users per second: 2185\n",
      "SLIMElasticNetRecommender: URM Detected 451 ( 3.6%) users with no interactions.\n",
      "SLIMElasticNetRecommender: URM Detected 311 ( 1.4%) items with no interactions.\n"
     ]
    },
    {
     "name": "stderr",
     "output_type": "stream",
     "text": [
      "100%|█████████▉| 22216/22222 [00:40<00:00, 550.38it/s]\n"
     ]
    },
    {
     "name": "stdout",
     "output_type": "stream",
     "text": [
      "EvaluatorHoldout: Processed 10037 (100.0%) in 5.43 sec. Users per second: 1849\n",
      "SLIMElasticNetRecommender: URM Detected 449 ( 3.6%) users with no interactions.\n",
      "SLIMElasticNetRecommender: URM Detected 320 ( 1.4%) items with no interactions.\n"
     ]
    },
    {
     "name": "stderr",
     "output_type": "stream",
     "text": [
      "100%|█████████▉| 22216/22222 [00:26<00:00, 829.84it/s] \n"
     ]
    },
    {
     "name": "stdout",
     "output_type": "stream",
     "text": [
      "EvaluatorHoldout: Processed 9989 (100.0%) in 3.68 sec. Users per second: 2717\n",
      "SLIMElasticNetRecommender: URM Detected 460 ( 3.6%) users with no interactions.\n",
      "SLIMElasticNetRecommender: URM Detected 328 ( 1.5%) items with no interactions.\n"
     ]
    },
    {
     "name": "stderr",
     "output_type": "stream",
     "text": [
      "100%|█████████▉| 22216/22222 [00:27<00:00, 793.70it/s] \n"
     ]
    },
    {
     "name": "stdout",
     "output_type": "stream",
     "text": [
      "EvaluatorHoldout: Processed 10024 (100.0%) in 3.71 sec. Users per second: 2703\n",
      "SLIMElasticNetRecommender: URM Detected 426 ( 3.4%) users with no interactions.\n",
      "SLIMElasticNetRecommender: URM Detected 344 ( 1.5%) items with no interactions.\n"
     ]
    },
    {
     "name": "stderr",
     "output_type": "stream",
     "text": [
      "100%|█████████▉| 22216/22222 [00:29<00:00, 761.92it/s] \n"
     ]
    },
    {
     "name": "stdout",
     "output_type": "stream",
     "text": [
      "EvaluatorHoldout: Processed 10030 (100.0%) in 3.89 sec. Users per second: 2580\n",
      "SLIMElasticNetRecommender: URM Detected 471 ( 3.7%) users with no interactions.\n",
      "SLIMElasticNetRecommender: URM Detected 362 ( 1.6%) items with no interactions.\n"
     ]
    },
    {
     "name": "stderr",
     "output_type": "stream",
     "text": [
      "100%|█████████▉| 22216/22222 [00:35<00:00, 625.84it/s] \n"
     ]
    },
    {
     "name": "stdout",
     "output_type": "stream",
     "text": [
      "EvaluatorHoldout: Processed 10052 (100.0%) in 4.99 sec. Users per second: 2015\n",
      "SLIMElasticNetRecommender: URM Detected 478 ( 3.8%) users with no interactions.\n",
      "SLIMElasticNetRecommender: URM Detected 329 ( 1.5%) items with no interactions.\n"
     ]
    },
    {
     "name": "stderr",
     "output_type": "stream",
     "text": [
      "100%|█████████▉| 22216/22222 [00:52<00:00, 421.84it/s]\n"
     ]
    },
    {
     "name": "stdout",
     "output_type": "stream",
     "text": [
      "EvaluatorHoldout: Processed 10045 (100.0%) in 4.60 sec. Users per second: 2186\n",
      "SLIMElasticNetRecommender: URM Detected 460 ( 3.6%) users with no interactions.\n",
      "SLIMElasticNetRecommender: URM Detected 348 ( 1.6%) items with no interactions.\n"
     ]
    },
    {
     "name": "stderr",
     "output_type": "stream",
     "text": [
      "100%|█████████▉| 22216/22222 [00:29<00:00, 752.86it/s] \n"
     ]
    },
    {
     "name": "stdout",
     "output_type": "stream",
     "text": [
      "EvaluatorHoldout: Processed 10068 (100.0%) in 3.91 sec. Users per second: 2575\n"
     ]
    },
    {
     "name": "stderr",
     "output_type": "stream",
     "text": [
      "[I 2024-01-09 23:37:55,008] Trial 34 finished with value: 0.029622827006148555 and parameters: {'alpha': 0.0006739924806288083, 'l1_ratio': 0.3169042050796306, 'topK': 8389}. Best is trial 31 with value: 0.02969295900253861.\n"
     ]
    },
    {
     "name": "stdout",
     "output_type": "stream",
     "text": [
      "SLIMElasticNetRecommender: URM Detected 508 ( 4.0%) users with no interactions.\n",
      "SLIMElasticNetRecommender: URM Detected 332 ( 1.5%) items with no interactions.\n"
     ]
    },
    {
     "name": "stderr",
     "output_type": "stream",
     "text": [
      "100%|█████████▉| 22216/22222 [00:19<00:00, 1153.04it/s]\n"
     ]
    },
    {
     "name": "stdout",
     "output_type": "stream",
     "text": [
      "EvaluatorHoldout: Processed 10057 (100.0%) in 3.27 sec. Users per second: 3073\n",
      "SLIMElasticNetRecommender: URM Detected 440 ( 3.5%) users with no interactions.\n",
      "SLIMElasticNetRecommender: URM Detected 325 ( 1.5%) items with no interactions.\n"
     ]
    },
    {
     "name": "stderr",
     "output_type": "stream",
     "text": [
      "100%|█████████▉| 22216/22222 [00:19<00:00, 1159.67it/s]\n"
     ]
    },
    {
     "name": "stdout",
     "output_type": "stream",
     "text": [
      "EvaluatorHoldout: Processed 10040 (100.0%) in 3.11 sec. Users per second: 3231\n",
      "SLIMElasticNetRecommender: URM Detected 479 ( 3.8%) users with no interactions.\n",
      "SLIMElasticNetRecommender: URM Detected 345 ( 1.6%) items with no interactions.\n"
     ]
    },
    {
     "name": "stderr",
     "output_type": "stream",
     "text": [
      "100%|█████████▉| 22216/22222 [00:21<00:00, 1050.19it/s]\n"
     ]
    },
    {
     "name": "stdout",
     "output_type": "stream",
     "text": [
      "EvaluatorHoldout: Processed 10017 (100.0%) in 4.61 sec. Users per second: 2174\n",
      "SLIMElasticNetRecommender: URM Detected 451 ( 3.6%) users with no interactions.\n",
      "SLIMElasticNetRecommender: URM Detected 311 ( 1.4%) items with no interactions.\n"
     ]
    },
    {
     "name": "stderr",
     "output_type": "stream",
     "text": [
      "100%|█████████▉| 22216/22222 [00:24<00:00, 895.41it/s] \n"
     ]
    },
    {
     "name": "stdout",
     "output_type": "stream",
     "text": [
      "EvaluatorHoldout: Processed 10037 (100.0%) in 4.77 sec. Users per second: 2103\n",
      "SLIMElasticNetRecommender: URM Detected 449 ( 3.6%) users with no interactions.\n",
      "SLIMElasticNetRecommender: URM Detected 320 ( 1.4%) items with no interactions.\n"
     ]
    },
    {
     "name": "stderr",
     "output_type": "stream",
     "text": [
      "100%|█████████▉| 22216/22222 [00:31<00:00, 702.58it/s] \n"
     ]
    },
    {
     "name": "stdout",
     "output_type": "stream",
     "text": [
      "EvaluatorHoldout: Processed 9989 (100.0%) in 3.16 sec. Users per second: 3164\n",
      "SLIMElasticNetRecommender: URM Detected 460 ( 3.6%) users with no interactions.\n",
      "SLIMElasticNetRecommender: URM Detected 328 ( 1.5%) items with no interactions.\n"
     ]
    },
    {
     "name": "stderr",
     "output_type": "stream",
     "text": [
      "100%|█████████▉| 22216/22222 [00:19<00:00, 1159.30it/s]\n"
     ]
    },
    {
     "name": "stdout",
     "output_type": "stream",
     "text": [
      "EvaluatorHoldout: Processed 10024 (100.0%) in 3.21 sec. Users per second: 3127\n",
      "SLIMElasticNetRecommender: URM Detected 426 ( 3.4%) users with no interactions.\n",
      "SLIMElasticNetRecommender: URM Detected 344 ( 1.5%) items with no interactions.\n"
     ]
    },
    {
     "name": "stderr",
     "output_type": "stream",
     "text": [
      "100%|█████████▉| 22216/22222 [00:20<00:00, 1100.60it/s]\n"
     ]
    },
    {
     "name": "stdout",
     "output_type": "stream",
     "text": [
      "EvaluatorHoldout: Processed 10030 (100.0%) in 3.15 sec. Users per second: 3184\n",
      "SLIMElasticNetRecommender: URM Detected 471 ( 3.7%) users with no interactions.\n",
      "SLIMElasticNetRecommender: URM Detected 362 ( 1.6%) items with no interactions.\n"
     ]
    },
    {
     "name": "stderr",
     "output_type": "stream",
     "text": [
      "100%|█████████▉| 22216/22222 [00:18<00:00, 1169.99it/s]\n"
     ]
    },
    {
     "name": "stdout",
     "output_type": "stream",
     "text": [
      "EvaluatorHoldout: Processed 10052 (100.0%) in 3.07 sec. Users per second: 3270\n",
      "SLIMElasticNetRecommender: URM Detected 478 ( 3.8%) users with no interactions.\n",
      "SLIMElasticNetRecommender: URM Detected 329 ( 1.5%) items with no interactions.\n"
     ]
    },
    {
     "name": "stderr",
     "output_type": "stream",
     "text": [
      "100%|█████████▉| 22216/22222 [00:20<00:00, 1110.44it/s]\n"
     ]
    },
    {
     "name": "stdout",
     "output_type": "stream",
     "text": [
      "EvaluatorHoldout: Processed 10045 (100.0%) in 3.61 sec. Users per second: 2779\n",
      "SLIMElasticNetRecommender: URM Detected 460 ( 3.6%) users with no interactions.\n",
      "SLIMElasticNetRecommender: URM Detected 348 ( 1.6%) items with no interactions.\n"
     ]
    },
    {
     "name": "stderr",
     "output_type": "stream",
     "text": [
      "100%|█████████▉| 22216/22222 [00:22<00:00, 991.85it/s] \n"
     ]
    },
    {
     "name": "stdout",
     "output_type": "stream",
     "text": [
      "EvaluatorHoldout: Processed 10068 (100.0%) in 4.34 sec. Users per second: 2322\n"
     ]
    },
    {
     "name": "stderr",
     "output_type": "stream",
     "text": [
      "[I 2024-01-09 23:42:21,544] Trial 36 finished with value: 0.028409674387556694 and parameters: {'alpha': 0.0012662101540452594, 'l1_ratio': 0.3162528512969228, 'topK': 7571}. Best is trial 31 with value: 0.02969295900253861.\n"
     ]
    },
    {
     "name": "stdout",
     "output_type": "stream",
     "text": [
      "SLIMElasticNetRecommender: URM Detected 508 ( 4.0%) users with no interactions.\n",
      "SLIMElasticNetRecommender: URM Detected 332 ( 1.5%) items with no interactions.\n"
     ]
    },
    {
     "name": "stderr",
     "output_type": "stream",
     "text": [
      "100%|█████████▉| 22216/22222 [00:29<00:00, 753.07it/s] \n"
     ]
    },
    {
     "name": "stdout",
     "output_type": "stream",
     "text": [
      "EvaluatorHoldout: Processed 10057 (100.0%) in 3.58 sec. Users per second: 2813\n",
      "SLIMElasticNetRecommender: URM Detected 440 ( 3.5%) users with no interactions.\n",
      "SLIMElasticNetRecommender: URM Detected 325 ( 1.5%) items with no interactions.\n"
     ]
    },
    {
     "name": "stderr",
     "output_type": "stream",
     "text": [
      "100%|█████████▉| 22216/22222 [00:17<00:00, 1256.94it/s]\n"
     ]
    },
    {
     "name": "stdout",
     "output_type": "stream",
     "text": [
      "EvaluatorHoldout: Processed 10040 (100.0%) in 3.32 sec. Users per second: 3020\n",
      "SLIMElasticNetRecommender: URM Detected 479 ( 3.8%) users with no interactions.\n",
      "SLIMElasticNetRecommender: URM Detected 345 ( 1.6%) items with no interactions.\n"
     ]
    },
    {
     "name": "stderr",
     "output_type": "stream",
     "text": [
      "100%|█████████▉| 22216/22222 [00:17<00:00, 1274.56it/s]\n"
     ]
    },
    {
     "name": "stdout",
     "output_type": "stream",
     "text": [
      "EvaluatorHoldout: Processed 10017 (100.0%) in 2.88 sec. Users per second: 3479\n",
      "SLIMElasticNetRecommender: URM Detected 451 ( 3.6%) users with no interactions.\n",
      "SLIMElasticNetRecommender: URM Detected 311 ( 1.4%) items with no interactions.\n"
     ]
    },
    {
     "name": "stderr",
     "output_type": "stream",
     "text": [
      "100%|█████████▉| 22216/22222 [00:16<00:00, 1354.70it/s]\n"
     ]
    },
    {
     "name": "stdout",
     "output_type": "stream",
     "text": [
      "EvaluatorHoldout: Processed 10037 (100.0%) in 2.80 sec. Users per second: 3585\n",
      "SLIMElasticNetRecommender: URM Detected 449 ( 3.6%) users with no interactions.\n",
      "SLIMElasticNetRecommender: URM Detected 320 ( 1.4%) items with no interactions.\n"
     ]
    },
    {
     "name": "stderr",
     "output_type": "stream",
     "text": [
      "100%|█████████▉| 22216/22222 [00:16<00:00, 1361.71it/s]\n"
     ]
    },
    {
     "name": "stdout",
     "output_type": "stream",
     "text": [
      "EvaluatorHoldout: Processed 9989 (100.0%) in 2.90 sec. Users per second: 3442\n",
      "SLIMElasticNetRecommender: URM Detected 460 ( 3.6%) users with no interactions.\n",
      "SLIMElasticNetRecommender: URM Detected 328 ( 1.5%) items with no interactions.\n"
     ]
    },
    {
     "name": "stderr",
     "output_type": "stream",
     "text": [
      "100%|█████████▉| 22216/22222 [00:17<00:00, 1304.82it/s]\n"
     ]
    },
    {
     "name": "stdout",
     "output_type": "stream",
     "text": [
      "EvaluatorHoldout: Processed 10024 (100.0%) in 2.82 sec. Users per second: 3550\n",
      "SLIMElasticNetRecommender: URM Detected 426 ( 3.4%) users with no interactions.\n",
      "SLIMElasticNetRecommender: URM Detected 344 ( 1.5%) items with no interactions.\n"
     ]
    },
    {
     "name": "stderr",
     "output_type": "stream",
     "text": [
      "100%|█████████▉| 22216/22222 [00:16<00:00, 1334.65it/s]\n"
     ]
    },
    {
     "name": "stdout",
     "output_type": "stream",
     "text": [
      "EvaluatorHoldout: Processed 10030 (100.0%) in 2.92 sec. Users per second: 3440\n",
      "SLIMElasticNetRecommender: URM Detected 471 ( 3.7%) users with no interactions.\n",
      "SLIMElasticNetRecommender: URM Detected 362 ( 1.6%) items with no interactions.\n"
     ]
    },
    {
     "name": "stderr",
     "output_type": "stream",
     "text": [
      "100%|█████████▉| 22216/22222 [00:19<00:00, 1153.19it/s]\n"
     ]
    },
    {
     "name": "stdout",
     "output_type": "stream",
     "text": [
      "EvaluatorHoldout: Processed 10052 (100.0%) in 3.73 sec. Users per second: 2693\n",
      "SLIMElasticNetRecommender: URM Detected 478 ( 3.8%) users with no interactions.\n",
      "SLIMElasticNetRecommender: URM Detected 329 ( 1.5%) items with no interactions.\n"
     ]
    },
    {
     "name": "stderr",
     "output_type": "stream",
     "text": [
      "100%|█████████▉| 22216/22222 [00:19<00:00, 1116.85it/s]\n"
     ]
    },
    {
     "name": "stdout",
     "output_type": "stream",
     "text": [
      "EvaluatorHoldout: Processed 10045 (100.0%) in 4.13 sec. Users per second: 2434\n",
      "SLIMElasticNetRecommender: URM Detected 460 ( 3.6%) users with no interactions.\n",
      "SLIMElasticNetRecommender: URM Detected 348 ( 1.6%) items with no interactions.\n"
     ]
    },
    {
     "name": "stderr",
     "output_type": "stream",
     "text": [
      "100%|█████████▉| 22216/22222 [00:28<00:00, 766.72it/s] \n"
     ]
    },
    {
     "name": "stdout",
     "output_type": "stream",
     "text": [
      "EvaluatorHoldout: Processed 10068 (100.0%) in 2.70 sec. Users per second: 3725\n"
     ]
    },
    {
     "name": "stderr",
     "output_type": "stream",
     "text": [
      "[I 2024-01-09 23:46:25,755] Trial 40 finished with value: 0.026307645009798087 and parameters: {'alpha': 0.002292226980832568, 'l1_ratio': 0.32961822012533404, 'topK': 8571}. Best is trial 31 with value: 0.02969295900253861.\n"
     ]
    },
    {
     "name": "stdout",
     "output_type": "stream",
     "text": [
      "SLIMElasticNetRecommender: URM Detected 508 ( 4.0%) users with no interactions.\n",
      "SLIMElasticNetRecommender: URM Detected 332 ( 1.5%) items with no interactions.\n"
     ]
    },
    {
     "name": "stderr",
     "output_type": "stream",
     "text": [
      "100%|█████████▉| 22216/22222 [00:19<00:00, 1146.57it/s]\n"
     ]
    },
    {
     "name": "stdout",
     "output_type": "stream",
     "text": [
      "EvaluatorHoldout: Processed 10057 (100.0%) in 2.87 sec. Users per second: 3503\n",
      "SLIMElasticNetRecommender: URM Detected 440 ( 3.5%) users with no interactions.\n",
      "SLIMElasticNetRecommender: URM Detected 325 ( 1.5%) items with no interactions.\n"
     ]
    },
    {
     "name": "stderr",
     "output_type": "stream",
     "text": [
      "100%|█████████▉| 22216/22222 [00:20<00:00, 1109.94it/s]\n"
     ]
    },
    {
     "name": "stdout",
     "output_type": "stream",
     "text": [
      "EvaluatorHoldout: Processed 10040 (100.0%) in 3.15 sec. Users per second: 3185\n",
      "SLIMElasticNetRecommender: URM Detected 479 ( 3.8%) users with no interactions.\n",
      "SLIMElasticNetRecommender: URM Detected 345 ( 1.6%) items with no interactions.\n"
     ]
    },
    {
     "name": "stderr",
     "output_type": "stream",
     "text": [
      "100%|█████████▉| 22216/22222 [00:20<00:00, 1064.28it/s]\n"
     ]
    },
    {
     "name": "stdout",
     "output_type": "stream",
     "text": [
      "EvaluatorHoldout: Processed 10017 (100.0%) in 3.06 sec. Users per second: 3278\n",
      "SLIMElasticNetRecommender: URM Detected 451 ( 3.6%) users with no interactions.\n",
      "SLIMElasticNetRecommender: URM Detected 311 ( 1.4%) items with no interactions.\n"
     ]
    },
    {
     "name": "stderr",
     "output_type": "stream",
     "text": [
      "100%|█████████▉| 22216/22222 [00:20<00:00, 1100.57it/s]\n"
     ]
    },
    {
     "name": "stdout",
     "output_type": "stream",
     "text": [
      "EvaluatorHoldout: Processed 10037 (100.0%) in 3.17 sec. Users per second: 3164\n",
      "SLIMElasticNetRecommender: URM Detected 449 ( 3.6%) users with no interactions.\n",
      "SLIMElasticNetRecommender: URM Detected 320 ( 1.4%) items with no interactions.\n"
     ]
    },
    {
     "name": "stderr",
     "output_type": "stream",
     "text": [
      "100%|█████████▉| 22216/22222 [00:21<00:00, 1023.54it/s]\n"
     ]
    },
    {
     "name": "stdout",
     "output_type": "stream",
     "text": [
      "EvaluatorHoldout: Processed 9989 (100.0%) in 4.57 sec. Users per second: 2185\n",
      "SLIMElasticNetRecommender: URM Detected 460 ( 3.6%) users with no interactions.\n",
      "SLIMElasticNetRecommender: URM Detected 328 ( 1.5%) items with no interactions.\n"
     ]
    },
    {
     "name": "stderr",
     "output_type": "stream",
     "text": [
      "100%|█████████▉| 22216/22222 [00:25<00:00, 877.58it/s] \n"
     ]
    },
    {
     "name": "stdout",
     "output_type": "stream",
     "text": [
      "EvaluatorHoldout: Processed 10024 (100.0%) in 4.29 sec. Users per second: 2339\n",
      "SLIMElasticNetRecommender: URM Detected 426 ( 3.4%) users with no interactions.\n",
      "SLIMElasticNetRecommender: URM Detected 344 ( 1.5%) items with no interactions.\n"
     ]
    },
    {
     "name": "stderr",
     "output_type": "stream",
     "text": [
      "100%|█████████▉| 22216/22222 [00:34<00:00, 636.60it/s] \n"
     ]
    },
    {
     "name": "stdout",
     "output_type": "stream",
     "text": [
      "EvaluatorHoldout: Processed 10030 (100.0%) in 3.93 sec. Users per second: 2554\n",
      "SLIMElasticNetRecommender: URM Detected 471 ( 3.7%) users with no interactions.\n",
      "SLIMElasticNetRecommender: URM Detected 362 ( 1.6%) items with no interactions.\n"
     ]
    },
    {
     "name": "stderr",
     "output_type": "stream",
     "text": [
      "100%|█████████▉| 22216/22222 [00:19<00:00, 1158.69it/s]\n"
     ]
    },
    {
     "name": "stdout",
     "output_type": "stream",
     "text": [
      "EvaluatorHoldout: Processed 10052 (100.0%) in 3.03 sec. Users per second: 3317\n",
      "SLIMElasticNetRecommender: URM Detected 478 ( 3.8%) users with no interactions.\n",
      "SLIMElasticNetRecommender: URM Detected 329 ( 1.5%) items with no interactions.\n"
     ]
    },
    {
     "name": "stderr",
     "output_type": "stream",
     "text": [
      "100%|█████████▉| 22216/22222 [00:19<00:00, 1143.88it/s]\n"
     ]
    },
    {
     "name": "stdout",
     "output_type": "stream",
     "text": [
      "EvaluatorHoldout: Processed 10045 (100.0%) in 3.11 sec. Users per second: 3228\n",
      "SLIMElasticNetRecommender: URM Detected 460 ( 3.6%) users with no interactions.\n",
      "SLIMElasticNetRecommender: URM Detected 348 ( 1.6%) items with no interactions.\n"
     ]
    },
    {
     "name": "stderr",
     "output_type": "stream",
     "text": [
      "100%|█████████▉| 22216/22222 [00:19<00:00, 1125.87it/s]\n"
     ]
    },
    {
     "name": "stdout",
     "output_type": "stream",
     "text": [
      "EvaluatorHoldout: Processed 10068 (100.0%) in 3.46 sec. Users per second: 2910\n"
     ]
    },
    {
     "name": "stderr",
     "output_type": "stream",
     "text": [
      "[I 2024-01-09 23:50:54,404] Trial 41 finished with value: 0.02868398156861498 and parameters: {'alpha': 0.000846814543673479, 'l1_ratio': 0.44841999880825606, 'topK': 8450}. Best is trial 31 with value: 0.02969295900253861.\n"
     ]
    },
    {
     "name": "stdout",
     "output_type": "stream",
     "text": [
      "SLIMElasticNetRecommender: URM Detected 508 ( 4.0%) users with no interactions.\n",
      "SLIMElasticNetRecommender: URM Detected 332 ( 1.5%) items with no interactions.\n"
     ]
    },
    {
     "name": "stderr",
     "output_type": "stream",
     "text": [
      "100%|█████████▉| 22216/22222 [00:16<00:00, 1308.80it/s]\n"
     ]
    },
    {
     "name": "stdout",
     "output_type": "stream",
     "text": [
      "EvaluatorHoldout: Processed 10057 (100.0%) in 2.88 sec. Users per second: 3491\n",
      "SLIMElasticNetRecommender: URM Detected 440 ( 3.5%) users with no interactions.\n",
      "SLIMElasticNetRecommender: URM Detected 325 ( 1.5%) items with no interactions.\n"
     ]
    },
    {
     "name": "stderr",
     "output_type": "stream",
     "text": [
      "100%|█████████▉| 22216/22222 [00:17<00:00, 1269.21it/s]\n"
     ]
    },
    {
     "name": "stdout",
     "output_type": "stream",
     "text": [
      "EvaluatorHoldout: Processed 10040 (100.0%) in 3.39 sec. Users per second: 2960\n",
      "SLIMElasticNetRecommender: URM Detected 479 ( 3.8%) users with no interactions.\n",
      "SLIMElasticNetRecommender: URM Detected 345 ( 1.6%) items with no interactions.\n"
     ]
    },
    {
     "name": "stderr",
     "output_type": "stream",
     "text": [
      "100%|█████████▉| 22216/22222 [00:20<00:00, 1063.17it/s]\n"
     ]
    },
    {
     "name": "stdout",
     "output_type": "stream",
     "text": [
      "EvaluatorHoldout: Processed 10017 (100.0%) in 4.75 sec. Users per second: 2110\n",
      "SLIMElasticNetRecommender: URM Detected 451 ( 3.6%) users with no interactions.\n",
      "SLIMElasticNetRecommender: URM Detected 311 ( 1.4%) items with no interactions.\n"
     ]
    },
    {
     "name": "stderr",
     "output_type": "stream",
     "text": [
      "100%|█████████▉| 22216/22222 [00:28<00:00, 783.67it/s] \n"
     ]
    },
    {
     "name": "stdout",
     "output_type": "stream",
     "text": [
      "EvaluatorHoldout: Processed 10037 (100.0%) in 5.72 sec. Users per second: 1756\n",
      "SLIMElasticNetRecommender: URM Detected 449 ( 3.6%) users with no interactions.\n",
      "SLIMElasticNetRecommender: URM Detected 320 ( 1.4%) items with no interactions.\n"
     ]
    },
    {
     "name": "stderr",
     "output_type": "stream",
     "text": [
      "100%|█████████▉| 22216/22222 [00:33<00:00, 653.79it/s] \n"
     ]
    },
    {
     "name": "stdout",
     "output_type": "stream",
     "text": [
      "EvaluatorHoldout: Processed 9989 (100.0%) in 5.21 sec. Users per second: 1916\n",
      "SLIMElasticNetRecommender: URM Detected 460 ( 3.6%) users with no interactions.\n",
      "SLIMElasticNetRecommender: URM Detected 328 ( 1.5%) items with no interactions.\n"
     ]
    },
    {
     "name": "stderr",
     "output_type": "stream",
     "text": [
      "100%|█████████▉| 22216/22222 [00:17<00:00, 1280.30it/s]\n"
     ]
    },
    {
     "name": "stdout",
     "output_type": "stream",
     "text": [
      "EvaluatorHoldout: Processed 10024 (100.0%) in 2.66 sec. Users per second: 3770\n",
      "SLIMElasticNetRecommender: URM Detected 426 ( 3.4%) users with no interactions.\n",
      "SLIMElasticNetRecommender: URM Detected 344 ( 1.5%) items with no interactions.\n"
     ]
    },
    {
     "name": "stderr",
     "output_type": "stream",
     "text": [
      "100%|█████████▉| 22216/22222 [00:17<00:00, 1267.65it/s]\n"
     ]
    },
    {
     "name": "stdout",
     "output_type": "stream",
     "text": [
      "EvaluatorHoldout: Processed 10030 (100.0%) in 3.12 sec. Users per second: 3219\n",
      "SLIMElasticNetRecommender: URM Detected 471 ( 3.7%) users with no interactions.\n",
      "SLIMElasticNetRecommender: URM Detected 362 ( 1.6%) items with no interactions.\n"
     ]
    },
    {
     "name": "stderr",
     "output_type": "stream",
     "text": [
      "100%|█████████▉| 22216/22222 [00:17<00:00, 1250.86it/s]\n"
     ]
    },
    {
     "name": "stdout",
     "output_type": "stream",
     "text": [
      "EvaluatorHoldout: Processed 10052 (100.0%) in 2.74 sec. Users per second: 3668\n",
      "SLIMElasticNetRecommender: URM Detected 478 ( 3.8%) users with no interactions.\n",
      "SLIMElasticNetRecommender: URM Detected 329 ( 1.5%) items with no interactions.\n"
     ]
    },
    {
     "name": "stderr",
     "output_type": "stream",
     "text": [
      "100%|█████████▉| 22216/22222 [00:17<00:00, 1299.73it/s]\n"
     ]
    },
    {
     "name": "stdout",
     "output_type": "stream",
     "text": [
      "EvaluatorHoldout: Processed 10045 (100.0%) in 3.03 sec. Users per second: 3314\n",
      "SLIMElasticNetRecommender: URM Detected 460 ( 3.6%) users with no interactions.\n",
      "SLIMElasticNetRecommender: URM Detected 348 ( 1.6%) items with no interactions.\n"
     ]
    },
    {
     "name": "stderr",
     "output_type": "stream",
     "text": [
      "100%|█████████▉| 22216/22222 [00:16<00:00, 1316.20it/s]\n"
     ]
    },
    {
     "name": "stdout",
     "output_type": "stream",
     "text": [
      "EvaluatorHoldout: Processed 10068 (100.0%) in 2.66 sec. Users per second: 3778\n"
     ]
    },
    {
     "name": "stderr",
     "output_type": "stream",
     "text": [
      "[I 2024-01-09 23:55:08,161] Trial 42 finished with value: 0.02724967396304399 and parameters: {'alpha': 0.001467058338350646, 'l1_ratio': 0.4130539259222915, 'topK': 7191}. Best is trial 31 with value: 0.02969295900253861.\n"
     ]
    },
    {
     "name": "stdout",
     "output_type": "stream",
     "text": [
      "SLIMElasticNetRecommender: URM Detected 508 ( 4.0%) users with no interactions.\n",
      "SLIMElasticNetRecommender: URM Detected 332 ( 1.5%) items with no interactions.\n"
     ]
    },
    {
     "name": "stderr",
     "output_type": "stream",
     "text": [
      "100%|█████████▉| 22216/22222 [00:26<00:00, 834.41it/s] \n"
     ]
    },
    {
     "name": "stdout",
     "output_type": "stream",
     "text": [
      "EvaluatorHoldout: Processed 10057 (100.0%) in 4.12 sec. Users per second: 2440\n",
      "SLIMElasticNetRecommender: URM Detected 440 ( 3.5%) users with no interactions.\n",
      "SLIMElasticNetRecommender: URM Detected 325 ( 1.5%) items with no interactions.\n"
     ]
    },
    {
     "name": "stderr",
     "output_type": "stream",
     "text": [
      "100%|█████████▉| 22216/22222 [00:38<00:00, 574.72it/s] \n"
     ]
    },
    {
     "name": "stdout",
     "output_type": "stream",
     "text": [
      "EvaluatorHoldout: Processed 10040 (100.0%) in 6.06 sec. Users per second: 1656\n",
      "SLIMElasticNetRecommender: URM Detected 479 ( 3.8%) users with no interactions.\n",
      "SLIMElasticNetRecommender: URM Detected 345 ( 1.6%) items with no interactions.\n"
     ]
    },
    {
     "name": "stderr",
     "output_type": "stream",
     "text": [
      "100%|█████████▉| 22216/22222 [00:22<00:00, 979.99it/s] \n"
     ]
    },
    {
     "name": "stdout",
     "output_type": "stream",
     "text": [
      "EvaluatorHoldout: Processed 10017 (100.0%) in 3.34 sec. Users per second: 3002\n",
      "SLIMElasticNetRecommender: URM Detected 451 ( 3.6%) users with no interactions.\n",
      "SLIMElasticNetRecommender: URM Detected 311 ( 1.4%) items with no interactions.\n"
     ]
    },
    {
     "name": "stderr",
     "output_type": "stream",
     "text": [
      "100%|█████████▉| 22216/22222 [00:22<00:00, 968.41it/s] \n"
     ]
    },
    {
     "name": "stdout",
     "output_type": "stream",
     "text": [
      "EvaluatorHoldout: Processed 10037 (100.0%) in 3.44 sec. Users per second: 2920\n",
      "SLIMElasticNetRecommender: URM Detected 449 ( 3.6%) users with no interactions.\n",
      "SLIMElasticNetRecommender: URM Detected 320 ( 1.4%) items with no interactions.\n"
     ]
    },
    {
     "name": "stderr",
     "output_type": "stream",
     "text": [
      "100%|█████████▉| 22216/22222 [00:23<00:00, 948.29it/s] \n"
     ]
    },
    {
     "name": "stdout",
     "output_type": "stream",
     "text": [
      "EvaluatorHoldout: Processed 9989 (100.0%) in 3.51 sec. Users per second: 2847\n",
      "SLIMElasticNetRecommender: URM Detected 460 ( 3.6%) users with no interactions.\n",
      "SLIMElasticNetRecommender: URM Detected 328 ( 1.5%) items with no interactions.\n"
     ]
    },
    {
     "name": "stderr",
     "output_type": "stream",
     "text": [
      "100%|█████████▉| 22216/22222 [00:22<00:00, 971.02it/s] \n"
     ]
    },
    {
     "name": "stdout",
     "output_type": "stream",
     "text": [
      "EvaluatorHoldout: Processed 10024 (100.0%) in 3.26 sec. Users per second: 3075\n",
      "SLIMElasticNetRecommender: URM Detected 426 ( 3.4%) users with no interactions.\n",
      "SLIMElasticNetRecommender: URM Detected 344 ( 1.5%) items with no interactions.\n"
     ]
    },
    {
     "name": "stderr",
     "output_type": "stream",
     "text": [
      "100%|█████████▉| 22216/22222 [00:25<00:00, 878.08it/s] \n"
     ]
    },
    {
     "name": "stdout",
     "output_type": "stream",
     "text": [
      "EvaluatorHoldout: Processed 10030 (100.0%) in 4.17 sec. Users per second: 2405\n",
      "SLIMElasticNetRecommender: URM Detected 471 ( 3.7%) users with no interactions.\n",
      "SLIMElasticNetRecommender: URM Detected 362 ( 1.6%) items with no interactions.\n"
     ]
    },
    {
     "name": "stderr",
     "output_type": "stream",
     "text": [
      "100%|█████████▉| 22216/22222 [00:29<00:00, 763.77it/s] \n"
     ]
    },
    {
     "name": "stdout",
     "output_type": "stream",
     "text": [
      "EvaluatorHoldout: Processed 10052 (100.0%) in 4.55 sec. Users per second: 2211\n",
      "SLIMElasticNetRecommender: URM Detected 478 ( 3.8%) users with no interactions.\n",
      "SLIMElasticNetRecommender: URM Detected 329 ( 1.5%) items with no interactions.\n"
     ]
    },
    {
     "name": "stderr",
     "output_type": "stream",
     "text": [
      "100%|█████████▉| 22216/22222 [00:39<00:00, 560.59it/s] \n"
     ]
    },
    {
     "name": "stdout",
     "output_type": "stream",
     "text": [
      "EvaluatorHoldout: Processed 10045 (100.0%) in 4.49 sec. Users per second: 2235\n",
      "SLIMElasticNetRecommender: URM Detected 460 ( 3.6%) users with no interactions.\n",
      "SLIMElasticNetRecommender: URM Detected 348 ( 1.6%) items with no interactions.\n"
     ]
    },
    {
     "name": "stderr",
     "output_type": "stream",
     "text": [
      "100%|█████████▉| 22216/22222 [00:23<00:00, 937.10it/s] \n"
     ]
    },
    {
     "name": "stdout",
     "output_type": "stream",
     "text": [
      "EvaluatorHoldout: Processed 10068 (100.0%) in 3.55 sec. Users per second: 2839\n"
     ]
    },
    {
     "name": "stderr",
     "output_type": "stream",
     "text": [
      "[I 2024-01-10 00:00:36,675] Trial 44 finished with value: 0.02951838465741962 and parameters: {'alpha': 0.0006256441512707562, 'l1_ratio': 0.3879516967265043, 'topK': 9006}. Best is trial 31 with value: 0.02969295900253861.\n"
     ]
    },
    {
     "name": "stdout",
     "output_type": "stream",
     "text": [
      "SLIMElasticNetRecommender: URM Detected 508 ( 4.0%) users with no interactions.\n",
      "SLIMElasticNetRecommender: URM Detected 332 ( 1.5%) items with no interactions.\n"
     ]
    },
    {
     "name": "stderr",
     "output_type": "stream",
     "text": [
      "100%|█████████▉| 22216/22222 [00:25<00:00, 854.69it/s] \n"
     ]
    },
    {
     "name": "stdout",
     "output_type": "stream",
     "text": [
      "EvaluatorHoldout: Processed 10057 (100.0%) in 3.35 sec. Users per second: 3004\n",
      "SLIMElasticNetRecommender: URM Detected 440 ( 3.5%) users with no interactions.\n",
      "SLIMElasticNetRecommender: URM Detected 325 ( 1.5%) items with no interactions.\n"
     ]
    },
    {
     "name": "stderr",
     "output_type": "stream",
     "text": [
      "100%|█████████▉| 22216/22222 [00:26<00:00, 831.06it/s] \n"
     ]
    },
    {
     "name": "stdout",
     "output_type": "stream",
     "text": [
      "EvaluatorHoldout: Processed 10040 (100.0%) in 3.83 sec. Users per second: 2622\n",
      "SLIMElasticNetRecommender: URM Detected 479 ( 3.8%) users with no interactions.\n",
      "SLIMElasticNetRecommender: URM Detected 345 ( 1.6%) items with no interactions.\n"
     ]
    },
    {
     "name": "stderr",
     "output_type": "stream",
     "text": [
      "100%|█████████▉| 22216/22222 [00:30<00:00, 730.60it/s] \n"
     ]
    },
    {
     "name": "stdout",
     "output_type": "stream",
     "text": [
      "EvaluatorHoldout: Processed 10017 (100.0%) in 4.53 sec. Users per second: 2211\n",
      "SLIMElasticNetRecommender: URM Detected 451 ( 3.6%) users with no interactions.\n",
      "SLIMElasticNetRecommender: URM Detected 311 ( 1.4%) items with no interactions.\n"
     ]
    },
    {
     "name": "stderr",
     "output_type": "stream",
     "text": [
      "100%|█████████▉| 22216/22222 [00:38<00:00, 570.36it/s] \n"
     ]
    },
    {
     "name": "stdout",
     "output_type": "stream",
     "text": [
      "EvaluatorHoldout: Processed 10037 (100.0%) in 5.37 sec. Users per second: 1869\n",
      "SLIMElasticNetRecommender: URM Detected 449 ( 3.6%) users with no interactions.\n",
      "SLIMElasticNetRecommender: URM Detected 320 ( 1.4%) items with no interactions.\n"
     ]
    },
    {
     "name": "stderr",
     "output_type": "stream",
     "text": [
      "100%|█████████▉| 22216/22222 [00:28<00:00, 787.71it/s] \n"
     ]
    },
    {
     "name": "stdout",
     "output_type": "stream",
     "text": [
      "EvaluatorHoldout: Processed 9989 (100.0%) in 3.86 sec. Users per second: 2588\n",
      "SLIMElasticNetRecommender: URM Detected 460 ( 3.6%) users with no interactions.\n",
      "SLIMElasticNetRecommender: URM Detected 328 ( 1.5%) items with no interactions.\n"
     ]
    },
    {
     "name": "stderr",
     "output_type": "stream",
     "text": [
      "100%|█████████▉| 22216/22222 [00:27<00:00, 807.11it/s] \n"
     ]
    },
    {
     "name": "stdout",
     "output_type": "stream",
     "text": [
      "EvaluatorHoldout: Processed 10024 (100.0%) in 3.48 sec. Users per second: 2877\n",
      "SLIMElasticNetRecommender: URM Detected 426 ( 3.4%) users with no interactions.\n",
      "SLIMElasticNetRecommender: URM Detected 344 ( 1.5%) items with no interactions.\n"
     ]
    },
    {
     "name": "stderr",
     "output_type": "stream",
     "text": [
      "100%|█████████▉| 22216/22222 [00:27<00:00, 796.15it/s] \n"
     ]
    },
    {
     "name": "stdout",
     "output_type": "stream",
     "text": [
      "EvaluatorHoldout: Processed 10030 (100.0%) in 3.73 sec. Users per second: 2686\n",
      "SLIMElasticNetRecommender: URM Detected 471 ( 3.7%) users with no interactions.\n",
      "SLIMElasticNetRecommender: URM Detected 362 ( 1.6%) items with no interactions.\n"
     ]
    },
    {
     "name": "stderr",
     "output_type": "stream",
     "text": [
      "100%|█████████▉| 22216/22222 [00:28<00:00, 785.90it/s] \n"
     ]
    },
    {
     "name": "stdout",
     "output_type": "stream",
     "text": [
      "EvaluatorHoldout: Processed 10052 (100.0%) in 3.66 sec. Users per second: 2750\n",
      "SLIMElasticNetRecommender: URM Detected 478 ( 3.8%) users with no interactions.\n",
      "SLIMElasticNetRecommender: URM Detected 329 ( 1.5%) items with no interactions.\n"
     ]
    },
    {
     "name": "stderr",
     "output_type": "stream",
     "text": [
      "100%|█████████▉| 22216/22222 [00:33<00:00, 655.77it/s] \n"
     ]
    },
    {
     "name": "stdout",
     "output_type": "stream",
     "text": [
      "EvaluatorHoldout: Processed 10045 (100.0%) in 4.26 sec. Users per second: 2359\n",
      "SLIMElasticNetRecommender: URM Detected 460 ( 3.6%) users with no interactions.\n",
      "SLIMElasticNetRecommender: URM Detected 348 ( 1.6%) items with no interactions.\n"
     ]
    },
    {
     "name": "stderr",
     "output_type": "stream",
     "text": [
      "100%|█████████▉| 22216/22222 [00:50<00:00, 440.87it/s]\n"
     ]
    },
    {
     "name": "stdout",
     "output_type": "stream",
     "text": [
      "EvaluatorHoldout: Processed 10068 (100.0%) in 6.20 sec. Users per second: 1625\n"
     ]
    },
    {
     "name": "stderr",
     "output_type": "stream",
     "text": [
      "[I 2024-01-10 00:06:50,517] Trial 47 finished with value: 0.029631185269476494 and parameters: {'alpha': 0.0005596171483463865, 'l1_ratio': 0.3825038794890858, 'topK': 9032}. Best is trial 31 with value: 0.02969295900253861.\n"
     ]
    },
    {
     "name": "stdout",
     "output_type": "stream",
     "text": [
      "SLIMElasticNetRecommender: URM Detected 508 ( 4.0%) users with no interactions.\n",
      "SLIMElasticNetRecommender: URM Detected 332 ( 1.5%) items with no interactions.\n"
     ]
    },
    {
     "name": "stderr",
     "output_type": "stream",
     "text": [
      "100%|█████████▉| 22216/22222 [00:16<00:00, 1356.83it/s]\n"
     ]
    },
    {
     "name": "stdout",
     "output_type": "stream",
     "text": [
      "EvaluatorHoldout: Processed 10057 (100.0%) in 2.85 sec. Users per second: 3534\n",
      "SLIMElasticNetRecommender: URM Detected 440 ( 3.5%) users with no interactions.\n",
      "SLIMElasticNetRecommender: URM Detected 325 ( 1.5%) items with no interactions.\n"
     ]
    },
    {
     "name": "stderr",
     "output_type": "stream",
     "text": [
      "100%|█████████▉| 22216/22222 [00:16<00:00, 1386.76it/s]\n"
     ]
    },
    {
     "name": "stdout",
     "output_type": "stream",
     "text": [
      "EvaluatorHoldout: Processed 10040 (100.0%) in 3.01 sec. Users per second: 3334\n",
      "SLIMElasticNetRecommender: URM Detected 479 ( 3.8%) users with no interactions.\n",
      "SLIMElasticNetRecommender: URM Detected 345 ( 1.6%) items with no interactions.\n"
     ]
    },
    {
     "name": "stderr",
     "output_type": "stream",
     "text": [
      "100%|█████████▉| 22216/22222 [00:16<00:00, 1316.47it/s]\n"
     ]
    },
    {
     "name": "stdout",
     "output_type": "stream",
     "text": [
      "EvaluatorHoldout: Processed 10017 (100.0%) in 3.06 sec. Users per second: 3272\n",
      "SLIMElasticNetRecommender: URM Detected 451 ( 3.6%) users with no interactions.\n",
      "SLIMElasticNetRecommender: URM Detected 311 ( 1.4%) items with no interactions.\n"
     ]
    },
    {
     "name": "stderr",
     "output_type": "stream",
     "text": [
      "100%|█████████▉| 22216/22222 [00:16<00:00, 1323.34it/s]\n"
     ]
    },
    {
     "name": "stdout",
     "output_type": "stream",
     "text": [
      "EvaluatorHoldout: Processed 10037 (100.0%) in 2.88 sec. Users per second: 3484\n",
      "SLIMElasticNetRecommender: URM Detected 449 ( 3.6%) users with no interactions.\n",
      "SLIMElasticNetRecommender: URM Detected 320 ( 1.4%) items with no interactions.\n"
     ]
    },
    {
     "name": "stderr",
     "output_type": "stream",
     "text": [
      "100%|█████████▉| 22216/22222 [00:18<00:00, 1209.77it/s]\n"
     ]
    },
    {
     "name": "stdout",
     "output_type": "stream",
     "text": [
      "EvaluatorHoldout: Processed 9989 (100.0%) in 2.86 sec. Users per second: 3487\n",
      "SLIMElasticNetRecommender: URM Detected 460 ( 3.6%) users with no interactions.\n",
      "SLIMElasticNetRecommender: URM Detected 328 ( 1.5%) items with no interactions.\n"
     ]
    },
    {
     "name": "stderr",
     "output_type": "stream",
     "text": [
      "100%|█████████▉| 22216/22222 [00:16<00:00, 1356.68it/s]\n"
     ]
    },
    {
     "name": "stdout",
     "output_type": "stream",
     "text": [
      "EvaluatorHoldout: Processed 10024 (100.0%) in 2.76 sec. Users per second: 3631\n",
      "SLIMElasticNetRecommender: URM Detected 426 ( 3.4%) users with no interactions.\n",
      "SLIMElasticNetRecommender: URM Detected 344 ( 1.5%) items with no interactions.\n"
     ]
    },
    {
     "name": "stderr",
     "output_type": "stream",
     "text": [
      "100%|█████████▉| 22216/22222 [00:20<00:00, 1090.27it/s]\n"
     ]
    },
    {
     "name": "stdout",
     "output_type": "stream",
     "text": [
      "EvaluatorHoldout: Processed 10030 (100.0%) in 4.06 sec. Users per second: 2468\n",
      "SLIMElasticNetRecommender: URM Detected 471 ( 3.7%) users with no interactions.\n",
      "SLIMElasticNetRecommender: URM Detected 362 ( 1.6%) items with no interactions.\n"
     ]
    },
    {
     "name": "stderr",
     "output_type": "stream",
     "text": [
      "100%|█████████▉| 22216/22222 [00:22<00:00, 980.14it/s] \n"
     ]
    },
    {
     "name": "stdout",
     "output_type": "stream",
     "text": [
      "EvaluatorHoldout: Processed 10052 (100.0%) in 4.20 sec. Users per second: 2392\n",
      "SLIMElasticNetRecommender: URM Detected 478 ( 3.8%) users with no interactions.\n",
      "SLIMElasticNetRecommender: URM Detected 329 ( 1.5%) items with no interactions.\n"
     ]
    },
    {
     "name": "stderr",
     "output_type": "stream",
     "text": [
      "100%|█████████▉| 22216/22222 [00:30<00:00, 733.20it/s] \n"
     ]
    },
    {
     "name": "stdout",
     "output_type": "stream",
     "text": [
      "EvaluatorHoldout: Processed 10045 (100.0%) in 4.85 sec. Users per second: 2073\n",
      "SLIMElasticNetRecommender: URM Detected 460 ( 3.6%) users with no interactions.\n",
      "SLIMElasticNetRecommender: URM Detected 348 ( 1.6%) items with no interactions.\n"
     ]
    },
    {
     "name": "stderr",
     "output_type": "stream",
     "text": [
      "100%|█████████▉| 22216/22222 [00:32<00:00, 677.87it/s] \n"
     ]
    },
    {
     "name": "stdout",
     "output_type": "stream",
     "text": [
      "EvaluatorHoldout: Processed 10068 (100.0%) in 5.66 sec. Users per second: 1780\n"
     ]
    },
    {
     "name": "stderr",
     "output_type": "stream",
     "text": [
      "[I 2024-01-10 00:11:07,257] Trial 49 finished with value: 0.025717791860373214 and parameters: {'alpha': 0.002281069332909552, 'l1_ratio': 0.39316097063216465, 'topK': 9008}. Best is trial 31 with value: 0.02969295900253861.\n"
     ]
    },
    {
     "name": "stdout",
     "output_type": "stream",
     "text": [
      "SLIMElasticNetRecommender: URM Detected 508 ( 4.0%) users with no interactions.\n",
      "SLIMElasticNetRecommender: URM Detected 332 ( 1.5%) items with no interactions.\n"
     ]
    },
    {
     "name": "stderr",
     "output_type": "stream",
     "text": [
      "100%|█████████▉| 22216/22222 [00:29<00:00, 762.84it/s] \n"
     ]
    },
    {
     "name": "stdout",
     "output_type": "stream",
     "text": [
      "EvaluatorHoldout: Processed 10057 (100.0%) in 3.65 sec. Users per second: 2756\n",
      "SLIMElasticNetRecommender: URM Detected 440 ( 3.5%) users with no interactions.\n",
      "SLIMElasticNetRecommender: URM Detected 325 ( 1.5%) items with no interactions.\n"
     ]
    },
    {
     "name": "stderr",
     "output_type": "stream",
     "text": [
      "100%|█████████▉| 22216/22222 [00:27<00:00, 801.71it/s] \n"
     ]
    },
    {
     "name": "stdout",
     "output_type": "stream",
     "text": [
      "EvaluatorHoldout: Processed 10040 (100.0%) in 3.69 sec. Users per second: 2723\n",
      "SLIMElasticNetRecommender: URM Detected 479 ( 3.8%) users with no interactions.\n",
      "SLIMElasticNetRecommender: URM Detected 345 ( 1.6%) items with no interactions.\n"
     ]
    },
    {
     "name": "stderr",
     "output_type": "stream",
     "text": [
      "100%|█████████▉| 22216/22222 [00:28<00:00, 771.89it/s] \n"
     ]
    },
    {
     "name": "stdout",
     "output_type": "stream",
     "text": [
      "EvaluatorHoldout: Processed 10017 (100.0%) in 3.90 sec. Users per second: 2566\n",
      "SLIMElasticNetRecommender: URM Detected 451 ( 3.6%) users with no interactions.\n",
      "SLIMElasticNetRecommender: URM Detected 311 ( 1.4%) items with no interactions.\n"
     ]
    },
    {
     "name": "stderr",
     "output_type": "stream",
     "text": [
      "100%|█████████▉| 22216/22222 [00:31<00:00, 698.81it/s] \n"
     ]
    },
    {
     "name": "stdout",
     "output_type": "stream",
     "text": [
      "EvaluatorHoldout: Processed 10037 (100.0%) in 5.03 sec. Users per second: 1997\n",
      "SLIMElasticNetRecommender: URM Detected 449 ( 3.6%) users with no interactions.\n",
      "SLIMElasticNetRecommender: URM Detected 320 ( 1.4%) items with no interactions.\n"
     ]
    },
    {
     "name": "stderr",
     "output_type": "stream",
     "text": [
      "100%|█████████▉| 22216/22222 [00:40<00:00, 545.54it/s] \n"
     ]
    },
    {
     "name": "stdout",
     "output_type": "stream",
     "text": [
      "EvaluatorHoldout: Processed 9989 (100.0%) in 5.04 sec. Users per second: 1981\n",
      "SLIMElasticNetRecommender: URM Detected 460 ( 3.6%) users with no interactions.\n",
      "SLIMElasticNetRecommender: URM Detected 328 ( 1.5%) items with no interactions.\n"
     ]
    },
    {
     "name": "stderr",
     "output_type": "stream",
     "text": [
      "100%|█████████▉| 22216/22222 [00:39<00:00, 559.97it/s] \n"
     ]
    },
    {
     "name": "stdout",
     "output_type": "stream",
     "text": [
      "EvaluatorHoldout: Processed 10024 (100.0%) in 3.57 sec. Users per second: 2810\n",
      "SLIMElasticNetRecommender: URM Detected 426 ( 3.4%) users with no interactions.\n",
      "SLIMElasticNetRecommender: URM Detected 344 ( 1.5%) items with no interactions.\n"
     ]
    },
    {
     "name": "stderr",
     "output_type": "stream",
     "text": [
      "100%|█████████▉| 22216/22222 [00:28<00:00, 767.33it/s] \n"
     ]
    },
    {
     "name": "stdout",
     "output_type": "stream",
     "text": [
      "EvaluatorHoldout: Processed 10030 (100.0%) in 4.03 sec. Users per second: 2487\n",
      "SLIMElasticNetRecommender: URM Detected 471 ( 3.7%) users with no interactions.\n",
      "SLIMElasticNetRecommender: URM Detected 362 ( 1.6%) items with no interactions.\n"
     ]
    },
    {
     "name": "stderr",
     "output_type": "stream",
     "text": [
      "100%|█████████▉| 22216/22222 [00:27<00:00, 803.54it/s] \n"
     ]
    },
    {
     "name": "stdout",
     "output_type": "stream",
     "text": [
      "EvaluatorHoldout: Processed 10052 (100.0%) in 3.74 sec. Users per second: 2687\n",
      "SLIMElasticNetRecommender: URM Detected 478 ( 3.8%) users with no interactions.\n",
      "SLIMElasticNetRecommender: URM Detected 329 ( 1.5%) items with no interactions.\n"
     ]
    },
    {
     "name": "stderr",
     "output_type": "stream",
     "text": [
      "100%|█████████▉| 22216/22222 [00:28<00:00, 788.29it/s] \n"
     ]
    },
    {
     "name": "stdout",
     "output_type": "stream",
     "text": [
      "EvaluatorHoldout: Processed 10045 (100.0%) in 3.65 sec. Users per second: 2753\n",
      "SLIMElasticNetRecommender: URM Detected 460 ( 3.6%) users with no interactions.\n",
      "SLIMElasticNetRecommender: URM Detected 348 ( 1.6%) items with no interactions.\n"
     ]
    },
    {
     "name": "stderr",
     "output_type": "stream",
     "text": [
      "100%|█████████▉| 22216/22222 [00:30<00:00, 734.68it/s] \n"
     ]
    },
    {
     "name": "stdout",
     "output_type": "stream",
     "text": [
      "EvaluatorHoldout: Processed 10068 (100.0%) in 3.77 sec. Users per second: 2669\n"
     ]
    },
    {
     "name": "stderr",
     "output_type": "stream",
     "text": [
      "[I 2024-01-10 00:17:13,419] Trial 51 finished with value: 0.029707377198318584 and parameters: {'alpha': 0.0005506818806461197, 'l1_ratio': 0.3495460386179279, 'topK': 8218}. Best is trial 51 with value: 0.029707377198318584.\n"
     ]
    },
    {
     "name": "stdout",
     "output_type": "stream",
     "text": [
      "SLIMElasticNetRecommender: URM Detected 508 ( 4.0%) users with no interactions.\n",
      "SLIMElasticNetRecommender: URM Detected 332 ( 1.5%) items with no interactions.\n"
     ]
    },
    {
     "name": "stderr",
     "output_type": "stream",
     "text": [
      "100%|█████████▉| 22216/22222 [00:22<00:00, 969.67it/s] \n"
     ]
    },
    {
     "name": "stdout",
     "output_type": "stream",
     "text": [
      "EvaluatorHoldout: Processed 10057 (100.0%) in 4.60 sec. Users per second: 2185\n",
      "SLIMElasticNetRecommender: URM Detected 440 ( 3.5%) users with no interactions.\n",
      "SLIMElasticNetRecommender: URM Detected 325 ( 1.5%) items with no interactions.\n"
     ]
    },
    {
     "name": "stderr",
     "output_type": "stream",
     "text": [
      "100%|█████████▉| 22216/22222 [00:22<00:00, 974.00it/s] \n"
     ]
    },
    {
     "name": "stdout",
     "output_type": "stream",
     "text": [
      "EvaluatorHoldout: Processed 10040 (100.0%) in 4.96 sec. Users per second: 2024\n",
      "SLIMElasticNetRecommender: URM Detected 479 ( 3.8%) users with no interactions.\n",
      "SLIMElasticNetRecommender: URM Detected 345 ( 1.6%) items with no interactions.\n"
     ]
    },
    {
     "name": "stderr",
     "output_type": "stream",
     "text": [
      "100%|█████████▉| 22216/22222 [00:24<00:00, 889.14it/s] \n"
     ]
    },
    {
     "name": "stdout",
     "output_type": "stream",
     "text": [
      "EvaluatorHoldout: Processed 10017 (100.0%) in 4.91 sec. Users per second: 2040\n",
      "SLIMElasticNetRecommender: URM Detected 451 ( 3.6%) users with no interactions.\n",
      "SLIMElasticNetRecommender: URM Detected 311 ( 1.4%) items with no interactions.\n"
     ]
    },
    {
     "name": "stderr",
     "output_type": "stream",
     "text": [
      "100%|█████████▉| 22216/22222 [00:22<00:00, 1005.39it/s]\n"
     ]
    },
    {
     "name": "stdout",
     "output_type": "stream",
     "text": [
      "EvaluatorHoldout: Processed 10037 (100.0%) in 4.17 sec. Users per second: 2405\n",
      "SLIMElasticNetRecommender: URM Detected 449 ( 3.6%) users with no interactions.\n",
      "SLIMElasticNetRecommender: URM Detected 320 ( 1.4%) items with no interactions.\n"
     ]
    },
    {
     "name": "stderr",
     "output_type": "stream",
     "text": [
      "100%|█████████▉| 22216/22222 [00:21<00:00, 1011.24it/s]\n"
     ]
    },
    {
     "name": "stdout",
     "output_type": "stream",
     "text": [
      "EvaluatorHoldout: Processed 9989 (100.0%) in 3.76 sec. Users per second: 2659\n",
      "SLIMElasticNetRecommender: URM Detected 460 ( 3.6%) users with no interactions.\n",
      "SLIMElasticNetRecommender: URM Detected 328 ( 1.5%) items with no interactions.\n"
     ]
    },
    {
     "name": "stderr",
     "output_type": "stream",
     "text": [
      "100%|█████████▉| 22216/22222 [00:22<00:00, 978.95it/s] \n"
     ]
    },
    {
     "name": "stdout",
     "output_type": "stream",
     "text": [
      "EvaluatorHoldout: Processed 10024 (100.0%) in 4.38 sec. Users per second: 2288\n",
      "SLIMElasticNetRecommender: URM Detected 426 ( 3.4%) users with no interactions.\n",
      "SLIMElasticNetRecommender: URM Detected 344 ( 1.5%) items with no interactions.\n"
     ]
    },
    {
     "name": "stderr",
     "output_type": "stream",
     "text": [
      "100%|█████████▉| 22216/22222 [00:24<00:00, 925.53it/s] \n"
     ]
    },
    {
     "name": "stdout",
     "output_type": "stream",
     "text": [
      "EvaluatorHoldout: Processed 10030 (100.0%) in 4.30 sec. Users per second: 2334\n",
      "SLIMElasticNetRecommender: URM Detected 471 ( 3.7%) users with no interactions.\n",
      "SLIMElasticNetRecommender: URM Detected 362 ( 1.6%) items with no interactions.\n"
     ]
    },
    {
     "name": "stderr",
     "output_type": "stream",
     "text": [
      "100%|█████████▉| 22216/22222 [00:23<00:00, 933.02it/s] \n"
     ]
    },
    {
     "name": "stdout",
     "output_type": "stream",
     "text": [
      "EvaluatorHoldout: Processed 10052 (100.0%) in 4.64 sec. Users per second: 2164\n",
      "SLIMElasticNetRecommender: URM Detected 478 ( 3.8%) users with no interactions.\n",
      "SLIMElasticNetRecommender: URM Detected 329 ( 1.5%) items with no interactions.\n"
     ]
    },
    {
     "name": "stderr",
     "output_type": "stream",
     "text": [
      "100%|█████████▉| 22216/22222 [00:23<00:00, 947.50it/s] \n"
     ]
    },
    {
     "name": "stdout",
     "output_type": "stream",
     "text": [
      "EvaluatorHoldout: Processed 10045 (100.0%) in 4.29 sec. Users per second: 2340\n",
      "SLIMElasticNetRecommender: URM Detected 460 ( 3.6%) users with no interactions.\n",
      "SLIMElasticNetRecommender: URM Detected 348 ( 1.6%) items with no interactions.\n"
     ]
    },
    {
     "name": "stderr",
     "output_type": "stream",
     "text": [
      "100%|█████████▉| 22216/22222 [00:22<00:00, 988.63it/s] \n"
     ]
    },
    {
     "name": "stdout",
     "output_type": "stream",
     "text": [
      "EvaluatorHoldout: Processed 10068 (100.0%) in 4.18 sec. Users per second: 2408\n"
     ]
    },
    {
     "name": "stderr",
     "output_type": "stream",
     "text": [
      "[I 2024-01-10 00:22:02,750] Trial 52 finished with value: 0.021981501559441455 and parameters: {'alpha': 0.006883303789904155, 'l1_ratio': 0.27850455272662067, 'topK': 8039}. Best is trial 51 with value: 0.029707377198318584.\n"
     ]
    },
    {
     "name": "stdout",
     "output_type": "stream",
     "text": [
      "SLIMElasticNetRecommender: URM Detected 508 ( 4.0%) users with no interactions.\n",
      "SLIMElasticNetRecommender: URM Detected 332 ( 1.5%) items with no interactions.\n"
     ]
    },
    {
     "name": "stderr",
     "output_type": "stream",
     "text": [
      "100%|█████████▉| 22216/22222 [00:26<00:00, 825.49it/s] \n"
     ]
    },
    {
     "name": "stdout",
     "output_type": "stream",
     "text": [
      "EvaluatorHoldout: Processed 10057 (100.0%) in 3.72 sec. Users per second: 2702\n",
      "SLIMElasticNetRecommender: URM Detected 440 ( 3.5%) users with no interactions.\n",
      "SLIMElasticNetRecommender: URM Detected 325 ( 1.5%) items with no interactions.\n"
     ]
    },
    {
     "name": "stderr",
     "output_type": "stream",
     "text": [
      "100%|█████████▉| 22216/22222 [00:23<00:00, 941.67it/s] \n"
     ]
    },
    {
     "name": "stdout",
     "output_type": "stream",
     "text": [
      "EvaluatorHoldout: Processed 10040 (100.0%) in 3.60 sec. Users per second: 2785\n",
      "SLIMElasticNetRecommender: URM Detected 479 ( 3.8%) users with no interactions.\n",
      "SLIMElasticNetRecommender: URM Detected 345 ( 1.6%) items with no interactions.\n"
     ]
    },
    {
     "name": "stderr",
     "output_type": "stream",
     "text": [
      "100%|█████████▉| 22216/22222 [00:26<00:00, 845.46it/s] \n"
     ]
    },
    {
     "name": "stdout",
     "output_type": "stream",
     "text": [
      "EvaluatorHoldout: Processed 10017 (100.0%) in 5.86 sec. Users per second: 1711\n",
      "SLIMElasticNetRecommender: URM Detected 451 ( 3.6%) users with no interactions.\n",
      "SLIMElasticNetRecommender: URM Detected 311 ( 1.4%) items with no interactions.\n"
     ]
    },
    {
     "name": "stderr",
     "output_type": "stream",
     "text": [
      "100%|█████████▉| 22216/22222 [00:26<00:00, 825.90it/s] \n"
     ]
    },
    {
     "name": "stdout",
     "output_type": "stream",
     "text": [
      "EvaluatorHoldout: Processed 10037 (100.0%) in 4.64 sec. Users per second: 2164\n",
      "SLIMElasticNetRecommender: URM Detected 449 ( 3.6%) users with no interactions.\n",
      "SLIMElasticNetRecommender: URM Detected 320 ( 1.4%) items with no interactions.\n"
     ]
    },
    {
     "name": "stderr",
     "output_type": "stream",
     "text": [
      "100%|█████████▉| 22216/22222 [00:28<00:00, 792.29it/s] \n"
     ]
    },
    {
     "name": "stdout",
     "output_type": "stream",
     "text": [
      "EvaluatorHoldout: Processed 9989 (100.0%) in 4.06 sec. Users per second: 2461\n",
      "SLIMElasticNetRecommender: URM Detected 460 ( 3.6%) users with no interactions.\n",
      "SLIMElasticNetRecommender: URM Detected 328 ( 1.5%) items with no interactions.\n"
     ]
    },
    {
     "name": "stderr",
     "output_type": "stream",
     "text": [
      "100%|█████████▉| 22216/22222 [00:22<00:00, 970.36it/s] \n"
     ]
    },
    {
     "name": "stdout",
     "output_type": "stream",
     "text": [
      "EvaluatorHoldout: Processed 10024 (100.0%) in 4.05 sec. Users per second: 2478\n",
      "SLIMElasticNetRecommender: URM Detected 426 ( 3.4%) users with no interactions.\n",
      "SLIMElasticNetRecommender: URM Detected 344 ( 1.5%) items with no interactions.\n"
     ]
    },
    {
     "name": "stderr",
     "output_type": "stream",
     "text": [
      "100%|█████████▉| 22216/22222 [00:23<00:00, 946.57it/s] \n"
     ]
    },
    {
     "name": "stdout",
     "output_type": "stream",
     "text": [
      "EvaluatorHoldout: Processed 10030 (100.0%) in 4.65 sec. Users per second: 2158\n",
      "SLIMElasticNetRecommender: URM Detected 471 ( 3.7%) users with no interactions.\n",
      "SLIMElasticNetRecommender: URM Detected 362 ( 1.6%) items with no interactions.\n"
     ]
    },
    {
     "name": "stderr",
     "output_type": "stream",
     "text": [
      "100%|█████████▉| 22216/22222 [00:26<00:00, 833.18it/s] \n"
     ]
    },
    {
     "name": "stdout",
     "output_type": "stream",
     "text": [
      "EvaluatorHoldout: Processed 10052 (100.0%) in 4.69 sec. Users per second: 2141\n",
      "SLIMElasticNetRecommender: URM Detected 478 ( 3.8%) users with no interactions.\n",
      "SLIMElasticNetRecommender: URM Detected 329 ( 1.5%) items with no interactions.\n"
     ]
    },
    {
     "name": "stderr",
     "output_type": "stream",
     "text": [
      "100%|█████████▉| 22216/22222 [00:25<00:00, 862.93it/s] \n"
     ]
    },
    {
     "name": "stdout",
     "output_type": "stream",
     "text": [
      "EvaluatorHoldout: Processed 10045 (100.0%) in 4.47 sec. Users per second: 2249\n",
      "SLIMElasticNetRecommender: URM Detected 460 ( 3.6%) users with no interactions.\n",
      "SLIMElasticNetRecommender: URM Detected 348 ( 1.6%) items with no interactions.\n"
     ]
    },
    {
     "name": "stderr",
     "output_type": "stream",
     "text": [
      "100%|█████████▉| 22216/22222 [00:29<00:00, 756.65it/s] \n"
     ]
    },
    {
     "name": "stdout",
     "output_type": "stream",
     "text": [
      "EvaluatorHoldout: Processed 10068 (100.0%) in 4.44 sec. Users per second: 2266\n"
     ]
    },
    {
     "name": "stderr",
     "output_type": "stream",
     "text": [
      "[I 2024-01-10 00:27:20,575] Trial 54 finished with value: 0.026630480971125796 and parameters: {'alpha': 0.002035300723207678, 'l1_ratio': 0.34261562192743367, 'topK': 7927}. Best is trial 51 with value: 0.029707377198318584.\n"
     ]
    },
    {
     "name": "stdout",
     "output_type": "stream",
     "text": [
      "SLIMElasticNetRecommender: URM Detected 508 ( 4.0%) users with no interactions.\n",
      "SLIMElasticNetRecommender: URM Detected 332 ( 1.5%) items with no interactions.\n"
     ]
    },
    {
     "name": "stderr",
     "output_type": "stream",
     "text": [
      "100%|█████████▉| 22216/22222 [00:55<00:00, 401.95it/s]\n"
     ]
    },
    {
     "name": "stdout",
     "output_type": "stream",
     "text": [
      "EvaluatorHoldout: Processed 10057 (100.0%) in 7.15 sec. Users per second: 1407\n",
      "SLIMElasticNetRecommender: URM Detected 440 ( 3.5%) users with no interactions.\n",
      "SLIMElasticNetRecommender: URM Detected 325 ( 1.5%) items with no interactions.\n"
     ]
    },
    {
     "name": "stderr",
     "output_type": "stream",
     "text": [
      "100%|█████████▉| 22216/22222 [00:37<00:00, 588.13it/s]\n"
     ]
    },
    {
     "name": "stdout",
     "output_type": "stream",
     "text": [
      "EvaluatorHoldout: Processed 10040 (100.0%) in 3.70 sec. Users per second: 2717\n",
      "SLIMElasticNetRecommender: URM Detected 479 ( 3.8%) users with no interactions.\n",
      "SLIMElasticNetRecommender: URM Detected 345 ( 1.6%) items with no interactions.\n"
     ]
    },
    {
     "name": "stderr",
     "output_type": "stream",
     "text": [
      "100%|█████████▉| 22216/22222 [00:37<00:00, 596.32it/s]\n"
     ]
    },
    {
     "name": "stdout",
     "output_type": "stream",
     "text": [
      "EvaluatorHoldout: Processed 10017 (100.0%) in 4.04 sec. Users per second: 2477\n",
      "SLIMElasticNetRecommender: URM Detected 451 ( 3.6%) users with no interactions.\n",
      "SLIMElasticNetRecommender: URM Detected 311 ( 1.4%) items with no interactions.\n"
     ]
    },
    {
     "name": "stderr",
     "output_type": "stream",
     "text": [
      "100%|█████████▉| 22216/22222 [00:36<00:00, 609.26it/s]\n"
     ]
    },
    {
     "name": "stdout",
     "output_type": "stream",
     "text": [
      "EvaluatorHoldout: Processed 10037 (100.0%) in 4.15 sec. Users per second: 2421\n",
      "SLIMElasticNetRecommender: URM Detected 449 ( 3.6%) users with no interactions.\n",
      "SLIMElasticNetRecommender: URM Detected 320 ( 1.4%) items with no interactions.\n"
     ]
    },
    {
     "name": "stderr",
     "output_type": "stream",
     "text": [
      "100%|█████████▉| 22216/22222 [00:37<00:00, 597.56it/s]\n"
     ]
    },
    {
     "name": "stdout",
     "output_type": "stream",
     "text": [
      "EvaluatorHoldout: Processed 9989 (100.0%) in 4.18 sec. Users per second: 2392\n",
      "SLIMElasticNetRecommender: URM Detected 460 ( 3.6%) users with no interactions.\n",
      "SLIMElasticNetRecommender: URM Detected 328 ( 1.5%) items with no interactions.\n"
     ]
    },
    {
     "name": "stderr",
     "output_type": "stream",
     "text": [
      "100%|█████████▉| 22216/22222 [00:36<00:00, 609.44it/s]\n"
     ]
    },
    {
     "name": "stdout",
     "output_type": "stream",
     "text": [
      "EvaluatorHoldout: Processed 10024 (100.0%) in 3.82 sec. Users per second: 2622\n",
      "SLIMElasticNetRecommender: URM Detected 426 ( 3.4%) users with no interactions.\n",
      "SLIMElasticNetRecommender: URM Detected 344 ( 1.5%) items with no interactions.\n"
     ]
    },
    {
     "name": "stderr",
     "output_type": "stream",
     "text": [
      "100%|█████████▉| 22216/22222 [00:35<00:00, 632.54it/s]\n"
     ]
    },
    {
     "name": "stdout",
     "output_type": "stream",
     "text": [
      "EvaluatorHoldout: Processed 10030 (100.0%) in 3.63 sec. Users per second: 2767\n",
      "SLIMElasticNetRecommender: URM Detected 471 ( 3.7%) users with no interactions.\n",
      "SLIMElasticNetRecommender: URM Detected 362 ( 1.6%) items with no interactions.\n"
     ]
    },
    {
     "name": "stderr",
     "output_type": "stream",
     "text": [
      "100%|█████████▉| 22216/22222 [00:34<00:00, 651.31it/s]\n"
     ]
    },
    {
     "name": "stdout",
     "output_type": "stream",
     "text": [
      "EvaluatorHoldout: Processed 10052 (100.0%) in 3.66 sec. Users per second: 2745\n",
      "SLIMElasticNetRecommender: URM Detected 478 ( 3.8%) users with no interactions.\n",
      "SLIMElasticNetRecommender: URM Detected 329 ( 1.5%) items with no interactions.\n"
     ]
    },
    {
     "name": "stderr",
     "output_type": "stream",
     "text": [
      "100%|█████████▉| 22216/22222 [00:33<00:00, 659.67it/s]\n"
     ]
    },
    {
     "name": "stdout",
     "output_type": "stream",
     "text": [
      "EvaluatorHoldout: Processed 10045 (100.0%) in 3.55 sec. Users per second: 2831\n",
      "SLIMElasticNetRecommender: URM Detected 460 ( 3.6%) users with no interactions.\n",
      "SLIMElasticNetRecommender: URM Detected 348 ( 1.6%) items with no interactions.\n"
     ]
    },
    {
     "name": "stderr",
     "output_type": "stream",
     "text": [
      "100%|█████████▉| 22216/22222 [00:33<00:00, 656.31it/s]\n"
     ]
    },
    {
     "name": "stdout",
     "output_type": "stream",
     "text": [
      "EvaluatorHoldout: Processed 10068 (100.0%) in 3.87 sec. Users per second: 2601\n"
     ]
    },
    {
     "name": "stderr",
     "output_type": "stream",
     "text": [
      "[I 2024-01-10 00:34:33,037] Trial 56 finished with value: 0.029745810051797855 and parameters: {'alpha': 0.0005327421569962453, 'l1_ratio': 0.28072470931441035, 'topK': 8863}. Best is trial 50 with value: 0.029746219620386934.\n"
     ]
    },
    {
     "name": "stdout",
     "output_type": "stream",
     "text": [
      "SLIMElasticNetRecommender: URM Detected 508 ( 4.0%) users with no interactions.\n",
      "SLIMElasticNetRecommender: URM Detected 332 ( 1.5%) items with no interactions.\n"
     ]
    },
    {
     "name": "stderr",
     "output_type": "stream",
     "text": [
      "100%|█████████▉| 22216/22222 [00:36<00:00, 601.07it/s]\n"
     ]
    },
    {
     "name": "stdout",
     "output_type": "stream",
     "text": [
      "EvaluatorHoldout: Processed 10057 (100.0%) in 3.71 sec. Users per second: 2710\n",
      "SLIMElasticNetRecommender: URM Detected 440 ( 3.5%) users with no interactions.\n",
      "SLIMElasticNetRecommender: URM Detected 325 ( 1.5%) items with no interactions.\n"
     ]
    },
    {
     "name": "stderr",
     "output_type": "stream",
     "text": [
      "100%|█████████▉| 22216/22222 [00:36<00:00, 609.41it/s]\n"
     ]
    },
    {
     "name": "stdout",
     "output_type": "stream",
     "text": [
      "EvaluatorHoldout: Processed 10040 (100.0%) in 3.71 sec. Users per second: 2705\n",
      "SLIMElasticNetRecommender: URM Detected 479 ( 3.8%) users with no interactions.\n",
      "SLIMElasticNetRecommender: URM Detected 345 ( 1.6%) items with no interactions.\n"
     ]
    },
    {
     "name": "stderr",
     "output_type": "stream",
     "text": [
      "100%|█████████▉| 22216/22222 [00:37<00:00, 597.92it/s]\n"
     ]
    },
    {
     "name": "stdout",
     "output_type": "stream",
     "text": [
      "EvaluatorHoldout: Processed 10017 (100.0%) in 3.80 sec. Users per second: 2635\n",
      "SLIMElasticNetRecommender: URM Detected 451 ( 3.6%) users with no interactions.\n",
      "SLIMElasticNetRecommender: URM Detected 311 ( 1.4%) items with no interactions.\n"
     ]
    },
    {
     "name": "stderr",
     "output_type": "stream",
     "text": [
      "100%|█████████▉| 22216/22222 [00:36<00:00, 607.08it/s]\n"
     ]
    },
    {
     "name": "stdout",
     "output_type": "stream",
     "text": [
      "EvaluatorHoldout: Processed 10037 (100.0%) in 3.82 sec. Users per second: 2631\n",
      "SLIMElasticNetRecommender: URM Detected 449 ( 3.6%) users with no interactions.\n",
      "SLIMElasticNetRecommender: URM Detected 320 ( 1.4%) items with no interactions.\n"
     ]
    },
    {
     "name": "stderr",
     "output_type": "stream",
     "text": [
      "100%|█████████▉| 22216/22222 [00:36<00:00, 607.66it/s]\n"
     ]
    },
    {
     "name": "stdout",
     "output_type": "stream",
     "text": [
      "EvaluatorHoldout: Processed 9989 (100.0%) in 3.88 sec. Users per second: 2575\n",
      "SLIMElasticNetRecommender: URM Detected 460 ( 3.6%) users with no interactions.\n",
      "SLIMElasticNetRecommender: URM Detected 328 ( 1.5%) items with no interactions.\n"
     ]
    },
    {
     "name": "stderr",
     "output_type": "stream",
     "text": [
      "100%|█████████▉| 22216/22222 [00:36<00:00, 608.81it/s]\n"
     ]
    },
    {
     "name": "stdout",
     "output_type": "stream",
     "text": [
      "EvaluatorHoldout: Processed 10024 (100.0%) in 3.93 sec. Users per second: 2551\n",
      "SLIMElasticNetRecommender: URM Detected 426 ( 3.4%) users with no interactions.\n",
      "SLIMElasticNetRecommender: URM Detected 344 ( 1.5%) items with no interactions.\n"
     ]
    },
    {
     "name": "stderr",
     "output_type": "stream",
     "text": [
      "100%|█████████▉| 22216/22222 [00:36<00:00, 607.44it/s]\n"
     ]
    },
    {
     "name": "stdout",
     "output_type": "stream",
     "text": [
      "EvaluatorHoldout: Processed 10030 (100.0%) in 4.14 sec. Users per second: 2425\n",
      "SLIMElasticNetRecommender: URM Detected 471 ( 3.7%) users with no interactions.\n",
      "SLIMElasticNetRecommender: URM Detected 362 ( 1.6%) items with no interactions.\n"
     ]
    },
    {
     "name": "stderr",
     "output_type": "stream",
     "text": [
      "100%|█████████▉| 22216/22222 [00:38<00:00, 575.88it/s]\n"
     ]
    },
    {
     "name": "stdout",
     "output_type": "stream",
     "text": [
      "EvaluatorHoldout: Processed 10052 (100.0%) in 4.08 sec. Users per second: 2465\n",
      "SLIMElasticNetRecommender: URM Detected 478 ( 3.8%) users with no interactions.\n",
      "SLIMElasticNetRecommender: URM Detected 329 ( 1.5%) items with no interactions.\n"
     ]
    },
    {
     "name": "stderr",
     "output_type": "stream",
     "text": [
      "100%|█████████▉| 22216/22222 [00:36<00:00, 605.62it/s]\n"
     ]
    },
    {
     "name": "stdout",
     "output_type": "stream",
     "text": [
      "EvaluatorHoldout: Processed 10045 (100.0%) in 3.74 sec. Users per second: 2688\n",
      "SLIMElasticNetRecommender: URM Detected 460 ( 3.6%) users with no interactions.\n",
      "SLIMElasticNetRecommender: URM Detected 348 ( 1.6%) items with no interactions.\n"
     ]
    },
    {
     "name": "stderr",
     "output_type": "stream",
     "text": [
      "100%|█████████▉| 22216/22222 [00:37<00:00, 599.33it/s]\n"
     ]
    },
    {
     "name": "stdout",
     "output_type": "stream",
     "text": [
      "EvaluatorHoldout: Processed 10068 (100.0%) in 3.95 sec. Users per second: 2550\n"
     ]
    },
    {
     "name": "stderr",
     "output_type": "stream",
     "text": [
      "[I 2024-01-10 00:41:34,011] Trial 59 finished with value: 0.029445156571996183 and parameters: {'alpha': 0.0003839208838170856, 'l1_ratio': 0.27963427685268666, 'topK': 8759}. Best is trial 50 with value: 0.029746219620386934.\n"
     ]
    },
    {
     "name": "stdout",
     "output_type": "stream",
     "text": [
      "SLIMElasticNetRecommender: URM Detected 508 ( 4.0%) users with no interactions.\n",
      "SLIMElasticNetRecommender: URM Detected 332 ( 1.5%) items with no interactions.\n"
     ]
    },
    {
     "name": "stderr",
     "output_type": "stream",
     "text": [
      "100%|█████████▉| 22216/22222 [01:09<00:00, 319.34it/s]\n"
     ]
    },
    {
     "name": "stdout",
     "output_type": "stream",
     "text": [
      "EvaluatorHoldout: Processed 10057 (100.0%) in 3.71 sec. Users per second: 2710\n",
      "SLIMElasticNetRecommender: URM Detected 440 ( 3.5%) users with no interactions.\n",
      "SLIMElasticNetRecommender: URM Detected 325 ( 1.5%) items with no interactions.\n"
     ]
    },
    {
     "name": "stderr",
     "output_type": "stream",
     "text": [
      "100%|█████████▉| 22216/22222 [01:08<00:00, 322.82it/s]\n"
     ]
    },
    {
     "name": "stdout",
     "output_type": "stream",
     "text": [
      "EvaluatorHoldout: Processed 10040 (100.0%) in 3.62 sec. Users per second: 2775\n",
      "SLIMElasticNetRecommender: URM Detected 479 ( 3.8%) users with no interactions.\n",
      "SLIMElasticNetRecommender: URM Detected 345 ( 1.6%) items with no interactions.\n"
     ]
    },
    {
     "name": "stderr",
     "output_type": "stream",
     "text": [
      "100%|█████████▉| 22216/22222 [01:10<00:00, 316.57it/s]\n"
     ]
    },
    {
     "name": "stdout",
     "output_type": "stream",
     "text": [
      "EvaluatorHoldout: Processed 10017 (100.0%) in 3.94 sec. Users per second: 2543\n",
      "SLIMElasticNetRecommender: URM Detected 451 ( 3.6%) users with no interactions.\n",
      "SLIMElasticNetRecommender: URM Detected 311 ( 1.4%) items with no interactions.\n"
     ]
    },
    {
     "name": "stderr",
     "output_type": "stream",
     "text": [
      "100%|█████████▉| 22216/22222 [01:08<00:00, 326.21it/s]\n"
     ]
    },
    {
     "name": "stdout",
     "output_type": "stream",
     "text": [
      "EvaluatorHoldout: Processed 10037 (100.0%) in 3.98 sec. Users per second: 2521\n",
      "SLIMElasticNetRecommender: URM Detected 449 ( 3.6%) users with no interactions.\n",
      "SLIMElasticNetRecommender: URM Detected 320 ( 1.4%) items with no interactions.\n"
     ]
    },
    {
     "name": "stderr",
     "output_type": "stream",
     "text": [
      "100%|█████████▉| 22216/22222 [01:09<00:00, 319.92it/s]\n"
     ]
    },
    {
     "name": "stdout",
     "output_type": "stream",
     "text": [
      "EvaluatorHoldout: Processed 9989 (100.0%) in 3.69 sec. Users per second: 2711\n",
      "SLIMElasticNetRecommender: URM Detected 460 ( 3.6%) users with no interactions.\n",
      "SLIMElasticNetRecommender: URM Detected 328 ( 1.5%) items with no interactions.\n"
     ]
    },
    {
     "name": "stderr",
     "output_type": "stream",
     "text": [
      "100%|█████████▉| 22216/22222 [01:08<00:00, 324.70it/s]\n"
     ]
    },
    {
     "name": "stdout",
     "output_type": "stream",
     "text": [
      "EvaluatorHoldout: Processed 10024 (100.0%) in 3.83 sec. Users per second: 2620\n",
      "SLIMElasticNetRecommender: URM Detected 426 ( 3.4%) users with no interactions.\n",
      "SLIMElasticNetRecommender: URM Detected 344 ( 1.5%) items with no interactions.\n"
     ]
    },
    {
     "name": "stderr",
     "output_type": "stream",
     "text": [
      "100%|█████████▉| 22216/22222 [01:09<00:00, 321.68it/s]\n"
     ]
    },
    {
     "name": "stdout",
     "output_type": "stream",
     "text": [
      "EvaluatorHoldout: Processed 10030 (100.0%) in 3.67 sec. Users per second: 2730\n",
      "SLIMElasticNetRecommender: URM Detected 471 ( 3.7%) users with no interactions.\n",
      "SLIMElasticNetRecommender: URM Detected 362 ( 1.6%) items with no interactions.\n"
     ]
    },
    {
     "name": "stderr",
     "output_type": "stream",
     "text": [
      "100%|█████████▉| 22216/22222 [01:08<00:00, 323.46it/s]\n"
     ]
    },
    {
     "name": "stdout",
     "output_type": "stream",
     "text": [
      "EvaluatorHoldout: Processed 10052 (100.0%) in 3.91 sec. Users per second: 2573\n",
      "SLIMElasticNetRecommender: URM Detected 478 ( 3.8%) users with no interactions.\n",
      "SLIMElasticNetRecommender: URM Detected 329 ( 1.5%) items with no interactions.\n"
     ]
    },
    {
     "name": "stderr",
     "output_type": "stream",
     "text": [
      "100%|█████████▉| 22216/22222 [01:09<00:00, 320.93it/s]\n"
     ]
    },
    {
     "name": "stdout",
     "output_type": "stream",
     "text": [
      "EvaluatorHoldout: Processed 10045 (100.0%) in 3.80 sec. Users per second: 2647\n",
      "SLIMElasticNetRecommender: URM Detected 460 ( 3.6%) users with no interactions.\n",
      "SLIMElasticNetRecommender: URM Detected 348 ( 1.6%) items with no interactions.\n"
     ]
    },
    {
     "name": "stderr",
     "output_type": "stream",
     "text": [
      "100%|█████████▉| 22216/22222 [01:09<00:00, 319.81it/s]\n"
     ]
    },
    {
     "name": "stdout",
     "output_type": "stream",
     "text": [
      "EvaluatorHoldout: Processed 10068 (100.0%) in 3.99 sec. Users per second: 2524\n"
     ]
    },
    {
     "name": "stderr",
     "output_type": "stream",
     "text": [
      "[I 2024-01-10 00:53:57,169] Trial 62 finished with value: 0.01985926868076878 and parameters: {'alpha': 5.109417479348688e-05, 'l1_ratio': 0.2496141147729203, 'topK': 7075}. Best is trial 50 with value: 0.029746219620386934.\n"
     ]
    },
    {
     "name": "stdout",
     "output_type": "stream",
     "text": [
      "SLIMElasticNetRecommender: URM Detected 508 ( 4.0%) users with no interactions.\n",
      "SLIMElasticNetRecommender: URM Detected 332 ( 1.5%) items with no interactions.\n"
     ]
    },
    {
     "name": "stderr",
     "output_type": "stream",
     "text": [
      "100%|█████████▉| 22216/22222 [00:16<00:00, 1327.45it/s]\n"
     ]
    },
    {
     "name": "stdout",
     "output_type": "stream",
     "text": [
      "EvaluatorHoldout: Processed 10057 (100.0%) in 2.91 sec. Users per second: 3458\n",
      "SLIMElasticNetRecommender: URM Detected 440 ( 3.5%) users with no interactions.\n",
      "SLIMElasticNetRecommender: URM Detected 325 ( 1.5%) items with no interactions.\n"
     ]
    },
    {
     "name": "stderr",
     "output_type": "stream",
     "text": [
      "100%|█████████▉| 22216/22222 [00:16<00:00, 1334.08it/s]\n"
     ]
    },
    {
     "name": "stdout",
     "output_type": "stream",
     "text": [
      "EvaluatorHoldout: Processed 10040 (100.0%) in 2.64 sec. Users per second: 3798\n",
      "SLIMElasticNetRecommender: URM Detected 479 ( 3.8%) users with no interactions.\n",
      "SLIMElasticNetRecommender: URM Detected 345 ( 1.6%) items with no interactions.\n"
     ]
    },
    {
     "name": "stderr",
     "output_type": "stream",
     "text": [
      "100%|█████████▉| 22216/22222 [00:17<00:00, 1287.96it/s]\n"
     ]
    },
    {
     "name": "stdout",
     "output_type": "stream",
     "text": [
      "EvaluatorHoldout: Processed 10017 (100.0%) in 3.02 sec. Users per second: 3322\n",
      "SLIMElasticNetRecommender: URM Detected 451 ( 3.6%) users with no interactions.\n",
      "SLIMElasticNetRecommender: URM Detected 311 ( 1.4%) items with no interactions.\n"
     ]
    },
    {
     "name": "stderr",
     "output_type": "stream",
     "text": [
      "100%|█████████▉| 22216/22222 [00:16<00:00, 1375.61it/s]\n"
     ]
    },
    {
     "name": "stdout",
     "output_type": "stream",
     "text": [
      "EvaluatorHoldout: Processed 10037 (100.0%) in 2.82 sec. Users per second: 3555\n",
      "SLIMElasticNetRecommender: URM Detected 449 ( 3.6%) users with no interactions.\n",
      "SLIMElasticNetRecommender: URM Detected 320 ( 1.4%) items with no interactions.\n"
     ]
    },
    {
     "name": "stderr",
     "output_type": "stream",
     "text": [
      "100%|█████████▉| 22216/22222 [00:17<00:00, 1299.74it/s]\n"
     ]
    },
    {
     "name": "stdout",
     "output_type": "stream",
     "text": [
      "EvaluatorHoldout: Processed 9989 (100.0%) in 2.59 sec. Users per second: 3860\n",
      "SLIMElasticNetRecommender: URM Detected 460 ( 3.6%) users with no interactions.\n",
      "SLIMElasticNetRecommender: URM Detected 328 ( 1.5%) items with no interactions.\n"
     ]
    },
    {
     "name": "stderr",
     "output_type": "stream",
     "text": [
      "100%|█████████▉| 22216/22222 [00:22<00:00, 1007.66it/s]\n"
     ]
    },
    {
     "name": "stdout",
     "output_type": "stream",
     "text": [
      "EvaluatorHoldout: Processed 10024 (100.0%) in 3.81 sec. Users per second: 2631\n",
      "SLIMElasticNetRecommender: URM Detected 426 ( 3.4%) users with no interactions.\n",
      "SLIMElasticNetRecommender: URM Detected 344 ( 1.5%) items with no interactions.\n"
     ]
    },
    {
     "name": "stderr",
     "output_type": "stream",
     "text": [
      "100%|█████████▉| 22216/22222 [00:23<00:00, 934.20it/s] \n"
     ]
    },
    {
     "name": "stdout",
     "output_type": "stream",
     "text": [
      "EvaluatorHoldout: Processed 10030 (100.0%) in 3.96 sec. Users per second: 2531\n",
      "SLIMElasticNetRecommender: URM Detected 471 ( 3.7%) users with no interactions.\n",
      "SLIMElasticNetRecommender: URM Detected 362 ( 1.6%) items with no interactions.\n"
     ]
    },
    {
     "name": "stderr",
     "output_type": "stream",
     "text": [
      "100%|█████████▉| 22216/22222 [00:21<00:00, 1024.40it/s]\n"
     ]
    },
    {
     "name": "stdout",
     "output_type": "stream",
     "text": [
      "EvaluatorHoldout: Processed 10052 (100.0%) in 3.71 sec. Users per second: 2706\n",
      "SLIMElasticNetRecommender: URM Detected 478 ( 3.8%) users with no interactions.\n",
      "SLIMElasticNetRecommender: URM Detected 329 ( 1.5%) items with no interactions.\n"
     ]
    },
    {
     "name": "stderr",
     "output_type": "stream",
     "text": [
      "100%|█████████▉| 22216/22222 [00:22<00:00, 988.91it/s] \n"
     ]
    },
    {
     "name": "stdout",
     "output_type": "stream",
     "text": [
      "EvaluatorHoldout: Processed 10045 (100.0%) in 3.71 sec. Users per second: 2709\n",
      "SLIMElasticNetRecommender: URM Detected 460 ( 3.6%) users with no interactions.\n",
      "SLIMElasticNetRecommender: URM Detected 348 ( 1.6%) items with no interactions.\n"
     ]
    },
    {
     "name": "stderr",
     "output_type": "stream",
     "text": [
      "100%|█████████▉| 22216/22222 [00:21<00:00, 1024.08it/s]\n"
     ]
    },
    {
     "name": "stdout",
     "output_type": "stream",
     "text": [
      "EvaluatorHoldout: Processed 10068 (100.0%) in 3.93 sec. Users per second: 2565\n"
     ]
    },
    {
     "name": "stderr",
     "output_type": "stream",
     "text": [
      "[I 2024-01-10 00:57:58,905] Trial 63 finished with value: 0.02818864516237627 and parameters: {'alpha': 0.0017798121242511896, 'l1_ratio': 0.22931358151475406, 'topK': 9625}. Best is trial 50 with value: 0.029746219620386934.\n"
     ]
    },
    {
     "name": "stdout",
     "output_type": "stream",
     "text": [
      "SLIMElasticNetRecommender: URM Detected 508 ( 4.0%) users with no interactions.\n",
      "SLIMElasticNetRecommender: URM Detected 332 ( 1.5%) items with no interactions.\n"
     ]
    },
    {
     "name": "stderr",
     "output_type": "stream",
     "text": [
      "100%|█████████▉| 22216/22222 [00:24<00:00, 913.28it/s] \n"
     ]
    },
    {
     "name": "stdout",
     "output_type": "stream",
     "text": [
      "EvaluatorHoldout: Processed 10057 (100.0%) in 4.17 sec. Users per second: 2414\n",
      "SLIMElasticNetRecommender: URM Detected 440 ( 3.5%) users with no interactions.\n",
      "SLIMElasticNetRecommender: URM Detected 325 ( 1.5%) items with no interactions.\n"
     ]
    },
    {
     "name": "stderr",
     "output_type": "stream",
     "text": [
      "100%|█████████▉| 22216/22222 [00:26<00:00, 848.03it/s] \n"
     ]
    },
    {
     "name": "stdout",
     "output_type": "stream",
     "text": [
      "EvaluatorHoldout: Processed 10040 (100.0%) in 3.84 sec. Users per second: 2612\n",
      "SLIMElasticNetRecommender: URM Detected 479 ( 3.8%) users with no interactions.\n",
      "SLIMElasticNetRecommender: URM Detected 345 ( 1.6%) items with no interactions.\n"
     ]
    },
    {
     "name": "stderr",
     "output_type": "stream",
     "text": [
      "100%|█████████▉| 22216/22222 [00:24<00:00, 924.24it/s] \n"
     ]
    },
    {
     "name": "stdout",
     "output_type": "stream",
     "text": [
      "EvaluatorHoldout: Processed 10017 (100.0%) in 3.97 sec. Users per second: 2520\n",
      "SLIMElasticNetRecommender: URM Detected 451 ( 3.6%) users with no interactions.\n",
      "SLIMElasticNetRecommender: URM Detected 311 ( 1.4%) items with no interactions.\n"
     ]
    },
    {
     "name": "stderr",
     "output_type": "stream",
     "text": [
      "100%|█████████▉| 22216/22222 [00:25<00:00, 869.44it/s] \n"
     ]
    },
    {
     "name": "stdout",
     "output_type": "stream",
     "text": [
      "EvaluatorHoldout: Processed 10037 (100.0%) in 4.10 sec. Users per second: 2445\n",
      "SLIMElasticNetRecommender: URM Detected 449 ( 3.6%) users with no interactions.\n",
      "SLIMElasticNetRecommender: URM Detected 320 ( 1.4%) items with no interactions.\n"
     ]
    },
    {
     "name": "stderr",
     "output_type": "stream",
     "text": [
      "100%|█████████▉| 22216/22222 [00:23<00:00, 939.27it/s] \n"
     ]
    },
    {
     "name": "stdout",
     "output_type": "stream",
     "text": [
      "EvaluatorHoldout: Processed 9989 (100.0%) in 3.96 sec. Users per second: 2519\n",
      "SLIMElasticNetRecommender: URM Detected 460 ( 3.6%) users with no interactions.\n",
      "SLIMElasticNetRecommender: URM Detected 328 ( 1.5%) items with no interactions.\n"
     ]
    },
    {
     "name": "stderr",
     "output_type": "stream",
     "text": [
      "100%|█████████▉| 22216/22222 [00:25<00:00, 854.68it/s] \n"
     ]
    },
    {
     "name": "stdout",
     "output_type": "stream",
     "text": [
      "EvaluatorHoldout: Processed 10024 (100.0%) in 3.79 sec. Users per second: 2648\n",
      "SLIMElasticNetRecommender: URM Detected 426 ( 3.4%) users with no interactions.\n",
      "SLIMElasticNetRecommender: URM Detected 344 ( 1.5%) items with no interactions.\n"
     ]
    },
    {
     "name": "stderr",
     "output_type": "stream",
     "text": [
      "100%|█████████▉| 22216/22222 [00:23<00:00, 943.69it/s] \n"
     ]
    },
    {
     "name": "stdout",
     "output_type": "stream",
     "text": [
      "EvaluatorHoldout: Processed 10030 (100.0%) in 4.46 sec. Users per second: 2247\n",
      "SLIMElasticNetRecommender: URM Detected 471 ( 3.7%) users with no interactions.\n",
      "SLIMElasticNetRecommender: URM Detected 362 ( 1.6%) items with no interactions.\n"
     ]
    },
    {
     "name": "stderr",
     "output_type": "stream",
     "text": [
      "100%|█████████▉| 22216/22222 [00:27<00:00, 821.00it/s] \n"
     ]
    },
    {
     "name": "stdout",
     "output_type": "stream",
     "text": [
      "EvaluatorHoldout: Processed 10052 (100.0%) in 4.07 sec. Users per second: 2472\n",
      "SLIMElasticNetRecommender: URM Detected 478 ( 3.8%) users with no interactions.\n",
      "SLIMElasticNetRecommender: URM Detected 329 ( 1.5%) items with no interactions.\n"
     ]
    },
    {
     "name": "stderr",
     "output_type": "stream",
     "text": [
      "100%|█████████▉| 22216/22222 [00:25<00:00, 875.91it/s] \n"
     ]
    },
    {
     "name": "stdout",
     "output_type": "stream",
     "text": [
      "EvaluatorHoldout: Processed 10045 (100.0%) in 3.91 sec. Users per second: 2568\n",
      "SLIMElasticNetRecommender: URM Detected 460 ( 3.6%) users with no interactions.\n",
      "SLIMElasticNetRecommender: URM Detected 348 ( 1.6%) items with no interactions.\n"
     ]
    },
    {
     "name": "stderr",
     "output_type": "stream",
     "text": [
      "100%|█████████▉| 22216/22222 [00:26<00:00, 824.97it/s] \n"
     ]
    },
    {
     "name": "stdout",
     "output_type": "stream",
     "text": [
      "EvaluatorHoldout: Processed 10068 (100.0%) in 3.93 sec. Users per second: 2564\n"
     ]
    },
    {
     "name": "stderr",
     "output_type": "stream",
     "text": [
      "[I 2024-01-10 01:03:05,110] Trial 64 finished with value: 0.029008349675086215 and parameters: {'alpha': 0.0010510348809137384, 'l1_ratio': 0.2971787394495767, 'topK': 6813}. Best is trial 50 with value: 0.029746219620386934.\n"
     ]
    },
    {
     "name": "stdout",
     "output_type": "stream",
     "text": [
      "SLIMElasticNetRecommender: URM Detected 508 ( 4.0%) users with no interactions.\n",
      "SLIMElasticNetRecommender: URM Detected 332 ( 1.5%) items with no interactions.\n"
     ]
    },
    {
     "name": "stderr",
     "output_type": "stream",
     "text": [
      "100%|█████████▉| 22216/22222 [00:44<00:00, 501.36it/s]\n"
     ]
    },
    {
     "name": "stdout",
     "output_type": "stream",
     "text": [
      "EvaluatorHoldout: Processed 10057 (100.0%) in 4.84 sec. Users per second: 2077\n",
      "SLIMElasticNetRecommender: URM Detected 440 ( 3.5%) users with no interactions.\n",
      "SLIMElasticNetRecommender: URM Detected 325 ( 1.5%) items with no interactions.\n"
     ]
    },
    {
     "name": "stderr",
     "output_type": "stream",
     "text": [
      "100%|█████████▉| 22216/22222 [00:45<00:00, 486.70it/s]\n"
     ]
    },
    {
     "name": "stdout",
     "output_type": "stream",
     "text": [
      "EvaluatorHoldout: Processed 10040 (100.0%) in 4.76 sec. Users per second: 2108\n",
      "SLIMElasticNetRecommender: URM Detected 479 ( 3.8%) users with no interactions.\n",
      "SLIMElasticNetRecommender: URM Detected 345 ( 1.6%) items with no interactions.\n"
     ]
    },
    {
     "name": "stderr",
     "output_type": "stream",
     "text": [
      "100%|█████████▉| 22216/22222 [00:37<00:00, 594.13it/s]\n"
     ]
    },
    {
     "name": "stdout",
     "output_type": "stream",
     "text": [
      "EvaluatorHoldout: Processed 10017 (100.0%) in 4.96 sec. Users per second: 2018\n",
      "SLIMElasticNetRecommender: URM Detected 451 ( 3.6%) users with no interactions.\n",
      "SLIMElasticNetRecommender: URM Detected 311 ( 1.4%) items with no interactions.\n"
     ]
    },
    {
     "name": "stderr",
     "output_type": "stream",
     "text": [
      "100%|█████████▉| 22216/22222 [00:45<00:00, 492.73it/s]\n"
     ]
    },
    {
     "name": "stdout",
     "output_type": "stream",
     "text": [
      "EvaluatorHoldout: Processed 10037 (100.0%) in 4.41 sec. Users per second: 2276\n",
      "SLIMElasticNetRecommender: URM Detected 449 ( 3.6%) users with no interactions.\n",
      "SLIMElasticNetRecommender: URM Detected 320 ( 1.4%) items with no interactions.\n"
     ]
    },
    {
     "name": "stderr",
     "output_type": "stream",
     "text": [
      "100%|█████████▉| 22216/22222 [00:45<00:00, 485.15it/s]\n"
     ]
    },
    {
     "name": "stdout",
     "output_type": "stream",
     "text": [
      "EvaluatorHoldout: Processed 9989 (100.0%) in 3.89 sec. Users per second: 2570\n",
      "SLIMElasticNetRecommender: URM Detected 460 ( 3.6%) users with no interactions.\n",
      "SLIMElasticNetRecommender: URM Detected 328 ( 1.5%) items with no interactions.\n"
     ]
    },
    {
     "name": "stderr",
     "output_type": "stream",
     "text": [
      "100%|█████████▉| 22216/22222 [00:44<00:00, 496.62it/s]\n"
     ]
    },
    {
     "name": "stdout",
     "output_type": "stream",
     "text": [
      "EvaluatorHoldout: Processed 10024 (100.0%) in 4.77 sec. Users per second: 2102\n",
      "SLIMElasticNetRecommender: URM Detected 426 ( 3.4%) users with no interactions.\n",
      "SLIMElasticNetRecommender: URM Detected 344 ( 1.5%) items with no interactions.\n"
     ]
    },
    {
     "name": "stderr",
     "output_type": "stream",
     "text": [
      "100%|█████████▉| 22216/22222 [00:46<00:00, 476.72it/s]\n"
     ]
    },
    {
     "name": "stdout",
     "output_type": "stream",
     "text": [
      "EvaluatorHoldout: Processed 10030 (100.0%) in 4.37 sec. Users per second: 2296\n",
      "SLIMElasticNetRecommender: URM Detected 471 ( 3.7%) users with no interactions.\n",
      "SLIMElasticNetRecommender: URM Detected 362 ( 1.6%) items with no interactions.\n"
     ]
    },
    {
     "name": "stderr",
     "output_type": "stream",
     "text": [
      "100%|█████████▉| 22216/22222 [00:45<00:00, 485.61it/s]\n"
     ]
    },
    {
     "name": "stdout",
     "output_type": "stream",
     "text": [
      "EvaluatorHoldout: Processed 10052 (100.0%) in 3.98 sec. Users per second: 2525\n",
      "SLIMElasticNetRecommender: URM Detected 478 ( 3.8%) users with no interactions.\n",
      "SLIMElasticNetRecommender: URM Detected 329 ( 1.5%) items with no interactions.\n"
     ]
    },
    {
     "name": "stderr",
     "output_type": "stream",
     "text": [
      "100%|█████████▉| 22216/22222 [00:48<00:00, 460.46it/s]\n"
     ]
    },
    {
     "name": "stdout",
     "output_type": "stream",
     "text": [
      "EvaluatorHoldout: Processed 10045 (100.0%) in 4.71 sec. Users per second: 2134\n",
      "SLIMElasticNetRecommender: URM Detected 460 ( 3.6%) users with no interactions.\n",
      "SLIMElasticNetRecommender: URM Detected 348 ( 1.6%) items with no interactions.\n"
     ]
    },
    {
     "name": "stderr",
     "output_type": "stream",
     "text": [
      "100%|█████████▉| 22216/22222 [00:44<00:00, 496.59it/s]\n"
     ]
    },
    {
     "name": "stdout",
     "output_type": "stream",
     "text": [
      "EvaluatorHoldout: Processed 10068 (100.0%) in 4.54 sec. Users per second: 2217\n"
     ]
    },
    {
     "name": "stderr",
     "output_type": "stream",
     "text": [
      "[I 2024-01-10 01:11:32,084] Trial 65 finished with value: 0.029645115085851124 and parameters: {'alpha': 0.00036189939269682704, 'l1_ratio': 0.42009472705361267, 'topK': 6199}. Best is trial 50 with value: 0.029746219620386934.\n"
     ]
    },
    {
     "name": "stdout",
     "output_type": "stream",
     "text": [
      "SLIMElasticNetRecommender: URM Detected 508 ( 4.0%) users with no interactions.\n",
      "SLIMElasticNetRecommender: URM Detected 332 ( 1.5%) items with no interactions.\n"
     ]
    },
    {
     "name": "stderr",
     "output_type": "stream",
     "text": [
      "100%|█████████▉| 22216/22222 [00:24<00:00, 904.02it/s] \n"
     ]
    },
    {
     "name": "stdout",
     "output_type": "stream",
     "text": [
      "EvaluatorHoldout: Processed 10057 (100.0%) in 3.64 sec. Users per second: 2765\n",
      "SLIMElasticNetRecommender: URM Detected 440 ( 3.5%) users with no interactions.\n",
      "SLIMElasticNetRecommender: URM Detected 325 ( 1.5%) items with no interactions.\n"
     ]
    },
    {
     "name": "stderr",
     "output_type": "stream",
     "text": [
      "100%|█████████▉| 22216/22222 [00:21<00:00, 1038.92it/s]\n"
     ]
    },
    {
     "name": "stdout",
     "output_type": "stream",
     "text": [
      "EvaluatorHoldout: Processed 10040 (100.0%) in 3.52 sec. Users per second: 2850\n",
      "SLIMElasticNetRecommender: URM Detected 479 ( 3.8%) users with no interactions.\n",
      "SLIMElasticNetRecommender: URM Detected 345 ( 1.6%) items with no interactions.\n"
     ]
    },
    {
     "name": "stderr",
     "output_type": "stream",
     "text": [
      "100%|█████████▉| 22216/22222 [00:24<00:00, 900.83it/s] \n"
     ]
    },
    {
     "name": "stdout",
     "output_type": "stream",
     "text": [
      "EvaluatorHoldout: Processed 10017 (100.0%) in 3.36 sec. Users per second: 2982\n",
      "SLIMElasticNetRecommender: URM Detected 451 ( 3.6%) users with no interactions.\n",
      "SLIMElasticNetRecommender: URM Detected 311 ( 1.4%) items with no interactions.\n"
     ]
    },
    {
     "name": "stderr",
     "output_type": "stream",
     "text": [
      "100%|█████████▉| 22216/22222 [00:23<00:00, 946.90it/s] \n"
     ]
    },
    {
     "name": "stdout",
     "output_type": "stream",
     "text": [
      "EvaluatorHoldout: Processed 10037 (100.0%) in 3.40 sec. Users per second: 2951\n",
      "SLIMElasticNetRecommender: URM Detected 449 ( 3.6%) users with no interactions.\n",
      "SLIMElasticNetRecommender: URM Detected 320 ( 1.4%) items with no interactions.\n"
     ]
    },
    {
     "name": "stderr",
     "output_type": "stream",
     "text": [
      "100%|█████████▉| 22216/22222 [00:23<00:00, 937.46it/s] \n"
     ]
    },
    {
     "name": "stdout",
     "output_type": "stream",
     "text": [
      "EvaluatorHoldout: Processed 9989 (100.0%) in 3.61 sec. Users per second: 2765\n",
      "SLIMElasticNetRecommender: URM Detected 460 ( 3.6%) users with no interactions.\n",
      "SLIMElasticNetRecommender: URM Detected 328 ( 1.5%) items with no interactions.\n"
     ]
    },
    {
     "name": "stderr",
     "output_type": "stream",
     "text": [
      "100%|█████████▉| 22216/22222 [00:24<00:00, 921.08it/s] \n"
     ]
    },
    {
     "name": "stdout",
     "output_type": "stream",
     "text": [
      "EvaluatorHoldout: Processed 10024 (100.0%) in 3.41 sec. Users per second: 2938\n",
      "SLIMElasticNetRecommender: URM Detected 426 ( 3.4%) users with no interactions.\n",
      "SLIMElasticNetRecommender: URM Detected 344 ( 1.5%) items with no interactions.\n"
     ]
    },
    {
     "name": "stderr",
     "output_type": "stream",
     "text": [
      "100%|█████████▉| 22216/22222 [00:21<00:00, 1034.80it/s]\n"
     ]
    },
    {
     "name": "stdout",
     "output_type": "stream",
     "text": [
      "EvaluatorHoldout: Processed 10030 (100.0%) in 3.88 sec. Users per second: 2585\n",
      "SLIMElasticNetRecommender: URM Detected 471 ( 3.7%) users with no interactions.\n",
      "SLIMElasticNetRecommender: URM Detected 362 ( 1.6%) items with no interactions.\n"
     ]
    },
    {
     "name": "stderr",
     "output_type": "stream",
     "text": [
      "100%|█████████▉| 22216/22222 [00:25<00:00, 877.30it/s] \n"
     ]
    },
    {
     "name": "stdout",
     "output_type": "stream",
     "text": [
      "EvaluatorHoldout: Processed 10052 (100.0%) in 3.48 sec. Users per second: 2889\n",
      "SLIMElasticNetRecommender: URM Detected 478 ( 3.8%) users with no interactions.\n",
      "SLIMElasticNetRecommender: URM Detected 329 ( 1.5%) items with no interactions.\n"
     ]
    },
    {
     "name": "stderr",
     "output_type": "stream",
     "text": [
      "100%|█████████▉| 22216/22222 [00:24<00:00, 896.83it/s] \n"
     ]
    },
    {
     "name": "stdout",
     "output_type": "stream",
     "text": [
      "EvaluatorHoldout: Processed 10045 (100.0%) in 3.51 sec. Users per second: 2863\n",
      "SLIMElasticNetRecommender: URM Detected 460 ( 3.6%) users with no interactions.\n",
      "SLIMElasticNetRecommender: URM Detected 348 ( 1.6%) items with no interactions.\n"
     ]
    },
    {
     "name": "stderr",
     "output_type": "stream",
     "text": [
      "100%|█████████▉| 22216/22222 [00:24<00:00, 909.85it/s] \n"
     ]
    },
    {
     "name": "stdout",
     "output_type": "stream",
     "text": [
      "EvaluatorHoldout: Processed 10068 (100.0%) in 3.73 sec. Users per second: 2697\n"
     ]
    },
    {
     "name": "stderr",
     "output_type": "stream",
     "text": [
      "[I 2024-01-10 01:16:18,815] Trial 68 finished with value: 0.028520084168538507 and parameters: {'alpha': 0.0010790939020288264, 'l1_ratio': 0.36533499117395335, 'topK': 5557}. Best is trial 50 with value: 0.029746219620386934.\n"
     ]
    },
    {
     "name": "stdout",
     "output_type": "stream",
     "text": [
      "SLIMElasticNetRecommender: URM Detected 508 ( 4.0%) users with no interactions.\n",
      "SLIMElasticNetRecommender: URM Detected 332 ( 1.5%) items with no interactions.\n"
     ]
    },
    {
     "name": "stderr",
     "output_type": "stream",
     "text": [
      "100%|█████████▉| 22216/22222 [00:25<00:00, 885.11it/s] \n"
     ]
    },
    {
     "name": "stdout",
     "output_type": "stream",
     "text": [
      "EvaluatorHoldout: Processed 10057 (100.0%) in 3.92 sec. Users per second: 2567\n",
      "SLIMElasticNetRecommender: URM Detected 440 ( 3.5%) users with no interactions.\n",
      "SLIMElasticNetRecommender: URM Detected 325 ( 1.5%) items with no interactions.\n"
     ]
    },
    {
     "name": "stderr",
     "output_type": "stream",
     "text": [
      "100%|█████████▉| 22216/22222 [00:25<00:00, 874.42it/s] \n"
     ]
    },
    {
     "name": "stdout",
     "output_type": "stream",
     "text": [
      "EvaluatorHoldout: Processed 10040 (100.0%) in 3.69 sec. Users per second: 2722\n",
      "SLIMElasticNetRecommender: URM Detected 479 ( 3.8%) users with no interactions.\n",
      "SLIMElasticNetRecommender: URM Detected 345 ( 1.6%) items with no interactions.\n"
     ]
    },
    {
     "name": "stderr",
     "output_type": "stream",
     "text": [
      "100%|█████████▉| 22216/22222 [00:24<00:00, 920.75it/s] \n"
     ]
    },
    {
     "name": "stdout",
     "output_type": "stream",
     "text": [
      "EvaluatorHoldout: Processed 10017 (100.0%) in 3.64 sec. Users per second: 2753\n",
      "SLIMElasticNetRecommender: URM Detected 451 ( 3.6%) users with no interactions.\n",
      "SLIMElasticNetRecommender: URM Detected 311 ( 1.4%) items with no interactions.\n"
     ]
    },
    {
     "name": "stderr",
     "output_type": "stream",
     "text": [
      "100%|█████████▉| 22216/22222 [00:24<00:00, 913.70it/s] \n"
     ]
    },
    {
     "name": "stdout",
     "output_type": "stream",
     "text": [
      "EvaluatorHoldout: Processed 10037 (100.0%) in 3.08 sec. Users per second: 3257\n",
      "SLIMElasticNetRecommender: URM Detected 449 ( 3.6%) users with no interactions.\n",
      "SLIMElasticNetRecommender: URM Detected 320 ( 1.4%) items with no interactions.\n"
     ]
    },
    {
     "name": "stderr",
     "output_type": "stream",
     "text": [
      "100%|█████████▉| 22216/22222 [00:23<00:00, 959.11it/s] \n"
     ]
    },
    {
     "name": "stdout",
     "output_type": "stream",
     "text": [
      "EvaluatorHoldout: Processed 9989 (100.0%) in 3.58 sec. Users per second: 2791\n",
      "SLIMElasticNetRecommender: URM Detected 460 ( 3.6%) users with no interactions.\n",
      "SLIMElasticNetRecommender: URM Detected 328 ( 1.5%) items with no interactions.\n"
     ]
    },
    {
     "name": "stderr",
     "output_type": "stream",
     "text": [
      "100%|█████████▉| 22216/22222 [00:24<00:00, 915.77it/s] \n"
     ]
    },
    {
     "name": "stdout",
     "output_type": "stream",
     "text": [
      "EvaluatorHoldout: Processed 10024 (100.0%) in 3.46 sec. Users per second: 2899\n",
      "SLIMElasticNetRecommender: URM Detected 426 ( 3.4%) users with no interactions.\n",
      "SLIMElasticNetRecommender: URM Detected 344 ( 1.5%) items with no interactions.\n"
     ]
    },
    {
     "name": "stderr",
     "output_type": "stream",
     "text": [
      "100%|█████████▉| 22216/22222 [00:25<00:00, 886.67it/s] \n"
     ]
    },
    {
     "name": "stdout",
     "output_type": "stream",
     "text": [
      "EvaluatorHoldout: Processed 10030 (100.0%) in 3.54 sec. Users per second: 2830\n",
      "SLIMElasticNetRecommender: URM Detected 471 ( 3.7%) users with no interactions.\n",
      "SLIMElasticNetRecommender: URM Detected 362 ( 1.6%) items with no interactions.\n"
     ]
    },
    {
     "name": "stderr",
     "output_type": "stream",
     "text": [
      "100%|█████████▉| 22216/22222 [00:24<00:00, 888.87it/s] \n"
     ]
    },
    {
     "name": "stdout",
     "output_type": "stream",
     "text": [
      "EvaluatorHoldout: Processed 10052 (100.0%) in 3.50 sec. Users per second: 2869\n",
      "SLIMElasticNetRecommender: URM Detected 478 ( 3.8%) users with no interactions.\n",
      "SLIMElasticNetRecommender: URM Detected 329 ( 1.5%) items with no interactions.\n"
     ]
    },
    {
     "name": "stderr",
     "output_type": "stream",
     "text": [
      "100%|█████████▉| 22216/22222 [00:22<00:00, 968.49it/s] \n"
     ]
    },
    {
     "name": "stdout",
     "output_type": "stream",
     "text": [
      "EvaluatorHoldout: Processed 10045 (100.0%) in 3.85 sec. Users per second: 2611\n",
      "SLIMElasticNetRecommender: URM Detected 460 ( 3.6%) users with no interactions.\n",
      "SLIMElasticNetRecommender: URM Detected 348 ( 1.6%) items with no interactions.\n"
     ]
    },
    {
     "name": "stderr",
     "output_type": "stream",
     "text": [
      "100%|█████████▉| 22216/22222 [00:25<00:00, 860.33it/s] \n"
     ]
    },
    {
     "name": "stdout",
     "output_type": "stream",
     "text": [
      "EvaluatorHoldout: Processed 10068 (100.0%) in 3.74 sec. Users per second: 2691\n"
     ]
    },
    {
     "name": "stderr",
     "output_type": "stream",
     "text": [
      "[I 2024-01-10 01:21:13,341] Trial 70 finished with value: 0.028652450451947486 and parameters: {'alpha': 0.0009024125375969831, 'l1_ratio': 0.42297793065097045, 'topK': 7593}. Best is trial 50 with value: 0.029746219620386934.\n"
     ]
    },
    {
     "name": "stdout",
     "output_type": "stream",
     "text": [
      "SLIMElasticNetRecommender: URM Detected 508 ( 4.0%) users with no interactions.\n",
      "SLIMElasticNetRecommender: URM Detected 332 ( 1.5%) items with no interactions.\n"
     ]
    },
    {
     "name": "stderr",
     "output_type": "stream",
     "text": [
      "100%|█████████▉| 22216/22222 [00:21<00:00, 1036.30it/s]\n"
     ]
    },
    {
     "name": "stdout",
     "output_type": "stream",
     "text": [
      "EvaluatorHoldout: Processed 10057 (100.0%) in 3.34 sec. Users per second: 3013\n",
      "SLIMElasticNetRecommender: URM Detected 440 ( 3.5%) users with no interactions.\n",
      "SLIMElasticNetRecommender: URM Detected 325 ( 1.5%) items with no interactions.\n"
     ]
    },
    {
     "name": "stderr",
     "output_type": "stream",
     "text": [
      "100%|█████████▉| 22216/22222 [00:18<00:00, 1198.76it/s]\n"
     ]
    },
    {
     "name": "stdout",
     "output_type": "stream",
     "text": [
      "EvaluatorHoldout: Processed 10040 (100.0%) in 3.45 sec. Users per second: 2909\n",
      "SLIMElasticNetRecommender: URM Detected 479 ( 3.8%) users with no interactions.\n",
      "SLIMElasticNetRecommender: URM Detected 345 ( 1.6%) items with no interactions.\n"
     ]
    },
    {
     "name": "stderr",
     "output_type": "stream",
     "text": [
      "100%|█████████▉| 22216/22222 [00:22<00:00, 986.81it/s] \n"
     ]
    },
    {
     "name": "stdout",
     "output_type": "stream",
     "text": [
      "EvaluatorHoldout: Processed 10017 (100.0%) in 3.31 sec. Users per second: 3026\n",
      "SLIMElasticNetRecommender: URM Detected 451 ( 3.6%) users with no interactions.\n",
      "SLIMElasticNetRecommender: URM Detected 311 ( 1.4%) items with no interactions.\n"
     ]
    },
    {
     "name": "stderr",
     "output_type": "stream",
     "text": [
      "100%|█████████▉| 22216/22222 [00:19<00:00, 1126.45it/s]\n"
     ]
    },
    {
     "name": "stdout",
     "output_type": "stream",
     "text": [
      "EvaluatorHoldout: Processed 10037 (100.0%) in 3.03 sec. Users per second: 3311\n",
      "SLIMElasticNetRecommender: URM Detected 449 ( 3.6%) users with no interactions.\n",
      "SLIMElasticNetRecommender: URM Detected 320 ( 1.4%) items with no interactions.\n"
     ]
    },
    {
     "name": "stderr",
     "output_type": "stream",
     "text": [
      "100%|█████████▉| 22216/22222 [00:20<00:00, 1096.02it/s]\n"
     ]
    },
    {
     "name": "stdout",
     "output_type": "stream",
     "text": [
      "EvaluatorHoldout: Processed 9989 (100.0%) in 3.44 sec. Users per second: 2900\n",
      "SLIMElasticNetRecommender: URM Detected 460 ( 3.6%) users with no interactions.\n",
      "SLIMElasticNetRecommender: URM Detected 328 ( 1.5%) items with no interactions.\n"
     ]
    },
    {
     "name": "stderr",
     "output_type": "stream",
     "text": [
      "100%|█████████▉| 22216/22222 [00:19<00:00, 1129.20it/s]\n"
     ]
    },
    {
     "name": "stdout",
     "output_type": "stream",
     "text": [
      "EvaluatorHoldout: Processed 10024 (100.0%) in 3.11 sec. Users per second: 3223\n",
      "SLIMElasticNetRecommender: URM Detected 426 ( 3.4%) users with no interactions.\n",
      "SLIMElasticNetRecommender: URM Detected 344 ( 1.5%) items with no interactions.\n"
     ]
    },
    {
     "name": "stderr",
     "output_type": "stream",
     "text": [
      "100%|█████████▉| 22216/22222 [00:22<00:00, 998.65it/s] \n"
     ]
    },
    {
     "name": "stdout",
     "output_type": "stream",
     "text": [
      "EvaluatorHoldout: Processed 10030 (100.0%) in 3.39 sec. Users per second: 2959\n",
      "SLIMElasticNetRecommender: URM Detected 471 ( 3.7%) users with no interactions.\n",
      "SLIMElasticNetRecommender: URM Detected 362 ( 1.6%) items with no interactions.\n"
     ]
    },
    {
     "name": "stderr",
     "output_type": "stream",
     "text": [
      "100%|█████████▉| 22216/22222 [00:20<00:00, 1077.80it/s]\n"
     ]
    },
    {
     "name": "stdout",
     "output_type": "stream",
     "text": [
      "EvaluatorHoldout: Processed 10052 (100.0%) in 3.69 sec. Users per second: 2724\n",
      "SLIMElasticNetRecommender: URM Detected 478 ( 3.8%) users with no interactions.\n",
      "SLIMElasticNetRecommender: URM Detected 329 ( 1.5%) items with no interactions.\n"
     ]
    },
    {
     "name": "stderr",
     "output_type": "stream",
     "text": [
      "100%|█████████▉| 22216/22222 [00:20<00:00, 1089.91it/s]\n"
     ]
    },
    {
     "name": "stdout",
     "output_type": "stream",
     "text": [
      "EvaluatorHoldout: Processed 10045 (100.0%) in 3.26 sec. Users per second: 3085\n",
      "SLIMElasticNetRecommender: URM Detected 460 ( 3.6%) users with no interactions.\n",
      "SLIMElasticNetRecommender: URM Detected 348 ( 1.6%) items with no interactions.\n"
     ]
    },
    {
     "name": "stderr",
     "output_type": "stream",
     "text": [
      "100%|█████████▉| 22216/22222 [00:21<00:00, 1039.64it/s]\n"
     ]
    },
    {
     "name": "stdout",
     "output_type": "stream",
     "text": [
      "EvaluatorHoldout: Processed 10068 (100.0%) in 3.27 sec. Users per second: 3076\n"
     ]
    },
    {
     "name": "stderr",
     "output_type": "stream",
     "text": [
      "[I 2024-01-10 01:25:26,683] Trial 72 finished with value: 0.026278012223207897 and parameters: {'alpha': 0.002244320817838941, 'l1_ratio': 0.34145900589574896, 'topK': 4458}. Best is trial 50 with value: 0.029746219620386934.\n"
     ]
    },
    {
     "name": "stdout",
     "output_type": "stream",
     "text": [
      "SLIMElasticNetRecommender: URM Detected 508 ( 4.0%) users with no interactions.\n",
      "SLIMElasticNetRecommender: URM Detected 332 ( 1.5%) items with no interactions.\n"
     ]
    },
    {
     "name": "stderr",
     "output_type": "stream",
     "text": [
      "100%|█████████▉| 22216/22222 [00:17<00:00, 1305.05it/s]\n"
     ]
    },
    {
     "name": "stdout",
     "output_type": "stream",
     "text": [
      "EvaluatorHoldout: Processed 10057 (100.0%) in 3.87 sec. Users per second: 2601\n",
      "SLIMElasticNetRecommender: URM Detected 440 ( 3.5%) users with no interactions.\n",
      "SLIMElasticNetRecommender: URM Detected 325 ( 1.5%) items with no interactions.\n"
     ]
    },
    {
     "name": "stderr",
     "output_type": "stream",
     "text": [
      "100%|█████████▉| 22216/22222 [00:19<00:00, 1142.50it/s]\n"
     ]
    },
    {
     "name": "stdout",
     "output_type": "stream",
     "text": [
      "EvaluatorHoldout: Processed 10040 (100.0%) in 3.43 sec. Users per second: 2927\n",
      "SLIMElasticNetRecommender: URM Detected 479 ( 3.8%) users with no interactions.\n",
      "SLIMElasticNetRecommender: URM Detected 345 ( 1.6%) items with no interactions.\n"
     ]
    },
    {
     "name": "stderr",
     "output_type": "stream",
     "text": [
      "100%|█████████▉| 22216/22222 [00:19<00:00, 1111.48it/s]\n"
     ]
    },
    {
     "name": "stdout",
     "output_type": "stream",
     "text": [
      "EvaluatorHoldout: Processed 10017 (100.0%) in 3.19 sec. Users per second: 3140\n",
      "SLIMElasticNetRecommender: URM Detected 451 ( 3.6%) users with no interactions.\n",
      "SLIMElasticNetRecommender: URM Detected 311 ( 1.4%) items with no interactions.\n"
     ]
    },
    {
     "name": "stderr",
     "output_type": "stream",
     "text": [
      "100%|█████████▉| 22216/22222 [00:19<00:00, 1132.88it/s]\n"
     ]
    },
    {
     "name": "stdout",
     "output_type": "stream",
     "text": [
      "EvaluatorHoldout: Processed 10037 (100.0%) in 3.25 sec. Users per second: 3084\n",
      "SLIMElasticNetRecommender: URM Detected 449 ( 3.6%) users with no interactions.\n",
      "SLIMElasticNetRecommender: URM Detected 320 ( 1.4%) items with no interactions.\n"
     ]
    },
    {
     "name": "stderr",
     "output_type": "stream",
     "text": [
      "100%|█████████▉| 22216/22222 [00:20<00:00, 1082.31it/s]\n"
     ]
    },
    {
     "name": "stdout",
     "output_type": "stream",
     "text": [
      "EvaluatorHoldout: Processed 9989 (100.0%) in 4.25 sec. Users per second: 2352\n",
      "SLIMElasticNetRecommender: URM Detected 460 ( 3.6%) users with no interactions.\n",
      "SLIMElasticNetRecommender: URM Detected 328 ( 1.5%) items with no interactions.\n"
     ]
    },
    {
     "name": "stderr",
     "output_type": "stream",
     "text": [
      "100%|█████████▉| 22216/22222 [00:18<00:00, 1188.23it/s]\n"
     ]
    },
    {
     "name": "stdout",
     "output_type": "stream",
     "text": [
      "EvaluatorHoldout: Processed 10024 (100.0%) in 4.04 sec. Users per second: 2482\n",
      "SLIMElasticNetRecommender: URM Detected 426 ( 3.4%) users with no interactions.\n",
      "SLIMElasticNetRecommender: URM Detected 344 ( 1.5%) items with no interactions.\n"
     ]
    },
    {
     "name": "stderr",
     "output_type": "stream",
     "text": [
      "100%|█████████▉| 22216/22222 [00:20<00:00, 1108.76it/s]\n"
     ]
    },
    {
     "name": "stdout",
     "output_type": "stream",
     "text": [
      "EvaluatorHoldout: Processed 10030 (100.0%) in 2.79 sec. Users per second: 3592\n",
      "SLIMElasticNetRecommender: URM Detected 471 ( 3.7%) users with no interactions.\n",
      "SLIMElasticNetRecommender: URM Detected 362 ( 1.6%) items with no interactions.\n"
     ]
    },
    {
     "name": "stderr",
     "output_type": "stream",
     "text": [
      "100%|█████████▉| 22216/22222 [00:21<00:00, 1022.64it/s]\n"
     ]
    },
    {
     "name": "stdout",
     "output_type": "stream",
     "text": [
      "EvaluatorHoldout: Processed 10052 (100.0%) in 3.36 sec. Users per second: 2991\n",
      "SLIMElasticNetRecommender: URM Detected 478 ( 3.8%) users with no interactions.\n",
      "SLIMElasticNetRecommender: URM Detected 329 ( 1.5%) items with no interactions.\n"
     ]
    },
    {
     "name": "stderr",
     "output_type": "stream",
     "text": [
      "100%|█████████▉| 22216/22222 [00:20<00:00, 1069.21it/s]\n"
     ]
    },
    {
     "name": "stdout",
     "output_type": "stream",
     "text": [
      "EvaluatorHoldout: Processed 10045 (100.0%) in 3.48 sec. Users per second: 2890\n",
      "SLIMElasticNetRecommender: URM Detected 460 ( 3.6%) users with no interactions.\n",
      "SLIMElasticNetRecommender: URM Detected 348 ( 1.6%) items with no interactions.\n"
     ]
    },
    {
     "name": "stderr",
     "output_type": "stream",
     "text": [
      "100%|█████████▉| 22216/22222 [00:19<00:00, 1149.38it/s]\n"
     ]
    },
    {
     "name": "stdout",
     "output_type": "stream",
     "text": [
      "EvaluatorHoldout: Processed 10068 (100.0%) in 3.69 sec. Users per second: 2725\n"
     ]
    },
    {
     "name": "stderr",
     "output_type": "stream",
     "text": [
      "[I 2024-01-10 01:29:32,431] Trial 73 finished with value: 0.02655627480478572 and parameters: {'alpha': 0.00262580117884551, 'l1_ratio': 0.2608839408245144, 'topK': 3251}. Best is trial 50 with value: 0.029746219620386934.\n"
     ]
    },
    {
     "name": "stdout",
     "output_type": "stream",
     "text": [
      "SLIMElasticNetRecommender: URM Detected 508 ( 4.0%) users with no interactions.\n",
      "SLIMElasticNetRecommender: URM Detected 332 ( 1.5%) items with no interactions.\n"
     ]
    },
    {
     "name": "stderr",
     "output_type": "stream",
     "text": [
      "100%|█████████▉| 22216/22222 [00:21<00:00, 1013.97it/s]\n"
     ]
    },
    {
     "name": "stdout",
     "output_type": "stream",
     "text": [
      "EvaluatorHoldout: Processed 10057 (100.0%) in 2.85 sec. Users per second: 3527\n",
      "SLIMElasticNetRecommender: URM Detected 440 ( 3.5%) users with no interactions.\n",
      "SLIMElasticNetRecommender: URM Detected 325 ( 1.5%) items with no interactions.\n"
     ]
    },
    {
     "name": "stderr",
     "output_type": "stream",
     "text": [
      "100%|█████████▉| 22216/22222 [00:20<00:00, 1081.35it/s]\n"
     ]
    },
    {
     "name": "stdout",
     "output_type": "stream",
     "text": [
      "EvaluatorHoldout: Processed 10040 (100.0%) in 3.21 sec. Users per second: 3130\n",
      "SLIMElasticNetRecommender: URM Detected 479 ( 3.8%) users with no interactions.\n",
      "SLIMElasticNetRecommender: URM Detected 345 ( 1.6%) items with no interactions.\n"
     ]
    },
    {
     "name": "stderr",
     "output_type": "stream",
     "text": [
      "100%|█████████▉| 22216/22222 [00:15<00:00, 1436.85it/s]\n"
     ]
    },
    {
     "name": "stdout",
     "output_type": "stream",
     "text": [
      "EvaluatorHoldout: Processed 10017 (100.0%) in 3.33 sec. Users per second: 3008\n",
      "SLIMElasticNetRecommender: URM Detected 451 ( 3.6%) users with no interactions.\n",
      "SLIMElasticNetRecommender: URM Detected 311 ( 1.4%) items with no interactions.\n"
     ]
    },
    {
     "name": "stderr",
     "output_type": "stream",
     "text": [
      "100%|█████████▉| 22216/22222 [00:19<00:00, 1130.88it/s]\n"
     ]
    },
    {
     "name": "stdout",
     "output_type": "stream",
     "text": [
      "EvaluatorHoldout: Processed 10037 (100.0%) in 3.60 sec. Users per second: 2787\n",
      "SLIMElasticNetRecommender: URM Detected 449 ( 3.6%) users with no interactions.\n",
      "SLIMElasticNetRecommender: URM Detected 320 ( 1.4%) items with no interactions.\n"
     ]
    },
    {
     "name": "stderr",
     "output_type": "stream",
     "text": [
      "100%|█████████▉| 22216/22222 [00:19<00:00, 1135.94it/s]\n"
     ]
    },
    {
     "name": "stdout",
     "output_type": "stream",
     "text": [
      "EvaluatorHoldout: Processed 9989 (100.0%) in 4.17 sec. Users per second: 2398\n",
      "SLIMElasticNetRecommender: URM Detected 460 ( 3.6%) users with no interactions.\n",
      "SLIMElasticNetRecommender: URM Detected 328 ( 1.5%) items with no interactions.\n"
     ]
    },
    {
     "name": "stderr",
     "output_type": "stream",
     "text": [
      "100%|█████████▉| 22216/22222 [00:18<00:00, 1170.11it/s]\n"
     ]
    },
    {
     "name": "stdout",
     "output_type": "stream",
     "text": [
      "EvaluatorHoldout: Processed 10024 (100.0%) in 4.05 sec. Users per second: 2474\n",
      "SLIMElasticNetRecommender: URM Detected 426 ( 3.4%) users with no interactions.\n",
      "SLIMElasticNetRecommender: URM Detected 344 ( 1.5%) items with no interactions.\n"
     ]
    },
    {
     "name": "stderr",
     "output_type": "stream",
     "text": [
      "100%|█████████▉| 22216/22222 [00:19<00:00, 1114.33it/s]\n"
     ]
    },
    {
     "name": "stdout",
     "output_type": "stream",
     "text": [
      "EvaluatorHoldout: Processed 10030 (100.0%) in 3.85 sec. Users per second: 2604\n",
      "SLIMElasticNetRecommender: URM Detected 471 ( 3.7%) users with no interactions.\n",
      "SLIMElasticNetRecommender: URM Detected 362 ( 1.6%) items with no interactions.\n"
     ]
    },
    {
     "name": "stderr",
     "output_type": "stream",
     "text": [
      "100%|█████████▉| 22216/22222 [00:20<00:00, 1089.52it/s]\n"
     ]
    },
    {
     "name": "stdout",
     "output_type": "stream",
     "text": [
      "EvaluatorHoldout: Processed 10052 (100.0%) in 3.96 sec. Users per second: 2539\n",
      "SLIMElasticNetRecommender: URM Detected 478 ( 3.8%) users with no interactions.\n",
      "SLIMElasticNetRecommender: URM Detected 329 ( 1.5%) items with no interactions.\n"
     ]
    },
    {
     "name": "stderr",
     "output_type": "stream",
     "text": [
      "100%|█████████▉| 22216/22222 [00:19<00:00, 1120.54it/s]\n"
     ]
    },
    {
     "name": "stdout",
     "output_type": "stream",
     "text": [
      "EvaluatorHoldout: Processed 10045 (100.0%) in 3.74 sec. Users per second: 2685\n",
      "SLIMElasticNetRecommender: URM Detected 460 ( 3.6%) users with no interactions.\n",
      "SLIMElasticNetRecommender: URM Detected 348 ( 1.6%) items with no interactions.\n"
     ]
    },
    {
     "name": "stderr",
     "output_type": "stream",
     "text": [
      "100%|█████████▉| 22216/22222 [00:20<00:00, 1102.60it/s]\n"
     ]
    },
    {
     "name": "stdout",
     "output_type": "stream",
     "text": [
      "EvaluatorHoldout: Processed 10068 (100.0%) in 3.87 sec. Users per second: 2601\n"
     ]
    },
    {
     "name": "stderr",
     "output_type": "stream",
     "text": [
      "[I 2024-01-10 01:33:39,607] Trial 75 finished with value: 0.027148053257024074 and parameters: {'alpha': 0.0016500608202733528, 'l1_ratio': 0.3731718451662765, 'topK': 8276}. Best is trial 50 with value: 0.029746219620386934.\n"
     ]
    },
    {
     "name": "stdout",
     "output_type": "stream",
     "text": [
      "SLIMElasticNetRecommender: URM Detected 508 ( 4.0%) users with no interactions.\n",
      "SLIMElasticNetRecommender: URM Detected 332 ( 1.5%) items with no interactions.\n"
     ]
    },
    {
     "name": "stderr",
     "output_type": "stream",
     "text": [
      "100%|█████████▉| 22216/22222 [00:33<00:00, 655.96it/s] \n"
     ]
    },
    {
     "name": "stdout",
     "output_type": "stream",
     "text": [
      "EvaluatorHoldout: Processed 10057 (100.0%) in 5.27 sec. Users per second: 1908\n",
      "SLIMElasticNetRecommender: URM Detected 440 ( 3.5%) users with no interactions.\n",
      "SLIMElasticNetRecommender: URM Detected 325 ( 1.5%) items with no interactions.\n"
     ]
    },
    {
     "name": "stderr",
     "output_type": "stream",
     "text": [
      "100%|█████████▉| 22216/22222 [00:24<00:00, 909.02it/s] \n"
     ]
    },
    {
     "name": "stdout",
     "output_type": "stream",
     "text": [
      "EvaluatorHoldout: Processed 10040 (100.0%) in 4.33 sec. Users per second: 2317\n",
      "SLIMElasticNetRecommender: URM Detected 479 ( 3.8%) users with no interactions.\n",
      "SLIMElasticNetRecommender: URM Detected 345 ( 1.6%) items with no interactions.\n"
     ]
    },
    {
     "name": "stderr",
     "output_type": "stream",
     "text": [
      "100%|█████████▉| 22216/22222 [00:35<00:00, 634.06it/s] \n"
     ]
    },
    {
     "name": "stdout",
     "output_type": "stream",
     "text": [
      "EvaluatorHoldout: Processed 10017 (100.0%) in 4.29 sec. Users per second: 2334\n",
      "SLIMElasticNetRecommender: URM Detected 451 ( 3.6%) users with no interactions.\n",
      "SLIMElasticNetRecommender: URM Detected 311 ( 1.4%) items with no interactions.\n"
     ]
    },
    {
     "name": "stderr",
     "output_type": "stream",
     "text": [
      "100%|█████████▉| 22216/22222 [00:33<00:00, 667.92it/s] \n"
     ]
    },
    {
     "name": "stdout",
     "output_type": "stream",
     "text": [
      "EvaluatorHoldout: Processed 10037 (100.0%) in 3.70 sec. Users per second: 2714\n",
      "SLIMElasticNetRecommender: URM Detected 449 ( 3.6%) users with no interactions.\n",
      "SLIMElasticNetRecommender: URM Detected 320 ( 1.4%) items with no interactions.\n"
     ]
    },
    {
     "name": "stderr",
     "output_type": "stream",
     "text": [
      "100%|█████████▉| 22216/22222 [00:35<00:00, 625.42it/s] \n"
     ]
    },
    {
     "name": "stdout",
     "output_type": "stream",
     "text": [
      "EvaluatorHoldout: Processed 9989 (100.0%) in 4.52 sec. Users per second: 2212\n",
      "SLIMElasticNetRecommender: URM Detected 460 ( 3.6%) users with no interactions.\n",
      "SLIMElasticNetRecommender: URM Detected 328 ( 1.5%) items with no interactions.\n"
     ]
    },
    {
     "name": "stderr",
     "output_type": "stream",
     "text": [
      "100%|█████████▉| 22216/22222 [00:34<00:00, 647.55it/s]\n"
     ]
    },
    {
     "name": "stdout",
     "output_type": "stream",
     "text": [
      "EvaluatorHoldout: Processed 10024 (100.0%) in 4.33 sec. Users per second: 2316\n",
      "SLIMElasticNetRecommender: URM Detected 426 ( 3.4%) users with no interactions.\n",
      "SLIMElasticNetRecommender: URM Detected 344 ( 1.5%) items with no interactions.\n"
     ]
    },
    {
     "name": "stderr",
     "output_type": "stream",
     "text": [
      "100%|█████████▉| 22216/22222 [00:32<00:00, 692.66it/s] \n"
     ]
    },
    {
     "name": "stdout",
     "output_type": "stream",
     "text": [
      "EvaluatorHoldout: Processed 10030 (100.0%) in 3.95 sec. Users per second: 2539\n",
      "SLIMElasticNetRecommender: URM Detected 471 ( 3.7%) users with no interactions.\n",
      "SLIMElasticNetRecommender: URM Detected 362 ( 1.6%) items with no interactions.\n"
     ]
    },
    {
     "name": "stderr",
     "output_type": "stream",
     "text": [
      "100%|█████████▉| 22216/22222 [00:35<00:00, 632.91it/s] \n"
     ]
    },
    {
     "name": "stdout",
     "output_type": "stream",
     "text": [
      "EvaluatorHoldout: Processed 10052 (100.0%) in 4.13 sec. Users per second: 2434\n",
      "SLIMElasticNetRecommender: URM Detected 478 ( 3.8%) users with no interactions.\n",
      "SLIMElasticNetRecommender: URM Detected 329 ( 1.5%) items with no interactions.\n"
     ]
    },
    {
     "name": "stderr",
     "output_type": "stream",
     "text": [
      "100%|█████████▉| 22216/22222 [00:33<00:00, 654.20it/s] \n"
     ]
    },
    {
     "name": "stdout",
     "output_type": "stream",
     "text": [
      "EvaluatorHoldout: Processed 10045 (100.0%) in 3.79 sec. Users per second: 2653\n",
      "SLIMElasticNetRecommender: URM Detected 460 ( 3.6%) users with no interactions.\n",
      "SLIMElasticNetRecommender: URM Detected 348 ( 1.6%) items with no interactions.\n"
     ]
    },
    {
     "name": "stderr",
     "output_type": "stream",
     "text": [
      "100%|█████████▉| 22216/22222 [00:34<00:00, 650.83it/s] \n"
     ]
    },
    {
     "name": "stdout",
     "output_type": "stream",
     "text": [
      "EvaluatorHoldout: Processed 10068 (100.0%) in 4.19 sec. Users per second: 2401\n"
     ]
    },
    {
     "name": "stderr",
     "output_type": "stream",
     "text": [
      "[I 2024-01-10 01:40:08,114] Trial 76 finished with value: 0.029638177867805326 and parameters: {'alpha': 0.0005644226557345506, 'l1_ratio': 0.37667525347960085, 'topK': 9617}. Best is trial 50 with value: 0.029746219620386934.\n"
     ]
    },
    {
     "name": "stdout",
     "output_type": "stream",
     "text": [
      "SLIMElasticNetRecommender: URM Detected 508 ( 4.0%) users with no interactions.\n",
      "SLIMElasticNetRecommender: URM Detected 332 ( 1.5%) items with no interactions.\n"
     ]
    },
    {
     "name": "stderr",
     "output_type": "stream",
     "text": [
      "100%|█████████▉| 22216/22222 [01:23<00:00, 265.24it/s]\n"
     ]
    },
    {
     "name": "stdout",
     "output_type": "stream",
     "text": [
      "EvaluatorHoldout: Processed 10057 (100.0%) in 4.74 sec. Users per second: 2122\n",
      "SLIMElasticNetRecommender: URM Detected 440 ( 3.5%) users with no interactions.\n",
      "SLIMElasticNetRecommender: URM Detected 325 ( 1.5%) items with no interactions.\n"
     ]
    },
    {
     "name": "stderr",
     "output_type": "stream",
     "text": [
      "100%|█████████▉| 22216/22222 [01:22<00:00, 268.49it/s]\n"
     ]
    },
    {
     "name": "stdout",
     "output_type": "stream",
     "text": [
      "EvaluatorHoldout: Processed 10040 (100.0%) in 4.97 sec. Users per second: 2020\n",
      "SLIMElasticNetRecommender: URM Detected 479 ( 3.8%) users with no interactions.\n",
      "SLIMElasticNetRecommender: URM Detected 345 ( 1.6%) items with no interactions.\n"
     ]
    },
    {
     "name": "stderr",
     "output_type": "stream",
     "text": [
      "100%|█████████▉| 22216/22222 [01:22<00:00, 268.70it/s]\n"
     ]
    },
    {
     "name": "stdout",
     "output_type": "stream",
     "text": [
      "EvaluatorHoldout: Processed 10017 (100.0%) in 4.57 sec. Users per second: 2191\n",
      "SLIMElasticNetRecommender: URM Detected 451 ( 3.6%) users with no interactions.\n",
      "SLIMElasticNetRecommender: URM Detected 311 ( 1.4%) items with no interactions.\n"
     ]
    },
    {
     "name": "stderr",
     "output_type": "stream",
     "text": [
      "100%|█████████▉| 22216/22222 [01:25<00:00, 260.20it/s]\n"
     ]
    },
    {
     "name": "stdout",
     "output_type": "stream",
     "text": [
      "EvaluatorHoldout: Processed 10037 (100.0%) in 4.67 sec. Users per second: 2149\n",
      "SLIMElasticNetRecommender: URM Detected 449 ( 3.6%) users with no interactions.\n",
      "SLIMElasticNetRecommender: URM Detected 320 ( 1.4%) items with no interactions.\n"
     ]
    },
    {
     "name": "stderr",
     "output_type": "stream",
     "text": [
      "100%|█████████▉| 22216/22222 [01:22<00:00, 267.67it/s]\n"
     ]
    },
    {
     "name": "stdout",
     "output_type": "stream",
     "text": [
      "EvaluatorHoldout: Processed 9989 (100.0%) in 4.54 sec. Users per second: 2202\n",
      "SLIMElasticNetRecommender: URM Detected 460 ( 3.6%) users with no interactions.\n",
      "SLIMElasticNetRecommender: URM Detected 328 ( 1.5%) items with no interactions.\n"
     ]
    },
    {
     "name": "stderr",
     "output_type": "stream",
     "text": [
      "100%|█████████▉| 22216/22222 [01:23<00:00, 265.31it/s]\n"
     ]
    },
    {
     "name": "stdout",
     "output_type": "stream",
     "text": [
      "EvaluatorHoldout: Processed 10024 (100.0%) in 4.57 sec. Users per second: 2196\n",
      "SLIMElasticNetRecommender: URM Detected 426 ( 3.4%) users with no interactions.\n",
      "SLIMElasticNetRecommender: URM Detected 344 ( 1.5%) items with no interactions.\n"
     ]
    },
    {
     "name": "stderr",
     "output_type": "stream",
     "text": [
      "100%|█████████▉| 22216/22222 [01:23<00:00, 266.53it/s]\n"
     ]
    },
    {
     "name": "stdout",
     "output_type": "stream",
     "text": [
      "EvaluatorHoldout: Processed 10030 (100.0%) in 4.88 sec. Users per second: 2053\n",
      "SLIMElasticNetRecommender: URM Detected 471 ( 3.7%) users with no interactions.\n",
      "SLIMElasticNetRecommender: URM Detected 362 ( 1.6%) items with no interactions.\n"
     ]
    },
    {
     "name": "stderr",
     "output_type": "stream",
     "text": [
      "100%|█████████▉| 22216/22222 [01:14<00:00, 299.06it/s]\n"
     ]
    },
    {
     "name": "stdout",
     "output_type": "stream",
     "text": [
      "EvaluatorHoldout: Processed 10052 (100.0%) in 4.73 sec. Users per second: 2123\n",
      "SLIMElasticNetRecommender: URM Detected 478 ( 3.8%) users with no interactions.\n",
      "SLIMElasticNetRecommender: URM Detected 329 ( 1.5%) items with no interactions.\n"
     ]
    },
    {
     "name": "stderr",
     "output_type": "stream",
     "text": [
      "100%|█████████▉| 22216/22222 [01:22<00:00, 269.88it/s]\n"
     ]
    },
    {
     "name": "stdout",
     "output_type": "stream",
     "text": [
      "EvaluatorHoldout: Processed 10045 (100.0%) in 4.96 sec. Users per second: 2023\n",
      "SLIMElasticNetRecommender: URM Detected 460 ( 3.6%) users with no interactions.\n",
      "SLIMElasticNetRecommender: URM Detected 348 ( 1.6%) items with no interactions.\n"
     ]
    },
    {
     "name": "stderr",
     "output_type": "stream",
     "text": [
      "100%|█████████▉| 22216/22222 [01:25<00:00, 260.78it/s]\n"
     ]
    },
    {
     "name": "stdout",
     "output_type": "stream",
     "text": [
      "EvaluatorHoldout: Processed 10068 (100.0%) in 4.58 sec. Users per second: 2198\n"
     ]
    },
    {
     "name": "stderr",
     "output_type": "stream",
     "text": [
      "[I 2024-01-10 01:55:00,313] Trial 79 finished with value: 0.023878171153592392 and parameters: {'alpha': 8.022569942949805e-05, 'l1_ratio': 0.45245619468043796, 'topK': 9546}. Best is trial 50 with value: 0.029746219620386934.\n"
     ]
    },
    {
     "name": "stdout",
     "output_type": "stream",
     "text": [
      "SLIMElasticNetRecommender: URM Detected 508 ( 4.0%) users with no interactions.\n",
      "SLIMElasticNetRecommender: URM Detected 332 ( 1.5%) items with no interactions.\n"
     ]
    },
    {
     "name": "stderr",
     "output_type": "stream",
     "text": [
      "100%|█████████▉| 22216/22222 [00:27<00:00, 805.55it/s] \n"
     ]
    },
    {
     "name": "stdout",
     "output_type": "stream",
     "text": [
      "EvaluatorHoldout: Processed 10057 (100.0%) in 3.91 sec. Users per second: 2571\n",
      "SLIMElasticNetRecommender: URM Detected 440 ( 3.5%) users with no interactions.\n",
      "SLIMElasticNetRecommender: URM Detected 325 ( 1.5%) items with no interactions.\n"
     ]
    },
    {
     "name": "stderr",
     "output_type": "stream",
     "text": [
      "100%|█████████▉| 22216/22222 [00:29<00:00, 742.71it/s] \n"
     ]
    },
    {
     "name": "stdout",
     "output_type": "stream",
     "text": [
      "EvaluatorHoldout: Processed 10040 (100.0%) in 4.24 sec. Users per second: 2368\n",
      "SLIMElasticNetRecommender: URM Detected 479 ( 3.8%) users with no interactions.\n",
      "SLIMElasticNetRecommender: URM Detected 345 ( 1.6%) items with no interactions.\n"
     ]
    },
    {
     "name": "stderr",
     "output_type": "stream",
     "text": [
      "100%|█████████▉| 22216/22222 [00:25<00:00, 862.55it/s] \n"
     ]
    },
    {
     "name": "stdout",
     "output_type": "stream",
     "text": [
      "EvaluatorHoldout: Processed 10017 (100.0%) in 4.17 sec. Users per second: 2405\n",
      "SLIMElasticNetRecommender: URM Detected 451 ( 3.6%) users with no interactions.\n",
      "SLIMElasticNetRecommender: URM Detected 311 ( 1.4%) items with no interactions.\n"
     ]
    },
    {
     "name": "stderr",
     "output_type": "stream",
     "text": [
      "100%|█████████▉| 22216/22222 [00:25<00:00, 860.70it/s] \n"
     ]
    },
    {
     "name": "stdout",
     "output_type": "stream",
     "text": [
      "EvaluatorHoldout: Processed 10037 (100.0%) in 4.09 sec. Users per second: 2456\n",
      "SLIMElasticNetRecommender: URM Detected 449 ( 3.6%) users with no interactions.\n",
      "SLIMElasticNetRecommender: URM Detected 320 ( 1.4%) items with no interactions.\n"
     ]
    },
    {
     "name": "stderr",
     "output_type": "stream",
     "text": [
      "100%|█████████▉| 22216/22222 [00:25<00:00, 882.14it/s] \n"
     ]
    },
    {
     "name": "stdout",
     "output_type": "stream",
     "text": [
      "EvaluatorHoldout: Processed 9989 (100.0%) in 4.07 sec. Users per second: 2452\n",
      "SLIMElasticNetRecommender: URM Detected 460 ( 3.6%) users with no interactions.\n",
      "SLIMElasticNetRecommender: URM Detected 328 ( 1.5%) items with no interactions.\n"
     ]
    },
    {
     "name": "stderr",
     "output_type": "stream",
     "text": [
      "100%|█████████▉| 22216/22222 [00:25<00:00, 871.30it/s] \n"
     ]
    },
    {
     "name": "stdout",
     "output_type": "stream",
     "text": [
      "EvaluatorHoldout: Processed 10024 (100.0%) in 4.25 sec. Users per second: 2357\n",
      "SLIMElasticNetRecommender: URM Detected 426 ( 3.4%) users with no interactions.\n",
      "SLIMElasticNetRecommender: URM Detected 344 ( 1.5%) items with no interactions.\n"
     ]
    },
    {
     "name": "stderr",
     "output_type": "stream",
     "text": [
      "100%|█████████▉| 22216/22222 [00:25<00:00, 857.25it/s] \n"
     ]
    },
    {
     "name": "stdout",
     "output_type": "stream",
     "text": [
      "EvaluatorHoldout: Processed 10030 (100.0%) in 3.83 sec. Users per second: 2618\n",
      "SLIMElasticNetRecommender: URM Detected 471 ( 3.7%) users with no interactions.\n",
      "SLIMElasticNetRecommender: URM Detected 362 ( 1.6%) items with no interactions.\n"
     ]
    },
    {
     "name": "stderr",
     "output_type": "stream",
     "text": [
      "100%|█████████▉| 22216/22222 [00:27<00:00, 809.73it/s] \n"
     ]
    },
    {
     "name": "stdout",
     "output_type": "stream",
     "text": [
      "EvaluatorHoldout: Processed 10052 (100.0%) in 3.94 sec. Users per second: 2551\n",
      "SLIMElasticNetRecommender: URM Detected 478 ( 3.8%) users with no interactions.\n",
      "SLIMElasticNetRecommender: URM Detected 329 ( 1.5%) items with no interactions.\n"
     ]
    },
    {
     "name": "stderr",
     "output_type": "stream",
     "text": [
      "100%|█████████▉| 22216/22222 [00:24<00:00, 912.99it/s] \n"
     ]
    },
    {
     "name": "stdout",
     "output_type": "stream",
     "text": [
      "EvaluatorHoldout: Processed 10045 (100.0%) in 4.09 sec. Users per second: 2455\n",
      "SLIMElasticNetRecommender: URM Detected 460 ( 3.6%) users with no interactions.\n",
      "SLIMElasticNetRecommender: URM Detected 348 ( 1.6%) items with no interactions.\n"
     ]
    },
    {
     "name": "stderr",
     "output_type": "stream",
     "text": [
      "100%|█████████▉| 22216/22222 [00:28<00:00, 786.98it/s] \n"
     ]
    },
    {
     "name": "stdout",
     "output_type": "stream",
     "text": [
      "EvaluatorHoldout: Processed 10068 (100.0%) in 3.96 sec. Users per second: 2541\n"
     ]
    },
    {
     "name": "stderr",
     "output_type": "stream",
     "text": [
      "[I 2024-01-10 02:00:27,696] Trial 81 finished with value: 0.0290156453214444 and parameters: {'alpha': 0.0013318292085854814, 'l1_ratio': 0.2193784318310996, 'topK': 5302}. Best is trial 50 with value: 0.029746219620386934.\n"
     ]
    },
    {
     "name": "stdout",
     "output_type": "stream",
     "text": [
      "SLIMElasticNetRecommender: URM Detected 508 ( 4.0%) users with no interactions.\n",
      "SLIMElasticNetRecommender: URM Detected 332 ( 1.5%) items with no interactions.\n"
     ]
    },
    {
     "name": "stderr",
     "output_type": "stream",
     "text": [
      "100%|█████████▉| 22216/22222 [01:24<00:00, 263.13it/s]\n"
     ]
    },
    {
     "name": "stdout",
     "output_type": "stream",
     "text": [
      "EvaluatorHoldout: Processed 10057 (100.0%) in 5.13 sec. Users per second: 1961\n",
      "SLIMElasticNetRecommender: URM Detected 440 ( 3.5%) users with no interactions.\n",
      "SLIMElasticNetRecommender: URM Detected 325 ( 1.5%) items with no interactions.\n"
     ]
    },
    {
     "name": "stderr",
     "output_type": "stream",
     "text": [
      "100%|█████████▉| 22216/22222 [01:32<00:00, 240.06it/s]\n"
     ]
    },
    {
     "name": "stdout",
     "output_type": "stream",
     "text": [
      "EvaluatorHoldout: Processed 10040 (100.0%) in 4.87 sec. Users per second: 2063\n",
      "SLIMElasticNetRecommender: URM Detected 479 ( 3.8%) users with no interactions.\n",
      "SLIMElasticNetRecommender: URM Detected 345 ( 1.6%) items with no interactions.\n"
     ]
    },
    {
     "name": "stderr",
     "output_type": "stream",
     "text": [
      "100%|█████████▉| 22216/22222 [01:34<00:00, 236.05it/s]\n"
     ]
    },
    {
     "name": "stdout",
     "output_type": "stream",
     "text": [
      "EvaluatorHoldout: Processed 10017 (100.0%) in 5.90 sec. Users per second: 1697\n",
      "SLIMElasticNetRecommender: URM Detected 451 ( 3.6%) users with no interactions.\n",
      "SLIMElasticNetRecommender: URM Detected 311 ( 1.4%) items with no interactions.\n"
     ]
    },
    {
     "name": "stderr",
     "output_type": "stream",
     "text": [
      "100%|█████████▉| 22216/22222 [01:34<00:00, 235.59it/s]\n"
     ]
    },
    {
     "name": "stdout",
     "output_type": "stream",
     "text": [
      "EvaluatorHoldout: Processed 10037 (100.0%) in 5.37 sec. Users per second: 1869\n",
      "SLIMElasticNetRecommender: URM Detected 449 ( 3.6%) users with no interactions.\n",
      "SLIMElasticNetRecommender: URM Detected 320 ( 1.4%) items with no interactions.\n"
     ]
    },
    {
     "name": "stderr",
     "output_type": "stream",
     "text": [
      "100%|█████████▉| 22216/22222 [01:33<00:00, 237.06it/s]\n"
     ]
    },
    {
     "name": "stdout",
     "output_type": "stream",
     "text": [
      "EvaluatorHoldout: Processed 9989 (100.0%) in 5.04 sec. Users per second: 1981\n",
      "SLIMElasticNetRecommender: URM Detected 460 ( 3.6%) users with no interactions.\n",
      "SLIMElasticNetRecommender: URM Detected 328 ( 1.5%) items with no interactions.\n"
     ]
    },
    {
     "name": "stderr",
     "output_type": "stream",
     "text": [
      "100%|█████████▉| 22216/22222 [01:33<00:00, 237.48it/s]\n"
     ]
    },
    {
     "name": "stdout",
     "output_type": "stream",
     "text": [
      "EvaluatorHoldout: Processed 10024 (100.0%) in 3.56 sec. Users per second: 2816\n",
      "SLIMElasticNetRecommender: URM Detected 426 ( 3.4%) users with no interactions.\n",
      "SLIMElasticNetRecommender: URM Detected 344 ( 1.5%) items with no interactions.\n"
     ]
    },
    {
     "name": "stderr",
     "output_type": "stream",
     "text": [
      "100%|█████████▉| 22216/22222 [01:25<00:00, 259.68it/s]\n"
     ]
    },
    {
     "name": "stdout",
     "output_type": "stream",
     "text": [
      "EvaluatorHoldout: Processed 10030 (100.0%) in 5.02 sec. Users per second: 1998\n",
      "SLIMElasticNetRecommender: URM Detected 471 ( 3.7%) users with no interactions.\n",
      "SLIMElasticNetRecommender: URM Detected 362 ( 1.6%) items with no interactions.\n"
     ]
    },
    {
     "name": "stderr",
     "output_type": "stream",
     "text": [
      "100%|█████████▉| 22216/22222 [01:37<00:00, 226.92it/s]\n"
     ]
    },
    {
     "name": "stdout",
     "output_type": "stream",
     "text": [
      "EvaluatorHoldout: Processed 10052 (100.0%) in 6.40 sec. Users per second: 1571\n",
      "SLIMElasticNetRecommender: URM Detected 478 ( 3.8%) users with no interactions.\n",
      "SLIMElasticNetRecommender: URM Detected 329 ( 1.5%) items with no interactions.\n"
     ]
    },
    {
     "name": "stderr",
     "output_type": "stream",
     "text": [
      "100%|█████████▉| 22216/22222 [01:34<00:00, 235.97it/s]\n"
     ]
    },
    {
     "name": "stdout",
     "output_type": "stream",
     "text": [
      "EvaluatorHoldout: Processed 10045 (100.0%) in 5.40 sec. Users per second: 1859\n",
      "SLIMElasticNetRecommender: URM Detected 460 ( 3.6%) users with no interactions.\n",
      "SLIMElasticNetRecommender: URM Detected 348 ( 1.6%) items with no interactions.\n"
     ]
    },
    {
     "name": "stderr",
     "output_type": "stream",
     "text": [
      "100%|█████████▉| 22216/22222 [01:30<00:00, 245.73it/s]\n"
     ]
    },
    {
     "name": "stdout",
     "output_type": "stream",
     "text": [
      "EvaluatorHoldout: Processed 10068 (100.0%) in 5.27 sec. Users per second: 1912\n"
     ]
    },
    {
     "name": "stderr",
     "output_type": "stream",
     "text": [
      "[I 2024-01-10 02:17:03,984] Trial 82 finished with value: 0.02144098819062665 and parameters: {'alpha': 5.3725638288857984e-05, 'l1_ratio': 0.41446752486251914, 'topK': 8277}. Best is trial 50 with value: 0.029746219620386934.\n"
     ]
    },
    {
     "name": "stdout",
     "output_type": "stream",
     "text": [
      "SLIMElasticNetRecommender: URM Detected 508 ( 4.0%) users with no interactions.\n",
      "SLIMElasticNetRecommender: URM Detected 332 ( 1.5%) items with no interactions.\n"
     ]
    },
    {
     "name": "stderr",
     "output_type": "stream",
     "text": [
      "100%|█████████▉| 22216/22222 [00:14<00:00, 1553.34it/s]\n"
     ]
    },
    {
     "name": "stdout",
     "output_type": "stream",
     "text": [
      "EvaluatorHoldout: Processed 10057 (100.0%) in 2.50 sec. Users per second: 4017\n",
      "SLIMElasticNetRecommender: URM Detected 440 ( 3.5%) users with no interactions.\n",
      "SLIMElasticNetRecommender: URM Detected 325 ( 1.5%) items with no interactions.\n"
     ]
    },
    {
     "name": "stderr",
     "output_type": "stream",
     "text": [
      "100%|█████████▉| 22216/22222 [00:17<00:00, 1251.11it/s]\n"
     ]
    },
    {
     "name": "stdout",
     "output_type": "stream",
     "text": [
      "EvaluatorHoldout: Processed 10040 (100.0%) in 4.09 sec. Users per second: 2454\n",
      "SLIMElasticNetRecommender: URM Detected 479 ( 3.8%) users with no interactions.\n",
      "SLIMElasticNetRecommender: URM Detected 345 ( 1.6%) items with no interactions.\n"
     ]
    },
    {
     "name": "stderr",
     "output_type": "stream",
     "text": [
      "100%|█████████▉| 22216/22222 [00:22<00:00, 1007.68it/s]\n"
     ]
    },
    {
     "name": "stdout",
     "output_type": "stream",
     "text": [
      "EvaluatorHoldout: Processed 10017 (100.0%) in 3.63 sec. Users per second: 2757\n",
      "SLIMElasticNetRecommender: URM Detected 451 ( 3.6%) users with no interactions.\n",
      "SLIMElasticNetRecommender: URM Detected 311 ( 1.4%) items with no interactions.\n"
     ]
    },
    {
     "name": "stderr",
     "output_type": "stream",
     "text": [
      "100%|█████████▉| 22216/22222 [00:17<00:00, 1239.92it/s]\n"
     ]
    },
    {
     "name": "stdout",
     "output_type": "stream",
     "text": [
      "EvaluatorHoldout: Processed 10037 (100.0%) in 3.51 sec. Users per second: 2856\n",
      "SLIMElasticNetRecommender: URM Detected 449 ( 3.6%) users with no interactions.\n",
      "SLIMElasticNetRecommender: URM Detected 320 ( 1.4%) items with no interactions.\n"
     ]
    },
    {
     "name": "stderr",
     "output_type": "stream",
     "text": [
      "100%|█████████▉| 22216/22222 [00:19<00:00, 1114.39it/s]\n"
     ]
    },
    {
     "name": "stdout",
     "output_type": "stream",
     "text": [
      "EvaluatorHoldout: Processed 9989 (100.0%) in 3.68 sec. Users per second: 2716\n",
      "SLIMElasticNetRecommender: URM Detected 460 ( 3.6%) users with no interactions.\n",
      "SLIMElasticNetRecommender: URM Detected 328 ( 1.5%) items with no interactions.\n"
     ]
    },
    {
     "name": "stderr",
     "output_type": "stream",
     "text": [
      "100%|█████████▉| 22216/22222 [00:19<00:00, 1127.52it/s]\n"
     ]
    },
    {
     "name": "stdout",
     "output_type": "stream",
     "text": [
      "EvaluatorHoldout: Processed 10024 (100.0%) in 2.72 sec. Users per second: 3683\n",
      "SLIMElasticNetRecommender: URM Detected 426 ( 3.4%) users with no interactions.\n",
      "SLIMElasticNetRecommender: URM Detected 344 ( 1.5%) items with no interactions.\n"
     ]
    },
    {
     "name": "stderr",
     "output_type": "stream",
     "text": [
      "100%|█████████▉| 22216/22222 [00:22<00:00, 1002.09it/s]\n"
     ]
    },
    {
     "name": "stdout",
     "output_type": "stream",
     "text": [
      "EvaluatorHoldout: Processed 10030 (100.0%) in 3.48 sec. Users per second: 2882\n",
      "SLIMElasticNetRecommender: URM Detected 471 ( 3.7%) users with no interactions.\n",
      "SLIMElasticNetRecommender: URM Detected 362 ( 1.6%) items with no interactions.\n"
     ]
    },
    {
     "name": "stderr",
     "output_type": "stream",
     "text": [
      "100%|█████████▉| 22216/22222 [00:21<00:00, 1023.61it/s]\n"
     ]
    },
    {
     "name": "stdout",
     "output_type": "stream",
     "text": [
      "EvaluatorHoldout: Processed 10052 (100.0%) in 3.38 sec. Users per second: 2971\n",
      "SLIMElasticNetRecommender: URM Detected 478 ( 3.8%) users with no interactions.\n",
      "SLIMElasticNetRecommender: URM Detected 329 ( 1.5%) items with no interactions.\n"
     ]
    },
    {
     "name": "stderr",
     "output_type": "stream",
     "text": [
      "100%|█████████▉| 22216/22222 [00:17<00:00, 1245.08it/s]\n"
     ]
    },
    {
     "name": "stdout",
     "output_type": "stream",
     "text": [
      "EvaluatorHoldout: Processed 10045 (100.0%) in 3.81 sec. Users per second: 2638\n",
      "SLIMElasticNetRecommender: URM Detected 460 ( 3.6%) users with no interactions.\n",
      "SLIMElasticNetRecommender: URM Detected 348 ( 1.6%) items with no interactions.\n"
     ]
    },
    {
     "name": "stderr",
     "output_type": "stream",
     "text": [
      "100%|█████████▉| 22216/22222 [00:21<00:00, 1046.17it/s]\n"
     ]
    },
    {
     "name": "stdout",
     "output_type": "stream",
     "text": [
      "EvaluatorHoldout: Processed 10068 (100.0%) in 3.71 sec. Users per second: 2714\n"
     ]
    },
    {
     "name": "stderr",
     "output_type": "stream",
     "text": [
      "[I 2024-01-10 02:21:18,941] Trial 85 finished with value: 0.026816962120111136 and parameters: {'alpha': 0.001398663160483855, 'l1_ratio': 0.49928422215570345, 'topK': 9906}. Best is trial 50 with value: 0.029746219620386934.\n"
     ]
    },
    {
     "name": "stdout",
     "output_type": "stream",
     "text": [
      "SLIMElasticNetRecommender: URM Detected 508 ( 4.0%) users with no interactions.\n",
      "SLIMElasticNetRecommender: URM Detected 332 ( 1.5%) items with no interactions.\n"
     ]
    },
    {
     "name": "stderr",
     "output_type": "stream",
     "text": [
      "100%|█████████▉| 22216/22222 [00:22<00:00, 968.18it/s] \n"
     ]
    },
    {
     "name": "stdout",
     "output_type": "stream",
     "text": [
      "EvaluatorHoldout: Processed 10057 (100.0%) in 4.32 sec. Users per second: 2328\n",
      "SLIMElasticNetRecommender: URM Detected 440 ( 3.5%) users with no interactions.\n",
      "SLIMElasticNetRecommender: URM Detected 325 ( 1.5%) items with no interactions.\n"
     ]
    },
    {
     "name": "stderr",
     "output_type": "stream",
     "text": [
      "100%|█████████▉| 22216/22222 [00:23<00:00, 943.14it/s] \n"
     ]
    },
    {
     "name": "stdout",
     "output_type": "stream",
     "text": [
      "EvaluatorHoldout: Processed 10040 (100.0%) in 3.80 sec. Users per second: 2641\n",
      "SLIMElasticNetRecommender: URM Detected 479 ( 3.8%) users with no interactions.\n",
      "SLIMElasticNetRecommender: URM Detected 345 ( 1.6%) items with no interactions.\n"
     ]
    },
    {
     "name": "stderr",
     "output_type": "stream",
     "text": [
      "100%|█████████▉| 22216/22222 [00:23<00:00, 935.13it/s] \n"
     ]
    },
    {
     "name": "stdout",
     "output_type": "stream",
     "text": [
      "EvaluatorHoldout: Processed 10017 (100.0%) in 4.40 sec. Users per second: 2277\n",
      "SLIMElasticNetRecommender: URM Detected 451 ( 3.6%) users with no interactions.\n",
      "SLIMElasticNetRecommender: URM Detected 311 ( 1.4%) items with no interactions.\n"
     ]
    },
    {
     "name": "stderr",
     "output_type": "stream",
     "text": [
      "100%|█████████▉| 22216/22222 [00:24<00:00, 909.31it/s] \n"
     ]
    },
    {
     "name": "stdout",
     "output_type": "stream",
     "text": [
      "EvaluatorHoldout: Processed 10037 (100.0%) in 4.10 sec. Users per second: 2451\n",
      "SLIMElasticNetRecommender: URM Detected 449 ( 3.6%) users with no interactions.\n",
      "SLIMElasticNetRecommender: URM Detected 320 ( 1.4%) items with no interactions.\n"
     ]
    },
    {
     "name": "stderr",
     "output_type": "stream",
     "text": [
      "100%|█████████▉| 22216/22222 [00:23<00:00, 963.38it/s] \n"
     ]
    },
    {
     "name": "stdout",
     "output_type": "stream",
     "text": [
      "EvaluatorHoldout: Processed 9989 (100.0%) in 4.95 sec. Users per second: 2019\n",
      "SLIMElasticNetRecommender: URM Detected 460 ( 3.6%) users with no interactions.\n",
      "SLIMElasticNetRecommender: URM Detected 328 ( 1.5%) items with no interactions.\n"
     ]
    },
    {
     "name": "stderr",
     "output_type": "stream",
     "text": [
      "100%|█████████▉| 22216/22222 [00:23<00:00, 940.53it/s] \n"
     ]
    },
    {
     "name": "stdout",
     "output_type": "stream",
     "text": [
      "EvaluatorHoldout: Processed 10024 (100.0%) in 3.83 sec. Users per second: 2616\n",
      "SLIMElasticNetRecommender: URM Detected 426 ( 3.4%) users with no interactions.\n",
      "SLIMElasticNetRecommender: URM Detected 344 ( 1.5%) items with no interactions.\n"
     ]
    },
    {
     "name": "stderr",
     "output_type": "stream",
     "text": [
      "100%|█████████▉| 22216/22222 [00:24<00:00, 921.24it/s] \n"
     ]
    },
    {
     "name": "stdout",
     "output_type": "stream",
     "text": [
      "EvaluatorHoldout: Processed 10030 (100.0%) in 3.90 sec. Users per second: 2570\n",
      "SLIMElasticNetRecommender: URM Detected 471 ( 3.7%) users with no interactions.\n",
      "SLIMElasticNetRecommender: URM Detected 362 ( 1.6%) items with no interactions.\n"
     ]
    },
    {
     "name": "stderr",
     "output_type": "stream",
     "text": [
      "100%|█████████▉| 22216/22222 [00:25<00:00, 860.08it/s] \n"
     ]
    },
    {
     "name": "stdout",
     "output_type": "stream",
     "text": [
      "EvaluatorHoldout: Processed 10052 (100.0%) in 3.88 sec. Users per second: 2589\n",
      "SLIMElasticNetRecommender: URM Detected 478 ( 3.8%) users with no interactions.\n",
      "SLIMElasticNetRecommender: URM Detected 329 ( 1.5%) items with no interactions.\n"
     ]
    },
    {
     "name": "stderr",
     "output_type": "stream",
     "text": [
      "100%|█████████▉| 22216/22222 [00:23<00:00, 957.45it/s] \n"
     ]
    },
    {
     "name": "stdout",
     "output_type": "stream",
     "text": [
      "EvaluatorHoldout: Processed 10045 (100.0%) in 4.28 sec. Users per second: 2346\n",
      "SLIMElasticNetRecommender: URM Detected 460 ( 3.6%) users with no interactions.\n",
      "SLIMElasticNetRecommender: URM Detected 348 ( 1.6%) items with no interactions.\n"
     ]
    },
    {
     "name": "stderr",
     "output_type": "stream",
     "text": [
      "100%|█████████▉| 22216/22222 [00:24<00:00, 899.06it/s] \n"
     ]
    },
    {
     "name": "stdout",
     "output_type": "stream",
     "text": [
      "EvaluatorHoldout: Processed 10068 (100.0%) in 3.39 sec. Users per second: 2973\n"
     ]
    },
    {
     "name": "stderr",
     "output_type": "stream",
     "text": [
      "[I 2024-01-10 02:26:27,392] Trial 88 finished with value: 0.028703966565254625 and parameters: {'alpha': 0.0008647548540139945, 'l1_ratio': 0.4320517748173657, 'topK': 9837}. Best is trial 50 with value: 0.029746219620386934.\n"
     ]
    },
    {
     "name": "stdout",
     "output_type": "stream",
     "text": [
      "SLIMElasticNetRecommender: URM Detected 508 ( 4.0%) users with no interactions.\n",
      "SLIMElasticNetRecommender: URM Detected 332 ( 1.5%) items with no interactions.\n"
     ]
    },
    {
     "name": "stderr",
     "output_type": "stream",
     "text": [
      "100%|█████████▉| 22216/22222 [00:32<00:00, 681.46it/s] \n"
     ]
    },
    {
     "name": "stdout",
     "output_type": "stream",
     "text": [
      "EvaluatorHoldout: Processed 10057 (100.0%) in 3.80 sec. Users per second: 2644\n",
      "SLIMElasticNetRecommender: URM Detected 440 ( 3.5%) users with no interactions.\n",
      "SLIMElasticNetRecommender: URM Detected 325 ( 1.5%) items with no interactions.\n"
     ]
    },
    {
     "name": "stderr",
     "output_type": "stream",
     "text": [
      "100%|█████████▉| 22216/22222 [00:33<00:00, 660.10it/s] \n"
     ]
    },
    {
     "name": "stdout",
     "output_type": "stream",
     "text": [
      "EvaluatorHoldout: Processed 10040 (100.0%) in 4.34 sec. Users per second: 2315\n",
      "SLIMElasticNetRecommender: URM Detected 479 ( 3.8%) users with no interactions.\n",
      "SLIMElasticNetRecommender: URM Detected 345 ( 1.6%) items with no interactions.\n"
     ]
    },
    {
     "name": "stderr",
     "output_type": "stream",
     "text": [
      "100%|█████████▉| 22216/22222 [00:33<00:00, 670.92it/s] \n"
     ]
    },
    {
     "name": "stdout",
     "output_type": "stream",
     "text": [
      "EvaluatorHoldout: Processed 10017 (100.0%) in 3.30 sec. Users per second: 3031\n",
      "SLIMElasticNetRecommender: URM Detected 451 ( 3.6%) users with no interactions.\n",
      "SLIMElasticNetRecommender: URM Detected 311 ( 1.4%) items with no interactions.\n"
     ]
    },
    {
     "name": "stderr",
     "output_type": "stream",
     "text": [
      "100%|█████████▉| 22216/22222 [00:32<00:00, 679.64it/s] \n"
     ]
    },
    {
     "name": "stdout",
     "output_type": "stream",
     "text": [
      "EvaluatorHoldout: Processed 10037 (100.0%) in 4.27 sec. Users per second: 2351\n",
      "SLIMElasticNetRecommender: URM Detected 449 ( 3.6%) users with no interactions.\n",
      "SLIMElasticNetRecommender: URM Detected 320 ( 1.4%) items with no interactions.\n"
     ]
    },
    {
     "name": "stderr",
     "output_type": "stream",
     "text": [
      "100%|█████████▉| 22216/22222 [00:33<00:00, 654.21it/s] \n"
     ]
    },
    {
     "name": "stdout",
     "output_type": "stream",
     "text": [
      "EvaluatorHoldout: Processed 9989 (100.0%) in 4.44 sec. Users per second: 2249\n",
      "SLIMElasticNetRecommender: URM Detected 460 ( 3.6%) users with no interactions.\n",
      "SLIMElasticNetRecommender: URM Detected 328 ( 1.5%) items with no interactions.\n"
     ]
    },
    {
     "name": "stderr",
     "output_type": "stream",
     "text": [
      "100%|█████████▉| 22216/22222 [00:33<00:00, 669.10it/s] \n"
     ]
    },
    {
     "name": "stdout",
     "output_type": "stream",
     "text": [
      "EvaluatorHoldout: Processed 10024 (100.0%) in 4.50 sec. Users per second: 2229\n",
      "SLIMElasticNetRecommender: URM Detected 426 ( 3.4%) users with no interactions.\n",
      "SLIMElasticNetRecommender: URM Detected 344 ( 1.5%) items with no interactions.\n"
     ]
    },
    {
     "name": "stderr",
     "output_type": "stream",
     "text": [
      "100%|█████████▉| 22216/22222 [00:33<00:00, 672.19it/s] \n"
     ]
    },
    {
     "name": "stdout",
     "output_type": "stream",
     "text": [
      "EvaluatorHoldout: Processed 10030 (100.0%) in 4.44 sec. Users per second: 2261\n",
      "SLIMElasticNetRecommender: URM Detected 471 ( 3.7%) users with no interactions.\n",
      "SLIMElasticNetRecommender: URM Detected 362 ( 1.6%) items with no interactions.\n"
     ]
    },
    {
     "name": "stderr",
     "output_type": "stream",
     "text": [
      "100%|█████████▉| 22216/22222 [00:33<00:00, 660.60it/s] \n"
     ]
    },
    {
     "name": "stdout",
     "output_type": "stream",
     "text": [
      "EvaluatorHoldout: Processed 10052 (100.0%) in 4.85 sec. Users per second: 2074\n",
      "SLIMElasticNetRecommender: URM Detected 478 ( 3.8%) users with no interactions.\n",
      "SLIMElasticNetRecommender: URM Detected 329 ( 1.5%) items with no interactions.\n"
     ]
    },
    {
     "name": "stderr",
     "output_type": "stream",
     "text": [
      "100%|█████████▉| 22216/22222 [00:32<00:00, 688.57it/s] \n"
     ]
    },
    {
     "name": "stdout",
     "output_type": "stream",
     "text": [
      "EvaluatorHoldout: Processed 10045 (100.0%) in 4.47 sec. Users per second: 2245\n",
      "SLIMElasticNetRecommender: URM Detected 460 ( 3.6%) users with no interactions.\n",
      "SLIMElasticNetRecommender: URM Detected 348 ( 1.6%) items with no interactions.\n"
     ]
    },
    {
     "name": "stderr",
     "output_type": "stream",
     "text": [
      "100%|█████████▉| 22216/22222 [00:30<00:00, 723.35it/s] \n"
     ]
    },
    {
     "name": "stdout",
     "output_type": "stream",
     "text": [
      "EvaluatorHoldout: Processed 10068 (100.0%) in 4.84 sec. Users per second: 2081\n"
     ]
    },
    {
     "name": "stderr",
     "output_type": "stream",
     "text": [
      "[I 2024-01-10 02:33:06,429] Trial 89 finished with value: 0.02969472705170074 and parameters: {'alpha': 0.0005474397782599493, 'l1_ratio': 0.35623307714529157, 'topK': 8780}. Best is trial 50 with value: 0.029746219620386934.\n"
     ]
    },
    {
     "name": "stdout",
     "output_type": "stream",
     "text": [
      "SLIMElasticNetRecommender: URM Detected 508 ( 4.0%) users with no interactions.\n",
      "SLIMElasticNetRecommender: URM Detected 332 ( 1.5%) items with no interactions.\n"
     ]
    },
    {
     "name": "stderr",
     "output_type": "stream",
     "text": [
      "100%|█████████▉| 22216/22222 [00:21<00:00, 1010.57it/s]\n"
     ]
    },
    {
     "name": "stdout",
     "output_type": "stream",
     "text": [
      "EvaluatorHoldout: Processed 10057 (100.0%) in 3.63 sec. Users per second: 2773\n",
      "SLIMElasticNetRecommender: URM Detected 440 ( 3.5%) users with no interactions.\n",
      "SLIMElasticNetRecommender: URM Detected 325 ( 1.5%) items with no interactions.\n"
     ]
    },
    {
     "name": "stderr",
     "output_type": "stream",
     "text": [
      "100%|█████████▉| 22216/22222 [00:20<00:00, 1080.83it/s]\n"
     ]
    },
    {
     "name": "stdout",
     "output_type": "stream",
     "text": [
      "EvaluatorHoldout: Processed 10040 (100.0%) in 3.96 sec. Users per second: 2536\n",
      "SLIMElasticNetRecommender: URM Detected 479 ( 3.8%) users with no interactions.\n",
      "SLIMElasticNetRecommender: URM Detected 345 ( 1.6%) items with no interactions.\n"
     ]
    },
    {
     "name": "stderr",
     "output_type": "stream",
     "text": [
      "100%|█████████▉| 22216/22222 [00:20<00:00, 1071.47it/s]\n"
     ]
    },
    {
     "name": "stdout",
     "output_type": "stream",
     "text": [
      "EvaluatorHoldout: Processed 10017 (100.0%) in 4.29 sec. Users per second: 2335\n",
      "SLIMElasticNetRecommender: URM Detected 451 ( 3.6%) users with no interactions.\n",
      "SLIMElasticNetRecommender: URM Detected 311 ( 1.4%) items with no interactions.\n"
     ]
    },
    {
     "name": "stderr",
     "output_type": "stream",
     "text": [
      "100%|█████████▉| 22216/22222 [00:20<00:00, 1061.44it/s]\n"
     ]
    },
    {
     "name": "stdout",
     "output_type": "stream",
     "text": [
      "EvaluatorHoldout: Processed 10037 (100.0%) in 3.06 sec. Users per second: 3285\n",
      "SLIMElasticNetRecommender: URM Detected 449 ( 3.6%) users with no interactions.\n",
      "SLIMElasticNetRecommender: URM Detected 320 ( 1.4%) items with no interactions.\n"
     ]
    },
    {
     "name": "stderr",
     "output_type": "stream",
     "text": [
      "100%|█████████▉| 22216/22222 [00:22<00:00, 1002.45it/s]\n"
     ]
    },
    {
     "name": "stdout",
     "output_type": "stream",
     "text": [
      "EvaluatorHoldout: Processed 9989 (100.0%) in 2.99 sec. Users per second: 3342\n",
      "SLIMElasticNetRecommender: URM Detected 460 ( 3.6%) users with no interactions.\n",
      "SLIMElasticNetRecommender: URM Detected 328 ( 1.5%) items with no interactions.\n"
     ]
    },
    {
     "name": "stderr",
     "output_type": "stream",
     "text": [
      "100%|█████████▉| 22216/22222 [00:24<00:00, 913.14it/s] \n"
     ]
    },
    {
     "name": "stdout",
     "output_type": "stream",
     "text": [
      "EvaluatorHoldout: Processed 10024 (100.0%) in 4.14 sec. Users per second: 2420\n",
      "SLIMElasticNetRecommender: URM Detected 426 ( 3.4%) users with no interactions.\n",
      "SLIMElasticNetRecommender: URM Detected 344 ( 1.5%) items with no interactions.\n"
     ]
    },
    {
     "name": "stderr",
     "output_type": "stream",
     "text": [
      "100%|█████████▉| 22216/22222 [00:20<00:00, 1060.03it/s]\n"
     ]
    },
    {
     "name": "stdout",
     "output_type": "stream",
     "text": [
      "EvaluatorHoldout: Processed 10030 (100.0%) in 4.05 sec. Users per second: 2478\n",
      "SLIMElasticNetRecommender: URM Detected 471 ( 3.7%) users with no interactions.\n",
      "SLIMElasticNetRecommender: URM Detected 362 ( 1.6%) items with no interactions.\n"
     ]
    },
    {
     "name": "stderr",
     "output_type": "stream",
     "text": [
      "100%|█████████▉| 22216/22222 [00:22<00:00, 998.73it/s] \n"
     ]
    },
    {
     "name": "stdout",
     "output_type": "stream",
     "text": [
      "EvaluatorHoldout: Processed 10052 (100.0%) in 4.04 sec. Users per second: 2489\n",
      "SLIMElasticNetRecommender: URM Detected 478 ( 3.8%) users with no interactions.\n",
      "SLIMElasticNetRecommender: URM Detected 329 ( 1.5%) items with no interactions.\n"
     ]
    },
    {
     "name": "stderr",
     "output_type": "stream",
     "text": [
      "100%|█████████▉| 22216/22222 [00:20<00:00, 1059.42it/s]\n"
     ]
    },
    {
     "name": "stdout",
     "output_type": "stream",
     "text": [
      "EvaluatorHoldout: Processed 10045 (100.0%) in 3.40 sec. Users per second: 2957\n",
      "SLIMElasticNetRecommender: URM Detected 460 ( 3.6%) users with no interactions.\n",
      "SLIMElasticNetRecommender: URM Detected 348 ( 1.6%) items with no interactions.\n"
     ]
    },
    {
     "name": "stderr",
     "output_type": "stream",
     "text": [
      "100%|█████████▉| 22216/22222 [00:23<00:00, 936.32it/s] \n"
     ]
    },
    {
     "name": "stdout",
     "output_type": "stream",
     "text": [
      "EvaluatorHoldout: Processed 10068 (100.0%) in 3.11 sec. Users per second: 3239\n"
     ]
    },
    {
     "name": "stderr",
     "output_type": "stream",
     "text": [
      "[I 2024-01-10 02:37:50,159] Trial 90 finished with value: 0.028436806145350463 and parameters: {'alpha': 0.001149322254708063, 'l1_ratio': 0.35012575081670555, 'topK': 8639}. Best is trial 50 with value: 0.029746219620386934.\n"
     ]
    },
    {
     "name": "stdout",
     "output_type": "stream",
     "text": [
      "SLIMElasticNetRecommender: URM Detected 508 ( 4.0%) users with no interactions.\n",
      "SLIMElasticNetRecommender: URM Detected 332 ( 1.5%) items with no interactions.\n"
     ]
    },
    {
     "name": "stderr",
     "output_type": "stream",
     "text": [
      "100%|█████████▉| 22216/22222 [00:39<00:00, 562.71it/s]\n"
     ]
    },
    {
     "name": "stdout",
     "output_type": "stream",
     "text": [
      "EvaluatorHoldout: Processed 10057 (100.0%) in 3.59 sec. Users per second: 2798\n",
      "SLIMElasticNetRecommender: URM Detected 440 ( 3.5%) users with no interactions.\n",
      "SLIMElasticNetRecommender: URM Detected 325 ( 1.5%) items with no interactions.\n"
     ]
    },
    {
     "name": "stderr",
     "output_type": "stream",
     "text": [
      "100%|█████████▉| 22216/22222 [00:45<00:00, 486.72it/s]\n"
     ]
    },
    {
     "name": "stdout",
     "output_type": "stream",
     "text": [
      "EvaluatorHoldout: Processed 10040 (100.0%) in 5.53 sec. Users per second: 1814\n",
      "SLIMElasticNetRecommender: URM Detected 479 ( 3.8%) users with no interactions.\n",
      "SLIMElasticNetRecommender: URM Detected 345 ( 1.6%) items with no interactions.\n"
     ]
    },
    {
     "name": "stderr",
     "output_type": "stream",
     "text": [
      "100%|█████████▉| 22216/22222 [00:48<00:00, 458.03it/s]\n"
     ]
    },
    {
     "name": "stdout",
     "output_type": "stream",
     "text": [
      "EvaluatorHoldout: Processed 10017 (100.0%) in 4.22 sec. Users per second: 2376\n",
      "SLIMElasticNetRecommender: URM Detected 451 ( 3.6%) users with no interactions.\n",
      "SLIMElasticNetRecommender: URM Detected 311 ( 1.4%) items with no interactions.\n"
     ]
    },
    {
     "name": "stderr",
     "output_type": "stream",
     "text": [
      "100%|█████████▉| 22216/22222 [00:47<00:00, 471.24it/s]\n"
     ]
    },
    {
     "name": "stdout",
     "output_type": "stream",
     "text": [
      "EvaluatorHoldout: Processed 10037 (100.0%) in 4.77 sec. Users per second: 2106\n",
      "SLIMElasticNetRecommender: URM Detected 449 ( 3.6%) users with no interactions.\n",
      "SLIMElasticNetRecommender: URM Detected 320 ( 1.4%) items with no interactions.\n"
     ]
    },
    {
     "name": "stderr",
     "output_type": "stream",
     "text": [
      "100%|█████████▉| 22216/22222 [00:46<00:00, 478.54it/s]\n"
     ]
    },
    {
     "name": "stdout",
     "output_type": "stream",
     "text": [
      "EvaluatorHoldout: Processed 9989 (100.0%) in 5.10 sec. Users per second: 1959\n",
      "SLIMElasticNetRecommender: URM Detected 460 ( 3.6%) users with no interactions.\n",
      "SLIMElasticNetRecommender: URM Detected 328 ( 1.5%) items with no interactions.\n"
     ]
    },
    {
     "name": "stderr",
     "output_type": "stream",
     "text": [
      "100%|█████████▉| 22216/22222 [00:49<00:00, 452.38it/s]\n"
     ]
    },
    {
     "name": "stdout",
     "output_type": "stream",
     "text": [
      "EvaluatorHoldout: Processed 10024 (100.0%) in 5.50 sec. Users per second: 1821\n",
      "SLIMElasticNetRecommender: URM Detected 426 ( 3.4%) users with no interactions.\n",
      "SLIMElasticNetRecommender: URM Detected 344 ( 1.5%) items with no interactions.\n"
     ]
    },
    {
     "name": "stderr",
     "output_type": "stream",
     "text": [
      "100%|█████████▉| 22216/22222 [00:44<00:00, 497.21it/s]\n"
     ]
    },
    {
     "name": "stdout",
     "output_type": "stream",
     "text": [
      "EvaluatorHoldout: Processed 10030 (100.0%) in 5.12 sec. Users per second: 1959\n",
      "SLIMElasticNetRecommender: URM Detected 471 ( 3.7%) users with no interactions.\n",
      "SLIMElasticNetRecommender: URM Detected 362 ( 1.6%) items with no interactions.\n"
     ]
    },
    {
     "name": "stderr",
     "output_type": "stream",
     "text": [
      "100%|█████████▉| 22216/22222 [00:42<00:00, 528.61it/s]\n"
     ]
    },
    {
     "name": "stdout",
     "output_type": "stream",
     "text": [
      "EvaluatorHoldout: Processed 10052 (100.0%) in 3.73 sec. Users per second: 2692\n",
      "SLIMElasticNetRecommender: URM Detected 478 ( 3.8%) users with no interactions.\n",
      "SLIMElasticNetRecommender: URM Detected 329 ( 1.5%) items with no interactions.\n"
     ]
    },
    {
     "name": "stderr",
     "output_type": "stream",
     "text": [
      "100%|█████████▉| 22216/22222 [00:44<00:00, 498.24it/s]\n"
     ]
    },
    {
     "name": "stdout",
     "output_type": "stream",
     "text": [
      "EvaluatorHoldout: Processed 10045 (100.0%) in 4.64 sec. Users per second: 2165\n",
      "SLIMElasticNetRecommender: URM Detected 460 ( 3.6%) users with no interactions.\n",
      "SLIMElasticNetRecommender: URM Detected 348 ( 1.6%) items with no interactions.\n"
     ]
    },
    {
     "name": "stderr",
     "output_type": "stream",
     "text": [
      "100%|█████████▉| 22216/22222 [00:51<00:00, 434.14it/s]\n"
     ]
    },
    {
     "name": "stdout",
     "output_type": "stream",
     "text": [
      "EvaluatorHoldout: Processed 10068 (100.0%) in 4.74 sec. Users per second: 2125\n"
     ]
    },
    {
     "name": "stderr",
     "output_type": "stream",
     "text": [
      "[I 2024-01-10 02:46:44,303] Trial 91 finished with value: 0.029165980089223525 and parameters: {'alpha': 0.0003393342873109306, 'l1_ratio': 0.26569146440597924, 'topK': 7733}. Best is trial 50 with value: 0.029746219620386934.\n"
     ]
    },
    {
     "name": "stdout",
     "output_type": "stream",
     "text": [
      "SLIMElasticNetRecommender: URM Detected 508 ( 4.0%) users with no interactions.\n",
      "SLIMElasticNetRecommender: URM Detected 332 ( 1.5%) items with no interactions.\n"
     ]
    },
    {
     "name": "stderr",
     "output_type": "stream",
     "text": [
      "100%|█████████▉| 22216/22222 [00:19<00:00, 1127.73it/s]\n"
     ]
    },
    {
     "name": "stdout",
     "output_type": "stream",
     "text": [
      "EvaluatorHoldout: Processed 10057 (100.0%) in 2.99 sec. Users per second: 3367\n",
      "SLIMElasticNetRecommender: URM Detected 440 ( 3.5%) users with no interactions.\n",
      "SLIMElasticNetRecommender: URM Detected 325 ( 1.5%) items with no interactions.\n"
     ]
    },
    {
     "name": "stderr",
     "output_type": "stream",
     "text": [
      "100%|█████████▉| 22216/22222 [00:19<00:00, 1141.61it/s]\n"
     ]
    },
    {
     "name": "stdout",
     "output_type": "stream",
     "text": [
      "EvaluatorHoldout: Processed 10040 (100.0%) in 3.54 sec. Users per second: 2838\n",
      "SLIMElasticNetRecommender: URM Detected 479 ( 3.8%) users with no interactions.\n",
      "SLIMElasticNetRecommender: URM Detected 345 ( 1.6%) items with no interactions.\n"
     ]
    },
    {
     "name": "stderr",
     "output_type": "stream",
     "text": [
      "100%|█████████▉| 22216/22222 [00:21<00:00, 1012.60it/s]\n"
     ]
    },
    {
     "name": "stdout",
     "output_type": "stream",
     "text": [
      "EvaluatorHoldout: Processed 10017 (100.0%) in 3.37 sec. Users per second: 2968\n",
      "SLIMElasticNetRecommender: URM Detected 451 ( 3.6%) users with no interactions.\n",
      "SLIMElasticNetRecommender: URM Detected 311 ( 1.4%) items with no interactions.\n"
     ]
    },
    {
     "name": "stderr",
     "output_type": "stream",
     "text": [
      "100%|█████████▉| 22216/22222 [00:20<00:00, 1081.65it/s]\n"
     ]
    },
    {
     "name": "stdout",
     "output_type": "stream",
     "text": [
      "EvaluatorHoldout: Processed 10037 (100.0%) in 3.39 sec. Users per second: 2963\n",
      "SLIMElasticNetRecommender: URM Detected 449 ( 3.6%) users with no interactions.\n",
      "SLIMElasticNetRecommender: URM Detected 320 ( 1.4%) items with no interactions.\n"
     ]
    },
    {
     "name": "stderr",
     "output_type": "stream",
     "text": [
      "100%|█████████▉| 22216/22222 [00:19<00:00, 1147.71it/s]\n"
     ]
    },
    {
     "name": "stdout",
     "output_type": "stream",
     "text": [
      "EvaluatorHoldout: Processed 9989 (100.0%) in 3.28 sec. Users per second: 3045\n",
      "SLIMElasticNetRecommender: URM Detected 460 ( 3.6%) users with no interactions.\n",
      "SLIMElasticNetRecommender: URM Detected 328 ( 1.5%) items with no interactions.\n"
     ]
    },
    {
     "name": "stderr",
     "output_type": "stream",
     "text": [
      "100%|█████████▉| 22216/22222 [00:19<00:00, 1129.28it/s]\n"
     ]
    },
    {
     "name": "stdout",
     "output_type": "stream",
     "text": [
      "EvaluatorHoldout: Processed 10024 (100.0%) in 3.32 sec. Users per second: 3021\n",
      "SLIMElasticNetRecommender: URM Detected 426 ( 3.4%) users with no interactions.\n",
      "SLIMElasticNetRecommender: URM Detected 344 ( 1.5%) items with no interactions.\n"
     ]
    },
    {
     "name": "stderr",
     "output_type": "stream",
     "text": [
      "100%|█████████▉| 22216/22222 [00:18<00:00, 1193.39it/s]\n"
     ]
    },
    {
     "name": "stdout",
     "output_type": "stream",
     "text": [
      "EvaluatorHoldout: Processed 10030 (100.0%) in 3.74 sec. Users per second: 2680\n",
      "SLIMElasticNetRecommender: URM Detected 471 ( 3.7%) users with no interactions.\n",
      "SLIMElasticNetRecommender: URM Detected 362 ( 1.6%) items with no interactions.\n"
     ]
    },
    {
     "name": "stderr",
     "output_type": "stream",
     "text": [
      "100%|█████████▉| 22216/22222 [00:21<00:00, 1019.02it/s]\n"
     ]
    },
    {
     "name": "stdout",
     "output_type": "stream",
     "text": [
      "EvaluatorHoldout: Processed 10052 (100.0%) in 3.40 sec. Users per second: 2955\n",
      "SLIMElasticNetRecommender: URM Detected 478 ( 3.8%) users with no interactions.\n",
      "SLIMElasticNetRecommender: URM Detected 329 ( 1.5%) items with no interactions.\n"
     ]
    },
    {
     "name": "stderr",
     "output_type": "stream",
     "text": [
      "100%|█████████▉| 22216/22222 [00:20<00:00, 1103.15it/s]\n"
     ]
    },
    {
     "name": "stdout",
     "output_type": "stream",
     "text": [
      "EvaluatorHoldout: Processed 10045 (100.0%) in 3.07 sec. Users per second: 3274\n",
      "SLIMElasticNetRecommender: URM Detected 460 ( 3.6%) users with no interactions.\n",
      "SLIMElasticNetRecommender: URM Detected 348 ( 1.6%) items with no interactions.\n"
     ]
    },
    {
     "name": "stderr",
     "output_type": "stream",
     "text": [
      "100%|█████████▉| 22216/22222 [00:20<00:00, 1070.66it/s]\n"
     ]
    },
    {
     "name": "stdout",
     "output_type": "stream",
     "text": [
      "EvaluatorHoldout: Processed 10068 (100.0%) in 3.14 sec. Users per second: 3205\n"
     ]
    },
    {
     "name": "stderr",
     "output_type": "stream",
     "text": [
      "[I 2024-01-10 02:51:06,408] Trial 93 finished with value: 0.02673549781518541 and parameters: {'alpha': 0.0018987295508895241, 'l1_ratio': 0.3579006385458058, 'topK': 8871}. Best is trial 50 with value: 0.029746219620386934.\n"
     ]
    },
    {
     "name": "stdout",
     "output_type": "stream",
     "text": [
      "SLIMElasticNetRecommender: URM Detected 508 ( 4.0%) users with no interactions.\n",
      "SLIMElasticNetRecommender: URM Detected 332 ( 1.5%) items with no interactions.\n"
     ]
    },
    {
     "name": "stderr",
     "output_type": "stream",
     "text": [
      "100%|█████████▉| 22216/22222 [00:18<00:00, 1205.58it/s]\n"
     ]
    },
    {
     "name": "stdout",
     "output_type": "stream",
     "text": [
      "EvaluatorHoldout: Processed 10057 (100.0%) in 3.34 sec. Users per second: 3011\n",
      "SLIMElasticNetRecommender: URM Detected 440 ( 3.5%) users with no interactions.\n",
      "SLIMElasticNetRecommender: URM Detected 325 ( 1.5%) items with no interactions.\n"
     ]
    },
    {
     "name": "stderr",
     "output_type": "stream",
     "text": [
      "100%|█████████▉| 22216/22222 [00:16<00:00, 1356.47it/s]\n"
     ]
    },
    {
     "name": "stdout",
     "output_type": "stream",
     "text": [
      "EvaluatorHoldout: Processed 10040 (100.0%) in 3.11 sec. Users per second: 3223\n",
      "SLIMElasticNetRecommender: URM Detected 479 ( 3.8%) users with no interactions.\n",
      "SLIMElasticNetRecommender: URM Detected 345 ( 1.6%) items with no interactions.\n"
     ]
    },
    {
     "name": "stderr",
     "output_type": "stream",
     "text": [
      "100%|█████████▉| 22216/22222 [00:18<00:00, 1193.76it/s]\n"
     ]
    },
    {
     "name": "stdout",
     "output_type": "stream",
     "text": [
      "EvaluatorHoldout: Processed 10017 (100.0%) in 2.89 sec. Users per second: 3466\n",
      "SLIMElasticNetRecommender: URM Detected 451 ( 3.6%) users with no interactions.\n",
      "SLIMElasticNetRecommender: URM Detected 311 ( 1.4%) items with no interactions.\n"
     ]
    },
    {
     "name": "stderr",
     "output_type": "stream",
     "text": [
      "100%|█████████▉| 22216/22222 [00:18<00:00, 1173.40it/s]\n"
     ]
    },
    {
     "name": "stdout",
     "output_type": "stream",
     "text": [
      "EvaluatorHoldout: Processed 10037 (100.0%) in 2.94 sec. Users per second: 3412\n",
      "SLIMElasticNetRecommender: URM Detected 449 ( 3.6%) users with no interactions.\n",
      "SLIMElasticNetRecommender: URM Detected 320 ( 1.4%) items with no interactions.\n"
     ]
    },
    {
     "name": "stderr",
     "output_type": "stream",
     "text": [
      "100%|█████████▉| 22216/22222 [00:18<00:00, 1176.54it/s]\n"
     ]
    },
    {
     "name": "stdout",
     "output_type": "stream",
     "text": [
      "EvaluatorHoldout: Processed 9989 (100.0%) in 3.04 sec. Users per second: 3285\n",
      "SLIMElasticNetRecommender: URM Detected 460 ( 3.6%) users with no interactions.\n",
      "SLIMElasticNetRecommender: URM Detected 328 ( 1.5%) items with no interactions.\n"
     ]
    },
    {
     "name": "stderr",
     "output_type": "stream",
     "text": [
      "100%|█████████▉| 22216/22222 [00:17<00:00, 1268.92it/s]\n"
     ]
    },
    {
     "name": "stdout",
     "output_type": "stream",
     "text": [
      "EvaluatorHoldout: Processed 10024 (100.0%) in 2.90 sec. Users per second: 3455\n",
      "SLIMElasticNetRecommender: URM Detected 426 ( 3.4%) users with no interactions.\n",
      "SLIMElasticNetRecommender: URM Detected 344 ( 1.5%) items with no interactions.\n"
     ]
    },
    {
     "name": "stderr",
     "output_type": "stream",
     "text": [
      "100%|█████████▉| 22216/22222 [00:16<00:00, 1340.98it/s]\n"
     ]
    },
    {
     "name": "stdout",
     "output_type": "stream",
     "text": [
      "EvaluatorHoldout: Processed 10030 (100.0%) in 3.35 sec. Users per second: 2998\n",
      "SLIMElasticNetRecommender: URM Detected 471 ( 3.7%) users with no interactions.\n",
      "SLIMElasticNetRecommender: URM Detected 362 ( 1.6%) items with no interactions.\n"
     ]
    },
    {
     "name": "stderr",
     "output_type": "stream",
     "text": [
      "100%|█████████▉| 22216/22222 [00:19<00:00, 1126.48it/s]\n"
     ]
    },
    {
     "name": "stdout",
     "output_type": "stream",
     "text": [
      "EvaluatorHoldout: Processed 10052 (100.0%) in 3.07 sec. Users per second: 3279\n",
      "SLIMElasticNetRecommender: URM Detected 478 ( 3.8%) users with no interactions.\n",
      "SLIMElasticNetRecommender: URM Detected 329 ( 1.5%) items with no interactions.\n"
     ]
    },
    {
     "name": "stderr",
     "output_type": "stream",
     "text": [
      "100%|█████████▉| 22216/22222 [00:17<00:00, 1245.59it/s]\n"
     ]
    },
    {
     "name": "stdout",
     "output_type": "stream",
     "text": [
      "EvaluatorHoldout: Processed 10045 (100.0%) in 3.05 sec. Users per second: 3289\n",
      "SLIMElasticNetRecommender: URM Detected 460 ( 3.6%) users with no interactions.\n",
      "SLIMElasticNetRecommender: URM Detected 348 ( 1.6%) items with no interactions.\n"
     ]
    },
    {
     "name": "stderr",
     "output_type": "stream",
     "text": [
      "100%|█████████▉| 22216/22222 [00:19<00:00, 1129.42it/s]\n"
     ]
    },
    {
     "name": "stdout",
     "output_type": "stream",
     "text": [
      "EvaluatorHoldout: Processed 10068 (100.0%) in 2.83 sec. Users per second: 3562\n"
     ]
    },
    {
     "name": "stderr",
     "output_type": "stream",
     "text": [
      "[I 2024-01-10 02:55:05,485] Trial 95 finished with value: 0.019768620278010143 and parameters: {'alpha': 0.0073083653779449425, 'l1_ratio': 0.398371886015673, 'topK': 9719}. Best is trial 87 with value: 0.029817176368063435.\n"
     ]
    },
    {
     "name": "stdout",
     "output_type": "stream",
     "text": [
      "SLIMElasticNetRecommender: URM Detected 508 ( 4.0%) users with no interactions.\n",
      "SLIMElasticNetRecommender: URM Detected 332 ( 1.5%) items with no interactions.\n"
     ]
    },
    {
     "name": "stderr",
     "output_type": "stream",
     "text": [
      "100%|█████████▉| 22216/22222 [00:47<00:00, 469.50it/s]\n"
     ]
    },
    {
     "name": "stdout",
     "output_type": "stream",
     "text": [
      "EvaluatorHoldout: Processed 10057 (100.0%) in 4.00 sec. Users per second: 2512\n",
      "SLIMElasticNetRecommender: URM Detected 440 ( 3.5%) users with no interactions.\n",
      "SLIMElasticNetRecommender: URM Detected 325 ( 1.5%) items with no interactions.\n"
     ]
    },
    {
     "name": "stderr",
     "output_type": "stream",
     "text": [
      "100%|█████████▉| 22216/22222 [00:49<00:00, 447.45it/s]\n"
     ]
    },
    {
     "name": "stdout",
     "output_type": "stream",
     "text": [
      "EvaluatorHoldout: Processed 10040 (100.0%) in 4.70 sec. Users per second: 2134\n",
      "SLIMElasticNetRecommender: URM Detected 479 ( 3.8%) users with no interactions.\n",
      "SLIMElasticNetRecommender: URM Detected 345 ( 1.6%) items with no interactions.\n"
     ]
    },
    {
     "name": "stderr",
     "output_type": "stream",
     "text": [
      "100%|█████████▉| 22216/22222 [00:47<00:00, 468.62it/s]\n"
     ]
    },
    {
     "name": "stdout",
     "output_type": "stream",
     "text": [
      "EvaluatorHoldout: Processed 10017 (100.0%) in 4.75 sec. Users per second: 2109\n",
      "SLIMElasticNetRecommender: URM Detected 451 ( 3.6%) users with no interactions.\n",
      "SLIMElasticNetRecommender: URM Detected 311 ( 1.4%) items with no interactions.\n"
     ]
    },
    {
     "name": "stderr",
     "output_type": "stream",
     "text": [
      "100%|█████████▉| 22216/22222 [00:47<00:00, 470.14it/s]\n"
     ]
    },
    {
     "name": "stdout",
     "output_type": "stream",
     "text": [
      "EvaluatorHoldout: Processed 10037 (100.0%) in 4.67 sec. Users per second: 2149\n",
      "SLIMElasticNetRecommender: URM Detected 449 ( 3.6%) users with no interactions.\n",
      "SLIMElasticNetRecommender: URM Detected 320 ( 1.4%) items with no interactions.\n"
     ]
    },
    {
     "name": "stderr",
     "output_type": "stream",
     "text": [
      "100%|█████████▉| 22216/22222 [00:47<00:00, 468.30it/s]\n"
     ]
    },
    {
     "name": "stdout",
     "output_type": "stream",
     "text": [
      "EvaluatorHoldout: Processed 9989 (100.0%) in 4.67 sec. Users per second: 2140\n",
      "SLIMElasticNetRecommender: URM Detected 460 ( 3.6%) users with no interactions.\n",
      "SLIMElasticNetRecommender: URM Detected 328 ( 1.5%) items with no interactions.\n"
     ]
    },
    {
     "name": "stderr",
     "output_type": "stream",
     "text": [
      "100%|█████████▉| 22216/22222 [00:36<00:00, 602.13it/s]\n"
     ]
    },
    {
     "name": "stdout",
     "output_type": "stream",
     "text": [
      "EvaluatorHoldout: Processed 10024 (100.0%) in 3.85 sec. Users per second: 2604\n",
      "SLIMElasticNetRecommender: URM Detected 426 ( 3.4%) users with no interactions.\n",
      "SLIMElasticNetRecommender: URM Detected 344 ( 1.5%) items with no interactions.\n"
     ]
    },
    {
     "name": "stderr",
     "output_type": "stream",
     "text": [
      "100%|█████████▉| 22216/22222 [00:47<00:00, 470.04it/s]\n"
     ]
    },
    {
     "name": "stdout",
     "output_type": "stream",
     "text": [
      "EvaluatorHoldout: Processed 10030 (100.0%) in 5.18 sec. Users per second: 1938\n",
      "SLIMElasticNetRecommender: URM Detected 471 ( 3.7%) users with no interactions.\n",
      "SLIMElasticNetRecommender: URM Detected 362 ( 1.6%) items with no interactions.\n"
     ]
    },
    {
     "name": "stderr",
     "output_type": "stream",
     "text": [
      "100%|█████████▉| 22216/22222 [00:45<00:00, 483.19it/s]\n"
     ]
    },
    {
     "name": "stdout",
     "output_type": "stream",
     "text": [
      "EvaluatorHoldout: Processed 10052 (100.0%) in 4.32 sec. Users per second: 2327\n",
      "SLIMElasticNetRecommender: URM Detected 478 ( 3.8%) users with no interactions.\n",
      "SLIMElasticNetRecommender: URM Detected 329 ( 1.5%) items with no interactions.\n"
     ]
    },
    {
     "name": "stderr",
     "output_type": "stream",
     "text": [
      "100%|█████████▉| 22216/22222 [00:46<00:00, 482.10it/s]\n"
     ]
    },
    {
     "name": "stdout",
     "output_type": "stream",
     "text": [
      "EvaluatorHoldout: Processed 10045 (100.0%) in 5.23 sec. Users per second: 1920\n",
      "SLIMElasticNetRecommender: URM Detected 460 ( 3.6%) users with no interactions.\n",
      "SLIMElasticNetRecommender: URM Detected 348 ( 1.6%) items with no interactions.\n"
     ]
    },
    {
     "name": "stderr",
     "output_type": "stream",
     "text": [
      "100%|█████████▉| 22216/22222 [00:46<00:00, 475.61it/s]\n"
     ]
    },
    {
     "name": "stdout",
     "output_type": "stream",
     "text": [
      "EvaluatorHoldout: Processed 10068 (100.0%) in 4.94 sec. Users per second: 2039\n"
     ]
    },
    {
     "name": "stderr",
     "output_type": "stream",
     "text": [
      "[I 2024-01-10 03:04:00,046] Trial 97 finished with value: 0.029750759982133418 and parameters: {'alpha': 0.0006714276692159685, 'l1_ratio': 0.1646407864364432, 'topK': 9240}. Best is trial 87 with value: 0.029817176368063435.\n"
     ]
    },
    {
     "name": "stdout",
     "output_type": "stream",
     "text": [
      "SLIMElasticNetRecommender: URM Detected 508 ( 4.0%) users with no interactions.\n",
      "SLIMElasticNetRecommender: URM Detected 332 ( 1.5%) items with no interactions.\n"
     ]
    },
    {
     "name": "stderr",
     "output_type": "stream",
     "text": [
      "100%|█████████▉| 22216/22222 [00:44<00:00, 498.68it/s]\n"
     ]
    },
    {
     "name": "stdout",
     "output_type": "stream",
     "text": [
      "EvaluatorHoldout: Processed 10057 (100.0%) in 5.43 sec. Users per second: 1853\n",
      "SLIMElasticNetRecommender: URM Detected 440 ( 3.5%) users with no interactions.\n",
      "SLIMElasticNetRecommender: URM Detected 325 ( 1.5%) items with no interactions.\n"
     ]
    },
    {
     "name": "stderr",
     "output_type": "stream",
     "text": [
      "100%|█████████▉| 22216/22222 [00:46<00:00, 473.47it/s]\n"
     ]
    },
    {
     "name": "stdout",
     "output_type": "stream",
     "text": [
      "EvaluatorHoldout: Processed 10040 (100.0%) in 5.36 sec. Users per second: 1874\n",
      "SLIMElasticNetRecommender: URM Detected 479 ( 3.8%) users with no interactions.\n",
      "SLIMElasticNetRecommender: URM Detected 345 ( 1.6%) items with no interactions.\n"
     ]
    },
    {
     "name": "stderr",
     "output_type": "stream",
     "text": [
      "100%|█████████▉| 22216/22222 [00:49<00:00, 451.12it/s]\n"
     ]
    },
    {
     "name": "stdout",
     "output_type": "stream",
     "text": [
      "EvaluatorHoldout: Processed 10017 (100.0%) in 4.21 sec. Users per second: 2377\n",
      "SLIMElasticNetRecommender: URM Detected 451 ( 3.6%) users with no interactions.\n",
      "SLIMElasticNetRecommender: URM Detected 311 ( 1.4%) items with no interactions.\n"
     ]
    },
    {
     "name": "stderr",
     "output_type": "stream",
     "text": [
      "100%|█████████▉| 22216/22222 [00:34<00:00, 642.50it/s]\n"
     ]
    },
    {
     "name": "stdout",
     "output_type": "stream",
     "text": [
      "EvaluatorHoldout: Processed 10037 (100.0%) in 5.00 sec. Users per second: 2009\n",
      "SLIMElasticNetRecommender: URM Detected 449 ( 3.6%) users with no interactions.\n",
      "SLIMElasticNetRecommender: URM Detected 320 ( 1.4%) items with no interactions.\n"
     ]
    },
    {
     "name": "stderr",
     "output_type": "stream",
     "text": [
      "100%|█████████▉| 22216/22222 [00:42<00:00, 523.49it/s]\n"
     ]
    },
    {
     "name": "stdout",
     "output_type": "stream",
     "text": [
      "EvaluatorHoldout: Processed 9989 (100.0%) in 5.10 sec. Users per second: 1958\n",
      "SLIMElasticNetRecommender: URM Detected 460 ( 3.6%) users with no interactions.\n",
      "SLIMElasticNetRecommender: URM Detected 328 ( 1.5%) items with no interactions.\n"
     ]
    },
    {
     "name": "stderr",
     "output_type": "stream",
     "text": [
      "100%|█████████▉| 22216/22222 [00:45<00:00, 492.01it/s]\n"
     ]
    },
    {
     "name": "stdout",
     "output_type": "stream",
     "text": [
      "EvaluatorHoldout: Processed 10024 (100.0%) in 5.16 sec. Users per second: 1944\n",
      "SLIMElasticNetRecommender: URM Detected 426 ( 3.4%) users with no interactions.\n",
      "SLIMElasticNetRecommender: URM Detected 344 ( 1.5%) items with no interactions.\n"
     ]
    },
    {
     "name": "stderr",
     "output_type": "stream",
     "text": [
      "100%|█████████▉| 22216/22222 [00:43<00:00, 506.85it/s]\n"
     ]
    },
    {
     "name": "stdout",
     "output_type": "stream",
     "text": [
      "EvaluatorHoldout: Processed 10030 (100.0%) in 4.74 sec. Users per second: 2117\n",
      "SLIMElasticNetRecommender: URM Detected 471 ( 3.7%) users with no interactions.\n",
      "SLIMElasticNetRecommender: URM Detected 362 ( 1.6%) items with no interactions.\n"
     ]
    },
    {
     "name": "stderr",
     "output_type": "stream",
     "text": [
      "100%|█████████▉| 22216/22222 [00:45<00:00, 485.91it/s]\n"
     ]
    },
    {
     "name": "stdout",
     "output_type": "stream",
     "text": [
      "EvaluatorHoldout: Processed 10052 (100.0%) in 5.62 sec. Users per second: 1788\n",
      "SLIMElasticNetRecommender: URM Detected 478 ( 3.8%) users with no interactions.\n",
      "SLIMElasticNetRecommender: URM Detected 329 ( 1.5%) items with no interactions.\n"
     ]
    },
    {
     "name": "stderr",
     "output_type": "stream",
     "text": [
      "100%|█████████▉| 22216/22222 [00:45<00:00, 489.09it/s]\n"
     ]
    },
    {
     "name": "stdout",
     "output_type": "stream",
     "text": [
      "EvaluatorHoldout: Processed 10045 (100.0%) in 4.23 sec. Users per second: 2372\n",
      "SLIMElasticNetRecommender: URM Detected 460 ( 3.6%) users with no interactions.\n",
      "SLIMElasticNetRecommender: URM Detected 348 ( 1.6%) items with no interactions.\n"
     ]
    },
    {
     "name": "stderr",
     "output_type": "stream",
     "text": [
      "100%|█████████▉| 22216/22222 [00:45<00:00, 483.48it/s]\n"
     ]
    },
    {
     "name": "stdout",
     "output_type": "stream",
     "text": [
      "EvaluatorHoldout: Processed 10068 (100.0%) in 5.15 sec. Users per second: 1955\n"
     ]
    },
    {
     "name": "stderr",
     "output_type": "stream",
     "text": [
      "[I 2024-01-10 03:12:41,523] Trial 100 finished with value: 0.02980131683567721 and parameters: {'alpha': 0.000781310861148778, 'l1_ratio': 0.16241985802756348, 'topK': 9176}. Best is trial 87 with value: 0.029817176368063435.\n"
     ]
    },
    {
     "name": "stdout",
     "output_type": "stream",
     "text": [
      "SLIMElasticNetRecommender: URM Detected 508 ( 4.0%) users with no interactions.\n",
      "SLIMElasticNetRecommender: URM Detected 332 ( 1.5%) items with no interactions.\n"
     ]
    },
    {
     "name": "stderr",
     "output_type": "stream",
     "text": [
      "100%|█████████▉| 22216/22222 [00:46<00:00, 478.96it/s]\n"
     ]
    },
    {
     "name": "stdout",
     "output_type": "stream",
     "text": [
      "EvaluatorHoldout: Processed 10057 (100.0%) in 5.06 sec. Users per second: 1989\n",
      "SLIMElasticNetRecommender: URM Detected 440 ( 3.5%) users with no interactions.\n",
      "SLIMElasticNetRecommender: URM Detected 325 ( 1.5%) items with no interactions.\n"
     ]
    },
    {
     "name": "stderr",
     "output_type": "stream",
     "text": [
      "100%|█████████▉| 22216/22222 [00:47<00:00, 472.22it/s]\n"
     ]
    },
    {
     "name": "stdout",
     "output_type": "stream",
     "text": [
      "EvaluatorHoldout: Processed 10040 (100.0%) in 4.92 sec. Users per second: 2039\n",
      "SLIMElasticNetRecommender: URM Detected 479 ( 3.8%) users with no interactions.\n",
      "SLIMElasticNetRecommender: URM Detected 345 ( 1.6%) items with no interactions.\n"
     ]
    },
    {
     "name": "stderr",
     "output_type": "stream",
     "text": [
      "100%|█████████▉| 22216/22222 [00:43<00:00, 512.10it/s]\n"
     ]
    },
    {
     "name": "stdout",
     "output_type": "stream",
     "text": [
      "EvaluatorHoldout: Processed 10017 (100.0%) in 4.98 sec. Users per second: 2013\n",
      "SLIMElasticNetRecommender: URM Detected 451 ( 3.6%) users with no interactions.\n",
      "SLIMElasticNetRecommender: URM Detected 311 ( 1.4%) items with no interactions.\n"
     ]
    },
    {
     "name": "stderr",
     "output_type": "stream",
     "text": [
      "100%|█████████▉| 22216/22222 [00:42<00:00, 521.67it/s]\n"
     ]
    },
    {
     "name": "stdout",
     "output_type": "stream",
     "text": [
      "EvaluatorHoldout: Processed 10037 (100.0%) in 3.74 sec. Users per second: 2683\n",
      "SLIMElasticNetRecommender: URM Detected 449 ( 3.6%) users with no interactions.\n",
      "SLIMElasticNetRecommender: URM Detected 320 ( 1.4%) items with no interactions.\n"
     ]
    },
    {
     "name": "stderr",
     "output_type": "stream",
     "text": [
      "100%|█████████▉| 22216/22222 [00:36<00:00, 614.34it/s]\n"
     ]
    },
    {
     "name": "stdout",
     "output_type": "stream",
     "text": [
      "EvaluatorHoldout: Processed 9989 (100.0%) in 4.02 sec. Users per second: 2487\n",
      "SLIMElasticNetRecommender: URM Detected 460 ( 3.6%) users with no interactions.\n",
      "SLIMElasticNetRecommender: URM Detected 328 ( 1.5%) items with no interactions.\n"
     ]
    },
    {
     "name": "stderr",
     "output_type": "stream",
     "text": [
      "100%|█████████▉| 22216/22222 [00:46<00:00, 474.61it/s]\n"
     ]
    },
    {
     "name": "stdout",
     "output_type": "stream",
     "text": [
      "EvaluatorHoldout: Processed 10024 (100.0%) in 4.02 sec. Users per second: 2494\n",
      "SLIMElasticNetRecommender: URM Detected 426 ( 3.4%) users with no interactions.\n",
      "SLIMElasticNetRecommender: URM Detected 344 ( 1.5%) items with no interactions.\n"
     ]
    },
    {
     "name": "stderr",
     "output_type": "stream",
     "text": [
      "100%|█████████▉| 22216/22222 [00:48<00:00, 455.70it/s]\n"
     ]
    },
    {
     "name": "stdout",
     "output_type": "stream",
     "text": [
      "EvaluatorHoldout: Processed 10030 (100.0%) in 4.83 sec. Users per second: 2075\n",
      "SLIMElasticNetRecommender: URM Detected 471 ( 3.7%) users with no interactions.\n",
      "SLIMElasticNetRecommender: URM Detected 362 ( 1.6%) items with no interactions.\n"
     ]
    },
    {
     "name": "stderr",
     "output_type": "stream",
     "text": [
      "100%|█████████▉| 22216/22222 [00:45<00:00, 485.52it/s]\n"
     ]
    },
    {
     "name": "stdout",
     "output_type": "stream",
     "text": [
      "EvaluatorHoldout: Processed 10052 (100.0%) in 5.73 sec. Users per second: 1756\n",
      "SLIMElasticNetRecommender: URM Detected 478 ( 3.8%) users with no interactions.\n",
      "SLIMElasticNetRecommender: URM Detected 329 ( 1.5%) items with no interactions.\n"
     ]
    },
    {
     "name": "stderr",
     "output_type": "stream",
     "text": [
      "100%|█████████▉| 22216/22222 [00:46<00:00, 480.99it/s]\n"
     ]
    },
    {
     "name": "stdout",
     "output_type": "stream",
     "text": [
      "EvaluatorHoldout: Processed 10045 (100.0%) in 5.21 sec. Users per second: 1930\n",
      "SLIMElasticNetRecommender: URM Detected 460 ( 3.6%) users with no interactions.\n",
      "SLIMElasticNetRecommender: URM Detected 348 ( 1.6%) items with no interactions.\n"
     ]
    },
    {
     "name": "stderr",
     "output_type": "stream",
     "text": [
      "100%|█████████▉| 22216/22222 [00:33<00:00, 655.89it/s]\n"
     ]
    },
    {
     "name": "stdout",
     "output_type": "stream",
     "text": [
      "EvaluatorHoldout: Processed 10068 (100.0%) in 4.07 sec. Users per second: 2472\n"
     ]
    },
    {
     "name": "stderr",
     "output_type": "stream",
     "text": [
      "[I 2024-01-10 03:21:17,869] Trial 102 finished with value: 0.029822457158840215 and parameters: {'alpha': 0.0008823027750766652, 'l1_ratio': 0.1534408227529098, 'topK': 9364}. Best is trial 102 with value: 0.029822457158840215.\n"
     ]
    },
    {
     "name": "stdout",
     "output_type": "stream",
     "text": [
      "SLIMElasticNetRecommender: URM Detected 508 ( 4.0%) users with no interactions.\n",
      "SLIMElasticNetRecommender: URM Detected 332 ( 1.5%) items with no interactions.\n"
     ]
    },
    {
     "name": "stderr",
     "output_type": "stream",
     "text": [
      "100%|█████████▉| 22216/22222 [00:44<00:00, 496.69it/s]\n"
     ]
    },
    {
     "name": "stdout",
     "output_type": "stream",
     "text": [
      "EvaluatorHoldout: Processed 10057 (100.0%) in 5.97 sec. Users per second: 1684\n",
      "SLIMElasticNetRecommender: URM Detected 440 ( 3.5%) users with no interactions.\n",
      "SLIMElasticNetRecommender: URM Detected 325 ( 1.5%) items with no interactions.\n"
     ]
    },
    {
     "name": "stderr",
     "output_type": "stream",
     "text": [
      "100%|█████████▉| 22216/22222 [00:46<00:00, 478.15it/s]\n"
     ]
    },
    {
     "name": "stdout",
     "output_type": "stream",
     "text": [
      "EvaluatorHoldout: Processed 10040 (100.0%) in 4.40 sec. Users per second: 2284\n",
      "SLIMElasticNetRecommender: URM Detected 479 ( 3.8%) users with no interactions.\n",
      "SLIMElasticNetRecommender: URM Detected 345 ( 1.6%) items with no interactions.\n"
     ]
    },
    {
     "name": "stderr",
     "output_type": "stream",
     "text": [
      "100%|█████████▉| 22216/22222 [00:44<00:00, 497.63it/s]\n"
     ]
    },
    {
     "name": "stdout",
     "output_type": "stream",
     "text": [
      "EvaluatorHoldout: Processed 10017 (100.0%) in 5.70 sec. Users per second: 1759\n",
      "SLIMElasticNetRecommender: URM Detected 451 ( 3.6%) users with no interactions.\n",
      "SLIMElasticNetRecommender: URM Detected 311 ( 1.4%) items with no interactions.\n"
     ]
    },
    {
     "name": "stderr",
     "output_type": "stream",
     "text": [
      "100%|█████████▉| 22216/22222 [00:44<00:00, 498.64it/s]\n"
     ]
    },
    {
     "name": "stdout",
     "output_type": "stream",
     "text": [
      "EvaluatorHoldout: Processed 10037 (100.0%) in 4.50 sec. Users per second: 2228\n",
      "SLIMElasticNetRecommender: URM Detected 449 ( 3.6%) users with no interactions.\n",
      "SLIMElasticNetRecommender: URM Detected 320 ( 1.4%) items with no interactions.\n"
     ]
    },
    {
     "name": "stderr",
     "output_type": "stream",
     "text": [
      "100%|█████████▉| 22216/22222 [00:43<00:00, 507.49it/s]\n"
     ]
    },
    {
     "name": "stdout",
     "output_type": "stream",
     "text": [
      "EvaluatorHoldout: Processed 9989 (100.0%) in 5.05 sec. Users per second: 1979\n",
      "SLIMElasticNetRecommender: URM Detected 460 ( 3.6%) users with no interactions.\n",
      "SLIMElasticNetRecommender: URM Detected 328 ( 1.5%) items with no interactions.\n"
     ]
    },
    {
     "name": "stderr",
     "output_type": "stream",
     "text": [
      "100%|█████████▉| 22216/22222 [00:37<00:00, 590.44it/s]\n"
     ]
    },
    {
     "name": "stdout",
     "output_type": "stream",
     "text": [
      "EvaluatorHoldout: Processed 10024 (100.0%) in 3.64 sec. Users per second: 2756\n",
      "SLIMElasticNetRecommender: URM Detected 426 ( 3.4%) users with no interactions.\n",
      "SLIMElasticNetRecommender: URM Detected 344 ( 1.5%) items with no interactions.\n"
     ]
    },
    {
     "name": "stderr",
     "output_type": "stream",
     "text": [
      "100%|█████████▉| 22216/22222 [00:44<00:00, 494.08it/s]\n"
     ]
    },
    {
     "name": "stdout",
     "output_type": "stream",
     "text": [
      "EvaluatorHoldout: Processed 10030 (100.0%) in 5.13 sec. Users per second: 1954\n",
      "SLIMElasticNetRecommender: URM Detected 471 ( 3.7%) users with no interactions.\n",
      "SLIMElasticNetRecommender: URM Detected 362 ( 1.6%) items with no interactions.\n"
     ]
    },
    {
     "name": "stderr",
     "output_type": "stream",
     "text": [
      "100%|█████████▉| 22216/22222 [00:49<00:00, 449.02it/s]\n"
     ]
    },
    {
     "name": "stdout",
     "output_type": "stream",
     "text": [
      "EvaluatorHoldout: Processed 10052 (100.0%) in 5.05 sec. Users per second: 1991\n",
      "SLIMElasticNetRecommender: URM Detected 478 ( 3.8%) users with no interactions.\n",
      "SLIMElasticNetRecommender: URM Detected 329 ( 1.5%) items with no interactions.\n"
     ]
    },
    {
     "name": "stderr",
     "output_type": "stream",
     "text": [
      "100%|█████████▉| 22216/22222 [00:46<00:00, 475.93it/s]\n"
     ]
    },
    {
     "name": "stdout",
     "output_type": "stream",
     "text": [
      "EvaluatorHoldout: Processed 10045 (100.0%) in 4.86 sec. Users per second: 2066\n",
      "SLIMElasticNetRecommender: URM Detected 460 ( 3.6%) users with no interactions.\n",
      "SLIMElasticNetRecommender: URM Detected 348 ( 1.6%) items with no interactions.\n"
     ]
    },
    {
     "name": "stderr",
     "output_type": "stream",
     "text": [
      "100%|█████████▉| 22216/22222 [00:47<00:00, 466.94it/s]\n"
     ]
    },
    {
     "name": "stdout",
     "output_type": "stream",
     "text": [
      "EvaluatorHoldout: Processed 10068 (100.0%) in 4.73 sec. Users per second: 2128\n"
     ]
    },
    {
     "name": "stderr",
     "output_type": "stream",
     "text": [
      "[I 2024-01-10 03:30:09,289] Trial 103 finished with value: 0.02980410699096 and parameters: {'alpha': 0.0007983964762190303, 'l1_ratio': 0.153713145918076, 'topK': 9242}. Best is trial 102 with value: 0.029822457158840215.\n"
     ]
    },
    {
     "name": "stdout",
     "output_type": "stream",
     "text": [
      "SLIMElasticNetRecommender: URM Detected 508 ( 4.0%) users with no interactions.\n",
      "SLIMElasticNetRecommender: URM Detected 332 ( 1.5%) items with no interactions.\n"
     ]
    },
    {
     "name": "stderr",
     "output_type": "stream",
     "text": [
      "100%|█████████▉| 22216/22222 [00:21<00:00, 1036.22it/s]\n"
     ]
    },
    {
     "name": "stdout",
     "output_type": "stream",
     "text": [
      "EvaluatorHoldout: Processed 10057 (100.0%) in 3.31 sec. Users per second: 3034\n",
      "SLIMElasticNetRecommender: URM Detected 440 ( 3.5%) users with no interactions.\n",
      "SLIMElasticNetRecommender: URM Detected 325 ( 1.5%) items with no interactions.\n"
     ]
    },
    {
     "name": "stderr",
     "output_type": "stream",
     "text": [
      "100%|█████████▉| 22216/22222 [00:20<00:00, 1068.73it/s]\n"
     ]
    },
    {
     "name": "stdout",
     "output_type": "stream",
     "text": [
      "EvaluatorHoldout: Processed 10040 (100.0%) in 4.10 sec. Users per second: 2446\n",
      "SLIMElasticNetRecommender: URM Detected 479 ( 3.8%) users with no interactions.\n",
      "SLIMElasticNetRecommender: URM Detected 345 ( 1.6%) items with no interactions.\n"
     ]
    },
    {
     "name": "stderr",
     "output_type": "stream",
     "text": [
      "100%|█████████▉| 22216/22222 [00:22<00:00, 990.21it/s] \n"
     ]
    },
    {
     "name": "stdout",
     "output_type": "stream",
     "text": [
      "EvaluatorHoldout: Processed 10017 (100.0%) in 3.17 sec. Users per second: 3158\n",
      "SLIMElasticNetRecommender: URM Detected 451 ( 3.6%) users with no interactions.\n",
      "SLIMElasticNetRecommender: URM Detected 311 ( 1.4%) items with no interactions.\n"
     ]
    },
    {
     "name": "stderr",
     "output_type": "stream",
     "text": [
      "100%|█████████▉| 22216/22222 [00:19<00:00, 1156.61it/s]\n"
     ]
    },
    {
     "name": "stdout",
     "output_type": "stream",
     "text": [
      "EvaluatorHoldout: Processed 10037 (100.0%) in 3.79 sec. Users per second: 2648\n",
      "SLIMElasticNetRecommender: URM Detected 449 ( 3.6%) users with no interactions.\n",
      "SLIMElasticNetRecommender: URM Detected 320 ( 1.4%) items with no interactions.\n"
     ]
    },
    {
     "name": "stderr",
     "output_type": "stream",
     "text": [
      "100%|█████████▉| 22216/22222 [00:19<00:00, 1123.92it/s]\n"
     ]
    },
    {
     "name": "stdout",
     "output_type": "stream",
     "text": [
      "EvaluatorHoldout: Processed 9989 (100.0%) in 3.67 sec. Users per second: 2723\n",
      "SLIMElasticNetRecommender: URM Detected 460 ( 3.6%) users with no interactions.\n",
      "SLIMElasticNetRecommender: URM Detected 328 ( 1.5%) items with no interactions.\n"
     ]
    },
    {
     "name": "stderr",
     "output_type": "stream",
     "text": [
      "100%|█████████▉| 22216/22222 [00:21<00:00, 1015.91it/s]\n"
     ]
    },
    {
     "name": "stdout",
     "output_type": "stream",
     "text": [
      "EvaluatorHoldout: Processed 10024 (100.0%) in 3.74 sec. Users per second: 2679\n",
      "SLIMElasticNetRecommender: URM Detected 426 ( 3.4%) users with no interactions.\n",
      "SLIMElasticNetRecommender: URM Detected 344 ( 1.5%) items with no interactions.\n"
     ]
    },
    {
     "name": "stderr",
     "output_type": "stream",
     "text": [
      "100%|█████████▉| 22216/22222 [00:20<00:00, 1090.70it/s]\n"
     ]
    },
    {
     "name": "stdout",
     "output_type": "stream",
     "text": [
      "EvaluatorHoldout: Processed 10030 (100.0%) in 4.06 sec. Users per second: 2472\n",
      "SLIMElasticNetRecommender: URM Detected 471 ( 3.7%) users with no interactions.\n",
      "SLIMElasticNetRecommender: URM Detected 362 ( 1.6%) items with no interactions.\n"
     ]
    },
    {
     "name": "stderr",
     "output_type": "stream",
     "text": [
      "100%|█████████▉| 22216/22222 [00:22<00:00, 986.60it/s] \n"
     ]
    },
    {
     "name": "stdout",
     "output_type": "stream",
     "text": [
      "EvaluatorHoldout: Processed 10052 (100.0%) in 3.80 sec. Users per second: 2643\n",
      "SLIMElasticNetRecommender: URM Detected 478 ( 3.8%) users with no interactions.\n",
      "SLIMElasticNetRecommender: URM Detected 329 ( 1.5%) items with no interactions.\n"
     ]
    },
    {
     "name": "stderr",
     "output_type": "stream",
     "text": [
      "100%|█████████▉| 22216/22222 [00:18<00:00, 1182.24it/s]\n"
     ]
    },
    {
     "name": "stdout",
     "output_type": "stream",
     "text": [
      "EvaluatorHoldout: Processed 10045 (100.0%) in 2.34 sec. Users per second: 4300\n",
      "SLIMElasticNetRecommender: URM Detected 460 ( 3.6%) users with no interactions.\n",
      "SLIMElasticNetRecommender: URM Detected 348 ( 1.6%) items with no interactions.\n"
     ]
    },
    {
     "name": "stderr",
     "output_type": "stream",
     "text": [
      "100%|█████████▉| 22216/22222 [00:13<00:00, 1627.49it/s]\n"
     ]
    },
    {
     "name": "stdout",
     "output_type": "stream",
     "text": [
      "EvaluatorHoldout: Processed 10068 (100.0%) in 2.38 sec. Users per second: 4237\n"
     ]
    },
    {
     "name": "stderr",
     "output_type": "stream",
     "text": [
      "[I 2024-01-10 03:34:34,990] Trial 105 finished with value: 0.026324755407631868 and parameters: {'alpha': 0.004440304436129975, 'l1_ratio': 0.14678564993506904, 'topK': 9381}. Best is trial 102 with value: 0.029822457158840215.\n"
     ]
    },
    {
     "name": "stdout",
     "output_type": "stream",
     "text": [
      "SLIMElasticNetRecommender: URM Detected 508 ( 4.0%) users with no interactions.\n",
      "SLIMElasticNetRecommender: URM Detected 332 ( 1.5%) items with no interactions.\n"
     ]
    },
    {
     "name": "stderr",
     "output_type": "stream",
     "text": [
      "100%|█████████▉| 22216/22222 [00:33<00:00, 656.12it/s] \n"
     ]
    },
    {
     "name": "stdout",
     "output_type": "stream",
     "text": [
      "EvaluatorHoldout: Processed 10057 (100.0%) in 4.06 sec. Users per second: 2478\n",
      "SLIMElasticNetRecommender: URM Detected 440 ( 3.5%) users with no interactions.\n",
      "SLIMElasticNetRecommender: URM Detected 325 ( 1.5%) items with no interactions.\n"
     ]
    },
    {
     "name": "stderr",
     "output_type": "stream",
     "text": [
      "100%|█████████▉| 22216/22222 [00:32<00:00, 680.95it/s] \n"
     ]
    },
    {
     "name": "stdout",
     "output_type": "stream",
     "text": [
      "EvaluatorHoldout: Processed 10040 (100.0%) in 4.00 sec. Users per second: 2508\n",
      "SLIMElasticNetRecommender: URM Detected 479 ( 3.8%) users with no interactions.\n",
      "SLIMElasticNetRecommender: URM Detected 345 ( 1.6%) items with no interactions.\n"
     ]
    },
    {
     "name": "stderr",
     "output_type": "stream",
     "text": [
      "100%|█████████▉| 22216/22222 [00:32<00:00, 689.83it/s] \n"
     ]
    },
    {
     "name": "stdout",
     "output_type": "stream",
     "text": [
      "EvaluatorHoldout: Processed 10017 (100.0%) in 5.06 sec. Users per second: 1978\n",
      "SLIMElasticNetRecommender: URM Detected 451 ( 3.6%) users with no interactions.\n",
      "SLIMElasticNetRecommender: URM Detected 311 ( 1.4%) items with no interactions.\n"
     ]
    },
    {
     "name": "stderr",
     "output_type": "stream",
     "text": [
      "100%|█████████▉| 22216/22222 [00:32<00:00, 692.67it/s] \n"
     ]
    },
    {
     "name": "stdout",
     "output_type": "stream",
     "text": [
      "EvaluatorHoldout: Processed 10037 (100.0%) in 4.79 sec. Users per second: 2094\n",
      "SLIMElasticNetRecommender: URM Detected 449 ( 3.6%) users with no interactions.\n",
      "SLIMElasticNetRecommender: URM Detected 320 ( 1.4%) items with no interactions.\n"
     ]
    },
    {
     "name": "stderr",
     "output_type": "stream",
     "text": [
      "100%|█████████▉| 22216/22222 [00:32<00:00, 675.75it/s] \n"
     ]
    },
    {
     "name": "stdout",
     "output_type": "stream",
     "text": [
      "EvaluatorHoldout: Processed 9989 (100.0%) in 4.41 sec. Users per second: 2265\n",
      "SLIMElasticNetRecommender: URM Detected 460 ( 3.6%) users with no interactions.\n",
      "SLIMElasticNetRecommender: URM Detected 328 ( 1.5%) items with no interactions.\n"
     ]
    },
    {
     "name": "stderr",
     "output_type": "stream",
     "text": [
      "100%|█████████▉| 22216/22222 [00:31<00:00, 701.55it/s] \n"
     ]
    },
    {
     "name": "stdout",
     "output_type": "stream",
     "text": [
      "EvaluatorHoldout: Processed 10024 (100.0%) in 4.72 sec. Users per second: 2123\n",
      "SLIMElasticNetRecommender: URM Detected 426 ( 3.4%) users with no interactions.\n",
      "SLIMElasticNetRecommender: URM Detected 344 ( 1.5%) items with no interactions.\n"
     ]
    },
    {
     "name": "stderr",
     "output_type": "stream",
     "text": [
      "100%|█████████▉| 22216/22222 [00:29<00:00, 750.86it/s] \n"
     ]
    },
    {
     "name": "stdout",
     "output_type": "stream",
     "text": [
      "EvaluatorHoldout: Processed 10030 (100.0%) in 3.15 sec. Users per second: 3182\n",
      "SLIMElasticNetRecommender: URM Detected 471 ( 3.7%) users with no interactions.\n",
      "SLIMElasticNetRecommender: URM Detected 362 ( 1.6%) items with no interactions.\n"
     ]
    },
    {
     "name": "stderr",
     "output_type": "stream",
     "text": [
      "100%|█████████▉| 22216/22222 [00:26<00:00, 849.29it/s] \n"
     ]
    },
    {
     "name": "stdout",
     "output_type": "stream",
     "text": [
      "EvaluatorHoldout: Processed 10052 (100.0%) in 4.82 sec. Users per second: 2084\n",
      "SLIMElasticNetRecommender: URM Detected 478 ( 3.8%) users with no interactions.\n",
      "SLIMElasticNetRecommender: URM Detected 329 ( 1.5%) items with no interactions.\n"
     ]
    },
    {
     "name": "stderr",
     "output_type": "stream",
     "text": [
      "100%|█████████▉| 22216/22222 [00:35<00:00, 629.62it/s] \n"
     ]
    },
    {
     "name": "stdout",
     "output_type": "stream",
     "text": [
      "EvaluatorHoldout: Processed 10045 (100.0%) in 4.18 sec. Users per second: 2404\n",
      "SLIMElasticNetRecommender: URM Detected 460 ( 3.6%) users with no interactions.\n",
      "SLIMElasticNetRecommender: URM Detected 348 ( 1.6%) items with no interactions.\n"
     ]
    },
    {
     "name": "stderr",
     "output_type": "stream",
     "text": [
      "100%|█████████▉| 22216/22222 [00:34<00:00, 650.69it/s] \n"
     ]
    },
    {
     "name": "stdout",
     "output_type": "stream",
     "text": [
      "EvaluatorHoldout: Processed 10068 (100.0%) in 4.70 sec. Users per second: 2144\n"
     ]
    },
    {
     "name": "stderr",
     "output_type": "stream",
     "text": [
      "[I 2024-01-10 03:41:14,665] Trial 108 finished with value: 0.029663936040221182 and parameters: {'alpha': 0.0011902243782235152, 'l1_ratio': 0.1526443280250394, 'topK': 9253}. Best is trial 102 with value: 0.029822457158840215.\n"
     ]
    },
    {
     "name": "stdout",
     "output_type": "stream",
     "text": [
      "SLIMElasticNetRecommender: URM Detected 508 ( 4.0%) users with no interactions.\n",
      "SLIMElasticNetRecommender: URM Detected 332 ( 1.5%) items with no interactions.\n"
     ]
    },
    {
     "name": "stderr",
     "output_type": "stream",
     "text": [
      "100%|█████████▉| 22216/22222 [00:52<00:00, 424.09it/s]\n"
     ]
    },
    {
     "name": "stdout",
     "output_type": "stream",
     "text": [
      "EvaluatorHoldout: Processed 10057 (100.0%) in 4.21 sec. Users per second: 2389\n",
      "SLIMElasticNetRecommender: URM Detected 440 ( 3.5%) users with no interactions.\n",
      "SLIMElasticNetRecommender: URM Detected 325 ( 1.5%) items with no interactions.\n"
     ]
    },
    {
     "name": "stderr",
     "output_type": "stream",
     "text": [
      "100%|█████████▉| 22216/22222 [00:48<00:00, 459.19it/s]\n"
     ]
    },
    {
     "name": "stdout",
     "output_type": "stream",
     "text": [
      "EvaluatorHoldout: Processed 10040 (100.0%) in 4.26 sec. Users per second: 2357\n",
      "SLIMElasticNetRecommender: URM Detected 479 ( 3.8%) users with no interactions.\n",
      "SLIMElasticNetRecommender: URM Detected 345 ( 1.6%) items with no interactions.\n"
     ]
    },
    {
     "name": "stderr",
     "output_type": "stream",
     "text": [
      "100%|█████████▉| 22216/22222 [00:50<00:00, 442.29it/s]\n"
     ]
    },
    {
     "name": "stdout",
     "output_type": "stream",
     "text": [
      "EvaluatorHoldout: Processed 10017 (100.0%) in 5.30 sec. Users per second: 1891\n",
      "SLIMElasticNetRecommender: URM Detected 451 ( 3.6%) users with no interactions.\n",
      "SLIMElasticNetRecommender: URM Detected 311 ( 1.4%) items with no interactions.\n"
     ]
    },
    {
     "name": "stderr",
     "output_type": "stream",
     "text": [
      "100%|█████████▉| 22216/22222 [00:47<00:00, 464.22it/s]\n"
     ]
    },
    {
     "name": "stdout",
     "output_type": "stream",
     "text": [
      "EvaluatorHoldout: Processed 10037 (100.0%) in 5.50 sec. Users per second: 1824\n",
      "SLIMElasticNetRecommender: URM Detected 449 ( 3.6%) users with no interactions.\n",
      "SLIMElasticNetRecommender: URM Detected 320 ( 1.4%) items with no interactions.\n"
     ]
    },
    {
     "name": "stderr",
     "output_type": "stream",
     "text": [
      "100%|█████████▉| 22216/22222 [00:49<00:00, 451.20it/s]\n"
     ]
    },
    {
     "name": "stdout",
     "output_type": "stream",
     "text": [
      "EvaluatorHoldout: Processed 9989 (100.0%) in 5.75 sec. Users per second: 1737\n",
      "SLIMElasticNetRecommender: URM Detected 460 ( 3.6%) users with no interactions.\n",
      "SLIMElasticNetRecommender: URM Detected 328 ( 1.5%) items with no interactions.\n"
     ]
    },
    {
     "name": "stderr",
     "output_type": "stream",
     "text": [
      "100%|█████████▉| 22216/22222 [00:47<00:00, 467.04it/s]\n"
     ]
    },
    {
     "name": "stdout",
     "output_type": "stream",
     "text": [
      "EvaluatorHoldout: Processed 10024 (100.0%) in 5.09 sec. Users per second: 1971\n",
      "SLIMElasticNetRecommender: URM Detected 426 ( 3.4%) users with no interactions.\n",
      "SLIMElasticNetRecommender: URM Detected 344 ( 1.5%) items with no interactions.\n"
     ]
    },
    {
     "name": "stderr",
     "output_type": "stream",
     "text": [
      "100%|█████████▉| 22216/22222 [00:48<00:00, 459.87it/s]\n"
     ]
    },
    {
     "name": "stdout",
     "output_type": "stream",
     "text": [
      "EvaluatorHoldout: Processed 10030 (100.0%) in 5.88 sec. Users per second: 1707\n",
      "SLIMElasticNetRecommender: URM Detected 471 ( 3.7%) users with no interactions.\n",
      "SLIMElasticNetRecommender: URM Detected 362 ( 1.6%) items with no interactions.\n"
     ]
    },
    {
     "name": "stderr",
     "output_type": "stream",
     "text": [
      "100%|█████████▉| 22216/22222 [00:37<00:00, 589.75it/s]\n"
     ]
    },
    {
     "name": "stdout",
     "output_type": "stream",
     "text": [
      "EvaluatorHoldout: Processed 10052 (100.0%) in 3.46 sec. Users per second: 2904\n",
      "SLIMElasticNetRecommender: URM Detected 478 ( 3.8%) users with no interactions.\n",
      "SLIMElasticNetRecommender: URM Detected 329 ( 1.5%) items with no interactions.\n"
     ]
    },
    {
     "name": "stderr",
     "output_type": "stream",
     "text": [
      "100%|█████████▉| 22216/22222 [00:44<00:00, 497.93it/s]\n"
     ]
    },
    {
     "name": "stdout",
     "output_type": "stream",
     "text": [
      "EvaluatorHoldout: Processed 10045 (100.0%) in 5.03 sec. Users per second: 1998\n",
      "SLIMElasticNetRecommender: URM Detected 460 ( 3.6%) users with no interactions.\n",
      "SLIMElasticNetRecommender: URM Detected 348 ( 1.6%) items with no interactions.\n"
     ]
    },
    {
     "name": "stderr",
     "output_type": "stream",
     "text": [
      "100%|█████████▉| 22216/22222 [00:47<00:00, 470.10it/s]\n"
     ]
    },
    {
     "name": "stdout",
     "output_type": "stream",
     "text": [
      "EvaluatorHoldout: Processed 10068 (100.0%) in 4.55 sec. Users per second: 2212\n"
     ]
    },
    {
     "name": "stderr",
     "output_type": "stream",
     "text": [
      "[I 2024-01-10 03:50:26,158] Trial 109 finished with value: 0.029690077238464306 and parameters: {'alpha': 0.000793617240746154, 'l1_ratio': 0.10694053649323698, 'topK': 9445}. Best is trial 102 with value: 0.029822457158840215.\n"
     ]
    },
    {
     "name": "stdout",
     "output_type": "stream",
     "text": [
      "SLIMElasticNetRecommender: URM Detected 508 ( 4.0%) users with no interactions.\n",
      "SLIMElasticNetRecommender: URM Detected 332 ( 1.5%) items with no interactions.\n"
     ]
    },
    {
     "name": "stderr",
     "output_type": "stream",
     "text": [
      "100%|█████████▉| 22216/22222 [00:25<00:00, 872.30it/s] \n"
     ]
    },
    {
     "name": "stdout",
     "output_type": "stream",
     "text": [
      "EvaluatorHoldout: Processed 10057 (100.0%) in 4.19 sec. Users per second: 2401\n",
      "SLIMElasticNetRecommender: URM Detected 440 ( 3.5%) users with no interactions.\n",
      "SLIMElasticNetRecommender: URM Detected 325 ( 1.5%) items with no interactions.\n"
     ]
    },
    {
     "name": "stderr",
     "output_type": "stream",
     "text": [
      "100%|█████████▉| 22216/22222 [00:24<00:00, 891.64it/s] \n"
     ]
    },
    {
     "name": "stdout",
     "output_type": "stream",
     "text": [
      "EvaluatorHoldout: Processed 10040 (100.0%) in 4.69 sec. Users per second: 2139\n",
      "SLIMElasticNetRecommender: URM Detected 479 ( 3.8%) users with no interactions.\n",
      "SLIMElasticNetRecommender: URM Detected 345 ( 1.6%) items with no interactions.\n"
     ]
    },
    {
     "name": "stderr",
     "output_type": "stream",
     "text": [
      "100%|█████████▉| 22216/22222 [00:26<00:00, 844.27it/s] \n"
     ]
    },
    {
     "name": "stdout",
     "output_type": "stream",
     "text": [
      "EvaluatorHoldout: Processed 10017 (100.0%) in 4.43 sec. Users per second: 2264\n",
      "SLIMElasticNetRecommender: URM Detected 451 ( 3.6%) users with no interactions.\n",
      "SLIMElasticNetRecommender: URM Detected 311 ( 1.4%) items with no interactions.\n"
     ]
    },
    {
     "name": "stderr",
     "output_type": "stream",
     "text": [
      "100%|█████████▉| 22216/22222 [00:26<00:00, 847.28it/s] \n"
     ]
    },
    {
     "name": "stdout",
     "output_type": "stream",
     "text": [
      "EvaluatorHoldout: Processed 10037 (100.0%) in 4.68 sec. Users per second: 2144\n",
      "SLIMElasticNetRecommender: URM Detected 449 ( 3.6%) users with no interactions.\n",
      "SLIMElasticNetRecommender: URM Detected 320 ( 1.4%) items with no interactions.\n"
     ]
    },
    {
     "name": "stderr",
     "output_type": "stream",
     "text": [
      "100%|█████████▉| 22216/22222 [00:25<00:00, 858.21it/s] \n"
     ]
    },
    {
     "name": "stdout",
     "output_type": "stream",
     "text": [
      "EvaluatorHoldout: Processed 9989 (100.0%) in 4.71 sec. Users per second: 2119\n",
      "SLIMElasticNetRecommender: URM Detected 460 ( 3.6%) users with no interactions.\n",
      "SLIMElasticNetRecommender: URM Detected 328 ( 1.5%) items with no interactions.\n"
     ]
    },
    {
     "name": "stderr",
     "output_type": "stream",
     "text": [
      "100%|█████████▉| 22216/22222 [00:28<00:00, 782.48it/s] \n"
     ]
    },
    {
     "name": "stdout",
     "output_type": "stream",
     "text": [
      "EvaluatorHoldout: Processed 10024 (100.0%) in 4.76 sec. Users per second: 2107\n",
      "SLIMElasticNetRecommender: URM Detected 426 ( 3.4%) users with no interactions.\n",
      "SLIMElasticNetRecommender: URM Detected 344 ( 1.5%) items with no interactions.\n"
     ]
    },
    {
     "name": "stderr",
     "output_type": "stream",
     "text": [
      "100%|█████████▉| 22216/22222 [00:27<00:00, 812.42it/s] \n"
     ]
    },
    {
     "name": "stdout",
     "output_type": "stream",
     "text": [
      "EvaluatorHoldout: Processed 10030 (100.0%) in 4.70 sec. Users per second: 2133\n",
      "SLIMElasticNetRecommender: URM Detected 471 ( 3.7%) users with no interactions.\n",
      "SLIMElasticNetRecommender: URM Detected 362 ( 1.6%) items with no interactions.\n"
     ]
    },
    {
     "name": "stderr",
     "output_type": "stream",
     "text": [
      "100%|█████████▉| 22216/22222 [00:28<00:00, 786.23it/s] \n"
     ]
    },
    {
     "name": "stdout",
     "output_type": "stream",
     "text": [
      "EvaluatorHoldout: Processed 10052 (100.0%) in 2.91 sec. Users per second: 3457\n",
      "SLIMElasticNetRecommender: URM Detected 478 ( 3.8%) users with no interactions.\n",
      "SLIMElasticNetRecommender: URM Detected 329 ( 1.5%) items with no interactions.\n"
     ]
    },
    {
     "name": "stderr",
     "output_type": "stream",
     "text": [
      "100%|█████████▉| 22216/22222 [00:19<00:00, 1130.67it/s]\n"
     ]
    },
    {
     "name": "stdout",
     "output_type": "stream",
     "text": [
      "EvaluatorHoldout: Processed 10045 (100.0%) in 4.83 sec. Users per second: 2081\n",
      "SLIMElasticNetRecommender: URM Detected 460 ( 3.6%) users with no interactions.\n",
      "SLIMElasticNetRecommender: URM Detected 348 ( 1.6%) items with no interactions.\n"
     ]
    },
    {
     "name": "stderr",
     "output_type": "stream",
     "text": [
      "100%|█████████▉| 22216/22222 [00:26<00:00, 851.30it/s] \n"
     ]
    },
    {
     "name": "stdout",
     "output_type": "stream",
     "text": [
      "EvaluatorHoldout: Processed 10068 (100.0%) in 4.23 sec. Users per second: 2381\n"
     ]
    },
    {
     "name": "stderr",
     "output_type": "stream",
     "text": [
      "[I 2024-01-10 03:55:55,152] Trial 111 finished with value: 0.028871072968354606 and parameters: {'alpha': 0.0016703772766117743, 'l1_ratio': 0.1776354117567807, 'topK': 9981}. Best is trial 102 with value: 0.029822457158840215.\n"
     ]
    },
    {
     "name": "stdout",
     "output_type": "stream",
     "text": [
      "SLIMElasticNetRecommender: URM Detected 508 ( 4.0%) users with no interactions.\n",
      "SLIMElasticNetRecommender: URM Detected 332 ( 1.5%) items with no interactions.\n"
     ]
    },
    {
     "name": "stderr",
     "output_type": "stream",
     "text": [
      "100%|█████████▉| 22216/22222 [00:52<00:00, 424.29it/s]\n"
     ]
    },
    {
     "name": "stdout",
     "output_type": "stream",
     "text": [
      "EvaluatorHoldout: Processed 10057 (100.0%) in 6.34 sec. Users per second: 1586\n",
      "SLIMElasticNetRecommender: URM Detected 440 ( 3.5%) users with no interactions.\n",
      "SLIMElasticNetRecommender: URM Detected 325 ( 1.5%) items with no interactions.\n"
     ]
    },
    {
     "name": "stderr",
     "output_type": "stream",
     "text": [
      "100%|█████████▉| 22216/22222 [00:45<00:00, 489.87it/s]\n"
     ]
    },
    {
     "name": "stdout",
     "output_type": "stream",
     "text": [
      "EvaluatorHoldout: Processed 10040 (100.0%) in 5.10 sec. Users per second: 1969\n",
      "SLIMElasticNetRecommender: URM Detected 479 ( 3.8%) users with no interactions.\n",
      "SLIMElasticNetRecommender: URM Detected 345 ( 1.6%) items with no interactions.\n"
     ]
    },
    {
     "name": "stderr",
     "output_type": "stream",
     "text": [
      "100%|█████████▉| 22216/22222 [00:45<00:00, 483.27it/s]\n"
     ]
    },
    {
     "name": "stdout",
     "output_type": "stream",
     "text": [
      "EvaluatorHoldout: Processed 10017 (100.0%) in 5.06 sec. Users per second: 1978\n",
      "SLIMElasticNetRecommender: URM Detected 451 ( 3.6%) users with no interactions.\n",
      "SLIMElasticNetRecommender: URM Detected 311 ( 1.4%) items with no interactions.\n"
     ]
    },
    {
     "name": "stderr",
     "output_type": "stream",
     "text": [
      "100%|█████████▉| 22216/22222 [00:44<00:00, 496.24it/s]\n"
     ]
    },
    {
     "name": "stdout",
     "output_type": "stream",
     "text": [
      "EvaluatorHoldout: Processed 10037 (100.0%) in 6.45 sec. Users per second: 1556\n",
      "SLIMElasticNetRecommender: URM Detected 449 ( 3.6%) users with no interactions.\n",
      "SLIMElasticNetRecommender: URM Detected 320 ( 1.4%) items with no interactions.\n"
     ]
    },
    {
     "name": "stderr",
     "output_type": "stream",
     "text": [
      "100%|█████████▉| 22216/22222 [00:36<00:00, 604.81it/s]\n"
     ]
    },
    {
     "name": "stdout",
     "output_type": "stream",
     "text": [
      "EvaluatorHoldout: Processed 9989 (100.0%) in 4.42 sec. Users per second: 2261\n",
      "SLIMElasticNetRecommender: URM Detected 460 ( 3.6%) users with no interactions.\n",
      "SLIMElasticNetRecommender: URM Detected 328 ( 1.5%) items with no interactions.\n"
     ]
    },
    {
     "name": "stderr",
     "output_type": "stream",
     "text": [
      "100%|█████████▉| 22216/22222 [00:44<00:00, 503.26it/s]\n"
     ]
    },
    {
     "name": "stdout",
     "output_type": "stream",
     "text": [
      "EvaluatorHoldout: Processed 10024 (100.0%) in 5.18 sec. Users per second: 1934\n",
      "SLIMElasticNetRecommender: URM Detected 426 ( 3.4%) users with no interactions.\n",
      "SLIMElasticNetRecommender: URM Detected 344 ( 1.5%) items with no interactions.\n"
     ]
    },
    {
     "name": "stderr",
     "output_type": "stream",
     "text": [
      "100%|█████████▉| 22216/22222 [00:46<00:00, 478.25it/s]\n"
     ]
    },
    {
     "name": "stdout",
     "output_type": "stream",
     "text": [
      "EvaluatorHoldout: Processed 10030 (100.0%) in 5.02 sec. Users per second: 1998\n",
      "SLIMElasticNetRecommender: URM Detected 471 ( 3.7%) users with no interactions.\n",
      "SLIMElasticNetRecommender: URM Detected 362 ( 1.6%) items with no interactions.\n"
     ]
    },
    {
     "name": "stderr",
     "output_type": "stream",
     "text": [
      "100%|█████████▉| 22216/22222 [00:46<00:00, 479.43it/s]\n"
     ]
    },
    {
     "name": "stdout",
     "output_type": "stream",
     "text": [
      "EvaluatorHoldout: Processed 10052 (100.0%) in 4.29 sec. Users per second: 2344\n",
      "SLIMElasticNetRecommender: URM Detected 478 ( 3.8%) users with no interactions.\n",
      "SLIMElasticNetRecommender: URM Detected 329 ( 1.5%) items with no interactions.\n"
     ]
    },
    {
     "name": "stderr",
     "output_type": "stream",
     "text": [
      "100%|█████████▉| 22216/22222 [00:45<00:00, 484.35it/s]\n"
     ]
    },
    {
     "name": "stdout",
     "output_type": "stream",
     "text": [
      "EvaluatorHoldout: Processed 10045 (100.0%) in 5.04 sec. Users per second: 1994\n",
      "SLIMElasticNetRecommender: URM Detected 460 ( 3.6%) users with no interactions.\n",
      "SLIMElasticNetRecommender: URM Detected 348 ( 1.6%) items with no interactions.\n"
     ]
    },
    {
     "name": "stderr",
     "output_type": "stream",
     "text": [
      "100%|█████████▉| 22216/22222 [00:45<00:00, 486.11it/s]\n"
     ]
    },
    {
     "name": "stdout",
     "output_type": "stream",
     "text": [
      "EvaluatorHoldout: Processed 10068 (100.0%) in 4.15 sec. Users per second: 2426\n"
     ]
    },
    {
     "name": "stderr",
     "output_type": "stream",
     "text": [
      "[I 2024-01-10 04:04:45,030] Trial 112 finished with value: 0.029811142693271047 and parameters: {'alpha': 0.0009223684135814398, 'l1_ratio': 0.11766189689052761, 'topK': 8489}. Best is trial 102 with value: 0.029822457158840215.\n"
     ]
    },
    {
     "name": "stdout",
     "output_type": "stream",
     "text": [
      "SLIMElasticNetRecommender: URM Detected 508 ( 4.0%) users with no interactions.\n",
      "SLIMElasticNetRecommender: URM Detected 332 ( 1.5%) items with no interactions.\n"
     ]
    },
    {
     "name": "stderr",
     "output_type": "stream",
     "text": [
      "100%|█████████▉| 22216/22222 [00:46<00:00, 478.76it/s]\n"
     ]
    },
    {
     "name": "stdout",
     "output_type": "stream",
     "text": [
      "EvaluatorHoldout: Processed 10057 (100.0%) in 4.71 sec. Users per second: 2133\n",
      "SLIMElasticNetRecommender: URM Detected 440 ( 3.5%) users with no interactions.\n",
      "SLIMElasticNetRecommender: URM Detected 325 ( 1.5%) items with no interactions.\n"
     ]
    },
    {
     "name": "stderr",
     "output_type": "stream",
     "text": [
      "100%|█████████▉| 22216/22222 [00:35<00:00, 627.59it/s]\n"
     ]
    },
    {
     "name": "stdout",
     "output_type": "stream",
     "text": [
      "EvaluatorHoldout: Processed 10040 (100.0%) in 4.15 sec. Users per second: 2417\n",
      "SLIMElasticNetRecommender: URM Detected 479 ( 3.8%) users with no interactions.\n",
      "SLIMElasticNetRecommender: URM Detected 345 ( 1.6%) items with no interactions.\n"
     ]
    },
    {
     "name": "stderr",
     "output_type": "stream",
     "text": [
      "100%|█████████▉| 22216/22222 [00:35<00:00, 624.27it/s]\n"
     ]
    },
    {
     "name": "stdout",
     "output_type": "stream",
     "text": [
      "EvaluatorHoldout: Processed 10017 (100.0%) in 4.16 sec. Users per second: 2408\n",
      "SLIMElasticNetRecommender: URM Detected 451 ( 3.6%) users with no interactions.\n",
      "SLIMElasticNetRecommender: URM Detected 311 ( 1.4%) items with no interactions.\n"
     ]
    },
    {
     "name": "stderr",
     "output_type": "stream",
     "text": [
      "100%|█████████▉| 22216/22222 [00:39<00:00, 565.93it/s]\n"
     ]
    },
    {
     "name": "stdout",
     "output_type": "stream",
     "text": [
      "EvaluatorHoldout: Processed 10037 (100.0%) in 4.02 sec. Users per second: 2499\n",
      "SLIMElasticNetRecommender: URM Detected 449 ( 3.6%) users with no interactions.\n",
      "SLIMElasticNetRecommender: URM Detected 320 ( 1.4%) items with no interactions.\n"
     ]
    },
    {
     "name": "stderr",
     "output_type": "stream",
     "text": [
      "100%|█████████▉| 22216/22222 [00:40<00:00, 554.08it/s]\n"
     ]
    },
    {
     "name": "stdout",
     "output_type": "stream",
     "text": [
      "EvaluatorHoldout: Processed 9989 (100.0%) in 3.93 sec. Users per second: 2541\n",
      "SLIMElasticNetRecommender: URM Detected 460 ( 3.6%) users with no interactions.\n",
      "SLIMElasticNetRecommender: URM Detected 328 ( 1.5%) items with no interactions.\n"
     ]
    },
    {
     "name": "stderr",
     "output_type": "stream",
     "text": [
      "100%|█████████▉| 22216/22222 [00:33<00:00, 653.58it/s]\n"
     ]
    },
    {
     "name": "stdout",
     "output_type": "stream",
     "text": [
      "EvaluatorHoldout: Processed 10024 (100.0%) in 3.98 sec. Users per second: 2522\n",
      "SLIMElasticNetRecommender: URM Detected 426 ( 3.4%) users with no interactions.\n",
      "SLIMElasticNetRecommender: URM Detected 344 ( 1.5%) items with no interactions.\n"
     ]
    },
    {
     "name": "stderr",
     "output_type": "stream",
     "text": [
      "100%|█████████▉| 22216/22222 [00:44<00:00, 500.26it/s]\n"
     ]
    },
    {
     "name": "stdout",
     "output_type": "stream",
     "text": [
      "EvaluatorHoldout: Processed 10030 (100.0%) in 3.93 sec. Users per second: 2554\n",
      "SLIMElasticNetRecommender: URM Detected 471 ( 3.7%) users with no interactions.\n",
      "SLIMElasticNetRecommender: URM Detected 362 ( 1.6%) items with no interactions.\n"
     ]
    },
    {
     "name": "stderr",
     "output_type": "stream",
     "text": [
      "100%|█████████▉| 22216/22222 [00:36<00:00, 612.34it/s]\n"
     ]
    },
    {
     "name": "stdout",
     "output_type": "stream",
     "text": [
      "EvaluatorHoldout: Processed 10052 (100.0%) in 4.63 sec. Users per second: 2171\n",
      "SLIMElasticNetRecommender: URM Detected 478 ( 3.8%) users with no interactions.\n",
      "SLIMElasticNetRecommender: URM Detected 329 ( 1.5%) items with no interactions.\n"
     ]
    },
    {
     "name": "stderr",
     "output_type": "stream",
     "text": [
      "100%|█████████▉| 22216/22222 [00:35<00:00, 625.37it/s]\n"
     ]
    },
    {
     "name": "stdout",
     "output_type": "stream",
     "text": [
      "EvaluatorHoldout: Processed 10045 (100.0%) in 3.98 sec. Users per second: 2525\n",
      "SLIMElasticNetRecommender: URM Detected 460 ( 3.6%) users with no interactions.\n",
      "SLIMElasticNetRecommender: URM Detected 348 ( 1.6%) items with no interactions.\n"
     ]
    },
    {
     "name": "stderr",
     "output_type": "stream",
     "text": [
      "100%|█████████▉| 22216/22222 [00:42<00:00, 523.66it/s]\n"
     ]
    },
    {
     "name": "stdout",
     "output_type": "stream",
     "text": [
      "EvaluatorHoldout: Processed 10068 (100.0%) in 3.78 sec. Users per second: 2665\n"
     ]
    },
    {
     "name": "stderr",
     "output_type": "stream",
     "text": [
      "[I 2024-01-10 04:12:18,981] Trial 113 finished with value: 0.029818959469479316 and parameters: {'alpha': 0.0009516344648367034, 'l1_ratio': 0.11654602095119942, 'topK': 8565}. Best is trial 102 with value: 0.029822457158840215.\n"
     ]
    },
    {
     "name": "stdout",
     "output_type": "stream",
     "text": [
      "SLIMElasticNetRecommender: URM Detected 508 ( 4.0%) users with no interactions.\n",
      "SLIMElasticNetRecommender: URM Detected 332 ( 1.5%) items with no interactions.\n"
     ]
    },
    {
     "name": "stderr",
     "output_type": "stream",
     "text": [
      "100%|█████████▉| 22216/22222 [00:43<00:00, 508.16it/s]\n"
     ]
    },
    {
     "name": "stdout",
     "output_type": "stream",
     "text": [
      "EvaluatorHoldout: Processed 10057 (100.0%) in 3.92 sec. Users per second: 2568\n",
      "SLIMElasticNetRecommender: URM Detected 440 ( 3.5%) users with no interactions.\n",
      "SLIMElasticNetRecommender: URM Detected 325 ( 1.5%) items with no interactions.\n"
     ]
    },
    {
     "name": "stderr",
     "output_type": "stream",
     "text": [
      "100%|█████████▉| 22216/22222 [00:36<00:00, 610.23it/s]\n"
     ]
    },
    {
     "name": "stdout",
     "output_type": "stream",
     "text": [
      "EvaluatorHoldout: Processed 10040 (100.0%) in 4.03 sec. Users per second: 2494\n",
      "SLIMElasticNetRecommender: URM Detected 479 ( 3.8%) users with no interactions.\n",
      "SLIMElasticNetRecommender: URM Detected 345 ( 1.6%) items with no interactions.\n"
     ]
    },
    {
     "name": "stderr",
     "output_type": "stream",
     "text": [
      "100%|█████████▉| 22216/22222 [00:35<00:00, 627.82it/s]\n"
     ]
    },
    {
     "name": "stdout",
     "output_type": "stream",
     "text": [
      "EvaluatorHoldout: Processed 10017 (100.0%) in 3.92 sec. Users per second: 2558\n",
      "SLIMElasticNetRecommender: URM Detected 451 ( 3.6%) users with no interactions.\n",
      "SLIMElasticNetRecommender: URM Detected 311 ( 1.4%) items with no interactions.\n"
     ]
    },
    {
     "name": "stderr",
     "output_type": "stream",
     "text": [
      "100%|█████████▉| 22216/22222 [00:38<00:00, 575.04it/s]\n"
     ]
    },
    {
     "name": "stdout",
     "output_type": "stream",
     "text": [
      "EvaluatorHoldout: Processed 10037 (100.0%) in 3.95 sec. Users per second: 2544\n",
      "SLIMElasticNetRecommender: URM Detected 449 ( 3.6%) users with no interactions.\n",
      "SLIMElasticNetRecommender: URM Detected 320 ( 1.4%) items with no interactions.\n"
     ]
    },
    {
     "name": "stderr",
     "output_type": "stream",
     "text": [
      "100%|█████████▉| 22216/22222 [00:39<00:00, 562.22it/s]\n"
     ]
    },
    {
     "name": "stdout",
     "output_type": "stream",
     "text": [
      "EvaluatorHoldout: Processed 9989 (100.0%) in 4.05 sec. Users per second: 2468\n",
      "SLIMElasticNetRecommender: URM Detected 460 ( 3.6%) users with no interactions.\n",
      "SLIMElasticNetRecommender: URM Detected 328 ( 1.5%) items with no interactions.\n"
     ]
    },
    {
     "name": "stderr",
     "output_type": "stream",
     "text": [
      "100%|█████████▉| 22216/22222 [00:33<00:00, 657.06it/s]\n"
     ]
    },
    {
     "name": "stdout",
     "output_type": "stream",
     "text": [
      "EvaluatorHoldout: Processed 10024 (100.0%) in 3.95 sec. Users per second: 2539\n",
      "SLIMElasticNetRecommender: URM Detected 426 ( 3.4%) users with no interactions.\n",
      "SLIMElasticNetRecommender: URM Detected 344 ( 1.5%) items with no interactions.\n"
     ]
    },
    {
     "name": "stderr",
     "output_type": "stream",
     "text": [
      "100%|█████████▉| 22216/22222 [00:35<00:00, 617.15it/s]\n"
     ]
    },
    {
     "name": "stdout",
     "output_type": "stream",
     "text": [
      "EvaluatorHoldout: Processed 10030 (100.0%) in 5.16 sec. Users per second: 1945\n",
      "SLIMElasticNetRecommender: URM Detected 471 ( 3.7%) users with no interactions.\n",
      "SLIMElasticNetRecommender: URM Detected 362 ( 1.6%) items with no interactions.\n"
     ]
    },
    {
     "name": "stderr",
     "output_type": "stream",
     "text": [
      "100%|█████████▉| 22216/22222 [00:48<00:00, 456.52it/s]\n"
     ]
    },
    {
     "name": "stdout",
     "output_type": "stream",
     "text": [
      "EvaluatorHoldout: Processed 10052 (100.0%) in 5.12 sec. Users per second: 1964\n",
      "SLIMElasticNetRecommender: URM Detected 478 ( 3.8%) users with no interactions.\n",
      "SLIMElasticNetRecommender: URM Detected 329 ( 1.5%) items with no interactions.\n"
     ]
    },
    {
     "name": "stderr",
     "output_type": "stream",
     "text": [
      "100%|█████████▉| 22216/22222 [00:45<00:00, 486.19it/s]\n"
     ]
    },
    {
     "name": "stdout",
     "output_type": "stream",
     "text": [
      "EvaluatorHoldout: Processed 10045 (100.0%) in 5.53 sec. Users per second: 1815\n",
      "SLIMElasticNetRecommender: URM Detected 460 ( 3.6%) users with no interactions.\n",
      "SLIMElasticNetRecommender: URM Detected 348 ( 1.6%) items with no interactions.\n"
     ]
    },
    {
     "name": "stderr",
     "output_type": "stream",
     "text": [
      "100%|█████████▉| 22216/22222 [00:46<00:00, 478.96it/s]\n"
     ]
    },
    {
     "name": "stdout",
     "output_type": "stream",
     "text": [
      "EvaluatorHoldout: Processed 10068 (100.0%) in 5.06 sec. Users per second: 1990\n"
     ]
    },
    {
     "name": "stderr",
     "output_type": "stream",
     "text": [
      "[I 2024-01-10 04:20:09,142] Trial 117 finished with value: 0.029856664840031626 and parameters: {'alpha': 0.0010355460994704913, 'l1_ratio': 0.1179813346791771, 'topK': 9117}. Best is trial 117 with value: 0.029856664840031626.\n"
     ]
    },
    {
     "name": "stdout",
     "output_type": "stream",
     "text": [
      "SLIMElasticNetRecommender: URM Detected 508 ( 4.0%) users with no interactions.\n",
      "SLIMElasticNetRecommender: URM Detected 332 ( 1.5%) items with no interactions.\n"
     ]
    },
    {
     "name": "stderr",
     "output_type": "stream",
     "text": [
      "100%|█████████▉| 22216/22222 [00:46<00:00, 476.35it/s]\n"
     ]
    },
    {
     "name": "stdout",
     "output_type": "stream",
     "text": [
      "EvaluatorHoldout: Processed 10057 (100.0%) in 5.53 sec. Users per second: 1819\n",
      "SLIMElasticNetRecommender: URM Detected 440 ( 3.5%) users with no interactions.\n",
      "SLIMElasticNetRecommender: URM Detected 325 ( 1.5%) items with no interactions.\n"
     ]
    },
    {
     "name": "stderr",
     "output_type": "stream",
     "text": [
      "100%|█████████▉| 22216/22222 [00:46<00:00, 475.42it/s]\n"
     ]
    },
    {
     "name": "stdout",
     "output_type": "stream",
     "text": [
      "EvaluatorHoldout: Processed 10040 (100.0%) in 5.31 sec. Users per second: 1892\n",
      "SLIMElasticNetRecommender: URM Detected 479 ( 3.8%) users with no interactions.\n",
      "SLIMElasticNetRecommender: URM Detected 345 ( 1.6%) items with no interactions.\n"
     ]
    },
    {
     "name": "stderr",
     "output_type": "stream",
     "text": [
      "100%|█████████▉| 22216/22222 [00:46<00:00, 477.98it/s]\n"
     ]
    },
    {
     "name": "stdout",
     "output_type": "stream",
     "text": [
      "EvaluatorHoldout: Processed 10017 (100.0%) in 5.07 sec. Users per second: 1977\n",
      "SLIMElasticNetRecommender: URM Detected 451 ( 3.6%) users with no interactions.\n",
      "SLIMElasticNetRecommender: URM Detected 311 ( 1.4%) items with no interactions.\n"
     ]
    },
    {
     "name": "stderr",
     "output_type": "stream",
     "text": [
      "100%|█████████▉| 22216/22222 [00:46<00:00, 482.82it/s]\n"
     ]
    },
    {
     "name": "stdout",
     "output_type": "stream",
     "text": [
      "EvaluatorHoldout: Processed 10037 (100.0%) in 5.26 sec. Users per second: 1907\n",
      "SLIMElasticNetRecommender: URM Detected 449 ( 3.6%) users with no interactions.\n",
      "SLIMElasticNetRecommender: URM Detected 320 ( 1.4%) items with no interactions.\n"
     ]
    },
    {
     "name": "stderr",
     "output_type": "stream",
     "text": [
      "100%|█████████▉| 22216/22222 [00:46<00:00, 474.01it/s]\n"
     ]
    },
    {
     "name": "stdout",
     "output_type": "stream",
     "text": [
      "EvaluatorHoldout: Processed 9989 (100.0%) in 4.76 sec. Users per second: 2098\n",
      "SLIMElasticNetRecommender: URM Detected 460 ( 3.6%) users with no interactions.\n",
      "SLIMElasticNetRecommender: URM Detected 328 ( 1.5%) items with no interactions.\n"
     ]
    },
    {
     "name": "stderr",
     "output_type": "stream",
     "text": [
      "100%|█████████▉| 22216/22222 [00:43<00:00, 515.41it/s]\n"
     ]
    },
    {
     "name": "stdout",
     "output_type": "stream",
     "text": [
      "EvaluatorHoldout: Processed 10024 (100.0%) in 3.72 sec. Users per second: 2693\n",
      "SLIMElasticNetRecommender: URM Detected 426 ( 3.4%) users with no interactions.\n",
      "SLIMElasticNetRecommender: URM Detected 344 ( 1.5%) items with no interactions.\n"
     ]
    },
    {
     "name": "stderr",
     "output_type": "stream",
     "text": [
      "100%|█████████▉| 22216/22222 [00:45<00:00, 492.54it/s]\n"
     ]
    },
    {
     "name": "stdout",
     "output_type": "stream",
     "text": [
      "EvaluatorHoldout: Processed 10030 (100.0%) in 5.21 sec. Users per second: 1926\n",
      "SLIMElasticNetRecommender: URM Detected 471 ( 3.7%) users with no interactions.\n",
      "SLIMElasticNetRecommender: URM Detected 362 ( 1.6%) items with no interactions.\n"
     ]
    },
    {
     "name": "stderr",
     "output_type": "stream",
     "text": [
      "100%|█████████▉| 22216/22222 [00:47<00:00, 470.67it/s]\n"
     ]
    },
    {
     "name": "stdout",
     "output_type": "stream",
     "text": [
      "EvaluatorHoldout: Processed 10052 (100.0%) in 5.19 sec. Users per second: 1936\n",
      "SLIMElasticNetRecommender: URM Detected 478 ( 3.8%) users with no interactions.\n",
      "SLIMElasticNetRecommender: URM Detected 329 ( 1.5%) items with no interactions.\n"
     ]
    },
    {
     "name": "stderr",
     "output_type": "stream",
     "text": [
      "100%|█████████▉| 22216/22222 [00:45<00:00, 490.57it/s]\n"
     ]
    },
    {
     "name": "stdout",
     "output_type": "stream",
     "text": [
      "EvaluatorHoldout: Processed 10045 (100.0%) in 5.21 sec. Users per second: 1930\n",
      "SLIMElasticNetRecommender: URM Detected 460 ( 3.6%) users with no interactions.\n",
      "SLIMElasticNetRecommender: URM Detected 348 ( 1.6%) items with no interactions.\n"
     ]
    },
    {
     "name": "stderr",
     "output_type": "stream",
     "text": [
      "100%|█████████▉| 22216/22222 [00:45<00:00, 489.73it/s]\n"
     ]
    },
    {
     "name": "stdout",
     "output_type": "stream",
     "text": [
      "EvaluatorHoldout: Processed 10068 (100.0%) in 5.64 sec. Users per second: 1785\n"
     ]
    },
    {
     "name": "stderr",
     "output_type": "stream",
     "text": [
      "[I 2024-01-10 04:28:57,745] Trial 119 finished with value: 0.02985258446167361 and parameters: {'alpha': 0.001047793543563482, 'l1_ratio': 0.11560786726726693, 'topK': 8470}. Best is trial 117 with value: 0.029856664840031626.\n"
     ]
    },
    {
     "name": "stdout",
     "output_type": "stream",
     "text": [
      "SLIMElasticNetRecommender: URM Detected 508 ( 4.0%) users with no interactions.\n",
      "SLIMElasticNetRecommender: URM Detected 332 ( 1.5%) items with no interactions.\n"
     ]
    },
    {
     "name": "stderr",
     "output_type": "stream",
     "text": [
      "100%|█████████▉| 22216/22222 [00:47<00:00, 470.01it/s]\n"
     ]
    },
    {
     "name": "stdout",
     "output_type": "stream",
     "text": [
      "EvaluatorHoldout: Processed 10057 (100.0%) in 5.02 sec. Users per second: 2002\n",
      "SLIMElasticNetRecommender: URM Detected 440 ( 3.5%) users with no interactions.\n",
      "SLIMElasticNetRecommender: URM Detected 325 ( 1.5%) items with no interactions.\n"
     ]
    },
    {
     "name": "stderr",
     "output_type": "stream",
     "text": [
      "100%|█████████▉| 22216/22222 [00:45<00:00, 484.73it/s]\n"
     ]
    },
    {
     "name": "stdout",
     "output_type": "stream",
     "text": [
      "EvaluatorHoldout: Processed 10040 (100.0%) in 5.00 sec. Users per second: 2006\n",
      "SLIMElasticNetRecommender: URM Detected 479 ( 3.8%) users with no interactions.\n",
      "SLIMElasticNetRecommender: URM Detected 345 ( 1.6%) items with no interactions.\n"
     ]
    },
    {
     "name": "stderr",
     "output_type": "stream",
     "text": [
      "100%|█████████▉| 22216/22222 [00:46<00:00, 475.95it/s]\n"
     ]
    },
    {
     "name": "stdout",
     "output_type": "stream",
     "text": [
      "EvaluatorHoldout: Processed 10017 (100.0%) in 5.05 sec. Users per second: 1985\n",
      "SLIMElasticNetRecommender: URM Detected 451 ( 3.6%) users with no interactions.\n",
      "SLIMElasticNetRecommender: URM Detected 311 ( 1.4%) items with no interactions.\n"
     ]
    },
    {
     "name": "stderr",
     "output_type": "stream",
     "text": [
      "100%|█████████▉| 22216/22222 [00:43<00:00, 515.03it/s]\n"
     ]
    },
    {
     "name": "stdout",
     "output_type": "stream",
     "text": [
      "EvaluatorHoldout: Processed 10037 (100.0%) in 5.40 sec. Users per second: 1858\n",
      "SLIMElasticNetRecommender: URM Detected 449 ( 3.6%) users with no interactions.\n",
      "SLIMElasticNetRecommender: URM Detected 320 ( 1.4%) items with no interactions.\n"
     ]
    },
    {
     "name": "stderr",
     "output_type": "stream",
     "text": [
      "100%|█████████▉| 22216/22222 [00:46<00:00, 474.74it/s]\n"
     ]
    },
    {
     "name": "stdout",
     "output_type": "stream",
     "text": [
      "EvaluatorHoldout: Processed 9989 (100.0%) in 5.64 sec. Users per second: 1771\n",
      "SLIMElasticNetRecommender: URM Detected 460 ( 3.6%) users with no interactions.\n",
      "SLIMElasticNetRecommender: URM Detected 328 ( 1.5%) items with no interactions.\n"
     ]
    },
    {
     "name": "stderr",
     "output_type": "stream",
     "text": [
      "100%|█████████▉| 22216/22222 [00:44<00:00, 503.44it/s]\n"
     ]
    },
    {
     "name": "stdout",
     "output_type": "stream",
     "text": [
      "EvaluatorHoldout: Processed 10024 (100.0%) in 5.08 sec. Users per second: 1972\n",
      "SLIMElasticNetRecommender: URM Detected 426 ( 3.4%) users with no interactions.\n",
      "SLIMElasticNetRecommender: URM Detected 344 ( 1.5%) items with no interactions.\n"
     ]
    },
    {
     "name": "stderr",
     "output_type": "stream",
     "text": [
      "100%|█████████▉| 22216/22222 [00:47<00:00, 469.74it/s]\n"
     ]
    },
    {
     "name": "stdout",
     "output_type": "stream",
     "text": [
      "EvaluatorHoldout: Processed 10030 (100.0%) in 3.90 sec. Users per second: 2570\n",
      "SLIMElasticNetRecommender: URM Detected 471 ( 3.7%) users with no interactions.\n",
      "SLIMElasticNetRecommender: URM Detected 362 ( 1.6%) items with no interactions.\n"
     ]
    },
    {
     "name": "stderr",
     "output_type": "stream",
     "text": [
      "100%|█████████▉| 22216/22222 [00:41<00:00, 532.70it/s]\n"
     ]
    },
    {
     "name": "stdout",
     "output_type": "stream",
     "text": [
      "EvaluatorHoldout: Processed 10052 (100.0%) in 4.70 sec. Users per second: 2138\n",
      "SLIMElasticNetRecommender: URM Detected 478 ( 3.8%) users with no interactions.\n",
      "SLIMElasticNetRecommender: URM Detected 329 ( 1.5%) items with no interactions.\n"
     ]
    },
    {
     "name": "stderr",
     "output_type": "stream",
     "text": [
      "100%|█████████▉| 22216/22222 [00:44<00:00, 504.28it/s]\n"
     ]
    },
    {
     "name": "stdout",
     "output_type": "stream",
     "text": [
      "EvaluatorHoldout: Processed 10045 (100.0%) in 5.02 sec. Users per second: 2001\n",
      "SLIMElasticNetRecommender: URM Detected 460 ( 3.6%) users with no interactions.\n",
      "SLIMElasticNetRecommender: URM Detected 348 ( 1.6%) items with no interactions.\n"
     ]
    },
    {
     "name": "stderr",
     "output_type": "stream",
     "text": [
      "100%|█████████▉| 22216/22222 [00:42<00:00, 518.00it/s]\n"
     ]
    },
    {
     "name": "stdout",
     "output_type": "stream",
     "text": [
      "EvaluatorHoldout: Processed 10068 (100.0%) in 4.86 sec. Users per second: 2071\n"
     ]
    },
    {
     "name": "stderr",
     "output_type": "stream",
     "text": [
      "[I 2024-01-10 04:37:32,022] Trial 120 finished with value: 0.029850361194183255 and parameters: {'alpha': 0.001059606667760761, 'l1_ratio': 0.11515890816236651, 'topK': 8582}. Best is trial 117 with value: 0.029856664840031626.\n"
     ]
    },
    {
     "name": "stdout",
     "output_type": "stream",
     "text": [
      "SLIMElasticNetRecommender: URM Detected 508 ( 4.0%) users with no interactions.\n",
      "SLIMElasticNetRecommender: URM Detected 332 ( 1.5%) items with no interactions.\n"
     ]
    },
    {
     "name": "stderr",
     "output_type": "stream",
     "text": [
      "100%|█████████▉| 22216/22222 [00:46<00:00, 482.75it/s]\n"
     ]
    },
    {
     "name": "stdout",
     "output_type": "stream",
     "text": [
      "EvaluatorHoldout: Processed 10057 (100.0%) in 5.30 sec. Users per second: 1898\n",
      "SLIMElasticNetRecommender: URM Detected 440 ( 3.5%) users with no interactions.\n",
      "SLIMElasticNetRecommender: URM Detected 325 ( 1.5%) items with no interactions.\n"
     ]
    },
    {
     "name": "stderr",
     "output_type": "stream",
     "text": [
      "100%|█████████▉| 22216/22222 [00:45<00:00, 487.66it/s]\n"
     ]
    },
    {
     "name": "stdout",
     "output_type": "stream",
     "text": [
      "EvaluatorHoldout: Processed 10040 (100.0%) in 4.99 sec. Users per second: 2011\n",
      "SLIMElasticNetRecommender: URM Detected 479 ( 3.8%) users with no interactions.\n",
      "SLIMElasticNetRecommender: URM Detected 345 ( 1.6%) items with no interactions.\n"
     ]
    },
    {
     "name": "stderr",
     "output_type": "stream",
     "text": [
      "100%|█████████▉| 22216/22222 [00:45<00:00, 492.72it/s]\n"
     ]
    },
    {
     "name": "stdout",
     "output_type": "stream",
     "text": [
      "EvaluatorHoldout: Processed 10017 (100.0%) in 4.86 sec. Users per second: 2060\n",
      "SLIMElasticNetRecommender: URM Detected 451 ( 3.6%) users with no interactions.\n",
      "SLIMElasticNetRecommender: URM Detected 311 ( 1.4%) items with no interactions.\n"
     ]
    },
    {
     "name": "stderr",
     "output_type": "stream",
     "text": [
      "100%|█████████▉| 22216/22222 [00:46<00:00, 482.51it/s]\n"
     ]
    },
    {
     "name": "stdout",
     "output_type": "stream",
     "text": [
      "EvaluatorHoldout: Processed 10037 (100.0%) in 5.63 sec. Users per second: 1784\n",
      "SLIMElasticNetRecommender: URM Detected 449 ( 3.6%) users with no interactions.\n",
      "SLIMElasticNetRecommender: URM Detected 320 ( 1.4%) items with no interactions.\n"
     ]
    },
    {
     "name": "stderr",
     "output_type": "stream",
     "text": [
      "100%|█████████▉| 22216/22222 [00:39<00:00, 560.83it/s]\n"
     ]
    },
    {
     "name": "stdout",
     "output_type": "stream",
     "text": [
      "EvaluatorHoldout: Processed 9989 (100.0%) in 6.19 sec. Users per second: 1614\n",
      "SLIMElasticNetRecommender: URM Detected 460 ( 3.6%) users with no interactions.\n",
      "SLIMElasticNetRecommender: URM Detected 328 ( 1.5%) items with no interactions.\n"
     ]
    },
    {
     "name": "stderr",
     "output_type": "stream",
     "text": [
      "100%|█████████▉| 22216/22222 [00:48<00:00, 458.87it/s]\n"
     ]
    },
    {
     "name": "stdout",
     "output_type": "stream",
     "text": [
      "EvaluatorHoldout: Processed 10024 (100.0%) in 5.12 sec. Users per second: 1959\n",
      "SLIMElasticNetRecommender: URM Detected 426 ( 3.4%) users with no interactions.\n",
      "SLIMElasticNetRecommender: URM Detected 344 ( 1.5%) items with no interactions.\n"
     ]
    },
    {
     "name": "stderr",
     "output_type": "stream",
     "text": [
      "100%|█████████▉| 22216/22222 [00:47<00:00, 468.01it/s]\n"
     ]
    },
    {
     "name": "stdout",
     "output_type": "stream",
     "text": [
      "EvaluatorHoldout: Processed 10030 (100.0%) in 4.34 sec. Users per second: 2312\n",
      "SLIMElasticNetRecommender: URM Detected 471 ( 3.7%) users with no interactions.\n",
      "SLIMElasticNetRecommender: URM Detected 362 ( 1.6%) items with no interactions.\n"
     ]
    },
    {
     "name": "stderr",
     "output_type": "stream",
     "text": [
      "100%|█████████▉| 22216/22222 [00:50<00:00, 440.08it/s]\n"
     ]
    },
    {
     "name": "stdout",
     "output_type": "stream",
     "text": [
      "EvaluatorHoldout: Processed 10052 (100.0%) in 4.87 sec. Users per second: 2064\n",
      "SLIMElasticNetRecommender: URM Detected 478 ( 3.8%) users with no interactions.\n",
      "SLIMElasticNetRecommender: URM Detected 329 ( 1.5%) items with no interactions.\n"
     ]
    },
    {
     "name": "stderr",
     "output_type": "stream",
     "text": [
      "100%|█████████▉| 22216/22222 [00:46<00:00, 479.17it/s]\n"
     ]
    },
    {
     "name": "stdout",
     "output_type": "stream",
     "text": [
      "EvaluatorHoldout: Processed 10045 (100.0%) in 5.64 sec. Users per second: 1780\n",
      "SLIMElasticNetRecommender: URM Detected 460 ( 3.6%) users with no interactions.\n",
      "SLIMElasticNetRecommender: URM Detected 348 ( 1.6%) items with no interactions.\n"
     ]
    },
    {
     "name": "stderr",
     "output_type": "stream",
     "text": [
      "100%|█████████▉| 22216/22222 [00:42<00:00, 525.60it/s]\n"
     ]
    },
    {
     "name": "stdout",
     "output_type": "stream",
     "text": [
      "EvaluatorHoldout: Processed 10068 (100.0%) in 5.27 sec. Users per second: 1910\n"
     ]
    },
    {
     "name": "stderr",
     "output_type": "stream",
     "text": [
      "[I 2024-01-10 04:46:15,423] Trial 122 finished with value: 0.029810953864539285 and parameters: {'alpha': 0.0013315450094626112, 'l1_ratio': 0.06397356611021408, 'topK': 8514}. Best is trial 117 with value: 0.029856664840031626.\n"
     ]
    },
    {
     "name": "stdout",
     "output_type": "stream",
     "text": [
      "SLIMElasticNetRecommender: URM Detected 508 ( 4.0%) users with no interactions.\n",
      "SLIMElasticNetRecommender: URM Detected 332 ( 1.5%) items with no interactions.\n"
     ]
    },
    {
     "name": "stderr",
     "output_type": "stream",
     "text": [
      "100%|█████████▉| 22216/22222 [00:49<00:00, 446.86it/s]\n"
     ]
    },
    {
     "name": "stdout",
     "output_type": "stream",
     "text": [
      "EvaluatorHoldout: Processed 10057 (100.0%) in 4.78 sec. Users per second: 2102\n",
      "SLIMElasticNetRecommender: URM Detected 440 ( 3.5%) users with no interactions.\n",
      "SLIMElasticNetRecommender: URM Detected 325 ( 1.5%) items with no interactions.\n"
     ]
    },
    {
     "name": "stderr",
     "output_type": "stream",
     "text": [
      "100%|█████████▉| 22216/22222 [00:48<00:00, 454.24it/s]\n"
     ]
    },
    {
     "name": "stdout",
     "output_type": "stream",
     "text": [
      "EvaluatorHoldout: Processed 10040 (100.0%) in 5.87 sec. Users per second: 1711\n",
      "SLIMElasticNetRecommender: URM Detected 479 ( 3.8%) users with no interactions.\n",
      "SLIMElasticNetRecommender: URM Detected 345 ( 1.6%) items with no interactions.\n"
     ]
    },
    {
     "name": "stderr",
     "output_type": "stream",
     "text": [
      "100%|█████████▉| 22216/22222 [00:54<00:00, 404.34it/s]\n"
     ]
    },
    {
     "name": "stdout",
     "output_type": "stream",
     "text": [
      "EvaluatorHoldout: Processed 10017 (100.0%) in 5.53 sec. Users per second: 1811\n",
      "SLIMElasticNetRecommender: URM Detected 451 ( 3.6%) users with no interactions.\n",
      "SLIMElasticNetRecommender: URM Detected 311 ( 1.4%) items with no interactions.\n"
     ]
    },
    {
     "name": "stderr",
     "output_type": "stream",
     "text": [
      "100%|█████████▉| 22216/22222 [00:51<00:00, 432.91it/s]\n"
     ]
    },
    {
     "name": "stdout",
     "output_type": "stream",
     "text": [
      "EvaluatorHoldout: Processed 10037 (100.0%) in 6.05 sec. Users per second: 1659\n",
      "SLIMElasticNetRecommender: URM Detected 449 ( 3.6%) users with no interactions.\n",
      "SLIMElasticNetRecommender: URM Detected 320 ( 1.4%) items with no interactions.\n"
     ]
    },
    {
     "name": "stderr",
     "output_type": "stream",
     "text": [
      "100%|█████████▉| 22216/22222 [00:53<00:00, 416.06it/s]\n"
     ]
    },
    {
     "name": "stdout",
     "output_type": "stream",
     "text": [
      "EvaluatorHoldout: Processed 9989 (100.0%) in 5.86 sec. Users per second: 1704\n",
      "SLIMElasticNetRecommender: URM Detected 460 ( 3.6%) users with no interactions.\n",
      "SLIMElasticNetRecommender: URM Detected 328 ( 1.5%) items with no interactions.\n"
     ]
    },
    {
     "name": "stderr",
     "output_type": "stream",
     "text": [
      "100%|█████████▉| 22216/22222 [00:48<00:00, 461.87it/s]\n"
     ]
    },
    {
     "name": "stdout",
     "output_type": "stream",
     "text": [
      "EvaluatorHoldout: Processed 10024 (100.0%) in 5.56 sec. Users per second: 1804\n",
      "SLIMElasticNetRecommender: URM Detected 426 ( 3.4%) users with no interactions.\n",
      "SLIMElasticNetRecommender: URM Detected 344 ( 1.5%) items with no interactions.\n"
     ]
    },
    {
     "name": "stderr",
     "output_type": "stream",
     "text": [
      "100%|█████████▉| 22216/22222 [00:50<00:00, 443.44it/s]\n"
     ]
    },
    {
     "name": "stdout",
     "output_type": "stream",
     "text": [
      "EvaluatorHoldout: Processed 10030 (100.0%) in 5.82 sec. Users per second: 1724\n",
      "SLIMElasticNetRecommender: URM Detected 471 ( 3.7%) users with no interactions.\n",
      "SLIMElasticNetRecommender: URM Detected 362 ( 1.6%) items with no interactions.\n"
     ]
    },
    {
     "name": "stderr",
     "output_type": "stream",
     "text": [
      "100%|█████████▉| 22216/22222 [00:48<00:00, 456.29it/s]\n"
     ]
    },
    {
     "name": "stdout",
     "output_type": "stream",
     "text": [
      "EvaluatorHoldout: Processed 10052 (100.0%) in 5.26 sec. Users per second: 1912\n",
      "SLIMElasticNetRecommender: URM Detected 478 ( 3.8%) users with no interactions.\n",
      "SLIMElasticNetRecommender: URM Detected 329 ( 1.5%) items with no interactions.\n"
     ]
    },
    {
     "name": "stderr",
     "output_type": "stream",
     "text": [
      "100%|█████████▉| 22216/22222 [00:48<00:00, 462.69it/s]\n"
     ]
    },
    {
     "name": "stdout",
     "output_type": "stream",
     "text": [
      "EvaluatorHoldout: Processed 10045 (100.0%) in 5.02 sec. Users per second: 2000\n",
      "SLIMElasticNetRecommender: URM Detected 460 ( 3.6%) users with no interactions.\n",
      "SLIMElasticNetRecommender: URM Detected 348 ( 1.6%) items with no interactions.\n"
     ]
    },
    {
     "name": "stderr",
     "output_type": "stream",
     "text": [
      "100%|█████████▉| 22216/22222 [00:47<00:00, 468.89it/s]\n"
     ]
    },
    {
     "name": "stdout",
     "output_type": "stream",
     "text": [
      "EvaluatorHoldout: Processed 10068 (100.0%) in 5.36 sec. Users per second: 1878\n"
     ]
    },
    {
     "name": "stderr",
     "output_type": "stream",
     "text": [
      "[I 2024-01-10 04:55:44,959] Trial 124 finished with value: 0.02978547261822003 and parameters: {'alpha': 0.0010757056520319217, 'l1_ratio': 0.07608355314758176, 'topK': 8484}. Best is trial 117 with value: 0.029856664840031626.\n"
     ]
    },
    {
     "name": "stdout",
     "output_type": "stream",
     "text": [
      "SLIMElasticNetRecommender: URM Detected 508 ( 4.0%) users with no interactions.\n",
      "SLIMElasticNetRecommender: URM Detected 332 ( 1.5%) items with no interactions.\n"
     ]
    },
    {
     "name": "stderr",
     "output_type": "stream",
     "text": [
      "100%|█████████▉| 22216/22222 [01:06<00:00, 332.60it/s]\n"
     ]
    },
    {
     "name": "stdout",
     "output_type": "stream",
     "text": [
      "EvaluatorHoldout: Processed 10057 (100.0%) in 4.00 sec. Users per second: 2516\n",
      "SLIMElasticNetRecommender: URM Detected 440 ( 3.5%) users with no interactions.\n",
      "SLIMElasticNetRecommender: URM Detected 325 ( 1.5%) items with no interactions.\n"
     ]
    },
    {
     "name": "stderr",
     "output_type": "stream",
     "text": [
      "100%|█████████▉| 22216/22222 [01:03<00:00, 352.24it/s]\n"
     ]
    },
    {
     "name": "stdout",
     "output_type": "stream",
     "text": [
      "EvaluatorHoldout: Processed 10040 (100.0%) in 5.24 sec. Users per second: 1915\n",
      "SLIMElasticNetRecommender: URM Detected 479 ( 3.8%) users with no interactions.\n",
      "SLIMElasticNetRecommender: URM Detected 345 ( 1.6%) items with no interactions.\n"
     ]
    },
    {
     "name": "stderr",
     "output_type": "stream",
     "text": [
      "100%|█████████▉| 22216/22222 [01:06<00:00, 331.84it/s]\n"
     ]
    },
    {
     "name": "stdout",
     "output_type": "stream",
     "text": [
      "EvaluatorHoldout: Processed 10017 (100.0%) in 4.68 sec. Users per second: 2139\n",
      "SLIMElasticNetRecommender: URM Detected 451 ( 3.6%) users with no interactions.\n",
      "SLIMElasticNetRecommender: URM Detected 311 ( 1.4%) items with no interactions.\n"
     ]
    },
    {
     "name": "stderr",
     "output_type": "stream",
     "text": [
      "100%|█████████▉| 22216/22222 [01:04<00:00, 342.25it/s]\n"
     ]
    },
    {
     "name": "stdout",
     "output_type": "stream",
     "text": [
      "EvaluatorHoldout: Processed 10037 (100.0%) in 6.51 sec. Users per second: 1543\n",
      "SLIMElasticNetRecommender: URM Detected 449 ( 3.6%) users with no interactions.\n",
      "SLIMElasticNetRecommender: URM Detected 320 ( 1.4%) items with no interactions.\n"
     ]
    },
    {
     "name": "stderr",
     "output_type": "stream",
     "text": [
      "100%|█████████▉| 22216/22222 [01:03<00:00, 348.51it/s]\n"
     ]
    },
    {
     "name": "stdout",
     "output_type": "stream",
     "text": [
      "EvaluatorHoldout: Processed 9989 (100.0%) in 5.56 sec. Users per second: 1796\n",
      "SLIMElasticNetRecommender: URM Detected 460 ( 3.6%) users with no interactions.\n",
      "SLIMElasticNetRecommender: URM Detected 328 ( 1.5%) items with no interactions.\n"
     ]
    },
    {
     "name": "stderr",
     "output_type": "stream",
     "text": [
      "100%|█████████▉| 22216/22222 [00:59<00:00, 375.88it/s]\n"
     ]
    },
    {
     "name": "stdout",
     "output_type": "stream",
     "text": [
      "EvaluatorHoldout: Processed 10024 (100.0%) in 5.75 sec. Users per second: 1743\n",
      "SLIMElasticNetRecommender: URM Detected 426 ( 3.4%) users with no interactions.\n",
      "SLIMElasticNetRecommender: URM Detected 344 ( 1.5%) items with no interactions.\n"
     ]
    },
    {
     "name": "stderr",
     "output_type": "stream",
     "text": [
      "100%|█████████▉| 22216/22222 [01:06<00:00, 335.52it/s]\n"
     ]
    },
    {
     "name": "stdout",
     "output_type": "stream",
     "text": [
      "EvaluatorHoldout: Processed 10030 (100.0%) in 4.66 sec. Users per second: 2154\n",
      "SLIMElasticNetRecommender: URM Detected 471 ( 3.7%) users with no interactions.\n",
      "SLIMElasticNetRecommender: URM Detected 362 ( 1.6%) items with no interactions.\n"
     ]
    },
    {
     "name": "stderr",
     "output_type": "stream",
     "text": [
      "100%|█████████▉| 22216/22222 [01:06<00:00, 334.17it/s]\n"
     ]
    },
    {
     "name": "stdout",
     "output_type": "stream",
     "text": [
      "EvaluatorHoldout: Processed 10052 (100.0%) in 6.45 sec. Users per second: 1559\n",
      "SLIMElasticNetRecommender: URM Detected 478 ( 3.8%) users with no interactions.\n",
      "SLIMElasticNetRecommender: URM Detected 329 ( 1.5%) items with no interactions.\n"
     ]
    },
    {
     "name": "stderr",
     "output_type": "stream",
     "text": [
      "100%|█████████▉| 22216/22222 [01:04<00:00, 345.59it/s]\n"
     ]
    },
    {
     "name": "stdout",
     "output_type": "stream",
     "text": [
      "EvaluatorHoldout: Processed 10045 (100.0%) in 5.08 sec. Users per second: 1979\n",
      "SLIMElasticNetRecommender: URM Detected 460 ( 3.6%) users with no interactions.\n",
      "SLIMElasticNetRecommender: URM Detected 348 ( 1.6%) items with no interactions.\n"
     ]
    },
    {
     "name": "stderr",
     "output_type": "stream",
     "text": [
      "100%|█████████▉| 22216/22222 [01:01<00:00, 360.60it/s]\n"
     ]
    },
    {
     "name": "stdout",
     "output_type": "stream",
     "text": [
      "EvaluatorHoldout: Processed 10068 (100.0%) in 4.37 sec. Users per second: 2306\n"
     ]
    },
    {
     "name": "stderr",
     "output_type": "stream",
     "text": [
      "[I 2024-01-10 05:07:34,923] Trial 126 finished with value: 0.02969910072403445 and parameters: {'alpha': 0.00128733731988669, 'l1_ratio': 0.04083660814505731, 'topK': 9741}. Best is trial 117 with value: 0.029856664840031626.\n"
     ]
    },
    {
     "name": "stdout",
     "output_type": "stream",
     "text": [
      "SLIMElasticNetRecommender: URM Detected 508 ( 4.0%) users with no interactions.\n",
      "SLIMElasticNetRecommender: URM Detected 332 ( 1.5%) items with no interactions.\n"
     ]
    },
    {
     "name": "stderr",
     "output_type": "stream",
     "text": [
      "100%|█████████▉| 22216/22222 [00:49<00:00, 451.39it/s]\n"
     ]
    },
    {
     "name": "stdout",
     "output_type": "stream",
     "text": [
      "EvaluatorHoldout: Processed 10057 (100.0%) in 4.89 sec. Users per second: 2056\n",
      "SLIMElasticNetRecommender: URM Detected 440 ( 3.5%) users with no interactions.\n",
      "SLIMElasticNetRecommender: URM Detected 325 ( 1.5%) items with no interactions.\n"
     ]
    },
    {
     "name": "stderr",
     "output_type": "stream",
     "text": [
      "100%|█████████▉| 22216/22222 [00:48<00:00, 455.39it/s]\n"
     ]
    },
    {
     "name": "stdout",
     "output_type": "stream",
     "text": [
      "EvaluatorHoldout: Processed 10040 (100.0%) in 5.16 sec. Users per second: 1946\n",
      "SLIMElasticNetRecommender: URM Detected 479 ( 3.8%) users with no interactions.\n",
      "SLIMElasticNetRecommender: URM Detected 345 ( 1.6%) items with no interactions.\n"
     ]
    },
    {
     "name": "stderr",
     "output_type": "stream",
     "text": [
      "100%|█████████▉| 22216/22222 [00:47<00:00, 465.03it/s]\n"
     ]
    },
    {
     "name": "stdout",
     "output_type": "stream",
     "text": [
      "EvaluatorHoldout: Processed 10017 (100.0%) in 3.92 sec. Users per second: 2553\n",
      "SLIMElasticNetRecommender: URM Detected 451 ( 3.6%) users with no interactions.\n",
      "SLIMElasticNetRecommender: URM Detected 311 ( 1.4%) items with no interactions.\n"
     ]
    },
    {
     "name": "stderr",
     "output_type": "stream",
     "text": [
      "100%|█████████▉| 22216/22222 [00:43<00:00, 510.41it/s]\n"
     ]
    },
    {
     "name": "stdout",
     "output_type": "stream",
     "text": [
      "EvaluatorHoldout: Processed 10037 (100.0%) in 4.51 sec. Users per second: 2226\n",
      "SLIMElasticNetRecommender: URM Detected 449 ( 3.6%) users with no interactions.\n",
      "SLIMElasticNetRecommender: URM Detected 320 ( 1.4%) items with no interactions.\n"
     ]
    },
    {
     "name": "stderr",
     "output_type": "stream",
     "text": [
      "100%|█████████▉| 22216/22222 [00:45<00:00, 484.59it/s]\n"
     ]
    },
    {
     "name": "stdout",
     "output_type": "stream",
     "text": [
      "EvaluatorHoldout: Processed 9989 (100.0%) in 5.33 sec. Users per second: 1874\n",
      "SLIMElasticNetRecommender: URM Detected 460 ( 3.6%) users with no interactions.\n",
      "SLIMElasticNetRecommender: URM Detected 328 ( 1.5%) items with no interactions.\n"
     ]
    },
    {
     "name": "stderr",
     "output_type": "stream",
     "text": [
      "100%|█████████▉| 22216/22222 [00:45<00:00, 484.67it/s]\n"
     ]
    },
    {
     "name": "stdout",
     "output_type": "stream",
     "text": [
      "EvaluatorHoldout: Processed 10024 (100.0%) in 4.51 sec. Users per second: 2222\n",
      "SLIMElasticNetRecommender: URM Detected 426 ( 3.4%) users with no interactions.\n",
      "SLIMElasticNetRecommender: URM Detected 344 ( 1.5%) items with no interactions.\n"
     ]
    },
    {
     "name": "stderr",
     "output_type": "stream",
     "text": [
      "100%|█████████▉| 22216/22222 [00:44<00:00, 496.67it/s]\n"
     ]
    },
    {
     "name": "stdout",
     "output_type": "stream",
     "text": [
      "EvaluatorHoldout: Processed 10030 (100.0%) in 4.84 sec. Users per second: 2072\n",
      "SLIMElasticNetRecommender: URM Detected 471 ( 3.7%) users with no interactions.\n",
      "SLIMElasticNetRecommender: URM Detected 362 ( 1.6%) items with no interactions.\n"
     ]
    },
    {
     "name": "stderr",
     "output_type": "stream",
     "text": [
      "100%|█████████▉| 22216/22222 [00:44<00:00, 494.95it/s]\n"
     ]
    },
    {
     "name": "stdout",
     "output_type": "stream",
     "text": [
      "EvaluatorHoldout: Processed 10052 (100.0%) in 4.69 sec. Users per second: 2141\n",
      "SLIMElasticNetRecommender: URM Detected 478 ( 3.8%) users with no interactions.\n",
      "SLIMElasticNetRecommender: URM Detected 329 ( 1.5%) items with no interactions.\n"
     ]
    },
    {
     "name": "stderr",
     "output_type": "stream",
     "text": [
      "100%|█████████▉| 22216/22222 [00:45<00:00, 493.12it/s]\n"
     ]
    },
    {
     "name": "stdout",
     "output_type": "stream",
     "text": [
      "EvaluatorHoldout: Processed 10045 (100.0%) in 5.21 sec. Users per second: 1930\n",
      "SLIMElasticNetRecommender: URM Detected 460 ( 3.6%) users with no interactions.\n",
      "SLIMElasticNetRecommender: URM Detected 348 ( 1.6%) items with no interactions.\n"
     ]
    },
    {
     "name": "stderr",
     "output_type": "stream",
     "text": [
      "100%|█████████▉| 22216/22222 [00:44<00:00, 498.59it/s]\n"
     ]
    },
    {
     "name": "stdout",
     "output_type": "stream",
     "text": [
      "EvaluatorHoldout: Processed 10068 (100.0%) in 4.06 sec. Users per second: 2483\n"
     ]
    },
    {
     "name": "stderr",
     "output_type": "stream",
     "text": [
      "[I 2024-01-10 05:16:15,704] Trial 129 finished with value: 0.029857465484101224 and parameters: {'alpha': 0.0010318988432401724, 'l1_ratio': 0.11924623884276588, 'topK': 8529}. Best is trial 129 with value: 0.029857465484101224.\n"
     ]
    },
    {
     "name": "stdout",
     "output_type": "stream",
     "text": [
      "SLIMElasticNetRecommender: URM Detected 508 ( 4.0%) users with no interactions.\n",
      "SLIMElasticNetRecommender: URM Detected 332 ( 1.5%) items with no interactions.\n"
     ]
    },
    {
     "name": "stderr",
     "output_type": "stream",
     "text": [
      "100%|█████████▉| 22216/22222 [00:34<00:00, 651.39it/s] \n"
     ]
    },
    {
     "name": "stdout",
     "output_type": "stream",
     "text": [
      "EvaluatorHoldout: Processed 10057 (100.0%) in 4.81 sec. Users per second: 2093\n",
      "SLIMElasticNetRecommender: URM Detected 440 ( 3.5%) users with no interactions.\n",
      "SLIMElasticNetRecommender: URM Detected 325 ( 1.5%) items with no interactions.\n"
     ]
    },
    {
     "name": "stderr",
     "output_type": "stream",
     "text": [
      "100%|█████████▉| 22216/22222 [00:32<00:00, 682.76it/s] \n"
     ]
    },
    {
     "name": "stdout",
     "output_type": "stream",
     "text": [
      "EvaluatorHoldout: Processed 10040 (100.0%) in 4.59 sec. Users per second: 2187\n",
      "SLIMElasticNetRecommender: URM Detected 479 ( 3.8%) users with no interactions.\n",
      "SLIMElasticNetRecommender: URM Detected 345 ( 1.6%) items with no interactions.\n"
     ]
    },
    {
     "name": "stderr",
     "output_type": "stream",
     "text": [
      "100%|█████████▉| 22216/22222 [00:32<00:00, 673.63it/s] \n"
     ]
    },
    {
     "name": "stdout",
     "output_type": "stream",
     "text": [
      "EvaluatorHoldout: Processed 10017 (100.0%) in 4.51 sec. Users per second: 2221\n",
      "SLIMElasticNetRecommender: URM Detected 451 ( 3.6%) users with no interactions.\n",
      "SLIMElasticNetRecommender: URM Detected 311 ( 1.4%) items with no interactions.\n"
     ]
    },
    {
     "name": "stderr",
     "output_type": "stream",
     "text": [
      "100%|█████████▉| 22216/22222 [00:31<00:00, 697.35it/s] \n"
     ]
    },
    {
     "name": "stdout",
     "output_type": "stream",
     "text": [
      "EvaluatorHoldout: Processed 10037 (100.0%) in 4.62 sec. Users per second: 2171\n",
      "SLIMElasticNetRecommender: URM Detected 449 ( 3.6%) users with no interactions.\n",
      "SLIMElasticNetRecommender: URM Detected 320 ( 1.4%) items with no interactions.\n"
     ]
    },
    {
     "name": "stderr",
     "output_type": "stream",
     "text": [
      "100%|█████████▉| 22216/22222 [00:31<00:00, 696.17it/s] \n"
     ]
    },
    {
     "name": "stdout",
     "output_type": "stream",
     "text": [
      "EvaluatorHoldout: Processed 9989 (100.0%) in 4.51 sec. Users per second: 2217\n",
      "SLIMElasticNetRecommender: URM Detected 460 ( 3.6%) users with no interactions.\n",
      "SLIMElasticNetRecommender: URM Detected 328 ( 1.5%) items with no interactions.\n"
     ]
    },
    {
     "name": "stderr",
     "output_type": "stream",
     "text": [
      "100%|█████████▉| 22216/22222 [00:33<00:00, 670.25it/s] \n"
     ]
    },
    {
     "name": "stdout",
     "output_type": "stream",
     "text": [
      "EvaluatorHoldout: Processed 10024 (100.0%) in 4.19 sec. Users per second: 2393\n",
      "SLIMElasticNetRecommender: URM Detected 426 ( 3.4%) users with no interactions.\n",
      "SLIMElasticNetRecommender: URM Detected 344 ( 1.5%) items with no interactions.\n"
     ]
    },
    {
     "name": "stderr",
     "output_type": "stream",
     "text": [
      "100%|█████████▉| 22216/22222 [00:32<00:00, 683.58it/s] \n"
     ]
    },
    {
     "name": "stdout",
     "output_type": "stream",
     "text": [
      "EvaluatorHoldout: Processed 10030 (100.0%) in 4.75 sec. Users per second: 2114\n",
      "SLIMElasticNetRecommender: URM Detected 471 ( 3.7%) users with no interactions.\n",
      "SLIMElasticNetRecommender: URM Detected 362 ( 1.6%) items with no interactions.\n"
     ]
    },
    {
     "name": "stderr",
     "output_type": "stream",
     "text": [
      "100%|█████████▉| 22216/22222 [00:32<00:00, 679.97it/s] \n"
     ]
    },
    {
     "name": "stdout",
     "output_type": "stream",
     "text": [
      "EvaluatorHoldout: Processed 10052 (100.0%) in 4.76 sec. Users per second: 2110\n",
      "SLIMElasticNetRecommender: URM Detected 478 ( 3.8%) users with no interactions.\n",
      "SLIMElasticNetRecommender: URM Detected 329 ( 1.5%) items with no interactions.\n"
     ]
    },
    {
     "name": "stderr",
     "output_type": "stream",
     "text": [
      "100%|█████████▉| 22216/22222 [00:31<00:00, 706.71it/s] \n"
     ]
    },
    {
     "name": "stdout",
     "output_type": "stream",
     "text": [
      "EvaluatorHoldout: Processed 10045 (100.0%) in 5.15 sec. Users per second: 1951\n",
      "SLIMElasticNetRecommender: URM Detected 460 ( 3.6%) users with no interactions.\n",
      "SLIMElasticNetRecommender: URM Detected 348 ( 1.6%) items with no interactions.\n"
     ]
    },
    {
     "name": "stderr",
     "output_type": "stream",
     "text": [
      "100%|█████████▉| 22216/22222 [00:31<00:00, 700.43it/s] \n"
     ]
    },
    {
     "name": "stdout",
     "output_type": "stream",
     "text": [
      "EvaluatorHoldout: Processed 10068 (100.0%) in 4.93 sec. Users per second: 2041\n"
     ]
    },
    {
     "name": "stderr",
     "output_type": "stream",
     "text": [
      "[I 2024-01-10 05:22:41,001] Trial 132 finished with value: 0.029583510400413387 and parameters: {'alpha': 0.0017571275701568252, 'l1_ratio': 0.0933598572269455, 'topK': 7792}. Best is trial 129 with value: 0.029857465484101224.\n"
     ]
    },
    {
     "name": "stdout",
     "output_type": "stream",
     "text": [
      "SLIMElasticNetRecommender: URM Detected 508 ( 4.0%) users with no interactions.\n",
      "SLIMElasticNetRecommender: URM Detected 332 ( 1.5%) items with no interactions.\n"
     ]
    },
    {
     "name": "stderr",
     "output_type": "stream",
     "text": [
      "100%|█████████▉| 22216/22222 [00:27<00:00, 800.87it/s] \n"
     ]
    },
    {
     "name": "stdout",
     "output_type": "stream",
     "text": [
      "EvaluatorHoldout: Processed 10057 (100.0%) in 5.30 sec. Users per second: 1899\n",
      "SLIMElasticNetRecommender: URM Detected 440 ( 3.5%) users with no interactions.\n",
      "SLIMElasticNetRecommender: URM Detected 325 ( 1.5%) items with no interactions.\n"
     ]
    },
    {
     "name": "stderr",
     "output_type": "stream",
     "text": [
      "100%|█████████▉| 22216/22222 [00:34<00:00, 635.50it/s] \n"
     ]
    },
    {
     "name": "stdout",
     "output_type": "stream",
     "text": [
      "EvaluatorHoldout: Processed 10040 (100.0%) in 4.22 sec. Users per second: 2377\n",
      "SLIMElasticNetRecommender: URM Detected 479 ( 3.8%) users with no interactions.\n",
      "SLIMElasticNetRecommender: URM Detected 345 ( 1.6%) items with no interactions.\n"
     ]
    },
    {
     "name": "stderr",
     "output_type": "stream",
     "text": [
      "100%|█████████▉| 22216/22222 [00:34<00:00, 636.80it/s]\n"
     ]
    },
    {
     "name": "stdout",
     "output_type": "stream",
     "text": [
      "EvaluatorHoldout: Processed 10017 (100.0%) in 4.83 sec. Users per second: 2075\n",
      "SLIMElasticNetRecommender: URM Detected 451 ( 3.6%) users with no interactions.\n",
      "SLIMElasticNetRecommender: URM Detected 311 ( 1.4%) items with no interactions.\n"
     ]
    },
    {
     "name": "stderr",
     "output_type": "stream",
     "text": [
      "100%|█████████▉| 22216/22222 [00:33<00:00, 672.26it/s] \n"
     ]
    },
    {
     "name": "stdout",
     "output_type": "stream",
     "text": [
      "EvaluatorHoldout: Processed 10037 (100.0%) in 5.20 sec. Users per second: 1931\n",
      "SLIMElasticNetRecommender: URM Detected 449 ( 3.6%) users with no interactions.\n",
      "SLIMElasticNetRecommender: URM Detected 320 ( 1.4%) items with no interactions.\n"
     ]
    },
    {
     "name": "stderr",
     "output_type": "stream",
     "text": [
      "100%|█████████▉| 22216/22222 [00:36<00:00, 611.32it/s] \n"
     ]
    },
    {
     "name": "stdout",
     "output_type": "stream",
     "text": [
      "EvaluatorHoldout: Processed 9989 (100.0%) in 4.02 sec. Users per second: 2483\n",
      "SLIMElasticNetRecommender: URM Detected 460 ( 3.6%) users with no interactions.\n",
      "SLIMElasticNetRecommender: URM Detected 328 ( 1.5%) items with no interactions.\n"
     ]
    },
    {
     "name": "stderr",
     "output_type": "stream",
     "text": [
      "100%|█████████▉| 22216/22222 [00:34<00:00, 641.12it/s]\n"
     ]
    },
    {
     "name": "stdout",
     "output_type": "stream",
     "text": [
      "EvaluatorHoldout: Processed 10024 (100.0%) in 4.66 sec. Users per second: 2151\n",
      "SLIMElasticNetRecommender: URM Detected 426 ( 3.4%) users with no interactions.\n",
      "SLIMElasticNetRecommender: URM Detected 344 ( 1.5%) items with no interactions.\n"
     ]
    },
    {
     "name": "stderr",
     "output_type": "stream",
     "text": [
      "100%|█████████▉| 22216/22222 [00:33<00:00, 660.39it/s] \n"
     ]
    },
    {
     "name": "stdout",
     "output_type": "stream",
     "text": [
      "EvaluatorHoldout: Processed 10030 (100.0%) in 4.85 sec. Users per second: 2067\n",
      "SLIMElasticNetRecommender: URM Detected 471 ( 3.7%) users with no interactions.\n",
      "SLIMElasticNetRecommender: URM Detected 362 ( 1.6%) items with no interactions.\n"
     ]
    },
    {
     "name": "stderr",
     "output_type": "stream",
     "text": [
      "100%|█████████▉| 22216/22222 [00:36<00:00, 610.67it/s] \n"
     ]
    },
    {
     "name": "stdout",
     "output_type": "stream",
     "text": [
      "EvaluatorHoldout: Processed 10052 (100.0%) in 3.75 sec. Users per second: 2678\n",
      "SLIMElasticNetRecommender: URM Detected 478 ( 3.8%) users with no interactions.\n",
      "SLIMElasticNetRecommender: URM Detected 329 ( 1.5%) items with no interactions.\n"
     ]
    },
    {
     "name": "stderr",
     "output_type": "stream",
     "text": [
      "100%|█████████▉| 22216/22222 [00:34<00:00, 635.42it/s]\n"
     ]
    },
    {
     "name": "stdout",
     "output_type": "stream",
     "text": [
      "EvaluatorHoldout: Processed 10045 (100.0%) in 4.74 sec. Users per second: 2121\n",
      "SLIMElasticNetRecommender: URM Detected 460 ( 3.6%) users with no interactions.\n",
      "SLIMElasticNetRecommender: URM Detected 348 ( 1.6%) items with no interactions.\n"
     ]
    },
    {
     "name": "stderr",
     "output_type": "stream",
     "text": [
      "100%|█████████▉| 22216/22222 [00:34<00:00, 638.62it/s]\n"
     ]
    },
    {
     "name": "stdout",
     "output_type": "stream",
     "text": [
      "EvaluatorHoldout: Processed 10068 (100.0%) in 4.11 sec. Users per second: 2452\n"
     ]
    },
    {
     "name": "stderr",
     "output_type": "stream",
     "text": [
      "[I 2024-01-10 05:29:21,622] Trial 133 finished with value: 0.02968328706760474 and parameters: {'alpha': 0.0013647754919279458, 'l1_ratio': 0.1219354368990823, 'topK': 8472}. Best is trial 129 with value: 0.029857465484101224.\n"
     ]
    },
    {
     "name": "stdout",
     "output_type": "stream",
     "text": [
      "SLIMElasticNetRecommender: URM Detected 508 ( 4.0%) users with no interactions.\n",
      "SLIMElasticNetRecommender: URM Detected 332 ( 1.5%) items with no interactions.\n"
     ]
    },
    {
     "name": "stderr",
     "output_type": "stream",
     "text": [
      "100%|█████████▉| 22216/22222 [00:40<00:00, 542.85it/s]\n"
     ]
    },
    {
     "name": "stdout",
     "output_type": "stream",
     "text": [
      "EvaluatorHoldout: Processed 10057 (100.0%) in 5.56 sec. Users per second: 1809\n",
      "SLIMElasticNetRecommender: URM Detected 440 ( 3.5%) users with no interactions.\n",
      "SLIMElasticNetRecommender: URM Detected 325 ( 1.5%) items with no interactions.\n"
     ]
    },
    {
     "name": "stderr",
     "output_type": "stream",
     "text": [
      "100%|█████████▉| 22216/22222 [00:40<00:00, 552.95it/s] \n"
     ]
    },
    {
     "name": "stdout",
     "output_type": "stream",
     "text": [
      "EvaluatorHoldout: Processed 10040 (100.0%) in 5.23 sec. Users per second: 1918\n",
      "SLIMElasticNetRecommender: URM Detected 479 ( 3.8%) users with no interactions.\n",
      "SLIMElasticNetRecommender: URM Detected 345 ( 1.6%) items with no interactions.\n"
     ]
    },
    {
     "name": "stderr",
     "output_type": "stream",
     "text": [
      "100%|█████████▉| 22216/22222 [00:42<00:00, 523.88it/s]\n"
     ]
    },
    {
     "name": "stdout",
     "output_type": "stream",
     "text": [
      "EvaluatorHoldout: Processed 10017 (100.0%) in 4.08 sec. Users per second: 2457\n",
      "SLIMElasticNetRecommender: URM Detected 451 ( 3.6%) users with no interactions.\n",
      "SLIMElasticNetRecommender: URM Detected 311 ( 1.4%) items with no interactions.\n"
     ]
    },
    {
     "name": "stderr",
     "output_type": "stream",
     "text": [
      "100%|█████████▉| 22216/22222 [00:44<00:00, 501.78it/s]\n"
     ]
    },
    {
     "name": "stdout",
     "output_type": "stream",
     "text": [
      "EvaluatorHoldout: Processed 10037 (100.0%) in 5.11 sec. Users per second: 1965\n",
      "SLIMElasticNetRecommender: URM Detected 449 ( 3.6%) users with no interactions.\n",
      "SLIMElasticNetRecommender: URM Detected 320 ( 1.4%) items with no interactions.\n"
     ]
    },
    {
     "name": "stderr",
     "output_type": "stream",
     "text": [
      "100%|█████████▉| 22216/22222 [00:34<00:00, 650.43it/s] \n"
     ]
    },
    {
     "name": "stdout",
     "output_type": "stream",
     "text": [
      "EvaluatorHoldout: Processed 9989 (100.0%) in 5.06 sec. Users per second: 1975\n",
      "SLIMElasticNetRecommender: URM Detected 460 ( 3.6%) users with no interactions.\n",
      "SLIMElasticNetRecommender: URM Detected 328 ( 1.5%) items with no interactions.\n"
     ]
    },
    {
     "name": "stderr",
     "output_type": "stream",
     "text": [
      "100%|█████████▉| 22216/22222 [00:40<00:00, 544.03it/s]\n"
     ]
    },
    {
     "name": "stdout",
     "output_type": "stream",
     "text": [
      "EvaluatorHoldout: Processed 10024 (100.0%) in 3.85 sec. Users per second: 2607\n",
      "SLIMElasticNetRecommender: URM Detected 426 ( 3.4%) users with no interactions.\n",
      "SLIMElasticNetRecommender: URM Detected 344 ( 1.5%) items with no interactions.\n"
     ]
    },
    {
     "name": "stderr",
     "output_type": "stream",
     "text": [
      "100%|█████████▉| 22216/22222 [00:41<00:00, 538.48it/s]\n"
     ]
    },
    {
     "name": "stdout",
     "output_type": "stream",
     "text": [
      "EvaluatorHoldout: Processed 10030 (100.0%) in 5.02 sec. Users per second: 1998\n",
      "SLIMElasticNetRecommender: URM Detected 471 ( 3.7%) users with no interactions.\n",
      "SLIMElasticNetRecommender: URM Detected 362 ( 1.6%) items with no interactions.\n"
     ]
    },
    {
     "name": "stderr",
     "output_type": "stream",
     "text": [
      "100%|█████████▉| 22216/22222 [00:41<00:00, 536.13it/s]\n"
     ]
    },
    {
     "name": "stdout",
     "output_type": "stream",
     "text": [
      "EvaluatorHoldout: Processed 10052 (100.0%) in 3.92 sec. Users per second: 2562\n",
      "SLIMElasticNetRecommender: URM Detected 478 ( 3.8%) users with no interactions.\n",
      "SLIMElasticNetRecommender: URM Detected 329 ( 1.5%) items with no interactions.\n"
     ]
    },
    {
     "name": "stderr",
     "output_type": "stream",
     "text": [
      "100%|█████████▉| 22216/22222 [00:39<00:00, 562.84it/s]\n"
     ]
    },
    {
     "name": "stdout",
     "output_type": "stream",
     "text": [
      "EvaluatorHoldout: Processed 10045 (100.0%) in 5.20 sec. Users per second: 1933\n",
      "SLIMElasticNetRecommender: URM Detected 460 ( 3.6%) users with no interactions.\n",
      "SLIMElasticNetRecommender: URM Detected 348 ( 1.6%) items with no interactions.\n"
     ]
    },
    {
     "name": "stderr",
     "output_type": "stream",
     "text": [
      "100%|█████████▉| 22216/22222 [00:40<00:00, 549.83it/s]\n"
     ]
    },
    {
     "name": "stdout",
     "output_type": "stream",
     "text": [
      "EvaluatorHoldout: Processed 10068 (100.0%) in 5.58 sec. Users per second: 1805\n"
     ]
    },
    {
     "name": "stderr",
     "output_type": "stream",
     "text": [
      "[I 2024-01-10 05:37:09,570] Trial 134 finished with value: 0.02966349526975474 and parameters: {'alpha': 0.0015003965032041365, 'l1_ratio': 0.10465448241753424, 'topK': 7961}. Best is trial 129 with value: 0.029857465484101224.\n"
     ]
    },
    {
     "name": "stdout",
     "output_type": "stream",
     "text": [
      "SLIMElasticNetRecommender: URM Detected 508 ( 4.0%) users with no interactions.\n",
      "SLIMElasticNetRecommender: URM Detected 332 ( 1.5%) items with no interactions.\n"
     ]
    },
    {
     "name": "stderr",
     "output_type": "stream",
     "text": [
      "100%|█████████▉| 22216/22222 [00:17<00:00, 1278.61it/s]\n"
     ]
    },
    {
     "name": "stdout",
     "output_type": "stream",
     "text": [
      "EvaluatorHoldout: Processed 10057 (100.0%) in 4.26 sec. Users per second: 2361\n",
      "SLIMElasticNetRecommender: URM Detected 440 ( 3.5%) users with no interactions.\n",
      "SLIMElasticNetRecommender: URM Detected 325 ( 1.5%) items with no interactions.\n"
     ]
    },
    {
     "name": "stderr",
     "output_type": "stream",
     "text": [
      "100%|█████████▉| 22216/22222 [00:18<00:00, 1175.50it/s]\n"
     ]
    },
    {
     "name": "stdout",
     "output_type": "stream",
     "text": [
      "EvaluatorHoldout: Processed 10040 (100.0%) in 3.57 sec. Users per second: 2813\n",
      "SLIMElasticNetRecommender: URM Detected 479 ( 3.8%) users with no interactions.\n",
      "SLIMElasticNetRecommender: URM Detected 345 ( 1.6%) items with no interactions.\n"
     ]
    },
    {
     "name": "stderr",
     "output_type": "stream",
     "text": [
      "100%|█████████▉| 22216/22222 [00:21<00:00, 1035.74it/s]\n"
     ]
    },
    {
     "name": "stdout",
     "output_type": "stream",
     "text": [
      "EvaluatorHoldout: Processed 10017 (100.0%) in 4.61 sec. Users per second: 2174\n",
      "SLIMElasticNetRecommender: URM Detected 451 ( 3.6%) users with no interactions.\n",
      "SLIMElasticNetRecommender: URM Detected 311 ( 1.4%) items with no interactions.\n"
     ]
    },
    {
     "name": "stderr",
     "output_type": "stream",
     "text": [
      "100%|█████████▉| 22216/22222 [00:20<00:00, 1085.49it/s]\n"
     ]
    },
    {
     "name": "stdout",
     "output_type": "stream",
     "text": [
      "EvaluatorHoldout: Processed 10037 (100.0%) in 3.75 sec. Users per second: 2673\n",
      "SLIMElasticNetRecommender: URM Detected 449 ( 3.6%) users with no interactions.\n",
      "SLIMElasticNetRecommender: URM Detected 320 ( 1.4%) items with no interactions.\n"
     ]
    },
    {
     "name": "stderr",
     "output_type": "stream",
     "text": [
      "100%|█████████▉| 22216/22222 [00:20<00:00, 1061.42it/s]\n"
     ]
    },
    {
     "name": "stdout",
     "output_type": "stream",
     "text": [
      "EvaluatorHoldout: Processed 9989 (100.0%) in 3.84 sec. Users per second: 2601\n",
      "SLIMElasticNetRecommender: URM Detected 460 ( 3.6%) users with no interactions.\n",
      "SLIMElasticNetRecommender: URM Detected 328 ( 1.5%) items with no interactions.\n"
     ]
    },
    {
     "name": "stderr",
     "output_type": "stream",
     "text": [
      "100%|█████████▉| 22216/22222 [00:22<00:00, 973.44it/s] \n"
     ]
    },
    {
     "name": "stdout",
     "output_type": "stream",
     "text": [
      "EvaluatorHoldout: Processed 10024 (100.0%) in 3.44 sec. Users per second: 2918\n",
      "SLIMElasticNetRecommender: URM Detected 426 ( 3.4%) users with no interactions.\n",
      "SLIMElasticNetRecommender: URM Detected 344 ( 1.5%) items with no interactions.\n"
     ]
    },
    {
     "name": "stderr",
     "output_type": "stream",
     "text": [
      "100%|█████████▉| 22216/22222 [00:21<00:00, 1055.22it/s]\n"
     ]
    },
    {
     "name": "stdout",
     "output_type": "stream",
     "text": [
      "EvaluatorHoldout: Processed 10030 (100.0%) in 3.41 sec. Users per second: 2938\n",
      "SLIMElasticNetRecommender: URM Detected 471 ( 3.7%) users with no interactions.\n",
      "SLIMElasticNetRecommender: URM Detected 362 ( 1.6%) items with no interactions.\n"
     ]
    },
    {
     "name": "stderr",
     "output_type": "stream",
     "text": [
      "100%|█████████▉| 22216/22222 [00:19<00:00, 1129.05it/s]\n"
     ]
    },
    {
     "name": "stdout",
     "output_type": "stream",
     "text": [
      "EvaluatorHoldout: Processed 10052 (100.0%) in 3.84 sec. Users per second: 2617\n",
      "SLIMElasticNetRecommender: URM Detected 478 ( 3.8%) users with no interactions.\n",
      "SLIMElasticNetRecommender: URM Detected 329 ( 1.5%) items with no interactions.\n"
     ]
    },
    {
     "name": "stderr",
     "output_type": "stream",
     "text": [
      "100%|█████████▉| 22216/22222 [00:18<00:00, 1183.84it/s]\n"
     ]
    },
    {
     "name": "stdout",
     "output_type": "stream",
     "text": [
      "EvaluatorHoldout: Processed 10045 (100.0%) in 3.25 sec. Users per second: 3089\n",
      "SLIMElasticNetRecommender: URM Detected 460 ( 3.6%) users with no interactions.\n",
      "SLIMElasticNetRecommender: URM Detected 348 ( 1.6%) items with no interactions.\n"
     ]
    },
    {
     "name": "stderr",
     "output_type": "stream",
     "text": [
      "100%|█████████▉| 22216/22222 [00:20<00:00, 1097.69it/s]\n"
     ]
    },
    {
     "name": "stdout",
     "output_type": "stream",
     "text": [
      "EvaluatorHoldout: Processed 10068 (100.0%) in 2.97 sec. Users per second: 3395\n"
     ]
    },
    {
     "name": "stderr",
     "output_type": "stream",
     "text": [
      "[I 2024-01-10 05:41:21,495] Trial 135 finished with value: 0.026296610208597616 and parameters: {'alpha': 0.005276280457868926, 'l1_ratio': 0.11883182775857547, 'topK': 8663}. Best is trial 129 with value: 0.029857465484101224.\n"
     ]
    },
    {
     "name": "stdout",
     "output_type": "stream",
     "text": [
      "SLIMElasticNetRecommender: URM Detected 508 ( 4.0%) users with no interactions.\n",
      "SLIMElasticNetRecommender: URM Detected 332 ( 1.5%) items with no interactions.\n"
     ]
    },
    {
     "name": "stderr",
     "output_type": "stream",
     "text": [
      "100%|█████████▉| 22216/22222 [01:10<00:00, 313.03it/s]\n"
     ]
    },
    {
     "name": "stdout",
     "output_type": "stream",
     "text": [
      "EvaluatorHoldout: Processed 10057 (100.0%) in 5.18 sec. Users per second: 1942\n",
      "SLIMElasticNetRecommender: URM Detected 440 ( 3.5%) users with no interactions.\n",
      "SLIMElasticNetRecommender: URM Detected 325 ( 1.5%) items with no interactions.\n"
     ]
    },
    {
     "name": "stderr",
     "output_type": "stream",
     "text": [
      "100%|█████████▉| 22216/22222 [01:11<00:00, 310.46it/s]\n"
     ]
    },
    {
     "name": "stdout",
     "output_type": "stream",
     "text": [
      "EvaluatorHoldout: Processed 10040 (100.0%) in 5.82 sec. Users per second: 1726\n",
      "SLIMElasticNetRecommender: URM Detected 479 ( 3.8%) users with no interactions.\n",
      "SLIMElasticNetRecommender: URM Detected 345 ( 1.6%) items with no interactions.\n"
     ]
    },
    {
     "name": "stderr",
     "output_type": "stream",
     "text": [
      "100%|█████████▉| 22216/22222 [01:09<00:00, 318.08it/s]\n"
     ]
    },
    {
     "name": "stdout",
     "output_type": "stream",
     "text": [
      "EvaluatorHoldout: Processed 10017 (100.0%) in 5.23 sec. Users per second: 1914\n",
      "SLIMElasticNetRecommender: URM Detected 451 ( 3.6%) users with no interactions.\n",
      "SLIMElasticNetRecommender: URM Detected 311 ( 1.4%) items with no interactions.\n"
     ]
    },
    {
     "name": "stderr",
     "output_type": "stream",
     "text": [
      "100%|█████████▉| 22216/22222 [01:13<00:00, 301.08it/s]\n"
     ]
    },
    {
     "name": "stdout",
     "output_type": "stream",
     "text": [
      "EvaluatorHoldout: Processed 10037 (100.0%) in 5.78 sec. Users per second: 1735\n",
      "SLIMElasticNetRecommender: URM Detected 449 ( 3.6%) users with no interactions.\n",
      "SLIMElasticNetRecommender: URM Detected 320 ( 1.4%) items with no interactions.\n"
     ]
    },
    {
     "name": "stderr",
     "output_type": "stream",
     "text": [
      "100%|█████████▉| 22216/22222 [01:11<00:00, 310.97it/s]\n"
     ]
    },
    {
     "name": "stdout",
     "output_type": "stream",
     "text": [
      "EvaluatorHoldout: Processed 9989 (100.0%) in 5.47 sec. Users per second: 1827\n",
      "SLIMElasticNetRecommender: URM Detected 460 ( 3.6%) users with no interactions.\n",
      "SLIMElasticNetRecommender: URM Detected 328 ( 1.5%) items with no interactions.\n"
     ]
    },
    {
     "name": "stderr",
     "output_type": "stream",
     "text": [
      "100%|█████████▉| 22216/22222 [01:09<00:00, 318.65it/s]\n"
     ]
    },
    {
     "name": "stdout",
     "output_type": "stream",
     "text": [
      "EvaluatorHoldout: Processed 10024 (100.0%) in 5.52 sec. Users per second: 1816\n",
      "SLIMElasticNetRecommender: URM Detected 426 ( 3.4%) users with no interactions.\n",
      "SLIMElasticNetRecommender: URM Detected 344 ( 1.5%) items with no interactions.\n"
     ]
    },
    {
     "name": "stderr",
     "output_type": "stream",
     "text": [
      "100%|█████████▉| 22216/22222 [01:10<00:00, 312.95it/s]\n"
     ]
    },
    {
     "name": "stdout",
     "output_type": "stream",
     "text": [
      "EvaluatorHoldout: Processed 10030 (100.0%) in 5.35 sec. Users per second: 1875\n",
      "SLIMElasticNetRecommender: URM Detected 471 ( 3.7%) users with no interactions.\n",
      "SLIMElasticNetRecommender: URM Detected 362 ( 1.6%) items with no interactions.\n"
     ]
    },
    {
     "name": "stderr",
     "output_type": "stream",
     "text": [
      "100%|█████████▉| 22216/22222 [01:11<00:00, 312.67it/s]\n"
     ]
    },
    {
     "name": "stdout",
     "output_type": "stream",
     "text": [
      "EvaluatorHoldout: Processed 10052 (100.0%) in 5.06 sec. Users per second: 1988\n",
      "SLIMElasticNetRecommender: URM Detected 478 ( 3.8%) users with no interactions.\n",
      "SLIMElasticNetRecommender: URM Detected 329 ( 1.5%) items with no interactions.\n"
     ]
    },
    {
     "name": "stderr",
     "output_type": "stream",
     "text": [
      "100%|█████████▉| 22216/22222 [01:10<00:00, 314.81it/s]\n"
     ]
    },
    {
     "name": "stdout",
     "output_type": "stream",
     "text": [
      "EvaluatorHoldout: Processed 10045 (100.0%) in 5.56 sec. Users per second: 1808\n",
      "SLIMElasticNetRecommender: URM Detected 460 ( 3.6%) users with no interactions.\n",
      "SLIMElasticNetRecommender: URM Detected 348 ( 1.6%) items with no interactions.\n"
     ]
    },
    {
     "name": "stderr",
     "output_type": "stream",
     "text": [
      "100%|█████████▉| 22216/22222 [01:03<00:00, 350.11it/s]\n"
     ]
    },
    {
     "name": "stdout",
     "output_type": "stream",
     "text": [
      "EvaluatorHoldout: Processed 10068 (100.0%) in 5.05 sec. Users per second: 1995\n"
     ]
    },
    {
     "name": "stderr",
     "output_type": "stream",
     "text": [
      "[I 2024-01-10 05:54:14,526] Trial 137 finished with value: 0.028476874335930526 and parameters: {'alpha': 0.0010208991331251826, 'l1_ratio': 0.010229697312001462, 'topK': 8102}. Best is trial 129 with value: 0.029857465484101224.\n"
     ]
    },
    {
     "name": "stdout",
     "output_type": "stream",
     "text": [
      "SLIMElasticNetRecommender: URM Detected 508 ( 4.0%) users with no interactions.\n",
      "SLIMElasticNetRecommender: URM Detected 332 ( 1.5%) items with no interactions.\n"
     ]
    },
    {
     "name": "stderr",
     "output_type": "stream",
     "text": [
      "100%|█████████▉| 22216/22222 [00:32<00:00, 688.54it/s] \n"
     ]
    },
    {
     "name": "stdout",
     "output_type": "stream",
     "text": [
      "EvaluatorHoldout: Processed 10057 (100.0%) in 4.45 sec. Users per second: 2261\n",
      "SLIMElasticNetRecommender: URM Detected 440 ( 3.5%) users with no interactions.\n",
      "SLIMElasticNetRecommender: URM Detected 325 ( 1.5%) items with no interactions.\n"
     ]
    },
    {
     "name": "stderr",
     "output_type": "stream",
     "text": [
      "100%|█████████▉| 22216/22222 [00:30<00:00, 723.28it/s] \n"
     ]
    },
    {
     "name": "stdout",
     "output_type": "stream",
     "text": [
      "EvaluatorHoldout: Processed 10040 (100.0%) in 4.86 sec. Users per second: 2065\n",
      "SLIMElasticNetRecommender: URM Detected 479 ( 3.8%) users with no interactions.\n",
      "SLIMElasticNetRecommender: URM Detected 345 ( 1.6%) items with no interactions.\n"
     ]
    },
    {
     "name": "stderr",
     "output_type": "stream",
     "text": [
      "100%|█████████▉| 22216/22222 [00:31<00:00, 697.15it/s] \n"
     ]
    },
    {
     "name": "stdout",
     "output_type": "stream",
     "text": [
      "EvaluatorHoldout: Processed 10017 (100.0%) in 3.56 sec. Users per second: 2815\n",
      "SLIMElasticNetRecommender: URM Detected 451 ( 3.6%) users with no interactions.\n",
      "SLIMElasticNetRecommender: URM Detected 311 ( 1.4%) items with no interactions.\n"
     ]
    },
    {
     "name": "stderr",
     "output_type": "stream",
     "text": [
      "100%|█████████▉| 22216/22222 [00:30<00:00, 738.00it/s] \n"
     ]
    },
    {
     "name": "stdout",
     "output_type": "stream",
     "text": [
      "EvaluatorHoldout: Processed 10037 (100.0%) in 4.59 sec. Users per second: 2186\n",
      "SLIMElasticNetRecommender: URM Detected 449 ( 3.6%) users with no interactions.\n",
      "SLIMElasticNetRecommender: URM Detected 320 ( 1.4%) items with no interactions.\n"
     ]
    },
    {
     "name": "stderr",
     "output_type": "stream",
     "text": [
      "100%|█████████▉| 22216/22222 [00:30<00:00, 718.24it/s] \n"
     ]
    },
    {
     "name": "stdout",
     "output_type": "stream",
     "text": [
      "EvaluatorHoldout: Processed 9989 (100.0%) in 4.63 sec. Users per second: 2156\n",
      "SLIMElasticNetRecommender: URM Detected 460 ( 3.6%) users with no interactions.\n",
      "SLIMElasticNetRecommender: URM Detected 328 ( 1.5%) items with no interactions.\n"
     ]
    },
    {
     "name": "stderr",
     "output_type": "stream",
     "text": [
      "100%|█████████▉| 22216/22222 [00:31<00:00, 703.29it/s] \n"
     ]
    },
    {
     "name": "stdout",
     "output_type": "stream",
     "text": [
      "EvaluatorHoldout: Processed 10024 (100.0%) in 3.75 sec. Users per second: 2674\n",
      "SLIMElasticNetRecommender: URM Detected 426 ( 3.4%) users with no interactions.\n",
      "SLIMElasticNetRecommender: URM Detected 344 ( 1.5%) items with no interactions.\n"
     ]
    },
    {
     "name": "stderr",
     "output_type": "stream",
     "text": [
      "100%|█████████▉| 22216/22222 [00:25<00:00, 855.79it/s] \n"
     ]
    },
    {
     "name": "stdout",
     "output_type": "stream",
     "text": [
      "EvaluatorHoldout: Processed 10030 (100.0%) in 3.84 sec. Users per second: 2612\n",
      "SLIMElasticNetRecommender: URM Detected 471 ( 3.7%) users with no interactions.\n",
      "SLIMElasticNetRecommender: URM Detected 362 ( 1.6%) items with no interactions.\n"
     ]
    },
    {
     "name": "stderr",
     "output_type": "stream",
     "text": [
      "100%|█████████▉| 22216/22222 [00:37<00:00, 587.16it/s]\n"
     ]
    },
    {
     "name": "stdout",
     "output_type": "stream",
     "text": [
      "EvaluatorHoldout: Processed 10052 (100.0%) in 3.96 sec. Users per second: 2540\n",
      "SLIMElasticNetRecommender: URM Detected 478 ( 3.8%) users with no interactions.\n",
      "SLIMElasticNetRecommender: URM Detected 329 ( 1.5%) items with no interactions.\n"
     ]
    },
    {
     "name": "stderr",
     "output_type": "stream",
     "text": [
      "100%|█████████▉| 22216/22222 [00:31<00:00, 703.08it/s] \n"
     ]
    },
    {
     "name": "stdout",
     "output_type": "stream",
     "text": [
      "EvaluatorHoldout: Processed 10045 (100.0%) in 3.80 sec. Users per second: 2642\n",
      "SLIMElasticNetRecommender: URM Detected 460 ( 3.6%) users with no interactions.\n",
      "SLIMElasticNetRecommender: URM Detected 348 ( 1.6%) items with no interactions.\n"
     ]
    },
    {
     "name": "stderr",
     "output_type": "stream",
     "text": [
      "100%|█████████▉| 22216/22222 [00:31<00:00, 698.71it/s] \n"
     ]
    },
    {
     "name": "stdout",
     "output_type": "stream",
     "text": [
      "EvaluatorHoldout: Processed 10068 (100.0%) in 4.35 sec. Users per second: 2314\n"
     ]
    },
    {
     "name": "stderr",
     "output_type": "stream",
     "text": [
      "[I 2024-01-10 06:00:24,273] Trial 141 finished with value: 0.029433018036552183 and parameters: {'alpha': 0.001594312788845602, 'l1_ratio': 0.12712223280642362, 'topK': 8719}. Best is trial 129 with value: 0.029857465484101224.\n"
     ]
    },
    {
     "name": "stdout",
     "output_type": "stream",
     "text": [
      "SLIMElasticNetRecommender: URM Detected 508 ( 4.0%) users with no interactions.\n",
      "SLIMElasticNetRecommender: URM Detected 332 ( 1.5%) items with no interactions.\n"
     ]
    },
    {
     "name": "stderr",
     "output_type": "stream",
     "text": [
      "100%|█████████▉| 22216/22222 [00:45<00:00, 493.48it/s]\n"
     ]
    },
    {
     "name": "stdout",
     "output_type": "stream",
     "text": [
      "EvaluatorHoldout: Processed 10057 (100.0%) in 4.25 sec. Users per second: 2365\n",
      "SLIMElasticNetRecommender: URM Detected 440 ( 3.5%) users with no interactions.\n",
      "SLIMElasticNetRecommender: URM Detected 325 ( 1.5%) items with no interactions.\n"
     ]
    },
    {
     "name": "stderr",
     "output_type": "stream",
     "text": [
      "100%|█████████▉| 22216/22222 [00:44<00:00, 500.39it/s]\n"
     ]
    },
    {
     "name": "stdout",
     "output_type": "stream",
     "text": [
      "EvaluatorHoldout: Processed 10040 (100.0%) in 4.66 sec. Users per second: 2156\n",
      "SLIMElasticNetRecommender: URM Detected 479 ( 3.8%) users with no interactions.\n",
      "SLIMElasticNetRecommender: URM Detected 345 ( 1.6%) items with no interactions.\n"
     ]
    },
    {
     "name": "stderr",
     "output_type": "stream",
     "text": [
      "100%|█████████▉| 22216/22222 [00:43<00:00, 505.88it/s]\n"
     ]
    },
    {
     "name": "stdout",
     "output_type": "stream",
     "text": [
      "EvaluatorHoldout: Processed 10017 (100.0%) in 5.44 sec. Users per second: 1840\n",
      "SLIMElasticNetRecommender: URM Detected 451 ( 3.6%) users with no interactions.\n",
      "SLIMElasticNetRecommender: URM Detected 311 ( 1.4%) items with no interactions.\n"
     ]
    },
    {
     "name": "stderr",
     "output_type": "stream",
     "text": [
      "100%|█████████▉| 22216/22222 [00:45<00:00, 493.05it/s]\n"
     ]
    },
    {
     "name": "stdout",
     "output_type": "stream",
     "text": [
      "EvaluatorHoldout: Processed 10037 (100.0%) in 4.52 sec. Users per second: 2220\n",
      "SLIMElasticNetRecommender: URM Detected 449 ( 3.6%) users with no interactions.\n",
      "SLIMElasticNetRecommender: URM Detected 320 ( 1.4%) items with no interactions.\n"
     ]
    },
    {
     "name": "stderr",
     "output_type": "stream",
     "text": [
      "100%|█████████▉| 22216/22222 [00:44<00:00, 501.71it/s]\n"
     ]
    },
    {
     "name": "stdout",
     "output_type": "stream",
     "text": [
      "EvaluatorHoldout: Processed 9989 (100.0%) in 4.42 sec. Users per second: 2260\n",
      "SLIMElasticNetRecommender: URM Detected 460 ( 3.6%) users with no interactions.\n",
      "SLIMElasticNetRecommender: URM Detected 328 ( 1.5%) items with no interactions.\n"
     ]
    },
    {
     "name": "stderr",
     "output_type": "stream",
     "text": [
      "100%|█████████▉| 22216/22222 [00:44<00:00, 499.46it/s]\n"
     ]
    },
    {
     "name": "stdout",
     "output_type": "stream",
     "text": [
      "EvaluatorHoldout: Processed 10024 (100.0%) in 4.43 sec. Users per second: 2264\n",
      "SLIMElasticNetRecommender: URM Detected 426 ( 3.4%) users with no interactions.\n",
      "SLIMElasticNetRecommender: URM Detected 344 ( 1.5%) items with no interactions.\n"
     ]
    },
    {
     "name": "stderr",
     "output_type": "stream",
     "text": [
      "100%|█████████▉| 22216/22222 [00:45<00:00, 491.06it/s]\n"
     ]
    },
    {
     "name": "stdout",
     "output_type": "stream",
     "text": [
      "EvaluatorHoldout: Processed 10030 (100.0%) in 4.14 sec. Users per second: 2425\n",
      "SLIMElasticNetRecommender: URM Detected 471 ( 3.7%) users with no interactions.\n",
      "SLIMElasticNetRecommender: URM Detected 362 ( 1.6%) items with no interactions.\n"
     ]
    },
    {
     "name": "stderr",
     "output_type": "stream",
     "text": [
      "100%|█████████▉| 22216/22222 [00:46<00:00, 480.95it/s]\n"
     ]
    },
    {
     "name": "stdout",
     "output_type": "stream",
     "text": [
      "EvaluatorHoldout: Processed 10052 (100.0%) in 5.07 sec. Users per second: 1985\n",
      "SLIMElasticNetRecommender: URM Detected 478 ( 3.8%) users with no interactions.\n",
      "SLIMElasticNetRecommender: URM Detected 329 ( 1.5%) items with no interactions.\n"
     ]
    },
    {
     "name": "stderr",
     "output_type": "stream",
     "text": [
      "100%|█████████▉| 22216/22222 [00:44<00:00, 503.15it/s]\n"
     ]
    },
    {
     "name": "stdout",
     "output_type": "stream",
     "text": [
      "EvaluatorHoldout: Processed 10045 (100.0%) in 4.13 sec. Users per second: 2433\n",
      "SLIMElasticNetRecommender: URM Detected 460 ( 3.6%) users with no interactions.\n",
      "SLIMElasticNetRecommender: URM Detected 348 ( 1.6%) items with no interactions.\n"
     ]
    },
    {
     "name": "stderr",
     "output_type": "stream",
     "text": [
      "100%|█████████▉| 22216/22222 [00:45<00:00, 486.24it/s]\n"
     ]
    },
    {
     "name": "stdout",
     "output_type": "stream",
     "text": [
      "EvaluatorHoldout: Processed 10068 (100.0%) in 4.58 sec. Users per second: 2197\n"
     ]
    },
    {
     "name": "stderr",
     "output_type": "stream",
     "text": [
      "[I 2024-01-10 06:08:51,746] Trial 142 finished with value: 0.029815657601596574 and parameters: {'alpha': 0.0010351363119857912, 'l1_ratio': 0.10549728595858458, 'topK': 8330}. Best is trial 129 with value: 0.029857465484101224.\n"
     ]
    },
    {
     "name": "stdout",
     "output_type": "stream",
     "text": [
      "SLIMElasticNetRecommender: URM Detected 508 ( 4.0%) users with no interactions.\n",
      "SLIMElasticNetRecommender: URM Detected 332 ( 1.5%) items with no interactions.\n"
     ]
    },
    {
     "name": "stderr",
     "output_type": "stream",
     "text": [
      "100%|█████████▉| 22216/22222 [00:19<00:00, 1160.81it/s]\n"
     ]
    },
    {
     "name": "stdout",
     "output_type": "stream",
     "text": [
      "EvaluatorHoldout: Processed 10057 (100.0%) in 3.06 sec. Users per second: 3289\n",
      "SLIMElasticNetRecommender: URM Detected 440 ( 3.5%) users with no interactions.\n",
      "SLIMElasticNetRecommender: URM Detected 325 ( 1.5%) items with no interactions.\n"
     ]
    },
    {
     "name": "stderr",
     "output_type": "stream",
     "text": [
      "100%|█████████▉| 22216/22222 [00:20<00:00, 1108.22it/s]\n"
     ]
    },
    {
     "name": "stdout",
     "output_type": "stream",
     "text": [
      "EvaluatorHoldout: Processed 10040 (100.0%) in 2.93 sec. Users per second: 3430\n",
      "SLIMElasticNetRecommender: URM Detected 479 ( 3.8%) users with no interactions.\n",
      "SLIMElasticNetRecommender: URM Detected 345 ( 1.6%) items with no interactions.\n"
     ]
    },
    {
     "name": "stderr",
     "output_type": "stream",
     "text": [
      "100%|█████████▉| 22216/22222 [00:20<00:00, 1081.14it/s]\n"
     ]
    },
    {
     "name": "stdout",
     "output_type": "stream",
     "text": [
      "EvaluatorHoldout: Processed 10017 (100.0%) in 3.10 sec. Users per second: 3227\n",
      "SLIMElasticNetRecommender: URM Detected 451 ( 3.6%) users with no interactions.\n",
      "SLIMElasticNetRecommender: URM Detected 311 ( 1.4%) items with no interactions.\n"
     ]
    },
    {
     "name": "stderr",
     "output_type": "stream",
     "text": [
      "100%|█████████▉| 22216/22222 [00:19<00:00, 1139.91it/s]\n"
     ]
    },
    {
     "name": "stdout",
     "output_type": "stream",
     "text": [
      "EvaluatorHoldout: Processed 10037 (100.0%) in 3.24 sec. Users per second: 3101\n",
      "SLIMElasticNetRecommender: URM Detected 449 ( 3.6%) users with no interactions.\n",
      "SLIMElasticNetRecommender: URM Detected 320 ( 1.4%) items with no interactions.\n"
     ]
    },
    {
     "name": "stderr",
     "output_type": "stream",
     "text": [
      "100%|█████████▉| 22216/22222 [00:18<00:00, 1201.26it/s]\n"
     ]
    },
    {
     "name": "stdout",
     "output_type": "stream",
     "text": [
      "EvaluatorHoldout: Processed 9989 (100.0%) in 2.78 sec. Users per second: 3588\n",
      "SLIMElasticNetRecommender: URM Detected 460 ( 3.6%) users with no interactions.\n",
      "SLIMElasticNetRecommender: URM Detected 328 ( 1.5%) items with no interactions.\n"
     ]
    },
    {
     "name": "stderr",
     "output_type": "stream",
     "text": [
      "100%|█████████▉| 22216/22222 [00:21<00:00, 1012.55it/s]\n"
     ]
    },
    {
     "name": "stdout",
     "output_type": "stream",
     "text": [
      "EvaluatorHoldout: Processed 10024 (100.0%) in 3.24 sec. Users per second: 3090\n",
      "SLIMElasticNetRecommender: URM Detected 426 ( 3.4%) users with no interactions.\n",
      "SLIMElasticNetRecommender: URM Detected 344 ( 1.5%) items with no interactions.\n"
     ]
    },
    {
     "name": "stderr",
     "output_type": "stream",
     "text": [
      "100%|█████████▉| 22216/22222 [00:19<00:00, 1124.67it/s]\n"
     ]
    },
    {
     "name": "stdout",
     "output_type": "stream",
     "text": [
      "EvaluatorHoldout: Processed 10030 (100.0%) in 3.23 sec. Users per second: 3109\n",
      "SLIMElasticNetRecommender: URM Detected 471 ( 3.7%) users with no interactions.\n",
      "SLIMElasticNetRecommender: URM Detected 362 ( 1.6%) items with no interactions.\n"
     ]
    },
    {
     "name": "stderr",
     "output_type": "stream",
     "text": [
      "100%|█████████▉| 22216/22222 [00:19<00:00, 1156.43it/s]\n"
     ]
    },
    {
     "name": "stdout",
     "output_type": "stream",
     "text": [
      "EvaluatorHoldout: Processed 10052 (100.0%) in 3.16 sec. Users per second: 3180\n",
      "SLIMElasticNetRecommender: URM Detected 478 ( 3.8%) users with no interactions.\n",
      "SLIMElasticNetRecommender: URM Detected 329 ( 1.5%) items with no interactions.\n"
     ]
    },
    {
     "name": "stderr",
     "output_type": "stream",
     "text": [
      "100%|█████████▉| 22216/22222 [00:18<00:00, 1182.22it/s]\n"
     ]
    },
    {
     "name": "stdout",
     "output_type": "stream",
     "text": [
      "EvaluatorHoldout: Processed 10045 (100.0%) in 2.91 sec. Users per second: 3458\n",
      "SLIMElasticNetRecommender: URM Detected 460 ( 3.6%) users with no interactions.\n",
      "SLIMElasticNetRecommender: URM Detected 348 ( 1.6%) items with no interactions.\n"
     ]
    },
    {
     "name": "stderr",
     "output_type": "stream",
     "text": [
      "100%|█████████▉| 22216/22222 [00:19<00:00, 1131.56it/s]\n"
     ]
    },
    {
     "name": "stdout",
     "output_type": "stream",
     "text": [
      "EvaluatorHoldout: Processed 10068 (100.0%) in 2.97 sec. Users per second: 3390\n"
     ]
    },
    {
     "name": "stderr",
     "output_type": "stream",
     "text": [
      "[I 2024-01-10 06:12:52,795] Trial 143 finished with value: 0.02591268161167113 and parameters: {'alpha': 0.006240002491537755, 'l1_ratio': 0.10905126802874279, 'topK': 8250}. Best is trial 129 with value: 0.029857465484101224.\n"
     ]
    },
    {
     "name": "stdout",
     "output_type": "stream",
     "text": [
      "SLIMElasticNetRecommender: URM Detected 508 ( 4.0%) users with no interactions.\n",
      "SLIMElasticNetRecommender: URM Detected 332 ( 1.5%) items with no interactions.\n"
     ]
    },
    {
     "name": "stderr",
     "output_type": "stream",
     "text": [
      "100%|█████████▉| 22216/22222 [00:42<00:00, 524.66it/s]\n"
     ]
    },
    {
     "name": "stdout",
     "output_type": "stream",
     "text": [
      "EvaluatorHoldout: Processed 10057 (100.0%) in 4.11 sec. Users per second: 2447\n",
      "SLIMElasticNetRecommender: URM Detected 440 ( 3.5%) users with no interactions.\n",
      "SLIMElasticNetRecommender: URM Detected 325 ( 1.5%) items with no interactions.\n"
     ]
    },
    {
     "name": "stderr",
     "output_type": "stream",
     "text": [
      "100%|█████████▉| 22216/22222 [00:42<00:00, 526.62it/s]\n"
     ]
    },
    {
     "name": "stdout",
     "output_type": "stream",
     "text": [
      "EvaluatorHoldout: Processed 10040 (100.0%) in 4.26 sec. Users per second: 2359\n",
      "SLIMElasticNetRecommender: URM Detected 479 ( 3.8%) users with no interactions.\n",
      "SLIMElasticNetRecommender: URM Detected 345 ( 1.6%) items with no interactions.\n"
     ]
    },
    {
     "name": "stderr",
     "output_type": "stream",
     "text": [
      "100%|█████████▉| 22216/22222 [00:48<00:00, 454.28it/s]\n"
     ]
    },
    {
     "name": "stdout",
     "output_type": "stream",
     "text": [
      "EvaluatorHoldout: Processed 10017 (100.0%) in 4.22 sec. Users per second: 2373\n",
      "SLIMElasticNetRecommender: URM Detected 451 ( 3.6%) users with no interactions.\n",
      "SLIMElasticNetRecommender: URM Detected 311 ( 1.4%) items with no interactions.\n"
     ]
    },
    {
     "name": "stderr",
     "output_type": "stream",
     "text": [
      "100%|█████████▉| 22216/22222 [00:41<00:00, 538.55it/s]\n"
     ]
    },
    {
     "name": "stdout",
     "output_type": "stream",
     "text": [
      "EvaluatorHoldout: Processed 10037 (100.0%) in 4.17 sec. Users per second: 2406\n",
      "SLIMElasticNetRecommender: URM Detected 449 ( 3.6%) users with no interactions.\n",
      "SLIMElasticNetRecommender: URM Detected 320 ( 1.4%) items with no interactions.\n"
     ]
    },
    {
     "name": "stderr",
     "output_type": "stream",
     "text": [
      "100%|█████████▉| 22216/22222 [00:43<00:00, 513.74it/s]\n"
     ]
    },
    {
     "name": "stdout",
     "output_type": "stream",
     "text": [
      "EvaluatorHoldout: Processed 9989 (100.0%) in 4.40 sec. Users per second: 2273\n",
      "SLIMElasticNetRecommender: URM Detected 460 ( 3.6%) users with no interactions.\n",
      "SLIMElasticNetRecommender: URM Detected 328 ( 1.5%) items with no interactions.\n"
     ]
    },
    {
     "name": "stderr",
     "output_type": "stream",
     "text": [
      "100%|█████████▉| 22216/22222 [00:42<00:00, 520.47it/s]\n"
     ]
    },
    {
     "name": "stdout",
     "output_type": "stream",
     "text": [
      "EvaluatorHoldout: Processed 10024 (100.0%) in 4.17 sec. Users per second: 2406\n",
      "SLIMElasticNetRecommender: URM Detected 426 ( 3.4%) users with no interactions.\n",
      "SLIMElasticNetRecommender: URM Detected 344 ( 1.5%) items with no interactions.\n"
     ]
    },
    {
     "name": "stderr",
     "output_type": "stream",
     "text": [
      "100%|█████████▉| 22216/22222 [00:42<00:00, 517.54it/s]\n"
     ]
    },
    {
     "name": "stdout",
     "output_type": "stream",
     "text": [
      "EvaluatorHoldout: Processed 10030 (100.0%) in 4.87 sec. Users per second: 2058\n",
      "SLIMElasticNetRecommender: URM Detected 471 ( 3.7%) users with no interactions.\n",
      "SLIMElasticNetRecommender: URM Detected 362 ( 1.6%) items with no interactions.\n"
     ]
    },
    {
     "name": "stderr",
     "output_type": "stream",
     "text": [
      "100%|█████████▉| 22216/22222 [00:42<00:00, 520.65it/s]\n"
     ]
    },
    {
     "name": "stdout",
     "output_type": "stream",
     "text": [
      "EvaluatorHoldout: Processed 10052 (100.0%) in 4.33 sec. Users per second: 2321\n",
      "SLIMElasticNetRecommender: URM Detected 478 ( 3.8%) users with no interactions.\n",
      "SLIMElasticNetRecommender: URM Detected 329 ( 1.5%) items with no interactions.\n"
     ]
    },
    {
     "name": "stderr",
     "output_type": "stream",
     "text": [
      "100%|█████████▉| 22216/22222 [00:48<00:00, 459.70it/s]\n"
     ]
    },
    {
     "name": "stdout",
     "output_type": "stream",
     "text": [
      "EvaluatorHoldout: Processed 10045 (100.0%) in 4.61 sec. Users per second: 2178\n",
      "SLIMElasticNetRecommender: URM Detected 460 ( 3.6%) users with no interactions.\n",
      "SLIMElasticNetRecommender: URM Detected 348 ( 1.6%) items with no interactions.\n"
     ]
    },
    {
     "name": "stderr",
     "output_type": "stream",
     "text": [
      "100%|█████████▉| 22216/22222 [00:44<00:00, 504.16it/s]\n"
     ]
    },
    {
     "name": "stdout",
     "output_type": "stream",
     "text": [
      "EvaluatorHoldout: Processed 10068 (100.0%) in 4.43 sec. Users per second: 2271\n"
     ]
    },
    {
     "name": "stderr",
     "output_type": "stream",
     "text": [
      "[I 2024-01-10 06:21:08,275] Trial 144 finished with value: 0.02980031787414698 and parameters: {'alpha': 0.0010848904449974083, 'l1_ratio': 0.13323705695396693, 'topK': 8909}. Best is trial 129 with value: 0.029857465484101224.\n"
     ]
    },
    {
     "name": "stdout",
     "output_type": "stream",
     "text": [
      "SLIMElasticNetRecommender: URM Detected 508 ( 4.0%) users with no interactions.\n",
      "SLIMElasticNetRecommender: URM Detected 332 ( 1.5%) items with no interactions.\n"
     ]
    },
    {
     "name": "stderr",
     "output_type": "stream",
     "text": [
      "100%|█████████▉| 22216/22222 [00:44<00:00, 504.23it/s]\n"
     ]
    },
    {
     "name": "stdout",
     "output_type": "stream",
     "text": [
      "EvaluatorHoldout: Processed 10057 (100.0%) in 4.45 sec. Users per second: 2261\n",
      "SLIMElasticNetRecommender: URM Detected 440 ( 3.5%) users with no interactions.\n",
      "SLIMElasticNetRecommender: URM Detected 325 ( 1.5%) items with no interactions.\n"
     ]
    },
    {
     "name": "stderr",
     "output_type": "stream",
     "text": [
      "100%|█████████▉| 22216/22222 [00:46<00:00, 481.61it/s]\n"
     ]
    },
    {
     "name": "stdout",
     "output_type": "stream",
     "text": [
      "EvaluatorHoldout: Processed 10040 (100.0%) in 4.30 sec. Users per second: 2333\n",
      "SLIMElasticNetRecommender: URM Detected 479 ( 3.8%) users with no interactions.\n",
      "SLIMElasticNetRecommender: URM Detected 345 ( 1.6%) items with no interactions.\n"
     ]
    },
    {
     "name": "stderr",
     "output_type": "stream",
     "text": [
      "100%|█████████▉| 22216/22222 [00:44<00:00, 503.71it/s]\n"
     ]
    },
    {
     "name": "stdout",
     "output_type": "stream",
     "text": [
      "EvaluatorHoldout: Processed 10017 (100.0%) in 4.82 sec. Users per second: 2080\n",
      "SLIMElasticNetRecommender: URM Detected 451 ( 3.6%) users with no interactions.\n",
      "SLIMElasticNetRecommender: URM Detected 311 ( 1.4%) items with no interactions.\n"
     ]
    },
    {
     "name": "stderr",
     "output_type": "stream",
     "text": [
      "100%|█████████▉| 22216/22222 [00:49<00:00, 451.25it/s]\n"
     ]
    },
    {
     "name": "stdout",
     "output_type": "stream",
     "text": [
      "EvaluatorHoldout: Processed 10037 (100.0%) in 4.66 sec. Users per second: 2152\n",
      "SLIMElasticNetRecommender: URM Detected 449 ( 3.6%) users with no interactions.\n",
      "SLIMElasticNetRecommender: URM Detected 320 ( 1.4%) items with no interactions.\n"
     ]
    },
    {
     "name": "stderr",
     "output_type": "stream",
     "text": [
      "100%|█████████▉| 22216/22222 [00:45<00:00, 486.71it/s]\n"
     ]
    },
    {
     "name": "stdout",
     "output_type": "stream",
     "text": [
      "EvaluatorHoldout: Processed 9989 (100.0%) in 4.10 sec. Users per second: 2437\n",
      "SLIMElasticNetRecommender: URM Detected 460 ( 3.6%) users with no interactions.\n",
      "SLIMElasticNetRecommender: URM Detected 328 ( 1.5%) items with no interactions.\n"
     ]
    },
    {
     "name": "stderr",
     "output_type": "stream",
     "text": [
      "100%|█████████▉| 22216/22222 [00:45<00:00, 486.15it/s]\n"
     ]
    },
    {
     "name": "stdout",
     "output_type": "stream",
     "text": [
      "EvaluatorHoldout: Processed 10024 (100.0%) in 4.37 sec. Users per second: 2295\n",
      "SLIMElasticNetRecommender: URM Detected 426 ( 3.4%) users with no interactions.\n",
      "SLIMElasticNetRecommender: URM Detected 344 ( 1.5%) items with no interactions.\n"
     ]
    },
    {
     "name": "stderr",
     "output_type": "stream",
     "text": [
      "100%|█████████▉| 22216/22222 [00:45<00:00, 486.49it/s]\n"
     ]
    },
    {
     "name": "stdout",
     "output_type": "stream",
     "text": [
      "EvaluatorHoldout: Processed 10030 (100.0%) in 4.32 sec. Users per second: 2321\n",
      "SLIMElasticNetRecommender: URM Detected 471 ( 3.7%) users with no interactions.\n",
      "SLIMElasticNetRecommender: URM Detected 362 ( 1.6%) items with no interactions.\n"
     ]
    },
    {
     "name": "stderr",
     "output_type": "stream",
     "text": [
      "100%|█████████▉| 22216/22222 [00:46<00:00, 475.45it/s]\n"
     ]
    },
    {
     "name": "stdout",
     "output_type": "stream",
     "text": [
      "EvaluatorHoldout: Processed 10052 (100.0%) in 4.68 sec. Users per second: 2146\n",
      "SLIMElasticNetRecommender: URM Detected 478 ( 3.8%) users with no interactions.\n",
      "SLIMElasticNetRecommender: URM Detected 329 ( 1.5%) items with no interactions.\n"
     ]
    },
    {
     "name": "stderr",
     "output_type": "stream",
     "text": [
      "100%|█████████▉| 22216/22222 [00:44<00:00, 499.04it/s]\n"
     ]
    },
    {
     "name": "stdout",
     "output_type": "stream",
     "text": [
      "EvaluatorHoldout: Processed 10045 (100.0%) in 4.66 sec. Users per second: 2156\n",
      "SLIMElasticNetRecommender: URM Detected 460 ( 3.6%) users with no interactions.\n",
      "SLIMElasticNetRecommender: URM Detected 348 ( 1.6%) items with no interactions.\n"
     ]
    },
    {
     "name": "stderr",
     "output_type": "stream",
     "text": [
      "100%|█████████▉| 22216/22222 [00:49<00:00, 451.73it/s]\n"
     ]
    },
    {
     "name": "stdout",
     "output_type": "stream",
     "text": [
      "EvaluatorHoldout: Processed 10068 (100.0%) in 4.81 sec. Users per second: 2093\n"
     ]
    },
    {
     "name": "stderr",
     "output_type": "stream",
     "text": [
      "[I 2024-01-10 06:29:47,838] Trial 145 finished with value: 0.029792081692804607 and parameters: {'alpha': 0.0009996526698778758, 'l1_ratio': 0.08414967336433865, 'topK': 8996}. Best is trial 129 with value: 0.029857465484101224.\n"
     ]
    },
    {
     "name": "stdout",
     "output_type": "stream",
     "text": [
      "SLIMElasticNetRecommender: URM Detected 508 ( 4.0%) users with no interactions.\n",
      "SLIMElasticNetRecommender: URM Detected 332 ( 1.5%) items with no interactions.\n"
     ]
    },
    {
     "name": "stderr",
     "output_type": "stream",
     "text": [
      "100%|█████████▉| 22216/22222 [00:32<00:00, 682.12it/s] \n"
     ]
    },
    {
     "name": "stdout",
     "output_type": "stream",
     "text": [
      "EvaluatorHoldout: Processed 10057 (100.0%) in 4.24 sec. Users per second: 2369\n",
      "SLIMElasticNetRecommender: URM Detected 440 ( 3.5%) users with no interactions.\n",
      "SLIMElasticNetRecommender: URM Detected 325 ( 1.5%) items with no interactions.\n"
     ]
    },
    {
     "name": "stderr",
     "output_type": "stream",
     "text": [
      "100%|█████████▉| 22216/22222 [00:31<00:00, 714.93it/s] \n"
     ]
    },
    {
     "name": "stdout",
     "output_type": "stream",
     "text": [
      "EvaluatorHoldout: Processed 10040 (100.0%) in 3.81 sec. Users per second: 2637\n",
      "SLIMElasticNetRecommender: URM Detected 479 ( 3.8%) users with no interactions.\n",
      "SLIMElasticNetRecommender: URM Detected 345 ( 1.6%) items with no interactions.\n"
     ]
    },
    {
     "name": "stderr",
     "output_type": "stream",
     "text": [
      "100%|█████████▉| 22216/22222 [00:32<00:00, 684.66it/s] \n"
     ]
    },
    {
     "name": "stdout",
     "output_type": "stream",
     "text": [
      "EvaluatorHoldout: Processed 10017 (100.0%) in 3.78 sec. Users per second: 2649\n",
      "SLIMElasticNetRecommender: URM Detected 451 ( 3.6%) users with no interactions.\n",
      "SLIMElasticNetRecommender: URM Detected 311 ( 1.4%) items with no interactions.\n"
     ]
    },
    {
     "name": "stderr",
     "output_type": "stream",
     "text": [
      "100%|█████████▉| 22216/22222 [00:32<00:00, 691.33it/s] \n"
     ]
    },
    {
     "name": "stdout",
     "output_type": "stream",
     "text": [
      "EvaluatorHoldout: Processed 10037 (100.0%) in 3.76 sec. Users per second: 2672\n",
      "SLIMElasticNetRecommender: URM Detected 449 ( 3.6%) users with no interactions.\n",
      "SLIMElasticNetRecommender: URM Detected 320 ( 1.4%) items with no interactions.\n"
     ]
    },
    {
     "name": "stderr",
     "output_type": "stream",
     "text": [
      "100%|█████████▉| 22216/22222 [00:29<00:00, 745.53it/s] \n"
     ]
    },
    {
     "name": "stdout",
     "output_type": "stream",
     "text": [
      "EvaluatorHoldout: Processed 9989 (100.0%) in 4.86 sec. Users per second: 2054\n",
      "SLIMElasticNetRecommender: URM Detected 460 ( 3.6%) users with no interactions.\n",
      "SLIMElasticNetRecommender: URM Detected 328 ( 1.5%) items with no interactions.\n"
     ]
    },
    {
     "name": "stderr",
     "output_type": "stream",
     "text": [
      "100%|█████████▉| 22216/22222 [00:33<00:00, 667.07it/s] \n"
     ]
    },
    {
     "name": "stdout",
     "output_type": "stream",
     "text": [
      "EvaluatorHoldout: Processed 10024 (100.0%) in 3.90 sec. Users per second: 2572\n",
      "SLIMElasticNetRecommender: URM Detected 426 ( 3.4%) users with no interactions.\n",
      "SLIMElasticNetRecommender: URM Detected 344 ( 1.5%) items with no interactions.\n"
     ]
    },
    {
     "name": "stderr",
     "output_type": "stream",
     "text": [
      "100%|█████████▉| 22216/22222 [00:32<00:00, 686.19it/s] \n"
     ]
    },
    {
     "name": "stdout",
     "output_type": "stream",
     "text": [
      "EvaluatorHoldout: Processed 10030 (100.0%) in 4.23 sec. Users per second: 2371\n",
      "SLIMElasticNetRecommender: URM Detected 471 ( 3.7%) users with no interactions.\n",
      "SLIMElasticNetRecommender: URM Detected 362 ( 1.6%) items with no interactions.\n"
     ]
    },
    {
     "name": "stderr",
     "output_type": "stream",
     "text": [
      "100%|█████████▉| 22216/22222 [00:32<00:00, 674.58it/s] \n"
     ]
    },
    {
     "name": "stdout",
     "output_type": "stream",
     "text": [
      "EvaluatorHoldout: Processed 10052 (100.0%) in 3.89 sec. Users per second: 2583\n",
      "SLIMElasticNetRecommender: URM Detected 478 ( 3.8%) users with no interactions.\n",
      "SLIMElasticNetRecommender: URM Detected 329 ( 1.5%) items with no interactions.\n"
     ]
    },
    {
     "name": "stderr",
     "output_type": "stream",
     "text": [
      "100%|█████████▉| 22216/22222 [00:31<00:00, 695.47it/s] \n"
     ]
    },
    {
     "name": "stdout",
     "output_type": "stream",
     "text": [
      "EvaluatorHoldout: Processed 10045 (100.0%) in 3.89 sec. Users per second: 2584\n",
      "SLIMElasticNetRecommender: URM Detected 460 ( 3.6%) users with no interactions.\n",
      "SLIMElasticNetRecommender: URM Detected 348 ( 1.6%) items with no interactions.\n"
     ]
    },
    {
     "name": "stderr",
     "output_type": "stream",
     "text": [
      "100%|█████████▉| 22216/22222 [00:32<00:00, 691.34it/s] \n"
     ]
    },
    {
     "name": "stdout",
     "output_type": "stream",
     "text": [
      "EvaluatorHoldout: Processed 10068 (100.0%) in 4.27 sec. Users per second: 2361\n"
     ]
    },
    {
     "name": "stderr",
     "output_type": "stream",
     "text": [
      "[I 2024-01-10 06:36:02,349] Trial 149 finished with value: 0.029519565387989888 and parameters: {'alpha': 0.0017547875791482375, 'l1_ratio': 0.10249842053239216, 'topK': 7511}. Best is trial 129 with value: 0.029857465484101224.\n"
     ]
    },
    {
     "name": "stdout",
     "output_type": "stream",
     "text": [
      "SLIMElasticNetRecommender: URM Detected 508 ( 4.0%) users with no interactions.\n",
      "SLIMElasticNetRecommender: URM Detected 332 ( 1.5%) items with no interactions.\n"
     ]
    },
    {
     "name": "stderr",
     "output_type": "stream",
     "text": [
      "100%|█████████▉| 22216/22222 [00:32<00:00, 690.34it/s] \n"
     ]
    },
    {
     "name": "stdout",
     "output_type": "stream",
     "text": [
      "EvaluatorHoldout: Processed 10057 (100.0%) in 3.92 sec. Users per second: 2563\n",
      "SLIMElasticNetRecommender: URM Detected 440 ( 3.5%) users with no interactions.\n",
      "SLIMElasticNetRecommender: URM Detected 325 ( 1.5%) items with no interactions.\n"
     ]
    },
    {
     "name": "stderr",
     "output_type": "stream",
     "text": [
      "100%|█████████▉| 22216/22222 [00:37<00:00, 593.80it/s]\n"
     ]
    },
    {
     "name": "stdout",
     "output_type": "stream",
     "text": [
      "EvaluatorHoldout: Processed 10040 (100.0%) in 4.28 sec. Users per second: 2344\n",
      "SLIMElasticNetRecommender: URM Detected 479 ( 3.8%) users with no interactions.\n",
      "SLIMElasticNetRecommender: URM Detected 345 ( 1.6%) items with no interactions.\n"
     ]
    },
    {
     "name": "stderr",
     "output_type": "stream",
     "text": [
      "100%|█████████▉| 22216/22222 [00:32<00:00, 677.84it/s] \n"
     ]
    },
    {
     "name": "stdout",
     "output_type": "stream",
     "text": [
      "EvaluatorHoldout: Processed 10017 (100.0%) in 3.98 sec. Users per second: 2514\n",
      "SLIMElasticNetRecommender: URM Detected 451 ( 3.6%) users with no interactions.\n",
      "SLIMElasticNetRecommender: URM Detected 311 ( 1.4%) items with no interactions.\n"
     ]
    },
    {
     "name": "stderr",
     "output_type": "stream",
     "text": [
      "100%|█████████▉| 22216/22222 [00:31<00:00, 709.40it/s] \n"
     ]
    },
    {
     "name": "stdout",
     "output_type": "stream",
     "text": [
      "EvaluatorHoldout: Processed 10037 (100.0%) in 3.85 sec. Users per second: 2609\n",
      "SLIMElasticNetRecommender: URM Detected 449 ( 3.6%) users with no interactions.\n",
      "SLIMElasticNetRecommender: URM Detected 320 ( 1.4%) items with no interactions.\n"
     ]
    },
    {
     "name": "stderr",
     "output_type": "stream",
     "text": [
      "100%|█████████▉| 22216/22222 [00:31<00:00, 707.50it/s] \n"
     ]
    },
    {
     "name": "stdout",
     "output_type": "stream",
     "text": [
      "EvaluatorHoldout: Processed 9989 (100.0%) in 3.88 sec. Users per second: 2577\n",
      "SLIMElasticNetRecommender: URM Detected 460 ( 3.6%) users with no interactions.\n",
      "SLIMElasticNetRecommender: URM Detected 328 ( 1.5%) items with no interactions.\n"
     ]
    },
    {
     "name": "stderr",
     "output_type": "stream",
     "text": [
      "100%|█████████▉| 22216/22222 [00:32<00:00, 682.69it/s] \n"
     ]
    },
    {
     "name": "stdout",
     "output_type": "stream",
     "text": [
      "EvaluatorHoldout: Processed 10024 (100.0%) in 4.03 sec. Users per second: 2485\n",
      "SLIMElasticNetRecommender: URM Detected 426 ( 3.4%) users with no interactions.\n",
      "SLIMElasticNetRecommender: URM Detected 344 ( 1.5%) items with no interactions.\n"
     ]
    },
    {
     "name": "stderr",
     "output_type": "stream",
     "text": [
      "100%|█████████▉| 22216/22222 [00:31<00:00, 715.73it/s] \n"
     ]
    },
    {
     "name": "stdout",
     "output_type": "stream",
     "text": [
      "EvaluatorHoldout: Processed 10030 (100.0%) in 4.71 sec. Users per second: 2129\n",
      "SLIMElasticNetRecommender: URM Detected 471 ( 3.7%) users with no interactions.\n",
      "SLIMElasticNetRecommender: URM Detected 362 ( 1.6%) items with no interactions.\n"
     ]
    },
    {
     "name": "stderr",
     "output_type": "stream",
     "text": [
      "100%|█████████▉| 22216/22222 [00:28<00:00, 788.99it/s] \n"
     ]
    },
    {
     "name": "stdout",
     "output_type": "stream",
     "text": [
      "EvaluatorHoldout: Processed 10052 (100.0%) in 5.07 sec. Users per second: 1983\n",
      "SLIMElasticNetRecommender: URM Detected 478 ( 3.8%) users with no interactions.\n",
      "SLIMElasticNetRecommender: URM Detected 329 ( 1.5%) items with no interactions.\n"
     ]
    },
    {
     "name": "stderr",
     "output_type": "stream",
     "text": [
      "100%|█████████▉| 22216/22222 [00:32<00:00, 684.02it/s] \n"
     ]
    },
    {
     "name": "stdout",
     "output_type": "stream",
     "text": [
      "EvaluatorHoldout: Processed 10045 (100.0%) in 4.26 sec. Users per second: 2360\n",
      "SLIMElasticNetRecommender: URM Detected 460 ( 3.6%) users with no interactions.\n",
      "SLIMElasticNetRecommender: URM Detected 348 ( 1.6%) items with no interactions.\n"
     ]
    },
    {
     "name": "stderr",
     "output_type": "stream",
     "text": [
      "100%|█████████▉| 22216/22222 [00:35<00:00, 623.81it/s] \n"
     ]
    },
    {
     "name": "stdout",
     "output_type": "stream",
     "text": [
      "EvaluatorHoldout: Processed 10068 (100.0%) in 5.22 sec. Users per second: 1930\n"
     ]
    },
    {
     "name": "stderr",
     "output_type": "stream",
     "text": [
      "[I 2024-01-10 06:42:23,926] Trial 151 finished with value: 0.029589512755716356 and parameters: {'alpha': 0.0015434581083165109, 'l1_ratio': 0.11476279517537548, 'topK': 8044}. Best is trial 129 with value: 0.029857465484101224.\n"
     ]
    },
    {
     "name": "stdout",
     "output_type": "stream",
     "text": [
      "SLIMElasticNetRecommender: URM Detected 508 ( 4.0%) users with no interactions.\n",
      "SLIMElasticNetRecommender: URM Detected 332 ( 1.5%) items with no interactions.\n"
     ]
    },
    {
     "name": "stderr",
     "output_type": "stream",
     "text": [
      "100%|█████████▉| 22216/22222 [00:25<00:00, 864.21it/s] \n"
     ]
    },
    {
     "name": "stdout",
     "output_type": "stream",
     "text": [
      "EvaluatorHoldout: Processed 10057 (100.0%) in 4.31 sec. Users per second: 2334\n",
      "SLIMElasticNetRecommender: URM Detected 440 ( 3.5%) users with no interactions.\n",
      "SLIMElasticNetRecommender: URM Detected 325 ( 1.5%) items with no interactions.\n"
     ]
    },
    {
     "name": "stderr",
     "output_type": "stream",
     "text": [
      "100%|█████████▉| 22216/22222 [00:25<00:00, 881.69it/s] \n"
     ]
    },
    {
     "name": "stdout",
     "output_type": "stream",
     "text": [
      "EvaluatorHoldout: Processed 10040 (100.0%) in 3.79 sec. Users per second: 2651\n",
      "SLIMElasticNetRecommender: URM Detected 479 ( 3.8%) users with no interactions.\n",
      "SLIMElasticNetRecommender: URM Detected 345 ( 1.6%) items with no interactions.\n"
     ]
    },
    {
     "name": "stderr",
     "output_type": "stream",
     "text": [
      "100%|█████████▉| 22216/22222 [00:24<00:00, 899.22it/s] \n"
     ]
    },
    {
     "name": "stdout",
     "output_type": "stream",
     "text": [
      "EvaluatorHoldout: Processed 10017 (100.0%) in 3.82 sec. Users per second: 2623\n",
      "SLIMElasticNetRecommender: URM Detected 451 ( 3.6%) users with no interactions.\n",
      "SLIMElasticNetRecommender: URM Detected 311 ( 1.4%) items with no interactions.\n"
     ]
    },
    {
     "name": "stderr",
     "output_type": "stream",
     "text": [
      "100%|█████████▉| 22216/22222 [00:21<00:00, 1010.65it/s]\n"
     ]
    },
    {
     "name": "stdout",
     "output_type": "stream",
     "text": [
      "EvaluatorHoldout: Processed 10037 (100.0%) in 4.22 sec. Users per second: 2376\n",
      "SLIMElasticNetRecommender: URM Detected 449 ( 3.6%) users with no interactions.\n",
      "SLIMElasticNetRecommender: URM Detected 320 ( 1.4%) items with no interactions.\n"
     ]
    },
    {
     "name": "stderr",
     "output_type": "stream",
     "text": [
      "100%|█████████▉| 22216/22222 [00:23<00:00, 943.49it/s] \n"
     ]
    },
    {
     "name": "stdout",
     "output_type": "stream",
     "text": [
      "EvaluatorHoldout: Processed 9989 (100.0%) in 3.97 sec. Users per second: 2519\n",
      "SLIMElasticNetRecommender: URM Detected 460 ( 3.6%) users with no interactions.\n",
      "SLIMElasticNetRecommender: URM Detected 328 ( 1.5%) items with no interactions.\n"
     ]
    },
    {
     "name": "stderr",
     "output_type": "stream",
     "text": [
      "100%|█████████▉| 22216/22222 [00:22<00:00, 985.55it/s] \n"
     ]
    },
    {
     "name": "stdout",
     "output_type": "stream",
     "text": [
      "EvaluatorHoldout: Processed 10024 (100.0%) in 4.17 sec. Users per second: 2402\n",
      "SLIMElasticNetRecommender: URM Detected 426 ( 3.4%) users with no interactions.\n",
      "SLIMElasticNetRecommender: URM Detected 344 ( 1.5%) items with no interactions.\n"
     ]
    },
    {
     "name": "stderr",
     "output_type": "stream",
     "text": [
      "100%|█████████▉| 22216/22222 [00:23<00:00, 943.87it/s] \n"
     ]
    },
    {
     "name": "stdout",
     "output_type": "stream",
     "text": [
      "EvaluatorHoldout: Processed 10030 (100.0%) in 3.23 sec. Users per second: 3106\n",
      "SLIMElasticNetRecommender: URM Detected 471 ( 3.7%) users with no interactions.\n",
      "SLIMElasticNetRecommender: URM Detected 362 ( 1.6%) items with no interactions.\n"
     ]
    },
    {
     "name": "stderr",
     "output_type": "stream",
     "text": [
      "100%|█████████▉| 22216/22222 [00:23<00:00, 941.88it/s] \n"
     ]
    },
    {
     "name": "stdout",
     "output_type": "stream",
     "text": [
      "EvaluatorHoldout: Processed 10052 (100.0%) in 4.09 sec. Users per second: 2459\n",
      "SLIMElasticNetRecommender: URM Detected 478 ( 3.8%) users with no interactions.\n",
      "SLIMElasticNetRecommender: URM Detected 329 ( 1.5%) items with no interactions.\n"
     ]
    },
    {
     "name": "stderr",
     "output_type": "stream",
     "text": [
      "100%|█████████▉| 22216/22222 [00:23<00:00, 961.51it/s] \n"
     ]
    },
    {
     "name": "stdout",
     "output_type": "stream",
     "text": [
      "EvaluatorHoldout: Processed 10045 (100.0%) in 3.82 sec. Users per second: 2628\n",
      "SLIMElasticNetRecommender: URM Detected 460 ( 3.6%) users with no interactions.\n",
      "SLIMElasticNetRecommender: URM Detected 348 ( 1.6%) items with no interactions.\n"
     ]
    },
    {
     "name": "stderr",
     "output_type": "stream",
     "text": [
      "100%|█████████▉| 22216/22222 [00:23<00:00, 946.91it/s] \n"
     ]
    },
    {
     "name": "stdout",
     "output_type": "stream",
     "text": [
      "EvaluatorHoldout: Processed 10068 (100.0%) in 3.98 sec. Users per second: 2528\n"
     ]
    },
    {
     "name": "stderr",
     "output_type": "stream",
     "text": [
      "[I 2024-01-10 06:47:14,040] Trial 152 finished with value: 0.027990915181417934 and parameters: {'alpha': 0.0029985757337870128, 'l1_ratio': 0.12703081342372524, 'topK': 8752}. Best is trial 129 with value: 0.029857465484101224.\n"
     ]
    },
    {
     "name": "stdout",
     "output_type": "stream",
     "text": [
      "SLIMElasticNetRecommender: URM Detected 508 ( 4.0%) users with no interactions.\n",
      "SLIMElasticNetRecommender: URM Detected 332 ( 1.5%) items with no interactions.\n"
     ]
    },
    {
     "name": "stderr",
     "output_type": "stream",
     "text": [
      "100%|█████████▉| 22216/22222 [01:11<00:00, 311.71it/s]\n"
     ]
    },
    {
     "name": "stdout",
     "output_type": "stream",
     "text": [
      "EvaluatorHoldout: Processed 10057 (100.0%) in 4.13 sec. Users per second: 2435\n",
      "SLIMElasticNetRecommender: URM Detected 440 ( 3.5%) users with no interactions.\n",
      "SLIMElasticNetRecommender: URM Detected 325 ( 1.5%) items with no interactions.\n"
     ]
    },
    {
     "name": "stderr",
     "output_type": "stream",
     "text": [
      "100%|█████████▉| 22216/22222 [01:15<00:00, 295.03it/s]\n"
     ]
    },
    {
     "name": "stdout",
     "output_type": "stream",
     "text": [
      "EvaluatorHoldout: Processed 10040 (100.0%) in 5.04 sec. Users per second: 1991\n",
      "SLIMElasticNetRecommender: URM Detected 479 ( 3.8%) users with no interactions.\n",
      "SLIMElasticNetRecommender: URM Detected 345 ( 1.6%) items with no interactions.\n"
     ]
    },
    {
     "name": "stderr",
     "output_type": "stream",
     "text": [
      "100%|█████████▉| 22216/22222 [01:17<00:00, 286.71it/s]\n"
     ]
    },
    {
     "name": "stdout",
     "output_type": "stream",
     "text": [
      "EvaluatorHoldout: Processed 10017 (100.0%) in 5.34 sec. Users per second: 1874\n",
      "SLIMElasticNetRecommender: URM Detected 451 ( 3.6%) users with no interactions.\n",
      "SLIMElasticNetRecommender: URM Detected 311 ( 1.4%) items with no interactions.\n"
     ]
    },
    {
     "name": "stderr",
     "output_type": "stream",
     "text": [
      "100%|█████████▉| 22216/22222 [01:04<00:00, 342.81it/s]\n"
     ]
    },
    {
     "name": "stdout",
     "output_type": "stream",
     "text": [
      "EvaluatorHoldout: Processed 10037 (100.0%) in 4.32 sec. Users per second: 2324\n",
      "SLIMElasticNetRecommender: URM Detected 449 ( 3.6%) users with no interactions.\n",
      "SLIMElasticNetRecommender: URM Detected 320 ( 1.4%) items with no interactions.\n"
     ]
    },
    {
     "name": "stderr",
     "output_type": "stream",
     "text": [
      "100%|█████████▉| 22216/22222 [01:09<00:00, 319.36it/s]\n"
     ]
    },
    {
     "name": "stdout",
     "output_type": "stream",
     "text": [
      "EvaluatorHoldout: Processed 9989 (100.0%) in 5.52 sec. Users per second: 1810\n",
      "SLIMElasticNetRecommender: URM Detected 460 ( 3.6%) users with no interactions.\n",
      "SLIMElasticNetRecommender: URM Detected 328 ( 1.5%) items with no interactions.\n"
     ]
    },
    {
     "name": "stderr",
     "output_type": "stream",
     "text": [
      "100%|█████████▉| 22216/22222 [01:08<00:00, 322.32it/s]\n"
     ]
    },
    {
     "name": "stdout",
     "output_type": "stream",
     "text": [
      "EvaluatorHoldout: Processed 10024 (100.0%) in 5.44 sec. Users per second: 1843\n",
      "SLIMElasticNetRecommender: URM Detected 426 ( 3.4%) users with no interactions.\n",
      "SLIMElasticNetRecommender: URM Detected 344 ( 1.5%) items with no interactions.\n"
     ]
    },
    {
     "name": "stderr",
     "output_type": "stream",
     "text": [
      "100%|█████████▉| 22216/22222 [01:08<00:00, 325.01it/s]\n"
     ]
    },
    {
     "name": "stdout",
     "output_type": "stream",
     "text": [
      "EvaluatorHoldout: Processed 10030 (100.0%) in 5.50 sec. Users per second: 1823\n",
      "SLIMElasticNetRecommender: URM Detected 471 ( 3.7%) users with no interactions.\n",
      "SLIMElasticNetRecommender: URM Detected 362 ( 1.6%) items with no interactions.\n"
     ]
    },
    {
     "name": "stderr",
     "output_type": "stream",
     "text": [
      "100%|█████████▉| 22216/22222 [01:07<00:00, 329.77it/s]\n"
     ]
    },
    {
     "name": "stdout",
     "output_type": "stream",
     "text": [
      "EvaluatorHoldout: Processed 10052 (100.0%) in 5.32 sec. Users per second: 1890\n",
      "SLIMElasticNetRecommender: URM Detected 478 ( 3.8%) users with no interactions.\n",
      "SLIMElasticNetRecommender: URM Detected 329 ( 1.5%) items with no interactions.\n"
     ]
    },
    {
     "name": "stderr",
     "output_type": "stream",
     "text": [
      "100%|█████████▉| 22216/22222 [01:12<00:00, 305.74it/s]\n"
     ]
    },
    {
     "name": "stdout",
     "output_type": "stream",
     "text": [
      "EvaluatorHoldout: Processed 10045 (100.0%) in 5.15 sec. Users per second: 1952\n",
      "SLIMElasticNetRecommender: URM Detected 460 ( 3.6%) users with no interactions.\n",
      "SLIMElasticNetRecommender: URM Detected 348 ( 1.6%) items with no interactions.\n"
     ]
    },
    {
     "name": "stderr",
     "output_type": "stream",
     "text": [
      "100%|█████████▉| 22216/22222 [01:13<00:00, 300.94it/s]\n"
     ]
    },
    {
     "name": "stdout",
     "output_type": "stream",
     "text": [
      "EvaluatorHoldout: Processed 10068 (100.0%) in 5.34 sec. Users per second: 1885\n"
     ]
    },
    {
     "name": "stderr",
     "output_type": "stream",
     "text": [
      "[I 2024-01-10 07:00:09,386] Trial 153 finished with value: 0.026856745446686852 and parameters: {'alpha': 0.0002856706583539522, 'l1_ratio': 0.09467035354268234, 'topK': 8282}. Best is trial 129 with value: 0.029857465484101224.\n"
     ]
    },
    {
     "name": "stdout",
     "output_type": "stream",
     "text": [
      "SLIMElasticNetRecommender: URM Detected 508 ( 4.0%) users with no interactions.\n",
      "SLIMElasticNetRecommender: URM Detected 332 ( 1.5%) items with no interactions.\n"
     ]
    },
    {
     "name": "stderr",
     "output_type": "stream",
     "text": [
      "100%|█████████▉| 22216/22222 [00:31<00:00, 713.06it/s] \n"
     ]
    },
    {
     "name": "stdout",
     "output_type": "stream",
     "text": [
      "EvaluatorHoldout: Processed 10057 (100.0%) in 5.10 sec. Users per second: 1972\n",
      "SLIMElasticNetRecommender: URM Detected 440 ( 3.5%) users with no interactions.\n",
      "SLIMElasticNetRecommender: URM Detected 325 ( 1.5%) items with no interactions.\n"
     ]
    },
    {
     "name": "stderr",
     "output_type": "stream",
     "text": [
      "100%|█████████▉| 22216/22222 [00:32<00:00, 684.58it/s] \n"
     ]
    },
    {
     "name": "stdout",
     "output_type": "stream",
     "text": [
      "EvaluatorHoldout: Processed 10040 (100.0%) in 4.59 sec. Users per second: 2189\n",
      "SLIMElasticNetRecommender: URM Detected 479 ( 3.8%) users with no interactions.\n",
      "SLIMElasticNetRecommender: URM Detected 345 ( 1.6%) items with no interactions.\n"
     ]
    },
    {
     "name": "stderr",
     "output_type": "stream",
     "text": [
      "100%|█████████▉| 22216/22222 [00:34<00:00, 644.45it/s] \n"
     ]
    },
    {
     "name": "stdout",
     "output_type": "stream",
     "text": [
      "EvaluatorHoldout: Processed 10017 (100.0%) in 3.64 sec. Users per second: 2749\n",
      "SLIMElasticNetRecommender: URM Detected 451 ( 3.6%) users with no interactions.\n",
      "SLIMElasticNetRecommender: URM Detected 311 ( 1.4%) items with no interactions.\n"
     ]
    },
    {
     "name": "stderr",
     "output_type": "stream",
     "text": [
      "100%|█████████▉| 22216/22222 [00:33<00:00, 663.38it/s] \n"
     ]
    },
    {
     "name": "stdout",
     "output_type": "stream",
     "text": [
      "EvaluatorHoldout: Processed 10037 (100.0%) in 4.64 sec. Users per second: 2163\n",
      "SLIMElasticNetRecommender: URM Detected 449 ( 3.6%) users with no interactions.\n",
      "SLIMElasticNetRecommender: URM Detected 320 ( 1.4%) items with no interactions.\n"
     ]
    },
    {
     "name": "stderr",
     "output_type": "stream",
     "text": [
      "100%|█████████▉| 22216/22222 [00:32<00:00, 680.30it/s] \n"
     ]
    },
    {
     "name": "stdout",
     "output_type": "stream",
     "text": [
      "EvaluatorHoldout: Processed 9989 (100.0%) in 4.78 sec. Users per second: 2090\n",
      "SLIMElasticNetRecommender: URM Detected 460 ( 3.6%) users with no interactions.\n",
      "SLIMElasticNetRecommender: URM Detected 328 ( 1.5%) items with no interactions.\n"
     ]
    },
    {
     "name": "stderr",
     "output_type": "stream",
     "text": [
      "100%|█████████▉| 22216/22222 [00:32<00:00, 677.06it/s] \n"
     ]
    },
    {
     "name": "stdout",
     "output_type": "stream",
     "text": [
      "EvaluatorHoldout: Processed 10024 (100.0%) in 3.63 sec. Users per second: 2760\n",
      "SLIMElasticNetRecommender: URM Detected 426 ( 3.4%) users with no interactions.\n",
      "SLIMElasticNetRecommender: URM Detected 344 ( 1.5%) items with no interactions.\n"
     ]
    },
    {
     "name": "stderr",
     "output_type": "stream",
     "text": [
      "100%|█████████▉| 22216/22222 [00:34<00:00, 638.02it/s] \n"
     ]
    },
    {
     "name": "stdout",
     "output_type": "stream",
     "text": [
      "EvaluatorHoldout: Processed 10030 (100.0%) in 4.51 sec. Users per second: 2223\n",
      "SLIMElasticNetRecommender: URM Detected 471 ( 3.7%) users with no interactions.\n",
      "SLIMElasticNetRecommender: URM Detected 362 ( 1.6%) items with no interactions.\n"
     ]
    },
    {
     "name": "stderr",
     "output_type": "stream",
     "text": [
      "100%|█████████▉| 22216/22222 [00:31<00:00, 710.98it/s] \n"
     ]
    },
    {
     "name": "stdout",
     "output_type": "stream",
     "text": [
      "EvaluatorHoldout: Processed 10052 (100.0%) in 3.28 sec. Users per second: 3061\n",
      "SLIMElasticNetRecommender: URM Detected 478 ( 3.8%) users with no interactions.\n",
      "SLIMElasticNetRecommender: URM Detected 329 ( 1.5%) items with no interactions.\n"
     ]
    },
    {
     "name": "stderr",
     "output_type": "stream",
     "text": [
      "100%|█████████▉| 22216/22222 [00:31<00:00, 706.37it/s] \n"
     ]
    },
    {
     "name": "stdout",
     "output_type": "stream",
     "text": [
      "EvaluatorHoldout: Processed 10045 (100.0%) in 4.26 sec. Users per second: 2357\n",
      "SLIMElasticNetRecommender: URM Detected 460 ( 3.6%) users with no interactions.\n",
      "SLIMElasticNetRecommender: URM Detected 348 ( 1.6%) items with no interactions.\n"
     ]
    },
    {
     "name": "stderr",
     "output_type": "stream",
     "text": [
      "100%|█████████▉| 22216/22222 [00:32<00:00, 689.39it/s] \n"
     ]
    },
    {
     "name": "stdout",
     "output_type": "stream",
     "text": [
      "EvaluatorHoldout: Processed 10068 (100.0%) in 4.98 sec. Users per second: 2023\n"
     ]
    },
    {
     "name": "stderr",
     "output_type": "stream",
     "text": [
      "[I 2024-01-10 07:06:33,041] Trial 157 finished with value: 0.029659106869754103 and parameters: {'alpha': 0.0013318399682327323, 'l1_ratio': 0.13451350321320027, 'topK': 8574}. Best is trial 129 with value: 0.029857465484101224.\n"
     ]
    },
    {
     "name": "stdout",
     "output_type": "stream",
     "text": [
      "SLIMElasticNetRecommender: URM Detected 508 ( 4.0%) users with no interactions.\n",
      "SLIMElasticNetRecommender: URM Detected 332 ( 1.5%) items with no interactions.\n"
     ]
    },
    {
     "name": "stderr",
     "output_type": "stream",
     "text": [
      "100%|█████████▉| 22216/22222 [00:42<00:00, 528.66it/s]\n"
     ]
    },
    {
     "name": "stdout",
     "output_type": "stream",
     "text": [
      "EvaluatorHoldout: Processed 10057 (100.0%) in 4.97 sec. Users per second: 2024\n",
      "SLIMElasticNetRecommender: URM Detected 440 ( 3.5%) users with no interactions.\n",
      "SLIMElasticNetRecommender: URM Detected 325 ( 1.5%) items with no interactions.\n"
     ]
    },
    {
     "name": "stderr",
     "output_type": "stream",
     "text": [
      "100%|█████████▉| 22216/22222 [00:41<00:00, 535.64it/s]\n"
     ]
    },
    {
     "name": "stdout",
     "output_type": "stream",
     "text": [
      "EvaluatorHoldout: Processed 10040 (100.0%) in 4.76 sec. Users per second: 2110\n",
      "SLIMElasticNetRecommender: URM Detected 479 ( 3.8%) users with no interactions.\n",
      "SLIMElasticNetRecommender: URM Detected 345 ( 1.6%) items with no interactions.\n"
     ]
    },
    {
     "name": "stderr",
     "output_type": "stream",
     "text": [
      "100%|█████████▉| 22216/22222 [00:42<00:00, 518.44it/s]\n"
     ]
    },
    {
     "name": "stdout",
     "output_type": "stream",
     "text": [
      "EvaluatorHoldout: Processed 10017 (100.0%) in 4.27 sec. Users per second: 2348\n",
      "SLIMElasticNetRecommender: URM Detected 451 ( 3.6%) users with no interactions.\n",
      "SLIMElasticNetRecommender: URM Detected 311 ( 1.4%) items with no interactions.\n"
     ]
    },
    {
     "name": "stderr",
     "output_type": "stream",
     "text": [
      "100%|█████████▉| 22216/22222 [00:41<00:00, 538.27it/s]\n"
     ]
    },
    {
     "name": "stdout",
     "output_type": "stream",
     "text": [
      "EvaluatorHoldout: Processed 10037 (100.0%) in 4.90 sec. Users per second: 2049\n",
      "SLIMElasticNetRecommender: URM Detected 449 ( 3.6%) users with no interactions.\n",
      "SLIMElasticNetRecommender: URM Detected 320 ( 1.4%) items with no interactions.\n"
     ]
    },
    {
     "name": "stderr",
     "output_type": "stream",
     "text": [
      "100%|█████████▉| 22216/22222 [00:42<00:00, 524.52it/s]\n"
     ]
    },
    {
     "name": "stdout",
     "output_type": "stream",
     "text": [
      "EvaluatorHoldout: Processed 9989 (100.0%) in 4.04 sec. Users per second: 2475\n",
      "SLIMElasticNetRecommender: URM Detected 460 ( 3.6%) users with no interactions.\n",
      "SLIMElasticNetRecommender: URM Detected 328 ( 1.5%) items with no interactions.\n"
     ]
    },
    {
     "name": "stderr",
     "output_type": "stream",
     "text": [
      "100%|█████████▉| 22216/22222 [00:41<00:00, 532.26it/s]\n"
     ]
    },
    {
     "name": "stdout",
     "output_type": "stream",
     "text": [
      "EvaluatorHoldout: Processed 10024 (100.0%) in 3.80 sec. Users per second: 2637\n",
      "SLIMElasticNetRecommender: URM Detected 426 ( 3.4%) users with no interactions.\n",
      "SLIMElasticNetRecommender: URM Detected 344 ( 1.5%) items with no interactions.\n"
     ]
    },
    {
     "name": "stderr",
     "output_type": "stream",
     "text": [
      "100%|█████████▉| 22216/22222 [00:42<00:00, 519.33it/s]\n"
     ]
    },
    {
     "name": "stdout",
     "output_type": "stream",
     "text": [
      "EvaluatorHoldout: Processed 10030 (100.0%) in 3.72 sec. Users per second: 2698\n",
      "SLIMElasticNetRecommender: URM Detected 471 ( 3.7%) users with no interactions.\n",
      "SLIMElasticNetRecommender: URM Detected 362 ( 1.6%) items with no interactions.\n"
     ]
    },
    {
     "name": "stderr",
     "output_type": "stream",
     "text": [
      "100%|█████████▉| 22216/22222 [00:30<00:00, 718.97it/s]\n"
     ]
    },
    {
     "name": "stdout",
     "output_type": "stream",
     "text": [
      "EvaluatorHoldout: Processed 10052 (100.0%) in 3.54 sec. Users per second: 2840\n",
      "SLIMElasticNetRecommender: URM Detected 478 ( 3.8%) users with no interactions.\n",
      "SLIMElasticNetRecommender: URM Detected 329 ( 1.5%) items with no interactions.\n"
     ]
    },
    {
     "name": "stderr",
     "output_type": "stream",
     "text": [
      "100%|█████████▉| 22216/22222 [00:32<00:00, 684.88it/s] \n"
     ]
    },
    {
     "name": "stdout",
     "output_type": "stream",
     "text": [
      "EvaluatorHoldout: Processed 10045 (100.0%) in 3.77 sec. Users per second: 2662\n",
      "SLIMElasticNetRecommender: URM Detected 460 ( 3.6%) users with no interactions.\n",
      "SLIMElasticNetRecommender: URM Detected 348 ( 1.6%) items with no interactions.\n"
     ]
    },
    {
     "name": "stderr",
     "output_type": "stream",
     "text": [
      "100%|█████████▉| 22216/22222 [00:32<00:00, 692.31it/s]\n"
     ]
    },
    {
     "name": "stdout",
     "output_type": "stream",
     "text": [
      "EvaluatorHoldout: Processed 10068 (100.0%) in 3.61 sec. Users per second: 2792\n"
     ]
    },
    {
     "name": "stderr",
     "output_type": "stream",
     "text": [
      "[I 2024-01-10 07:13:57,652] Trial 159 finished with value: 0.029787867230949488 and parameters: {'alpha': 0.00119646871054121, 'l1_ratio': 0.12214888978222407, 'topK': 8030}. Best is trial 129 with value: 0.029857465484101224.\n"
     ]
    },
    {
     "name": "stdout",
     "output_type": "stream",
     "text": [
      "SLIMElasticNetRecommender: URM Detected 508 ( 4.0%) users with no interactions.\n",
      "SLIMElasticNetRecommender: URM Detected 332 ( 1.5%) items with no interactions.\n"
     ]
    },
    {
     "name": "stderr",
     "output_type": "stream",
     "text": [
      "100%|█████████▉| 22216/22222 [00:24<00:00, 902.78it/s] \n"
     ]
    },
    {
     "name": "stdout",
     "output_type": "stream",
     "text": [
      "EvaluatorHoldout: Processed 10057 (100.0%) in 3.20 sec. Users per second: 3147\n",
      "SLIMElasticNetRecommender: URM Detected 440 ( 3.5%) users with no interactions.\n",
      "SLIMElasticNetRecommender: URM Detected 325 ( 1.5%) items with no interactions.\n"
     ]
    },
    {
     "name": "stderr",
     "output_type": "stream",
     "text": [
      "100%|█████████▉| 22216/22222 [00:24<00:00, 897.97it/s] \n"
     ]
    },
    {
     "name": "stdout",
     "output_type": "stream",
     "text": [
      "EvaluatorHoldout: Processed 10040 (100.0%) in 3.26 sec. Users per second: 3080\n",
      "SLIMElasticNetRecommender: URM Detected 479 ( 3.8%) users with no interactions.\n",
      "SLIMElasticNetRecommender: URM Detected 345 ( 1.6%) items with no interactions.\n"
     ]
    },
    {
     "name": "stderr",
     "output_type": "stream",
     "text": [
      "100%|█████████▉| 22216/22222 [00:24<00:00, 899.50it/s] \n"
     ]
    },
    {
     "name": "stdout",
     "output_type": "stream",
     "text": [
      "EvaluatorHoldout: Processed 10017 (100.0%) in 3.28 sec. Users per second: 3059\n",
      "SLIMElasticNetRecommender: URM Detected 451 ( 3.6%) users with no interactions.\n",
      "SLIMElasticNetRecommender: URM Detected 311 ( 1.4%) items with no interactions.\n"
     ]
    },
    {
     "name": "stderr",
     "output_type": "stream",
     "text": [
      "100%|█████████▉| 22216/22222 [00:23<00:00, 929.25it/s] \n"
     ]
    },
    {
     "name": "stdout",
     "output_type": "stream",
     "text": [
      "EvaluatorHoldout: Processed 10037 (100.0%) in 3.41 sec. Users per second: 2943\n",
      "SLIMElasticNetRecommender: URM Detected 449 ( 3.6%) users with no interactions.\n",
      "SLIMElasticNetRecommender: URM Detected 320 ( 1.4%) items with no interactions.\n"
     ]
    },
    {
     "name": "stderr",
     "output_type": "stream",
     "text": [
      "100%|█████████▉| 22216/22222 [00:24<00:00, 898.16it/s] \n"
     ]
    },
    {
     "name": "stdout",
     "output_type": "stream",
     "text": [
      "EvaluatorHoldout: Processed 9989 (100.0%) in 3.29 sec. Users per second: 3032\n",
      "SLIMElasticNetRecommender: URM Detected 460 ( 3.6%) users with no interactions.\n",
      "SLIMElasticNetRecommender: URM Detected 328 ( 1.5%) items with no interactions.\n"
     ]
    },
    {
     "name": "stderr",
     "output_type": "stream",
     "text": [
      "100%|█████████▉| 22216/22222 [00:25<00:00, 876.51it/s] \n"
     ]
    },
    {
     "name": "stdout",
     "output_type": "stream",
     "text": [
      "EvaluatorHoldout: Processed 10024 (100.0%) in 4.22 sec. Users per second: 2376\n",
      "SLIMElasticNetRecommender: URM Detected 426 ( 3.4%) users with no interactions.\n",
      "SLIMElasticNetRecommender: URM Detected 344 ( 1.5%) items with no interactions.\n"
     ]
    },
    {
     "name": "stderr",
     "output_type": "stream",
     "text": [
      "100%|█████████▉| 22216/22222 [00:30<00:00, 722.98it/s] \n"
     ]
    },
    {
     "name": "stdout",
     "output_type": "stream",
     "text": [
      "EvaluatorHoldout: Processed 10030 (100.0%) in 4.19 sec. Users per second: 2395\n",
      "SLIMElasticNetRecommender: URM Detected 471 ( 3.7%) users with no interactions.\n",
      "SLIMElasticNetRecommender: URM Detected 362 ( 1.6%) items with no interactions.\n"
     ]
    },
    {
     "name": "stderr",
     "output_type": "stream",
     "text": [
      "100%|█████████▉| 22216/22222 [00:31<00:00, 706.39it/s] \n"
     ]
    },
    {
     "name": "stdout",
     "output_type": "stream",
     "text": [
      "EvaluatorHoldout: Processed 10052 (100.0%) in 4.49 sec. Users per second: 2237\n",
      "SLIMElasticNetRecommender: URM Detected 478 ( 3.8%) users with no interactions.\n",
      "SLIMElasticNetRecommender: URM Detected 329 ( 1.5%) items with no interactions.\n"
     ]
    },
    {
     "name": "stderr",
     "output_type": "stream",
     "text": [
      "100%|█████████▉| 22216/22222 [00:29<00:00, 743.21it/s] \n"
     ]
    },
    {
     "name": "stdout",
     "output_type": "stream",
     "text": [
      "EvaluatorHoldout: Processed 10045 (100.0%) in 4.26 sec. Users per second: 2359\n",
      "SLIMElasticNetRecommender: URM Detected 460 ( 3.6%) users with no interactions.\n",
      "SLIMElasticNetRecommender: URM Detected 348 ( 1.6%) items with no interactions.\n"
     ]
    },
    {
     "name": "stderr",
     "output_type": "stream",
     "text": [
      "100%|█████████▉| 22216/22222 [00:30<00:00, 721.66it/s] \n"
     ]
    },
    {
     "name": "stdout",
     "output_type": "stream",
     "text": [
      "EvaluatorHoldout: Processed 10068 (100.0%) in 4.20 sec. Users per second: 2396\n"
     ]
    },
    {
     "name": "stderr",
     "output_type": "stream",
     "text": [
      "[I 2024-01-10 07:19:19,470] Trial 160 finished with value: 0.029727207752070727 and parameters: {'alpha': 0.0011889239587444744, 'l1_ratio': 0.1366830207626257, 'topK': 8338}. Best is trial 129 with value: 0.029857465484101224.\n"
     ]
    },
    {
     "name": "stdout",
     "output_type": "stream",
     "text": [
      "SLIMElasticNetRecommender: URM Detected 508 ( 4.0%) users with no interactions.\n",
      "SLIMElasticNetRecommender: URM Detected 332 ( 1.5%) items with no interactions.\n"
     ]
    },
    {
     "name": "stderr",
     "output_type": "stream",
     "text": [
      "100%|█████████▉| 22216/22222 [00:42<00:00, 526.36it/s]\n"
     ]
    },
    {
     "name": "stdout",
     "output_type": "stream",
     "text": [
      "EvaluatorHoldout: Processed 10057 (100.0%) in 4.67 sec. Users per second: 2153\n",
      "SLIMElasticNetRecommender: URM Detected 440 ( 3.5%) users with no interactions.\n",
      "SLIMElasticNetRecommender: URM Detected 325 ( 1.5%) items with no interactions.\n"
     ]
    },
    {
     "name": "stderr",
     "output_type": "stream",
     "text": [
      "100%|█████████▉| 22216/22222 [00:42<00:00, 518.94it/s]\n"
     ]
    },
    {
     "name": "stdout",
     "output_type": "stream",
     "text": [
      "EvaluatorHoldout: Processed 10040 (100.0%) in 4.44 sec. Users per second: 2263\n",
      "SLIMElasticNetRecommender: URM Detected 479 ( 3.8%) users with no interactions.\n",
      "SLIMElasticNetRecommender: URM Detected 345 ( 1.6%) items with no interactions.\n"
     ]
    },
    {
     "name": "stderr",
     "output_type": "stream",
     "text": [
      "100%|█████████▉| 22216/22222 [00:42<00:00, 519.98it/s]\n"
     ]
    },
    {
     "name": "stdout",
     "output_type": "stream",
     "text": [
      "EvaluatorHoldout: Processed 10017 (100.0%) in 4.79 sec. Users per second: 2091\n",
      "SLIMElasticNetRecommender: URM Detected 451 ( 3.6%) users with no interactions.\n",
      "SLIMElasticNetRecommender: URM Detected 311 ( 1.4%) items with no interactions.\n"
     ]
    },
    {
     "name": "stderr",
     "output_type": "stream",
     "text": [
      "100%|█████████▉| 22216/22222 [00:37<00:00, 595.50it/s]\n"
     ]
    },
    {
     "name": "stdout",
     "output_type": "stream",
     "text": [
      "EvaluatorHoldout: Processed 10037 (100.0%) in 5.39 sec. Users per second: 1862\n",
      "SLIMElasticNetRecommender: URM Detected 449 ( 3.6%) users with no interactions.\n",
      "SLIMElasticNetRecommender: URM Detected 320 ( 1.4%) items with no interactions.\n"
     ]
    },
    {
     "name": "stderr",
     "output_type": "stream",
     "text": [
      "100%|█████████▉| 22216/22222 [00:44<00:00, 499.20it/s]\n"
     ]
    },
    {
     "name": "stdout",
     "output_type": "stream",
     "text": [
      "EvaluatorHoldout: Processed 9989 (100.0%) in 4.09 sec. Users per second: 2441\n",
      "SLIMElasticNetRecommender: URM Detected 460 ( 3.6%) users with no interactions.\n",
      "SLIMElasticNetRecommender: URM Detected 328 ( 1.5%) items with no interactions.\n"
     ]
    },
    {
     "name": "stderr",
     "output_type": "stream",
     "text": [
      "100%|█████████▉| 22216/22222 [00:43<00:00, 516.32it/s]\n"
     ]
    },
    {
     "name": "stdout",
     "output_type": "stream",
     "text": [
      "EvaluatorHoldout: Processed 10024 (100.0%) in 4.88 sec. Users per second: 2053\n",
      "SLIMElasticNetRecommender: URM Detected 426 ( 3.4%) users with no interactions.\n",
      "SLIMElasticNetRecommender: URM Detected 344 ( 1.5%) items with no interactions.\n"
     ]
    },
    {
     "name": "stderr",
     "output_type": "stream",
     "text": [
      "100%|█████████▉| 22216/22222 [00:44<00:00, 499.81it/s]\n"
     ]
    },
    {
     "name": "stdout",
     "output_type": "stream",
     "text": [
      "EvaluatorHoldout: Processed 10030 (100.0%) in 3.95 sec. Users per second: 2537\n",
      "SLIMElasticNetRecommender: URM Detected 471 ( 3.7%) users with no interactions.\n",
      "SLIMElasticNetRecommender: URM Detected 362 ( 1.6%) items with no interactions.\n"
     ]
    },
    {
     "name": "stderr",
     "output_type": "stream",
     "text": [
      "100%|█████████▉| 22216/22222 [00:45<00:00, 493.02it/s]\n"
     ]
    },
    {
     "name": "stdout",
     "output_type": "stream",
     "text": [
      "EvaluatorHoldout: Processed 10052 (100.0%) in 5.29 sec. Users per second: 1900\n",
      "SLIMElasticNetRecommender: URM Detected 478 ( 3.8%) users with no interactions.\n",
      "SLIMElasticNetRecommender: URM Detected 329 ( 1.5%) items with no interactions.\n"
     ]
    },
    {
     "name": "stderr",
     "output_type": "stream",
     "text": [
      "100%|█████████▉| 22216/22222 [00:42<00:00, 525.22it/s]\n"
     ]
    },
    {
     "name": "stdout",
     "output_type": "stream",
     "text": [
      "EvaluatorHoldout: Processed 10045 (100.0%) in 5.03 sec. Users per second: 1995\n",
      "SLIMElasticNetRecommender: URM Detected 460 ( 3.6%) users with no interactions.\n",
      "SLIMElasticNetRecommender: URM Detected 348 ( 1.6%) items with no interactions.\n"
     ]
    },
    {
     "name": "stderr",
     "output_type": "stream",
     "text": [
      "100%|█████████▉| 22216/22222 [00:43<00:00, 507.52it/s]\n"
     ]
    },
    {
     "name": "stdout",
     "output_type": "stream",
     "text": [
      "EvaluatorHoldout: Processed 10068 (100.0%) in 4.28 sec. Users per second: 2354\n"
     ]
    },
    {
     "name": "stderr",
     "output_type": "stream",
     "text": [
      "[I 2024-01-10 07:27:27,740] Trial 161 finished with value: 0.029782563051120026 and parameters: {'alpha': 0.0009641387641373879, 'l1_ratio': 0.08961633397644207, 'topK': 8182}. Best is trial 129 with value: 0.029857465484101224.\n"
     ]
    },
    {
     "name": "stdout",
     "output_type": "stream",
     "text": [
      "SLIMElasticNetRecommender: URM Detected 508 ( 4.0%) users with no interactions.\n",
      "SLIMElasticNetRecommender: URM Detected 332 ( 1.5%) items with no interactions.\n"
     ]
    },
    {
     "name": "stderr",
     "output_type": "stream",
     "text": [
      "100%|█████████▉| 22216/22222 [00:41<00:00, 530.85it/s]\n"
     ]
    },
    {
     "name": "stdout",
     "output_type": "stream",
     "text": [
      "EvaluatorHoldout: Processed 10057 (100.0%) in 4.51 sec. Users per second: 2228\n",
      "SLIMElasticNetRecommender: URM Detected 440 ( 3.5%) users with no interactions.\n",
      "SLIMElasticNetRecommender: URM Detected 325 ( 1.5%) items with no interactions.\n"
     ]
    },
    {
     "name": "stderr",
     "output_type": "stream",
     "text": [
      "100%|█████████▉| 22216/22222 [00:42<00:00, 528.52it/s]\n"
     ]
    },
    {
     "name": "stdout",
     "output_type": "stream",
     "text": [
      "EvaluatorHoldout: Processed 10040 (100.0%) in 4.86 sec. Users per second: 2068\n",
      "SLIMElasticNetRecommender: URM Detected 479 ( 3.8%) users with no interactions.\n",
      "SLIMElasticNetRecommender: URM Detected 345 ( 1.6%) items with no interactions.\n"
     ]
    },
    {
     "name": "stderr",
     "output_type": "stream",
     "text": [
      "100%|█████████▉| 22216/22222 [00:42<00:00, 518.53it/s]\n"
     ]
    },
    {
     "name": "stdout",
     "output_type": "stream",
     "text": [
      "EvaluatorHoldout: Processed 10017 (100.0%) in 4.56 sec. Users per second: 2195\n",
      "SLIMElasticNetRecommender: URM Detected 451 ( 3.6%) users with no interactions.\n",
      "SLIMElasticNetRecommender: URM Detected 311 ( 1.4%) items with no interactions.\n"
     ]
    },
    {
     "name": "stderr",
     "output_type": "stream",
     "text": [
      "100%|█████████▉| 22216/22222 [00:40<00:00, 545.57it/s]\n"
     ]
    },
    {
     "name": "stdout",
     "output_type": "stream",
     "text": [
      "EvaluatorHoldout: Processed 10037 (100.0%) in 4.77 sec. Users per second: 2105\n",
      "SLIMElasticNetRecommender: URM Detected 449 ( 3.6%) users with no interactions.\n",
      "SLIMElasticNetRecommender: URM Detected 320 ( 1.4%) items with no interactions.\n"
     ]
    },
    {
     "name": "stderr",
     "output_type": "stream",
     "text": [
      "100%|█████████▉| 22216/22222 [00:41<00:00, 528.98it/s]\n"
     ]
    },
    {
     "name": "stdout",
     "output_type": "stream",
     "text": [
      "EvaluatorHoldout: Processed 9989 (100.0%) in 4.70 sec. Users per second: 2126\n",
      "SLIMElasticNetRecommender: URM Detected 460 ( 3.6%) users with no interactions.\n",
      "SLIMElasticNetRecommender: URM Detected 328 ( 1.5%) items with no interactions.\n"
     ]
    },
    {
     "name": "stderr",
     "output_type": "stream",
     "text": [
      "100%|█████████▉| 22216/22222 [00:41<00:00, 529.23it/s]\n"
     ]
    },
    {
     "name": "stdout",
     "output_type": "stream",
     "text": [
      "EvaluatorHoldout: Processed 10024 (100.0%) in 3.99 sec. Users per second: 2513\n",
      "SLIMElasticNetRecommender: URM Detected 426 ( 3.4%) users with no interactions.\n",
      "SLIMElasticNetRecommender: URM Detected 344 ( 1.5%) items with no interactions.\n"
     ]
    },
    {
     "name": "stderr",
     "output_type": "stream",
     "text": [
      "100%|█████████▉| 22216/22222 [00:41<00:00, 534.07it/s]\n"
     ]
    },
    {
     "name": "stdout",
     "output_type": "stream",
     "text": [
      "EvaluatorHoldout: Processed 10030 (100.0%) in 5.32 sec. Users per second: 1886\n",
      "SLIMElasticNetRecommender: URM Detected 471 ( 3.7%) users with no interactions.\n",
      "SLIMElasticNetRecommender: URM Detected 362 ( 1.6%) items with no interactions.\n"
     ]
    },
    {
     "name": "stderr",
     "output_type": "stream",
     "text": [
      "100%|█████████▉| 22216/22222 [00:37<00:00, 586.98it/s]\n"
     ]
    },
    {
     "name": "stdout",
     "output_type": "stream",
     "text": [
      "EvaluatorHoldout: Processed 10052 (100.0%) in 3.64 sec. Users per second: 2759\n",
      "SLIMElasticNetRecommender: URM Detected 478 ( 3.8%) users with no interactions.\n",
      "SLIMElasticNetRecommender: URM Detected 329 ( 1.5%) items with no interactions.\n"
     ]
    },
    {
     "name": "stderr",
     "output_type": "stream",
     "text": [
      "100%|█████████▉| 22216/22222 [00:42<00:00, 528.90it/s]\n"
     ]
    },
    {
     "name": "stdout",
     "output_type": "stream",
     "text": [
      "EvaluatorHoldout: Processed 10045 (100.0%) in 4.71 sec. Users per second: 2133\n",
      "SLIMElasticNetRecommender: URM Detected 460 ( 3.6%) users with no interactions.\n",
      "SLIMElasticNetRecommender: URM Detected 348 ( 1.6%) items with no interactions.\n"
     ]
    },
    {
     "name": "stderr",
     "output_type": "stream",
     "text": [
      "100%|█████████▉| 22216/22222 [00:43<00:00, 512.41it/s]\n"
     ]
    },
    {
     "name": "stdout",
     "output_type": "stream",
     "text": [
      "EvaluatorHoldout: Processed 10068 (100.0%) in 4.06 sec. Users per second: 2483\n"
     ]
    },
    {
     "name": "stderr",
     "output_type": "stream",
     "text": [
      "[I 2024-01-10 07:35:22,469] Trial 162 finished with value: 0.02980260790839076 and parameters: {'alpha': 0.0014204320032178278, 'l1_ratio': 0.06756002653180271, 'topK': 2314}. Best is trial 129 with value: 0.029857465484101224.\n"
     ]
    },
    {
     "name": "stdout",
     "output_type": "stream",
     "text": [
      "SLIMElasticNetRecommender: URM Detected 508 ( 4.0%) users with no interactions.\n",
      "SLIMElasticNetRecommender: URM Detected 332 ( 1.5%) items with no interactions.\n"
     ]
    },
    {
     "name": "stderr",
     "output_type": "stream",
     "text": [
      "100%|█████████▉| 22216/22222 [00:44<00:00, 503.01it/s]\n"
     ]
    },
    {
     "name": "stdout",
     "output_type": "stream",
     "text": [
      "EvaluatorHoldout: Processed 10057 (100.0%) in 4.84 sec. Users per second: 2079\n",
      "SLIMElasticNetRecommender: URM Detected 440 ( 3.5%) users with no interactions.\n",
      "SLIMElasticNetRecommender: URM Detected 325 ( 1.5%) items with no interactions.\n"
     ]
    },
    {
     "name": "stderr",
     "output_type": "stream",
     "text": [
      "100%|█████████▉| 22216/22222 [00:42<00:00, 520.36it/s]\n"
     ]
    },
    {
     "name": "stdout",
     "output_type": "stream",
     "text": [
      "EvaluatorHoldout: Processed 10040 (100.0%) in 4.90 sec. Users per second: 2049\n",
      "SLIMElasticNetRecommender: URM Detected 479 ( 3.8%) users with no interactions.\n",
      "SLIMElasticNetRecommender: URM Detected 345 ( 1.6%) items with no interactions.\n"
     ]
    },
    {
     "name": "stderr",
     "output_type": "stream",
     "text": [
      "100%|█████████▉| 22216/22222 [00:44<00:00, 497.82it/s]\n"
     ]
    },
    {
     "name": "stdout",
     "output_type": "stream",
     "text": [
      "EvaluatorHoldout: Processed 10017 (100.0%) in 4.01 sec. Users per second: 2498\n",
      "SLIMElasticNetRecommender: URM Detected 451 ( 3.6%) users with no interactions.\n",
      "SLIMElasticNetRecommender: URM Detected 311 ( 1.4%) items with no interactions.\n"
     ]
    },
    {
     "name": "stderr",
     "output_type": "stream",
     "text": [
      "100%|█████████▉| 22216/22222 [00:41<00:00, 540.40it/s]\n"
     ]
    },
    {
     "name": "stdout",
     "output_type": "stream",
     "text": [
      "EvaluatorHoldout: Processed 10037 (100.0%) in 3.48 sec. Users per second: 2886\n",
      "SLIMElasticNetRecommender: URM Detected 449 ( 3.6%) users with no interactions.\n",
      "SLIMElasticNetRecommender: URM Detected 320 ( 1.4%) items with no interactions.\n"
     ]
    },
    {
     "name": "stderr",
     "output_type": "stream",
     "text": [
      "100%|█████████▉| 22216/22222 [00:41<00:00, 535.25it/s]\n"
     ]
    },
    {
     "name": "stdout",
     "output_type": "stream",
     "text": [
      "EvaluatorHoldout: Processed 9989 (100.0%) in 4.37 sec. Users per second: 2286\n",
      "SLIMElasticNetRecommender: URM Detected 460 ( 3.6%) users with no interactions.\n",
      "SLIMElasticNetRecommender: URM Detected 328 ( 1.5%) items with no interactions.\n"
     ]
    },
    {
     "name": "stderr",
     "output_type": "stream",
     "text": [
      "100%|█████████▉| 22216/22222 [00:43<00:00, 510.12it/s]\n"
     ]
    },
    {
     "name": "stdout",
     "output_type": "stream",
     "text": [
      "EvaluatorHoldout: Processed 10024 (100.0%) in 4.78 sec. Users per second: 2096\n",
      "SLIMElasticNetRecommender: URM Detected 426 ( 3.4%) users with no interactions.\n",
      "SLIMElasticNetRecommender: URM Detected 344 ( 1.5%) items with no interactions.\n"
     ]
    },
    {
     "name": "stderr",
     "output_type": "stream",
     "text": [
      "100%|█████████▉| 22216/22222 [00:46<00:00, 475.84it/s]\n"
     ]
    },
    {
     "name": "stdout",
     "output_type": "stream",
     "text": [
      "EvaluatorHoldout: Processed 10030 (100.0%) in 5.18 sec. Users per second: 1937\n",
      "SLIMElasticNetRecommender: URM Detected 471 ( 3.7%) users with no interactions.\n",
      "SLIMElasticNetRecommender: URM Detected 362 ( 1.6%) items with no interactions.\n"
     ]
    },
    {
     "name": "stderr",
     "output_type": "stream",
     "text": [
      "100%|█████████▉| 22216/22222 [00:48<00:00, 462.50it/s]\n"
     ]
    },
    {
     "name": "stdout",
     "output_type": "stream",
     "text": [
      "EvaluatorHoldout: Processed 10052 (100.0%) in 4.93 sec. Users per second: 2040\n",
      "SLIMElasticNetRecommender: URM Detected 478 ( 3.8%) users with no interactions.\n",
      "SLIMElasticNetRecommender: URM Detected 329 ( 1.5%) items with no interactions.\n"
     ]
    },
    {
     "name": "stderr",
     "output_type": "stream",
     "text": [
      "100%|█████████▉| 22216/22222 [00:43<00:00, 511.99it/s]\n"
     ]
    },
    {
     "name": "stdout",
     "output_type": "stream",
     "text": [
      "EvaluatorHoldout: Processed 10045 (100.0%) in 4.73 sec. Users per second: 2122\n",
      "SLIMElasticNetRecommender: URM Detected 460 ( 3.6%) users with no interactions.\n",
      "SLIMElasticNetRecommender: URM Detected 348 ( 1.6%) items with no interactions.\n"
     ]
    },
    {
     "name": "stderr",
     "output_type": "stream",
     "text": [
      "100%|█████████▉| 22216/22222 [00:43<00:00, 507.86it/s]\n"
     ]
    },
    {
     "name": "stdout",
     "output_type": "stream",
     "text": [
      "EvaluatorHoldout: Processed 10068 (100.0%) in 4.33 sec. Users per second: 2324\n"
     ]
    },
    {
     "name": "stderr",
     "output_type": "stream",
     "text": [
      "[I 2024-01-10 07:43:40,846] Trial 165 finished with value: 0.02957512326655065 and parameters: {'alpha': 0.0005119316988152947, 'l1_ratio': 0.19855463116283745, 'topK': 7783}. Best is trial 129 with value: 0.029857465484101224.\n"
     ]
    },
    {
     "name": "stdout",
     "output_type": "stream",
     "text": [
      "SLIMElasticNetRecommender: URM Detected 508 ( 4.0%) users with no interactions.\n",
      "SLIMElasticNetRecommender: URM Detected 332 ( 1.5%) items with no interactions.\n"
     ]
    },
    {
     "name": "stderr",
     "output_type": "stream",
     "text": [
      "100%|█████████▉| 22216/22222 [00:41<00:00, 538.57it/s]\n"
     ]
    },
    {
     "name": "stdout",
     "output_type": "stream",
     "text": [
      "EvaluatorHoldout: Processed 10057 (100.0%) in 5.06 sec. Users per second: 1988\n",
      "SLIMElasticNetRecommender: URM Detected 440 ( 3.5%) users with no interactions.\n",
      "SLIMElasticNetRecommender: URM Detected 325 ( 1.5%) items with no interactions.\n"
     ]
    },
    {
     "name": "stderr",
     "output_type": "stream",
     "text": [
      "100%|█████████▉| 22216/22222 [00:42<00:00, 517.93it/s]\n"
     ]
    },
    {
     "name": "stdout",
     "output_type": "stream",
     "text": [
      "EvaluatorHoldout: Processed 10040 (100.0%) in 4.91 sec. Users per second: 2044\n",
      "SLIMElasticNetRecommender: URM Detected 479 ( 3.8%) users with no interactions.\n",
      "SLIMElasticNetRecommender: URM Detected 345 ( 1.6%) items with no interactions.\n"
     ]
    },
    {
     "name": "stderr",
     "output_type": "stream",
     "text": [
      "100%|█████████▉| 22216/22222 [00:36<00:00, 604.90it/s]\n"
     ]
    },
    {
     "name": "stdout",
     "output_type": "stream",
     "text": [
      "EvaluatorHoldout: Processed 10017 (100.0%) in 4.36 sec. Users per second: 2295\n",
      "SLIMElasticNetRecommender: URM Detected 451 ( 3.6%) users with no interactions.\n",
      "SLIMElasticNetRecommender: URM Detected 311 ( 1.4%) items with no interactions.\n"
     ]
    },
    {
     "name": "stderr",
     "output_type": "stream",
     "text": [
      "100%|█████████▉| 22216/22222 [00:40<00:00, 542.03it/s]\n"
     ]
    },
    {
     "name": "stdout",
     "output_type": "stream",
     "text": [
      "EvaluatorHoldout: Processed 10037 (100.0%) in 3.99 sec. Users per second: 2514\n",
      "SLIMElasticNetRecommender: URM Detected 449 ( 3.6%) users with no interactions.\n",
      "SLIMElasticNetRecommender: URM Detected 320 ( 1.4%) items with no interactions.\n"
     ]
    },
    {
     "name": "stderr",
     "output_type": "stream",
     "text": [
      "100%|█████████▉| 22216/22222 [00:40<00:00, 549.00it/s]\n"
     ]
    },
    {
     "name": "stdout",
     "output_type": "stream",
     "text": [
      "EvaluatorHoldout: Processed 9989 (100.0%) in 4.08 sec. Users per second: 2450\n",
      "SLIMElasticNetRecommender: URM Detected 460 ( 3.6%) users with no interactions.\n",
      "SLIMElasticNetRecommender: URM Detected 328 ( 1.5%) items with no interactions.\n"
     ]
    },
    {
     "name": "stderr",
     "output_type": "stream",
     "text": [
      "100%|█████████▉| 22216/22222 [00:40<00:00, 553.38it/s]\n"
     ]
    },
    {
     "name": "stdout",
     "output_type": "stream",
     "text": [
      "EvaluatorHoldout: Processed 10024 (100.0%) in 4.02 sec. Users per second: 2495\n",
      "SLIMElasticNetRecommender: URM Detected 426 ( 3.4%) users with no interactions.\n",
      "SLIMElasticNetRecommender: URM Detected 344 ( 1.5%) items with no interactions.\n"
     ]
    },
    {
     "name": "stderr",
     "output_type": "stream",
     "text": [
      "100%|█████████▉| 22216/22222 [00:41<00:00, 536.04it/s]\n"
     ]
    },
    {
     "name": "stdout",
     "output_type": "stream",
     "text": [
      "EvaluatorHoldout: Processed 10030 (100.0%) in 3.91 sec. Users per second: 2565\n",
      "SLIMElasticNetRecommender: URM Detected 471 ( 3.7%) users with no interactions.\n",
      "SLIMElasticNetRecommender: URM Detected 362 ( 1.6%) items with no interactions.\n"
     ]
    },
    {
     "name": "stderr",
     "output_type": "stream",
     "text": [
      "100%|█████████▉| 22216/22222 [00:45<00:00, 487.58it/s]\n"
     ]
    },
    {
     "name": "stdout",
     "output_type": "stream",
     "text": [
      "EvaluatorHoldout: Processed 10052 (100.0%) in 4.25 sec. Users per second: 2368\n",
      "SLIMElasticNetRecommender: URM Detected 478 ( 3.8%) users with no interactions.\n",
      "SLIMElasticNetRecommender: URM Detected 329 ( 1.5%) items with no interactions.\n"
     ]
    },
    {
     "name": "stderr",
     "output_type": "stream",
     "text": [
      "100%|█████████▉| 22216/22222 [00:41<00:00, 536.05it/s]\n"
     ]
    },
    {
     "name": "stdout",
     "output_type": "stream",
     "text": [
      "EvaluatorHoldout: Processed 10045 (100.0%) in 3.96 sec. Users per second: 2537\n",
      "SLIMElasticNetRecommender: URM Detected 460 ( 3.6%) users with no interactions.\n",
      "SLIMElasticNetRecommender: URM Detected 348 ( 1.6%) items with no interactions.\n"
     ]
    },
    {
     "name": "stderr",
     "output_type": "stream",
     "text": [
      "100%|█████████▉| 22216/22222 [00:41<00:00, 536.53it/s]\n"
     ]
    },
    {
     "name": "stdout",
     "output_type": "stream",
     "text": [
      "EvaluatorHoldout: Processed 10068 (100.0%) in 4.23 sec. Users per second: 2383\n"
     ]
    },
    {
     "name": "stderr",
     "output_type": "stream",
     "text": [
      "[I 2024-01-10 07:51:29,441] Trial 166 finished with value: 0.02981256228708813 and parameters: {'alpha': 0.0009368244882012135, 'l1_ratio': 0.11561662039397347, 'topK': 8568}. Best is trial 129 with value: 0.029857465484101224.\n"
     ]
    },
    {
     "name": "stdout",
     "output_type": "stream",
     "text": [
      "SLIMElasticNetRecommender: URM Detected 508 ( 4.0%) users with no interactions.\n",
      "SLIMElasticNetRecommender: URM Detected 332 ( 1.5%) items with no interactions.\n"
     ]
    },
    {
     "name": "stderr",
     "output_type": "stream",
     "text": [
      "100%|█████████▉| 22216/22222 [00:40<00:00, 552.57it/s]\n"
     ]
    },
    {
     "name": "stdout",
     "output_type": "stream",
     "text": [
      "EvaluatorHoldout: Processed 10057 (100.0%) in 4.09 sec. Users per second: 2456\n",
      "SLIMElasticNetRecommender: URM Detected 440 ( 3.5%) users with no interactions.\n",
      "SLIMElasticNetRecommender: URM Detected 325 ( 1.5%) items with no interactions.\n"
     ]
    },
    {
     "name": "stderr",
     "output_type": "stream",
     "text": [
      "100%|█████████▉| 22216/22222 [00:42<00:00, 518.82it/s]\n"
     ]
    },
    {
     "name": "stdout",
     "output_type": "stream",
     "text": [
      "EvaluatorHoldout: Processed 10040 (100.0%) in 4.08 sec. Users per second: 2464\n",
      "SLIMElasticNetRecommender: URM Detected 479 ( 3.8%) users with no interactions.\n",
      "SLIMElasticNetRecommender: URM Detected 345 ( 1.6%) items with no interactions.\n"
     ]
    },
    {
     "name": "stderr",
     "output_type": "stream",
     "text": [
      "100%|█████████▉| 22216/22222 [00:41<00:00, 539.78it/s]\n"
     ]
    },
    {
     "name": "stdout",
     "output_type": "stream",
     "text": [
      "EvaluatorHoldout: Processed 10017 (100.0%) in 4.12 sec. Users per second: 2431\n",
      "SLIMElasticNetRecommender: URM Detected 451 ( 3.6%) users with no interactions.\n",
      "SLIMElasticNetRecommender: URM Detected 311 ( 1.4%) items with no interactions.\n"
     ]
    },
    {
     "name": "stderr",
     "output_type": "stream",
     "text": [
      "100%|█████████▉| 22216/22222 [00:39<00:00, 557.23it/s]\n"
     ]
    },
    {
     "name": "stdout",
     "output_type": "stream",
     "text": [
      "EvaluatorHoldout: Processed 10037 (100.0%) in 4.11 sec. Users per second: 2441\n",
      "SLIMElasticNetRecommender: URM Detected 449 ( 3.6%) users with no interactions.\n",
      "SLIMElasticNetRecommender: URM Detected 320 ( 1.4%) items with no interactions.\n"
     ]
    },
    {
     "name": "stderr",
     "output_type": "stream",
     "text": [
      "100%|█████████▉| 22216/22222 [00:40<00:00, 548.35it/s]\n"
     ]
    },
    {
     "name": "stdout",
     "output_type": "stream",
     "text": [
      "EvaluatorHoldout: Processed 9989 (100.0%) in 4.22 sec. Users per second: 2366\n",
      "SLIMElasticNetRecommender: URM Detected 460 ( 3.6%) users with no interactions.\n",
      "SLIMElasticNetRecommender: URM Detected 328 ( 1.5%) items with no interactions.\n"
     ]
    },
    {
     "name": "stderr",
     "output_type": "stream",
     "text": [
      "100%|█████████▉| 22216/22222 [00:45<00:00, 489.57it/s]\n"
     ]
    },
    {
     "name": "stdout",
     "output_type": "stream",
     "text": [
      "EvaluatorHoldout: Processed 10024 (100.0%) in 3.99 sec. Users per second: 2509\n",
      "SLIMElasticNetRecommender: URM Detected 426 ( 3.4%) users with no interactions.\n",
      "SLIMElasticNetRecommender: URM Detected 344 ( 1.5%) items with no interactions.\n"
     ]
    },
    {
     "name": "stderr",
     "output_type": "stream",
     "text": [
      "100%|█████████▉| 22216/22222 [00:41<00:00, 541.61it/s]\n"
     ]
    },
    {
     "name": "stdout",
     "output_type": "stream",
     "text": [
      "EvaluatorHoldout: Processed 10030 (100.0%) in 4.08 sec. Users per second: 2457\n",
      "SLIMElasticNetRecommender: URM Detected 471 ( 3.7%) users with no interactions.\n",
      "SLIMElasticNetRecommender: URM Detected 362 ( 1.6%) items with no interactions.\n"
     ]
    },
    {
     "name": "stderr",
     "output_type": "stream",
     "text": [
      "100%|█████████▉| 22216/22222 [00:41<00:00, 539.66it/s]\n"
     ]
    },
    {
     "name": "stdout",
     "output_type": "stream",
     "text": [
      "EvaluatorHoldout: Processed 10052 (100.0%) in 4.09 sec. Users per second: 2457\n",
      "SLIMElasticNetRecommender: URM Detected 478 ( 3.8%) users with no interactions.\n",
      "SLIMElasticNetRecommender: URM Detected 329 ( 1.5%) items with no interactions.\n"
     ]
    },
    {
     "name": "stderr",
     "output_type": "stream",
     "text": [
      "100%|█████████▉| 22216/22222 [00:40<00:00, 546.59it/s]\n"
     ]
    },
    {
     "name": "stdout",
     "output_type": "stream",
     "text": [
      "EvaluatorHoldout: Processed 10045 (100.0%) in 4.14 sec. Users per second: 2424\n",
      "SLIMElasticNetRecommender: URM Detected 460 ( 3.6%) users with no interactions.\n",
      "SLIMElasticNetRecommender: URM Detected 348 ( 1.6%) items with no interactions.\n"
     ]
    },
    {
     "name": "stderr",
     "output_type": "stream",
     "text": [
      "100%|█████████▉| 22216/22222 [00:45<00:00, 487.56it/s]\n"
     ]
    },
    {
     "name": "stdout",
     "output_type": "stream",
     "text": [
      "EvaluatorHoldout: Processed 10068 (100.0%) in 4.22 sec. Users per second: 2385\n"
     ]
    },
    {
     "name": "stderr",
     "output_type": "stream",
     "text": [
      "[I 2024-01-10 07:59:22,254] Trial 168 finished with value: 0.029809510794755207 and parameters: {'alpha': 0.0009221276474562298, 'l1_ratio': 0.1211740486948174, 'topK': 8876}. Best is trial 129 with value: 0.029857465484101224.\n"
     ]
    },
    {
     "name": "stdout",
     "output_type": "stream",
     "text": [
      "SLIMElasticNetRecommender: URM Detected 508 ( 4.0%) users with no interactions.\n",
      "SLIMElasticNetRecommender: URM Detected 332 ( 1.5%) items with no interactions.\n"
     ]
    },
    {
     "name": "stderr",
     "output_type": "stream",
     "text": [
      "100%|█████████▉| 22216/22222 [00:55<00:00, 397.22it/s]\n"
     ]
    },
    {
     "name": "stdout",
     "output_type": "stream",
     "text": [
      "EvaluatorHoldout: Processed 10057 (100.0%) in 4.28 sec. Users per second: 2351\n",
      "SLIMElasticNetRecommender: URM Detected 440 ( 3.5%) users with no interactions.\n",
      "SLIMElasticNetRecommender: URM Detected 325 ( 1.5%) items with no interactions.\n"
     ]
    },
    {
     "name": "stderr",
     "output_type": "stream",
     "text": [
      "100%|█████████▉| 22216/22222 [00:57<00:00, 386.91it/s]\n"
     ]
    },
    {
     "name": "stdout",
     "output_type": "stream",
     "text": [
      "EvaluatorHoldout: Processed 10040 (100.0%) in 4.23 sec. Users per second: 2373\n",
      "SLIMElasticNetRecommender: URM Detected 479 ( 3.8%) users with no interactions.\n",
      "SLIMElasticNetRecommender: URM Detected 345 ( 1.6%) items with no interactions.\n"
     ]
    },
    {
     "name": "stderr",
     "output_type": "stream",
     "text": [
      "100%|█████████▉| 22216/22222 [00:59<00:00, 370.30it/s]\n"
     ]
    },
    {
     "name": "stdout",
     "output_type": "stream",
     "text": [
      "EvaluatorHoldout: Processed 10017 (100.0%) in 4.37 sec. Users per second: 2290\n",
      "SLIMElasticNetRecommender: URM Detected 451 ( 3.6%) users with no interactions.\n",
      "SLIMElasticNetRecommender: URM Detected 311 ( 1.4%) items with no interactions.\n"
     ]
    },
    {
     "name": "stderr",
     "output_type": "stream",
     "text": [
      "100%|█████████▉| 22216/22222 [00:55<00:00, 398.62it/s]\n"
     ]
    },
    {
     "name": "stdout",
     "output_type": "stream",
     "text": [
      "EvaluatorHoldout: Processed 10037 (100.0%) in 4.32 sec. Users per second: 2323\n",
      "SLIMElasticNetRecommender: URM Detected 449 ( 3.6%) users with no interactions.\n",
      "SLIMElasticNetRecommender: URM Detected 320 ( 1.4%) items with no interactions.\n"
     ]
    },
    {
     "name": "stderr",
     "output_type": "stream",
     "text": [
      "100%|█████████▉| 22216/22222 [00:57<00:00, 389.37it/s]\n"
     ]
    },
    {
     "name": "stdout",
     "output_type": "stream",
     "text": [
      "EvaluatorHoldout: Processed 9989 (100.0%) in 4.39 sec. Users per second: 2278\n",
      "SLIMElasticNetRecommender: URM Detected 460 ( 3.6%) users with no interactions.\n",
      "SLIMElasticNetRecommender: URM Detected 328 ( 1.5%) items with no interactions.\n"
     ]
    },
    {
     "name": "stderr",
     "output_type": "stream",
     "text": [
      "100%|█████████▉| 22216/22222 [00:59<00:00, 373.90it/s]\n"
     ]
    },
    {
     "name": "stdout",
     "output_type": "stream",
     "text": [
      "EvaluatorHoldout: Processed 10024 (100.0%) in 4.34 sec. Users per second: 2311\n",
      "SLIMElasticNetRecommender: URM Detected 426 ( 3.4%) users with no interactions.\n",
      "SLIMElasticNetRecommender: URM Detected 344 ( 1.5%) items with no interactions.\n"
     ]
    },
    {
     "name": "stderr",
     "output_type": "stream",
     "text": [
      "100%|█████████▉| 22216/22222 [00:56<00:00, 392.93it/s]\n"
     ]
    },
    {
     "name": "stdout",
     "output_type": "stream",
     "text": [
      "EvaluatorHoldout: Processed 10030 (100.0%) in 4.43 sec. Users per second: 2264\n",
      "SLIMElasticNetRecommender: URM Detected 471 ( 3.7%) users with no interactions.\n",
      "SLIMElasticNetRecommender: URM Detected 362 ( 1.6%) items with no interactions.\n"
     ]
    },
    {
     "name": "stderr",
     "output_type": "stream",
     "text": [
      "100%|█████████▉| 22216/22222 [00:57<00:00, 388.60it/s]\n"
     ]
    },
    {
     "name": "stdout",
     "output_type": "stream",
     "text": [
      "EvaluatorHoldout: Processed 10052 (100.0%) in 4.22 sec. Users per second: 2380\n",
      "SLIMElasticNetRecommender: URM Detected 478 ( 3.8%) users with no interactions.\n",
      "SLIMElasticNetRecommender: URM Detected 329 ( 1.5%) items with no interactions.\n"
     ]
    },
    {
     "name": "stderr",
     "output_type": "stream",
     "text": [
      "100%|█████████▉| 22216/22222 [00:56<00:00, 391.62it/s]\n"
     ]
    },
    {
     "name": "stdout",
     "output_type": "stream",
     "text": [
      "EvaluatorHoldout: Processed 10045 (100.0%) in 4.47 sec. Users per second: 2248\n",
      "SLIMElasticNetRecommender: URM Detected 460 ( 3.6%) users with no interactions.\n",
      "SLIMElasticNetRecommender: URM Detected 348 ( 1.6%) items with no interactions.\n"
     ]
    },
    {
     "name": "stderr",
     "output_type": "stream",
     "text": [
      "100%|█████████▉| 22216/22222 [00:57<00:00, 387.90it/s]\n"
     ]
    },
    {
     "name": "stdout",
     "output_type": "stream",
     "text": [
      "EvaluatorHoldout: Processed 10068 (100.0%) in 4.77 sec. Users per second: 2112\n"
     ]
    },
    {
     "name": "stderr",
     "output_type": "stream",
     "text": [
      "[I 2024-01-10 08:09:53,046] Trial 171 finished with value: 0.029257816642323027 and parameters: {'alpha': 0.0006027484649229703, 'l1_ratio': 0.09848339551546936, 'topK': 8352}. Best is trial 129 with value: 0.029857465484101224.\n"
     ]
    },
    {
     "name": "stdout",
     "output_type": "stream",
     "text": [
      "SLIMElasticNetRecommender: URM Detected 508 ( 4.0%) users with no interactions.\n",
      "SLIMElasticNetRecommender: URM Detected 332 ( 1.5%) items with no interactions.\n"
     ]
    },
    {
     "name": "stderr",
     "output_type": "stream",
     "text": [
      "100%|█████████▉| 22216/22222 [00:41<00:00, 536.27it/s]\n"
     ]
    },
    {
     "name": "stdout",
     "output_type": "stream",
     "text": [
      "EvaluatorHoldout: Processed 10057 (100.0%) in 4.15 sec. Users per second: 2425\n",
      "SLIMElasticNetRecommender: URM Detected 440 ( 3.5%) users with no interactions.\n",
      "SLIMElasticNetRecommender: URM Detected 325 ( 1.5%) items with no interactions.\n"
     ]
    },
    {
     "name": "stderr",
     "output_type": "stream",
     "text": [
      "100%|█████████▉| 22216/22222 [00:41<00:00, 530.50it/s]\n"
     ]
    },
    {
     "name": "stdout",
     "output_type": "stream",
     "text": [
      "EvaluatorHoldout: Processed 10040 (100.0%) in 4.13 sec. Users per second: 2431\n",
      "SLIMElasticNetRecommender: URM Detected 479 ( 3.8%) users with no interactions.\n",
      "SLIMElasticNetRecommender: URM Detected 345 ( 1.6%) items with no interactions.\n"
     ]
    },
    {
     "name": "stderr",
     "output_type": "stream",
     "text": [
      "100%|█████████▉| 22216/22222 [00:44<00:00, 494.73it/s]\n"
     ]
    },
    {
     "name": "stdout",
     "output_type": "stream",
     "text": [
      "EvaluatorHoldout: Processed 10017 (100.0%) in 4.10 sec. Users per second: 2444\n",
      "SLIMElasticNetRecommender: URM Detected 451 ( 3.6%) users with no interactions.\n",
      "SLIMElasticNetRecommender: URM Detected 311 ( 1.4%) items with no interactions.\n"
     ]
    },
    {
     "name": "stderr",
     "output_type": "stream",
     "text": [
      "100%|█████████▉| 22216/22222 [00:40<00:00, 542.58it/s]\n"
     ]
    },
    {
     "name": "stdout",
     "output_type": "stream",
     "text": [
      "EvaluatorHoldout: Processed 10037 (100.0%) in 4.08 sec. Users per second: 2458\n",
      "SLIMElasticNetRecommender: URM Detected 449 ( 3.6%) users with no interactions.\n",
      "SLIMElasticNetRecommender: URM Detected 320 ( 1.4%) items with no interactions.\n"
     ]
    },
    {
     "name": "stderr",
     "output_type": "stream",
     "text": [
      "100%|█████████▉| 22216/22222 [00:40<00:00, 543.11it/s]\n"
     ]
    },
    {
     "name": "stdout",
     "output_type": "stream",
     "text": [
      "EvaluatorHoldout: Processed 9989 (100.0%) in 4.10 sec. Users per second: 2439\n",
      "SLIMElasticNetRecommender: URM Detected 460 ( 3.6%) users with no interactions.\n",
      "SLIMElasticNetRecommender: URM Detected 328 ( 1.5%) items with no interactions.\n"
     ]
    },
    {
     "name": "stderr",
     "output_type": "stream",
     "text": [
      "100%|█████████▉| 22216/22222 [00:42<00:00, 527.16it/s]\n"
     ]
    },
    {
     "name": "stdout",
     "output_type": "stream",
     "text": [
      "EvaluatorHoldout: Processed 10024 (100.0%) in 4.02 sec. Users per second: 2495\n",
      "SLIMElasticNetRecommender: URM Detected 426 ( 3.4%) users with no interactions.\n",
      "SLIMElasticNetRecommender: URM Detected 344 ( 1.5%) items with no interactions.\n"
     ]
    },
    {
     "name": "stderr",
     "output_type": "stream",
     "text": [
      "100%|█████████▉| 22216/22222 [00:46<00:00, 480.13it/s]\n"
     ]
    },
    {
     "name": "stdout",
     "output_type": "stream",
     "text": [
      "EvaluatorHoldout: Processed 10030 (100.0%) in 4.37 sec. Users per second: 2293\n",
      "SLIMElasticNetRecommender: URM Detected 471 ( 3.7%) users with no interactions.\n",
      "SLIMElasticNetRecommender: URM Detected 362 ( 1.6%) items with no interactions.\n"
     ]
    },
    {
     "name": "stderr",
     "output_type": "stream",
     "text": [
      "100%|█████████▉| 22216/22222 [00:42<00:00, 528.53it/s]\n"
     ]
    },
    {
     "name": "stdout",
     "output_type": "stream",
     "text": [
      "EvaluatorHoldout: Processed 10052 (100.0%) in 4.08 sec. Users per second: 2466\n",
      "SLIMElasticNetRecommender: URM Detected 478 ( 3.8%) users with no interactions.\n",
      "SLIMElasticNetRecommender: URM Detected 329 ( 1.5%) items with no interactions.\n"
     ]
    },
    {
     "name": "stderr",
     "output_type": "stream",
     "text": [
      "100%|█████████▉| 22216/22222 [00:41<00:00, 534.20it/s]\n"
     ]
    },
    {
     "name": "stdout",
     "output_type": "stream",
     "text": [
      "EvaluatorHoldout: Processed 10045 (100.0%) in 4.00 sec. Users per second: 2512\n",
      "SLIMElasticNetRecommender: URM Detected 460 ( 3.6%) users with no interactions.\n",
      "SLIMElasticNetRecommender: URM Detected 348 ( 1.6%) items with no interactions.\n"
     ]
    },
    {
     "name": "stderr",
     "output_type": "stream",
     "text": [
      "100%|█████████▉| 22216/22222 [00:41<00:00, 536.27it/s]\n"
     ]
    },
    {
     "name": "stdout",
     "output_type": "stream",
     "text": [
      "EvaluatorHoldout: Processed 10068 (100.0%) in 4.82 sec. Users per second: 2089\n"
     ]
    },
    {
     "name": "stderr",
     "output_type": "stream",
     "text": [
      "[I 2024-01-10 08:17:51,750] Trial 172 finished with value: 0.029752445458524873 and parameters: {'alpha': 0.0009316750631347549, 'l1_ratio': 0.0881857121071, 'topK': 8588}. Best is trial 129 with value: 0.029857465484101224.\n"
     ]
    },
    {
     "name": "stdout",
     "output_type": "stream",
     "text": [
      "SLIMElasticNetRecommender: URM Detected 508 ( 4.0%) users with no interactions.\n",
      "SLIMElasticNetRecommender: URM Detected 332 ( 1.5%) items with no interactions.\n"
     ]
    },
    {
     "name": "stderr",
     "output_type": "stream",
     "text": [
      "100%|█████████▉| 22216/22222 [00:29<00:00, 747.43it/s] \n"
     ]
    },
    {
     "name": "stdout",
     "output_type": "stream",
     "text": [
      "EvaluatorHoldout: Processed 10057 (100.0%) in 3.27 sec. Users per second: 3078\n",
      "SLIMElasticNetRecommender: URM Detected 440 ( 3.5%) users with no interactions.\n",
      "SLIMElasticNetRecommender: URM Detected 325 ( 1.5%) items with no interactions.\n"
     ]
    },
    {
     "name": "stderr",
     "output_type": "stream",
     "text": [
      "100%|█████████▉| 22216/22222 [00:29<00:00, 751.36it/s] \n"
     ]
    },
    {
     "name": "stdout",
     "output_type": "stream",
     "text": [
      "EvaluatorHoldout: Processed 10040 (100.0%) in 4.07 sec. Users per second: 2468\n",
      "SLIMElasticNetRecommender: URM Detected 479 ( 3.8%) users with no interactions.\n",
      "SLIMElasticNetRecommender: URM Detected 345 ( 1.6%) items with no interactions.\n"
     ]
    },
    {
     "name": "stderr",
     "output_type": "stream",
     "text": [
      "100%|█████████▉| 22216/22222 [00:30<00:00, 737.54it/s] \n"
     ]
    },
    {
     "name": "stdout",
     "output_type": "stream",
     "text": [
      "EvaluatorHoldout: Processed 10017 (100.0%) in 4.48 sec. Users per second: 2237\n",
      "SLIMElasticNetRecommender: URM Detected 451 ( 3.6%) users with no interactions.\n",
      "SLIMElasticNetRecommender: URM Detected 311 ( 1.4%) items with no interactions.\n"
     ]
    },
    {
     "name": "stderr",
     "output_type": "stream",
     "text": [
      "100%|█████████▉| 22216/22222 [00:28<00:00, 777.81it/s] \n"
     ]
    },
    {
     "name": "stdout",
     "output_type": "stream",
     "text": [
      "EvaluatorHoldout: Processed 10037 (100.0%) in 3.26 sec. Users per second: 3083\n",
      "SLIMElasticNetRecommender: URM Detected 449 ( 3.6%) users with no interactions.\n",
      "SLIMElasticNetRecommender: URM Detected 320 ( 1.4%) items with no interactions.\n"
     ]
    },
    {
     "name": "stderr",
     "output_type": "stream",
     "text": [
      "100%|█████████▉| 22216/22222 [00:28<00:00, 768.86it/s] \n"
     ]
    },
    {
     "name": "stdout",
     "output_type": "stream",
     "text": [
      "EvaluatorHoldout: Processed 9989 (100.0%) in 4.30 sec. Users per second: 2321\n",
      "SLIMElasticNetRecommender: URM Detected 460 ( 3.6%) users with no interactions.\n",
      "SLIMElasticNetRecommender: URM Detected 328 ( 1.5%) items with no interactions.\n"
     ]
    },
    {
     "name": "stderr",
     "output_type": "stream",
     "text": [
      "100%|█████████▉| 22216/22222 [00:29<00:00, 760.65it/s] \n"
     ]
    },
    {
     "name": "stdout",
     "output_type": "stream",
     "text": [
      "EvaluatorHoldout: Processed 10024 (100.0%) in 4.16 sec. Users per second: 2410\n",
      "SLIMElasticNetRecommender: URM Detected 426 ( 3.4%) users with no interactions.\n",
      "SLIMElasticNetRecommender: URM Detected 344 ( 1.5%) items with no interactions.\n"
     ]
    },
    {
     "name": "stderr",
     "output_type": "stream",
     "text": [
      "100%|█████████▉| 22216/22222 [00:32<00:00, 687.33it/s] \n"
     ]
    },
    {
     "name": "stdout",
     "output_type": "stream",
     "text": [
      "EvaluatorHoldout: Processed 10030 (100.0%) in 3.92 sec. Users per second: 2556\n",
      "SLIMElasticNetRecommender: URM Detected 471 ( 3.7%) users with no interactions.\n",
      "SLIMElasticNetRecommender: URM Detected 362 ( 1.6%) items with no interactions.\n"
     ]
    },
    {
     "name": "stderr",
     "output_type": "stream",
     "text": [
      "100%|█████████▉| 22216/22222 [00:33<00:00, 665.32it/s] \n"
     ]
    },
    {
     "name": "stdout",
     "output_type": "stream",
     "text": [
      "EvaluatorHoldout: Processed 10052 (100.0%) in 4.14 sec. Users per second: 2429\n",
      "SLIMElasticNetRecommender: URM Detected 478 ( 3.8%) users with no interactions.\n",
      "SLIMElasticNetRecommender: URM Detected 329 ( 1.5%) items with no interactions.\n"
     ]
    },
    {
     "name": "stderr",
     "output_type": "stream",
     "text": [
      "100%|█████████▉| 22216/22222 [00:28<00:00, 779.62it/s] \n"
     ]
    },
    {
     "name": "stdout",
     "output_type": "stream",
     "text": [
      "EvaluatorHoldout: Processed 10045 (100.0%) in 4.15 sec. Users per second: 2419\n",
      "SLIMElasticNetRecommender: URM Detected 460 ( 3.6%) users with no interactions.\n",
      "SLIMElasticNetRecommender: URM Detected 348 ( 1.6%) items with no interactions.\n"
     ]
    },
    {
     "name": "stderr",
     "output_type": "stream",
     "text": [
      "100%|█████████▉| 22216/22222 [00:23<00:00, 931.36it/s] \n"
     ]
    },
    {
     "name": "stdout",
     "output_type": "stream",
     "text": [
      "EvaluatorHoldout: Processed 10068 (100.0%) in 4.18 sec. Users per second: 2406\n"
     ]
    },
    {
     "name": "stderr",
     "output_type": "stream",
     "text": [
      "[I 2024-01-10 08:23:39,114] Trial 173 finished with value: 0.029543833666199358 and parameters: {'alpha': 0.0012138832117680734, 'l1_ratio': 0.16893062868462888, 'topK': 8809}. Best is trial 129 with value: 0.029857465484101224.\n"
     ]
    },
    {
     "name": "stdout",
     "output_type": "stream",
     "text": [
      "SLIMElasticNetRecommender: URM Detected 508 ( 4.0%) users with no interactions.\n",
      "SLIMElasticNetRecommender: URM Detected 332 ( 1.5%) items with no interactions.\n"
     ]
    },
    {
     "name": "stderr",
     "output_type": "stream",
     "text": [
      "100%|█████████▉| 22216/22222 [00:28<00:00, 776.51it/s] \n"
     ]
    },
    {
     "name": "stdout",
     "output_type": "stream",
     "text": [
      "EvaluatorHoldout: Processed 10057 (100.0%) in 3.96 sec. Users per second: 2539\n",
      "SLIMElasticNetRecommender: URM Detected 440 ( 3.5%) users with no interactions.\n",
      "SLIMElasticNetRecommender: URM Detected 325 ( 1.5%) items with no interactions.\n"
     ]
    },
    {
     "name": "stderr",
     "output_type": "stream",
     "text": [
      "100%|█████████▉| 22216/22222 [00:28<00:00, 784.59it/s] \n"
     ]
    },
    {
     "name": "stdout",
     "output_type": "stream",
     "text": [
      "EvaluatorHoldout: Processed 10040 (100.0%) in 3.36 sec. Users per second: 2990\n",
      "SLIMElasticNetRecommender: URM Detected 479 ( 3.8%) users with no interactions.\n",
      "SLIMElasticNetRecommender: URM Detected 345 ( 1.6%) items with no interactions.\n"
     ]
    },
    {
     "name": "stderr",
     "output_type": "stream",
     "text": [
      "100%|█████████▉| 22216/22222 [00:28<00:00, 790.77it/s] \n"
     ]
    },
    {
     "name": "stdout",
     "output_type": "stream",
     "text": [
      "EvaluatorHoldout: Processed 10017 (100.0%) in 4.17 sec. Users per second: 2405\n",
      "SLIMElasticNetRecommender: URM Detected 451 ( 3.6%) users with no interactions.\n",
      "SLIMElasticNetRecommender: URM Detected 311 ( 1.4%) items with no interactions.\n"
     ]
    },
    {
     "name": "stderr",
     "output_type": "stream",
     "text": [
      "100%|█████████▉| 22216/22222 [00:28<00:00, 790.94it/s] \n"
     ]
    },
    {
     "name": "stdout",
     "output_type": "stream",
     "text": [
      "EvaluatorHoldout: Processed 10037 (100.0%) in 4.21 sec. Users per second: 2386\n",
      "SLIMElasticNetRecommender: URM Detected 449 ( 3.6%) users with no interactions.\n",
      "SLIMElasticNetRecommender: URM Detected 320 ( 1.4%) items with no interactions.\n"
     ]
    },
    {
     "name": "stderr",
     "output_type": "stream",
     "text": [
      "100%|█████████▉| 22216/22222 [00:28<00:00, 771.81it/s] \n"
     ]
    },
    {
     "name": "stdout",
     "output_type": "stream",
     "text": [
      "EvaluatorHoldout: Processed 9989 (100.0%) in 3.73 sec. Users per second: 2678\n",
      "SLIMElasticNetRecommender: URM Detected 460 ( 3.6%) users with no interactions.\n",
      "SLIMElasticNetRecommender: URM Detected 328 ( 1.5%) items with no interactions.\n"
     ]
    },
    {
     "name": "stderr",
     "output_type": "stream",
     "text": [
      "100%|█████████▉| 22216/22222 [00:27<00:00, 796.18it/s] \n"
     ]
    },
    {
     "name": "stdout",
     "output_type": "stream",
     "text": [
      "EvaluatorHoldout: Processed 10024 (100.0%) in 3.60 sec. Users per second: 2788\n",
      "SLIMElasticNetRecommender: URM Detected 426 ( 3.4%) users with no interactions.\n",
      "SLIMElasticNetRecommender: URM Detected 344 ( 1.5%) items with no interactions.\n"
     ]
    },
    {
     "name": "stderr",
     "output_type": "stream",
     "text": [
      "100%|█████████▉| 22216/22222 [00:25<00:00, 865.00it/s] \n"
     ]
    },
    {
     "name": "stdout",
     "output_type": "stream",
     "text": [
      "EvaluatorHoldout: Processed 10030 (100.0%) in 2.97 sec. Users per second: 3382\n",
      "SLIMElasticNetRecommender: URM Detected 471 ( 3.7%) users with no interactions.\n",
      "SLIMElasticNetRecommender: URM Detected 362 ( 1.6%) items with no interactions.\n"
     ]
    },
    {
     "name": "stderr",
     "output_type": "stream",
     "text": [
      "100%|█████████▉| 22216/22222 [00:27<00:00, 799.28it/s] \n"
     ]
    },
    {
     "name": "stdout",
     "output_type": "stream",
     "text": [
      "EvaluatorHoldout: Processed 10052 (100.0%) in 4.89 sec. Users per second: 2057\n",
      "SLIMElasticNetRecommender: URM Detected 478 ( 3.8%) users with no interactions.\n",
      "SLIMElasticNetRecommender: URM Detected 329 ( 1.5%) items with no interactions.\n"
     ]
    },
    {
     "name": "stderr",
     "output_type": "stream",
     "text": [
      "100%|█████████▉| 22216/22222 [00:29<00:00, 749.92it/s] \n"
     ]
    },
    {
     "name": "stdout",
     "output_type": "stream",
     "text": [
      "EvaluatorHoldout: Processed 10045 (100.0%) in 4.84 sec. Users per second: 2076\n",
      "SLIMElasticNetRecommender: URM Detected 460 ( 3.6%) users with no interactions.\n",
      "SLIMElasticNetRecommender: URM Detected 348 ( 1.6%) items with no interactions.\n"
     ]
    },
    {
     "name": "stderr",
     "output_type": "stream",
     "text": [
      "100%|█████████▉| 22216/22222 [00:28<00:00, 780.84it/s] \n"
     ]
    },
    {
     "name": "stdout",
     "output_type": "stream",
     "text": [
      "EvaluatorHoldout: Processed 10068 (100.0%) in 4.35 sec. Users per second: 2316\n"
     ]
    },
    {
     "name": "stderr",
     "output_type": "stream",
     "text": [
      "[I 2024-01-10 08:29:13,797] Trial 175 finished with value: 0.02910246004313617 and parameters: {'alpha': 0.0020864224357540506, 'l1_ratio': 0.10800102788137578, 'topK': 9070}. Best is trial 129 with value: 0.029857465484101224.\n"
     ]
    },
    {
     "name": "stdout",
     "output_type": "stream",
     "text": [
      "SLIMElasticNetRecommender: URM Detected 508 ( 4.0%) users with no interactions.\n",
      "SLIMElasticNetRecommender: URM Detected 332 ( 1.5%) items with no interactions.\n"
     ]
    },
    {
     "name": "stderr",
     "output_type": "stream",
     "text": [
      "100%|█████████▉| 22216/22222 [00:44<00:00, 502.42it/s]\n"
     ]
    },
    {
     "name": "stdout",
     "output_type": "stream",
     "text": [
      "EvaluatorHoldout: Processed 10057 (100.0%) in 4.72 sec. Users per second: 2129\n",
      "SLIMElasticNetRecommender: URM Detected 440 ( 3.5%) users with no interactions.\n",
      "SLIMElasticNetRecommender: URM Detected 325 ( 1.5%) items with no interactions.\n"
     ]
    },
    {
     "name": "stderr",
     "output_type": "stream",
     "text": [
      "100%|█████████▉| 22216/22222 [00:38<00:00, 575.78it/s]\n"
     ]
    },
    {
     "name": "stdout",
     "output_type": "stream",
     "text": [
      "EvaluatorHoldout: Processed 10040 (100.0%) in 4.29 sec. Users per second: 2338\n",
      "SLIMElasticNetRecommender: URM Detected 479 ( 3.8%) users with no interactions.\n",
      "SLIMElasticNetRecommender: URM Detected 345 ( 1.6%) items with no interactions.\n"
     ]
    },
    {
     "name": "stderr",
     "output_type": "stream",
     "text": [
      "100%|█████████▉| 22216/22222 [00:45<00:00, 487.14it/s]\n"
     ]
    },
    {
     "name": "stdout",
     "output_type": "stream",
     "text": [
      "EvaluatorHoldout: Processed 10017 (100.0%) in 4.53 sec. Users per second: 2213\n",
      "SLIMElasticNetRecommender: URM Detected 451 ( 3.6%) users with no interactions.\n",
      "SLIMElasticNetRecommender: URM Detected 311 ( 1.4%) items with no interactions.\n"
     ]
    },
    {
     "name": "stderr",
     "output_type": "stream",
     "text": [
      "100%|█████████▉| 22216/22222 [00:43<00:00, 509.40it/s]\n"
     ]
    },
    {
     "name": "stdout",
     "output_type": "stream",
     "text": [
      "EvaluatorHoldout: Processed 10037 (100.0%) in 4.46 sec. Users per second: 2248\n",
      "SLIMElasticNetRecommender: URM Detected 449 ( 3.6%) users with no interactions.\n",
      "SLIMElasticNetRecommender: URM Detected 320 ( 1.4%) items with no interactions.\n"
     ]
    },
    {
     "name": "stderr",
     "output_type": "stream",
     "text": [
      "100%|█████████▉| 22216/22222 [00:42<00:00, 528.11it/s]\n"
     ]
    },
    {
     "name": "stdout",
     "output_type": "stream",
     "text": [
      "EvaluatorHoldout: Processed 9989 (100.0%) in 3.66 sec. Users per second: 2729\n",
      "SLIMElasticNetRecommender: URM Detected 460 ( 3.6%) users with no interactions.\n",
      "SLIMElasticNetRecommender: URM Detected 328 ( 1.5%) items with no interactions.\n"
     ]
    },
    {
     "name": "stderr",
     "output_type": "stream",
     "text": [
      "100%|█████████▉| 22216/22222 [00:40<00:00, 543.72it/s]\n"
     ]
    },
    {
     "name": "stdout",
     "output_type": "stream",
     "text": [
      "EvaluatorHoldout: Processed 10024 (100.0%) in 5.10 sec. Users per second: 1967\n",
      "SLIMElasticNetRecommender: URM Detected 426 ( 3.4%) users with no interactions.\n",
      "SLIMElasticNetRecommender: URM Detected 344 ( 1.5%) items with no interactions.\n"
     ]
    },
    {
     "name": "stderr",
     "output_type": "stream",
     "text": [
      "100%|█████████▉| 22216/22222 [00:42<00:00, 524.66it/s]\n"
     ]
    },
    {
     "name": "stdout",
     "output_type": "stream",
     "text": [
      "EvaluatorHoldout: Processed 10030 (100.0%) in 4.45 sec. Users per second: 2256\n",
      "SLIMElasticNetRecommender: URM Detected 471 ( 3.7%) users with no interactions.\n",
      "SLIMElasticNetRecommender: URM Detected 362 ( 1.6%) items with no interactions.\n"
     ]
    },
    {
     "name": "stderr",
     "output_type": "stream",
     "text": [
      "100%|█████████▉| 22216/22222 [00:43<00:00, 505.39it/s]\n"
     ]
    },
    {
     "name": "stdout",
     "output_type": "stream",
     "text": [
      "EvaluatorHoldout: Processed 10052 (100.0%) in 4.09 sec. Users per second: 2456\n",
      "SLIMElasticNetRecommender: URM Detected 478 ( 3.8%) users with no interactions.\n",
      "SLIMElasticNetRecommender: URM Detected 329 ( 1.5%) items with no interactions.\n"
     ]
    },
    {
     "name": "stderr",
     "output_type": "stream",
     "text": [
      "100%|█████████▉| 22216/22222 [00:43<00:00, 511.24it/s]\n"
     ]
    },
    {
     "name": "stdout",
     "output_type": "stream",
     "text": [
      "EvaluatorHoldout: Processed 10045 (100.0%) in 4.17 sec. Users per second: 2410\n",
      "SLIMElasticNetRecommender: URM Detected 460 ( 3.6%) users with no interactions.\n",
      "SLIMElasticNetRecommender: URM Detected 348 ( 1.6%) items with no interactions.\n"
     ]
    },
    {
     "name": "stderr",
     "output_type": "stream",
     "text": [
      "100%|█████████▉| 22216/22222 [00:43<00:00, 506.28it/s]\n"
     ]
    },
    {
     "name": "stdout",
     "output_type": "stream",
     "text": [
      "EvaluatorHoldout: Processed 10068 (100.0%) in 4.21 sec. Users per second: 2389\n"
     ]
    },
    {
     "name": "stderr",
     "output_type": "stream",
     "text": [
      "[I 2024-01-10 08:37:19,485] Trial 177 finished with value: 0.029814031024425598 and parameters: {'alpha': 0.0009867003616981713, 'l1_ratio': 0.09749827336809962, 'topK': 8506}. Best is trial 129 with value: 0.029857465484101224.\n"
     ]
    },
    {
     "name": "stdout",
     "output_type": "stream",
     "text": [
      "SLIMElasticNetRecommender: URM Detected 508 ( 4.0%) users with no interactions.\n",
      "SLIMElasticNetRecommender: URM Detected 332 ( 1.5%) items with no interactions.\n"
     ]
    },
    {
     "name": "stderr",
     "output_type": "stream",
     "text": [
      "100%|█████████▉| 22216/22222 [00:40<00:00, 542.13it/s]\n"
     ]
    },
    {
     "name": "stdout",
     "output_type": "stream",
     "text": [
      "EvaluatorHoldout: Processed 10057 (100.0%) in 3.88 sec. Users per second: 2593\n",
      "SLIMElasticNetRecommender: URM Detected 440 ( 3.5%) users with no interactions.\n",
      "SLIMElasticNetRecommender: URM Detected 325 ( 1.5%) items with no interactions.\n"
     ]
    },
    {
     "name": "stderr",
     "output_type": "stream",
     "text": [
      "100%|█████████▉| 22216/22222 [00:41<00:00, 536.93it/s]\n"
     ]
    },
    {
     "name": "stdout",
     "output_type": "stream",
     "text": [
      "EvaluatorHoldout: Processed 10040 (100.0%) in 4.74 sec. Users per second: 2116\n",
      "SLIMElasticNetRecommender: URM Detected 479 ( 3.8%) users with no interactions.\n",
      "SLIMElasticNetRecommender: URM Detected 345 ( 1.6%) items with no interactions.\n"
     ]
    },
    {
     "name": "stderr",
     "output_type": "stream",
     "text": [
      "100%|█████████▉| 22216/22222 [00:41<00:00, 531.32it/s]\n"
     ]
    },
    {
     "name": "stdout",
     "output_type": "stream",
     "text": [
      "EvaluatorHoldout: Processed 10017 (100.0%) in 4.79 sec. Users per second: 2092\n",
      "SLIMElasticNetRecommender: URM Detected 451 ( 3.6%) users with no interactions.\n",
      "SLIMElasticNetRecommender: URM Detected 311 ( 1.4%) items with no interactions.\n"
     ]
    },
    {
     "name": "stderr",
     "output_type": "stream",
     "text": [
      "100%|█████████▉| 22216/22222 [00:43<00:00, 514.90it/s]\n"
     ]
    },
    {
     "name": "stdout",
     "output_type": "stream",
     "text": [
      "EvaluatorHoldout: Processed 10037 (100.0%) in 4.87 sec. Users per second: 2062\n",
      "SLIMElasticNetRecommender: URM Detected 449 ( 3.6%) users with no interactions.\n",
      "SLIMElasticNetRecommender: URM Detected 320 ( 1.4%) items with no interactions.\n"
     ]
    },
    {
     "name": "stderr",
     "output_type": "stream",
     "text": [
      "100%|█████████▉| 22216/22222 [00:46<00:00, 480.70it/s]\n"
     ]
    },
    {
     "name": "stdout",
     "output_type": "stream",
     "text": [
      "EvaluatorHoldout: Processed 9989 (100.0%) in 5.16 sec. Users per second: 1937\n",
      "SLIMElasticNetRecommender: URM Detected 460 ( 3.6%) users with no interactions.\n",
      "SLIMElasticNetRecommender: URM Detected 328 ( 1.5%) items with no interactions.\n"
     ]
    },
    {
     "name": "stderr",
     "output_type": "stream",
     "text": [
      "100%|█████████▉| 22216/22222 [00:46<00:00, 475.85it/s]\n"
     ]
    },
    {
     "name": "stdout",
     "output_type": "stream",
     "text": [
      "EvaluatorHoldout: Processed 10024 (100.0%) in 4.86 sec. Users per second: 2063\n",
      "SLIMElasticNetRecommender: URM Detected 426 ( 3.4%) users with no interactions.\n",
      "SLIMElasticNetRecommender: URM Detected 344 ( 1.5%) items with no interactions.\n"
     ]
    },
    {
     "name": "stderr",
     "output_type": "stream",
     "text": [
      "100%|█████████▉| 22216/22222 [00:45<00:00, 483.11it/s]\n"
     ]
    },
    {
     "name": "stdout",
     "output_type": "stream",
     "text": [
      "EvaluatorHoldout: Processed 10030 (100.0%) in 4.83 sec. Users per second: 2077\n",
      "SLIMElasticNetRecommender: URM Detected 471 ( 3.7%) users with no interactions.\n",
      "SLIMElasticNetRecommender: URM Detected 362 ( 1.6%) items with no interactions.\n"
     ]
    },
    {
     "name": "stderr",
     "output_type": "stream",
     "text": [
      "100%|█████████▉| 22216/22222 [00:46<00:00, 477.46it/s]\n"
     ]
    },
    {
     "name": "stdout",
     "output_type": "stream",
     "text": [
      "EvaluatorHoldout: Processed 10052 (100.0%) in 5.10 sec. Users per second: 1973\n",
      "SLIMElasticNetRecommender: URM Detected 478 ( 3.8%) users with no interactions.\n",
      "SLIMElasticNetRecommender: URM Detected 329 ( 1.5%) items with no interactions.\n"
     ]
    },
    {
     "name": "stderr",
     "output_type": "stream",
     "text": [
      "100%|█████████▉| 22216/22222 [00:43<00:00, 512.37it/s]\n"
     ]
    },
    {
     "name": "stdout",
     "output_type": "stream",
     "text": [
      "EvaluatorHoldout: Processed 10045 (100.0%) in 4.55 sec. Users per second: 2208\n",
      "SLIMElasticNetRecommender: URM Detected 460 ( 3.6%) users with no interactions.\n",
      "SLIMElasticNetRecommender: URM Detected 348 ( 1.6%) items with no interactions.\n"
     ]
    },
    {
     "name": "stderr",
     "output_type": "stream",
     "text": [
      "100%|█████████▉| 22216/22222 [00:37<00:00, 600.17it/s]\n"
     ]
    },
    {
     "name": "stdout",
     "output_type": "stream",
     "text": [
      "EvaluatorHoldout: Processed 10068 (100.0%) in 3.72 sec. Users per second: 2709\n"
     ]
    },
    {
     "name": "stderr",
     "output_type": "stream",
     "text": [
      "[I 2024-01-10 08:45:32,460] Trial 180 finished with value: 0.02972738449003931 and parameters: {'alpha': 0.0015814318428538775, 'l1_ratio': 0.08350970764599668, 'topK': 9605}. Best is trial 129 with value: 0.029857465484101224.\n"
     ]
    },
    {
     "name": "stdout",
     "output_type": "stream",
     "text": [
      "SLIMElasticNetRecommender: URM Detected 508 ( 4.0%) users with no interactions.\n",
      "SLIMElasticNetRecommender: URM Detected 332 ( 1.5%) items with no interactions.\n"
     ]
    },
    {
     "name": "stderr",
     "output_type": "stream",
     "text": [
      "100%|█████████▉| 22216/22222 [00:47<00:00, 472.06it/s]\n"
     ]
    },
    {
     "name": "stdout",
     "output_type": "stream",
     "text": [
      "EvaluatorHoldout: Processed 10057 (100.0%) in 5.27 sec. Users per second: 1910\n",
      "SLIMElasticNetRecommender: URM Detected 440 ( 3.5%) users with no interactions.\n",
      "SLIMElasticNetRecommender: URM Detected 325 ( 1.5%) items with no interactions.\n"
     ]
    },
    {
     "name": "stderr",
     "output_type": "stream",
     "text": [
      "100%|█████████▉| 22216/22222 [00:44<00:00, 502.43it/s]\n"
     ]
    },
    {
     "name": "stdout",
     "output_type": "stream",
     "text": [
      "EvaluatorHoldout: Processed 10040 (100.0%) in 5.18 sec. Users per second: 1937\n",
      "SLIMElasticNetRecommender: URM Detected 479 ( 3.8%) users with no interactions.\n",
      "SLIMElasticNetRecommender: URM Detected 345 ( 1.6%) items with no interactions.\n"
     ]
    },
    {
     "name": "stderr",
     "output_type": "stream",
     "text": [
      "100%|█████████▉| 22216/22222 [00:43<00:00, 507.14it/s]\n"
     ]
    },
    {
     "name": "stdout",
     "output_type": "stream",
     "text": [
      "EvaluatorHoldout: Processed 10017 (100.0%) in 4.93 sec. Users per second: 2031\n",
      "SLIMElasticNetRecommender: URM Detected 451 ( 3.6%) users with no interactions.\n",
      "SLIMElasticNetRecommender: URM Detected 311 ( 1.4%) items with no interactions.\n"
     ]
    },
    {
     "name": "stderr",
     "output_type": "stream",
     "text": [
      "100%|█████████▉| 22216/22222 [00:42<00:00, 518.59it/s]\n"
     ]
    },
    {
     "name": "stdout",
     "output_type": "stream",
     "text": [
      "EvaluatorHoldout: Processed 10037 (100.0%) in 4.63 sec. Users per second: 2167\n",
      "SLIMElasticNetRecommender: URM Detected 449 ( 3.6%) users with no interactions.\n",
      "SLIMElasticNetRecommender: URM Detected 320 ( 1.4%) items with no interactions.\n"
     ]
    },
    {
     "name": "stderr",
     "output_type": "stream",
     "text": [
      "100%|█████████▉| 22216/22222 [00:41<00:00, 538.51it/s]\n"
     ]
    },
    {
     "name": "stdout",
     "output_type": "stream",
     "text": [
      "EvaluatorHoldout: Processed 9989 (100.0%) in 4.86 sec. Users per second: 2054\n",
      "SLIMElasticNetRecommender: URM Detected 460 ( 3.6%) users with no interactions.\n",
      "SLIMElasticNetRecommender: URM Detected 328 ( 1.5%) items with no interactions.\n"
     ]
    },
    {
     "name": "stderr",
     "output_type": "stream",
     "text": [
      "100%|█████████▉| 22216/22222 [00:43<00:00, 507.72it/s]\n"
     ]
    },
    {
     "name": "stdout",
     "output_type": "stream",
     "text": [
      "EvaluatorHoldout: Processed 10024 (100.0%) in 4.67 sec. Users per second: 2147\n",
      "SLIMElasticNetRecommender: URM Detected 426 ( 3.4%) users with no interactions.\n",
      "SLIMElasticNetRecommender: URM Detected 344 ( 1.5%) items with no interactions.\n"
     ]
    },
    {
     "name": "stderr",
     "output_type": "stream",
     "text": [
      "100%|█████████▉| 22216/22222 [00:45<00:00, 489.11it/s]\n"
     ]
    },
    {
     "name": "stdout",
     "output_type": "stream",
     "text": [
      "EvaluatorHoldout: Processed 10030 (100.0%) in 4.48 sec. Users per second: 2239\n",
      "SLIMElasticNetRecommender: URM Detected 471 ( 3.7%) users with no interactions.\n",
      "SLIMElasticNetRecommender: URM Detected 362 ( 1.6%) items with no interactions.\n"
     ]
    },
    {
     "name": "stderr",
     "output_type": "stream",
     "text": [
      "100%|█████████▉| 22216/22222 [00:41<00:00, 532.90it/s]\n"
     ]
    },
    {
     "name": "stdout",
     "output_type": "stream",
     "text": [
      "EvaluatorHoldout: Processed 10052 (100.0%) in 4.69 sec. Users per second: 2142\n",
      "SLIMElasticNetRecommender: URM Detected 478 ( 3.8%) users with no interactions.\n",
      "SLIMElasticNetRecommender: URM Detected 329 ( 1.5%) items with no interactions.\n"
     ]
    },
    {
     "name": "stderr",
     "output_type": "stream",
     "text": [
      "100%|█████████▉| 22216/22222 [00:41<00:00, 541.40it/s]\n"
     ]
    },
    {
     "name": "stdout",
     "output_type": "stream",
     "text": [
      "EvaluatorHoldout: Processed 10045 (100.0%) in 3.88 sec. Users per second: 2590\n",
      "SLIMElasticNetRecommender: URM Detected 460 ( 3.6%) users with no interactions.\n",
      "SLIMElasticNetRecommender: URM Detected 348 ( 1.6%) items with no interactions.\n"
     ]
    },
    {
     "name": "stderr",
     "output_type": "stream",
     "text": [
      "100%|█████████▉| 22216/22222 [00:42<00:00, 523.19it/s]\n"
     ]
    },
    {
     "name": "stdout",
     "output_type": "stream",
     "text": [
      "EvaluatorHoldout: Processed 10068 (100.0%) in 5.18 sec. Users per second: 1945\n"
     ]
    },
    {
     "name": "stderr",
     "output_type": "stream",
     "text": [
      "[I 2024-01-10 08:53:47,196] Trial 181 finished with value: 0.02981760552831818 and parameters: {'alpha': 0.0011227252607133292, 'l1_ratio': 0.10208033298642956, 'topK': 8362}. Best is trial 129 with value: 0.029857465484101224.\n"
     ]
    },
    {
     "name": "stdout",
     "output_type": "stream",
     "text": [
      "SLIMElasticNetRecommender: URM Detected 508 ( 4.0%) users with no interactions.\n",
      "SLIMElasticNetRecommender: URM Detected 332 ( 1.5%) items with no interactions.\n"
     ]
    },
    {
     "name": "stderr",
     "output_type": "stream",
     "text": [
      "100%|█████████▉| 22216/22222 [00:44<00:00, 495.83it/s]\n"
     ]
    },
    {
     "name": "stdout",
     "output_type": "stream",
     "text": [
      "EvaluatorHoldout: Processed 10057 (100.0%) in 5.01 sec. Users per second: 2008\n",
      "SLIMElasticNetRecommender: URM Detected 440 ( 3.5%) users with no interactions.\n",
      "SLIMElasticNetRecommender: URM Detected 325 ( 1.5%) items with no interactions.\n"
     ]
    },
    {
     "name": "stderr",
     "output_type": "stream",
     "text": [
      "100%|█████████▉| 22216/22222 [00:37<00:00, 586.91it/s]\n"
     ]
    },
    {
     "name": "stdout",
     "output_type": "stream",
     "text": [
      "EvaluatorHoldout: Processed 10040 (100.0%) in 4.25 sec. Users per second: 2362\n",
      "SLIMElasticNetRecommender: URM Detected 479 ( 3.8%) users with no interactions.\n",
      "SLIMElasticNetRecommender: URM Detected 345 ( 1.6%) items with no interactions.\n"
     ]
    },
    {
     "name": "stderr",
     "output_type": "stream",
     "text": [
      "100%|█████████▉| 22216/22222 [00:41<00:00, 532.67it/s]\n"
     ]
    },
    {
     "name": "stdout",
     "output_type": "stream",
     "text": [
      "EvaluatorHoldout: Processed 10017 (100.0%) in 5.19 sec. Users per second: 1930\n",
      "SLIMElasticNetRecommender: URM Detected 451 ( 3.6%) users with no interactions.\n",
      "SLIMElasticNetRecommender: URM Detected 311 ( 1.4%) items with no interactions.\n"
     ]
    },
    {
     "name": "stderr",
     "output_type": "stream",
     "text": [
      "100%|█████████▉| 22216/22222 [00:43<00:00, 513.89it/s]\n"
     ]
    },
    {
     "name": "stdout",
     "output_type": "stream",
     "text": [
      "EvaluatorHoldout: Processed 10037 (100.0%) in 4.47 sec. Users per second: 2247\n",
      "SLIMElasticNetRecommender: URM Detected 449 ( 3.6%) users with no interactions.\n",
      "SLIMElasticNetRecommender: URM Detected 320 ( 1.4%) items with no interactions.\n"
     ]
    },
    {
     "name": "stderr",
     "output_type": "stream",
     "text": [
      "100%|█████████▉| 22216/22222 [00:55<00:00, 396.83it/s]\n"
     ]
    },
    {
     "name": "stdout",
     "output_type": "stream",
     "text": [
      "EvaluatorHoldout: Processed 9989 (100.0%) in 6.86 sec. Users per second: 1455\n",
      "SLIMElasticNetRecommender: URM Detected 460 ( 3.6%) users with no interactions.\n",
      "SLIMElasticNetRecommender: URM Detected 328 ( 1.5%) items with no interactions.\n"
     ]
    },
    {
     "name": "stderr",
     "output_type": "stream",
     "text": [
      "100%|█████████▉| 22216/22222 [01:09<00:00, 321.69it/s]\n"
     ]
    },
    {
     "name": "stdout",
     "output_type": "stream",
     "text": [
      "EvaluatorHoldout: Processed 10024 (100.0%) in 6.74 sec. Users per second: 1486\n",
      "SLIMElasticNetRecommender: URM Detected 426 ( 3.4%) users with no interactions.\n",
      "SLIMElasticNetRecommender: URM Detected 344 ( 1.5%) items with no interactions.\n"
     ]
    },
    {
     "name": "stderr",
     "output_type": "stream",
     "text": [
      "100%|█████████▉| 22216/22222 [01:04<00:00, 343.62it/s]\n"
     ]
    },
    {
     "name": "stdout",
     "output_type": "stream",
     "text": [
      "EvaluatorHoldout: Processed 10030 (100.0%) in 6.31 sec. Users per second: 1588\n",
      "SLIMElasticNetRecommender: URM Detected 471 ( 3.7%) users with no interactions.\n",
      "SLIMElasticNetRecommender: URM Detected 362 ( 1.6%) items with no interactions.\n"
     ]
    },
    {
     "name": "stderr",
     "output_type": "stream",
     "text": [
      "100%|█████████▉| 22216/22222 [01:07<00:00, 330.07it/s]\n"
     ]
    },
    {
     "name": "stdout",
     "output_type": "stream",
     "text": [
      "EvaluatorHoldout: Processed 10052 (100.0%) in 6.51 sec. Users per second: 1543\n",
      "SLIMElasticNetRecommender: URM Detected 478 ( 3.8%) users with no interactions.\n",
      "SLIMElasticNetRecommender: URM Detected 329 ( 1.5%) items with no interactions.\n"
     ]
    },
    {
     "name": "stderr",
     "output_type": "stream",
     "text": [
      "100%|█████████▉| 22216/22222 [01:07<00:00, 327.92it/s]\n"
     ]
    },
    {
     "name": "stdout",
     "output_type": "stream",
     "text": [
      "EvaluatorHoldout: Processed 10045 (100.0%) in 5.61 sec. Users per second: 1791\n",
      "SLIMElasticNetRecommender: URM Detected 460 ( 3.6%) users with no interactions.\n",
      "SLIMElasticNetRecommender: URM Detected 348 ( 1.6%) items with no interactions.\n"
     ]
    },
    {
     "name": "stderr",
     "output_type": "stream",
     "text": [
      "100%|█████████▉| 22216/22222 [01:10<00:00, 316.45it/s]\n"
     ]
    },
    {
     "name": "stdout",
     "output_type": "stream",
     "text": [
      "EvaluatorHoldout: Processed 10068 (100.0%) in 4.69 sec. Users per second: 2147\n"
     ]
    },
    {
     "name": "stderr",
     "output_type": "stream",
     "text": [
      "[I 2024-01-10 09:04:19,254] Trial 182 finished with value: 0.029829853634787934 and parameters: {'alpha': 0.0012068781896834632, 'l1_ratio': 0.09876467022817054, 'topK': 8028}. Best is trial 129 with value: 0.029857465484101224.\n"
     ]
    },
    {
     "name": "stdout",
     "output_type": "stream",
     "text": [
      "SLIMElasticNetRecommender: URM Detected 508 ( 4.0%) users with no interactions.\n",
      "SLIMElasticNetRecommender: URM Detected 332 ( 1.5%) items with no interactions.\n"
     ]
    },
    {
     "name": "stderr",
     "output_type": "stream",
     "text": [
      "100%|█████████▉| 22216/22222 [00:50<00:00, 444.32it/s]\n"
     ]
    },
    {
     "name": "stdout",
     "output_type": "stream",
     "text": [
      "EvaluatorHoldout: Processed 10057 (100.0%) in 4.09 sec. Users per second: 2460\n",
      "SLIMElasticNetRecommender: URM Detected 440 ( 3.5%) users with no interactions.\n",
      "SLIMElasticNetRecommender: URM Detected 325 ( 1.5%) items with no interactions.\n"
     ]
    },
    {
     "name": "stderr",
     "output_type": "stream",
     "text": [
      "100%|█████████▉| 22216/22222 [00:50<00:00, 438.99it/s]\n"
     ]
    },
    {
     "name": "stdout",
     "output_type": "stream",
     "text": [
      "EvaluatorHoldout: Processed 10040 (100.0%) in 5.70 sec. Users per second: 1762\n",
      "SLIMElasticNetRecommender: URM Detected 479 ( 3.8%) users with no interactions.\n",
      "SLIMElasticNetRecommender: URM Detected 345 ( 1.6%) items with no interactions.\n"
     ]
    },
    {
     "name": "stderr",
     "output_type": "stream",
     "text": [
      "100%|█████████▉| 22216/22222 [00:47<00:00, 465.82it/s]\n"
     ]
    },
    {
     "name": "stdout",
     "output_type": "stream",
     "text": [
      "EvaluatorHoldout: Processed 10017 (100.0%) in 6.58 sec. Users per second: 1522\n",
      "SLIMElasticNetRecommender: URM Detected 451 ( 3.6%) users with no interactions.\n",
      "SLIMElasticNetRecommender: URM Detected 311 ( 1.4%) items with no interactions.\n"
     ]
    },
    {
     "name": "stderr",
     "output_type": "stream",
     "text": [
      "100%|█████████▉| 22216/22222 [00:46<00:00, 474.47it/s]\n"
     ]
    },
    {
     "name": "stdout",
     "output_type": "stream",
     "text": [
      "EvaluatorHoldout: Processed 10037 (100.0%) in 6.89 sec. Users per second: 1456\n",
      "SLIMElasticNetRecommender: URM Detected 449 ( 3.6%) users with no interactions.\n",
      "SLIMElasticNetRecommender: URM Detected 320 ( 1.4%) items with no interactions.\n"
     ]
    },
    {
     "name": "stderr",
     "output_type": "stream",
     "text": [
      "100%|█████████▉| 22216/22222 [00:41<00:00, 535.77it/s] \n"
     ]
    },
    {
     "name": "stdout",
     "output_type": "stream",
     "text": [
      "EvaluatorHoldout: Processed 9989 (100.0%) in 3.97 sec. Users per second: 2517\n",
      "SLIMElasticNetRecommender: URM Detected 460 ( 3.6%) users with no interactions.\n",
      "SLIMElasticNetRecommender: URM Detected 328 ( 1.5%) items with no interactions.\n"
     ]
    },
    {
     "name": "stderr",
     "output_type": "stream",
     "text": [
      "100%|█████████▉| 22216/22222 [00:30<00:00, 729.27it/s] \n"
     ]
    },
    {
     "name": "stdout",
     "output_type": "stream",
     "text": [
      "EvaluatorHoldout: Processed 10024 (100.0%) in 4.27 sec. Users per second: 2348\n",
      "SLIMElasticNetRecommender: URM Detected 426 ( 3.4%) users with no interactions.\n",
      "SLIMElasticNetRecommender: URM Detected 344 ( 1.5%) items with no interactions.\n"
     ]
    },
    {
     "name": "stderr",
     "output_type": "stream",
     "text": [
      "100%|█████████▉| 22216/22222 [00:29<00:00, 760.47it/s] \n"
     ]
    },
    {
     "name": "stdout",
     "output_type": "stream",
     "text": [
      "EvaluatorHoldout: Processed 10030 (100.0%) in 3.10 sec. Users per second: 3237\n",
      "SLIMElasticNetRecommender: URM Detected 471 ( 3.7%) users with no interactions.\n",
      "SLIMElasticNetRecommender: URM Detected 362 ( 1.6%) items with no interactions.\n"
     ]
    },
    {
     "name": "stderr",
     "output_type": "stream",
     "text": [
      "100%|█████████▉| 22216/22222 [00:27<00:00, 793.71it/s] \n"
     ]
    },
    {
     "name": "stdout",
     "output_type": "stream",
     "text": [
      "EvaluatorHoldout: Processed 10052 (100.0%) in 4.44 sec. Users per second: 2264\n",
      "SLIMElasticNetRecommender: URM Detected 478 ( 3.8%) users with no interactions.\n",
      "SLIMElasticNetRecommender: URM Detected 329 ( 1.5%) items with no interactions.\n"
     ]
    },
    {
     "name": "stderr",
     "output_type": "stream",
     "text": [
      "100%|█████████▉| 22216/22222 [00:29<00:00, 751.80it/s] \n"
     ]
    },
    {
     "name": "stdout",
     "output_type": "stream",
     "text": [
      "EvaluatorHoldout: Processed 10045 (100.0%) in 4.03 sec. Users per second: 2494\n",
      "SLIMElasticNetRecommender: URM Detected 460 ( 3.6%) users with no interactions.\n",
      "SLIMElasticNetRecommender: URM Detected 348 ( 1.6%) items with no interactions.\n"
     ]
    },
    {
     "name": "stderr",
     "output_type": "stream",
     "text": [
      "100%|█████████▉| 22216/22222 [00:31<00:00, 715.92it/s] \n"
     ]
    },
    {
     "name": "stdout",
     "output_type": "stream",
     "text": [
      "EvaluatorHoldout: Processed 10068 (100.0%) in 4.06 sec. Users per second: 2477\n"
     ]
    },
    {
     "name": "stderr",
     "output_type": "stream",
     "text": [
      "[I 2024-01-10 09:11:44,745] Trial 184 finished with value: 0.02970465187281779 and parameters: {'alpha': 0.0012903130107994173, 'l1_ratio': 0.12527245739338913, 'topK': 8846}. Best is trial 129 with value: 0.029857465484101224.\n"
     ]
    },
    {
     "name": "stdout",
     "output_type": "stream",
     "text": [
      "SLIMElasticNetRecommender: URM Detected 508 ( 4.0%) users with no interactions.\n",
      "SLIMElasticNetRecommender: URM Detected 332 ( 1.5%) items with no interactions.\n"
     ]
    },
    {
     "name": "stderr",
     "output_type": "stream",
     "text": [
      "100%|█████████▉| 22216/22222 [00:58<00:00, 377.58it/s]\n"
     ]
    },
    {
     "name": "stdout",
     "output_type": "stream",
     "text": [
      "EvaluatorHoldout: Processed 10057 (100.0%) in 4.88 sec. Users per second: 2060\n",
      "SLIMElasticNetRecommender: URM Detected 440 ( 3.5%) users with no interactions.\n",
      "SLIMElasticNetRecommender: URM Detected 325 ( 1.5%) items with no interactions.\n"
     ]
    },
    {
     "name": "stderr",
     "output_type": "stream",
     "text": [
      "100%|█████████▉| 22216/22222 [00:58<00:00, 382.87it/s]\n"
     ]
    },
    {
     "name": "stdout",
     "output_type": "stream",
     "text": [
      "EvaluatorHoldout: Processed 10040 (100.0%) in 4.76 sec. Users per second: 2109\n",
      "SLIMElasticNetRecommender: URM Detected 479 ( 3.8%) users with no interactions.\n",
      "SLIMElasticNetRecommender: URM Detected 345 ( 1.6%) items with no interactions.\n"
     ]
    },
    {
     "name": "stderr",
     "output_type": "stream",
     "text": [
      "100%|█████████▉| 22216/22222 [00:58<00:00, 377.49it/s]\n"
     ]
    },
    {
     "name": "stdout",
     "output_type": "stream",
     "text": [
      "EvaluatorHoldout: Processed 10017 (100.0%) in 5.13 sec. Users per second: 1952\n",
      "SLIMElasticNetRecommender: URM Detected 451 ( 3.6%) users with no interactions.\n",
      "SLIMElasticNetRecommender: URM Detected 311 ( 1.4%) items with no interactions.\n"
     ]
    },
    {
     "name": "stderr",
     "output_type": "stream",
     "text": [
      "100%|█████████▉| 22216/22222 [00:53<00:00, 414.07it/s]\n"
     ]
    },
    {
     "name": "stdout",
     "output_type": "stream",
     "text": [
      "EvaluatorHoldout: Processed 10037 (100.0%) in 4.48 sec. Users per second: 2241\n",
      "SLIMElasticNetRecommender: URM Detected 449 ( 3.6%) users with no interactions.\n",
      "SLIMElasticNetRecommender: URM Detected 320 ( 1.4%) items with no interactions.\n"
     ]
    },
    {
     "name": "stderr",
     "output_type": "stream",
     "text": [
      "100%|█████████▉| 22216/22222 [01:05<00:00, 337.34it/s]\n"
     ]
    },
    {
     "name": "stdout",
     "output_type": "stream",
     "text": [
      "EvaluatorHoldout: Processed 9989 (100.0%) in 4.39 sec. Users per second: 2273\n",
      "SLIMElasticNetRecommender: URM Detected 460 ( 3.6%) users with no interactions.\n",
      "SLIMElasticNetRecommender: URM Detected 328 ( 1.5%) items with no interactions.\n"
     ]
    },
    {
     "name": "stderr",
     "output_type": "stream",
     "text": [
      "100%|█████████▉| 22216/22222 [01:07<00:00, 329.74it/s]\n"
     ]
    },
    {
     "name": "stdout",
     "output_type": "stream",
     "text": [
      "EvaluatorHoldout: Processed 10024 (100.0%) in 4.30 sec. Users per second: 2330\n",
      "SLIMElasticNetRecommender: URM Detected 426 ( 3.4%) users with no interactions.\n",
      "SLIMElasticNetRecommender: URM Detected 344 ( 1.5%) items with no interactions.\n"
     ]
    },
    {
     "name": "stderr",
     "output_type": "stream",
     "text": [
      "100%|█████████▉| 22216/22222 [00:53<00:00, 416.95it/s]\n"
     ]
    },
    {
     "name": "stdout",
     "output_type": "stream",
     "text": [
      "EvaluatorHoldout: Processed 10030 (100.0%) in 5.43 sec. Users per second: 1847\n",
      "SLIMElasticNetRecommender: URM Detected 471 ( 3.7%) users with no interactions.\n",
      "SLIMElasticNetRecommender: URM Detected 362 ( 1.6%) items with no interactions.\n"
     ]
    },
    {
     "name": "stderr",
     "output_type": "stream",
     "text": [
      "100%|█████████▉| 22216/22222 [00:57<00:00, 385.20it/s]\n"
     ]
    },
    {
     "name": "stdout",
     "output_type": "stream",
     "text": [
      "EvaluatorHoldout: Processed 10052 (100.0%) in 4.95 sec. Users per second: 2030\n",
      "SLIMElasticNetRecommender: URM Detected 478 ( 3.8%) users with no interactions.\n",
      "SLIMElasticNetRecommender: URM Detected 329 ( 1.5%) items with no interactions.\n"
     ]
    },
    {
     "name": "stderr",
     "output_type": "stream",
     "text": [
      "100%|█████████▉| 22216/22222 [00:57<00:00, 388.46it/s]\n"
     ]
    },
    {
     "name": "stdout",
     "output_type": "stream",
     "text": [
      "EvaluatorHoldout: Processed 10045 (100.0%) in 4.70 sec. Users per second: 2139\n",
      "SLIMElasticNetRecommender: URM Detected 460 ( 3.6%) users with no interactions.\n",
      "SLIMElasticNetRecommender: URM Detected 348 ( 1.6%) items with no interactions.\n"
     ]
    },
    {
     "name": "stderr",
     "output_type": "stream",
     "text": [
      "100%|█████████▉| 22216/22222 [00:57<00:00, 385.36it/s]\n"
     ]
    },
    {
     "name": "stdout",
     "output_type": "stream",
     "text": [
      "EvaluatorHoldout: Processed 10068 (100.0%) in 5.00 sec. Users per second: 2012\n"
     ]
    },
    {
     "name": "stderr",
     "output_type": "stream",
     "text": [
      "[I 2024-01-10 09:22:35,177] Trial 188 finished with value: 0.02929802398159053 and parameters: {'alpha': 0.0006723556565196359, 'l1_ratio': 0.08372175248010484, 'topK': 8006}. Best is trial 129 with value: 0.029857465484101224.\n"
     ]
    },
    {
     "name": "stdout",
     "output_type": "stream",
     "text": [
      "SLIMElasticNetRecommender: URM Detected 508 ( 4.0%) users with no interactions.\n",
      "SLIMElasticNetRecommender: URM Detected 332 ( 1.5%) items with no interactions.\n"
     ]
    },
    {
     "name": "stderr",
     "output_type": "stream",
     "text": [
      "100%|█████████▉| 22216/22222 [00:28<00:00, 778.97it/s] \n"
     ]
    },
    {
     "name": "stdout",
     "output_type": "stream",
     "text": [
      "EvaluatorHoldout: Processed 10057 (100.0%) in 4.45 sec. Users per second: 2258\n",
      "SLIMElasticNetRecommender: URM Detected 440 ( 3.5%) users with no interactions.\n",
      "SLIMElasticNetRecommender: URM Detected 325 ( 1.5%) items with no interactions.\n"
     ]
    },
    {
     "name": "stderr",
     "output_type": "stream",
     "text": [
      "100%|█████████▉| 22216/22222 [00:29<00:00, 748.21it/s] \n"
     ]
    },
    {
     "name": "stdout",
     "output_type": "stream",
     "text": [
      "EvaluatorHoldout: Processed 10040 (100.0%) in 4.02 sec. Users per second: 2500\n",
      "SLIMElasticNetRecommender: URM Detected 479 ( 3.8%) users with no interactions.\n",
      "SLIMElasticNetRecommender: URM Detected 345 ( 1.6%) items with no interactions.\n"
     ]
    },
    {
     "name": "stderr",
     "output_type": "stream",
     "text": [
      "100%|█████████▉| 22216/22222 [00:28<00:00, 792.71it/s] \n"
     ]
    },
    {
     "name": "stdout",
     "output_type": "stream",
     "text": [
      "EvaluatorHoldout: Processed 10017 (100.0%) in 4.43 sec. Users per second: 2260\n",
      "SLIMElasticNetRecommender: URM Detected 451 ( 3.6%) users with no interactions.\n",
      "SLIMElasticNetRecommender: URM Detected 311 ( 1.4%) items with no interactions.\n"
     ]
    },
    {
     "name": "stderr",
     "output_type": "stream",
     "text": [
      "100%|█████████▉| 22216/22222 [00:28<00:00, 784.96it/s] \n"
     ]
    },
    {
     "name": "stdout",
     "output_type": "stream",
     "text": [
      "EvaluatorHoldout: Processed 10037 (100.0%) in 3.36 sec. Users per second: 2991\n",
      "SLIMElasticNetRecommender: URM Detected 449 ( 3.6%) users with no interactions.\n",
      "SLIMElasticNetRecommender: URM Detected 320 ( 1.4%) items with no interactions.\n"
     ]
    },
    {
     "name": "stderr",
     "output_type": "stream",
     "text": [
      "100%|█████████▉| 22216/22222 [00:29<00:00, 764.10it/s] \n"
     ]
    },
    {
     "name": "stdout",
     "output_type": "stream",
     "text": [
      "EvaluatorHoldout: Processed 9989 (100.0%) in 4.19 sec. Users per second: 2386\n",
      "SLIMElasticNetRecommender: URM Detected 460 ( 3.6%) users with no interactions.\n",
      "SLIMElasticNetRecommender: URM Detected 328 ( 1.5%) items with no interactions.\n"
     ]
    },
    {
     "name": "stderr",
     "output_type": "stream",
     "text": [
      " 50%|████▉     | 11048/22222 [00:15<00:14, 753.95it/s][W 2024-01-10 09:25:44,887] Trial 189 failed with parameters: {'alpha': 0.0013916340441182929, 'l1_ratio': 0.14368546823180048, 'topK': 8177} because of the following error: KeyboardInterrupt().\n",
      "Traceback (most recent call last):\n",
      "  File \"/home/japo/miniconda3/envs/RecSysFramework/lib/python3.8/multiprocessing/pool.py\", line 851, in next\n",
      "    item = self._items.popleft()\n",
      "IndexError: pop from an empty deque\n",
      "\n",
      "During handling of the above exception, another exception occurred:\n",
      "\n",
      "Traceback (most recent call last):\n",
      "  File \"/home/japo/miniconda3/envs/RecSysFramework/lib/python3.8/site-packages/optuna/study/_optimize.py\", line 200, in _run_trial\n",
      "    value_or_values = func(trial)\n",
      "  File \"/tmp/ipykernel_255065/2072543649.py\", line 12, in objective\n",
      "    recommender.fit(workers=8, **params)\n",
      "  File \"/home/japo/RecSys-Challenge/Recommenders/SLIM/SLIMElasticNetRecommender.py\", line 240, in fit\n",
      "    for values_, rows_, cols_ in pool.imap_unordered(_pfit, itemchunks, pool_chunksize):\n",
      "  File \"/home/japo/miniconda3/envs/RecSysFramework/lib/python3.8/multiprocessing/pool.py\", line 448, in <genexpr>\n",
      "    return (item for chunk in result for item in chunk)\n",
      "  File \"/home/japo/miniconda3/envs/RecSysFramework/lib/python3.8/multiprocessing/pool.py\", line 856, in next\n",
      "    self._cond.wait(timeout)\n",
      "  File \"/home/japo/miniconda3/envs/RecSysFramework/lib/python3.8/threading.py\", line 302, in wait\n",
      "    waiter.acquire()\n",
      "KeyboardInterrupt\n",
      "[W 2024-01-10 09:25:44,890] Trial 189 failed with value None.\n"
     ]
    },
    {
     "ename": "KeyboardInterrupt",
     "evalue": "",
     "output_type": "error",
     "traceback": [
      "\u001b[0;31m---------------------------------------------------------------------------\u001b[0m",
      "\u001b[0;31mIndexError\u001b[0m                                Traceback (most recent call last)",
      "File \u001b[0;32m~/miniconda3/envs/RecSysFramework/lib/python3.8/multiprocessing/pool.py:851\u001b[0m, in \u001b[0;36mIMapIterator.next\u001b[0;34m(self, timeout)\u001b[0m\n\u001b[1;32m    850\u001b[0m \u001b[38;5;28;01mtry\u001b[39;00m:\n\u001b[0;32m--> 851\u001b[0m     item \u001b[38;5;241m=\u001b[39m \u001b[38;5;28;43mself\u001b[39;49m\u001b[38;5;241;43m.\u001b[39;49m\u001b[43m_items\u001b[49m\u001b[38;5;241;43m.\u001b[39;49m\u001b[43mpopleft\u001b[49m\u001b[43m(\u001b[49m\u001b[43m)\u001b[49m\n\u001b[1;32m    852\u001b[0m \u001b[38;5;28;01mexcept\u001b[39;00m \u001b[38;5;167;01mIndexError\u001b[39;00m:\n",
      "\u001b[0;31mIndexError\u001b[0m: pop from an empty deque",
      "\nDuring handling of the above exception, another exception occurred:\n",
      "\u001b[0;31mKeyboardInterrupt\u001b[0m                         Traceback (most recent call last)",
      "Cell \u001b[0;32mIn[16], line 1\u001b[0m\n\u001b[0;32m----> 1\u001b[0m \u001b[43mstudy\u001b[49m\u001b[38;5;241;43m.\u001b[39;49m\u001b[43moptimize\u001b[49m\u001b[43m(\u001b[49m\u001b[43mobjective\u001b[49m\u001b[43m,\u001b[49m\u001b[43m \u001b[49m\u001b[43mn_trials\u001b[49m\u001b[38;5;241;43m=\u001b[39;49m\u001b[38;5;241;43m200\u001b[39;49m\u001b[43m)\u001b[49m\n",
      "File \u001b[0;32m~/miniconda3/envs/RecSysFramework/lib/python3.8/site-packages/optuna/study/study.py:451\u001b[0m, in \u001b[0;36mStudy.optimize\u001b[0;34m(self, func, n_trials, timeout, n_jobs, catch, callbacks, gc_after_trial, show_progress_bar)\u001b[0m\n\u001b[1;32m    348\u001b[0m \u001b[38;5;28;01mdef\u001b[39;00m \u001b[38;5;21moptimize\u001b[39m(\n\u001b[1;32m    349\u001b[0m     \u001b[38;5;28mself\u001b[39m,\n\u001b[1;32m    350\u001b[0m     func: ObjectiveFuncType,\n\u001b[0;32m   (...)\u001b[0m\n\u001b[1;32m    357\u001b[0m     show_progress_bar: \u001b[38;5;28mbool\u001b[39m \u001b[38;5;241m=\u001b[39m \u001b[38;5;28;01mFalse\u001b[39;00m,\n\u001b[1;32m    358\u001b[0m ) \u001b[38;5;241m-\u001b[39m\u001b[38;5;241m>\u001b[39m \u001b[38;5;28;01mNone\u001b[39;00m:\n\u001b[1;32m    359\u001b[0m \u001b[38;5;250m    \u001b[39m\u001b[38;5;124;03m\"\"\"Optimize an objective function.\u001b[39;00m\n\u001b[1;32m    360\u001b[0m \n\u001b[1;32m    361\u001b[0m \u001b[38;5;124;03m    Optimization is done by choosing a suitable set of hyperparameter values from a given\u001b[39;00m\n\u001b[0;32m   (...)\u001b[0m\n\u001b[1;32m    449\u001b[0m \u001b[38;5;124;03m            If nested invocation of this method occurs.\u001b[39;00m\n\u001b[1;32m    450\u001b[0m \u001b[38;5;124;03m    \"\"\"\u001b[39;00m\n\u001b[0;32m--> 451\u001b[0m     \u001b[43m_optimize\u001b[49m\u001b[43m(\u001b[49m\n\u001b[1;32m    452\u001b[0m \u001b[43m        \u001b[49m\u001b[43mstudy\u001b[49m\u001b[38;5;241;43m=\u001b[39;49m\u001b[38;5;28;43mself\u001b[39;49m\u001b[43m,\u001b[49m\n\u001b[1;32m    453\u001b[0m \u001b[43m        \u001b[49m\u001b[43mfunc\u001b[49m\u001b[38;5;241;43m=\u001b[39;49m\u001b[43mfunc\u001b[49m\u001b[43m,\u001b[49m\n\u001b[1;32m    454\u001b[0m \u001b[43m        \u001b[49m\u001b[43mn_trials\u001b[49m\u001b[38;5;241;43m=\u001b[39;49m\u001b[43mn_trials\u001b[49m\u001b[43m,\u001b[49m\n\u001b[1;32m    455\u001b[0m \u001b[43m        \u001b[49m\u001b[43mtimeout\u001b[49m\u001b[38;5;241;43m=\u001b[39;49m\u001b[43mtimeout\u001b[49m\u001b[43m,\u001b[49m\n\u001b[1;32m    456\u001b[0m \u001b[43m        \u001b[49m\u001b[43mn_jobs\u001b[49m\u001b[38;5;241;43m=\u001b[39;49m\u001b[43mn_jobs\u001b[49m\u001b[43m,\u001b[49m\n\u001b[1;32m    457\u001b[0m \u001b[43m        \u001b[49m\u001b[43mcatch\u001b[49m\u001b[38;5;241;43m=\u001b[39;49m\u001b[38;5;28;43mtuple\u001b[39;49m\u001b[43m(\u001b[49m\u001b[43mcatch\u001b[49m\u001b[43m)\u001b[49m\u001b[43m \u001b[49m\u001b[38;5;28;43;01mif\u001b[39;49;00m\u001b[43m \u001b[49m\u001b[38;5;28;43misinstance\u001b[39;49m\u001b[43m(\u001b[49m\u001b[43mcatch\u001b[49m\u001b[43m,\u001b[49m\u001b[43m \u001b[49m\u001b[43mIterable\u001b[49m\u001b[43m)\u001b[49m\u001b[43m \u001b[49m\u001b[38;5;28;43;01melse\u001b[39;49;00m\u001b[43m \u001b[49m\u001b[43m(\u001b[49m\u001b[43mcatch\u001b[49m\u001b[43m,\u001b[49m\u001b[43m)\u001b[49m\u001b[43m,\u001b[49m\n\u001b[1;32m    458\u001b[0m \u001b[43m        \u001b[49m\u001b[43mcallbacks\u001b[49m\u001b[38;5;241;43m=\u001b[39;49m\u001b[43mcallbacks\u001b[49m\u001b[43m,\u001b[49m\n\u001b[1;32m    459\u001b[0m \u001b[43m        \u001b[49m\u001b[43mgc_after_trial\u001b[49m\u001b[38;5;241;43m=\u001b[39;49m\u001b[43mgc_after_trial\u001b[49m\u001b[43m,\u001b[49m\n\u001b[1;32m    460\u001b[0m \u001b[43m        \u001b[49m\u001b[43mshow_progress_bar\u001b[49m\u001b[38;5;241;43m=\u001b[39;49m\u001b[43mshow_progress_bar\u001b[49m\u001b[43m,\u001b[49m\n\u001b[1;32m    461\u001b[0m \u001b[43m    \u001b[49m\u001b[43m)\u001b[49m\n",
      "File \u001b[0;32m~/miniconda3/envs/RecSysFramework/lib/python3.8/site-packages/optuna/study/_optimize.py:66\u001b[0m, in \u001b[0;36m_optimize\u001b[0;34m(study, func, n_trials, timeout, n_jobs, catch, callbacks, gc_after_trial, show_progress_bar)\u001b[0m\n\u001b[1;32m     64\u001b[0m \u001b[38;5;28;01mtry\u001b[39;00m:\n\u001b[1;32m     65\u001b[0m     \u001b[38;5;28;01mif\u001b[39;00m n_jobs \u001b[38;5;241m==\u001b[39m \u001b[38;5;241m1\u001b[39m:\n\u001b[0;32m---> 66\u001b[0m         \u001b[43m_optimize_sequential\u001b[49m\u001b[43m(\u001b[49m\n\u001b[1;32m     67\u001b[0m \u001b[43m            \u001b[49m\u001b[43mstudy\u001b[49m\u001b[43m,\u001b[49m\n\u001b[1;32m     68\u001b[0m \u001b[43m            \u001b[49m\u001b[43mfunc\u001b[49m\u001b[43m,\u001b[49m\n\u001b[1;32m     69\u001b[0m \u001b[43m            \u001b[49m\u001b[43mn_trials\u001b[49m\u001b[43m,\u001b[49m\n\u001b[1;32m     70\u001b[0m \u001b[43m            \u001b[49m\u001b[43mtimeout\u001b[49m\u001b[43m,\u001b[49m\n\u001b[1;32m     71\u001b[0m \u001b[43m            \u001b[49m\u001b[43mcatch\u001b[49m\u001b[43m,\u001b[49m\n\u001b[1;32m     72\u001b[0m \u001b[43m            \u001b[49m\u001b[43mcallbacks\u001b[49m\u001b[43m,\u001b[49m\n\u001b[1;32m     73\u001b[0m \u001b[43m            \u001b[49m\u001b[43mgc_after_trial\u001b[49m\u001b[43m,\u001b[49m\n\u001b[1;32m     74\u001b[0m \u001b[43m            \u001b[49m\u001b[43mreseed_sampler_rng\u001b[49m\u001b[38;5;241;43m=\u001b[39;49m\u001b[38;5;28;43;01mFalse\u001b[39;49;00m\u001b[43m,\u001b[49m\n\u001b[1;32m     75\u001b[0m \u001b[43m            \u001b[49m\u001b[43mtime_start\u001b[49m\u001b[38;5;241;43m=\u001b[39;49m\u001b[38;5;28;43;01mNone\u001b[39;49;00m\u001b[43m,\u001b[49m\n\u001b[1;32m     76\u001b[0m \u001b[43m            \u001b[49m\u001b[43mprogress_bar\u001b[49m\u001b[38;5;241;43m=\u001b[39;49m\u001b[43mprogress_bar\u001b[49m\u001b[43m,\u001b[49m\n\u001b[1;32m     77\u001b[0m \u001b[43m        \u001b[49m\u001b[43m)\u001b[49m\n\u001b[1;32m     78\u001b[0m     \u001b[38;5;28;01melse\u001b[39;00m:\n\u001b[1;32m     79\u001b[0m         \u001b[38;5;28;01mif\u001b[39;00m n_jobs \u001b[38;5;241m==\u001b[39m \u001b[38;5;241m-\u001b[39m\u001b[38;5;241m1\u001b[39m:\n",
      "File \u001b[0;32m~/miniconda3/envs/RecSysFramework/lib/python3.8/site-packages/optuna/study/_optimize.py:163\u001b[0m, in \u001b[0;36m_optimize_sequential\u001b[0;34m(study, func, n_trials, timeout, catch, callbacks, gc_after_trial, reseed_sampler_rng, time_start, progress_bar)\u001b[0m\n\u001b[1;32m    160\u001b[0m         \u001b[38;5;28;01mbreak\u001b[39;00m\n\u001b[1;32m    162\u001b[0m \u001b[38;5;28;01mtry\u001b[39;00m:\n\u001b[0;32m--> 163\u001b[0m     frozen_trial \u001b[38;5;241m=\u001b[39m \u001b[43m_run_trial\u001b[49m\u001b[43m(\u001b[49m\u001b[43mstudy\u001b[49m\u001b[43m,\u001b[49m\u001b[43m \u001b[49m\u001b[43mfunc\u001b[49m\u001b[43m,\u001b[49m\u001b[43m \u001b[49m\u001b[43mcatch\u001b[49m\u001b[43m)\u001b[49m\n\u001b[1;32m    164\u001b[0m \u001b[38;5;28;01mfinally\u001b[39;00m:\n\u001b[1;32m    165\u001b[0m     \u001b[38;5;66;03m# The following line mitigates memory problems that can be occurred in some\u001b[39;00m\n\u001b[1;32m    166\u001b[0m     \u001b[38;5;66;03m# environments (e.g., services that use computing containers such as GitHub Actions).\u001b[39;00m\n\u001b[1;32m    167\u001b[0m     \u001b[38;5;66;03m# Please refer to the following PR for further details:\u001b[39;00m\n\u001b[1;32m    168\u001b[0m     \u001b[38;5;66;03m# https://github.com/optuna/optuna/pull/325.\u001b[39;00m\n\u001b[1;32m    169\u001b[0m     \u001b[38;5;28;01mif\u001b[39;00m gc_after_trial:\n",
      "File \u001b[0;32m~/miniconda3/envs/RecSysFramework/lib/python3.8/site-packages/optuna/study/_optimize.py:251\u001b[0m, in \u001b[0;36m_run_trial\u001b[0;34m(study, func, catch)\u001b[0m\n\u001b[1;32m    244\u001b[0m         \u001b[38;5;28;01massert\u001b[39;00m \u001b[38;5;28;01mFalse\u001b[39;00m, \u001b[38;5;124m\"\u001b[39m\u001b[38;5;124mShould not reach.\u001b[39m\u001b[38;5;124m\"\u001b[39m\n\u001b[1;32m    246\u001b[0m \u001b[38;5;28;01mif\u001b[39;00m (\n\u001b[1;32m    247\u001b[0m     frozen_trial\u001b[38;5;241m.\u001b[39mstate \u001b[38;5;241m==\u001b[39m TrialState\u001b[38;5;241m.\u001b[39mFAIL\n\u001b[1;32m    248\u001b[0m     \u001b[38;5;129;01mand\u001b[39;00m func_err \u001b[38;5;129;01mis\u001b[39;00m \u001b[38;5;129;01mnot\u001b[39;00m \u001b[38;5;28;01mNone\u001b[39;00m\n\u001b[1;32m    249\u001b[0m     \u001b[38;5;129;01mand\u001b[39;00m \u001b[38;5;129;01mnot\u001b[39;00m \u001b[38;5;28misinstance\u001b[39m(func_err, catch)\n\u001b[1;32m    250\u001b[0m ):\n\u001b[0;32m--> 251\u001b[0m     \u001b[38;5;28;01mraise\u001b[39;00m func_err\n\u001b[1;32m    252\u001b[0m \u001b[38;5;28;01mreturn\u001b[39;00m frozen_trial\n",
      "File \u001b[0;32m~/miniconda3/envs/RecSysFramework/lib/python3.8/site-packages/optuna/study/_optimize.py:200\u001b[0m, in \u001b[0;36m_run_trial\u001b[0;34m(study, func, catch)\u001b[0m\n\u001b[1;32m    198\u001b[0m \u001b[38;5;28;01mwith\u001b[39;00m get_heartbeat_thread(trial\u001b[38;5;241m.\u001b[39m_trial_id, study\u001b[38;5;241m.\u001b[39m_storage):\n\u001b[1;32m    199\u001b[0m     \u001b[38;5;28;01mtry\u001b[39;00m:\n\u001b[0;32m--> 200\u001b[0m         value_or_values \u001b[38;5;241m=\u001b[39m \u001b[43mfunc\u001b[49m\u001b[43m(\u001b[49m\u001b[43mtrial\u001b[49m\u001b[43m)\u001b[49m\n\u001b[1;32m    201\u001b[0m     \u001b[38;5;28;01mexcept\u001b[39;00m exceptions\u001b[38;5;241m.\u001b[39mTrialPruned \u001b[38;5;28;01mas\u001b[39;00m e:\n\u001b[1;32m    202\u001b[0m         \u001b[38;5;66;03m# TODO(mamu): Handle multi-objective cases.\u001b[39;00m\n\u001b[1;32m    203\u001b[0m         state \u001b[38;5;241m=\u001b[39m TrialState\u001b[38;5;241m.\u001b[39mPRUNED\n",
      "Cell \u001b[0;32mIn[15], line 12\u001b[0m, in \u001b[0;36mobjective\u001b[0;34m(trial)\u001b[0m\n\u001b[1;32m     10\u001b[0m \u001b[38;5;28;01mfor\u001b[39;00m i \u001b[38;5;129;01min\u001b[39;00m \u001b[38;5;28mrange\u001b[39m(k_fold):\n\u001b[1;32m     11\u001b[0m     recommender \u001b[38;5;241m=\u001b[39m recommenderClass(urm_train[i])\n\u001b[0;32m---> 12\u001b[0m     \u001b[43mrecommender\u001b[49m\u001b[38;5;241;43m.\u001b[39;49m\u001b[43mfit\u001b[49m\u001b[43m(\u001b[49m\u001b[43mworkers\u001b[49m\u001b[38;5;241;43m=\u001b[39;49m\u001b[38;5;241;43m8\u001b[39;49m\u001b[43m,\u001b[49m\u001b[43m \u001b[49m\u001b[38;5;241;43m*\u001b[39;49m\u001b[38;5;241;43m*\u001b[39;49m\u001b[43mparams\u001b[49m\u001b[43m)\u001b[49m\n\u001b[1;32m     14\u001b[0m     result_dict, _ \u001b[38;5;241m=\u001b[39m evaluator_validation[i]\u001b[38;5;241m.\u001b[39mevaluateRecommender(recommender)\n\u001b[1;32m     16\u001b[0m     MAP \u001b[38;5;241m+\u001b[39m\u001b[38;5;241m=\u001b[39m result_dict[\u001b[38;5;124m\"\u001b[39m\u001b[38;5;124mMAP\u001b[39m\u001b[38;5;124m\"\u001b[39m]\u001b[38;5;241m.\u001b[39mitem()\n",
      "File \u001b[0;32m~/RecSys-Challenge/Recommenders/SLIM/SLIMElasticNetRecommender.py:240\u001b[0m, in \u001b[0;36mMultiThreadSLIM_SLIMElasticNetRecommender.fit\u001b[0;34m(self, alpha, l1_ratio, positive_only, topK, verbose, workers)\u001b[0m\n\u001b[1;32m    238\u001b[0m \u001b[38;5;66;03m# res contains a vector of (values, rows, cols) tuples\u001b[39;00m\n\u001b[1;32m    239\u001b[0m values, rows, cols \u001b[38;5;241m=\u001b[39m [], [], []\n\u001b[0;32m--> 240\u001b[0m \u001b[38;5;28;01mfor\u001b[39;00m values_, rows_, cols_ \u001b[38;5;129;01min\u001b[39;00m pool\u001b[38;5;241m.\u001b[39mimap_unordered(_pfit, itemchunks, pool_chunksize):\n\u001b[1;32m    241\u001b[0m     values\u001b[38;5;241m.\u001b[39mextend(values_)\n\u001b[1;32m    242\u001b[0m     rows\u001b[38;5;241m.\u001b[39mextend(rows_)\n",
      "File \u001b[0;32m~/miniconda3/envs/RecSysFramework/lib/python3.8/multiprocessing/pool.py:448\u001b[0m, in \u001b[0;36m<genexpr>\u001b[0;34m(.0)\u001b[0m\n\u001b[1;32m    440\u001b[0m result \u001b[38;5;241m=\u001b[39m IMapUnorderedIterator(\u001b[38;5;28mself\u001b[39m)\n\u001b[1;32m    441\u001b[0m \u001b[38;5;28mself\u001b[39m\u001b[38;5;241m.\u001b[39m_taskqueue\u001b[38;5;241m.\u001b[39mput(\n\u001b[1;32m    442\u001b[0m     (\n\u001b[1;32m    443\u001b[0m         \u001b[38;5;28mself\u001b[39m\u001b[38;5;241m.\u001b[39m_guarded_task_generation(result\u001b[38;5;241m.\u001b[39m_job,\n\u001b[0;32m   (...)\u001b[0m\n\u001b[1;32m    446\u001b[0m         result\u001b[38;5;241m.\u001b[39m_set_length\n\u001b[1;32m    447\u001b[0m     ))\n\u001b[0;32m--> 448\u001b[0m \u001b[38;5;28;01mreturn\u001b[39;00m (item \u001b[38;5;28;01mfor\u001b[39;00m chunk \u001b[38;5;129;01min\u001b[39;00m result \u001b[38;5;28;01mfor\u001b[39;00m item \u001b[38;5;129;01min\u001b[39;00m chunk)\n",
      "File \u001b[0;32m~/miniconda3/envs/RecSysFramework/lib/python3.8/multiprocessing/pool.py:856\u001b[0m, in \u001b[0;36mIMapIterator.next\u001b[0;34m(self, timeout)\u001b[0m\n\u001b[1;32m    854\u001b[0m     \u001b[38;5;28mself\u001b[39m\u001b[38;5;241m.\u001b[39m_pool \u001b[38;5;241m=\u001b[39m \u001b[38;5;28;01mNone\u001b[39;00m\n\u001b[1;32m    855\u001b[0m     \u001b[38;5;28;01mraise\u001b[39;00m \u001b[38;5;167;01mStopIteration\u001b[39;00m \u001b[38;5;28;01mfrom\u001b[39;00m \u001b[38;5;28;01mNone\u001b[39;00m\n\u001b[0;32m--> 856\u001b[0m \u001b[38;5;28;43mself\u001b[39;49m\u001b[38;5;241;43m.\u001b[39;49m\u001b[43m_cond\u001b[49m\u001b[38;5;241;43m.\u001b[39;49m\u001b[43mwait\u001b[49m\u001b[43m(\u001b[49m\u001b[43mtimeout\u001b[49m\u001b[43m)\u001b[49m\n\u001b[1;32m    857\u001b[0m \u001b[38;5;28;01mtry\u001b[39;00m:\n\u001b[1;32m    858\u001b[0m     item \u001b[38;5;241m=\u001b[39m \u001b[38;5;28mself\u001b[39m\u001b[38;5;241m.\u001b[39m_items\u001b[38;5;241m.\u001b[39mpopleft()\n",
      "File \u001b[0;32m~/miniconda3/envs/RecSysFramework/lib/python3.8/threading.py:302\u001b[0m, in \u001b[0;36mCondition.wait\u001b[0;34m(self, timeout)\u001b[0m\n\u001b[1;32m    300\u001b[0m \u001b[38;5;28;01mtry\u001b[39;00m:    \u001b[38;5;66;03m# restore state no matter what (e.g., KeyboardInterrupt)\u001b[39;00m\n\u001b[1;32m    301\u001b[0m     \u001b[38;5;28;01mif\u001b[39;00m timeout \u001b[38;5;129;01mis\u001b[39;00m \u001b[38;5;28;01mNone\u001b[39;00m:\n\u001b[0;32m--> 302\u001b[0m         \u001b[43mwaiter\u001b[49m\u001b[38;5;241;43m.\u001b[39;49m\u001b[43macquire\u001b[49m\u001b[43m(\u001b[49m\u001b[43m)\u001b[49m\n\u001b[1;32m    303\u001b[0m         gotit \u001b[38;5;241m=\u001b[39m \u001b[38;5;28;01mTrue\u001b[39;00m\n\u001b[1;32m    304\u001b[0m     \u001b[38;5;28;01melse\u001b[39;00m:\n",
      "\u001b[0;31mKeyboardInterrupt\u001b[0m: "
     ]
    }
   ],
   "source": [
    "study.optimize(objective, n_trials=200)"
   ]
  },
  {
   "cell_type": "code",
   "execution_count": 17,
   "metadata": {},
   "outputs": [
    {
     "name": "stdout",
     "output_type": "stream",
     "text": [
      "SLIMElasticNetRecommender: URM Detected 508 ( 4.0%) users with no interactions.\n",
      "SLIMElasticNetRecommender: URM Detected 332 ( 1.5%) items with no interactions.\n"
     ]
    },
    {
     "name": "stderr",
     "output_type": "stream",
     "text": [
      "100%|█████████▉| 22216/22222 [00:39<00:00, 559.02it/s]\n"
     ]
    },
    {
     "name": "stdout",
     "output_type": "stream",
     "text": [
      "EvaluatorHoldout: Processed 10492 (100.0%) in 4.61 sec. Users per second: 2274\n",
      "SLIMElasticNetRecommender: URM Detected 440 ( 3.5%) users with no interactions.\n",
      "SLIMElasticNetRecommender: URM Detected 325 ( 1.5%) items with no interactions.\n"
     ]
    },
    {
     "name": "stderr",
     "output_type": "stream",
     "text": [
      "100%|█████████▉| 22216/22222 [00:40<00:00, 549.45it/s]\n"
     ]
    },
    {
     "name": "stdout",
     "output_type": "stream",
     "text": [
      "EvaluatorHoldout: Processed 10461 (100.0%) in 4.96 sec. Users per second: 2109\n",
      "SLIMElasticNetRecommender: URM Detected 479 ( 3.8%) users with no interactions.\n",
      "SLIMElasticNetRecommender: URM Detected 345 ( 1.6%) items with no interactions.\n"
     ]
    },
    {
     "name": "stderr",
     "output_type": "stream",
     "text": [
      "100%|█████████▉| 22216/22222 [00:40<00:00, 549.68it/s]\n"
     ]
    },
    {
     "name": "stdout",
     "output_type": "stream",
     "text": [
      "EvaluatorHoldout: Processed 10481 (100.0%) in 5.17 sec. Users per second: 2027\n",
      "SLIMElasticNetRecommender: URM Detected 451 ( 3.6%) users with no interactions.\n",
      "SLIMElasticNetRecommender: URM Detected 311 ( 1.4%) items with no interactions.\n"
     ]
    },
    {
     "name": "stderr",
     "output_type": "stream",
     "text": [
      "100%|█████████▉| 22216/22222 [00:39<00:00, 562.86it/s]\n"
     ]
    },
    {
     "name": "stdout",
     "output_type": "stream",
     "text": [
      "EvaluatorHoldout: Processed 10506 (100.0%) in 3.83 sec. Users per second: 2744\n",
      "SLIMElasticNetRecommender: URM Detected 449 ( 3.6%) users with no interactions.\n",
      "SLIMElasticNetRecommender: URM Detected 320 ( 1.4%) items with no interactions.\n"
     ]
    },
    {
     "name": "stderr",
     "output_type": "stream",
     "text": [
      "100%|█████████▉| 22216/22222 [00:40<00:00, 546.29it/s]\n"
     ]
    },
    {
     "name": "stdout",
     "output_type": "stream",
     "text": [
      "EvaluatorHoldout: Processed 10489 (100.0%) in 4.75 sec. Users per second: 2209\n",
      "SLIMElasticNetRecommender: URM Detected 460 ( 3.6%) users with no interactions.\n",
      "SLIMElasticNetRecommender: URM Detected 328 ( 1.5%) items with no interactions.\n"
     ]
    },
    {
     "name": "stderr",
     "output_type": "stream",
     "text": [
      "100%|█████████▉| 22216/22222 [00:40<00:00, 555.08it/s]\n"
     ]
    },
    {
     "name": "stdout",
     "output_type": "stream",
     "text": [
      "EvaluatorHoldout: Processed 10509 (100.0%) in 4.63 sec. Users per second: 2270\n",
      "SLIMElasticNetRecommender: URM Detected 426 ( 3.4%) users with no interactions.\n",
      "SLIMElasticNetRecommender: URM Detected 344 ( 1.5%) items with no interactions.\n"
     ]
    },
    {
     "name": "stderr",
     "output_type": "stream",
     "text": [
      "100%|█████████▉| 22216/22222 [00:39<00:00, 562.53it/s]\n"
     ]
    },
    {
     "name": "stdout",
     "output_type": "stream",
     "text": [
      "EvaluatorHoldout: Processed 10410 (100.0%) in 3.86 sec. Users per second: 2697\n",
      "SLIMElasticNetRecommender: URM Detected 471 ( 3.7%) users with no interactions.\n",
      "SLIMElasticNetRecommender: URM Detected 362 ( 1.6%) items with no interactions.\n"
     ]
    },
    {
     "name": "stderr",
     "output_type": "stream",
     "text": [
      "100%|█████████▉| 22216/22222 [00:40<00:00, 546.92it/s]\n"
     ]
    },
    {
     "name": "stdout",
     "output_type": "stream",
     "text": [
      "EvaluatorHoldout: Processed 10455 (100.0%) in 4.52 sec. Users per second: 2311\n",
      "SLIMElasticNetRecommender: URM Detected 478 ( 3.8%) users with no interactions.\n",
      "SLIMElasticNetRecommender: URM Detected 329 ( 1.5%) items with no interactions.\n"
     ]
    },
    {
     "name": "stderr",
     "output_type": "stream",
     "text": [
      "100%|█████████▉| 22216/22222 [00:37<00:00, 585.95it/s]\n"
     ]
    },
    {
     "name": "stdout",
     "output_type": "stream",
     "text": [
      "EvaluatorHoldout: Processed 10498 (100.0%) in 4.28 sec. Users per second: 2450\n",
      "SLIMElasticNetRecommender: URM Detected 460 ( 3.6%) users with no interactions.\n",
      "SLIMElasticNetRecommender: URM Detected 348 ( 1.6%) items with no interactions.\n"
     ]
    },
    {
     "name": "stderr",
     "output_type": "stream",
     "text": [
      "100%|█████████▉| 22216/22222 [00:39<00:00, 560.76it/s]\n"
     ]
    },
    {
     "name": "stdout",
     "output_type": "stream",
     "text": [
      "EvaluatorHoldout: Processed 10451 (100.0%) in 4.21 sec. Users per second: 2482\n"
     ]
    },
    {
     "data": {
      "text/plain": [
       "0.0376160888619678"
      ]
     },
     "execution_count": 17,
     "metadata": {},
     "output_type": "execute_result"
    }
   ],
   "source": [
    "best_MAP_test = 0\n",
    "\n",
    "for i in range(k_fold):\n",
    "    recommender = recommenderClass(urm_train[i])\n",
    "    recommender.fit(workers=8, **study.best_params)\n",
    "\n",
    "    result_dict, _ = evaluator_test[i].evaluateRecommender(recommender)\n",
    "\n",
    "    best_MAP_test += result_dict[\"MAP\"].item()\n",
    "\n",
    "best_MAP_test /= k_fold\n",
    "best_MAP_test"
   ]
  },
  {
   "cell_type": "code",
   "execution_count": 18,
   "metadata": {},
   "outputs": [
    {
     "name": "stdout",
     "output_type": "stream",
     "text": [
      "SLIMElasticNetRecommender: URM Detected 249 ( 2.0%) users with no interactions.\n",
      "SLIMElasticNetRecommender: URM Detected 113 ( 0.5%) items with no interactions.\n"
     ]
    },
    {
     "name": "stderr",
     "output_type": "stream",
     "text": [
      "100%|█████████▉| 22216/22222 [00:47<00:00, 472.17it/s]\n"
     ]
    },
    {
     "name": "stdout",
     "output_type": "stream",
     "text": [
      "EvaluatorHoldout: Processed 10492 (100.0%) in 5.18 sec. Users per second: 2027\n",
      "SLIMElasticNetRecommender: URM Detected 191 ( 1.5%) users with no interactions.\n",
      "SLIMElasticNetRecommender: URM Detected 101 ( 0.5%) items with no interactions.\n"
     ]
    },
    {
     "name": "stderr",
     "output_type": "stream",
     "text": [
      "100%|█████████▉| 22216/22222 [00:43<00:00, 506.13it/s]\n"
     ]
    },
    {
     "name": "stdout",
     "output_type": "stream",
     "text": [
      "EvaluatorHoldout: Processed 10461 (100.0%) in 4.85 sec. Users per second: 2157\n",
      "SLIMElasticNetRecommender: URM Detected 235 ( 1.9%) users with no interactions.\n",
      "SLIMElasticNetRecommender: URM Detected 105 ( 0.5%) items with no interactions.\n"
     ]
    },
    {
     "name": "stderr",
     "output_type": "stream",
     "text": [
      "100%|█████████▉| 22216/22222 [00:37<00:00, 588.43it/s]\n"
     ]
    },
    {
     "name": "stdout",
     "output_type": "stream",
     "text": [
      "EvaluatorHoldout: Processed 10481 (100.0%) in 3.92 sec. Users per second: 2671\n",
      "SLIMElasticNetRecommender: URM Detected 218 ( 1.7%) users with no interactions.\n",
      "SLIMElasticNetRecommender: URM Detected 112 ( 0.5%) items with no interactions.\n"
     ]
    },
    {
     "name": "stderr",
     "output_type": "stream",
     "text": [
      "100%|█████████▉| 22216/22222 [00:33<00:00, 656.45it/s]\n"
     ]
    },
    {
     "name": "stdout",
     "output_type": "stream",
     "text": [
      "EvaluatorHoldout: Processed 10506 (100.0%) in 4.04 sec. Users per second: 2601\n",
      "SLIMElasticNetRecommender: URM Detected 220 ( 1.7%) users with no interactions.\n",
      "SLIMElasticNetRecommender: URM Detected 134 ( 0.6%) items with no interactions.\n"
     ]
    },
    {
     "name": "stderr",
     "output_type": "stream",
     "text": [
      "100%|█████████▉| 22216/22222 [00:34<00:00, 651.68it/s]\n"
     ]
    },
    {
     "name": "stdout",
     "output_type": "stream",
     "text": [
      "EvaluatorHoldout: Processed 10489 (100.0%) in 4.06 sec. Users per second: 2584\n",
      "SLIMElasticNetRecommender: URM Detected 224 ( 1.8%) users with no interactions.\n",
      "SLIMElasticNetRecommender: URM Detected 109 ( 0.5%) items with no interactions.\n"
     ]
    },
    {
     "name": "stderr",
     "output_type": "stream",
     "text": [
      "100%|█████████▉| 22216/22222 [00:34<00:00, 637.81it/s]\n"
     ]
    },
    {
     "name": "stdout",
     "output_type": "stream",
     "text": [
      "EvaluatorHoldout: Processed 10509 (100.0%) in 3.86 sec. Users per second: 2721\n",
      "SLIMElasticNetRecommender: URM Detected 207 ( 1.6%) users with no interactions.\n",
      "SLIMElasticNetRecommender: URM Detected 114 ( 0.5%) items with no interactions.\n"
     ]
    },
    {
     "name": "stderr",
     "output_type": "stream",
     "text": [
      "100%|█████████▉| 22216/22222 [00:33<00:00, 653.46it/s]\n"
     ]
    },
    {
     "name": "stdout",
     "output_type": "stream",
     "text": [
      "EvaluatorHoldout: Processed 10410 (100.0%) in 3.98 sec. Users per second: 2617\n",
      "SLIMElasticNetRecommender: URM Detected 218 ( 1.7%) users with no interactions.\n",
      "SLIMElasticNetRecommender: URM Detected 141 ( 0.6%) items with no interactions.\n"
     ]
    },
    {
     "name": "stderr",
     "output_type": "stream",
     "text": [
      "100%|█████████▉| 22216/22222 [00:34<00:00, 642.92it/s]\n"
     ]
    },
    {
     "name": "stdout",
     "output_type": "stream",
     "text": [
      "EvaluatorHoldout: Processed 10455 (100.0%) in 3.88 sec. Users per second: 2696\n",
      "SLIMElasticNetRecommender: URM Detected 214 ( 1.7%) users with no interactions.\n",
      "SLIMElasticNetRecommender: URM Detected 117 ( 0.5%) items with no interactions.\n"
     ]
    },
    {
     "name": "stderr",
     "output_type": "stream",
     "text": [
      "100%|█████████▉| 22216/22222 [00:34<00:00, 648.77it/s]\n"
     ]
    },
    {
     "name": "stdout",
     "output_type": "stream",
     "text": [
      "EvaluatorHoldout: Processed 10498 (100.0%) in 3.95 sec. Users per second: 2658\n",
      "SLIMElasticNetRecommender: URM Detected 217 ( 1.7%) users with no interactions.\n",
      "SLIMElasticNetRecommender: URM Detected 113 ( 0.5%) items with no interactions.\n"
     ]
    },
    {
     "name": "stderr",
     "output_type": "stream",
     "text": [
      "100%|█████████▉| 22216/22222 [00:34<00:00, 640.60it/s]\n"
     ]
    },
    {
     "name": "stdout",
     "output_type": "stream",
     "text": [
      "EvaluatorHoldout: Processed 10451 (100.0%) in 3.83 sec. Users per second: 2726\n"
     ]
    },
    {
     "data": {
      "text/plain": [
       "0.04939886597488928"
      ]
     },
     "execution_count": 18,
     "metadata": {},
     "output_type": "execute_result"
    }
   ],
   "source": [
    "best_MAP_test = 0\n",
    "\n",
    "for i in range(k_fold):\n",
    "    recommender = recommenderClass(urm_train_validation[i])\n",
    "    recommender.fit(workers=8,**study.best_params)\n",
    "\n",
    "    result_dict, _ = evaluator_test[i].evaluateRecommender(recommender)\n",
    "\n",
    "    best_MAP_test += result_dict[\"MAP\"].item()\n",
    "\n",
    "best_MAP_test /= k_fold\n",
    "best_MAP_test"
   ]
  }
 ],
 "metadata": {
  "kernelspec": {
   "display_name": "RecSysFramework",
   "language": "python",
   "name": "python3"
  },
  "language_info": {
   "codemirror_mode": {
    "name": "ipython",
    "version": 3
   },
   "file_extension": ".py",
   "mimetype": "text/x-python",
   "name": "python",
   "nbconvert_exporter": "python",
   "pygments_lexer": "ipython3",
   "version": "3.8.18"
  }
 },
 "nbformat": 4,
 "nbformat_minor": 2
}
